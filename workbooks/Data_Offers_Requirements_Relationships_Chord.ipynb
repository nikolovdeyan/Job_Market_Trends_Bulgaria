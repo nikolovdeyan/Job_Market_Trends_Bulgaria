{
 "cells": [
  {
   "cell_type": "markdown",
   "metadata": {},
   "source": [
    "## Requirements Relationships Chord Diagram\n"
   ]
  },
  {
   "cell_type": "code",
   "execution_count": 1,
   "metadata": {},
   "outputs": [
    {
     "data": {
      "text/html": [
       "<script type=\"text/javascript\">window.PlotlyConfig = {MathJaxConfig: 'local'};</script><script type=\"text/javascript\">if (window.MathJax) {MathJax.Hub.Config({SVG: {font: \"STIX-Web\"}});}</script><script>requirejs.config({paths: { 'plotly': ['https://cdn.plot.ly/plotly-latest.min']},});if(!window._Plotly) {require(['plotly'],function(plotly) {window._Plotly=plotly;});}</script>"
      ],
      "text/vnd.plotly.v1+html": [
       "<script type=\"text/javascript\">window.PlotlyConfig = {MathJaxConfig: 'local'};</script><script type=\"text/javascript\">if (window.MathJax) {MathJax.Hub.Config({SVG: {font: \"STIX-Web\"}});}</script><script>requirejs.config({paths: { 'plotly': ['https://cdn.plot.ly/plotly-latest.min']},});if(!window._Plotly) {require(['plotly'],function(plotly) {window._Plotly=plotly;});}</script>"
      ]
     },
     "metadata": {},
     "output_type": "display_data"
    }
   ],
   "source": [
    "import re\n",
    "from itertools import combinations\n",
    "import psycopg2\n",
    "import numpy as np\n",
    "import pandas as pd\n",
    "import plotly\n",
    "import plotly.plotly as py\n",
    "import plotly.graph_objs as go\n",
    "from IPython import display\n",
    "from bs4 import BeautifulSoup as bs\n",
    "\n",
    "from nbstyler import DATA_STYLE as DS\n",
    "\n",
    "plotly.offline.init_notebook_mode(connected=True)\n",
    "\n",
    "%matplotlib notebook\n",
    "%matplotlib inline"
   ]
  },
  {
   "cell_type": "markdown",
   "metadata": {},
   "source": [
    "### Objectives\n",
    "\n",
    "The main objective for this recipe is to try the plotly implementation of the chord diagram and to provide a clean recipe for preparing such charts in the future. \n",
    "\n",
    "\n",
    "### Data Preparation"
   ]
  },
  {
   "cell_type": "code",
   "execution_count": 2,
   "metadata": {},
   "outputs": [],
   "source": [
    "data_querystr = \"\"\"SELECT * FROM data_offers.do_full_offer_history\"\"\"\n",
    "conn = psycopg2.connect('dbname=jobsbg')\n",
    "data_df = pd.read_sql_query(data_querystr, conn, index_col='subm_date')\n",
    "conn.close()"
   ]
  },
  {
   "cell_type": "code",
   "execution_count": 3,
   "metadata": {},
   "outputs": [
    {
     "data": {
      "text/html": [
       "<div>\n",
       "<style scoped>\n",
       "    .dataframe tbody tr th:only-of-type {\n",
       "        vertical-align: middle;\n",
       "    }\n",
       "\n",
       "    .dataframe tbody tr th {\n",
       "        vertical-align: top;\n",
       "    }\n",
       "\n",
       "    .dataframe thead th {\n",
       "        text-align: right;\n",
       "    }\n",
       "</style>\n",
       "<table border=\"1\" class=\"dataframe\">\n",
       "  <thead>\n",
       "    <tr style=\"text-align: right;\">\n",
       "      <th></th>\n",
       "      <th>subm_type</th>\n",
       "      <th>job_id</th>\n",
       "      <th>company_id</th>\n",
       "      <th>norm_salary</th>\n",
       "      <th>job_title</th>\n",
       "      <th>company_name</th>\n",
       "      <th>text_salary</th>\n",
       "      <th>job_location</th>\n",
       "      <th>job_contents</th>\n",
       "    </tr>\n",
       "    <tr>\n",
       "      <th>subm_date</th>\n",
       "      <th></th>\n",
       "      <th></th>\n",
       "      <th></th>\n",
       "      <th></th>\n",
       "      <th></th>\n",
       "      <th></th>\n",
       "      <th></th>\n",
       "      <th></th>\n",
       "      <th></th>\n",
       "    </tr>\n",
       "  </thead>\n",
       "  <tbody>\n",
       "    <tr>\n",
       "      <th>2018-07-05</th>\n",
       "      <td>resubmission</td>\n",
       "      <td>4416332</td>\n",
       "      <td>179347</td>\n",
       "      <td>NaN</td>\n",
       "      <td>Data Analyst</td>\n",
       "      <td>Технементалс Технолоджис (България) ЕАД</td>\n",
       "      <td>None</td>\n",
       "      <td>София</td>\n",
       "      <td>&lt;!DOCTYPE html PUBLIC \"-//W3C//DTD XHTML 1.0 ...</td>\n",
       "    </tr>\n",
       "  </tbody>\n",
       "</table>\n",
       "</div>"
      ],
      "text/plain": [
       "               subm_type   job_id  company_id  norm_salary     job_title  \\\n",
       "subm_date                                                                  \n",
       "2018-07-05  resubmission  4416332      179347          NaN  Data Analyst   \n",
       "\n",
       "                                       company_name text_salary job_location  \\\n",
       "subm_date                                                                      \n",
       "2018-07-05  Технементалс Технолоджис (България) ЕАД        None        София   \n",
       "\n",
       "                                                 job_contents  \n",
       "subm_date                                                      \n",
       "2018-07-05   <!DOCTYPE html PUBLIC \"-//W3C//DTD XHTML 1.0 ...  "
      ]
     },
     "execution_count": 3,
     "metadata": {},
     "output_type": "execute_result"
    }
   ],
   "source": [
    "data_df.head(1)"
   ]
  },
  {
   "cell_type": "markdown",
   "metadata": {},
   "source": [
    "### Relationship Categories Definition"
   ]
  },
  {
   "cell_type": "markdown",
   "metadata": {},
   "source": [
    "In order to build the necessary data we first need to define the scope of the relationships we aim to observe. The search strings we will compare should be of the same semantic category to provide meaningful insight.\n",
    "\n",
    "To explore the data and prepare proper definitions we took a deep dive in the data offers' text contents. We used the `nltk` library for text processing to produce frequency distributions of most common words, bigrams and trigrams. Then those distributions were used to explore different possible relationship categories. See the details in the [Requirements Deep Dive Notebook](./Data_Offers_Requirements_Deep_Dive.ipynb).\n",
    "\n",
    "For the first chord diagram the chosen view is a breakdown by technology. Other possible relationships to explore are skill requirements breakdown, perks & benefits breakdown, job title breakdown, etc."
   ]
  },
  {
   "cell_type": "markdown",
   "metadata": {},
   "source": [
    "### Data Jobs Technology Requirement Relationships"
   ]
  },
  {
   "cell_type": "markdown",
   "metadata": {},
   "source": [
    "A preliminary list of terms that describe most often sought categories is presented below. We are going to use it to construct regex filters for selected key technologies."
   ]
  },
  {
   "cell_type": "code",
   "execution_count": 4,
   "metadata": {},
   "outputs": [],
   "source": [
    "tech_terms_filters = [\n",
    "    r'power bi', r'excel', r'ss[ir]s',\n",
    "    r'sql server', r'postgresql', r'(mysql)|(mariadb)', r't.?sql', r'pl.?sql',\n",
    "    r'pentaho', r'hadoop', r'spark', r'informatica',\n",
    "    r'qlik', r'tableau', r'microstrategy', r'oracle (bi)|(business intelligence)',\n",
    "    r'python', r'vba', r'linux', r'aws']\n",
    "\n",
    "tech_terms_labels = [\n",
    "    'Power BI', 'Excel', 'SSIS/SSRS',\n",
    "    'MS SQL Server', 'PostgreSQL', 'MySQL/MariaDB', 'T-SQL', 'PL/SQL',\n",
    "    'Pentaho', 'Hadoop', 'Spark', 'Informatica',\n",
    "    'Qlik', 'Tableau', 'Microstrategy', 'Oracle BI',\n",
    "    'Python', 'VBA', 'Linux', 'AWS']"
   ]
  },
  {
   "cell_type": "markdown",
   "metadata": {},
   "source": [
    "#### Preparing a square matrix with counts for matching filters"
   ]
  },
  {
   "cell_type": "markdown",
   "metadata": {},
   "source": [
    "First we define a helper function that returns `True` for job offers where both of the provided patterns are found in the job contents. We also prepare a list of all possible filter patterns' combinations."
   ]
  },
  {
   "cell_type": "code",
   "execution_count": 5,
   "metadata": {},
   "outputs": [],
   "source": [
    "def match_terms(first_term, second_term, text):\n",
    "    match_found = re.search(first_term, text, re.IGNORECASE) and re.search(second_term, text, re.IGNORECASE)\n",
    "    return True if match_found else False\n",
    "\n",
    "    \n",
    "def count_matches(first_term, second_term, col):\n",
    "    return sum([match_terms(first_term, second_term, t) for t in col.values])\n",
    "\n",
    "req_combinations = list(combinations(tech_terms_filters, 2))"
   ]
  },
  {
   "cell_type": "markdown",
   "metadata": {},
   "source": [
    "Building the counts in a dictionary with keys composed of tuples with both search terms. "
   ]
  },
  {
   "cell_type": "code",
   "execution_count": 6,
   "metadata": {},
   "outputs": [
    {
     "name": "stdout",
     "output_type": "stream",
     "text": [
      "CPU times: user 3min 15s, sys: 104 ms, total: 3min 15s\n",
      "Wall time: 3min 17s\n"
     ]
    }
   ],
   "source": [
    "%%time\n",
    "match_results = [count_matches(*tup, data_df.job_contents) for tup in req_combinations]\n",
    "match_dict = dict(zip(req_combinations, match_results))"
   ]
  },
  {
   "cell_type": "markdown",
   "metadata": {},
   "source": [
    "Another helper function will unpack the combinations counts into a square matrix form. Finally, a DataFrame is created from the combinations counts matrix. This is our main data source for the chord diagram. "
   ]
  },
  {
   "cell_type": "code",
   "execution_count": 7,
   "metadata": {},
   "outputs": [],
   "source": [
    "def make_matrix(headers, counts):\n",
    "    res = []\n",
    "    for k1 in headers:\n",
    "        row = []\n",
    "        for k2 in headers:\n",
    "            if k1 == k2:\n",
    "                row.append(0)\n",
    "            else:\n",
    "                curr_key = tuple([k1, k2])\n",
    "                cell_value = counts.get(curr_key) if curr_key in counts else counts.get(tuple([k2, k1]))\n",
    "                row.append(cell_value)\n",
    "        res.append(row)\n",
    "    return np.array(res, dtype=int)  "
   ]
  },
  {
   "cell_type": "code",
   "execution_count": 8,
   "metadata": {},
   "outputs": [],
   "source": [
    "tech_terms_matrix = make_matrix(tech_terms_filters, match_dict)"
   ]
  },
  {
   "cell_type": "code",
   "execution_count": 9,
   "metadata": {},
   "outputs": [
    {
     "data": {
      "text/html": [
       "<div>\n",
       "<style scoped>\n",
       "    .dataframe tbody tr th:only-of-type {\n",
       "        vertical-align: middle;\n",
       "    }\n",
       "\n",
       "    .dataframe tbody tr th {\n",
       "        vertical-align: top;\n",
       "    }\n",
       "\n",
       "    .dataframe thead th {\n",
       "        text-align: right;\n",
       "    }\n",
       "</style>\n",
       "<table border=\"1\" class=\"dataframe\">\n",
       "  <thead>\n",
       "    <tr style=\"text-align: right;\">\n",
       "      <th></th>\n",
       "      <th>Power BI</th>\n",
       "      <th>Excel</th>\n",
       "      <th>SSIS/SSRS</th>\n",
       "      <th>MS SQL Server</th>\n",
       "      <th>PostgreSQL</th>\n",
       "      <th>MySQL/MariaDB</th>\n",
       "      <th>T-SQL</th>\n",
       "      <th>PL/SQL</th>\n",
       "      <th>Pentaho</th>\n",
       "      <th>Hadoop</th>\n",
       "      <th>Spark</th>\n",
       "      <th>Informatica</th>\n",
       "      <th>Qlik</th>\n",
       "      <th>Tableau</th>\n",
       "      <th>Microstrategy</th>\n",
       "      <th>Oracle BI</th>\n",
       "      <th>Python</th>\n",
       "      <th>VBA</th>\n",
       "      <th>Linux</th>\n",
       "      <th>AWS</th>\n",
       "    </tr>\n",
       "  </thead>\n",
       "  <tbody>\n",
       "    <tr>\n",
       "      <th>Power BI</th>\n",
       "      <td>0</td>\n",
       "      <td>226</td>\n",
       "      <td>131</td>\n",
       "      <td>128</td>\n",
       "      <td>0</td>\n",
       "      <td>5</td>\n",
       "      <td>47</td>\n",
       "      <td>11</td>\n",
       "      <td>9</td>\n",
       "      <td>22</td>\n",
       "      <td>29</td>\n",
       "      <td>18</td>\n",
       "      <td>188</td>\n",
       "      <td>190</td>\n",
       "      <td>29</td>\n",
       "      <td>178</td>\n",
       "      <td>81</td>\n",
       "      <td>39</td>\n",
       "      <td>8</td>\n",
       "      <td>6</td>\n",
       "    </tr>\n",
       "    <tr>\n",
       "      <th>Excel</th>\n",
       "      <td>226</td>\n",
       "      <td>0</td>\n",
       "      <td>617</td>\n",
       "      <td>270</td>\n",
       "      <td>76</td>\n",
       "      <td>128</td>\n",
       "      <td>184</td>\n",
       "      <td>60</td>\n",
       "      <td>68</td>\n",
       "      <td>86</td>\n",
       "      <td>93</td>\n",
       "      <td>120</td>\n",
       "      <td>422</td>\n",
       "      <td>440</td>\n",
       "      <td>41</td>\n",
       "      <td>642</td>\n",
       "      <td>363</td>\n",
       "      <td>268</td>\n",
       "      <td>77</td>\n",
       "      <td>57</td>\n",
       "    </tr>\n",
       "    <tr>\n",
       "      <th>SSIS/SSRS</th>\n",
       "      <td>131</td>\n",
       "      <td>617</td>\n",
       "      <td>0</td>\n",
       "      <td>275</td>\n",
       "      <td>59</td>\n",
       "      <td>84</td>\n",
       "      <td>131</td>\n",
       "      <td>45</td>\n",
       "      <td>36</td>\n",
       "      <td>34</td>\n",
       "      <td>41</td>\n",
       "      <td>74</td>\n",
       "      <td>91</td>\n",
       "      <td>165</td>\n",
       "      <td>34</td>\n",
       "      <td>279</td>\n",
       "      <td>166</td>\n",
       "      <td>89</td>\n",
       "      <td>18</td>\n",
       "      <td>31</td>\n",
       "    </tr>\n",
       "    <tr>\n",
       "      <th>MS SQL Server</th>\n",
       "      <td>128</td>\n",
       "      <td>270</td>\n",
       "      <td>275</td>\n",
       "      <td>0</td>\n",
       "      <td>93</td>\n",
       "      <td>100</td>\n",
       "      <td>174</td>\n",
       "      <td>12</td>\n",
       "      <td>48</td>\n",
       "      <td>29</td>\n",
       "      <td>29</td>\n",
       "      <td>64</td>\n",
       "      <td>66</td>\n",
       "      <td>109</td>\n",
       "      <td>20</td>\n",
       "      <td>180</td>\n",
       "      <td>115</td>\n",
       "      <td>39</td>\n",
       "      <td>55</td>\n",
       "      <td>10</td>\n",
       "    </tr>\n",
       "    <tr>\n",
       "      <th>PostgreSQL</th>\n",
       "      <td>0</td>\n",
       "      <td>76</td>\n",
       "      <td>59</td>\n",
       "      <td>93</td>\n",
       "      <td>0</td>\n",
       "      <td>106</td>\n",
       "      <td>39</td>\n",
       "      <td>2</td>\n",
       "      <td>49</td>\n",
       "      <td>4</td>\n",
       "      <td>13</td>\n",
       "      <td>2</td>\n",
       "      <td>14</td>\n",
       "      <td>6</td>\n",
       "      <td>0</td>\n",
       "      <td>47</td>\n",
       "      <td>30</td>\n",
       "      <td>0</td>\n",
       "      <td>47</td>\n",
       "      <td>6</td>\n",
       "    </tr>\n",
       "    <tr>\n",
       "      <th>MySQL/MariaDB</th>\n",
       "      <td>5</td>\n",
       "      <td>128</td>\n",
       "      <td>84</td>\n",
       "      <td>100</td>\n",
       "      <td>106</td>\n",
       "      <td>0</td>\n",
       "      <td>40</td>\n",
       "      <td>0</td>\n",
       "      <td>67</td>\n",
       "      <td>6</td>\n",
       "      <td>29</td>\n",
       "      <td>11</td>\n",
       "      <td>17</td>\n",
       "      <td>52</td>\n",
       "      <td>0</td>\n",
       "      <td>74</td>\n",
       "      <td>60</td>\n",
       "      <td>5</td>\n",
       "      <td>48</td>\n",
       "      <td>2</td>\n",
       "    </tr>\n",
       "    <tr>\n",
       "      <th>T-SQL</th>\n",
       "      <td>47</td>\n",
       "      <td>184</td>\n",
       "      <td>131</td>\n",
       "      <td>174</td>\n",
       "      <td>39</td>\n",
       "      <td>40</td>\n",
       "      <td>0</td>\n",
       "      <td>44</td>\n",
       "      <td>41</td>\n",
       "      <td>19</td>\n",
       "      <td>20</td>\n",
       "      <td>13</td>\n",
       "      <td>76</td>\n",
       "      <td>100</td>\n",
       "      <td>17</td>\n",
       "      <td>144</td>\n",
       "      <td>50</td>\n",
       "      <td>27</td>\n",
       "      <td>28</td>\n",
       "      <td>10</td>\n",
       "    </tr>\n",
       "    <tr>\n",
       "      <th>PL/SQL</th>\n",
       "      <td>11</td>\n",
       "      <td>60</td>\n",
       "      <td>45</td>\n",
       "      <td>12</td>\n",
       "      <td>2</td>\n",
       "      <td>0</td>\n",
       "      <td>44</td>\n",
       "      <td>0</td>\n",
       "      <td>8</td>\n",
       "      <td>3</td>\n",
       "      <td>0</td>\n",
       "      <td>32</td>\n",
       "      <td>20</td>\n",
       "      <td>22</td>\n",
       "      <td>26</td>\n",
       "      <td>86</td>\n",
       "      <td>3</td>\n",
       "      <td>7</td>\n",
       "      <td>1</td>\n",
       "      <td>2</td>\n",
       "    </tr>\n",
       "    <tr>\n",
       "      <th>Pentaho</th>\n",
       "      <td>9</td>\n",
       "      <td>68</td>\n",
       "      <td>36</td>\n",
       "      <td>48</td>\n",
       "      <td>49</td>\n",
       "      <td>67</td>\n",
       "      <td>41</td>\n",
       "      <td>8</td>\n",
       "      <td>0</td>\n",
       "      <td>0</td>\n",
       "      <td>8</td>\n",
       "      <td>36</td>\n",
       "      <td>33</td>\n",
       "      <td>41</td>\n",
       "      <td>4</td>\n",
       "      <td>40</td>\n",
       "      <td>38</td>\n",
       "      <td>1</td>\n",
       "      <td>37</td>\n",
       "      <td>15</td>\n",
       "    </tr>\n",
       "    <tr>\n",
       "      <th>Hadoop</th>\n",
       "      <td>22</td>\n",
       "      <td>86</td>\n",
       "      <td>34</td>\n",
       "      <td>29</td>\n",
       "      <td>4</td>\n",
       "      <td>6</td>\n",
       "      <td>19</td>\n",
       "      <td>3</td>\n",
       "      <td>0</td>\n",
       "      <td>0</td>\n",
       "      <td>143</td>\n",
       "      <td>5</td>\n",
       "      <td>9</td>\n",
       "      <td>38</td>\n",
       "      <td>3</td>\n",
       "      <td>36</td>\n",
       "      <td>156</td>\n",
       "      <td>7</td>\n",
       "      <td>99</td>\n",
       "      <td>54</td>\n",
       "    </tr>\n",
       "    <tr>\n",
       "      <th>Spark</th>\n",
       "      <td>29</td>\n",
       "      <td>93</td>\n",
       "      <td>41</td>\n",
       "      <td>29</td>\n",
       "      <td>13</td>\n",
       "      <td>29</td>\n",
       "      <td>20</td>\n",
       "      <td>0</td>\n",
       "      <td>8</td>\n",
       "      <td>143</td>\n",
       "      <td>0</td>\n",
       "      <td>15</td>\n",
       "      <td>16</td>\n",
       "      <td>36</td>\n",
       "      <td>3</td>\n",
       "      <td>35</td>\n",
       "      <td>170</td>\n",
       "      <td>10</td>\n",
       "      <td>81</td>\n",
       "      <td>57</td>\n",
       "    </tr>\n",
       "    <tr>\n",
       "      <th>Informatica</th>\n",
       "      <td>18</td>\n",
       "      <td>120</td>\n",
       "      <td>74</td>\n",
       "      <td>64</td>\n",
       "      <td>2</td>\n",
       "      <td>11</td>\n",
       "      <td>13</td>\n",
       "      <td>32</td>\n",
       "      <td>36</td>\n",
       "      <td>5</td>\n",
       "      <td>15</td>\n",
       "      <td>0</td>\n",
       "      <td>94</td>\n",
       "      <td>72</td>\n",
       "      <td>16</td>\n",
       "      <td>135</td>\n",
       "      <td>31</td>\n",
       "      <td>6</td>\n",
       "      <td>10</td>\n",
       "      <td>21</td>\n",
       "    </tr>\n",
       "    <tr>\n",
       "      <th>Qlik</th>\n",
       "      <td>188</td>\n",
       "      <td>422</td>\n",
       "      <td>91</td>\n",
       "      <td>66</td>\n",
       "      <td>14</td>\n",
       "      <td>17</td>\n",
       "      <td>76</td>\n",
       "      <td>20</td>\n",
       "      <td>33</td>\n",
       "      <td>9</td>\n",
       "      <td>16</td>\n",
       "      <td>94</td>\n",
       "      <td>0</td>\n",
       "      <td>350</td>\n",
       "      <td>40</td>\n",
       "      <td>362</td>\n",
       "      <td>54</td>\n",
       "      <td>31</td>\n",
       "      <td>2</td>\n",
       "      <td>3</td>\n",
       "    </tr>\n",
       "    <tr>\n",
       "      <th>Tableau</th>\n",
       "      <td>190</td>\n",
       "      <td>440</td>\n",
       "      <td>165</td>\n",
       "      <td>109</td>\n",
       "      <td>6</td>\n",
       "      <td>52</td>\n",
       "      <td>100</td>\n",
       "      <td>22</td>\n",
       "      <td>41</td>\n",
       "      <td>38</td>\n",
       "      <td>36</td>\n",
       "      <td>72</td>\n",
       "      <td>350</td>\n",
       "      <td>0</td>\n",
       "      <td>56</td>\n",
       "      <td>429</td>\n",
       "      <td>138</td>\n",
       "      <td>76</td>\n",
       "      <td>19</td>\n",
       "      <td>33</td>\n",
       "    </tr>\n",
       "    <tr>\n",
       "      <th>Microstrategy</th>\n",
       "      <td>29</td>\n",
       "      <td>41</td>\n",
       "      <td>34</td>\n",
       "      <td>20</td>\n",
       "      <td>0</td>\n",
       "      <td>0</td>\n",
       "      <td>17</td>\n",
       "      <td>26</td>\n",
       "      <td>4</td>\n",
       "      <td>3</td>\n",
       "      <td>3</td>\n",
       "      <td>16</td>\n",
       "      <td>40</td>\n",
       "      <td>56</td>\n",
       "      <td>0</td>\n",
       "      <td>66</td>\n",
       "      <td>19</td>\n",
       "      <td>7</td>\n",
       "      <td>8</td>\n",
       "      <td>2</td>\n",
       "    </tr>\n",
       "    <tr>\n",
       "      <th>Oracle BI</th>\n",
       "      <td>178</td>\n",
       "      <td>642</td>\n",
       "      <td>279</td>\n",
       "      <td>180</td>\n",
       "      <td>47</td>\n",
       "      <td>74</td>\n",
       "      <td>144</td>\n",
       "      <td>86</td>\n",
       "      <td>40</td>\n",
       "      <td>36</td>\n",
       "      <td>35</td>\n",
       "      <td>135</td>\n",
       "      <td>362</td>\n",
       "      <td>429</td>\n",
       "      <td>66</td>\n",
       "      <td>0</td>\n",
       "      <td>160</td>\n",
       "      <td>84</td>\n",
       "      <td>3</td>\n",
       "      <td>46</td>\n",
       "    </tr>\n",
       "    <tr>\n",
       "      <th>Python</th>\n",
       "      <td>81</td>\n",
       "      <td>363</td>\n",
       "      <td>166</td>\n",
       "      <td>115</td>\n",
       "      <td>30</td>\n",
       "      <td>60</td>\n",
       "      <td>50</td>\n",
       "      <td>3</td>\n",
       "      <td>38</td>\n",
       "      <td>156</td>\n",
       "      <td>170</td>\n",
       "      <td>31</td>\n",
       "      <td>54</td>\n",
       "      <td>138</td>\n",
       "      <td>19</td>\n",
       "      <td>160</td>\n",
       "      <td>0</td>\n",
       "      <td>67</td>\n",
       "      <td>104</td>\n",
       "      <td>100</td>\n",
       "    </tr>\n",
       "    <tr>\n",
       "      <th>VBA</th>\n",
       "      <td>39</td>\n",
       "      <td>268</td>\n",
       "      <td>89</td>\n",
       "      <td>39</td>\n",
       "      <td>0</td>\n",
       "      <td>5</td>\n",
       "      <td>27</td>\n",
       "      <td>7</td>\n",
       "      <td>1</td>\n",
       "      <td>7</td>\n",
       "      <td>10</td>\n",
       "      <td>6</td>\n",
       "      <td>31</td>\n",
       "      <td>76</td>\n",
       "      <td>7</td>\n",
       "      <td>84</td>\n",
       "      <td>67</td>\n",
       "      <td>0</td>\n",
       "      <td>1</td>\n",
       "      <td>5</td>\n",
       "    </tr>\n",
       "    <tr>\n",
       "      <th>Linux</th>\n",
       "      <td>8</td>\n",
       "      <td>77</td>\n",
       "      <td>18</td>\n",
       "      <td>55</td>\n",
       "      <td>47</td>\n",
       "      <td>48</td>\n",
       "      <td>28</td>\n",
       "      <td>1</td>\n",
       "      <td>37</td>\n",
       "      <td>99</td>\n",
       "      <td>81</td>\n",
       "      <td>10</td>\n",
       "      <td>2</td>\n",
       "      <td>19</td>\n",
       "      <td>8</td>\n",
       "      <td>3</td>\n",
       "      <td>104</td>\n",
       "      <td>1</td>\n",
       "      <td>0</td>\n",
       "      <td>26</td>\n",
       "    </tr>\n",
       "    <tr>\n",
       "      <th>AWS</th>\n",
       "      <td>6</td>\n",
       "      <td>57</td>\n",
       "      <td>31</td>\n",
       "      <td>10</td>\n",
       "      <td>6</td>\n",
       "      <td>2</td>\n",
       "      <td>10</td>\n",
       "      <td>2</td>\n",
       "      <td>15</td>\n",
       "      <td>54</td>\n",
       "      <td>57</td>\n",
       "      <td>21</td>\n",
       "      <td>3</td>\n",
       "      <td>33</td>\n",
       "      <td>2</td>\n",
       "      <td>46</td>\n",
       "      <td>100</td>\n",
       "      <td>5</td>\n",
       "      <td>26</td>\n",
       "      <td>0</td>\n",
       "    </tr>\n",
       "  </tbody>\n",
       "</table>\n",
       "</div>"
      ],
      "text/plain": [
       "               Power BI  Excel  SSIS/SSRS  MS SQL Server  PostgreSQL  \\\n",
       "Power BI              0    226        131            128           0   \n",
       "Excel               226      0        617            270          76   \n",
       "SSIS/SSRS           131    617          0            275          59   \n",
       "MS SQL Server       128    270        275              0          93   \n",
       "PostgreSQL            0     76         59             93           0   \n",
       "MySQL/MariaDB         5    128         84            100         106   \n",
       "T-SQL                47    184        131            174          39   \n",
       "PL/SQL               11     60         45             12           2   \n",
       "Pentaho               9     68         36             48          49   \n",
       "Hadoop               22     86         34             29           4   \n",
       "Spark                29     93         41             29          13   \n",
       "Informatica          18    120         74             64           2   \n",
       "Qlik                188    422         91             66          14   \n",
       "Tableau             190    440        165            109           6   \n",
       "Microstrategy        29     41         34             20           0   \n",
       "Oracle BI           178    642        279            180          47   \n",
       "Python               81    363        166            115          30   \n",
       "VBA                  39    268         89             39           0   \n",
       "Linux                 8     77         18             55          47   \n",
       "AWS                   6     57         31             10           6   \n",
       "\n",
       "               MySQL/MariaDB  T-SQL  PL/SQL  Pentaho  Hadoop  Spark  \\\n",
       "Power BI                   5     47      11        9      22     29   \n",
       "Excel                    128    184      60       68      86     93   \n",
       "SSIS/SSRS                 84    131      45       36      34     41   \n",
       "MS SQL Server            100    174      12       48      29     29   \n",
       "PostgreSQL               106     39       2       49       4     13   \n",
       "MySQL/MariaDB              0     40       0       67       6     29   \n",
       "T-SQL                     40      0      44       41      19     20   \n",
       "PL/SQL                     0     44       0        8       3      0   \n",
       "Pentaho                   67     41       8        0       0      8   \n",
       "Hadoop                     6     19       3        0       0    143   \n",
       "Spark                     29     20       0        8     143      0   \n",
       "Informatica               11     13      32       36       5     15   \n",
       "Qlik                      17     76      20       33       9     16   \n",
       "Tableau                   52    100      22       41      38     36   \n",
       "Microstrategy              0     17      26        4       3      3   \n",
       "Oracle BI                 74    144      86       40      36     35   \n",
       "Python                    60     50       3       38     156    170   \n",
       "VBA                        5     27       7        1       7     10   \n",
       "Linux                     48     28       1       37      99     81   \n",
       "AWS                        2     10       2       15      54     57   \n",
       "\n",
       "               Informatica  Qlik  Tableau  Microstrategy  Oracle BI  Python  \\\n",
       "Power BI                18   188      190             29        178      81   \n",
       "Excel                  120   422      440             41        642     363   \n",
       "SSIS/SSRS               74    91      165             34        279     166   \n",
       "MS SQL Server           64    66      109             20        180     115   \n",
       "PostgreSQL               2    14        6              0         47      30   \n",
       "MySQL/MariaDB           11    17       52              0         74      60   \n",
       "T-SQL                   13    76      100             17        144      50   \n",
       "PL/SQL                  32    20       22             26         86       3   \n",
       "Pentaho                 36    33       41              4         40      38   \n",
       "Hadoop                   5     9       38              3         36     156   \n",
       "Spark                   15    16       36              3         35     170   \n",
       "Informatica              0    94       72             16        135      31   \n",
       "Qlik                    94     0      350             40        362      54   \n",
       "Tableau                 72   350        0             56        429     138   \n",
       "Microstrategy           16    40       56              0         66      19   \n",
       "Oracle BI              135   362      429             66          0     160   \n",
       "Python                  31    54      138             19        160       0   \n",
       "VBA                      6    31       76              7         84      67   \n",
       "Linux                   10     2       19              8          3     104   \n",
       "AWS                     21     3       33              2         46     100   \n",
       "\n",
       "               VBA  Linux  AWS  \n",
       "Power BI        39      8    6  \n",
       "Excel          268     77   57  \n",
       "SSIS/SSRS       89     18   31  \n",
       "MS SQL Server   39     55   10  \n",
       "PostgreSQL       0     47    6  \n",
       "MySQL/MariaDB    5     48    2  \n",
       "T-SQL           27     28   10  \n",
       "PL/SQL           7      1    2  \n",
       "Pentaho          1     37   15  \n",
       "Hadoop           7     99   54  \n",
       "Spark           10     81   57  \n",
       "Informatica      6     10   21  \n",
       "Qlik            31      2    3  \n",
       "Tableau         76     19   33  \n",
       "Microstrategy    7      8    2  \n",
       "Oracle BI       84      3   46  \n",
       "Python          67    104  100  \n",
       "VBA              0      1    5  \n",
       "Linux            1      0   26  \n",
       "AWS              5     26    0  "
      ]
     },
     "execution_count": 9,
     "metadata": {},
     "output_type": "execute_result"
    }
   ],
   "source": [
    "tech_terms_df = pd.DataFrame(tech_terms_matrix, columns=tech_terms_labels, index=tech_terms_labels)\n",
    "tech_terms_df"
   ]
  },
  {
   "cell_type": "markdown",
   "metadata": {},
   "source": [
    "We can finally move to Plotly. \n",
    "\n",
    "A chord diagram encodes information in two graphical objects:\n",
    "\n",
    "- Ideograms, represented by distinctly colored arcs of circles;\n",
    "- Ribbons, that are planar shapes bounded by two quadratic Bezier curves and two arcs of circle,that can degenerate to a point;\n"
   ]
  },
  {
   "cell_type": "markdown",
   "metadata": {},
   "source": [
    "### Ideograms Preparation"
   ]
  },
  {
   "cell_type": "markdown",
   "metadata": {},
   "source": [
    "For each of our predefined tech terms we can produce a total hits count by summing up all the entries on the row (or column for that matter). That total count determines the size of each ideogram of the chart.\n",
    "\n",
    "We are going to need a couple of helper functions to process the data in order to get ideogram ends.\n"
   ]
  },
  {
   "cell_type": "code",
   "execution_count": 10,
   "metadata": {},
   "outputs": [],
   "source": [
    "PI = np.pi\n",
    "\n",
    "def moduloAB(x, a, b):\n",
    "    if a >= b:\n",
    "        raise ValueError('Incorrect interval ends')\n",
    "    y = (x-a) % (b-a)\n",
    "    return y+b if y < 0 else y+a\n",
    "\n",
    "\n",
    "def test_2PI(x):\n",
    "    return 0 <= x < 2*PI"
   ]
  },
  {
   "cell_type": "markdown",
   "metadata": {},
   "source": [
    "And now use them to compute the row sums and the lengths of corresponding ideograms."
   ]
  },
  {
   "cell_type": "code",
   "execution_count": 11,
   "metadata": {},
   "outputs": [],
   "source": [
    "row_sum = [np.sum(tech_terms_matrix[k, :]) for k in range(len(tech_terms_filters))]\n",
    "\n",
    "#set the gap between two consecutive ideograms\n",
    "gap = 2*PI*0.005\n",
    "ideogram_length = 2*PI*np.asarray(row_sum)/sum(row_sum)-gap*np.ones(len(tech_terms_filters))"
   ]
  },
  {
   "cell_type": "markdown",
   "metadata": {},
   "source": [
    "The next function returns the list of end angular coordinates for each ideogram arc:\n"
   ]
  },
  {
   "cell_type": "code",
   "execution_count": 12,
   "metadata": {},
   "outputs": [],
   "source": [
    "def get_ideogram_ends(ideogram_len, gap):\n",
    "    ideo_ends = []\n",
    "    left = 0\n",
    "    for k in range(len(ideogram_len)):\n",
    "        right = left+ideogram_len[k]\n",
    "        ideo_ends.append([left, right])\n",
    "        left = right+gap\n",
    "    return ideo_ends\n",
    "\n",
    "ideo_ends = get_ideogram_ends(ideogram_length, gap)"
   ]
  },
  {
   "cell_type": "markdown",
   "metadata": {},
   "source": [
    "The function make_ideogram_arc returns equally spaced points on an ideogram arc, expressed as complex numbers in polar form:"
   ]
  },
  {
   "cell_type": "code",
   "execution_count": 13,
   "metadata": {},
   "outputs": [],
   "source": [
    "def make_ideogram_arc(R, phi, a=50):\n",
    "    if not test_2PI(phi[0]) or not test_2PI(phi[1]):\n",
    "        phi = [moduloAB(t, 0, 2*PI) for t in phi]\n",
    "    length = (phi[1]-phi[0]) % 2*PI\n",
    "    nr = 5 if length <= PI/4 else int(a*length/PI)\n",
    "    if phi[0] < phi[1]:\n",
    "        theta = np.linspace(phi[0], phi[1], nr)\n",
    "    else:\n",
    "        phi = [moduloAB(t, -PI, PI) for t in phi]\n",
    "        theta = np.linspace(phi[0], phi[1], nr)\n",
    "    return R*np.exp(1j*theta)"
   ]
  },
  {
   "cell_type": "code",
   "execution_count": 14,
   "metadata": {},
   "outputs": [],
   "source": [
    "z = make_ideogram_arc(1.3, [11*PI/6, PI/17])"
   ]
  },
  {
   "cell_type": "markdown",
   "metadata": {},
   "source": [
    "### Ribbons Preparation"
   ]
  },
  {
   "cell_type": "markdown",
   "metadata": {},
   "source": [
    "The function map_data maps all matrix entries to the corresponding values in the intervals associated to ideograms:"
   ]
  },
  {
   "cell_type": "code",
   "execution_count": 15,
   "metadata": {},
   "outputs": [],
   "source": [
    "def map_data(data_matrix, row_value, ideogram_length):\n",
    "    mapped = np.zeros(data_matrix.shape)\n",
    "    for j in range(len(tech_terms_filters)):\n",
    "        mapped[:, j] = ideogram_length*data_matrix[:, j]/row_value\n",
    "    return mapped\n",
    "\n",
    "mapped_data = map_data(tech_terms_matrix, row_sum, ideogram_length)"
   ]
  },
  {
   "cell_type": "markdown",
   "metadata": {},
   "source": [
    "The array idx_sort, defined below, has on each row the indices that sort the corresponding row in mapped_data:\n"
   ]
  },
  {
   "cell_type": "code",
   "execution_count": 16,
   "metadata": {},
   "outputs": [],
   "source": [
    "idx_sort = np.argsort(mapped_data, axis=1)"
   ]
  },
  {
   "cell_type": "code",
   "execution_count": 17,
   "metadata": {},
   "outputs": [
    {
     "name": "stdout",
     "output_type": "stream",
     "text": [
      "ribbon ends starting from the ideogram[2]\n",
      " [(1.286925804166983, 1.286925804166983), (1.286925804166983, 1.2908393275578358), (1.2908393275578358, 1.297579284508749), (1.297579284508749, 1.3049714953581377), (1.3049714953581377, 1.3123637062075264), (1.3123637062075264, 1.320190752989232), (1.320190752989232, 1.3291048896017301), (1.3291048896017301, 1.3388886980788621), (1.3388886980788621, 1.3517163580822131), (1.3517163580822131, 1.3678052875779414), (1.3678052875779414, 1.3860683967352545), (1.3860683967352545, 1.40541859572336), (1.40541859572336, 1.4252036306437827), (1.4252036306437827, 1.453685384210545), (1.453685384210545, 1.4821671377773074), (1.4821671377773074, 1.5180411021934583), (1.5180411021934583, 1.5541324845757678), (1.5541324845757678, 1.6139224252693527), (1.6139224252693527, 1.6745820378275715), (1.6745820378275715, 1.80872892294736)]\n"
     ]
    }
   ],
   "source": [
    "def make_ribbon_ends(mapped_data, ideo_ends,  idx_sort):\n",
    "    L = mapped_data.shape[0]\n",
    "    ribbon_boundary = np.zeros((L, L+1))\n",
    "    for k in range(L):\n",
    "        start = ideo_ends[k][0]\n",
    "        ribbon_boundary[k][0] = start\n",
    "        for j in range(1, L+1):\n",
    "            J = idx_sort[k][j-1]\n",
    "            ribbon_boundary[k][j] = start+mapped_data[k][J]\n",
    "            start = ribbon_boundary[k][j]\n",
    "    return [[(ribbon_boundary[k][j], ribbon_boundary[k][j+1]) for j in range(L)] for k in range(L)]\n",
    "\n",
    "\n",
    "ribbon_ends = make_ribbon_ends(mapped_data, ideo_ends, idx_sort)\n",
    "print('ribbon ends starting from the ideogram[2]\\n', ribbon_ends[2])"
   ]
  },
  {
   "cell_type": "code",
   "execution_count": 18,
   "metadata": {},
   "outputs": [],
   "source": [
    "def control_pts(angle, radius):\n",
    "    if len(angle) != 3:\n",
    "        raise InvalidInputError('angle must have len =3')\n",
    "    b_cplx = np.array([np.exp(1j*angle[k]) for k in range(3)])\n",
    "    b_cplx[1] = radius*b_cplx[1]\n",
    "    return zip(b_cplx.real, b_cplx.imag)"
   ]
  },
  {
   "cell_type": "code",
   "execution_count": 19,
   "metadata": {},
   "outputs": [],
   "source": [
    "def ctrl_rib_chords(l, r, radius):\n",
    "    if len(l) != 2 or len(r) != 2:\n",
    "        raise ValueError('the arc ends must be elements in a list of len 2')\n",
    "    return [control_pts([l[j], (l[j]+r[j])/2, r[j]], radius) for j in range(2)]"
   ]
  },
  {
   "cell_type": "code",
   "execution_count": 20,
   "metadata": {},
   "outputs": [
    {
     "data": {
      "text/plain": [
       "'M 1,4 Q -0.5, 2.35 3.745, 1.47'"
      ]
     },
     "execution_count": 20,
     "metadata": {},
     "output_type": "execute_result"
    }
   ],
   "source": [
    "def make_q_bezier(b):\n",
    "    if len(b) != 3:\n",
    "        raise ValueError('control poligon must have 3 points')\n",
    "    A, B, C = b\n",
    "    return 'M ' + str(A[0]) + ',' + str(A[1]) + ' ' + 'Q ' + \\\n",
    "        str(B[0]) + ', ' + str(B[1]) + ' ' + \\\n",
    "        str(C[0]) + ', ' + str(C[1])\n",
    "\n",
    "\n",
    "b = [(1,4), (-0.5, 2.35), (3.745, 1.47)]\n",
    "make_q_bezier(b)"
   ]
  },
  {
   "cell_type": "code",
   "execution_count": 21,
   "metadata": {},
   "outputs": [],
   "source": [
    "def make_ribbon_arc(theta0, theta1):\n",
    "    if test_2PI(theta0) and test_2PI(theta1):\n",
    "        if theta0 < theta1:\n",
    "            theta0 = moduloAB(theta0, -PI, PI)\n",
    "            theta1 = moduloAB(theta1, -PI, PI)\n",
    "            if theta0*theta1 > 0:\n",
    "                raise ValueError('incorrect angle coordinates for ribbon')\n",
    "\n",
    "        nr = int(40*(theta0-theta1)/PI)\n",
    "        if nr <= 2: \n",
    "            nr = 3\n",
    "        theta = np.linspace(theta0, theta1, nr)\n",
    "        pts = np.exp(1j*theta)\n",
    "\n",
    "        string_arc = ''\n",
    "        for k in range(len(theta)):\n",
    "            string_arc += 'L ' + str(pts.real[k]) + ', ' + str(pts.imag[k]) + ' '\n",
    "        return string_arc\n",
    "    else:\n",
    "        raise ValueError('the angle coordinates for an arc side of a ribbon must be in [0, 2*pi]')"
   ]
  },
  {
   "cell_type": "code",
   "execution_count": 22,
   "metadata": {},
   "outputs": [],
   "source": [
    "def make_ideo_shape(path, line_color, fill_color):\n",
    "    return dict(\n",
    "        line=dict(color=line_color, width=0.45),\n",
    "        path=path,\n",
    "        type='path',\n",
    "        fillcolor=fill_color,\n",
    "        layer='below',\n",
    "    )"
   ]
  },
  {
   "cell_type": "code",
   "execution_count": 23,
   "metadata": {},
   "outputs": [],
   "source": [
    "temp_colors = [*DS['colorramp']['acc1'], *DS['colorramp']['acc2']]\n",
    "len_datalist = len(tech_terms_filters)\n",
    "ideo_colors = temp_colors[:len_datalist]"
   ]
  },
  {
   "cell_type": "code",
   "execution_count": 24,
   "metadata": {},
   "outputs": [],
   "source": [
    "def make_ribbon(l, r, line_color, fill_color, radius=0.2):\n",
    "    poligon = ctrl_rib_chords(l, r, radius)\n",
    "    b, c = poligon\n",
    "\n",
    "    return dict(\n",
    "        line=dict(\n",
    "            color=line_color,\n",
    "            width=0.5\n",
    "            ),\n",
    "        path=make_q_bezier(list(b))+make_ribbon_arc(r[0], r[1])+make_q_bezier(list(c)[::-1])+make_ribbon_arc(l[1], l[0]),\n",
    "        type='path',\n",
    "        fillcolor=fill_color,\n",
    "        layer='below'\n",
    "    )\n",
    "\n",
    "\n",
    "def make_self_rel(l, line_color, fill_color, radius):\n",
    "    b = control_pts([l[0], (l[0]+l[1])/2, l[1]], radius)\n",
    "    return dict(\n",
    "        line=dict(\n",
    "            color=line_color,\n",
    "            width=0.5\n",
    "            ),\n",
    "        path=make_q_bezier(b)+make_ribbon_arc(l[1], l[0]),\n",
    "        type='path',\n",
    "        fillcolor=fill_color,\n",
    "        layer='below'\n",
    "    )\n",
    "\n",
    "\n",
    "def invPerm(perm):\n",
    "    inv = [0] * len(perm)\n",
    "    for i, s in enumerate(perm):\n",
    "        inv[s] = i\n",
    "    return inv"
   ]
  },
  {
   "cell_type": "code",
   "execution_count": 25,
   "metadata": {},
   "outputs": [],
   "source": [
    "radii_sribb = [0.4, 0.30, 0.35, 0.39, 0.12]"
   ]
  },
  {
   "cell_type": "code",
   "execution_count": 26,
   "metadata": {},
   "outputs": [],
   "source": [
    "shapes = []\n",
    "ribbon_info = []\n",
    "\n",
    "for k in range(len(tech_terms_filters)):\n",
    "    sigma = idx_sort[k]\n",
    "    sigma_inv = invPerm(sigma)\n",
    "    for j in range(k, len(tech_terms_filters)):\n",
    "        if tech_terms_matrix[k][j] == 0 and tech_terms_matrix[j][k] == 0:\n",
    "            continue\n",
    "        eta = idx_sort[j]\n",
    "        eta_inv = invPerm(eta)\n",
    "        l = ribbon_ends[k][sigma_inv[j]]\n",
    "\n",
    "        if j == k:\n",
    "            shapes.append(make_self_rel(l, DS['colors']['acc1'], ideo_colors[k], radius=radii_sribb[k]))\n",
    "            z = 0.9*np.exp(1j*(l[0]+l[1])/2)\n",
    "            text = tech_terms_labels[k]+' appears in ' + '{:d}'.format(tech_terms_matrix[k][k]),\n",
    "            ribbon_info.append(\n",
    "                go.Scatter(\n",
    "                    x=[z.real],\n",
    "                    y=[z.imag],\n",
    "                    mode='markers',\n",
    "                    marker=dict(size=0.5, color=ideo_colors[k]),\n",
    "                    text=text,\n",
    "                    hoverinfo='text',\n",
    "                ),\n",
    "            )\n",
    "        else:\n",
    "            r = ribbon_ends[j][eta_inv[k]]\n",
    "            zi = 0.9*np.exp(1j*(l[0]+l[1])/2)\n",
    "            zf = 0.9*np.exp(1j*(r[0]+r[1])/2)\n",
    "            texti = tech_terms_labels[k]+' appears with '+tech_terms_labels[j]+' {:d}'.format(tech_terms_matrix[k][j])+' times'\n",
    "            textf = tech_terms_labels[j]+' appears with '+tech_terms_labels[k]+' {:d}'.format(tech_terms_matrix[j][k])+' times'\n",
    "\n",
    "            ribbon_info.append(go.Scatter(\n",
    "                x=[zi.real],\n",
    "                y=[zi.imag],\n",
    "                mode='markers',\n",
    "                marker=dict(size=0.5, color='green'),\n",
    "                text=texti,\n",
    "                hoverinfo='text'\n",
    "            )),\n",
    "            ribbon_info.append(go.Scatter(\n",
    "                x=[zf.real],\n",
    "                y=[zf.imag],\n",
    "                mode='markers',\n",
    "                marker=dict(size=0.5, color='blue'),\n",
    "                text=textf,\n",
    "                hoverinfo='text'\n",
    "            ))\n",
    "            r = (r[1], r[0])\n",
    "            shapes.append(make_ribbon(l, r, 'rgb(175,175,175)', ideo_colors[k]))"
   ]
  },
  {
   "cell_type": "code",
   "execution_count": 27,
   "metadata": {},
   "outputs": [
    {
     "name": "stderr",
     "output_type": "stream",
     "text": [
      "/games/WORKSPACE/jpynb_Job_Market_Trends_Bulgaria/ve-job_market_trends/lib/python3.7/site-packages/plotly/graph_objs/_deprecations.py:39: DeprecationWarning:\n",
      "\n",
      "plotly.graph_objs.Data is deprecated.\n",
      "Please replace it with a list or tuple of instances of the following types\n",
      "  - plotly.graph_objs.Scatter\n",
      "  - plotly.graph_objs.Bar\n",
      "  - plotly.graph_objs.Area\n",
      "  - plotly.graph_objs.Histogram\n",
      "  - etc.\n",
      "\n",
      "\n"
     ]
    }
   ],
   "source": [
    "ideograms = []\n",
    "for k in range(len(ideo_ends)):\n",
    "    z = make_ideogram_arc(1.1, ideo_ends[k])\n",
    "    zi = make_ideogram_arc(1.0, ideo_ends[k])\n",
    "    m = len(z)\n",
    "    n = len(zi)\n",
    "    ideograms.append(go.Scatter(\n",
    "        x=z.real,\n",
    "        y=z.imag,\n",
    "        mode='lines',\n",
    "        line=dict(color=ideo_colors[k], shape='spline', width=0.25),\n",
    "        text=tech_terms_labels[k]+'<br>'+'{:d}'.format(row_sum[k]),\n",
    "        hoverinfo='text',))\n",
    "\n",
    "    path = 'M '\n",
    "    for s in range(m):\n",
    "        path += str(z.real[s])+', '+str(z.imag[s])+' L '\n",
    "\n",
    "    Zi = np.array(zi.tolist()[::-1])\n",
    "\n",
    "    for s in range(m):\n",
    "        path += str(Zi.real[s])+', '+str(Zi.imag[s])+' L '\n",
    "    path += str(z.real[0])+' ,'+str(z.imag[0])\n",
    "\n",
    "    shapes.append(make_ideo_shape(path, 'rgb(150,150,150)', ideo_colors[k]))\n",
    "\n",
    "data = go.Data(ideograms+ribbon_info)\n"
   ]
  },
  {
   "cell_type": "code",
   "execution_count": 28,
   "metadata": {},
   "outputs": [],
   "source": [
    "layout = go.Layout(\n",
    "    paper_bgcolor=DS['colors']['bg1'],\n",
    "    plot_bgcolor=DS['colors']['bg1'],\n",
    "    title='Data Jobs ‒ Technologies in Demand and Relationships Between Them',\n",
    "    titlefont=DS['chart_fonts']['title'],\n",
    "    font=DS['chart_fonts']['text'],\n",
    "    autosize=False,\n",
    "    width=960,\n",
    "    height=525,\n",
    "    margin=dict(\n",
    "        l=280,\n",
    "        r=280,\n",
    "        t=80,\n",
    "        b=10,\n",
    "    ),\n",
    "    showlegend=False,\n",
    "    hidesources=True,\n",
    "    xaxis=dict(\n",
    "        showline=False,\n",
    "        zeroline=False,\n",
    "        showgrid=False,\n",
    "        showticklabels=False,\n",
    "        title='',\n",
    "    ),\n",
    "    yaxis=dict(\n",
    "        showline=False,\n",
    "        zeroline=False,\n",
    "        showgrid=False,\n",
    "        showticklabels=False,\n",
    "        title='',\n",
    "    ),\n",
    "    shapes=shapes,\n",
    "    hovermode='closest',\n",
    "    hoverdistance=40,\n",
    ")"
   ]
  },
  {
   "cell_type": "code",
   "execution_count": 29,
   "metadata": {},
   "outputs": [
    {
     "data": {
      "application/vnd.plotly.v1+json": {
       "config": {
        "linkText": "Export to plot.ly",
        "plotlyServerURL": "https://plot.ly",
        "showLink": true
       },
       "data": [
        {
         "hoverinfo": "text",
         "line": {
          "color": "#f2e6ce",
          "shape": "spline",
          "width": 0.25
         },
         "mode": "lines",
         "text": "Power BI<br>1345",
         "type": "scatter",
         "uid": "34a5d1e7-d1d3-4d72-afbe-3129d9e647c2",
         "x": [
          1.1,
          1.099703519127535,
          1.0988142363299722,
          1.0973326309806566,
          1.0952595017480362,
          1.0925959661651363,
          1.0893434600271446,
          1.0855037366174387,
          1.0810788657624664,
          1.0760712327159947,
          1.0704835368733228,
          1.0643187903161568,
          1.0575803161889292
         ],
         "y": [
          0,
          0.025537619672070362,
          0.051061473133666074,
          0.07655780159507265,
          0.10201286110409577,
          0.1274129299548229,
          0.15274431608439304,
          0.17799336445378727,
          0.20314646440866102,
          0.22819005701625103,
          0.253110642374401,
          0.27789478688876673,
          0.3025291305142773
         ]
        },
        {
         "hoverinfo": "text",
         "line": {
          "color": "#ecd5bb",
          "shape": "spline",
          "width": 0.25
         },
         "mode": "lines",
         "text": "Excel<br>4238",
         "type": "scatter",
         "uid": "09850db1-fb75-49c8-a7bd-721eba37ee7c",
         "x": [
          1.0475557945118,
          1.0404371587698944,
          1.032878995007575,
          1.0248844961372898,
          1.0164570393993013,
          1.0076001849349845,
          0.998317674282862,
          0.9886134287980074,
          0.9784915479954867,
          0.9679563078185363,
          0.95701215883221,
          0.9456637243432581,
          0.933915798447031,
          0.9217733440022369,
          0.9092414905344023,
          0.8963255320689285,
          0.8830309248946535,
          0.8693632852588676,
          0.8553283869947543,
          0.8409321590822609,
          0.8261806831434274,
          0.8110801908732317,
          0.7956370614070395,
          0.7798578186257653,
          0.7637491283998901,
          0.7473177957734916,
          0.730570762089487,
          0.713515102057291,
          0.6961580207641379,
          0.6785068506313249,
          0.6605690483166623,
          0.6423521915644432,
          0.6238639760042584,
          0.6051122119000124,
          0.5861048208505125,
          0.5668498324430252,
          0.5473553808612116,
          0.5276297014488799,
          0.5076811272309993,
          0.4875180853934528,
          0.46714909372300883,
          0.44658275700902056,
          0.42582776340837214,
          0.4048928807752041,
          0.3837869529569745,
          0.3625188960584133,
          0.3410976946749556
         ],
         "y": [
          0.33559925116834205,
          0.3570581446358977,
          0.3783662004885511,
          0.3995144172334884,
          0.4204938609012116,
          0.4412956688196534,
          0.46191105335817384,
          0.48233130563985527,
          0.5025477992205284,
          0.5225519937329752,
          0.5423354384947687,
          0.5618897760782257,
          0.5812067458409654,
          0.6002781874155798,
          0.6190960441569454,
          0.6376523665457161,
          0.6559393155465625,
          0.6739491659197369,
          0.6916743094845667,
          0.7091072583334959,
          0.7262406479953184,
          0.7430672405462659,
          0.759579927667636,
          0.77577173364867,
          0.7916358183334105,
          0.8071654800102951,
          0.8223541582432634,
          0.8371954366431854,
          0.8516830455784349,
          0.8658108648234677,
          0.8795729261442846,
          0.8929634158196835,
          0.9059766770972411,
          0.9186072125829813,
          0.930849686563727,
          0.9426989272611456,
          0.9541499290165452,
          0.9651978544054923,
          0.9758380362813606,
          0.9860659797469449,
          0.9958773640533114,
          1.0052680444250788,
          1.0142340538113594,
          1.0227716045616229,
          1.0308770900257709,
          1.038547086077752,
          1.045778352562067
         ]
        },
        {
         "hoverinfo": "text",
         "line": {
          "color": "#e6c4a9",
          "shape": "spline",
          "width": 0.25
         },
         "mode": "lines",
         "text": "SSIS/SSRS<br>2400",
         "type": "scatter",
         "uid": "02e0539a-ace3-48f9-b99f-219bd8be8af3",
         "x": [
          0.3080806916717963,
          0.28597471494079774,
          0.26374415910871085,
          0.24139870846759878,
          0.2189480973611251,
          0.19640210594398358,
          0.17377055592137047,
          0.15106330627035908,
          0.1282902489450348,
          0.10546130456726473,
          0.08258641810498116,
          0.05967555453985534,
          0.03673869452625655,
          0.013785830043381077,
          -0.009173039957552127,
          -0.032127913909140667,
          -0.0550687919847812,
          -0.07798568045488995,
          -0.10086859604046963,
          -0.1237075702621238,
          -0.1464926537826218,
          -0.16921392074112707,
          -0.1918614730771984,
          -0.21442544484267825,
          -0.23689600649959452,
          -0.2592633692022004
         ],
         "y": [
          1.055976461583793,
          1.0621762859405823,
          1.0679133946795683,
          1.0731852885453543,
          1.0779896709439953,
          1.0823244489434618,
          1.0861877341853838,
          1.0895778437076755,
          1.0924933006776842,
          1.0949328350355427,
          1.0968953840474438,
          1.0983800927686012,
          1.0993863144156866,
          1.0999136106485887,
          1.099961751761368,
          1.099530716782322,
          1.0986206934831226,
          1.0972320782970155,
          1.0953654761461238,
          1.093021700177925,
          1.0902017714110197,
          1.0869069182903455,
          1.0831385761520305,
          1.078898386598117,
          1.0741881967814317,
          1.0690100586009113
         ]
        },
        {
         "hoverinfo": "text",
         "line": {
          "color": "#e1b396",
          "shape": "spline",
          "width": 0.25
         },
         "mode": "lines",
         "text": "MS SQL Server<br>1816",
         "type": "scatter",
         "uid": "a801d3f1-2d8c-4ce6-b288-b608c15745fa",
         "x": [
          -0.29271385578293113,
          -0.3154526527286896,
          -0.33804549674846474,
          -0.36048193463584854,
          -0.3827515855500714,
          -0.4048441458189863,
          -0.4267493937063495,
          -0.44845719414118934,
          -0.4699575034070791,
          -0.49124037378913976,
          -0.5122959581766295,
          -0.5331145146189791,
          -0.553686410833178,
          -0.574002128660417,
          -0.5940522684699285,
          -0.6138275535079863,
          -0.6333188341900539,
          -0.652517092334093,
          -0.6714134453330767
         ],
         "y": [
          1.0603389074407719,
          1.0537977148800586,
          1.0467689535556945,
          1.0392558755192083,
          1.0312619569046977,
          1.022790896320502,
          1.0138466131379358,
          1.0044332456778857,
          0.9945551492960988,
          0.9842168943680587,
          0.9734232641743721,
          0.962179252687653,
          0.9504900622619226,
          0.9383611012255944,
          0.9257979813791626,
          0.9128065153987456,
          0.899392714146691,
          0.8855627838904822,
          0.8713231234312377
         ]
        },
        {
         "hoverinfo": "text",
         "line": {
          "color": "#dba284",
          "shape": "spline",
          "width": 0.25
         },
         "mode": "lines",
         "text": "PostgreSQL<br>593",
         "type": "scatter",
         "uid": "236aa1fd-5679-4cd4-af71-a3a98e127284",
         "x": [
          -0.6984510640374693,
          -0.7205724214795161,
          -0.7421946814281759,
          -0.7633028674349752,
          -0.7838823591197662
         ],
         "y": [
          0.849803572094709,
          0.8311289824107608,
          0.8118787193046315,
          0.7920661162842058,
          0.7717048963566513
         ]
        },
        {
         "hoverinfo": "text",
         "line": {
          "color": "#d59171",
          "shape": "spline",
          "width": 0.25
         },
         "mode": "lines",
         "text": "MySQL/MariaDB<br>834",
         "type": "scatter",
         "uid": "69485acf-bce0-4f9c-a9f0-ed379f0a009a",
         "x": [
          -0.8077353970740434,
          -0.8370970858237526,
          -0.8651057085225881,
          -0.8917159926243329,
          -0.9168849258277476
         ],
         "y": [
          0.7467017666469242,
          0.7136304848486933,
          0.6794057058059131,
          0.6440827497286361,
          0.6077187118970799
         ]
        },
        {
         "hoverinfo": "text",
         "line": {
          "color": "#d0805f",
          "shape": "spline",
          "width": 0.25
         },
         "mode": "lines",
         "text": "T-SQL<br>1204",
         "type": "scatter",
         "uid": "dd4302b1-133c-4646-8e02-437fc1f23d0d",
         "x": [
          -0.9355214045119503,
          -0.969330433905126,
          -0.9994709235294525,
          -1.0258288033207172,
          -1.0483043189259624
         ],
         "y": [
          0.5786187878906007,
          0.5199985672146613,
          0.45941035362645394,
          0.39708345001722906,
          0.3332537395456718
         ]
        },
        {
         "hoverinfo": "text",
         "line": {
          "color": "#ca6f4c",
          "shape": "spline",
          "width": 0.25
         },
         "mode": "lines",
         "text": "PL/SQL<br>384",
         "type": "scatter",
         "uid": "b4cd3774-691e-477e-bedf-5f19af367ff7",
         "x": [
          -1.058254796950984,
          -1.0624315693908644,
          -1.0663918545174949,
          -1.0701348453598558,
          -1.0736597792240905
         ],
         "y": [
          0.3001612645399672,
          0.28502484165711783,
          0.26983034043401843,
          0.2545808569917185,
          0.23927949865476802
         ]
        },
        {
         "hoverinfo": "text",
         "line": {
          "color": "#c45e3a",
          "shape": "spline",
          "width": 0.25
         },
         "mode": "lines",
         "text": "Pentaho<br>579",
         "type": "scatter",
         "uid": "b1c74f4f-1948-49bc-944b-a21d2e9699f1",
         "x": [
          -1.0806459436198816,
          -1.085534833602718,
          -1.0897172260487749,
          -1.0931903989358107,
          -1.095952091822232
         ],
         "y": [
          0.20543696000937975,
          0.17780361367283723,
          0.15005454759041295,
          0.12220782165869316,
          0.0942815593341236
         ]
        },
        {
         "hoverinfo": "text",
         "line": {
          "color": "#bf4d28",
          "shape": "spline",
          "width": 0.25
         },
         "mode": "lines",
         "text": "Hadoop<br>753",
         "type": "scatter",
         "uid": "5d37f791-fb9a-43eb-acc4-04f1f9d03573",
         "x": [
          -1.098372760968622,
          -1.0998043557596195,
          -1.0998470105510931,
          -1.0985006714744203,
          -1.0957670388176446
         ],
         "y": [
          0.05981034995856884,
          0.02074557909937701,
          -0.018345391296553305,
          -0.0574131933465458,
          -0.09640848842716525
         ]
        },
        {
         "hoverinfo": "text",
         "line": {
          "color": "#af4624",
          "shape": "spline",
          "width": 0.25
         },
         "mode": "lines",
         "text": "Spark<br>828",
         "type": "scatter",
         "uid": "ef9d5616-da8b-474a-bb63-ea9f8686739e",
         "x": [
          -1.0921980801276947,
          -1.0861188376959703,
          -1.0783140763307397,
          -1.0687961954702965,
          -1.0575803161889297
         ],
         "y": [
          -0.13077979111995028,
          -0.1742006613131965,
          -0.21734477860529355,
          -0.2601435998601925,
          -0.30252913051427566
         ]
        },
        {
         "hoverinfo": "text",
         "line": {
          "color": "#9f4021",
          "shape": "spline",
          "width": 0.25
         },
         "mode": "lines",
         "text": "Informatica<br>775",
         "type": "scatter",
         "uid": "4cda5f08-bade-459d-aa15-cdf1142c5246",
         "x": [
          -1.0475557945118006,
          -1.0344966968621514,
          -1.0200362728608294,
          -1.0041941105580146,
          -0.9869916697027518
         ],
         "y": [
          -0.3355992511683402,
          -0.37392055865022744,
          -0.41173535438214176,
          -0.4489924145468365,
          -0.4856412708341151
         ]
        },
        {
         "hoverinfo": "text",
         "line": {
          "color": "#8f391e",
          "shape": "spline",
          "width": 0.25
         },
         "mode": "lines",
         "text": "Qlik<br>1888",
         "type": "scatter",
         "uid": "8dc97a87-7451-43db-b12b-9d5f7ea90fd7",
         "x": [
          -0.9712502879376613,
          -0.9600573171949913,
          -0.9484307658987109,
          -0.9363758848254743,
          -0.923898118193992,
          -0.9110031012063159,
          -0.8976966575028728,
          -0.8839847965323945,
          -0.8698737108379349,
          -0.8553697732601961,
          -0.8404795340594299,
          -0.8252097179572132,
          -0.8095672210994331,
          -0.7935591079418528,
          -0.7771926080596661,
          -0.7604751128824809,
          -0.7434141723562058,
          -0.7260174915333473,
          -0.7082929270932592,
          -0.6902484837939123
         ],
         "y": [
          -0.5164037937322016,
          -0.5369263894616805,
          -0.557206498792669,
          -0.5772349628334289,
          -0.597002736340128,
          -0.6165008918018489,
          -0.6357206234724261,
          -0.6546532513472924,
          -0.6732902250835379,
          -0.6916231278614103,
          -0.7096436801855166,
          -0.7273437436240012,
          -0.7447153244840216,
          -0.7617505774218559,
          -0.7784418089860118,
          -0.7947814810917389,
          -0.810762214425375,
          -0.8263767917769873,
          -0.8416181612998042,
          -0.8564794396949675
         ]
        },
        {
         "hoverinfo": "text",
         "line": {
          "color": "#f0f3e7",
          "shape": "spline",
          "width": 0.25
         },
         "mode": "lines",
         "text": "Tableau<br>2372",
         "type": "scatter",
         "uid": "b9b4bf4d-b623-4099-9f7d-3de685b22a7c",
         "x": [
          -0.6630052184988859,
          -0.6440062665188997,
          -0.6247103848497549,
          -0.6051264701752957,
          -0.5852635519817216,
          -0.5651307883943998,
          -0.5447374619553543,
          -0.5240929753434043,
          -0.5032068470388971,
          -0.48208870693506284,
          -0.4607482918979876,
          -0.43919544127727705,
          -0.41744009236945684,
          -0.39549227583622065,
          -0.3733621110796316,
          -0.3510598015763989,
          -0.3285956301734044,
          -0.305979954346619,
          -0.2832232014256258,
          -0.26033586378592055,
          -0.23732849401123643,
          -0.21421170002809456,
          -0.19099614021485212,
          -0.16769251848747407,
          -0.14431157936432426
         ],
         "y": [
          -0.8777380476219797,
          -0.8917712311374415,
          -0.9053932488487372,
          -0.9185978201003892,
          -0.9313788567074833,
          -0.943730465762722,
          -0.955646952353451,
          -0.967122822187388,
          -0.9781527841258605,
          -0.9887317526233692,
          -0.9988548500723651,
          -1.0085174090521483,
          -1.017714974480861,
          -1.026443305669576,
          -1.034698378277535,
          -1.0424763861676387,
          -1.0497737431613268,
          -1.056587084692048,
          -1.0629132693565453,
          -1.0687493803632537,
          -1.0740927268771345,
          -1.0789408452603293,
          -1.0832915002080599,
          -1.0871426857792534,
          -1.0904926263214136
         ]
        },
        {
         "hoverinfo": "text",
         "line": {
          "color": "#e2ecde",
          "shape": "spline",
          "width": 0.25
         },
         "mode": "lines",
         "text": "Microstrategy<br>391",
         "type": "scatter",
         "uid": "d7926563-e30d-4ec6-8d66-7b5c9f420d14",
         "x": [
          -0.1099871691495249,
          -0.09391082579956385,
          -0.07781424985249474,
          -0.06170090923156584,
          -0.04557427547188382
         ],
         "y": [
          -1.0944874702903062,
          -1.0959839217788023,
          -1.0972442492535077,
          -1.0982681811834476,
          -1.0990554969678341
         ]
        },
        {
         "hoverinfo": "text",
         "line": {
          "color": "#d4e5d6",
          "shape": "spline",
          "width": 0.25
         },
         "mode": "lines",
         "text": "Oracle BI<br>3026",
         "type": "scatter",
         "uid": "dc6c565f-7dfc-47b7-860d-0163a7dae9db",
         "x": [
          -0.011029619889313924,
          0.011867189917184676,
          0.03475885795495357,
          0.057635465813344305,
          0.08048710160691998,
          0.1033038642700413,
          0.12607586784675898,
          0.14879324577416506,
          0.17144615515733225,
          0.194024781034007,
          0.2165193406272002,
          0.238920087583824,
          0.26121731619755645,
          0.2834013656140897,
          0.3054626240169498,
          0.32739153279206107,
          0.3491785906692664,
          0.37081435783900335,
          0.39228946004234094,
          0.4135945926326251,
          0.4347205246069572,
          0.4556581026057695,
          0.47639825487875126,
          0.4969319952154238,
          0.5172504268386483,
          0.5373447462593892,
          0.5572062470910503,
          0.5768263238217449,
          0.5961964755428609,
          0.6153083096322953,
          0.6341535453907784,
          0.6527240176297049,
          0.6710116802089091
         ],
         "y": [
          -1.0999447020123772,
          -1.0999359844115792,
          -1.0994506909332804,
          -1.098489031843504,
          -1.0970514238060662,
          -1.0951384897020455,
          -1.0927510583599023,
          -1.0898901641963694,
          -1.0865570467682626,
          -1.0827531502354106,
          -1.078480122734936,
          -1.073739815667156,
          -1.0685342828934157,
          -1.0628657798461993,
          -1.0567367625519044,
          -1.0501498865667058,
          -1.0431080058259667,
          -1.0356141714076954,
          -1.0276716302105886,
          -1.0192838235472264,
          -1.0104543856530348,
          -1.0011871421116585,
          -0.9914861081974272,
          -0.9813554871356344,
          -0.9707996682813794,
          -0.9598232252177652,
          -0.9484309137742757,
          -0.9366276699661887,
          -0.9244186078559167,
          -0.9118090173372095,
          -0.8988043618431689,
          -0.8854102759790723,
          -0.8716325630810364
         ]
        },
        {
         "hoverinfo": "text",
         "line": {
          "color": "#c6decd",
          "shape": "spline",
          "width": 0.25
         },
         "mode": "lines",
         "text": "Python<br>1905",
         "type": "scatter",
         "uid": "e982cb78-fb89-43d0-a0bd-48cb1da23ae2",
         "x": [
          0.6980592168944267,
          0.7161390929115906,
          0.7338892388695025,
          0.7513014821146407,
          0.7683678055731528,
          0.7850803514421341,
          0.8014314248075722,
          0.8174134971873023,
          0.8330192099973204,
          0.8482413779398819,
          0.8630729923118076,
          0.8775072242314811,
          0.8915374277830557,
          0.9051571430764158,
          0.9183600992214842,
          0.931140217215516,
          0.9434916127420357,
          0.9554085988801369,
          0.966885688722899,
          0.9779175979037069
         ],
         "y": [
          -0.8501254788022412,
          -0.8349519744295263,
          -0.8193940352916553,
          -0.8034588246900675,
          -0.7871536796323179,
          -0.7704861074539212,
          -0.7534637823617701,
          -0.7360945419007155,
          -0.7183863833449521,
          -0.7003474600158487,
          -0.6819860775279379,
          -0.6633106899647867,
          -0.6443298959864993,
          -0.6250524348706604,
          -0.6054871824885361,
          -0.5856431472183737,
          -0.5655294657977006,
          -0.5451553991165217,
          -0.5245303279533466,
          -0.5036637486560295
         ]
        },
        {
         "hoverinfo": "text",
         "line": {
          "color": "#b8d7c5",
          "shape": "spline",
          "width": 0.25
         },
         "mode": "lines",
         "text": "VBA<br>769",
         "type": "scatter",
         "uid": "d2dff044-53eb-45cb-8789-117424741b84",
         "x": [
          0.993255515267274,
          1.0098266693994558,
          1.0250554916685557,
          1.0389217388645373,
          1.0514069790069458
         ],
         "y": [
          -0.47269808693408333,
          -0.4361766818269888,
          -0.39907548032939305,
          -0.3614437999394736,
          -0.3233316633048605
         ]
        },
        {
         "hoverinfo": "text",
         "line": {
          "color": "#aad0bc",
          "shape": "spline",
          "width": 0.25
         },
         "mode": "lines",
         "text": "Linux<br>672",
         "type": "scatter",
         "uid": "bd3e36c9-3e7b-4df4-8fa5-f5295ca35409",
         "x": [
          1.061044266110157,
          1.0694944931000319,
          1.0769255296363718,
          1.083330294203987,
          1.0887026832886042
         ],
         "y": [
          -0.29014662733652224,
          -0.25725770975561874,
          -0.22412363466939478,
          -0.19077597768037435,
          -0.15724651792708624
         ]
        },
        {
         "hoverinfo": "text",
         "line": {
          "color": "#9cc9b4",
          "shape": "spline",
          "width": 0.25
         },
         "mode": "lines",
         "text": "AWS<br>486",
         "type": "scatter",
         "uid": "dbe64280-bccc-4c01-92da-1eb1942867a0",
         "x": [
          1.0931047067252175,
          1.0953607945382404,
          1.0971720356483445,
          1.098537694476312,
          1.0994572164023046
         ],
         "y": [
          -0.12297194857030036,
          -0.10091942225634602,
          -0.07882591065930043,
          -0.056700386371426166,
          -0.03455183498594413
         ]
        },
        {
         "hoverinfo": "text",
         "marker": {
          "color": "green",
          "size": 0.5
         },
         "mode": "markers",
         "text": "Power BI appears with Excel 226 times",
         "type": "scatter",
         "uid": "c8d5c198-8301-4694-a93b-696a07a69701",
         "x": [
          0.870849441791994
         ],
         "y": [
          0.2272031023788462
         ]
        },
        {
         "hoverinfo": "text",
         "marker": {
          "color": "blue",
          "size": 0.5
         },
         "mode": "markers",
         "text": "Excel appears with Power BI 226 times",
         "type": "scatter",
         "uid": "5e1971a5-0dba-4cdd-983d-7ed49d2a66db",
         "x": [
          0.7643849422037451
         ],
         "y": [
          0.4750954221334671
         ]
        },
        {
         "hoverinfo": "text",
         "marker": {
          "color": "green",
          "size": 0.5
         },
         "mode": "markers",
         "text": "Power BI appears with SSIS/SSRS 131 times",
         "type": "scatter",
         "uid": "03c208b9-4836-4a7e-a996-3e228dc18cfa",
         "x": [
          0.8952248645627898
         ],
         "y": [
          0.09258748224535848
         ]
        },
        {
         "hoverinfo": "text",
         "marker": {
          "color": "blue",
          "size": 0.5
         },
         "mode": "markers",
         "text": "SSIS/SSRS appears with Power BI 131 times",
         "type": "scatter",
         "uid": "857ed915-6bda-4c7b-8497-78cf264c9ec2",
         "x": [
          0.09241985607780698
         ],
         "y": [
          0.8952421852228354
         ]
        },
        {
         "hoverinfo": "text",
         "marker": {
          "color": "green",
          "size": 0.5
         },
         "mode": "markers",
         "text": "Power BI appears with MS SQL Server 128 times",
         "type": "scatter",
         "uid": "4f4ee4c4-d399-4793-b55c-13e4240517c3",
         "x": [
          0.8973862186793059
         ],
         "y": [
          0.06854177211348539
         ]
        },
        {
         "hoverinfo": "text",
         "marker": {
          "color": "blue",
          "size": 0.5
         },
         "mode": "markers",
         "text": "MS SQL Server appears with Power BI 128 times",
         "type": "scatter",
         "uid": "1c5b8219-20ea-437e-9a16-99001df349d1",
         "x": [
          -0.39245357500509737
         ],
         "y": [
          0.8099260407381148
         ]
        },
        {
         "hoverinfo": "text",
         "marker": {
          "color": "green",
          "size": 0.5
         },
         "mode": "markers",
         "text": "Power BI appears with MySQL/MariaDB 5 times",
         "type": "scatter",
         "uid": "543e8afd-cba9-431a-8ae3-18aac42e98c9",
         "x": [
          0.8999998793120403
         ],
         "y": [
          0.0004660883102054
         ]
        },
        {
         "hoverinfo": "text",
         "marker": {
          "color": "blue",
          "size": 0.5
         },
         "mode": "markers",
         "text": "MySQL/MariaDB appears with Power BI 5 times",
         "type": "scatter",
         "uid": "ee305267-b683-4486-83fd-b877ce9d2ad0",
         "x": [
          -0.6619925259819688
         ],
         "y": [
          0.6097260823878312
         ]
        },
        {
         "hoverinfo": "text",
         "marker": {
          "color": "green",
          "size": 0.5
         },
         "mode": "markers",
         "text": "Power BI appears with T-SQL 47 times",
         "type": "scatter",
         "uid": "a8917807-ef88-44b7-9ffb-9b3e0049be05",
         "x": [
          0.8992315636036166
         ],
         "y": [
          0.03718326261901876
         ]
        },
        {
         "hoverinfo": "text",
         "marker": {
          "color": "blue",
          "size": 0.5
         },
         "mode": "markers",
         "text": "T-SQL appears with Power BI 47 times",
         "type": "scatter",
         "uid": "65bc0577-fb9a-4293-a8b8-dfe088ccfd9e",
         "x": [
          -0.7948644334865496
         ],
         "y": [
          0.4221262043253257
         ]
        },
        {
         "hoverinfo": "text",
         "marker": {
          "color": "green",
          "size": 0.5
         },
         "mode": "markers",
         "text": "Power BI appears with PL/SQL 11 times",
         "type": "scatter",
         "uid": "e1dbaeeb-4eed-42b6-9c93-0ff3be5df8ab",
         "x": [
          0.899978329356437
         ],
         "y": [
          0.0062455335077644634
         ]
        },
        {
         "hoverinfo": "text",
         "marker": {
          "color": "blue",
          "size": 0.5
         },
         "mode": "markers",
         "text": "PL/SQL appears with Power BI 11 times",
         "type": "scatter",
         "uid": "dd44677c-553a-4226-b4fe-788ff9de1cb6",
         "x": [
          -0.8669856373447659
         ],
         "y": [
          0.2415282688173173
         ]
        },
        {
         "hoverinfo": "text",
         "marker": {
          "color": "green",
          "size": 0.5
         },
         "mode": "markers",
         "text": "Power BI appears with Pentaho 9 times",
         "type": "scatter",
         "uid": "ba289f03-50fe-428f-9d63-e439c8033db6",
         "x": [
          0.8999893360327013
         ],
         "y": [
          0.004381213007570788
         ]
        },
        {
         "hoverinfo": "text",
         "marker": {
          "color": "blue",
          "size": 0.5
         },
         "mode": "markers",
         "text": "Pentaho appears with Power BI 9 times",
         "type": "scatter",
         "uid": "f671414f-ce21-4210-8da4-62fa8df55da1",
         "x": [
          -0.8849113624829772
         ],
         "y": [
          0.1641093554570274
         ]
        },
        {
         "hoverinfo": "text",
         "marker": {
          "color": "green",
          "size": 0.5
         },
         "mode": "markers",
         "text": "Power BI appears with Hadoop 22 times",
         "type": "scatter",
         "uid": "b0850410-d1b1-475b-85f8-ed28ce4da385",
         "x": [
          0.8999107116943033
         ],
         "y": [
          0.012677183356435128
         ]
        },
        {
         "hoverinfo": "text",
         "marker": {
          "color": "blue",
          "size": 0.5
         },
         "mode": "markers",
         "text": "Hadoop appears with Power BI 22 times",
         "type": "scatter",
         "uid": "6339b2b6-534d-4780-a05e-2c2d8b82054e",
         "x": [
          -0.8992156926299377
         ],
         "y": [
          0.03756511850189269
         ]
        },
        {
         "hoverinfo": "text",
         "marker": {
          "color": "green",
          "size": 0.5
         },
         "mode": "markers",
         "text": "Power BI appears with Spark 29 times",
         "type": "scatter",
         "uid": "3523eaaf-0ddf-4bd2-8b4a-099907b14f02",
         "x": [
          0.8998311917830456
         ],
         "y": [
          0.017430613709904105
         ]
        },
        {
         "hoverinfo": "text",
         "marker": {
          "color": "blue",
          "size": 0.5
         },
         "mode": "markers",
         "text": "Spark appears with Power BI 29 times",
         "type": "scatter",
         "uid": "ca22b615-189f-4aec-b003-24d16fa8a616",
         "x": [
          -0.891402524790765
         ],
         "y": [
          -0.12410293629342414
         ]
        },
        {
         "hoverinfo": "text",
         "marker": {
          "color": "green",
          "size": 0.5
         },
         "mode": "markers",
         "text": "Power BI appears with Informatica 18 times",
         "type": "scatter",
         "uid": "1be1ec74-f64b-4823-a114-4bc87d5ed572",
         "x": [
          0.8999555099560924
         ],
         "y": [
          0.008948748497402164
         ]
        },
        {
         "hoverinfo": "text",
         "marker": {
          "color": "blue",
          "size": 0.5
         },
         "mode": "markers",
         "text": "Informatica appears with Power BI 18 times",
         "type": "scatter",
         "uid": "34fd290b-51b7-4baf-937f-c08a51a73886",
         "x": [
          -0.8524361124442684
         ],
         "y": [
          -0.2887086320166103
         ]
        },
        {
         "hoverinfo": "text",
         "marker": {
          "color": "green",
          "size": 0.5
         },
         "mode": "markers",
         "text": "Power BI appears with Qlik 188 times",
         "type": "scatter",
         "uid": "0ae8293a-dec5-4efe-bb76-f8bfc42b860b",
         "x": [
          0.8865700677858102
         ],
         "y": [
          0.15489840188415124
         ]
        },
        {
         "hoverinfo": "text",
         "marker": {
          "color": "blue",
          "size": 0.5
         },
         "mode": "markers",
         "text": "Qlik appears with Power BI 188 times",
         "type": "scatter",
         "uid": "97ca2e94-dcfa-4881-a476-2ca0d063ea4d",
         "x": [
          -0.7273149930052483
         ],
         "y": [
          -0.5301064996298157
         ]
        },
        {
         "hoverinfo": "text",
         "marker": {
          "color": "green",
          "size": 0.5
         },
         "mode": "markers",
         "text": "Power BI appears with Tableau 190 times",
         "type": "scatter",
         "uid": "49dda248-52af-40ad-ad48-f72b7bfb4bdf",
         "x": [
          0.8798277291804569
         ],
         "y": [
          0.18948131033207616
         ]
        },
        {
         "hoverinfo": "text",
         "marker": {
          "color": "blue",
          "size": 0.5
         },
         "mode": "markers",
         "text": "Tableau appears with Power BI 190 times",
         "type": "scatter",
         "uid": "572be3e5-d596-4818-9d00-8b1a167e9d0d",
         "x": [
          -0.36456333097931504
         ],
         "y": [
          -0.8228569606591819
         ]
        },
        {
         "hoverinfo": "text",
         "marker": {
          "color": "green",
          "size": 0.5
         },
         "mode": "markers",
         "text": "Power BI appears with Microstrategy 29 times",
         "type": "scatter",
         "uid": "ca1fba14-6892-4601-a80d-d50586c3e919",
         "x": [
          0.8997102437515024
         ],
         "y": [
          0.02283587722449345
         ]
        },
        {
         "hoverinfo": "text",
         "marker": {
          "color": "blue",
          "size": 0.5
         },
         "mode": "markers",
         "text": "Microstrategy appears with Power BI 29 times",
         "type": "scatter",
         "uid": "44532e95-a42a-411d-8dfc-12599177eeaa",
         "x": [
          -0.0712129837473085
         ],
         "y": [
          -0.8971781935300287
         ]
        },
        {
         "hoverinfo": "text",
         "marker": {
          "color": "green",
          "size": 0.5
         },
         "mode": "markers",
         "text": "Power BI appears with Oracle BI 178 times",
         "type": "scatter",
         "uid": "a5b46d4e-2136-499e-8b10-7375abd6872d",
         "x": [
          0.891803681284247
         ],
         "y": [
          0.12118660836852088
         ]
        },
        {
         "hoverinfo": "text",
         "marker": {
          "color": "blue",
          "size": 0.5
         },
         "mode": "markers",
         "text": "Oracle BI appears with Power BI 178 times",
         "type": "scatter",
         "uid": "3c050a91-d23b-47c4-a693-512fca191812",
         "x": [
          0.19641062135774667
         ],
         "y": [
          -0.87830681872445
         ]
        },
        {
         "hoverinfo": "text",
         "marker": {
          "color": "green",
          "size": 0.5
         },
         "mode": "markers",
         "text": "Power BI appears with Python 81 times",
         "type": "scatter",
         "uid": "f370349a-f898-405d-9ad9-ab8d7abc6433",
         "x": [
          0.8986595909693134
         ],
         "y": [
          0.0491013193189987
         ]
        },
        {
         "hoverinfo": "text",
         "marker": {
          "color": "blue",
          "size": 0.5
         },
         "mode": "markers",
         "text": "Python appears with Power BI 81 times",
         "type": "scatter",
         "uid": "8272b06d-483c-44b4-a70d-205e0416d4b2",
         "x": [
          0.6274846708696638
         ],
         "y": [
          -0.645184460308515
         ]
        },
        {
         "hoverinfo": "text",
         "marker": {
          "color": "green",
          "size": 0.5
         },
         "mode": "markers",
         "text": "Power BI appears with VBA 39 times",
         "type": "scatter",
         "uid": "e8cebd1f-603a-4b6c-8add-74c66a1cc093",
         "x": [
          0.8995270942610305
         ],
         "y": [
          0.029172018961792813
         ]
        },
        {
         "hoverinfo": "text",
         "marker": {
          "color": "blue",
          "size": 0.5
         },
         "mode": "markers",
         "text": "VBA appears with Power BI 39 times",
         "type": "scatter",
         "uid": "f3f0c311-f1a8-4ef6-902e-cadd2b93bee5",
         "x": [
          0.8244006881667205
         ],
         "y": [
          -0.3610588668766322
         ]
        },
        {
         "hoverinfo": "text",
         "marker": {
          "color": "green",
          "size": 0.5
         },
         "mode": "markers",
         "text": "Power BI appears with Linux 8 times",
         "type": "scatter",
         "uid": "9509224c-c613-486f-a251-8470a97fdd05",
         "x": [
          0.8999956552368492
         ],
         "y": [
          0.0027965254861372735
         ]
        },
        {
         "hoverinfo": "text",
         "marker": {
          "color": "blue",
          "size": 0.5
         },
         "mode": "markers",
         "text": "Linux appears with Power BI 8 times",
         "type": "scatter",
         "uid": "8165f1e7-fb1e-4080-b6ee-b20b0612450e",
         "x": [
          0.86860520398298
         ],
         "y": [
          -0.23563743253924188
         ]
        },
        {
         "hoverinfo": "text",
         "marker": {
          "color": "green",
          "size": 0.5
         },
         "mode": "markers",
         "text": "Power BI appears with AWS 6 times",
         "type": "scatter",
         "uid": "d11ea3e6-5add-4f0c-850d-11d94c25f6f4",
         "x": [
          0.8999987641555478
         ],
         "y": [
          0.0014914819766436737
         ]
        },
        {
         "hoverinfo": "text",
         "marker": {
          "color": "blue",
          "size": 0.5
         },
         "mode": "markers",
         "text": "AWS appears with Power BI 6 times",
         "type": "scatter",
         "uid": "f395c96b-126b-4094-b4f6-95242cb8db99",
         "x": [
          0.894638542629597
         ],
         "y": [
          -0.09809117208796539
         ]
        },
        {
         "hoverinfo": "text",
         "marker": {
          "color": "green",
          "size": 0.5
         },
         "mode": "markers",
         "text": "Excel appears with SSIS/SSRS 617 times",
         "type": "scatter",
         "uid": "f68f8045-0ee9-42c6-8a31-3c9ab7978c0c",
         "x": [
          0.4529114925884715
         ],
         "y": [
          0.7777346461880703
         ]
        },
        {
         "hoverinfo": "text",
         "marker": {
          "color": "blue",
          "size": 0.5
         },
         "mode": "markers",
         "text": "SSIS/SSRS appears with Excel 617 times",
         "type": "scatter",
         "uid": "dd78d4a9-9dcd-4bee-af42-6308432b6d2d",
         "x": [
          -0.15302614969399944
         ],
         "y": [
          0.8868951445970542
         ]
        },
        {
         "hoverinfo": "text",
         "marker": {
          "color": "green",
          "size": 0.5
         },
         "mode": "markers",
         "text": "Excel appears with MS SQL Server 270 times",
         "type": "scatter",
         "uid": "00797681-716f-4288-91c7-2903192d2069",
         "x": [
          0.7047548848349039
         ],
         "y": [
          0.5597504375177756
         ]
        },
        {
         "hoverinfo": "text",
         "marker": {
          "color": "blue",
          "size": 0.5
         },
         "mode": "markers",
         "text": "MS SQL Server appears with Excel 270 times",
         "type": "scatter",
         "uid": "ea963467-00cc-4065-9c13-c19ceaff3afa",
         "x": [
          -0.48500153396081014
         ],
         "y": [
          0.7581381879681707
         ]
        },
        {
         "hoverinfo": "text",
         "marker": {
          "color": "green",
          "size": 0.5
         },
         "mode": "markers",
         "text": "Excel appears with PostgreSQL 76 times",
         "type": "scatter",
         "uid": "d3ffd654-e5d7-4cd6-aab0-fc94ecd34c79",
         "x": [
          0.8394422821792552
         ],
         "y": [
          0.32455608897336014
         ]
        },
        {
         "hoverinfo": "text",
         "marker": {
          "color": "blue",
          "size": 0.5
         },
         "mode": "markers",
         "text": "PostgreSQL appears with Excel 76 times",
         "type": "scatter",
         "uid": "aeaf7e8e-7f59-49c4-9e40-bd24483c89dd",
         "x": [
          -0.6142328334027445
         ],
         "y": [
          0.6578130633926604
         ]
        },
        {
         "hoverinfo": "text",
         "marker": {
          "color": "green",
          "size": 0.5
         },
         "mode": "markers",
         "text": "Excel appears with MySQL/MariaDB 128 times",
         "type": "scatter",
         "uid": "eef672d0-4d4c-4cc8-9474-f0899b506016",
         "x": [
          0.8001288367621371
         ],
         "y": [
          0.4120604865570945
         ]
        },
        {
         "hoverinfo": "text",
         "marker": {
          "color": "blue",
          "size": 0.5
         },
         "mode": "markers",
         "text": "MySQL/MariaDB appears with Excel 128 times",
         "type": "scatter",
         "uid": "ed5c2901-ddbb-4499-babf-c7a089a68f86",
         "x": [
          -0.743985008474687
         ],
         "y": [
          0.5064447720777854
         ]
        },
        {
         "hoverinfo": "text",
         "marker": {
          "color": "green",
          "size": 0.5
         },
         "mode": "markers",
         "text": "Excel appears with T-SQL 184 times",
         "type": "scatter",
         "uid": "de46bb77-bb40-486d-8c3d-84b4af649730",
         "x": [
          0.7853063395185234
         ],
         "y": [
          0.4396520818920545
         ]
        },
        {
         "hoverinfo": "text",
         "marker": {
          "color": "blue",
          "size": 0.5
         },
         "mode": "markers",
         "text": "T-SQL appears with Excel 184 times",
         "type": "scatter",
         "uid": "b034c316-0a58-4c36-9eab-15f9a66346c5",
         "x": [
          -0.8524244345783712
         ],
         "y": [
          0.28874310958660815
         ]
        },
        {
         "hoverinfo": "text",
         "marker": {
          "color": "green",
          "size": 0.5
         },
         "mode": "markers",
         "text": "Excel appears with PL/SQL 60 times",
         "type": "scatter",
         "uid": "a242e4e1-6342-48a6-91a7-2c796f37b015",
         "x": [
          0.8489017489734904
         ],
         "y": [
          0.2989411657663583
         ]
        },
        {
         "hoverinfo": "text",
         "marker": {
          "color": "blue",
          "size": 0.5
         },
         "mode": "markers",
         "text": "PL/SQL appears with Excel 60 times",
         "type": "scatter",
         "uid": "e9d871a4-6810-4823-8fb5-cc23a9afd53d",
         "x": [
          -0.8749415561378289
         ],
         "y": [
          0.21089635687492178
         ]
        },
        {
         "hoverinfo": "text",
         "marker": {
          "color": "green",
          "size": 0.5
         },
         "mode": "markers",
         "text": "Excel appears with Pentaho 68 times",
         "type": "scatter",
         "uid": "f8144d3f-77f4-43a7-adf7-728f643c9015",
         "x": [
          0.8445470590743329
         ],
         "y": [
          0.3110309711409704
         ]
        },
        {
         "hoverinfo": "text",
         "marker": {
          "color": "blue",
          "size": 0.5
         },
         "mode": "markers",
         "text": "Pentaho appears with Excel 68 times",
         "type": "scatter",
         "uid": "a76c1168-799e-411a-9b21-c75fbdbc16d1",
         "x": [
          -0.8962097225017905
         ],
         "y": [
          0.08251141310911875
         ]
        },
        {
         "hoverinfo": "text",
         "marker": {
          "color": "green",
          "size": 0.5
         },
         "mode": "markers",
         "text": "Excel appears with Hadoop 86 times",
         "type": "scatter",
         "uid": "44b60af4-8411-4e83-ba70-799fd5d1afc2",
         "x": [
          0.8274829225774313
         ],
         "y": [
          0.3539378657938606
         ]
        },
        {
         "hoverinfo": "text",
         "marker": {
          "color": "blue",
          "size": 0.5
         },
         "mode": "markers",
         "text": "Hadoop appears with Excel 86 times",
         "type": "scatter",
         "uid": "c01748ac-c028-4e1c-8318-e65f1883c24e",
         "x": [
          -0.8999908808499341
         ],
         "y": [
          -0.004051467260127409
         ]
        },
        {
         "hoverinfo": "text",
         "marker": {
          "color": "green",
          "size": 0.5
         },
         "mode": "markers",
         "text": "Excel appears with Spark 93 times",
         "type": "scatter",
         "uid": "ae1143f6-0c82-4064-84a8-ea63c625e8c9",
         "x": [
          0.8202513677068578
         ],
         "y": [
          0.3703885713342531
         ]
        },
        {
         "hoverinfo": "text",
         "marker": {
          "color": "blue",
          "size": 0.5
         },
         "mode": "markers",
         "text": "Spark appears with Excel 93 times",
         "type": "scatter",
         "uid": "bbf51ed6-285b-4072-a00e-3cb580b053d5",
         "x": [
          -0.8803421467157831
         ],
         "y": [
          -0.1870767348331871
         ]
        },
        {
         "hoverinfo": "text",
         "marker": {
          "color": "green",
          "size": 0.5
         },
         "mode": "markers",
         "text": "Excel appears with Informatica 120 times",
         "type": "scatter",
         "uid": "ca67a7d3-0b19-4f02-a509-f56e1d9736ee",
         "x": [
          0.8112203909442864
         ],
         "y": [
          0.3897710575661038
         ]
        },
        {
         "hoverinfo": "text",
         "marker": {
          "color": "blue",
          "size": 0.5
         },
         "mode": "markers",
         "text": "Informatica appears with Excel 120 times",
         "type": "scatter",
         "uid": "b53bc93c-fa14-4513-b0da-a2b421230942",
         "x": [
          -0.8217005742085168
         ],
         "y": [
          -0.3671623160747762
         ]
        },
        {
         "hoverinfo": "text",
         "marker": {
          "color": "green",
          "size": 0.5
         },
         "mode": "markers",
         "text": "Excel appears with Qlik 422 times",
         "type": "scatter",
         "uid": "cb199f0d-a92b-450a-bed6-cad0ce958e59",
         "x": [
          0.6077876295626514
         ],
         "y": [
          0.6637727000642715
         ]
        },
        {
         "hoverinfo": "text",
         "marker": {
          "color": "blue",
          "size": 0.5
         },
         "mode": "markers",
         "text": "Qlik appears with Excel 422 times",
         "type": "scatter",
         "uid": "07416607-6ce4-47f4-9faa-15560f81015c",
         "x": [
          -0.5957855423276458
         ],
         "y": [
          -0.6745662217702224
         ]
        },
        {
         "hoverinfo": "text",
         "marker": {
          "color": "green",
          "size": 0.5
         },
         "mode": "markers",
         "text": "Excel appears with Tableau 440 times",
         "type": "scatter",
         "uid": "51542151-0172-42ca-abc4-c5c5e48b1bac",
         "x": [
          0.5412540515723474
         ],
         "y": [
          0.7190577526572666
         ]
        },
        {
         "hoverinfo": "text",
         "marker": {
          "color": "blue",
          "size": 0.5
         },
         "mode": "markers",
         "text": "Tableau appears with Excel 440 times",
         "type": "scatter",
         "uid": "cc49470c-557d-4167-8db4-7034ce6fb354",
         "x": [
          -0.1605683754030559
         ],
         "y": [
          -0.8855607245245372
         ]
        },
        {
         "hoverinfo": "text",
         "marker": {
          "color": "green",
          "size": 0.5
         },
         "mode": "markers",
         "text": "Excel appears with Microstrategy 41 times",
         "type": "scatter",
         "uid": "d2a3adbf-16fe-434e-b676-1f405f395925",
         "x": [
          0.8558263624993884
         ],
         "y": [
          0.2784981817733564
         ]
        },
        {
         "hoverinfo": "text",
         "marker": {
          "color": "blue",
          "size": 0.5
         },
         "mode": "markers",
         "text": "Microstrategy appears with Excel 41 times",
         "type": "scatter",
         "uid": "ed4a3bd2-1eea-4f7e-aa58-8a0d6e331750",
         "x": [
          -0.056519561500447006
         ],
         "y": [
          -0.8982235463222935
         ]
        },
        {
         "hoverinfo": "text",
         "marker": {
          "color": "green",
          "size": 0.5
         },
         "mode": "markers",
         "text": "Excel appears with Oracle BI 642 times",
         "type": "scatter",
         "uid": "1d7c9e66-248f-49f6-ae9a-82906ba81744",
         "x": [
          0.33958739675972405
         ],
         "y": [
          0.8334748946200802
         ]
        },
        {
         "hoverinfo": "text",
         "marker": {
          "color": "blue",
          "size": 0.5
         },
         "mode": "markers",
         "text": "Oracle BI appears with Excel 642 times",
         "type": "scatter",
         "uid": "9b2bdc16-d8b8-4000-bb59-d0482a7b0b4b",
         "x": [
          0.4972897165726296
         ],
         "y": [
          -0.7501352796603515
         ]
        },
        {
         "hoverinfo": "text",
         "marker": {
          "color": "green",
          "size": 0.5
         },
         "mode": "markers",
         "text": "Excel appears with Python 363 times",
         "type": "scatter",
         "uid": "4954548e-131e-4c56-90da-03ed24e87ba6",
         "x": [
          0.6635078560954771
         ],
         "y": [
          0.6080767426070361
         ]
        },
        {
         "hoverinfo": "text",
         "marker": {
          "color": "blue",
          "size": 0.5
         },
         "mode": "markers",
         "text": "Python appears with Excel 363 times",
         "type": "scatter",
         "uid": "84c14d47-78db-4a95-b279-57725fcd1a41",
         "x": [
          0.7835076953532418
         ],
         "y": [
          -0.4428495131782935
         ]
        },
        {
         "hoverinfo": "text",
         "marker": {
          "color": "green",
          "size": 0.5
         },
         "mode": "markers",
         "text": "Excel appears with VBA 268 times",
         "type": "scatter",
         "uid": "a2dab810-bfb3-4d87-8eb4-d92249c9034d",
         "x": [
          0.7370580729076094
         ],
         "y": [
          0.5164740043426399
         ]
        },
        {
         "hoverinfo": "text",
         "marker": {
          "color": "blue",
          "size": 0.5
         },
         "mode": "markers",
         "text": "VBA appears with Excel 268 times",
         "type": "scatter",
         "uid": "31df9c50-68d1-4029-8b97-d5da9443cb53",
         "x": [
          0.8532419528486578
         ],
         "y": [
          -0.2863183017185747
         ]
        },
        {
         "hoverinfo": "text",
         "marker": {
          "color": "green",
          "size": 0.5
         },
         "mode": "markers",
         "text": "Excel appears with Linux 77 times",
         "type": "scatter",
         "uid": "9b55c5a6-cabe-4ac0-9d7b-5ca8161a9130",
         "x": [
          0.8337811760679034
         ],
         "y": [
          0.3388346948510794
         ]
        },
        {
         "hoverinfo": "text",
         "marker": {
          "color": "blue",
          "size": 0.5
         },
         "mode": "markers",
         "text": "Linux appears with Excel 77 times",
         "type": "scatter",
         "uid": "110c614b-879b-493d-84cc-6632c99c3a28",
         "x": [
          0.8815730779466162
         ],
         "y": [
          -0.18118749471122317
         ]
        },
        {
         "hoverinfo": "text",
         "marker": {
          "color": "green",
          "size": 0.5
         },
         "mode": "markers",
         "text": "Excel appears with AWS 57 times",
         "type": "scatter",
         "uid": "2412ff14-1d63-43e9-bc23-7c862bfd0927",
         "x": [
          0.8527308412011101
         ],
         "y": [
          0.2878369546539277
         ]
        },
        {
         "hoverinfo": "text",
         "marker": {
          "color": "blue",
          "size": 0.5
         },
         "mode": "markers",
         "text": "AWS appears with Excel 57 times",
         "type": "scatter",
         "uid": "487d303a-082c-475f-8250-40778c030ad2",
         "x": [
          0.8987490992715419
         ],
         "y": [
          -0.04743476107868799
         ]
        },
        {
         "hoverinfo": "text",
         "marker": {
          "color": "green",
          "size": 0.5
         },
         "mode": "markers",
         "text": "SSIS/SSRS appears with MS SQL Server 275 times",
         "type": "scatter",
         "uid": "5c73afd6-9d74-42ea-8729-9a64c40f89fc",
         "x": [
          -0.01190766787628418
         ],
         "y": [
          0.8999212229110658
         ]
        },
        {
         "hoverinfo": "text",
         "marker": {
          "color": "blue",
          "size": 0.5
         },
         "mode": "markers",
         "text": "MS SQL Server appears with SSIS/SSRS 275 times",
         "type": "scatter",
         "uid": "ba4218f6-a42d-4452-a6fc-fbf4602a7f05",
         "x": [
          -0.5282057128911309
         ],
         "y": [
          0.7286965931505184
         ]
        },
        {
         "hoverinfo": "text",
         "marker": {
          "color": "green",
          "size": 0.5
         },
         "mode": "markers",
         "text": "SSIS/SSRS appears with PostgreSQL 59 times",
         "type": "scatter",
         "uid": "309bf0c1-cc2c-4455-a331-4ba771969055",
         "x": [
          0.2012289182893866
         ],
         "y": [
          0.8772154367338069
         ]
        },
        {
         "hoverinfo": "text",
         "marker": {
          "color": "blue",
          "size": 0.5
         },
         "mode": "markers",
         "text": "PostgreSQL appears with SSIS/SSRS 59 times",
         "type": "scatter",
         "uid": "769f8d84-c9ae-4b70-b56c-21bc5e6c8044",
         "x": [
          -0.6063061669919606
         ],
         "y": [
          0.6651261774035938
         ]
        },
        {
         "hoverinfo": "text",
         "marker": {
          "color": "green",
          "size": 0.5
         },
         "mode": "markers",
         "text": "SSIS/SSRS appears with MySQL/MariaDB 84 times",
         "type": "scatter",
         "uid": "b3c34a7d-fa0a-406d-9d3b-19904bba14cf",
         "x": [
          0.17338275831956895
         ],
         "y": [
          0.8831412226351446
         ]
        },
        {
         "hoverinfo": "text",
         "marker": {
          "color": "blue",
          "size": 0.5
         },
         "mode": "markers",
         "text": "MySQL/MariaDB appears with SSIS/SSRS 84 times",
         "type": "scatter",
         "uid": "7ab842e9-8ca9-4669-81e5-c9d73ef73b6e",
         "x": [
          -0.712186580277798
         ],
         "y": [
          0.5502638229724134
         ]
        },
        {
         "hoverinfo": "text",
         "marker": {
          "color": "green",
          "size": 0.5
         },
         "mode": "markers",
         "text": "SSIS/SSRS appears with T-SQL 131 times",
         "type": "scatter",
         "uid": "64b46a9d-c995-421c-a68b-0b5c9196f657",
         "x": [
          0.11787699270236986
         ],
         "y": [
          0.8922471712431739
         ]
        },
        {
         "hoverinfo": "text",
         "marker": {
          "color": "blue",
          "size": 0.5
         },
         "mode": "markers",
         "text": "T-SQL appears with SSIS/SSRS 131 times",
         "type": "scatter",
         "uid": "78f5c595-5c61-49cf-b8fc-ad9babb59e4a",
         "x": [
          -0.8203794133108242
         ],
         "y": [
          0.3701048746177059
         ]
        },
        {
         "hoverinfo": "text",
         "marker": {
          "color": "green",
          "size": 0.5
         },
         "mode": "markers",
         "text": "SSIS/SSRS appears with PL/SQL 45 times",
         "type": "scatter",
         "uid": "be64e512-56fd-4deb-9e85-59329249f5e7",
         "x": [
          0.21113341124769447
         ],
         "y": [
          0.8748843824499967
         ]
        },
        {
         "hoverinfo": "text",
         "marker": {
          "color": "blue",
          "size": 0.5
         },
         "mode": "markers",
         "text": "PL/SQL appears with SSIS/SSRS 45 times",
         "type": "scatter",
         "uid": "d6de5f3d-0d21-4673-8e18-54e819aaa9b5",
         "x": [
          -0.8732685460413042
         ],
         "y": [
          0.21772011045125464
         ]
        },
        {
         "hoverinfo": "text",
         "marker": {
          "color": "green",
          "size": 0.5
         },
         "mode": "markers",
         "text": "SSIS/SSRS appears with Pentaho 36 times",
         "type": "scatter",
         "uid": "220b6538-d7dd-474b-ad15-474e669b7201",
         "x": [
          0.2266020247432573
         ],
         "y": [
          0.8710060403821871
         ]
        },
        {
         "hoverinfo": "text",
         "marker": {
          "color": "blue",
          "size": 0.5
         },
         "mode": "markers",
         "text": "Pentaho appears with SSIS/SSRS 36 times",
         "type": "scatter",
         "uid": "0c2b596b-b11d-400b-857c-747cbd244ad4",
         "x": [
          -0.8878357123335268
         ],
         "y": [
          0.14747117652347969
         ]
        },
        {
         "hoverinfo": "text",
         "marker": {
          "color": "green",
          "size": 0.5
         },
         "mode": "markers",
         "text": "SSIS/SSRS appears with Hadoop 34 times",
         "type": "scatter",
         "uid": "799b3f20-15ac-442e-9c7a-7294b68f979e",
         "x": [
          0.2332234326113806
         ],
         "y": [
          0.8692564814144125
         ]
        },
        {
         "hoverinfo": "text",
         "marker": {
          "color": "blue",
          "size": 0.5
         },
         "mode": "markers",
         "text": "Hadoop appears with SSIS/SSRS 34 times",
         "type": "scatter",
         "uid": "c02d3b49-e19a-4a56-87ea-177f52c134a5",
         "x": [
          -0.8995678553144069
         ],
         "y": [
          0.027886801269388244
         ]
        },
        {
         "hoverinfo": "text",
         "marker": {
          "color": "green",
          "size": 0.5
         },
         "mode": "markers",
         "text": "SSIS/SSRS appears with Spark 41 times",
         "type": "scatter",
         "uid": "87609773-ad24-4616-95cb-54c1557c96b6",
         "x": [
          0.21930333536051272
         ],
         "y": [
          0.8728722971315761
         ]
        },
        {
         "hoverinfo": "text",
         "marker": {
          "color": "blue",
          "size": 0.5
         },
         "mode": "markers",
         "text": "Spark appears with SSIS/SSRS 41 times",
         "type": "scatter",
         "uid": "44972cb8-8bc5-497c-a465-158f3b80e383",
         "x": [
          -0.8870394208501295
         ],
         "y": [
          -0.1521876008677012
         ]
        },
        {
         "hoverinfo": "text",
         "marker": {
          "color": "green",
          "size": 0.5
         },
         "mode": "markers",
         "text": "SSIS/SSRS appears with Informatica 74 times",
         "type": "scatter",
         "uid": "6b0bd466-8bc3-43c9-8fe3-0f47be7034a8",
         "x": [
          0.18852528851328912
         ],
         "y": [
          0.8800330764187112
         ]
        },
        {
         "hoverinfo": "text",
         "marker": {
          "color": "blue",
          "size": 0.5
         },
         "mode": "markers",
         "text": "Informatica appears with SSIS/SSRS 74 times",
         "type": "scatter",
         "uid": "f081a7f5-ead2-4692-b36e-8f020aa50d32",
         "x": [
          -0.834479103784107
         ],
         "y": [
          -0.3371121851070853
         ]
        },
        {
         "hoverinfo": "text",
         "marker": {
          "color": "green",
          "size": 0.5
         },
         "mode": "markers",
         "text": "SSIS/SSRS appears with Qlik 91 times",
         "type": "scatter",
         "uid": "17a47b16-7419-41bb-9a7c-d3ef60662032",
         "x": [
          0.13937352996796545
         ],
         "y": [
          0.8891428564321194
         ]
        },
        {
         "hoverinfo": "text",
         "marker": {
          "color": "blue",
          "size": 0.5
         },
         "mode": "markers",
         "text": "Qlik appears with SSIS/SSRS 91 times",
         "type": "scatter",
         "uid": "2bfa9a08-adb9-45b9-b870-e896f30efbeb",
         "x": [
          -0.752869852246074
         ],
         "y": [
          -0.4931399249492732
         ]
        },
        {
         "hoverinfo": "text",
         "marker": {
          "color": "green",
          "size": 0.5
         },
         "mode": "markers",
         "text": "SSIS/SSRS appears with Tableau 165 times",
         "type": "scatter",
         "uid": "4d49c24b-8aee-4cfc-9220-bdde1fd25242",
         "x": [
          0.06357000790893232
         ],
         "y": [
          0.8977521117181838
         ]
        },
        {
         "hoverinfo": "text",
         "marker": {
          "color": "blue",
          "size": 0.5
         },
         "mode": "markers",
         "text": "Tableau appears with SSIS/SSRS 165 times",
         "type": "scatter",
         "uid": "db16ca34-4423-4a30-9385-8471875b0914",
         "x": [
          -0.39601728122384655
         ],
         "y": [
          -0.8081895278782527
         ]
        },
        {
         "hoverinfo": "text",
         "marker": {
          "color": "green",
          "size": 0.5
         },
         "mode": "markers",
         "text": "SSIS/SSRS appears with Microstrategy 34 times",
         "type": "scatter",
         "uid": "e0812752-f36a-43e5-b9c4-d0b68336b8d7",
         "x": [
          0.23964272908956719
         ],
         "y": [
          0.8675087102701069
         ]
        },
        {
         "hoverinfo": "text",
         "marker": {
          "color": "blue",
          "size": 0.5
         },
         "mode": "markers",
         "text": "Microstrategy appears with SSIS/SSRS 34 times",
         "type": "scatter",
         "uid": "e806ac08-436b-44ce-a6d8-763370dc8b56",
         "x": [
          -0.0669685057900204
         ],
         "y": [
          -0.8975049967728603
         ]
        },
        {
         "hoverinfo": "text",
         "marker": {
          "color": "green",
          "size": 0.5
         },
         "mode": "markers",
         "text": "SSIS/SSRS appears with Oracle BI 279 times",
         "type": "scatter",
         "uid": "11770028-6ece-4b68-bb1b-d88c0534b48c",
         "x": [
          -0.06605087764134349
         ],
         "y": [
          0.897572995116725
         ]
        },
        {
         "hoverinfo": "text",
         "marker": {
          "color": "blue",
          "size": 0.5
         },
         "mode": "markers",
         "text": "Oracle BI appears with SSIS/SSRS 279 times",
         "type": "scatter",
         "uid": "5e964e9d-e075-4f47-8ad8-f6fe6374506b",
         "x": [
          0.27448930784519127
         ],
         "y": [
          -0.8571205398767829
         ]
        },
        {
         "hoverinfo": "text",
         "marker": {
          "color": "green",
          "size": 0.5
         },
         "mode": "markers",
         "text": "SSIS/SSRS appears with Python 166 times",
         "type": "scatter",
         "uid": "14b8f6ea-7254-49ca-b644-5ebfe015cb86",
         "x": [
          0.03123230799162472
         ],
         "y": [
          0.899457916157013
         ]
        },
        {
         "hoverinfo": "text",
         "marker": {
          "color": "blue",
          "size": 0.5
         },
         "mode": "markers",
         "text": "Python appears with SSIS/SSRS 166 times",
         "type": "scatter",
         "uid": "060fff2d-dbe5-497d-9469-4aef0e842143",
         "x": [
          0.739001215254347
         ],
         "y": [
          -0.5136897934090169
         ]
        },
        {
         "hoverinfo": "text",
         "marker": {
          "color": "green",
          "size": 0.5
         },
         "mode": "markers",
         "text": "SSIS/SSRS appears with VBA 89 times",
         "type": "scatter",
         "uid": "9d40f499-faae-47d3-9902-575289c7e6a8",
         "x": [
          0.15674414490953906
         ],
         "y": [
          0.8862456053694019
         ]
        },
        {
         "hoverinfo": "text",
         "marker": {
          "color": "blue",
          "size": 0.5
         },
         "mode": "markers",
         "text": "VBA appears with SSIS/SSRS 89 times",
         "type": "scatter",
         "uid": "d9492c81-b644-45b2-bbe1-b04b0b776ca3",
         "x": [
          0.8430620686246837
         ],
         "y": [
          -0.31503388460016346
         ]
        },
        {
         "hoverinfo": "text",
         "marker": {
          "color": "green",
          "size": 0.5
         },
         "mode": "markers",
         "text": "SSIS/SSRS appears with Linux 18 times",
         "type": "scatter",
         "uid": "3f6527a6-2462-4a39-8f94-000cfa7c7a2a",
         "x": [
          0.25037493454775495
         ],
         "y": [
          0.8644723200601667
         ]
        },
        {
         "hoverinfo": "text",
         "marker": {
          "color": "blue",
          "size": 0.5
         },
         "mode": "markers",
         "text": "Linux appears with SSIS/SSRS 18 times",
         "type": "scatter",
         "uid": "3b8df4a7-fd22-476d-8792-d731bcb8ae43",
         "x": [
          0.8699334120872049
         ],
         "y": [
          -0.23068562706487244
         ]
        },
        {
         "hoverinfo": "text",
         "marker": {
          "color": "green",
          "size": 0.5
         },
         "mode": "markers",
         "text": "SSIS/SSRS appears with AWS 31 times",
         "type": "scatter",
         "uid": "7ad90ced-006d-4879-8deb-09e0ed997ddc",
         "x": [
          0.24576658480922406
         ],
         "y": [
          0.8657937316654646
         ]
        },
        {
         "hoverinfo": "text",
         "marker": {
          "color": "blue",
          "size": 0.5
         },
         "mode": "markers",
         "text": "AWS appears with SSIS/SSRS 31 times",
         "type": "scatter",
         "uid": "7e20e314-ed38-4eed-a73a-bfe052af1609",
         "x": [
          0.8962316284023101
         ],
         "y": [
          -0.08227313201369932
         ]
        },
        {
         "hoverinfo": "text",
         "marker": {
          "color": "green",
          "size": 0.5
         },
         "mode": "markers",
         "text": "MS SQL Server appears with PostgreSQL 93 times",
         "type": "scatter",
         "uid": "f3e13e24-bedd-471a-86f4-c49266b9dfcd",
         "x": [
          -0.3158472500149711
         ],
         "y": [
          0.8427576844253515
         ]
        },
        {
         "hoverinfo": "text",
         "marker": {
          "color": "blue",
          "size": 0.5
         },
         "mode": "markers",
         "text": "PostgreSQL appears with MS SQL Server 93 times",
         "type": "scatter",
         "uid": "6ca3efe6-94e2-4275-9625-66212f16ccf5",
         "x": [
          -0.6240313918011591
         ],
         "y": [
          0.648525112888243
         ]
        },
        {
         "hoverinfo": "text",
         "marker": {
          "color": "green",
          "size": 0.5
         },
         "mode": "markers",
         "text": "MS SQL Server appears with MySQL/MariaDB 100 times",
         "type": "scatter",
         "uid": "81941111-a94d-4643-b4ab-2e7b4a2b1475",
         "x": [
          -0.3331185902060275
         ],
         "y": [
          0.8360813386621835
         ]
        },
        {
         "hoverinfo": "text",
         "marker": {
          "color": "blue",
          "size": 0.5
         },
         "mode": "markers",
         "text": "MySQL/MariaDB appears with MS SQL Server 100 times",
         "type": "scatter",
         "uid": "5bc6ca84-cd1b-4e6a-a93c-74347267bd20",
         "x": [
          -0.7218363227353346
         ],
         "y": [
          0.5375428570634438
         ]
        },
        {
         "hoverinfo": "text",
         "marker": {
          "color": "green",
          "size": 0.5
         },
         "mode": "markers",
         "text": "MS SQL Server appears with T-SQL 174 times",
         "type": "scatter",
         "uid": "223e2a24-0920-49f7-82a6-87f8b310d0b8",
         "x": [
          -0.4183208428238862
         ],
         "y": [
          0.7968736866399301
         ]
        },
        {
         "hoverinfo": "text",
         "marker": {
          "color": "blue",
          "size": 0.5
         },
         "mode": "markers",
         "text": "T-SQL appears with MS SQL Server 174 times",
         "type": "scatter",
         "uid": "b993d682-1d0e-43e3-aa48-98c71a7c141c",
         "x": [
          -0.8412910306903095
         ],
         "y": [
          0.3197333290103437
         ]
        },
        {
         "hoverinfo": "text",
         "marker": {
          "color": "green",
          "size": 0.5
         },
         "mode": "markers",
         "text": "MS SQL Server appears with PL/SQL 12 times",
         "type": "scatter",
         "uid": "d6cd45ab-7c8c-467f-98d6-40be91771e73",
         "x": [
          -0.24245125891737587
         ],
         "y": [
          0.8667279775393083
         ]
        },
        {
         "hoverinfo": "text",
         "marker": {
          "color": "blue",
          "size": 0.5
         },
         "mode": "markers",
         "text": "PL/SQL appears with MS SQL Server 12 times",
         "type": "scatter",
         "uid": "85b36086-4b87-43a5-9881-2f746a35850f",
         "x": [
          -0.867397382837243
         ],
         "y": [
          0.2400453712261526
         ]
        },
        {
         "hoverinfo": "text",
         "marker": {
          "color": "green",
          "size": 0.5
         },
         "mode": "markers",
         "text": "MS SQL Server appears with Pentaho 48 times",
         "type": "scatter",
         "uid": "c5c2ac3c-56f9-43e2-ad83-41f0ab7d87f0",
         "x": [
          -0.26949241570992716
         ],
         "y": [
          0.8587047442950504
         ]
        },
        {
         "hoverinfo": "text",
         "marker": {
          "color": "blue",
          "size": 0.5
         },
         "mode": "markers",
         "text": "Pentaho appears with MS SQL Server 48 times",
         "type": "scatter",
         "uid": "5b60ca70-08e9-4ea7-941e-6f96589ffbbd",
         "x": [
          -0.8932583119874187
         ],
         "y": [
          0.10995266283900244
         ]
        },
        {
         "hoverinfo": "text",
         "marker": {
          "color": "green",
          "size": 0.5
         },
         "mode": "markers",
         "text": "MS SQL Server appears with Hadoop 29 times",
         "type": "scatter",
         "uid": "5ee86411-d131-44cc-901a-54f4db1bb449",
         "x": [
          -0.2552673336981966
         ],
         "y": [
          0.8630403167561835
         ]
        },
        {
         "hoverinfo": "text",
         "marker": {
          "color": "blue",
          "size": 0.5
         },
         "mode": "markers",
         "text": "Hadoop appears with MS SQL Server 29 times",
         "type": "scatter",
         "uid": "2e05238e-9eb3-4d84-a121-75adad48a5f3",
         "x": [
          -0.8993861131586527
         ],
         "y": [
          0.03323581588243567
         ]
        },
        {
         "hoverinfo": "text",
         "marker": {
          "color": "green",
          "size": 0.5
         },
         "mode": "markers",
         "text": "MS SQL Server appears with Spark 29 times",
         "type": "scatter",
         "uid": "0af7fa49-5df0-470e-9ab0-7c2dcb82b119",
         "x": [
          -0.24992627195406544
         ],
         "y": [
          0.8646021388980845
         ]
        },
        {
         "hoverinfo": "text",
         "marker": {
          "color": "blue",
          "size": 0.5
         },
         "mode": "markers",
         "text": "Spark appears with MS SQL Server 29 times",
         "type": "scatter",
         "uid": "d1e499fe-8715-4134-b38e-b18d8873fe85",
         "x": [
          -0.8906955867749866
         ],
         "y": [
          -0.12907893592512407
         ]
        },
        {
         "hoverinfo": "text",
         "marker": {
          "color": "green",
          "size": 0.5
         },
         "mode": "markers",
         "text": "MS SQL Server appears with Informatica 64 times",
         "type": "scatter",
         "uid": "b660a526-dd5d-4c16-a9f7-2901ca34d33c",
         "x": [
          -0.2897372745480195
         ],
         "y": [
          0.8520870329593602
         ]
        },
        {
         "hoverinfo": "text",
         "marker": {
          "color": "blue",
          "size": 0.5
         },
         "mode": "markers",
         "text": "Informatica appears with MS SQL Server 64 times",
         "type": "scatter",
         "uid": "89238e66-45e2-4342-800b-13fd92597fac",
         "x": [
          -0.8432085471431153
         ],
         "y": [
          -0.3146416152145114
         ]
        },
        {
         "hoverinfo": "text",
         "marker": {
          "color": "green",
          "size": 0.5
         },
         "mode": "markers",
         "text": "MS SQL Server appears with Qlik 66 times",
         "type": "scatter",
         "uid": "7aaf8b9e-a9dc-4e12-84de-ad91b5e62817",
         "x": [
          -0.30151776188703544
         ],
         "y": [
          0.8479899995086222
         ]
        },
        {
         "hoverinfo": "text",
         "marker": {
          "color": "blue",
          "size": 0.5
         },
         "mode": "markers",
         "text": "Qlik appears with MS SQL Server 66 times",
         "type": "scatter",
         "uid": "16bfdc33-a9e7-4c44-a084-f5edbf93ef3c",
         "x": [
          -0.7687505664842916
         ],
         "y": [
          -0.4679984685125377
         ]
        },
        {
         "hoverinfo": "text",
         "marker": {
          "color": "green",
          "size": 0.5
         },
         "mode": "markers",
         "text": "MS SQL Server appears with Tableau 109 times",
         "type": "scatter",
         "uid": "79252b21-d473-4f97-9ee2-4089a5bb9249",
         "x": [
          -0.3516624965547883
         ],
         "y": [
          0.8284524660575605
         ]
        },
        {
         "hoverinfo": "text",
         "marker": {
          "color": "blue",
          "size": 0.5
         },
         "mode": "markers",
         "text": "Tableau appears with MS SQL Server 109 times",
         "type": "scatter",
         "uid": "faf20ead-aac0-45c2-987e-183cabf76fa4",
         "x": [
          -0.44356918654947064
         ],
         "y": [
          -0.7831004895566347
         ]
        },
        {
         "hoverinfo": "text",
         "marker": {
          "color": "green",
          "size": 0.5
         },
         "mode": "markers",
         "text": "MS SQL Server appears with Microstrategy 20 times",
         "type": "scatter",
         "uid": "035f9d20-47a0-4d86-948f-fc35e79fe18f",
         "x": [
          -0.24540654165119188
         ],
         "y": [
          0.86589585361913
         ]
        },
        {
         "hoverinfo": "text",
         "marker": {
          "color": "blue",
          "size": 0.5
         },
         "mode": "markers",
         "text": "Microstrategy appears with MS SQL Server 20 times",
         "type": "scatter",
         "uid": "c4f8d2b7-2922-4531-b614-76b207351f27",
         "x": [
          -0.07801425855049145
         ],
         "y": [
          -0.8966123886400506
         ]
        },
        {
         "hoverinfo": "text",
         "marker": {
          "color": "green",
          "size": 0.5
         },
         "mode": "markers",
         "text": "MS SQL Server appears with Oracle BI 180 times",
         "type": "scatter",
         "uid": "87757a13-b9d3-4686-a77c-fe38765f041e",
         "x": [
          -0.4480881966209835
         ],
         "y": [
          0.7805235217781428
         ]
        },
        {
         "hoverinfo": "text",
         "marker": {
          "color": "blue",
          "size": 0.5
         },
         "mode": "markers",
         "text": "Oracle BI appears with MS SQL Server 180 times",
         "type": "scatter",
         "uid": "c8930113-6360-4ff4-a47d-8f5de3c10fa2",
         "x": [
          0.23085673906391982
         ],
         "y": [
          -0.8698880192466001
         ]
        },
        {
         "hoverinfo": "text",
         "marker": {
          "color": "green",
          "size": 0.5
         },
         "mode": "markers",
         "text": "MS SQL Server appears with Python 115 times",
         "type": "scatter",
         "uid": "d32ed2d8-d37f-4d04-812d-43a6d2c4a83e",
         "x": [
          -0.37134325854643346
         ],
         "y": [
          0.8198196047497991
         ]
        },
        {
         "hoverinfo": "text",
         "marker": {
          "color": "blue",
          "size": 0.5
         },
         "mode": "markers",
         "text": "Python appears with MS SQL Server 115 times",
         "type": "scatter",
         "uid": "456bef3e-86b1-4224-99f7-eb2431dfe6a8",
         "x": [
          0.6678456865627
         ],
         "y": [
          -0.6033093227686738
         ]
        },
        {
         "hoverinfo": "text",
         "marker": {
          "color": "green",
          "size": 0.5
         },
         "mode": "markers",
         "text": "MS SQL Server appears with VBA 39 times",
         "type": "scatter",
         "uid": "6b27db17-4ba8-465b-8787-f4e3ccf326b2",
         "x": [
          -0.26151682549813604
         ],
         "y": [
          0.8611672021050137
         ]
        },
        {
         "hoverinfo": "text",
         "marker": {
          "color": "blue",
          "size": 0.5
         },
         "mode": "markers",
         "text": "VBA appears with MS SQL Server 39 times",
         "type": "scatter",
         "uid": "e3ae2178-6ca5-4f8a-91d5-93fb707271b8",
         "x": [
          0.8217075738010914
         ],
         "y": [
          -0.3671466507513368
         ]
        },
        {
         "hoverinfo": "text",
         "marker": {
          "color": "green",
          "size": 0.5
         },
         "mode": "markers",
         "text": "MS SQL Server appears with Linux 55 times",
         "type": "scatter",
         "uid": "152a2202-3a30-4b2e-ac6e-eb6d951becc8",
         "x": [
          -0.278904759220636
         ],
         "y": [
          0.855693949542755
         ]
        },
        {
         "hoverinfo": "text",
         "marker": {
          "color": "blue",
          "size": 0.5
         },
         "mode": "markers",
         "text": "Linux appears with MS SQL Server 55 times",
         "type": "scatter",
         "uid": "4b2ed766-4345-43b8-915b-40d713601ee4",
         "x": [
          0.8793108501546172
         ],
         "y": [
          -0.1918656529980402
         ]
        },
        {
         "hoverinfo": "text",
         "marker": {
          "color": "green",
          "size": 0.5
         },
         "mode": "markers",
         "text": "MS SQL Server appears with AWS 10 times",
         "type": "scatter",
         "uid": "9baf23bd-496d-469d-8a53-ed1bdee42e46",
         "x": [
          -0.2404178632958319
         ],
         "y": [
          0.8672942124840144
         ]
        },
        {
         "hoverinfo": "text",
         "marker": {
          "color": "blue",
          "size": 0.5
         },
         "mode": "markers",
         "text": "AWS appears with MS SQL Server 10 times",
         "type": "scatter",
         "uid": "566fa995-1a43-43ec-a33f-f2b438b45bc2",
         "x": [
          0.8948639103788533
         ],
         "y": [
          -0.09601344646177283
         ]
        },
        {
         "hoverinfo": "text",
         "marker": {
          "color": "green",
          "size": 0.5
         },
         "mode": "markers",
         "text": "PostgreSQL appears with MySQL/MariaDB 106 times",
         "type": "scatter",
         "uid": "9ad759ec-aafb-4d6a-81cd-3c2b8d660679",
         "x": [
          -0.6353891406852012
         ],
         "y": [
          0.6374014746604542
         ]
        },
        {
         "hoverinfo": "text",
         "marker": {
          "color": "blue",
          "size": 0.5
         },
         "mode": "markers",
         "text": "MySQL/MariaDB appears with PostgreSQL 106 times",
         "type": "scatter",
         "uid": "2042f88c-b36b-49a5-a74b-01750c34b923",
         "x": [
          -0.732370135715278
         ],
         "y": [
          0.5231003577826967
         ]
        },
        {
         "hoverinfo": "text",
         "marker": {
          "color": "green",
          "size": 0.5
         },
         "mode": "markers",
         "text": "PostgreSQL appears with T-SQL 39 times",
         "type": "scatter",
         "uid": "db0b79d4-412f-4e84-9732-34d6b53e2184",
         "x": [
          -0.5832870469582506
         ],
         "y": [
          0.6854022328900917
         ]
        },
        {
         "hoverinfo": "text",
         "marker": {
          "color": "blue",
          "size": 0.5
         },
         "mode": "markers",
         "text": "T-SQL appears with PostgreSQL 39 times",
         "type": "scatter",
         "uid": "19fd88cc-b5a0-406c-9a4d-ce0b09dfee7e",
         "x": [
          -0.7799020777385773
         ],
         "y": [
          0.44916895389045985
         ]
        },
        {
         "hoverinfo": "text",
         "marker": {
          "color": "green",
          "size": 0.5
         },
         "mode": "markers",
         "text": "PostgreSQL appears with PL/SQL 2 times",
         "type": "scatter",
         "uid": "e4e1f27b-c5c0-43eb-b130-4365f6601f63",
         "x": [
          -0.5718301869238022
         ],
         "y": [
          0.6949893792876908
         ]
        },
        {
         "hoverinfo": "text",
         "marker": {
          "color": "blue",
          "size": 0.5
         },
         "mode": "markers",
         "text": "PL/SQL appears with PostgreSQL 2 times",
         "type": "scatter",
         "uid": "6bfc6fc4-7219-4773-9ae5-96795d6f2dcb",
         "x": [
          -0.8659907512548696
         ],
         "y": [
          0.24507145639797942
         ]
        },
        {
         "hoverinfo": "text",
         "marker": {
          "color": "green",
          "size": 0.5
         },
         "mode": "markers",
         "text": "PostgreSQL appears with Pentaho 49 times",
         "type": "scatter",
         "uid": "6fa5b030-8a01-4042-9746-f46f513a8c67",
         "x": [
          -0.5999020928508776
         ],
         "y": [
          0.6709079512072703
         ]
        },
        {
         "hoverinfo": "text",
         "marker": {
          "color": "blue",
          "size": 0.5
         },
         "mode": "markers",
         "text": "Pentaho appears with PostgreSQL 49 times",
         "type": "scatter",
         "uid": "866945c9-30bf-4eeb-8652-835106ac9fa9",
         "x": [
          -0.8941655494698253
         ],
         "y": [
          0.10231309858139122
         ]
        },
        {
         "hoverinfo": "text",
         "marker": {
          "color": "green",
          "size": 0.5
         },
         "mode": "markers",
         "text": "PostgreSQL appears with Hadoop 4 times",
         "type": "scatter",
         "uid": "87d096f0-8943-47c7-a54e-525c58651700",
         "x": [
          -0.5722002501616011
         ],
         "y": [
          0.694684729726371
         ]
        },
        {
         "hoverinfo": "text",
         "marker": {
          "color": "blue",
          "size": 0.5
         },
         "mode": "markers",
         "text": "Hadoop appears with PostgreSQL 4 times",
         "type": "scatter",
         "uid": "d5712c51-7aea-4b7b-893e-c4f5ef8c28e3",
         "x": [
          -0.8987415050762436
         ],
         "y": [
          0.047578430546712965
         ]
        },
        {
         "hoverinfo": "text",
         "marker": {
          "color": "green",
          "size": 0.5
         },
         "mode": "markers",
         "text": "PostgreSQL appears with Spark 13 times",
         "type": "scatter",
         "uid": "82f00b2b-73b5-45fe-95ca-e303b9d5e256",
         "x": [
          -0.5747246662288981
         ],
         "y": [
          0.69259768843686
         ]
        },
        {
         "hoverinfo": "text",
         "marker": {
          "color": "blue",
          "size": 0.5
         },
         "mode": "markers",
         "text": "Spark appears with PostgreSQL 13 times",
         "type": "scatter",
         "uid": "5c5673be-0684-471e-be85-1b3e5689dedd",
         "x": [
          -0.8930374496782166
         ],
         "y": [
          -0.11173232957486688
         ]
        },
        {
         "hoverinfo": "text",
         "marker": {
          "color": "green",
          "size": 0.5
         },
         "mode": "markers",
         "text": "PostgreSQL appears with Informatica 2 times",
         "type": "scatter",
         "uid": "a0bebfd3-f481-4efd-93b9-ba6c45bf8289",
         "x": [
          -0.5715833879805652
         ],
         "y": [
          0.695192369481037
         ]
        },
        {
         "hoverinfo": "text",
         "marker": {
          "color": "blue",
          "size": 0.5
         },
         "mode": "markers",
         "text": "Informatica appears with PostgreSQL 2 times",
         "type": "scatter",
         "uid": "ca583736-8ccd-4ffc-a5c5-0e8994df0211",
         "x": [
          -0.8570389265985403
         ],
         "y": [
          -0.2747440232194722
         ]
        },
        {
         "hoverinfo": "text",
         "marker": {
          "color": "green",
          "size": 0.5
         },
         "mode": "markers",
         "text": "PostgreSQL appears with Qlik 14 times",
         "type": "scatter",
         "uid": "e8f07543-d89b-4619-9df2-6f8ec795ce10",
         "x": [
          -0.5763829315879712
         ],
         "y": [
          0.6912182840275973
         ]
        },
        {
         "hoverinfo": "text",
         "marker": {
          "color": "blue",
          "size": 0.5
         },
         "mode": "markers",
         "text": "Qlik appears with PostgreSQL 14 times",
         "type": "scatter",
         "uid": "c39e3822-c88a-41c7-9c51-8d611f6293fd",
         "x": [
          -0.792753718411526
         ],
         "y": [
          -0.4260769202206321
         ]
        },
        {
         "hoverinfo": "text",
         "marker": {
          "color": "green",
          "size": 0.5
         },
         "mode": "markers",
         "text": "PostgreSQL appears with Tableau 6 times",
         "type": "scatter",
         "uid": "7276a486-ce56-435b-8ea7-6fe3e6f4e62c",
         "x": [
          -0.5728166614932944
         ],
         "y": [
          0.6941765426141081
         ]
        },
        {
         "hoverinfo": "text",
         "marker": {
          "color": "blue",
          "size": 0.5
         },
         "mode": "markers",
         "text": "Tableau appears with PostgreSQL 6 times",
         "type": "scatter",
         "uid": "5defe310-aa39-4ba2-b1a7-4cd8c16f186d",
         "x": [
          -0.5419906171570047
         ],
         "y": [
          -0.7185027285360643
         ]
        },
        {
         "hoverinfo": "text",
         "marker": {
          "color": "green",
          "size": 0.5
         },
         "mode": "markers",
         "text": "PostgreSQL appears with Oracle BI 47 times",
         "type": "scatter",
         "uid": "3930460d-87be-4714-9290-85431dfa6b90",
         "x": [
          -0.5941632799832475
         ],
         "y": [
          0.6759955596892253
         ]
        },
        {
         "hoverinfo": "text",
         "marker": {
          "color": "blue",
          "size": 0.5
         },
         "mode": "markers",
         "text": "Oracle BI appears with PostgreSQL 47 times",
         "type": "scatter",
         "uid": "79e7507d-00d1-4450-b6a0-1ecdf886bda8",
         "x": [
          0.02732521301925816
         ],
         "y": [
          -0.8995850892124948
         ]
        },
        {
         "hoverinfo": "text",
         "marker": {
          "color": "green",
          "size": 0.5
         },
         "mode": "markers",
         "text": "PostgreSQL appears with Python 30 times",
         "type": "scatter",
         "uid": "21a0608e-4f62-42c6-aaaa-af0233f4d957",
         "x": [
          -0.579078191933814
         ],
         "y": [
          0.6889618622439597
         ]
        },
        {
         "hoverinfo": "text",
         "marker": {
          "color": "blue",
          "size": 0.5
         },
         "mode": "markers",
         "text": "Python appears with PostgreSQL 30 times",
         "type": "scatter",
         "uid": "7dec1515-4151-4ed1-b8f7-d618977971cb",
         "x": [
          0.5766292454278156
         ],
         "y": [
          -0.6910128170427435
         ]
        },
        {
         "hoverinfo": "text",
         "marker": {
          "color": "green",
          "size": 0.5
         },
         "mode": "markers",
         "text": "PostgreSQL appears with Linux 47 times",
         "type": "scatter",
         "uid": "ad241977-dc3c-4be1-b773-eda4488e5231",
         "x": [
          -0.5885022169502367
         ],
         "y": [
          0.6809296150445041
         ]
        },
        {
         "hoverinfo": "text",
         "marker": {
          "color": "blue",
          "size": 0.5
         },
         "mode": "markers",
         "text": "Linux appears with PostgreSQL 47 times",
         "type": "scatter",
         "uid": "355775f4-37b2-4795-a845-59a7c5271aa2",
         "x": [
          0.8756751136144596
         ],
         "y": [
          -0.2078294863495151
         ]
        },
        {
         "hoverinfo": "text",
         "marker": {
          "color": "green",
          "size": 0.5
         },
         "mode": "markers",
         "text": "PostgreSQL appears with AWS 6 times",
         "type": "scatter",
         "uid": "a8e776e8-ed29-4672-9bc0-6bd184348c32",
         "x": [
          -0.5735557592863754
         ],
         "y": [
          0.6935659961311753
         ]
        },
        {
         "hoverinfo": "text",
         "marker": {
          "color": "blue",
          "size": 0.5
         },
         "mode": "markers",
         "text": "AWS appears with PostgreSQL 6 times",
         "type": "scatter",
         "uid": "fa3e0868-08c6-4c5a-8f83-c28a8e438bc8",
         "x": [
          0.8947357195888348
         ],
         "y": [
          -0.09720078236233524
         ]
        },
        {
         "hoverinfo": "text",
         "marker": {
          "color": "green",
          "size": 0.5
         },
         "mode": "markers",
         "text": "MySQL/MariaDB appears with T-SQL 40 times",
         "type": "scatter",
         "uid": "cb9b3734-db2b-4b4b-804d-5ae478c192cd",
         "x": [
          -0.6719550924011355
         ],
         "y": [
          0.5987289485202645
         ]
        },
        {
         "hoverinfo": "text",
         "marker": {
          "color": "blue",
          "size": 0.5
         },
         "mode": "markers",
         "text": "T-SQL appears with MySQL/MariaDB 40 times",
         "type": "scatter",
         "uid": "51cd99e5-8ab8-4022-b359-e4c218bac293",
         "x": [
          -0.7835033812586332
         ],
         "y": [
          0.44285714576631696
         ]
        },
        {
         "hoverinfo": "text",
         "marker": {
          "color": "green",
          "size": 0.5
         },
         "mode": "markers",
         "text": "MySQL/MariaDB appears with Pentaho 67 times",
         "type": "scatter",
         "uid": "d1f93982-2355-4d52-98c1-aa1ceb2b989e",
         "x": [
          -0.6960290470703405
         ],
         "y": [
          0.5705642519772456
         ]
        },
        {
         "hoverinfo": "text",
         "marker": {
          "color": "blue",
          "size": 0.5
         },
         "mode": "markers",
         "text": "Pentaho appears with MySQL/MariaDB 67 times",
         "type": "scatter",
         "uid": "442ab6e8-31d8-466f-ace0-c00bc9427092",
         "x": [
          -0.8951647019515406
         ],
         "y": [
          0.09316735683708906
         ]
        },
        {
         "hoverinfo": "text",
         "marker": {
          "color": "green",
          "size": 0.5
         },
         "mode": "markers",
         "text": "MySQL/MariaDB appears with Hadoop 6 times",
         "type": "scatter",
         "uid": "094da4fc-2d92-4b49-a30f-a01ed6d912a3",
         "x": [
          -0.6626388377083272
         ],
         "y": [
          0.6090236208560037
         ]
        },
        {
         "hoverinfo": "text",
         "marker": {
          "color": "blue",
          "size": 0.5
         },
         "mode": "markers",
         "text": "Hadoop appears with MySQL/MariaDB 6 times",
         "type": "scatter",
         "uid": "3ccf5ba1-ad45-4545-b9e4-98622c1cbdc0",
         "x": [
          -0.8988297252959813
         ],
         "y": [
          0.045881640384264157
         ]
        },
        {
         "hoverinfo": "text",
         "marker": {
          "color": "green",
          "size": 0.5
         },
         "mode": "markers",
         "text": "MySQL/MariaDB appears with Spark 29 times",
         "type": "scatter",
         "uid": "6a42ef31-bb87-481f-8dd5-e94f626aa5fe",
         "x": [
          -0.6679569407004614
         ],
         "y": [
          0.6031861448757592
         ]
        },
        {
         "hoverinfo": "text",
         "marker": {
          "color": "blue",
          "size": 0.5
         },
         "mode": "markers",
         "text": "Spark appears with MySQL/MariaDB 29 times",
         "type": "scatter",
         "uid": "a1dd63ef-b4d8-4602-a467-91b1d09ed794",
         "x": [
          -0.8899608718854545
         ],
         "y": [
          -0.13405091015312748
         ]
        },
        {
         "hoverinfo": "text",
         "marker": {
          "color": "green",
          "size": 0.5
         },
         "mode": "markers",
         "text": "MySQL/MariaDB appears with Informatica 11 times",
         "type": "scatter",
         "uid": "f5619b3b-ff3e-471f-b423-d19d678bd624",
         "x": [
          -0.6636362166771111
         ],
         "y": [
          0.607936651234724
         ]
        },
        {
         "hoverinfo": "text",
         "marker": {
          "color": "blue",
          "size": 0.5
         },
         "mode": "markers",
         "text": "Informatica appears with MySQL/MariaDB 11 times",
         "type": "scatter",
         "uid": "25bfa2cc-4d01-41d2-9080-586467021ea5",
         "x": [
          -0.8555919174959817
         ],
         "y": [
          -0.279217604594605
         ]
        },
        {
         "hoverinfo": "text",
         "marker": {
          "color": "green",
          "size": 0.5
         },
         "mode": "markers",
         "text": "MySQL/MariaDB appears with Qlik 17 times",
         "type": "scatter",
         "uid": "ff2b13ea-9ec7-42dd-bbbc-190f9b7f8472",
         "x": [
          -0.665275070379435
         ],
         "y": [
          0.6061427890618165
         ]
        },
        {
         "hoverinfo": "text",
         "marker": {
          "color": "blue",
          "size": 0.5
         },
         "mode": "markers",
         "text": "Qlik appears with MySQL/MariaDB 17 times",
         "type": "scatter",
         "uid": "9b9c786a-c3af-4226-8e7b-b2e6d6f8505c",
         "x": [
          -0.7898653357645787
         ],
         "y": [
          -0.43140787122804014
         ]
        },
        {
         "hoverinfo": "text",
         "marker": {
          "color": "green",
          "size": 0.5
         },
         "mode": "markers",
         "text": "MySQL/MariaDB appears with Tableau 52 times",
         "type": "scatter",
         "uid": "027f7fd1-bdbd-495b-b55b-2a68e85a14ae",
         "x": [
          -0.6826971816296307
         ],
         "y": [
          0.5864508148131087
         ]
        },
        {
         "hoverinfo": "text",
         "marker": {
          "color": "blue",
          "size": 0.5
         },
         "mode": "markers",
         "text": "Tableau appears with MySQL/MariaDB 52 times",
         "type": "scatter",
         "uid": "52114d7b-d26b-4e5f-825d-a0aa2c1b8401",
         "x": [
          -0.5073647757987012
         ],
         "y": [
          -0.7433579112908758
         ]
        },
        {
         "hoverinfo": "text",
         "marker": {
          "color": "green",
          "size": 0.5
         },
         "mode": "markers",
         "text": "MySQL/MariaDB appears with Oracle BI 74 times",
         "type": "scatter",
         "uid": "636f8805-9a2c-4506-b7c2-3aee608f9a3c",
         "x": [
          -0.703721390933376
         ],
         "y": [
          0.5610491992176753
         ]
        },
        {
         "hoverinfo": "text",
         "marker": {
          "color": "blue",
          "size": 0.5
         },
         "mode": "markers",
         "text": "Oracle BI appears with MySQL/MariaDB 74 times",
         "type": "scatter",
         "uid": "79548ccf-a828-4350-bfb0-7bf5a563cce2",
         "x": [
          0.052361167041179026
         ],
         "y": [
          -0.8984755467936152
         ]
        },
        {
         "hoverinfo": "text",
         "marker": {
          "color": "green",
          "size": 0.5
         },
         "mode": "markers",
         "text": "MySQL/MariaDB appears with Python 60 times",
         "type": "scatter",
         "uid": "67cbf3c1-0a22-42ea-806d-08ae4332dbdb",
         "x": [
          -0.6889903231493353
         ],
         "y": [
          0.5790443287059935
         ]
        },
        {
         "hoverinfo": "text",
         "marker": {
          "color": "blue",
          "size": 0.5
         },
         "mode": "markers",
         "text": "Python appears with MySQL/MariaDB 60 times",
         "type": "scatter",
         "uid": "4541283d-cc29-467d-8928-07bd1b7a2ade",
         "x": [
          0.6082297120756853
         ],
         "y": [
          -0.6633676336303489
         ]
        },
        {
         "hoverinfo": "text",
         "marker": {
          "color": "green",
          "size": 0.5
         },
         "mode": "markers",
         "text": "MySQL/MariaDB appears with VBA 5 times",
         "type": "scatter",
         "uid": "f13109d2-b43e-4874-ac8e-eaaadd51bae6",
         "x": [
          -0.6614043236405894
         ],
         "y": [
          0.6103640886139473
         ]
        },
        {
         "hoverinfo": "text",
         "marker": {
          "color": "blue",
          "size": 0.5
         },
         "mode": "markers",
         "text": "VBA appears with MySQL/MariaDB 5 times",
         "type": "scatter",
         "uid": "b2e56a61-3cac-43c2-af7f-5852a1ae4512",
         "x": [
          0.8133591054434386
         ],
         "y": [
          -0.3852881591643448
         ]
        },
        {
         "hoverinfo": "text",
         "marker": {
          "color": "green",
          "size": 0.5
         },
         "mode": "markers",
         "text": "MySQL/MariaDB appears with Linux 48 times",
         "type": "scatter",
         "uid": "2ad821fb-8883-4914-8a2b-f4c8e9669c4a",
         "x": [
          -0.6770110070518606
         ],
         "y": [
          0.593005983385181
         ]
        },
        {
         "hoverinfo": "text",
         "marker": {
          "color": "blue",
          "size": 0.5
         },
         "mode": "markers",
         "text": "Linux appears with MySQL/MariaDB 48 times",
         "type": "scatter",
         "uid": "e7bcb024-5369-4cae-904a-bcdaec59bbe0",
         "x": [
          0.877455774487229
         ],
         "y": [
          -0.20017833004353205
         ]
        },
        {
         "hoverinfo": "text",
         "marker": {
          "color": "green",
          "size": 0.5
         },
         "mode": "markers",
         "text": "MySQL/MariaDB appears with AWS 2 times",
         "type": "scatter",
         "uid": "cbcf3098-8c71-4cac-9bbd-c461e8c8f0c1",
         "x": [
          -0.6609922161102467
         ],
         "y": [
          0.6108103553818198
         ]
        },
        {
         "hoverinfo": "text",
         "marker": {
          "color": "blue",
          "size": 0.5
         },
         "mode": "markers",
         "text": "AWS appears with MySQL/MariaDB 2 times",
         "type": "scatter",
         "uid": "87f4bb3a-fd74-4e4b-8a81-9a39b7aea18d",
         "x": [
          0.894441530614386
         ],
         "y": [
          -0.09987165920417268
         ]
        },
        {
         "hoverinfo": "text",
         "marker": {
          "color": "green",
          "size": 0.5
         },
         "mode": "markers",
         "text": "T-SQL appears with PL/SQL 44 times",
         "type": "scatter",
         "uid": "18961233-fab3-42ce-a906-ff442e796bc8",
         "x": [
          -0.7909039641988963
         ],
         "y": [
          0.4295007792943698
         ]
        },
        {
         "hoverinfo": "text",
         "marker": {
          "color": "blue",
          "size": 0.5
         },
         "mode": "markers",
         "text": "PL/SQL appears with T-SQL 44 times",
         "type": "scatter",
         "uid": "40e04e7a-0638-4f0d-aae4-d952b46f89ed",
         "x": [
          -0.8718087947262919
         ],
         "y": [
          0.22349368097977668
         ]
        },
        {
         "hoverinfo": "text",
         "marker": {
          "color": "green",
          "size": 0.5
         },
         "mode": "markers",
         "text": "T-SQL appears with Pentaho 41 times",
         "type": "scatter",
         "uid": "913faad8-5456-4529-b8ff-4342b25601c2",
         "x": [
          -0.7871428179859365
         ],
         "y": [
          0.43635557071402076
         ]
        },
        {
         "hoverinfo": "text",
         "marker": {
          "color": "blue",
          "size": 0.5
         },
         "mode": "markers",
         "text": "Pentaho appears with T-SQL 41 times",
         "type": "scatter",
         "uid": "fb8e7095-4290-4dce-b2f4-754ba8dc6e0f",
         "x": [
          -0.892368479502829
         ],
         "y": [
          0.11695510587319011
         ]
        },
        {
         "hoverinfo": "text",
         "marker": {
          "color": "green",
          "size": 0.5
         },
         "mode": "markers",
         "text": "T-SQL appears with Hadoop 19 times",
         "type": "scatter",
         "uid": "fb2c643c-4df0-44a0-83e2-0d638ddfde5f",
         "x": [
          -0.7701776111659816
         ],
         "y": [
          0.4656462683826234
         ]
        },
        {
         "hoverinfo": "text",
         "marker": {
          "color": "blue",
          "size": 0.5
         },
         "mode": "markers",
         "text": "Hadoop appears with T-SQL 19 times",
         "type": "scatter",
         "uid": "afd7e7d5-90f7-4765-a631-63ed3475355f",
         "x": [
          -0.899063576850737
         ],
         "y": [
          0.04104491174748483
         ]
        },
        {
         "hoverinfo": "text",
         "marker": {
          "color": "green",
          "size": 0.5
         },
         "mode": "markers",
         "text": "T-SQL appears with Spark 20 times",
         "type": "scatter",
         "uid": "133790b0-e1be-4fcc-89ca-60a390e095a8",
         "x": [
          -0.7720275964657278
         ],
         "y": [
          0.46257257840835225
         ]
        },
        {
         "hoverinfo": "text",
         "marker": {
          "color": "blue",
          "size": 0.5
         },
         "mode": "markers",
         "text": "Spark appears with T-SQL 20 times",
         "type": "scatter",
         "uid": "2b691873-086c-40e0-9f12-0ba6ee26b9d8",
         "x": [
          -0.8919781032324227
         ],
         "y": [
          -0.11989605228651073
         ]
        },
        {
         "hoverinfo": "text",
         "marker": {
          "color": "green",
          "size": 0.5
         },
         "mode": "markers",
         "text": "T-SQL appears with Informatica 13 times",
         "type": "scatter",
         "uid": "2021837f-dec5-4b1d-b270-84f02d8f6cae",
         "x": [
          -0.7670190045296111
         ],
         "y": [
          0.47083101712865566
         ]
        },
        {
         "hoverinfo": "text",
         "marker": {
          "color": "blue",
          "size": 0.5
         },
         "mode": "markers",
         "text": "Informatica appears with T-SQL 13 times",
         "type": "scatter",
         "uid": "31263a66-dc0d-4207-bf97-d16feaac7d53",
         "x": [
          -0.854953175037561
         ],
         "y": [
          -0.2811673318385224
         ]
        },
        {
         "hoverinfo": "text",
         "marker": {
          "color": "green",
          "size": 0.5
         },
         "mode": "markers",
         "text": "T-SQL appears with Qlik 76 times",
         "type": "scatter",
         "uid": "ebd1173c-2734-49bc-bcae-c5cc02ac65b6",
         "x": [
          -0.8042783625625611
         ],
         "y": [
          0.403901368546438
         ]
        },
        {
         "hoverinfo": "text",
         "marker": {
          "color": "blue",
          "size": 0.5
         },
         "mode": "markers",
         "text": "Qlik appears with T-SQL 76 times",
         "type": "scatter",
         "uid": "1e0c6c0f-a884-4661-af95-749ca369e878",
         "x": [
          -0.7615558271887578
         ],
         "y": [
          -0.4796172662392867
         ]
        },
        {
         "hoverinfo": "text",
         "marker": {
          "color": "green",
          "size": 0.5
         },
         "mode": "markers",
         "text": "T-SQL appears with Tableau 100 times",
         "type": "scatter",
         "uid": "ef39bb6f-6d42-4ff5-ad09-1600e3ceafb2",
         "x": [
          -0.8114134342162918
         ],
         "y": [
          0.3893690264688805
         ]
        },
        {
         "hoverinfo": "text",
         "marker": {
          "color": "blue",
          "size": 0.5
         },
         "mode": "markers",
         "text": "Tableau appears with T-SQL 100 times",
         "type": "scatter",
         "uid": "27233049-6a81-4402-b568-34d106b1a842",
         "x": [
          -0.4612328772379685
         ],
         "y": [
          -0.7728287216161063
         ]
        },
        {
         "hoverinfo": "text",
         "marker": {
          "color": "green",
          "size": 0.5
         },
         "mode": "markers",
         "text": "T-SQL appears with Microstrategy 17 times",
         "type": "scatter",
         "uid": "974d1b5b-6a2f-40d9-92ef-fa6708922522",
         "x": [
          -0.7684590702632016
         ],
         "y": [
          0.46847695496173103
         ]
        },
        {
         "hoverinfo": "text",
         "marker": {
          "color": "blue",
          "size": 0.5
         },
         "mode": "markers",
         "text": "Microstrategy appears with T-SQL 17 times",
         "type": "scatter",
         "uid": "7596e96a-507c-4399-b8e8-a9ba2963a01a",
         "x": [
          -0.0830618293811153
         ],
         "y": [
          -0.896158876818091
         ]
        },
        {
         "hoverinfo": "text",
         "marker": {
          "color": "green",
          "size": 0.5
         },
         "mode": "markers",
         "text": "T-SQL appears with Oracle BI 144 times",
         "type": "scatter",
         "uid": "c941661f-6902-4645-8ed3-ee2dbf874ee4",
         "x": [
          -0.8304565718605984
         ],
         "y": [
          0.3469032750689199
         ]
        },
        {
         "hoverinfo": "text",
         "marker": {
          "color": "blue",
          "size": 0.5
         },
         "mode": "markers",
         "text": "Oracle BI appears with T-SQL 144 times",
         "type": "scatter",
         "uid": "c518fe11-b173-4e6c-b196-0dff136ceabd",
         "x": [
          0.13391059415209106
         ],
         "y": [
          -0.8899819957582479
         ]
        },
        {
         "hoverinfo": "text",
         "marker": {
          "color": "green",
          "size": 0.5
         },
         "mode": "markers",
         "text": "T-SQL appears with Python 50 times",
         "type": "scatter",
         "uid": "46c7da50-1c9a-4da3-be93-7b7cc3c4fddf",
         "x": [
          -0.799010314141559
         ],
         "y": [
          0.4142252019076185
         ]
        },
        {
         "hoverinfo": "text",
         "marker": {
          "color": "blue",
          "size": 0.5
         },
         "mode": "markers",
         "text": "Python appears with T-SQL 50 times",
         "type": "scatter",
         "uid": "c2aa1c14-b612-489d-8a42-238431cb4839",
         "x": [
          0.5925907114826784
         ],
         "y": [
          -0.677374526140785
         ]
        },
        {
         "hoverinfo": "text",
         "marker": {
          "color": "green",
          "size": 0.5
         },
         "mode": "markers",
         "text": "T-SQL appears with VBA 27 times",
         "type": "scatter",
         "uid": "4bd4c8d6-5baa-4f32-9221-787ef342a1cb",
         "x": [
          -0.7742407641597595
         ],
         "y": [
          0.4588586264998312
         ]
        },
        {
         "hoverinfo": "text",
         "marker": {
          "color": "blue",
          "size": 0.5
         },
         "mode": "markers",
         "text": "VBA appears with T-SQL 27 times",
         "type": "scatter",
         "uid": "243f694c-b486-4e85-b87a-6ad90194e3da",
         "x": [
          0.8171907571744609
         ],
         "y": [
          -0.37709317998159453
         ]
        },
        {
         "hoverinfo": "text",
         "marker": {
          "color": "green",
          "size": 0.5
         },
         "mode": "markers",
         "text": "T-SQL appears with Linux 28 times",
         "type": "scatter",
         "uid": "814c51b8-9b56-4eb7-a7fc-1b672371a7a4",
         "x": [
          -0.7768079507801132
         ],
         "y": [
          0.45449907327166383
         ]
        },
        {
         "hoverinfo": "text",
         "marker": {
          "color": "blue",
          "size": 0.5
         },
         "mode": "markers",
         "text": "Linux appears with T-SQL 28 times",
         "type": "scatter",
         "uid": "2a46b4a2-cfbe-4fdf-b232-596e77a781e5",
         "x": [
          0.8727479659313977
         ],
         "y": [
          -0.21979760681728977
         ]
        },
        {
         "hoverinfo": "text",
         "marker": {
          "color": "green",
          "size": 0.5
         },
         "mode": "markers",
         "text": "T-SQL appears with AWS 10 times",
         "type": "scatter",
         "uid": "99cb2686-c04a-4e76-b3bb-fd58c0245b07",
         "x": [
          -0.7659100697639649
         ],
         "y": [
          0.4726328014792862
         ]
        },
        {
         "hoverinfo": "text",
         "marker": {
          "color": "blue",
          "size": 0.5
         },
         "mode": "markers",
         "text": "AWS appears with T-SQL 10 times",
         "type": "scatter",
         "uid": "6d621f9b-dc27-4fe2-8dd9-82d7b084f6c5",
         "x": [
          0.895021933120764
         ],
         "y": [
          -0.09452903909789238
         ]
        },
        {
         "hoverinfo": "text",
         "marker": {
          "color": "green",
          "size": 0.5
         },
         "mode": "markers",
         "text": "PL/SQL appears with Pentaho 8 times",
         "type": "scatter",
         "uid": "57d86ec2-eee2-4592-a66b-f47035ce36b1",
         "x": [
          -0.8666435875649555
         ],
         "y": [
          0.24275273867156122
         ]
        },
        {
         "hoverinfo": "text",
         "marker": {
          "color": "blue",
          "size": 0.5
         },
         "mode": "markers",
         "text": "Pentaho appears with PL/SQL 8 times",
         "type": "scatter",
         "uid": "0bf380ce-c12f-41fd-ab27-e0516d6f04b5",
         "x": [
          -0.8846645146220857
         ],
         "y": [
          0.1654348710776222
         ]
        },
        {
         "hoverinfo": "text",
         "marker": {
          "color": "green",
          "size": 0.5
         },
         "mode": "markers",
         "text": "PL/SQL appears with Hadoop 3 times",
         "type": "scatter",
         "uid": "1068c882-23a9-456f-88b3-ab71b6d6f92e",
         "x": [
          -0.8661908874243198
         ],
         "y": [
          0.2443631448133478
         ]
        },
        {
         "hoverinfo": "text",
         "marker": {
          "color": "blue",
          "size": 0.5
         },
         "mode": "markers",
         "text": "Hadoop appears with PL/SQL 3 times",
         "type": "scatter",
         "uid": "0e0ed4a4-f54e-4b62-8752-e2fcca1a42ad",
         "x": [
          -0.8987098712366473
         ],
         "y": [
          0.048172267351754554
         ]
        },
        {
         "hoverinfo": "text",
         "marker": {
          "color": "green",
          "size": 0.5
         },
         "mode": "markers",
         "text": "PL/SQL appears with Informatica 32 times",
         "type": "scatter",
         "uid": "566e4f9d-c6a9-4359-b892-bfa50346fffd",
         "x": [
          -0.8705320479343438
         ],
         "y": [
          0.22841618488898163
         ]
        },
        {
         "hoverinfo": "text",
         "marker": {
          "color": "blue",
          "size": 0.5
         },
         "mode": "markers",
         "text": "Informatica appears with PL/SQL 32 times",
         "type": "scatter",
         "uid": "88132e94-1fa8-444f-9e46-cd80321962cb",
         "x": [
          -0.8481218975897333
         ],
         "y": [
          -0.3011465537388565
         ]
        },
        {
         "hoverinfo": "text",
         "marker": {
          "color": "green",
          "size": 0.5
         },
         "mode": "markers",
         "text": "PL/SQL appears with Qlik 20 times",
         "type": "scatter",
         "uid": "2cfdd9aa-a142-48cd-8bbc-e4bf77ec732b",
         "x": [
          -0.8679660266036088
         ],
         "y": [
          0.237981042652442
         ]
        },
        {
         "hoverinfo": "text",
         "marker": {
          "color": "blue",
          "size": 0.5
         },
         "mode": "markers",
         "text": "Qlik appears with PL/SQL 20 times",
         "type": "scatter",
         "uid": "c6e55387-f365-4527-be8a-56387a289ebd",
         "x": [
          -0.788152266389967
         ],
         "y": [
          -0.4345296364856583
         ]
        },
        {
         "hoverinfo": "text",
         "marker": {
          "color": "green",
          "size": 0.5
         },
         "mode": "markers",
         "text": "PL/SQL appears with Tableau 22 times",
         "type": "scatter",
         "uid": "f72e859e-f411-4106-a0d2-01086b6fbe9c",
         "x": [
          -0.8687049153158289
         ],
         "y": [
          0.23526956901843135
         ]
        },
        {
         "hoverinfo": "text",
         "marker": {
          "color": "blue",
          "size": 0.5
         },
         "mode": "markers",
         "text": "Tableau appears with PL/SQL 22 times",
         "type": "scatter",
         "uid": "acdeaed3-3fe4-4f87-959e-7595dd2a0a67",
         "x": [
          -0.5368252864446185
         ],
         "y": [
          -0.7223701349264471
         ]
        },
        {
         "hoverinfo": "text",
         "marker": {
          "color": "green",
          "size": 0.5
         },
         "mode": "markers",
         "text": "PL/SQL appears with Microstrategy 26 times",
         "type": "scatter",
         "uid": "232329d9-6d74-4ebc-afe2-f3d728b7dbf1",
         "x": [
          -0.8695389871523244
         ],
         "y": [
          0.23216793452608797
         ]
        },
        {
         "hoverinfo": "text",
         "marker": {
          "color": "blue",
          "size": 0.5
         },
         "mode": "markers",
         "text": "Microstrategy appears with PL/SQL 26 times",
         "type": "scatter",
         "uid": "55fbd5c7-cfce-467f-92a8-a3fdbc62721c",
         "x": [
          -0.07491718102544773
         ],
         "y": [
          -0.8968764775526228
         ]
        },
        {
         "hoverinfo": "text",
         "marker": {
          "color": "green",
          "size": 0.5
         },
         "mode": "markers",
         "text": "PL/SQL appears with Oracle BI 86 times",
         "type": "scatter",
         "uid": "a26643b3-861d-4e66-84c6-bd14d155fa9a",
         "x": [
          -0.8771791998580565
         ],
         "y": [
          0.2013868201655208
         ]
        },
        {
         "hoverinfo": "text",
         "marker": {
          "color": "blue",
          "size": 0.5
         },
         "mode": "markers",
         "text": "Oracle BI appears with PL/SQL 86 times",
         "type": "scatter",
         "uid": "b605ddc7-d940-4112-a8c5-a809dbf88f57",
         "x": [
          0.08475556045621113
         ],
         "y": [
          -0.8960002762118735
         ]
        },
        {
         "hoverinfo": "text",
         "marker": {
          "color": "green",
          "size": 0.5
         },
         "mode": "markers",
         "text": "PL/SQL appears with Python 3 times",
         "type": "scatter",
         "uid": "a13493ca-0766-45b3-a278-3993de199277",
         "x": [
          -0.8660817940517569
         ],
         "y": [
          0.24474951687815508
         ]
        },
        {
         "hoverinfo": "text",
         "marker": {
          "color": "blue",
          "size": 0.5
         },
         "mode": "markers",
         "text": "Python appears with PL/SQL 3 times",
         "type": "scatter",
         "uid": "b3e0172d-72e1-42f1-ad04-b4e12ee6cf34",
         "x": [
          0.5713626210642937
         ],
         "y": [
          -0.6953738241050926
         ]
        },
        {
         "hoverinfo": "text",
         "marker": {
          "color": "green",
          "size": 0.5
         },
         "mode": "markers",
         "text": "PL/SQL appears with VBA 7 times",
         "type": "scatter",
         "uid": "69ae425c-45a2-437c-b0ab-05b0cb02713d",
         "x": [
          -0.8663723266648692
         ],
         "y": [
          0.24371908335069123
         ]
        },
        {
         "hoverinfo": "text",
         "marker": {
          "color": "blue",
          "size": 0.5
         },
         "mode": "markers",
         "text": "VBA appears with PL/SQL 7 times",
         "type": "scatter",
         "uid": "0f0473a1-dafe-48b5-b697-729daab2e1f8",
         "x": [
          0.815249076553084
         ],
         "y": [
          -0.3812727936521878
         ]
        },
        {
         "hoverinfo": "text",
         "marker": {
          "color": "green",
          "size": 0.5
         },
         "mode": "markers",
         "text": "PL/SQL appears with Linux 1 times",
         "type": "scatter",
         "uid": "841de9ff-f947-4ee7-b4dd-cce2fe52a332",
         "x": [
          -0.865863090294427
         ],
         "y": [
          0.2455221148202034
         ]
        },
        {
         "hoverinfo": "text",
         "marker": {
          "color": "blue",
          "size": 0.5
         },
         "mode": "markers",
         "text": "Linux appears with PL/SQL 1 times",
         "type": "scatter",
         "uid": "075cc281-8f59-4298-a624-00528ebf0fe5",
         "x": [
          0.8681925280645245
         ],
         "y": [
          -0.23715339806321536
         ]
        },
        {
         "hoverinfo": "text",
         "marker": {
          "color": "green",
          "size": 0.5
         },
         "mode": "markers",
         "text": "PL/SQL appears with AWS 2 times",
         "type": "scatter",
         "uid": "5ec280ad-45ea-4a29-ba1d-1cffdb94efcc",
         "x": [
          -0.8659178308534887
         ],
         "y": [
          0.2453289836321604
         ]
        },
        {
         "hoverinfo": "text",
         "marker": {
          "color": "blue",
          "size": 0.5
         },
         "mode": "markers",
         "text": "AWS appears with PL/SQL 2 times",
         "type": "scatter",
         "uid": "0ae30d28-8cdf-43de-8039-7bac36442c61",
         "x": [
          0.8944083507525155
         ],
         "y": [
          -0.10016836878059497
         ]
        },
        {
         "hoverinfo": "text",
         "marker": {
          "color": "green",
          "size": 0.5
         },
         "mode": "markers",
         "text": "Pentaho appears with Spark 8 times",
         "type": "scatter",
         "uid": "59f79ea5-ad9f-4757-a491-b639f458da6d",
         "x": [
          -0.8844303734705709
         ],
         "y": [
          0.16668207606910362
         ]
        },
        {
         "hoverinfo": "text",
         "marker": {
          "color": "blue",
          "size": 0.5
         },
         "mode": "markers",
         "text": "Spark appears with Pentaho 8 times",
         "type": "scatter",
         "uid": "08282b9a-d84d-43e9-9cff-f6a07063cdd6",
         "x": [
          -0.8934715650550835
         ],
         "y": [
          -0.10820611090885583
         ]
        },
        {
         "hoverinfo": "text",
         "marker": {
          "color": "green",
          "size": 0.5
         },
         "mode": "markers",
         "text": "Pentaho appears with Informatica 36 times",
         "type": "scatter",
         "uid": "57238db0-37bd-4ed9-945a-39e276d27f54",
         "x": [
          -0.8868821478956018
         ],
         "y": [
          0.15310145572163536
         ]
        },
        {
         "hoverinfo": "text",
         "marker": {
          "color": "blue",
          "size": 0.5
         },
         "mode": "markers",
         "text": "Informatica appears with Pentaho 36 times",
         "type": "scatter",
         "uid": "078404fd-10c5-40e3-873a-11aeededc8fa",
         "x": [
          -0.8461591073587064
         ],
         "y": [
          -0.3066182725049461
         ]
        },
        {
         "hoverinfo": "text",
         "marker": {
          "color": "green",
          "size": 0.5
         },
         "mode": "markers",
         "text": "Pentaho appears with Qlik 33 times",
         "type": "scatter",
         "uid": "13c931ee-c2b8-412f-b2f0-3f277d92299c",
         "x": [
          -0.8859348108482094
         ],
         "y": [
          0.1584913591567297
         ]
        },
        {
         "hoverinfo": "text",
         "marker": {
          "color": "blue",
          "size": 0.5
         },
         "mode": "markers",
         "text": "Qlik appears with Pentaho 33 times",
         "type": "scatter",
         "uid": "f48708e4-5f61-42a0-ae2a-c5c10438e44c",
         "x": [
          -0.7827492143755145
         ],
         "y": [
          -0.4441887745030427
         ]
        },
        {
         "hoverinfo": "text",
         "marker": {
          "color": "green",
          "size": 0.5
         },
         "mode": "markers",
         "text": "Pentaho appears with Tableau 41 times",
         "type": "scatter",
         "uid": "029670a9-b235-4efc-a75b-481249f21839",
         "x": [
          -0.8915000460540626
         ],
         "y": [
          0.12340043713700621
         ]
        },
        {
         "hoverinfo": "text",
         "marker": {
          "color": "blue",
          "size": 0.5
         },
         "mode": "markers",
         "text": "Tableau appears with Pentaho 41 times",
         "type": "scatter",
         "uid": "a4ec2ffd-db8a-4e07-af16-25c54b3f9f1d",
         "x": [
          -0.5148487153872566
         ],
         "y": [
          -0.7381942835487766
         ]
        },
        {
         "hoverinfo": "text",
         "marker": {
          "color": "green",
          "size": 0.5
         },
         "mode": "markers",
         "text": "Pentaho appears with Microstrategy 4 times",
         "type": "scatter",
         "uid": "af46de28-3079-4dcc-914a-61616a42f2e1",
         "x": [
          -0.8842536136866799
         ],
         "y": [
          0.1676172624822635
         ]
        },
        {
         "hoverinfo": "text",
         "marker": {
          "color": "blue",
          "size": 0.5
         },
         "mode": "markers",
         "text": "Microstrategy appears with Pentaho 4 times",
         "type": "scatter",
         "uid": "a4ea3fcf-5ae6-432d-85f9-6fcf4b146c2a",
         "x": [
          -0.08864473101313779
         ],
         "y": [
          -0.8956238672922961
         ]
        },
        {
         "hoverinfo": "text",
         "marker": {
          "color": "green",
          "size": 0.5
         },
         "mode": "markers",
         "text": "Pentaho appears with Oracle BI 40 times",
         "type": "scatter",
         "uid": "4de29420-b735-4750-a6e6-1ac6817b4447",
         "x": [
          -0.8905964989421524
         ],
         "y": [
          0.12976084182826766
         ]
        },
        {
         "hoverinfo": "text",
         "marker": {
          "color": "blue",
          "size": 0.5
         },
         "mode": "markers",
         "text": "Oracle BI appears with Pentaho 40 times",
         "type": "scatter",
         "uid": "5c56b1e9-5606-4606-94ca-a2046904fa75",
         "x": [
          0.009598086678507632
         ],
         "y": [
          -0.8999488189514512
         ]
        },
        {
         "hoverinfo": "text",
         "marker": {
          "color": "green",
          "size": 0.5
         },
         "mode": "markers",
         "text": "Pentaho appears with Python 38 times",
         "type": "scatter",
         "uid": "1b9ed0cf-f8cc-45fa-b363-d6af8fb0431a",
         "x": [
          -0.8896835281404922
         ],
         "y": [
          0.13587943095069993
         ]
        },
        {
         "hoverinfo": "text",
         "marker": {
          "color": "blue",
          "size": 0.5
         },
         "mode": "markers",
         "text": "Python appears with Pentaho 38 times",
         "type": "scatter",
         "uid": "87ab0a16-a496-4ce1-80d6-d9f215741a29",
         "x": [
          0.5861858776524818
         ],
         "y": [
          -0.6829246787463386
         ]
        },
        {
         "hoverinfo": "text",
         "marker": {
          "color": "green",
          "size": 0.5
         },
         "mode": "markers",
         "text": "Pentaho appears with VBA 1 times",
         "type": "scatter",
         "uid": "93efa1df-d3c2-44cf-8aa1-087ca83331cf",
         "x": [
          -0.8841796719157846
         ],
         "y": [
          0.16800686822536634
         ]
        },
        {
         "hoverinfo": "text",
         "marker": {
          "color": "blue",
          "size": 0.5
         },
         "mode": "markers",
         "text": "VBA appears with Pentaho 1 times",
         "type": "scatter",
         "uid": "48840c09-8c62-43ce-a061-21ca2f7bd275",
         "x": [
          0.812773594954757
         ],
         "y": [
          -0.38652177602862264
         ]
        },
        {
         "hoverinfo": "text",
         "marker": {
          "color": "green",
          "size": 0.5
         },
         "mode": "markers",
         "text": "Pentaho appears with Linux 37 times",
         "type": "scatter",
         "uid": "1f075c70-07b7-4d3c-a31a-529b045a4b38",
         "x": [
          -0.8887660295824242
         ],
         "y": [
          0.1417566388579154
         ]
        },
        {
         "hoverinfo": "text",
         "marker": {
          "color": "blue",
          "size": 0.5
         },
         "mode": "markers",
         "text": "Linux appears with Pentaho 37 times",
         "type": "scatter",
         "uid": "de1243e3-0286-4a77-9ea7-25020689caa3",
         "x": [
          0.8740450555807177
         ],
         "y": [
          -0.21458154816968802
         ]
        },
        {
         "hoverinfo": "text",
         "marker": {
          "color": "green",
          "size": 0.5
         },
         "mode": "markers",
         "text": "Pentaho appears with AWS 15 times",
         "type": "scatter",
         "uid": "ceb78e0b-939c-4374-9b8c-1185753f1435",
         "x": [
          -0.8852564723514793
         ],
         "y": [
          0.16223741294724436
         ]
        },
        {
         "hoverinfo": "text",
         "marker": {
          "color": "blue",
          "size": 0.5
         },
         "mode": "markers",
         "text": "AWS appears with Pentaho 15 times",
         "type": "scatter",
         "uid": "3b9f67b8-275f-413a-b3b9-da0423c5de8c",
         "x": [
          0.8952159988251726
         ],
         "y": [
          -0.09267316465648912
         ]
        },
        {
         "hoverinfo": "text",
         "marker": {
          "color": "green",
          "size": 0.5
         },
         "mode": "markers",
         "text": "Hadoop appears with Spark 143 times",
         "type": "scatter",
         "uid": "56b30248-eb2e-43ef-b1c0-2d6c3b61783c",
         "x": [
          -0.899096674580065
         ],
         "y": [
          -0.0403133942886086
         ]
        },
        {
         "hoverinfo": "text",
         "marker": {
          "color": "blue",
          "size": 0.5
         },
         "mode": "markers",
         "text": "Spark appears with Hadoop 143 times",
         "type": "scatter",
         "uid": "f2ef0afd-053f-46ab-853b-94fe80915697",
         "x": [
          -0.8758643460518786
         ],
         "y": [
          -0.20703054681644217
         ]
        },
        {
         "hoverinfo": "text",
         "marker": {
          "color": "green",
          "size": 0.5
         },
         "mode": "markers",
         "text": "Hadoop appears with Informatica 5 times",
         "type": "scatter",
         "uid": "7ca73058-d822-4a93-8648-92e826c2f0c8",
         "x": [
          -0.8987816005850896
         ],
         "y": [
          0.04681489559642927
         ]
        },
        {
         "hoverinfo": "text",
         "marker": {
          "color": "blue",
          "size": 0.5
         },
         "mode": "markers",
         "text": "Informatica appears with Hadoop 5 times",
         "type": "scatter",
         "uid": "10b836e9-dd96-436c-b725-6183c1f0a258",
         "x": [
          -0.8568560600320855
         ],
         "y": [
          -0.2753138071116144
         ]
        },
        {
         "hoverinfo": "text",
         "marker": {
          "color": "green",
          "size": 0.5
         },
         "mode": "markers",
         "text": "Hadoop appears with Qlik 9 times",
         "type": "scatter",
         "uid": "fdbc0fb4-37f2-498c-b1cc-5cff18800b2e",
         "x": [
          -0.8989519543642626
         ],
         "y": [
          0.04342100579987537
         ]
        },
        {
         "hoverinfo": "text",
         "marker": {
          "color": "blue",
          "size": 0.5
         },
         "mode": "markers",
         "text": "Qlik appears with Hadoop 9 times",
         "type": "scatter",
         "uid": "7fc3e303-03bf-45d4-959a-f6ee7600f110",
         "x": [
          -0.7937992488701339
         ],
         "y": [
          -0.42412586869137253
         ]
        },
        {
         "hoverinfo": "text",
         "marker": {
          "color": "green",
          "size": 0.5
         },
         "mode": "markers",
         "text": "Hadoop appears with Tableau 38 times",
         "type": "scatter",
         "uid": "863020db-9273-41d3-a67b-4b98d0aec00a",
         "x": [
          -0.899863798438409
         ],
         "y": [
          0.015657083380961598
         ]
        },
        {
         "hoverinfo": "text",
         "marker": {
          "color": "blue",
          "size": 0.5
         },
         "mode": "markers",
         "text": "Tableau appears with Hadoop 38 times",
         "type": "scatter",
         "uid": "eb480309-da0a-4ef7-8ad3-58498c036d3e",
         "x": [
          -0.5211647927359915
         ],
         "y": [
          -0.7337487709103513
         ]
        },
        {
         "hoverinfo": "text",
         "marker": {
          "color": "green",
          "size": 0.5
         },
         "mode": "markers",
         "text": "Hadoop appears with Microstrategy 3 times",
         "type": "scatter",
         "uid": "6912f91d-469d-4817-8ccd-586c22fba104",
         "x": [
          -0.8986824442194
         ],
         "y": [
          0.048681253597715156
         ]
        },
        {
         "hoverinfo": "text",
         "marker": {
          "color": "blue",
          "size": 0.5
         },
         "mode": "markers",
         "text": "Microstrategy appears with Hadoop 3 times",
         "type": "scatter",
         "uid": "61803c08-1016-415c-b62a-2d498815f337",
         "x": [
          -0.08911542376078328
         ],
         "y": [
          -0.8955771553852498
         ]
        },
        {
         "hoverinfo": "text",
         "marker": {
          "color": "green",
          "size": 0.5
         },
         "mode": "markers",
         "text": "Hadoop appears with Oracle BI 36 times",
         "type": "scatter",
         "uid": "3fd4b16c-574a-4d55-a1cb-50bc037e5b6d",
         "x": [
          -0.8997324798667615
         ],
         "y": [
          0.02194230327034411
         ]
        },
        {
         "hoverinfo": "text",
         "marker": {
          "color": "blue",
          "size": 0.5
         },
         "mode": "markers",
         "text": "Oracle BI appears with Hadoop 36 times",
         "type": "scatter",
         "uid": "3675e7f1-9f4b-4cfc-9f27-f319f0cdb490",
         "x": [
          0.002069959740978422
         ],
         "y": [
          -0.8999976195894468
         ]
        },
        {
         "hoverinfo": "text",
         "marker": {
          "color": "green",
          "size": 0.5
         },
         "mode": "markers",
         "text": "Hadoop appears with Python 156 times",
         "type": "scatter",
         "uid": "7b1c92c0-4093-4cfb-8fe3-aacde87ddb9f",
         "x": [
          -0.8976009599462662
         ],
         "y": [
          -0.06566975486128618
         ]
        },
        {
         "hoverinfo": "text",
         "marker": {
          "color": "blue",
          "size": 0.5
         },
         "mode": "markers",
         "text": "Python appears with Hadoop 156 times",
         "type": "scatter",
         "uid": "f7888fc4-3a92-4c15-a9d3-19aad84a24c2",
         "x": [
          0.7019956091081574
         ],
         "y": [
          -0.563207035461088
         ]
        },
        {
         "hoverinfo": "text",
         "marker": {
          "color": "green",
          "size": 0.5
         },
         "mode": "markers",
         "text": "Hadoop appears with VBA 7 times",
         "type": "scatter",
         "uid": "994f0042-d10b-46d5-95bc-2ce2da24894b",
         "x": [
          -0.8988853505955301
         ],
         "y": [
          0.044778638710338416
         ]
        },
        {
         "hoverinfo": "text",
         "marker": {
          "color": "blue",
          "size": 0.5
         },
         "mode": "markers",
         "text": "VBA appears with Hadoop 7 times",
         "type": "scatter",
         "uid": "0aaaa908-03e3-44d0-acbf-7559470fcb7a",
         "x": [
          0.8147421862957052
         ],
         "y": [
          -0.38235476964475607
         ]
        },
        {
         "hoverinfo": "text",
         "marker": {
          "color": "green",
          "size": 0.5
         },
         "mode": "markers",
         "text": "Hadoop appears with Linux 99 times",
         "type": "scatter",
         "uid": "d10ce5c1-4bb2-40bc-bc52-367c440c02a6",
         "x": [
          -0.8997829123383151
         ],
         "y": [
          -0.019766402403575304
         ]
        },
        {
         "hoverinfo": "text",
         "marker": {
          "color": "blue",
          "size": 0.5
         },
         "mode": "markers",
         "text": "Linux appears with Hadoop 99 times",
         "type": "scatter",
         "uid": "4282879a-c378-4ef8-a843-650db0df2046",
         "x": [
          0.8867739019452636
         ],
         "y": [
          -0.15372718311597328
         ]
        },
        {
         "hoverinfo": "text",
         "marker": {
          "color": "green",
          "size": 0.5
         },
         "mode": "markers",
         "text": "Hadoop appears with AWS 54 times",
         "type": "scatter",
         "uid": "5fc32075-f659-4b1c-8701-285db57f8f30",
         "x": [
          -0.8999658344095868
         ],
         "y": [
          0.00784199562969242
         ]
        },
        {
         "hoverinfo": "text",
         "marker": {
          "color": "blue",
          "size": 0.5
         },
         "mode": "markers",
         "text": "AWS appears with Hadoop 54 times",
         "type": "scatter",
         "uid": "6e368936-394f-495e-b192-3923ae3164bd",
         "x": [
          0.8977075563048373
         ],
         "y": [
          -0.06419613191771946
         ]
        },
        {
         "hoverinfo": "text",
         "marker": {
          "color": "green",
          "size": 0.5
         },
         "mode": "markers",
         "text": "Spark appears with Informatica 15 times",
         "type": "scatter",
         "uid": "c4b86ea9-7d74-4816-bb4a-fdea635dec17",
         "x": [
          -0.8927329828828491
         ],
         "y": [
          -0.11413948165771011
         ]
        },
        {
         "hoverinfo": "text",
         "marker": {
          "color": "blue",
          "size": 0.5
         },
         "mode": "markers",
         "text": "Informatica appears with Spark 15 times",
         "type": "scatter",
         "uid": "d0a8fadc-20f6-4928-9705-b6de6351a5cf",
         "x": [
          -0.8542023602256331
         ],
         "y": [
          -0.28344016614615114
         ]
        },
        {
         "hoverinfo": "text",
         "marker": {
          "color": "green",
          "size": 0.5
         },
         "mode": "markers",
         "text": "Spark appears with Qlik 16 times",
         "type": "scatter",
         "uid": "2c5177bf-0a5e-4091-b7fa-7c83857102cc",
         "x": [
          -0.8923883263361101
         ],
         "y": [
          -0.11680357451309552
         ]
        },
        {
         "hoverinfo": "text",
         "marker": {
          "color": "blue",
          "size": 0.5
         },
         "mode": "markers",
         "text": "Qlik appears with Spark 16 times",
         "type": "scatter",
         "uid": "7cf79d12-0155-4d7b-a747-dc088af8dc08",
         "x": [
          -0.7913827772826401
         ],
         "y": [
          -0.4286178948905603
         ]
        },
        {
         "hoverinfo": "text",
         "marker": {
          "color": "green",
          "size": 0.5
         },
         "mode": "markers",
         "text": "Spark appears with Tableau 36 times",
         "type": "scatter",
         "uid": "f84edc1e-2c7b-4735-8c57-714af0f5c9e6",
         "x": [
          -0.8881433199160216
         ],
         "y": [
          -0.14560715397447815
         ]
        },
        {
         "hoverinfo": "text",
         "marker": {
          "color": "blue",
          "size": 0.5
         },
         "mode": "markers",
         "text": "Tableau appears with Spark 36 times",
         "type": "scatter",
         "uid": "23ca765e-c087-4b12-8c6e-d0233c7644f9",
         "x": [
          -0.5270463112138473
         ],
         "y": [
          -0.7295355960032907
         ]
        },
        {
         "hoverinfo": "text",
         "marker": {
          "color": "green",
          "size": 0.5
         },
         "mode": "markers",
         "text": "Spark appears with Microstrategy 3 times",
         "type": "scatter",
         "uid": "f40b321c-cccb-4a40-8898-f024a4fbd8d5",
         "x": [
          -0.8935856664170513
         ],
         "y": [
          -0.10725976307075416
         ]
        },
        {
         "hoverinfo": "text",
         "marker": {
          "color": "blue",
          "size": 0.5
         },
         "mode": "markers",
         "text": "Microstrategy appears with Spark 3 times",
         "type": "scatter",
         "uid": "cd7c9430-fb4f-434d-8ad1-7a72215bd0cc",
         "x": [
          -0.08951885510076132
         ],
         "y": [
          -0.8955369197199237
         ]
        },
        {
         "hoverinfo": "text",
         "marker": {
          "color": "green",
          "size": 0.5
         },
         "mode": "markers",
         "text": "Spark appears with Oracle BI 35 times",
         "type": "scatter",
         "uid": "16e846ca-a453-4698-bbb2-e8c2df4ba39f",
         "x": [
          -0.8891179438356102
         ],
         "y": [
          -0.13953236882364198
         ]
        },
        {
         "hoverinfo": "text",
         "marker": {
          "color": "blue",
          "size": 0.5
         },
         "mode": "markers",
         "text": "Oracle BI appears with Spark 35 times",
         "type": "scatter",
         "uid": "0ad61b2f-45f5-47b4-aaef-8af6d64912a4",
         "x": [
          -0.0049630369782403165
         ],
         "y": [
          -0.899986315598161
         ]
        },
        {
         "hoverinfo": "text",
         "marker": {
          "color": "green",
          "size": 0.5
         },
         "mode": "markers",
         "text": "Spark appears with Python 170 times",
         "type": "scatter",
         "uid": "e7769dd9-87cb-41ce-90b5-50ca29164469",
         "x": [
          -0.8692283924075884
         ],
         "y": [
          -0.23332809910621488
         ]
        },
        {
         "hoverinfo": "text",
         "marker": {
          "color": "blue",
          "size": 0.5
         },
         "mode": "markers",
         "text": "Python appears with Spark 170 times",
         "type": "scatter",
         "uid": "cebdff00-f0aa-438f-b24c-ab0f172b81ce",
         "x": [
          0.7569892277414267
         ],
         "y": [
          -0.4867928810936313
         ]
        },
        {
         "hoverinfo": "text",
         "marker": {
          "color": "green",
          "size": 0.5
         },
         "mode": "markers",
         "text": "Spark appears with VBA 10 times",
         "type": "scatter",
         "uid": "14dde974-b392-4995-a30a-20fda7b4bae7",
         "x": [
          -0.8932826919701595
         ],
         "y": [
          -0.10975441779967282
         ]
        },
        {
         "hoverinfo": "text",
         "marker": {
          "color": "blue",
          "size": 0.5
         },
         "mode": "markers",
         "text": "VBA appears with Spark 10 times",
         "type": "scatter",
         "uid": "1a74a27a-55e3-449f-b0b4-f9cc923bf5b2",
         "x": [
          0.8158626543671583
         ],
         "y": [
          -0.379958062434494
         ]
        },
        {
         "hoverinfo": "text",
         "marker": {
          "color": "green",
          "size": 0.5
         },
         "mode": "markers",
         "text": "Spark appears with Linux 81 times",
         "type": "scatter",
         "uid": "35d4a3cd-08de-4b3e-886e-13cb83f56983",
         "x": [
          -0.8833526014304222
         ],
         "y": [
          -0.17230258717182922
         ]
        },
        {
         "hoverinfo": "text",
         "marker": {
          "color": "blue",
          "size": 0.5
         },
         "mode": "markers",
         "text": "Linux appears with Spark 81 times",
         "type": "scatter",
         "uid": "5778491e-2ab8-4fd1-9df5-aabd3b5f5ec8",
         "x": [
          0.8841103739774432
         ],
         "y": [
          -0.1683711573443197
         ]
        },
        {
         "hoverinfo": "text",
         "marker": {
          "color": "green",
          "size": 0.5
         },
         "mode": "markers",
         "text": "Spark appears with AWS 57 times",
         "type": "scatter",
         "uid": "303c3f9f-fb34-4798-8bc8-674f6764d9fc",
         "x": [
          -0.8855639528446672
         ],
         "y": [
          -0.16055056967238773
         ]
        },
        {
         "hoverinfo": "text",
         "marker": {
          "color": "blue",
          "size": 0.5
         },
         "mode": "markers",
         "text": "AWS appears with Spark 57 times",
         "type": "scatter",
         "uid": "2dfed29f-a779-4e68-a3b7-6ef368e25777",
         "x": [
          0.898260473167437
         ],
         "y": [
          -0.05592961956791984
         ]
        },
        {
         "hoverinfo": "text",
         "marker": {
          "color": "green",
          "size": 0.5
         },
         "mode": "markers",
         "text": "Informatica appears with Qlik 94 times",
         "type": "scatter",
         "uid": "e1f4ce5e-c5a1-4b9f-8ef5-63e3d4b9cccb",
         "x": [
          -0.8289935900513512
         ],
         "y": [
          -0.35038497064482127
         ]
        },
        {
         "hoverinfo": "text",
         "marker": {
          "color": "blue",
          "size": 0.5
         },
         "mode": "markers",
         "text": "Qlik appears with Informatica 94 times",
         "type": "scatter",
         "uid": "94a25421-9304-4817-9cdb-b3d31c1ce21c",
         "x": [
          -0.7429674819141094
         ],
         "y": [
          -0.5079363353986476
         ]
        },
        {
         "hoverinfo": "text",
         "marker": {
          "color": "green",
          "size": 0.5
         },
         "mode": "markers",
         "text": "Informatica appears with Tableau 72 times",
         "type": "scatter",
         "uid": "4dbea61f-c592-496a-b87d-f4d1096fe33a",
         "x": [
          -0.8390737508993411
         ],
         "y": [
          -0.3255076658877798
         ]
        },
        {
         "hoverinfo": "text",
         "marker": {
          "color": "blue",
          "size": 0.5
         },
         "mode": "markers",
         "text": "Tableau appears with Informatica 72 times",
         "type": "scatter",
         "uid": "e4472843-14a4-49d9-9866-844096449326",
         "x": [
          -0.48814260588077385
         ],
         "y": [
          -0.7561195648334512
         ]
        },
        {
         "hoverinfo": "text",
         "marker": {
          "color": "green",
          "size": 0.5
         },
         "mode": "markers",
         "text": "Informatica appears with Microstrategy 16 times",
         "type": "scatter",
         "uid": "705b4b24-ed4d-44fb-98bc-f08b57e5caba",
         "x": [
          -0.8533640532875736
         ],
         "y": [
          -0.2859541791207174
         ]
        },
        {
         "hoverinfo": "text",
         "marker": {
          "color": "blue",
          "size": 0.5
         },
         "mode": "markers",
         "text": "Microstrategy appears with Informatica 16 times",
         "type": "scatter",
         "uid": "936d3fea-226c-40e1-9859-220334f4b00e",
         "x": [
          -0.08528193563906233
         ],
         "y": [
          -0.8959503286754544
         ]
        },
        {
         "hoverinfo": "text",
         "marker": {
          "color": "green",
          "size": 0.5
         },
         "mode": "markers",
         "text": "Informatica appears with Oracle BI 135 times",
         "type": "scatter",
         "uid": "d8b43cd6-3e0d-4fb9-9639-5740b8a216a0",
         "x": [
          -0.8125672592125124
         ],
         "y": [
          -0.3869553582209008
         ]
        },
        {
         "hoverinfo": "text",
         "marker": {
          "color": "blue",
          "size": 0.5
         },
         "mode": "markers",
         "text": "Oracle BI appears with Informatica 135 times",
         "type": "scatter",
         "uid": "c1371131-65c3-4b36-ab7c-2d832c130690",
         "x": [
          0.10652257524004682
         ],
         "y": [
          -0.8936738448473406
         ]
        },
        {
         "hoverinfo": "text",
         "marker": {
          "color": "green",
          "size": 0.5
         },
         "mode": "markers",
         "text": "Informatica appears with Python 31 times",
         "type": "scatter",
         "uid": "a2984ce3-fbe7-47a2-be81-a0b7fe173f7a",
         "x": [
          -0.849908790973405
         ],
         "y": [
          -0.29606595046733253
         ]
        },
        {
         "hoverinfo": "text",
         "marker": {
          "color": "blue",
          "size": 0.5
         },
         "mode": "markers",
         "text": "Python appears with Informatica 31 times",
         "type": "scatter",
         "uid": "3eca6d8f-2e95-4b0c-90c5-8746057af9e8",
         "x": [
          0.5811275200943535
         ],
         "y": [
          -0.6872341707081995
         ]
        },
        {
         "hoverinfo": "text",
         "marker": {
          "color": "green",
          "size": 0.5
         },
         "mode": "markers",
         "text": "Informatica appears with VBA 6 times",
         "type": "scatter",
         "uid": "f640ac92-4a5c-40e8-84df-796f0586607c",
         "x": [
          -0.85656793296815
         ],
         "y": [
          -0.27620893579077205
         ]
        },
        {
         "hoverinfo": "text",
         "marker": {
          "color": "blue",
          "size": 0.5
         },
         "mode": "markers",
         "text": "VBA appears with Informatica 6 times",
         "type": "scatter",
         "uid": "5746a495-5f58-4a4c-9da5-ad0dbcb879ee",
         "x": [
          0.8137605578672245
         ],
         "y": [
          -0.38443953290423155
         ]
        },
        {
         "hoverinfo": "text",
         "marker": {
          "color": "green",
          "size": 0.5
         },
         "mode": "markers",
         "text": "Informatica appears with Linux 10 times",
         "type": "scatter",
         "uid": "d1a1163b-4792-447f-82a4-08bdd094a8a2",
         "x": [
          -0.8561471698540956
         ],
         "y": [
          -0.2775104025992942
         ]
        },
        {
         "hoverinfo": "text",
         "marker": {
          "color": "blue",
          "size": 0.5
         },
         "mode": "markers",
         "text": "Linux appears with Informatica 10 times",
         "type": "scatter",
         "uid": "28ea7503-9d3e-4162-a7ec-a1b40830d7e4",
         "x": [
          0.8693370692303964
         ],
         "y": [
          -0.23292286290079992
         ]
        },
        {
         "hoverinfo": "text",
         "marker": {
          "color": "green",
          "size": 0.5
         },
         "mode": "markers",
         "text": "Informatica appears with AWS 21 times",
         "type": "scatter",
         "uid": "f7befdce-3272-4138-8df7-d3a48612cf40",
         "x": [
          -0.8513607623022956
         ],
         "y": [
          -0.2918644418425343
         ]
        },
        {
         "hoverinfo": "text",
         "marker": {
          "color": "blue",
          "size": 0.5
         },
         "mode": "markers",
         "text": "AWS appears with Informatica 21 times",
         "type": "scatter",
         "uid": "e10642fe-1091-4579-8df1-c68abd34952a",
         "x": [
          0.8954886926264713
         ],
         "y": [
          -0.09000000765629551
         ]
        },
        {
         "hoverinfo": "text",
         "marker": {
          "color": "green",
          "size": 0.5
         },
         "mode": "markers",
         "text": "Qlik appears with Tableau 350 times",
         "type": "scatter",
         "uid": "cd3da689-0c99-41ad-9d37-6e37a97da1e7",
         "x": [
          -0.6956312172842485
         ],
         "y": [
          -0.571049218141164
         ]
        },
        {
         "hoverinfo": "text",
         "marker": {
          "color": "blue",
          "size": 0.5
         },
         "mode": "markers",
         "text": "Tableau appears with Qlik 350 times",
         "type": "scatter",
         "uid": "5f614353-766e-4dea-a6c7-9cd2caf08038",
         "x": [
          -0.3156942154573648
         ],
         "y": [
          -0.8428150226038683
         ]
        },
        {
         "hoverinfo": "text",
         "marker": {
          "color": "green",
          "size": 0.5
         },
         "mode": "markers",
         "text": "Qlik appears with Microstrategy 40 times",
         "type": "scatter",
         "uid": "d8aef4b0-ffac-424a-b98d-78891107e353",
         "x": [
          -0.7792579799399543
         ],
         "y": [
          -0.4502854657879843
         ]
        },
        {
         "hoverinfo": "text",
         "marker": {
          "color": "blue",
          "size": 0.5
         },
         "mode": "markers",
         "text": "Microstrategy appears with Qlik 40 times",
         "type": "scatter",
         "uid": "c7e46e92-2756-45af-84a9-a626e86bc2aa",
         "x": [
          -0.06198102200646907
         ],
         "y": [
          -0.8978632150339124
         ]
        },
        {
         "hoverinfo": "text",
         "marker": {
          "color": "green",
          "size": 0.5
         },
         "mode": "markers",
         "text": "Qlik appears with Oracle BI 362 times",
         "type": "scatter",
         "uid": "66f45601-7ab5-477e-82b4-c73a4f708661",
         "x": [
          -0.6501799411476394
         ],
         "y": [
          -0.6223070336491885
         ]
        },
        {
         "hoverinfo": "text",
         "marker": {
          "color": "blue",
          "size": 0.5
         },
         "mode": "markers",
         "text": "Oracle BI appears with Qlik 362 times",
         "type": "scatter",
         "uid": "6fc15d15-b03d-45cf-9e5e-0dea99d43e9d",
         "x": [
          0.3342264900252104
         ],
         "y": [
          -0.835639068836198
         ]
        },
        {
         "hoverinfo": "text",
         "marker": {
          "color": "green",
          "size": 0.5
         },
         "mode": "markers",
         "text": "Qlik appears with Python 54 times",
         "type": "scatter",
         "uid": "ac10837f-2da4-4315-9fb0-d40bee835417",
         "x": [
          -0.7746925081788467
         ],
         "y": [
          -0.4580955334551599
         ]
        },
        {
         "hoverinfo": "text",
         "marker": {
          "color": "blue",
          "size": 0.5
         },
         "mode": "markers",
         "text": "Python appears with Qlik 54 times",
         "type": "scatter",
         "uid": "756fcf20-2fd6-4506-9a10-bac24c4d3dca",
         "x": [
          0.6000922692781334
         ],
         "y": [
          -0.6707378536750556
         ]
        },
        {
         "hoverinfo": "text",
         "marker": {
          "color": "green",
          "size": 0.5
         },
         "mode": "markers",
         "text": "Qlik appears with VBA 31 times",
         "type": "scatter",
         "uid": "08d4e291-eacc-4c4e-a1f2-4c2f9e352a24",
         "x": [
          -0.7857707902944838
         ],
         "y": [
          -0.43882145015938134
         ]
        },
        {
         "hoverinfo": "text",
         "marker": {
          "color": "blue",
          "size": 0.5
         },
         "mode": "markers",
         "text": "VBA appears with Qlik 31 times",
         "type": "scatter",
         "uid": "874a4f34-31d9-4901-9a53-51aaf1f896fc",
         "x": [
          0.8192523970975252
         ],
         "y": [
          -0.3725929546434809
         ]
        },
        {
         "hoverinfo": "text",
         "marker": {
          "color": "green",
          "size": 0.5
         },
         "mode": "markers",
         "text": "Qlik appears with Linux 2 times",
         "type": "scatter",
         "uid": "de81f71f-f7be-4551-b148-1e04eb2533b4",
         "x": [
          -0.794568946422532
         ],
         "y": [
          -0.4226821375229706
         ]
        },
        {
         "hoverinfo": "text",
         "marker": {
          "color": "blue",
          "size": 0.5
         },
         "mode": "markers",
         "text": "Linux appears with Qlik 2 times",
         "type": "scatter",
         "uid": "f6734593-872c-4d9d-a5dc-9deb2399dab7",
         "x": [
          0.8682578633500329
         ],
         "y": [
          -0.2369140830149944
         ]
        },
        {
         "hoverinfo": "text",
         "marker": {
          "color": "green",
          "size": 0.5
         },
         "mode": "markers",
         "text": "Qlik appears with AWS 3 times",
         "type": "scatter",
         "uid": "5c35cdd7-1fae-4a83-8ffa-5b8eed8cdd8d",
         "x": [
          -0.7943428372500558
         ],
         "y": [
          -0.4231069095506847
         ]
        },
        {
         "hoverinfo": "text",
         "marker": {
          "color": "blue",
          "size": 0.5
         },
         "mode": "markers",
         "text": "AWS appears with Qlik 3 times",
         "type": "scatter",
         "uid": "93d5acc9-20b2-444d-ac0e-6b4e1fedbf08",
         "x": [
          0.8944828670241785
         ],
         "y": [
          -0.09950075678207615
         ]
        },
        {
         "hoverinfo": "text",
         "marker": {
          "color": "green",
          "size": 0.5
         },
         "mode": "markers",
         "text": "Tableau appears with Microstrategy 56 times",
         "type": "scatter",
         "uid": "9d89c050-d960-4be9-98e3-f9b1ba8dacec",
         "x": [
          -0.49860881500345233
         ],
         "y": [
          -0.7492591338120965
         ]
        },
        {
         "hoverinfo": "text",
         "marker": {
          "color": "blue",
          "size": 0.5
         },
         "mode": "markers",
         "text": "Microstrategy appears with Tableau 56 times",
         "type": "scatter",
         "uid": "7e240eab-a099-4f70-af74-6e9cc4f59c12",
         "x": [
          -0.049976561000159035
         ],
         "y": [
          -0.8986113416547765
         ]
        },
        {
         "hoverinfo": "text",
         "marker": {
          "color": "green",
          "size": 0.5
         },
         "mode": "markers",
         "text": "Tableau appears with Oracle BI 429 times",
         "type": "scatter",
         "uid": "892bae5a-f8df-48bd-9ff7-12621e3aacae",
         "x": [
          -0.24332713111625512
         ],
         "y": [
          -0.8664824910306802
         ]
        },
        {
         "hoverinfo": "text",
         "marker": {
          "color": "blue",
          "size": 0.5
         },
         "mode": "markers",
         "text": "Oracle BI appears with Tableau 429 times",
         "type": "scatter",
         "uid": "b2b8e565-b54f-40e2-afb2-0ffd3a5e8632",
         "x": [
          0.4056193808280252
         ],
         "y": [
          -0.8034132920836508
         ]
        },
        {
         "hoverinfo": "text",
         "marker": {
          "color": "green",
          "size": 0.5
         },
         "mode": "markers",
         "text": "Tableau appears with Python 138 times",
         "type": "scatter",
         "uid": "263e2485-ffcc-45fb-9fc4-8957b992046c",
         "x": [
          -0.4223998614217852
         ],
         "y": [
          -0.7947190428515329
         ]
        },
        {
         "hoverinfo": "text",
         "marker": {
          "color": "blue",
          "size": 0.5
         },
         "mode": "markers",
         "text": "Python appears with Tableau 138 times",
         "type": "scatter",
         "uid": "fc4a4fd4-03ac-40c0-a1ac-a0eae87e142c",
         "x": [
          0.6839324128426102
         ],
         "y": [
          -0.5850097902285786
         ]
        },
        {
         "hoverinfo": "text",
         "marker": {
          "color": "green",
          "size": 0.5
         },
         "mode": "markers",
         "text": "Tableau appears with VBA 76 times",
         "type": "scatter",
         "uid": "00d26e1e-1a25-4bf6-8cbf-76c5b3d6bf73",
         "x": [
          -0.47592353338032756
         ],
         "y": [
          -0.7638696160829964
         ]
        },
        {
         "hoverinfo": "text",
         "marker": {
          "color": "blue",
          "size": 0.5
         },
         "mode": "markers",
         "text": "VBA appears with Tableau 76 times",
         "type": "scatter",
         "uid": "831b46a8-1e2c-4838-955b-225abef47ff5",
         "x": [
          0.8326954311800637
         ],
         "y": [
          -0.3414942443026645
         ]
        },
        {
         "hoverinfo": "text",
         "marker": {
          "color": "green",
          "size": 0.5
         },
         "mode": "markers",
         "text": "Tableau appears with Linux 19 times",
         "type": "scatter",
         "uid": "a382016f-3671-4354-bcc0-a64b98c534f9",
         "x": [
          -0.540037316077638
         ],
         "y": [
          -0.7199720114307647
         ]
        },
        {
         "hoverinfo": "text",
         "marker": {
          "color": "blue",
          "size": 0.5
         },
         "mode": "markers",
         "text": "Linux appears with Tableau 19 times",
         "type": "scatter",
         "uid": "635aaf57-a35b-424d-888b-3a3f736be46b",
         "x": [
          0.8707126050611868
         ],
         "y": [
          -0.22772694040794095
         ]
        },
        {
         "hoverinfo": "text",
         "marker": {
          "color": "green",
          "size": 0.5
         },
         "mode": "markers",
         "text": "Tableau appears with AWS 33 times",
         "type": "scatter",
         "uid": "074255f4-44a4-420d-a56a-302eae592b3e",
         "x": [
          -0.5324997532664022
         ],
         "y": [
          -0.7255646165375079
         ]
        },
        {
         "hoverinfo": "text",
         "marker": {
          "color": "blue",
          "size": 0.5
         },
         "mode": "markers",
         "text": "AWS appears with Tableau 33 times",
         "type": "scatter",
         "uid": "a1109cb8-5491-446d-925f-f727913f6d85",
         "x": [
          0.8966556845159044
         ],
         "y": [
          -0.077515052895003
         ]
        },
        {
         "hoverinfo": "text",
         "marker": {
          "color": "green",
          "size": 0.5
         },
         "mode": "markers",
         "text": "Microstrategy appears with Oracle BI 66 times",
         "type": "scatter",
         "uid": "c0e1a5cc-cd6c-462d-9775-250b82f7bd75",
         "x": [
          -0.04174349903715927
         ],
         "y": [
          -0.8990314122922151
         ]
        },
        {
         "hoverinfo": "text",
         "marker": {
          "color": "blue",
          "size": 0.5
         },
         "mode": "markers",
         "text": "Oracle BI appears with Microstrategy 66 times",
         "type": "scatter",
         "uid": "32498665-085d-4491-a7f9-ee72e207af49",
         "x": [
          0.03851105487633825
         ],
         "y": [
          -0.8991756773024455
         ]
        },
        {
         "hoverinfo": "text",
         "marker": {
          "color": "green",
          "size": 0.5
         },
         "mode": "markers",
         "text": "Microstrategy appears with Python 19 times",
         "type": "scatter",
         "uid": "42a6f04d-77c1-407c-b590-92fcfb6165a7",
         "x": [
          -0.08063931422130761
         ],
         "y": [
          -0.8963801096643752
         ]
        },
        {
         "hoverinfo": "text",
         "marker": {
          "color": "blue",
          "size": 0.5
         },
         "mode": "markers",
         "text": "Python appears with Microstrategy 19 times",
         "type": "scatter",
         "uid": "d12be35d-0df8-4ca5-904e-1e1621f214fa",
         "x": [
          0.5729980734853275
         ],
         "y": [
          -0.6940268062417354
         ]
        },
        {
         "hoverinfo": "text",
         "marker": {
          "color": "green",
          "size": 0.5
         },
         "mode": "markers",
         "text": "Microstrategy appears with VBA 7 times",
         "type": "scatter",
         "uid": "45e7f871-a7a0-4518-acae-3ccdca653744",
         "x": [
          -0.08790502156156434
         ],
         "y": [
          -0.8956967718956348
         ]
        },
        {
         "hoverinfo": "text",
         "marker": {
          "color": "blue",
          "size": 0.5
         },
         "mode": "markers",
         "text": "VBA appears with Microstrategy 7 times",
         "type": "scatter",
         "uid": "aced2c96-722f-46e9-aefd-cb6704d39191",
         "x": [
          0.8142338600705313
         ],
         "y": [
          -0.38343607174422517
         ]
        },
        {
         "hoverinfo": "text",
         "marker": {
          "color": "green",
          "size": 0.5
         },
         "mode": "markers",
         "text": "Microstrategy appears with Linux 8 times",
         "type": "scatter",
         "uid": "ac11b9fb-802d-46d5-b6a3-ffc23e6d0365",
         "x": [
          -0.08689623032643382
         ],
         "y": [
          -0.8957952026858903
         ]
        },
        {
         "hoverinfo": "text",
         "marker": {
          "color": "blue",
          "size": 0.5
         },
         "mode": "markers",
         "text": "Linux appears with Microstrategy 8 times",
         "type": "scatter",
         "uid": "f3c757d0-a0ed-4fe5-9f18-9552943d79b8",
         "x": [
          0.868950667482923
         ],
         "y": [
          -0.23436027283006516
         ]
        },
        {
         "hoverinfo": "text",
         "marker": {
          "color": "green",
          "size": 0.5
         },
         "mode": "markers",
         "text": "Microstrategy appears with AWS 2 times",
         "type": "scatter",
         "uid": "d66cf468-a09f-4833-9fe5-617ecdbb5a09",
         "x": [
          -0.08985503401049211
         ],
         "y": [
          -0.8955032511738711
         ]
        },
        {
         "hoverinfo": "text",
         "marker": {
          "color": "blue",
          "size": 0.5
         },
         "mode": "markers",
         "text": "AWS appears with Microstrategy 2 times",
         "type": "scatter",
         "uid": "f3aed8f0-b295-46e3-89d7-a1b970f2f89e",
         "x": [
          0.8943750724643451
         ],
         "y": [
          -0.10046506733386223
         ]
        },
        {
         "hoverinfo": "text",
         "marker": {
          "color": "green",
          "size": 0.5
         },
         "mode": "markers",
         "text": "Oracle BI appears with Python 160 times",
         "type": "scatter",
         "uid": "6a0533dc-0473-4cc3-9723-0ff630e36d91",
         "x": [
          0.16360812229226487
         ],
         "y": [
          -0.8850041707924315
         ]
        },
        {
         "hoverinfo": "text",
         "marker": {
          "color": "blue",
          "size": 0.5
         },
         "mode": "markers",
         "text": "Python appears with Oracle BI 160 times",
         "type": "scatter",
         "uid": "40f72cef-0882-4063-9795-5409217e2102",
         "x": [
          0.7206353137131752
         ],
         "y": [
          -0.5391518752907324
         ]
        },
        {
         "hoverinfo": "text",
         "marker": {
          "color": "green",
          "size": 0.5
         },
         "mode": "markers",
         "text": "Oracle BI appears with VBA 84 times",
         "type": "scatter",
         "uid": "d69b86c5-aa27-4f62-8e5f-fd64045a908d",
         "x": [
          0.0679769064571775
         ],
         "y": [
          -0.8974291839407231
         ]
        },
        {
         "hoverinfo": "text",
         "marker": {
          "color": "blue",
          "size": 0.5
         },
         "mode": "markers",
         "text": "VBA appears with Oracle BI 84 times",
         "type": "scatter",
         "uid": "f40c602c-a00c-4e5b-b0fc-a765daf099e3",
         "x": [
          0.8377806768886897
         ],
         "y": [
          -0.32882143700180005
         ]
        },
        {
         "hoverinfo": "text",
         "marker": {
          "color": "green",
          "size": 0.5
         },
         "mode": "markers",
         "text": "Oracle BI appears with Linux 3 times",
         "type": "scatter",
         "uid": "3b285537-298a-4086-a02b-8d52c367e5fe",
         "x": [
          -0.00872707889193587
         ],
         "y": [
          -0.8999576868353389
         ]
        },
        {
         "hoverinfo": "text",
         "marker": {
          "color": "blue",
          "size": 0.5
         },
         "mode": "markers",
         "text": "Linux appears with Oracle BI 3 times",
         "type": "scatter",
         "uid": "2e683a97-cef1-4cbc-acd3-215dccda665c",
         "x": [
          0.8683666088976991
         ],
         "y": [
          -0.23651518461086254
         ]
        },
        {
         "hoverinfo": "text",
         "marker": {
          "color": "green",
          "size": 0.5
         },
         "mode": "markers",
         "text": "Oracle BI appears with AWS 46 times",
         "type": "scatter",
         "uid": "98dbaa2e-792b-464b-a144-955ad6e9f31d",
         "x": [
          0.018115918842555086
         ],
         "y": [
          -0.899817655686134
         ]
        },
        {
         "hoverinfo": "text",
         "marker": {
          "color": "blue",
          "size": 0.5
         },
         "mode": "markers",
         "text": "AWS appears with Oracle BI 46 times",
         "type": "scatter",
         "uid": "9e9d617e-6832-42e4-8b29-7990cf400f45",
         "x": [
          0.897144292769436
         ],
         "y": [
          -0.07163880199464985
         ]
        },
        {
         "hoverinfo": "text",
         "marker": {
          "color": "green",
          "size": 0.5
         },
         "mode": "markers",
         "text": "Python appears with VBA 67 times",
         "type": "scatter",
         "uid": "eed36fe2-6aa1-462d-a76f-224cdff43816",
         "x": [
          0.6171884721053531
         ],
         "y": [
          -0.6550407543811758
         ]
        },
        {
         "hoverinfo": "text",
         "marker": {
          "color": "blue",
          "size": 0.5
         },
         "mode": "markers",
         "text": "VBA appears with Python 67 times",
         "type": "scatter",
         "uid": "009dad3e-5938-450c-aba1-be95891ea9a4",
         "x": [
          0.8279882402908646
         ],
         "y": [
          -0.35275412675125073
         ]
        },
        {
         "hoverinfo": "text",
         "marker": {
          "color": "green",
          "size": 0.5
         },
         "mode": "markers",
         "text": "Python appears with Linux 104 times",
         "type": "scatter",
         "uid": "230d3ac3-b23f-45d0-8419-7fc9bbec0c9e",
         "x": [
          0.6535251553200576
         ],
         "y": [
          -0.6187930763703603
         ]
        },
        {
         "hoverinfo": "text",
         "marker": {
          "color": "blue",
          "size": 0.5
         },
         "mode": "markers",
         "text": "Linux appears with Python 104 times",
         "type": "scatter",
         "uid": "f435700f-daa2-4387-b38e-f3a344baa8c9",
         "x": [
          0.8894867299507765
         ],
         "y": [
          -0.13716179220713914
         ]
        },
        {
         "hoverinfo": "text",
         "marker": {
          "color": "green",
          "size": 0.5
         },
         "mode": "markers",
         "text": "Python appears with AWS 100 times",
         "type": "scatter",
         "uid": "cd685457-79de-45d3-ad76-4941fb49dbc6",
         "x": [
          0.6398624550481146
         ],
         "y": [
          -0.6329107667118642
         ]
        },
        {
         "hoverinfo": "text",
         "marker": {
          "color": "blue",
          "size": 0.5
         },
         "mode": "markers",
         "text": "AWS appears with Python 100 times",
         "type": "scatter",
         "uid": "b36f3537-a1af-4ea9-919d-417e8168a5c3",
         "x": [
          0.899290522832518
         ],
         "y": [
          -0.03572891747053861
         ]
        },
        {
         "hoverinfo": "text",
         "marker": {
          "color": "green",
          "size": 0.5
         },
         "mode": "markers",
         "text": "VBA appears with Linux 1 times",
         "type": "scatter",
         "uid": "e9dc7d06-4b41-4564-b2f6-ce22ceecca4c",
         "x": [
          0.8127002745600326
         ],
         "y": [
          -0.3866759156322614
         ]
        },
        {
         "hoverinfo": "text",
         "marker": {
          "color": "blue",
          "size": 0.5
         },
         "mode": "markers",
         "text": "Linux appears with VBA 1 times",
         "type": "scatter",
         "uid": "251e1750-3222-4128-ba90-2b9b5307d847",
         "x": [
          0.8681489345618708
         ],
         "y": [
          -0.2373129314198632
         ]
        },
        {
         "hoverinfo": "text",
         "marker": {
          "color": "green",
          "size": 0.5
         },
         "mode": "markers",
         "text": "VBA appears with AWS 5 times",
         "type": "scatter",
         "uid": "ec84a5d8-d316-4d75-8618-5fa06f7a66ad",
         "x": [
          0.812993380720418
         ],
         "y": [
          -0.3860592738230562
         ]
        },
        {
         "hoverinfo": "text",
         "marker": {
          "color": "blue",
          "size": 0.5
         },
         "mode": "markers",
         "text": "AWS appears with VBA 5 times",
         "type": "scatter",
         "uid": "ec8538da-eb0d-45df-9595-8fde11019101",
         "x": [
          0.894548685364776
         ],
         "y": [
          -0.09890727734676992
         ]
        },
        {
         "hoverinfo": "text",
         "marker": {
          "color": "green",
          "size": 0.5
         },
         "mode": "markers",
         "text": "Linux appears with AWS 26 times",
         "type": "scatter",
         "uid": "9a969d3a-06c9-449c-914a-5943c2fe2803",
         "x": [
          0.8716467099576746
         ],
         "y": [
          -0.22412499418842516
         ]
        },
        {
         "hoverinfo": "text",
         "marker": {
          "color": "blue",
          "size": 0.5
         },
         "mode": "markers",
         "text": "AWS appears with Linux 26 times",
         "type": "scatter",
         "uid": "91d9bc38-06d8-4273-9101-53c8ef0c7979",
         "x": [
          0.8958326959046906
         ],
         "y": [
          -0.08650884895855566
         ]
        }
       ],
       "layout": {
        "autosize": false,
        "font": {
         "color": "#655643",
         "family": "Fira Sans Condensed",
         "size": 12
        },
        "height": 525,
        "hidesources": true,
        "hoverdistance": 40,
        "hovermode": "closest",
        "margin": {
         "b": 10,
         "l": 280,
         "r": 280,
         "t": 80
        },
        "paper_bgcolor": "#fffaf0",
        "plot_bgcolor": "#fffaf0",
        "shapes": [
         {
          "fillcolor": "#f2e6ce",
          "layer": "below",
          "line": {
           "color": "rgb(175,175,175)",
           "width": 0.5
          },
          "path": "M 0.9732541681262956,0.22973098229188027 Q 0.18369740169281779, 0.07909023082092725 0.8357403307304853, 0.5491248488190087L 0.8357403307304853, 0.5491248488190087 L 0.8493166024486056, 0.527883802370519 L 0.8623531358371694, 0.5063072872394792 M 0.8623531358371694,0.5063072872394792 Q 0.18383960393795784, 0.07875912660723706 0.9614366510808446, 0.27502648228570664L 0.9614366510808446, 0.27502648228570664 L 0.9676104908799933, 0.2524478915320513 L 0.9732541681262956, 0.22973098229188027 ",
          "type": "path"
         },
         {
          "fillcolor": "#f2e6ce",
          "layer": "below",
          "line": {
           "color": "rgb(175,175,175)",
           "width": 0.5
          },
          "path": "M 0.9959985345307001,0.08936956536034961 Q 0.14136054821370694, 0.14148213812605545 0.08851320223481894, 0.9960750037171588L 0.08851320223481894, 0.9960750037171588 L 0.10268872897534108, 0.9947135391364837 L 0.11684343052951077, 0.9931503475013718 M 0.11684343052951077,0.9931503475013718 Q 0.14145566687982702, 0.1413870372685679 0.9932069328772147, 0.1163614561813141L 0.9932069328772147, 0.1163614561813141 L 0.9946942939586554, 0.10287498027262053 L 0.9959985345307001, 0.08936956536034961 ",
          "type": "path"
         },
         {
          "fillcolor": "#f2e6ce",
          "layer": "below",
          "line": {
           "color": "rgb(175,175,175)",
           "width": 0.5
          },
          "path": "M 0.9980178109725905,0.06293209818112461 Q 0.09963296426595748, 0.17341647105041216 -0.4482982346967023, 0.89388404883845L -0.4482982346967023, 0.89388404883845 L -0.4360595277834415, 0.8999178230423498 L -0.42373962990973063, 0.9057840394067256 M -0.42373962990973063,0.9057840394067256 Q 0.099700192946173, 0.17337782882045755 0.9959985345307001, 0.08936956536034961L 0.9959985345307001, 0.08936956536034961 L 0.9970957985325621, 0.07615752457053931 L 0.9980178109725905, 0.06293209818112461 ",
          "type": "path"
         },
         {
          "fillcolor": "#f2e6ce",
          "layer": "below",
          "line": {
           "color": "rgb(175,175,175)",
           "width": 0.5
          },
          "path": "M 1.0,0.0 Q 0.0726809777347459, 0.18632626083169646 -0.7358737737760687, 0.6771187407453492L -0.7358737737760687, 0.6771187407453492 L -0.7355472510910764, 0.677473424875368 L -0.7352205574517399, 0.677827951548439 M -0.7352205574517399,0.677827951548439 Q 0.07267431120923029, 0.1863288611307007 0.999999463609104, 0.0010357516615644763L 0.999999463609104, 0.0010357516615644763 L 0.999999865902267, 0.0005178759002282223 L 1.0, 0.0 ",
          "type": "path"
         },
         {
          "fillcolor": "#f2e6ce",
          "layer": "below",
          "line": {
           "color": "rgb(175,175,175)",
           "width": 0.5
          },
          "path": "M 0.9993354637791567,0.036450388657706 Q 0.044321854656480864, 0.19502710888440558 -0.8854256045458941, 0.4647811300112536L -0.8854256045458941, 0.4647811300112536 L -0.8831827038739439, 0.46902911591702856 L -0.8809194228888001, 0.4732662785127031 M -0.8809194228888001,0.4732662785127031 Q 0.04430931786994932, 0.19502995757036864 0.9989332223128595, 0.04617810476456621L 0.9989332223128595, 0.04617810476456621 L 0.9991461817817961, 0.041314736243354175 L 0.9993354637791567, 0.036450388657706 ",
          "type": "path"
         },
         {
          "fillcolor": "#f2e6ce",
          "layer": "below",
          "line": {
           "color": "rgb(175,175,175)",
           "width": 0.5
          },
          "path": "M 0.9999831788271542,0.005800177819671073 Q 0.02643016698138625, 0.19824592372438846 -0.9635365283012095, 0.2675768275266983L -0.9635365283012095, 0.2675768275266983 L -0.9633173748275176, 0.2683647431303525 L -0.9630975770493614, 0.2691524792411345 M -0.9630975770493614,0.2691524792411345 Q 0.026366429337219305, 0.19825441080592743 0.9999673661524616, 0.00807877652301179L 0.9999673661524616, 0.00807877652301179 L 0.9999759215071522, 0.006939481675293848 L 0.9999831788271542, 0.005800177819671073 ",
          "type": "path"
         },
         {
          "fillcolor": "#f2e6ce",
          "layer": "below",
          "line": {
           "color": "rgb(175,175,175)",
           "width": 0.5
          },
          "path": "M 0.999992254524767,0.003935846855964729 Q 0.017840319927214358, 0.19920271831703162 -0.9833791584859987, 0.18156384732476125L -0.9833791584859987, 0.18156384732476125 L -0.983234847203308, 0.182343728285586 L -0.9830899174265106, 0.18312349454490154 M -0.9830899174265106,0.18312349454490154 Q 0.017812619384915535, 0.1992051971978847 0.9999831788271542, 0.005800177819671073L 0.9999831788271542, 0.005800177819671073 L 0.9999881511474458, 0.004868014452856431 L 0.999992254524767, 0.003935846855964729 ",
          "type": "path"
         },
         {
          "fillcolor": "#f2e6ce",
          "layer": "below",
          "line": {
           "color": "rgb(175,175,175)",
           "width": 0.5
          },
          "path": "M 0.9999302914428098,0.011807296688803919 Q 0.002786602048761535, 0.1999805861803136 -0.9992130705252467, 0.03966408566333597L -0.9992130705252467, 0.03966408566333597 L -0.9991285473665975, 0.04173902055765854 L -0.999039715467107, 0.04381377545249709 M -0.999039715467107,0.04381377545249709 Q 0.002746206319825116, 0.19998114498834374 0.999866098353115, 0.016364148744097955L 0.999866098353115, 0.016364148744097955 L 0.999900790771448, 0.01408575928492792 L 0.9999302914428098, 0.011807296688803919 ",
          "type": "path"
         },
         {
          "fillcolor": "#f2e6ce",
          "layer": "below",
          "line": {
           "color": "rgb(175,175,175)",
           "width": 0.5
          },
          "path": "M 0.999866098353115,0.016364148744097955 Q -0.015732729574824713, 0.19938024280285507 -0.9900583658781094, -0.14065714398766857L -0.9900583658781094, -0.14065714398766857 L -0.9904472497675166, -0.13789215143713793 L -0.9908284117196402, -0.13512608382224064 M -0.9908284117196402,-0.13512608382224064 Q -0.015774892845325055, 0.19937691129044635 0.999749751879205, 0.022370373655081842L 0.999749751879205, 0.022370373655081842 L 0.999812435314495, 0.019367348566560118 L 0.999866098353115, 0.016364148744097955 ",
          "type": "path"
         },
         {
          "fillcolor": "#f2e6ce",
          "layer": "below",
          "line": {
           "color": "rgb(175,175,175)",
           "width": 0.5
          },
          "path": "M 0.9999673661524616,0.00807877652301179 Q -0.0334766040738069, 0.19717838872372798 -0.9466013885383825, -0.3224062828438773L -0.9466013885383825, -0.3224062828438773 L -0.9471512360491872, -0.32078736890734477 L -0.9476983148336522, -0.31916751724048587 M -0.9476983148336522,-0.31916751724048587 Q -0.03350708982230889, 0.19717321048164663 0.9999302914428098, 0.011807296688803919L 0.9999302914428098, 0.011807296688803919 L 0.9999505666178804, 0.009943053886002404 L 0.9999673661524616, 0.00807877652301179 ",
          "type": "path"
         },
         {
          "fillcolor": "#f2e6ce",
          "layer": "below",
          "line": {
           "color": "rgb(175,175,175)",
           "width": 0.5
          },
          "path": "M 0.9882422303370159,0.15289635109616073 Q -0.07819964590105231, 0.18407828601155007 -0.7961240998370033, -0.6051333883192377L -0.7961240998370033, -0.6051333883192377 L -0.8081277700058314, -0.5890072218109064 L -0.8198048423317461, -0.5726430131324584 M -0.8198048423317461,-0.5726430131324584 Q -0.07808339025269509, 0.1841276301010941 0.9815399815660475, 0.19125706415011995L 0.9815399815660475, 0.19125706415011995 L 0.9850778530953446, 0.1721093354268347 L 0.9882422303370159, 0.15289635109616073 ",
          "type": "path"
         },
         {
          "fillcolor": "#f2e6ce",
          "layer": "below",
          "line": {
           "color": "rgb(175,175,175)",
           "width": 0.5
          },
          "path": "M 0.9815399815660475,0.19125706415011995 Q -0.12628842947584795, 0.15508459814089787 -0.3861145504066893, -0.9224508409472237L -0.3861145504066893, -0.9224508409472237 L -0.4050703677547945, -0.9142855118435355 L -0.4238536269042081, -0.9057307011248699 M -0.4238536269042081,-0.9057307011248699 Q -0.12613937486775184, 0.15520585719608904 0.9732541681262956, 0.22973098229188027L 0.9732541681262956, 0.22973098229188027 L 0.9775863657560633, 0.2105347892578624 L 0.9815399815660475, 0.19125706415011995 ",
          "type": "path"
         },
         {
          "fillcolor": "#f2e6ce",
          "layer": "below",
          "line": {
           "color": "rgb(175,175,175)",
           "width": 0.5
          },
          "path": "M 0.999749751879205,0.022370373655081842 Q -0.13750406829441658, 0.14523302380135322 -0.07695485399677925, -0.997034578360417L -0.07695485399677925, -0.997034578360417 L -0.07912553749700944, -0.9968646594778097 L -0.0812958458836965, -0.9966900147197494 M -0.0812958458836965,-0.9966900147197494 Q -0.13762403551945981, 0.14511934690915082 0.9995973261621346, 0.02837579125788768L 0.9995973261621346, 0.02837579125788768 L 0.9996780486127804, 0.025373196916103832 L 0.999749751879205, 0.022370373655081842 ",
          "type": "path"
         },
         {
          "fillcolor": "#f2e6ce",
          "layer": "below",
          "line": {
           "color": "rgb(175,175,175)",
           "width": 0.5
          },
          "path": "M 0.9932069328772147,0.1163614561813141 Q -0.1642397835078039, 0.11412840800304587 0.23730991232318427, -0.971433994419159L 0.23730991232318427, -0.971433994419159 L 0.21823402373082962, -0.9758964652493889 L 0.1990743762280373, -0.979984383921202 M 0.1990743762280373,-0.979984383921202 Q -0.16410787561840637, 0.11431800015751531 0.9882422303370159, 0.15289635109616073L 0.9882422303370159, 0.15289635109616073 L 0.9908929792047189, 0.13465178707613432 L 0.9932069328772147, 0.1163614561813141 ",
          "type": "path"
         },
         {
          "fillcolor": "#f2e6ce",
          "layer": "below",
          "line": {
           "color": "rgb(175,175,175)",
           "width": 0.5
          },
          "path": "M 0.9989332223128595,0.04617810476456621 Q -0.1863043552831243, 0.07273711021575845 0.7033925315395111, -0.7108016225181524L 0.7033925315395111, -0.7108016225181524 L 0.697205189855182, -0.7168716225650166 L 0.6909654684712413, -0.7228877654105913 M 0.6909654684712413,-0.7228877654105913 Q -0.1862841210692995, 0.07278891562208198 0.9980178109725905, 0.06293209818112461L 0.9980178109725905, 0.06293209818112461 L 0.9985106566325704, 0.05455702146555411 L 0.9989332223128595, 0.04617810476456621 ",
          "type": "path"
         },
         {
          "fillcolor": "#f2e6ce",
          "layer": "below",
          "line": {
           "color": "rgb(175,175,175)",
           "width": 0.5
          },
          "path": "M 0.9995973261621346,0.02837579125788768 Q -0.1963871792991122, 0.037842777473890005 0.9174781569773154, -0.3977861629940246L 0.9174781569773154, -0.3977861629940246 L 0.9160007646296895, -0.40117651875181354 L 0.9145108439561184, -0.40456138753799537 M 0.9145108439561184,-0.40456138753799537 Q -0.19640007831910947, 0.03777577578617905 0.9993354637791567, 0.036450388657706L 0.9993354637791567, 0.036450388657706 L 0.9994745491789228, 0.032413354401992014 L 0.9995973261621346, 0.02837579125788768 ",
          "type": "path"
         },
         {
          "fillcolor": "#f2e6ce",
          "layer": "below",
          "line": {
           "color": "rgb(175,175,175)",
           "width": 0.5
          },
          "path": "M 0.9999974038689542,0.0022786520909631007 Q -0.19828774802353663, 0.026114535870936942 0.9653090782459258, -0.2611099068515041L 0.9653090782459258, -0.2611099068515041 L 0.9651168933144222, -0.2618193694880465 L 0.9649241869570137, -0.2625286906708411 M 0.9649241869570137,-0.2625286906708411 Q -0.1982901906742943, 0.026095982111275607 0.999992254524767, 0.003935846855964729L 0.999992254524767, 0.003935846855964729 L 0.9999951724853879, 0.0031072505401525258 L 0.9999974038689542, 0.0022786520909631007 ",
          "type": "path"
         },
         {
          "fillcolor": "#f2e6ce",
          "layer": "below",
          "line": {
           "color": "rgb(175,175,175)",
           "width": 0.5
          },
          "path": "M 0.999999463609104,0.0010357516615644763 Q -0.19971022891328855, 0.010762177632890701 0.9940969354148103, -0.10849554368213758L 0.9940969354148103, -0.10849554368213758 L 0.9940428251439966, -0.10899019120885044 L 0.9939884687441067, -0.1094848117491463 M 0.9939884687441067,-0.1094848117491463 Q -0.19971156030710915, 0.010737442884593352 0.9999974038689542, 0.0022786520909631007L 0.9999974038689542, 0.0022786520909631007 L 0.9999986268394976, 0.0016572021962707485 L 0.999999463609104, 0.0010357516615644763 ",
          "type": "path"
         },
         {
          "fillcolor": "#ecd5bb",
          "layer": "below",
          "line": {
           "color": "rgb(175,175,175)",
           "width": 0.5
          },
          "path": "M 0.5614715799288513,0.8274960210975032 Q 0.03563180817775561, 0.19680034107181732 -0.2356939720020008, 0.9718273260008282L -0.2356939720020008, 0.9718273260008282 L -0.17002905521555492, 0.9854390495522825 L -0.10359949050966269, 0.9946190957176211 M -0.10359949050966269,0.9946190957176211 Q 0.03528708313844683, 0.19686244376106976 0.44261559318613725, 0.8967114567509907L 0.44261559318613725, 0.8967114567509907 L 0.5032349917649683, 0.8641496068756337 L 0.5614715799288513, 0.8274960210975032 ",
          "type": "path"
         },
         {
          "fillcolor": "#ecd5bb",
          "layer": "below",
          "line": {
           "color": "rgb(175,175,175)",
           "width": 0.5
          },
          "path": "M 0.8014346578381862,0.5980823431734039 Q 0.03302677019615752, 0.19725423303546671 -0.5629102502948808, 0.8265180276999133L -0.5629102502948808, 0.8265180276999133 L -0.538890593289789, 0.8423757644090785 L -0.5144245129926989, 0.8575356671487342 M -0.5144245129926989,0.8575356671487342 Q 0.03276346725536392, 0.1972981378863133 0.763977060404701, 0.6452434045965846L 0.763977060404701, 0.6452434045965846 L 0.7830609831498933, 0.6219449305753062 L 0.8014346578381862, 0.5980823431734039 ",
          "type": "path"
         },
         {
          "fillcolor": "#ecd5bb",
          "layer": "below",
          "line": {
           "color": "rgb(175,175,175)",
           "width": 0.5
          },
          "path": "M 0.9357372714574307,0.3526978293176792 Q 0.04485966700365762, 0.19490410533470287 -0.6873961348578473, 0.7262826954998254L -0.6873961348578473, 0.7262826954998254 L -0.6824809260030494, 0.7309034037696227 L -0.6775346572891153, 0.7354908484625224 M -0.6775346572891153,0.7354908484625224 Q 0.04452212901736826, 0.19498148637181126 0.9296229886525783, 0.36851200654612076L 0.9296229886525783, 0.36851200654612076 L 0.9327136468658391, 0.3606178766370668 L 0.9357372714574307, 0.3526978293176792 ",
          "type": "path"
         },
         {
          "fillcolor": "#ecd5bb",
          "layer": "below",
          "line": {
           "color": "rgb(175,175,175)",
           "width": 0.5
          },
          "path": "M 0.8954783476103747,0.44510507631456303 Q 0.012395540278789386, 0.19961550686556623 -0.8335317507524982, 0.5524715562700719L -0.8335317507524982, 0.5524715562700719 L -0.8266500094163188, 0.5627164134197615 L -0.8196423565021788, 0.5728755601590587 M -0.8196423565021788,0.5728755601590587 Q 0.01200898419799656, 0.19963913518779897 0.8824044958817779, 0.47049155746689575L 0.8824044958817779, 0.47049155746689575 L 0.889032040846819, 0.4578449850634383 L 0.8954783476103747, 0.44510507631456303 ",
          "type": "path"
         },
         {
          "fillcolor": "#ecd5bb",
          "layer": "below",
          "line": {
           "color": "rgb(175,175,175)",
           "width": 0.5
          },
          "path": "M 0.8824044958817779,0.47049155746689575 Q -0.018180151502986738, 0.1991719912320215 -0.9530039262963294, 0.3029579450415198L -0.9530039262963294, 0.3029579450415198 L -0.9471382606426347, 0.3208256773184535 L -0.9409376282813238, 0.33857994577989603 M -0.9409376282813238,0.33857994577989603 Q -0.018522414401423184, 0.19914045336079245 0.8623531358371694, 0.5063072872394792L 0.8623531358371694, 0.5063072872394792 L 0.8725625994650259, 0.4885023132133939 L 0.8824044958817779, 0.47049155746689575 ",
          "type": "path"
         },
         {
          "fillcolor": "#ecd5bb",
          "layer": "below",
          "line": {
           "color": "rgb(175,175,175)",
           "width": 0.5
          },
          "path": "M 0.9454260996995809,0.3258366001646194 Q -0.00997873197468984, 0.19975090715232635 -0.9731929206971258, 0.22999030219771827L -0.9731929206971258, 0.22999030219771827 L -0.9721572845975877, 0.23432928541657974 L -0.9711023032315794, 0.23866360564258973 M -0.9711023032315794,0.23866360564258973 Q -0.01042454715043123, 0.19972813726840902 0.9409799804912035, 0.33846222287690303L 0.9409799804912035, 0.33846222287690303 L 0.9432241655261003, 0.33215685085150926 L 0.9454260996995809, 0.3258366001646194 ",
          "type": "path"
         },
         {
          "fillcolor": "#ecd5bb",
          "layer": "below",
          "line": {
           "color": "rgb(175,175,175)",
           "width": 0.5
          },
          "path": "M 0.9409799804912035,0.33846222287690303 Q -0.02587391662002289, 0.19831928912423044 -0.9963200834747563, 0.08571050848556734L -0.9963200834747563, 0.08571050848556734 L -0.995788580557545, 0.09167934789902082 L -0.995221319331171, 0.09764489514932843 M -0.995221319331171,0.09764489514932843 Q -0.026189759674218206, 0.19827782651675074 0.9357372714574307, 0.3526978293176792L 0.9357372714574307, 0.3526978293176792 L 0.9383856211937033, 0.34558996793441155 L 0.9409799804912035, 0.33846222287690303 ",
          "type": "path"
         },
         {
          "fillcolor": "#ecd5bb",
          "layer": "below",
          "line": {
           "color": "rgb(175,175,175)",
           "width": 0.5
          },
          "path": "M 0.923155724059172,0.3844262076612178 Q -0.040439810354401466, 0.1958688891541994 -0.9999203753817549, -0.012619148006516904L -0.9999203753817549, -0.012619148006516904 L -0.9999898676110378, -0.0045016302890304545 L -0.9999934615849706, 0.0036161840810436286 M -0.9999934615849706,0.0036161840810436286 Q -0.0407287215290314, 0.1958090172658313 0.9156106034088337, 0.40206619221878304L 0.9156106034088337, 0.40206619221878304 L 0.9194254695304792, 0.39326429532651175 L 0.923155724059172, 0.3844262076612178 ",
          "type": "path"
         },
         {
          "fillcolor": "#ecd5bb",
          "layer": "below",
          "line": {
           "color": "rgb(175,175,175)",
           "width": 0.5
          },
          "path": "M 0.9156106034088337,0.40206619221878304 Q -0.062164490709786246, 0.19009359824779187 -0.9762574797524851, -0.21661332652292226L -0.9762574797524851, -0.21661332652292226 L -0.9781579407953146, -0.20786303870354123 L -0.9799799738298263, -0.19909608457348688 M -0.9799799738298263,-0.19909608457348688 Q -0.06243428480555391, 0.1900051580374043 0.9070721324148365, 0.42097523275888954L 0.9070721324148365, 0.42097523275888954 L 0.9113904085631753, 0.41154285703805904 L 0.9156106034088337, 0.40206619221878304 ",
          "type": "path"
         },
         {
          "fillcolor": "#ecd5bb",
          "layer": "below",
          "line": {
           "color": "rgb(175,175,175)",
           "width": 0.5
          },
          "path": "M 0.9070721324148365,0.42097523275888954 Q -0.08393141538937789, 0.18153654593699778 -0.9082914114143928, -0.4183380355057979L -0.9082914114143928, -0.4183380355057979 L -0.9130006380094631, -0.40795812897197353 L -0.9175912482237744, -0.3975252208138947 M -0.9175912482237744,-0.3975252208138947 Q -0.08429203983842903, 0.1813693800504283 0.8954783476103747, 0.44510507631456303L 0.8954783476103747, 0.44510507631456303 L 0.9013559899380961, 0.43307895285122644 L 0.9070721324148365, 0.42097523275888954 ",
          "type": "path"
         },
         {
          "fillcolor": "#ecd5bb",
          "layer": "below",
          "line": {
           "color": "rgb(175,175,175)",
           "width": 0.5
          },
          "path": "M 0.7092762569176679,0.704930628766308 Q -0.14858005060151286, 0.13388042636342282 -0.6274986216308294, -0.7786176724499704L -0.6274986216308294, -0.7786176724499704 L -0.6619839359196065, -0.749518024189136 L -0.6951214334182848, -0.7188923374209166 M -0.6951214334182848,-0.7188923374209166 Q -0.14884041681756638, 0.13359090658264547 0.6398667744189002, 0.768485856079832L 0.6398667744189002, 0.768485856079832 L 0.675319588402946, 0.7375252222936349 L 0.7092762569176679, 0.704930628766308 ",
          "type": "path"
         },
         {
          "fillcolor": "#ecd5bb",
          "layer": "below",
          "line": {
           "color": "rgb(175,175,175)",
           "width": 0.5
          },
          "path": "M 0.6398667744189002,0.768485856079832 Q -0.18318832707394117, 0.08026230014054395 -0.1311923448766593, -0.9913569330194668L -0.1311923448766593, -0.9913569330194668 L -0.17840930600339544, -0.9839563605828191 L -0.2252187428288132, -0.9743082252955729 M -0.2252187428288132,-0.9743082252955729 Q -0.18329114852545245, 0.08002721332284746 0.5614715799288513, 0.8274960210975032L 0.5614715799288513, 0.8274960210975032 L 0.6013933906359415, 0.798953058508074 L 0.6398667744189002, 0.768485856079832 ",
          "type": "path"
         },
         {
          "fillcolor": "#ecd5bb",
          "layer": "below",
          "line": {
           "color": "rgb(175,175,175)",
           "width": 0.5
          },
          "path": "M 0.9523234495561816,0.3050902283348564 Q -0.15796620735744393, 0.12266489853705109 -0.0597270100318626, -0.9982147485750017L -0.0597270100318626, -0.9982147485750017 L -0.06279951277827445, -0.9980261625803261 L -0.06587142044668813, -0.9978281194516095 M -0.06587142044668813,-0.9978281194516095 Q -0.15814943459962916, 0.1224285764673331 0.9494930217782852, 0.31378814763203033L 0.9494930217782852, 0.31378814763203033 L 0.950918180554876, 0.3094424241926182 L 0.9523234495561816, 0.3050902283348564 ",
          "type": "path"
         },
         {
          "fillcolor": "#ecd5bb",
          "layer": "below",
          "line": {
           "color": "rgb(175,175,175)",
           "width": 0.5
          },
          "path": "M 0.44261559318613725,0.8967114567509907 Q -0.1990250390032045, -0.019723941030456604 0.6100106183717355, -0.7923932391645785L 0.6100106183717355, -0.7923932391645785 L 0.552544129525144, -0.8334836440670572 L 0.49231999309583124, -0.870414283199742 M 0.49231999309583124,-0.870414283199742 Q -0.19900615019361023, -0.019913618082062403 0.3100888133408687, 0.9507075932382427L 0.3100888133408687, 0.9507075932382427 L 0.37731932973302673, 0.9260832162445335 L 0.44261559318613725, 0.8967114567509907 ",
          "type": "path"
         },
         {
          "fillcolor": "#ecd5bb",
          "layer": "below",
          "line": {
           "color": "rgb(175,175,175)",
           "width": 0.5
          },
          "path": "M 0.763977060404701,0.6452434045965846 Q -0.19872742061423074, -0.02252581399227628 0.8890159980942789, -0.45787613514184494L 0.8890159980942789, -0.45787613514184494 L 0.8705641059480465, -0.49205501464254836 L 0.8507988214820508, -0.5254915464255857 M 0.8507988214820508,-0.5254915464255857 Q -0.1986900344619186, -0.02285323183975526 0.7092762569176679, 0.704930628766308L 0.7092762569176679, 0.704930628766308 L 0.7372309512171968, 0.675640825118929 L 0.763977060404701, 0.6452434045965846 ",
          "type": "path"
         },
         {
          "fillcolor": "#ecd5bb",
          "layer": "below",
          "line": {
           "color": "rgb(175,175,175)",
           "width": 0.5
          },
          "path": "M 0.8357403307304853,0.5491248488190087 Q -0.19800149986109083, -0.028202944044167507 0.9558245263699505, -0.2939378757316922L 0.9558245263699505, -0.2939378757316922 L 0.9480466142762864, -0.3181314463539719 L 0.9396564301903277, -0.34211955980617315 M 0.9396564301903277,-0.34211955980617315 Q -0.19787313600331735, -0.02908989598146878 0.8014346578381862, 0.5980823431734039L 0.8014346578381862, 0.5980823431734039 L 0.8189534143417881, 0.5738600048251554 L 0.8357403307304853, 0.5491248488190087 ",
          "type": "path"
         },
         {
          "fillcolor": "#ecd5bb",
          "layer": "below",
          "line": {
           "color": "rgb(175,175,175)",
           "width": 0.5
          },
          "path": "M 0.9296229886525783,0.36851200654612076 Q -0.1991744892826398, -0.018152763398436175 0.9809253887422138, -0.19438462315969526L 0.9809253887422138, -0.19438462315969526 L 0.9795256421629068, -0.20131943856802573 L 0.9780768693895334, -0.2082441777461487 M 0.9780768693895334,-0.2082441777461487 Q -0.19914676899539716, -0.018454386976920447 0.923155724059172, 0.3844262076612178L 0.923155724059172, 0.3844262076612178 L 0.926423528964337, 0.37648299427897713 L 0.9296229886525783, 0.36851200654612076 ",
          "type": "path"
         },
         {
          "fillcolor": "#ecd5bb",
          "layer": "below",
          "line": {
           "color": "rgb(175,175,175)",
           "width": 0.5
          },
          "path": "M 0.9494930217782852,0.31378814763203033 Q -0.1981643834589709, -0.027034739287182898 0.9988480994021209, -0.04798410487620542L 0.9988480994021209, -0.04798410487620542 L 0.9986101103017132, -0.0527052900874311 L 0.9983498060314877, -0.057425297534195494 M 0.9983498060314877,-0.057425297534195494 Q -0.19812002558874087, -0.0273579140417662 0.9454260996995809, 0.3258366001646194L 0.9454260996995809, 0.3258366001646194 L 0.9474787124456778, 0.3198188385043641 L 0.9494930217782852, 0.31378814763203033 ",
          "type": "path"
         },
         {
          "fillcolor": "#e6c4a9",
          "layer": "below",
          "line": {
           "color": "rgb(175,175,175)",
           "width": 0.5
          },
          "path": "M 0.016663071017116036,0.99986116139406 Q -0.06290108250768331, 0.1898511359443541 -0.6103758593937056, 0.7921119303920345L -0.6103758593937056, 0.7921119303920345 L -0.5868952365457011, 0.8096628812783537 L -0.5629102502948808, 0.8265180276999133 M -0.5629102502948808,0.8265180276999133 Q -0.06301096028440314, 0.18981469617507854 -0.04311273163063156, 0.9990702139346088L -0.04311273163063156, 0.9990702139346088 L -0.013230742084760199, 0.9999124699011842 L 0.016663071017116036, 0.99986116139406 ",
          "type": "path"
         },
         {
          "fillcolor": "#e6c4a9",
          "layer": "below",
          "line": {
           "color": "rgb(175,175,175)",
           "width": 0.5
          },
          "path": "M 0.2298345015732425,0.9732297271901322 Q -0.050690749046219265, 0.19346950137200752 -0.6775346572891153, 0.7354908484625224L -0.6775346572891153, 0.7354908484625224 L -0.6736735188799562, 0.7390290860039931 L -0.6697939032804449, 0.7425470538143331 M -0.6697939032804449,0.7425470538143331 Q -0.050918368598927614, 0.19340971986749722 0.2173316746598873, 0.9760978143554717L 0.2173316746598873, 0.9760978143554717 L 0.22358768698820733, 0.9746838185931187 L 0.2298345015732425, 0.9732297271901322 ",
          "type": "path"
         },
         {
          "fillcolor": "#e6c4a9",
          "layer": "below",
          "line": {
           "color": "rgb(175,175,175)",
           "width": 0.5
          },
          "path": "M 0.20159985531511176,0.9794679669784643 Q -0.07027424006045417, 0.187247246131754 -0.796244321689174, 0.6049751897208241L -0.796244321689174, 0.6049751897208241 L -0.7913184225308867, 0.611404247747126 L -0.7863406150446791, 0.6177931993241393 M -0.7863406150446791,0.6177931993241393 Q -0.07046750134098127, 0.18717460098731026 0.18367909931620596, 0.9829862605725409L 0.18367909931620596, 0.9829862605725409 L 0.1926475092439655, 0.9812680251501606 L 0.20159985531511176, 0.9794679669784643 ",
          "type": "path"
         },
         {
          "fillcolor": "#e6c4a9",
          "layer": "below",
          "line": {
           "color": "rgb(175,175,175)",
           "width": 0.5
          },
          "path": "M 0.14507888063882418,0.9894200919693241 Q -0.09718062610864989, 0.1748025340466516 -0.916956814044405, 0.3989864674115334L -0.916956814044405, 0.3989864674115334 L -0.9115326814564714, 0.4112276384641177 L -0.9059451406989969, 0.42339508977298573 M -0.9059451406989969,0.42339508977298573 Q -0.09732946946847841, 0.17471970230338804 0.11684343052951077, 0.9931503475013718L 0.11684343052951077, 0.9931503475013718 L 0.1309744363359665, 0.9913857458257487 L 0.14507888063882418, 0.9894200919693241 ",
          "type": "path"
         },
         {
          "fillcolor": "#e6c4a9",
          "layer": "below",
          "line": {
           "color": "rgb(175,175,175)",
           "width": 0.5
          },
          "path": "M 0.23934524279278308,0.9709345265013825 Q -0.10352241771893722, 0.17112308152211927 -0.9711023032315794, 0.23866360564258973L -0.9711023032315794, 0.23866360564258973 L -0.970298384490338, 0.24191123383472737 L -0.9694836048361769, 0.24515615422389786 M -0.9694836048361769,0.24515615422389786 Q -0.10378689337336776, 0.17096280520600146 0.2298345015732425, 0.9732297271901322L 0.2298345015732425, 0.9732297271901322 L 0.23459267916410495, 0.972093758277774 L 0.23934524279278308, 0.9709345265013825 ",
          "type": "path"
         },
         {
          "fillcolor": "#e6c4a9",
          "layer": "below",
          "line": {
           "color": "rgb(175,175,175)",
           "width": 0.5
          },
          "path": "M 0.25556553697401146,0.9667917336795889 Q -0.10884558589817826, 0.16778747995748167 -0.986998992575972, 0.1607264404322335L -0.986998992575972, 0.1607264404322335 L -0.9864841248150297, 0.1638568628038663 L -0.985959328453375, 0.16698563601630495 M -0.985959328453375,0.16698563601630495 Q -0.10896989348333162, 0.16770677480123264 0.2479906618372886, 0.9687624227030607L 0.2479906618372886, 0.9687624227030607 L 0.2517800274925081, 0.9677844893135412 L 0.25556553697401146, 0.9667917336795889 ",
          "type": "path"
         },
         {
          "fillcolor": "#e6c4a9",
          "layer": "below",
          "line": {
           "color": "rgb(175,175,175)",
           "width": 0.5
          },
          "path": "M 0.2627052175987937,0.9648761416090516 Q -0.11921362795609299, 0.16058677065545046 -0.9996141351317183, 0.027777344093107184L -0.9996141351317183, 0.027777344093107184 L -0.9995198392382298, 0.030985334743764713 L -0.9994152481947131, 0.034193006242508144 M -0.9994152481947131,0.034193006242508144 Q -0.11929177588167526, 0.1605287270459595 0.25556553697401146, 0.9667917336795889L 0.25556553697401146, 0.9667917336795889 L 0.2591371473459784, 0.9658405349049027 L 0.2627052175987937, 0.9648761416090516 ",
          "type": "path"
         },
         {
          "fillcolor": "#e6c4a9",
          "layer": "below",
          "line": {
           "color": "rgb(175,175,175)",
           "width": 0.5
          },
          "path": "M 0.2479906618372886,0.9687624227030607 Q -0.13589194843461327, 0.14674255807585068 -0.9849241495384008, -0.17298676150520265L -0.9849241495384008, -0.17298676150520265 L -0.985599356500144, -0.16909733429744578 L -0.986259204326567, -0.16520527195318827 M -0.986259204326567,-0.16520527195318827 Q -0.13596669105212805, 0.14667330678871043 0.23934524279278308, 0.9709345265013825L 0.23934524279278308, 0.9709345265013825 L 0.2436703726227919, 0.9698581079239734 L 0.2479906618372886, 0.9687624227030607 ",
          "type": "path"
         },
         {
          "fillcolor": "#e6c4a9",
          "layer": "below",
          "line": {
           "color": "rgb(175,175,175)",
           "width": 0.5
          },
          "path": "M 0.2173316746598873,0.9760978143554717 Q -0.1530382889302868, 0.12876056120291676 -0.9245432990333278, -0.38107701086863094L -0.9245432990333278, -0.38107701086863094 L -0.9271990042045632, -0.3745690945634281 L -0.9298089004186108, -0.36804267239320754 M -0.9298089004186108,-0.36804267239320754 Q -0.15316896998381893, 0.12860508012553773 0.20159985531511176, 0.9794679669784643L 0.20159985531511176, 0.9794679669784643 L 0.20947254279254346, 0.9778145293541235 L 0.2173316746598873, 0.9760978143554717 ",
          "type": "path"
         },
         {
          "fillcolor": "#e6c4a9",
          "layer": "below",
          "line": {
           "color": "rgb(175,175,175)",
           "width": 0.5
          },
          "path": "M 0.16462492012614505,0.986356241767375 Q -0.16802575392061686, 0.10847739865708578 -0.8311505976270466, -0.5560473757371788L -0.8311505976270466, -0.5560473757371788 L -0.8365220580511933, -0.5479332499436369 L -0.8418143068427484, -0.5397672394605504 M -0.8418143068427484,-0.5397672394605504 Q -0.16804327266312047, 0.1084502582415927 0.14507888063882418, 0.9894200919693241L 0.14507888063882418, 0.9894200919693241 L 0.15485947774218384, 0.9879365071467994 L 0.16462492012614505, 0.986356241767375 ",
          "type": "path"
         },
         {
          "fillcolor": "#e6c4a9",
          "layer": "below",
          "line": {
           "color": "rgb(175,175,175)",
           "width": 0.5
          },
          "path": "M 0.08851320223481894,0.9960750037171588 Q -0.19311442564933187, 0.052027094923017575 -0.4238536269042081, -0.9057307011248699L -0.4238536269042081, -0.9057307011248699 L -0.44001920135982947, -0.8979883643091696 L -0.4560434110328257, -0.8899575311516529 M -0.4560434110328257,-0.8899575311516529 Q -0.19311508886568732, 0.052024633130832255 0.05273075737485102, 0.9986087658471032L 0.05273075737485102, 0.9986087658471032 L 0.0706333421210359, 0.9975023463535375 L 0.08851320223481894, 0.9960750037171588 ",
          "type": "path"
         },
         {
          "fillcolor": "#e6c4a9",
          "layer": "below",
          "line": {
           "color": "rgb(175,175,175)",
           "width": 0.5
          },
          "path": "M 0.2698305428198,0.9629078243329275 Q -0.1970292980604783, 0.03434320465237928 -0.07186356287695185, -0.9974144716869865L -0.07186356287695185, -0.9974144716869865 L -0.07440945087780043, -0.997227774192067 L -0.07695485399677925, -0.997034578360417 M -0.07695485399677925,-0.997034578360417 Q -0.1970684366079307, 0.034117902821041234 0.2627052175987937, 0.9648761416090516L 0.2627052175987937, 0.9648761416090516 L 0.26626969898840797, 0.9638985669667854 L 0.2698305428198, 0.9629078243329275 ",
          "type": "path"
         },
         {
          "fillcolor": "#e6c4a9",
          "layer": "below",
          "line": {
           "color": "rgb(175,175,175)",
           "width": 0.5
          },
          "path": "M -0.04311273163063156,0.9990702139346088 Q -0.19632949625978768, -0.038140908462935344 0.3340842819503998, -0.9425432046085133L 0.3340842819503998, -0.9425432046085133 L 0.3049881198279903, -0.9523561554186477 L 0.27560439030773826, -0.9612711480342577 M 0.27560439030773826,-0.9612711480342577 Q -0.19634389043610018, -0.03806673992367482 -0.10359949050966269, 0.9946190957176211L -0.10359949050966269, 0.9946190957176211 L -0.0733898640459372, 0.9973033279074721 L -0.04311273163063156, 0.9990702139346088 ",
          "type": "path"
         },
         {
          "fillcolor": "#e6c4a9",
          "layer": "below",
          "line": {
           "color": "rgb(175,175,175)",
           "width": 0.5
          },
          "path": "M 0.05273075737485102,0.9986087658471032 Q -0.17883754735558202, -0.08953843675115153 0.8311211271903044, -0.5560914240823337L 0.8311211271903044, -0.5560914240823337 L 0.8211124613937189, -0.5707664371211298 L 0.810844710475911, -0.5852613565692135 M 0.810844710475911,-0.5852613565692135 Q -0.17881226259364147, -0.08958892088948614 0.016663071017116036, 0.99986116139406L 0.016663071017116036, 0.99986116139406 L 0.034702564435138576, 0.9993976846189033 L 0.05273075737485102, 0.9986087658471032 ",
          "type": "path"
         },
         {
          "fillcolor": "#e6c4a9",
          "layer": "below",
          "line": {
           "color": "rgb(175,175,175)",
           "width": 0.5
          },
          "path": "M 0.18367909931620596,0.9829862605725409 Q -0.1737178213958853, -0.09910660184602893 0.9396564301903277, -0.34211955980617315L 0.9396564301903277, -0.34211955980617315 L 0.9367356318052041, -0.3500376495557372 L 0.9337481123559351, -0.3579308071006574 M 0.9337481123559351,-0.3579308071006574 Q -0.17359524729203285, -0.09932114637688172 0.16462492012614505, 0.986356241767375L 0.16462492012614505, 0.986356241767375 L 0.17416016101059895, 0.9847173392993354 L 0.18367909931620596, 0.9829862605725409 ",
          "type": "path"
         },
         {
          "fillcolor": "#e6c4a9",
          "layer": "below",
          "line": {
           "color": "rgb(175,175,175)",
           "width": 0.5
          },
          "path": "M 0.28007335606526934,0.9599786014398117 Q -0.1740896012035552, -0.09845207337982842 0.9670152614244331, -0.2547184409740202L 0.9670152614244331, -0.2547184409740202 L 0.9665926800968943, -0.25631736340541383 L 0.9661674550147287, -0.25791558477603127 M 0.9661674550147287,-0.25791558477603127 Q -0.17405976821435143, -0.09850480744190232 0.2763143221915524, 0.9610673209259708L 0.2763143221915524, 0.9610673209259708 L 0.2781943717197277, 0.9605248000668519 L 0.28007335606526934, 0.9599786014398117 ",
          "type": "path"
         },
         {
          "fillcolor": "#e6c4a9",
          "layer": "below",
          "line": {
           "color": "rgb(175,175,175)",
           "width": 0.5
          },
          "path": "M 0.2763143221915524,0.9610673209259708 Q -0.1649615836796895, -0.1130826065754093 0.9960446492332307, -0.08885413177703412L 0.9960446492332307, -0.08885413177703412 L 0.9958129204470112, -0.09141459112633257 L 0.9955746096856136, -0.09397444625715047 M 0.9955746096856136,-0.09397444625715047 Q -0.16487117194570095, -0.11321438363234203 0.2698305428198, 0.9629078243329275L 0.2698305428198, 0.9629078243329275 L 0.27307398312136005, 0.9619930351838495 L 0.2763143221915524, 0.9610673209259708 ",
          "type": "path"
         },
         {
          "fillcolor": "#e1b396",
          "layer": "below",
          "line": {
           "color": "rgb(175,175,175)",
           "width": 0.5
          },
          "path": "M -0.3416406706158519,0.9398306507989357 Q -0.10649722912839335, 0.1692877437618403 -0.6992930403908221, 0.714835116415639L -0.6992930403908221, 0.714835116415639 L -0.6933682131123989, 0.7205834587647144 L -0.6873961348578473, 0.7262826954998254 M -0.6873961348578473,0.7262826954998254 Q -0.10677793879542455, 0.16911082693488486 -0.36020761303082655, 0.9328721646156211L -0.36020761303082655, 0.9328721646156211 L -0.35094138890552345, 0.9363974271392794 L -0.3416406706158519, 0.9398306507989357 ",
          "type": "path"
         },
         {
          "fillcolor": "#e1b396",
          "layer": "below",
          "line": {
           "color": "rgb(175,175,175)",
           "width": 0.5
          },
          "path": "M -0.36020761303082655,0.9328721646156211 Q -0.12173951338136489, 0.15868046786441137 -0.8077618326636458, 0.5895089665915764L -0.8077618326636458, 0.5895089665915764 L -0.8020403585948161, 0.5972698411816043 L -0.796244321689174, 0.6049751897208241 M -0.796244321689174,0.6049751897208241 Q -0.12190106196747884, 0.15855639719418732 -0.38001385769239515, 0.9249807932934305L -0.38001385769239515, 0.9249807932934305 L -0.37013176689558613, 0.9289792651802038 L -0.36020761303082655, 0.9328721646156211 ",
          "type": "path"
         },
         {
          "fillcolor": "#e1b396",
          "layer": "below",
          "line": {
           "color": "rgb(175,175,175)",
           "width": 0.5
          },
          "path": "M -0.4482982346967023,0.89388404883845 Q -0.1496107927209119, 0.13272758078643768 -0.9409376282813238, 0.33857994577989603L -0.9409376282813238, 0.33857994577989603 L -0.9347678118781216, 0.3552592544559374 L -0.9283023602239652, 0.37182620671842853 M -0.9283023602239652,0.37182620671842853 Q -0.14971228945240328, 0.13261308527788584 -0.4811437186298374, 0.8766417295697553L -0.4811437186298374, 0.8766417295697553 L -0.46480093647098464, 0.8854152073777001 L -0.4482982346967023, 0.89388404883845 ",
          "type": "path"
         },
         {
          "fillcolor": "#e1b396",
          "layer": "below",
          "line": {
           "color": "rgb(175,175,175)",
           "width": 0.5
          },
          "path": "M -0.26815810959816466,0.9633749157294572 Q -0.14159008973643505, 0.1412524211772254 -0.9640124441974015, 0.26585711845378873L -0.9640124441974015, 0.26585711845378873 L -0.9637748698191588, 0.26671707914016957 L -0.9635365283012095, 0.2675768275266983 M -0.9635365283012095,0.2675768275266983 Q -0.14164475465438794, 0.14119760436671103 -0.27062202492152804, 0.9626856805974481L -0.27062202492152804, 0.9626856805974481 L -0.2693902876859732, 0.9630310861547869 L -0.26815810959816466, 0.9633749157294572 ",
          "type": "path"
         },
         {
          "fillcolor": "#e1b396",
          "layer": "below",
          "line": {
           "color": "rgb(175,175,175)",
           "width": 0.5
          },
          "path": "M -0.2945499031622823,0.9556360994369615 Q -0.1536070613685979, 0.1280815002164786 -0.993017129249564, 0.11797025479736305L -0.993017129249564, 0.11797025479736305 L -0.9925092355415763, 0.12216962537666938 L -0.9919835831940789, 0.12636681001527267 M -0.9919835831940789,0.12636681001527267 Q -0.15372061255905034, 0.12794519637122118 -0.3043142914200988, 0.9525716834115336L -0.3043142914200988, 0.9525716834115336 L -0.2994360174554746, 0.9541163825500559 L -0.2945499031622823, 0.9556360994369615 ",
          "type": "path"
         },
         {
          "fillcolor": "#e1b396",
          "layer": "below",
          "line": {
           "color": "rgb(175,175,175)",
           "width": 0.5
          },
          "path": "M -0.280664455476651,0.9598059509254957 Q -0.15796719188224112, 0.12266363066874882 -0.9994152481947131, 0.034193006242508144L -0.9994152481947131, 0.034193006242508144 L -0.9993179035096141, 0.036928684313817406 L -0.9992130705252467, 0.03966408566333597 M -0.9992130705252467,0.03966408566333597 Q -0.15801061860824073, 0.12260768494283342 -0.2865935752773704, 0.9580522546342314L -0.2865935752773704, 0.9580522546342314 L -0.28363037077577397, 0.9589336852846484 L -0.280664455476651, 0.9598059509254957 ",
          "type": "path"
         },
         {
          "fillcolor": "#e1b396",
          "layer": "below",
          "line": {
           "color": "rgb(175,175,175)",
           "width": 0.5
          },
          "path": "M -0.2747246058984148,0.9615229539194374 Q -0.16806739468157658, 0.10841287213678628 -0.9892574444752237, -0.14618381767606758L -0.9892574444752237, -0.14618381767606758 L -0.9896617630833184, -0.14342103991680452 L -0.9900583658781094, -0.14065714398766857 M -0.9900583658781094,-0.14065714398766857 Q -0.1680998367630874, 0.10836256217081329 -0.280664455476651, 0.9598059509254957L -0.280664455476651, 0.9598059509254957 L -0.2776958577267394, 0.9606690432200938 L -0.2747246058984148, 0.9615229539194374 ",
          "type": "path"
         },
         {
          "fillcolor": "#e1b396",
          "layer": "below",
          "line": {
           "color": "rgb(175,175,175)",
           "width": 0.5
          },
          "path": "M -0.3154634090522297,0.948937741661246 Q -0.18066710222712212, 0.08578693474448544 -0.9347558298698355, -0.3552907802411359L -0.9347558298698355, -0.3552907802411359 L -0.9368983857145726, -0.3496017946827904 L -0.9390063183836855, -0.34389988955438267 M -0.9390063183836855,-0.34389988955438267 Q -0.18073084250595262, 0.08565256894622925 -0.3283822156378262, 0.9445449277047611L -0.3283822156378262, 0.9445449277047611 L -0.321930305053355, 0.9467633699548446 L -0.3154634090522297, 0.948937741661246 ",
          "type": "path"
         },
         {
          "fillcolor": "#e1b396",
          "layer": "below",
          "line": {
           "color": "rgb(175,175,175)",
           "width": 0.5
          },
          "path": "M -0.3283822156378262,0.9445449277047611 Q -0.1884741257710237, 0.06691415332236028 -0.8504760880985728, -0.5260137104416088L -0.8504760880985728, -0.5260137104416088 L -0.8541672960936574, -0.5199982983472641 L -0.8578159578456352, -0.5139569850341322 M -0.8578159578456352,-0.5139569850341322 Q -0.18847266893800013, 0.06691825657761119 -0.3416406706158519, 0.9398306507989357L -0.3416406706158519, 0.9398306507989357 L -0.3350197354300394, 0.9422111105651357 L -0.3283822156378262, 0.9445449277047611 ",
          "type": "path"
         },
         {
          "fillcolor": "#e1b396",
          "layer": "below",
          "line": {
           "color": "rgb(175,175,175)",
           "width": 0.5
          },
          "path": "M -0.38001385769239515,0.9249807932934305 Q -0.1996768074591473, 0.011365410811872671 -0.4825174738715058, -0.8758863438875278L -0.4825174738715058, -0.8758863438875278 L -0.49285465172163406, -0.8701116550629274 L -0.5031227292416872, -0.8642149728628843 M -0.5031227292416872,-0.8642149728628843 Q -0.19967429083666946, 0.01140953894218069 -0.4014055998420579, 0.9159004009254705L -0.4014055998420579, 0.9159004009254705 L -0.3907361072830981, 0.9205027400639562 L -0.38001385769239515, 0.9249807932934305 ",
          "type": "path"
         },
         {
          "fillcolor": "#e1b396",
          "layer": "below",
          "line": {
           "color": "rgb(175,175,175)",
           "width": 0.5
          },
          "path": "M -0.27062202492152804,0.9626856805974481 Q -0.19911000360155426, -0.018846921918155676 -0.0851864614154403, -0.9963650268809698L -0.0851864614154403, -0.9963650268809698 L -0.08668250950054605, -0.9962359873778339 L -0.08817836213297102, -0.996104701550769 M -0.08817836213297102,-0.996104701550769 Q -0.19909808139878615, -0.018972453276325008 -0.2747246058984148, 0.9615229539194374L -0.2747246058984148, 0.9615229539194374 L -0.272673935167991, 0.9621065040212555 L -0.27062202492152804, 0.9626856805974481 ",
          "type": "path"
         },
         {
          "fillcolor": "#e1b396",
          "layer": "below",
          "line": {
           "color": "rgb(175,175,175)",
           "width": 0.5
          },
          "path": "M -0.4811437186298374,0.8766417295697553 Q -0.18493702066243425, -0.07614655861233893 0.27560439030773826, -0.9612711480342577L 0.27560439030773826, -0.9612711480342577 L 0.2565074878487998, -0.9665422436073334 L 0.23730991232318427, -0.971433994419159 M 0.23730991232318427,-0.971433994419159 Q -0.18498439190483068, -0.07603140635027093 -0.5144245129926989, 0.8575356671487342L -0.5144245129926989, 0.8575356671487342 L -0.49787577402331495, 0.8672483575312697 L -0.4811437186298374, 0.8766417295697553 ",
          "type": "path"
         },
         {
          "fillcolor": "#e1b396",
          "layer": "below",
          "line": {
           "color": "rgb(175,175,175)",
           "width": 0.5
          },
          "path": "M -0.4014055998420579,0.9159004009254705 Q -0.16151818007104848, -0.11794862231724608 0.7502435888848206, -0.6611615213676794L 0.7502435888848206, -0.6611615213676794 L 0.7420507628474445, -0.6703436919651931 L 0.7337455646085372, -0.6794243492967403 M 0.7337455646085372,-0.6794243492967403 Q -0.1615236612748832, -0.11794111602132991 -0.42373962990973063, 0.9057840394067256L -0.42373962990973063, 0.9057840394067256 L -0.4126036206071483, 0.9109106719442212 L -0.4014055998420579, 0.9159004009254705 ",
          "type": "path"
         },
         {
          "fillcolor": "#e1b396",
          "layer": "below",
          "line": {
           "color": "rgb(175,175,175)",
           "width": 0.5
          },
          "path": "M -0.2865935752773704,0.9580522546342314 Q -0.15003319746438923, -0.13224991364311584 0.9145108439561184, -0.40456138753799537L 0.9145108439561184, -0.40456138753799537 L 0.9130084153345459, -0.4079407230570409 L 0.9114934993139896, -0.4113144790891004 M 0.9114934993139896,-0.4113144790891004 Q -0.14997244030038778, -0.1323188087550165 -0.2945499031622823, 0.9556360994369615L -0.2945499031622823, 0.9556360994369615 L -0.29057425055348446, 0.9568524467833486 L -0.2865935752773704, 0.9580522546342314 ",
          "type": "path"
         },
         {
          "fillcolor": "#e1b396",
          "layer": "below",
          "line": {
           "color": "rgb(175,175,175)",
           "width": 0.5
          },
          "path": "M -0.3043142914200988,0.9525716834115336 Q -0.13421808652291503, -0.14827509989923224 0.9780768693895334, -0.2082441777461487L 0.9780768693895334, -0.2082441777461487 L 0.9770120557273524, -0.21318405888671133 L 0.9759222928373329, -0.2181184961050371 M 0.9759222928373329,-0.2181184961050371 Q -0.13409795670627703, -0.14838375250411162 -0.3154634090522297, 0.948937741661246L -0.3154634090522297, 0.948937741661246 L -0.3098941769118178, 0.9507710550475056 L -0.3043142914200988, 0.9525716834115336 ",
          "type": "path"
         },
         {
          "fillcolor": "#e1b396",
          "layer": "below",
          "line": {
           "color": "rgb(175,175,175)",
           "width": 0.5
          },
          "path": "M -0.2661035052572101,0.9639444613097925 Q -0.1294165271947135, -0.1524839745312929 0.994381366128803, -0.10585697282567402L 0.994381366128803, -0.10585697282567402 L 0.9942932337542814, -0.10668160717974759 L 0.9942044175156782, -0.107506168159371 M 0.9942044175156782,-0.107506168159371 Q -0.12938042885504616, -0.1525146046425861 -0.26815810959816466, 0.9633749157294572L -0.26815810959816466, 0.9633749157294572 L -0.267130959217591, 0.9636602360933493 L -0.2661035052572101, 0.9639444613097925 ",
          "type": "path"
         },
         {
          "fillcolor": "#dba284",
          "layer": "below",
          "line": {
           "color": "rgb(175,175,175)",
           "width": 0.5
          },
          "path": "M -0.6992930403908221,0.714835116415639 Q -0.1525554736988176, 0.12933223667952773 -0.8196423565021788, 0.5728755601590587L -0.8196423565021788, 0.5728755601590587 L -0.8137445952391977, 0.5812226197585518 L -0.8077618326636458, 0.5895089665915764 M -0.8077618326636458,0.5895089665915764 Q -0.1524504864496497, 0.12945597391107594 -0.7126203264725145, 0.7015499057787742L -0.7126203264725145, 0.7015499057787742 L -0.7059879340946681, 0.7082238607338379 L -0.6992930403908221, 0.714835116415639 ",
          "type": "path"
         },
         {
          "fillcolor": "#dba284",
          "layer": "below",
          "line": {
           "color": "rgb(175,175,175)",
           "width": 0.5
          },
          "path": "M -0.6454564526236958,0.7637970723735689 Q -0.1537564972561745, 0.1279020701611667 -0.8685403398505943, 0.4956184803376627L -0.8685403398505943, 0.4956184803376627 L -0.8665578641539748, 0.4990766154338443 L -0.8645616197989751, 0.5025268207474826 M -0.8645616197989751,0.5025268207474826 Q -0.1536894225313708, 0.12798266055202076 -0.6507292180841262, 0.7593098739853327L -0.6507292180841262, 0.7593098739853327 L -0.6480967188425006, 0.7615580365445463 L -0.6454564526236958, 0.7637970723735689 ",
          "type": "path"
         },
         {
          "fillcolor": "#dba284",
          "layer": "below",
          "line": {
           "color": "rgb(175,175,175)",
           "width": 0.5
          },
          "path": "M -0.6352297738459944,0.7723232059310188 Q -0.16739516334136748, 0.109447975266411 -0.9622524252609709, 0.272158538501697L -0.9622524252609709, 0.272158538501697 L -0.9622119458387439, 0.2723016182199771 L -0.9621714451416361, 0.2724446919175623 M -0.9621714451416361,0.2724446919175623 Q -0.1673983191335522, 0.10944314848934773 -0.6355039548487751, 0.7720976125928418L -0.6355039548487751, 0.7720976125928418 L -0.6353668743597801, 0.7722104214307675 L -0.6352297738459944, 0.7723232059310188 ",
          "type": "path"
         },
         {
          "fillcolor": "#dba284",
          "layer": "below",
          "line": {
           "color": "rgb(175,175,175)",
           "width": 0.5
          },
          "path": "M -0.663309248677684,0.7483454019492912 Q -0.17762134500480267, 0.09192745943778094 -0.9939989000425155, 0.10939006679890755L -0.9939989000425155, 0.10939006679890755 L -0.9935172771886948, 0.11368122064599025 L -0.993017129249564, 0.11797025479736305 M -0.993017129249564,0.11797025479736305 Q -0.17762422998492633, 0.09192188489289156 -0.6697939032804449, 0.7425470538143331L -0.6697939032804449, 0.7425470538143331 L -0.6665578809454196, 0.7454532791191892 L -0.663309248677684, 0.7483454019492912 ",
          "type": "path"
         },
         {
          "fillcolor": "#dba284",
          "layer": "below",
          "line": {
           "color": "rgb(175,175,175)",
           "width": 0.5
          },
          "path": "M -0.6355039548487751,0.7720976125928418 Q -0.1785554362185903, 0.09009970142452714 -0.998621561536795, 0.05248787320718009L -0.998621561536795, 0.05248787320718009 L -0.9986016723069373, 0.05286492282968107 L -0.9985816407144287, 0.05324196491565296 M -0.9985816407144287,0.05324196491565296 Q -0.17855340768024497, 0.09010372137582463 -0.6360520764704509, 0.7716461339355156L -0.6360520764704509, 0.7716461339355156 L -0.6357780557351124, 0.77187192191819 L -0.6355039548487751, 0.7720976125928418 ",
          "type": "path"
         },
         {
          "fillcolor": "#dba284",
          "layer": "below",
          "line": {
           "color": "rgb(175,175,175)",
           "width": 0.5
          },
          "path": "M -0.6376945157776903,0.7702893641658679 Q -0.1859702866616409, 0.07358704015645089 -0.9921076634963377, -0.12538893105787904L -0.9921076634963377, -0.12538893105787904 L -0.9922638329757962, -0.1241470328609632 L -0.9924184478754702, -0.12290494016288625 M -0.9924184478754702,-0.12290494016288625 Q -0.1859630938112585, 0.07360521544119737 -0.6394705588455956, 0.7688155854102476L -0.6394705588455956, 0.7688155854102476 L -0.6385829624765534, 0.7695529871520667 L -0.6376945157776903, 0.7702893641658679 ",
          "type": "path"
         },
         {
          "fillcolor": "#dba284",
          "layer": "below",
          "line": {
           "color": "rgb(175,175,175)",
           "width": 0.5
          },
          "path": "M -0.6349555127613357,0.7725487019042808 Q -0.19186380332567332, 0.056464864946330545 -0.952207464074191, -0.3054520344692408L -0.952207464074191, -0.3054520344692408 L -0.9522654739983781, -0.3052711369105247 L -0.9523234495561822, -0.3050902283348547 M -0.9523234495561822,-0.3050902283348547 Q -0.19186310081595226, 0.05646725197216306 -0.6352297738459944, 0.7723232059310188L -0.6352297738459944, 0.7723232059310188 L -0.635092653311739, 0.7724359660900412 L -0.6349555127613357, 0.7725487019042808 ",
          "type": "path"
         },
         {
          "fillcolor": "#dba284",
          "layer": "below",
          "line": {
           "color": "rgb(175,175,175)",
           "width": 0.5
          },
          "path": "M -0.6394705588455956,0.7688155854102476 Q -0.19635686595670765, 0.0379997525210302 -0.8801277336818955, -0.4747369507463797L -0.8801277336818955, -0.4747369507463797 L -0.8808374649016956, -0.47341880024514676 L -0.8815452219540861, -0.4720995886991652 M -0.8815452219540861,-0.4720995886991652 Q -0.19634719371624312, 0.03804969802450609 -0.641379411212022, 0.7672238596871971L -0.641379411212022, 0.7672238596871971 L -0.6404254795421902, 0.7680203155862192 L -0.6394705588455956, 0.7688155854102476 ",
          "type": "path"
         },
         {
          "fillcolor": "#dba284",
          "layer": "below",
          "line": {
           "color": "rgb(175,175,175)",
           "width": 0.5
          },
          "path": "M -0.6360520764704509,0.7716461339355156 Q -0.19995214108607326, -0.004375074295947695 -0.6016913210270433, -0.798728711266054L -0.6016913210270433, -0.798728711266054 L -0.6022117968411163, -0.7983363650400714 L -0.602732016817169, -0.7979436796563452 M -0.602732016817169,-0.7979436796563452 Q -0.1999526611761263, -0.004351239890564697 -0.6368736574250737, 0.7709681864240637L -0.6368736574250737, 0.7709681864240637 L -0.6364629572147715, 0.7713072695712312 L -0.6360520764704509, 0.7716461339355156 ",
          "type": "path"
         },
         {
          "fillcolor": "#dba284",
          "layer": "below",
          "line": {
           "color": "rgb(175,175,175)",
           "width": 0.5
          },
          "path": "M -0.657042105153231,0.7538538797776466 Q -0.18601248221573688, -0.0734803134175418 0.035531493243848425, -0.9993685571338846L 0.035531493243848425, -0.9993685571338846 L 0.030361347799175733, -0.9995389880138831 L 0.025190389901515457, -0.9996826717797052 M 0.025190389901515457,-0.9996826717797052 Q -0.1860859431679488, -0.07329407721838745 -0.663309248677684, 0.7483454019492912L -0.663309248677684, 0.7483454019492912 L -0.6601814222036083, 0.7511061774324725 L -0.657042105153231, 0.7538538797776466 ",
          "type": "path"
         },
         {
          "fillcolor": "#dba284",
          "layer": "below",
          "line": {
           "color": "rgb(175,175,175)",
           "width": 0.5
          },
          "path": "M -0.641379411212022,0.7672238596871971 Q -0.15329561565365368, -0.12845409382875775 0.6431606598985625, -0.765731261970442L 0.6431606598985625, -0.765731261970442 L 0.6406991615864617, -0.7677920189363817 L 0.6382310604253589, -0.7698448632733234 M 0.6382310604253589,-0.7698448632733234 Q -0.15336589559178943, -0.1283701759340087 -0.6454564526236958, 0.7637970723735689L -0.6454564526236958, 0.7637970723735689 L -0.6434202132597934, 0.7655131802710663 L -0.641379411212022, 0.7672238596871971 ",
          "type": "path"
         },
         {
          "fillcolor": "#dba284",
          "layer": "below",
          "line": {
           "color": "rgb(175,175,175)",
           "width": 0.5
          },
          "path": "M -0.6507292180841262,0.7593098739853327 Q -0.10376556426737504, -0.17097575170846088 0.9739604656739848, -0.22671791129973554L 0.9739604656739848, -0.22671791129973554 L 0.9729723484605106, -0.2309216514994612 L 0.9719660874461795, -0.2351210855167305 M 0.9719660874461795,-0.2351210855167305 Q -0.10379058707812877, -0.17096056280317218 -0.657042105153231, 0.7538538797776466L -0.657042105153231, 0.7538538797776466 L -0.6538913521669297, 0.7565884611605601 L -0.6507292180841262, 0.7593098739853327 ",
          "type": "path"
         },
         {
          "fillcolor": "#dba284",
          "layer": "below",
          "line": {
           "color": "rgb(175,175,175)",
           "width": 0.5
          },
          "path": "M -0.6368736574250737,0.7709681864240637 Q -0.094836831651406, -0.17608513668769118 0.9942044175156782, -0.107506168159371L 0.9942044175156782, -0.107506168159371 L 0.9941507995431498, -0.1080008692914836 L 0.9940969354148103, -0.10849554368213758 M 0.9940969354148103,-0.10849554368213758 Q -0.09483067009067384, -0.1760884550734482 -0.6376945157776903, 0.7702893641658679L -0.6376945157776903, 0.7702893641658679 L -0.6372841769848615, 0.7706288845901947 L -0.6368736574250737, 0.7709681864240637 ",
          "type": "path"
         },
         {
          "fillcolor": "#d59171",
          "layer": "below",
          "line": {
           "color": "rgb(175,175,175)",
           "width": 0.5
          },
          "path": "M -0.7440454835663761,0.6681289683769724 Q -0.16265582767029316, 0.11637474693803594 -0.8725637344929034, 0.4885002858216135L -0.8725637344929034, 0.4885002858216135 L -0.8705593125095924, 0.4920634952959077 L -0.8685403398505943, 0.4956184803376627 M -0.8685403398505943,0.4956184803376627 Q -0.1626288801962443, 0.11641240194290137 -0.7491769493820559, 0.6623699106349837L -0.7491769493820559, 0.6623699106349837 L -0.746616769334595, 0.6652543872447383 L -0.7440454835663761, 0.6681289683769724 ",
          "type": "path"
         },
         {
          "fillcolor": "#d59171",
          "layer": "below",
          "line": {
           "color": "rgb(175,175,175)",
           "width": 0.5
          },
          "path": "M -0.769254048928323,0.6389430398770936 Q -0.18456372901196483, 0.07704693331468825 -0.995221319331171, 0.09764489514932843L -0.995221319331171, 0.09764489514932843 L -0.9946274466128229, 0.1035192853745434 L -0.9939989000425155, 0.10939006679890755 M -0.9939989000425155,0.10939006679890755 Q -0.184606520401846, 0.07694434758397016 -0.777444892061205, 0.6289510631264894L -0.777444892061205, 0.6289510631264894 L -0.7733656078559339, 0.6339602799747173 L -0.769254048928323, 0.6389430398770936 ",
          "type": "path"
         },
         {
          "fillcolor": "#d59171",
          "layer": "below",
          "line": {
           "color": "rgb(175,175,175)",
           "width": 0.5
          },
          "path": "M -0.7358737737760687,0.6771187407453492 Q -0.18443436771136257, 0.07735608577810738 -0.998728407442939, 0.050413967970105424L -0.998728407442939, 0.050413967970105424 L -0.9986996947733124, 0.050979600426960175 L -0.998670661756284, 0.05154521653136921 M -0.998670661756284,0.05154521653136921 Q -0.18443530804790187, 0.07735384376535884 -0.7366567302722836, 0.6762668569023237L -0.7366567302722836, 0.6762668569023237 L -0.7362653752314746, 0.6766929120622263 L -0.7358737737760687, 0.6771187407453492 ",
          "type": "path"
         },
         {
          "fillcolor": "#d59171",
          "layer": "below",
          "line": {
           "color": "rgb(175,175,175)",
           "width": 0.5
          },
          "path": "M -0.7402974708308342,0.6722794468682426 Q -0.19150549892148874, 0.057668395875311744 -0.9884256724881952, -0.15170593253481848L -0.9884256724881952, -0.15170593253481848 L -0.9888454132060605, -0.1489454557256972 L -0.9892574444752237, -0.14618381767606758 M -0.9892574444752237,-0.14618381767606758 Q -0.19150572716989556, 0.05766763790142202 -0.7440454835663761, 0.6681289683769724L -0.7440454835663761, 0.6681289683769724 L -0.7421743785560683, 0.6702068276397324 L -0.7402974708308342, 0.6722794468682426 ",
          "type": "path"
         },
         {
          "fillcolor": "#d59171",
          "layer": "below",
          "line": {
           "color": "rgb(175,175,175)",
           "width": 0.5
          },
          "path": "M -0.7366567302722836,0.6762668569023237 Q -0.1954761907911815, 0.042297267450387484 -0.950333013635115, -0.31123490034891704L -0.950333013635115, -0.31123490034891704 L -0.9506576861066464, -0.31024178288289445 L -0.9509813207503961, -0.30924832672761915 M -0.9509813207503961,-0.30924832672761915 Q -0.19547685789481095, 0.042294184323283565 -0.7380895884256736, 0.6747027193198644L -0.7380895884256736, 0.6747027193198644 L -0.737373574085679, 0.6754851680385822 L -0.7366567302722836, 0.6762668569023237 ",
          "type": "path"
         },
         {
          "fillcolor": "#d59171",
          "layer": "below",
          "line": {
           "color": "rgb(175,175,175)",
           "width": 0.5
          },
          "path": "M -0.7380895884256736,0.6747027193198644 Q -0.19857559137923286, 0.023827180034321004 -0.8767553151809753, -0.4809367082079602L -0.8767553151809753, -0.4809367082079602 L -0.8776281508495319, -0.47934207914226684 L -0.8784980862344146, -0.4777458660024921 M -0.8784980862344146,-0.4777458660024921 Q -0.19857132914440645, 0.0238626746577956 -0.7402974708308342, 0.6722794468682426L -0.7402974708308342, 0.6722794468682426 L -0.7391945226438167, 0.6734919878464628 L -0.7380895884256736, 0.6747027193198644 ",
          "type": "path"
         },
         {
          "fillcolor": "#d59171",
          "layer": "below",
          "line": {
           "color": "rgb(175,175,175)",
           "width": 0.5
          },
          "path": "M -0.7552758426199695,0.6554070502784473 Q -0.19827564523480196, -0.02620626846239197 -0.5590639846831128, -0.8291245147927061L -0.5590639846831128, -0.8291245147927061 L -0.5637386397763346, -0.8259532347676398 L -0.5683953062980874, -0.8227555990561859 M -0.5683953062980874,-0.8227555990561859 Q -0.19829224719630897, -0.026080350876433823 -0.7618099367521691, 0.6478006022424309L -0.7618099367521691, 0.6478006022424309 L -0.7585524240329229, 0.6516120164590097 L -0.7552758426199695, 0.6554070502784473 ",
          "type": "path"
         },
         {
          "fillcolor": "#d59171",
          "layer": "below",
          "line": {
           "color": "rgb(175,175,175)",
           "width": 0.5
          },
          "path": "M -0.777444892061205,0.6289510631264894 Q -0.17753963613446005, -0.09208516493574591 0.06630791889560952, -0.9977992082036011L 0.06630791889560952, -0.9977992082036011 L 0.058179074490198913, -0.9983061631040169 L 0.050046370769212443, -0.9987468952506589 M 0.050046370769212443,-0.9987468952506589 Q -0.17763251649180334, -0.09190587078521822 -0.7863406150446791, 0.6177931993241393L -0.7863406150446791, 0.6177931993241393 L -0.78191265659264, 0.6233879991307503 L -0.777444892061205, 0.6289510631264894 ",
          "type": "path"
         },
         {
          "fillcolor": "#d59171",
          "layer": "below",
          "line": {
           "color": "rgb(175,175,175)",
           "width": 0.5
          },
          "path": "M -0.7618099367521691,0.6478006022424309 Q -0.138291225087015, -0.14448369134242298 0.6805292196223499, -0.7327209436342019L 0.6805292196223499, -0.7327209436342019 L 0.6758107911952059, -0.7370751484781655 L 0.6710645040451019, -0.7413989691189902 M 0.6710645040451019,-0.7413989691189902 Q -0.13838299203745089, -0.14439580158288123 -0.769254048928323, 0.6389430398770936L -0.769254048928323, 0.6389430398770936 L -0.7655448034992614, 0.6433825874511039 L -0.7618099367521691, 0.6478006022424309 ",
          "type": "path"
         },
         {
          "fillcolor": "#d59171",
          "layer": "below",
          "line": {
           "color": "rgb(175,175,175)",
           "width": 0.5
          },
          "path": "M -0.7345666576137908,0.6785365321941802 Q -0.11190966454462559, -0.16575954567236656 0.9039352150590098, -0.42766941318759494L 0.9039352150590098, -0.42766941318759494 L 0.9037323393815984, -0.42809795462704975 L 0.9035292605394579, -0.42852639982738566 M 0.9035292605394579,-0.42852639982738566 Q -0.1119083451018417, -0.16576043646349123 -0.7352205574517399, 0.677827951548439L -0.7352205574517399, 0.677827951548439 L -0.7348936929339882, 0.6781823206821637 L -0.7345666576137908, 0.6785365321941802 ",
          "type": "path"
         },
         {
          "fillcolor": "#d59171",
          "layer": "below",
          "line": {
           "color": "rgb(175,175,175)",
           "width": 0.5
          },
          "path": "M -0.7491769493820559,0.6623699106349837 Q -0.09092157528234046, -0.1781383371096118 0.9759222928373329, -0.2181184961050371L 0.9759222928373329, -0.2181184961050371 L 0.9749508605413655, -0.22242036671503562 L 0.9739604656739848, -0.22671791129973554 M 0.9739604656739848,-0.22671791129973554 Q -0.0908827493091833, -0.17815814850296394 -0.7552758426199695, 0.6554070502784473L -0.7552758426199695, 0.6554070502784473 L -0.7522344522798451, 0.6588955370946455 L -0.7491769493820559, 0.6623699106349837 ",
          "type": "path"
         },
         {
          "fillcolor": "#d59171",
          "layer": "below",
          "line": {
           "color": "rgb(175,175,175)",
           "width": 0.5
          },
          "path": "M -0.7343049064309485,0.6788197878608402 Q -0.08311828120079139, -0.18191028373961207 0.9938423151492415, -0.11080366699164672L 0.9938423151492415, -0.11080366699164672 L 0.9938239229048733, -0.11096851022685854 L 0.9938055033188519, -0.11113335040915277 M 0.9938055033188519,-0.11113335040915277 Q -0.08311337453221679, -0.18191252561016094 -0.7345666576137908, 0.6785365321941802L -0.7345666576137908, 0.6785365321941802 L -0.7344357956780518, 0.6786781726464665 L -0.7343049064309485, 0.6788197878608402 ",
          "type": "path"
         },
         {
          "fillcolor": "#d0805f",
          "layer": "below",
          "line": {
           "color": "rgb(175,175,175)",
           "width": 0.5
          },
          "path": "M -0.8766271693847415,0.481170246271001 Q -0.1861136116016069, 0.0732237910559555 -0.9694836048361769, 0.24515615422389786L -0.9694836048361769, 0.24515615422389786 L -0.9686764385847688, 0.24832631219975185 L -0.967858906120965, 0.2514938127317033 M -0.967858906120965,0.2514938127317033 Q -0.1862032313466854, 0.07299559326461263 -0.8809194228888001, 0.4732662785127031L -0.8809194228888001, 0.4732662785127031 L -0.8787821824432182, 0.4772230881048553 L -0.8766271693847415, 0.481170246271001 ",
          "type": "path"
         },
         {
          "fillcolor": "#d0805f",
          "layer": "below",
          "line": {
           "color": "rgb(175,175,175)",
           "width": 0.5
          },
          "path": "M -0.8725637344929034,0.4885002858216135 Q -0.18993886790736914, 0.06263566442584434 -0.9919835831940789, 0.12636681001527267L -0.9919835831940789, 0.12636681001527267 L -0.9915205327809211, 0.1299501176368779 L -0.9910445385538499, 0.1335317288234778 M -0.9910445385538499,0.1335317288234778 Q -0.1899750022357512, 0.0625259828033621 -0.8766271693847415, 0.481170246271001L -0.8766271693847415, 0.481170246271001 L -0.874603131095485, 0.4848395230155786 L -0.8725637344929034, 0.4885002858216135 ",
          "type": "path"
         },
         {
          "fillcolor": "#d0805f",
          "layer": "below",
          "line": {
           "color": "rgb(175,175,175)",
           "width": 0.5
          },
          "path": "M -0.8547465570562646,0.5190455887496415 Q -0.19137316480023495, 0.05810603922435362 -0.999039715467107, 0.04381377545249709L -0.999039715467107, 0.04381377545249709 L -0.9989595298341523, 0.04560545749720536 L -0.9988761309936413, 0.04739699284948434 M -0.9988761309936413,0.04739699284948434 Q -0.19138178949303655, 0.05807762607444497 -0.8567560183720901, 0.5157219454155532L -0.8567560183720901, 0.5157219454155532 L -0.855752901295535, 0.5173847426473593 L -0.8547465570562646, 0.5190455887496415 ",
          "type": "path"
         },
         {
          "fillcolor": "#d0805f",
          "layer": "below",
          "line": {
           "color": "rgb(175,175,175)",
           "width": 0.5
          },
          "path": "M -0.8567560183720901,0.5157219454155532 Q -0.1958869925104805, 0.04035202801841514 -0.9908284117196402, -0.13512608382224064L -0.9908284117196402, -0.13512608382224064 L -0.9910867813693585, -0.13321783587390082 L -0.9913414759056548, -0.13130909393182977 M -0.9913414759056548,-0.13130909393182977 Q -0.19589177243829067, 0.040328817128511864 -0.8588572782702527, 0.5122149700684407L -0.8588572782702527, 0.5122149700684407 L -0.8578084405174754, 0.5139695315648358 L -0.8567560183720901, 0.5157219454155532 ",
          "type": "path"
         },
         {
          "fillcolor": "#d0805f",
          "layer": "below",
          "line": {
           "color": "rgb(175,175,175)",
           "width": 0.5
          },
          "path": "M -0.8515474841537568,0.5242774859093297 Q -0.1986454180615246, 0.023237854530100622 -0.9495614824469374, -0.31358091627708246L -0.9495614824469374, -0.31358091627708246 L -0.9499479722639566, -0.3124081464872471 L -0.950333013635115, -0.31123490034891704 M -0.950333013635115,-0.31123490034891704 Q -0.19864759885255648, 0.02321920476919492 -0.8529376879973644, 0.5220127396852597L -0.8529376879973644, 0.5220127396852597 L -0.8522433383662346, 0.5231455745873952 L -0.8515474841537568, 0.5242774859093297 ",
          "type": "path"
         },
         {
          "fillcolor": "#d0805f",
          "layer": "below",
          "line": {
           "color": "rgb(175,175,175)",
           "width": 0.5
          },
          "path": "M -0.8901296859368137,0.455707298837784 Q -0.1997648505249483, -0.009695591510839523 -0.8418143068427484, -0.5397672394605504L -0.8418143068427484, -0.5397672394605504 L -0.846173141320842, -0.5329080735992074 L -0.8504760880985728, -0.5260137104416088 M -0.8504760880985728,-0.5260137104416088 Q -0.1997683204911886, -0.009623831260457636 -0.8971016436546025, 0.4418242195174576L -0.8971016436546025, 0.4418242195174576 L -0.8936426250695123, 0.4487792983849311 L -0.8901296859368137, 0.455707298837784 ",
          "type": "path"
         },
         {
          "fillcolor": "#d0805f",
          "layer": "below",
          "line": {
           "color": "rgb(175,175,175)",
           "width": 0.5
          },
          "path": "M -0.8971016436546025,0.4418242195174576 Q -0.19147758789180275, -0.057761001853646535 -0.5031227292416872, -0.8642149728628843L -0.5031227292416872, -0.8642149728628843 L -0.5124809747088539, -0.8586985795734514 L -0.5217787436526574, -0.8530808535374912 M -0.5217787436526574,-0.8530808535374912 Q -0.1915146554130662, -0.057637980204154594 -0.9059451406989969, 0.42339508977298573L -0.9059451406989969, 0.42339508977298573 L -0.9015704824625463, 0.4326322516320894 L -0.8971016436546025, 0.4418242195174576 ",
          "type": "path"
         },
         {
          "fillcolor": "#d0805f",
          "layer": "below",
          "line": {
           "color": "rgb(175,175,175)",
           "width": 0.5
          },
          "path": "M -0.8529376879973644,0.5220127396852597 Q -0.1787445233751562, -0.08972399547160306 -0.09101993158288443, -0.995849070921215L -0.09101993158288443, -0.995849070921215 L -0.09229092153457255, -0.9957320853534345 L -0.0935617611350207, -0.995613477637438 M -0.0935617611350207,-0.995613477637438 Q -0.17870312682601172, -0.08980641660040989 -0.8547465570562646, 0.5190455887496415L -0.8547465570562646, 0.5190455887496415 L -0.8538434114035574, 0.5205299499574789 L -0.8529376879973644, 0.5220127396852597 ",
          "type": "path"
         },
         {
          "fillcolor": "#d0805f",
          "layer": "below",
          "line": {
           "color": "rgb(175,175,175)",
           "width": 0.5
          },
          "path": "M -0.916956814044405,0.3989864674115334 Q -0.15765582213693802, -0.12306356790832196 0.1644428555555505, -0.9863866114545231L 0.1644428555555505, -0.9863866114545231 L 0.14878954905787894, -0.988868884175831 L 0.13309886845824886, -0.9911027652141496 M 0.13309886845824886,-0.9911027652141496 Q -0.15779492944482032, -0.12288515061432029 -0.9283023602239652, 0.37182620671842853L -0.9283023602239652, 0.37182620671842853 L -0.9227295242895538, 0.385448083409911 L -0.916956814044405, 0.3989864674115334 ",
          "type": "path"
         },
         {
          "fillcolor": "#d0805f",
          "layer": "below",
          "line": {
           "color": "rgb(175,175,175)",
           "width": 0.5
          },
          "path": "M -0.8854256045458941,0.4647811300112536 Q -0.12341945694985097, -0.15737737336162363 0.6624516084507809, -0.7491047099444598L 0.6624516084507809, -0.7491047099444598 L 0.6584341238696426, -0.75263836237865 L 0.654397790372611, -0.756150469123338 M 0.654397790372611,-0.756150469123338 Q -0.1234572305032802, -0.157347743029444 -0.8901296859368137, 0.455707298837784L -0.8901296859368137, 0.455707298837784 L -0.8877892379350655, 0.46025022434179835 L -0.8854256045458941, 0.4647811300112536 ",
          "type": "path"
         },
         {
          "fillcolor": "#d0805f",
          "layer": "below",
          "line": {
           "color": "rgb(175,175,175)",
           "width": 0.5
          },
          "path": "M -0.8588572782702527,0.5122149700684407 Q -0.09302368808808546, -0.17704969204856189 0.9090595168925241, -0.41666628702971725L 0.9090595168925241, -0.41666628702971725 L 0.9079897301938454, -0.4189924222017717 L 0.9069139913061246, -0.4213158107325127 M 0.9069139913061246,-0.4213158107325127 Q -0.09298840732438228, -0.17706822443136083 -0.8616712019153835, 0.5074669839405304L -0.8616712019153835, 0.5074669839405304 L -0.8602675157330661, 0.5098429183331458 L -0.8588572782702527, 0.5122149700684407 ",
          "type": "path"
         },
         {
          "fillcolor": "#d0805f",
          "layer": "below",
          "line": {
           "color": "rgb(175,175,175)",
           "width": 0.5
          },
          "path": "M -0.8616712019153835,0.5074669839405304 Q -0.07570318343062205, -0.18511895639957998 0.9703450348207555, -0.24172404389862984L 0.9703450348207555, -0.24172404389862984 L 0.9697199621459974, -0.24421956313032198 L 0.9690884715425007, -0.24671346603584465 M 0.9690884715425007,-0.24671346603584465 Q -0.0756496444191627, -0.18514084179147033 -0.8645616197989751, 0.5025268207474826L -0.8645616197989751, 0.5025268207474826 L -0.8631199453112369, 0.5049989703018487 L -0.8616712019153835, 0.5074669839405304 ",
          "type": "path"
         },
         {
          "fillcolor": "#d0805f",
          "layer": "below",
          "line": {
           "color": "rgb(175,175,175)",
           "width": 0.5
          },
          "path": "M -0.850474004101773,0.526017079900546 Q -0.0646484728383938, -0.18926324249484755 0.9945555790436059, -0.10420748626292474L 0.9945555790436059, -0.10420748626292474 L 0.9944688145786266, -0.10503226566432487 L 0.994381366128803, -0.10585697282567402 M 0.994381366128803,-0.10585697282567402 Q -0.06461199222476564, -0.18927569960443108 -0.8515474841537568, 0.5242774859093297L -0.8515474841537568, 0.5242774859093297 L -0.8510111886266277, 0.5251475571992069 L -0.850474004101773, 0.526017079900546 ",
          "type": "path"
         },
         {
          "fillcolor": "#ca6f4c",
          "layer": "below",
          "line": {
           "color": "rgb(175,175,175)",
           "width": 0.5
          },
          "path": "M -0.9627767213291768,0.2702979557204246 Q -0.19478183597305987, 0.04538762358797825 -0.9830899174265106, 0.18312349454490154L -0.9830899174265106, 0.18312349454490154 L -0.9829605718023174, 0.1838165234195802 L -0.9828307376277375, 0.18450946093389697 M -0.9828307376277375,0.18450946093389697 Q -0.19477683246244187, 0.04540909089486221 -0.9630975770493614, 0.2691524792411345L -0.9630975770493614, 0.2691524792411345 L -0.9629373195166172, 0.26972526519062356 L -0.9627767213291768, 0.2702979557204246 ",
          "type": "path"
         },
         {
          "fillcolor": "#ca6f4c",
          "layer": "below",
          "line": {
           "color": "rgb(175,175,175)",
           "width": 0.5
          },
          "path": "M -0.962373735869419,0.27172926325432417 Q -0.1973089630120343, 0.0326982127205095 -0.9985816407144287, 0.05324196491565296L -0.9985816407144287, 0.05324196491565296 L -0.9985665235962747, 0.053524741501949503 L -0.9985513264019478, 0.053807513796036814 M -0.9985513264019478,0.053807513796036814 Q -0.1973069962849285, 0.03271007821787059 -0.9624948549717475, 0.2712999339345937L -0.9624948549717475, 0.2712999339345937 L -0.9624343193603554, 0.27151460534816424 L -0.962373735869419, 0.27172926325432417 ",
          "type": "path"
         },
         {
          "fillcolor": "#ca6f4c",
          "layer": "below",
          "line": {
           "color": "rgb(175,175,175)",
           "width": 0.5
          },
          "path": "M -0.9666512810274176,0.2560962726945719 Q -0.19981835389984037, -0.008522056369101989 -0.941336260178484, -0.3374700657438899L -0.941336260178484, -0.3374700657438899 L -0.9423576639885926, -0.3346072819320628 L -0.9433703615476393, -0.3317414067515182 M -0.9433703615476393,-0.3317414067515182 Q -0.19982393837672982, -0.008390092467481385 -0.967858906120965, 0.2514938127317033L -0.967858906120965, 0.2514938127317033 L -0.9672578310381598, 0.25379576098775736 L -0.9666512810274176, 0.2560962726945719 ",
          "type": "path"
         },
         {
          "fillcolor": "#ca6f4c",
          "layer": "below",
          "line": {
           "color": "rgb(175,175,175)",
           "width": 0.5
          },
          "path": "M -0.9640124441974015,0.26585711845378873 Q -0.19859851416630667, -0.023635358489671666 -0.8746901601587004, -0.4846824978494138L -0.8746901601587004, -0.4846824978494138 L -0.8757247404332967, -0.482810707206287 L -0.8767553151809753, -0.4809367082079602 M -0.8767553151809753,-0.4809367082079602 Q -0.19861387574633632, -0.023505921828740894 -0.9647988159146915, 0.26298905834579744L -0.9647988159146915, 0.26298905834579744 L -0.964406696226232, 0.26442338072493554 L -0.9640124441974015, 0.26585711845378873 ",
          "type": "path"
         },
         {
          "fillcolor": "#ca6f4c",
          "layer": "below",
          "line": {
           "color": "rgb(175,175,175)",
           "width": 0.5
          },
          "path": "M -0.9647988159146915,0.26298905834579744 Q -0.18894876471015615, -0.06556191207176663 -0.5945526268201083, -0.8040566982130731L -0.5945526268201083, -0.8040566982130731 L -0.5964725404940205, -0.8026334832516079 L -0.5983890473497976, -0.801205683961242 M -0.5983890473497976,-0.801205683961242 Q -0.18899816077165155, -0.0654193795822993 -0.9656539691256341, 0.2598315067729644L -0.9656539691256341, 0.2598315067729644 L -0.9652276836842544, 0.2614106322427015 L -0.9647988159146915, 0.26298905834579744 ",
          "type": "path"
         },
         {
          "fillcolor": "#ca6f4c",
          "layer": "below",
          "line": {
           "color": "rgb(175,175,175)",
           "width": 0.5
          },
          "path": "M -0.9656539691256341,0.2598315067729644 Q -0.16355275140218328, -0.11511080535195486 -0.0812958458836965, -0.9966900147197494L -0.0812958458836965, -0.9966900147197494 L -0.08324131225049747, -0.9965294195029142 L -0.0851864614154403, -0.9963650268809698 M -0.0851864614154403,-0.9963650268809698 Q -0.1635549431647281, -0.11510769116954161 -0.9666512810274176, 0.2560962726945719L -0.9666512810274176, 0.2560962726945719 L -0.9661544301692493, 0.2579643716956533 L -0.9656539691256341, 0.2598315067729644 ",
          "type": "path"
         },
         {
          "fillcolor": "#ca6f4c",
          "layer": "below",
          "line": {
           "color": "rgb(175,175,175)",
           "width": 0.5
          },
          "path": "M -0.9731929206971258,0.22999030219771827 Q -0.150195744880806, -0.13206528014470661 0.10359183530442247, -0.9946198930537542L 0.10359183530442247, -0.9946198930537542 L 0.0941728449513457, -0.9955558624576372 L 0.08474541733120732, -0.9964026366089963 M 0.08474541733120732,-0.9964026366089963 Q -0.15060067471079158, -0.13160333117613074 -0.9760543447491734, 0.21752681695887915L -0.9760543447491734, 0.21752681695887915 L -0.9746435553978405, 0.22376313351724533 L -0.9731929206971258, 0.22999030219771827 ",
          "type": "path"
         },
         {
          "fillcolor": "#ca6f4c",
          "layer": "below",
          "line": {
           "color": "rgb(175,175,175)",
           "width": 0.5
          },
          "path": "M -0.9622524252609709,0.272158538501697 Q -0.10946254040140442, -0.16738563931493916 0.6350953599648899, -0.7724337406865828L 0.6350953599648899, -0.7724337406865828 L 0.6348473567381041, -0.7726375823389918 L 0.6345992880858424, -0.7728413443656738 M 0.6345992880858424,-0.7728413443656738 Q -0.10947894057413235, -0.16737491320614806 -0.962373735869419, 0.27172926325432417L -0.962373735869419, 0.27172926325432417 L -0.9623131045019521, 0.2719439076423945 L -0.9622524252609709, 0.272158538501697 ",
          "type": "path"
         },
         {
          "fillcolor": "#ca6f4c",
          "layer": "below",
          "line": {
           "color": "rgb(175,175,175)",
           "width": 0.5
          },
          "path": "M -0.9624948549717475,0.2712999339345937 Q -0.06966203853019319, -0.18747586614766681 0.9061133143495201, -0.4230350594909691L 0.9061133143495201, -0.4230350594909691 L 0.9058323072812045, -0.4236364373913198 L 0.9055509010847388, -0.42423762862883535 M 0.9055509010847388,-0.42423762862883535 Q -0.06968891392682312, -0.18746587763030328 -0.9627767213291768, 0.2702979557204246L -0.9627767213291768, 0.2702979557204246 L -0.9626359185165213, 0.27079898150076803 L -0.9624948549717475, 0.2712999339345937 ",
          "type": "path"
         },
         {
          "fillcolor": "#ca6f4c",
          "layer": "below",
          "line": {
           "color": "rgb(175,175,175)",
           "width": 0.5
          },
          "path": "M -0.9620498154099852,0.27287387685451564 Q -0.05362954818368021, -0.19267556036408542 0.9646825709137121, -0.2634151426461864L 0.9646825709137121, -0.2634151426461864 L 0.9646583645161383, -0.26350377562579486 L 0.9646341499751554, -0.2635924063809682 M 0.9646341499751554,-0.2635924063809682 Q -0.053632926010957316, -0.19267462014365874 -0.9620903799263606, 0.2727308212379948L -0.9620903799263606, 0.2727308212379948 L -0.962070100327141, 0.272802349800226 L -0.9620498154099852, 0.27287387685451564 ",
          "type": "path"
         },
         {
          "fillcolor": "#ca6f4c",
          "layer": "below",
          "line": {
           "color": "rgb(175,175,175)",
           "width": 0.5
          },
          "path": "M -0.9620903799263606,0.2727308212379948 Q -0.038517210611121844, -0.19625601770834566 0.9938055033188519, -0.11113335040915277L 0.9938055033188519, -0.11113335040915277 L 0.9937870563916839, -0.11129818753399441 L 0.9937685821238768, -0.11146302159684851 M 0.9937685821238768,-0.11146302159684851 Q -0.03852058041636152, -0.19625535632024577 -0.9621714451416361, 0.2724446919175623L -0.9621714451416361, 0.2724446919175623 L -0.962130923170543, 0.27258775959128934 L -0.9620903799263606, 0.2727308212379948 ",
          "type": "path"
         },
         {
          "fillcolor": "#c45e3a",
          "layer": "below",
          "line": {
           "color": "rgb(175,175,175)",
           "width": 0.5
          },
          "path": "M -0.9825696038857806,0.18589506050387694 Q -0.19989212407606882, 0.006568008248891245 -0.9926532808247516, -0.12099365300649864L -0.9926532808247516, -0.12099365300649864 L -0.9927461833945372, -0.12022901212095093 L -0.9928384969614887, -0.11946429990274024 M -0.9928384969614887,-0.11946429990274024 Q -0.19989169496953968, 0.006581054794219035 -0.9828307376277375, 0.18450946093389697L -0.9828307376277375, 0.18450946093389697 L -0.982700414967301, 0.18520230674344845 L -0.9825696038857806, 0.18589506050387694 ",
          "type": "path"
         },
         {
          "fillcolor": "#c45e3a",
          "layer": "below",
          "line": {
           "color": "rgb(175,175,175)",
           "width": 0.5
          },
          "path": "M -0.9848799711553349,0.17323810902069633 Q -0.19921772422770165, -0.017671965186006378 -0.9390063183836855, -0.34389988955438267L -0.9390063183836855, -0.34389988955438267 L -0.9401767859541181, -0.3406869694499401 L -0.941336260178484, -0.3374700657438899 M -0.941336260178484,-0.3374700657438899 Q -0.19922208313834577, -0.01762275773022068 -0.985959328453375, 0.16698563601630495L -0.985959328453375, 0.16698563601630495 L -0.985424608772891, 0.17011272857959484 L -0.9848799711553349, 0.17323810902069633 ",
          "type": "path"
         },
         {
          "fillcolor": "#c45e3a",
          "layer": "below",
          "line": {
           "color": "rgb(175,175,175)",
           "width": 0.5
          },
          "path": "M -0.9838557280304613,0.17896342202151522 Q -0.19712109785876344, -0.03381231697112473 -0.8679743109189726, -0.4966090973640481L -0.8679743109189726, -0.4966090973640481 L -0.8697213493061272, -0.49354308278115855 L -0.8714575574111668, -0.49047092230932804 M -0.8714575574111668,-0.49047092230932804 Q -0.19714204772786112, -0.0336899542544322 -0.9848799711553349, 0.17323810902069633L -0.9848799711553349, 0.17323810902069633 L -0.984372012053566, 0.17610151017414413 L -0.9838557280304613, 0.17896342202151522 ",
          "type": "path"
         },
         {
          "fillcolor": "#c45e3a",
          "layer": "below",
          "line": {
           "color": "rgb(175,175,175)",
           "width": 0.5
          },
          "path": "M -0.9900537436823453,0.1406896748897118 Q -0.1832209113958775, -0.08018788952992843 -0.5683953062980874, -0.8227555990561859L -0.5683953062980874, -0.8227555990561859 L -0.5720541282080629, -0.8202158706097518 L -0.5757016021668299, -0.8176598713784021 M -0.5757016021668299,-0.8176598713784021 Q -0.1832882683031775, -0.08003380974577197 -0.9910445385538499, 0.1335317288234778L -0.9910445385538499, 0.1335317288234778 L -0.9905556067267363, 0.1371115968188958 L -0.9900537436823453, 0.1406896748897118 ",
          "type": "path"
         },
         {
          "fillcolor": "#c45e3a",
          "layer": "below",
          "line": {
           "color": "rgb(175,175,175)",
           "width": 0.5
          },
          "path": "M -0.9824383044481921,0.18658772187087042 Q -0.1601347419787356, -0.11982013358114646 -0.09819528080798498, -0.9951671652677458L -0.09819528080798498, -0.9951671652677458 L -0.0984941455701531, -0.9951376303247734 L -0.09879300144889204, -0.9951080056278913 M -0.09879300144889204,-0.9951080056278913 Q -0.16012848985826442, -0.11982848883179541 -0.9825696038857806, 0.18589506050387694L -0.9825696038857806, 0.18589506050387694 L -0.982504015207422, 0.18624140275807055 L -0.9824383044481921, 0.18658772187087042 ",
          "type": "path"
         },
         {
          "fillcolor": "#c45e3a",
          "layer": "below",
          "line": {
           "color": "rgb(175,175,175)",
           "width": 0.5
          },
          "path": "M -0.9890372916552477,0.14766595990698933 Q -0.1505156256781012, -0.1317005938738688 0.015066691567568161, -0.9998864909604529L 0.015066691567568161, -0.9998864909604529 L 0.010664540753897368, -0.9999431321682791 L 0.006262183238604512, -0.9999803923383128 M 0.006262183238604512,-0.9999803923383128 Q -0.15063114009627349, -0.13156845987278573 -0.9900537436823453, 0.1406896748897118L -0.9900537436823453, 0.1406896748897118 L -0.9895516654912805, 0.14417871314251962 L -0.9890372916552477, 0.14766595990698933 ",
          "type": "path"
         },
         {
          "fillcolor": "#c45e3a",
          "layer": "below",
          "line": {
           "color": "rgb(175,175,175)",
           "width": 0.5
          },
          "path": "M -0.9880261298785242,0.1542866380386374 Q -0.0969640961912676, -0.17492273737227704 0.654397790372611, -0.756150469123338L 0.654397790372611, -0.756150469123338 L 0.6513176418360909, -0.7588051986070428 L 0.6482267238251255, -0.7614473813199074 M 0.6482267238251255,-0.7614473813199074 Q -0.09708959317771511, -0.17485311234457845 -0.9890372916552477, 0.14766595990698933L -0.9890372916552477, 0.14766595990698933 L -0.9885372534894358, 0.1509771455007777 L -0.9880261298785242, 0.1542866380386374 ",
          "type": "path"
         },
         {
          "fillcolor": "#c45e3a",
          "layer": "below",
          "line": {
           "color": "rgb(175,175,175)",
           "width": 0.5
          },
          "path": "M -0.9824054032908015,0.18676087273579975 Q -0.06212238349216183, -0.19010736300641484 0.9031224935436507, -0.42938300112545047L 0.9031224935436507, -0.42938300112545047 L 0.9030817721719522, -0.4294686400318029 L 0.903041042679514, -0.4295542750762658 M 0.903041042679514,-0.4295542750762658 Q -0.062123657778528255, -0.19010694659642585 -0.9824383044481921, 0.18658772187087042L -0.9824383044481921, 0.18658772187087042 L -0.9824218576842051, 0.1866742980281848 L -0.9824054032908015, 0.18676087273579975 ",
          "type": "path"
         },
         {
          "fillcolor": "#c45e3a",
          "layer": "below",
          "line": {
           "color": "rgb(175,175,175)",
           "width": 0.5
          },
          "path": "M -0.986998992575972,0.1607264404322335 Q -0.03961328716940274, -0.1960377195328349 0.9719660874461795, -0.2351210855167305L 0.9719660874461795, -0.2351210855167305 L 0.9711611728674641, -0.23842394241076448 L 0.9703450348207555, -0.24172404389862984 M 0.9703450348207555,-0.24172404389862984 Q -0.03964051984155371, -0.19603221466557835 -0.9880261298785242, 0.1542866380386374L -0.9880261298785242, 0.1542866380386374 L -0.9875178106471381, 0.15750737650879487 L -0.986998992575972, 0.1607264404322335 ",
          "type": "path"
         },
         {
          "fillcolor": "#c45e3a",
          "layer": "below",
          "line": {
           "color": "rgb(175,175,175)",
           "width": 0.5
          },
          "path": "M -0.9833791584859987,0.18156384732476125 Q -0.02835271588083185, -0.1979801088548565 0.9948117679350753, -0.10173272029140767L 0.9948117679350753, -0.10173272029140767 L 0.9946844431390806, -0.10297018295165457 L 0.9945555790436059, -0.10420748626292474 M 0.9945555790436059,-0.10420748626292474 Q -0.028337298761585934, -0.19798231612671024 -0.9838557280304613, 0.17896342202151522L -0.9838557280304613, 0.17896342202151522 L -0.9836183026127547, 0.18026379216360486 L -0.9833791584859987, 0.18156384732476125 ",
          "type": "path"
         },
         {
          "fillcolor": "#bf4d28",
          "layer": "below",
          "line": {
           "color": "rgb(175,175,175)",
           "width": 0.5
          },
          "path": "M -0.9995099011562011,-0.03130427272308363 Q -0.19808220963539894, -0.02763038591764271 -0.969923249674035, -0.2434109482783376L -0.969923249674035, -0.2434109482783376 L -0.9731826067243096, -0.23003394090715798 L -0.9762574797524851, -0.21661332652292226 M -0.9762574797524851,-0.21661332652292226 Q -0.1980896682466555, -0.02757686229305229 -0.9983006915144129, -0.058272886678496276L -0.9983006915144129, -0.058272886678496276 L -0.9989963050889611, -0.04479266032067622 L -0.9995099011562011, -0.03130427272308363 ",
          "type": "path"
         },
         {
          "fillcolor": "#bf4d28",
          "layer": "below",
          "line": {
           "color": "rgb(175,175,175)",
           "width": 0.5
          },
          "path": "M -0.998621561536795,0.05248787320718009 Q -0.19832724138525762, -0.02581289066559106 -0.951916899030827, -0.3063563567800321L -0.951916899030827, -0.3063563567800321 L -0.9520622889245394, -0.305904230124016 L -0.952207464074191, -0.3054520344692408 M -0.952207464074191,-0.3054520344692408 Q -0.19832731781239366, -0.025812303448971913 -0.998670661756284, 0.05154521653136921L -0.998670661756284, 0.05154521653136921 L -0.9986462228723217, 0.05201655066269919 L -0.998621561536795, 0.05248787320718009 ",
          "type": "path"
         },
         {
          "fillcolor": "#bf4d28",
          "layer": "below",
          "line": {
           "color": "rgb(175,175,175)",
           "width": 0.5
          },
          "path": "M -0.998794157825073,0.04909409633044709 Q -0.19512352601526603, -0.04389543934590253 -0.8815452219540861, -0.4720995886991652L -0.8815452219540861, -0.4720995886991652 L -0.8819991654112598, -0.47125096521263615 L -0.8824522919374473, -0.4704019052409824 M -0.8824522919374473,-0.4704019052409824 Q -0.19512847905398328, -0.043873416348390454 -0.9988761309936413, 0.04739699284948434L -0.9988761309936413, 0.04739699284948434 L -0.9988355048491806, 0.048245561999861526 L -0.998794157825073, 0.04909409633044709 ",
          "type": "path"
         },
         {
          "fillcolor": "#bf4d28",
          "layer": "below",
          "line": {
           "color": "rgb(175,175,175)",
           "width": 0.5
          },
          "path": "M -0.9997798316047746,0.020983048308782313 Q -0.17847867365319803, -0.09025166508710653 -0.5757016021668299, -0.8176598713784021L -0.5757016021668299, -0.8176598713784021 L -0.5790719919288794, -0.8152764121226125 L -0.5824325140695632, -0.8128790602264325 M -0.5824325140695632,-0.8128790602264325 Q -0.17852747855689316, -0.09015508527042752 -0.9999046339986709, 0.01381024648527393L -0.9999046339986709, 0.01381024648527393 L -0.9998486649315655, 0.01739675931217955 L -0.9997798316047746, 0.020983048308782313 ",
          "type": "path"
         },
         {
          "fillcolor": "#bf4d28",
          "layer": "below",
          "line": {
           "color": "rgb(175,175,175)",
           "width": 0.5
          },
          "path": "M -0.9985206917896563,0.05437304541688076 Q -0.15183898767677764, -0.1301726615741238 -0.09879300144889204, -0.9951080056278913L -0.09879300144889204, -0.9951080056278913 L -0.09901713751198142, -0.9950857282058332 L -0.0992412685516079, -0.995063400299834 M -0.0992412685516079,-0.995063400299834 Q -0.15183144522697425, -0.13018145889598995 -0.9985513264019478, 0.053807513796036814L -0.9985513264019478, 0.053807513796036814 L -0.9985360491326667, 0.054090281775239064 L -0.9985206917896563, 0.05437304541688076 ",
          "type": "path"
         },
         {
          "fillcolor": "#bf4d28",
          "layer": "below",
          "line": {
           "color": "rgb(175,175,175)",
           "width": 0.5
          },
          "path": "M -0.9996141351317183,0.027777344093107184 Q -0.14293474263189113, -0.13989159856387032 0.006262183238604512, -0.9999803923383128L 0.006262183238604512, -0.9999803923383128 L 0.002299955267753802, -0.9999973550993854 L -0.0016623088113316697, -0.9999986183637535 M -0.0016623088113316697,-0.9999986183637535 Q -0.14301363306631368, -0.13981094648550874 -0.9997798316047746, 0.020983048308782313L -0.9997798316047746, 0.020983048308782313 L -0.9997027554075127, 0.024380336967049013 L -0.9996141351317183, 0.027777344093107184 ",
          "type": "path"
         },
         {
          "fillcolor": "#bf4d28",
          "layer": "below",
          "line": {
           "color": "rgb(175,175,175)",
           "width": 0.5
          },
          "path": "M -0.9983006915144129,-0.058272886678496276 Q -0.05921285328439793, -0.19103360438917644 0.7903323846047594, -0.612678318406123L 0.7903323846047594, -0.612678318406123 L 0.779995121231286, -0.6257855949567643 L 0.7694405046414794, -0.6387184902733485 M 0.7694405046414794,-0.6387184902733485 Q -0.0595886768537473, -0.19091670851661904 -0.9961518534705858, -0.08764408038833292L -0.9961518534705858, -0.08764408038833292 L -0.9973343999402958, -0.07296639429031797 L -0.9983006915144129, -0.058272886678496276 ",
          "type": "path"
         },
         {
          "fillcolor": "#bf4d28",
          "layer": "below",
          "line": {
           "color": "rgb(175,175,175)",
           "width": 0.5
          },
          "path": "M -0.998728407442939,0.050413967970105424 Q -0.048371084941838595, -0.19406245938240976 0.9055509010847388, -0.42423762862883535L 0.9055509010847388, -0.42423762862883535 L 0.9052690958841169, -0.42483863293861784 L 0.9049868918035081, -0.42543945005585176 M 0.9049868918035081,-0.42543945005585176 Q -0.04837167454248384, -0.19406231242040795 -0.998794157825073, 0.04909409633044709L -0.998794157825073, 0.04909409633044709 L -0.9987615006617001, 0.04975404301148713 L -0.998728407442939, 0.050413967970105424 ",
          "type": "path"
         },
         {
          "fillcolor": "#bf4d28",
          "layer": "below",
          "line": {
           "color": "rgb(175,175,175)",
           "width": 0.5
          },
          "path": "M -0.9999203753817549,-0.012619148006516904 Q -0.014979373654743527, -0.19943825702435222 0.9868172268380907, -0.1618386876354982L 0.9868172268380907, -0.1618386876354982 L 0.9853043354947374, -0.1708079812399703 L 0.9837099229595972, -0.17976314269288704 M 0.9837099229595972,-0.17976314269288704 Q -0.01492972718562681, -0.19944197964862553 -0.9995099011562011, -0.03130427272308363L -0.9995099011562011, -0.03130427272308363 L -0.9997587914870167, -0.021962669337305892 L -0.9999203753817549, -0.012619148006516904 ",
          "type": "path"
         },
         {
          "fillcolor": "#bf4d28",
          "layer": "below",
          "line": {
           "color": "rgb(175,175,175)",
           "width": 0.5
          },
          "path": "M -0.9999046339986709,0.01381024648527393 Q -0.008070004554278433, -0.19983712124251074 0.9977622757473886, -0.0668613572655542L 0.9977622757473886, -0.0668613572655542 L 0.9974528403387082, -0.07132903546413273 L 0.9971234001168459, -0.07579528309479748 M 0.9971234001168459,-0.07579528309479748 Q -0.007946331462914553, -0.19984207719167027 -0.9999934615849706, 0.0036161840810436286L -0.9999934615849706, 0.0036161840810436286 L -0.9999620382328742, 0.008713328477436022 L -0.9999046339986709, 0.01381024648527393 ",
          "type": "path"
         },
         {
          "fillcolor": "#af4624",
          "layer": "below",
          "line": {
           "color": "rgb(175,175,175)",
           "width": 0.5
          },
          "path": "M -0.9921076634963377,-0.12538893105787904 Q -0.19501375252805478, -0.04438058499982406 -0.948664058010478, -0.3162854802849672L -0.948664058010478, -0.3162854802849672 L -0.9491137335840367, -0.31493351794016794 L -0.9495614824469374, -0.31358091627708246 M -0.9495614824469374,-0.31358091627708246 Q -0.19501288882082046, -0.04438438006504459 -0.9917413405755692, -0.12825409698474724L -0.9917413405755692, -0.12825409698474724 L -0.991925536536499, -0.12682164628634457 L -0.9921076634963377, -0.12538893105787904 ",
          "type": "path"
         },
         {
          "fillcolor": "#af4624",
          "layer": "below",
          "line": {
           "color": "rgb(175,175,175)",
           "width": 0.5
          },
          "path": "M -0.9917413405755692,-0.12825409698474724 Q -0.19026139940107897, -0.061649005652509185 -0.8784980862344146, -0.4777458660024921L -0.8784980862344146, -0.4777458660024921 L -0.8793141969807111, -0.4762421054339559 L -0.8801277336818955, -0.4747369507463797 M -0.8801277336818955,-0.4747369507463797 Q -0.19027190268850747, -0.061616580944540825 -0.9913414759056548, -0.13130909393182977L -0.9913414759056548, -0.13130909393182977 L -0.9915425848179001, -0.129781749458995 L -0.9917413405755692, -0.12825409698474724 ",
          "type": "path"
         },
         {
          "fillcolor": "#af4624",
          "layer": "below",
          "line": {
           "color": "rgb(175,175,175)",
           "width": 0.5
          },
          "path": "M -0.987380761541791,-0.15836423755745135 Q -0.17007949239632209, -0.10522816289477557 -0.5824325140695632, -0.8128790602264325L -0.5824325140695632, -0.8128790602264325 L -0.5856070124598303, -0.810595106670323 L -0.5887725546444516, -0.8082987559667814 M -0.5887725546444516,-0.8082987559667814 Q -0.17012625520324848, -0.10515254295792936 -0.986259204326567, -0.16520527195318827L -0.986259204326567, -0.16520527195318827 L -0.9868259110178017, -0.16178572663830906 L -0.987380761541791, -0.15836423755745135 ",
          "type": "path"
         },
         {
          "fillcolor": "#af4624",
          "layer": "below",
          "line": {
           "color": "rgb(175,175,175)",
           "width": 0.5
          },
          "path": "M -0.9929073455706315,-0.11889071919995478 Q -0.14001668337862025, -0.14281221367814173 -0.0992412685516079, -0.995063400299834L -0.0992412685516079, -0.995063400299834 L -0.09946539455640147, -0.9950410219110263 L -0.09968951551499236, -0.9950185930405452 M -0.09968951551499236,-0.9950185930405452 Q -0.1400075990179766, -0.14282111964699576 -0.9928384969614887, -0.11946429990274024L -0.9928384969614887, -0.11946429990274024 L -0.9928729626856125, -0.11917751452306018 L -0.9929073455706315, -0.11889071919995478 ",
          "type": "path"
         },
         {
          "fillcolor": "#af4624",
          "layer": "below",
          "line": {
           "color": "rgb(175,175,175)",
           "width": 0.5
          },
          "path": "M -0.9884256724881952,-0.15170593253481848 Q -0.13037924265559458, -0.15166164012219302 -0.0016623088113316697, -0.9999986183637535L -0.0016623088113316697, -0.9999986183637535 L -0.005514485531378129, -0.9999847951090678 L -0.009366580419456956, -0.9999561326234495 M -0.009366580419456956,-0.9999561326234495 Q -0.1304523737441213, -0.15159874070889937 -0.987380761541791, -0.15836423755745135L -0.987380761541791, -0.15836423755745135 L -0.9879088264840112, -0.15503596535960218 L -0.9884256724881952, -0.15170593253481848 ",
          "type": "path"
         },
         {
          "fillcolor": "#af4624",
          "layer": "below",
          "line": {
           "color": "rgb(175,175,175)",
           "width": 0.5
          },
          "path": "M -0.969923249674035,-0.2434109482783376 Q -0.03062026996013857, -0.19764209841925945 0.8507988214820508, -0.5254915464255857L 0.8507988214820508, -0.5254915464255857 L 0.8410991419349186, -0.5408809789929236 L 0.8311211271903044, -0.5560914240823337 M 0.8311211271903044,-0.5560914240823337 Q -0.030980580574612872, -0.1975859398521563 -0.9614366510808451, -0.27502648228570514L -0.9614366510808451, -0.27502648228570514 L -0.9658093248973204, -0.2592534434513499 L -0.969923249674035, -0.2434109482783376 ",
          "type": "path"
         },
         {
          "fillcolor": "#af4624",
          "layer": "below",
          "line": {
           "color": "rgb(175,175,175)",
           "width": 0.5
          },
          "path": "M -0.9926532808247516,-0.12099365300649864 Q -0.031232134763471982, -0.197546333193295 0.9069139913061246, -0.4213158107325127L 0.9069139913061246, -0.4213158107325127 L 0.9065140604079537, -0.4221756249272155 L 0.9061133143495201, -0.4230350594909691 M 0.9061133143495201,-0.4230350594909691 Q -0.03122925945340709, -0.19754678775923384 -0.9924184478754702, -0.12290494016288625L -0.9924184478754702, -0.12290494016288625 L -0.9925363244112884, -0.12194935311074757 L -0.9926532808247516, -0.12099365300649864 ",
          "type": "path"
         },
         {
          "fillcolor": "#af4624",
          "layer": "below",
          "line": {
           "color": "rgb(175,175,175)",
           "width": 0.5
          },
          "path": "M -0.9829661092856057,-0.1837869092071542 Q 0.0004091937895784179, -0.19999958140066837 0.9837099229595972, -0.17976314269288704L 0.9837099229595972, -0.17976314269288704 L 0.9823448599749368, -0.18707906371591076 L 0.9809253887422138, -0.19438462315969526 M 0.9809253887422138,-0.19438462315969526 Q 0.000480538011089691, -0.1999994227072166 -0.9799799738298263, -0.19909608457348688L -0.9799799738298263, -0.19909608457348688 L -0.9815028904782468, -0.19144731907981025 L -0.9829661092856057, -0.1837869092071542 ",
          "type": "path"
         },
         {
          "fillcolor": "#af4624",
          "layer": "below",
          "line": {
           "color": "rgb(175,175,175)",
           "width": 0.5
          },
          "path": "M -0.9849241495384008,-0.17298676150520265 Q 0.01163387304700926, -0.19966134577811018 0.9983498060314877, -0.057425297534195494L 0.9983498060314877, -0.057425297534195494 L 0.9980671924082632, -0.06214402174213316 L 0.9977622757473886, -0.0668613572655542 M 0.9977622757473886,-0.0668613572655542 Q 0.011785801304456391, -0.1996524352158317 -0.9829661092856057, -0.1837869092071542L -0.9829661092856057, -0.1837869092071542 L -0.9839599476051857, -0.17838952185820858 L -0.9849241495384008, -0.17298676150520265 ",
          "type": "path"
         },
         {
          "fillcolor": "#9f4021",
          "layer": "below",
          "line": {
           "color": "rgb(175,175,175)",
           "width": 0.5
          },
          "path": "M -0.9245432990333278,-0.38107701086863094 Q -0.17548355967175766, -0.09594540262528824 -0.8198048423317461, -0.5726430131324584L -0.8198048423317461, -0.5726430131324584 L -0.8255194243490105, -0.5643737059984973 L -0.8311505976270466, -0.5560473757371788 M -0.8311505976270466,-0.5560473757371788 Q -0.17559121040163878, -0.0957482471363702 -0.9175912482237744, -0.3975252208138947L -0.9175912482237744, -0.3975252208138947 L -0.9211039889459458, -0.3893166340498014 L -0.9245432990333278, -0.38107701086863094 ",
          "type": "path"
         },
         {
          "fillcolor": "#9f4021",
          "layer": "below",
          "line": {
           "color": "rgb(175,175,175)",
           "width": 0.5
          },
          "path": "M -0.9347558298698355,-0.3552907802411359 Q -0.15497394348647234, -0.12642419404628089 -0.5357930643245558, -0.8443493306811479L -0.5357930643245558, -0.8443493306811479 L -0.5423806732008598, -0.8401328498149457 L -0.5489351017758968, -0.8358649735682706 M -0.5489351017758968,-0.8358649735682706 Q -0.15509808282190216, -0.12627186822475697 -0.9298089004186108, -0.36804267239320754L -0.9298089004186108, -0.36804267239320754 L -0.9323041676659346, -0.3616751843197553 L -0.9347558298698355, -0.3552907802411359 ",
          "type": "path"
         },
         {
          "fillcolor": "#9f4021",
          "layer": "below",
          "line": {
           "color": "rgb(175,175,175)",
           "width": 0.5
          },
          "path": "M -0.948664058010478,-0.3162854802849672 Q -0.12440744294777639, -0.1565975355463673 -0.0935617611350207, -0.995613477637438L -0.0935617611350207, -0.995613477637438 L -0.09475770626562481, -0.9955003651949493 L -0.09595351465335498, -0.99538581616661 M -0.09595351465335498,-0.99538581616661 Q -0.12435756225473862, -0.15663714984019217 -0.9476983148336522, -0.31916751724048587L -0.9476983148336522, -0.31916751724048587 L -0.9481822814306373, -0.317726865689686 L -0.948664058010478, -0.3162854802849672 ",
          "type": "path"
         },
         {
          "fillcolor": "#9f4021",
          "layer": "below",
          "line": {
           "color": "rgb(175,175,175)",
           "width": 0.5
          },
          "path": "M -0.9082914114143928,-0.4183380355057979 Q -0.09638375974471504, -0.17524317635067294 0.13309886845824886, -0.9911027652141496L 0.13309886845824886, -0.9911027652141496 L 0.11835841693338536, -0.9929709387192673 L 0.10359183530442247, -0.9946198930537542 M 0.10359183530442247,-0.9946198930537542 Q -0.09674025698142792, -0.17504663001374032 -0.8972651542752292, -0.4414920643946493L -0.8972651542752292, -0.4414920643946493 L -0.9028525102361249, -0.4299503980232231 L -0.9082914114143928, -0.4183380355057979 ",
          "type": "path"
         },
         {
          "fillcolor": "#9f4021",
          "layer": "below",
          "line": {
           "color": "rgb(175,175,175)",
           "width": 0.5
          },
          "path": "M -0.9453076527880039,-0.32618007538848043 Q -0.052698643812364734, -0.19293224961197522 0.6482267238251255, -0.7614473813199074L 0.6482267238251255, -0.7614473813199074 L 0.6456972445492817, -0.7635935230091105 L 0.6431606598985625, -0.765731261970442 M 0.6431606598985625,-0.765731261970442 Q -0.0527705466521971, -0.19291259524983922 -0.9433703615476393, -0.3317414067515182L -0.9433703615476393, -0.3317414067515182 L -0.944343101081561, -0.328962167185925 L -0.9453076527880039, -0.32618007538848043 ",
          "type": "path"
         },
         {
          "fillcolor": "#9f4021",
          "layer": "below",
          "line": {
           "color": "rgb(175,175,175)",
           "width": 0.5
          },
          "path": "M -0.951916899030827,-0.3063563567800321 Q -0.012932174385649765, -0.19958145922319326 0.9044212874998836, -0.42664052165383076L 0.9044212874998836, -0.42664052165383076 L 0.9041783976302493, -0.4271550365602573 L 0.9039352150590098, -0.42766941318759494 M 0.9039352150590098,-0.42766941318759494 Q -0.012931985014183234, -0.19958147149370592 -0.9515670873264884, -0.30744117862931636L -0.9515670873264884, -0.30744117862931636 L -0.951742147742389, -0.30689881754530224 L -0.951916899030827, -0.3063563567800321 ",
          "type": "path"
         },
         {
          "fillcolor": "#9f4021",
          "layer": "below",
          "line": {
           "color": "rgb(175,175,175)",
           "width": 0.5
          },
          "path": "M -0.9515670873264884,-0.30744117862931636 Q 0.005163288858036518, -0.19993334001153606 0.9661674550147287, -0.25791558477603127L 0.9661674550147287, -0.25791558477603127 L 0.9659300769226628, -0.2588031810008888 L 0.9656918834161712, -0.25969055875046393 M 0.9656918834161712,-0.25969055875046393 Q 0.00516949999595822, -0.19993317951203546 -0.9509813207503961, -0.30924832672761915L -0.9509813207503961, -0.30924832672761915 L -0.9512746331712173, -0.30834489177699353 L -0.9515670873264884, -0.30744117862931636 ",
          "type": "path"
         },
         {
          "fillcolor": "#9f4021",
          "layer": "below",
          "line": {
           "color": "rgb(175,175,175)",
           "width": 0.5
          },
          "path": "M -0.9466013885383825,-0.3224062828438773 Q 0.0229338981049072, -0.19868073967477004 0.995160086622564, -0.09826699340760803L 0.995160086622564, -0.09826699340760803 L 0.9949874362516348, -0.10000000850699502 L 0.9948117679350753, -0.10173272029140767 M 0.9948117679350753,-0.10173272029140767 Q 0.022984184263655255, -0.1986749286491236 -0.9453076527880039, -0.32618007538848043L -0.9453076527880039, -0.32618007538848043 L -0.9459564025581062, -0.32429382426948256 L -0.9466013885383825, -0.3224062828438773 ",
          "type": "path"
         },
         {
          "fillcolor": "#8f391e",
          "layer": "below",
          "line": {
           "color": "rgb(175,175,175)",
           "width": 0.5
          },
          "path": "M -0.7961240998370033,-0.6051333883192377 Q -0.11630764457836684, -0.16270381622024818 -0.31492113512288633, -0.9491178423425158L -0.31492113512288633, -0.9491178423425158 L -0.3507713505081831, -0.9364611362265203 L -0.3861145504066893, -0.9224508409472237 M -0.3861145504066893,-0.9224508409472237 Q -0.11640429907880286, -0.16263468005309512 -0.7486404842503991, -0.6629761876125929L -0.7486404842503991, -0.6629761876125929 L -0.7729235747602761, -0.63449913126796 L -0.7961240998370033, -0.6051333883192377 ",
          "type": "path"
         },
         {
          "fillcolor": "#8f391e",
          "layer": "below",
          "line": {
           "color": "rgb(175,175,175)",
           "width": 0.5
          },
          "path": "M -0.8679743109189726,-0.4966090973640481 Q -0.10598529889056676, -0.16960871563418323 -0.06587142044668813, -0.9978281194516095L -0.06587142044668813, -0.9978281194516095 L -0.06886780222941008, -0.9976257944821249 L -0.07186356287695185, -0.9974144716869865 M -0.07186356287695185,-0.9974144716869865 Q -0.10576910479600506, -0.16974361982310765 -0.8636942476672784, -0.5040161173479017L -0.8636942476672784, -0.5040161173479017 L -0.8658421999332825, -0.5003171842088714 L -0.8679743109189726, -0.4966090973640481 ",
          "type": "path"
         },
         {
          "fillcolor": "#8f391e",
          "layer": "below",
          "line": {
           "color": "rgb(175,175,175)",
           "width": 0.5
          },
          "path": "M -0.7486404842503991,-0.6629761876125929 Q -0.042248306188908014, -0.19548677864287467 0.4080518102331398, -0.9129587724346908L 0.4080518102331398, -0.9129587724346908 L 0.3713627666946782, -0.9284878542624422 L 0.3340842819503998, -0.9425432046085133 M 0.3340842819503998,-0.9425432046085133 Q -0.04246969921412307, -0.19543880026407734 -0.6951214334182848, -0.7188923374209166L -0.6951214334182848, -0.7188923374209166 L -0.7224221568307104, -0.6914522596102094 L -0.7486404842503991, -0.6629761876125929 ",
          "type": "path"
         },
         {
          "fillcolor": "#8f391e",
          "layer": "below",
          "line": {
           "color": "rgb(175,175,175)",
           "width": 0.5
          },
          "path": "M -0.8636942476672784,-0.5040161173479017 Q -0.030570710891786652, -0.1976497701379154 0.6710645040451019, -0.7413989691189902L 0.6710645040451019, -0.7413989691189902 L 0.6667691880868148, -0.7452642818611729 L 0.6624516084507809, -0.7491047099444598 M 0.6624516084507809,-0.7491047099444598 Q -0.030571503323353, -0.1976496475700127 -0.8578159578456352, -0.5139569850341322L -0.8578159578456352, -0.5139569850341322 L -0.8607694535320519, -0.5089950371723999 L -0.8636942476672784, -0.5040161173479017 ",
          "type": "path"
         },
         {
          "fillcolor": "#8f391e",
          "layer": "below",
          "line": {
           "color": "rgb(175,175,175)",
           "width": 0.5
          },
          "path": "M -0.8746901601587004,-0.4846824978494138 Q 0.008208137395166374, -0.19983149521660012 0.9114934993139896, -0.4113144790891004L 0.9114934993139896, -0.4113144790891004 L 0.9102804412194724, -0.4139921718260899 L 0.9090595168925241, -0.41666628702971725 M 0.9090595168925241,-0.41666628702971725 Q 0.008283134398036863, -0.19982840059547108 -0.8714575574111668, -0.49047092230932804L -0.8714575574111668, -0.49047092230932804 L -0.8730786558827598, -0.48757938906597925 L -0.8746901601587004, -0.4846824978494138 ",
          "type": "path"
         },
         {
          "fillcolor": "#8f391e",
          "layer": "below",
          "line": {
           "color": "rgb(175,175,175)",
           "width": 0.5
          },
          "path": "M -0.8829548072160557,-0.4694579943020014 Q 0.022202508688732345, -0.19876380105020827 0.9647793150658276, -0.2630605884983772L 0.9647793150658276, -0.2630605884983772 L 0.9647309592778143, -0.26323787001666044 L 0.9646825709137121, -0.2634151426461864 M 0.9646825709137121,-0.2634151426461864 Q 0.022208493476410122, -0.19876313244037047 -0.882753922230402, -0.4698356231564837L -0.882753922230402, -0.4698356231564837 L -0.8828543849139244, -0.46964681946996734 L -0.8829548072160557, -0.4694579943020014 ",
          "type": "path"
         },
         {
          "fillcolor": "#8f391e",
          "layer": "below",
          "line": {
           "color": "rgb(175,175,175)",
           "width": 0.5
          },
          "path": "M -0.882753922230402,-0.4698356231564837 Q 0.03763139165493501, -0.19642779427085388 0.9938973278273702, -0.11030911901385622L 0.9938973278273702, -0.11030911901385622 L 0.9938698522490872, -0.11055639642452905 L 0.9938423151492415, -0.11080366699164672 M 0.9938423151492415,-0.11080366699164672 Q 0.03764553495743553, -0.19642508418674154 -0.8824522919374473, -0.4704019052409824L -0.8824522919374473, -0.4704019052409824 L -0.882603152500062, -0.47011878838964966 L -0.882753922230402, -0.4698356231564837 ",
          "type": "path"
         },
         {
          "fillcolor": "#f0f3e7",
          "layer": "below",
          "line": {
           "color": "rgb(175,175,175)",
           "width": 0.5
          },
          "path": "M -0.5590639846831128,-0.8291245147927061 Q -0.06335074697412368, -0.1897015626130174 -0.05133103277909607, -0.9986816935709953L -0.05133103277909607, -0.9986816935709953 L -0.05552951222239893, -0.998457046283085 L -0.0597270100318626, -0.9982147485750017 M -0.0597270100318626,-0.9982147485750017 Q -0.06299420733646996, -0.18982025666943408 -0.5489351017758968, -0.8358649735682706L -0.5489351017758968, -0.8358649735682706 L -0.5540097944482804, -0.8325101486801072 L -0.5590639846831128, -0.8291245147927061 ",
          "type": "path"
         },
         {
          "fillcolor": "#f0f3e7",
          "layer": "below",
          "line": {
           "color": "rgb(175,175,175)",
           "width": 0.5
          },
          "path": "M -0.31492113512288633,-0.9491178423425158 Q 0.0194073710305762, -0.19905615777885788 0.49231999309583124, -0.870414283199742L 0.49231999309583124, -0.870414283199742 L 0.450688200920028, -0.8926814356485008 L 0.4080518102331398, -0.9129587724346908 M 0.4080518102331398,-0.9129587724346908 Q 0.01928514607225078, -0.19906803646234106 -0.2252187428288132, -0.9743082252955729L -0.2252187428288132, -0.9743082252955729 L -0.27036347901806124, -0.9627583233674224 L -0.31492113512288633, -0.9491178423425158 ",
          "type": "path"
         },
         {
          "fillcolor": "#f0f3e7",
          "layer": "below",
          "line": {
           "color": "rgb(175,175,175)",
           "width": 0.5
          },
          "path": "M -0.4825174738715058,-0.8758863438875278 Q 0.037225450484068466, -0.19650512928740096 0.7694405046414794, -0.6387184902733485L 0.7694405046414794, -0.6387184902733485 L 0.7599249031584557, -0.650010878031754 L 0.7502435888848206, -0.6611615213676794 M 0.7502435888848206,-0.6611615213676794 Q 0.03726947259369445, -0.1964967847385495 -0.4560434110328257, -0.8899575311516529L -0.4560434110328257, -0.8899575311516529 L -0.4693331793575391, -0.8830211587239255 L -0.4825174738715058, -0.8758863438875278 ",
          "type": "path"
         },
         {
          "fillcolor": "#f0f3e7",
          "layer": "below",
          "line": {
           "color": "rgb(175,175,175)",
           "width": 0.5
          },
          "path": "M -0.5357930643245558,-0.8443493306811479 Q 0.0613323521557001, -0.1903637112977397 0.9279276625700001, -0.3727603158027636L 0.9279276625700001, -0.3727603158027636 L 0.9252171457556263, -0.37943804922518276 L 0.922458574064731, -0.3860960750052546 M 0.922458574064731,-0.3860960750052546 Q 0.061532033111205586, -0.19029926143104578 -0.5217787436526574, -0.8530808535374912L -0.5217787436526574, -0.8530808535374912 L -0.5288039259781417, -0.848744017869996 L -0.5357930643245558, -0.8443493306811479 ",
          "type": "path"
         },
         {
          "fillcolor": "#f0f3e7",
          "layer": "below",
          "line": {
           "color": "rgb(175,175,175)",
           "width": 0.5
          },
          "path": "M -0.6016913210270433,-0.798728711266054 Q 0.06585905564061653, -0.18884539917648557 0.9678986904083265, -0.25134065549736745L 0.9678986904083265, -0.25134065549736745 L 0.9674584500679853, -0.25302993378660105 L 0.9670152614244331, -0.2547184409740202 M 0.9670152614244331,-0.2547184409740202 Q 0.06591916204342807, -0.1888244265858956 -0.5983890473497976, -0.801205683961242L -0.5983890473497976, -0.801205683961242 L -0.6000414623084868, -0.7999689015897385 L -0.6016913210270433, -0.798728711266054 ",
          "type": "path"
         },
         {
          "fillcolor": "#f0f3e7",
          "layer": "below",
          "line": {
           "color": "rgb(175,175,175)",
           "width": 0.5
          },
          "path": "M -0.5945526268201083,-0.8040566982130731 Q 0.08251784047907947, -0.18218344052813693 0.9965160763926822, -0.08340089622380448L 0.9965160763926822, -0.08340089622380448 L 0.9962840939065604, -0.08612783655000333 L 0.9960446492332307, -0.08885413177703412 M 0.9960446492332307,-0.08885413177703412 Q 0.08267231255421971, -0.18211339527046716 -0.5887725546444516, -0.8082987559667814L -0.5887725546444516, -0.8082987559667814 L -0.5916663925182246, -0.8061829072638976 L -0.5945526268201083, -0.8040566982130731 ",
          "type": "path"
         },
         {
          "fillcolor": "#e2ecde",
          "layer": "below",
          "line": {
           "color": "rgb(175,175,175)",
           "width": 0.5
          },
          "path": "M -0.05133103277909607,-0.9986816935709953 Q -0.00012863155672973402, -0.19999995863480227 0.050046370769212443, -0.9987468952506589L 0.050046370769212443, -0.9987468952506589 L 0.04279006097370917, -0.9990840858916061 L 0.035531493243848425, -0.9993685571338846 M 0.035531493243848425,-0.9993685571338846 Q -0.0005904039321223331, -0.1999991285560938 -0.04143115951989349, -0.9991413608798493L -0.04143115951989349, -0.9991413608798493 L -0.04638166559684363, -0.9989237914357945 L -0.05133103277909607, -0.9986816935709953 ",
          "type": "path"
         },
         {
          "fillcolor": "#e2ecde",
          "layer": "below",
          "line": {
           "color": "rgb(175,175,175)",
           "width": 0.5
          },
          "path": "M -0.09101993158288443,-0.995849070921215 Q 0.05920455399744234, -0.19103617664192282 0.6382310604253589, -0.7698448632733234L 0.6382310604253589, -0.7698448632733234 L 0.6366645260948083, -0.7711408958241505 L 0.6350953599648899, -0.7724337406865828 M 0.6350953599648899,-0.7724337406865828 Q 0.059088653839073746, -0.19107205705567237 -0.08817836213297102, -0.996104701550769L -0.08817836213297102, -0.996104701550769 L -0.08959923802367513, -0.9959778996270835 L -0.09101993158288443, -0.995849070921215 ",
          "type": "path"
         },
         {
          "fillcolor": "#e2ecde",
          "layer": "below",
          "line": {
           "color": "rgb(175,175,175)",
           "width": 0.5
          },
          "path": "M -0.09819528080798498,-0.9951671652677458 Q 0.09876752366306032, -0.17391082849974243 0.9049868918035081, -0.42543945005585176L 0.9049868918035081, -0.42543945005585176 L 0.904704288967257, -0.4260400797158057 L 0.9044212874998836, -0.42664052165383076 M 0.9044212874998836,-0.42664052165383076 Q 0.09874348278702619, -0.1739244796085021 -0.0971491845725668, -0.9952698307177231L -0.0971491845725668, -0.9952698307177231 L -0.09767224617951593, -0.9952186354395942 L -0.09819528080798498, -0.9951671652677458 ",
          "type": "path"
         },
         {
          "fillcolor": "#e2ecde",
          "layer": "below",
          "line": {
           "color": "rgb(175,175,175)",
           "width": 0.5
          },
          "path": "M -0.0971491845725668,-0.9952698307177231 Q 0.1138175419284046, -0.16445536521918605 0.9656918834161712, -0.25969055875046393L 0.9656918834161712, -0.25969055875046393 L 0.9655007416476923, -0.26040030314451684 L 0.9653090782459258, -0.2611099068515041 M 0.9653090782459258,-0.2611099068515041 Q 0.1137954395812892, -0.1644706597861794 -0.09595351465335498, -0.99538581616661L -0.09595351465335498, -0.99538581616661 L -0.09655136702937091, -0.9953280029843226 L -0.0971491845725668, -0.9952698307177231 ",
          "type": "path"
         },
         {
          "fillcolor": "#e2ecde",
          "layer": "below",
          "line": {
           "color": "rgb(175,175,175)",
           "width": 0.5
          },
          "path": "M -0.09998833559047718,-0.9949886093548238 Q 0.12567659262234868, -0.15558082808249935 0.9937685821238768, -0.11146302159684851L 0.9937685821238768, -0.11146302159684851 L 0.9937500805159389, -0.11162785259318025 L 0.9937315515683794, -0.11179268051845487 M 0.9937315515683794,-0.11179268051845487 Q 0.12567414908329264, -0.1555828019165047 -0.09968951551499236, -0.9950185930405452L -0.09968951551499236, -0.9950185930405452 L -0.09983892667832456, -0.9950036124154124 L -0.09998833559047718, -0.9949886093548238 ",
          "type": "path"
         },
         {
          "fillcolor": "#d4e5d6",
          "layer": "below",
          "line": {
           "color": "rgb(175,175,175)",
           "width": 0.5
          },
          "path": "M 0.1644428555555505,-0.9863866114545231 Q 0.10545555018880588, -0.16993859754151275 0.810844710475911, -0.5852613565692135L 0.810844710475911, -0.5852613565692135 L 0.8007059041257503, -0.5990576392119249 L 0.7903323846047594, -0.612678318406123 M 0.7903323846047594,-0.612678318406123 Q 0.1055385940850935, -0.169887036464063 0.1990743762280373, -0.979984383921202L 0.1990743762280373, -0.979984383921202 L 0.18178680254696097, -0.9833379675471461 L 0.1644428555555505, -0.9863866114545231 ",
          "type": "path"
         },
         {
          "fillcolor": "#d4e5d6",
          "layer": "below",
          "line": {
           "color": "rgb(175,175,175)",
           "width": 0.5
          },
          "path": "M 0.06630791889560952,-0.9977992082036011 Q 0.1187242029399493, -0.16094894729781162 0.9337481123559351, -0.3579308071006574L 0.9337481123559351, -0.3579308071006574 L 0.9308674187652108, -0.36535715222422227 L 0.9279276625700001, -0.3727603158027636 M 0.9279276625700001,-0.3727603158027636 Q 0.11893008496832008, -0.1607968746258091 0.08474541733120732, -0.9964026366089963L 0.08474541733120732, -0.9964026366089963 L 0.07552989606353054, -0.9971435377119146 L 0.06630791889560952, -0.9977992082036011 ",
          "type": "path"
         },
         {
          "fillcolor": "#d4e5d6",
          "layer": "below",
          "line": {
           "color": "rgb(175,175,175)",
           "width": 0.5
          },
          "path": "M -0.010026927172103565,-0.9999497291021611 Q 0.12064901842393323, -0.15951117313010216 0.9649241869570137, -0.2625286906708411L 0.9649241869570137, -0.2625286906708411 L 0.9648517876641102, -0.26279464956762505 L 0.9647793150658276, -0.2630605884983772 M 0.9647793150658276,-0.2630605884983772 Q 0.12065771987220064, -0.15950459126696498 -0.009366580419456956, -0.9999561326234495L -0.009366580419456956, -0.9999561326234495 L -0.009696754324373188, -0.9999529853725988 L -0.010026927172103565, -0.9999497291021611 ",
          "type": "path"
         },
         {
          "fillcolor": "#d4e5d6",
          "layer": "below",
          "line": {
           "color": "rgb(175,175,175)",
           "width": 0.5
          },
          "path": "M 0.015066691567568161,-0.9998864909604529 Q 0.13705740921813414, -0.14565461399630605 0.9971234001168459, -0.07579528309479748L 0.9971234001168459, -0.07579528309479748 L 0.99682699196604, -0.07959866888294427 L 0.9965160763926822, -0.08340089622380448 M 0.9965160763926822,-0.08340089622380448 Q 0.13723907590344853, -0.14548345625935444 0.025190389901515457, -0.9996826717797052L 0.025190389901515457, -0.9996826717797052 L 0.020128798713950097, -0.9997973952068155 L 0.015066691567568161, -0.9998864909604529 ",
          "type": "path"
         },
         {
          "fillcolor": "#c6decd",
          "layer": "below",
          "line": {
           "color": "rgb(175,175,175)",
           "width": 0.5
          },
          "path": "M 0.6805292196223499,-0.7327209436342019 Q 0.16400361783393105, -0.11446752088423116 0.922458574064731, -0.3860960750052546L 0.922458574064731, -0.3860960750052546 L 0.9199869336565162, -0.3919490297236119 L 0.9174781569773154, -0.3977861629940246 M 0.9174781569773154,-0.3977861629940246 Q 0.16409698193872782, -0.11433363686422662 0.6909654684712413, -0.7228877654105913L 0.6909654684712413, -0.7228877654105913 L 0.6857649690059479, -0.7278230604235286 L 0.6805292196223499, -0.7327209436342019 ",
          "type": "path"
         },
         {
          "fillcolor": "#c6decd",
          "layer": "below",
          "line": {
           "color": "rgb(175,175,175)",
           "width": 0.5
          },
          "path": "M 0.7184426257414908,-0.6955862229211215 Q 0.17953434226866258, -0.08813296741945503 0.9897297120805492, -0.14295137993371476L 0.9897297120805492, -0.14295137993371476 L 0.9883185888341961, -0.15240199134126572 L 0.9868172268380907, -0.1618386876354982 M 0.9868172268380907,-0.1618386876354982 Q 0.17967279249980833, -0.08785037071817524 0.7337455646085372, -0.6794243492967403L 0.7337455646085372, -0.6794243492967403 L 0.7261390614667307, -0.6875478626337337 L 0.7184426257414908, -0.6955862229211215 ",
          "type": "path"
         },
         {
          "fillcolor": "#c6decd",
          "layer": "below",
          "line": {
           "color": "rgb(175,175,175)",
           "width": 0.5
          },
          "path": "M 0.7033925315395111,-0.7108016225181524 Q 0.1833422281564582, -0.07991012060199401 0.9995065603657315, -0.031410759078131026L 0.9995065603657315, -0.031410759078131026 L 0.999211692036131, -0.039698797189487336 L 0.9988480994021209, -0.04798410487620542 M 0.9988480994021209,-0.04798410487620542 Q 0.1835340823378735, -0.07946848822265767 0.7184426257414908, -0.6955862229211215L 0.7184426257414908, -0.6955862229211215 L 0.7109582833867939, -0.7032341852354046 L 0.7033925315395111, -0.7108016225181524 ",
          "type": "path"
         },
         {
          "fillcolor": "#b8d7c5",
          "layer": "below",
          "line": {
           "color": "rgb(175,175,175)",
           "width": 0.5
          },
          "path": "M 0.9029595593338854,-0.42972553357643933 Q 0.18749683941342715, -0.06960556881439527 0.9646341499751554, -0.2635924063809682L 0.9646341499751554, -0.2635924063809682 L 0.9646099272909675, -0.2636810349109591 L 0.9645856964637789, -0.2637696612150202 M 0.9645856964637789,-0.2637696612150202 Q 0.18749704464220582, -0.0696050159861966 0.903041042679514, -0.4295542750762658L 0.903041042679514, -0.4295542750762658 L 0.9030003050667028, -0.4296399062580682 L 0.9029595593338854, -0.42972553357643933 ",
          "type": "path"
         },
         {
          "fillcolor": "#b8d7c5",
          "layer": "below",
          "line": {
           "color": "rgb(175,175,175)",
           "width": 0.5
          },
          "path": "M 0.9031224935436507,-0.42938300112545047 Q 0.19238931505670007, -0.05464752009024568 0.9939884687441067, -0.1094848117491463L 0.9939884687441067, -0.1094848117491463 L 0.9939429837386401, -0.10989697482974435 L 0.9938973278273702, -0.11030911901385622 M 0.9938973278273702,-0.11030911901385622 Q 0.19239256472248964, -0.05463607818559673 0.9035292605394579, -0.42852639982738566L 0.9035292605394579, -0.42852639982738566 L 0.9033259785782423, -0.42895474869228467 L 0.9031224935436507, -0.42938300112545047 ",
          "type": "path"
         },
         {
          "fillcolor": "#aad0bc",
          "layer": "below",
          "line": {
           "color": "rgb(175,175,175)",
           "width": 0.5
          },
          "path": "M 0.9678986904083265,-0.25134065549736745 Q 0.1969769408837599, -0.03464223953608897 0.9955746096856136, -0.09397444625715047L 0.9955746096856136, -0.09397444625715047 L 0.9953696621163228, -0.09612094328728407 L 0.995160086622564, -0.09826699340760803 M 0.995160086622564,-0.09826699340760803 Q 0.1969849931717973, -0.03459642272124361 0.9690884715425007, -0.24671346603584465L 0.9690884715425007, -0.24671346603584465 L 0.9684963443974162, -0.2490277713204724 L 0.9678986904083265, -0.25134065549736745 ",
          "type": "path"
         },
         {
          "fillcolor": "#f2e6ce",
          "layer": "below",
          "line": {
           "color": "rgb(150,150,150)",
           "width": 0.45
          },
          "path": "M 1.1, 0.0 L 1.099703519127535, 0.025537619672070362 L 1.0988142363299722, 0.051061473133666074 L 1.0973326309806566, 0.07655780159507265 L 1.0952595017480362, 0.10201286110409577 L 1.0925959661651363, 0.1274129299548229 L 1.0893434600271446, 0.15274431608439304 L 1.0855037366174387, 0.17799336445378727 L 1.0810788657624664, 0.20314646440866102 L 1.0760712327159947, 0.22819005701625103 L 1.0704835368733228, 0.253110642374401 L 1.0643187903161568, 0.27789478688876673 L 1.0575803161889292, 0.3025291305142773 L 0.9614366510808446, 0.27502648228570664 L 0.9675625366510515, 0.25263162444433335 L 0.9731668517030205, 0.23010058397672817 L 0.9782465751963587, 0.20744550637841 L 0.9827989688749693, 0.18467860400787364 L 0.9868215787431259, 0.16181214950344297 L 0.9903122363883132, 0.13885846916763003 L 0.9932690601501238, 0.11582993632256626 L 0.9956904561345783, 0.09273896464008706 L 0.9975751190733241, 0.06959800145006605 L 0.9989220330272474, 0.046419521030605516 L 0.9997304719341227, 0.023216017883700327 L 1.0, 0.0 L 1.1 ,0.0",
          "type": "path"
         },
         {
          "fillcolor": "#ecd5bb",
          "layer": "below",
          "line": {
           "color": "rgb(150,150,150)",
           "width": 0.45
          },
          "path": "M 1.0475557945118, 0.33559925116834205 L 1.0404371587698944, 0.3570581446358977 L 1.032878995007575, 0.3783662004885511 L 1.0248844961372898, 0.3995144172334884 L 1.0164570393993013, 0.4204938609012116 L 1.0076001849349845, 0.4412956688196534 L 0.998317674282862, 0.46191105335817384 L 0.9886134287980074, 0.48233130563985527 L 0.9784915479954867, 0.5025477992205284 L 0.9679563078185363, 0.5225519937329752 L 0.95701215883221, 0.5423354384947687 L 0.9456637243432581, 0.5618897760782257 L 0.933915798447031, 0.5812067458409654 L 0.9217733440022369, 0.6002781874155798 L 0.9092414905344023, 0.6190960441569454 L 0.8963255320689285, 0.6376523665457161 L 0.8830309248946535, 0.6559393155465625 L 0.8693632852588676, 0.6739491659197369 L 0.8553283869947543, 0.6916743094845667 L 0.8409321590822609, 0.7091072583334959 L 0.8261806831434274, 0.7262406479953184 L 0.8110801908732317, 0.7430672405462659 L 0.7956370614070395, 0.759579927667636 L 0.7798578186257653, 0.77577173364867 L 0.7637491283998901, 0.7916358183334105 L 0.7473177957734916, 0.8071654800102951 L 0.730570762089487, 0.8223541582432634 L 0.713515102057291, 0.8371954366431854 L 0.6961580207641379, 0.8516830455784349 L 0.6785068506313249, 0.8658108648234677 L 0.6605690483166623, 0.8795729261442846 L 0.6423521915644432, 0.8929634158196835 L 0.6238639760042584, 0.9059766770972411 L 0.6051122119000124, 0.9186072125829813 L 0.5861048208505125, 0.930849686563727 L 0.5668498324430252, 0.9426989272611456 L 0.5473553808612116, 0.9541499290165452 L 0.5276297014488799, 0.9651978544054923 L 0.5076811272309993, 0.9758380362813606 L 0.4875180853934528, 0.9860659797469449 L 0.46714909372300883, 0.9958773640533114 L 0.44658275700902056, 1.0052680444250788 L 0.42582776340837214, 1.0142340538113594 L 0.4048928807752041, 1.0227716045616229 L 0.3837869529569745, 1.0308770900257709 L 0.3625188960584133, 1.038547086077752 L 0.3410976946749556, 1.045778352562067 L 0.3100888133408687, 0.9507075932382427 L 0.32956263278037573, 0.944133714616138 L 0.3488972299608859, 0.9371609909325188 L 0.3680844370683673, 0.9297923677832934 L 0.38711614855306553, 0.9220309580103268 L 0.405984324553655, 0.9138800403864352 L 0.42468099429364436, 0.905343058230283 L 0.4431982594485934, 0.896423617951768 L 0.46152829748272667, 0.8871254875285095 L 0.4796633649535271, 0.8774525949140839 L 0.4975958007829196, 0.8674090263786773 L 0.5153180294936592, 0.8569990247828595 L 0.5328225644095568, 0.8462269877852063 L 0.5501020108181931, 0.8350974659845284 L 0.5671490690947802, 0.8236151609974918 L 0.5839565377858574, 0.8117849234724395 L 0.6005173166515111, 0.7996117510402587 L 0.6168244096648408, 0.7871007862031524 L 0.6328709279673981, 0.7742573141622134 L 0.6486500927793554, 0.7610867605847139 L 0.6641552382631699, 0.7475946893120576 L 0.6793798143395378, 0.7337868000093591 L 0.6943173894544454, 0.7196689257576458 L 0.7089616532961502, 0.7052470305897 L 0.723306419460945, 0.6905272069705781 L 0.7373456280665742, 0.6755156732238781 L 0.7510733483122066, 0.6602187709048348 L 0.7644837809838735, 0.6446429621213599 L 0.777571260904322, 0.6287948268041514 L 0.7903302593262432, 0.6126810599270335 L 0.8027553862678668, 0.5963084686786931 L 0.814841392789935, 0.5796839695870146 L 0.8265831732130929, 0.5628145855972231 L 0.8379757672747608, 0.5457074431050725 L 0.8490143622245736, 0.5283697689463321 L 0.8596942948575073, 0.5108088873438414 L 0.8700110534838272, 0.49303221681342607 L 0.8799602798350329, 0.4750472670299774 L 0.8895377709049878, 0.45686163565502574 L 0.8987394807254612, 0.4384830051271411 L 0.907561522075329, 0.41991913941652165 L 0.9160001681227131, 0.4011778807451394 L 0.9240518539993647, 0.3822671462738287 L 0.931713178306627, 0.3631949247577167 L 0.9389809045523407, 0.34396927317141 L 0.9458519625180858, 0.3245983133053615 L 0.9523234495561816, 0.3050902283348564 L 1.0475557945118 ,0.33559925116834205",
          "type": "path"
         },
         {
          "fillcolor": "#e6c4a9",
          "layer": "below",
          "line": {
           "color": "rgb(150,150,150)",
           "width": 0.45
          },
          "path": "M 0.3080806916717963, 1.055976461583793 L 0.28597471494079774, 1.0621762859405823 L 0.26374415910871085, 1.0679133946795683 L 0.24139870846759878, 1.0731852885453543 L 0.2189480973611251, 1.0779896709439953 L 0.19640210594398358, 1.0823244489434618 L 0.17377055592137047, 1.0861877341853838 L 0.15106330627035908, 1.0895778437076755 L 0.1282902489450348, 1.0924933006776842 L 0.10546130456726473, 1.0949328350355427 L 0.08258641810498116, 1.0968953840474438 L 0.05967555453985534, 1.0983800927686012 L 0.03673869452625655, 1.0993863144156866 L 0.013785830043381077, 1.0999136106485887 L -0.009173039957552127, 1.099961751761368 L -0.032127913909140667, 1.099530716782322 L -0.0550687919847812, 1.0986206934831226 L -0.07798568045488995, 1.0972320782970155 L -0.10086859604046963, 1.0953654761461238 L -0.1237075702621238, 1.093021700177925 L -0.1464926537826218, 1.0902017714110197 L -0.16921392074112707, 1.0869069182903455 L -0.1918614730771984, 1.0831385761520305 L -0.21442544484267825, 1.078898386598117 L -0.23689600649959452, 1.0741881967814317 L -0.2592633692022004, 1.0690100586009113 L -0.23569397200200035, 0.9718273260008283 L -0.21536000590872229, 0.9765347243467561 L -0.19493222258425294, 0.9808167150891971 L -0.17441952097927124, 0.9846714328654821 L -0.15383083703738823, 0.9880971984457686 L -0.13317513980238344, 0.9910925194645632 L -0.11246142751102163, 0.9936560910708409 L -0.09169872367315421, 0.9957867964964762 L -0.07089607314080903, 0.9974837075427413 L -0.0500625381679829, 0.9987460849846568 L -0.02920719446285515, 0.99957337889302 L -0.008339127234138297, 0.9999652288739708 L 0.01253257276671007, 0.9999214642259897 L 0.033398813205687765, 0.9994421040142604 L 0.05425050412714121, 0.9985273570623646 L 0.07507856191361922, 0.9971776218613125 L 0.09587391324296793, 0.9953934863959478 L 0.11662749904094072, 0.9931757278888038 L 0.13733027842759915, 0.9905253124615232 L 0.15797323265579133, 0.9874433947139852 L 0.17854736903998505, 0.9839313172213289 L 0.19904372487375008, 0.9799906099490866 L 0.2194533713341807, 0.9756229895866857 L 0.23976741737155532, 0.9708303587996073 L 0.2599770135825434, 0.9656148054005294 L 0.28007335606526934, 0.9599786014398117 L 0.3080806916717963 ,1.055976461583793",
          "type": "path"
         },
         {
          "fillcolor": "#e1b396",
          "layer": "below",
          "line": {
           "color": "rgb(150,150,150)",
           "width": 0.45
          },
          "path": "M -0.29271385578293113, 1.0603389074407719 L -0.3154526527286896, 1.0537977148800586 L -0.33804549674846474, 1.0467689535556945 L -0.36048193463584854, 1.0392558755192083 L -0.3827515855500714, 1.0312619569046977 L -0.4048441458189863, 1.022790896320502 L -0.4267493937063495, 1.0138466131379358 L -0.44845719414118934, 1.0044332456778857 L -0.4699575034070791, 0.9945551492960988 L -0.49124037378913976, 0.9842168943680587 L -0.5122959581766295, 0.9734232641743721 L -0.5331145146189791, 0.962179252687653 L -0.553686410833178, 0.9504900622619226 L -0.574002128660417, 0.9383611012255944 L -0.5940522684699285, 0.9257979813791626 L -0.6138275535079863, 0.9128065153987456 L -0.6333188341900539, 0.899392714146691 L -0.652517092334093, 0.8855627838904822 L -0.6714134453330767, 0.8713231234312377 L -0.610375859393706, 0.7921119303920342 L -0.5931973566673573, 0.8050570762640746 L -0.5757443947182307, 0.8176297401333553 L -0.5580250486436239, 0.8298241049079504 L -0.5400475167908441, 0.8416345285265113 L -0.5218201169640154, 0.8530555465687221 L -0.5033512825756163, 0.8640818747835659 L -0.48464955874452637, 0.87470841153423 L -0.4657235983423904, 0.88493024015852 L -0.446582157990127, 0.8947426312436897 L -0.4272340940064355, 0.9041410448146352 L -0.4076883583101721, 0.9131211324344415 L -0.3879539942784995, 0.9216787392163053 L -0.3680401325627148, 0.9298099057459107 L -0.3479559868637012, 0.9375108699133615 L -0.3277108496689532, 0.9447780686538256 L -0.30731408795314974, 0.9516081395960859 L -0.28677513884426326, 0.9579979226182349 L -0.2661035052572101, 0.9639444613097925 L -0.29271385578293113 ,1.0603389074407719",
          "type": "path"
         },
         {
          "fillcolor": "#dba284",
          "layer": "below",
          "line": {
           "color": "rgb(150,150,150)",
           "width": 0.45
          },
          "path": "M -0.6984510640374693, 0.849803572094709 L -0.7205724214795161, 0.8311289824107608 L -0.7421946814281759, 0.8118787193046315 L -0.7633028674349752, 0.7920661162842058 L -0.7838823591197662, 0.7717048963566513 L -0.7126203264725147, 0.7015499057787739 L -0.6939116976681592, 0.7200601057129142 L -0.674722437661978, 0.7380715630042104 L -0.6550658377086509, 0.7555718021916007 L -0.6349555127613357, 0.7725487019042808 L -0.6984510640374693 ,0.849803572094709",
          "type": "path"
         },
         {
          "fillcolor": "#d59171",
          "layer": "below",
          "line": {
           "color": "rgb(150,150,150)",
           "width": 0.45
          },
          "path": "M -0.8077353970740434, 0.7467017666469242 L -0.8370970858237526, 0.7136304848486933 L -0.8651057085225881, 0.6794057058059131 L -0.8917159926243329, 0.6440827497286361 L -0.9168849258277476, 0.6077187118970799 L -0.8335317507524977, 0.5524715562700726 L -0.8106509023857571, 0.5855297724805782 L -0.7864597350205346, 0.6176415507326483 L -0.760997350748866, 0.6487549862260847 L -0.7343049064309485, 0.6788197878608402 L -0.8077353970740434 ,0.7467017666469242",
          "type": "path"
         },
         {
          "fillcolor": "#d0805f",
          "layer": "below",
          "line": {
           "color": "rgb(150,150,150)",
           "width": 0.45
          },
          "path": "M -0.9355214045119503, 0.5786187878906007 L -0.969330433905126, 0.5199985672146613 L -0.9994709235294525, 0.45941035362645394 L -1.0258288033207172, 0.39708345001722906 L -1.0483043189259624, 0.3332537395456718 L -0.9530039262963294, 0.3029579450415198 L -0.9325716393824702, 0.3609849545611173 L -0.9086099304813204, 0.417645776024049 L -0.8812094853682962, 0.47272597019514656 L -0.850474004101773, 0.526017079900546 L -0.9355214045119503 ,0.5786187878906007",
          "type": "path"
         },
         {
          "fillcolor": "#ca6f4c",
          "layer": "below",
          "line": {
           "color": "rgb(150,150,150)",
           "width": 0.45
          },
          "path": "M -1.058254796950984, 0.3001612645399672 L -1.0624315693908644, 0.28502484165711783 L -1.0663918545174949, 0.26983034043401843 L -1.0701348453598558, 0.2545808569917185 L -1.0736597792240905, 0.23927949865476802 L -0.9760543447491732, 0.21752681695888001 L -0.9728498594180506, 0.23143714271974408 L -0.9694471404704498, 0.2453003094854713 L -0.9658468812644221, 0.25911349241556164 L -0.9620498154099852, 0.27287387685451564 L -1.058254796950984 ,0.3001612645399672",
          "type": "path"
         },
         {
          "fillcolor": "#c45e3a",
          "layer": "below",
          "line": {
           "color": "rgb(150,150,150)",
           "width": 0.45
          },
          "path": "M -1.0806459436198816, 0.20543696000937975 L -1.085534833602718, 0.17780361367283723 L -1.0897172260487749, 0.15005454759041295 L -1.0931903989358107, 0.12220782165869316 L -1.095952091822232, 0.0942815593341236 L -0.9963200834747564, 0.08571050848556691 L -0.9938094535780098, 0.11109801968972105 L -0.9906520236807044, 0.13641322508219358 L -0.9868498487297436, 0.16163964879348838 L -0.9824054032908015, 0.18676087273579975 L -1.0806459436198816 ,0.20543696000937975",
          "type": "path"
         },
         {
          "fillcolor": "#bf4d28",
          "layer": "below",
          "line": {
           "color": "rgb(150,150,150)",
           "width": 0.45
          },
          "path": "M -1.098372760968622, 0.05981034995856884 L -1.0998043557596195, 0.02074557909937701 L -1.0998470105510931, -0.018345391296553305 L -1.0985006714744203, -0.0574131933465458 L -1.0957670388176446, -0.09640848842716525 L -0.9961518534705859, -0.08764408038833203 L -0.9986369740676547, -0.05219381213322345 L -0.9998609186828119, -0.016677628451412095 L -0.999822141599654, 0.018859617363070007 L -0.9985206917896563, 0.05437304541688076 L -1.098372760968622 ,0.05981034995856884",
          "type": "path"
         },
         {
          "fillcolor": "#af4624",
          "layer": "below",
          "line": {
           "color": "rgb(150,150,150)",
           "width": 0.45
          },
          "path": "M -1.0921980801276947, -0.13077979111995028 L -1.0861188376959703, -0.1742006613131965 L -1.0783140763307397, -0.21734477860529355 L -1.0687961954702965, -0.2601435998601925 L -1.0575803161889297, -0.30252913051427566 L -0.9614366510808451, -0.27502648228570514 L -0.9716329049729967, -0.23649418169108405 L -0.9802855239370359, -0.19758616236844867 L -0.987380761541791, -0.15836423755745135 L -0.9929073455706315, -0.11889071919995478 L -1.0921980801276947 ,-0.13077979111995028",
          "type": "path"
         },
         {
          "fillcolor": "#9f4021",
          "layer": "below",
          "line": {
           "color": "rgb(150,150,150)",
           "width": 0.45
          },
          "path": "M -1.0475557945118006, -0.3355992511683402 L -1.0344966968621514, -0.37392055865022744 L -1.0200362728608294, -0.41173535438214176 L -1.0041941105580146, -0.4489924145468365 L -0.9869916697027518, -0.4856412708341151 L -0.8972651542752288, -0.44149206439465005 L -0.9129037368709222, -0.4081749223153059 L -0.927305702600754, -0.3743048676201288 L -0.9404515426019557, -0.33992778059111584 L -0.9523234495561822, -0.3050902283348547 L -1.0475557945118006 ,-0.3355992511683402",
          "type": "path"
         },
         {
          "fillcolor": "#8f391e",
          "layer": "below",
          "line": {
           "color": "rgb(150,150,150)",
           "width": 0.45
          },
          "path": "M -0.9712502879376613, -0.5164037937322016 L -0.9600573171949913, -0.5369263894616805 L -0.9484307658987109, -0.557206498792669 L -0.9363758848254743, -0.5772349628334289 L -0.923898118193992, -0.597002736340128 L -0.9110031012063159, -0.6165008918018489 L -0.8976966575028728, -0.6357206234724261 L -0.8839847965323945, -0.6546532513472924 L -0.8698737108379349, -0.6732902250835379 L -0.8553697732601961, -0.6916231278614103 L -0.8404795340594299, -0.7096436801855166 L -0.8252097179572132, -0.7273437436240012 L -0.8095672210994331, -0.7447153244840216 L -0.7935591079418528, -0.7617505774218559 L -0.7771926080596661, -0.7784418089860118 L -0.7604751128824809, -0.7947814810917389 L -0.7434141723562058, -0.810762214425375 L -0.7260174915333473, -0.8263767917769873 L -0.7082929270932592, -0.8416181612998042 L -0.6902484837939123, -0.8564794396949675 L -0.6274986216308294, -0.7786176724499704 L -0.643902660993872, -0.7651074193634583 L -0.660015901393952, -0.7512516288881702 L -0.6758310657783688, -0.7370565585685227 L -0.6913410117113462, -0.722528619174308 L -0.7065387345996964, -0.7076743718054652 L -0.7214173708562298, -0.6925005249289599 L -0.7359702009994846, -0.6770139313491105 L -0.7501906526883756, -0.6612215851127283 L -0.7640723036903907, -0.6451306183504696 L -0.7776088847819964, -0.6287482980558275 L -0.7907942825799407, -0.6120820228032162 L -0.8036225423021768, -0.5951393194066293 L -0.816087870457157, -0.5779278395203873 L -0.8281846374602871, -0.560455356183499 L -0.8399073801763564, -0.5427297603092073 L -0.8512508043867948, -0.524759057121299 L -0.8622097871806462, -0.50655136253879 L -0.8727793792681738, -0.48811489951061854 L -0.8829548072160557, -0.4694579943020014 L -0.9712502879376613 ,-0.5164037937322016",
          "type": "path"
         },
         {
          "fillcolor": "#f0f3e7",
          "layer": "below",
          "line": {
           "color": "rgb(150,150,150)",
           "width": 0.45
          },
          "path": "M -0.6630052184988859, -0.8777380476219797 L -0.6440062665188997, -0.8917712311374415 L -0.6247103848497549, -0.9053932488487372 L -0.6051264701752957, -0.9185978201003892 L -0.5852635519817216, -0.9313788567074833 L -0.5651307883943998, -0.943730465762722 L -0.5447374619553543, -0.955646952353451 L -0.5240929753434043, -0.967122822187388 L -0.5032068470388971, -0.9781527841258605 L -0.48208870693506284, -0.9887317526233692 L -0.4607482918979876, -0.9988548500723651 L -0.43919544127727705, -1.0085174090521483 L -0.41744009236945684, -1.017714974480861 L -0.39549227583622065, -1.026443305669576 L -0.3733621110796316, -1.034698378277535 L -0.3510598015763989, -1.0424763861676387 L -0.3285956301734044, -1.0497737431613268 L -0.305979954346619, -1.056587084692048 L -0.2832232014256258, -1.0629132693565453 L -0.26033586378592055, -1.0687493803632537 L -0.23732849401123643, -1.0740927268771345 L -0.21421170002809456, -1.0789408452603293 L -0.19099614021485212, -1.0832915002080599 L -0.16769251848747407, -1.0871426857792534 L -0.14431157936432426, -1.0904926263214136 L -0.1311923448766584, -0.9913569330194669 L -0.15244774407952189, -0.9883115325265939 L -0.17363285474077464, -0.9848104547345997 L -0.1947379091164496, -0.9808553138730265 L -0.21575317637385127, -0.9764479335246676 L -0.23666896707810955, -0.9715903457847761 L -0.2574756376596598, -0.966284790324132 L -0.2781635948605627, -0.9605337133564072 L -0.2987233001576403, -0.9543397665102971 L -0.3191452741603626, -0.9477058056069442 L -0.33942010098148323, -0.9406348893432136 L -0.35953843257838236, -0.9331302778814328 L -0.37949099306314255, -0.9251954313462372 L -0.39926858297934276, -0.9168340082292256 L -0.4188620835436251, -0.90804986370215 L -0.4382624608500571, -0.8988470478394265 L -0.4574607700353609, -0.8892298037507822 L -0.47644815940309476, -0.8792025656248981 L -0.49521587450486754, -0.8687699566849554 L -0.5137552621767271, -0.8579367870570199 L -0.5320577745288378, -0.8467080515522575 L -0.5501149728866325, -0.8350889273639901 L -0.5679185316815953, -0.8230847716806701 L -0.5854602422899088, -0.8107011192158559 L -0.602732016817169, -0.7979436796563452 L -0.6630052184988859 ,-0.8777380476219797",
          "type": "path"
         },
         {
          "fillcolor": "#e2ecde",
          "layer": "below",
          "line": {
           "color": "rgb(150,150,150)",
           "width": 0.45
          },
          "path": "M -0.1099871691495249, -1.0944874702903062 L -0.09391082579956385, -1.0959839217788023 L -0.07781424985249474, -1.0972442492535077 L -0.06170090923156584, -1.0982681811834476 L -0.04557427547188382, -1.0990554969678341 L -0.04143115951989438, -0.9991413608798492 L -0.05609173566505985, -0.9984256192576796 L -0.07074022713863158, -0.9974947720486432 L -0.08537347799960349, -0.9963490197989112 L -0.09998833559047718, -0.9949886093548238 L -0.1099871691495249 ,-1.0944874702903062",
          "type": "path"
         },
         {
          "fillcolor": "#d4e5d6",
          "layer": "below",
          "line": {
           "color": "rgb(150,150,150)",
           "width": 0.45
          },
          "path": "M -0.011029619889313924, -1.0999447020123772 L 0.011867189917184676, -1.0999359844115792 L 0.03475885795495357, -1.0994506909332804 L 0.057635465813344305, -1.098489031843504 L 0.08048710160691998, -1.0970514238060662 L 0.1033038642700413, -1.0951384897020455 L 0.12607586784675898, -1.0927510583599023 L 0.14879324577416506, -1.0898901641963694 L 0.17144615515733225, -1.0865570467682626 L 0.194024781034007, -1.0827531502354106 L 0.2165193406272002, -1.078480122734936 L 0.238920087583824, -1.073739815667156 L 0.26121731619755645, -1.0685342828934157 L 0.2834013656140897, -1.0628657798461993 L 0.3054626240169498, -1.0567367625519044 L 0.32739153279206107, -1.0501498865667058 L 0.3491785906692664, -1.0431080058259667 L 0.37081435783900335, -1.0356141714076954 L 0.39228946004234094, -1.0276716302105886 L 0.4135945926326251, -1.0192838235472264 L 0.4347205246069572, -1.0104543856530348 L 0.4556581026057695, -1.0011871421116585 L 0.47639825487875126, -0.9914861081974272 L 0.4969319952154238, -0.9813554871356344 L 0.5172504268386483, -0.9707996682813794 L 0.5373447462593892, -0.9598232252177652 L 0.5572062470910503, -0.9484309137742757 L 0.5768263238217449, -0.9366276699661887 L 0.5961964755428609, -0.9244186078559167 L 0.6153083096322953, -0.9118090173372095 L 0.6341535453907784, -0.8988043618431689 L 0.6527240176297049, -0.8854102759790723 L 0.6710116802089091, -0.8716325630810364 L 0.6100106183717355, -0.7923932391645785 L 0.5933854705724589, -0.8049184327082475 L 0.5765032230825258, -0.8170948744028808 L 0.5593711905748139, -0.8289172884883722 L 0.5419967959480554, -0.8403805525962879 L 0.5243875671106771, -0.8514796999692624 L 0.5065511337191365, -0.8622099216129778 L 0.488495223872172, -0.8725665683797865 L 0.47022766076240746, -0.8825451529830721 L 0.4517563592867489, -0.8921413519414857 L 0.4330893226170466, -0.9013510074522065 L 0.4142346387325177, -0.9101701291924167 L 0.3952004769154156, -0.9185948960482134 L 0.3759950842114773, -0.9266216577702057 L 0.35662678185667357, -0.9342469365550805 L 0.3371039616718212, -0.9414674285524504 L 0.3174350824266058, -0.9482800052963334 L 0.29762866617460093, -0.9546817150606416 L 0.27769329456086345, -0.9606697841380948 L 0.25763760510371786, -0.9662416180419993 L 0.237470287452324, -0.9713948026303778 L 0.21720007962165816, -0.9761271051519599 L 0.19683576420654564, -0.9804364752135781 L 0.17638616457637, -0.984321045668555 L 0.1558601410521202, -0.9877791334256931 L 0.13526658706742276, -0.9908092401785176 L 0.11461442531523543, -0.9934100530544566 L 0.09391260388185572, -0.9955804451836776 L 0.07317009236992725, -0.997319476187333 L 0.052395878012131185, -0.9986263925850036 L 0.03159896177723052, -0.9995006281211639 L 0.010788354470167886, -0.9999418040105265 L -0.010026927172103565, -0.9999497291021611 L -0.011029619889313924 ,-1.0999447020123772",
          "type": "path"
         },
         {
          "fillcolor": "#c6decd",
          "layer": "below",
          "line": {
           "color": "rgb(150,150,150)",
           "width": 0.45
          },
          "path": "M 0.6980592168944267, -0.8501254788022412 L 0.7161390929115906, -0.8349519744295263 L 0.7338892388695025, -0.8193940352916553 L 0.7513014821146407, -0.8034588246900675 L 0.7683678055731528, -0.7871536796323179 L 0.7850803514421341, -0.7704861074539212 L 0.8014314248075722, -0.7534637823617701 L 0.8174134971873023, -0.7360945419007155 L 0.8330192099973204, -0.7183863833449521 L 0.8482413779398819, -0.7003474600158487 L 0.8630729923118076, -0.6819860775279379 L 0.8775072242314811, -0.6633106899647867 L 0.8915374277830557, -0.6443298959864993 L 0.9051571430764158, -0.6250524348706604 L 0.9183600992214842, -0.6054871824885361 L 0.931140217215516, -0.5856431472183737 L 0.9434916127420357, -0.5655294657977006 L 0.9554085988801369, -0.5451553991165217 L 0.966885688722899, -0.5245303279533466 L 0.9779175979037069, -0.5036637486560295 L 0.8890159980942789, -0.45787613514184494 L 0.87898698974809, -0.47684575268486057 L 0.8685532717092153, -0.495595817378656 L 0.8577196479473052, -0.5141176961797278 L 0.84649110655956, -0.5324028611076125 L 0.8348728174740765, -0.5504428931713964 L 0.8228701300694689, -0.5682294862460548 L 0.8104885707118687, -0.5857544508968174 L 0.7977338402104373, -0.6030097181498061 L 0.7846118111925523, -0.6199873432072163 L 0.7711285253998925, -0.6366795091053169 L 0.7572901909066548, -0.6530785303135928 L 0.7431031792611839, -0.6691768562733778 L 0.7285740225523384, -0.6849670748743364 L 0.71370941040194, -0.7004419158672011 L 0.6985161868846843, -0.715594254211198 L 0.683001347376946, -0.7304171133546067 L 0.6671720353359113, -0.7449036684469593 L 0.6510355390105369, -0.7590472494813875 L 0.6345992880858424, -0.7728413443656738 L 0.6980592168944267 ,-0.8501254788022412",
          "type": "path"
         },
         {
          "fillcolor": "#b8d7c5",
          "layer": "below",
          "line": {
           "color": "rgb(150,150,150)",
           "width": 0.45
          },
          "path": "M 0.993255515267274, -0.47269808693408333 L 1.0098266693994558, -0.4361766818269888 L 1.0250554916685557, -0.39907548032939305 L 1.0389217388645373, -0.3614437999394736 L 1.0514069790069458, -0.3233316633048605 L 0.9558245263699507, -0.29393787573169133 L 0.9444743080586703, -0.32858527267224874 L 0.931868628789596, -0.3627958912085391 L 0.9180242449085961, -0.39652425620635345 L 0.9029595593338854, -0.42972553357643933 L 0.993255515267274 ,-0.47269808693408333",
          "type": "path"
         },
         {
          "fillcolor": "#aad0bc",
          "layer": "below",
          "line": {
           "color": "rgb(150,150,150)",
           "width": 0.45
          },
          "path": "M 1.061044266110157, -0.29014662733652224 L 1.0694944931000319, -0.25725770975561874 L 1.0769255296363718, -0.22412363466939478 L 1.083330294203987, -0.19077597768037435 L 1.0887026832886042, -0.15724651792708624 L 0.9897297120805492, -0.14295137993371476 L 0.9848457220036246, -0.17343270698215849 L 0.9790232087603379, -0.20374875879035886 L 0.9722677210000289, -0.23387064523238063 L 0.9645856964637789, -0.2637696612150202 L 1.061044266110157 ,-0.29014662733652224",
          "type": "path"
         },
         {
          "fillcolor": "#9cc9b4",
          "layer": "below",
          "line": {
           "color": "rgb(150,150,150)",
           "width": 0.45
          },
          "path": "M 1.0931047067252175, -0.12297194857030036 L 1.0953607945382404, -0.10091942225634602 L 1.0971720356483445, -0.07882591065930043 L 1.098537694476312, -0.056700386371426166 L 1.0994572164023046, -0.03455183498594413 L 0.9995065603657315, -0.031410759078131026 L 0.9986706313421018, -0.0515458057922056 L 0.9974291233166768, -0.0716599187811822 L 0.9957825404893095, -0.09174492932395092 L 0.9937315515683794, -0.11179268051845487 L 1.0931047067252175 ,-0.12297194857030036",
          "type": "path"
         }
        ],
        "showlegend": false,
        "title": "Data Jobs ‒ Technologies in Demand and Relationships Between Them",
        "titlefont": {
         "color": "#655643",
         "family": "Merryweather",
         "size": 18
        },
        "width": 960,
        "xaxis": {
         "showgrid": false,
         "showline": false,
         "showticklabels": false,
         "title": "",
         "zeroline": false
        },
        "yaxis": {
         "showgrid": false,
         "showline": false,
         "showticklabels": false,
         "title": "",
         "zeroline": false
        }
       }
      },
      "text/html": [
       "<div id=\"afda3ff8-5995-41cd-a9e7-f75b58ee5feb\" style=\"height: 525px; width: 960px;\" class=\"plotly-graph-div\"></div><script type=\"text/javascript\">require([\"plotly\"], function(Plotly) { window.PLOTLYENV=window.PLOTLYENV || {};window.PLOTLYENV.BASE_URL=\"https://plot.ly\";Plotly.newPlot(\"afda3ff8-5995-41cd-a9e7-f75b58ee5feb\", [{\"hoverinfo\": \"text\", \"line\": {\"color\": \"#f2e6ce\", \"shape\": \"spline\", \"width\": 0.25}, \"mode\": \"lines\", \"text\": \"Power BI<br>1345\", \"x\": [1.1, 1.099703519127535, 1.0988142363299722, 1.0973326309806566, 1.0952595017480362, 1.0925959661651363, 1.0893434600271446, 1.0855037366174387, 1.0810788657624664, 1.0760712327159947, 1.0704835368733228, 1.0643187903161568, 1.0575803161889292], \"y\": [0.0, 0.025537619672070362, 0.051061473133666074, 0.07655780159507265, 0.10201286110409577, 0.1274129299548229, 0.15274431608439304, 0.17799336445378727, 0.20314646440866102, 0.22819005701625103, 0.253110642374401, 0.27789478688876673, 0.3025291305142773], \"type\": \"scatter\", \"uid\": \"34a5d1e7-d1d3-4d72-afbe-3129d9e647c2\"}, {\"hoverinfo\": \"text\", \"line\": {\"color\": \"#ecd5bb\", \"shape\": \"spline\", \"width\": 0.25}, \"mode\": \"lines\", \"text\": \"Excel<br>4238\", \"x\": [1.0475557945118, 1.0404371587698944, 1.032878995007575, 1.0248844961372898, 1.0164570393993013, 1.0076001849349845, 0.998317674282862, 0.9886134287980074, 0.9784915479954867, 0.9679563078185363, 0.95701215883221, 0.9456637243432581, 0.933915798447031, 0.9217733440022369, 0.9092414905344023, 0.8963255320689285, 0.8830309248946535, 0.8693632852588676, 0.8553283869947543, 0.8409321590822609, 0.8261806831434274, 0.8110801908732317, 0.7956370614070395, 0.7798578186257653, 0.7637491283998901, 0.7473177957734916, 0.730570762089487, 0.713515102057291, 0.6961580207641379, 0.6785068506313249, 0.6605690483166623, 0.6423521915644432, 0.6238639760042584, 0.6051122119000124, 0.5861048208505125, 0.5668498324430252, 0.5473553808612116, 0.5276297014488799, 0.5076811272309993, 0.4875180853934528, 0.46714909372300883, 0.44658275700902056, 0.42582776340837214, 0.4048928807752041, 0.3837869529569745, 0.3625188960584133, 0.3410976946749556], \"y\": [0.33559925116834205, 0.3570581446358977, 0.3783662004885511, 0.3995144172334884, 0.4204938609012116, 0.4412956688196534, 0.46191105335817384, 0.48233130563985527, 0.5025477992205284, 0.5225519937329752, 0.5423354384947687, 0.5618897760782257, 0.5812067458409654, 0.6002781874155798, 0.6190960441569454, 0.6376523665457161, 0.6559393155465625, 0.6739491659197369, 0.6916743094845667, 0.7091072583334959, 0.7262406479953184, 0.7430672405462659, 0.759579927667636, 0.77577173364867, 0.7916358183334105, 0.8071654800102951, 0.8223541582432634, 0.8371954366431854, 0.8516830455784349, 0.8658108648234677, 0.8795729261442846, 0.8929634158196835, 0.9059766770972411, 0.9186072125829813, 0.930849686563727, 0.9426989272611456, 0.9541499290165452, 0.9651978544054923, 0.9758380362813606, 0.9860659797469449, 0.9958773640533114, 1.0052680444250788, 1.0142340538113594, 1.0227716045616229, 1.0308770900257709, 1.038547086077752, 1.045778352562067], \"type\": \"scatter\", \"uid\": \"09850db1-fb75-49c8-a7bd-721eba37ee7c\"}, {\"hoverinfo\": \"text\", \"line\": {\"color\": \"#e6c4a9\", \"shape\": \"spline\", \"width\": 0.25}, \"mode\": \"lines\", \"text\": \"SSIS/SSRS<br>2400\", \"x\": [0.3080806916717963, 0.28597471494079774, 0.26374415910871085, 0.24139870846759878, 0.2189480973611251, 0.19640210594398358, 0.17377055592137047, 0.15106330627035908, 0.1282902489450348, 0.10546130456726473, 0.08258641810498116, 0.05967555453985534, 0.03673869452625655, 0.013785830043381077, -0.009173039957552127, -0.032127913909140667, -0.0550687919847812, -0.07798568045488995, -0.10086859604046963, -0.1237075702621238, -0.1464926537826218, -0.16921392074112707, -0.1918614730771984, -0.21442544484267825, -0.23689600649959452, -0.2592633692022004], \"y\": [1.055976461583793, 1.0621762859405823, 1.0679133946795683, 1.0731852885453543, 1.0779896709439953, 1.0823244489434618, 1.0861877341853838, 1.0895778437076755, 1.0924933006776842, 1.0949328350355427, 1.0968953840474438, 1.0983800927686012, 1.0993863144156866, 1.0999136106485887, 1.099961751761368, 1.099530716782322, 1.0986206934831226, 1.0972320782970155, 1.0953654761461238, 1.093021700177925, 1.0902017714110197, 1.0869069182903455, 1.0831385761520305, 1.078898386598117, 1.0741881967814317, 1.0690100586009113], \"type\": \"scatter\", \"uid\": \"02e0539a-ace3-48f9-b99f-219bd8be8af3\"}, {\"hoverinfo\": \"text\", \"line\": {\"color\": \"#e1b396\", \"shape\": \"spline\", \"width\": 0.25}, \"mode\": \"lines\", \"text\": \"MS SQL Server<br>1816\", \"x\": [-0.29271385578293113, -0.3154526527286896, -0.33804549674846474, -0.36048193463584854, -0.3827515855500714, -0.4048441458189863, -0.4267493937063495, -0.44845719414118934, -0.4699575034070791, -0.49124037378913976, -0.5122959581766295, -0.5331145146189791, -0.553686410833178, -0.574002128660417, -0.5940522684699285, -0.6138275535079863, -0.6333188341900539, -0.652517092334093, -0.6714134453330767], \"y\": [1.0603389074407719, 1.0537977148800586, 1.0467689535556945, 1.0392558755192083, 1.0312619569046977, 1.022790896320502, 1.0138466131379358, 1.0044332456778857, 0.9945551492960988, 0.9842168943680587, 0.9734232641743721, 0.962179252687653, 0.9504900622619226, 0.9383611012255944, 0.9257979813791626, 0.9128065153987456, 0.899392714146691, 0.8855627838904822, 0.8713231234312377], \"type\": \"scatter\", \"uid\": \"a801d3f1-2d8c-4ce6-b288-b608c15745fa\"}, {\"hoverinfo\": \"text\", \"line\": {\"color\": \"#dba284\", \"shape\": \"spline\", \"width\": 0.25}, \"mode\": \"lines\", \"text\": \"PostgreSQL<br>593\", \"x\": [-0.6984510640374693, -0.7205724214795161, -0.7421946814281759, -0.7633028674349752, -0.7838823591197662], \"y\": [0.849803572094709, 0.8311289824107608, 0.8118787193046315, 0.7920661162842058, 0.7717048963566513], \"type\": \"scatter\", \"uid\": \"236aa1fd-5679-4cd4-af71-a3a98e127284\"}, {\"hoverinfo\": \"text\", \"line\": {\"color\": \"#d59171\", \"shape\": \"spline\", \"width\": 0.25}, \"mode\": \"lines\", \"text\": \"MySQL/MariaDB<br>834\", \"x\": [-0.8077353970740434, -0.8370970858237526, -0.8651057085225881, -0.8917159926243329, -0.9168849258277476], \"y\": [0.7467017666469242, 0.7136304848486933, 0.6794057058059131, 0.6440827497286361, 0.6077187118970799], \"type\": \"scatter\", \"uid\": \"69485acf-bce0-4f9c-a9f0-ed379f0a009a\"}, {\"hoverinfo\": \"text\", \"line\": {\"color\": \"#d0805f\", \"shape\": \"spline\", \"width\": 0.25}, \"mode\": \"lines\", \"text\": \"T-SQL<br>1204\", \"x\": [-0.9355214045119503, -0.969330433905126, -0.9994709235294525, -1.0258288033207172, -1.0483043189259624], \"y\": [0.5786187878906007, 0.5199985672146613, 0.45941035362645394, 0.39708345001722906, 0.3332537395456718], \"type\": \"scatter\", \"uid\": \"dd4302b1-133c-4646-8e02-437fc1f23d0d\"}, {\"hoverinfo\": \"text\", \"line\": {\"color\": \"#ca6f4c\", \"shape\": \"spline\", \"width\": 0.25}, \"mode\": \"lines\", \"text\": \"PL/SQL<br>384\", \"x\": [-1.058254796950984, -1.0624315693908644, -1.0663918545174949, -1.0701348453598558, -1.0736597792240905], \"y\": [0.3001612645399672, 0.28502484165711783, 0.26983034043401843, 0.2545808569917185, 0.23927949865476802], \"type\": \"scatter\", \"uid\": \"b4cd3774-691e-477e-bedf-5f19af367ff7\"}, {\"hoverinfo\": \"text\", \"line\": {\"color\": \"#c45e3a\", \"shape\": \"spline\", \"width\": 0.25}, \"mode\": \"lines\", \"text\": \"Pentaho<br>579\", \"x\": [-1.0806459436198816, -1.085534833602718, -1.0897172260487749, -1.0931903989358107, -1.095952091822232], \"y\": [0.20543696000937975, 0.17780361367283723, 0.15005454759041295, 0.12220782165869316, 0.0942815593341236], \"type\": \"scatter\", \"uid\": \"b1c74f4f-1948-49bc-944b-a21d2e9699f1\"}, {\"hoverinfo\": \"text\", \"line\": {\"color\": \"#bf4d28\", \"shape\": \"spline\", \"width\": 0.25}, \"mode\": \"lines\", \"text\": \"Hadoop<br>753\", \"x\": [-1.098372760968622, -1.0998043557596195, -1.0998470105510931, -1.0985006714744203, -1.0957670388176446], \"y\": [0.05981034995856884, 0.02074557909937701, -0.018345391296553305, -0.0574131933465458, -0.09640848842716525], \"type\": \"scatter\", \"uid\": \"5d37f791-fb9a-43eb-acc4-04f1f9d03573\"}, {\"hoverinfo\": \"text\", \"line\": {\"color\": \"#af4624\", \"shape\": \"spline\", \"width\": 0.25}, \"mode\": \"lines\", \"text\": \"Spark<br>828\", \"x\": [-1.0921980801276947, -1.0861188376959703, -1.0783140763307397, -1.0687961954702965, -1.0575803161889297], \"y\": [-0.13077979111995028, -0.1742006613131965, -0.21734477860529355, -0.2601435998601925, -0.30252913051427566], \"type\": \"scatter\", \"uid\": \"ef9d5616-da8b-474a-bb63-ea9f8686739e\"}, {\"hoverinfo\": \"text\", \"line\": {\"color\": \"#9f4021\", \"shape\": \"spline\", \"width\": 0.25}, \"mode\": \"lines\", \"text\": \"Informatica<br>775\", \"x\": [-1.0475557945118006, -1.0344966968621514, -1.0200362728608294, -1.0041941105580146, -0.9869916697027518], \"y\": [-0.3355992511683402, -0.37392055865022744, -0.41173535438214176, -0.4489924145468365, -0.4856412708341151], \"type\": \"scatter\", \"uid\": \"4cda5f08-bade-459d-aa15-cdf1142c5246\"}, {\"hoverinfo\": \"text\", \"line\": {\"color\": \"#8f391e\", \"shape\": \"spline\", \"width\": 0.25}, \"mode\": \"lines\", \"text\": \"Qlik<br>1888\", \"x\": [-0.9712502879376613, -0.9600573171949913, -0.9484307658987109, -0.9363758848254743, -0.923898118193992, -0.9110031012063159, -0.8976966575028728, -0.8839847965323945, -0.8698737108379349, -0.8553697732601961, -0.8404795340594299, -0.8252097179572132, -0.8095672210994331, -0.7935591079418528, -0.7771926080596661, -0.7604751128824809, -0.7434141723562058, -0.7260174915333473, -0.7082929270932592, -0.6902484837939123], \"y\": [-0.5164037937322016, -0.5369263894616805, -0.557206498792669, -0.5772349628334289, -0.597002736340128, -0.6165008918018489, -0.6357206234724261, -0.6546532513472924, -0.6732902250835379, -0.6916231278614103, -0.7096436801855166, -0.7273437436240012, -0.7447153244840216, -0.7617505774218559, -0.7784418089860118, -0.7947814810917389, -0.810762214425375, -0.8263767917769873, -0.8416181612998042, -0.8564794396949675], \"type\": \"scatter\", \"uid\": \"8dc97a87-7451-43db-b12b-9d5f7ea90fd7\"}, {\"hoverinfo\": \"text\", \"line\": {\"color\": \"#f0f3e7\", \"shape\": \"spline\", \"width\": 0.25}, \"mode\": \"lines\", \"text\": \"Tableau<br>2372\", \"x\": [-0.6630052184988859, -0.6440062665188997, -0.6247103848497549, -0.6051264701752957, -0.5852635519817216, -0.5651307883943998, -0.5447374619553543, -0.5240929753434043, -0.5032068470388971, -0.48208870693506284, -0.4607482918979876, -0.43919544127727705, -0.41744009236945684, -0.39549227583622065, -0.3733621110796316, -0.3510598015763989, -0.3285956301734044, -0.305979954346619, -0.2832232014256258, -0.26033586378592055, -0.23732849401123643, -0.21421170002809456, -0.19099614021485212, -0.16769251848747407, -0.14431157936432426], \"y\": [-0.8777380476219797, -0.8917712311374415, -0.9053932488487372, -0.9185978201003892, -0.9313788567074833, -0.943730465762722, -0.955646952353451, -0.967122822187388, -0.9781527841258605, -0.9887317526233692, -0.9988548500723651, -1.0085174090521483, -1.017714974480861, -1.026443305669576, -1.034698378277535, -1.0424763861676387, -1.0497737431613268, -1.056587084692048, -1.0629132693565453, -1.0687493803632537, -1.0740927268771345, -1.0789408452603293, -1.0832915002080599, -1.0871426857792534, -1.0904926263214136], \"type\": \"scatter\", \"uid\": \"b9b4bf4d-b623-4099-9f7d-3de685b22a7c\"}, {\"hoverinfo\": \"text\", \"line\": {\"color\": \"#e2ecde\", \"shape\": \"spline\", \"width\": 0.25}, \"mode\": \"lines\", \"text\": \"Microstrategy<br>391\", \"x\": [-0.1099871691495249, -0.09391082579956385, -0.07781424985249474, -0.06170090923156584, -0.04557427547188382], \"y\": [-1.0944874702903062, -1.0959839217788023, -1.0972442492535077, -1.0982681811834476, -1.0990554969678341], \"type\": \"scatter\", \"uid\": \"d7926563-e30d-4ec6-8d66-7b5c9f420d14\"}, {\"hoverinfo\": \"text\", \"line\": {\"color\": \"#d4e5d6\", \"shape\": \"spline\", \"width\": 0.25}, \"mode\": \"lines\", \"text\": \"Oracle BI<br>3026\", \"x\": [-0.011029619889313924, 0.011867189917184676, 0.03475885795495357, 0.057635465813344305, 0.08048710160691998, 0.1033038642700413, 0.12607586784675898, 0.14879324577416506, 0.17144615515733225, 0.194024781034007, 0.2165193406272002, 0.238920087583824, 0.26121731619755645, 0.2834013656140897, 0.3054626240169498, 0.32739153279206107, 0.3491785906692664, 0.37081435783900335, 0.39228946004234094, 0.4135945926326251, 0.4347205246069572, 0.4556581026057695, 0.47639825487875126, 0.4969319952154238, 0.5172504268386483, 0.5373447462593892, 0.5572062470910503, 0.5768263238217449, 0.5961964755428609, 0.6153083096322953, 0.6341535453907784, 0.6527240176297049, 0.6710116802089091], \"y\": [-1.0999447020123772, -1.0999359844115792, -1.0994506909332804, -1.098489031843504, -1.0970514238060662, -1.0951384897020455, -1.0927510583599023, -1.0898901641963694, -1.0865570467682626, -1.0827531502354106, -1.078480122734936, -1.073739815667156, -1.0685342828934157, -1.0628657798461993, -1.0567367625519044, -1.0501498865667058, -1.0431080058259667, -1.0356141714076954, -1.0276716302105886, -1.0192838235472264, -1.0104543856530348, -1.0011871421116585, -0.9914861081974272, -0.9813554871356344, -0.9707996682813794, -0.9598232252177652, -0.9484309137742757, -0.9366276699661887, -0.9244186078559167, -0.9118090173372095, -0.8988043618431689, -0.8854102759790723, -0.8716325630810364], \"type\": \"scatter\", \"uid\": \"dc6c565f-7dfc-47b7-860d-0163a7dae9db\"}, {\"hoverinfo\": \"text\", \"line\": {\"color\": \"#c6decd\", \"shape\": \"spline\", \"width\": 0.25}, \"mode\": \"lines\", \"text\": \"Python<br>1905\", \"x\": [0.6980592168944267, 0.7161390929115906, 0.7338892388695025, 0.7513014821146407, 0.7683678055731528, 0.7850803514421341, 0.8014314248075722, 0.8174134971873023, 0.8330192099973204, 0.8482413779398819, 0.8630729923118076, 0.8775072242314811, 0.8915374277830557, 0.9051571430764158, 0.9183600992214842, 0.931140217215516, 0.9434916127420357, 0.9554085988801369, 0.966885688722899, 0.9779175979037069], \"y\": [-0.8501254788022412, -0.8349519744295263, -0.8193940352916553, -0.8034588246900675, -0.7871536796323179, -0.7704861074539212, -0.7534637823617701, -0.7360945419007155, -0.7183863833449521, -0.7003474600158487, -0.6819860775279379, -0.6633106899647867, -0.6443298959864993, -0.6250524348706604, -0.6054871824885361, -0.5856431472183737, -0.5655294657977006, -0.5451553991165217, -0.5245303279533466, -0.5036637486560295], \"type\": \"scatter\", \"uid\": \"e982cb78-fb89-43d0-a0bd-48cb1da23ae2\"}, {\"hoverinfo\": \"text\", \"line\": {\"color\": \"#b8d7c5\", \"shape\": \"spline\", \"width\": 0.25}, \"mode\": \"lines\", \"text\": \"VBA<br>769\", \"x\": [0.993255515267274, 1.0098266693994558, 1.0250554916685557, 1.0389217388645373, 1.0514069790069458], \"y\": [-0.47269808693408333, -0.4361766818269888, -0.39907548032939305, -0.3614437999394736, -0.3233316633048605], \"type\": \"scatter\", \"uid\": \"d2dff044-53eb-45cb-8789-117424741b84\"}, {\"hoverinfo\": \"text\", \"line\": {\"color\": \"#aad0bc\", \"shape\": \"spline\", \"width\": 0.25}, \"mode\": \"lines\", \"text\": \"Linux<br>672\", \"x\": [1.061044266110157, 1.0694944931000319, 1.0769255296363718, 1.083330294203987, 1.0887026832886042], \"y\": [-0.29014662733652224, -0.25725770975561874, -0.22412363466939478, -0.19077597768037435, -0.15724651792708624], \"type\": \"scatter\", \"uid\": \"bd3e36c9-3e7b-4df4-8fa5-f5295ca35409\"}, {\"hoverinfo\": \"text\", \"line\": {\"color\": \"#9cc9b4\", \"shape\": \"spline\", \"width\": 0.25}, \"mode\": \"lines\", \"text\": \"AWS<br>486\", \"x\": [1.0931047067252175, 1.0953607945382404, 1.0971720356483445, 1.098537694476312, 1.0994572164023046], \"y\": [-0.12297194857030036, -0.10091942225634602, -0.07882591065930043, -0.056700386371426166, -0.03455183498594413], \"type\": \"scatter\", \"uid\": \"dbe64280-bccc-4c01-92da-1eb1942867a0\"}, {\"hoverinfo\": \"text\", \"marker\": {\"color\": \"green\", \"size\": 0.5}, \"mode\": \"markers\", \"text\": \"Power BI appears with Excel 226 times\", \"x\": [0.870849441791994], \"y\": [0.2272031023788462], \"type\": \"scatter\", \"uid\": \"c8d5c198-8301-4694-a93b-696a07a69701\"}, {\"hoverinfo\": \"text\", \"marker\": {\"color\": \"blue\", \"size\": 0.5}, \"mode\": \"markers\", \"text\": \"Excel appears with Power BI 226 times\", \"x\": [0.7643849422037451], \"y\": [0.4750954221334671], \"type\": \"scatter\", \"uid\": \"5e1971a5-0dba-4cdd-983d-7ed49d2a66db\"}, {\"hoverinfo\": \"text\", \"marker\": {\"color\": \"green\", \"size\": 0.5}, \"mode\": \"markers\", \"text\": \"Power BI appears with SSIS/SSRS 131 times\", \"x\": [0.8952248645627898], \"y\": [0.09258748224535848], \"type\": \"scatter\", \"uid\": \"03c208b9-4836-4a7e-a996-3e228dc18cfa\"}, {\"hoverinfo\": \"text\", \"marker\": {\"color\": \"blue\", \"size\": 0.5}, \"mode\": \"markers\", \"text\": \"SSIS/SSRS appears with Power BI 131 times\", \"x\": [0.09241985607780698], \"y\": [0.8952421852228354], \"type\": \"scatter\", \"uid\": \"857ed915-6bda-4c7b-8497-78cf264c9ec2\"}, {\"hoverinfo\": \"text\", \"marker\": {\"color\": \"green\", \"size\": 0.5}, \"mode\": \"markers\", \"text\": \"Power BI appears with MS SQL Server 128 times\", \"x\": [0.8973862186793059], \"y\": [0.06854177211348539], \"type\": \"scatter\", \"uid\": \"4f4ee4c4-d399-4793-b55c-13e4240517c3\"}, {\"hoverinfo\": \"text\", \"marker\": {\"color\": \"blue\", \"size\": 0.5}, \"mode\": \"markers\", \"text\": \"MS SQL Server appears with Power BI 128 times\", \"x\": [-0.39245357500509737], \"y\": [0.8099260407381148], \"type\": \"scatter\", \"uid\": \"1c5b8219-20ea-437e-9a16-99001df349d1\"}, {\"hoverinfo\": \"text\", \"marker\": {\"color\": \"green\", \"size\": 0.5}, \"mode\": \"markers\", \"text\": \"Power BI appears with MySQL/MariaDB 5 times\", \"x\": [0.8999998793120403], \"y\": [0.0004660883102054], \"type\": \"scatter\", \"uid\": \"543e8afd-cba9-431a-8ae3-18aac42e98c9\"}, {\"hoverinfo\": \"text\", \"marker\": {\"color\": \"blue\", \"size\": 0.5}, \"mode\": \"markers\", \"text\": \"MySQL/MariaDB appears with Power BI 5 times\", \"x\": [-0.6619925259819688], \"y\": [0.6097260823878312], \"type\": \"scatter\", \"uid\": \"ee305267-b683-4486-83fd-b877ce9d2ad0\"}, {\"hoverinfo\": \"text\", \"marker\": {\"color\": \"green\", \"size\": 0.5}, \"mode\": \"markers\", \"text\": \"Power BI appears with T-SQL 47 times\", \"x\": [0.8992315636036166], \"y\": [0.03718326261901876], \"type\": \"scatter\", \"uid\": \"a8917807-ef88-44b7-9ffb-9b3e0049be05\"}, {\"hoverinfo\": \"text\", \"marker\": {\"color\": \"blue\", \"size\": 0.5}, \"mode\": \"markers\", \"text\": \"T-SQL appears with Power BI 47 times\", \"x\": [-0.7948644334865496], \"y\": [0.4221262043253257], \"type\": \"scatter\", \"uid\": \"65bc0577-fb9a-4293-a8b8-dfe088ccfd9e\"}, {\"hoverinfo\": \"text\", \"marker\": {\"color\": \"green\", \"size\": 0.5}, \"mode\": \"markers\", \"text\": \"Power BI appears with PL/SQL 11 times\", \"x\": [0.899978329356437], \"y\": [0.0062455335077644634], \"type\": \"scatter\", \"uid\": \"e1dbaeeb-4eed-42b6-9c93-0ff3be5df8ab\"}, {\"hoverinfo\": \"text\", \"marker\": {\"color\": \"blue\", \"size\": 0.5}, \"mode\": \"markers\", \"text\": \"PL/SQL appears with Power BI 11 times\", \"x\": [-0.8669856373447659], \"y\": [0.2415282688173173], \"type\": \"scatter\", \"uid\": \"dd44677c-553a-4226-b4fe-788ff9de1cb6\"}, {\"hoverinfo\": \"text\", \"marker\": {\"color\": \"green\", \"size\": 0.5}, \"mode\": \"markers\", \"text\": \"Power BI appears with Pentaho 9 times\", \"x\": [0.8999893360327013], \"y\": [0.004381213007570788], \"type\": \"scatter\", \"uid\": \"ba289f03-50fe-428f-9d63-e439c8033db6\"}, {\"hoverinfo\": \"text\", \"marker\": {\"color\": \"blue\", \"size\": 0.5}, \"mode\": \"markers\", \"text\": \"Pentaho appears with Power BI 9 times\", \"x\": [-0.8849113624829772], \"y\": [0.1641093554570274], \"type\": \"scatter\", \"uid\": \"f671414f-ce21-4210-8da4-62fa8df55da1\"}, {\"hoverinfo\": \"text\", \"marker\": {\"color\": \"green\", \"size\": 0.5}, \"mode\": \"markers\", \"text\": \"Power BI appears with Hadoop 22 times\", \"x\": [0.8999107116943033], \"y\": [0.012677183356435128], \"type\": \"scatter\", \"uid\": \"b0850410-d1b1-475b-85f8-ed28ce4da385\"}, {\"hoverinfo\": \"text\", \"marker\": {\"color\": \"blue\", \"size\": 0.5}, \"mode\": \"markers\", \"text\": \"Hadoop appears with Power BI 22 times\", \"x\": [-0.8992156926299377], \"y\": [0.03756511850189269], \"type\": \"scatter\", \"uid\": \"6339b2b6-534d-4780-a05e-2c2d8b82054e\"}, {\"hoverinfo\": \"text\", \"marker\": {\"color\": \"green\", \"size\": 0.5}, \"mode\": \"markers\", \"text\": \"Power BI appears with Spark 29 times\", \"x\": [0.8998311917830456], \"y\": [0.017430613709904105], \"type\": \"scatter\", \"uid\": \"3523eaaf-0ddf-4bd2-8b4a-099907b14f02\"}, {\"hoverinfo\": \"text\", \"marker\": {\"color\": \"blue\", \"size\": 0.5}, \"mode\": \"markers\", \"text\": \"Spark appears with Power BI 29 times\", \"x\": [-0.891402524790765], \"y\": [-0.12410293629342414], \"type\": \"scatter\", \"uid\": \"ca22b615-189f-4aec-b003-24d16fa8a616\"}, {\"hoverinfo\": \"text\", \"marker\": {\"color\": \"green\", \"size\": 0.5}, \"mode\": \"markers\", \"text\": \"Power BI appears with Informatica 18 times\", \"x\": [0.8999555099560924], \"y\": [0.008948748497402164], \"type\": \"scatter\", \"uid\": \"1be1ec74-f64b-4823-a114-4bc87d5ed572\"}, {\"hoverinfo\": \"text\", \"marker\": {\"color\": \"blue\", \"size\": 0.5}, \"mode\": \"markers\", \"text\": \"Informatica appears with Power BI 18 times\", \"x\": [-0.8524361124442684], \"y\": [-0.2887086320166103], \"type\": \"scatter\", \"uid\": \"34fd290b-51b7-4baf-937f-c08a51a73886\"}, {\"hoverinfo\": \"text\", \"marker\": {\"color\": \"green\", \"size\": 0.5}, \"mode\": \"markers\", \"text\": \"Power BI appears with Qlik 188 times\", \"x\": [0.8865700677858102], \"y\": [0.15489840188415124], \"type\": \"scatter\", \"uid\": \"0ae8293a-dec5-4efe-bb76-f8bfc42b860b\"}, {\"hoverinfo\": \"text\", \"marker\": {\"color\": \"blue\", \"size\": 0.5}, \"mode\": \"markers\", \"text\": \"Qlik appears with Power BI 188 times\", \"x\": [-0.7273149930052483], \"y\": [-0.5301064996298157], \"type\": \"scatter\", \"uid\": \"97ca2e94-dcfa-4881-a476-2ca0d063ea4d\"}, {\"hoverinfo\": \"text\", \"marker\": {\"color\": \"green\", \"size\": 0.5}, \"mode\": \"markers\", \"text\": \"Power BI appears with Tableau 190 times\", \"x\": [0.8798277291804569], \"y\": [0.18948131033207616], \"type\": \"scatter\", \"uid\": \"49dda248-52af-40ad-ad48-f72b7bfb4bdf\"}, {\"hoverinfo\": \"text\", \"marker\": {\"color\": \"blue\", \"size\": 0.5}, \"mode\": \"markers\", \"text\": \"Tableau appears with Power BI 190 times\", \"x\": [-0.36456333097931504], \"y\": [-0.8228569606591819], \"type\": \"scatter\", \"uid\": \"572be3e5-d596-4818-9d00-8b1a167e9d0d\"}, {\"hoverinfo\": \"text\", \"marker\": {\"color\": \"green\", \"size\": 0.5}, \"mode\": \"markers\", \"text\": \"Power BI appears with Microstrategy 29 times\", \"x\": [0.8997102437515024], \"y\": [0.02283587722449345], \"type\": \"scatter\", \"uid\": \"ca1fba14-6892-4601-a80d-d50586c3e919\"}, {\"hoverinfo\": \"text\", \"marker\": {\"color\": \"blue\", \"size\": 0.5}, \"mode\": \"markers\", \"text\": \"Microstrategy appears with Power BI 29 times\", \"x\": [-0.0712129837473085], \"y\": [-0.8971781935300287], \"type\": \"scatter\", \"uid\": \"44532e95-a42a-411d-8dfc-12599177eeaa\"}, {\"hoverinfo\": \"text\", \"marker\": {\"color\": \"green\", \"size\": 0.5}, \"mode\": \"markers\", \"text\": \"Power BI appears with Oracle BI 178 times\", \"x\": [0.891803681284247], \"y\": [0.12118660836852088], \"type\": \"scatter\", \"uid\": \"a5b46d4e-2136-499e-8b10-7375abd6872d\"}, {\"hoverinfo\": \"text\", \"marker\": {\"color\": \"blue\", \"size\": 0.5}, \"mode\": \"markers\", \"text\": \"Oracle BI appears with Power BI 178 times\", \"x\": [0.19641062135774667], \"y\": [-0.87830681872445], \"type\": \"scatter\", \"uid\": \"3c050a91-d23b-47c4-a693-512fca191812\"}, {\"hoverinfo\": \"text\", \"marker\": {\"color\": \"green\", \"size\": 0.5}, \"mode\": \"markers\", \"text\": \"Power BI appears with Python 81 times\", \"x\": [0.8986595909693134], \"y\": [0.0491013193189987], \"type\": \"scatter\", \"uid\": \"f370349a-f898-405d-9ad9-ab8d7abc6433\"}, {\"hoverinfo\": \"text\", \"marker\": {\"color\": \"blue\", \"size\": 0.5}, \"mode\": \"markers\", \"text\": \"Python appears with Power BI 81 times\", \"x\": [0.6274846708696638], \"y\": [-0.645184460308515], \"type\": \"scatter\", \"uid\": \"8272b06d-483c-44b4-a70d-205e0416d4b2\"}, {\"hoverinfo\": \"text\", \"marker\": {\"color\": \"green\", \"size\": 0.5}, \"mode\": \"markers\", \"text\": \"Power BI appears with VBA 39 times\", \"x\": [0.8995270942610305], \"y\": [0.029172018961792813], \"type\": \"scatter\", \"uid\": \"e8cebd1f-603a-4b6c-8add-74c66a1cc093\"}, {\"hoverinfo\": \"text\", \"marker\": {\"color\": \"blue\", \"size\": 0.5}, \"mode\": \"markers\", \"text\": \"VBA appears with Power BI 39 times\", \"x\": [0.8244006881667205], \"y\": [-0.3610588668766322], \"type\": \"scatter\", \"uid\": \"f3f0c311-f1a8-4ef6-902e-cadd2b93bee5\"}, {\"hoverinfo\": \"text\", \"marker\": {\"color\": \"green\", \"size\": 0.5}, \"mode\": \"markers\", \"text\": \"Power BI appears with Linux 8 times\", \"x\": [0.8999956552368492], \"y\": [0.0027965254861372735], \"type\": \"scatter\", \"uid\": \"9509224c-c613-486f-a251-8470a97fdd05\"}, {\"hoverinfo\": \"text\", \"marker\": {\"color\": \"blue\", \"size\": 0.5}, \"mode\": \"markers\", \"text\": \"Linux appears with Power BI 8 times\", \"x\": [0.86860520398298], \"y\": [-0.23563743253924188], \"type\": \"scatter\", \"uid\": \"8165f1e7-fb1e-4080-b6ee-b20b0612450e\"}, {\"hoverinfo\": \"text\", \"marker\": {\"color\": \"green\", \"size\": 0.5}, \"mode\": \"markers\", \"text\": \"Power BI appears with AWS 6 times\", \"x\": [0.8999987641555478], \"y\": [0.0014914819766436737], \"type\": \"scatter\", \"uid\": \"d11ea3e6-5add-4f0c-850d-11d94c25f6f4\"}, {\"hoverinfo\": \"text\", \"marker\": {\"color\": \"blue\", \"size\": 0.5}, \"mode\": \"markers\", \"text\": \"AWS appears with Power BI 6 times\", \"x\": [0.894638542629597], \"y\": [-0.09809117208796539], \"type\": \"scatter\", \"uid\": \"f395c96b-126b-4094-b4f6-95242cb8db99\"}, {\"hoverinfo\": \"text\", \"marker\": {\"color\": \"green\", \"size\": 0.5}, \"mode\": \"markers\", \"text\": \"Excel appears with SSIS/SSRS 617 times\", \"x\": [0.4529114925884715], \"y\": [0.7777346461880703], \"type\": \"scatter\", \"uid\": \"f68f8045-0ee9-42c6-8a31-3c9ab7978c0c\"}, {\"hoverinfo\": \"text\", \"marker\": {\"color\": \"blue\", \"size\": 0.5}, \"mode\": \"markers\", \"text\": \"SSIS/SSRS appears with Excel 617 times\", \"x\": [-0.15302614969399944], \"y\": [0.8868951445970542], \"type\": \"scatter\", \"uid\": \"dd78d4a9-9dcd-4bee-af42-6308432b6d2d\"}, {\"hoverinfo\": \"text\", \"marker\": {\"color\": \"green\", \"size\": 0.5}, \"mode\": \"markers\", \"text\": \"Excel appears with MS SQL Server 270 times\", \"x\": [0.7047548848349039], \"y\": [0.5597504375177756], \"type\": \"scatter\", \"uid\": \"00797681-716f-4288-91c7-2903192d2069\"}, {\"hoverinfo\": \"text\", \"marker\": {\"color\": \"blue\", \"size\": 0.5}, \"mode\": \"markers\", \"text\": \"MS SQL Server appears with Excel 270 times\", \"x\": [-0.48500153396081014], \"y\": [0.7581381879681707], \"type\": \"scatter\", \"uid\": \"ea963467-00cc-4065-9c13-c19ceaff3afa\"}, {\"hoverinfo\": \"text\", \"marker\": {\"color\": \"green\", \"size\": 0.5}, \"mode\": \"markers\", \"text\": \"Excel appears with PostgreSQL 76 times\", \"x\": [0.8394422821792552], \"y\": [0.32455608897336014], \"type\": \"scatter\", \"uid\": \"d3ffd654-e5d7-4cd6-aab0-fc94ecd34c79\"}, {\"hoverinfo\": \"text\", \"marker\": {\"color\": \"blue\", \"size\": 0.5}, \"mode\": \"markers\", \"text\": \"PostgreSQL appears with Excel 76 times\", \"x\": [-0.6142328334027445], \"y\": [0.6578130633926604], \"type\": \"scatter\", \"uid\": \"aeaf7e8e-7f59-49c4-9e40-bd24483c89dd\"}, {\"hoverinfo\": \"text\", \"marker\": {\"color\": \"green\", \"size\": 0.5}, \"mode\": \"markers\", \"text\": \"Excel appears with MySQL/MariaDB 128 times\", \"x\": [0.8001288367621371], \"y\": [0.4120604865570945], \"type\": \"scatter\", \"uid\": \"eef672d0-4d4c-4cc8-9474-f0899b506016\"}, {\"hoverinfo\": \"text\", \"marker\": {\"color\": \"blue\", \"size\": 0.5}, \"mode\": \"markers\", \"text\": \"MySQL/MariaDB appears with Excel 128 times\", \"x\": [-0.743985008474687], \"y\": [0.5064447720777854], \"type\": \"scatter\", \"uid\": \"ed5c2901-ddbb-4499-babf-c7a089a68f86\"}, {\"hoverinfo\": \"text\", \"marker\": {\"color\": \"green\", \"size\": 0.5}, \"mode\": \"markers\", \"text\": \"Excel appears with T-SQL 184 times\", \"x\": [0.7853063395185234], \"y\": [0.4396520818920545], \"type\": \"scatter\", \"uid\": \"de46bb77-bb40-486d-8c3d-84b4af649730\"}, {\"hoverinfo\": \"text\", \"marker\": {\"color\": \"blue\", \"size\": 0.5}, \"mode\": \"markers\", \"text\": \"T-SQL appears with Excel 184 times\", \"x\": [-0.8524244345783712], \"y\": [0.28874310958660815], \"type\": \"scatter\", \"uid\": \"b034c316-0a58-4c36-9eab-15f9a66346c5\"}, {\"hoverinfo\": \"text\", \"marker\": {\"color\": \"green\", \"size\": 0.5}, \"mode\": \"markers\", \"text\": \"Excel appears with PL/SQL 60 times\", \"x\": [0.8489017489734904], \"y\": [0.2989411657663583], \"type\": \"scatter\", \"uid\": \"a242e4e1-6342-48a6-91a7-2c796f37b015\"}, {\"hoverinfo\": \"text\", \"marker\": {\"color\": \"blue\", \"size\": 0.5}, \"mode\": \"markers\", \"text\": \"PL/SQL appears with Excel 60 times\", \"x\": [-0.8749415561378289], \"y\": [0.21089635687492178], \"type\": \"scatter\", \"uid\": \"e9d871a4-6810-4823-8fb5-cc23a9afd53d\"}, {\"hoverinfo\": \"text\", \"marker\": {\"color\": \"green\", \"size\": 0.5}, \"mode\": \"markers\", \"text\": \"Excel appears with Pentaho 68 times\", \"x\": [0.8445470590743329], \"y\": [0.3110309711409704], \"type\": \"scatter\", \"uid\": \"f8144d3f-77f4-43a7-adf7-728f643c9015\"}, {\"hoverinfo\": \"text\", \"marker\": {\"color\": \"blue\", \"size\": 0.5}, \"mode\": \"markers\", \"text\": \"Pentaho appears with Excel 68 times\", \"x\": [-0.8962097225017905], \"y\": [0.08251141310911875], \"type\": \"scatter\", \"uid\": \"a76c1168-799e-411a-9b21-c75fbdbc16d1\"}, {\"hoverinfo\": \"text\", \"marker\": {\"color\": \"green\", \"size\": 0.5}, \"mode\": \"markers\", \"text\": \"Excel appears with Hadoop 86 times\", \"x\": [0.8274829225774313], \"y\": [0.3539378657938606], \"type\": \"scatter\", \"uid\": \"44b60af4-8411-4e83-ba70-799fd5d1afc2\"}, {\"hoverinfo\": \"text\", \"marker\": {\"color\": \"blue\", \"size\": 0.5}, \"mode\": \"markers\", \"text\": \"Hadoop appears with Excel 86 times\", \"x\": [-0.8999908808499341], \"y\": [-0.004051467260127409], \"type\": \"scatter\", \"uid\": \"c01748ac-c028-4e1c-8318-e65f1883c24e\"}, {\"hoverinfo\": \"text\", \"marker\": {\"color\": \"green\", \"size\": 0.5}, \"mode\": \"markers\", \"text\": \"Excel appears with Spark 93 times\", \"x\": [0.8202513677068578], \"y\": [0.3703885713342531], \"type\": \"scatter\", \"uid\": \"ae1143f6-0c82-4064-84a8-ea63c625e8c9\"}, {\"hoverinfo\": \"text\", \"marker\": {\"color\": \"blue\", \"size\": 0.5}, \"mode\": \"markers\", \"text\": \"Spark appears with Excel 93 times\", \"x\": [-0.8803421467157831], \"y\": [-0.1870767348331871], \"type\": \"scatter\", \"uid\": \"bbf51ed6-285b-4072-a00e-3cb580b053d5\"}, {\"hoverinfo\": \"text\", \"marker\": {\"color\": \"green\", \"size\": 0.5}, \"mode\": \"markers\", \"text\": \"Excel appears with Informatica 120 times\", \"x\": [0.8112203909442864], \"y\": [0.3897710575661038], \"type\": \"scatter\", \"uid\": \"ca67a7d3-0b19-4f02-a509-f56e1d9736ee\"}, {\"hoverinfo\": \"text\", \"marker\": {\"color\": \"blue\", \"size\": 0.5}, \"mode\": \"markers\", \"text\": \"Informatica appears with Excel 120 times\", \"x\": [-0.8217005742085168], \"y\": [-0.3671623160747762], \"type\": \"scatter\", \"uid\": \"b53bc93c-fa14-4513-b0da-a2b421230942\"}, {\"hoverinfo\": \"text\", \"marker\": {\"color\": \"green\", \"size\": 0.5}, \"mode\": \"markers\", \"text\": \"Excel appears with Qlik 422 times\", \"x\": [0.6077876295626514], \"y\": [0.6637727000642715], \"type\": \"scatter\", \"uid\": \"cb199f0d-a92b-450a-bed6-cad0ce958e59\"}, {\"hoverinfo\": \"text\", \"marker\": {\"color\": \"blue\", \"size\": 0.5}, \"mode\": \"markers\", \"text\": \"Qlik appears with Excel 422 times\", \"x\": [-0.5957855423276458], \"y\": [-0.6745662217702224], \"type\": \"scatter\", \"uid\": \"07416607-6ce4-47f4-9faa-15560f81015c\"}, {\"hoverinfo\": \"text\", \"marker\": {\"color\": \"green\", \"size\": 0.5}, \"mode\": \"markers\", \"text\": \"Excel appears with Tableau 440 times\", \"x\": [0.5412540515723474], \"y\": [0.7190577526572666], \"type\": \"scatter\", \"uid\": \"51542151-0172-42ca-abc4-c5c5e48b1bac\"}, {\"hoverinfo\": \"text\", \"marker\": {\"color\": \"blue\", \"size\": 0.5}, \"mode\": \"markers\", \"text\": \"Tableau appears with Excel 440 times\", \"x\": [-0.1605683754030559], \"y\": [-0.8855607245245372], \"type\": \"scatter\", \"uid\": \"cc49470c-557d-4167-8db4-7034ce6fb354\"}, {\"hoverinfo\": \"text\", \"marker\": {\"color\": \"green\", \"size\": 0.5}, \"mode\": \"markers\", \"text\": \"Excel appears with Microstrategy 41 times\", \"x\": [0.8558263624993884], \"y\": [0.2784981817733564], \"type\": \"scatter\", \"uid\": \"d2a3adbf-16fe-434e-b676-1f405f395925\"}, {\"hoverinfo\": \"text\", \"marker\": {\"color\": \"blue\", \"size\": 0.5}, \"mode\": \"markers\", \"text\": \"Microstrategy appears with Excel 41 times\", \"x\": [-0.056519561500447006], \"y\": [-0.8982235463222935], \"type\": \"scatter\", \"uid\": \"ed4a3bd2-1eea-4f7e-aa58-8a0d6e331750\"}, {\"hoverinfo\": \"text\", \"marker\": {\"color\": \"green\", \"size\": 0.5}, \"mode\": \"markers\", \"text\": \"Excel appears with Oracle BI 642 times\", \"x\": [0.33958739675972405], \"y\": [0.8334748946200802], \"type\": \"scatter\", \"uid\": \"1d7c9e66-248f-49f6-ae9a-82906ba81744\"}, {\"hoverinfo\": \"text\", \"marker\": {\"color\": \"blue\", \"size\": 0.5}, \"mode\": \"markers\", \"text\": \"Oracle BI appears with Excel 642 times\", \"x\": [0.4972897165726296], \"y\": [-0.7501352796603515], \"type\": \"scatter\", \"uid\": \"9b2bdc16-d8b8-4000-bb59-d0482a7b0b4b\"}, {\"hoverinfo\": \"text\", \"marker\": {\"color\": \"green\", \"size\": 0.5}, \"mode\": \"markers\", \"text\": \"Excel appears with Python 363 times\", \"x\": [0.6635078560954771], \"y\": [0.6080767426070361], \"type\": \"scatter\", \"uid\": \"4954548e-131e-4c56-90da-03ed24e87ba6\"}, {\"hoverinfo\": \"text\", \"marker\": {\"color\": \"blue\", \"size\": 0.5}, \"mode\": \"markers\", \"text\": \"Python appears with Excel 363 times\", \"x\": [0.7835076953532418], \"y\": [-0.4428495131782935], \"type\": \"scatter\", \"uid\": \"84c14d47-78db-4a95-b279-57725fcd1a41\"}, {\"hoverinfo\": \"text\", \"marker\": {\"color\": \"green\", \"size\": 0.5}, \"mode\": \"markers\", \"text\": \"Excel appears with VBA 268 times\", \"x\": [0.7370580729076094], \"y\": [0.5164740043426399], \"type\": \"scatter\", \"uid\": \"a2dab810-bfb3-4d87-8eb4-d92249c9034d\"}, {\"hoverinfo\": \"text\", \"marker\": {\"color\": \"blue\", \"size\": 0.5}, \"mode\": \"markers\", \"text\": \"VBA appears with Excel 268 times\", \"x\": [0.8532419528486578], \"y\": [-0.2863183017185747], \"type\": \"scatter\", \"uid\": \"31df9c50-68d1-4029-8b97-d5da9443cb53\"}, {\"hoverinfo\": \"text\", \"marker\": {\"color\": \"green\", \"size\": 0.5}, \"mode\": \"markers\", \"text\": \"Excel appears with Linux 77 times\", \"x\": [0.8337811760679034], \"y\": [0.3388346948510794], \"type\": \"scatter\", \"uid\": \"9b55c5a6-cabe-4ac0-9d7b-5ca8161a9130\"}, {\"hoverinfo\": \"text\", \"marker\": {\"color\": \"blue\", \"size\": 0.5}, \"mode\": \"markers\", \"text\": \"Linux appears with Excel 77 times\", \"x\": [0.8815730779466162], \"y\": [-0.18118749471122317], \"type\": \"scatter\", \"uid\": \"110c614b-879b-493d-84cc-6632c99c3a28\"}, {\"hoverinfo\": \"text\", \"marker\": {\"color\": \"green\", \"size\": 0.5}, \"mode\": \"markers\", \"text\": \"Excel appears with AWS 57 times\", \"x\": [0.8527308412011101], \"y\": [0.2878369546539277], \"type\": \"scatter\", \"uid\": \"2412ff14-1d63-43e9-bc23-7c862bfd0927\"}, {\"hoverinfo\": \"text\", \"marker\": {\"color\": \"blue\", \"size\": 0.5}, \"mode\": \"markers\", \"text\": \"AWS appears with Excel 57 times\", \"x\": [0.8987490992715419], \"y\": [-0.04743476107868799], \"type\": \"scatter\", \"uid\": \"487d303a-082c-475f-8250-40778c030ad2\"}, {\"hoverinfo\": \"text\", \"marker\": {\"color\": \"green\", \"size\": 0.5}, \"mode\": \"markers\", \"text\": \"SSIS/SSRS appears with MS SQL Server 275 times\", \"x\": [-0.01190766787628418], \"y\": [0.8999212229110658], \"type\": \"scatter\", \"uid\": \"5c73afd6-9d74-42ea-8729-9a64c40f89fc\"}, {\"hoverinfo\": \"text\", \"marker\": {\"color\": \"blue\", \"size\": 0.5}, \"mode\": \"markers\", \"text\": \"MS SQL Server appears with SSIS/SSRS 275 times\", \"x\": [-0.5282057128911309], \"y\": [0.7286965931505184], \"type\": \"scatter\", \"uid\": \"ba4218f6-a42d-4452-a6fc-fbf4602a7f05\"}, {\"hoverinfo\": \"text\", \"marker\": {\"color\": \"green\", \"size\": 0.5}, \"mode\": \"markers\", \"text\": \"SSIS/SSRS appears with PostgreSQL 59 times\", \"x\": [0.2012289182893866], \"y\": [0.8772154367338069], \"type\": \"scatter\", \"uid\": \"309bf0c1-cc2c-4455-a331-4ba771969055\"}, {\"hoverinfo\": \"text\", \"marker\": {\"color\": \"blue\", \"size\": 0.5}, \"mode\": \"markers\", \"text\": \"PostgreSQL appears with SSIS/SSRS 59 times\", \"x\": [-0.6063061669919606], \"y\": [0.6651261774035938], \"type\": \"scatter\", \"uid\": \"769f8d84-c9ae-4b70-b56c-21bc5e6c8044\"}, {\"hoverinfo\": \"text\", \"marker\": {\"color\": \"green\", \"size\": 0.5}, \"mode\": \"markers\", \"text\": \"SSIS/SSRS appears with MySQL/MariaDB 84 times\", \"x\": [0.17338275831956895], \"y\": [0.8831412226351446], \"type\": \"scatter\", \"uid\": \"b3c34a7d-fa0a-406d-9d3b-19904bba14cf\"}, {\"hoverinfo\": \"text\", \"marker\": {\"color\": \"blue\", \"size\": 0.5}, \"mode\": \"markers\", \"text\": \"MySQL/MariaDB appears with SSIS/SSRS 84 times\", \"x\": [-0.712186580277798], \"y\": [0.5502638229724134], \"type\": \"scatter\", \"uid\": \"7ab842e9-8ca9-4669-81e5-c9d73ef73b6e\"}, {\"hoverinfo\": \"text\", \"marker\": {\"color\": \"green\", \"size\": 0.5}, \"mode\": \"markers\", \"text\": \"SSIS/SSRS appears with T-SQL 131 times\", \"x\": [0.11787699270236986], \"y\": [0.8922471712431739], \"type\": \"scatter\", \"uid\": \"64b46a9d-c995-421c-a68b-0b5c9196f657\"}, {\"hoverinfo\": \"text\", \"marker\": {\"color\": \"blue\", \"size\": 0.5}, \"mode\": \"markers\", \"text\": \"T-SQL appears with SSIS/SSRS 131 times\", \"x\": [-0.8203794133108242], \"y\": [0.3701048746177059], \"type\": \"scatter\", \"uid\": \"78f5c595-5c61-49cf-b8fc-ad9babb59e4a\"}, {\"hoverinfo\": \"text\", \"marker\": {\"color\": \"green\", \"size\": 0.5}, \"mode\": \"markers\", \"text\": \"SSIS/SSRS appears with PL/SQL 45 times\", \"x\": [0.21113341124769447], \"y\": [0.8748843824499967], \"type\": \"scatter\", \"uid\": \"be64e512-56fd-4deb-9e85-59329249f5e7\"}, {\"hoverinfo\": \"text\", \"marker\": {\"color\": \"blue\", \"size\": 0.5}, \"mode\": \"markers\", \"text\": \"PL/SQL appears with SSIS/SSRS 45 times\", \"x\": [-0.8732685460413042], \"y\": [0.21772011045125464], \"type\": \"scatter\", \"uid\": \"d6de5f3d-0d21-4673-8e18-54e819aaa9b5\"}, {\"hoverinfo\": \"text\", \"marker\": {\"color\": \"green\", \"size\": 0.5}, \"mode\": \"markers\", \"text\": \"SSIS/SSRS appears with Pentaho 36 times\", \"x\": [0.2266020247432573], \"y\": [0.8710060403821871], \"type\": \"scatter\", \"uid\": \"220b6538-d7dd-474b-ad15-474e669b7201\"}, {\"hoverinfo\": \"text\", \"marker\": {\"color\": \"blue\", \"size\": 0.5}, \"mode\": \"markers\", \"text\": \"Pentaho appears with SSIS/SSRS 36 times\", \"x\": [-0.8878357123335268], \"y\": [0.14747117652347969], \"type\": \"scatter\", \"uid\": \"0c2b596b-b11d-400b-857c-747cbd244ad4\"}, {\"hoverinfo\": \"text\", \"marker\": {\"color\": \"green\", \"size\": 0.5}, \"mode\": \"markers\", \"text\": \"SSIS/SSRS appears with Hadoop 34 times\", \"x\": [0.2332234326113806], \"y\": [0.8692564814144125], \"type\": \"scatter\", \"uid\": \"799b3f20-15ac-442e-9c7a-7294b68f979e\"}, {\"hoverinfo\": \"text\", \"marker\": {\"color\": \"blue\", \"size\": 0.5}, \"mode\": \"markers\", \"text\": \"Hadoop appears with SSIS/SSRS 34 times\", \"x\": [-0.8995678553144069], \"y\": [0.027886801269388244], \"type\": \"scatter\", \"uid\": \"c02d3b49-e19a-4a56-87ea-177f52c134a5\"}, {\"hoverinfo\": \"text\", \"marker\": {\"color\": \"green\", \"size\": 0.5}, \"mode\": \"markers\", \"text\": \"SSIS/SSRS appears with Spark 41 times\", \"x\": [0.21930333536051272], \"y\": [0.8728722971315761], \"type\": \"scatter\", \"uid\": \"87609773-ad24-4616-95cb-54c1557c96b6\"}, {\"hoverinfo\": \"text\", \"marker\": {\"color\": \"blue\", \"size\": 0.5}, \"mode\": \"markers\", \"text\": \"Spark appears with SSIS/SSRS 41 times\", \"x\": [-0.8870394208501295], \"y\": [-0.1521876008677012], \"type\": \"scatter\", \"uid\": \"44972cb8-8bc5-497c-a465-158f3b80e383\"}, {\"hoverinfo\": \"text\", \"marker\": {\"color\": \"green\", \"size\": 0.5}, \"mode\": \"markers\", \"text\": \"SSIS/SSRS appears with Informatica 74 times\", \"x\": [0.18852528851328912], \"y\": [0.8800330764187112], \"type\": \"scatter\", \"uid\": \"6b0bd466-8bc3-43c9-8fe3-0f47be7034a8\"}, {\"hoverinfo\": \"text\", \"marker\": {\"color\": \"blue\", \"size\": 0.5}, \"mode\": \"markers\", \"text\": \"Informatica appears with SSIS/SSRS 74 times\", \"x\": [-0.834479103784107], \"y\": [-0.3371121851070853], \"type\": \"scatter\", \"uid\": \"f081a7f5-ead2-4692-b36e-8f020aa50d32\"}, {\"hoverinfo\": \"text\", \"marker\": {\"color\": \"green\", \"size\": 0.5}, \"mode\": \"markers\", \"text\": \"SSIS/SSRS appears with Qlik 91 times\", \"x\": [0.13937352996796545], \"y\": [0.8891428564321194], \"type\": \"scatter\", \"uid\": \"17a47b16-7419-41bb-9a7c-d3ef60662032\"}, {\"hoverinfo\": \"text\", \"marker\": {\"color\": \"blue\", \"size\": 0.5}, \"mode\": \"markers\", \"text\": \"Qlik appears with SSIS/SSRS 91 times\", \"x\": [-0.752869852246074], \"y\": [-0.4931399249492732], \"type\": \"scatter\", \"uid\": \"2bfa9a08-adb9-45b9-b870-e896f30efbeb\"}, {\"hoverinfo\": \"text\", \"marker\": {\"color\": \"green\", \"size\": 0.5}, \"mode\": \"markers\", \"text\": \"SSIS/SSRS appears with Tableau 165 times\", \"x\": [0.06357000790893232], \"y\": [0.8977521117181838], \"type\": \"scatter\", \"uid\": \"4d49c24b-8aee-4cfc-9220-bdde1fd25242\"}, {\"hoverinfo\": \"text\", \"marker\": {\"color\": \"blue\", \"size\": 0.5}, \"mode\": \"markers\", \"text\": \"Tableau appears with SSIS/SSRS 165 times\", \"x\": [-0.39601728122384655], \"y\": [-0.8081895278782527], \"type\": \"scatter\", \"uid\": \"db16ca34-4423-4a30-9385-8471875b0914\"}, {\"hoverinfo\": \"text\", \"marker\": {\"color\": \"green\", \"size\": 0.5}, \"mode\": \"markers\", \"text\": \"SSIS/SSRS appears with Microstrategy 34 times\", \"x\": [0.23964272908956719], \"y\": [0.8675087102701069], \"type\": \"scatter\", \"uid\": \"e0812752-f36a-43e5-b9c4-d0b68336b8d7\"}, {\"hoverinfo\": \"text\", \"marker\": {\"color\": \"blue\", \"size\": 0.5}, \"mode\": \"markers\", \"text\": \"Microstrategy appears with SSIS/SSRS 34 times\", \"x\": [-0.0669685057900204], \"y\": [-0.8975049967728603], \"type\": \"scatter\", \"uid\": \"e806ac08-436b-44ce-a6d8-763370dc8b56\"}, {\"hoverinfo\": \"text\", \"marker\": {\"color\": \"green\", \"size\": 0.5}, \"mode\": \"markers\", \"text\": \"SSIS/SSRS appears with Oracle BI 279 times\", \"x\": [-0.06605087764134349], \"y\": [0.897572995116725], \"type\": \"scatter\", \"uid\": \"11770028-6ece-4b68-bb1b-d88c0534b48c\"}, {\"hoverinfo\": \"text\", \"marker\": {\"color\": \"blue\", \"size\": 0.5}, \"mode\": \"markers\", \"text\": \"Oracle BI appears with SSIS/SSRS 279 times\", \"x\": [0.27448930784519127], \"y\": [-0.8571205398767829], \"type\": \"scatter\", \"uid\": \"5e964e9d-e075-4f47-8ad8-f6fe6374506b\"}, {\"hoverinfo\": \"text\", \"marker\": {\"color\": \"green\", \"size\": 0.5}, \"mode\": \"markers\", \"text\": \"SSIS/SSRS appears with Python 166 times\", \"x\": [0.03123230799162472], \"y\": [0.899457916157013], \"type\": \"scatter\", \"uid\": \"14b8f6ea-7254-49ca-b644-5ebfe015cb86\"}, {\"hoverinfo\": \"text\", \"marker\": {\"color\": \"blue\", \"size\": 0.5}, \"mode\": \"markers\", \"text\": \"Python appears with SSIS/SSRS 166 times\", \"x\": [0.739001215254347], \"y\": [-0.5136897934090169], \"type\": \"scatter\", \"uid\": \"060fff2d-dbe5-497d-9469-4aef0e842143\"}, {\"hoverinfo\": \"text\", \"marker\": {\"color\": \"green\", \"size\": 0.5}, \"mode\": \"markers\", \"text\": \"SSIS/SSRS appears with VBA 89 times\", \"x\": [0.15674414490953906], \"y\": [0.8862456053694019], \"type\": \"scatter\", \"uid\": \"9d40f499-faae-47d3-9902-575289c7e6a8\"}, {\"hoverinfo\": \"text\", \"marker\": {\"color\": \"blue\", \"size\": 0.5}, \"mode\": \"markers\", \"text\": \"VBA appears with SSIS/SSRS 89 times\", \"x\": [0.8430620686246837], \"y\": [-0.31503388460016346], \"type\": \"scatter\", \"uid\": \"d9492c81-b644-45b2-bbe1-b04b0b776ca3\"}, {\"hoverinfo\": \"text\", \"marker\": {\"color\": \"green\", \"size\": 0.5}, \"mode\": \"markers\", \"text\": \"SSIS/SSRS appears with Linux 18 times\", \"x\": [0.25037493454775495], \"y\": [0.8644723200601667], \"type\": \"scatter\", \"uid\": \"3f6527a6-2462-4a39-8f94-000cfa7c7a2a\"}, {\"hoverinfo\": \"text\", \"marker\": {\"color\": \"blue\", \"size\": 0.5}, \"mode\": \"markers\", \"text\": \"Linux appears with SSIS/SSRS 18 times\", \"x\": [0.8699334120872049], \"y\": [-0.23068562706487244], \"type\": \"scatter\", \"uid\": \"3b8df4a7-fd22-476d-8792-d731bcb8ae43\"}, {\"hoverinfo\": \"text\", \"marker\": {\"color\": \"green\", \"size\": 0.5}, \"mode\": \"markers\", \"text\": \"SSIS/SSRS appears with AWS 31 times\", \"x\": [0.24576658480922406], \"y\": [0.8657937316654646], \"type\": \"scatter\", \"uid\": \"7ad90ced-006d-4879-8deb-09e0ed997ddc\"}, {\"hoverinfo\": \"text\", \"marker\": {\"color\": \"blue\", \"size\": 0.5}, \"mode\": \"markers\", \"text\": \"AWS appears with SSIS/SSRS 31 times\", \"x\": [0.8962316284023101], \"y\": [-0.08227313201369932], \"type\": \"scatter\", \"uid\": \"7e20e314-ed38-4eed-a73a-bfe052af1609\"}, {\"hoverinfo\": \"text\", \"marker\": {\"color\": \"green\", \"size\": 0.5}, \"mode\": \"markers\", \"text\": \"MS SQL Server appears with PostgreSQL 93 times\", \"x\": [-0.3158472500149711], \"y\": [0.8427576844253515], \"type\": \"scatter\", \"uid\": \"f3e13e24-bedd-471a-86f4-c49266b9dfcd\"}, {\"hoverinfo\": \"text\", \"marker\": {\"color\": \"blue\", \"size\": 0.5}, \"mode\": \"markers\", \"text\": \"PostgreSQL appears with MS SQL Server 93 times\", \"x\": [-0.6240313918011591], \"y\": [0.648525112888243], \"type\": \"scatter\", \"uid\": \"6ca3efe6-94e2-4275-9625-66212f16ccf5\"}, {\"hoverinfo\": \"text\", \"marker\": {\"color\": \"green\", \"size\": 0.5}, \"mode\": \"markers\", \"text\": \"MS SQL Server appears with MySQL/MariaDB 100 times\", \"x\": [-0.3331185902060275], \"y\": [0.8360813386621835], \"type\": \"scatter\", \"uid\": \"81941111-a94d-4643-b4ab-2e7b4a2b1475\"}, {\"hoverinfo\": \"text\", \"marker\": {\"color\": \"blue\", \"size\": 0.5}, \"mode\": \"markers\", \"text\": \"MySQL/MariaDB appears with MS SQL Server 100 times\", \"x\": [-0.7218363227353346], \"y\": [0.5375428570634438], \"type\": \"scatter\", \"uid\": \"5bc6ca84-cd1b-4e6a-a93c-74347267bd20\"}, {\"hoverinfo\": \"text\", \"marker\": {\"color\": \"green\", \"size\": 0.5}, \"mode\": \"markers\", \"text\": \"MS SQL Server appears with T-SQL 174 times\", \"x\": [-0.4183208428238862], \"y\": [0.7968736866399301], \"type\": \"scatter\", \"uid\": \"223e2a24-0920-49f7-82a6-87f8b310d0b8\"}, {\"hoverinfo\": \"text\", \"marker\": {\"color\": \"blue\", \"size\": 0.5}, \"mode\": \"markers\", \"text\": \"T-SQL appears with MS SQL Server 174 times\", \"x\": [-0.8412910306903095], \"y\": [0.3197333290103437], \"type\": \"scatter\", \"uid\": \"b993d682-1d0e-43e3-aa48-98c71a7c141c\"}, {\"hoverinfo\": \"text\", \"marker\": {\"color\": \"green\", \"size\": 0.5}, \"mode\": \"markers\", \"text\": \"MS SQL Server appears with PL/SQL 12 times\", \"x\": [-0.24245125891737587], \"y\": [0.8667279775393083], \"type\": \"scatter\", \"uid\": \"d6cd45ab-7c8c-467f-98d6-40be91771e73\"}, {\"hoverinfo\": \"text\", \"marker\": {\"color\": \"blue\", \"size\": 0.5}, \"mode\": \"markers\", \"text\": \"PL/SQL appears with MS SQL Server 12 times\", \"x\": [-0.867397382837243], \"y\": [0.2400453712261526], \"type\": \"scatter\", \"uid\": \"85b36086-4b87-43a5-9881-2f746a35850f\"}, {\"hoverinfo\": \"text\", \"marker\": {\"color\": \"green\", \"size\": 0.5}, \"mode\": \"markers\", \"text\": \"MS SQL Server appears with Pentaho 48 times\", \"x\": [-0.26949241570992716], \"y\": [0.8587047442950504], \"type\": \"scatter\", \"uid\": \"c5c2ac3c-56f9-43e2-ad83-41f0ab7d87f0\"}, {\"hoverinfo\": \"text\", \"marker\": {\"color\": \"blue\", \"size\": 0.5}, \"mode\": \"markers\", \"text\": \"Pentaho appears with MS SQL Server 48 times\", \"x\": [-0.8932583119874187], \"y\": [0.10995266283900244], \"type\": \"scatter\", \"uid\": \"5b60ca70-08e9-4ea7-941e-6f96589ffbbd\"}, {\"hoverinfo\": \"text\", \"marker\": {\"color\": \"green\", \"size\": 0.5}, \"mode\": \"markers\", \"text\": \"MS SQL Server appears with Hadoop 29 times\", \"x\": [-0.2552673336981966], \"y\": [0.8630403167561835], \"type\": \"scatter\", \"uid\": \"5ee86411-d131-44cc-901a-54f4db1bb449\"}, {\"hoverinfo\": \"text\", \"marker\": {\"color\": \"blue\", \"size\": 0.5}, \"mode\": \"markers\", \"text\": \"Hadoop appears with MS SQL Server 29 times\", \"x\": [-0.8993861131586527], \"y\": [0.03323581588243567], \"type\": \"scatter\", \"uid\": \"2e05238e-9eb3-4d84-a121-75adad48a5f3\"}, {\"hoverinfo\": \"text\", \"marker\": {\"color\": \"green\", \"size\": 0.5}, \"mode\": \"markers\", \"text\": \"MS SQL Server appears with Spark 29 times\", \"x\": [-0.24992627195406544], \"y\": [0.8646021388980845], \"type\": \"scatter\", \"uid\": \"0af7fa49-5df0-470e-9ab0-7c2dcb82b119\"}, {\"hoverinfo\": \"text\", \"marker\": {\"color\": \"blue\", \"size\": 0.5}, \"mode\": \"markers\", \"text\": \"Spark appears with MS SQL Server 29 times\", \"x\": [-0.8906955867749866], \"y\": [-0.12907893592512407], \"type\": \"scatter\", \"uid\": \"d1e499fe-8715-4134-b38e-b18d8873fe85\"}, {\"hoverinfo\": \"text\", \"marker\": {\"color\": \"green\", \"size\": 0.5}, \"mode\": \"markers\", \"text\": \"MS SQL Server appears with Informatica 64 times\", \"x\": [-0.2897372745480195], \"y\": [0.8520870329593602], \"type\": \"scatter\", \"uid\": \"b660a526-dd5d-4c16-a9f7-2901ca34d33c\"}, {\"hoverinfo\": \"text\", \"marker\": {\"color\": \"blue\", \"size\": 0.5}, \"mode\": \"markers\", \"text\": \"Informatica appears with MS SQL Server 64 times\", \"x\": [-0.8432085471431153], \"y\": [-0.3146416152145114], \"type\": \"scatter\", \"uid\": \"89238e66-45e2-4342-800b-13fd92597fac\"}, {\"hoverinfo\": \"text\", \"marker\": {\"color\": \"green\", \"size\": 0.5}, \"mode\": \"markers\", \"text\": \"MS SQL Server appears with Qlik 66 times\", \"x\": [-0.30151776188703544], \"y\": [0.8479899995086222], \"type\": \"scatter\", \"uid\": \"7aaf8b9e-a9dc-4e12-84de-ad91b5e62817\"}, {\"hoverinfo\": \"text\", \"marker\": {\"color\": \"blue\", \"size\": 0.5}, \"mode\": \"markers\", \"text\": \"Qlik appears with MS SQL Server 66 times\", \"x\": [-0.7687505664842916], \"y\": [-0.4679984685125377], \"type\": \"scatter\", \"uid\": \"16bfdc33-a9e7-4c44-a084-f5edbf93ef3c\"}, {\"hoverinfo\": \"text\", \"marker\": {\"color\": \"green\", \"size\": 0.5}, \"mode\": \"markers\", \"text\": \"MS SQL Server appears with Tableau 109 times\", \"x\": [-0.3516624965547883], \"y\": [0.8284524660575605], \"type\": \"scatter\", \"uid\": \"79252b21-d473-4f97-9ee2-4089a5bb9249\"}, {\"hoverinfo\": \"text\", \"marker\": {\"color\": \"blue\", \"size\": 0.5}, \"mode\": \"markers\", \"text\": \"Tableau appears with MS SQL Server 109 times\", \"x\": [-0.44356918654947064], \"y\": [-0.7831004895566347], \"type\": \"scatter\", \"uid\": \"faf20ead-aac0-45c2-987e-183cabf76fa4\"}, {\"hoverinfo\": \"text\", \"marker\": {\"color\": \"green\", \"size\": 0.5}, \"mode\": \"markers\", \"text\": \"MS SQL Server appears with Microstrategy 20 times\", \"x\": [-0.24540654165119188], \"y\": [0.86589585361913], \"type\": \"scatter\", \"uid\": \"035f9d20-47a0-4d86-948f-fc35e79fe18f\"}, {\"hoverinfo\": \"text\", \"marker\": {\"color\": \"blue\", \"size\": 0.5}, \"mode\": \"markers\", \"text\": \"Microstrategy appears with MS SQL Server 20 times\", \"x\": [-0.07801425855049145], \"y\": [-0.8966123886400506], \"type\": \"scatter\", \"uid\": \"c4f8d2b7-2922-4531-b614-76b207351f27\"}, {\"hoverinfo\": \"text\", \"marker\": {\"color\": \"green\", \"size\": 0.5}, \"mode\": \"markers\", \"text\": \"MS SQL Server appears with Oracle BI 180 times\", \"x\": [-0.4480881966209835], \"y\": [0.7805235217781428], \"type\": \"scatter\", \"uid\": \"87757a13-b9d3-4686-a77c-fe38765f041e\"}, {\"hoverinfo\": \"text\", \"marker\": {\"color\": \"blue\", \"size\": 0.5}, \"mode\": \"markers\", \"text\": \"Oracle BI appears with MS SQL Server 180 times\", \"x\": [0.23085673906391982], \"y\": [-0.8698880192466001], \"type\": \"scatter\", \"uid\": \"c8930113-6360-4ff4-a47d-8f5de3c10fa2\"}, {\"hoverinfo\": \"text\", \"marker\": {\"color\": \"green\", \"size\": 0.5}, \"mode\": \"markers\", \"text\": \"MS SQL Server appears with Python 115 times\", \"x\": [-0.37134325854643346], \"y\": [0.8198196047497991], \"type\": \"scatter\", \"uid\": \"d32ed2d8-d37f-4d04-812d-43a6d2c4a83e\"}, {\"hoverinfo\": \"text\", \"marker\": {\"color\": \"blue\", \"size\": 0.5}, \"mode\": \"markers\", \"text\": \"Python appears with MS SQL Server 115 times\", \"x\": [0.6678456865627], \"y\": [-0.6033093227686738], \"type\": \"scatter\", \"uid\": \"456bef3e-86b1-4224-99f7-eb2431dfe6a8\"}, {\"hoverinfo\": \"text\", \"marker\": {\"color\": \"green\", \"size\": 0.5}, \"mode\": \"markers\", \"text\": \"MS SQL Server appears with VBA 39 times\", \"x\": [-0.26151682549813604], \"y\": [0.8611672021050137], \"type\": \"scatter\", \"uid\": \"6b27db17-4ba8-465b-8787-f4e3ccf326b2\"}, {\"hoverinfo\": \"text\", \"marker\": {\"color\": \"blue\", \"size\": 0.5}, \"mode\": \"markers\", \"text\": \"VBA appears with MS SQL Server 39 times\", \"x\": [0.8217075738010914], \"y\": [-0.3671466507513368], \"type\": \"scatter\", \"uid\": \"e3ae2178-6ca5-4f8a-91d5-93fb707271b8\"}, {\"hoverinfo\": \"text\", \"marker\": {\"color\": \"green\", \"size\": 0.5}, \"mode\": \"markers\", \"text\": \"MS SQL Server appears with Linux 55 times\", \"x\": [-0.278904759220636], \"y\": [0.855693949542755], \"type\": \"scatter\", \"uid\": \"152a2202-3a30-4b2e-ac6e-eb6d951becc8\"}, {\"hoverinfo\": \"text\", \"marker\": {\"color\": \"blue\", \"size\": 0.5}, \"mode\": \"markers\", \"text\": \"Linux appears with MS SQL Server 55 times\", \"x\": [0.8793108501546172], \"y\": [-0.1918656529980402], \"type\": \"scatter\", \"uid\": \"4b2ed766-4345-43b8-915b-40d713601ee4\"}, {\"hoverinfo\": \"text\", \"marker\": {\"color\": \"green\", \"size\": 0.5}, \"mode\": \"markers\", \"text\": \"MS SQL Server appears with AWS 10 times\", \"x\": [-0.2404178632958319], \"y\": [0.8672942124840144], \"type\": \"scatter\", \"uid\": \"9baf23bd-496d-469d-8a53-ed1bdee42e46\"}, {\"hoverinfo\": \"text\", \"marker\": {\"color\": \"blue\", \"size\": 0.5}, \"mode\": \"markers\", \"text\": \"AWS appears with MS SQL Server 10 times\", \"x\": [0.8948639103788533], \"y\": [-0.09601344646177283], \"type\": \"scatter\", \"uid\": \"566fa995-1a43-43ec-a33f-f2b438b45bc2\"}, {\"hoverinfo\": \"text\", \"marker\": {\"color\": \"green\", \"size\": 0.5}, \"mode\": \"markers\", \"text\": \"PostgreSQL appears with MySQL/MariaDB 106 times\", \"x\": [-0.6353891406852012], \"y\": [0.6374014746604542], \"type\": \"scatter\", \"uid\": \"9ad759ec-aafb-4d6a-81cd-3c2b8d660679\"}, {\"hoverinfo\": \"text\", \"marker\": {\"color\": \"blue\", \"size\": 0.5}, \"mode\": \"markers\", \"text\": \"MySQL/MariaDB appears with PostgreSQL 106 times\", \"x\": [-0.732370135715278], \"y\": [0.5231003577826967], \"type\": \"scatter\", \"uid\": \"2042f88c-b36b-49a5-a74b-01750c34b923\"}, {\"hoverinfo\": \"text\", \"marker\": {\"color\": \"green\", \"size\": 0.5}, \"mode\": \"markers\", \"text\": \"PostgreSQL appears with T-SQL 39 times\", \"x\": [-0.5832870469582506], \"y\": [0.6854022328900917], \"type\": \"scatter\", \"uid\": \"db0b79d4-412f-4e84-9732-34d6b53e2184\"}, {\"hoverinfo\": \"text\", \"marker\": {\"color\": \"blue\", \"size\": 0.5}, \"mode\": \"markers\", \"text\": \"T-SQL appears with PostgreSQL 39 times\", \"x\": [-0.7799020777385773], \"y\": [0.44916895389045985], \"type\": \"scatter\", \"uid\": \"19fd88cc-b5a0-406c-9a4d-ce0b09dfee7e\"}, {\"hoverinfo\": \"text\", \"marker\": {\"color\": \"green\", \"size\": 0.5}, \"mode\": \"markers\", \"text\": \"PostgreSQL appears with PL/SQL 2 times\", \"x\": [-0.5718301869238022], \"y\": [0.6949893792876908], \"type\": \"scatter\", \"uid\": \"e4e1f27b-c5c0-43eb-b130-4365f6601f63\"}, {\"hoverinfo\": \"text\", \"marker\": {\"color\": \"blue\", \"size\": 0.5}, \"mode\": \"markers\", \"text\": \"PL/SQL appears with PostgreSQL 2 times\", \"x\": [-0.8659907512548696], \"y\": [0.24507145639797942], \"type\": \"scatter\", \"uid\": \"6bfc6fc4-7219-4773-9ae5-96795d6f2dcb\"}, {\"hoverinfo\": \"text\", \"marker\": {\"color\": \"green\", \"size\": 0.5}, \"mode\": \"markers\", \"text\": \"PostgreSQL appears with Pentaho 49 times\", \"x\": [-0.5999020928508776], \"y\": [0.6709079512072703], \"type\": \"scatter\", \"uid\": \"6fa5b030-8a01-4042-9746-f46f513a8c67\"}, {\"hoverinfo\": \"text\", \"marker\": {\"color\": \"blue\", \"size\": 0.5}, \"mode\": \"markers\", \"text\": \"Pentaho appears with PostgreSQL 49 times\", \"x\": [-0.8941655494698253], \"y\": [0.10231309858139122], \"type\": \"scatter\", \"uid\": \"866945c9-30bf-4eeb-8652-835106ac9fa9\"}, {\"hoverinfo\": \"text\", \"marker\": {\"color\": \"green\", \"size\": 0.5}, \"mode\": \"markers\", \"text\": \"PostgreSQL appears with Hadoop 4 times\", \"x\": [-0.5722002501616011], \"y\": [0.694684729726371], \"type\": \"scatter\", \"uid\": \"87d096f0-8943-47c7-a54e-525c58651700\"}, {\"hoverinfo\": \"text\", \"marker\": {\"color\": \"blue\", \"size\": 0.5}, \"mode\": \"markers\", \"text\": \"Hadoop appears with PostgreSQL 4 times\", \"x\": [-0.8987415050762436], \"y\": [0.047578430546712965], \"type\": \"scatter\", \"uid\": \"d5712c51-7aea-4b7b-893e-c4f5ef8c28e3\"}, {\"hoverinfo\": \"text\", \"marker\": {\"color\": \"green\", \"size\": 0.5}, \"mode\": \"markers\", \"text\": \"PostgreSQL appears with Spark 13 times\", \"x\": [-0.5747246662288981], \"y\": [0.69259768843686], \"type\": \"scatter\", \"uid\": \"82f00b2b-73b5-45fe-95ca-e303b9d5e256\"}, {\"hoverinfo\": \"text\", \"marker\": {\"color\": \"blue\", \"size\": 0.5}, \"mode\": \"markers\", \"text\": \"Spark appears with PostgreSQL 13 times\", \"x\": [-0.8930374496782166], \"y\": [-0.11173232957486688], \"type\": \"scatter\", \"uid\": \"5c5673be-0684-471e-be85-1b3e5689dedd\"}, {\"hoverinfo\": \"text\", \"marker\": {\"color\": \"green\", \"size\": 0.5}, \"mode\": \"markers\", \"text\": \"PostgreSQL appears with Informatica 2 times\", \"x\": [-0.5715833879805652], \"y\": [0.695192369481037], \"type\": \"scatter\", \"uid\": \"a0bebfd3-f481-4efd-93b9-ba6c45bf8289\"}, {\"hoverinfo\": \"text\", \"marker\": {\"color\": \"blue\", \"size\": 0.5}, \"mode\": \"markers\", \"text\": \"Informatica appears with PostgreSQL 2 times\", \"x\": [-0.8570389265985403], \"y\": [-0.2747440232194722], \"type\": \"scatter\", \"uid\": \"ca583736-8ccd-4ffc-a5c5-0e8994df0211\"}, {\"hoverinfo\": \"text\", \"marker\": {\"color\": \"green\", \"size\": 0.5}, \"mode\": \"markers\", \"text\": \"PostgreSQL appears with Qlik 14 times\", \"x\": [-0.5763829315879712], \"y\": [0.6912182840275973], \"type\": \"scatter\", \"uid\": \"e8f07543-d89b-4619-9df2-6f8ec795ce10\"}, {\"hoverinfo\": \"text\", \"marker\": {\"color\": \"blue\", \"size\": 0.5}, \"mode\": \"markers\", \"text\": \"Qlik appears with PostgreSQL 14 times\", \"x\": [-0.792753718411526], \"y\": [-0.4260769202206321], \"type\": \"scatter\", \"uid\": \"c39e3822-c88a-41c7-9c51-8d611f6293fd\"}, {\"hoverinfo\": \"text\", \"marker\": {\"color\": \"green\", \"size\": 0.5}, \"mode\": \"markers\", \"text\": \"PostgreSQL appears with Tableau 6 times\", \"x\": [-0.5728166614932944], \"y\": [0.6941765426141081], \"type\": \"scatter\", \"uid\": \"7276a486-ce56-435b-8ea7-6fe3e6f4e62c\"}, {\"hoverinfo\": \"text\", \"marker\": {\"color\": \"blue\", \"size\": 0.5}, \"mode\": \"markers\", \"text\": \"Tableau appears with PostgreSQL 6 times\", \"x\": [-0.5419906171570047], \"y\": [-0.7185027285360643], \"type\": \"scatter\", \"uid\": \"5defe310-aa39-4ba2-b1a7-4cd8c16f186d\"}, {\"hoverinfo\": \"text\", \"marker\": {\"color\": \"green\", \"size\": 0.5}, \"mode\": \"markers\", \"text\": \"PostgreSQL appears with Oracle BI 47 times\", \"x\": [-0.5941632799832475], \"y\": [0.6759955596892253], \"type\": \"scatter\", \"uid\": \"3930460d-87be-4714-9290-85431dfa6b90\"}, {\"hoverinfo\": \"text\", \"marker\": {\"color\": \"blue\", \"size\": 0.5}, \"mode\": \"markers\", \"text\": \"Oracle BI appears with PostgreSQL 47 times\", \"x\": [0.02732521301925816], \"y\": [-0.8995850892124948], \"type\": \"scatter\", \"uid\": \"79e7507d-00d1-4450-b6a0-1ecdf886bda8\"}, {\"hoverinfo\": \"text\", \"marker\": {\"color\": \"green\", \"size\": 0.5}, \"mode\": \"markers\", \"text\": \"PostgreSQL appears with Python 30 times\", \"x\": [-0.579078191933814], \"y\": [0.6889618622439597], \"type\": \"scatter\", \"uid\": \"21a0608e-4f62-42c6-aaaa-af0233f4d957\"}, {\"hoverinfo\": \"text\", \"marker\": {\"color\": \"blue\", \"size\": 0.5}, \"mode\": \"markers\", \"text\": \"Python appears with PostgreSQL 30 times\", \"x\": [0.5766292454278156], \"y\": [-0.6910128170427435], \"type\": \"scatter\", \"uid\": \"7dec1515-4151-4ed1-b8f7-d618977971cb\"}, {\"hoverinfo\": \"text\", \"marker\": {\"color\": \"green\", \"size\": 0.5}, \"mode\": \"markers\", \"text\": \"PostgreSQL appears with Linux 47 times\", \"x\": [-0.5885022169502367], \"y\": [0.6809296150445041], \"type\": \"scatter\", \"uid\": \"ad241977-dc3c-4be1-b773-eda4488e5231\"}, {\"hoverinfo\": \"text\", \"marker\": {\"color\": \"blue\", \"size\": 0.5}, \"mode\": \"markers\", \"text\": \"Linux appears with PostgreSQL 47 times\", \"x\": [0.8756751136144596], \"y\": [-0.2078294863495151], \"type\": \"scatter\", \"uid\": \"355775f4-37b2-4795-a845-59a7c5271aa2\"}, {\"hoverinfo\": \"text\", \"marker\": {\"color\": \"green\", \"size\": 0.5}, \"mode\": \"markers\", \"text\": \"PostgreSQL appears with AWS 6 times\", \"x\": [-0.5735557592863754], \"y\": [0.6935659961311753], \"type\": \"scatter\", \"uid\": \"a8e776e8-ed29-4672-9bc0-6bd184348c32\"}, {\"hoverinfo\": \"text\", \"marker\": {\"color\": \"blue\", \"size\": 0.5}, \"mode\": \"markers\", \"text\": \"AWS appears with PostgreSQL 6 times\", \"x\": [0.8947357195888348], \"y\": [-0.09720078236233524], \"type\": \"scatter\", \"uid\": \"fa3e0868-08c6-4c5a-8f83-c28a8e438bc8\"}, {\"hoverinfo\": \"text\", \"marker\": {\"color\": \"green\", \"size\": 0.5}, \"mode\": \"markers\", \"text\": \"MySQL/MariaDB appears with T-SQL 40 times\", \"x\": [-0.6719550924011355], \"y\": [0.5987289485202645], \"type\": \"scatter\", \"uid\": \"cb9b3734-db2b-4b4b-804d-5ae478c192cd\"}, {\"hoverinfo\": \"text\", \"marker\": {\"color\": \"blue\", \"size\": 0.5}, \"mode\": \"markers\", \"text\": \"T-SQL appears with MySQL/MariaDB 40 times\", \"x\": [-0.7835033812586332], \"y\": [0.44285714576631696], \"type\": \"scatter\", \"uid\": \"51cd99e5-8ab8-4022-b359-e4c218bac293\"}, {\"hoverinfo\": \"text\", \"marker\": {\"color\": \"green\", \"size\": 0.5}, \"mode\": \"markers\", \"text\": \"MySQL/MariaDB appears with Pentaho 67 times\", \"x\": [-0.6960290470703405], \"y\": [0.5705642519772456], \"type\": \"scatter\", \"uid\": \"d1f93982-2355-4d52-98c1-aa1ceb2b989e\"}, {\"hoverinfo\": \"text\", \"marker\": {\"color\": \"blue\", \"size\": 0.5}, \"mode\": \"markers\", \"text\": \"Pentaho appears with MySQL/MariaDB 67 times\", \"x\": [-0.8951647019515406], \"y\": [0.09316735683708906], \"type\": \"scatter\", \"uid\": \"442ab6e8-31d8-466f-ace0-c00bc9427092\"}, {\"hoverinfo\": \"text\", \"marker\": {\"color\": \"green\", \"size\": 0.5}, \"mode\": \"markers\", \"text\": \"MySQL/MariaDB appears with Hadoop 6 times\", \"x\": [-0.6626388377083272], \"y\": [0.6090236208560037], \"type\": \"scatter\", \"uid\": \"094da4fc-2d92-4b49-a30f-a01ed6d912a3\"}, {\"hoverinfo\": \"text\", \"marker\": {\"color\": \"blue\", \"size\": 0.5}, \"mode\": \"markers\", \"text\": \"Hadoop appears with MySQL/MariaDB 6 times\", \"x\": [-0.8988297252959813], \"y\": [0.045881640384264157], \"type\": \"scatter\", \"uid\": \"3ccf5ba1-ad45-4545-b9e4-98622c1cbdc0\"}, {\"hoverinfo\": \"text\", \"marker\": {\"color\": \"green\", \"size\": 0.5}, \"mode\": \"markers\", \"text\": \"MySQL/MariaDB appears with Spark 29 times\", \"x\": [-0.6679569407004614], \"y\": [0.6031861448757592], \"type\": \"scatter\", \"uid\": \"6a42ef31-bb87-481f-8dd5-e94f626aa5fe\"}, {\"hoverinfo\": \"text\", \"marker\": {\"color\": \"blue\", \"size\": 0.5}, \"mode\": \"markers\", \"text\": \"Spark appears with MySQL/MariaDB 29 times\", \"x\": [-0.8899608718854545], \"y\": [-0.13405091015312748], \"type\": \"scatter\", \"uid\": \"a1dd63ef-b4d8-4602-a467-91b1d09ed794\"}, {\"hoverinfo\": \"text\", \"marker\": {\"color\": \"green\", \"size\": 0.5}, \"mode\": \"markers\", \"text\": \"MySQL/MariaDB appears with Informatica 11 times\", \"x\": [-0.6636362166771111], \"y\": [0.607936651234724], \"type\": \"scatter\", \"uid\": \"f5619b3b-ff3e-471f-b423-d19d678bd624\"}, {\"hoverinfo\": \"text\", \"marker\": {\"color\": \"blue\", \"size\": 0.5}, \"mode\": \"markers\", \"text\": \"Informatica appears with MySQL/MariaDB 11 times\", \"x\": [-0.8555919174959817], \"y\": [-0.279217604594605], \"type\": \"scatter\", \"uid\": \"25bfa2cc-4d01-41d2-9080-586467021ea5\"}, {\"hoverinfo\": \"text\", \"marker\": {\"color\": \"green\", \"size\": 0.5}, \"mode\": \"markers\", \"text\": \"MySQL/MariaDB appears with Qlik 17 times\", \"x\": [-0.665275070379435], \"y\": [0.6061427890618165], \"type\": \"scatter\", \"uid\": \"ff2b13ea-9ec7-42dd-bbbc-190f9b7f8472\"}, {\"hoverinfo\": \"text\", \"marker\": {\"color\": \"blue\", \"size\": 0.5}, \"mode\": \"markers\", \"text\": \"Qlik appears with MySQL/MariaDB 17 times\", \"x\": [-0.7898653357645787], \"y\": [-0.43140787122804014], \"type\": \"scatter\", \"uid\": \"9b9c786a-c3af-4226-8e7b-b2e6d6f8505c\"}, {\"hoverinfo\": \"text\", \"marker\": {\"color\": \"green\", \"size\": 0.5}, \"mode\": \"markers\", \"text\": \"MySQL/MariaDB appears with Tableau 52 times\", \"x\": [-0.6826971816296307], \"y\": [0.5864508148131087], \"type\": \"scatter\", \"uid\": \"027f7fd1-bdbd-495b-b55b-2a68e85a14ae\"}, {\"hoverinfo\": \"text\", \"marker\": {\"color\": \"blue\", \"size\": 0.5}, \"mode\": \"markers\", \"text\": \"Tableau appears with MySQL/MariaDB 52 times\", \"x\": [-0.5073647757987012], \"y\": [-0.7433579112908758], \"type\": \"scatter\", \"uid\": \"52114d7b-d26b-4e5f-825d-a0aa2c1b8401\"}, {\"hoverinfo\": \"text\", \"marker\": {\"color\": \"green\", \"size\": 0.5}, \"mode\": \"markers\", \"text\": \"MySQL/MariaDB appears with Oracle BI 74 times\", \"x\": [-0.703721390933376], \"y\": [0.5610491992176753], \"type\": \"scatter\", \"uid\": \"636f8805-9a2c-4506-b7c2-3aee608f9a3c\"}, {\"hoverinfo\": \"text\", \"marker\": {\"color\": \"blue\", \"size\": 0.5}, \"mode\": \"markers\", \"text\": \"Oracle BI appears with MySQL/MariaDB 74 times\", \"x\": [0.052361167041179026], \"y\": [-0.8984755467936152], \"type\": \"scatter\", \"uid\": \"79548ccf-a828-4350-bfb0-7bf5a563cce2\"}, {\"hoverinfo\": \"text\", \"marker\": {\"color\": \"green\", \"size\": 0.5}, \"mode\": \"markers\", \"text\": \"MySQL/MariaDB appears with Python 60 times\", \"x\": [-0.6889903231493353], \"y\": [0.5790443287059935], \"type\": \"scatter\", \"uid\": \"67cbf3c1-0a22-42ea-806d-08ae4332dbdb\"}, {\"hoverinfo\": \"text\", \"marker\": {\"color\": \"blue\", \"size\": 0.5}, \"mode\": \"markers\", \"text\": \"Python appears with MySQL/MariaDB 60 times\", \"x\": [0.6082297120756853], \"y\": [-0.6633676336303489], \"type\": \"scatter\", \"uid\": \"4541283d-cc29-467d-8928-07bd1b7a2ade\"}, {\"hoverinfo\": \"text\", \"marker\": {\"color\": \"green\", \"size\": 0.5}, \"mode\": \"markers\", \"text\": \"MySQL/MariaDB appears with VBA 5 times\", \"x\": [-0.6614043236405894], \"y\": [0.6103640886139473], \"type\": \"scatter\", \"uid\": \"f13109d2-b43e-4874-ac8e-eaaadd51bae6\"}, {\"hoverinfo\": \"text\", \"marker\": {\"color\": \"blue\", \"size\": 0.5}, \"mode\": \"markers\", \"text\": \"VBA appears with MySQL/MariaDB 5 times\", \"x\": [0.8133591054434386], \"y\": [-0.3852881591643448], \"type\": \"scatter\", \"uid\": \"b2e56a61-3cac-43c2-af7f-5852a1ae4512\"}, {\"hoverinfo\": \"text\", \"marker\": {\"color\": \"green\", \"size\": 0.5}, \"mode\": \"markers\", \"text\": \"MySQL/MariaDB appears with Linux 48 times\", \"x\": [-0.6770110070518606], \"y\": [0.593005983385181], \"type\": \"scatter\", \"uid\": \"2ad821fb-8883-4914-8a2b-f4c8e9669c4a\"}, {\"hoverinfo\": \"text\", \"marker\": {\"color\": \"blue\", \"size\": 0.5}, \"mode\": \"markers\", \"text\": \"Linux appears with MySQL/MariaDB 48 times\", \"x\": [0.877455774487229], \"y\": [-0.20017833004353205], \"type\": \"scatter\", \"uid\": \"e7bcb024-5369-4cae-904a-bcdaec59bbe0\"}, {\"hoverinfo\": \"text\", \"marker\": {\"color\": \"green\", \"size\": 0.5}, \"mode\": \"markers\", \"text\": \"MySQL/MariaDB appears with AWS 2 times\", \"x\": [-0.6609922161102467], \"y\": [0.6108103553818198], \"type\": \"scatter\", \"uid\": \"cbcf3098-8c71-4cac-9bbd-c461e8c8f0c1\"}, {\"hoverinfo\": \"text\", \"marker\": {\"color\": \"blue\", \"size\": 0.5}, \"mode\": \"markers\", \"text\": \"AWS appears with MySQL/MariaDB 2 times\", \"x\": [0.894441530614386], \"y\": [-0.09987165920417268], \"type\": \"scatter\", \"uid\": \"87f4bb3a-fd74-4e4b-8a81-9a39b7aea18d\"}, {\"hoverinfo\": \"text\", \"marker\": {\"color\": \"green\", \"size\": 0.5}, \"mode\": \"markers\", \"text\": \"T-SQL appears with PL/SQL 44 times\", \"x\": [-0.7909039641988963], \"y\": [0.4295007792943698], \"type\": \"scatter\", \"uid\": \"18961233-fab3-42ce-a906-ff442e796bc8\"}, {\"hoverinfo\": \"text\", \"marker\": {\"color\": \"blue\", \"size\": 0.5}, \"mode\": \"markers\", \"text\": \"PL/SQL appears with T-SQL 44 times\", \"x\": [-0.8718087947262919], \"y\": [0.22349368097977668], \"type\": \"scatter\", \"uid\": \"40e04e7a-0638-4f0d-aae4-d952b46f89ed\"}, {\"hoverinfo\": \"text\", \"marker\": {\"color\": \"green\", \"size\": 0.5}, \"mode\": \"markers\", \"text\": \"T-SQL appears with Pentaho 41 times\", \"x\": [-0.7871428179859365], \"y\": [0.43635557071402076], \"type\": \"scatter\", \"uid\": \"913faad8-5456-4529-b8ff-4342b25601c2\"}, {\"hoverinfo\": \"text\", \"marker\": {\"color\": \"blue\", \"size\": 0.5}, \"mode\": \"markers\", \"text\": \"Pentaho appears with T-SQL 41 times\", \"x\": [-0.892368479502829], \"y\": [0.11695510587319011], \"type\": \"scatter\", \"uid\": \"fb8e7095-4290-4dce-b2f4-754ba8dc6e0f\"}, {\"hoverinfo\": \"text\", \"marker\": {\"color\": \"green\", \"size\": 0.5}, \"mode\": \"markers\", \"text\": \"T-SQL appears with Hadoop 19 times\", \"x\": [-0.7701776111659816], \"y\": [0.4656462683826234], \"type\": \"scatter\", \"uid\": \"fb2c643c-4df0-44a0-83e2-0d638ddfde5f\"}, {\"hoverinfo\": \"text\", \"marker\": {\"color\": \"blue\", \"size\": 0.5}, \"mode\": \"markers\", \"text\": \"Hadoop appears with T-SQL 19 times\", \"x\": [-0.899063576850737], \"y\": [0.04104491174748483], \"type\": \"scatter\", \"uid\": \"afd7e7d5-90f7-4765-a631-63ed3475355f\"}, {\"hoverinfo\": \"text\", \"marker\": {\"color\": \"green\", \"size\": 0.5}, \"mode\": \"markers\", \"text\": \"T-SQL appears with Spark 20 times\", \"x\": [-0.7720275964657278], \"y\": [0.46257257840835225], \"type\": \"scatter\", \"uid\": \"133790b0-e1be-4fcc-89ca-60a390e095a8\"}, {\"hoverinfo\": \"text\", \"marker\": {\"color\": \"blue\", \"size\": 0.5}, \"mode\": \"markers\", \"text\": \"Spark appears with T-SQL 20 times\", \"x\": [-0.8919781032324227], \"y\": [-0.11989605228651073], \"type\": \"scatter\", \"uid\": \"2b691873-086c-40e0-9f12-0ba6ee26b9d8\"}, {\"hoverinfo\": \"text\", \"marker\": {\"color\": \"green\", \"size\": 0.5}, \"mode\": \"markers\", \"text\": \"T-SQL appears with Informatica 13 times\", \"x\": [-0.7670190045296111], \"y\": [0.47083101712865566], \"type\": \"scatter\", \"uid\": \"2021837f-dec5-4b1d-b270-84f02d8f6cae\"}, {\"hoverinfo\": \"text\", \"marker\": {\"color\": \"blue\", \"size\": 0.5}, \"mode\": \"markers\", \"text\": \"Informatica appears with T-SQL 13 times\", \"x\": [-0.854953175037561], \"y\": [-0.2811673318385224], \"type\": \"scatter\", \"uid\": \"31263a66-dc0d-4207-bf97-d16feaac7d53\"}, {\"hoverinfo\": \"text\", \"marker\": {\"color\": \"green\", \"size\": 0.5}, \"mode\": \"markers\", \"text\": \"T-SQL appears with Qlik 76 times\", \"x\": [-0.8042783625625611], \"y\": [0.403901368546438], \"type\": \"scatter\", \"uid\": \"ebd1173c-2734-49bc-bcae-c5cc02ac65b6\"}, {\"hoverinfo\": \"text\", \"marker\": {\"color\": \"blue\", \"size\": 0.5}, \"mode\": \"markers\", \"text\": \"Qlik appears with T-SQL 76 times\", \"x\": [-0.7615558271887578], \"y\": [-0.4796172662392867], \"type\": \"scatter\", \"uid\": \"1e0c6c0f-a884-4661-af95-749ca369e878\"}, {\"hoverinfo\": \"text\", \"marker\": {\"color\": \"green\", \"size\": 0.5}, \"mode\": \"markers\", \"text\": \"T-SQL appears with Tableau 100 times\", \"x\": [-0.8114134342162918], \"y\": [0.3893690264688805], \"type\": \"scatter\", \"uid\": \"ef39bb6f-6d42-4ff5-ad09-1600e3ceafb2\"}, {\"hoverinfo\": \"text\", \"marker\": {\"color\": \"blue\", \"size\": 0.5}, \"mode\": \"markers\", \"text\": \"Tableau appears with T-SQL 100 times\", \"x\": [-0.4612328772379685], \"y\": [-0.7728287216161063], \"type\": \"scatter\", \"uid\": \"27233049-6a81-4402-b568-34d106b1a842\"}, {\"hoverinfo\": \"text\", \"marker\": {\"color\": \"green\", \"size\": 0.5}, \"mode\": \"markers\", \"text\": \"T-SQL appears with Microstrategy 17 times\", \"x\": [-0.7684590702632016], \"y\": [0.46847695496173103], \"type\": \"scatter\", \"uid\": \"974d1b5b-6a2f-40d9-92ef-fa6708922522\"}, {\"hoverinfo\": \"text\", \"marker\": {\"color\": \"blue\", \"size\": 0.5}, \"mode\": \"markers\", \"text\": \"Microstrategy appears with T-SQL 17 times\", \"x\": [-0.0830618293811153], \"y\": [-0.896158876818091], \"type\": \"scatter\", \"uid\": \"7596e96a-507c-4399-b8e8-a9ba2963a01a\"}, {\"hoverinfo\": \"text\", \"marker\": {\"color\": \"green\", \"size\": 0.5}, \"mode\": \"markers\", \"text\": \"T-SQL appears with Oracle BI 144 times\", \"x\": [-0.8304565718605984], \"y\": [0.3469032750689199], \"type\": \"scatter\", \"uid\": \"c941661f-6902-4645-8ed3-ee2dbf874ee4\"}, {\"hoverinfo\": \"text\", \"marker\": {\"color\": \"blue\", \"size\": 0.5}, \"mode\": \"markers\", \"text\": \"Oracle BI appears with T-SQL 144 times\", \"x\": [0.13391059415209106], \"y\": [-0.8899819957582479], \"type\": \"scatter\", \"uid\": \"c518fe11-b173-4e6c-b196-0dff136ceabd\"}, {\"hoverinfo\": \"text\", \"marker\": {\"color\": \"green\", \"size\": 0.5}, \"mode\": \"markers\", \"text\": \"T-SQL appears with Python 50 times\", \"x\": [-0.799010314141559], \"y\": [0.4142252019076185], \"type\": \"scatter\", \"uid\": \"46c7da50-1c9a-4da3-be93-7b7cc3c4fddf\"}, {\"hoverinfo\": \"text\", \"marker\": {\"color\": \"blue\", \"size\": 0.5}, \"mode\": \"markers\", \"text\": \"Python appears with T-SQL 50 times\", \"x\": [0.5925907114826784], \"y\": [-0.677374526140785], \"type\": \"scatter\", \"uid\": \"c2aa1c14-b612-489d-8a42-238431cb4839\"}, {\"hoverinfo\": \"text\", \"marker\": {\"color\": \"green\", \"size\": 0.5}, \"mode\": \"markers\", \"text\": \"T-SQL appears with VBA 27 times\", \"x\": [-0.7742407641597595], \"y\": [0.4588586264998312], \"type\": \"scatter\", \"uid\": \"4bd4c8d6-5baa-4f32-9221-787ef342a1cb\"}, {\"hoverinfo\": \"text\", \"marker\": {\"color\": \"blue\", \"size\": 0.5}, \"mode\": \"markers\", \"text\": \"VBA appears with T-SQL 27 times\", \"x\": [0.8171907571744609], \"y\": [-0.37709317998159453], \"type\": \"scatter\", \"uid\": \"243f694c-b486-4e85-b87a-6ad90194e3da\"}, {\"hoverinfo\": \"text\", \"marker\": {\"color\": \"green\", \"size\": 0.5}, \"mode\": \"markers\", \"text\": \"T-SQL appears with Linux 28 times\", \"x\": [-0.7768079507801132], \"y\": [0.45449907327166383], \"type\": \"scatter\", \"uid\": \"814c51b8-9b56-4eb7-a7fc-1b672371a7a4\"}, {\"hoverinfo\": \"text\", \"marker\": {\"color\": \"blue\", \"size\": 0.5}, \"mode\": \"markers\", \"text\": \"Linux appears with T-SQL 28 times\", \"x\": [0.8727479659313977], \"y\": [-0.21979760681728977], \"type\": \"scatter\", \"uid\": \"2a46b4a2-cfbe-4fdf-b232-596e77a781e5\"}, {\"hoverinfo\": \"text\", \"marker\": {\"color\": \"green\", \"size\": 0.5}, \"mode\": \"markers\", \"text\": \"T-SQL appears with AWS 10 times\", \"x\": [-0.7659100697639649], \"y\": [0.4726328014792862], \"type\": \"scatter\", \"uid\": \"99cb2686-c04a-4e76-b3bb-fd58c0245b07\"}, {\"hoverinfo\": \"text\", \"marker\": {\"color\": \"blue\", \"size\": 0.5}, \"mode\": \"markers\", \"text\": \"AWS appears with T-SQL 10 times\", \"x\": [0.895021933120764], \"y\": [-0.09452903909789238], \"type\": \"scatter\", \"uid\": \"6d621f9b-dc27-4fe2-8dd9-82d7b084f6c5\"}, {\"hoverinfo\": \"text\", \"marker\": {\"color\": \"green\", \"size\": 0.5}, \"mode\": \"markers\", \"text\": \"PL/SQL appears with Pentaho 8 times\", \"x\": [-0.8666435875649555], \"y\": [0.24275273867156122], \"type\": \"scatter\", \"uid\": \"57d86ec2-eee2-4592-a66b-f47035ce36b1\"}, {\"hoverinfo\": \"text\", \"marker\": {\"color\": \"blue\", \"size\": 0.5}, \"mode\": \"markers\", \"text\": \"Pentaho appears with PL/SQL 8 times\", \"x\": [-0.8846645146220857], \"y\": [0.1654348710776222], \"type\": \"scatter\", \"uid\": \"0bf380ce-c12f-41fd-ab27-e0516d6f04b5\"}, {\"hoverinfo\": \"text\", \"marker\": {\"color\": \"green\", \"size\": 0.5}, \"mode\": \"markers\", \"text\": \"PL/SQL appears with Hadoop 3 times\", \"x\": [-0.8661908874243198], \"y\": [0.2443631448133478], \"type\": \"scatter\", \"uid\": \"1068c882-23a9-456f-88b3-ab71b6d6f92e\"}, {\"hoverinfo\": \"text\", \"marker\": {\"color\": \"blue\", \"size\": 0.5}, \"mode\": \"markers\", \"text\": \"Hadoop appears with PL/SQL 3 times\", \"x\": [-0.8987098712366473], \"y\": [0.048172267351754554], \"type\": \"scatter\", \"uid\": \"0e0ed4a4-f54e-4b62-8752-e2fcca1a42ad\"}, {\"hoverinfo\": \"text\", \"marker\": {\"color\": \"green\", \"size\": 0.5}, \"mode\": \"markers\", \"text\": \"PL/SQL appears with Informatica 32 times\", \"x\": [-0.8705320479343438], \"y\": [0.22841618488898163], \"type\": \"scatter\", \"uid\": \"566e4f9d-c6a9-4359-b892-bfa50346fffd\"}, {\"hoverinfo\": \"text\", \"marker\": {\"color\": \"blue\", \"size\": 0.5}, \"mode\": \"markers\", \"text\": \"Informatica appears with PL/SQL 32 times\", \"x\": [-0.8481218975897333], \"y\": [-0.3011465537388565], \"type\": \"scatter\", \"uid\": \"88132e94-1fa8-444f-9e46-cd80321962cb\"}, {\"hoverinfo\": \"text\", \"marker\": {\"color\": \"green\", \"size\": 0.5}, \"mode\": \"markers\", \"text\": \"PL/SQL appears with Qlik 20 times\", \"x\": [-0.8679660266036088], \"y\": [0.237981042652442], \"type\": \"scatter\", \"uid\": \"2cfdd9aa-a142-48cd-8bbc-e4bf77ec732b\"}, {\"hoverinfo\": \"text\", \"marker\": {\"color\": \"blue\", \"size\": 0.5}, \"mode\": \"markers\", \"text\": \"Qlik appears with PL/SQL 20 times\", \"x\": [-0.788152266389967], \"y\": [-0.4345296364856583], \"type\": \"scatter\", \"uid\": \"c6e55387-f365-4527-be8a-56387a289ebd\"}, {\"hoverinfo\": \"text\", \"marker\": {\"color\": \"green\", \"size\": 0.5}, \"mode\": \"markers\", \"text\": \"PL/SQL appears with Tableau 22 times\", \"x\": [-0.8687049153158289], \"y\": [0.23526956901843135], \"type\": \"scatter\", \"uid\": \"f72e859e-f411-4106-a0d2-01086b6fbe9c\"}, {\"hoverinfo\": \"text\", \"marker\": {\"color\": \"blue\", \"size\": 0.5}, \"mode\": \"markers\", \"text\": \"Tableau appears with PL/SQL 22 times\", \"x\": [-0.5368252864446185], \"y\": [-0.7223701349264471], \"type\": \"scatter\", \"uid\": \"acdeaed3-3fe4-4f87-959e-7595dd2a0a67\"}, {\"hoverinfo\": \"text\", \"marker\": {\"color\": \"green\", \"size\": 0.5}, \"mode\": \"markers\", \"text\": \"PL/SQL appears with Microstrategy 26 times\", \"x\": [-0.8695389871523244], \"y\": [0.23216793452608797], \"type\": \"scatter\", \"uid\": \"232329d9-6d74-4ebc-afe2-f3d728b7dbf1\"}, {\"hoverinfo\": \"text\", \"marker\": {\"color\": \"blue\", \"size\": 0.5}, \"mode\": \"markers\", \"text\": \"Microstrategy appears with PL/SQL 26 times\", \"x\": [-0.07491718102544773], \"y\": [-0.8968764775526228], \"type\": \"scatter\", \"uid\": \"55fbd5c7-cfce-467f-92a8-a3fdbc62721c\"}, {\"hoverinfo\": \"text\", \"marker\": {\"color\": \"green\", \"size\": 0.5}, \"mode\": \"markers\", \"text\": \"PL/SQL appears with Oracle BI 86 times\", \"x\": [-0.8771791998580565], \"y\": [0.2013868201655208], \"type\": \"scatter\", \"uid\": \"a26643b3-861d-4e66-84c6-bd14d155fa9a\"}, {\"hoverinfo\": \"text\", \"marker\": {\"color\": \"blue\", \"size\": 0.5}, \"mode\": \"markers\", \"text\": \"Oracle BI appears with PL/SQL 86 times\", \"x\": [0.08475556045621113], \"y\": [-0.8960002762118735], \"type\": \"scatter\", \"uid\": \"b605ddc7-d940-4112-a8c5-a809dbf88f57\"}, {\"hoverinfo\": \"text\", \"marker\": {\"color\": \"green\", \"size\": 0.5}, \"mode\": \"markers\", \"text\": \"PL/SQL appears with Python 3 times\", \"x\": [-0.8660817940517569], \"y\": [0.24474951687815508], \"type\": \"scatter\", \"uid\": \"a13493ca-0766-45b3-a278-3993de199277\"}, {\"hoverinfo\": \"text\", \"marker\": {\"color\": \"blue\", \"size\": 0.5}, \"mode\": \"markers\", \"text\": \"Python appears with PL/SQL 3 times\", \"x\": [0.5713626210642937], \"y\": [-0.6953738241050926], \"type\": \"scatter\", \"uid\": \"b3e0172d-72e1-42f1-ad04-b4e12ee6cf34\"}, {\"hoverinfo\": \"text\", \"marker\": {\"color\": \"green\", \"size\": 0.5}, \"mode\": \"markers\", \"text\": \"PL/SQL appears with VBA 7 times\", \"x\": [-0.8663723266648692], \"y\": [0.24371908335069123], \"type\": \"scatter\", \"uid\": \"69ae425c-45a2-437c-b0ab-05b0cb02713d\"}, {\"hoverinfo\": \"text\", \"marker\": {\"color\": \"blue\", \"size\": 0.5}, \"mode\": \"markers\", \"text\": \"VBA appears with PL/SQL 7 times\", \"x\": [0.815249076553084], \"y\": [-0.3812727936521878], \"type\": \"scatter\", \"uid\": \"0f0473a1-dafe-48b5-b697-729daab2e1f8\"}, {\"hoverinfo\": \"text\", \"marker\": {\"color\": \"green\", \"size\": 0.5}, \"mode\": \"markers\", \"text\": \"PL/SQL appears with Linux 1 times\", \"x\": [-0.865863090294427], \"y\": [0.2455221148202034], \"type\": \"scatter\", \"uid\": \"841de9ff-f947-4ee7-b4dd-cce2fe52a332\"}, {\"hoverinfo\": \"text\", \"marker\": {\"color\": \"blue\", \"size\": 0.5}, \"mode\": \"markers\", \"text\": \"Linux appears with PL/SQL 1 times\", \"x\": [0.8681925280645245], \"y\": [-0.23715339806321536], \"type\": \"scatter\", \"uid\": \"075cc281-8f59-4298-a624-00528ebf0fe5\"}, {\"hoverinfo\": \"text\", \"marker\": {\"color\": \"green\", \"size\": 0.5}, \"mode\": \"markers\", \"text\": \"PL/SQL appears with AWS 2 times\", \"x\": [-0.8659178308534887], \"y\": [0.2453289836321604], \"type\": \"scatter\", \"uid\": \"5ec280ad-45ea-4a29-ba1d-1cffdb94efcc\"}, {\"hoverinfo\": \"text\", \"marker\": {\"color\": \"blue\", \"size\": 0.5}, \"mode\": \"markers\", \"text\": \"AWS appears with PL/SQL 2 times\", \"x\": [0.8944083507525155], \"y\": [-0.10016836878059497], \"type\": \"scatter\", \"uid\": \"0ae30d28-8cdf-43de-8039-7bac36442c61\"}, {\"hoverinfo\": \"text\", \"marker\": {\"color\": \"green\", \"size\": 0.5}, \"mode\": \"markers\", \"text\": \"Pentaho appears with Spark 8 times\", \"x\": [-0.8844303734705709], \"y\": [0.16668207606910362], \"type\": \"scatter\", \"uid\": \"59f79ea5-ad9f-4757-a491-b639f458da6d\"}, {\"hoverinfo\": \"text\", \"marker\": {\"color\": \"blue\", \"size\": 0.5}, \"mode\": \"markers\", \"text\": \"Spark appears with Pentaho 8 times\", \"x\": [-0.8934715650550835], \"y\": [-0.10820611090885583], \"type\": \"scatter\", \"uid\": \"08282b9a-d84d-43e9-9cff-f6a07063cdd6\"}, {\"hoverinfo\": \"text\", \"marker\": {\"color\": \"green\", \"size\": 0.5}, \"mode\": \"markers\", \"text\": \"Pentaho appears with Informatica 36 times\", \"x\": [-0.8868821478956018], \"y\": [0.15310145572163536], \"type\": \"scatter\", \"uid\": \"57238db0-37bd-4ed9-945a-39e276d27f54\"}, {\"hoverinfo\": \"text\", \"marker\": {\"color\": \"blue\", \"size\": 0.5}, \"mode\": \"markers\", \"text\": \"Informatica appears with Pentaho 36 times\", \"x\": [-0.8461591073587064], \"y\": [-0.3066182725049461], \"type\": \"scatter\", \"uid\": \"078404fd-10c5-40e3-873a-11aeededc8fa\"}, {\"hoverinfo\": \"text\", \"marker\": {\"color\": \"green\", \"size\": 0.5}, \"mode\": \"markers\", \"text\": \"Pentaho appears with Qlik 33 times\", \"x\": [-0.8859348108482094], \"y\": [0.1584913591567297], \"type\": \"scatter\", \"uid\": \"13c931ee-c2b8-412f-b2f0-3f277d92299c\"}, {\"hoverinfo\": \"text\", \"marker\": {\"color\": \"blue\", \"size\": 0.5}, \"mode\": \"markers\", \"text\": \"Qlik appears with Pentaho 33 times\", \"x\": [-0.7827492143755145], \"y\": [-0.4441887745030427], \"type\": \"scatter\", \"uid\": \"f48708e4-5f61-42a0-ae2a-c5c10438e44c\"}, {\"hoverinfo\": \"text\", \"marker\": {\"color\": \"green\", \"size\": 0.5}, \"mode\": \"markers\", \"text\": \"Pentaho appears with Tableau 41 times\", \"x\": [-0.8915000460540626], \"y\": [0.12340043713700621], \"type\": \"scatter\", \"uid\": \"029670a9-b235-4efc-a75b-481249f21839\"}, {\"hoverinfo\": \"text\", \"marker\": {\"color\": \"blue\", \"size\": 0.5}, \"mode\": \"markers\", \"text\": \"Tableau appears with Pentaho 41 times\", \"x\": [-0.5148487153872566], \"y\": [-0.7381942835487766], \"type\": \"scatter\", \"uid\": \"a4ec2ffd-db8a-4e07-af16-25c54b3f9f1d\"}, {\"hoverinfo\": \"text\", \"marker\": {\"color\": \"green\", \"size\": 0.5}, \"mode\": \"markers\", \"text\": \"Pentaho appears with Microstrategy 4 times\", \"x\": [-0.8842536136866799], \"y\": [0.1676172624822635], \"type\": \"scatter\", \"uid\": \"af46de28-3079-4dcc-914a-61616a42f2e1\"}, {\"hoverinfo\": \"text\", \"marker\": {\"color\": \"blue\", \"size\": 0.5}, \"mode\": \"markers\", \"text\": \"Microstrategy appears with Pentaho 4 times\", \"x\": [-0.08864473101313779], \"y\": [-0.8956238672922961], \"type\": \"scatter\", \"uid\": \"a4ea3fcf-5ae6-432d-85f9-6fcf4b146c2a\"}, {\"hoverinfo\": \"text\", \"marker\": {\"color\": \"green\", \"size\": 0.5}, \"mode\": \"markers\", \"text\": \"Pentaho appears with Oracle BI 40 times\", \"x\": [-0.8905964989421524], \"y\": [0.12976084182826766], \"type\": \"scatter\", \"uid\": \"4de29420-b735-4750-a6e6-1ac6817b4447\"}, {\"hoverinfo\": \"text\", \"marker\": {\"color\": \"blue\", \"size\": 0.5}, \"mode\": \"markers\", \"text\": \"Oracle BI appears with Pentaho 40 times\", \"x\": [0.009598086678507632], \"y\": [-0.8999488189514512], \"type\": \"scatter\", \"uid\": \"5c56b1e9-5606-4606-94ca-a2046904fa75\"}, {\"hoverinfo\": \"text\", \"marker\": {\"color\": \"green\", \"size\": 0.5}, \"mode\": \"markers\", \"text\": \"Pentaho appears with Python 38 times\", \"x\": [-0.8896835281404922], \"y\": [0.13587943095069993], \"type\": \"scatter\", \"uid\": \"1b9ed0cf-f8cc-45fa-b363-d6af8fb0431a\"}, {\"hoverinfo\": \"text\", \"marker\": {\"color\": \"blue\", \"size\": 0.5}, \"mode\": \"markers\", \"text\": \"Python appears with Pentaho 38 times\", \"x\": [0.5861858776524818], \"y\": [-0.6829246787463386], \"type\": \"scatter\", \"uid\": \"87ab0a16-a496-4ce1-80d6-d9f215741a29\"}, {\"hoverinfo\": \"text\", \"marker\": {\"color\": \"green\", \"size\": 0.5}, \"mode\": \"markers\", \"text\": \"Pentaho appears with VBA 1 times\", \"x\": [-0.8841796719157846], \"y\": [0.16800686822536634], \"type\": \"scatter\", \"uid\": \"93efa1df-d3c2-44cf-8aa1-087ca83331cf\"}, {\"hoverinfo\": \"text\", \"marker\": {\"color\": \"blue\", \"size\": 0.5}, \"mode\": \"markers\", \"text\": \"VBA appears with Pentaho 1 times\", \"x\": [0.812773594954757], \"y\": [-0.38652177602862264], \"type\": \"scatter\", \"uid\": \"48840c09-8c62-43ce-a061-21ca2f7bd275\"}, {\"hoverinfo\": \"text\", \"marker\": {\"color\": \"green\", \"size\": 0.5}, \"mode\": \"markers\", \"text\": \"Pentaho appears with Linux 37 times\", \"x\": [-0.8887660295824242], \"y\": [0.1417566388579154], \"type\": \"scatter\", \"uid\": \"1f075c70-07b7-4d3c-a31a-529b045a4b38\"}, {\"hoverinfo\": \"text\", \"marker\": {\"color\": \"blue\", \"size\": 0.5}, \"mode\": \"markers\", \"text\": \"Linux appears with Pentaho 37 times\", \"x\": [0.8740450555807177], \"y\": [-0.21458154816968802], \"type\": \"scatter\", \"uid\": \"de1243e3-0286-4a77-9ea7-25020689caa3\"}, {\"hoverinfo\": \"text\", \"marker\": {\"color\": \"green\", \"size\": 0.5}, \"mode\": \"markers\", \"text\": \"Pentaho appears with AWS 15 times\", \"x\": [-0.8852564723514793], \"y\": [0.16223741294724436], \"type\": \"scatter\", \"uid\": \"ceb78e0b-939c-4374-9b8c-1185753f1435\"}, {\"hoverinfo\": \"text\", \"marker\": {\"color\": \"blue\", \"size\": 0.5}, \"mode\": \"markers\", \"text\": \"AWS appears with Pentaho 15 times\", \"x\": [0.8952159988251726], \"y\": [-0.09267316465648912], \"type\": \"scatter\", \"uid\": \"3b9f67b8-275f-413a-b3b9-da0423c5de8c\"}, {\"hoverinfo\": \"text\", \"marker\": {\"color\": \"green\", \"size\": 0.5}, \"mode\": \"markers\", \"text\": \"Hadoop appears with Spark 143 times\", \"x\": [-0.899096674580065], \"y\": [-0.0403133942886086], \"type\": \"scatter\", \"uid\": \"56b30248-eb2e-43ef-b1c0-2d6c3b61783c\"}, {\"hoverinfo\": \"text\", \"marker\": {\"color\": \"blue\", \"size\": 0.5}, \"mode\": \"markers\", \"text\": \"Spark appears with Hadoop 143 times\", \"x\": [-0.8758643460518786], \"y\": [-0.20703054681644217], \"type\": \"scatter\", \"uid\": \"f2ef0afd-053f-46ab-853b-94fe80915697\"}, {\"hoverinfo\": \"text\", \"marker\": {\"color\": \"green\", \"size\": 0.5}, \"mode\": \"markers\", \"text\": \"Hadoop appears with Informatica 5 times\", \"x\": [-0.8987816005850896], \"y\": [0.04681489559642927], \"type\": \"scatter\", \"uid\": \"7ca73058-d822-4a93-8648-92e826c2f0c8\"}, {\"hoverinfo\": \"text\", \"marker\": {\"color\": \"blue\", \"size\": 0.5}, \"mode\": \"markers\", \"text\": \"Informatica appears with Hadoop 5 times\", \"x\": [-0.8568560600320855], \"y\": [-0.2753138071116144], \"type\": \"scatter\", \"uid\": \"10b836e9-dd96-436c-b725-6183c1f0a258\"}, {\"hoverinfo\": \"text\", \"marker\": {\"color\": \"green\", \"size\": 0.5}, \"mode\": \"markers\", \"text\": \"Hadoop appears with Qlik 9 times\", \"x\": [-0.8989519543642626], \"y\": [0.04342100579987537], \"type\": \"scatter\", \"uid\": \"fdbc0fb4-37f2-498c-b1cc-5cff18800b2e\"}, {\"hoverinfo\": \"text\", \"marker\": {\"color\": \"blue\", \"size\": 0.5}, \"mode\": \"markers\", \"text\": \"Qlik appears with Hadoop 9 times\", \"x\": [-0.7937992488701339], \"y\": [-0.42412586869137253], \"type\": \"scatter\", \"uid\": \"7fc3e303-03bf-45d4-959a-f6ee7600f110\"}, {\"hoverinfo\": \"text\", \"marker\": {\"color\": \"green\", \"size\": 0.5}, \"mode\": \"markers\", \"text\": \"Hadoop appears with Tableau 38 times\", \"x\": [-0.899863798438409], \"y\": [0.015657083380961598], \"type\": \"scatter\", \"uid\": \"863020db-9273-41d3-a67b-4b98d0aec00a\"}, {\"hoverinfo\": \"text\", \"marker\": {\"color\": \"blue\", \"size\": 0.5}, \"mode\": \"markers\", \"text\": \"Tableau appears with Hadoop 38 times\", \"x\": [-0.5211647927359915], \"y\": [-0.7337487709103513], \"type\": \"scatter\", \"uid\": \"eb480309-da0a-4ef7-8ad3-58498c036d3e\"}, {\"hoverinfo\": \"text\", \"marker\": {\"color\": \"green\", \"size\": 0.5}, \"mode\": \"markers\", \"text\": \"Hadoop appears with Microstrategy 3 times\", \"x\": [-0.8986824442194], \"y\": [0.048681253597715156], \"type\": \"scatter\", \"uid\": \"6912f91d-469d-4817-8ccd-586c22fba104\"}, {\"hoverinfo\": \"text\", \"marker\": {\"color\": \"blue\", \"size\": 0.5}, \"mode\": \"markers\", \"text\": \"Microstrategy appears with Hadoop 3 times\", \"x\": [-0.08911542376078328], \"y\": [-0.8955771553852498], \"type\": \"scatter\", \"uid\": \"61803c08-1016-415c-b62a-2d498815f337\"}, {\"hoverinfo\": \"text\", \"marker\": {\"color\": \"green\", \"size\": 0.5}, \"mode\": \"markers\", \"text\": \"Hadoop appears with Oracle BI 36 times\", \"x\": [-0.8997324798667615], \"y\": [0.02194230327034411], \"type\": \"scatter\", \"uid\": \"3fd4b16c-574a-4d55-a1cb-50bc037e5b6d\"}, {\"hoverinfo\": \"text\", \"marker\": {\"color\": \"blue\", \"size\": 0.5}, \"mode\": \"markers\", \"text\": \"Oracle BI appears with Hadoop 36 times\", \"x\": [0.002069959740978422], \"y\": [-0.8999976195894468], \"type\": \"scatter\", \"uid\": \"3675e7f1-9f4b-4cfc-9f27-f319f0cdb490\"}, {\"hoverinfo\": \"text\", \"marker\": {\"color\": \"green\", \"size\": 0.5}, \"mode\": \"markers\", \"text\": \"Hadoop appears with Python 156 times\", \"x\": [-0.8976009599462662], \"y\": [-0.06566975486128618], \"type\": \"scatter\", \"uid\": \"7b1c92c0-4093-4cfb-8fe3-aacde87ddb9f\"}, {\"hoverinfo\": \"text\", \"marker\": {\"color\": \"blue\", \"size\": 0.5}, \"mode\": \"markers\", \"text\": \"Python appears with Hadoop 156 times\", \"x\": [0.7019956091081574], \"y\": [-0.563207035461088], \"type\": \"scatter\", \"uid\": \"f7888fc4-3a92-4c15-a9d3-19aad84a24c2\"}, {\"hoverinfo\": \"text\", \"marker\": {\"color\": \"green\", \"size\": 0.5}, \"mode\": \"markers\", \"text\": \"Hadoop appears with VBA 7 times\", \"x\": [-0.8988853505955301], \"y\": [0.044778638710338416], \"type\": \"scatter\", \"uid\": \"994f0042-d10b-46d5-95bc-2ce2da24894b\"}, {\"hoverinfo\": \"text\", \"marker\": {\"color\": \"blue\", \"size\": 0.5}, \"mode\": \"markers\", \"text\": \"VBA appears with Hadoop 7 times\", \"x\": [0.8147421862957052], \"y\": [-0.38235476964475607], \"type\": \"scatter\", \"uid\": \"0aaaa908-03e3-44d0-acbf-7559470fcb7a\"}, {\"hoverinfo\": \"text\", \"marker\": {\"color\": \"green\", \"size\": 0.5}, \"mode\": \"markers\", \"text\": \"Hadoop appears with Linux 99 times\", \"x\": [-0.8997829123383151], \"y\": [-0.019766402403575304], \"type\": \"scatter\", \"uid\": \"d10ce5c1-4bb2-40bc-bc52-367c440c02a6\"}, {\"hoverinfo\": \"text\", \"marker\": {\"color\": \"blue\", \"size\": 0.5}, \"mode\": \"markers\", \"text\": \"Linux appears with Hadoop 99 times\", \"x\": [0.8867739019452636], \"y\": [-0.15372718311597328], \"type\": \"scatter\", \"uid\": \"4282879a-c378-4ef8-a843-650db0df2046\"}, {\"hoverinfo\": \"text\", \"marker\": {\"color\": \"green\", \"size\": 0.5}, \"mode\": \"markers\", \"text\": \"Hadoop appears with AWS 54 times\", \"x\": [-0.8999658344095868], \"y\": [0.00784199562969242], \"type\": \"scatter\", \"uid\": \"5fc32075-f659-4b1c-8701-285db57f8f30\"}, {\"hoverinfo\": \"text\", \"marker\": {\"color\": \"blue\", \"size\": 0.5}, \"mode\": \"markers\", \"text\": \"AWS appears with Hadoop 54 times\", \"x\": [0.8977075563048373], \"y\": [-0.06419613191771946], \"type\": \"scatter\", \"uid\": \"6e368936-394f-495e-b192-3923ae3164bd\"}, {\"hoverinfo\": \"text\", \"marker\": {\"color\": \"green\", \"size\": 0.5}, \"mode\": \"markers\", \"text\": \"Spark appears with Informatica 15 times\", \"x\": [-0.8927329828828491], \"y\": [-0.11413948165771011], \"type\": \"scatter\", \"uid\": \"c4b86ea9-7d74-4816-bb4a-fdea635dec17\"}, {\"hoverinfo\": \"text\", \"marker\": {\"color\": \"blue\", \"size\": 0.5}, \"mode\": \"markers\", \"text\": \"Informatica appears with Spark 15 times\", \"x\": [-0.8542023602256331], \"y\": [-0.28344016614615114], \"type\": \"scatter\", \"uid\": \"d0a8fadc-20f6-4928-9705-b6de6351a5cf\"}, {\"hoverinfo\": \"text\", \"marker\": {\"color\": \"green\", \"size\": 0.5}, \"mode\": \"markers\", \"text\": \"Spark appears with Qlik 16 times\", \"x\": [-0.8923883263361101], \"y\": [-0.11680357451309552], \"type\": \"scatter\", \"uid\": \"2c5177bf-0a5e-4091-b7fa-7c83857102cc\"}, {\"hoverinfo\": \"text\", \"marker\": {\"color\": \"blue\", \"size\": 0.5}, \"mode\": \"markers\", \"text\": \"Qlik appears with Spark 16 times\", \"x\": [-0.7913827772826401], \"y\": [-0.4286178948905603], \"type\": \"scatter\", \"uid\": \"7cf79d12-0155-4d7b-a747-dc088af8dc08\"}, {\"hoverinfo\": \"text\", \"marker\": {\"color\": \"green\", \"size\": 0.5}, \"mode\": \"markers\", \"text\": \"Spark appears with Tableau 36 times\", \"x\": [-0.8881433199160216], \"y\": [-0.14560715397447815], \"type\": \"scatter\", \"uid\": \"f84edc1e-2c7b-4735-8c57-714af0f5c9e6\"}, {\"hoverinfo\": \"text\", \"marker\": {\"color\": \"blue\", \"size\": 0.5}, \"mode\": \"markers\", \"text\": \"Tableau appears with Spark 36 times\", \"x\": [-0.5270463112138473], \"y\": [-0.7295355960032907], \"type\": \"scatter\", \"uid\": \"23ca765e-c087-4b12-8c6e-d0233c7644f9\"}, {\"hoverinfo\": \"text\", \"marker\": {\"color\": \"green\", \"size\": 0.5}, \"mode\": \"markers\", \"text\": \"Spark appears with Microstrategy 3 times\", \"x\": [-0.8935856664170513], \"y\": [-0.10725976307075416], \"type\": \"scatter\", \"uid\": \"f40b321c-cccb-4a40-8898-f024a4fbd8d5\"}, {\"hoverinfo\": \"text\", \"marker\": {\"color\": \"blue\", \"size\": 0.5}, \"mode\": \"markers\", \"text\": \"Microstrategy appears with Spark 3 times\", \"x\": [-0.08951885510076132], \"y\": [-0.8955369197199237], \"type\": \"scatter\", \"uid\": \"cd7c9430-fb4f-434d-8ad1-7a72215bd0cc\"}, {\"hoverinfo\": \"text\", \"marker\": {\"color\": \"green\", \"size\": 0.5}, \"mode\": \"markers\", \"text\": \"Spark appears with Oracle BI 35 times\", \"x\": [-0.8891179438356102], \"y\": [-0.13953236882364198], \"type\": \"scatter\", \"uid\": \"16e846ca-a453-4698-bbb2-e8c2df4ba39f\"}, {\"hoverinfo\": \"text\", \"marker\": {\"color\": \"blue\", \"size\": 0.5}, \"mode\": \"markers\", \"text\": \"Oracle BI appears with Spark 35 times\", \"x\": [-0.0049630369782403165], \"y\": [-0.899986315598161], \"type\": \"scatter\", \"uid\": \"0ad61b2f-45f5-47b4-aaef-8af6d64912a4\"}, {\"hoverinfo\": \"text\", \"marker\": {\"color\": \"green\", \"size\": 0.5}, \"mode\": \"markers\", \"text\": \"Spark appears with Python 170 times\", \"x\": [-0.8692283924075884], \"y\": [-0.23332809910621488], \"type\": \"scatter\", \"uid\": \"e7769dd9-87cb-41ce-90b5-50ca29164469\"}, {\"hoverinfo\": \"text\", \"marker\": {\"color\": \"blue\", \"size\": 0.5}, \"mode\": \"markers\", \"text\": \"Python appears with Spark 170 times\", \"x\": [0.7569892277414267], \"y\": [-0.4867928810936313], \"type\": \"scatter\", \"uid\": \"cebdff00-f0aa-438f-b24c-ab0f172b81ce\"}, {\"hoverinfo\": \"text\", \"marker\": {\"color\": \"green\", \"size\": 0.5}, \"mode\": \"markers\", \"text\": \"Spark appears with VBA 10 times\", \"x\": [-0.8932826919701595], \"y\": [-0.10975441779967282], \"type\": \"scatter\", \"uid\": \"14dde974-b392-4995-a30a-20fda7b4bae7\"}, {\"hoverinfo\": \"text\", \"marker\": {\"color\": \"blue\", \"size\": 0.5}, \"mode\": \"markers\", \"text\": \"VBA appears with Spark 10 times\", \"x\": [0.8158626543671583], \"y\": [-0.379958062434494], \"type\": \"scatter\", \"uid\": \"1a74a27a-55e3-449f-b0b4-f9cc923bf5b2\"}, {\"hoverinfo\": \"text\", \"marker\": {\"color\": \"green\", \"size\": 0.5}, \"mode\": \"markers\", \"text\": \"Spark appears with Linux 81 times\", \"x\": [-0.8833526014304222], \"y\": [-0.17230258717182922], \"type\": \"scatter\", \"uid\": \"35d4a3cd-08de-4b3e-886e-13cb83f56983\"}, {\"hoverinfo\": \"text\", \"marker\": {\"color\": \"blue\", \"size\": 0.5}, \"mode\": \"markers\", \"text\": \"Linux appears with Spark 81 times\", \"x\": [0.8841103739774432], \"y\": [-0.1683711573443197], \"type\": \"scatter\", \"uid\": \"5778491e-2ab8-4fd1-9df5-aabd3b5f5ec8\"}, {\"hoverinfo\": \"text\", \"marker\": {\"color\": \"green\", \"size\": 0.5}, \"mode\": \"markers\", \"text\": \"Spark appears with AWS 57 times\", \"x\": [-0.8855639528446672], \"y\": [-0.16055056967238773], \"type\": \"scatter\", \"uid\": \"303c3f9f-fb34-4798-8bc8-674f6764d9fc\"}, {\"hoverinfo\": \"text\", \"marker\": {\"color\": \"blue\", \"size\": 0.5}, \"mode\": \"markers\", \"text\": \"AWS appears with Spark 57 times\", \"x\": [0.898260473167437], \"y\": [-0.05592961956791984], \"type\": \"scatter\", \"uid\": \"2dfed29f-a779-4e68-a3b7-6ef368e25777\"}, {\"hoverinfo\": \"text\", \"marker\": {\"color\": \"green\", \"size\": 0.5}, \"mode\": \"markers\", \"text\": \"Informatica appears with Qlik 94 times\", \"x\": [-0.8289935900513512], \"y\": [-0.35038497064482127], \"type\": \"scatter\", \"uid\": \"e1f4ce5e-c5a1-4b9f-8ef5-63e3d4b9cccb\"}, {\"hoverinfo\": \"text\", \"marker\": {\"color\": \"blue\", \"size\": 0.5}, \"mode\": \"markers\", \"text\": \"Qlik appears with Informatica 94 times\", \"x\": [-0.7429674819141094], \"y\": [-0.5079363353986476], \"type\": \"scatter\", \"uid\": \"94a25421-9304-4817-9cdb-b3d31c1ce21c\"}, {\"hoverinfo\": \"text\", \"marker\": {\"color\": \"green\", \"size\": 0.5}, \"mode\": \"markers\", \"text\": \"Informatica appears with Tableau 72 times\", \"x\": [-0.8390737508993411], \"y\": [-0.3255076658877798], \"type\": \"scatter\", \"uid\": \"4dbea61f-c592-496a-b87d-f4d1096fe33a\"}, {\"hoverinfo\": \"text\", \"marker\": {\"color\": \"blue\", \"size\": 0.5}, \"mode\": \"markers\", \"text\": \"Tableau appears with Informatica 72 times\", \"x\": [-0.48814260588077385], \"y\": [-0.7561195648334512], \"type\": \"scatter\", \"uid\": \"e4472843-14a4-49d9-9866-844096449326\"}, {\"hoverinfo\": \"text\", \"marker\": {\"color\": \"green\", \"size\": 0.5}, \"mode\": \"markers\", \"text\": \"Informatica appears with Microstrategy 16 times\", \"x\": [-0.8533640532875736], \"y\": [-0.2859541791207174], \"type\": \"scatter\", \"uid\": \"705b4b24-ed4d-44fb-98bc-f08b57e5caba\"}, {\"hoverinfo\": \"text\", \"marker\": {\"color\": \"blue\", \"size\": 0.5}, \"mode\": \"markers\", \"text\": \"Microstrategy appears with Informatica 16 times\", \"x\": [-0.08528193563906233], \"y\": [-0.8959503286754544], \"type\": \"scatter\", \"uid\": \"936d3fea-226c-40e1-9859-220334f4b00e\"}, {\"hoverinfo\": \"text\", \"marker\": {\"color\": \"green\", \"size\": 0.5}, \"mode\": \"markers\", \"text\": \"Informatica appears with Oracle BI 135 times\", \"x\": [-0.8125672592125124], \"y\": [-0.3869553582209008], \"type\": \"scatter\", \"uid\": \"d8b43cd6-3e0d-4fb9-9639-5740b8a216a0\"}, {\"hoverinfo\": \"text\", \"marker\": {\"color\": \"blue\", \"size\": 0.5}, \"mode\": \"markers\", \"text\": \"Oracle BI appears with Informatica 135 times\", \"x\": [0.10652257524004682], \"y\": [-0.8936738448473406], \"type\": \"scatter\", \"uid\": \"c1371131-65c3-4b36-ab7c-2d832c130690\"}, {\"hoverinfo\": \"text\", \"marker\": {\"color\": \"green\", \"size\": 0.5}, \"mode\": \"markers\", \"text\": \"Informatica appears with Python 31 times\", \"x\": [-0.849908790973405], \"y\": [-0.29606595046733253], \"type\": \"scatter\", \"uid\": \"a2984ce3-fbe7-47a2-be81-a0b7fe173f7a\"}, {\"hoverinfo\": \"text\", \"marker\": {\"color\": \"blue\", \"size\": 0.5}, \"mode\": \"markers\", \"text\": \"Python appears with Informatica 31 times\", \"x\": [0.5811275200943535], \"y\": [-0.6872341707081995], \"type\": \"scatter\", \"uid\": \"3eca6d8f-2e95-4b0c-90c5-8746057af9e8\"}, {\"hoverinfo\": \"text\", \"marker\": {\"color\": \"green\", \"size\": 0.5}, \"mode\": \"markers\", \"text\": \"Informatica appears with VBA 6 times\", \"x\": [-0.85656793296815], \"y\": [-0.27620893579077205], \"type\": \"scatter\", \"uid\": \"f640ac92-4a5c-40e8-84df-796f0586607c\"}, {\"hoverinfo\": \"text\", \"marker\": {\"color\": \"blue\", \"size\": 0.5}, \"mode\": \"markers\", \"text\": \"VBA appears with Informatica 6 times\", \"x\": [0.8137605578672245], \"y\": [-0.38443953290423155], \"type\": \"scatter\", \"uid\": \"5746a495-5f58-4a4c-9da5-ad0dbcb879ee\"}, {\"hoverinfo\": \"text\", \"marker\": {\"color\": \"green\", \"size\": 0.5}, \"mode\": \"markers\", \"text\": \"Informatica appears with Linux 10 times\", \"x\": [-0.8561471698540956], \"y\": [-0.2775104025992942], \"type\": \"scatter\", \"uid\": \"d1a1163b-4792-447f-82a4-08bdd094a8a2\"}, {\"hoverinfo\": \"text\", \"marker\": {\"color\": \"blue\", \"size\": 0.5}, \"mode\": \"markers\", \"text\": \"Linux appears with Informatica 10 times\", \"x\": [0.8693370692303964], \"y\": [-0.23292286290079992], \"type\": \"scatter\", \"uid\": \"28ea7503-9d3e-4162-a7ec-a1b40830d7e4\"}, {\"hoverinfo\": \"text\", \"marker\": {\"color\": \"green\", \"size\": 0.5}, \"mode\": \"markers\", \"text\": \"Informatica appears with AWS 21 times\", \"x\": [-0.8513607623022956], \"y\": [-0.2918644418425343], \"type\": \"scatter\", \"uid\": \"f7befdce-3272-4138-8df7-d3a48612cf40\"}, {\"hoverinfo\": \"text\", \"marker\": {\"color\": \"blue\", \"size\": 0.5}, \"mode\": \"markers\", \"text\": \"AWS appears with Informatica 21 times\", \"x\": [0.8954886926264713], \"y\": [-0.09000000765629551], \"type\": \"scatter\", \"uid\": \"e10642fe-1091-4579-8df1-c68abd34952a\"}, {\"hoverinfo\": \"text\", \"marker\": {\"color\": \"green\", \"size\": 0.5}, \"mode\": \"markers\", \"text\": \"Qlik appears with Tableau 350 times\", \"x\": [-0.6956312172842485], \"y\": [-0.571049218141164], \"type\": \"scatter\", \"uid\": \"cd3da689-0c99-41ad-9d37-6e37a97da1e7\"}, {\"hoverinfo\": \"text\", \"marker\": {\"color\": \"blue\", \"size\": 0.5}, \"mode\": \"markers\", \"text\": \"Tableau appears with Qlik 350 times\", \"x\": [-0.3156942154573648], \"y\": [-0.8428150226038683], \"type\": \"scatter\", \"uid\": \"5f614353-766e-4dea-a6c7-9cd2caf08038\"}, {\"hoverinfo\": \"text\", \"marker\": {\"color\": \"green\", \"size\": 0.5}, \"mode\": \"markers\", \"text\": \"Qlik appears with Microstrategy 40 times\", \"x\": [-0.7792579799399543], \"y\": [-0.4502854657879843], \"type\": \"scatter\", \"uid\": \"d8aef4b0-ffac-424a-b98d-78891107e353\"}, {\"hoverinfo\": \"text\", \"marker\": {\"color\": \"blue\", \"size\": 0.5}, \"mode\": \"markers\", \"text\": \"Microstrategy appears with Qlik 40 times\", \"x\": [-0.06198102200646907], \"y\": [-0.8978632150339124], \"type\": \"scatter\", \"uid\": \"c7e46e92-2756-45af-84a9-a626e86bc2aa\"}, {\"hoverinfo\": \"text\", \"marker\": {\"color\": \"green\", \"size\": 0.5}, \"mode\": \"markers\", \"text\": \"Qlik appears with Oracle BI 362 times\", \"x\": [-0.6501799411476394], \"y\": [-0.6223070336491885], \"type\": \"scatter\", \"uid\": \"66f45601-7ab5-477e-82b4-c73a4f708661\"}, {\"hoverinfo\": \"text\", \"marker\": {\"color\": \"blue\", \"size\": 0.5}, \"mode\": \"markers\", \"text\": \"Oracle BI appears with Qlik 362 times\", \"x\": [0.3342264900252104], \"y\": [-0.835639068836198], \"type\": \"scatter\", \"uid\": \"6fc15d15-b03d-45cf-9e5e-0dea99d43e9d\"}, {\"hoverinfo\": \"text\", \"marker\": {\"color\": \"green\", \"size\": 0.5}, \"mode\": \"markers\", \"text\": \"Qlik appears with Python 54 times\", \"x\": [-0.7746925081788467], \"y\": [-0.4580955334551599], \"type\": \"scatter\", \"uid\": \"ac10837f-2da4-4315-9fb0-d40bee835417\"}, {\"hoverinfo\": \"text\", \"marker\": {\"color\": \"blue\", \"size\": 0.5}, \"mode\": \"markers\", \"text\": \"Python appears with Qlik 54 times\", \"x\": [0.6000922692781334], \"y\": [-0.6707378536750556], \"type\": \"scatter\", \"uid\": \"756fcf20-2fd6-4506-9a10-bac24c4d3dca\"}, {\"hoverinfo\": \"text\", \"marker\": {\"color\": \"green\", \"size\": 0.5}, \"mode\": \"markers\", \"text\": \"Qlik appears with VBA 31 times\", \"x\": [-0.7857707902944838], \"y\": [-0.43882145015938134], \"type\": \"scatter\", \"uid\": \"08d4e291-eacc-4c4e-a1f2-4c2f9e352a24\"}, {\"hoverinfo\": \"text\", \"marker\": {\"color\": \"blue\", \"size\": 0.5}, \"mode\": \"markers\", \"text\": \"VBA appears with Qlik 31 times\", \"x\": [0.8192523970975252], \"y\": [-0.3725929546434809], \"type\": \"scatter\", \"uid\": \"874a4f34-31d9-4901-9a53-51aaf1f896fc\"}, {\"hoverinfo\": \"text\", \"marker\": {\"color\": \"green\", \"size\": 0.5}, \"mode\": \"markers\", \"text\": \"Qlik appears with Linux 2 times\", \"x\": [-0.794568946422532], \"y\": [-0.4226821375229706], \"type\": \"scatter\", \"uid\": \"de81f71f-f7be-4551-b148-1e04eb2533b4\"}, {\"hoverinfo\": \"text\", \"marker\": {\"color\": \"blue\", \"size\": 0.5}, \"mode\": \"markers\", \"text\": \"Linux appears with Qlik 2 times\", \"x\": [0.8682578633500329], \"y\": [-0.2369140830149944], \"type\": \"scatter\", \"uid\": \"f6734593-872c-4d9d-a5dc-9deb2399dab7\"}, {\"hoverinfo\": \"text\", \"marker\": {\"color\": \"green\", \"size\": 0.5}, \"mode\": \"markers\", \"text\": \"Qlik appears with AWS 3 times\", \"x\": [-0.7943428372500558], \"y\": [-0.4231069095506847], \"type\": \"scatter\", \"uid\": \"5c35cdd7-1fae-4a83-8ffa-5b8eed8cdd8d\"}, {\"hoverinfo\": \"text\", \"marker\": {\"color\": \"blue\", \"size\": 0.5}, \"mode\": \"markers\", \"text\": \"AWS appears with Qlik 3 times\", \"x\": [0.8944828670241785], \"y\": [-0.09950075678207615], \"type\": \"scatter\", \"uid\": \"93d5acc9-20b2-444d-ac0e-6b4e1fedbf08\"}, {\"hoverinfo\": \"text\", \"marker\": {\"color\": \"green\", \"size\": 0.5}, \"mode\": \"markers\", \"text\": \"Tableau appears with Microstrategy 56 times\", \"x\": [-0.49860881500345233], \"y\": [-0.7492591338120965], \"type\": \"scatter\", \"uid\": \"9d89c050-d960-4be9-98e3-f9b1ba8dacec\"}, {\"hoverinfo\": \"text\", \"marker\": {\"color\": \"blue\", \"size\": 0.5}, \"mode\": \"markers\", \"text\": \"Microstrategy appears with Tableau 56 times\", \"x\": [-0.049976561000159035], \"y\": [-0.8986113416547765], \"type\": \"scatter\", \"uid\": \"7e240eab-a099-4f70-af74-6e9cc4f59c12\"}, {\"hoverinfo\": \"text\", \"marker\": {\"color\": \"green\", \"size\": 0.5}, \"mode\": \"markers\", \"text\": \"Tableau appears with Oracle BI 429 times\", \"x\": [-0.24332713111625512], \"y\": [-0.8664824910306802], \"type\": \"scatter\", \"uid\": \"892bae5a-f8df-48bd-9ff7-12621e3aacae\"}, {\"hoverinfo\": \"text\", \"marker\": {\"color\": \"blue\", \"size\": 0.5}, \"mode\": \"markers\", \"text\": \"Oracle BI appears with Tableau 429 times\", \"x\": [0.4056193808280252], \"y\": [-0.8034132920836508], \"type\": \"scatter\", \"uid\": \"b2b8e565-b54f-40e2-afb2-0ffd3a5e8632\"}, {\"hoverinfo\": \"text\", \"marker\": {\"color\": \"green\", \"size\": 0.5}, \"mode\": \"markers\", \"text\": \"Tableau appears with Python 138 times\", \"x\": [-0.4223998614217852], \"y\": [-0.7947190428515329], \"type\": \"scatter\", \"uid\": \"263e2485-ffcc-45fb-9fc4-8957b992046c\"}, {\"hoverinfo\": \"text\", \"marker\": {\"color\": \"blue\", \"size\": 0.5}, \"mode\": \"markers\", \"text\": \"Python appears with Tableau 138 times\", \"x\": [0.6839324128426102], \"y\": [-0.5850097902285786], \"type\": \"scatter\", \"uid\": \"fc4a4fd4-03ac-40c0-a1ac-a0eae87e142c\"}, {\"hoverinfo\": \"text\", \"marker\": {\"color\": \"green\", \"size\": 0.5}, \"mode\": \"markers\", \"text\": \"Tableau appears with VBA 76 times\", \"x\": [-0.47592353338032756], \"y\": [-0.7638696160829964], \"type\": \"scatter\", \"uid\": \"00d26e1e-1a25-4bf6-8cbf-76c5b3d6bf73\"}, {\"hoverinfo\": \"text\", \"marker\": {\"color\": \"blue\", \"size\": 0.5}, \"mode\": \"markers\", \"text\": \"VBA appears with Tableau 76 times\", \"x\": [0.8326954311800637], \"y\": [-0.3414942443026645], \"type\": \"scatter\", \"uid\": \"831b46a8-1e2c-4838-955b-225abef47ff5\"}, {\"hoverinfo\": \"text\", \"marker\": {\"color\": \"green\", \"size\": 0.5}, \"mode\": \"markers\", \"text\": \"Tableau appears with Linux 19 times\", \"x\": [-0.540037316077638], \"y\": [-0.7199720114307647], \"type\": \"scatter\", \"uid\": \"a382016f-3671-4354-bcc0-a64b98c534f9\"}, {\"hoverinfo\": \"text\", \"marker\": {\"color\": \"blue\", \"size\": 0.5}, \"mode\": \"markers\", \"text\": \"Linux appears with Tableau 19 times\", \"x\": [0.8707126050611868], \"y\": [-0.22772694040794095], \"type\": \"scatter\", \"uid\": \"635aaf57-a35b-424d-888b-3a3f736be46b\"}, {\"hoverinfo\": \"text\", \"marker\": {\"color\": \"green\", \"size\": 0.5}, \"mode\": \"markers\", \"text\": \"Tableau appears with AWS 33 times\", \"x\": [-0.5324997532664022], \"y\": [-0.7255646165375079], \"type\": \"scatter\", \"uid\": \"074255f4-44a4-420d-a56a-302eae592b3e\"}, {\"hoverinfo\": \"text\", \"marker\": {\"color\": \"blue\", \"size\": 0.5}, \"mode\": \"markers\", \"text\": \"AWS appears with Tableau 33 times\", \"x\": [0.8966556845159044], \"y\": [-0.077515052895003], \"type\": \"scatter\", \"uid\": \"a1109cb8-5491-446d-925f-f727913f6d85\"}, {\"hoverinfo\": \"text\", \"marker\": {\"color\": \"green\", \"size\": 0.5}, \"mode\": \"markers\", \"text\": \"Microstrategy appears with Oracle BI 66 times\", \"x\": [-0.04174349903715927], \"y\": [-0.8990314122922151], \"type\": \"scatter\", \"uid\": \"c0e1a5cc-cd6c-462d-9775-250b82f7bd75\"}, {\"hoverinfo\": \"text\", \"marker\": {\"color\": \"blue\", \"size\": 0.5}, \"mode\": \"markers\", \"text\": \"Oracle BI appears with Microstrategy 66 times\", \"x\": [0.03851105487633825], \"y\": [-0.8991756773024455], \"type\": \"scatter\", \"uid\": \"32498665-085d-4491-a7f9-ee72e207af49\"}, {\"hoverinfo\": \"text\", \"marker\": {\"color\": \"green\", \"size\": 0.5}, \"mode\": \"markers\", \"text\": \"Microstrategy appears with Python 19 times\", \"x\": [-0.08063931422130761], \"y\": [-0.8963801096643752], \"type\": \"scatter\", \"uid\": \"42a6f04d-77c1-407c-b590-92fcfb6165a7\"}, {\"hoverinfo\": \"text\", \"marker\": {\"color\": \"blue\", \"size\": 0.5}, \"mode\": \"markers\", \"text\": \"Python appears with Microstrategy 19 times\", \"x\": [0.5729980734853275], \"y\": [-0.6940268062417354], \"type\": \"scatter\", \"uid\": \"d12be35d-0df8-4ca5-904e-1e1621f214fa\"}, {\"hoverinfo\": \"text\", \"marker\": {\"color\": \"green\", \"size\": 0.5}, \"mode\": \"markers\", \"text\": \"Microstrategy appears with VBA 7 times\", \"x\": [-0.08790502156156434], \"y\": [-0.8956967718956348], \"type\": \"scatter\", \"uid\": \"45e7f871-a7a0-4518-acae-3ccdca653744\"}, {\"hoverinfo\": \"text\", \"marker\": {\"color\": \"blue\", \"size\": 0.5}, \"mode\": \"markers\", \"text\": \"VBA appears with Microstrategy 7 times\", \"x\": [0.8142338600705313], \"y\": [-0.38343607174422517], \"type\": \"scatter\", \"uid\": \"aced2c96-722f-46e9-aefd-cb6704d39191\"}, {\"hoverinfo\": \"text\", \"marker\": {\"color\": \"green\", \"size\": 0.5}, \"mode\": \"markers\", \"text\": \"Microstrategy appears with Linux 8 times\", \"x\": [-0.08689623032643382], \"y\": [-0.8957952026858903], \"type\": \"scatter\", \"uid\": \"ac11b9fb-802d-46d5-b6a3-ffc23e6d0365\"}, {\"hoverinfo\": \"text\", \"marker\": {\"color\": \"blue\", \"size\": 0.5}, \"mode\": \"markers\", \"text\": \"Linux appears with Microstrategy 8 times\", \"x\": [0.868950667482923], \"y\": [-0.23436027283006516], \"type\": \"scatter\", \"uid\": \"f3c757d0-a0ed-4fe5-9f18-9552943d79b8\"}, {\"hoverinfo\": \"text\", \"marker\": {\"color\": \"green\", \"size\": 0.5}, \"mode\": \"markers\", \"text\": \"Microstrategy appears with AWS 2 times\", \"x\": [-0.08985503401049211], \"y\": [-0.8955032511738711], \"type\": \"scatter\", \"uid\": \"d66cf468-a09f-4833-9fe5-617ecdbb5a09\"}, {\"hoverinfo\": \"text\", \"marker\": {\"color\": \"blue\", \"size\": 0.5}, \"mode\": \"markers\", \"text\": \"AWS appears with Microstrategy 2 times\", \"x\": [0.8943750724643451], \"y\": [-0.10046506733386223], \"type\": \"scatter\", \"uid\": \"f3aed8f0-b295-46e3-89d7-a1b970f2f89e\"}, {\"hoverinfo\": \"text\", \"marker\": {\"color\": \"green\", \"size\": 0.5}, \"mode\": \"markers\", \"text\": \"Oracle BI appears with Python 160 times\", \"x\": [0.16360812229226487], \"y\": [-0.8850041707924315], \"type\": \"scatter\", \"uid\": \"6a0533dc-0473-4cc3-9723-0ff630e36d91\"}, {\"hoverinfo\": \"text\", \"marker\": {\"color\": \"blue\", \"size\": 0.5}, \"mode\": \"markers\", \"text\": \"Python appears with Oracle BI 160 times\", \"x\": [0.7206353137131752], \"y\": [-0.5391518752907324], \"type\": \"scatter\", \"uid\": \"40f72cef-0882-4063-9795-5409217e2102\"}, {\"hoverinfo\": \"text\", \"marker\": {\"color\": \"green\", \"size\": 0.5}, \"mode\": \"markers\", \"text\": \"Oracle BI appears with VBA 84 times\", \"x\": [0.0679769064571775], \"y\": [-0.8974291839407231], \"type\": \"scatter\", \"uid\": \"d69b86c5-aa27-4f62-8e5f-fd64045a908d\"}, {\"hoverinfo\": \"text\", \"marker\": {\"color\": \"blue\", \"size\": 0.5}, \"mode\": \"markers\", \"text\": \"VBA appears with Oracle BI 84 times\", \"x\": [0.8377806768886897], \"y\": [-0.32882143700180005], \"type\": \"scatter\", \"uid\": \"f40c602c-a00c-4e5b-b0fc-a765daf099e3\"}, {\"hoverinfo\": \"text\", \"marker\": {\"color\": \"green\", \"size\": 0.5}, \"mode\": \"markers\", \"text\": \"Oracle BI appears with Linux 3 times\", \"x\": [-0.00872707889193587], \"y\": [-0.8999576868353389], \"type\": \"scatter\", \"uid\": \"3b285537-298a-4086-a02b-8d52c367e5fe\"}, {\"hoverinfo\": \"text\", \"marker\": {\"color\": \"blue\", \"size\": 0.5}, \"mode\": \"markers\", \"text\": \"Linux appears with Oracle BI 3 times\", \"x\": [0.8683666088976991], \"y\": [-0.23651518461086254], \"type\": \"scatter\", \"uid\": \"2e683a97-cef1-4cbc-acd3-215dccda665c\"}, {\"hoverinfo\": \"text\", \"marker\": {\"color\": \"green\", \"size\": 0.5}, \"mode\": \"markers\", \"text\": \"Oracle BI appears with AWS 46 times\", \"x\": [0.018115918842555086], \"y\": [-0.899817655686134], \"type\": \"scatter\", \"uid\": \"98dbaa2e-792b-464b-a144-955ad6e9f31d\"}, {\"hoverinfo\": \"text\", \"marker\": {\"color\": \"blue\", \"size\": 0.5}, \"mode\": \"markers\", \"text\": \"AWS appears with Oracle BI 46 times\", \"x\": [0.897144292769436], \"y\": [-0.07163880199464985], \"type\": \"scatter\", \"uid\": \"9e9d617e-6832-42e4-8b29-7990cf400f45\"}, {\"hoverinfo\": \"text\", \"marker\": {\"color\": \"green\", \"size\": 0.5}, \"mode\": \"markers\", \"text\": \"Python appears with VBA 67 times\", \"x\": [0.6171884721053531], \"y\": [-0.6550407543811758], \"type\": \"scatter\", \"uid\": \"eed36fe2-6aa1-462d-a76f-224cdff43816\"}, {\"hoverinfo\": \"text\", \"marker\": {\"color\": \"blue\", \"size\": 0.5}, \"mode\": \"markers\", \"text\": \"VBA appears with Python 67 times\", \"x\": [0.8279882402908646], \"y\": [-0.35275412675125073], \"type\": \"scatter\", \"uid\": \"009dad3e-5938-450c-aba1-be95891ea9a4\"}, {\"hoverinfo\": \"text\", \"marker\": {\"color\": \"green\", \"size\": 0.5}, \"mode\": \"markers\", \"text\": \"Python appears with Linux 104 times\", \"x\": [0.6535251553200576], \"y\": [-0.6187930763703603], \"type\": \"scatter\", \"uid\": \"230d3ac3-b23f-45d0-8419-7fc9bbec0c9e\"}, {\"hoverinfo\": \"text\", \"marker\": {\"color\": \"blue\", \"size\": 0.5}, \"mode\": \"markers\", \"text\": \"Linux appears with Python 104 times\", \"x\": [0.8894867299507765], \"y\": [-0.13716179220713914], \"type\": \"scatter\", \"uid\": \"f435700f-daa2-4387-b38e-f3a344baa8c9\"}, {\"hoverinfo\": \"text\", \"marker\": {\"color\": \"green\", \"size\": 0.5}, \"mode\": \"markers\", \"text\": \"Python appears with AWS 100 times\", \"x\": [0.6398624550481146], \"y\": [-0.6329107667118642], \"type\": \"scatter\", \"uid\": \"cd685457-79de-45d3-ad76-4941fb49dbc6\"}, {\"hoverinfo\": \"text\", \"marker\": {\"color\": \"blue\", \"size\": 0.5}, \"mode\": \"markers\", \"text\": \"AWS appears with Python 100 times\", \"x\": [0.899290522832518], \"y\": [-0.03572891747053861], \"type\": \"scatter\", \"uid\": \"b36f3537-a1af-4ea9-919d-417e8168a5c3\"}, {\"hoverinfo\": \"text\", \"marker\": {\"color\": \"green\", \"size\": 0.5}, \"mode\": \"markers\", \"text\": \"VBA appears with Linux 1 times\", \"x\": [0.8127002745600326], \"y\": [-0.3866759156322614], \"type\": \"scatter\", \"uid\": \"e9dc7d06-4b41-4564-b2f6-ce22ceecca4c\"}, {\"hoverinfo\": \"text\", \"marker\": {\"color\": \"blue\", \"size\": 0.5}, \"mode\": \"markers\", \"text\": \"Linux appears with VBA 1 times\", \"x\": [0.8681489345618708], \"y\": [-0.2373129314198632], \"type\": \"scatter\", \"uid\": \"251e1750-3222-4128-ba90-2b9b5307d847\"}, {\"hoverinfo\": \"text\", \"marker\": {\"color\": \"green\", \"size\": 0.5}, \"mode\": \"markers\", \"text\": \"VBA appears with AWS 5 times\", \"x\": [0.812993380720418], \"y\": [-0.3860592738230562], \"type\": \"scatter\", \"uid\": \"ec84a5d8-d316-4d75-8618-5fa06f7a66ad\"}, {\"hoverinfo\": \"text\", \"marker\": {\"color\": \"blue\", \"size\": 0.5}, \"mode\": \"markers\", \"text\": \"AWS appears with VBA 5 times\", \"x\": [0.894548685364776], \"y\": [-0.09890727734676992], \"type\": \"scatter\", \"uid\": \"ec8538da-eb0d-45df-9595-8fde11019101\"}, {\"hoverinfo\": \"text\", \"marker\": {\"color\": \"green\", \"size\": 0.5}, \"mode\": \"markers\", \"text\": \"Linux appears with AWS 26 times\", \"x\": [0.8716467099576746], \"y\": [-0.22412499418842516], \"type\": \"scatter\", \"uid\": \"9a969d3a-06c9-449c-914a-5943c2fe2803\"}, {\"hoverinfo\": \"text\", \"marker\": {\"color\": \"blue\", \"size\": 0.5}, \"mode\": \"markers\", \"text\": \"AWS appears with Linux 26 times\", \"x\": [0.8958326959046906], \"y\": [-0.08650884895855566], \"type\": \"scatter\", \"uid\": \"91d9bc38-06d8-4273-9101-53c8ef0c7979\"}], {\"autosize\": false, \"font\": {\"color\": \"#655643\", \"family\": \"Fira Sans Condensed\", \"size\": 12}, \"height\": 525, \"hidesources\": true, \"hoverdistance\": 40, \"hovermode\": \"closest\", \"margin\": {\"b\": 10, \"l\": 280, \"r\": 280, \"t\": 80}, \"paper_bgcolor\": \"#fffaf0\", \"plot_bgcolor\": \"#fffaf0\", \"shapes\": [{\"fillcolor\": \"#f2e6ce\", \"layer\": \"below\", \"line\": {\"color\": \"rgb(175,175,175)\", \"width\": 0.5}, \"path\": \"M 0.9732541681262956,0.22973098229188027 Q 0.18369740169281779, 0.07909023082092725 0.8357403307304853, 0.5491248488190087L 0.8357403307304853, 0.5491248488190087 L 0.8493166024486056, 0.527883802370519 L 0.8623531358371694, 0.5063072872394792 M 0.8623531358371694,0.5063072872394792 Q 0.18383960393795784, 0.07875912660723706 0.9614366510808446, 0.27502648228570664L 0.9614366510808446, 0.27502648228570664 L 0.9676104908799933, 0.2524478915320513 L 0.9732541681262956, 0.22973098229188027 \", \"type\": \"path\"}, {\"fillcolor\": \"#f2e6ce\", \"layer\": \"below\", \"line\": {\"color\": \"rgb(175,175,175)\", \"width\": 0.5}, \"path\": \"M 0.9959985345307001,0.08936956536034961 Q 0.14136054821370694, 0.14148213812605545 0.08851320223481894, 0.9960750037171588L 0.08851320223481894, 0.9960750037171588 L 0.10268872897534108, 0.9947135391364837 L 0.11684343052951077, 0.9931503475013718 M 0.11684343052951077,0.9931503475013718 Q 0.14145566687982702, 0.1413870372685679 0.9932069328772147, 0.1163614561813141L 0.9932069328772147, 0.1163614561813141 L 0.9946942939586554, 0.10287498027262053 L 0.9959985345307001, 0.08936956536034961 \", \"type\": \"path\"}, {\"fillcolor\": \"#f2e6ce\", \"layer\": \"below\", \"line\": {\"color\": \"rgb(175,175,175)\", \"width\": 0.5}, \"path\": \"M 0.9980178109725905,0.06293209818112461 Q 0.09963296426595748, 0.17341647105041216 -0.4482982346967023, 0.89388404883845L -0.4482982346967023, 0.89388404883845 L -0.4360595277834415, 0.8999178230423498 L -0.42373962990973063, 0.9057840394067256 M -0.42373962990973063,0.9057840394067256 Q 0.099700192946173, 0.17337782882045755 0.9959985345307001, 0.08936956536034961L 0.9959985345307001, 0.08936956536034961 L 0.9970957985325621, 0.07615752457053931 L 0.9980178109725905, 0.06293209818112461 \", \"type\": \"path\"}, {\"fillcolor\": \"#f2e6ce\", \"layer\": \"below\", \"line\": {\"color\": \"rgb(175,175,175)\", \"width\": 0.5}, \"path\": \"M 1.0,0.0 Q 0.0726809777347459, 0.18632626083169646 -0.7358737737760687, 0.6771187407453492L -0.7358737737760687, 0.6771187407453492 L -0.7355472510910764, 0.677473424875368 L -0.7352205574517399, 0.677827951548439 M -0.7352205574517399,0.677827951548439 Q 0.07267431120923029, 0.1863288611307007 0.999999463609104, 0.0010357516615644763L 0.999999463609104, 0.0010357516615644763 L 0.999999865902267, 0.0005178759002282223 L 1.0, 0.0 \", \"type\": \"path\"}, {\"fillcolor\": \"#f2e6ce\", \"layer\": \"below\", \"line\": {\"color\": \"rgb(175,175,175)\", \"width\": 0.5}, \"path\": \"M 0.9993354637791567,0.036450388657706 Q 0.044321854656480864, 0.19502710888440558 -0.8854256045458941, 0.4647811300112536L -0.8854256045458941, 0.4647811300112536 L -0.8831827038739439, 0.46902911591702856 L -0.8809194228888001, 0.4732662785127031 M -0.8809194228888001,0.4732662785127031 Q 0.04430931786994932, 0.19502995757036864 0.9989332223128595, 0.04617810476456621L 0.9989332223128595, 0.04617810476456621 L 0.9991461817817961, 0.041314736243354175 L 0.9993354637791567, 0.036450388657706 \", \"type\": \"path\"}, {\"fillcolor\": \"#f2e6ce\", \"layer\": \"below\", \"line\": {\"color\": \"rgb(175,175,175)\", \"width\": 0.5}, \"path\": \"M 0.9999831788271542,0.005800177819671073 Q 0.02643016698138625, 0.19824592372438846 -0.9635365283012095, 0.2675768275266983L -0.9635365283012095, 0.2675768275266983 L -0.9633173748275176, 0.2683647431303525 L -0.9630975770493614, 0.2691524792411345 M -0.9630975770493614,0.2691524792411345 Q 0.026366429337219305, 0.19825441080592743 0.9999673661524616, 0.00807877652301179L 0.9999673661524616, 0.00807877652301179 L 0.9999759215071522, 0.006939481675293848 L 0.9999831788271542, 0.005800177819671073 \", \"type\": \"path\"}, {\"fillcolor\": \"#f2e6ce\", \"layer\": \"below\", \"line\": {\"color\": \"rgb(175,175,175)\", \"width\": 0.5}, \"path\": \"M 0.999992254524767,0.003935846855964729 Q 0.017840319927214358, 0.19920271831703162 -0.9833791584859987, 0.18156384732476125L -0.9833791584859987, 0.18156384732476125 L -0.983234847203308, 0.182343728285586 L -0.9830899174265106, 0.18312349454490154 M -0.9830899174265106,0.18312349454490154 Q 0.017812619384915535, 0.1992051971978847 0.9999831788271542, 0.005800177819671073L 0.9999831788271542, 0.005800177819671073 L 0.9999881511474458, 0.004868014452856431 L 0.999992254524767, 0.003935846855964729 \", \"type\": \"path\"}, {\"fillcolor\": \"#f2e6ce\", \"layer\": \"below\", \"line\": {\"color\": \"rgb(175,175,175)\", \"width\": 0.5}, \"path\": \"M 0.9999302914428098,0.011807296688803919 Q 0.002786602048761535, 0.1999805861803136 -0.9992130705252467, 0.03966408566333597L -0.9992130705252467, 0.03966408566333597 L -0.9991285473665975, 0.04173902055765854 L -0.999039715467107, 0.04381377545249709 M -0.999039715467107,0.04381377545249709 Q 0.002746206319825116, 0.19998114498834374 0.999866098353115, 0.016364148744097955L 0.999866098353115, 0.016364148744097955 L 0.999900790771448, 0.01408575928492792 L 0.9999302914428098, 0.011807296688803919 \", \"type\": \"path\"}, {\"fillcolor\": \"#f2e6ce\", \"layer\": \"below\", \"line\": {\"color\": \"rgb(175,175,175)\", \"width\": 0.5}, \"path\": \"M 0.999866098353115,0.016364148744097955 Q -0.015732729574824713, 0.19938024280285507 -0.9900583658781094, -0.14065714398766857L -0.9900583658781094, -0.14065714398766857 L -0.9904472497675166, -0.13789215143713793 L -0.9908284117196402, -0.13512608382224064 M -0.9908284117196402,-0.13512608382224064 Q -0.015774892845325055, 0.19937691129044635 0.999749751879205, 0.022370373655081842L 0.999749751879205, 0.022370373655081842 L 0.999812435314495, 0.019367348566560118 L 0.999866098353115, 0.016364148744097955 \", \"type\": \"path\"}, {\"fillcolor\": \"#f2e6ce\", \"layer\": \"below\", \"line\": {\"color\": \"rgb(175,175,175)\", \"width\": 0.5}, \"path\": \"M 0.9999673661524616,0.00807877652301179 Q -0.0334766040738069, 0.19717838872372798 -0.9466013885383825, -0.3224062828438773L -0.9466013885383825, -0.3224062828438773 L -0.9471512360491872, -0.32078736890734477 L -0.9476983148336522, -0.31916751724048587 M -0.9476983148336522,-0.31916751724048587 Q -0.03350708982230889, 0.19717321048164663 0.9999302914428098, 0.011807296688803919L 0.9999302914428098, 0.011807296688803919 L 0.9999505666178804, 0.009943053886002404 L 0.9999673661524616, 0.00807877652301179 \", \"type\": \"path\"}, {\"fillcolor\": \"#f2e6ce\", \"layer\": \"below\", \"line\": {\"color\": \"rgb(175,175,175)\", \"width\": 0.5}, \"path\": \"M 0.9882422303370159,0.15289635109616073 Q -0.07819964590105231, 0.18407828601155007 -0.7961240998370033, -0.6051333883192377L -0.7961240998370033, -0.6051333883192377 L -0.8081277700058314, -0.5890072218109064 L -0.8198048423317461, -0.5726430131324584 M -0.8198048423317461,-0.5726430131324584 Q -0.07808339025269509, 0.1841276301010941 0.9815399815660475, 0.19125706415011995L 0.9815399815660475, 0.19125706415011995 L 0.9850778530953446, 0.1721093354268347 L 0.9882422303370159, 0.15289635109616073 \", \"type\": \"path\"}, {\"fillcolor\": \"#f2e6ce\", \"layer\": \"below\", \"line\": {\"color\": \"rgb(175,175,175)\", \"width\": 0.5}, \"path\": \"M 0.9815399815660475,0.19125706415011995 Q -0.12628842947584795, 0.15508459814089787 -0.3861145504066893, -0.9224508409472237L -0.3861145504066893, -0.9224508409472237 L -0.4050703677547945, -0.9142855118435355 L -0.4238536269042081, -0.9057307011248699 M -0.4238536269042081,-0.9057307011248699 Q -0.12613937486775184, 0.15520585719608904 0.9732541681262956, 0.22973098229188027L 0.9732541681262956, 0.22973098229188027 L 0.9775863657560633, 0.2105347892578624 L 0.9815399815660475, 0.19125706415011995 \", \"type\": \"path\"}, {\"fillcolor\": \"#f2e6ce\", \"layer\": \"below\", \"line\": {\"color\": \"rgb(175,175,175)\", \"width\": 0.5}, \"path\": \"M 0.999749751879205,0.022370373655081842 Q -0.13750406829441658, 0.14523302380135322 -0.07695485399677925, -0.997034578360417L -0.07695485399677925, -0.997034578360417 L -0.07912553749700944, -0.9968646594778097 L -0.0812958458836965, -0.9966900147197494 M -0.0812958458836965,-0.9966900147197494 Q -0.13762403551945981, 0.14511934690915082 0.9995973261621346, 0.02837579125788768L 0.9995973261621346, 0.02837579125788768 L 0.9996780486127804, 0.025373196916103832 L 0.999749751879205, 0.022370373655081842 \", \"type\": \"path\"}, {\"fillcolor\": \"#f2e6ce\", \"layer\": \"below\", \"line\": {\"color\": \"rgb(175,175,175)\", \"width\": 0.5}, \"path\": \"M 0.9932069328772147,0.1163614561813141 Q -0.1642397835078039, 0.11412840800304587 0.23730991232318427, -0.971433994419159L 0.23730991232318427, -0.971433994419159 L 0.21823402373082962, -0.9758964652493889 L 0.1990743762280373, -0.979984383921202 M 0.1990743762280373,-0.979984383921202 Q -0.16410787561840637, 0.11431800015751531 0.9882422303370159, 0.15289635109616073L 0.9882422303370159, 0.15289635109616073 L 0.9908929792047189, 0.13465178707613432 L 0.9932069328772147, 0.1163614561813141 \", \"type\": \"path\"}, {\"fillcolor\": \"#f2e6ce\", \"layer\": \"below\", \"line\": {\"color\": \"rgb(175,175,175)\", \"width\": 0.5}, \"path\": \"M 0.9989332223128595,0.04617810476456621 Q -0.1863043552831243, 0.07273711021575845 0.7033925315395111, -0.7108016225181524L 0.7033925315395111, -0.7108016225181524 L 0.697205189855182, -0.7168716225650166 L 0.6909654684712413, -0.7228877654105913 M 0.6909654684712413,-0.7228877654105913 Q -0.1862841210692995, 0.07278891562208198 0.9980178109725905, 0.06293209818112461L 0.9980178109725905, 0.06293209818112461 L 0.9985106566325704, 0.05455702146555411 L 0.9989332223128595, 0.04617810476456621 \", \"type\": \"path\"}, {\"fillcolor\": \"#f2e6ce\", \"layer\": \"below\", \"line\": {\"color\": \"rgb(175,175,175)\", \"width\": 0.5}, \"path\": \"M 0.9995973261621346,0.02837579125788768 Q -0.1963871792991122, 0.037842777473890005 0.9174781569773154, -0.3977861629940246L 0.9174781569773154, -0.3977861629940246 L 0.9160007646296895, -0.40117651875181354 L 0.9145108439561184, -0.40456138753799537 M 0.9145108439561184,-0.40456138753799537 Q -0.19640007831910947, 0.03777577578617905 0.9993354637791567, 0.036450388657706L 0.9993354637791567, 0.036450388657706 L 0.9994745491789228, 0.032413354401992014 L 0.9995973261621346, 0.02837579125788768 \", \"type\": \"path\"}, {\"fillcolor\": \"#f2e6ce\", \"layer\": \"below\", \"line\": {\"color\": \"rgb(175,175,175)\", \"width\": 0.5}, \"path\": \"M 0.9999974038689542,0.0022786520909631007 Q -0.19828774802353663, 0.026114535870936942 0.9653090782459258, -0.2611099068515041L 0.9653090782459258, -0.2611099068515041 L 0.9651168933144222, -0.2618193694880465 L 0.9649241869570137, -0.2625286906708411 M 0.9649241869570137,-0.2625286906708411 Q -0.1982901906742943, 0.026095982111275607 0.999992254524767, 0.003935846855964729L 0.999992254524767, 0.003935846855964729 L 0.9999951724853879, 0.0031072505401525258 L 0.9999974038689542, 0.0022786520909631007 \", \"type\": \"path\"}, {\"fillcolor\": \"#f2e6ce\", \"layer\": \"below\", \"line\": {\"color\": \"rgb(175,175,175)\", \"width\": 0.5}, \"path\": \"M 0.999999463609104,0.0010357516615644763 Q -0.19971022891328855, 0.010762177632890701 0.9940969354148103, -0.10849554368213758L 0.9940969354148103, -0.10849554368213758 L 0.9940428251439966, -0.10899019120885044 L 0.9939884687441067, -0.1094848117491463 M 0.9939884687441067,-0.1094848117491463 Q -0.19971156030710915, 0.010737442884593352 0.9999974038689542, 0.0022786520909631007L 0.9999974038689542, 0.0022786520909631007 L 0.9999986268394976, 0.0016572021962707485 L 0.999999463609104, 0.0010357516615644763 \", \"type\": \"path\"}, {\"fillcolor\": \"#ecd5bb\", \"layer\": \"below\", \"line\": {\"color\": \"rgb(175,175,175)\", \"width\": 0.5}, \"path\": \"M 0.5614715799288513,0.8274960210975032 Q 0.03563180817775561, 0.19680034107181732 -0.2356939720020008, 0.9718273260008282L -0.2356939720020008, 0.9718273260008282 L -0.17002905521555492, 0.9854390495522825 L -0.10359949050966269, 0.9946190957176211 M -0.10359949050966269,0.9946190957176211 Q 0.03528708313844683, 0.19686244376106976 0.44261559318613725, 0.8967114567509907L 0.44261559318613725, 0.8967114567509907 L 0.5032349917649683, 0.8641496068756337 L 0.5614715799288513, 0.8274960210975032 \", \"type\": \"path\"}, {\"fillcolor\": \"#ecd5bb\", \"layer\": \"below\", \"line\": {\"color\": \"rgb(175,175,175)\", \"width\": 0.5}, \"path\": \"M 0.8014346578381862,0.5980823431734039 Q 0.03302677019615752, 0.19725423303546671 -0.5629102502948808, 0.8265180276999133L -0.5629102502948808, 0.8265180276999133 L -0.538890593289789, 0.8423757644090785 L -0.5144245129926989, 0.8575356671487342 M -0.5144245129926989,0.8575356671487342 Q 0.03276346725536392, 0.1972981378863133 0.763977060404701, 0.6452434045965846L 0.763977060404701, 0.6452434045965846 L 0.7830609831498933, 0.6219449305753062 L 0.8014346578381862, 0.5980823431734039 \", \"type\": \"path\"}, {\"fillcolor\": \"#ecd5bb\", \"layer\": \"below\", \"line\": {\"color\": \"rgb(175,175,175)\", \"width\": 0.5}, \"path\": \"M 0.9357372714574307,0.3526978293176792 Q 0.04485966700365762, 0.19490410533470287 -0.6873961348578473, 0.7262826954998254L -0.6873961348578473, 0.7262826954998254 L -0.6824809260030494, 0.7309034037696227 L -0.6775346572891153, 0.7354908484625224 M -0.6775346572891153,0.7354908484625224 Q 0.04452212901736826, 0.19498148637181126 0.9296229886525783, 0.36851200654612076L 0.9296229886525783, 0.36851200654612076 L 0.9327136468658391, 0.3606178766370668 L 0.9357372714574307, 0.3526978293176792 \", \"type\": \"path\"}, {\"fillcolor\": \"#ecd5bb\", \"layer\": \"below\", \"line\": {\"color\": \"rgb(175,175,175)\", \"width\": 0.5}, \"path\": \"M 0.8954783476103747,0.44510507631456303 Q 0.012395540278789386, 0.19961550686556623 -0.8335317507524982, 0.5524715562700719L -0.8335317507524982, 0.5524715562700719 L -0.8266500094163188, 0.5627164134197615 L -0.8196423565021788, 0.5728755601590587 M -0.8196423565021788,0.5728755601590587 Q 0.01200898419799656, 0.19963913518779897 0.8824044958817779, 0.47049155746689575L 0.8824044958817779, 0.47049155746689575 L 0.889032040846819, 0.4578449850634383 L 0.8954783476103747, 0.44510507631456303 \", \"type\": \"path\"}, {\"fillcolor\": \"#ecd5bb\", \"layer\": \"below\", \"line\": {\"color\": \"rgb(175,175,175)\", \"width\": 0.5}, \"path\": \"M 0.8824044958817779,0.47049155746689575 Q -0.018180151502986738, 0.1991719912320215 -0.9530039262963294, 0.3029579450415198L -0.9530039262963294, 0.3029579450415198 L -0.9471382606426347, 0.3208256773184535 L -0.9409376282813238, 0.33857994577989603 M -0.9409376282813238,0.33857994577989603 Q -0.018522414401423184, 0.19914045336079245 0.8623531358371694, 0.5063072872394792L 0.8623531358371694, 0.5063072872394792 L 0.8725625994650259, 0.4885023132133939 L 0.8824044958817779, 0.47049155746689575 \", \"type\": \"path\"}, {\"fillcolor\": \"#ecd5bb\", \"layer\": \"below\", \"line\": {\"color\": \"rgb(175,175,175)\", \"width\": 0.5}, \"path\": \"M 0.9454260996995809,0.3258366001646194 Q -0.00997873197468984, 0.19975090715232635 -0.9731929206971258, 0.22999030219771827L -0.9731929206971258, 0.22999030219771827 L -0.9721572845975877, 0.23432928541657974 L -0.9711023032315794, 0.23866360564258973 M -0.9711023032315794,0.23866360564258973 Q -0.01042454715043123, 0.19972813726840902 0.9409799804912035, 0.33846222287690303L 0.9409799804912035, 0.33846222287690303 L 0.9432241655261003, 0.33215685085150926 L 0.9454260996995809, 0.3258366001646194 \", \"type\": \"path\"}, {\"fillcolor\": \"#ecd5bb\", \"layer\": \"below\", \"line\": {\"color\": \"rgb(175,175,175)\", \"width\": 0.5}, \"path\": \"M 0.9409799804912035,0.33846222287690303 Q -0.02587391662002289, 0.19831928912423044 -0.9963200834747563, 0.08571050848556734L -0.9963200834747563, 0.08571050848556734 L -0.995788580557545, 0.09167934789902082 L -0.995221319331171, 0.09764489514932843 M -0.995221319331171,0.09764489514932843 Q -0.026189759674218206, 0.19827782651675074 0.9357372714574307, 0.3526978293176792L 0.9357372714574307, 0.3526978293176792 L 0.9383856211937033, 0.34558996793441155 L 0.9409799804912035, 0.33846222287690303 \", \"type\": \"path\"}, {\"fillcolor\": \"#ecd5bb\", \"layer\": \"below\", \"line\": {\"color\": \"rgb(175,175,175)\", \"width\": 0.5}, \"path\": \"M 0.923155724059172,0.3844262076612178 Q -0.040439810354401466, 0.1958688891541994 -0.9999203753817549, -0.012619148006516904L -0.9999203753817549, -0.012619148006516904 L -0.9999898676110378, -0.0045016302890304545 L -0.9999934615849706, 0.0036161840810436286 M -0.9999934615849706,0.0036161840810436286 Q -0.0407287215290314, 0.1958090172658313 0.9156106034088337, 0.40206619221878304L 0.9156106034088337, 0.40206619221878304 L 0.9194254695304792, 0.39326429532651175 L 0.923155724059172, 0.3844262076612178 \", \"type\": \"path\"}, {\"fillcolor\": \"#ecd5bb\", \"layer\": \"below\", \"line\": {\"color\": \"rgb(175,175,175)\", \"width\": 0.5}, \"path\": \"M 0.9156106034088337,0.40206619221878304 Q -0.062164490709786246, 0.19009359824779187 -0.9762574797524851, -0.21661332652292226L -0.9762574797524851, -0.21661332652292226 L -0.9781579407953146, -0.20786303870354123 L -0.9799799738298263, -0.19909608457348688 M -0.9799799738298263,-0.19909608457348688 Q -0.06243428480555391, 0.1900051580374043 0.9070721324148365, 0.42097523275888954L 0.9070721324148365, 0.42097523275888954 L 0.9113904085631753, 0.41154285703805904 L 0.9156106034088337, 0.40206619221878304 \", \"type\": \"path\"}, {\"fillcolor\": \"#ecd5bb\", \"layer\": \"below\", \"line\": {\"color\": \"rgb(175,175,175)\", \"width\": 0.5}, \"path\": \"M 0.9070721324148365,0.42097523275888954 Q -0.08393141538937789, 0.18153654593699778 -0.9082914114143928, -0.4183380355057979L -0.9082914114143928, -0.4183380355057979 L -0.9130006380094631, -0.40795812897197353 L -0.9175912482237744, -0.3975252208138947 M -0.9175912482237744,-0.3975252208138947 Q -0.08429203983842903, 0.1813693800504283 0.8954783476103747, 0.44510507631456303L 0.8954783476103747, 0.44510507631456303 L 0.9013559899380961, 0.43307895285122644 L 0.9070721324148365, 0.42097523275888954 \", \"type\": \"path\"}, {\"fillcolor\": \"#ecd5bb\", \"layer\": \"below\", \"line\": {\"color\": \"rgb(175,175,175)\", \"width\": 0.5}, \"path\": \"M 0.7092762569176679,0.704930628766308 Q -0.14858005060151286, 0.13388042636342282 -0.6274986216308294, -0.7786176724499704L -0.6274986216308294, -0.7786176724499704 L -0.6619839359196065, -0.749518024189136 L -0.6951214334182848, -0.7188923374209166 M -0.6951214334182848,-0.7188923374209166 Q -0.14884041681756638, 0.13359090658264547 0.6398667744189002, 0.768485856079832L 0.6398667744189002, 0.768485856079832 L 0.675319588402946, 0.7375252222936349 L 0.7092762569176679, 0.704930628766308 \", \"type\": \"path\"}, {\"fillcolor\": \"#ecd5bb\", \"layer\": \"below\", \"line\": {\"color\": \"rgb(175,175,175)\", \"width\": 0.5}, \"path\": \"M 0.6398667744189002,0.768485856079832 Q -0.18318832707394117, 0.08026230014054395 -0.1311923448766593, -0.9913569330194668L -0.1311923448766593, -0.9913569330194668 L -0.17840930600339544, -0.9839563605828191 L -0.2252187428288132, -0.9743082252955729 M -0.2252187428288132,-0.9743082252955729 Q -0.18329114852545245, 0.08002721332284746 0.5614715799288513, 0.8274960210975032L 0.5614715799288513, 0.8274960210975032 L 0.6013933906359415, 0.798953058508074 L 0.6398667744189002, 0.768485856079832 \", \"type\": \"path\"}, {\"fillcolor\": \"#ecd5bb\", \"layer\": \"below\", \"line\": {\"color\": \"rgb(175,175,175)\", \"width\": 0.5}, \"path\": \"M 0.9523234495561816,0.3050902283348564 Q -0.15796620735744393, 0.12266489853705109 -0.0597270100318626, -0.9982147485750017L -0.0597270100318626, -0.9982147485750017 L -0.06279951277827445, -0.9980261625803261 L -0.06587142044668813, -0.9978281194516095 M -0.06587142044668813,-0.9978281194516095 Q -0.15814943459962916, 0.1224285764673331 0.9494930217782852, 0.31378814763203033L 0.9494930217782852, 0.31378814763203033 L 0.950918180554876, 0.3094424241926182 L 0.9523234495561816, 0.3050902283348564 \", \"type\": \"path\"}, {\"fillcolor\": \"#ecd5bb\", \"layer\": \"below\", \"line\": {\"color\": \"rgb(175,175,175)\", \"width\": 0.5}, \"path\": \"M 0.44261559318613725,0.8967114567509907 Q -0.1990250390032045, -0.019723941030456604 0.6100106183717355, -0.7923932391645785L 0.6100106183717355, -0.7923932391645785 L 0.552544129525144, -0.8334836440670572 L 0.49231999309583124, -0.870414283199742 M 0.49231999309583124,-0.870414283199742 Q -0.19900615019361023, -0.019913618082062403 0.3100888133408687, 0.9507075932382427L 0.3100888133408687, 0.9507075932382427 L 0.37731932973302673, 0.9260832162445335 L 0.44261559318613725, 0.8967114567509907 \", \"type\": \"path\"}, {\"fillcolor\": \"#ecd5bb\", \"layer\": \"below\", \"line\": {\"color\": \"rgb(175,175,175)\", \"width\": 0.5}, \"path\": \"M 0.763977060404701,0.6452434045965846 Q -0.19872742061423074, -0.02252581399227628 0.8890159980942789, -0.45787613514184494L 0.8890159980942789, -0.45787613514184494 L 0.8705641059480465, -0.49205501464254836 L 0.8507988214820508, -0.5254915464255857 M 0.8507988214820508,-0.5254915464255857 Q -0.1986900344619186, -0.02285323183975526 0.7092762569176679, 0.704930628766308L 0.7092762569176679, 0.704930628766308 L 0.7372309512171968, 0.675640825118929 L 0.763977060404701, 0.6452434045965846 \", \"type\": \"path\"}, {\"fillcolor\": \"#ecd5bb\", \"layer\": \"below\", \"line\": {\"color\": \"rgb(175,175,175)\", \"width\": 0.5}, \"path\": \"M 0.8357403307304853,0.5491248488190087 Q -0.19800149986109083, -0.028202944044167507 0.9558245263699505, -0.2939378757316922L 0.9558245263699505, -0.2939378757316922 L 0.9480466142762864, -0.3181314463539719 L 0.9396564301903277, -0.34211955980617315 M 0.9396564301903277,-0.34211955980617315 Q -0.19787313600331735, -0.02908989598146878 0.8014346578381862, 0.5980823431734039L 0.8014346578381862, 0.5980823431734039 L 0.8189534143417881, 0.5738600048251554 L 0.8357403307304853, 0.5491248488190087 \", \"type\": \"path\"}, {\"fillcolor\": \"#ecd5bb\", \"layer\": \"below\", \"line\": {\"color\": \"rgb(175,175,175)\", \"width\": 0.5}, \"path\": \"M 0.9296229886525783,0.36851200654612076 Q -0.1991744892826398, -0.018152763398436175 0.9809253887422138, -0.19438462315969526L 0.9809253887422138, -0.19438462315969526 L 0.9795256421629068, -0.20131943856802573 L 0.9780768693895334, -0.2082441777461487 M 0.9780768693895334,-0.2082441777461487 Q -0.19914676899539716, -0.018454386976920447 0.923155724059172, 0.3844262076612178L 0.923155724059172, 0.3844262076612178 L 0.926423528964337, 0.37648299427897713 L 0.9296229886525783, 0.36851200654612076 \", \"type\": \"path\"}, {\"fillcolor\": \"#ecd5bb\", \"layer\": \"below\", \"line\": {\"color\": \"rgb(175,175,175)\", \"width\": 0.5}, \"path\": \"M 0.9494930217782852,0.31378814763203033 Q -0.1981643834589709, -0.027034739287182898 0.9988480994021209, -0.04798410487620542L 0.9988480994021209, -0.04798410487620542 L 0.9986101103017132, -0.0527052900874311 L 0.9983498060314877, -0.057425297534195494 M 0.9983498060314877,-0.057425297534195494 Q -0.19812002558874087, -0.0273579140417662 0.9454260996995809, 0.3258366001646194L 0.9454260996995809, 0.3258366001646194 L 0.9474787124456778, 0.3198188385043641 L 0.9494930217782852, 0.31378814763203033 \", \"type\": \"path\"}, {\"fillcolor\": \"#e6c4a9\", \"layer\": \"below\", \"line\": {\"color\": \"rgb(175,175,175)\", \"width\": 0.5}, \"path\": \"M 0.016663071017116036,0.99986116139406 Q -0.06290108250768331, 0.1898511359443541 -0.6103758593937056, 0.7921119303920345L -0.6103758593937056, 0.7921119303920345 L -0.5868952365457011, 0.8096628812783537 L -0.5629102502948808, 0.8265180276999133 M -0.5629102502948808,0.8265180276999133 Q -0.06301096028440314, 0.18981469617507854 -0.04311273163063156, 0.9990702139346088L -0.04311273163063156, 0.9990702139346088 L -0.013230742084760199, 0.9999124699011842 L 0.016663071017116036, 0.99986116139406 \", \"type\": \"path\"}, {\"fillcolor\": \"#e6c4a9\", \"layer\": \"below\", \"line\": {\"color\": \"rgb(175,175,175)\", \"width\": 0.5}, \"path\": \"M 0.2298345015732425,0.9732297271901322 Q -0.050690749046219265, 0.19346950137200752 -0.6775346572891153, 0.7354908484625224L -0.6775346572891153, 0.7354908484625224 L -0.6736735188799562, 0.7390290860039931 L -0.6697939032804449, 0.7425470538143331 M -0.6697939032804449,0.7425470538143331 Q -0.050918368598927614, 0.19340971986749722 0.2173316746598873, 0.9760978143554717L 0.2173316746598873, 0.9760978143554717 L 0.22358768698820733, 0.9746838185931187 L 0.2298345015732425, 0.9732297271901322 \", \"type\": \"path\"}, {\"fillcolor\": \"#e6c4a9\", \"layer\": \"below\", \"line\": {\"color\": \"rgb(175,175,175)\", \"width\": 0.5}, \"path\": \"M 0.20159985531511176,0.9794679669784643 Q -0.07027424006045417, 0.187247246131754 -0.796244321689174, 0.6049751897208241L -0.796244321689174, 0.6049751897208241 L -0.7913184225308867, 0.611404247747126 L -0.7863406150446791, 0.6177931993241393 M -0.7863406150446791,0.6177931993241393 Q -0.07046750134098127, 0.18717460098731026 0.18367909931620596, 0.9829862605725409L 0.18367909931620596, 0.9829862605725409 L 0.1926475092439655, 0.9812680251501606 L 0.20159985531511176, 0.9794679669784643 \", \"type\": \"path\"}, {\"fillcolor\": \"#e6c4a9\", \"layer\": \"below\", \"line\": {\"color\": \"rgb(175,175,175)\", \"width\": 0.5}, \"path\": \"M 0.14507888063882418,0.9894200919693241 Q -0.09718062610864989, 0.1748025340466516 -0.916956814044405, 0.3989864674115334L -0.916956814044405, 0.3989864674115334 L -0.9115326814564714, 0.4112276384641177 L -0.9059451406989969, 0.42339508977298573 M -0.9059451406989969,0.42339508977298573 Q -0.09732946946847841, 0.17471970230338804 0.11684343052951077, 0.9931503475013718L 0.11684343052951077, 0.9931503475013718 L 0.1309744363359665, 0.9913857458257487 L 0.14507888063882418, 0.9894200919693241 \", \"type\": \"path\"}, {\"fillcolor\": \"#e6c4a9\", \"layer\": \"below\", \"line\": {\"color\": \"rgb(175,175,175)\", \"width\": 0.5}, \"path\": \"M 0.23934524279278308,0.9709345265013825 Q -0.10352241771893722, 0.17112308152211927 -0.9711023032315794, 0.23866360564258973L -0.9711023032315794, 0.23866360564258973 L -0.970298384490338, 0.24191123383472737 L -0.9694836048361769, 0.24515615422389786 M -0.9694836048361769,0.24515615422389786 Q -0.10378689337336776, 0.17096280520600146 0.2298345015732425, 0.9732297271901322L 0.2298345015732425, 0.9732297271901322 L 0.23459267916410495, 0.972093758277774 L 0.23934524279278308, 0.9709345265013825 \", \"type\": \"path\"}, {\"fillcolor\": \"#e6c4a9\", \"layer\": \"below\", \"line\": {\"color\": \"rgb(175,175,175)\", \"width\": 0.5}, \"path\": \"M 0.25556553697401146,0.9667917336795889 Q -0.10884558589817826, 0.16778747995748167 -0.986998992575972, 0.1607264404322335L -0.986998992575972, 0.1607264404322335 L -0.9864841248150297, 0.1638568628038663 L -0.985959328453375, 0.16698563601630495 M -0.985959328453375,0.16698563601630495 Q -0.10896989348333162, 0.16770677480123264 0.2479906618372886, 0.9687624227030607L 0.2479906618372886, 0.9687624227030607 L 0.2517800274925081, 0.9677844893135412 L 0.25556553697401146, 0.9667917336795889 \", \"type\": \"path\"}, {\"fillcolor\": \"#e6c4a9\", \"layer\": \"below\", \"line\": {\"color\": \"rgb(175,175,175)\", \"width\": 0.5}, \"path\": \"M 0.2627052175987937,0.9648761416090516 Q -0.11921362795609299, 0.16058677065545046 -0.9996141351317183, 0.027777344093107184L -0.9996141351317183, 0.027777344093107184 L -0.9995198392382298, 0.030985334743764713 L -0.9994152481947131, 0.034193006242508144 M -0.9994152481947131,0.034193006242508144 Q -0.11929177588167526, 0.1605287270459595 0.25556553697401146, 0.9667917336795889L 0.25556553697401146, 0.9667917336795889 L 0.2591371473459784, 0.9658405349049027 L 0.2627052175987937, 0.9648761416090516 \", \"type\": \"path\"}, {\"fillcolor\": \"#e6c4a9\", \"layer\": \"below\", \"line\": {\"color\": \"rgb(175,175,175)\", \"width\": 0.5}, \"path\": \"M 0.2479906618372886,0.9687624227030607 Q -0.13589194843461327, 0.14674255807585068 -0.9849241495384008, -0.17298676150520265L -0.9849241495384008, -0.17298676150520265 L -0.985599356500144, -0.16909733429744578 L -0.986259204326567, -0.16520527195318827 M -0.986259204326567,-0.16520527195318827 Q -0.13596669105212805, 0.14667330678871043 0.23934524279278308, 0.9709345265013825L 0.23934524279278308, 0.9709345265013825 L 0.2436703726227919, 0.9698581079239734 L 0.2479906618372886, 0.9687624227030607 \", \"type\": \"path\"}, {\"fillcolor\": \"#e6c4a9\", \"layer\": \"below\", \"line\": {\"color\": \"rgb(175,175,175)\", \"width\": 0.5}, \"path\": \"M 0.2173316746598873,0.9760978143554717 Q -0.1530382889302868, 0.12876056120291676 -0.9245432990333278, -0.38107701086863094L -0.9245432990333278, -0.38107701086863094 L -0.9271990042045632, -0.3745690945634281 L -0.9298089004186108, -0.36804267239320754 M -0.9298089004186108,-0.36804267239320754 Q -0.15316896998381893, 0.12860508012553773 0.20159985531511176, 0.9794679669784643L 0.20159985531511176, 0.9794679669784643 L 0.20947254279254346, 0.9778145293541235 L 0.2173316746598873, 0.9760978143554717 \", \"type\": \"path\"}, {\"fillcolor\": \"#e6c4a9\", \"layer\": \"below\", \"line\": {\"color\": \"rgb(175,175,175)\", \"width\": 0.5}, \"path\": \"M 0.16462492012614505,0.986356241767375 Q -0.16802575392061686, 0.10847739865708578 -0.8311505976270466, -0.5560473757371788L -0.8311505976270466, -0.5560473757371788 L -0.8365220580511933, -0.5479332499436369 L -0.8418143068427484, -0.5397672394605504 M -0.8418143068427484,-0.5397672394605504 Q -0.16804327266312047, 0.1084502582415927 0.14507888063882418, 0.9894200919693241L 0.14507888063882418, 0.9894200919693241 L 0.15485947774218384, 0.9879365071467994 L 0.16462492012614505, 0.986356241767375 \", \"type\": \"path\"}, {\"fillcolor\": \"#e6c4a9\", \"layer\": \"below\", \"line\": {\"color\": \"rgb(175,175,175)\", \"width\": 0.5}, \"path\": \"M 0.08851320223481894,0.9960750037171588 Q -0.19311442564933187, 0.052027094923017575 -0.4238536269042081, -0.9057307011248699L -0.4238536269042081, -0.9057307011248699 L -0.44001920135982947, -0.8979883643091696 L -0.4560434110328257, -0.8899575311516529 M -0.4560434110328257,-0.8899575311516529 Q -0.19311508886568732, 0.052024633130832255 0.05273075737485102, 0.9986087658471032L 0.05273075737485102, 0.9986087658471032 L 0.0706333421210359, 0.9975023463535375 L 0.08851320223481894, 0.9960750037171588 \", \"type\": \"path\"}, {\"fillcolor\": \"#e6c4a9\", \"layer\": \"below\", \"line\": {\"color\": \"rgb(175,175,175)\", \"width\": 0.5}, \"path\": \"M 0.2698305428198,0.9629078243329275 Q -0.1970292980604783, 0.03434320465237928 -0.07186356287695185, -0.9974144716869865L -0.07186356287695185, -0.9974144716869865 L -0.07440945087780043, -0.997227774192067 L -0.07695485399677925, -0.997034578360417 M -0.07695485399677925,-0.997034578360417 Q -0.1970684366079307, 0.034117902821041234 0.2627052175987937, 0.9648761416090516L 0.2627052175987937, 0.9648761416090516 L 0.26626969898840797, 0.9638985669667854 L 0.2698305428198, 0.9629078243329275 \", \"type\": \"path\"}, {\"fillcolor\": \"#e6c4a9\", \"layer\": \"below\", \"line\": {\"color\": \"rgb(175,175,175)\", \"width\": 0.5}, \"path\": \"M -0.04311273163063156,0.9990702139346088 Q -0.19632949625978768, -0.038140908462935344 0.3340842819503998, -0.9425432046085133L 0.3340842819503998, -0.9425432046085133 L 0.3049881198279903, -0.9523561554186477 L 0.27560439030773826, -0.9612711480342577 M 0.27560439030773826,-0.9612711480342577 Q -0.19634389043610018, -0.03806673992367482 -0.10359949050966269, 0.9946190957176211L -0.10359949050966269, 0.9946190957176211 L -0.0733898640459372, 0.9973033279074721 L -0.04311273163063156, 0.9990702139346088 \", \"type\": \"path\"}, {\"fillcolor\": \"#e6c4a9\", \"layer\": \"below\", \"line\": {\"color\": \"rgb(175,175,175)\", \"width\": 0.5}, \"path\": \"M 0.05273075737485102,0.9986087658471032 Q -0.17883754735558202, -0.08953843675115153 0.8311211271903044, -0.5560914240823337L 0.8311211271903044, -0.5560914240823337 L 0.8211124613937189, -0.5707664371211298 L 0.810844710475911, -0.5852613565692135 M 0.810844710475911,-0.5852613565692135 Q -0.17881226259364147, -0.08958892088948614 0.016663071017116036, 0.99986116139406L 0.016663071017116036, 0.99986116139406 L 0.034702564435138576, 0.9993976846189033 L 0.05273075737485102, 0.9986087658471032 \", \"type\": \"path\"}, {\"fillcolor\": \"#e6c4a9\", \"layer\": \"below\", \"line\": {\"color\": \"rgb(175,175,175)\", \"width\": 0.5}, \"path\": \"M 0.18367909931620596,0.9829862605725409 Q -0.1737178213958853, -0.09910660184602893 0.9396564301903277, -0.34211955980617315L 0.9396564301903277, -0.34211955980617315 L 0.9367356318052041, -0.3500376495557372 L 0.9337481123559351, -0.3579308071006574 M 0.9337481123559351,-0.3579308071006574 Q -0.17359524729203285, -0.09932114637688172 0.16462492012614505, 0.986356241767375L 0.16462492012614505, 0.986356241767375 L 0.17416016101059895, 0.9847173392993354 L 0.18367909931620596, 0.9829862605725409 \", \"type\": \"path\"}, {\"fillcolor\": \"#e6c4a9\", \"layer\": \"below\", \"line\": {\"color\": \"rgb(175,175,175)\", \"width\": 0.5}, \"path\": \"M 0.28007335606526934,0.9599786014398117 Q -0.1740896012035552, -0.09845207337982842 0.9670152614244331, -0.2547184409740202L 0.9670152614244331, -0.2547184409740202 L 0.9665926800968943, -0.25631736340541383 L 0.9661674550147287, -0.25791558477603127 M 0.9661674550147287,-0.25791558477603127 Q -0.17405976821435143, -0.09850480744190232 0.2763143221915524, 0.9610673209259708L 0.2763143221915524, 0.9610673209259708 L 0.2781943717197277, 0.9605248000668519 L 0.28007335606526934, 0.9599786014398117 \", \"type\": \"path\"}, {\"fillcolor\": \"#e6c4a9\", \"layer\": \"below\", \"line\": {\"color\": \"rgb(175,175,175)\", \"width\": 0.5}, \"path\": \"M 0.2763143221915524,0.9610673209259708 Q -0.1649615836796895, -0.1130826065754093 0.9960446492332307, -0.08885413177703412L 0.9960446492332307, -0.08885413177703412 L 0.9958129204470112, -0.09141459112633257 L 0.9955746096856136, -0.09397444625715047 M 0.9955746096856136,-0.09397444625715047 Q -0.16487117194570095, -0.11321438363234203 0.2698305428198, 0.9629078243329275L 0.2698305428198, 0.9629078243329275 L 0.27307398312136005, 0.9619930351838495 L 0.2763143221915524, 0.9610673209259708 \", \"type\": \"path\"}, {\"fillcolor\": \"#e1b396\", \"layer\": \"below\", \"line\": {\"color\": \"rgb(175,175,175)\", \"width\": 0.5}, \"path\": \"M -0.3416406706158519,0.9398306507989357 Q -0.10649722912839335, 0.1692877437618403 -0.6992930403908221, 0.714835116415639L -0.6992930403908221, 0.714835116415639 L -0.6933682131123989, 0.7205834587647144 L -0.6873961348578473, 0.7262826954998254 M -0.6873961348578473,0.7262826954998254 Q -0.10677793879542455, 0.16911082693488486 -0.36020761303082655, 0.9328721646156211L -0.36020761303082655, 0.9328721646156211 L -0.35094138890552345, 0.9363974271392794 L -0.3416406706158519, 0.9398306507989357 \", \"type\": \"path\"}, {\"fillcolor\": \"#e1b396\", \"layer\": \"below\", \"line\": {\"color\": \"rgb(175,175,175)\", \"width\": 0.5}, \"path\": \"M -0.36020761303082655,0.9328721646156211 Q -0.12173951338136489, 0.15868046786441137 -0.8077618326636458, 0.5895089665915764L -0.8077618326636458, 0.5895089665915764 L -0.8020403585948161, 0.5972698411816043 L -0.796244321689174, 0.6049751897208241 M -0.796244321689174,0.6049751897208241 Q -0.12190106196747884, 0.15855639719418732 -0.38001385769239515, 0.9249807932934305L -0.38001385769239515, 0.9249807932934305 L -0.37013176689558613, 0.9289792651802038 L -0.36020761303082655, 0.9328721646156211 \", \"type\": \"path\"}, {\"fillcolor\": \"#e1b396\", \"layer\": \"below\", \"line\": {\"color\": \"rgb(175,175,175)\", \"width\": 0.5}, \"path\": \"M -0.4482982346967023,0.89388404883845 Q -0.1496107927209119, 0.13272758078643768 -0.9409376282813238, 0.33857994577989603L -0.9409376282813238, 0.33857994577989603 L -0.9347678118781216, 0.3552592544559374 L -0.9283023602239652, 0.37182620671842853 M -0.9283023602239652,0.37182620671842853 Q -0.14971228945240328, 0.13261308527788584 -0.4811437186298374, 0.8766417295697553L -0.4811437186298374, 0.8766417295697553 L -0.46480093647098464, 0.8854152073777001 L -0.4482982346967023, 0.89388404883845 \", \"type\": \"path\"}, {\"fillcolor\": \"#e1b396\", \"layer\": \"below\", \"line\": {\"color\": \"rgb(175,175,175)\", \"width\": 0.5}, \"path\": \"M -0.26815810959816466,0.9633749157294572 Q -0.14159008973643505, 0.1412524211772254 -0.9640124441974015, 0.26585711845378873L -0.9640124441974015, 0.26585711845378873 L -0.9637748698191588, 0.26671707914016957 L -0.9635365283012095, 0.2675768275266983 M -0.9635365283012095,0.2675768275266983 Q -0.14164475465438794, 0.14119760436671103 -0.27062202492152804, 0.9626856805974481L -0.27062202492152804, 0.9626856805974481 L -0.2693902876859732, 0.9630310861547869 L -0.26815810959816466, 0.9633749157294572 \", \"type\": \"path\"}, {\"fillcolor\": \"#e1b396\", \"layer\": \"below\", \"line\": {\"color\": \"rgb(175,175,175)\", \"width\": 0.5}, \"path\": \"M -0.2945499031622823,0.9556360994369615 Q -0.1536070613685979, 0.1280815002164786 -0.993017129249564, 0.11797025479736305L -0.993017129249564, 0.11797025479736305 L -0.9925092355415763, 0.12216962537666938 L -0.9919835831940789, 0.12636681001527267 M -0.9919835831940789,0.12636681001527267 Q -0.15372061255905034, 0.12794519637122118 -0.3043142914200988, 0.9525716834115336L -0.3043142914200988, 0.9525716834115336 L -0.2994360174554746, 0.9541163825500559 L -0.2945499031622823, 0.9556360994369615 \", \"type\": \"path\"}, {\"fillcolor\": \"#e1b396\", \"layer\": \"below\", \"line\": {\"color\": \"rgb(175,175,175)\", \"width\": 0.5}, \"path\": \"M -0.280664455476651,0.9598059509254957 Q -0.15796719188224112, 0.12266363066874882 -0.9994152481947131, 0.034193006242508144L -0.9994152481947131, 0.034193006242508144 L -0.9993179035096141, 0.036928684313817406 L -0.9992130705252467, 0.03966408566333597 M -0.9992130705252467,0.03966408566333597 Q -0.15801061860824073, 0.12260768494283342 -0.2865935752773704, 0.9580522546342314L -0.2865935752773704, 0.9580522546342314 L -0.28363037077577397, 0.9589336852846484 L -0.280664455476651, 0.9598059509254957 \", \"type\": \"path\"}, {\"fillcolor\": \"#e1b396\", \"layer\": \"below\", \"line\": {\"color\": \"rgb(175,175,175)\", \"width\": 0.5}, \"path\": \"M -0.2747246058984148,0.9615229539194374 Q -0.16806739468157658, 0.10841287213678628 -0.9892574444752237, -0.14618381767606758L -0.9892574444752237, -0.14618381767606758 L -0.9896617630833184, -0.14342103991680452 L -0.9900583658781094, -0.14065714398766857 M -0.9900583658781094,-0.14065714398766857 Q -0.1680998367630874, 0.10836256217081329 -0.280664455476651, 0.9598059509254957L -0.280664455476651, 0.9598059509254957 L -0.2776958577267394, 0.9606690432200938 L -0.2747246058984148, 0.9615229539194374 \", \"type\": \"path\"}, {\"fillcolor\": \"#e1b396\", \"layer\": \"below\", \"line\": {\"color\": \"rgb(175,175,175)\", \"width\": 0.5}, \"path\": \"M -0.3154634090522297,0.948937741661246 Q -0.18066710222712212, 0.08578693474448544 -0.9347558298698355, -0.3552907802411359L -0.9347558298698355, -0.3552907802411359 L -0.9368983857145726, -0.3496017946827904 L -0.9390063183836855, -0.34389988955438267 M -0.9390063183836855,-0.34389988955438267 Q -0.18073084250595262, 0.08565256894622925 -0.3283822156378262, 0.9445449277047611L -0.3283822156378262, 0.9445449277047611 L -0.321930305053355, 0.9467633699548446 L -0.3154634090522297, 0.948937741661246 \", \"type\": \"path\"}, {\"fillcolor\": \"#e1b396\", \"layer\": \"below\", \"line\": {\"color\": \"rgb(175,175,175)\", \"width\": 0.5}, \"path\": \"M -0.3283822156378262,0.9445449277047611 Q -0.1884741257710237, 0.06691415332236028 -0.8504760880985728, -0.5260137104416088L -0.8504760880985728, -0.5260137104416088 L -0.8541672960936574, -0.5199982983472641 L -0.8578159578456352, -0.5139569850341322 M -0.8578159578456352,-0.5139569850341322 Q -0.18847266893800013, 0.06691825657761119 -0.3416406706158519, 0.9398306507989357L -0.3416406706158519, 0.9398306507989357 L -0.3350197354300394, 0.9422111105651357 L -0.3283822156378262, 0.9445449277047611 \", \"type\": \"path\"}, {\"fillcolor\": \"#e1b396\", \"layer\": \"below\", \"line\": {\"color\": \"rgb(175,175,175)\", \"width\": 0.5}, \"path\": \"M -0.38001385769239515,0.9249807932934305 Q -0.1996768074591473, 0.011365410811872671 -0.4825174738715058, -0.8758863438875278L -0.4825174738715058, -0.8758863438875278 L -0.49285465172163406, -0.8701116550629274 L -0.5031227292416872, -0.8642149728628843 M -0.5031227292416872,-0.8642149728628843 Q -0.19967429083666946, 0.01140953894218069 -0.4014055998420579, 0.9159004009254705L -0.4014055998420579, 0.9159004009254705 L -0.3907361072830981, 0.9205027400639562 L -0.38001385769239515, 0.9249807932934305 \", \"type\": \"path\"}, {\"fillcolor\": \"#e1b396\", \"layer\": \"below\", \"line\": {\"color\": \"rgb(175,175,175)\", \"width\": 0.5}, \"path\": \"M -0.27062202492152804,0.9626856805974481 Q -0.19911000360155426, -0.018846921918155676 -0.0851864614154403, -0.9963650268809698L -0.0851864614154403, -0.9963650268809698 L -0.08668250950054605, -0.9962359873778339 L -0.08817836213297102, -0.996104701550769 M -0.08817836213297102,-0.996104701550769 Q -0.19909808139878615, -0.018972453276325008 -0.2747246058984148, 0.9615229539194374L -0.2747246058984148, 0.9615229539194374 L -0.272673935167991, 0.9621065040212555 L -0.27062202492152804, 0.9626856805974481 \", \"type\": \"path\"}, {\"fillcolor\": \"#e1b396\", \"layer\": \"below\", \"line\": {\"color\": \"rgb(175,175,175)\", \"width\": 0.5}, \"path\": \"M -0.4811437186298374,0.8766417295697553 Q -0.18493702066243425, -0.07614655861233893 0.27560439030773826, -0.9612711480342577L 0.27560439030773826, -0.9612711480342577 L 0.2565074878487998, -0.9665422436073334 L 0.23730991232318427, -0.971433994419159 M 0.23730991232318427,-0.971433994419159 Q -0.18498439190483068, -0.07603140635027093 -0.5144245129926989, 0.8575356671487342L -0.5144245129926989, 0.8575356671487342 L -0.49787577402331495, 0.8672483575312697 L -0.4811437186298374, 0.8766417295697553 \", \"type\": \"path\"}, {\"fillcolor\": \"#e1b396\", \"layer\": \"below\", \"line\": {\"color\": \"rgb(175,175,175)\", \"width\": 0.5}, \"path\": \"M -0.4014055998420579,0.9159004009254705 Q -0.16151818007104848, -0.11794862231724608 0.7502435888848206, -0.6611615213676794L 0.7502435888848206, -0.6611615213676794 L 0.7420507628474445, -0.6703436919651931 L 0.7337455646085372, -0.6794243492967403 M 0.7337455646085372,-0.6794243492967403 Q -0.1615236612748832, -0.11794111602132991 -0.42373962990973063, 0.9057840394067256L -0.42373962990973063, 0.9057840394067256 L -0.4126036206071483, 0.9109106719442212 L -0.4014055998420579, 0.9159004009254705 \", \"type\": \"path\"}, {\"fillcolor\": \"#e1b396\", \"layer\": \"below\", \"line\": {\"color\": \"rgb(175,175,175)\", \"width\": 0.5}, \"path\": \"M -0.2865935752773704,0.9580522546342314 Q -0.15003319746438923, -0.13224991364311584 0.9145108439561184, -0.40456138753799537L 0.9145108439561184, -0.40456138753799537 L 0.9130084153345459, -0.4079407230570409 L 0.9114934993139896, -0.4113144790891004 M 0.9114934993139896,-0.4113144790891004 Q -0.14997244030038778, -0.1323188087550165 -0.2945499031622823, 0.9556360994369615L -0.2945499031622823, 0.9556360994369615 L -0.29057425055348446, 0.9568524467833486 L -0.2865935752773704, 0.9580522546342314 \", \"type\": \"path\"}, {\"fillcolor\": \"#e1b396\", \"layer\": \"below\", \"line\": {\"color\": \"rgb(175,175,175)\", \"width\": 0.5}, \"path\": \"M -0.3043142914200988,0.9525716834115336 Q -0.13421808652291503, -0.14827509989923224 0.9780768693895334, -0.2082441777461487L 0.9780768693895334, -0.2082441777461487 L 0.9770120557273524, -0.21318405888671133 L 0.9759222928373329, -0.2181184961050371 M 0.9759222928373329,-0.2181184961050371 Q -0.13409795670627703, -0.14838375250411162 -0.3154634090522297, 0.948937741661246L -0.3154634090522297, 0.948937741661246 L -0.3098941769118178, 0.9507710550475056 L -0.3043142914200988, 0.9525716834115336 \", \"type\": \"path\"}, {\"fillcolor\": \"#e1b396\", \"layer\": \"below\", \"line\": {\"color\": \"rgb(175,175,175)\", \"width\": 0.5}, \"path\": \"M -0.2661035052572101,0.9639444613097925 Q -0.1294165271947135, -0.1524839745312929 0.994381366128803, -0.10585697282567402L 0.994381366128803, -0.10585697282567402 L 0.9942932337542814, -0.10668160717974759 L 0.9942044175156782, -0.107506168159371 M 0.9942044175156782,-0.107506168159371 Q -0.12938042885504616, -0.1525146046425861 -0.26815810959816466, 0.9633749157294572L -0.26815810959816466, 0.9633749157294572 L -0.267130959217591, 0.9636602360933493 L -0.2661035052572101, 0.9639444613097925 \", \"type\": \"path\"}, {\"fillcolor\": \"#dba284\", \"layer\": \"below\", \"line\": {\"color\": \"rgb(175,175,175)\", \"width\": 0.5}, \"path\": \"M -0.6992930403908221,0.714835116415639 Q -0.1525554736988176, 0.12933223667952773 -0.8196423565021788, 0.5728755601590587L -0.8196423565021788, 0.5728755601590587 L -0.8137445952391977, 0.5812226197585518 L -0.8077618326636458, 0.5895089665915764 M -0.8077618326636458,0.5895089665915764 Q -0.1524504864496497, 0.12945597391107594 -0.7126203264725145, 0.7015499057787742L -0.7126203264725145, 0.7015499057787742 L -0.7059879340946681, 0.7082238607338379 L -0.6992930403908221, 0.714835116415639 \", \"type\": \"path\"}, {\"fillcolor\": \"#dba284\", \"layer\": \"below\", \"line\": {\"color\": \"rgb(175,175,175)\", \"width\": 0.5}, \"path\": \"M -0.6454564526236958,0.7637970723735689 Q -0.1537564972561745, 0.1279020701611667 -0.8685403398505943, 0.4956184803376627L -0.8685403398505943, 0.4956184803376627 L -0.8665578641539748, 0.4990766154338443 L -0.8645616197989751, 0.5025268207474826 M -0.8645616197989751,0.5025268207474826 Q -0.1536894225313708, 0.12798266055202076 -0.6507292180841262, 0.7593098739853327L -0.6507292180841262, 0.7593098739853327 L -0.6480967188425006, 0.7615580365445463 L -0.6454564526236958, 0.7637970723735689 \", \"type\": \"path\"}, {\"fillcolor\": \"#dba284\", \"layer\": \"below\", \"line\": {\"color\": \"rgb(175,175,175)\", \"width\": 0.5}, \"path\": \"M -0.6352297738459944,0.7723232059310188 Q -0.16739516334136748, 0.109447975266411 -0.9622524252609709, 0.272158538501697L -0.9622524252609709, 0.272158538501697 L -0.9622119458387439, 0.2723016182199771 L -0.9621714451416361, 0.2724446919175623 M -0.9621714451416361,0.2724446919175623 Q -0.1673983191335522, 0.10944314848934773 -0.6355039548487751, 0.7720976125928418L -0.6355039548487751, 0.7720976125928418 L -0.6353668743597801, 0.7722104214307675 L -0.6352297738459944, 0.7723232059310188 \", \"type\": \"path\"}, {\"fillcolor\": \"#dba284\", \"layer\": \"below\", \"line\": {\"color\": \"rgb(175,175,175)\", \"width\": 0.5}, \"path\": \"M -0.663309248677684,0.7483454019492912 Q -0.17762134500480267, 0.09192745943778094 -0.9939989000425155, 0.10939006679890755L -0.9939989000425155, 0.10939006679890755 L -0.9935172771886948, 0.11368122064599025 L -0.993017129249564, 0.11797025479736305 M -0.993017129249564,0.11797025479736305 Q -0.17762422998492633, 0.09192188489289156 -0.6697939032804449, 0.7425470538143331L -0.6697939032804449, 0.7425470538143331 L -0.6665578809454196, 0.7454532791191892 L -0.663309248677684, 0.7483454019492912 \", \"type\": \"path\"}, {\"fillcolor\": \"#dba284\", \"layer\": \"below\", \"line\": {\"color\": \"rgb(175,175,175)\", \"width\": 0.5}, \"path\": \"M -0.6355039548487751,0.7720976125928418 Q -0.1785554362185903, 0.09009970142452714 -0.998621561536795, 0.05248787320718009L -0.998621561536795, 0.05248787320718009 L -0.9986016723069373, 0.05286492282968107 L -0.9985816407144287, 0.05324196491565296 M -0.9985816407144287,0.05324196491565296 Q -0.17855340768024497, 0.09010372137582463 -0.6360520764704509, 0.7716461339355156L -0.6360520764704509, 0.7716461339355156 L -0.6357780557351124, 0.77187192191819 L -0.6355039548487751, 0.7720976125928418 \", \"type\": \"path\"}, {\"fillcolor\": \"#dba284\", \"layer\": \"below\", \"line\": {\"color\": \"rgb(175,175,175)\", \"width\": 0.5}, \"path\": \"M -0.6376945157776903,0.7702893641658679 Q -0.1859702866616409, 0.07358704015645089 -0.9921076634963377, -0.12538893105787904L -0.9921076634963377, -0.12538893105787904 L -0.9922638329757962, -0.1241470328609632 L -0.9924184478754702, -0.12290494016288625 M -0.9924184478754702,-0.12290494016288625 Q -0.1859630938112585, 0.07360521544119737 -0.6394705588455956, 0.7688155854102476L -0.6394705588455956, 0.7688155854102476 L -0.6385829624765534, 0.7695529871520667 L -0.6376945157776903, 0.7702893641658679 \", \"type\": \"path\"}, {\"fillcolor\": \"#dba284\", \"layer\": \"below\", \"line\": {\"color\": \"rgb(175,175,175)\", \"width\": 0.5}, \"path\": \"M -0.6349555127613357,0.7725487019042808 Q -0.19186380332567332, 0.056464864946330545 -0.952207464074191, -0.3054520344692408L -0.952207464074191, -0.3054520344692408 L -0.9522654739983781, -0.3052711369105247 L -0.9523234495561822, -0.3050902283348547 M -0.9523234495561822,-0.3050902283348547 Q -0.19186310081595226, 0.05646725197216306 -0.6352297738459944, 0.7723232059310188L -0.6352297738459944, 0.7723232059310188 L -0.635092653311739, 0.7724359660900412 L -0.6349555127613357, 0.7725487019042808 \", \"type\": \"path\"}, {\"fillcolor\": \"#dba284\", \"layer\": \"below\", \"line\": {\"color\": \"rgb(175,175,175)\", \"width\": 0.5}, \"path\": \"M -0.6394705588455956,0.7688155854102476 Q -0.19635686595670765, 0.0379997525210302 -0.8801277336818955, -0.4747369507463797L -0.8801277336818955, -0.4747369507463797 L -0.8808374649016956, -0.47341880024514676 L -0.8815452219540861, -0.4720995886991652 M -0.8815452219540861,-0.4720995886991652 Q -0.19634719371624312, 0.03804969802450609 -0.641379411212022, 0.7672238596871971L -0.641379411212022, 0.7672238596871971 L -0.6404254795421902, 0.7680203155862192 L -0.6394705588455956, 0.7688155854102476 \", \"type\": \"path\"}, {\"fillcolor\": \"#dba284\", \"layer\": \"below\", \"line\": {\"color\": \"rgb(175,175,175)\", \"width\": 0.5}, \"path\": \"M -0.6360520764704509,0.7716461339355156 Q -0.19995214108607326, -0.004375074295947695 -0.6016913210270433, -0.798728711266054L -0.6016913210270433, -0.798728711266054 L -0.6022117968411163, -0.7983363650400714 L -0.602732016817169, -0.7979436796563452 M -0.602732016817169,-0.7979436796563452 Q -0.1999526611761263, -0.004351239890564697 -0.6368736574250737, 0.7709681864240637L -0.6368736574250737, 0.7709681864240637 L -0.6364629572147715, 0.7713072695712312 L -0.6360520764704509, 0.7716461339355156 \", \"type\": \"path\"}, {\"fillcolor\": \"#dba284\", \"layer\": \"below\", \"line\": {\"color\": \"rgb(175,175,175)\", \"width\": 0.5}, \"path\": \"M -0.657042105153231,0.7538538797776466 Q -0.18601248221573688, -0.0734803134175418 0.035531493243848425, -0.9993685571338846L 0.035531493243848425, -0.9993685571338846 L 0.030361347799175733, -0.9995389880138831 L 0.025190389901515457, -0.9996826717797052 M 0.025190389901515457,-0.9996826717797052 Q -0.1860859431679488, -0.07329407721838745 -0.663309248677684, 0.7483454019492912L -0.663309248677684, 0.7483454019492912 L -0.6601814222036083, 0.7511061774324725 L -0.657042105153231, 0.7538538797776466 \", \"type\": \"path\"}, {\"fillcolor\": \"#dba284\", \"layer\": \"below\", \"line\": {\"color\": \"rgb(175,175,175)\", \"width\": 0.5}, \"path\": \"M -0.641379411212022,0.7672238596871971 Q -0.15329561565365368, -0.12845409382875775 0.6431606598985625, -0.765731261970442L 0.6431606598985625, -0.765731261970442 L 0.6406991615864617, -0.7677920189363817 L 0.6382310604253589, -0.7698448632733234 M 0.6382310604253589,-0.7698448632733234 Q -0.15336589559178943, -0.1283701759340087 -0.6454564526236958, 0.7637970723735689L -0.6454564526236958, 0.7637970723735689 L -0.6434202132597934, 0.7655131802710663 L -0.641379411212022, 0.7672238596871971 \", \"type\": \"path\"}, {\"fillcolor\": \"#dba284\", \"layer\": \"below\", \"line\": {\"color\": \"rgb(175,175,175)\", \"width\": 0.5}, \"path\": \"M -0.6507292180841262,0.7593098739853327 Q -0.10376556426737504, -0.17097575170846088 0.9739604656739848, -0.22671791129973554L 0.9739604656739848, -0.22671791129973554 L 0.9729723484605106, -0.2309216514994612 L 0.9719660874461795, -0.2351210855167305 M 0.9719660874461795,-0.2351210855167305 Q -0.10379058707812877, -0.17096056280317218 -0.657042105153231, 0.7538538797776466L -0.657042105153231, 0.7538538797776466 L -0.6538913521669297, 0.7565884611605601 L -0.6507292180841262, 0.7593098739853327 \", \"type\": \"path\"}, {\"fillcolor\": \"#dba284\", \"layer\": \"below\", \"line\": {\"color\": \"rgb(175,175,175)\", \"width\": 0.5}, \"path\": \"M -0.6368736574250737,0.7709681864240637 Q -0.094836831651406, -0.17608513668769118 0.9942044175156782, -0.107506168159371L 0.9942044175156782, -0.107506168159371 L 0.9941507995431498, -0.1080008692914836 L 0.9940969354148103, -0.10849554368213758 M 0.9940969354148103,-0.10849554368213758 Q -0.09483067009067384, -0.1760884550734482 -0.6376945157776903, 0.7702893641658679L -0.6376945157776903, 0.7702893641658679 L -0.6372841769848615, 0.7706288845901947 L -0.6368736574250737, 0.7709681864240637 \", \"type\": \"path\"}, {\"fillcolor\": \"#d59171\", \"layer\": \"below\", \"line\": {\"color\": \"rgb(175,175,175)\", \"width\": 0.5}, \"path\": \"M -0.7440454835663761,0.6681289683769724 Q -0.16265582767029316, 0.11637474693803594 -0.8725637344929034, 0.4885002858216135L -0.8725637344929034, 0.4885002858216135 L -0.8705593125095924, 0.4920634952959077 L -0.8685403398505943, 0.4956184803376627 M -0.8685403398505943,0.4956184803376627 Q -0.1626288801962443, 0.11641240194290137 -0.7491769493820559, 0.6623699106349837L -0.7491769493820559, 0.6623699106349837 L -0.746616769334595, 0.6652543872447383 L -0.7440454835663761, 0.6681289683769724 \", \"type\": \"path\"}, {\"fillcolor\": \"#d59171\", \"layer\": \"below\", \"line\": {\"color\": \"rgb(175,175,175)\", \"width\": 0.5}, \"path\": \"M -0.769254048928323,0.6389430398770936 Q -0.18456372901196483, 0.07704693331468825 -0.995221319331171, 0.09764489514932843L -0.995221319331171, 0.09764489514932843 L -0.9946274466128229, 0.1035192853745434 L -0.9939989000425155, 0.10939006679890755 M -0.9939989000425155,0.10939006679890755 Q -0.184606520401846, 0.07694434758397016 -0.777444892061205, 0.6289510631264894L -0.777444892061205, 0.6289510631264894 L -0.7733656078559339, 0.6339602799747173 L -0.769254048928323, 0.6389430398770936 \", \"type\": \"path\"}, {\"fillcolor\": \"#d59171\", \"layer\": \"below\", \"line\": {\"color\": \"rgb(175,175,175)\", \"width\": 0.5}, \"path\": \"M -0.7358737737760687,0.6771187407453492 Q -0.18443436771136257, 0.07735608577810738 -0.998728407442939, 0.050413967970105424L -0.998728407442939, 0.050413967970105424 L -0.9986996947733124, 0.050979600426960175 L -0.998670661756284, 0.05154521653136921 M -0.998670661756284,0.05154521653136921 Q -0.18443530804790187, 0.07735384376535884 -0.7366567302722836, 0.6762668569023237L -0.7366567302722836, 0.6762668569023237 L -0.7362653752314746, 0.6766929120622263 L -0.7358737737760687, 0.6771187407453492 \", \"type\": \"path\"}, {\"fillcolor\": \"#d59171\", \"layer\": \"below\", \"line\": {\"color\": \"rgb(175,175,175)\", \"width\": 0.5}, \"path\": \"M -0.7402974708308342,0.6722794468682426 Q -0.19150549892148874, 0.057668395875311744 -0.9884256724881952, -0.15170593253481848L -0.9884256724881952, -0.15170593253481848 L -0.9888454132060605, -0.1489454557256972 L -0.9892574444752237, -0.14618381767606758 M -0.9892574444752237,-0.14618381767606758 Q -0.19150572716989556, 0.05766763790142202 -0.7440454835663761, 0.6681289683769724L -0.7440454835663761, 0.6681289683769724 L -0.7421743785560683, 0.6702068276397324 L -0.7402974708308342, 0.6722794468682426 \", \"type\": \"path\"}, {\"fillcolor\": \"#d59171\", \"layer\": \"below\", \"line\": {\"color\": \"rgb(175,175,175)\", \"width\": 0.5}, \"path\": \"M -0.7366567302722836,0.6762668569023237 Q -0.1954761907911815, 0.042297267450387484 -0.950333013635115, -0.31123490034891704L -0.950333013635115, -0.31123490034891704 L -0.9506576861066464, -0.31024178288289445 L -0.9509813207503961, -0.30924832672761915 M -0.9509813207503961,-0.30924832672761915 Q -0.19547685789481095, 0.042294184323283565 -0.7380895884256736, 0.6747027193198644L -0.7380895884256736, 0.6747027193198644 L -0.737373574085679, 0.6754851680385822 L -0.7366567302722836, 0.6762668569023237 \", \"type\": \"path\"}, {\"fillcolor\": \"#d59171\", \"layer\": \"below\", \"line\": {\"color\": \"rgb(175,175,175)\", \"width\": 0.5}, \"path\": \"M -0.7380895884256736,0.6747027193198644 Q -0.19857559137923286, 0.023827180034321004 -0.8767553151809753, -0.4809367082079602L -0.8767553151809753, -0.4809367082079602 L -0.8776281508495319, -0.47934207914226684 L -0.8784980862344146, -0.4777458660024921 M -0.8784980862344146,-0.4777458660024921 Q -0.19857132914440645, 0.0238626746577956 -0.7402974708308342, 0.6722794468682426L -0.7402974708308342, 0.6722794468682426 L -0.7391945226438167, 0.6734919878464628 L -0.7380895884256736, 0.6747027193198644 \", \"type\": \"path\"}, {\"fillcolor\": \"#d59171\", \"layer\": \"below\", \"line\": {\"color\": \"rgb(175,175,175)\", \"width\": 0.5}, \"path\": \"M -0.7552758426199695,0.6554070502784473 Q -0.19827564523480196, -0.02620626846239197 -0.5590639846831128, -0.8291245147927061L -0.5590639846831128, -0.8291245147927061 L -0.5637386397763346, -0.8259532347676398 L -0.5683953062980874, -0.8227555990561859 M -0.5683953062980874,-0.8227555990561859 Q -0.19829224719630897, -0.026080350876433823 -0.7618099367521691, 0.6478006022424309L -0.7618099367521691, 0.6478006022424309 L -0.7585524240329229, 0.6516120164590097 L -0.7552758426199695, 0.6554070502784473 \", \"type\": \"path\"}, {\"fillcolor\": \"#d59171\", \"layer\": \"below\", \"line\": {\"color\": \"rgb(175,175,175)\", \"width\": 0.5}, \"path\": \"M -0.777444892061205,0.6289510631264894 Q -0.17753963613446005, -0.09208516493574591 0.06630791889560952, -0.9977992082036011L 0.06630791889560952, -0.9977992082036011 L 0.058179074490198913, -0.9983061631040169 L 0.050046370769212443, -0.9987468952506589 M 0.050046370769212443,-0.9987468952506589 Q -0.17763251649180334, -0.09190587078521822 -0.7863406150446791, 0.6177931993241393L -0.7863406150446791, 0.6177931993241393 L -0.78191265659264, 0.6233879991307503 L -0.777444892061205, 0.6289510631264894 \", \"type\": \"path\"}, {\"fillcolor\": \"#d59171\", \"layer\": \"below\", \"line\": {\"color\": \"rgb(175,175,175)\", \"width\": 0.5}, \"path\": \"M -0.7618099367521691,0.6478006022424309 Q -0.138291225087015, -0.14448369134242298 0.6805292196223499, -0.7327209436342019L 0.6805292196223499, -0.7327209436342019 L 0.6758107911952059, -0.7370751484781655 L 0.6710645040451019, -0.7413989691189902 M 0.6710645040451019,-0.7413989691189902 Q -0.13838299203745089, -0.14439580158288123 -0.769254048928323, 0.6389430398770936L -0.769254048928323, 0.6389430398770936 L -0.7655448034992614, 0.6433825874511039 L -0.7618099367521691, 0.6478006022424309 \", \"type\": \"path\"}, {\"fillcolor\": \"#d59171\", \"layer\": \"below\", \"line\": {\"color\": \"rgb(175,175,175)\", \"width\": 0.5}, \"path\": \"M -0.7345666576137908,0.6785365321941802 Q -0.11190966454462559, -0.16575954567236656 0.9039352150590098, -0.42766941318759494L 0.9039352150590098, -0.42766941318759494 L 0.9037323393815984, -0.42809795462704975 L 0.9035292605394579, -0.42852639982738566 M 0.9035292605394579,-0.42852639982738566 Q -0.1119083451018417, -0.16576043646349123 -0.7352205574517399, 0.677827951548439L -0.7352205574517399, 0.677827951548439 L -0.7348936929339882, 0.6781823206821637 L -0.7345666576137908, 0.6785365321941802 \", \"type\": \"path\"}, {\"fillcolor\": \"#d59171\", \"layer\": \"below\", \"line\": {\"color\": \"rgb(175,175,175)\", \"width\": 0.5}, \"path\": \"M -0.7491769493820559,0.6623699106349837 Q -0.09092157528234046, -0.1781383371096118 0.9759222928373329, -0.2181184961050371L 0.9759222928373329, -0.2181184961050371 L 0.9749508605413655, -0.22242036671503562 L 0.9739604656739848, -0.22671791129973554 M 0.9739604656739848,-0.22671791129973554 Q -0.0908827493091833, -0.17815814850296394 -0.7552758426199695, 0.6554070502784473L -0.7552758426199695, 0.6554070502784473 L -0.7522344522798451, 0.6588955370946455 L -0.7491769493820559, 0.6623699106349837 \", \"type\": \"path\"}, {\"fillcolor\": \"#d59171\", \"layer\": \"below\", \"line\": {\"color\": \"rgb(175,175,175)\", \"width\": 0.5}, \"path\": \"M -0.7343049064309485,0.6788197878608402 Q -0.08311828120079139, -0.18191028373961207 0.9938423151492415, -0.11080366699164672L 0.9938423151492415, -0.11080366699164672 L 0.9938239229048733, -0.11096851022685854 L 0.9938055033188519, -0.11113335040915277 M 0.9938055033188519,-0.11113335040915277 Q -0.08311337453221679, -0.18191252561016094 -0.7345666576137908, 0.6785365321941802L -0.7345666576137908, 0.6785365321941802 L -0.7344357956780518, 0.6786781726464665 L -0.7343049064309485, 0.6788197878608402 \", \"type\": \"path\"}, {\"fillcolor\": \"#d0805f\", \"layer\": \"below\", \"line\": {\"color\": \"rgb(175,175,175)\", \"width\": 0.5}, \"path\": \"M -0.8766271693847415,0.481170246271001 Q -0.1861136116016069, 0.0732237910559555 -0.9694836048361769, 0.24515615422389786L -0.9694836048361769, 0.24515615422389786 L -0.9686764385847688, 0.24832631219975185 L -0.967858906120965, 0.2514938127317033 M -0.967858906120965,0.2514938127317033 Q -0.1862032313466854, 0.07299559326461263 -0.8809194228888001, 0.4732662785127031L -0.8809194228888001, 0.4732662785127031 L -0.8787821824432182, 0.4772230881048553 L -0.8766271693847415, 0.481170246271001 \", \"type\": \"path\"}, {\"fillcolor\": \"#d0805f\", \"layer\": \"below\", \"line\": {\"color\": \"rgb(175,175,175)\", \"width\": 0.5}, \"path\": \"M -0.8725637344929034,0.4885002858216135 Q -0.18993886790736914, 0.06263566442584434 -0.9919835831940789, 0.12636681001527267L -0.9919835831940789, 0.12636681001527267 L -0.9915205327809211, 0.1299501176368779 L -0.9910445385538499, 0.1335317288234778 M -0.9910445385538499,0.1335317288234778 Q -0.1899750022357512, 0.0625259828033621 -0.8766271693847415, 0.481170246271001L -0.8766271693847415, 0.481170246271001 L -0.874603131095485, 0.4848395230155786 L -0.8725637344929034, 0.4885002858216135 \", \"type\": \"path\"}, {\"fillcolor\": \"#d0805f\", \"layer\": \"below\", \"line\": {\"color\": \"rgb(175,175,175)\", \"width\": 0.5}, \"path\": \"M -0.8547465570562646,0.5190455887496415 Q -0.19137316480023495, 0.05810603922435362 -0.999039715467107, 0.04381377545249709L -0.999039715467107, 0.04381377545249709 L -0.9989595298341523, 0.04560545749720536 L -0.9988761309936413, 0.04739699284948434 M -0.9988761309936413,0.04739699284948434 Q -0.19138178949303655, 0.05807762607444497 -0.8567560183720901, 0.5157219454155532L -0.8567560183720901, 0.5157219454155532 L -0.855752901295535, 0.5173847426473593 L -0.8547465570562646, 0.5190455887496415 \", \"type\": \"path\"}, {\"fillcolor\": \"#d0805f\", \"layer\": \"below\", \"line\": {\"color\": \"rgb(175,175,175)\", \"width\": 0.5}, \"path\": \"M -0.8567560183720901,0.5157219454155532 Q -0.1958869925104805, 0.04035202801841514 -0.9908284117196402, -0.13512608382224064L -0.9908284117196402, -0.13512608382224064 L -0.9910867813693585, -0.13321783587390082 L -0.9913414759056548, -0.13130909393182977 M -0.9913414759056548,-0.13130909393182977 Q -0.19589177243829067, 0.040328817128511864 -0.8588572782702527, 0.5122149700684407L -0.8588572782702527, 0.5122149700684407 L -0.8578084405174754, 0.5139695315648358 L -0.8567560183720901, 0.5157219454155532 \", \"type\": \"path\"}, {\"fillcolor\": \"#d0805f\", \"layer\": \"below\", \"line\": {\"color\": \"rgb(175,175,175)\", \"width\": 0.5}, \"path\": \"M -0.8515474841537568,0.5242774859093297 Q -0.1986454180615246, 0.023237854530100622 -0.9495614824469374, -0.31358091627708246L -0.9495614824469374, -0.31358091627708246 L -0.9499479722639566, -0.3124081464872471 L -0.950333013635115, -0.31123490034891704 M -0.950333013635115,-0.31123490034891704 Q -0.19864759885255648, 0.02321920476919492 -0.8529376879973644, 0.5220127396852597L -0.8529376879973644, 0.5220127396852597 L -0.8522433383662346, 0.5231455745873952 L -0.8515474841537568, 0.5242774859093297 \", \"type\": \"path\"}, {\"fillcolor\": \"#d0805f\", \"layer\": \"below\", \"line\": {\"color\": \"rgb(175,175,175)\", \"width\": 0.5}, \"path\": \"M -0.8901296859368137,0.455707298837784 Q -0.1997648505249483, -0.009695591510839523 -0.8418143068427484, -0.5397672394605504L -0.8418143068427484, -0.5397672394605504 L -0.846173141320842, -0.5329080735992074 L -0.8504760880985728, -0.5260137104416088 M -0.8504760880985728,-0.5260137104416088 Q -0.1997683204911886, -0.009623831260457636 -0.8971016436546025, 0.4418242195174576L -0.8971016436546025, 0.4418242195174576 L -0.8936426250695123, 0.4487792983849311 L -0.8901296859368137, 0.455707298837784 \", \"type\": \"path\"}, {\"fillcolor\": \"#d0805f\", \"layer\": \"below\", \"line\": {\"color\": \"rgb(175,175,175)\", \"width\": 0.5}, \"path\": \"M -0.8971016436546025,0.4418242195174576 Q -0.19147758789180275, -0.057761001853646535 -0.5031227292416872, -0.8642149728628843L -0.5031227292416872, -0.8642149728628843 L -0.5124809747088539, -0.8586985795734514 L -0.5217787436526574, -0.8530808535374912 M -0.5217787436526574,-0.8530808535374912 Q -0.1915146554130662, -0.057637980204154594 -0.9059451406989969, 0.42339508977298573L -0.9059451406989969, 0.42339508977298573 L -0.9015704824625463, 0.4326322516320894 L -0.8971016436546025, 0.4418242195174576 \", \"type\": \"path\"}, {\"fillcolor\": \"#d0805f\", \"layer\": \"below\", \"line\": {\"color\": \"rgb(175,175,175)\", \"width\": 0.5}, \"path\": \"M -0.8529376879973644,0.5220127396852597 Q -0.1787445233751562, -0.08972399547160306 -0.09101993158288443, -0.995849070921215L -0.09101993158288443, -0.995849070921215 L -0.09229092153457255, -0.9957320853534345 L -0.0935617611350207, -0.995613477637438 M -0.0935617611350207,-0.995613477637438 Q -0.17870312682601172, -0.08980641660040989 -0.8547465570562646, 0.5190455887496415L -0.8547465570562646, 0.5190455887496415 L -0.8538434114035574, 0.5205299499574789 L -0.8529376879973644, 0.5220127396852597 \", \"type\": \"path\"}, {\"fillcolor\": \"#d0805f\", \"layer\": \"below\", \"line\": {\"color\": \"rgb(175,175,175)\", \"width\": 0.5}, \"path\": \"M -0.916956814044405,0.3989864674115334 Q -0.15765582213693802, -0.12306356790832196 0.1644428555555505, -0.9863866114545231L 0.1644428555555505, -0.9863866114545231 L 0.14878954905787894, -0.988868884175831 L 0.13309886845824886, -0.9911027652141496 M 0.13309886845824886,-0.9911027652141496 Q -0.15779492944482032, -0.12288515061432029 -0.9283023602239652, 0.37182620671842853L -0.9283023602239652, 0.37182620671842853 L -0.9227295242895538, 0.385448083409911 L -0.916956814044405, 0.3989864674115334 \", \"type\": \"path\"}, {\"fillcolor\": \"#d0805f\", \"layer\": \"below\", \"line\": {\"color\": \"rgb(175,175,175)\", \"width\": 0.5}, \"path\": \"M -0.8854256045458941,0.4647811300112536 Q -0.12341945694985097, -0.15737737336162363 0.6624516084507809, -0.7491047099444598L 0.6624516084507809, -0.7491047099444598 L 0.6584341238696426, -0.75263836237865 L 0.654397790372611, -0.756150469123338 M 0.654397790372611,-0.756150469123338 Q -0.1234572305032802, -0.157347743029444 -0.8901296859368137, 0.455707298837784L -0.8901296859368137, 0.455707298837784 L -0.8877892379350655, 0.46025022434179835 L -0.8854256045458941, 0.4647811300112536 \", \"type\": \"path\"}, {\"fillcolor\": \"#d0805f\", \"layer\": \"below\", \"line\": {\"color\": \"rgb(175,175,175)\", \"width\": 0.5}, \"path\": \"M -0.8588572782702527,0.5122149700684407 Q -0.09302368808808546, -0.17704969204856189 0.9090595168925241, -0.41666628702971725L 0.9090595168925241, -0.41666628702971725 L 0.9079897301938454, -0.4189924222017717 L 0.9069139913061246, -0.4213158107325127 M 0.9069139913061246,-0.4213158107325127 Q -0.09298840732438228, -0.17706822443136083 -0.8616712019153835, 0.5074669839405304L -0.8616712019153835, 0.5074669839405304 L -0.8602675157330661, 0.5098429183331458 L -0.8588572782702527, 0.5122149700684407 \", \"type\": \"path\"}, {\"fillcolor\": \"#d0805f\", \"layer\": \"below\", \"line\": {\"color\": \"rgb(175,175,175)\", \"width\": 0.5}, \"path\": \"M -0.8616712019153835,0.5074669839405304 Q -0.07570318343062205, -0.18511895639957998 0.9703450348207555, -0.24172404389862984L 0.9703450348207555, -0.24172404389862984 L 0.9697199621459974, -0.24421956313032198 L 0.9690884715425007, -0.24671346603584465 M 0.9690884715425007,-0.24671346603584465 Q -0.0756496444191627, -0.18514084179147033 -0.8645616197989751, 0.5025268207474826L -0.8645616197989751, 0.5025268207474826 L -0.8631199453112369, 0.5049989703018487 L -0.8616712019153835, 0.5074669839405304 \", \"type\": \"path\"}, {\"fillcolor\": \"#d0805f\", \"layer\": \"below\", \"line\": {\"color\": \"rgb(175,175,175)\", \"width\": 0.5}, \"path\": \"M -0.850474004101773,0.526017079900546 Q -0.0646484728383938, -0.18926324249484755 0.9945555790436059, -0.10420748626292474L 0.9945555790436059, -0.10420748626292474 L 0.9944688145786266, -0.10503226566432487 L 0.994381366128803, -0.10585697282567402 M 0.994381366128803,-0.10585697282567402 Q -0.06461199222476564, -0.18927569960443108 -0.8515474841537568, 0.5242774859093297L -0.8515474841537568, 0.5242774859093297 L -0.8510111886266277, 0.5251475571992069 L -0.850474004101773, 0.526017079900546 \", \"type\": \"path\"}, {\"fillcolor\": \"#ca6f4c\", \"layer\": \"below\", \"line\": {\"color\": \"rgb(175,175,175)\", \"width\": 0.5}, \"path\": \"M -0.9627767213291768,0.2702979557204246 Q -0.19478183597305987, 0.04538762358797825 -0.9830899174265106, 0.18312349454490154L -0.9830899174265106, 0.18312349454490154 L -0.9829605718023174, 0.1838165234195802 L -0.9828307376277375, 0.18450946093389697 M -0.9828307376277375,0.18450946093389697 Q -0.19477683246244187, 0.04540909089486221 -0.9630975770493614, 0.2691524792411345L -0.9630975770493614, 0.2691524792411345 L -0.9629373195166172, 0.26972526519062356 L -0.9627767213291768, 0.2702979557204246 \", \"type\": \"path\"}, {\"fillcolor\": \"#ca6f4c\", \"layer\": \"below\", \"line\": {\"color\": \"rgb(175,175,175)\", \"width\": 0.5}, \"path\": \"M -0.962373735869419,0.27172926325432417 Q -0.1973089630120343, 0.0326982127205095 -0.9985816407144287, 0.05324196491565296L -0.9985816407144287, 0.05324196491565296 L -0.9985665235962747, 0.053524741501949503 L -0.9985513264019478, 0.053807513796036814 M -0.9985513264019478,0.053807513796036814 Q -0.1973069962849285, 0.03271007821787059 -0.9624948549717475, 0.2712999339345937L -0.9624948549717475, 0.2712999339345937 L -0.9624343193603554, 0.27151460534816424 L -0.962373735869419, 0.27172926325432417 \", \"type\": \"path\"}, {\"fillcolor\": \"#ca6f4c\", \"layer\": \"below\", \"line\": {\"color\": \"rgb(175,175,175)\", \"width\": 0.5}, \"path\": \"M -0.9666512810274176,0.2560962726945719 Q -0.19981835389984037, -0.008522056369101989 -0.941336260178484, -0.3374700657438899L -0.941336260178484, -0.3374700657438899 L -0.9423576639885926, -0.3346072819320628 L -0.9433703615476393, -0.3317414067515182 M -0.9433703615476393,-0.3317414067515182 Q -0.19982393837672982, -0.008390092467481385 -0.967858906120965, 0.2514938127317033L -0.967858906120965, 0.2514938127317033 L -0.9672578310381598, 0.25379576098775736 L -0.9666512810274176, 0.2560962726945719 \", \"type\": \"path\"}, {\"fillcolor\": \"#ca6f4c\", \"layer\": \"below\", \"line\": {\"color\": \"rgb(175,175,175)\", \"width\": 0.5}, \"path\": \"M -0.9640124441974015,0.26585711845378873 Q -0.19859851416630667, -0.023635358489671666 -0.8746901601587004, -0.4846824978494138L -0.8746901601587004, -0.4846824978494138 L -0.8757247404332967, -0.482810707206287 L -0.8767553151809753, -0.4809367082079602 M -0.8767553151809753,-0.4809367082079602 Q -0.19861387574633632, -0.023505921828740894 -0.9647988159146915, 0.26298905834579744L -0.9647988159146915, 0.26298905834579744 L -0.964406696226232, 0.26442338072493554 L -0.9640124441974015, 0.26585711845378873 \", \"type\": \"path\"}, {\"fillcolor\": \"#ca6f4c\", \"layer\": \"below\", \"line\": {\"color\": \"rgb(175,175,175)\", \"width\": 0.5}, \"path\": \"M -0.9647988159146915,0.26298905834579744 Q -0.18894876471015615, -0.06556191207176663 -0.5945526268201083, -0.8040566982130731L -0.5945526268201083, -0.8040566982130731 L -0.5964725404940205, -0.8026334832516079 L -0.5983890473497976, -0.801205683961242 M -0.5983890473497976,-0.801205683961242 Q -0.18899816077165155, -0.0654193795822993 -0.9656539691256341, 0.2598315067729644L -0.9656539691256341, 0.2598315067729644 L -0.9652276836842544, 0.2614106322427015 L -0.9647988159146915, 0.26298905834579744 \", \"type\": \"path\"}, {\"fillcolor\": \"#ca6f4c\", \"layer\": \"below\", \"line\": {\"color\": \"rgb(175,175,175)\", \"width\": 0.5}, \"path\": \"M -0.9656539691256341,0.2598315067729644 Q -0.16355275140218328, -0.11511080535195486 -0.0812958458836965, -0.9966900147197494L -0.0812958458836965, -0.9966900147197494 L -0.08324131225049747, -0.9965294195029142 L -0.0851864614154403, -0.9963650268809698 M -0.0851864614154403,-0.9963650268809698 Q -0.1635549431647281, -0.11510769116954161 -0.9666512810274176, 0.2560962726945719L -0.9666512810274176, 0.2560962726945719 L -0.9661544301692493, 0.2579643716956533 L -0.9656539691256341, 0.2598315067729644 \", \"type\": \"path\"}, {\"fillcolor\": \"#ca6f4c\", \"layer\": \"below\", \"line\": {\"color\": \"rgb(175,175,175)\", \"width\": 0.5}, \"path\": \"M -0.9731929206971258,0.22999030219771827 Q -0.150195744880806, -0.13206528014470661 0.10359183530442247, -0.9946198930537542L 0.10359183530442247, -0.9946198930537542 L 0.0941728449513457, -0.9955558624576372 L 0.08474541733120732, -0.9964026366089963 M 0.08474541733120732,-0.9964026366089963 Q -0.15060067471079158, -0.13160333117613074 -0.9760543447491734, 0.21752681695887915L -0.9760543447491734, 0.21752681695887915 L -0.9746435553978405, 0.22376313351724533 L -0.9731929206971258, 0.22999030219771827 \", \"type\": \"path\"}, {\"fillcolor\": \"#ca6f4c\", \"layer\": \"below\", \"line\": {\"color\": \"rgb(175,175,175)\", \"width\": 0.5}, \"path\": \"M -0.9622524252609709,0.272158538501697 Q -0.10946254040140442, -0.16738563931493916 0.6350953599648899, -0.7724337406865828L 0.6350953599648899, -0.7724337406865828 L 0.6348473567381041, -0.7726375823389918 L 0.6345992880858424, -0.7728413443656738 M 0.6345992880858424,-0.7728413443656738 Q -0.10947894057413235, -0.16737491320614806 -0.962373735869419, 0.27172926325432417L -0.962373735869419, 0.27172926325432417 L -0.9623131045019521, 0.2719439076423945 L -0.9622524252609709, 0.272158538501697 \", \"type\": \"path\"}, {\"fillcolor\": \"#ca6f4c\", \"layer\": \"below\", \"line\": {\"color\": \"rgb(175,175,175)\", \"width\": 0.5}, \"path\": \"M -0.9624948549717475,0.2712999339345937 Q -0.06966203853019319, -0.18747586614766681 0.9061133143495201, -0.4230350594909691L 0.9061133143495201, -0.4230350594909691 L 0.9058323072812045, -0.4236364373913198 L 0.9055509010847388, -0.42423762862883535 M 0.9055509010847388,-0.42423762862883535 Q -0.06968891392682312, -0.18746587763030328 -0.9627767213291768, 0.2702979557204246L -0.9627767213291768, 0.2702979557204246 L -0.9626359185165213, 0.27079898150076803 L -0.9624948549717475, 0.2712999339345937 \", \"type\": \"path\"}, {\"fillcolor\": \"#ca6f4c\", \"layer\": \"below\", \"line\": {\"color\": \"rgb(175,175,175)\", \"width\": 0.5}, \"path\": \"M -0.9620498154099852,0.27287387685451564 Q -0.05362954818368021, -0.19267556036408542 0.9646825709137121, -0.2634151426461864L 0.9646825709137121, -0.2634151426461864 L 0.9646583645161383, -0.26350377562579486 L 0.9646341499751554, -0.2635924063809682 M 0.9646341499751554,-0.2635924063809682 Q -0.053632926010957316, -0.19267462014365874 -0.9620903799263606, 0.2727308212379948L -0.9620903799263606, 0.2727308212379948 L -0.962070100327141, 0.272802349800226 L -0.9620498154099852, 0.27287387685451564 \", \"type\": \"path\"}, {\"fillcolor\": \"#ca6f4c\", \"layer\": \"below\", \"line\": {\"color\": \"rgb(175,175,175)\", \"width\": 0.5}, \"path\": \"M -0.9620903799263606,0.2727308212379948 Q -0.038517210611121844, -0.19625601770834566 0.9938055033188519, -0.11113335040915277L 0.9938055033188519, -0.11113335040915277 L 0.9937870563916839, -0.11129818753399441 L 0.9937685821238768, -0.11146302159684851 M 0.9937685821238768,-0.11146302159684851 Q -0.03852058041636152, -0.19625535632024577 -0.9621714451416361, 0.2724446919175623L -0.9621714451416361, 0.2724446919175623 L -0.962130923170543, 0.27258775959128934 L -0.9620903799263606, 0.2727308212379948 \", \"type\": \"path\"}, {\"fillcolor\": \"#c45e3a\", \"layer\": \"below\", \"line\": {\"color\": \"rgb(175,175,175)\", \"width\": 0.5}, \"path\": \"M -0.9825696038857806,0.18589506050387694 Q -0.19989212407606882, 0.006568008248891245 -0.9926532808247516, -0.12099365300649864L -0.9926532808247516, -0.12099365300649864 L -0.9927461833945372, -0.12022901212095093 L -0.9928384969614887, -0.11946429990274024 M -0.9928384969614887,-0.11946429990274024 Q -0.19989169496953968, 0.006581054794219035 -0.9828307376277375, 0.18450946093389697L -0.9828307376277375, 0.18450946093389697 L -0.982700414967301, 0.18520230674344845 L -0.9825696038857806, 0.18589506050387694 \", \"type\": \"path\"}, {\"fillcolor\": \"#c45e3a\", \"layer\": \"below\", \"line\": {\"color\": \"rgb(175,175,175)\", \"width\": 0.5}, \"path\": \"M -0.9848799711553349,0.17323810902069633 Q -0.19921772422770165, -0.017671965186006378 -0.9390063183836855, -0.34389988955438267L -0.9390063183836855, -0.34389988955438267 L -0.9401767859541181, -0.3406869694499401 L -0.941336260178484, -0.3374700657438899 M -0.941336260178484,-0.3374700657438899 Q -0.19922208313834577, -0.01762275773022068 -0.985959328453375, 0.16698563601630495L -0.985959328453375, 0.16698563601630495 L -0.985424608772891, 0.17011272857959484 L -0.9848799711553349, 0.17323810902069633 \", \"type\": \"path\"}, {\"fillcolor\": \"#c45e3a\", \"layer\": \"below\", \"line\": {\"color\": \"rgb(175,175,175)\", \"width\": 0.5}, \"path\": \"M -0.9838557280304613,0.17896342202151522 Q -0.19712109785876344, -0.03381231697112473 -0.8679743109189726, -0.4966090973640481L -0.8679743109189726, -0.4966090973640481 L -0.8697213493061272, -0.49354308278115855 L -0.8714575574111668, -0.49047092230932804 M -0.8714575574111668,-0.49047092230932804 Q -0.19714204772786112, -0.0336899542544322 -0.9848799711553349, 0.17323810902069633L -0.9848799711553349, 0.17323810902069633 L -0.984372012053566, 0.17610151017414413 L -0.9838557280304613, 0.17896342202151522 \", \"type\": \"path\"}, {\"fillcolor\": \"#c45e3a\", \"layer\": \"below\", \"line\": {\"color\": \"rgb(175,175,175)\", \"width\": 0.5}, \"path\": \"M -0.9900537436823453,0.1406896748897118 Q -0.1832209113958775, -0.08018788952992843 -0.5683953062980874, -0.8227555990561859L -0.5683953062980874, -0.8227555990561859 L -0.5720541282080629, -0.8202158706097518 L -0.5757016021668299, -0.8176598713784021 M -0.5757016021668299,-0.8176598713784021 Q -0.1832882683031775, -0.08003380974577197 -0.9910445385538499, 0.1335317288234778L -0.9910445385538499, 0.1335317288234778 L -0.9905556067267363, 0.1371115968188958 L -0.9900537436823453, 0.1406896748897118 \", \"type\": \"path\"}, {\"fillcolor\": \"#c45e3a\", \"layer\": \"below\", \"line\": {\"color\": \"rgb(175,175,175)\", \"width\": 0.5}, \"path\": \"M -0.9824383044481921,0.18658772187087042 Q -0.1601347419787356, -0.11982013358114646 -0.09819528080798498, -0.9951671652677458L -0.09819528080798498, -0.9951671652677458 L -0.0984941455701531, -0.9951376303247734 L -0.09879300144889204, -0.9951080056278913 M -0.09879300144889204,-0.9951080056278913 Q -0.16012848985826442, -0.11982848883179541 -0.9825696038857806, 0.18589506050387694L -0.9825696038857806, 0.18589506050387694 L -0.982504015207422, 0.18624140275807055 L -0.9824383044481921, 0.18658772187087042 \", \"type\": \"path\"}, {\"fillcolor\": \"#c45e3a\", \"layer\": \"below\", \"line\": {\"color\": \"rgb(175,175,175)\", \"width\": 0.5}, \"path\": \"M -0.9890372916552477,0.14766595990698933 Q -0.1505156256781012, -0.1317005938738688 0.015066691567568161, -0.9998864909604529L 0.015066691567568161, -0.9998864909604529 L 0.010664540753897368, -0.9999431321682791 L 0.006262183238604512, -0.9999803923383128 M 0.006262183238604512,-0.9999803923383128 Q -0.15063114009627349, -0.13156845987278573 -0.9900537436823453, 0.1406896748897118L -0.9900537436823453, 0.1406896748897118 L -0.9895516654912805, 0.14417871314251962 L -0.9890372916552477, 0.14766595990698933 \", \"type\": \"path\"}, {\"fillcolor\": \"#c45e3a\", \"layer\": \"below\", \"line\": {\"color\": \"rgb(175,175,175)\", \"width\": 0.5}, \"path\": \"M -0.9880261298785242,0.1542866380386374 Q -0.0969640961912676, -0.17492273737227704 0.654397790372611, -0.756150469123338L 0.654397790372611, -0.756150469123338 L 0.6513176418360909, -0.7588051986070428 L 0.6482267238251255, -0.7614473813199074 M 0.6482267238251255,-0.7614473813199074 Q -0.09708959317771511, -0.17485311234457845 -0.9890372916552477, 0.14766595990698933L -0.9890372916552477, 0.14766595990698933 L -0.9885372534894358, 0.1509771455007777 L -0.9880261298785242, 0.1542866380386374 \", \"type\": \"path\"}, {\"fillcolor\": \"#c45e3a\", \"layer\": \"below\", \"line\": {\"color\": \"rgb(175,175,175)\", \"width\": 0.5}, \"path\": \"M -0.9824054032908015,0.18676087273579975 Q -0.06212238349216183, -0.19010736300641484 0.9031224935436507, -0.42938300112545047L 0.9031224935436507, -0.42938300112545047 L 0.9030817721719522, -0.4294686400318029 L 0.903041042679514, -0.4295542750762658 M 0.903041042679514,-0.4295542750762658 Q -0.062123657778528255, -0.19010694659642585 -0.9824383044481921, 0.18658772187087042L -0.9824383044481921, 0.18658772187087042 L -0.9824218576842051, 0.1866742980281848 L -0.9824054032908015, 0.18676087273579975 \", \"type\": \"path\"}, {\"fillcolor\": \"#c45e3a\", \"layer\": \"below\", \"line\": {\"color\": \"rgb(175,175,175)\", \"width\": 0.5}, \"path\": \"M -0.986998992575972,0.1607264404322335 Q -0.03961328716940274, -0.1960377195328349 0.9719660874461795, -0.2351210855167305L 0.9719660874461795, -0.2351210855167305 L 0.9711611728674641, -0.23842394241076448 L 0.9703450348207555, -0.24172404389862984 M 0.9703450348207555,-0.24172404389862984 Q -0.03964051984155371, -0.19603221466557835 -0.9880261298785242, 0.1542866380386374L -0.9880261298785242, 0.1542866380386374 L -0.9875178106471381, 0.15750737650879487 L -0.986998992575972, 0.1607264404322335 \", \"type\": \"path\"}, {\"fillcolor\": \"#c45e3a\", \"layer\": \"below\", \"line\": {\"color\": \"rgb(175,175,175)\", \"width\": 0.5}, \"path\": \"M -0.9833791584859987,0.18156384732476125 Q -0.02835271588083185, -0.1979801088548565 0.9948117679350753, -0.10173272029140767L 0.9948117679350753, -0.10173272029140767 L 0.9946844431390806, -0.10297018295165457 L 0.9945555790436059, -0.10420748626292474 M 0.9945555790436059,-0.10420748626292474 Q -0.028337298761585934, -0.19798231612671024 -0.9838557280304613, 0.17896342202151522L -0.9838557280304613, 0.17896342202151522 L -0.9836183026127547, 0.18026379216360486 L -0.9833791584859987, 0.18156384732476125 \", \"type\": \"path\"}, {\"fillcolor\": \"#bf4d28\", \"layer\": \"below\", \"line\": {\"color\": \"rgb(175,175,175)\", \"width\": 0.5}, \"path\": \"M -0.9995099011562011,-0.03130427272308363 Q -0.19808220963539894, -0.02763038591764271 -0.969923249674035, -0.2434109482783376L -0.969923249674035, -0.2434109482783376 L -0.9731826067243096, -0.23003394090715798 L -0.9762574797524851, -0.21661332652292226 M -0.9762574797524851,-0.21661332652292226 Q -0.1980896682466555, -0.02757686229305229 -0.9983006915144129, -0.058272886678496276L -0.9983006915144129, -0.058272886678496276 L -0.9989963050889611, -0.04479266032067622 L -0.9995099011562011, -0.03130427272308363 \", \"type\": \"path\"}, {\"fillcolor\": \"#bf4d28\", \"layer\": \"below\", \"line\": {\"color\": \"rgb(175,175,175)\", \"width\": 0.5}, \"path\": \"M -0.998621561536795,0.05248787320718009 Q -0.19832724138525762, -0.02581289066559106 -0.951916899030827, -0.3063563567800321L -0.951916899030827, -0.3063563567800321 L -0.9520622889245394, -0.305904230124016 L -0.952207464074191, -0.3054520344692408 M -0.952207464074191,-0.3054520344692408 Q -0.19832731781239366, -0.025812303448971913 -0.998670661756284, 0.05154521653136921L -0.998670661756284, 0.05154521653136921 L -0.9986462228723217, 0.05201655066269919 L -0.998621561536795, 0.05248787320718009 \", \"type\": \"path\"}, {\"fillcolor\": \"#bf4d28\", \"layer\": \"below\", \"line\": {\"color\": \"rgb(175,175,175)\", \"width\": 0.5}, \"path\": \"M -0.998794157825073,0.04909409633044709 Q -0.19512352601526603, -0.04389543934590253 -0.8815452219540861, -0.4720995886991652L -0.8815452219540861, -0.4720995886991652 L -0.8819991654112598, -0.47125096521263615 L -0.8824522919374473, -0.4704019052409824 M -0.8824522919374473,-0.4704019052409824 Q -0.19512847905398328, -0.043873416348390454 -0.9988761309936413, 0.04739699284948434L -0.9988761309936413, 0.04739699284948434 L -0.9988355048491806, 0.048245561999861526 L -0.998794157825073, 0.04909409633044709 \", \"type\": \"path\"}, {\"fillcolor\": \"#bf4d28\", \"layer\": \"below\", \"line\": {\"color\": \"rgb(175,175,175)\", \"width\": 0.5}, \"path\": \"M -0.9997798316047746,0.020983048308782313 Q -0.17847867365319803, -0.09025166508710653 -0.5757016021668299, -0.8176598713784021L -0.5757016021668299, -0.8176598713784021 L -0.5790719919288794, -0.8152764121226125 L -0.5824325140695632, -0.8128790602264325 M -0.5824325140695632,-0.8128790602264325 Q -0.17852747855689316, -0.09015508527042752 -0.9999046339986709, 0.01381024648527393L -0.9999046339986709, 0.01381024648527393 L -0.9998486649315655, 0.01739675931217955 L -0.9997798316047746, 0.020983048308782313 \", \"type\": \"path\"}, {\"fillcolor\": \"#bf4d28\", \"layer\": \"below\", \"line\": {\"color\": \"rgb(175,175,175)\", \"width\": 0.5}, \"path\": \"M -0.9985206917896563,0.05437304541688076 Q -0.15183898767677764, -0.1301726615741238 -0.09879300144889204, -0.9951080056278913L -0.09879300144889204, -0.9951080056278913 L -0.09901713751198142, -0.9950857282058332 L -0.0992412685516079, -0.995063400299834 M -0.0992412685516079,-0.995063400299834 Q -0.15183144522697425, -0.13018145889598995 -0.9985513264019478, 0.053807513796036814L -0.9985513264019478, 0.053807513796036814 L -0.9985360491326667, 0.054090281775239064 L -0.9985206917896563, 0.05437304541688076 \", \"type\": \"path\"}, {\"fillcolor\": \"#bf4d28\", \"layer\": \"below\", \"line\": {\"color\": \"rgb(175,175,175)\", \"width\": 0.5}, \"path\": \"M -0.9996141351317183,0.027777344093107184 Q -0.14293474263189113, -0.13989159856387032 0.006262183238604512, -0.9999803923383128L 0.006262183238604512, -0.9999803923383128 L 0.002299955267753802, -0.9999973550993854 L -0.0016623088113316697, -0.9999986183637535 M -0.0016623088113316697,-0.9999986183637535 Q -0.14301363306631368, -0.13981094648550874 -0.9997798316047746, 0.020983048308782313L -0.9997798316047746, 0.020983048308782313 L -0.9997027554075127, 0.024380336967049013 L -0.9996141351317183, 0.027777344093107184 \", \"type\": \"path\"}, {\"fillcolor\": \"#bf4d28\", \"layer\": \"below\", \"line\": {\"color\": \"rgb(175,175,175)\", \"width\": 0.5}, \"path\": \"M -0.9983006915144129,-0.058272886678496276 Q -0.05921285328439793, -0.19103360438917644 0.7903323846047594, -0.612678318406123L 0.7903323846047594, -0.612678318406123 L 0.779995121231286, -0.6257855949567643 L 0.7694405046414794, -0.6387184902733485 M 0.7694405046414794,-0.6387184902733485 Q -0.0595886768537473, -0.19091670851661904 -0.9961518534705858, -0.08764408038833292L -0.9961518534705858, -0.08764408038833292 L -0.9973343999402958, -0.07296639429031797 L -0.9983006915144129, -0.058272886678496276 \", \"type\": \"path\"}, {\"fillcolor\": \"#bf4d28\", \"layer\": \"below\", \"line\": {\"color\": \"rgb(175,175,175)\", \"width\": 0.5}, \"path\": \"M -0.998728407442939,0.050413967970105424 Q -0.048371084941838595, -0.19406245938240976 0.9055509010847388, -0.42423762862883535L 0.9055509010847388, -0.42423762862883535 L 0.9052690958841169, -0.42483863293861784 L 0.9049868918035081, -0.42543945005585176 M 0.9049868918035081,-0.42543945005585176 Q -0.04837167454248384, -0.19406231242040795 -0.998794157825073, 0.04909409633044709L -0.998794157825073, 0.04909409633044709 L -0.9987615006617001, 0.04975404301148713 L -0.998728407442939, 0.050413967970105424 \", \"type\": \"path\"}, {\"fillcolor\": \"#bf4d28\", \"layer\": \"below\", \"line\": {\"color\": \"rgb(175,175,175)\", \"width\": 0.5}, \"path\": \"M -0.9999203753817549,-0.012619148006516904 Q -0.014979373654743527, -0.19943825702435222 0.9868172268380907, -0.1618386876354982L 0.9868172268380907, -0.1618386876354982 L 0.9853043354947374, -0.1708079812399703 L 0.9837099229595972, -0.17976314269288704 M 0.9837099229595972,-0.17976314269288704 Q -0.01492972718562681, -0.19944197964862553 -0.9995099011562011, -0.03130427272308363L -0.9995099011562011, -0.03130427272308363 L -0.9997587914870167, -0.021962669337305892 L -0.9999203753817549, -0.012619148006516904 \", \"type\": \"path\"}, {\"fillcolor\": \"#bf4d28\", \"layer\": \"below\", \"line\": {\"color\": \"rgb(175,175,175)\", \"width\": 0.5}, \"path\": \"M -0.9999046339986709,0.01381024648527393 Q -0.008070004554278433, -0.19983712124251074 0.9977622757473886, -0.0668613572655542L 0.9977622757473886, -0.0668613572655542 L 0.9974528403387082, -0.07132903546413273 L 0.9971234001168459, -0.07579528309479748 M 0.9971234001168459,-0.07579528309479748 Q -0.007946331462914553, -0.19984207719167027 -0.9999934615849706, 0.0036161840810436286L -0.9999934615849706, 0.0036161840810436286 L -0.9999620382328742, 0.008713328477436022 L -0.9999046339986709, 0.01381024648527393 \", \"type\": \"path\"}, {\"fillcolor\": \"#af4624\", \"layer\": \"below\", \"line\": {\"color\": \"rgb(175,175,175)\", \"width\": 0.5}, \"path\": \"M -0.9921076634963377,-0.12538893105787904 Q -0.19501375252805478, -0.04438058499982406 -0.948664058010478, -0.3162854802849672L -0.948664058010478, -0.3162854802849672 L -0.9491137335840367, -0.31493351794016794 L -0.9495614824469374, -0.31358091627708246 M -0.9495614824469374,-0.31358091627708246 Q -0.19501288882082046, -0.04438438006504459 -0.9917413405755692, -0.12825409698474724L -0.9917413405755692, -0.12825409698474724 L -0.991925536536499, -0.12682164628634457 L -0.9921076634963377, -0.12538893105787904 \", \"type\": \"path\"}, {\"fillcolor\": \"#af4624\", \"layer\": \"below\", \"line\": {\"color\": \"rgb(175,175,175)\", \"width\": 0.5}, \"path\": \"M -0.9917413405755692,-0.12825409698474724 Q -0.19026139940107897, -0.061649005652509185 -0.8784980862344146, -0.4777458660024921L -0.8784980862344146, -0.4777458660024921 L -0.8793141969807111, -0.4762421054339559 L -0.8801277336818955, -0.4747369507463797 M -0.8801277336818955,-0.4747369507463797 Q -0.19027190268850747, -0.061616580944540825 -0.9913414759056548, -0.13130909393182977L -0.9913414759056548, -0.13130909393182977 L -0.9915425848179001, -0.129781749458995 L -0.9917413405755692, -0.12825409698474724 \", \"type\": \"path\"}, {\"fillcolor\": \"#af4624\", \"layer\": \"below\", \"line\": {\"color\": \"rgb(175,175,175)\", \"width\": 0.5}, \"path\": \"M -0.987380761541791,-0.15836423755745135 Q -0.17007949239632209, -0.10522816289477557 -0.5824325140695632, -0.8128790602264325L -0.5824325140695632, -0.8128790602264325 L -0.5856070124598303, -0.810595106670323 L -0.5887725546444516, -0.8082987559667814 M -0.5887725546444516,-0.8082987559667814 Q -0.17012625520324848, -0.10515254295792936 -0.986259204326567, -0.16520527195318827L -0.986259204326567, -0.16520527195318827 L -0.9868259110178017, -0.16178572663830906 L -0.987380761541791, -0.15836423755745135 \", \"type\": \"path\"}, {\"fillcolor\": \"#af4624\", \"layer\": \"below\", \"line\": {\"color\": \"rgb(175,175,175)\", \"width\": 0.5}, \"path\": \"M -0.9929073455706315,-0.11889071919995478 Q -0.14001668337862025, -0.14281221367814173 -0.0992412685516079, -0.995063400299834L -0.0992412685516079, -0.995063400299834 L -0.09946539455640147, -0.9950410219110263 L -0.09968951551499236, -0.9950185930405452 M -0.09968951551499236,-0.9950185930405452 Q -0.1400075990179766, -0.14282111964699576 -0.9928384969614887, -0.11946429990274024L -0.9928384969614887, -0.11946429990274024 L -0.9928729626856125, -0.11917751452306018 L -0.9929073455706315, -0.11889071919995478 \", \"type\": \"path\"}, {\"fillcolor\": \"#af4624\", \"layer\": \"below\", \"line\": {\"color\": \"rgb(175,175,175)\", \"width\": 0.5}, \"path\": \"M -0.9884256724881952,-0.15170593253481848 Q -0.13037924265559458, -0.15166164012219302 -0.0016623088113316697, -0.9999986183637535L -0.0016623088113316697, -0.9999986183637535 L -0.005514485531378129, -0.9999847951090678 L -0.009366580419456956, -0.9999561326234495 M -0.009366580419456956,-0.9999561326234495 Q -0.1304523737441213, -0.15159874070889937 -0.987380761541791, -0.15836423755745135L -0.987380761541791, -0.15836423755745135 L -0.9879088264840112, -0.15503596535960218 L -0.9884256724881952, -0.15170593253481848 \", \"type\": \"path\"}, {\"fillcolor\": \"#af4624\", \"layer\": \"below\", \"line\": {\"color\": \"rgb(175,175,175)\", \"width\": 0.5}, \"path\": \"M -0.969923249674035,-0.2434109482783376 Q -0.03062026996013857, -0.19764209841925945 0.8507988214820508, -0.5254915464255857L 0.8507988214820508, -0.5254915464255857 L 0.8410991419349186, -0.5408809789929236 L 0.8311211271903044, -0.5560914240823337 M 0.8311211271903044,-0.5560914240823337 Q -0.030980580574612872, -0.1975859398521563 -0.9614366510808451, -0.27502648228570514L -0.9614366510808451, -0.27502648228570514 L -0.9658093248973204, -0.2592534434513499 L -0.969923249674035, -0.2434109482783376 \", \"type\": \"path\"}, {\"fillcolor\": \"#af4624\", \"layer\": \"below\", \"line\": {\"color\": \"rgb(175,175,175)\", \"width\": 0.5}, \"path\": \"M -0.9926532808247516,-0.12099365300649864 Q -0.031232134763471982, -0.197546333193295 0.9069139913061246, -0.4213158107325127L 0.9069139913061246, -0.4213158107325127 L 0.9065140604079537, -0.4221756249272155 L 0.9061133143495201, -0.4230350594909691 M 0.9061133143495201,-0.4230350594909691 Q -0.03122925945340709, -0.19754678775923384 -0.9924184478754702, -0.12290494016288625L -0.9924184478754702, -0.12290494016288625 L -0.9925363244112884, -0.12194935311074757 L -0.9926532808247516, -0.12099365300649864 \", \"type\": \"path\"}, {\"fillcolor\": \"#af4624\", \"layer\": \"below\", \"line\": {\"color\": \"rgb(175,175,175)\", \"width\": 0.5}, \"path\": \"M -0.9829661092856057,-0.1837869092071542 Q 0.0004091937895784179, -0.19999958140066837 0.9837099229595972, -0.17976314269288704L 0.9837099229595972, -0.17976314269288704 L 0.9823448599749368, -0.18707906371591076 L 0.9809253887422138, -0.19438462315969526 M 0.9809253887422138,-0.19438462315969526 Q 0.000480538011089691, -0.1999994227072166 -0.9799799738298263, -0.19909608457348688L -0.9799799738298263, -0.19909608457348688 L -0.9815028904782468, -0.19144731907981025 L -0.9829661092856057, -0.1837869092071542 \", \"type\": \"path\"}, {\"fillcolor\": \"#af4624\", \"layer\": \"below\", \"line\": {\"color\": \"rgb(175,175,175)\", \"width\": 0.5}, \"path\": \"M -0.9849241495384008,-0.17298676150520265 Q 0.01163387304700926, -0.19966134577811018 0.9983498060314877, -0.057425297534195494L 0.9983498060314877, -0.057425297534195494 L 0.9980671924082632, -0.06214402174213316 L 0.9977622757473886, -0.0668613572655542 M 0.9977622757473886,-0.0668613572655542 Q 0.011785801304456391, -0.1996524352158317 -0.9829661092856057, -0.1837869092071542L -0.9829661092856057, -0.1837869092071542 L -0.9839599476051857, -0.17838952185820858 L -0.9849241495384008, -0.17298676150520265 \", \"type\": \"path\"}, {\"fillcolor\": \"#9f4021\", \"layer\": \"below\", \"line\": {\"color\": \"rgb(175,175,175)\", \"width\": 0.5}, \"path\": \"M -0.9245432990333278,-0.38107701086863094 Q -0.17548355967175766, -0.09594540262528824 -0.8198048423317461, -0.5726430131324584L -0.8198048423317461, -0.5726430131324584 L -0.8255194243490105, -0.5643737059984973 L -0.8311505976270466, -0.5560473757371788 M -0.8311505976270466,-0.5560473757371788 Q -0.17559121040163878, -0.0957482471363702 -0.9175912482237744, -0.3975252208138947L -0.9175912482237744, -0.3975252208138947 L -0.9211039889459458, -0.3893166340498014 L -0.9245432990333278, -0.38107701086863094 \", \"type\": \"path\"}, {\"fillcolor\": \"#9f4021\", \"layer\": \"below\", \"line\": {\"color\": \"rgb(175,175,175)\", \"width\": 0.5}, \"path\": \"M -0.9347558298698355,-0.3552907802411359 Q -0.15497394348647234, -0.12642419404628089 -0.5357930643245558, -0.8443493306811479L -0.5357930643245558, -0.8443493306811479 L -0.5423806732008598, -0.8401328498149457 L -0.5489351017758968, -0.8358649735682706 M -0.5489351017758968,-0.8358649735682706 Q -0.15509808282190216, -0.12627186822475697 -0.9298089004186108, -0.36804267239320754L -0.9298089004186108, -0.36804267239320754 L -0.9323041676659346, -0.3616751843197553 L -0.9347558298698355, -0.3552907802411359 \", \"type\": \"path\"}, {\"fillcolor\": \"#9f4021\", \"layer\": \"below\", \"line\": {\"color\": \"rgb(175,175,175)\", \"width\": 0.5}, \"path\": \"M -0.948664058010478,-0.3162854802849672 Q -0.12440744294777639, -0.1565975355463673 -0.0935617611350207, -0.995613477637438L -0.0935617611350207, -0.995613477637438 L -0.09475770626562481, -0.9955003651949493 L -0.09595351465335498, -0.99538581616661 M -0.09595351465335498,-0.99538581616661 Q -0.12435756225473862, -0.15663714984019217 -0.9476983148336522, -0.31916751724048587L -0.9476983148336522, -0.31916751724048587 L -0.9481822814306373, -0.317726865689686 L -0.948664058010478, -0.3162854802849672 \", \"type\": \"path\"}, {\"fillcolor\": \"#9f4021\", \"layer\": \"below\", \"line\": {\"color\": \"rgb(175,175,175)\", \"width\": 0.5}, \"path\": \"M -0.9082914114143928,-0.4183380355057979 Q -0.09638375974471504, -0.17524317635067294 0.13309886845824886, -0.9911027652141496L 0.13309886845824886, -0.9911027652141496 L 0.11835841693338536, -0.9929709387192673 L 0.10359183530442247, -0.9946198930537542 M 0.10359183530442247,-0.9946198930537542 Q -0.09674025698142792, -0.17504663001374032 -0.8972651542752292, -0.4414920643946493L -0.8972651542752292, -0.4414920643946493 L -0.9028525102361249, -0.4299503980232231 L -0.9082914114143928, -0.4183380355057979 \", \"type\": \"path\"}, {\"fillcolor\": \"#9f4021\", \"layer\": \"below\", \"line\": {\"color\": \"rgb(175,175,175)\", \"width\": 0.5}, \"path\": \"M -0.9453076527880039,-0.32618007538848043 Q -0.052698643812364734, -0.19293224961197522 0.6482267238251255, -0.7614473813199074L 0.6482267238251255, -0.7614473813199074 L 0.6456972445492817, -0.7635935230091105 L 0.6431606598985625, -0.765731261970442 M 0.6431606598985625,-0.765731261970442 Q -0.0527705466521971, -0.19291259524983922 -0.9433703615476393, -0.3317414067515182L -0.9433703615476393, -0.3317414067515182 L -0.944343101081561, -0.328962167185925 L -0.9453076527880039, -0.32618007538848043 \", \"type\": \"path\"}, {\"fillcolor\": \"#9f4021\", \"layer\": \"below\", \"line\": {\"color\": \"rgb(175,175,175)\", \"width\": 0.5}, \"path\": \"M -0.951916899030827,-0.3063563567800321 Q -0.012932174385649765, -0.19958145922319326 0.9044212874998836, -0.42664052165383076L 0.9044212874998836, -0.42664052165383076 L 0.9041783976302493, -0.4271550365602573 L 0.9039352150590098, -0.42766941318759494 M 0.9039352150590098,-0.42766941318759494 Q -0.012931985014183234, -0.19958147149370592 -0.9515670873264884, -0.30744117862931636L -0.9515670873264884, -0.30744117862931636 L -0.951742147742389, -0.30689881754530224 L -0.951916899030827, -0.3063563567800321 \", \"type\": \"path\"}, {\"fillcolor\": \"#9f4021\", \"layer\": \"below\", \"line\": {\"color\": \"rgb(175,175,175)\", \"width\": 0.5}, \"path\": \"M -0.9515670873264884,-0.30744117862931636 Q 0.005163288858036518, -0.19993334001153606 0.9661674550147287, -0.25791558477603127L 0.9661674550147287, -0.25791558477603127 L 0.9659300769226628, -0.2588031810008888 L 0.9656918834161712, -0.25969055875046393 M 0.9656918834161712,-0.25969055875046393 Q 0.00516949999595822, -0.19993317951203546 -0.9509813207503961, -0.30924832672761915L -0.9509813207503961, -0.30924832672761915 L -0.9512746331712173, -0.30834489177699353 L -0.9515670873264884, -0.30744117862931636 \", \"type\": \"path\"}, {\"fillcolor\": \"#9f4021\", \"layer\": \"below\", \"line\": {\"color\": \"rgb(175,175,175)\", \"width\": 0.5}, \"path\": \"M -0.9466013885383825,-0.3224062828438773 Q 0.0229338981049072, -0.19868073967477004 0.995160086622564, -0.09826699340760803L 0.995160086622564, -0.09826699340760803 L 0.9949874362516348, -0.10000000850699502 L 0.9948117679350753, -0.10173272029140767 M 0.9948117679350753,-0.10173272029140767 Q 0.022984184263655255, -0.1986749286491236 -0.9453076527880039, -0.32618007538848043L -0.9453076527880039, -0.32618007538848043 L -0.9459564025581062, -0.32429382426948256 L -0.9466013885383825, -0.3224062828438773 \", \"type\": \"path\"}, {\"fillcolor\": \"#8f391e\", \"layer\": \"below\", \"line\": {\"color\": \"rgb(175,175,175)\", \"width\": 0.5}, \"path\": \"M -0.7961240998370033,-0.6051333883192377 Q -0.11630764457836684, -0.16270381622024818 -0.31492113512288633, -0.9491178423425158L -0.31492113512288633, -0.9491178423425158 L -0.3507713505081831, -0.9364611362265203 L -0.3861145504066893, -0.9224508409472237 M -0.3861145504066893,-0.9224508409472237 Q -0.11640429907880286, -0.16263468005309512 -0.7486404842503991, -0.6629761876125929L -0.7486404842503991, -0.6629761876125929 L -0.7729235747602761, -0.63449913126796 L -0.7961240998370033, -0.6051333883192377 \", \"type\": \"path\"}, {\"fillcolor\": \"#8f391e\", \"layer\": \"below\", \"line\": {\"color\": \"rgb(175,175,175)\", \"width\": 0.5}, \"path\": \"M -0.8679743109189726,-0.4966090973640481 Q -0.10598529889056676, -0.16960871563418323 -0.06587142044668813, -0.9978281194516095L -0.06587142044668813, -0.9978281194516095 L -0.06886780222941008, -0.9976257944821249 L -0.07186356287695185, -0.9974144716869865 M -0.07186356287695185,-0.9974144716869865 Q -0.10576910479600506, -0.16974361982310765 -0.8636942476672784, -0.5040161173479017L -0.8636942476672784, -0.5040161173479017 L -0.8658421999332825, -0.5003171842088714 L -0.8679743109189726, -0.4966090973640481 \", \"type\": \"path\"}, {\"fillcolor\": \"#8f391e\", \"layer\": \"below\", \"line\": {\"color\": \"rgb(175,175,175)\", \"width\": 0.5}, \"path\": \"M -0.7486404842503991,-0.6629761876125929 Q -0.042248306188908014, -0.19548677864287467 0.4080518102331398, -0.9129587724346908L 0.4080518102331398, -0.9129587724346908 L 0.3713627666946782, -0.9284878542624422 L 0.3340842819503998, -0.9425432046085133 M 0.3340842819503998,-0.9425432046085133 Q -0.04246969921412307, -0.19543880026407734 -0.6951214334182848, -0.7188923374209166L -0.6951214334182848, -0.7188923374209166 L -0.7224221568307104, -0.6914522596102094 L -0.7486404842503991, -0.6629761876125929 \", \"type\": \"path\"}, {\"fillcolor\": \"#8f391e\", \"layer\": \"below\", \"line\": {\"color\": \"rgb(175,175,175)\", \"width\": 0.5}, \"path\": \"M -0.8636942476672784,-0.5040161173479017 Q -0.030570710891786652, -0.1976497701379154 0.6710645040451019, -0.7413989691189902L 0.6710645040451019, -0.7413989691189902 L 0.6667691880868148, -0.7452642818611729 L 0.6624516084507809, -0.7491047099444598 M 0.6624516084507809,-0.7491047099444598 Q -0.030571503323353, -0.1976496475700127 -0.8578159578456352, -0.5139569850341322L -0.8578159578456352, -0.5139569850341322 L -0.8607694535320519, -0.5089950371723999 L -0.8636942476672784, -0.5040161173479017 \", \"type\": \"path\"}, {\"fillcolor\": \"#8f391e\", \"layer\": \"below\", \"line\": {\"color\": \"rgb(175,175,175)\", \"width\": 0.5}, \"path\": \"M -0.8746901601587004,-0.4846824978494138 Q 0.008208137395166374, -0.19983149521660012 0.9114934993139896, -0.4113144790891004L 0.9114934993139896, -0.4113144790891004 L 0.9102804412194724, -0.4139921718260899 L 0.9090595168925241, -0.41666628702971725 M 0.9090595168925241,-0.41666628702971725 Q 0.008283134398036863, -0.19982840059547108 -0.8714575574111668, -0.49047092230932804L -0.8714575574111668, -0.49047092230932804 L -0.8730786558827598, -0.48757938906597925 L -0.8746901601587004, -0.4846824978494138 \", \"type\": \"path\"}, {\"fillcolor\": \"#8f391e\", \"layer\": \"below\", \"line\": {\"color\": \"rgb(175,175,175)\", \"width\": 0.5}, \"path\": \"M -0.8829548072160557,-0.4694579943020014 Q 0.022202508688732345, -0.19876380105020827 0.9647793150658276, -0.2630605884983772L 0.9647793150658276, -0.2630605884983772 L 0.9647309592778143, -0.26323787001666044 L 0.9646825709137121, -0.2634151426461864 M 0.9646825709137121,-0.2634151426461864 Q 0.022208493476410122, -0.19876313244037047 -0.882753922230402, -0.4698356231564837L -0.882753922230402, -0.4698356231564837 L -0.8828543849139244, -0.46964681946996734 L -0.8829548072160557, -0.4694579943020014 \", \"type\": \"path\"}, {\"fillcolor\": \"#8f391e\", \"layer\": \"below\", \"line\": {\"color\": \"rgb(175,175,175)\", \"width\": 0.5}, \"path\": \"M -0.882753922230402,-0.4698356231564837 Q 0.03763139165493501, -0.19642779427085388 0.9938973278273702, -0.11030911901385622L 0.9938973278273702, -0.11030911901385622 L 0.9938698522490872, -0.11055639642452905 L 0.9938423151492415, -0.11080366699164672 M 0.9938423151492415,-0.11080366699164672 Q 0.03764553495743553, -0.19642508418674154 -0.8824522919374473, -0.4704019052409824L -0.8824522919374473, -0.4704019052409824 L -0.882603152500062, -0.47011878838964966 L -0.882753922230402, -0.4698356231564837 \", \"type\": \"path\"}, {\"fillcolor\": \"#f0f3e7\", \"layer\": \"below\", \"line\": {\"color\": \"rgb(175,175,175)\", \"width\": 0.5}, \"path\": \"M -0.5590639846831128,-0.8291245147927061 Q -0.06335074697412368, -0.1897015626130174 -0.05133103277909607, -0.9986816935709953L -0.05133103277909607, -0.9986816935709953 L -0.05552951222239893, -0.998457046283085 L -0.0597270100318626, -0.9982147485750017 M -0.0597270100318626,-0.9982147485750017 Q -0.06299420733646996, -0.18982025666943408 -0.5489351017758968, -0.8358649735682706L -0.5489351017758968, -0.8358649735682706 L -0.5540097944482804, -0.8325101486801072 L -0.5590639846831128, -0.8291245147927061 \", \"type\": \"path\"}, {\"fillcolor\": \"#f0f3e7\", \"layer\": \"below\", \"line\": {\"color\": \"rgb(175,175,175)\", \"width\": 0.5}, \"path\": \"M -0.31492113512288633,-0.9491178423425158 Q 0.0194073710305762, -0.19905615777885788 0.49231999309583124, -0.870414283199742L 0.49231999309583124, -0.870414283199742 L 0.450688200920028, -0.8926814356485008 L 0.4080518102331398, -0.9129587724346908 M 0.4080518102331398,-0.9129587724346908 Q 0.01928514607225078, -0.19906803646234106 -0.2252187428288132, -0.9743082252955729L -0.2252187428288132, -0.9743082252955729 L -0.27036347901806124, -0.9627583233674224 L -0.31492113512288633, -0.9491178423425158 \", \"type\": \"path\"}, {\"fillcolor\": \"#f0f3e7\", \"layer\": \"below\", \"line\": {\"color\": \"rgb(175,175,175)\", \"width\": 0.5}, \"path\": \"M -0.4825174738715058,-0.8758863438875278 Q 0.037225450484068466, -0.19650512928740096 0.7694405046414794, -0.6387184902733485L 0.7694405046414794, -0.6387184902733485 L 0.7599249031584557, -0.650010878031754 L 0.7502435888848206, -0.6611615213676794 M 0.7502435888848206,-0.6611615213676794 Q 0.03726947259369445, -0.1964967847385495 -0.4560434110328257, -0.8899575311516529L -0.4560434110328257, -0.8899575311516529 L -0.4693331793575391, -0.8830211587239255 L -0.4825174738715058, -0.8758863438875278 \", \"type\": \"path\"}, {\"fillcolor\": \"#f0f3e7\", \"layer\": \"below\", \"line\": {\"color\": \"rgb(175,175,175)\", \"width\": 0.5}, \"path\": \"M -0.5357930643245558,-0.8443493306811479 Q 0.0613323521557001, -0.1903637112977397 0.9279276625700001, -0.3727603158027636L 0.9279276625700001, -0.3727603158027636 L 0.9252171457556263, -0.37943804922518276 L 0.922458574064731, -0.3860960750052546 M 0.922458574064731,-0.3860960750052546 Q 0.061532033111205586, -0.19029926143104578 -0.5217787436526574, -0.8530808535374912L -0.5217787436526574, -0.8530808535374912 L -0.5288039259781417, -0.848744017869996 L -0.5357930643245558, -0.8443493306811479 \", \"type\": \"path\"}, {\"fillcolor\": \"#f0f3e7\", \"layer\": \"below\", \"line\": {\"color\": \"rgb(175,175,175)\", \"width\": 0.5}, \"path\": \"M -0.6016913210270433,-0.798728711266054 Q 0.06585905564061653, -0.18884539917648557 0.9678986904083265, -0.25134065549736745L 0.9678986904083265, -0.25134065549736745 L 0.9674584500679853, -0.25302993378660105 L 0.9670152614244331, -0.2547184409740202 M 0.9670152614244331,-0.2547184409740202 Q 0.06591916204342807, -0.1888244265858956 -0.5983890473497976, -0.801205683961242L -0.5983890473497976, -0.801205683961242 L -0.6000414623084868, -0.7999689015897385 L -0.6016913210270433, -0.798728711266054 \", \"type\": \"path\"}, {\"fillcolor\": \"#f0f3e7\", \"layer\": \"below\", \"line\": {\"color\": \"rgb(175,175,175)\", \"width\": 0.5}, \"path\": \"M -0.5945526268201083,-0.8040566982130731 Q 0.08251784047907947, -0.18218344052813693 0.9965160763926822, -0.08340089622380448L 0.9965160763926822, -0.08340089622380448 L 0.9962840939065604, -0.08612783655000333 L 0.9960446492332307, -0.08885413177703412 M 0.9960446492332307,-0.08885413177703412 Q 0.08267231255421971, -0.18211339527046716 -0.5887725546444516, -0.8082987559667814L -0.5887725546444516, -0.8082987559667814 L -0.5916663925182246, -0.8061829072638976 L -0.5945526268201083, -0.8040566982130731 \", \"type\": \"path\"}, {\"fillcolor\": \"#e2ecde\", \"layer\": \"below\", \"line\": {\"color\": \"rgb(175,175,175)\", \"width\": 0.5}, \"path\": \"M -0.05133103277909607,-0.9986816935709953 Q -0.00012863155672973402, -0.19999995863480227 0.050046370769212443, -0.9987468952506589L 0.050046370769212443, -0.9987468952506589 L 0.04279006097370917, -0.9990840858916061 L 0.035531493243848425, -0.9993685571338846 M 0.035531493243848425,-0.9993685571338846 Q -0.0005904039321223331, -0.1999991285560938 -0.04143115951989349, -0.9991413608798493L -0.04143115951989349, -0.9991413608798493 L -0.04638166559684363, -0.9989237914357945 L -0.05133103277909607, -0.9986816935709953 \", \"type\": \"path\"}, {\"fillcolor\": \"#e2ecde\", \"layer\": \"below\", \"line\": {\"color\": \"rgb(175,175,175)\", \"width\": 0.5}, \"path\": \"M -0.09101993158288443,-0.995849070921215 Q 0.05920455399744234, -0.19103617664192282 0.6382310604253589, -0.7698448632733234L 0.6382310604253589, -0.7698448632733234 L 0.6366645260948083, -0.7711408958241505 L 0.6350953599648899, -0.7724337406865828 M 0.6350953599648899,-0.7724337406865828 Q 0.059088653839073746, -0.19107205705567237 -0.08817836213297102, -0.996104701550769L -0.08817836213297102, -0.996104701550769 L -0.08959923802367513, -0.9959778996270835 L -0.09101993158288443, -0.995849070921215 \", \"type\": \"path\"}, {\"fillcolor\": \"#e2ecde\", \"layer\": \"below\", \"line\": {\"color\": \"rgb(175,175,175)\", \"width\": 0.5}, \"path\": \"M -0.09819528080798498,-0.9951671652677458 Q 0.09876752366306032, -0.17391082849974243 0.9049868918035081, -0.42543945005585176L 0.9049868918035081, -0.42543945005585176 L 0.904704288967257, -0.4260400797158057 L 0.9044212874998836, -0.42664052165383076 M 0.9044212874998836,-0.42664052165383076 Q 0.09874348278702619, -0.1739244796085021 -0.0971491845725668, -0.9952698307177231L -0.0971491845725668, -0.9952698307177231 L -0.09767224617951593, -0.9952186354395942 L -0.09819528080798498, -0.9951671652677458 \", \"type\": \"path\"}, {\"fillcolor\": \"#e2ecde\", \"layer\": \"below\", \"line\": {\"color\": \"rgb(175,175,175)\", \"width\": 0.5}, \"path\": \"M -0.0971491845725668,-0.9952698307177231 Q 0.1138175419284046, -0.16445536521918605 0.9656918834161712, -0.25969055875046393L 0.9656918834161712, -0.25969055875046393 L 0.9655007416476923, -0.26040030314451684 L 0.9653090782459258, -0.2611099068515041 M 0.9653090782459258,-0.2611099068515041 Q 0.1137954395812892, -0.1644706597861794 -0.09595351465335498, -0.99538581616661L -0.09595351465335498, -0.99538581616661 L -0.09655136702937091, -0.9953280029843226 L -0.0971491845725668, -0.9952698307177231 \", \"type\": \"path\"}, {\"fillcolor\": \"#e2ecde\", \"layer\": \"below\", \"line\": {\"color\": \"rgb(175,175,175)\", \"width\": 0.5}, \"path\": \"M -0.09998833559047718,-0.9949886093548238 Q 0.12567659262234868, -0.15558082808249935 0.9937685821238768, -0.11146302159684851L 0.9937685821238768, -0.11146302159684851 L 0.9937500805159389, -0.11162785259318025 L 0.9937315515683794, -0.11179268051845487 M 0.9937315515683794,-0.11179268051845487 Q 0.12567414908329264, -0.1555828019165047 -0.09968951551499236, -0.9950185930405452L -0.09968951551499236, -0.9950185930405452 L -0.09983892667832456, -0.9950036124154124 L -0.09998833559047718, -0.9949886093548238 \", \"type\": \"path\"}, {\"fillcolor\": \"#d4e5d6\", \"layer\": \"below\", \"line\": {\"color\": \"rgb(175,175,175)\", \"width\": 0.5}, \"path\": \"M 0.1644428555555505,-0.9863866114545231 Q 0.10545555018880588, -0.16993859754151275 0.810844710475911, -0.5852613565692135L 0.810844710475911, -0.5852613565692135 L 0.8007059041257503, -0.5990576392119249 L 0.7903323846047594, -0.612678318406123 M 0.7903323846047594,-0.612678318406123 Q 0.1055385940850935, -0.169887036464063 0.1990743762280373, -0.979984383921202L 0.1990743762280373, -0.979984383921202 L 0.18178680254696097, -0.9833379675471461 L 0.1644428555555505, -0.9863866114545231 \", \"type\": \"path\"}, {\"fillcolor\": \"#d4e5d6\", \"layer\": \"below\", \"line\": {\"color\": \"rgb(175,175,175)\", \"width\": 0.5}, \"path\": \"M 0.06630791889560952,-0.9977992082036011 Q 0.1187242029399493, -0.16094894729781162 0.9337481123559351, -0.3579308071006574L 0.9337481123559351, -0.3579308071006574 L 0.9308674187652108, -0.36535715222422227 L 0.9279276625700001, -0.3727603158027636 M 0.9279276625700001,-0.3727603158027636 Q 0.11893008496832008, -0.1607968746258091 0.08474541733120732, -0.9964026366089963L 0.08474541733120732, -0.9964026366089963 L 0.07552989606353054, -0.9971435377119146 L 0.06630791889560952, -0.9977992082036011 \", \"type\": \"path\"}, {\"fillcolor\": \"#d4e5d6\", \"layer\": \"below\", \"line\": {\"color\": \"rgb(175,175,175)\", \"width\": 0.5}, \"path\": \"M -0.010026927172103565,-0.9999497291021611 Q 0.12064901842393323, -0.15951117313010216 0.9649241869570137, -0.2625286906708411L 0.9649241869570137, -0.2625286906708411 L 0.9648517876641102, -0.26279464956762505 L 0.9647793150658276, -0.2630605884983772 M 0.9647793150658276,-0.2630605884983772 Q 0.12065771987220064, -0.15950459126696498 -0.009366580419456956, -0.9999561326234495L -0.009366580419456956, -0.9999561326234495 L -0.009696754324373188, -0.9999529853725988 L -0.010026927172103565, -0.9999497291021611 \", \"type\": \"path\"}, {\"fillcolor\": \"#d4e5d6\", \"layer\": \"below\", \"line\": {\"color\": \"rgb(175,175,175)\", \"width\": 0.5}, \"path\": \"M 0.015066691567568161,-0.9998864909604529 Q 0.13705740921813414, -0.14565461399630605 0.9971234001168459, -0.07579528309479748L 0.9971234001168459, -0.07579528309479748 L 0.99682699196604, -0.07959866888294427 L 0.9965160763926822, -0.08340089622380448 M 0.9965160763926822,-0.08340089622380448 Q 0.13723907590344853, -0.14548345625935444 0.025190389901515457, -0.9996826717797052L 0.025190389901515457, -0.9996826717797052 L 0.020128798713950097, -0.9997973952068155 L 0.015066691567568161, -0.9998864909604529 \", \"type\": \"path\"}, {\"fillcolor\": \"#c6decd\", \"layer\": \"below\", \"line\": {\"color\": \"rgb(175,175,175)\", \"width\": 0.5}, \"path\": \"M 0.6805292196223499,-0.7327209436342019 Q 0.16400361783393105, -0.11446752088423116 0.922458574064731, -0.3860960750052546L 0.922458574064731, -0.3860960750052546 L 0.9199869336565162, -0.3919490297236119 L 0.9174781569773154, -0.3977861629940246 M 0.9174781569773154,-0.3977861629940246 Q 0.16409698193872782, -0.11433363686422662 0.6909654684712413, -0.7228877654105913L 0.6909654684712413, -0.7228877654105913 L 0.6857649690059479, -0.7278230604235286 L 0.6805292196223499, -0.7327209436342019 \", \"type\": \"path\"}, {\"fillcolor\": \"#c6decd\", \"layer\": \"below\", \"line\": {\"color\": \"rgb(175,175,175)\", \"width\": 0.5}, \"path\": \"M 0.7184426257414908,-0.6955862229211215 Q 0.17953434226866258, -0.08813296741945503 0.9897297120805492, -0.14295137993371476L 0.9897297120805492, -0.14295137993371476 L 0.9883185888341961, -0.15240199134126572 L 0.9868172268380907, -0.1618386876354982 M 0.9868172268380907,-0.1618386876354982 Q 0.17967279249980833, -0.08785037071817524 0.7337455646085372, -0.6794243492967403L 0.7337455646085372, -0.6794243492967403 L 0.7261390614667307, -0.6875478626337337 L 0.7184426257414908, -0.6955862229211215 \", \"type\": \"path\"}, {\"fillcolor\": \"#c6decd\", \"layer\": \"below\", \"line\": {\"color\": \"rgb(175,175,175)\", \"width\": 0.5}, \"path\": \"M 0.7033925315395111,-0.7108016225181524 Q 0.1833422281564582, -0.07991012060199401 0.9995065603657315, -0.031410759078131026L 0.9995065603657315, -0.031410759078131026 L 0.999211692036131, -0.039698797189487336 L 0.9988480994021209, -0.04798410487620542 M 0.9988480994021209,-0.04798410487620542 Q 0.1835340823378735, -0.07946848822265767 0.7184426257414908, -0.6955862229211215L 0.7184426257414908, -0.6955862229211215 L 0.7109582833867939, -0.7032341852354046 L 0.7033925315395111, -0.7108016225181524 \", \"type\": \"path\"}, {\"fillcolor\": \"#b8d7c5\", \"layer\": \"below\", \"line\": {\"color\": \"rgb(175,175,175)\", \"width\": 0.5}, \"path\": \"M 0.9029595593338854,-0.42972553357643933 Q 0.18749683941342715, -0.06960556881439527 0.9646341499751554, -0.2635924063809682L 0.9646341499751554, -0.2635924063809682 L 0.9646099272909675, -0.2636810349109591 L 0.9645856964637789, -0.2637696612150202 M 0.9645856964637789,-0.2637696612150202 Q 0.18749704464220582, -0.0696050159861966 0.903041042679514, -0.4295542750762658L 0.903041042679514, -0.4295542750762658 L 0.9030003050667028, -0.4296399062580682 L 0.9029595593338854, -0.42972553357643933 \", \"type\": \"path\"}, {\"fillcolor\": \"#b8d7c5\", \"layer\": \"below\", \"line\": {\"color\": \"rgb(175,175,175)\", \"width\": 0.5}, \"path\": \"M 0.9031224935436507,-0.42938300112545047 Q 0.19238931505670007, -0.05464752009024568 0.9939884687441067, -0.1094848117491463L 0.9939884687441067, -0.1094848117491463 L 0.9939429837386401, -0.10989697482974435 L 0.9938973278273702, -0.11030911901385622 M 0.9938973278273702,-0.11030911901385622 Q 0.19239256472248964, -0.05463607818559673 0.9035292605394579, -0.42852639982738566L 0.9035292605394579, -0.42852639982738566 L 0.9033259785782423, -0.42895474869228467 L 0.9031224935436507, -0.42938300112545047 \", \"type\": \"path\"}, {\"fillcolor\": \"#aad0bc\", \"layer\": \"below\", \"line\": {\"color\": \"rgb(175,175,175)\", \"width\": 0.5}, \"path\": \"M 0.9678986904083265,-0.25134065549736745 Q 0.1969769408837599, -0.03464223953608897 0.9955746096856136, -0.09397444625715047L 0.9955746096856136, -0.09397444625715047 L 0.9953696621163228, -0.09612094328728407 L 0.995160086622564, -0.09826699340760803 M 0.995160086622564,-0.09826699340760803 Q 0.1969849931717973, -0.03459642272124361 0.9690884715425007, -0.24671346603584465L 0.9690884715425007, -0.24671346603584465 L 0.9684963443974162, -0.2490277713204724 L 0.9678986904083265, -0.25134065549736745 \", \"type\": \"path\"}, {\"fillcolor\": \"#f2e6ce\", \"layer\": \"below\", \"line\": {\"color\": \"rgb(150,150,150)\", \"width\": 0.45}, \"path\": \"M 1.1, 0.0 L 1.099703519127535, 0.025537619672070362 L 1.0988142363299722, 0.051061473133666074 L 1.0973326309806566, 0.07655780159507265 L 1.0952595017480362, 0.10201286110409577 L 1.0925959661651363, 0.1274129299548229 L 1.0893434600271446, 0.15274431608439304 L 1.0855037366174387, 0.17799336445378727 L 1.0810788657624664, 0.20314646440866102 L 1.0760712327159947, 0.22819005701625103 L 1.0704835368733228, 0.253110642374401 L 1.0643187903161568, 0.27789478688876673 L 1.0575803161889292, 0.3025291305142773 L 0.9614366510808446, 0.27502648228570664 L 0.9675625366510515, 0.25263162444433335 L 0.9731668517030205, 0.23010058397672817 L 0.9782465751963587, 0.20744550637841 L 0.9827989688749693, 0.18467860400787364 L 0.9868215787431259, 0.16181214950344297 L 0.9903122363883132, 0.13885846916763003 L 0.9932690601501238, 0.11582993632256626 L 0.9956904561345783, 0.09273896464008706 L 0.9975751190733241, 0.06959800145006605 L 0.9989220330272474, 0.046419521030605516 L 0.9997304719341227, 0.023216017883700327 L 1.0, 0.0 L 1.1 ,0.0\", \"type\": \"path\"}, {\"fillcolor\": \"#ecd5bb\", \"layer\": \"below\", \"line\": {\"color\": \"rgb(150,150,150)\", \"width\": 0.45}, \"path\": \"M 1.0475557945118, 0.33559925116834205 L 1.0404371587698944, 0.3570581446358977 L 1.032878995007575, 0.3783662004885511 L 1.0248844961372898, 0.3995144172334884 L 1.0164570393993013, 0.4204938609012116 L 1.0076001849349845, 0.4412956688196534 L 0.998317674282862, 0.46191105335817384 L 0.9886134287980074, 0.48233130563985527 L 0.9784915479954867, 0.5025477992205284 L 0.9679563078185363, 0.5225519937329752 L 0.95701215883221, 0.5423354384947687 L 0.9456637243432581, 0.5618897760782257 L 0.933915798447031, 0.5812067458409654 L 0.9217733440022369, 0.6002781874155798 L 0.9092414905344023, 0.6190960441569454 L 0.8963255320689285, 0.6376523665457161 L 0.8830309248946535, 0.6559393155465625 L 0.8693632852588676, 0.6739491659197369 L 0.8553283869947543, 0.6916743094845667 L 0.8409321590822609, 0.7091072583334959 L 0.8261806831434274, 0.7262406479953184 L 0.8110801908732317, 0.7430672405462659 L 0.7956370614070395, 0.759579927667636 L 0.7798578186257653, 0.77577173364867 L 0.7637491283998901, 0.7916358183334105 L 0.7473177957734916, 0.8071654800102951 L 0.730570762089487, 0.8223541582432634 L 0.713515102057291, 0.8371954366431854 L 0.6961580207641379, 0.8516830455784349 L 0.6785068506313249, 0.8658108648234677 L 0.6605690483166623, 0.8795729261442846 L 0.6423521915644432, 0.8929634158196835 L 0.6238639760042584, 0.9059766770972411 L 0.6051122119000124, 0.9186072125829813 L 0.5861048208505125, 0.930849686563727 L 0.5668498324430252, 0.9426989272611456 L 0.5473553808612116, 0.9541499290165452 L 0.5276297014488799, 0.9651978544054923 L 0.5076811272309993, 0.9758380362813606 L 0.4875180853934528, 0.9860659797469449 L 0.46714909372300883, 0.9958773640533114 L 0.44658275700902056, 1.0052680444250788 L 0.42582776340837214, 1.0142340538113594 L 0.4048928807752041, 1.0227716045616229 L 0.3837869529569745, 1.0308770900257709 L 0.3625188960584133, 1.038547086077752 L 0.3410976946749556, 1.045778352562067 L 0.3100888133408687, 0.9507075932382427 L 0.32956263278037573, 0.944133714616138 L 0.3488972299608859, 0.9371609909325188 L 0.3680844370683673, 0.9297923677832934 L 0.38711614855306553, 0.9220309580103268 L 0.405984324553655, 0.9138800403864352 L 0.42468099429364436, 0.905343058230283 L 0.4431982594485934, 0.896423617951768 L 0.46152829748272667, 0.8871254875285095 L 0.4796633649535271, 0.8774525949140839 L 0.4975958007829196, 0.8674090263786773 L 0.5153180294936592, 0.8569990247828595 L 0.5328225644095568, 0.8462269877852063 L 0.5501020108181931, 0.8350974659845284 L 0.5671490690947802, 0.8236151609974918 L 0.5839565377858574, 0.8117849234724395 L 0.6005173166515111, 0.7996117510402587 L 0.6168244096648408, 0.7871007862031524 L 0.6328709279673981, 0.7742573141622134 L 0.6486500927793554, 0.7610867605847139 L 0.6641552382631699, 0.7475946893120576 L 0.6793798143395378, 0.7337868000093591 L 0.6943173894544454, 0.7196689257576458 L 0.7089616532961502, 0.7052470305897 L 0.723306419460945, 0.6905272069705781 L 0.7373456280665742, 0.6755156732238781 L 0.7510733483122066, 0.6602187709048348 L 0.7644837809838735, 0.6446429621213599 L 0.777571260904322, 0.6287948268041514 L 0.7903302593262432, 0.6126810599270335 L 0.8027553862678668, 0.5963084686786931 L 0.814841392789935, 0.5796839695870146 L 0.8265831732130929, 0.5628145855972231 L 0.8379757672747608, 0.5457074431050725 L 0.8490143622245736, 0.5283697689463321 L 0.8596942948575073, 0.5108088873438414 L 0.8700110534838272, 0.49303221681342607 L 0.8799602798350329, 0.4750472670299774 L 0.8895377709049878, 0.45686163565502574 L 0.8987394807254612, 0.4384830051271411 L 0.907561522075329, 0.41991913941652165 L 0.9160001681227131, 0.4011778807451394 L 0.9240518539993647, 0.3822671462738287 L 0.931713178306627, 0.3631949247577167 L 0.9389809045523407, 0.34396927317141 L 0.9458519625180858, 0.3245983133053615 L 0.9523234495561816, 0.3050902283348564 L 1.0475557945118 ,0.33559925116834205\", \"type\": \"path\"}, {\"fillcolor\": \"#e6c4a9\", \"layer\": \"below\", \"line\": {\"color\": \"rgb(150,150,150)\", \"width\": 0.45}, \"path\": \"M 0.3080806916717963, 1.055976461583793 L 0.28597471494079774, 1.0621762859405823 L 0.26374415910871085, 1.0679133946795683 L 0.24139870846759878, 1.0731852885453543 L 0.2189480973611251, 1.0779896709439953 L 0.19640210594398358, 1.0823244489434618 L 0.17377055592137047, 1.0861877341853838 L 0.15106330627035908, 1.0895778437076755 L 0.1282902489450348, 1.0924933006776842 L 0.10546130456726473, 1.0949328350355427 L 0.08258641810498116, 1.0968953840474438 L 0.05967555453985534, 1.0983800927686012 L 0.03673869452625655, 1.0993863144156866 L 0.013785830043381077, 1.0999136106485887 L -0.009173039957552127, 1.099961751761368 L -0.032127913909140667, 1.099530716782322 L -0.0550687919847812, 1.0986206934831226 L -0.07798568045488995, 1.0972320782970155 L -0.10086859604046963, 1.0953654761461238 L -0.1237075702621238, 1.093021700177925 L -0.1464926537826218, 1.0902017714110197 L -0.16921392074112707, 1.0869069182903455 L -0.1918614730771984, 1.0831385761520305 L -0.21442544484267825, 1.078898386598117 L -0.23689600649959452, 1.0741881967814317 L -0.2592633692022004, 1.0690100586009113 L -0.23569397200200035, 0.9718273260008283 L -0.21536000590872229, 0.9765347243467561 L -0.19493222258425294, 0.9808167150891971 L -0.17441952097927124, 0.9846714328654821 L -0.15383083703738823, 0.9880971984457686 L -0.13317513980238344, 0.9910925194645632 L -0.11246142751102163, 0.9936560910708409 L -0.09169872367315421, 0.9957867964964762 L -0.07089607314080903, 0.9974837075427413 L -0.0500625381679829, 0.9987460849846568 L -0.02920719446285515, 0.99957337889302 L -0.008339127234138297, 0.9999652288739708 L 0.01253257276671007, 0.9999214642259897 L 0.033398813205687765, 0.9994421040142604 L 0.05425050412714121, 0.9985273570623646 L 0.07507856191361922, 0.9971776218613125 L 0.09587391324296793, 0.9953934863959478 L 0.11662749904094072, 0.9931757278888038 L 0.13733027842759915, 0.9905253124615232 L 0.15797323265579133, 0.9874433947139852 L 0.17854736903998505, 0.9839313172213289 L 0.19904372487375008, 0.9799906099490866 L 0.2194533713341807, 0.9756229895866857 L 0.23976741737155532, 0.9708303587996073 L 0.2599770135825434, 0.9656148054005294 L 0.28007335606526934, 0.9599786014398117 L 0.3080806916717963 ,1.055976461583793\", \"type\": \"path\"}, {\"fillcolor\": \"#e1b396\", \"layer\": \"below\", \"line\": {\"color\": \"rgb(150,150,150)\", \"width\": 0.45}, \"path\": \"M -0.29271385578293113, 1.0603389074407719 L -0.3154526527286896, 1.0537977148800586 L -0.33804549674846474, 1.0467689535556945 L -0.36048193463584854, 1.0392558755192083 L -0.3827515855500714, 1.0312619569046977 L -0.4048441458189863, 1.022790896320502 L -0.4267493937063495, 1.0138466131379358 L -0.44845719414118934, 1.0044332456778857 L -0.4699575034070791, 0.9945551492960988 L -0.49124037378913976, 0.9842168943680587 L -0.5122959581766295, 0.9734232641743721 L -0.5331145146189791, 0.962179252687653 L -0.553686410833178, 0.9504900622619226 L -0.574002128660417, 0.9383611012255944 L -0.5940522684699285, 0.9257979813791626 L -0.6138275535079863, 0.9128065153987456 L -0.6333188341900539, 0.899392714146691 L -0.652517092334093, 0.8855627838904822 L -0.6714134453330767, 0.8713231234312377 L -0.610375859393706, 0.7921119303920342 L -0.5931973566673573, 0.8050570762640746 L -0.5757443947182307, 0.8176297401333553 L -0.5580250486436239, 0.8298241049079504 L -0.5400475167908441, 0.8416345285265113 L -0.5218201169640154, 0.8530555465687221 L -0.5033512825756163, 0.8640818747835659 L -0.48464955874452637, 0.87470841153423 L -0.4657235983423904, 0.88493024015852 L -0.446582157990127, 0.8947426312436897 L -0.4272340940064355, 0.9041410448146352 L -0.4076883583101721, 0.9131211324344415 L -0.3879539942784995, 0.9216787392163053 L -0.3680401325627148, 0.9298099057459107 L -0.3479559868637012, 0.9375108699133615 L -0.3277108496689532, 0.9447780686538256 L -0.30731408795314974, 0.9516081395960859 L -0.28677513884426326, 0.9579979226182349 L -0.2661035052572101, 0.9639444613097925 L -0.29271385578293113 ,1.0603389074407719\", \"type\": \"path\"}, {\"fillcolor\": \"#dba284\", \"layer\": \"below\", \"line\": {\"color\": \"rgb(150,150,150)\", \"width\": 0.45}, \"path\": \"M -0.6984510640374693, 0.849803572094709 L -0.7205724214795161, 0.8311289824107608 L -0.7421946814281759, 0.8118787193046315 L -0.7633028674349752, 0.7920661162842058 L -0.7838823591197662, 0.7717048963566513 L -0.7126203264725147, 0.7015499057787739 L -0.6939116976681592, 0.7200601057129142 L -0.674722437661978, 0.7380715630042104 L -0.6550658377086509, 0.7555718021916007 L -0.6349555127613357, 0.7725487019042808 L -0.6984510640374693 ,0.849803572094709\", \"type\": \"path\"}, {\"fillcolor\": \"#d59171\", \"layer\": \"below\", \"line\": {\"color\": \"rgb(150,150,150)\", \"width\": 0.45}, \"path\": \"M -0.8077353970740434, 0.7467017666469242 L -0.8370970858237526, 0.7136304848486933 L -0.8651057085225881, 0.6794057058059131 L -0.8917159926243329, 0.6440827497286361 L -0.9168849258277476, 0.6077187118970799 L -0.8335317507524977, 0.5524715562700726 L -0.8106509023857571, 0.5855297724805782 L -0.7864597350205346, 0.6176415507326483 L -0.760997350748866, 0.6487549862260847 L -0.7343049064309485, 0.6788197878608402 L -0.8077353970740434 ,0.7467017666469242\", \"type\": \"path\"}, {\"fillcolor\": \"#d0805f\", \"layer\": \"below\", \"line\": {\"color\": \"rgb(150,150,150)\", \"width\": 0.45}, \"path\": \"M -0.9355214045119503, 0.5786187878906007 L -0.969330433905126, 0.5199985672146613 L -0.9994709235294525, 0.45941035362645394 L -1.0258288033207172, 0.39708345001722906 L -1.0483043189259624, 0.3332537395456718 L -0.9530039262963294, 0.3029579450415198 L -0.9325716393824702, 0.3609849545611173 L -0.9086099304813204, 0.417645776024049 L -0.8812094853682962, 0.47272597019514656 L -0.850474004101773, 0.526017079900546 L -0.9355214045119503 ,0.5786187878906007\", \"type\": \"path\"}, {\"fillcolor\": \"#ca6f4c\", \"layer\": \"below\", \"line\": {\"color\": \"rgb(150,150,150)\", \"width\": 0.45}, \"path\": \"M -1.058254796950984, 0.3001612645399672 L -1.0624315693908644, 0.28502484165711783 L -1.0663918545174949, 0.26983034043401843 L -1.0701348453598558, 0.2545808569917185 L -1.0736597792240905, 0.23927949865476802 L -0.9760543447491732, 0.21752681695888001 L -0.9728498594180506, 0.23143714271974408 L -0.9694471404704498, 0.2453003094854713 L -0.9658468812644221, 0.25911349241556164 L -0.9620498154099852, 0.27287387685451564 L -1.058254796950984 ,0.3001612645399672\", \"type\": \"path\"}, {\"fillcolor\": \"#c45e3a\", \"layer\": \"below\", \"line\": {\"color\": \"rgb(150,150,150)\", \"width\": 0.45}, \"path\": \"M -1.0806459436198816, 0.20543696000937975 L -1.085534833602718, 0.17780361367283723 L -1.0897172260487749, 0.15005454759041295 L -1.0931903989358107, 0.12220782165869316 L -1.095952091822232, 0.0942815593341236 L -0.9963200834747564, 0.08571050848556691 L -0.9938094535780098, 0.11109801968972105 L -0.9906520236807044, 0.13641322508219358 L -0.9868498487297436, 0.16163964879348838 L -0.9824054032908015, 0.18676087273579975 L -1.0806459436198816 ,0.20543696000937975\", \"type\": \"path\"}, {\"fillcolor\": \"#bf4d28\", \"layer\": \"below\", \"line\": {\"color\": \"rgb(150,150,150)\", \"width\": 0.45}, \"path\": \"M -1.098372760968622, 0.05981034995856884 L -1.0998043557596195, 0.02074557909937701 L -1.0998470105510931, -0.018345391296553305 L -1.0985006714744203, -0.0574131933465458 L -1.0957670388176446, -0.09640848842716525 L -0.9961518534705859, -0.08764408038833203 L -0.9986369740676547, -0.05219381213322345 L -0.9998609186828119, -0.016677628451412095 L -0.999822141599654, 0.018859617363070007 L -0.9985206917896563, 0.05437304541688076 L -1.098372760968622 ,0.05981034995856884\", \"type\": \"path\"}, {\"fillcolor\": \"#af4624\", \"layer\": \"below\", \"line\": {\"color\": \"rgb(150,150,150)\", \"width\": 0.45}, \"path\": \"M -1.0921980801276947, -0.13077979111995028 L -1.0861188376959703, -0.1742006613131965 L -1.0783140763307397, -0.21734477860529355 L -1.0687961954702965, -0.2601435998601925 L -1.0575803161889297, -0.30252913051427566 L -0.9614366510808451, -0.27502648228570514 L -0.9716329049729967, -0.23649418169108405 L -0.9802855239370359, -0.19758616236844867 L -0.987380761541791, -0.15836423755745135 L -0.9929073455706315, -0.11889071919995478 L -1.0921980801276947 ,-0.13077979111995028\", \"type\": \"path\"}, {\"fillcolor\": \"#9f4021\", \"layer\": \"below\", \"line\": {\"color\": \"rgb(150,150,150)\", \"width\": 0.45}, \"path\": \"M -1.0475557945118006, -0.3355992511683402 L -1.0344966968621514, -0.37392055865022744 L -1.0200362728608294, -0.41173535438214176 L -1.0041941105580146, -0.4489924145468365 L -0.9869916697027518, -0.4856412708341151 L -0.8972651542752288, -0.44149206439465005 L -0.9129037368709222, -0.4081749223153059 L -0.927305702600754, -0.3743048676201288 L -0.9404515426019557, -0.33992778059111584 L -0.9523234495561822, -0.3050902283348547 L -1.0475557945118006 ,-0.3355992511683402\", \"type\": \"path\"}, {\"fillcolor\": \"#8f391e\", \"layer\": \"below\", \"line\": {\"color\": \"rgb(150,150,150)\", \"width\": 0.45}, \"path\": \"M -0.9712502879376613, -0.5164037937322016 L -0.9600573171949913, -0.5369263894616805 L -0.9484307658987109, -0.557206498792669 L -0.9363758848254743, -0.5772349628334289 L -0.923898118193992, -0.597002736340128 L -0.9110031012063159, -0.6165008918018489 L -0.8976966575028728, -0.6357206234724261 L -0.8839847965323945, -0.6546532513472924 L -0.8698737108379349, -0.6732902250835379 L -0.8553697732601961, -0.6916231278614103 L -0.8404795340594299, -0.7096436801855166 L -0.8252097179572132, -0.7273437436240012 L -0.8095672210994331, -0.7447153244840216 L -0.7935591079418528, -0.7617505774218559 L -0.7771926080596661, -0.7784418089860118 L -0.7604751128824809, -0.7947814810917389 L -0.7434141723562058, -0.810762214425375 L -0.7260174915333473, -0.8263767917769873 L -0.7082929270932592, -0.8416181612998042 L -0.6902484837939123, -0.8564794396949675 L -0.6274986216308294, -0.7786176724499704 L -0.643902660993872, -0.7651074193634583 L -0.660015901393952, -0.7512516288881702 L -0.6758310657783688, -0.7370565585685227 L -0.6913410117113462, -0.722528619174308 L -0.7065387345996964, -0.7076743718054652 L -0.7214173708562298, -0.6925005249289599 L -0.7359702009994846, -0.6770139313491105 L -0.7501906526883756, -0.6612215851127283 L -0.7640723036903907, -0.6451306183504696 L -0.7776088847819964, -0.6287482980558275 L -0.7907942825799407, -0.6120820228032162 L -0.8036225423021768, -0.5951393194066293 L -0.816087870457157, -0.5779278395203873 L -0.8281846374602871, -0.560455356183499 L -0.8399073801763564, -0.5427297603092073 L -0.8512508043867948, -0.524759057121299 L -0.8622097871806462, -0.50655136253879 L -0.8727793792681738, -0.48811489951061854 L -0.8829548072160557, -0.4694579943020014 L -0.9712502879376613 ,-0.5164037937322016\", \"type\": \"path\"}, {\"fillcolor\": \"#f0f3e7\", \"layer\": \"below\", \"line\": {\"color\": \"rgb(150,150,150)\", \"width\": 0.45}, \"path\": \"M -0.6630052184988859, -0.8777380476219797 L -0.6440062665188997, -0.8917712311374415 L -0.6247103848497549, -0.9053932488487372 L -0.6051264701752957, -0.9185978201003892 L -0.5852635519817216, -0.9313788567074833 L -0.5651307883943998, -0.943730465762722 L -0.5447374619553543, -0.955646952353451 L -0.5240929753434043, -0.967122822187388 L -0.5032068470388971, -0.9781527841258605 L -0.48208870693506284, -0.9887317526233692 L -0.4607482918979876, -0.9988548500723651 L -0.43919544127727705, -1.0085174090521483 L -0.41744009236945684, -1.017714974480861 L -0.39549227583622065, -1.026443305669576 L -0.3733621110796316, -1.034698378277535 L -0.3510598015763989, -1.0424763861676387 L -0.3285956301734044, -1.0497737431613268 L -0.305979954346619, -1.056587084692048 L -0.2832232014256258, -1.0629132693565453 L -0.26033586378592055, -1.0687493803632537 L -0.23732849401123643, -1.0740927268771345 L -0.21421170002809456, -1.0789408452603293 L -0.19099614021485212, -1.0832915002080599 L -0.16769251848747407, -1.0871426857792534 L -0.14431157936432426, -1.0904926263214136 L -0.1311923448766584, -0.9913569330194669 L -0.15244774407952189, -0.9883115325265939 L -0.17363285474077464, -0.9848104547345997 L -0.1947379091164496, -0.9808553138730265 L -0.21575317637385127, -0.9764479335246676 L -0.23666896707810955, -0.9715903457847761 L -0.2574756376596598, -0.966284790324132 L -0.2781635948605627, -0.9605337133564072 L -0.2987233001576403, -0.9543397665102971 L -0.3191452741603626, -0.9477058056069442 L -0.33942010098148323, -0.9406348893432136 L -0.35953843257838236, -0.9331302778814328 L -0.37949099306314255, -0.9251954313462372 L -0.39926858297934276, -0.9168340082292256 L -0.4188620835436251, -0.90804986370215 L -0.4382624608500571, -0.8988470478394265 L -0.4574607700353609, -0.8892298037507822 L -0.47644815940309476, -0.8792025656248981 L -0.49521587450486754, -0.8687699566849554 L -0.5137552621767271, -0.8579367870570199 L -0.5320577745288378, -0.8467080515522575 L -0.5501149728866325, -0.8350889273639901 L -0.5679185316815953, -0.8230847716806701 L -0.5854602422899088, -0.8107011192158559 L -0.602732016817169, -0.7979436796563452 L -0.6630052184988859 ,-0.8777380476219797\", \"type\": \"path\"}, {\"fillcolor\": \"#e2ecde\", \"layer\": \"below\", \"line\": {\"color\": \"rgb(150,150,150)\", \"width\": 0.45}, \"path\": \"M -0.1099871691495249, -1.0944874702903062 L -0.09391082579956385, -1.0959839217788023 L -0.07781424985249474, -1.0972442492535077 L -0.06170090923156584, -1.0982681811834476 L -0.04557427547188382, -1.0990554969678341 L -0.04143115951989438, -0.9991413608798492 L -0.05609173566505985, -0.9984256192576796 L -0.07074022713863158, -0.9974947720486432 L -0.08537347799960349, -0.9963490197989112 L -0.09998833559047718, -0.9949886093548238 L -0.1099871691495249 ,-1.0944874702903062\", \"type\": \"path\"}, {\"fillcolor\": \"#d4e5d6\", \"layer\": \"below\", \"line\": {\"color\": \"rgb(150,150,150)\", \"width\": 0.45}, \"path\": \"M -0.011029619889313924, -1.0999447020123772 L 0.011867189917184676, -1.0999359844115792 L 0.03475885795495357, -1.0994506909332804 L 0.057635465813344305, -1.098489031843504 L 0.08048710160691998, -1.0970514238060662 L 0.1033038642700413, -1.0951384897020455 L 0.12607586784675898, -1.0927510583599023 L 0.14879324577416506, -1.0898901641963694 L 0.17144615515733225, -1.0865570467682626 L 0.194024781034007, -1.0827531502354106 L 0.2165193406272002, -1.078480122734936 L 0.238920087583824, -1.073739815667156 L 0.26121731619755645, -1.0685342828934157 L 0.2834013656140897, -1.0628657798461993 L 0.3054626240169498, -1.0567367625519044 L 0.32739153279206107, -1.0501498865667058 L 0.3491785906692664, -1.0431080058259667 L 0.37081435783900335, -1.0356141714076954 L 0.39228946004234094, -1.0276716302105886 L 0.4135945926326251, -1.0192838235472264 L 0.4347205246069572, -1.0104543856530348 L 0.4556581026057695, -1.0011871421116585 L 0.47639825487875126, -0.9914861081974272 L 0.4969319952154238, -0.9813554871356344 L 0.5172504268386483, -0.9707996682813794 L 0.5373447462593892, -0.9598232252177652 L 0.5572062470910503, -0.9484309137742757 L 0.5768263238217449, -0.9366276699661887 L 0.5961964755428609, -0.9244186078559167 L 0.6153083096322953, -0.9118090173372095 L 0.6341535453907784, -0.8988043618431689 L 0.6527240176297049, -0.8854102759790723 L 0.6710116802089091, -0.8716325630810364 L 0.6100106183717355, -0.7923932391645785 L 0.5933854705724589, -0.8049184327082475 L 0.5765032230825258, -0.8170948744028808 L 0.5593711905748139, -0.8289172884883722 L 0.5419967959480554, -0.8403805525962879 L 0.5243875671106771, -0.8514796999692624 L 0.5065511337191365, -0.8622099216129778 L 0.488495223872172, -0.8725665683797865 L 0.47022766076240746, -0.8825451529830721 L 0.4517563592867489, -0.8921413519414857 L 0.4330893226170466, -0.9013510074522065 L 0.4142346387325177, -0.9101701291924167 L 0.3952004769154156, -0.9185948960482134 L 0.3759950842114773, -0.9266216577702057 L 0.35662678185667357, -0.9342469365550805 L 0.3371039616718212, -0.9414674285524504 L 0.3174350824266058, -0.9482800052963334 L 0.29762866617460093, -0.9546817150606416 L 0.27769329456086345, -0.9606697841380948 L 0.25763760510371786, -0.9662416180419993 L 0.237470287452324, -0.9713948026303778 L 0.21720007962165816, -0.9761271051519599 L 0.19683576420654564, -0.9804364752135781 L 0.17638616457637, -0.984321045668555 L 0.1558601410521202, -0.9877791334256931 L 0.13526658706742276, -0.9908092401785176 L 0.11461442531523543, -0.9934100530544566 L 0.09391260388185572, -0.9955804451836776 L 0.07317009236992725, -0.997319476187333 L 0.052395878012131185, -0.9986263925850036 L 0.03159896177723052, -0.9995006281211639 L 0.010788354470167886, -0.9999418040105265 L -0.010026927172103565, -0.9999497291021611 L -0.011029619889313924 ,-1.0999447020123772\", \"type\": \"path\"}, {\"fillcolor\": \"#c6decd\", \"layer\": \"below\", \"line\": {\"color\": \"rgb(150,150,150)\", \"width\": 0.45}, \"path\": \"M 0.6980592168944267, -0.8501254788022412 L 0.7161390929115906, -0.8349519744295263 L 0.7338892388695025, -0.8193940352916553 L 0.7513014821146407, -0.8034588246900675 L 0.7683678055731528, -0.7871536796323179 L 0.7850803514421341, -0.7704861074539212 L 0.8014314248075722, -0.7534637823617701 L 0.8174134971873023, -0.7360945419007155 L 0.8330192099973204, -0.7183863833449521 L 0.8482413779398819, -0.7003474600158487 L 0.8630729923118076, -0.6819860775279379 L 0.8775072242314811, -0.6633106899647867 L 0.8915374277830557, -0.6443298959864993 L 0.9051571430764158, -0.6250524348706604 L 0.9183600992214842, -0.6054871824885361 L 0.931140217215516, -0.5856431472183737 L 0.9434916127420357, -0.5655294657977006 L 0.9554085988801369, -0.5451553991165217 L 0.966885688722899, -0.5245303279533466 L 0.9779175979037069, -0.5036637486560295 L 0.8890159980942789, -0.45787613514184494 L 0.87898698974809, -0.47684575268486057 L 0.8685532717092153, -0.495595817378656 L 0.8577196479473052, -0.5141176961797278 L 0.84649110655956, -0.5324028611076125 L 0.8348728174740765, -0.5504428931713964 L 0.8228701300694689, -0.5682294862460548 L 0.8104885707118687, -0.5857544508968174 L 0.7977338402104373, -0.6030097181498061 L 0.7846118111925523, -0.6199873432072163 L 0.7711285253998925, -0.6366795091053169 L 0.7572901909066548, -0.6530785303135928 L 0.7431031792611839, -0.6691768562733778 L 0.7285740225523384, -0.6849670748743364 L 0.71370941040194, -0.7004419158672011 L 0.6985161868846843, -0.715594254211198 L 0.683001347376946, -0.7304171133546067 L 0.6671720353359113, -0.7449036684469593 L 0.6510355390105369, -0.7590472494813875 L 0.6345992880858424, -0.7728413443656738 L 0.6980592168944267 ,-0.8501254788022412\", \"type\": \"path\"}, {\"fillcolor\": \"#b8d7c5\", \"layer\": \"below\", \"line\": {\"color\": \"rgb(150,150,150)\", \"width\": 0.45}, \"path\": \"M 0.993255515267274, -0.47269808693408333 L 1.0098266693994558, -0.4361766818269888 L 1.0250554916685557, -0.39907548032939305 L 1.0389217388645373, -0.3614437999394736 L 1.0514069790069458, -0.3233316633048605 L 0.9558245263699507, -0.29393787573169133 L 0.9444743080586703, -0.32858527267224874 L 0.931868628789596, -0.3627958912085391 L 0.9180242449085961, -0.39652425620635345 L 0.9029595593338854, -0.42972553357643933 L 0.993255515267274 ,-0.47269808693408333\", \"type\": \"path\"}, {\"fillcolor\": \"#aad0bc\", \"layer\": \"below\", \"line\": {\"color\": \"rgb(150,150,150)\", \"width\": 0.45}, \"path\": \"M 1.061044266110157, -0.29014662733652224 L 1.0694944931000319, -0.25725770975561874 L 1.0769255296363718, -0.22412363466939478 L 1.083330294203987, -0.19077597768037435 L 1.0887026832886042, -0.15724651792708624 L 0.9897297120805492, -0.14295137993371476 L 0.9848457220036246, -0.17343270698215849 L 0.9790232087603379, -0.20374875879035886 L 0.9722677210000289, -0.23387064523238063 L 0.9645856964637789, -0.2637696612150202 L 1.061044266110157 ,-0.29014662733652224\", \"type\": \"path\"}, {\"fillcolor\": \"#9cc9b4\", \"layer\": \"below\", \"line\": {\"color\": \"rgb(150,150,150)\", \"width\": 0.45}, \"path\": \"M 1.0931047067252175, -0.12297194857030036 L 1.0953607945382404, -0.10091942225634602 L 1.0971720356483445, -0.07882591065930043 L 1.098537694476312, -0.056700386371426166 L 1.0994572164023046, -0.03455183498594413 L 0.9995065603657315, -0.031410759078131026 L 0.9986706313421018, -0.0515458057922056 L 0.9974291233166768, -0.0716599187811822 L 0.9957825404893095, -0.09174492932395092 L 0.9937315515683794, -0.11179268051845487 L 1.0931047067252175 ,-0.12297194857030036\", \"type\": \"path\"}], \"showlegend\": false, \"title\": \"Data Jobs \\u2012 Technologies in Demand and Relationships Between Them\", \"titlefont\": {\"color\": \"#655643\", \"family\": \"Merryweather\", \"size\": 18}, \"width\": 960, \"xaxis\": {\"showgrid\": false, \"showline\": false, \"showticklabels\": false, \"title\": \"\", \"zeroline\": false}, \"yaxis\": {\"showgrid\": false, \"showline\": false, \"showticklabels\": false, \"title\": \"\", \"zeroline\": false}}, {\"showLink\": true, \"linkText\": \"Export to plot.ly\", \"plotlyServerURL\": \"https://plot.ly\"})});</script>"
      ],
      "text/vnd.plotly.v1+html": [
       "<div id=\"afda3ff8-5995-41cd-a9e7-f75b58ee5feb\" style=\"height: 525px; width: 960px;\" class=\"plotly-graph-div\"></div><script type=\"text/javascript\">require([\"plotly\"], function(Plotly) { window.PLOTLYENV=window.PLOTLYENV || {};window.PLOTLYENV.BASE_URL=\"https://plot.ly\";Plotly.newPlot(\"afda3ff8-5995-41cd-a9e7-f75b58ee5feb\", [{\"hoverinfo\": \"text\", \"line\": {\"color\": \"#f2e6ce\", \"shape\": \"spline\", \"width\": 0.25}, \"mode\": \"lines\", \"text\": \"Power BI<br>1345\", \"x\": [1.1, 1.099703519127535, 1.0988142363299722, 1.0973326309806566, 1.0952595017480362, 1.0925959661651363, 1.0893434600271446, 1.0855037366174387, 1.0810788657624664, 1.0760712327159947, 1.0704835368733228, 1.0643187903161568, 1.0575803161889292], \"y\": [0.0, 0.025537619672070362, 0.051061473133666074, 0.07655780159507265, 0.10201286110409577, 0.1274129299548229, 0.15274431608439304, 0.17799336445378727, 0.20314646440866102, 0.22819005701625103, 0.253110642374401, 0.27789478688876673, 0.3025291305142773], \"type\": \"scatter\", \"uid\": \"34a5d1e7-d1d3-4d72-afbe-3129d9e647c2\"}, {\"hoverinfo\": \"text\", \"line\": {\"color\": \"#ecd5bb\", \"shape\": \"spline\", \"width\": 0.25}, \"mode\": \"lines\", \"text\": \"Excel<br>4238\", \"x\": [1.0475557945118, 1.0404371587698944, 1.032878995007575, 1.0248844961372898, 1.0164570393993013, 1.0076001849349845, 0.998317674282862, 0.9886134287980074, 0.9784915479954867, 0.9679563078185363, 0.95701215883221, 0.9456637243432581, 0.933915798447031, 0.9217733440022369, 0.9092414905344023, 0.8963255320689285, 0.8830309248946535, 0.8693632852588676, 0.8553283869947543, 0.8409321590822609, 0.8261806831434274, 0.8110801908732317, 0.7956370614070395, 0.7798578186257653, 0.7637491283998901, 0.7473177957734916, 0.730570762089487, 0.713515102057291, 0.6961580207641379, 0.6785068506313249, 0.6605690483166623, 0.6423521915644432, 0.6238639760042584, 0.6051122119000124, 0.5861048208505125, 0.5668498324430252, 0.5473553808612116, 0.5276297014488799, 0.5076811272309993, 0.4875180853934528, 0.46714909372300883, 0.44658275700902056, 0.42582776340837214, 0.4048928807752041, 0.3837869529569745, 0.3625188960584133, 0.3410976946749556], \"y\": [0.33559925116834205, 0.3570581446358977, 0.3783662004885511, 0.3995144172334884, 0.4204938609012116, 0.4412956688196534, 0.46191105335817384, 0.48233130563985527, 0.5025477992205284, 0.5225519937329752, 0.5423354384947687, 0.5618897760782257, 0.5812067458409654, 0.6002781874155798, 0.6190960441569454, 0.6376523665457161, 0.6559393155465625, 0.6739491659197369, 0.6916743094845667, 0.7091072583334959, 0.7262406479953184, 0.7430672405462659, 0.759579927667636, 0.77577173364867, 0.7916358183334105, 0.8071654800102951, 0.8223541582432634, 0.8371954366431854, 0.8516830455784349, 0.8658108648234677, 0.8795729261442846, 0.8929634158196835, 0.9059766770972411, 0.9186072125829813, 0.930849686563727, 0.9426989272611456, 0.9541499290165452, 0.9651978544054923, 0.9758380362813606, 0.9860659797469449, 0.9958773640533114, 1.0052680444250788, 1.0142340538113594, 1.0227716045616229, 1.0308770900257709, 1.038547086077752, 1.045778352562067], \"type\": \"scatter\", \"uid\": \"09850db1-fb75-49c8-a7bd-721eba37ee7c\"}, {\"hoverinfo\": \"text\", \"line\": {\"color\": \"#e6c4a9\", \"shape\": \"spline\", \"width\": 0.25}, \"mode\": \"lines\", \"text\": \"SSIS/SSRS<br>2400\", \"x\": [0.3080806916717963, 0.28597471494079774, 0.26374415910871085, 0.24139870846759878, 0.2189480973611251, 0.19640210594398358, 0.17377055592137047, 0.15106330627035908, 0.1282902489450348, 0.10546130456726473, 0.08258641810498116, 0.05967555453985534, 0.03673869452625655, 0.013785830043381077, -0.009173039957552127, -0.032127913909140667, -0.0550687919847812, -0.07798568045488995, -0.10086859604046963, -0.1237075702621238, -0.1464926537826218, -0.16921392074112707, -0.1918614730771984, -0.21442544484267825, -0.23689600649959452, -0.2592633692022004], \"y\": [1.055976461583793, 1.0621762859405823, 1.0679133946795683, 1.0731852885453543, 1.0779896709439953, 1.0823244489434618, 1.0861877341853838, 1.0895778437076755, 1.0924933006776842, 1.0949328350355427, 1.0968953840474438, 1.0983800927686012, 1.0993863144156866, 1.0999136106485887, 1.099961751761368, 1.099530716782322, 1.0986206934831226, 1.0972320782970155, 1.0953654761461238, 1.093021700177925, 1.0902017714110197, 1.0869069182903455, 1.0831385761520305, 1.078898386598117, 1.0741881967814317, 1.0690100586009113], \"type\": \"scatter\", \"uid\": \"02e0539a-ace3-48f9-b99f-219bd8be8af3\"}, {\"hoverinfo\": \"text\", \"line\": {\"color\": \"#e1b396\", \"shape\": \"spline\", \"width\": 0.25}, \"mode\": \"lines\", \"text\": \"MS SQL Server<br>1816\", \"x\": [-0.29271385578293113, -0.3154526527286896, -0.33804549674846474, -0.36048193463584854, -0.3827515855500714, -0.4048441458189863, -0.4267493937063495, -0.44845719414118934, -0.4699575034070791, -0.49124037378913976, -0.5122959581766295, -0.5331145146189791, -0.553686410833178, -0.574002128660417, -0.5940522684699285, -0.6138275535079863, -0.6333188341900539, -0.652517092334093, -0.6714134453330767], \"y\": [1.0603389074407719, 1.0537977148800586, 1.0467689535556945, 1.0392558755192083, 1.0312619569046977, 1.022790896320502, 1.0138466131379358, 1.0044332456778857, 0.9945551492960988, 0.9842168943680587, 0.9734232641743721, 0.962179252687653, 0.9504900622619226, 0.9383611012255944, 0.9257979813791626, 0.9128065153987456, 0.899392714146691, 0.8855627838904822, 0.8713231234312377], \"type\": \"scatter\", \"uid\": \"a801d3f1-2d8c-4ce6-b288-b608c15745fa\"}, {\"hoverinfo\": \"text\", \"line\": {\"color\": \"#dba284\", \"shape\": \"spline\", \"width\": 0.25}, \"mode\": \"lines\", \"text\": \"PostgreSQL<br>593\", \"x\": [-0.6984510640374693, -0.7205724214795161, -0.7421946814281759, -0.7633028674349752, -0.7838823591197662], \"y\": [0.849803572094709, 0.8311289824107608, 0.8118787193046315, 0.7920661162842058, 0.7717048963566513], \"type\": \"scatter\", \"uid\": \"236aa1fd-5679-4cd4-af71-a3a98e127284\"}, {\"hoverinfo\": \"text\", \"line\": {\"color\": \"#d59171\", \"shape\": \"spline\", \"width\": 0.25}, \"mode\": \"lines\", \"text\": \"MySQL/MariaDB<br>834\", \"x\": [-0.8077353970740434, -0.8370970858237526, -0.8651057085225881, -0.8917159926243329, -0.9168849258277476], \"y\": [0.7467017666469242, 0.7136304848486933, 0.6794057058059131, 0.6440827497286361, 0.6077187118970799], \"type\": \"scatter\", \"uid\": \"69485acf-bce0-4f9c-a9f0-ed379f0a009a\"}, {\"hoverinfo\": \"text\", \"line\": {\"color\": \"#d0805f\", \"shape\": \"spline\", \"width\": 0.25}, \"mode\": \"lines\", \"text\": \"T-SQL<br>1204\", \"x\": [-0.9355214045119503, -0.969330433905126, -0.9994709235294525, -1.0258288033207172, -1.0483043189259624], \"y\": [0.5786187878906007, 0.5199985672146613, 0.45941035362645394, 0.39708345001722906, 0.3332537395456718], \"type\": \"scatter\", \"uid\": \"dd4302b1-133c-4646-8e02-437fc1f23d0d\"}, {\"hoverinfo\": \"text\", \"line\": {\"color\": \"#ca6f4c\", \"shape\": \"spline\", \"width\": 0.25}, \"mode\": \"lines\", \"text\": \"PL/SQL<br>384\", \"x\": [-1.058254796950984, -1.0624315693908644, -1.0663918545174949, -1.0701348453598558, -1.0736597792240905], \"y\": [0.3001612645399672, 0.28502484165711783, 0.26983034043401843, 0.2545808569917185, 0.23927949865476802], \"type\": \"scatter\", \"uid\": \"b4cd3774-691e-477e-bedf-5f19af367ff7\"}, {\"hoverinfo\": \"text\", \"line\": {\"color\": \"#c45e3a\", \"shape\": \"spline\", \"width\": 0.25}, \"mode\": \"lines\", \"text\": \"Pentaho<br>579\", \"x\": [-1.0806459436198816, -1.085534833602718, -1.0897172260487749, -1.0931903989358107, -1.095952091822232], \"y\": [0.20543696000937975, 0.17780361367283723, 0.15005454759041295, 0.12220782165869316, 0.0942815593341236], \"type\": \"scatter\", \"uid\": \"b1c74f4f-1948-49bc-944b-a21d2e9699f1\"}, {\"hoverinfo\": \"text\", \"line\": {\"color\": \"#bf4d28\", \"shape\": \"spline\", \"width\": 0.25}, \"mode\": \"lines\", \"text\": \"Hadoop<br>753\", \"x\": [-1.098372760968622, -1.0998043557596195, -1.0998470105510931, -1.0985006714744203, -1.0957670388176446], \"y\": [0.05981034995856884, 0.02074557909937701, -0.018345391296553305, -0.0574131933465458, -0.09640848842716525], \"type\": \"scatter\", \"uid\": \"5d37f791-fb9a-43eb-acc4-04f1f9d03573\"}, {\"hoverinfo\": \"text\", \"line\": {\"color\": \"#af4624\", \"shape\": \"spline\", \"width\": 0.25}, \"mode\": \"lines\", \"text\": \"Spark<br>828\", \"x\": [-1.0921980801276947, -1.0861188376959703, -1.0783140763307397, -1.0687961954702965, -1.0575803161889297], \"y\": [-0.13077979111995028, -0.1742006613131965, -0.21734477860529355, -0.2601435998601925, -0.30252913051427566], \"type\": \"scatter\", \"uid\": \"ef9d5616-da8b-474a-bb63-ea9f8686739e\"}, {\"hoverinfo\": \"text\", \"line\": {\"color\": \"#9f4021\", \"shape\": \"spline\", \"width\": 0.25}, \"mode\": \"lines\", \"text\": \"Informatica<br>775\", \"x\": [-1.0475557945118006, -1.0344966968621514, -1.0200362728608294, -1.0041941105580146, -0.9869916697027518], \"y\": [-0.3355992511683402, -0.37392055865022744, -0.41173535438214176, -0.4489924145468365, -0.4856412708341151], \"type\": \"scatter\", \"uid\": \"4cda5f08-bade-459d-aa15-cdf1142c5246\"}, {\"hoverinfo\": \"text\", \"line\": {\"color\": \"#8f391e\", \"shape\": \"spline\", \"width\": 0.25}, \"mode\": \"lines\", \"text\": \"Qlik<br>1888\", \"x\": [-0.9712502879376613, -0.9600573171949913, -0.9484307658987109, -0.9363758848254743, -0.923898118193992, -0.9110031012063159, -0.8976966575028728, -0.8839847965323945, -0.8698737108379349, -0.8553697732601961, -0.8404795340594299, -0.8252097179572132, -0.8095672210994331, -0.7935591079418528, -0.7771926080596661, -0.7604751128824809, -0.7434141723562058, -0.7260174915333473, -0.7082929270932592, -0.6902484837939123], \"y\": [-0.5164037937322016, -0.5369263894616805, -0.557206498792669, -0.5772349628334289, -0.597002736340128, -0.6165008918018489, -0.6357206234724261, -0.6546532513472924, -0.6732902250835379, -0.6916231278614103, -0.7096436801855166, -0.7273437436240012, -0.7447153244840216, -0.7617505774218559, -0.7784418089860118, -0.7947814810917389, -0.810762214425375, -0.8263767917769873, -0.8416181612998042, -0.8564794396949675], \"type\": \"scatter\", \"uid\": \"8dc97a87-7451-43db-b12b-9d5f7ea90fd7\"}, {\"hoverinfo\": \"text\", \"line\": {\"color\": \"#f0f3e7\", \"shape\": \"spline\", \"width\": 0.25}, \"mode\": \"lines\", \"text\": \"Tableau<br>2372\", \"x\": [-0.6630052184988859, -0.6440062665188997, -0.6247103848497549, -0.6051264701752957, -0.5852635519817216, -0.5651307883943998, -0.5447374619553543, -0.5240929753434043, -0.5032068470388971, -0.48208870693506284, -0.4607482918979876, -0.43919544127727705, -0.41744009236945684, -0.39549227583622065, -0.3733621110796316, -0.3510598015763989, -0.3285956301734044, -0.305979954346619, -0.2832232014256258, -0.26033586378592055, -0.23732849401123643, -0.21421170002809456, -0.19099614021485212, -0.16769251848747407, -0.14431157936432426], \"y\": [-0.8777380476219797, -0.8917712311374415, -0.9053932488487372, -0.9185978201003892, -0.9313788567074833, -0.943730465762722, -0.955646952353451, -0.967122822187388, -0.9781527841258605, -0.9887317526233692, -0.9988548500723651, -1.0085174090521483, -1.017714974480861, -1.026443305669576, -1.034698378277535, -1.0424763861676387, -1.0497737431613268, -1.056587084692048, -1.0629132693565453, -1.0687493803632537, -1.0740927268771345, -1.0789408452603293, -1.0832915002080599, -1.0871426857792534, -1.0904926263214136], \"type\": \"scatter\", \"uid\": \"b9b4bf4d-b623-4099-9f7d-3de685b22a7c\"}, {\"hoverinfo\": \"text\", \"line\": {\"color\": \"#e2ecde\", \"shape\": \"spline\", \"width\": 0.25}, \"mode\": \"lines\", \"text\": \"Microstrategy<br>391\", \"x\": [-0.1099871691495249, -0.09391082579956385, -0.07781424985249474, -0.06170090923156584, -0.04557427547188382], \"y\": [-1.0944874702903062, -1.0959839217788023, -1.0972442492535077, -1.0982681811834476, -1.0990554969678341], \"type\": \"scatter\", \"uid\": \"d7926563-e30d-4ec6-8d66-7b5c9f420d14\"}, {\"hoverinfo\": \"text\", \"line\": {\"color\": \"#d4e5d6\", \"shape\": \"spline\", \"width\": 0.25}, \"mode\": \"lines\", \"text\": \"Oracle BI<br>3026\", \"x\": [-0.011029619889313924, 0.011867189917184676, 0.03475885795495357, 0.057635465813344305, 0.08048710160691998, 0.1033038642700413, 0.12607586784675898, 0.14879324577416506, 0.17144615515733225, 0.194024781034007, 0.2165193406272002, 0.238920087583824, 0.26121731619755645, 0.2834013656140897, 0.3054626240169498, 0.32739153279206107, 0.3491785906692664, 0.37081435783900335, 0.39228946004234094, 0.4135945926326251, 0.4347205246069572, 0.4556581026057695, 0.47639825487875126, 0.4969319952154238, 0.5172504268386483, 0.5373447462593892, 0.5572062470910503, 0.5768263238217449, 0.5961964755428609, 0.6153083096322953, 0.6341535453907784, 0.6527240176297049, 0.6710116802089091], \"y\": [-1.0999447020123772, -1.0999359844115792, -1.0994506909332804, -1.098489031843504, -1.0970514238060662, -1.0951384897020455, -1.0927510583599023, -1.0898901641963694, -1.0865570467682626, -1.0827531502354106, -1.078480122734936, -1.073739815667156, -1.0685342828934157, -1.0628657798461993, -1.0567367625519044, -1.0501498865667058, -1.0431080058259667, -1.0356141714076954, -1.0276716302105886, -1.0192838235472264, -1.0104543856530348, -1.0011871421116585, -0.9914861081974272, -0.9813554871356344, -0.9707996682813794, -0.9598232252177652, -0.9484309137742757, -0.9366276699661887, -0.9244186078559167, -0.9118090173372095, -0.8988043618431689, -0.8854102759790723, -0.8716325630810364], \"type\": \"scatter\", \"uid\": \"dc6c565f-7dfc-47b7-860d-0163a7dae9db\"}, {\"hoverinfo\": \"text\", \"line\": {\"color\": \"#c6decd\", \"shape\": \"spline\", \"width\": 0.25}, \"mode\": \"lines\", \"text\": \"Python<br>1905\", \"x\": [0.6980592168944267, 0.7161390929115906, 0.7338892388695025, 0.7513014821146407, 0.7683678055731528, 0.7850803514421341, 0.8014314248075722, 0.8174134971873023, 0.8330192099973204, 0.8482413779398819, 0.8630729923118076, 0.8775072242314811, 0.8915374277830557, 0.9051571430764158, 0.9183600992214842, 0.931140217215516, 0.9434916127420357, 0.9554085988801369, 0.966885688722899, 0.9779175979037069], \"y\": [-0.8501254788022412, -0.8349519744295263, -0.8193940352916553, -0.8034588246900675, -0.7871536796323179, -0.7704861074539212, -0.7534637823617701, -0.7360945419007155, -0.7183863833449521, -0.7003474600158487, -0.6819860775279379, -0.6633106899647867, -0.6443298959864993, -0.6250524348706604, -0.6054871824885361, -0.5856431472183737, -0.5655294657977006, -0.5451553991165217, -0.5245303279533466, -0.5036637486560295], \"type\": \"scatter\", \"uid\": \"e982cb78-fb89-43d0-a0bd-48cb1da23ae2\"}, {\"hoverinfo\": \"text\", \"line\": {\"color\": \"#b8d7c5\", \"shape\": \"spline\", \"width\": 0.25}, \"mode\": \"lines\", \"text\": \"VBA<br>769\", \"x\": [0.993255515267274, 1.0098266693994558, 1.0250554916685557, 1.0389217388645373, 1.0514069790069458], \"y\": [-0.47269808693408333, -0.4361766818269888, -0.39907548032939305, -0.3614437999394736, -0.3233316633048605], \"type\": \"scatter\", \"uid\": \"d2dff044-53eb-45cb-8789-117424741b84\"}, {\"hoverinfo\": \"text\", \"line\": {\"color\": \"#aad0bc\", \"shape\": \"spline\", \"width\": 0.25}, \"mode\": \"lines\", \"text\": \"Linux<br>672\", \"x\": [1.061044266110157, 1.0694944931000319, 1.0769255296363718, 1.083330294203987, 1.0887026832886042], \"y\": [-0.29014662733652224, -0.25725770975561874, -0.22412363466939478, -0.19077597768037435, -0.15724651792708624], \"type\": \"scatter\", \"uid\": \"bd3e36c9-3e7b-4df4-8fa5-f5295ca35409\"}, {\"hoverinfo\": \"text\", \"line\": {\"color\": \"#9cc9b4\", \"shape\": \"spline\", \"width\": 0.25}, \"mode\": \"lines\", \"text\": \"AWS<br>486\", \"x\": [1.0931047067252175, 1.0953607945382404, 1.0971720356483445, 1.098537694476312, 1.0994572164023046], \"y\": [-0.12297194857030036, -0.10091942225634602, -0.07882591065930043, -0.056700386371426166, -0.03455183498594413], \"type\": \"scatter\", \"uid\": \"dbe64280-bccc-4c01-92da-1eb1942867a0\"}, {\"hoverinfo\": \"text\", \"marker\": {\"color\": \"green\", \"size\": 0.5}, \"mode\": \"markers\", \"text\": \"Power BI appears with Excel 226 times\", \"x\": [0.870849441791994], \"y\": [0.2272031023788462], \"type\": \"scatter\", \"uid\": \"c8d5c198-8301-4694-a93b-696a07a69701\"}, {\"hoverinfo\": \"text\", \"marker\": {\"color\": \"blue\", \"size\": 0.5}, \"mode\": \"markers\", \"text\": \"Excel appears with Power BI 226 times\", \"x\": [0.7643849422037451], \"y\": [0.4750954221334671], \"type\": \"scatter\", \"uid\": \"5e1971a5-0dba-4cdd-983d-7ed49d2a66db\"}, {\"hoverinfo\": \"text\", \"marker\": {\"color\": \"green\", \"size\": 0.5}, \"mode\": \"markers\", \"text\": \"Power BI appears with SSIS/SSRS 131 times\", \"x\": [0.8952248645627898], \"y\": [0.09258748224535848], \"type\": \"scatter\", \"uid\": \"03c208b9-4836-4a7e-a996-3e228dc18cfa\"}, {\"hoverinfo\": \"text\", \"marker\": {\"color\": \"blue\", \"size\": 0.5}, \"mode\": \"markers\", \"text\": \"SSIS/SSRS appears with Power BI 131 times\", \"x\": [0.09241985607780698], \"y\": [0.8952421852228354], \"type\": \"scatter\", \"uid\": \"857ed915-6bda-4c7b-8497-78cf264c9ec2\"}, {\"hoverinfo\": \"text\", \"marker\": {\"color\": \"green\", \"size\": 0.5}, \"mode\": \"markers\", \"text\": \"Power BI appears with MS SQL Server 128 times\", \"x\": [0.8973862186793059], \"y\": [0.06854177211348539], \"type\": \"scatter\", \"uid\": \"4f4ee4c4-d399-4793-b55c-13e4240517c3\"}, {\"hoverinfo\": \"text\", \"marker\": {\"color\": \"blue\", \"size\": 0.5}, \"mode\": \"markers\", \"text\": \"MS SQL Server appears with Power BI 128 times\", \"x\": [-0.39245357500509737], \"y\": [0.8099260407381148], \"type\": \"scatter\", \"uid\": \"1c5b8219-20ea-437e-9a16-99001df349d1\"}, {\"hoverinfo\": \"text\", \"marker\": {\"color\": \"green\", \"size\": 0.5}, \"mode\": \"markers\", \"text\": \"Power BI appears with MySQL/MariaDB 5 times\", \"x\": [0.8999998793120403], \"y\": [0.0004660883102054], \"type\": \"scatter\", \"uid\": \"543e8afd-cba9-431a-8ae3-18aac42e98c9\"}, {\"hoverinfo\": \"text\", \"marker\": {\"color\": \"blue\", \"size\": 0.5}, \"mode\": \"markers\", \"text\": \"MySQL/MariaDB appears with Power BI 5 times\", \"x\": [-0.6619925259819688], \"y\": [0.6097260823878312], \"type\": \"scatter\", \"uid\": \"ee305267-b683-4486-83fd-b877ce9d2ad0\"}, {\"hoverinfo\": \"text\", \"marker\": {\"color\": \"green\", \"size\": 0.5}, \"mode\": \"markers\", \"text\": \"Power BI appears with T-SQL 47 times\", \"x\": [0.8992315636036166], \"y\": [0.03718326261901876], \"type\": \"scatter\", \"uid\": \"a8917807-ef88-44b7-9ffb-9b3e0049be05\"}, {\"hoverinfo\": \"text\", \"marker\": {\"color\": \"blue\", \"size\": 0.5}, \"mode\": \"markers\", \"text\": \"T-SQL appears with Power BI 47 times\", \"x\": [-0.7948644334865496], \"y\": [0.4221262043253257], \"type\": \"scatter\", \"uid\": \"65bc0577-fb9a-4293-a8b8-dfe088ccfd9e\"}, {\"hoverinfo\": \"text\", \"marker\": {\"color\": \"green\", \"size\": 0.5}, \"mode\": \"markers\", \"text\": \"Power BI appears with PL/SQL 11 times\", \"x\": [0.899978329356437], \"y\": [0.0062455335077644634], \"type\": \"scatter\", \"uid\": \"e1dbaeeb-4eed-42b6-9c93-0ff3be5df8ab\"}, {\"hoverinfo\": \"text\", \"marker\": {\"color\": \"blue\", \"size\": 0.5}, \"mode\": \"markers\", \"text\": \"PL/SQL appears with Power BI 11 times\", \"x\": [-0.8669856373447659], \"y\": [0.2415282688173173], \"type\": \"scatter\", \"uid\": \"dd44677c-553a-4226-b4fe-788ff9de1cb6\"}, {\"hoverinfo\": \"text\", \"marker\": {\"color\": \"green\", \"size\": 0.5}, \"mode\": \"markers\", \"text\": \"Power BI appears with Pentaho 9 times\", \"x\": [0.8999893360327013], \"y\": [0.004381213007570788], \"type\": \"scatter\", \"uid\": \"ba289f03-50fe-428f-9d63-e439c8033db6\"}, {\"hoverinfo\": \"text\", \"marker\": {\"color\": \"blue\", \"size\": 0.5}, \"mode\": \"markers\", \"text\": \"Pentaho appears with Power BI 9 times\", \"x\": [-0.8849113624829772], \"y\": [0.1641093554570274], \"type\": \"scatter\", \"uid\": \"f671414f-ce21-4210-8da4-62fa8df55da1\"}, {\"hoverinfo\": \"text\", \"marker\": {\"color\": \"green\", \"size\": 0.5}, \"mode\": \"markers\", \"text\": \"Power BI appears with Hadoop 22 times\", \"x\": [0.8999107116943033], \"y\": [0.012677183356435128], \"type\": \"scatter\", \"uid\": \"b0850410-d1b1-475b-85f8-ed28ce4da385\"}, {\"hoverinfo\": \"text\", \"marker\": {\"color\": \"blue\", \"size\": 0.5}, \"mode\": \"markers\", \"text\": \"Hadoop appears with Power BI 22 times\", \"x\": [-0.8992156926299377], \"y\": [0.03756511850189269], \"type\": \"scatter\", \"uid\": \"6339b2b6-534d-4780-a05e-2c2d8b82054e\"}, {\"hoverinfo\": \"text\", \"marker\": {\"color\": \"green\", \"size\": 0.5}, \"mode\": \"markers\", \"text\": \"Power BI appears with Spark 29 times\", \"x\": [0.8998311917830456], \"y\": [0.017430613709904105], \"type\": \"scatter\", \"uid\": \"3523eaaf-0ddf-4bd2-8b4a-099907b14f02\"}, {\"hoverinfo\": \"text\", \"marker\": {\"color\": \"blue\", \"size\": 0.5}, \"mode\": \"markers\", \"text\": \"Spark appears with Power BI 29 times\", \"x\": [-0.891402524790765], \"y\": [-0.12410293629342414], \"type\": \"scatter\", \"uid\": \"ca22b615-189f-4aec-b003-24d16fa8a616\"}, {\"hoverinfo\": \"text\", \"marker\": {\"color\": \"green\", \"size\": 0.5}, \"mode\": \"markers\", \"text\": \"Power BI appears with Informatica 18 times\", \"x\": [0.8999555099560924], \"y\": [0.008948748497402164], \"type\": \"scatter\", \"uid\": \"1be1ec74-f64b-4823-a114-4bc87d5ed572\"}, {\"hoverinfo\": \"text\", \"marker\": {\"color\": \"blue\", \"size\": 0.5}, \"mode\": \"markers\", \"text\": \"Informatica appears with Power BI 18 times\", \"x\": [-0.8524361124442684], \"y\": [-0.2887086320166103], \"type\": \"scatter\", \"uid\": \"34fd290b-51b7-4baf-937f-c08a51a73886\"}, {\"hoverinfo\": \"text\", \"marker\": {\"color\": \"green\", \"size\": 0.5}, \"mode\": \"markers\", \"text\": \"Power BI appears with Qlik 188 times\", \"x\": [0.8865700677858102], \"y\": [0.15489840188415124], \"type\": \"scatter\", \"uid\": \"0ae8293a-dec5-4efe-bb76-f8bfc42b860b\"}, {\"hoverinfo\": \"text\", \"marker\": {\"color\": \"blue\", \"size\": 0.5}, \"mode\": \"markers\", \"text\": \"Qlik appears with Power BI 188 times\", \"x\": [-0.7273149930052483], \"y\": [-0.5301064996298157], \"type\": \"scatter\", \"uid\": \"97ca2e94-dcfa-4881-a476-2ca0d063ea4d\"}, {\"hoverinfo\": \"text\", \"marker\": {\"color\": \"green\", \"size\": 0.5}, \"mode\": \"markers\", \"text\": \"Power BI appears with Tableau 190 times\", \"x\": [0.8798277291804569], \"y\": [0.18948131033207616], \"type\": \"scatter\", \"uid\": \"49dda248-52af-40ad-ad48-f72b7bfb4bdf\"}, {\"hoverinfo\": \"text\", \"marker\": {\"color\": \"blue\", \"size\": 0.5}, \"mode\": \"markers\", \"text\": \"Tableau appears with Power BI 190 times\", \"x\": [-0.36456333097931504], \"y\": [-0.8228569606591819], \"type\": \"scatter\", \"uid\": \"572be3e5-d596-4818-9d00-8b1a167e9d0d\"}, {\"hoverinfo\": \"text\", \"marker\": {\"color\": \"green\", \"size\": 0.5}, \"mode\": \"markers\", \"text\": \"Power BI appears with Microstrategy 29 times\", \"x\": [0.8997102437515024], \"y\": [0.02283587722449345], \"type\": \"scatter\", \"uid\": \"ca1fba14-6892-4601-a80d-d50586c3e919\"}, {\"hoverinfo\": \"text\", \"marker\": {\"color\": \"blue\", \"size\": 0.5}, \"mode\": \"markers\", \"text\": \"Microstrategy appears with Power BI 29 times\", \"x\": [-0.0712129837473085], \"y\": [-0.8971781935300287], \"type\": \"scatter\", \"uid\": \"44532e95-a42a-411d-8dfc-12599177eeaa\"}, {\"hoverinfo\": \"text\", \"marker\": {\"color\": \"green\", \"size\": 0.5}, \"mode\": \"markers\", \"text\": \"Power BI appears with Oracle BI 178 times\", \"x\": [0.891803681284247], \"y\": [0.12118660836852088], \"type\": \"scatter\", \"uid\": \"a5b46d4e-2136-499e-8b10-7375abd6872d\"}, {\"hoverinfo\": \"text\", \"marker\": {\"color\": \"blue\", \"size\": 0.5}, \"mode\": \"markers\", \"text\": \"Oracle BI appears with Power BI 178 times\", \"x\": [0.19641062135774667], \"y\": [-0.87830681872445], \"type\": \"scatter\", \"uid\": \"3c050a91-d23b-47c4-a693-512fca191812\"}, {\"hoverinfo\": \"text\", \"marker\": {\"color\": \"green\", \"size\": 0.5}, \"mode\": \"markers\", \"text\": \"Power BI appears with Python 81 times\", \"x\": [0.8986595909693134], \"y\": [0.0491013193189987], \"type\": \"scatter\", \"uid\": \"f370349a-f898-405d-9ad9-ab8d7abc6433\"}, {\"hoverinfo\": \"text\", \"marker\": {\"color\": \"blue\", \"size\": 0.5}, \"mode\": \"markers\", \"text\": \"Python appears with Power BI 81 times\", \"x\": [0.6274846708696638], \"y\": [-0.645184460308515], \"type\": \"scatter\", \"uid\": \"8272b06d-483c-44b4-a70d-205e0416d4b2\"}, {\"hoverinfo\": \"text\", \"marker\": {\"color\": \"green\", \"size\": 0.5}, \"mode\": \"markers\", \"text\": \"Power BI appears with VBA 39 times\", \"x\": [0.8995270942610305], \"y\": [0.029172018961792813], \"type\": \"scatter\", \"uid\": \"e8cebd1f-603a-4b6c-8add-74c66a1cc093\"}, {\"hoverinfo\": \"text\", \"marker\": {\"color\": \"blue\", \"size\": 0.5}, \"mode\": \"markers\", \"text\": \"VBA appears with Power BI 39 times\", \"x\": [0.8244006881667205], \"y\": [-0.3610588668766322], \"type\": \"scatter\", \"uid\": \"f3f0c311-f1a8-4ef6-902e-cadd2b93bee5\"}, {\"hoverinfo\": \"text\", \"marker\": {\"color\": \"green\", \"size\": 0.5}, \"mode\": \"markers\", \"text\": \"Power BI appears with Linux 8 times\", \"x\": [0.8999956552368492], \"y\": [0.0027965254861372735], \"type\": \"scatter\", \"uid\": \"9509224c-c613-486f-a251-8470a97fdd05\"}, {\"hoverinfo\": \"text\", \"marker\": {\"color\": \"blue\", \"size\": 0.5}, \"mode\": \"markers\", \"text\": \"Linux appears with Power BI 8 times\", \"x\": [0.86860520398298], \"y\": [-0.23563743253924188], \"type\": \"scatter\", \"uid\": \"8165f1e7-fb1e-4080-b6ee-b20b0612450e\"}, {\"hoverinfo\": \"text\", \"marker\": {\"color\": \"green\", \"size\": 0.5}, \"mode\": \"markers\", \"text\": \"Power BI appears with AWS 6 times\", \"x\": [0.8999987641555478], \"y\": [0.0014914819766436737], \"type\": \"scatter\", \"uid\": \"d11ea3e6-5add-4f0c-850d-11d94c25f6f4\"}, {\"hoverinfo\": \"text\", \"marker\": {\"color\": \"blue\", \"size\": 0.5}, \"mode\": \"markers\", \"text\": \"AWS appears with Power BI 6 times\", \"x\": [0.894638542629597], \"y\": [-0.09809117208796539], \"type\": \"scatter\", \"uid\": \"f395c96b-126b-4094-b4f6-95242cb8db99\"}, {\"hoverinfo\": \"text\", \"marker\": {\"color\": \"green\", \"size\": 0.5}, \"mode\": \"markers\", \"text\": \"Excel appears with SSIS/SSRS 617 times\", \"x\": [0.4529114925884715], \"y\": [0.7777346461880703], \"type\": \"scatter\", \"uid\": \"f68f8045-0ee9-42c6-8a31-3c9ab7978c0c\"}, {\"hoverinfo\": \"text\", \"marker\": {\"color\": \"blue\", \"size\": 0.5}, \"mode\": \"markers\", \"text\": \"SSIS/SSRS appears with Excel 617 times\", \"x\": [-0.15302614969399944], \"y\": [0.8868951445970542], \"type\": \"scatter\", \"uid\": \"dd78d4a9-9dcd-4bee-af42-6308432b6d2d\"}, {\"hoverinfo\": \"text\", \"marker\": {\"color\": \"green\", \"size\": 0.5}, \"mode\": \"markers\", \"text\": \"Excel appears with MS SQL Server 270 times\", \"x\": [0.7047548848349039], \"y\": [0.5597504375177756], \"type\": \"scatter\", \"uid\": \"00797681-716f-4288-91c7-2903192d2069\"}, {\"hoverinfo\": \"text\", \"marker\": {\"color\": \"blue\", \"size\": 0.5}, \"mode\": \"markers\", \"text\": \"MS SQL Server appears with Excel 270 times\", \"x\": [-0.48500153396081014], \"y\": [0.7581381879681707], \"type\": \"scatter\", \"uid\": \"ea963467-00cc-4065-9c13-c19ceaff3afa\"}, {\"hoverinfo\": \"text\", \"marker\": {\"color\": \"green\", \"size\": 0.5}, \"mode\": \"markers\", \"text\": \"Excel appears with PostgreSQL 76 times\", \"x\": [0.8394422821792552], \"y\": [0.32455608897336014], \"type\": \"scatter\", \"uid\": \"d3ffd654-e5d7-4cd6-aab0-fc94ecd34c79\"}, {\"hoverinfo\": \"text\", \"marker\": {\"color\": \"blue\", \"size\": 0.5}, \"mode\": \"markers\", \"text\": \"PostgreSQL appears with Excel 76 times\", \"x\": [-0.6142328334027445], \"y\": [0.6578130633926604], \"type\": \"scatter\", \"uid\": \"aeaf7e8e-7f59-49c4-9e40-bd24483c89dd\"}, {\"hoverinfo\": \"text\", \"marker\": {\"color\": \"green\", \"size\": 0.5}, \"mode\": \"markers\", \"text\": \"Excel appears with MySQL/MariaDB 128 times\", \"x\": [0.8001288367621371], \"y\": [0.4120604865570945], \"type\": \"scatter\", \"uid\": \"eef672d0-4d4c-4cc8-9474-f0899b506016\"}, {\"hoverinfo\": \"text\", \"marker\": {\"color\": \"blue\", \"size\": 0.5}, \"mode\": \"markers\", \"text\": \"MySQL/MariaDB appears with Excel 128 times\", \"x\": [-0.743985008474687], \"y\": [0.5064447720777854], \"type\": \"scatter\", \"uid\": \"ed5c2901-ddbb-4499-babf-c7a089a68f86\"}, {\"hoverinfo\": \"text\", \"marker\": {\"color\": \"green\", \"size\": 0.5}, \"mode\": \"markers\", \"text\": \"Excel appears with T-SQL 184 times\", \"x\": [0.7853063395185234], \"y\": [0.4396520818920545], \"type\": \"scatter\", \"uid\": \"de46bb77-bb40-486d-8c3d-84b4af649730\"}, {\"hoverinfo\": \"text\", \"marker\": {\"color\": \"blue\", \"size\": 0.5}, \"mode\": \"markers\", \"text\": \"T-SQL appears with Excel 184 times\", \"x\": [-0.8524244345783712], \"y\": [0.28874310958660815], \"type\": \"scatter\", \"uid\": \"b034c316-0a58-4c36-9eab-15f9a66346c5\"}, {\"hoverinfo\": \"text\", \"marker\": {\"color\": \"green\", \"size\": 0.5}, \"mode\": \"markers\", \"text\": \"Excel appears with PL/SQL 60 times\", \"x\": [0.8489017489734904], \"y\": [0.2989411657663583], \"type\": \"scatter\", \"uid\": \"a242e4e1-6342-48a6-91a7-2c796f37b015\"}, {\"hoverinfo\": \"text\", \"marker\": {\"color\": \"blue\", \"size\": 0.5}, \"mode\": \"markers\", \"text\": \"PL/SQL appears with Excel 60 times\", \"x\": [-0.8749415561378289], \"y\": [0.21089635687492178], \"type\": \"scatter\", \"uid\": \"e9d871a4-6810-4823-8fb5-cc23a9afd53d\"}, {\"hoverinfo\": \"text\", \"marker\": {\"color\": \"green\", \"size\": 0.5}, \"mode\": \"markers\", \"text\": \"Excel appears with Pentaho 68 times\", \"x\": [0.8445470590743329], \"y\": [0.3110309711409704], \"type\": \"scatter\", \"uid\": \"f8144d3f-77f4-43a7-adf7-728f643c9015\"}, {\"hoverinfo\": \"text\", \"marker\": {\"color\": \"blue\", \"size\": 0.5}, \"mode\": \"markers\", \"text\": \"Pentaho appears with Excel 68 times\", \"x\": [-0.8962097225017905], \"y\": [0.08251141310911875], \"type\": \"scatter\", \"uid\": \"a76c1168-799e-411a-9b21-c75fbdbc16d1\"}, {\"hoverinfo\": \"text\", \"marker\": {\"color\": \"green\", \"size\": 0.5}, \"mode\": \"markers\", \"text\": \"Excel appears with Hadoop 86 times\", \"x\": [0.8274829225774313], \"y\": [0.3539378657938606], \"type\": \"scatter\", \"uid\": \"44b60af4-8411-4e83-ba70-799fd5d1afc2\"}, {\"hoverinfo\": \"text\", \"marker\": {\"color\": \"blue\", \"size\": 0.5}, \"mode\": \"markers\", \"text\": \"Hadoop appears with Excel 86 times\", \"x\": [-0.8999908808499341], \"y\": [-0.004051467260127409], \"type\": \"scatter\", \"uid\": \"c01748ac-c028-4e1c-8318-e65f1883c24e\"}, {\"hoverinfo\": \"text\", \"marker\": {\"color\": \"green\", \"size\": 0.5}, \"mode\": \"markers\", \"text\": \"Excel appears with Spark 93 times\", \"x\": [0.8202513677068578], \"y\": [0.3703885713342531], \"type\": \"scatter\", \"uid\": \"ae1143f6-0c82-4064-84a8-ea63c625e8c9\"}, {\"hoverinfo\": \"text\", \"marker\": {\"color\": \"blue\", \"size\": 0.5}, \"mode\": \"markers\", \"text\": \"Spark appears with Excel 93 times\", \"x\": [-0.8803421467157831], \"y\": [-0.1870767348331871], \"type\": \"scatter\", \"uid\": \"bbf51ed6-285b-4072-a00e-3cb580b053d5\"}, {\"hoverinfo\": \"text\", \"marker\": {\"color\": \"green\", \"size\": 0.5}, \"mode\": \"markers\", \"text\": \"Excel appears with Informatica 120 times\", \"x\": [0.8112203909442864], \"y\": [0.3897710575661038], \"type\": \"scatter\", \"uid\": \"ca67a7d3-0b19-4f02-a509-f56e1d9736ee\"}, {\"hoverinfo\": \"text\", \"marker\": {\"color\": \"blue\", \"size\": 0.5}, \"mode\": \"markers\", \"text\": \"Informatica appears with Excel 120 times\", \"x\": [-0.8217005742085168], \"y\": [-0.3671623160747762], \"type\": \"scatter\", \"uid\": \"b53bc93c-fa14-4513-b0da-a2b421230942\"}, {\"hoverinfo\": \"text\", \"marker\": {\"color\": \"green\", \"size\": 0.5}, \"mode\": \"markers\", \"text\": \"Excel appears with Qlik 422 times\", \"x\": [0.6077876295626514], \"y\": [0.6637727000642715], \"type\": \"scatter\", \"uid\": \"cb199f0d-a92b-450a-bed6-cad0ce958e59\"}, {\"hoverinfo\": \"text\", \"marker\": {\"color\": \"blue\", \"size\": 0.5}, \"mode\": \"markers\", \"text\": \"Qlik appears with Excel 422 times\", \"x\": [-0.5957855423276458], \"y\": [-0.6745662217702224], \"type\": \"scatter\", \"uid\": \"07416607-6ce4-47f4-9faa-15560f81015c\"}, {\"hoverinfo\": \"text\", \"marker\": {\"color\": \"green\", \"size\": 0.5}, \"mode\": \"markers\", \"text\": \"Excel appears with Tableau 440 times\", \"x\": [0.5412540515723474], \"y\": [0.7190577526572666], \"type\": \"scatter\", \"uid\": \"51542151-0172-42ca-abc4-c5c5e48b1bac\"}, {\"hoverinfo\": \"text\", \"marker\": {\"color\": \"blue\", \"size\": 0.5}, \"mode\": \"markers\", \"text\": \"Tableau appears with Excel 440 times\", \"x\": [-0.1605683754030559], \"y\": [-0.8855607245245372], \"type\": \"scatter\", \"uid\": \"cc49470c-557d-4167-8db4-7034ce6fb354\"}, {\"hoverinfo\": \"text\", \"marker\": {\"color\": \"green\", \"size\": 0.5}, \"mode\": \"markers\", \"text\": \"Excel appears with Microstrategy 41 times\", \"x\": [0.8558263624993884], \"y\": [0.2784981817733564], \"type\": \"scatter\", \"uid\": \"d2a3adbf-16fe-434e-b676-1f405f395925\"}, {\"hoverinfo\": \"text\", \"marker\": {\"color\": \"blue\", \"size\": 0.5}, \"mode\": \"markers\", \"text\": \"Microstrategy appears with Excel 41 times\", \"x\": [-0.056519561500447006], \"y\": [-0.8982235463222935], \"type\": \"scatter\", \"uid\": \"ed4a3bd2-1eea-4f7e-aa58-8a0d6e331750\"}, {\"hoverinfo\": \"text\", \"marker\": {\"color\": \"green\", \"size\": 0.5}, \"mode\": \"markers\", \"text\": \"Excel appears with Oracle BI 642 times\", \"x\": [0.33958739675972405], \"y\": [0.8334748946200802], \"type\": \"scatter\", \"uid\": \"1d7c9e66-248f-49f6-ae9a-82906ba81744\"}, {\"hoverinfo\": \"text\", \"marker\": {\"color\": \"blue\", \"size\": 0.5}, \"mode\": \"markers\", \"text\": \"Oracle BI appears with Excel 642 times\", \"x\": [0.4972897165726296], \"y\": [-0.7501352796603515], \"type\": \"scatter\", \"uid\": \"9b2bdc16-d8b8-4000-bb59-d0482a7b0b4b\"}, {\"hoverinfo\": \"text\", \"marker\": {\"color\": \"green\", \"size\": 0.5}, \"mode\": \"markers\", \"text\": \"Excel appears with Python 363 times\", \"x\": [0.6635078560954771], \"y\": [0.6080767426070361], \"type\": \"scatter\", \"uid\": \"4954548e-131e-4c56-90da-03ed24e87ba6\"}, {\"hoverinfo\": \"text\", \"marker\": {\"color\": \"blue\", \"size\": 0.5}, \"mode\": \"markers\", \"text\": \"Python appears with Excel 363 times\", \"x\": [0.7835076953532418], \"y\": [-0.4428495131782935], \"type\": \"scatter\", \"uid\": \"84c14d47-78db-4a95-b279-57725fcd1a41\"}, {\"hoverinfo\": \"text\", \"marker\": {\"color\": \"green\", \"size\": 0.5}, \"mode\": \"markers\", \"text\": \"Excel appears with VBA 268 times\", \"x\": [0.7370580729076094], \"y\": [0.5164740043426399], \"type\": \"scatter\", \"uid\": \"a2dab810-bfb3-4d87-8eb4-d92249c9034d\"}, {\"hoverinfo\": \"text\", \"marker\": {\"color\": \"blue\", \"size\": 0.5}, \"mode\": \"markers\", \"text\": \"VBA appears with Excel 268 times\", \"x\": [0.8532419528486578], \"y\": [-0.2863183017185747], \"type\": \"scatter\", \"uid\": \"31df9c50-68d1-4029-8b97-d5da9443cb53\"}, {\"hoverinfo\": \"text\", \"marker\": {\"color\": \"green\", \"size\": 0.5}, \"mode\": \"markers\", \"text\": \"Excel appears with Linux 77 times\", \"x\": [0.8337811760679034], \"y\": [0.3388346948510794], \"type\": \"scatter\", \"uid\": \"9b55c5a6-cabe-4ac0-9d7b-5ca8161a9130\"}, {\"hoverinfo\": \"text\", \"marker\": {\"color\": \"blue\", \"size\": 0.5}, \"mode\": \"markers\", \"text\": \"Linux appears with Excel 77 times\", \"x\": [0.8815730779466162], \"y\": [-0.18118749471122317], \"type\": \"scatter\", \"uid\": \"110c614b-879b-493d-84cc-6632c99c3a28\"}, {\"hoverinfo\": \"text\", \"marker\": {\"color\": \"green\", \"size\": 0.5}, \"mode\": \"markers\", \"text\": \"Excel appears with AWS 57 times\", \"x\": [0.8527308412011101], \"y\": [0.2878369546539277], \"type\": \"scatter\", \"uid\": \"2412ff14-1d63-43e9-bc23-7c862bfd0927\"}, {\"hoverinfo\": \"text\", \"marker\": {\"color\": \"blue\", \"size\": 0.5}, \"mode\": \"markers\", \"text\": \"AWS appears with Excel 57 times\", \"x\": [0.8987490992715419], \"y\": [-0.04743476107868799], \"type\": \"scatter\", \"uid\": \"487d303a-082c-475f-8250-40778c030ad2\"}, {\"hoverinfo\": \"text\", \"marker\": {\"color\": \"green\", \"size\": 0.5}, \"mode\": \"markers\", \"text\": \"SSIS/SSRS appears with MS SQL Server 275 times\", \"x\": [-0.01190766787628418], \"y\": [0.8999212229110658], \"type\": \"scatter\", \"uid\": \"5c73afd6-9d74-42ea-8729-9a64c40f89fc\"}, {\"hoverinfo\": \"text\", \"marker\": {\"color\": \"blue\", \"size\": 0.5}, \"mode\": \"markers\", \"text\": \"MS SQL Server appears with SSIS/SSRS 275 times\", \"x\": [-0.5282057128911309], \"y\": [0.7286965931505184], \"type\": \"scatter\", \"uid\": \"ba4218f6-a42d-4452-a6fc-fbf4602a7f05\"}, {\"hoverinfo\": \"text\", \"marker\": {\"color\": \"green\", \"size\": 0.5}, \"mode\": \"markers\", \"text\": \"SSIS/SSRS appears with PostgreSQL 59 times\", \"x\": [0.2012289182893866], \"y\": [0.8772154367338069], \"type\": \"scatter\", \"uid\": \"309bf0c1-cc2c-4455-a331-4ba771969055\"}, {\"hoverinfo\": \"text\", \"marker\": {\"color\": \"blue\", \"size\": 0.5}, \"mode\": \"markers\", \"text\": \"PostgreSQL appears with SSIS/SSRS 59 times\", \"x\": [-0.6063061669919606], \"y\": [0.6651261774035938], \"type\": \"scatter\", \"uid\": \"769f8d84-c9ae-4b70-b56c-21bc5e6c8044\"}, {\"hoverinfo\": \"text\", \"marker\": {\"color\": \"green\", \"size\": 0.5}, \"mode\": \"markers\", \"text\": \"SSIS/SSRS appears with MySQL/MariaDB 84 times\", \"x\": [0.17338275831956895], \"y\": [0.8831412226351446], \"type\": \"scatter\", \"uid\": \"b3c34a7d-fa0a-406d-9d3b-19904bba14cf\"}, {\"hoverinfo\": \"text\", \"marker\": {\"color\": \"blue\", \"size\": 0.5}, \"mode\": \"markers\", \"text\": \"MySQL/MariaDB appears with SSIS/SSRS 84 times\", \"x\": [-0.712186580277798], \"y\": [0.5502638229724134], \"type\": \"scatter\", \"uid\": \"7ab842e9-8ca9-4669-81e5-c9d73ef73b6e\"}, {\"hoverinfo\": \"text\", \"marker\": {\"color\": \"green\", \"size\": 0.5}, \"mode\": \"markers\", \"text\": \"SSIS/SSRS appears with T-SQL 131 times\", \"x\": [0.11787699270236986], \"y\": [0.8922471712431739], \"type\": \"scatter\", \"uid\": \"64b46a9d-c995-421c-a68b-0b5c9196f657\"}, {\"hoverinfo\": \"text\", \"marker\": {\"color\": \"blue\", \"size\": 0.5}, \"mode\": \"markers\", \"text\": \"T-SQL appears with SSIS/SSRS 131 times\", \"x\": [-0.8203794133108242], \"y\": [0.3701048746177059], \"type\": \"scatter\", \"uid\": \"78f5c595-5c61-49cf-b8fc-ad9babb59e4a\"}, {\"hoverinfo\": \"text\", \"marker\": {\"color\": \"green\", \"size\": 0.5}, \"mode\": \"markers\", \"text\": \"SSIS/SSRS appears with PL/SQL 45 times\", \"x\": [0.21113341124769447], \"y\": [0.8748843824499967], \"type\": \"scatter\", \"uid\": \"be64e512-56fd-4deb-9e85-59329249f5e7\"}, {\"hoverinfo\": \"text\", \"marker\": {\"color\": \"blue\", \"size\": 0.5}, \"mode\": \"markers\", \"text\": \"PL/SQL appears with SSIS/SSRS 45 times\", \"x\": [-0.8732685460413042], \"y\": [0.21772011045125464], \"type\": \"scatter\", \"uid\": \"d6de5f3d-0d21-4673-8e18-54e819aaa9b5\"}, {\"hoverinfo\": \"text\", \"marker\": {\"color\": \"green\", \"size\": 0.5}, \"mode\": \"markers\", \"text\": \"SSIS/SSRS appears with Pentaho 36 times\", \"x\": [0.2266020247432573], \"y\": [0.8710060403821871], \"type\": \"scatter\", \"uid\": \"220b6538-d7dd-474b-ad15-474e669b7201\"}, {\"hoverinfo\": \"text\", \"marker\": {\"color\": \"blue\", \"size\": 0.5}, \"mode\": \"markers\", \"text\": \"Pentaho appears with SSIS/SSRS 36 times\", \"x\": [-0.8878357123335268], \"y\": [0.14747117652347969], \"type\": \"scatter\", \"uid\": \"0c2b596b-b11d-400b-857c-747cbd244ad4\"}, {\"hoverinfo\": \"text\", \"marker\": {\"color\": \"green\", \"size\": 0.5}, \"mode\": \"markers\", \"text\": \"SSIS/SSRS appears with Hadoop 34 times\", \"x\": [0.2332234326113806], \"y\": [0.8692564814144125], \"type\": \"scatter\", \"uid\": \"799b3f20-15ac-442e-9c7a-7294b68f979e\"}, {\"hoverinfo\": \"text\", \"marker\": {\"color\": \"blue\", \"size\": 0.5}, \"mode\": \"markers\", \"text\": \"Hadoop appears with SSIS/SSRS 34 times\", \"x\": [-0.8995678553144069], \"y\": [0.027886801269388244], \"type\": \"scatter\", \"uid\": \"c02d3b49-e19a-4a56-87ea-177f52c134a5\"}, {\"hoverinfo\": \"text\", \"marker\": {\"color\": \"green\", \"size\": 0.5}, \"mode\": \"markers\", \"text\": \"SSIS/SSRS appears with Spark 41 times\", \"x\": [0.21930333536051272], \"y\": [0.8728722971315761], \"type\": \"scatter\", \"uid\": \"87609773-ad24-4616-95cb-54c1557c96b6\"}, {\"hoverinfo\": \"text\", \"marker\": {\"color\": \"blue\", \"size\": 0.5}, \"mode\": \"markers\", \"text\": \"Spark appears with SSIS/SSRS 41 times\", \"x\": [-0.8870394208501295], \"y\": [-0.1521876008677012], \"type\": \"scatter\", \"uid\": \"44972cb8-8bc5-497c-a465-158f3b80e383\"}, {\"hoverinfo\": \"text\", \"marker\": {\"color\": \"green\", \"size\": 0.5}, \"mode\": \"markers\", \"text\": \"SSIS/SSRS appears with Informatica 74 times\", \"x\": [0.18852528851328912], \"y\": [0.8800330764187112], \"type\": \"scatter\", \"uid\": \"6b0bd466-8bc3-43c9-8fe3-0f47be7034a8\"}, {\"hoverinfo\": \"text\", \"marker\": {\"color\": \"blue\", \"size\": 0.5}, \"mode\": \"markers\", \"text\": \"Informatica appears with SSIS/SSRS 74 times\", \"x\": [-0.834479103784107], \"y\": [-0.3371121851070853], \"type\": \"scatter\", \"uid\": \"f081a7f5-ead2-4692-b36e-8f020aa50d32\"}, {\"hoverinfo\": \"text\", \"marker\": {\"color\": \"green\", \"size\": 0.5}, \"mode\": \"markers\", \"text\": \"SSIS/SSRS appears with Qlik 91 times\", \"x\": [0.13937352996796545], \"y\": [0.8891428564321194], \"type\": \"scatter\", \"uid\": \"17a47b16-7419-41bb-9a7c-d3ef60662032\"}, {\"hoverinfo\": \"text\", \"marker\": {\"color\": \"blue\", \"size\": 0.5}, \"mode\": \"markers\", \"text\": \"Qlik appears with SSIS/SSRS 91 times\", \"x\": [-0.752869852246074], \"y\": [-0.4931399249492732], \"type\": \"scatter\", \"uid\": \"2bfa9a08-adb9-45b9-b870-e896f30efbeb\"}, {\"hoverinfo\": \"text\", \"marker\": {\"color\": \"green\", \"size\": 0.5}, \"mode\": \"markers\", \"text\": \"SSIS/SSRS appears with Tableau 165 times\", \"x\": [0.06357000790893232], \"y\": [0.8977521117181838], \"type\": \"scatter\", \"uid\": \"4d49c24b-8aee-4cfc-9220-bdde1fd25242\"}, {\"hoverinfo\": \"text\", \"marker\": {\"color\": \"blue\", \"size\": 0.5}, \"mode\": \"markers\", \"text\": \"Tableau appears with SSIS/SSRS 165 times\", \"x\": [-0.39601728122384655], \"y\": [-0.8081895278782527], \"type\": \"scatter\", \"uid\": \"db16ca34-4423-4a30-9385-8471875b0914\"}, {\"hoverinfo\": \"text\", \"marker\": {\"color\": \"green\", \"size\": 0.5}, \"mode\": \"markers\", \"text\": \"SSIS/SSRS appears with Microstrategy 34 times\", \"x\": [0.23964272908956719], \"y\": [0.8675087102701069], \"type\": \"scatter\", \"uid\": \"e0812752-f36a-43e5-b9c4-d0b68336b8d7\"}, {\"hoverinfo\": \"text\", \"marker\": {\"color\": \"blue\", \"size\": 0.5}, \"mode\": \"markers\", \"text\": \"Microstrategy appears with SSIS/SSRS 34 times\", \"x\": [-0.0669685057900204], \"y\": [-0.8975049967728603], \"type\": \"scatter\", \"uid\": \"e806ac08-436b-44ce-a6d8-763370dc8b56\"}, {\"hoverinfo\": \"text\", \"marker\": {\"color\": \"green\", \"size\": 0.5}, \"mode\": \"markers\", \"text\": \"SSIS/SSRS appears with Oracle BI 279 times\", \"x\": [-0.06605087764134349], \"y\": [0.897572995116725], \"type\": \"scatter\", \"uid\": \"11770028-6ece-4b68-bb1b-d88c0534b48c\"}, {\"hoverinfo\": \"text\", \"marker\": {\"color\": \"blue\", \"size\": 0.5}, \"mode\": \"markers\", \"text\": \"Oracle BI appears with SSIS/SSRS 279 times\", \"x\": [0.27448930784519127], \"y\": [-0.8571205398767829], \"type\": \"scatter\", \"uid\": \"5e964e9d-e075-4f47-8ad8-f6fe6374506b\"}, {\"hoverinfo\": \"text\", \"marker\": {\"color\": \"green\", \"size\": 0.5}, \"mode\": \"markers\", \"text\": \"SSIS/SSRS appears with Python 166 times\", \"x\": [0.03123230799162472], \"y\": [0.899457916157013], \"type\": \"scatter\", \"uid\": \"14b8f6ea-7254-49ca-b644-5ebfe015cb86\"}, {\"hoverinfo\": \"text\", \"marker\": {\"color\": \"blue\", \"size\": 0.5}, \"mode\": \"markers\", \"text\": \"Python appears with SSIS/SSRS 166 times\", \"x\": [0.739001215254347], \"y\": [-0.5136897934090169], \"type\": \"scatter\", \"uid\": \"060fff2d-dbe5-497d-9469-4aef0e842143\"}, {\"hoverinfo\": \"text\", \"marker\": {\"color\": \"green\", \"size\": 0.5}, \"mode\": \"markers\", \"text\": \"SSIS/SSRS appears with VBA 89 times\", \"x\": [0.15674414490953906], \"y\": [0.8862456053694019], \"type\": \"scatter\", \"uid\": \"9d40f499-faae-47d3-9902-575289c7e6a8\"}, {\"hoverinfo\": \"text\", \"marker\": {\"color\": \"blue\", \"size\": 0.5}, \"mode\": \"markers\", \"text\": \"VBA appears with SSIS/SSRS 89 times\", \"x\": [0.8430620686246837], \"y\": [-0.31503388460016346], \"type\": \"scatter\", \"uid\": \"d9492c81-b644-45b2-bbe1-b04b0b776ca3\"}, {\"hoverinfo\": \"text\", \"marker\": {\"color\": \"green\", \"size\": 0.5}, \"mode\": \"markers\", \"text\": \"SSIS/SSRS appears with Linux 18 times\", \"x\": [0.25037493454775495], \"y\": [0.8644723200601667], \"type\": \"scatter\", \"uid\": \"3f6527a6-2462-4a39-8f94-000cfa7c7a2a\"}, {\"hoverinfo\": \"text\", \"marker\": {\"color\": \"blue\", \"size\": 0.5}, \"mode\": \"markers\", \"text\": \"Linux appears with SSIS/SSRS 18 times\", \"x\": [0.8699334120872049], \"y\": [-0.23068562706487244], \"type\": \"scatter\", \"uid\": \"3b8df4a7-fd22-476d-8792-d731bcb8ae43\"}, {\"hoverinfo\": \"text\", \"marker\": {\"color\": \"green\", \"size\": 0.5}, \"mode\": \"markers\", \"text\": \"SSIS/SSRS appears with AWS 31 times\", \"x\": [0.24576658480922406], \"y\": [0.8657937316654646], \"type\": \"scatter\", \"uid\": \"7ad90ced-006d-4879-8deb-09e0ed997ddc\"}, {\"hoverinfo\": \"text\", \"marker\": {\"color\": \"blue\", \"size\": 0.5}, \"mode\": \"markers\", \"text\": \"AWS appears with SSIS/SSRS 31 times\", \"x\": [0.8962316284023101], \"y\": [-0.08227313201369932], \"type\": \"scatter\", \"uid\": \"7e20e314-ed38-4eed-a73a-bfe052af1609\"}, {\"hoverinfo\": \"text\", \"marker\": {\"color\": \"green\", \"size\": 0.5}, \"mode\": \"markers\", \"text\": \"MS SQL Server appears with PostgreSQL 93 times\", \"x\": [-0.3158472500149711], \"y\": [0.8427576844253515], \"type\": \"scatter\", \"uid\": \"f3e13e24-bedd-471a-86f4-c49266b9dfcd\"}, {\"hoverinfo\": \"text\", \"marker\": {\"color\": \"blue\", \"size\": 0.5}, \"mode\": \"markers\", \"text\": \"PostgreSQL appears with MS SQL Server 93 times\", \"x\": [-0.6240313918011591], \"y\": [0.648525112888243], \"type\": \"scatter\", \"uid\": \"6ca3efe6-94e2-4275-9625-66212f16ccf5\"}, {\"hoverinfo\": \"text\", \"marker\": {\"color\": \"green\", \"size\": 0.5}, \"mode\": \"markers\", \"text\": \"MS SQL Server appears with MySQL/MariaDB 100 times\", \"x\": [-0.3331185902060275], \"y\": [0.8360813386621835], \"type\": \"scatter\", \"uid\": \"81941111-a94d-4643-b4ab-2e7b4a2b1475\"}, {\"hoverinfo\": \"text\", \"marker\": {\"color\": \"blue\", \"size\": 0.5}, \"mode\": \"markers\", \"text\": \"MySQL/MariaDB appears with MS SQL Server 100 times\", \"x\": [-0.7218363227353346], \"y\": [0.5375428570634438], \"type\": \"scatter\", \"uid\": \"5bc6ca84-cd1b-4e6a-a93c-74347267bd20\"}, {\"hoverinfo\": \"text\", \"marker\": {\"color\": \"green\", \"size\": 0.5}, \"mode\": \"markers\", \"text\": \"MS SQL Server appears with T-SQL 174 times\", \"x\": [-0.4183208428238862], \"y\": [0.7968736866399301], \"type\": \"scatter\", \"uid\": \"223e2a24-0920-49f7-82a6-87f8b310d0b8\"}, {\"hoverinfo\": \"text\", \"marker\": {\"color\": \"blue\", \"size\": 0.5}, \"mode\": \"markers\", \"text\": \"T-SQL appears with MS SQL Server 174 times\", \"x\": [-0.8412910306903095], \"y\": [0.3197333290103437], \"type\": \"scatter\", \"uid\": \"b993d682-1d0e-43e3-aa48-98c71a7c141c\"}, {\"hoverinfo\": \"text\", \"marker\": {\"color\": \"green\", \"size\": 0.5}, \"mode\": \"markers\", \"text\": \"MS SQL Server appears with PL/SQL 12 times\", \"x\": [-0.24245125891737587], \"y\": [0.8667279775393083], \"type\": \"scatter\", \"uid\": \"d6cd45ab-7c8c-467f-98d6-40be91771e73\"}, {\"hoverinfo\": \"text\", \"marker\": {\"color\": \"blue\", \"size\": 0.5}, \"mode\": \"markers\", \"text\": \"PL/SQL appears with MS SQL Server 12 times\", \"x\": [-0.867397382837243], \"y\": [0.2400453712261526], \"type\": \"scatter\", \"uid\": \"85b36086-4b87-43a5-9881-2f746a35850f\"}, {\"hoverinfo\": \"text\", \"marker\": {\"color\": \"green\", \"size\": 0.5}, \"mode\": \"markers\", \"text\": \"MS SQL Server appears with Pentaho 48 times\", \"x\": [-0.26949241570992716], \"y\": [0.8587047442950504], \"type\": \"scatter\", \"uid\": \"c5c2ac3c-56f9-43e2-ad83-41f0ab7d87f0\"}, {\"hoverinfo\": \"text\", \"marker\": {\"color\": \"blue\", \"size\": 0.5}, \"mode\": \"markers\", \"text\": \"Pentaho appears with MS SQL Server 48 times\", \"x\": [-0.8932583119874187], \"y\": [0.10995266283900244], \"type\": \"scatter\", \"uid\": \"5b60ca70-08e9-4ea7-941e-6f96589ffbbd\"}, {\"hoverinfo\": \"text\", \"marker\": {\"color\": \"green\", \"size\": 0.5}, \"mode\": \"markers\", \"text\": \"MS SQL Server appears with Hadoop 29 times\", \"x\": [-0.2552673336981966], \"y\": [0.8630403167561835], \"type\": \"scatter\", \"uid\": \"5ee86411-d131-44cc-901a-54f4db1bb449\"}, {\"hoverinfo\": \"text\", \"marker\": {\"color\": \"blue\", \"size\": 0.5}, \"mode\": \"markers\", \"text\": \"Hadoop appears with MS SQL Server 29 times\", \"x\": [-0.8993861131586527], \"y\": [0.03323581588243567], \"type\": \"scatter\", \"uid\": \"2e05238e-9eb3-4d84-a121-75adad48a5f3\"}, {\"hoverinfo\": \"text\", \"marker\": {\"color\": \"green\", \"size\": 0.5}, \"mode\": \"markers\", \"text\": \"MS SQL Server appears with Spark 29 times\", \"x\": [-0.24992627195406544], \"y\": [0.8646021388980845], \"type\": \"scatter\", \"uid\": \"0af7fa49-5df0-470e-9ab0-7c2dcb82b119\"}, {\"hoverinfo\": \"text\", \"marker\": {\"color\": \"blue\", \"size\": 0.5}, \"mode\": \"markers\", \"text\": \"Spark appears with MS SQL Server 29 times\", \"x\": [-0.8906955867749866], \"y\": [-0.12907893592512407], \"type\": \"scatter\", \"uid\": \"d1e499fe-8715-4134-b38e-b18d8873fe85\"}, {\"hoverinfo\": \"text\", \"marker\": {\"color\": \"green\", \"size\": 0.5}, \"mode\": \"markers\", \"text\": \"MS SQL Server appears with Informatica 64 times\", \"x\": [-0.2897372745480195], \"y\": [0.8520870329593602], \"type\": \"scatter\", \"uid\": \"b660a526-dd5d-4c16-a9f7-2901ca34d33c\"}, {\"hoverinfo\": \"text\", \"marker\": {\"color\": \"blue\", \"size\": 0.5}, \"mode\": \"markers\", \"text\": \"Informatica appears with MS SQL Server 64 times\", \"x\": [-0.8432085471431153], \"y\": [-0.3146416152145114], \"type\": \"scatter\", \"uid\": \"89238e66-45e2-4342-800b-13fd92597fac\"}, {\"hoverinfo\": \"text\", \"marker\": {\"color\": \"green\", \"size\": 0.5}, \"mode\": \"markers\", \"text\": \"MS SQL Server appears with Qlik 66 times\", \"x\": [-0.30151776188703544], \"y\": [0.8479899995086222], \"type\": \"scatter\", \"uid\": \"7aaf8b9e-a9dc-4e12-84de-ad91b5e62817\"}, {\"hoverinfo\": \"text\", \"marker\": {\"color\": \"blue\", \"size\": 0.5}, \"mode\": \"markers\", \"text\": \"Qlik appears with MS SQL Server 66 times\", \"x\": [-0.7687505664842916], \"y\": [-0.4679984685125377], \"type\": \"scatter\", \"uid\": \"16bfdc33-a9e7-4c44-a084-f5edbf93ef3c\"}, {\"hoverinfo\": \"text\", \"marker\": {\"color\": \"green\", \"size\": 0.5}, \"mode\": \"markers\", \"text\": \"MS SQL Server appears with Tableau 109 times\", \"x\": [-0.3516624965547883], \"y\": [0.8284524660575605], \"type\": \"scatter\", \"uid\": \"79252b21-d473-4f97-9ee2-4089a5bb9249\"}, {\"hoverinfo\": \"text\", \"marker\": {\"color\": \"blue\", \"size\": 0.5}, \"mode\": \"markers\", \"text\": \"Tableau appears with MS SQL Server 109 times\", \"x\": [-0.44356918654947064], \"y\": [-0.7831004895566347], \"type\": \"scatter\", \"uid\": \"faf20ead-aac0-45c2-987e-183cabf76fa4\"}, {\"hoverinfo\": \"text\", \"marker\": {\"color\": \"green\", \"size\": 0.5}, \"mode\": \"markers\", \"text\": \"MS SQL Server appears with Microstrategy 20 times\", \"x\": [-0.24540654165119188], \"y\": [0.86589585361913], \"type\": \"scatter\", \"uid\": \"035f9d20-47a0-4d86-948f-fc35e79fe18f\"}, {\"hoverinfo\": \"text\", \"marker\": {\"color\": \"blue\", \"size\": 0.5}, \"mode\": \"markers\", \"text\": \"Microstrategy appears with MS SQL Server 20 times\", \"x\": [-0.07801425855049145], \"y\": [-0.8966123886400506], \"type\": \"scatter\", \"uid\": \"c4f8d2b7-2922-4531-b614-76b207351f27\"}, {\"hoverinfo\": \"text\", \"marker\": {\"color\": \"green\", \"size\": 0.5}, \"mode\": \"markers\", \"text\": \"MS SQL Server appears with Oracle BI 180 times\", \"x\": [-0.4480881966209835], \"y\": [0.7805235217781428], \"type\": \"scatter\", \"uid\": \"87757a13-b9d3-4686-a77c-fe38765f041e\"}, {\"hoverinfo\": \"text\", \"marker\": {\"color\": \"blue\", \"size\": 0.5}, \"mode\": \"markers\", \"text\": \"Oracle BI appears with MS SQL Server 180 times\", \"x\": [0.23085673906391982], \"y\": [-0.8698880192466001], \"type\": \"scatter\", \"uid\": \"c8930113-6360-4ff4-a47d-8f5de3c10fa2\"}, {\"hoverinfo\": \"text\", \"marker\": {\"color\": \"green\", \"size\": 0.5}, \"mode\": \"markers\", \"text\": \"MS SQL Server appears with Python 115 times\", \"x\": [-0.37134325854643346], \"y\": [0.8198196047497991], \"type\": \"scatter\", \"uid\": \"d32ed2d8-d37f-4d04-812d-43a6d2c4a83e\"}, {\"hoverinfo\": \"text\", \"marker\": {\"color\": \"blue\", \"size\": 0.5}, \"mode\": \"markers\", \"text\": \"Python appears with MS SQL Server 115 times\", \"x\": [0.6678456865627], \"y\": [-0.6033093227686738], \"type\": \"scatter\", \"uid\": \"456bef3e-86b1-4224-99f7-eb2431dfe6a8\"}, {\"hoverinfo\": \"text\", \"marker\": {\"color\": \"green\", \"size\": 0.5}, \"mode\": \"markers\", \"text\": \"MS SQL Server appears with VBA 39 times\", \"x\": [-0.26151682549813604], \"y\": [0.8611672021050137], \"type\": \"scatter\", \"uid\": \"6b27db17-4ba8-465b-8787-f4e3ccf326b2\"}, {\"hoverinfo\": \"text\", \"marker\": {\"color\": \"blue\", \"size\": 0.5}, \"mode\": \"markers\", \"text\": \"VBA appears with MS SQL Server 39 times\", \"x\": [0.8217075738010914], \"y\": [-0.3671466507513368], \"type\": \"scatter\", \"uid\": \"e3ae2178-6ca5-4f8a-91d5-93fb707271b8\"}, {\"hoverinfo\": \"text\", \"marker\": {\"color\": \"green\", \"size\": 0.5}, \"mode\": \"markers\", \"text\": \"MS SQL Server appears with Linux 55 times\", \"x\": [-0.278904759220636], \"y\": [0.855693949542755], \"type\": \"scatter\", \"uid\": \"152a2202-3a30-4b2e-ac6e-eb6d951becc8\"}, {\"hoverinfo\": \"text\", \"marker\": {\"color\": \"blue\", \"size\": 0.5}, \"mode\": \"markers\", \"text\": \"Linux appears with MS SQL Server 55 times\", \"x\": [0.8793108501546172], \"y\": [-0.1918656529980402], \"type\": \"scatter\", \"uid\": \"4b2ed766-4345-43b8-915b-40d713601ee4\"}, {\"hoverinfo\": \"text\", \"marker\": {\"color\": \"green\", \"size\": 0.5}, \"mode\": \"markers\", \"text\": \"MS SQL Server appears with AWS 10 times\", \"x\": [-0.2404178632958319], \"y\": [0.8672942124840144], \"type\": \"scatter\", \"uid\": \"9baf23bd-496d-469d-8a53-ed1bdee42e46\"}, {\"hoverinfo\": \"text\", \"marker\": {\"color\": \"blue\", \"size\": 0.5}, \"mode\": \"markers\", \"text\": \"AWS appears with MS SQL Server 10 times\", \"x\": [0.8948639103788533], \"y\": [-0.09601344646177283], \"type\": \"scatter\", \"uid\": \"566fa995-1a43-43ec-a33f-f2b438b45bc2\"}, {\"hoverinfo\": \"text\", \"marker\": {\"color\": \"green\", \"size\": 0.5}, \"mode\": \"markers\", \"text\": \"PostgreSQL appears with MySQL/MariaDB 106 times\", \"x\": [-0.6353891406852012], \"y\": [0.6374014746604542], \"type\": \"scatter\", \"uid\": \"9ad759ec-aafb-4d6a-81cd-3c2b8d660679\"}, {\"hoverinfo\": \"text\", \"marker\": {\"color\": \"blue\", \"size\": 0.5}, \"mode\": \"markers\", \"text\": \"MySQL/MariaDB appears with PostgreSQL 106 times\", \"x\": [-0.732370135715278], \"y\": [0.5231003577826967], \"type\": \"scatter\", \"uid\": \"2042f88c-b36b-49a5-a74b-01750c34b923\"}, {\"hoverinfo\": \"text\", \"marker\": {\"color\": \"green\", \"size\": 0.5}, \"mode\": \"markers\", \"text\": \"PostgreSQL appears with T-SQL 39 times\", \"x\": [-0.5832870469582506], \"y\": [0.6854022328900917], \"type\": \"scatter\", \"uid\": \"db0b79d4-412f-4e84-9732-34d6b53e2184\"}, {\"hoverinfo\": \"text\", \"marker\": {\"color\": \"blue\", \"size\": 0.5}, \"mode\": \"markers\", \"text\": \"T-SQL appears with PostgreSQL 39 times\", \"x\": [-0.7799020777385773], \"y\": [0.44916895389045985], \"type\": \"scatter\", \"uid\": \"19fd88cc-b5a0-406c-9a4d-ce0b09dfee7e\"}, {\"hoverinfo\": \"text\", \"marker\": {\"color\": \"green\", \"size\": 0.5}, \"mode\": \"markers\", \"text\": \"PostgreSQL appears with PL/SQL 2 times\", \"x\": [-0.5718301869238022], \"y\": [0.6949893792876908], \"type\": \"scatter\", \"uid\": \"e4e1f27b-c5c0-43eb-b130-4365f6601f63\"}, {\"hoverinfo\": \"text\", \"marker\": {\"color\": \"blue\", \"size\": 0.5}, \"mode\": \"markers\", \"text\": \"PL/SQL appears with PostgreSQL 2 times\", \"x\": [-0.8659907512548696], \"y\": [0.24507145639797942], \"type\": \"scatter\", \"uid\": \"6bfc6fc4-7219-4773-9ae5-96795d6f2dcb\"}, {\"hoverinfo\": \"text\", \"marker\": {\"color\": \"green\", \"size\": 0.5}, \"mode\": \"markers\", \"text\": \"PostgreSQL appears with Pentaho 49 times\", \"x\": [-0.5999020928508776], \"y\": [0.6709079512072703], \"type\": \"scatter\", \"uid\": \"6fa5b030-8a01-4042-9746-f46f513a8c67\"}, {\"hoverinfo\": \"text\", \"marker\": {\"color\": \"blue\", \"size\": 0.5}, \"mode\": \"markers\", \"text\": \"Pentaho appears with PostgreSQL 49 times\", \"x\": [-0.8941655494698253], \"y\": [0.10231309858139122], \"type\": \"scatter\", \"uid\": \"866945c9-30bf-4eeb-8652-835106ac9fa9\"}, {\"hoverinfo\": \"text\", \"marker\": {\"color\": \"green\", \"size\": 0.5}, \"mode\": \"markers\", \"text\": \"PostgreSQL appears with Hadoop 4 times\", \"x\": [-0.5722002501616011], \"y\": [0.694684729726371], \"type\": \"scatter\", \"uid\": \"87d096f0-8943-47c7-a54e-525c58651700\"}, {\"hoverinfo\": \"text\", \"marker\": {\"color\": \"blue\", \"size\": 0.5}, \"mode\": \"markers\", \"text\": \"Hadoop appears with PostgreSQL 4 times\", \"x\": [-0.8987415050762436], \"y\": [0.047578430546712965], \"type\": \"scatter\", \"uid\": \"d5712c51-7aea-4b7b-893e-c4f5ef8c28e3\"}, {\"hoverinfo\": \"text\", \"marker\": {\"color\": \"green\", \"size\": 0.5}, \"mode\": \"markers\", \"text\": \"PostgreSQL appears with Spark 13 times\", \"x\": [-0.5747246662288981], \"y\": [0.69259768843686], \"type\": \"scatter\", \"uid\": \"82f00b2b-73b5-45fe-95ca-e303b9d5e256\"}, {\"hoverinfo\": \"text\", \"marker\": {\"color\": \"blue\", \"size\": 0.5}, \"mode\": \"markers\", \"text\": \"Spark appears with PostgreSQL 13 times\", \"x\": [-0.8930374496782166], \"y\": [-0.11173232957486688], \"type\": \"scatter\", \"uid\": \"5c5673be-0684-471e-be85-1b3e5689dedd\"}, {\"hoverinfo\": \"text\", \"marker\": {\"color\": \"green\", \"size\": 0.5}, \"mode\": \"markers\", \"text\": \"PostgreSQL appears with Informatica 2 times\", \"x\": [-0.5715833879805652], \"y\": [0.695192369481037], \"type\": \"scatter\", \"uid\": \"a0bebfd3-f481-4efd-93b9-ba6c45bf8289\"}, {\"hoverinfo\": \"text\", \"marker\": {\"color\": \"blue\", \"size\": 0.5}, \"mode\": \"markers\", \"text\": \"Informatica appears with PostgreSQL 2 times\", \"x\": [-0.8570389265985403], \"y\": [-0.2747440232194722], \"type\": \"scatter\", \"uid\": \"ca583736-8ccd-4ffc-a5c5-0e8994df0211\"}, {\"hoverinfo\": \"text\", \"marker\": {\"color\": \"green\", \"size\": 0.5}, \"mode\": \"markers\", \"text\": \"PostgreSQL appears with Qlik 14 times\", \"x\": [-0.5763829315879712], \"y\": [0.6912182840275973], \"type\": \"scatter\", \"uid\": \"e8f07543-d89b-4619-9df2-6f8ec795ce10\"}, {\"hoverinfo\": \"text\", \"marker\": {\"color\": \"blue\", \"size\": 0.5}, \"mode\": \"markers\", \"text\": \"Qlik appears with PostgreSQL 14 times\", \"x\": [-0.792753718411526], \"y\": [-0.4260769202206321], \"type\": \"scatter\", \"uid\": \"c39e3822-c88a-41c7-9c51-8d611f6293fd\"}, {\"hoverinfo\": \"text\", \"marker\": {\"color\": \"green\", \"size\": 0.5}, \"mode\": \"markers\", \"text\": \"PostgreSQL appears with Tableau 6 times\", \"x\": [-0.5728166614932944], \"y\": [0.6941765426141081], \"type\": \"scatter\", \"uid\": \"7276a486-ce56-435b-8ea7-6fe3e6f4e62c\"}, {\"hoverinfo\": \"text\", \"marker\": {\"color\": \"blue\", \"size\": 0.5}, \"mode\": \"markers\", \"text\": \"Tableau appears with PostgreSQL 6 times\", \"x\": [-0.5419906171570047], \"y\": [-0.7185027285360643], \"type\": \"scatter\", \"uid\": \"5defe310-aa39-4ba2-b1a7-4cd8c16f186d\"}, {\"hoverinfo\": \"text\", \"marker\": {\"color\": \"green\", \"size\": 0.5}, \"mode\": \"markers\", \"text\": \"PostgreSQL appears with Oracle BI 47 times\", \"x\": [-0.5941632799832475], \"y\": [0.6759955596892253], \"type\": \"scatter\", \"uid\": \"3930460d-87be-4714-9290-85431dfa6b90\"}, {\"hoverinfo\": \"text\", \"marker\": {\"color\": \"blue\", \"size\": 0.5}, \"mode\": \"markers\", \"text\": \"Oracle BI appears with PostgreSQL 47 times\", \"x\": [0.02732521301925816], \"y\": [-0.8995850892124948], \"type\": \"scatter\", \"uid\": \"79e7507d-00d1-4450-b6a0-1ecdf886bda8\"}, {\"hoverinfo\": \"text\", \"marker\": {\"color\": \"green\", \"size\": 0.5}, \"mode\": \"markers\", \"text\": \"PostgreSQL appears with Python 30 times\", \"x\": [-0.579078191933814], \"y\": [0.6889618622439597], \"type\": \"scatter\", \"uid\": \"21a0608e-4f62-42c6-aaaa-af0233f4d957\"}, {\"hoverinfo\": \"text\", \"marker\": {\"color\": \"blue\", \"size\": 0.5}, \"mode\": \"markers\", \"text\": \"Python appears with PostgreSQL 30 times\", \"x\": [0.5766292454278156], \"y\": [-0.6910128170427435], \"type\": \"scatter\", \"uid\": \"7dec1515-4151-4ed1-b8f7-d618977971cb\"}, {\"hoverinfo\": \"text\", \"marker\": {\"color\": \"green\", \"size\": 0.5}, \"mode\": \"markers\", \"text\": \"PostgreSQL appears with Linux 47 times\", \"x\": [-0.5885022169502367], \"y\": [0.6809296150445041], \"type\": \"scatter\", \"uid\": \"ad241977-dc3c-4be1-b773-eda4488e5231\"}, {\"hoverinfo\": \"text\", \"marker\": {\"color\": \"blue\", \"size\": 0.5}, \"mode\": \"markers\", \"text\": \"Linux appears with PostgreSQL 47 times\", \"x\": [0.8756751136144596], \"y\": [-0.2078294863495151], \"type\": \"scatter\", \"uid\": \"355775f4-37b2-4795-a845-59a7c5271aa2\"}, {\"hoverinfo\": \"text\", \"marker\": {\"color\": \"green\", \"size\": 0.5}, \"mode\": \"markers\", \"text\": \"PostgreSQL appears with AWS 6 times\", \"x\": [-0.5735557592863754], \"y\": [0.6935659961311753], \"type\": \"scatter\", \"uid\": \"a8e776e8-ed29-4672-9bc0-6bd184348c32\"}, {\"hoverinfo\": \"text\", \"marker\": {\"color\": \"blue\", \"size\": 0.5}, \"mode\": \"markers\", \"text\": \"AWS appears with PostgreSQL 6 times\", \"x\": [0.8947357195888348], \"y\": [-0.09720078236233524], \"type\": \"scatter\", \"uid\": \"fa3e0868-08c6-4c5a-8f83-c28a8e438bc8\"}, {\"hoverinfo\": \"text\", \"marker\": {\"color\": \"green\", \"size\": 0.5}, \"mode\": \"markers\", \"text\": \"MySQL/MariaDB appears with T-SQL 40 times\", \"x\": [-0.6719550924011355], \"y\": [0.5987289485202645], \"type\": \"scatter\", \"uid\": \"cb9b3734-db2b-4b4b-804d-5ae478c192cd\"}, {\"hoverinfo\": \"text\", \"marker\": {\"color\": \"blue\", \"size\": 0.5}, \"mode\": \"markers\", \"text\": \"T-SQL appears with MySQL/MariaDB 40 times\", \"x\": [-0.7835033812586332], \"y\": [0.44285714576631696], \"type\": \"scatter\", \"uid\": \"51cd99e5-8ab8-4022-b359-e4c218bac293\"}, {\"hoverinfo\": \"text\", \"marker\": {\"color\": \"green\", \"size\": 0.5}, \"mode\": \"markers\", \"text\": \"MySQL/MariaDB appears with Pentaho 67 times\", \"x\": [-0.6960290470703405], \"y\": [0.5705642519772456], \"type\": \"scatter\", \"uid\": \"d1f93982-2355-4d52-98c1-aa1ceb2b989e\"}, {\"hoverinfo\": \"text\", \"marker\": {\"color\": \"blue\", \"size\": 0.5}, \"mode\": \"markers\", \"text\": \"Pentaho appears with MySQL/MariaDB 67 times\", \"x\": [-0.8951647019515406], \"y\": [0.09316735683708906], \"type\": \"scatter\", \"uid\": \"442ab6e8-31d8-466f-ace0-c00bc9427092\"}, {\"hoverinfo\": \"text\", \"marker\": {\"color\": \"green\", \"size\": 0.5}, \"mode\": \"markers\", \"text\": \"MySQL/MariaDB appears with Hadoop 6 times\", \"x\": [-0.6626388377083272], \"y\": [0.6090236208560037], \"type\": \"scatter\", \"uid\": \"094da4fc-2d92-4b49-a30f-a01ed6d912a3\"}, {\"hoverinfo\": \"text\", \"marker\": {\"color\": \"blue\", \"size\": 0.5}, \"mode\": \"markers\", \"text\": \"Hadoop appears with MySQL/MariaDB 6 times\", \"x\": [-0.8988297252959813], \"y\": [0.045881640384264157], \"type\": \"scatter\", \"uid\": \"3ccf5ba1-ad45-4545-b9e4-98622c1cbdc0\"}, {\"hoverinfo\": \"text\", \"marker\": {\"color\": \"green\", \"size\": 0.5}, \"mode\": \"markers\", \"text\": \"MySQL/MariaDB appears with Spark 29 times\", \"x\": [-0.6679569407004614], \"y\": [0.6031861448757592], \"type\": \"scatter\", \"uid\": \"6a42ef31-bb87-481f-8dd5-e94f626aa5fe\"}, {\"hoverinfo\": \"text\", \"marker\": {\"color\": \"blue\", \"size\": 0.5}, \"mode\": \"markers\", \"text\": \"Spark appears with MySQL/MariaDB 29 times\", \"x\": [-0.8899608718854545], \"y\": [-0.13405091015312748], \"type\": \"scatter\", \"uid\": \"a1dd63ef-b4d8-4602-a467-91b1d09ed794\"}, {\"hoverinfo\": \"text\", \"marker\": {\"color\": \"green\", \"size\": 0.5}, \"mode\": \"markers\", \"text\": \"MySQL/MariaDB appears with Informatica 11 times\", \"x\": [-0.6636362166771111], \"y\": [0.607936651234724], \"type\": \"scatter\", \"uid\": \"f5619b3b-ff3e-471f-b423-d19d678bd624\"}, {\"hoverinfo\": \"text\", \"marker\": {\"color\": \"blue\", \"size\": 0.5}, \"mode\": \"markers\", \"text\": \"Informatica appears with MySQL/MariaDB 11 times\", \"x\": [-0.8555919174959817], \"y\": [-0.279217604594605], \"type\": \"scatter\", \"uid\": \"25bfa2cc-4d01-41d2-9080-586467021ea5\"}, {\"hoverinfo\": \"text\", \"marker\": {\"color\": \"green\", \"size\": 0.5}, \"mode\": \"markers\", \"text\": \"MySQL/MariaDB appears with Qlik 17 times\", \"x\": [-0.665275070379435], \"y\": [0.6061427890618165], \"type\": \"scatter\", \"uid\": \"ff2b13ea-9ec7-42dd-bbbc-190f9b7f8472\"}, {\"hoverinfo\": \"text\", \"marker\": {\"color\": \"blue\", \"size\": 0.5}, \"mode\": \"markers\", \"text\": \"Qlik appears with MySQL/MariaDB 17 times\", \"x\": [-0.7898653357645787], \"y\": [-0.43140787122804014], \"type\": \"scatter\", \"uid\": \"9b9c786a-c3af-4226-8e7b-b2e6d6f8505c\"}, {\"hoverinfo\": \"text\", \"marker\": {\"color\": \"green\", \"size\": 0.5}, \"mode\": \"markers\", \"text\": \"MySQL/MariaDB appears with Tableau 52 times\", \"x\": [-0.6826971816296307], \"y\": [0.5864508148131087], \"type\": \"scatter\", \"uid\": \"027f7fd1-bdbd-495b-b55b-2a68e85a14ae\"}, {\"hoverinfo\": \"text\", \"marker\": {\"color\": \"blue\", \"size\": 0.5}, \"mode\": \"markers\", \"text\": \"Tableau appears with MySQL/MariaDB 52 times\", \"x\": [-0.5073647757987012], \"y\": [-0.7433579112908758], \"type\": \"scatter\", \"uid\": \"52114d7b-d26b-4e5f-825d-a0aa2c1b8401\"}, {\"hoverinfo\": \"text\", \"marker\": {\"color\": \"green\", \"size\": 0.5}, \"mode\": \"markers\", \"text\": \"MySQL/MariaDB appears with Oracle BI 74 times\", \"x\": [-0.703721390933376], \"y\": [0.5610491992176753], \"type\": \"scatter\", \"uid\": \"636f8805-9a2c-4506-b7c2-3aee608f9a3c\"}, {\"hoverinfo\": \"text\", \"marker\": {\"color\": \"blue\", \"size\": 0.5}, \"mode\": \"markers\", \"text\": \"Oracle BI appears with MySQL/MariaDB 74 times\", \"x\": [0.052361167041179026], \"y\": [-0.8984755467936152], \"type\": \"scatter\", \"uid\": \"79548ccf-a828-4350-bfb0-7bf5a563cce2\"}, {\"hoverinfo\": \"text\", \"marker\": {\"color\": \"green\", \"size\": 0.5}, \"mode\": \"markers\", \"text\": \"MySQL/MariaDB appears with Python 60 times\", \"x\": [-0.6889903231493353], \"y\": [0.5790443287059935], \"type\": \"scatter\", \"uid\": \"67cbf3c1-0a22-42ea-806d-08ae4332dbdb\"}, {\"hoverinfo\": \"text\", \"marker\": {\"color\": \"blue\", \"size\": 0.5}, \"mode\": \"markers\", \"text\": \"Python appears with MySQL/MariaDB 60 times\", \"x\": [0.6082297120756853], \"y\": [-0.6633676336303489], \"type\": \"scatter\", \"uid\": \"4541283d-cc29-467d-8928-07bd1b7a2ade\"}, {\"hoverinfo\": \"text\", \"marker\": {\"color\": \"green\", \"size\": 0.5}, \"mode\": \"markers\", \"text\": \"MySQL/MariaDB appears with VBA 5 times\", \"x\": [-0.6614043236405894], \"y\": [0.6103640886139473], \"type\": \"scatter\", \"uid\": \"f13109d2-b43e-4874-ac8e-eaaadd51bae6\"}, {\"hoverinfo\": \"text\", \"marker\": {\"color\": \"blue\", \"size\": 0.5}, \"mode\": \"markers\", \"text\": \"VBA appears with MySQL/MariaDB 5 times\", \"x\": [0.8133591054434386], \"y\": [-0.3852881591643448], \"type\": \"scatter\", \"uid\": \"b2e56a61-3cac-43c2-af7f-5852a1ae4512\"}, {\"hoverinfo\": \"text\", \"marker\": {\"color\": \"green\", \"size\": 0.5}, \"mode\": \"markers\", \"text\": \"MySQL/MariaDB appears with Linux 48 times\", \"x\": [-0.6770110070518606], \"y\": [0.593005983385181], \"type\": \"scatter\", \"uid\": \"2ad821fb-8883-4914-8a2b-f4c8e9669c4a\"}, {\"hoverinfo\": \"text\", \"marker\": {\"color\": \"blue\", \"size\": 0.5}, \"mode\": \"markers\", \"text\": \"Linux appears with MySQL/MariaDB 48 times\", \"x\": [0.877455774487229], \"y\": [-0.20017833004353205], \"type\": \"scatter\", \"uid\": \"e7bcb024-5369-4cae-904a-bcdaec59bbe0\"}, {\"hoverinfo\": \"text\", \"marker\": {\"color\": \"green\", \"size\": 0.5}, \"mode\": \"markers\", \"text\": \"MySQL/MariaDB appears with AWS 2 times\", \"x\": [-0.6609922161102467], \"y\": [0.6108103553818198], \"type\": \"scatter\", \"uid\": \"cbcf3098-8c71-4cac-9bbd-c461e8c8f0c1\"}, {\"hoverinfo\": \"text\", \"marker\": {\"color\": \"blue\", \"size\": 0.5}, \"mode\": \"markers\", \"text\": \"AWS appears with MySQL/MariaDB 2 times\", \"x\": [0.894441530614386], \"y\": [-0.09987165920417268], \"type\": \"scatter\", \"uid\": \"87f4bb3a-fd74-4e4b-8a81-9a39b7aea18d\"}, {\"hoverinfo\": \"text\", \"marker\": {\"color\": \"green\", \"size\": 0.5}, \"mode\": \"markers\", \"text\": \"T-SQL appears with PL/SQL 44 times\", \"x\": [-0.7909039641988963], \"y\": [0.4295007792943698], \"type\": \"scatter\", \"uid\": \"18961233-fab3-42ce-a906-ff442e796bc8\"}, {\"hoverinfo\": \"text\", \"marker\": {\"color\": \"blue\", \"size\": 0.5}, \"mode\": \"markers\", \"text\": \"PL/SQL appears with T-SQL 44 times\", \"x\": [-0.8718087947262919], \"y\": [0.22349368097977668], \"type\": \"scatter\", \"uid\": \"40e04e7a-0638-4f0d-aae4-d952b46f89ed\"}, {\"hoverinfo\": \"text\", \"marker\": {\"color\": \"green\", \"size\": 0.5}, \"mode\": \"markers\", \"text\": \"T-SQL appears with Pentaho 41 times\", \"x\": [-0.7871428179859365], \"y\": [0.43635557071402076], \"type\": \"scatter\", \"uid\": \"913faad8-5456-4529-b8ff-4342b25601c2\"}, {\"hoverinfo\": \"text\", \"marker\": {\"color\": \"blue\", \"size\": 0.5}, \"mode\": \"markers\", \"text\": \"Pentaho appears with T-SQL 41 times\", \"x\": [-0.892368479502829], \"y\": [0.11695510587319011], \"type\": \"scatter\", \"uid\": \"fb8e7095-4290-4dce-b2f4-754ba8dc6e0f\"}, {\"hoverinfo\": \"text\", \"marker\": {\"color\": \"green\", \"size\": 0.5}, \"mode\": \"markers\", \"text\": \"T-SQL appears with Hadoop 19 times\", \"x\": [-0.7701776111659816], \"y\": [0.4656462683826234], \"type\": \"scatter\", \"uid\": \"fb2c643c-4df0-44a0-83e2-0d638ddfde5f\"}, {\"hoverinfo\": \"text\", \"marker\": {\"color\": \"blue\", \"size\": 0.5}, \"mode\": \"markers\", \"text\": \"Hadoop appears with T-SQL 19 times\", \"x\": [-0.899063576850737], \"y\": [0.04104491174748483], \"type\": \"scatter\", \"uid\": \"afd7e7d5-90f7-4765-a631-63ed3475355f\"}, {\"hoverinfo\": \"text\", \"marker\": {\"color\": \"green\", \"size\": 0.5}, \"mode\": \"markers\", \"text\": \"T-SQL appears with Spark 20 times\", \"x\": [-0.7720275964657278], \"y\": [0.46257257840835225], \"type\": \"scatter\", \"uid\": \"133790b0-e1be-4fcc-89ca-60a390e095a8\"}, {\"hoverinfo\": \"text\", \"marker\": {\"color\": \"blue\", \"size\": 0.5}, \"mode\": \"markers\", \"text\": \"Spark appears with T-SQL 20 times\", \"x\": [-0.8919781032324227], \"y\": [-0.11989605228651073], \"type\": \"scatter\", \"uid\": \"2b691873-086c-40e0-9f12-0ba6ee26b9d8\"}, {\"hoverinfo\": \"text\", \"marker\": {\"color\": \"green\", \"size\": 0.5}, \"mode\": \"markers\", \"text\": \"T-SQL appears with Informatica 13 times\", \"x\": [-0.7670190045296111], \"y\": [0.47083101712865566], \"type\": \"scatter\", \"uid\": \"2021837f-dec5-4b1d-b270-84f02d8f6cae\"}, {\"hoverinfo\": \"text\", \"marker\": {\"color\": \"blue\", \"size\": 0.5}, \"mode\": \"markers\", \"text\": \"Informatica appears with T-SQL 13 times\", \"x\": [-0.854953175037561], \"y\": [-0.2811673318385224], \"type\": \"scatter\", \"uid\": \"31263a66-dc0d-4207-bf97-d16feaac7d53\"}, {\"hoverinfo\": \"text\", \"marker\": {\"color\": \"green\", \"size\": 0.5}, \"mode\": \"markers\", \"text\": \"T-SQL appears with Qlik 76 times\", \"x\": [-0.8042783625625611], \"y\": [0.403901368546438], \"type\": \"scatter\", \"uid\": \"ebd1173c-2734-49bc-bcae-c5cc02ac65b6\"}, {\"hoverinfo\": \"text\", \"marker\": {\"color\": \"blue\", \"size\": 0.5}, \"mode\": \"markers\", \"text\": \"Qlik appears with T-SQL 76 times\", \"x\": [-0.7615558271887578], \"y\": [-0.4796172662392867], \"type\": \"scatter\", \"uid\": \"1e0c6c0f-a884-4661-af95-749ca369e878\"}, {\"hoverinfo\": \"text\", \"marker\": {\"color\": \"green\", \"size\": 0.5}, \"mode\": \"markers\", \"text\": \"T-SQL appears with Tableau 100 times\", \"x\": [-0.8114134342162918], \"y\": [0.3893690264688805], \"type\": \"scatter\", \"uid\": \"ef39bb6f-6d42-4ff5-ad09-1600e3ceafb2\"}, {\"hoverinfo\": \"text\", \"marker\": {\"color\": \"blue\", \"size\": 0.5}, \"mode\": \"markers\", \"text\": \"Tableau appears with T-SQL 100 times\", \"x\": [-0.4612328772379685], \"y\": [-0.7728287216161063], \"type\": \"scatter\", \"uid\": \"27233049-6a81-4402-b568-34d106b1a842\"}, {\"hoverinfo\": \"text\", \"marker\": {\"color\": \"green\", \"size\": 0.5}, \"mode\": \"markers\", \"text\": \"T-SQL appears with Microstrategy 17 times\", \"x\": [-0.7684590702632016], \"y\": [0.46847695496173103], \"type\": \"scatter\", \"uid\": \"974d1b5b-6a2f-40d9-92ef-fa6708922522\"}, {\"hoverinfo\": \"text\", \"marker\": {\"color\": \"blue\", \"size\": 0.5}, \"mode\": \"markers\", \"text\": \"Microstrategy appears with T-SQL 17 times\", \"x\": [-0.0830618293811153], \"y\": [-0.896158876818091], \"type\": \"scatter\", \"uid\": \"7596e96a-507c-4399-b8e8-a9ba2963a01a\"}, {\"hoverinfo\": \"text\", \"marker\": {\"color\": \"green\", \"size\": 0.5}, \"mode\": \"markers\", \"text\": \"T-SQL appears with Oracle BI 144 times\", \"x\": [-0.8304565718605984], \"y\": [0.3469032750689199], \"type\": \"scatter\", \"uid\": \"c941661f-6902-4645-8ed3-ee2dbf874ee4\"}, {\"hoverinfo\": \"text\", \"marker\": {\"color\": \"blue\", \"size\": 0.5}, \"mode\": \"markers\", \"text\": \"Oracle BI appears with T-SQL 144 times\", \"x\": [0.13391059415209106], \"y\": [-0.8899819957582479], \"type\": \"scatter\", \"uid\": \"c518fe11-b173-4e6c-b196-0dff136ceabd\"}, {\"hoverinfo\": \"text\", \"marker\": {\"color\": \"green\", \"size\": 0.5}, \"mode\": \"markers\", \"text\": \"T-SQL appears with Python 50 times\", \"x\": [-0.799010314141559], \"y\": [0.4142252019076185], \"type\": \"scatter\", \"uid\": \"46c7da50-1c9a-4da3-be93-7b7cc3c4fddf\"}, {\"hoverinfo\": \"text\", \"marker\": {\"color\": \"blue\", \"size\": 0.5}, \"mode\": \"markers\", \"text\": \"Python appears with T-SQL 50 times\", \"x\": [0.5925907114826784], \"y\": [-0.677374526140785], \"type\": \"scatter\", \"uid\": \"c2aa1c14-b612-489d-8a42-238431cb4839\"}, {\"hoverinfo\": \"text\", \"marker\": {\"color\": \"green\", \"size\": 0.5}, \"mode\": \"markers\", \"text\": \"T-SQL appears with VBA 27 times\", \"x\": [-0.7742407641597595], \"y\": [0.4588586264998312], \"type\": \"scatter\", \"uid\": \"4bd4c8d6-5baa-4f32-9221-787ef342a1cb\"}, {\"hoverinfo\": \"text\", \"marker\": {\"color\": \"blue\", \"size\": 0.5}, \"mode\": \"markers\", \"text\": \"VBA appears with T-SQL 27 times\", \"x\": [0.8171907571744609], \"y\": [-0.37709317998159453], \"type\": \"scatter\", \"uid\": \"243f694c-b486-4e85-b87a-6ad90194e3da\"}, {\"hoverinfo\": \"text\", \"marker\": {\"color\": \"green\", \"size\": 0.5}, \"mode\": \"markers\", \"text\": \"T-SQL appears with Linux 28 times\", \"x\": [-0.7768079507801132], \"y\": [0.45449907327166383], \"type\": \"scatter\", \"uid\": \"814c51b8-9b56-4eb7-a7fc-1b672371a7a4\"}, {\"hoverinfo\": \"text\", \"marker\": {\"color\": \"blue\", \"size\": 0.5}, \"mode\": \"markers\", \"text\": \"Linux appears with T-SQL 28 times\", \"x\": [0.8727479659313977], \"y\": [-0.21979760681728977], \"type\": \"scatter\", \"uid\": \"2a46b4a2-cfbe-4fdf-b232-596e77a781e5\"}, {\"hoverinfo\": \"text\", \"marker\": {\"color\": \"green\", \"size\": 0.5}, \"mode\": \"markers\", \"text\": \"T-SQL appears with AWS 10 times\", \"x\": [-0.7659100697639649], \"y\": [0.4726328014792862], \"type\": \"scatter\", \"uid\": \"99cb2686-c04a-4e76-b3bb-fd58c0245b07\"}, {\"hoverinfo\": \"text\", \"marker\": {\"color\": \"blue\", \"size\": 0.5}, \"mode\": \"markers\", \"text\": \"AWS appears with T-SQL 10 times\", \"x\": [0.895021933120764], \"y\": [-0.09452903909789238], \"type\": \"scatter\", \"uid\": \"6d621f9b-dc27-4fe2-8dd9-82d7b084f6c5\"}, {\"hoverinfo\": \"text\", \"marker\": {\"color\": \"green\", \"size\": 0.5}, \"mode\": \"markers\", \"text\": \"PL/SQL appears with Pentaho 8 times\", \"x\": [-0.8666435875649555], \"y\": [0.24275273867156122], \"type\": \"scatter\", \"uid\": \"57d86ec2-eee2-4592-a66b-f47035ce36b1\"}, {\"hoverinfo\": \"text\", \"marker\": {\"color\": \"blue\", \"size\": 0.5}, \"mode\": \"markers\", \"text\": \"Pentaho appears with PL/SQL 8 times\", \"x\": [-0.8846645146220857], \"y\": [0.1654348710776222], \"type\": \"scatter\", \"uid\": \"0bf380ce-c12f-41fd-ab27-e0516d6f04b5\"}, {\"hoverinfo\": \"text\", \"marker\": {\"color\": \"green\", \"size\": 0.5}, \"mode\": \"markers\", \"text\": \"PL/SQL appears with Hadoop 3 times\", \"x\": [-0.8661908874243198], \"y\": [0.2443631448133478], \"type\": \"scatter\", \"uid\": \"1068c882-23a9-456f-88b3-ab71b6d6f92e\"}, {\"hoverinfo\": \"text\", \"marker\": {\"color\": \"blue\", \"size\": 0.5}, \"mode\": \"markers\", \"text\": \"Hadoop appears with PL/SQL 3 times\", \"x\": [-0.8987098712366473], \"y\": [0.048172267351754554], \"type\": \"scatter\", \"uid\": \"0e0ed4a4-f54e-4b62-8752-e2fcca1a42ad\"}, {\"hoverinfo\": \"text\", \"marker\": {\"color\": \"green\", \"size\": 0.5}, \"mode\": \"markers\", \"text\": \"PL/SQL appears with Informatica 32 times\", \"x\": [-0.8705320479343438], \"y\": [0.22841618488898163], \"type\": \"scatter\", \"uid\": \"566e4f9d-c6a9-4359-b892-bfa50346fffd\"}, {\"hoverinfo\": \"text\", \"marker\": {\"color\": \"blue\", \"size\": 0.5}, \"mode\": \"markers\", \"text\": \"Informatica appears with PL/SQL 32 times\", \"x\": [-0.8481218975897333], \"y\": [-0.3011465537388565], \"type\": \"scatter\", \"uid\": \"88132e94-1fa8-444f-9e46-cd80321962cb\"}, {\"hoverinfo\": \"text\", \"marker\": {\"color\": \"green\", \"size\": 0.5}, \"mode\": \"markers\", \"text\": \"PL/SQL appears with Qlik 20 times\", \"x\": [-0.8679660266036088], \"y\": [0.237981042652442], \"type\": \"scatter\", \"uid\": \"2cfdd9aa-a142-48cd-8bbc-e4bf77ec732b\"}, {\"hoverinfo\": \"text\", \"marker\": {\"color\": \"blue\", \"size\": 0.5}, \"mode\": \"markers\", \"text\": \"Qlik appears with PL/SQL 20 times\", \"x\": [-0.788152266389967], \"y\": [-0.4345296364856583], \"type\": \"scatter\", \"uid\": \"c6e55387-f365-4527-be8a-56387a289ebd\"}, {\"hoverinfo\": \"text\", \"marker\": {\"color\": \"green\", \"size\": 0.5}, \"mode\": \"markers\", \"text\": \"PL/SQL appears with Tableau 22 times\", \"x\": [-0.8687049153158289], \"y\": [0.23526956901843135], \"type\": \"scatter\", \"uid\": \"f72e859e-f411-4106-a0d2-01086b6fbe9c\"}, {\"hoverinfo\": \"text\", \"marker\": {\"color\": \"blue\", \"size\": 0.5}, \"mode\": \"markers\", \"text\": \"Tableau appears with PL/SQL 22 times\", \"x\": [-0.5368252864446185], \"y\": [-0.7223701349264471], \"type\": \"scatter\", \"uid\": \"acdeaed3-3fe4-4f87-959e-7595dd2a0a67\"}, {\"hoverinfo\": \"text\", \"marker\": {\"color\": \"green\", \"size\": 0.5}, \"mode\": \"markers\", \"text\": \"PL/SQL appears with Microstrategy 26 times\", \"x\": [-0.8695389871523244], \"y\": [0.23216793452608797], \"type\": \"scatter\", \"uid\": \"232329d9-6d74-4ebc-afe2-f3d728b7dbf1\"}, {\"hoverinfo\": \"text\", \"marker\": {\"color\": \"blue\", \"size\": 0.5}, \"mode\": \"markers\", \"text\": \"Microstrategy appears with PL/SQL 26 times\", \"x\": [-0.07491718102544773], \"y\": [-0.8968764775526228], \"type\": \"scatter\", \"uid\": \"55fbd5c7-cfce-467f-92a8-a3fdbc62721c\"}, {\"hoverinfo\": \"text\", \"marker\": {\"color\": \"green\", \"size\": 0.5}, \"mode\": \"markers\", \"text\": \"PL/SQL appears with Oracle BI 86 times\", \"x\": [-0.8771791998580565], \"y\": [0.2013868201655208], \"type\": \"scatter\", \"uid\": \"a26643b3-861d-4e66-84c6-bd14d155fa9a\"}, {\"hoverinfo\": \"text\", \"marker\": {\"color\": \"blue\", \"size\": 0.5}, \"mode\": \"markers\", \"text\": \"Oracle BI appears with PL/SQL 86 times\", \"x\": [0.08475556045621113], \"y\": [-0.8960002762118735], \"type\": \"scatter\", \"uid\": \"b605ddc7-d940-4112-a8c5-a809dbf88f57\"}, {\"hoverinfo\": \"text\", \"marker\": {\"color\": \"green\", \"size\": 0.5}, \"mode\": \"markers\", \"text\": \"PL/SQL appears with Python 3 times\", \"x\": [-0.8660817940517569], \"y\": [0.24474951687815508], \"type\": \"scatter\", \"uid\": \"a13493ca-0766-45b3-a278-3993de199277\"}, {\"hoverinfo\": \"text\", \"marker\": {\"color\": \"blue\", \"size\": 0.5}, \"mode\": \"markers\", \"text\": \"Python appears with PL/SQL 3 times\", \"x\": [0.5713626210642937], \"y\": [-0.6953738241050926], \"type\": \"scatter\", \"uid\": \"b3e0172d-72e1-42f1-ad04-b4e12ee6cf34\"}, {\"hoverinfo\": \"text\", \"marker\": {\"color\": \"green\", \"size\": 0.5}, \"mode\": \"markers\", \"text\": \"PL/SQL appears with VBA 7 times\", \"x\": [-0.8663723266648692], \"y\": [0.24371908335069123], \"type\": \"scatter\", \"uid\": \"69ae425c-45a2-437c-b0ab-05b0cb02713d\"}, {\"hoverinfo\": \"text\", \"marker\": {\"color\": \"blue\", \"size\": 0.5}, \"mode\": \"markers\", \"text\": \"VBA appears with PL/SQL 7 times\", \"x\": [0.815249076553084], \"y\": [-0.3812727936521878], \"type\": \"scatter\", \"uid\": \"0f0473a1-dafe-48b5-b697-729daab2e1f8\"}, {\"hoverinfo\": \"text\", \"marker\": {\"color\": \"green\", \"size\": 0.5}, \"mode\": \"markers\", \"text\": \"PL/SQL appears with Linux 1 times\", \"x\": [-0.865863090294427], \"y\": [0.2455221148202034], \"type\": \"scatter\", \"uid\": \"841de9ff-f947-4ee7-b4dd-cce2fe52a332\"}, {\"hoverinfo\": \"text\", \"marker\": {\"color\": \"blue\", \"size\": 0.5}, \"mode\": \"markers\", \"text\": \"Linux appears with PL/SQL 1 times\", \"x\": [0.8681925280645245], \"y\": [-0.23715339806321536], \"type\": \"scatter\", \"uid\": \"075cc281-8f59-4298-a624-00528ebf0fe5\"}, {\"hoverinfo\": \"text\", \"marker\": {\"color\": \"green\", \"size\": 0.5}, \"mode\": \"markers\", \"text\": \"PL/SQL appears with AWS 2 times\", \"x\": [-0.8659178308534887], \"y\": [0.2453289836321604], \"type\": \"scatter\", \"uid\": \"5ec280ad-45ea-4a29-ba1d-1cffdb94efcc\"}, {\"hoverinfo\": \"text\", \"marker\": {\"color\": \"blue\", \"size\": 0.5}, \"mode\": \"markers\", \"text\": \"AWS appears with PL/SQL 2 times\", \"x\": [0.8944083507525155], \"y\": [-0.10016836878059497], \"type\": \"scatter\", \"uid\": \"0ae30d28-8cdf-43de-8039-7bac36442c61\"}, {\"hoverinfo\": \"text\", \"marker\": {\"color\": \"green\", \"size\": 0.5}, \"mode\": \"markers\", \"text\": \"Pentaho appears with Spark 8 times\", \"x\": [-0.8844303734705709], \"y\": [0.16668207606910362], \"type\": \"scatter\", \"uid\": \"59f79ea5-ad9f-4757-a491-b639f458da6d\"}, {\"hoverinfo\": \"text\", \"marker\": {\"color\": \"blue\", \"size\": 0.5}, \"mode\": \"markers\", \"text\": \"Spark appears with Pentaho 8 times\", \"x\": [-0.8934715650550835], \"y\": [-0.10820611090885583], \"type\": \"scatter\", \"uid\": \"08282b9a-d84d-43e9-9cff-f6a07063cdd6\"}, {\"hoverinfo\": \"text\", \"marker\": {\"color\": \"green\", \"size\": 0.5}, \"mode\": \"markers\", \"text\": \"Pentaho appears with Informatica 36 times\", \"x\": [-0.8868821478956018], \"y\": [0.15310145572163536], \"type\": \"scatter\", \"uid\": \"57238db0-37bd-4ed9-945a-39e276d27f54\"}, {\"hoverinfo\": \"text\", \"marker\": {\"color\": \"blue\", \"size\": 0.5}, \"mode\": \"markers\", \"text\": \"Informatica appears with Pentaho 36 times\", \"x\": [-0.8461591073587064], \"y\": [-0.3066182725049461], \"type\": \"scatter\", \"uid\": \"078404fd-10c5-40e3-873a-11aeededc8fa\"}, {\"hoverinfo\": \"text\", \"marker\": {\"color\": \"green\", \"size\": 0.5}, \"mode\": \"markers\", \"text\": \"Pentaho appears with Qlik 33 times\", \"x\": [-0.8859348108482094], \"y\": [0.1584913591567297], \"type\": \"scatter\", \"uid\": \"13c931ee-c2b8-412f-b2f0-3f277d92299c\"}, {\"hoverinfo\": \"text\", \"marker\": {\"color\": \"blue\", \"size\": 0.5}, \"mode\": \"markers\", \"text\": \"Qlik appears with Pentaho 33 times\", \"x\": [-0.7827492143755145], \"y\": [-0.4441887745030427], \"type\": \"scatter\", \"uid\": \"f48708e4-5f61-42a0-ae2a-c5c10438e44c\"}, {\"hoverinfo\": \"text\", \"marker\": {\"color\": \"green\", \"size\": 0.5}, \"mode\": \"markers\", \"text\": \"Pentaho appears with Tableau 41 times\", \"x\": [-0.8915000460540626], \"y\": [0.12340043713700621], \"type\": \"scatter\", \"uid\": \"029670a9-b235-4efc-a75b-481249f21839\"}, {\"hoverinfo\": \"text\", \"marker\": {\"color\": \"blue\", \"size\": 0.5}, \"mode\": \"markers\", \"text\": \"Tableau appears with Pentaho 41 times\", \"x\": [-0.5148487153872566], \"y\": [-0.7381942835487766], \"type\": \"scatter\", \"uid\": \"a4ec2ffd-db8a-4e07-af16-25c54b3f9f1d\"}, {\"hoverinfo\": \"text\", \"marker\": {\"color\": \"green\", \"size\": 0.5}, \"mode\": \"markers\", \"text\": \"Pentaho appears with Microstrategy 4 times\", \"x\": [-0.8842536136866799], \"y\": [0.1676172624822635], \"type\": \"scatter\", \"uid\": \"af46de28-3079-4dcc-914a-61616a42f2e1\"}, {\"hoverinfo\": \"text\", \"marker\": {\"color\": \"blue\", \"size\": 0.5}, \"mode\": \"markers\", \"text\": \"Microstrategy appears with Pentaho 4 times\", \"x\": [-0.08864473101313779], \"y\": [-0.8956238672922961], \"type\": \"scatter\", \"uid\": \"a4ea3fcf-5ae6-432d-85f9-6fcf4b146c2a\"}, {\"hoverinfo\": \"text\", \"marker\": {\"color\": \"green\", \"size\": 0.5}, \"mode\": \"markers\", \"text\": \"Pentaho appears with Oracle BI 40 times\", \"x\": [-0.8905964989421524], \"y\": [0.12976084182826766], \"type\": \"scatter\", \"uid\": \"4de29420-b735-4750-a6e6-1ac6817b4447\"}, {\"hoverinfo\": \"text\", \"marker\": {\"color\": \"blue\", \"size\": 0.5}, \"mode\": \"markers\", \"text\": \"Oracle BI appears with Pentaho 40 times\", \"x\": [0.009598086678507632], \"y\": [-0.8999488189514512], \"type\": \"scatter\", \"uid\": \"5c56b1e9-5606-4606-94ca-a2046904fa75\"}, {\"hoverinfo\": \"text\", \"marker\": {\"color\": \"green\", \"size\": 0.5}, \"mode\": \"markers\", \"text\": \"Pentaho appears with Python 38 times\", \"x\": [-0.8896835281404922], \"y\": [0.13587943095069993], \"type\": \"scatter\", \"uid\": \"1b9ed0cf-f8cc-45fa-b363-d6af8fb0431a\"}, {\"hoverinfo\": \"text\", \"marker\": {\"color\": \"blue\", \"size\": 0.5}, \"mode\": \"markers\", \"text\": \"Python appears with Pentaho 38 times\", \"x\": [0.5861858776524818], \"y\": [-0.6829246787463386], \"type\": \"scatter\", \"uid\": \"87ab0a16-a496-4ce1-80d6-d9f215741a29\"}, {\"hoverinfo\": \"text\", \"marker\": {\"color\": \"green\", \"size\": 0.5}, \"mode\": \"markers\", \"text\": \"Pentaho appears with VBA 1 times\", \"x\": [-0.8841796719157846], \"y\": [0.16800686822536634], \"type\": \"scatter\", \"uid\": \"93efa1df-d3c2-44cf-8aa1-087ca83331cf\"}, {\"hoverinfo\": \"text\", \"marker\": {\"color\": \"blue\", \"size\": 0.5}, \"mode\": \"markers\", \"text\": \"VBA appears with Pentaho 1 times\", \"x\": [0.812773594954757], \"y\": [-0.38652177602862264], \"type\": \"scatter\", \"uid\": \"48840c09-8c62-43ce-a061-21ca2f7bd275\"}, {\"hoverinfo\": \"text\", \"marker\": {\"color\": \"green\", \"size\": 0.5}, \"mode\": \"markers\", \"text\": \"Pentaho appears with Linux 37 times\", \"x\": [-0.8887660295824242], \"y\": [0.1417566388579154], \"type\": \"scatter\", \"uid\": \"1f075c70-07b7-4d3c-a31a-529b045a4b38\"}, {\"hoverinfo\": \"text\", \"marker\": {\"color\": \"blue\", \"size\": 0.5}, \"mode\": \"markers\", \"text\": \"Linux appears with Pentaho 37 times\", \"x\": [0.8740450555807177], \"y\": [-0.21458154816968802], \"type\": \"scatter\", \"uid\": \"de1243e3-0286-4a77-9ea7-25020689caa3\"}, {\"hoverinfo\": \"text\", \"marker\": {\"color\": \"green\", \"size\": 0.5}, \"mode\": \"markers\", \"text\": \"Pentaho appears with AWS 15 times\", \"x\": [-0.8852564723514793], \"y\": [0.16223741294724436], \"type\": \"scatter\", \"uid\": \"ceb78e0b-939c-4374-9b8c-1185753f1435\"}, {\"hoverinfo\": \"text\", \"marker\": {\"color\": \"blue\", \"size\": 0.5}, \"mode\": \"markers\", \"text\": \"AWS appears with Pentaho 15 times\", \"x\": [0.8952159988251726], \"y\": [-0.09267316465648912], \"type\": \"scatter\", \"uid\": \"3b9f67b8-275f-413a-b3b9-da0423c5de8c\"}, {\"hoverinfo\": \"text\", \"marker\": {\"color\": \"green\", \"size\": 0.5}, \"mode\": \"markers\", \"text\": \"Hadoop appears with Spark 143 times\", \"x\": [-0.899096674580065], \"y\": [-0.0403133942886086], \"type\": \"scatter\", \"uid\": \"56b30248-eb2e-43ef-b1c0-2d6c3b61783c\"}, {\"hoverinfo\": \"text\", \"marker\": {\"color\": \"blue\", \"size\": 0.5}, \"mode\": \"markers\", \"text\": \"Spark appears with Hadoop 143 times\", \"x\": [-0.8758643460518786], \"y\": [-0.20703054681644217], \"type\": \"scatter\", \"uid\": \"f2ef0afd-053f-46ab-853b-94fe80915697\"}, {\"hoverinfo\": \"text\", \"marker\": {\"color\": \"green\", \"size\": 0.5}, \"mode\": \"markers\", \"text\": \"Hadoop appears with Informatica 5 times\", \"x\": [-0.8987816005850896], \"y\": [0.04681489559642927], \"type\": \"scatter\", \"uid\": \"7ca73058-d822-4a93-8648-92e826c2f0c8\"}, {\"hoverinfo\": \"text\", \"marker\": {\"color\": \"blue\", \"size\": 0.5}, \"mode\": \"markers\", \"text\": \"Informatica appears with Hadoop 5 times\", \"x\": [-0.8568560600320855], \"y\": [-0.2753138071116144], \"type\": \"scatter\", \"uid\": \"10b836e9-dd96-436c-b725-6183c1f0a258\"}, {\"hoverinfo\": \"text\", \"marker\": {\"color\": \"green\", \"size\": 0.5}, \"mode\": \"markers\", \"text\": \"Hadoop appears with Qlik 9 times\", \"x\": [-0.8989519543642626], \"y\": [0.04342100579987537], \"type\": \"scatter\", \"uid\": \"fdbc0fb4-37f2-498c-b1cc-5cff18800b2e\"}, {\"hoverinfo\": \"text\", \"marker\": {\"color\": \"blue\", \"size\": 0.5}, \"mode\": \"markers\", \"text\": \"Qlik appears with Hadoop 9 times\", \"x\": [-0.7937992488701339], \"y\": [-0.42412586869137253], \"type\": \"scatter\", \"uid\": \"7fc3e303-03bf-45d4-959a-f6ee7600f110\"}, {\"hoverinfo\": \"text\", \"marker\": {\"color\": \"green\", \"size\": 0.5}, \"mode\": \"markers\", \"text\": \"Hadoop appears with Tableau 38 times\", \"x\": [-0.899863798438409], \"y\": [0.015657083380961598], \"type\": \"scatter\", \"uid\": \"863020db-9273-41d3-a67b-4b98d0aec00a\"}, {\"hoverinfo\": \"text\", \"marker\": {\"color\": \"blue\", \"size\": 0.5}, \"mode\": \"markers\", \"text\": \"Tableau appears with Hadoop 38 times\", \"x\": [-0.5211647927359915], \"y\": [-0.7337487709103513], \"type\": \"scatter\", \"uid\": \"eb480309-da0a-4ef7-8ad3-58498c036d3e\"}, {\"hoverinfo\": \"text\", \"marker\": {\"color\": \"green\", \"size\": 0.5}, \"mode\": \"markers\", \"text\": \"Hadoop appears with Microstrategy 3 times\", \"x\": [-0.8986824442194], \"y\": [0.048681253597715156], \"type\": \"scatter\", \"uid\": \"6912f91d-469d-4817-8ccd-586c22fba104\"}, {\"hoverinfo\": \"text\", \"marker\": {\"color\": \"blue\", \"size\": 0.5}, \"mode\": \"markers\", \"text\": \"Microstrategy appears with Hadoop 3 times\", \"x\": [-0.08911542376078328], \"y\": [-0.8955771553852498], \"type\": \"scatter\", \"uid\": \"61803c08-1016-415c-b62a-2d498815f337\"}, {\"hoverinfo\": \"text\", \"marker\": {\"color\": \"green\", \"size\": 0.5}, \"mode\": \"markers\", \"text\": \"Hadoop appears with Oracle BI 36 times\", \"x\": [-0.8997324798667615], \"y\": [0.02194230327034411], \"type\": \"scatter\", \"uid\": \"3fd4b16c-574a-4d55-a1cb-50bc037e5b6d\"}, {\"hoverinfo\": \"text\", \"marker\": {\"color\": \"blue\", \"size\": 0.5}, \"mode\": \"markers\", \"text\": \"Oracle BI appears with Hadoop 36 times\", \"x\": [0.002069959740978422], \"y\": [-0.8999976195894468], \"type\": \"scatter\", \"uid\": \"3675e7f1-9f4b-4cfc-9f27-f319f0cdb490\"}, {\"hoverinfo\": \"text\", \"marker\": {\"color\": \"green\", \"size\": 0.5}, \"mode\": \"markers\", \"text\": \"Hadoop appears with Python 156 times\", \"x\": [-0.8976009599462662], \"y\": [-0.06566975486128618], \"type\": \"scatter\", \"uid\": \"7b1c92c0-4093-4cfb-8fe3-aacde87ddb9f\"}, {\"hoverinfo\": \"text\", \"marker\": {\"color\": \"blue\", \"size\": 0.5}, \"mode\": \"markers\", \"text\": \"Python appears with Hadoop 156 times\", \"x\": [0.7019956091081574], \"y\": [-0.563207035461088], \"type\": \"scatter\", \"uid\": \"f7888fc4-3a92-4c15-a9d3-19aad84a24c2\"}, {\"hoverinfo\": \"text\", \"marker\": {\"color\": \"green\", \"size\": 0.5}, \"mode\": \"markers\", \"text\": \"Hadoop appears with VBA 7 times\", \"x\": [-0.8988853505955301], \"y\": [0.044778638710338416], \"type\": \"scatter\", \"uid\": \"994f0042-d10b-46d5-95bc-2ce2da24894b\"}, {\"hoverinfo\": \"text\", \"marker\": {\"color\": \"blue\", \"size\": 0.5}, \"mode\": \"markers\", \"text\": \"VBA appears with Hadoop 7 times\", \"x\": [0.8147421862957052], \"y\": [-0.38235476964475607], \"type\": \"scatter\", \"uid\": \"0aaaa908-03e3-44d0-acbf-7559470fcb7a\"}, {\"hoverinfo\": \"text\", \"marker\": {\"color\": \"green\", \"size\": 0.5}, \"mode\": \"markers\", \"text\": \"Hadoop appears with Linux 99 times\", \"x\": [-0.8997829123383151], \"y\": [-0.019766402403575304], \"type\": \"scatter\", \"uid\": \"d10ce5c1-4bb2-40bc-bc52-367c440c02a6\"}, {\"hoverinfo\": \"text\", \"marker\": {\"color\": \"blue\", \"size\": 0.5}, \"mode\": \"markers\", \"text\": \"Linux appears with Hadoop 99 times\", \"x\": [0.8867739019452636], \"y\": [-0.15372718311597328], \"type\": \"scatter\", \"uid\": \"4282879a-c378-4ef8-a843-650db0df2046\"}, {\"hoverinfo\": \"text\", \"marker\": {\"color\": \"green\", \"size\": 0.5}, \"mode\": \"markers\", \"text\": \"Hadoop appears with AWS 54 times\", \"x\": [-0.8999658344095868], \"y\": [0.00784199562969242], \"type\": \"scatter\", \"uid\": \"5fc32075-f659-4b1c-8701-285db57f8f30\"}, {\"hoverinfo\": \"text\", \"marker\": {\"color\": \"blue\", \"size\": 0.5}, \"mode\": \"markers\", \"text\": \"AWS appears with Hadoop 54 times\", \"x\": [0.8977075563048373], \"y\": [-0.06419613191771946], \"type\": \"scatter\", \"uid\": \"6e368936-394f-495e-b192-3923ae3164bd\"}, {\"hoverinfo\": \"text\", \"marker\": {\"color\": \"green\", \"size\": 0.5}, \"mode\": \"markers\", \"text\": \"Spark appears with Informatica 15 times\", \"x\": [-0.8927329828828491], \"y\": [-0.11413948165771011], \"type\": \"scatter\", \"uid\": \"c4b86ea9-7d74-4816-bb4a-fdea635dec17\"}, {\"hoverinfo\": \"text\", \"marker\": {\"color\": \"blue\", \"size\": 0.5}, \"mode\": \"markers\", \"text\": \"Informatica appears with Spark 15 times\", \"x\": [-0.8542023602256331], \"y\": [-0.28344016614615114], \"type\": \"scatter\", \"uid\": \"d0a8fadc-20f6-4928-9705-b6de6351a5cf\"}, {\"hoverinfo\": \"text\", \"marker\": {\"color\": \"green\", \"size\": 0.5}, \"mode\": \"markers\", \"text\": \"Spark appears with Qlik 16 times\", \"x\": [-0.8923883263361101], \"y\": [-0.11680357451309552], \"type\": \"scatter\", \"uid\": \"2c5177bf-0a5e-4091-b7fa-7c83857102cc\"}, {\"hoverinfo\": \"text\", \"marker\": {\"color\": \"blue\", \"size\": 0.5}, \"mode\": \"markers\", \"text\": \"Qlik appears with Spark 16 times\", \"x\": [-0.7913827772826401], \"y\": [-0.4286178948905603], \"type\": \"scatter\", \"uid\": \"7cf79d12-0155-4d7b-a747-dc088af8dc08\"}, {\"hoverinfo\": \"text\", \"marker\": {\"color\": \"green\", \"size\": 0.5}, \"mode\": \"markers\", \"text\": \"Spark appears with Tableau 36 times\", \"x\": [-0.8881433199160216], \"y\": [-0.14560715397447815], \"type\": \"scatter\", \"uid\": \"f84edc1e-2c7b-4735-8c57-714af0f5c9e6\"}, {\"hoverinfo\": \"text\", \"marker\": {\"color\": \"blue\", \"size\": 0.5}, \"mode\": \"markers\", \"text\": \"Tableau appears with Spark 36 times\", \"x\": [-0.5270463112138473], \"y\": [-0.7295355960032907], \"type\": \"scatter\", \"uid\": \"23ca765e-c087-4b12-8c6e-d0233c7644f9\"}, {\"hoverinfo\": \"text\", \"marker\": {\"color\": \"green\", \"size\": 0.5}, \"mode\": \"markers\", \"text\": \"Spark appears with Microstrategy 3 times\", \"x\": [-0.8935856664170513], \"y\": [-0.10725976307075416], \"type\": \"scatter\", \"uid\": \"f40b321c-cccb-4a40-8898-f024a4fbd8d5\"}, {\"hoverinfo\": \"text\", \"marker\": {\"color\": \"blue\", \"size\": 0.5}, \"mode\": \"markers\", \"text\": \"Microstrategy appears with Spark 3 times\", \"x\": [-0.08951885510076132], \"y\": [-0.8955369197199237], \"type\": \"scatter\", \"uid\": \"cd7c9430-fb4f-434d-8ad1-7a72215bd0cc\"}, {\"hoverinfo\": \"text\", \"marker\": {\"color\": \"green\", \"size\": 0.5}, \"mode\": \"markers\", \"text\": \"Spark appears with Oracle BI 35 times\", \"x\": [-0.8891179438356102], \"y\": [-0.13953236882364198], \"type\": \"scatter\", \"uid\": \"16e846ca-a453-4698-bbb2-e8c2df4ba39f\"}, {\"hoverinfo\": \"text\", \"marker\": {\"color\": \"blue\", \"size\": 0.5}, \"mode\": \"markers\", \"text\": \"Oracle BI appears with Spark 35 times\", \"x\": [-0.0049630369782403165], \"y\": [-0.899986315598161], \"type\": \"scatter\", \"uid\": \"0ad61b2f-45f5-47b4-aaef-8af6d64912a4\"}, {\"hoverinfo\": \"text\", \"marker\": {\"color\": \"green\", \"size\": 0.5}, \"mode\": \"markers\", \"text\": \"Spark appears with Python 170 times\", \"x\": [-0.8692283924075884], \"y\": [-0.23332809910621488], \"type\": \"scatter\", \"uid\": \"e7769dd9-87cb-41ce-90b5-50ca29164469\"}, {\"hoverinfo\": \"text\", \"marker\": {\"color\": \"blue\", \"size\": 0.5}, \"mode\": \"markers\", \"text\": \"Python appears with Spark 170 times\", \"x\": [0.7569892277414267], \"y\": [-0.4867928810936313], \"type\": \"scatter\", \"uid\": \"cebdff00-f0aa-438f-b24c-ab0f172b81ce\"}, {\"hoverinfo\": \"text\", \"marker\": {\"color\": \"green\", \"size\": 0.5}, \"mode\": \"markers\", \"text\": \"Spark appears with VBA 10 times\", \"x\": [-0.8932826919701595], \"y\": [-0.10975441779967282], \"type\": \"scatter\", \"uid\": \"14dde974-b392-4995-a30a-20fda7b4bae7\"}, {\"hoverinfo\": \"text\", \"marker\": {\"color\": \"blue\", \"size\": 0.5}, \"mode\": \"markers\", \"text\": \"VBA appears with Spark 10 times\", \"x\": [0.8158626543671583], \"y\": [-0.379958062434494], \"type\": \"scatter\", \"uid\": \"1a74a27a-55e3-449f-b0b4-f9cc923bf5b2\"}, {\"hoverinfo\": \"text\", \"marker\": {\"color\": \"green\", \"size\": 0.5}, \"mode\": \"markers\", \"text\": \"Spark appears with Linux 81 times\", \"x\": [-0.8833526014304222], \"y\": [-0.17230258717182922], \"type\": \"scatter\", \"uid\": \"35d4a3cd-08de-4b3e-886e-13cb83f56983\"}, {\"hoverinfo\": \"text\", \"marker\": {\"color\": \"blue\", \"size\": 0.5}, \"mode\": \"markers\", \"text\": \"Linux appears with Spark 81 times\", \"x\": [0.8841103739774432], \"y\": [-0.1683711573443197], \"type\": \"scatter\", \"uid\": \"5778491e-2ab8-4fd1-9df5-aabd3b5f5ec8\"}, {\"hoverinfo\": \"text\", \"marker\": {\"color\": \"green\", \"size\": 0.5}, \"mode\": \"markers\", \"text\": \"Spark appears with AWS 57 times\", \"x\": [-0.8855639528446672], \"y\": [-0.16055056967238773], \"type\": \"scatter\", \"uid\": \"303c3f9f-fb34-4798-8bc8-674f6764d9fc\"}, {\"hoverinfo\": \"text\", \"marker\": {\"color\": \"blue\", \"size\": 0.5}, \"mode\": \"markers\", \"text\": \"AWS appears with Spark 57 times\", \"x\": [0.898260473167437], \"y\": [-0.05592961956791984], \"type\": \"scatter\", \"uid\": \"2dfed29f-a779-4e68-a3b7-6ef368e25777\"}, {\"hoverinfo\": \"text\", \"marker\": {\"color\": \"green\", \"size\": 0.5}, \"mode\": \"markers\", \"text\": \"Informatica appears with Qlik 94 times\", \"x\": [-0.8289935900513512], \"y\": [-0.35038497064482127], \"type\": \"scatter\", \"uid\": \"e1f4ce5e-c5a1-4b9f-8ef5-63e3d4b9cccb\"}, {\"hoverinfo\": \"text\", \"marker\": {\"color\": \"blue\", \"size\": 0.5}, \"mode\": \"markers\", \"text\": \"Qlik appears with Informatica 94 times\", \"x\": [-0.7429674819141094], \"y\": [-0.5079363353986476], \"type\": \"scatter\", \"uid\": \"94a25421-9304-4817-9cdb-b3d31c1ce21c\"}, {\"hoverinfo\": \"text\", \"marker\": {\"color\": \"green\", \"size\": 0.5}, \"mode\": \"markers\", \"text\": \"Informatica appears with Tableau 72 times\", \"x\": [-0.8390737508993411], \"y\": [-0.3255076658877798], \"type\": \"scatter\", \"uid\": \"4dbea61f-c592-496a-b87d-f4d1096fe33a\"}, {\"hoverinfo\": \"text\", \"marker\": {\"color\": \"blue\", \"size\": 0.5}, \"mode\": \"markers\", \"text\": \"Tableau appears with Informatica 72 times\", \"x\": [-0.48814260588077385], \"y\": [-0.7561195648334512], \"type\": \"scatter\", \"uid\": \"e4472843-14a4-49d9-9866-844096449326\"}, {\"hoverinfo\": \"text\", \"marker\": {\"color\": \"green\", \"size\": 0.5}, \"mode\": \"markers\", \"text\": \"Informatica appears with Microstrategy 16 times\", \"x\": [-0.8533640532875736], \"y\": [-0.2859541791207174], \"type\": \"scatter\", \"uid\": \"705b4b24-ed4d-44fb-98bc-f08b57e5caba\"}, {\"hoverinfo\": \"text\", \"marker\": {\"color\": \"blue\", \"size\": 0.5}, \"mode\": \"markers\", \"text\": \"Microstrategy appears with Informatica 16 times\", \"x\": [-0.08528193563906233], \"y\": [-0.8959503286754544], \"type\": \"scatter\", \"uid\": \"936d3fea-226c-40e1-9859-220334f4b00e\"}, {\"hoverinfo\": \"text\", \"marker\": {\"color\": \"green\", \"size\": 0.5}, \"mode\": \"markers\", \"text\": \"Informatica appears with Oracle BI 135 times\", \"x\": [-0.8125672592125124], \"y\": [-0.3869553582209008], \"type\": \"scatter\", \"uid\": \"d8b43cd6-3e0d-4fb9-9639-5740b8a216a0\"}, {\"hoverinfo\": \"text\", \"marker\": {\"color\": \"blue\", \"size\": 0.5}, \"mode\": \"markers\", \"text\": \"Oracle BI appears with Informatica 135 times\", \"x\": [0.10652257524004682], \"y\": [-0.8936738448473406], \"type\": \"scatter\", \"uid\": \"c1371131-65c3-4b36-ab7c-2d832c130690\"}, {\"hoverinfo\": \"text\", \"marker\": {\"color\": \"green\", \"size\": 0.5}, \"mode\": \"markers\", \"text\": \"Informatica appears with Python 31 times\", \"x\": [-0.849908790973405], \"y\": [-0.29606595046733253], \"type\": \"scatter\", \"uid\": \"a2984ce3-fbe7-47a2-be81-a0b7fe173f7a\"}, {\"hoverinfo\": \"text\", \"marker\": {\"color\": \"blue\", \"size\": 0.5}, \"mode\": \"markers\", \"text\": \"Python appears with Informatica 31 times\", \"x\": [0.5811275200943535], \"y\": [-0.6872341707081995], \"type\": \"scatter\", \"uid\": \"3eca6d8f-2e95-4b0c-90c5-8746057af9e8\"}, {\"hoverinfo\": \"text\", \"marker\": {\"color\": \"green\", \"size\": 0.5}, \"mode\": \"markers\", \"text\": \"Informatica appears with VBA 6 times\", \"x\": [-0.85656793296815], \"y\": [-0.27620893579077205], \"type\": \"scatter\", \"uid\": \"f640ac92-4a5c-40e8-84df-796f0586607c\"}, {\"hoverinfo\": \"text\", \"marker\": {\"color\": \"blue\", \"size\": 0.5}, \"mode\": \"markers\", \"text\": \"VBA appears with Informatica 6 times\", \"x\": [0.8137605578672245], \"y\": [-0.38443953290423155], \"type\": \"scatter\", \"uid\": \"5746a495-5f58-4a4c-9da5-ad0dbcb879ee\"}, {\"hoverinfo\": \"text\", \"marker\": {\"color\": \"green\", \"size\": 0.5}, \"mode\": \"markers\", \"text\": \"Informatica appears with Linux 10 times\", \"x\": [-0.8561471698540956], \"y\": [-0.2775104025992942], \"type\": \"scatter\", \"uid\": \"d1a1163b-4792-447f-82a4-08bdd094a8a2\"}, {\"hoverinfo\": \"text\", \"marker\": {\"color\": \"blue\", \"size\": 0.5}, \"mode\": \"markers\", \"text\": \"Linux appears with Informatica 10 times\", \"x\": [0.8693370692303964], \"y\": [-0.23292286290079992], \"type\": \"scatter\", \"uid\": \"28ea7503-9d3e-4162-a7ec-a1b40830d7e4\"}, {\"hoverinfo\": \"text\", \"marker\": {\"color\": \"green\", \"size\": 0.5}, \"mode\": \"markers\", \"text\": \"Informatica appears with AWS 21 times\", \"x\": [-0.8513607623022956], \"y\": [-0.2918644418425343], \"type\": \"scatter\", \"uid\": \"f7befdce-3272-4138-8df7-d3a48612cf40\"}, {\"hoverinfo\": \"text\", \"marker\": {\"color\": \"blue\", \"size\": 0.5}, \"mode\": \"markers\", \"text\": \"AWS appears with Informatica 21 times\", \"x\": [0.8954886926264713], \"y\": [-0.09000000765629551], \"type\": \"scatter\", \"uid\": \"e10642fe-1091-4579-8df1-c68abd34952a\"}, {\"hoverinfo\": \"text\", \"marker\": {\"color\": \"green\", \"size\": 0.5}, \"mode\": \"markers\", \"text\": \"Qlik appears with Tableau 350 times\", \"x\": [-0.6956312172842485], \"y\": [-0.571049218141164], \"type\": \"scatter\", \"uid\": \"cd3da689-0c99-41ad-9d37-6e37a97da1e7\"}, {\"hoverinfo\": \"text\", \"marker\": {\"color\": \"blue\", \"size\": 0.5}, \"mode\": \"markers\", \"text\": \"Tableau appears with Qlik 350 times\", \"x\": [-0.3156942154573648], \"y\": [-0.8428150226038683], \"type\": \"scatter\", \"uid\": \"5f614353-766e-4dea-a6c7-9cd2caf08038\"}, {\"hoverinfo\": \"text\", \"marker\": {\"color\": \"green\", \"size\": 0.5}, \"mode\": \"markers\", \"text\": \"Qlik appears with Microstrategy 40 times\", \"x\": [-0.7792579799399543], \"y\": [-0.4502854657879843], \"type\": \"scatter\", \"uid\": \"d8aef4b0-ffac-424a-b98d-78891107e353\"}, {\"hoverinfo\": \"text\", \"marker\": {\"color\": \"blue\", \"size\": 0.5}, \"mode\": \"markers\", \"text\": \"Microstrategy appears with Qlik 40 times\", \"x\": [-0.06198102200646907], \"y\": [-0.8978632150339124], \"type\": \"scatter\", \"uid\": \"c7e46e92-2756-45af-84a9-a626e86bc2aa\"}, {\"hoverinfo\": \"text\", \"marker\": {\"color\": \"green\", \"size\": 0.5}, \"mode\": \"markers\", \"text\": \"Qlik appears with Oracle BI 362 times\", \"x\": [-0.6501799411476394], \"y\": [-0.6223070336491885], \"type\": \"scatter\", \"uid\": \"66f45601-7ab5-477e-82b4-c73a4f708661\"}, {\"hoverinfo\": \"text\", \"marker\": {\"color\": \"blue\", \"size\": 0.5}, \"mode\": \"markers\", \"text\": \"Oracle BI appears with Qlik 362 times\", \"x\": [0.3342264900252104], \"y\": [-0.835639068836198], \"type\": \"scatter\", \"uid\": \"6fc15d15-b03d-45cf-9e5e-0dea99d43e9d\"}, {\"hoverinfo\": \"text\", \"marker\": {\"color\": \"green\", \"size\": 0.5}, \"mode\": \"markers\", \"text\": \"Qlik appears with Python 54 times\", \"x\": [-0.7746925081788467], \"y\": [-0.4580955334551599], \"type\": \"scatter\", \"uid\": \"ac10837f-2da4-4315-9fb0-d40bee835417\"}, {\"hoverinfo\": \"text\", \"marker\": {\"color\": \"blue\", \"size\": 0.5}, \"mode\": \"markers\", \"text\": \"Python appears with Qlik 54 times\", \"x\": [0.6000922692781334], \"y\": [-0.6707378536750556], \"type\": \"scatter\", \"uid\": \"756fcf20-2fd6-4506-9a10-bac24c4d3dca\"}, {\"hoverinfo\": \"text\", \"marker\": {\"color\": \"green\", \"size\": 0.5}, \"mode\": \"markers\", \"text\": \"Qlik appears with VBA 31 times\", \"x\": [-0.7857707902944838], \"y\": [-0.43882145015938134], \"type\": \"scatter\", \"uid\": \"08d4e291-eacc-4c4e-a1f2-4c2f9e352a24\"}, {\"hoverinfo\": \"text\", \"marker\": {\"color\": \"blue\", \"size\": 0.5}, \"mode\": \"markers\", \"text\": \"VBA appears with Qlik 31 times\", \"x\": [0.8192523970975252], \"y\": [-0.3725929546434809], \"type\": \"scatter\", \"uid\": \"874a4f34-31d9-4901-9a53-51aaf1f896fc\"}, {\"hoverinfo\": \"text\", \"marker\": {\"color\": \"green\", \"size\": 0.5}, \"mode\": \"markers\", \"text\": \"Qlik appears with Linux 2 times\", \"x\": [-0.794568946422532], \"y\": [-0.4226821375229706], \"type\": \"scatter\", \"uid\": \"de81f71f-f7be-4551-b148-1e04eb2533b4\"}, {\"hoverinfo\": \"text\", \"marker\": {\"color\": \"blue\", \"size\": 0.5}, \"mode\": \"markers\", \"text\": \"Linux appears with Qlik 2 times\", \"x\": [0.8682578633500329], \"y\": [-0.2369140830149944], \"type\": \"scatter\", \"uid\": \"f6734593-872c-4d9d-a5dc-9deb2399dab7\"}, {\"hoverinfo\": \"text\", \"marker\": {\"color\": \"green\", \"size\": 0.5}, \"mode\": \"markers\", \"text\": \"Qlik appears with AWS 3 times\", \"x\": [-0.7943428372500558], \"y\": [-0.4231069095506847], \"type\": \"scatter\", \"uid\": \"5c35cdd7-1fae-4a83-8ffa-5b8eed8cdd8d\"}, {\"hoverinfo\": \"text\", \"marker\": {\"color\": \"blue\", \"size\": 0.5}, \"mode\": \"markers\", \"text\": \"AWS appears with Qlik 3 times\", \"x\": [0.8944828670241785], \"y\": [-0.09950075678207615], \"type\": \"scatter\", \"uid\": \"93d5acc9-20b2-444d-ac0e-6b4e1fedbf08\"}, {\"hoverinfo\": \"text\", \"marker\": {\"color\": \"green\", \"size\": 0.5}, \"mode\": \"markers\", \"text\": \"Tableau appears with Microstrategy 56 times\", \"x\": [-0.49860881500345233], \"y\": [-0.7492591338120965], \"type\": \"scatter\", \"uid\": \"9d89c050-d960-4be9-98e3-f9b1ba8dacec\"}, {\"hoverinfo\": \"text\", \"marker\": {\"color\": \"blue\", \"size\": 0.5}, \"mode\": \"markers\", \"text\": \"Microstrategy appears with Tableau 56 times\", \"x\": [-0.049976561000159035], \"y\": [-0.8986113416547765], \"type\": \"scatter\", \"uid\": \"7e240eab-a099-4f70-af74-6e9cc4f59c12\"}, {\"hoverinfo\": \"text\", \"marker\": {\"color\": \"green\", \"size\": 0.5}, \"mode\": \"markers\", \"text\": \"Tableau appears with Oracle BI 429 times\", \"x\": [-0.24332713111625512], \"y\": [-0.8664824910306802], \"type\": \"scatter\", \"uid\": \"892bae5a-f8df-48bd-9ff7-12621e3aacae\"}, {\"hoverinfo\": \"text\", \"marker\": {\"color\": \"blue\", \"size\": 0.5}, \"mode\": \"markers\", \"text\": \"Oracle BI appears with Tableau 429 times\", \"x\": [0.4056193808280252], \"y\": [-0.8034132920836508], \"type\": \"scatter\", \"uid\": \"b2b8e565-b54f-40e2-afb2-0ffd3a5e8632\"}, {\"hoverinfo\": \"text\", \"marker\": {\"color\": \"green\", \"size\": 0.5}, \"mode\": \"markers\", \"text\": \"Tableau appears with Python 138 times\", \"x\": [-0.4223998614217852], \"y\": [-0.7947190428515329], \"type\": \"scatter\", \"uid\": \"263e2485-ffcc-45fb-9fc4-8957b992046c\"}, {\"hoverinfo\": \"text\", \"marker\": {\"color\": \"blue\", \"size\": 0.5}, \"mode\": \"markers\", \"text\": \"Python appears with Tableau 138 times\", \"x\": [0.6839324128426102], \"y\": [-0.5850097902285786], \"type\": \"scatter\", \"uid\": \"fc4a4fd4-03ac-40c0-a1ac-a0eae87e142c\"}, {\"hoverinfo\": \"text\", \"marker\": {\"color\": \"green\", \"size\": 0.5}, \"mode\": \"markers\", \"text\": \"Tableau appears with VBA 76 times\", \"x\": [-0.47592353338032756], \"y\": [-0.7638696160829964], \"type\": \"scatter\", \"uid\": \"00d26e1e-1a25-4bf6-8cbf-76c5b3d6bf73\"}, {\"hoverinfo\": \"text\", \"marker\": {\"color\": \"blue\", \"size\": 0.5}, \"mode\": \"markers\", \"text\": \"VBA appears with Tableau 76 times\", \"x\": [0.8326954311800637], \"y\": [-0.3414942443026645], \"type\": \"scatter\", \"uid\": \"831b46a8-1e2c-4838-955b-225abef47ff5\"}, {\"hoverinfo\": \"text\", \"marker\": {\"color\": \"green\", \"size\": 0.5}, \"mode\": \"markers\", \"text\": \"Tableau appears with Linux 19 times\", \"x\": [-0.540037316077638], \"y\": [-0.7199720114307647], \"type\": \"scatter\", \"uid\": \"a382016f-3671-4354-bcc0-a64b98c534f9\"}, {\"hoverinfo\": \"text\", \"marker\": {\"color\": \"blue\", \"size\": 0.5}, \"mode\": \"markers\", \"text\": \"Linux appears with Tableau 19 times\", \"x\": [0.8707126050611868], \"y\": [-0.22772694040794095], \"type\": \"scatter\", \"uid\": \"635aaf57-a35b-424d-888b-3a3f736be46b\"}, {\"hoverinfo\": \"text\", \"marker\": {\"color\": \"green\", \"size\": 0.5}, \"mode\": \"markers\", \"text\": \"Tableau appears with AWS 33 times\", \"x\": [-0.5324997532664022], \"y\": [-0.7255646165375079], \"type\": \"scatter\", \"uid\": \"074255f4-44a4-420d-a56a-302eae592b3e\"}, {\"hoverinfo\": \"text\", \"marker\": {\"color\": \"blue\", \"size\": 0.5}, \"mode\": \"markers\", \"text\": \"AWS appears with Tableau 33 times\", \"x\": [0.8966556845159044], \"y\": [-0.077515052895003], \"type\": \"scatter\", \"uid\": \"a1109cb8-5491-446d-925f-f727913f6d85\"}, {\"hoverinfo\": \"text\", \"marker\": {\"color\": \"green\", \"size\": 0.5}, \"mode\": \"markers\", \"text\": \"Microstrategy appears with Oracle BI 66 times\", \"x\": [-0.04174349903715927], \"y\": [-0.8990314122922151], \"type\": \"scatter\", \"uid\": \"c0e1a5cc-cd6c-462d-9775-250b82f7bd75\"}, {\"hoverinfo\": \"text\", \"marker\": {\"color\": \"blue\", \"size\": 0.5}, \"mode\": \"markers\", \"text\": \"Oracle BI appears with Microstrategy 66 times\", \"x\": [0.03851105487633825], \"y\": [-0.8991756773024455], \"type\": \"scatter\", \"uid\": \"32498665-085d-4491-a7f9-ee72e207af49\"}, {\"hoverinfo\": \"text\", \"marker\": {\"color\": \"green\", \"size\": 0.5}, \"mode\": \"markers\", \"text\": \"Microstrategy appears with Python 19 times\", \"x\": [-0.08063931422130761], \"y\": [-0.8963801096643752], \"type\": \"scatter\", \"uid\": \"42a6f04d-77c1-407c-b590-92fcfb6165a7\"}, {\"hoverinfo\": \"text\", \"marker\": {\"color\": \"blue\", \"size\": 0.5}, \"mode\": \"markers\", \"text\": \"Python appears with Microstrategy 19 times\", \"x\": [0.5729980734853275], \"y\": [-0.6940268062417354], \"type\": \"scatter\", \"uid\": \"d12be35d-0df8-4ca5-904e-1e1621f214fa\"}, {\"hoverinfo\": \"text\", \"marker\": {\"color\": \"green\", \"size\": 0.5}, \"mode\": \"markers\", \"text\": \"Microstrategy appears with VBA 7 times\", \"x\": [-0.08790502156156434], \"y\": [-0.8956967718956348], \"type\": \"scatter\", \"uid\": \"45e7f871-a7a0-4518-acae-3ccdca653744\"}, {\"hoverinfo\": \"text\", \"marker\": {\"color\": \"blue\", \"size\": 0.5}, \"mode\": \"markers\", \"text\": \"VBA appears with Microstrategy 7 times\", \"x\": [0.8142338600705313], \"y\": [-0.38343607174422517], \"type\": \"scatter\", \"uid\": \"aced2c96-722f-46e9-aefd-cb6704d39191\"}, {\"hoverinfo\": \"text\", \"marker\": {\"color\": \"green\", \"size\": 0.5}, \"mode\": \"markers\", \"text\": \"Microstrategy appears with Linux 8 times\", \"x\": [-0.08689623032643382], \"y\": [-0.8957952026858903], \"type\": \"scatter\", \"uid\": \"ac11b9fb-802d-46d5-b6a3-ffc23e6d0365\"}, {\"hoverinfo\": \"text\", \"marker\": {\"color\": \"blue\", \"size\": 0.5}, \"mode\": \"markers\", \"text\": \"Linux appears with Microstrategy 8 times\", \"x\": [0.868950667482923], \"y\": [-0.23436027283006516], \"type\": \"scatter\", \"uid\": \"f3c757d0-a0ed-4fe5-9f18-9552943d79b8\"}, {\"hoverinfo\": \"text\", \"marker\": {\"color\": \"green\", \"size\": 0.5}, \"mode\": \"markers\", \"text\": \"Microstrategy appears with AWS 2 times\", \"x\": [-0.08985503401049211], \"y\": [-0.8955032511738711], \"type\": \"scatter\", \"uid\": \"d66cf468-a09f-4833-9fe5-617ecdbb5a09\"}, {\"hoverinfo\": \"text\", \"marker\": {\"color\": \"blue\", \"size\": 0.5}, \"mode\": \"markers\", \"text\": \"AWS appears with Microstrategy 2 times\", \"x\": [0.8943750724643451], \"y\": [-0.10046506733386223], \"type\": \"scatter\", \"uid\": \"f3aed8f0-b295-46e3-89d7-a1b970f2f89e\"}, {\"hoverinfo\": \"text\", \"marker\": {\"color\": \"green\", \"size\": 0.5}, \"mode\": \"markers\", \"text\": \"Oracle BI appears with Python 160 times\", \"x\": [0.16360812229226487], \"y\": [-0.8850041707924315], \"type\": \"scatter\", \"uid\": \"6a0533dc-0473-4cc3-9723-0ff630e36d91\"}, {\"hoverinfo\": \"text\", \"marker\": {\"color\": \"blue\", \"size\": 0.5}, \"mode\": \"markers\", \"text\": \"Python appears with Oracle BI 160 times\", \"x\": [0.7206353137131752], \"y\": [-0.5391518752907324], \"type\": \"scatter\", \"uid\": \"40f72cef-0882-4063-9795-5409217e2102\"}, {\"hoverinfo\": \"text\", \"marker\": {\"color\": \"green\", \"size\": 0.5}, \"mode\": \"markers\", \"text\": \"Oracle BI appears with VBA 84 times\", \"x\": [0.0679769064571775], \"y\": [-0.8974291839407231], \"type\": \"scatter\", \"uid\": \"d69b86c5-aa27-4f62-8e5f-fd64045a908d\"}, {\"hoverinfo\": \"text\", \"marker\": {\"color\": \"blue\", \"size\": 0.5}, \"mode\": \"markers\", \"text\": \"VBA appears with Oracle BI 84 times\", \"x\": [0.8377806768886897], \"y\": [-0.32882143700180005], \"type\": \"scatter\", \"uid\": \"f40c602c-a00c-4e5b-b0fc-a765daf099e3\"}, {\"hoverinfo\": \"text\", \"marker\": {\"color\": \"green\", \"size\": 0.5}, \"mode\": \"markers\", \"text\": \"Oracle BI appears with Linux 3 times\", \"x\": [-0.00872707889193587], \"y\": [-0.8999576868353389], \"type\": \"scatter\", \"uid\": \"3b285537-298a-4086-a02b-8d52c367e5fe\"}, {\"hoverinfo\": \"text\", \"marker\": {\"color\": \"blue\", \"size\": 0.5}, \"mode\": \"markers\", \"text\": \"Linux appears with Oracle BI 3 times\", \"x\": [0.8683666088976991], \"y\": [-0.23651518461086254], \"type\": \"scatter\", \"uid\": \"2e683a97-cef1-4cbc-acd3-215dccda665c\"}, {\"hoverinfo\": \"text\", \"marker\": {\"color\": \"green\", \"size\": 0.5}, \"mode\": \"markers\", \"text\": \"Oracle BI appears with AWS 46 times\", \"x\": [0.018115918842555086], \"y\": [-0.899817655686134], \"type\": \"scatter\", \"uid\": \"98dbaa2e-792b-464b-a144-955ad6e9f31d\"}, {\"hoverinfo\": \"text\", \"marker\": {\"color\": \"blue\", \"size\": 0.5}, \"mode\": \"markers\", \"text\": \"AWS appears with Oracle BI 46 times\", \"x\": [0.897144292769436], \"y\": [-0.07163880199464985], \"type\": \"scatter\", \"uid\": \"9e9d617e-6832-42e4-8b29-7990cf400f45\"}, {\"hoverinfo\": \"text\", \"marker\": {\"color\": \"green\", \"size\": 0.5}, \"mode\": \"markers\", \"text\": \"Python appears with VBA 67 times\", \"x\": [0.6171884721053531], \"y\": [-0.6550407543811758], \"type\": \"scatter\", \"uid\": \"eed36fe2-6aa1-462d-a76f-224cdff43816\"}, {\"hoverinfo\": \"text\", \"marker\": {\"color\": \"blue\", \"size\": 0.5}, \"mode\": \"markers\", \"text\": \"VBA appears with Python 67 times\", \"x\": [0.8279882402908646], \"y\": [-0.35275412675125073], \"type\": \"scatter\", \"uid\": \"009dad3e-5938-450c-aba1-be95891ea9a4\"}, {\"hoverinfo\": \"text\", \"marker\": {\"color\": \"green\", \"size\": 0.5}, \"mode\": \"markers\", \"text\": \"Python appears with Linux 104 times\", \"x\": [0.6535251553200576], \"y\": [-0.6187930763703603], \"type\": \"scatter\", \"uid\": \"230d3ac3-b23f-45d0-8419-7fc9bbec0c9e\"}, {\"hoverinfo\": \"text\", \"marker\": {\"color\": \"blue\", \"size\": 0.5}, \"mode\": \"markers\", \"text\": \"Linux appears with Python 104 times\", \"x\": [0.8894867299507765], \"y\": [-0.13716179220713914], \"type\": \"scatter\", \"uid\": \"f435700f-daa2-4387-b38e-f3a344baa8c9\"}, {\"hoverinfo\": \"text\", \"marker\": {\"color\": \"green\", \"size\": 0.5}, \"mode\": \"markers\", \"text\": \"Python appears with AWS 100 times\", \"x\": [0.6398624550481146], \"y\": [-0.6329107667118642], \"type\": \"scatter\", \"uid\": \"cd685457-79de-45d3-ad76-4941fb49dbc6\"}, {\"hoverinfo\": \"text\", \"marker\": {\"color\": \"blue\", \"size\": 0.5}, \"mode\": \"markers\", \"text\": \"AWS appears with Python 100 times\", \"x\": [0.899290522832518], \"y\": [-0.03572891747053861], \"type\": \"scatter\", \"uid\": \"b36f3537-a1af-4ea9-919d-417e8168a5c3\"}, {\"hoverinfo\": \"text\", \"marker\": {\"color\": \"green\", \"size\": 0.5}, \"mode\": \"markers\", \"text\": \"VBA appears with Linux 1 times\", \"x\": [0.8127002745600326], \"y\": [-0.3866759156322614], \"type\": \"scatter\", \"uid\": \"e9dc7d06-4b41-4564-b2f6-ce22ceecca4c\"}, {\"hoverinfo\": \"text\", \"marker\": {\"color\": \"blue\", \"size\": 0.5}, \"mode\": \"markers\", \"text\": \"Linux appears with VBA 1 times\", \"x\": [0.8681489345618708], \"y\": [-0.2373129314198632], \"type\": \"scatter\", \"uid\": \"251e1750-3222-4128-ba90-2b9b5307d847\"}, {\"hoverinfo\": \"text\", \"marker\": {\"color\": \"green\", \"size\": 0.5}, \"mode\": \"markers\", \"text\": \"VBA appears with AWS 5 times\", \"x\": [0.812993380720418], \"y\": [-0.3860592738230562], \"type\": \"scatter\", \"uid\": \"ec84a5d8-d316-4d75-8618-5fa06f7a66ad\"}, {\"hoverinfo\": \"text\", \"marker\": {\"color\": \"blue\", \"size\": 0.5}, \"mode\": \"markers\", \"text\": \"AWS appears with VBA 5 times\", \"x\": [0.894548685364776], \"y\": [-0.09890727734676992], \"type\": \"scatter\", \"uid\": \"ec8538da-eb0d-45df-9595-8fde11019101\"}, {\"hoverinfo\": \"text\", \"marker\": {\"color\": \"green\", \"size\": 0.5}, \"mode\": \"markers\", \"text\": \"Linux appears with AWS 26 times\", \"x\": [0.8716467099576746], \"y\": [-0.22412499418842516], \"type\": \"scatter\", \"uid\": \"9a969d3a-06c9-449c-914a-5943c2fe2803\"}, {\"hoverinfo\": \"text\", \"marker\": {\"color\": \"blue\", \"size\": 0.5}, \"mode\": \"markers\", \"text\": \"AWS appears with Linux 26 times\", \"x\": [0.8958326959046906], \"y\": [-0.08650884895855566], \"type\": \"scatter\", \"uid\": \"91d9bc38-06d8-4273-9101-53c8ef0c7979\"}], {\"autosize\": false, \"font\": {\"color\": \"#655643\", \"family\": \"Fira Sans Condensed\", \"size\": 12}, \"height\": 525, \"hidesources\": true, \"hoverdistance\": 40, \"hovermode\": \"closest\", \"margin\": {\"b\": 10, \"l\": 280, \"r\": 280, \"t\": 80}, \"paper_bgcolor\": \"#fffaf0\", \"plot_bgcolor\": \"#fffaf0\", \"shapes\": [{\"fillcolor\": \"#f2e6ce\", \"layer\": \"below\", \"line\": {\"color\": \"rgb(175,175,175)\", \"width\": 0.5}, \"path\": \"M 0.9732541681262956,0.22973098229188027 Q 0.18369740169281779, 0.07909023082092725 0.8357403307304853, 0.5491248488190087L 0.8357403307304853, 0.5491248488190087 L 0.8493166024486056, 0.527883802370519 L 0.8623531358371694, 0.5063072872394792 M 0.8623531358371694,0.5063072872394792 Q 0.18383960393795784, 0.07875912660723706 0.9614366510808446, 0.27502648228570664L 0.9614366510808446, 0.27502648228570664 L 0.9676104908799933, 0.2524478915320513 L 0.9732541681262956, 0.22973098229188027 \", \"type\": \"path\"}, {\"fillcolor\": \"#f2e6ce\", \"layer\": \"below\", \"line\": {\"color\": \"rgb(175,175,175)\", \"width\": 0.5}, \"path\": \"M 0.9959985345307001,0.08936956536034961 Q 0.14136054821370694, 0.14148213812605545 0.08851320223481894, 0.9960750037171588L 0.08851320223481894, 0.9960750037171588 L 0.10268872897534108, 0.9947135391364837 L 0.11684343052951077, 0.9931503475013718 M 0.11684343052951077,0.9931503475013718 Q 0.14145566687982702, 0.1413870372685679 0.9932069328772147, 0.1163614561813141L 0.9932069328772147, 0.1163614561813141 L 0.9946942939586554, 0.10287498027262053 L 0.9959985345307001, 0.08936956536034961 \", \"type\": \"path\"}, {\"fillcolor\": \"#f2e6ce\", \"layer\": \"below\", \"line\": {\"color\": \"rgb(175,175,175)\", \"width\": 0.5}, \"path\": \"M 0.9980178109725905,0.06293209818112461 Q 0.09963296426595748, 0.17341647105041216 -0.4482982346967023, 0.89388404883845L -0.4482982346967023, 0.89388404883845 L -0.4360595277834415, 0.8999178230423498 L -0.42373962990973063, 0.9057840394067256 M -0.42373962990973063,0.9057840394067256 Q 0.099700192946173, 0.17337782882045755 0.9959985345307001, 0.08936956536034961L 0.9959985345307001, 0.08936956536034961 L 0.9970957985325621, 0.07615752457053931 L 0.9980178109725905, 0.06293209818112461 \", \"type\": \"path\"}, {\"fillcolor\": \"#f2e6ce\", \"layer\": \"below\", \"line\": {\"color\": \"rgb(175,175,175)\", \"width\": 0.5}, \"path\": \"M 1.0,0.0 Q 0.0726809777347459, 0.18632626083169646 -0.7358737737760687, 0.6771187407453492L -0.7358737737760687, 0.6771187407453492 L -0.7355472510910764, 0.677473424875368 L -0.7352205574517399, 0.677827951548439 M -0.7352205574517399,0.677827951548439 Q 0.07267431120923029, 0.1863288611307007 0.999999463609104, 0.0010357516615644763L 0.999999463609104, 0.0010357516615644763 L 0.999999865902267, 0.0005178759002282223 L 1.0, 0.0 \", \"type\": \"path\"}, {\"fillcolor\": \"#f2e6ce\", \"layer\": \"below\", \"line\": {\"color\": \"rgb(175,175,175)\", \"width\": 0.5}, \"path\": \"M 0.9993354637791567,0.036450388657706 Q 0.044321854656480864, 0.19502710888440558 -0.8854256045458941, 0.4647811300112536L -0.8854256045458941, 0.4647811300112536 L -0.8831827038739439, 0.46902911591702856 L -0.8809194228888001, 0.4732662785127031 M -0.8809194228888001,0.4732662785127031 Q 0.04430931786994932, 0.19502995757036864 0.9989332223128595, 0.04617810476456621L 0.9989332223128595, 0.04617810476456621 L 0.9991461817817961, 0.041314736243354175 L 0.9993354637791567, 0.036450388657706 \", \"type\": \"path\"}, {\"fillcolor\": \"#f2e6ce\", \"layer\": \"below\", \"line\": {\"color\": \"rgb(175,175,175)\", \"width\": 0.5}, \"path\": \"M 0.9999831788271542,0.005800177819671073 Q 0.02643016698138625, 0.19824592372438846 -0.9635365283012095, 0.2675768275266983L -0.9635365283012095, 0.2675768275266983 L -0.9633173748275176, 0.2683647431303525 L -0.9630975770493614, 0.2691524792411345 M -0.9630975770493614,0.2691524792411345 Q 0.026366429337219305, 0.19825441080592743 0.9999673661524616, 0.00807877652301179L 0.9999673661524616, 0.00807877652301179 L 0.9999759215071522, 0.006939481675293848 L 0.9999831788271542, 0.005800177819671073 \", \"type\": \"path\"}, {\"fillcolor\": \"#f2e6ce\", \"layer\": \"below\", \"line\": {\"color\": \"rgb(175,175,175)\", \"width\": 0.5}, \"path\": \"M 0.999992254524767,0.003935846855964729 Q 0.017840319927214358, 0.19920271831703162 -0.9833791584859987, 0.18156384732476125L -0.9833791584859987, 0.18156384732476125 L -0.983234847203308, 0.182343728285586 L -0.9830899174265106, 0.18312349454490154 M -0.9830899174265106,0.18312349454490154 Q 0.017812619384915535, 0.1992051971978847 0.9999831788271542, 0.005800177819671073L 0.9999831788271542, 0.005800177819671073 L 0.9999881511474458, 0.004868014452856431 L 0.999992254524767, 0.003935846855964729 \", \"type\": \"path\"}, {\"fillcolor\": \"#f2e6ce\", \"layer\": \"below\", \"line\": {\"color\": \"rgb(175,175,175)\", \"width\": 0.5}, \"path\": \"M 0.9999302914428098,0.011807296688803919 Q 0.002786602048761535, 0.1999805861803136 -0.9992130705252467, 0.03966408566333597L -0.9992130705252467, 0.03966408566333597 L -0.9991285473665975, 0.04173902055765854 L -0.999039715467107, 0.04381377545249709 M -0.999039715467107,0.04381377545249709 Q 0.002746206319825116, 0.19998114498834374 0.999866098353115, 0.016364148744097955L 0.999866098353115, 0.016364148744097955 L 0.999900790771448, 0.01408575928492792 L 0.9999302914428098, 0.011807296688803919 \", \"type\": \"path\"}, {\"fillcolor\": \"#f2e6ce\", \"layer\": \"below\", \"line\": {\"color\": \"rgb(175,175,175)\", \"width\": 0.5}, \"path\": \"M 0.999866098353115,0.016364148744097955 Q -0.015732729574824713, 0.19938024280285507 -0.9900583658781094, -0.14065714398766857L -0.9900583658781094, -0.14065714398766857 L -0.9904472497675166, -0.13789215143713793 L -0.9908284117196402, -0.13512608382224064 M -0.9908284117196402,-0.13512608382224064 Q -0.015774892845325055, 0.19937691129044635 0.999749751879205, 0.022370373655081842L 0.999749751879205, 0.022370373655081842 L 0.999812435314495, 0.019367348566560118 L 0.999866098353115, 0.016364148744097955 \", \"type\": \"path\"}, {\"fillcolor\": \"#f2e6ce\", \"layer\": \"below\", \"line\": {\"color\": \"rgb(175,175,175)\", \"width\": 0.5}, \"path\": \"M 0.9999673661524616,0.00807877652301179 Q -0.0334766040738069, 0.19717838872372798 -0.9466013885383825, -0.3224062828438773L -0.9466013885383825, -0.3224062828438773 L -0.9471512360491872, -0.32078736890734477 L -0.9476983148336522, -0.31916751724048587 M -0.9476983148336522,-0.31916751724048587 Q -0.03350708982230889, 0.19717321048164663 0.9999302914428098, 0.011807296688803919L 0.9999302914428098, 0.011807296688803919 L 0.9999505666178804, 0.009943053886002404 L 0.9999673661524616, 0.00807877652301179 \", \"type\": \"path\"}, {\"fillcolor\": \"#f2e6ce\", \"layer\": \"below\", \"line\": {\"color\": \"rgb(175,175,175)\", \"width\": 0.5}, \"path\": \"M 0.9882422303370159,0.15289635109616073 Q -0.07819964590105231, 0.18407828601155007 -0.7961240998370033, -0.6051333883192377L -0.7961240998370033, -0.6051333883192377 L -0.8081277700058314, -0.5890072218109064 L -0.8198048423317461, -0.5726430131324584 M -0.8198048423317461,-0.5726430131324584 Q -0.07808339025269509, 0.1841276301010941 0.9815399815660475, 0.19125706415011995L 0.9815399815660475, 0.19125706415011995 L 0.9850778530953446, 0.1721093354268347 L 0.9882422303370159, 0.15289635109616073 \", \"type\": \"path\"}, {\"fillcolor\": \"#f2e6ce\", \"layer\": \"below\", \"line\": {\"color\": \"rgb(175,175,175)\", \"width\": 0.5}, \"path\": \"M 0.9815399815660475,0.19125706415011995 Q -0.12628842947584795, 0.15508459814089787 -0.3861145504066893, -0.9224508409472237L -0.3861145504066893, -0.9224508409472237 L -0.4050703677547945, -0.9142855118435355 L -0.4238536269042081, -0.9057307011248699 M -0.4238536269042081,-0.9057307011248699 Q -0.12613937486775184, 0.15520585719608904 0.9732541681262956, 0.22973098229188027L 0.9732541681262956, 0.22973098229188027 L 0.9775863657560633, 0.2105347892578624 L 0.9815399815660475, 0.19125706415011995 \", \"type\": \"path\"}, {\"fillcolor\": \"#f2e6ce\", \"layer\": \"below\", \"line\": {\"color\": \"rgb(175,175,175)\", \"width\": 0.5}, \"path\": \"M 0.999749751879205,0.022370373655081842 Q -0.13750406829441658, 0.14523302380135322 -0.07695485399677925, -0.997034578360417L -0.07695485399677925, -0.997034578360417 L -0.07912553749700944, -0.9968646594778097 L -0.0812958458836965, -0.9966900147197494 M -0.0812958458836965,-0.9966900147197494 Q -0.13762403551945981, 0.14511934690915082 0.9995973261621346, 0.02837579125788768L 0.9995973261621346, 0.02837579125788768 L 0.9996780486127804, 0.025373196916103832 L 0.999749751879205, 0.022370373655081842 \", \"type\": \"path\"}, {\"fillcolor\": \"#f2e6ce\", \"layer\": \"below\", \"line\": {\"color\": \"rgb(175,175,175)\", \"width\": 0.5}, \"path\": \"M 0.9932069328772147,0.1163614561813141 Q -0.1642397835078039, 0.11412840800304587 0.23730991232318427, -0.971433994419159L 0.23730991232318427, -0.971433994419159 L 0.21823402373082962, -0.9758964652493889 L 0.1990743762280373, -0.979984383921202 M 0.1990743762280373,-0.979984383921202 Q -0.16410787561840637, 0.11431800015751531 0.9882422303370159, 0.15289635109616073L 0.9882422303370159, 0.15289635109616073 L 0.9908929792047189, 0.13465178707613432 L 0.9932069328772147, 0.1163614561813141 \", \"type\": \"path\"}, {\"fillcolor\": \"#f2e6ce\", \"layer\": \"below\", \"line\": {\"color\": \"rgb(175,175,175)\", \"width\": 0.5}, \"path\": \"M 0.9989332223128595,0.04617810476456621 Q -0.1863043552831243, 0.07273711021575845 0.7033925315395111, -0.7108016225181524L 0.7033925315395111, -0.7108016225181524 L 0.697205189855182, -0.7168716225650166 L 0.6909654684712413, -0.7228877654105913 M 0.6909654684712413,-0.7228877654105913 Q -0.1862841210692995, 0.07278891562208198 0.9980178109725905, 0.06293209818112461L 0.9980178109725905, 0.06293209818112461 L 0.9985106566325704, 0.05455702146555411 L 0.9989332223128595, 0.04617810476456621 \", \"type\": \"path\"}, {\"fillcolor\": \"#f2e6ce\", \"layer\": \"below\", \"line\": {\"color\": \"rgb(175,175,175)\", \"width\": 0.5}, \"path\": \"M 0.9995973261621346,0.02837579125788768 Q -0.1963871792991122, 0.037842777473890005 0.9174781569773154, -0.3977861629940246L 0.9174781569773154, -0.3977861629940246 L 0.9160007646296895, -0.40117651875181354 L 0.9145108439561184, -0.40456138753799537 M 0.9145108439561184,-0.40456138753799537 Q -0.19640007831910947, 0.03777577578617905 0.9993354637791567, 0.036450388657706L 0.9993354637791567, 0.036450388657706 L 0.9994745491789228, 0.032413354401992014 L 0.9995973261621346, 0.02837579125788768 \", \"type\": \"path\"}, {\"fillcolor\": \"#f2e6ce\", \"layer\": \"below\", \"line\": {\"color\": \"rgb(175,175,175)\", \"width\": 0.5}, \"path\": \"M 0.9999974038689542,0.0022786520909631007 Q -0.19828774802353663, 0.026114535870936942 0.9653090782459258, -0.2611099068515041L 0.9653090782459258, -0.2611099068515041 L 0.9651168933144222, -0.2618193694880465 L 0.9649241869570137, -0.2625286906708411 M 0.9649241869570137,-0.2625286906708411 Q -0.1982901906742943, 0.026095982111275607 0.999992254524767, 0.003935846855964729L 0.999992254524767, 0.003935846855964729 L 0.9999951724853879, 0.0031072505401525258 L 0.9999974038689542, 0.0022786520909631007 \", \"type\": \"path\"}, {\"fillcolor\": \"#f2e6ce\", \"layer\": \"below\", \"line\": {\"color\": \"rgb(175,175,175)\", \"width\": 0.5}, \"path\": \"M 0.999999463609104,0.0010357516615644763 Q -0.19971022891328855, 0.010762177632890701 0.9940969354148103, -0.10849554368213758L 0.9940969354148103, -0.10849554368213758 L 0.9940428251439966, -0.10899019120885044 L 0.9939884687441067, -0.1094848117491463 M 0.9939884687441067,-0.1094848117491463 Q -0.19971156030710915, 0.010737442884593352 0.9999974038689542, 0.0022786520909631007L 0.9999974038689542, 0.0022786520909631007 L 0.9999986268394976, 0.0016572021962707485 L 0.999999463609104, 0.0010357516615644763 \", \"type\": \"path\"}, {\"fillcolor\": \"#ecd5bb\", \"layer\": \"below\", \"line\": {\"color\": \"rgb(175,175,175)\", \"width\": 0.5}, \"path\": \"M 0.5614715799288513,0.8274960210975032 Q 0.03563180817775561, 0.19680034107181732 -0.2356939720020008, 0.9718273260008282L -0.2356939720020008, 0.9718273260008282 L -0.17002905521555492, 0.9854390495522825 L -0.10359949050966269, 0.9946190957176211 M -0.10359949050966269,0.9946190957176211 Q 0.03528708313844683, 0.19686244376106976 0.44261559318613725, 0.8967114567509907L 0.44261559318613725, 0.8967114567509907 L 0.5032349917649683, 0.8641496068756337 L 0.5614715799288513, 0.8274960210975032 \", \"type\": \"path\"}, {\"fillcolor\": \"#ecd5bb\", \"layer\": \"below\", \"line\": {\"color\": \"rgb(175,175,175)\", \"width\": 0.5}, \"path\": \"M 0.8014346578381862,0.5980823431734039 Q 0.03302677019615752, 0.19725423303546671 -0.5629102502948808, 0.8265180276999133L -0.5629102502948808, 0.8265180276999133 L -0.538890593289789, 0.8423757644090785 L -0.5144245129926989, 0.8575356671487342 M -0.5144245129926989,0.8575356671487342 Q 0.03276346725536392, 0.1972981378863133 0.763977060404701, 0.6452434045965846L 0.763977060404701, 0.6452434045965846 L 0.7830609831498933, 0.6219449305753062 L 0.8014346578381862, 0.5980823431734039 \", \"type\": \"path\"}, {\"fillcolor\": \"#ecd5bb\", \"layer\": \"below\", \"line\": {\"color\": \"rgb(175,175,175)\", \"width\": 0.5}, \"path\": \"M 0.9357372714574307,0.3526978293176792 Q 0.04485966700365762, 0.19490410533470287 -0.6873961348578473, 0.7262826954998254L -0.6873961348578473, 0.7262826954998254 L -0.6824809260030494, 0.7309034037696227 L -0.6775346572891153, 0.7354908484625224 M -0.6775346572891153,0.7354908484625224 Q 0.04452212901736826, 0.19498148637181126 0.9296229886525783, 0.36851200654612076L 0.9296229886525783, 0.36851200654612076 L 0.9327136468658391, 0.3606178766370668 L 0.9357372714574307, 0.3526978293176792 \", \"type\": \"path\"}, {\"fillcolor\": \"#ecd5bb\", \"layer\": \"below\", \"line\": {\"color\": \"rgb(175,175,175)\", \"width\": 0.5}, \"path\": \"M 0.8954783476103747,0.44510507631456303 Q 0.012395540278789386, 0.19961550686556623 -0.8335317507524982, 0.5524715562700719L -0.8335317507524982, 0.5524715562700719 L -0.8266500094163188, 0.5627164134197615 L -0.8196423565021788, 0.5728755601590587 M -0.8196423565021788,0.5728755601590587 Q 0.01200898419799656, 0.19963913518779897 0.8824044958817779, 0.47049155746689575L 0.8824044958817779, 0.47049155746689575 L 0.889032040846819, 0.4578449850634383 L 0.8954783476103747, 0.44510507631456303 \", \"type\": \"path\"}, {\"fillcolor\": \"#ecd5bb\", \"layer\": \"below\", \"line\": {\"color\": \"rgb(175,175,175)\", \"width\": 0.5}, \"path\": \"M 0.8824044958817779,0.47049155746689575 Q -0.018180151502986738, 0.1991719912320215 -0.9530039262963294, 0.3029579450415198L -0.9530039262963294, 0.3029579450415198 L -0.9471382606426347, 0.3208256773184535 L -0.9409376282813238, 0.33857994577989603 M -0.9409376282813238,0.33857994577989603 Q -0.018522414401423184, 0.19914045336079245 0.8623531358371694, 0.5063072872394792L 0.8623531358371694, 0.5063072872394792 L 0.8725625994650259, 0.4885023132133939 L 0.8824044958817779, 0.47049155746689575 \", \"type\": \"path\"}, {\"fillcolor\": \"#ecd5bb\", \"layer\": \"below\", \"line\": {\"color\": \"rgb(175,175,175)\", \"width\": 0.5}, \"path\": \"M 0.9454260996995809,0.3258366001646194 Q -0.00997873197468984, 0.19975090715232635 -0.9731929206971258, 0.22999030219771827L -0.9731929206971258, 0.22999030219771827 L -0.9721572845975877, 0.23432928541657974 L -0.9711023032315794, 0.23866360564258973 M -0.9711023032315794,0.23866360564258973 Q -0.01042454715043123, 0.19972813726840902 0.9409799804912035, 0.33846222287690303L 0.9409799804912035, 0.33846222287690303 L 0.9432241655261003, 0.33215685085150926 L 0.9454260996995809, 0.3258366001646194 \", \"type\": \"path\"}, {\"fillcolor\": \"#ecd5bb\", \"layer\": \"below\", \"line\": {\"color\": \"rgb(175,175,175)\", \"width\": 0.5}, \"path\": \"M 0.9409799804912035,0.33846222287690303 Q -0.02587391662002289, 0.19831928912423044 -0.9963200834747563, 0.08571050848556734L -0.9963200834747563, 0.08571050848556734 L -0.995788580557545, 0.09167934789902082 L -0.995221319331171, 0.09764489514932843 M -0.995221319331171,0.09764489514932843 Q -0.026189759674218206, 0.19827782651675074 0.9357372714574307, 0.3526978293176792L 0.9357372714574307, 0.3526978293176792 L 0.9383856211937033, 0.34558996793441155 L 0.9409799804912035, 0.33846222287690303 \", \"type\": \"path\"}, {\"fillcolor\": \"#ecd5bb\", \"layer\": \"below\", \"line\": {\"color\": \"rgb(175,175,175)\", \"width\": 0.5}, \"path\": \"M 0.923155724059172,0.3844262076612178 Q -0.040439810354401466, 0.1958688891541994 -0.9999203753817549, -0.012619148006516904L -0.9999203753817549, -0.012619148006516904 L -0.9999898676110378, -0.0045016302890304545 L -0.9999934615849706, 0.0036161840810436286 M -0.9999934615849706,0.0036161840810436286 Q -0.0407287215290314, 0.1958090172658313 0.9156106034088337, 0.40206619221878304L 0.9156106034088337, 0.40206619221878304 L 0.9194254695304792, 0.39326429532651175 L 0.923155724059172, 0.3844262076612178 \", \"type\": \"path\"}, {\"fillcolor\": \"#ecd5bb\", \"layer\": \"below\", \"line\": {\"color\": \"rgb(175,175,175)\", \"width\": 0.5}, \"path\": \"M 0.9156106034088337,0.40206619221878304 Q -0.062164490709786246, 0.19009359824779187 -0.9762574797524851, -0.21661332652292226L -0.9762574797524851, -0.21661332652292226 L -0.9781579407953146, -0.20786303870354123 L -0.9799799738298263, -0.19909608457348688 M -0.9799799738298263,-0.19909608457348688 Q -0.06243428480555391, 0.1900051580374043 0.9070721324148365, 0.42097523275888954L 0.9070721324148365, 0.42097523275888954 L 0.9113904085631753, 0.41154285703805904 L 0.9156106034088337, 0.40206619221878304 \", \"type\": \"path\"}, {\"fillcolor\": \"#ecd5bb\", \"layer\": \"below\", \"line\": {\"color\": \"rgb(175,175,175)\", \"width\": 0.5}, \"path\": \"M 0.9070721324148365,0.42097523275888954 Q -0.08393141538937789, 0.18153654593699778 -0.9082914114143928, -0.4183380355057979L -0.9082914114143928, -0.4183380355057979 L -0.9130006380094631, -0.40795812897197353 L -0.9175912482237744, -0.3975252208138947 M -0.9175912482237744,-0.3975252208138947 Q -0.08429203983842903, 0.1813693800504283 0.8954783476103747, 0.44510507631456303L 0.8954783476103747, 0.44510507631456303 L 0.9013559899380961, 0.43307895285122644 L 0.9070721324148365, 0.42097523275888954 \", \"type\": \"path\"}, {\"fillcolor\": \"#ecd5bb\", \"layer\": \"below\", \"line\": {\"color\": \"rgb(175,175,175)\", \"width\": 0.5}, \"path\": \"M 0.7092762569176679,0.704930628766308 Q -0.14858005060151286, 0.13388042636342282 -0.6274986216308294, -0.7786176724499704L -0.6274986216308294, -0.7786176724499704 L -0.6619839359196065, -0.749518024189136 L -0.6951214334182848, -0.7188923374209166 M -0.6951214334182848,-0.7188923374209166 Q -0.14884041681756638, 0.13359090658264547 0.6398667744189002, 0.768485856079832L 0.6398667744189002, 0.768485856079832 L 0.675319588402946, 0.7375252222936349 L 0.7092762569176679, 0.704930628766308 \", \"type\": \"path\"}, {\"fillcolor\": \"#ecd5bb\", \"layer\": \"below\", \"line\": {\"color\": \"rgb(175,175,175)\", \"width\": 0.5}, \"path\": \"M 0.6398667744189002,0.768485856079832 Q -0.18318832707394117, 0.08026230014054395 -0.1311923448766593, -0.9913569330194668L -0.1311923448766593, -0.9913569330194668 L -0.17840930600339544, -0.9839563605828191 L -0.2252187428288132, -0.9743082252955729 M -0.2252187428288132,-0.9743082252955729 Q -0.18329114852545245, 0.08002721332284746 0.5614715799288513, 0.8274960210975032L 0.5614715799288513, 0.8274960210975032 L 0.6013933906359415, 0.798953058508074 L 0.6398667744189002, 0.768485856079832 \", \"type\": \"path\"}, {\"fillcolor\": \"#ecd5bb\", \"layer\": \"below\", \"line\": {\"color\": \"rgb(175,175,175)\", \"width\": 0.5}, \"path\": \"M 0.9523234495561816,0.3050902283348564 Q -0.15796620735744393, 0.12266489853705109 -0.0597270100318626, -0.9982147485750017L -0.0597270100318626, -0.9982147485750017 L -0.06279951277827445, -0.9980261625803261 L -0.06587142044668813, -0.9978281194516095 M -0.06587142044668813,-0.9978281194516095 Q -0.15814943459962916, 0.1224285764673331 0.9494930217782852, 0.31378814763203033L 0.9494930217782852, 0.31378814763203033 L 0.950918180554876, 0.3094424241926182 L 0.9523234495561816, 0.3050902283348564 \", \"type\": \"path\"}, {\"fillcolor\": \"#ecd5bb\", \"layer\": \"below\", \"line\": {\"color\": \"rgb(175,175,175)\", \"width\": 0.5}, \"path\": \"M 0.44261559318613725,0.8967114567509907 Q -0.1990250390032045, -0.019723941030456604 0.6100106183717355, -0.7923932391645785L 0.6100106183717355, -0.7923932391645785 L 0.552544129525144, -0.8334836440670572 L 0.49231999309583124, -0.870414283199742 M 0.49231999309583124,-0.870414283199742 Q -0.19900615019361023, -0.019913618082062403 0.3100888133408687, 0.9507075932382427L 0.3100888133408687, 0.9507075932382427 L 0.37731932973302673, 0.9260832162445335 L 0.44261559318613725, 0.8967114567509907 \", \"type\": \"path\"}, {\"fillcolor\": \"#ecd5bb\", \"layer\": \"below\", \"line\": {\"color\": \"rgb(175,175,175)\", \"width\": 0.5}, \"path\": \"M 0.763977060404701,0.6452434045965846 Q -0.19872742061423074, -0.02252581399227628 0.8890159980942789, -0.45787613514184494L 0.8890159980942789, -0.45787613514184494 L 0.8705641059480465, -0.49205501464254836 L 0.8507988214820508, -0.5254915464255857 M 0.8507988214820508,-0.5254915464255857 Q -0.1986900344619186, -0.02285323183975526 0.7092762569176679, 0.704930628766308L 0.7092762569176679, 0.704930628766308 L 0.7372309512171968, 0.675640825118929 L 0.763977060404701, 0.6452434045965846 \", \"type\": \"path\"}, {\"fillcolor\": \"#ecd5bb\", \"layer\": \"below\", \"line\": {\"color\": \"rgb(175,175,175)\", \"width\": 0.5}, \"path\": \"M 0.8357403307304853,0.5491248488190087 Q -0.19800149986109083, -0.028202944044167507 0.9558245263699505, -0.2939378757316922L 0.9558245263699505, -0.2939378757316922 L 0.9480466142762864, -0.3181314463539719 L 0.9396564301903277, -0.34211955980617315 M 0.9396564301903277,-0.34211955980617315 Q -0.19787313600331735, -0.02908989598146878 0.8014346578381862, 0.5980823431734039L 0.8014346578381862, 0.5980823431734039 L 0.8189534143417881, 0.5738600048251554 L 0.8357403307304853, 0.5491248488190087 \", \"type\": \"path\"}, {\"fillcolor\": \"#ecd5bb\", \"layer\": \"below\", \"line\": {\"color\": \"rgb(175,175,175)\", \"width\": 0.5}, \"path\": \"M 0.9296229886525783,0.36851200654612076 Q -0.1991744892826398, -0.018152763398436175 0.9809253887422138, -0.19438462315969526L 0.9809253887422138, -0.19438462315969526 L 0.9795256421629068, -0.20131943856802573 L 0.9780768693895334, -0.2082441777461487 M 0.9780768693895334,-0.2082441777461487 Q -0.19914676899539716, -0.018454386976920447 0.923155724059172, 0.3844262076612178L 0.923155724059172, 0.3844262076612178 L 0.926423528964337, 0.37648299427897713 L 0.9296229886525783, 0.36851200654612076 \", \"type\": \"path\"}, {\"fillcolor\": \"#ecd5bb\", \"layer\": \"below\", \"line\": {\"color\": \"rgb(175,175,175)\", \"width\": 0.5}, \"path\": \"M 0.9494930217782852,0.31378814763203033 Q -0.1981643834589709, -0.027034739287182898 0.9988480994021209, -0.04798410487620542L 0.9988480994021209, -0.04798410487620542 L 0.9986101103017132, -0.0527052900874311 L 0.9983498060314877, -0.057425297534195494 M 0.9983498060314877,-0.057425297534195494 Q -0.19812002558874087, -0.0273579140417662 0.9454260996995809, 0.3258366001646194L 0.9454260996995809, 0.3258366001646194 L 0.9474787124456778, 0.3198188385043641 L 0.9494930217782852, 0.31378814763203033 \", \"type\": \"path\"}, {\"fillcolor\": \"#e6c4a9\", \"layer\": \"below\", \"line\": {\"color\": \"rgb(175,175,175)\", \"width\": 0.5}, \"path\": \"M 0.016663071017116036,0.99986116139406 Q -0.06290108250768331, 0.1898511359443541 -0.6103758593937056, 0.7921119303920345L -0.6103758593937056, 0.7921119303920345 L -0.5868952365457011, 0.8096628812783537 L -0.5629102502948808, 0.8265180276999133 M -0.5629102502948808,0.8265180276999133 Q -0.06301096028440314, 0.18981469617507854 -0.04311273163063156, 0.9990702139346088L -0.04311273163063156, 0.9990702139346088 L -0.013230742084760199, 0.9999124699011842 L 0.016663071017116036, 0.99986116139406 \", \"type\": \"path\"}, {\"fillcolor\": \"#e6c4a9\", \"layer\": \"below\", \"line\": {\"color\": \"rgb(175,175,175)\", \"width\": 0.5}, \"path\": \"M 0.2298345015732425,0.9732297271901322 Q -0.050690749046219265, 0.19346950137200752 -0.6775346572891153, 0.7354908484625224L -0.6775346572891153, 0.7354908484625224 L -0.6736735188799562, 0.7390290860039931 L -0.6697939032804449, 0.7425470538143331 M -0.6697939032804449,0.7425470538143331 Q -0.050918368598927614, 0.19340971986749722 0.2173316746598873, 0.9760978143554717L 0.2173316746598873, 0.9760978143554717 L 0.22358768698820733, 0.9746838185931187 L 0.2298345015732425, 0.9732297271901322 \", \"type\": \"path\"}, {\"fillcolor\": \"#e6c4a9\", \"layer\": \"below\", \"line\": {\"color\": \"rgb(175,175,175)\", \"width\": 0.5}, \"path\": \"M 0.20159985531511176,0.9794679669784643 Q -0.07027424006045417, 0.187247246131754 -0.796244321689174, 0.6049751897208241L -0.796244321689174, 0.6049751897208241 L -0.7913184225308867, 0.611404247747126 L -0.7863406150446791, 0.6177931993241393 M -0.7863406150446791,0.6177931993241393 Q -0.07046750134098127, 0.18717460098731026 0.18367909931620596, 0.9829862605725409L 0.18367909931620596, 0.9829862605725409 L 0.1926475092439655, 0.9812680251501606 L 0.20159985531511176, 0.9794679669784643 \", \"type\": \"path\"}, {\"fillcolor\": \"#e6c4a9\", \"layer\": \"below\", \"line\": {\"color\": \"rgb(175,175,175)\", \"width\": 0.5}, \"path\": \"M 0.14507888063882418,0.9894200919693241 Q -0.09718062610864989, 0.1748025340466516 -0.916956814044405, 0.3989864674115334L -0.916956814044405, 0.3989864674115334 L -0.9115326814564714, 0.4112276384641177 L -0.9059451406989969, 0.42339508977298573 M -0.9059451406989969,0.42339508977298573 Q -0.09732946946847841, 0.17471970230338804 0.11684343052951077, 0.9931503475013718L 0.11684343052951077, 0.9931503475013718 L 0.1309744363359665, 0.9913857458257487 L 0.14507888063882418, 0.9894200919693241 \", \"type\": \"path\"}, {\"fillcolor\": \"#e6c4a9\", \"layer\": \"below\", \"line\": {\"color\": \"rgb(175,175,175)\", \"width\": 0.5}, \"path\": \"M 0.23934524279278308,0.9709345265013825 Q -0.10352241771893722, 0.17112308152211927 -0.9711023032315794, 0.23866360564258973L -0.9711023032315794, 0.23866360564258973 L -0.970298384490338, 0.24191123383472737 L -0.9694836048361769, 0.24515615422389786 M -0.9694836048361769,0.24515615422389786 Q -0.10378689337336776, 0.17096280520600146 0.2298345015732425, 0.9732297271901322L 0.2298345015732425, 0.9732297271901322 L 0.23459267916410495, 0.972093758277774 L 0.23934524279278308, 0.9709345265013825 \", \"type\": \"path\"}, {\"fillcolor\": \"#e6c4a9\", \"layer\": \"below\", \"line\": {\"color\": \"rgb(175,175,175)\", \"width\": 0.5}, \"path\": \"M 0.25556553697401146,0.9667917336795889 Q -0.10884558589817826, 0.16778747995748167 -0.986998992575972, 0.1607264404322335L -0.986998992575972, 0.1607264404322335 L -0.9864841248150297, 0.1638568628038663 L -0.985959328453375, 0.16698563601630495 M -0.985959328453375,0.16698563601630495 Q -0.10896989348333162, 0.16770677480123264 0.2479906618372886, 0.9687624227030607L 0.2479906618372886, 0.9687624227030607 L 0.2517800274925081, 0.9677844893135412 L 0.25556553697401146, 0.9667917336795889 \", \"type\": \"path\"}, {\"fillcolor\": \"#e6c4a9\", \"layer\": \"below\", \"line\": {\"color\": \"rgb(175,175,175)\", \"width\": 0.5}, \"path\": \"M 0.2627052175987937,0.9648761416090516 Q -0.11921362795609299, 0.16058677065545046 -0.9996141351317183, 0.027777344093107184L -0.9996141351317183, 0.027777344093107184 L -0.9995198392382298, 0.030985334743764713 L -0.9994152481947131, 0.034193006242508144 M -0.9994152481947131,0.034193006242508144 Q -0.11929177588167526, 0.1605287270459595 0.25556553697401146, 0.9667917336795889L 0.25556553697401146, 0.9667917336795889 L 0.2591371473459784, 0.9658405349049027 L 0.2627052175987937, 0.9648761416090516 \", \"type\": \"path\"}, {\"fillcolor\": \"#e6c4a9\", \"layer\": \"below\", \"line\": {\"color\": \"rgb(175,175,175)\", \"width\": 0.5}, \"path\": \"M 0.2479906618372886,0.9687624227030607 Q -0.13589194843461327, 0.14674255807585068 -0.9849241495384008, -0.17298676150520265L -0.9849241495384008, -0.17298676150520265 L -0.985599356500144, -0.16909733429744578 L -0.986259204326567, -0.16520527195318827 M -0.986259204326567,-0.16520527195318827 Q -0.13596669105212805, 0.14667330678871043 0.23934524279278308, 0.9709345265013825L 0.23934524279278308, 0.9709345265013825 L 0.2436703726227919, 0.9698581079239734 L 0.2479906618372886, 0.9687624227030607 \", \"type\": \"path\"}, {\"fillcolor\": \"#e6c4a9\", \"layer\": \"below\", \"line\": {\"color\": \"rgb(175,175,175)\", \"width\": 0.5}, \"path\": \"M 0.2173316746598873,0.9760978143554717 Q -0.1530382889302868, 0.12876056120291676 -0.9245432990333278, -0.38107701086863094L -0.9245432990333278, -0.38107701086863094 L -0.9271990042045632, -0.3745690945634281 L -0.9298089004186108, -0.36804267239320754 M -0.9298089004186108,-0.36804267239320754 Q -0.15316896998381893, 0.12860508012553773 0.20159985531511176, 0.9794679669784643L 0.20159985531511176, 0.9794679669784643 L 0.20947254279254346, 0.9778145293541235 L 0.2173316746598873, 0.9760978143554717 \", \"type\": \"path\"}, {\"fillcolor\": \"#e6c4a9\", \"layer\": \"below\", \"line\": {\"color\": \"rgb(175,175,175)\", \"width\": 0.5}, \"path\": \"M 0.16462492012614505,0.986356241767375 Q -0.16802575392061686, 0.10847739865708578 -0.8311505976270466, -0.5560473757371788L -0.8311505976270466, -0.5560473757371788 L -0.8365220580511933, -0.5479332499436369 L -0.8418143068427484, -0.5397672394605504 M -0.8418143068427484,-0.5397672394605504 Q -0.16804327266312047, 0.1084502582415927 0.14507888063882418, 0.9894200919693241L 0.14507888063882418, 0.9894200919693241 L 0.15485947774218384, 0.9879365071467994 L 0.16462492012614505, 0.986356241767375 \", \"type\": \"path\"}, {\"fillcolor\": \"#e6c4a9\", \"layer\": \"below\", \"line\": {\"color\": \"rgb(175,175,175)\", \"width\": 0.5}, \"path\": \"M 0.08851320223481894,0.9960750037171588 Q -0.19311442564933187, 0.052027094923017575 -0.4238536269042081, -0.9057307011248699L -0.4238536269042081, -0.9057307011248699 L -0.44001920135982947, -0.8979883643091696 L -0.4560434110328257, -0.8899575311516529 M -0.4560434110328257,-0.8899575311516529 Q -0.19311508886568732, 0.052024633130832255 0.05273075737485102, 0.9986087658471032L 0.05273075737485102, 0.9986087658471032 L 0.0706333421210359, 0.9975023463535375 L 0.08851320223481894, 0.9960750037171588 \", \"type\": \"path\"}, {\"fillcolor\": \"#e6c4a9\", \"layer\": \"below\", \"line\": {\"color\": \"rgb(175,175,175)\", \"width\": 0.5}, \"path\": \"M 0.2698305428198,0.9629078243329275 Q -0.1970292980604783, 0.03434320465237928 -0.07186356287695185, -0.9974144716869865L -0.07186356287695185, -0.9974144716869865 L -0.07440945087780043, -0.997227774192067 L -0.07695485399677925, -0.997034578360417 M -0.07695485399677925,-0.997034578360417 Q -0.1970684366079307, 0.034117902821041234 0.2627052175987937, 0.9648761416090516L 0.2627052175987937, 0.9648761416090516 L 0.26626969898840797, 0.9638985669667854 L 0.2698305428198, 0.9629078243329275 \", \"type\": \"path\"}, {\"fillcolor\": \"#e6c4a9\", \"layer\": \"below\", \"line\": {\"color\": \"rgb(175,175,175)\", \"width\": 0.5}, \"path\": \"M -0.04311273163063156,0.9990702139346088 Q -0.19632949625978768, -0.038140908462935344 0.3340842819503998, -0.9425432046085133L 0.3340842819503998, -0.9425432046085133 L 0.3049881198279903, -0.9523561554186477 L 0.27560439030773826, -0.9612711480342577 M 0.27560439030773826,-0.9612711480342577 Q -0.19634389043610018, -0.03806673992367482 -0.10359949050966269, 0.9946190957176211L -0.10359949050966269, 0.9946190957176211 L -0.0733898640459372, 0.9973033279074721 L -0.04311273163063156, 0.9990702139346088 \", \"type\": \"path\"}, {\"fillcolor\": \"#e6c4a9\", \"layer\": \"below\", \"line\": {\"color\": \"rgb(175,175,175)\", \"width\": 0.5}, \"path\": \"M 0.05273075737485102,0.9986087658471032 Q -0.17883754735558202, -0.08953843675115153 0.8311211271903044, -0.5560914240823337L 0.8311211271903044, -0.5560914240823337 L 0.8211124613937189, -0.5707664371211298 L 0.810844710475911, -0.5852613565692135 M 0.810844710475911,-0.5852613565692135 Q -0.17881226259364147, -0.08958892088948614 0.016663071017116036, 0.99986116139406L 0.016663071017116036, 0.99986116139406 L 0.034702564435138576, 0.9993976846189033 L 0.05273075737485102, 0.9986087658471032 \", \"type\": \"path\"}, {\"fillcolor\": \"#e6c4a9\", \"layer\": \"below\", \"line\": {\"color\": \"rgb(175,175,175)\", \"width\": 0.5}, \"path\": \"M 0.18367909931620596,0.9829862605725409 Q -0.1737178213958853, -0.09910660184602893 0.9396564301903277, -0.34211955980617315L 0.9396564301903277, -0.34211955980617315 L 0.9367356318052041, -0.3500376495557372 L 0.9337481123559351, -0.3579308071006574 M 0.9337481123559351,-0.3579308071006574 Q -0.17359524729203285, -0.09932114637688172 0.16462492012614505, 0.986356241767375L 0.16462492012614505, 0.986356241767375 L 0.17416016101059895, 0.9847173392993354 L 0.18367909931620596, 0.9829862605725409 \", \"type\": \"path\"}, {\"fillcolor\": \"#e6c4a9\", \"layer\": \"below\", \"line\": {\"color\": \"rgb(175,175,175)\", \"width\": 0.5}, \"path\": \"M 0.28007335606526934,0.9599786014398117 Q -0.1740896012035552, -0.09845207337982842 0.9670152614244331, -0.2547184409740202L 0.9670152614244331, -0.2547184409740202 L 0.9665926800968943, -0.25631736340541383 L 0.9661674550147287, -0.25791558477603127 M 0.9661674550147287,-0.25791558477603127 Q -0.17405976821435143, -0.09850480744190232 0.2763143221915524, 0.9610673209259708L 0.2763143221915524, 0.9610673209259708 L 0.2781943717197277, 0.9605248000668519 L 0.28007335606526934, 0.9599786014398117 \", \"type\": \"path\"}, {\"fillcolor\": \"#e6c4a9\", \"layer\": \"below\", \"line\": {\"color\": \"rgb(175,175,175)\", \"width\": 0.5}, \"path\": \"M 0.2763143221915524,0.9610673209259708 Q -0.1649615836796895, -0.1130826065754093 0.9960446492332307, -0.08885413177703412L 0.9960446492332307, -0.08885413177703412 L 0.9958129204470112, -0.09141459112633257 L 0.9955746096856136, -0.09397444625715047 M 0.9955746096856136,-0.09397444625715047 Q -0.16487117194570095, -0.11321438363234203 0.2698305428198, 0.9629078243329275L 0.2698305428198, 0.9629078243329275 L 0.27307398312136005, 0.9619930351838495 L 0.2763143221915524, 0.9610673209259708 \", \"type\": \"path\"}, {\"fillcolor\": \"#e1b396\", \"layer\": \"below\", \"line\": {\"color\": \"rgb(175,175,175)\", \"width\": 0.5}, \"path\": \"M -0.3416406706158519,0.9398306507989357 Q -0.10649722912839335, 0.1692877437618403 -0.6992930403908221, 0.714835116415639L -0.6992930403908221, 0.714835116415639 L -0.6933682131123989, 0.7205834587647144 L -0.6873961348578473, 0.7262826954998254 M -0.6873961348578473,0.7262826954998254 Q -0.10677793879542455, 0.16911082693488486 -0.36020761303082655, 0.9328721646156211L -0.36020761303082655, 0.9328721646156211 L -0.35094138890552345, 0.9363974271392794 L -0.3416406706158519, 0.9398306507989357 \", \"type\": \"path\"}, {\"fillcolor\": \"#e1b396\", \"layer\": \"below\", \"line\": {\"color\": \"rgb(175,175,175)\", \"width\": 0.5}, \"path\": \"M -0.36020761303082655,0.9328721646156211 Q -0.12173951338136489, 0.15868046786441137 -0.8077618326636458, 0.5895089665915764L -0.8077618326636458, 0.5895089665915764 L -0.8020403585948161, 0.5972698411816043 L -0.796244321689174, 0.6049751897208241 M -0.796244321689174,0.6049751897208241 Q -0.12190106196747884, 0.15855639719418732 -0.38001385769239515, 0.9249807932934305L -0.38001385769239515, 0.9249807932934305 L -0.37013176689558613, 0.9289792651802038 L -0.36020761303082655, 0.9328721646156211 \", \"type\": \"path\"}, {\"fillcolor\": \"#e1b396\", \"layer\": \"below\", \"line\": {\"color\": \"rgb(175,175,175)\", \"width\": 0.5}, \"path\": \"M -0.4482982346967023,0.89388404883845 Q -0.1496107927209119, 0.13272758078643768 -0.9409376282813238, 0.33857994577989603L -0.9409376282813238, 0.33857994577989603 L -0.9347678118781216, 0.3552592544559374 L -0.9283023602239652, 0.37182620671842853 M -0.9283023602239652,0.37182620671842853 Q -0.14971228945240328, 0.13261308527788584 -0.4811437186298374, 0.8766417295697553L -0.4811437186298374, 0.8766417295697553 L -0.46480093647098464, 0.8854152073777001 L -0.4482982346967023, 0.89388404883845 \", \"type\": \"path\"}, {\"fillcolor\": \"#e1b396\", \"layer\": \"below\", \"line\": {\"color\": \"rgb(175,175,175)\", \"width\": 0.5}, \"path\": \"M -0.26815810959816466,0.9633749157294572 Q -0.14159008973643505, 0.1412524211772254 -0.9640124441974015, 0.26585711845378873L -0.9640124441974015, 0.26585711845378873 L -0.9637748698191588, 0.26671707914016957 L -0.9635365283012095, 0.2675768275266983 M -0.9635365283012095,0.2675768275266983 Q -0.14164475465438794, 0.14119760436671103 -0.27062202492152804, 0.9626856805974481L -0.27062202492152804, 0.9626856805974481 L -0.2693902876859732, 0.9630310861547869 L -0.26815810959816466, 0.9633749157294572 \", \"type\": \"path\"}, {\"fillcolor\": \"#e1b396\", \"layer\": \"below\", \"line\": {\"color\": \"rgb(175,175,175)\", \"width\": 0.5}, \"path\": \"M -0.2945499031622823,0.9556360994369615 Q -0.1536070613685979, 0.1280815002164786 -0.993017129249564, 0.11797025479736305L -0.993017129249564, 0.11797025479736305 L -0.9925092355415763, 0.12216962537666938 L -0.9919835831940789, 0.12636681001527267 M -0.9919835831940789,0.12636681001527267 Q -0.15372061255905034, 0.12794519637122118 -0.3043142914200988, 0.9525716834115336L -0.3043142914200988, 0.9525716834115336 L -0.2994360174554746, 0.9541163825500559 L -0.2945499031622823, 0.9556360994369615 \", \"type\": \"path\"}, {\"fillcolor\": \"#e1b396\", \"layer\": \"below\", \"line\": {\"color\": \"rgb(175,175,175)\", \"width\": 0.5}, \"path\": \"M -0.280664455476651,0.9598059509254957 Q -0.15796719188224112, 0.12266363066874882 -0.9994152481947131, 0.034193006242508144L -0.9994152481947131, 0.034193006242508144 L -0.9993179035096141, 0.036928684313817406 L -0.9992130705252467, 0.03966408566333597 M -0.9992130705252467,0.03966408566333597 Q -0.15801061860824073, 0.12260768494283342 -0.2865935752773704, 0.9580522546342314L -0.2865935752773704, 0.9580522546342314 L -0.28363037077577397, 0.9589336852846484 L -0.280664455476651, 0.9598059509254957 \", \"type\": \"path\"}, {\"fillcolor\": \"#e1b396\", \"layer\": \"below\", \"line\": {\"color\": \"rgb(175,175,175)\", \"width\": 0.5}, \"path\": \"M -0.2747246058984148,0.9615229539194374 Q -0.16806739468157658, 0.10841287213678628 -0.9892574444752237, -0.14618381767606758L -0.9892574444752237, -0.14618381767606758 L -0.9896617630833184, -0.14342103991680452 L -0.9900583658781094, -0.14065714398766857 M -0.9900583658781094,-0.14065714398766857 Q -0.1680998367630874, 0.10836256217081329 -0.280664455476651, 0.9598059509254957L -0.280664455476651, 0.9598059509254957 L -0.2776958577267394, 0.9606690432200938 L -0.2747246058984148, 0.9615229539194374 \", \"type\": \"path\"}, {\"fillcolor\": \"#e1b396\", \"layer\": \"below\", \"line\": {\"color\": \"rgb(175,175,175)\", \"width\": 0.5}, \"path\": \"M -0.3154634090522297,0.948937741661246 Q -0.18066710222712212, 0.08578693474448544 -0.9347558298698355, -0.3552907802411359L -0.9347558298698355, -0.3552907802411359 L -0.9368983857145726, -0.3496017946827904 L -0.9390063183836855, -0.34389988955438267 M -0.9390063183836855,-0.34389988955438267 Q -0.18073084250595262, 0.08565256894622925 -0.3283822156378262, 0.9445449277047611L -0.3283822156378262, 0.9445449277047611 L -0.321930305053355, 0.9467633699548446 L -0.3154634090522297, 0.948937741661246 \", \"type\": \"path\"}, {\"fillcolor\": \"#e1b396\", \"layer\": \"below\", \"line\": {\"color\": \"rgb(175,175,175)\", \"width\": 0.5}, \"path\": \"M -0.3283822156378262,0.9445449277047611 Q -0.1884741257710237, 0.06691415332236028 -0.8504760880985728, -0.5260137104416088L -0.8504760880985728, -0.5260137104416088 L -0.8541672960936574, -0.5199982983472641 L -0.8578159578456352, -0.5139569850341322 M -0.8578159578456352,-0.5139569850341322 Q -0.18847266893800013, 0.06691825657761119 -0.3416406706158519, 0.9398306507989357L -0.3416406706158519, 0.9398306507989357 L -0.3350197354300394, 0.9422111105651357 L -0.3283822156378262, 0.9445449277047611 \", \"type\": \"path\"}, {\"fillcolor\": \"#e1b396\", \"layer\": \"below\", \"line\": {\"color\": \"rgb(175,175,175)\", \"width\": 0.5}, \"path\": \"M -0.38001385769239515,0.9249807932934305 Q -0.1996768074591473, 0.011365410811872671 -0.4825174738715058, -0.8758863438875278L -0.4825174738715058, -0.8758863438875278 L -0.49285465172163406, -0.8701116550629274 L -0.5031227292416872, -0.8642149728628843 M -0.5031227292416872,-0.8642149728628843 Q -0.19967429083666946, 0.01140953894218069 -0.4014055998420579, 0.9159004009254705L -0.4014055998420579, 0.9159004009254705 L -0.3907361072830981, 0.9205027400639562 L -0.38001385769239515, 0.9249807932934305 \", \"type\": \"path\"}, {\"fillcolor\": \"#e1b396\", \"layer\": \"below\", \"line\": {\"color\": \"rgb(175,175,175)\", \"width\": 0.5}, \"path\": \"M -0.27062202492152804,0.9626856805974481 Q -0.19911000360155426, -0.018846921918155676 -0.0851864614154403, -0.9963650268809698L -0.0851864614154403, -0.9963650268809698 L -0.08668250950054605, -0.9962359873778339 L -0.08817836213297102, -0.996104701550769 M -0.08817836213297102,-0.996104701550769 Q -0.19909808139878615, -0.018972453276325008 -0.2747246058984148, 0.9615229539194374L -0.2747246058984148, 0.9615229539194374 L -0.272673935167991, 0.9621065040212555 L -0.27062202492152804, 0.9626856805974481 \", \"type\": \"path\"}, {\"fillcolor\": \"#e1b396\", \"layer\": \"below\", \"line\": {\"color\": \"rgb(175,175,175)\", \"width\": 0.5}, \"path\": \"M -0.4811437186298374,0.8766417295697553 Q -0.18493702066243425, -0.07614655861233893 0.27560439030773826, -0.9612711480342577L 0.27560439030773826, -0.9612711480342577 L 0.2565074878487998, -0.9665422436073334 L 0.23730991232318427, -0.971433994419159 M 0.23730991232318427,-0.971433994419159 Q -0.18498439190483068, -0.07603140635027093 -0.5144245129926989, 0.8575356671487342L -0.5144245129926989, 0.8575356671487342 L -0.49787577402331495, 0.8672483575312697 L -0.4811437186298374, 0.8766417295697553 \", \"type\": \"path\"}, {\"fillcolor\": \"#e1b396\", \"layer\": \"below\", \"line\": {\"color\": \"rgb(175,175,175)\", \"width\": 0.5}, \"path\": \"M -0.4014055998420579,0.9159004009254705 Q -0.16151818007104848, -0.11794862231724608 0.7502435888848206, -0.6611615213676794L 0.7502435888848206, -0.6611615213676794 L 0.7420507628474445, -0.6703436919651931 L 0.7337455646085372, -0.6794243492967403 M 0.7337455646085372,-0.6794243492967403 Q -0.1615236612748832, -0.11794111602132991 -0.42373962990973063, 0.9057840394067256L -0.42373962990973063, 0.9057840394067256 L -0.4126036206071483, 0.9109106719442212 L -0.4014055998420579, 0.9159004009254705 \", \"type\": \"path\"}, {\"fillcolor\": \"#e1b396\", \"layer\": \"below\", \"line\": {\"color\": \"rgb(175,175,175)\", \"width\": 0.5}, \"path\": \"M -0.2865935752773704,0.9580522546342314 Q -0.15003319746438923, -0.13224991364311584 0.9145108439561184, -0.40456138753799537L 0.9145108439561184, -0.40456138753799537 L 0.9130084153345459, -0.4079407230570409 L 0.9114934993139896, -0.4113144790891004 M 0.9114934993139896,-0.4113144790891004 Q -0.14997244030038778, -0.1323188087550165 -0.2945499031622823, 0.9556360994369615L -0.2945499031622823, 0.9556360994369615 L -0.29057425055348446, 0.9568524467833486 L -0.2865935752773704, 0.9580522546342314 \", \"type\": \"path\"}, {\"fillcolor\": \"#e1b396\", \"layer\": \"below\", \"line\": {\"color\": \"rgb(175,175,175)\", \"width\": 0.5}, \"path\": \"M -0.3043142914200988,0.9525716834115336 Q -0.13421808652291503, -0.14827509989923224 0.9780768693895334, -0.2082441777461487L 0.9780768693895334, -0.2082441777461487 L 0.9770120557273524, -0.21318405888671133 L 0.9759222928373329, -0.2181184961050371 M 0.9759222928373329,-0.2181184961050371 Q -0.13409795670627703, -0.14838375250411162 -0.3154634090522297, 0.948937741661246L -0.3154634090522297, 0.948937741661246 L -0.3098941769118178, 0.9507710550475056 L -0.3043142914200988, 0.9525716834115336 \", \"type\": \"path\"}, {\"fillcolor\": \"#e1b396\", \"layer\": \"below\", \"line\": {\"color\": \"rgb(175,175,175)\", \"width\": 0.5}, \"path\": \"M -0.2661035052572101,0.9639444613097925 Q -0.1294165271947135, -0.1524839745312929 0.994381366128803, -0.10585697282567402L 0.994381366128803, -0.10585697282567402 L 0.9942932337542814, -0.10668160717974759 L 0.9942044175156782, -0.107506168159371 M 0.9942044175156782,-0.107506168159371 Q -0.12938042885504616, -0.1525146046425861 -0.26815810959816466, 0.9633749157294572L -0.26815810959816466, 0.9633749157294572 L -0.267130959217591, 0.9636602360933493 L -0.2661035052572101, 0.9639444613097925 \", \"type\": \"path\"}, {\"fillcolor\": \"#dba284\", \"layer\": \"below\", \"line\": {\"color\": \"rgb(175,175,175)\", \"width\": 0.5}, \"path\": \"M -0.6992930403908221,0.714835116415639 Q -0.1525554736988176, 0.12933223667952773 -0.8196423565021788, 0.5728755601590587L -0.8196423565021788, 0.5728755601590587 L -0.8137445952391977, 0.5812226197585518 L -0.8077618326636458, 0.5895089665915764 M -0.8077618326636458,0.5895089665915764 Q -0.1524504864496497, 0.12945597391107594 -0.7126203264725145, 0.7015499057787742L -0.7126203264725145, 0.7015499057787742 L -0.7059879340946681, 0.7082238607338379 L -0.6992930403908221, 0.714835116415639 \", \"type\": \"path\"}, {\"fillcolor\": \"#dba284\", \"layer\": \"below\", \"line\": {\"color\": \"rgb(175,175,175)\", \"width\": 0.5}, \"path\": \"M -0.6454564526236958,0.7637970723735689 Q -0.1537564972561745, 0.1279020701611667 -0.8685403398505943, 0.4956184803376627L -0.8685403398505943, 0.4956184803376627 L -0.8665578641539748, 0.4990766154338443 L -0.8645616197989751, 0.5025268207474826 M -0.8645616197989751,0.5025268207474826 Q -0.1536894225313708, 0.12798266055202076 -0.6507292180841262, 0.7593098739853327L -0.6507292180841262, 0.7593098739853327 L -0.6480967188425006, 0.7615580365445463 L -0.6454564526236958, 0.7637970723735689 \", \"type\": \"path\"}, {\"fillcolor\": \"#dba284\", \"layer\": \"below\", \"line\": {\"color\": \"rgb(175,175,175)\", \"width\": 0.5}, \"path\": \"M -0.6352297738459944,0.7723232059310188 Q -0.16739516334136748, 0.109447975266411 -0.9622524252609709, 0.272158538501697L -0.9622524252609709, 0.272158538501697 L -0.9622119458387439, 0.2723016182199771 L -0.9621714451416361, 0.2724446919175623 M -0.9621714451416361,0.2724446919175623 Q -0.1673983191335522, 0.10944314848934773 -0.6355039548487751, 0.7720976125928418L -0.6355039548487751, 0.7720976125928418 L -0.6353668743597801, 0.7722104214307675 L -0.6352297738459944, 0.7723232059310188 \", \"type\": \"path\"}, {\"fillcolor\": \"#dba284\", \"layer\": \"below\", \"line\": {\"color\": \"rgb(175,175,175)\", \"width\": 0.5}, \"path\": \"M -0.663309248677684,0.7483454019492912 Q -0.17762134500480267, 0.09192745943778094 -0.9939989000425155, 0.10939006679890755L -0.9939989000425155, 0.10939006679890755 L -0.9935172771886948, 0.11368122064599025 L -0.993017129249564, 0.11797025479736305 M -0.993017129249564,0.11797025479736305 Q -0.17762422998492633, 0.09192188489289156 -0.6697939032804449, 0.7425470538143331L -0.6697939032804449, 0.7425470538143331 L -0.6665578809454196, 0.7454532791191892 L -0.663309248677684, 0.7483454019492912 \", \"type\": \"path\"}, {\"fillcolor\": \"#dba284\", \"layer\": \"below\", \"line\": {\"color\": \"rgb(175,175,175)\", \"width\": 0.5}, \"path\": \"M -0.6355039548487751,0.7720976125928418 Q -0.1785554362185903, 0.09009970142452714 -0.998621561536795, 0.05248787320718009L -0.998621561536795, 0.05248787320718009 L -0.9986016723069373, 0.05286492282968107 L -0.9985816407144287, 0.05324196491565296 M -0.9985816407144287,0.05324196491565296 Q -0.17855340768024497, 0.09010372137582463 -0.6360520764704509, 0.7716461339355156L -0.6360520764704509, 0.7716461339355156 L -0.6357780557351124, 0.77187192191819 L -0.6355039548487751, 0.7720976125928418 \", \"type\": \"path\"}, {\"fillcolor\": \"#dba284\", \"layer\": \"below\", \"line\": {\"color\": \"rgb(175,175,175)\", \"width\": 0.5}, \"path\": \"M -0.6376945157776903,0.7702893641658679 Q -0.1859702866616409, 0.07358704015645089 -0.9921076634963377, -0.12538893105787904L -0.9921076634963377, -0.12538893105787904 L -0.9922638329757962, -0.1241470328609632 L -0.9924184478754702, -0.12290494016288625 M -0.9924184478754702,-0.12290494016288625 Q -0.1859630938112585, 0.07360521544119737 -0.6394705588455956, 0.7688155854102476L -0.6394705588455956, 0.7688155854102476 L -0.6385829624765534, 0.7695529871520667 L -0.6376945157776903, 0.7702893641658679 \", \"type\": \"path\"}, {\"fillcolor\": \"#dba284\", \"layer\": \"below\", \"line\": {\"color\": \"rgb(175,175,175)\", \"width\": 0.5}, \"path\": \"M -0.6349555127613357,0.7725487019042808 Q -0.19186380332567332, 0.056464864946330545 -0.952207464074191, -0.3054520344692408L -0.952207464074191, -0.3054520344692408 L -0.9522654739983781, -0.3052711369105247 L -0.9523234495561822, -0.3050902283348547 M -0.9523234495561822,-0.3050902283348547 Q -0.19186310081595226, 0.05646725197216306 -0.6352297738459944, 0.7723232059310188L -0.6352297738459944, 0.7723232059310188 L -0.635092653311739, 0.7724359660900412 L -0.6349555127613357, 0.7725487019042808 \", \"type\": \"path\"}, {\"fillcolor\": \"#dba284\", \"layer\": \"below\", \"line\": {\"color\": \"rgb(175,175,175)\", \"width\": 0.5}, \"path\": \"M -0.6394705588455956,0.7688155854102476 Q -0.19635686595670765, 0.0379997525210302 -0.8801277336818955, -0.4747369507463797L -0.8801277336818955, -0.4747369507463797 L -0.8808374649016956, -0.47341880024514676 L -0.8815452219540861, -0.4720995886991652 M -0.8815452219540861,-0.4720995886991652 Q -0.19634719371624312, 0.03804969802450609 -0.641379411212022, 0.7672238596871971L -0.641379411212022, 0.7672238596871971 L -0.6404254795421902, 0.7680203155862192 L -0.6394705588455956, 0.7688155854102476 \", \"type\": \"path\"}, {\"fillcolor\": \"#dba284\", \"layer\": \"below\", \"line\": {\"color\": \"rgb(175,175,175)\", \"width\": 0.5}, \"path\": \"M -0.6360520764704509,0.7716461339355156 Q -0.19995214108607326, -0.004375074295947695 -0.6016913210270433, -0.798728711266054L -0.6016913210270433, -0.798728711266054 L -0.6022117968411163, -0.7983363650400714 L -0.602732016817169, -0.7979436796563452 M -0.602732016817169,-0.7979436796563452 Q -0.1999526611761263, -0.004351239890564697 -0.6368736574250737, 0.7709681864240637L -0.6368736574250737, 0.7709681864240637 L -0.6364629572147715, 0.7713072695712312 L -0.6360520764704509, 0.7716461339355156 \", \"type\": \"path\"}, {\"fillcolor\": \"#dba284\", \"layer\": \"below\", \"line\": {\"color\": \"rgb(175,175,175)\", \"width\": 0.5}, \"path\": \"M -0.657042105153231,0.7538538797776466 Q -0.18601248221573688, -0.0734803134175418 0.035531493243848425, -0.9993685571338846L 0.035531493243848425, -0.9993685571338846 L 0.030361347799175733, -0.9995389880138831 L 0.025190389901515457, -0.9996826717797052 M 0.025190389901515457,-0.9996826717797052 Q -0.1860859431679488, -0.07329407721838745 -0.663309248677684, 0.7483454019492912L -0.663309248677684, 0.7483454019492912 L -0.6601814222036083, 0.7511061774324725 L -0.657042105153231, 0.7538538797776466 \", \"type\": \"path\"}, {\"fillcolor\": \"#dba284\", \"layer\": \"below\", \"line\": {\"color\": \"rgb(175,175,175)\", \"width\": 0.5}, \"path\": \"M -0.641379411212022,0.7672238596871971 Q -0.15329561565365368, -0.12845409382875775 0.6431606598985625, -0.765731261970442L 0.6431606598985625, -0.765731261970442 L 0.6406991615864617, -0.7677920189363817 L 0.6382310604253589, -0.7698448632733234 M 0.6382310604253589,-0.7698448632733234 Q -0.15336589559178943, -0.1283701759340087 -0.6454564526236958, 0.7637970723735689L -0.6454564526236958, 0.7637970723735689 L -0.6434202132597934, 0.7655131802710663 L -0.641379411212022, 0.7672238596871971 \", \"type\": \"path\"}, {\"fillcolor\": \"#dba284\", \"layer\": \"below\", \"line\": {\"color\": \"rgb(175,175,175)\", \"width\": 0.5}, \"path\": \"M -0.6507292180841262,0.7593098739853327 Q -0.10376556426737504, -0.17097575170846088 0.9739604656739848, -0.22671791129973554L 0.9739604656739848, -0.22671791129973554 L 0.9729723484605106, -0.2309216514994612 L 0.9719660874461795, -0.2351210855167305 M 0.9719660874461795,-0.2351210855167305 Q -0.10379058707812877, -0.17096056280317218 -0.657042105153231, 0.7538538797776466L -0.657042105153231, 0.7538538797776466 L -0.6538913521669297, 0.7565884611605601 L -0.6507292180841262, 0.7593098739853327 \", \"type\": \"path\"}, {\"fillcolor\": \"#dba284\", \"layer\": \"below\", \"line\": {\"color\": \"rgb(175,175,175)\", \"width\": 0.5}, \"path\": \"M -0.6368736574250737,0.7709681864240637 Q -0.094836831651406, -0.17608513668769118 0.9942044175156782, -0.107506168159371L 0.9942044175156782, -0.107506168159371 L 0.9941507995431498, -0.1080008692914836 L 0.9940969354148103, -0.10849554368213758 M 0.9940969354148103,-0.10849554368213758 Q -0.09483067009067384, -0.1760884550734482 -0.6376945157776903, 0.7702893641658679L -0.6376945157776903, 0.7702893641658679 L -0.6372841769848615, 0.7706288845901947 L -0.6368736574250737, 0.7709681864240637 \", \"type\": \"path\"}, {\"fillcolor\": \"#d59171\", \"layer\": \"below\", \"line\": {\"color\": \"rgb(175,175,175)\", \"width\": 0.5}, \"path\": \"M -0.7440454835663761,0.6681289683769724 Q -0.16265582767029316, 0.11637474693803594 -0.8725637344929034, 0.4885002858216135L -0.8725637344929034, 0.4885002858216135 L -0.8705593125095924, 0.4920634952959077 L -0.8685403398505943, 0.4956184803376627 M -0.8685403398505943,0.4956184803376627 Q -0.1626288801962443, 0.11641240194290137 -0.7491769493820559, 0.6623699106349837L -0.7491769493820559, 0.6623699106349837 L -0.746616769334595, 0.6652543872447383 L -0.7440454835663761, 0.6681289683769724 \", \"type\": \"path\"}, {\"fillcolor\": \"#d59171\", \"layer\": \"below\", \"line\": {\"color\": \"rgb(175,175,175)\", \"width\": 0.5}, \"path\": \"M -0.769254048928323,0.6389430398770936 Q -0.18456372901196483, 0.07704693331468825 -0.995221319331171, 0.09764489514932843L -0.995221319331171, 0.09764489514932843 L -0.9946274466128229, 0.1035192853745434 L -0.9939989000425155, 0.10939006679890755 M -0.9939989000425155,0.10939006679890755 Q -0.184606520401846, 0.07694434758397016 -0.777444892061205, 0.6289510631264894L -0.777444892061205, 0.6289510631264894 L -0.7733656078559339, 0.6339602799747173 L -0.769254048928323, 0.6389430398770936 \", \"type\": \"path\"}, {\"fillcolor\": \"#d59171\", \"layer\": \"below\", \"line\": {\"color\": \"rgb(175,175,175)\", \"width\": 0.5}, \"path\": \"M -0.7358737737760687,0.6771187407453492 Q -0.18443436771136257, 0.07735608577810738 -0.998728407442939, 0.050413967970105424L -0.998728407442939, 0.050413967970105424 L -0.9986996947733124, 0.050979600426960175 L -0.998670661756284, 0.05154521653136921 M -0.998670661756284,0.05154521653136921 Q -0.18443530804790187, 0.07735384376535884 -0.7366567302722836, 0.6762668569023237L -0.7366567302722836, 0.6762668569023237 L -0.7362653752314746, 0.6766929120622263 L -0.7358737737760687, 0.6771187407453492 \", \"type\": \"path\"}, {\"fillcolor\": \"#d59171\", \"layer\": \"below\", \"line\": {\"color\": \"rgb(175,175,175)\", \"width\": 0.5}, \"path\": \"M -0.7402974708308342,0.6722794468682426 Q -0.19150549892148874, 0.057668395875311744 -0.9884256724881952, -0.15170593253481848L -0.9884256724881952, -0.15170593253481848 L -0.9888454132060605, -0.1489454557256972 L -0.9892574444752237, -0.14618381767606758 M -0.9892574444752237,-0.14618381767606758 Q -0.19150572716989556, 0.05766763790142202 -0.7440454835663761, 0.6681289683769724L -0.7440454835663761, 0.6681289683769724 L -0.7421743785560683, 0.6702068276397324 L -0.7402974708308342, 0.6722794468682426 \", \"type\": \"path\"}, {\"fillcolor\": \"#d59171\", \"layer\": \"below\", \"line\": {\"color\": \"rgb(175,175,175)\", \"width\": 0.5}, \"path\": \"M -0.7366567302722836,0.6762668569023237 Q -0.1954761907911815, 0.042297267450387484 -0.950333013635115, -0.31123490034891704L -0.950333013635115, -0.31123490034891704 L -0.9506576861066464, -0.31024178288289445 L -0.9509813207503961, -0.30924832672761915 M -0.9509813207503961,-0.30924832672761915 Q -0.19547685789481095, 0.042294184323283565 -0.7380895884256736, 0.6747027193198644L -0.7380895884256736, 0.6747027193198644 L -0.737373574085679, 0.6754851680385822 L -0.7366567302722836, 0.6762668569023237 \", \"type\": \"path\"}, {\"fillcolor\": \"#d59171\", \"layer\": \"below\", \"line\": {\"color\": \"rgb(175,175,175)\", \"width\": 0.5}, \"path\": \"M -0.7380895884256736,0.6747027193198644 Q -0.19857559137923286, 0.023827180034321004 -0.8767553151809753, -0.4809367082079602L -0.8767553151809753, -0.4809367082079602 L -0.8776281508495319, -0.47934207914226684 L -0.8784980862344146, -0.4777458660024921 M -0.8784980862344146,-0.4777458660024921 Q -0.19857132914440645, 0.0238626746577956 -0.7402974708308342, 0.6722794468682426L -0.7402974708308342, 0.6722794468682426 L -0.7391945226438167, 0.6734919878464628 L -0.7380895884256736, 0.6747027193198644 \", \"type\": \"path\"}, {\"fillcolor\": \"#d59171\", \"layer\": \"below\", \"line\": {\"color\": \"rgb(175,175,175)\", \"width\": 0.5}, \"path\": \"M -0.7552758426199695,0.6554070502784473 Q -0.19827564523480196, -0.02620626846239197 -0.5590639846831128, -0.8291245147927061L -0.5590639846831128, -0.8291245147927061 L -0.5637386397763346, -0.8259532347676398 L -0.5683953062980874, -0.8227555990561859 M -0.5683953062980874,-0.8227555990561859 Q -0.19829224719630897, -0.026080350876433823 -0.7618099367521691, 0.6478006022424309L -0.7618099367521691, 0.6478006022424309 L -0.7585524240329229, 0.6516120164590097 L -0.7552758426199695, 0.6554070502784473 \", \"type\": \"path\"}, {\"fillcolor\": \"#d59171\", \"layer\": \"below\", \"line\": {\"color\": \"rgb(175,175,175)\", \"width\": 0.5}, \"path\": \"M -0.777444892061205,0.6289510631264894 Q -0.17753963613446005, -0.09208516493574591 0.06630791889560952, -0.9977992082036011L 0.06630791889560952, -0.9977992082036011 L 0.058179074490198913, -0.9983061631040169 L 0.050046370769212443, -0.9987468952506589 M 0.050046370769212443,-0.9987468952506589 Q -0.17763251649180334, -0.09190587078521822 -0.7863406150446791, 0.6177931993241393L -0.7863406150446791, 0.6177931993241393 L -0.78191265659264, 0.6233879991307503 L -0.777444892061205, 0.6289510631264894 \", \"type\": \"path\"}, {\"fillcolor\": \"#d59171\", \"layer\": \"below\", \"line\": {\"color\": \"rgb(175,175,175)\", \"width\": 0.5}, \"path\": \"M -0.7618099367521691,0.6478006022424309 Q -0.138291225087015, -0.14448369134242298 0.6805292196223499, -0.7327209436342019L 0.6805292196223499, -0.7327209436342019 L 0.6758107911952059, -0.7370751484781655 L 0.6710645040451019, -0.7413989691189902 M 0.6710645040451019,-0.7413989691189902 Q -0.13838299203745089, -0.14439580158288123 -0.769254048928323, 0.6389430398770936L -0.769254048928323, 0.6389430398770936 L -0.7655448034992614, 0.6433825874511039 L -0.7618099367521691, 0.6478006022424309 \", \"type\": \"path\"}, {\"fillcolor\": \"#d59171\", \"layer\": \"below\", \"line\": {\"color\": \"rgb(175,175,175)\", \"width\": 0.5}, \"path\": \"M -0.7345666576137908,0.6785365321941802 Q -0.11190966454462559, -0.16575954567236656 0.9039352150590098, -0.42766941318759494L 0.9039352150590098, -0.42766941318759494 L 0.9037323393815984, -0.42809795462704975 L 0.9035292605394579, -0.42852639982738566 M 0.9035292605394579,-0.42852639982738566 Q -0.1119083451018417, -0.16576043646349123 -0.7352205574517399, 0.677827951548439L -0.7352205574517399, 0.677827951548439 L -0.7348936929339882, 0.6781823206821637 L -0.7345666576137908, 0.6785365321941802 \", \"type\": \"path\"}, {\"fillcolor\": \"#d59171\", \"layer\": \"below\", \"line\": {\"color\": \"rgb(175,175,175)\", \"width\": 0.5}, \"path\": \"M -0.7491769493820559,0.6623699106349837 Q -0.09092157528234046, -0.1781383371096118 0.9759222928373329, -0.2181184961050371L 0.9759222928373329, -0.2181184961050371 L 0.9749508605413655, -0.22242036671503562 L 0.9739604656739848, -0.22671791129973554 M 0.9739604656739848,-0.22671791129973554 Q -0.0908827493091833, -0.17815814850296394 -0.7552758426199695, 0.6554070502784473L -0.7552758426199695, 0.6554070502784473 L -0.7522344522798451, 0.6588955370946455 L -0.7491769493820559, 0.6623699106349837 \", \"type\": \"path\"}, {\"fillcolor\": \"#d59171\", \"layer\": \"below\", \"line\": {\"color\": \"rgb(175,175,175)\", \"width\": 0.5}, \"path\": \"M -0.7343049064309485,0.6788197878608402 Q -0.08311828120079139, -0.18191028373961207 0.9938423151492415, -0.11080366699164672L 0.9938423151492415, -0.11080366699164672 L 0.9938239229048733, -0.11096851022685854 L 0.9938055033188519, -0.11113335040915277 M 0.9938055033188519,-0.11113335040915277 Q -0.08311337453221679, -0.18191252561016094 -0.7345666576137908, 0.6785365321941802L -0.7345666576137908, 0.6785365321941802 L -0.7344357956780518, 0.6786781726464665 L -0.7343049064309485, 0.6788197878608402 \", \"type\": \"path\"}, {\"fillcolor\": \"#d0805f\", \"layer\": \"below\", \"line\": {\"color\": \"rgb(175,175,175)\", \"width\": 0.5}, \"path\": \"M -0.8766271693847415,0.481170246271001 Q -0.1861136116016069, 0.0732237910559555 -0.9694836048361769, 0.24515615422389786L -0.9694836048361769, 0.24515615422389786 L -0.9686764385847688, 0.24832631219975185 L -0.967858906120965, 0.2514938127317033 M -0.967858906120965,0.2514938127317033 Q -0.1862032313466854, 0.07299559326461263 -0.8809194228888001, 0.4732662785127031L -0.8809194228888001, 0.4732662785127031 L -0.8787821824432182, 0.4772230881048553 L -0.8766271693847415, 0.481170246271001 \", \"type\": \"path\"}, {\"fillcolor\": \"#d0805f\", \"layer\": \"below\", \"line\": {\"color\": \"rgb(175,175,175)\", \"width\": 0.5}, \"path\": \"M -0.8725637344929034,0.4885002858216135 Q -0.18993886790736914, 0.06263566442584434 -0.9919835831940789, 0.12636681001527267L -0.9919835831940789, 0.12636681001527267 L -0.9915205327809211, 0.1299501176368779 L -0.9910445385538499, 0.1335317288234778 M -0.9910445385538499,0.1335317288234778 Q -0.1899750022357512, 0.0625259828033621 -0.8766271693847415, 0.481170246271001L -0.8766271693847415, 0.481170246271001 L -0.874603131095485, 0.4848395230155786 L -0.8725637344929034, 0.4885002858216135 \", \"type\": \"path\"}, {\"fillcolor\": \"#d0805f\", \"layer\": \"below\", \"line\": {\"color\": \"rgb(175,175,175)\", \"width\": 0.5}, \"path\": \"M -0.8547465570562646,0.5190455887496415 Q -0.19137316480023495, 0.05810603922435362 -0.999039715467107, 0.04381377545249709L -0.999039715467107, 0.04381377545249709 L -0.9989595298341523, 0.04560545749720536 L -0.9988761309936413, 0.04739699284948434 M -0.9988761309936413,0.04739699284948434 Q -0.19138178949303655, 0.05807762607444497 -0.8567560183720901, 0.5157219454155532L -0.8567560183720901, 0.5157219454155532 L -0.855752901295535, 0.5173847426473593 L -0.8547465570562646, 0.5190455887496415 \", \"type\": \"path\"}, {\"fillcolor\": \"#d0805f\", \"layer\": \"below\", \"line\": {\"color\": \"rgb(175,175,175)\", \"width\": 0.5}, \"path\": \"M -0.8567560183720901,0.5157219454155532 Q -0.1958869925104805, 0.04035202801841514 -0.9908284117196402, -0.13512608382224064L -0.9908284117196402, -0.13512608382224064 L -0.9910867813693585, -0.13321783587390082 L -0.9913414759056548, -0.13130909393182977 M -0.9913414759056548,-0.13130909393182977 Q -0.19589177243829067, 0.040328817128511864 -0.8588572782702527, 0.5122149700684407L -0.8588572782702527, 0.5122149700684407 L -0.8578084405174754, 0.5139695315648358 L -0.8567560183720901, 0.5157219454155532 \", \"type\": \"path\"}, {\"fillcolor\": \"#d0805f\", \"layer\": \"below\", \"line\": {\"color\": \"rgb(175,175,175)\", \"width\": 0.5}, \"path\": \"M -0.8515474841537568,0.5242774859093297 Q -0.1986454180615246, 0.023237854530100622 -0.9495614824469374, -0.31358091627708246L -0.9495614824469374, -0.31358091627708246 L -0.9499479722639566, -0.3124081464872471 L -0.950333013635115, -0.31123490034891704 M -0.950333013635115,-0.31123490034891704 Q -0.19864759885255648, 0.02321920476919492 -0.8529376879973644, 0.5220127396852597L -0.8529376879973644, 0.5220127396852597 L -0.8522433383662346, 0.5231455745873952 L -0.8515474841537568, 0.5242774859093297 \", \"type\": \"path\"}, {\"fillcolor\": \"#d0805f\", \"layer\": \"below\", \"line\": {\"color\": \"rgb(175,175,175)\", \"width\": 0.5}, \"path\": \"M -0.8901296859368137,0.455707298837784 Q -0.1997648505249483, -0.009695591510839523 -0.8418143068427484, -0.5397672394605504L -0.8418143068427484, -0.5397672394605504 L -0.846173141320842, -0.5329080735992074 L -0.8504760880985728, -0.5260137104416088 M -0.8504760880985728,-0.5260137104416088 Q -0.1997683204911886, -0.009623831260457636 -0.8971016436546025, 0.4418242195174576L -0.8971016436546025, 0.4418242195174576 L -0.8936426250695123, 0.4487792983849311 L -0.8901296859368137, 0.455707298837784 \", \"type\": \"path\"}, {\"fillcolor\": \"#d0805f\", \"layer\": \"below\", \"line\": {\"color\": \"rgb(175,175,175)\", \"width\": 0.5}, \"path\": \"M -0.8971016436546025,0.4418242195174576 Q -0.19147758789180275, -0.057761001853646535 -0.5031227292416872, -0.8642149728628843L -0.5031227292416872, -0.8642149728628843 L -0.5124809747088539, -0.8586985795734514 L -0.5217787436526574, -0.8530808535374912 M -0.5217787436526574,-0.8530808535374912 Q -0.1915146554130662, -0.057637980204154594 -0.9059451406989969, 0.42339508977298573L -0.9059451406989969, 0.42339508977298573 L -0.9015704824625463, 0.4326322516320894 L -0.8971016436546025, 0.4418242195174576 \", \"type\": \"path\"}, {\"fillcolor\": \"#d0805f\", \"layer\": \"below\", \"line\": {\"color\": \"rgb(175,175,175)\", \"width\": 0.5}, \"path\": \"M -0.8529376879973644,0.5220127396852597 Q -0.1787445233751562, -0.08972399547160306 -0.09101993158288443, -0.995849070921215L -0.09101993158288443, -0.995849070921215 L -0.09229092153457255, -0.9957320853534345 L -0.0935617611350207, -0.995613477637438 M -0.0935617611350207,-0.995613477637438 Q -0.17870312682601172, -0.08980641660040989 -0.8547465570562646, 0.5190455887496415L -0.8547465570562646, 0.5190455887496415 L -0.8538434114035574, 0.5205299499574789 L -0.8529376879973644, 0.5220127396852597 \", \"type\": \"path\"}, {\"fillcolor\": \"#d0805f\", \"layer\": \"below\", \"line\": {\"color\": \"rgb(175,175,175)\", \"width\": 0.5}, \"path\": \"M -0.916956814044405,0.3989864674115334 Q -0.15765582213693802, -0.12306356790832196 0.1644428555555505, -0.9863866114545231L 0.1644428555555505, -0.9863866114545231 L 0.14878954905787894, -0.988868884175831 L 0.13309886845824886, -0.9911027652141496 M 0.13309886845824886,-0.9911027652141496 Q -0.15779492944482032, -0.12288515061432029 -0.9283023602239652, 0.37182620671842853L -0.9283023602239652, 0.37182620671842853 L -0.9227295242895538, 0.385448083409911 L -0.916956814044405, 0.3989864674115334 \", \"type\": \"path\"}, {\"fillcolor\": \"#d0805f\", \"layer\": \"below\", \"line\": {\"color\": \"rgb(175,175,175)\", \"width\": 0.5}, \"path\": \"M -0.8854256045458941,0.4647811300112536 Q -0.12341945694985097, -0.15737737336162363 0.6624516084507809, -0.7491047099444598L 0.6624516084507809, -0.7491047099444598 L 0.6584341238696426, -0.75263836237865 L 0.654397790372611, -0.756150469123338 M 0.654397790372611,-0.756150469123338 Q -0.1234572305032802, -0.157347743029444 -0.8901296859368137, 0.455707298837784L -0.8901296859368137, 0.455707298837784 L -0.8877892379350655, 0.46025022434179835 L -0.8854256045458941, 0.4647811300112536 \", \"type\": \"path\"}, {\"fillcolor\": \"#d0805f\", \"layer\": \"below\", \"line\": {\"color\": \"rgb(175,175,175)\", \"width\": 0.5}, \"path\": \"M -0.8588572782702527,0.5122149700684407 Q -0.09302368808808546, -0.17704969204856189 0.9090595168925241, -0.41666628702971725L 0.9090595168925241, -0.41666628702971725 L 0.9079897301938454, -0.4189924222017717 L 0.9069139913061246, -0.4213158107325127 M 0.9069139913061246,-0.4213158107325127 Q -0.09298840732438228, -0.17706822443136083 -0.8616712019153835, 0.5074669839405304L -0.8616712019153835, 0.5074669839405304 L -0.8602675157330661, 0.5098429183331458 L -0.8588572782702527, 0.5122149700684407 \", \"type\": \"path\"}, {\"fillcolor\": \"#d0805f\", \"layer\": \"below\", \"line\": {\"color\": \"rgb(175,175,175)\", \"width\": 0.5}, \"path\": \"M -0.8616712019153835,0.5074669839405304 Q -0.07570318343062205, -0.18511895639957998 0.9703450348207555, -0.24172404389862984L 0.9703450348207555, -0.24172404389862984 L 0.9697199621459974, -0.24421956313032198 L 0.9690884715425007, -0.24671346603584465 M 0.9690884715425007,-0.24671346603584465 Q -0.0756496444191627, -0.18514084179147033 -0.8645616197989751, 0.5025268207474826L -0.8645616197989751, 0.5025268207474826 L -0.8631199453112369, 0.5049989703018487 L -0.8616712019153835, 0.5074669839405304 \", \"type\": \"path\"}, {\"fillcolor\": \"#d0805f\", \"layer\": \"below\", \"line\": {\"color\": \"rgb(175,175,175)\", \"width\": 0.5}, \"path\": \"M -0.850474004101773,0.526017079900546 Q -0.0646484728383938, -0.18926324249484755 0.9945555790436059, -0.10420748626292474L 0.9945555790436059, -0.10420748626292474 L 0.9944688145786266, -0.10503226566432487 L 0.994381366128803, -0.10585697282567402 M 0.994381366128803,-0.10585697282567402 Q -0.06461199222476564, -0.18927569960443108 -0.8515474841537568, 0.5242774859093297L -0.8515474841537568, 0.5242774859093297 L -0.8510111886266277, 0.5251475571992069 L -0.850474004101773, 0.526017079900546 \", \"type\": \"path\"}, {\"fillcolor\": \"#ca6f4c\", \"layer\": \"below\", \"line\": {\"color\": \"rgb(175,175,175)\", \"width\": 0.5}, \"path\": \"M -0.9627767213291768,0.2702979557204246 Q -0.19478183597305987, 0.04538762358797825 -0.9830899174265106, 0.18312349454490154L -0.9830899174265106, 0.18312349454490154 L -0.9829605718023174, 0.1838165234195802 L -0.9828307376277375, 0.18450946093389697 M -0.9828307376277375,0.18450946093389697 Q -0.19477683246244187, 0.04540909089486221 -0.9630975770493614, 0.2691524792411345L -0.9630975770493614, 0.2691524792411345 L -0.9629373195166172, 0.26972526519062356 L -0.9627767213291768, 0.2702979557204246 \", \"type\": \"path\"}, {\"fillcolor\": \"#ca6f4c\", \"layer\": \"below\", \"line\": {\"color\": \"rgb(175,175,175)\", \"width\": 0.5}, \"path\": \"M -0.962373735869419,0.27172926325432417 Q -0.1973089630120343, 0.0326982127205095 -0.9985816407144287, 0.05324196491565296L -0.9985816407144287, 0.05324196491565296 L -0.9985665235962747, 0.053524741501949503 L -0.9985513264019478, 0.053807513796036814 M -0.9985513264019478,0.053807513796036814 Q -0.1973069962849285, 0.03271007821787059 -0.9624948549717475, 0.2712999339345937L -0.9624948549717475, 0.2712999339345937 L -0.9624343193603554, 0.27151460534816424 L -0.962373735869419, 0.27172926325432417 \", \"type\": \"path\"}, {\"fillcolor\": \"#ca6f4c\", \"layer\": \"below\", \"line\": {\"color\": \"rgb(175,175,175)\", \"width\": 0.5}, \"path\": \"M -0.9666512810274176,0.2560962726945719 Q -0.19981835389984037, -0.008522056369101989 -0.941336260178484, -0.3374700657438899L -0.941336260178484, -0.3374700657438899 L -0.9423576639885926, -0.3346072819320628 L -0.9433703615476393, -0.3317414067515182 M -0.9433703615476393,-0.3317414067515182 Q -0.19982393837672982, -0.008390092467481385 -0.967858906120965, 0.2514938127317033L -0.967858906120965, 0.2514938127317033 L -0.9672578310381598, 0.25379576098775736 L -0.9666512810274176, 0.2560962726945719 \", \"type\": \"path\"}, {\"fillcolor\": \"#ca6f4c\", \"layer\": \"below\", \"line\": {\"color\": \"rgb(175,175,175)\", \"width\": 0.5}, \"path\": \"M -0.9640124441974015,0.26585711845378873 Q -0.19859851416630667, -0.023635358489671666 -0.8746901601587004, -0.4846824978494138L -0.8746901601587004, -0.4846824978494138 L -0.8757247404332967, -0.482810707206287 L -0.8767553151809753, -0.4809367082079602 M -0.8767553151809753,-0.4809367082079602 Q -0.19861387574633632, -0.023505921828740894 -0.9647988159146915, 0.26298905834579744L -0.9647988159146915, 0.26298905834579744 L -0.964406696226232, 0.26442338072493554 L -0.9640124441974015, 0.26585711845378873 \", \"type\": \"path\"}, {\"fillcolor\": \"#ca6f4c\", \"layer\": \"below\", \"line\": {\"color\": \"rgb(175,175,175)\", \"width\": 0.5}, \"path\": \"M -0.9647988159146915,0.26298905834579744 Q -0.18894876471015615, -0.06556191207176663 -0.5945526268201083, -0.8040566982130731L -0.5945526268201083, -0.8040566982130731 L -0.5964725404940205, -0.8026334832516079 L -0.5983890473497976, -0.801205683961242 M -0.5983890473497976,-0.801205683961242 Q -0.18899816077165155, -0.0654193795822993 -0.9656539691256341, 0.2598315067729644L -0.9656539691256341, 0.2598315067729644 L -0.9652276836842544, 0.2614106322427015 L -0.9647988159146915, 0.26298905834579744 \", \"type\": \"path\"}, {\"fillcolor\": \"#ca6f4c\", \"layer\": \"below\", \"line\": {\"color\": \"rgb(175,175,175)\", \"width\": 0.5}, \"path\": \"M -0.9656539691256341,0.2598315067729644 Q -0.16355275140218328, -0.11511080535195486 -0.0812958458836965, -0.9966900147197494L -0.0812958458836965, -0.9966900147197494 L -0.08324131225049747, -0.9965294195029142 L -0.0851864614154403, -0.9963650268809698 M -0.0851864614154403,-0.9963650268809698 Q -0.1635549431647281, -0.11510769116954161 -0.9666512810274176, 0.2560962726945719L -0.9666512810274176, 0.2560962726945719 L -0.9661544301692493, 0.2579643716956533 L -0.9656539691256341, 0.2598315067729644 \", \"type\": \"path\"}, {\"fillcolor\": \"#ca6f4c\", \"layer\": \"below\", \"line\": {\"color\": \"rgb(175,175,175)\", \"width\": 0.5}, \"path\": \"M -0.9731929206971258,0.22999030219771827 Q -0.150195744880806, -0.13206528014470661 0.10359183530442247, -0.9946198930537542L 0.10359183530442247, -0.9946198930537542 L 0.0941728449513457, -0.9955558624576372 L 0.08474541733120732, -0.9964026366089963 M 0.08474541733120732,-0.9964026366089963 Q -0.15060067471079158, -0.13160333117613074 -0.9760543447491734, 0.21752681695887915L -0.9760543447491734, 0.21752681695887915 L -0.9746435553978405, 0.22376313351724533 L -0.9731929206971258, 0.22999030219771827 \", \"type\": \"path\"}, {\"fillcolor\": \"#ca6f4c\", \"layer\": \"below\", \"line\": {\"color\": \"rgb(175,175,175)\", \"width\": 0.5}, \"path\": \"M -0.9622524252609709,0.272158538501697 Q -0.10946254040140442, -0.16738563931493916 0.6350953599648899, -0.7724337406865828L 0.6350953599648899, -0.7724337406865828 L 0.6348473567381041, -0.7726375823389918 L 0.6345992880858424, -0.7728413443656738 M 0.6345992880858424,-0.7728413443656738 Q -0.10947894057413235, -0.16737491320614806 -0.962373735869419, 0.27172926325432417L -0.962373735869419, 0.27172926325432417 L -0.9623131045019521, 0.2719439076423945 L -0.9622524252609709, 0.272158538501697 \", \"type\": \"path\"}, {\"fillcolor\": \"#ca6f4c\", \"layer\": \"below\", \"line\": {\"color\": \"rgb(175,175,175)\", \"width\": 0.5}, \"path\": \"M -0.9624948549717475,0.2712999339345937 Q -0.06966203853019319, -0.18747586614766681 0.9061133143495201, -0.4230350594909691L 0.9061133143495201, -0.4230350594909691 L 0.9058323072812045, -0.4236364373913198 L 0.9055509010847388, -0.42423762862883535 M 0.9055509010847388,-0.42423762862883535 Q -0.06968891392682312, -0.18746587763030328 -0.9627767213291768, 0.2702979557204246L -0.9627767213291768, 0.2702979557204246 L -0.9626359185165213, 0.27079898150076803 L -0.9624948549717475, 0.2712999339345937 \", \"type\": \"path\"}, {\"fillcolor\": \"#ca6f4c\", \"layer\": \"below\", \"line\": {\"color\": \"rgb(175,175,175)\", \"width\": 0.5}, \"path\": \"M -0.9620498154099852,0.27287387685451564 Q -0.05362954818368021, -0.19267556036408542 0.9646825709137121, -0.2634151426461864L 0.9646825709137121, -0.2634151426461864 L 0.9646583645161383, -0.26350377562579486 L 0.9646341499751554, -0.2635924063809682 M 0.9646341499751554,-0.2635924063809682 Q -0.053632926010957316, -0.19267462014365874 -0.9620903799263606, 0.2727308212379948L -0.9620903799263606, 0.2727308212379948 L -0.962070100327141, 0.272802349800226 L -0.9620498154099852, 0.27287387685451564 \", \"type\": \"path\"}, {\"fillcolor\": \"#ca6f4c\", \"layer\": \"below\", \"line\": {\"color\": \"rgb(175,175,175)\", \"width\": 0.5}, \"path\": \"M -0.9620903799263606,0.2727308212379948 Q -0.038517210611121844, -0.19625601770834566 0.9938055033188519, -0.11113335040915277L 0.9938055033188519, -0.11113335040915277 L 0.9937870563916839, -0.11129818753399441 L 0.9937685821238768, -0.11146302159684851 M 0.9937685821238768,-0.11146302159684851 Q -0.03852058041636152, -0.19625535632024577 -0.9621714451416361, 0.2724446919175623L -0.9621714451416361, 0.2724446919175623 L -0.962130923170543, 0.27258775959128934 L -0.9620903799263606, 0.2727308212379948 \", \"type\": \"path\"}, {\"fillcolor\": \"#c45e3a\", \"layer\": \"below\", \"line\": {\"color\": \"rgb(175,175,175)\", \"width\": 0.5}, \"path\": \"M -0.9825696038857806,0.18589506050387694 Q -0.19989212407606882, 0.006568008248891245 -0.9926532808247516, -0.12099365300649864L -0.9926532808247516, -0.12099365300649864 L -0.9927461833945372, -0.12022901212095093 L -0.9928384969614887, -0.11946429990274024 M -0.9928384969614887,-0.11946429990274024 Q -0.19989169496953968, 0.006581054794219035 -0.9828307376277375, 0.18450946093389697L -0.9828307376277375, 0.18450946093389697 L -0.982700414967301, 0.18520230674344845 L -0.9825696038857806, 0.18589506050387694 \", \"type\": \"path\"}, {\"fillcolor\": \"#c45e3a\", \"layer\": \"below\", \"line\": {\"color\": \"rgb(175,175,175)\", \"width\": 0.5}, \"path\": \"M -0.9848799711553349,0.17323810902069633 Q -0.19921772422770165, -0.017671965186006378 -0.9390063183836855, -0.34389988955438267L -0.9390063183836855, -0.34389988955438267 L -0.9401767859541181, -0.3406869694499401 L -0.941336260178484, -0.3374700657438899 M -0.941336260178484,-0.3374700657438899 Q -0.19922208313834577, -0.01762275773022068 -0.985959328453375, 0.16698563601630495L -0.985959328453375, 0.16698563601630495 L -0.985424608772891, 0.17011272857959484 L -0.9848799711553349, 0.17323810902069633 \", \"type\": \"path\"}, {\"fillcolor\": \"#c45e3a\", \"layer\": \"below\", \"line\": {\"color\": \"rgb(175,175,175)\", \"width\": 0.5}, \"path\": \"M -0.9838557280304613,0.17896342202151522 Q -0.19712109785876344, -0.03381231697112473 -0.8679743109189726, -0.4966090973640481L -0.8679743109189726, -0.4966090973640481 L -0.8697213493061272, -0.49354308278115855 L -0.8714575574111668, -0.49047092230932804 M -0.8714575574111668,-0.49047092230932804 Q -0.19714204772786112, -0.0336899542544322 -0.9848799711553349, 0.17323810902069633L -0.9848799711553349, 0.17323810902069633 L -0.984372012053566, 0.17610151017414413 L -0.9838557280304613, 0.17896342202151522 \", \"type\": \"path\"}, {\"fillcolor\": \"#c45e3a\", \"layer\": \"below\", \"line\": {\"color\": \"rgb(175,175,175)\", \"width\": 0.5}, \"path\": \"M -0.9900537436823453,0.1406896748897118 Q -0.1832209113958775, -0.08018788952992843 -0.5683953062980874, -0.8227555990561859L -0.5683953062980874, -0.8227555990561859 L -0.5720541282080629, -0.8202158706097518 L -0.5757016021668299, -0.8176598713784021 M -0.5757016021668299,-0.8176598713784021 Q -0.1832882683031775, -0.08003380974577197 -0.9910445385538499, 0.1335317288234778L -0.9910445385538499, 0.1335317288234778 L -0.9905556067267363, 0.1371115968188958 L -0.9900537436823453, 0.1406896748897118 \", \"type\": \"path\"}, {\"fillcolor\": \"#c45e3a\", \"layer\": \"below\", \"line\": {\"color\": \"rgb(175,175,175)\", \"width\": 0.5}, \"path\": \"M -0.9824383044481921,0.18658772187087042 Q -0.1601347419787356, -0.11982013358114646 -0.09819528080798498, -0.9951671652677458L -0.09819528080798498, -0.9951671652677458 L -0.0984941455701531, -0.9951376303247734 L -0.09879300144889204, -0.9951080056278913 M -0.09879300144889204,-0.9951080056278913 Q -0.16012848985826442, -0.11982848883179541 -0.9825696038857806, 0.18589506050387694L -0.9825696038857806, 0.18589506050387694 L -0.982504015207422, 0.18624140275807055 L -0.9824383044481921, 0.18658772187087042 \", \"type\": \"path\"}, {\"fillcolor\": \"#c45e3a\", \"layer\": \"below\", \"line\": {\"color\": \"rgb(175,175,175)\", \"width\": 0.5}, \"path\": \"M -0.9890372916552477,0.14766595990698933 Q -0.1505156256781012, -0.1317005938738688 0.015066691567568161, -0.9998864909604529L 0.015066691567568161, -0.9998864909604529 L 0.010664540753897368, -0.9999431321682791 L 0.006262183238604512, -0.9999803923383128 M 0.006262183238604512,-0.9999803923383128 Q -0.15063114009627349, -0.13156845987278573 -0.9900537436823453, 0.1406896748897118L -0.9900537436823453, 0.1406896748897118 L -0.9895516654912805, 0.14417871314251962 L -0.9890372916552477, 0.14766595990698933 \", \"type\": \"path\"}, {\"fillcolor\": \"#c45e3a\", \"layer\": \"below\", \"line\": {\"color\": \"rgb(175,175,175)\", \"width\": 0.5}, \"path\": \"M -0.9880261298785242,0.1542866380386374 Q -0.0969640961912676, -0.17492273737227704 0.654397790372611, -0.756150469123338L 0.654397790372611, -0.756150469123338 L 0.6513176418360909, -0.7588051986070428 L 0.6482267238251255, -0.7614473813199074 M 0.6482267238251255,-0.7614473813199074 Q -0.09708959317771511, -0.17485311234457845 -0.9890372916552477, 0.14766595990698933L -0.9890372916552477, 0.14766595990698933 L -0.9885372534894358, 0.1509771455007777 L -0.9880261298785242, 0.1542866380386374 \", \"type\": \"path\"}, {\"fillcolor\": \"#c45e3a\", \"layer\": \"below\", \"line\": {\"color\": \"rgb(175,175,175)\", \"width\": 0.5}, \"path\": \"M -0.9824054032908015,0.18676087273579975 Q -0.06212238349216183, -0.19010736300641484 0.9031224935436507, -0.42938300112545047L 0.9031224935436507, -0.42938300112545047 L 0.9030817721719522, -0.4294686400318029 L 0.903041042679514, -0.4295542750762658 M 0.903041042679514,-0.4295542750762658 Q -0.062123657778528255, -0.19010694659642585 -0.9824383044481921, 0.18658772187087042L -0.9824383044481921, 0.18658772187087042 L -0.9824218576842051, 0.1866742980281848 L -0.9824054032908015, 0.18676087273579975 \", \"type\": \"path\"}, {\"fillcolor\": \"#c45e3a\", \"layer\": \"below\", \"line\": {\"color\": \"rgb(175,175,175)\", \"width\": 0.5}, \"path\": \"M -0.986998992575972,0.1607264404322335 Q -0.03961328716940274, -0.1960377195328349 0.9719660874461795, -0.2351210855167305L 0.9719660874461795, -0.2351210855167305 L 0.9711611728674641, -0.23842394241076448 L 0.9703450348207555, -0.24172404389862984 M 0.9703450348207555,-0.24172404389862984 Q -0.03964051984155371, -0.19603221466557835 -0.9880261298785242, 0.1542866380386374L -0.9880261298785242, 0.1542866380386374 L -0.9875178106471381, 0.15750737650879487 L -0.986998992575972, 0.1607264404322335 \", \"type\": \"path\"}, {\"fillcolor\": \"#c45e3a\", \"layer\": \"below\", \"line\": {\"color\": \"rgb(175,175,175)\", \"width\": 0.5}, \"path\": \"M -0.9833791584859987,0.18156384732476125 Q -0.02835271588083185, -0.1979801088548565 0.9948117679350753, -0.10173272029140767L 0.9948117679350753, -0.10173272029140767 L 0.9946844431390806, -0.10297018295165457 L 0.9945555790436059, -0.10420748626292474 M 0.9945555790436059,-0.10420748626292474 Q -0.028337298761585934, -0.19798231612671024 -0.9838557280304613, 0.17896342202151522L -0.9838557280304613, 0.17896342202151522 L -0.9836183026127547, 0.18026379216360486 L -0.9833791584859987, 0.18156384732476125 \", \"type\": \"path\"}, {\"fillcolor\": \"#bf4d28\", \"layer\": \"below\", \"line\": {\"color\": \"rgb(175,175,175)\", \"width\": 0.5}, \"path\": \"M -0.9995099011562011,-0.03130427272308363 Q -0.19808220963539894, -0.02763038591764271 -0.969923249674035, -0.2434109482783376L -0.969923249674035, -0.2434109482783376 L -0.9731826067243096, -0.23003394090715798 L -0.9762574797524851, -0.21661332652292226 M -0.9762574797524851,-0.21661332652292226 Q -0.1980896682466555, -0.02757686229305229 -0.9983006915144129, -0.058272886678496276L -0.9983006915144129, -0.058272886678496276 L -0.9989963050889611, -0.04479266032067622 L -0.9995099011562011, -0.03130427272308363 \", \"type\": \"path\"}, {\"fillcolor\": \"#bf4d28\", \"layer\": \"below\", \"line\": {\"color\": \"rgb(175,175,175)\", \"width\": 0.5}, \"path\": \"M -0.998621561536795,0.05248787320718009 Q -0.19832724138525762, -0.02581289066559106 -0.951916899030827, -0.3063563567800321L -0.951916899030827, -0.3063563567800321 L -0.9520622889245394, -0.305904230124016 L -0.952207464074191, -0.3054520344692408 M -0.952207464074191,-0.3054520344692408 Q -0.19832731781239366, -0.025812303448971913 -0.998670661756284, 0.05154521653136921L -0.998670661756284, 0.05154521653136921 L -0.9986462228723217, 0.05201655066269919 L -0.998621561536795, 0.05248787320718009 \", \"type\": \"path\"}, {\"fillcolor\": \"#bf4d28\", \"layer\": \"below\", \"line\": {\"color\": \"rgb(175,175,175)\", \"width\": 0.5}, \"path\": \"M -0.998794157825073,0.04909409633044709 Q -0.19512352601526603, -0.04389543934590253 -0.8815452219540861, -0.4720995886991652L -0.8815452219540861, -0.4720995886991652 L -0.8819991654112598, -0.47125096521263615 L -0.8824522919374473, -0.4704019052409824 M -0.8824522919374473,-0.4704019052409824 Q -0.19512847905398328, -0.043873416348390454 -0.9988761309936413, 0.04739699284948434L -0.9988761309936413, 0.04739699284948434 L -0.9988355048491806, 0.048245561999861526 L -0.998794157825073, 0.04909409633044709 \", \"type\": \"path\"}, {\"fillcolor\": \"#bf4d28\", \"layer\": \"below\", \"line\": {\"color\": \"rgb(175,175,175)\", \"width\": 0.5}, \"path\": \"M -0.9997798316047746,0.020983048308782313 Q -0.17847867365319803, -0.09025166508710653 -0.5757016021668299, -0.8176598713784021L -0.5757016021668299, -0.8176598713784021 L -0.5790719919288794, -0.8152764121226125 L -0.5824325140695632, -0.8128790602264325 M -0.5824325140695632,-0.8128790602264325 Q -0.17852747855689316, -0.09015508527042752 -0.9999046339986709, 0.01381024648527393L -0.9999046339986709, 0.01381024648527393 L -0.9998486649315655, 0.01739675931217955 L -0.9997798316047746, 0.020983048308782313 \", \"type\": \"path\"}, {\"fillcolor\": \"#bf4d28\", \"layer\": \"below\", \"line\": {\"color\": \"rgb(175,175,175)\", \"width\": 0.5}, \"path\": \"M -0.9985206917896563,0.05437304541688076 Q -0.15183898767677764, -0.1301726615741238 -0.09879300144889204, -0.9951080056278913L -0.09879300144889204, -0.9951080056278913 L -0.09901713751198142, -0.9950857282058332 L -0.0992412685516079, -0.995063400299834 M -0.0992412685516079,-0.995063400299834 Q -0.15183144522697425, -0.13018145889598995 -0.9985513264019478, 0.053807513796036814L -0.9985513264019478, 0.053807513796036814 L -0.9985360491326667, 0.054090281775239064 L -0.9985206917896563, 0.05437304541688076 \", \"type\": \"path\"}, {\"fillcolor\": \"#bf4d28\", \"layer\": \"below\", \"line\": {\"color\": \"rgb(175,175,175)\", \"width\": 0.5}, \"path\": \"M -0.9996141351317183,0.027777344093107184 Q -0.14293474263189113, -0.13989159856387032 0.006262183238604512, -0.9999803923383128L 0.006262183238604512, -0.9999803923383128 L 0.002299955267753802, -0.9999973550993854 L -0.0016623088113316697, -0.9999986183637535 M -0.0016623088113316697,-0.9999986183637535 Q -0.14301363306631368, -0.13981094648550874 -0.9997798316047746, 0.020983048308782313L -0.9997798316047746, 0.020983048308782313 L -0.9997027554075127, 0.024380336967049013 L -0.9996141351317183, 0.027777344093107184 \", \"type\": \"path\"}, {\"fillcolor\": \"#bf4d28\", \"layer\": \"below\", \"line\": {\"color\": \"rgb(175,175,175)\", \"width\": 0.5}, \"path\": \"M -0.9983006915144129,-0.058272886678496276 Q -0.05921285328439793, -0.19103360438917644 0.7903323846047594, -0.612678318406123L 0.7903323846047594, -0.612678318406123 L 0.779995121231286, -0.6257855949567643 L 0.7694405046414794, -0.6387184902733485 M 0.7694405046414794,-0.6387184902733485 Q -0.0595886768537473, -0.19091670851661904 -0.9961518534705858, -0.08764408038833292L -0.9961518534705858, -0.08764408038833292 L -0.9973343999402958, -0.07296639429031797 L -0.9983006915144129, -0.058272886678496276 \", \"type\": \"path\"}, {\"fillcolor\": \"#bf4d28\", \"layer\": \"below\", \"line\": {\"color\": \"rgb(175,175,175)\", \"width\": 0.5}, \"path\": \"M -0.998728407442939,0.050413967970105424 Q -0.048371084941838595, -0.19406245938240976 0.9055509010847388, -0.42423762862883535L 0.9055509010847388, -0.42423762862883535 L 0.9052690958841169, -0.42483863293861784 L 0.9049868918035081, -0.42543945005585176 M 0.9049868918035081,-0.42543945005585176 Q -0.04837167454248384, -0.19406231242040795 -0.998794157825073, 0.04909409633044709L -0.998794157825073, 0.04909409633044709 L -0.9987615006617001, 0.04975404301148713 L -0.998728407442939, 0.050413967970105424 \", \"type\": \"path\"}, {\"fillcolor\": \"#bf4d28\", \"layer\": \"below\", \"line\": {\"color\": \"rgb(175,175,175)\", \"width\": 0.5}, \"path\": \"M -0.9999203753817549,-0.012619148006516904 Q -0.014979373654743527, -0.19943825702435222 0.9868172268380907, -0.1618386876354982L 0.9868172268380907, -0.1618386876354982 L 0.9853043354947374, -0.1708079812399703 L 0.9837099229595972, -0.17976314269288704 M 0.9837099229595972,-0.17976314269288704 Q -0.01492972718562681, -0.19944197964862553 -0.9995099011562011, -0.03130427272308363L -0.9995099011562011, -0.03130427272308363 L -0.9997587914870167, -0.021962669337305892 L -0.9999203753817549, -0.012619148006516904 \", \"type\": \"path\"}, {\"fillcolor\": \"#bf4d28\", \"layer\": \"below\", \"line\": {\"color\": \"rgb(175,175,175)\", \"width\": 0.5}, \"path\": \"M -0.9999046339986709,0.01381024648527393 Q -0.008070004554278433, -0.19983712124251074 0.9977622757473886, -0.0668613572655542L 0.9977622757473886, -0.0668613572655542 L 0.9974528403387082, -0.07132903546413273 L 0.9971234001168459, -0.07579528309479748 M 0.9971234001168459,-0.07579528309479748 Q -0.007946331462914553, -0.19984207719167027 -0.9999934615849706, 0.0036161840810436286L -0.9999934615849706, 0.0036161840810436286 L -0.9999620382328742, 0.008713328477436022 L -0.9999046339986709, 0.01381024648527393 \", \"type\": \"path\"}, {\"fillcolor\": \"#af4624\", \"layer\": \"below\", \"line\": {\"color\": \"rgb(175,175,175)\", \"width\": 0.5}, \"path\": \"M -0.9921076634963377,-0.12538893105787904 Q -0.19501375252805478, -0.04438058499982406 -0.948664058010478, -0.3162854802849672L -0.948664058010478, -0.3162854802849672 L -0.9491137335840367, -0.31493351794016794 L -0.9495614824469374, -0.31358091627708246 M -0.9495614824469374,-0.31358091627708246 Q -0.19501288882082046, -0.04438438006504459 -0.9917413405755692, -0.12825409698474724L -0.9917413405755692, -0.12825409698474724 L -0.991925536536499, -0.12682164628634457 L -0.9921076634963377, -0.12538893105787904 \", \"type\": \"path\"}, {\"fillcolor\": \"#af4624\", \"layer\": \"below\", \"line\": {\"color\": \"rgb(175,175,175)\", \"width\": 0.5}, \"path\": \"M -0.9917413405755692,-0.12825409698474724 Q -0.19026139940107897, -0.061649005652509185 -0.8784980862344146, -0.4777458660024921L -0.8784980862344146, -0.4777458660024921 L -0.8793141969807111, -0.4762421054339559 L -0.8801277336818955, -0.4747369507463797 M -0.8801277336818955,-0.4747369507463797 Q -0.19027190268850747, -0.061616580944540825 -0.9913414759056548, -0.13130909393182977L -0.9913414759056548, -0.13130909393182977 L -0.9915425848179001, -0.129781749458995 L -0.9917413405755692, -0.12825409698474724 \", \"type\": \"path\"}, {\"fillcolor\": \"#af4624\", \"layer\": \"below\", \"line\": {\"color\": \"rgb(175,175,175)\", \"width\": 0.5}, \"path\": \"M -0.987380761541791,-0.15836423755745135 Q -0.17007949239632209, -0.10522816289477557 -0.5824325140695632, -0.8128790602264325L -0.5824325140695632, -0.8128790602264325 L -0.5856070124598303, -0.810595106670323 L -0.5887725546444516, -0.8082987559667814 M -0.5887725546444516,-0.8082987559667814 Q -0.17012625520324848, -0.10515254295792936 -0.986259204326567, -0.16520527195318827L -0.986259204326567, -0.16520527195318827 L -0.9868259110178017, -0.16178572663830906 L -0.987380761541791, -0.15836423755745135 \", \"type\": \"path\"}, {\"fillcolor\": \"#af4624\", \"layer\": \"below\", \"line\": {\"color\": \"rgb(175,175,175)\", \"width\": 0.5}, \"path\": \"M -0.9929073455706315,-0.11889071919995478 Q -0.14001668337862025, -0.14281221367814173 -0.0992412685516079, -0.995063400299834L -0.0992412685516079, -0.995063400299834 L -0.09946539455640147, -0.9950410219110263 L -0.09968951551499236, -0.9950185930405452 M -0.09968951551499236,-0.9950185930405452 Q -0.1400075990179766, -0.14282111964699576 -0.9928384969614887, -0.11946429990274024L -0.9928384969614887, -0.11946429990274024 L -0.9928729626856125, -0.11917751452306018 L -0.9929073455706315, -0.11889071919995478 \", \"type\": \"path\"}, {\"fillcolor\": \"#af4624\", \"layer\": \"below\", \"line\": {\"color\": \"rgb(175,175,175)\", \"width\": 0.5}, \"path\": \"M -0.9884256724881952,-0.15170593253481848 Q -0.13037924265559458, -0.15166164012219302 -0.0016623088113316697, -0.9999986183637535L -0.0016623088113316697, -0.9999986183637535 L -0.005514485531378129, -0.9999847951090678 L -0.009366580419456956, -0.9999561326234495 M -0.009366580419456956,-0.9999561326234495 Q -0.1304523737441213, -0.15159874070889937 -0.987380761541791, -0.15836423755745135L -0.987380761541791, -0.15836423755745135 L -0.9879088264840112, -0.15503596535960218 L -0.9884256724881952, -0.15170593253481848 \", \"type\": \"path\"}, {\"fillcolor\": \"#af4624\", \"layer\": \"below\", \"line\": {\"color\": \"rgb(175,175,175)\", \"width\": 0.5}, \"path\": \"M -0.969923249674035,-0.2434109482783376 Q -0.03062026996013857, -0.19764209841925945 0.8507988214820508, -0.5254915464255857L 0.8507988214820508, -0.5254915464255857 L 0.8410991419349186, -0.5408809789929236 L 0.8311211271903044, -0.5560914240823337 M 0.8311211271903044,-0.5560914240823337 Q -0.030980580574612872, -0.1975859398521563 -0.9614366510808451, -0.27502648228570514L -0.9614366510808451, -0.27502648228570514 L -0.9658093248973204, -0.2592534434513499 L -0.969923249674035, -0.2434109482783376 \", \"type\": \"path\"}, {\"fillcolor\": \"#af4624\", \"layer\": \"below\", \"line\": {\"color\": \"rgb(175,175,175)\", \"width\": 0.5}, \"path\": \"M -0.9926532808247516,-0.12099365300649864 Q -0.031232134763471982, -0.197546333193295 0.9069139913061246, -0.4213158107325127L 0.9069139913061246, -0.4213158107325127 L 0.9065140604079537, -0.4221756249272155 L 0.9061133143495201, -0.4230350594909691 M 0.9061133143495201,-0.4230350594909691 Q -0.03122925945340709, -0.19754678775923384 -0.9924184478754702, -0.12290494016288625L -0.9924184478754702, -0.12290494016288625 L -0.9925363244112884, -0.12194935311074757 L -0.9926532808247516, -0.12099365300649864 \", \"type\": \"path\"}, {\"fillcolor\": \"#af4624\", \"layer\": \"below\", \"line\": {\"color\": \"rgb(175,175,175)\", \"width\": 0.5}, \"path\": \"M -0.9829661092856057,-0.1837869092071542 Q 0.0004091937895784179, -0.19999958140066837 0.9837099229595972, -0.17976314269288704L 0.9837099229595972, -0.17976314269288704 L 0.9823448599749368, -0.18707906371591076 L 0.9809253887422138, -0.19438462315969526 M 0.9809253887422138,-0.19438462315969526 Q 0.000480538011089691, -0.1999994227072166 -0.9799799738298263, -0.19909608457348688L -0.9799799738298263, -0.19909608457348688 L -0.9815028904782468, -0.19144731907981025 L -0.9829661092856057, -0.1837869092071542 \", \"type\": \"path\"}, {\"fillcolor\": \"#af4624\", \"layer\": \"below\", \"line\": {\"color\": \"rgb(175,175,175)\", \"width\": 0.5}, \"path\": \"M -0.9849241495384008,-0.17298676150520265 Q 0.01163387304700926, -0.19966134577811018 0.9983498060314877, -0.057425297534195494L 0.9983498060314877, -0.057425297534195494 L 0.9980671924082632, -0.06214402174213316 L 0.9977622757473886, -0.0668613572655542 M 0.9977622757473886,-0.0668613572655542 Q 0.011785801304456391, -0.1996524352158317 -0.9829661092856057, -0.1837869092071542L -0.9829661092856057, -0.1837869092071542 L -0.9839599476051857, -0.17838952185820858 L -0.9849241495384008, -0.17298676150520265 \", \"type\": \"path\"}, {\"fillcolor\": \"#9f4021\", \"layer\": \"below\", \"line\": {\"color\": \"rgb(175,175,175)\", \"width\": 0.5}, \"path\": \"M -0.9245432990333278,-0.38107701086863094 Q -0.17548355967175766, -0.09594540262528824 -0.8198048423317461, -0.5726430131324584L -0.8198048423317461, -0.5726430131324584 L -0.8255194243490105, -0.5643737059984973 L -0.8311505976270466, -0.5560473757371788 M -0.8311505976270466,-0.5560473757371788 Q -0.17559121040163878, -0.0957482471363702 -0.9175912482237744, -0.3975252208138947L -0.9175912482237744, -0.3975252208138947 L -0.9211039889459458, -0.3893166340498014 L -0.9245432990333278, -0.38107701086863094 \", \"type\": \"path\"}, {\"fillcolor\": \"#9f4021\", \"layer\": \"below\", \"line\": {\"color\": \"rgb(175,175,175)\", \"width\": 0.5}, \"path\": \"M -0.9347558298698355,-0.3552907802411359 Q -0.15497394348647234, -0.12642419404628089 -0.5357930643245558, -0.8443493306811479L -0.5357930643245558, -0.8443493306811479 L -0.5423806732008598, -0.8401328498149457 L -0.5489351017758968, -0.8358649735682706 M -0.5489351017758968,-0.8358649735682706 Q -0.15509808282190216, -0.12627186822475697 -0.9298089004186108, -0.36804267239320754L -0.9298089004186108, -0.36804267239320754 L -0.9323041676659346, -0.3616751843197553 L -0.9347558298698355, -0.3552907802411359 \", \"type\": \"path\"}, {\"fillcolor\": \"#9f4021\", \"layer\": \"below\", \"line\": {\"color\": \"rgb(175,175,175)\", \"width\": 0.5}, \"path\": \"M -0.948664058010478,-0.3162854802849672 Q -0.12440744294777639, -0.1565975355463673 -0.0935617611350207, -0.995613477637438L -0.0935617611350207, -0.995613477637438 L -0.09475770626562481, -0.9955003651949493 L -0.09595351465335498, -0.99538581616661 M -0.09595351465335498,-0.99538581616661 Q -0.12435756225473862, -0.15663714984019217 -0.9476983148336522, -0.31916751724048587L -0.9476983148336522, -0.31916751724048587 L -0.9481822814306373, -0.317726865689686 L -0.948664058010478, -0.3162854802849672 \", \"type\": \"path\"}, {\"fillcolor\": \"#9f4021\", \"layer\": \"below\", \"line\": {\"color\": \"rgb(175,175,175)\", \"width\": 0.5}, \"path\": \"M -0.9082914114143928,-0.4183380355057979 Q -0.09638375974471504, -0.17524317635067294 0.13309886845824886, -0.9911027652141496L 0.13309886845824886, -0.9911027652141496 L 0.11835841693338536, -0.9929709387192673 L 0.10359183530442247, -0.9946198930537542 M 0.10359183530442247,-0.9946198930537542 Q -0.09674025698142792, -0.17504663001374032 -0.8972651542752292, -0.4414920643946493L -0.8972651542752292, -0.4414920643946493 L -0.9028525102361249, -0.4299503980232231 L -0.9082914114143928, -0.4183380355057979 \", \"type\": \"path\"}, {\"fillcolor\": \"#9f4021\", \"layer\": \"below\", \"line\": {\"color\": \"rgb(175,175,175)\", \"width\": 0.5}, \"path\": \"M -0.9453076527880039,-0.32618007538848043 Q -0.052698643812364734, -0.19293224961197522 0.6482267238251255, -0.7614473813199074L 0.6482267238251255, -0.7614473813199074 L 0.6456972445492817, -0.7635935230091105 L 0.6431606598985625, -0.765731261970442 M 0.6431606598985625,-0.765731261970442 Q -0.0527705466521971, -0.19291259524983922 -0.9433703615476393, -0.3317414067515182L -0.9433703615476393, -0.3317414067515182 L -0.944343101081561, -0.328962167185925 L -0.9453076527880039, -0.32618007538848043 \", \"type\": \"path\"}, {\"fillcolor\": \"#9f4021\", \"layer\": \"below\", \"line\": {\"color\": \"rgb(175,175,175)\", \"width\": 0.5}, \"path\": \"M -0.951916899030827,-0.3063563567800321 Q -0.012932174385649765, -0.19958145922319326 0.9044212874998836, -0.42664052165383076L 0.9044212874998836, -0.42664052165383076 L 0.9041783976302493, -0.4271550365602573 L 0.9039352150590098, -0.42766941318759494 M 0.9039352150590098,-0.42766941318759494 Q -0.012931985014183234, -0.19958147149370592 -0.9515670873264884, -0.30744117862931636L -0.9515670873264884, -0.30744117862931636 L -0.951742147742389, -0.30689881754530224 L -0.951916899030827, -0.3063563567800321 \", \"type\": \"path\"}, {\"fillcolor\": \"#9f4021\", \"layer\": \"below\", \"line\": {\"color\": \"rgb(175,175,175)\", \"width\": 0.5}, \"path\": \"M -0.9515670873264884,-0.30744117862931636 Q 0.005163288858036518, -0.19993334001153606 0.9661674550147287, -0.25791558477603127L 0.9661674550147287, -0.25791558477603127 L 0.9659300769226628, -0.2588031810008888 L 0.9656918834161712, -0.25969055875046393 M 0.9656918834161712,-0.25969055875046393 Q 0.00516949999595822, -0.19993317951203546 -0.9509813207503961, -0.30924832672761915L -0.9509813207503961, -0.30924832672761915 L -0.9512746331712173, -0.30834489177699353 L -0.9515670873264884, -0.30744117862931636 \", \"type\": \"path\"}, {\"fillcolor\": \"#9f4021\", \"layer\": \"below\", \"line\": {\"color\": \"rgb(175,175,175)\", \"width\": 0.5}, \"path\": \"M -0.9466013885383825,-0.3224062828438773 Q 0.0229338981049072, -0.19868073967477004 0.995160086622564, -0.09826699340760803L 0.995160086622564, -0.09826699340760803 L 0.9949874362516348, -0.10000000850699502 L 0.9948117679350753, -0.10173272029140767 M 0.9948117679350753,-0.10173272029140767 Q 0.022984184263655255, -0.1986749286491236 -0.9453076527880039, -0.32618007538848043L -0.9453076527880039, -0.32618007538848043 L -0.9459564025581062, -0.32429382426948256 L -0.9466013885383825, -0.3224062828438773 \", \"type\": \"path\"}, {\"fillcolor\": \"#8f391e\", \"layer\": \"below\", \"line\": {\"color\": \"rgb(175,175,175)\", \"width\": 0.5}, \"path\": \"M -0.7961240998370033,-0.6051333883192377 Q -0.11630764457836684, -0.16270381622024818 -0.31492113512288633, -0.9491178423425158L -0.31492113512288633, -0.9491178423425158 L -0.3507713505081831, -0.9364611362265203 L -0.3861145504066893, -0.9224508409472237 M -0.3861145504066893,-0.9224508409472237 Q -0.11640429907880286, -0.16263468005309512 -0.7486404842503991, -0.6629761876125929L -0.7486404842503991, -0.6629761876125929 L -0.7729235747602761, -0.63449913126796 L -0.7961240998370033, -0.6051333883192377 \", \"type\": \"path\"}, {\"fillcolor\": \"#8f391e\", \"layer\": \"below\", \"line\": {\"color\": \"rgb(175,175,175)\", \"width\": 0.5}, \"path\": \"M -0.8679743109189726,-0.4966090973640481 Q -0.10598529889056676, -0.16960871563418323 -0.06587142044668813, -0.9978281194516095L -0.06587142044668813, -0.9978281194516095 L -0.06886780222941008, -0.9976257944821249 L -0.07186356287695185, -0.9974144716869865 M -0.07186356287695185,-0.9974144716869865 Q -0.10576910479600506, -0.16974361982310765 -0.8636942476672784, -0.5040161173479017L -0.8636942476672784, -0.5040161173479017 L -0.8658421999332825, -0.5003171842088714 L -0.8679743109189726, -0.4966090973640481 \", \"type\": \"path\"}, {\"fillcolor\": \"#8f391e\", \"layer\": \"below\", \"line\": {\"color\": \"rgb(175,175,175)\", \"width\": 0.5}, \"path\": \"M -0.7486404842503991,-0.6629761876125929 Q -0.042248306188908014, -0.19548677864287467 0.4080518102331398, -0.9129587724346908L 0.4080518102331398, -0.9129587724346908 L 0.3713627666946782, -0.9284878542624422 L 0.3340842819503998, -0.9425432046085133 M 0.3340842819503998,-0.9425432046085133 Q -0.04246969921412307, -0.19543880026407734 -0.6951214334182848, -0.7188923374209166L -0.6951214334182848, -0.7188923374209166 L -0.7224221568307104, -0.6914522596102094 L -0.7486404842503991, -0.6629761876125929 \", \"type\": \"path\"}, {\"fillcolor\": \"#8f391e\", \"layer\": \"below\", \"line\": {\"color\": \"rgb(175,175,175)\", \"width\": 0.5}, \"path\": \"M -0.8636942476672784,-0.5040161173479017 Q -0.030570710891786652, -0.1976497701379154 0.6710645040451019, -0.7413989691189902L 0.6710645040451019, -0.7413989691189902 L 0.6667691880868148, -0.7452642818611729 L 0.6624516084507809, -0.7491047099444598 M 0.6624516084507809,-0.7491047099444598 Q -0.030571503323353, -0.1976496475700127 -0.8578159578456352, -0.5139569850341322L -0.8578159578456352, -0.5139569850341322 L -0.8607694535320519, -0.5089950371723999 L -0.8636942476672784, -0.5040161173479017 \", \"type\": \"path\"}, {\"fillcolor\": \"#8f391e\", \"layer\": \"below\", \"line\": {\"color\": \"rgb(175,175,175)\", \"width\": 0.5}, \"path\": \"M -0.8746901601587004,-0.4846824978494138 Q 0.008208137395166374, -0.19983149521660012 0.9114934993139896, -0.4113144790891004L 0.9114934993139896, -0.4113144790891004 L 0.9102804412194724, -0.4139921718260899 L 0.9090595168925241, -0.41666628702971725 M 0.9090595168925241,-0.41666628702971725 Q 0.008283134398036863, -0.19982840059547108 -0.8714575574111668, -0.49047092230932804L -0.8714575574111668, -0.49047092230932804 L -0.8730786558827598, -0.48757938906597925 L -0.8746901601587004, -0.4846824978494138 \", \"type\": \"path\"}, {\"fillcolor\": \"#8f391e\", \"layer\": \"below\", \"line\": {\"color\": \"rgb(175,175,175)\", \"width\": 0.5}, \"path\": \"M -0.8829548072160557,-0.4694579943020014 Q 0.022202508688732345, -0.19876380105020827 0.9647793150658276, -0.2630605884983772L 0.9647793150658276, -0.2630605884983772 L 0.9647309592778143, -0.26323787001666044 L 0.9646825709137121, -0.2634151426461864 M 0.9646825709137121,-0.2634151426461864 Q 0.022208493476410122, -0.19876313244037047 -0.882753922230402, -0.4698356231564837L -0.882753922230402, -0.4698356231564837 L -0.8828543849139244, -0.46964681946996734 L -0.8829548072160557, -0.4694579943020014 \", \"type\": \"path\"}, {\"fillcolor\": \"#8f391e\", \"layer\": \"below\", \"line\": {\"color\": \"rgb(175,175,175)\", \"width\": 0.5}, \"path\": \"M -0.882753922230402,-0.4698356231564837 Q 0.03763139165493501, -0.19642779427085388 0.9938973278273702, -0.11030911901385622L 0.9938973278273702, -0.11030911901385622 L 0.9938698522490872, -0.11055639642452905 L 0.9938423151492415, -0.11080366699164672 M 0.9938423151492415,-0.11080366699164672 Q 0.03764553495743553, -0.19642508418674154 -0.8824522919374473, -0.4704019052409824L -0.8824522919374473, -0.4704019052409824 L -0.882603152500062, -0.47011878838964966 L -0.882753922230402, -0.4698356231564837 \", \"type\": \"path\"}, {\"fillcolor\": \"#f0f3e7\", \"layer\": \"below\", \"line\": {\"color\": \"rgb(175,175,175)\", \"width\": 0.5}, \"path\": \"M -0.5590639846831128,-0.8291245147927061 Q -0.06335074697412368, -0.1897015626130174 -0.05133103277909607, -0.9986816935709953L -0.05133103277909607, -0.9986816935709953 L -0.05552951222239893, -0.998457046283085 L -0.0597270100318626, -0.9982147485750017 M -0.0597270100318626,-0.9982147485750017 Q -0.06299420733646996, -0.18982025666943408 -0.5489351017758968, -0.8358649735682706L -0.5489351017758968, -0.8358649735682706 L -0.5540097944482804, -0.8325101486801072 L -0.5590639846831128, -0.8291245147927061 \", \"type\": \"path\"}, {\"fillcolor\": \"#f0f3e7\", \"layer\": \"below\", \"line\": {\"color\": \"rgb(175,175,175)\", \"width\": 0.5}, \"path\": \"M -0.31492113512288633,-0.9491178423425158 Q 0.0194073710305762, -0.19905615777885788 0.49231999309583124, -0.870414283199742L 0.49231999309583124, -0.870414283199742 L 0.450688200920028, -0.8926814356485008 L 0.4080518102331398, -0.9129587724346908 M 0.4080518102331398,-0.9129587724346908 Q 0.01928514607225078, -0.19906803646234106 -0.2252187428288132, -0.9743082252955729L -0.2252187428288132, -0.9743082252955729 L -0.27036347901806124, -0.9627583233674224 L -0.31492113512288633, -0.9491178423425158 \", \"type\": \"path\"}, {\"fillcolor\": \"#f0f3e7\", \"layer\": \"below\", \"line\": {\"color\": \"rgb(175,175,175)\", \"width\": 0.5}, \"path\": \"M -0.4825174738715058,-0.8758863438875278 Q 0.037225450484068466, -0.19650512928740096 0.7694405046414794, -0.6387184902733485L 0.7694405046414794, -0.6387184902733485 L 0.7599249031584557, -0.650010878031754 L 0.7502435888848206, -0.6611615213676794 M 0.7502435888848206,-0.6611615213676794 Q 0.03726947259369445, -0.1964967847385495 -0.4560434110328257, -0.8899575311516529L -0.4560434110328257, -0.8899575311516529 L -0.4693331793575391, -0.8830211587239255 L -0.4825174738715058, -0.8758863438875278 \", \"type\": \"path\"}, {\"fillcolor\": \"#f0f3e7\", \"layer\": \"below\", \"line\": {\"color\": \"rgb(175,175,175)\", \"width\": 0.5}, \"path\": \"M -0.5357930643245558,-0.8443493306811479 Q 0.0613323521557001, -0.1903637112977397 0.9279276625700001, -0.3727603158027636L 0.9279276625700001, -0.3727603158027636 L 0.9252171457556263, -0.37943804922518276 L 0.922458574064731, -0.3860960750052546 M 0.922458574064731,-0.3860960750052546 Q 0.061532033111205586, -0.19029926143104578 -0.5217787436526574, -0.8530808535374912L -0.5217787436526574, -0.8530808535374912 L -0.5288039259781417, -0.848744017869996 L -0.5357930643245558, -0.8443493306811479 \", \"type\": \"path\"}, {\"fillcolor\": \"#f0f3e7\", \"layer\": \"below\", \"line\": {\"color\": \"rgb(175,175,175)\", \"width\": 0.5}, \"path\": \"M -0.6016913210270433,-0.798728711266054 Q 0.06585905564061653, -0.18884539917648557 0.9678986904083265, -0.25134065549736745L 0.9678986904083265, -0.25134065549736745 L 0.9674584500679853, -0.25302993378660105 L 0.9670152614244331, -0.2547184409740202 M 0.9670152614244331,-0.2547184409740202 Q 0.06591916204342807, -0.1888244265858956 -0.5983890473497976, -0.801205683961242L -0.5983890473497976, -0.801205683961242 L -0.6000414623084868, -0.7999689015897385 L -0.6016913210270433, -0.798728711266054 \", \"type\": \"path\"}, {\"fillcolor\": \"#f0f3e7\", \"layer\": \"below\", \"line\": {\"color\": \"rgb(175,175,175)\", \"width\": 0.5}, \"path\": \"M -0.5945526268201083,-0.8040566982130731 Q 0.08251784047907947, -0.18218344052813693 0.9965160763926822, -0.08340089622380448L 0.9965160763926822, -0.08340089622380448 L 0.9962840939065604, -0.08612783655000333 L 0.9960446492332307, -0.08885413177703412 M 0.9960446492332307,-0.08885413177703412 Q 0.08267231255421971, -0.18211339527046716 -0.5887725546444516, -0.8082987559667814L -0.5887725546444516, -0.8082987559667814 L -0.5916663925182246, -0.8061829072638976 L -0.5945526268201083, -0.8040566982130731 \", \"type\": \"path\"}, {\"fillcolor\": \"#e2ecde\", \"layer\": \"below\", \"line\": {\"color\": \"rgb(175,175,175)\", \"width\": 0.5}, \"path\": \"M -0.05133103277909607,-0.9986816935709953 Q -0.00012863155672973402, -0.19999995863480227 0.050046370769212443, -0.9987468952506589L 0.050046370769212443, -0.9987468952506589 L 0.04279006097370917, -0.9990840858916061 L 0.035531493243848425, -0.9993685571338846 M 0.035531493243848425,-0.9993685571338846 Q -0.0005904039321223331, -0.1999991285560938 -0.04143115951989349, -0.9991413608798493L -0.04143115951989349, -0.9991413608798493 L -0.04638166559684363, -0.9989237914357945 L -0.05133103277909607, -0.9986816935709953 \", \"type\": \"path\"}, {\"fillcolor\": \"#e2ecde\", \"layer\": \"below\", \"line\": {\"color\": \"rgb(175,175,175)\", \"width\": 0.5}, \"path\": \"M -0.09101993158288443,-0.995849070921215 Q 0.05920455399744234, -0.19103617664192282 0.6382310604253589, -0.7698448632733234L 0.6382310604253589, -0.7698448632733234 L 0.6366645260948083, -0.7711408958241505 L 0.6350953599648899, -0.7724337406865828 M 0.6350953599648899,-0.7724337406865828 Q 0.059088653839073746, -0.19107205705567237 -0.08817836213297102, -0.996104701550769L -0.08817836213297102, -0.996104701550769 L -0.08959923802367513, -0.9959778996270835 L -0.09101993158288443, -0.995849070921215 \", \"type\": \"path\"}, {\"fillcolor\": \"#e2ecde\", \"layer\": \"below\", \"line\": {\"color\": \"rgb(175,175,175)\", \"width\": 0.5}, \"path\": \"M -0.09819528080798498,-0.9951671652677458 Q 0.09876752366306032, -0.17391082849974243 0.9049868918035081, -0.42543945005585176L 0.9049868918035081, -0.42543945005585176 L 0.904704288967257, -0.4260400797158057 L 0.9044212874998836, -0.42664052165383076 M 0.9044212874998836,-0.42664052165383076 Q 0.09874348278702619, -0.1739244796085021 -0.0971491845725668, -0.9952698307177231L -0.0971491845725668, -0.9952698307177231 L -0.09767224617951593, -0.9952186354395942 L -0.09819528080798498, -0.9951671652677458 \", \"type\": \"path\"}, {\"fillcolor\": \"#e2ecde\", \"layer\": \"below\", \"line\": {\"color\": \"rgb(175,175,175)\", \"width\": 0.5}, \"path\": \"M -0.0971491845725668,-0.9952698307177231 Q 0.1138175419284046, -0.16445536521918605 0.9656918834161712, -0.25969055875046393L 0.9656918834161712, -0.25969055875046393 L 0.9655007416476923, -0.26040030314451684 L 0.9653090782459258, -0.2611099068515041 M 0.9653090782459258,-0.2611099068515041 Q 0.1137954395812892, -0.1644706597861794 -0.09595351465335498, -0.99538581616661L -0.09595351465335498, -0.99538581616661 L -0.09655136702937091, -0.9953280029843226 L -0.0971491845725668, -0.9952698307177231 \", \"type\": \"path\"}, {\"fillcolor\": \"#e2ecde\", \"layer\": \"below\", \"line\": {\"color\": \"rgb(175,175,175)\", \"width\": 0.5}, \"path\": \"M -0.09998833559047718,-0.9949886093548238 Q 0.12567659262234868, -0.15558082808249935 0.9937685821238768, -0.11146302159684851L 0.9937685821238768, -0.11146302159684851 L 0.9937500805159389, -0.11162785259318025 L 0.9937315515683794, -0.11179268051845487 M 0.9937315515683794,-0.11179268051845487 Q 0.12567414908329264, -0.1555828019165047 -0.09968951551499236, -0.9950185930405452L -0.09968951551499236, -0.9950185930405452 L -0.09983892667832456, -0.9950036124154124 L -0.09998833559047718, -0.9949886093548238 \", \"type\": \"path\"}, {\"fillcolor\": \"#d4e5d6\", \"layer\": \"below\", \"line\": {\"color\": \"rgb(175,175,175)\", \"width\": 0.5}, \"path\": \"M 0.1644428555555505,-0.9863866114545231 Q 0.10545555018880588, -0.16993859754151275 0.810844710475911, -0.5852613565692135L 0.810844710475911, -0.5852613565692135 L 0.8007059041257503, -0.5990576392119249 L 0.7903323846047594, -0.612678318406123 M 0.7903323846047594,-0.612678318406123 Q 0.1055385940850935, -0.169887036464063 0.1990743762280373, -0.979984383921202L 0.1990743762280373, -0.979984383921202 L 0.18178680254696097, -0.9833379675471461 L 0.1644428555555505, -0.9863866114545231 \", \"type\": \"path\"}, {\"fillcolor\": \"#d4e5d6\", \"layer\": \"below\", \"line\": {\"color\": \"rgb(175,175,175)\", \"width\": 0.5}, \"path\": \"M 0.06630791889560952,-0.9977992082036011 Q 0.1187242029399493, -0.16094894729781162 0.9337481123559351, -0.3579308071006574L 0.9337481123559351, -0.3579308071006574 L 0.9308674187652108, -0.36535715222422227 L 0.9279276625700001, -0.3727603158027636 M 0.9279276625700001,-0.3727603158027636 Q 0.11893008496832008, -0.1607968746258091 0.08474541733120732, -0.9964026366089963L 0.08474541733120732, -0.9964026366089963 L 0.07552989606353054, -0.9971435377119146 L 0.06630791889560952, -0.9977992082036011 \", \"type\": \"path\"}, {\"fillcolor\": \"#d4e5d6\", \"layer\": \"below\", \"line\": {\"color\": \"rgb(175,175,175)\", \"width\": 0.5}, \"path\": \"M -0.010026927172103565,-0.9999497291021611 Q 0.12064901842393323, -0.15951117313010216 0.9649241869570137, -0.2625286906708411L 0.9649241869570137, -0.2625286906708411 L 0.9648517876641102, -0.26279464956762505 L 0.9647793150658276, -0.2630605884983772 M 0.9647793150658276,-0.2630605884983772 Q 0.12065771987220064, -0.15950459126696498 -0.009366580419456956, -0.9999561326234495L -0.009366580419456956, -0.9999561326234495 L -0.009696754324373188, -0.9999529853725988 L -0.010026927172103565, -0.9999497291021611 \", \"type\": \"path\"}, {\"fillcolor\": \"#d4e5d6\", \"layer\": \"below\", \"line\": {\"color\": \"rgb(175,175,175)\", \"width\": 0.5}, \"path\": \"M 0.015066691567568161,-0.9998864909604529 Q 0.13705740921813414, -0.14565461399630605 0.9971234001168459, -0.07579528309479748L 0.9971234001168459, -0.07579528309479748 L 0.99682699196604, -0.07959866888294427 L 0.9965160763926822, -0.08340089622380448 M 0.9965160763926822,-0.08340089622380448 Q 0.13723907590344853, -0.14548345625935444 0.025190389901515457, -0.9996826717797052L 0.025190389901515457, -0.9996826717797052 L 0.020128798713950097, -0.9997973952068155 L 0.015066691567568161, -0.9998864909604529 \", \"type\": \"path\"}, {\"fillcolor\": \"#c6decd\", \"layer\": \"below\", \"line\": {\"color\": \"rgb(175,175,175)\", \"width\": 0.5}, \"path\": \"M 0.6805292196223499,-0.7327209436342019 Q 0.16400361783393105, -0.11446752088423116 0.922458574064731, -0.3860960750052546L 0.922458574064731, -0.3860960750052546 L 0.9199869336565162, -0.3919490297236119 L 0.9174781569773154, -0.3977861629940246 M 0.9174781569773154,-0.3977861629940246 Q 0.16409698193872782, -0.11433363686422662 0.6909654684712413, -0.7228877654105913L 0.6909654684712413, -0.7228877654105913 L 0.6857649690059479, -0.7278230604235286 L 0.6805292196223499, -0.7327209436342019 \", \"type\": \"path\"}, {\"fillcolor\": \"#c6decd\", \"layer\": \"below\", \"line\": {\"color\": \"rgb(175,175,175)\", \"width\": 0.5}, \"path\": \"M 0.7184426257414908,-0.6955862229211215 Q 0.17953434226866258, -0.08813296741945503 0.9897297120805492, -0.14295137993371476L 0.9897297120805492, -0.14295137993371476 L 0.9883185888341961, -0.15240199134126572 L 0.9868172268380907, -0.1618386876354982 M 0.9868172268380907,-0.1618386876354982 Q 0.17967279249980833, -0.08785037071817524 0.7337455646085372, -0.6794243492967403L 0.7337455646085372, -0.6794243492967403 L 0.7261390614667307, -0.6875478626337337 L 0.7184426257414908, -0.6955862229211215 \", \"type\": \"path\"}, {\"fillcolor\": \"#c6decd\", \"layer\": \"below\", \"line\": {\"color\": \"rgb(175,175,175)\", \"width\": 0.5}, \"path\": \"M 0.7033925315395111,-0.7108016225181524 Q 0.1833422281564582, -0.07991012060199401 0.9995065603657315, -0.031410759078131026L 0.9995065603657315, -0.031410759078131026 L 0.999211692036131, -0.039698797189487336 L 0.9988480994021209, -0.04798410487620542 M 0.9988480994021209,-0.04798410487620542 Q 0.1835340823378735, -0.07946848822265767 0.7184426257414908, -0.6955862229211215L 0.7184426257414908, -0.6955862229211215 L 0.7109582833867939, -0.7032341852354046 L 0.7033925315395111, -0.7108016225181524 \", \"type\": \"path\"}, {\"fillcolor\": \"#b8d7c5\", \"layer\": \"below\", \"line\": {\"color\": \"rgb(175,175,175)\", \"width\": 0.5}, \"path\": \"M 0.9029595593338854,-0.42972553357643933 Q 0.18749683941342715, -0.06960556881439527 0.9646341499751554, -0.2635924063809682L 0.9646341499751554, -0.2635924063809682 L 0.9646099272909675, -0.2636810349109591 L 0.9645856964637789, -0.2637696612150202 M 0.9645856964637789,-0.2637696612150202 Q 0.18749704464220582, -0.0696050159861966 0.903041042679514, -0.4295542750762658L 0.903041042679514, -0.4295542750762658 L 0.9030003050667028, -0.4296399062580682 L 0.9029595593338854, -0.42972553357643933 \", \"type\": \"path\"}, {\"fillcolor\": \"#b8d7c5\", \"layer\": \"below\", \"line\": {\"color\": \"rgb(175,175,175)\", \"width\": 0.5}, \"path\": \"M 0.9031224935436507,-0.42938300112545047 Q 0.19238931505670007, -0.05464752009024568 0.9939884687441067, -0.1094848117491463L 0.9939884687441067, -0.1094848117491463 L 0.9939429837386401, -0.10989697482974435 L 0.9938973278273702, -0.11030911901385622 M 0.9938973278273702,-0.11030911901385622 Q 0.19239256472248964, -0.05463607818559673 0.9035292605394579, -0.42852639982738566L 0.9035292605394579, -0.42852639982738566 L 0.9033259785782423, -0.42895474869228467 L 0.9031224935436507, -0.42938300112545047 \", \"type\": \"path\"}, {\"fillcolor\": \"#aad0bc\", \"layer\": \"below\", \"line\": {\"color\": \"rgb(175,175,175)\", \"width\": 0.5}, \"path\": \"M 0.9678986904083265,-0.25134065549736745 Q 0.1969769408837599, -0.03464223953608897 0.9955746096856136, -0.09397444625715047L 0.9955746096856136, -0.09397444625715047 L 0.9953696621163228, -0.09612094328728407 L 0.995160086622564, -0.09826699340760803 M 0.995160086622564,-0.09826699340760803 Q 0.1969849931717973, -0.03459642272124361 0.9690884715425007, -0.24671346603584465L 0.9690884715425007, -0.24671346603584465 L 0.9684963443974162, -0.2490277713204724 L 0.9678986904083265, -0.25134065549736745 \", \"type\": \"path\"}, {\"fillcolor\": \"#f2e6ce\", \"layer\": \"below\", \"line\": {\"color\": \"rgb(150,150,150)\", \"width\": 0.45}, \"path\": \"M 1.1, 0.0 L 1.099703519127535, 0.025537619672070362 L 1.0988142363299722, 0.051061473133666074 L 1.0973326309806566, 0.07655780159507265 L 1.0952595017480362, 0.10201286110409577 L 1.0925959661651363, 0.1274129299548229 L 1.0893434600271446, 0.15274431608439304 L 1.0855037366174387, 0.17799336445378727 L 1.0810788657624664, 0.20314646440866102 L 1.0760712327159947, 0.22819005701625103 L 1.0704835368733228, 0.253110642374401 L 1.0643187903161568, 0.27789478688876673 L 1.0575803161889292, 0.3025291305142773 L 0.9614366510808446, 0.27502648228570664 L 0.9675625366510515, 0.25263162444433335 L 0.9731668517030205, 0.23010058397672817 L 0.9782465751963587, 0.20744550637841 L 0.9827989688749693, 0.18467860400787364 L 0.9868215787431259, 0.16181214950344297 L 0.9903122363883132, 0.13885846916763003 L 0.9932690601501238, 0.11582993632256626 L 0.9956904561345783, 0.09273896464008706 L 0.9975751190733241, 0.06959800145006605 L 0.9989220330272474, 0.046419521030605516 L 0.9997304719341227, 0.023216017883700327 L 1.0, 0.0 L 1.1 ,0.0\", \"type\": \"path\"}, {\"fillcolor\": \"#ecd5bb\", \"layer\": \"below\", \"line\": {\"color\": \"rgb(150,150,150)\", \"width\": 0.45}, \"path\": \"M 1.0475557945118, 0.33559925116834205 L 1.0404371587698944, 0.3570581446358977 L 1.032878995007575, 0.3783662004885511 L 1.0248844961372898, 0.3995144172334884 L 1.0164570393993013, 0.4204938609012116 L 1.0076001849349845, 0.4412956688196534 L 0.998317674282862, 0.46191105335817384 L 0.9886134287980074, 0.48233130563985527 L 0.9784915479954867, 0.5025477992205284 L 0.9679563078185363, 0.5225519937329752 L 0.95701215883221, 0.5423354384947687 L 0.9456637243432581, 0.5618897760782257 L 0.933915798447031, 0.5812067458409654 L 0.9217733440022369, 0.6002781874155798 L 0.9092414905344023, 0.6190960441569454 L 0.8963255320689285, 0.6376523665457161 L 0.8830309248946535, 0.6559393155465625 L 0.8693632852588676, 0.6739491659197369 L 0.8553283869947543, 0.6916743094845667 L 0.8409321590822609, 0.7091072583334959 L 0.8261806831434274, 0.7262406479953184 L 0.8110801908732317, 0.7430672405462659 L 0.7956370614070395, 0.759579927667636 L 0.7798578186257653, 0.77577173364867 L 0.7637491283998901, 0.7916358183334105 L 0.7473177957734916, 0.8071654800102951 L 0.730570762089487, 0.8223541582432634 L 0.713515102057291, 0.8371954366431854 L 0.6961580207641379, 0.8516830455784349 L 0.6785068506313249, 0.8658108648234677 L 0.6605690483166623, 0.8795729261442846 L 0.6423521915644432, 0.8929634158196835 L 0.6238639760042584, 0.9059766770972411 L 0.6051122119000124, 0.9186072125829813 L 0.5861048208505125, 0.930849686563727 L 0.5668498324430252, 0.9426989272611456 L 0.5473553808612116, 0.9541499290165452 L 0.5276297014488799, 0.9651978544054923 L 0.5076811272309993, 0.9758380362813606 L 0.4875180853934528, 0.9860659797469449 L 0.46714909372300883, 0.9958773640533114 L 0.44658275700902056, 1.0052680444250788 L 0.42582776340837214, 1.0142340538113594 L 0.4048928807752041, 1.0227716045616229 L 0.3837869529569745, 1.0308770900257709 L 0.3625188960584133, 1.038547086077752 L 0.3410976946749556, 1.045778352562067 L 0.3100888133408687, 0.9507075932382427 L 0.32956263278037573, 0.944133714616138 L 0.3488972299608859, 0.9371609909325188 L 0.3680844370683673, 0.9297923677832934 L 0.38711614855306553, 0.9220309580103268 L 0.405984324553655, 0.9138800403864352 L 0.42468099429364436, 0.905343058230283 L 0.4431982594485934, 0.896423617951768 L 0.46152829748272667, 0.8871254875285095 L 0.4796633649535271, 0.8774525949140839 L 0.4975958007829196, 0.8674090263786773 L 0.5153180294936592, 0.8569990247828595 L 0.5328225644095568, 0.8462269877852063 L 0.5501020108181931, 0.8350974659845284 L 0.5671490690947802, 0.8236151609974918 L 0.5839565377858574, 0.8117849234724395 L 0.6005173166515111, 0.7996117510402587 L 0.6168244096648408, 0.7871007862031524 L 0.6328709279673981, 0.7742573141622134 L 0.6486500927793554, 0.7610867605847139 L 0.6641552382631699, 0.7475946893120576 L 0.6793798143395378, 0.7337868000093591 L 0.6943173894544454, 0.7196689257576458 L 0.7089616532961502, 0.7052470305897 L 0.723306419460945, 0.6905272069705781 L 0.7373456280665742, 0.6755156732238781 L 0.7510733483122066, 0.6602187709048348 L 0.7644837809838735, 0.6446429621213599 L 0.777571260904322, 0.6287948268041514 L 0.7903302593262432, 0.6126810599270335 L 0.8027553862678668, 0.5963084686786931 L 0.814841392789935, 0.5796839695870146 L 0.8265831732130929, 0.5628145855972231 L 0.8379757672747608, 0.5457074431050725 L 0.8490143622245736, 0.5283697689463321 L 0.8596942948575073, 0.5108088873438414 L 0.8700110534838272, 0.49303221681342607 L 0.8799602798350329, 0.4750472670299774 L 0.8895377709049878, 0.45686163565502574 L 0.8987394807254612, 0.4384830051271411 L 0.907561522075329, 0.41991913941652165 L 0.9160001681227131, 0.4011778807451394 L 0.9240518539993647, 0.3822671462738287 L 0.931713178306627, 0.3631949247577167 L 0.9389809045523407, 0.34396927317141 L 0.9458519625180858, 0.3245983133053615 L 0.9523234495561816, 0.3050902283348564 L 1.0475557945118 ,0.33559925116834205\", \"type\": \"path\"}, {\"fillcolor\": \"#e6c4a9\", \"layer\": \"below\", \"line\": {\"color\": \"rgb(150,150,150)\", \"width\": 0.45}, \"path\": \"M 0.3080806916717963, 1.055976461583793 L 0.28597471494079774, 1.0621762859405823 L 0.26374415910871085, 1.0679133946795683 L 0.24139870846759878, 1.0731852885453543 L 0.2189480973611251, 1.0779896709439953 L 0.19640210594398358, 1.0823244489434618 L 0.17377055592137047, 1.0861877341853838 L 0.15106330627035908, 1.0895778437076755 L 0.1282902489450348, 1.0924933006776842 L 0.10546130456726473, 1.0949328350355427 L 0.08258641810498116, 1.0968953840474438 L 0.05967555453985534, 1.0983800927686012 L 0.03673869452625655, 1.0993863144156866 L 0.013785830043381077, 1.0999136106485887 L -0.009173039957552127, 1.099961751761368 L -0.032127913909140667, 1.099530716782322 L -0.0550687919847812, 1.0986206934831226 L -0.07798568045488995, 1.0972320782970155 L -0.10086859604046963, 1.0953654761461238 L -0.1237075702621238, 1.093021700177925 L -0.1464926537826218, 1.0902017714110197 L -0.16921392074112707, 1.0869069182903455 L -0.1918614730771984, 1.0831385761520305 L -0.21442544484267825, 1.078898386598117 L -0.23689600649959452, 1.0741881967814317 L -0.2592633692022004, 1.0690100586009113 L -0.23569397200200035, 0.9718273260008283 L -0.21536000590872229, 0.9765347243467561 L -0.19493222258425294, 0.9808167150891971 L -0.17441952097927124, 0.9846714328654821 L -0.15383083703738823, 0.9880971984457686 L -0.13317513980238344, 0.9910925194645632 L -0.11246142751102163, 0.9936560910708409 L -0.09169872367315421, 0.9957867964964762 L -0.07089607314080903, 0.9974837075427413 L -0.0500625381679829, 0.9987460849846568 L -0.02920719446285515, 0.99957337889302 L -0.008339127234138297, 0.9999652288739708 L 0.01253257276671007, 0.9999214642259897 L 0.033398813205687765, 0.9994421040142604 L 0.05425050412714121, 0.9985273570623646 L 0.07507856191361922, 0.9971776218613125 L 0.09587391324296793, 0.9953934863959478 L 0.11662749904094072, 0.9931757278888038 L 0.13733027842759915, 0.9905253124615232 L 0.15797323265579133, 0.9874433947139852 L 0.17854736903998505, 0.9839313172213289 L 0.19904372487375008, 0.9799906099490866 L 0.2194533713341807, 0.9756229895866857 L 0.23976741737155532, 0.9708303587996073 L 0.2599770135825434, 0.9656148054005294 L 0.28007335606526934, 0.9599786014398117 L 0.3080806916717963 ,1.055976461583793\", \"type\": \"path\"}, {\"fillcolor\": \"#e1b396\", \"layer\": \"below\", \"line\": {\"color\": \"rgb(150,150,150)\", \"width\": 0.45}, \"path\": \"M -0.29271385578293113, 1.0603389074407719 L -0.3154526527286896, 1.0537977148800586 L -0.33804549674846474, 1.0467689535556945 L -0.36048193463584854, 1.0392558755192083 L -0.3827515855500714, 1.0312619569046977 L -0.4048441458189863, 1.022790896320502 L -0.4267493937063495, 1.0138466131379358 L -0.44845719414118934, 1.0044332456778857 L -0.4699575034070791, 0.9945551492960988 L -0.49124037378913976, 0.9842168943680587 L -0.5122959581766295, 0.9734232641743721 L -0.5331145146189791, 0.962179252687653 L -0.553686410833178, 0.9504900622619226 L -0.574002128660417, 0.9383611012255944 L -0.5940522684699285, 0.9257979813791626 L -0.6138275535079863, 0.9128065153987456 L -0.6333188341900539, 0.899392714146691 L -0.652517092334093, 0.8855627838904822 L -0.6714134453330767, 0.8713231234312377 L -0.610375859393706, 0.7921119303920342 L -0.5931973566673573, 0.8050570762640746 L -0.5757443947182307, 0.8176297401333553 L -0.5580250486436239, 0.8298241049079504 L -0.5400475167908441, 0.8416345285265113 L -0.5218201169640154, 0.8530555465687221 L -0.5033512825756163, 0.8640818747835659 L -0.48464955874452637, 0.87470841153423 L -0.4657235983423904, 0.88493024015852 L -0.446582157990127, 0.8947426312436897 L -0.4272340940064355, 0.9041410448146352 L -0.4076883583101721, 0.9131211324344415 L -0.3879539942784995, 0.9216787392163053 L -0.3680401325627148, 0.9298099057459107 L -0.3479559868637012, 0.9375108699133615 L -0.3277108496689532, 0.9447780686538256 L -0.30731408795314974, 0.9516081395960859 L -0.28677513884426326, 0.9579979226182349 L -0.2661035052572101, 0.9639444613097925 L -0.29271385578293113 ,1.0603389074407719\", \"type\": \"path\"}, {\"fillcolor\": \"#dba284\", \"layer\": \"below\", \"line\": {\"color\": \"rgb(150,150,150)\", \"width\": 0.45}, \"path\": \"M -0.6984510640374693, 0.849803572094709 L -0.7205724214795161, 0.8311289824107608 L -0.7421946814281759, 0.8118787193046315 L -0.7633028674349752, 0.7920661162842058 L -0.7838823591197662, 0.7717048963566513 L -0.7126203264725147, 0.7015499057787739 L -0.6939116976681592, 0.7200601057129142 L -0.674722437661978, 0.7380715630042104 L -0.6550658377086509, 0.7555718021916007 L -0.6349555127613357, 0.7725487019042808 L -0.6984510640374693 ,0.849803572094709\", \"type\": \"path\"}, {\"fillcolor\": \"#d59171\", \"layer\": \"below\", \"line\": {\"color\": \"rgb(150,150,150)\", \"width\": 0.45}, \"path\": \"M -0.8077353970740434, 0.7467017666469242 L -0.8370970858237526, 0.7136304848486933 L -0.8651057085225881, 0.6794057058059131 L -0.8917159926243329, 0.6440827497286361 L -0.9168849258277476, 0.6077187118970799 L -0.8335317507524977, 0.5524715562700726 L -0.8106509023857571, 0.5855297724805782 L -0.7864597350205346, 0.6176415507326483 L -0.760997350748866, 0.6487549862260847 L -0.7343049064309485, 0.6788197878608402 L -0.8077353970740434 ,0.7467017666469242\", \"type\": \"path\"}, {\"fillcolor\": \"#d0805f\", \"layer\": \"below\", \"line\": {\"color\": \"rgb(150,150,150)\", \"width\": 0.45}, \"path\": \"M -0.9355214045119503, 0.5786187878906007 L -0.969330433905126, 0.5199985672146613 L -0.9994709235294525, 0.45941035362645394 L -1.0258288033207172, 0.39708345001722906 L -1.0483043189259624, 0.3332537395456718 L -0.9530039262963294, 0.3029579450415198 L -0.9325716393824702, 0.3609849545611173 L -0.9086099304813204, 0.417645776024049 L -0.8812094853682962, 0.47272597019514656 L -0.850474004101773, 0.526017079900546 L -0.9355214045119503 ,0.5786187878906007\", \"type\": \"path\"}, {\"fillcolor\": \"#ca6f4c\", \"layer\": \"below\", \"line\": {\"color\": \"rgb(150,150,150)\", \"width\": 0.45}, \"path\": \"M -1.058254796950984, 0.3001612645399672 L -1.0624315693908644, 0.28502484165711783 L -1.0663918545174949, 0.26983034043401843 L -1.0701348453598558, 0.2545808569917185 L -1.0736597792240905, 0.23927949865476802 L -0.9760543447491732, 0.21752681695888001 L -0.9728498594180506, 0.23143714271974408 L -0.9694471404704498, 0.2453003094854713 L -0.9658468812644221, 0.25911349241556164 L -0.9620498154099852, 0.27287387685451564 L -1.058254796950984 ,0.3001612645399672\", \"type\": \"path\"}, {\"fillcolor\": \"#c45e3a\", \"layer\": \"below\", \"line\": {\"color\": \"rgb(150,150,150)\", \"width\": 0.45}, \"path\": \"M -1.0806459436198816, 0.20543696000937975 L -1.085534833602718, 0.17780361367283723 L -1.0897172260487749, 0.15005454759041295 L -1.0931903989358107, 0.12220782165869316 L -1.095952091822232, 0.0942815593341236 L -0.9963200834747564, 0.08571050848556691 L -0.9938094535780098, 0.11109801968972105 L -0.9906520236807044, 0.13641322508219358 L -0.9868498487297436, 0.16163964879348838 L -0.9824054032908015, 0.18676087273579975 L -1.0806459436198816 ,0.20543696000937975\", \"type\": \"path\"}, {\"fillcolor\": \"#bf4d28\", \"layer\": \"below\", \"line\": {\"color\": \"rgb(150,150,150)\", \"width\": 0.45}, \"path\": \"M -1.098372760968622, 0.05981034995856884 L -1.0998043557596195, 0.02074557909937701 L -1.0998470105510931, -0.018345391296553305 L -1.0985006714744203, -0.0574131933465458 L -1.0957670388176446, -0.09640848842716525 L -0.9961518534705859, -0.08764408038833203 L -0.9986369740676547, -0.05219381213322345 L -0.9998609186828119, -0.016677628451412095 L -0.999822141599654, 0.018859617363070007 L -0.9985206917896563, 0.05437304541688076 L -1.098372760968622 ,0.05981034995856884\", \"type\": \"path\"}, {\"fillcolor\": \"#af4624\", \"layer\": \"below\", \"line\": {\"color\": \"rgb(150,150,150)\", \"width\": 0.45}, \"path\": \"M -1.0921980801276947, -0.13077979111995028 L -1.0861188376959703, -0.1742006613131965 L -1.0783140763307397, -0.21734477860529355 L -1.0687961954702965, -0.2601435998601925 L -1.0575803161889297, -0.30252913051427566 L -0.9614366510808451, -0.27502648228570514 L -0.9716329049729967, -0.23649418169108405 L -0.9802855239370359, -0.19758616236844867 L -0.987380761541791, -0.15836423755745135 L -0.9929073455706315, -0.11889071919995478 L -1.0921980801276947 ,-0.13077979111995028\", \"type\": \"path\"}, {\"fillcolor\": \"#9f4021\", \"layer\": \"below\", \"line\": {\"color\": \"rgb(150,150,150)\", \"width\": 0.45}, \"path\": \"M -1.0475557945118006, -0.3355992511683402 L -1.0344966968621514, -0.37392055865022744 L -1.0200362728608294, -0.41173535438214176 L -1.0041941105580146, -0.4489924145468365 L -0.9869916697027518, -0.4856412708341151 L -0.8972651542752288, -0.44149206439465005 L -0.9129037368709222, -0.4081749223153059 L -0.927305702600754, -0.3743048676201288 L -0.9404515426019557, -0.33992778059111584 L -0.9523234495561822, -0.3050902283348547 L -1.0475557945118006 ,-0.3355992511683402\", \"type\": \"path\"}, {\"fillcolor\": \"#8f391e\", \"layer\": \"below\", \"line\": {\"color\": \"rgb(150,150,150)\", \"width\": 0.45}, \"path\": \"M -0.9712502879376613, -0.5164037937322016 L -0.9600573171949913, -0.5369263894616805 L -0.9484307658987109, -0.557206498792669 L -0.9363758848254743, -0.5772349628334289 L -0.923898118193992, -0.597002736340128 L -0.9110031012063159, -0.6165008918018489 L -0.8976966575028728, -0.6357206234724261 L -0.8839847965323945, -0.6546532513472924 L -0.8698737108379349, -0.6732902250835379 L -0.8553697732601961, -0.6916231278614103 L -0.8404795340594299, -0.7096436801855166 L -0.8252097179572132, -0.7273437436240012 L -0.8095672210994331, -0.7447153244840216 L -0.7935591079418528, -0.7617505774218559 L -0.7771926080596661, -0.7784418089860118 L -0.7604751128824809, -0.7947814810917389 L -0.7434141723562058, -0.810762214425375 L -0.7260174915333473, -0.8263767917769873 L -0.7082929270932592, -0.8416181612998042 L -0.6902484837939123, -0.8564794396949675 L -0.6274986216308294, -0.7786176724499704 L -0.643902660993872, -0.7651074193634583 L -0.660015901393952, -0.7512516288881702 L -0.6758310657783688, -0.7370565585685227 L -0.6913410117113462, -0.722528619174308 L -0.7065387345996964, -0.7076743718054652 L -0.7214173708562298, -0.6925005249289599 L -0.7359702009994846, -0.6770139313491105 L -0.7501906526883756, -0.6612215851127283 L -0.7640723036903907, -0.6451306183504696 L -0.7776088847819964, -0.6287482980558275 L -0.7907942825799407, -0.6120820228032162 L -0.8036225423021768, -0.5951393194066293 L -0.816087870457157, -0.5779278395203873 L -0.8281846374602871, -0.560455356183499 L -0.8399073801763564, -0.5427297603092073 L -0.8512508043867948, -0.524759057121299 L -0.8622097871806462, -0.50655136253879 L -0.8727793792681738, -0.48811489951061854 L -0.8829548072160557, -0.4694579943020014 L -0.9712502879376613 ,-0.5164037937322016\", \"type\": \"path\"}, {\"fillcolor\": \"#f0f3e7\", \"layer\": \"below\", \"line\": {\"color\": \"rgb(150,150,150)\", \"width\": 0.45}, \"path\": \"M -0.6630052184988859, -0.8777380476219797 L -0.6440062665188997, -0.8917712311374415 L -0.6247103848497549, -0.9053932488487372 L -0.6051264701752957, -0.9185978201003892 L -0.5852635519817216, -0.9313788567074833 L -0.5651307883943998, -0.943730465762722 L -0.5447374619553543, -0.955646952353451 L -0.5240929753434043, -0.967122822187388 L -0.5032068470388971, -0.9781527841258605 L -0.48208870693506284, -0.9887317526233692 L -0.4607482918979876, -0.9988548500723651 L -0.43919544127727705, -1.0085174090521483 L -0.41744009236945684, -1.017714974480861 L -0.39549227583622065, -1.026443305669576 L -0.3733621110796316, -1.034698378277535 L -0.3510598015763989, -1.0424763861676387 L -0.3285956301734044, -1.0497737431613268 L -0.305979954346619, -1.056587084692048 L -0.2832232014256258, -1.0629132693565453 L -0.26033586378592055, -1.0687493803632537 L -0.23732849401123643, -1.0740927268771345 L -0.21421170002809456, -1.0789408452603293 L -0.19099614021485212, -1.0832915002080599 L -0.16769251848747407, -1.0871426857792534 L -0.14431157936432426, -1.0904926263214136 L -0.1311923448766584, -0.9913569330194669 L -0.15244774407952189, -0.9883115325265939 L -0.17363285474077464, -0.9848104547345997 L -0.1947379091164496, -0.9808553138730265 L -0.21575317637385127, -0.9764479335246676 L -0.23666896707810955, -0.9715903457847761 L -0.2574756376596598, -0.966284790324132 L -0.2781635948605627, -0.9605337133564072 L -0.2987233001576403, -0.9543397665102971 L -0.3191452741603626, -0.9477058056069442 L -0.33942010098148323, -0.9406348893432136 L -0.35953843257838236, -0.9331302778814328 L -0.37949099306314255, -0.9251954313462372 L -0.39926858297934276, -0.9168340082292256 L -0.4188620835436251, -0.90804986370215 L -0.4382624608500571, -0.8988470478394265 L -0.4574607700353609, -0.8892298037507822 L -0.47644815940309476, -0.8792025656248981 L -0.49521587450486754, -0.8687699566849554 L -0.5137552621767271, -0.8579367870570199 L -0.5320577745288378, -0.8467080515522575 L -0.5501149728866325, -0.8350889273639901 L -0.5679185316815953, -0.8230847716806701 L -0.5854602422899088, -0.8107011192158559 L -0.602732016817169, -0.7979436796563452 L -0.6630052184988859 ,-0.8777380476219797\", \"type\": \"path\"}, {\"fillcolor\": \"#e2ecde\", \"layer\": \"below\", \"line\": {\"color\": \"rgb(150,150,150)\", \"width\": 0.45}, \"path\": \"M -0.1099871691495249, -1.0944874702903062 L -0.09391082579956385, -1.0959839217788023 L -0.07781424985249474, -1.0972442492535077 L -0.06170090923156584, -1.0982681811834476 L -0.04557427547188382, -1.0990554969678341 L -0.04143115951989438, -0.9991413608798492 L -0.05609173566505985, -0.9984256192576796 L -0.07074022713863158, -0.9974947720486432 L -0.08537347799960349, -0.9963490197989112 L -0.09998833559047718, -0.9949886093548238 L -0.1099871691495249 ,-1.0944874702903062\", \"type\": \"path\"}, {\"fillcolor\": \"#d4e5d6\", \"layer\": \"below\", \"line\": {\"color\": \"rgb(150,150,150)\", \"width\": 0.45}, \"path\": \"M -0.011029619889313924, -1.0999447020123772 L 0.011867189917184676, -1.0999359844115792 L 0.03475885795495357, -1.0994506909332804 L 0.057635465813344305, -1.098489031843504 L 0.08048710160691998, -1.0970514238060662 L 0.1033038642700413, -1.0951384897020455 L 0.12607586784675898, -1.0927510583599023 L 0.14879324577416506, -1.0898901641963694 L 0.17144615515733225, -1.0865570467682626 L 0.194024781034007, -1.0827531502354106 L 0.2165193406272002, -1.078480122734936 L 0.238920087583824, -1.073739815667156 L 0.26121731619755645, -1.0685342828934157 L 0.2834013656140897, -1.0628657798461993 L 0.3054626240169498, -1.0567367625519044 L 0.32739153279206107, -1.0501498865667058 L 0.3491785906692664, -1.0431080058259667 L 0.37081435783900335, -1.0356141714076954 L 0.39228946004234094, -1.0276716302105886 L 0.4135945926326251, -1.0192838235472264 L 0.4347205246069572, -1.0104543856530348 L 0.4556581026057695, -1.0011871421116585 L 0.47639825487875126, -0.9914861081974272 L 0.4969319952154238, -0.9813554871356344 L 0.5172504268386483, -0.9707996682813794 L 0.5373447462593892, -0.9598232252177652 L 0.5572062470910503, -0.9484309137742757 L 0.5768263238217449, -0.9366276699661887 L 0.5961964755428609, -0.9244186078559167 L 0.6153083096322953, -0.9118090173372095 L 0.6341535453907784, -0.8988043618431689 L 0.6527240176297049, -0.8854102759790723 L 0.6710116802089091, -0.8716325630810364 L 0.6100106183717355, -0.7923932391645785 L 0.5933854705724589, -0.8049184327082475 L 0.5765032230825258, -0.8170948744028808 L 0.5593711905748139, -0.8289172884883722 L 0.5419967959480554, -0.8403805525962879 L 0.5243875671106771, -0.8514796999692624 L 0.5065511337191365, -0.8622099216129778 L 0.488495223872172, -0.8725665683797865 L 0.47022766076240746, -0.8825451529830721 L 0.4517563592867489, -0.8921413519414857 L 0.4330893226170466, -0.9013510074522065 L 0.4142346387325177, -0.9101701291924167 L 0.3952004769154156, -0.9185948960482134 L 0.3759950842114773, -0.9266216577702057 L 0.35662678185667357, -0.9342469365550805 L 0.3371039616718212, -0.9414674285524504 L 0.3174350824266058, -0.9482800052963334 L 0.29762866617460093, -0.9546817150606416 L 0.27769329456086345, -0.9606697841380948 L 0.25763760510371786, -0.9662416180419993 L 0.237470287452324, -0.9713948026303778 L 0.21720007962165816, -0.9761271051519599 L 0.19683576420654564, -0.9804364752135781 L 0.17638616457637, -0.984321045668555 L 0.1558601410521202, -0.9877791334256931 L 0.13526658706742276, -0.9908092401785176 L 0.11461442531523543, -0.9934100530544566 L 0.09391260388185572, -0.9955804451836776 L 0.07317009236992725, -0.997319476187333 L 0.052395878012131185, -0.9986263925850036 L 0.03159896177723052, -0.9995006281211639 L 0.010788354470167886, -0.9999418040105265 L -0.010026927172103565, -0.9999497291021611 L -0.011029619889313924 ,-1.0999447020123772\", \"type\": \"path\"}, {\"fillcolor\": \"#c6decd\", \"layer\": \"below\", \"line\": {\"color\": \"rgb(150,150,150)\", \"width\": 0.45}, \"path\": \"M 0.6980592168944267, -0.8501254788022412 L 0.7161390929115906, -0.8349519744295263 L 0.7338892388695025, -0.8193940352916553 L 0.7513014821146407, -0.8034588246900675 L 0.7683678055731528, -0.7871536796323179 L 0.7850803514421341, -0.7704861074539212 L 0.8014314248075722, -0.7534637823617701 L 0.8174134971873023, -0.7360945419007155 L 0.8330192099973204, -0.7183863833449521 L 0.8482413779398819, -0.7003474600158487 L 0.8630729923118076, -0.6819860775279379 L 0.8775072242314811, -0.6633106899647867 L 0.8915374277830557, -0.6443298959864993 L 0.9051571430764158, -0.6250524348706604 L 0.9183600992214842, -0.6054871824885361 L 0.931140217215516, -0.5856431472183737 L 0.9434916127420357, -0.5655294657977006 L 0.9554085988801369, -0.5451553991165217 L 0.966885688722899, -0.5245303279533466 L 0.9779175979037069, -0.5036637486560295 L 0.8890159980942789, -0.45787613514184494 L 0.87898698974809, -0.47684575268486057 L 0.8685532717092153, -0.495595817378656 L 0.8577196479473052, -0.5141176961797278 L 0.84649110655956, -0.5324028611076125 L 0.8348728174740765, -0.5504428931713964 L 0.8228701300694689, -0.5682294862460548 L 0.8104885707118687, -0.5857544508968174 L 0.7977338402104373, -0.6030097181498061 L 0.7846118111925523, -0.6199873432072163 L 0.7711285253998925, -0.6366795091053169 L 0.7572901909066548, -0.6530785303135928 L 0.7431031792611839, -0.6691768562733778 L 0.7285740225523384, -0.6849670748743364 L 0.71370941040194, -0.7004419158672011 L 0.6985161868846843, -0.715594254211198 L 0.683001347376946, -0.7304171133546067 L 0.6671720353359113, -0.7449036684469593 L 0.6510355390105369, -0.7590472494813875 L 0.6345992880858424, -0.7728413443656738 L 0.6980592168944267 ,-0.8501254788022412\", \"type\": \"path\"}, {\"fillcolor\": \"#b8d7c5\", \"layer\": \"below\", \"line\": {\"color\": \"rgb(150,150,150)\", \"width\": 0.45}, \"path\": \"M 0.993255515267274, -0.47269808693408333 L 1.0098266693994558, -0.4361766818269888 L 1.0250554916685557, -0.39907548032939305 L 1.0389217388645373, -0.3614437999394736 L 1.0514069790069458, -0.3233316633048605 L 0.9558245263699507, -0.29393787573169133 L 0.9444743080586703, -0.32858527267224874 L 0.931868628789596, -0.3627958912085391 L 0.9180242449085961, -0.39652425620635345 L 0.9029595593338854, -0.42972553357643933 L 0.993255515267274 ,-0.47269808693408333\", \"type\": \"path\"}, {\"fillcolor\": \"#aad0bc\", \"layer\": \"below\", \"line\": {\"color\": \"rgb(150,150,150)\", \"width\": 0.45}, \"path\": \"M 1.061044266110157, -0.29014662733652224 L 1.0694944931000319, -0.25725770975561874 L 1.0769255296363718, -0.22412363466939478 L 1.083330294203987, -0.19077597768037435 L 1.0887026832886042, -0.15724651792708624 L 0.9897297120805492, -0.14295137993371476 L 0.9848457220036246, -0.17343270698215849 L 0.9790232087603379, -0.20374875879035886 L 0.9722677210000289, -0.23387064523238063 L 0.9645856964637789, -0.2637696612150202 L 1.061044266110157 ,-0.29014662733652224\", \"type\": \"path\"}, {\"fillcolor\": \"#9cc9b4\", \"layer\": \"below\", \"line\": {\"color\": \"rgb(150,150,150)\", \"width\": 0.45}, \"path\": \"M 1.0931047067252175, -0.12297194857030036 L 1.0953607945382404, -0.10091942225634602 L 1.0971720356483445, -0.07882591065930043 L 1.098537694476312, -0.056700386371426166 L 1.0994572164023046, -0.03455183498594413 L 0.9995065603657315, -0.031410759078131026 L 0.9986706313421018, -0.0515458057922056 L 0.9974291233166768, -0.0716599187811822 L 0.9957825404893095, -0.09174492932395092 L 0.9937315515683794, -0.11179268051845487 L 1.0931047067252175 ,-0.12297194857030036\", \"type\": \"path\"}], \"showlegend\": false, \"title\": \"Data Jobs \\u2012 Technologies in Demand and Relationships Between Them\", \"titlefont\": {\"color\": \"#655643\", \"family\": \"Merryweather\", \"size\": 18}, \"width\": 960, \"xaxis\": {\"showgrid\": false, \"showline\": false, \"showticklabels\": false, \"title\": \"\", \"zeroline\": false}, \"yaxis\": {\"showgrid\": false, \"showline\": false, \"showticklabels\": false, \"title\": \"\", \"zeroline\": false}}, {\"showLink\": true, \"linkText\": \"Export to plot.ly\", \"plotlyServerURL\": \"https://plot.ly\"})});</script>"
      ]
     },
     "metadata": {},
     "output_type": "display_data"
    }
   ],
   "source": [
    "fig = go.Figure(data=data, layout=layout)\n",
    "\n",
    "plotly.offline.iplot(fig, filename='data_offers_tech_requirements_chord.html')"
   ]
  },
  {
   "cell_type": "code",
   "execution_count": 30,
   "metadata": {},
   "outputs": [
    {
     "data": {
      "text/plain": [
       "'file:///games/WORKSPACE/jpynb_Job_Market_Trends_Bulgaria/workbooks/data_offers_tech_requirements_chord.html'"
      ]
     },
     "execution_count": 30,
     "metadata": {},
     "output_type": "execute_result"
    }
   ],
   "source": [
    "# Uncomment the line below to export an HTML version of the chart.\n",
    "plotly.offline.plot(fig, filename='data_offers_tech_requirements_chord.html', show_link=False)"
   ]
  },
  {
   "cell_type": "markdown",
   "metadata": {},
   "source": [
    "### Resources:\n",
    "\n",
    "- https://plot.ly/python/filled-chord-diagram/\n",
    "- https://hci.stanford.edu/courses/cs448b/f11/lectures/CS448B-20111117-Text.pdf"
   ]
  },
  {
   "cell_type": "code",
   "execution_count": 31,
   "metadata": {},
   "outputs": [
    {
     "data": {
      "text/html": [
       "<style>\n",
       "@import url('https://fonts.googleapis.com/css?family=Fira+Mono|Fira+Sans|Fira+Sans+Condensed|Fira+Sans+Extra+Condensed');\n",
       "@import url('https://fonts.googleapis.com/css?family=Merriweather|Merriweather+Sans');\n",
       "\n",
       ".nbviewer {\n",
       "    background-color: #E5E1D8;\n",
       "}\n",
       "\n",
       "#notebook {\n",
       "    background-color: #E5E1D8;\n",
       "}\n",
       "\n",
       "#notebook-container {\n",
       "    background-color: #FFFAF0;\n",
       "    max-width: 1100px;\n",
       "    padding: 50px;\n",
       "    border-radius: 4px;\n",
       "    -webkit-box-shadow: 0px 0px 12px 1px rgba(101,86,67,0.75);\n",
       "    -moz-box-shadow: 0px 0px 12px 1px rgba(101,86,67,0.75);\n",
       "    box-shadow: 0px 0px 12px 1px rgba(101,86,67,0.75);\n",
       "}\n",
       "\n",
       "/* Jupyter Notebook Header Styling */\n",
       "body > #header {\n",
       "    background-color:#fafafa;\n",
       "}\n",
       "\n",
       "#header #menubar #menus {\n",
       "    background-color:#fefefe;\n",
       "}\n",
       "\n",
       "/* Headings */\n",
       ".text_cell_render h1 {\n",
       "    color: #655B4F;\n",
       "    font-family: 'Merriweather', serif;\n",
       "    font-weight: 900;\n",
       "    text-align: center;\n",
       "    font-size: 2.5em;\n",
       "    padding: 40px 0 12px 0;\n",
       "    text-shadow: 0 2px #FFFAF0, 0 3px #8c8b8b;\n",
       "}\n",
       "\n",
       ".text_cell_render h2 {\n",
       "    color: #655B4F;\n",
       "    font-family: 'Merriweather', serif;\n",
       "    font-weight: 600;\n",
       "    font-size: 2.2em;\n",
       "    text-indent: 22px;\n",
       "    padding: 40px 0 6px 0;\n",
       "    margin-bottom: 24px;\n",
       "    border-bottom: 1px solid #655B4F;\n",
       "}\n",
       "\n",
       ".text_cell_render h3 {\n",
       "    color: #655B4F;\n",
       "    font-family: 'Merriweather', serif;\n",
       "    font-weight: 300;\n",
       "    padding: 6px 0 0 0;\n",
       "    font-size: 1.6em;\n",
       "}\n",
       "\n",
       ".text_cell_render h4 {\n",
       "    color: #655B4F;\n",
       "    font-family: 'Merriweather', serif;\n",
       "    font-weight: 100;\n",
       "    font-size: 1.2em;\n",
       "}\n",
       "\n",
       "/* Use for subtitles and other non-headings */\n",
       "div.rendered_html > h5 {\n",
       "    font-family: 'Merriweather', serif;\n",
       "    line-height: 1.5em;\n",
       "    color: #655B4F;\n",
       "    font-weight: 200;\n",
       "    font-style: normal important!;\n",
       "    text-indent: 22px;\n",
       "    text-align: center;\n",
       "    margin-top: 0.5em;\n",
       "    padding: 6px 0 6px 0;\n",
       "    border-bottom: 1px solid #655B4F;\n",
       "    border-top: 1px solid #655B4F;\n",
       "}\n",
       "\n",
       "/* Use for image and chart captions */\n",
       "div.rendered_html > h6 {\n",
       "    font-family: 'Merriweather Sans', sans-serif;\n",
       "    font-size: 0.9em;\n",
       "    line-height: 1.5em;\n",
       "    color: #cac8c9;\n",
       "    font-weight: normal;\n",
       "    max-width: 525px;\n",
       "    display: block;\n",
       "    margin-left: auto;\n",
       "    margin-right: auto;\n",
       "}\n",
       "\n",
       "div#notebook-container p {\n",
       "    font-family: 'Fira Sans Condensed', sans-serif;\n",
       "    font-size: 1.2em;\n",
       "    line-height: 1.3em;\n",
       "    color: #655B4F;\n",
       "}\n",
       "\n",
       "/* Plotly Exported Charts Styling */\n",
       ".js-plotly-plot .plotly,\n",
       ".js-plotly-plot .plotly div {\n",
       "    direction: ltr;\n",
       "    font-family: \"Fira Sans Extra Condensed\", verdana, arial, sans-serif;\n",
       "}\n",
       "\n",
       "/* Lists */\n",
       "ol, ul {\n",
       "    font-family: 'Fira Sans Condensed', sans-serif;\n",
       "    line-height: 1.3em;\n",
       "    color: #655B4F;\n",
       "}\n",
       "\n",
       "div.input_prompt {\n",
       "    color: #aad0bc;\n",
       "    font-size: 0.7em;\n",
       "}\n",
       "\n",
       "div.output_prompt {\n",
       "    color: #aad0bc;\n",
       "    font-size: 0.7em;\n",
       "}\n",
       "\n",
       "div.prompt {\n",
       "    min-width: 2ex;\n",
       "}\n",
       "\n",
       "div.output_subarea {\n",
       "    min-width: 425px;\n",
       "    max-width: calc(100% - 1ex);\n",
       "    padding: 0;\n",
       "}\n",
       "\n",
       "div.text_cell code {\n",
       "    padding: 2px;\n",
       "    background-color: #E5E1D8;\n",
       "    color: #483F3A;\n",
       "    font-family: 'Fira Mono', monospace;\n",
       "    font-size: 0.9em;\n",
       "}\n",
       "\n",
       "div.input_area {\n",
       "    background-color: #FFFAF0;\n",
       "    border: 1px solid #E5E1D8;\n",
       "    background: repeating-linear-gradient(135deg, #FFFAF0, #FFFAF0 5px, #F7F7ED 5px, #F7F7ED 10px);\n",
       "}\n",
       "\n",
       "div.cell.rendered.selected {\n",
       "    background: #F7F7ED;\n",
       "    border: 1px solid #293C34;\n",
       "}\n",
       "\n",
       "div.output_area img {\n",
       "    display: block;\n",
       "    margin-left: auto;\n",
       "    margin-right: auto;\n",
       "}\n",
       "\n",
       "div.rendered_html pre, code {\n",
       "    font-family: 'Fira Sans Condensed', sans-serif;\n",
       "    font-size: 16px;\n",
       "    font-weight: 400;\n",
       "    color: #40362F;\n",
       "    background-color: #E5E1D8;\n",
       "}\n",
       "\n",
       "div.output_text pre {\n",
       "    font-family: 'Fira Sans Condensed', sans-serif;\n",
       "    font-size: 13px;\n",
       "    font-weight: 300;\n",
       "    color: #40362F;\n",
       "}\n",
       "\n",
       "\n",
       "pre, textarea {\n",
       "    overflow: hidden;\n",
       "}\n",
       "\n",
       "div.text_cell_render img {\n",
       "    max-height: 550px;\n",
       "    display: block;\n",
       "    margin-left: auto;\n",
       "    margin-right: auto;\n",
       "}\n",
       "\n",
       "div.output output_scroll {\n",
       "    overflow-x: auto;\n",
       "    overflow-y: scroll;\n",
       "    max-height: 2000px;\n",
       "}\n",
       "\n",
       "div.rendered_html hr {\n",
       "    border: 0;\n",
       "    height: 1px;\n",
       "    background-color: #655B4F;\n",
       "}\n",
       "\n",
       "div.rendered_html pre, code {\n",
       "    color: #40362F;\n",
       "    background-color: #FFFAF0;\n",
       "}\n",
       "\n",
       "/* Links */\n",
       "a.link--embedview {\n",
       "    display: none;\n",
       "}\n",
       "\n",
       "a:link {\n",
       "    color: #293C34;\n",
       "}\n",
       "\n",
       "a:visited {\n",
       "    color: #293C34;\n",
       "}\n",
       "\n",
       "a:hover {\n",
       "    color: #557C6C;\n",
       "}\n",
       "\n",
       "a:focus {\n",
       "    color:#557C6C;\n",
       "}\n",
       "\n",
       "a:active {\n",
       "    font-weight: bold;\n",
       "    color:#80BCA3;\n",
       "}\n",
       "\n",
       ".rendered_html :link {\n",
       "    text-decoration: underline;\n",
       "}\n",
       "\n",
       "/* Colors for code highlighting */\n",
       ".CodeMirror pre {\n",
       "    font-family: 'Fira Mono', monospace;\n",
       "    font-size: 0.9em;\n",
       "    font-weight: 600;\n",
       "    letter-spacing: -2px;\n",
       "}\n",
       "\n",
       ".CodeMirror-code span.cm-keyword,\n",
       ".highlight .k,\n",
       ".highlight .ow {\n",
       "    color: #5F362E;\n",
       "}\n",
       "\n",
       ".CodeMirror-code span.cm-variable,\n",
       ".highlight .na {\n",
       "    color: #655B4F;\n",
       "}\n",
       "\n",
       ".CodeMirror-code span.cm-property {\n",
       "    color: #655B4F;\n",
       "}\n",
       "\n",
       ".CodeMirror-code span.cm-def {\n",
       "    color: #293C34;\n",
       "}\n",
       "\n",
       ".CodeMirror-code span.cm-operator {\n",
       "    color: #655B4F;\n",
       "}\n",
       "\n",
       ".CodeMirror-code span.cm-string,\n",
       ".highlight .s {\n",
       "    color: #0B7761;\n",
       "}\n",
       "\n",
       ".CodeMirror-code span.cm-number,\n",
       ".highlight .mb, .highlight .mf, .highlight .mh, .highlight .mi, .highlight .mo {\n",
       "    color: #265BCA;\n",
       "}\n",
       "\n",
       ".CodeMirror-code span.cm-comment,\n",
       ".highlight .c1, .highlight .cs {\n",
       "    color: #75AC95;\n",
       "}\n",
       "\n",
       ".CodeMirror-code span.cm-builtin,\n",
       ".highlight .nb {\n",
       "    color: #5F362E;\n",
       "}\n",
       "\n",
       "/* Code with no class applied (brackets mostly) */\n",
       ".CodeMirror-line > span {\n",
       "    color: #72614B;\n",
       "}\n",
       "\n",
       "/* Table styles */\n",
       "table {\n",
       "    border: 1px solid #BF4D28;\n",
       "}\n",
       "\n",
       "\n",
       ".rendered_html table th {\n",
       "    color: #40362F;\n",
       "    text-align: left;\n",
       "    background-color: #f2e6ce;\n",
       "}\n",
       "\n",
       ".rendered_html td {\n",
       "    color: #40362F;\n",
       "    text-align: left;\n",
       "}\n",
       "\n",
       ".rendered_html table tr:nth-child(odd) {\n",
       "    background-color: #F7F7ED;\n",
       "}\n",
       "\n",
       ".rendered_html table tr:nth-child(even) {\n",
       "    background-color: #FFFAF0;\n",
       "}\n",
       "\n",
       "iframe {\n",
       "    border-width: 0;\n",
       "}\n",
       "\n",
       "@media only screen and (max-width: 600px) {\n",
       "    #notebook-container {\n",
       "        background-color: #FFFAF0;\n",
       "        padding: 15px;\n",
       "        border-radius: 4px;\n",
       "        -webkit-box-shadow: 0px 0px 12px 1px rgba(101,86,67,0.75);\n",
       "        -moz-box-shadow: 0px 0px 12px 1px rgba(101,86,67,0.75);\n",
       "        box-shadow: 0px 0px 12px 1px rgba(101,86,67,0.75);\n",
       "    }\n",
       "\n",
       "    .text_cell_render h1,\n",
       "    .text_cell_render h2 {\n",
       "        text-indent: 0;\n",
       "        text-align: left;\n",
       "        padding: 40px 22px 12px 22px;\n",
       "    }\n",
       "}\n",
       "\n",
       "</style>\n"
      ],
      "text/plain": [
       "<IPython.core.display.HTML object>"
      ]
     },
     "execution_count": 31,
     "metadata": {},
     "output_type": "execute_result"
    }
   ],
   "source": [
    "from IPython.core.display import HTML\n",
    "with open('../resources/styles/datum.css', 'r') as f:\n",
    "    style = f.read()\n",
    "HTML(style)"
   ]
  },
  {
   "cell_type": "code",
   "execution_count": null,
   "metadata": {},
   "outputs": [],
   "source": []
  }
 ],
 "metadata": {
  "kernelspec": {
   "display_name": "Python 3",
   "language": "python",
   "name": "python3"
  },
  "language_info": {
   "codemirror_mode": {
    "name": "ipython",
    "version": 3
   },
   "file_extension": ".py",
   "mimetype": "text/x-python",
   "name": "python",
   "nbconvert_exporter": "python",
   "pygments_lexer": "ipython3",
   "version": "3.7.4"
  }
 },
 "nbformat": 4,
 "nbformat_minor": 2
}
