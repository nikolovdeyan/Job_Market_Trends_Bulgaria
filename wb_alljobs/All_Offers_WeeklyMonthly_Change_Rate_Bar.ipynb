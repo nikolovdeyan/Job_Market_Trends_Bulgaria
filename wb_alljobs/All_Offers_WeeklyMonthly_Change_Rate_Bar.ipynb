{
 "cells": [
  {
   "cell_type": "markdown",
   "metadata": {},
   "source": [
    "## All Offers Yearly Rate of Change Bar Chart"
   ]
  },
  {
   "cell_type": "code",
   "execution_count": 1,
   "metadata": {},
   "outputs": [
    {
     "data": {
      "text/html": [
       "        <script type=\"text/javascript\">\n",
       "        window.PlotlyConfig = {MathJaxConfig: 'local'};\n",
       "        if (window.MathJax) {MathJax.Hub.Config({SVG: {font: \"STIX-Web\"}});}\n",
       "        if (typeof require !== 'undefined') {\n",
       "        require.undef(\"plotly\");\n",
       "        requirejs.config({\n",
       "            paths: {\n",
       "                'plotly': ['https://cdn.plot.ly/plotly-latest.min']\n",
       "            }\n",
       "        });\n",
       "        require(['plotly'], function(Plotly) {\n",
       "            window._Plotly = Plotly;\n",
       "        });\n",
       "        }\n",
       "        </script>\n",
       "        "
      ]
     },
     "metadata": {},
     "output_type": "display_data"
    }
   ],
   "source": [
    "import datetime\n",
    "import psycopg2\n",
    "import pandas as pd\n",
    "import ipywidgets as widgets\n",
    "import plotly\n",
    "import chart_studio.plotly as py\n",
    "import plotly.graph_objs as go\n",
    "\n",
    "from nbstyler import DATA_STYLE as DS\n",
    "\n",
    "plotly.offline.init_notebook_mode(connected=True)\n",
    "\n",
    "%matplotlib notebook\n",
    "%matplotlib inline"
   ]
  },
  {
   "cell_type": "markdown",
   "metadata": {},
   "source": [
    "### Objectives"
   ]
  },
  {
   "cell_type": "markdown",
   "metadata": {},
   "source": [
    "\n",
    "\n",
    "### Data Preparation\n",
    "\n"
   ]
  },
  {
   "cell_type": "code",
   "execution_count": 2,
   "metadata": {},
   "outputs": [],
   "source": [
    "conn = psycopg2.connect(\"dbname=jobsbg\")\n",
    "ads_weekly = pd.read_sql_query('SELECT * FROM v_all_offers_count_weekly', conn, index_col='week_ts')\n",
    "ads_monthly = pd.read_sql_query('SELECT * FROM v_all_offers_count_monthly', conn, index_col='month_ts')\n",
    "\n",
    "ads_weekly = ads_weekly[1:-1]\n",
    "ads_monthly = ads_monthly[1:-1]\n",
    "\n",
    "ads_weekly.index = pd.to_datetime(ads_weekly.index)\n",
    "ads_monthly.index = pd.to_datetime(ads_monthly.index)"
   ]
  },
  {
   "cell_type": "code",
   "execution_count": 3,
   "metadata": {},
   "outputs": [
    {
     "name": "stdout",
     "output_type": "stream",
     "text": [
      "Weekly dataframe head:            subm_count\n",
      "week_ts               \n",
      "2017-10-02       10281\n",
      "2017-10-09        9501\n",
      "2017-10-16        9672\n",
      "2017-10-23        9303\n",
      "2017-10-30        8939, \n",
      "\n",
      "Monthly dataframe head:            subm_count\n",
      "month_ts              \n",
      "2017-10-01       42925\n",
      "2017-11-01       37424\n",
      "2017-12-01       23917\n",
      "2018-01-01       42479\n",
      "2018-02-01       38881\n"
     ]
    }
   ],
   "source": [
    "print(f'Weekly dataframe head:{ads_weekly.head(5)}, \\n\\nMonthly dataframe head:{ads_monthly.head(5)}')"
   ]
  },
  {
   "cell_type": "markdown",
   "metadata": {},
   "source": [
    "Prepare yearly counts and change rate "
   ]
  },
  {
   "cell_type": "code",
   "execution_count": 4,
   "metadata": {},
   "outputs": [],
   "source": [
    "weekly_pchange_df = ads_weekly.pct_change(periods=52).dropna()\n",
    "monthly_pchange_df = ads_monthly.pct_change(periods=12).dropna()"
   ]
  },
  {
   "cell_type": "markdown",
   "metadata": {},
   "source": [
    "### Implementing the Chart in Plotly\n",
    "\n",
    "Preparing two traces to represent our levels of aggregation for this chart. Which one will be visible will be controlled via buttons. The initial state is to show the `weekly_bar` trace by default."
   ]
  },
  {
   "cell_type": "code",
   "execution_count": 5,
   "metadata": {},
   "outputs": [],
   "source": [
    "weekly_bar = go.Bar(\n",
    "    x=[week for week in weekly_pchange_df.index],\n",
    "    y=[value for value in weekly_pchange_df.subm_count],\n",
    "    hoverinfo='x+y',\n",
    "    showlegend=False,\n",
    "    marker=dict(\n",
    "        line=dict(\n",
    "            width=1,\n",
    "            color=DS['colorramp']['acc1'][-1]\n",
    "        ),\n",
    "        color=DS['colors']['acc1'],\n",
    "        opacity=0.8,\n",
    "    ),\n",
    "    visible=True,\n",
    ")\n",
    "\n",
    "monthly_bar = go.Bar(\n",
    "    x=[month for month in monthly_pchange_df.index],\n",
    "    y=[value for value in monthly_pchange_df.subm_count],\n",
    "    hoverinfo='x+y',\n",
    "    showlegend=False,\n",
    "    marker=dict(\n",
    "        line=dict(\n",
    "            width=1,\n",
    "            color=DS['colorramp']['acc1'][-1],\n",
    "        ),\n",
    "        color=DS['colors']['acc1'],\n",
    "        opacity=0.8,\n",
    "    ),\n",
    "    visible=False,\n",
    ")\n",
    "\n",
    "data = [weekly_bar, monthly_bar]"
   ]
  },
  {
   "cell_type": "markdown",
   "metadata": {},
   "source": [
    " Plotly `updatemenus` defines buttons and interactions to make the chart interactive. Setting different hoverformats and titles for the different views."
   ]
  },
  {
   "cell_type": "code",
   "execution_count": 6,
   "metadata": {},
   "outputs": [],
   "source": [
    "updatemenus = list([\n",
    "    dict(\n",
    "        type='buttons',\n",
    "        direction='right',\n",
    "        xanchor='center',\n",
    "        x=0.5,\n",
    "        yanchor='top',\n",
    "        y=1.09,\n",
    "        active=0,\n",
    "        showactive=True,\n",
    "        bgcolor=DS['colors']['bg1'],\n",
    "        bordercolor=DS['colors']['fg1'],\n",
    "        font=DS['chart_fonts']['btn'],\n",
    "        buttons=list([\n",
    "            dict(\n",
    "                label='Weekly',\n",
    "                method='update',\n",
    "                args=[\n",
    "                    {'visible': [True, False]},\n",
    "                    {'title': 'Total Number of Submitted Offers (Weekly)',\n",
    "                     'xaxis.hoverformat': 'Week %W, %Y'},\n",
    "                ]),\n",
    "            dict(\n",
    "                label='Monthly',\n",
    "                method='update',\n",
    "                args=[\n",
    "                    {'visible': [False, True]},\n",
    "                    {'title': 'Total Number of Submitted Offers (Monthly)',\n",
    "                     'xaxis.hoverformat': '%B \\'%y'},\n",
    "                ]),\n",
    "        ]),\n",
    "    )\n",
    "])"
   ]
  },
  {
   "cell_type": "markdown",
   "metadata": {},
   "source": [
    "Preparing the figure layout:"
   ]
  },
  {
   "cell_type": "code",
   "execution_count": 7,
   "metadata": {},
   "outputs": [],
   "source": [
    "layout = go.Layout(\n",
    "    paper_bgcolor=DS['colors']['bg1'],\n",
    "    plot_bgcolor=DS['colors']['bg1'],\n",
    "    title='Total Number of Submitted Offers (Weekly)',\n",
    "    titlefont=DS['chart_fonts']['title'],\n",
    "    font=DS['chart_fonts']['text'],\n",
    "    autosize=True,\n",
    "    showlegend=False,\n",
    "    hidesources=True,\n",
    "    xaxis=dict(\n",
    "        type='date',\n",
    "        hoverformat='Week %W, %Y',\n",
    "        ticks='outside',\n",
    "        tickmode='auto',\n",
    "        zerolinecolor=DS['colors']['fg2'],\n",
    "    ),\n",
    "    yaxis=dict(\n",
    "        title='Number of submissions',\n",
    "        fixedrange=True,\n",
    "        ticks='outside',\n",
    "        tickwidth=1,\n",
    "        gridcolor=DS['colors']['bg3'],\n",
    "    ),\n",
    "    bargap=0.2,\n",
    "    barmode='group',\n",
    "    updatemenus=updatemenus,\n",
    ")"
   ]
  },
  {
   "cell_type": "code",
   "execution_count": 8,
   "metadata": {},
   "outputs": [
    {
     "data": {
      "application/vnd.plotly.v1+json": {
       "config": {
        "linkText": "Export to plot.ly",
        "plotlyServerURL": "https://plot.ly",
        "showLink": false
       },
       "data": [
        {
         "hoverinfo": "x+y",
         "marker": {
          "color": "#bf4d28",
          "line": {
           "color": "#8f391e",
           "width": 1
          },
          "opacity": 0.8
         },
         "showlegend": false,
         "type": "bar",
         "visible": true,
         "x": [
          "2018-10-01T00:00:00",
          "2018-10-08T00:00:00",
          "2018-10-15T00:00:00",
          "2018-10-22T00:00:00",
          "2018-10-29T00:00:00",
          "2018-11-05T00:00:00",
          "2018-11-12T00:00:00",
          "2018-11-19T00:00:00",
          "2018-11-26T00:00:00",
          "2018-12-03T00:00:00",
          "2018-12-10T00:00:00",
          "2018-12-17T00:00:00",
          "2018-12-24T00:00:00",
          "2018-12-31T00:00:00",
          "2019-01-07T00:00:00",
          "2019-01-14T00:00:00",
          "2019-01-21T00:00:00",
          "2019-01-28T00:00:00",
          "2019-02-04T00:00:00",
          "2019-02-11T00:00:00",
          "2019-02-18T00:00:00",
          "2019-02-25T00:00:00",
          "2019-03-04T00:00:00",
          "2019-03-11T00:00:00",
          "2019-03-18T00:00:00",
          "2019-03-25T00:00:00",
          "2019-04-01T00:00:00",
          "2019-04-08T00:00:00",
          "2019-04-15T00:00:00",
          "2019-04-22T00:00:00",
          "2019-04-29T00:00:00",
          "2019-05-06T00:00:00",
          "2019-05-13T00:00:00",
          "2019-05-20T00:00:00",
          "2019-05-27T00:00:00",
          "2019-06-03T00:00:00",
          "2019-06-10T00:00:00",
          "2019-06-17T00:00:00",
          "2019-06-24T00:00:00",
          "2019-07-01T00:00:00",
          "2019-07-08T00:00:00",
          "2019-07-15T00:00:00",
          "2019-07-22T00:00:00",
          "2019-07-29T00:00:00",
          "2019-08-05T00:00:00",
          "2019-08-12T00:00:00",
          "2019-08-19T00:00:00",
          "2019-08-26T00:00:00",
          "2019-09-02T00:00:00",
          "2019-09-09T00:00:00",
          "2019-09-16T00:00:00",
          "2019-09-23T00:00:00",
          "2019-09-30T00:00:00",
          "2019-10-07T00:00:00",
          "2019-10-14T00:00:00",
          "2019-10-21T00:00:00",
          "2019-10-28T00:00:00",
          "2019-11-04T00:00:00",
          "2019-11-11T00:00:00",
          "2019-11-18T00:00:00",
          "2019-11-25T00:00:00",
          "2019-12-02T00:00:00",
          "2019-12-09T00:00:00",
          "2019-12-16T00:00:00",
          "2019-12-23T00:00:00",
          "2019-12-30T00:00:00",
          "2020-01-06T00:00:00",
          "2020-01-13T00:00:00",
          "2020-01-20T00:00:00",
          "2020-01-27T00:00:00",
          "2020-02-03T00:00:00",
          "2020-02-10T00:00:00",
          "2020-02-17T00:00:00",
          "2020-02-24T00:00:00",
          "2020-03-02T00:00:00",
          "2020-03-09T00:00:00",
          "2020-03-16T00:00:00",
          "2020-03-23T00:00:00"
         ],
         "y": [
          -0.006127808578932026,
          0.06241448268603311,
          0.007857733664185185,
          -0.009674298613350563,
          -0.019912741917440413,
          0.019928746381652207,
          -0.035359240849525575,
          -0.024257484321382083,
          -0.02943083106443667,
          -0.02325885273748851,
          -0.01156492460840286,
          0.006778451658936868,
          -0.008994276369582943,
          -0.040461767059092435,
          0.018453264094955513,
          -0.008459342286137206,
          0.00654170335891302,
          -0.09756629924697147,
          0.031490621915103656,
          -0.015364399070049495,
          0.03334023607372116,
          0.40502950266928917,
          0.04619133382773599,
          -0.01674226804123713,
          0.21710734225218586,
          0.056660132549239295,
          0.3070195365742845,
          -0.08177445216461787,
          -0.15937682855471036,
          -0.34992514970059885,
          -0.20870689655172414,
          0.06630686198920577,
          -0.035310630124843034,
          -0.06155000938262334,
          -0.04176687510020838,
          -0.036979591836734715,
          -0.01956233421750664,
          0.024246335392274387,
          -0.03470190658730954,
          -0.0031977615669032122,
          -0.06073815751235101,
          -0.08104601257610544,
          -0.10430118208006356,
          -0.04180973540698851,
          -0.039829161700437044,
          -0.061131926641687984,
          -0.04943583859246514,
          -0.09329262817634909,
          -0.08206593855261812,
          -0.022195865808200654,
          -0.06792487235594458,
          -0.055058722120461145,
          -0.039831669602661934,
          -0.0897562908658609,
          -0.0740664751743948,
          -0.050906328014761804,
          -0.03846592854696951,
          -0.09049230433358801,
          -0.03314205410469606,
          -0.052146495270434134,
          -0.022441891530857627,
          -0.060334448160535126,
          -0.030657582938388606,
          -0.05492558469170805,
          -0.10767326732673266,
          -0.32888624181060155,
          0.040790312300828635,
          -0.027407486402900694,
          -0.03212098487689041,
          -0.12274761156125291,
          -0.10106230261269022,
          -0.07750744276768295,
          -0.0858717434869739,
          -0.13478652134786517,
          -0.08881012658227849,
          -0.28099312195940274,
          -0.6954301540592003,
          -0.734982332155477
         ]
        },
        {
         "hoverinfo": "x+y",
         "marker": {
          "color": "#bf4d28",
          "line": {
           "color": "#8f391e",
           "width": 1
          },
          "opacity": 0.8
         },
         "showlegend": false,
         "type": "bar",
         "visible": false,
         "x": [
          "2018-10-01T00:00:00",
          "2018-11-01T00:00:00",
          "2018-12-01T00:00:00",
          "2019-01-01T00:00:00",
          "2019-02-01T00:00:00",
          "2019-03-01T00:00:00",
          "2019-04-01T00:00:00",
          "2019-05-01T00:00:00",
          "2019-06-01T00:00:00",
          "2019-07-01T00:00:00",
          "2019-08-01T00:00:00",
          "2019-09-01T00:00:00",
          "2019-10-01T00:00:00",
          "2019-11-01T00:00:00",
          "2019-12-01T00:00:00",
          "2020-01-01T00:00:00",
          "2020-02-01T00:00:00",
          "2020-03-01T00:00:00"
         ],
         "y": [
          0.04726849155503787,
          -0.025144292432663584,
          -0.04264748923359951,
          0.008874973516325824,
          0.02811141688742569,
          0.0732698882010534,
          -0.09586357875331264,
          -0.027619969676488276,
          -0.0593551124310564,
          -0.01786073544204758,
          -0.09892268694550066,
          0.002481567205135038,
          -0.08170574364906347,
          -0.09111092837760049,
          -0.02022098964929908,
          -0.07116856449505315,
          -0.09546205033271626,
          -0.4539643595041323
         ]
        }
       ],
       "layout": {
        "autosize": true,
        "bargap": 0.2,
        "barmode": "group",
        "font": {
         "color": "#655643",
         "family": "Fira Sans Condensed",
         "size": 12
        },
        "hidesources": true,
        "paper_bgcolor": "#fffaf0",
        "plot_bgcolor": "#fffaf0",
        "showlegend": false,
        "template": {
         "data": {
          "bar": [
           {
            "error_x": {
             "color": "#2a3f5f"
            },
            "error_y": {
             "color": "#2a3f5f"
            },
            "marker": {
             "line": {
              "color": "#E5ECF6",
              "width": 0.5
             }
            },
            "type": "bar"
           }
          ],
          "barpolar": [
           {
            "marker": {
             "line": {
              "color": "#E5ECF6",
              "width": 0.5
             }
            },
            "type": "barpolar"
           }
          ],
          "carpet": [
           {
            "aaxis": {
             "endlinecolor": "#2a3f5f",
             "gridcolor": "white",
             "linecolor": "white",
             "minorgridcolor": "white",
             "startlinecolor": "#2a3f5f"
            },
            "baxis": {
             "endlinecolor": "#2a3f5f",
             "gridcolor": "white",
             "linecolor": "white",
             "minorgridcolor": "white",
             "startlinecolor": "#2a3f5f"
            },
            "type": "carpet"
           }
          ],
          "choropleth": [
           {
            "colorbar": {
             "outlinewidth": 0,
             "ticks": ""
            },
            "type": "choropleth"
           }
          ],
          "contour": [
           {
            "colorbar": {
             "outlinewidth": 0,
             "ticks": ""
            },
            "colorscale": [
             [
              0,
              "#0d0887"
             ],
             [
              0.1111111111111111,
              "#46039f"
             ],
             [
              0.2222222222222222,
              "#7201a8"
             ],
             [
              0.3333333333333333,
              "#9c179e"
             ],
             [
              0.4444444444444444,
              "#bd3786"
             ],
             [
              0.5555555555555556,
              "#d8576b"
             ],
             [
              0.6666666666666666,
              "#ed7953"
             ],
             [
              0.7777777777777778,
              "#fb9f3a"
             ],
             [
              0.8888888888888888,
              "#fdca26"
             ],
             [
              1,
              "#f0f921"
             ]
            ],
            "type": "contour"
           }
          ],
          "contourcarpet": [
           {
            "colorbar": {
             "outlinewidth": 0,
             "ticks": ""
            },
            "type": "contourcarpet"
           }
          ],
          "heatmap": [
           {
            "colorbar": {
             "outlinewidth": 0,
             "ticks": ""
            },
            "colorscale": [
             [
              0,
              "#0d0887"
             ],
             [
              0.1111111111111111,
              "#46039f"
             ],
             [
              0.2222222222222222,
              "#7201a8"
             ],
             [
              0.3333333333333333,
              "#9c179e"
             ],
             [
              0.4444444444444444,
              "#bd3786"
             ],
             [
              0.5555555555555556,
              "#d8576b"
             ],
             [
              0.6666666666666666,
              "#ed7953"
             ],
             [
              0.7777777777777778,
              "#fb9f3a"
             ],
             [
              0.8888888888888888,
              "#fdca26"
             ],
             [
              1,
              "#f0f921"
             ]
            ],
            "type": "heatmap"
           }
          ],
          "heatmapgl": [
           {
            "colorbar": {
             "outlinewidth": 0,
             "ticks": ""
            },
            "colorscale": [
             [
              0,
              "#0d0887"
             ],
             [
              0.1111111111111111,
              "#46039f"
             ],
             [
              0.2222222222222222,
              "#7201a8"
             ],
             [
              0.3333333333333333,
              "#9c179e"
             ],
             [
              0.4444444444444444,
              "#bd3786"
             ],
             [
              0.5555555555555556,
              "#d8576b"
             ],
             [
              0.6666666666666666,
              "#ed7953"
             ],
             [
              0.7777777777777778,
              "#fb9f3a"
             ],
             [
              0.8888888888888888,
              "#fdca26"
             ],
             [
              1,
              "#f0f921"
             ]
            ],
            "type": "heatmapgl"
           }
          ],
          "histogram": [
           {
            "marker": {
             "colorbar": {
              "outlinewidth": 0,
              "ticks": ""
             }
            },
            "type": "histogram"
           }
          ],
          "histogram2d": [
           {
            "colorbar": {
             "outlinewidth": 0,
             "ticks": ""
            },
            "colorscale": [
             [
              0,
              "#0d0887"
             ],
             [
              0.1111111111111111,
              "#46039f"
             ],
             [
              0.2222222222222222,
              "#7201a8"
             ],
             [
              0.3333333333333333,
              "#9c179e"
             ],
             [
              0.4444444444444444,
              "#bd3786"
             ],
             [
              0.5555555555555556,
              "#d8576b"
             ],
             [
              0.6666666666666666,
              "#ed7953"
             ],
             [
              0.7777777777777778,
              "#fb9f3a"
             ],
             [
              0.8888888888888888,
              "#fdca26"
             ],
             [
              1,
              "#f0f921"
             ]
            ],
            "type": "histogram2d"
           }
          ],
          "histogram2dcontour": [
           {
            "colorbar": {
             "outlinewidth": 0,
             "ticks": ""
            },
            "colorscale": [
             [
              0,
              "#0d0887"
             ],
             [
              0.1111111111111111,
              "#46039f"
             ],
             [
              0.2222222222222222,
              "#7201a8"
             ],
             [
              0.3333333333333333,
              "#9c179e"
             ],
             [
              0.4444444444444444,
              "#bd3786"
             ],
             [
              0.5555555555555556,
              "#d8576b"
             ],
             [
              0.6666666666666666,
              "#ed7953"
             ],
             [
              0.7777777777777778,
              "#fb9f3a"
             ],
             [
              0.8888888888888888,
              "#fdca26"
             ],
             [
              1,
              "#f0f921"
             ]
            ],
            "type": "histogram2dcontour"
           }
          ],
          "mesh3d": [
           {
            "colorbar": {
             "outlinewidth": 0,
             "ticks": ""
            },
            "type": "mesh3d"
           }
          ],
          "parcoords": [
           {
            "line": {
             "colorbar": {
              "outlinewidth": 0,
              "ticks": ""
             }
            },
            "type": "parcoords"
           }
          ],
          "pie": [
           {
            "automargin": true,
            "type": "pie"
           }
          ],
          "scatter": [
           {
            "marker": {
             "colorbar": {
              "outlinewidth": 0,
              "ticks": ""
             }
            },
            "type": "scatter"
           }
          ],
          "scatter3d": [
           {
            "line": {
             "colorbar": {
              "outlinewidth": 0,
              "ticks": ""
             }
            },
            "marker": {
             "colorbar": {
              "outlinewidth": 0,
              "ticks": ""
             }
            },
            "type": "scatter3d"
           }
          ],
          "scattercarpet": [
           {
            "marker": {
             "colorbar": {
              "outlinewidth": 0,
              "ticks": ""
             }
            },
            "type": "scattercarpet"
           }
          ],
          "scattergeo": [
           {
            "marker": {
             "colorbar": {
              "outlinewidth": 0,
              "ticks": ""
             }
            },
            "type": "scattergeo"
           }
          ],
          "scattergl": [
           {
            "marker": {
             "colorbar": {
              "outlinewidth": 0,
              "ticks": ""
             }
            },
            "type": "scattergl"
           }
          ],
          "scattermapbox": [
           {
            "marker": {
             "colorbar": {
              "outlinewidth": 0,
              "ticks": ""
             }
            },
            "type": "scattermapbox"
           }
          ],
          "scatterpolar": [
           {
            "marker": {
             "colorbar": {
              "outlinewidth": 0,
              "ticks": ""
             }
            },
            "type": "scatterpolar"
           }
          ],
          "scatterpolargl": [
           {
            "marker": {
             "colorbar": {
              "outlinewidth": 0,
              "ticks": ""
             }
            },
            "type": "scatterpolargl"
           }
          ],
          "scatterternary": [
           {
            "marker": {
             "colorbar": {
              "outlinewidth": 0,
              "ticks": ""
             }
            },
            "type": "scatterternary"
           }
          ],
          "surface": [
           {
            "colorbar": {
             "outlinewidth": 0,
             "ticks": ""
            },
            "colorscale": [
             [
              0,
              "#0d0887"
             ],
             [
              0.1111111111111111,
              "#46039f"
             ],
             [
              0.2222222222222222,
              "#7201a8"
             ],
             [
              0.3333333333333333,
              "#9c179e"
             ],
             [
              0.4444444444444444,
              "#bd3786"
             ],
             [
              0.5555555555555556,
              "#d8576b"
             ],
             [
              0.6666666666666666,
              "#ed7953"
             ],
             [
              0.7777777777777778,
              "#fb9f3a"
             ],
             [
              0.8888888888888888,
              "#fdca26"
             ],
             [
              1,
              "#f0f921"
             ]
            ],
            "type": "surface"
           }
          ],
          "table": [
           {
            "cells": {
             "fill": {
              "color": "#EBF0F8"
             },
             "line": {
              "color": "white"
             }
            },
            "header": {
             "fill": {
              "color": "#C8D4E3"
             },
             "line": {
              "color": "white"
             }
            },
            "type": "table"
           }
          ]
         },
         "layout": {
          "annotationdefaults": {
           "arrowcolor": "#2a3f5f",
           "arrowhead": 0,
           "arrowwidth": 1
          },
          "coloraxis": {
           "colorbar": {
            "outlinewidth": 0,
            "ticks": ""
           }
          },
          "colorscale": {
           "diverging": [
            [
             0,
             "#8e0152"
            ],
            [
             0.1,
             "#c51b7d"
            ],
            [
             0.2,
             "#de77ae"
            ],
            [
             0.3,
             "#f1b6da"
            ],
            [
             0.4,
             "#fde0ef"
            ],
            [
             0.5,
             "#f7f7f7"
            ],
            [
             0.6,
             "#e6f5d0"
            ],
            [
             0.7,
             "#b8e186"
            ],
            [
             0.8,
             "#7fbc41"
            ],
            [
             0.9,
             "#4d9221"
            ],
            [
             1,
             "#276419"
            ]
           ],
           "sequential": [
            [
             0,
             "#0d0887"
            ],
            [
             0.1111111111111111,
             "#46039f"
            ],
            [
             0.2222222222222222,
             "#7201a8"
            ],
            [
             0.3333333333333333,
             "#9c179e"
            ],
            [
             0.4444444444444444,
             "#bd3786"
            ],
            [
             0.5555555555555556,
             "#d8576b"
            ],
            [
             0.6666666666666666,
             "#ed7953"
            ],
            [
             0.7777777777777778,
             "#fb9f3a"
            ],
            [
             0.8888888888888888,
             "#fdca26"
            ],
            [
             1,
             "#f0f921"
            ]
           ],
           "sequentialminus": [
            [
             0,
             "#0d0887"
            ],
            [
             0.1111111111111111,
             "#46039f"
            ],
            [
             0.2222222222222222,
             "#7201a8"
            ],
            [
             0.3333333333333333,
             "#9c179e"
            ],
            [
             0.4444444444444444,
             "#bd3786"
            ],
            [
             0.5555555555555556,
             "#d8576b"
            ],
            [
             0.6666666666666666,
             "#ed7953"
            ],
            [
             0.7777777777777778,
             "#fb9f3a"
            ],
            [
             0.8888888888888888,
             "#fdca26"
            ],
            [
             1,
             "#f0f921"
            ]
           ]
          },
          "colorway": [
           "#636efa",
           "#EF553B",
           "#00cc96",
           "#ab63fa",
           "#FFA15A",
           "#19d3f3",
           "#FF6692",
           "#B6E880",
           "#FF97FF",
           "#FECB52"
          ],
          "font": {
           "color": "#2a3f5f"
          },
          "geo": {
           "bgcolor": "white",
           "lakecolor": "white",
           "landcolor": "#E5ECF6",
           "showlakes": true,
           "showland": true,
           "subunitcolor": "white"
          },
          "hoverlabel": {
           "align": "left"
          },
          "hovermode": "closest",
          "mapbox": {
           "style": "light"
          },
          "paper_bgcolor": "white",
          "plot_bgcolor": "#E5ECF6",
          "polar": {
           "angularaxis": {
            "gridcolor": "white",
            "linecolor": "white",
            "ticks": ""
           },
           "bgcolor": "#E5ECF6",
           "radialaxis": {
            "gridcolor": "white",
            "linecolor": "white",
            "ticks": ""
           }
          },
          "scene": {
           "xaxis": {
            "backgroundcolor": "#E5ECF6",
            "gridcolor": "white",
            "gridwidth": 2,
            "linecolor": "white",
            "showbackground": true,
            "ticks": "",
            "zerolinecolor": "white"
           },
           "yaxis": {
            "backgroundcolor": "#E5ECF6",
            "gridcolor": "white",
            "gridwidth": 2,
            "linecolor": "white",
            "showbackground": true,
            "ticks": "",
            "zerolinecolor": "white"
           },
           "zaxis": {
            "backgroundcolor": "#E5ECF6",
            "gridcolor": "white",
            "gridwidth": 2,
            "linecolor": "white",
            "showbackground": true,
            "ticks": "",
            "zerolinecolor": "white"
           }
          },
          "shapedefaults": {
           "line": {
            "color": "#2a3f5f"
           }
          },
          "ternary": {
           "aaxis": {
            "gridcolor": "white",
            "linecolor": "white",
            "ticks": ""
           },
           "baxis": {
            "gridcolor": "white",
            "linecolor": "white",
            "ticks": ""
           },
           "bgcolor": "#E5ECF6",
           "caxis": {
            "gridcolor": "white",
            "linecolor": "white",
            "ticks": ""
           }
          },
          "title": {
           "x": 0.05
          },
          "xaxis": {
           "automargin": true,
           "gridcolor": "white",
           "linecolor": "white",
           "ticks": "",
           "title": {
            "standoff": 15
           },
           "zerolinecolor": "white",
           "zerolinewidth": 2
          },
          "yaxis": {
           "automargin": true,
           "gridcolor": "white",
           "linecolor": "white",
           "ticks": "",
           "title": {
            "standoff": 15
           },
           "zerolinecolor": "white",
           "zerolinewidth": 2
          }
         }
        },
        "title": {
         "font": {
          "color": "#655643",
          "family": "Merryweather",
          "size": 18
         },
         "text": "Total Number of Submitted Offers (Weekly)"
        },
        "updatemenus": [
         {
          "active": 0,
          "bgcolor": "#fffaf0",
          "bordercolor": "#B18F64",
          "buttons": [
           {
            "args": [
             {
              "visible": [
               true,
               false
              ]
             },
             {
              "title": "Total Number of Submitted Offers (Weekly)",
              "xaxis.hoverformat": "Week %W, %Y"
             }
            ],
            "label": "Weekly",
            "method": "update"
           },
           {
            "args": [
             {
              "visible": [
               false,
               true
              ]
             },
             {
              "title": "Total Number of Submitted Offers (Monthly)",
              "xaxis.hoverformat": "%B '%y"
             }
            ],
            "label": "Monthly",
            "method": "update"
           }
          ],
          "direction": "right",
          "font": {
           "color": "#655643",
           "family": "Fira Sans Condensed",
           "size": 14
          },
          "showactive": true,
          "type": "buttons",
          "x": 0.5,
          "xanchor": "center",
          "y": 1.09,
          "yanchor": "top"
         }
        ],
        "xaxis": {
         "hoverformat": "Week %W, %Y",
         "tickmode": "auto",
         "ticks": "outside",
         "type": "date",
         "zerolinecolor": "#655643"
        },
        "yaxis": {
         "fixedrange": true,
         "gridcolor": "#f2e6ce",
         "ticks": "outside",
         "tickwidth": 1,
         "title": {
          "text": "Number of submissions"
         }
        }
       }
      },
      "text/html": [
       "<div>\n",
       "        \n",
       "        \n",
       "            <div id=\"767b6438-ce1c-4886-8036-2d852c26e294\" class=\"plotly-graph-div\" style=\"height:525px; width:100%;\"></div>\n",
       "            <script type=\"text/javascript\">\n",
       "                require([\"plotly\"], function(Plotly) {\n",
       "                    window.PLOTLYENV=window.PLOTLYENV || {};\n",
       "                    \n",
       "                if (document.getElementById(\"767b6438-ce1c-4886-8036-2d852c26e294\")) {\n",
       "                    Plotly.newPlot(\n",
       "                        '767b6438-ce1c-4886-8036-2d852c26e294',\n",
       "                        [{\"hoverinfo\": \"x+y\", \"marker\": {\"color\": \"#bf4d28\", \"line\": {\"color\": \"#8f391e\", \"width\": 1}, \"opacity\": 0.8}, \"showlegend\": false, \"type\": \"bar\", \"visible\": true, \"x\": [\"2018-10-01T00:00:00\", \"2018-10-08T00:00:00\", \"2018-10-15T00:00:00\", \"2018-10-22T00:00:00\", \"2018-10-29T00:00:00\", \"2018-11-05T00:00:00\", \"2018-11-12T00:00:00\", \"2018-11-19T00:00:00\", \"2018-11-26T00:00:00\", \"2018-12-03T00:00:00\", \"2018-12-10T00:00:00\", \"2018-12-17T00:00:00\", \"2018-12-24T00:00:00\", \"2018-12-31T00:00:00\", \"2019-01-07T00:00:00\", \"2019-01-14T00:00:00\", \"2019-01-21T00:00:00\", \"2019-01-28T00:00:00\", \"2019-02-04T00:00:00\", \"2019-02-11T00:00:00\", \"2019-02-18T00:00:00\", \"2019-02-25T00:00:00\", \"2019-03-04T00:00:00\", \"2019-03-11T00:00:00\", \"2019-03-18T00:00:00\", \"2019-03-25T00:00:00\", \"2019-04-01T00:00:00\", \"2019-04-08T00:00:00\", \"2019-04-15T00:00:00\", \"2019-04-22T00:00:00\", \"2019-04-29T00:00:00\", \"2019-05-06T00:00:00\", \"2019-05-13T00:00:00\", \"2019-05-20T00:00:00\", \"2019-05-27T00:00:00\", \"2019-06-03T00:00:00\", \"2019-06-10T00:00:00\", \"2019-06-17T00:00:00\", \"2019-06-24T00:00:00\", \"2019-07-01T00:00:00\", \"2019-07-08T00:00:00\", \"2019-07-15T00:00:00\", \"2019-07-22T00:00:00\", \"2019-07-29T00:00:00\", \"2019-08-05T00:00:00\", \"2019-08-12T00:00:00\", \"2019-08-19T00:00:00\", \"2019-08-26T00:00:00\", \"2019-09-02T00:00:00\", \"2019-09-09T00:00:00\", \"2019-09-16T00:00:00\", \"2019-09-23T00:00:00\", \"2019-09-30T00:00:00\", \"2019-10-07T00:00:00\", \"2019-10-14T00:00:00\", \"2019-10-21T00:00:00\", \"2019-10-28T00:00:00\", \"2019-11-04T00:00:00\", \"2019-11-11T00:00:00\", \"2019-11-18T00:00:00\", \"2019-11-25T00:00:00\", \"2019-12-02T00:00:00\", \"2019-12-09T00:00:00\", \"2019-12-16T00:00:00\", \"2019-12-23T00:00:00\", \"2019-12-30T00:00:00\", \"2020-01-06T00:00:00\", \"2020-01-13T00:00:00\", \"2020-01-20T00:00:00\", \"2020-01-27T00:00:00\", \"2020-02-03T00:00:00\", \"2020-02-10T00:00:00\", \"2020-02-17T00:00:00\", \"2020-02-24T00:00:00\", \"2020-03-02T00:00:00\", \"2020-03-09T00:00:00\", \"2020-03-16T00:00:00\", \"2020-03-23T00:00:00\"], \"y\": [-0.006127808578932026, 0.06241448268603311, 0.007857733664185185, -0.009674298613350563, -0.019912741917440413, 0.019928746381652207, -0.035359240849525575, -0.024257484321382083, -0.02943083106443667, -0.02325885273748851, -0.01156492460840286, 0.006778451658936868, -0.008994276369582943, -0.040461767059092435, 0.018453264094955513, -0.008459342286137206, 0.00654170335891302, -0.09756629924697147, 0.031490621915103656, -0.015364399070049495, 0.03334023607372116, 0.40502950266928917, 0.04619133382773599, -0.01674226804123713, 0.21710734225218586, 0.056660132549239295, 0.3070195365742845, -0.08177445216461787, -0.15937682855471036, -0.34992514970059885, -0.20870689655172414, 0.06630686198920577, -0.035310630124843034, -0.06155000938262334, -0.04176687510020838, -0.036979591836734715, -0.01956233421750664, 0.024246335392274387, -0.03470190658730954, -0.0031977615669032122, -0.06073815751235101, -0.08104601257610544, -0.10430118208006356, -0.04180973540698851, -0.039829161700437044, -0.061131926641687984, -0.04943583859246514, -0.09329262817634909, -0.08206593855261812, -0.022195865808200654, -0.06792487235594458, -0.055058722120461145, -0.039831669602661934, -0.0897562908658609, -0.0740664751743948, -0.050906328014761804, -0.03846592854696951, -0.09049230433358801, -0.03314205410469606, -0.052146495270434134, -0.022441891530857627, -0.060334448160535126, -0.030657582938388606, -0.05492558469170805, -0.10767326732673266, -0.32888624181060155, 0.040790312300828635, -0.027407486402900694, -0.03212098487689041, -0.12274761156125291, -0.10106230261269022, -0.07750744276768295, -0.0858717434869739, -0.13478652134786517, -0.08881012658227849, -0.28099312195940274, -0.6954301540592003, -0.734982332155477]}, {\"hoverinfo\": \"x+y\", \"marker\": {\"color\": \"#bf4d28\", \"line\": {\"color\": \"#8f391e\", \"width\": 1}, \"opacity\": 0.8}, \"showlegend\": false, \"type\": \"bar\", \"visible\": false, \"x\": [\"2018-10-01T00:00:00\", \"2018-11-01T00:00:00\", \"2018-12-01T00:00:00\", \"2019-01-01T00:00:00\", \"2019-02-01T00:00:00\", \"2019-03-01T00:00:00\", \"2019-04-01T00:00:00\", \"2019-05-01T00:00:00\", \"2019-06-01T00:00:00\", \"2019-07-01T00:00:00\", \"2019-08-01T00:00:00\", \"2019-09-01T00:00:00\", \"2019-10-01T00:00:00\", \"2019-11-01T00:00:00\", \"2019-12-01T00:00:00\", \"2020-01-01T00:00:00\", \"2020-02-01T00:00:00\", \"2020-03-01T00:00:00\"], \"y\": [0.04726849155503787, -0.025144292432663584, -0.04264748923359951, 0.008874973516325824, 0.02811141688742569, 0.0732698882010534, -0.09586357875331264, -0.027619969676488276, -0.0593551124310564, -0.01786073544204758, -0.09892268694550066, 0.002481567205135038, -0.08170574364906347, -0.09111092837760049, -0.02022098964929908, -0.07116856449505315, -0.09546205033271626, -0.4539643595041323]}],\n",
       "                        {\"autosize\": true, \"bargap\": 0.2, \"barmode\": \"group\", \"font\": {\"color\": \"#655643\", \"family\": \"Fira Sans Condensed\", \"size\": 12}, \"hidesources\": true, \"paper_bgcolor\": \"#fffaf0\", \"plot_bgcolor\": \"#fffaf0\", \"showlegend\": false, \"template\": {\"data\": {\"bar\": [{\"error_x\": {\"color\": \"#2a3f5f\"}, \"error_y\": {\"color\": \"#2a3f5f\"}, \"marker\": {\"line\": {\"color\": \"#E5ECF6\", \"width\": 0.5}}, \"type\": \"bar\"}], \"barpolar\": [{\"marker\": {\"line\": {\"color\": \"#E5ECF6\", \"width\": 0.5}}, \"type\": \"barpolar\"}], \"carpet\": [{\"aaxis\": {\"endlinecolor\": \"#2a3f5f\", \"gridcolor\": \"white\", \"linecolor\": \"white\", \"minorgridcolor\": \"white\", \"startlinecolor\": \"#2a3f5f\"}, \"baxis\": {\"endlinecolor\": \"#2a3f5f\", \"gridcolor\": \"white\", \"linecolor\": \"white\", \"minorgridcolor\": \"white\", \"startlinecolor\": \"#2a3f5f\"}, \"type\": \"carpet\"}], \"choropleth\": [{\"colorbar\": {\"outlinewidth\": 0, \"ticks\": \"\"}, \"type\": \"choropleth\"}], \"contour\": [{\"colorbar\": {\"outlinewidth\": 0, \"ticks\": \"\"}, \"colorscale\": [[0.0, \"#0d0887\"], [0.1111111111111111, \"#46039f\"], [0.2222222222222222, \"#7201a8\"], [0.3333333333333333, \"#9c179e\"], [0.4444444444444444, \"#bd3786\"], [0.5555555555555556, \"#d8576b\"], [0.6666666666666666, \"#ed7953\"], [0.7777777777777778, \"#fb9f3a\"], [0.8888888888888888, \"#fdca26\"], [1.0, \"#f0f921\"]], \"type\": \"contour\"}], \"contourcarpet\": [{\"colorbar\": {\"outlinewidth\": 0, \"ticks\": \"\"}, \"type\": \"contourcarpet\"}], \"heatmap\": [{\"colorbar\": {\"outlinewidth\": 0, \"ticks\": \"\"}, \"colorscale\": [[0.0, \"#0d0887\"], [0.1111111111111111, \"#46039f\"], [0.2222222222222222, \"#7201a8\"], [0.3333333333333333, \"#9c179e\"], [0.4444444444444444, \"#bd3786\"], [0.5555555555555556, \"#d8576b\"], [0.6666666666666666, \"#ed7953\"], [0.7777777777777778, \"#fb9f3a\"], [0.8888888888888888, \"#fdca26\"], [1.0, \"#f0f921\"]], \"type\": \"heatmap\"}], \"heatmapgl\": [{\"colorbar\": {\"outlinewidth\": 0, \"ticks\": \"\"}, \"colorscale\": [[0.0, \"#0d0887\"], [0.1111111111111111, \"#46039f\"], [0.2222222222222222, \"#7201a8\"], [0.3333333333333333, \"#9c179e\"], [0.4444444444444444, \"#bd3786\"], [0.5555555555555556, \"#d8576b\"], [0.6666666666666666, \"#ed7953\"], [0.7777777777777778, \"#fb9f3a\"], [0.8888888888888888, \"#fdca26\"], [1.0, \"#f0f921\"]], \"type\": \"heatmapgl\"}], \"histogram\": [{\"marker\": {\"colorbar\": {\"outlinewidth\": 0, \"ticks\": \"\"}}, \"type\": \"histogram\"}], \"histogram2d\": [{\"colorbar\": {\"outlinewidth\": 0, \"ticks\": \"\"}, \"colorscale\": [[0.0, \"#0d0887\"], [0.1111111111111111, \"#46039f\"], [0.2222222222222222, \"#7201a8\"], [0.3333333333333333, \"#9c179e\"], [0.4444444444444444, \"#bd3786\"], [0.5555555555555556, \"#d8576b\"], [0.6666666666666666, \"#ed7953\"], [0.7777777777777778, \"#fb9f3a\"], [0.8888888888888888, \"#fdca26\"], [1.0, \"#f0f921\"]], \"type\": \"histogram2d\"}], \"histogram2dcontour\": [{\"colorbar\": {\"outlinewidth\": 0, \"ticks\": \"\"}, \"colorscale\": [[0.0, \"#0d0887\"], [0.1111111111111111, \"#46039f\"], [0.2222222222222222, \"#7201a8\"], [0.3333333333333333, \"#9c179e\"], [0.4444444444444444, \"#bd3786\"], [0.5555555555555556, \"#d8576b\"], [0.6666666666666666, \"#ed7953\"], [0.7777777777777778, \"#fb9f3a\"], [0.8888888888888888, \"#fdca26\"], [1.0, \"#f0f921\"]], \"type\": \"histogram2dcontour\"}], \"mesh3d\": [{\"colorbar\": {\"outlinewidth\": 0, \"ticks\": \"\"}, \"type\": \"mesh3d\"}], \"parcoords\": [{\"line\": {\"colorbar\": {\"outlinewidth\": 0, \"ticks\": \"\"}}, \"type\": \"parcoords\"}], \"pie\": [{\"automargin\": true, \"type\": \"pie\"}], \"scatter\": [{\"marker\": {\"colorbar\": {\"outlinewidth\": 0, \"ticks\": \"\"}}, \"type\": \"scatter\"}], \"scatter3d\": [{\"line\": {\"colorbar\": {\"outlinewidth\": 0, \"ticks\": \"\"}}, \"marker\": {\"colorbar\": {\"outlinewidth\": 0, \"ticks\": \"\"}}, \"type\": \"scatter3d\"}], \"scattercarpet\": [{\"marker\": {\"colorbar\": {\"outlinewidth\": 0, \"ticks\": \"\"}}, \"type\": \"scattercarpet\"}], \"scattergeo\": [{\"marker\": {\"colorbar\": {\"outlinewidth\": 0, \"ticks\": \"\"}}, \"type\": \"scattergeo\"}], \"scattergl\": [{\"marker\": {\"colorbar\": {\"outlinewidth\": 0, \"ticks\": \"\"}}, \"type\": \"scattergl\"}], \"scattermapbox\": [{\"marker\": {\"colorbar\": {\"outlinewidth\": 0, \"ticks\": \"\"}}, \"type\": \"scattermapbox\"}], \"scatterpolar\": [{\"marker\": {\"colorbar\": {\"outlinewidth\": 0, \"ticks\": \"\"}}, \"type\": \"scatterpolar\"}], \"scatterpolargl\": [{\"marker\": {\"colorbar\": {\"outlinewidth\": 0, \"ticks\": \"\"}}, \"type\": \"scatterpolargl\"}], \"scatterternary\": [{\"marker\": {\"colorbar\": {\"outlinewidth\": 0, \"ticks\": \"\"}}, \"type\": \"scatterternary\"}], \"surface\": [{\"colorbar\": {\"outlinewidth\": 0, \"ticks\": \"\"}, \"colorscale\": [[0.0, \"#0d0887\"], [0.1111111111111111, \"#46039f\"], [0.2222222222222222, \"#7201a8\"], [0.3333333333333333, \"#9c179e\"], [0.4444444444444444, \"#bd3786\"], [0.5555555555555556, \"#d8576b\"], [0.6666666666666666, \"#ed7953\"], [0.7777777777777778, \"#fb9f3a\"], [0.8888888888888888, \"#fdca26\"], [1.0, \"#f0f921\"]], \"type\": \"surface\"}], \"table\": [{\"cells\": {\"fill\": {\"color\": \"#EBF0F8\"}, \"line\": {\"color\": \"white\"}}, \"header\": {\"fill\": {\"color\": \"#C8D4E3\"}, \"line\": {\"color\": \"white\"}}, \"type\": \"table\"}]}, \"layout\": {\"annotationdefaults\": {\"arrowcolor\": \"#2a3f5f\", \"arrowhead\": 0, \"arrowwidth\": 1}, \"coloraxis\": {\"colorbar\": {\"outlinewidth\": 0, \"ticks\": \"\"}}, \"colorscale\": {\"diverging\": [[0, \"#8e0152\"], [0.1, \"#c51b7d\"], [0.2, \"#de77ae\"], [0.3, \"#f1b6da\"], [0.4, \"#fde0ef\"], [0.5, \"#f7f7f7\"], [0.6, \"#e6f5d0\"], [0.7, \"#b8e186\"], [0.8, \"#7fbc41\"], [0.9, \"#4d9221\"], [1, \"#276419\"]], \"sequential\": [[0.0, \"#0d0887\"], [0.1111111111111111, \"#46039f\"], [0.2222222222222222, \"#7201a8\"], [0.3333333333333333, \"#9c179e\"], [0.4444444444444444, \"#bd3786\"], [0.5555555555555556, \"#d8576b\"], [0.6666666666666666, \"#ed7953\"], [0.7777777777777778, \"#fb9f3a\"], [0.8888888888888888, \"#fdca26\"], [1.0, \"#f0f921\"]], \"sequentialminus\": [[0.0, \"#0d0887\"], [0.1111111111111111, \"#46039f\"], [0.2222222222222222, \"#7201a8\"], [0.3333333333333333, \"#9c179e\"], [0.4444444444444444, \"#bd3786\"], [0.5555555555555556, \"#d8576b\"], [0.6666666666666666, \"#ed7953\"], [0.7777777777777778, \"#fb9f3a\"], [0.8888888888888888, \"#fdca26\"], [1.0, \"#f0f921\"]]}, \"colorway\": [\"#636efa\", \"#EF553B\", \"#00cc96\", \"#ab63fa\", \"#FFA15A\", \"#19d3f3\", \"#FF6692\", \"#B6E880\", \"#FF97FF\", \"#FECB52\"], \"font\": {\"color\": \"#2a3f5f\"}, \"geo\": {\"bgcolor\": \"white\", \"lakecolor\": \"white\", \"landcolor\": \"#E5ECF6\", \"showlakes\": true, \"showland\": true, \"subunitcolor\": \"white\"}, \"hoverlabel\": {\"align\": \"left\"}, \"hovermode\": \"closest\", \"mapbox\": {\"style\": \"light\"}, \"paper_bgcolor\": \"white\", \"plot_bgcolor\": \"#E5ECF6\", \"polar\": {\"angularaxis\": {\"gridcolor\": \"white\", \"linecolor\": \"white\", \"ticks\": \"\"}, \"bgcolor\": \"#E5ECF6\", \"radialaxis\": {\"gridcolor\": \"white\", \"linecolor\": \"white\", \"ticks\": \"\"}}, \"scene\": {\"xaxis\": {\"backgroundcolor\": \"#E5ECF6\", \"gridcolor\": \"white\", \"gridwidth\": 2, \"linecolor\": \"white\", \"showbackground\": true, \"ticks\": \"\", \"zerolinecolor\": \"white\"}, \"yaxis\": {\"backgroundcolor\": \"#E5ECF6\", \"gridcolor\": \"white\", \"gridwidth\": 2, \"linecolor\": \"white\", \"showbackground\": true, \"ticks\": \"\", \"zerolinecolor\": \"white\"}, \"zaxis\": {\"backgroundcolor\": \"#E5ECF6\", \"gridcolor\": \"white\", \"gridwidth\": 2, \"linecolor\": \"white\", \"showbackground\": true, \"ticks\": \"\", \"zerolinecolor\": \"white\"}}, \"shapedefaults\": {\"line\": {\"color\": \"#2a3f5f\"}}, \"ternary\": {\"aaxis\": {\"gridcolor\": \"white\", \"linecolor\": \"white\", \"ticks\": \"\"}, \"baxis\": {\"gridcolor\": \"white\", \"linecolor\": \"white\", \"ticks\": \"\"}, \"bgcolor\": \"#E5ECF6\", \"caxis\": {\"gridcolor\": \"white\", \"linecolor\": \"white\", \"ticks\": \"\"}}, \"title\": {\"x\": 0.05}, \"xaxis\": {\"automargin\": true, \"gridcolor\": \"white\", \"linecolor\": \"white\", \"ticks\": \"\", \"title\": {\"standoff\": 15}, \"zerolinecolor\": \"white\", \"zerolinewidth\": 2}, \"yaxis\": {\"automargin\": true, \"gridcolor\": \"white\", \"linecolor\": \"white\", \"ticks\": \"\", \"title\": {\"standoff\": 15}, \"zerolinecolor\": \"white\", \"zerolinewidth\": 2}}}, \"title\": {\"font\": {\"color\": \"#655643\", \"family\": \"Merryweather\", \"size\": 18}, \"text\": \"Total Number of Submitted Offers (Weekly)\"}, \"updatemenus\": [{\"active\": 0, \"bgcolor\": \"#fffaf0\", \"bordercolor\": \"#B18F64\", \"buttons\": [{\"args\": [{\"visible\": [true, false]}, {\"title\": \"Total Number of Submitted Offers (Weekly)\", \"xaxis.hoverformat\": \"Week %W, %Y\"}], \"label\": \"Weekly\", \"method\": \"update\"}, {\"args\": [{\"visible\": [false, true]}, {\"title\": \"Total Number of Submitted Offers (Monthly)\", \"xaxis.hoverformat\": \"%B '%y\"}], \"label\": \"Monthly\", \"method\": \"update\"}], \"direction\": \"right\", \"font\": {\"color\": \"#655643\", \"family\": \"Fira Sans Condensed\", \"size\": 14}, \"showactive\": true, \"type\": \"buttons\", \"x\": 0.5, \"xanchor\": \"center\", \"y\": 1.09, \"yanchor\": \"top\"}], \"xaxis\": {\"hoverformat\": \"Week %W, %Y\", \"tickmode\": \"auto\", \"ticks\": \"outside\", \"type\": \"date\", \"zerolinecolor\": \"#655643\"}, \"yaxis\": {\"fixedrange\": true, \"gridcolor\": \"#f2e6ce\", \"ticks\": \"outside\", \"tickwidth\": 1, \"title\": {\"text\": \"Number of submissions\"}}},\n",
       "                        {\"responsive\": true}\n",
       "                    ).then(function(){\n",
       "                            \n",
       "var gd = document.getElementById('767b6438-ce1c-4886-8036-2d852c26e294');\n",
       "var x = new MutationObserver(function (mutations, observer) {{\n",
       "        var display = window.getComputedStyle(gd).display;\n",
       "        if (!display || display === 'none') {{\n",
       "            console.log([gd, 'removed!']);\n",
       "            Plotly.purge(gd);\n",
       "            observer.disconnect();\n",
       "        }}\n",
       "}});\n",
       "\n",
       "// Listen for the removal of the full notebook cells\n",
       "var notebookContainer = gd.closest('#notebook-container');\n",
       "if (notebookContainer) {{\n",
       "    x.observe(notebookContainer, {childList: true});\n",
       "}}\n",
       "\n",
       "// Listen for the clearing of the current output cell\n",
       "var outputEl = gd.closest('.output');\n",
       "if (outputEl) {{\n",
       "    x.observe(outputEl, {childList: true});\n",
       "}}\n",
       "\n",
       "                        })\n",
       "                };\n",
       "                });\n",
       "            </script>\n",
       "        </div>"
      ]
     },
     "metadata": {},
     "output_type": "display_data"
    }
   ],
   "source": [
    "fig = go.Figure(data=data, layout=layout)\n",
    "plotly.offline.iplot(fig, filename='all_offers_weeklymonthly_submissions_change_rate_bar.html')"
   ]
  },
  {
   "cell_type": "code",
   "execution_count": 9,
   "metadata": {},
   "outputs": [
    {
     "data": {
      "text/plain": [
       "'all_offers_weeklymonthly_submissions_change_rate_bar.html'"
      ]
     },
     "execution_count": 9,
     "metadata": {},
     "output_type": "execute_result"
    }
   ],
   "source": [
    "# Uncomment the line below to export an HTML version of the chart.\n",
    "plotly.offline.plot(fig, filename = 'all_offers_weeklymonthly_submissions_change_rate_bar.html', show_link=False)"
   ]
  },
  {
   "cell_type": "code",
   "execution_count": 10,
   "metadata": {},
   "outputs": [
    {
     "data": {
      "text/html": [
       "<style>\n",
       "@import url('https://fonts.googleapis.com/css?family=Fira+Mono|Fira+Sans|Fira+Sans+Condensed|Fira+Sans+Extra+Condensed');\n",
       "@import url('https://fonts.googleapis.com/css?family=Merriweather|Merriweather+Sans');\n",
       "\n",
       ".nbviewer {\n",
       "    background-color: #E5E1D8;\n",
       "}\n",
       "\n",
       "#notebook {\n",
       "    background-color: #E5E1D8;\n",
       "}\n",
       "\n",
       "#notebook-container {\n",
       "    background-color: #FFFAF0;\n",
       "    max-width: 1100px;\n",
       "    padding: 50px;\n",
       "    border-radius: 4px;\n",
       "    -webkit-box-shadow: 0px 0px 12px 1px rgba(101,86,67,0.75);\n",
       "    -moz-box-shadow: 0px 0px 12px 1px rgba(101,86,67,0.75);\n",
       "    box-shadow: 0px 0px 12px 1px rgba(101,86,67,0.75);\n",
       "}\n",
       "\n",
       "/* Jupyter Notebook Header Styling */\n",
       "body > #header {\n",
       "    background-color:#fafafa;\n",
       "}\n",
       "\n",
       "#header #menubar #menus {\n",
       "    background-color:#fefefe;\n",
       "}\n",
       "\n",
       "/* Headings */\n",
       ".text_cell_render h1 {\n",
       "    color: #655B4F;\n",
       "    font-family: 'Merriweather', serif;\n",
       "    font-weight: 900;\n",
       "    text-align: center;\n",
       "    font-size: 2.5em;\n",
       "    padding: 40px 0 12px 0;\n",
       "    text-shadow: 0 2px #FFFAF0, 0 3px #8c8b8b;\n",
       "}\n",
       "\n",
       ".text_cell_render h2 {\n",
       "    color: #655B4F;\n",
       "    font-family: 'Merriweather', serif;\n",
       "    font-weight: 600;\n",
       "    font-size: 2.2em;\n",
       "    text-indent: 22px;\n",
       "    padding: 40px 0 6px 0;\n",
       "    margin-bottom: 24px;\n",
       "    border-bottom: 1px solid #655B4F;\n",
       "}\n",
       "\n",
       ".text_cell_render h3 {\n",
       "    color: #655B4F;\n",
       "    font-family: 'Merriweather', serif;\n",
       "    font-weight: 300;\n",
       "    padding: 6px 0 0 0;\n",
       "    font-size: 1.6em;\n",
       "}\n",
       "\n",
       ".text_cell_render h4 {\n",
       "    color: #655B4F;\n",
       "    font-family: 'Merriweather', serif;\n",
       "    font-weight: 100;\n",
       "    font-size: 1.2em;\n",
       "}\n",
       "\n",
       "/* Use for subtitles and other non-headings */\n",
       "div.rendered_html > h5 {\n",
       "    font-family: 'Merriweather', serif;\n",
       "    line-height: 1.5em;\n",
       "    color: #655B4F;\n",
       "    font-weight: 200;\n",
       "    font-style: normal important!;\n",
       "    text-indent: 22px;\n",
       "    text-align: center;\n",
       "    margin-top: 0.5em;\n",
       "    padding: 6px 0 6px 0;\n",
       "    border-bottom: 1px solid #655B4F;\n",
       "    border-top: 1px solid #655B4F;\n",
       "}\n",
       "\n",
       "/* Use for image and chart captions */\n",
       "div.rendered_html > h6 {\n",
       "    font-family: 'Merriweather Sans', sans-serif;\n",
       "    font-size: 0.9em;\n",
       "    line-height: 1.5em;\n",
       "    color: #cac8c9;\n",
       "    font-weight: normal;\n",
       "    max-width: 525px;\n",
       "    display: block;\n",
       "    margin-left: auto;\n",
       "    margin-right: auto;\n",
       "}\n",
       "\n",
       "div#notebook-container p {\n",
       "    font-family: 'Fira Sans Condensed', sans-serif;\n",
       "    font-size: 1.2em;\n",
       "    line-height: 1.3em;\n",
       "    color: #655B4F;\n",
       "}\n",
       "\n",
       "/* Plotly Exported Charts Styling */\n",
       ".js-plotly-plot .plotly,\n",
       ".js-plotly-plot .plotly div {\n",
       "    direction: ltr;\n",
       "    font-family: \"Fira Sans Extra Condensed\", verdana, arial, sans-serif;\n",
       "}\n",
       "\n",
       "/* Lists */\n",
       "ol, ul {\n",
       "    font-family: 'Fira Sans Condensed', sans-serif;\n",
       "    line-height: 1.3em;\n",
       "    color: #655B4F;\n",
       "}\n",
       "\n",
       "div.input_prompt {\n",
       "    color: #aad0bc;\n",
       "    font-size: 0.7em;\n",
       "}\n",
       "\n",
       "div.output_prompt {\n",
       "    color: #aad0bc;\n",
       "    font-size: 0.7em;\n",
       "}\n",
       "\n",
       "div.prompt {\n",
       "    min-width: 2ex;\n",
       "}\n",
       "\n",
       "div.output_subarea {\n",
       "    min-width: 425px;\n",
       "    max-width: calc(100% - 1ex);\n",
       "    padding: 0;\n",
       "}\n",
       "\n",
       "div.text_cell code {\n",
       "    padding: 2px;\n",
       "    background-color: #E5E1D8;\n",
       "    color: #483F3A;\n",
       "    font-family: 'Fira Mono', monospace;\n",
       "    font-size: 0.9em;\n",
       "}\n",
       "\n",
       "div.input_area {\n",
       "    background-color: #FFFAF0;\n",
       "    border: 1px solid #E5E1D8;\n",
       "    background: repeating-linear-gradient(135deg, #FFFAF0, #FFFAF0 5px, #F7F7ED 5px, #F7F7ED 10px);\n",
       "}\n",
       "\n",
       "div.cell.rendered.selected {\n",
       "    background: #F7F7ED;\n",
       "    border: 1px solid #293C34;\n",
       "}\n",
       "\n",
       "div.output_area img {\n",
       "    display: block;\n",
       "    margin-left: auto;\n",
       "    margin-right: auto;\n",
       "}\n",
       "\n",
       "div.rendered_html pre, code {\n",
       "    font-family: 'Fira Sans Condensed', sans-serif;\n",
       "    font-size: 16px;\n",
       "    font-weight: 400;\n",
       "    color: #40362F;\n",
       "    background-color: #E5E1D8;\n",
       "}\n",
       "\n",
       "div.output_text pre {\n",
       "    font-family: 'Fira Sans Condensed', sans-serif;\n",
       "    font-size: 13px;\n",
       "    font-weight: 300;\n",
       "    color: #40362F;\n",
       "}\n",
       "\n",
       "\n",
       "pre, textarea {\n",
       "    overflow: hidden;\n",
       "}\n",
       "\n",
       "div.text_cell_render img {\n",
       "    max-height: 550px;\n",
       "    display: block;\n",
       "    margin-left: auto;\n",
       "    margin-right: auto;\n",
       "}\n",
       "\n",
       "div.output output_scroll {\n",
       "    overflow-x: auto;\n",
       "    overflow-y: scroll;\n",
       "    max-height: 2000px;\n",
       "}\n",
       "\n",
       "div.rendered_html hr {\n",
       "    border: 0;\n",
       "    height: 1px;\n",
       "    background-color: #655B4F;\n",
       "}\n",
       "\n",
       "div.rendered_html pre, code {\n",
       "    color: #40362F;\n",
       "    background-color: #FFFAF0;\n",
       "}\n",
       "\n",
       "/* Links */\n",
       "a.link--embedview {\n",
       "    display: none;\n",
       "}\n",
       "\n",
       "a:link {\n",
       "    color: #293C34;\n",
       "}\n",
       "\n",
       "a:visited {\n",
       "    color: #293C34;\n",
       "}\n",
       "\n",
       "a:hover {\n",
       "    color: #557C6C;\n",
       "}\n",
       "\n",
       "a:focus {\n",
       "    color:#557C6C;\n",
       "}\n",
       "\n",
       "a:active {\n",
       "    font-weight: bold;\n",
       "    color:#80BCA3;\n",
       "}\n",
       "\n",
       ".rendered_html :link {\n",
       "    text-decoration: underline;\n",
       "}\n",
       "\n",
       "/* Colors for code highlighting */\n",
       ".CodeMirror pre {\n",
       "    font-family: 'Fira Mono', monospace;\n",
       "    font-size: 0.9em;\n",
       "    font-weight: 600;\n",
       "}\n",
       "\n",
       ".CodeMirror-code span.cm-keyword,\n",
       ".highlight .k,\n",
       ".highlight .ow {\n",
       "    color: #5F362E;\n",
       "}\n",
       "\n",
       ".CodeMirror-code span.cm-variable,\n",
       ".highlight .na {\n",
       "    color: #655B4F;\n",
       "}\n",
       "\n",
       ".CodeMirror-code span.cm-property {\n",
       "    color: #655B4F;\n",
       "}\n",
       "\n",
       ".CodeMirror-code span.cm-def {\n",
       "    color: #293C34;\n",
       "}\n",
       "\n",
       ".CodeMirror-code span.cm-operator {\n",
       "    color: #655B4F;\n",
       "}\n",
       "\n",
       ".CodeMirror-code span.cm-string,\n",
       ".highlight .s {\n",
       "    color: #0B7761;\n",
       "}\n",
       "\n",
       ".CodeMirror-code span.cm-number,\n",
       ".highlight .mb, .highlight .mf, .highlight .mh, .highlight .mi, .highlight .mo {\n",
       "    color: #265BCA;\n",
       "}\n",
       "\n",
       ".CodeMirror-code span.cm-comment,\n",
       ".highlight .c1, .highlight .cs {\n",
       "    color: #75AC95;\n",
       "}\n",
       "\n",
       ".CodeMirror-code span.cm-builtin,\n",
       ".highlight .nb {\n",
       "    color: #5F362E;\n",
       "}\n",
       "\n",
       "/* Code with no class applied (brackets mostly) */\n",
       ".CodeMirror-line > span {\n",
       "    color: #72614B;\n",
       "}\n",
       "\n",
       "/* Table styles */\n",
       "table {\n",
       "    border: 1px solid #BF4D28;\n",
       "}\n",
       "\n",
       "\n",
       ".rendered_html table th {\n",
       "    color: #40362F;\n",
       "    text-align: left;\n",
       "    background-color: #f2e6ce;\n",
       "}\n",
       "\n",
       ".rendered_html td {\n",
       "    color: #40362F;\n",
       "    text-align: left;\n",
       "}\n",
       "\n",
       ".rendered_html table tr:nth-child(odd) {\n",
       "    background-color: #F7F7ED;\n",
       "}\n",
       "\n",
       ".rendered_html table tr:nth-child(even) {\n",
       "    background-color: #FFFAF0;\n",
       "}\n",
       "\n",
       "iframe {\n",
       "    border-width: 0;\n",
       "}\n",
       "\n",
       "@media only screen and (max-width: 600px) {\n",
       "    #notebook-container {\n",
       "        background-color: #FFFAF0;\n",
       "        padding: 15px;\n",
       "        border-radius: 4px;\n",
       "        -webkit-box-shadow: 0px 0px 12px 1px rgba(101,86,67,0.75);\n",
       "        -moz-box-shadow: 0px 0px 12px 1px rgba(101,86,67,0.75);\n",
       "        box-shadow: 0px 0px 12px 1px rgba(101,86,67,0.75);\n",
       "    }\n",
       "\n",
       "    .text_cell_render h1,\n",
       "    .text_cell_render h2 {\n",
       "        text-indent: 0;\n",
       "        text-align: left;\n",
       "        padding: 40px 22px 12px 22px;\n",
       "    }\n",
       "}\n",
       "\n",
       "</style>\n"
      ],
      "text/plain": [
       "<IPython.core.display.HTML object>"
      ]
     },
     "execution_count": 10,
     "metadata": {},
     "output_type": "execute_result"
    }
   ],
   "source": [
    "from IPython.core.display import HTML\n",
    "with open('../resources/styles/datum.css', 'r') as f:\n",
    "    style = f.read()\n",
    "HTML(style)"
   ]
  },
  {
   "cell_type": "code",
   "execution_count": null,
   "metadata": {},
   "outputs": [],
   "source": []
  }
 ],
 "metadata": {
  "kernelspec": {
   "display_name": "Python 3",
   "language": "python",
   "name": "python3"
  },
  "language_info": {
   "codemirror_mode": {
    "name": "ipython",
    "version": 3
   },
   "file_extension": ".py",
   "mimetype": "text/x-python",
   "name": "python",
   "nbconvert_exporter": "python",
   "pygments_lexer": "ipython3",
   "version": "3.8.2"
  }
 },
 "nbformat": 4,
 "nbformat_minor": 2
}
