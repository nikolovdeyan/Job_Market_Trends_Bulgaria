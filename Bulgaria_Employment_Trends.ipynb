{
 "cells": [
  {
   "cell_type": "markdown",
   "metadata": {},
   "source": [
    "# Employment Trends in Bulgaria\n",
    "\n",
    "------"
   ]
  },
  {
   "cell_type": "markdown",
   "metadata": {},
   "source": [
    "This workbook is the entry point to several data analysis and data presentation articles showcasing the job market situation in Bulgaria. \n",
    "\n",
    "\n",
    "The Jupyter Notebooks are intended to be viewed via the [`nbviewer`](https://nbviewer.jupyter.org/faq) application which renders them as static HTML sites and allows styling and dynamic chart display. Click [here](https://nbviewer.jupyter.org/github/nikolovdeyan/Job_Market_Trends_Bulgaria/blob/master/Bulgaria_Employment_Trends.ipynb) to open this workbook in the `nbviewer.jupyter.org` viewer.\n"
   ]
  },
  {
   "cell_type": "markdown",
   "metadata": {},
   "source": [
    "## Contents\n",
    "-----------"
   ]
  },
  {
   "cell_type": "markdown",
   "metadata": {},
   "source": [
    "Each of the following links will take you to the article presentation page for the respective topic of interest. \n",
    "\n",
    "\n",
    "#### [2018 Bulgaria Job Market Analysis](./workbooks/Bg2018_Jobs_Analysis.ipynb)\n",
    "- Visually explore the realities of the employment maret in 2018. (Under construction).\n",
    "\n",
    "\n",
    "#### [Data Analytics Jobs](./workbooks/Data_Jobs_Analysis.ipynb)\n",
    "- A deep dive into an emerging and rapidly evolving industry. (Under construction).\n",
    "\n",
    "\n",
    "#### [Python Jobs](./workbooks/Python_Jobs_Analysis.ipynb)\n",
    "- A short article illustrating the unique position of this language on the market. (Under construction)."
   ]
  },
  {
   "cell_type": "markdown",
   "metadata": {},
   "source": [
    "\n"
   ]
  },
  {
   "cell_type": "markdown",
   "metadata": {},
   "source": [
    "## Tools and Technologies\n",
    "\n",
    "---------"
   ]
  },
  {
   "cell_type": "markdown",
   "metadata": {},
   "source": [
    "This project was created with the help of the following tools:\n",
    "\n",
    "- HTML\n",
    "- CSS\n",
    "- Python 3.6\n",
    "- Javascript\n",
    "- PostgreSQL 9.6, 10\n",
    "- Sqlite3\n",
    "- bootstrap\n",
    "- plotly\n",
    "- pandas\n",
    "- matplotlib\n",
    "- RegEx\n",
    "- Git"
   ]
  },
  {
   "cell_type": "markdown",
   "metadata": {},
   "source": [
    "## Resources\n",
    "\n",
    "---------"
   ]
  },
  {
   "cell_type": "markdown",
   "metadata": {},
   "source": []
  }
 ],
 "metadata": {
  "kernelspec": {
   "display_name": "Python 3",
   "language": "python",
   "name": "python3"
  },
  "language_info": {
   "codemirror_mode": {
    "name": "ipython",
    "version": 3
   },
   "file_extension": ".py",
   "mimetype": "text/x-python",
   "name": "python",
   "nbconvert_exporter": "python",
   "pygments_lexer": "ipython3",
   "version": "3.7.1"
  }
 },
 "nbformat": 4,
 "nbformat_minor": 2
}
