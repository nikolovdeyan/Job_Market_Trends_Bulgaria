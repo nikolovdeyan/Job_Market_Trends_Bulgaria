{
 "cells": [
  {
   "cell_type": "markdown",
   "metadata": {},
   "source": [
    "## Requirements Relationships Chord Diagram\n"
   ]
  },
  {
   "cell_type": "code",
   "execution_count": 1,
   "metadata": {},
   "outputs": [
    {
     "data": {
      "text/html": [
       "        <script type=\"text/javascript\">\n",
       "        window.PlotlyConfig = {MathJaxConfig: 'local'};\n",
       "        if (window.MathJax) {MathJax.Hub.Config({SVG: {font: \"STIX-Web\"}});}\n",
       "        if (typeof require !== 'undefined') {\n",
       "        require.undef(\"plotly\");\n",
       "        requirejs.config({\n",
       "            paths: {\n",
       "                'plotly': ['https://cdn.plot.ly/plotly-latest.min']\n",
       "            }\n",
       "        });\n",
       "        require(['plotly'], function(Plotly) {\n",
       "            window._Plotly = Plotly;\n",
       "        });\n",
       "        }\n",
       "        </script>\n",
       "        "
      ]
     },
     "metadata": {},
     "output_type": "display_data"
    }
   ],
   "source": [
    "import re\n",
    "from itertools import combinations\n",
    "import psycopg2\n",
    "import numpy as np\n",
    "import pandas as pd\n",
    "import plotly\n",
    "import chart_studio.plotly as py\n",
    "import plotly.graph_objs as go\n",
    "from IPython import display\n",
    "from bs4 import BeautifulSoup as bs\n",
    "\n",
    "from nbstyler import DATA_STYLE as DS\n",
    "\n",
    "plotly.offline.init_notebook_mode(connected=True)\n",
    "\n",
    "%matplotlib notebook\n",
    "%matplotlib inline"
   ]
  },
  {
   "cell_type": "markdown",
   "metadata": {},
   "source": [
    "### Objectives\n",
    "\n",
    "The main objective for this recipe is to try the plotly implementation of the chord diagram and to provide a clean recipe for preparing such charts in the future. \n",
    "\n",
    "\n",
    "### Data Preparation"
   ]
  },
  {
   "cell_type": "code",
   "execution_count": 2,
   "metadata": {},
   "outputs": [],
   "source": [
    "data_querystr = \"\"\"SELECT * FROM data_offers.do_full_offer_history\"\"\"\n",
    "conn = psycopg2.connect('dbname=jobsbg')\n",
    "data_df = pd.read_sql_query(data_querystr, conn, index_col='subm_date')\n",
    "conn.close()"
   ]
  },
  {
   "cell_type": "code",
   "execution_count": 3,
   "metadata": {},
   "outputs": [
    {
     "data": {
      "text/html": [
       "<div>\n",
       "<style scoped>\n",
       "    .dataframe tbody tr th:only-of-type {\n",
       "        vertical-align: middle;\n",
       "    }\n",
       "\n",
       "    .dataframe tbody tr th {\n",
       "        vertical-align: top;\n",
       "    }\n",
       "\n",
       "    .dataframe thead th {\n",
       "        text-align: right;\n",
       "    }\n",
       "</style>\n",
       "<table border=\"1\" class=\"dataframe\">\n",
       "  <thead>\n",
       "    <tr style=\"text-align: right;\">\n",
       "      <th></th>\n",
       "      <th>subm_type</th>\n",
       "      <th>job_id</th>\n",
       "      <th>company_id</th>\n",
       "      <th>norm_salary</th>\n",
       "      <th>job_title</th>\n",
       "      <th>company_name</th>\n",
       "      <th>text_salary</th>\n",
       "      <th>job_location</th>\n",
       "      <th>job_contents</th>\n",
       "    </tr>\n",
       "    <tr>\n",
       "      <th>subm_date</th>\n",
       "      <th></th>\n",
       "      <th></th>\n",
       "      <th></th>\n",
       "      <th></th>\n",
       "      <th></th>\n",
       "      <th></th>\n",
       "      <th></th>\n",
       "      <th></th>\n",
       "      <th></th>\n",
       "    </tr>\n",
       "  </thead>\n",
       "  <tbody>\n",
       "    <tr>\n",
       "      <th>2017-09-27</th>\n",
       "      <td>submission</td>\n",
       "      <td>3994555</td>\n",
       "      <td>67058</td>\n",
       "      <td>NaN</td>\n",
       "      <td>ETL Developer</td>\n",
       "      <td>Adastra Bulgaria Ltd.</td>\n",
       "      <td>None</td>\n",
       "      <td>София</td>\n",
       "      <td>&lt;!DOCTYPE html PUBLIC \"-//W3C//DTD XHTML 1.0 ...</td>\n",
       "    </tr>\n",
       "  </tbody>\n",
       "</table>\n",
       "</div>"
      ],
      "text/plain": [
       "             subm_type   job_id  company_id  norm_salary      job_title  \\\n",
       "subm_date                                                                 \n",
       "2017-09-27  submission  3994555       67058          NaN  ETL Developer   \n",
       "\n",
       "                     company_name text_salary job_location  \\\n",
       "subm_date                                                    \n",
       "2017-09-27  Adastra Bulgaria Ltd.        None        София   \n",
       "\n",
       "                                                 job_contents  \n",
       "subm_date                                                      \n",
       "2017-09-27   <!DOCTYPE html PUBLIC \"-//W3C//DTD XHTML 1.0 ...  "
      ]
     },
     "execution_count": 3,
     "metadata": {},
     "output_type": "execute_result"
    }
   ],
   "source": [
    "data_df.head(1)"
   ]
  },
  {
   "cell_type": "markdown",
   "metadata": {},
   "source": [
    "### Relationship Categories Definition"
   ]
  },
  {
   "cell_type": "markdown",
   "metadata": {},
   "source": [
    "In order to build the necessary data we first need to define the scope of the relationships we aim to observe. The search strings we will compare should be of the same semantic category to provide meaningful insight.\n",
    "\n",
    "To explore the data and prepare proper definitions we took a deep dive in the data offers' text contents. We used the `nltk` library for text processing to produce frequency distributions of most common words, bigrams and trigrams. Then those distributions were used to explore different possible relationship categories. See the details in the [Requirements Deep Dive Notebook](./Data_Offers_Requirements_Deep_Dive.ipynb).\n",
    "\n",
    "For the first chord diagram the chosen view is a breakdown by technology. Other possible relationships to explore are skill requirements breakdown, perks & benefits breakdown, job title breakdown, etc."
   ]
  },
  {
   "cell_type": "markdown",
   "metadata": {},
   "source": [
    "### Data Jobs Technology Requirement Relationships"
   ]
  },
  {
   "cell_type": "markdown",
   "metadata": {},
   "source": [
    "A preliminary list of terms that describe most often sought categories is presented below. We are going to use it to construct regex filters for selected key technologies."
   ]
  },
  {
   "cell_type": "code",
   "execution_count": 4,
   "metadata": {},
   "outputs": [],
   "source": [
    "tech_terms_filters = [\n",
    "    r'power bi', r'excel', r'ss[ir]s',\n",
    "    r'sql server', r'postgresql', r'(mysql)|(mariadb)', r't.?sql', r'pl.?sql',\n",
    "    r'pentaho', r'hadoop', r'spark', r'informatica',\n",
    "    r'qlik', r'tableau', r'microstrategy', r'oracle (bi)|(business intelligence)',\n",
    "    r'python', r'vba', r'linux', r'aws']\n",
    "\n",
    "tech_terms_labels = [\n",
    "    'Power BI', 'Excel', 'SSIS/SSRS',\n",
    "    'MS SQL Server', 'PostgreSQL', 'MySQL/MariaDB', 'T-SQL', 'PL/SQL',\n",
    "    'Pentaho', 'Hadoop', 'Spark', 'Informatica',\n",
    "    'Qlik', 'Tableau', 'Microstrategy', 'Oracle BI',\n",
    "    'Python', 'VBA', 'Linux', 'AWS']"
   ]
  },
  {
   "cell_type": "markdown",
   "metadata": {},
   "source": [
    "#### Preparing a square matrix with counts for matching filters"
   ]
  },
  {
   "cell_type": "markdown",
   "metadata": {},
   "source": [
    "First we define a helper function that returns `True` for job offers where both of the provided patterns are found in the job contents. We also prepare a list of all possible filter patterns' combinations."
   ]
  },
  {
   "cell_type": "code",
   "execution_count": 5,
   "metadata": {},
   "outputs": [],
   "source": [
    "def match_terms(first_term, second_term, text):\n",
    "    match_found = re.search(first_term, text, re.IGNORECASE) and re.search(second_term, text, re.IGNORECASE)\n",
    "    return True if match_found else False\n",
    "\n",
    "    \n",
    "def count_matches(first_term, second_term, col):\n",
    "    return sum([match_terms(first_term, second_term, t) for t in col.values])\n",
    "\n",
    "req_combinations = list(combinations(tech_terms_filters, 2))"
   ]
  },
  {
   "cell_type": "markdown",
   "metadata": {},
   "source": [
    "Building the counts in a dictionary with keys composed of tuples with both search terms. "
   ]
  },
  {
   "cell_type": "code",
   "execution_count": 6,
   "metadata": {},
   "outputs": [
    {
     "name": "stdout",
     "output_type": "stream",
     "text": [
      "CPU times: user 4min 7s, sys: 1.41 ms, total: 4min 7s\n",
      "Wall time: 4min 7s\n"
     ]
    }
   ],
   "source": [
    "%%time\n",
    "match_results = [count_matches(*tup, data_df.job_contents) for tup in req_combinations]\n",
    "match_dict = dict(zip(req_combinations, match_results))"
   ]
  },
  {
   "cell_type": "markdown",
   "metadata": {},
   "source": [
    "Another helper function will unpack the combinations counts into a square matrix form. Finally, a DataFrame is created from the combinations counts matrix. This is our main data source for the chord diagram. "
   ]
  },
  {
   "cell_type": "code",
   "execution_count": 7,
   "metadata": {},
   "outputs": [],
   "source": [
    "def make_matrix(headers, counts):\n",
    "    res = []\n",
    "    for k1 in headers:\n",
    "        row = []\n",
    "        for k2 in headers:\n",
    "            if k1 == k2:\n",
    "                row.append(0)\n",
    "            else:\n",
    "                curr_key = tuple([k1, k2])\n",
    "                cell_value = counts.get(curr_key) if curr_key in counts else counts.get(tuple([k2, k1]))\n",
    "                row.append(cell_value)\n",
    "        res.append(row)\n",
    "    return np.array(res, dtype=int)  "
   ]
  },
  {
   "cell_type": "code",
   "execution_count": 8,
   "metadata": {},
   "outputs": [],
   "source": [
    "tech_terms_matrix = make_matrix(tech_terms_filters, match_dict)"
   ]
  },
  {
   "cell_type": "code",
   "execution_count": 9,
   "metadata": {},
   "outputs": [
    {
     "data": {
      "text/html": [
       "<div>\n",
       "<style scoped>\n",
       "    .dataframe tbody tr th:only-of-type {\n",
       "        vertical-align: middle;\n",
       "    }\n",
       "\n",
       "    .dataframe tbody tr th {\n",
       "        vertical-align: top;\n",
       "    }\n",
       "\n",
       "    .dataframe thead th {\n",
       "        text-align: right;\n",
       "    }\n",
       "</style>\n",
       "<table border=\"1\" class=\"dataframe\">\n",
       "  <thead>\n",
       "    <tr style=\"text-align: right;\">\n",
       "      <th></th>\n",
       "      <th>Power BI</th>\n",
       "      <th>Excel</th>\n",
       "      <th>SSIS/SSRS</th>\n",
       "      <th>MS SQL Server</th>\n",
       "      <th>PostgreSQL</th>\n",
       "      <th>MySQL/MariaDB</th>\n",
       "      <th>T-SQL</th>\n",
       "      <th>PL/SQL</th>\n",
       "      <th>Pentaho</th>\n",
       "      <th>Hadoop</th>\n",
       "      <th>Spark</th>\n",
       "      <th>Informatica</th>\n",
       "      <th>Qlik</th>\n",
       "      <th>Tableau</th>\n",
       "      <th>Microstrategy</th>\n",
       "      <th>Oracle BI</th>\n",
       "      <th>Python</th>\n",
       "      <th>VBA</th>\n",
       "      <th>Linux</th>\n",
       "      <th>AWS</th>\n",
       "    </tr>\n",
       "  </thead>\n",
       "  <tbody>\n",
       "    <tr>\n",
       "      <th>Power BI</th>\n",
       "      <td>0</td>\n",
       "      <td>289</td>\n",
       "      <td>179</td>\n",
       "      <td>171</td>\n",
       "      <td>0</td>\n",
       "      <td>5</td>\n",
       "      <td>78</td>\n",
       "      <td>11</td>\n",
       "      <td>12</td>\n",
       "      <td>54</td>\n",
       "      <td>61</td>\n",
       "      <td>26</td>\n",
       "      <td>231</td>\n",
       "      <td>265</td>\n",
       "      <td>38</td>\n",
       "      <td>243</td>\n",
       "      <td>120</td>\n",
       "      <td>44</td>\n",
       "      <td>14</td>\n",
       "      <td>9</td>\n",
       "    </tr>\n",
       "    <tr>\n",
       "      <th>Excel</th>\n",
       "      <td>289</td>\n",
       "      <td>0</td>\n",
       "      <td>724</td>\n",
       "      <td>295</td>\n",
       "      <td>81</td>\n",
       "      <td>155</td>\n",
       "      <td>201</td>\n",
       "      <td>71</td>\n",
       "      <td>68</td>\n",
       "      <td>128</td>\n",
       "      <td>126</td>\n",
       "      <td>125</td>\n",
       "      <td>492</td>\n",
       "      <td>551</td>\n",
       "      <td>56</td>\n",
       "      <td>768</td>\n",
       "      <td>491</td>\n",
       "      <td>319</td>\n",
       "      <td>104</td>\n",
       "      <td>76</td>\n",
       "    </tr>\n",
       "    <tr>\n",
       "      <th>SSIS/SSRS</th>\n",
       "      <td>179</td>\n",
       "      <td>724</td>\n",
       "      <td>0</td>\n",
       "      <td>313</td>\n",
       "      <td>66</td>\n",
       "      <td>91</td>\n",
       "      <td>178</td>\n",
       "      <td>76</td>\n",
       "      <td>39</td>\n",
       "      <td>76</td>\n",
       "      <td>70</td>\n",
       "      <td>83</td>\n",
       "      <td>114</td>\n",
       "      <td>239</td>\n",
       "      <td>43</td>\n",
       "      <td>368</td>\n",
       "      <td>227</td>\n",
       "      <td>115</td>\n",
       "      <td>26</td>\n",
       "      <td>42</td>\n",
       "    </tr>\n",
       "    <tr>\n",
       "      <th>MS SQL Server</th>\n",
       "      <td>171</td>\n",
       "      <td>295</td>\n",
       "      <td>313</td>\n",
       "      <td>0</td>\n",
       "      <td>108</td>\n",
       "      <td>113</td>\n",
       "      <td>221</td>\n",
       "      <td>14</td>\n",
       "      <td>54</td>\n",
       "      <td>57</td>\n",
       "      <td>55</td>\n",
       "      <td>78</td>\n",
       "      <td>77</td>\n",
       "      <td>153</td>\n",
       "      <td>25</td>\n",
       "      <td>219</td>\n",
       "      <td>142</td>\n",
       "      <td>39</td>\n",
       "      <td>68</td>\n",
       "      <td>16</td>\n",
       "    </tr>\n",
       "    <tr>\n",
       "      <th>PostgreSQL</th>\n",
       "      <td>0</td>\n",
       "      <td>81</td>\n",
       "      <td>66</td>\n",
       "      <td>108</td>\n",
       "      <td>0</td>\n",
       "      <td>126</td>\n",
       "      <td>49</td>\n",
       "      <td>3</td>\n",
       "      <td>55</td>\n",
       "      <td>10</td>\n",
       "      <td>20</td>\n",
       "      <td>2</td>\n",
       "      <td>15</td>\n",
       "      <td>7</td>\n",
       "      <td>0</td>\n",
       "      <td>54</td>\n",
       "      <td>38</td>\n",
       "      <td>0</td>\n",
       "      <td>62</td>\n",
       "      <td>14</td>\n",
       "    </tr>\n",
       "    <tr>\n",
       "      <th>MySQL/MariaDB</th>\n",
       "      <td>5</td>\n",
       "      <td>155</td>\n",
       "      <td>91</td>\n",
       "      <td>113</td>\n",
       "      <td>126</td>\n",
       "      <td>0</td>\n",
       "      <td>47</td>\n",
       "      <td>1</td>\n",
       "      <td>73</td>\n",
       "      <td>16</td>\n",
       "      <td>41</td>\n",
       "      <td>11</td>\n",
       "      <td>18</td>\n",
       "      <td>73</td>\n",
       "      <td>0</td>\n",
       "      <td>84</td>\n",
       "      <td>77</td>\n",
       "      <td>6</td>\n",
       "      <td>66</td>\n",
       "      <td>11</td>\n",
       "    </tr>\n",
       "    <tr>\n",
       "      <th>T-SQL</th>\n",
       "      <td>78</td>\n",
       "      <td>201</td>\n",
       "      <td>178</td>\n",
       "      <td>221</td>\n",
       "      <td>49</td>\n",
       "      <td>47</td>\n",
       "      <td>0</td>\n",
       "      <td>56</td>\n",
       "      <td>50</td>\n",
       "      <td>52</td>\n",
       "      <td>47</td>\n",
       "      <td>19</td>\n",
       "      <td>84</td>\n",
       "      <td>135</td>\n",
       "      <td>21</td>\n",
       "      <td>189</td>\n",
       "      <td>78</td>\n",
       "      <td>27</td>\n",
       "      <td>35</td>\n",
       "      <td>19</td>\n",
       "    </tr>\n",
       "    <tr>\n",
       "      <th>PL/SQL</th>\n",
       "      <td>11</td>\n",
       "      <td>71</td>\n",
       "      <td>76</td>\n",
       "      <td>14</td>\n",
       "      <td>3</td>\n",
       "      <td>1</td>\n",
       "      <td>56</td>\n",
       "      <td>0</td>\n",
       "      <td>8</td>\n",
       "      <td>9</td>\n",
       "      <td>0</td>\n",
       "      <td>38</td>\n",
       "      <td>20</td>\n",
       "      <td>33</td>\n",
       "      <td>26</td>\n",
       "      <td>111</td>\n",
       "      <td>5</td>\n",
       "      <td>11</td>\n",
       "      <td>5</td>\n",
       "      <td>3</td>\n",
       "    </tr>\n",
       "    <tr>\n",
       "      <th>Pentaho</th>\n",
       "      <td>12</td>\n",
       "      <td>68</td>\n",
       "      <td>39</td>\n",
       "      <td>54</td>\n",
       "      <td>55</td>\n",
       "      <td>73</td>\n",
       "      <td>50</td>\n",
       "      <td>8</td>\n",
       "      <td>0</td>\n",
       "      <td>0</td>\n",
       "      <td>8</td>\n",
       "      <td>39</td>\n",
       "      <td>36</td>\n",
       "      <td>44</td>\n",
       "      <td>7</td>\n",
       "      <td>40</td>\n",
       "      <td>38</td>\n",
       "      <td>1</td>\n",
       "      <td>43</td>\n",
       "      <td>15</td>\n",
       "    </tr>\n",
       "    <tr>\n",
       "      <th>Hadoop</th>\n",
       "      <td>54</td>\n",
       "      <td>128</td>\n",
       "      <td>76</td>\n",
       "      <td>57</td>\n",
       "      <td>10</td>\n",
       "      <td>16</td>\n",
       "      <td>52</td>\n",
       "      <td>9</td>\n",
       "      <td>0</td>\n",
       "      <td>0</td>\n",
       "      <td>235</td>\n",
       "      <td>15</td>\n",
       "      <td>15</td>\n",
       "      <td>89</td>\n",
       "      <td>7</td>\n",
       "      <td>87</td>\n",
       "      <td>254</td>\n",
       "      <td>11</td>\n",
       "      <td>140</td>\n",
       "      <td>91</td>\n",
       "    </tr>\n",
       "    <tr>\n",
       "      <th>Spark</th>\n",
       "      <td>61</td>\n",
       "      <td>126</td>\n",
       "      <td>70</td>\n",
       "      <td>55</td>\n",
       "      <td>20</td>\n",
       "      <td>41</td>\n",
       "      <td>47</td>\n",
       "      <td>0</td>\n",
       "      <td>8</td>\n",
       "      <td>235</td>\n",
       "      <td>0</td>\n",
       "      <td>16</td>\n",
       "      <td>17</td>\n",
       "      <td>68</td>\n",
       "      <td>3</td>\n",
       "      <td>77</td>\n",
       "      <td>275</td>\n",
       "      <td>10</td>\n",
       "      <td>123</td>\n",
       "      <td>98</td>\n",
       "    </tr>\n",
       "    <tr>\n",
       "      <th>Informatica</th>\n",
       "      <td>26</td>\n",
       "      <td>125</td>\n",
       "      <td>83</td>\n",
       "      <td>78</td>\n",
       "      <td>2</td>\n",
       "      <td>11</td>\n",
       "      <td>19</td>\n",
       "      <td>38</td>\n",
       "      <td>39</td>\n",
       "      <td>15</td>\n",
       "      <td>16</td>\n",
       "      <td>0</td>\n",
       "      <td>101</td>\n",
       "      <td>84</td>\n",
       "      <td>27</td>\n",
       "      <td>146</td>\n",
       "      <td>34</td>\n",
       "      <td>6</td>\n",
       "      <td>15</td>\n",
       "      <td>25</td>\n",
       "    </tr>\n",
       "    <tr>\n",
       "      <th>Qlik</th>\n",
       "      <td>231</td>\n",
       "      <td>492</td>\n",
       "      <td>114</td>\n",
       "      <td>77</td>\n",
       "      <td>15</td>\n",
       "      <td>18</td>\n",
       "      <td>84</td>\n",
       "      <td>20</td>\n",
       "      <td>36</td>\n",
       "      <td>15</td>\n",
       "      <td>17</td>\n",
       "      <td>101</td>\n",
       "      <td>0</td>\n",
       "      <td>397</td>\n",
       "      <td>52</td>\n",
       "      <td>419</td>\n",
       "      <td>59</td>\n",
       "      <td>31</td>\n",
       "      <td>3</td>\n",
       "      <td>4</td>\n",
       "    </tr>\n",
       "    <tr>\n",
       "      <th>Tableau</th>\n",
       "      <td>265</td>\n",
       "      <td>551</td>\n",
       "      <td>239</td>\n",
       "      <td>153</td>\n",
       "      <td>7</td>\n",
       "      <td>73</td>\n",
       "      <td>135</td>\n",
       "      <td>33</td>\n",
       "      <td>44</td>\n",
       "      <td>89</td>\n",
       "      <td>68</td>\n",
       "      <td>84</td>\n",
       "      <td>397</td>\n",
       "      <td>0</td>\n",
       "      <td>75</td>\n",
       "      <td>548</td>\n",
       "      <td>206</td>\n",
       "      <td>95</td>\n",
       "      <td>32</td>\n",
       "      <td>37</td>\n",
       "    </tr>\n",
       "    <tr>\n",
       "      <th>Microstrategy</th>\n",
       "      <td>38</td>\n",
       "      <td>56</td>\n",
       "      <td>43</td>\n",
       "      <td>25</td>\n",
       "      <td>0</td>\n",
       "      <td>0</td>\n",
       "      <td>21</td>\n",
       "      <td>26</td>\n",
       "      <td>7</td>\n",
       "      <td>7</td>\n",
       "      <td>3</td>\n",
       "      <td>27</td>\n",
       "      <td>52</td>\n",
       "      <td>75</td>\n",
       "      <td>0</td>\n",
       "      <td>75</td>\n",
       "      <td>20</td>\n",
       "      <td>7</td>\n",
       "      <td>14</td>\n",
       "      <td>2</td>\n",
       "    </tr>\n",
       "    <tr>\n",
       "      <th>Oracle BI</th>\n",
       "      <td>243</td>\n",
       "      <td>768</td>\n",
       "      <td>368</td>\n",
       "      <td>219</td>\n",
       "      <td>54</td>\n",
       "      <td>84</td>\n",
       "      <td>189</td>\n",
       "      <td>111</td>\n",
       "      <td>40</td>\n",
       "      <td>87</td>\n",
       "      <td>77</td>\n",
       "      <td>146</td>\n",
       "      <td>419</td>\n",
       "      <td>548</td>\n",
       "      <td>75</td>\n",
       "      <td>0</td>\n",
       "      <td>228</td>\n",
       "      <td>95</td>\n",
       "      <td>11</td>\n",
       "      <td>60</td>\n",
       "    </tr>\n",
       "    <tr>\n",
       "      <th>Python</th>\n",
       "      <td>120</td>\n",
       "      <td>491</td>\n",
       "      <td>227</td>\n",
       "      <td>142</td>\n",
       "      <td>38</td>\n",
       "      <td>77</td>\n",
       "      <td>78</td>\n",
       "      <td>5</td>\n",
       "      <td>38</td>\n",
       "      <td>254</td>\n",
       "      <td>275</td>\n",
       "      <td>34</td>\n",
       "      <td>59</td>\n",
       "      <td>206</td>\n",
       "      <td>20</td>\n",
       "      <td>228</td>\n",
       "      <td>0</td>\n",
       "      <td>76</td>\n",
       "      <td>152</td>\n",
       "      <td>146</td>\n",
       "    </tr>\n",
       "    <tr>\n",
       "      <th>VBA</th>\n",
       "      <td>44</td>\n",
       "      <td>319</td>\n",
       "      <td>115</td>\n",
       "      <td>39</td>\n",
       "      <td>0</td>\n",
       "      <td>6</td>\n",
       "      <td>27</td>\n",
       "      <td>11</td>\n",
       "      <td>1</td>\n",
       "      <td>11</td>\n",
       "      <td>10</td>\n",
       "      <td>6</td>\n",
       "      <td>31</td>\n",
       "      <td>95</td>\n",
       "      <td>7</td>\n",
       "      <td>95</td>\n",
       "      <td>76</td>\n",
       "      <td>0</td>\n",
       "      <td>5</td>\n",
       "      <td>5</td>\n",
       "    </tr>\n",
       "    <tr>\n",
       "      <th>Linux</th>\n",
       "      <td>14</td>\n",
       "      <td>104</td>\n",
       "      <td>26</td>\n",
       "      <td>68</td>\n",
       "      <td>62</td>\n",
       "      <td>66</td>\n",
       "      <td>35</td>\n",
       "      <td>5</td>\n",
       "      <td>43</td>\n",
       "      <td>140</td>\n",
       "      <td>123</td>\n",
       "      <td>15</td>\n",
       "      <td>3</td>\n",
       "      <td>32</td>\n",
       "      <td>14</td>\n",
       "      <td>11</td>\n",
       "      <td>152</td>\n",
       "      <td>5</td>\n",
       "      <td>0</td>\n",
       "      <td>47</td>\n",
       "    </tr>\n",
       "    <tr>\n",
       "      <th>AWS</th>\n",
       "      <td>9</td>\n",
       "      <td>76</td>\n",
       "      <td>42</td>\n",
       "      <td>16</td>\n",
       "      <td>14</td>\n",
       "      <td>11</td>\n",
       "      <td>19</td>\n",
       "      <td>3</td>\n",
       "      <td>15</td>\n",
       "      <td>91</td>\n",
       "      <td>98</td>\n",
       "      <td>25</td>\n",
       "      <td>4</td>\n",
       "      <td>37</td>\n",
       "      <td>2</td>\n",
       "      <td>60</td>\n",
       "      <td>146</td>\n",
       "      <td>5</td>\n",
       "      <td>47</td>\n",
       "      <td>0</td>\n",
       "    </tr>\n",
       "  </tbody>\n",
       "</table>\n",
       "</div>"
      ],
      "text/plain": [
       "               Power BI  Excel  SSIS/SSRS  MS SQL Server  PostgreSQL  \\\n",
       "Power BI              0    289        179            171           0   \n",
       "Excel               289      0        724            295          81   \n",
       "SSIS/SSRS           179    724          0            313          66   \n",
       "MS SQL Server       171    295        313              0         108   \n",
       "PostgreSQL            0     81         66            108           0   \n",
       "MySQL/MariaDB         5    155         91            113         126   \n",
       "T-SQL                78    201        178            221          49   \n",
       "PL/SQL               11     71         76             14           3   \n",
       "Pentaho              12     68         39             54          55   \n",
       "Hadoop               54    128         76             57          10   \n",
       "Spark                61    126         70             55          20   \n",
       "Informatica          26    125         83             78           2   \n",
       "Qlik                231    492        114             77          15   \n",
       "Tableau             265    551        239            153           7   \n",
       "Microstrategy        38     56         43             25           0   \n",
       "Oracle BI           243    768        368            219          54   \n",
       "Python              120    491        227            142          38   \n",
       "VBA                  44    319        115             39           0   \n",
       "Linux                14    104         26             68          62   \n",
       "AWS                   9     76         42             16          14   \n",
       "\n",
       "               MySQL/MariaDB  T-SQL  PL/SQL  Pentaho  Hadoop  Spark  \\\n",
       "Power BI                   5     78      11       12      54     61   \n",
       "Excel                    155    201      71       68     128    126   \n",
       "SSIS/SSRS                 91    178      76       39      76     70   \n",
       "MS SQL Server            113    221      14       54      57     55   \n",
       "PostgreSQL               126     49       3       55      10     20   \n",
       "MySQL/MariaDB              0     47       1       73      16     41   \n",
       "T-SQL                     47      0      56       50      52     47   \n",
       "PL/SQL                     1     56       0        8       9      0   \n",
       "Pentaho                   73     50       8        0       0      8   \n",
       "Hadoop                    16     52       9        0       0    235   \n",
       "Spark                     41     47       0        8     235      0   \n",
       "Informatica               11     19      38       39      15     16   \n",
       "Qlik                      18     84      20       36      15     17   \n",
       "Tableau                   73    135      33       44      89     68   \n",
       "Microstrategy              0     21      26        7       7      3   \n",
       "Oracle BI                 84    189     111       40      87     77   \n",
       "Python                    77     78       5       38     254    275   \n",
       "VBA                        6     27      11        1      11     10   \n",
       "Linux                     66     35       5       43     140    123   \n",
       "AWS                       11     19       3       15      91     98   \n",
       "\n",
       "               Informatica  Qlik  Tableau  Microstrategy  Oracle BI  Python  \\\n",
       "Power BI                26   231      265             38        243     120   \n",
       "Excel                  125   492      551             56        768     491   \n",
       "SSIS/SSRS               83   114      239             43        368     227   \n",
       "MS SQL Server           78    77      153             25        219     142   \n",
       "PostgreSQL               2    15        7              0         54      38   \n",
       "MySQL/MariaDB           11    18       73              0         84      77   \n",
       "T-SQL                   19    84      135             21        189      78   \n",
       "PL/SQL                  38    20       33             26        111       5   \n",
       "Pentaho                 39    36       44              7         40      38   \n",
       "Hadoop                  15    15       89              7         87     254   \n",
       "Spark                   16    17       68              3         77     275   \n",
       "Informatica              0   101       84             27        146      34   \n",
       "Qlik                   101     0      397             52        419      59   \n",
       "Tableau                 84   397        0             75        548     206   \n",
       "Microstrategy           27    52       75              0         75      20   \n",
       "Oracle BI              146   419      548             75          0     228   \n",
       "Python                  34    59      206             20        228       0   \n",
       "VBA                      6    31       95              7         95      76   \n",
       "Linux                   15     3       32             14         11     152   \n",
       "AWS                     25     4       37              2         60     146   \n",
       "\n",
       "               VBA  Linux  AWS  \n",
       "Power BI        44     14    9  \n",
       "Excel          319    104   76  \n",
       "SSIS/SSRS      115     26   42  \n",
       "MS SQL Server   39     68   16  \n",
       "PostgreSQL       0     62   14  \n",
       "MySQL/MariaDB    6     66   11  \n",
       "T-SQL           27     35   19  \n",
       "PL/SQL          11      5    3  \n",
       "Pentaho          1     43   15  \n",
       "Hadoop          11    140   91  \n",
       "Spark           10    123   98  \n",
       "Informatica      6     15   25  \n",
       "Qlik            31      3    4  \n",
       "Tableau         95     32   37  \n",
       "Microstrategy    7     14    2  \n",
       "Oracle BI       95     11   60  \n",
       "Python          76    152  146  \n",
       "VBA              0      5    5  \n",
       "Linux            5      0   47  \n",
       "AWS              5     47    0  "
      ]
     },
     "execution_count": 9,
     "metadata": {},
     "output_type": "execute_result"
    }
   ],
   "source": [
    "tech_terms_df = pd.DataFrame(tech_terms_matrix, columns=tech_terms_labels, index=tech_terms_labels)\n",
    "tech_terms_df"
   ]
  },
  {
   "cell_type": "markdown",
   "metadata": {},
   "source": [
    "We can finally move to Plotly. \n",
    "\n",
    "A chord diagram encodes information in two graphical objects:\n",
    "\n",
    "- Ideograms, represented by distinctly colored arcs of circles;\n",
    "- Ribbons, that are planar shapes bounded by two quadratic Bezier curves and two arcs of circle,that can degenerate to a point;\n"
   ]
  },
  {
   "cell_type": "markdown",
   "metadata": {},
   "source": [
    "### Ideograms Preparation"
   ]
  },
  {
   "cell_type": "markdown",
   "metadata": {},
   "source": [
    "For each of our predefined tech terms we can produce a total hits count by summing up all the entries on the row (or column for that matter). That total count determines the size of each ideogram of the chart.\n",
    "\n",
    "We are going to need a couple of helper functions to process the data in order to get ideogram ends.\n"
   ]
  },
  {
   "cell_type": "code",
   "execution_count": 10,
   "metadata": {},
   "outputs": [],
   "source": [
    "PI = np.pi\n",
    "\n",
    "def moduloAB(x, a, b):\n",
    "    if a >= b:\n",
    "        raise ValueError('Incorrect interval ends')\n",
    "    y = (x-a) % (b-a)\n",
    "    return y+b if y < 0 else y+a\n",
    "\n",
    "\n",
    "def test_2PI(x):\n",
    "    return 0 <= x < 2*PI"
   ]
  },
  {
   "cell_type": "markdown",
   "metadata": {},
   "source": [
    "And now use them to compute the row sums and the lengths of corresponding ideograms."
   ]
  },
  {
   "cell_type": "code",
   "execution_count": 11,
   "metadata": {},
   "outputs": [],
   "source": [
    "row_sum = [np.sum(tech_terms_matrix[k, :]) for k in range(len(tech_terms_filters))]\n",
    "\n",
    "#set the gap between two consecutive ideograms\n",
    "gap = 2*PI*0.005\n",
    "ideogram_length = 2*PI*np.asarray(row_sum)/sum(row_sum)-gap*np.ones(len(tech_terms_filters))"
   ]
  },
  {
   "cell_type": "markdown",
   "metadata": {},
   "source": [
    "The next function returns the list of end angular coordinates for each ideogram arc:\n"
   ]
  },
  {
   "cell_type": "code",
   "execution_count": 12,
   "metadata": {},
   "outputs": [],
   "source": [
    "def get_ideogram_ends(ideogram_len, gap):\n",
    "    ideo_ends = []\n",
    "    left = 0\n",
    "    for k in range(len(ideogram_len)):\n",
    "        right = left+ideogram_len[k]\n",
    "        ideo_ends.append([left, right])\n",
    "        left = right+gap\n",
    "    return ideo_ends\n",
    "\n",
    "ideo_ends = get_ideogram_ends(ideogram_length, gap)"
   ]
  },
  {
   "cell_type": "markdown",
   "metadata": {},
   "source": [
    "The function make_ideogram_arc returns equally spaced points on an ideogram arc, expressed as complex numbers in polar form:"
   ]
  },
  {
   "cell_type": "code",
   "execution_count": 13,
   "metadata": {},
   "outputs": [],
   "source": [
    "def make_ideogram_arc(R, phi, a=50):\n",
    "    if not test_2PI(phi[0]) or not test_2PI(phi[1]):\n",
    "        phi = [moduloAB(t, 0, 2*PI) for t in phi]\n",
    "    length = (phi[1]-phi[0]) % 2*PI\n",
    "    nr = 5 if length <= PI/4 else int(a*length/PI)\n",
    "    if phi[0] < phi[1]:\n",
    "        theta = np.linspace(phi[0], phi[1], nr)\n",
    "    else:\n",
    "        phi = [moduloAB(t, -PI, PI) for t in phi]\n",
    "        theta = np.linspace(phi[0], phi[1], nr)\n",
    "    return R*np.exp(1j*theta)"
   ]
  },
  {
   "cell_type": "code",
   "execution_count": 14,
   "metadata": {},
   "outputs": [],
   "source": [
    "z = make_ideogram_arc(1.3, [11*PI/6, PI/17])"
   ]
  },
  {
   "cell_type": "markdown",
   "metadata": {},
   "source": [
    "### Ribbons Preparation"
   ]
  },
  {
   "cell_type": "markdown",
   "metadata": {},
   "source": [
    "The function map_data maps all matrix entries to the corresponding values in the intervals associated to ideograms:"
   ]
  },
  {
   "cell_type": "code",
   "execution_count": 15,
   "metadata": {},
   "outputs": [],
   "source": [
    "def map_data(data_matrix, row_value, ideogram_length):\n",
    "    mapped = np.zeros(data_matrix.shape)\n",
    "    for j in range(len(tech_terms_filters)):\n",
    "        mapped[:, j] = ideogram_length*data_matrix[:, j]/row_value\n",
    "    return mapped\n",
    "\n",
    "mapped_data = map_data(tech_terms_matrix, row_sum, ideogram_length)"
   ]
  },
  {
   "cell_type": "markdown",
   "metadata": {},
   "source": [
    "The array idx_sort, defined below, has on each row the indices that sort the corresponding row in mapped_data:\n"
   ]
  },
  {
   "cell_type": "code",
   "execution_count": 16,
   "metadata": {},
   "outputs": [],
   "source": [
    "idx_sort = np.argsort(mapped_data, axis=1)"
   ]
  },
  {
   "cell_type": "code",
   "execution_count": 17,
   "metadata": {},
   "outputs": [
    {
     "name": "stdout",
     "output_type": "stream",
     "text": [
      "ribbon ends starting from the ideogram[2]\n",
      " [(1.2450617385296445, 1.2450617385296445), (1.2450617385296445, 1.249440008299), (1.249440008299, 1.2560074129530332), (1.2560074129530332, 1.2630800025804536), (1.2630800025804536, 1.270320987199003), (1.270320987199003, 1.2814350566135209), (1.2814350566135209, 1.2932227059925547), (1.2932227059925547, 1.306020725318363), (1.306020725318363, 1.3188187446441715), (1.3188187446441715, 1.3327955289078832), (1.3327955289078832, 1.3481194731006274), (1.3481194731006274, 1.3673165020893399), (1.3673165020893399, 1.3866819260691814), (1.3866819260691814, 1.4166562344901534), (1.4166562344901534, 1.4467989379022546), (1.4467989379022546, 1.4850246008885504), (1.4850246008885504, 1.525271003768395), (1.525271003768395, 1.5779786359917898), (1.5779786359917898, 1.6399479927272826), (1.6399479927272826, 1.7618659663047196)]\n"
     ]
    }
   ],
   "source": [
    "def make_ribbon_ends(mapped_data, ideo_ends,  idx_sort):\n",
    "    L = mapped_data.shape[0]\n",
    "    ribbon_boundary = np.zeros((L, L+1))\n",
    "    for k in range(L):\n",
    "        start = ideo_ends[k][0]\n",
    "        ribbon_boundary[k][0] = start\n",
    "        for j in range(1, L+1):\n",
    "            J = idx_sort[k][j-1]\n",
    "            ribbon_boundary[k][j] = start+mapped_data[k][J]\n",
    "            start = ribbon_boundary[k][j]\n",
    "    return [[(ribbon_boundary[k][j], ribbon_boundary[k][j+1]) for j in range(L)] for k in range(L)]\n",
    "\n",
    "\n",
    "ribbon_ends = make_ribbon_ends(mapped_data, ideo_ends, idx_sort)\n",
    "print('ribbon ends starting from the ideogram[2]\\n', ribbon_ends[2])"
   ]
  },
  {
   "cell_type": "code",
   "execution_count": 18,
   "metadata": {},
   "outputs": [],
   "source": [
    "def control_pts(angle, radius):\n",
    "    if len(angle) != 3:\n",
    "        raise InvalidInputError('angle must have len =3')\n",
    "    b_cplx = np.array([np.exp(1j*angle[k]) for k in range(3)])\n",
    "    b_cplx[1] = radius*b_cplx[1]\n",
    "    return zip(b_cplx.real, b_cplx.imag)"
   ]
  },
  {
   "cell_type": "code",
   "execution_count": 19,
   "metadata": {},
   "outputs": [],
   "source": [
    "def ctrl_rib_chords(l, r, radius):\n",
    "    if len(l) != 2 or len(r) != 2:\n",
    "        raise ValueError('the arc ends must be elements in a list of len 2')\n",
    "    return [control_pts([l[j], (l[j]+r[j])/2, r[j]], radius) for j in range(2)]"
   ]
  },
  {
   "cell_type": "code",
   "execution_count": 20,
   "metadata": {},
   "outputs": [
    {
     "data": {
      "text/plain": [
       "'M 1,4 Q -0.5, 2.35 3.745, 1.47'"
      ]
     },
     "execution_count": 20,
     "metadata": {},
     "output_type": "execute_result"
    }
   ],
   "source": [
    "def make_q_bezier(b):\n",
    "    if len(b) != 3:\n",
    "        raise ValueError('control poligon must have 3 points')\n",
    "    A, B, C = b\n",
    "    return 'M ' + str(A[0]) + ',' + str(A[1]) + ' ' + 'Q ' + \\\n",
    "        str(B[0]) + ', ' + str(B[1]) + ' ' + \\\n",
    "        str(C[0]) + ', ' + str(C[1])\n",
    "\n",
    "\n",
    "b = [(1,4), (-0.5, 2.35), (3.745, 1.47)]\n",
    "make_q_bezier(b)"
   ]
  },
  {
   "cell_type": "code",
   "execution_count": 21,
   "metadata": {},
   "outputs": [],
   "source": [
    "def make_ribbon_arc(theta0, theta1):\n",
    "    if test_2PI(theta0) and test_2PI(theta1):\n",
    "        if theta0 < theta1:\n",
    "            theta0 = moduloAB(theta0, -PI, PI)\n",
    "            theta1 = moduloAB(theta1, -PI, PI)\n",
    "            if theta0*theta1 > 0:\n",
    "                raise ValueError('incorrect angle coordinates for ribbon')\n",
    "\n",
    "        nr = int(40*(theta0-theta1)/PI)\n",
    "        if nr <= 2: \n",
    "            nr = 3\n",
    "        theta = np.linspace(theta0, theta1, nr)\n",
    "        pts = np.exp(1j*theta)\n",
    "\n",
    "        string_arc = ''\n",
    "        for k in range(len(theta)):\n",
    "            string_arc += 'L ' + str(pts.real[k]) + ', ' + str(pts.imag[k]) + ' '\n",
    "        return string_arc\n",
    "    else:\n",
    "        raise ValueError('the angle coordinates for an arc side of a ribbon must be in [0, 2*pi]')"
   ]
  },
  {
   "cell_type": "code",
   "execution_count": 22,
   "metadata": {},
   "outputs": [],
   "source": [
    "def make_ideo_shape(path, line_color, fill_color):\n",
    "    return dict(\n",
    "        line=dict(color=line_color, width=0.45),\n",
    "        path=path,\n",
    "        type='path',\n",
    "        fillcolor=fill_color,\n",
    "        layer='below',\n",
    "    )"
   ]
  },
  {
   "cell_type": "code",
   "execution_count": 23,
   "metadata": {},
   "outputs": [],
   "source": [
    "temp_colors = [*DS['colorramp']['acc1'], *DS['colorramp']['acc2']]\n",
    "len_datalist = len(tech_terms_filters)\n",
    "ideo_colors = temp_colors[:len_datalist]"
   ]
  },
  {
   "cell_type": "code",
   "execution_count": 24,
   "metadata": {},
   "outputs": [],
   "source": [
    "def make_ribbon(l, r, line_color, fill_color, radius=0.2):\n",
    "    poligon = ctrl_rib_chords(l, r, radius)\n",
    "    b, c = poligon\n",
    "\n",
    "    return dict(\n",
    "        line=dict(\n",
    "            color=line_color,\n",
    "            width=0.5\n",
    "            ),\n",
    "        path=make_q_bezier(list(b))+make_ribbon_arc(r[0], r[1])+make_q_bezier(list(c)[::-1])+make_ribbon_arc(l[1], l[0]),\n",
    "        type='path',\n",
    "        fillcolor=fill_color,\n",
    "        layer='below'\n",
    "    )\n",
    "\n",
    "\n",
    "def make_self_rel(l, line_color, fill_color, radius):\n",
    "    b = control_pts([l[0], (l[0]+l[1])/2, l[1]], radius)\n",
    "    return dict(\n",
    "        line=dict(\n",
    "            color=line_color,\n",
    "            width=0.5\n",
    "            ),\n",
    "        path=make_q_bezier(b)+make_ribbon_arc(l[1], l[0]),\n",
    "        type='path',\n",
    "        fillcolor=fill_color,\n",
    "        layer='below'\n",
    "    )\n",
    "\n",
    "\n",
    "def invPerm(perm):\n",
    "    inv = [0] * len(perm)\n",
    "    for i, s in enumerate(perm):\n",
    "        inv[s] = i\n",
    "    return inv"
   ]
  },
  {
   "cell_type": "code",
   "execution_count": 25,
   "metadata": {},
   "outputs": [],
   "source": [
    "radii_sribb = [0.4, 0.30, 0.35, 0.39, 0.12]"
   ]
  },
  {
   "cell_type": "code",
   "execution_count": 26,
   "metadata": {},
   "outputs": [],
   "source": [
    "shapes = []\n",
    "ribbon_info = []\n",
    "\n",
    "for k in range(len(tech_terms_filters)):\n",
    "    sigma = idx_sort[k]\n",
    "    sigma_inv = invPerm(sigma)\n",
    "    for j in range(k, len(tech_terms_filters)):\n",
    "        if tech_terms_matrix[k][j] == 0 and tech_terms_matrix[j][k] == 0:\n",
    "            continue\n",
    "        eta = idx_sort[j]\n",
    "        eta_inv = invPerm(eta)\n",
    "        l = ribbon_ends[k][sigma_inv[j]]\n",
    "\n",
    "        if j == k:\n",
    "            shapes.append(make_self_rel(l, DS['colors']['acc1'], ideo_colors[k], radius=radii_sribb[k]))\n",
    "            z = 0.9*np.exp(1j*(l[0]+l[1])/2)\n",
    "            text = tech_terms_labels[k]+' appears in ' + '{:d}'.format(tech_terms_matrix[k][k]),\n",
    "            ribbon_info.append(\n",
    "                go.Scatter(\n",
    "                    x=[z.real],\n",
    "                    y=[z.imag],\n",
    "                    mode='markers',\n",
    "                    marker=dict(size=0.5, color=ideo_colors[k]),\n",
    "                    text=text,\n",
    "                    hoverinfo='text',\n",
    "                ),\n",
    "            )\n",
    "        else:\n",
    "            r = ribbon_ends[j][eta_inv[k]]\n",
    "            zi = 0.9*np.exp(1j*(l[0]+l[1])/2)\n",
    "            zf = 0.9*np.exp(1j*(r[0]+r[1])/2)\n",
    "            texti = tech_terms_labels[k]+' appears with '+tech_terms_labels[j]+' {:d}'.format(tech_terms_matrix[k][j])+' times'\n",
    "            textf = tech_terms_labels[j]+' appears with '+tech_terms_labels[k]+' {:d}'.format(tech_terms_matrix[j][k])+' times'\n",
    "\n",
    "            ribbon_info.append(go.Scatter(\n",
    "                x=[zi.real],\n",
    "                y=[zi.imag],\n",
    "                mode='markers',\n",
    "                marker=dict(size=0.5, color='green'),\n",
    "                text=texti,\n",
    "                hoverinfo='text'\n",
    "            )),\n",
    "            ribbon_info.append(go.Scatter(\n",
    "                x=[zf.real],\n",
    "                y=[zf.imag],\n",
    "                mode='markers',\n",
    "                marker=dict(size=0.5, color='blue'),\n",
    "                text=textf,\n",
    "                hoverinfo='text'\n",
    "            ))\n",
    "            r = (r[1], r[0])\n",
    "            shapes.append(make_ribbon(l, r, 'rgb(175,175,175)', ideo_colors[k]))"
   ]
  },
  {
   "cell_type": "code",
   "execution_count": 27,
   "metadata": {},
   "outputs": [
    {
     "name": "stderr",
     "output_type": "stream",
     "text": [
      "/run/media/deo/Games/WORKSPACE/jpynb_Job_Market_Trends_Bulgaria/ve-jobmarkettrends/lib/python3.8/site-packages/plotly/graph_objs/_deprecations.py:31: DeprecationWarning:\n",
      "\n",
      "plotly.graph_objs.Data is deprecated.\n",
      "Please replace it with a list or tuple of instances of the following types\n",
      "  - plotly.graph_objs.Scatter\n",
      "  - plotly.graph_objs.Bar\n",
      "  - plotly.graph_objs.Area\n",
      "  - plotly.graph_objs.Histogram\n",
      "  - etc.\n",
      "\n",
      "\n"
     ]
    }
   ],
   "source": [
    "ideograms = []\n",
    "for k in range(len(ideo_ends)):\n",
    "    z = make_ideogram_arc(1.1, ideo_ends[k])\n",
    "    zi = make_ideogram_arc(1.0, ideo_ends[k])\n",
    "    m = len(z)\n",
    "    n = len(zi)\n",
    "    ideograms.append(go.Scatter(\n",
    "        x=z.real,\n",
    "        y=z.imag,\n",
    "        mode='lines',\n",
    "        line=dict(color=ideo_colors[k], shape='spline', width=0.25),\n",
    "        text=tech_terms_labels[k]+'<br>'+'{:d}'.format(row_sum[k]),\n",
    "        hoverinfo='text',))\n",
    "\n",
    "    path = 'M '\n",
    "    for s in range(m):\n",
    "        path += str(z.real[s])+', '+str(z.imag[s])+' L '\n",
    "\n",
    "    Zi = np.array(zi.tolist()[::-1])\n",
    "\n",
    "    for s in range(m):\n",
    "        path += str(Zi.real[s])+', '+str(Zi.imag[s])+' L '\n",
    "    path += str(z.real[0])+' ,'+str(z.imag[0])\n",
    "\n",
    "    shapes.append(make_ideo_shape(path, 'rgb(150,150,150)', ideo_colors[k]))\n",
    "\n",
    "data = go.Data(ideograms+ribbon_info)\n"
   ]
  },
  {
   "cell_type": "code",
   "execution_count": 28,
   "metadata": {},
   "outputs": [],
   "source": [
    "layout = go.Layout(\n",
    "    paper_bgcolor=DS['colors']['bg1'],\n",
    "    plot_bgcolor=DS['colors']['bg1'],\n",
    "    title='Data Jobs ‒ Technologies in Demand and Relationships Between Them',\n",
    "    titlefont=DS['chart_fonts']['title'],\n",
    "    font=DS['chart_fonts']['text'],\n",
    "    autosize=False,\n",
    "    width=960,\n",
    "    height=525,\n",
    "    margin=dict(\n",
    "        l=280,\n",
    "        r=280,\n",
    "        t=80,\n",
    "        b=10,\n",
    "    ),\n",
    "    showlegend=False,\n",
    "    hidesources=True,\n",
    "    xaxis=dict(\n",
    "        showline=False,\n",
    "        zeroline=False,\n",
    "        showgrid=False,\n",
    "        showticklabels=False,\n",
    "        title='',\n",
    "    ),\n",
    "    yaxis=dict(\n",
    "        showline=False,\n",
    "        zeroline=False,\n",
    "        showgrid=False,\n",
    "        showticklabels=False,\n",
    "        title='',\n",
    "    ),\n",
    "    shapes=shapes,\n",
    "    hovermode='closest',\n",
    "    hoverdistance=40,\n",
    ")"
   ]
  },
  {
   "cell_type": "code",
   "execution_count": 29,
   "metadata": {},
   "outputs": [
    {
     "data": {
      "application/vnd.plotly.v1+json": {
       "config": {
        "linkText": "Export to plot.ly",
        "plotlyServerURL": "https://plot.ly",
        "showLink": false
       },
       "data": [
        {
         "hoverinfo": "text",
         "line": {
          "color": "#f2e6ce",
          "shape": "spline",
          "width": 0.25
         },
         "mode": "lines",
         "text": "Power BI<br>1850",
         "type": "scatter",
         "x": [
          1.1,
          1.0997089608529098,
          1.098835997418521,
          1.097381571635985,
          1.0953464531322823,
          1.0927317188149652,
          1.0895387523022981,
          1.0857692431911004,
          1.0814251861626747,
          1.0765088799272986,
          1.071022926007833,
          1.0649702273630954,
          1.0583539868517247,
          1.0511777055373484
         ],
         "y": [
          0,
          0.025302201876785547,
          0.05059101478765522,
          0.0758530568516263,
          0.1010749603538332,
          0.12624337881921543,
          0.15134499407496613,
          0.17636652329800417,
          0.20129472604374046,
          0.22611641125241938,
          0.25081844422932736,
          0.2753877535951753,
          0.2998113382029769,
          0.32407627401776284
         ]
        },
        {
         "hoverinfo": "text",
         "line": {
          "color": "#ecd5bb",
          "shape": "spline",
          "width": 0.25
         },
         "mode": "lines",
         "text": "Excel<br>5120",
         "type": "scatter",
         "x": [
          1.0404795310286674,
          1.0329295056492707,
          1.0249437532559222,
          1.0165256425277296,
          1.007678724528178,
          0.9984067312071645,
          0.9887135738267274,
          0.9786033413111329,
          0.96808029852202,
          0.9571488844593272,
          0.9458137103887623,
          0.9340795578966031,
          0.9219513768726524,
          0.9094342834221942,
          0.8965335577078368,
          0.8832546417221485,
          0.8696031369920284,
          0.8555848022157804,
          0.8412055508338852,
          0.826471448534498,
          0.8113887106947215,
          0.7959636997587355,
          0.7802029225538873,
          0.7641130275458771,
          0.7477008020341944,
          0.7309731692889905,
          0.7139371856305916,
          0.6966000374528889,
          0.6789690381918568,
          0.6610516252404823,
          0.6428553568114023,
          0.6243879087485776,
          0.6056570712893438,
          0.5866707457782068,
          0.5674369413337714,
          0.5479637714702041,
          0.5282594506746614,
          0.5083322909421192,
          0.4881906982690754,
          0.4678431691075954,
          0.4472982867812015,
          0.42656471786411687,
          0.4056512085253913,
          0.38456658083945056
         ],
         "y": [
          0.3569346515965698,
          0.37822828603788183,
          0.3993623701122368,
          0.4203279886988098,
          0.4411162977416102,
          0.461718527980224,
          0.4821259886490051,
          0.5023300711431542,
          0.5223222526501401,
          0.5420940997449295,
          0.5616372719475112,
          0.5809435252412118,
          0.6000047155503203,
          0.6188128021755532,
          0.6373598511859129,
          0.6556380387655062,
          0.6736396545139127,
          0.6913571046987108,
          0.7087829154587885,
          0.7259097359570877,
          0.7427303414814542,
          0.7592376364922814,
          0.7754246576156661,
          0.7912845765808114,
          0.8068107031004377,
          0.8219964876929883,
          0.8368355244454375,
          0.8513215537155359,
          0.8654484647723544,
          0.8792102983740108,
          0.8926012492814945,
          0.9056156687075252,
          0.9182480666994159,
          0.930493114454934,
          0.9423456465701819,
          0.9538006632185522,
          0.9648533322598338,
          0.9754989912785851,
          0.985733149550908,
          0.9955514899387988,
          1.0049498707112718,
          1.013924327291493,
          1.0224710739291796,
          1.0305865052975682
         ]
        },
        {
         "hoverinfo": "text",
         "line": {
          "color": "#e6c4a9",
          "shape": "spline",
          "width": 0.25
         },
         "mode": "lines",
         "text": "SSIS/SSRS<br>3069",
         "type": "scatter",
         "x": [
          0.35200531601937707,
          0.3294841339672677,
          0.3068101786513513,
          0.2839939633977641,
          0.2610460674948921,
          0.23797713128803044,
          0.21479785124572964,
          0.19151897500012027,
          0.16815129636351456,
          0.14470565032359387,
          0.12119290801950697,
          0.09762397170120313,
          0.07400976967434171,
          0.05036125123311857,
          0.02668938158336332,
          0.0030051367582562783,
          -0.0206805014709738,
          -0.04435655068701273,
          -0.06801203291872328,
          -0.09163597973134717,
          -0.1152174373122829,
          -0.13874547155008604,
          -0.16220917310433322,
          -0.1855976624640018,
          -0.20890009499201612
         ],
         "y": [
          1.0421575012895596,
          1.049495214597875,
          1.0563463041426926,
          1.0627075932511396,
          1.0685761323581267,
          1.0739492003739841,
          1.0788243059461617,
          1.0831991886144041,
          1.0870718198588674,
          1.0904404040406912,
          1.093303379234591,
          1.0956594179530803,
          1.0975074277619952,
          1.098846551787025,
          1.0996761691110242,
          1.0999958950619153,
          1.0998055813910517,
          1.0991053163419557,
          1.0978954246094037,
          1.096176467188872,
          1.0939492411164196,
          1.0912147790991216,
          1.0879743490362301,
          1.084229453431283,
          1.0799818286954308
         ]
        },
        {
         "hoverinfo": "text",
         "line": {
          "color": "#e1b396",
          "shape": "spline",
          "width": 0.25
         },
         "mode": "lines",
         "text": "MS SQL Server<br>2218",
         "type": "scatter",
         "x": [
          -0.24272006443545327,
          -0.26568460971882973,
          -0.28852682446591904,
          -0.31123619131787594,
          -0.33380225408369807,
          -0.35621462255462244,
          -0.37846297728814376,
          -0.40053707435944863,
          -0.42242675007807845,
          -0.44412192566764996,
          -0.4656126119064785,
          -0.48688891372696647,
          -0.5079410347716409,
          -0.52875928190374,
          -0.549334069670276,
          -0.5696559247155125,
          -0.589715490142832,
          -0.6095035298229792
         ],
         "y": [
          1.0728872123016704,
          1.0674322873880822,
          1.0614858791164454,
          1.0550507254222152,
          1.0481297892764248,
          1.0407262573214284,
          1.0328435384036607,
          1.0244852620040825,
          1.0156552765670412,
          1.0063576477283107,
          0.9965966564431307,
          0.9863767970151035,
          0.9757027750268596,
          0.9645795051734416,
          0.9530121089994044,
          0.9410059125406781,
          0.9285664438722733,
          0.9156994305629598
         ]
        },
        {
         "hoverinfo": "text",
         "line": {
          "color": "#dba284",
          "shape": "spline",
          "width": 0.25
         },
         "mode": "lines",
         "text": "PostgreSQL<br>710",
         "type": "scatter",
         "x": [
          -0.6379655908255304,
          -0.6591569187662848,
          -0.6799732232773514,
          -0.7004026610454187,
          -0.7204336088627181
         ],
         "y": [
          0.8961026196383047,
          0.8806316803536752,
          0.8646597108838884,
          0.8481957983864908,
          0.8312493099071062
         ]
        },
        {
         "hoverinfo": "text",
         "line": {
          "color": "#d59171",
          "shape": "spline",
          "width": 0.25
         },
         "mode": "lines",
         "text": "MySQL/MariaDB<br>1014",
         "type": "scatter",
         "x": [
          -0.7461882901735986,
          -0.775909179307638,
          -0.8045431944530916,
          -0.8320502258044813,
          -0.8583917422067754
         ],
         "y": [
          0.8082097720318666,
          0.7797210690151625,
          0.7501401524110112,
          0.7195084584205469,
          0.6878688951473362
         ]
        },
        {
         "hoverinfo": "text",
         "line": {
          "color": "#d0805f",
          "shape": "spline",
          "width": 0.25
         },
         "mode": "lines",
         "text": "T-SQL<br>1586",
         "type": "scatter",
         "x": [
          -0.879574661842253,
          -0.8944693310483919,
          -0.9088949756473474,
          -0.922844031397333,
          -0.936309183961046,
          -0.9492833727410206,
          -0.9617597945819284,
          -0.9737319073378846,
          -0.9851934333028937,
          -0.9961383625026311,
          -1.0065609558458386,
          -1.0164557481336787
         ],
         "y": [
          0.6605667371621785,
          0.6402535558775464,
          0.6196046507596661,
          0.5986308492838625,
          0.577343149288359,
          0.5557527132074416,
          0.5338708622183149,
          0.5117090703047246,
          0.48927895824044704,
          0.46659228749581466,
          0.4436609540704613,
          0.42049698225552573
         ]
        },
        {
         "hoverinfo": "text",
         "line": {
          "color": "#ca6f4c",
          "shape": "spline",
          "width": 0.25
         },
         "mode": "lines",
         "text": "PL/SQL<br>501",
         "type": "scatter",
         "x": [
          -1.0291623179837777,
          -1.0346925034055745,
          -1.040004559532053,
          -1.045097366499046,
          -1.0499698506635224
         ],
         "y": [
          0.3883618457601852,
          0.3733783917104812,
          0.3583162236803414,
          0.3431785170093825,
          0.327968462961945
         ]
        },
        {
         "hoverinfo": "text",
         "line": {
          "color": "#c45e3a",
          "shape": "spline",
          "width": 0.25
         },
         "mode": "lines",
         "text": "Pentaho<br>630",
         "type": "scatter",
         "x": [
          -1.0597534922997398,
          -1.0655143722375737,
          -1.0708370232425786,
          -1.0757192561939595,
          -1.0801590631077869
         ],
         "y": [
          0.29482628030503943,
          0.2732748114173156,
          0.25161094899263264,
          0.22984360302935275,
          0.20798172608695367
         ]
        },
        {
         "hoverinfo": "text",
         "line": {
          "color": "#bf4d28",
          "shape": "spline",
          "width": 0.25
         },
         "mode": "lines",
         "text": "Hadoop<br>1346",
         "type": "scatter",
         "x": [
          -1.0861589337055055,
          -1.0937620544452846,
          -1.0983791842247808,
          -1.0999977181929408,
          -1.0986132377216196
         ],
         "y": [
          0.17395048356276352,
          0.11698105938839169,
          0.05969227472383061,
          0.0022405290276638493,
          -0.05521733335484817
         ]
        },
        {
         "hoverinfo": "text",
         "line": {
          "color": "#af4624",
          "shape": "spline",
          "width": 0.25
         },
         "mode": "lines",
         "text": "Spark<br>1350",
         "type": "scatter",
         "x": [
          -1.0963367200524499,
          -1.0901288602622874,
          -1.0809245511415397,
          -1.0687490926771246,
          -1.0536359516872273
         ],
         "y": [
          -0.08969836266418835,
          -0.14703424098911852,
          -0.20396596465945216,
          -0.2603370448127259,
          -0.31599253363355106
         ]
        },
        {
         "hoverinfo": "text",
         "line": {
          "color": "#9f4021",
          "shape": "spline",
          "width": 0.25
         },
         "mode": "lines",
         "text": "Informatica<br>890",
         "type": "scatter",
         "x": [
          -1.043190480604124,
          -1.0315339329205326,
          -1.0188283320661196,
          -1.0050865994295441,
          -0.9903227101285754
         ],
         "y": [
          -0.34893211542782515,
          -0.3820179907196754,
          -0.41471535995109843,
          -0.4469909704313447,
          -0.47881199839142874
         ]
        },
        {
         "hoverinfo": "text",
         "line": {
          "color": "#8f391e",
          "shape": "spline",
          "width": 0.25
         },
         "mode": "lines",
         "text": "Qlik<br>2185",
         "type": "scatter",
         "x": [
          -0.9747941973274917,
          -0.9631173117406596,
          -0.950955859739326,
          -0.9383159600289898,
          -0.9252039720331685,
          -0.911626492693826,
          -0.8975903531523003,
          -0.8831026153123992,
          -0.8681705682873943,
          -0.8528017247327015,
          -0.8370038170660913,
          -0.8207847935773318,
          -0.8041528144292224,
          -0.7871162475520286,
          -0.7696836644333837,
          -0.751863835805777,
          -0.7336657272337976
         ],
         "y": [
          -0.5096825216315067,
          -0.5314179558741362,
          -0.5528860215518562,
          -0.5740759175883232,
          -0.5949769828607221,
          -0.6155787015636213,
          -0.6358707084997147,
          -0.6558427942947921,
          -0.6754849105343087,
          -0.6947871748189728,
          -0.7137398757368075,
          -0.7323334777491857,
          -0.7505586259883773,
          -0.768406150964198,
          -0.785867073177391,
          -0.8029326076374179,
          -0.8195941682823903
         ]
        },
        {
         "hoverinfo": "text",
         "line": {
          "color": "#f0f3e7",
          "shape": "spline",
          "width": 0.25
         },
         "mode": "lines",
         "text": "Tableau<br>3131",
         "type": "scatter",
         "x": [
          -0.7075596325239192,
          -0.6896192926074576,
          -0.671371496919982,
          -0.6528243809503804,
          -0.6339862136347202,
          -0.6148653936696712,
          -0.5954704457680823,
          -0.5758100168583736,
          -0.5558928722294443,
          -0.535727891622803,
          -0.5153240652736799,
          -0.4946904899028721,
          -0.4738363646611194,
          -0.45277098702780366,
          -0.4315037486658197,
          -0.41004413123445027,
          -0.38840170216212294,
          -0.36658611038091915,
          -0.34460708202475526,
          -0.32247441609313976,
          -0.30019798008244497,
          -0.2777877055866442,
          -0.25525358386946356,
          -0.2326056614099392,
          -0.20985403542335726,
          -0.18700884935956583
         ],
         "y": [
          -0.842234745437765,
          -0.8569861324803278,
          -0.871355445913677,
          -0.8853362794084251,
          -0.8989223998327726,
          -0.9121077500314535,
          -0.9248864515262193,
          -0.9372528071366656,
          -0.9492013035202274,
          -0.9607266136302182,
          -0.9718235990908064,
          -0.9824873124878797,
          -0.9927129995747688,
          -1.002496101391855,
          -1.011832256299109,
          -1.0207173019206568,
          -1.0291472770005106,
          -1.0371184231686315,
          -1.0446271866165382,
          -1.051670219681716,
          -1.058244382340119,
          -1.0643467436060994,
          -1.0699745828391416,
          -1.0751253909568153,
          -1.0797968715534105,
          -1.0839869419237538
         ]
        },
        {
         "hoverinfo": "text",
         "line": {
          "color": "#e2ecde",
          "shape": "spline",
          "width": 0.25
         },
         "mode": "lines",
         "text": "Microstrategy<br>498",
         "type": "scatter",
         "x": [
          -0.152867719104729,
          -0.13718178460286332,
          -0.12146746126804006,
          -0.10572800107209607,
          -0.08996666118877279
         ],
         "y": [
          -1.0893261497162905,
          -1.0914124600595203,
          -1.0932729100517846,
          -1.0949071146856701,
          -1.0963147357736942
         ]
        },
        {
         "hoverinfo": "text",
         "line": {
          "color": "#d4e5d6",
          "shape": "spline",
          "width": 0.25
         },
         "mode": "lines",
         "text": "Oracle BI<br>3822",
         "type": "scatter",
         "x": [
          -0.05548619003319026,
          -0.03239392906150404,
          -0.00928736911900569,
          0.013823290351515404,
          0.036927848097701395,
          0.060016105560550294,
          0.08307787137615234,
          0.1061029658742455,
          0.12908122557161916,
          0.15200250765836276,
          0.17485669447499408,
          0.1976336979784849,
          0.22032346419521356,
          0.24291597765887932,
          0.26540126583141865,
          0.2877694035049734,
          0.3100105171829669,
          0.332114789438351,
          0.3540724632471112,
          0.3758738462951014,
          0.3975093152563188,
          0.41896932004072657,
          0.4402443880097493,
          0.4613251281575803,
          0.4822022352564561,
          0.502866493964068,
          0.523308782891294,
          0.5435200786284659,
          0.5634914597283807,
          0.583214110644308,
          0.6026793256212511,
          0.6218785125387458
         ],
         "y": [
          -1.098599691751095,
          -1.0995229117030523,
          -1.0999607923807317,
          -1.0999131404996751,
          -1.0993799770938495,
          -1.0983615375063647,
          -1.0968582712855877,
          -1.0948708419867108,
          -1.0924001268788506,
          -1.0894472165578144,
          -1.0860134144647011,
          -1.0821002363105505,
          -1.077709409407295,
          -1.072842871905309,
          -1.067502771937891,
          -1.0616914666730595,
          -1.0554115212730766,
          -1.048665707762164,
          -1.0414570038029045,
          -1.0337885913818776,
          -1.0256638554050994,
          -1.017086382203897,
          -1.0080599579518679,
          -0.9985885669936304,
          -0.9886763900860978,
          -0.9783278025530533,
          -0.9675473723538464,
          -0.9563398580670506,
          -0.9447102067899864,
          -0.9326635519550279,
          -0.9202052110636595,
          -0.907340683339283
         ]
        },
        {
         "hoverinfo": "text",
         "line": {
          "color": "#c6decd",
          "shape": "spline",
          "width": 0.25
         },
         "mode": "lines",
         "text": "Python<br>2666",
         "type": "scatter",
         "x": [
          0.6500719126391137,
          0.6687204597582236,
          0.687068986990565,
          0.7051092623118546,
          0.7228331919943183,
          0.7402328242379179,
          0.7573003527379137,
          0.7740281201871394,
          0.7904086217114392,
          0.8064345082367118,
          0.822098589786052,
          0.8373938387055226,
          0.8523133928170897,
          0.8668505584973281,
          0.8809988136804949,
          0.8947518107846438,
          0.9081033795594504,
          0.9210475298544801,
          0.9335784543066584,
          0.945690530945727,
          0.9573783257165315,
          0.968636594916994
         ],
         "y": [
          -0.88735928935112,
          -0.8733916342058414,
          -0.8590321339250115,
          -0.844287230865203,
          -0.8291635402930506,
          -0.8136678474173328,
          -0.7978071043447981,
          -0.7815884269611236,
          -0.7650190917383847,
          -0.7481065324704852,
          -0.730858336938004,
          -0.7132822435039509,
          -0.6953861376419734,
          -0.6771780483985511,
          -0.658666144790789,
          -0.639858732141401,
          -0.6207642483525488,
          -0.601391260120199,
          -0.5817484590906887,
          -0.5618446579612458,
          -0.5416887865261854,
          -0.5212898876705854
         ]
        },
        {
         "hoverinfo": "text",
         "line": {
          "color": "#b8d7c5",
          "shape": "spline",
          "width": 0.25
         },
         "mode": "lines",
         "text": "VBA<br>903",
         "type": "scatter",
         "x": [
          0.9845327423013444,
          0.9999419589033193,
          1.0142968930177803,
          1.027582409610627,
          1.0397845011813671
         ],
         "y": [
          -0.4906070518618692,
          -0.4583842043794623,
          -0.42567806240688283,
          -0.3925231094583067,
          -0.3589543022489298
         ]
        },
        {
         "hoverinfo": "text",
         "line": {
          "color": "#aad0bc",
          "shape": "spline",
          "width": 0.25
         },
         "mode": "lines",
         "text": "Linux<br>965",
         "type": "scatter",
         "x": [
          1.0505464574053849,
          1.0613844389922222,
          1.0709044032727886,
          1.079094528444148,
          1.085944644085179
         ],
         "y": [
          -0.3261167595095295,
          -0.28889976231413816,
          -0.2513240120858983,
          -0.21343617004130744,
          -0.17528328494957549
         ]
        },
        {
         "hoverinfo": "text",
         "line": {
          "color": "#9cc9b4",
          "shape": "spline",
          "width": 0.25
         },
         "mode": "lines",
         "text": "AWS<br>720",
         "type": "scatter",
         "x": [
          1.09091457699114,
          1.0940205338960847,
          1.096480530719469,
          1.0982931149659336,
          1.0994572164023046
         ],
         "y": [
          -0.14108644764201345,
          -0.11453851497957468,
          -0.08792295350562211,
          -0.06125547827277942,
          -0.03455183498594316
         ]
        },
        {
         "hoverinfo": "text",
         "marker": {
          "color": "green",
          "size": 0.5
         },
         "mode": "markers",
         "text": "Power BI appears with Excel 289 times",
         "type": "scatter",
         "x": [
          0.8660128659186355
         ],
         "y": [
          0.24499329799688702
         ]
        },
        {
         "hoverinfo": "text",
         "marker": {
          "color": "blue",
          "size": 0.5
         },
         "mode": "markers",
         "text": "Excel appears with Power BI 289 times",
         "type": "scatter",
         "x": [
          0.7621295724155189
         ],
         "y": [
          0.478705039507355
         ]
        },
        {
         "hoverinfo": "text",
         "marker": {
          "color": "green",
          "size": 0.5
         },
         "mode": "markers",
         "text": "Power BI appears with SSIS/SSRS 179 times",
         "type": "scatter",
         "x": [
          0.8936981014192233
         ],
         "y": [
          0.10631887659148603
         ]
        },
        {
         "hoverinfo": "text",
         "marker": {
          "color": "blue",
          "size": 0.5
         },
         "mode": "markers",
         "text": "SSIS/SSRS appears with Power BI 179 times",
         "type": "scatter",
         "x": [
          0.12475881568148513
         ],
         "y": [
          0.8913109658866277
         ]
        },
        {
         "hoverinfo": "text",
         "marker": {
          "color": "green",
          "size": 0.5
         },
         "mode": "markers",
         "text": "Power BI appears with MS SQL Server 171 times",
         "type": "scatter",
         "x": [
          0.8963477590082988
         ],
         "y": [
          0.08099811677317457
         ]
        },
        {
         "hoverinfo": "text",
         "marker": {
          "color": "blue",
          "size": 0.5
         },
         "mode": "markers",
         "text": "MS SQL Server appears with Power BI 171 times",
         "type": "scatter",
         "x": [
          -0.3511814181545518
         ],
         "y": [
          0.8286565099864707
         ]
        },
        {
         "hoverinfo": "text",
         "marker": {
          "color": "green",
          "size": 0.5
         },
         "mode": "markers",
         "text": "Power BI appears with MySQL/MariaDB 5 times",
         "type": "scatter",
         "x": [
          0.8999999265073945
         ],
         "y": [
          0.0003637123650451017
         ]
        },
        {
         "hoverinfo": "text",
         "marker": {
          "color": "blue",
          "size": 0.5
         },
         "mode": "markers",
         "text": "MySQL/MariaDB appears with Power BI 5 times",
         "type": "scatter",
         "x": [
          -0.6108593328701261
         ],
         "y": [
          0.6609469535790785
         ]
        },
        {
         "hoverinfo": "text",
         "marker": {
          "color": "green",
          "size": 0.5
         },
         "mode": "markers",
         "text": "Power BI appears with T-SQL 78 times",
         "type": "scatter",
         "x": [
          0.8988482461923466
         ],
         "y": [
          0.045517362807425875
         ]
        },
        {
         "hoverinfo": "text",
         "marker": {
          "color": "blue",
          "size": 0.5
         },
         "mode": "markers",
         "text": "T-SQL appears with Power BI 78 times",
         "type": "scatter",
         "x": [
          -0.7632269791591875
         ],
         "y": [
          0.4769534340829734
         ]
        },
        {
         "hoverinfo": "text",
         "marker": {
          "color": "green",
          "size": 0.5
         },
         "mode": "markers",
         "text": "Power BI appears with PL/SQL 11 times",
         "type": "scatter",
         "x": [
          0.8999955287135233
         ],
         "y": [
          0.002836951826479861
         ]
        },
        {
         "hoverinfo": "text",
         "marker": {
          "color": "blue",
          "size": 0.5
         },
         "mode": "markers",
         "text": "PL/SQL appears with Power BI 11 times",
         "type": "scatter",
         "x": [
          -0.8438876377021817
         ],
         "y": [
          0.31281568843878566
         ]
        },
        {
         "hoverinfo": "text",
         "marker": {
          "color": "green",
          "size": 0.5
         },
         "mode": "markers",
         "text": "Power BI appears with Pentaho 12 times",
         "type": "scatter",
         "x": [
          0.8999886998004728
         ],
         "y": [
          0.004510014573645779
         ]
        },
        {
         "hoverinfo": "text",
         "marker": {
          "color": "blue",
          "size": 0.5
         },
         "mode": "markers",
         "text": "Pentaho appears with Power BI 12 times",
         "type": "scatter",
         "x": [
          -0.8679963938940328
         ],
         "y": [
          0.23787025914761836
         ]
        },
        {
         "hoverinfo": "text",
         "marker": {
          "color": "green",
          "size": 0.5
         },
         "mode": "markers",
         "text": "Power BI appears with Hadoop 54 times",
         "type": "scatter",
         "x": [
          0.8995932226116073
         ],
         "y": [
          0.027056123729447025
         ]
        },
        {
         "hoverinfo": "text",
         "marker": {
          "color": "blue",
          "size": 0.5
         },
         "mode": "markers",
         "text": "Hadoop appears with Power BI 54 times",
         "type": "scatter",
         "x": [
          -0.8919743642235504
         ],
         "y": [
          0.11992386571484895
         ]
        },
        {
         "hoverinfo": "text",
         "marker": {
          "color": "green",
          "size": 0.5
         },
         "mode": "markers",
         "text": "Power BI appears with Spark 61 times",
         "type": "scatter",
         "x": [
          0.899302883293775
         ],
         "y": [
          0.03541643826675674
         ]
        },
        {
         "hoverinfo": "text",
         "marker": {
          "color": "blue",
          "size": 0.5
         },
         "mode": "markers",
         "text": "Spark appears with Power BI 61 times",
         "type": "scatter",
         "x": [
          -0.8935184683312779
         ],
         "y": [
          -0.10781811884338927
         ]
        },
        {
         "hoverinfo": "text",
         "marker": {
          "color": "green",
          "size": 0.5
         },
         "mode": "markers",
         "text": "Power BI appears with Informatica 26 times",
         "type": "scatter",
         "x": [
          0.8999518363149962
         ],
         "y": [
          0.009310870703987555
         ]
        },
        {
         "hoverinfo": "text",
         "marker": {
          "color": "blue",
          "size": 0.5
         },
         "mode": "markers",
         "text": "Informatica appears with Power BI 26 times",
         "type": "scatter",
         "x": [
          -0.8483970008651861
         ],
         "y": [
          -0.3003706525660545
         ]
        },
        {
         "hoverinfo": "text",
         "marker": {
          "color": "green",
          "size": 0.5
         },
         "mode": "markers",
         "text": "Power BI appears with Qlik 231 times",
         "type": "scatter",
         "x": [
          0.8896848667262167
         ],
         "y": [
          0.13587066614377877
         ]
        },
        {
         "hoverinfo": "text",
         "marker": {
          "color": "blue",
          "size": 0.5
         },
         "mode": "markers",
         "text": "Qlik appears with Power BI 231 times",
         "type": "scatter",
         "x": [
          -0.7393045114747315
         ],
         "y": [
          -0.51325319220937
         ]
        },
        {
         "hoverinfo": "text",
         "marker": {
          "color": "green",
          "size": 0.5
         },
         "mode": "markers",
         "text": "Power BI appears with Tableau 265 times",
         "type": "scatter",
         "x": [
          0.8761112484502942
         ],
         "y": [
          0.20598320402126702
         ]
        },
        {
         "hoverinfo": "text",
         "marker": {
          "color": "blue",
          "size": 0.5
         },
         "mode": "markers",
         "text": "Tableau appears with Power BI 265 times",
         "type": "scatter",
         "x": [
          -0.3877363341453977
         ],
         "y": [
          -0.8121948874398855
         ]
        },
        {
         "hoverinfo": "text",
         "marker": {
          "color": "green",
          "size": 0.5
         },
         "mode": "markers",
         "text": "Power BI appears with Microstrategy 38 times",
         "type": "scatter",
         "x": [
          0.8998916329169472
         ],
         "y": [
          0.013965994632339987
         ]
        },
        {
         "hoverinfo": "text",
         "marker": {
          "color": "blue",
          "size": 0.5
         },
         "mode": "markers",
         "text": "Microstrategy appears with Power BI 38 times",
         "type": "scatter",
         "x": [
          -0.10671736252203512
         ],
         "y": [
          -0.8936506054025479
         ]
        },
        {
         "hoverinfo": "text",
         "marker": {
          "color": "green",
          "size": 0.5
         },
         "mode": "markers",
         "text": "Power BI appears with Oracle BI 243 times",
         "type": "scatter",
         "x": [
          0.8838279626876956
         ],
         "y": [
          0.1698473796421877
         ]
        },
        {
         "hoverinfo": "text",
         "marker": {
          "color": "blue",
          "size": 0.5
         },
         "mode": "markers",
         "text": "Oracle BI appears with Power BI 243 times",
         "type": "scatter",
         "x": [
          0.1979604204431456
         ],
         "y": [
          -0.8779588099324325
         ]
        },
        {
         "hoverinfo": "text",
         "marker": {
          "color": "green",
          "size": 0.5
         },
         "mode": "markers",
         "text": "Power BI appears with Python 120 times",
         "type": "scatter",
         "x": [
          0.8980047490238101
         ],
         "y": [
          0.059895498417525325
         ]
        },
        {
         "hoverinfo": "text",
         "marker": {
          "color": "blue",
          "size": 0.5
         },
         "mode": "markers",
         "text": "Python appears with Power BI 120 times",
         "type": "scatter",
         "x": [
          0.5888228771113854
         ],
         "y": [
          -0.680652348405756
         ]
        },
        {
         "hoverinfo": "text",
         "marker": {
          "color": "green",
          "size": 0.5
         },
         "mode": "markers",
         "text": "Power BI appears with VBA 44 times",
         "type": "scatter",
         "x": [
          0.8997793077830403
         ],
         "y": [
          0.019929808967297128
         ]
        },
        {
         "hoverinfo": "text",
         "marker": {
          "color": "blue",
          "size": 0.5
         },
         "mode": "markers",
         "text": "VBA appears with Power BI 44 times",
         "type": "scatter",
         "x": [
          0.815703299498383
         ],
         "y": [
          -0.38030004889225466
         ]
        },
        {
         "hoverinfo": "text",
         "marker": {
          "color": "green",
          "size": 0.5
         },
         "mode": "markers",
         "text": "Power BI appears with Linux 14 times",
         "type": "scatter",
         "x": [
          0.8999772350261844
         ],
         "y": [
          0.006401283826244855
         ]
        },
        {
         "hoverinfo": "text",
         "marker": {
          "color": "blue",
          "size": 0.5
         },
         "mode": "markers",
         "text": "Linux appears with Power BI 14 times",
         "type": "scatter",
         "x": [
          0.860737463606081
         ],
         "y": [
          -0.2629277823756371
         ]
        },
        {
         "hoverinfo": "text",
         "marker": {
          "color": "green",
          "size": 0.5
         },
         "mode": "markers",
         "text": "Power BI appears with AWS 9 times",
         "type": "scatter",
         "x": [
          0.8999989387669708
         ],
         "y": [
          0.001382106481555426
         ]
        },
        {
         "hoverinfo": "text",
         "marker": {
          "color": "blue",
          "size": 0.5
         },
         "mode": "markers",
         "text": "AWS appears with Power BI 9 times",
         "type": "scatter",
         "x": [
          0.8928519818499415
         ],
         "y": [
          -0.11320485195711227
         ]
        },
        {
         "hoverinfo": "text",
         "marker": {
          "color": "green",
          "size": 0.5
         },
         "mode": "markers",
         "text": "Excel appears with SSIS/SSRS 724 times",
         "type": "scatter",
         "x": [
          0.47200616894026964
         ],
         "y": [
          0.7662964024986217
         ]
        },
        {
         "hoverinfo": "text",
         "marker": {
          "color": "blue",
          "size": 0.5
         },
         "mode": "markers",
         "text": "SSIS/SSRS appears with Excel 724 times",
         "type": "scatter",
         "x": [
          -0.11676947476277888
         ],
         "y": [
          0.8923927889464508
         ]
        },
        {
         "hoverinfo": "text",
         "marker": {
          "color": "green",
          "size": 0.5
         },
         "mode": "markers",
         "text": "Excel appears with MS SQL Server 295 times",
         "type": "scatter",
         "x": [
          0.737061448291849
         ],
         "y": [
          0.5164691873112296
         ]
        },
        {
         "hoverinfo": "text",
         "marker": {
          "color": "blue",
          "size": 0.5
         },
         "mode": "markers",
         "text": "MS SQL Server appears with Excel 295 times",
         "type": "scatter",
         "x": [
          -0.4405663528507375
         ],
         "y": [
          0.7847937873962813
         ]
        },
        {
         "hoverinfo": "text",
         "marker": {
          "color": "green",
          "size": 0.5
         },
         "mode": "markers",
         "text": "Excel appears with PostgreSQL 81 times",
         "type": "scatter",
         "x": [
          0.834388487517992
         ],
         "y": [
          0.3373364076073582
         ]
        },
        {
         "hoverinfo": "text",
         "marker": {
          "color": "blue",
          "size": 0.5
         },
         "mode": "markers",
         "text": "PostgreSQL appears with Excel 81 times",
         "type": "scatter",
         "x": [
          -0.5639621305316918
         ],
         "y": [
          0.7013891325977007
         ]
        },
        {
         "hoverinfo": "text",
         "marker": {
          "color": "green",
          "size": 0.5
         },
         "mode": "markers",
         "text": "Excel appears with MySQL/MariaDB 155 times",
         "type": "scatter",
         "x": [
          0.794999723591051
         ],
         "y": [
          0.421871354194798
         ]
        },
        {
         "hoverinfo": "text",
         "marker": {
          "color": "blue",
          "size": 0.5
         },
         "mode": "markers",
         "text": "MySQL/MariaDB appears with Excel 155 times",
         "type": "scatter",
         "x": [
          -0.6958346345143431
         ],
         "y": [
          0.5708013326984184
         ]
        },
        {
         "hoverinfo": "text",
         "marker": {
          "color": "green",
          "size": 0.5
         },
         "mode": "markers",
         "text": "Excel appears with T-SQL 201 times",
         "type": "scatter",
         "x": [
          0.7816738158662506
         ],
         "y": [
          0.44607851953338334
         ]
        },
        {
         "hoverinfo": "text",
         "marker": {
          "color": "blue",
          "size": 0.5
         },
         "mode": "markers",
         "text": "T-SQL appears with Excel 201 times",
         "type": "scatter",
         "x": [
          -0.8130018969395968
         ],
         "y": [
          0.38604133920166794
         ]
        },
        {
         "hoverinfo": "text",
         "marker": {
          "color": "green",
          "size": 0.5
         },
         "mode": "markers",
         "text": "Excel appears with PL/SQL 71 times",
         "type": "scatter",
         "x": [
          0.8429454241700116
         ],
         "y": [
          0.31534586071619697
         ]
        },
        {
         "hoverinfo": "text",
         "marker": {
          "color": "blue",
          "size": 0.5
         },
         "mode": "markers",
         "text": "PL/SQL appears with Excel 71 times",
         "type": "scatter",
         "x": [
          -0.851859931341539
         ],
         "y": [
          0.29040429985588767
         ]
        },
        {
         "hoverinfo": "text",
         "marker": {
          "color": "green",
          "size": 0.5
         },
         "mode": "markers",
         "text": "Excel appears with Pentaho 68 times",
         "type": "scatter",
         "x": [
          0.8466652654251076
         ],
         "y": [
          0.30521783749091774
         ]
        },
        {
         "hoverinfo": "text",
         "marker": {
          "color": "blue",
          "size": 0.5
         },
         "mode": "markers",
         "text": "Pentaho appears with Excel 68 times",
         "type": "scatter",
         "x": [
          -0.8813381653450323
         ],
         "y": [
          0.1823267350287733
         ]
        },
        {
         "hoverinfo": "text",
         "marker": {
          "color": "green",
          "size": 0.5
         },
         "mode": "markers",
         "text": "Excel appears with Hadoop 128 times",
         "type": "scatter",
         "x": [
          0.8050589896929238
         ],
         "y": [
          0.4023431658604491
         ]
        },
        {
         "hoverinfo": "text",
         "marker": {
          "color": "blue",
          "size": 0.5
         },
         "mode": "markers",
         "text": "Hadoop appears with Excel 128 times",
         "type": "scatter",
         "x": [
          -0.8985178580099513
         ],
         "y": [
          0.051630018760495756
         ]
        },
        {
         "hoverinfo": "text",
         "marker": {
          "color": "green",
          "size": 0.5
         },
         "mode": "markers",
         "text": "Excel appears with Spark 126 times",
         "type": "scatter",
         "x": [
          0.8136792210958768
         ],
         "y": [
          0.3846116549934588
         ]
        },
        {
         "hoverinfo": "text",
         "marker": {
          "color": "blue",
          "size": 0.5
         },
         "mode": "markers",
         "text": "Spark appears with Excel 126 times",
         "type": "scatter",
         "x": [
          -0.8816373548517861
         ],
         "y": [
          -0.18087447174752413
         ]
        },
        {
         "hoverinfo": "text",
         "marker": {
          "color": "green",
          "size": 0.5
         },
         "mode": "markers",
         "text": "Excel appears with Informatica 125 times",
         "type": "scatter",
         "x": [
          0.8218140644202053
         ],
         "y": [
          0.3669082222043309
         ]
        },
        {
         "hoverinfo": "text",
         "marker": {
          "color": "blue",
          "size": 0.5
         },
         "mode": "markers",
         "text": "Informatica appears with Excel 125 times",
         "type": "scatter",
         "x": [
          -0.821608051362477
         ],
         "y": [
          -0.3673693100088158
         ]
        },
        {
         "hoverinfo": "text",
         "marker": {
          "color": "green",
          "size": 0.5
         },
         "mode": "markers",
         "text": "Excel appears with Qlik 492 times",
         "type": "scatter",
         "x": [
          0.6147860625510656
         ],
         "y": [
          0.6572960499599533
         ]
        },
        {
         "hoverinfo": "text",
         "marker": {
          "color": "blue",
          "size": 0.5
         },
         "mode": "markers",
         "text": "Qlik appears with Excel 492 times",
         "type": "scatter",
         "x": [
          -0.6268702113264312
         ],
         "y": [
          -0.6457814941228616
         ]
        },
        {
         "hoverinfo": "text",
         "marker": {
          "color": "green",
          "size": 0.5
         },
         "mode": "markers",
         "text": "Excel appears with Tableau 551 times",
         "type": "scatter",
         "x": [
          0.5532519541075885
         ],
         "y": [
          0.7098677871802148
         ]
        },
        {
         "hoverinfo": "text",
         "marker": {
          "color": "blue",
          "size": 0.5
         },
         "mode": "markers",
         "text": "Tableau appears with Excel 551 times",
         "type": "scatter",
         "x": [
          -0.19402265068895472
         ],
         "y": [
          -0.8788374201293616
         ]
        },
        {
         "hoverinfo": "text",
         "marker": {
          "color": "green",
          "size": 0.5
         },
         "mode": "markers",
         "text": "Excel appears with Microstrategy 56 times",
         "type": "scatter",
         "x": [
          0.8498810056315649
         ],
         "y": [
          0.2961457010774934
         ]
        },
        {
         "hoverinfo": "text",
         "marker": {
          "color": "blue",
          "size": 0.5
         },
         "mode": "markers",
         "text": "Microstrategy appears with Excel 56 times",
         "type": "scatter",
         "x": [
          -0.09204088536449488
         ],
         "y": [
          -0.8952812270015048
         ]
        },
        {
         "hoverinfo": "text",
         "marker": {
          "color": "green",
          "size": 0.5
         },
         "mode": "markers",
         "text": "Excel appears with Oracle BI 768 times",
         "type": "scatter",
         "x": [
          0.3697671651084143
         ],
         "y": [
          0.8205316834880214
         ]
        },
        {
         "hoverinfo": "text",
         "marker": {
          "color": "blue",
          "size": 0.5
         },
         "mode": "markers",
         "text": "Oracle BI appears with Excel 768 times",
         "type": "scatter",
         "x": [
          0.4591760722554341
         ],
         "y": [
          -0.7740525399920036
         ]
        },
        {
         "hoverinfo": "text",
         "marker": {
          "color": "green",
          "size": 0.5
         },
         "mode": "markers",
         "text": "Excel appears with Python 491 times",
         "type": "scatter",
         "x": [
          0.6682377376853035
         ],
         "y": [
          0.6028750500171886
         ]
        },
        {
         "hoverinfo": "text",
         "marker": {
          "color": "blue",
          "size": 0.5
         },
         "mode": "markers",
         "text": "Python appears with Excel 491 times",
         "type": "scatter",
         "x": [
          0.7743906684893149
         ],
         "y": [
          -0.4586055958627979
         ]
        },
        {
         "hoverinfo": "text",
         "marker": {
          "color": "green",
          "size": 0.5
         },
         "mode": "markers",
         "text": "Excel appears with VBA 319 times",
         "type": "scatter",
         "x": [
          0.7086907608854639
         ],
         "y": [
          0.5547588714347724
         ]
        },
        {
         "hoverinfo": "text",
         "marker": {
          "color": "blue",
          "size": 0.5
         },
         "mode": "markers",
         "text": "VBA appears with Excel 319 times",
         "type": "scatter",
         "x": [
          0.8437714601236252
         ],
         "y": [
          -0.3131289240566025
         ]
        },
        {
         "hoverinfo": "text",
         "marker": {
          "color": "green",
          "size": 0.5
         },
         "mode": "markers",
         "text": "Excel appears with Linux 104 times",
         "type": "scatter",
         "x": [
          0.8289000182598969
         ],
         "y": [
          0.3506062745142231
         ]
        },
        {
         "hoverinfo": "text",
         "marker": {
          "color": "blue",
          "size": 0.5
         },
         "mode": "markers",
         "text": "Linux appears with Excel 104 times",
         "type": "scatter",
         "x": [
          0.8766578460396826
         ],
         "y": [
          -0.2036443492392169
         ]
        },
        {
         "hoverinfo": "text",
         "marker": {
          "color": "green",
          "size": 0.5
         },
         "mode": "markers",
         "text": "Excel appears with AWS 76 times",
         "type": "scatter",
         "x": [
          0.8388796941843693
         ],
         "y": [
          0.32600745188590263
         ]
        },
        {
         "hoverinfo": "text",
         "marker": {
          "color": "blue",
          "size": 0.5
         },
         "mode": "markers",
         "text": "AWS appears with Excel 76 times",
         "type": "scatter",
         "x": [
          0.8969928049746096
         ],
         "y": [
          -0.07351127684771891
         ]
        },
        {
         "hoverinfo": "text",
         "marker": {
          "color": "green",
          "size": 0.5
         },
         "mode": "markers",
         "text": "SSIS/SSRS appears with MS SQL Server 313 times",
         "type": "scatter",
         "x": [
          0.017253299279197776
         ],
         "y": [
          0.899834609061011
         ]
        },
        {
         "hoverinfo": "text",
         "marker": {
          "color": "blue",
          "size": 0.5
         },
         "mode": "markers",
         "text": "MS SQL Server appears with SSIS/SSRS 313 times",
         "type": "scatter",
         "x": [
          -0.47923765687482844
         ],
         "y": [
          0.7617947677905935
         ]
        },
        {
         "hoverinfo": "text",
         "marker": {
          "color": "green",
          "size": 0.5
         },
         "mode": "markers",
         "text": "SSIS/SSRS appears with PostgreSQL 66 times",
         "type": "scatter",
         "x": [
          0.26159551478635146
         ],
         "y": [
          0.8611433020372763
         ]
        },
        {
         "hoverinfo": "text",
         "marker": {
          "color": "blue",
          "size": 0.5
         },
         "mode": "markers",
         "text": "PostgreSQL appears with SSIS/SSRS 66 times",
         "type": "scatter",
         "x": [
          -0.5570069692597496
         ],
         "y": [
          0.7069251984446929
         ]
        },
        {
         "hoverinfo": "text",
         "marker": {
          "color": "green",
          "size": 0.5
         },
         "mode": "markers",
         "text": "SSIS/SSRS appears with MySQL/MariaDB 91 times",
         "type": "scatter",
         "x": [
          0.20547667235586836
         ],
         "y": [
          0.87623018500709
         ]
        },
        {
         "hoverinfo": "text",
         "marker": {
          "color": "blue",
          "size": 0.5
         },
         "mode": "markers",
         "text": "MySQL/MariaDB appears with SSIS/SSRS 91 times",
         "type": "scatter",
         "x": [
          -0.6643466668200214
         ],
         "y": [
          0.6071601982056526
         ]
        },
        {
         "hoverinfo": "text",
         "marker": {
          "color": "green",
          "size": 0.5
         },
         "mode": "markers",
         "text": "SSIS/SSRS appears with T-SQL 178 times",
         "type": "scatter",
         "x": [
          0.1514899009830226
         ],
         "y": [
          0.8871588414146331
         ]
        },
        {
         "hoverinfo": "text",
         "marker": {
          "color": "blue",
          "size": 0.5
         },
         "mode": "markers",
         "text": "T-SQL appears with SSIS/SSRS 178 times",
         "type": "scatter",
         "x": [
          -0.7883405943491848
         ],
         "y": [
          0.43418787097427547
         ]
        },
        {
         "hoverinfo": "text",
         "marker": {
          "color": "green",
          "size": 0.5
         },
         "mode": "markers",
         "text": "SSIS/SSRS appears with PL/SQL 76 times",
         "type": "scatter",
         "x": [
          0.22996023157584033
         ],
         "y": [
          0.8701254460671668
         ]
        },
        {
         "hoverinfo": "text",
         "marker": {
          "color": "blue",
          "size": 0.5
         },
         "mode": "markers",
         "text": "PL/SQL appears with SSIS/SSRS 76 times",
         "type": "scatter",
         "x": [
          -0.8543033676237812
         ],
         "y": [
          0.2831355789487901
         ]
        },
        {
         "hoverinfo": "text",
         "marker": {
          "color": "green",
          "size": 0.5
         },
         "mode": "markers",
         "text": "SSIS/SSRS appears with Pentaho 39 times",
         "type": "scatter",
         "x": [
          0.28146279282753256
         ],
         "y": [
          0.8548559505868375
         ]
        },
        {
         "hoverinfo": "text",
         "marker": {
          "color": "blue",
          "size": 0.5
         },
         "mode": "markers",
         "text": "Pentaho appears with SSIS/SSRS 39 times",
         "type": "scatter",
         "x": [
          -0.872528148849103
         ],
         "y": [
          0.22066859646528203
         ]
        },
        {
         "hoverinfo": "text",
         "marker": {
          "color": "green",
          "size": 0.5
         },
         "mode": "markers",
         "text": "SSIS/SSRS appears with Hadoop 76 times",
         "type": "scatter",
         "x": [
          0.2410769776077707
         ],
         "y": [
          0.8671112332725845
         ]
        },
        {
         "hoverinfo": "text",
         "marker": {
          "color": "blue",
          "size": 0.5
         },
         "mode": "markers",
         "text": "Hadoop appears with SSIS/SSRS 76 times",
         "type": "scatter",
         "x": [
          -0.8940861757823642
         ],
         "y": [
          0.10300441871525519
         ]
        },
        {
         "hoverinfo": "text",
         "marker": {
          "color": "green",
          "size": 0.5
         },
         "mode": "markers",
         "text": "SSIS/SSRS appears with Spark 70 times",
         "type": "scatter",
         "x": [
          0.2517177491086334
         ],
         "y": [
          0.8640822731567191
         ]
        },
        {
         "hoverinfo": "text",
         "marker": {
          "color": "blue",
          "size": 0.5
         },
         "mode": "markers",
         "text": "Spark appears with SSIS/SSRS 70 times",
         "type": "scatter",
         "x": [
          -0.8910902366689332
         ],
         "y": [
          -0.1263257302108511
         ]
        },
        {
         "hoverinfo": "text",
         "marker": {
          "color": "green",
          "size": 0.5
         },
         "mode": "markers",
         "text": "SSIS/SSRS appears with Informatica 83 times",
         "type": "scatter",
         "x": [
          0.21829125384740075
         ],
         "y": [
          0.8731259522507218
         ]
        },
        {
         "hoverinfo": "text",
         "marker": {
          "color": "blue",
          "size": 0.5
         },
         "mode": "markers",
         "text": "Informatica appears with SSIS/SSRS 83 times",
         "type": "scatter",
         "x": [
          -0.8361165085347889
         ],
         "y": [
          -0.3330303051609482
         ]
        },
        {
         "hoverinfo": "text",
         "marker": {
          "color": "green",
          "size": 0.5
         },
         "mode": "markers",
         "text": "SSIS/SSRS appears with Qlik 114 times",
         "type": "scatter",
         "x": [
          0.19032265646499996
         ],
         "y": [
          0.8796461143187673
         ]
        },
        {
         "hoverinfo": "text",
         "marker": {
          "color": "blue",
          "size": 0.5
         },
         "mode": "markers",
         "text": "Qlik appears with SSIS/SSRS 114 times",
         "type": "scatter",
         "x": [
          -0.753548207833565
         ],
         "y": [
          -0.49210273162300405
         ]
        },
        {
         "hoverinfo": "text",
         "marker": {
          "color": "green",
          "size": 0.5
         },
         "mode": "markers",
         "text": "SSIS/SSRS appears with Tableau 239 times",
         "type": "scatter",
         "x": [
          0.05904124206375669
         ],
         "y": [
          0.8980613184719454
         ]
        },
        {
         "hoverinfo": "text",
         "marker": {
          "color": "blue",
          "size": 0.5
         },
         "mode": "markers",
         "text": "Tableau appears with SSIS/SSRS 239 times",
         "type": "scatter",
         "x": [
          -0.4218834669902552
         ],
         "y": [
          -0.7949932957454938
         ]
        },
        {
         "hoverinfo": "text",
         "marker": {
          "color": "green",
          "size": 0.5
         },
         "mode": "markers",
         "text": "SSIS/SSRS appears with Microstrategy 43 times",
         "type": "scatter",
         "x": [
          0.2694875531373772
         ],
         "y": [
          0.8587062703299827
         ]
        },
        {
         "hoverinfo": "text",
         "marker": {
          "color": "blue",
          "size": 0.5
         },
         "mode": "markers",
         "text": "Microstrategy appears with SSIS/SSRS 43 times",
         "type": "scatter",
         "x": [
          -0.10253422190871578
         ],
         "y": [
          -0.8941402201766646
         ]
        },
        {
         "hoverinfo": "text",
         "marker": {
          "color": "green",
          "size": 0.5
         },
         "mode": "markers",
         "text": "SSIS/SSRS appears with Oracle BI 368 times",
         "type": "scatter",
         "x": [
          -0.03434194962954203
         ],
         "y": [
          0.8993445560493719
         ]
        },
        {
         "hoverinfo": "text",
         "marker": {
          "color": "blue",
          "size": 0.5
         },
         "mode": "markers",
         "text": "Oracle BI appears with SSIS/SSRS 368 times",
         "type": "scatter",
         "x": [
          0.24337880125597652
         ],
         "y": [
          -0.8664679792694038
         ]
        },
        {
         "hoverinfo": "text",
         "marker": {
          "color": "green",
          "size": 0.5
         },
         "mode": "markers",
         "text": "SSIS/SSRS appears with Python 227 times",
         "type": "scatter",
         "x": [
          0.09422312519081505
         ],
         "y": [
          0.8950541898004143
         ]
        },
        {
         "hoverinfo": "text",
         "marker": {
          "color": "blue",
          "size": 0.5
         },
         "mode": "markers",
         "text": "Python appears with SSIS/SSRS 227 times",
         "type": "scatter",
         "x": [
          0.6761042448586896
         ],
         "y": [
          -0.5940396031276545
         ]
        },
        {
         "hoverinfo": "text",
         "marker": {
          "color": "green",
          "size": 0.5
         },
         "mode": "markers",
         "text": "SSIS/SSRS appears with VBA 115 times",
         "type": "scatter",
         "x": [
          0.17332767476631453
         ],
         "y": [
          0.8831520351333074
         ]
        },
        {
         "hoverinfo": "text",
         "marker": {
          "color": "blue",
          "size": 0.5
         },
         "mode": "markers",
         "text": "VBA appears with SSIS/SSRS 115 times",
         "type": "scatter",
         "x": [
          0.8335882025534126
         ],
         "y": [
          -0.3393091636896516
         ]
        },
        {
         "hoverinfo": "text",
         "marker": {
          "color": "green",
          "size": 0.5
         },
         "mode": "markers",
         "text": "SSIS/SSRS appears with Linux 26 times",
         "type": "scatter",
         "x": [
          0.2861370417607833
         ],
         "y": [
          0.8533027559620253
         ]
        },
        {
         "hoverinfo": "text",
         "marker": {
          "color": "blue",
          "size": 0.5
         },
         "mode": "markers",
         "text": "Linux appears with SSIS/SSRS 26 times",
         "type": "scatter",
         "x": [
          0.8625973650806139
         ],
         "y": [
          -0.2567601716699499
         ]
        },
        {
         "hoverinfo": "text",
         "marker": {
          "color": "green",
          "size": 0.5
         },
         "mode": "markers",
         "text": "SSIS/SSRS appears with AWS 42 times",
         "type": "scatter",
         "x": [
          0.275626177159953
         ],
         "y": [
          0.8567556305412822
         ]
        },
        {
         "hoverinfo": "text",
         "marker": {
          "color": "blue",
          "size": 0.5
         },
         "mode": "markers",
         "text": "AWS appears with SSIS/SSRS 42 times",
         "type": "scatter",
         "x": [
          0.8951203525346713
         ],
         "y": [
          -0.09359249156960063
         ]
        },
        {
         "hoverinfo": "text",
         "marker": {
          "color": "green",
          "size": 0.5
         },
         "mode": "markers",
         "text": "MS SQL Server appears with PostgreSQL 108 times",
         "type": "scatter",
         "x": [
          -0.2752422942000719
         ],
         "y": [
          0.8568790343353495
         ]
        },
        {
         "hoverinfo": "text",
         "marker": {
          "color": "blue",
          "size": 0.5
         },
         "mode": "markers",
         "text": "PostgreSQL appears with MS SQL Server 108 times",
         "type": "scatter",
         "x": [
          -0.5728235418079054
         ],
         "y": [
          0.6941708650978136
         ]
        },
        {
         "hoverinfo": "text",
         "marker": {
          "color": "green",
          "size": 0.5
         },
         "mode": "markers",
         "text": "MS SQL Server appears with MySQL/MariaDB 113 times",
         "type": "scatter",
         "x": [
          -0.2907686067011953
         ],
         "y": [
          0.8517356499272798
         ]
        },
        {
         "hoverinfo": "text",
         "marker": {
          "color": "blue",
          "size": 0.5
         },
         "mode": "markers",
         "text": "MySQL/MariaDB appears with MS SQL Server 113 times",
         "type": "scatter",
         "x": [
          -0.6734149566376186
         ],
         "y": [
          0.5970865064433747
         ]
        },
        {
         "hoverinfo": "text",
         "marker": {
          "color": "green",
          "size": 0.5
         },
         "mode": "markers",
         "text": "MS SQL Server appears with T-SQL 221 times",
         "type": "scatter",
         "x": [
          -0.4068789370817979
         ],
         "y": [
          0.8027761397545311
         ]
        },
        {
         "hoverinfo": "text",
         "marker": {
          "color": "blue",
          "size": 0.5
         },
         "mode": "markers",
         "text": "T-SQL appears with MS SQL Server 221 times",
         "type": "scatter",
         "x": [
          -0.825479907561806
         ],
         "y": [
          0.35858460955784505
         ]
        },
        {
         "hoverinfo": "text",
         "marker": {
          "color": "green",
          "size": 0.5
         },
         "mode": "markers",
         "text": "MS SQL Server appears with PL/SQL 14 times",
         "type": "scatter",
         "x": [
          -0.19959961782974814
         ],
         "y": [
          0.8775875982272189
         ]
        },
        {
         "hoverinfo": "text",
         "marker": {
          "color": "blue",
          "size": 0.5
         },
         "mode": "markers",
         "text": "PL/SQL appears with MS SQL Server 14 times",
         "type": "scatter",
         "x": [
          -0.844340041372647
         ],
         "y": [
          0.31159251360524826
         ]
        },
        {
         "hoverinfo": "text",
         "marker": {
          "color": "green",
          "size": 0.5
         },
         "mode": "markers",
         "text": "MS SQL Server appears with Pentaho 54 times",
         "type": "scatter",
         "x": [
          -0.2160177151572148
         ],
         "y": [
          0.8736912193322401
         ]
        },
        {
         "hoverinfo": "text",
         "marker": {
          "color": "blue",
          "size": 0.5
         },
         "mode": "markers",
         "text": "Pentaho appears with MS SQL Server 54 times",
         "type": "scatter",
         "x": [
          -0.8785165859349734
         ],
         "y": [
          0.19547022340284595
         ]
        },
        {
         "hoverinfo": "text",
         "marker": {
          "color": "green",
          "size": 0.5
         },
         "mode": "markers",
         "text": "MS SQL Server appears with Hadoop 57 times",
         "type": "scatter",
         "x": [
          -0.23185932978235624
         ],
         "y": [
          0.8696213263213343
         ]
        },
        {
         "hoverinfo": "text",
         "marker": {
          "color": "blue",
          "size": 0.5
         },
         "mode": "markers",
         "text": "Hadoop appears with MS SQL Server 57 times",
         "type": "scatter",
         "x": [
          -0.8929748070356562
         ],
         "y": [
          0.11223187604077815
         ]
        },
        {
         "hoverinfo": "text",
         "marker": {
          "color": "green",
          "size": 0.5
         },
         "mode": "markers",
         "text": "MS SQL Server appears with Spark 55 times",
         "type": "scatter",
         "x": [
          -0.22384024268193178
         ],
         "y": [
          0.8717198780319823
         ]
        },
        {
         "hoverinfo": "text",
         "marker": {
          "color": "blue",
          "size": 0.5
         },
         "mode": "markers",
         "text": "Spark appears with MS SQL Server 55 times",
         "type": "scatter",
         "x": [
          -0.8944537192332849
         ],
         "y": [
          -0.09976243857155845
         ]
        },
        {
         "hoverinfo": "text",
         "marker": {
          "color": "green",
          "size": 0.5
         },
         "mode": "markers",
         "text": "MS SQL Server appears with Informatica 78 times",
         "type": "scatter",
         "x": [
          -0.2621042393753825
         ],
         "y": [
          0.8609885990542803
         ]
        },
        {
         "hoverinfo": "text",
         "marker": {
          "color": "blue",
          "size": 0.5
         },
         "mode": "markers",
         "text": "Informatica appears with MS SQL Server 78 times",
         "type": "scatter",
         "x": [
          -0.8399033655134108
         ],
         "y": [
          -0.32336100043024013
         ]
        },
        {
         "hoverinfo": "text",
         "marker": {
          "color": "green",
          "size": 0.5
         },
         "mode": "markers",
         "text": "MS SQL Server appears with Qlik 77 times",
         "type": "scatter",
         "x": [
          -0.2511088889743609
         ],
         "y": [
          0.8642594089034045
         ]
        },
        {
         "hoverinfo": "text",
         "marker": {
          "color": "blue",
          "size": 0.5
         },
         "mode": "markers",
         "text": "Qlik appears with MS SQL Server 77 times",
         "type": "scatter",
         "x": [
          -0.7754132439422954
         ],
         "y": [
          -0.45687449164829314
         ]
        },
        {
         "hoverinfo": "text",
         "marker": {
          "color": "green",
          "size": 0.5
         },
         "mode": "markers",
         "text": "MS SQL Server appears with Tableau 153 times",
         "type": "scatter",
         "x": [
          -0.3289808904511394
         ],
         "y": [
          0.8377180753200777
         ]
        },
        {
         "hoverinfo": "text",
         "marker": {
          "color": "blue",
          "size": 0.5
         },
         "mode": "markers",
         "text": "Tableau appears with MS SQL Server 153 times",
         "type": "scatter",
         "x": [
          -0.47475529135711203
         ],
         "y": [
          -0.7645962420313245
         ]
        },
        {
         "hoverinfo": "text",
         "marker": {
          "color": "green",
          "size": 0.5
         },
         "mode": "markers",
         "text": "MS SQL Server appears with Microstrategy 25 times",
         "type": "scatter",
         "x": [
          -0.20472006466273157
         ],
         "y": [
          0.8764072655589336
         ]
        },
        {
         "hoverinfo": "text",
         "marker": {
          "color": "blue",
          "size": 0.5
         },
         "mode": "markers",
         "text": "Microstrategy appears with MS SQL Server 25 times",
         "type": "scatter",
         "x": [
          -0.11543751824346818
         ],
         "y": [
          -0.8925660644354506
         ]
        },
        {
         "hoverinfo": "text",
         "marker": {
          "color": "green",
          "size": 0.5
         },
         "mode": "markers",
         "text": "MS SQL Server appears with Oracle BI 219 times",
         "type": "scatter",
         "x": [
          -0.377572241801244
         ],
         "y": [
          0.816969523434738
         ]
        },
        {
         "hoverinfo": "text",
         "marker": {
          "color": "blue",
          "size": 0.5
         },
         "mode": "markers",
         "text": "Oracle BI appears with MS SQL Server 219 times",
         "type": "scatter",
         "x": [
          0.12875209145790117
         ],
         "y": [
          -0.890742891605213
         ]
        },
        {
         "hoverinfo": "text",
         "marker": {
          "color": "green",
          "size": 0.5
         },
         "mode": "markers",
         "text": "MS SQL Server appears with Python 142 times",
         "type": "scatter",
         "x": [
          -0.3085639266589062
         ],
         "y": [
          0.8454515380344619
         ]
        },
        {
         "hoverinfo": "text",
         "marker": {
          "color": "blue",
          "size": 0.5
         },
         "mode": "markers",
         "text": "Python appears with MS SQL Server 142 times",
         "type": "scatter",
         "x": [
          0.6035580923272512
         ],
         "y": [
          -0.6676208723416976
         ]
        },
        {
         "hoverinfo": "text",
         "marker": {
          "color": "green",
          "size": 0.5
         },
         "mode": "markers",
         "text": "MS SQL Server appears with VBA 39 times",
         "type": "scatter",
         "x": [
          -0.20932970304692622
         ],
         "y": [
          0.8753176997081036
         ]
        },
        {
         "hoverinfo": "text",
         "marker": {
          "color": "blue",
          "size": 0.5
         },
         "mode": "markers",
         "text": "VBA appears with MS SQL Server 39 times",
         "type": "scatter",
         "x": [
          0.8134186174945334
         ],
         "y": [
          -0.3851625016967281
         ]
        },
        {
         "hoverinfo": "text",
         "marker": {
          "color": "green",
          "size": 0.5
         },
         "mode": "markers",
         "text": "MS SQL Server appears with Linux 68 times",
         "type": "scatter",
         "x": [
          -0.24078594807690754
         ],
         "y": [
          0.8671920936036633
         ]
        },
        {
         "hoverinfo": "text",
         "marker": {
          "color": "blue",
          "size": 0.5
         },
         "mode": "markers",
         "text": "Linux appears with MS SQL Server 68 times",
         "type": "scatter",
         "x": [
          0.8740304458877158
         ],
         "y": [
          -0.21464104840715045
         ]
        },
        {
         "hoverinfo": "text",
         "marker": {
          "color": "green",
          "size": 0.5
         },
         "mode": "markers",
         "text": "MS SQL Server appears with AWS 16 times",
         "type": "scatter",
         "x": [
          -0.20176402712308875
         ],
         "y": [
          0.8770925135691636
         ]
        },
        {
         "hoverinfo": "text",
         "marker": {
          "color": "blue",
          "size": 0.5
         },
         "mode": "markers",
         "text": "AWS appears with MS SQL Server 16 times",
         "type": "scatter",
         "x": [
          0.8936318798850775
         ],
         "y": [
          -0.10687405322650717
         ]
        },
        {
         "hoverinfo": "text",
         "marker": {
          "color": "green",
          "size": 0.5
         },
         "mode": "markers",
         "text": "PostgreSQL appears with MySQL/MariaDB 126 times",
         "type": "scatter",
         "x": [
          -0.5836666674829333
         ],
         "y": [
          0.6850789890730609
         ]
        },
        {
         "hoverinfo": "text",
         "marker": {
          "color": "blue",
          "size": 0.5
         },
         "mode": "markers",
         "text": "MySQL/MariaDB appears with PostgreSQL 126 times",
         "type": "scatter",
         "x": [
          -0.6838446433870152
         ],
         "y": [
          0.5851123855387834
         ]
        },
        {
         "hoverinfo": "text",
         "marker": {
          "color": "green",
          "size": 0.5
         },
         "mode": "markers",
         "text": "PostgreSQL appears with T-SQL 49 times",
         "type": "scatter",
         "x": [
          -0.5350404704646073
         ],
         "y": [
          0.723693094457182
         ]
        },
        {
         "hoverinfo": "text",
         "marker": {
          "color": "blue",
          "size": 0.5
         },
         "mode": "markers",
         "text": "T-SQL appears with PostgreSQL 49 times",
         "type": "scatter",
         "x": [
          -0.73968471748028
         ],
         "y": [
          0.5127050991809213
         ]
        },
        {
         "hoverinfo": "text",
         "marker": {
          "color": "green",
          "size": 0.5
         },
         "mode": "markers",
         "text": "PostgreSQL appears with PL/SQL 3 times",
         "type": "scatter",
         "x": [
          -0.5223166330308779
         ],
         "y": [
          0.7329292836688184
         ]
        },
        {
         "hoverinfo": "text",
         "marker": {
          "color": "blue",
          "size": 0.5
         },
         "mode": "markers",
         "text": "PL/SQL appears with PostgreSQL 3 times",
         "type": "scatter",
         "x": [
          -0.842244319327593
         ],
         "y": [
          0.31721366074051655
         ]
        },
        {
         "hoverinfo": "text",
         "marker": {
          "color": "green",
          "size": 0.5
         },
         "mode": "markers",
         "text": "PostgreSQL appears with Pentaho 55 times",
         "type": "scatter",
         "x": [
          -0.5452946141727639
         ],
         "y": [
          0.7159984523406294
         ]
        },
        {
         "hoverinfo": "text",
         "marker": {
          "color": "blue",
          "size": 0.5
         },
         "mode": "markers",
         "text": "Pentaho appears with PostgreSQL 55 times",
         "type": "scatter",
         "x": [
          -0.8798666918444926
         ],
         "y": [
          0.18930030264801145
         ]
        },
        {
         "hoverinfo": "text",
         "marker": {
          "color": "green",
          "size": 0.5
         },
         "mode": "markers",
         "text": "PostgreSQL appears with Hadoop 10 times",
         "type": "scatter",
         "x": [
          -0.5236454387956735
         ],
         "y": [
          0.7319805013991061
         ]
        },
        {
         "hoverinfo": "text",
         "marker": {
          "color": "blue",
          "size": 0.5
         },
         "mode": "markers",
         "text": "Hadoop appears with PostgreSQL 10 times",
         "type": "scatter",
         "x": [
          -0.8891348973515419
         ],
         "y": [
          0.13942429598768985
         ]
        },
        {
         "hoverinfo": "text",
         "marker": {
          "color": "green",
          "size": 0.5
         },
         "mode": "markers",
         "text": "PostgreSQL appears with Spark 20 times",
         "type": "scatter",
         "x": [
          -0.5279643759874411
         ],
         "y": [
          0.7288714685650632
         ]
        },
        {
         "hoverinfo": "text",
         "marker": {
          "color": "blue",
          "size": 0.5
         },
         "mode": "markers",
         "text": "Spark appears with PostgreSQL 20 times",
         "type": "scatter",
         "x": [
          -0.8962287247816462
         ],
         "y": [
          -0.08230475609747166
         ]
        },
        {
         "hoverinfo": "text",
         "marker": {
          "color": "green",
          "size": 0.5
         },
         "mode": "markers",
         "text": "PostgreSQL appears with Informatica 2 times",
         "type": "scatter",
         "x": [
          -0.5220703691086355
         ],
         "y": [
          0.7331047194628971
         ]
        },
        {
         "hoverinfo": "text",
         "marker": {
          "color": "blue",
          "size": 0.5
         },
         "mode": "markers",
         "text": "Informatica appears with PostgreSQL 2 times",
         "type": "scatter",
         "x": [
          -0.8534785553140496
         ],
         "y": [
          -0.2856122469696335
         ]
        },
        {
         "hoverinfo": "text",
         "marker": {
          "color": "green",
          "size": 0.5
         },
         "mode": "markers",
         "text": "PostgreSQL appears with Qlik 15 times",
         "type": "scatter",
         "x": [
          -0.5262488192719559
         ],
         "y": [
          0.7301110738886736
         ]
        },
        {
         "hoverinfo": "text",
         "marker": {
          "color": "blue",
          "size": 0.5
         },
         "mode": "markers",
         "text": "Qlik appears with PostgreSQL 15 times",
         "type": "scatter",
         "x": [
          -0.7965634377812223
         ],
         "y": [
          -0.41891131470773235
         ]
        },
        {
         "hoverinfo": "text",
         "marker": {
          "color": "green",
          "size": 0.5
         },
         "mode": "markers",
         "text": "PostgreSQL appears with Tableau 7 times",
         "type": "scatter",
         "x": [
          -0.5228089839879945
         ],
         "y": [
          0.7325781639261718
         ]
        },
        {
         "hoverinfo": "text",
         "marker": {
          "color": "blue",
          "size": 0.5
         },
         "mode": "markers",
         "text": "Tableau appears with PostgreSQL 7 times",
         "type": "scatter",
         "x": [
          -0.5785056928110084
         ],
         "y": [
          -0.6894426469150681
         ]
        },
        {
         "hoverinfo": "text",
         "marker": {
          "color": "green",
          "size": 0.5
         },
         "mode": "markers",
         "text": "PostgreSQL appears with Oracle BI 54 times",
         "type": "scatter",
         "x": [
          -0.5400361253302176
         ],
         "y": [
          0.7199729045862251
         ]
        },
        {
         "hoverinfo": "text",
         "marker": {
          "color": "blue",
          "size": 0.5
         },
         "mode": "markers",
         "text": "Oracle BI appears with PostgreSQL 54 times",
         "type": "scatter",
         "x": [
          -0.033446456214053975
         ],
         "y": [
          -0.8993783044785556
         ]
        },
        {
         "hoverinfo": "text",
         "marker": {
          "color": "green",
          "size": 0.5
         },
         "mode": "markers",
         "text": "PostgreSQL appears with Python 38 times",
         "type": "scatter",
         "x": [
          -0.5308008653399152
         ],
         "y": [
          0.7268083938387043
         ]
        },
        {
         "hoverinfo": "text",
         "marker": {
          "color": "blue",
          "size": 0.5
         },
         "mode": "markers",
         "text": "Python appears with PostgreSQL 38 times",
         "type": "scatter",
         "x": [
          0.5412802348290446
         ],
         "y": [
          -0.7190380430710286
         ]
        },
        {
         "hoverinfo": "text",
         "marker": {
          "color": "green",
          "size": 0.5
         },
         "mode": "markers",
         "text": "PostgreSQL appears with Linux 62 times",
         "type": "scatter",
         "x": [
          -0.5509064912992893
         ],
         "y": [
          0.7116895656424269
         ]
        },
        {
         "hoverinfo": "text",
         "marker": {
          "color": "blue",
          "size": 0.5
         },
         "mode": "markers",
         "text": "Linux appears with PostgreSQL 62 times",
         "type": "scatter",
         "x": [
          0.8697633065360075
         ],
         "y": [
          -0.23132615633246262
         ]
        },
        {
         "hoverinfo": "text",
         "marker": {
          "color": "green",
          "size": 0.5
         },
         "mode": "markers",
         "text": "PostgreSQL appears with AWS 14 times",
         "type": "scatter",
         "x": [
          -0.5248251527660398
         ],
         "y": [
          0.7311351168040713
         ]
        },
        {
         "hoverinfo": "text",
         "marker": {
          "color": "blue",
          "size": 0.5
         },
         "mode": "markers",
         "text": "AWS appears with PostgreSQL 14 times",
         "type": "scatter",
         "x": [
          0.8931917179159277
         ],
         "y": [
          -0.11049233026049352
         ]
        },
        {
         "hoverinfo": "text",
         "marker": {
          "color": "green",
          "size": 0.5
         },
         "mode": "markers",
         "text": "MySQL/MariaDB appears with T-SQL 47 times",
         "type": "scatter",
         "x": [
          -0.6233366735915113
         ],
         "y": [
          0.6491928768523803
         ]
        },
        {
         "hoverinfo": "text",
         "marker": {
          "color": "blue",
          "size": 0.5
         },
         "mode": "markers",
         "text": "T-SQL appears with MySQL/MariaDB 47 times",
         "type": "scatter",
         "x": [
          -0.7318650149252751
         ],
         "y": [
          0.5238068345568114
         ]
        },
        {
         "hoverinfo": "text",
         "marker": {
          "color": "green",
          "size": 0.5
         },
         "mode": "markers",
         "text": "MySQL/MariaDB appears with PL/SQL 1 times",
         "type": "scatter",
         "x": [
          -0.6105665077887337
         ],
         "y": [
          0.6612174676811482
         ]
        },
        {
         "hoverinfo": "text",
         "marker": {
          "color": "blue",
          "size": 0.5
         },
         "mode": "markers",
         "text": "PL/SQL appears with MySQL/MariaDB 1 times",
         "type": "scatter",
         "x": [
          -0.842060312750586
         ],
         "y": [
          0.3177017936530818
         ]
        },
        {
         "hoverinfo": "text",
         "marker": {
          "color": "green",
          "size": 0.5
         },
         "mode": "markers",
         "text": "MySQL/MariaDB appears with Pentaho 73 times",
         "type": "scatter",
         "x": [
          -0.6353055772061112
         ],
         "y": [
          0.6374847634028674
         ]
        },
        {
         "hoverinfo": "text",
         "marker": {
          "color": "blue",
          "size": 0.5
         },
         "mode": "markers",
         "text": "Pentaho appears with MySQL/MariaDB 73 times",
         "type": "scatter",
         "x": [
          -0.8829569773272414
         ],
         "y": [
          0.17431860540155017
         ]
        },
        {
         "hoverinfo": "text",
         "marker": {
          "color": "green",
          "size": 0.5
         },
         "mode": "markers",
         "text": "MySQL/MariaDB appears with Hadoop 16 times",
         "type": "scatter",
         "x": [
          -0.6146065960962066
         ],
         "y": [
          0.6574638636723955
         ]
        },
        {
         "hoverinfo": "text",
         "marker": {
          "color": "blue",
          "size": 0.5
         },
         "mode": "markers",
         "text": "Hadoop appears with MySQL/MariaDB 16 times",
         "type": "scatter",
         "x": [
          -0.8902727962649293
         ],
         "y": [
          0.13196343520317957
         ]
        },
        {
         "hoverinfo": "text",
         "marker": {
          "color": "green",
          "size": 0.5
         },
         "mode": "markers",
         "text": "MySQL/MariaDB appears with Spark 41 times",
         "type": "scatter",
         "x": [
          -0.6191060213212128
         ],
         "y": [
          0.6532286998929379
         ]
        },
        {
         "hoverinfo": "text",
         "marker": {
          "color": "blue",
          "size": 0.5
         },
         "mode": "markers",
         "text": "Spark appears with MySQL/MariaDB 41 times",
         "type": "scatter",
         "x": [
          -0.8958286639813711
         ],
         "y": [
          -0.08655059092433619
         ]
        },
        {
         "hoverinfo": "text",
         "marker": {
          "color": "green",
          "size": 0.5
         },
         "mode": "markers",
         "text": "MySQL/MariaDB appears with Informatica 11 times",
         "type": "scatter",
         "x": [
          -0.6122242642734975
         ],
         "y": [
          0.6596828406399357
         ]
        },
        {
         "hoverinfo": "text",
         "marker": {
          "color": "blue",
          "size": 0.5
         },
         "mode": "markers",
         "text": "Informatica appears with MySQL/MariaDB 11 times",
         "type": "scatter",
         "x": [
          -0.8529654659396427
         ],
         "y": [
          -0.2871409304059042
         ]
        },
        {
         "hoverinfo": "text",
         "marker": {
          "color": "green",
          "size": 0.5
         },
         "mode": "markers",
         "text": "MySQL/MariaDB appears with Qlik 18 times",
         "type": "scatter",
         "x": [
          -0.6162549181717137
         ],
         "y": [
          0.6559191076872014
         ]
        },
        {
         "hoverinfo": "text",
         "marker": {
          "color": "blue",
          "size": 0.5
         },
         "mode": "markers",
         "text": "Qlik appears with MySQL/MariaDB 18 times",
         "type": "scatter",
         "x": [
          -0.7932010259336036
         ],
         "y": [
          -0.42524361542282874
         ]
        },
        {
         "hoverinfo": "text",
         "marker": {
          "color": "green",
          "size": 0.5
         },
         "mode": "markers",
         "text": "MySQL/MariaDB appears with Tableau 73 times",
         "type": "scatter",
         "x": [
          -0.6421396089528879
         ],
         "y": [
          0.6306002875148664
         ]
        },
        {
         "hoverinfo": "text",
         "marker": {
          "color": "blue",
          "size": 0.5
         },
         "mode": "markers",
         "text": "Tableau appears with MySQL/MariaDB 73 times",
         "type": "scatter",
         "x": [
          -0.5484597783738958
         ],
         "y": [
          -0.7135768154207767
         ]
        },
        {
         "hoverinfo": "text",
         "marker": {
          "color": "green",
          "size": 0.5
         },
         "mode": "markers",
         "text": "MySQL/MariaDB appears with Oracle BI 84 times",
         "type": "scatter",
         "x": [
          -0.6564473473838403
         ],
         "y": [
          0.6156921959166933
         ]
        },
        {
         "hoverinfo": "text",
         "marker": {
          "color": "blue",
          "size": 0.5
         },
         "mode": "markers",
         "text": "Oracle BI appears with MySQL/MariaDB 84 times",
         "type": "scatter",
         "x": [
          0.00964279131013668
         ],
         "y": [
          -0.8999483410595017
         ]
        },
        {
         "hoverinfo": "text",
         "marker": {
          "color": "green",
          "size": 0.5
         },
         "mode": "markers",
         "text": "MySQL/MariaDB appears with Python 77 times",
         "type": "scatter",
         "x": [
          -0.6490831740597728
         ],
         "y": [
          0.6234509067701247
         ]
        },
        {
         "hoverinfo": "text",
         "marker": {
          "color": "blue",
          "size": 0.5
         },
         "mode": "markers",
         "text": "Python appears with MySQL/MariaDB 77 times",
         "type": "scatter",
         "x": [
          0.5685262123701711
         ],
         "y": [
          -0.6976947368642157
         ]
        },
        {
         "hoverinfo": "text",
         "marker": {
          "color": "green",
          "size": 0.5
         },
         "mode": "markers",
         "text": "MySQL/MariaDB appears with VBA 6 times",
         "type": "scatter",
         "x": [
          -0.6113958675278854
         ],
         "y": [
          0.6604506742897795
         ]
        },
        {
         "hoverinfo": "text",
         "marker": {
          "color": "blue",
          "size": 0.5
         },
         "mode": "markers",
         "text": "VBA appears with MySQL/MariaDB 6 times",
         "type": "scatter",
         "x": [
          0.8066782256858218
         ],
         "y": [
          -0.39908675774118885
         ]
        },
        {
         "hoverinfo": "text",
         "marker": {
          "color": "green",
          "size": 0.5
         },
         "mode": "markers",
         "text": "MySQL/MariaDB appears with Linux 66 times",
         "type": "scatter",
         "x": [
          -0.628730610461928
         ],
         "y": [
          0.6439703560476765
         ]
        },
        {
         "hoverinfo": "text",
         "marker": {
          "color": "blue",
          "size": 0.5
         },
         "mode": "markers",
         "text": "Linux appears with MySQL/MariaDB 66 times",
         "type": "scatter",
         "x": [
          0.8718879051963284
         ],
         "y": [
          -0.22318485784738684
         ]
        },
        {
         "hoverinfo": "text",
         "marker": {
          "color": "green",
          "size": 0.5
         },
         "mode": "markers",
         "text": "MySQL/MariaDB appears with AWS 11 times",
         "type": "scatter",
         "x": [
          -0.6132948754985909
         ],
         "y": [
          0.6586876313452136
         ]
        },
        {
         "hoverinfo": "text",
         "marker": {
          "color": "blue",
          "size": 0.5
         },
         "mode": "markers",
         "text": "AWS appears with MySQL/MariaDB 11 times",
         "type": "scatter",
         "x": [
          0.8930039928328631
         ],
         "y": [
          -0.11199941421527011
         ]
        },
        {
         "hoverinfo": "text",
         "marker": {
          "color": "green",
          "size": 0.5
         },
         "mode": "markers",
         "text": "T-SQL appears with PL/SQL 56 times",
         "type": "scatter",
         "x": [
          -0.7520416318255471
         ],
         "y": [
          0.4944020469225106
         ]
        },
        {
         "hoverinfo": "text",
         "marker": {
          "color": "blue",
          "size": 0.5
         },
         "mode": "markers",
         "text": "PL/SQL appears with T-SQL 56 times",
         "type": "scatter",
         "x": [
          -0.8496991338919844
         ],
         "y": [
          0.2966671229900808
         ]
        },
        {
         "hoverinfo": "text",
         "marker": {
          "color": "green",
          "size": 0.5
         },
         "mode": "markers",
         "text": "T-SQL appears with Pentaho 50 times",
         "type": "scatter",
         "x": [
          -0.7436925769407239
         ],
         "y": [
          0.506874097782936
         ]
        },
        {
         "hoverinfo": "text",
         "marker": {
          "color": "blue",
          "size": 0.5
         },
         "mode": "markers",
         "text": "Pentaho appears with T-SQL 50 times",
         "type": "scatter",
         "x": [
          -0.8771880769509316
         ],
         "y": [
          0.2013481503643043
         ]
        },
        {
         "hoverinfo": "text",
         "marker": {
          "color": "green",
          "size": 0.5
         },
         "mode": "markers",
         "text": "T-SQL appears with Hadoop 52 times",
         "type": "scatter",
         "x": [
          -0.7477738083944053
         ],
         "y": [
          0.5008336365294639
         ]
        },
        {
         "hoverinfo": "text",
         "marker": {
          "color": "blue",
          "size": 0.5
         },
         "mode": "markers",
         "text": "Hadoop appears with T-SQL 52 times",
         "type": "scatter",
         "x": [
          -0.8909571381702157
         ],
         "y": [
          0.12726106216568828
         ]
        },
        {
         "hoverinfo": "text",
         "marker": {
          "color": "green",
          "size": 0.5
         },
         "mode": "markers",
         "text": "T-SQL appears with Spark 47 times",
         "type": "scatter",
         "x": [
          -0.7357546454250374
         ],
         "y": [
          0.518329144208077
         ]
        },
        {
         "hoverinfo": "text",
         "marker": {
          "color": "blue",
          "size": 0.5
         },
         "mode": "markers",
         "text": "Spark appears with T-SQL 47 times",
         "type": "scatter",
         "x": [
          -0.8952160903059673
         ],
         "y": [
          -0.09267228095443807
         ]
        },
        {
         "hoverinfo": "text",
         "marker": {
          "color": "green",
          "size": 0.5
         },
         "mode": "markers",
         "text": "T-SQL appears with Informatica 19 times",
         "type": "scatter",
         "x": [
          -0.722091003994096
         ],
         "y": [
          0.5372006905717811
         ]
        },
        {
         "hoverinfo": "text",
         "marker": {
          "color": "blue",
          "size": 0.5
         },
         "mode": "markers",
         "text": "Informatica appears with T-SQL 19 times",
         "type": "scatter",
         "x": [
          -0.8504223372166672
         ],
         "y": [
          -0.29458759030709564
         ]
        },
        {
         "hoverinfo": "text",
         "marker": {
          "color": "green",
          "size": 0.5
         },
         "mode": "markers",
         "text": "T-SQL appears with Qlik 84 times",
         "type": "scatter",
         "x": [
          -0.7692995085709576
         ],
         "y": [
          0.4670955642183761
         ]
        },
        {
         "hoverinfo": "text",
         "marker": {
          "color": "blue",
          "size": 0.5
         },
         "mode": "markers",
         "text": "Qlik appears with T-SQL 84 times",
         "type": "scatter",
         "x": [
          -0.7693046560027651
         ],
         "y": [
          -0.4670870863687705
         ]
        },
        {
         "hoverinfo": "text",
         "marker": {
          "color": "green",
          "size": 0.5
         },
         "mode": "markers",
         "text": "T-SQL appears with Tableau 135 times",
         "type": "scatter",
         "x": [
          -0.777306091039497
         ],
         "y": [
          0.45364660346231755
         ]
        },
        {
         "hoverinfo": "text",
         "marker": {
          "color": "blue",
          "size": 0.5
         },
         "mode": "markers",
         "text": "Tableau appears with T-SQL 135 times",
         "type": "scatter",
         "x": [
          -0.49317647808395004
         ],
         "y": [
          -0.7528459081808914
         ]
        },
        {
         "hoverinfo": "text",
         "marker": {
          "color": "green",
          "size": 0.5
         },
         "mode": "markers",
         "text": "T-SQL appears with Microstrategy 21 times",
         "type": "scatter",
         "x": [
          -0.723793757393508
         ],
         "y": [
          0.5349042874741123
         ]
        },
        {
         "hoverinfo": "text",
         "marker": {
          "color": "blue",
          "size": 0.5
         },
         "mode": "markers",
         "text": "Microstrategy appears with T-SQL 21 times",
         "type": "scatter",
         "x": [
          -0.11780918131880318
         ],
         "y": [
          -0.8922561273518906
         ]
        },
        {
         "hoverinfo": "text",
         "marker": {
          "color": "green",
          "size": 0.5
         },
         "mode": "markers",
         "text": "T-SQL appears with Oracle BI 189 times",
         "type": "scatter",
         "x": [
          -0.8006580278759411
         ],
         "y": [
          0.41103129126358334
         ]
        },
        {
         "hoverinfo": "text",
         "marker": {
          "color": "blue",
          "size": 0.5
         },
         "mode": "markers",
         "text": "Oracle BI appears with T-SQL 189 times",
         "type": "scatter",
         "x": [
          0.09771474937826975
         ],
         "y": [
          -0.8946797347397235
         ]
        },
        {
         "hoverinfo": "text",
         "marker": {
          "color": "green",
          "size": 0.5
         },
         "mode": "markers",
         "text": "T-SQL appears with Python 78 times",
         "type": "scatter",
         "x": [
          -0.7572599646770677
         ],
         "y": [
          0.48637161296408554
         ]
        },
        {
         "hoverinfo": "text",
         "marker": {
          "color": "blue",
          "size": 0.5
         },
         "mode": "markers",
         "text": "Python appears with T-SQL 78 times",
         "type": "scatter",
         "x": [
          0.5775001061444788
         ],
         "y": [
          -0.6902851783162635
         ]
        },
        {
         "hoverinfo": "text",
         "marker": {
          "color": "green",
          "size": 0.5
         },
         "mode": "markers",
         "text": "T-SQL appears with VBA 27 times",
         "type": "scatter",
         "x": [
          -0.7258274199768989
         ],
         "y": [
          0.5321414815720331
         ]
        },
        {
         "hoverinfo": "text",
         "marker": {
          "color": "blue",
          "size": 0.5
         },
         "mode": "markers",
         "text": "VBA appears with T-SQL 27 times",
         "type": "scatter",
         "x": [
          0.8098384644055643
         ],
         "y": [
          -0.39263425929131257
         ]
        },
        {
         "hoverinfo": "text",
         "marker": {
          "color": "green",
          "size": 0.5
         },
         "mode": "markers",
         "text": "T-SQL appears with Linux 35 times",
         "type": "scatter",
         "x": [
          -0.7284386216212285
         ],
         "y": [
          0.5285614198279749
         ]
        },
        {
         "hoverinfo": "text",
         "marker": {
          "color": "blue",
          "size": 0.5
         },
         "mode": "markers",
         "text": "Linux appears with T-SQL 35 times",
         "type": "scatter",
         "x": [
          0.8649055417108722
         ],
         "y": [
          -0.2488742733145047
         ]
        },
        {
         "hoverinfo": "text",
         "marker": {
          "color": "green",
          "size": 0.5
         },
         "mode": "markers",
         "text": "T-SQL appears with AWS 19 times",
         "type": "scatter",
         "x": [
          -0.7204666394879323
         ],
         "y": [
          0.539377253306965
         ]
        },
        {
         "hoverinfo": "text",
         "marker": {
          "color": "blue",
          "size": 0.5
         },
         "mode": "markers",
         "text": "AWS appears with T-SQL 19 times",
         "type": "scatter",
         "x": [
          0.8938818726150354
         ],
         "y": [
          -0.10476257829128585
         ]
        },
        {
         "hoverinfo": "text",
         "marker": {
          "color": "green",
          "size": 0.5
         },
         "mode": "markers",
         "text": "PL/SQL appears with Pentaho 8 times",
         "type": "scatter",
         "x": [
          -0.8428129411983597
         ],
         "y": [
          0.31569977217060236
         ]
        },
        {
         "hoverinfo": "text",
         "marker": {
          "color": "blue",
          "size": 0.5
         },
         "mode": "markers",
         "text": "Pentaho appears with PL/SQL 8 times",
         "type": "scatter",
         "x": [
          -0.8676893808088183
         ],
         "y": [
          0.23898773699001727
         ]
        },
        {
         "hoverinfo": "text",
         "marker": {
          "color": "green",
          "size": 0.5
         },
         "mode": "markers",
         "text": "PL/SQL appears with Hadoop 9 times",
         "type": "scatter",
         "x": [
          -0.8431236109352671
         ],
         "y": [
          0.3148691421582565
         ]
        },
        {
         "hoverinfo": "text",
         "marker": {
          "color": "blue",
          "size": 0.5
         },
         "mode": "markers",
         "text": "Hadoop appears with PL/SQL 9 times",
         "type": "scatter",
         "x": [
          -0.8889282417339657
         ],
         "y": [
          0.14073585558684146
         ]
        },
        {
         "hoverinfo": "text",
         "marker": {
          "color": "green",
          "size": 0.5
         },
         "mode": "markers",
         "text": "PL/SQL appears with Informatica 38 times",
         "type": "scatter",
         "x": [
          -0.8480701452645394
         ],
         "y": [
          0.3012922646052885
         ]
        },
        {
         "hoverinfo": "text",
         "marker": {
          "color": "blue",
          "size": 0.5
         },
         "mode": "markers",
         "text": "Informatica appears with PL/SQL 38 times",
         "type": "scatter",
         "x": [
          -0.8443178218078055
         ],
         "y": [
          -0.3116527166217598
         ]
        },
        {
         "hoverinfo": "text",
         "marker": {
          "color": "green",
          "size": 0.5
         },
         "mode": "markers",
         "text": "PL/SQL appears with Qlik 20 times",
         "type": "scatter",
         "x": [
          -0.844952464980142
         ],
         "y": [
          0.30992794634234266
         ]
        },
        {
         "hoverinfo": "text",
         "marker": {
          "color": "blue",
          "size": 0.5
         },
         "mode": "markers",
         "text": "Qlik appears with PL/SQL 20 times",
         "type": "scatter",
         "x": [
          -0.7918700578836018
         ],
         "y": [
          -0.4277169758466703
         ]
        },
        {
         "hoverinfo": "text",
         "marker": {
          "color": "green",
          "size": 0.5
         },
         "mode": "markers",
         "text": "PL/SQL appears with Tableau 33 times",
         "type": "scatter",
         "x": [
          -0.8468230470284029
         ],
         "y": [
          0.30477980087520784
         ]
        },
        {
         "hoverinfo": "text",
         "marker": {
          "color": "blue",
          "size": 0.5
         },
         "mode": "markers",
         "text": "Tableau appears with PL/SQL 33 times",
         "type": "scatter",
         "x": [
          -0.5724391389896619
         ],
         "y": [
          -0.6944878920130821
         ]
        },
        {
         "hoverinfo": "text",
         "marker": {
          "color": "green",
          "size": 0.5
         },
         "mode": "markers",
         "text": "PL/SQL appears with Microstrategy 26 times",
         "type": "scatter",
         "x": [
          -0.8457758143545412
         ],
         "y": [
          0.30767397006070024
         ]
        },
        {
         "hoverinfo": "text",
         "marker": {
          "color": "blue",
          "size": 0.5
         },
         "mode": "markers",
         "text": "Microstrategy appears with PL/SQL 26 times",
         "type": "scatter",
         "x": [
          -0.1128071133568181
         ],
         "y": [
          -0.892902321184183
         ]
        },
        {
         "hoverinfo": "text",
         "marker": {
          "color": "green",
          "size": 0.5
         },
         "mode": "markers",
         "text": "PL/SQL appears with Oracle BI 111 times",
         "type": "scatter",
         "x": [
          -0.8573220298922439
         ],
         "y": [
          0.27385933809428975
         ]
        },
        {
         "hoverinfo": "text",
         "marker": {
          "color": "blue",
          "size": 0.5
         },
         "mode": "markers",
         "text": "Oracle BI appears with PL/SQL 111 times",
         "type": "scatter",
         "x": [
          0.052480269032103934
         ],
         "y": [
          -0.8984685978721337
         ]
        },
        {
         "hoverinfo": "text",
         "marker": {
          "color": "green",
          "size": 0.5
         },
         "mode": "markers",
         "text": "PL/SQL appears with Python 5 times",
         "type": "scatter",
         "x": [
          -0.8423913208572593
         ],
         "y": [
          0.3168230776701125
         ]
        },
        {
         "hoverinfo": "text",
         "marker": {
          "color": "blue",
          "size": 0.5
         },
         "mode": "markers",
         "text": "Python appears with PL/SQL 5 times",
         "type": "scatter",
         "x": [
          0.5321798104196269
         ],
         "y": [
          -0.7257993175676938
         ]
        },
        {
         "hoverinfo": "text",
         "marker": {
          "color": "green",
          "size": 0.5
         },
         "mode": "markers",
         "text": "PL/SQL appears with VBA 11 times",
         "type": "scatter",
         "x": [
          -0.8434880566567243
         ],
         "y": [
          0.3138915390345248
         ]
        },
        {
         "hoverinfo": "text",
         "marker": {
          "color": "blue",
          "size": 0.5
         },
         "mode": "markers",
         "text": "VBA appears with PL/SQL 11 times",
         "type": "scatter",
         "x": [
          0.8087623808207404
         ],
         "y": [
          -0.39484606034398745
         ]
        },
        {
         "hoverinfo": "text",
         "marker": {
          "color": "green",
          "size": 0.5
         },
         "mode": "markers",
         "text": "PL/SQL appears with Linux 5 times",
         "type": "scatter",
         "x": [
          -0.8425748180525612
         ],
         "y": [
          0.31633475304445036
         ]
        },
        {
         "hoverinfo": "text",
         "marker": {
          "color": "blue",
          "size": 0.5
         },
         "mode": "markers",
         "text": "Linux appears with PL/SQL 5 times",
         "type": "scatter",
         "x": [
          0.8599462521306585
         ],
         "y": [
          -0.26550413075211093
         ]
        },
        {
         "hoverinfo": "text",
         "marker": {
          "color": "green",
          "size": 0.5
         },
         "mode": "markers",
         "text": "PL/SQL appears with AWS 3 times",
         "type": "scatter",
         "x": [
          -0.8421339493332517
         ],
         "y": [
          0.3175065532872987
         ]
        },
        {
         "hoverinfo": "text",
         "marker": {
          "color": "blue",
          "size": 0.5
         },
         "mode": "markers",
         "text": "AWS appears with PL/SQL 3 times",
         "type": "scatter",
         "x": [
          0.8926209144978396
         ],
         "y": [
          -0.11501262105108445
         ]
        },
        {
         "hoverinfo": "text",
         "marker": {
          "color": "green",
          "size": 0.5
         },
         "mode": "markers",
         "text": "Pentaho appears with Spark 8 times",
         "type": "scatter",
         "x": [
          -0.8674427344772165
         ],
         "y": [
          0.23988143405167733
         ]
        },
        {
         "hoverinfo": "text",
         "marker": {
          "color": "blue",
          "size": 0.5
         },
         "mode": "markers",
         "text": "Spark appears with Pentaho 8 times",
         "type": "scatter",
         "x": [
          -0.896922427656269
         ],
         "y": [
          -0.07436503726338835
         ]
        },
        {
         "hoverinfo": "text",
         "marker": {
          "color": "green",
          "size": 0.5
         },
         "mode": "markers",
         "text": "Pentaho appears with Informatica 39 times",
         "type": "scatter",
         "x": [
          -0.8714089903889617
         ],
         "y": [
          0.22504748714280412
         ]
        },
        {
         "hoverinfo": "text",
         "marker": {
          "color": "blue",
          "size": 0.5
         },
         "mode": "markers",
         "text": "Informatica appears with Pentaho 39 times",
         "type": "scatter",
         "x": [
          -0.8425851787273065
         ],
         "y": [
          -0.3163071554503201
         ]
        },
        {
         "hoverinfo": "text",
         "marker": {
          "color": "green",
          "size": 0.5
         },
         "mode": "markers",
         "text": "Pentaho appears with Qlik 36 times",
         "type": "scatter",
         "x": [
          -0.869179988947638
         ],
         "y": [
          0.23350834420419303
         ]
        },
        {
         "hoverinfo": "text",
         "marker": {
          "color": "blue",
          "size": 0.5
         },
         "mode": "markers",
         "text": "Qlik appears with Pentaho 36 times",
         "type": "scatter",
         "x": [
          -0.7876879516342545
         ],
         "y": [
          -0.43537075102748035
         ]
        },
        {
         "hoverinfo": "text",
         "marker": {
          "color": "green",
          "size": 0.5
         },
         "mode": "markers",
         "text": "Pentaho appears with Tableau 44 times",
         "type": "scatter",
         "x": [
          -0.8759534707083865
         ],
         "y": [
          0.20665313245613307
         ]
        },
        {
         "hoverinfo": "text",
         "marker": {
          "color": "blue",
          "size": 0.5
         },
         "mode": "markers",
         "text": "Tableau appears with Pentaho 44 times",
         "type": "scatter",
         "x": [
          -0.5635527781497756
         ],
         "y": [
          -0.7017180817391483
         ]
        },
        {
         "hoverinfo": "text",
         "marker": {
          "color": "green",
          "size": 0.5
         },
         "mode": "markers",
         "text": "Pentaho appears with Microstrategy 7 times",
         "type": "scatter",
         "x": [
          -0.8672106675499104
         ],
         "y": [
          0.24071904388236282
         ]
        },
        {
         "hoverinfo": "text",
         "marker": {
          "color": "blue",
          "size": 0.5
         },
         "mode": "markers",
         "text": "Microstrategy appears with Pentaho 7 times",
         "type": "scatter",
         "x": [
          -0.12347714420306212
         ],
         "y": [
          -0.8914894249846468
         ]
        },
        {
         "hoverinfo": "text",
         "marker": {
          "color": "green",
          "size": 0.5
         },
         "mode": "markers",
         "text": "Pentaho appears with Oracle BI 40 times",
         "type": "scatter",
         "x": [
          -0.8736392263278464
         ],
         "y": [
          0.2162278941794559
         ]
        },
        {
         "hoverinfo": "text",
         "marker": {
          "color": "blue",
          "size": 0.5
         },
         "mode": "markers",
         "text": "Oracle BI appears with Pentaho 40 times",
         "type": "scatter",
         "x": [
          -0.04064874470765448
         ],
         "y": [
          -0.8990815755834907
         ]
        },
        {
         "hoverinfo": "text",
         "marker": {
          "color": "green",
          "size": 0.5
         },
         "mode": "markers",
         "text": "Pentaho appears with Python 38 times",
         "type": "scatter",
         "x": [
          -0.8702826249426951
         ],
         "y": [
          0.2293646719153849
         ]
        },
        {
         "hoverinfo": "text",
         "marker": {
          "color": "blue",
          "size": 0.5
         },
         "mode": "markers",
         "text": "Python appears with Pentaho 38 times",
         "type": "scatter",
         "x": [
          0.5458281766071756
         ],
         "y": [
          -0.7155917842049935
         ]
        },
        {
         "hoverinfo": "text",
         "marker": {
          "color": "green",
          "size": 0.5
         },
         "mode": "markers",
         "text": "Pentaho appears with VBA 1 times",
         "type": "scatter",
         "x": [
          -0.8670865677977669
         ],
         "y": [
          0.2411656773769614
         ]
        },
        {
         "hoverinfo": "text",
         "marker": {
          "color": "blue",
          "size": 0.5
         },
         "mode": "markers",
         "text": "VBA appears with Pentaho 1 times",
         "type": "scatter",
         "x": [
          0.8055556563579054
         ],
         "y": [
          -0.4013478348138735
         ]
        },
        {
         "hoverinfo": "text",
         "marker": {
          "color": "green",
          "size": 0.5
         },
         "mode": "markers",
         "text": "Pentaho appears with Linux 43 times",
         "type": "scatter",
         "x": [
          -0.8747822142565455
         ],
         "y": [
          0.21155632257253712
         ]
        },
        {
         "hoverinfo": "text",
         "marker": {
          "color": "blue",
          "size": 0.5
         },
         "mode": "markers",
         "text": "Linux appears with Pentaho 43 times",
         "type": "scatter",
         "x": [
          0.8663093279695993
         ],
         "y": [
          -0.24394292011218838
         ]
        },
        {
         "hoverinfo": "text",
         "marker": {
          "color": "green",
          "size": 0.5
         },
         "mode": "markers",
         "text": "Pentaho appears with AWS 15 times",
         "type": "scatter",
         "x": [
          -0.8684085785751613
         ],
         "y": [
          0.23636103878826545
         ]
        },
        {
         "hoverinfo": "text",
         "marker": {
          "color": "blue",
          "size": 0.5
         },
         "mode": "markers",
         "text": "AWS appears with Pentaho 15 times",
         "type": "scatter",
         "x": [
          0.8934062925576594
         ],
         "y": [
          -0.10874371898357175
         ]
        },
        {
         "hoverinfo": "text",
         "marker": {
          "color": "green",
          "size": 0.5
         },
         "mode": "markers",
         "text": "Hadoop appears with Spark 235 times",
         "type": "scatter",
         "x": [
          -0.8999748759819879
         ],
         "y": [
          0.0067247751788045386
         ]
        },
        {
         "hoverinfo": "text",
         "marker": {
          "color": "blue",
          "size": 0.5
         },
         "mode": "markers",
         "text": "Spark appears with Hadoop 235 times",
         "type": "scatter",
         "x": [
          -0.8762192048456682
         ],
         "y": [
          -0.20552349028669445
         ]
        },
        {
         "hoverinfo": "text",
         "marker": {
          "color": "green",
          "size": 0.5
         },
         "mode": "markers",
         "text": "Hadoop appears with Informatica 15 times",
         "type": "scatter",
         "x": [
          -0.8899525795606377
         ],
         "y": [
          0.13410595114821255
         ]
        },
        {
         "hoverinfo": "text",
         "marker": {
          "color": "blue",
          "size": 0.5
         },
         "mode": "markers",
         "text": "Informatica appears with Hadoop 15 times",
         "type": "scatter",
         "x": [
          -0.852428948485234
         ],
         "y": [
          -0.2887297833344498
         ]
        },
        {
         "hoverinfo": "text",
         "marker": {
          "color": "green",
          "size": 0.5
         },
         "mode": "markers",
         "text": "Hadoop appears with Qlik 15 times",
         "type": "scatter",
         "x": [
          -0.889637783079816
         ],
         "y": [
          0.13617861402155004
         ]
        },
        {
         "hoverinfo": "text",
         "marker": {
          "color": "blue",
          "size": 0.5
         },
         "mode": "markers",
         "text": "Qlik appears with Hadoop 15 times",
         "type": "scatter",
         "x": [
          -0.7955289062073777
         ],
         "y": [
          -0.420872616581898
         ]
        },
        {
         "hoverinfo": "text",
         "marker": {
          "color": "green",
          "size": 0.5
         },
         "mode": "markers",
         "text": "Hadoop appears with Tableau 89 times",
         "type": "scatter",
         "x": [
          -0.8964874204122391
         ],
         "y": [
          0.07943742847429995
         ]
        },
        {
         "hoverinfo": "text",
         "marker": {
          "color": "blue",
          "size": 0.5
         },
         "mode": "markers",
         "text": "Tableau appears with Hadoop 89 times",
         "type": "scatter",
         "x": [
          -0.5191449466414153
         ],
         "y": [
          -0.735179246426803
         ]
        },
        {
         "hoverinfo": "text",
         "marker": {
          "color": "green",
          "size": 0.5
         },
         "mode": "markers",
         "text": "Hadoop appears with Microstrategy 7 times",
         "type": "scatter",
         "x": [
          -0.8887527153528203
         ],
         "y": [
          0.14184008937176013
         ]
        },
        {
         "hoverinfo": "text",
         "marker": {
          "color": "blue",
          "size": 0.5
         },
         "mode": "markers",
         "text": "Microstrategy appears with Hadoop 7 times",
         "type": "scatter",
         "x": [
          -0.12275603929178087
         ],
         "y": [
          -0.8915890055498636
         ]
        },
        {
         "hoverinfo": "text",
         "marker": {
          "color": "green",
          "size": 0.5
         },
         "mode": "markers",
         "text": "Hadoop appears with Oracle BI 87 times",
         "type": "scatter",
         "x": [
          -0.8953181832217227
         ],
         "y": [
          0.09168070021849635
         ]
        },
        {
         "hoverinfo": "text",
         "marker": {
          "color": "blue",
          "size": 0.5
         },
         "mode": "markers",
         "text": "Oracle BI appears with Hadoop 87 times",
         "type": "scatter",
         "x": [
          0.02275373651402105
         ],
         "y": [
          -0.8997123248431416
         ]
        },
        {
         "hoverinfo": "text",
         "marker": {
          "color": "green",
          "size": 0.5
         },
         "mode": "markers",
         "text": "Hadoop appears with Python 254 times",
         "type": "scatter",
         "x": [
          -0.8995815109501348
         ],
         "y": [
          -0.027442761462222225
         ]
        },
        {
         "hoverinfo": "text",
         "marker": {
          "color": "blue",
          "size": 0.5
         },
         "mode": "markers",
         "text": "Python appears with Hadoop 254 times",
         "type": "scatter",
         "x": [
          0.7204273884681474
         ],
         "y": [
          -0.5394296784057818
         ]
        },
        {
         "hoverinfo": "text",
         "marker": {
          "color": "green",
          "size": 0.5
         },
         "mode": "markers",
         "text": "Hadoop appears with VBA 11 times",
         "type": "scatter",
         "x": [
          -0.8893610547813571
         ],
         "y": [
          0.13797432456146289
         ]
        },
        {
         "hoverinfo": "text",
         "marker": {
          "color": "blue",
          "size": 0.5
         },
         "mode": "markers",
         "text": "VBA appears with Hadoop 11 times",
         "type": "scatter",
         "x": [
          0.8081366235242317
         ],
         "y": [
          -0.3961252298438642
         ]
        },
        {
         "hoverinfo": "text",
         "marker": {
          "color": "green",
          "size": 0.5
         },
         "mode": "markers",
         "text": "Hadoop appears with Linux 140 times",
         "type": "scatter",
         "x": [
          -0.8993976221187483
         ],
         "y": [
          0.03292289973773977
         ]
        },
        {
         "hoverinfo": "text",
         "marker": {
          "color": "blue",
          "size": 0.5
         },
         "mode": "markers",
         "text": "Linux appears with Hadoop 140 times",
         "type": "scatter",
         "x": [
          0.8833830845332937
         ],
         "y": [
          -0.17214623423253755
         ]
        },
        {
         "hoverinfo": "text",
         "marker": {
          "color": "green",
          "size": 0.5
         },
         "mode": "markers",
         "text": "Hadoop appears with AWS 91 times",
         "type": "scatter",
         "x": [
          -0.8975100629880597
         ],
         "y": [
          0.06690057425141542
         ]
        },
        {
         "hoverinfo": "text",
         "marker": {
          "color": "blue",
          "size": 0.5
         },
         "mode": "markers",
         "text": "AWS appears with Hadoop 91 times",
         "type": "scatter",
         "x": [
          0.8977644447674196
         ],
         "y": [
          -0.0633955969405358
         ]
        },
        {
         "hoverinfo": "text",
         "marker": {
          "color": "green",
          "size": 0.5
         },
         "mode": "markers",
         "text": "Spark appears with Informatica 16 times",
         "type": "scatter",
         "x": [
          -0.8966630146047432
         ],
         "y": [
          -0.07743021529050655
         ]
        },
        {
         "hoverinfo": "text",
         "marker": {
          "color": "blue",
          "size": 0.5
         },
         "mode": "markers",
         "text": "Informatica appears with Spark 16 times",
         "type": "scatter",
         "x": [
          -0.8511585819239307
         ],
         "y": [
          -0.29245353206491337
         ]
        },
        {
         "hoverinfo": "text",
         "marker": {
          "color": "green",
          "size": 0.5
         },
         "mode": "markers",
         "text": "Spark appears with Qlik 17 times",
         "type": "scatter",
         "x": [
          -0.8964615804077933
         ],
         "y": [
          -0.0797285071524702
         ]
        },
        {
         "hoverinfo": "text",
         "marker": {
          "color": "blue",
          "size": 0.5
         },
         "mode": "markers",
         "text": "Qlik appears with Spark 17 times",
         "type": "scatter",
         "x": [
          -0.7944200832568782
         ],
         "y": [
          -0.4229618556301914
         ]
        },
        {
         "hoverinfo": "text",
         "marker": {
          "color": "green",
          "size": 0.5
         },
         "mode": "markers",
         "text": "Spark appears with Tableau 68 times",
         "type": "scatter",
         "x": [
          -0.8923932068190528
         ],
         "y": [
          -0.11676628119113595
         ]
        },
        {
         "hoverinfo": "text",
         "marker": {
          "color": "blue",
          "size": 0.5
         },
         "mode": "markers",
         "text": "Tableau appears with Spark 68 times",
         "type": "scatter",
         "x": [
          -0.5569025079776264
         ],
         "y": [
          -0.7070074940255088
         ]
        },
        {
         "hoverinfo": "text",
         "marker": {
          "color": "green",
          "size": 0.5
         },
         "mode": "markers",
         "text": "Spark appears with Microstrategy 3 times",
         "type": "scatter",
         "x": [
          -0.8969856438379946
         ],
         "y": [
          -0.07359860561544881
         ]
        },
        {
         "hoverinfo": "text",
         "marker": {
          "color": "blue",
          "size": 0.5
         },
         "mode": "markers",
         "text": "Microstrategy appears with Spark 3 times",
         "type": "scatter",
         "x": [
          -0.12471313585311342
         ],
         "y": [
          -0.891317358602245
         ]
        },
        {
         "hoverinfo": "text",
         "marker": {
          "color": "green",
          "size": 0.5
         },
         "mode": "markers",
         "text": "Spark appears with Oracle BI 77 times",
         "type": "scatter",
         "x": [
          -0.8895896596694403
         ],
         "y": [
          -0.1364926276734736
         ]
        },
        {
         "hoverinfo": "text",
         "marker": {
          "color": "blue",
          "size": 0.5
         },
         "mode": "markers",
         "text": "Oracle BI appears with Spark 77 times",
         "type": "scatter",
         "x": [
          -0.0027033525239221782
         ],
         "y": [
          -0.8999959399270262
         ]
        },
        {
         "hoverinfo": "text",
         "marker": {
          "color": "green",
          "size": 0.5
         },
         "mode": "markers",
         "text": "Spark appears with Python 275 times",
         "type": "scatter",
         "x": [
          -0.8673916036851089
         ],
         "y": [
          -0.24006625305647405
         ]
        },
        {
         "hoverinfo": "text",
         "marker": {
          "color": "blue",
          "size": 0.5
         },
         "mode": "markers",
         "text": "Python appears with Spark 275 times",
         "type": "scatter",
         "x": [
          0.7435239122127341
         ],
         "y": [
          -0.5071214765397642
         ]
        },
        {
         "hoverinfo": "text",
         "marker": {
          "color": "green",
          "size": 0.5
         },
         "mode": "markers",
         "text": "Spark appears with VBA 10 times",
         "type": "scatter",
         "x": [
          -0.8968175704256163
         ],
         "y": [
          -0.07561908076600028
         ]
        },
        {
         "hoverinfo": "text",
         "marker": {
          "color": "blue",
          "size": 0.5
         },
         "mode": "markers",
         "text": "VBA appears with Spark 10 times",
         "type": "scatter",
         "x": [
          0.8075374223913425
         ],
         "y": [
          -0.3973453302072978
         ]
        },
        {
         "hoverinfo": "text",
         "marker": {
          "color": "green",
          "size": 0.5
         },
         "mode": "markers",
         "text": "Spark appears with Linux 123 times",
         "type": "scatter",
         "x": [
          -0.8849707618995414
         ],
         "y": [
          -0.16378873765599752
         ]
        },
        {
         "hoverinfo": "text",
         "marker": {
          "color": "blue",
          "size": 0.5
         },
         "mode": "markers",
         "text": "Linux appears with Spark 123 times",
         "type": "scatter",
         "x": [
          0.8799135551359741
         ],
         "y": [
          -0.18908235107479246
         ]
        },
        {
         "hoverinfo": "text",
         "marker": {
          "color": "green",
          "size": 0.5
         },
         "mode": "markers",
         "text": "Spark appears with AWS 98 times",
         "type": "scatter",
         "x": [
          -0.8876520345193759
         ],
         "y": [
          -0.14857276201785005
         ]
        },
        {
         "hoverinfo": "text",
         "marker": {
          "color": "blue",
          "size": 0.5
         },
         "mode": "markers",
         "text": "AWS appears with Spark 98 times",
         "type": "scatter",
         "x": [
          0.8985001274896325
         ],
         "y": [
          -0.05193766360854433
         ]
        },
        {
         "hoverinfo": "text",
         "marker": {
          "color": "green",
          "size": 0.5
         },
         "mode": "markers",
         "text": "Informatica appears with Qlik 101 times",
         "type": "scatter",
         "x": [
          -0.8274501607437985
         ],
         "y": [
          -0.3540144509551298
         ]
        },
        {
         "hoverinfo": "text",
         "marker": {
          "color": "blue",
          "size": 0.5
         },
         "mode": "markers",
         "text": "Qlik appears with Informatica 101 times",
         "type": "scatter",
         "x": [
          -0.7621194723125381
         ],
         "y": [
          -0.47872111915191146
         ]
        },
        {
         "hoverinfo": "text",
         "marker": {
          "color": "green",
          "size": 0.5
         },
         "mode": "markers",
         "text": "Informatica appears with Tableau 84 times",
         "type": "scatter",
         "x": [
          -0.8320709208281666
         ],
         "y": [
          -0.3430130940826706
         ]
        },
        {
         "hoverinfo": "text",
         "marker": {
          "color": "blue",
          "size": 0.5
         },
         "mode": "markers",
         "text": "Tableau appears with Informatica 84 times",
         "type": "scatter",
         "x": [
          -0.5298109945913452
         ],
         "y": [
          -0.7275302811636981
         ]
        },
        {
         "hoverinfo": "text",
         "marker": {
          "color": "green",
          "size": 0.5
         },
         "mode": "markers",
         "text": "Informatica appears with Microstrategy 27 times",
         "type": "scatter",
         "x": [
          -0.8472499805336142
         ],
         "y": [
          -0.3035909591634611
         ]
        },
        {
         "hoverinfo": "text",
         "marker": {
          "color": "blue",
          "size": 0.5
         },
         "mode": "markers",
         "text": "Microstrategy appears with Informatica 27 times",
         "type": "scatter",
         "x": [
          -0.11007251794549294
         ],
         "y": [
          -0.8932435506585755
         ]
        },
        {
         "hoverinfo": "text",
         "marker": {
          "color": "green",
          "size": 0.5
         },
         "mode": "markers",
         "text": "Informatica appears with Oracle BI 146 times",
         "type": "scatter",
         "x": [
          -0.814318655950747
         ],
         "y": [
          -0.3832559543837106
         ]
        },
        {
         "hoverinfo": "text",
         "marker": {
          "color": "blue",
          "size": 0.5
         },
         "mode": "markers",
         "text": "Oracle BI appears with Informatica 146 times",
         "type": "scatter",
         "x": [
          0.07214070070533313
         ],
         "y": [
          -0.8971040738407912
         ]
        },
        {
         "hoverinfo": "text",
         "marker": {
          "color": "green",
          "size": 0.5
         },
         "mode": "markers",
         "text": "Informatica appears with Python 34 times",
         "type": "scatter",
         "x": [
          -0.845914695832949
         ],
         "y": [
          -0.3072919253313524
         ]
        },
        {
         "hoverinfo": "text",
         "marker": {
          "color": "blue",
          "size": 0.5
         },
         "mode": "markers",
         "text": "Python appears with Informatica 34 times",
         "type": "scatter",
         "x": [
          0.536951584628252
         ],
         "y": [
          -0.7222762600038914
         ]
        },
        {
         "hoverinfo": "text",
         "marker": {
          "color": "green",
          "size": 0.5
         },
         "mode": "markers",
         "text": "Informatica appears with VBA 6 times",
         "type": "scatter",
         "x": [
          -0.8533146647151171
         ],
         "y": [
          -0.28610152565501523
         ]
        },
        {
         "hoverinfo": "text",
         "marker": {
          "color": "blue",
          "size": 0.5
         },
         "mode": "markers",
         "text": "VBA appears with Informatica 6 times",
         "type": "scatter",
         "x": [
          0.8063334952880374
         ],
         "y": [
          -0.3997828090058107
         ]
        },
        {
         "hoverinfo": "text",
         "marker": {
          "color": "green",
          "size": 0.5
         },
         "mode": "markers",
         "text": "Informatica appears with Linux 15 times",
         "type": "scatter",
         "x": [
          -0.851806212372483
         ],
         "y": [
          -0.2905618291580027
         ]
        },
        {
         "hoverinfo": "text",
         "marker": {
          "color": "blue",
          "size": 0.5
         },
         "mode": "markers",
         "text": "Linux appears with Informatica 15 times",
         "type": "scatter",
         "x": [
          0.861824614526824
         ],
         "y": [
          -0.2593421172808057
         ]
        },
        {
         "hoverinfo": "text",
         "marker": {
          "color": "green",
          "size": 0.5
         },
         "mode": "markers",
         "text": "Informatica appears with AWS 25 times",
         "type": "scatter",
         "x": [
          -0.84948918172914
         ],
         "y": [
          -0.29726777512060787
         ]
        },
        {
         "hoverinfo": "text",
         "marker": {
          "color": "blue",
          "size": 0.5
         },
         "mode": "markers",
         "text": "AWS appears with Informatica 25 times",
         "type": "scatter",
         "x": [
          0.8941890707667497
         ],
         "y": [
          -0.10210732452325269
         ]
        },
        {
         "hoverinfo": "text",
         "marker": {
          "color": "green",
          "size": 0.5
         },
         "mode": "markers",
         "text": "Qlik appears with Tableau 397 times",
         "type": "scatter",
         "x": [
          -0.7118618273436318
         ],
         "y": [
          -0.5506838827957338
         ]
        },
        {
         "hoverinfo": "text",
         "marker": {
          "color": "blue",
          "size": 0.5
         },
         "mode": "markers",
         "text": "Tableau appears with Qlik 397 times",
         "type": "scatter",
         "x": [
          -0.34183103568951984
         ],
         "y": [
          -0.8325572310895091
         ]
        },
        {
         "hoverinfo": "text",
         "marker": {
          "color": "green",
          "size": 0.5
         },
         "mode": "markers",
         "text": "Qlik appears with Microstrategy 52 times",
         "type": "scatter",
         "x": [
          -0.7845209159462887
         ],
         "y": [
          -0.4410520745249888
         ]
        },
        {
         "hoverinfo": "text",
         "marker": {
          "color": "blue",
          "size": 0.5
         },
         "mode": "markers",
         "text": "Microstrategy appears with Qlik 52 times",
         "type": "scatter",
         "x": [
          -0.0976252149576452
         ],
         "y": [
          -0.8946895089384214
         ]
        },
        {
         "hoverinfo": "text",
         "marker": {
          "color": "green",
          "size": 0.5
         },
         "mode": "markers",
         "text": "Qlik appears with Oracle BI 419 times",
         "type": "scatter",
         "x": [
          -0.6733872099093238
         ],
         "y": [
          -0.5971177987051938
         ]
        },
        {
         "hoverinfo": "text",
         "marker": {
          "color": "blue",
          "size": 0.5
         },
         "mode": "markers",
         "text": "Oracle BI appears with Qlik 419 times",
         "type": "scatter",
         "x": [
          0.3008910463909864
         ],
         "y": [
          -0.8482125784269751
         ]
        },
        {
         "hoverinfo": "text",
         "marker": {
          "color": "green",
          "size": 0.5
         },
         "mode": "markers",
         "text": "Qlik appears with Python 59 times",
         "type": "scatter",
         "x": [
          -0.7804677120007034
         ],
         "y": [
          -0.44818539749124714
         ]
        },
        {
         "hoverinfo": "text",
         "marker": {
          "color": "blue",
          "size": 0.5
         },
         "mode": "markers",
         "text": "Python appears with Qlik 59 times",
         "type": "scatter",
         "x": [
          0.5516008891902566
         ],
         "y": [
          -0.7111515021741276
         ]
        },
        {
         "hoverinfo": "text",
         "marker": {
          "color": "green",
          "size": 0.5
         },
         "mode": "markers",
         "text": "Qlik appears with VBA 31 times",
         "type": "scatter",
         "x": [
          -0.7900716395821338
         ],
         "y": [
          -0.4310299343757914
         ]
        },
        {
         "hoverinfo": "text",
         "marker": {
          "color": "blue",
          "size": 0.5
         },
         "mode": "markers",
         "text": "VBA appears with Qlik 31 times",
         "type": "scatter",
         "x": [
          0.8114692430888599
         ],
         "y": [
          -0.389252703935108
         ]
        },
        {
         "hoverinfo": "text",
         "marker": {
          "color": "green",
          "size": 0.5
         },
         "mode": "markers",
         "text": "Qlik appears with Linux 3 times",
         "type": "scatter",
         "x": [
          -0.797456120738508
         ],
         "y": [
          -0.41720946237674206
         ]
        },
        {
         "hoverinfo": "text",
         "marker": {
          "color": "blue",
          "size": 0.5
         },
         "mode": "markers",
         "text": "Linux appears with Qlik 3 times",
         "type": "scatter",
         "x": [
          0.8595964546468404
         ],
         "y": [
          -0.2666344598107726
         ]
        },
        {
         "hoverinfo": "text",
         "marker": {
          "color": "green",
          "size": 0.5
         },
         "mode": "markers",
         "text": "Qlik appears with AWS 4 times",
         "type": "scatter",
         "x": [
          -0.7972161405326438
         ],
         "y": [
          -0.41766784084273967
         ]
        },
        {
         "hoverinfo": "text",
         "marker": {
          "color": "blue",
          "size": 0.5
         },
         "mode": "markers",
         "text": "AWS appears with Qlik 4 times",
         "type": "scatter",
         "x": [
          0.8926751576338589
         ],
         "y": [
          -0.11459085017297503
         ]
        },
        {
         "hoverinfo": "text",
         "marker": {
          "color": "green",
          "size": 0.5
         },
         "mode": "markers",
         "text": "Tableau appears with Microstrategy 75 times",
         "type": "scatter",
         "x": [
          -0.5395145762228742
         ],
         "y": [
          -0.7203638122803313
         ]
        },
        {
         "hoverinfo": "text",
         "marker": {
          "color": "blue",
          "size": 0.5
         },
         "mode": "markers",
         "text": "Microstrategy appears with Tableau 75 times",
         "type": "scatter",
         "x": [
          -0.08526251185689192
         ],
         "y": [
          -0.8959521773352936
         ]
        },
        {
         "hoverinfo": "text",
         "marker": {
          "color": "green",
          "size": 0.5
         },
         "mode": "markers",
         "text": "Tableau appears with Oracle BI 548 times",
         "type": "scatter",
         "x": [
          -0.2744935731278773
         ],
         "y": [
          -0.857119173925943
         ]
        },
        {
         "hoverinfo": "text",
         "marker": {
          "color": "blue",
          "size": 0.5
         },
         "mode": "markers",
         "text": "Oracle BI appears with Tableau 548 times",
         "type": "scatter",
         "x": [
          0.36967893531393076
         ],
         "y": [
          -0.8205714379535511
         ]
        },
        {
         "hoverinfo": "text",
         "marker": {
          "color": "green",
          "size": 0.5
         },
         "mode": "markers",
         "text": "Tableau appears with Python 206 times",
         "type": "scatter",
         "x": [
          -0.45140223871266105
         ],
         "y": [
          -0.7786115969372649
         ]
        },
        {
         "hoverinfo": "text",
         "marker": {
          "color": "blue",
          "size": 0.5
         },
         "mode": "markers",
         "text": "Python appears with Tableau 206 times",
         "type": "scatter",
         "x": [
          0.6542096568813611
         ],
         "y": [
          -0.6180693527778026
         ]
        },
        {
         "hoverinfo": "text",
         "marker": {
          "color": "green",
          "size": 0.5
         },
         "mode": "markers",
         "text": "Tableau appears with VBA 95 times",
         "type": "scatter",
         "x": [
          -0.5076795979986293
         ],
         "y": [
          -0.7431429376478997
         ]
        },
        {
         "hoverinfo": "text",
         "marker": {
          "color": "blue",
          "size": 0.5
         },
         "mode": "markers",
         "text": "VBA appears with Tableau 95 times",
         "type": "scatter",
         "x": [
          0.8234833226780425
         ],
         "y": [
          -0.3631462753094557
         ]
        },
        {
         "hoverinfo": "text",
         "marker": {
          "color": "green",
          "size": 0.5
         },
         "mode": "markers",
         "text": "Tableau appears with Linux 32 times",
         "type": "scatter",
         "x": [
          -0.5762359208580493
         ],
         "y": [
          -0.6913408446727822
         ]
        },
        {
         "hoverinfo": "text",
         "marker": {
          "color": "blue",
          "size": 0.5
         },
         "mode": "markers",
         "text": "Linux appears with Tableau 32 times",
         "type": "scatter",
         "x": [
          0.8636773116568324
         ],
         "y": [
          -0.2531037363004087
         ]
        },
        {
         "hoverinfo": "text",
         "marker": {
          "color": "green",
          "size": 0.5
         },
         "mode": "markers",
         "text": "Tableau appears with AWS 37 times",
         "type": "scatter",
         "x": [
          -0.5683310793754968
         ],
         "y": [
          -0.6978536982891779
         ]
        },
        {
         "hoverinfo": "text",
         "marker": {
          "color": "blue",
          "size": 0.5
         },
         "mode": "markers",
         "text": "AWS appears with Tableau 37 times",
         "type": "scatter",
         "x": [
          0.8946085529707115
         ],
         "y": [
          -0.09836430730529067
         ]
        },
        {
         "hoverinfo": "text",
         "marker": {
          "color": "green",
          "size": 0.5
         },
         "mode": "markers",
         "text": "Microstrategy appears with Oracle BI 75 times",
         "type": "scatter",
         "x": [
          -0.07749504085639057
         ],
         "y": [
          -0.8966574143131067
         ]
        },
        {
         "hoverinfo": "text",
         "marker": {
          "color": "blue",
          "size": 0.5
         },
         "mode": "markers",
         "text": "Oracle BI appears with Microstrategy 75 times",
         "type": "scatter",
         "x": [
          -0.014358912112290949
         ],
         "y": [
          -0.8998854491783671
         ]
        },
        {
         "hoverinfo": "text",
         "marker": {
          "color": "green",
          "size": 0.5
         },
         "mode": "markers",
         "text": "Microstrategy appears with Python 20 times",
         "type": "scatter",
         "x": [
          -0.11992235412784603
         ],
         "y": [
          -0.8919745674515813
         ]
        },
        {
         "hoverinfo": "text",
         "marker": {
          "color": "blue",
          "size": 0.5
         },
         "mode": "markers",
         "text": "Python appears with Microstrategy 20 times",
         "type": "scatter",
         "x": [
          0.5336923754089724
         ],
         "y": [
          -0.7246878282614718
         ]
        },
        {
         "hoverinfo": "text",
         "marker": {
          "color": "green",
          "size": 0.5
         },
         "mode": "markers",
         "text": "Microstrategy appears with VBA 7 times",
         "type": "scatter",
         "x": [
          -0.12419816833459067
         ],
         "y": [
          -0.8913892611998041
         ]
        },
        {
         "hoverinfo": "text",
         "marker": {
          "color": "blue",
          "size": 0.5
         },
         "mode": "markers",
         "text": "VBA appears with Microstrategy 7 times",
         "type": "scatter",
         "x": [
          0.8070510055637048
         ],
         "y": [
          -0.3983323667725396
         ]
        },
        {
         "hoverinfo": "text",
         "marker": {
          "color": "green",
          "size": 0.5
         },
         "mode": "markers",
         "text": "Microstrategy appears with Linux 14 times",
         "type": "scatter",
         "x": [
          -0.12167423149480062
         ],
         "y": [
          -0.8917372827184864
         ]
        },
        {
         "hoverinfo": "text",
         "marker": {
          "color": "blue",
          "size": 0.5
         },
         "mode": "markers",
         "text": "Linux appears with Microstrategy 14 times",
         "type": "scatter",
         "x": [
          0.8612733680412816
         ],
         "y": [
          -0.26116696862893474
         ]
        },
        {
         "hoverinfo": "text",
         "marker": {
          "color": "green",
          "size": 0.5
         },
         "mode": "markers",
         "text": "Microstrategy appears with AWS 2 times",
         "type": "scatter",
         "x": [
          -0.12497060401310135
         ],
         "y": [
          -0.891281295738108
         ]
        },
        {
         "hoverinfo": "text",
         "marker": {
          "color": "blue",
          "size": 0.5
         },
         "mode": "markers",
         "text": "AWS appears with Microstrategy 2 times",
         "type": "scatter",
         "x": [
          0.8925820473929381
         ],
         "y": [
          -0.11531387024911968
         ]
        },
        {
         "hoverinfo": "text",
         "marker": {
          "color": "green",
          "size": 0.5
         },
         "mode": "markers",
         "text": "Oracle BI appears with Python 228 times",
         "type": "scatter",
         "x": [
          0.1625762666411796
         ],
         "y": [
          -0.8851943049551415
         ]
        },
        {
         "hoverinfo": "text",
         "marker": {
          "color": "blue",
          "size": 0.5
         },
         "mode": "markers",
         "text": "Python appears with Oracle BI 228 times",
         "type": "scatter",
         "x": [
          0.6981602793880856
         ],
         "y": [
          -0.5679544209571314
         ]
        },
        {
         "hoverinfo": "text",
         "marker": {
          "color": "green",
          "size": 0.5
         },
         "mode": "markers",
         "text": "Oracle BI appears with VBA 95 times",
         "type": "scatter",
         "x": [
          0.03670270390378311
         ],
         "y": [
          -0.8992513061019991
         ]
        },
        {
         "hoverinfo": "text",
         "marker": {
          "color": "blue",
          "size": 0.5
         },
         "mode": "markers",
         "text": "VBA appears with Oracle BI 95 times",
         "type": "scatter",
         "x": [
          0.8283686378983732
         ],
         "y": [
          -0.3518599149468349
         ]
        },
        {
         "hoverinfo": "text",
         "marker": {
          "color": "green",
          "size": 0.5
         },
         "mode": "markers",
         "text": "Oracle BI appears with Linux 11 times",
         "type": "scatter",
         "x": [
          -0.04455530762060119
         ],
         "y": [
          -0.8988964481867939
         ]
        },
        {
         "hoverinfo": "text",
         "marker": {
          "color": "blue",
          "size": 0.5
         },
         "mode": "markers",
         "text": "Linux appears with Oracle BI 11 times",
         "type": "scatter",
         "x": [
          0.8602559354637199
         ],
         "y": [
          -0.2644990085036995
         ]
        },
        {
         "hoverinfo": "text",
         "marker": {
          "color": "green",
          "size": 0.5
         },
         "mode": "markers",
         "text": "Oracle BI appears with AWS 60 times",
         "type": "scatter",
         "x": [
          -0.024708931000698407
         ],
         "y": [
          -0.8996607520220068
         ]
        },
        {
         "hoverinfo": "text",
         "marker": {
          "color": "blue",
          "size": 0.5
         },
         "mode": "markers",
         "text": "AWS appears with Oracle BI 60 times",
         "type": "scatter",
         "x": [
          0.896280194805653
         ],
         "y": [
          -0.08174235376560109
         ]
        },
        {
         "hoverinfo": "text",
         "marker": {
          "color": "green",
          "size": 0.5
         },
         "mode": "markers",
         "text": "Python appears with VBA 76 times",
         "type": "scatter",
         "x": [
          0.5595748784971583
         ],
         "y": [
          -0.7048942866521835
         ]
        },
        {
         "hoverinfo": "text",
         "marker": {
          "color": "blue",
          "size": 0.5
         },
         "mode": "markers",
         "text": "VBA appears with Python 76 times",
         "type": "scatter",
         "x": [
          0.818955042521766
         ],
         "y": [
          -0.37324608280352056
         ]
        },
        {
         "hoverinfo": "text",
         "marker": {
          "color": "green",
          "size": 0.5
         },
         "mode": "markers",
         "text": "Python appears with Linux 152 times",
         "type": "scatter",
         "x": [
          0.635461570364398
         ],
         "y": [
          -0.6373292654429211
         ]
        },
        {
         "hoverinfo": "text",
         "marker": {
          "color": "blue",
          "size": 0.5
         },
         "mode": "markers",
         "text": "Linux appears with Python 152 times",
         "type": "scatter",
         "x": [
          0.8868532955259073
         ],
         "y": [
          -0.15326849713766325
         ]
        },
        {
         "hoverinfo": "text",
         "marker": {
          "color": "green",
          "size": 0.5
         },
         "mode": "markers",
         "text": "Python appears with AWS 146 times",
         "type": "scatter",
         "x": [
          0.6194226513345737
         ],
         "y": [
          -0.6529284639328011
         ]
        },
        {
         "hoverinfo": "text",
         "marker": {
          "color": "blue",
          "size": 0.5
         },
         "mode": "markers",
         "text": "AWS appears with Python 146 times",
         "type": "scatter",
         "x": [
          0.8992336331906178
         ],
         "y": [
          -0.03713317840962907
         ]
        },
        {
         "hoverinfo": "text",
         "marker": {
          "color": "green",
          "size": 0.5
         },
         "mode": "markers",
         "text": "VBA appears with Linux 5 times",
         "type": "scatter",
         "x": [
          0.8060169648107318
         ],
         "y": [
          -0.4004205944220347
         ]
        },
        {
         "hoverinfo": "text",
         "marker": {
          "color": "blue",
          "size": 0.5
         },
         "mode": "markers",
         "text": "Linux appears with VBA 5 times",
         "type": "scatter",
         "x": [
          0.8597521036539736
         ],
         "y": [
          -0.2661321481192511
         ]
        },
        {
         "hoverinfo": "text",
         "marker": {
          "color": "green",
          "size": 0.5
         },
         "mode": "markers",
         "text": "VBA appears with AWS 5 times",
         "type": "scatter",
         "x": [
          0.8057287720638936
         ],
         "y": [
          -0.40100018188076947
         ]
        },
        {
         "hoverinfo": "text",
         "marker": {
          "color": "blue",
          "size": 0.5
         },
         "mode": "markers",
         "text": "AWS appears with VBA 5 times",
         "type": "scatter",
         "x": [
          0.8927446059723679
         ],
         "y": [
          -0.11404853575229096
         ]
        },
        {
         "hoverinfo": "text",
         "marker": {
          "color": "green",
          "size": 0.5
         },
         "mode": "markers",
         "text": "Linux appears with AWS 47 times",
         "type": "scatter",
         "x": [
          0.867894140947834
         ],
         "y": [
          -0.23824306938171624
         ]
        },
        {
         "hoverinfo": "text",
         "marker": {
          "color": "blue",
          "size": 0.5
         },
         "mode": "markers",
         "text": "AWS appears with Linux 47 times",
         "type": "scatter",
         "x": [
          0.8956664469295931
         ],
         "y": [
          -0.08821346747814966
         ]
        }
       ],
       "layout": {
        "autosize": false,
        "font": {
         "color": "#655643",
         "family": "Fira Sans Condensed",
         "size": 12
        },
        "height": 525,
        "hidesources": true,
        "hoverdistance": 40,
        "hovermode": "closest",
        "margin": {
         "b": 10,
         "l": 280,
         "r": 280,
         "t": 80
        },
        "paper_bgcolor": "#fffaf0",
        "plot_bgcolor": "#fffaf0",
        "shapes": [
         {
          "fillcolor": "#f2e6ce",
          "layer": "below",
          "line": {
           "color": "rgb(175,175,175)",
           "width": 0.5
          },
          "path": "M 0.9683319520058766,0.24966623865570756 Q 0.1826952867502634, 0.08137832757705846 0.8332911694432741, 0.5528343575863034L 0.8332911694432741, 0.5528343575863034 L 0.8468106360172433, 0.5318944883415055 L 0.8598040180112957, 0.5106241774648274 M 0.8598040180112957,0.5106241774648274 Q 0.18282259826542832, 0.08109190812576685 0.9556160959430438, 0.2946147945616026L 0.9556160959430438, 0.2946147945616026 L 0.9622365176873727, 0.27221477555209667 L 0.9683319520058766, 0.24966623865570756 ",
          "type": "path"
         },
         {
          "fillcolor": "#f2e6ce",
          "layer": "below",
          "line": {
           "color": "rgb(175,175,175)",
           "width": 0.5
          },
          "path": "M 0.9946030047629776,0.10375385735699877 Q 0.1428324283905722, 0.1399960620876604 0.12367988248670839, 0.9923221687879769L 0.12367988248670839, 0.9923221687879769 L 0.13862090631276125, 0.9903455176518086 L 0.15353044360003007, 0.988143918105039 M 0.15353044360003007,0.988143918105039 Q 0.14291691541713467, 0.1399098112630118 0.9911849319539668, 0.13248558664024587L 0.9911849319539668, 0.13248558664024587 L 0.9929978904658037, 0.11813208510165114 L 0.9946030047629776, 0.10375385735699877 ",
          "type": "path"
         },
         {
          "fillcolor": "#f2e6ce",
          "layer": "below",
          "line": {
           "color": "rgb(175,175,175)",
           "width": 0.5
          },
          "path": "M 0.9970906603658859,0.07622476638941945 Q 0.10279160748984549, 0.17156306545889632 -0.4031098376647485, 0.9151516042590431L -0.4031098376647485, 0.9151516042590431 L -0.39020157572727976, 0.920729455540523 L -0.37721615702714895, 0.9261252457835654 M -0.37721615702714895,0.9261252457835654 Q 0.1028329334532387, 0.17153829834005518 0.9946030047629776, 0.10375385735699877L 0.9946030047629776, 0.10375385735699877 L 0.9959419544536653, 0.08999790752574953 L 0.9970906603658859, 0.07622476638941945 ",
          "type": "path"
         },
         {
          "fillcolor": "#f2e6ce",
          "layer": "below",
          "line": {
           "color": "rgb(175,175,175)",
           "width": 0.5
          },
          "path": "M 1.0,0.0 Q 0.08012445011497296, 0.18324866300678216 -0.6790036246886605, 0.7341349178861203L -0.6790036246886605, 0.7341349178861203 L -0.6787325920779178, 0.7343855039767538 L -0.678461466988458, 0.734635990005846 M -0.678461466988458,0.734635990005846 Q 0.08011803609049123, 0.1832514673693031 0.9999996733662111, 0.0008082496340998079L 0.9999996733662111, 0.0008082496340998079 L 0.9999999183415494, 0.000404124850050113 L 1.0, 0.0 ",
          "type": "path"
         },
         {
          "fillcolor": "#f2e6ce",
          "layer": "below",
          "line": {
           "color": "rgb(175,175,175)",
           "width": 0.5
          },
          "path": "M 0.9990192659617951,0.044277604239118105 Q 0.05026068872779041, 0.19358167053884046 -0.8512962438313266, 0.5246853392640912L -0.8512962438313266, 0.5246853392640912 L -0.8480299768435416, 0.5299482600921926 L -0.844731173628985, 0.5351908484824807 M -0.844731173628985,0.5351908484824807 Q 0.050239347768226465, 0.19358721015558647 0.9983815873246593, 0.056870080807870524L 0.9983815873246593, 0.056870080807870524 L 0.9987202735470517, 0.05057484756380653 L 0.9990192659617951, 0.044277604239118105 ",
          "type": "path"
         },
         {
          "fillcolor": "#f2e6ce",
          "layer": "below",
          "line": {
           "color": "rgb(175,175,175)",
           "width": 0.5
          },
          "path": "M 0.9999974391920489,0.0022630972900932016 Q 0.03502650848054474, 0.19690897314155678 -0.9378743485352143, 0.3469750803150672L -0.9378743485352143, 0.3469750803150672 L -0.9376529307802018, 0.34757298715420626 L -0.9374311318520102, 0.34817075269852743 M -0.9374311318520102,0.34817075269852743 Q 0.03497698738153055, 0.19691777561640356 0.9999918341659475, 0.004041237610440669L 0.9999918341659475, 0.004041237610440669 L 0.9999950319039147, 0.0031521686960887343 L 0.9999974391920489, 0.0022630972900932016 ",
          "type": "path"
         },
         {
          "fillcolor": "#f2e6ce",
          "layer": "below",
          "line": {
           "color": "rgb(175,175,175)",
           "width": 0.5
          },
          "path": "M 0.9999918341659475,0.004041237610440669 Q 0.026191007177191722, 0.19827766173486183 -0.9646443455266936, 0.26355509223571627L -0.9646443455266936, 0.26355509223571627 L -0.9644404376600364, 0.26430028794179816 L -0.9642359541236478, 0.26504532588834423 M -0.9642359541236478,0.26504532588834423 Q 0.026151884540081508, 0.19828282561785893 0.9999821135860694, 0.005981012283667101L 0.9999821135860694, 0.005981012283667101 L 0.9999874442227475, 0.005011127304050866 L 0.9999918341659475, 0.004041237610440669 ",
          "type": "path"
         },
         {
          "fillcolor": "#f2e6ce",
          "layer": "below",
          "line": {
           "color": "rgb(175,175,175)",
           "width": 0.5
          },
          "path": "M 0.9996697130125596,0.025699511384201235 Q 0.010370450023654136, 0.19973095345065295 -0.9916326076533193, 0.12909210447846153L -0.9916326076533193, 0.12909210447846153 L -0.991082626915056, 0.1332487396831655 L -0.9905152228500215, 0.1374030323623622 M -0.9905152228500215,0.1374030323623622 Q 0.01033615945448753, 0.19973273093744903 0.999407296591877, 0.03442463534906331L 0.999407296591877, 0.03442463534906331 L 0.9995480251240081, 0.030062359699385584 L 0.9996697130125596, 0.025699511384201235 ",
          "type": "path"
         },
         {
          "fillcolor": "#f2e6ce",
          "layer": "below",
          "line": {
           "color": "rgb(175,175,175)",
           "width": 0.5
          },
          "path": "M 0.999407296591877,0.03442463534906331 Q -0.015908801186937337, 0.19936627108112973 -0.9922194927621593, -0.12450091639342827L -0.9922194927621593, -0.12450091639342827 L -0.9927982981458643, -0.11979790982598808 L -0.9933548119449983, -0.11509221340176298 M -0.9933548119449983,-0.11509221340176298 Q -0.015947045122591225, 0.19936321564385454 0.9990192659617951, 0.044277604239118105L 0.9990192659617951, 0.044277604239118105 L 0.9992254258819722, 0.03935159807417416 L 0.999407296591877, 0.03442463534906331 ",
          "type": "path"
         },
         {
          "fillcolor": "#f2e6ce",
          "layer": "below",
          "line": {
           "color": "rgb(175,175,175)",
           "width": 0.5
          },
          "path": "M 0.9999660172112308,0.008244053778841595 Q -0.03485916802238407, 0.1969386666066042 -0.9420398223076696, -0.3355010777725377L -0.9420398223076696, -0.3355010777725377 L -0.9426633342946512, -0.33374516951783834 L -0.9432835733724498, -0.3319881025062527 M -0.9432835733724498,-0.3319881025062527 Q -0.034906062808496625, 0.19693036022718613 0.9999225365265367, 0.012446724321553887L 0.9999225365265367, 0.012446724321553887 L 0.9999464847944401, 0.010345411893319506 L 0.9999660172112308, 0.008244053778841595 ",
          "type": "path"
         },
         {
          "fillcolor": "#f2e6ce",
          "layer": "below",
          "line": {
           "color": "rgb(175,175,175)",
           "width": 0.5
          },
          "path": "M 0.9911849319539668,0.13248558664024587 Q -0.07406296398139768, 0.18578126215065446 -0.8104833187348763, -0.5857617178106648L -0.8104833187348763, -0.5857617178106648 L -0.8214494571941461, -0.5702813246770778 L -0.8321199570088547, -0.5545956879994487 M -0.8321199570088547,-0.5545956879994487 Q -0.07400709362677636, 0.18580352551261659 0.9855479648206535, 0.16939660279317229L 0.9855479648206535, 0.16939660279317229 L 0.9885387408069074, 0.15096740682642085 L 0.9911849319539668, 0.13248558664024587 ",
          "type": "path"
         },
         {
          "fillcolor": "#f2e6ce",
          "layer": "below",
          "line": {
           "color": "rgb(175,175,175)",
           "width": 0.5
          },
          "path": "M 0.9781353701483433,0.20796922287868352 Q -0.12554346018502408, 0.15568827703064636 -0.41055257744642687, -0.9118369268416889L -0.41055257744642687, -0.9118369268416889 L -0.4308181490504419, -0.9024387638220951 L -0.45086873427259966, -0.8925902668388357 M -0.45086873427259966,-0.8925902668388357 Q -0.12540008397331648, 0.1558037834569019 0.9683319520058766, 0.24966623865570756L 0.9683319520058766, 0.24966623865570756 L 0.9734569427225491, 0.2288702266902967 L 0.9781353701483433, 0.20796922287868352 ",
          "type": "path"
         },
         {
          "fillcolor": "#f2e6ce",
          "layer": "below",
          "line": {
           "color": "rgb(175,175,175)",
           "width": 0.5
          },
          "path": "M 0.9999225365265367,0.012446724321553887 Q -0.13386384789552933, 0.148594987218959 -0.11639465213778927, -0.9932030431657582L -0.11639465213778927, -0.9932030431657582 L -0.11857484724670568, -0.9929451171139422 L -0.12075447085135171, -0.9926824052885244 M -0.12075447085135171,-0.9926824052885244 Q -0.1339939582351086, 0.14847767224902195 0.9998272156922541, 0.018588672923981378L 0.9998272156922541, 0.018588672923981378 L 0.9998795921299413, 0.015517771813711096 L 0.9999225365265367, 0.012446724321553887 ",
          "type": "path"
         },
         {
          "fillcolor": "#f2e6ce",
          "layer": "below",
          "line": {
           "color": "rgb(175,175,175)",
           "width": 0.5
          },
          "path": "M 0.9855479648206535,0.16939660279317229 Q -0.16739633184620203, 0.10944618807631544 0.24010539285418675, -0.970746826068639L 0.24010539285418675, -0.970746826068639 L 0.2199560227146062, -0.9755097888138138 L 0.19971236118248697, -0.9798545671633704 M 0.19971236118248697,-0.9798545671633704 Q -0.16727972484407827, 0.10962432967224689 0.9781353701483433, 0.20796922287868352L 0.9781353701483433, 0.20796922287868352 L 0.982031069652995, 0.1887193107135419 L 0.9855479648206535, 0.16939660279317229 ",
          "type": "path"
         },
         {
          "fillcolor": "#f2e6ce",
          "layer": "below",
          "line": {
           "color": "rgb(175,175,175)",
           "width": 0.5
          },
          "path": "M 0.9983815873246593,0.056870080807870524 Q -0.18457246849312103, 0.07702599479627541 0.6617857460123178, -0.7496930214260501L 0.6617857460123178, -0.7496930214260501 L 0.6542476412348726, -0.7562803871175066 L 0.6466439701073168, -0.7627919611033191 M 0.6466439701073168,-0.7627919611033191 Q -0.18454843820605749, 0.07708355178444358 0.9970906603658859, 0.07622476638941945L 0.9970906603658859, 0.07622476638941945 L 0.9977830544709001, 0.06655055379725036 L 0.9983815873246593, 0.056870080807870524 ",
          "type": "path"
         },
         {
          "fillcolor": "#f2e6ce",
          "layer": "below",
          "line": {
           "color": "rgb(175,175,175)",
           "width": 0.5
          },
          "path": "M 0.9998272156922541,0.018588672923981378 Q -0.19571991211276965, 0.041154781041450386 0.9076696363939897, -0.4196853954671314L 0.9076696363939897, -0.4196853954671314 L 0.9063369994426478, -0.42255560988028296 L 0.9049952863854444, -0.4254215927995751 M 0.9049952863854444,-0.4254215927995751 Q -0.1957360214822961, 0.04107809506637475 0.9996697130125596, 0.025699511384201235L 0.9996697130125596, 0.025699511384201235 L 0.9997547864256002, 0.022144232185885696 L 0.9998272156922541, 0.018588672923981378 ",
          "type": "path"
         },
         {
          "fillcolor": "#f2e6ce",
          "layer": "below",
          "line": {
           "color": "rgb(175,175,175)",
           "width": 0.5
          },
          "path": "M 0.9999821135860694,0.005981012283667101 Q -0.19790894511422596, 0.028845267268207204 0.9566731843848004, -0.291163902774787L 0.9566731843848004, -0.291163902774787 L 0.9563749595623122, -0.2921419804173745 L 0.9560757347791091, -0.2931197526039256 M 0.9560757347791091,-0.2931197526039256 Q -0.19791208854759096, 0.028823691760954496 0.9999660172112308, 0.008244053778841595L 0.9999660172112308, 0.008244053778841595 L 0.9999747055846493, 0.007112537584716506 L 0.9999821135860694, 0.005981012283667101 ",
          "type": "path"
         },
         {
          "fillcolor": "#f2e6ce",
          "layer": "below",
          "line": {
           "color": "rgb(175,175,175)",
           "width": 0.5
          },
          "path": "M 0.9999996733662111,0.0008082496340998079 Q -0.19961136439940727, 0.012462070558581097 0.9921339868584353, -0.12518047819203265L 0.9921339868584353, -0.12518047819203265 L 0.9920577576110461, -0.12578316884123586 L 0.9919811622478002, -0.12638581307054758 M 0.9919811622478002,-0.12638581307054758 Q -0.19961285757012845, 0.01243813059457186 0.9999974391920489, 0.0022630972900932016L 0.9999974391920489, 0.0022630972900932016 L 0.9999988208521897, 0.0015356738683949178 L 0.9999996733662111, 0.0008082496340998079 ",
          "type": "path"
         },
         {
          "fillcolor": "#ecd5bb",
          "layer": "below",
          "line": {
           "color": "rgb(175,175,175)",
           "width": 0.5
          },
          "path": "M 0.5765614652927842,0.817053778364336 Q 0.042028782655174506, 0.19553409275245098 -0.18990917726546963, 0.9818016624503915L -0.18990917726546963, 0.9818016624503915 L -0.1297438608475321, 0.9915475432738342 L -0.06909656577343273, 0.9976099761922581 M -0.06909656577343273,0.9976099761922581 Q 0.04173848143295132, 0.1955962657303845 0.47029686710799523, 0.8825082757619923L 0.47029686710799523, 0.8825082757619923 L 0.5244512988225218, 0.8514404472206908 L 0.5765614652927842, 0.817053778364336 ",
          "type": "path"
         },
         {
          "fillcolor": "#ecd5bb",
          "layer": "below",
          "line": {
           "color": "rgb(175,175,175)",
           "width": 0.5
          },
          "path": "M 0.8332911694432741,0.5528343575863034 Q 0.0445470343890392, 0.19497579779844923 -0.5105256979252597, 0.8598624958433334L -0.5105256979252597, 0.8598624958433334 L -0.48951816983415275, 0.8719930971069791 L -0.4682225761000237, 0.8836105585778485 M -0.4682225761000237,0.8836105585778485 Q 0.04431612204608364, 0.1950284115886622 0.804093035615885, 0.5945034819696442L 0.804093035615885, 0.5945034819696442 L 0.8189571647687212, 0.5738546525680329 L 0.8332911694432741, 0.5528343575863034 ",
          "type": "path"
         },
         {
          "fillcolor": "#ecd5bb",
          "layer": "below",
          "line": {
           "color": "rgb(175,175,175)",
           "width": 0.5
          },
          "path": "M 0.929694181766841,0.3683323613109279 Q 0.05053856019614389, 0.19350931226507095 -0.6308567762040772, 0.7758993026916565L -0.6308567762040772, 0.7758993026916565 L -0.6266245894796575, 0.7793212584418897 L -0.6223738413919545, 0.7827201297724635 M -0.6223738413919545,0.7827201297724635 Q 0.0502398126129348, 0.1935870895194646 0.9244572101262319, 0.38128580703407233L 0.9244572101262319, 0.38128580703407233 L 0.9270983194644355, 0.37481823067484243 L 0.929694181766841, 0.3683323613109279 ",
          "type": "path"
         },
         {
          "fillcolor": "#ecd5bb",
          "layer": "below",
          "line": {
           "color": "rgb(175,175,175)",
           "width": 0.5
          },
          "path": "M 0.8895202962700219,0.45689565824561335 Q 0.020072057249032493, 0.19899023221704015 -0.7803561292788863, 0.6253353592248514L -0.7803561292788863, 0.6253353592248514 L -0.7731495939048257, 0.6342237029982426 L -0.7658418247915038, 0.6430290035449564 M -0.7658418247915038,0.6430290035449564 Q 0.019688847746529934, 0.19902851372206437 0.8769878942040209, 0.4805124695776345L 0.8769878942040209, 0.4805124695776345 L 0.8833330262122788, 0.4687459491053311 L 0.8895202962700219, 0.45689565824561335 ",
          "type": "path"
         },
         {
          "fillcolor": "#ecd5bb",
          "layer": "below",
          "line": {
           "color": "rgb(175,175,175)",
           "width": 0.5
          },
          "path": "M 0.8769878942040209,0.4805124695776345 Q -0.007387061667946024, 0.1998635317408205 -0.9100666228442583, 0.41446199100140224L -0.9100666228442583, 0.41446199100140224 L -0.9033354410439964, 0.42893482133518657 L -0.8963741150043267, 0.44329837124696275 M -0.8963741150043267,0.44329837124696275 Q -0.007661681393118067, 0.19985319271462829 0.8598040180112957, 0.5106241774648274L 0.8598040180112957, 0.5106241774648274 L 0.8685264620736117, 0.49564279948153706 L 0.8769878942040209, 0.4805124695776345 ",
          "type": "path"
         },
         {
          "fillcolor": "#ecd5bb",
          "layer": "below",
          "line": {
           "color": "rgb(175,175,175)",
           "width": 0.5
          },
          "path": "M 0.9387340639896059,0.3446423611594466 Q -0.002742171313627103, 0.19998120035765043 -0.947830918899925, 0.31877350764661094L -0.947830918899925, 0.31877350764661094 L -0.9465110348239323, 0.32267144428431965 L -0.9451751206332624, 0.3265639161571559 M -0.9451751206332624,0.3265639161571559 Q -0.0031437784305107744, 0.1999752901165038 0.9344428686015855, 0.35611307939984443L 0.9344428686015855, 0.35611307939984443 L 0.9366060268555685, 0.3503842896846633 L 0.9387340639896059, 0.3446423611594466 ",
          "type": "path"
         },
         {
          "fillcolor": "#ecd5bb",
          "layer": "below",
          "line": {
           "color": "rgb(175,175,175)",
           "width": 0.5
          },
          "path": "M 0.942711945605986,0.3336078350575364 Q -0.01403933246711839, 0.199506634335497 -0.9801421607134153, 0.19829610382465318L -0.9801421607134153, 0.19829610382465318 L -0.979264628161147, 0.20258526114308145 L -0.9783683261084972, 0.2068705355232038 M -0.9783683261084972,0.2068705355232038 Q -0.01433595154597428, 0.19948553955931614 0.9387340639896059, 0.3446423611594466L 0.9387340639896059, 0.3446423611594466 L 0.940739183805675, 0.33913093054546417 L 0.942711945605986, 0.3336078350575364 ",
          "type": "path"
         },
         {
          "fillcolor": "#ecd5bb",
          "layer": "below",
          "line": {
           "color": "rgb(175,175,175)",
           "width": 0.5
          },
          "path": "M 0.8993906631816941,0.4371457822987571 Q -0.040220166037901336, 0.1959141093537769 -0.9988740066854638, 0.047441740778854415L -0.9988740066854638, 0.047441740778854415 L -0.9983531755666125, 0.05736668751166195 L -0.9977337312815124, 0.06728596780214109 M -0.9977337312815124,0.06728596780214109 Q -0.04043585765189661, 0.1958697052020949 0.8895202962700219, 0.45689565824561335L 0.8895202962700219, 0.45689565824561335 L 0.894509988547693, 0.4470479620671657 L 0.8993906631816941, 0.4371457822987571 ",
          "type": "path"
         },
         {
          "fillcolor": "#ecd5bb",
          "layer": "below",
          "line": {
           "color": "rgb(175,175,175)",
           "width": 0.5
          },
          "path": "M 0.9086786150852171,0.4174963167344258 Q -0.063181471960567, 0.1897580080020237 -0.9775831183902942, -0.21054986734336345L -0.9775831183902942, -0.21054986734336345 L -0.979597060946429, -0.20097163527502682 L -0.9815171595792275, -0.19137415042665867 M -0.9815171595792275,-0.19137415042665867 Q -0.06338628142143184, 0.1896896922016667 0.8993906631816941, 0.4371457822987571L 0.8993906631816941, 0.4371457822987571 L 0.904088023439863, 0.42734628332606533 L 0.9086786150852171, 0.4174963167344258 ",
          "type": "path"
         },
         {
          "fillcolor": "#ecd5bb",
          "layer": "below",
          "line": {
           "color": "rgb(175,175,175)",
           "width": 0.5
          },
          "path": "M 0.917468730235231,0.3978079046984272 Q -0.08141994894492494, 0.18267674157868544 -0.9092045835570227, -0.4163496430152198L -0.9092045835570227, -0.4163496430152198 L -0.9128978348471967, -0.40818812223201756 L -0.916517825605404, -0.3999938441370596 M -0.916517825605404,-0.3999938441370596 Q -0.08175277465280717, 0.18252803575496923 0.9086786150852171, 0.4174963167344258L 0.9086786150852171, 0.4174963167344258 L 0.9131267382446726, 0.40767580244925655 L 0.917468730235231, 0.3978079046984272 ",
          "type": "path"
         },
         {
          "fillcolor": "#ecd5bb",
          "layer": "below",
          "line": {
           "color": "rgb(175,175,175)",
           "width": 0.5
          },
          "path": "M 0.7134621327074263,0.7006937884643839 Q -0.14465267670781964, 0.1381144565976459 -0.6669688429398153, -0.7450856075294462L -0.6669688429398153, -0.7450856075294462 L -0.696522457029368, -0.7175349934698462 L -0.7249390313338604, -0.688813037658786 M -0.7249390313338604,-0.688813037658786 Q -0.1449324132228543, 0.13782088229800232 0.6514992944111964, 0.7586492400192024L 0.6514992944111964, 0.7586492400192024 L 0.6830956250567395, 0.7303289443999481 L 0.7134621327074263, 0.7006937884643839 ",
          "type": "path"
         },
         {
          "fillcolor": "#ecd5bb",
          "layer": "below",
          "line": {
           "color": "rgb(175,175,175)",
           "width": 0.5
          },
          "path": "M 0.6514992944111964,0.7586492400192024 Q -0.1809334250377891, 0.08522379775681654 -0.17000804487233256, -0.9854426744761396L -0.17000804487233256, -0.9854426744761396 L -0.21558072298772746, -0.9764860223659573 L -0.2606883739503781, -0.9654230014284453 M -0.2606883739503781,-0.9654230014284453 Q -0.18102484029366386, 0.08502944899652998 0.5765614652927842, 0.817053778364336L 0.5765614652927842, 0.817053778364336 L 0.6147243934528761, 0.7887419857557942 L 0.6514992944111964, 0.7586492400192024 ",
          "type": "path"
         },
         {
          "fillcolor": "#ecd5bb",
          "layer": "below",
          "line": {
           "color": "rgb(175,175,175)",
           "width": 0.5
          },
          "path": "M 0.9458904827533339,0.3244860469059725 Q -0.1567929293808697, 0.12416109413244397 -0.09904875843701237, -0.9950825812223256L -0.09904875843701237, -0.9950825812223256 L -0.1022676504049943, -0.9947569188905608 L -0.10548547190460489, -0.9944208441183555 M -0.10548547190460489,-0.9944208441183555 Q -0.1569907112214004, 0.12391092199721086 0.942711945605986, 0.3336078350575364L 0.942711945605986, 0.3336078350575364 L 0.9443122284795165, 0.32905077897499263 L 0.9458904827533339, 0.3244860469059725 ",
          "type": "path"
         },
         {
          "fillcolor": "#ecd5bb",
          "layer": "below",
          "line": {
           "color": "rgb(175,175,175)",
           "width": 0.5
          },
          "path": "M 0.47029686710799523,0.8825082757619923 Q -0.199690814563242, -0.011116590262706331 0.5653441023079515, -0.8248551666720749L 0.5653441023079515, -0.8248551666720749 L 0.5101956358393712, -0.8600583777688929 L 0.4528632160212813, -0.891580006266887 M 0.4528632160212813,-0.891580006266887 Q -0.1996818552063182, -0.011276378025011899 0.3496059825813188, 0.9368968229977891L 0.3496059825813188, 0.9368968229977891 L 0.4108524056760159, 0.911701870542246 L 0.47029686710799523, 0.8825082757619923 ",
          "type": "path"
         },
         {
          "fillcolor": "#ecd5bb",
          "layer": "below",
          "line": {
           "color": "rgb(175,175,175)",
           "width": 0.5
          },
          "path": "M 0.7701792971497674,0.6378274455069257 Q -0.19902109752432307, -0.01976367223503495 0.8805787226518127, -0.47389989788235026L 0.8805787226518127, -0.47389989788235026 L 0.8604340760992388, -0.5095617731808866 L 0.8388459858752585, -0.5443688198096632 M 0.8388459858752585,-0.5443688198096632 Q -0.19899350224416598, -0.020039612386498852 0.7134621327074263, 0.7006937884643839L 0.7134621327074263, 0.7006937884643839 L 0.7424863752058928, 0.669861166685765 L 0.7701792971497674, 0.6378274455069257 ",
          "type": "path"
         },
         {
          "fillcolor": "#ecd5bb",
          "layer": "below",
          "line": {
           "color": "rgb(175,175,175)",
           "width": 0.5
          },
          "path": "M 0.804093035615885,0.5945034819696442 Q -0.19769044022025248, -0.03030659739269298 0.9452586374376063, -0.32632209295357256L 0.9452586374376063, -0.32632209295357256 L 0.9375238445818058, -0.34792102672955827 L 0.9292955945248923, -0.36933683541805984 M 0.9292955945248923,-0.36933683541805984 Q -0.19754986196410618, -0.031209806759456327 0.7701792971497674, 0.6378274455069257L 0.7701792971497674, 0.6378274455069257 L 0.7874341787616266, 0.616398746038636 L 0.804093035615885, 0.5945034819696442 ",
          "type": "path"
         },
         {
          "fillcolor": "#ecd5bb",
          "layer": "below",
          "line": {
           "color": "rgb(175,175,175)",
           "width": 0.5
          },
          "path": "M 0.9244572101262319,0.38128580703407233 Q -0.19927338963422983, -0.01703279729476126 0.9757549052578895, -0.21886608888808487L 0.9757549052578895, -0.21886608888808487 L 0.9740642733774251, -0.22627149915468545 L 0.9723174396078936, -0.2336638539319893 M 0.9723174396078936,-0.2336638539319893 Q -0.19924980174841175, -0.017306545097696916 0.917468730235231, 0.3978079046984272L 0.917468730235231, 0.3978079046984272 L 0.9210000202887743, 0.38956252723802565 L 0.9244572101262319, 0.38128580703407233 ",
          "type": "path"
         },
         {
          "fillcolor": "#ecd5bb",
          "layer": "below",
          "line": {
           "color": "rgb(175,175,175)",
           "width": 0.5
          },
          "path": "M 0.9344428686015855,0.35611307939984443 Q -0.19793765659844276, -0.028647584545942986 0.9970645652190663, -0.07656534976420035L 0.9970645652190663, -0.07656534976420035 L 0.9966586721940107, -0.08167919649746545 L 0.9962265509223718, -0.08679089374649265 M 0.9962265509223718,-0.08679089374649265 Q -0.19789663579495778, -0.028929596281971105 0.929694181766841, 0.3683323613109279L 0.929694181766841, 0.3683323613109279 L 0.9320885490937436, 0.3622305020954474 L 0.9344428686015855, 0.35611307939984443 ",
          "type": "path"
         },
         {
          "fillcolor": "#e6c4a9",
          "layer": "below",
          "line": {
           "color": "rgb(175,175,175)",
           "width": 0.5
          },
          "path": "M 0.04550959903310977,0.9989639014478179 Q -0.053514834483664765, 0.1927074531256795 -0.5540941180208906, 0.8324540277845086L -0.5540941180208906, 0.8324540277845086 L -0.532486285416476, 0.8464386308784372 L -0.5105256979252597, 0.8598624958433334 M -0.5105256979252597,0.8598624958433334 Q -0.05363327403732058, 0.1926745232666677 -0.007182247446472299, 0.9999742073281779L -0.007182247446472299, 0.9999742073281779 L 0.01917033253244197, 0.9998162322900122 L 0.04550959903310977, 0.9989639014478179 ",
          "type": "path"
         },
         {
          "fillcolor": "#e6c4a9",
          "layer": "below",
          "line": {
           "color": "rgb(175,175,175)",
           "width": 0.5
          },
          "path": "M 0.29597428251886254,0.9551959087472289 Q -0.036916739613013096, 0.19656335959772614 -0.6223738413919545, 0.7827201297724635L -0.6223738413919545, 0.7827201297724635 L -0.6188966325108328, 0.7854724427163254 L -0.6154072522797166, 0.7882093083956376 M -0.6154072522797166,0.7882093083956376 Q -0.03713733336923775, 0.19652180151378143 0.2853401078788598, 0.9584263262430142L 0.2853401078788598, 0.9584263262430142 L 0.29066168309594603, 0.9568258911525293 L 0.29597428251886254, 0.9551959087472289 ",
          "type": "path"
         },
         {
          "fillcolor": "#e6c4a9",
          "layer": "below",
          "line": {
           "color": "rgb(175,175,175)",
           "width": 0.5
          },
          "path": "M 0.23576025176310328,0.9718112490029112 Q -0.05901427850706288, 0.19109504162141627 -0.7426784158912313, 0.6696482439081665L -0.7426784158912313, 0.6696482439081665 L -0.7381629631333572, 0.6746224424507251 L -0.7336141956306513, 0.6795661939569922 M -0.7336141956306513,0.6795661939569922 Q -0.05919463189377877, 0.19103925134631372 0.22084117278683654, 0.975309784838712L 0.22084117278683654, 0.975309784838712 L 0.2283074137287426, 0.9735890944523222 L 0.23576025176310328, 0.9718112490029112 ",
          "type": "path"
         },
         {
          "fillcolor": "#e6c4a9",
          "layer": "below",
          "line": {
           "color": "rgb(175,175,175)",
           "width": 0.5
          },
          "path": "M 0.18307597387825245,0.9830987680739558 Q -0.08675795401259805, 0.18020282299550117 -0.8826655513457392, 0.4700016217711619L -0.8826655513457392, 0.4700016217711619 L -0.8759339937213164, 0.48243096774919497 L -0.8690274222867983, 0.49476392280921483 M -0.8690274222867983,0.49476392280921483 Q -0.08691143459108248, 0.18012884981956664 0.15353044360003007, 0.988143918105039L 0.15353044360003007, 0.988143918105039 L 0.16832211220335844, 0.985732046016259 L 0.18307597387825245, 0.9830987680739558 ",
          "type": "path"
         },
         {
          "fillcolor": "#e6c4a9",
          "layer": "below",
          "line": {
           "color": "rgb(175,175,175)",
           "width": 0.5
          },
          "path": "M 0.26169269622495467,0.9651512486354217 Q -0.09504115981841718, 0.17597493554586144 -0.9506025890965748, 0.3104105629692529L -0.9506025890965748, 0.3104105629692529 L -0.9492259640264236, 0.31459508772087785 L -0.947830918899925, 0.31877350764661094 M -0.947830918899925,0.31877350764661094 Q -0.09539183941932576, 0.17578508745680782 0.24931957813898836, 0.9684212657498785L 0.24931957813898836, 0.9684212657498785 L 0.25551136841760036, 0.9668060511857408 L 0.26169269622495467, 0.9651512486354217 ",
          "type": "path"
         },
         {
          "fillcolor": "#e6c4a9",
          "layer": "below",
          "line": {
           "color": "rgb(175,175,175)",
           "width": 0.5
          },
          "path": "M 0.31585373643762976,0.9488078926623599 Q -0.09625681253781558, 0.17531293745773538 -0.9700883092119849, 0.24275228594234158L -0.9700883092119849, 0.24275228594234158 L -0.9694757209434478, 0.2451873294058689 L -0.9688570204203092, 0.2476208270365816 M -0.9688570204203092,0.2476208270365816 Q -0.09639226304134296, 0.1752384992681932 0.30961576437199523, 0.9508617556997153L 0.30961576437199523, 0.9508617556997153 L 0.3127364364750362, 0.9498399450964861 L 0.31585373643762976, 0.9488078926623599 ",
          "type": "path"
         },
         {
          "fillcolor": "#e6c4a9",
          "layer": "below",
          "line": {
           "color": "rgb(175,175,175)",
           "width": 0.5
          },
          "path": "M 0.274022952432772,0.9617231522325054 Q -0.11163946404906551, 0.1659416465714301 -0.9940871570683346, 0.10858510096599872L -0.9940871570683346, 0.10858510096599872 L -0.9934290842026268, 0.11444935412806131 L -0.9927364176277533, 0.12030962187462337 M -0.9927364176277533,0.12030962187462337 Q -0.11172207914778012, 0.16588603627459775 0.26169269622495467, 0.9651512486354217L 0.26169269622495467, 0.9651512486354217 L 0.26786330845307854, 0.9634569258584272 L 0.274022952432772, 0.9617231522325054 ",
          "type": "path"
         },
         {
          "fillcolor": "#e6c4a9",
          "layer": "below",
          "line": {
           "color": "rgb(175,175,175)",
           "width": 0.5
          },
          "path": "M 0.2853401078788598,0.9584263262430142 Q -0.13094969646810659, 0.15116936526595182 -0.9893223949858252, -0.14574360630748381L -0.9893223949858252, -0.14574360630748381 L -0.9901002629654813, -0.14036192245650123 L -0.990848856056933, -0.1349760884403876 M -0.990848856056933,-0.1349760884403876 Q -0.1310186475506099, 0.1511096092047394 0.274022952432772, 0.9617231522325054L 0.274022952432772, 0.9617231522325054 L 0.27968638789848155, 0.9600914146185768 L 0.2853401078788598, 0.9584263262430142 ",
          "type": "path"
         },
         {
          "fillcolor": "#e6c4a9",
          "layer": "below",
          "line": {
           "color": "rgb(175,175,175)",
           "width": 0.5
          },
          "path": "M 0.24931957813898836,0.9684212657498785 Q -0.15050741450571395, 0.1317099775218461 -0.9268008460071585, -0.37555318110810243L -0.9268008460071585, -0.37555318110810243 L -0.9290183428164321, -0.37003367240105356 L -0.93120296884929, -0.36450107106326624 M -0.93120296884929,-0.36450107106326624 Q -0.15064432247877346, 0.1315533659961284 0.23576025176310328, 0.9718112490029112L 0.23576025176310328, 0.9718112490029112 L 0.24254583760822304, 0.9701399469452464 L 0.24931957813898836, 0.9684212657498785 ",
          "type": "path"
         },
         {
          "fillcolor": "#e6c4a9",
          "layer": "below",
          "line": {
           "color": "rgb(175,175,175)",
           "width": 0.5
          },
          "path": "M 0.22084117278683654,0.975309784838712 Q -0.1647504934092795, 0.11338992424990398 -0.8321199570088547, -0.5545956879994487L -0.8321199570088547, -0.5545956879994487 L -0.8372757864817388, -0.5467808129144489 L -0.842358224671027, -0.5389180098392292 M -0.842358224671027,-0.5389180098392292 Q -0.16477725602998936, 0.11335102952874905 0.20207858094262116, 0.979369310895648L 0.20207858094262116, 0.979369310895648 L 0.2114696182944444, 0.9773845714652969 L 0.22084117278683654, 0.975309784838712 ",
          "type": "path"
         },
         {
          "fillcolor": "#e6c4a9",
          "layer": "below",
          "line": {
           "color": "rgb(175,175,175)",
           "width": 0.5
          },
          "path": "M 0.08566659716985242,0.9963238600622482 Q -0.19238942745771914, 0.054647124375313855 -0.45086873427259966, -0.8925902668388357L -0.45086873427259966, -0.8925902668388357 L -0.4687594077669502, -0.8833258841616598 L -0.4864598094811707, -0.8737029551051908 M -0.4864598094811707,-0.8737029551051908 Q -0.19238810367915987, 0.054651784625360904 0.04550959903310977, 0.9989639014478179L 0.04550959903310977, 0.9989639014478179 L 0.06560138007084076, 0.9978459094132727 L 0.08566659716985242, 0.9963238600622482 ",
          "type": "path"
         },
         {
          "fillcolor": "#e6c4a9",
          "layer": "below",
          "line": {
           "color": "rgb(175,175,175)",
           "width": 0.5
          },
          "path": "M 0.30288302175371173,0.9530277410093269 Q -0.19561853872990698, 0.04163396816513997 -0.11145847121662217, -0.9937690924928454L -0.11145847121662217, -0.9937690924928454 L -0.11392691323190642, -0.9934891335296273 L -0.11639465213778927, -0.9932030431657582 M -0.11639465213778927,-0.9932030431657582 Q -0.19566571798512458, 0.041411674747173645 0.29597428251886254, 0.9551959087472289L 0.29597428251886254, 0.9551959087472289 L 0.29943061459708575, 0.9541180781444252 L 0.30288302175371173, 0.9530277410093269 ",
          "type": "path"
         },
         {
          "fillcolor": "#e6c4a9",
          "layer": "below",
          "line": {
           "color": "rgb(175,175,175)",
           "width": 0.5
          },
          "path": "M -0.007182247446472299,0.9999742073281779 Q -0.1975656064492567, -0.03110998470487284 0.30047053600826307, -0.9537910971438699L 0.30047053600826307, -0.9537910971438699 L 0.27042089028441835, -0.9627421991882263 L 0.24010539285418675, -0.970746826068639 M 0.24010539285418675,-0.970746826068639 Q -0.19757713733998375, -0.031036668644318186 -0.06909656577343273, 0.9976099761922581L -0.06909656577343273, 0.9976099761922581 L -0.03815772181060226, 0.9992717289437466 L -0.007182247446472299, 0.9999742073281779 ",
          "type": "path"
         },
         {
          "fillcolor": "#e6c4a9",
          "layer": "below",
          "line": {
           "color": "rgb(175,175,175)",
           "width": 0.5
          },
          "path": "M 0.12367988248670839,0.9923221687879769 Q -0.1862892170913589, -0.0727758723444011 0.7635908816682513, -0.6457003681531416L 0.7635908816682513, -0.6457003681531416 L 0.7512269387318773, -0.6600440034751716 L 0.7385936005873472, -0.674150942424186 M 0.7385936005873472,-0.674150942424186 Q -0.18627643273771455, -0.07280858882378996 0.08566659716985242, 0.9963238600622482L 0.08566659716985242, 0.9963238600622482 L 0.10469236132312783, 0.9945046553337936 L 0.12367988248670839, 0.9923221687879769 ",
          "type": "path"
         },
         {
          "fillcolor": "#e6c4a9",
          "layer": "below",
          "line": {
           "color": "rgb(175,175,175)",
           "width": 0.5
          },
          "path": "M 0.20207858094262116,0.979369310895648 Q -0.17604021682613236, -0.09492018784119799 0.9292955945248923, -0.36933683541805984L 0.9292955945248923, -0.36933683541805984 L 0.9262091139482362, -0.37701018187739066 L 0.9230592745475786, -0.38465773834890915 M 0.9230592745475786,-0.38465773834890915 Q -0.17590602743147135, -0.09516863723558538 0.18307597387825245, 0.9830987680739558L 0.18307597387825245, 0.9830987680739558 L 0.19258630529590504, 0.9812800390370082 L 0.20207858094262116, 0.979369310895648 ",
          "type": "path"
         },
         {
          "fillcolor": "#e6c4a9",
          "layer": "below",
          "line": {
           "color": "rgb(175,175,175)",
           "width": 0.5
          },
          "path": "M 0.3200048327448882,0.947415910263236 Q -0.17750725578973234, -0.09214756720607736 0.9589815494225146, -0.28346849536975577L 0.9589815494225146, -0.28346849536975577 L 0.9584415167562377, -0.28528907963327765 L 0.9578980277942567, -0.2871086350980643 M 0.9578980277942567,-0.2871086350980643 Q -0.1774805121830345, -0.09219906613001967 0.31585373643762976, 0.9488078926623599L 0.31585373643762976, 0.9488078926623599 L 0.31793004640087036, 0.9481141732911392 L 0.3200048327448882, 0.947415910263236 ",
          "type": "path"
         },
         {
          "fillcolor": "#e6c4a9",
          "layer": "below",
          "line": {
           "color": "rgb(175,175,175)",
           "width": 0.5
          },
          "path": "M 0.30961576437199523,0.9508617556997153 Q -0.1675844487823843, -0.10915792470684126 0.9948689849925244, -0.1011716496848018L 0.9948689849925244, -0.1011716496848018 L 0.9945781694829681, -0.10399165729955626 L 0.9942793605321457, -0.1068108291316348 M 0.9942793605321457,-0.1068108291316348 Q -0.1675078517794303, -0.10927542995678584 0.30288302175371173, 0.9530277410093269L 0.30288302175371173, 0.9530277410093269 L 0.30625130795550337, 0.9519507006014247 L 0.30961576437199523, 0.9508617556997153 ",
          "type": "path"
         },
         {
          "fillcolor": "#e1b396",
          "layer": "below",
          "line": {
           "color": "rgb(175,175,175)",
           "width": 0.5
          },
          "path": "M -0.2973570989209366,0.9547663356661275 Q -0.09580556610980717, 0.17555994276138098 -0.6420509114087748, 0.7666620032055597L -0.6420509114087748, 0.7666620032055597 L -0.6364706020087838, 0.7713009612197929 L -0.6308567762040772, 0.7758993026916565 M -0.6308567762040772,0.7758993026916565 Q -0.09609064021785611, 0.1754040731069907 -0.3142683215283306, 0.9493341993648843L -0.3142683215283306, 0.9493341993648843 L -0.30582477133341324, 0.9520878159281662 L -0.2973570989209366, 0.9547663356661275 ",
          "type": "path"
         },
         {
          "fillcolor": "#e1b396",
          "layer": "below",
          "line": {
           "color": "rgb(175,175,175)",
           "width": 0.5
          },
          "path": "M -0.3142683215283306,0.9493341993648843 Q -0.11072580011350826, 0.16655268592617598 -0.7537471943113663, 0.6571644901147227L -0.7537471943113663, 0.6571644901147227 L -0.7482388407084651, 0.6634294516037497 L -0.7426784158912313, 0.6696482439081665 M -0.7426784158912313,0.6696482439081665 Q -0.11088401221120354, 0.166447396603088 -0.3318562407318943, 0.9433299716892786L -0.3318562407318943, 0.9433299716892786 L -0.32307622966799476, 0.9463729443636442 L -0.3142683215283306, 0.9493341993648843 ",
          "type": "path"
         },
         {
          "fillcolor": "#e1b396",
          "layer": "below",
          "line": {
           "color": "rgb(175,175,175)",
           "width": 0.5
          },
          "path": "M -0.43580352746740725,0.900041824276497 Q -0.14550914557568692, 0.13721183824230895 -0.9240506801215259, 0.38226998386865974L -0.9240506801215259, 0.38226998386865974 L -0.9171998972908956, 0.39842734395316115 L -0.9100666228442583, 0.41446199100140224 M -0.9100666228442583,0.41446199100140224 Q -0.14559469407864775, 0.13712105985640927 -0.4682225761000237, 0.8836105585778485L -0.4682225761000237, 0.8836105585778485 L -0.4520877078686643, 0.8919734886161457 L -0.43580352746740725, 0.900041824276497 ",
          "type": "path"
         },
         {
          "fillcolor": "#e1b396",
          "layer": "below",
          "line": {
           "color": "rgb(175,175,175)",
           "width": 0.5
          },
          "path": "M -0.22065460403223022,0.9753520111833367 Q -0.13191910292760758, 0.15032415069700306 -0.938436236746574, 0.3454524997172956L -0.938436236746574, 0.3454524997172956 L -0.9381556015251633, 0.3462139040058314 L -0.9378743485352143, 0.3469750803150672 M -0.9378743485352143,0.3469750803150672 Q -0.13197017493568194, 0.15027931636604389 -0.22289980830632292, 0.9748413591231162L -0.22289980830632292, 0.9748413591231162 L -0.2217773531441646, 0.9750973313635765 L -0.22065460403223022, 0.9753520111833367 ",
          "type": "path"
         },
         {
          "fillcolor": "#e1b396",
          "layer": "below",
          "line": {
           "color": "rgb(175,175,175)",
           "width": 0.5
          },
          "path": "M -0.23570651824542443,0.9718242831173851 Q -0.14300253997192044, 0.13982229279188385 -0.9768787306727643, 0.21379416633568069L -0.9768787306727643, 0.21379416633568069 L -0.9761295399277482, 0.21718913711427326 L -0.975368550594329, 0.22058148270314495 M -0.975368550594329,0.22058148270314495 Q -0.14313725754772283, 0.13968437815918022 -0.2443281158024927, 0.9696926171877374L -0.2443281158024927, 0.9696926171877374 L -0.24001968350801645, 0.9707680214802668 L -0.23570651824542443, 0.9718242831173851 ",
          "type": "path"
         },
         {
          "fillcolor": "#e1b396",
          "layer": "below",
          "line": {
           "color": "rgb(175,175,175)",
           "width": 0.5
          },
          "path": "M -0.2530895580279487,0.9674428539284465 Q -0.1506558022270778, 0.1315402191548867 -0.9927364176277533, 0.12030962187462337L -0.9927364176277533, 0.12030962187462337 L -0.992194230039618, 0.1247020844897535 L -0.9916326076533193, 0.12909210447846153 M -0.9916326076533193,0.12909210447846153 Q -0.15069019744982615, 0.13150081517820497 -0.26214773685542386, 0.9650277530006997L -0.26214773685542386, 0.9650277530006997 L -0.2576214775359514, 0.9662459181348159 L -0.2530895580279487, 0.9674428539284465 ",
          "type": "path"
         },
         {
          "fillcolor": "#e1b396",
          "layer": "below",
          "line": {
           "color": "rgb(175,175,175)",
           "width": 0.5
          },
          "path": "M -0.2443281158024927,0.9696926171877374 Q -0.1645787701471454, 0.11363902682112817 -0.9933548119449983, -0.11509221340176298L -0.9933548119449983, -0.11509221340176298 L -0.993837465814761, -0.11084715396839827 L -0.994301978687894, -0.1066000711882437 M -0.994301978687894,-0.1066000711882437 Q -0.16460722495879482, 0.11359780583869004 -0.2530895580279487, 0.9674428539284465L -0.2530895580279487, 0.9674428539284465 L -0.24871138075770197, 0.968577642257758 L -0.2443281158024927, 0.9696926171877374 ",
          "type": "path"
         },
         {
          "fillcolor": "#e1b396",
          "layer": "below",
          "line": {
           "color": "rgb(175,175,175)",
           "width": 0.5
          },
          "path": "M -0.2850847846376895,0.9585023033712972 Q -0.17971348942268203, 0.08776708790613688 -0.93120296884929, -0.36450107106326624L -0.93120296884929, -0.36450107106326624 L -0.9332259616815676, -0.3592900004780446 L -0.935219793296101, -0.3540677028863236 M -0.935219793296101,-0.3540677028863236 Q -0.17978577073008117, 0.08761892856563985 -0.2973570989209366, 0.9547663356661275L -0.2973570989209366, 0.9547663356661275 L -0.29122693263931393, 0.9566539989492003 L -0.2850847846376895, 0.9585023033712972 ",
          "type": "path"
         },
         {
          "fillcolor": "#e1b396",
          "layer": "below",
          "line": {
           "color": "rgb(175,175,175)",
           "width": 0.5
          },
          "path": "M -0.2729237820030919,0.9620356590153656 Q -0.18589567376619198, 0.0737753242962274 -0.8583428820769436, -0.5130765018862645L -0.8583428820769436, -0.5130765018862645 L -0.8615702710469949, -0.507638324053659 L -0.8647632059789686, -0.5021798458570156 M -0.8647632059789686,-0.5021798458570156 Q -0.18589628136677205, 0.07377379327380364 -0.2850847846376895, 0.9585023033712972L -0.2850847846376895, 0.9585023033712972 L -0.2790098766381788, 0.9602882321148939 L -0.2729237820030919, 0.9620356590153656 ",
          "type": "path"
         },
         {
          "fillcolor": "#e1b396",
          "layer": "below",
          "line": {
           "color": "rgb(175,175,175)",
           "width": 0.5
          },
          "path": "M -0.35379462485193586,0.9353231331608761 Q -0.1991802742328593, 0.01808917788410989 -0.516505029118565, -0.8562841554619764L -0.516505029118565, -0.8562841554619764 L -0.52750587928568, -0.8495513800348049 L -0.5384189793934481, -0.8426772826111535 M -0.5384189793934481,-0.8426772826111535 Q -0.19917454876322715, 0.0181521107578388 -0.37721615702714895, 0.9261252457835654L -0.37721615702714895, 0.9261252457835654 L -0.3655343227234882, 0.930797861466753 L -0.35379462485193586, 0.9353231331608761 ",
          "type": "path"
         },
         {
          "fillcolor": "#e1b396",
          "layer": "below",
          "line": {
           "color": "rgb(175,175,175)",
           "width": 0.5
          },
          "path": "M -0.22546430831397363,0.9742514283676988 Q -0.199748822579261, -0.010020373156670313 -0.12683136432315342, -0.9919242939982504L -0.12683136432315342, -0.9919242939982504 L -0.12826390915940908, -0.9917400715949451 L -0.12969618642142572, -0.9915537803002613 M -0.12969618642142572,-0.9915537803002613 Q -0.19974265776110486, -0.010142517958088348 -0.22946820732857193, 0.973316157178854L -0.22946820732857193, 0.973316157178854 L -0.2274667385141462, 0.9737858506210373 L -0.22546430831397363, 0.9742514283676988 ",
          "type": "path"
         },
         {
          "fillcolor": "#e1b396",
          "layer": "below",
          "line": {
           "color": "rgb(175,175,175)",
           "width": 0.5
          },
          "path": "M -0.4031098376647485,0.9151516042590431 Q -0.19173084647294406, -0.056914695033605835 0.1615000587575624, -0.9868727025413683L 0.1615000587575624, -0.9868727025413683 L 0.14305787939766795, -0.9897143240057923 L 0.12456588888754623, -0.992211338035227 M 0.12456588888754623,-0.992211338035227 Q -0.19176785178823608, -0.056789884843386707 -0.43580352746740725, 0.900041824276497L -0.43580352746740725, 0.900041824276497 L -0.4195247131124933, 0.9077439149274867 L -0.4031098376647485, 0.9151516042590431 ",
          "type": "path"
         },
         {
          "fillcolor": "#e1b396",
          "layer": "below",
          "line": {
           "color": "rgb(175,175,175)",
           "width": 0.5
          },
          "path": "M -0.3318562407318943,0.9433299716892786 Q -0.1712758072749589, -0.10326953976033369 0.6793603508101153, -0.7338048199263596L 0.6793603508101153, -0.7338048199263596 L 0.6706201025858347, -0.7418009692685529 L 0.6617857460123178, -0.7496930214260501 M 0.6617857460123178,-0.7496930214260501 Q -0.17129325649109894, -0.10324059415111185 -0.35379462485193586, 0.9353231331608761L -0.35379462485193586, 0.9353231331608761 L -0.34284880739878465, 0.9393905978160688 L -0.3318562407318943, 0.9433299716892786 ",
          "type": "path"
         },
         {
          "fillcolor": "#e1b396",
          "layer": "below",
          "line": {
           "color": "rgb(175,175,175)",
           "width": 0.5
          },
          "path": "M -0.22946820732857193,0.973316157178854 Q -0.1553320355803602, -0.12598396216368857 0.9049952863854444, -0.4254215927995751L 0.9049952863854444, -0.4254215927995751 L 0.9037984638828148, -0.4279583352185868 L 0.9025945307943921, -0.4304917106984189 M 0.9025945307943921,-0.4304917106984189 Q -0.15528135006474922, -0.1260464292317272 -0.23570651824542443, 0.9718242831173851L -0.23570651824542443, 0.9718242831173851 L -0.23258855894102912, 0.9725752218978928 L -0.22946820732857193, 0.973316157178854 ",
          "type": "path"
         },
         {
          "fillcolor": "#e1b396",
          "layer": "below",
          "line": {
           "color": "rgb(175,175,175)",
           "width": 0.5
          },
          "path": "M -0.26214773685542386,0.9650277530006997 Q -0.13932704601901255, -0.14348510113463336 0.9723174396078936, -0.2336638539319893L 0.9723174396078936, -0.2336638539319893 L 0.9711449398752398, -0.23849005378572272 L 0.9699484849485673, -0.24331037081468365 M 0.9699484849485673,-0.24331037081468365 Q -0.13923729701998996, -0.14357219479609237 -0.2729237820030919, 0.9620356590153656L -0.2729237820030919, 0.9620356590153656 L -0.267539942307675, 0.963546770670737 L -0.26214773685542386, 0.9650277530006997 ",
          "type": "path"
         },
         {
          "fillcolor": "#e1b396",
          "layer": "below",
          "line": {
           "color": "rgb(175,175,175)",
           "width": 0.5
          },
          "path": "M -0.22289980830632292,0.9748413591231162 Q -0.13366860939037772, -0.1487706384460409 0.9930519791438797, -0.11767653427265576L 0.9930519791438797, -0.11767653427265576 L 0.9929243109834195, -0.1187489480294524 L 0.9927954847054088, -0.11982122328098806 M 0.9927954847054088,-0.11982122328098806 Q -0.13363353251889484, -0.14880214711663767 -0.22546430831397363, 0.9742514283676988L -0.22546430831397363, 0.9742514283676988 L -0.2241822523589875, 0.9745472372990707 L -0.22289980830632292, 0.9748413591231162 ",
          "type": "path"
         },
         {
          "fillcolor": "#dba284",
          "layer": "below",
          "line": {
           "color": "rgb(175,175,175)",
           "width": 0.5
          },
          "path": "M -0.6420509114087748,0.7666620032055597 Q -0.14133106789558286, 0.14151158697256613 -0.7658418247915038, 0.6430290035449564L -0.7658418247915038, 0.6430290035449564 L -0.759827381541128, 0.6501248728208705 L -0.7537471943113663, 0.6571644901147227 M -0.7537471943113663,0.6571644901147227 Q -0.1412127526088058, 0.14162965261781946 -0.6549396444206534, 0.7556811908246414L -0.6549396444206534, 0.7556811908246414 L -0.6485185194254814, 0.7611988767478454 L -0.6420509114087748, 0.7666620032055597 ",
          "type": "path"
         },
         {
          "fillcolor": "#dba284",
          "layer": "below",
          "line": {
           "color": "rgb(175,175,175)",
           "width": 0.5
          },
          "path": "M -0.5918387627879874,0.8060563744934869 Q -0.14360481534564803, 0.13920365300358442 -0.8240823723352084, 0.5664699847356212L -0.8240823723352084, 0.5664699847356212 L -0.8218719083114222, 0.5696723324232459 L -0.8196490001755635, 0.5728660545984542 M -0.8196490001755635,0.5728660545984542 Q -0.14352143892464775, 0.13928961400261905 -0.5971336162614572, 0.8021417856778904L -0.5971336162614572, 0.8021417856778904 L -0.5944894116273415, 0.8041034382857577 L -0.5918387627879874, 0.8060563744934869 ",
          "type": "path"
         },
         {
          "fillcolor": "#dba284",
          "layer": "below",
          "line": {
           "color": "rgb(175,175,175)",
           "width": 0.5
          },
          "path": "M -0.5801876463890409,0.8144828389705613 Q -0.15849612343961517, 0.12197941979946565 -0.9358882956947805, 0.35229688897507905L -0.9358882956947805, 0.35229688897507905 L -0.9358270214751033, 0.3524596230450184 L -0.9357657189589111, 0.3526223464576686 M -0.9357657189589111,0.3526223464576686 Q -0.1584995007431468, 0.12197503131449981 -0.580515958987188, 0.8142488694257951L -0.580515958987188, 0.8142488694257951 L -0.5803518144787533, 0.8143658707431315 L -0.5801876463890409, 0.8144828389705613 ",
          "type": "path"
         },
         {
          "fillcolor": "#dba284",
          "layer": "below",
          "line": {
           "color": "rgb(175,175,175)",
           "width": 0.5
          },
          "path": "M -0.602938762728038,0.7977874706962893 Q -0.16881098700851882, 0.10725134341913717 -0.9783683261084972, 0.2068705355232038L -0.9783683261084972, 0.2068705355232038 L -0.9776296576049918, 0.21033366960890162 L -0.9768787306727643, 0.21379416633568069 M -0.9768787306727643,0.21379416633568069 Q -0.1688275570494051, 0.1072252581285299 -0.6088187719438812, 0.7933093362168028L -0.6088187719438812, 0.7933093362168028 L -0.6058829046364044, 0.7955538359340327 L -0.602938762728038, 0.7977874706962893 ",
          "type": "path"
         },
         {
          "fillcolor": "#dba284",
          "layer": "below",
          "line": {
           "color": "rgb(175,175,175)",
           "width": 0.5
          },
          "path": "M -0.5812816547003813,0.8137024258958472 Q -0.17022941919112758, 0.1049854506198424 -0.9880476513644166, 0.15414875488715482L -0.9880476513644166, 0.15414875488715482 L -0.9879276637239355, 0.1549158844307665 L -0.9878070804769115, 0.1556829205779512 M -0.9878070804769115,0.1556829205779512 Q -0.17021844330719985, 0.10500324546447881 -0.5823746132759068, 0.8129205433569372L -0.5823746132759068, 0.8129205433569372 L -0.581828265328526, 0.8133116682212289 L -0.5812816547003813, 0.8137024258958472 ",
          "type": "path"
         },
         {
          "fillcolor": "#dba284",
          "layer": "below",
          "line": {
           "color": "rgb(175,175,175)",
           "width": 0.5
          },
          "path": "M -0.5855382386664818,0.8106447872276452 Q -0.18212018337869407, 0.08265735784617632 -0.9956664157440409, -0.09299671262692355L -0.9956664157440409, -0.09299671262692355 L -0.9958096942018291, -0.09144972899719073 L -0.995950569086637, -0.08990252463643016 M -0.995950569086637,-0.08990252463643016 Q -0.18210284056353387, 0.08269555888130976 -0.5877148708053787, 0.8090681248412998L -0.5877148708053787, 0.8090681248412998 L -0.58662708443049, 0.8098571872945147 L -0.5855382386664818, 0.8106447872276452 ",
          "type": "path"
         },
         {
          "fillcolor": "#dba284",
          "layer": "below",
          "line": {
           "color": "rgb(175,175,175)",
           "width": 0.5
          },
          "path": "M -0.5799687189323003,0.8146387451257315 Q -0.19018923750025463, 0.06187126909213793 -0.9482640099592851, -0.3174828616097836L -0.9482640099592851, -0.3174828616097836 L -0.9483095059044995, -0.31734694107737055 L -0.9483549823673854, -0.31721101402529556 M -0.9483549823673854,-0.31721101402529556 Q -0.1901886838072711, 0.06187297109124354 -0.5801876463890409, 0.8144828389705613L -0.5801876463890409, 0.8144828389705613 L -0.5800781878984839, 0.814560799403219 L -0.5799687189323003, 0.8146387451257315 ",
          "type": "path"
         },
         {
          "fillcolor": "#dba284",
          "layer": "below",
          "line": {
           "color": "rgb(175,175,175)",
           "width": 0.5
          },
          "path": "M -0.5839029879677717,0.8118234417915685 Q -0.19469020921967248, 0.04577906108692228 -0.8844964178078185, -0.4665469825056604L -0.8844964178078185, -0.4665469825056604 L -0.8850704864235803, -0.4654570163419248 L -0.8856432118731762, -0.46436634380945857 M -0.8856432118731762,-0.46436634380945857 Q -0.19467994875385827, 0.04582267509863568 -0.5855382386664818, 0.8106447872276452L -0.5855382386664818, 0.8106447872276452 L -0.5847209103021732, 0.8112345265429707 L -0.5839029879677717, 0.8118234417915685 ",
          "type": "path"
         },
         {
          "fillcolor": "#dba284",
          "layer": "below",
          "line": {
           "color": "rgb(175,175,175)",
           "width": 0.5
          },
          "path": "M -0.580515958987188,0.8142488694257951 Q -0.19984723688428194, 0.00781549164913537 -0.6423319528566122, -0.7664265537802113L -0.6423319528566122, -0.7664265537802113 L -0.6427841031233427, -0.7660473854611867 L -0.6432360295671992, -0.7656679503979681 M -0.6432360295671992,-0.7656679503979681 Q -0.19984629955539598, 0.007839423066459973 -0.5812816547003813, 0.8137024258958472L -0.5812816547003813, 0.8137024258958472 L -0.5808988710977716, 0.8139757376957464 L -0.580515958987188, 0.8142488694257951 ",
          "type": "path"
         },
         {
          "fillcolor": "#dba284",
          "layer": "below",
          "line": {
           "color": "rgb(175,175,175)",
           "width": 0.5
          },
          "path": "M -0.5971336162614572,0.8021417856778904 Q -0.19084871843102702, -0.05980607555453357 -0.03256441264087175, -0.9994696388732152L -0.03256441264087175, -0.9994696388732152 L -0.03716272912672664, -0.9993092271983951 L -0.041760258868447774, -0.999127659900996 M -0.041760258868447774,-0.999127659900996 Q -0.19090680488177797, -0.05962039793418657 -0.602938762728038, 0.7977874706962893L -0.602938762728038, 0.7977874706962893 L -0.6000401392557974, 0.7999698939846945 L -0.5971336162614572, 0.8021417856778904 ",
          "type": "path"
         },
         {
          "fillcolor": "#dba284",
          "layer": "below",
          "line": {
           "color": "rgb(175,175,175)",
           "width": 0.5
          },
          "path": "M -0.5877148708053787,0.8090681248412998 Q -0.16061707763692604, -0.11917279207677262 0.6039521521895839, -0.797020575559734L 0.6039521521895839, -0.797020575559734 L 0.6014224831433829, -0.7989311589678095 L 0.5988867700691946, -0.8008337134737071 M 0.5988867700691946,-0.8008337134737071 Q -0.16069055445837044, -0.11907369864021813 -0.5918387627879874, 0.8060563744934869L -0.5918387627879874, 0.8060563744934869 L -0.5897787392665724, 0.8075648820430048 L -0.5877148708053787, 0.8090681248412998 ",
          "type": "path"
         },
         {
          "fillcolor": "#dba284",
          "layer": "below",
          "line": {
           "color": "rgb(175,175,175)",
           "width": 0.5
          },
          "path": "M -0.6088187719438812,0.7933093362168028 Q -0.11057689602468641, -0.1666515828474056 0.9675576817941062, -0.2526502174968689L 0.9675576817941062, -0.2526502174968689 L 0.9664036739288973, -0.2570290625916251 L 0.9652298489720559, -0.26140263704366534 M 0.9652298489720559,-0.26140263704366534 Q -0.11063729412659407, -0.16661149164552103 -0.6154072522797166, 0.7882093083956376L -0.6154072522797166, 0.7882093083956376 L -0.6121183236658769, 0.7907661840471409 L -0.6088187719438812, 0.7933093362168028 ",
          "type": "path"
         },
         {
          "fillcolor": "#dba284",
          "layer": "below",
          "line": {
           "color": "rgb(175,175,175)",
           "width": 0.5
          },
          "path": "M -0.5823746132759068,0.8129205433569372 Q -0.10207867750168974, -0.1719882077338619 0.9925508144695758, -0.12183136170864049L 0.9925508144695758, -0.12183136170864049 L 0.9924352421288085, -0.12276925584499279 L 0.9923187835410109, -0.12370704034810781 M 0.9923187835410109,-0.12370704034810781 Q -0.10207941737129066, -0.17198776860328716 -0.5839029879677717, 0.8118234417915685L -0.5839029879677717, 0.8118234417915685 L -0.5831390586289331, 0.8123723520045236 L -0.5823746132759068, 0.8129205433569372 ",
          "type": "path"
         },
         {
          "fillcolor": "#d59171",
          "layer": "below",
          "line": {
           "color": "rgb(175,175,175)",
           "width": 0.5
          },
          "path": "M -0.6900893139618419,0.7237242145704912 Q -0.15123827421439812, 0.13087010511438632 -0.8153499348227924, 0.5789684652763638L -0.8153499348227924, 0.5789684652763638 L -0.8131833499169723, 0.5820075939520127 L -0.8110054370472943, 0.5850386150329969 M -0.8110054370472943,0.5850386150329969 Q -0.15120390425956765, 0.13090981375230623 -0.6950949556996645, 0.7189179386834644L -0.6950949556996645, 0.7189179386834644 L -0.6925963039905682, 0.7213254187248669 L -0.6900893139618419, 0.7237242145704912 ",
          "type": "path"
         },
         {
          "fillcolor": "#d59171",
          "layer": "below",
          "line": {
           "color": "rgb(175,175,175)",
           "width": 0.5
          },
          "path": "M -0.6783529910669077,0.7347361563926059 Q -0.16585371661705592, 0.11177005271676899 -0.9356430290443967, 0.3529477612914214L -0.9356430290443967, 0.3529477612914214 L -0.9356225697228733, 0.35300199294786866 L -0.9356021072579797, 0.35305622341835013 M -0.9356021072579797,0.35305622341835013 Q -0.1658554895075274, 0.11176742190915234 -0.678461466988458, 0.734635990005846L -0.678461466988458, 0.734635990005846 L -0.6784072308763708, 0.7346860752012757 L -0.6783529910669077, 0.7347361563926059 ",
          "type": "path"
         },
         {
          "fillcolor": "#d59171",
          "layer": "below",
          "line": {
           "color": "rgb(175,175,175)",
           "width": 0.5
          },
          "path": "M -0.7020675937854113,0.7121103101039632 Q -0.17633845261479156, 0.09436498359784158 -0.9819627846434424, 0.18907429644268514L -0.9819627846434424, 0.18907429644268514 L -0.9810633081413793, 0.19368733933505575 L -0.9801421607134153, 0.19829610382465318 M -0.9801421607134153,0.19829610382465318 Q -0.17640345458278883, 0.0942434146837749 -0.7097020761761373, 0.704501925527021L -0.7097020761761373, 0.704501925527021 L -0.705895085784568, 0.7083164037809637 L -0.7020675937854113, 0.7121103101039632 ",
          "type": "path"
         },
         {
          "fillcolor": "#d59171",
          "layer": "below",
          "line": {
           "color": "rgb(175,175,175)",
           "width": 0.5
          },
          "path": "M -0.6820328606916124,0.7313215277405798 Q -0.17711313846671678, 0.0929028319399878 -0.9893733904526769, 0.14539702288621656L -0.9893733904526769, 0.14539702288621656 L -0.9891919958499213, 0.14662603911464397 L -0.9890090745431847, 0.14785482904265745 M -0.9890090745431847,0.14785482904265745 Q -0.1771074584555571, 0.09291365970304438 -0.6837586222865929, 0.7297082611898679L -0.6837586222865929, 0.7297082611898679 L -0.682896217884674, 0.7305154040804395 L -0.6820328606916124, 0.7313215277405798 ",
          "type": "path"
         },
         {
          "fillcolor": "#d59171",
          "layer": "below",
          "line": {
           "color": "rgb(175,175,175)",
           "width": 0.5
          },
          "path": "M -0.6856955423180174,0.7278884689601834 Q -0.1873291337379527, 0.07005566110592515 -0.9950538521589766, -0.09933695839707213L -0.9950538521589766, -0.09933695839707213 L -0.9953651822015234, -0.09616732324926243 L -0.9956664157440409, -0.09299671262692355 M -0.9956664157440409,-0.09299671262692355 Q -0.18731805714234862, 0.07008527283542397 -0.6900893139618419, 0.7237242145704912L -0.6900893139618419, 0.7237242145704912 L -0.687895579245792, 0.7258096665477087 L -0.6856955423180174, 0.7278884689601834 ",
          "type": "path"
         },
         {
          "fillcolor": "#d59171",
          "layer": "below",
          "line": {
           "color": "rgb(175,175,175)",
           "width": 0.5
          },
          "path": "M -0.6796537254203219,0.7335331032218503 Q -0.1938319823469011, 0.04928653588426183 -0.9474875990016237, -0.31979251044722473L -0.9474875990016237, -0.31979251044722473 L -0.947739406599603, -0.31904547822878243 L -0.9479906252114684, -0.3182982477349967 M -0.9479906252114684,-0.3182982477349967 Q -0.19383315242353064, 0.04928193402816435 -0.6808441910347924, 0.7324282814953141L -0.6808441910347924, 0.7324282814953141 L -0.6802491825261083, 0.7329809340443729 L -0.6796537254203219, 0.7335331032218503 ",
          "type": "path"
         },
         {
          "fillcolor": "#d59171",
          "layer": "below",
          "line": {
           "color": "rgb(175,175,175)",
           "width": 0.5
          },
          "path": "M -0.6837586222865929,0.7297082611898679 Q -0.1973764983383178, 0.032288045832847063 -0.8806350328759859, -0.47379524994612515L -0.8806350328759859, -0.47379524994612515 L -0.8813344732595596, -0.47249290602536526 L -0.8820319876483332, -0.4711895295580437 M -0.8820319876483332,-0.4711895295580437 Q -0.197371671086427, 0.03231754094220781 -0.6856955423180174, 0.7278884689601834L -0.6856955423180174, 0.7278884689601834 L -0.6847276868574597, 0.7287990085413348 L -0.6837586222865929, 0.7297082611898679 ",
          "type": "path"
         },
         {
          "fillcolor": "#d59171",
          "layer": "below",
          "line": {
           "color": "rgb(175,175,175)",
           "width": 0.5
          },
          "path": "M -0.7097020761761373,0.704501925527021 Q -0.1995107193052481, -0.013981161693596887 -0.6045091120700439, -0.7965982258480665L -0.6045091120700439, -0.7965982258480665 L -0.6093997537487731, -0.7928631282453074 L -0.6142673178670454, -0.7890980054469954 M -0.6142673178670454,-0.7890980054469954 Q -0.19952135118370404, -0.01382860881755817 -0.7172541104630754, 0.6968116969625455L -0.7172541104630754, 0.6968116969625455 L -0.7134884543920976, 0.7006669861276293 L -0.7097020761761373, 0.704501925527021 ",
          "type": "path"
         },
         {
          "fillcolor": "#d59171",
          "layer": "below",
          "line": {
           "color": "rgb(175,175,175)",
           "width": 0.5
          },
          "path": "M -0.7251296384267738,0.6886123782470486 Q -0.18305976032106158, -0.08055510009425532 0.017870760360033364, -0.9998403052108643L 0.017870760360033364, -0.9998403052108643 L 0.010714212566818532, -0.9999426011772241 L 0.003557115920486173, -0.9999936734431515 M 0.003557115920486173,-0.9999936734431515 Q -0.1831366890553644, -0.08038005425376857 -0.7336141956306513, 0.6795661939569922L -0.7336141956306513, 0.6795661939569922 L -0.7293859415376003, 0.684102439907437 L -0.7251296384267738, 0.6886123782470486 ",
          "type": "path"
         },
         {
          "fillcolor": "#d59171",
          "layer": "below",
          "line": {
           "color": "rgb(175,175,175)",
           "width": 0.5
          },
          "path": "M -0.7172541104630754,0.6968116969625455 Q -0.14701649277212323, -0.13559554142000482 0.6366624298801813, -0.7711426264829764L 0.6366624298801813, -0.7711426264829764 L 0.6316957915224123, -0.7752163742935729 L 0.6267030875531231, -0.7792581344146383 M 0.6267030875531231,-0.7792581344146383 Q -0.14711667573251394, -0.13548683966132777 -0.7251296384267738, 0.6886123782470486L -0.7251296384267738, 0.6886123782470486 L -0.7212035267330809, 0.692723229744583 L -0.7172541104630754, 0.6968116969625455 ",
          "type": "path"
         },
         {
          "fillcolor": "#d59171",
          "layer": "below",
          "line": {
           "color": "rgb(175,175,175)",
           "width": 0.5
          },
          "path": "M -0.6790036246886605,0.7341349178861203 Q -0.1197101705216467, -0.16021696250297057 0.8965004062013018, -0.44304291178270866L 0.8965004062013018, -0.44304291178270866 L 0.8963091396509131, -0.44342973082354314 L 0.8961177061971292, -0.443816467292501 M 0.8961177061971292,-0.443816467292501 Q -0.11970833998364819, -0.16021833021960782 -0.6796537254203219, 0.7335331032218503L -0.6796537254203219, 0.7335331032218503 L -0.6793287416976505, 0.7338340825441995 L -0.6790036246886605, 0.7341349178861203 ",
          "type": "path"
         },
         {
          "fillcolor": "#d59171",
          "layer": "below",
          "line": {
           "color": "rgb(175,175,175)",
           "width": 0.5
          },
          "path": "M -0.6950949556996645,0.7189179386834644 Q -0.10007136364316421, -0.1731638593315522 0.9699484849485673, -0.24331037081468365L 0.9699484849485673, -0.24331037081468365 L 0.9687643391070315, -0.24798317538598538 L 0.9675576817941062, -0.2526502174968689 M 0.9675576817941062,-0.2526502174968689 Q -0.10006237367000148, -0.17316905432416324 -0.7020675937854113, 0.7121103101039632L -0.7020675937854113, 0.7121103101039632 L -0.69858956717992, 0.7155226178307517 L -0.6950949556996645, 0.7189179386834644 ",
          "type": "path"
         },
         {
          "fillcolor": "#d59171",
          "layer": "below",
          "line": {
           "color": "rgb(175,175,175)",
           "width": 0.5
          },
          "path": "M -0.6808441910347924,0.7324282814953141 Q -0.0911034637697632, -0.17804538435228096 0.9923187835410109, -0.12370704034810781L 0.9923187835410109, -0.12370704034810781 L 0.9922266587031813, -0.12444379357252235 L 0.9921339868584353, -0.12518047819203265 M 0.9921339868584353,-0.12518047819203265 Q -0.09109107500828609, -0.1780517229735079 -0.6820328606916124, 0.7313215277405798L -0.6820328606916124, 0.7313215277405798 L -0.6814387505539898, 0.7318751459391262 L -0.6808441910347924, 0.7324282814953141 ",
          "type": "path"
         },
         {
          "fillcolor": "#d0805f",
          "layer": "below",
          "line": {
           "color": "rgb(175,175,175)",
           "width": 0.5
          },
          "path": "M -0.8331506352038044,0.5530461274247359 Q -0.17926897907597197, 0.08867149001262314 -0.9451751206332624, 0.3265639161571559L -0.9451751206332624, 0.3265639161571559 L -0.9441101487688714, 0.32963013665564533 L -0.9430352298796499, 0.3326928842128064 M -0.9430352298796499,0.3326928842128064 Q -0.17937535736410937, 0.08845609741842592 -0.8380364660215756, 0.5456142241713174L -0.8380364660215756, 0.5456142241713174 L -0.8356018131394967, 0.5493356076916784 L -0.8331506352038044, 0.5530461274247359 ",
          "type": "path"
         },
         {
          "fillcolor": "#d0805f",
          "layer": "below",
          "line": {
           "color": "rgb(175,175,175)",
           "width": 0.5
          },
          "path": "M -0.8240823723352084,0.5664699847356212 Q -0.18323925561599064, 0.08014596185272001 -0.975368550594329, 0.22058148270314495L -0.975368550594329, 0.22058148270314495 L -0.9746534188343684, 0.22372016707144923 L -0.97392818698177, 0.22685653308292109 M -0.97392818698177,0.22685653308292109 Q -0.18329943010501493, 0.0800082428452016 -0.8285547712204091, 0.5599080202032254L -0.8285547712204091, 0.5599080202032254 L -0.8263250854896932, 0.56319344198104 L -0.8240823723352084, 0.5664699847356212 ",
          "type": "path"
         },
         {
          "fillcolor": "#d0805f",
          "layer": "below",
          "line": {
           "color": "rgb(175,175,175)",
           "width": 0.5
          },
          "path": "M -0.8285547712204091,0.5599080202032254 Q -0.18674919298561385, 0.0715872818259079 -0.9905152228500215, 0.1374030323623622L -0.9905152228500215, 0.1374030323623622 L -0.9899523757446841, 0.14140118018409809 L -0.9893733904526769, 0.14539702288621656 M -0.9893733904526769,0.14539702288621656 Q -0.18675576608303596, 0.07157013228112942 -0.8331506352038044, 0.5530461274247359L -0.8331506352038044, 0.5530461274247359 L -0.8308597871048948, 0.5564818183660709 L -0.8285547712204091, 0.5599080202032254 ",
          "type": "path"
         },
         {
          "fillcolor": "#d0805f",
          "layer": "below",
          "line": {
           "color": "rgb(175,175,175)",
           "width": 0.5
          },
          "path": "M -0.8153499348227924,0.5789684652763638 Q -0.19351600105063957, 0.05051294227590458 -0.994301978687894, -0.1066000711882437L -0.994301978687894, -0.1066000711882437 L -0.994684544784408, -0.10296920106048674 L -0.9950538521589766, -0.09933695839707213 M -0.9950538521589766,-0.09933695839707213 Q -0.1935201109174801, 0.05049719467937014 -0.8196490001755635, 0.5728660545984542L -0.8196490001755635, 0.5728660545984542 L -0.8175051615833749, 0.5759212713423078 L -0.8153499348227924, 0.5789684652763638 ",
          "type": "path"
         },
         {
          "fillcolor": "#d0805f",
          "layer": "below",
          "line": {
           "color": "rgb(175,175,175)",
           "width": 0.5
          },
          "path": "M -0.8014218252799907,0.598099538509175 Q -0.19765908060933066, 0.030510454809362243 -0.944467133919335, -0.32860589304849197L -0.944467133919335, -0.32860589304849197 L -0.944913708018519, -0.32731954478566183 L -0.945358530134035, -0.32603258963302545 M -0.945358530134035,-0.32603258963302545 Q -0.19766356838499075, 0.030481366985620862 -0.8032230237412766, 0.5956784150293852L -0.8032230237412766, 0.5956784150293852 L -0.8023233377712178, 0.5968896561908679 L -0.8014218252799907, 0.598099538509175 ",
          "type": "path"
         },
         {
          "fillcolor": "#d0805f",
          "layer": "below",
          "line": {
           "color": "rgb(175,175,175)",
           "width": 0.5
          },
          "path": "M -0.8512962438313266,0.5246853392640912 Q -0.1999999988222162, -2.170514965040982e-05 -0.851182340041058, -0.5248701020273767L -0.851182340041058, -0.5248701020273767 L -0.8547829511141835, -0.5189856515208561 L -0.8583428820769436, -0.5130765018862645 M -0.8583428820769436,-0.5130765018862645 Q -0.19999999857087702, 2.390918620394901e-05 -0.8582201851280649, 0.5132817100177544L -0.8582201851280649, 0.5132817100177544 L -0.8547772317455085, 0.5189950713537512 L -0.8512962438313266, 0.5246853392640912 ",
          "type": "path"
         },
         {
          "fillcolor": "#d0805f",
          "layer": "below",
          "line": {
           "color": "rgb(175,175,175)",
           "width": 0.5
          },
          "path": "M -0.8582201851280649,0.5132817100177544 Q -0.19465933693420803, -0.04591015731114931 -0.5384189793934481, -0.8426772826111535L -0.5384189793934481, -0.8426772826111535 L -0.5479738645377222, -0.8364954535343238 L -0.5574577811260326, -0.8302052892279357 M -0.5574577811260326,-0.8302052892279357 Q -0.19468958493977262, -0.04578171595712713 -0.8690274222867983, 0.49476392280921483L -0.8690274222867983, 0.49476392280921483 L -0.86367343448833, 0.5040517816247972 L -0.8582201851280649, 0.5132817100177544 ",
          "type": "path"
         },
         {
          "fillcolor": "#d0805f",
          "layer": "below",
          "line": {
           "color": "rgb(175,175,175)",
           "width": 0.5
          },
          "path": "M -0.8032230237412766,0.5956784150293852 Q -0.1841098665086032, -0.07812526514632966 -0.12969618642142572, -0.9915537803002613L -0.12969618642142572, -0.9915537803002613 L -0.13089909035422576, -0.9913956970576563 L -0.13210180160772958, -0.9912361545121284 M -0.13210180160772958,-0.9912361545121284 Q -0.18407434760949234, -0.0782089160654959 -0.8052053116924115, 0.5929961264817221L -0.8052053116924115, 0.5929961264817221 L -0.8042152859927867, 0.5943380971934581 L -0.8032230237412766, 0.5956784150293852 ",
          "type": "path"
         },
         {
          "fillcolor": "#d0805f",
          "layer": "below",
          "line": {
           "color": "rgb(175,175,175)",
           "width": 0.5
          },
          "path": "M -0.8826655513457392,0.4700016217711619 Q -0.1647052469730393, -0.11345563723125501 0.12456588888754623, -0.992211338035227L 0.12456588888754623, -0.992211338035227 L 0.10857194375363305, -0.9940885941552483 L 0.09254984261721232, -0.9957080529108566 M 0.09254984261721232,-0.9957080529108566 Q -0.16482939512253714, -0.11327519809534006 -0.8963741150043267, 0.44329837124696275L -0.8963741150043267, 0.44329837124696275 L -0.8896200309732679, 0.45670143473731484 L -0.8826655513457392, 0.4700016217711619 ",
          "type": "path"
         },
         {
          "fillcolor": "#d0805f",
          "layer": "below",
          "line": {
           "color": "rgb(175,175,175)",
           "width": 0.5
          },
          "path": "M -0.8380364660215756,0.5456142241713174 Q -0.1322330455354189, -0.15004806452743014 0.6466439701073168, -0.7627919611033191L 0.6466439701073168, -0.7627919611033191 L 0.6416667846049764, -0.766983531462515 L 0.6366624298801813, -0.7711426264829764 M 0.6366624298801813,-0.7711426264829764 Q -0.13227999659587739, -0.15000667485347002 -0.844731173628985, 0.5351908484824807L -0.844731173628985, 0.5351908484824807 L -0.8413999607522974, 0.5404129032934284 L -0.8380364660215756, 0.5456142241713174 ",
          "type": "path"
         },
         {
          "fillcolor": "#d0805f",
          "layer": "below",
          "line": {
           "color": "rgb(175,175,175)",
           "width": 0.5
          },
          "path": "M -0.8052053116924115,0.5929961264817221 Q -0.10319331335436313, -0.17132174432613106 0.9006659719944524, -0.43451214815156586L 0.9006659719944524, -0.43451214815156586 L 0.8998205160061825, -0.4362602881014584 L 0.8989716669845073, -0.4380067830058071 M 0.8989716669845073,-0.4380067830058071 Q -0.1031586594358132, -0.1713426128650019 -0.8077408029338379, 0.589537781041893L -0.8077408029338379, 0.589537781041893 L -0.8064749110854432, 0.5912683128578146 L -0.8052053116924115, 0.5929961264817221 ",
          "type": "path"
         },
         {
          "fillcolor": "#d0805f",
          "layer": "below",
          "line": {
           "color": "rgb(175,175,175)",
           "width": 0.5
          },
          "path": "M -0.8077408029338379,0.589537781041893 Q -0.0877225102527755, -0.17973525306670282 0.9617099116530448, -0.27406941790045236L 0.9617099116530448, -0.27406941790045236 L 0.9610061574565246, -0.2765269703494497 L 0.9602961232442841, -0.2789827157405968 M 0.9602961232442841,-0.2789827157405968 Q -0.08768241380213819, -0.1797548172089711 -0.8110054370472943, 0.5850386150329969L -0.8110054370472943, 0.5850386150329969 L -0.8093762462458094, 0.5872904664755276 L -0.8077408029338379, 0.589537781041893 ",
          "type": "path"
         },
         {
          "fillcolor": "#d0805f",
          "layer": "below",
          "line": {
           "color": "rgb(175,175,175)",
           "width": 0.5
          },
          "path": "M -0.7996133289475026,0.6005152156019804 Q -0.07414045852766175, -0.18575034968825246 0.9933505486393627, -0.11512900380823779L 0.9933505486393627, -0.11512900380823779 L 0.9932020806833726, -0.11640286476809539 L 0.9930519791438797, -0.11767653427265576 M 0.9930519791438797,-0.11767653427265576 Q -0.07409841443896609, -0.1857671256644491 -0.8014218252799907, 0.598099538509175L -0.8014218252799907, 0.598099538509175 L -0.8005184883199248, 0.599308059229961 L -0.7996133289475026, 0.6005152156019804 ",
          "type": "path"
         },
         {
          "fillcolor": "#ca6f4c",
          "layer": "below",
          "line": {
           "color": "rgb(175,175,175)",
           "width": 0.5
          },
          "path": "M -0.936296067222771,0.3512117231858474 Q -0.19024843263970237, 0.06168900937879162 -0.9642359541236478, 0.26504532588834423L -0.9642359541236478, 0.26504532588834423 L -0.964099312009798, 0.2655419299889081 L -0.9639624141332231, 0.26603846364473005 M -0.9639624141332231,0.26603846364473005 Q -0.19024526406837294, 0.06169878037331893 -0.9366213785291863, 0.35034325065867444L -0.9366213785291863, 0.35034325065867444 L -0.936458823553733, 0.35077752463400264 L -0.936296067222771, 0.3512117231858474 ",
          "type": "path"
         },
         {
          "fillcolor": "#ca6f4c",
          "layer": "below",
          "line": {
           "color": "rgb(175,175,175)",
           "width": 0.5
          },
          "path": "M -0.9366213785291863,0.35034325065867444 Q -0.19342485719109942, 0.05086083582288834 -0.9878070804769115, 0.1556829205779512L -0.9878070804769115, 0.1556829205779512 L -0.987698046371073, 0.15637317287426827 L -0.9875885299360607, 0.15706334880783143 M -0.9875885299360607,0.15706334880783143 Q -0.1934158442596638, 0.05089509985569818 -0.9369863908369062, 0.3493658589307612L -0.9369863908369062, 0.3493658589307612 L -0.9368040121502967, 0.34985460239806276 L -0.9366213785291863, 0.35034325065867444 ",
          "type": "path"
         },
         {
          "fillcolor": "#ca6f4c",
          "layer": "below",
          "line": {
           "color": "rgb(175,175,175)",
           "width": 0.5
          },
          "path": "M -0.9415605215102019,0.33684385749696644 Q -0.19999592690519252, -0.0012764095474781974 -0.9371844013901254, -0.3488343414731874L -0.9371844013901254, -0.3488343414731874 L -0.9381309131197838, -0.3462807962463998 L -0.9390704672224647, -0.34372468283581553 M -0.9390704672224647,-0.34372468283581553 Q -0.19999656447239822, -0.001172262444107279 -0.9430352298796499, 0.3326928842128064L -0.9430352298796499, 0.3326928842128064 L -0.9423001614050437, 0.33476918289476504 L -0.9415605215102019, 0.33684385749696644 ",
          "type": "path"
         },
         {
          "fillcolor": "#ca6f4c",
          "layer": "below",
          "line": {
           "color": "rgb(175,175,175)",
           "width": 0.5
          },
          "path": "M -0.938436236746574,0.3454524997172956 Q -0.19948067497523683, -0.014403482614420735 -0.8790738330839252, -0.476685636438875L -0.8790738330839252, -0.476685636438875 L -0.8798556198706686, -0.4752410842740781 L -0.8806350328759859, -0.47379524994612515 M -0.8806350328759859,-0.47379524994612515 Q -0.1994876126579404, -0.014307075034245852 -0.9392346459872356, 0.3432758071540029L -0.9392346459872356, 0.3432758071540029 L -0.9388360722001577, 0.3443643848248252 L -0.938436236746574, 0.3454524997172956 ",
          "type": "path"
         },
         {
          "fillcolor": "#ca6f4c",
          "layer": "below",
          "line": {
           "color": "rgb(175,175,175)",
           "width": 0.5
          },
          "path": "M -0.9402650293955912,0.340443349906718 Q -0.19283849701893774, -0.053040683135468204 -0.6338943967201937, -0.7734196104358498L -0.6338943967201937, -0.7734196104358498 L -0.636043487766291, -0.7716532133478691 L -0.6381876566302128, -0.7698808446278148 M -0.6381876566302128,-0.7698808446278148 Q -0.19288452173855594, -0.052873067564579095 -0.9415605215102019, 0.33684385749696644L -0.9415605215102019, 0.33684385749696644 L -0.9409144966982255, 0.33864422319467535 L -0.9402650293955912, 0.340443349906718 ",
          "type": "path"
         },
         {
          "fillcolor": "#ca6f4c",
          "layer": "below",
          "line": {
           "color": "rgb(175,175,175)",
           "width": 0.5
          },
          "path": "M -0.9392346459872356,0.3432758071540029 Q -0.17070195441937275, -0.10421536718452991 -0.12385082698938694, -0.9923008478551477L -0.12385082698938694, -0.9923008478551477 L -0.12534123706313122, -0.9921136902046478 L -0.12683136432315342, -0.9919242939982504 M -0.12683136432315342,-0.9919242939982504 Q -0.17070144264218823, -0.10421620545709642 -0.9402650293955912, 0.340443349906718L -0.9402650293955912, 0.340443349906718 L -0.9397509048383791, 0.34185996673411134 L -0.9392346459872356, 0.3432758071540029 ",
          "type": "path"
         },
         {
          "fillcolor": "#ca6f4c",
          "layer": "below",
          "line": {
           "color": "rgb(175,175,175)",
           "width": 0.5
          },
          "path": "M -0.9506025890965748,0.3104105629692529 Q -0.15781594387074438, -0.12285816155301228 0.06775042117816321, -0.9977023005036029L 0.06775042117816321, -0.9977023005036029 L 0.05831141003567104, -0.9982984420801486 L 0.04886718291911822, -0.9988052855454608 M 0.04886718291911822,-0.9988052855454608 Q -0.15818674611453154, -0.12238036343178899 -0.9545180460577471, 0.298153148147224L -0.9545180460577471, 0.298153148147224 L -0.9525800332136043, 0.30428815343809973 L -0.9506025890965748, 0.3104105629692529 ",
          "type": "path"
         },
         {
          "fillcolor": "#ca6f4c",
          "layer": "below",
          "line": {
           "color": "rgb(175,175,175)",
           "width": 0.5
          },
          "path": "M -0.9358882956947805,0.35229688897507905 Q -0.12085569613891922, -0.1593546381840743 0.5916472320157833, -0.8061969690144349L 0.5916472320157833, -0.8061969690144349 L 0.5913109004662521, -0.8064436861863264 L 0.5909744660355578, -0.8066902630464726 M 0.5909744660355578,-0.8066902630464726 Q -0.12087598200959307, -0.1593392512007526 -0.9360923387062021, 0.35175436516915176L -0.9360923387062021, 0.35175436516915176 L -0.9359903565080658, 0.3520256418556805 L -0.9358882956947805, 0.35229688897507905 ",
          "type": "path"
         },
         {
          "fillcolor": "#ca6f4c",
          "layer": "below",
          "line": {
           "color": "rgb(175,175,175)",
           "width": 0.5
          },
          "path": "M -0.9369863908369062,0.3493658589307612 Q -0.07882897922082625, -0.18380966251805847 0.8989716669845073, -0.4380067830058071L 0.8989716669845073, -0.4380067830058071 L 0.8986248675786004, -0.4387178448266527 L 0.8982775057424928, -0.43942863206332594 M 0.8982775057424928,-0.43942863206332594 Q -0.07885719988148036, -0.18379755718412652 -0.9374311318520102, 0.34817075269852743L -0.9374311318520102, 0.34817075269852743 L -0.9372089518408048, 0.3487683767050276 L -0.9369863908369062, 0.3493658589307612 ",
          "type": "path"
         },
         {
          "fillcolor": "#ca6f4c",
          "layer": "below",
          "line": {
           "color": "rgb(175,175,175)",
           "width": 0.5
          },
          "path": "M -0.9360923387062021,0.35175436516915176 Q -0.06467043916945292, -0.18925573781957072 0.9556035048295812, -0.2946556321494985L 0.9556035048295812, -0.2946556321494985 L 0.9554958357007316, -0.29500458972456767 L 0.9553880391431065, -0.2953535079566349 M 0.9553880391431065,-0.2953535079566349 Q -0.06468470464600866, -0.18925086257361848 -0.936296067222771, 0.3512117231858474L -0.936296067222771, 0.3512117231858474 L -0.9361942422806235, 0.35148305893827814 L -0.9360923387062021, 0.35175436516915176 ",
          "type": "path"
         },
         {
          "fillcolor": "#ca6f4c",
          "layer": "below",
          "line": {
           "color": "rgb(175,175,175)",
           "width": 0.5
          },
          "path": "M -0.9356430290443967,0.3529477612914214 Q -0.048381203823433104, -0.1940599369179415 0.9918268732869424, -0.12759096137990117L 0.9918268732869424, -0.12759096137990117 L 0.9918010161087107, -0.12779180116787162 L 0.9917751182614661, -0.1279926357157119 M 0.9917751182614661,-0.1279926357157119 Q -0.048386755822203247, -0.19405855266131014 -0.9357657189589111, 0.3526223464576686L -0.9357657189589111, 0.3526223464576686 L -0.9357043881480575, 0.35278505920810965 L -0.9356430290443967, 0.3529477612914214 ",
          "type": "path"
         },
         {
          "fillcolor": "#c45e3a",
          "layer": "below",
          "line": {
           "color": "rgb(175,175,175)",
           "width": 0.5
          },
          "path": "M -0.9636878512372354,0.2670313190952702 Q -0.19912671421568032, 0.01866953897842109 -0.9965289343550594, -0.08324712002928246L -0.9965289343550594, -0.08324712002928246 L -0.9965804751736321, -0.0826278191815426 L -0.9966316311227951, -0.08200848642376603 M -0.9966316311227951,-0.08200848642376603 Q -0.19912472698651318, 0.01869072236556422 -0.9639624141332231, 0.26603846364473005L -0.9639624141332231, 0.26603846364473005 L -0.9638252605302405, 0.2665349267240859 L -0.9636878512372354, 0.2670313190952702 ",
          "type": "path"
         },
         {
          "fillcolor": "#c45e3a",
          "layer": "below",
          "line": {
           "color": "rgb(175,175,175)",
           "width": 0.5
          },
          "path": "M -0.9676012982516257,0.25248312343950546 Q -0.19971559807274517, -0.01066207702306242 -0.935219793296101, -0.3540677028863236L -0.935219793296101, -0.3540677028863236 L -0.9362057541414517, -0.35145239494480013 L -0.9371844013901254, -0.3488343414731874 M -0.9371844013901254,-0.3488343414731874 Q -0.1997186188040354, -0.010605343134873184 -0.9688570204203092, 0.2476208270365816L -0.9688570204203092, 0.2476208270365816 L -0.9682322115432908, 0.25005276349200456 L -0.9676012982516257, 0.25248312343950546 ",
          "type": "path"
         },
         {
          "fillcolor": "#c45e3a",
          "layer": "below",
          "line": {
           "color": "rgb(175,175,175)",
           "width": 0.5
          },
          "path": "M -0.9651515958403752,0.261691415691797 Q -0.19852424131415794, -0.02425130121535729 -0.8737747883820776, -0.4863307713766996L -0.8737747883820776, -0.4863307713766996 L -0.8752088351491717, -0.4837452789194226 L -0.8766352314870783, -0.4811555579182231 M -0.8766352314870783,-0.4811555579182231 Q -0.198539692392435, -0.0241244801957947 -0.966354302619593, 0.257214622073863L -0.966354302619593, 0.257214622073863 L -0.9657555432751533, 0.2594537157824367 L -0.9651515958403752, 0.261691415691797 ",
          "type": "path"
         },
         {
          "fillcolor": "#c45e3a",
          "layer": "below",
          "line": {
           "color": "rgb(175,175,175)",
           "width": 0.5
          },
          "path": "M -0.9726272707542851,0.2323708075147791 Q -0.18909932154399112, -0.06512638936408385 -0.6232734782009206, -0.7820039458796397L -0.6232734782009206, -0.7820039458796397 L -0.6261697534997506, -0.7796867574879425 L -0.6290574140974722, -0.7773588423430979 M -0.6290574140974722,-0.7773588423430979 Q -0.18915632047355435, -0.06496065289778116 -0.97392818698177, 0.22685653308292109L -0.97392818698177, 0.22685653308292109 L -0.9732816341204293, 0.22961459161792563 L -0.9726272707542851, 0.2323708075147791 ",
          "type": "path"
         },
         {
          "fillcolor": "#c45e3a",
          "layer": "below",
          "line": {
           "color": "rgb(175,175,175)",
           "width": 0.5
          },
          "path": "M -0.9634467698300407,0.2678998352072292 Q -0.16716322832715425, -0.10980189021708003 -0.13679622423934118, -0.9905992090819878L -0.13679622423934118, -0.9905992090819878 L -0.13719682689229123, -0.9905438055384964 L -0.13759740710641974, -0.9904882399895468 M -0.13759740710641974,-0.9904882399895468 Q -0.16715814852186905, -0.1098096233612554 -0.9636878512372354, 0.2670313190952702L -0.9636878512372354, 0.2670313190952702 L -0.9635674083887893, 0.26746560431373645 L -0.9634467698300407, 0.2678998352072292 ",
          "type": "path"
         },
         {
          "fillcolor": "#c45e3a",
          "layer": "below",
          "line": {
           "color": "rgb(175,175,175)",
           "width": 0.5
          },
          "path": "M -0.9700883092119849,0.24275228594234158 Q -0.16019061534978488, -0.1197454247721276 -0.041760258868447774, -0.999127659900996L -0.041760258868447774, -0.999127659900996 L -0.04516527189739386, -0.9989795284261007 L -0.048569760283981585, -0.9988197927483999 M -0.048569760283981585,-0.9988197927483999 Q -0.1602903000184954, -0.11961195475361458 -0.9713257558292195, 0.23775255216883667L -0.9713257558292195, 0.23775255216883667 L -0.9707102514753849, 0.24025321575495098 L -0.9700883092119849, 0.24275228594234158 ",
          "type": "path"
         },
         {
          "fillcolor": "#c45e3a",
          "layer": "below",
          "line": {
           "color": "rgb(175,175,175)",
           "width": 0.5
          },
          "path": "M -0.966354302619593,0.257214622073863 Q -0.11095161618632216, -0.16640234032501786 0.6089932565708319, -0.7931753989195913L 0.6089932565708319, -0.7931753989195913 L 0.6064757517857506, -0.7951019824499928 L 0.6039521521895839, -0.797020575559734 M 0.6039521521895839,-0.797020575559734 Q -0.11107199087280017, -0.16632201551073328 -0.9676012982516257, 0.25248312343950546L -0.9676012982516257, 0.25248312343950546 L -0.9669806943807724, 0.25484963546153877 L -0.966354302619593, 0.257214622073863 ",
          "type": "path"
         },
         {
          "fillcolor": "#c45e3a",
          "layer": "below",
          "line": {
           "color": "rgb(175,175,175)",
           "width": 0.5
          },
          "path": "M -0.9634122657270361,0.26802389118639947 Q -0.07171630418240219, -0.18669968321991648 0.8950939104370963, -0.44587766427398834L 0.8950939104370963, -0.44587766427398834 L 0.8950618403976727, -0.44594203868208165 L 0.8950297657284948, -0.44600641078351744 M 0.8950297657284948,-0.44600641078351744 Q -0.07171771151639131, -0.18669914261948736 -0.9634467698300407, 0.2678998352072292L -0.9634467698300407, 0.2678998352072292 L -0.9634295197752966, 0.26796186375217934 L -0.9634122657270361, 0.26802389118639947 ",
          "type": "path"
         },
         {
          "fillcolor": "#c45e3a",
          "layer": "below",
          "line": {
           "color": "rgb(175,175,175)",
           "width": 0.5
          },
          "path": "M -0.9713257558292195,0.23775255216883667 Q -0.05058377405532837, -0.19349749818103462 0.9634124339183301, -0.26802328662181435L 0.9634124339183301, -0.26802328662181435 L 0.9625659199662213, -0.27104768901354265 L 0.9617099116530448, -0.27406941790045236 M 0.9617099116530448,-0.27406941790045236 Q -0.05065578847953855, -0.1934786579794171 -0.9726272707542851, 0.2323708075147791L -0.9726272707542851, 0.2323708075147791 L -0.9719802380628283, 0.23506258063615235 L -0.9713257558292195, 0.23775255216883667 ",
          "type": "path"
         },
         {
          "fillcolor": "#c45e3a",
          "layer": "below",
          "line": {
           "color": "rgb(175,175,175)",
           "width": 0.5
          },
          "path": "M -0.9646443455266936,0.26355509223571627 Q -0.03844084883769123, -0.1962709890448351 0.9927954847054088, -0.11982122328098806L 0.9927954847054088, -0.11982122328098806 L 0.9926736583973993, -0.12082635442619084 L 0.9925508144695758, -0.12183136170864049 M 0.9925508144695758,-0.12183136170864049 Q -0.03845002444296189, -0.19626919172487475 -0.9651515958403752, 0.261691415691797L -0.9651515958403752, 0.261691415691797 L -0.964898420639068, 0.26262337643140604 L -0.9646443455266936, 0.26355509223571627 ",
          "type": "path"
         },
         {
          "fillcolor": "#bf4d28",
          "layer": "below",
          "line": {
           "color": "rgb(175,175,175)",
           "width": 0.5
          },
          "path": "M -0.9996692906316355,0.025715936071679837 Q -0.19875885968783366, -0.022246700779937147 -0.9692462446561636, -0.24609290363585096L -0.9692462446561636, -0.24609290363585096 L -0.9735768942729647, -0.22835943365188272 L -0.9775831183902942, -0.21054986734336345 M -0.9775831183902942,-0.21054986734336345 Q -0.1987590404546673, -0.022245085694146686 -0.9999419536174957, -0.010774478902764666L -0.9999419536174957, -0.010774478902764666 L -0.999972084424431, 0.007471972420893931 L -0.9996692906316355, 0.025715936071679837 ",
          "type": "path"
         },
         {
          "fillcolor": "#bf4d28",
          "layer": "below",
          "line": {
           "color": "rgb(175,175,175)",
           "width": 0.5
          },
          "path": "M -0.9886619831333971,0.15015819360507193 Q -0.19921788517930572, -0.017670150669560545 -0.9467978586546189, -0.32182885956207896L -0.9467978586546189, -0.32182885956207896 L -0.9471432760947044, -0.3208108703716109 L -0.9474875990016237, -0.31979251044722473 M -0.9474875990016237,-0.31979251044722473 Q -0.19921629955357753, -0.017688018322561398 -0.9890090745431847, 0.14785482904265745L -0.9890090745431847, 0.14785482904265745 L -0.9888361995118197, 0.14900661238690283 L -0.9886619831333971, 0.15015819360507193 ",
          "type": "path"
         },
         {
          "fillcolor": "#bf4d28",
          "layer": "below",
          "line": {
           "color": "rgb(175,175,175)",
           "width": 0.5
          },
          "path": "M -0.9883095272824901,0.152460743415021 Q -0.1972044458150707, -0.03332276325233008 -0.8833442545646164, -0.4687247891115661L -0.8833442545646164, -0.4687247891115661 L -0.8839210068970863, -0.46763624064655335 L -0.8844964178078185, -0.4665469825056604 M -0.8844964178078185,-0.4665469825056604 Q -0.1972066852127083, -0.03330950776303645 -0.9886619831333971, 0.15015819360507193L -0.9886619831333971, 0.15015819360507193 L -0.9884864256442399, 0.1513095711350556 L -0.9883095272824901, 0.152460743415021 ",
          "type": "path"
         },
         {
          "fillcolor": "#bf4d28",
          "layer": "below",
          "line": {
           "color": "rgb(175,175,175)",
           "width": 0.5
          },
          "path": "M -0.9954634108489905,0.09514513997516602 Q -0.1814510597780132, -0.08411606805739247 -0.5706829260809315, -0.8211705047550758L -0.5706829260809315, -0.8211705047550758 L -0.5768277184904614, -0.8168658293631145 L -0.5829400420152935, -0.8125151736522881 M -0.5829400420152935,-0.8125151736522881 Q -0.18150083594598465, -0.08400860998081547 -0.9966832887974314, 0.08137826387885072L -0.9966832887974314, 0.08137826387885072 L -0.9960971337913767, 0.08826380941588884 L -0.9954634108489905, 0.09514513997516602 ",
          "type": "path"
         },
         {
          "fillcolor": "#bf4d28",
          "layer": "below",
          "line": {
           "color": "rgb(175,175,175)",
           "width": 0.5
          },
          "path": "M -0.9874172124595505,0.1581368032388759 Q -0.16068300434855493, -0.11908388687611049 -0.13599495187906113, -0.9907095301163766L -0.13599495187906113, -0.9907095301163766 L -0.13639559921308986, -0.9906544506109596 L -0.13679622423934118, -0.9905992090819878 M -0.13679622423934118,-0.9905992090819878 Q -0.16066643775861472, -0.11910623735958242 -0.9875885299360607, 0.15706334880783143L -0.9875885299360607, 0.15706334880783143 L -0.9875030170586891, 0.1576000993019557 L -0.9874172124595505, 0.1581368032388759 ",
          "type": "path"
         },
         {
          "fillcolor": "#bf4d28",
          "layer": "below",
          "line": {
           "color": "rgb(175,175,175)",
           "width": 0.5
          },
          "path": "M -0.9940871570683346,0.10858510096599872 Q -0.14669891969997403, -0.13593905604667322 0.03269170929246408, -0.9994654832176733L 0.03269170929246408, -0.9994654832176733 L 0.02528192946002339, -0.9996803609368239 L 0.017870760360033364, -0.9998403052108643 M 0.017870760360033364,-0.9998403052108643 Q -0.14678830046905214, -0.13584253695145446 -0.9954634108489905, 0.09514513997516602L -0.9954634108489905, 0.09514513997516602 L -0.9947979813574697, 0.10186744468721816 L -0.9940871570683346, 0.10858510096599872 ",
          "type": "path"
         },
         {
          "fillcolor": "#bf4d28",
          "layer": "below",
          "line": {
           "color": "rgb(175,175,175)",
           "width": 0.5
          },
          "path": "M -0.9999419536174957,-0.010774478902764666 Q -0.06012968264343941, -0.1907470085353877 0.8129945853971089, -0.5822712461688135L 0.8129945853971089, -0.5822712461688135 L 0.8004748760757192, -0.5993663093397575 L 0.7875957660973756, -0.6161922664440767 M 0.7875957660973756,-0.6161922664440767 Q -0.06040956751511848, -0.19065855384072425 -0.9987393070196541, -0.05019757577713514L -0.9987393070196541, -0.05019757577713514 L -0.9995350121668165, -0.030491957180246915 L -0.9999419536174957, -0.010774478902764666 ",
          "type": "path"
         },
         {
          "fillcolor": "#bf4d28",
          "layer": "below",
          "line": {
           "color": "rgb(175,175,175)",
           "width": 0.5
          },
          "path": "M -0.9880476513644166,0.15414875488715482 Q -0.06003272385490619, -0.1907775460230071 0.8982775057424928, -0.43942863206332594L 0.8982775057424928, -0.43942863206332594 L 0.8979295816935907, -0.44013914427096024 L 0.8975810956496526, -0.440849381004861 M 0.8975810956496526,-0.440849381004861 Q -0.060020709096585134, -0.19078132633867262 -0.9883095272824901, 0.152460743415021L -0.9883095272824901, 0.152460743415021 L -0.9881789497570634, 0.15330480506829208 L -0.9880476513644166, 0.15414875488715482 ",
          "type": "path"
         },
         {
          "fillcolor": "#bf4d28",
          "layer": "below",
          "line": {
           "color": "rgb(175,175,175)",
           "width": 0.5
          },
          "path": "M -0.9988740066854638,0.047441740778854415 Q -0.02291891541863483, -0.1986824685673939 0.9834412493622743, -0.18122723043949313L 0.9834412493622743, -0.18122723043949313 L 0.9815367605925486, -0.1912735935917084 L 0.9795296457842703, -0.20129995784833649 M 0.9795296457842703,-0.20129995784833649 Q -0.022790748427131944, -0.1986972113194626 -0.9996692906316355, 0.025715936071679837L -0.9996692906316355, 0.025715936071679837 L -0.9993306912430536, 0.036580999708599744 L -0.9988740066854638, 0.047441740778854415 ",
          "type": "path"
         },
         {
          "fillcolor": "#bf4d28",
          "layer": "below",
          "line": {
           "color": "rgb(175,175,175)",
           "width": 0.5
          },
          "path": "M -0.9966832887974314,0.08137826387885072 Q -0.01456946940889675, -0.19946862049240532 0.9979298987470215, -0.06431109691771239L 0.9979298987470215, -0.06431109691771239 L 0.9975160497415773, -0.07043955215615089 L 0.9970645652190663, -0.07656534976420035 M 0.9970645652190663,-0.07656534976420035 Q -0.014385287396778582, -0.1994819879250056 -0.9977337312815124, 0.06728596780214109L -0.9977337312815124, 0.06728596780214109 L -0.9972334033200663, 0.07433397139046158 L -0.9966832887974314, 0.08137826387885072 ",
          "type": "path"
         },
         {
          "fillcolor": "#af4624",
          "layer": "below",
          "line": {
           "color": "rgb(175,175,175)",
           "width": 0.5
          },
          "path": "M -0.9963983986359495,-0.08479523097271126 Q -0.19566848069220677, -0.04139861910261643 -0.945358530134035, -0.32603258963302545L -0.945358530134035, -0.32603258963302545 L -0.9457317576932563, -0.32494836896101487 L -0.9461037417728919, -0.3238637210360756 M -0.9461037417728919,-0.3238637210360756 Q -0.19566449633272232, -0.04141744650340125 -0.996184539231246, -0.08727178121609595L -0.996184539231246, -0.08727178121609595 L -0.9962922384497146, -0.08603357254500726 L -0.9963983986359495, -0.08479523097271126 ",
          "type": "path"
         },
         {
          "fillcolor": "#af4624",
          "layer": "below",
          "line": {
           "color": "rgb(175,175,175)",
           "width": 0.5
          },
          "path": "M -0.996184539231246,-0.08727178121609595 Q -0.19170524665056876, -0.05700086320964445 -0.8820319876483332, -0.4711895295580437L -0.8820319876483332, -0.4711895295580437 L -0.8826889813965313, -0.4699576173668793 L -0.8833442545646164, -0.4687247891115661 M -0.8833442545646164,-0.4687247891115661 Q -0.19170955485484978, -0.05698637185639515 -0.995950569086637, -0.08990252463643016L -0.995950569086637, -0.08990252463643016 L -0.9960684226753259, -0.08858723016941132 L -0.996184539231246, -0.08727178121609595 ",
          "type": "path"
         },
         {
          "fillcolor": "#af4624",
          "layer": "below",
          "line": {
           "color": "rgb(175,175,175)",
           "width": 0.5
          },
          "path": "M -0.9922194927621593,-0.12450091639342827 Q -0.1738530748506931, -0.09886914769006211 -0.6142673178670454, -0.7890980054469954L -0.6142673178670454, -0.7890980054469954 L -0.6187805644195848, -0.7855638822505653 L -0.6232734782009206, -0.7820039458796397 M -0.6232734782009206,-0.7820039458796397 Q -0.17389755484918273, -0.09879089238120835 -0.990848856056933, -0.1349760884403876L -0.990848856056933, -0.1349760884403876 L -0.9915480075767252, -0.1297403124345955 L -0.9922194927621593, -0.12450091639342827 ",
          "type": "path"
         },
         {
          "fillcolor": "#af4624",
          "layer": "below",
          "line": {
           "color": "rgb(175,175,175)",
           "width": 0.5
          },
          "path": "M -0.9966697455022271,-0.08154396605835304 Q -0.1454082776189512, -0.1373187270545792 -0.13839849995615644, -0.9903766229116506L -0.13839849995615644, -0.9903766229116506 L -0.1385701509479038, -0.9903526206691611 L -0.13874179777698106, -0.9903285886763097 M -0.13874179777698106,-0.9903285886763097 Q -0.1454000767265171, -0.13732741054837866 -0.9966316311227951, -0.08200848642376603L -0.9966316311227951, -0.08200848642376603 L -0.9966507153755495, -0.08177622846160978 L -0.9966697455022271, -0.08154396605835304 ",
          "type": "path"
         },
         {
          "fillcolor": "#af4624",
          "layer": "below",
          "line": {
           "color": "rgb(175,175,175)",
           "width": 0.5
          },
          "path": "M -0.9893223949858252,-0.14574360630748381 Q -0.13044065173909777, -0.15160882683366234 0.003557115920486173, -0.9999936734431515L 0.003557115920486173, -0.9999936734431515 L -0.0030037250265801977, -0.9999954888078069 L -0.009564436679392467, -0.9999542597294168 M -0.009564436679392467,-0.9999542597294168 Q -0.13052848334115488, -0.1515332143018746 -0.9875081524452091, -0.15756791822655283L -0.9875081524452091, -0.15756791822655283 L -0.9884329551882669, -0.15165847519274842 L -0.9893223949858252, -0.14574360630748381 ",
          "type": "path"
         },
         {
          "fillcolor": "#af4624",
          "layer": "below",
          "line": {
           "color": "rgb(175,175,175)",
           "width": 0.5
          },
          "path": "M -0.9692462446561636,-0.24609290363585096 Q -0.03255345598541795, -0.19733289767143608 0.8388459858752585, -0.5443688198096632L 0.8388459858752585, -0.5443688198096632 L 0.8261376802363711, -0.5634683072664047 L 0.8129945853971089, -0.5822712461688135 M 0.8129945853971089,-0.5822712461688135 Q -0.03286509891267804, -0.1972812339617225 -0.9578508651702067, -0.2872659396668642L -0.9578508651702067, -0.2872659396668642 L -0.9637684485390099, -0.26674028117386006 L -0.9692462446561636, -0.24609290363585096 ",
          "type": "path"
         },
         {
          "fillcolor": "#af4624",
          "layer": "below",
          "line": {
           "color": "rgb(175,175,175)",
           "width": 0.5
          },
          "path": "M -0.9965289343550594,-0.08324712002928246 Q -0.037103915135645274, -0.19652811371813153 0.8975810956496526, -0.440849381004861L 0.8975810956496526, -0.440849381004861 L 0.8972638026570472, -0.441494811341442 L 0.896946045550108, -0.4421400133125518 M 0.896946045550108,-0.4421400133125518 Q -0.037092595487484996, -0.19653025049595244 -0.9963983986359495, -0.08479523097271126L -0.9963983986359495, -0.08479523097271126 L -0.9964639671395736, -0.08402120085111142 L -0.9965289343550594, -0.08324712002928246 ",
          "type": "path"
         },
         {
          "fillcolor": "#af4624",
          "layer": "below",
          "line": {
           "color": "rgb(175,175,175)",
           "width": 0.5
          },
          "path": "M -0.9849947670103845,-0.17258420832207813 Q -0.002923117891688436, -0.19997863731356733 0.9795296457842703, -0.20129995784833649L 0.9795296457842703, -0.20129995784833649 L 0.9776817279288601, -0.21009150119421383 L 0.9757549052578895, -0.21886608888808487 M 0.9757549052578895,-0.21886608888808487 Q -0.0028089326357721676, -0.19998027377080896 -0.9815171595792275, -0.19137415042665867L -0.9815171595792275, -0.19137415042665867 L -0.983300846555046, -0.1819874862844417 L -0.9849947670103845, -0.17258420832207813 ",
          "type": "path"
         },
         {
          "fillcolor": "#af4624",
          "layer": "below",
          "line": {
           "color": "rgb(175,175,175)",
           "width": 0.5
          },
          "path": "M -0.9875081524452091,-0.15756791822655283 Q 0.010705045973555805, -0.19971329948379518 0.9986933671918378, -0.05110340817430051L 0.9986933671918378, -0.05110340817430051 L 0.9983334749884805, -0.057708515120604806 L 0.9979298987470215, -0.06431109691771239 M 0.9979298987470215,-0.06431109691771239 Q 0.010904303868760469, -0.19970251915571258 -0.9849947670103845, -0.17258420832207813L -0.9849947670103845, -0.17258420832207813 L -0.9862800383548621, -0.16508084668650005 L -0.9875081524452091, -0.15756791822655283 ",
          "type": "path"
         },
         {
          "fillcolor": "#9f4021",
          "layer": "below",
          "line": {
           "color": "rgb(175,175,175)",
           "width": 0.5
          },
          "path": "M -0.9222121400119742,-0.38668432708675293 Q -0.1771124971898336, -0.09290405448192876 -0.842358224671027, -0.5389180098392292L -0.842358224671027, -0.5389180098392292 L -0.8467994136805979, -0.5319123546132349 L -0.851182340041058, -0.5248701020273767 M -0.851182340041058,-0.5248701020273767 Q -0.17721055147510878, -0.09271688328394039 -0.916517825605404, -0.3999938441370596L -0.916517825605404, -0.3999938441370596 L -0.9193890674931094, -0.3933493899501442 L -0.9222121400119742, -0.38668432708675293 ",
          "type": "path"
         },
         {
          "fillcolor": "#9f4021",
          "layer": "below",
          "line": {
           "color": "rgb(175,175,175)",
           "width": 0.5
          },
          "path": "M -0.9268008460071585,-0.37555318110810243 Q -0.1571703958096119, -0.12368292800968908 -0.5829400420152935, -0.8125151736522881L -0.5829400420152935, -0.8125151736522881 L -0.5886788828792724, -0.8083669790707757 L -0.5943882063169366, -0.8041782515035674 M -0.5943882063169366,-0.8041782515035674 Q -0.15730155076825927, -0.12351608043449547 -0.9222121400119742, -0.38668432708675293L -0.9222121400119742, -0.38668432708675293 L -0.9245232453646295, -0.3811256600918562 L -0.9268008460071585, -0.37555318110810243 ",
          "type": "path"
         },
         {
          "fillcolor": "#9f4021",
          "layer": "below",
          "line": {
           "color": "rgb(175,175,175)",
           "width": 0.5
          },
          "path": "M -0.9420398223076696,-0.3355010777725377 Q -0.124956752790998, -0.15615956561136246 -0.12075447085135171, -0.9926824052885244L -0.12075447085135171, -0.9926824052885244 L -0.12230279771721438, -0.9924928340650839 L -0.12385082698938694, -0.9923008478551477 M -0.12385082698938694,-0.9923008478551477 Q -0.12489816810410131, -0.15620642625781966 -0.9407343874703934, -0.3391442351429607L -0.9407343874703934, -0.3391442351429607 L -0.9413888672595714, -0.33732328795940125 L -0.9420398223076696, -0.3355010777725377 ",
          "type": "path"
         },
         {
          "fillcolor": "#9f4021",
          "layer": "below",
          "line": {
           "color": "rgb(175,175,175)",
           "width": 0.5
          },
          "path": "M -0.9092045835570227,-0.4163496430152198 Q -0.1001289734800207, -0.17313055383102463 0.09254984261721232, -0.9957080529108566L 0.09254984261721232, -0.9957080529108566 L 0.0801563341170368, -0.9967823042675457 L 0.06775042117816321, -0.9977023005036029 M 0.06775042117816321,-0.9977023005036029 Q -0.10047101680517641, -0.17293228380534953 -0.9002933728441593, -0.43528363490129923L -0.9002933728441593, -0.43528363490129923 L -0.9047985066119412, -0.42583994931523395 L -0.9092045835570227, -0.4163496430152198 ",
          "type": "path"
         },
         {
          "fillcolor": "#9f4021",
          "layer": "below",
          "line": {
           "color": "rgb(175,175,175)",
           "width": 0.5
          },
          "path": "M -0.9407343874703934,-0.3391442351429607 Q -0.057447103314631424, -0.1915719977469517 0.5988867700691946, -0.8008337134737071L 0.5988867700691946, -0.8008337134737071 L 0.5966128718091689, -0.8025291777821016 L 0.5943341736717986, -0.8042181855727091 M 0.5943341736717986,-0.8042181855727091 Q -0.057523680180769365, -0.19154901779560385 -0.9390704672224647, -0.34372468283581553L -0.9390704672224647, -0.34372468283581553 L -0.9399052175921655, -0.3414354725903916 L -0.9407343874703934, -0.3391442351429607 ",
          "type": "path"
         },
         {
          "fillcolor": "#9f4021",
          "layer": "below",
          "line": {
           "color": "rgb(175,175,175)",
           "width": 0.5
          },
          "path": "M -0.9482640099592851,-0.3174828616097836 Q -0.013667266340000653, -0.19953246811181255 0.8961177061971292, -0.443816467292501L 0.8961177061971292, -0.443816467292501 L 0.8959261058755972, -0.44420312111756743 L 0.8957343387219953, -0.4445896922267428 M 0.8957343387219953,-0.4445896922267428 Q -0.013667570533742249, -0.19953244727538721 -0.9479906252114684, -0.3182982477349967L -0.9479906252114684, -0.3182982477349967 L -0.948127405239019, -0.317890584061128 L -0.9482640099592851, -0.3174828616097836 ",
          "type": "path"
         },
         {
          "fillcolor": "#9f4021",
          "layer": "below",
          "line": {
           "color": "rgb(175,175,175)",
           "width": 0.5
          },
          "path": "M -0.9467978586546189,-0.32182885956207896 Q 0.003645144361695616, -0.19996677954745984 0.9578980277942567, -0.2871086350980643L 0.9578980277942567, -0.2871086350980643 L 0.9575829050298045, -0.2881579080897841 L 0.9572666329014127, -0.2892068352124343 M 0.9572666329014127,-0.2892068352124343 Q 0.0036410299000971093, -0.19996685450660717 -0.9461037417728919, -0.3238637210360756L -0.9461037417728919, -0.3238637210360756 L -0.9464513470805367, -0.3228464768422252 L -0.9467978586546189, -0.32182885956207896 ",
          "type": "path"
         },
         {
          "fillcolor": "#9f4021",
          "layer": "below",
          "line": {
           "color": "rgb(175,175,175)",
           "width": 0.5
          },
          "path": "M -0.944467133919335,-0.32860589304849197 Q 0.022235656493370795, -0.19876009554311658 0.9937334460887757, -0.11177583873327189L 0.9937334460887757, -0.11177583873327189 L 0.9935434119630552, -0.1134525828036141 L 0.9933505486393627, -0.11512900380823779 M 0.9933505486393627,-0.11512900380823779 Q 0.02225636329243685, -0.1987577779433929 -0.9432835733724498, -0.3319881025062527L -0.9432835733724498, -0.3319881025062527 L -0.9438768685879333, -0.3302975279117865 L -0.944467133919335, -0.32860589304849197 ",
          "type": "path"
         },
         {
          "fillcolor": "#8f391e",
          "layer": "below",
          "line": {
           "color": "rgb(175,175,175)",
           "width": 0.5
          },
          "path": "M -0.8104833187348763,-0.5857617178106648 Q -0.12112510704237023, -0.15914995584031544 -0.34864659014172167, -0.9372542638913681L -0.34864659014172167, -0.9372542638913681 L -0.37981226187724426, -0.9250635900994545 L -0.41055257744642687, -0.9118369268416889 M -0.41055257744642687,-0.9118369268416889 Q -0.12126229972406735, -0.15904544842789578 -0.7705911064669174, -0.6373298570081994L -0.7705911064669174, -0.6373298570081994 L -0.7909575859373686, -0.6118709808841486 L -0.8104833187348763, -0.5857617178106648 ",
          "type": "path"
         },
         {
          "fillcolor": "#8f391e",
          "layer": "below",
          "line": {
           "color": "rgb(175,175,175)",
           "width": 0.5
          },
          "path": "M -0.8737747883820776,-0.4863307713766996 Q -0.11032253529516818, -0.16682007734696197 -0.10548547190460489, -0.9944208441183555L -0.10548547190460489, -0.9944208441183555 L -0.10847246106405022, -0.9940994543760238 L -0.11145847121662217, -0.9937690924928454 M -0.11145847121662217,-0.9937690924928454 Q -0.1101111924550629, -0.1669596517010146 -0.8695891270159115, -0.49377601215096L -0.8695891270159115, -0.49377601215096 L -0.8716899066069874, -0.49005786058332085 L -0.8737747883820776, -0.4863307713766996 ",
          "type": "path"
         },
         {
          "fillcolor": "#8f391e",
          "layer": "below",
          "line": {
           "color": "rgb(175,175,175)",
           "width": 0.5
          },
          "path": "M -0.7705911064669174,-0.6373298570081994 Q -0.04978880729395285, -0.1937035742268212 0.36775015700425445, -0.9299246324425148L 0.36775015700425445, -0.9299246324425148 L 0.33432338487887375, -0.9424584204744167 L 0.30047053600826307, -0.9537910971438699 M 0.30047053600826307,-0.9537910971438699 Q -0.05003867259754781, -0.19363917796942698 -0.7249390313338604, -0.688813037658786L -0.7249390313338604, -0.688813037658786 L -0.7482080110103597, -0.6634642207835486 L -0.7705911064669174, -0.6373298570081994 ",
          "type": "path"
         },
         {
          "fillcolor": "#8f391e",
          "layer": "below",
          "line": {
           "color": "rgb(175,175,175)",
           "width": 0.5
          },
          "path": "M -0.8695891270159115,-0.49377601215096 Q -0.03872729736212477, -0.19621466927583567 0.616771649266883, -0.7871421298981583L 0.616771649266883, -0.7871421298981583 L 0.612889876878063, -0.7901683357490307 L 0.6089932565708319, -0.7931753989195913 M 0.6089932565708319,-0.7931753989195913 Q -0.03874231264682529, -0.19621170508095498 -0.8647632059789686, -0.5021798458570156L -0.8647632059789686, -0.5021798458570156 L -0.8671863466674482, -0.4979837749902746 L -0.8695891270159115, -0.49377601215096 ",
          "type": "path"
         },
         {
          "fillcolor": "#8f391e",
          "layer": "below",
          "line": {
           "color": "rgb(175,175,175)",
           "width": 0.5
          },
          "path": "M -0.8790738330839252,-0.476685636438875 Q 0.005183726455072587, -0.19993281116424833 0.9025945307943921, -0.4304917106984189L 0.9025945307943921, -0.4304917106984189 L 0.9016324923209554, -0.43250300437234224 L 0.9006659719944524, -0.43451214815156586 M 0.9006659719944524,-0.43451214815156586 Q 0.005246984051808282, -0.19993116104889722 -0.8766352314870783, -0.4811555579182231L -0.8766352314870783, -0.4811555579182231 L -0.8778573773134819, -0.4789221493064349 L -0.8790738330839252, -0.476685636438875 ",
          "type": "path"
         },
         {
          "fillcolor": "#8f391e",
          "layer": "below",
          "line": {
           "color": "rgb(175,175,175)",
           "width": 0.5
          },
          "path": "M -0.8861765430249924,-0.4633477469377334 Q 0.01809654876929504, -0.19917960468542087 0.9551720637990504, -0.2960512262056395L 0.9551720637990504, -0.2960512262056395 L 0.9551071718298226, -0.2962605109008584 L 0.9550422340048952, -0.2964697813722995 M 0.9550422340048952,-0.2964697813722995 Q 0.018101979603390116, -0.19917911119000017 -0.8859481159403847, -0.463784363537283L -0.8859481159403847, -0.463784363537283 L -0.88606235637612, -0.46356606930749117 L -0.8861765430249924, -0.4633477469377334 ",
          "type": "path"
         },
         {
          "fillcolor": "#8f391e",
          "layer": "below",
          "line": {
           "color": "rgb(175,175,175)",
           "width": 0.5
          },
          "path": "M -0.8859481159403847,-0.463784363537283 Q 0.03530032504799884, -0.19686006972340944 0.991895626927883, -0.12705536305619677L 0.991895626927883, -0.12705536305619677 L 0.9918612862598432, -0.12732316685886114 L 0.9918268732869424, -0.12759096137990117 M 0.9918268732869424,-0.12759096137990117 Q 0.035311843361938454, -0.1968580039479775 -0.8856432118731762, -0.46436634380945857L -0.8856432118731762, -0.46436634380945857 L -0.8857957117029375, -0.46407537871415516 L -0.8859481159403847, -0.463784363537283 ",
          "type": "path"
         },
         {
          "fillcolor": "#f0f3e7",
          "layer": "below",
          "line": {
           "color": "rgb(175,175,175)",
           "width": 0.5
          },
          "path": "M -0.6045091120700439,-0.7965982258480665 Q -0.0722946380006658, -0.18647650070813934 -0.09042171145580155, -0.9959035666656706L -0.09042171145580155, -0.9959035666656706 L -0.09473612428543546, -0.9955024192614373 L -0.09904875843701237, -0.9950825812223256 M -0.09904875843701237,-0.9950825812223256 Q -0.07192352099226905, -0.18661995372433957 -0.5943882063169366, -0.8041782515035674L -0.5943882063169366, -0.8041782515035674 L -0.599460640247638, -0.8004042358670348 L -0.6045091120700439, -0.7965982258480665 ",
          "type": "path"
         },
         {
          "fillcolor": "#f0f3e7",
          "layer": "below",
          "line": {
           "color": "rgb(175,175,175)",
           "width": 0.5
          },
          "path": "M -0.34864659014172167,-0.9372542638913681 Q 0.011378595220530243, -0.19967605657866777 0.4528632160212813, -0.891580006266887L 0.4528632160212813, -0.891580006266887 L 0.41075437257103414, -0.9117460421706124 L 0.36775015700425445, -0.9299246324425148 M 0.36775015700425445,-0.9299246324425148 Q 0.011279343771397589, -0.1996816877034212 -0.2606883739503781, -0.9654230014284453L -0.2606883739503781, -0.9654230014284453 L -0.3049928590309748, -0.9523546376954921 L -0.34864659014172167, -0.9372542638913681 ",
          "type": "path"
         },
         {
          "fillcolor": "#f0f3e7",
          "layer": "below",
          "line": {
           "color": "rgb(175,175,175)",
           "width": 0.5
          },
          "path": "M -0.516505029118565,-0.8562841554619764 Q 0.028722089211704993, -0.19792685919630731 0.7385936005873472, -0.674150942424186L 0.7385936005873472, -0.674150942424186 L 0.7268996187570679, -0.6867437253086696 L 0.7149909635582641, -0.6991336939599071 M 0.7149909635582641,-0.6991336939599071 Q 0.02875776683273903, -0.1979216785670378 -0.4864598094811707, -0.8737029551051908L -0.4864598094811707, -0.8737029551051908 L -0.5015580430140678, -0.8651239965969609 L -0.516505029118565, -0.8562841554619764 ",
          "type": "path"
         },
         {
          "fillcolor": "#f0f3e7",
          "layer": "below",
          "line": {
           "color": "rgb(175,175,175)",
           "width": 0.5
          },
          "path": "M -0.5706829260809315,-0.8211705047550758 Q 0.054786310836753754, -0.19234983791232735 0.9177169541303388, -0.39723493313369806L 0.9177169541303388, -0.39723493313369806 L 0.9149814696422695, -0.40349586145495075 L 0.912203271898808, -0.4097379537425222 M 0.912203271898808,-0.4097379537425222 Q 0.05501246617211591, -0.1922852791184541 -0.5574577811260326, -0.8302052892279357L -0.5574577811260326, -0.8302052892279357 L -0.5640884422206992, -0.825714375164333 L -0.5706829260809315, -0.8211705047550758 ",
          "type": "path"
         },
         {
          "fillcolor": "#f0f3e7",
          "layer": "below",
          "line": {
           "color": "rgb(175,175,175)",
           "width": 0.5
          },
          "path": "M -0.6423319528566122,-0.7664265537802113 Q 0.05819817083836144, -0.19134516693940534 0.9602961232442841, -0.2789827157405968L 0.9602961232442841, -0.2789827157405968 L 0.9596414573964804, -0.2812263736671208 L 0.9589815494225146, -0.28346849536975577 M 0.9589815494225146,-0.28346849536975577 Q 0.05826711724150971, -0.1913241831247795 -0.6381876566302128, -0.7698808446278148L -0.6381876566302128, -0.7698808446278148 L -0.6402621342867214, -0.7681564940808692 L -0.6423319528566122, -0.7664265537802113 ",
          "type": "path"
         },
         {
          "fillcolor": "#f0f3e7",
          "layer": "below",
          "line": {
           "color": "rgb(175,175,175)",
           "width": 0.5
          },
          "path": "M -0.6338943967201937,-0.7734196104358498 Q 0.07577892777373094, -0.18508796315661286 0.9942793605321457, -0.1068108291316348L 0.9942793605321457, -0.1068108291316348 L 0.9940095033007905, -0.10929367478365629 L 0.9937334460887757, -0.11177583873327189 M 0.9937334460887757,-0.11177583873327189 Q 0.07589396174948308, -0.1850408240631456 -0.6290574140974722, -0.7773588423430979L -0.6290574140974722, -0.7773588423430979 L -0.6314789770838852, -0.7753929980990865 L -0.6338943967201937, -0.7734196104358498 ",
          "type": "path"
         },
         {
          "fillcolor": "#e2ecde",
          "layer": "below",
          "line": {
           "color": "rgb(175,175,175)",
           "width": 0.5
          },
          "path": "M -0.09042171145580155,-0.9959035666656706 Q -0.010006816643273457, -0.19974950217877369 -0.009564436679392467, -0.9999542597294168L -0.009564436679392467, -0.9999542597294168 L -0.015954346791434388, -0.9998727213092967 L -0.022343605366247705, -0.9997503504871791 M -0.022343605366247705,-0.9997503504871791 Q -0.010417763012113605, -0.1997284912420445 -0.08178787380797437, -0.9966497597942674L -0.08178787380797437, -0.9966497597942674 L -0.08610560095154507, -0.9962860159034519 L -0.09042171145580155, -0.9959035666656706 ",
          "type": "path"
         },
         {
          "fillcolor": "#e2ecde",
          "layer": "below",
          "line": {
           "color": "rgb(175,175,175)",
           "width": 0.5
          },
          "path": "M -0.13439214077575032,-0.9909282277227301 Q 0.049639431248173285, -0.193741907870646 0.5943341736717986, -0.8042181855727091L 0.5943341736717986, -0.8042181855727091 L 0.5929915282321916, -0.805208698068302 L 0.5916472320157833, -0.8061969690144349 M 0.5916472320157833,-0.8061969690144349 Q 0.04954003459612974, -0.19376734753877978 -0.13210180160772958, -0.9912361545121284L -0.13210180160772958, -0.9912361545121284 L -0.13324706014205115, -0.9910828527239792 L -0.13439214077575032, -0.9909282277227301 ",
          "type": "path"
         },
         {
          "fillcolor": "#e2ecde",
          "layer": "below",
          "line": {
           "color": "rgb(175,175,175)",
           "width": 0.5
          },
          "path": "M -0.13839849995615644,-0.9903766229116506 Q 0.09359261504153642, -0.1767496037044688 0.896946045550108, -0.4421400133125518L 0.896946045550108, -0.4421400133125518 L 0.8967233395152275, -0.4425915186361551 L 0.8965004062013018, -0.44304291178270866 M 0.8965004062013018,-0.44304291178270866 Q 0.09357511150998964, -0.17675887108117944 -0.13759740710641974, -0.9904882399895468L -0.13759740710641974, -0.9904882399895468 L -0.13799796481621185, -0.9904325124442268 L -0.13839849995615644, -0.9903766229116506 ",
          "type": "path"
         },
         {
          "fillcolor": "#e2ecde",
          "layer": "below",
          "line": {
           "color": "rgb(175,175,175)",
           "width": 0.5
          },
          "path": "M -0.13599495187906113,-0.9907095301163766 Q 0.10800894430586623, -0.16832726442835189 0.9572666329014127, -0.2892068352124343L 0.9572666329014127, -0.2892068352124343 L 0.9569704089347574, -0.29018552069881637 L 0.9566731843848004, -0.291163902774787 M 0.9566731843848004,-0.291163902774787 Q 0.10797297000400792, -0.16835034228807977 -0.13439214077575032, -0.9909282277227301L -0.13439214077575032, -0.9909282277227301 L -0.13519359054977848, -0.9908192030205404 L -0.13599495187906113, -0.9907095301163766 ",
          "type": "path"
         },
         {
          "fillcolor": "#e2ecde",
          "layer": "below",
          "line": {
           "color": "rgb(175,175,175)",
           "width": 0.5
          },
          "path": "M -0.1389706537315718,-0.9902964997420821 Q 0.12127833312826033, -0.15903322267259354 0.9917751182614661, -0.1279926357157119L 0.9917751182614661, -0.1279926357157119 L 0.9917578304365979, -0.12812652249902187 L 0.9917405245373998, -0.12826040694728494 M 0.9917405245373998,-0.12826040694728494 Q 0.12127523975669906, -0.15903558162233747 -0.13874179777698106, -0.9903285886763097L -0.13874179777698106, -0.9903285886763097 L -0.13885622668122372, -0.9903125508201199 L -0.1389706537315718, -0.9902964997420821 ",
          "type": "path"
         },
         {
          "fillcolor": "#d4e5d6",
          "layer": "below",
          "line": {
           "color": "rgb(175,175,175)",
           "width": 0.5
          },
          "path": "M 0.1615000587575624,-0.9868727025413683 Q 0.10189145550350882, -0.17209919028100185 0.7875957660973756, -0.6161922664440767L 0.7875957660973756, -0.6161922664440767 L 0.7757336437645395, -0.631060467730146 L 0.7635908816682513, -0.6457003681531416 M 0.7635908816682513,-0.6457003681531416 Q 0.10196137339222713, -0.172057776156647 0.19971236118248697, -0.9798545671633704L 0.19971236118248697, -0.9798545671633704 L 0.18064029626797734, -0.983549227727935 L 0.1615000587575624, -0.9868727025413683 ",
          "type": "path"
         },
         {
          "fillcolor": "#d4e5d6",
          "layer": "below",
          "line": {
           "color": "rgb(175,175,175)",
           "width": 0.5
          },
          "path": "M 0.03269170929246408,-0.9994654832176733 Q 0.11364191595805762, -0.16457677520653324 0.9230592745475786, -0.38465773834890915L 0.9230592745475786, -0.38465773834890915 L 0.9204095976648591, -0.39095546105203877 L 0.9177169541303388, -0.39723493313369806 M 0.9177169541303388,-0.39723493313369806 Q 0.11384954031073012, -0.1644332149264115 0.04886718291911822, -0.9988052855454608L 0.04886718291911822, -0.9988052855454608 L 0.040780782115314565, -0.99916811789111 L 0.03269170929246408, -0.9994654832176733 ",
          "type": "path"
         },
         {
          "fillcolor": "#d4e5d6",
          "layer": "below",
          "line": {
           "color": "rgb(175,175,175)",
           "width": 0.5
          },
          "path": "M -0.05044199093926387,-0.9987269925009954 Q 0.1148065353094733, -0.1637664784082343 0.9560757347791091, -0.2931197526039256L 0.9560757347791091, -0.2931197526039256 L 0.9558399282930221, -0.2938877872263328 L 0.9556035048295812, -0.2946556321494985 M 0.9556035048295812,-0.2946556321494985 Q 0.11482845373932234, -0.1637511105667266 -0.048569760283981585, -0.9988197927483999L -0.048569760283981585, -0.9988197927483999 L -0.049505897356223544, -0.9987738313186599 L -0.05044199093926387, -0.9987269925009954 ",
          "type": "path"
         },
         {
          "fillcolor": "#d4e5d6",
          "layer": "below",
          "line": {
           "color": "rgb(175,175,175)",
           "width": 0.5
          },
          "path": "M -0.03256441264087175,-0.9994696388732152 Q 0.13272630517585282, -0.1496119243722451 0.9962265509223718, -0.08679089374649265L 0.9962265509223718, -0.08679089374649265 L 0.9958668831173922, -0.09082483751733454 L 0.9954908810407812, -0.09485729157344354 M 0.9954908810407812,-0.09485729157344354 Q 0.1328851785649183, -0.1494708309931064 -0.022343605366247705, -0.9997503504871791L -0.022343605366247705, -0.9997503504871791 L -0.027454367778553784, -0.9996230578022297 L -0.03256441264087175, -0.9994696388732152 ",
          "type": "path"
         },
         {
          "fillcolor": "#c6decd",
          "layer": "below",
          "line": {
           "color": "rgb(175,175,175)",
           "width": 0.5
          },
          "path": "M 0.616771649266883,-0.7871421298981583 Q 0.1574864509008107, -0.12328024084445384 0.912203271898808, -0.4097379537425222L 0.912203271898808, -0.4097379537425222 L 0.9099500472464066, -0.4147178697816895 L 0.9076696363939897, -0.4196853954671314 M 0.9076696363939897,-0.4196853954671314 Q 0.15759416900974144, -0.12314251050765959 0.6267030875531231, -0.7792581344146383L 0.6267030875531231, -0.7792581344146383 L 0.6217498649968425, -0.7832158740579817 L 0.616771649266883, -0.7871421298981583 ",
          "type": "path"
         },
         {
          "fillcolor": "#c6decd",
          "layer": "below",
          "line": {
           "color": "rgb(175,175,175)",
           "width": 0.5
          },
          "path": "M 0.6970323301328252,-0.7170396995631443 Q 0.17741853196650673, -0.09231827833560176 0.987222403713799, -0.15934844086325042L 0.987222403713799, -0.15934844086325042 L 0.9853925505843414, -0.17029833015295914 L 0.9834412493622743, -0.18122723043949313 M 0.9834412493622743,-0.18122723043949313 Q 0.17756404722922875, -0.09203808522332604 0.7149909635582641, -0.6991336939599071L 0.7149909635582641, -0.6991336939599071 L 0.7060684115159978, -0.7081436282699123 L 0.6970323301328252, -0.7170396995631443 ",
          "type": "path"
         },
         {
          "fillcolor": "#c6decd",
          "layer": "below",
          "line": {
           "color": "rgb(175,175,175)",
           "width": 0.5
          },
          "path": "M 0.6793603508101153,-0.7338048199263596 Q 0.18198767876304137, -0.08294868762337392 0.9995065603657315, -0.031410759078131914L 0.9995065603657315, -0.031410759078131914 L 0.9991484813229087, -0.041259087121810076 L 0.9986933671918378, -0.05110340817430051 M 0.9986933671918378,-0.05110340817430051 Q 0.18218004239641455, -0.08252534248605455 0.6970323301328252, -0.7170396995631443L 0.6970323301328252, -0.7170396995631443 L 0.6882473903717485, -0.7254760710364456 L 0.6793603508101153, -0.7338048199263596 ",
          "type": "path"
         },
         {
          "fillcolor": "#b8d7c5",
          "layer": "below",
          "line": {
           "color": "rgb(175,175,175)",
           "width": 0.5
          },
          "path": "M 0.8954143561583949,-0.44523379340010466 Q 0.18568612243294844, -0.07430117048752387 0.9553880391431065, -0.2953535079566349L 0.9553880391431065, -0.2953535079566349 L 0.9552801151710818, -0.2957023867991679 L 0.9551720637990504, -0.2960512262056395 M 0.9551720637990504,-0.2960512262056395 Q 0.18568570722544325, -0.07430220812457038 0.8957343387219953, -0.4445896922267428L 0.8957343387219953, -0.4445896922267428 L 0.8955744053452576, -0.44491177158003853 L 0.8954143561583949, -0.44523379340010466 ",
          "type": "path"
         },
         {
          "fillcolor": "#b8d7c5",
          "layer": "below",
          "line": {
           "color": "rgb(175,175,175)",
           "width": 0.5
          },
          "path": "M 0.8950939104370963,-0.44587766427398834 Q 0.1913929824453893, -0.05804072941184414 0.9919811622478002, -0.12638581307054758L 0.9919811622478002, -0.12638581307054758 L 0.9919384510804088, -0.12672059528032328 L 0.991895626927883, -0.12705536305619677 M 0.991895626927883,-0.12705536305619677 Q 0.19139426547818095, -0.05803649836152758 0.8954143561583949, -0.44523379340010466L 0.8954143561583949, -0.44523379340010466 L 0.895254191182104, -0.4455557576452994 L 0.8950939104370963, -0.44587766427398834 ",
          "type": "path"
         },
         {
          "fillcolor": "#aad0bc",
          "layer": "below",
          "line": {
           "color": "rgb(175,175,175)",
           "width": 0.5
          },
          "path": "M 0.9634124339183301,-0.26802328662181435 Q 0.19665423105539548, -0.036429567771401376 0.9954908810407812, -0.09485729157344354L 0.9954908810407812, -0.09485729157344354 L 0.9951849410328811, -0.09801496386461073 L 0.9948689849925244, -0.1011716496848018 M 0.9948689849925244,-0.1011716496848018 Q 0.19666370809631614, -0.036378371566178784 0.9652298489720559, -0.26140263704366534L 0.9652298489720559, -0.26140263704366534 L 0.9643268232753711, -0.2647145215352403 L 0.9634124339183301, -0.26802328662181435 ",
          "type": "path"
         },
         {
          "fillcolor": "#f2e6ce",
          "layer": "below",
          "line": {
           "color": "rgb(150,150,150)",
           "width": 0.45
          },
          "path": "M 1.1, 0.0 L 1.0997089608529098, 0.025302201876785547 L 1.098835997418521, 0.05059101478765522 L 1.097381571635985, 0.0758530568516263 L 1.0953464531322823, 0.1010749603538332 L 1.0927317188149652, 0.12624337881921543 L 1.0895387523022981, 0.15134499407496613 L 1.0857692431911004, 0.17636652329800417 L 1.0814251861626747, 0.20129472604374046 L 1.0765088799272986, 0.22611641125241938 L 1.071022926007833, 0.25081844422932736 L 1.0649702273630954, 0.2753877535951753 L 1.0583539868517247, 0.2998113382029769 L 1.0511777055373484, 0.32407627401776284 L 0.9556160959430439, 0.29461479456160256 L 0.9621399880470223, 0.27255576200270626 L 0.9681547521482685, 0.2503525032683412 L 0.9736572054616662, 0.22801676748120667 L 0.978644436297544, 0.20556037386583578 L 0.9831138056024314, 0.1829952054943095 L 0.9870629483555456, 0.1603332029981856 L 0.990489774820271, 0.1375863582499692 L 0.9933924716499684, 0.11476670801746858 L 0.9957695028475293, 0.09188632759439382 L 0.997619610578168, 0.06895732441056936 L 0.9989418158350188, 0.04599183162514111 L 0.9997354189571906, 0.023002001706168677 L 1.0, 0.0 L 1.1 ,0.0",
          "type": "path"
         },
         {
          "fillcolor": "#ecd5bb",
          "layer": "below",
          "line": {
           "color": "rgb(150,150,150)",
           "width": 0.45
          },
          "path": "M 1.0404795310286674, 0.3569346515965698 L 1.0329295056492707, 0.37822828603788183 L 1.0249437532559222, 0.3993623701122368 L 1.0165256425277296, 0.4203279886988098 L 1.007678724528178, 0.4411162977416102 L 0.9984067312071645, 0.461718527980224 L 0.9887135738267274, 0.4821259886490051 L 0.9786033413111329, 0.5023300711431542 L 0.96808029852202, 0.5223222526501401 L 0.9571488844593272, 0.5420940997449295 L 0.9458137103887623, 0.5616372719475112 L 0.9340795578966031, 0.5809435252412118 L 0.9219513768726524, 0.6000047155503203 L 0.9094342834221942, 0.6188128021755532 L 0.8965335577078368, 0.6373598511859129 L 0.8832546417221485, 0.6556380387655062 L 0.8696031369920284, 0.6736396545139127 L 0.8555848022157804, 0.6913571046987108 L 0.8412055508338852, 0.7087829154587885 L 0.826471448534498, 0.7259097359570877 L 0.8113887106947215, 0.7427303414814542 L 0.7959636997587355, 0.7592376364922814 L 0.7802029225538873, 0.7754246576156661 L 0.7641130275458771, 0.7912845765808114 L 0.7477008020341944, 0.8068107031004377 L 0.7309731692889905, 0.8219964876929883 L 0.7139371856305916, 0.8368355244454375 L 0.6966000374528889, 0.8513215537155359 L 0.6789690381918568, 0.8654484647723544 L 0.6610516252404823, 0.8792102983740108 L 0.6428553568114023, 0.8926012492814945 L 0.6243879087485776, 0.9056156687075252 L 0.6056570712893438, 0.9182480666994159 L 0.5866707457782068, 0.930493114454934 L 0.5674369413337714, 0.9423456465701819 L 0.5479637714702041, 0.9538006632185522 L 0.5282594506746614, 0.9648533322598338 L 0.5083322909421192, 0.9754989912785851 L 0.4881906982690754, 0.985733149550908 L 0.4678431691075954, 0.9955514899387988 L 0.4472982867812015, 1.0049498707112718 L 0.42656471786411687, 1.013924327291493 L 0.4056512085253913, 1.0224710739291796 L 0.38456658083945056, 1.0305865052975682 L 0.34960598258131864, 0.9368968229977892 L 0.3687738259321739, 0.9295191581174359 L 0.38778610714919715, 0.9217493884468118 L 0.4066348061647286, 0.9135907915557017 L 0.4253119719159958, 0.9050468090352716 L 0.44380972569915944, 0.8961210450462799 L 0.4621202644928356, 0.8868172647987136 L 0.4802358642496921, 0.8771393929634852 L 0.49814888315473105, 0.8670915120168655 L 0.5158517648488831, 0.8566778605183472 L 0.5333370416165516, 0.8459028313226672 L 0.550597337535767, 0.8347709697267417 L 0.567625371589616, 0.8232869715522956 L 0.5844139607376384, 0.811455681164995 L 0.600956022945893, 0.7992820894309188 L 0.6172445801744153, 0.7867713316112311 L 0.633272761320808, 0.7739286851959416 L 0.6490338051187196, 0.7607595676776704 L 0.6645210629899913, 0.7472695342663529 L 0.6797280018492676, 0.7334642755458524 L 0.6946482068598882, 0.7193496150734648 L 0.7092753841398975, 0.7049315069233328 L 0.7236033634170322, 0.6902160331748012 L 0.737626100631565, 0.6752094013467765 L 0.7513376804859072, 0.6599179417791706 L 0.7647323189398956, 0.6443481049625349 L 0.7778043656507093, 0.6285064588170097 L 0.7905483063563894, 0.6123996859217388 L 0.8029587652019531, 0.5960345806959146 L 0.8150305070071243, 0.5794180465326481 L 0.8267584394747219, 0.5625570928868665 L 0.8381376153387748, 0.5454588323184729 L 0.8491632344514574, 0.5281304774920107 L 0.8598306458079656, 0.5105793381341011 L 0.8701353495084793, 0.49281281794993587 L 0.8800729986563818, 0.47483841150012734 L 0.889639401191939, 0.4566637010392311 L 0.8988305216606612, 0.4382963533172773 L 0.907642482915604, 0.41974411634565817 L 0.9160715677528889, 0.4010148161287365 L 0.9241142204797541, 0.3821163533625543 L 0.9317670484144748, 0.36305670010203345 L 0.9390268233175186, 0.3438438963980744 L 0.9458904827533339, 0.3244860469059725 L 1.0404795310286674 ,0.3569346515965698",
          "type": "path"
         },
         {
          "fillcolor": "#e6c4a9",
          "layer": "below",
          "line": {
           "color": "rgb(150,150,150)",
           "width": 0.45
          },
          "path": "M 0.35200531601937707, 1.0421575012895596 L 0.3294841339672677, 1.049495214597875 L 0.3068101786513513, 1.0563463041426926 L 0.2839939633977641, 1.0627075932511396 L 0.2610460674948921, 1.0685761323581267 L 0.23797713128803044, 1.0739492003739841 L 0.21479785124572964, 1.0788243059461617 L 0.19151897500012027, 1.0831991886144041 L 0.16815129636351456, 1.0870718198588674 L 0.14470565032359387, 1.0904404040406912 L 0.12119290801950697, 1.093303379234591 L 0.09762397170120313, 1.0956594179530803 L 0.07400976967434171, 1.0975074277619952 L 0.05036125123311857, 1.098846551787025 L 0.02668938158336332, 1.0996761691110242 L 0.0030051367582562783, 1.0999958950619153 L -0.0206805014709738, 1.0998055813910517 L -0.04435655068701273, 1.0991053163419557 L -0.06801203291872328, 1.0978954246094037 L -0.09163597973134717, 1.096176467188872 L -0.1152174373122829, 1.0939492411164196 L -0.13874547155008604, 1.0912147790991216 L -0.16220917310433322, 1.0879743490362301 L -0.1855976624640018, 1.084229453431283 L -0.20890009499201612, 1.0799818286954308 L -0.1899091772654692, 0.9818016624503916 L -0.16872514769454708, 0.9856631394829845 L -0.1474628846403029, 0.9890675900329364 L -0.12613224686371458, 0.9920134355446558 L -0.10474312482934808, 0.9944993101058359 L -0.08330543611940651, 0.9965240610807927 L -0.06182912083520298, 0.9980867496449123 L -0.04032413698819339, 0.9991866512199598 L -0.018800455882703453, 0.9998232558100469 L 0.0027319425075057074, 0.9999962682381048 L 0.024263074166693925, 0.9997056082827491 L 0.04578295566647142, 0.9989514107154771 L 0.06728160879485609, 0.9977340252381773 L 0.08874906518291192, 0.9960540163209821 L 0.1101753709268245, 0.9939121629405371 L 0.13155059120326715, 0.9913094582188101 L 0.15286481487592232, 0.9882471089626066 L 0.17410815909101843, 0.9847265351040037 L 0.1952707738597542, 0.9807493690419652 L 0.2163428466254822, 0.97631745488544 L 0.23731460681353825, 0.9714328475982968 L 0.2581763303616037, 0.9660978120464905 L 0.27891834422850115, 0.9603148219479023 L 0.29953103087933425, 0.9540865587253409 L 0.3200048327448882, 0.947415910263236 L 0.35200531601937707 ,1.0421575012895596",
          "type": "path"
         },
         {
          "fillcolor": "#e1b396",
          "layer": "below",
          "line": {
           "color": "rgb(150,150,150)",
           "width": 0.45
          },
          "path": "M -0.24272006443545327, 1.0728872123016704 L -0.26568460971882973, 1.0674322873880822 L -0.28852682446591904, 1.0614858791164454 L -0.31123619131787594, 1.0550507254222152 L -0.33380225408369807, 1.0481297892764248 L -0.35621462255462244, 1.0407262573214284 L -0.37846297728814376, 1.0328435384036607 L -0.40053707435944863, 1.0244852620040825 L -0.42242675007807845, 1.0156552765670412 L -0.44412192566764996, 1.0063576477283107 L -0.4656126119064785, 0.9965966564431307 L -0.48688891372696647, 0.9863767970151035 L -0.5079410347716409, 0.9757027750268596 L -0.52875928190374, 0.9645795051734416 L -0.549334069670276, 0.9530121089994044 L -0.5696559247155125, 0.9410059125406781 L -0.589715490142832, 0.9285664438722733 L -0.6095035298229792, 0.9156994305629598 L -0.5540941180208901, 0.8324540277845088 L -0.5361049910389382, 0.8441513126111575 L -0.5178690224686477, 0.8554599204915255 L -0.49939460879116, 0.866374644544913 L -0.4806902562761272, 0.8768904592485832 L -0.4617645770651281, 0.8870025227516906 L -0.4426262852063331, 0.8967061791046395 L -0.42328419264225314, 0.9059969604028459 L -0.403747205152409, 0.9148705888439187 L -0.38402431825279854, 0.9233229786973101 L -0.3641246130540442, 0.9313502381855295 L -0.34405725208013066, 0.9389486712760551 L -0.32383147504965676, 0.9461147793831167 L -0.3034565946215437, 0.9528452629785679 L -0.2829419921071599, 0.9591370231111047 L -0.2622971131508355, 0.9649871628331321 L -0.2415314633807543, 0.9703929885346201 L -0.22065460403223022, 0.9753520111833367 L -0.24272006443545327 ,1.0728872123016704",
          "type": "path"
         },
         {
          "fillcolor": "#dba284",
          "layer": "below",
          "line": {
           "color": "rgb(150,150,150)",
           "width": 0.45
          },
          "path": "M -0.6379655908255304, 0.8961026196383047 L -0.6591569187662848, 0.8806316803536752 L -0.6799732232773514, 0.8646597108838884 L -0.7004026610454187, 0.8481957983864908 L -0.7204336088627181, 0.8312493099071062 L -0.6549396444206528, 0.7556811908246419 L -0.6367296918594715, 0.7710870894422643 L -0.6181574757066831, 0.7860542826217166 L -0.5992335625148043, 0.8005742548669774 L -0.5799687189323003, 0.8146387451257315 L -0.6379655908255304 ,0.8961026196383047",
          "type": "path"
         },
         {
          "fillcolor": "#d59171",
          "layer": "below",
          "line": {
           "color": "rgb(150,150,150)",
           "width": 0.45
          },
          "path": "M -0.7461882901735986, 0.8082097720318666 L -0.775909179307638, 0.7797210690151625 L -0.8045431944530916, 0.7501401524110112 L -0.8320502258044813, 0.7195084584205469 L -0.8583917422067754, 0.6878688951473362 L -0.7803561292788866, 0.6253353592248511 L -0.756409296185892, 0.6540985985641334 L -0.731402904048265, 0.6819455931009192 L -0.7053719811887618, 0.7088373354683295 L -0.6783529910669077, 0.7347361563926059 L -0.7461882901735986 ,0.8082097720318666",
          "type": "path"
         },
         {
          "fillcolor": "#d0805f",
          "layer": "below",
          "line": {
           "color": "rgb(150,150,150)",
           "width": 0.45
          },
          "path": "M -0.879574661842253, 0.6605667371621785 L -0.8944693310483919, 0.6402535558775464 L -0.9088949756473474, 0.6196046507596661 L -0.922844031397333, 0.5986308492838625 L -0.936309183961046, 0.577343149288359 L -0.9492833727410206, 0.5557527132074416 L -0.9617597945819284, 0.5338708622183149 L -0.9737319073378846, 0.5117090703047246 L -0.9851934333028937, 0.48927895824044704 L -0.9961383625026311, 0.46659228749581466 L -1.0065609558458386, 0.4436609540704613 L -1.0164557481336787, 0.42049698225552573 L -0.9240506801215259, 0.38226998386865974 L -0.9150554144053077, 0.4033281400640557 L -0.9055803295478464, 0.4241748068143769 L -0.8956303939117214, 0.4447990529458609 L -0.8852108248526223, 0.46519006391338596 L -0.8743270859835712, 0.48533714747119533 L -0.8629848843100186, 0.5052297392794923 L -0.8511901672373144, 0.5248574084439627 L -0.8389491194521208, 0.5442098629853295 L -0.8262681596794067, 0.56327695523606 L -0.8131539373167198, 0.5820486871614058 L -0.7996133289475026, 0.6005152156019804 L -0.879574661842253 ,0.6605667371621785",
          "type": "path"
         },
         {
          "fillcolor": "#ca6f4c",
          "layer": "below",
          "line": {
           "color": "rgb(150,150,150)",
           "width": 0.45
          },
          "path": "M -1.0291623179837777, 0.3883618457601852 L -1.0346925034055745, 0.3733783917104812 L -1.040004559532053, 0.3583162236803414 L -1.045097366499046, 0.3431785170093825 L -1.0499698506635224, 0.327968462961945 L -0.9545180460577476, 0.2981531481472227 L -0.9500885149991326, 0.3119804700085295 L -0.9454586904836846, 0.325742021527583 L -0.9406295485505222, 0.3394349015549829 L -0.9356021072579797, 0.35305622341835013 L -1.0291623179837777 ,0.3883618457601852",
          "type": "path"
         },
         {
          "fillcolor": "#c45e3a",
          "layer": "below",
          "line": {
           "color": "rgb(150,150,150)",
           "width": 0.45
          },
          "path": "M -1.0597534922997398, 0.29482628030503943 L -1.0655143722375737, 0.2732748114173156 L -1.0708370232425786, 0.25161094899263264 L -1.0757192561939595, 0.22984360302935275 L -1.0801590631077869, 0.20798172608695367 L -0.9819627846434424, 0.18907429644268514 L -0.9779265965399632, 0.2089487300266843 L -0.9734882029477987, 0.22873722635693877 L -0.9686494293068851, 0.24843164674301413 L -0.9634122657270361, 0.26802389118639947 L -1.0597534922997398 ,0.29482628030503943",
          "type": "path"
         },
         {
          "fillcolor": "#bf4d28",
          "layer": "below",
          "line": {
           "color": "rgb(150,150,150)",
           "width": 0.45
          },
          "path": "M -1.0861589337055055, 0.17395048356276352 L -1.0937620544452846, 0.11698105938839169 L -1.0983791842247808, 0.05969227472383061 L -1.0999977181929408, 0.0022405290276638493 L -1.0986132377216196, -0.05521733335484817 L -0.9987393070196541, -0.0501975757771347 L -0.999997925629946, 0.0020368445706034992 L -0.998526531113437, 0.05426570429439146 L -0.9943291404048041, 0.10634641762581062 L -0.9874172124595505, 0.1581368032388759 L -1.0861589337055055 ,0.17395048356276352",
          "type": "path"
         },
         {
          "fillcolor": "#af4624",
          "layer": "below",
          "line": {
           "color": "rgb(150,150,150)",
           "width": 0.45
          },
          "path": "M -1.0963367200524499, -0.08969836266418835 L -1.0901288602622874, -0.14703424098911852 L -1.0809245511415397, -0.20396596465945216 L -1.0687490926771246, -0.2603370448127259 L -1.0536359516872273, -0.31599253363355106 L -0.9578508651702066, -0.2872659396668646 L -0.9715900842519313, -0.2366700407388417 L -0.9826586828559452, -0.1854236042358656 L -0.9910262366020794, -0.13366749180828955 L -0.9966697455022271, -0.08154396605835304 L -1.0963367200524499 ,-0.08969836266418835",
          "type": "path"
         },
         {
          "fillcolor": "#9f4021",
          "layer": "below",
          "line": {
           "color": "rgb(150,150,150)",
           "width": 0.45
          },
          "path": "M -1.043190480604124, -0.34893211542782515 L -1.0315339329205326, -0.3820179907196754 L -1.0188283320661196, -0.41471535995109843 L -1.0050865994295441, -0.4469909704313447 L -0.9903227101285754, -0.47881199839142874 L -0.9002933728441594, -0.43528363490129884 L -0.9137150903904946, -0.4063554276648588 L -0.9262075746055631, -0.37701396359190764 L -0.9377581208368478, -0.3472890824724322 L -0.9483549823673854, -0.31721101402529556 L -1.043190480604124 ,-0.34893211542782515",
          "type": "path"
         },
         {
          "fillcolor": "#8f391e",
          "layer": "below",
          "line": {
           "color": "rgb(150,150,150)",
           "width": 0.45
          },
          "path": "M -0.9747941973274917, -0.5096825216315067 L -0.9631173117406596, -0.5314179558741362 L -0.950955859739326, -0.5528860215518562 L -0.9383159600289898, -0.5740759175883232 L -0.9252039720331685, -0.5949769828607221 L -0.911626492693826, -0.6155787015636213 L -0.8975903531523003, -0.6358707084997147 L -0.8831026153123992, -0.6558427942947921 L -0.8681705682873943, -0.6754849105343087 L -0.8528017247327015, -0.6947871748189728 L -0.8370038170660913, -0.7137398757368075 L -0.8207847935773318, -0.7323334777491857 L -0.8041528144292224, -0.7505586259883773 L -0.7871162475520286, -0.768406150964198 L -0.7696836644333837, -0.785867073177391 L -0.751863835805777, -0.8029326076374179 L -0.7336657272337976, -0.8195941682823903 L -0.666968842939816, -0.7450856075294456 L -0.6835125780052518, -0.7299387342158344 L -0.6997124222121669, -0.7144246119794463 L -0.7155602250472987, -0.698551046331089 L -0.7310480131174748, -0.6823260236257975 L -0.7461679941612107, -0.6657577070447142 L -0.7609125609691738, -0.6488544324880068 L -0.7752742952115468, -0.6316247043808842 L -0.7892459711703583, -0.6140771913948261 L -0.8028205593749083, -0.5962207220861746 L -0.8159912301384548, -0.578064280454286 L -0.8287513569943872, -0.5596170014214739 L -0.8410945200301532, -0.5408881662370201 L -0.8530145091172634, -0.5218871978075665 L -0.8645053270357508, -0.5026236559562328 L -0.8755611924915087, -0.4831072326128511 L -0.8861765430249924, -0.4633477469377334 L -0.9747941973274917 ,-0.5096825216315067",
          "type": "path"
         },
         {
          "fillcolor": "#f0f3e7",
          "layer": "below",
          "line": {
           "color": "rgb(150,150,150)",
           "width": 0.45
          },
          "path": "M -0.7075596325239192, -0.842234745437765 L -0.6896192926074576, -0.8569861324803278 L -0.671371496919982, -0.871355445913677 L -0.6528243809503804, -0.8853362794084251 L -0.6339862136347202, -0.8989223998327726 L -0.6148653936696712, -0.9121077500314535 L -0.5954704457680823, -0.9248864515262193 L -0.5758100168583736, -0.9372528071366656 L -0.5558928722294443, -0.9492013035202274 L -0.535727891622803, -0.9607266136302182 L -0.5153240652736799, -0.9718235990908064 L -0.4946904899028721, -0.9824873124878797 L -0.4738363646611194, -0.9927129995747688 L -0.45277098702780366, -1.002496101391855 L -0.4315037486658197, -1.011832256299109 L -0.41004413123445027, -1.0207173019206568 L -0.38840170216212294, -1.0291472770005106 L -0.36658611038091915, -1.0371184231686315 L -0.34460708202475526, -1.0446271866165382 L -0.32247441609313976, -1.051670219681716 L -0.30019798008244497, -1.058244382340119 L -0.2777877055866442, -1.0643467436060994 L -0.25525358386946356, -1.0699745828391416 L -0.2326056614099392, -1.0751253909568153 L -0.20985403542335726, -1.0797968715534105 L -0.18700884935956583, -1.0839869419237538 L -0.17000804487233256, -0.9854426744761396 L -0.19077639583941566, -0.9816335195940095 L -0.2114596921908538, -0.9773867190516502 L -0.23204871260860324, -0.9727041662174013 L -0.25253427780604015, -0.9675879487328176 L -0.2729072546204045, -0.9620403475819264 L -0.2931585600846725, -0.9560638360742871 L -0.3132791654770502, -0.9496610787423074 L -0.3332601003462901, -0.9428349301533013 L -0.35309245651102084, -0.9355884336368278 L -0.3727673920313184, -0.9279248199278697 L -0.39227613515074516, -0.9198475057264625 L -0.4116099882070942, -0.9113600921744136 L -0.4307603315101085, -0.9024663632497897 L -0.4497186271844292, -0.8931702840798905 L -0.46847642297607256, -0.8834759991734603 L -0.48702535602072994, -0.8733878305729256 L -0.505357156572222, -0.8629102759274794 L -0.5234636516894305, -0.8520480064878777 L -0.5413367688800748, -0.8408058650238357 L -0.5589685396997011, -0.8291888636649577 L -0.5763511033042911, -0.8172021816661568 L -0.5934767099548912, -0.8048511630985682 L -0.6103377244727108, -0.792141314466979 L -0.6269266296431432, -0.7790783022548434 L -0.6432360295671992, -0.7656679503979681 L -0.7075596325239192 ,-0.842234745437765",
          "type": "path"
         },
         {
          "fillcolor": "#e2ecde",
          "layer": "below",
          "line": {
           "color": "rgb(150,150,150)",
           "width": 0.45
          },
          "path": "M -0.152867719104729, -1.0893261497162905 L -0.13718178460286332, -1.0914124600595203 L -0.12146746126804006, -1.0932729100517846 L -0.10572800107209607, -1.0949071146856701 L -0.08996666118877279, -1.0963147357736942 L -0.08178787380797525, -0.9966497597942673 L -0.09611636461099642, -0.9953701042597 L -0.11042496478912732, -0.9938844636834404 L -0.12471071327533029, -0.9921931455086547 L -0.1389706537315718, -0.9902964997420821 L -0.152867719104729 ,-1.0893261497162905",
          "type": "path"
         },
         {
          "fillcolor": "#d4e5d6",
          "layer": "below",
          "line": {
           "color": "rgb(150,150,150)",
           "width": 0.45
          },
          "path": "M -0.05548619003319026, -1.098599691751095 L -0.03239392906150404, -1.0995229117030523 L -0.00928736911900569, -1.0999607923807317 L 0.013823290351515404, -1.0999131404996751 L 0.036927848097701395, -1.0993799770938495 L 0.060016105560550294, -1.0983615375063647 L 0.08307787137615234, -1.0968582712855877 L 0.1061029658742455, -1.0948708419867108 L 0.12908122557161916, -1.0924001268788506 L 0.15200250765836276, -1.0894472165578144 L 0.17485669447499408, -1.0860134144647011 L 0.1976336979784849, -1.0821002363105505 L 0.22032346419521356, -1.077709409407295 L 0.24291597765887932, -1.072842871905309 L 0.26540126583141865, -1.067502771937891 L 0.2877694035049734, -1.0616914666730595 L 0.3100105171829669, -1.0554115212730766 L 0.332114789438351, -1.048665707762164 L 0.3540724632471112, -1.0414570038029045 L 0.3758738462951014, -1.0337885913818776 L 0.3975093152563188, -1.0256638554050994 L 0.41896932004072657, -1.017086382203897 L 0.4402443880097493, -1.0080599579518679 L 0.4613251281575803, -0.9985885669936304 L 0.4822022352564561, -0.9886763900860978 L 0.502866493964068, -0.9783278025530533 L 0.523308782891294, -0.9675473723538464 L 0.5435200786284659, -0.9563398580670506 L 0.5634914597283807, -0.9447102067899864 L 0.583214110644308, -0.9326635519550279 L 0.6026793256212511, -0.9202052110636595 L 0.6218785125387458, -0.907340683339283 L 0.5653441023079507, -0.8248551666720754 L 0.5478902960193192, -0.8365501918760541 L 0.5301946460402799, -0.8478759563227526 L 0.512264963389437, -0.8588274607181694 L 0.49410916238951436, -0.8693998709700459 L 0.4757352571739036, -0.8795885203216784 L 0.45715135814915275, -0.8893889114118666 L 0.43836566841496005, -0.8987967182600888 L 0.4193864801432548, -0.9078077881760276 L 0.40022217091795387, -0.916418143592607 L 0.38088120003702414, -0.9246239838217244 L 0.3613721047784716, -0.9324216867319085 L 0.34170349663191035, -0.9398078103471614 L 0.3218840574973738, -0.9467790943662768 L 0.30192253585304635, -0.953332461601967 L 0.28182774289360624, -0.9594650193391604 L 0.26160854864088484, -0.9651740606118722 L 0.2412738780285624, -0.9704570653980826 L 0.22083270696261753, -0.9753117017320989 L 0.20029405835928504, -0.9797358267339045 L 0.17966699816225898, -0.9837274875550458 L 0.15896063134090369, -0.9872849222406374 L 0.13818409787123886, -0.990406560507104 L 0.11734656870147196, -0.9930910244353187 L 0.09645724170385954, -0.9953371290788279 L 0.07552533761468394, -0.9971438829868977 L 0.05456009596413663, -0.9985104886421495 L 0.03357077099791036, -0.9994363428125904 L 0.01256662759228673, -0.9999210368178864 L -0.008443062835459716, -0.9999643567097561 L -0.029449026419549128, -0.9995662833664112 L -0.05044199093926387, -0.9987269925009954 L -0.05548619003319026 ,-1.098599691751095",
          "type": "path"
         },
         {
          "fillcolor": "#c6decd",
          "layer": "below",
          "line": {
           "color": "rgb(150,150,150)",
           "width": 0.45
          },
          "path": "M 0.6500719126391137, -0.88735928935112 L 0.6687204597582236, -0.8733916342058414 L 0.687068986990565, -0.8590321339250115 L 0.7051092623118546, -0.844287230865203 L 0.7228331919943183, -0.8291635402930506 L 0.7402328242379179, -0.8136678474173328 L 0.7573003527379137, -0.7978071043447981 L 0.7740281201871394, -0.7815884269611236 L 0.7904086217114392, -0.7650190917383847 L 0.8064345082367118, -0.7481065324704852 L 0.822098589786052, -0.730858336938004 L 0.8373938387055226, -0.7132822435039509 L 0.8523133928170897, -0.6953861376419734 L 0.8668505584973281, -0.6771780483985511 L 0.8809988136804949, -0.658666144790789 L 0.8947518107846438, -0.639858732141401 L 0.9081033795594504, -0.6207642483525488 L 0.9210475298544801, -0.601391260120199 L 0.9335784543066584, -0.5817484590906887 L 0.945690530945727, -0.5618446579612458 L 0.9573783257165315, -0.5416887865261854 L 0.968636594916994, -0.5212898876705854 L 0.8805787226518127, -0.47389989788235026 L 0.870343932469574, -0.4924443513874412 L 0.8597186644961153, -0.5107678708738598 L 0.8487076857333258, -0.5288622355369897 L 0.8373159362313455, -0.546719327381999 L 0.8255485268722276, -0.5643311348659534 L 0.8134107370769489, -0.5816897564921827 L 0.8009080124368135, -0.5987874043552627 L 0.7880459622702982, -0.6156164076350464 L 0.7748303571064451, -0.6321692160381576 L 0.7612671260959296, -0.6484384031854098 L 0.7473623543509563, -0.6644166699436399 L 0.7331222802151925, -0.680096847700441 L 0.7185532924649447, -0.6954719015803497 L 0.7036619274428539, -0.7105349336010214 L 0.6884548661253761, -0.7252791857679982 L 0.6729389311253798, -0.7396980431066661 L 0.6571210836311984, -0.7537850366300459 L 0.6410084202835041, -0.7675338462410936 L 0.6246081699914227, -0.7809383035681923 L 0.6079276906892941, -0.7939923947325831 L 0.5909744660355578, -0.8066902630464726 L 0.6500719126391137 ,-0.88735928935112",
          "type": "path"
         },
         {
          "fillcolor": "#b8d7c5",
          "layer": "below",
          "line": {
           "color": "rgb(150,150,150)",
           "width": 0.45
          },
          "path": "M 0.9845327423013444, -0.4906070518618692 L 0.9999419589033193, -0.4583842043794623 L 1.0142968930177803, -0.42567806240688283 L 1.027582409610627, -0.3925231094583067 L 1.0397845011813671, -0.3589543022489298 L 0.9452586374376063, -0.32632209295357256 L 0.9341658269187517, -0.3568391904166424 L 0.9220880845616183, -0.3869800567335298 L 0.9090381444575629, -0.41671291307223846 L 0.8950297657284948, -0.44600641078351744 L 0.9845327423013444 ,-0.4906070518618692",
          "type": "path"
         },
         {
          "fillcolor": "#aad0bc",
          "layer": "below",
          "line": {
           "color": "rgb(150,150,150)",
           "width": 0.45
          },
          "path": "M 1.0505464574053849, -0.3261167595095295 L 1.0613844389922222, -0.28889976231413816 L 1.0709044032727886, -0.2513240120858983 L 1.079094528444148, -0.21343617004130744 L 1.085944644085179, -0.17528328494957549 L 0.987222403713799, -0.15934844086325042 L 0.9809950258583163, -0.19403288185573403 L 0.9735494575207169, -0.22847637462354387 L 0.9648949445383839, -0.2626361475583074 L 0.9550422340048952, -0.2964697813722995 L 1.0505464574053849 ,-0.3261167595095295",
          "type": "path"
         },
         {
          "fillcolor": "#9cc9b4",
          "layer": "below",
          "line": {
           "color": "rgb(150,150,150)",
           "width": 0.45
          },
          "path": "M 1.09091457699114, -0.14108644764201345 L 1.0940205338960847, -0.11453851497957468 L 1.096480530719469, -0.08792295350562211 L 1.0982931149659336, -0.06125547827277942 L 1.0994572164023046, -0.03455183498594316 L 0.9995065603657315, -0.03141075907813014 L 0.9984482863326668, -0.05568679842979947 L 0.9968004824722445, -0.07992995773238373 L 0.9945641217237132, -0.10412592270870424 L 0.9917405245373998, -0.12826040694728494 L 1.09091457699114 ,-0.14108644764201345",
          "type": "path"
         }
        ],
        "showlegend": false,
        "template": {
         "data": {
          "bar": [
           {
            "error_x": {
             "color": "#2a3f5f"
            },
            "error_y": {
             "color": "#2a3f5f"
            },
            "marker": {
             "line": {
              "color": "#E5ECF6",
              "width": 0.5
             }
            },
            "type": "bar"
           }
          ],
          "barpolar": [
           {
            "marker": {
             "line": {
              "color": "#E5ECF6",
              "width": 0.5
             }
            },
            "type": "barpolar"
           }
          ],
          "carpet": [
           {
            "aaxis": {
             "endlinecolor": "#2a3f5f",
             "gridcolor": "white",
             "linecolor": "white",
             "minorgridcolor": "white",
             "startlinecolor": "#2a3f5f"
            },
            "baxis": {
             "endlinecolor": "#2a3f5f",
             "gridcolor": "white",
             "linecolor": "white",
             "minorgridcolor": "white",
             "startlinecolor": "#2a3f5f"
            },
            "type": "carpet"
           }
          ],
          "choropleth": [
           {
            "colorbar": {
             "outlinewidth": 0,
             "ticks": ""
            },
            "type": "choropleth"
           }
          ],
          "contour": [
           {
            "colorbar": {
             "outlinewidth": 0,
             "ticks": ""
            },
            "colorscale": [
             [
              0,
              "#0d0887"
             ],
             [
              0.1111111111111111,
              "#46039f"
             ],
             [
              0.2222222222222222,
              "#7201a8"
             ],
             [
              0.3333333333333333,
              "#9c179e"
             ],
             [
              0.4444444444444444,
              "#bd3786"
             ],
             [
              0.5555555555555556,
              "#d8576b"
             ],
             [
              0.6666666666666666,
              "#ed7953"
             ],
             [
              0.7777777777777778,
              "#fb9f3a"
             ],
             [
              0.8888888888888888,
              "#fdca26"
             ],
             [
              1,
              "#f0f921"
             ]
            ],
            "type": "contour"
           }
          ],
          "contourcarpet": [
           {
            "colorbar": {
             "outlinewidth": 0,
             "ticks": ""
            },
            "type": "contourcarpet"
           }
          ],
          "heatmap": [
           {
            "colorbar": {
             "outlinewidth": 0,
             "ticks": ""
            },
            "colorscale": [
             [
              0,
              "#0d0887"
             ],
             [
              0.1111111111111111,
              "#46039f"
             ],
             [
              0.2222222222222222,
              "#7201a8"
             ],
             [
              0.3333333333333333,
              "#9c179e"
             ],
             [
              0.4444444444444444,
              "#bd3786"
             ],
             [
              0.5555555555555556,
              "#d8576b"
             ],
             [
              0.6666666666666666,
              "#ed7953"
             ],
             [
              0.7777777777777778,
              "#fb9f3a"
             ],
             [
              0.8888888888888888,
              "#fdca26"
             ],
             [
              1,
              "#f0f921"
             ]
            ],
            "type": "heatmap"
           }
          ],
          "heatmapgl": [
           {
            "colorbar": {
             "outlinewidth": 0,
             "ticks": ""
            },
            "colorscale": [
             [
              0,
              "#0d0887"
             ],
             [
              0.1111111111111111,
              "#46039f"
             ],
             [
              0.2222222222222222,
              "#7201a8"
             ],
             [
              0.3333333333333333,
              "#9c179e"
             ],
             [
              0.4444444444444444,
              "#bd3786"
             ],
             [
              0.5555555555555556,
              "#d8576b"
             ],
             [
              0.6666666666666666,
              "#ed7953"
             ],
             [
              0.7777777777777778,
              "#fb9f3a"
             ],
             [
              0.8888888888888888,
              "#fdca26"
             ],
             [
              1,
              "#f0f921"
             ]
            ],
            "type": "heatmapgl"
           }
          ],
          "histogram": [
           {
            "marker": {
             "colorbar": {
              "outlinewidth": 0,
              "ticks": ""
             }
            },
            "type": "histogram"
           }
          ],
          "histogram2d": [
           {
            "colorbar": {
             "outlinewidth": 0,
             "ticks": ""
            },
            "colorscale": [
             [
              0,
              "#0d0887"
             ],
             [
              0.1111111111111111,
              "#46039f"
             ],
             [
              0.2222222222222222,
              "#7201a8"
             ],
             [
              0.3333333333333333,
              "#9c179e"
             ],
             [
              0.4444444444444444,
              "#bd3786"
             ],
             [
              0.5555555555555556,
              "#d8576b"
             ],
             [
              0.6666666666666666,
              "#ed7953"
             ],
             [
              0.7777777777777778,
              "#fb9f3a"
             ],
             [
              0.8888888888888888,
              "#fdca26"
             ],
             [
              1,
              "#f0f921"
             ]
            ],
            "type": "histogram2d"
           }
          ],
          "histogram2dcontour": [
           {
            "colorbar": {
             "outlinewidth": 0,
             "ticks": ""
            },
            "colorscale": [
             [
              0,
              "#0d0887"
             ],
             [
              0.1111111111111111,
              "#46039f"
             ],
             [
              0.2222222222222222,
              "#7201a8"
             ],
             [
              0.3333333333333333,
              "#9c179e"
             ],
             [
              0.4444444444444444,
              "#bd3786"
             ],
             [
              0.5555555555555556,
              "#d8576b"
             ],
             [
              0.6666666666666666,
              "#ed7953"
             ],
             [
              0.7777777777777778,
              "#fb9f3a"
             ],
             [
              0.8888888888888888,
              "#fdca26"
             ],
             [
              1,
              "#f0f921"
             ]
            ],
            "type": "histogram2dcontour"
           }
          ],
          "mesh3d": [
           {
            "colorbar": {
             "outlinewidth": 0,
             "ticks": ""
            },
            "type": "mesh3d"
           }
          ],
          "parcoords": [
           {
            "line": {
             "colorbar": {
              "outlinewidth": 0,
              "ticks": ""
             }
            },
            "type": "parcoords"
           }
          ],
          "pie": [
           {
            "automargin": true,
            "type": "pie"
           }
          ],
          "scatter": [
           {
            "marker": {
             "colorbar": {
              "outlinewidth": 0,
              "ticks": ""
             }
            },
            "type": "scatter"
           }
          ],
          "scatter3d": [
           {
            "line": {
             "colorbar": {
              "outlinewidth": 0,
              "ticks": ""
             }
            },
            "marker": {
             "colorbar": {
              "outlinewidth": 0,
              "ticks": ""
             }
            },
            "type": "scatter3d"
           }
          ],
          "scattercarpet": [
           {
            "marker": {
             "colorbar": {
              "outlinewidth": 0,
              "ticks": ""
             }
            },
            "type": "scattercarpet"
           }
          ],
          "scattergeo": [
           {
            "marker": {
             "colorbar": {
              "outlinewidth": 0,
              "ticks": ""
             }
            },
            "type": "scattergeo"
           }
          ],
          "scattergl": [
           {
            "marker": {
             "colorbar": {
              "outlinewidth": 0,
              "ticks": ""
             }
            },
            "type": "scattergl"
           }
          ],
          "scattermapbox": [
           {
            "marker": {
             "colorbar": {
              "outlinewidth": 0,
              "ticks": ""
             }
            },
            "type": "scattermapbox"
           }
          ],
          "scatterpolar": [
           {
            "marker": {
             "colorbar": {
              "outlinewidth": 0,
              "ticks": ""
             }
            },
            "type": "scatterpolar"
           }
          ],
          "scatterpolargl": [
           {
            "marker": {
             "colorbar": {
              "outlinewidth": 0,
              "ticks": ""
             }
            },
            "type": "scatterpolargl"
           }
          ],
          "scatterternary": [
           {
            "marker": {
             "colorbar": {
              "outlinewidth": 0,
              "ticks": ""
             }
            },
            "type": "scatterternary"
           }
          ],
          "surface": [
           {
            "colorbar": {
             "outlinewidth": 0,
             "ticks": ""
            },
            "colorscale": [
             [
              0,
              "#0d0887"
             ],
             [
              0.1111111111111111,
              "#46039f"
             ],
             [
              0.2222222222222222,
              "#7201a8"
             ],
             [
              0.3333333333333333,
              "#9c179e"
             ],
             [
              0.4444444444444444,
              "#bd3786"
             ],
             [
              0.5555555555555556,
              "#d8576b"
             ],
             [
              0.6666666666666666,
              "#ed7953"
             ],
             [
              0.7777777777777778,
              "#fb9f3a"
             ],
             [
              0.8888888888888888,
              "#fdca26"
             ],
             [
              1,
              "#f0f921"
             ]
            ],
            "type": "surface"
           }
          ],
          "table": [
           {
            "cells": {
             "fill": {
              "color": "#EBF0F8"
             },
             "line": {
              "color": "white"
             }
            },
            "header": {
             "fill": {
              "color": "#C8D4E3"
             },
             "line": {
              "color": "white"
             }
            },
            "type": "table"
           }
          ]
         },
         "layout": {
          "annotationdefaults": {
           "arrowcolor": "#2a3f5f",
           "arrowhead": 0,
           "arrowwidth": 1
          },
          "coloraxis": {
           "colorbar": {
            "outlinewidth": 0,
            "ticks": ""
           }
          },
          "colorscale": {
           "diverging": [
            [
             0,
             "#8e0152"
            ],
            [
             0.1,
             "#c51b7d"
            ],
            [
             0.2,
             "#de77ae"
            ],
            [
             0.3,
             "#f1b6da"
            ],
            [
             0.4,
             "#fde0ef"
            ],
            [
             0.5,
             "#f7f7f7"
            ],
            [
             0.6,
             "#e6f5d0"
            ],
            [
             0.7,
             "#b8e186"
            ],
            [
             0.8,
             "#7fbc41"
            ],
            [
             0.9,
             "#4d9221"
            ],
            [
             1,
             "#276419"
            ]
           ],
           "sequential": [
            [
             0,
             "#0d0887"
            ],
            [
             0.1111111111111111,
             "#46039f"
            ],
            [
             0.2222222222222222,
             "#7201a8"
            ],
            [
             0.3333333333333333,
             "#9c179e"
            ],
            [
             0.4444444444444444,
             "#bd3786"
            ],
            [
             0.5555555555555556,
             "#d8576b"
            ],
            [
             0.6666666666666666,
             "#ed7953"
            ],
            [
             0.7777777777777778,
             "#fb9f3a"
            ],
            [
             0.8888888888888888,
             "#fdca26"
            ],
            [
             1,
             "#f0f921"
            ]
           ],
           "sequentialminus": [
            [
             0,
             "#0d0887"
            ],
            [
             0.1111111111111111,
             "#46039f"
            ],
            [
             0.2222222222222222,
             "#7201a8"
            ],
            [
             0.3333333333333333,
             "#9c179e"
            ],
            [
             0.4444444444444444,
             "#bd3786"
            ],
            [
             0.5555555555555556,
             "#d8576b"
            ],
            [
             0.6666666666666666,
             "#ed7953"
            ],
            [
             0.7777777777777778,
             "#fb9f3a"
            ],
            [
             0.8888888888888888,
             "#fdca26"
            ],
            [
             1,
             "#f0f921"
            ]
           ]
          },
          "colorway": [
           "#636efa",
           "#EF553B",
           "#00cc96",
           "#ab63fa",
           "#FFA15A",
           "#19d3f3",
           "#FF6692",
           "#B6E880",
           "#FF97FF",
           "#FECB52"
          ],
          "font": {
           "color": "#2a3f5f"
          },
          "geo": {
           "bgcolor": "white",
           "lakecolor": "white",
           "landcolor": "#E5ECF6",
           "showlakes": true,
           "showland": true,
           "subunitcolor": "white"
          },
          "hoverlabel": {
           "align": "left"
          },
          "hovermode": "closest",
          "mapbox": {
           "style": "light"
          },
          "paper_bgcolor": "white",
          "plot_bgcolor": "#E5ECF6",
          "polar": {
           "angularaxis": {
            "gridcolor": "white",
            "linecolor": "white",
            "ticks": ""
           },
           "bgcolor": "#E5ECF6",
           "radialaxis": {
            "gridcolor": "white",
            "linecolor": "white",
            "ticks": ""
           }
          },
          "scene": {
           "xaxis": {
            "backgroundcolor": "#E5ECF6",
            "gridcolor": "white",
            "gridwidth": 2,
            "linecolor": "white",
            "showbackground": true,
            "ticks": "",
            "zerolinecolor": "white"
           },
           "yaxis": {
            "backgroundcolor": "#E5ECF6",
            "gridcolor": "white",
            "gridwidth": 2,
            "linecolor": "white",
            "showbackground": true,
            "ticks": "",
            "zerolinecolor": "white"
           },
           "zaxis": {
            "backgroundcolor": "#E5ECF6",
            "gridcolor": "white",
            "gridwidth": 2,
            "linecolor": "white",
            "showbackground": true,
            "ticks": "",
            "zerolinecolor": "white"
           }
          },
          "shapedefaults": {
           "line": {
            "color": "#2a3f5f"
           }
          },
          "ternary": {
           "aaxis": {
            "gridcolor": "white",
            "linecolor": "white",
            "ticks": ""
           },
           "baxis": {
            "gridcolor": "white",
            "linecolor": "white",
            "ticks": ""
           },
           "bgcolor": "#E5ECF6",
           "caxis": {
            "gridcolor": "white",
            "linecolor": "white",
            "ticks": ""
           }
          },
          "title": {
           "x": 0.05
          },
          "xaxis": {
           "automargin": true,
           "gridcolor": "white",
           "linecolor": "white",
           "ticks": "",
           "title": {
            "standoff": 15
           },
           "zerolinecolor": "white",
           "zerolinewidth": 2
          },
          "yaxis": {
           "automargin": true,
           "gridcolor": "white",
           "linecolor": "white",
           "ticks": "",
           "title": {
            "standoff": 15
           },
           "zerolinecolor": "white",
           "zerolinewidth": 2
          }
         }
        },
        "title": {
         "font": {
          "color": "#655643",
          "family": "Merryweather",
          "size": 18
         },
         "text": "Data Jobs ‒ Technologies in Demand and Relationships Between Them"
        },
        "width": 960,
        "xaxis": {
         "showgrid": false,
         "showline": false,
         "showticklabels": false,
         "title": {
          "text": ""
         },
         "zeroline": false
        },
        "yaxis": {
         "showgrid": false,
         "showline": false,
         "showticklabels": false,
         "title": {
          "text": ""
         },
         "zeroline": false
        }
       }
      },
      "text/html": [
       "<div>\n",
       "        \n",
       "        \n",
       "            <div id=\"25cb1a31-6b23-4df3-b638-0e24a67a546f\" class=\"plotly-graph-div\" style=\"height:525px; width:960px;\"></div>\n",
       "            <script type=\"text/javascript\">\n",
       "                require([\"plotly\"], function(Plotly) {\n",
       "                    window.PLOTLYENV=window.PLOTLYENV || {};\n",
       "                    \n",
       "                if (document.getElementById(\"25cb1a31-6b23-4df3-b638-0e24a67a546f\")) {\n",
       "                    Plotly.newPlot(\n",
       "                        '25cb1a31-6b23-4df3-b638-0e24a67a546f',\n",
       "                        [{\"hoverinfo\": \"text\", \"line\": {\"color\": \"#f2e6ce\", \"shape\": \"spline\", \"width\": 0.25}, \"mode\": \"lines\", \"text\": \"Power BI<br>1850\", \"type\": \"scatter\", \"x\": [1.1, 1.0997089608529098, 1.098835997418521, 1.097381571635985, 1.0953464531322823, 1.0927317188149652, 1.0895387523022981, 1.0857692431911004, 1.0814251861626747, 1.0765088799272986, 1.071022926007833, 1.0649702273630954, 1.0583539868517247, 1.0511777055373484], \"y\": [0.0, 0.025302201876785547, 0.05059101478765522, 0.0758530568516263, 0.1010749603538332, 0.12624337881921543, 0.15134499407496613, 0.17636652329800417, 0.20129472604374046, 0.22611641125241938, 0.25081844422932736, 0.2753877535951753, 0.2998113382029769, 0.32407627401776284]}, {\"hoverinfo\": \"text\", \"line\": {\"color\": \"#ecd5bb\", \"shape\": \"spline\", \"width\": 0.25}, \"mode\": \"lines\", \"text\": \"Excel<br>5120\", \"type\": \"scatter\", \"x\": [1.0404795310286674, 1.0329295056492707, 1.0249437532559222, 1.0165256425277296, 1.007678724528178, 0.9984067312071645, 0.9887135738267274, 0.9786033413111329, 0.96808029852202, 0.9571488844593272, 0.9458137103887623, 0.9340795578966031, 0.9219513768726524, 0.9094342834221942, 0.8965335577078368, 0.8832546417221485, 0.8696031369920284, 0.8555848022157804, 0.8412055508338852, 0.826471448534498, 0.8113887106947215, 0.7959636997587355, 0.7802029225538873, 0.7641130275458771, 0.7477008020341944, 0.7309731692889905, 0.7139371856305916, 0.6966000374528889, 0.6789690381918568, 0.6610516252404823, 0.6428553568114023, 0.6243879087485776, 0.6056570712893438, 0.5866707457782068, 0.5674369413337714, 0.5479637714702041, 0.5282594506746614, 0.5083322909421192, 0.4881906982690754, 0.4678431691075954, 0.4472982867812015, 0.42656471786411687, 0.4056512085253913, 0.38456658083945056], \"y\": [0.3569346515965698, 0.37822828603788183, 0.3993623701122368, 0.4203279886988098, 0.4411162977416102, 0.461718527980224, 0.4821259886490051, 0.5023300711431542, 0.5223222526501401, 0.5420940997449295, 0.5616372719475112, 0.5809435252412118, 0.6000047155503203, 0.6188128021755532, 0.6373598511859129, 0.6556380387655062, 0.6736396545139127, 0.6913571046987108, 0.7087829154587885, 0.7259097359570877, 0.7427303414814542, 0.7592376364922814, 0.7754246576156661, 0.7912845765808114, 0.8068107031004377, 0.8219964876929883, 0.8368355244454375, 0.8513215537155359, 0.8654484647723544, 0.8792102983740108, 0.8926012492814945, 0.9056156687075252, 0.9182480666994159, 0.930493114454934, 0.9423456465701819, 0.9538006632185522, 0.9648533322598338, 0.9754989912785851, 0.985733149550908, 0.9955514899387988, 1.0049498707112718, 1.013924327291493, 1.0224710739291796, 1.0305865052975682]}, {\"hoverinfo\": \"text\", \"line\": {\"color\": \"#e6c4a9\", \"shape\": \"spline\", \"width\": 0.25}, \"mode\": \"lines\", \"text\": \"SSIS/SSRS<br>3069\", \"type\": \"scatter\", \"x\": [0.35200531601937707, 0.3294841339672677, 0.3068101786513513, 0.2839939633977641, 0.2610460674948921, 0.23797713128803044, 0.21479785124572964, 0.19151897500012027, 0.16815129636351456, 0.14470565032359387, 0.12119290801950697, 0.09762397170120313, 0.07400976967434171, 0.05036125123311857, 0.02668938158336332, 0.0030051367582562783, -0.0206805014709738, -0.04435655068701273, -0.06801203291872328, -0.09163597973134717, -0.1152174373122829, -0.13874547155008604, -0.16220917310433322, -0.1855976624640018, -0.20890009499201612], \"y\": [1.0421575012895596, 1.049495214597875, 1.0563463041426926, 1.0627075932511396, 1.0685761323581267, 1.0739492003739841, 1.0788243059461617, 1.0831991886144041, 1.0870718198588674, 1.0904404040406912, 1.093303379234591, 1.0956594179530803, 1.0975074277619952, 1.098846551787025, 1.0996761691110242, 1.0999958950619153, 1.0998055813910517, 1.0991053163419557, 1.0978954246094037, 1.096176467188872, 1.0939492411164196, 1.0912147790991216, 1.0879743490362301, 1.084229453431283, 1.0799818286954308]}, {\"hoverinfo\": \"text\", \"line\": {\"color\": \"#e1b396\", \"shape\": \"spline\", \"width\": 0.25}, \"mode\": \"lines\", \"text\": \"MS SQL Server<br>2218\", \"type\": \"scatter\", \"x\": [-0.24272006443545327, -0.26568460971882973, -0.28852682446591904, -0.31123619131787594, -0.33380225408369807, -0.35621462255462244, -0.37846297728814376, -0.40053707435944863, -0.42242675007807845, -0.44412192566764996, -0.4656126119064785, -0.48688891372696647, -0.5079410347716409, -0.52875928190374, -0.549334069670276, -0.5696559247155125, -0.589715490142832, -0.6095035298229792], \"y\": [1.0728872123016704, 1.0674322873880822, 1.0614858791164454, 1.0550507254222152, 1.0481297892764248, 1.0407262573214284, 1.0328435384036607, 1.0244852620040825, 1.0156552765670412, 1.0063576477283107, 0.9965966564431307, 0.9863767970151035, 0.9757027750268596, 0.9645795051734416, 0.9530121089994044, 0.9410059125406781, 0.9285664438722733, 0.9156994305629598]}, {\"hoverinfo\": \"text\", \"line\": {\"color\": \"#dba284\", \"shape\": \"spline\", \"width\": 0.25}, \"mode\": \"lines\", \"text\": \"PostgreSQL<br>710\", \"type\": \"scatter\", \"x\": [-0.6379655908255304, -0.6591569187662848, -0.6799732232773514, -0.7004026610454187, -0.7204336088627181], \"y\": [0.8961026196383047, 0.8806316803536752, 0.8646597108838884, 0.8481957983864908, 0.8312493099071062]}, {\"hoverinfo\": \"text\", \"line\": {\"color\": \"#d59171\", \"shape\": \"spline\", \"width\": 0.25}, \"mode\": \"lines\", \"text\": \"MySQL/MariaDB<br>1014\", \"type\": \"scatter\", \"x\": [-0.7461882901735986, -0.775909179307638, -0.8045431944530916, -0.8320502258044813, -0.8583917422067754], \"y\": [0.8082097720318666, 0.7797210690151625, 0.7501401524110112, 0.7195084584205469, 0.6878688951473362]}, {\"hoverinfo\": \"text\", \"line\": {\"color\": \"#d0805f\", \"shape\": \"spline\", \"width\": 0.25}, \"mode\": \"lines\", \"text\": \"T-SQL<br>1586\", \"type\": \"scatter\", \"x\": [-0.879574661842253, -0.8944693310483919, -0.9088949756473474, -0.922844031397333, -0.936309183961046, -0.9492833727410206, -0.9617597945819284, -0.9737319073378846, -0.9851934333028937, -0.9961383625026311, -1.0065609558458386, -1.0164557481336787], \"y\": [0.6605667371621785, 0.6402535558775464, 0.6196046507596661, 0.5986308492838625, 0.577343149288359, 0.5557527132074416, 0.5338708622183149, 0.5117090703047246, 0.48927895824044704, 0.46659228749581466, 0.4436609540704613, 0.42049698225552573]}, {\"hoverinfo\": \"text\", \"line\": {\"color\": \"#ca6f4c\", \"shape\": \"spline\", \"width\": 0.25}, \"mode\": \"lines\", \"text\": \"PL/SQL<br>501\", \"type\": \"scatter\", \"x\": [-1.0291623179837777, -1.0346925034055745, -1.040004559532053, -1.045097366499046, -1.0499698506635224], \"y\": [0.3883618457601852, 0.3733783917104812, 0.3583162236803414, 0.3431785170093825, 0.327968462961945]}, {\"hoverinfo\": \"text\", \"line\": {\"color\": \"#c45e3a\", \"shape\": \"spline\", \"width\": 0.25}, \"mode\": \"lines\", \"text\": \"Pentaho<br>630\", \"type\": \"scatter\", \"x\": [-1.0597534922997398, -1.0655143722375737, -1.0708370232425786, -1.0757192561939595, -1.0801590631077869], \"y\": [0.29482628030503943, 0.2732748114173156, 0.25161094899263264, 0.22984360302935275, 0.20798172608695367]}, {\"hoverinfo\": \"text\", \"line\": {\"color\": \"#bf4d28\", \"shape\": \"spline\", \"width\": 0.25}, \"mode\": \"lines\", \"text\": \"Hadoop<br>1346\", \"type\": \"scatter\", \"x\": [-1.0861589337055055, -1.0937620544452846, -1.0983791842247808, -1.0999977181929408, -1.0986132377216196], \"y\": [0.17395048356276352, 0.11698105938839169, 0.05969227472383061, 0.0022405290276638493, -0.05521733335484817]}, {\"hoverinfo\": \"text\", \"line\": {\"color\": \"#af4624\", \"shape\": \"spline\", \"width\": 0.25}, \"mode\": \"lines\", \"text\": \"Spark<br>1350\", \"type\": \"scatter\", \"x\": [-1.0963367200524499, -1.0901288602622874, -1.0809245511415397, -1.0687490926771246, -1.0536359516872273], \"y\": [-0.08969836266418835, -0.14703424098911852, -0.20396596465945216, -0.2603370448127259, -0.31599253363355106]}, {\"hoverinfo\": \"text\", \"line\": {\"color\": \"#9f4021\", \"shape\": \"spline\", \"width\": 0.25}, \"mode\": \"lines\", \"text\": \"Informatica<br>890\", \"type\": \"scatter\", \"x\": [-1.043190480604124, -1.0315339329205326, -1.0188283320661196, -1.0050865994295441, -0.9903227101285754], \"y\": [-0.34893211542782515, -0.3820179907196754, -0.41471535995109843, -0.4469909704313447, -0.47881199839142874]}, {\"hoverinfo\": \"text\", \"line\": {\"color\": \"#8f391e\", \"shape\": \"spline\", \"width\": 0.25}, \"mode\": \"lines\", \"text\": \"Qlik<br>2185\", \"type\": \"scatter\", \"x\": [-0.9747941973274917, -0.9631173117406596, -0.950955859739326, -0.9383159600289898, -0.9252039720331685, -0.911626492693826, -0.8975903531523003, -0.8831026153123992, -0.8681705682873943, -0.8528017247327015, -0.8370038170660913, -0.8207847935773318, -0.8041528144292224, -0.7871162475520286, -0.7696836644333837, -0.751863835805777, -0.7336657272337976], \"y\": [-0.5096825216315067, -0.5314179558741362, -0.5528860215518562, -0.5740759175883232, -0.5949769828607221, -0.6155787015636213, -0.6358707084997147, -0.6558427942947921, -0.6754849105343087, -0.6947871748189728, -0.7137398757368075, -0.7323334777491857, -0.7505586259883773, -0.768406150964198, -0.785867073177391, -0.8029326076374179, -0.8195941682823903]}, {\"hoverinfo\": \"text\", \"line\": {\"color\": \"#f0f3e7\", \"shape\": \"spline\", \"width\": 0.25}, \"mode\": \"lines\", \"text\": \"Tableau<br>3131\", \"type\": \"scatter\", \"x\": [-0.7075596325239192, -0.6896192926074576, -0.671371496919982, -0.6528243809503804, -0.6339862136347202, -0.6148653936696712, -0.5954704457680823, -0.5758100168583736, -0.5558928722294443, -0.535727891622803, -0.5153240652736799, -0.4946904899028721, -0.4738363646611194, -0.45277098702780366, -0.4315037486658197, -0.41004413123445027, -0.38840170216212294, -0.36658611038091915, -0.34460708202475526, -0.32247441609313976, -0.30019798008244497, -0.2777877055866442, -0.25525358386946356, -0.2326056614099392, -0.20985403542335726, -0.18700884935956583], \"y\": [-0.842234745437765, -0.8569861324803278, -0.871355445913677, -0.8853362794084251, -0.8989223998327726, -0.9121077500314535, -0.9248864515262193, -0.9372528071366656, -0.9492013035202274, -0.9607266136302182, -0.9718235990908064, -0.9824873124878797, -0.9927129995747688, -1.002496101391855, -1.011832256299109, -1.0207173019206568, -1.0291472770005106, -1.0371184231686315, -1.0446271866165382, -1.051670219681716, -1.058244382340119, -1.0643467436060994, -1.0699745828391416, -1.0751253909568153, -1.0797968715534105, -1.0839869419237538]}, {\"hoverinfo\": \"text\", \"line\": {\"color\": \"#e2ecde\", \"shape\": \"spline\", \"width\": 0.25}, \"mode\": \"lines\", \"text\": \"Microstrategy<br>498\", \"type\": \"scatter\", \"x\": [-0.152867719104729, -0.13718178460286332, -0.12146746126804006, -0.10572800107209607, -0.08996666118877279], \"y\": [-1.0893261497162905, -1.0914124600595203, -1.0932729100517846, -1.0949071146856701, -1.0963147357736942]}, {\"hoverinfo\": \"text\", \"line\": {\"color\": \"#d4e5d6\", \"shape\": \"spline\", \"width\": 0.25}, \"mode\": \"lines\", \"text\": \"Oracle BI<br>3822\", \"type\": \"scatter\", \"x\": [-0.05548619003319026, -0.03239392906150404, -0.00928736911900569, 0.013823290351515404, 0.036927848097701395, 0.060016105560550294, 0.08307787137615234, 0.1061029658742455, 0.12908122557161916, 0.15200250765836276, 0.17485669447499408, 0.1976336979784849, 0.22032346419521356, 0.24291597765887932, 0.26540126583141865, 0.2877694035049734, 0.3100105171829669, 0.332114789438351, 0.3540724632471112, 0.3758738462951014, 0.3975093152563188, 0.41896932004072657, 0.4402443880097493, 0.4613251281575803, 0.4822022352564561, 0.502866493964068, 0.523308782891294, 0.5435200786284659, 0.5634914597283807, 0.583214110644308, 0.6026793256212511, 0.6218785125387458], \"y\": [-1.098599691751095, -1.0995229117030523, -1.0999607923807317, -1.0999131404996751, -1.0993799770938495, -1.0983615375063647, -1.0968582712855877, -1.0948708419867108, -1.0924001268788506, -1.0894472165578144, -1.0860134144647011, -1.0821002363105505, -1.077709409407295, -1.072842871905309, -1.067502771937891, -1.0616914666730595, -1.0554115212730766, -1.048665707762164, -1.0414570038029045, -1.0337885913818776, -1.0256638554050994, -1.017086382203897, -1.0080599579518679, -0.9985885669936304, -0.9886763900860978, -0.9783278025530533, -0.9675473723538464, -0.9563398580670506, -0.9447102067899864, -0.9326635519550279, -0.9202052110636595, -0.907340683339283]}, {\"hoverinfo\": \"text\", \"line\": {\"color\": \"#c6decd\", \"shape\": \"spline\", \"width\": 0.25}, \"mode\": \"lines\", \"text\": \"Python<br>2666\", \"type\": \"scatter\", \"x\": [0.6500719126391137, 0.6687204597582236, 0.687068986990565, 0.7051092623118546, 0.7228331919943183, 0.7402328242379179, 0.7573003527379137, 0.7740281201871394, 0.7904086217114392, 0.8064345082367118, 0.822098589786052, 0.8373938387055226, 0.8523133928170897, 0.8668505584973281, 0.8809988136804949, 0.8947518107846438, 0.9081033795594504, 0.9210475298544801, 0.9335784543066584, 0.945690530945727, 0.9573783257165315, 0.968636594916994], \"y\": [-0.88735928935112, -0.8733916342058414, -0.8590321339250115, -0.844287230865203, -0.8291635402930506, -0.8136678474173328, -0.7978071043447981, -0.7815884269611236, -0.7650190917383847, -0.7481065324704852, -0.730858336938004, -0.7132822435039509, -0.6953861376419734, -0.6771780483985511, -0.658666144790789, -0.639858732141401, -0.6207642483525488, -0.601391260120199, -0.5817484590906887, -0.5618446579612458, -0.5416887865261854, -0.5212898876705854]}, {\"hoverinfo\": \"text\", \"line\": {\"color\": \"#b8d7c5\", \"shape\": \"spline\", \"width\": 0.25}, \"mode\": \"lines\", \"text\": \"VBA<br>903\", \"type\": \"scatter\", \"x\": [0.9845327423013444, 0.9999419589033193, 1.0142968930177803, 1.027582409610627, 1.0397845011813671], \"y\": [-0.4906070518618692, -0.4583842043794623, -0.42567806240688283, -0.3925231094583067, -0.3589543022489298]}, {\"hoverinfo\": \"text\", \"line\": {\"color\": \"#aad0bc\", \"shape\": \"spline\", \"width\": 0.25}, \"mode\": \"lines\", \"text\": \"Linux<br>965\", \"type\": \"scatter\", \"x\": [1.0505464574053849, 1.0613844389922222, 1.0709044032727886, 1.079094528444148, 1.085944644085179], \"y\": [-0.3261167595095295, -0.28889976231413816, -0.2513240120858983, -0.21343617004130744, -0.17528328494957549]}, {\"hoverinfo\": \"text\", \"line\": {\"color\": \"#9cc9b4\", \"shape\": \"spline\", \"width\": 0.25}, \"mode\": \"lines\", \"text\": \"AWS<br>720\", \"type\": \"scatter\", \"x\": [1.09091457699114, 1.0940205338960847, 1.096480530719469, 1.0982931149659336, 1.0994572164023046], \"y\": [-0.14108644764201345, -0.11453851497957468, -0.08792295350562211, -0.06125547827277942, -0.03455183498594316]}, {\"hoverinfo\": \"text\", \"marker\": {\"color\": \"green\", \"size\": 0.5}, \"mode\": \"markers\", \"text\": \"Power BI appears with Excel 289 times\", \"type\": \"scatter\", \"x\": [0.8660128659186355], \"y\": [0.24499329799688702]}, {\"hoverinfo\": \"text\", \"marker\": {\"color\": \"blue\", \"size\": 0.5}, \"mode\": \"markers\", \"text\": \"Excel appears with Power BI 289 times\", \"type\": \"scatter\", \"x\": [0.7621295724155189], \"y\": [0.478705039507355]}, {\"hoverinfo\": \"text\", \"marker\": {\"color\": \"green\", \"size\": 0.5}, \"mode\": \"markers\", \"text\": \"Power BI appears with SSIS/SSRS 179 times\", \"type\": \"scatter\", \"x\": [0.8936981014192233], \"y\": [0.10631887659148603]}, {\"hoverinfo\": \"text\", \"marker\": {\"color\": \"blue\", \"size\": 0.5}, \"mode\": \"markers\", \"text\": \"SSIS/SSRS appears with Power BI 179 times\", \"type\": \"scatter\", \"x\": [0.12475881568148513], \"y\": [0.8913109658866277]}, {\"hoverinfo\": \"text\", \"marker\": {\"color\": \"green\", \"size\": 0.5}, \"mode\": \"markers\", \"text\": \"Power BI appears with MS SQL Server 171 times\", \"type\": \"scatter\", \"x\": [0.8963477590082988], \"y\": [0.08099811677317457]}, {\"hoverinfo\": \"text\", \"marker\": {\"color\": \"blue\", \"size\": 0.5}, \"mode\": \"markers\", \"text\": \"MS SQL Server appears with Power BI 171 times\", \"type\": \"scatter\", \"x\": [-0.3511814181545518], \"y\": [0.8286565099864707]}, {\"hoverinfo\": \"text\", \"marker\": {\"color\": \"green\", \"size\": 0.5}, \"mode\": \"markers\", \"text\": \"Power BI appears with MySQL/MariaDB 5 times\", \"type\": \"scatter\", \"x\": [0.8999999265073945], \"y\": [0.0003637123650451017]}, {\"hoverinfo\": \"text\", \"marker\": {\"color\": \"blue\", \"size\": 0.5}, \"mode\": \"markers\", \"text\": \"MySQL/MariaDB appears with Power BI 5 times\", \"type\": \"scatter\", \"x\": [-0.6108593328701261], \"y\": [0.6609469535790785]}, {\"hoverinfo\": \"text\", \"marker\": {\"color\": \"green\", \"size\": 0.5}, \"mode\": \"markers\", \"text\": \"Power BI appears with T-SQL 78 times\", \"type\": \"scatter\", \"x\": [0.8988482461923466], \"y\": [0.045517362807425875]}, {\"hoverinfo\": \"text\", \"marker\": {\"color\": \"blue\", \"size\": 0.5}, \"mode\": \"markers\", \"text\": \"T-SQL appears with Power BI 78 times\", \"type\": \"scatter\", \"x\": [-0.7632269791591875], \"y\": [0.4769534340829734]}, {\"hoverinfo\": \"text\", \"marker\": {\"color\": \"green\", \"size\": 0.5}, \"mode\": \"markers\", \"text\": \"Power BI appears with PL/SQL 11 times\", \"type\": \"scatter\", \"x\": [0.8999955287135233], \"y\": [0.002836951826479861]}, {\"hoverinfo\": \"text\", \"marker\": {\"color\": \"blue\", \"size\": 0.5}, \"mode\": \"markers\", \"text\": \"PL/SQL appears with Power BI 11 times\", \"type\": \"scatter\", \"x\": [-0.8438876377021817], \"y\": [0.31281568843878566]}, {\"hoverinfo\": \"text\", \"marker\": {\"color\": \"green\", \"size\": 0.5}, \"mode\": \"markers\", \"text\": \"Power BI appears with Pentaho 12 times\", \"type\": \"scatter\", \"x\": [0.8999886998004728], \"y\": [0.004510014573645779]}, {\"hoverinfo\": \"text\", \"marker\": {\"color\": \"blue\", \"size\": 0.5}, \"mode\": \"markers\", \"text\": \"Pentaho appears with Power BI 12 times\", \"type\": \"scatter\", \"x\": [-0.8679963938940328], \"y\": [0.23787025914761836]}, {\"hoverinfo\": \"text\", \"marker\": {\"color\": \"green\", \"size\": 0.5}, \"mode\": \"markers\", \"text\": \"Power BI appears with Hadoop 54 times\", \"type\": \"scatter\", \"x\": [0.8995932226116073], \"y\": [0.027056123729447025]}, {\"hoverinfo\": \"text\", \"marker\": {\"color\": \"blue\", \"size\": 0.5}, \"mode\": \"markers\", \"text\": \"Hadoop appears with Power BI 54 times\", \"type\": \"scatter\", \"x\": [-0.8919743642235504], \"y\": [0.11992386571484895]}, {\"hoverinfo\": \"text\", \"marker\": {\"color\": \"green\", \"size\": 0.5}, \"mode\": \"markers\", \"text\": \"Power BI appears with Spark 61 times\", \"type\": \"scatter\", \"x\": [0.899302883293775], \"y\": [0.03541643826675674]}, {\"hoverinfo\": \"text\", \"marker\": {\"color\": \"blue\", \"size\": 0.5}, \"mode\": \"markers\", \"text\": \"Spark appears with Power BI 61 times\", \"type\": \"scatter\", \"x\": [-0.8935184683312779], \"y\": [-0.10781811884338927]}, {\"hoverinfo\": \"text\", \"marker\": {\"color\": \"green\", \"size\": 0.5}, \"mode\": \"markers\", \"text\": \"Power BI appears with Informatica 26 times\", \"type\": \"scatter\", \"x\": [0.8999518363149962], \"y\": [0.009310870703987555]}, {\"hoverinfo\": \"text\", \"marker\": {\"color\": \"blue\", \"size\": 0.5}, \"mode\": \"markers\", \"text\": \"Informatica appears with Power BI 26 times\", \"type\": \"scatter\", \"x\": [-0.8483970008651861], \"y\": [-0.3003706525660545]}, {\"hoverinfo\": \"text\", \"marker\": {\"color\": \"green\", \"size\": 0.5}, \"mode\": \"markers\", \"text\": \"Power BI appears with Qlik 231 times\", \"type\": \"scatter\", \"x\": [0.8896848667262167], \"y\": [0.13587066614377877]}, {\"hoverinfo\": \"text\", \"marker\": {\"color\": \"blue\", \"size\": 0.5}, \"mode\": \"markers\", \"text\": \"Qlik appears with Power BI 231 times\", \"type\": \"scatter\", \"x\": [-0.7393045114747315], \"y\": [-0.51325319220937]}, {\"hoverinfo\": \"text\", \"marker\": {\"color\": \"green\", \"size\": 0.5}, \"mode\": \"markers\", \"text\": \"Power BI appears with Tableau 265 times\", \"type\": \"scatter\", \"x\": [0.8761112484502942], \"y\": [0.20598320402126702]}, {\"hoverinfo\": \"text\", \"marker\": {\"color\": \"blue\", \"size\": 0.5}, \"mode\": \"markers\", \"text\": \"Tableau appears with Power BI 265 times\", \"type\": \"scatter\", \"x\": [-0.3877363341453977], \"y\": [-0.8121948874398855]}, {\"hoverinfo\": \"text\", \"marker\": {\"color\": \"green\", \"size\": 0.5}, \"mode\": \"markers\", \"text\": \"Power BI appears with Microstrategy 38 times\", \"type\": \"scatter\", \"x\": [0.8998916329169472], \"y\": [0.013965994632339987]}, {\"hoverinfo\": \"text\", \"marker\": {\"color\": \"blue\", \"size\": 0.5}, \"mode\": \"markers\", \"text\": \"Microstrategy appears with Power BI 38 times\", \"type\": \"scatter\", \"x\": [-0.10671736252203512], \"y\": [-0.8936506054025479]}, {\"hoverinfo\": \"text\", \"marker\": {\"color\": \"green\", \"size\": 0.5}, \"mode\": \"markers\", \"text\": \"Power BI appears with Oracle BI 243 times\", \"type\": \"scatter\", \"x\": [0.8838279626876956], \"y\": [0.1698473796421877]}, {\"hoverinfo\": \"text\", \"marker\": {\"color\": \"blue\", \"size\": 0.5}, \"mode\": \"markers\", \"text\": \"Oracle BI appears with Power BI 243 times\", \"type\": \"scatter\", \"x\": [0.1979604204431456], \"y\": [-0.8779588099324325]}, {\"hoverinfo\": \"text\", \"marker\": {\"color\": \"green\", \"size\": 0.5}, \"mode\": \"markers\", \"text\": \"Power BI appears with Python 120 times\", \"type\": \"scatter\", \"x\": [0.8980047490238101], \"y\": [0.059895498417525325]}, {\"hoverinfo\": \"text\", \"marker\": {\"color\": \"blue\", \"size\": 0.5}, \"mode\": \"markers\", \"text\": \"Python appears with Power BI 120 times\", \"type\": \"scatter\", \"x\": [0.5888228771113854], \"y\": [-0.680652348405756]}, {\"hoverinfo\": \"text\", \"marker\": {\"color\": \"green\", \"size\": 0.5}, \"mode\": \"markers\", \"text\": \"Power BI appears with VBA 44 times\", \"type\": \"scatter\", \"x\": [0.8997793077830403], \"y\": [0.019929808967297128]}, {\"hoverinfo\": \"text\", \"marker\": {\"color\": \"blue\", \"size\": 0.5}, \"mode\": \"markers\", \"text\": \"VBA appears with Power BI 44 times\", \"type\": \"scatter\", \"x\": [0.815703299498383], \"y\": [-0.38030004889225466]}, {\"hoverinfo\": \"text\", \"marker\": {\"color\": \"green\", \"size\": 0.5}, \"mode\": \"markers\", \"text\": \"Power BI appears with Linux 14 times\", \"type\": \"scatter\", \"x\": [0.8999772350261844], \"y\": [0.006401283826244855]}, {\"hoverinfo\": \"text\", \"marker\": {\"color\": \"blue\", \"size\": 0.5}, \"mode\": \"markers\", \"text\": \"Linux appears with Power BI 14 times\", \"type\": \"scatter\", \"x\": [0.860737463606081], \"y\": [-0.2629277823756371]}, {\"hoverinfo\": \"text\", \"marker\": {\"color\": \"green\", \"size\": 0.5}, \"mode\": \"markers\", \"text\": \"Power BI appears with AWS 9 times\", \"type\": \"scatter\", \"x\": [0.8999989387669708], \"y\": [0.001382106481555426]}, {\"hoverinfo\": \"text\", \"marker\": {\"color\": \"blue\", \"size\": 0.5}, \"mode\": \"markers\", \"text\": \"AWS appears with Power BI 9 times\", \"type\": \"scatter\", \"x\": [0.8928519818499415], \"y\": [-0.11320485195711227]}, {\"hoverinfo\": \"text\", \"marker\": {\"color\": \"green\", \"size\": 0.5}, \"mode\": \"markers\", \"text\": \"Excel appears with SSIS/SSRS 724 times\", \"type\": \"scatter\", \"x\": [0.47200616894026964], \"y\": [0.7662964024986217]}, {\"hoverinfo\": \"text\", \"marker\": {\"color\": \"blue\", \"size\": 0.5}, \"mode\": \"markers\", \"text\": \"SSIS/SSRS appears with Excel 724 times\", \"type\": \"scatter\", \"x\": [-0.11676947476277888], \"y\": [0.8923927889464508]}, {\"hoverinfo\": \"text\", \"marker\": {\"color\": \"green\", \"size\": 0.5}, \"mode\": \"markers\", \"text\": \"Excel appears with MS SQL Server 295 times\", \"type\": \"scatter\", \"x\": [0.737061448291849], \"y\": [0.5164691873112296]}, {\"hoverinfo\": \"text\", \"marker\": {\"color\": \"blue\", \"size\": 0.5}, \"mode\": \"markers\", \"text\": \"MS SQL Server appears with Excel 295 times\", \"type\": \"scatter\", \"x\": [-0.4405663528507375], \"y\": [0.7847937873962813]}, {\"hoverinfo\": \"text\", \"marker\": {\"color\": \"green\", \"size\": 0.5}, \"mode\": \"markers\", \"text\": \"Excel appears with PostgreSQL 81 times\", \"type\": \"scatter\", \"x\": [0.834388487517992], \"y\": [0.3373364076073582]}, {\"hoverinfo\": \"text\", \"marker\": {\"color\": \"blue\", \"size\": 0.5}, \"mode\": \"markers\", \"text\": \"PostgreSQL appears with Excel 81 times\", \"type\": \"scatter\", \"x\": [-0.5639621305316918], \"y\": [0.7013891325977007]}, {\"hoverinfo\": \"text\", \"marker\": {\"color\": \"green\", \"size\": 0.5}, \"mode\": \"markers\", \"text\": \"Excel appears with MySQL/MariaDB 155 times\", \"type\": \"scatter\", \"x\": [0.794999723591051], \"y\": [0.421871354194798]}, {\"hoverinfo\": \"text\", \"marker\": {\"color\": \"blue\", \"size\": 0.5}, \"mode\": \"markers\", \"text\": \"MySQL/MariaDB appears with Excel 155 times\", \"type\": \"scatter\", \"x\": [-0.6958346345143431], \"y\": [0.5708013326984184]}, {\"hoverinfo\": \"text\", \"marker\": {\"color\": \"green\", \"size\": 0.5}, \"mode\": \"markers\", \"text\": \"Excel appears with T-SQL 201 times\", \"type\": \"scatter\", \"x\": [0.7816738158662506], \"y\": [0.44607851953338334]}, {\"hoverinfo\": \"text\", \"marker\": {\"color\": \"blue\", \"size\": 0.5}, \"mode\": \"markers\", \"text\": \"T-SQL appears with Excel 201 times\", \"type\": \"scatter\", \"x\": [-0.8130018969395968], \"y\": [0.38604133920166794]}, {\"hoverinfo\": \"text\", \"marker\": {\"color\": \"green\", \"size\": 0.5}, \"mode\": \"markers\", \"text\": \"Excel appears with PL/SQL 71 times\", \"type\": \"scatter\", \"x\": [0.8429454241700116], \"y\": [0.31534586071619697]}, {\"hoverinfo\": \"text\", \"marker\": {\"color\": \"blue\", \"size\": 0.5}, \"mode\": \"markers\", \"text\": \"PL/SQL appears with Excel 71 times\", \"type\": \"scatter\", \"x\": [-0.851859931341539], \"y\": [0.29040429985588767]}, {\"hoverinfo\": \"text\", \"marker\": {\"color\": \"green\", \"size\": 0.5}, \"mode\": \"markers\", \"text\": \"Excel appears with Pentaho 68 times\", \"type\": \"scatter\", \"x\": [0.8466652654251076], \"y\": [0.30521783749091774]}, {\"hoverinfo\": \"text\", \"marker\": {\"color\": \"blue\", \"size\": 0.5}, \"mode\": \"markers\", \"text\": \"Pentaho appears with Excel 68 times\", \"type\": \"scatter\", \"x\": [-0.8813381653450323], \"y\": [0.1823267350287733]}, {\"hoverinfo\": \"text\", \"marker\": {\"color\": \"green\", \"size\": 0.5}, \"mode\": \"markers\", \"text\": \"Excel appears with Hadoop 128 times\", \"type\": \"scatter\", \"x\": [0.8050589896929238], \"y\": [0.4023431658604491]}, {\"hoverinfo\": \"text\", \"marker\": {\"color\": \"blue\", \"size\": 0.5}, \"mode\": \"markers\", \"text\": \"Hadoop appears with Excel 128 times\", \"type\": \"scatter\", \"x\": [-0.8985178580099513], \"y\": [0.051630018760495756]}, {\"hoverinfo\": \"text\", \"marker\": {\"color\": \"green\", \"size\": 0.5}, \"mode\": \"markers\", \"text\": \"Excel appears with Spark 126 times\", \"type\": \"scatter\", \"x\": [0.8136792210958768], \"y\": [0.3846116549934588]}, {\"hoverinfo\": \"text\", \"marker\": {\"color\": \"blue\", \"size\": 0.5}, \"mode\": \"markers\", \"text\": \"Spark appears with Excel 126 times\", \"type\": \"scatter\", \"x\": [-0.8816373548517861], \"y\": [-0.18087447174752413]}, {\"hoverinfo\": \"text\", \"marker\": {\"color\": \"green\", \"size\": 0.5}, \"mode\": \"markers\", \"text\": \"Excel appears with Informatica 125 times\", \"type\": \"scatter\", \"x\": [0.8218140644202053], \"y\": [0.3669082222043309]}, {\"hoverinfo\": \"text\", \"marker\": {\"color\": \"blue\", \"size\": 0.5}, \"mode\": \"markers\", \"text\": \"Informatica appears with Excel 125 times\", \"type\": \"scatter\", \"x\": [-0.821608051362477], \"y\": [-0.3673693100088158]}, {\"hoverinfo\": \"text\", \"marker\": {\"color\": \"green\", \"size\": 0.5}, \"mode\": \"markers\", \"text\": \"Excel appears with Qlik 492 times\", \"type\": \"scatter\", \"x\": [0.6147860625510656], \"y\": [0.6572960499599533]}, {\"hoverinfo\": \"text\", \"marker\": {\"color\": \"blue\", \"size\": 0.5}, \"mode\": \"markers\", \"text\": \"Qlik appears with Excel 492 times\", \"type\": \"scatter\", \"x\": [-0.6268702113264312], \"y\": [-0.6457814941228616]}, {\"hoverinfo\": \"text\", \"marker\": {\"color\": \"green\", \"size\": 0.5}, \"mode\": \"markers\", \"text\": \"Excel appears with Tableau 551 times\", \"type\": \"scatter\", \"x\": [0.5532519541075885], \"y\": [0.7098677871802148]}, {\"hoverinfo\": \"text\", \"marker\": {\"color\": \"blue\", \"size\": 0.5}, \"mode\": \"markers\", \"text\": \"Tableau appears with Excel 551 times\", \"type\": \"scatter\", \"x\": [-0.19402265068895472], \"y\": [-0.8788374201293616]}, {\"hoverinfo\": \"text\", \"marker\": {\"color\": \"green\", \"size\": 0.5}, \"mode\": \"markers\", \"text\": \"Excel appears with Microstrategy 56 times\", \"type\": \"scatter\", \"x\": [0.8498810056315649], \"y\": [0.2961457010774934]}, {\"hoverinfo\": \"text\", \"marker\": {\"color\": \"blue\", \"size\": 0.5}, \"mode\": \"markers\", \"text\": \"Microstrategy appears with Excel 56 times\", \"type\": \"scatter\", \"x\": [-0.09204088536449488], \"y\": [-0.8952812270015048]}, {\"hoverinfo\": \"text\", \"marker\": {\"color\": \"green\", \"size\": 0.5}, \"mode\": \"markers\", \"text\": \"Excel appears with Oracle BI 768 times\", \"type\": \"scatter\", \"x\": [0.3697671651084143], \"y\": [0.8205316834880214]}, {\"hoverinfo\": \"text\", \"marker\": {\"color\": \"blue\", \"size\": 0.5}, \"mode\": \"markers\", \"text\": \"Oracle BI appears with Excel 768 times\", \"type\": \"scatter\", \"x\": [0.4591760722554341], \"y\": [-0.7740525399920036]}, {\"hoverinfo\": \"text\", \"marker\": {\"color\": \"green\", \"size\": 0.5}, \"mode\": \"markers\", \"text\": \"Excel appears with Python 491 times\", \"type\": \"scatter\", \"x\": [0.6682377376853035], \"y\": [0.6028750500171886]}, {\"hoverinfo\": \"text\", \"marker\": {\"color\": \"blue\", \"size\": 0.5}, \"mode\": \"markers\", \"text\": \"Python appears with Excel 491 times\", \"type\": \"scatter\", \"x\": [0.7743906684893149], \"y\": [-0.4586055958627979]}, {\"hoverinfo\": \"text\", \"marker\": {\"color\": \"green\", \"size\": 0.5}, \"mode\": \"markers\", \"text\": \"Excel appears with VBA 319 times\", \"type\": \"scatter\", \"x\": [0.7086907608854639], \"y\": [0.5547588714347724]}, {\"hoverinfo\": \"text\", \"marker\": {\"color\": \"blue\", \"size\": 0.5}, \"mode\": \"markers\", \"text\": \"VBA appears with Excel 319 times\", \"type\": \"scatter\", \"x\": [0.8437714601236252], \"y\": [-0.3131289240566025]}, {\"hoverinfo\": \"text\", \"marker\": {\"color\": \"green\", \"size\": 0.5}, \"mode\": \"markers\", \"text\": \"Excel appears with Linux 104 times\", \"type\": \"scatter\", \"x\": [0.8289000182598969], \"y\": [0.3506062745142231]}, {\"hoverinfo\": \"text\", \"marker\": {\"color\": \"blue\", \"size\": 0.5}, \"mode\": \"markers\", \"text\": \"Linux appears with Excel 104 times\", \"type\": \"scatter\", \"x\": [0.8766578460396826], \"y\": [-0.2036443492392169]}, {\"hoverinfo\": \"text\", \"marker\": {\"color\": \"green\", \"size\": 0.5}, \"mode\": \"markers\", \"text\": \"Excel appears with AWS 76 times\", \"type\": \"scatter\", \"x\": [0.8388796941843693], \"y\": [0.32600745188590263]}, {\"hoverinfo\": \"text\", \"marker\": {\"color\": \"blue\", \"size\": 0.5}, \"mode\": \"markers\", \"text\": \"AWS appears with Excel 76 times\", \"type\": \"scatter\", \"x\": [0.8969928049746096], \"y\": [-0.07351127684771891]}, {\"hoverinfo\": \"text\", \"marker\": {\"color\": \"green\", \"size\": 0.5}, \"mode\": \"markers\", \"text\": \"SSIS/SSRS appears with MS SQL Server 313 times\", \"type\": \"scatter\", \"x\": [0.017253299279197776], \"y\": [0.899834609061011]}, {\"hoverinfo\": \"text\", \"marker\": {\"color\": \"blue\", \"size\": 0.5}, \"mode\": \"markers\", \"text\": \"MS SQL Server appears with SSIS/SSRS 313 times\", \"type\": \"scatter\", \"x\": [-0.47923765687482844], \"y\": [0.7617947677905935]}, {\"hoverinfo\": \"text\", \"marker\": {\"color\": \"green\", \"size\": 0.5}, \"mode\": \"markers\", \"text\": \"SSIS/SSRS appears with PostgreSQL 66 times\", \"type\": \"scatter\", \"x\": [0.26159551478635146], \"y\": [0.8611433020372763]}, {\"hoverinfo\": \"text\", \"marker\": {\"color\": \"blue\", \"size\": 0.5}, \"mode\": \"markers\", \"text\": \"PostgreSQL appears with SSIS/SSRS 66 times\", \"type\": \"scatter\", \"x\": [-0.5570069692597496], \"y\": [0.7069251984446929]}, {\"hoverinfo\": \"text\", \"marker\": {\"color\": \"green\", \"size\": 0.5}, \"mode\": \"markers\", \"text\": \"SSIS/SSRS appears with MySQL/MariaDB 91 times\", \"type\": \"scatter\", \"x\": [0.20547667235586836], \"y\": [0.87623018500709]}, {\"hoverinfo\": \"text\", \"marker\": {\"color\": \"blue\", \"size\": 0.5}, \"mode\": \"markers\", \"text\": \"MySQL/MariaDB appears with SSIS/SSRS 91 times\", \"type\": \"scatter\", \"x\": [-0.6643466668200214], \"y\": [0.6071601982056526]}, {\"hoverinfo\": \"text\", \"marker\": {\"color\": \"green\", \"size\": 0.5}, \"mode\": \"markers\", \"text\": \"SSIS/SSRS appears with T-SQL 178 times\", \"type\": \"scatter\", \"x\": [0.1514899009830226], \"y\": [0.8871588414146331]}, {\"hoverinfo\": \"text\", \"marker\": {\"color\": \"blue\", \"size\": 0.5}, \"mode\": \"markers\", \"text\": \"T-SQL appears with SSIS/SSRS 178 times\", \"type\": \"scatter\", \"x\": [-0.7883405943491848], \"y\": [0.43418787097427547]}, {\"hoverinfo\": \"text\", \"marker\": {\"color\": \"green\", \"size\": 0.5}, \"mode\": \"markers\", \"text\": \"SSIS/SSRS appears with PL/SQL 76 times\", \"type\": \"scatter\", \"x\": [0.22996023157584033], \"y\": [0.8701254460671668]}, {\"hoverinfo\": \"text\", \"marker\": {\"color\": \"blue\", \"size\": 0.5}, \"mode\": \"markers\", \"text\": \"PL/SQL appears with SSIS/SSRS 76 times\", \"type\": \"scatter\", \"x\": [-0.8543033676237812], \"y\": [0.2831355789487901]}, {\"hoverinfo\": \"text\", \"marker\": {\"color\": \"green\", \"size\": 0.5}, \"mode\": \"markers\", \"text\": \"SSIS/SSRS appears with Pentaho 39 times\", \"type\": \"scatter\", \"x\": [0.28146279282753256], \"y\": [0.8548559505868375]}, {\"hoverinfo\": \"text\", \"marker\": {\"color\": \"blue\", \"size\": 0.5}, \"mode\": \"markers\", \"text\": \"Pentaho appears with SSIS/SSRS 39 times\", \"type\": \"scatter\", \"x\": [-0.872528148849103], \"y\": [0.22066859646528203]}, {\"hoverinfo\": \"text\", \"marker\": {\"color\": \"green\", \"size\": 0.5}, \"mode\": \"markers\", \"text\": \"SSIS/SSRS appears with Hadoop 76 times\", \"type\": \"scatter\", \"x\": [0.2410769776077707], \"y\": [0.8671112332725845]}, {\"hoverinfo\": \"text\", \"marker\": {\"color\": \"blue\", \"size\": 0.5}, \"mode\": \"markers\", \"text\": \"Hadoop appears with SSIS/SSRS 76 times\", \"type\": \"scatter\", \"x\": [-0.8940861757823642], \"y\": [0.10300441871525519]}, {\"hoverinfo\": \"text\", \"marker\": {\"color\": \"green\", \"size\": 0.5}, \"mode\": \"markers\", \"text\": \"SSIS/SSRS appears with Spark 70 times\", \"type\": \"scatter\", \"x\": [0.2517177491086334], \"y\": [0.8640822731567191]}, {\"hoverinfo\": \"text\", \"marker\": {\"color\": \"blue\", \"size\": 0.5}, \"mode\": \"markers\", \"text\": \"Spark appears with SSIS/SSRS 70 times\", \"type\": \"scatter\", \"x\": [-0.8910902366689332], \"y\": [-0.1263257302108511]}, {\"hoverinfo\": \"text\", \"marker\": {\"color\": \"green\", \"size\": 0.5}, \"mode\": \"markers\", \"text\": \"SSIS/SSRS appears with Informatica 83 times\", \"type\": \"scatter\", \"x\": [0.21829125384740075], \"y\": [0.8731259522507218]}, {\"hoverinfo\": \"text\", \"marker\": {\"color\": \"blue\", \"size\": 0.5}, \"mode\": \"markers\", \"text\": \"Informatica appears with SSIS/SSRS 83 times\", \"type\": \"scatter\", \"x\": [-0.8361165085347889], \"y\": [-0.3330303051609482]}, {\"hoverinfo\": \"text\", \"marker\": {\"color\": \"green\", \"size\": 0.5}, \"mode\": \"markers\", \"text\": \"SSIS/SSRS appears with Qlik 114 times\", \"type\": \"scatter\", \"x\": [0.19032265646499996], \"y\": [0.8796461143187673]}, {\"hoverinfo\": \"text\", \"marker\": {\"color\": \"blue\", \"size\": 0.5}, \"mode\": \"markers\", \"text\": \"Qlik appears with SSIS/SSRS 114 times\", \"type\": \"scatter\", \"x\": [-0.753548207833565], \"y\": [-0.49210273162300405]}, {\"hoverinfo\": \"text\", \"marker\": {\"color\": \"green\", \"size\": 0.5}, \"mode\": \"markers\", \"text\": \"SSIS/SSRS appears with Tableau 239 times\", \"type\": \"scatter\", \"x\": [0.05904124206375669], \"y\": [0.8980613184719454]}, {\"hoverinfo\": \"text\", \"marker\": {\"color\": \"blue\", \"size\": 0.5}, \"mode\": \"markers\", \"text\": \"Tableau appears with SSIS/SSRS 239 times\", \"type\": \"scatter\", \"x\": [-0.4218834669902552], \"y\": [-0.7949932957454938]}, {\"hoverinfo\": \"text\", \"marker\": {\"color\": \"green\", \"size\": 0.5}, \"mode\": \"markers\", \"text\": \"SSIS/SSRS appears with Microstrategy 43 times\", \"type\": \"scatter\", \"x\": [0.2694875531373772], \"y\": [0.8587062703299827]}, {\"hoverinfo\": \"text\", \"marker\": {\"color\": \"blue\", \"size\": 0.5}, \"mode\": \"markers\", \"text\": \"Microstrategy appears with SSIS/SSRS 43 times\", \"type\": \"scatter\", \"x\": [-0.10253422190871578], \"y\": [-0.8941402201766646]}, {\"hoverinfo\": \"text\", \"marker\": {\"color\": \"green\", \"size\": 0.5}, \"mode\": \"markers\", \"text\": \"SSIS/SSRS appears with Oracle BI 368 times\", \"type\": \"scatter\", \"x\": [-0.03434194962954203], \"y\": [0.8993445560493719]}, {\"hoverinfo\": \"text\", \"marker\": {\"color\": \"blue\", \"size\": 0.5}, \"mode\": \"markers\", \"text\": \"Oracle BI appears with SSIS/SSRS 368 times\", \"type\": \"scatter\", \"x\": [0.24337880125597652], \"y\": [-0.8664679792694038]}, {\"hoverinfo\": \"text\", \"marker\": {\"color\": \"green\", \"size\": 0.5}, \"mode\": \"markers\", \"text\": \"SSIS/SSRS appears with Python 227 times\", \"type\": \"scatter\", \"x\": [0.09422312519081505], \"y\": [0.8950541898004143]}, {\"hoverinfo\": \"text\", \"marker\": {\"color\": \"blue\", \"size\": 0.5}, \"mode\": \"markers\", \"text\": \"Python appears with SSIS/SSRS 227 times\", \"type\": \"scatter\", \"x\": [0.6761042448586896], \"y\": [-0.5940396031276545]}, {\"hoverinfo\": \"text\", \"marker\": {\"color\": \"green\", \"size\": 0.5}, \"mode\": \"markers\", \"text\": \"SSIS/SSRS appears with VBA 115 times\", \"type\": \"scatter\", \"x\": [0.17332767476631453], \"y\": [0.8831520351333074]}, {\"hoverinfo\": \"text\", \"marker\": {\"color\": \"blue\", \"size\": 0.5}, \"mode\": \"markers\", \"text\": \"VBA appears with SSIS/SSRS 115 times\", \"type\": \"scatter\", \"x\": [0.8335882025534126], \"y\": [-0.3393091636896516]}, {\"hoverinfo\": \"text\", \"marker\": {\"color\": \"green\", \"size\": 0.5}, \"mode\": \"markers\", \"text\": \"SSIS/SSRS appears with Linux 26 times\", \"type\": \"scatter\", \"x\": [0.2861370417607833], \"y\": [0.8533027559620253]}, {\"hoverinfo\": \"text\", \"marker\": {\"color\": \"blue\", \"size\": 0.5}, \"mode\": \"markers\", \"text\": \"Linux appears with SSIS/SSRS 26 times\", \"type\": \"scatter\", \"x\": [0.8625973650806139], \"y\": [-0.2567601716699499]}, {\"hoverinfo\": \"text\", \"marker\": {\"color\": \"green\", \"size\": 0.5}, \"mode\": \"markers\", \"text\": \"SSIS/SSRS appears with AWS 42 times\", \"type\": \"scatter\", \"x\": [0.275626177159953], \"y\": [0.8567556305412822]}, {\"hoverinfo\": \"text\", \"marker\": {\"color\": \"blue\", \"size\": 0.5}, \"mode\": \"markers\", \"text\": \"AWS appears with SSIS/SSRS 42 times\", \"type\": \"scatter\", \"x\": [0.8951203525346713], \"y\": [-0.09359249156960063]}, {\"hoverinfo\": \"text\", \"marker\": {\"color\": \"green\", \"size\": 0.5}, \"mode\": \"markers\", \"text\": \"MS SQL Server appears with PostgreSQL 108 times\", \"type\": \"scatter\", \"x\": [-0.2752422942000719], \"y\": [0.8568790343353495]}, {\"hoverinfo\": \"text\", \"marker\": {\"color\": \"blue\", \"size\": 0.5}, \"mode\": \"markers\", \"text\": \"PostgreSQL appears with MS SQL Server 108 times\", \"type\": \"scatter\", \"x\": [-0.5728235418079054], \"y\": [0.6941708650978136]}, {\"hoverinfo\": \"text\", \"marker\": {\"color\": \"green\", \"size\": 0.5}, \"mode\": \"markers\", \"text\": \"MS SQL Server appears with MySQL/MariaDB 113 times\", \"type\": \"scatter\", \"x\": [-0.2907686067011953], \"y\": [0.8517356499272798]}, {\"hoverinfo\": \"text\", \"marker\": {\"color\": \"blue\", \"size\": 0.5}, \"mode\": \"markers\", \"text\": \"MySQL/MariaDB appears with MS SQL Server 113 times\", \"type\": \"scatter\", \"x\": [-0.6734149566376186], \"y\": [0.5970865064433747]}, {\"hoverinfo\": \"text\", \"marker\": {\"color\": \"green\", \"size\": 0.5}, \"mode\": \"markers\", \"text\": \"MS SQL Server appears with T-SQL 221 times\", \"type\": \"scatter\", \"x\": [-0.4068789370817979], \"y\": [0.8027761397545311]}, {\"hoverinfo\": \"text\", \"marker\": {\"color\": \"blue\", \"size\": 0.5}, \"mode\": \"markers\", \"text\": \"T-SQL appears with MS SQL Server 221 times\", \"type\": \"scatter\", \"x\": [-0.825479907561806], \"y\": [0.35858460955784505]}, {\"hoverinfo\": \"text\", \"marker\": {\"color\": \"green\", \"size\": 0.5}, \"mode\": \"markers\", \"text\": \"MS SQL Server appears with PL/SQL 14 times\", \"type\": \"scatter\", \"x\": [-0.19959961782974814], \"y\": [0.8775875982272189]}, {\"hoverinfo\": \"text\", \"marker\": {\"color\": \"blue\", \"size\": 0.5}, \"mode\": \"markers\", \"text\": \"PL/SQL appears with MS SQL Server 14 times\", \"type\": \"scatter\", \"x\": [-0.844340041372647], \"y\": [0.31159251360524826]}, {\"hoverinfo\": \"text\", \"marker\": {\"color\": \"green\", \"size\": 0.5}, \"mode\": \"markers\", \"text\": \"MS SQL Server appears with Pentaho 54 times\", \"type\": \"scatter\", \"x\": [-0.2160177151572148], \"y\": [0.8736912193322401]}, {\"hoverinfo\": \"text\", \"marker\": {\"color\": \"blue\", \"size\": 0.5}, \"mode\": \"markers\", \"text\": \"Pentaho appears with MS SQL Server 54 times\", \"type\": \"scatter\", \"x\": [-0.8785165859349734], \"y\": [0.19547022340284595]}, {\"hoverinfo\": \"text\", \"marker\": {\"color\": \"green\", \"size\": 0.5}, \"mode\": \"markers\", \"text\": \"MS SQL Server appears with Hadoop 57 times\", \"type\": \"scatter\", \"x\": [-0.23185932978235624], \"y\": [0.8696213263213343]}, {\"hoverinfo\": \"text\", \"marker\": {\"color\": \"blue\", \"size\": 0.5}, \"mode\": \"markers\", \"text\": \"Hadoop appears with MS SQL Server 57 times\", \"type\": \"scatter\", \"x\": [-0.8929748070356562], \"y\": [0.11223187604077815]}, {\"hoverinfo\": \"text\", \"marker\": {\"color\": \"green\", \"size\": 0.5}, \"mode\": \"markers\", \"text\": \"MS SQL Server appears with Spark 55 times\", \"type\": \"scatter\", \"x\": [-0.22384024268193178], \"y\": [0.8717198780319823]}, {\"hoverinfo\": \"text\", \"marker\": {\"color\": \"blue\", \"size\": 0.5}, \"mode\": \"markers\", \"text\": \"Spark appears with MS SQL Server 55 times\", \"type\": \"scatter\", \"x\": [-0.8944537192332849], \"y\": [-0.09976243857155845]}, {\"hoverinfo\": \"text\", \"marker\": {\"color\": \"green\", \"size\": 0.5}, \"mode\": \"markers\", \"text\": \"MS SQL Server appears with Informatica 78 times\", \"type\": \"scatter\", \"x\": [-0.2621042393753825], \"y\": [0.8609885990542803]}, {\"hoverinfo\": \"text\", \"marker\": {\"color\": \"blue\", \"size\": 0.5}, \"mode\": \"markers\", \"text\": \"Informatica appears with MS SQL Server 78 times\", \"type\": \"scatter\", \"x\": [-0.8399033655134108], \"y\": [-0.32336100043024013]}, {\"hoverinfo\": \"text\", \"marker\": {\"color\": \"green\", \"size\": 0.5}, \"mode\": \"markers\", \"text\": \"MS SQL Server appears with Qlik 77 times\", \"type\": \"scatter\", \"x\": [-0.2511088889743609], \"y\": [0.8642594089034045]}, {\"hoverinfo\": \"text\", \"marker\": {\"color\": \"blue\", \"size\": 0.5}, \"mode\": \"markers\", \"text\": \"Qlik appears with MS SQL Server 77 times\", \"type\": \"scatter\", \"x\": [-0.7754132439422954], \"y\": [-0.45687449164829314]}, {\"hoverinfo\": \"text\", \"marker\": {\"color\": \"green\", \"size\": 0.5}, \"mode\": \"markers\", \"text\": \"MS SQL Server appears with Tableau 153 times\", \"type\": \"scatter\", \"x\": [-0.3289808904511394], \"y\": [0.8377180753200777]}, {\"hoverinfo\": \"text\", \"marker\": {\"color\": \"blue\", \"size\": 0.5}, \"mode\": \"markers\", \"text\": \"Tableau appears with MS SQL Server 153 times\", \"type\": \"scatter\", \"x\": [-0.47475529135711203], \"y\": [-0.7645962420313245]}, {\"hoverinfo\": \"text\", \"marker\": {\"color\": \"green\", \"size\": 0.5}, \"mode\": \"markers\", \"text\": \"MS SQL Server appears with Microstrategy 25 times\", \"type\": \"scatter\", \"x\": [-0.20472006466273157], \"y\": [0.8764072655589336]}, {\"hoverinfo\": \"text\", \"marker\": {\"color\": \"blue\", \"size\": 0.5}, \"mode\": \"markers\", \"text\": \"Microstrategy appears with MS SQL Server 25 times\", \"type\": \"scatter\", \"x\": [-0.11543751824346818], \"y\": [-0.8925660644354506]}, {\"hoverinfo\": \"text\", \"marker\": {\"color\": \"green\", \"size\": 0.5}, \"mode\": \"markers\", \"text\": \"MS SQL Server appears with Oracle BI 219 times\", \"type\": \"scatter\", \"x\": [-0.377572241801244], \"y\": [0.816969523434738]}, {\"hoverinfo\": \"text\", \"marker\": {\"color\": \"blue\", \"size\": 0.5}, \"mode\": \"markers\", \"text\": \"Oracle BI appears with MS SQL Server 219 times\", \"type\": \"scatter\", \"x\": [0.12875209145790117], \"y\": [-0.890742891605213]}, {\"hoverinfo\": \"text\", \"marker\": {\"color\": \"green\", \"size\": 0.5}, \"mode\": \"markers\", \"text\": \"MS SQL Server appears with Python 142 times\", \"type\": \"scatter\", \"x\": [-0.3085639266589062], \"y\": [0.8454515380344619]}, {\"hoverinfo\": \"text\", \"marker\": {\"color\": \"blue\", \"size\": 0.5}, \"mode\": \"markers\", \"text\": \"Python appears with MS SQL Server 142 times\", \"type\": \"scatter\", \"x\": [0.6035580923272512], \"y\": [-0.6676208723416976]}, {\"hoverinfo\": \"text\", \"marker\": {\"color\": \"green\", \"size\": 0.5}, \"mode\": \"markers\", \"text\": \"MS SQL Server appears with VBA 39 times\", \"type\": \"scatter\", \"x\": [-0.20932970304692622], \"y\": [0.8753176997081036]}, {\"hoverinfo\": \"text\", \"marker\": {\"color\": \"blue\", \"size\": 0.5}, \"mode\": \"markers\", \"text\": \"VBA appears with MS SQL Server 39 times\", \"type\": \"scatter\", \"x\": [0.8134186174945334], \"y\": [-0.3851625016967281]}, {\"hoverinfo\": \"text\", \"marker\": {\"color\": \"green\", \"size\": 0.5}, \"mode\": \"markers\", \"text\": \"MS SQL Server appears with Linux 68 times\", \"type\": \"scatter\", \"x\": [-0.24078594807690754], \"y\": [0.8671920936036633]}, {\"hoverinfo\": \"text\", \"marker\": {\"color\": \"blue\", \"size\": 0.5}, \"mode\": \"markers\", \"text\": \"Linux appears with MS SQL Server 68 times\", \"type\": \"scatter\", \"x\": [0.8740304458877158], \"y\": [-0.21464104840715045]}, {\"hoverinfo\": \"text\", \"marker\": {\"color\": \"green\", \"size\": 0.5}, \"mode\": \"markers\", \"text\": \"MS SQL Server appears with AWS 16 times\", \"type\": \"scatter\", \"x\": [-0.20176402712308875], \"y\": [0.8770925135691636]}, {\"hoverinfo\": \"text\", \"marker\": {\"color\": \"blue\", \"size\": 0.5}, \"mode\": \"markers\", \"text\": \"AWS appears with MS SQL Server 16 times\", \"type\": \"scatter\", \"x\": [0.8936318798850775], \"y\": [-0.10687405322650717]}, {\"hoverinfo\": \"text\", \"marker\": {\"color\": \"green\", \"size\": 0.5}, \"mode\": \"markers\", \"text\": \"PostgreSQL appears with MySQL/MariaDB 126 times\", \"type\": \"scatter\", \"x\": [-0.5836666674829333], \"y\": [0.6850789890730609]}, {\"hoverinfo\": \"text\", \"marker\": {\"color\": \"blue\", \"size\": 0.5}, \"mode\": \"markers\", \"text\": \"MySQL/MariaDB appears with PostgreSQL 126 times\", \"type\": \"scatter\", \"x\": [-0.6838446433870152], \"y\": [0.5851123855387834]}, {\"hoverinfo\": \"text\", \"marker\": {\"color\": \"green\", \"size\": 0.5}, \"mode\": \"markers\", \"text\": \"PostgreSQL appears with T-SQL 49 times\", \"type\": \"scatter\", \"x\": [-0.5350404704646073], \"y\": [0.723693094457182]}, {\"hoverinfo\": \"text\", \"marker\": {\"color\": \"blue\", \"size\": 0.5}, \"mode\": \"markers\", \"text\": \"T-SQL appears with PostgreSQL 49 times\", \"type\": \"scatter\", \"x\": [-0.73968471748028], \"y\": [0.5127050991809213]}, {\"hoverinfo\": \"text\", \"marker\": {\"color\": \"green\", \"size\": 0.5}, \"mode\": \"markers\", \"text\": \"PostgreSQL appears with PL/SQL 3 times\", \"type\": \"scatter\", \"x\": [-0.5223166330308779], \"y\": [0.7329292836688184]}, {\"hoverinfo\": \"text\", \"marker\": {\"color\": \"blue\", \"size\": 0.5}, \"mode\": \"markers\", \"text\": \"PL/SQL appears with PostgreSQL 3 times\", \"type\": \"scatter\", \"x\": [-0.842244319327593], \"y\": [0.31721366074051655]}, {\"hoverinfo\": \"text\", \"marker\": {\"color\": \"green\", \"size\": 0.5}, \"mode\": \"markers\", \"text\": \"PostgreSQL appears with Pentaho 55 times\", \"type\": \"scatter\", \"x\": [-0.5452946141727639], \"y\": [0.7159984523406294]}, {\"hoverinfo\": \"text\", \"marker\": {\"color\": \"blue\", \"size\": 0.5}, \"mode\": \"markers\", \"text\": \"Pentaho appears with PostgreSQL 55 times\", \"type\": \"scatter\", \"x\": [-0.8798666918444926], \"y\": [0.18930030264801145]}, {\"hoverinfo\": \"text\", \"marker\": {\"color\": \"green\", \"size\": 0.5}, \"mode\": \"markers\", \"text\": \"PostgreSQL appears with Hadoop 10 times\", \"type\": \"scatter\", \"x\": [-0.5236454387956735], \"y\": [0.7319805013991061]}, {\"hoverinfo\": \"text\", \"marker\": {\"color\": \"blue\", \"size\": 0.5}, \"mode\": \"markers\", \"text\": \"Hadoop appears with PostgreSQL 10 times\", \"type\": \"scatter\", \"x\": [-0.8891348973515419], \"y\": [0.13942429598768985]}, {\"hoverinfo\": \"text\", \"marker\": {\"color\": \"green\", \"size\": 0.5}, \"mode\": \"markers\", \"text\": \"PostgreSQL appears with Spark 20 times\", \"type\": \"scatter\", \"x\": [-0.5279643759874411], \"y\": [0.7288714685650632]}, {\"hoverinfo\": \"text\", \"marker\": {\"color\": \"blue\", \"size\": 0.5}, \"mode\": \"markers\", \"text\": \"Spark appears with PostgreSQL 20 times\", \"type\": \"scatter\", \"x\": [-0.8962287247816462], \"y\": [-0.08230475609747166]}, {\"hoverinfo\": \"text\", \"marker\": {\"color\": \"green\", \"size\": 0.5}, \"mode\": \"markers\", \"text\": \"PostgreSQL appears with Informatica 2 times\", \"type\": \"scatter\", \"x\": [-0.5220703691086355], \"y\": [0.7331047194628971]}, {\"hoverinfo\": \"text\", \"marker\": {\"color\": \"blue\", \"size\": 0.5}, \"mode\": \"markers\", \"text\": \"Informatica appears with PostgreSQL 2 times\", \"type\": \"scatter\", \"x\": [-0.8534785553140496], \"y\": [-0.2856122469696335]}, {\"hoverinfo\": \"text\", \"marker\": {\"color\": \"green\", \"size\": 0.5}, \"mode\": \"markers\", \"text\": \"PostgreSQL appears with Qlik 15 times\", \"type\": \"scatter\", \"x\": [-0.5262488192719559], \"y\": [0.7301110738886736]}, {\"hoverinfo\": \"text\", \"marker\": {\"color\": \"blue\", \"size\": 0.5}, \"mode\": \"markers\", \"text\": \"Qlik appears with PostgreSQL 15 times\", \"type\": \"scatter\", \"x\": [-0.7965634377812223], \"y\": [-0.41891131470773235]}, {\"hoverinfo\": \"text\", \"marker\": {\"color\": \"green\", \"size\": 0.5}, \"mode\": \"markers\", \"text\": \"PostgreSQL appears with Tableau 7 times\", \"type\": \"scatter\", \"x\": [-0.5228089839879945], \"y\": [0.7325781639261718]}, {\"hoverinfo\": \"text\", \"marker\": {\"color\": \"blue\", \"size\": 0.5}, \"mode\": \"markers\", \"text\": \"Tableau appears with PostgreSQL 7 times\", \"type\": \"scatter\", \"x\": [-0.5785056928110084], \"y\": [-0.6894426469150681]}, {\"hoverinfo\": \"text\", \"marker\": {\"color\": \"green\", \"size\": 0.5}, \"mode\": \"markers\", \"text\": \"PostgreSQL appears with Oracle BI 54 times\", \"type\": \"scatter\", \"x\": [-0.5400361253302176], \"y\": [0.7199729045862251]}, {\"hoverinfo\": \"text\", \"marker\": {\"color\": \"blue\", \"size\": 0.5}, \"mode\": \"markers\", \"text\": \"Oracle BI appears with PostgreSQL 54 times\", \"type\": \"scatter\", \"x\": [-0.033446456214053975], \"y\": [-0.8993783044785556]}, {\"hoverinfo\": \"text\", \"marker\": {\"color\": \"green\", \"size\": 0.5}, \"mode\": \"markers\", \"text\": \"PostgreSQL appears with Python 38 times\", \"type\": \"scatter\", \"x\": [-0.5308008653399152], \"y\": [0.7268083938387043]}, {\"hoverinfo\": \"text\", \"marker\": {\"color\": \"blue\", \"size\": 0.5}, \"mode\": \"markers\", \"text\": \"Python appears with PostgreSQL 38 times\", \"type\": \"scatter\", \"x\": [0.5412802348290446], \"y\": [-0.7190380430710286]}, {\"hoverinfo\": \"text\", \"marker\": {\"color\": \"green\", \"size\": 0.5}, \"mode\": \"markers\", \"text\": \"PostgreSQL appears with Linux 62 times\", \"type\": \"scatter\", \"x\": [-0.5509064912992893], \"y\": [0.7116895656424269]}, {\"hoverinfo\": \"text\", \"marker\": {\"color\": \"blue\", \"size\": 0.5}, \"mode\": \"markers\", \"text\": \"Linux appears with PostgreSQL 62 times\", \"type\": \"scatter\", \"x\": [0.8697633065360075], \"y\": [-0.23132615633246262]}, {\"hoverinfo\": \"text\", \"marker\": {\"color\": \"green\", \"size\": 0.5}, \"mode\": \"markers\", \"text\": \"PostgreSQL appears with AWS 14 times\", \"type\": \"scatter\", \"x\": [-0.5248251527660398], \"y\": [0.7311351168040713]}, {\"hoverinfo\": \"text\", \"marker\": {\"color\": \"blue\", \"size\": 0.5}, \"mode\": \"markers\", \"text\": \"AWS appears with PostgreSQL 14 times\", \"type\": \"scatter\", \"x\": [0.8931917179159277], \"y\": [-0.11049233026049352]}, {\"hoverinfo\": \"text\", \"marker\": {\"color\": \"green\", \"size\": 0.5}, \"mode\": \"markers\", \"text\": \"MySQL/MariaDB appears with T-SQL 47 times\", \"type\": \"scatter\", \"x\": [-0.6233366735915113], \"y\": [0.6491928768523803]}, {\"hoverinfo\": \"text\", \"marker\": {\"color\": \"blue\", \"size\": 0.5}, \"mode\": \"markers\", \"text\": \"T-SQL appears with MySQL/MariaDB 47 times\", \"type\": \"scatter\", \"x\": [-0.7318650149252751], \"y\": [0.5238068345568114]}, {\"hoverinfo\": \"text\", \"marker\": {\"color\": \"green\", \"size\": 0.5}, \"mode\": \"markers\", \"text\": \"MySQL/MariaDB appears with PL/SQL 1 times\", \"type\": \"scatter\", \"x\": [-0.6105665077887337], \"y\": [0.6612174676811482]}, {\"hoverinfo\": \"text\", \"marker\": {\"color\": \"blue\", \"size\": 0.5}, \"mode\": \"markers\", \"text\": \"PL/SQL appears with MySQL/MariaDB 1 times\", \"type\": \"scatter\", \"x\": [-0.842060312750586], \"y\": [0.3177017936530818]}, {\"hoverinfo\": \"text\", \"marker\": {\"color\": \"green\", \"size\": 0.5}, \"mode\": \"markers\", \"text\": \"MySQL/MariaDB appears with Pentaho 73 times\", \"type\": \"scatter\", \"x\": [-0.6353055772061112], \"y\": [0.6374847634028674]}, {\"hoverinfo\": \"text\", \"marker\": {\"color\": \"blue\", \"size\": 0.5}, \"mode\": \"markers\", \"text\": \"Pentaho appears with MySQL/MariaDB 73 times\", \"type\": \"scatter\", \"x\": [-0.8829569773272414], \"y\": [0.17431860540155017]}, {\"hoverinfo\": \"text\", \"marker\": {\"color\": \"green\", \"size\": 0.5}, \"mode\": \"markers\", \"text\": \"MySQL/MariaDB appears with Hadoop 16 times\", \"type\": \"scatter\", \"x\": [-0.6146065960962066], \"y\": [0.6574638636723955]}, {\"hoverinfo\": \"text\", \"marker\": {\"color\": \"blue\", \"size\": 0.5}, \"mode\": \"markers\", \"text\": \"Hadoop appears with MySQL/MariaDB 16 times\", \"type\": \"scatter\", \"x\": [-0.8902727962649293], \"y\": [0.13196343520317957]}, {\"hoverinfo\": \"text\", \"marker\": {\"color\": \"green\", \"size\": 0.5}, \"mode\": \"markers\", \"text\": \"MySQL/MariaDB appears with Spark 41 times\", \"type\": \"scatter\", \"x\": [-0.6191060213212128], \"y\": [0.6532286998929379]}, {\"hoverinfo\": \"text\", \"marker\": {\"color\": \"blue\", \"size\": 0.5}, \"mode\": \"markers\", \"text\": \"Spark appears with MySQL/MariaDB 41 times\", \"type\": \"scatter\", \"x\": [-0.8958286639813711], \"y\": [-0.08655059092433619]}, {\"hoverinfo\": \"text\", \"marker\": {\"color\": \"green\", \"size\": 0.5}, \"mode\": \"markers\", \"text\": \"MySQL/MariaDB appears with Informatica 11 times\", \"type\": \"scatter\", \"x\": [-0.6122242642734975], \"y\": [0.6596828406399357]}, {\"hoverinfo\": \"text\", \"marker\": {\"color\": \"blue\", \"size\": 0.5}, \"mode\": \"markers\", \"text\": \"Informatica appears with MySQL/MariaDB 11 times\", \"type\": \"scatter\", \"x\": [-0.8529654659396427], \"y\": [-0.2871409304059042]}, {\"hoverinfo\": \"text\", \"marker\": {\"color\": \"green\", \"size\": 0.5}, \"mode\": \"markers\", \"text\": \"MySQL/MariaDB appears with Qlik 18 times\", \"type\": \"scatter\", \"x\": [-0.6162549181717137], \"y\": [0.6559191076872014]}, {\"hoverinfo\": \"text\", \"marker\": {\"color\": \"blue\", \"size\": 0.5}, \"mode\": \"markers\", \"text\": \"Qlik appears with MySQL/MariaDB 18 times\", \"type\": \"scatter\", \"x\": [-0.7932010259336036], \"y\": [-0.42524361542282874]}, {\"hoverinfo\": \"text\", \"marker\": {\"color\": \"green\", \"size\": 0.5}, \"mode\": \"markers\", \"text\": \"MySQL/MariaDB appears with Tableau 73 times\", \"type\": \"scatter\", \"x\": [-0.6421396089528879], \"y\": [0.6306002875148664]}, {\"hoverinfo\": \"text\", \"marker\": {\"color\": \"blue\", \"size\": 0.5}, \"mode\": \"markers\", \"text\": \"Tableau appears with MySQL/MariaDB 73 times\", \"type\": \"scatter\", \"x\": [-0.5484597783738958], \"y\": [-0.7135768154207767]}, {\"hoverinfo\": \"text\", \"marker\": {\"color\": \"green\", \"size\": 0.5}, \"mode\": \"markers\", \"text\": \"MySQL/MariaDB appears with Oracle BI 84 times\", \"type\": \"scatter\", \"x\": [-0.6564473473838403], \"y\": [0.6156921959166933]}, {\"hoverinfo\": \"text\", \"marker\": {\"color\": \"blue\", \"size\": 0.5}, \"mode\": \"markers\", \"text\": \"Oracle BI appears with MySQL/MariaDB 84 times\", \"type\": \"scatter\", \"x\": [0.00964279131013668], \"y\": [-0.8999483410595017]}, {\"hoverinfo\": \"text\", \"marker\": {\"color\": \"green\", \"size\": 0.5}, \"mode\": \"markers\", \"text\": \"MySQL/MariaDB appears with Python 77 times\", \"type\": \"scatter\", \"x\": [-0.6490831740597728], \"y\": [0.6234509067701247]}, {\"hoverinfo\": \"text\", \"marker\": {\"color\": \"blue\", \"size\": 0.5}, \"mode\": \"markers\", \"text\": \"Python appears with MySQL/MariaDB 77 times\", \"type\": \"scatter\", \"x\": [0.5685262123701711], \"y\": [-0.6976947368642157]}, {\"hoverinfo\": \"text\", \"marker\": {\"color\": \"green\", \"size\": 0.5}, \"mode\": \"markers\", \"text\": \"MySQL/MariaDB appears with VBA 6 times\", \"type\": \"scatter\", \"x\": [-0.6113958675278854], \"y\": [0.6604506742897795]}, {\"hoverinfo\": \"text\", \"marker\": {\"color\": \"blue\", \"size\": 0.5}, \"mode\": \"markers\", \"text\": \"VBA appears with MySQL/MariaDB 6 times\", \"type\": \"scatter\", \"x\": [0.8066782256858218], \"y\": [-0.39908675774118885]}, {\"hoverinfo\": \"text\", \"marker\": {\"color\": \"green\", \"size\": 0.5}, \"mode\": \"markers\", \"text\": \"MySQL/MariaDB appears with Linux 66 times\", \"type\": \"scatter\", \"x\": [-0.628730610461928], \"y\": [0.6439703560476765]}, {\"hoverinfo\": \"text\", \"marker\": {\"color\": \"blue\", \"size\": 0.5}, \"mode\": \"markers\", \"text\": \"Linux appears with MySQL/MariaDB 66 times\", \"type\": \"scatter\", \"x\": [0.8718879051963284], \"y\": [-0.22318485784738684]}, {\"hoverinfo\": \"text\", \"marker\": {\"color\": \"green\", \"size\": 0.5}, \"mode\": \"markers\", \"text\": \"MySQL/MariaDB appears with AWS 11 times\", \"type\": \"scatter\", \"x\": [-0.6132948754985909], \"y\": [0.6586876313452136]}, {\"hoverinfo\": \"text\", \"marker\": {\"color\": \"blue\", \"size\": 0.5}, \"mode\": \"markers\", \"text\": \"AWS appears with MySQL/MariaDB 11 times\", \"type\": \"scatter\", \"x\": [0.8930039928328631], \"y\": [-0.11199941421527011]}, {\"hoverinfo\": \"text\", \"marker\": {\"color\": \"green\", \"size\": 0.5}, \"mode\": \"markers\", \"text\": \"T-SQL appears with PL/SQL 56 times\", \"type\": \"scatter\", \"x\": [-0.7520416318255471], \"y\": [0.4944020469225106]}, {\"hoverinfo\": \"text\", \"marker\": {\"color\": \"blue\", \"size\": 0.5}, \"mode\": \"markers\", \"text\": \"PL/SQL appears with T-SQL 56 times\", \"type\": \"scatter\", \"x\": [-0.8496991338919844], \"y\": [0.2966671229900808]}, {\"hoverinfo\": \"text\", \"marker\": {\"color\": \"green\", \"size\": 0.5}, \"mode\": \"markers\", \"text\": \"T-SQL appears with Pentaho 50 times\", \"type\": \"scatter\", \"x\": [-0.7436925769407239], \"y\": [0.506874097782936]}, {\"hoverinfo\": \"text\", \"marker\": {\"color\": \"blue\", \"size\": 0.5}, \"mode\": \"markers\", \"text\": \"Pentaho appears with T-SQL 50 times\", \"type\": \"scatter\", \"x\": [-0.8771880769509316], \"y\": [0.2013481503643043]}, {\"hoverinfo\": \"text\", \"marker\": {\"color\": \"green\", \"size\": 0.5}, \"mode\": \"markers\", \"text\": \"T-SQL appears with Hadoop 52 times\", \"type\": \"scatter\", \"x\": [-0.7477738083944053], \"y\": [0.5008336365294639]}, {\"hoverinfo\": \"text\", \"marker\": {\"color\": \"blue\", \"size\": 0.5}, \"mode\": \"markers\", \"text\": \"Hadoop appears with T-SQL 52 times\", \"type\": \"scatter\", \"x\": [-0.8909571381702157], \"y\": [0.12726106216568828]}, {\"hoverinfo\": \"text\", \"marker\": {\"color\": \"green\", \"size\": 0.5}, \"mode\": \"markers\", \"text\": \"T-SQL appears with Spark 47 times\", \"type\": \"scatter\", \"x\": [-0.7357546454250374], \"y\": [0.518329144208077]}, {\"hoverinfo\": \"text\", \"marker\": {\"color\": \"blue\", \"size\": 0.5}, \"mode\": \"markers\", \"text\": \"Spark appears with T-SQL 47 times\", \"type\": \"scatter\", \"x\": [-0.8952160903059673], \"y\": [-0.09267228095443807]}, {\"hoverinfo\": \"text\", \"marker\": {\"color\": \"green\", \"size\": 0.5}, \"mode\": \"markers\", \"text\": \"T-SQL appears with Informatica 19 times\", \"type\": \"scatter\", \"x\": [-0.722091003994096], \"y\": [0.5372006905717811]}, {\"hoverinfo\": \"text\", \"marker\": {\"color\": \"blue\", \"size\": 0.5}, \"mode\": \"markers\", \"text\": \"Informatica appears with T-SQL 19 times\", \"type\": \"scatter\", \"x\": [-0.8504223372166672], \"y\": [-0.29458759030709564]}, {\"hoverinfo\": \"text\", \"marker\": {\"color\": \"green\", \"size\": 0.5}, \"mode\": \"markers\", \"text\": \"T-SQL appears with Qlik 84 times\", \"type\": \"scatter\", \"x\": [-0.7692995085709576], \"y\": [0.4670955642183761]}, {\"hoverinfo\": \"text\", \"marker\": {\"color\": \"blue\", \"size\": 0.5}, \"mode\": \"markers\", \"text\": \"Qlik appears with T-SQL 84 times\", \"type\": \"scatter\", \"x\": [-0.7693046560027651], \"y\": [-0.4670870863687705]}, {\"hoverinfo\": \"text\", \"marker\": {\"color\": \"green\", \"size\": 0.5}, \"mode\": \"markers\", \"text\": \"T-SQL appears with Tableau 135 times\", \"type\": \"scatter\", \"x\": [-0.777306091039497], \"y\": [0.45364660346231755]}, {\"hoverinfo\": \"text\", \"marker\": {\"color\": \"blue\", \"size\": 0.5}, \"mode\": \"markers\", \"text\": \"Tableau appears with T-SQL 135 times\", \"type\": \"scatter\", \"x\": [-0.49317647808395004], \"y\": [-0.7528459081808914]}, {\"hoverinfo\": \"text\", \"marker\": {\"color\": \"green\", \"size\": 0.5}, \"mode\": \"markers\", \"text\": \"T-SQL appears with Microstrategy 21 times\", \"type\": \"scatter\", \"x\": [-0.723793757393508], \"y\": [0.5349042874741123]}, {\"hoverinfo\": \"text\", \"marker\": {\"color\": \"blue\", \"size\": 0.5}, \"mode\": \"markers\", \"text\": \"Microstrategy appears with T-SQL 21 times\", \"type\": \"scatter\", \"x\": [-0.11780918131880318], \"y\": [-0.8922561273518906]}, {\"hoverinfo\": \"text\", \"marker\": {\"color\": \"green\", \"size\": 0.5}, \"mode\": \"markers\", \"text\": \"T-SQL appears with Oracle BI 189 times\", \"type\": \"scatter\", \"x\": [-0.8006580278759411], \"y\": [0.41103129126358334]}, {\"hoverinfo\": \"text\", \"marker\": {\"color\": \"blue\", \"size\": 0.5}, \"mode\": \"markers\", \"text\": \"Oracle BI appears with T-SQL 189 times\", \"type\": \"scatter\", \"x\": [0.09771474937826975], \"y\": [-0.8946797347397235]}, {\"hoverinfo\": \"text\", \"marker\": {\"color\": \"green\", \"size\": 0.5}, \"mode\": \"markers\", \"text\": \"T-SQL appears with Python 78 times\", \"type\": \"scatter\", \"x\": [-0.7572599646770677], \"y\": [0.48637161296408554]}, {\"hoverinfo\": \"text\", \"marker\": {\"color\": \"blue\", \"size\": 0.5}, \"mode\": \"markers\", \"text\": \"Python appears with T-SQL 78 times\", \"type\": \"scatter\", \"x\": [0.5775001061444788], \"y\": [-0.6902851783162635]}, {\"hoverinfo\": \"text\", \"marker\": {\"color\": \"green\", \"size\": 0.5}, \"mode\": \"markers\", \"text\": \"T-SQL appears with VBA 27 times\", \"type\": \"scatter\", \"x\": [-0.7258274199768989], \"y\": [0.5321414815720331]}, {\"hoverinfo\": \"text\", \"marker\": {\"color\": \"blue\", \"size\": 0.5}, \"mode\": \"markers\", \"text\": \"VBA appears with T-SQL 27 times\", \"type\": \"scatter\", \"x\": [0.8098384644055643], \"y\": [-0.39263425929131257]}, {\"hoverinfo\": \"text\", \"marker\": {\"color\": \"green\", \"size\": 0.5}, \"mode\": \"markers\", \"text\": \"T-SQL appears with Linux 35 times\", \"type\": \"scatter\", \"x\": [-0.7284386216212285], \"y\": [0.5285614198279749]}, {\"hoverinfo\": \"text\", \"marker\": {\"color\": \"blue\", \"size\": 0.5}, \"mode\": \"markers\", \"text\": \"Linux appears with T-SQL 35 times\", \"type\": \"scatter\", \"x\": [0.8649055417108722], \"y\": [-0.2488742733145047]}, {\"hoverinfo\": \"text\", \"marker\": {\"color\": \"green\", \"size\": 0.5}, \"mode\": \"markers\", \"text\": \"T-SQL appears with AWS 19 times\", \"type\": \"scatter\", \"x\": [-0.7204666394879323], \"y\": [0.539377253306965]}, {\"hoverinfo\": \"text\", \"marker\": {\"color\": \"blue\", \"size\": 0.5}, \"mode\": \"markers\", \"text\": \"AWS appears with T-SQL 19 times\", \"type\": \"scatter\", \"x\": [0.8938818726150354], \"y\": [-0.10476257829128585]}, {\"hoverinfo\": \"text\", \"marker\": {\"color\": \"green\", \"size\": 0.5}, \"mode\": \"markers\", \"text\": \"PL/SQL appears with Pentaho 8 times\", \"type\": \"scatter\", \"x\": [-0.8428129411983597], \"y\": [0.31569977217060236]}, {\"hoverinfo\": \"text\", \"marker\": {\"color\": \"blue\", \"size\": 0.5}, \"mode\": \"markers\", \"text\": \"Pentaho appears with PL/SQL 8 times\", \"type\": \"scatter\", \"x\": [-0.8676893808088183], \"y\": [0.23898773699001727]}, {\"hoverinfo\": \"text\", \"marker\": {\"color\": \"green\", \"size\": 0.5}, \"mode\": \"markers\", \"text\": \"PL/SQL appears with Hadoop 9 times\", \"type\": \"scatter\", \"x\": [-0.8431236109352671], \"y\": [0.3148691421582565]}, {\"hoverinfo\": \"text\", \"marker\": {\"color\": \"blue\", \"size\": 0.5}, \"mode\": \"markers\", \"text\": \"Hadoop appears with PL/SQL 9 times\", \"type\": \"scatter\", \"x\": [-0.8889282417339657], \"y\": [0.14073585558684146]}, {\"hoverinfo\": \"text\", \"marker\": {\"color\": \"green\", \"size\": 0.5}, \"mode\": \"markers\", \"text\": \"PL/SQL appears with Informatica 38 times\", \"type\": \"scatter\", \"x\": [-0.8480701452645394], \"y\": [0.3012922646052885]}, {\"hoverinfo\": \"text\", \"marker\": {\"color\": \"blue\", \"size\": 0.5}, \"mode\": \"markers\", \"text\": \"Informatica appears with PL/SQL 38 times\", \"type\": \"scatter\", \"x\": [-0.8443178218078055], \"y\": [-0.3116527166217598]}, {\"hoverinfo\": \"text\", \"marker\": {\"color\": \"green\", \"size\": 0.5}, \"mode\": \"markers\", \"text\": \"PL/SQL appears with Qlik 20 times\", \"type\": \"scatter\", \"x\": [-0.844952464980142], \"y\": [0.30992794634234266]}, {\"hoverinfo\": \"text\", \"marker\": {\"color\": \"blue\", \"size\": 0.5}, \"mode\": \"markers\", \"text\": \"Qlik appears with PL/SQL 20 times\", \"type\": \"scatter\", \"x\": [-0.7918700578836018], \"y\": [-0.4277169758466703]}, {\"hoverinfo\": \"text\", \"marker\": {\"color\": \"green\", \"size\": 0.5}, \"mode\": \"markers\", \"text\": \"PL/SQL appears with Tableau 33 times\", \"type\": \"scatter\", \"x\": [-0.8468230470284029], \"y\": [0.30477980087520784]}, {\"hoverinfo\": \"text\", \"marker\": {\"color\": \"blue\", \"size\": 0.5}, \"mode\": \"markers\", \"text\": \"Tableau appears with PL/SQL 33 times\", \"type\": \"scatter\", \"x\": [-0.5724391389896619], \"y\": [-0.6944878920130821]}, {\"hoverinfo\": \"text\", \"marker\": {\"color\": \"green\", \"size\": 0.5}, \"mode\": \"markers\", \"text\": \"PL/SQL appears with Microstrategy 26 times\", \"type\": \"scatter\", \"x\": [-0.8457758143545412], \"y\": [0.30767397006070024]}, {\"hoverinfo\": \"text\", \"marker\": {\"color\": \"blue\", \"size\": 0.5}, \"mode\": \"markers\", \"text\": \"Microstrategy appears with PL/SQL 26 times\", \"type\": \"scatter\", \"x\": [-0.1128071133568181], \"y\": [-0.892902321184183]}, {\"hoverinfo\": \"text\", \"marker\": {\"color\": \"green\", \"size\": 0.5}, \"mode\": \"markers\", \"text\": \"PL/SQL appears with Oracle BI 111 times\", \"type\": \"scatter\", \"x\": [-0.8573220298922439], \"y\": [0.27385933809428975]}, {\"hoverinfo\": \"text\", \"marker\": {\"color\": \"blue\", \"size\": 0.5}, \"mode\": \"markers\", \"text\": \"Oracle BI appears with PL/SQL 111 times\", \"type\": \"scatter\", \"x\": [0.052480269032103934], \"y\": [-0.8984685978721337]}, {\"hoverinfo\": \"text\", \"marker\": {\"color\": \"green\", \"size\": 0.5}, \"mode\": \"markers\", \"text\": \"PL/SQL appears with Python 5 times\", \"type\": \"scatter\", \"x\": [-0.8423913208572593], \"y\": [0.3168230776701125]}, {\"hoverinfo\": \"text\", \"marker\": {\"color\": \"blue\", \"size\": 0.5}, \"mode\": \"markers\", \"text\": \"Python appears with PL/SQL 5 times\", \"type\": \"scatter\", \"x\": [0.5321798104196269], \"y\": [-0.7257993175676938]}, {\"hoverinfo\": \"text\", \"marker\": {\"color\": \"green\", \"size\": 0.5}, \"mode\": \"markers\", \"text\": \"PL/SQL appears with VBA 11 times\", \"type\": \"scatter\", \"x\": [-0.8434880566567243], \"y\": [0.3138915390345248]}, {\"hoverinfo\": \"text\", \"marker\": {\"color\": \"blue\", \"size\": 0.5}, \"mode\": \"markers\", \"text\": \"VBA appears with PL/SQL 11 times\", \"type\": \"scatter\", \"x\": [0.8087623808207404], \"y\": [-0.39484606034398745]}, {\"hoverinfo\": \"text\", \"marker\": {\"color\": \"green\", \"size\": 0.5}, \"mode\": \"markers\", \"text\": \"PL/SQL appears with Linux 5 times\", \"type\": \"scatter\", \"x\": [-0.8425748180525612], \"y\": [0.31633475304445036]}, {\"hoverinfo\": \"text\", \"marker\": {\"color\": \"blue\", \"size\": 0.5}, \"mode\": \"markers\", \"text\": \"Linux appears with PL/SQL 5 times\", \"type\": \"scatter\", \"x\": [0.8599462521306585], \"y\": [-0.26550413075211093]}, {\"hoverinfo\": \"text\", \"marker\": {\"color\": \"green\", \"size\": 0.5}, \"mode\": \"markers\", \"text\": \"PL/SQL appears with AWS 3 times\", \"type\": \"scatter\", \"x\": [-0.8421339493332517], \"y\": [0.3175065532872987]}, {\"hoverinfo\": \"text\", \"marker\": {\"color\": \"blue\", \"size\": 0.5}, \"mode\": \"markers\", \"text\": \"AWS appears with PL/SQL 3 times\", \"type\": \"scatter\", \"x\": [0.8926209144978396], \"y\": [-0.11501262105108445]}, {\"hoverinfo\": \"text\", \"marker\": {\"color\": \"green\", \"size\": 0.5}, \"mode\": \"markers\", \"text\": \"Pentaho appears with Spark 8 times\", \"type\": \"scatter\", \"x\": [-0.8674427344772165], \"y\": [0.23988143405167733]}, {\"hoverinfo\": \"text\", \"marker\": {\"color\": \"blue\", \"size\": 0.5}, \"mode\": \"markers\", \"text\": \"Spark appears with Pentaho 8 times\", \"type\": \"scatter\", \"x\": [-0.896922427656269], \"y\": [-0.07436503726338835]}, {\"hoverinfo\": \"text\", \"marker\": {\"color\": \"green\", \"size\": 0.5}, \"mode\": \"markers\", \"text\": \"Pentaho appears with Informatica 39 times\", \"type\": \"scatter\", \"x\": [-0.8714089903889617], \"y\": [0.22504748714280412]}, {\"hoverinfo\": \"text\", \"marker\": {\"color\": \"blue\", \"size\": 0.5}, \"mode\": \"markers\", \"text\": \"Informatica appears with Pentaho 39 times\", \"type\": \"scatter\", \"x\": [-0.8425851787273065], \"y\": [-0.3163071554503201]}, {\"hoverinfo\": \"text\", \"marker\": {\"color\": \"green\", \"size\": 0.5}, \"mode\": \"markers\", \"text\": \"Pentaho appears with Qlik 36 times\", \"type\": \"scatter\", \"x\": [-0.869179988947638], \"y\": [0.23350834420419303]}, {\"hoverinfo\": \"text\", \"marker\": {\"color\": \"blue\", \"size\": 0.5}, \"mode\": \"markers\", \"text\": \"Qlik appears with Pentaho 36 times\", \"type\": \"scatter\", \"x\": [-0.7876879516342545], \"y\": [-0.43537075102748035]}, {\"hoverinfo\": \"text\", \"marker\": {\"color\": \"green\", \"size\": 0.5}, \"mode\": \"markers\", \"text\": \"Pentaho appears with Tableau 44 times\", \"type\": \"scatter\", \"x\": [-0.8759534707083865], \"y\": [0.20665313245613307]}, {\"hoverinfo\": \"text\", \"marker\": {\"color\": \"blue\", \"size\": 0.5}, \"mode\": \"markers\", \"text\": \"Tableau appears with Pentaho 44 times\", \"type\": \"scatter\", \"x\": [-0.5635527781497756], \"y\": [-0.7017180817391483]}, {\"hoverinfo\": \"text\", \"marker\": {\"color\": \"green\", \"size\": 0.5}, \"mode\": \"markers\", \"text\": \"Pentaho appears with Microstrategy 7 times\", \"type\": \"scatter\", \"x\": [-0.8672106675499104], \"y\": [0.24071904388236282]}, {\"hoverinfo\": \"text\", \"marker\": {\"color\": \"blue\", \"size\": 0.5}, \"mode\": \"markers\", \"text\": \"Microstrategy appears with Pentaho 7 times\", \"type\": \"scatter\", \"x\": [-0.12347714420306212], \"y\": [-0.8914894249846468]}, {\"hoverinfo\": \"text\", \"marker\": {\"color\": \"green\", \"size\": 0.5}, \"mode\": \"markers\", \"text\": \"Pentaho appears with Oracle BI 40 times\", \"type\": \"scatter\", \"x\": [-0.8736392263278464], \"y\": [0.2162278941794559]}, {\"hoverinfo\": \"text\", \"marker\": {\"color\": \"blue\", \"size\": 0.5}, \"mode\": \"markers\", \"text\": \"Oracle BI appears with Pentaho 40 times\", \"type\": \"scatter\", \"x\": [-0.04064874470765448], \"y\": [-0.8990815755834907]}, {\"hoverinfo\": \"text\", \"marker\": {\"color\": \"green\", \"size\": 0.5}, \"mode\": \"markers\", \"text\": \"Pentaho appears with Python 38 times\", \"type\": \"scatter\", \"x\": [-0.8702826249426951], \"y\": [0.2293646719153849]}, {\"hoverinfo\": \"text\", \"marker\": {\"color\": \"blue\", \"size\": 0.5}, \"mode\": \"markers\", \"text\": \"Python appears with Pentaho 38 times\", \"type\": \"scatter\", \"x\": [0.5458281766071756], \"y\": [-0.7155917842049935]}, {\"hoverinfo\": \"text\", \"marker\": {\"color\": \"green\", \"size\": 0.5}, \"mode\": \"markers\", \"text\": \"Pentaho appears with VBA 1 times\", \"type\": \"scatter\", \"x\": [-0.8670865677977669], \"y\": [0.2411656773769614]}, {\"hoverinfo\": \"text\", \"marker\": {\"color\": \"blue\", \"size\": 0.5}, \"mode\": \"markers\", \"text\": \"VBA appears with Pentaho 1 times\", \"type\": \"scatter\", \"x\": [0.8055556563579054], \"y\": [-0.4013478348138735]}, {\"hoverinfo\": \"text\", \"marker\": {\"color\": \"green\", \"size\": 0.5}, \"mode\": \"markers\", \"text\": \"Pentaho appears with Linux 43 times\", \"type\": \"scatter\", \"x\": [-0.8747822142565455], \"y\": [0.21155632257253712]}, {\"hoverinfo\": \"text\", \"marker\": {\"color\": \"blue\", \"size\": 0.5}, \"mode\": \"markers\", \"text\": \"Linux appears with Pentaho 43 times\", \"type\": \"scatter\", \"x\": [0.8663093279695993], \"y\": [-0.24394292011218838]}, {\"hoverinfo\": \"text\", \"marker\": {\"color\": \"green\", \"size\": 0.5}, \"mode\": \"markers\", \"text\": \"Pentaho appears with AWS 15 times\", \"type\": \"scatter\", \"x\": [-0.8684085785751613], \"y\": [0.23636103878826545]}, {\"hoverinfo\": \"text\", \"marker\": {\"color\": \"blue\", \"size\": 0.5}, \"mode\": \"markers\", \"text\": \"AWS appears with Pentaho 15 times\", \"type\": \"scatter\", \"x\": [0.8934062925576594], \"y\": [-0.10874371898357175]}, {\"hoverinfo\": \"text\", \"marker\": {\"color\": \"green\", \"size\": 0.5}, \"mode\": \"markers\", \"text\": \"Hadoop appears with Spark 235 times\", \"type\": \"scatter\", \"x\": [-0.8999748759819879], \"y\": [0.0067247751788045386]}, {\"hoverinfo\": \"text\", \"marker\": {\"color\": \"blue\", \"size\": 0.5}, \"mode\": \"markers\", \"text\": \"Spark appears with Hadoop 235 times\", \"type\": \"scatter\", \"x\": [-0.8762192048456682], \"y\": [-0.20552349028669445]}, {\"hoverinfo\": \"text\", \"marker\": {\"color\": \"green\", \"size\": 0.5}, \"mode\": \"markers\", \"text\": \"Hadoop appears with Informatica 15 times\", \"type\": \"scatter\", \"x\": [-0.8899525795606377], \"y\": [0.13410595114821255]}, {\"hoverinfo\": \"text\", \"marker\": {\"color\": \"blue\", \"size\": 0.5}, \"mode\": \"markers\", \"text\": \"Informatica appears with Hadoop 15 times\", \"type\": \"scatter\", \"x\": [-0.852428948485234], \"y\": [-0.2887297833344498]}, {\"hoverinfo\": \"text\", \"marker\": {\"color\": \"green\", \"size\": 0.5}, \"mode\": \"markers\", \"text\": \"Hadoop appears with Qlik 15 times\", \"type\": \"scatter\", \"x\": [-0.889637783079816], \"y\": [0.13617861402155004]}, {\"hoverinfo\": \"text\", \"marker\": {\"color\": \"blue\", \"size\": 0.5}, \"mode\": \"markers\", \"text\": \"Qlik appears with Hadoop 15 times\", \"type\": \"scatter\", \"x\": [-0.7955289062073777], \"y\": [-0.420872616581898]}, {\"hoverinfo\": \"text\", \"marker\": {\"color\": \"green\", \"size\": 0.5}, \"mode\": \"markers\", \"text\": \"Hadoop appears with Tableau 89 times\", \"type\": \"scatter\", \"x\": [-0.8964874204122391], \"y\": [0.07943742847429995]}, {\"hoverinfo\": \"text\", \"marker\": {\"color\": \"blue\", \"size\": 0.5}, \"mode\": \"markers\", \"text\": \"Tableau appears with Hadoop 89 times\", \"type\": \"scatter\", \"x\": [-0.5191449466414153], \"y\": [-0.735179246426803]}, {\"hoverinfo\": \"text\", \"marker\": {\"color\": \"green\", \"size\": 0.5}, \"mode\": \"markers\", \"text\": \"Hadoop appears with Microstrategy 7 times\", \"type\": \"scatter\", \"x\": [-0.8887527153528203], \"y\": [0.14184008937176013]}, {\"hoverinfo\": \"text\", \"marker\": {\"color\": \"blue\", \"size\": 0.5}, \"mode\": \"markers\", \"text\": \"Microstrategy appears with Hadoop 7 times\", \"type\": \"scatter\", \"x\": [-0.12275603929178087], \"y\": [-0.8915890055498636]}, {\"hoverinfo\": \"text\", \"marker\": {\"color\": \"green\", \"size\": 0.5}, \"mode\": \"markers\", \"text\": \"Hadoop appears with Oracle BI 87 times\", \"type\": \"scatter\", \"x\": [-0.8953181832217227], \"y\": [0.09168070021849635]}, {\"hoverinfo\": \"text\", \"marker\": {\"color\": \"blue\", \"size\": 0.5}, \"mode\": \"markers\", \"text\": \"Oracle BI appears with Hadoop 87 times\", \"type\": \"scatter\", \"x\": [0.02275373651402105], \"y\": [-0.8997123248431416]}, {\"hoverinfo\": \"text\", \"marker\": {\"color\": \"green\", \"size\": 0.5}, \"mode\": \"markers\", \"text\": \"Hadoop appears with Python 254 times\", \"type\": \"scatter\", \"x\": [-0.8995815109501348], \"y\": [-0.027442761462222225]}, {\"hoverinfo\": \"text\", \"marker\": {\"color\": \"blue\", \"size\": 0.5}, \"mode\": \"markers\", \"text\": \"Python appears with Hadoop 254 times\", \"type\": \"scatter\", \"x\": [0.7204273884681474], \"y\": [-0.5394296784057818]}, {\"hoverinfo\": \"text\", \"marker\": {\"color\": \"green\", \"size\": 0.5}, \"mode\": \"markers\", \"text\": \"Hadoop appears with VBA 11 times\", \"type\": \"scatter\", \"x\": [-0.8893610547813571], \"y\": [0.13797432456146289]}, {\"hoverinfo\": \"text\", \"marker\": {\"color\": \"blue\", \"size\": 0.5}, \"mode\": \"markers\", \"text\": \"VBA appears with Hadoop 11 times\", \"type\": \"scatter\", \"x\": [0.8081366235242317], \"y\": [-0.3961252298438642]}, {\"hoverinfo\": \"text\", \"marker\": {\"color\": \"green\", \"size\": 0.5}, \"mode\": \"markers\", \"text\": \"Hadoop appears with Linux 140 times\", \"type\": \"scatter\", \"x\": [-0.8993976221187483], \"y\": [0.03292289973773977]}, {\"hoverinfo\": \"text\", \"marker\": {\"color\": \"blue\", \"size\": 0.5}, \"mode\": \"markers\", \"text\": \"Linux appears with Hadoop 140 times\", \"type\": \"scatter\", \"x\": [0.8833830845332937], \"y\": [-0.17214623423253755]}, {\"hoverinfo\": \"text\", \"marker\": {\"color\": \"green\", \"size\": 0.5}, \"mode\": \"markers\", \"text\": \"Hadoop appears with AWS 91 times\", \"type\": \"scatter\", \"x\": [-0.8975100629880597], \"y\": [0.06690057425141542]}, {\"hoverinfo\": \"text\", \"marker\": {\"color\": \"blue\", \"size\": 0.5}, \"mode\": \"markers\", \"text\": \"AWS appears with Hadoop 91 times\", \"type\": \"scatter\", \"x\": [0.8977644447674196], \"y\": [-0.0633955969405358]}, {\"hoverinfo\": \"text\", \"marker\": {\"color\": \"green\", \"size\": 0.5}, \"mode\": \"markers\", \"text\": \"Spark appears with Informatica 16 times\", \"type\": \"scatter\", \"x\": [-0.8966630146047432], \"y\": [-0.07743021529050655]}, {\"hoverinfo\": \"text\", \"marker\": {\"color\": \"blue\", \"size\": 0.5}, \"mode\": \"markers\", \"text\": \"Informatica appears with Spark 16 times\", \"type\": \"scatter\", \"x\": [-0.8511585819239307], \"y\": [-0.29245353206491337]}, {\"hoverinfo\": \"text\", \"marker\": {\"color\": \"green\", \"size\": 0.5}, \"mode\": \"markers\", \"text\": \"Spark appears with Qlik 17 times\", \"type\": \"scatter\", \"x\": [-0.8964615804077933], \"y\": [-0.0797285071524702]}, {\"hoverinfo\": \"text\", \"marker\": {\"color\": \"blue\", \"size\": 0.5}, \"mode\": \"markers\", \"text\": \"Qlik appears with Spark 17 times\", \"type\": \"scatter\", \"x\": [-0.7944200832568782], \"y\": [-0.4229618556301914]}, {\"hoverinfo\": \"text\", \"marker\": {\"color\": \"green\", \"size\": 0.5}, \"mode\": \"markers\", \"text\": \"Spark appears with Tableau 68 times\", \"type\": \"scatter\", \"x\": [-0.8923932068190528], \"y\": [-0.11676628119113595]}, {\"hoverinfo\": \"text\", \"marker\": {\"color\": \"blue\", \"size\": 0.5}, \"mode\": \"markers\", \"text\": \"Tableau appears with Spark 68 times\", \"type\": \"scatter\", \"x\": [-0.5569025079776264], \"y\": [-0.7070074940255088]}, {\"hoverinfo\": \"text\", \"marker\": {\"color\": \"green\", \"size\": 0.5}, \"mode\": \"markers\", \"text\": \"Spark appears with Microstrategy 3 times\", \"type\": \"scatter\", \"x\": [-0.8969856438379946], \"y\": [-0.07359860561544881]}, {\"hoverinfo\": \"text\", \"marker\": {\"color\": \"blue\", \"size\": 0.5}, \"mode\": \"markers\", \"text\": \"Microstrategy appears with Spark 3 times\", \"type\": \"scatter\", \"x\": [-0.12471313585311342], \"y\": [-0.891317358602245]}, {\"hoverinfo\": \"text\", \"marker\": {\"color\": \"green\", \"size\": 0.5}, \"mode\": \"markers\", \"text\": \"Spark appears with Oracle BI 77 times\", \"type\": \"scatter\", \"x\": [-0.8895896596694403], \"y\": [-0.1364926276734736]}, {\"hoverinfo\": \"text\", \"marker\": {\"color\": \"blue\", \"size\": 0.5}, \"mode\": \"markers\", \"text\": \"Oracle BI appears with Spark 77 times\", \"type\": \"scatter\", \"x\": [-0.0027033525239221782], \"y\": [-0.8999959399270262]}, {\"hoverinfo\": \"text\", \"marker\": {\"color\": \"green\", \"size\": 0.5}, \"mode\": \"markers\", \"text\": \"Spark appears with Python 275 times\", \"type\": \"scatter\", \"x\": [-0.8673916036851089], \"y\": [-0.24006625305647405]}, {\"hoverinfo\": \"text\", \"marker\": {\"color\": \"blue\", \"size\": 0.5}, \"mode\": \"markers\", \"text\": \"Python appears with Spark 275 times\", \"type\": \"scatter\", \"x\": [0.7435239122127341], \"y\": [-0.5071214765397642]}, {\"hoverinfo\": \"text\", \"marker\": {\"color\": \"green\", \"size\": 0.5}, \"mode\": \"markers\", \"text\": \"Spark appears with VBA 10 times\", \"type\": \"scatter\", \"x\": [-0.8968175704256163], \"y\": [-0.07561908076600028]}, {\"hoverinfo\": \"text\", \"marker\": {\"color\": \"blue\", \"size\": 0.5}, \"mode\": \"markers\", \"text\": \"VBA appears with Spark 10 times\", \"type\": \"scatter\", \"x\": [0.8075374223913425], \"y\": [-0.3973453302072978]}, {\"hoverinfo\": \"text\", \"marker\": {\"color\": \"green\", \"size\": 0.5}, \"mode\": \"markers\", \"text\": \"Spark appears with Linux 123 times\", \"type\": \"scatter\", \"x\": [-0.8849707618995414], \"y\": [-0.16378873765599752]}, {\"hoverinfo\": \"text\", \"marker\": {\"color\": \"blue\", \"size\": 0.5}, \"mode\": \"markers\", \"text\": \"Linux appears with Spark 123 times\", \"type\": \"scatter\", \"x\": [0.8799135551359741], \"y\": [-0.18908235107479246]}, {\"hoverinfo\": \"text\", \"marker\": {\"color\": \"green\", \"size\": 0.5}, \"mode\": \"markers\", \"text\": \"Spark appears with AWS 98 times\", \"type\": \"scatter\", \"x\": [-0.8876520345193759], \"y\": [-0.14857276201785005]}, {\"hoverinfo\": \"text\", \"marker\": {\"color\": \"blue\", \"size\": 0.5}, \"mode\": \"markers\", \"text\": \"AWS appears with Spark 98 times\", \"type\": \"scatter\", \"x\": [0.8985001274896325], \"y\": [-0.05193766360854433]}, {\"hoverinfo\": \"text\", \"marker\": {\"color\": \"green\", \"size\": 0.5}, \"mode\": \"markers\", \"text\": \"Informatica appears with Qlik 101 times\", \"type\": \"scatter\", \"x\": [-0.8274501607437985], \"y\": [-0.3540144509551298]}, {\"hoverinfo\": \"text\", \"marker\": {\"color\": \"blue\", \"size\": 0.5}, \"mode\": \"markers\", \"text\": \"Qlik appears with Informatica 101 times\", \"type\": \"scatter\", \"x\": [-0.7621194723125381], \"y\": [-0.47872111915191146]}, {\"hoverinfo\": \"text\", \"marker\": {\"color\": \"green\", \"size\": 0.5}, \"mode\": \"markers\", \"text\": \"Informatica appears with Tableau 84 times\", \"type\": \"scatter\", \"x\": [-0.8320709208281666], \"y\": [-0.3430130940826706]}, {\"hoverinfo\": \"text\", \"marker\": {\"color\": \"blue\", \"size\": 0.5}, \"mode\": \"markers\", \"text\": \"Tableau appears with Informatica 84 times\", \"type\": \"scatter\", \"x\": [-0.5298109945913452], \"y\": [-0.7275302811636981]}, {\"hoverinfo\": \"text\", \"marker\": {\"color\": \"green\", \"size\": 0.5}, \"mode\": \"markers\", \"text\": \"Informatica appears with Microstrategy 27 times\", \"type\": \"scatter\", \"x\": [-0.8472499805336142], \"y\": [-0.3035909591634611]}, {\"hoverinfo\": \"text\", \"marker\": {\"color\": \"blue\", \"size\": 0.5}, \"mode\": \"markers\", \"text\": \"Microstrategy appears with Informatica 27 times\", \"type\": \"scatter\", \"x\": [-0.11007251794549294], \"y\": [-0.8932435506585755]}, {\"hoverinfo\": \"text\", \"marker\": {\"color\": \"green\", \"size\": 0.5}, \"mode\": \"markers\", \"text\": \"Informatica appears with Oracle BI 146 times\", \"type\": \"scatter\", \"x\": [-0.814318655950747], \"y\": [-0.3832559543837106]}, {\"hoverinfo\": \"text\", \"marker\": {\"color\": \"blue\", \"size\": 0.5}, \"mode\": \"markers\", \"text\": \"Oracle BI appears with Informatica 146 times\", \"type\": \"scatter\", \"x\": [0.07214070070533313], \"y\": [-0.8971040738407912]}, {\"hoverinfo\": \"text\", \"marker\": {\"color\": \"green\", \"size\": 0.5}, \"mode\": \"markers\", \"text\": \"Informatica appears with Python 34 times\", \"type\": \"scatter\", \"x\": [-0.845914695832949], \"y\": [-0.3072919253313524]}, {\"hoverinfo\": \"text\", \"marker\": {\"color\": \"blue\", \"size\": 0.5}, \"mode\": \"markers\", \"text\": \"Python appears with Informatica 34 times\", \"type\": \"scatter\", \"x\": [0.536951584628252], \"y\": [-0.7222762600038914]}, {\"hoverinfo\": \"text\", \"marker\": {\"color\": \"green\", \"size\": 0.5}, \"mode\": \"markers\", \"text\": \"Informatica appears with VBA 6 times\", \"type\": \"scatter\", \"x\": [-0.8533146647151171], \"y\": [-0.28610152565501523]}, {\"hoverinfo\": \"text\", \"marker\": {\"color\": \"blue\", \"size\": 0.5}, \"mode\": \"markers\", \"text\": \"VBA appears with Informatica 6 times\", \"type\": \"scatter\", \"x\": [0.8063334952880374], \"y\": [-0.3997828090058107]}, {\"hoverinfo\": \"text\", \"marker\": {\"color\": \"green\", \"size\": 0.5}, \"mode\": \"markers\", \"text\": \"Informatica appears with Linux 15 times\", \"type\": \"scatter\", \"x\": [-0.851806212372483], \"y\": [-0.2905618291580027]}, {\"hoverinfo\": \"text\", \"marker\": {\"color\": \"blue\", \"size\": 0.5}, \"mode\": \"markers\", \"text\": \"Linux appears with Informatica 15 times\", \"type\": \"scatter\", \"x\": [0.861824614526824], \"y\": [-0.2593421172808057]}, {\"hoverinfo\": \"text\", \"marker\": {\"color\": \"green\", \"size\": 0.5}, \"mode\": \"markers\", \"text\": \"Informatica appears with AWS 25 times\", \"type\": \"scatter\", \"x\": [-0.84948918172914], \"y\": [-0.29726777512060787]}, {\"hoverinfo\": \"text\", \"marker\": {\"color\": \"blue\", \"size\": 0.5}, \"mode\": \"markers\", \"text\": \"AWS appears with Informatica 25 times\", \"type\": \"scatter\", \"x\": [0.8941890707667497], \"y\": [-0.10210732452325269]}, {\"hoverinfo\": \"text\", \"marker\": {\"color\": \"green\", \"size\": 0.5}, \"mode\": \"markers\", \"text\": \"Qlik appears with Tableau 397 times\", \"type\": \"scatter\", \"x\": [-0.7118618273436318], \"y\": [-0.5506838827957338]}, {\"hoverinfo\": \"text\", \"marker\": {\"color\": \"blue\", \"size\": 0.5}, \"mode\": \"markers\", \"text\": \"Tableau appears with Qlik 397 times\", \"type\": \"scatter\", \"x\": [-0.34183103568951984], \"y\": [-0.8325572310895091]}, {\"hoverinfo\": \"text\", \"marker\": {\"color\": \"green\", \"size\": 0.5}, \"mode\": \"markers\", \"text\": \"Qlik appears with Microstrategy 52 times\", \"type\": \"scatter\", \"x\": [-0.7845209159462887], \"y\": [-0.4410520745249888]}, {\"hoverinfo\": \"text\", \"marker\": {\"color\": \"blue\", \"size\": 0.5}, \"mode\": \"markers\", \"text\": \"Microstrategy appears with Qlik 52 times\", \"type\": \"scatter\", \"x\": [-0.0976252149576452], \"y\": [-0.8946895089384214]}, {\"hoverinfo\": \"text\", \"marker\": {\"color\": \"green\", \"size\": 0.5}, \"mode\": \"markers\", \"text\": \"Qlik appears with Oracle BI 419 times\", \"type\": \"scatter\", \"x\": [-0.6733872099093238], \"y\": [-0.5971177987051938]}, {\"hoverinfo\": \"text\", \"marker\": {\"color\": \"blue\", \"size\": 0.5}, \"mode\": \"markers\", \"text\": \"Oracle BI appears with Qlik 419 times\", \"type\": \"scatter\", \"x\": [0.3008910463909864], \"y\": [-0.8482125784269751]}, {\"hoverinfo\": \"text\", \"marker\": {\"color\": \"green\", \"size\": 0.5}, \"mode\": \"markers\", \"text\": \"Qlik appears with Python 59 times\", \"type\": \"scatter\", \"x\": [-0.7804677120007034], \"y\": [-0.44818539749124714]}, {\"hoverinfo\": \"text\", \"marker\": {\"color\": \"blue\", \"size\": 0.5}, \"mode\": \"markers\", \"text\": \"Python appears with Qlik 59 times\", \"type\": \"scatter\", \"x\": [0.5516008891902566], \"y\": [-0.7111515021741276]}, {\"hoverinfo\": \"text\", \"marker\": {\"color\": \"green\", \"size\": 0.5}, \"mode\": \"markers\", \"text\": \"Qlik appears with VBA 31 times\", \"type\": \"scatter\", \"x\": [-0.7900716395821338], \"y\": [-0.4310299343757914]}, {\"hoverinfo\": \"text\", \"marker\": {\"color\": \"blue\", \"size\": 0.5}, \"mode\": \"markers\", \"text\": \"VBA appears with Qlik 31 times\", \"type\": \"scatter\", \"x\": [0.8114692430888599], \"y\": [-0.389252703935108]}, {\"hoverinfo\": \"text\", \"marker\": {\"color\": \"green\", \"size\": 0.5}, \"mode\": \"markers\", \"text\": \"Qlik appears with Linux 3 times\", \"type\": \"scatter\", \"x\": [-0.797456120738508], \"y\": [-0.41720946237674206]}, {\"hoverinfo\": \"text\", \"marker\": {\"color\": \"blue\", \"size\": 0.5}, \"mode\": \"markers\", \"text\": \"Linux appears with Qlik 3 times\", \"type\": \"scatter\", \"x\": [0.8595964546468404], \"y\": [-0.2666344598107726]}, {\"hoverinfo\": \"text\", \"marker\": {\"color\": \"green\", \"size\": 0.5}, \"mode\": \"markers\", \"text\": \"Qlik appears with AWS 4 times\", \"type\": \"scatter\", \"x\": [-0.7972161405326438], \"y\": [-0.41766784084273967]}, {\"hoverinfo\": \"text\", \"marker\": {\"color\": \"blue\", \"size\": 0.5}, \"mode\": \"markers\", \"text\": \"AWS appears with Qlik 4 times\", \"type\": \"scatter\", \"x\": [0.8926751576338589], \"y\": [-0.11459085017297503]}, {\"hoverinfo\": \"text\", \"marker\": {\"color\": \"green\", \"size\": 0.5}, \"mode\": \"markers\", \"text\": \"Tableau appears with Microstrategy 75 times\", \"type\": \"scatter\", \"x\": [-0.5395145762228742], \"y\": [-0.7203638122803313]}, {\"hoverinfo\": \"text\", \"marker\": {\"color\": \"blue\", \"size\": 0.5}, \"mode\": \"markers\", \"text\": \"Microstrategy appears with Tableau 75 times\", \"type\": \"scatter\", \"x\": [-0.08526251185689192], \"y\": [-0.8959521773352936]}, {\"hoverinfo\": \"text\", \"marker\": {\"color\": \"green\", \"size\": 0.5}, \"mode\": \"markers\", \"text\": \"Tableau appears with Oracle BI 548 times\", \"type\": \"scatter\", \"x\": [-0.2744935731278773], \"y\": [-0.857119173925943]}, {\"hoverinfo\": \"text\", \"marker\": {\"color\": \"blue\", \"size\": 0.5}, \"mode\": \"markers\", \"text\": \"Oracle BI appears with Tableau 548 times\", \"type\": \"scatter\", \"x\": [0.36967893531393076], \"y\": [-0.8205714379535511]}, {\"hoverinfo\": \"text\", \"marker\": {\"color\": \"green\", \"size\": 0.5}, \"mode\": \"markers\", \"text\": \"Tableau appears with Python 206 times\", \"type\": \"scatter\", \"x\": [-0.45140223871266105], \"y\": [-0.7786115969372649]}, {\"hoverinfo\": \"text\", \"marker\": {\"color\": \"blue\", \"size\": 0.5}, \"mode\": \"markers\", \"text\": \"Python appears with Tableau 206 times\", \"type\": \"scatter\", \"x\": [0.6542096568813611], \"y\": [-0.6180693527778026]}, {\"hoverinfo\": \"text\", \"marker\": {\"color\": \"green\", \"size\": 0.5}, \"mode\": \"markers\", \"text\": \"Tableau appears with VBA 95 times\", \"type\": \"scatter\", \"x\": [-0.5076795979986293], \"y\": [-0.7431429376478997]}, {\"hoverinfo\": \"text\", \"marker\": {\"color\": \"blue\", \"size\": 0.5}, \"mode\": \"markers\", \"text\": \"VBA appears with Tableau 95 times\", \"type\": \"scatter\", \"x\": [0.8234833226780425], \"y\": [-0.3631462753094557]}, {\"hoverinfo\": \"text\", \"marker\": {\"color\": \"green\", \"size\": 0.5}, \"mode\": \"markers\", \"text\": \"Tableau appears with Linux 32 times\", \"type\": \"scatter\", \"x\": [-0.5762359208580493], \"y\": [-0.6913408446727822]}, {\"hoverinfo\": \"text\", \"marker\": {\"color\": \"blue\", \"size\": 0.5}, \"mode\": \"markers\", \"text\": \"Linux appears with Tableau 32 times\", \"type\": \"scatter\", \"x\": [0.8636773116568324], \"y\": [-0.2531037363004087]}, {\"hoverinfo\": \"text\", \"marker\": {\"color\": \"green\", \"size\": 0.5}, \"mode\": \"markers\", \"text\": \"Tableau appears with AWS 37 times\", \"type\": \"scatter\", \"x\": [-0.5683310793754968], \"y\": [-0.6978536982891779]}, {\"hoverinfo\": \"text\", \"marker\": {\"color\": \"blue\", \"size\": 0.5}, \"mode\": \"markers\", \"text\": \"AWS appears with Tableau 37 times\", \"type\": \"scatter\", \"x\": [0.8946085529707115], \"y\": [-0.09836430730529067]}, {\"hoverinfo\": \"text\", \"marker\": {\"color\": \"green\", \"size\": 0.5}, \"mode\": \"markers\", \"text\": \"Microstrategy appears with Oracle BI 75 times\", \"type\": \"scatter\", \"x\": [-0.07749504085639057], \"y\": [-0.8966574143131067]}, {\"hoverinfo\": \"text\", \"marker\": {\"color\": \"blue\", \"size\": 0.5}, \"mode\": \"markers\", \"text\": \"Oracle BI appears with Microstrategy 75 times\", \"type\": \"scatter\", \"x\": [-0.014358912112290949], \"y\": [-0.8998854491783671]}, {\"hoverinfo\": \"text\", \"marker\": {\"color\": \"green\", \"size\": 0.5}, \"mode\": \"markers\", \"text\": \"Microstrategy appears with Python 20 times\", \"type\": \"scatter\", \"x\": [-0.11992235412784603], \"y\": [-0.8919745674515813]}, {\"hoverinfo\": \"text\", \"marker\": {\"color\": \"blue\", \"size\": 0.5}, \"mode\": \"markers\", \"text\": \"Python appears with Microstrategy 20 times\", \"type\": \"scatter\", \"x\": [0.5336923754089724], \"y\": [-0.7246878282614718]}, {\"hoverinfo\": \"text\", \"marker\": {\"color\": \"green\", \"size\": 0.5}, \"mode\": \"markers\", \"text\": \"Microstrategy appears with VBA 7 times\", \"type\": \"scatter\", \"x\": [-0.12419816833459067], \"y\": [-0.8913892611998041]}, {\"hoverinfo\": \"text\", \"marker\": {\"color\": \"blue\", \"size\": 0.5}, \"mode\": \"markers\", \"text\": \"VBA appears with Microstrategy 7 times\", \"type\": \"scatter\", \"x\": [0.8070510055637048], \"y\": [-0.3983323667725396]}, {\"hoverinfo\": \"text\", \"marker\": {\"color\": \"green\", \"size\": 0.5}, \"mode\": \"markers\", \"text\": \"Microstrategy appears with Linux 14 times\", \"type\": \"scatter\", \"x\": [-0.12167423149480062], \"y\": [-0.8917372827184864]}, {\"hoverinfo\": \"text\", \"marker\": {\"color\": \"blue\", \"size\": 0.5}, \"mode\": \"markers\", \"text\": \"Linux appears with Microstrategy 14 times\", \"type\": \"scatter\", \"x\": [0.8612733680412816], \"y\": [-0.26116696862893474]}, {\"hoverinfo\": \"text\", \"marker\": {\"color\": \"green\", \"size\": 0.5}, \"mode\": \"markers\", \"text\": \"Microstrategy appears with AWS 2 times\", \"type\": \"scatter\", \"x\": [-0.12497060401310135], \"y\": [-0.891281295738108]}, {\"hoverinfo\": \"text\", \"marker\": {\"color\": \"blue\", \"size\": 0.5}, \"mode\": \"markers\", \"text\": \"AWS appears with Microstrategy 2 times\", \"type\": \"scatter\", \"x\": [0.8925820473929381], \"y\": [-0.11531387024911968]}, {\"hoverinfo\": \"text\", \"marker\": {\"color\": \"green\", \"size\": 0.5}, \"mode\": \"markers\", \"text\": \"Oracle BI appears with Python 228 times\", \"type\": \"scatter\", \"x\": [0.1625762666411796], \"y\": [-0.8851943049551415]}, {\"hoverinfo\": \"text\", \"marker\": {\"color\": \"blue\", \"size\": 0.5}, \"mode\": \"markers\", \"text\": \"Python appears with Oracle BI 228 times\", \"type\": \"scatter\", \"x\": [0.6981602793880856], \"y\": [-0.5679544209571314]}, {\"hoverinfo\": \"text\", \"marker\": {\"color\": \"green\", \"size\": 0.5}, \"mode\": \"markers\", \"text\": \"Oracle BI appears with VBA 95 times\", \"type\": \"scatter\", \"x\": [0.03670270390378311], \"y\": [-0.8992513061019991]}, {\"hoverinfo\": \"text\", \"marker\": {\"color\": \"blue\", \"size\": 0.5}, \"mode\": \"markers\", \"text\": \"VBA appears with Oracle BI 95 times\", \"type\": \"scatter\", \"x\": [0.8283686378983732], \"y\": [-0.3518599149468349]}, {\"hoverinfo\": \"text\", \"marker\": {\"color\": \"green\", \"size\": 0.5}, \"mode\": \"markers\", \"text\": \"Oracle BI appears with Linux 11 times\", \"type\": \"scatter\", \"x\": [-0.04455530762060119], \"y\": [-0.8988964481867939]}, {\"hoverinfo\": \"text\", \"marker\": {\"color\": \"blue\", \"size\": 0.5}, \"mode\": \"markers\", \"text\": \"Linux appears with Oracle BI 11 times\", \"type\": \"scatter\", \"x\": [0.8602559354637199], \"y\": [-0.2644990085036995]}, {\"hoverinfo\": \"text\", \"marker\": {\"color\": \"green\", \"size\": 0.5}, \"mode\": \"markers\", \"text\": \"Oracle BI appears with AWS 60 times\", \"type\": \"scatter\", \"x\": [-0.024708931000698407], \"y\": [-0.8996607520220068]}, {\"hoverinfo\": \"text\", \"marker\": {\"color\": \"blue\", \"size\": 0.5}, \"mode\": \"markers\", \"text\": \"AWS appears with Oracle BI 60 times\", \"type\": \"scatter\", \"x\": [0.896280194805653], \"y\": [-0.08174235376560109]}, {\"hoverinfo\": \"text\", \"marker\": {\"color\": \"green\", \"size\": 0.5}, \"mode\": \"markers\", \"text\": \"Python appears with VBA 76 times\", \"type\": \"scatter\", \"x\": [0.5595748784971583], \"y\": [-0.7048942866521835]}, {\"hoverinfo\": \"text\", \"marker\": {\"color\": \"blue\", \"size\": 0.5}, \"mode\": \"markers\", \"text\": \"VBA appears with Python 76 times\", \"type\": \"scatter\", \"x\": [0.818955042521766], \"y\": [-0.37324608280352056]}, {\"hoverinfo\": \"text\", \"marker\": {\"color\": \"green\", \"size\": 0.5}, \"mode\": \"markers\", \"text\": \"Python appears with Linux 152 times\", \"type\": \"scatter\", \"x\": [0.635461570364398], \"y\": [-0.6373292654429211]}, {\"hoverinfo\": \"text\", \"marker\": {\"color\": \"blue\", \"size\": 0.5}, \"mode\": \"markers\", \"text\": \"Linux appears with Python 152 times\", \"type\": \"scatter\", \"x\": [0.8868532955259073], \"y\": [-0.15326849713766325]}, {\"hoverinfo\": \"text\", \"marker\": {\"color\": \"green\", \"size\": 0.5}, \"mode\": \"markers\", \"text\": \"Python appears with AWS 146 times\", \"type\": \"scatter\", \"x\": [0.6194226513345737], \"y\": [-0.6529284639328011]}, {\"hoverinfo\": \"text\", \"marker\": {\"color\": \"blue\", \"size\": 0.5}, \"mode\": \"markers\", \"text\": \"AWS appears with Python 146 times\", \"type\": \"scatter\", \"x\": [0.8992336331906178], \"y\": [-0.03713317840962907]}, {\"hoverinfo\": \"text\", \"marker\": {\"color\": \"green\", \"size\": 0.5}, \"mode\": \"markers\", \"text\": \"VBA appears with Linux 5 times\", \"type\": \"scatter\", \"x\": [0.8060169648107318], \"y\": [-0.4004205944220347]}, {\"hoverinfo\": \"text\", \"marker\": {\"color\": \"blue\", \"size\": 0.5}, \"mode\": \"markers\", \"text\": \"Linux appears with VBA 5 times\", \"type\": \"scatter\", \"x\": [0.8597521036539736], \"y\": [-0.2661321481192511]}, {\"hoverinfo\": \"text\", \"marker\": {\"color\": \"green\", \"size\": 0.5}, \"mode\": \"markers\", \"text\": \"VBA appears with AWS 5 times\", \"type\": \"scatter\", \"x\": [0.8057287720638936], \"y\": [-0.40100018188076947]}, {\"hoverinfo\": \"text\", \"marker\": {\"color\": \"blue\", \"size\": 0.5}, \"mode\": \"markers\", \"text\": \"AWS appears with VBA 5 times\", \"type\": \"scatter\", \"x\": [0.8927446059723679], \"y\": [-0.11404853575229096]}, {\"hoverinfo\": \"text\", \"marker\": {\"color\": \"green\", \"size\": 0.5}, \"mode\": \"markers\", \"text\": \"Linux appears with AWS 47 times\", \"type\": \"scatter\", \"x\": [0.867894140947834], \"y\": [-0.23824306938171624]}, {\"hoverinfo\": \"text\", \"marker\": {\"color\": \"blue\", \"size\": 0.5}, \"mode\": \"markers\", \"text\": \"AWS appears with Linux 47 times\", \"type\": \"scatter\", \"x\": [0.8956664469295931], \"y\": [-0.08821346747814966]}],\n",
       "                        {\"autosize\": false, \"font\": {\"color\": \"#655643\", \"family\": \"Fira Sans Condensed\", \"size\": 12}, \"height\": 525, \"hidesources\": true, \"hoverdistance\": 40, \"hovermode\": \"closest\", \"margin\": {\"b\": 10, \"l\": 280, \"r\": 280, \"t\": 80}, \"paper_bgcolor\": \"#fffaf0\", \"plot_bgcolor\": \"#fffaf0\", \"shapes\": [{\"fillcolor\": \"#f2e6ce\", \"layer\": \"below\", \"line\": {\"color\": \"rgb(175,175,175)\", \"width\": 0.5}, \"path\": \"M 0.9683319520058766,0.24966623865570756 Q 0.1826952867502634, 0.08137832757705846 0.8332911694432741, 0.5528343575863034L 0.8332911694432741, 0.5528343575863034 L 0.8468106360172433, 0.5318944883415055 L 0.8598040180112957, 0.5106241774648274 M 0.8598040180112957,0.5106241774648274 Q 0.18282259826542832, 0.08109190812576685 0.9556160959430438, 0.2946147945616026L 0.9556160959430438, 0.2946147945616026 L 0.9622365176873727, 0.27221477555209667 L 0.9683319520058766, 0.24966623865570756 \", \"type\": \"path\"}, {\"fillcolor\": \"#f2e6ce\", \"layer\": \"below\", \"line\": {\"color\": \"rgb(175,175,175)\", \"width\": 0.5}, \"path\": \"M 0.9946030047629776,0.10375385735699877 Q 0.1428324283905722, 0.1399960620876604 0.12367988248670839, 0.9923221687879769L 0.12367988248670839, 0.9923221687879769 L 0.13862090631276125, 0.9903455176518086 L 0.15353044360003007, 0.988143918105039 M 0.15353044360003007,0.988143918105039 Q 0.14291691541713467, 0.1399098112630118 0.9911849319539668, 0.13248558664024587L 0.9911849319539668, 0.13248558664024587 L 0.9929978904658037, 0.11813208510165114 L 0.9946030047629776, 0.10375385735699877 \", \"type\": \"path\"}, {\"fillcolor\": \"#f2e6ce\", \"layer\": \"below\", \"line\": {\"color\": \"rgb(175,175,175)\", \"width\": 0.5}, \"path\": \"M 0.9970906603658859,0.07622476638941945 Q 0.10279160748984549, 0.17156306545889632 -0.4031098376647485, 0.9151516042590431L -0.4031098376647485, 0.9151516042590431 L -0.39020157572727976, 0.920729455540523 L -0.37721615702714895, 0.9261252457835654 M -0.37721615702714895,0.9261252457835654 Q 0.1028329334532387, 0.17153829834005518 0.9946030047629776, 0.10375385735699877L 0.9946030047629776, 0.10375385735699877 L 0.9959419544536653, 0.08999790752574953 L 0.9970906603658859, 0.07622476638941945 \", \"type\": \"path\"}, {\"fillcolor\": \"#f2e6ce\", \"layer\": \"below\", \"line\": {\"color\": \"rgb(175,175,175)\", \"width\": 0.5}, \"path\": \"M 1.0,0.0 Q 0.08012445011497296, 0.18324866300678216 -0.6790036246886605, 0.7341349178861203L -0.6790036246886605, 0.7341349178861203 L -0.6787325920779178, 0.7343855039767538 L -0.678461466988458, 0.734635990005846 M -0.678461466988458,0.734635990005846 Q 0.08011803609049123, 0.1832514673693031 0.9999996733662111, 0.0008082496340998079L 0.9999996733662111, 0.0008082496340998079 L 0.9999999183415494, 0.000404124850050113 L 1.0, 0.0 \", \"type\": \"path\"}, {\"fillcolor\": \"#f2e6ce\", \"layer\": \"below\", \"line\": {\"color\": \"rgb(175,175,175)\", \"width\": 0.5}, \"path\": \"M 0.9990192659617951,0.044277604239118105 Q 0.05026068872779041, 0.19358167053884046 -0.8512962438313266, 0.5246853392640912L -0.8512962438313266, 0.5246853392640912 L -0.8480299768435416, 0.5299482600921926 L -0.844731173628985, 0.5351908484824807 M -0.844731173628985,0.5351908484824807 Q 0.050239347768226465, 0.19358721015558647 0.9983815873246593, 0.056870080807870524L 0.9983815873246593, 0.056870080807870524 L 0.9987202735470517, 0.05057484756380653 L 0.9990192659617951, 0.044277604239118105 \", \"type\": \"path\"}, {\"fillcolor\": \"#f2e6ce\", \"layer\": \"below\", \"line\": {\"color\": \"rgb(175,175,175)\", \"width\": 0.5}, \"path\": \"M 0.9999974391920489,0.0022630972900932016 Q 0.03502650848054474, 0.19690897314155678 -0.9378743485352143, 0.3469750803150672L -0.9378743485352143, 0.3469750803150672 L -0.9376529307802018, 0.34757298715420626 L -0.9374311318520102, 0.34817075269852743 M -0.9374311318520102,0.34817075269852743 Q 0.03497698738153055, 0.19691777561640356 0.9999918341659475, 0.004041237610440669L 0.9999918341659475, 0.004041237610440669 L 0.9999950319039147, 0.0031521686960887343 L 0.9999974391920489, 0.0022630972900932016 \", \"type\": \"path\"}, {\"fillcolor\": \"#f2e6ce\", \"layer\": \"below\", \"line\": {\"color\": \"rgb(175,175,175)\", \"width\": 0.5}, \"path\": \"M 0.9999918341659475,0.004041237610440669 Q 0.026191007177191722, 0.19827766173486183 -0.9646443455266936, 0.26355509223571627L -0.9646443455266936, 0.26355509223571627 L -0.9644404376600364, 0.26430028794179816 L -0.9642359541236478, 0.26504532588834423 M -0.9642359541236478,0.26504532588834423 Q 0.026151884540081508, 0.19828282561785893 0.9999821135860694, 0.005981012283667101L 0.9999821135860694, 0.005981012283667101 L 0.9999874442227475, 0.005011127304050866 L 0.9999918341659475, 0.004041237610440669 \", \"type\": \"path\"}, {\"fillcolor\": \"#f2e6ce\", \"layer\": \"below\", \"line\": {\"color\": \"rgb(175,175,175)\", \"width\": 0.5}, \"path\": \"M 0.9996697130125596,0.025699511384201235 Q 0.010370450023654136, 0.19973095345065295 -0.9916326076533193, 0.12909210447846153L -0.9916326076533193, 0.12909210447846153 L -0.991082626915056, 0.1332487396831655 L -0.9905152228500215, 0.1374030323623622 M -0.9905152228500215,0.1374030323623622 Q 0.01033615945448753, 0.19973273093744903 0.999407296591877, 0.03442463534906331L 0.999407296591877, 0.03442463534906331 L 0.9995480251240081, 0.030062359699385584 L 0.9996697130125596, 0.025699511384201235 \", \"type\": \"path\"}, {\"fillcolor\": \"#f2e6ce\", \"layer\": \"below\", \"line\": {\"color\": \"rgb(175,175,175)\", \"width\": 0.5}, \"path\": \"M 0.999407296591877,0.03442463534906331 Q -0.015908801186937337, 0.19936627108112973 -0.9922194927621593, -0.12450091639342827L -0.9922194927621593, -0.12450091639342827 L -0.9927982981458643, -0.11979790982598808 L -0.9933548119449983, -0.11509221340176298 M -0.9933548119449983,-0.11509221340176298 Q -0.015947045122591225, 0.19936321564385454 0.9990192659617951, 0.044277604239118105L 0.9990192659617951, 0.044277604239118105 L 0.9992254258819722, 0.03935159807417416 L 0.999407296591877, 0.03442463534906331 \", \"type\": \"path\"}, {\"fillcolor\": \"#f2e6ce\", \"layer\": \"below\", \"line\": {\"color\": \"rgb(175,175,175)\", \"width\": 0.5}, \"path\": \"M 0.9999660172112308,0.008244053778841595 Q -0.03485916802238407, 0.1969386666066042 -0.9420398223076696, -0.3355010777725377L -0.9420398223076696, -0.3355010777725377 L -0.9426633342946512, -0.33374516951783834 L -0.9432835733724498, -0.3319881025062527 M -0.9432835733724498,-0.3319881025062527 Q -0.034906062808496625, 0.19693036022718613 0.9999225365265367, 0.012446724321553887L 0.9999225365265367, 0.012446724321553887 L 0.9999464847944401, 0.010345411893319506 L 0.9999660172112308, 0.008244053778841595 \", \"type\": \"path\"}, {\"fillcolor\": \"#f2e6ce\", \"layer\": \"below\", \"line\": {\"color\": \"rgb(175,175,175)\", \"width\": 0.5}, \"path\": \"M 0.9911849319539668,0.13248558664024587 Q -0.07406296398139768, 0.18578126215065446 -0.8104833187348763, -0.5857617178106648L -0.8104833187348763, -0.5857617178106648 L -0.8214494571941461, -0.5702813246770778 L -0.8321199570088547, -0.5545956879994487 M -0.8321199570088547,-0.5545956879994487 Q -0.07400709362677636, 0.18580352551261659 0.9855479648206535, 0.16939660279317229L 0.9855479648206535, 0.16939660279317229 L 0.9885387408069074, 0.15096740682642085 L 0.9911849319539668, 0.13248558664024587 \", \"type\": \"path\"}, {\"fillcolor\": \"#f2e6ce\", \"layer\": \"below\", \"line\": {\"color\": \"rgb(175,175,175)\", \"width\": 0.5}, \"path\": \"M 0.9781353701483433,0.20796922287868352 Q -0.12554346018502408, 0.15568827703064636 -0.41055257744642687, -0.9118369268416889L -0.41055257744642687, -0.9118369268416889 L -0.4308181490504419, -0.9024387638220951 L -0.45086873427259966, -0.8925902668388357 M -0.45086873427259966,-0.8925902668388357 Q -0.12540008397331648, 0.1558037834569019 0.9683319520058766, 0.24966623865570756L 0.9683319520058766, 0.24966623865570756 L 0.9734569427225491, 0.2288702266902967 L 0.9781353701483433, 0.20796922287868352 \", \"type\": \"path\"}, {\"fillcolor\": \"#f2e6ce\", \"layer\": \"below\", \"line\": {\"color\": \"rgb(175,175,175)\", \"width\": 0.5}, \"path\": \"M 0.9999225365265367,0.012446724321553887 Q -0.13386384789552933, 0.148594987218959 -0.11639465213778927, -0.9932030431657582L -0.11639465213778927, -0.9932030431657582 L -0.11857484724670568, -0.9929451171139422 L -0.12075447085135171, -0.9926824052885244 M -0.12075447085135171,-0.9926824052885244 Q -0.1339939582351086, 0.14847767224902195 0.9998272156922541, 0.018588672923981378L 0.9998272156922541, 0.018588672923981378 L 0.9998795921299413, 0.015517771813711096 L 0.9999225365265367, 0.012446724321553887 \", \"type\": \"path\"}, {\"fillcolor\": \"#f2e6ce\", \"layer\": \"below\", \"line\": {\"color\": \"rgb(175,175,175)\", \"width\": 0.5}, \"path\": \"M 0.9855479648206535,0.16939660279317229 Q -0.16739633184620203, 0.10944618807631544 0.24010539285418675, -0.970746826068639L 0.24010539285418675, -0.970746826068639 L 0.2199560227146062, -0.9755097888138138 L 0.19971236118248697, -0.9798545671633704 M 0.19971236118248697,-0.9798545671633704 Q -0.16727972484407827, 0.10962432967224689 0.9781353701483433, 0.20796922287868352L 0.9781353701483433, 0.20796922287868352 L 0.982031069652995, 0.1887193107135419 L 0.9855479648206535, 0.16939660279317229 \", \"type\": \"path\"}, {\"fillcolor\": \"#f2e6ce\", \"layer\": \"below\", \"line\": {\"color\": \"rgb(175,175,175)\", \"width\": 0.5}, \"path\": \"M 0.9983815873246593,0.056870080807870524 Q -0.18457246849312103, 0.07702599479627541 0.6617857460123178, -0.7496930214260501L 0.6617857460123178, -0.7496930214260501 L 0.6542476412348726, -0.7562803871175066 L 0.6466439701073168, -0.7627919611033191 M 0.6466439701073168,-0.7627919611033191 Q -0.18454843820605749, 0.07708355178444358 0.9970906603658859, 0.07622476638941945L 0.9970906603658859, 0.07622476638941945 L 0.9977830544709001, 0.06655055379725036 L 0.9983815873246593, 0.056870080807870524 \", \"type\": \"path\"}, {\"fillcolor\": \"#f2e6ce\", \"layer\": \"below\", \"line\": {\"color\": \"rgb(175,175,175)\", \"width\": 0.5}, \"path\": \"M 0.9998272156922541,0.018588672923981378 Q -0.19571991211276965, 0.041154781041450386 0.9076696363939897, -0.4196853954671314L 0.9076696363939897, -0.4196853954671314 L 0.9063369994426478, -0.42255560988028296 L 0.9049952863854444, -0.4254215927995751 M 0.9049952863854444,-0.4254215927995751 Q -0.1957360214822961, 0.04107809506637475 0.9996697130125596, 0.025699511384201235L 0.9996697130125596, 0.025699511384201235 L 0.9997547864256002, 0.022144232185885696 L 0.9998272156922541, 0.018588672923981378 \", \"type\": \"path\"}, {\"fillcolor\": \"#f2e6ce\", \"layer\": \"below\", \"line\": {\"color\": \"rgb(175,175,175)\", \"width\": 0.5}, \"path\": \"M 0.9999821135860694,0.005981012283667101 Q -0.19790894511422596, 0.028845267268207204 0.9566731843848004, -0.291163902774787L 0.9566731843848004, -0.291163902774787 L 0.9563749595623122, -0.2921419804173745 L 0.9560757347791091, -0.2931197526039256 M 0.9560757347791091,-0.2931197526039256 Q -0.19791208854759096, 0.028823691760954496 0.9999660172112308, 0.008244053778841595L 0.9999660172112308, 0.008244053778841595 L 0.9999747055846493, 0.007112537584716506 L 0.9999821135860694, 0.005981012283667101 \", \"type\": \"path\"}, {\"fillcolor\": \"#f2e6ce\", \"layer\": \"below\", \"line\": {\"color\": \"rgb(175,175,175)\", \"width\": 0.5}, \"path\": \"M 0.9999996733662111,0.0008082496340998079 Q -0.19961136439940727, 0.012462070558581097 0.9921339868584353, -0.12518047819203265L 0.9921339868584353, -0.12518047819203265 L 0.9920577576110461, -0.12578316884123586 L 0.9919811622478002, -0.12638581307054758 M 0.9919811622478002,-0.12638581307054758 Q -0.19961285757012845, 0.01243813059457186 0.9999974391920489, 0.0022630972900932016L 0.9999974391920489, 0.0022630972900932016 L 0.9999988208521897, 0.0015356738683949178 L 0.9999996733662111, 0.0008082496340998079 \", \"type\": \"path\"}, {\"fillcolor\": \"#ecd5bb\", \"layer\": \"below\", \"line\": {\"color\": \"rgb(175,175,175)\", \"width\": 0.5}, \"path\": \"M 0.5765614652927842,0.817053778364336 Q 0.042028782655174506, 0.19553409275245098 -0.18990917726546963, 0.9818016624503915L -0.18990917726546963, 0.9818016624503915 L -0.1297438608475321, 0.9915475432738342 L -0.06909656577343273, 0.9976099761922581 M -0.06909656577343273,0.9976099761922581 Q 0.04173848143295132, 0.1955962657303845 0.47029686710799523, 0.8825082757619923L 0.47029686710799523, 0.8825082757619923 L 0.5244512988225218, 0.8514404472206908 L 0.5765614652927842, 0.817053778364336 \", \"type\": \"path\"}, {\"fillcolor\": \"#ecd5bb\", \"layer\": \"below\", \"line\": {\"color\": \"rgb(175,175,175)\", \"width\": 0.5}, \"path\": \"M 0.8332911694432741,0.5528343575863034 Q 0.0445470343890392, 0.19497579779844923 -0.5105256979252597, 0.8598624958433334L -0.5105256979252597, 0.8598624958433334 L -0.48951816983415275, 0.8719930971069791 L -0.4682225761000237, 0.8836105585778485 M -0.4682225761000237,0.8836105585778485 Q 0.04431612204608364, 0.1950284115886622 0.804093035615885, 0.5945034819696442L 0.804093035615885, 0.5945034819696442 L 0.8189571647687212, 0.5738546525680329 L 0.8332911694432741, 0.5528343575863034 \", \"type\": \"path\"}, {\"fillcolor\": \"#ecd5bb\", \"layer\": \"below\", \"line\": {\"color\": \"rgb(175,175,175)\", \"width\": 0.5}, \"path\": \"M 0.929694181766841,0.3683323613109279 Q 0.05053856019614389, 0.19350931226507095 -0.6308567762040772, 0.7758993026916565L -0.6308567762040772, 0.7758993026916565 L -0.6266245894796575, 0.7793212584418897 L -0.6223738413919545, 0.7827201297724635 M -0.6223738413919545,0.7827201297724635 Q 0.0502398126129348, 0.1935870895194646 0.9244572101262319, 0.38128580703407233L 0.9244572101262319, 0.38128580703407233 L 0.9270983194644355, 0.37481823067484243 L 0.929694181766841, 0.3683323613109279 \", \"type\": \"path\"}, {\"fillcolor\": \"#ecd5bb\", \"layer\": \"below\", \"line\": {\"color\": \"rgb(175,175,175)\", \"width\": 0.5}, \"path\": \"M 0.8895202962700219,0.45689565824561335 Q 0.020072057249032493, 0.19899023221704015 -0.7803561292788863, 0.6253353592248514L -0.7803561292788863, 0.6253353592248514 L -0.7731495939048257, 0.6342237029982426 L -0.7658418247915038, 0.6430290035449564 M -0.7658418247915038,0.6430290035449564 Q 0.019688847746529934, 0.19902851372206437 0.8769878942040209, 0.4805124695776345L 0.8769878942040209, 0.4805124695776345 L 0.8833330262122788, 0.4687459491053311 L 0.8895202962700219, 0.45689565824561335 \", \"type\": \"path\"}, {\"fillcolor\": \"#ecd5bb\", \"layer\": \"below\", \"line\": {\"color\": \"rgb(175,175,175)\", \"width\": 0.5}, \"path\": \"M 0.8769878942040209,0.4805124695776345 Q -0.007387061667946024, 0.1998635317408205 -0.9100666228442583, 0.41446199100140224L -0.9100666228442583, 0.41446199100140224 L -0.9033354410439964, 0.42893482133518657 L -0.8963741150043267, 0.44329837124696275 M -0.8963741150043267,0.44329837124696275 Q -0.007661681393118067, 0.19985319271462829 0.8598040180112957, 0.5106241774648274L 0.8598040180112957, 0.5106241774648274 L 0.8685264620736117, 0.49564279948153706 L 0.8769878942040209, 0.4805124695776345 \", \"type\": \"path\"}, {\"fillcolor\": \"#ecd5bb\", \"layer\": \"below\", \"line\": {\"color\": \"rgb(175,175,175)\", \"width\": 0.5}, \"path\": \"M 0.9387340639896059,0.3446423611594466 Q -0.002742171313627103, 0.19998120035765043 -0.947830918899925, 0.31877350764661094L -0.947830918899925, 0.31877350764661094 L -0.9465110348239323, 0.32267144428431965 L -0.9451751206332624, 0.3265639161571559 M -0.9451751206332624,0.3265639161571559 Q -0.0031437784305107744, 0.1999752901165038 0.9344428686015855, 0.35611307939984443L 0.9344428686015855, 0.35611307939984443 L 0.9366060268555685, 0.3503842896846633 L 0.9387340639896059, 0.3446423611594466 \", \"type\": \"path\"}, {\"fillcolor\": \"#ecd5bb\", \"layer\": \"below\", \"line\": {\"color\": \"rgb(175,175,175)\", \"width\": 0.5}, \"path\": \"M 0.942711945605986,0.3336078350575364 Q -0.01403933246711839, 0.199506634335497 -0.9801421607134153, 0.19829610382465318L -0.9801421607134153, 0.19829610382465318 L -0.979264628161147, 0.20258526114308145 L -0.9783683261084972, 0.2068705355232038 M -0.9783683261084972,0.2068705355232038 Q -0.01433595154597428, 0.19948553955931614 0.9387340639896059, 0.3446423611594466L 0.9387340639896059, 0.3446423611594466 L 0.940739183805675, 0.33913093054546417 L 0.942711945605986, 0.3336078350575364 \", \"type\": \"path\"}, {\"fillcolor\": \"#ecd5bb\", \"layer\": \"below\", \"line\": {\"color\": \"rgb(175,175,175)\", \"width\": 0.5}, \"path\": \"M 0.8993906631816941,0.4371457822987571 Q -0.040220166037901336, 0.1959141093537769 -0.9988740066854638, 0.047441740778854415L -0.9988740066854638, 0.047441740778854415 L -0.9983531755666125, 0.05736668751166195 L -0.9977337312815124, 0.06728596780214109 M -0.9977337312815124,0.06728596780214109 Q -0.04043585765189661, 0.1958697052020949 0.8895202962700219, 0.45689565824561335L 0.8895202962700219, 0.45689565824561335 L 0.894509988547693, 0.4470479620671657 L 0.8993906631816941, 0.4371457822987571 \", \"type\": \"path\"}, {\"fillcolor\": \"#ecd5bb\", \"layer\": \"below\", \"line\": {\"color\": \"rgb(175,175,175)\", \"width\": 0.5}, \"path\": \"M 0.9086786150852171,0.4174963167344258 Q -0.063181471960567, 0.1897580080020237 -0.9775831183902942, -0.21054986734336345L -0.9775831183902942, -0.21054986734336345 L -0.979597060946429, -0.20097163527502682 L -0.9815171595792275, -0.19137415042665867 M -0.9815171595792275,-0.19137415042665867 Q -0.06338628142143184, 0.1896896922016667 0.8993906631816941, 0.4371457822987571L 0.8993906631816941, 0.4371457822987571 L 0.904088023439863, 0.42734628332606533 L 0.9086786150852171, 0.4174963167344258 \", \"type\": \"path\"}, {\"fillcolor\": \"#ecd5bb\", \"layer\": \"below\", \"line\": {\"color\": \"rgb(175,175,175)\", \"width\": 0.5}, \"path\": \"M 0.917468730235231,0.3978079046984272 Q -0.08141994894492494, 0.18267674157868544 -0.9092045835570227, -0.4163496430152198L -0.9092045835570227, -0.4163496430152198 L -0.9128978348471967, -0.40818812223201756 L -0.916517825605404, -0.3999938441370596 M -0.916517825605404,-0.3999938441370596 Q -0.08175277465280717, 0.18252803575496923 0.9086786150852171, 0.4174963167344258L 0.9086786150852171, 0.4174963167344258 L 0.9131267382446726, 0.40767580244925655 L 0.917468730235231, 0.3978079046984272 \", \"type\": \"path\"}, {\"fillcolor\": \"#ecd5bb\", \"layer\": \"below\", \"line\": {\"color\": \"rgb(175,175,175)\", \"width\": 0.5}, \"path\": \"M 0.7134621327074263,0.7006937884643839 Q -0.14465267670781964, 0.1381144565976459 -0.6669688429398153, -0.7450856075294462L -0.6669688429398153, -0.7450856075294462 L -0.696522457029368, -0.7175349934698462 L -0.7249390313338604, -0.688813037658786 M -0.7249390313338604,-0.688813037658786 Q -0.1449324132228543, 0.13782088229800232 0.6514992944111964, 0.7586492400192024L 0.6514992944111964, 0.7586492400192024 L 0.6830956250567395, 0.7303289443999481 L 0.7134621327074263, 0.7006937884643839 \", \"type\": \"path\"}, {\"fillcolor\": \"#ecd5bb\", \"layer\": \"below\", \"line\": {\"color\": \"rgb(175,175,175)\", \"width\": 0.5}, \"path\": \"M 0.6514992944111964,0.7586492400192024 Q -0.1809334250377891, 0.08522379775681654 -0.17000804487233256, -0.9854426744761396L -0.17000804487233256, -0.9854426744761396 L -0.21558072298772746, -0.9764860223659573 L -0.2606883739503781, -0.9654230014284453 M -0.2606883739503781,-0.9654230014284453 Q -0.18102484029366386, 0.08502944899652998 0.5765614652927842, 0.817053778364336L 0.5765614652927842, 0.817053778364336 L 0.6147243934528761, 0.7887419857557942 L 0.6514992944111964, 0.7586492400192024 \", \"type\": \"path\"}, {\"fillcolor\": \"#ecd5bb\", \"layer\": \"below\", \"line\": {\"color\": \"rgb(175,175,175)\", \"width\": 0.5}, \"path\": \"M 0.9458904827533339,0.3244860469059725 Q -0.1567929293808697, 0.12416109413244397 -0.09904875843701237, -0.9950825812223256L -0.09904875843701237, -0.9950825812223256 L -0.1022676504049943, -0.9947569188905608 L -0.10548547190460489, -0.9944208441183555 M -0.10548547190460489,-0.9944208441183555 Q -0.1569907112214004, 0.12391092199721086 0.942711945605986, 0.3336078350575364L 0.942711945605986, 0.3336078350575364 L 0.9443122284795165, 0.32905077897499263 L 0.9458904827533339, 0.3244860469059725 \", \"type\": \"path\"}, {\"fillcolor\": \"#ecd5bb\", \"layer\": \"below\", \"line\": {\"color\": \"rgb(175,175,175)\", \"width\": 0.5}, \"path\": \"M 0.47029686710799523,0.8825082757619923 Q -0.199690814563242, -0.011116590262706331 0.5653441023079515, -0.8248551666720749L 0.5653441023079515, -0.8248551666720749 L 0.5101956358393712, -0.8600583777688929 L 0.4528632160212813, -0.891580006266887 M 0.4528632160212813,-0.891580006266887 Q -0.1996818552063182, -0.011276378025011899 0.3496059825813188, 0.9368968229977891L 0.3496059825813188, 0.9368968229977891 L 0.4108524056760159, 0.911701870542246 L 0.47029686710799523, 0.8825082757619923 \", \"type\": \"path\"}, {\"fillcolor\": \"#ecd5bb\", \"layer\": \"below\", \"line\": {\"color\": \"rgb(175,175,175)\", \"width\": 0.5}, \"path\": \"M 0.7701792971497674,0.6378274455069257 Q -0.19902109752432307, -0.01976367223503495 0.8805787226518127, -0.47389989788235026L 0.8805787226518127, -0.47389989788235026 L 0.8604340760992388, -0.5095617731808866 L 0.8388459858752585, -0.5443688198096632 M 0.8388459858752585,-0.5443688198096632 Q -0.19899350224416598, -0.020039612386498852 0.7134621327074263, 0.7006937884643839L 0.7134621327074263, 0.7006937884643839 L 0.7424863752058928, 0.669861166685765 L 0.7701792971497674, 0.6378274455069257 \", \"type\": \"path\"}, {\"fillcolor\": \"#ecd5bb\", \"layer\": \"below\", \"line\": {\"color\": \"rgb(175,175,175)\", \"width\": 0.5}, \"path\": \"M 0.804093035615885,0.5945034819696442 Q -0.19769044022025248, -0.03030659739269298 0.9452586374376063, -0.32632209295357256L 0.9452586374376063, -0.32632209295357256 L 0.9375238445818058, -0.34792102672955827 L 0.9292955945248923, -0.36933683541805984 M 0.9292955945248923,-0.36933683541805984 Q -0.19754986196410618, -0.031209806759456327 0.7701792971497674, 0.6378274455069257L 0.7701792971497674, 0.6378274455069257 L 0.7874341787616266, 0.616398746038636 L 0.804093035615885, 0.5945034819696442 \", \"type\": \"path\"}, {\"fillcolor\": \"#ecd5bb\", \"layer\": \"below\", \"line\": {\"color\": \"rgb(175,175,175)\", \"width\": 0.5}, \"path\": \"M 0.9244572101262319,0.38128580703407233 Q -0.19927338963422983, -0.01703279729476126 0.9757549052578895, -0.21886608888808487L 0.9757549052578895, -0.21886608888808487 L 0.9740642733774251, -0.22627149915468545 L 0.9723174396078936, -0.2336638539319893 M 0.9723174396078936,-0.2336638539319893 Q -0.19924980174841175, -0.017306545097696916 0.917468730235231, 0.3978079046984272L 0.917468730235231, 0.3978079046984272 L 0.9210000202887743, 0.38956252723802565 L 0.9244572101262319, 0.38128580703407233 \", \"type\": \"path\"}, {\"fillcolor\": \"#ecd5bb\", \"layer\": \"below\", \"line\": {\"color\": \"rgb(175,175,175)\", \"width\": 0.5}, \"path\": \"M 0.9344428686015855,0.35611307939984443 Q -0.19793765659844276, -0.028647584545942986 0.9970645652190663, -0.07656534976420035L 0.9970645652190663, -0.07656534976420035 L 0.9966586721940107, -0.08167919649746545 L 0.9962265509223718, -0.08679089374649265 M 0.9962265509223718,-0.08679089374649265 Q -0.19789663579495778, -0.028929596281971105 0.929694181766841, 0.3683323613109279L 0.929694181766841, 0.3683323613109279 L 0.9320885490937436, 0.3622305020954474 L 0.9344428686015855, 0.35611307939984443 \", \"type\": \"path\"}, {\"fillcolor\": \"#e6c4a9\", \"layer\": \"below\", \"line\": {\"color\": \"rgb(175,175,175)\", \"width\": 0.5}, \"path\": \"M 0.04550959903310977,0.9989639014478179 Q -0.053514834483664765, 0.1927074531256795 -0.5540941180208906, 0.8324540277845086L -0.5540941180208906, 0.8324540277845086 L -0.532486285416476, 0.8464386308784372 L -0.5105256979252597, 0.8598624958433334 M -0.5105256979252597,0.8598624958433334 Q -0.05363327403732058, 0.1926745232666677 -0.007182247446472299, 0.9999742073281779L -0.007182247446472299, 0.9999742073281779 L 0.01917033253244197, 0.9998162322900122 L 0.04550959903310977, 0.9989639014478179 \", \"type\": \"path\"}, {\"fillcolor\": \"#e6c4a9\", \"layer\": \"below\", \"line\": {\"color\": \"rgb(175,175,175)\", \"width\": 0.5}, \"path\": \"M 0.29597428251886254,0.9551959087472289 Q -0.036916739613013096, 0.19656335959772614 -0.6223738413919545, 0.7827201297724635L -0.6223738413919545, 0.7827201297724635 L -0.6188966325108328, 0.7854724427163254 L -0.6154072522797166, 0.7882093083956376 M -0.6154072522797166,0.7882093083956376 Q -0.03713733336923775, 0.19652180151378143 0.2853401078788598, 0.9584263262430142L 0.2853401078788598, 0.9584263262430142 L 0.29066168309594603, 0.9568258911525293 L 0.29597428251886254, 0.9551959087472289 \", \"type\": \"path\"}, {\"fillcolor\": \"#e6c4a9\", \"layer\": \"below\", \"line\": {\"color\": \"rgb(175,175,175)\", \"width\": 0.5}, \"path\": \"M 0.23576025176310328,0.9718112490029112 Q -0.05901427850706288, 0.19109504162141627 -0.7426784158912313, 0.6696482439081665L -0.7426784158912313, 0.6696482439081665 L -0.7381629631333572, 0.6746224424507251 L -0.7336141956306513, 0.6795661939569922 M -0.7336141956306513,0.6795661939569922 Q -0.05919463189377877, 0.19103925134631372 0.22084117278683654, 0.975309784838712L 0.22084117278683654, 0.975309784838712 L 0.2283074137287426, 0.9735890944523222 L 0.23576025176310328, 0.9718112490029112 \", \"type\": \"path\"}, {\"fillcolor\": \"#e6c4a9\", \"layer\": \"below\", \"line\": {\"color\": \"rgb(175,175,175)\", \"width\": 0.5}, \"path\": \"M 0.18307597387825245,0.9830987680739558 Q -0.08675795401259805, 0.18020282299550117 -0.8826655513457392, 0.4700016217711619L -0.8826655513457392, 0.4700016217711619 L -0.8759339937213164, 0.48243096774919497 L -0.8690274222867983, 0.49476392280921483 M -0.8690274222867983,0.49476392280921483 Q -0.08691143459108248, 0.18012884981956664 0.15353044360003007, 0.988143918105039L 0.15353044360003007, 0.988143918105039 L 0.16832211220335844, 0.985732046016259 L 0.18307597387825245, 0.9830987680739558 \", \"type\": \"path\"}, {\"fillcolor\": \"#e6c4a9\", \"layer\": \"below\", \"line\": {\"color\": \"rgb(175,175,175)\", \"width\": 0.5}, \"path\": \"M 0.26169269622495467,0.9651512486354217 Q -0.09504115981841718, 0.17597493554586144 -0.9506025890965748, 0.3104105629692529L -0.9506025890965748, 0.3104105629692529 L -0.9492259640264236, 0.31459508772087785 L -0.947830918899925, 0.31877350764661094 M -0.947830918899925,0.31877350764661094 Q -0.09539183941932576, 0.17578508745680782 0.24931957813898836, 0.9684212657498785L 0.24931957813898836, 0.9684212657498785 L 0.25551136841760036, 0.9668060511857408 L 0.26169269622495467, 0.9651512486354217 \", \"type\": \"path\"}, {\"fillcolor\": \"#e6c4a9\", \"layer\": \"below\", \"line\": {\"color\": \"rgb(175,175,175)\", \"width\": 0.5}, \"path\": \"M 0.31585373643762976,0.9488078926623599 Q -0.09625681253781558, 0.17531293745773538 -0.9700883092119849, 0.24275228594234158L -0.9700883092119849, 0.24275228594234158 L -0.9694757209434478, 0.2451873294058689 L -0.9688570204203092, 0.2476208270365816 M -0.9688570204203092,0.2476208270365816 Q -0.09639226304134296, 0.1752384992681932 0.30961576437199523, 0.9508617556997153L 0.30961576437199523, 0.9508617556997153 L 0.3127364364750362, 0.9498399450964861 L 0.31585373643762976, 0.9488078926623599 \", \"type\": \"path\"}, {\"fillcolor\": \"#e6c4a9\", \"layer\": \"below\", \"line\": {\"color\": \"rgb(175,175,175)\", \"width\": 0.5}, \"path\": \"M 0.274022952432772,0.9617231522325054 Q -0.11163946404906551, 0.1659416465714301 -0.9940871570683346, 0.10858510096599872L -0.9940871570683346, 0.10858510096599872 L -0.9934290842026268, 0.11444935412806131 L -0.9927364176277533, 0.12030962187462337 M -0.9927364176277533,0.12030962187462337 Q -0.11172207914778012, 0.16588603627459775 0.26169269622495467, 0.9651512486354217L 0.26169269622495467, 0.9651512486354217 L 0.26786330845307854, 0.9634569258584272 L 0.274022952432772, 0.9617231522325054 \", \"type\": \"path\"}, {\"fillcolor\": \"#e6c4a9\", \"layer\": \"below\", \"line\": {\"color\": \"rgb(175,175,175)\", \"width\": 0.5}, \"path\": \"M 0.2853401078788598,0.9584263262430142 Q -0.13094969646810659, 0.15116936526595182 -0.9893223949858252, -0.14574360630748381L -0.9893223949858252, -0.14574360630748381 L -0.9901002629654813, -0.14036192245650123 L -0.990848856056933, -0.1349760884403876 M -0.990848856056933,-0.1349760884403876 Q -0.1310186475506099, 0.1511096092047394 0.274022952432772, 0.9617231522325054L 0.274022952432772, 0.9617231522325054 L 0.27968638789848155, 0.9600914146185768 L 0.2853401078788598, 0.9584263262430142 \", \"type\": \"path\"}, {\"fillcolor\": \"#e6c4a9\", \"layer\": \"below\", \"line\": {\"color\": \"rgb(175,175,175)\", \"width\": 0.5}, \"path\": \"M 0.24931957813898836,0.9684212657498785 Q -0.15050741450571395, 0.1317099775218461 -0.9268008460071585, -0.37555318110810243L -0.9268008460071585, -0.37555318110810243 L -0.9290183428164321, -0.37003367240105356 L -0.93120296884929, -0.36450107106326624 M -0.93120296884929,-0.36450107106326624 Q -0.15064432247877346, 0.1315533659961284 0.23576025176310328, 0.9718112490029112L 0.23576025176310328, 0.9718112490029112 L 0.24254583760822304, 0.9701399469452464 L 0.24931957813898836, 0.9684212657498785 \", \"type\": \"path\"}, {\"fillcolor\": \"#e6c4a9\", \"layer\": \"below\", \"line\": {\"color\": \"rgb(175,175,175)\", \"width\": 0.5}, \"path\": \"M 0.22084117278683654,0.975309784838712 Q -0.1647504934092795, 0.11338992424990398 -0.8321199570088547, -0.5545956879994487L -0.8321199570088547, -0.5545956879994487 L -0.8372757864817388, -0.5467808129144489 L -0.842358224671027, -0.5389180098392292 M -0.842358224671027,-0.5389180098392292 Q -0.16477725602998936, 0.11335102952874905 0.20207858094262116, 0.979369310895648L 0.20207858094262116, 0.979369310895648 L 0.2114696182944444, 0.9773845714652969 L 0.22084117278683654, 0.975309784838712 \", \"type\": \"path\"}, {\"fillcolor\": \"#e6c4a9\", \"layer\": \"below\", \"line\": {\"color\": \"rgb(175,175,175)\", \"width\": 0.5}, \"path\": \"M 0.08566659716985242,0.9963238600622482 Q -0.19238942745771914, 0.054647124375313855 -0.45086873427259966, -0.8925902668388357L -0.45086873427259966, -0.8925902668388357 L -0.4687594077669502, -0.8833258841616598 L -0.4864598094811707, -0.8737029551051908 M -0.4864598094811707,-0.8737029551051908 Q -0.19238810367915987, 0.054651784625360904 0.04550959903310977, 0.9989639014478179L 0.04550959903310977, 0.9989639014478179 L 0.06560138007084076, 0.9978459094132727 L 0.08566659716985242, 0.9963238600622482 \", \"type\": \"path\"}, {\"fillcolor\": \"#e6c4a9\", \"layer\": \"below\", \"line\": {\"color\": \"rgb(175,175,175)\", \"width\": 0.5}, \"path\": \"M 0.30288302175371173,0.9530277410093269 Q -0.19561853872990698, 0.04163396816513997 -0.11145847121662217, -0.9937690924928454L -0.11145847121662217, -0.9937690924928454 L -0.11392691323190642, -0.9934891335296273 L -0.11639465213778927, -0.9932030431657582 M -0.11639465213778927,-0.9932030431657582 Q -0.19566571798512458, 0.041411674747173645 0.29597428251886254, 0.9551959087472289L 0.29597428251886254, 0.9551959087472289 L 0.29943061459708575, 0.9541180781444252 L 0.30288302175371173, 0.9530277410093269 \", \"type\": \"path\"}, {\"fillcolor\": \"#e6c4a9\", \"layer\": \"below\", \"line\": {\"color\": \"rgb(175,175,175)\", \"width\": 0.5}, \"path\": \"M -0.007182247446472299,0.9999742073281779 Q -0.1975656064492567, -0.03110998470487284 0.30047053600826307, -0.9537910971438699L 0.30047053600826307, -0.9537910971438699 L 0.27042089028441835, -0.9627421991882263 L 0.24010539285418675, -0.970746826068639 M 0.24010539285418675,-0.970746826068639 Q -0.19757713733998375, -0.031036668644318186 -0.06909656577343273, 0.9976099761922581L -0.06909656577343273, 0.9976099761922581 L -0.03815772181060226, 0.9992717289437466 L -0.007182247446472299, 0.9999742073281779 \", \"type\": \"path\"}, {\"fillcolor\": \"#e6c4a9\", \"layer\": \"below\", \"line\": {\"color\": \"rgb(175,175,175)\", \"width\": 0.5}, \"path\": \"M 0.12367988248670839,0.9923221687879769 Q -0.1862892170913589, -0.0727758723444011 0.7635908816682513, -0.6457003681531416L 0.7635908816682513, -0.6457003681531416 L 0.7512269387318773, -0.6600440034751716 L 0.7385936005873472, -0.674150942424186 M 0.7385936005873472,-0.674150942424186 Q -0.18627643273771455, -0.07280858882378996 0.08566659716985242, 0.9963238600622482L 0.08566659716985242, 0.9963238600622482 L 0.10469236132312783, 0.9945046553337936 L 0.12367988248670839, 0.9923221687879769 \", \"type\": \"path\"}, {\"fillcolor\": \"#e6c4a9\", \"layer\": \"below\", \"line\": {\"color\": \"rgb(175,175,175)\", \"width\": 0.5}, \"path\": \"M 0.20207858094262116,0.979369310895648 Q -0.17604021682613236, -0.09492018784119799 0.9292955945248923, -0.36933683541805984L 0.9292955945248923, -0.36933683541805984 L 0.9262091139482362, -0.37701018187739066 L 0.9230592745475786, -0.38465773834890915 M 0.9230592745475786,-0.38465773834890915 Q -0.17590602743147135, -0.09516863723558538 0.18307597387825245, 0.9830987680739558L 0.18307597387825245, 0.9830987680739558 L 0.19258630529590504, 0.9812800390370082 L 0.20207858094262116, 0.979369310895648 \", \"type\": \"path\"}, {\"fillcolor\": \"#e6c4a9\", \"layer\": \"below\", \"line\": {\"color\": \"rgb(175,175,175)\", \"width\": 0.5}, \"path\": \"M 0.3200048327448882,0.947415910263236 Q -0.17750725578973234, -0.09214756720607736 0.9589815494225146, -0.28346849536975577L 0.9589815494225146, -0.28346849536975577 L 0.9584415167562377, -0.28528907963327765 L 0.9578980277942567, -0.2871086350980643 M 0.9578980277942567,-0.2871086350980643 Q -0.1774805121830345, -0.09219906613001967 0.31585373643762976, 0.9488078926623599L 0.31585373643762976, 0.9488078926623599 L 0.31793004640087036, 0.9481141732911392 L 0.3200048327448882, 0.947415910263236 \", \"type\": \"path\"}, {\"fillcolor\": \"#e6c4a9\", \"layer\": \"below\", \"line\": {\"color\": \"rgb(175,175,175)\", \"width\": 0.5}, \"path\": \"M 0.30961576437199523,0.9508617556997153 Q -0.1675844487823843, -0.10915792470684126 0.9948689849925244, -0.1011716496848018L 0.9948689849925244, -0.1011716496848018 L 0.9945781694829681, -0.10399165729955626 L 0.9942793605321457, -0.1068108291316348 M 0.9942793605321457,-0.1068108291316348 Q -0.1675078517794303, -0.10927542995678584 0.30288302175371173, 0.9530277410093269L 0.30288302175371173, 0.9530277410093269 L 0.30625130795550337, 0.9519507006014247 L 0.30961576437199523, 0.9508617556997153 \", \"type\": \"path\"}, {\"fillcolor\": \"#e1b396\", \"layer\": \"below\", \"line\": {\"color\": \"rgb(175,175,175)\", \"width\": 0.5}, \"path\": \"M -0.2973570989209366,0.9547663356661275 Q -0.09580556610980717, 0.17555994276138098 -0.6420509114087748, 0.7666620032055597L -0.6420509114087748, 0.7666620032055597 L -0.6364706020087838, 0.7713009612197929 L -0.6308567762040772, 0.7758993026916565 M -0.6308567762040772,0.7758993026916565 Q -0.09609064021785611, 0.1754040731069907 -0.3142683215283306, 0.9493341993648843L -0.3142683215283306, 0.9493341993648843 L -0.30582477133341324, 0.9520878159281662 L -0.2973570989209366, 0.9547663356661275 \", \"type\": \"path\"}, {\"fillcolor\": \"#e1b396\", \"layer\": \"below\", \"line\": {\"color\": \"rgb(175,175,175)\", \"width\": 0.5}, \"path\": \"M -0.3142683215283306,0.9493341993648843 Q -0.11072580011350826, 0.16655268592617598 -0.7537471943113663, 0.6571644901147227L -0.7537471943113663, 0.6571644901147227 L -0.7482388407084651, 0.6634294516037497 L -0.7426784158912313, 0.6696482439081665 M -0.7426784158912313,0.6696482439081665 Q -0.11088401221120354, 0.166447396603088 -0.3318562407318943, 0.9433299716892786L -0.3318562407318943, 0.9433299716892786 L -0.32307622966799476, 0.9463729443636442 L -0.3142683215283306, 0.9493341993648843 \", \"type\": \"path\"}, {\"fillcolor\": \"#e1b396\", \"layer\": \"below\", \"line\": {\"color\": \"rgb(175,175,175)\", \"width\": 0.5}, \"path\": \"M -0.43580352746740725,0.900041824276497 Q -0.14550914557568692, 0.13721183824230895 -0.9240506801215259, 0.38226998386865974L -0.9240506801215259, 0.38226998386865974 L -0.9171998972908956, 0.39842734395316115 L -0.9100666228442583, 0.41446199100140224 M -0.9100666228442583,0.41446199100140224 Q -0.14559469407864775, 0.13712105985640927 -0.4682225761000237, 0.8836105585778485L -0.4682225761000237, 0.8836105585778485 L -0.4520877078686643, 0.8919734886161457 L -0.43580352746740725, 0.900041824276497 \", \"type\": \"path\"}, {\"fillcolor\": \"#e1b396\", \"layer\": \"below\", \"line\": {\"color\": \"rgb(175,175,175)\", \"width\": 0.5}, \"path\": \"M -0.22065460403223022,0.9753520111833367 Q -0.13191910292760758, 0.15032415069700306 -0.938436236746574, 0.3454524997172956L -0.938436236746574, 0.3454524997172956 L -0.9381556015251633, 0.3462139040058314 L -0.9378743485352143, 0.3469750803150672 M -0.9378743485352143,0.3469750803150672 Q -0.13197017493568194, 0.15027931636604389 -0.22289980830632292, 0.9748413591231162L -0.22289980830632292, 0.9748413591231162 L -0.2217773531441646, 0.9750973313635765 L -0.22065460403223022, 0.9753520111833367 \", \"type\": \"path\"}, {\"fillcolor\": \"#e1b396\", \"layer\": \"below\", \"line\": {\"color\": \"rgb(175,175,175)\", \"width\": 0.5}, \"path\": \"M -0.23570651824542443,0.9718242831173851 Q -0.14300253997192044, 0.13982229279188385 -0.9768787306727643, 0.21379416633568069L -0.9768787306727643, 0.21379416633568069 L -0.9761295399277482, 0.21718913711427326 L -0.975368550594329, 0.22058148270314495 M -0.975368550594329,0.22058148270314495 Q -0.14313725754772283, 0.13968437815918022 -0.2443281158024927, 0.9696926171877374L -0.2443281158024927, 0.9696926171877374 L -0.24001968350801645, 0.9707680214802668 L -0.23570651824542443, 0.9718242831173851 \", \"type\": \"path\"}, {\"fillcolor\": \"#e1b396\", \"layer\": \"below\", \"line\": {\"color\": \"rgb(175,175,175)\", \"width\": 0.5}, \"path\": \"M -0.2530895580279487,0.9674428539284465 Q -0.1506558022270778, 0.1315402191548867 -0.9927364176277533, 0.12030962187462337L -0.9927364176277533, 0.12030962187462337 L -0.992194230039618, 0.1247020844897535 L -0.9916326076533193, 0.12909210447846153 M -0.9916326076533193,0.12909210447846153 Q -0.15069019744982615, 0.13150081517820497 -0.26214773685542386, 0.9650277530006997L -0.26214773685542386, 0.9650277530006997 L -0.2576214775359514, 0.9662459181348159 L -0.2530895580279487, 0.9674428539284465 \", \"type\": \"path\"}, {\"fillcolor\": \"#e1b396\", \"layer\": \"below\", \"line\": {\"color\": \"rgb(175,175,175)\", \"width\": 0.5}, \"path\": \"M -0.2443281158024927,0.9696926171877374 Q -0.1645787701471454, 0.11363902682112817 -0.9933548119449983, -0.11509221340176298L -0.9933548119449983, -0.11509221340176298 L -0.993837465814761, -0.11084715396839827 L -0.994301978687894, -0.1066000711882437 M -0.994301978687894,-0.1066000711882437 Q -0.16460722495879482, 0.11359780583869004 -0.2530895580279487, 0.9674428539284465L -0.2530895580279487, 0.9674428539284465 L -0.24871138075770197, 0.968577642257758 L -0.2443281158024927, 0.9696926171877374 \", \"type\": \"path\"}, {\"fillcolor\": \"#e1b396\", \"layer\": \"below\", \"line\": {\"color\": \"rgb(175,175,175)\", \"width\": 0.5}, \"path\": \"M -0.2850847846376895,0.9585023033712972 Q -0.17971348942268203, 0.08776708790613688 -0.93120296884929, -0.36450107106326624L -0.93120296884929, -0.36450107106326624 L -0.9332259616815676, -0.3592900004780446 L -0.935219793296101, -0.3540677028863236 M -0.935219793296101,-0.3540677028863236 Q -0.17978577073008117, 0.08761892856563985 -0.2973570989209366, 0.9547663356661275L -0.2973570989209366, 0.9547663356661275 L -0.29122693263931393, 0.9566539989492003 L -0.2850847846376895, 0.9585023033712972 \", \"type\": \"path\"}, {\"fillcolor\": \"#e1b396\", \"layer\": \"below\", \"line\": {\"color\": \"rgb(175,175,175)\", \"width\": 0.5}, \"path\": \"M -0.2729237820030919,0.9620356590153656 Q -0.18589567376619198, 0.0737753242962274 -0.8583428820769436, -0.5130765018862645L -0.8583428820769436, -0.5130765018862645 L -0.8615702710469949, -0.507638324053659 L -0.8647632059789686, -0.5021798458570156 M -0.8647632059789686,-0.5021798458570156 Q -0.18589628136677205, 0.07377379327380364 -0.2850847846376895, 0.9585023033712972L -0.2850847846376895, 0.9585023033712972 L -0.2790098766381788, 0.9602882321148939 L -0.2729237820030919, 0.9620356590153656 \", \"type\": \"path\"}, {\"fillcolor\": \"#e1b396\", \"layer\": \"below\", \"line\": {\"color\": \"rgb(175,175,175)\", \"width\": 0.5}, \"path\": \"M -0.35379462485193586,0.9353231331608761 Q -0.1991802742328593, 0.01808917788410989 -0.516505029118565, -0.8562841554619764L -0.516505029118565, -0.8562841554619764 L -0.52750587928568, -0.8495513800348049 L -0.5384189793934481, -0.8426772826111535 M -0.5384189793934481,-0.8426772826111535 Q -0.19917454876322715, 0.0181521107578388 -0.37721615702714895, 0.9261252457835654L -0.37721615702714895, 0.9261252457835654 L -0.3655343227234882, 0.930797861466753 L -0.35379462485193586, 0.9353231331608761 \", \"type\": \"path\"}, {\"fillcolor\": \"#e1b396\", \"layer\": \"below\", \"line\": {\"color\": \"rgb(175,175,175)\", \"width\": 0.5}, \"path\": \"M -0.22546430831397363,0.9742514283676988 Q -0.199748822579261, -0.010020373156670313 -0.12683136432315342, -0.9919242939982504L -0.12683136432315342, -0.9919242939982504 L -0.12826390915940908, -0.9917400715949451 L -0.12969618642142572, -0.9915537803002613 M -0.12969618642142572,-0.9915537803002613 Q -0.19974265776110486, -0.010142517958088348 -0.22946820732857193, 0.973316157178854L -0.22946820732857193, 0.973316157178854 L -0.2274667385141462, 0.9737858506210373 L -0.22546430831397363, 0.9742514283676988 \", \"type\": \"path\"}, {\"fillcolor\": \"#e1b396\", \"layer\": \"below\", \"line\": {\"color\": \"rgb(175,175,175)\", \"width\": 0.5}, \"path\": \"M -0.4031098376647485,0.9151516042590431 Q -0.19173084647294406, -0.056914695033605835 0.1615000587575624, -0.9868727025413683L 0.1615000587575624, -0.9868727025413683 L 0.14305787939766795, -0.9897143240057923 L 0.12456588888754623, -0.992211338035227 M 0.12456588888754623,-0.992211338035227 Q -0.19176785178823608, -0.056789884843386707 -0.43580352746740725, 0.900041824276497L -0.43580352746740725, 0.900041824276497 L -0.4195247131124933, 0.9077439149274867 L -0.4031098376647485, 0.9151516042590431 \", \"type\": \"path\"}, {\"fillcolor\": \"#e1b396\", \"layer\": \"below\", \"line\": {\"color\": \"rgb(175,175,175)\", \"width\": 0.5}, \"path\": \"M -0.3318562407318943,0.9433299716892786 Q -0.1712758072749589, -0.10326953976033369 0.6793603508101153, -0.7338048199263596L 0.6793603508101153, -0.7338048199263596 L 0.6706201025858347, -0.7418009692685529 L 0.6617857460123178, -0.7496930214260501 M 0.6617857460123178,-0.7496930214260501 Q -0.17129325649109894, -0.10324059415111185 -0.35379462485193586, 0.9353231331608761L -0.35379462485193586, 0.9353231331608761 L -0.34284880739878465, 0.9393905978160688 L -0.3318562407318943, 0.9433299716892786 \", \"type\": \"path\"}, {\"fillcolor\": \"#e1b396\", \"layer\": \"below\", \"line\": {\"color\": \"rgb(175,175,175)\", \"width\": 0.5}, \"path\": \"M -0.22946820732857193,0.973316157178854 Q -0.1553320355803602, -0.12598396216368857 0.9049952863854444, -0.4254215927995751L 0.9049952863854444, -0.4254215927995751 L 0.9037984638828148, -0.4279583352185868 L 0.9025945307943921, -0.4304917106984189 M 0.9025945307943921,-0.4304917106984189 Q -0.15528135006474922, -0.1260464292317272 -0.23570651824542443, 0.9718242831173851L -0.23570651824542443, 0.9718242831173851 L -0.23258855894102912, 0.9725752218978928 L -0.22946820732857193, 0.973316157178854 \", \"type\": \"path\"}, {\"fillcolor\": \"#e1b396\", \"layer\": \"below\", \"line\": {\"color\": \"rgb(175,175,175)\", \"width\": 0.5}, \"path\": \"M -0.26214773685542386,0.9650277530006997 Q -0.13932704601901255, -0.14348510113463336 0.9723174396078936, -0.2336638539319893L 0.9723174396078936, -0.2336638539319893 L 0.9711449398752398, -0.23849005378572272 L 0.9699484849485673, -0.24331037081468365 M 0.9699484849485673,-0.24331037081468365 Q -0.13923729701998996, -0.14357219479609237 -0.2729237820030919, 0.9620356590153656L -0.2729237820030919, 0.9620356590153656 L -0.267539942307675, 0.963546770670737 L -0.26214773685542386, 0.9650277530006997 \", \"type\": \"path\"}, {\"fillcolor\": \"#e1b396\", \"layer\": \"below\", \"line\": {\"color\": \"rgb(175,175,175)\", \"width\": 0.5}, \"path\": \"M -0.22289980830632292,0.9748413591231162 Q -0.13366860939037772, -0.1487706384460409 0.9930519791438797, -0.11767653427265576L 0.9930519791438797, -0.11767653427265576 L 0.9929243109834195, -0.1187489480294524 L 0.9927954847054088, -0.11982122328098806 M 0.9927954847054088,-0.11982122328098806 Q -0.13363353251889484, -0.14880214711663767 -0.22546430831397363, 0.9742514283676988L -0.22546430831397363, 0.9742514283676988 L -0.2241822523589875, 0.9745472372990707 L -0.22289980830632292, 0.9748413591231162 \", \"type\": \"path\"}, {\"fillcolor\": \"#dba284\", \"layer\": \"below\", \"line\": {\"color\": \"rgb(175,175,175)\", \"width\": 0.5}, \"path\": \"M -0.6420509114087748,0.7666620032055597 Q -0.14133106789558286, 0.14151158697256613 -0.7658418247915038, 0.6430290035449564L -0.7658418247915038, 0.6430290035449564 L -0.759827381541128, 0.6501248728208705 L -0.7537471943113663, 0.6571644901147227 M -0.7537471943113663,0.6571644901147227 Q -0.1412127526088058, 0.14162965261781946 -0.6549396444206534, 0.7556811908246414L -0.6549396444206534, 0.7556811908246414 L -0.6485185194254814, 0.7611988767478454 L -0.6420509114087748, 0.7666620032055597 \", \"type\": \"path\"}, {\"fillcolor\": \"#dba284\", \"layer\": \"below\", \"line\": {\"color\": \"rgb(175,175,175)\", \"width\": 0.5}, \"path\": \"M -0.5918387627879874,0.8060563744934869 Q -0.14360481534564803, 0.13920365300358442 -0.8240823723352084, 0.5664699847356212L -0.8240823723352084, 0.5664699847356212 L -0.8218719083114222, 0.5696723324232459 L -0.8196490001755635, 0.5728660545984542 M -0.8196490001755635,0.5728660545984542 Q -0.14352143892464775, 0.13928961400261905 -0.5971336162614572, 0.8021417856778904L -0.5971336162614572, 0.8021417856778904 L -0.5944894116273415, 0.8041034382857577 L -0.5918387627879874, 0.8060563744934869 \", \"type\": \"path\"}, {\"fillcolor\": \"#dba284\", \"layer\": \"below\", \"line\": {\"color\": \"rgb(175,175,175)\", \"width\": 0.5}, \"path\": \"M -0.5801876463890409,0.8144828389705613 Q -0.15849612343961517, 0.12197941979946565 -0.9358882956947805, 0.35229688897507905L -0.9358882956947805, 0.35229688897507905 L -0.9358270214751033, 0.3524596230450184 L -0.9357657189589111, 0.3526223464576686 M -0.9357657189589111,0.3526223464576686 Q -0.1584995007431468, 0.12197503131449981 -0.580515958987188, 0.8142488694257951L -0.580515958987188, 0.8142488694257951 L -0.5803518144787533, 0.8143658707431315 L -0.5801876463890409, 0.8144828389705613 \", \"type\": \"path\"}, {\"fillcolor\": \"#dba284\", \"layer\": \"below\", \"line\": {\"color\": \"rgb(175,175,175)\", \"width\": 0.5}, \"path\": \"M -0.602938762728038,0.7977874706962893 Q -0.16881098700851882, 0.10725134341913717 -0.9783683261084972, 0.2068705355232038L -0.9783683261084972, 0.2068705355232038 L -0.9776296576049918, 0.21033366960890162 L -0.9768787306727643, 0.21379416633568069 M -0.9768787306727643,0.21379416633568069 Q -0.1688275570494051, 0.1072252581285299 -0.6088187719438812, 0.7933093362168028L -0.6088187719438812, 0.7933093362168028 L -0.6058829046364044, 0.7955538359340327 L -0.602938762728038, 0.7977874706962893 \", \"type\": \"path\"}, {\"fillcolor\": \"#dba284\", \"layer\": \"below\", \"line\": {\"color\": \"rgb(175,175,175)\", \"width\": 0.5}, \"path\": \"M -0.5812816547003813,0.8137024258958472 Q -0.17022941919112758, 0.1049854506198424 -0.9880476513644166, 0.15414875488715482L -0.9880476513644166, 0.15414875488715482 L -0.9879276637239355, 0.1549158844307665 L -0.9878070804769115, 0.1556829205779512 M -0.9878070804769115,0.1556829205779512 Q -0.17021844330719985, 0.10500324546447881 -0.5823746132759068, 0.8129205433569372L -0.5823746132759068, 0.8129205433569372 L -0.581828265328526, 0.8133116682212289 L -0.5812816547003813, 0.8137024258958472 \", \"type\": \"path\"}, {\"fillcolor\": \"#dba284\", \"layer\": \"below\", \"line\": {\"color\": \"rgb(175,175,175)\", \"width\": 0.5}, \"path\": \"M -0.5855382386664818,0.8106447872276452 Q -0.18212018337869407, 0.08265735784617632 -0.9956664157440409, -0.09299671262692355L -0.9956664157440409, -0.09299671262692355 L -0.9958096942018291, -0.09144972899719073 L -0.995950569086637, -0.08990252463643016 M -0.995950569086637,-0.08990252463643016 Q -0.18210284056353387, 0.08269555888130976 -0.5877148708053787, 0.8090681248412998L -0.5877148708053787, 0.8090681248412998 L -0.58662708443049, 0.8098571872945147 L -0.5855382386664818, 0.8106447872276452 \", \"type\": \"path\"}, {\"fillcolor\": \"#dba284\", \"layer\": \"below\", \"line\": {\"color\": \"rgb(175,175,175)\", \"width\": 0.5}, \"path\": \"M -0.5799687189323003,0.8146387451257315 Q -0.19018923750025463, 0.06187126909213793 -0.9482640099592851, -0.3174828616097836L -0.9482640099592851, -0.3174828616097836 L -0.9483095059044995, -0.31734694107737055 L -0.9483549823673854, -0.31721101402529556 M -0.9483549823673854,-0.31721101402529556 Q -0.1901886838072711, 0.06187297109124354 -0.5801876463890409, 0.8144828389705613L -0.5801876463890409, 0.8144828389705613 L -0.5800781878984839, 0.814560799403219 L -0.5799687189323003, 0.8146387451257315 \", \"type\": \"path\"}, {\"fillcolor\": \"#dba284\", \"layer\": \"below\", \"line\": {\"color\": \"rgb(175,175,175)\", \"width\": 0.5}, \"path\": \"M -0.5839029879677717,0.8118234417915685 Q -0.19469020921967248, 0.04577906108692228 -0.8844964178078185, -0.4665469825056604L -0.8844964178078185, -0.4665469825056604 L -0.8850704864235803, -0.4654570163419248 L -0.8856432118731762, -0.46436634380945857 M -0.8856432118731762,-0.46436634380945857 Q -0.19467994875385827, 0.04582267509863568 -0.5855382386664818, 0.8106447872276452L -0.5855382386664818, 0.8106447872276452 L -0.5847209103021732, 0.8112345265429707 L -0.5839029879677717, 0.8118234417915685 \", \"type\": \"path\"}, {\"fillcolor\": \"#dba284\", \"layer\": \"below\", \"line\": {\"color\": \"rgb(175,175,175)\", \"width\": 0.5}, \"path\": \"M -0.580515958987188,0.8142488694257951 Q -0.19984723688428194, 0.00781549164913537 -0.6423319528566122, -0.7664265537802113L -0.6423319528566122, -0.7664265537802113 L -0.6427841031233427, -0.7660473854611867 L -0.6432360295671992, -0.7656679503979681 M -0.6432360295671992,-0.7656679503979681 Q -0.19984629955539598, 0.007839423066459973 -0.5812816547003813, 0.8137024258958472L -0.5812816547003813, 0.8137024258958472 L -0.5808988710977716, 0.8139757376957464 L -0.580515958987188, 0.8142488694257951 \", \"type\": \"path\"}, {\"fillcolor\": \"#dba284\", \"layer\": \"below\", \"line\": {\"color\": \"rgb(175,175,175)\", \"width\": 0.5}, \"path\": \"M -0.5971336162614572,0.8021417856778904 Q -0.19084871843102702, -0.05980607555453357 -0.03256441264087175, -0.9994696388732152L -0.03256441264087175, -0.9994696388732152 L -0.03716272912672664, -0.9993092271983951 L -0.041760258868447774, -0.999127659900996 M -0.041760258868447774,-0.999127659900996 Q -0.19090680488177797, -0.05962039793418657 -0.602938762728038, 0.7977874706962893L -0.602938762728038, 0.7977874706962893 L -0.6000401392557974, 0.7999698939846945 L -0.5971336162614572, 0.8021417856778904 \", \"type\": \"path\"}, {\"fillcolor\": \"#dba284\", \"layer\": \"below\", \"line\": {\"color\": \"rgb(175,175,175)\", \"width\": 0.5}, \"path\": \"M -0.5877148708053787,0.8090681248412998 Q -0.16061707763692604, -0.11917279207677262 0.6039521521895839, -0.797020575559734L 0.6039521521895839, -0.797020575559734 L 0.6014224831433829, -0.7989311589678095 L 0.5988867700691946, -0.8008337134737071 M 0.5988867700691946,-0.8008337134737071 Q -0.16069055445837044, -0.11907369864021813 -0.5918387627879874, 0.8060563744934869L -0.5918387627879874, 0.8060563744934869 L -0.5897787392665724, 0.8075648820430048 L -0.5877148708053787, 0.8090681248412998 \", \"type\": \"path\"}, {\"fillcolor\": \"#dba284\", \"layer\": \"below\", \"line\": {\"color\": \"rgb(175,175,175)\", \"width\": 0.5}, \"path\": \"M -0.6088187719438812,0.7933093362168028 Q -0.11057689602468641, -0.1666515828474056 0.9675576817941062, -0.2526502174968689L 0.9675576817941062, -0.2526502174968689 L 0.9664036739288973, -0.2570290625916251 L 0.9652298489720559, -0.26140263704366534 M 0.9652298489720559,-0.26140263704366534 Q -0.11063729412659407, -0.16661149164552103 -0.6154072522797166, 0.7882093083956376L -0.6154072522797166, 0.7882093083956376 L -0.6121183236658769, 0.7907661840471409 L -0.6088187719438812, 0.7933093362168028 \", \"type\": \"path\"}, {\"fillcolor\": \"#dba284\", \"layer\": \"below\", \"line\": {\"color\": \"rgb(175,175,175)\", \"width\": 0.5}, \"path\": \"M -0.5823746132759068,0.8129205433569372 Q -0.10207867750168974, -0.1719882077338619 0.9925508144695758, -0.12183136170864049L 0.9925508144695758, -0.12183136170864049 L 0.9924352421288085, -0.12276925584499279 L 0.9923187835410109, -0.12370704034810781 M 0.9923187835410109,-0.12370704034810781 Q -0.10207941737129066, -0.17198776860328716 -0.5839029879677717, 0.8118234417915685L -0.5839029879677717, 0.8118234417915685 L -0.5831390586289331, 0.8123723520045236 L -0.5823746132759068, 0.8129205433569372 \", \"type\": \"path\"}, {\"fillcolor\": \"#d59171\", \"layer\": \"below\", \"line\": {\"color\": \"rgb(175,175,175)\", \"width\": 0.5}, \"path\": \"M -0.6900893139618419,0.7237242145704912 Q -0.15123827421439812, 0.13087010511438632 -0.8153499348227924, 0.5789684652763638L -0.8153499348227924, 0.5789684652763638 L -0.8131833499169723, 0.5820075939520127 L -0.8110054370472943, 0.5850386150329969 M -0.8110054370472943,0.5850386150329969 Q -0.15120390425956765, 0.13090981375230623 -0.6950949556996645, 0.7189179386834644L -0.6950949556996645, 0.7189179386834644 L -0.6925963039905682, 0.7213254187248669 L -0.6900893139618419, 0.7237242145704912 \", \"type\": \"path\"}, {\"fillcolor\": \"#d59171\", \"layer\": \"below\", \"line\": {\"color\": \"rgb(175,175,175)\", \"width\": 0.5}, \"path\": \"M -0.6783529910669077,0.7347361563926059 Q -0.16585371661705592, 0.11177005271676899 -0.9356430290443967, 0.3529477612914214L -0.9356430290443967, 0.3529477612914214 L -0.9356225697228733, 0.35300199294786866 L -0.9356021072579797, 0.35305622341835013 M -0.9356021072579797,0.35305622341835013 Q -0.1658554895075274, 0.11176742190915234 -0.678461466988458, 0.734635990005846L -0.678461466988458, 0.734635990005846 L -0.6784072308763708, 0.7346860752012757 L -0.6783529910669077, 0.7347361563926059 \", \"type\": \"path\"}, {\"fillcolor\": \"#d59171\", \"layer\": \"below\", \"line\": {\"color\": \"rgb(175,175,175)\", \"width\": 0.5}, \"path\": \"M -0.7020675937854113,0.7121103101039632 Q -0.17633845261479156, 0.09436498359784158 -0.9819627846434424, 0.18907429644268514L -0.9819627846434424, 0.18907429644268514 L -0.9810633081413793, 0.19368733933505575 L -0.9801421607134153, 0.19829610382465318 M -0.9801421607134153,0.19829610382465318 Q -0.17640345458278883, 0.0942434146837749 -0.7097020761761373, 0.704501925527021L -0.7097020761761373, 0.704501925527021 L -0.705895085784568, 0.7083164037809637 L -0.7020675937854113, 0.7121103101039632 \", \"type\": \"path\"}, {\"fillcolor\": \"#d59171\", \"layer\": \"below\", \"line\": {\"color\": \"rgb(175,175,175)\", \"width\": 0.5}, \"path\": \"M -0.6820328606916124,0.7313215277405798 Q -0.17711313846671678, 0.0929028319399878 -0.9893733904526769, 0.14539702288621656L -0.9893733904526769, 0.14539702288621656 L -0.9891919958499213, 0.14662603911464397 L -0.9890090745431847, 0.14785482904265745 M -0.9890090745431847,0.14785482904265745 Q -0.1771074584555571, 0.09291365970304438 -0.6837586222865929, 0.7297082611898679L -0.6837586222865929, 0.7297082611898679 L -0.682896217884674, 0.7305154040804395 L -0.6820328606916124, 0.7313215277405798 \", \"type\": \"path\"}, {\"fillcolor\": \"#d59171\", \"layer\": \"below\", \"line\": {\"color\": \"rgb(175,175,175)\", \"width\": 0.5}, \"path\": \"M -0.6856955423180174,0.7278884689601834 Q -0.1873291337379527, 0.07005566110592515 -0.9950538521589766, -0.09933695839707213L -0.9950538521589766, -0.09933695839707213 L -0.9953651822015234, -0.09616732324926243 L -0.9956664157440409, -0.09299671262692355 M -0.9956664157440409,-0.09299671262692355 Q -0.18731805714234862, 0.07008527283542397 -0.6900893139618419, 0.7237242145704912L -0.6900893139618419, 0.7237242145704912 L -0.687895579245792, 0.7258096665477087 L -0.6856955423180174, 0.7278884689601834 \", \"type\": \"path\"}, {\"fillcolor\": \"#d59171\", \"layer\": \"below\", \"line\": {\"color\": \"rgb(175,175,175)\", \"width\": 0.5}, \"path\": \"M -0.6796537254203219,0.7335331032218503 Q -0.1938319823469011, 0.04928653588426183 -0.9474875990016237, -0.31979251044722473L -0.9474875990016237, -0.31979251044722473 L -0.947739406599603, -0.31904547822878243 L -0.9479906252114684, -0.3182982477349967 M -0.9479906252114684,-0.3182982477349967 Q -0.19383315242353064, 0.04928193402816435 -0.6808441910347924, 0.7324282814953141L -0.6808441910347924, 0.7324282814953141 L -0.6802491825261083, 0.7329809340443729 L -0.6796537254203219, 0.7335331032218503 \", \"type\": \"path\"}, {\"fillcolor\": \"#d59171\", \"layer\": \"below\", \"line\": {\"color\": \"rgb(175,175,175)\", \"width\": 0.5}, \"path\": \"M -0.6837586222865929,0.7297082611898679 Q -0.1973764983383178, 0.032288045832847063 -0.8806350328759859, -0.47379524994612515L -0.8806350328759859, -0.47379524994612515 L -0.8813344732595596, -0.47249290602536526 L -0.8820319876483332, -0.4711895295580437 M -0.8820319876483332,-0.4711895295580437 Q -0.197371671086427, 0.03231754094220781 -0.6856955423180174, 0.7278884689601834L -0.6856955423180174, 0.7278884689601834 L -0.6847276868574597, 0.7287990085413348 L -0.6837586222865929, 0.7297082611898679 \", \"type\": \"path\"}, {\"fillcolor\": \"#d59171\", \"layer\": \"below\", \"line\": {\"color\": \"rgb(175,175,175)\", \"width\": 0.5}, \"path\": \"M -0.7097020761761373,0.704501925527021 Q -0.1995107193052481, -0.013981161693596887 -0.6045091120700439, -0.7965982258480665L -0.6045091120700439, -0.7965982258480665 L -0.6093997537487731, -0.7928631282453074 L -0.6142673178670454, -0.7890980054469954 M -0.6142673178670454,-0.7890980054469954 Q -0.19952135118370404, -0.01382860881755817 -0.7172541104630754, 0.6968116969625455L -0.7172541104630754, 0.6968116969625455 L -0.7134884543920976, 0.7006669861276293 L -0.7097020761761373, 0.704501925527021 \", \"type\": \"path\"}, {\"fillcolor\": \"#d59171\", \"layer\": \"below\", \"line\": {\"color\": \"rgb(175,175,175)\", \"width\": 0.5}, \"path\": \"M -0.7251296384267738,0.6886123782470486 Q -0.18305976032106158, -0.08055510009425532 0.017870760360033364, -0.9998403052108643L 0.017870760360033364, -0.9998403052108643 L 0.010714212566818532, -0.9999426011772241 L 0.003557115920486173, -0.9999936734431515 M 0.003557115920486173,-0.9999936734431515 Q -0.1831366890553644, -0.08038005425376857 -0.7336141956306513, 0.6795661939569922L -0.7336141956306513, 0.6795661939569922 L -0.7293859415376003, 0.684102439907437 L -0.7251296384267738, 0.6886123782470486 \", \"type\": \"path\"}, {\"fillcolor\": \"#d59171\", \"layer\": \"below\", \"line\": {\"color\": \"rgb(175,175,175)\", \"width\": 0.5}, \"path\": \"M -0.7172541104630754,0.6968116969625455 Q -0.14701649277212323, -0.13559554142000482 0.6366624298801813, -0.7711426264829764L 0.6366624298801813, -0.7711426264829764 L 0.6316957915224123, -0.7752163742935729 L 0.6267030875531231, -0.7792581344146383 M 0.6267030875531231,-0.7792581344146383 Q -0.14711667573251394, -0.13548683966132777 -0.7251296384267738, 0.6886123782470486L -0.7251296384267738, 0.6886123782470486 L -0.7212035267330809, 0.692723229744583 L -0.7172541104630754, 0.6968116969625455 \", \"type\": \"path\"}, {\"fillcolor\": \"#d59171\", \"layer\": \"below\", \"line\": {\"color\": \"rgb(175,175,175)\", \"width\": 0.5}, \"path\": \"M -0.6790036246886605,0.7341349178861203 Q -0.1197101705216467, -0.16021696250297057 0.8965004062013018, -0.44304291178270866L 0.8965004062013018, -0.44304291178270866 L 0.8963091396509131, -0.44342973082354314 L 0.8961177061971292, -0.443816467292501 M 0.8961177061971292,-0.443816467292501 Q -0.11970833998364819, -0.16021833021960782 -0.6796537254203219, 0.7335331032218503L -0.6796537254203219, 0.7335331032218503 L -0.6793287416976505, 0.7338340825441995 L -0.6790036246886605, 0.7341349178861203 \", \"type\": \"path\"}, {\"fillcolor\": \"#d59171\", \"layer\": \"below\", \"line\": {\"color\": \"rgb(175,175,175)\", \"width\": 0.5}, \"path\": \"M -0.6950949556996645,0.7189179386834644 Q -0.10007136364316421, -0.1731638593315522 0.9699484849485673, -0.24331037081468365L 0.9699484849485673, -0.24331037081468365 L 0.9687643391070315, -0.24798317538598538 L 0.9675576817941062, -0.2526502174968689 M 0.9675576817941062,-0.2526502174968689 Q -0.10006237367000148, -0.17316905432416324 -0.7020675937854113, 0.7121103101039632L -0.7020675937854113, 0.7121103101039632 L -0.69858956717992, 0.7155226178307517 L -0.6950949556996645, 0.7189179386834644 \", \"type\": \"path\"}, {\"fillcolor\": \"#d59171\", \"layer\": \"below\", \"line\": {\"color\": \"rgb(175,175,175)\", \"width\": 0.5}, \"path\": \"M -0.6808441910347924,0.7324282814953141 Q -0.0911034637697632, -0.17804538435228096 0.9923187835410109, -0.12370704034810781L 0.9923187835410109, -0.12370704034810781 L 0.9922266587031813, -0.12444379357252235 L 0.9921339868584353, -0.12518047819203265 M 0.9921339868584353,-0.12518047819203265 Q -0.09109107500828609, -0.1780517229735079 -0.6820328606916124, 0.7313215277405798L -0.6820328606916124, 0.7313215277405798 L -0.6814387505539898, 0.7318751459391262 L -0.6808441910347924, 0.7324282814953141 \", \"type\": \"path\"}, {\"fillcolor\": \"#d0805f\", \"layer\": \"below\", \"line\": {\"color\": \"rgb(175,175,175)\", \"width\": 0.5}, \"path\": \"M -0.8331506352038044,0.5530461274247359 Q -0.17926897907597197, 0.08867149001262314 -0.9451751206332624, 0.3265639161571559L -0.9451751206332624, 0.3265639161571559 L -0.9441101487688714, 0.32963013665564533 L -0.9430352298796499, 0.3326928842128064 M -0.9430352298796499,0.3326928842128064 Q -0.17937535736410937, 0.08845609741842592 -0.8380364660215756, 0.5456142241713174L -0.8380364660215756, 0.5456142241713174 L -0.8356018131394967, 0.5493356076916784 L -0.8331506352038044, 0.5530461274247359 \", \"type\": \"path\"}, {\"fillcolor\": \"#d0805f\", \"layer\": \"below\", \"line\": {\"color\": \"rgb(175,175,175)\", \"width\": 0.5}, \"path\": \"M -0.8240823723352084,0.5664699847356212 Q -0.18323925561599064, 0.08014596185272001 -0.975368550594329, 0.22058148270314495L -0.975368550594329, 0.22058148270314495 L -0.9746534188343684, 0.22372016707144923 L -0.97392818698177, 0.22685653308292109 M -0.97392818698177,0.22685653308292109 Q -0.18329943010501493, 0.0800082428452016 -0.8285547712204091, 0.5599080202032254L -0.8285547712204091, 0.5599080202032254 L -0.8263250854896932, 0.56319344198104 L -0.8240823723352084, 0.5664699847356212 \", \"type\": \"path\"}, {\"fillcolor\": \"#d0805f\", \"layer\": \"below\", \"line\": {\"color\": \"rgb(175,175,175)\", \"width\": 0.5}, \"path\": \"M -0.8285547712204091,0.5599080202032254 Q -0.18674919298561385, 0.0715872818259079 -0.9905152228500215, 0.1374030323623622L -0.9905152228500215, 0.1374030323623622 L -0.9899523757446841, 0.14140118018409809 L -0.9893733904526769, 0.14539702288621656 M -0.9893733904526769,0.14539702288621656 Q -0.18675576608303596, 0.07157013228112942 -0.8331506352038044, 0.5530461274247359L -0.8331506352038044, 0.5530461274247359 L -0.8308597871048948, 0.5564818183660709 L -0.8285547712204091, 0.5599080202032254 \", \"type\": \"path\"}, {\"fillcolor\": \"#d0805f\", \"layer\": \"below\", \"line\": {\"color\": \"rgb(175,175,175)\", \"width\": 0.5}, \"path\": \"M -0.8153499348227924,0.5789684652763638 Q -0.19351600105063957, 0.05051294227590458 -0.994301978687894, -0.1066000711882437L -0.994301978687894, -0.1066000711882437 L -0.994684544784408, -0.10296920106048674 L -0.9950538521589766, -0.09933695839707213 M -0.9950538521589766,-0.09933695839707213 Q -0.1935201109174801, 0.05049719467937014 -0.8196490001755635, 0.5728660545984542L -0.8196490001755635, 0.5728660545984542 L -0.8175051615833749, 0.5759212713423078 L -0.8153499348227924, 0.5789684652763638 \", \"type\": \"path\"}, {\"fillcolor\": \"#d0805f\", \"layer\": \"below\", \"line\": {\"color\": \"rgb(175,175,175)\", \"width\": 0.5}, \"path\": \"M -0.8014218252799907,0.598099538509175 Q -0.19765908060933066, 0.030510454809362243 -0.944467133919335, -0.32860589304849197L -0.944467133919335, -0.32860589304849197 L -0.944913708018519, -0.32731954478566183 L -0.945358530134035, -0.32603258963302545 M -0.945358530134035,-0.32603258963302545 Q -0.19766356838499075, 0.030481366985620862 -0.8032230237412766, 0.5956784150293852L -0.8032230237412766, 0.5956784150293852 L -0.8023233377712178, 0.5968896561908679 L -0.8014218252799907, 0.598099538509175 \", \"type\": \"path\"}, {\"fillcolor\": \"#d0805f\", \"layer\": \"below\", \"line\": {\"color\": \"rgb(175,175,175)\", \"width\": 0.5}, \"path\": \"M -0.8512962438313266,0.5246853392640912 Q -0.1999999988222162, -2.170514965040982e-05 -0.851182340041058, -0.5248701020273767L -0.851182340041058, -0.5248701020273767 L -0.8547829511141835, -0.5189856515208561 L -0.8583428820769436, -0.5130765018862645 M -0.8583428820769436,-0.5130765018862645 Q -0.19999999857087702, 2.390918620394901e-05 -0.8582201851280649, 0.5132817100177544L -0.8582201851280649, 0.5132817100177544 L -0.8547772317455085, 0.5189950713537512 L -0.8512962438313266, 0.5246853392640912 \", \"type\": \"path\"}, {\"fillcolor\": \"#d0805f\", \"layer\": \"below\", \"line\": {\"color\": \"rgb(175,175,175)\", \"width\": 0.5}, \"path\": \"M -0.8582201851280649,0.5132817100177544 Q -0.19465933693420803, -0.04591015731114931 -0.5384189793934481, -0.8426772826111535L -0.5384189793934481, -0.8426772826111535 L -0.5479738645377222, -0.8364954535343238 L -0.5574577811260326, -0.8302052892279357 M -0.5574577811260326,-0.8302052892279357 Q -0.19468958493977262, -0.04578171595712713 -0.8690274222867983, 0.49476392280921483L -0.8690274222867983, 0.49476392280921483 L -0.86367343448833, 0.5040517816247972 L -0.8582201851280649, 0.5132817100177544 \", \"type\": \"path\"}, {\"fillcolor\": \"#d0805f\", \"layer\": \"below\", \"line\": {\"color\": \"rgb(175,175,175)\", \"width\": 0.5}, \"path\": \"M -0.8032230237412766,0.5956784150293852 Q -0.1841098665086032, -0.07812526514632966 -0.12969618642142572, -0.9915537803002613L -0.12969618642142572, -0.9915537803002613 L -0.13089909035422576, -0.9913956970576563 L -0.13210180160772958, -0.9912361545121284 M -0.13210180160772958,-0.9912361545121284 Q -0.18407434760949234, -0.0782089160654959 -0.8052053116924115, 0.5929961264817221L -0.8052053116924115, 0.5929961264817221 L -0.8042152859927867, 0.5943380971934581 L -0.8032230237412766, 0.5956784150293852 \", \"type\": \"path\"}, {\"fillcolor\": \"#d0805f\", \"layer\": \"below\", \"line\": {\"color\": \"rgb(175,175,175)\", \"width\": 0.5}, \"path\": \"M -0.8826655513457392,0.4700016217711619 Q -0.1647052469730393, -0.11345563723125501 0.12456588888754623, -0.992211338035227L 0.12456588888754623, -0.992211338035227 L 0.10857194375363305, -0.9940885941552483 L 0.09254984261721232, -0.9957080529108566 M 0.09254984261721232,-0.9957080529108566 Q -0.16482939512253714, -0.11327519809534006 -0.8963741150043267, 0.44329837124696275L -0.8963741150043267, 0.44329837124696275 L -0.8896200309732679, 0.45670143473731484 L -0.8826655513457392, 0.4700016217711619 \", \"type\": \"path\"}, {\"fillcolor\": \"#d0805f\", \"layer\": \"below\", \"line\": {\"color\": \"rgb(175,175,175)\", \"width\": 0.5}, \"path\": \"M -0.8380364660215756,0.5456142241713174 Q -0.1322330455354189, -0.15004806452743014 0.6466439701073168, -0.7627919611033191L 0.6466439701073168, -0.7627919611033191 L 0.6416667846049764, -0.766983531462515 L 0.6366624298801813, -0.7711426264829764 M 0.6366624298801813,-0.7711426264829764 Q -0.13227999659587739, -0.15000667485347002 -0.844731173628985, 0.5351908484824807L -0.844731173628985, 0.5351908484824807 L -0.8413999607522974, 0.5404129032934284 L -0.8380364660215756, 0.5456142241713174 \", \"type\": \"path\"}, {\"fillcolor\": \"#d0805f\", \"layer\": \"below\", \"line\": {\"color\": \"rgb(175,175,175)\", \"width\": 0.5}, \"path\": \"M -0.8052053116924115,0.5929961264817221 Q -0.10319331335436313, -0.17132174432613106 0.9006659719944524, -0.43451214815156586L 0.9006659719944524, -0.43451214815156586 L 0.8998205160061825, -0.4362602881014584 L 0.8989716669845073, -0.4380067830058071 M 0.8989716669845073,-0.4380067830058071 Q -0.1031586594358132, -0.1713426128650019 -0.8077408029338379, 0.589537781041893L -0.8077408029338379, 0.589537781041893 L -0.8064749110854432, 0.5912683128578146 L -0.8052053116924115, 0.5929961264817221 \", \"type\": \"path\"}, {\"fillcolor\": \"#d0805f\", \"layer\": \"below\", \"line\": {\"color\": \"rgb(175,175,175)\", \"width\": 0.5}, \"path\": \"M -0.8077408029338379,0.589537781041893 Q -0.0877225102527755, -0.17973525306670282 0.9617099116530448, -0.27406941790045236L 0.9617099116530448, -0.27406941790045236 L 0.9610061574565246, -0.2765269703494497 L 0.9602961232442841, -0.2789827157405968 M 0.9602961232442841,-0.2789827157405968 Q -0.08768241380213819, -0.1797548172089711 -0.8110054370472943, 0.5850386150329969L -0.8110054370472943, 0.5850386150329969 L -0.8093762462458094, 0.5872904664755276 L -0.8077408029338379, 0.589537781041893 \", \"type\": \"path\"}, {\"fillcolor\": \"#d0805f\", \"layer\": \"below\", \"line\": {\"color\": \"rgb(175,175,175)\", \"width\": 0.5}, \"path\": \"M -0.7996133289475026,0.6005152156019804 Q -0.07414045852766175, -0.18575034968825246 0.9933505486393627, -0.11512900380823779L 0.9933505486393627, -0.11512900380823779 L 0.9932020806833726, -0.11640286476809539 L 0.9930519791438797, -0.11767653427265576 M 0.9930519791438797,-0.11767653427265576 Q -0.07409841443896609, -0.1857671256644491 -0.8014218252799907, 0.598099538509175L -0.8014218252799907, 0.598099538509175 L -0.8005184883199248, 0.599308059229961 L -0.7996133289475026, 0.6005152156019804 \", \"type\": \"path\"}, {\"fillcolor\": \"#ca6f4c\", \"layer\": \"below\", \"line\": {\"color\": \"rgb(175,175,175)\", \"width\": 0.5}, \"path\": \"M -0.936296067222771,0.3512117231858474 Q -0.19024843263970237, 0.06168900937879162 -0.9642359541236478, 0.26504532588834423L -0.9642359541236478, 0.26504532588834423 L -0.964099312009798, 0.2655419299889081 L -0.9639624141332231, 0.26603846364473005 M -0.9639624141332231,0.26603846364473005 Q -0.19024526406837294, 0.06169878037331893 -0.9366213785291863, 0.35034325065867444L -0.9366213785291863, 0.35034325065867444 L -0.936458823553733, 0.35077752463400264 L -0.936296067222771, 0.3512117231858474 \", \"type\": \"path\"}, {\"fillcolor\": \"#ca6f4c\", \"layer\": \"below\", \"line\": {\"color\": \"rgb(175,175,175)\", \"width\": 0.5}, \"path\": \"M -0.9366213785291863,0.35034325065867444 Q -0.19342485719109942, 0.05086083582288834 -0.9878070804769115, 0.1556829205779512L -0.9878070804769115, 0.1556829205779512 L -0.987698046371073, 0.15637317287426827 L -0.9875885299360607, 0.15706334880783143 M -0.9875885299360607,0.15706334880783143 Q -0.1934158442596638, 0.05089509985569818 -0.9369863908369062, 0.3493658589307612L -0.9369863908369062, 0.3493658589307612 L -0.9368040121502967, 0.34985460239806276 L -0.9366213785291863, 0.35034325065867444 \", \"type\": \"path\"}, {\"fillcolor\": \"#ca6f4c\", \"layer\": \"below\", \"line\": {\"color\": \"rgb(175,175,175)\", \"width\": 0.5}, \"path\": \"M -0.9415605215102019,0.33684385749696644 Q -0.19999592690519252, -0.0012764095474781974 -0.9371844013901254, -0.3488343414731874L -0.9371844013901254, -0.3488343414731874 L -0.9381309131197838, -0.3462807962463998 L -0.9390704672224647, -0.34372468283581553 M -0.9390704672224647,-0.34372468283581553 Q -0.19999656447239822, -0.001172262444107279 -0.9430352298796499, 0.3326928842128064L -0.9430352298796499, 0.3326928842128064 L -0.9423001614050437, 0.33476918289476504 L -0.9415605215102019, 0.33684385749696644 \", \"type\": \"path\"}, {\"fillcolor\": \"#ca6f4c\", \"layer\": \"below\", \"line\": {\"color\": \"rgb(175,175,175)\", \"width\": 0.5}, \"path\": \"M -0.938436236746574,0.3454524997172956 Q -0.19948067497523683, -0.014403482614420735 -0.8790738330839252, -0.476685636438875L -0.8790738330839252, -0.476685636438875 L -0.8798556198706686, -0.4752410842740781 L -0.8806350328759859, -0.47379524994612515 M -0.8806350328759859,-0.47379524994612515 Q -0.1994876126579404, -0.014307075034245852 -0.9392346459872356, 0.3432758071540029L -0.9392346459872356, 0.3432758071540029 L -0.9388360722001577, 0.3443643848248252 L -0.938436236746574, 0.3454524997172956 \", \"type\": \"path\"}, {\"fillcolor\": \"#ca6f4c\", \"layer\": \"below\", \"line\": {\"color\": \"rgb(175,175,175)\", \"width\": 0.5}, \"path\": \"M -0.9402650293955912,0.340443349906718 Q -0.19283849701893774, -0.053040683135468204 -0.6338943967201937, -0.7734196104358498L -0.6338943967201937, -0.7734196104358498 L -0.636043487766291, -0.7716532133478691 L -0.6381876566302128, -0.7698808446278148 M -0.6381876566302128,-0.7698808446278148 Q -0.19288452173855594, -0.052873067564579095 -0.9415605215102019, 0.33684385749696644L -0.9415605215102019, 0.33684385749696644 L -0.9409144966982255, 0.33864422319467535 L -0.9402650293955912, 0.340443349906718 \", \"type\": \"path\"}, {\"fillcolor\": \"#ca6f4c\", \"layer\": \"below\", \"line\": {\"color\": \"rgb(175,175,175)\", \"width\": 0.5}, \"path\": \"M -0.9392346459872356,0.3432758071540029 Q -0.17070195441937275, -0.10421536718452991 -0.12385082698938694, -0.9923008478551477L -0.12385082698938694, -0.9923008478551477 L -0.12534123706313122, -0.9921136902046478 L -0.12683136432315342, -0.9919242939982504 M -0.12683136432315342,-0.9919242939982504 Q -0.17070144264218823, -0.10421620545709642 -0.9402650293955912, 0.340443349906718L -0.9402650293955912, 0.340443349906718 L -0.9397509048383791, 0.34185996673411134 L -0.9392346459872356, 0.3432758071540029 \", \"type\": \"path\"}, {\"fillcolor\": \"#ca6f4c\", \"layer\": \"below\", \"line\": {\"color\": \"rgb(175,175,175)\", \"width\": 0.5}, \"path\": \"M -0.9506025890965748,0.3104105629692529 Q -0.15781594387074438, -0.12285816155301228 0.06775042117816321, -0.9977023005036029L 0.06775042117816321, -0.9977023005036029 L 0.05831141003567104, -0.9982984420801486 L 0.04886718291911822, -0.9988052855454608 M 0.04886718291911822,-0.9988052855454608 Q -0.15818674611453154, -0.12238036343178899 -0.9545180460577471, 0.298153148147224L -0.9545180460577471, 0.298153148147224 L -0.9525800332136043, 0.30428815343809973 L -0.9506025890965748, 0.3104105629692529 \", \"type\": \"path\"}, {\"fillcolor\": \"#ca6f4c\", \"layer\": \"below\", \"line\": {\"color\": \"rgb(175,175,175)\", \"width\": 0.5}, \"path\": \"M -0.9358882956947805,0.35229688897507905 Q -0.12085569613891922, -0.1593546381840743 0.5916472320157833, -0.8061969690144349L 0.5916472320157833, -0.8061969690144349 L 0.5913109004662521, -0.8064436861863264 L 0.5909744660355578, -0.8066902630464726 M 0.5909744660355578,-0.8066902630464726 Q -0.12087598200959307, -0.1593392512007526 -0.9360923387062021, 0.35175436516915176L -0.9360923387062021, 0.35175436516915176 L -0.9359903565080658, 0.3520256418556805 L -0.9358882956947805, 0.35229688897507905 \", \"type\": \"path\"}, {\"fillcolor\": \"#ca6f4c\", \"layer\": \"below\", \"line\": {\"color\": \"rgb(175,175,175)\", \"width\": 0.5}, \"path\": \"M -0.9369863908369062,0.3493658589307612 Q -0.07882897922082625, -0.18380966251805847 0.8989716669845073, -0.4380067830058071L 0.8989716669845073, -0.4380067830058071 L 0.8986248675786004, -0.4387178448266527 L 0.8982775057424928, -0.43942863206332594 M 0.8982775057424928,-0.43942863206332594 Q -0.07885719988148036, -0.18379755718412652 -0.9374311318520102, 0.34817075269852743L -0.9374311318520102, 0.34817075269852743 L -0.9372089518408048, 0.3487683767050276 L -0.9369863908369062, 0.3493658589307612 \", \"type\": \"path\"}, {\"fillcolor\": \"#ca6f4c\", \"layer\": \"below\", \"line\": {\"color\": \"rgb(175,175,175)\", \"width\": 0.5}, \"path\": \"M -0.9360923387062021,0.35175436516915176 Q -0.06467043916945292, -0.18925573781957072 0.9556035048295812, -0.2946556321494985L 0.9556035048295812, -0.2946556321494985 L 0.9554958357007316, -0.29500458972456767 L 0.9553880391431065, -0.2953535079566349 M 0.9553880391431065,-0.2953535079566349 Q -0.06468470464600866, -0.18925086257361848 -0.936296067222771, 0.3512117231858474L -0.936296067222771, 0.3512117231858474 L -0.9361942422806235, 0.35148305893827814 L -0.9360923387062021, 0.35175436516915176 \", \"type\": \"path\"}, {\"fillcolor\": \"#ca6f4c\", \"layer\": \"below\", \"line\": {\"color\": \"rgb(175,175,175)\", \"width\": 0.5}, \"path\": \"M -0.9356430290443967,0.3529477612914214 Q -0.048381203823433104, -0.1940599369179415 0.9918268732869424, -0.12759096137990117L 0.9918268732869424, -0.12759096137990117 L 0.9918010161087107, -0.12779180116787162 L 0.9917751182614661, -0.1279926357157119 M 0.9917751182614661,-0.1279926357157119 Q -0.048386755822203247, -0.19405855266131014 -0.9357657189589111, 0.3526223464576686L -0.9357657189589111, 0.3526223464576686 L -0.9357043881480575, 0.35278505920810965 L -0.9356430290443967, 0.3529477612914214 \", \"type\": \"path\"}, {\"fillcolor\": \"#c45e3a\", \"layer\": \"below\", \"line\": {\"color\": \"rgb(175,175,175)\", \"width\": 0.5}, \"path\": \"M -0.9636878512372354,0.2670313190952702 Q -0.19912671421568032, 0.01866953897842109 -0.9965289343550594, -0.08324712002928246L -0.9965289343550594, -0.08324712002928246 L -0.9965804751736321, -0.0826278191815426 L -0.9966316311227951, -0.08200848642376603 M -0.9966316311227951,-0.08200848642376603 Q -0.19912472698651318, 0.01869072236556422 -0.9639624141332231, 0.26603846364473005L -0.9639624141332231, 0.26603846364473005 L -0.9638252605302405, 0.2665349267240859 L -0.9636878512372354, 0.2670313190952702 \", \"type\": \"path\"}, {\"fillcolor\": \"#c45e3a\", \"layer\": \"below\", \"line\": {\"color\": \"rgb(175,175,175)\", \"width\": 0.5}, \"path\": \"M -0.9676012982516257,0.25248312343950546 Q -0.19971559807274517, -0.01066207702306242 -0.935219793296101, -0.3540677028863236L -0.935219793296101, -0.3540677028863236 L -0.9362057541414517, -0.35145239494480013 L -0.9371844013901254, -0.3488343414731874 M -0.9371844013901254,-0.3488343414731874 Q -0.1997186188040354, -0.010605343134873184 -0.9688570204203092, 0.2476208270365816L -0.9688570204203092, 0.2476208270365816 L -0.9682322115432908, 0.25005276349200456 L -0.9676012982516257, 0.25248312343950546 \", \"type\": \"path\"}, {\"fillcolor\": \"#c45e3a\", \"layer\": \"below\", \"line\": {\"color\": \"rgb(175,175,175)\", \"width\": 0.5}, \"path\": \"M -0.9651515958403752,0.261691415691797 Q -0.19852424131415794, -0.02425130121535729 -0.8737747883820776, -0.4863307713766996L -0.8737747883820776, -0.4863307713766996 L -0.8752088351491717, -0.4837452789194226 L -0.8766352314870783, -0.4811555579182231 M -0.8766352314870783,-0.4811555579182231 Q -0.198539692392435, -0.0241244801957947 -0.966354302619593, 0.257214622073863L -0.966354302619593, 0.257214622073863 L -0.9657555432751533, 0.2594537157824367 L -0.9651515958403752, 0.261691415691797 \", \"type\": \"path\"}, {\"fillcolor\": \"#c45e3a\", \"layer\": \"below\", \"line\": {\"color\": \"rgb(175,175,175)\", \"width\": 0.5}, \"path\": \"M -0.9726272707542851,0.2323708075147791 Q -0.18909932154399112, -0.06512638936408385 -0.6232734782009206, -0.7820039458796397L -0.6232734782009206, -0.7820039458796397 L -0.6261697534997506, -0.7796867574879425 L -0.6290574140974722, -0.7773588423430979 M -0.6290574140974722,-0.7773588423430979 Q -0.18915632047355435, -0.06496065289778116 -0.97392818698177, 0.22685653308292109L -0.97392818698177, 0.22685653308292109 L -0.9732816341204293, 0.22961459161792563 L -0.9726272707542851, 0.2323708075147791 \", \"type\": \"path\"}, {\"fillcolor\": \"#c45e3a\", \"layer\": \"below\", \"line\": {\"color\": \"rgb(175,175,175)\", \"width\": 0.5}, \"path\": \"M -0.9634467698300407,0.2678998352072292 Q -0.16716322832715425, -0.10980189021708003 -0.13679622423934118, -0.9905992090819878L -0.13679622423934118, -0.9905992090819878 L -0.13719682689229123, -0.9905438055384964 L -0.13759740710641974, -0.9904882399895468 M -0.13759740710641974,-0.9904882399895468 Q -0.16715814852186905, -0.1098096233612554 -0.9636878512372354, 0.2670313190952702L -0.9636878512372354, 0.2670313190952702 L -0.9635674083887893, 0.26746560431373645 L -0.9634467698300407, 0.2678998352072292 \", \"type\": \"path\"}, {\"fillcolor\": \"#c45e3a\", \"layer\": \"below\", \"line\": {\"color\": \"rgb(175,175,175)\", \"width\": 0.5}, \"path\": \"M -0.9700883092119849,0.24275228594234158 Q -0.16019061534978488, -0.1197454247721276 -0.041760258868447774, -0.999127659900996L -0.041760258868447774, -0.999127659900996 L -0.04516527189739386, -0.9989795284261007 L -0.048569760283981585, -0.9988197927483999 M -0.048569760283981585,-0.9988197927483999 Q -0.1602903000184954, -0.11961195475361458 -0.9713257558292195, 0.23775255216883667L -0.9713257558292195, 0.23775255216883667 L -0.9707102514753849, 0.24025321575495098 L -0.9700883092119849, 0.24275228594234158 \", \"type\": \"path\"}, {\"fillcolor\": \"#c45e3a\", \"layer\": \"below\", \"line\": {\"color\": \"rgb(175,175,175)\", \"width\": 0.5}, \"path\": \"M -0.966354302619593,0.257214622073863 Q -0.11095161618632216, -0.16640234032501786 0.6089932565708319, -0.7931753989195913L 0.6089932565708319, -0.7931753989195913 L 0.6064757517857506, -0.7951019824499928 L 0.6039521521895839, -0.797020575559734 M 0.6039521521895839,-0.797020575559734 Q -0.11107199087280017, -0.16632201551073328 -0.9676012982516257, 0.25248312343950546L -0.9676012982516257, 0.25248312343950546 L -0.9669806943807724, 0.25484963546153877 L -0.966354302619593, 0.257214622073863 \", \"type\": \"path\"}, {\"fillcolor\": \"#c45e3a\", \"layer\": \"below\", \"line\": {\"color\": \"rgb(175,175,175)\", \"width\": 0.5}, \"path\": \"M -0.9634122657270361,0.26802389118639947 Q -0.07171630418240219, -0.18669968321991648 0.8950939104370963, -0.44587766427398834L 0.8950939104370963, -0.44587766427398834 L 0.8950618403976727, -0.44594203868208165 L 0.8950297657284948, -0.44600641078351744 M 0.8950297657284948,-0.44600641078351744 Q -0.07171771151639131, -0.18669914261948736 -0.9634467698300407, 0.2678998352072292L -0.9634467698300407, 0.2678998352072292 L -0.9634295197752966, 0.26796186375217934 L -0.9634122657270361, 0.26802389118639947 \", \"type\": \"path\"}, {\"fillcolor\": \"#c45e3a\", \"layer\": \"below\", \"line\": {\"color\": \"rgb(175,175,175)\", \"width\": 0.5}, \"path\": \"M -0.9713257558292195,0.23775255216883667 Q -0.05058377405532837, -0.19349749818103462 0.9634124339183301, -0.26802328662181435L 0.9634124339183301, -0.26802328662181435 L 0.9625659199662213, -0.27104768901354265 L 0.9617099116530448, -0.27406941790045236 M 0.9617099116530448,-0.27406941790045236 Q -0.05065578847953855, -0.1934786579794171 -0.9726272707542851, 0.2323708075147791L -0.9726272707542851, 0.2323708075147791 L -0.9719802380628283, 0.23506258063615235 L -0.9713257558292195, 0.23775255216883667 \", \"type\": \"path\"}, {\"fillcolor\": \"#c45e3a\", \"layer\": \"below\", \"line\": {\"color\": \"rgb(175,175,175)\", \"width\": 0.5}, \"path\": \"M -0.9646443455266936,0.26355509223571627 Q -0.03844084883769123, -0.1962709890448351 0.9927954847054088, -0.11982122328098806L 0.9927954847054088, -0.11982122328098806 L 0.9926736583973993, -0.12082635442619084 L 0.9925508144695758, -0.12183136170864049 M 0.9925508144695758,-0.12183136170864049 Q -0.03845002444296189, -0.19626919172487475 -0.9651515958403752, 0.261691415691797L -0.9651515958403752, 0.261691415691797 L -0.964898420639068, 0.26262337643140604 L -0.9646443455266936, 0.26355509223571627 \", \"type\": \"path\"}, {\"fillcolor\": \"#bf4d28\", \"layer\": \"below\", \"line\": {\"color\": \"rgb(175,175,175)\", \"width\": 0.5}, \"path\": \"M -0.9996692906316355,0.025715936071679837 Q -0.19875885968783366, -0.022246700779937147 -0.9692462446561636, -0.24609290363585096L -0.9692462446561636, -0.24609290363585096 L -0.9735768942729647, -0.22835943365188272 L -0.9775831183902942, -0.21054986734336345 M -0.9775831183902942,-0.21054986734336345 Q -0.1987590404546673, -0.022245085694146686 -0.9999419536174957, -0.010774478902764666L -0.9999419536174957, -0.010774478902764666 L -0.999972084424431, 0.007471972420893931 L -0.9996692906316355, 0.025715936071679837 \", \"type\": \"path\"}, {\"fillcolor\": \"#bf4d28\", \"layer\": \"below\", \"line\": {\"color\": \"rgb(175,175,175)\", \"width\": 0.5}, \"path\": \"M -0.9886619831333971,0.15015819360507193 Q -0.19921788517930572, -0.017670150669560545 -0.9467978586546189, -0.32182885956207896L -0.9467978586546189, -0.32182885956207896 L -0.9471432760947044, -0.3208108703716109 L -0.9474875990016237, -0.31979251044722473 M -0.9474875990016237,-0.31979251044722473 Q -0.19921629955357753, -0.017688018322561398 -0.9890090745431847, 0.14785482904265745L -0.9890090745431847, 0.14785482904265745 L -0.9888361995118197, 0.14900661238690283 L -0.9886619831333971, 0.15015819360507193 \", \"type\": \"path\"}, {\"fillcolor\": \"#bf4d28\", \"layer\": \"below\", \"line\": {\"color\": \"rgb(175,175,175)\", \"width\": 0.5}, \"path\": \"M -0.9883095272824901,0.152460743415021 Q -0.1972044458150707, -0.03332276325233008 -0.8833442545646164, -0.4687247891115661L -0.8833442545646164, -0.4687247891115661 L -0.8839210068970863, -0.46763624064655335 L -0.8844964178078185, -0.4665469825056604 M -0.8844964178078185,-0.4665469825056604 Q -0.1972066852127083, -0.03330950776303645 -0.9886619831333971, 0.15015819360507193L -0.9886619831333971, 0.15015819360507193 L -0.9884864256442399, 0.1513095711350556 L -0.9883095272824901, 0.152460743415021 \", \"type\": \"path\"}, {\"fillcolor\": \"#bf4d28\", \"layer\": \"below\", \"line\": {\"color\": \"rgb(175,175,175)\", \"width\": 0.5}, \"path\": \"M -0.9954634108489905,0.09514513997516602 Q -0.1814510597780132, -0.08411606805739247 -0.5706829260809315, -0.8211705047550758L -0.5706829260809315, -0.8211705047550758 L -0.5768277184904614, -0.8168658293631145 L -0.5829400420152935, -0.8125151736522881 M -0.5829400420152935,-0.8125151736522881 Q -0.18150083594598465, -0.08400860998081547 -0.9966832887974314, 0.08137826387885072L -0.9966832887974314, 0.08137826387885072 L -0.9960971337913767, 0.08826380941588884 L -0.9954634108489905, 0.09514513997516602 \", \"type\": \"path\"}, {\"fillcolor\": \"#bf4d28\", \"layer\": \"below\", \"line\": {\"color\": \"rgb(175,175,175)\", \"width\": 0.5}, \"path\": \"M -0.9874172124595505,0.1581368032388759 Q -0.16068300434855493, -0.11908388687611049 -0.13599495187906113, -0.9907095301163766L -0.13599495187906113, -0.9907095301163766 L -0.13639559921308986, -0.9906544506109596 L -0.13679622423934118, -0.9905992090819878 M -0.13679622423934118,-0.9905992090819878 Q -0.16066643775861472, -0.11910623735958242 -0.9875885299360607, 0.15706334880783143L -0.9875885299360607, 0.15706334880783143 L -0.9875030170586891, 0.1576000993019557 L -0.9874172124595505, 0.1581368032388759 \", \"type\": \"path\"}, {\"fillcolor\": \"#bf4d28\", \"layer\": \"below\", \"line\": {\"color\": \"rgb(175,175,175)\", \"width\": 0.5}, \"path\": \"M -0.9940871570683346,0.10858510096599872 Q -0.14669891969997403, -0.13593905604667322 0.03269170929246408, -0.9994654832176733L 0.03269170929246408, -0.9994654832176733 L 0.02528192946002339, -0.9996803609368239 L 0.017870760360033364, -0.9998403052108643 M 0.017870760360033364,-0.9998403052108643 Q -0.14678830046905214, -0.13584253695145446 -0.9954634108489905, 0.09514513997516602L -0.9954634108489905, 0.09514513997516602 L -0.9947979813574697, 0.10186744468721816 L -0.9940871570683346, 0.10858510096599872 \", \"type\": \"path\"}, {\"fillcolor\": \"#bf4d28\", \"layer\": \"below\", \"line\": {\"color\": \"rgb(175,175,175)\", \"width\": 0.5}, \"path\": \"M -0.9999419536174957,-0.010774478902764666 Q -0.06012968264343941, -0.1907470085353877 0.8129945853971089, -0.5822712461688135L 0.8129945853971089, -0.5822712461688135 L 0.8004748760757192, -0.5993663093397575 L 0.7875957660973756, -0.6161922664440767 M 0.7875957660973756,-0.6161922664440767 Q -0.06040956751511848, -0.19065855384072425 -0.9987393070196541, -0.05019757577713514L -0.9987393070196541, -0.05019757577713514 L -0.9995350121668165, -0.030491957180246915 L -0.9999419536174957, -0.010774478902764666 \", \"type\": \"path\"}, {\"fillcolor\": \"#bf4d28\", \"layer\": \"below\", \"line\": {\"color\": \"rgb(175,175,175)\", \"width\": 0.5}, \"path\": \"M -0.9880476513644166,0.15414875488715482 Q -0.06003272385490619, -0.1907775460230071 0.8982775057424928, -0.43942863206332594L 0.8982775057424928, -0.43942863206332594 L 0.8979295816935907, -0.44013914427096024 L 0.8975810956496526, -0.440849381004861 M 0.8975810956496526,-0.440849381004861 Q -0.060020709096585134, -0.19078132633867262 -0.9883095272824901, 0.152460743415021L -0.9883095272824901, 0.152460743415021 L -0.9881789497570634, 0.15330480506829208 L -0.9880476513644166, 0.15414875488715482 \", \"type\": \"path\"}, {\"fillcolor\": \"#bf4d28\", \"layer\": \"below\", \"line\": {\"color\": \"rgb(175,175,175)\", \"width\": 0.5}, \"path\": \"M -0.9988740066854638,0.047441740778854415 Q -0.02291891541863483, -0.1986824685673939 0.9834412493622743, -0.18122723043949313L 0.9834412493622743, -0.18122723043949313 L 0.9815367605925486, -0.1912735935917084 L 0.9795296457842703, -0.20129995784833649 M 0.9795296457842703,-0.20129995784833649 Q -0.022790748427131944, -0.1986972113194626 -0.9996692906316355, 0.025715936071679837L -0.9996692906316355, 0.025715936071679837 L -0.9993306912430536, 0.036580999708599744 L -0.9988740066854638, 0.047441740778854415 \", \"type\": \"path\"}, {\"fillcolor\": \"#bf4d28\", \"layer\": \"below\", \"line\": {\"color\": \"rgb(175,175,175)\", \"width\": 0.5}, \"path\": \"M -0.9966832887974314,0.08137826387885072 Q -0.01456946940889675, -0.19946862049240532 0.9979298987470215, -0.06431109691771239L 0.9979298987470215, -0.06431109691771239 L 0.9975160497415773, -0.07043955215615089 L 0.9970645652190663, -0.07656534976420035 M 0.9970645652190663,-0.07656534976420035 Q -0.014385287396778582, -0.1994819879250056 -0.9977337312815124, 0.06728596780214109L -0.9977337312815124, 0.06728596780214109 L -0.9972334033200663, 0.07433397139046158 L -0.9966832887974314, 0.08137826387885072 \", \"type\": \"path\"}, {\"fillcolor\": \"#af4624\", \"layer\": \"below\", \"line\": {\"color\": \"rgb(175,175,175)\", \"width\": 0.5}, \"path\": \"M -0.9963983986359495,-0.08479523097271126 Q -0.19566848069220677, -0.04139861910261643 -0.945358530134035, -0.32603258963302545L -0.945358530134035, -0.32603258963302545 L -0.9457317576932563, -0.32494836896101487 L -0.9461037417728919, -0.3238637210360756 M -0.9461037417728919,-0.3238637210360756 Q -0.19566449633272232, -0.04141744650340125 -0.996184539231246, -0.08727178121609595L -0.996184539231246, -0.08727178121609595 L -0.9962922384497146, -0.08603357254500726 L -0.9963983986359495, -0.08479523097271126 \", \"type\": \"path\"}, {\"fillcolor\": \"#af4624\", \"layer\": \"below\", \"line\": {\"color\": \"rgb(175,175,175)\", \"width\": 0.5}, \"path\": \"M -0.996184539231246,-0.08727178121609595 Q -0.19170524665056876, -0.05700086320964445 -0.8820319876483332, -0.4711895295580437L -0.8820319876483332, -0.4711895295580437 L -0.8826889813965313, -0.4699576173668793 L -0.8833442545646164, -0.4687247891115661 M -0.8833442545646164,-0.4687247891115661 Q -0.19170955485484978, -0.05698637185639515 -0.995950569086637, -0.08990252463643016L -0.995950569086637, -0.08990252463643016 L -0.9960684226753259, -0.08858723016941132 L -0.996184539231246, -0.08727178121609595 \", \"type\": \"path\"}, {\"fillcolor\": \"#af4624\", \"layer\": \"below\", \"line\": {\"color\": \"rgb(175,175,175)\", \"width\": 0.5}, \"path\": \"M -0.9922194927621593,-0.12450091639342827 Q -0.1738530748506931, -0.09886914769006211 -0.6142673178670454, -0.7890980054469954L -0.6142673178670454, -0.7890980054469954 L -0.6187805644195848, -0.7855638822505653 L -0.6232734782009206, -0.7820039458796397 M -0.6232734782009206,-0.7820039458796397 Q -0.17389755484918273, -0.09879089238120835 -0.990848856056933, -0.1349760884403876L -0.990848856056933, -0.1349760884403876 L -0.9915480075767252, -0.1297403124345955 L -0.9922194927621593, -0.12450091639342827 \", \"type\": \"path\"}, {\"fillcolor\": \"#af4624\", \"layer\": \"below\", \"line\": {\"color\": \"rgb(175,175,175)\", \"width\": 0.5}, \"path\": \"M -0.9966697455022271,-0.08154396605835304 Q -0.1454082776189512, -0.1373187270545792 -0.13839849995615644, -0.9903766229116506L -0.13839849995615644, -0.9903766229116506 L -0.1385701509479038, -0.9903526206691611 L -0.13874179777698106, -0.9903285886763097 M -0.13874179777698106,-0.9903285886763097 Q -0.1454000767265171, -0.13732741054837866 -0.9966316311227951, -0.08200848642376603L -0.9966316311227951, -0.08200848642376603 L -0.9966507153755495, -0.08177622846160978 L -0.9966697455022271, -0.08154396605835304 \", \"type\": \"path\"}, {\"fillcolor\": \"#af4624\", \"layer\": \"below\", \"line\": {\"color\": \"rgb(175,175,175)\", \"width\": 0.5}, \"path\": \"M -0.9893223949858252,-0.14574360630748381 Q -0.13044065173909777, -0.15160882683366234 0.003557115920486173, -0.9999936734431515L 0.003557115920486173, -0.9999936734431515 L -0.0030037250265801977, -0.9999954888078069 L -0.009564436679392467, -0.9999542597294168 M -0.009564436679392467,-0.9999542597294168 Q -0.13052848334115488, -0.1515332143018746 -0.9875081524452091, -0.15756791822655283L -0.9875081524452091, -0.15756791822655283 L -0.9884329551882669, -0.15165847519274842 L -0.9893223949858252, -0.14574360630748381 \", \"type\": \"path\"}, {\"fillcolor\": \"#af4624\", \"layer\": \"below\", \"line\": {\"color\": \"rgb(175,175,175)\", \"width\": 0.5}, \"path\": \"M -0.9692462446561636,-0.24609290363585096 Q -0.03255345598541795, -0.19733289767143608 0.8388459858752585, -0.5443688198096632L 0.8388459858752585, -0.5443688198096632 L 0.8261376802363711, -0.5634683072664047 L 0.8129945853971089, -0.5822712461688135 M 0.8129945853971089,-0.5822712461688135 Q -0.03286509891267804, -0.1972812339617225 -0.9578508651702067, -0.2872659396668642L -0.9578508651702067, -0.2872659396668642 L -0.9637684485390099, -0.26674028117386006 L -0.9692462446561636, -0.24609290363585096 \", \"type\": \"path\"}, {\"fillcolor\": \"#af4624\", \"layer\": \"below\", \"line\": {\"color\": \"rgb(175,175,175)\", \"width\": 0.5}, \"path\": \"M -0.9965289343550594,-0.08324712002928246 Q -0.037103915135645274, -0.19652811371813153 0.8975810956496526, -0.440849381004861L 0.8975810956496526, -0.440849381004861 L 0.8972638026570472, -0.441494811341442 L 0.896946045550108, -0.4421400133125518 M 0.896946045550108,-0.4421400133125518 Q -0.037092595487484996, -0.19653025049595244 -0.9963983986359495, -0.08479523097271126L -0.9963983986359495, -0.08479523097271126 L -0.9964639671395736, -0.08402120085111142 L -0.9965289343550594, -0.08324712002928246 \", \"type\": \"path\"}, {\"fillcolor\": \"#af4624\", \"layer\": \"below\", \"line\": {\"color\": \"rgb(175,175,175)\", \"width\": 0.5}, \"path\": \"M -0.9849947670103845,-0.17258420832207813 Q -0.002923117891688436, -0.19997863731356733 0.9795296457842703, -0.20129995784833649L 0.9795296457842703, -0.20129995784833649 L 0.9776817279288601, -0.21009150119421383 L 0.9757549052578895, -0.21886608888808487 M 0.9757549052578895,-0.21886608888808487 Q -0.0028089326357721676, -0.19998027377080896 -0.9815171595792275, -0.19137415042665867L -0.9815171595792275, -0.19137415042665867 L -0.983300846555046, -0.1819874862844417 L -0.9849947670103845, -0.17258420832207813 \", \"type\": \"path\"}, {\"fillcolor\": \"#af4624\", \"layer\": \"below\", \"line\": {\"color\": \"rgb(175,175,175)\", \"width\": 0.5}, \"path\": \"M -0.9875081524452091,-0.15756791822655283 Q 0.010705045973555805, -0.19971329948379518 0.9986933671918378, -0.05110340817430051L 0.9986933671918378, -0.05110340817430051 L 0.9983334749884805, -0.057708515120604806 L 0.9979298987470215, -0.06431109691771239 M 0.9979298987470215,-0.06431109691771239 Q 0.010904303868760469, -0.19970251915571258 -0.9849947670103845, -0.17258420832207813L -0.9849947670103845, -0.17258420832207813 L -0.9862800383548621, -0.16508084668650005 L -0.9875081524452091, -0.15756791822655283 \", \"type\": \"path\"}, {\"fillcolor\": \"#9f4021\", \"layer\": \"below\", \"line\": {\"color\": \"rgb(175,175,175)\", \"width\": 0.5}, \"path\": \"M -0.9222121400119742,-0.38668432708675293 Q -0.1771124971898336, -0.09290405448192876 -0.842358224671027, -0.5389180098392292L -0.842358224671027, -0.5389180098392292 L -0.8467994136805979, -0.5319123546132349 L -0.851182340041058, -0.5248701020273767 M -0.851182340041058,-0.5248701020273767 Q -0.17721055147510878, -0.09271688328394039 -0.916517825605404, -0.3999938441370596L -0.916517825605404, -0.3999938441370596 L -0.9193890674931094, -0.3933493899501442 L -0.9222121400119742, -0.38668432708675293 \", \"type\": \"path\"}, {\"fillcolor\": \"#9f4021\", \"layer\": \"below\", \"line\": {\"color\": \"rgb(175,175,175)\", \"width\": 0.5}, \"path\": \"M -0.9268008460071585,-0.37555318110810243 Q -0.1571703958096119, -0.12368292800968908 -0.5829400420152935, -0.8125151736522881L -0.5829400420152935, -0.8125151736522881 L -0.5886788828792724, -0.8083669790707757 L -0.5943882063169366, -0.8041782515035674 M -0.5943882063169366,-0.8041782515035674 Q -0.15730155076825927, -0.12351608043449547 -0.9222121400119742, -0.38668432708675293L -0.9222121400119742, -0.38668432708675293 L -0.9245232453646295, -0.3811256600918562 L -0.9268008460071585, -0.37555318110810243 \", \"type\": \"path\"}, {\"fillcolor\": \"#9f4021\", \"layer\": \"below\", \"line\": {\"color\": \"rgb(175,175,175)\", \"width\": 0.5}, \"path\": \"M -0.9420398223076696,-0.3355010777725377 Q -0.124956752790998, -0.15615956561136246 -0.12075447085135171, -0.9926824052885244L -0.12075447085135171, -0.9926824052885244 L -0.12230279771721438, -0.9924928340650839 L -0.12385082698938694, -0.9923008478551477 M -0.12385082698938694,-0.9923008478551477 Q -0.12489816810410131, -0.15620642625781966 -0.9407343874703934, -0.3391442351429607L -0.9407343874703934, -0.3391442351429607 L -0.9413888672595714, -0.33732328795940125 L -0.9420398223076696, -0.3355010777725377 \", \"type\": \"path\"}, {\"fillcolor\": \"#9f4021\", \"layer\": \"below\", \"line\": {\"color\": \"rgb(175,175,175)\", \"width\": 0.5}, \"path\": \"M -0.9092045835570227,-0.4163496430152198 Q -0.1001289734800207, -0.17313055383102463 0.09254984261721232, -0.9957080529108566L 0.09254984261721232, -0.9957080529108566 L 0.0801563341170368, -0.9967823042675457 L 0.06775042117816321, -0.9977023005036029 M 0.06775042117816321,-0.9977023005036029 Q -0.10047101680517641, -0.17293228380534953 -0.9002933728441593, -0.43528363490129923L -0.9002933728441593, -0.43528363490129923 L -0.9047985066119412, -0.42583994931523395 L -0.9092045835570227, -0.4163496430152198 \", \"type\": \"path\"}, {\"fillcolor\": \"#9f4021\", \"layer\": \"below\", \"line\": {\"color\": \"rgb(175,175,175)\", \"width\": 0.5}, \"path\": \"M -0.9407343874703934,-0.3391442351429607 Q -0.057447103314631424, -0.1915719977469517 0.5988867700691946, -0.8008337134737071L 0.5988867700691946, -0.8008337134737071 L 0.5966128718091689, -0.8025291777821016 L 0.5943341736717986, -0.8042181855727091 M 0.5943341736717986,-0.8042181855727091 Q -0.057523680180769365, -0.19154901779560385 -0.9390704672224647, -0.34372468283581553L -0.9390704672224647, -0.34372468283581553 L -0.9399052175921655, -0.3414354725903916 L -0.9407343874703934, -0.3391442351429607 \", \"type\": \"path\"}, {\"fillcolor\": \"#9f4021\", \"layer\": \"below\", \"line\": {\"color\": \"rgb(175,175,175)\", \"width\": 0.5}, \"path\": \"M -0.9482640099592851,-0.3174828616097836 Q -0.013667266340000653, -0.19953246811181255 0.8961177061971292, -0.443816467292501L 0.8961177061971292, -0.443816467292501 L 0.8959261058755972, -0.44420312111756743 L 0.8957343387219953, -0.4445896922267428 M 0.8957343387219953,-0.4445896922267428 Q -0.013667570533742249, -0.19953244727538721 -0.9479906252114684, -0.3182982477349967L -0.9479906252114684, -0.3182982477349967 L -0.948127405239019, -0.317890584061128 L -0.9482640099592851, -0.3174828616097836 \", \"type\": \"path\"}, {\"fillcolor\": \"#9f4021\", \"layer\": \"below\", \"line\": {\"color\": \"rgb(175,175,175)\", \"width\": 0.5}, \"path\": \"M -0.9467978586546189,-0.32182885956207896 Q 0.003645144361695616, -0.19996677954745984 0.9578980277942567, -0.2871086350980643L 0.9578980277942567, -0.2871086350980643 L 0.9575829050298045, -0.2881579080897841 L 0.9572666329014127, -0.2892068352124343 M 0.9572666329014127,-0.2892068352124343 Q 0.0036410299000971093, -0.19996685450660717 -0.9461037417728919, -0.3238637210360756L -0.9461037417728919, -0.3238637210360756 L -0.9464513470805367, -0.3228464768422252 L -0.9467978586546189, -0.32182885956207896 \", \"type\": \"path\"}, {\"fillcolor\": \"#9f4021\", \"layer\": \"below\", \"line\": {\"color\": \"rgb(175,175,175)\", \"width\": 0.5}, \"path\": \"M -0.944467133919335,-0.32860589304849197 Q 0.022235656493370795, -0.19876009554311658 0.9937334460887757, -0.11177583873327189L 0.9937334460887757, -0.11177583873327189 L 0.9935434119630552, -0.1134525828036141 L 0.9933505486393627, -0.11512900380823779 M 0.9933505486393627,-0.11512900380823779 Q 0.02225636329243685, -0.1987577779433929 -0.9432835733724498, -0.3319881025062527L -0.9432835733724498, -0.3319881025062527 L -0.9438768685879333, -0.3302975279117865 L -0.944467133919335, -0.32860589304849197 \", \"type\": \"path\"}, {\"fillcolor\": \"#8f391e\", \"layer\": \"below\", \"line\": {\"color\": \"rgb(175,175,175)\", \"width\": 0.5}, \"path\": \"M -0.8104833187348763,-0.5857617178106648 Q -0.12112510704237023, -0.15914995584031544 -0.34864659014172167, -0.9372542638913681L -0.34864659014172167, -0.9372542638913681 L -0.37981226187724426, -0.9250635900994545 L -0.41055257744642687, -0.9118369268416889 M -0.41055257744642687,-0.9118369268416889 Q -0.12126229972406735, -0.15904544842789578 -0.7705911064669174, -0.6373298570081994L -0.7705911064669174, -0.6373298570081994 L -0.7909575859373686, -0.6118709808841486 L -0.8104833187348763, -0.5857617178106648 \", \"type\": \"path\"}, {\"fillcolor\": \"#8f391e\", \"layer\": \"below\", \"line\": {\"color\": \"rgb(175,175,175)\", \"width\": 0.5}, \"path\": \"M -0.8737747883820776,-0.4863307713766996 Q -0.11032253529516818, -0.16682007734696197 -0.10548547190460489, -0.9944208441183555L -0.10548547190460489, -0.9944208441183555 L -0.10847246106405022, -0.9940994543760238 L -0.11145847121662217, -0.9937690924928454 M -0.11145847121662217,-0.9937690924928454 Q -0.1101111924550629, -0.1669596517010146 -0.8695891270159115, -0.49377601215096L -0.8695891270159115, -0.49377601215096 L -0.8716899066069874, -0.49005786058332085 L -0.8737747883820776, -0.4863307713766996 \", \"type\": \"path\"}, {\"fillcolor\": \"#8f391e\", \"layer\": \"below\", \"line\": {\"color\": \"rgb(175,175,175)\", \"width\": 0.5}, \"path\": \"M -0.7705911064669174,-0.6373298570081994 Q -0.04978880729395285, -0.1937035742268212 0.36775015700425445, -0.9299246324425148L 0.36775015700425445, -0.9299246324425148 L 0.33432338487887375, -0.9424584204744167 L 0.30047053600826307, -0.9537910971438699 M 0.30047053600826307,-0.9537910971438699 Q -0.05003867259754781, -0.19363917796942698 -0.7249390313338604, -0.688813037658786L -0.7249390313338604, -0.688813037658786 L -0.7482080110103597, -0.6634642207835486 L -0.7705911064669174, -0.6373298570081994 \", \"type\": \"path\"}, {\"fillcolor\": \"#8f391e\", \"layer\": \"below\", \"line\": {\"color\": \"rgb(175,175,175)\", \"width\": 0.5}, \"path\": \"M -0.8695891270159115,-0.49377601215096 Q -0.03872729736212477, -0.19621466927583567 0.616771649266883, -0.7871421298981583L 0.616771649266883, -0.7871421298981583 L 0.612889876878063, -0.7901683357490307 L 0.6089932565708319, -0.7931753989195913 M 0.6089932565708319,-0.7931753989195913 Q -0.03874231264682529, -0.19621170508095498 -0.8647632059789686, -0.5021798458570156L -0.8647632059789686, -0.5021798458570156 L -0.8671863466674482, -0.4979837749902746 L -0.8695891270159115, -0.49377601215096 \", \"type\": \"path\"}, {\"fillcolor\": \"#8f391e\", \"layer\": \"below\", \"line\": {\"color\": \"rgb(175,175,175)\", \"width\": 0.5}, \"path\": \"M -0.8790738330839252,-0.476685636438875 Q 0.005183726455072587, -0.19993281116424833 0.9025945307943921, -0.4304917106984189L 0.9025945307943921, -0.4304917106984189 L 0.9016324923209554, -0.43250300437234224 L 0.9006659719944524, -0.43451214815156586 M 0.9006659719944524,-0.43451214815156586 Q 0.005246984051808282, -0.19993116104889722 -0.8766352314870783, -0.4811555579182231L -0.8766352314870783, -0.4811555579182231 L -0.8778573773134819, -0.4789221493064349 L -0.8790738330839252, -0.476685636438875 \", \"type\": \"path\"}, {\"fillcolor\": \"#8f391e\", \"layer\": \"below\", \"line\": {\"color\": \"rgb(175,175,175)\", \"width\": 0.5}, \"path\": \"M -0.8861765430249924,-0.4633477469377334 Q 0.01809654876929504, -0.19917960468542087 0.9551720637990504, -0.2960512262056395L 0.9551720637990504, -0.2960512262056395 L 0.9551071718298226, -0.2962605109008584 L 0.9550422340048952, -0.2964697813722995 M 0.9550422340048952,-0.2964697813722995 Q 0.018101979603390116, -0.19917911119000017 -0.8859481159403847, -0.463784363537283L -0.8859481159403847, -0.463784363537283 L -0.88606235637612, -0.46356606930749117 L -0.8861765430249924, -0.4633477469377334 \", \"type\": \"path\"}, {\"fillcolor\": \"#8f391e\", \"layer\": \"below\", \"line\": {\"color\": \"rgb(175,175,175)\", \"width\": 0.5}, \"path\": \"M -0.8859481159403847,-0.463784363537283 Q 0.03530032504799884, -0.19686006972340944 0.991895626927883, -0.12705536305619677L 0.991895626927883, -0.12705536305619677 L 0.9918612862598432, -0.12732316685886114 L 0.9918268732869424, -0.12759096137990117 M 0.9918268732869424,-0.12759096137990117 Q 0.035311843361938454, -0.1968580039479775 -0.8856432118731762, -0.46436634380945857L -0.8856432118731762, -0.46436634380945857 L -0.8857957117029375, -0.46407537871415516 L -0.8859481159403847, -0.463784363537283 \", \"type\": \"path\"}, {\"fillcolor\": \"#f0f3e7\", \"layer\": \"below\", \"line\": {\"color\": \"rgb(175,175,175)\", \"width\": 0.5}, \"path\": \"M -0.6045091120700439,-0.7965982258480665 Q -0.0722946380006658, -0.18647650070813934 -0.09042171145580155, -0.9959035666656706L -0.09042171145580155, -0.9959035666656706 L -0.09473612428543546, -0.9955024192614373 L -0.09904875843701237, -0.9950825812223256 M -0.09904875843701237,-0.9950825812223256 Q -0.07192352099226905, -0.18661995372433957 -0.5943882063169366, -0.8041782515035674L -0.5943882063169366, -0.8041782515035674 L -0.599460640247638, -0.8004042358670348 L -0.6045091120700439, -0.7965982258480665 \", \"type\": \"path\"}, {\"fillcolor\": \"#f0f3e7\", \"layer\": \"below\", \"line\": {\"color\": \"rgb(175,175,175)\", \"width\": 0.5}, \"path\": \"M -0.34864659014172167,-0.9372542638913681 Q 0.011378595220530243, -0.19967605657866777 0.4528632160212813, -0.891580006266887L 0.4528632160212813, -0.891580006266887 L 0.41075437257103414, -0.9117460421706124 L 0.36775015700425445, -0.9299246324425148 M 0.36775015700425445,-0.9299246324425148 Q 0.011279343771397589, -0.1996816877034212 -0.2606883739503781, -0.9654230014284453L -0.2606883739503781, -0.9654230014284453 L -0.3049928590309748, -0.9523546376954921 L -0.34864659014172167, -0.9372542638913681 \", \"type\": \"path\"}, {\"fillcolor\": \"#f0f3e7\", \"layer\": \"below\", \"line\": {\"color\": \"rgb(175,175,175)\", \"width\": 0.5}, \"path\": \"M -0.516505029118565,-0.8562841554619764 Q 0.028722089211704993, -0.19792685919630731 0.7385936005873472, -0.674150942424186L 0.7385936005873472, -0.674150942424186 L 0.7268996187570679, -0.6867437253086696 L 0.7149909635582641, -0.6991336939599071 M 0.7149909635582641,-0.6991336939599071 Q 0.02875776683273903, -0.1979216785670378 -0.4864598094811707, -0.8737029551051908L -0.4864598094811707, -0.8737029551051908 L -0.5015580430140678, -0.8651239965969609 L -0.516505029118565, -0.8562841554619764 \", \"type\": \"path\"}, {\"fillcolor\": \"#f0f3e7\", \"layer\": \"below\", \"line\": {\"color\": \"rgb(175,175,175)\", \"width\": 0.5}, \"path\": \"M -0.5706829260809315,-0.8211705047550758 Q 0.054786310836753754, -0.19234983791232735 0.9177169541303388, -0.39723493313369806L 0.9177169541303388, -0.39723493313369806 L 0.9149814696422695, -0.40349586145495075 L 0.912203271898808, -0.4097379537425222 M 0.912203271898808,-0.4097379537425222 Q 0.05501246617211591, -0.1922852791184541 -0.5574577811260326, -0.8302052892279357L -0.5574577811260326, -0.8302052892279357 L -0.5640884422206992, -0.825714375164333 L -0.5706829260809315, -0.8211705047550758 \", \"type\": \"path\"}, {\"fillcolor\": \"#f0f3e7\", \"layer\": \"below\", \"line\": {\"color\": \"rgb(175,175,175)\", \"width\": 0.5}, \"path\": \"M -0.6423319528566122,-0.7664265537802113 Q 0.05819817083836144, -0.19134516693940534 0.9602961232442841, -0.2789827157405968L 0.9602961232442841, -0.2789827157405968 L 0.9596414573964804, -0.2812263736671208 L 0.9589815494225146, -0.28346849536975577 M 0.9589815494225146,-0.28346849536975577 Q 0.05826711724150971, -0.1913241831247795 -0.6381876566302128, -0.7698808446278148L -0.6381876566302128, -0.7698808446278148 L -0.6402621342867214, -0.7681564940808692 L -0.6423319528566122, -0.7664265537802113 \", \"type\": \"path\"}, {\"fillcolor\": \"#f0f3e7\", \"layer\": \"below\", \"line\": {\"color\": \"rgb(175,175,175)\", \"width\": 0.5}, \"path\": \"M -0.6338943967201937,-0.7734196104358498 Q 0.07577892777373094, -0.18508796315661286 0.9942793605321457, -0.1068108291316348L 0.9942793605321457, -0.1068108291316348 L 0.9940095033007905, -0.10929367478365629 L 0.9937334460887757, -0.11177583873327189 M 0.9937334460887757,-0.11177583873327189 Q 0.07589396174948308, -0.1850408240631456 -0.6290574140974722, -0.7773588423430979L -0.6290574140974722, -0.7773588423430979 L -0.6314789770838852, -0.7753929980990865 L -0.6338943967201937, -0.7734196104358498 \", \"type\": \"path\"}, {\"fillcolor\": \"#e2ecde\", \"layer\": \"below\", \"line\": {\"color\": \"rgb(175,175,175)\", \"width\": 0.5}, \"path\": \"M -0.09042171145580155,-0.9959035666656706 Q -0.010006816643273457, -0.19974950217877369 -0.009564436679392467, -0.9999542597294168L -0.009564436679392467, -0.9999542597294168 L -0.015954346791434388, -0.9998727213092967 L -0.022343605366247705, -0.9997503504871791 M -0.022343605366247705,-0.9997503504871791 Q -0.010417763012113605, -0.1997284912420445 -0.08178787380797437, -0.9966497597942674L -0.08178787380797437, -0.9966497597942674 L -0.08610560095154507, -0.9962860159034519 L -0.09042171145580155, -0.9959035666656706 \", \"type\": \"path\"}, {\"fillcolor\": \"#e2ecde\", \"layer\": \"below\", \"line\": {\"color\": \"rgb(175,175,175)\", \"width\": 0.5}, \"path\": \"M -0.13439214077575032,-0.9909282277227301 Q 0.049639431248173285, -0.193741907870646 0.5943341736717986, -0.8042181855727091L 0.5943341736717986, -0.8042181855727091 L 0.5929915282321916, -0.805208698068302 L 0.5916472320157833, -0.8061969690144349 M 0.5916472320157833,-0.8061969690144349 Q 0.04954003459612974, -0.19376734753877978 -0.13210180160772958, -0.9912361545121284L -0.13210180160772958, -0.9912361545121284 L -0.13324706014205115, -0.9910828527239792 L -0.13439214077575032, -0.9909282277227301 \", \"type\": \"path\"}, {\"fillcolor\": \"#e2ecde\", \"layer\": \"below\", \"line\": {\"color\": \"rgb(175,175,175)\", \"width\": 0.5}, \"path\": \"M -0.13839849995615644,-0.9903766229116506 Q 0.09359261504153642, -0.1767496037044688 0.896946045550108, -0.4421400133125518L 0.896946045550108, -0.4421400133125518 L 0.8967233395152275, -0.4425915186361551 L 0.8965004062013018, -0.44304291178270866 M 0.8965004062013018,-0.44304291178270866 Q 0.09357511150998964, -0.17675887108117944 -0.13759740710641974, -0.9904882399895468L -0.13759740710641974, -0.9904882399895468 L -0.13799796481621185, -0.9904325124442268 L -0.13839849995615644, -0.9903766229116506 \", \"type\": \"path\"}, {\"fillcolor\": \"#e2ecde\", \"layer\": \"below\", \"line\": {\"color\": \"rgb(175,175,175)\", \"width\": 0.5}, \"path\": \"M -0.13599495187906113,-0.9907095301163766 Q 0.10800894430586623, -0.16832726442835189 0.9572666329014127, -0.2892068352124343L 0.9572666329014127, -0.2892068352124343 L 0.9569704089347574, -0.29018552069881637 L 0.9566731843848004, -0.291163902774787 M 0.9566731843848004,-0.291163902774787 Q 0.10797297000400792, -0.16835034228807977 -0.13439214077575032, -0.9909282277227301L -0.13439214077575032, -0.9909282277227301 L -0.13519359054977848, -0.9908192030205404 L -0.13599495187906113, -0.9907095301163766 \", \"type\": \"path\"}, {\"fillcolor\": \"#e2ecde\", \"layer\": \"below\", \"line\": {\"color\": \"rgb(175,175,175)\", \"width\": 0.5}, \"path\": \"M -0.1389706537315718,-0.9902964997420821 Q 0.12127833312826033, -0.15903322267259354 0.9917751182614661, -0.1279926357157119L 0.9917751182614661, -0.1279926357157119 L 0.9917578304365979, -0.12812652249902187 L 0.9917405245373998, -0.12826040694728494 M 0.9917405245373998,-0.12826040694728494 Q 0.12127523975669906, -0.15903558162233747 -0.13874179777698106, -0.9903285886763097L -0.13874179777698106, -0.9903285886763097 L -0.13885622668122372, -0.9903125508201199 L -0.1389706537315718, -0.9902964997420821 \", \"type\": \"path\"}, {\"fillcolor\": \"#d4e5d6\", \"layer\": \"below\", \"line\": {\"color\": \"rgb(175,175,175)\", \"width\": 0.5}, \"path\": \"M 0.1615000587575624,-0.9868727025413683 Q 0.10189145550350882, -0.17209919028100185 0.7875957660973756, -0.6161922664440767L 0.7875957660973756, -0.6161922664440767 L 0.7757336437645395, -0.631060467730146 L 0.7635908816682513, -0.6457003681531416 M 0.7635908816682513,-0.6457003681531416 Q 0.10196137339222713, -0.172057776156647 0.19971236118248697, -0.9798545671633704L 0.19971236118248697, -0.9798545671633704 L 0.18064029626797734, -0.983549227727935 L 0.1615000587575624, -0.9868727025413683 \", \"type\": \"path\"}, {\"fillcolor\": \"#d4e5d6\", \"layer\": \"below\", \"line\": {\"color\": \"rgb(175,175,175)\", \"width\": 0.5}, \"path\": \"M 0.03269170929246408,-0.9994654832176733 Q 0.11364191595805762, -0.16457677520653324 0.9230592745475786, -0.38465773834890915L 0.9230592745475786, -0.38465773834890915 L 0.9204095976648591, -0.39095546105203877 L 0.9177169541303388, -0.39723493313369806 M 0.9177169541303388,-0.39723493313369806 Q 0.11384954031073012, -0.1644332149264115 0.04886718291911822, -0.9988052855454608L 0.04886718291911822, -0.9988052855454608 L 0.040780782115314565, -0.99916811789111 L 0.03269170929246408, -0.9994654832176733 \", \"type\": \"path\"}, {\"fillcolor\": \"#d4e5d6\", \"layer\": \"below\", \"line\": {\"color\": \"rgb(175,175,175)\", \"width\": 0.5}, \"path\": \"M -0.05044199093926387,-0.9987269925009954 Q 0.1148065353094733, -0.1637664784082343 0.9560757347791091, -0.2931197526039256L 0.9560757347791091, -0.2931197526039256 L 0.9558399282930221, -0.2938877872263328 L 0.9556035048295812, -0.2946556321494985 M 0.9556035048295812,-0.2946556321494985 Q 0.11482845373932234, -0.1637511105667266 -0.048569760283981585, -0.9988197927483999L -0.048569760283981585, -0.9988197927483999 L -0.049505897356223544, -0.9987738313186599 L -0.05044199093926387, -0.9987269925009954 \", \"type\": \"path\"}, {\"fillcolor\": \"#d4e5d6\", \"layer\": \"below\", \"line\": {\"color\": \"rgb(175,175,175)\", \"width\": 0.5}, \"path\": \"M -0.03256441264087175,-0.9994696388732152 Q 0.13272630517585282, -0.1496119243722451 0.9962265509223718, -0.08679089374649265L 0.9962265509223718, -0.08679089374649265 L 0.9958668831173922, -0.09082483751733454 L 0.9954908810407812, -0.09485729157344354 M 0.9954908810407812,-0.09485729157344354 Q 0.1328851785649183, -0.1494708309931064 -0.022343605366247705, -0.9997503504871791L -0.022343605366247705, -0.9997503504871791 L -0.027454367778553784, -0.9996230578022297 L -0.03256441264087175, -0.9994696388732152 \", \"type\": \"path\"}, {\"fillcolor\": \"#c6decd\", \"layer\": \"below\", \"line\": {\"color\": \"rgb(175,175,175)\", \"width\": 0.5}, \"path\": \"M 0.616771649266883,-0.7871421298981583 Q 0.1574864509008107, -0.12328024084445384 0.912203271898808, -0.4097379537425222L 0.912203271898808, -0.4097379537425222 L 0.9099500472464066, -0.4147178697816895 L 0.9076696363939897, -0.4196853954671314 M 0.9076696363939897,-0.4196853954671314 Q 0.15759416900974144, -0.12314251050765959 0.6267030875531231, -0.7792581344146383L 0.6267030875531231, -0.7792581344146383 L 0.6217498649968425, -0.7832158740579817 L 0.616771649266883, -0.7871421298981583 \", \"type\": \"path\"}, {\"fillcolor\": \"#c6decd\", \"layer\": \"below\", \"line\": {\"color\": \"rgb(175,175,175)\", \"width\": 0.5}, \"path\": \"M 0.6970323301328252,-0.7170396995631443 Q 0.17741853196650673, -0.09231827833560176 0.987222403713799, -0.15934844086325042L 0.987222403713799, -0.15934844086325042 L 0.9853925505843414, -0.17029833015295914 L 0.9834412493622743, -0.18122723043949313 M 0.9834412493622743,-0.18122723043949313 Q 0.17756404722922875, -0.09203808522332604 0.7149909635582641, -0.6991336939599071L 0.7149909635582641, -0.6991336939599071 L 0.7060684115159978, -0.7081436282699123 L 0.6970323301328252, -0.7170396995631443 \", \"type\": \"path\"}, {\"fillcolor\": \"#c6decd\", \"layer\": \"below\", \"line\": {\"color\": \"rgb(175,175,175)\", \"width\": 0.5}, \"path\": \"M 0.6793603508101153,-0.7338048199263596 Q 0.18198767876304137, -0.08294868762337392 0.9995065603657315, -0.031410759078131914L 0.9995065603657315, -0.031410759078131914 L 0.9991484813229087, -0.041259087121810076 L 0.9986933671918378, -0.05110340817430051 M 0.9986933671918378,-0.05110340817430051 Q 0.18218004239641455, -0.08252534248605455 0.6970323301328252, -0.7170396995631443L 0.6970323301328252, -0.7170396995631443 L 0.6882473903717485, -0.7254760710364456 L 0.6793603508101153, -0.7338048199263596 \", \"type\": \"path\"}, {\"fillcolor\": \"#b8d7c5\", \"layer\": \"below\", \"line\": {\"color\": \"rgb(175,175,175)\", \"width\": 0.5}, \"path\": \"M 0.8954143561583949,-0.44523379340010466 Q 0.18568612243294844, -0.07430117048752387 0.9553880391431065, -0.2953535079566349L 0.9553880391431065, -0.2953535079566349 L 0.9552801151710818, -0.2957023867991679 L 0.9551720637990504, -0.2960512262056395 M 0.9551720637990504,-0.2960512262056395 Q 0.18568570722544325, -0.07430220812457038 0.8957343387219953, -0.4445896922267428L 0.8957343387219953, -0.4445896922267428 L 0.8955744053452576, -0.44491177158003853 L 0.8954143561583949, -0.44523379340010466 \", \"type\": \"path\"}, {\"fillcolor\": \"#b8d7c5\", \"layer\": \"below\", \"line\": {\"color\": \"rgb(175,175,175)\", \"width\": 0.5}, \"path\": \"M 0.8950939104370963,-0.44587766427398834 Q 0.1913929824453893, -0.05804072941184414 0.9919811622478002, -0.12638581307054758L 0.9919811622478002, -0.12638581307054758 L 0.9919384510804088, -0.12672059528032328 L 0.991895626927883, -0.12705536305619677 M 0.991895626927883,-0.12705536305619677 Q 0.19139426547818095, -0.05803649836152758 0.8954143561583949, -0.44523379340010466L 0.8954143561583949, -0.44523379340010466 L 0.895254191182104, -0.4455557576452994 L 0.8950939104370963, -0.44587766427398834 \", \"type\": \"path\"}, {\"fillcolor\": \"#aad0bc\", \"layer\": \"below\", \"line\": {\"color\": \"rgb(175,175,175)\", \"width\": 0.5}, \"path\": \"M 0.9634124339183301,-0.26802328662181435 Q 0.19665423105539548, -0.036429567771401376 0.9954908810407812, -0.09485729157344354L 0.9954908810407812, -0.09485729157344354 L 0.9951849410328811, -0.09801496386461073 L 0.9948689849925244, -0.1011716496848018 M 0.9948689849925244,-0.1011716496848018 Q 0.19666370809631614, -0.036378371566178784 0.9652298489720559, -0.26140263704366534L 0.9652298489720559, -0.26140263704366534 L 0.9643268232753711, -0.2647145215352403 L 0.9634124339183301, -0.26802328662181435 \", \"type\": \"path\"}, {\"fillcolor\": \"#f2e6ce\", \"layer\": \"below\", \"line\": {\"color\": \"rgb(150,150,150)\", \"width\": 0.45}, \"path\": \"M 1.1, 0.0 L 1.0997089608529098, 0.025302201876785547 L 1.098835997418521, 0.05059101478765522 L 1.097381571635985, 0.0758530568516263 L 1.0953464531322823, 0.1010749603538332 L 1.0927317188149652, 0.12624337881921543 L 1.0895387523022981, 0.15134499407496613 L 1.0857692431911004, 0.17636652329800417 L 1.0814251861626747, 0.20129472604374046 L 1.0765088799272986, 0.22611641125241938 L 1.071022926007833, 0.25081844422932736 L 1.0649702273630954, 0.2753877535951753 L 1.0583539868517247, 0.2998113382029769 L 1.0511777055373484, 0.32407627401776284 L 0.9556160959430439, 0.29461479456160256 L 0.9621399880470223, 0.27255576200270626 L 0.9681547521482685, 0.2503525032683412 L 0.9736572054616662, 0.22801676748120667 L 0.978644436297544, 0.20556037386583578 L 0.9831138056024314, 0.1829952054943095 L 0.9870629483555456, 0.1603332029981856 L 0.990489774820271, 0.1375863582499692 L 0.9933924716499684, 0.11476670801746858 L 0.9957695028475293, 0.09188632759439382 L 0.997619610578168, 0.06895732441056936 L 0.9989418158350188, 0.04599183162514111 L 0.9997354189571906, 0.023002001706168677 L 1.0, 0.0 L 1.1 ,0.0\", \"type\": \"path\"}, {\"fillcolor\": \"#ecd5bb\", \"layer\": \"below\", \"line\": {\"color\": \"rgb(150,150,150)\", \"width\": 0.45}, \"path\": \"M 1.0404795310286674, 0.3569346515965698 L 1.0329295056492707, 0.37822828603788183 L 1.0249437532559222, 0.3993623701122368 L 1.0165256425277296, 0.4203279886988098 L 1.007678724528178, 0.4411162977416102 L 0.9984067312071645, 0.461718527980224 L 0.9887135738267274, 0.4821259886490051 L 0.9786033413111329, 0.5023300711431542 L 0.96808029852202, 0.5223222526501401 L 0.9571488844593272, 0.5420940997449295 L 0.9458137103887623, 0.5616372719475112 L 0.9340795578966031, 0.5809435252412118 L 0.9219513768726524, 0.6000047155503203 L 0.9094342834221942, 0.6188128021755532 L 0.8965335577078368, 0.6373598511859129 L 0.8832546417221485, 0.6556380387655062 L 0.8696031369920284, 0.6736396545139127 L 0.8555848022157804, 0.6913571046987108 L 0.8412055508338852, 0.7087829154587885 L 0.826471448534498, 0.7259097359570877 L 0.8113887106947215, 0.7427303414814542 L 0.7959636997587355, 0.7592376364922814 L 0.7802029225538873, 0.7754246576156661 L 0.7641130275458771, 0.7912845765808114 L 0.7477008020341944, 0.8068107031004377 L 0.7309731692889905, 0.8219964876929883 L 0.7139371856305916, 0.8368355244454375 L 0.6966000374528889, 0.8513215537155359 L 0.6789690381918568, 0.8654484647723544 L 0.6610516252404823, 0.8792102983740108 L 0.6428553568114023, 0.8926012492814945 L 0.6243879087485776, 0.9056156687075252 L 0.6056570712893438, 0.9182480666994159 L 0.5866707457782068, 0.930493114454934 L 0.5674369413337714, 0.9423456465701819 L 0.5479637714702041, 0.9538006632185522 L 0.5282594506746614, 0.9648533322598338 L 0.5083322909421192, 0.9754989912785851 L 0.4881906982690754, 0.985733149550908 L 0.4678431691075954, 0.9955514899387988 L 0.4472982867812015, 1.0049498707112718 L 0.42656471786411687, 1.013924327291493 L 0.4056512085253913, 1.0224710739291796 L 0.38456658083945056, 1.0305865052975682 L 0.34960598258131864, 0.9368968229977892 L 0.3687738259321739, 0.9295191581174359 L 0.38778610714919715, 0.9217493884468118 L 0.4066348061647286, 0.9135907915557017 L 0.4253119719159958, 0.9050468090352716 L 0.44380972569915944, 0.8961210450462799 L 0.4621202644928356, 0.8868172647987136 L 0.4802358642496921, 0.8771393929634852 L 0.49814888315473105, 0.8670915120168655 L 0.5158517648488831, 0.8566778605183472 L 0.5333370416165516, 0.8459028313226672 L 0.550597337535767, 0.8347709697267417 L 0.567625371589616, 0.8232869715522956 L 0.5844139607376384, 0.811455681164995 L 0.600956022945893, 0.7992820894309188 L 0.6172445801744153, 0.7867713316112311 L 0.633272761320808, 0.7739286851959416 L 0.6490338051187196, 0.7607595676776704 L 0.6645210629899913, 0.7472695342663529 L 0.6797280018492676, 0.7334642755458524 L 0.6946482068598882, 0.7193496150734648 L 0.7092753841398975, 0.7049315069233328 L 0.7236033634170322, 0.6902160331748012 L 0.737626100631565, 0.6752094013467765 L 0.7513376804859072, 0.6599179417791706 L 0.7647323189398956, 0.6443481049625349 L 0.7778043656507093, 0.6285064588170097 L 0.7905483063563894, 0.6123996859217388 L 0.8029587652019531, 0.5960345806959146 L 0.8150305070071243, 0.5794180465326481 L 0.8267584394747219, 0.5625570928868665 L 0.8381376153387748, 0.5454588323184729 L 0.8491632344514574, 0.5281304774920107 L 0.8598306458079656, 0.5105793381341011 L 0.8701353495084793, 0.49281281794993587 L 0.8800729986563818, 0.47483841150012734 L 0.889639401191939, 0.4566637010392311 L 0.8988305216606612, 0.4382963533172773 L 0.907642482915604, 0.41974411634565817 L 0.9160715677528889, 0.4010148161287365 L 0.9241142204797541, 0.3821163533625543 L 0.9317670484144748, 0.36305670010203345 L 0.9390268233175186, 0.3438438963980744 L 0.9458904827533339, 0.3244860469059725 L 1.0404795310286674 ,0.3569346515965698\", \"type\": \"path\"}, {\"fillcolor\": \"#e6c4a9\", \"layer\": \"below\", \"line\": {\"color\": \"rgb(150,150,150)\", \"width\": 0.45}, \"path\": \"M 0.35200531601937707, 1.0421575012895596 L 0.3294841339672677, 1.049495214597875 L 0.3068101786513513, 1.0563463041426926 L 0.2839939633977641, 1.0627075932511396 L 0.2610460674948921, 1.0685761323581267 L 0.23797713128803044, 1.0739492003739841 L 0.21479785124572964, 1.0788243059461617 L 0.19151897500012027, 1.0831991886144041 L 0.16815129636351456, 1.0870718198588674 L 0.14470565032359387, 1.0904404040406912 L 0.12119290801950697, 1.093303379234591 L 0.09762397170120313, 1.0956594179530803 L 0.07400976967434171, 1.0975074277619952 L 0.05036125123311857, 1.098846551787025 L 0.02668938158336332, 1.0996761691110242 L 0.0030051367582562783, 1.0999958950619153 L -0.0206805014709738, 1.0998055813910517 L -0.04435655068701273, 1.0991053163419557 L -0.06801203291872328, 1.0978954246094037 L -0.09163597973134717, 1.096176467188872 L -0.1152174373122829, 1.0939492411164196 L -0.13874547155008604, 1.0912147790991216 L -0.16220917310433322, 1.0879743490362301 L -0.1855976624640018, 1.084229453431283 L -0.20890009499201612, 1.0799818286954308 L -0.1899091772654692, 0.9818016624503916 L -0.16872514769454708, 0.9856631394829845 L -0.1474628846403029, 0.9890675900329364 L -0.12613224686371458, 0.9920134355446558 L -0.10474312482934808, 0.9944993101058359 L -0.08330543611940651, 0.9965240610807927 L -0.06182912083520298, 0.9980867496449123 L -0.04032413698819339, 0.9991866512199598 L -0.018800455882703453, 0.9998232558100469 L 0.0027319425075057074, 0.9999962682381048 L 0.024263074166693925, 0.9997056082827491 L 0.04578295566647142, 0.9989514107154771 L 0.06728160879485609, 0.9977340252381773 L 0.08874906518291192, 0.9960540163209821 L 0.1101753709268245, 0.9939121629405371 L 0.13155059120326715, 0.9913094582188101 L 0.15286481487592232, 0.9882471089626066 L 0.17410815909101843, 0.9847265351040037 L 0.1952707738597542, 0.9807493690419652 L 0.2163428466254822, 0.97631745488544 L 0.23731460681353825, 0.9714328475982968 L 0.2581763303616037, 0.9660978120464905 L 0.27891834422850115, 0.9603148219479023 L 0.29953103087933425, 0.9540865587253409 L 0.3200048327448882, 0.947415910263236 L 0.35200531601937707 ,1.0421575012895596\", \"type\": \"path\"}, {\"fillcolor\": \"#e1b396\", \"layer\": \"below\", \"line\": {\"color\": \"rgb(150,150,150)\", \"width\": 0.45}, \"path\": \"M -0.24272006443545327, 1.0728872123016704 L -0.26568460971882973, 1.0674322873880822 L -0.28852682446591904, 1.0614858791164454 L -0.31123619131787594, 1.0550507254222152 L -0.33380225408369807, 1.0481297892764248 L -0.35621462255462244, 1.0407262573214284 L -0.37846297728814376, 1.0328435384036607 L -0.40053707435944863, 1.0244852620040825 L -0.42242675007807845, 1.0156552765670412 L -0.44412192566764996, 1.0063576477283107 L -0.4656126119064785, 0.9965966564431307 L -0.48688891372696647, 0.9863767970151035 L -0.5079410347716409, 0.9757027750268596 L -0.52875928190374, 0.9645795051734416 L -0.549334069670276, 0.9530121089994044 L -0.5696559247155125, 0.9410059125406781 L -0.589715490142832, 0.9285664438722733 L -0.6095035298229792, 0.9156994305629598 L -0.5540941180208901, 0.8324540277845088 L -0.5361049910389382, 0.8441513126111575 L -0.5178690224686477, 0.8554599204915255 L -0.49939460879116, 0.866374644544913 L -0.4806902562761272, 0.8768904592485832 L -0.4617645770651281, 0.8870025227516906 L -0.4426262852063331, 0.8967061791046395 L -0.42328419264225314, 0.9059969604028459 L -0.403747205152409, 0.9148705888439187 L -0.38402431825279854, 0.9233229786973101 L -0.3641246130540442, 0.9313502381855295 L -0.34405725208013066, 0.9389486712760551 L -0.32383147504965676, 0.9461147793831167 L -0.3034565946215437, 0.9528452629785679 L -0.2829419921071599, 0.9591370231111047 L -0.2622971131508355, 0.9649871628331321 L -0.2415314633807543, 0.9703929885346201 L -0.22065460403223022, 0.9753520111833367 L -0.24272006443545327 ,1.0728872123016704\", \"type\": \"path\"}, {\"fillcolor\": \"#dba284\", \"layer\": \"below\", \"line\": {\"color\": \"rgb(150,150,150)\", \"width\": 0.45}, \"path\": \"M -0.6379655908255304, 0.8961026196383047 L -0.6591569187662848, 0.8806316803536752 L -0.6799732232773514, 0.8646597108838884 L -0.7004026610454187, 0.8481957983864908 L -0.7204336088627181, 0.8312493099071062 L -0.6549396444206528, 0.7556811908246419 L -0.6367296918594715, 0.7710870894422643 L -0.6181574757066831, 0.7860542826217166 L -0.5992335625148043, 0.8005742548669774 L -0.5799687189323003, 0.8146387451257315 L -0.6379655908255304 ,0.8961026196383047\", \"type\": \"path\"}, {\"fillcolor\": \"#d59171\", \"layer\": \"below\", \"line\": {\"color\": \"rgb(150,150,150)\", \"width\": 0.45}, \"path\": \"M -0.7461882901735986, 0.8082097720318666 L -0.775909179307638, 0.7797210690151625 L -0.8045431944530916, 0.7501401524110112 L -0.8320502258044813, 0.7195084584205469 L -0.8583917422067754, 0.6878688951473362 L -0.7803561292788866, 0.6253353592248511 L -0.756409296185892, 0.6540985985641334 L -0.731402904048265, 0.6819455931009192 L -0.7053719811887618, 0.7088373354683295 L -0.6783529910669077, 0.7347361563926059 L -0.7461882901735986 ,0.8082097720318666\", \"type\": \"path\"}, {\"fillcolor\": \"#d0805f\", \"layer\": \"below\", \"line\": {\"color\": \"rgb(150,150,150)\", \"width\": 0.45}, \"path\": \"M -0.879574661842253, 0.6605667371621785 L -0.8944693310483919, 0.6402535558775464 L -0.9088949756473474, 0.6196046507596661 L -0.922844031397333, 0.5986308492838625 L -0.936309183961046, 0.577343149288359 L -0.9492833727410206, 0.5557527132074416 L -0.9617597945819284, 0.5338708622183149 L -0.9737319073378846, 0.5117090703047246 L -0.9851934333028937, 0.48927895824044704 L -0.9961383625026311, 0.46659228749581466 L -1.0065609558458386, 0.4436609540704613 L -1.0164557481336787, 0.42049698225552573 L -0.9240506801215259, 0.38226998386865974 L -0.9150554144053077, 0.4033281400640557 L -0.9055803295478464, 0.4241748068143769 L -0.8956303939117214, 0.4447990529458609 L -0.8852108248526223, 0.46519006391338596 L -0.8743270859835712, 0.48533714747119533 L -0.8629848843100186, 0.5052297392794923 L -0.8511901672373144, 0.5248574084439627 L -0.8389491194521208, 0.5442098629853295 L -0.8262681596794067, 0.56327695523606 L -0.8131539373167198, 0.5820486871614058 L -0.7996133289475026, 0.6005152156019804 L -0.879574661842253 ,0.6605667371621785\", \"type\": \"path\"}, {\"fillcolor\": \"#ca6f4c\", \"layer\": \"below\", \"line\": {\"color\": \"rgb(150,150,150)\", \"width\": 0.45}, \"path\": \"M -1.0291623179837777, 0.3883618457601852 L -1.0346925034055745, 0.3733783917104812 L -1.040004559532053, 0.3583162236803414 L -1.045097366499046, 0.3431785170093825 L -1.0499698506635224, 0.327968462961945 L -0.9545180460577476, 0.2981531481472227 L -0.9500885149991326, 0.3119804700085295 L -0.9454586904836846, 0.325742021527583 L -0.9406295485505222, 0.3394349015549829 L -0.9356021072579797, 0.35305622341835013 L -1.0291623179837777 ,0.3883618457601852\", \"type\": \"path\"}, {\"fillcolor\": \"#c45e3a\", \"layer\": \"below\", \"line\": {\"color\": \"rgb(150,150,150)\", \"width\": 0.45}, \"path\": \"M -1.0597534922997398, 0.29482628030503943 L -1.0655143722375737, 0.2732748114173156 L -1.0708370232425786, 0.25161094899263264 L -1.0757192561939595, 0.22984360302935275 L -1.0801590631077869, 0.20798172608695367 L -0.9819627846434424, 0.18907429644268514 L -0.9779265965399632, 0.2089487300266843 L -0.9734882029477987, 0.22873722635693877 L -0.9686494293068851, 0.24843164674301413 L -0.9634122657270361, 0.26802389118639947 L -1.0597534922997398 ,0.29482628030503943\", \"type\": \"path\"}, {\"fillcolor\": \"#bf4d28\", \"layer\": \"below\", \"line\": {\"color\": \"rgb(150,150,150)\", \"width\": 0.45}, \"path\": \"M -1.0861589337055055, 0.17395048356276352 L -1.0937620544452846, 0.11698105938839169 L -1.0983791842247808, 0.05969227472383061 L -1.0999977181929408, 0.0022405290276638493 L -1.0986132377216196, -0.05521733335484817 L -0.9987393070196541, -0.0501975757771347 L -0.999997925629946, 0.0020368445706034992 L -0.998526531113437, 0.05426570429439146 L -0.9943291404048041, 0.10634641762581062 L -0.9874172124595505, 0.1581368032388759 L -1.0861589337055055 ,0.17395048356276352\", \"type\": \"path\"}, {\"fillcolor\": \"#af4624\", \"layer\": \"below\", \"line\": {\"color\": \"rgb(150,150,150)\", \"width\": 0.45}, \"path\": \"M -1.0963367200524499, -0.08969836266418835 L -1.0901288602622874, -0.14703424098911852 L -1.0809245511415397, -0.20396596465945216 L -1.0687490926771246, -0.2603370448127259 L -1.0536359516872273, -0.31599253363355106 L -0.9578508651702066, -0.2872659396668646 L -0.9715900842519313, -0.2366700407388417 L -0.9826586828559452, -0.1854236042358656 L -0.9910262366020794, -0.13366749180828955 L -0.9966697455022271, -0.08154396605835304 L -1.0963367200524499 ,-0.08969836266418835\", \"type\": \"path\"}, {\"fillcolor\": \"#9f4021\", \"layer\": \"below\", \"line\": {\"color\": \"rgb(150,150,150)\", \"width\": 0.45}, \"path\": \"M -1.043190480604124, -0.34893211542782515 L -1.0315339329205326, -0.3820179907196754 L -1.0188283320661196, -0.41471535995109843 L -1.0050865994295441, -0.4469909704313447 L -0.9903227101285754, -0.47881199839142874 L -0.9002933728441594, -0.43528363490129884 L -0.9137150903904946, -0.4063554276648588 L -0.9262075746055631, -0.37701396359190764 L -0.9377581208368478, -0.3472890824724322 L -0.9483549823673854, -0.31721101402529556 L -1.043190480604124 ,-0.34893211542782515\", \"type\": \"path\"}, {\"fillcolor\": \"#8f391e\", \"layer\": \"below\", \"line\": {\"color\": \"rgb(150,150,150)\", \"width\": 0.45}, \"path\": \"M -0.9747941973274917, -0.5096825216315067 L -0.9631173117406596, -0.5314179558741362 L -0.950955859739326, -0.5528860215518562 L -0.9383159600289898, -0.5740759175883232 L -0.9252039720331685, -0.5949769828607221 L -0.911626492693826, -0.6155787015636213 L -0.8975903531523003, -0.6358707084997147 L -0.8831026153123992, -0.6558427942947921 L -0.8681705682873943, -0.6754849105343087 L -0.8528017247327015, -0.6947871748189728 L -0.8370038170660913, -0.7137398757368075 L -0.8207847935773318, -0.7323334777491857 L -0.8041528144292224, -0.7505586259883773 L -0.7871162475520286, -0.768406150964198 L -0.7696836644333837, -0.785867073177391 L -0.751863835805777, -0.8029326076374179 L -0.7336657272337976, -0.8195941682823903 L -0.666968842939816, -0.7450856075294456 L -0.6835125780052518, -0.7299387342158344 L -0.6997124222121669, -0.7144246119794463 L -0.7155602250472987, -0.698551046331089 L -0.7310480131174748, -0.6823260236257975 L -0.7461679941612107, -0.6657577070447142 L -0.7609125609691738, -0.6488544324880068 L -0.7752742952115468, -0.6316247043808842 L -0.7892459711703583, -0.6140771913948261 L -0.8028205593749083, -0.5962207220861746 L -0.8159912301384548, -0.578064280454286 L -0.8287513569943872, -0.5596170014214739 L -0.8410945200301532, -0.5408881662370201 L -0.8530145091172634, -0.5218871978075665 L -0.8645053270357508, -0.5026236559562328 L -0.8755611924915087, -0.4831072326128511 L -0.8861765430249924, -0.4633477469377334 L -0.9747941973274917 ,-0.5096825216315067\", \"type\": \"path\"}, {\"fillcolor\": \"#f0f3e7\", \"layer\": \"below\", \"line\": {\"color\": \"rgb(150,150,150)\", \"width\": 0.45}, \"path\": \"M -0.7075596325239192, -0.842234745437765 L -0.6896192926074576, -0.8569861324803278 L -0.671371496919982, -0.871355445913677 L -0.6528243809503804, -0.8853362794084251 L -0.6339862136347202, -0.8989223998327726 L -0.6148653936696712, -0.9121077500314535 L -0.5954704457680823, -0.9248864515262193 L -0.5758100168583736, -0.9372528071366656 L -0.5558928722294443, -0.9492013035202274 L -0.535727891622803, -0.9607266136302182 L -0.5153240652736799, -0.9718235990908064 L -0.4946904899028721, -0.9824873124878797 L -0.4738363646611194, -0.9927129995747688 L -0.45277098702780366, -1.002496101391855 L -0.4315037486658197, -1.011832256299109 L -0.41004413123445027, -1.0207173019206568 L -0.38840170216212294, -1.0291472770005106 L -0.36658611038091915, -1.0371184231686315 L -0.34460708202475526, -1.0446271866165382 L -0.32247441609313976, -1.051670219681716 L -0.30019798008244497, -1.058244382340119 L -0.2777877055866442, -1.0643467436060994 L -0.25525358386946356, -1.0699745828391416 L -0.2326056614099392, -1.0751253909568153 L -0.20985403542335726, -1.0797968715534105 L -0.18700884935956583, -1.0839869419237538 L -0.17000804487233256, -0.9854426744761396 L -0.19077639583941566, -0.9816335195940095 L -0.2114596921908538, -0.9773867190516502 L -0.23204871260860324, -0.9727041662174013 L -0.25253427780604015, -0.9675879487328176 L -0.2729072546204045, -0.9620403475819264 L -0.2931585600846725, -0.9560638360742871 L -0.3132791654770502, -0.9496610787423074 L -0.3332601003462901, -0.9428349301533013 L -0.35309245651102084, -0.9355884336368278 L -0.3727673920313184, -0.9279248199278697 L -0.39227613515074516, -0.9198475057264625 L -0.4116099882070942, -0.9113600921744136 L -0.4307603315101085, -0.9024663632497897 L -0.4497186271844292, -0.8931702840798905 L -0.46847642297607256, -0.8834759991734603 L -0.48702535602072994, -0.8733878305729256 L -0.505357156572222, -0.8629102759274794 L -0.5234636516894305, -0.8520480064878777 L -0.5413367688800748, -0.8408058650238357 L -0.5589685396997011, -0.8291888636649577 L -0.5763511033042911, -0.8172021816661568 L -0.5934767099548912, -0.8048511630985682 L -0.6103377244727108, -0.792141314466979 L -0.6269266296431432, -0.7790783022548434 L -0.6432360295671992, -0.7656679503979681 L -0.7075596325239192 ,-0.842234745437765\", \"type\": \"path\"}, {\"fillcolor\": \"#e2ecde\", \"layer\": \"below\", \"line\": {\"color\": \"rgb(150,150,150)\", \"width\": 0.45}, \"path\": \"M -0.152867719104729, -1.0893261497162905 L -0.13718178460286332, -1.0914124600595203 L -0.12146746126804006, -1.0932729100517846 L -0.10572800107209607, -1.0949071146856701 L -0.08996666118877279, -1.0963147357736942 L -0.08178787380797525, -0.9966497597942673 L -0.09611636461099642, -0.9953701042597 L -0.11042496478912732, -0.9938844636834404 L -0.12471071327533029, -0.9921931455086547 L -0.1389706537315718, -0.9902964997420821 L -0.152867719104729 ,-1.0893261497162905\", \"type\": \"path\"}, {\"fillcolor\": \"#d4e5d6\", \"layer\": \"below\", \"line\": {\"color\": \"rgb(150,150,150)\", \"width\": 0.45}, \"path\": \"M -0.05548619003319026, -1.098599691751095 L -0.03239392906150404, -1.0995229117030523 L -0.00928736911900569, -1.0999607923807317 L 0.013823290351515404, -1.0999131404996751 L 0.036927848097701395, -1.0993799770938495 L 0.060016105560550294, -1.0983615375063647 L 0.08307787137615234, -1.0968582712855877 L 0.1061029658742455, -1.0948708419867108 L 0.12908122557161916, -1.0924001268788506 L 0.15200250765836276, -1.0894472165578144 L 0.17485669447499408, -1.0860134144647011 L 0.1976336979784849, -1.0821002363105505 L 0.22032346419521356, -1.077709409407295 L 0.24291597765887932, -1.072842871905309 L 0.26540126583141865, -1.067502771937891 L 0.2877694035049734, -1.0616914666730595 L 0.3100105171829669, -1.0554115212730766 L 0.332114789438351, -1.048665707762164 L 0.3540724632471112, -1.0414570038029045 L 0.3758738462951014, -1.0337885913818776 L 0.3975093152563188, -1.0256638554050994 L 0.41896932004072657, -1.017086382203897 L 0.4402443880097493, -1.0080599579518679 L 0.4613251281575803, -0.9985885669936304 L 0.4822022352564561, -0.9886763900860978 L 0.502866493964068, -0.9783278025530533 L 0.523308782891294, -0.9675473723538464 L 0.5435200786284659, -0.9563398580670506 L 0.5634914597283807, -0.9447102067899864 L 0.583214110644308, -0.9326635519550279 L 0.6026793256212511, -0.9202052110636595 L 0.6218785125387458, -0.907340683339283 L 0.5653441023079507, -0.8248551666720754 L 0.5478902960193192, -0.8365501918760541 L 0.5301946460402799, -0.8478759563227526 L 0.512264963389437, -0.8588274607181694 L 0.49410916238951436, -0.8693998709700459 L 0.4757352571739036, -0.8795885203216784 L 0.45715135814915275, -0.8893889114118666 L 0.43836566841496005, -0.8987967182600888 L 0.4193864801432548, -0.9078077881760276 L 0.40022217091795387, -0.916418143592607 L 0.38088120003702414, -0.9246239838217244 L 0.3613721047784716, -0.9324216867319085 L 0.34170349663191035, -0.9398078103471614 L 0.3218840574973738, -0.9467790943662768 L 0.30192253585304635, -0.953332461601967 L 0.28182774289360624, -0.9594650193391604 L 0.26160854864088484, -0.9651740606118722 L 0.2412738780285624, -0.9704570653980826 L 0.22083270696261753, -0.9753117017320989 L 0.20029405835928504, -0.9797358267339045 L 0.17966699816225898, -0.9837274875550458 L 0.15896063134090369, -0.9872849222406374 L 0.13818409787123886, -0.990406560507104 L 0.11734656870147196, -0.9930910244353187 L 0.09645724170385954, -0.9953371290788279 L 0.07552533761468394, -0.9971438829868977 L 0.05456009596413663, -0.9985104886421495 L 0.03357077099791036, -0.9994363428125904 L 0.01256662759228673, -0.9999210368178864 L -0.008443062835459716, -0.9999643567097561 L -0.029449026419549128, -0.9995662833664112 L -0.05044199093926387, -0.9987269925009954 L -0.05548619003319026 ,-1.098599691751095\", \"type\": \"path\"}, {\"fillcolor\": \"#c6decd\", \"layer\": \"below\", \"line\": {\"color\": \"rgb(150,150,150)\", \"width\": 0.45}, \"path\": \"M 0.6500719126391137, -0.88735928935112 L 0.6687204597582236, -0.8733916342058414 L 0.687068986990565, -0.8590321339250115 L 0.7051092623118546, -0.844287230865203 L 0.7228331919943183, -0.8291635402930506 L 0.7402328242379179, -0.8136678474173328 L 0.7573003527379137, -0.7978071043447981 L 0.7740281201871394, -0.7815884269611236 L 0.7904086217114392, -0.7650190917383847 L 0.8064345082367118, -0.7481065324704852 L 0.822098589786052, -0.730858336938004 L 0.8373938387055226, -0.7132822435039509 L 0.8523133928170897, -0.6953861376419734 L 0.8668505584973281, -0.6771780483985511 L 0.8809988136804949, -0.658666144790789 L 0.8947518107846438, -0.639858732141401 L 0.9081033795594504, -0.6207642483525488 L 0.9210475298544801, -0.601391260120199 L 0.9335784543066584, -0.5817484590906887 L 0.945690530945727, -0.5618446579612458 L 0.9573783257165315, -0.5416887865261854 L 0.968636594916994, -0.5212898876705854 L 0.8805787226518127, -0.47389989788235026 L 0.870343932469574, -0.4924443513874412 L 0.8597186644961153, -0.5107678708738598 L 0.8487076857333258, -0.5288622355369897 L 0.8373159362313455, -0.546719327381999 L 0.8255485268722276, -0.5643311348659534 L 0.8134107370769489, -0.5816897564921827 L 0.8009080124368135, -0.5987874043552627 L 0.7880459622702982, -0.6156164076350464 L 0.7748303571064451, -0.6321692160381576 L 0.7612671260959296, -0.6484384031854098 L 0.7473623543509563, -0.6644166699436399 L 0.7331222802151925, -0.680096847700441 L 0.7185532924649447, -0.6954719015803497 L 0.7036619274428539, -0.7105349336010214 L 0.6884548661253761, -0.7252791857679982 L 0.6729389311253798, -0.7396980431066661 L 0.6571210836311984, -0.7537850366300459 L 0.6410084202835041, -0.7675338462410936 L 0.6246081699914227, -0.7809383035681923 L 0.6079276906892941, -0.7939923947325831 L 0.5909744660355578, -0.8066902630464726 L 0.6500719126391137 ,-0.88735928935112\", \"type\": \"path\"}, {\"fillcolor\": \"#b8d7c5\", \"layer\": \"below\", \"line\": {\"color\": \"rgb(150,150,150)\", \"width\": 0.45}, \"path\": \"M 0.9845327423013444, -0.4906070518618692 L 0.9999419589033193, -0.4583842043794623 L 1.0142968930177803, -0.42567806240688283 L 1.027582409610627, -0.3925231094583067 L 1.0397845011813671, -0.3589543022489298 L 0.9452586374376063, -0.32632209295357256 L 0.9341658269187517, -0.3568391904166424 L 0.9220880845616183, -0.3869800567335298 L 0.9090381444575629, -0.41671291307223846 L 0.8950297657284948, -0.44600641078351744 L 0.9845327423013444 ,-0.4906070518618692\", \"type\": \"path\"}, {\"fillcolor\": \"#aad0bc\", \"layer\": \"below\", \"line\": {\"color\": \"rgb(150,150,150)\", \"width\": 0.45}, \"path\": \"M 1.0505464574053849, -0.3261167595095295 L 1.0613844389922222, -0.28889976231413816 L 1.0709044032727886, -0.2513240120858983 L 1.079094528444148, -0.21343617004130744 L 1.085944644085179, -0.17528328494957549 L 0.987222403713799, -0.15934844086325042 L 0.9809950258583163, -0.19403288185573403 L 0.9735494575207169, -0.22847637462354387 L 0.9648949445383839, -0.2626361475583074 L 0.9550422340048952, -0.2964697813722995 L 1.0505464574053849 ,-0.3261167595095295\", \"type\": \"path\"}, {\"fillcolor\": \"#9cc9b4\", \"layer\": \"below\", \"line\": {\"color\": \"rgb(150,150,150)\", \"width\": 0.45}, \"path\": \"M 1.09091457699114, -0.14108644764201345 L 1.0940205338960847, -0.11453851497957468 L 1.096480530719469, -0.08792295350562211 L 1.0982931149659336, -0.06125547827277942 L 1.0994572164023046, -0.03455183498594316 L 0.9995065603657315, -0.03141075907813014 L 0.9984482863326668, -0.05568679842979947 L 0.9968004824722445, -0.07992995773238373 L 0.9945641217237132, -0.10412592270870424 L 0.9917405245373998, -0.12826040694728494 L 1.09091457699114 ,-0.14108644764201345\", \"type\": \"path\"}], \"showlegend\": false, \"template\": {\"data\": {\"bar\": [{\"error_x\": {\"color\": \"#2a3f5f\"}, \"error_y\": {\"color\": \"#2a3f5f\"}, \"marker\": {\"line\": {\"color\": \"#E5ECF6\", \"width\": 0.5}}, \"type\": \"bar\"}], \"barpolar\": [{\"marker\": {\"line\": {\"color\": \"#E5ECF6\", \"width\": 0.5}}, \"type\": \"barpolar\"}], \"carpet\": [{\"aaxis\": {\"endlinecolor\": \"#2a3f5f\", \"gridcolor\": \"white\", \"linecolor\": \"white\", \"minorgridcolor\": \"white\", \"startlinecolor\": \"#2a3f5f\"}, \"baxis\": {\"endlinecolor\": \"#2a3f5f\", \"gridcolor\": \"white\", \"linecolor\": \"white\", \"minorgridcolor\": \"white\", \"startlinecolor\": \"#2a3f5f\"}, \"type\": \"carpet\"}], \"choropleth\": [{\"colorbar\": {\"outlinewidth\": 0, \"ticks\": \"\"}, \"type\": \"choropleth\"}], \"contour\": [{\"colorbar\": {\"outlinewidth\": 0, \"ticks\": \"\"}, \"colorscale\": [[0.0, \"#0d0887\"], [0.1111111111111111, \"#46039f\"], [0.2222222222222222, \"#7201a8\"], [0.3333333333333333, \"#9c179e\"], [0.4444444444444444, \"#bd3786\"], [0.5555555555555556, \"#d8576b\"], [0.6666666666666666, \"#ed7953\"], [0.7777777777777778, \"#fb9f3a\"], [0.8888888888888888, \"#fdca26\"], [1.0, \"#f0f921\"]], \"type\": \"contour\"}], \"contourcarpet\": [{\"colorbar\": {\"outlinewidth\": 0, \"ticks\": \"\"}, \"type\": \"contourcarpet\"}], \"heatmap\": [{\"colorbar\": {\"outlinewidth\": 0, \"ticks\": \"\"}, \"colorscale\": [[0.0, \"#0d0887\"], [0.1111111111111111, \"#46039f\"], [0.2222222222222222, \"#7201a8\"], [0.3333333333333333, \"#9c179e\"], [0.4444444444444444, \"#bd3786\"], [0.5555555555555556, \"#d8576b\"], [0.6666666666666666, \"#ed7953\"], [0.7777777777777778, \"#fb9f3a\"], [0.8888888888888888, \"#fdca26\"], [1.0, \"#f0f921\"]], \"type\": \"heatmap\"}], \"heatmapgl\": [{\"colorbar\": {\"outlinewidth\": 0, \"ticks\": \"\"}, \"colorscale\": [[0.0, \"#0d0887\"], [0.1111111111111111, \"#46039f\"], [0.2222222222222222, \"#7201a8\"], [0.3333333333333333, \"#9c179e\"], [0.4444444444444444, \"#bd3786\"], [0.5555555555555556, \"#d8576b\"], [0.6666666666666666, \"#ed7953\"], [0.7777777777777778, \"#fb9f3a\"], [0.8888888888888888, \"#fdca26\"], [1.0, \"#f0f921\"]], \"type\": \"heatmapgl\"}], \"histogram\": [{\"marker\": {\"colorbar\": {\"outlinewidth\": 0, \"ticks\": \"\"}}, \"type\": \"histogram\"}], \"histogram2d\": [{\"colorbar\": {\"outlinewidth\": 0, \"ticks\": \"\"}, \"colorscale\": [[0.0, \"#0d0887\"], [0.1111111111111111, \"#46039f\"], [0.2222222222222222, \"#7201a8\"], [0.3333333333333333, \"#9c179e\"], [0.4444444444444444, \"#bd3786\"], [0.5555555555555556, \"#d8576b\"], [0.6666666666666666, \"#ed7953\"], [0.7777777777777778, \"#fb9f3a\"], [0.8888888888888888, \"#fdca26\"], [1.0, \"#f0f921\"]], \"type\": \"histogram2d\"}], \"histogram2dcontour\": [{\"colorbar\": {\"outlinewidth\": 0, \"ticks\": \"\"}, \"colorscale\": [[0.0, \"#0d0887\"], [0.1111111111111111, \"#46039f\"], [0.2222222222222222, \"#7201a8\"], [0.3333333333333333, \"#9c179e\"], [0.4444444444444444, \"#bd3786\"], [0.5555555555555556, \"#d8576b\"], [0.6666666666666666, \"#ed7953\"], [0.7777777777777778, \"#fb9f3a\"], [0.8888888888888888, \"#fdca26\"], [1.0, \"#f0f921\"]], \"type\": \"histogram2dcontour\"}], \"mesh3d\": [{\"colorbar\": {\"outlinewidth\": 0, \"ticks\": \"\"}, \"type\": \"mesh3d\"}], \"parcoords\": [{\"line\": {\"colorbar\": {\"outlinewidth\": 0, \"ticks\": \"\"}}, \"type\": \"parcoords\"}], \"pie\": [{\"automargin\": true, \"type\": \"pie\"}], \"scatter\": [{\"marker\": {\"colorbar\": {\"outlinewidth\": 0, \"ticks\": \"\"}}, \"type\": \"scatter\"}], \"scatter3d\": [{\"line\": {\"colorbar\": {\"outlinewidth\": 0, \"ticks\": \"\"}}, \"marker\": {\"colorbar\": {\"outlinewidth\": 0, \"ticks\": \"\"}}, \"type\": \"scatter3d\"}], \"scattercarpet\": [{\"marker\": {\"colorbar\": {\"outlinewidth\": 0, \"ticks\": \"\"}}, \"type\": \"scattercarpet\"}], \"scattergeo\": [{\"marker\": {\"colorbar\": {\"outlinewidth\": 0, \"ticks\": \"\"}}, \"type\": \"scattergeo\"}], \"scattergl\": [{\"marker\": {\"colorbar\": {\"outlinewidth\": 0, \"ticks\": \"\"}}, \"type\": \"scattergl\"}], \"scattermapbox\": [{\"marker\": {\"colorbar\": {\"outlinewidth\": 0, \"ticks\": \"\"}}, \"type\": \"scattermapbox\"}], \"scatterpolar\": [{\"marker\": {\"colorbar\": {\"outlinewidth\": 0, \"ticks\": \"\"}}, \"type\": \"scatterpolar\"}], \"scatterpolargl\": [{\"marker\": {\"colorbar\": {\"outlinewidth\": 0, \"ticks\": \"\"}}, \"type\": \"scatterpolargl\"}], \"scatterternary\": [{\"marker\": {\"colorbar\": {\"outlinewidth\": 0, \"ticks\": \"\"}}, \"type\": \"scatterternary\"}], \"surface\": [{\"colorbar\": {\"outlinewidth\": 0, \"ticks\": \"\"}, \"colorscale\": [[0.0, \"#0d0887\"], [0.1111111111111111, \"#46039f\"], [0.2222222222222222, \"#7201a8\"], [0.3333333333333333, \"#9c179e\"], [0.4444444444444444, \"#bd3786\"], [0.5555555555555556, \"#d8576b\"], [0.6666666666666666, \"#ed7953\"], [0.7777777777777778, \"#fb9f3a\"], [0.8888888888888888, \"#fdca26\"], [1.0, \"#f0f921\"]], \"type\": \"surface\"}], \"table\": [{\"cells\": {\"fill\": {\"color\": \"#EBF0F8\"}, \"line\": {\"color\": \"white\"}}, \"header\": {\"fill\": {\"color\": \"#C8D4E3\"}, \"line\": {\"color\": \"white\"}}, \"type\": \"table\"}]}, \"layout\": {\"annotationdefaults\": {\"arrowcolor\": \"#2a3f5f\", \"arrowhead\": 0, \"arrowwidth\": 1}, \"coloraxis\": {\"colorbar\": {\"outlinewidth\": 0, \"ticks\": \"\"}}, \"colorscale\": {\"diverging\": [[0, \"#8e0152\"], [0.1, \"#c51b7d\"], [0.2, \"#de77ae\"], [0.3, \"#f1b6da\"], [0.4, \"#fde0ef\"], [0.5, \"#f7f7f7\"], [0.6, \"#e6f5d0\"], [0.7, \"#b8e186\"], [0.8, \"#7fbc41\"], [0.9, \"#4d9221\"], [1, \"#276419\"]], \"sequential\": [[0.0, \"#0d0887\"], [0.1111111111111111, \"#46039f\"], [0.2222222222222222, \"#7201a8\"], [0.3333333333333333, \"#9c179e\"], [0.4444444444444444, \"#bd3786\"], [0.5555555555555556, \"#d8576b\"], [0.6666666666666666, \"#ed7953\"], [0.7777777777777778, \"#fb9f3a\"], [0.8888888888888888, \"#fdca26\"], [1.0, \"#f0f921\"]], \"sequentialminus\": [[0.0, \"#0d0887\"], [0.1111111111111111, \"#46039f\"], [0.2222222222222222, \"#7201a8\"], [0.3333333333333333, \"#9c179e\"], [0.4444444444444444, \"#bd3786\"], [0.5555555555555556, \"#d8576b\"], [0.6666666666666666, \"#ed7953\"], [0.7777777777777778, \"#fb9f3a\"], [0.8888888888888888, \"#fdca26\"], [1.0, \"#f0f921\"]]}, \"colorway\": [\"#636efa\", \"#EF553B\", \"#00cc96\", \"#ab63fa\", \"#FFA15A\", \"#19d3f3\", \"#FF6692\", \"#B6E880\", \"#FF97FF\", \"#FECB52\"], \"font\": {\"color\": \"#2a3f5f\"}, \"geo\": {\"bgcolor\": \"white\", \"lakecolor\": \"white\", \"landcolor\": \"#E5ECF6\", \"showlakes\": true, \"showland\": true, \"subunitcolor\": \"white\"}, \"hoverlabel\": {\"align\": \"left\"}, \"hovermode\": \"closest\", \"mapbox\": {\"style\": \"light\"}, \"paper_bgcolor\": \"white\", \"plot_bgcolor\": \"#E5ECF6\", \"polar\": {\"angularaxis\": {\"gridcolor\": \"white\", \"linecolor\": \"white\", \"ticks\": \"\"}, \"bgcolor\": \"#E5ECF6\", \"radialaxis\": {\"gridcolor\": \"white\", \"linecolor\": \"white\", \"ticks\": \"\"}}, \"scene\": {\"xaxis\": {\"backgroundcolor\": \"#E5ECF6\", \"gridcolor\": \"white\", \"gridwidth\": 2, \"linecolor\": \"white\", \"showbackground\": true, \"ticks\": \"\", \"zerolinecolor\": \"white\"}, \"yaxis\": {\"backgroundcolor\": \"#E5ECF6\", \"gridcolor\": \"white\", \"gridwidth\": 2, \"linecolor\": \"white\", \"showbackground\": true, \"ticks\": \"\", \"zerolinecolor\": \"white\"}, \"zaxis\": {\"backgroundcolor\": \"#E5ECF6\", \"gridcolor\": \"white\", \"gridwidth\": 2, \"linecolor\": \"white\", \"showbackground\": true, \"ticks\": \"\", \"zerolinecolor\": \"white\"}}, \"shapedefaults\": {\"line\": {\"color\": \"#2a3f5f\"}}, \"ternary\": {\"aaxis\": {\"gridcolor\": \"white\", \"linecolor\": \"white\", \"ticks\": \"\"}, \"baxis\": {\"gridcolor\": \"white\", \"linecolor\": \"white\", \"ticks\": \"\"}, \"bgcolor\": \"#E5ECF6\", \"caxis\": {\"gridcolor\": \"white\", \"linecolor\": \"white\", \"ticks\": \"\"}}, \"title\": {\"x\": 0.05}, \"xaxis\": {\"automargin\": true, \"gridcolor\": \"white\", \"linecolor\": \"white\", \"ticks\": \"\", \"title\": {\"standoff\": 15}, \"zerolinecolor\": \"white\", \"zerolinewidth\": 2}, \"yaxis\": {\"automargin\": true, \"gridcolor\": \"white\", \"linecolor\": \"white\", \"ticks\": \"\", \"title\": {\"standoff\": 15}, \"zerolinecolor\": \"white\", \"zerolinewidth\": 2}}}, \"title\": {\"font\": {\"color\": \"#655643\", \"family\": \"Merryweather\", \"size\": 18}, \"text\": \"Data Jobs \\u2012 Technologies in Demand and Relationships Between Them\"}, \"width\": 960, \"xaxis\": {\"showgrid\": false, \"showline\": false, \"showticklabels\": false, \"title\": {\"text\": \"\"}, \"zeroline\": false}, \"yaxis\": {\"showgrid\": false, \"showline\": false, \"showticklabels\": false, \"title\": {\"text\": \"\"}, \"zeroline\": false}},\n",
       "                        {\"responsive\": true}\n",
       "                    ).then(function(){\n",
       "                            \n",
       "var gd = document.getElementById('25cb1a31-6b23-4df3-b638-0e24a67a546f');\n",
       "var x = new MutationObserver(function (mutations, observer) {{\n",
       "        var display = window.getComputedStyle(gd).display;\n",
       "        if (!display || display === 'none') {{\n",
       "            console.log([gd, 'removed!']);\n",
       "            Plotly.purge(gd);\n",
       "            observer.disconnect();\n",
       "        }}\n",
       "}});\n",
       "\n",
       "// Listen for the removal of the full notebook cells\n",
       "var notebookContainer = gd.closest('#notebook-container');\n",
       "if (notebookContainer) {{\n",
       "    x.observe(notebookContainer, {childList: true});\n",
       "}}\n",
       "\n",
       "// Listen for the clearing of the current output cell\n",
       "var outputEl = gd.closest('.output');\n",
       "if (outputEl) {{\n",
       "    x.observe(outputEl, {childList: true});\n",
       "}}\n",
       "\n",
       "                        })\n",
       "                };\n",
       "                });\n",
       "            </script>\n",
       "        </div>"
      ]
     },
     "metadata": {},
     "output_type": "display_data"
    }
   ],
   "source": [
    "fig = go.Figure(data=data, layout=layout)\n",
    "\n",
    "plotly.offline.iplot(fig, filename='data_offers_tech_requirements_chord.html')"
   ]
  },
  {
   "cell_type": "code",
   "execution_count": 30,
   "metadata": {},
   "outputs": [
    {
     "data": {
      "text/plain": [
       "'data_offers_tech_requirements_chord.html'"
      ]
     },
     "execution_count": 30,
     "metadata": {},
     "output_type": "execute_result"
    }
   ],
   "source": [
    "# Uncomment the line below to export an HTML version of the chart.\n",
    "plotly.offline.plot(fig, filename='data_offers_tech_requirements_chord.html', show_link=False)"
   ]
  },
  {
   "cell_type": "markdown",
   "metadata": {},
   "source": [
    "### Resources:\n",
    "\n",
    "- https://plot.ly/python/filled-chord-diagram/\n",
    "- https://hci.stanford.edu/courses/cs448b/f11/lectures/CS448B-20111117-Text.pdf"
   ]
  },
  {
   "cell_type": "code",
   "execution_count": 31,
   "metadata": {},
   "outputs": [
    {
     "data": {
      "text/html": [
       "<style>\n",
       "@import url('https://fonts.googleapis.com/css?family=Fira+Mono|Fira+Sans|Fira+Sans+Condensed|Fira+Sans+Extra+Condensed');\n",
       "@import url('https://fonts.googleapis.com/css?family=Merriweather|Merriweather+Sans');\n",
       "\n",
       ".nbviewer {\n",
       "    background-color: #E5E1D8;\n",
       "}\n",
       "\n",
       "#notebook {\n",
       "    background-color: #E5E1D8;\n",
       "}\n",
       "\n",
       "#notebook-container {\n",
       "    background-color: #FFFAF0;\n",
       "    max-width: 1100px;\n",
       "    padding: 50px;\n",
       "    border-radius: 4px;\n",
       "    -webkit-box-shadow: 0px 0px 12px 1px rgba(101,86,67,0.75);\n",
       "    -moz-box-shadow: 0px 0px 12px 1px rgba(101,86,67,0.75);\n",
       "    box-shadow: 0px 0px 12px 1px rgba(101,86,67,0.75);\n",
       "}\n",
       "\n",
       "/* Jupyter Notebook Header Styling */\n",
       "body > #header {\n",
       "    background-color:#fafafa;\n",
       "}\n",
       "\n",
       "#header #menubar #menus {\n",
       "    background-color:#fefefe;\n",
       "}\n",
       "\n",
       "/* Headings */\n",
       ".text_cell_render h1 {\n",
       "    color: #655B4F;\n",
       "    font-family: 'Merriweather', serif;\n",
       "    font-weight: 900;\n",
       "    text-align: center;\n",
       "    font-size: 2.5em;\n",
       "    padding: 40px 0 12px 0;\n",
       "    text-shadow: 0 2px #FFFAF0, 0 3px #8c8b8b;\n",
       "}\n",
       "\n",
       ".text_cell_render h2 {\n",
       "    color: #655B4F;\n",
       "    font-family: 'Merriweather', serif;\n",
       "    font-weight: 600;\n",
       "    font-size: 2.2em;\n",
       "    text-indent: 22px;\n",
       "    padding: 40px 0 6px 0;\n",
       "    margin-bottom: 24px;\n",
       "    border-bottom: 1px solid #655B4F;\n",
       "}\n",
       "\n",
       ".text_cell_render h3 {\n",
       "    color: #655B4F;\n",
       "    font-family: 'Merriweather', serif;\n",
       "    font-weight: 300;\n",
       "    padding: 6px 0 0 0;\n",
       "    font-size: 1.6em;\n",
       "}\n",
       "\n",
       ".text_cell_render h4 {\n",
       "    color: #655B4F;\n",
       "    font-family: 'Merriweather', serif;\n",
       "    font-weight: 100;\n",
       "    font-size: 1.2em;\n",
       "}\n",
       "\n",
       "/* Use for subtitles and other non-headings */\n",
       "div.rendered_html > h5 {\n",
       "    font-family: 'Merriweather', serif;\n",
       "    line-height: 1.5em;\n",
       "    color: #655B4F;\n",
       "    font-weight: 200;\n",
       "    font-style: normal important!;\n",
       "    text-indent: 22px;\n",
       "    text-align: center;\n",
       "    margin-top: 0.5em;\n",
       "    padding: 6px 0 6px 0;\n",
       "    border-bottom: 1px solid #655B4F;\n",
       "    border-top: 1px solid #655B4F;\n",
       "}\n",
       "\n",
       "/* Use for image and chart captions */\n",
       "div.rendered_html > h6 {\n",
       "    font-family: 'Merriweather Sans', sans-serif;\n",
       "    font-size: 0.9em;\n",
       "    line-height: 1.5em;\n",
       "    color: #cac8c9;\n",
       "    font-weight: normal;\n",
       "    max-width: 525px;\n",
       "    display: block;\n",
       "    margin-left: auto;\n",
       "    margin-right: auto;\n",
       "}\n",
       "\n",
       "div#notebook-container p {\n",
       "    font-family: 'Fira Sans Condensed', sans-serif;\n",
       "    font-size: 1.2em;\n",
       "    line-height: 1.3em;\n",
       "    color: #655B4F;\n",
       "}\n",
       "\n",
       "/* Plotly Exported Charts Styling */\n",
       ".js-plotly-plot .plotly,\n",
       ".js-plotly-plot .plotly div {\n",
       "    direction: ltr;\n",
       "    font-family: \"Fira Sans Extra Condensed\", verdana, arial, sans-serif;\n",
       "}\n",
       "\n",
       "/* Lists */\n",
       "ol, ul {\n",
       "    font-family: 'Fira Sans Condensed', sans-serif;\n",
       "    line-height: 1.3em;\n",
       "    color: #655B4F;\n",
       "}\n",
       "\n",
       "div.input_prompt {\n",
       "    color: #aad0bc;\n",
       "    font-size: 0.7em;\n",
       "}\n",
       "\n",
       "div.output_prompt {\n",
       "    color: #aad0bc;\n",
       "    font-size: 0.7em;\n",
       "}\n",
       "\n",
       "div.prompt {\n",
       "    min-width: 2ex;\n",
       "}\n",
       "\n",
       "div.output_subarea {\n",
       "    min-width: 425px;\n",
       "    max-width: calc(100% - 1ex);\n",
       "    padding: 0;\n",
       "}\n",
       "\n",
       "div.text_cell code {\n",
       "    padding: 2px;\n",
       "    background-color: #E5E1D8;\n",
       "    color: #483F3A;\n",
       "    font-family: 'Fira Mono', monospace;\n",
       "    font-size: 0.9em;\n",
       "}\n",
       "\n",
       "div.input_area {\n",
       "    background-color: #FFFAF0;\n",
       "    border: 1px solid #E5E1D8;\n",
       "    background: repeating-linear-gradient(135deg, #FFFAF0, #FFFAF0 5px, #F7F7ED 5px, #F7F7ED 10px);\n",
       "}\n",
       "\n",
       "div.cell.rendered.selected {\n",
       "    background: #F7F7ED;\n",
       "    border: 1px solid #293C34;\n",
       "}\n",
       "\n",
       "div.output_area img {\n",
       "    display: block;\n",
       "    margin-left: auto;\n",
       "    margin-right: auto;\n",
       "}\n",
       "\n",
       "div.rendered_html pre, code {\n",
       "    font-family: 'Fira Sans Condensed', sans-serif;\n",
       "    font-size: 16px;\n",
       "    font-weight: 400;\n",
       "    color: #40362F;\n",
       "    background-color: #E5E1D8;\n",
       "}\n",
       "\n",
       "div.output_text pre {\n",
       "    font-family: 'Fira Sans Condensed', sans-serif;\n",
       "    font-size: 13px;\n",
       "    font-weight: 300;\n",
       "    color: #40362F;\n",
       "}\n",
       "\n",
       "\n",
       "pre, textarea {\n",
       "    overflow: hidden;\n",
       "}\n",
       "\n",
       "div.text_cell_render img {\n",
       "    max-height: 550px;\n",
       "    display: block;\n",
       "    margin-left: auto;\n",
       "    margin-right: auto;\n",
       "}\n",
       "\n",
       "div.output output_scroll {\n",
       "    overflow-x: auto;\n",
       "    overflow-y: scroll;\n",
       "    max-height: 2000px;\n",
       "}\n",
       "\n",
       "div.rendered_html hr {\n",
       "    border: 0;\n",
       "    height: 1px;\n",
       "    background-color: #655B4F;\n",
       "}\n",
       "\n",
       "div.rendered_html pre, code {\n",
       "    color: #40362F;\n",
       "    background-color: #FFFAF0;\n",
       "}\n",
       "\n",
       "/* Links */\n",
       "a.link--embedview {\n",
       "    display: none;\n",
       "}\n",
       "\n",
       "a:link {\n",
       "    color: #293C34;\n",
       "}\n",
       "\n",
       "a:visited {\n",
       "    color: #293C34;\n",
       "}\n",
       "\n",
       "a:hover {\n",
       "    color: #557C6C;\n",
       "}\n",
       "\n",
       "a:focus {\n",
       "    color:#557C6C;\n",
       "}\n",
       "\n",
       "a:active {\n",
       "    font-weight: bold;\n",
       "    color:#80BCA3;\n",
       "}\n",
       "\n",
       ".rendered_html :link {\n",
       "    text-decoration: underline;\n",
       "}\n",
       "\n",
       "/* Colors for code highlighting */\n",
       ".CodeMirror pre {\n",
       "    font-family: 'Fira Mono', monospace;\n",
       "    font-size: 0.9em;\n",
       "    font-weight: 600;\n",
       "}\n",
       "\n",
       ".CodeMirror-code span.cm-keyword,\n",
       ".highlight .k,\n",
       ".highlight .ow {\n",
       "    color: #5F362E;\n",
       "}\n",
       "\n",
       ".CodeMirror-code span.cm-variable,\n",
       ".highlight .na {\n",
       "    color: #655B4F;\n",
       "}\n",
       "\n",
       ".CodeMirror-code span.cm-property {\n",
       "    color: #655B4F;\n",
       "}\n",
       "\n",
       ".CodeMirror-code span.cm-def {\n",
       "    color: #293C34;\n",
       "}\n",
       "\n",
       ".CodeMirror-code span.cm-operator {\n",
       "    color: #655B4F;\n",
       "}\n",
       "\n",
       ".CodeMirror-code span.cm-string,\n",
       ".highlight .s {\n",
       "    color: #0B7761;\n",
       "}\n",
       "\n",
       ".CodeMirror-code span.cm-number,\n",
       ".highlight .mb, .highlight .mf, .highlight .mh, .highlight .mi, .highlight .mo {\n",
       "    color: #265BCA;\n",
       "}\n",
       "\n",
       ".CodeMirror-code span.cm-comment,\n",
       ".highlight .c1, .highlight .cs {\n",
       "    color: #75AC95;\n",
       "}\n",
       "\n",
       ".CodeMirror-code span.cm-builtin,\n",
       ".highlight .nb {\n",
       "    color: #5F362E;\n",
       "}\n",
       "\n",
       "/* Code with no class applied (brackets mostly) */\n",
       ".CodeMirror-line > span {\n",
       "    color: #72614B;\n",
       "}\n",
       "\n",
       "/* Table styles */\n",
       "table {\n",
       "    border: 1px solid #BF4D28;\n",
       "}\n",
       "\n",
       "\n",
       ".rendered_html table th {\n",
       "    color: #40362F;\n",
       "    text-align: left;\n",
       "    background-color: #f2e6ce;\n",
       "}\n",
       "\n",
       ".rendered_html td {\n",
       "    color: #40362F;\n",
       "    text-align: left;\n",
       "}\n",
       "\n",
       ".rendered_html table tr:nth-child(odd) {\n",
       "    background-color: #F7F7ED;\n",
       "}\n",
       "\n",
       ".rendered_html table tr:nth-child(even) {\n",
       "    background-color: #FFFAF0;\n",
       "}\n",
       "\n",
       "iframe {\n",
       "    border-width: 0;\n",
       "}\n",
       "\n",
       "@media only screen and (max-width: 600px) {\n",
       "    #notebook-container {\n",
       "        background-color: #FFFAF0;\n",
       "        padding: 15px;\n",
       "        border-radius: 4px;\n",
       "        -webkit-box-shadow: 0px 0px 12px 1px rgba(101,86,67,0.75);\n",
       "        -moz-box-shadow: 0px 0px 12px 1px rgba(101,86,67,0.75);\n",
       "        box-shadow: 0px 0px 12px 1px rgba(101,86,67,0.75);\n",
       "    }\n",
       "\n",
       "    .text_cell_render h1,\n",
       "    .text_cell_render h2 {\n",
       "        text-indent: 0;\n",
       "        text-align: left;\n",
       "        padding: 40px 22px 12px 22px;\n",
       "    }\n",
       "}\n",
       "\n",
       "</style>\n"
      ],
      "text/plain": [
       "<IPython.core.display.HTML object>"
      ]
     },
     "execution_count": 31,
     "metadata": {},
     "output_type": "execute_result"
    }
   ],
   "source": [
    "from IPython.core.display import HTML\n",
    "with open('../resources/styles/datum.css', 'r') as f:\n",
    "    style = f.read()\n",
    "HTML(style)"
   ]
  },
  {
   "cell_type": "code",
   "execution_count": null,
   "metadata": {},
   "outputs": [],
   "source": []
  }
 ],
 "metadata": {
  "kernelspec": {
   "display_name": "Python 3",
   "language": "python",
   "name": "python3"
  },
  "language_info": {
   "codemirror_mode": {
    "name": "ipython",
    "version": 3
   },
   "file_extension": ".py",
   "mimetype": "text/x-python",
   "name": "python",
   "nbconvert_exporter": "python",
   "pygments_lexer": "ipython3",
   "version": "3.8.2"
  }
 },
 "nbformat": 4,
 "nbformat_minor": 2
}
