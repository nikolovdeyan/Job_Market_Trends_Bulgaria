{
 "cells": [
  {
   "cell_type": "markdown",
   "metadata": {},
   "source": [
    "## Requirements Relationships Chord Diagram\n"
   ]
  },
  {
   "cell_type": "code",
   "execution_count": 1,
   "metadata": {},
   "outputs": [
    {
     "data": {
      "text/html": [
       "<script type=\"text/javascript\">window.PlotlyConfig = {MathJaxConfig: 'local'};</script><script type=\"text/javascript\">if (window.MathJax) {MathJax.Hub.Config({SVG: {font: \"STIX-Web\"}});}</script><script>requirejs.config({paths: { 'plotly': ['https://cdn.plot.ly/plotly-latest.min']},});if(!window._Plotly) {require(['plotly'],function(plotly) {window._Plotly=plotly;});}</script>"
      ],
      "text/vnd.plotly.v1+html": [
       "<script type=\"text/javascript\">window.PlotlyConfig = {MathJaxConfig: 'local'};</script><script type=\"text/javascript\">if (window.MathJax) {MathJax.Hub.Config({SVG: {font: \"STIX-Web\"}});}</script><script>requirejs.config({paths: { 'plotly': ['https://cdn.plot.ly/plotly-latest.min']},});if(!window._Plotly) {require(['plotly'],function(plotly) {window._Plotly=plotly;});}</script>"
      ]
     },
     "metadata": {},
     "output_type": "display_data"
    }
   ],
   "source": [
    "import re\n",
    "from itertools import combinations\n",
    "import psycopg2\n",
    "import numpy as np\n",
    "import pandas as pd\n",
    "import plotly\n",
    "import plotly.plotly as py\n",
    "import plotly.graph_objs as go\n",
    "from IPython import display\n",
    "from bs4 import BeautifulSoup as bs\n",
    "\n",
    "from nbstyler import DATA_STYLE as DS\n",
    "\n",
    "plotly.offline.init_notebook_mode(connected=True)\n",
    "\n",
    "%matplotlib notebook\n",
    "%matplotlib inline"
   ]
  },
  {
   "cell_type": "markdown",
   "metadata": {},
   "source": [
    "### Objectives\n",
    "\n",
    "The main objective for this recipe is to try the plotly implementation of the chord diagram and to provide a clean recipe for preparing such charts in the future. \n",
    "\n",
    "\n",
    "### Data Preparation"
   ]
  },
  {
   "cell_type": "code",
   "execution_count": 2,
   "metadata": {},
   "outputs": [],
   "source": [
    "data_querystr = \"\"\"SELECT * FROM data_offers.do_full_offer_history\"\"\"\n",
    "conn = psycopg2.connect('dbname=jobsbg')\n",
    "data_df = pd.read_sql_query(data_querystr, conn, index_col='subm_date')\n",
    "conn.close()"
   ]
  },
  {
   "cell_type": "code",
   "execution_count": 3,
   "metadata": {},
   "outputs": [
    {
     "data": {
      "text/html": [
       "<div>\n",
       "<style scoped>\n",
       "    .dataframe tbody tr th:only-of-type {\n",
       "        vertical-align: middle;\n",
       "    }\n",
       "\n",
       "    .dataframe tbody tr th {\n",
       "        vertical-align: top;\n",
       "    }\n",
       "\n",
       "    .dataframe thead th {\n",
       "        text-align: right;\n",
       "    }\n",
       "</style>\n",
       "<table border=\"1\" class=\"dataframe\">\n",
       "  <thead>\n",
       "    <tr style=\"text-align: right;\">\n",
       "      <th></th>\n",
       "      <th>subm_type</th>\n",
       "      <th>job_id</th>\n",
       "      <th>company_id</th>\n",
       "      <th>norm_salary</th>\n",
       "      <th>job_title</th>\n",
       "      <th>company_name</th>\n",
       "      <th>text_salary</th>\n",
       "      <th>job_location</th>\n",
       "      <th>job_contents</th>\n",
       "    </tr>\n",
       "    <tr>\n",
       "      <th>subm_date</th>\n",
       "      <th></th>\n",
       "      <th></th>\n",
       "      <th></th>\n",
       "      <th></th>\n",
       "      <th></th>\n",
       "      <th></th>\n",
       "      <th></th>\n",
       "      <th></th>\n",
       "      <th></th>\n",
       "    </tr>\n",
       "  </thead>\n",
       "  <tbody>\n",
       "    <tr>\n",
       "      <th>2018-07-05</th>\n",
       "      <td>resubmission</td>\n",
       "      <td>4416332</td>\n",
       "      <td>179347</td>\n",
       "      <td>NaN</td>\n",
       "      <td>Data Analyst</td>\n",
       "      <td>Технементалс Технолоджис (България) ЕАД</td>\n",
       "      <td>None</td>\n",
       "      <td>София</td>\n",
       "      <td>&lt;!DOCTYPE html PUBLIC \"-//W3C//DTD XHTML 1.0 ...</td>\n",
       "    </tr>\n",
       "  </tbody>\n",
       "</table>\n",
       "</div>"
      ],
      "text/plain": [
       "               subm_type   job_id  company_id  norm_salary     job_title  \\\n",
       "subm_date                                                                  \n",
       "2018-07-05  resubmission  4416332      179347          NaN  Data Analyst   \n",
       "\n",
       "                                       company_name text_salary job_location  \\\n",
       "subm_date                                                                      \n",
       "2018-07-05  Технементалс Технолоджис (България) ЕАД        None        София   \n",
       "\n",
       "                                                 job_contents  \n",
       "subm_date                                                      \n",
       "2018-07-05   <!DOCTYPE html PUBLIC \"-//W3C//DTD XHTML 1.0 ...  "
      ]
     },
     "execution_count": 3,
     "metadata": {},
     "output_type": "execute_result"
    }
   ],
   "source": [
    "data_df.head(1)"
   ]
  },
  {
   "cell_type": "markdown",
   "metadata": {},
   "source": [
    "### Relationship Categories Definition"
   ]
  },
  {
   "cell_type": "markdown",
   "metadata": {},
   "source": [
    "In order to build the necessary data we first need to define the scope of the relationships we aim to observe. The search strings we will compare should be of the same semantic category to provide meaningful insight.\n",
    "\n",
    "To explore the data and prepare proper definitions we took a deep dive in the data offers' text contents. We used the `nltk` library for text processing to produce frequency distributions of most common words, bigrams and trigrams. Then those distributions were used to explore different possible relationship categories. See the details in the [Requirements Deep Dive Notebook](./Data_Offers_Requirements_Deep_Dive.ipynb).\n",
    "\n",
    "For the first chord diagram the chosen view is a breakdown by technology. Other possible relationships to explore are skill requirements breakdown, perks & benefits breakdown, job title breakdown, etc."
   ]
  },
  {
   "cell_type": "markdown",
   "metadata": {},
   "source": [
    "### Data Jobs Technology Requirement Relationships"
   ]
  },
  {
   "cell_type": "markdown",
   "metadata": {},
   "source": [
    "A preliminary list of terms that describe most often sought categories is presented below. We are going to use it to construct regex filters for selected key technologies."
   ]
  },
  {
   "cell_type": "code",
   "execution_count": 4,
   "metadata": {},
   "outputs": [],
   "source": [
    "tech_terms_filters = [\n",
    "    r'power bi', r'excel', r'ss[ir]s',\n",
    "    r'sql server', r'postgresql', r'(mysql)|(mariadb)', r't.?sql', r'pl.?sql',\n",
    "    r'pentaho', r'hadoop', r'spark', r'informatica',\n",
    "    r'qlik', r'tableau', r'microstrategy', r'oracle (bi)|(business intelligence)',\n",
    "    r'python', r'vba', r'linux', r'aws']\n",
    "\n",
    "tech_terms_labels = [\n",
    "    'Power BI', 'Excel', 'SSIS/SSRS',\n",
    "    'MS SQL Server', 'PostgreSQL', 'MySQL/MariaDB', 'T-SQL', 'PL/SQL',\n",
    "    'Pentaho', 'Hadoop', 'Spark', 'Informatica',\n",
    "    'Qlik', 'Tableau', 'Microstrategy', 'Oracle BI',\n",
    "    'Python', 'VBA', 'Linux', 'AWS']"
   ]
  },
  {
   "cell_type": "markdown",
   "metadata": {},
   "source": [
    "#### Preparing a square matrix with counts for matching filters"
   ]
  },
  {
   "cell_type": "markdown",
   "metadata": {},
   "source": [
    "First we define a helper function that returns `True` for job offers where both of the provided patterns are found in the job contents. We also prepare a list of all possible filter patterns' combinations."
   ]
  },
  {
   "cell_type": "code",
   "execution_count": 5,
   "metadata": {},
   "outputs": [],
   "source": [
    "def match_terms(first_term, second_term, text):\n",
    "    match_found = re.search(first_term, text, re.IGNORECASE) and re.search(second_term, text, re.IGNORECASE)\n",
    "    return True if match_found else False\n",
    "\n",
    "    \n",
    "def count_matches(first_term, second_term, col):\n",
    "    return sum([match_terms(first_term, second_term, t) for t in col.values])\n",
    "\n",
    "req_combinations = list(combinations(tech_terms_filters, 2))"
   ]
  },
  {
   "cell_type": "markdown",
   "metadata": {},
   "source": [
    "Building the counts in a dictionary with keys composed of tuples with both search terms. "
   ]
  },
  {
   "cell_type": "code",
   "execution_count": 6,
   "metadata": {},
   "outputs": [
    {
     "name": "stdout",
     "output_type": "stream",
     "text": [
      "CPU times: user 3min 1s, sys: 41.5 ms, total: 3min 1s\n",
      "Wall time: 3min 2s\n"
     ]
    }
   ],
   "source": [
    "%%time\n",
    "match_results = [count_matches(*tup, data_df.job_contents) for tup in req_combinations]\n",
    "match_dict = dict(zip(req_combinations, match_results))"
   ]
  },
  {
   "cell_type": "markdown",
   "metadata": {},
   "source": [
    "Another helper function will unpack the combinations counts into a square matrix form. Finally, a DataFrame is created from the combinations counts matrix. This is our main data source for the chord diagram. "
   ]
  },
  {
   "cell_type": "code",
   "execution_count": 7,
   "metadata": {},
   "outputs": [],
   "source": [
    "def make_matrix(headers, counts):\n",
    "    res = []\n",
    "    for k1 in headers:\n",
    "        row = []\n",
    "        for k2 in headers:\n",
    "            if k1 == k2:\n",
    "                row.append(0)\n",
    "            else:\n",
    "                curr_key = tuple([k1, k2])\n",
    "                cell_value = counts.get(curr_key) if curr_key in counts else counts.get(tuple([k2, k1]))\n",
    "                row.append(cell_value)\n",
    "        res.append(row)\n",
    "    return np.array(res, dtype=int)  "
   ]
  },
  {
   "cell_type": "code",
   "execution_count": 8,
   "metadata": {},
   "outputs": [],
   "source": [
    "tech_terms_matrix = make_matrix(tech_terms_filters, match_dict)"
   ]
  },
  {
   "cell_type": "code",
   "execution_count": 9,
   "metadata": {},
   "outputs": [
    {
     "data": {
      "text/html": [
       "<div>\n",
       "<style scoped>\n",
       "    .dataframe tbody tr th:only-of-type {\n",
       "        vertical-align: middle;\n",
       "    }\n",
       "\n",
       "    .dataframe tbody tr th {\n",
       "        vertical-align: top;\n",
       "    }\n",
       "\n",
       "    .dataframe thead th {\n",
       "        text-align: right;\n",
       "    }\n",
       "</style>\n",
       "<table border=\"1\" class=\"dataframe\">\n",
       "  <thead>\n",
       "    <tr style=\"text-align: right;\">\n",
       "      <th></th>\n",
       "      <th>Power BI</th>\n",
       "      <th>Excel</th>\n",
       "      <th>SSIS/SSRS</th>\n",
       "      <th>MS SQL Server</th>\n",
       "      <th>PostgreSQL</th>\n",
       "      <th>MySQL/MariaDB</th>\n",
       "      <th>T-SQL</th>\n",
       "      <th>PL/SQL</th>\n",
       "      <th>Pentaho</th>\n",
       "      <th>Hadoop</th>\n",
       "      <th>Spark</th>\n",
       "      <th>Informatica</th>\n",
       "      <th>Qlik</th>\n",
       "      <th>Tableau</th>\n",
       "      <th>Microstrategy</th>\n",
       "      <th>Oracle BI</th>\n",
       "      <th>Python</th>\n",
       "      <th>VBA</th>\n",
       "      <th>Linux</th>\n",
       "      <th>AWS</th>\n",
       "    </tr>\n",
       "  </thead>\n",
       "  <tbody>\n",
       "    <tr>\n",
       "      <th>Power BI</th>\n",
       "      <td>0</td>\n",
       "      <td>214</td>\n",
       "      <td>128</td>\n",
       "      <td>127</td>\n",
       "      <td>0</td>\n",
       "      <td>5</td>\n",
       "      <td>45</td>\n",
       "      <td>9</td>\n",
       "      <td>9</td>\n",
       "      <td>22</td>\n",
       "      <td>28</td>\n",
       "      <td>16</td>\n",
       "      <td>179</td>\n",
       "      <td>186</td>\n",
       "      <td>26</td>\n",
       "      <td>168</td>\n",
       "      <td>80</td>\n",
       "      <td>37</td>\n",
       "      <td>7</td>\n",
       "      <td>6</td>\n",
       "    </tr>\n",
       "    <tr>\n",
       "      <th>Excel</th>\n",
       "      <td>214</td>\n",
       "      <td>0</td>\n",
       "      <td>594</td>\n",
       "      <td>264</td>\n",
       "      <td>72</td>\n",
       "      <td>122</td>\n",
       "      <td>180</td>\n",
       "      <td>58</td>\n",
       "      <td>66</td>\n",
       "      <td>84</td>\n",
       "      <td>89</td>\n",
       "      <td>117</td>\n",
       "      <td>410</td>\n",
       "      <td>431</td>\n",
       "      <td>39</td>\n",
       "      <td>618</td>\n",
       "      <td>353</td>\n",
       "      <td>256</td>\n",
       "      <td>74</td>\n",
       "      <td>54</td>\n",
       "    </tr>\n",
       "    <tr>\n",
       "      <th>SSIS/SSRS</th>\n",
       "      <td>128</td>\n",
       "      <td>594</td>\n",
       "      <td>0</td>\n",
       "      <td>268</td>\n",
       "      <td>56</td>\n",
       "      <td>80</td>\n",
       "      <td>127</td>\n",
       "      <td>40</td>\n",
       "      <td>35</td>\n",
       "      <td>34</td>\n",
       "      <td>41</td>\n",
       "      <td>70</td>\n",
       "      <td>88</td>\n",
       "      <td>159</td>\n",
       "      <td>31</td>\n",
       "      <td>267</td>\n",
       "      <td>164</td>\n",
       "      <td>84</td>\n",
       "      <td>18</td>\n",
       "      <td>31</td>\n",
       "    </tr>\n",
       "    <tr>\n",
       "      <th>MS SQL Server</th>\n",
       "      <td>127</td>\n",
       "      <td>264</td>\n",
       "      <td>268</td>\n",
       "      <td>0</td>\n",
       "      <td>87</td>\n",
       "      <td>93</td>\n",
       "      <td>171</td>\n",
       "      <td>12</td>\n",
       "      <td>46</td>\n",
       "      <td>29</td>\n",
       "      <td>27</td>\n",
       "      <td>62</td>\n",
       "      <td>66</td>\n",
       "      <td>106</td>\n",
       "      <td>19</td>\n",
       "      <td>176</td>\n",
       "      <td>114</td>\n",
       "      <td>38</td>\n",
       "      <td>51</td>\n",
       "      <td>10</td>\n",
       "    </tr>\n",
       "    <tr>\n",
       "      <th>PostgreSQL</th>\n",
       "      <td>0</td>\n",
       "      <td>72</td>\n",
       "      <td>56</td>\n",
       "      <td>87</td>\n",
       "      <td>0</td>\n",
       "      <td>99</td>\n",
       "      <td>38</td>\n",
       "      <td>2</td>\n",
       "      <td>47</td>\n",
       "      <td>4</td>\n",
       "      <td>10</td>\n",
       "      <td>1</td>\n",
       "      <td>14</td>\n",
       "      <td>6</td>\n",
       "      <td>0</td>\n",
       "      <td>45</td>\n",
       "      <td>29</td>\n",
       "      <td>0</td>\n",
       "      <td>43</td>\n",
       "      <td>4</td>\n",
       "    </tr>\n",
       "    <tr>\n",
       "      <th>MySQL/MariaDB</th>\n",
       "      <td>5</td>\n",
       "      <td>122</td>\n",
       "      <td>80</td>\n",
       "      <td>93</td>\n",
       "      <td>99</td>\n",
       "      <td>0</td>\n",
       "      <td>39</td>\n",
       "      <td>0</td>\n",
       "      <td>64</td>\n",
       "      <td>6</td>\n",
       "      <td>26</td>\n",
       "      <td>9</td>\n",
       "      <td>17</td>\n",
       "      <td>50</td>\n",
       "      <td>0</td>\n",
       "      <td>71</td>\n",
       "      <td>58</td>\n",
       "      <td>5</td>\n",
       "      <td>45</td>\n",
       "      <td>1</td>\n",
       "    </tr>\n",
       "    <tr>\n",
       "      <th>T-SQL</th>\n",
       "      <td>45</td>\n",
       "      <td>180</td>\n",
       "      <td>127</td>\n",
       "      <td>171</td>\n",
       "      <td>38</td>\n",
       "      <td>39</td>\n",
       "      <td>0</td>\n",
       "      <td>41</td>\n",
       "      <td>40</td>\n",
       "      <td>18</td>\n",
       "      <td>19</td>\n",
       "      <td>13</td>\n",
       "      <td>74</td>\n",
       "      <td>97</td>\n",
       "      <td>14</td>\n",
       "      <td>138</td>\n",
       "      <td>49</td>\n",
       "      <td>27</td>\n",
       "      <td>27</td>\n",
       "      <td>9</td>\n",
       "    </tr>\n",
       "    <tr>\n",
       "      <th>PL/SQL</th>\n",
       "      <td>9</td>\n",
       "      <td>58</td>\n",
       "      <td>40</td>\n",
       "      <td>12</td>\n",
       "      <td>2</td>\n",
       "      <td>0</td>\n",
       "      <td>41</td>\n",
       "      <td>0</td>\n",
       "      <td>8</td>\n",
       "      <td>3</td>\n",
       "      <td>0</td>\n",
       "      <td>30</td>\n",
       "      <td>18</td>\n",
       "      <td>20</td>\n",
       "      <td>24</td>\n",
       "      <td>83</td>\n",
       "      <td>3</td>\n",
       "      <td>7</td>\n",
       "      <td>1</td>\n",
       "      <td>2</td>\n",
       "    </tr>\n",
       "    <tr>\n",
       "      <th>Pentaho</th>\n",
       "      <td>9</td>\n",
       "      <td>66</td>\n",
       "      <td>35</td>\n",
       "      <td>46</td>\n",
       "      <td>47</td>\n",
       "      <td>64</td>\n",
       "      <td>40</td>\n",
       "      <td>8</td>\n",
       "      <td>0</td>\n",
       "      <td>0</td>\n",
       "      <td>7</td>\n",
       "      <td>34</td>\n",
       "      <td>33</td>\n",
       "      <td>40</td>\n",
       "      <td>4</td>\n",
       "      <td>40</td>\n",
       "      <td>36</td>\n",
       "      <td>1</td>\n",
       "      <td>36</td>\n",
       "      <td>14</td>\n",
       "    </tr>\n",
       "    <tr>\n",
       "      <th>Hadoop</th>\n",
       "      <td>22</td>\n",
       "      <td>84</td>\n",
       "      <td>34</td>\n",
       "      <td>29</td>\n",
       "      <td>4</td>\n",
       "      <td>6</td>\n",
       "      <td>18</td>\n",
       "      <td>3</td>\n",
       "      <td>0</td>\n",
       "      <td>0</td>\n",
       "      <td>135</td>\n",
       "      <td>5</td>\n",
       "      <td>9</td>\n",
       "      <td>38</td>\n",
       "      <td>3</td>\n",
       "      <td>35</td>\n",
       "      <td>147</td>\n",
       "      <td>7</td>\n",
       "      <td>93</td>\n",
       "      <td>50</td>\n",
       "    </tr>\n",
       "    <tr>\n",
       "      <th>Spark</th>\n",
       "      <td>28</td>\n",
       "      <td>89</td>\n",
       "      <td>41</td>\n",
       "      <td>27</td>\n",
       "      <td>10</td>\n",
       "      <td>26</td>\n",
       "      <td>19</td>\n",
       "      <td>0</td>\n",
       "      <td>7</td>\n",
       "      <td>135</td>\n",
       "      <td>0</td>\n",
       "      <td>13</td>\n",
       "      <td>16</td>\n",
       "      <td>36</td>\n",
       "      <td>3</td>\n",
       "      <td>32</td>\n",
       "      <td>159</td>\n",
       "      <td>9</td>\n",
       "      <td>74</td>\n",
       "      <td>52</td>\n",
       "    </tr>\n",
       "    <tr>\n",
       "      <th>Informatica</th>\n",
       "      <td>16</td>\n",
       "      <td>117</td>\n",
       "      <td>70</td>\n",
       "      <td>62</td>\n",
       "      <td>1</td>\n",
       "      <td>9</td>\n",
       "      <td>13</td>\n",
       "      <td>30</td>\n",
       "      <td>34</td>\n",
       "      <td>5</td>\n",
       "      <td>13</td>\n",
       "      <td>0</td>\n",
       "      <td>94</td>\n",
       "      <td>70</td>\n",
       "      <td>15</td>\n",
       "      <td>130</td>\n",
       "      <td>28</td>\n",
       "      <td>5</td>\n",
       "      <td>9</td>\n",
       "      <td>20</td>\n",
       "    </tr>\n",
       "    <tr>\n",
       "      <th>Qlik</th>\n",
       "      <td>179</td>\n",
       "      <td>410</td>\n",
       "      <td>88</td>\n",
       "      <td>66</td>\n",
       "      <td>14</td>\n",
       "      <td>17</td>\n",
       "      <td>74</td>\n",
       "      <td>18</td>\n",
       "      <td>33</td>\n",
       "      <td>9</td>\n",
       "      <td>16</td>\n",
       "      <td>94</td>\n",
       "      <td>0</td>\n",
       "      <td>347</td>\n",
       "      <td>37</td>\n",
       "      <td>351</td>\n",
       "      <td>54</td>\n",
       "      <td>31</td>\n",
       "      <td>2</td>\n",
       "      <td>3</td>\n",
       "    </tr>\n",
       "    <tr>\n",
       "      <th>Tableau</th>\n",
       "      <td>186</td>\n",
       "      <td>431</td>\n",
       "      <td>159</td>\n",
       "      <td>106</td>\n",
       "      <td>6</td>\n",
       "      <td>50</td>\n",
       "      <td>97</td>\n",
       "      <td>20</td>\n",
       "      <td>40</td>\n",
       "      <td>38</td>\n",
       "      <td>36</td>\n",
       "      <td>70</td>\n",
       "      <td>347</td>\n",
       "      <td>0</td>\n",
       "      <td>52</td>\n",
       "      <td>416</td>\n",
       "      <td>135</td>\n",
       "      <td>71</td>\n",
       "      <td>18</td>\n",
       "      <td>33</td>\n",
       "    </tr>\n",
       "    <tr>\n",
       "      <th>Microstrategy</th>\n",
       "      <td>26</td>\n",
       "      <td>39</td>\n",
       "      <td>31</td>\n",
       "      <td>19</td>\n",
       "      <td>0</td>\n",
       "      <td>0</td>\n",
       "      <td>14</td>\n",
       "      <td>24</td>\n",
       "      <td>4</td>\n",
       "      <td>3</td>\n",
       "      <td>3</td>\n",
       "      <td>15</td>\n",
       "      <td>37</td>\n",
       "      <td>52</td>\n",
       "      <td>0</td>\n",
       "      <td>62</td>\n",
       "      <td>19</td>\n",
       "      <td>7</td>\n",
       "      <td>7</td>\n",
       "      <td>2</td>\n",
       "    </tr>\n",
       "    <tr>\n",
       "      <th>Oracle BI</th>\n",
       "      <td>168</td>\n",
       "      <td>618</td>\n",
       "      <td>267</td>\n",
       "      <td>176</td>\n",
       "      <td>45</td>\n",
       "      <td>71</td>\n",
       "      <td>138</td>\n",
       "      <td>83</td>\n",
       "      <td>40</td>\n",
       "      <td>35</td>\n",
       "      <td>32</td>\n",
       "      <td>130</td>\n",
       "      <td>351</td>\n",
       "      <td>416</td>\n",
       "      <td>62</td>\n",
       "      <td>0</td>\n",
       "      <td>156</td>\n",
       "      <td>77</td>\n",
       "      <td>3</td>\n",
       "      <td>45</td>\n",
       "    </tr>\n",
       "    <tr>\n",
       "      <th>Python</th>\n",
       "      <td>80</td>\n",
       "      <td>353</td>\n",
       "      <td>164</td>\n",
       "      <td>114</td>\n",
       "      <td>29</td>\n",
       "      <td>58</td>\n",
       "      <td>49</td>\n",
       "      <td>3</td>\n",
       "      <td>36</td>\n",
       "      <td>147</td>\n",
       "      <td>159</td>\n",
       "      <td>28</td>\n",
       "      <td>54</td>\n",
       "      <td>135</td>\n",
       "      <td>19</td>\n",
       "      <td>156</td>\n",
       "      <td>0</td>\n",
       "      <td>65</td>\n",
       "      <td>98</td>\n",
       "      <td>95</td>\n",
       "    </tr>\n",
       "    <tr>\n",
       "      <th>VBA</th>\n",
       "      <td>37</td>\n",
       "      <td>256</td>\n",
       "      <td>84</td>\n",
       "      <td>38</td>\n",
       "      <td>0</td>\n",
       "      <td>5</td>\n",
       "      <td>27</td>\n",
       "      <td>7</td>\n",
       "      <td>1</td>\n",
       "      <td>7</td>\n",
       "      <td>9</td>\n",
       "      <td>5</td>\n",
       "      <td>31</td>\n",
       "      <td>71</td>\n",
       "      <td>7</td>\n",
       "      <td>77</td>\n",
       "      <td>65</td>\n",
       "      <td>0</td>\n",
       "      <td>1</td>\n",
       "      <td>5</td>\n",
       "    </tr>\n",
       "    <tr>\n",
       "      <th>Linux</th>\n",
       "      <td>7</td>\n",
       "      <td>74</td>\n",
       "      <td>18</td>\n",
       "      <td>51</td>\n",
       "      <td>43</td>\n",
       "      <td>45</td>\n",
       "      <td>27</td>\n",
       "      <td>1</td>\n",
       "      <td>36</td>\n",
       "      <td>93</td>\n",
       "      <td>74</td>\n",
       "      <td>9</td>\n",
       "      <td>2</td>\n",
       "      <td>18</td>\n",
       "      <td>7</td>\n",
       "      <td>3</td>\n",
       "      <td>98</td>\n",
       "      <td>1</td>\n",
       "      <td>0</td>\n",
       "      <td>23</td>\n",
       "    </tr>\n",
       "    <tr>\n",
       "      <th>AWS</th>\n",
       "      <td>6</td>\n",
       "      <td>54</td>\n",
       "      <td>31</td>\n",
       "      <td>10</td>\n",
       "      <td>4</td>\n",
       "      <td>1</td>\n",
       "      <td>9</td>\n",
       "      <td>2</td>\n",
       "      <td>14</td>\n",
       "      <td>50</td>\n",
       "      <td>52</td>\n",
       "      <td>20</td>\n",
       "      <td>3</td>\n",
       "      <td>33</td>\n",
       "      <td>2</td>\n",
       "      <td>45</td>\n",
       "      <td>95</td>\n",
       "      <td>5</td>\n",
       "      <td>23</td>\n",
       "      <td>0</td>\n",
       "    </tr>\n",
       "  </tbody>\n",
       "</table>\n",
       "</div>"
      ],
      "text/plain": [
       "               Power BI  Excel  SSIS/SSRS  MS SQL Server  PostgreSQL  \\\n",
       "Power BI              0    214        128            127           0   \n",
       "Excel               214      0        594            264          72   \n",
       "SSIS/SSRS           128    594          0            268          56   \n",
       "MS SQL Server       127    264        268              0          87   \n",
       "PostgreSQL            0     72         56             87           0   \n",
       "MySQL/MariaDB         5    122         80             93          99   \n",
       "T-SQL                45    180        127            171          38   \n",
       "PL/SQL                9     58         40             12           2   \n",
       "Pentaho               9     66         35             46          47   \n",
       "Hadoop               22     84         34             29           4   \n",
       "Spark                28     89         41             27          10   \n",
       "Informatica          16    117         70             62           1   \n",
       "Qlik                179    410         88             66          14   \n",
       "Tableau             186    431        159            106           6   \n",
       "Microstrategy        26     39         31             19           0   \n",
       "Oracle BI           168    618        267            176          45   \n",
       "Python               80    353        164            114          29   \n",
       "VBA                  37    256         84             38           0   \n",
       "Linux                 7     74         18             51          43   \n",
       "AWS                   6     54         31             10           4   \n",
       "\n",
       "               MySQL/MariaDB  T-SQL  PL/SQL  Pentaho  Hadoop  Spark  \\\n",
       "Power BI                   5     45       9        9      22     28   \n",
       "Excel                    122    180      58       66      84     89   \n",
       "SSIS/SSRS                 80    127      40       35      34     41   \n",
       "MS SQL Server             93    171      12       46      29     27   \n",
       "PostgreSQL                99     38       2       47       4     10   \n",
       "MySQL/MariaDB              0     39       0       64       6     26   \n",
       "T-SQL                     39      0      41       40      18     19   \n",
       "PL/SQL                     0     41       0        8       3      0   \n",
       "Pentaho                   64     40       8        0       0      7   \n",
       "Hadoop                     6     18       3        0       0    135   \n",
       "Spark                     26     19       0        7     135      0   \n",
       "Informatica                9     13      30       34       5     13   \n",
       "Qlik                      17     74      18       33       9     16   \n",
       "Tableau                   50     97      20       40      38     36   \n",
       "Microstrategy              0     14      24        4       3      3   \n",
       "Oracle BI                 71    138      83       40      35     32   \n",
       "Python                    58     49       3       36     147    159   \n",
       "VBA                        5     27       7        1       7      9   \n",
       "Linux                     45     27       1       36      93     74   \n",
       "AWS                        1      9       2       14      50     52   \n",
       "\n",
       "               Informatica  Qlik  Tableau  Microstrategy  Oracle BI  Python  \\\n",
       "Power BI                16   179      186             26        168      80   \n",
       "Excel                  117   410      431             39        618     353   \n",
       "SSIS/SSRS               70    88      159             31        267     164   \n",
       "MS SQL Server           62    66      106             19        176     114   \n",
       "PostgreSQL               1    14        6              0         45      29   \n",
       "MySQL/MariaDB            9    17       50              0         71      58   \n",
       "T-SQL                   13    74       97             14        138      49   \n",
       "PL/SQL                  30    18       20             24         83       3   \n",
       "Pentaho                 34    33       40              4         40      36   \n",
       "Hadoop                   5     9       38              3         35     147   \n",
       "Spark                   13    16       36              3         32     159   \n",
       "Informatica              0    94       70             15        130      28   \n",
       "Qlik                    94     0      347             37        351      54   \n",
       "Tableau                 70   347        0             52        416     135   \n",
       "Microstrategy           15    37       52              0         62      19   \n",
       "Oracle BI              130   351      416             62          0     156   \n",
       "Python                  28    54      135             19        156       0   \n",
       "VBA                      5    31       71              7         77      65   \n",
       "Linux                    9     2       18              7          3      98   \n",
       "AWS                     20     3       33              2         45      95   \n",
       "\n",
       "               VBA  Linux  AWS  \n",
       "Power BI        37      7    6  \n",
       "Excel          256     74   54  \n",
       "SSIS/SSRS       84     18   31  \n",
       "MS SQL Server   38     51   10  \n",
       "PostgreSQL       0     43    4  \n",
       "MySQL/MariaDB    5     45    1  \n",
       "T-SQL           27     27    9  \n",
       "PL/SQL           7      1    2  \n",
       "Pentaho          1     36   14  \n",
       "Hadoop           7     93   50  \n",
       "Spark            9     74   52  \n",
       "Informatica      5      9   20  \n",
       "Qlik            31      2    3  \n",
       "Tableau         71     18   33  \n",
       "Microstrategy    7      7    2  \n",
       "Oracle BI       77      3   45  \n",
       "Python          65     98   95  \n",
       "VBA              0      1    5  \n",
       "Linux            1      0   23  \n",
       "AWS              5     23    0  "
      ]
     },
     "execution_count": 9,
     "metadata": {},
     "output_type": "execute_result"
    }
   ],
   "source": [
    "tech_terms_df = pd.DataFrame(tech_terms_matrix, columns=tech_terms_labels, index=tech_terms_labels)\n",
    "tech_terms_df"
   ]
  },
  {
   "cell_type": "markdown",
   "metadata": {},
   "source": [
    "We can finally move to Plotly. \n",
    "\n",
    "A chord diagram encodes information in two graphical objects:\n",
    "\n",
    "- Ideograms, represented by distinctly colored arcs of circles;\n",
    "- Ribbons, that are planar shapes bounded by two quadratic Bezier curves and two arcs of circle,that can degenerate to a point;\n"
   ]
  },
  {
   "cell_type": "markdown",
   "metadata": {},
   "source": [
    "### Ideograms Preparation"
   ]
  },
  {
   "cell_type": "markdown",
   "metadata": {},
   "source": [
    "For each of our predefined tech terms we can produce a total hits count by summing up all the entries on the row (or column for that matter). That total count determines the size of each ideogram of the chart.\n",
    "\n",
    "We are going to need a couple of helper functions to process the data in order to get ideogram ends.\n"
   ]
  },
  {
   "cell_type": "code",
   "execution_count": 10,
   "metadata": {},
   "outputs": [],
   "source": [
    "PI = np.pi\n",
    "\n",
    "def moduloAB(x, a, b):\n",
    "    if a >= b:\n",
    "        raise ValueError('Incorrect interval ends')\n",
    "    y = (x-a) % (b-a)\n",
    "    return y+b if y < 0 else y+a\n",
    "\n",
    "\n",
    "def test_2PI(x):\n",
    "    return 0 <= x < 2*PI"
   ]
  },
  {
   "cell_type": "markdown",
   "metadata": {},
   "source": [
    "And now use them to compute the row sums and the lengths of corresponding ideograms."
   ]
  },
  {
   "cell_type": "code",
   "execution_count": 11,
   "metadata": {},
   "outputs": [],
   "source": [
    "row_sum = [np.sum(tech_terms_matrix[k, :]) for k in range(len(tech_terms_filters))]\n",
    "\n",
    "#set the gap between two consecutive ideograms\n",
    "gap = 2*PI*0.005\n",
    "ideogram_length = 2*PI*np.asarray(row_sum)/sum(row_sum)-gap*np.ones(len(tech_terms_filters))"
   ]
  },
  {
   "cell_type": "markdown",
   "metadata": {},
   "source": [
    "The next function returns the list of end angular coordinates for each ideogram arc:\n"
   ]
  },
  {
   "cell_type": "code",
   "execution_count": 12,
   "metadata": {},
   "outputs": [],
   "source": [
    "def get_ideogram_ends(ideogram_len, gap):\n",
    "    ideo_ends = []\n",
    "    left = 0\n",
    "    for k in range(len(ideogram_len)):\n",
    "        right = left+ideogram_len[k]\n",
    "        ideo_ends.append([left, right])\n",
    "        left = right+gap\n",
    "    return ideo_ends\n",
    "\n",
    "ideo_ends = get_ideogram_ends(ideogram_length, gap)"
   ]
  },
  {
   "cell_type": "markdown",
   "metadata": {},
   "source": [
    "The function make_ideogram_arc returns equally spaced points on an ideogram arc, expressed as complex numbers in polar form:"
   ]
  },
  {
   "cell_type": "code",
   "execution_count": 13,
   "metadata": {},
   "outputs": [],
   "source": [
    "def make_ideogram_arc(R, phi, a=50):\n",
    "    if not test_2PI(phi[0]) or not test_2PI(phi[1]):\n",
    "        phi = [moduloAB(t, 0, 2*PI) for t in phi]\n",
    "    length = (phi[1]-phi[0]) % 2*PI\n",
    "    nr = 5 if length <= PI/4 else int(a*length/PI)\n",
    "    if phi[0] < phi[1]:\n",
    "        theta = np.linspace(phi[0], phi[1], nr)\n",
    "    else:\n",
    "        phi = [moduloAB(t, -PI, PI) for t in phi]\n",
    "        theta = np.linspace(phi[0], phi[1], nr)\n",
    "    return R*np.exp(1j*theta)"
   ]
  },
  {
   "cell_type": "code",
   "execution_count": 14,
   "metadata": {},
   "outputs": [],
   "source": [
    "z = make_ideogram_arc(1.3, [11*PI/6, PI/17])"
   ]
  },
  {
   "cell_type": "markdown",
   "metadata": {},
   "source": [
    "### Ribbons Preparation"
   ]
  },
  {
   "cell_type": "markdown",
   "metadata": {},
   "source": [
    "The function map_data maps all matrix entries to the corresponding values in the intervals associated to ideograms:"
   ]
  },
  {
   "cell_type": "code",
   "execution_count": 15,
   "metadata": {},
   "outputs": [],
   "source": [
    "def map_data(data_matrix, row_value, ideogram_length):\n",
    "    mapped = np.zeros(data_matrix.shape)\n",
    "    for j in range(len(tech_terms_filters)):\n",
    "        mapped[:, j] = ideogram_length*data_matrix[:, j]/row_value\n",
    "    return mapped\n",
    "\n",
    "mapped_data = map_data(tech_terms_matrix, row_sum, ideogram_length)"
   ]
  },
  {
   "cell_type": "markdown",
   "metadata": {},
   "source": [
    "The array idx_sort, defined below, has on each row the indices that sort the corresponding row in mapped_data:\n"
   ]
  },
  {
   "cell_type": "code",
   "execution_count": 16,
   "metadata": {},
   "outputs": [],
   "source": [
    "idx_sort = np.argsort(mapped_data, axis=1)"
   ]
  },
  {
   "cell_type": "code",
   "execution_count": 17,
   "metadata": {},
   "outputs": [
    {
     "name": "stdout",
     "output_type": "stream",
     "text": [
      "ribbon ends starting from the ideogram[2]\n",
      " [(1.2901173673493074, 1.2901173673493074), (1.2901173673493074, 1.2941838656479445), (1.2941838656479445, 1.3011872793844863), (1.3011872793844863, 1.308190693121028), (1.308190693121028, 1.3158718565740095), (1.3158718565740095, 1.3237789365991373), (1.3237789365991373, 1.3328155994849977), (1.3328155994849977, 1.3420781789430045), (1.3420781789430045, 1.354729506983209), (1.354729506983209, 1.3705436670334648), (1.3705436670334648, 1.3886169928051855), (1.3886169928051855, 1.4075939848654921), (1.4075939848654921, 1.427474643214385), (1.427474643214385, 1.4561660478769918), (1.4561660478769918, 1.4850833691117449), (1.4850833691117449, 1.5210041040830398), (1.5210041040830398, 1.5580544219150674), (1.5580544219150674, 1.6183741466781854), (1.6183741466781854, 1.6789197880134499), (1.6789197880134499, 1.8131142318684765)]\n"
     ]
    }
   ],
   "source": [
    "def make_ribbon_ends(mapped_data, ideo_ends,  idx_sort):\n",
    "    L = mapped_data.shape[0]\n",
    "    ribbon_boundary = np.zeros((L, L+1))\n",
    "    for k in range(L):\n",
    "        start = ideo_ends[k][0]\n",
    "        ribbon_boundary[k][0] = start\n",
    "        for j in range(1, L+1):\n",
    "            J = idx_sort[k][j-1]\n",
    "            ribbon_boundary[k][j] = start+mapped_data[k][J]\n",
    "            start = ribbon_boundary[k][j]\n",
    "    return [[(ribbon_boundary[k][j], ribbon_boundary[k][j+1]) for j in range(L)] for k in range(L)]\n",
    "\n",
    "\n",
    "ribbon_ends = make_ribbon_ends(mapped_data, ideo_ends, idx_sort)\n",
    "print('ribbon ends starting from the ideogram[2]\\n', ribbon_ends[2])"
   ]
  },
  {
   "cell_type": "code",
   "execution_count": 18,
   "metadata": {},
   "outputs": [],
   "source": [
    "def control_pts(angle, radius):\n",
    "    if len(angle) != 3:\n",
    "        raise InvalidInputError('angle must have len =3')\n",
    "    b_cplx = np.array([np.exp(1j*angle[k]) for k in range(3)])\n",
    "    b_cplx[1] = radius*b_cplx[1]\n",
    "    return zip(b_cplx.real, b_cplx.imag)"
   ]
  },
  {
   "cell_type": "code",
   "execution_count": 19,
   "metadata": {},
   "outputs": [],
   "source": [
    "def ctrl_rib_chords(l, r, radius):\n",
    "    if len(l) != 2 or len(r) != 2:\n",
    "        raise ValueError('the arc ends must be elements in a list of len 2')\n",
    "    return [control_pts([l[j], (l[j]+r[j])/2, r[j]], radius) for j in range(2)]"
   ]
  },
  {
   "cell_type": "code",
   "execution_count": 20,
   "metadata": {},
   "outputs": [
    {
     "data": {
      "text/plain": [
       "'M 1,4 Q -0.5, 2.35 3.745, 1.47'"
      ]
     },
     "execution_count": 20,
     "metadata": {},
     "output_type": "execute_result"
    }
   ],
   "source": [
    "def make_q_bezier(b):\n",
    "    if len(b) != 3:\n",
    "        raise ValueError('control poligon must have 3 points')\n",
    "    A, B, C = b\n",
    "    return 'M ' + str(A[0]) + ',' + str(A[1]) + ' ' + 'Q ' + \\\n",
    "        str(B[0]) + ', ' + str(B[1]) + ' ' + \\\n",
    "        str(C[0]) + ', ' + str(C[1])\n",
    "\n",
    "\n",
    "b = [(1,4), (-0.5, 2.35), (3.745, 1.47)]\n",
    "make_q_bezier(b)"
   ]
  },
  {
   "cell_type": "code",
   "execution_count": 21,
   "metadata": {},
   "outputs": [],
   "source": [
    "def make_ribbon_arc(theta0, theta1):\n",
    "    if test_2PI(theta0) and test_2PI(theta1):\n",
    "        if theta0 < theta1:\n",
    "            theta0 = moduloAB(theta0, -PI, PI)\n",
    "            theta1 = moduloAB(theta1, -PI, PI)\n",
    "            if theta0*theta1 > 0:\n",
    "                raise ValueError('incorrect angle coordinates for ribbon')\n",
    "\n",
    "        nr = int(40*(theta0-theta1)/PI)\n",
    "        if nr <= 2: \n",
    "            nr = 3\n",
    "        theta = np.linspace(theta0, theta1, nr)\n",
    "        pts = np.exp(1j*theta)\n",
    "\n",
    "        string_arc = ''\n",
    "        for k in range(len(theta)):\n",
    "            string_arc += 'L ' + str(pts.real[k]) + ', ' + str(pts.imag[k]) + ' '\n",
    "        return string_arc\n",
    "    else:\n",
    "        raise ValueError('the angle coordinates for an arc side of a ribbon must be in [0, 2*pi]')"
   ]
  },
  {
   "cell_type": "code",
   "execution_count": 22,
   "metadata": {},
   "outputs": [],
   "source": [
    "def make_ideo_shape(path, line_color, fill_color):\n",
    "    return dict(\n",
    "        line=dict(color=line_color, width=0.45),\n",
    "        path=path,\n",
    "        type='path',\n",
    "        fillcolor=fill_color,\n",
    "        layer='below',\n",
    "    )"
   ]
  },
  {
   "cell_type": "code",
   "execution_count": 23,
   "metadata": {},
   "outputs": [],
   "source": [
    "temp_colors = [*DS['colorramp']['acc1'], *DS['colorramp']['acc2']]\n",
    "len_datalist = len(tech_terms_filters)\n",
    "ideo_colors = temp_colors[:len_datalist]"
   ]
  },
  {
   "cell_type": "code",
   "execution_count": 24,
   "metadata": {},
   "outputs": [],
   "source": [
    "def make_ribbon(l, r, line_color, fill_color, radius=0.2):\n",
    "    poligon = ctrl_rib_chords(l, r, radius)\n",
    "    b, c = poligon\n",
    "\n",
    "    return dict(\n",
    "        line=dict(\n",
    "            color=line_color,\n",
    "            width=0.5\n",
    "            ),\n",
    "        path=make_q_bezier(list(b))+make_ribbon_arc(r[0], r[1])+make_q_bezier(list(c)[::-1])+make_ribbon_arc(l[1], l[0]),\n",
    "        type='path',\n",
    "        fillcolor=fill_color,\n",
    "        layer='below'\n",
    "    )\n",
    "\n",
    "\n",
    "def make_self_rel(l, line_color, fill_color, radius):\n",
    "    b = control_pts([l[0], (l[0]+l[1])/2, l[1]], radius)\n",
    "    return dict(\n",
    "        line=dict(\n",
    "            color=line_color,\n",
    "            width=0.5\n",
    "            ),\n",
    "        path=make_q_bezier(b)+make_ribbon_arc(l[1], l[0]),\n",
    "        type='path',\n",
    "        fillcolor=fill_color,\n",
    "        layer='below'\n",
    "    )\n",
    "\n",
    "\n",
    "def invPerm(perm):\n",
    "    inv = [0] * len(perm)\n",
    "    for i, s in enumerate(perm):\n",
    "        inv[s] = i\n",
    "    return inv"
   ]
  },
  {
   "cell_type": "code",
   "execution_count": 25,
   "metadata": {},
   "outputs": [],
   "source": [
    "radii_sribb = [0.4, 0.30, 0.35, 0.39, 0.12]"
   ]
  },
  {
   "cell_type": "code",
   "execution_count": 26,
   "metadata": {},
   "outputs": [],
   "source": [
    "shapes = []\n",
    "ribbon_info = []\n",
    "\n",
    "for k in range(len(tech_terms_filters)):\n",
    "    sigma = idx_sort[k]\n",
    "    sigma_inv = invPerm(sigma)\n",
    "    for j in range(k, len(tech_terms_filters)):\n",
    "        if tech_terms_matrix[k][j] == 0 and tech_terms_matrix[j][k] == 0:\n",
    "            continue\n",
    "        eta = idx_sort[j]\n",
    "        eta_inv = invPerm(eta)\n",
    "        l = ribbon_ends[k][sigma_inv[j]]\n",
    "\n",
    "        if j == k:\n",
    "            shapes.append(make_self_rel(l, DS['colors']['acc1'], ideo_colors[k], radius=radii_sribb[k]))\n",
    "            z = 0.9*np.exp(1j*(l[0]+l[1])/2)\n",
    "            text = tech_terms_labels[k]+' appears in ' + '{:d}'.format(tech_terms_matrix[k][k]),\n",
    "            ribbon_info.append(\n",
    "                go.Scatter(\n",
    "                    x=[z.real],\n",
    "                    y=[z.imag],\n",
    "                    mode='markers',\n",
    "                    marker=dict(size=0.5, color=ideo_colors[k]),\n",
    "                    text=text,\n",
    "                    hoverinfo='text',\n",
    "                ),\n",
    "            )\n",
    "        else:\n",
    "            r = ribbon_ends[j][eta_inv[k]]\n",
    "            zi = 0.9*np.exp(1j*(l[0]+l[1])/2)\n",
    "            zf = 0.9*np.exp(1j*(r[0]+r[1])/2)\n",
    "            texti = tech_terms_labels[k]+' appears with '+tech_terms_labels[j]+' {:d}'.format(tech_terms_matrix[k][j])+' times'\n",
    "            textf = tech_terms_labels[j]+' appears with '+tech_terms_labels[k]+' {:d}'.format(tech_terms_matrix[j][k])+' times'\n",
    "\n",
    "            ribbon_info.append(go.Scatter(\n",
    "                x=[zi.real],\n",
    "                y=[zi.imag],\n",
    "                mode='markers',\n",
    "                marker=dict(size=0.5, color='green'),\n",
    "                text=texti,\n",
    "                hoverinfo='text'\n",
    "            )),\n",
    "            ribbon_info.append(go.Scatter(\n",
    "                x=[zf.real],\n",
    "                y=[zf.imag],\n",
    "                mode='markers',\n",
    "                marker=dict(size=0.5, color='blue'),\n",
    "                text=textf,\n",
    "                hoverinfo='text'\n",
    "            ))\n",
    "            r = (r[1], r[0])\n",
    "            shapes.append(make_ribbon(l, r, 'rgb(175,175,175)', ideo_colors[k]))"
   ]
  },
  {
   "cell_type": "code",
   "execution_count": 27,
   "metadata": {},
   "outputs": [
    {
     "name": "stderr",
     "output_type": "stream",
     "text": [
      "/games/WORKSPACE/jpynb_Job_Market_Trends_Bulgaria/ve-job_market_trends/lib/python3.7/site-packages/plotly/graph_objs/_deprecations.py:39: DeprecationWarning:\n",
      "\n",
      "plotly.graph_objs.Data is deprecated.\n",
      "Please replace it with a list or tuple of instances of the following types\n",
      "  - plotly.graph_objs.Scatter\n",
      "  - plotly.graph_objs.Bar\n",
      "  - plotly.graph_objs.Area\n",
      "  - plotly.graph_objs.Histogram\n",
      "  - etc.\n",
      "\n",
      "\n"
     ]
    }
   ],
   "source": [
    "ideograms = []\n",
    "for k in range(len(ideo_ends)):\n",
    "    z = make_ideogram_arc(1.1, ideo_ends[k])\n",
    "    zi = make_ideogram_arc(1.0, ideo_ends[k])\n",
    "    m = len(z)\n",
    "    n = len(zi)\n",
    "    ideograms.append(go.Scatter(\n",
    "        x=z.real,\n",
    "        y=z.imag,\n",
    "        mode='lines',\n",
    "        line=dict(color=ideo_colors[k], shape='spline', width=0.25),\n",
    "        text=tech_terms_labels[k]+'<br>'+'{:d}'.format(row_sum[k]),\n",
    "        hoverinfo='text',))\n",
    "\n",
    "    path = 'M '\n",
    "    for s in range(m):\n",
    "        path += str(z.real[s])+', '+str(z.imag[s])+' L '\n",
    "\n",
    "    Zi = np.array(zi.tolist()[::-1])\n",
    "\n",
    "    for s in range(m):\n",
    "        path += str(Zi.real[s])+', '+str(Zi.imag[s])+' L '\n",
    "    path += str(z.real[0])+' ,'+str(z.imag[0])\n",
    "\n",
    "    shapes.append(make_ideo_shape(path, 'rgb(150,150,150)', ideo_colors[k]))\n",
    "\n",
    "data = go.Data(ideograms+ribbon_info)\n"
   ]
  },
  {
   "cell_type": "code",
   "execution_count": 28,
   "metadata": {},
   "outputs": [],
   "source": [
    "layout = go.Layout(\n",
    "    paper_bgcolor=DS['colors']['bg1'],\n",
    "    plot_bgcolor=DS['colors']['bg1'],\n",
    "    title='Data Jobs ‒ Technologies in Demand and Relationships Between Them',\n",
    "    titlefont=DS['chart_fonts']['title'],\n",
    "    font=DS['chart_fonts']['text'],\n",
    "    autosize=False,\n",
    "    width=960,\n",
    "    height=525,\n",
    "    margin=dict(\n",
    "        l=280,\n",
    "        r=280,\n",
    "        t=80,\n",
    "        b=10,\n",
    "    ),\n",
    "    showlegend=False,\n",
    "    hidesources=True,\n",
    "    xaxis=dict(\n",
    "        showline=False,\n",
    "        zeroline=False,\n",
    "        showgrid=False,\n",
    "        showticklabels=False,\n",
    "        title='',\n",
    "    ),\n",
    "    yaxis=dict(\n",
    "        showline=False,\n",
    "        zeroline=False,\n",
    "        showgrid=False,\n",
    "        showticklabels=False,\n",
    "        title='',\n",
    "    ),\n",
    "    shapes=shapes,\n",
    "    hovermode='closest',\n",
    "    hoverdistance=40,\n",
    ")"
   ]
  },
  {
   "cell_type": "code",
   "execution_count": 29,
   "metadata": {},
   "outputs": [
    {
     "data": {
      "application/vnd.plotly.v1+json": {
       "config": {
        "linkText": "Export to plot.ly",
        "plotlyServerURL": "https://plot.ly",
        "showLink": true
       },
       "data": [
        {
         "hoverinfo": "text",
         "line": {
          "color": "#f2e6ce",
          "shape": "spline",
          "width": 0.25
         },
         "mode": "lines",
         "text": "Power BI<br>1292",
         "type": "scatter",
         "uid": "775567b5-56f3-42a2-94ed-a794ac9b9b97",
         "x": [
          1.1,
          1.0997048280870863,
          1.0988194707600871,
          1.0973444031692132,
          1.0952804169481418,
          1.0926286197891655,
          1.0893904348487211,
          1.0855675999836145,
          1.0811621668183544,
          1.076176499644095,
          1.0706132741497758,
          1.0644754759861446,
          1.0577663991634283
         ],
         "y": [
          0,
          0.025481190748316705,
          0.050948706347876134,
          0.07638887898904796,
          0.10178805553651699,
          0.12713260485659605,
          0.15240892513273108,
          0.1776034511652723,
          0.2027026616515944,
          0.22769308644265757,
          0.25256131377211616,
          0.2772939974540945,
          0.3018778640457674
         ]
        },
        {
         "hoverinfo": "text",
         "line": {
          "color": "#ecd5bb",
          "shape": "spline",
          "width": 0.25
         },
         "mode": "lines",
         "text": "Excel<br>4095",
         "type": "scatter",
         "uid": "6a186895-6466-475f-be46-7c47c59c68ce",
         "x": [
          1.0477622424397222,
          1.0406273180060228,
          1.033049237721061,
          1.0250312287446097,
          1.0165767055820658,
          1.0076892686303673,
          0.9983727026447473,
          0.9886309751269801,
          0.9784682346358012,
          0.9678888090202261,
          0.9568972035765156,
          0.9454980991295746,
          0.9336963500396026,
          0.9214969821348415,
          0.9089051905713048,
          0.8959263376203962,
          0.882565950385362,
          0.8688297184475501,
          0.8547234914434751,
          0.8402532765737244,
          0.8254252360447649,
          0.8102456844447393,
          0.7947210860543699,
          0.7788580520941161,
          0.7626633379087554,
          0.7461438400905903,
          0.7293065935425018,
          0.712158768482106,
          0.6947076673882832,
          0.6769607218913842,
          0.6589254896084378,
          0.6406096509247046,
          0.6220210057229507,
          0.6031674700618317,
          0.584057072804804,
          0.564697952200997,
          0.5450983524195017,
          0.5252666200385555,
          0.5052112004911133,
          0.48494063446832214,
          0.46446355428242836,
          0.4437886801906693,
          0.422924816681712,
          0.4018808487262216,
          0.3806657379931568,
          0.3592885190334022,
          0.3377582954323643
         ],
         "y": [
          0.33495415106800064,
          0.3565035554094685,
          0.3779011410990117,
          0.3991377958779599,
          0.42020447602079886,
          0.4410922101864822,
          0.4617921032389176,
          0.4822953400350005,
          0.502593189178583,
          0.5226770067387778,
          0.542538239931016,
          0.5621684307592889,
          0.5815592196180233,
          0.6007023488520581,
          0.619589666273204,
          0.638213128631889,
          0.6565648050424138,
          0.6746368803603542,
          0.6924216585106765,
          0.7099115657651454,
          0.7270991539676307,
          0.7439771037059382,
          0.7605382274288144,
          0.776775472506798,
          0.792681924235614,
          0.8082508087808312,
          0.8234754960625313,
          0.8383495025787575,
          0.8528664941665435,
          0.8670202886993453,
          0.8808048587197285,
          0.8942143340061869,
          0.9072430040730043,
          0.9198853206020898,
          0.9321358998057547,
          0.9439895247194222,
          0.9554411474232962,
          0.9664858911920401,
          0.9771190525715525,
          0.9873361033819543,
          0.9971326926459356,
          1.0065046484416373,
          1.0154479796792844,
          1.023958877800809,
          1.0320337184017419,
          1.0396690627746816,
          1.0468616593736844
         ]
        },
        {
         "hoverinfo": "text",
         "line": {
          "color": "#e6c4a9",
          "shape": "spline",
          "width": 0.25
         },
         "mode": "lines",
         "text": "SSIS/SSRS<br>2315",
         "type": "scatter",
         "uid": "fcb4b6b7-94ce-4ebe-b100-53fb776b1a83",
         "x": [
          0.3047089127318786,
          0.28253249910787,
          0.2602324421447235,
          0.23781850090914647,
          0.21530048430647336,
          0.19268824678804095,
          0.16999168403863266,
          0.1472207286458765,
          0.12438534575349607,
          0.10149552870031182,
          0.07856129464690359,
          0.05559268019185014,
          0.032599736979460135,
          0.009592527300918583,
          -0.013418880309223766,
          -0.036424415479295806,
          -0.059414010407554126,
          -0.08237760426810647,
          -0.10530514761378354,
          -0.1281866067740288,
          -0.15101196824588622,
          -0.17377124307616215,
          -0.1964544712328414,
          -0.2190517259638489,
          -0.24155311814124722,
          -0.26394880058896664
         ],
         "y": [
          1.0569543407838187,
          1.0630970731536522,
          1.068774567462846,
          1.0739843390968635,
          1.0787241081283936,
          1.0829918003151044,
          1.086785548007384,
          1.0901036909656703,
          1.0929447770870142,
          1.0953075630405573,
          1.0971910148116428,
          1.0985943081543281,
          1.099516828952095,
          1.099958173486602,
          1.0999181486143625,
          1.0993967718512694,
          1.0983942713649282,
          1.0969110858748068,
          1.0949478644602397,
          1.0925054662763756,
          1.089584960178188,
          1.0861876242527189,
          1.0823149452597542,
          1.0779686179811818,
          1.0731505444793106,
          1.0678628332644815
         ]
        },
        {
         "hoverinfo": "text",
         "line": {
          "color": "#e1b396",
          "shape": "spline",
          "width": 0.25
         },
         "mode": "lines",
         "text": "MS SQL Server<br>1766",
         "type": "scatter",
         "uid": "6626dd41-a377-467b-b851-25bdfd7f8e16",
         "x": [
          -0.29736093997349655,
          -0.32032409821062224,
          -0.34313571485199995,
          -0.3657849979877898,
          -0.3882612325062403,
          -0.4105537851628836,
          -0.4326521096109985,
          -0.45454575139096426,
          -0.47622435287614406,
          -0.4976776581729568,
          -0.5188955179728219,
          -0.5398678943536763,
          -0.5605848655288017,
          -0.5810366305407041,
          -0.6012135138978321,
          -0.6211059701519409,
          -0.6407045884139307,
          -0.6600000968060309,
          -0.6789833668482138
         ],
         "y": [
          1.059045075234326,
          1.0523271697079535,
          1.0451114204681753,
          1.037401241201818,
          1.0292002795047888,
          1.0205124151564393,
          1.0113417582840891,
          1.0016926474185701,
          0.9915696474417206,
          0.9809775474267909,
          0.9699213583727895,
          0.9584063108338384,
          0.9464378524446576,
          0.9340216453433536,
          0.9211635634927282,
          0.9078696899013737,
          0.8941463137458745,
          0.8799999273954686,
          0.8654372233405864
         ]
        },
        {
         "hoverinfo": "text",
         "line": {
          "color": "#dba284",
          "shape": "spline",
          "width": 0.25
         },
         "mode": "lines",
         "text": "PostgreSQL<br>557",
         "type": "scatter",
         "uid": "22b764db-dca6-42e8-8cc0-d54993f21074",
         "x": [
          -0.7058323696635972,
          -0.7271100262358691,
          -0.7479151051013161,
          -0.7682340842122343,
          -0.7880537574564714
         ],
         "y": [
          0.8436827993594934,
          0.8254156587727628,
          0.8066120477412221,
          0.7872841874790766,
          0.7674446399309446
         ]
        },
        {
         "hoverinfo": "text",
         "line": {
          "color": "#d59171",
          "shape": "spline",
          "width": 0.25
         },
         "mode": "lines",
         "text": "MySQL/MariaDB<br>790",
         "type": "scatter",
         "uid": "a7c6cb61-aacc-450f-9017-84b92c57f631",
         "x": [
          -0.8117709191892799,
          -0.8404122192604989,
          -0.867746102393664,
          -0.8937300456685078,
          -0.918323626246361
         ],
         "y": [
          0.7423125856124169,
          0.7097233980345042,
          0.6760301041969987,
          0.6412851202619371,
          0.6055424984901836
         ]
        },
        {
         "hoverinfo": "text",
         "line": {
          "color": "#d0805f",
          "shape": "spline",
          "width": 0.25
         },
         "mode": "lines",
         "text": "T-SQL<br>1166",
         "type": "scatter",
         "uid": "f6331570-a2f1-4ac9-8820-fcbaee0145de",
         "x": [
          -0.9368910385037288,
          -0.970782237452344,
          -1.000948172619359,
          -1.0272730857416115,
          -1.0496559580307216
         ],
         "y": [
          0.5763984576414173,
          0.5172831405014285,
          0.4561828095511341,
          0.39333193019497936,
          0.32897168536305355
         ]
        },
        {
         "hoverinfo": "text",
         "line": {
          "color": "#ca6f4c",
          "shape": "spline",
          "width": 0.25
         },
         "mode": "lines",
         "text": "PL/SQL<br>361",
         "type": "scatter",
         "uid": "ebd1955a-4bee-4ac0-a917-55ebd08310e1",
         "x": [
          -1.059471266531148,
          -1.063441509117803,
          -1.0672104131685591,
          -1.070777265126895,
          -1.074141389690272
         ],
         "y": [
          0.29583886728231856,
          0.2812332780544468,
          0.2665744436824236,
          0.25186513948414446,
          0.2371081503328204
         ]
        },
        {
         "hoverinfo": "text",
         "line": {
          "color": "#c45e3a",
          "shape": "spline",
          "width": 0.25
         },
         "mode": "lines",
         "text": "Pentaho<br>560",
         "type": "scatter",
         "uid": "732cd0dc-a2d3-4cc9-933b-ec013cf7ea61",
         "x": [
          -1.0810591127413554,
          -1.085920586015171,
          -1.0900662970470476,
          -1.09349351327674,
          -1.0961999757250893
         ],
         "y": [
          0.20325155536643125,
          0.1754322686066271,
          0.1474973492715648,
          0.11946521008934811,
          0.09135432786854421
         ]
        },
        {
         "hoverinfo": "text",
         "line": {
          "color": "#bf4d28",
          "shape": "spline",
          "width": 0.25
         },
         "mode": "lines",
         "text": "Hadoop<br>722",
         "type": "scatter",
         "uid": "bd13840e-4ba7-4afe-8faf-f0b2e6d1b0d3",
         "x": [
          -1.0985285759934058,
          -1.0998528720042304,
          -1.0998010863968175,
          -1.0983732839627622,
          -1.0955712510979856
         ],
         "y": [
          0.05687677668346124,
          0.017990551521444863,
          -0.020918182530516083,
          -0.059800744785139505,
          -0.09860848730000416
         ]
        },
        {
         "hoverinfo": "text",
         "line": {
          "color": "#af4624",
          "shape": "spline",
          "width": 0.25
         },
         "mode": "lines",
         "text": "Spark<br>776",
         "type": "scatter",
         "uid": "a86ca1c6-d777-4961-899e-6191982ce6ed",
         "x": [
          -1.0919332853828896,
          -1.0859873091913728,
          -1.0784229089781554,
          -1.0692513578096088,
          -1.058486323855335
         ],
         "y": [
          -0.1329725545852573,
          -0.1750187540673344,
          -0.21680412678520092,
          -0.25826640087767544,
          -0.29934378599065503
         ]
        },
        {
         "hoverinfo": "text",
         "line": {
          "color": "#9f4021",
          "shape": "spline",
          "width": 0.25
         },
         "mode": "lines",
         "text": "Informatica<br>741",
         "type": "scatter",
         "uid": "26951554-51d9-4b6b-9252-41a3a83072e9",
         "x": [
          -1.0485614092075264,
          -1.035727422860815,
          -1.0215129089998625,
          -1.0059368142384717,
          -0.9890199000500849
         ],
         "y": [
          -0.33244393680848866,
          -0.37049791569466933,
          -0.40805805560807007,
          -0.44507429240493623,
          -0.48149728691335364
         ]
        },
        {
         "hoverinfo": "text",
         "line": {
          "color": "#8f391e",
          "shape": "spline",
          "width": 0.25
         },
         "mode": "lines",
         "text": "Qlik<br>1843",
         "type": "scatter",
         "uid": "8f78fab6-e2f8-4c92-9fed-405b93e5b3fd",
         "x": [
          -0.9734076831563122,
          -0.9621276222573772,
          -0.9503996528455224,
          -0.9382292347549916,
          -0.9256220337974116,
          -0.9125839191241317,
          -0.8991209604939037,
          -0.8852394254471652,
          -0.870945776388255,
          -0.8562466675769053,
          -0.8411489420304207,
          -0.8256596283379845,
          -0.8097859373885697,
          -0.7935352590139851,
          -0.7769151585486181,
          -0.7599333733074685,
          -0.7425978089841239,
          -0.7249165359703472,
          -0.7068977855989866,
          -0.6885499463119679
         ],
         "y": [
          -0.5123255628721455,
          -0.5332076879503573,
          -0.5538415837323076,
          -0.57421764432231,
          -0.594326383857173,
          -0.614158440922243,
          -0.6337045829095134,
          -0.652955710315771,
          -0.6719028609787727,
          -0.6905372142494892,
          -0.7088500950984659,
          -0.726832978154391,
          -0.7444774916729959,
          -0.7617754214344328,
          -0.7787187145673179,
          -0.7952994832976644,
          -0.8115100086209528,
          -0.8273427438956316,
          -0.8427903183563805,
          -0.8578455405454914
         ]
        },
        {
         "hoverinfo": "text",
         "line": {
          "color": "#f0f3e7",
          "shape": "spline",
          "width": 0.25
         },
         "mode": "lines",
         "text": "Tableau<br>2311",
         "type": "scatter",
         "uid": "8dc15cce-88f7-4b0a-951c-1e44f3eab2d9",
         "x": [
          -0.661264608877963,
          -0.6427658444510328,
          -0.6239868189701117,
          -0.6049357205328089,
          -0.5856208558669534,
          -0.5660506467086655,
          -0.5462336261302806,
          -0.5261784348197293,
          -0.5058938173129932,
          -0.4853886181812818,
          -0.4646717781745909,
          -0.4437523303233243,
          -0.42263939599967976,
          -0.40134218094051954,
          -0.3798699712334427,
          -0.3582321292678445,
          -0.33643808965268435,
          -0.3144973551027781,
          -0.29241949229539,
          -0.2702141276989356,
          -0.2478909433756151,
          -0.2254596727598056,
          -0.20293009641405482,
          -0.18031203776452506,
          -0.15761535881774805,
          -0.13484995586055762
         ],
         "y": [
          -0.8790501220325692,
          -0.8926657096624419,
          -0.9058920740085771,
          -0.9187234480644606,
          -0.931154237048652,
          -0.9431790208442413,
          -0.9547925563621478,
          -0.96598977982723,
          -0.9767658089862115,
          -0.987115945236458,
          -0.9970356756746791,
          -1.0065206750646603,
          -1.0155668077231679,
          -1.0241701293232035,
          -1.0323268886138264,
          -1.0400335290557832,
          -1.047286690372246,
          -1.054083210013971,
          -1.0604201245382447,
          -1.0662946709010148,
          -1.0717042876616423,
          -1.0766466160997497,
          -1.0811195012436796,
          -1.0851209928101127,
          -1.0886493460544369,
          -1.0917030225314968
         ]
        },
        {
         "hoverinfo": "text",
         "line": {
          "color": "#e2ecde",
          "shape": "spline",
          "width": 0.25
         },
         "mode": "lines",
         "text": "Microstrategy<br>364",
         "type": "scatter",
         "uid": "29785eb0-a1d3-4866-90f6-ff1070d99a07",
         "x": [
          -0.10049219492205558,
          -0.08521376086983552,
          -0.06991876958385371,
          -0.05461019291682114,
          -0.039291005361117355
         ],
         "y": [
          -1.0954000724665613,
          -1.0966944036323056,
          -1.097775644501134,
          -1.0986435849854073,
          -1.099298056442252
         ]
        },
        {
         "hoverinfo": "text",
         "line": {
          "color": "#d4e5d6",
          "shape": "spline",
          "width": 0.25
         },
         "mode": "lines",
         "text": "Oracle BI<br>2913",
         "type": "scatter",
         "uid": "4e7d095b-19d5-4211-949c-a30839cee9ca",
         "x": [
          -0.004741831215839861,
          0.01815830459933307,
          0.04105057027924656,
          0.06392504390490794,
          0.08677181126871744,
          0.10958097017146956,
          0.1323426347141411,
          0.15504693958261445,
          0.17768404432348758,
          0.20024413760909945,
          0.22271744148993655,
          0.24509421563257272,
          0.2673647615413007,
          0.2895194267616401,
          0.3115486090638816,
          0.3334427606048629,
          0.355192392066181,
          0.37678807676702947,
          0.39822045474989215,
          0.4194802368373176,
          0.4405582086580118,
          0.46144523464051773,
          0.48213226197273296,
          0.5026103245255588,
          0.5228705467389867,
          0.5429041474689216,
          0.5627024437930888,
          0.5822568547743688,
          0.6015589051799264,
          0.6206002291545337,
          0.6393725738464797,
          0.6578678029845015,
          0.6760779004041956
         ],
         "y": [
          -1.0999897795146647,
          -1.0998501152311972,
          -1.0992337561591479,
          -1.0981409694396052,
          -1.0965722287059554,
          -1.0945282138786006,
          -1.0920098108702685,
          -1.089018111202043,
          -1.0855544115302784,
          -1.0816202130846058,
          -1.0772172210172732,
          -1.0723473436641013,
          -1.0670126917173777,
          -1.0612155773110437,
          -1.0549585130185741,
          -1.0482442107639842,
          -1.0410755806464316,
          -1.033455729678927,
          -1.0253879604417,
          -1.0168757696508006,
          -1.0079228466425612,
          -0.9985330717745696,
          -0.9887105147438537,
          -0.978459432823003,
          -0.9677842690149873,
          -0.9566896501274819,
          -0.9451803847675246,
          -0.9332614612573797,
          -0.9209380454725109,
          -0.9082154786025949,
          -0.8950992748365558,
          -0.8815951189726186,
          -0.8677088639544112
         ]
        },
        {
         "hoverinfo": "text",
         "line": {
          "color": "#c6decd",
          "shape": "spline",
          "width": 0.25
         },
         "mode": "lines",
         "text": "Python<br>1842",
         "type": "scatter",
         "uid": "12d8459c-3206-4d3d-8170-0047fb6ce0ba",
         "x": [
          0.7029996908479115,
          0.7210790892365118,
          0.7388231888246843,
          0.7562237386793565,
          0.7732726476166607,
          0.7899619879643072,
          0.8062839992479142,
          0.8222310917996007,
          0.8377958502871475,
          0.8529710371620964,
          0.8677495960251838,
          0.8821246549075314,
          0.8960895294660899,
          0.909637726091825,
          0.9227629449292223,
          0.935459082805694,
          0.9477202360695269,
          0.9595407033350589,
          0.9709149881337965,
          0.9818378014702537
         ],
         "y": [
          -0.846044581962287,
          -0.8306894408055533,
          -0.8149480324873022,
          -0.7988276766974317,
          -0.7823358693348529,
          -0.7654802790219223,
          -0.7482687435385698,
          -0.7307092661777573,
          -0.7128100120239864,
          -0.6945793041565648,
          -0.6760256197794065,
          -0.6571575862791731,
          -0.6379839772135676,
          -0.6185137082316721,
          -0.5987558329282057,
          -0.5787195386336371,
          -0.5584141421421205,
          -0.5378490853792174,
          -0.5170339310114472,
          -0.49597835799968004
         ]
        },
        {
         "hoverinfo": "text",
         "line": {
          "color": "#b8d7c5",
          "shape": "spline",
          "width": 0.25
         },
         "mode": "lines",
         "text": "VBA<br>733",
         "type": "scatter",
         "uid": "f9a460c8-16a8-47ca-ae8d-1fe3925b92df",
         "x": [
          0.9969323804956789,
          1.013032720051209,
          1.0278179733858794,
          1.04126894676335,
          1.053368178566246
         ],
         "y": [
          -0.46489335198432247,
          -0.4286778605265833,
          -0.39190587337388005,
          -0.3546251267272861,
          -0.3168840172429486
         ]
        },
        {
         "hoverinfo": "text",
         "line": {
          "color": "#aad0bc",
          "shape": "spline",
          "width": 0.25
         },
         "mode": "lines",
         "text": "Linux<br>630",
         "type": "scatter",
         "uid": "1f4960ed-f108-4ac7-93ab-59cf20b763fb",
         "x": [
          1.062801972478792,
          1.0707977698565183,
          1.0778385583685826,
          1.0839180585702197,
          1.089030848357691
         ],
         "y": [
          -0.2836405600318638,
          -0.25177794992871627,
          -0.21969078745804527,
          -0.18740769009132494,
          -0.15495745004783715
         ]
        },
        {
         "hoverinfo": "text",
         "line": {
          "color": "#9cc9b4",
          "shape": "spline",
          "width": 0.25
         },
         "mode": "lines",
         "text": "AWS<br>459",
         "type": "scatter",
         "uid": "c8315495-4e89-4c79-b8fd-0eb6f6968d13",
         "x": [
          1.0933608085049842,
          1.0955185511483467,
          1.0972542852943115,
          1.0985673423147122,
          1.0994572164023046
         ],
         "y": [
          -0.12067370229394545,
          -0.09919225821518145,
          -0.07767260394289756,
          -0.05612302913768925,
          -0.03455183498594413
         ]
        },
        {
         "hoverinfo": "text",
         "marker": {
          "color": "green",
          "size": 0.5
         },
         "mode": "markers",
         "text": "Power BI appears with Excel 214 times",
         "type": "scatter",
         "uid": "c994f2b0-a5a7-4561-8406-c33482913497",
         "x": [
          0.8709019264387353
         ],
         "y": [
          0.22700183815401076
         ]
        },
        {
         "hoverinfo": "text",
         "marker": {
          "color": "blue",
          "size": 0.5
         },
         "mode": "markers",
         "text": "Excel appears with Power BI 214 times",
         "type": "scatter",
         "uid": "053ce547-6656-42f0-b47d-edc0b5a0b95c",
         "x": [
          0.7646231631078194
         ],
         "y": [
          0.4747119320587941
         ]
        },
        {
         "hoverinfo": "text",
         "marker": {
          "color": "green",
          "size": 0.5
         },
         "mode": "markers",
         "text": "Power BI appears with SSIS/SSRS 128 times",
         "type": "scatter",
         "uid": "751e89db-9748-4949-8bc7-624306d2ad34",
         "x": [
          0.8951840253670802
         ],
         "y": [
          0.09298150744954986
         ]
        },
        {
         "hoverinfo": "text",
         "marker": {
          "color": "blue",
          "size": 0.5
         },
         "mode": "markers",
         "text": "SSIS/SSRS appears with Power BI 128 times",
         "type": "scatter",
         "uid": "b3c1fab5-ea1b-4ddf-a705-b0a155138650",
         "x": [
          0.09000375848969808
         ],
         "y": [
          0.8954883156455633
         ]
        },
        {
         "hoverinfo": "text",
         "marker": {
          "color": "green",
          "size": 0.5
         },
         "mode": "markers",
         "text": "Power BI appears with MS SQL Server 127 times",
         "type": "scatter",
         "uid": "c5588481-d8a0-4d4f-880e-33930810f214",
         "x": [
          0.8973977370330516
         ],
         "y": [
          0.06839080031669552
         ]
        },
        {
         "hoverinfo": "text",
         "marker": {
          "color": "blue",
          "size": 0.5
         },
         "mode": "markers",
         "text": "MS SQL Server appears with Power BI 127 times",
         "type": "scatter",
         "uid": "3fcfb1ea-3f6f-4e6a-885f-0513f9ef4864",
         "x": [
          -0.3965683407027977
         ],
         "y": [
          0.8079192726703762
         ]
        },
        {
         "hoverinfo": "text",
         "marker": {
          "color": "green",
          "size": 0.5
         },
         "mode": "markers",
         "text": "Power BI appears with MySQL/MariaDB 5 times",
         "type": "scatter",
         "uid": "8e1d1efe-1d64-4a09-82e1-47f74db8523a",
         "x": [
          0.8999998697847799
         ],
         "y": [
          0.0004841357034875989
         ]
        },
        {
         "hoverinfo": "text",
         "marker": {
          "color": "blue",
          "size": 0.5
         },
         "mode": "markers",
         "text": "MySQL/MariaDB appears with Power BI 5 times",
         "type": "scatter",
         "uid": "dd2f8712-1484-47d3-b74d-389385c47619",
         "x": [
          -0.6652062937856372
         ],
         "y": [
          0.6062182665574971
         ]
        },
        {
         "hoverinfo": "text",
         "marker": {
          "color": "green",
          "size": 0.5
         },
         "mode": "markers",
         "text": "Power BI appears with T-SQL 45 times",
         "type": "scatter",
         "uid": "ea470259-91ac-4523-b53f-21b46154c5ba",
         "x": [
          0.8992676387149496
         ],
         "y": [
          0.03630033002658175
         ]
        },
        {
         "hoverinfo": "text",
         "marker": {
          "color": "blue",
          "size": 0.5
         },
         "mode": "markers",
         "text": "T-SQL appears with Power BI 45 times",
         "type": "scatter",
         "uid": "4c179f3d-92c3-48a9-b087-752ded8ae0db",
         "x": [
          -0.7957110649892725
         ],
         "y": [
          0.420528121596687
         ]
        },
        {
         "hoverinfo": "text",
         "marker": {
          "color": "green",
          "size": 0.5
         },
         "mode": "markers",
         "text": "Power BI appears with PL/SQL 9 times",
         "type": "scatter",
         "uid": "9017c1a8-e2bd-401b-b299-00d1faa749f5",
         "x": [
          0.8999894525875116
         ],
         "y": [
          0.004357204520250524
         ]
        },
        {
         "hoverinfo": "text",
         "marker": {
          "color": "blue",
          "size": 0.5
         },
         "mode": "markers",
         "text": "PL/SQL appears with Power BI 9 times",
         "type": "scatter",
         "uid": "3126d17a-f47c-4966-b3a9-c798f9ee8061",
         "x": [
          -0.8679563087652475
         ],
         "y": [
          0.23801648277925266
         ]
        },
        {
         "hoverinfo": "text",
         "marker": {
          "color": "green",
          "size": 0.5
         },
         "mode": "markers",
         "text": "Power BI appears with Pentaho 9 times",
         "type": "scatter",
         "uid": "efd75b07-81a0-4d8d-8534-a02998145391",
         "x": [
          0.8999793271102864
         ],
         "y": [
          0.00610006345180654
         ]
        },
        {
         "hoverinfo": "text",
         "marker": {
          "color": "blue",
          "size": 0.5
         },
         "mode": "markers",
         "text": "Pentaho appears with Power BI 9 times",
         "type": "scatter",
         "uid": "87a5d72c-4bcf-4d51-b10f-47e25c00be32",
         "x": [
          -0.8852411495510091
         ],
         "y": [
          0.16232100030990418
         ]
        },
        {
         "hoverinfo": "text",
         "marker": {
          "color": "green",
          "size": 0.5
         },
         "mode": "markers",
         "text": "Power BI appears with Hadoop 22 times",
         "type": "scatter",
         "uid": "d977bb63-d159-42af-b48e-e2e88fa18722",
         "x": [
          0.8999173093908532
         ],
         "y": [
          0.012199846668193112
         ]
        },
        {
         "hoverinfo": "text",
         "marker": {
          "color": "blue",
          "size": 0.5
         },
         "mode": "markers",
         "text": "Hadoop appears with Power BI 22 times",
         "type": "scatter",
         "uid": "15813ed2-bda3-48ad-b458-78bc57650ce7",
         "x": [
          -0.899322815333157
         ],
         "y": [
          0.0349066443710128
         ]
        },
        {
         "hoverinfo": "text",
         "marker": {
          "color": "green",
          "size": 0.5
         },
         "mode": "markers",
         "text": "Power BI appears with Spark 28 times",
         "type": "scatter",
         "uid": "c6e8c08d-94b8-4846-b71c-c68afa674d8f",
         "x": [
          0.8997292492494788
         ],
         "y": [
          0.02207437530190202
         ]
        },
        {
         "hoverinfo": "text",
         "marker": {
          "color": "blue",
          "size": 0.5
         },
         "mode": "markers",
         "text": "Spark appears with Power BI 28 times",
         "type": "scatter",
         "uid": "c3a4abd7-779e-4474-af9c-badbf085428a",
         "x": [
          -0.8899158944863899
         ],
         "y": [
          -0.13434917469224994
         ]
        },
        {
         "hoverinfo": "text",
         "marker": {
          "color": "green",
          "size": 0.5
         },
         "mode": "markers",
         "text": "Power BI appears with Informatica 16 times",
         "type": "scatter",
         "uid": "d6805ad8-500a-477d-b6d5-4b30eff28c62",
         "x": [
          0.8999596648337065
         ],
         "y": [
          0.008520661500299013
         ]
        },
        {
         "hoverinfo": "text",
         "marker": {
          "color": "blue",
          "size": 0.5
         },
         "mode": "markers",
         "text": "Informatica appears with Power BI 16 times",
         "type": "scatter",
         "uid": "d193bc43-7097-411f-8c11-029ec338cbd5",
         "x": [
          -0.85363120538962
         ],
         "y": [
          -0.2851556858718836
         ]
        },
        {
         "hoverinfo": "text",
         "marker": {
          "color": "green",
          "size": 0.5
         },
         "mode": "markers",
         "text": "Power BI appears with Qlik 179 times",
         "type": "scatter",
         "uid": "6a56514a-6fb9-4286-8c41-c4f9e203297d",
         "x": [
          0.8866157988494501
         ],
         "y": [
          0.15463642918326692
         ]
        },
        {
         "hoverinfo": "text",
         "marker": {
          "color": "blue",
          "size": 0.5
         },
         "mode": "markers",
         "text": "Qlik appears with Power BI 179 times",
         "type": "scatter",
         "uid": "ef9ddf48-2872-4cb1-9b31-74745f8a7112",
         "x": [
          -0.7282476673006085
         ],
         "y": [
          -0.5288244841828169
         ]
        },
        {
         "hoverinfo": "text",
         "marker": {
          "color": "green",
          "size": 0.5
         },
         "mode": "markers",
         "text": "Power BI appears with Tableau 186 times",
         "type": "scatter",
         "uid": "22d68c6e-adb8-4593-b221-2281b1235143",
         "x": [
          0.8798614647970305
         ],
         "y": [
          0.1893245963028149
         ]
        },
        {
         "hoverinfo": "text",
         "marker": {
          "color": "blue",
          "size": 0.5
         },
         "mode": "markers",
         "text": "Tableau appears with Power BI 186 times",
         "type": "scatter",
         "uid": "053b6cdf-b3f8-4bc7-a0e7-e0358a0fb281",
         "x": [
          -0.36173766242587646
         ],
         "y": [
          -0.8241030661165281
         ]
        },
        {
         "hoverinfo": "text",
         "marker": {
          "color": "green",
          "size": 0.5
         },
         "mode": "markers",
         "text": "Power BI appears with Microstrategy 26 times",
         "type": "scatter",
         "uid": "aa198735-73ca-45c6-a0c2-3df83c093749",
         "x": [
          0.8998423087610623
         ],
         "y": [
          0.01684693929356242
         ]
        },
        {
         "hoverinfo": "text",
         "marker": {
          "color": "blue",
          "size": 0.5
         },
         "mode": "markers",
         "text": "Microstrategy appears with Power BI 26 times",
         "type": "scatter",
         "uid": "6b378f3c-eeaa-4f35-b66b-e0b29dec95e9",
         "x": [
          -0.06435868811088466
         ],
         "y": [
          -0.8976959169254619
         ]
        },
        {
         "hoverinfo": "text",
         "marker": {
          "color": "green",
          "size": 0.5
         },
         "mode": "markers",
         "text": "Power BI appears with Oracle BI 168 times",
         "type": "scatter",
         "uid": "a4514977-0c3e-4707-acf9-b461d84935b4",
         "x": [
          0.8917696179872624
         ],
         "y": [
          0.121437014270164
         ]
        },
        {
         "hoverinfo": "text",
         "marker": {
          "color": "blue",
          "size": 0.5
         },
         "mode": "markers",
         "text": "Oracle BI appears with Power BI 168 times",
         "type": "scatter",
         "uid": "6a0a3575-04e6-46f9-9568-f791a411319a",
         "x": [
          0.20046265422659398
         ],
         "y": [
          -0.877390861737475
         ]
        },
        {
         "hoverinfo": "text",
         "marker": {
          "color": "green",
          "size": 0.5
         },
         "mode": "markers",
         "text": "Power BI appears with Python 80 times",
         "type": "scatter",
         "uid": "e584fdc3-452d-4cce-8307-9ec87fbe4992",
         "x": [
          0.8986981617364656
         ],
         "y": [
          0.04839022723130864
         ]
        },
        {
         "hoverinfo": "text",
         "marker": {
          "color": "blue",
          "size": 0.5
         },
         "mode": "markers",
         "text": "Python appears with Power BI 80 times",
         "type": "scatter",
         "uid": "bbae07e8-f6af-4784-901a-0d00f21816ef",
         "x": [
          0.631710234405415
         ],
         "y": [
          -0.6410477203355891
         ]
        },
        {
         "hoverinfo": "text",
         "marker": {
          "color": "green",
          "size": 0.5
         },
         "mode": "markers",
         "text": "Power BI appears with VBA 37 times",
         "type": "scatter",
         "uid": "d19f26ab-0309-4ca0-bd3c-96082c35977c",
         "x": [
          0.8995528831576017
         ],
         "y": [
          0.028365655339620127
         ]
        },
        {
         "hoverinfo": "text",
         "marker": {
          "color": "blue",
          "size": 0.5
         },
         "mode": "markers",
         "text": "VBA appears with Power BI 37 times",
         "type": "scatter",
         "uid": "e27908cc-7b23-439d-95b0-ca11df59a4b0",
         "x": [
          0.8246672159917029
         ],
         "y": [
          -0.3604496953369417
         ]
        },
        {
         "hoverinfo": "text",
         "marker": {
          "color": "green",
          "size": 0.5
         },
         "mode": "markers",
         "text": "Power BI appears with Linux 7 times",
         "type": "scatter",
         "uid": "67956bd3-5ad2-470c-a363-66729c060dea",
         "x": [
          0.8999956195634404
         ],
         "y": [
          0.002807982660016528
         ]
        },
        {
         "hoverinfo": "text",
         "marker": {
          "color": "blue",
          "size": 0.5
         },
         "mode": "markers",
         "text": "Linux appears with Power BI 7 times",
         "type": "scatter",
         "uid": "f9c047c8-8799-4783-a722-6bf3ba335a2b",
         "x": [
          0.8700255806588798
         ],
         "y": [
          -0.2303377715425309
         ]
        },
        {
         "hoverinfo": "text",
         "marker": {
          "color": "green",
          "size": 0.5
         },
         "mode": "markers",
         "text": "Power BI appears with AWS 6 times",
         "type": "scatter",
         "uid": "bf45d03b-9e7d-4c8c-a570-df06d57d4d89",
         "x": [
          0.8999986665964423
         ],
         "y": [
          0.0015492335607822146
         ]
        },
        {
         "hoverinfo": "text",
         "marker": {
          "color": "blue",
          "size": 0.5
         },
         "mode": "markers",
         "text": "AWS appears with Power BI 6 times",
         "type": "scatter",
         "uid": "e4700553-798c-4ab7-b9cf-154204d12d5a",
         "x": [
          0.8949004509791026
         ],
         "y": [
          -0.09567226785959847
         ]
        },
        {
         "hoverinfo": "text",
         "marker": {
          "color": "green",
          "size": 0.5
         },
         "mode": "markers",
         "text": "Excel appears with SSIS/SSRS 594 times",
         "type": "scatter",
         "uid": "8c93bbf2-f441-448f-8ba5-c55b55a9ea21",
         "x": [
          0.4504731764056443
         ],
         "y": [
          0.7791494833079268
         ]
        },
        {
         "hoverinfo": "text",
         "marker": {
          "color": "blue",
          "size": 0.5
         },
         "mode": "markers",
         "text": "SSIS/SSRS appears with Excel 594 times",
         "type": "scatter",
         "uid": "3b30b9c2-0ec1-4d50-adf1-8c2cef1bc230",
         "x": [
          -0.15689290131254552
         ],
         "y": [
          0.8862192829755692
         ]
        },
        {
         "hoverinfo": "text",
         "marker": {
          "color": "green",
          "size": 0.5
         },
         "mode": "markers",
         "text": "Excel appears with MS SQL Server 264 times",
         "type": "scatter",
         "uid": "4f08cabe-a528-4dae-bb1d-063e2a38b5ed",
         "x": [
          0.7052416193469014
         ],
         "y": [
          0.5591370657906343
         ]
        },
        {
         "hoverinfo": "text",
         "marker": {
          "color": "blue",
          "size": 0.5
         },
         "mode": "markers",
         "text": "MS SQL Server appears with Excel 264 times",
         "type": "scatter",
         "uid": "ba443944-5d68-4617-94bf-1fec96ac2b04",
         "x": [
          -0.49063882560211525
         ],
         "y": [
          0.754502182112005
         ]
        },
        {
         "hoverinfo": "text",
         "marker": {
          "color": "green",
          "size": 0.5
         },
         "mode": "markers",
         "text": "Excel appears with PostgreSQL 72 times",
         "type": "scatter",
         "uid": "b18419fe-8be4-4cea-a856-b35f2690f19a",
         "x": [
          0.8397222382995212
         ],
         "y": [
          0.32383107093860247
         ]
        },
        {
         "hoverinfo": "text",
         "marker": {
          "color": "blue",
          "size": 0.5
         },
         "mode": "markers",
         "text": "PostgreSQL appears with Excel 72 times",
         "type": "scatter",
         "uid": "680d889f-34d6-424f-9f97-35169ce2ac31",
         "x": [
          -0.6187244620997158
         ],
         "y": [
          0.6535901162038923
         ]
        },
        {
         "hoverinfo": "text",
         "marker": {
          "color": "green",
          "size": 0.5
         },
         "mode": "markers",
         "text": "Excel appears with MySQL/MariaDB 122 times",
         "type": "scatter",
         "uid": "39d001de-8910-4f78-b947-f052beae7929",
         "x": [
          0.8003907750335388
         ],
         "y": [
          0.411551463660635
         ]
        },
        {
         "hoverinfo": "text",
         "marker": {
          "color": "blue",
          "size": 0.5
         },
         "mode": "markers",
         "text": "MySQL/MariaDB appears with Excel 122 times",
         "type": "scatter",
         "uid": "f115c79b-4fce-43b9-b138-6dd25b646689",
         "x": [
          -0.7452641265594468
         ],
         "y": [
          0.5045605827485782
         ]
        },
        {
         "hoverinfo": "text",
         "marker": {
          "color": "green",
          "size": 0.5
         },
         "mode": "markers",
         "text": "Excel appears with T-SQL 180 times",
         "type": "scatter",
         "uid": "eee6a751-c37e-4e4a-8c34-1370bd27c5e4",
         "x": [
          0.7854974135462548
         ],
         "y": [
          0.4393106114267489
         ]
        },
        {
         "hoverinfo": "text",
         "marker": {
          "color": "blue",
          "size": 0.5
         },
         "mode": "markers",
         "text": "T-SQL appears with Excel 180 times",
         "type": "scatter",
         "uid": "84becfb8-adde-4703-bc5b-8b80c338ee1f",
         "x": [
          -0.853503891659125
         ],
         "y": [
          0.2855365246736899
         ]
        },
        {
         "hoverinfo": "text",
         "marker": {
          "color": "green",
          "size": 0.5
         },
         "mode": "markers",
         "text": "Excel appears with PL/SQL 58 times",
         "type": "scatter",
         "uid": "756cdf7e-e49d-4f4a-81e7-35a04e07d163",
         "x": [
          0.8491676013149646
         ],
         "y": [
          0.29818515200624796
         ]
        },
        {
         "hoverinfo": "text",
         "marker": {
          "color": "blue",
          "size": 0.5
         },
         "mode": "markers",
         "text": "PL/SQL appears with Excel 58 times",
         "type": "scatter",
         "uid": "f3acaad4-68fc-446e-b46a-ae8e10d30efb",
         "x": [
          -0.8754023290703038
         ],
         "y": [
          0.20897550635968723
         ]
        },
        {
         "hoverinfo": "text",
         "marker": {
          "color": "green",
          "size": 0.5
         },
         "mode": "markers",
         "text": "Excel appears with Pentaho 66 times",
         "type": "scatter",
         "uid": "45ec6974-ae50-49ad-909d-7b758c302319",
         "x": [
          0.8447943617138493
         ],
         "y": [
          0.3103586416011161
         ]
        },
        {
         "hoverinfo": "text",
         "marker": {
          "color": "blue",
          "size": 0.5
         },
         "mode": "markers",
         "text": "Pentaho appears with Excel 66 times",
         "type": "scatter",
         "uid": "18f58704-6ea8-48dc-a18e-3c6fa8e8378c",
         "x": [
          -0.8964221311215856
         ],
         "y": [
          0.08017083531705778
         ]
        },
        {
         "hoverinfo": "text",
         "marker": {
          "color": "green",
          "size": 0.5
         },
         "mode": "markers",
         "text": "Excel appears with Hadoop 84 times",
         "type": "scatter",
         "uid": "89eb7cb2-8752-45cb-8899-79b7c1d86086",
         "x": [
          0.8277928737340403
         ],
         "y": [
          0.3532123415102298
         ]
        },
        {
         "hoverinfo": "text",
         "marker": {
          "color": "blue",
          "size": 0.5
         },
         "mode": "markers",
         "text": "Hadoop appears with Excel 84 times",
         "type": "scatter",
         "uid": "2e7ee470-2b60-43cd-a387-562594c35f46",
         "x": [
          -0.8999708890955728
         ],
         "y": [
          -0.007238700195775419
         ]
        },
        {
         "hoverinfo": "text",
         "marker": {
          "color": "green",
          "size": 0.5
         },
         "mode": "markers",
         "text": "Excel appears with Spark 89 times",
         "type": "scatter",
         "uid": "495f2603-ead1-48df-9872-72e1eccc6f66",
         "x": [
          0.8205443079195579
         ],
         "y": [
          0.36973914959172727
         ]
        },
        {
         "hoverinfo": "text",
         "marker": {
          "color": "blue",
          "size": 0.5
         },
         "mode": "markers",
         "text": "Spark appears with Excel 89 times",
         "type": "scatter",
         "uid": "d23906de-3d9b-4d92-999f-d344e1d5e7f3",
         "x": [
          -0.8805558790254902
         ],
         "y": [
          -0.18606811632745246
         ]
        },
        {
         "hoverinfo": "text",
         "marker": {
          "color": "green",
          "size": 0.5
         },
         "mode": "markers",
         "text": "Excel appears with Informatica 117 times",
         "type": "scatter",
         "uid": "06601eac-0733-4004-bc33-93d5d15108b2",
         "x": [
          0.8114830012395479
         ],
         "y": [
          0.3892240212258951
         ]
        },
        {
         "hoverinfo": "text",
         "marker": {
          "color": "blue",
          "size": 0.5
         },
         "mode": "markers",
         "text": "Informatica appears with Excel 117 times",
         "type": "scatter",
         "uid": "f8a11a52-fd9d-44ff-af16-469313574e81",
         "x": [
          -0.8232722980222471
         ],
         "y": [
          -0.3636244261723466
         ]
        },
        {
         "hoverinfo": "text",
         "marker": {
          "color": "green",
          "size": 0.5
         },
         "mode": "markers",
         "text": "Excel appears with Qlik 410 times",
         "type": "scatter",
         "uid": "99cf6ba5-931f-4611-85c8-656ba2445486",
         "x": [
          0.6071845304664453
         ],
         "y": [
          0.6643244282443952
         ]
        },
        {
         "hoverinfo": "text",
         "marker": {
          "color": "blue",
          "size": 0.5
         },
         "mode": "markers",
         "text": "Qlik appears with Excel 410 times",
         "type": "scatter",
         "uid": "ec11d905-ee48-4aec-9c7c-02fa0587f12d",
         "x": [
          -0.5947680674352914
         ],
         "y": [
          -0.6754635045354328
         ]
        },
        {
         "hoverinfo": "text",
         "marker": {
          "color": "green",
          "size": 0.5
         },
         "mode": "markers",
         "text": "Excel appears with Tableau 431 times",
         "type": "scatter",
         "uid": "70442e54-bc56-4197-98d8-68ef11cb139f",
         "x": [
          0.5396473124956201
         ],
         "y": [
          0.7202643807077055
         ]
        },
        {
         "hoverinfo": "text",
         "marker": {
          "color": "blue",
          "size": 0.5
         },
         "mode": "markers",
         "text": "Tableau appears with Excel 431 times",
         "type": "scatter",
         "uid": "aa1fec9d-7633-48a3-af5c-9e463348057a",
         "x": [
          -0.15366541062510808
         ],
         "y": [
          -0.8867846083336229
         ]
        },
        {
         "hoverinfo": "text",
         "marker": {
          "color": "green",
          "size": 0.5
         },
         "mode": "markers",
         "text": "Excel appears with Microstrategy 39 times",
         "type": "scatter",
         "uid": "a7ab9928-aa73-4901-84da-be9b5ab762c1",
         "x": [
          0.8560124311420071
         ],
         "y": [
          0.2779257413957018
         ]
        },
        {
         "hoverinfo": "text",
         "marker": {
          "color": "blue",
          "size": 0.5
         },
         "mode": "markers",
         "text": "Microstrategy appears with Excel 39 times",
         "type": "scatter",
         "uid": "13362210-365f-4462-9eb4-5e7244beb7b6",
         "x": [
          -0.05053197647284216
         ],
         "y": [
          -0.8985802798602628
         ]
        },
        {
         "hoverinfo": "text",
         "marker": {
          "color": "green",
          "size": 0.5
         },
         "mode": "markers",
         "text": "Excel appears with Oracle BI 618 times",
         "type": "scatter",
         "uid": "0c95423e-bdec-4914-8dd0-97a12362475f",
         "x": [
          0.33694014964815716
         ],
         "y": [
          0.8345485819022626
         ]
        },
        {
         "hoverinfo": "text",
         "marker": {
          "color": "blue",
          "size": 0.5
         },
         "mode": "markers",
         "text": "Oracle BI appears with Excel 618 times",
         "type": "scatter",
         "uid": "cb2284da-637b-434e-9f0b-79d296705319",
         "x": [
          0.5016446687769802
         ],
         "y": [
          -0.7472299688098931
         ]
        },
        {
         "hoverinfo": "text",
         "marker": {
          "color": "green",
          "size": 0.5
         },
         "mode": "markers",
         "text": "Excel appears with Python 353 times",
         "type": "scatter",
         "uid": "a4d70a8b-4c6e-4b7b-9229-d32be71dec08",
         "x": [
          0.6634863052577865
         ],
         "y": [
          0.6081002571413463
         ]
        },
        {
         "hoverinfo": "text",
         "marker": {
          "color": "blue",
          "size": 0.5
         },
         "mode": "markers",
         "text": "Python appears with Excel 353 times",
         "type": "scatter",
         "uid": "6d1072c1-6a34-40d8-8b89-9bec9210642a",
         "x": [
          0.7867755253499107
         ],
         "y": [
          -0.43701747414762737
         ]
        },
        {
         "hoverinfo": "text",
         "marker": {
          "color": "green",
          "size": 0.5
         },
         "mode": "markers",
         "text": "Excel appears with VBA 256 times",
         "type": "scatter",
         "uid": "1f7ff34d-f307-4a6b-b550-75bab31a0bbe",
         "x": [
          0.737640946240414
         ],
         "y": [
          0.5156411876775813
         ]
        },
        {
         "hoverinfo": "text",
         "marker": {
          "color": "blue",
          "size": 0.5
         },
         "mode": "markers",
         "text": "VBA appears with Excel 256 times",
         "type": "scatter",
         "uid": "12b54ce4-75f8-40bf-8f31-1cecc42039c8",
         "x": [
          0.8550490599890455
         ],
         "y": [
          -0.2808756041592966
         ]
        },
        {
         "hoverinfo": "text",
         "marker": {
          "color": "green",
          "size": 0.5
         },
         "mode": "markers",
         "text": "Excel appears with Linux 74 times",
         "type": "scatter",
         "uid": "b1066df6-6c3a-40c8-b196-20ee9ab510a8",
         "x": [
          0.8341222274410918
         ],
         "y": [
          0.33799424505265124
         ]
        },
        {
         "hoverinfo": "text",
         "marker": {
          "color": "blue",
          "size": 0.5
         },
         "mode": "markers",
         "text": "Linux appears with Excel 74 times",
         "type": "scatter",
         "uid": "41e4a475-1aa9-40a6-9f73-b623e13f4244",
         "x": [
          0.8823083201837139
         ],
         "y": [
          -0.17757259961658795
         ]
        },
        {
         "hoverinfo": "text",
         "marker": {
          "color": "green",
          "size": 0.5
         },
         "mode": "markers",
         "text": "Excel appears with AWS 54 times",
         "type": "scatter",
         "uid": "bf9848c1-4c41-4dc8-a848-9c67b09fab56",
         "x": [
          0.8529668800361396
         ],
         "y": [
          0.28713672973239396
         ]
        },
        {
         "hoverinfo": "text",
         "marker": {
          "color": "blue",
          "size": 0.5
         },
         "mode": "markers",
         "text": "AWS appears with Excel 54 times",
         "type": "scatter",
         "uid": "8ac929d7-2043-4085-b0e6-10dd1a7aee30",
         "x": [
          0.8987701922977595
         ],
         "y": [
          -0.04703340766995743
         ]
        },
        {
         "hoverinfo": "text",
         "marker": {
          "color": "green",
          "size": 0.5
         },
         "mode": "markers",
         "text": "SSIS/SSRS appears with MS SQL Server 268 times",
         "type": "scatter",
         "uid": "b8aa0548-22c2-4676-8576-38a09e63a84d",
         "x": [
          -0.06999482327379389
         ],
         "y": [
          0.8972740521796394
         ]
        },
        {
         "hoverinfo": "text",
         "marker": {
          "color": "blue",
          "size": 0.5
         },
         "mode": "markers",
         "text": "MS SQL Server appears with SSIS/SSRS 268 times",
         "type": "scatter",
         "uid": "ffe3540e-e571-416e-bed7-65f90eddca26",
         "x": [
          -0.5342543751171215
         ],
         "y": [
          0.7242736103629719
         ]
        },
        {
         "hoverinfo": "text",
         "marker": {
          "color": "green",
          "size": 0.5
         },
         "mode": "markers",
         "text": "SSIS/SSRS appears with PostgreSQL 56 times",
         "type": "scatter",
         "uid": "bc83a30b-af82-40e3-be2b-f82bb819cc27",
         "x": [
          0.19850743363670106
         ],
         "y": [
          0.8778352913792944
         ]
        },
        {
         "hoverinfo": "text",
         "marker": {
          "color": "blue",
          "size": 0.5
         },
         "mode": "markers",
         "text": "PostgreSQL appears with SSIS/SSRS 56 times",
         "type": "scatter",
         "uid": "0fdc04c7-a3b7-4cda-baa3-923486b56dc7",
         "x": [
          -0.6110237538209039
         ],
         "y": [
          0.660794954782958
         ]
        },
        {
         "hoverinfo": "text",
         "marker": {
          "color": "green",
          "size": 0.5
         },
         "mode": "markers",
         "text": "SSIS/SSRS appears with MySQL/MariaDB 80 times",
         "type": "scatter",
         "uid": "52c672fe-5105-4450-a93e-251b7e922028",
         "x": [
          0.17104758222238903
         ],
         "y": [
          0.8835964715954195
         ]
        },
        {
         "hoverinfo": "text",
         "marker": {
          "color": "blue",
          "size": 0.5
         },
         "mode": "markers",
         "text": "MySQL/MariaDB appears with SSIS/SSRS 80 times",
         "type": "scatter",
         "uid": "9108b2d4-b882-4603-8342-4a70a0420150",
         "x": [
          -0.7144794322535104
         ],
         "y": [
          0.5472834191593068
         ]
        },
        {
         "hoverinfo": "text",
         "marker": {
          "color": "green",
          "size": 0.5
         },
         "mode": "markers",
         "text": "SSIS/SSRS appears with T-SQL 127 times",
         "type": "scatter",
         "uid": "6ef857ed-ba85-40c7-bc6a-d9300c2e242c",
         "x": [
          0.1157568271715776
         ],
         "y": [
          0.8925247094412398
         ]
        },
        {
         "hoverinfo": "text",
         "marker": {
          "color": "blue",
          "size": 0.5
         },
         "mode": "markers",
         "text": "T-SQL appears with SSIS/SSRS 127 times",
         "type": "scatter",
         "uid": "d2425a55-4689-4927-977b-8a31718eeb51",
         "x": [
          -0.8213599348418177
         ],
         "y": [
          0.36792371143573377
         ]
        },
        {
         "hoverinfo": "text",
         "marker": {
          "color": "green",
          "size": 0.5
         },
         "mode": "markers",
         "text": "SSIS/SSRS appears with PL/SQL 40 times",
         "type": "scatter",
         "uid": "49e66615-f171-41f9-bf27-dfc0b61123f0",
         "x": [
          0.2161163810766514
         ],
         "y": [
          0.8736668185471688
         ]
        },
        {
         "hoverinfo": "text",
         "marker": {
          "color": "blue",
          "size": 0.5
         },
         "mode": "markers",
         "text": "PL/SQL appears with SSIS/SSRS 40 times",
         "type": "scatter",
         "uid": "9439fad4-e4f7-40f1-89c6-bf8798bfcc74",
         "x": [
          -0.8724525263308236
         ],
         "y": [
          0.2209673941986995
         ]
        },
        {
         "hoverinfo": "text",
         "marker": {
          "color": "green",
          "size": 0.5
         },
         "mode": "markers",
         "text": "SSIS/SSRS appears with Pentaho 35 times",
         "type": "scatter",
         "uid": "e112a48f-283a-409e-8bbb-e5cfa8dfadf0",
         "x": [
          0.22351012994848504
         ],
         "y": [
          0.8718045777640833
         ]
        },
        {
         "hoverinfo": "text",
         "marker": {
          "color": "blue",
          "size": 0.5
         },
         "mode": "markers",
         "text": "Pentaho appears with SSIS/SSRS 35 times",
         "type": "scatter",
         "uid": "675b5e51-967f-44dd-a6ba-c75c6fae6f53",
         "x": [
          -0.8881491130233621
         ],
         "y": [
          0.145571814015678
         ]
        },
        {
         "hoverinfo": "text",
         "marker": {
          "color": "green",
          "size": 0.5
         },
         "mode": "markers",
         "text": "SSIS/SSRS appears with Hadoop 34 times",
         "type": "scatter",
         "uid": "0c89b87a-8418-4823-9178-a1d7f4e0ae63",
         "x": [
          0.23029822326385066
         ],
         "y": [
          0.8700360500355796
         ]
        },
        {
         "hoverinfo": "text",
         "marker": {
          "color": "blue",
          "size": 0.5
         },
         "mode": "markers",
         "text": "Hadoop appears with SSIS/SSRS 34 times",
         "type": "scatter",
         "uid": "5107f2a3-a928-43b6-814f-43596b6c08db",
         "x": [
          -0.89965662528188
         ],
         "y": [
          0.024858732598810142
         ]
        },
        {
         "hoverinfo": "text",
         "marker": {
          "color": "green",
          "size": 0.5
         },
         "mode": "markers",
         "text": "SSIS/SSRS appears with Spark 41 times",
         "type": "scatter",
         "uid": "1314c621-c4c8-4c05-8eee-2f5e164cb993",
         "x": [
          0.20811372609948475
         ],
         "y": [
          0.8756076044718826
         ]
        },
        {
         "hoverinfo": "text",
         "marker": {
          "color": "blue",
          "size": 0.5
         },
         "mode": "markers",
         "text": "Spark appears with SSIS/SSRS 41 times",
         "type": "scatter",
         "uid": "b900306e-13e9-43aa-9158-9242c00fc5d1",
         "x": [
          -0.8869905327276717
         ],
         "y": [
          -0.15247227568145386
         ]
        },
        {
         "hoverinfo": "text",
         "marker": {
          "color": "green",
          "size": 0.5
         },
         "mode": "markers",
         "text": "SSIS/SSRS appears with Informatica 70 times",
         "type": "scatter",
         "uid": "a4f7f4be-43a1-4b23-8f44-b6f3802cb5ed",
         "x": [
          0.18599374485130968
         ],
         "y": [
          0.8805715909999515
         ]
        },
        {
         "hoverinfo": "text",
         "marker": {
          "color": "blue",
          "size": 0.5
         },
         "mode": "markers",
         "text": "Informatica appears with SSIS/SSRS 70 times",
         "type": "scatter",
         "uid": "d9f96a75-47f0-4db2-b49c-0ed960f6badf",
         "x": [
          -0.8361447077235068
         ],
         "y": [
          -0.33295949865707625
         ]
        },
        {
         "hoverinfo": "text",
         "marker": {
          "color": "green",
          "size": 0.5
         },
         "mode": "markers",
         "text": "SSIS/SSRS appears with Qlik 88 times",
         "type": "scatter",
         "uid": "48fa700c-bfaa-4157-bfc7-7d0f0bad1f28",
         "x": [
          0.13739644400129564
         ],
         "y": [
          0.8894505141804118
         ]
        },
        {
         "hoverinfo": "text",
         "marker": {
          "color": "blue",
          "size": 0.5
         },
         "mode": "markers",
         "text": "Qlik appears with SSIS/SSRS 88 times",
         "type": "scatter",
         "uid": "576e21bb-9dbb-4173-88ad-d3355c67a979",
         "x": [
          -0.7540653069847985
         ],
         "y": [
          -0.4913099966435872
         ]
        },
        {
         "hoverinfo": "text",
         "marker": {
          "color": "green",
          "size": 0.5
         },
         "mode": "markers",
         "text": "SSIS/SSRS appears with Tableau 159 times",
         "type": "scatter",
         "uid": "55be7847-df4d-46b3-8103-1c83c5f07948",
         "x": [
          0.06093069002366352
         ],
         "y": [
          0.8979351040098835
         ]
        },
        {
         "hoverinfo": "text",
         "marker": {
          "color": "blue",
          "size": 0.5
         },
         "mode": "markers",
         "text": "Tableau appears with SSIS/SSRS 159 times",
         "type": "scatter",
         "uid": "e121bf75-0729-4f34-9444-b10ca2c27070",
         "x": [
          -0.3935674003638564
         ],
         "y": [
          -0.8093853849501089
         ]
        },
        {
         "hoverinfo": "text",
         "marker": {
          "color": "green",
          "size": 0.5
         },
         "mode": "markers",
         "text": "SSIS/SSRS appears with Microstrategy 31 times",
         "type": "scatter",
         "uid": "c1bf98a3-4f4e-44fa-96d2-c7e7efd9b571",
         "x": [
          0.2366800140665717
         ],
         "y": [
          0.868321697840983
         ]
        },
        {
         "hoverinfo": "text",
         "marker": {
          "color": "blue",
          "size": 0.5
         },
         "mode": "markers",
         "text": "Microstrategy appears with SSIS/SSRS 31 times",
         "type": "scatter",
         "uid": "67617a91-3a16-4fee-b620-808d2c8547bd",
         "x": [
          -0.06043908732200589
         ],
         "y": [
          -0.8979683272385964
         ]
        },
        {
         "hoverinfo": "text",
         "marker": {
          "color": "green",
          "size": 0.5
         },
         "mode": "markers",
         "text": "SSIS/SSRS appears with Oracle BI 267 times",
         "type": "scatter",
         "uid": "8dd1740c-1a45-401d-bc84-75742fccf8d7",
         "x": [
          -0.015675369110888966
         ],
         "y": [
          0.8998634800919734
         ]
        },
        {
         "hoverinfo": "text",
         "marker": {
          "color": "blue",
          "size": 0.5
         },
         "mode": "markers",
         "text": "Oracle BI appears with SSIS/SSRS 267 times",
         "type": "scatter",
         "uid": "f4f0b720-7fb8-4f44-89d8-ca2869d381e2",
         "x": [
          0.2785051601233974
         ],
         "y": [
          -0.8558240916126636
         ]
        },
        {
         "hoverinfo": "text",
         "marker": {
          "color": "green",
          "size": 0.5
         },
         "mode": "markers",
         "text": "SSIS/SSRS appears with Python 164 times",
         "type": "scatter",
         "uid": "133fe708-f7bf-43ae-a0b1-bd812cb45b0b",
         "x": [
          0.028135772500829333
         ],
         "y": [
          0.8995601026645088
         ]
        },
        {
         "hoverinfo": "text",
         "marker": {
          "color": "blue",
          "size": 0.5
         },
         "mode": "markers",
         "text": "Python appears with SSIS/SSRS 164 times",
         "type": "scatter",
         "uid": "ed1f6b9e-256b-4d65-a4a1-92dbdaa5fa07",
         "x": [
          0.7603612455227169
         ],
         "y": [
          -0.4815088538200962
         ]
        },
        {
         "hoverinfo": "text",
         "marker": {
          "color": "green",
          "size": 0.5
         },
         "mode": "markers",
         "text": "SSIS/SSRS appears with VBA 84 times",
         "type": "scatter",
         "uid": "33f21c15-5785-4ecd-ae5f-abc13ebb119e",
         "x": [
          0.15465040405065675
         ],
         "y": [
          0.8866133613514792
         ]
        },
        {
         "hoverinfo": "text",
         "marker": {
          "color": "blue",
          "size": 0.5
         },
         "mode": "markers",
         "text": "VBA appears with SSIS/SSRS 84 times",
         "type": "scatter",
         "uid": "deb1070e-10ca-41ef-910c-0c8c2fdb7a7e",
         "x": [
          0.8451844088617257
         ],
         "y": [
          -0.3092948674275979
         ]
        },
        {
         "hoverinfo": "text",
         "marker": {
          "color": "green",
          "size": 0.5
         },
         "mode": "markers",
         "text": "SSIS/SSRS appears with Linux 18 times",
         "type": "scatter",
         "uid": "19236a6f-6505-4e8d-b1ae-040f41a0ae17",
         "x": [
          0.24754846324064944
         ],
         "y": [
          0.8652859402227641
         ]
        },
        {
         "hoverinfo": "text",
         "marker": {
          "color": "blue",
          "size": 0.5
         },
         "mode": "markers",
         "text": "Linux appears with SSIS/SSRS 18 times",
         "type": "scatter",
         "uid": "7a36dc1b-7cea-474a-b025-7696c3b5e504",
         "x": [
          0.8712576584996228
         ],
         "y": [
          -0.22563264946756867
         ]
        },
        {
         "hoverinfo": "text",
         "marker": {
          "color": "green",
          "size": 0.5
         },
         "mode": "markers",
         "text": "SSIS/SSRS appears with AWS 31 times",
         "type": "scatter",
         "uid": "b5868619-fae1-4195-bc36-04f3842303a5",
         "x": [
          0.24275537616763257
         ],
         "y": [
          0.8666428487801138
         ]
        },
        {
         "hoverinfo": "text",
         "marker": {
          "color": "blue",
          "size": 0.5
         },
         "mode": "markers",
         "text": "AWS appears with SSIS/SSRS 31 times",
         "type": "scatter",
         "uid": "8c9cdedc-6a23-4ff9-8630-cd1758cf9941",
         "x": [
          0.8963298888662807
         ],
         "y": [
          -0.08119562996221495
         ]
        },
        {
         "hoverinfo": "text",
         "marker": {
          "color": "green",
          "size": 0.5
         },
         "mode": "markers",
         "text": "MS SQL Server appears with PostgreSQL 87 times",
         "type": "scatter",
         "uid": "85567196-5b64-405b-86a3-82d83676cf79",
         "x": [
          -0.31973123977081563
         ],
         "y": [
          0.841291824704494
         ]
        },
        {
         "hoverinfo": "text",
         "marker": {
          "color": "blue",
          "size": 0.5
         },
         "mode": "markers",
         "text": "PostgreSQL appears with MS SQL Server 87 times",
         "type": "scatter",
         "uid": "6d4a45c8-bee3-41e6-9e2b-84ebbdd860d6",
         "x": [
          -0.6281717670930824
         ],
         "y": [
          0.6445155009983501
         ]
        },
        {
         "hoverinfo": "text",
         "marker": {
          "color": "green",
          "size": 0.5
         },
         "mode": "markers",
         "text": "MS SQL Server appears with MySQL/MariaDB 93 times",
         "type": "scatter",
         "uid": "49cf4a74-3c4b-4064-822a-f01628b8323e",
         "x": [
          -0.3364526165651826
         ],
         "y": [
          0.8347452526408534
         ]
        },
        {
         "hoverinfo": "text",
         "marker": {
          "color": "blue",
          "size": 0.5
         },
         "mode": "markers",
         "text": "MySQL/MariaDB appears with MS SQL Server 93 times",
         "type": "scatter",
         "uid": "46b0b48d-ec26-4451-9263-f53b5a1c20c5",
         "x": [
          -0.723827101365455
         ],
         "y": [
          0.5348591658828361
         ]
        },
        {
         "hoverinfo": "text",
         "marker": {
          "color": "green",
          "size": 0.5
         },
         "mode": "markers",
         "text": "MS SQL Server appears with T-SQL 171 times",
         "type": "scatter",
         "uid": "dd8ed4e5-1579-4d55-977e-aa4679b57aaf",
         "x": [
          -0.42303512516537733
         ],
         "y": [
          0.7943810690571078
         ]
        },
        {
         "hoverinfo": "text",
         "marker": {
          "color": "blue",
          "size": 0.5
         },
         "mode": "markers",
         "text": "T-SQL appears with MS SQL Server 171 times",
         "type": "scatter",
         "uid": "4d2bae58-601b-47f8-829f-219629580a1d",
         "x": [
          -0.8422617242918408
         ],
         "y": [
          0.3171674444089986
         ]
        },
        {
         "hoverinfo": "text",
         "marker": {
          "color": "green",
          "size": 0.5
         },
         "mode": "markers",
         "text": "MS SQL Server appears with PL/SQL 12 times",
         "type": "scatter",
         "uid": "d32273ce-fc85-4a6b-ac42-ad532adec03e",
         "x": [
          -0.24636736609234244
         ],
         "y": [
          0.8656229669577405
         ]
        },
        {
         "hoverinfo": "text",
         "marker": {
          "color": "blue",
          "size": 0.5
         },
         "mode": "markers",
         "text": "PL/SQL appears with MS SQL Server 12 times",
         "type": "scatter",
         "uid": "c00624c1-31ed-4f1d-8d67-c38ae90b9113",
         "x": [
          -0.868336226453028
         ],
         "y": [
          0.23662670565537572
         ]
        },
        {
         "hoverinfo": "text",
         "marker": {
          "color": "green",
          "size": 0.5
         },
         "mode": "markers",
         "text": "MS SQL Server appears with Pentaho 46 times",
         "type": "scatter",
         "uid": "95190b45-519f-40ee-82a9-2a194ac55efa",
         "x": [
          -0.27349155194434377
         ],
         "y": [
          0.8574394270239002
         ]
        },
        {
         "hoverinfo": "text",
         "marker": {
          "color": "blue",
          "size": 0.5
         },
         "mode": "markers",
         "text": "Pentaho appears with MS SQL Server 46 times",
         "type": "scatter",
         "uid": "2f8ba38c-cdcf-476a-8776-81a696bb40f3",
         "x": [
          -0.8935468699375068
         ],
         "y": [
          0.1075824856790565
         ]
        },
        {
         "hoverinfo": "text",
         "marker": {
          "color": "green",
          "size": 0.5
         },
         "mode": "markers",
         "text": "MS SQL Server appears with Hadoop 29 times",
         "type": "scatter",
         "uid": "0c7f2f44-e957-4e05-be84-77e2a6368e62",
         "x": [
          -0.25910192904159457
         ],
         "y": [
          0.8618968559908573
         ]
        },
        {
         "hoverinfo": "text",
         "marker": {
          "color": "blue",
          "size": 0.5
         },
         "mode": "markers",
         "text": "Hadoop appears with MS SQL Server 29 times",
         "type": "scatter",
         "uid": "d9c88a1e-6f7f-4cb7-8ad8-b4f91c2d6079",
         "x": [
          -0.8994860259548708
         ],
         "y": [
          0.030411989607941742
         ]
        },
        {
         "hoverinfo": "text",
         "marker": {
          "color": "green",
          "size": 0.5
         },
         "mode": "markers",
         "text": "MS SQL Server appears with Spark 27 times",
         "type": "scatter",
         "uid": "c274b1b6-a38d-4609-b7e8-caecf2bd52e9",
         "x": [
          -0.2537467122286216
         ],
         "y": [
          0.863488625306185
         ]
        },
        {
         "hoverinfo": "text",
         "marker": {
          "color": "blue",
          "size": 0.5
         },
         "mode": "markers",
         "text": "Spark appears with MS SQL Server 27 times",
         "type": "scatter",
         "uid": "4bfb7b1e-8e04-4fcf-b6d0-cf0170702ae0",
         "x": [
          -0.8906378006976786
         ],
         "y": [
          -0.1294770557604791
         ]
        },
        {
         "hoverinfo": "text",
         "marker": {
          "color": "green",
          "size": 0.5
         },
         "mode": "markers",
         "text": "MS SQL Server appears with Informatica 62 times",
         "type": "scatter",
         "uid": "d0961935-1ab4-43cf-8284-92de22377721",
         "x": [
          -0.29337536366540473
         ],
         "y": [
          0.8508412871941462
         ]
        },
        {
         "hoverinfo": "text",
         "marker": {
          "color": "blue",
          "size": 0.5
         },
         "mode": "markers",
         "text": "Informatica appears with MS SQL Server 62 times",
         "type": "scatter",
         "uid": "c916c9ce-4a10-4f10-81c7-f49a25d16ff9",
         "x": [
          -0.8447680333732782
         ],
         "y": [
          -0.31043029779749903
         ]
        },
        {
         "hoverinfo": "text",
         "marker": {
          "color": "green",
          "size": 0.5
         },
         "mode": "markers",
         "text": "MS SQL Server appears with Qlik 66 times",
         "type": "scatter",
         "uid": "1f6b9e7b-18cb-4ef0-890c-0df9903a41b0",
         "x": [
          -0.30541772820202656
         ],
         "y": [
          0.8465931793369901
         ]
        },
        {
         "hoverinfo": "text",
         "marker": {
          "color": "blue",
          "size": 0.5
         },
         "mode": "markers",
         "text": "Qlik appears with MS SQL Server 66 times",
         "type": "scatter",
         "uid": "da41aee2-8ead-4700-b81d-b3e9e72bed2f",
         "x": [
          -0.7701392949869561
         ],
         "y": [
          -0.46570963734605525
         ]
        },
        {
         "hoverinfo": "text",
         "marker": {
          "color": "green",
          "size": 0.5
         },
         "mode": "markers",
         "text": "MS SQL Server appears with Tableau 106 times",
         "type": "scatter",
         "uid": "52819b86-12e2-4767-853e-97d55affed1d",
         "x": [
          -0.35478286071576387
         ],
         "y": [
          0.8271209837395851
         ]
        },
        {
         "hoverinfo": "text",
         "marker": {
          "color": "blue",
          "size": 0.5
         },
         "mode": "markers",
         "text": "Tableau appears with MS SQL Server 106 times",
         "type": "scatter",
         "uid": "69e8c710-9a3c-4ac2-a5ac-4a1a70d93dfd",
         "x": [
          -0.4417275796431033
         ],
         "y": [
          -0.7841407688563615
         ]
        },
        {
         "hoverinfo": "text",
         "marker": {
          "color": "green",
          "size": 0.5
         },
         "mode": "markers",
         "text": "MS SQL Server appears with Microstrategy 19 times",
         "type": "scatter",
         "uid": "fed454e0-cad5-481c-8084-485832aadd3b",
         "x": [
          -0.24934046034098487
         ],
         "y": [
          0.8647712615697551
         ]
        },
        {
         "hoverinfo": "text",
         "marker": {
          "color": "blue",
          "size": 0.5
         },
         "mode": "markers",
         "text": "Microstrategy appears with MS SQL Server 19 times",
         "type": "scatter",
         "uid": "e0967deb-c611-4556-94f5-b40b72b168bd",
         "x": [
          -0.07075115923165008
         ],
         "y": [
          -0.8972147309687786
         ]
        },
        {
         "hoverinfo": "text",
         "marker": {
          "color": "green",
          "size": 0.5
         },
         "mode": "markers",
         "text": "MS SQL Server appears with Oracle BI 176 times",
         "type": "scatter",
         "uid": "1f3563a9-720a-442c-806a-3c565341c36d",
         "x": [
          -0.4532702167592957
         ],
         "y": [
          0.7775256334031574
         ]
        },
        {
         "hoverinfo": "text",
         "marker": {
          "color": "blue",
          "size": 0.5
         },
         "mode": "markers",
         "text": "Oracle BI appears with MS SQL Server 176 times",
         "type": "scatter",
         "uid": "f4e009c6-b917-4138-a667-82ffe1fb71cb",
         "x": [
          0.23481244262753326
         ],
         "y": [
          -0.8688285888409125
         ]
        },
        {
         "hoverinfo": "text",
         "marker": {
          "color": "green",
          "size": 0.5
         },
         "mode": "markers",
         "text": "MS SQL Server appears with Python 114 times",
         "type": "scatter",
         "uid": "3e2889fc-2c12-49ae-aa25-691aeb5852cb",
         "x": [
          -0.3748461736504887
         ],
         "y": [
          0.8182238972919256
         ]
        },
        {
         "hoverinfo": "text",
         "marker": {
          "color": "blue",
          "size": 0.5
         },
         "mode": "markers",
         "text": "Python appears with MS SQL Server 114 times",
         "type": "scatter",
         "uid": "d855567b-329a-4a7c-a7c6-38b54064b9d5",
         "x": [
          0.6717187017230046
         ],
         "y": [
          -0.598994145009416
         ]
        },
        {
         "hoverinfo": "text",
         "marker": {
          "color": "green",
          "size": 0.5
         },
         "mode": "markers",
         "text": "MS SQL Server appears with VBA 38 times",
         "type": "scatter",
         "uid": "ab2baf51-903c-4b93-8418-53e789195b7f",
         "x": [
          -0.2654959272772795
         ],
         "y": [
          0.8599487848698767
         ]
        },
        {
         "hoverinfo": "text",
         "marker": {
          "color": "blue",
          "size": 0.5
         },
         "mode": "markers",
         "text": "VBA appears with MS SQL Server 38 times",
         "type": "scatter",
         "uid": "986544a3-a498-485b-884e-7e3f692c37eb",
         "x": [
          0.827302564744302
         ],
         "y": [
          -0.3543592335011183
         ]
        },
        {
         "hoverinfo": "text",
         "marker": {
          "color": "green",
          "size": 0.5
         },
         "mode": "markers",
         "text": "MS SQL Server appears with Linux 51 times",
         "type": "scatter",
         "uid": "1e061e83-6282-4e4d-8bbb-8b144cfb02cf",
         "x": [
          -0.28269505018679514
         ],
         "y": [
          0.8544492428458729
         ]
        },
        {
         "hoverinfo": "text",
         "marker": {
          "color": "blue",
          "size": 0.5
         },
         "mode": "markers",
         "text": "Linux appears with MS SQL Server 51 times",
         "type": "scatter",
         "uid": "3bd8c093-83fb-4866-babe-6b5375d77a74",
         "x": [
          0.8801419446131086
         ],
         "y": [
          -0.188016375171568
         ]
        },
        {
         "hoverinfo": "text",
         "marker": {
          "color": "green",
          "size": 0.5
         },
         "mode": "markers",
         "text": "MS SQL Server appears with AWS 10 times",
         "type": "scatter",
         "uid": "c8328e2a-c596-49a7-be3a-828102e1e93c",
         "x": [
          -0.24425566129959994
         ],
         "y": [
          0.8662212026515486
         ]
        },
        {
         "hoverinfo": "text",
         "marker": {
          "color": "blue",
          "size": 0.5
         },
         "mode": "markers",
         "text": "AWS appears with MS SQL Server 10 times",
         "type": "scatter",
         "uid": "d89f57fc-dbf2-4fc5-9620-10ab4b71fd10",
         "x": [
          0.8951748564760236
         ],
         "y": [
          -0.09306973908382189
         ]
        },
        {
         "hoverinfo": "text",
         "marker": {
          "color": "green",
          "size": 0.5
         },
         "mode": "markers",
         "text": "PostgreSQL appears with MySQL/MariaDB 99 times",
         "type": "scatter",
         "uid": "50274eac-9c6f-4d51-b197-94cafe1ae1b9",
         "x": [
          -0.6390542933846644
         ],
         "y": [
          0.6337267629717301
         ]
        },
        {
         "hoverinfo": "text",
         "marker": {
          "color": "blue",
          "size": 0.5
         },
         "mode": "markers",
         "text": "MySQL/MariaDB appears with PostgreSQL 99 times",
         "type": "scatter",
         "uid": "7dd0bc04-9c5f-42ac-9b7d-b354a468545b",
         "x": [
          -0.7339483621735224
         ],
         "y": [
          0.5208836738301594
         ]
        },
        {
         "hoverinfo": "text",
         "marker": {
          "color": "green",
          "size": 0.5
         },
         "mode": "markers",
         "text": "PostgreSQL appears with T-SQL 38 times",
         "type": "scatter",
         "uid": "537f33ef-a977-4fa6-a9dc-57af27d29e04",
         "x": [
          -0.5886699664139301
         ],
         "y": [
          0.6807845992986493
         ]
        },
        {
         "hoverinfo": "text",
         "marker": {
          "color": "blue",
          "size": 0.5
         },
         "mode": "markers",
         "text": "T-SQL appears with PostgreSQL 38 times",
         "type": "scatter",
         "uid": "baaeed1f-849b-4b1c-9820-d98a91c50af6",
         "x": [
          -0.7808101908349329
         ],
         "y": [
          0.447588478279229
         ]
        },
        {
         "hoverinfo": "text",
         "marker": {
          "color": "green",
          "size": 0.5
         },
         "mode": "markers",
         "text": "PostgreSQL appears with PL/SQL 2 times",
         "type": "scatter",
         "uid": "b1dd2b31-f63e-498f-a1ea-8de349f4fd18",
         "x": [
          -0.5777519350185054
         ],
         "y": [
          0.6900744174234926
         ]
        },
        {
         "hoverinfo": "text",
         "marker": {
          "color": "blue",
          "size": 0.5
         },
         "mode": "markers",
         "text": "PL/SQL appears with PostgreSQL 2 times",
         "type": "scatter",
         "uid": "4fb8db9f-304d-4acb-b325-a90624d618a4",
         "x": [
          -0.8669875800796902
         ],
         "y": [
          0.24152129510161782
         ]
        },
        {
         "hoverinfo": "text",
         "marker": {
          "color": "green",
          "size": 0.5
         },
         "mode": "markers",
         "text": "PostgreSQL appears with Pentaho 47 times",
         "type": "scatter",
         "uid": "c0f53b49-1541-4893-8187-017d3b1782a9",
         "x": [
          -0.6047661255629233
         ],
         "y": [
          0.666526768683457
         ]
        },
        {
         "hoverinfo": "text",
         "marker": {
          "color": "blue",
          "size": 0.5
         },
         "mode": "markers",
         "text": "Pentaho appears with PostgreSQL 47 times",
         "type": "scatter",
         "uid": "41c724c4-532d-49b1-ad2b-20f6147413cb",
         "x": [
          -0.8944317810122586
         ],
         "y": [
          0.0999589371454046
         ]
        },
        {
         "hoverinfo": "text",
         "marker": {
          "color": "green",
          "size": 0.5
         },
         "mode": "markers",
         "text": "PostgreSQL appears with Hadoop 4 times",
         "type": "scatter",
         "uid": "1a1ab2e0-2f6d-41c0-bc16-44aa89abd9d6",
         "x": [
          -0.5781308749736908
         ],
         "y": [
          0.6897569799589959
         ]
        },
        {
         "hoverinfo": "text",
         "marker": {
          "color": "blue",
          "size": 0.5
         },
         "mode": "markers",
         "text": "Hadoop appears with PostgreSQL 4 times",
         "type": "scatter",
         "uid": "920e6eff-995e-4c66-bcf0-b8540daa4495",
         "x": [
          -0.8988679613380008
         ],
         "y": [
          0.04512635682244098
         ]
        },
        {
         "hoverinfo": "text",
         "marker": {
          "color": "green",
          "size": 0.5
         },
         "mode": "markers",
         "text": "PostgreSQL appears with Spark 10 times",
         "type": "scatter",
         "uid": "b9253aa0-02b8-41cb-9bc1-47b1aa5f408d",
         "x": [
          -0.580274903592757
         ],
         "y": [
          0.6879542399465364
         ]
        },
        {
         "hoverinfo": "text",
         "marker": {
          "color": "blue",
          "size": 0.5
         },
         "mode": "markers",
         "text": "Spark appears with PostgreSQL 10 times",
         "type": "scatter",
         "uid": "b226a117-a332-4c32-9c1c-823c36917d0d",
         "x": [
          -0.8928701576725788
         ],
         "y": [
          -0.11306140604885549
         ]
        },
        {
         "hoverinfo": "text",
         "marker": {
          "color": "green",
          "size": 0.5
         },
         "mode": "markers",
         "text": "PostgreSQL appears with Informatica 1 times",
         "type": "scatter",
         "uid": "e8a9de98-c398-4444-9d96-4837527745a0",
         "x": [
          -0.5775623996723594
         ],
         "y": [
          0.6902330580932108
         ]
        },
        {
         "hoverinfo": "text",
         "marker": {
          "color": "blue",
          "size": 0.5
         },
         "mode": "markers",
         "text": "Informatica appears with PostgreSQL 1 times",
         "type": "scatter",
         "uid": "6de890d5-ca42-4fea-9940-416cec9a30f3",
         "x": [
          -0.8578870718273552
         ],
         "y": [
          -0.2720841266804925
         ]
        },
        {
         "hoverinfo": "text",
         "marker": {
          "color": "green",
          "size": 0.5
         },
         "mode": "markers",
         "text": "PostgreSQL appears with Qlik 14 times",
         "type": "scatter",
         "uid": "b5698898-2fde-4e1f-9eca-0236e5cc120a",
         "x": [
          -0.5817849523267636
         ],
         "y": [
          0.6866777040549267
         ]
        },
        {
         "hoverinfo": "text",
         "marker": {
          "color": "blue",
          "size": 0.5
         },
         "mode": "markers",
         "text": "Qlik appears with PostgreSQL 14 times",
         "type": "scatter",
         "uid": "89b7d2c0-8d0e-4a06-8b0c-9cb085d7c6ec",
         "x": [
          -0.7944577071662394
         ],
         "y": [
          -0.42289118165807377
         ]
        },
        {
         "hoverinfo": "text",
         "marker": {
          "color": "green",
          "size": 0.5
         },
         "mode": "markers",
         "text": "PostgreSQL appears with Tableau 6 times",
         "type": "scatter",
         "uid": "944eefac-3993-4d10-9b49-f0494e432357",
         "x": [
          -0.579266647913817
         ],
         "y": [
          0.6888034194272631
         ]
        },
        {
         "hoverinfo": "text",
         "marker": {
          "color": "blue",
          "size": 0.5
         },
         "mode": "markers",
         "text": "Tableau appears with PostgreSQL 6 times",
         "type": "scatter",
         "uid": "7499227e-49f7-4b49-b8ea-3259cd9494fb",
         "x": [
          -0.5405471534071943
         ],
         "y": [
          -0.7195893099146062
         ]
        },
        {
         "hoverinfo": "text",
         "marker": {
          "color": "green",
          "size": 0.5
         },
         "mode": "markers",
         "text": "PostgreSQL appears with Oracle BI 45 times",
         "type": "scatter",
         "uid": "74c0a6be-a9c3-46c6-a712-92ba4ae3cfa1",
         "x": [
          -0.599131311535537
         ],
         "y": [
          0.6715963605750908
         ]
        },
        {
         "hoverinfo": "text",
         "marker": {
          "color": "blue",
          "size": 0.5
         },
         "mode": "markers",
         "text": "Oracle BI appears with PostgreSQL 45 times",
         "type": "scatter",
         "uid": "3588abc4-01d3-41fe-b8ff-b5dbe47b03fa",
         "x": [
          0.03264835691431367
         ],
         "y": [
          -0.8994076299380586
         ]
        },
        {
         "hoverinfo": "text",
         "marker": {
          "color": "green",
          "size": 0.5
         },
         "mode": "markers",
         "text": "PostgreSQL appears with Python 29 times",
         "type": "scatter",
         "uid": "8bc9dea3-0730-45bb-85dc-c2f36ec0ba11",
         "x": [
          -0.5844834285208544
         ],
         "y": [
          0.68438229213248
         ]
        },
        {
         "hoverinfo": "text",
         "marker": {
          "color": "blue",
          "size": 0.5
         },
         "mode": "markers",
         "text": "Python appears with PostgreSQL 29 times",
         "type": "scatter",
         "uid": "7399e224-cf0d-4936-9f6a-52519bc95473",
         "x": [
          0.5850531843524662
         ],
         "y": [
          -0.6838952927744415
         ]
        },
        {
         "hoverinfo": "text",
         "marker": {
          "color": "green",
          "size": 0.5
         },
         "mode": "markers",
         "text": "PostgreSQL appears with Linux 43 times",
         "type": "scatter",
         "uid": "1356d3bd-ebf9-406c-a75c-cdf6b9f7da4a",
         "x": [
          -0.5937017198999298
         ],
         "y": [
          0.6764009667259985
         ]
        },
        {
         "hoverinfo": "text",
         "marker": {
          "color": "blue",
          "size": 0.5
         },
         "mode": "markers",
         "text": "Linux appears with PostgreSQL 43 times",
         "type": "scatter",
         "uid": "53a34b35-947d-4f92-ac8d-4cc0ab0edf0f",
         "x": [
          0.8767282231049062
         ],
         "y": [
          -0.20334114883936763
         ]
        },
        {
         "hoverinfo": "text",
         "marker": {
          "color": "green",
          "size": 0.5
         },
         "mode": "markers",
         "text": "PostgreSQL appears with AWS 4 times",
         "type": "scatter",
         "uid": "03c0a64a-4097-4db8-8c5d-74a2f60f31a3",
         "x": [
          -0.5786358569208937
         ],
         "y": [
          0.6893334063321052
         ]
        },
        {
         "hoverinfo": "text",
         "marker": {
          "color": "blue",
          "size": 0.5
         },
         "mode": "markers",
         "text": "AWS appears with PostgreSQL 4 times",
         "type": "scatter",
         "uid": "86f8a9f8-ad4a-42ad-8a11-3c30f67c2e30",
         "x": [
          0.8947355014091289
         ],
         "y": [
          -0.09720279069118719
         ]
        },
        {
         "hoverinfo": "text",
         "marker": {
          "color": "green",
          "size": 0.5
         },
         "mode": "markers",
         "text": "MySQL/MariaDB appears with T-SQL 39 times",
         "type": "scatter",
         "uid": "c31ea280-1ae7-4224-9129-e353d7175ad2",
         "x": [
          -0.6748068964547332
         ],
         "y": [
          0.595512932266908
         ]
        },
        {
         "hoverinfo": "text",
         "marker": {
          "color": "blue",
          "size": 0.5
         },
         "mode": "markers",
         "text": "T-SQL appears with MySQL/MariaDB 39 times",
         "type": "scatter",
         "uid": "81e792b1-bc8d-4502-90f2-bb5824fed4a5",
         "x": [
          -0.7844465969827763
         ],
         "y": [
          0.44118424323874234
         ]
        },
        {
         "hoverinfo": "text",
         "marker": {
          "color": "green",
          "size": 0.5
         },
         "mode": "markers",
         "text": "MySQL/MariaDB appears with Pentaho 64 times",
         "type": "scatter",
         "uid": "875b78e8-84e7-44dd-a0d5-9699cf613a38",
         "x": [
          -0.6985597802129272
         ],
         "y": [
          0.5674629798223553
         ]
        },
        {
         "hoverinfo": "text",
         "marker": {
          "color": "blue",
          "size": 0.5
         },
         "mode": "markers",
         "text": "Pentaho appears with MySQL/MariaDB 64 times",
         "type": "scatter",
         "uid": "02b77363-9717-4fc6-bbe4-9e2ff7583697",
         "x": [
          -0.8954028176109807
         ],
         "y": [
          0.09085039468443117
         ]
        },
        {
         "hoverinfo": "text",
         "marker": {
          "color": "green",
          "size": 0.5
         },
         "mode": "markers",
         "text": "MySQL/MariaDB appears with Hadoop 6 times",
         "type": "scatter",
         "uid": "27e52e1c-5027-4d2c-8d94-e55b814f0c60",
         "x": [
          -0.6658717994150591
         ],
         "y": [
          0.6054871978363797
         ]
        },
        {
         "hoverinfo": "text",
         "marker": {
          "color": "blue",
          "size": 0.5
         },
         "mode": "markers",
         "text": "Hadoop appears with MySQL/MariaDB 6 times",
         "type": "scatter",
         "uid": "d71518c0-8ad3-4c7c-a1eb-6d419bde0896",
         "x": [
          -0.8989546714691967
         ],
         "y": [
          0.04336471657590685
         ]
        },
        {
         "hoverinfo": "text",
         "marker": {
          "color": "green",
          "size": 0.5
         },
         "mode": "markers",
         "text": "MySQL/MariaDB appears with Spark 26 times",
         "type": "scatter",
         "uid": "1510536a-d94c-409d-9a4e-15d4bde25cf9",
         "x": [
          -0.6709272900098292
         ],
         "y": [
          0.5998804643594144
         ]
        },
        {
         "hoverinfo": "text",
         "marker": {
          "color": "blue",
          "size": 0.5
         },
         "mode": "markers",
         "text": "Spark appears with MySQL/MariaDB 26 times",
         "type": "scatter",
         "uid": "052da498-d31c-447e-877a-18475ff66fcc",
         "x": [
          -0.8913082195963594
         ],
         "y": [
          -0.12477843435453068
         ]
        },
        {
         "hoverinfo": "text",
         "marker": {
          "color": "green",
          "size": 0.5
         },
         "mode": "markers",
         "text": "MySQL/MariaDB appears with Informatica 9 times",
         "type": "scatter",
         "uid": "7e3e12d7-25e6-4b20-ba3a-8792e1dcf610",
         "x": [
          -0.6667780121158591
         ],
         "y": [
          0.6044891087181169
         ]
        },
        {
         "hoverinfo": "text",
         "marker": {
          "color": "blue",
          "size": 0.5
         },
         "mode": "markers",
         "text": "Informatica appears with MySQL/MariaDB 9 times",
         "type": "scatter",
         "uid": "ff7630b0-e77b-46c5-872e-fc7d68f172e3",
         "x": [
          -0.8570789460457992
         ],
         "y": [
          -0.27461915491280303
         ]
        },
        {
         "hoverinfo": "text",
         "marker": {
          "color": "green",
          "size": 0.5
         },
         "mode": "markers",
         "text": "MySQL/MariaDB appears with Qlik 17 times",
         "type": "scatter",
         "uid": "15f73a05-abb4-483c-b2c3-c519127c297c",
         "x": [
          -0.6683452356334804
         ],
         "y": [
          0.6027558759614273
         ]
        },
        {
         "hoverinfo": "text",
         "marker": {
          "color": "blue",
          "size": 0.5
         },
         "mode": "markers",
         "text": "Qlik appears with MySQL/MariaDB 17 times",
         "type": "scatter",
         "uid": "aab2f65e-3c9f-41fd-8dac-755b6fb827cf",
         "x": [
          -0.7914750751458813
         ],
         "y": [
          -0.42844743600915813
         ]
        },
        {
         "hoverinfo": "text",
         "marker": {
          "color": "green",
          "size": 0.5
         },
         "mode": "markers",
         "text": "MySQL/MariaDB appears with Tableau 50 times",
         "type": "scatter",
         "uid": "91d42a43-d73d-428c-b269-7e7307362b6b",
         "x": [
          -0.6853432943961696
         ],
         "y": [
          0.5833562966371455
         ]
        },
        {
         "hoverinfo": "text",
         "marker": {
          "color": "blue",
          "size": 0.5
         },
         "mode": "markers",
         "text": "Tableau appears with MySQL/MariaDB 50 times",
         "type": "scatter",
         "uid": "799fcefc-2009-4ffc-a015-f490165b4777",
         "x": [
          -0.5053117253382851
         ],
         "y": [
          -0.7447550337095048
         ]
        },
        {
         "hoverinfo": "text",
         "marker": {
          "color": "green",
          "size": 0.5
         },
         "mode": "markers",
         "text": "MySQL/MariaDB appears with Oracle BI 71 times",
         "type": "scatter",
         "uid": "5d7afe1c-4c0b-4423-82cb-2de560138caa",
         "x": [
          -0.7061461029333422
         ],
         "y": [
          0.5579943380645127
         ]
        },
        {
         "hoverinfo": "text",
         "marker": {
          "color": "blue",
          "size": 0.5
         },
         "mode": "markers",
         "text": "Oracle BI appears with MySQL/MariaDB 71 times",
         "type": "scatter",
         "uid": "3ce85eb0-2e8b-48f8-a64a-1e7821d1a7c0",
         "x": [
          0.05731656973261705
         ],
         "y": [
          -0.8981730405852126
         ]
        },
        {
         "hoverinfo": "text",
         "marker": {
          "color": "green",
          "size": 0.5
         },
         "mode": "markers",
         "text": "MySQL/MariaDB appears with Python 58 times",
         "type": "scatter",
         "uid": "39db1c3d-0da6-4934-b46d-49dea62a66f8",
         "x": [
          -0.691594748413827
         ],
         "y": [
          0.575931162524147
         ]
        },
        {
         "hoverinfo": "text",
         "marker": {
          "color": "blue",
          "size": 0.5
         },
         "mode": "markers",
         "text": "Python appears with MySQL/MariaDB 58 times",
         "type": "scatter",
         "uid": "743e68ab-7329-4bd4-9934-bbff0ffd4f8a",
         "x": [
          0.6123254995918179
         ],
         "y": [
          -0.659588873882535
         ]
        },
        {
         "hoverinfo": "text",
         "marker": {
          "color": "green",
          "size": 0.5
         },
         "mode": "markers",
         "text": "MySQL/MariaDB appears with VBA 5 times",
         "type": "scatter",
         "uid": "62687e4c-fa3b-441f-aa8c-a05fe4530e70",
         "x": [
          -0.6646005921334516
         ],
         "y": [
          0.6068822397597953
         ]
        },
        {
         "hoverinfo": "text",
         "marker": {
          "color": "blue",
          "size": 0.5
         },
         "mode": "markers",
         "text": "VBA appears with MySQL/MariaDB 5 times",
         "type": "scatter",
         "uid": "f2742d6c-e6eb-46b0-b804-a421d293cb89",
         "x": [
          0.8167530972726729
         ],
         "y": [
          -0.3780401805304509
         ]
        },
        {
         "hoverinfo": "text",
         "marker": {
          "color": "green",
          "size": 0.5
         },
         "mode": "markers",
         "text": "MySQL/MariaDB appears with Linux 45 times",
         "type": "scatter",
         "uid": "cd87f84c-7e07-4b6c-8bba-5a2df9d6f826",
         "x": [
          -0.6797784070786578
         ],
         "y": [
          0.5898316007722906
         ]
        },
        {
         "hoverinfo": "text",
         "marker": {
          "color": "blue",
          "size": 0.5
         },
         "mode": "markers",
         "text": "Linux appears with MySQL/MariaDB 45 times",
         "type": "scatter",
         "uid": "1edcfc25-675e-4b4d-87c5-ba6f8574629d",
         "x": [
          0.8783942263919865
         ],
         "y": [
          -0.19601934353839567
         ]
        },
        {
         "hoverinfo": "text",
         "marker": {
          "color": "green",
          "size": 0.5
         },
         "mode": "markers",
         "text": "MySQL/MariaDB appears with AWS 1 times",
         "type": "scatter",
         "uid": "f960d677-b555-4550-8524-a0401f84e299",
         "x": [
          -0.6642368529872511
         ],
         "y": [
          0.6072803332346546
         ]
        },
        {
         "hoverinfo": "text",
         "marker": {
          "color": "blue",
          "size": 0.5
         },
         "mode": "markers",
         "text": "AWS appears with MySQL/MariaDB 1 times",
         "type": "scatter",
         "uid": "8d16e947-3a2d-42ec-93bb-a9074d715e5c",
         "x": [
          0.8945763747508879
         ],
         "y": [
          -0.09865652404964924
         ]
        },
        {
         "hoverinfo": "text",
         "marker": {
          "color": "green",
          "size": 0.5
         },
         "mode": "markers",
         "text": "T-SQL appears with PL/SQL 41 times",
         "type": "scatter",
         "uid": "cd04a57d-2cc8-42ba-ac3d-3d4a6f01c8d7",
         "x": [
          -0.7918345181668617
         ],
         "y": [
          0.4277827671137
         ]
        },
        {
         "hoverinfo": "text",
         "marker": {
          "color": "blue",
          "size": 0.5
         },
         "mode": "markers",
         "text": "PL/SQL appears with T-SQL 41 times",
         "type": "scatter",
         "uid": "6073ec85-e5fc-4f98-9ab3-f6b9cf863b02",
         "x": [
          -0.8738002993273356
         ],
         "y": [
          0.2155760582612522
         ]
        },
        {
         "hoverinfo": "text",
         "marker": {
          "color": "green",
          "size": 0.5
         },
         "mode": "markers",
         "text": "T-SQL appears with Pentaho 40 times",
         "type": "scatter",
         "uid": "c89ccaf0-3d18-4f0d-8144-4d9a631c6167",
         "x": [
          -0.7881228622432499
         ],
         "y": [
          0.43458296562279963
         ]
        },
        {
         "hoverinfo": "text",
         "marker": {
          "color": "blue",
          "size": 0.5
         },
         "mode": "markers",
         "text": "Pentaho appears with T-SQL 40 times",
         "type": "scatter",
         "uid": "453394a4-93cd-4182-afaa-076e0d37421b",
         "x": [
          -0.8926707386834928
         ],
         "y": [
          0.11462526902156965
         ]
        },
        {
         "hoverinfo": "text",
         "marker": {
          "color": "green",
          "size": 0.5
         },
         "mode": "markers",
         "text": "T-SQL appears with Hadoop 18 times",
         "type": "scatter",
         "uid": "85292c07-0b4f-48f5-a763-da383d3d7730",
         "x": [
          -0.7710226764459215
         ],
         "y": [
          0.4642456595447802
         ]
        },
        {
         "hoverinfo": "text",
         "marker": {
          "color": "blue",
          "size": 0.5
         },
         "mode": "markers",
         "text": "Hadoop appears with T-SQL 18 times",
         "type": "scatter",
         "uid": "a3544c96-ccd6-45f7-9e60-2cea7467e3bb",
         "x": [
          -0.8991790913365127
         ],
         "y": [
          0.0384312594542933
         ]
        },
        {
         "hoverinfo": "text",
         "marker": {
          "color": "green",
          "size": 0.5
         },
         "mode": "markers",
         "text": "T-SQL appears with Spark 19 times",
         "type": "scatter",
         "uid": "a55b69b8-e692-47d2-b063-897d41a0b028",
         "x": [
          -0.772842153534587
         ],
         "y": [
          0.46121037035177553
         ]
        },
        {
         "hoverinfo": "text",
         "marker": {
          "color": "blue",
          "size": 0.5
         },
         "mode": "markers",
         "text": "Spark appears with T-SQL 19 times",
         "type": "scatter",
         "uid": "ca4356c7-7b5d-46a4-92b8-e4cda9d5c5d9",
         "x": [
          -0.8918579861146074
         ],
         "y": [
          -0.1207863096695843
         ]
        },
        {
         "hoverinfo": "text",
         "marker": {
          "color": "green",
          "size": 0.5
         },
         "mode": "markers",
         "text": "T-SQL appears with Informatica 13 times",
         "type": "scatter",
         "uid": "4db4ac7a-aafb-40c6-981c-58da8b0ba6cd",
         "x": [
          -0.7680966995016193
         ],
         "y": [
          0.4690708477561989
         ]
        },
        {
         "hoverinfo": "text",
         "marker": {
          "color": "blue",
          "size": 0.5
         },
         "mode": "markers",
         "text": "Informatica appears with T-SQL 13 times",
         "type": "scatter",
         "uid": "ccfc4cbe-1fed-46e6-9e05-79fb713fbe04",
         "x": [
          -0.855989793711208
         ],
         "y": [
          -0.27799545511076895
         ]
        },
        {
         "hoverinfo": "text",
         "marker": {
          "color": "green",
          "size": 0.5
         },
         "mode": "markers",
         "text": "T-SQL appears with Qlik 74 times",
         "type": "scatter",
         "uid": "6259545f-5553-4fb6-9032-eacdc82c63dd",
         "x": [
          -0.8051964327852221
         ],
         "y": [
          0.4020680348273826
         ]
        },
        {
         "hoverinfo": "text",
         "marker": {
          "color": "blue",
          "size": 0.5
         },
         "mode": "markers",
         "text": "Qlik appears with T-SQL 74 times",
         "type": "scatter",
         "uid": "9e24e7b1-cf6d-4707-b7f6-203174b1bc71",
         "x": [
          -0.7627947218880902
         ],
         "y": [
          -0.4776444412527704
         ]
        },
        {
         "hoverinfo": "text",
         "marker": {
          "color": "green",
          "size": 0.5
         },
         "mode": "markers",
         "text": "T-SQL appears with Tableau 97 times",
         "type": "scatter",
         "uid": "863bc783-74d1-4b9f-aca9-b7fcf51471c2",
         "x": [
          -0.8123696608581273
         ],
         "y": [
          0.3873700222232631
         ]
        },
        {
         "hoverinfo": "text",
         "marker": {
          "color": "blue",
          "size": 0.5
         },
         "mode": "markers",
         "text": "Tableau appears with T-SQL 97 times",
         "type": "scatter",
         "uid": "e76e0c7b-3292-49ba-89ea-d834f6167455",
         "x": [
          -0.45958879701033023
         ],
         "y": [
          -0.7738075585457909
         ]
        },
        {
         "hoverinfo": "text",
         "marker": {
          "color": "green",
          "size": 0.5
         },
         "mode": "markers",
         "text": "T-SQL appears with Microstrategy 14 times",
         "type": "scatter",
         "uid": "83eccc4a-09ef-4b4b-894c-48e9ca1b95f6",
         "x": [
          -0.769439460308467
         ],
         "y": [
          0.4668649878928758
         ]
        },
        {
         "hoverinfo": "text",
         "marker": {
          "color": "blue",
          "size": 0.5
         },
         "mode": "markers",
         "text": "Microstrategy appears with T-SQL 14 times",
         "type": "scatter",
         "uid": "b0e541bc-a8b5-4f09-bfd4-cd933b96b3c7",
         "x": [
          -0.07768944381414829
         ],
         "y": [
          -0.8966405914968651
         ]
        },
        {
         "hoverinfo": "text",
         "marker": {
          "color": "green",
          "size": 0.5
         },
         "mode": "markers",
         "text": "T-SQL appears with Oracle BI 138 times",
         "type": "scatter",
         "uid": "34c8fe96-6cf5-46c0-ad43-363e8192c442",
         "x": [
          -0.8313943647828153
         ],
         "y": [
          0.344649692016951
         ]
        },
        {
         "hoverinfo": "text",
         "marker": {
          "color": "blue",
          "size": 0.5
         },
         "mode": "markers",
         "text": "Oracle BI appears with T-SQL 138 times",
         "type": "scatter",
         "uid": "c3eeaf9f-d59a-48bf-8fc3-81814f5029b5",
         "x": [
          0.13800951183832533
         ],
         "y": [
          -0.8893555951598591
         ]
        },
        {
         "hoverinfo": "text",
         "marker": {
          "color": "green",
          "size": 0.5
         },
         "mode": "markers",
         "text": "T-SQL appears with Python 49 times",
         "type": "scatter",
         "uid": "be1fd057-88c3-43be-901a-a7f3eb4ab1af",
         "x": [
          -0.7998721839018412
         ],
         "y": [
          0.41255846788073475
         ]
        },
        {
         "hoverinfo": "text",
         "marker": {
          "color": "blue",
          "size": 0.5
         },
         "mode": "markers",
         "text": "Python appears with T-SQL 49 times",
         "type": "scatter",
         "uid": "9805f7f2-eecd-451d-b85e-c9469bdf9c75",
         "x": [
          0.5963802525238953
         ],
         "y": [
          -0.6740404990796436
         ]
        },
        {
         "hoverinfo": "text",
         "marker": {
          "color": "green",
          "size": 0.5
         },
         "mode": "markers",
         "text": "T-SQL appears with VBA 27 times",
         "type": "scatter",
         "uid": "5f7a5481-c26e-462d-af4b-53ca30e86aa1",
         "x": [
          -0.7776997913815887
         ],
         "y": [
          0.452971339584563
         ]
        },
        {
         "hoverinfo": "text",
         "marker": {
          "color": "blue",
          "size": 0.5
         },
         "mode": "markers",
         "text": "VBA appears with T-SQL 27 times",
         "type": "scatter",
         "uid": "04aecc6a-2292-4098-a24a-9e52ed6649f2",
         "x": [
          0.8201389690267222
         ],
         "y": [
          -0.3706373854372831
         ]
        },
        {
         "hoverinfo": "text",
         "marker": {
          "color": "green",
          "size": 0.5
         },
         "mode": "markers",
         "text": "T-SQL appears with Linux 27 times",
         "type": "scatter",
         "uid": "78b14b24-9ff0-4c04-9fe1-60c7f56fcc98",
         "x": [
          -0.7750875407348249
         ],
         "y": [
          0.45742682933737205
         ]
        },
        {
         "hoverinfo": "text",
         "marker": {
          "color": "blue",
          "size": 0.5
         },
         "mode": "markers",
         "text": "Linux appears with T-SQL 27 times",
         "type": "scatter",
         "uid": "7f018b16-7c1b-47e1-8283-b95e1495ef3e",
         "x": [
          0.8739112568605664
         ],
         "y": [
          -0.21512581233405056
         ]
        },
        {
         "hoverinfo": "text",
         "marker": {
          "color": "green",
          "size": 0.5
         },
         "mode": "markers",
         "text": "T-SQL appears with AWS 9 times",
         "type": "scatter",
         "uid": "5210ad20-da37-41c4-9810-ea35dc903724",
         "x": [
          -0.7669979219536829
         ],
         "y": [
          0.4708653604999333
         ]
        },
        {
         "hoverinfo": "text",
         "marker": {
          "color": "blue",
          "size": 0.5
         },
         "mode": "markers",
         "text": "AWS appears with T-SQL 9 times",
         "type": "scatter",
         "uid": "87c3ac77-66f7-48c9-8c17-8886205df479",
         "x": [
          0.8950224450608767
         ],
         "y": [
          -0.0945241918095572
         ]
        },
        {
         "hoverinfo": "text",
         "marker": {
          "color": "green",
          "size": 0.5
         },
         "mode": "markers",
         "text": "PL/SQL appears with Pentaho 8 times",
         "type": "scatter",
         "uid": "d48bc9d1-27e2-4623-9997-85e58d0aedb2",
         "x": [
          -0.8676471271372653
         ],
         "y": [
          0.23914109385559426
         ]
        },
        {
         "hoverinfo": "text",
         "marker": {
          "color": "blue",
          "size": 0.5
         },
         "mode": "markers",
         "text": "Pentaho appears with PL/SQL 8 times",
         "type": "scatter",
         "uid": "0dc7bebf-4ecb-4451-bc66-99033046c89a",
         "x": [
          -0.8849870494777922
         ],
         "y": [
          0.1637007093955061
         ]
        },
        {
         "hoverinfo": "text",
         "marker": {
          "color": "green",
          "size": 0.5
         },
         "mode": "markers",
         "text": "PL/SQL appears with Hadoop 3 times",
         "type": "scatter",
         "uid": "a6858309-078f-46f5-a895-1cfc3acac636",
         "x": [
          -0.8671898013347751
         ],
         "y": [
          0.24079420354517092
         ]
        },
        {
         "hoverinfo": "text",
         "marker": {
          "color": "blue",
          "size": 0.5
         },
         "mode": "markers",
         "text": "Hadoop appears with PL/SQL 3 times",
         "type": "scatter",
         "uid": "9e035194-514e-4510-9c6e-2eae86635967",
         "x": [
          -0.8988367971918472
         ],
         "y": [
          0.04574289030988491
         ]
        },
        {
         "hoverinfo": "text",
         "marker": {
          "color": "green",
          "size": 0.5
         },
         "mode": "markers",
         "text": "PL/SQL appears with Informatica 30 times",
         "type": "scatter",
         "uid": "367f6445-dd2e-4e57-a6c6-fc40342dac3f",
         "x": [
          -0.8712609874890576
         ],
         "y": [
          0.2256197945207653
         ]
        },
        {
         "hoverinfo": "text",
         "marker": {
          "color": "blue",
          "size": 0.5
         },
         "mode": "markers",
         "text": "Informatica appears with PL/SQL 30 times",
         "type": "scatter",
         "uid": "ff9cbf20-6687-4a6b-89b1-36e51c0f546a",
         "x": [
          -0.8495574547271374
         ],
         "y": [
          -0.2970726024350745
         ]
        },
        {
         "hoverinfo": "text",
         "marker": {
          "color": "green",
          "size": 0.5
         },
         "mode": "markers",
         "text": "PL/SQL appears with Qlik 18 times",
         "type": "scatter",
         "uid": "a6793e7a-bb13-421a-a3e0-d24d053e36a0",
         "x": [
          -0.8688751055207691
         ],
         "y": [
          0.23464025870739333
         ]
        },
        {
         "hoverinfo": "text",
         "marker": {
          "color": "blue",
          "size": 0.5
         },
         "mode": "markers",
         "text": "Qlik appears with PL/SQL 18 times",
         "type": "scatter",
         "uid": "d3c955c0-a34e-4e7a-b433-826677ef1783",
         "x": [
          -0.7898012571732586
         ],
         "y": [
          -0.4315251721134473
         ]
        },
        {
         "hoverinfo": "text",
         "marker": {
          "color": "green",
          "size": 0.5
         },
         "mode": "markers",
         "text": "PL/SQL appears with Tableau 20 times",
         "type": "scatter",
         "uid": "13e40e77-18f8-4194-81a9-ee02c72cfa2f",
         "x": [
          -0.869551161744734
         ],
         "y": [
          0.23212233220520484
         ]
        },
        {
         "hoverinfo": "text",
         "marker": {
          "color": "blue",
          "size": 0.5
         },
         "mode": "markers",
         "text": "Tableau appears with PL/SQL 20 times",
         "type": "scatter",
         "uid": "9f743ffd-659b-49b7-8866-19f95121b6e2",
         "x": [
          -0.5354948833870743
         ],
         "y": [
          -0.7233569173418222
         ]
        },
        {
         "hoverinfo": "text",
         "marker": {
          "color": "green",
          "size": 0.5
         },
         "mode": "markers",
         "text": "PL/SQL appears with Microstrategy 24 times",
         "type": "scatter",
         "uid": "eb998064-a27c-4119-be98-57c4e3bdb24a",
         "x": [
          -0.8703248474697619
         ],
         "y": [
          0.22920440632050607
         ]
        },
        {
         "hoverinfo": "text",
         "marker": {
          "color": "blue",
          "size": 0.5
         },
         "mode": "markers",
         "text": "Microstrategy appears with PL/SQL 24 times",
         "type": "scatter",
         "uid": "788a0f16-aaef-48aa-8959-6442683b8d1f",
         "x": [
          -0.06779592704755301
         ],
         "y": [
          -0.8974428741016126
         ]
        },
        {
         "hoverinfo": "text",
         "marker": {
          "color": "green",
          "size": 0.5
         },
         "mode": "markers",
         "text": "PL/SQL appears with Oracle BI 83 times",
         "type": "scatter",
         "uid": "cf7cc864-6d8d-420d-9a0d-07e4740f80fe",
         "x": [
          -0.877597912163116
         ],
         "y": [
          0.19955426471749418
         ]
        },
        {
         "hoverinfo": "text",
         "marker": {
          "color": "blue",
          "size": 0.5
         },
         "mode": "markers",
         "text": "Oracle BI appears with PL/SQL 83 times",
         "type": "scatter",
         "uid": "6a29decc-821b-4bcf-a4df-ba94bf766e66",
         "x": [
          0.08890829577538362
         ],
         "y": [
          -0.895597741702332
         ]
        },
        {
         "hoverinfo": "text",
         "marker": {
          "color": "green",
          "size": 0.5
         },
         "mode": "markers",
         "text": "PL/SQL appears with Python 3 times",
         "type": "scatter",
         "uid": "3790baf9-7cb2-4364-aab8-522d3b549bf5",
         "x": [
          -0.8670795744141122
         ],
         "y": [
          0.24119081996179287
         ]
        },
        {
         "hoverinfo": "text",
         "marker": {
          "color": "blue",
          "size": 0.5
         },
         "mode": "markers",
         "text": "Python appears with PL/SQL 3 times",
         "type": "scatter",
         "uid": "843e99e3-9e28-4b26-a541-fcbecd8e5641",
         "x": [
          0.5754124902951568
         ],
         "y": [
          -0.6920263477732088
         ]
        },
        {
         "hoverinfo": "text",
         "marker": {
          "color": "green",
          "size": 0.5
         },
         "mode": "markers",
         "text": "PL/SQL appears with VBA 7 times",
         "type": "scatter",
         "uid": "67994551-5ef1-458f-b913-dc91cac0e7a5",
         "x": [
          -0.8673731097048587
         ],
         "y": [
          0.2401330642808756
         ]
        },
        {
         "hoverinfo": "text",
         "marker": {
          "color": "blue",
          "size": 0.5
         },
         "mode": "markers",
         "text": "VBA appears with PL/SQL 7 times",
         "type": "scatter",
         "uid": "9bb9234b-0d54-47fd-8a33-593b2e591d64",
         "x": [
          0.8182334419777304
         ],
         "y": [
          -0.3748253385635449
         ]
        },
        {
         "hoverinfo": "text",
         "marker": {
          "color": "green",
          "size": 0.5
         },
         "mode": "markers",
         "text": "PL/SQL appears with Linux 1 times",
         "type": "scatter",
         "uid": "0dcdbc11-1184-48cf-b789-8d567a51e737",
         "x": [
          -0.866858576408535
         ],
         "y": [
          0.241983901338432
         ]
        },
        {
         "hoverinfo": "text",
         "marker": {
          "color": "blue",
          "size": 0.5
         },
         "mode": "markers",
         "text": "Linux appears with PL/SQL 1 times",
         "type": "scatter",
         "uid": "27ab762b-5f8b-4992-ade2-e92943bddae7",
         "x": [
          0.8696312227912361
         ],
         "y": [
          -0.2318222084844752
         ]
        },
        {
         "hoverinfo": "text",
         "marker": {
          "color": "green",
          "size": 0.5
         },
         "mode": "markers",
         "text": "PL/SQL appears with AWS 2 times",
         "type": "scatter",
         "uid": "ee1dba5d-5aa7-4339-ae9c-a2e2213a31b0",
         "x": [
          -0.8669138939232414
         ],
         "y": [
          0.24178564995227292
         ]
        },
        {
         "hoverinfo": "text",
         "marker": {
          "color": "blue",
          "size": 0.5
         },
         "mode": "markers",
         "text": "AWS appears with PL/SQL 2 times",
         "type": "scatter",
         "uid": "f0b957d2-88a3-4141-a29d-3733c4153f1c",
         "x": [
          0.8946352751841953
         ],
         "y": [
          -0.09812096817754688
         ]
        },
        {
         "hoverinfo": "text",
         "marker": {
          "color": "green",
          "size": 0.5
         },
         "mode": "markers",
         "text": "Pentaho appears with Spark 7 times",
         "type": "scatter",
         "uid": "f1bb7e87-46c7-41d3-8f9d-fe2fd1e866c0",
         "x": [
          -0.8847610577362541
         ],
         "y": [
          0.16491776955023654
         ]
        },
        {
         "hoverinfo": "text",
         "marker": {
          "color": "blue",
          "size": 0.5
         },
         "mode": "markers",
         "text": "Spark appears with Pentaho 7 times",
         "type": "scatter",
         "uid": "d8f1cf03-fa5c-4226-9ca6-62df7e3321b8",
         "x": [
          -0.8932584841945931
         ],
         "y": [
          -0.109951263814373
         ]
        },
        {
         "hoverinfo": "text",
         "marker": {
          "color": "green",
          "size": 0.5
         },
         "mode": "markers",
         "text": "Pentaho appears with Informatica 34 times",
         "type": "scatter",
         "uid": "e4de1091-3e5b-4e9a-9d0b-d2bd22f34965",
         "x": [
          -0.8872103305406389
         ],
         "y": [
          0.151188059654095
         ]
        },
        {
         "hoverinfo": "text",
         "marker": {
          "color": "blue",
          "size": 0.5
         },
         "mode": "markers",
         "text": "Informatica appears with Pentaho 34 times",
         "type": "scatter",
         "uid": "ac6b7736-4f77-4772-a74b-2660d322c0a1",
         "x": [
          -0.8476669647532521
         ],
         "y": [
          -0.3024247292567341
         ]
        },
        {
         "hoverinfo": "text",
         "marker": {
          "color": "green",
          "size": 0.5
         },
         "mode": "markers",
         "text": "Pentaho appears with Qlik 33 times",
         "type": "scatter",
         "uid": "4270208e-78cf-4cb4-910c-7bbe4c81aee3",
         "x": [
          -0.8862647737797782
         ],
         "y": [
          0.15663572631133196
         ]
        },
        {
         "hoverinfo": "text",
         "marker": {
          "color": "blue",
          "size": 0.5
         },
         "mode": "markers",
         "text": "Qlik appears with Pentaho 33 times",
         "type": "scatter",
         "uid": "699dc03d-6592-4072-b0ee-2be945e11a45",
         "x": [
          -0.7843156507344476
         ],
         "y": [
          -0.44141699107873045
         ]
        },
        {
         "hoverinfo": "text",
         "marker": {
          "color": "green",
          "size": 0.5
         },
         "mode": "markers",
         "text": "Pentaho appears with Tableau 40 times",
         "type": "scatter",
         "uid": "89aaf5fb-f53b-4668-8a25-cfdbfc2ab743",
         "x": [
          -0.8908930670351779
         ],
         "y": [
          0.12770882157726612
         ]
        },
        {
         "hoverinfo": "text",
         "marker": {
          "color": "blue",
          "size": 0.5
         },
         "mode": "markers",
         "text": "Tableau appears with Pentaho 40 times",
         "type": "scatter",
         "uid": "5a40b5e2-b874-4de3-b20a-1116fce4469a",
         "x": [
          -0.5128560634798455
         ],
         "y": [
          -0.7395800552691756
         ]
        },
        {
         "hoverinfo": "text",
         "marker": {
          "color": "green",
          "size": 0.5
         },
         "mode": "markers",
         "text": "Pentaho appears with Microstrategy 4 times",
         "type": "scatter",
         "uid": "5e5246c6-9f54-4ef8-97c0-fca911da1c49",
         "x": [
          -0.8845942666826305
         ],
         "y": [
          0.1658100821790378
         ]
        },
        {
         "hoverinfo": "text",
         "marker": {
          "color": "blue",
          "size": 0.5
         },
         "mode": "markers",
         "text": "Microstrategy appears with Pentaho 4 times",
         "type": "scatter",
         "uid": "f2182ea7-a889-4b67-a2e9-9b315b5e77ed",
         "x": [
          -0.0808479387783695
         ],
         "y": [
          -0.8963613171011392
         ]
        },
        {
         "hoverinfo": "text",
         "marker": {
          "color": "green",
          "size": 0.5
         },
         "mode": "markers",
         "text": "Pentaho appears with Oracle BI 40 times",
         "type": "scatter",
         "uid": "1a6f3221-6d70-4e09-8421-ae178ce5ee4f",
         "x": [
          -0.8918058965404336
         ],
         "y": [
          0.12117030533803815
         ]
        },
        {
         "hoverinfo": "text",
         "marker": {
          "color": "blue",
          "size": 0.5
         },
         "mode": "markers",
         "text": "Oracle BI appears with Pentaho 40 times",
         "type": "scatter",
         "uid": "a98c6f96-cbca-4863-9be5-f92f565feb26",
         "x": [
          0.014644558737304568
         ],
         "y": [
          -0.8998808459453894
         ]
        },
        {
         "hoverinfo": "text",
         "marker": {
          "color": "green",
          "size": 0.5
         },
         "mode": "markers",
         "text": "Pentaho appears with Python 36 times",
         "type": "scatter",
         "uid": "12b8d8c8-968a-4c44-b35f-0848a353dcbc",
         "x": [
          -0.8899814754194343
         ],
         "y": [
          0.13391405232553819
         ]
        },
        {
         "hoverinfo": "text",
         "marker": {
          "color": "blue",
          "size": 0.5
         },
         "mode": "markers",
         "text": "Python appears with Pentaho 36 times",
         "type": "scatter",
         "uid": "be285ed2-b9d4-4c08-8d6c-9b14ac82a04c",
         "x": [
          0.5899817569232607
         ],
         "y": [
          -0.6796480901891379
         ]
        },
        {
         "hoverinfo": "text",
         "marker": {
          "color": "green",
          "size": 0.5
         },
         "mode": "markers",
         "text": "Pentaho appears with VBA 1 times",
         "type": "scatter",
         "uid": "4e956678-2063-4abb-90d2-4b583d4e13e0",
         "x": [
          -0.8845181550601171
         ],
         "y": [
          0.16621562311962917
         ]
        },
        {
         "hoverinfo": "text",
         "marker": {
          "color": "blue",
          "size": 0.5
         },
         "mode": "markers",
         "text": "VBA appears with Pentaho 1 times",
         "type": "scatter",
         "uid": "284622f7-0a15-4b20-a3e5-7e765d898fac",
         "x": [
          0.8157840983649783
         ],
         "y": [
          -0.38012669579344116
         ]
        },
        {
         "hoverinfo": "text",
         "marker": {
          "color": "green",
          "size": 0.5
         },
         "mode": "markers",
         "text": "Pentaho appears with Linux 36 times",
         "type": "scatter",
         "uid": "412635ae-1ca6-4f45-ae96-29cb02910240",
         "x": [
          -0.8890779937989314
         ],
         "y": [
          0.13978669801689805
         ]
        },
        {
         "hoverinfo": "text",
         "marker": {
          "color": "blue",
          "size": 0.5
         },
         "mode": "markers",
         "text": "Linux appears with Pentaho 36 times",
         "type": "scatter",
         "uid": "4a03ab07-ae24-48db-8838-b4db65dce940",
         "x": [
          0.8751806169706788
         ],
         "y": [
          -0.20990209069664367
         ]
        },
        {
         "hoverinfo": "text",
         "marker": {
          "color": "green",
          "size": 0.5
         },
         "mode": "markers",
         "text": "Pentaho appears with AWS 14 times",
         "type": "scatter",
         "uid": "4f089eb8-3475-4d2e-ba10-ac8f65429c39",
         "x": [
          -0.8855815081712921
         ],
         "y": [
          0.16045370791932367
         ]
        },
        {
         "hoverinfo": "text",
         "marker": {
          "color": "blue",
          "size": 0.5
         },
         "mode": "markers",
         "text": "AWS appears with Pentaho 14 times",
         "type": "scatter",
         "uid": "a5807815-0d59-484d-a600-481d35046d87",
         "x": [
          0.8953639977362312
         ],
         "y": [
          -0.09123218487898911
         ]
        },
        {
         "hoverinfo": "text",
         "marker": {
          "color": "green",
          "size": 0.5
         },
         "mode": "markers",
         "text": "Hadoop appears with Spark 135 times",
         "type": "scatter",
         "uid": "d1c7bd89-2481-405d-b59b-a0bdc1408405",
         "x": [
          -0.8989751123465188
         ],
         "y": [
          -0.04293887960303248
         ]
        },
        {
         "hoverinfo": "text",
         "marker": {
          "color": "blue",
          "size": 0.5
         },
         "mode": "markers",
         "text": "Spark appears with Hadoop 135 times",
         "type": "scatter",
         "uid": "4ccf0cd6-f123-42e6-b6d1-7bfad6f99efb",
         "x": [
          -0.8761903722269965
         ],
         "y": [
          -0.20564637516065637
         ]
        },
        {
         "hoverinfo": "text",
         "marker": {
          "color": "green",
          "size": 0.5
         },
         "mode": "markers",
         "text": "Hadoop appears with Informatica 5 times",
         "type": "scatter",
         "uid": "5ed06a3c-f49e-4ddc-928b-092281a3ddfb",
         "x": [
          -0.8989074081272979
         ],
         "y": [
          0.04433363975429487
         ]
        },
        {
         "hoverinfo": "text",
         "marker": {
          "color": "blue",
          "size": 0.5
         },
         "mode": "markers",
         "text": "Informatica appears with Hadoop 5 times",
         "type": "scatter",
         "uid": "db23147d-d4fe-4fb2-9ecb-79f25ca0dc7b",
         "x": [
          -0.857726046283611
         ],
         "y": [
          -0.27259132327842833
         ]
        },
        {
         "hoverinfo": "text",
         "marker": {
          "color": "green",
          "size": 0.5
         },
         "mode": "markers",
         "text": "Hadoop appears with Qlik 9 times",
         "type": "scatter",
         "uid": "3db5daae-2150-432b-aca7-84a0a3774003",
         "x": [
          -0.8990742685079127
         ],
         "y": [
          0.04081004419210546
         ]
        },
        {
         "hoverinfo": "text",
         "marker": {
          "color": "blue",
          "size": 0.5
         },
         "mode": "markers",
         "text": "Qlik appears with Hadoop 9 times",
         "type": "scatter",
         "uid": "0c254a2e-fa5c-4f31-b08b-83abf1b9bc1e",
         "x": [
          -0.7955368929259929
         ],
         "y": [
          -0.42085751982548353
         ]
        },
        {
         "hoverinfo": "text",
         "marker": {
          "color": "green",
          "size": 0.5
         },
         "mode": "markers",
         "text": "Hadoop appears with Tableau 38 times",
         "type": "scatter",
         "uid": "76708acf-1e5d-430f-956f-4a8469766d31",
         "x": [
          -0.8999154160459887
         ],
         "y": [
          0.012338718036127709
         ]
        },
        {
         "hoverinfo": "text",
         "marker": {
          "color": "blue",
          "size": 0.5
         },
         "mode": "markers",
         "text": "Tableau appears with Hadoop 38 times",
         "type": "scatter",
         "uid": "1e31f0d3-5960-43de-9ff6-b0916112d6f8",
         "x": [
          -0.5193516518963134
         ],
         "y": [
          -0.7350332384814788
         ]
        },
        {
         "hoverinfo": "text",
         "marker": {
          "color": "green",
          "size": 0.5
         },
         "mode": "markers",
         "text": "Hadoop appears with Microstrategy 3 times",
         "type": "scatter",
         "uid": "7500e5a0-cbf6-4a33-b0c3-edae51431668",
         "x": [
          -0.898809748487864
         ],
         "y": [
          0.04627133046696176
         ]
        },
        {
         "hoverinfo": "text",
         "marker": {
          "color": "blue",
          "size": 0.5
         },
         "mode": "markers",
         "text": "Microstrategy appears with Hadoop 3 times",
         "type": "scatter",
         "uid": "954f0f23-e6c2-4787-bac0-87775038320b",
         "x": [
          -0.08132849231345761
         ],
         "y": [
          -0.8963178433669722
         ]
        },
        {
         "hoverinfo": "text",
         "marker": {
          "color": "green",
          "size": 0.5
         },
         "mode": "markers",
         "text": "Hadoop appears with Oracle BI 35 times",
         "type": "scatter",
         "uid": "42b1feab-7beb-489e-8c24-4862f9913b40",
         "x": [
          -0.8998041342685611
         ],
         "y": [
          0.018775514725443043
         ]
        },
        {
         "hoverinfo": "text",
         "marker": {
          "color": "blue",
          "size": 0.5
         },
         "mode": "markers",
         "text": "Oracle BI appears with Hadoop 35 times",
         "type": "scatter",
         "uid": "69414cee-1ac3-4498-adeb-2c9838a2305b",
         "x": [
          0.00692642952898375
         ],
         "y": [
          -0.8999733465908755
         ]
        },
        {
         "hoverinfo": "text",
         "marker": {
          "color": "green",
          "size": 0.5
         },
         "mode": "markers",
         "text": "Hadoop appears with Python 147 times",
         "type": "scatter",
         "uid": "76fb12ca-61cc-4f7d-a555-f6196d898148",
         "x": [
          -0.8974455716605018
         ],
         "y": [
          -0.06776020887626613
         ]
        },
        {
         "hoverinfo": "text",
         "marker": {
          "color": "blue",
          "size": 0.5
         },
         "mode": "markers",
         "text": "Python appears with Hadoop 147 times",
         "type": "scatter",
         "uid": "f614f10c-bf3e-467d-a9c5-b2225a565b1d",
         "x": [
          0.7059011405905167
         ],
         "y": [
          -0.5583041999779401
         ]
        },
        {
         "hoverinfo": "text",
         "marker": {
          "color": "green",
          "size": 0.5
         },
         "mode": "markers",
         "text": "Hadoop appears with VBA 7 times",
         "type": "scatter",
         "uid": "6567d5ae-641a-405e-821a-8edd4f7c1179",
         "x": [
          -0.8990091816527015
         ],
         "y": [
          0.04221956068151327
         ]
        },
        {
         "hoverinfo": "text",
         "marker": {
          "color": "blue",
          "size": 0.5
         },
         "mode": "markers",
         "text": "VBA appears with Hadoop 7 times",
         "type": "scatter",
         "uid": "b5c03fd4-c3a6-4142-898b-ad56c3f5c4cf",
         "x": [
          0.8177167595510971
         ],
         "y": [
          -0.37595119516933745
         ]
        },
        {
         "hoverinfo": "text",
         "marker": {
          "color": "green",
          "size": 0.5
         },
         "mode": "markers",
         "text": "Hadoop appears with Linux 93 times",
         "type": "scatter",
         "uid": "9981bdf2-f923-4058-a543-9d81d5bbab23",
         "x": [
          -0.899709993946976
         ],
         "y": [
          -0.022845717146379025
         ]
        },
        {
         "hoverinfo": "text",
         "marker": {
          "color": "blue",
          "size": 0.5
         },
         "mode": "markers",
         "text": "Linux appears with Hadoop 93 times",
         "type": "scatter",
         "uid": "7226929b-8f0d-4056-a649-eeacfe6ea3c6",
         "x": [
          0.8872173307311528
         ],
         "y": [
          -0.15114697499549257
         ]
        },
        {
         "hoverinfo": "text",
         "marker": {
          "color": "green",
          "size": 0.5
         },
         "mode": "markers",
         "text": "Hadoop appears with AWS 50 times",
         "type": "scatter",
         "uid": "af6c882b-39e2-4018-a942-03ecc2417a2b",
         "x": [
          -0.8999883540895051
         ],
         "y": [
          0.0045784826377065655
         ]
        },
        {
         "hoverinfo": "text",
         "marker": {
          "color": "blue",
          "size": 0.5
         },
         "mode": "markers",
         "text": "AWS appears with Hadoop 50 times",
         "type": "scatter",
         "uid": "22f7d135-06c5-4cff-ac18-05e7d17e031b",
         "x": [
          0.8977913896783869
         ],
         "y": [
          -0.06301286074565143
         ]
        },
        {
         "hoverinfo": "text",
         "marker": {
          "color": "green",
          "size": 0.5
         },
         "mode": "markers",
         "text": "Spark appears with Informatica 13 times",
         "type": "scatter",
         "uid": "39cbb3e3-ca0b-4ea9-a3f5-a2978a18f26c",
         "x": [
          -0.8926090751799624
         ],
         "y": [
          -0.11510446953256145
         ]
        },
        {
         "hoverinfo": "text",
         "marker": {
          "color": "blue",
          "size": 0.5
         },
         "mode": "markers",
         "text": "Informatica appears with Spark 13 times",
         "type": "scatter",
         "uid": "8ab1bb82-4ddb-41d6-87aa-f67f5cb7eb23",
         "x": [
          -0.8552747113736707
         ],
         "y": [
          -0.28018773721325546
         ]
        },
        {
         "hoverinfo": "text",
         "marker": {
          "color": "green",
          "size": 0.5
         },
         "mode": "markers",
         "text": "Spark appears with Qlik 16 times",
         "type": "scatter",
         "uid": "2a2b0577-967c-4b43-8ad8-5556b393274e",
         "x": [
          -0.8922732210654026
         ],
         "y": [
          -0.11767964551939772
         ]
        },
        {
         "hoverinfo": "text",
         "marker": {
          "color": "blue",
          "size": 0.5
         },
         "mode": "markers",
         "text": "Qlik appears with Spark 16 times",
         "type": "scatter",
         "uid": "52c74325-dbd2-4acb-a9e9-4c3168fd65b2",
         "x": [
          -0.793042261829701
         ],
         "y": [
          -0.42553962324562916
         ]
        },
        {
         "hoverinfo": "text",
         "marker": {
          "color": "green",
          "size": 0.5
         },
         "mode": "markers",
         "text": "Spark appears with Tableau 36 times",
         "type": "scatter",
         "uid": "a0600e28-cef1-49dc-8b05-029a0fdc5bc5",
         "x": [
          -0.8881326705083159
         ],
         "y": [
          -0.14567209607803175
         ]
        },
        {
         "hoverinfo": "text",
         "marker": {
          "color": "blue",
          "size": 0.5
         },
         "mode": "markers",
         "text": "Tableau appears with Spark 36 times",
         "type": "scatter",
         "uid": "1af2ab4f-e7a4-4d2c-9301-92775a50d1b1",
         "x": [
          -0.525476880539864
         ],
         "y": [
          -0.7306668515938666
         ]
        },
        {
         "hoverinfo": "text",
         "marker": {
          "color": "green",
          "size": 0.5
         },
         "mode": "markers",
         "text": "Spark appears with Microstrategy 3 times",
         "type": "scatter",
         "uid": "76060327-4ab6-48fa-b31b-a717bf55aa73",
         "x": [
          -0.8933674449961241
         ],
         "y": [
          -0.10906240516831264
         ]
        },
        {
         "hoverinfo": "text",
         "marker": {
          "color": "blue",
          "size": 0.5
         },
         "mode": "markers",
         "text": "Microstrategy appears with Spark 3 times",
         "type": "scatter",
         "uid": "dcf6471b-78c0-4ac4-bf02-72a8b375e572",
         "x": [
          -0.0817403767429147
         ],
         "y": [
          -0.8962803751114528
         ]
        },
        {
         "hoverinfo": "text",
         "marker": {
          "color": "green",
          "size": 0.5
         },
         "mode": "markers",
         "text": "Spark appears with Oracle BI 32 times",
         "type": "scatter",
         "uid": "6e52c48c-df97-409a-83a5-75a414f44be1",
         "x": [
          -0.8890979646046138
         ],
         "y": [
          -0.1396596195610345
         ]
        },
        {
         "hoverinfo": "text",
         "marker": {
          "color": "blue",
          "size": 0.5
         },
         "mode": "markers",
         "text": "Oracle BI appears with Spark 32 times",
         "type": "scatter",
         "uid": "a92106cf-bb72-401b-84f4-ebf589dd587a",
         "x": [
          3.111951984585217e-05
         ],
         "y": [
          -0.8999999994619864
         ]
        },
        {
         "hoverinfo": "text",
         "marker": {
          "color": "green",
          "size": 0.5
         },
         "mode": "markers",
         "text": "Spark appears with Python 159 times",
         "type": "scatter",
         "uid": "1158cf55-0516-4e04-9e5e-83ea87ee1a72",
         "x": [
          -0.8698004961773197
         ],
         "y": [
          -0.2311862817073894
         ]
        },
        {
         "hoverinfo": "text",
         "marker": {
          "color": "blue",
          "size": 0.5
         },
         "mode": "markers",
         "text": "Python appears with Spark 159 times",
         "type": "scatter",
         "uid": "be56a4a4-5f36-4d51-b778-126ea5a0b7ce",
         "x": [
          0.7425772988690135
         ],
         "y": [
          -0.5085065930785951
         ]
        },
        {
         "hoverinfo": "text",
         "marker": {
          "color": "green",
          "size": 0.5
         },
         "mode": "markers",
         "text": "Spark appears with VBA 9 times",
         "type": "scatter",
         "uid": "5de65158-97d4-4e3b-9bcd-1c11f6fe2768",
         "x": [
          -0.8930823074627963
         ],
         "y": [
          -0.11137321085848005
         ]
        },
        {
         "hoverinfo": "text",
         "marker": {
          "color": "blue",
          "size": 0.5
         },
         "mode": "markers",
         "text": "VBA appears with Spark 9 times",
         "type": "scatter",
         "uid": "f1fd176c-d276-45e5-986d-ba9d555f5e44",
         "x": [
          0.8188220380266167
         ],
         "y": [
          -0.3735377759235843
         ]
        },
        {
         "hoverinfo": "text",
         "marker": {
          "color": "green",
          "size": 0.5
         },
         "mode": "markers",
         "text": "Spark appears with Linux 74 times",
         "type": "scatter",
         "uid": "9a54786a-94a1-40fd-9a39-a512d886d33f",
         "x": [
          -0.8834577225681495
         ],
         "y": [
          -0.1717627795382304
         ]
        },
        {
         "hoverinfo": "text",
         "marker": {
          "color": "blue",
          "size": 0.5
         },
         "mode": "markers",
         "text": "Linux appears with Spark 74 times",
         "type": "scatter",
         "uid": "6794204e-8888-4aad-897e-783b7bdf2c8e",
         "x": [
          0.8847130643352696
         ],
         "y": [
          -0.16517503986528084
         ]
        },
        {
         "hoverinfo": "text",
         "marker": {
          "color": "green",
          "size": 0.5
         },
         "mode": "markers",
         "text": "Spark appears with AWS 52 times",
         "type": "scatter",
         "uid": "204388d3-e64a-41a9-8acf-22bf1ef790f5",
         "x": [
          -0.885541655283394
         ],
         "y": [
          -0.1606735098202143
         ]
        },
        {
         "hoverinfo": "text",
         "marker": {
          "color": "blue",
          "size": 0.5
         },
         "mode": "markers",
         "text": "AWS appears with Spark 52 times",
         "type": "scatter",
         "uid": "6bcd7fc0-0d53-47cd-9ba6-333788a33f12",
         "x": [
          0.8983068976264607
         ],
         "y": [
          -0.05517896045345167
         ]
        },
        {
         "hoverinfo": "text",
         "marker": {
          "color": "green",
          "size": 0.5
         },
         "mode": "markers",
         "text": "Informatica appears with Qlik 94 times",
         "type": "scatter",
         "uid": "8c41c1b1-a065-4961-97c2-c53486f2e584",
         "x": [
          -0.8306546486202704
         ],
         "y": [
          -0.3464287152150283
         ]
        },
        {
         "hoverinfo": "text",
         "marker": {
          "color": "blue",
          "size": 0.5
         },
         "mode": "markers",
         "text": "Qlik appears with Informatica 94 times",
         "type": "scatter",
         "uid": "0c6321e4-c5d2-4de3-85b0-7b37ea699e1d",
         "x": [
          -0.7439663393046497
         ],
         "y": [
          -0.5064721966521348
         ]
        },
        {
         "hoverinfo": "text",
         "marker": {
          "color": "green",
          "size": 0.5
         },
         "mode": "markers",
         "text": "Informatica appears with Tableau 70 times",
         "type": "scatter",
         "uid": "7865f007-9da6-4fab-ade1-aacf4ebfbb8c",
         "x": [
          -0.8406586087402256
         ],
         "y": [
          -0.3213924447633272
         ]
        },
        {
         "hoverinfo": "text",
         "marker": {
          "color": "blue",
          "size": 0.5
         },
         "mode": "markers",
         "text": "Tableau appears with Informatica 70 times",
         "type": "scatter",
         "uid": "dd24ded1-c267-4edb-806c-38bd6facafd1",
         "x": [
          -0.48630969998962226
         ],
         "y": [
          -0.7572997264597444
         ]
        },
        {
         "hoverinfo": "text",
         "marker": {
          "color": "green",
          "size": 0.5
         },
         "mode": "markers",
         "text": "Informatica appears with Microstrategy 15 times",
         "type": "scatter",
         "uid": "927dc56b-2b83-4375-ab49-2334bd0c8505",
         "x": [
          -0.854498343720529
         ],
         "y": [
          -0.2825465989511689
         ]
        },
        {
         "hoverinfo": "text",
         "marker": {
          "color": "blue",
          "size": 0.5
         },
         "mode": "markers",
         "text": "Microstrategy appears with Informatica 15 times",
         "type": "scatter",
         "uid": "5de1bbaa-95bf-45bf-8d7a-d48a3751bda4",
         "x": [
          -0.07569772064330206
         ],
         "y": [
          -0.8968109360893235
         ]
        },
        {
         "hoverinfo": "text",
         "marker": {
          "color": "green",
          "size": 0.5
         },
         "mode": "markers",
         "text": "Informatica appears with Oracle BI 130 times",
         "type": "scatter",
         "uid": "9260528a-a9b3-4bac-9a4d-27ba97ed1c33",
         "x": [
          -0.8141784377016311
         ],
         "y": [
          -0.38355374014827576
         ]
        },
        {
         "hoverinfo": "text",
         "marker": {
          "color": "blue",
          "size": 0.5
         },
         "mode": "markers",
         "text": "Oracle BI appears with Informatica 130 times",
         "type": "scatter",
         "uid": "389abe6b-fbfd-44ec-9c98-3992b259f3bf",
         "x": [
          0.1106936710038192
         ],
         "y": [
          -0.8931667880075357
         ]
        },
        {
         "hoverinfo": "text",
         "marker": {
          "color": "green",
          "size": 0.5
         },
         "mode": "markers",
         "text": "Informatica appears with Python 28 times",
         "type": "scatter",
         "uid": "5b72f491-2a18-4ed4-90b4-29cf5eae4abf",
         "x": [
          -0.8512415241793694
         ],
         "y": [
          -0.2922120249284485
         ]
        },
        {
         "hoverinfo": "text",
         "marker": {
          "color": "blue",
          "size": 0.5
         },
         "mode": "markers",
         "text": "Python appears with Informatica 28 times",
         "type": "scatter",
         "uid": "2c81be6e-d14c-4428-bb97-cca2e1a41366",
         "x": [
          0.5807060353545015
         ],
         "y": [
          -0.6875903580642012
         ]
        },
        {
         "hoverinfo": "text",
         "marker": {
          "color": "green",
          "size": 0.5
         },
         "mode": "markers",
         "text": "Informatica appears with VBA 5 times",
         "type": "scatter",
         "uid": "3c233dc3-cabf-413d-a6c7-c25806ec792c",
         "x": [
          -0.8574570040435835
         ],
         "y": [
          -0.2734364390797287
         ]
        },
        {
         "hoverinfo": "text",
         "marker": {
          "color": "blue",
          "size": 0.5
         },
         "mode": "markers",
         "text": "VBA appears with Informatica 5 times",
         "type": "scatter",
         "uid": "f16cb118-8df9-47f7-ac96-f78ca1c368bb",
         "x": [
          0.816381036593806
         ],
         "y": [
          -0.3788429794651376
         ]
        },
        {
         "hoverinfo": "text",
         "marker": {
          "color": "green",
          "size": 0.5
         },
         "mode": "markers",
         "text": "Informatica appears with Linux 9 times",
         "type": "scatter",
         "uid": "de709d83-424b-4793-a0e1-11cd2f3be881",
         "x": [
          -0.8565904744865229
         ],
         "y": [
          -0.2761390211812769
         ]
        },
        {
         "hoverinfo": "text",
         "marker": {
          "color": "blue",
          "size": 0.5
         },
         "mode": "markers",
         "text": "Linux appears with Informatica 9 times",
         "type": "scatter",
         "uid": "bd4ed4cb-064e-4e6d-98fc-0fec971d1c3f",
         "x": [
          0.870677212337387
         ],
         "y": [
          -0.22786222134526093
         ]
        },
        {
         "hoverinfo": "text",
         "marker": {
          "color": "green",
          "size": 0.5
         },
         "mode": "markers",
         "text": "Informatica appears with AWS 20 times",
         "type": "scatter",
         "uid": "fcec4a52-8fab-485d-baf4-0e43ad2c3ee9",
         "x": [
          -0.8526142091508159
         ],
         "y": [
          -0.2881822519762951
         ]
        },
        {
         "hoverinfo": "text",
         "marker": {
          "color": "blue",
          "size": 0.5
         },
         "mode": "markers",
         "text": "AWS appears with Informatica 20 times",
         "type": "scatter",
         "uid": "908f0f01-3cc9-4f03-9d08-427dc1366191",
         "x": [
          0.8956254907336821
         ],
         "y": [
          -0.0886283270069512
         ]
        },
        {
         "hoverinfo": "text",
         "marker": {
          "color": "green",
          "size": 0.5
         },
         "mode": "markers",
         "text": "Qlik appears with Tableau 347 times",
         "type": "scatter",
         "uid": "e08d29ad-cccf-43f5-969f-d800cea3e575",
         "x": [
          -0.6960821655310047
         ],
         "y": [
          -0.5704994468267844
         ]
        },
        {
         "hoverinfo": "text",
         "marker": {
          "color": "blue",
          "size": 0.5
         },
         "mode": "markers",
         "text": "Tableau appears with Qlik 347 times",
         "type": "scatter",
         "uid": "10ec3621-219e-4bff-b096-36fe8f7f6457",
         "x": [
          -0.31150091196937685
         ],
         "y": [
          -0.8443738400982391
         ]
        },
        {
         "hoverinfo": "text",
         "marker": {
          "color": "green",
          "size": 0.5
         },
         "mode": "markers",
         "text": "Qlik appears with Microstrategy 37 times",
         "type": "scatter",
         "uid": "2d20807b-4ebe-4630-836a-551f3fd6e7cf",
         "x": [
          -0.7808552910686345
         ],
         "y": [
          -0.4475097925298598
         ]
        },
        {
         "hoverinfo": "text",
         "marker": {
          "color": "blue",
          "size": 0.5
         },
         "mode": "markers",
         "text": "Microstrategy appears with Qlik 37 times",
         "type": "scatter",
         "uid": "2d7655ef-db0b-4880-917d-1f15d5d7477c",
         "x": [
          -0.05576157185808777
         ],
         "y": [
          -0.898270920771632
         ]
        },
        {
         "hoverinfo": "text",
         "marker": {
          "color": "green",
          "size": 0.5
         },
         "mode": "markers",
         "text": "Qlik appears with Oracle BI 351 times",
         "type": "scatter",
         "uid": "fd543fc9-fa5c-47e0-998a-7c4ad060862a",
         "x": [
          -0.6497411678130279
         ],
         "y": [
          -0.622765136186157
         ]
        },
        {
         "hoverinfo": "text",
         "marker": {
          "color": "blue",
          "size": 0.5
         },
         "mode": "markers",
         "text": "Oracle BI appears with Qlik 351 times",
         "type": "scatter",
         "uid": "d5b590a7-0d0a-4d2f-8c7b-283e3c6b543a",
         "x": [
          0.33823995509721255
         ],
         "y": [
          -0.8340226212614593
         ]
        },
        {
         "hoverinfo": "text",
         "marker": {
          "color": "green",
          "size": 0.5
         },
         "mode": "markers",
         "text": "Qlik appears with Python 54 times",
         "type": "scatter",
         "uid": "f6de8357-2a9c-4169-824b-5fd5a9206850",
         "x": [
          -0.7762860971955697
         ],
         "y": [
          -0.4553898278407967
         ]
        },
        {
         "hoverinfo": "text",
         "marker": {
          "color": "blue",
          "size": 0.5
         },
         "mode": "markers",
         "text": "Python appears with Qlik 54 times",
         "type": "scatter",
         "uid": "0e0e2adf-10c7-4848-bed5-ec783740cd1c",
         "x": [
          0.6040622500775515
         ],
         "y": [
          -0.6671647457946542
         ]
        },
        {
         "hoverinfo": "text",
         "marker": {
          "color": "green",
          "size": 0.5
         },
         "mode": "markers",
         "text": "Qlik appears with VBA 31 times",
         "type": "scatter",
         "uid": "49386f20-a47d-46cf-ae83-dceb459adcc0",
         "x": [
          -0.787437811404127
         ],
         "y": [
          -0.435823006702352
         ]
        },
        {
         "hoverinfo": "text",
         "marker": {
          "color": "blue",
          "size": 0.5
         },
         "mode": "markers",
         "text": "VBA appears with Qlik 31 times",
         "type": "scatter",
         "uid": "fbfaf29e-59c2-42d1-babb-e0557a2acd99",
         "x": [
          0.8222390747788857
         ],
         "y": [
          -0.3659547839648529
         ]
        },
        {
         "hoverinfo": "text",
         "marker": {
          "color": "green",
          "size": 0.5
         },
         "mode": "markers",
         "text": "Qlik appears with Linux 2 times",
         "type": "scatter",
         "uid": "19a2123b-4247-40c2-a9d2-b6ad18c13292",
         "x": [
          -0.7963312064894601
         ],
         "y": [
          -0.41935260768360677
         ]
        },
        {
         "hoverinfo": "text",
         "marker": {
          "color": "blue",
          "size": 0.5
         },
         "mode": "markers",
         "text": "Linux appears with Qlik 2 times",
         "type": "scatter",
         "uid": "afe512af-d2ff-4427-9864-5f75967dae86",
         "x": [
          0.8696971250185589
         ],
         "y": [
          -0.231574849097334
         ]
        },
        {
         "hoverinfo": "text",
         "marker": {
          "color": "green",
          "size": 0.5
         },
         "mode": "markers",
         "text": "Qlik appears with AWS 3 times",
         "type": "scatter",
         "uid": "1cc96bc7-2f28-4f63-ab3a-0ce219dd24ed",
         "x": [
          -0.7960978802448275
         ],
         "y": [
          -0.4197953847646403
         ]
        },
        {
         "hoverinfo": "text",
         "marker": {
          "color": "blue",
          "size": 0.5
         },
         "mode": "markers",
         "text": "AWS appears with Qlik 3 times",
         "type": "scatter",
         "uid": "08e71bdf-5fa1-44cb-99dc-39e43ccb701d",
         "x": [
          0.8946771506248623
         ],
         "y": [
          -0.09773840672825347
         ]
        },
        {
         "hoverinfo": "text",
         "marker": {
          "color": "green",
          "size": 0.5
         },
         "mode": "markers",
         "text": "Tableau appears with Microstrategy 52 times",
         "type": "scatter",
         "uid": "ea951400-06bf-4768-902a-71034758e942",
         "x": [
          -0.4966983966951958
         ],
         "y": [
          -0.7505269500293924
         ]
        },
        {
         "hoverinfo": "text",
         "marker": {
          "color": "blue",
          "size": 0.5
         },
         "mode": "markers",
         "text": "Microstrategy appears with Tableau 52 times",
         "type": "scatter",
         "uid": "36912d82-26ee-43df-8aa4-f15710f6ced8",
         "x": [
          -0.04426798709644553
         ],
         "y": [
          -0.8989106436784632
         ]
        },
        {
         "hoverinfo": "text",
         "marker": {
          "color": "green",
          "size": 0.5
         },
         "mode": "markers",
         "text": "Tableau appears with Oracle BI 416 times",
         "type": "scatter",
         "uid": "7402fac8-4cef-4f64-a956-fe4ea97c5df0",
         "x": [
          -0.2376683266792917
         ],
         "y": [
          -0.8680517072694838
         ]
        },
        {
         "hoverinfo": "text",
         "marker": {
          "color": "blue",
          "size": 0.5
         },
         "mode": "markers",
         "text": "Oracle BI appears with Tableau 416 times",
         "type": "scatter",
         "uid": "aa5c52e3-5cad-46f7-9e83-3c45f0a25ffc",
         "x": [
          0.4099960115944223
         ],
         "y": [
          -0.8011886609760939
         ]
        },
        {
         "hoverinfo": "text",
         "marker": {
          "color": "green",
          "size": 0.5
         },
         "mode": "markers",
         "text": "Tableau appears with Python 135 times",
         "type": "scatter",
         "uid": "2285774b-a32c-425b-9d74-c67f0c789164",
         "x": [
          -0.4202221766708955
         ],
         "y": [
          -0.7958726796630066
         ]
        },
        {
         "hoverinfo": "text",
         "marker": {
          "color": "blue",
          "size": 0.5
         },
         "mode": "markers",
         "text": "Python appears with Tableau 135 times",
         "type": "scatter",
         "uid": "ed60442c-afd8-46a2-8ffc-6779faf52d6d",
         "x": [
          0.6880468341624767
         ],
         "y": [
          -0.5801651092568333
         ]
        },
        {
         "hoverinfo": "text",
         "marker": {
          "color": "green",
          "size": 0.5
         },
         "mode": "markers",
         "text": "Tableau appears with VBA 71 times",
         "type": "scatter",
         "uid": "53bac3b9-a9bd-4a75-bad4-d6f5f6c96c14",
         "x": [
          -0.4741881937529368
         ],
         "y": [
          -0.7649480746464608
         ]
        },
        {
         "hoverinfo": "text",
         "marker": {
          "color": "blue",
          "size": 0.5
         },
         "mode": "markers",
         "text": "VBA appears with Tableau 71 times",
         "type": "scatter",
         "uid": "3b8c29e3-544e-4f1f-9505-2b1a92c9a69a",
         "x": [
          0.8353998142202963
         ],
         "y": [
          -0.33482405887375294
         ]
        },
        {
         "hoverinfo": "text",
         "marker": {
          "color": "green",
          "size": 0.5
         },
         "mode": "markers",
         "text": "Tableau appears with Linux 18 times",
         "type": "scatter",
         "uid": "638a197d-724e-41fb-9f26-1b6879293a38",
         "x": [
          -0.5385945668541988
         ],
         "y": [
          -0.7210519347142326
         ]
        },
        {
         "hoverinfo": "text",
         "marker": {
          "color": "blue",
          "size": 0.5
         },
         "mode": "markers",
         "text": "Linux appears with Tableau 18 times",
         "type": "scatter",
         "uid": "6cd43fd3-8da6-409e-b8ed-7092fbe83692",
         "x": [
          0.8720227048865249
         ],
         "y": [
          -0.22265758950098388
         ]
        },
        {
         "hoverinfo": "text",
         "marker": {
          "color": "green",
          "size": 0.5
         },
         "mode": "markers",
         "text": "Tableau appears with AWS 33 times",
         "type": "scatter",
         "uid": "46907e38-ff70-4248-82d4-68a4acf905b3",
         "x": [
          -0.5311551796645577
         ],
         "y": [
          -0.726549499425546
         ]
        },
        {
         "hoverinfo": "text",
         "marker": {
          "color": "blue",
          "size": 0.5
         },
         "mode": "markers",
         "text": "AWS appears with Tableau 33 times",
         "type": "scatter",
         "uid": "b752fe0c-4eb2-492d-880f-c85866adbc01",
         "x": [
          0.8967608745501656
         ],
         "y": [
          -0.0762884911111897
         ]
        },
        {
         "hoverinfo": "text",
         "marker": {
          "color": "green",
          "size": 0.5
         },
         "mode": "markers",
         "text": "Microstrategy appears with Oracle BI 62 times",
         "type": "scatter",
         "uid": "7d8954ca-7365-48ac-83c5-7d05f7dde05f",
         "x": [
          -0.036417793493686075
         ],
         "y": [
          -0.8992628894361488
         ]
        },
        {
         "hoverinfo": "text",
         "marker": {
          "color": "blue",
          "size": 0.5
         },
         "mode": "markers",
         "text": "Oracle BI appears with Microstrategy 62 times",
         "type": "scatter",
         "uid": "dc24541b-11db-46e2-91d7-c7fa7c581abb",
         "x": [
          0.043650412682822215
         ],
         "y": [
          -0.8989408442565169
         ]
        },
        {
         "hoverinfo": "text",
         "marker": {
          "color": "green",
          "size": 0.5
         },
         "mode": "markers",
         "text": "Microstrategy appears with Python 19 times",
         "type": "scatter",
         "uid": "603894f0-83c0-4db4-bdd8-f6828a1dcc53",
         "x": [
          -0.0733621220750588
         ],
         "y": [
          -0.897005016175854
         ]
        },
        {
         "hoverinfo": "text",
         "marker": {
          "color": "blue",
          "size": 0.5
         },
         "mode": "markers",
         "text": "Python appears with Microstrategy 19 times",
         "type": "scatter",
         "uid": "1b606e8d-011a-445b-abf4-ccae12079d21",
         "x": [
          0.5771039818003191
         ],
         "y": [
          -0.6906163871428312
         ]
        },
        {
         "hoverinfo": "text",
         "marker": {
          "color": "green",
          "size": 0.5
         },
         "mode": "markers",
         "text": "Microstrategy appears with VBA 7 times",
         "type": "scatter",
         "uid": "a6fb04fc-7236-44db-8988-81be703b0c09",
         "x": [
          -0.07913148741790182
         ],
         "y": [
          -0.8965144771274084
         ]
        },
        {
         "hoverinfo": "text",
         "marker": {
          "color": "blue",
          "size": 0.5
         },
         "mode": "markers",
         "text": "VBA appears with Microstrategy 7 times",
         "type": "scatter",
         "uid": "b8a6ee5c-dc98-47dd-b1c2-eaaeceb66365",
         "x": [
          0.817198527991533
         ],
         "y": [
          -0.3770763395500594
         ]
        },
        {
         "hoverinfo": "text",
         "marker": {
          "color": "green",
          "size": 0.5
         },
         "mode": "markers",
         "text": "Microstrategy appears with Linux 7 times",
         "type": "scatter",
         "uid": "e355af47-6163-4ffc-95d7-083795ed42ad",
         "x": [
          -0.08009273632521782
         ],
         "y": [
          -0.8964291124165586
         ]
        },
        {
         "hoverinfo": "text",
         "marker": {
          "color": "blue",
          "size": 0.5
         },
         "mode": "markers",
         "text": "Linux appears with Microstrategy 7 times",
         "type": "scatter",
         "uid": "4b5fa4d5-2244-492a-8dfb-93836985c9d4",
         "x": [
          0.8703305516770369
         ],
         "y": [
          -0.22918274546209796
         ]
        },
        {
         "hoverinfo": "text",
         "marker": {
          "color": "green",
          "size": 0.5
         },
         "mode": "markers",
         "text": "Microstrategy appears with AWS 2 times",
         "type": "scatter",
         "uid": "d33e96bb-04d7-4493-8f94-ed3f94ffe79f",
         "x": [
          -0.08208360058519633
         ],
         "y": [
          -0.896249006981302
         ]
        },
        {
         "hoverinfo": "text",
         "marker": {
          "color": "blue",
          "size": 0.5
         },
         "mode": "markers",
         "text": "AWS appears with Microstrategy 2 times",
         "type": "scatter",
         "uid": "6437db65-ad7b-4076-aca0-f9cc98819a2c",
         "x": [
          0.8946016570521098
         ],
         "y": [
          -0.0984270044226647
         ]
        },
        {
         "hoverinfo": "text",
         "marker": {
          "color": "green",
          "size": 0.5
         },
         "mode": "markers",
         "text": "Oracle BI appears with Python 156 times",
         "type": "scatter",
         "uid": "8d0c40d4-8551-433e-b7c6-c4c775857f32",
         "x": [
          0.1678253692585959
         ],
         "y": [
          -0.8842141400323883
         ]
        },
        {
         "hoverinfo": "text",
         "marker": {
          "color": "blue",
          "size": 0.5
         },
         "mode": "markers",
         "text": "Python appears with Oracle BI 156 times",
         "type": "scatter",
         "uid": "b412585b-3559-4f47-8796-49e59f86297e",
         "x": [
          0.7243107838509957
         ],
         "y": [
          -0.5342039763958673
         ]
        },
        {
         "hoverinfo": "text",
         "marker": {
          "color": "green",
          "size": 0.5
         },
         "mode": "markers",
         "text": "Oracle BI appears with VBA 77 times",
         "type": "scatter",
         "uid": "d64da1ca-5510-4fcf-beeb-306641a691ec",
         "x": [
          0.07250829864922174
         ],
         "y": [
          -0.8970744376176346
         ]
        },
        {
         "hoverinfo": "text",
         "marker": {
          "color": "blue",
          "size": 0.5
         },
         "mode": "markers",
         "text": "VBA appears with Oracle BI 77 times",
         "type": "scatter",
         "uid": "c492696e-405d-4ed3-babc-c503c5bbcc92",
         "x": [
          0.8401830529923612
         ],
         "y": [
          -0.32263359630459343
         ]
        },
        {
         "hoverinfo": "text",
         "marker": {
          "color": "green",
          "size": 0.5
         },
         "mode": "markers",
         "text": "Oracle BI appears with Linux 3 times",
         "type": "scatter",
         "uid": "9bd223a1-6580-4007-989e-5dbf2e305eaf",
         "x": [
          -0.0035709344462389633
         ],
         "y": [
          -0.8999929157649968
         ]
        },
        {
         "hoverinfo": "text",
         "marker": {
          "color": "blue",
          "size": 0.5
         },
         "mode": "markers",
         "text": "Linux appears with Oracle BI 3 times",
         "type": "scatter",
         "uid": "80528b78-63f8-488b-9a25-c2728905b3b7",
         "x": [
          0.8698068057074132
         ],
         "y": [
          -0.23116254182948065
         ]
        },
        {
         "hoverinfo": "text",
         "marker": {
          "color": "green",
          "size": 0.5
         },
         "mode": "markers",
         "text": "Oracle BI appears with AWS 45 times",
         "type": "scatter",
         "uid": "426a3fad-2bb0-4775-b270-ebba698bc9a9",
         "x": [
          0.023390439182550047
         ],
         "y": [
          -0.8996959971872985
         ]
        },
        {
         "hoverinfo": "text",
         "marker": {
          "color": "blue",
          "size": 0.5
         },
         "mode": "markers",
         "text": "AWS appears with Oracle BI 45 times",
         "type": "scatter",
         "uid": "ca3050aa-b54a-4d0a-8580-a80cc2786bd2",
         "x": [
          0.8972498144084707
         ],
         "y": [
          -0.07030484011762518
         ]
        },
        {
         "hoverinfo": "text",
         "marker": {
          "color": "green",
          "size": 0.5
         },
         "mode": "markers",
         "text": "Python appears with VBA 65 times",
         "type": "scatter",
         "uid": "66ef96be-747c-4fb4-9a61-fe006bac6ed8",
         "x": [
          0.621290810791652
         ],
         "y": [
          -0.6511510795705184
         ]
        },
        {
         "hoverinfo": "text",
         "marker": {
          "color": "blue",
          "size": 0.5
         },
         "mode": "markers",
         "text": "VBA appears with Python 65 times",
         "type": "scatter",
         "uid": "b0198474-7518-43ec-ba4f-af1d16c574e4",
         "x": [
          0.830848445784414
         ],
         "y": [
          -0.34596366881165963
         ]
        },
        {
         "hoverinfo": "text",
         "marker": {
          "color": "green",
          "size": 0.5
         },
         "mode": "markers",
         "text": "Python appears with Linux 98 times",
         "type": "scatter",
         "uid": "73c29d42-ecb3-47e0-b976-4ccf09fc3400",
         "x": [
          0.6574103621032599
         ],
         "y": [
          -0.6146638234020779
         ]
        },
        {
         "hoverinfo": "text",
         "marker": {
          "color": "blue",
          "size": 0.5
         },
         "mode": "markers",
         "text": "Linux appears with Python 98 times",
         "type": "scatter",
         "uid": "1790451a-0402-49f9-8b78-8a94f4f81833",
         "x": [
          0.8898087992686022
         ],
         "y": [
          -0.135056657533675
         ]
        },
        {
         "hoverinfo": "text",
         "marker": {
          "color": "green",
          "size": 0.5
         },
         "mode": "markers",
         "text": "Python appears with AWS 95 times",
         "type": "scatter",
         "uid": "87b1e67c-11ec-4d32-a4aa-7f8838eeed93",
         "x": [
          0.6440663787381274
         ],
         "y": [
          -0.6286322452588278
         ]
        },
        {
         "hoverinfo": "text",
         "marker": {
          "color": "blue",
          "size": 0.5
         },
         "mode": "markers",
         "text": "AWS appears with Python 95 times",
         "type": "scatter",
         "uid": "fba9a0db-5ff5-4c87-9d88-6593184c0669",
         "x": [
          0.8992965399467392
         ],
         "y": [
          -0.03557714490825455
         ]
        },
        {
         "hoverinfo": "text",
         "marker": {
          "color": "green",
          "size": 0.5
         },
         "mode": "markers",
         "text": "VBA appears with Linux 1 times",
         "type": "scatter",
         "uid": "12273d1b-ba65-4919-86c8-9e66b30164d7",
         "x": [
          0.815709339124973
         ],
         "y": [
          -0.3802870942647146
         ]
        },
        {
         "hoverinfo": "text",
         "marker": {
          "color": "blue",
          "size": 0.5
         },
         "mode": "markers",
         "text": "Linux appears with VBA 1 times",
         "type": "scatter",
         "uid": "48f009bd-8f20-4310-aec8-57fbf425bfec",
         "x": [
          0.8695872488871401
         ],
         "y": [
          -0.2319871043245618
         ]
        },
        {
         "hoverinfo": "text",
         "marker": {
          "color": "green",
          "size": 0.5
         },
         "mode": "markers",
         "text": "VBA appears with AWS 5 times",
         "type": "scatter",
         "uid": "75d836c1-62df-47c3-972c-ae7f43989e02",
         "x": [
          0.816008186831993
         ],
         "y": [
          -0.3796454122245691
         ]
        },
        {
         "hoverinfo": "text",
         "marker": {
          "color": "blue",
          "size": 0.5
         },
         "mode": "markers",
         "text": "AWS appears with VBA 5 times",
         "type": "scatter",
         "uid": "f4a337de-de36-4c85-8ec3-d1ad070218a6",
         "x": [
          0.8948100526736241
         ],
         "y": [
          -0.09651409034035416
         ]
        },
        {
         "hoverinfo": "text",
         "marker": {
          "color": "green",
          "size": 0.5
         },
         "mode": "markers",
         "text": "Linux appears with AWS 23 times",
         "type": "scatter",
         "uid": "2efe36f8-b9b9-4bd9-9ccb-9a9bfaea8e4b",
         "x": [
          0.8728816339890227
         ],
         "y": [
          -0.2192661694029744
         ]
        },
        {
         "hoverinfo": "text",
         "marker": {
          "color": "blue",
          "size": 0.5
         },
         "mode": "markers",
         "text": "AWS appears with Linux 23 times",
         "type": "scatter",
         "uid": "3d116801-2eff-4e30-aefc-f866d4554132",
         "x": [
          0.8959453577975228
         ],
         "y": [
          -0.0853341422940951
         ]
        }
       ],
       "layout": {
        "autosize": false,
        "font": {
         "color": "#655643",
         "family": "Fira Sans Condensed",
         "size": 12
        },
        "height": 525,
        "hidesources": true,
        "hoverdistance": 40,
        "hovermode": "closest",
        "margin": {
         "b": 10,
         "l": 280,
         "r": 280,
         "t": 80
        },
        "paper_bgcolor": "#fffaf0",
        "plot_bgcolor": "#fffaf0",
        "shapes": [
         {
          "fillcolor": "#f2e6ce",
          "layer": "below",
          "line": {
           "color": "rgb(175,175,175)",
           "width": 0.5
          },
          "path": "M 0.9732188831365023,0.22988041566549156 Q 0.18372718856633896, 0.07902101101295106 0.83623810357301, 0.5483665144158747L 0.83623810357301, 0.5483665144158747 L 0.8495812923420215, 0.527457702287549 L 0.8624018024635145, 0.5062243881004562 M 0.8624018024635145,0.5062243881004562 Q 0.18386762591189648, 0.07869368552509724 0.9616058174212985, 0.2744344218597885L 0.9616058174212985, 0.2744344218597885 L 0.9676688071541504, 0.2522242646155675 L 0.9732188831365023, 0.22988041566549156 ",
          "type": "path"
         },
         {
          "fillcolor": "#f2e6ce",
          "layer": "below",
          "line": {
           "color": "rgb(175,175,175)",
           "width": 0.5
          },
          "path": "M 0.9959772786167991,0.0896061408558312 Q 0.14113727221524922, 0.14170487074070054 0.08560804483897044, 0.9963288928154441L 0.08560804483897044, 0.9963288928154441 L 0.10000417609966453, 0.9949870173839592 L 0.11437940156485354, 0.9934371406876562 M 0.11437940156485354,0.9934371406876562 Q 0.14123468769155859, 0.14160777871525249 0.9931319336267945, 0.11699983936187318L 0.9931319336267945, 0.11699983936187318 L 0.9946489170745335, 0.1033127860550554 L 0.9959772786167991, 0.0896061408558312 ",
          "type": "path"
         },
         {
          "fillcolor": "#f2e6ce",
          "layer": "below",
          "line": {
           "color": "rgb(175,175,175)",
           "width": 0.5
          },
          "path": "M 0.998053769357723,0.06235922923546198 Q 0.09920387135421059, 0.17366229270724615 -0.4532248953093184, 0.8913962049907198L -0.4532248953093184, 0.8913962049907198 L -0.44063148966977517, 0.8976880807448625 L -0.4279507589915333, 0.9038020512692868 M -0.4279507589915333,0.9038020512692868 Q 0.09927583328945612, 0.17362116496753532 0.9959772786167991, 0.0896061408558312L 0.9959772786167991, 0.0896061408558312 L 0.9971085967033906, 0.07598977812966169 L 0.998053769357723, 0.06235922923546198 ",
          "type": "path"
         },
         {
          "fillcolor": "#f2e6ce",
          "layer": "below",
          "line": {
           "color": "rgb(175,175,175)",
           "width": 0.5
          },
          "path": "M 1.0,0.0 Q 0.07218665683187557, 0.18651832771992416 -0.7394543287718517, 0.6732067257986735L -0.7394543287718517, 0.6732067257986735 L -0.7391181042062636, 0.6735758517305523 L -0.7387816953778579, 0.6739448097393569 M -0.7387816953778579,0.6739448097393569 Q 0.07217945191868046, 0.18652111601831814 0.9999994212657299, 0.0010758569632024735L 0.9999994212657299, 0.0010758569632024735 L 0.999999855316422, 0.0005379285594306654 L 1.0, 0.0 ",
          "type": "path"
         },
         {
          "fillcolor": "#f2e6ce",
          "layer": "below",
          "line": {
           "color": "rgb(175,175,175)",
           "width": 0.5
          },
          "path": "M 0.9993698245170495,0.03549582855437719 Q 0.044221142118625635, 0.19504996946865774 -0.8863478036671852, 0.46302005457037904L -0.8863478036671852, 0.46302005457037904 L -0.884123405543636, 0.4672534684407633 L -0.8818787877476651, 0.47147619634580556 M -0.8818787877476651,0.47147619634580556 Q 0.04420961048943504, 0.1950525835265261 0.9989792863390781, 0.045170626135423594L 0.9989792863390781, 0.045170626135423594 L 0.9991862652388329, 0.04033370002953528 L 0.9993698245170495, 0.03549582855437719 ",
          "type": "path"
         },
         {
          "fillcolor": "#f2e6ce",
          "layer": "below",
          "line": {
           "color": "rgb(175,175,175)",
           "width": 0.5
          },
          "path": "M 0.999992499612512,0.003873076131471794 Q 0.026232955865487108, 0.19827211610955134 -0.9645771145078731, 0.26380104277213456L -0.9645771145078731, 0.26380104277213456 L -0.9643958986280529, 0.26446275864361407 L -0.964214228800246, 0.26512435003059776 M -0.964214228800246,0.26512435003059776 Q 0.026177004318952576, 0.1982795109054023 0.999983124154522, 0.005809596041201512L 0.999983124154522, 0.005809596041201512 L 0.9999882806527907, 0.004841338355833915 L 0.999992499612512, 0.003873076131471794 ",
          "type": "path"
         },
         {
          "fillcolor": "#f2e6ce",
          "layer": "below",
          "line": {
           "color": "rgb(175,175,175)",
           "width": 0.5
          },
          "path": "M 0.999983124154522,0.005809596041201512 Q 0.017449205089169594, 0.19923735905134887 -0.983749780381363, 0.17954489577712934L -0.983749780381363, 0.17954489577712934 L -0.983601277278899, 0.18035666701100464 L -0.9834521043186794, 0.18116831541735273 M -0.9834521043186794,0.18116831541735273 Q 0.01742070826768195, 0.1992398527490229 0.9999699985625596, 0.007746094163800075L 0.9999699985625596, 0.007746094163800075 L 0.9999770301225405, 0.0067778482797850445 L 0.999983124154522, 0.005809596041201512 ",
          "type": "path"
         },
         {
          "fillcolor": "#f2e6ce",
          "layer": "below",
          "line": {
           "color": "rgb(175,175,175)",
           "width": 0.5
          },
          "path": "M 0.9999374047483465,0.011188681117159807 Q 0.00254495667536896, 0.19998380733329513 -0.9993288607623281, 0.036630971151030325L -0.9993288607623281, 0.036630971151030325 L -0.9992475725923967, 0.03878516041223644 L -0.9991616407799606, 0.040939169433405115 M -0.9991616407799606,0.040939169433405115 Q 0.002502727450011955, 0.19998434027520995 0.9998732367114952, 0.015922013317360376L 0.9998732367114952, 0.015922013317360376 L 0.9999081215453924, 0.013555385186881236 L 0.9999374047483465, 0.011188681117159807 ",
          "type": "path"
         },
         {
          "fillcolor": "#f2e6ce",
          "layer": "below",
          "line": {
           "color": "rgb(175,175,175)",
           "width": 0.5
          },
          "path": "M 0.9997685152010503,0.02151548309212295 Q -0.017392013223091723, 0.19924235964284254 -0.9883757103096227, -0.15203109968012737L -0.9883757103096227, -0.15203109968012737 L -0.9887954383182109, -0.1492768607691666 L -0.9892074912930673, -0.14652146317067774 M -0.9892074912930673,-0.14652146317067774 Q -0.01743711366083536, 0.19923841764875347 0.999620744647024, 0.027538461673254543L 0.999620744647024, 0.027538461673254543 L 0.9996991658327542, 0.024527083668780023 L 0.9997685152010503, 0.02151548309212295 ",
          "type": "path"
         },
         {
          "fillcolor": "#f2e6ce",
          "layer": "below",
          "line": {
           "color": "rgb(175,175,175)",
           "width": 0.5
          },
          "path": "M 0.9999699985625596,0.007746094163800075 Q -0.033019970323710256, 0.19725537143464889 -0.9479783696255116, -0.3183347463318399L -0.9479783696255116, -0.3183347463318399 L -0.9484791170995778, -0.31683965096875955 L -0.9489775065993787, -0.3153437679238739 M -0.9489775065993787,-0.3153437679238739 Q -0.033048502461698395, 0.19725059311707815 0.9999374047483465, 0.011188681117159807L 0.9999374047483465, 0.011188681117159807 L 0.9999551831485628, 0.009467401666998903 L 0.9999699985625596, 0.007746094163800075 ",
          "type": "path"
         },
         {
          "fillcolor": "#f2e6ce",
          "layer": "below",
          "line": {
           "color": "rgb(175,175,175)",
           "width": 0.5
          },
          "path": "M 0.9882546409088482,0.15281611407873058 Q -0.07801204260347733, 0.18415787034181635 -0.797306619740268, -0.6035744810032543L -0.797306619740268, -0.6035744810032543 L -0.8091640747784539, -0.5875827602031298 L -0.8207008302794923, -0.5713581601574901 M -0.8207008302794923,-0.5713581601574901 Q -0.07789220675450403, 0.18420858863504058 0.9816373518786187, 0.19075667589034204L 0.9816373518786187, 0.19075667589034204 L 0.9851286653882778, 0.17181825464807435 L 0.9882546409088482, 0.15281611407873058 ",
          "type": "path"
         },
         {
          "fillcolor": "#f2e6ce",
          "layer": "below",
          "line": {
           "color": "rgb(175,175,175)",
           "width": 0.5
          },
          "path": "M 0.9816373518786187,0.19075667589034204 Q -0.1265433437577428, 0.15487666754747065 -0.38260701160227856, -0.9239111833248767L -0.38260701160227856, -0.9239111833248767 L -0.4019307360287516, -0.9156700734628089 L -0.4210770794915316, -0.9070248580534507 M -0.4210770794915316,-0.9070248580534507 Q -0.12638885127819877, 0.1550027685964911 0.9732188831365023, 0.22988041566549156L 0.9732188831365023, 0.22988041566549156 L 0.9776238497744784, 0.21036066255868321 L 0.9816373518786187, 0.19075667589034204 ",
          "type": "path"
         },
         {
          "fillcolor": "#f2e6ce",
          "layer": "below",
          "line": {
           "color": "rgb(175,175,175)",
           "width": 0.5
          },
          "path": "M 0.9998732367114952,0.015922013317360376 Q -0.13757681673126196, 0.14516411229395773 -0.06952327519826124, -0.9975803297006747L -0.06952327519826124, -0.9975803297006747 L -0.07150965345653851, -0.9974399076949577 L -0.07349574814922659, -0.9972955304241494 M -0.07349574814922659,-0.9972955304241494 Q -0.13769375876356546, 0.14505319299333277 0.9997685152010503, 0.02151548309212295L 0.9997685152010503, 0.02151548309212295 L 0.9998247875122914, 0.018718821437291575 L 0.9998732367114952, 0.015922013317360376 ",
          "type": "path"
         },
         {
          "fillcolor": "#f2e6ce",
          "layer": "below",
          "line": {
           "color": "rgb(175,175,175)",
           "width": 0.5
          },
          "path": "M 0.9931319336267945,0.11699983936187318 Q -0.16451767823673683, 0.11372745291966023 0.24142242966827449, -0.9704201205936875L 0.24142242966827449, -0.9704201205936875 L 0.2227362824739933, -0.9748787352638612 L 0.20396793415581016, -0.9789775696287485 M 0.20396793415581016,-0.9789775696287485 Q -0.1643883089204932, 0.11391437086803623 0.9882546409088482, 0.15281611407873058L 0.9882546409088482, 0.15281611407873058 L 0.9908551310969582, 0.13493001585573777 L 0.9931319336267945, 0.11699983936187318 ",
          "type": "path"
         },
         {
          "fillcolor": "#f2e6ce",
          "layer": "below",
          "line": {
           "color": "rgb(175,175,175)",
           "width": 0.5
          },
          "path": "M 0.9989792863390781,0.045170626135423594 Q -0.18651420224973084, 0.0721973154566463 0.7082097027986514, -0.7060021365844765L 0.7082097027986514, -0.7060021365844765 L 0.701900260450461, -0.7122752448173212 L 0.695535255011096, -0.7184919686653773 M 0.695535255011096,-0.7184919686653773 Q -0.18649322713508135, 0.07225147910418832 0.998053769357723, 0.06235922923546198L 0.998053769357723, 0.06235922923546198 L 0.9985535130405172, 0.05376691914589849 L 0.9989792863390781, 0.045170626135423594 ",
          "type": "path"
         },
         {
          "fillcolor": "#f2e6ce",
          "layer": "below",
          "line": {
           "color": "rgb(175,175,175)",
           "width": 0.5
          },
          "path": "M 0.999620744647024,0.027538461673254543 Q -0.19638416056266067, 0.03785844001143094 0.9177477043104463, -0.39716388460295027L 0.9177477043104463, -0.39716388460295027 L 0.9162969066574477, -0.40049966148549077 L 0.9148339843610589, -0.4038301388679031 M 0.9148339843610589,-0.4038301388679031 Q -0.1963971366281846, 0.03779106672548682 0.9993698245170495, 0.03549582855437719L 0.9993698245170495, 0.03549582855437719 L 0.9995032035084463, 0.03151739482180014 L 0.999620744647024, 0.027538461673254543 ",
          "type": "path"
         },
         {
          "fillcolor": "#f2e6ce",
          "layer": "below",
          "line": {
           "color": "rgb(175,175,175)",
           "width": 0.5
          },
          "path": "M 0.9999971989271702,0.002366883565704538 Q -0.19836664349266764, 0.025508327061038436 0.9668647308973647, -0.255289232336122L 0.9668647308973647, -0.255289232336122 L 0.9666950896209775, -0.2559308572694788 L 0.9665250225533769, -0.25657236947534734 M 0.9665250225533769,-0.25657236947534734 Q -0.19836892385458976, 0.025490587454430627 0.999992499612512, 0.003873076131471794L 0.999992499612512, 0.003873076131471794 L 0.9999951328482671, 0.003119980733351698 L 0.9999971989271702, 0.002366883565704538 ",
          "type": "path"
         },
         {
          "fillcolor": "#f2e6ce",
          "layer": "below",
          "line": {
           "color": "rgb(175,175,175)",
           "width": 0.5
          },
          "path": "M 0.9999994212657299,0.0010758569632024735 Q -0.1997248853929856, 0.010486665569130043 0.9943882503824757, -0.10579228469637492L 0.9943882503824757, -0.10579228469637492 L 0.9943338344212251, -0.1063025198439983 L 0.994279156650879, -0.10681272700206162 M 0.994279156650879,-0.10681272700206162 Q -0.19972627192688985, 0.010460224767472921 0.9999971989271702, 0.002366883565704538L 0.9999971989271702, 0.002366883565704538 L 0.9999985184404915, 0.0017213706230913496 L 0.9999994212657299, 0.0010758569632024735 ",
          "type": "path"
         },
         {
          "fillcolor": "#ecd5bb",
          "layer": "below",
          "line": {
           "color": "rgb(175,175,175)",
           "width": 0.5
          },
          "path": "M 0.5588970612881026,0.8292370438442332 Q 0.034894222479045285, 0.19693245856786254 -0.23995345508087873, 0.9707843938768014L -0.23995345508087873, 0.9707843938768014 L -0.17432544590282834, 0.9846880921950768 L -0.10791291148051022, 0.994160351017782 M -0.10791291148051022,0.994160351017782 Q 0.03454915350995802, 0.1969932892048492 0.43978278257376396, 0.8981041722159393L 0.43978278257376396, 0.8981041722159393 L 0.500525751561827, 0.8657216481199186 L 0.5588970612881026, 0.8292370438442332 ",
          "type": "path"
         },
         {
          "fillcolor": "#ecd5bb",
          "layer": "below",
          "line": {
           "color": "rgb(175,175,175)",
           "width": 0.5
          },
          "path": "M 0.8022424347626661,0.5969983884953706 Q 0.03237736096350149, 0.19736186687665663 -0.5694504893666427, 0.8220256323011413L -0.5694504893666427, 0.8220256323011413 L -0.5451542506690169, 0.8383357579022278 L -0.5203911814427881, 0.8539279936133838 M -0.5203911814427881,0.8539279936133838 Q 0.032113752484539425, 0.19740493129950362 0.7642275053277755, 0.6449467575703323L 0.7642275053277755, 0.6449467575703323 L 0.7836017992743349, 0.6212634064340381 L 0.8022424347626661, 0.5969983884953706 ",
          "type": "path"
         },
         {
          "fillcolor": "#ecd5bb",
          "layer": "below",
          "line": {
           "color": "rgb(175,175,175)",
           "width": 0.5
          },
          "path": "M 0.9359949453716919,0.35201344042329336 Q 0.04427829159290106, 0.19503700390852508 -0.6922431629623428, 0.7216643287096095L -0.6922431629623428, 0.7216643287096095 L -0.6874716245552397, 0.7262112402265469 L -0.6826702210174316, 0.7307266036870501 M -0.6826702210174316,0.7307266036870501 Q 0.043936072395069525, 0.19511438066553477 0.929989493004569, 0.3675861027039852L 0.929989493004569, 0.3675861027039852 L 0.9330247092216902, 0.35981230104289164 L 0.9359949453716919, 0.35201344042329336 ",
          "type": "path"
         },
         {
          "fillcolor": "#ecd5bb",
          "layer": "below",
          "line": {
           "color": "rgb(175,175,175)",
           "width": 0.5
          },
          "path": "M 0.8957002232156938,0.4446584196114545 Q 0.01220860546028725, 0.19962702710984565 -0.8348396602239645, 0.5504931804456215L -0.8348396602239645, 0.5504931804456215 L -0.8280712517327187, 0.5606228697206425 L -0.8211799392846683, 0.5706693502514645 M -0.8211799392846683,0.5706693502514645 Q 0.011817750853596536, 0.19965054661773987 0.8827681170063274, 0.4698089522317588L 0.8827681170063274, 0.4698089522317588 L 0.8893230833705987, 0.4572794040673722 L 0.8957002232156938, 0.4446584196114545 ",
          "type": "path"
         },
         {
          "fillcolor": "#ecd5bb",
          "layer": "below",
          "line": {
           "color": "rgb(175,175,175)",
           "width": 0.5
          },
          "path": "M 0.8827681170063274,0.4698089522317588 Q -0.018509625805566605, 0.1991416424370802 -0.9542326891188382, 0.299065168511866L -0.9542326891188382, 0.299065168511866 L -0.9483376573990278, 0.3172628051929888 L -0.9420956238285502, 0.3353443537068946 M -0.9420956238285502,0.3353443537068946 Q -0.018854997034766924, 0.19910923907950362 0.8624018024635145, 0.5062243881004562L 0.8624018024635145, 0.5062243881004562 L 0.8727749039402831, 0.48812290158527655 L 0.8827681170063274, 0.4698089522317588 ",
          "type": "path"
         },
         {
          "fillcolor": "#ecd5bb",
          "layer": "below",
          "line": {
           "color": "rgb(175,175,175)",
           "width": 0.5
          },
          "path": "M 0.9457255455215644,0.3249664483418856 Q -0.010102089503819196, 0.1997447065322554 -0.97368637339869, 0.2278921812123155L -0.97368637339869, 0.2278921812123155 L -0.9726692545225597, 0.23219500706631913 L -0.9716331210896929, 0.23649329377701617 M -0.9716331210896929,0.23649329377701617 Q -0.010561721970804173, 0.19972093037288663 0.9412709272745761, 0.3376522493152679L 0.9412709272745761, 0.3376522493152679 L 0.9435195570166274, 0.33131683556249775 L 0.9457255455215644, 0.3249664483418856 ",
          "type": "path"
         },
         {
          "fillcolor": "#ecd5bb",
          "layer": "below",
          "line": {
           "color": "rgb(175,175,175)",
           "width": 0.5
          },
          "path": "M 0.9412709272745761,0.3376522493152679 Q -0.026053385081537758, 0.19829579200223366 -0.996545432477354, 0.08304938897140338L -0.996545432477354, 0.08304938897140338 L -0.9960245901350951, 0.08907870590784198 L -0.995467269448541, 0.0951047604311473 M -0.995467269448541,0.0951047604311473 Q -0.026370253541899952, 0.1982539021763151 0.9359949453716919, 0.35201344042329336L 0.9359949453716919, 0.35201344042329336 L 0.9386604019042769, 0.3448429351123512 L 0.9412709272745761, 0.3376522493152679 ",
          "type": "path"
         },
         {
          "fillcolor": "#ecd5bb",
          "layer": "below",
          "line": {
           "color": "rgb(175,175,175)",
           "width": 0.5
          },
          "path": "M 0.9235472744306747,0.38348459146577435 Q -0.040697809428987076, 0.19581544450753074 -0.999867580918018, -0.016273310331667054L -0.999867580918018, -0.016273310331667054 L -0.9999676545506364, -0.008043000217528243 L -0.9999999823552881, 0.00018785479394414412 M -0.9999999823552881,0.00018785479394414412 Q -0.040992525105641074, 0.19575396007606946 0.9159052565491295, 0.40139452042307877L 0.9159052565491295, 0.40139452042307877 L 0.9197698597044892, 0.3924581572335886 L 0.9235472744306747, 0.38348459146577435 ",
          "type": "path"
         },
         {
          "fillcolor": "#ecd5bb",
          "layer": "below",
          "line": {
           "color": "rgb(175,175,175)",
           "width": 0.5
          },
          "path": "M 0.9159052565491295,0.40139452042307877 Q -0.06197648342136798, 0.19015497759122926 -0.9765262494761795, -0.21539843101560968L -0.9765262494761795, -0.21539843101560968 L -0.9783954211394335, -0.20674235147494718 L -0.9801878655507873, -0.19807005888571788 M -0.9801878655507873,-0.19807005888571788 Q -0.06225407462419216, 0.1900642791075838 0.9074295190605817, 0.4202043168953425L 0.9074295190605817, 0.4202043168953425 L 0.9117158976883977, 0.4108212773241414 L 0.9159052565491295, 0.40139452042307877 ",
          "type": "path"
         },
         {
          "fillcolor": "#ecd5bb",
          "layer": "below",
          "line": {
           "color": "rgb(175,175,175)",
           "width": 0.5
          },
          "path": "M 0.9074295190605817,0.4202043168953425 Q -0.08347552579478779, 0.18174662746054937 -0.9100279502978211, -0.4145468968364693L -0.9100279502978211, -0.4145468968364693 L -0.9147469978024968, -0.4040271401914962 L -0.919344443699304, -0.3934536743242045 M -0.919344443699304,-0.3934536743242045 Q -0.08384455445426928, 0.1815766799133773 0.8957002232156938, 0.4446584196114545L 0.8957002232156938, 0.4446584196114545 L 0.9016477791550531, 0.432471134695439 L 0.9074295190605817, 0.4202043168953425 ",
          "type": "path"
         },
         {
          "fillcolor": "#ecd5bb",
          "layer": "below",
          "line": {
           "color": "rgb(175,175,175)",
           "width": 0.5
          },
          "path": "M 0.7089525414317288,0.7052561903290838 Q -0.14874332030688162, 0.13369900771540685 -0.6259544966472435, -0.779859582314083L -0.6259544966472435, -0.779859582314083 L -0.6608534082614349, -0.7505150050393697 L -0.6943783803640008, -0.7196100783640172 M -0.6943783803640008,-0.7196100783640172 Q -0.14899997918523747, 0.1334129161768035 0.638823103711531, 0.7693536522070761L 0.638823103711531, 0.7693536522070761 L 0.6746494782960503, 0.7381382536048835 L 0.7089525414317288, 0.7052561903290838 ",
          "type": "path"
         },
         {
          "fillcolor": "#ecd5bb",
          "layer": "below",
          "line": {
           "color": "rgb(175,175,175)",
           "width": 0.5
          },
          "path": "M 0.638823103711531,0.7693536522070761 Q -0.18358849439943892, 0.07934270429061004 -0.12259086896414505, -0.9924572932104514L -0.12259086896414505, -0.9924572932104514 L -0.17073934513900896, -0.9853162314818033 L -0.2184832936167329, -0.9758406890524624 M -0.2184832936167329,-0.9758406890524624 Q -0.18368960653830396, 0.07910833363055429 0.5588970612881026, 0.8292370438442332L 0.5588970612881026, 0.8292370438442332 L 0.5996081249951335, 0.8002937563418949 L 0.638823103711531, 0.7693536522070761 ",
          "type": "path"
         },
         {
          "fillcolor": "#ecd5bb",
          "layer": "below",
          "line": {
           "color": "rgb(175,175,175)",
           "width": 0.5
          },
          "path": "M 0.9525111294906565,0.3045037736981824 Q -0.15833090296169228, 0.12219380167314212 -0.05316410269656991, -0.9985857890959938L -0.05316410269656991, -0.9985857890959938 L -0.056146640525380175, -0.9984225331780697 L -0.05912867740350962, -0.9982503691502006 M -0.05912867740350962,-0.9982503691502006 Q -0.1585180882835429, 0.12195087407202501 0.9497192822217454, 0.3131026748148484L 0.9497192822217454, 0.3131026748148484 L 0.951124923491119, 0.30880637932855753 L 0.9525111294906565, 0.3045037736981824 ",
          "type": "path"
         },
         {
          "fillcolor": "#ecd5bb",
          "layer": "below",
          "line": {
           "color": "rgb(175,175,175)",
           "width": 0.5
          },
          "path": "M 0.43978278257376396,0.8981041722159393 Q -0.19893445111678892, -0.020617569179268446 0.614616273094724, -0.7888262399585549L 0.614616273094724, -0.7888262399585549 L 0.5573829653077558, -0.8302555208998812 L 0.4973671812242319, -0.867540135694633 M 0.4973671812242319,-0.867540135694633 Q -0.1989145269781083, -0.020808915326740018 0.30705299584760387, 0.9516924176124403L 0.30705299584760387, 0.9516924176124403 L 0.37437794405350794, 0.927276202113625 L 0.43978278257376396, 0.8981041722159393 ",
          "type": "path"
         },
         {
          "fillcolor": "#ecd5bb",
          "layer": "below",
          "line": {
           "color": "rgb(175,175,175)",
           "width": 0.5
          },
          "path": "M 0.7642275053277755,0.6449467575703323 Q -0.19864207589948268, -0.02326640673469288 0.8925798195184116, -0.45088941636334706L 0.8925798195184116, -0.45088941636334706 L 0.8741950281665674, -0.48557497127514154 L 0.8544630251088586, -0.5195122122932415 M 0.8544630251088586,-0.5195122122932415 Q -0.19860326970529638, -0.023595365272979285 0.7089525414317288, 0.7052561903290838L 0.7089525414317288, 0.7052561903290838 L 0.737207005841985, 0.6756669523792737 L 0.7642275053277755, 0.6449467575703323 ",
          "type": "path"
         },
         {
          "fillcolor": "#ecd5bb",
          "layer": "below",
          "line": {
           "color": "rgb(175,175,175)",
           "width": 0.5
          },
          "path": "M 0.83623810357301,0.5483665144158747 Q -0.19792722225459122, -0.02871958722860862 0.9576074350602238, -0.2880763793117706L 0.9576074350602238, -0.2880763793117706 L 0.9500545110989393, -0.31208400462144065 L 0.9418998105129248, -0.33589395194870103 M 0.9418998105129248,-0.33589395194870103 Q -0.19779586170125496, -0.029610759764957518 0.8022424347626661, 0.5969983884953706L 0.8022424347626661, 0.5969983884953706 L 0.8196010513782378, 0.5729346529750903 L 0.83623810357301, 0.5483665144158747 ",
          "type": "path"
         },
         {
          "fillcolor": "#ecd5bb",
          "layer": "below",
          "line": {
           "color": "rgb(175,175,175)",
           "width": 0.5
          },
          "path": "M 0.929989493004569,0.3675861027039852 Q -0.19914662764487434, -0.01845591226880352 0.9817027083925035, -0.19042004184124978L 0.9817027083925035, -0.19042004184124978 L 0.9803425779819043, -0.1973028884628755 L 0.9789341916467033, -0.2041760231393872 M 0.9789341916467033,-0.2041760231393872 Q -0.19911757146786535, -0.018766798681169334 0.9235472744306747, 0.38348459146577435L 0.9235472744306747, 0.38348459146577435 L 0.9268024749345464, 0.37554916116961246 L 0.929989493004569, 0.3675861027039852 ",
          "type": "path"
         },
         {
          "fillcolor": "#ecd5bb",
          "layer": "below",
          "line": {
           "color": "rgb(175,175,175)",
           "width": 0.5
          },
          "path": "M 0.9497192822217454,0.3131026748148484 Q -0.1981695746911696, -0.02699666028828293 0.9988642389276288, -0.04764695364374183L 0.9988642389276288, -0.04764695364374183 L 0.9986335469975105, -0.052259341855508255 L 0.9983815568664225, -0.05687061551432596 M 0.9983815568664225,-0.05687061551432596 Q -0.19812501025589244, -0.027321791872103197 0.9457255455215644, 0.3249664483418856L 0.9457255455215644, 0.3249664483418856 L 0.9477409778179329, 0.31904081081377106 L 0.9497192822217454, 0.3131026748148484 ",
          "type": "path"
         },
         {
          "fillcolor": "#e6c4a9",
          "layer": "below",
          "line": {
           "color": "rgb(175,175,175)",
           "width": 0.5
          },
          "path": "M -0.04755987200116491,0.9988683890159068 Q -0.06978336307922867, 0.18743073984102113 -0.6172576062256488, 0.7867611121278058L -0.6172576062256488, 0.7867611121278058 L -0.5936159723523572, 0.8047484559588577 L -0.5694504893666427, 0.8220256323011413 M -0.5694504893666427,0.8220256323011413 Q -0.06988930806603236, 0.18739126078355742 -0.10791291148051022, 0.994160351017782L -0.10791291148051022, 0.994160351017782 L -0.07777202585977099, 0.9969711690884883 L -0.04755987200116491, 0.9988683890159068 ",
          "type": "path"
         },
         {
          "fillcolor": "#e6c4a9",
          "layer": "below",
          "line": {
           "color": "rgb(175,175,175)",
           "width": 0.5
          },
          "path": "M 0.22672924021698052,0.9739578284662179 Q -0.051676262121098805, 0.19320860212006993 -0.6826702210174316, 0.7307266036870501L -0.6826702210174316, 0.7307266036870501 L -0.6789152820232265, 0.734216616425509 L -0.6751425013012251, 0.7376873341306093 M -0.6751425013012251,0.7376873341306093 Q -0.05190793611195167, 0.19314648888498476 0.21438956447014984, 0.9767482350361835L 0.21438956447014984, 0.9767482350361835 L 0.22056381515189008, 0.9753725459769937 L 0.22672924021698052, 0.9739578284662179 ",
          "type": "path"
         },
         {
          "fillcolor": "#e6c4a9",
          "layer": "below",
          "line": {
           "color": "rgb(175,175,175)",
           "width": 0.5
          },
          "path": "M 0.1989169478389488,0.9800163508138203 Q -0.07091104197955646, 0.18700701624637933 -0.7986985866515688, 0.6017313085429298L -0.7986985866515688, 0.6017313085429298 L -0.7938660358372338, 0.6080926879547853 L -0.7889828199404414, 0.6144152584684311 M -0.7889828199404414,0.6144152584684311 Q -0.07110695944494656, 0.18693260902928288 0.1811732705788187, 0.9834511914822078L 0.1811732705788187, 0.9834511914822078 L 0.1900528691359878, 0.981773857328244 L 0.1989169478389488, 0.9800163508138203 ",
          "type": "path"
         },
         {
          "fillcolor": "#e6c4a9",
          "layer": "below",
          "line": {
           "color": "rgb(175,175,175)",
           "width": 0.5
          },
          "path": "M 0.14283152298196095,0.9897470161827484 Q -0.09762042676646208, 0.17455730370836342 -0.9180563021153724, 0.3964500298224837L -0.9180563021153724, 0.3964500298224837 L -0.9126221498242418, 0.40880412381748193 L -0.9070217600778512, 0.4210837526493715 M -0.9070217600778512,0.4210837526493715 Q -0.0977686201860265, 0.174474344552202 0.11437940156485354, 0.9934371406876562L 0.11437940156485354, 0.9934371406876562 L 0.12861869685730845, 0.9916941216013776 L 0.14283152298196095, 0.9897470161827484 ",
          "type": "path"
         },
         {
          "fillcolor": "#e6c4a9",
          "layer": "below",
          "line": {
           "color": "rgb(175,175,175)",
           "width": 0.5
          },
          "path": "M 0.24451297540359698,0.9696460203905753 Q -0.10272192137052696, 0.17160479850501642 -0.9701358376146564, 0.2425622736035204L -0.9701358376146564, 0.2425622736035204 L -0.9693916959231373, 0.2455193268874439 L -0.968638540913924, 0.2484740973545219 M -0.968638540913924,0.2484740973545219 Q -0.10297391206503091, 0.17145370638753565 0.2357407469030053, 0.971815980651488L 0.2357407469030053, 0.971815980651488 L 0.24012931230739043, 0.9707409094968542 L 0.24451297540359698, 0.9696460203905753 ",
          "type": "path"
         },
         {
          "fillcolor": "#e6c4a9",
          "layer": "below",
          "line": {
           "color": "rgb(175,175,175)",
           "width": 0.5
          },
          "path": "M 0.25217232051997035,0.9676823449684164 Q -0.10932198810489534, 0.16747746987816936 -0.987346354304662, 0.15857861344233298L -0.987346354304662, 0.15857861344233298 L -0.9868323478037356, 0.16174646001742002 L -0.9863081774678393, 0.16491264069218392 M -0.9863081774678393,0.16491264069218392 Q -0.10944660498189634, 0.16739605926644974 0.24451297540359698, 0.9696460203905753L 0.24451297540359698, 0.9696460203905753 L 0.24834458883165003, 0.9686717530712036 L 0.25217232051997035, 0.9676823449684164 ",
          "type": "path"
         },
         {
          "fillcolor": "#e6c4a9",
          "layer": "below",
          "line": {
           "color": "rgb(175,175,175)",
           "width": 0.5
          },
          "path": "M 0.2595977346105003,0.9657168405827333 Q -0.119751513147687, 0.1601860639969637 -0.9997049455238021, 0.02429036630542733L -0.9997049455238021, 0.02429036630542733 L -0.9996184725354221, 0.027620813998677936 L -0.9995209044223373, 0.030950955118586632 M -0.9995209044223373,0.030950955118586632 Q -0.11983303395102984, 0.16012508852172833 0.25217232051997035, 0.9676823449684164L 0.25217232051997035, 0.9676823449684164 L 0.2558869147376118, 0.9667067222617551 L 0.2595977346105003, 0.9657168405827333 ",
          "type": "path"
         },
         {
          "fillcolor": "#e6c4a9",
          "layer": "below",
          "line": {
           "color": "rgb(175,175,175)",
           "width": 0.5
          },
          "path": "M 0.2357407469030053,0.971815980651488 Q -0.13684856661449202, 0.1458508478396987 -0.9848457047818053, -0.17343280477703504L -0.9848457047818053, -0.17343280477703504 L -0.9855450363640796, -0.16941363964605985 L -0.9862279657637315, -0.1653916550057227 M -0.9862279657637315,-0.1653916550057227 Q -0.13692901663252086, 0.14577532165648213 0.22672924021698052, 0.9739578284662179L 0.22672924021698052, 0.9739578284662179 L 0.23123747344387194, 0.9728973383020917 L 0.2357407469030053, 0.971815980651488 ",
          "type": "path"
         },
         {
          "fillcolor": "#e6c4a9",
          "layer": "below",
          "line": {
           "color": "rgb(175,175,175)",
           "width": 0.5
          },
          "path": "M 0.21438956447014984,0.9767482350361835 Q -0.15290371314467743, 0.12892034170979458 -0.9264755796834477, -0.3763548860453647L -0.9264755796834477, -0.3763548860453647 L -0.9290496752483408, -0.3699549985078625 L -0.9315795624225118, -0.3635375068362016 M -0.9315795624225118,-0.3635375068362016 Q -0.15303370462792432, 0.12876600967589708 0.1989169478389488, 0.9800163508138203L 0.1989169478389488, 0.9800163508138203 L 0.2066597165014552, 0.978412878888835 L 0.21438956447014984, 0.9767482350361835 ",
          "type": "path"
         },
         {
          "fillcolor": "#e6c4a9",
          "layer": "below",
          "line": {
           "color": "rgb(175,175,175)",
           "width": 0.5
          },
          "path": "M 0.16247882363131608,0.9867120308739443 Q -0.16801507470012694, 0.10849393841828568 -0.8324673505944408, -0.5540741017176967L -0.8324673505944408, -0.5540741017176967 L -0.8378503410942205, -0.5458999962706524 L -0.8431530717426595, -0.5376735976509519 M -0.8431530717426595,-0.5376735976509519 Q -0.16803166377866707, 0.10846824405222476 0.14283152298196095, 0.9897470161827484L 0.14283152298196095, 0.9897470161827484 L 0.15266271555699515, 0.9882783490893464 L 0.16247882363131608, 0.9867120308739443 ",
          "type": "path"
         },
         {
          "fillcolor": "#e6c4a9",
          "layer": "below",
          "line": {
           "color": "rgb(175,175,175)",
           "width": 0.5
          },
          "path": "M 0.08560804483897044,0.9963288928154441 Q -0.19326911222845242, 0.05144949230484082 -0.4210770794915316, -0.9070248580534507L -0.4210770794915316, -0.9070248580534507 L -0.437297111515396, -0.8993170943890099 L -0.4533761156320484, -0.8913193018073801 M -0.4533761156320484,-0.8913193018073801 Q -0.19326920830239694, 0.051449131403403695 0.04977165057269895, 0.9987606233724221L 0.04977165057269895, 0.9987606233724221 L 0.06770076669295946, 0.9977056711220927 L 0.08560804483897044, 0.9963288928154441 ",
          "type": "path"
         },
         {
          "fillcolor": "#e6c4a9",
          "layer": "below",
          "line": {
           "color": "rgb(175,175,175)",
           "width": 0.5
          },
          "path": "M 0.2663546275865841,0.9638751020558691 Q -0.19721025892130553, 0.033288342947518916 -0.06478542917416603, -0.9978992174396767L -0.06478542917416603, -0.9978992174396767 L -0.06715454146889543, -0.9977425858206627 L -0.06952327519826124, -0.9975803297006747 M -0.06952327519826124,-0.9975803297006747 Q -0.19724766358473533, 0.033065982676507316 0.2595977346105003, 0.9657168405827333L 0.2595977346105003, 0.9657168405827333 L 0.2629777934073019, 0.9648018864899811 L 0.2663546275865841, 0.9638751020558691 ",
          "type": "path"
         },
         {
          "fillcolor": "#e6c4a9",
          "layer": "below",
          "line": {
           "color": "rgb(175,175,175)",
           "width": 0.5
          },
          "path": "M 0.012741560094879466,0.9999188230283239 Q -0.19724403162506854, -0.0330876410203109 0.33833458836512964, -0.9410258797269065L 0.33833458836512964, -0.9410258797269065 L 0.30945017791488594, -0.950915657347404 L 0.2802773237338666, -0.959919070443223 M 0.2802773237338666,-0.959919070443223 Q -0.19725632369268456, -0.03301428120142642 -0.04755987200116491, 0.9988683890159068L -0.04755987200116491, 0.9988683890159068 L -0.01741707678987663, 0.9998483112133038 L 0.012741560094879466, 0.9999188230283239 ",
          "type": "path"
         },
         {
          "fillcolor": "#e6c4a9",
          "layer": "below",
          "line": {
           "color": "rgb(175,175,175)",
           "width": 0.5
          },
          "path": "M 0.04977165057269895,0.9987606233724221 Q -0.1767142538740208, -0.093659342714692 0.8544630251088586, -0.5195122122932415L 0.8544630251088586, -0.5195122122932415 L 0.8448458283585742, -0.5350098375778847 L 0.8349475793970222, -0.550329482818296 M 0.8349475793970222,-0.550329482818296 Q -0.1766874836255482, -0.0937098347563992 0.012741560094879466, 0.9999188230283239L 0.012741560094879466, 0.9999188230283239 L 0.031261969445365925, 0.9995112251827876 L 0.04977165057269895, 0.9987606233724221 ",
          "type": "path"
         },
         {
          "fillcolor": "#e6c4a9",
          "layer": "below",
          "line": {
           "color": "rgb(175,175,175)",
           "width": 0.5
          },
          "path": "M 0.1811732705788187,0.9834511914822078 Q -0.17326178900633651, -0.09990171405097976 0.9418998105129248, -0.33589395194870103L 0.9418998105129248, -0.33589395194870103 L 0.9390937876241396, -0.3436609638084421 L 0.9362237183158333, -0.3514045379087686 M 0.9362237183158333,-0.3514045379087686 Q -0.1731387659460454, -0.10011477276945949 0.16247882363131608, 0.9867120308739443L 0.16247882363131608, 0.9867120308739443 L 0.17183378227850749, 0.9851259570571991 L 0.1811732705788187, 0.9834511914822078 ",
          "type": "path"
         },
         {
          "fillcolor": "#e6c4a9",
          "layer": "below",
          "line": {
           "color": "rgb(175,175,175)",
           "width": 0.5
          },
          "path": "M 0.277008102483526,0.9608675825307441 Q -0.17364240631005368, -0.09923867557990804 0.9684905011021884, -0.24905049543181423L 0.9684905011021884, -0.24905049543181423 L 0.9680640649995809, -0.2507029438528541 L 0.9676348094747276, -0.25235466211823326 M 0.9676348094747276,-0.25235466211823326 Q -0.1736099793830953, -0.09929539293744309 0.27309845650650594, 0.9619860877651839L 0.27309845650650594, 0.9619860877651839 L 0.275053848045166, 0.9614288224697378 L 0.277008102483526, 0.9608675825307441 ",
          "type": "path"
         },
         {
          "fillcolor": "#e6c4a9",
          "layer": "below",
          "line": {
           "color": "rgb(175,175,175)",
           "width": 0.5
          },
          "path": "M 0.27309845650650594,0.9619860877651839 Q -0.16469952751911648, -0.11346393980018406 0.9961577795518464, -0.08757669917469485L 0.9961577795518464, -0.08757669917469485 L 0.9959220987403119, -0.09021736662468327 L 0.9956794179209733, -0.09285739996657191 M 0.9956794179209733,-0.09285739996657191 Q -0.1646029620891064, -0.11360398263921999 0.2663546275865841, 0.9638751020558691L 0.2663546275865841, 0.9638751020558691 L 0.26972819574181395, 0.9629364986445709 L 0.27309845650650594, 0.9619860877651839 ",
          "type": "path"
         },
         {
          "fillcolor": "#e1b396",
          "layer": "below",
          "line": {
           "color": "rgb(175,175,175)",
           "width": 0.5
          },
          "path": "M -0.3462257775068245,0.9381512196814514 Q -0.10742637022465598, 0.16869965909970047 -0.7036498263461006, 0.71054691743973L -0.7036498263461006, 0.71054691743973 L -0.6979686301034249, 0.7161283344426111 L -0.6922431629623428, 0.7216643287096095 M -0.6922431629623428,0.7216643287096095 Q -0.10770957542040822, 0.1685189822030604 -0.36425504860112407, 0.931299232024054L -0.36425504860112407, 0.931299232024054 L -0.355256933078684, 0.9347686941161045 L -0.3462257775068245, 0.9381512196814514 ",
          "type": "path"
         },
         {
          "fillcolor": "#e1b396",
          "layer": "below",
          "line": {
           "color": "rgb(175,175,175)",
           "width": 0.5
          },
          "path": "M -0.36425504860112407,0.931299232024054 Q -0.12234953881027517, 0.158210588624507 -0.8097367182757285, 0.5867933597750179L -0.8097367182757285, 0.5867933597750179 L -0.8042523348505056, 0.5942879620920402 L -0.7986985866515688, 0.6017313085429298 M -0.7986985866515688,0.6017313085429298 Q -0.12251116013951008, 0.1580854694185121 -0.38337770376419866, 0.9235916501660734L -0.38337770376419866, 0.9235916501660734 L -0.37383624062798065, 0.9274947251565038 L -0.36425504860112407, 0.931299232024054 ",
          "type": "path"
         },
         {
          "fillcolor": "#e1b396",
          "layer": "below",
          "line": {
           "color": "rgb(175,175,175)",
           "width": 0.5
          },
          "path": "M -0.4532248953093184,0.8913962049907198 Q -0.15020362886572813, 0.1320563132741733 -0.9420956238285502, 0.3353443537068946L -0.9420956238285502, 0.3353443537068946 L -0.9358463603242675, 0.352408271565554 L -0.9292880517270424, 0.36935581343381857 M -0.9292880517270424,0.36935581343381857 Q -0.15030693919830818, 0.13193871315438885 -0.4866842814291092, 0.8735779359678401L -0.4866842814291092, 0.8735779359678401 L -0.47003902796153035, 0.8826456322856754 L -0.4532248953093184, 0.8913962049907198 ",
          "type": "path"
         },
         {
          "fillcolor": "#e1b396",
          "layer": "below",
          "line": {
           "color": "rgb(175,175,175)",
           "width": 0.5
          },
          "path": "M -0.2724618977185477,0.962166573048351 Q -0.14218434689505638, 0.1406542267335976 -0.9650581369047708, 0.2620358608929181L -0.9650581369047708, 0.2620358608929181 L -0.9648180293922533, 0.26291856183930634 L -0.9645771145078731, 0.26380104277213456 M -0.9645771145078731,0.26380104277213456 Q -0.14224276414720147, 0.14059514944607307 -0.27502065368464984, 0.9614383183787029L -0.27502065368464984, 0.9614383183787029 L -0.2737415178803805, 0.9618032966197118 L -0.2724618977185477, 0.962166573048351 ",
          "type": "path"
         },
         {
          "fillcolor": "#e1b396",
          "layer": "below",
          "line": {
           "color": "rgb(175,175,175)",
           "width": 0.5
          },
          "path": "M -0.29901765378435374,0.9542475793657013 Q -0.1540747751902998, 0.12751848356241766 -0.9933252146466396, 0.11534737945531026L -0.9933252146466396, 0.11534737945531026 L -0.9928298554861186, 0.11953609519895166 L -0.9923168331673541, 0.12372268430935969 M -0.9923168331673541,0.12372268430935969 Q -0.15418707735491594, 0.12738267219975083 -0.30873344959001425, 0.951148598855221L -0.30873344959001425, 0.951148598855221 L -0.30387950216038195, 0.9527104744710002 L -0.29901765378435374, 0.9542475793657013 ",
          "type": "path"
         },
         {
          "fillcolor": "#e1b396",
          "layer": "below",
          "line": {
           "color": "rgb(175,175,175)",
           "width": 0.5
          },
          "path": "M -0.28481102795236457,0.9585836835439655 Q -0.15843014206151712, 0.12206510593272553 -0.9995209044223373, 0.030950955118586632L -0.9995209044223373, 0.030950955118586632 L -0.9994289177276342, 0.033791099564379715 L -0.9993288607623281, 0.036630971151030325 M -0.9993288607623281,0.036630971151030325 Q -0.15847565940054087, 0.12200600549794163 -0.29096806158605104, 0.9567327668355757L -0.29096806158605104, 0.9567327668355757 L -0.28789103226843843, 0.9576631733231747 L -0.28481102795236457, 0.9585836835439655 ",
          "type": "path"
         },
         {
          "fillcolor": "#e1b396",
          "layer": "below",
          "line": {
           "color": "rgb(175,175,175)",
           "width": 0.5
          },
          "path": "M -0.27906802927364693,0.9602713340703881 Q -0.1683304218521855, 0.10800402343924637 -0.9892074912930673, -0.14652146317067774L -0.9892074912930673, -0.14652146317067774 L -0.989597556330754, -0.14386339528942121 L -0.989980478972229, -0.1412042890776202 M -0.989980478972229,-0.1412042890776202 Q -0.16836350468109693, 0.10795244458324352 -0.28481102795236457, 0.9585836835439655L -0.28481102795236457, 0.9585836835439655 L -0.2819407913651351, 0.959431805895761 L -0.27906802927364693, 0.9602713340703881 ",
          "type": "path"
         },
         {
          "fillcolor": "#e1b396",
          "layer": "below",
          "line": {
           "color": "rgb(175,175,175)",
           "width": 0.5
          },
          "path": "M -0.31946773433803205,0.9475971542364005 Q -0.1806355087358376, 0.0858534389744822 -0.9365062321740996, -0.35065093340681625L -0.9365062321740996, -0.35065093340681625 L -0.9386311481925314, -0.34492255310833225 L -0.9407210254772722, -0.3391812969858294 M -0.9407210254772722,-0.3391812969858294 Q -0.18070094756493882, 0.08571562021669821 -0.3324621216176964, 0.9431166087443589L -0.3324621216176964, 0.9431166087443589 L -0.32597262629489415, 0.9453792079934957 L -0.31946773433803205, 0.9475971542364005 ",
          "type": "path"
         },
         {
          "fillcolor": "#e1b396",
          "layer": "below",
          "line": {
           "color": "rgb(175,175,175)",
           "width": 0.5
          },
          "path": "M -0.3324621216176964,0.9431166087443589 Q -0.18852863023196562, 0.06676043426205967 -0.8518888990895614, -0.5237225444908544L -0.8518888990895614, -0.5237225444908544 L -0.8557103277632845, -0.517455152606728 L -0.8594856477540411, -0.5111598784185006 M -0.8594856477540411,-0.5111598784185006 Q -0.18852699276443885, 0.06676505822057845 -0.3462257775068245, 0.9381512196814514L -0.3462257775068245, 0.9381512196814514 L -0.33935303133558503, 0.9406590881522112 L -0.3324621216176964, 0.9431166087443589 ",
          "type": "path"
         },
         {
          "fillcolor": "#e1b396",
          "layer": "below",
          "line": {
           "color": "rgb(175,175,175)",
           "width": 0.5
          },
          "path": "M -0.38337770376419866,0.9235916501660734 Q -0.19971065606478133, 0.010754248191976241 -0.4803423907298694, -0.8770810610587333L -0.4803423907298694, -0.8770810610587333 L -0.4908084218256703, -0.8712675209515128 L -0.5012041028691004, -0.8653290976658419 M -0.5012041028691004,-0.8653290976658419 Q -0.19970825995151106, 0.01079865302432153 -0.40497422945908335, 0.9143280994664998L -0.40497422945908335, 0.9143280994664998 L -0.39420317857307097, 0.9190233152662056 L -0.38337770376419866, 0.9235916501660734 ",
          "type": "path"
         },
         {
          "fillcolor": "#e1b396",
          "layer": "below",
          "line": {
           "color": "rgb(175,175,175)",
           "width": 0.5
          },
          "path": "M -0.27502065368464984,0.9614383183787029 Q -0.19898708108044516, -0.0201032724471502 -0.07716161298975024, -0.9970185983625481L -0.07716161298975024, -0.9970185983625481 L -0.07861239914627786, -0.9969052566319762 L -0.08006301883108068, -0.996789803828096 M -0.08006301883108068,-0.996789803828096 Q -0.19897395324979875, -0.020232793384673955 -0.27906802927364693, 0.9602713340703881L -0.27906802927364693, 0.9602713340703881 L -0.27704495593442763, 0.9608569572997279 L -0.27502065368464984, 0.9614383183787029 ",
          "type": "path"
         },
         {
          "fillcolor": "#e1b396",
          "layer": "below",
          "line": {
           "color": "rgb(175,175,175)",
           "width": 0.5
          },
          "path": "M -0.4866842814291092,0.8735779359678401 Q -0.18450786174858066, -0.07718062550256154 0.2802773237338666, -0.959919070443223L 0.2802773237338666, -0.959919070443223 L 0.2609027140305925, -0.9653650987121251 L 0.24142242966827449, -0.9704201205936875 M 0.24142242966827449,-0.9704201205936875 Q -0.18455540106638785, -0.07706687963856283 -0.5203911814427881, 0.8539279936133838L -0.5203911814427881, 0.8539279936133838 L -0.5036335741769952, 0.8639173704479527 L -0.4866842814291092, 0.8735779359678401 ",
          "type": "path"
         },
         {
          "fillcolor": "#e1b396",
          "layer": "below",
          "line": {
           "color": "rgb(175,175,175)",
           "width": 0.5
          },
          "path": "M -0.40497422945908335,0.9143280994664998 Q -0.16088395869279137, -0.11881225456717921 0.7547321403568662, -0.6560330756237398L 0.7547321403568662, -0.6560330756237398 L 0.7463541130255607, -0.6655490500104622 L 0.7378561129198906, -0.6749580406416014 M 0.7378561129198906,-0.6749580406416014 Q -0.16088892927121917, -0.11880552360038082 -0.4279507589915333, 0.9038020512692868L -0.4279507589915333, 0.9038020512692868 L -0.416495748500543, 0.9091376636576951 L -0.40497422945908335, 0.9143280994664998 ",
          "type": "path"
         },
         {
          "fillcolor": "#e1b396",
          "layer": "below",
          "line": {
           "color": "rgb(175,175,175)",
           "width": 0.5
          },
          "path": "M -0.29096806158605104,0.9567327668355757 Q -0.1486954809169216, -0.1337522110280253 0.9206896098116475, -0.39029558335302267L 0.9206896098116475, -0.39029558335302267 L 0.9192250719381133, -0.39373248166790925 L 0.9177477043104463, -0.39716388460295027 M 0.9177477043104463,-0.39716388460295027 Q -0.14863175368574225, -0.13382302416363506 -0.29901765378435374, 0.9542475793657013L -0.29901765378435374, 0.9542475793657013 L -0.29499547475253274, 0.9554986498554185 L -0.29096806158605104, 0.9567327668355757 ",
          "type": "path"
         },
         {
          "fillcolor": "#e1b396",
          "layer": "below",
          "line": {
           "color": "rgb(175,175,175)",
           "width": 0.5
          },
          "path": "M -0.30873344959001425,0.951148598855221 Q -0.13356436713586153, -0.14886423288216952 0.9789341916467033, -0.2041760231393872L 0.9789341916467033, -0.2041760231393872 L 0.977935494014565, -0.20890708352396442 L 0.97691393192852, -0.21363325959213095 M 0.97691393192852,-0.21363325959213095 Q -0.13344255605789984, -0.14897343465441837 -0.31946773433803205, 0.9475971542364005L -0.31946773433803205, 0.9475971542364005 L -0.31410561131866127, 0.9493880476065254 L -0.30873344959001425, 0.951148598855221 ",
          "type": "path"
         },
         {
          "fillcolor": "#e1b396",
          "layer": "below",
          "line": {
           "color": "rgb(175,175,175)",
           "width": 0.5
          },
          "path": "M -0.2703281272486332,0.9627682502130234 Q -0.1288284926593116, -0.15298110824258565 0.9947268040964302, -0.10256015411504626L 0.9947268040964302, -0.10256015411504626 L 0.994638729417804, -0.10341082120424655 L 0.9945499272687205, -0.10426141265963525 M 0.9945499272687205,-0.10426141265963525 Q -0.12878974225926706, -0.15301373235364057 -0.2724618977185477, 0.962166573048351L -0.2724618977185477, 0.962166573048351 L -0.2713951792217777, 0.9624680029461651 L -0.2703281272486332, 0.9627682502130234 ",
          "type": "path"
         },
         {
          "fillcolor": "#dba284",
          "layer": "below",
          "line": {
           "color": "rgb(175,175,175)",
           "width": 0.5
          },
          "path": "M -0.7036498263461006,0.71054691743973 Q -0.15312320359619222, 0.1286595683205842 -0.8211799392846683, 0.5706693502514645L -0.8211799392846683, 0.5706693502514645 L -0.8154981801928027, 0.578759637589066 L -0.8097367182757285, 0.5867933597750179 M -0.8097367182757285,0.5867933597750179 Q -0.1530172090548375, 0.12878561151412898 -0.7164125067786103, 0.6976769453917677L -0.7164125067786103, 0.6976769453917677 L -0.7100603259829604, 0.7041408477463668 L -0.7036498263461006, 0.71054691743973 ",
          "type": "path"
         },
         {
          "fillcolor": "#dba284",
          "layer": "below",
          "line": {
           "color": "rgb(175,175,175)",
           "width": 0.5
          },
          "path": "M -0.6514424668061753,0.7586980377208611 Q -0.15439032949840914, 0.12713625036696913 -0.8695681448914316, 0.493812961950245L -0.8695681448914316, 0.493812961950245 L -0.8675668787054809, 0.4973205314213655 L -0.8655514641434902, 0.5008199905345837 M -0.8655514641434902,0.5008199905345837 Q -0.15431914523971588, 0.1272226450459331 -0.6567050992699034, 0.754147474034692L -0.6567050992699034, 0.754147474034692 L -0.6540777404599223, 0.7564273325540548 L -0.6514424668061753, 0.7586980377208611 ",
          "type": "path"
         },
         {
          "fillcolor": "#dba284",
          "layer": "below",
          "line": {
           "color": "rgb(175,175,175)",
           "width": 0.5
          },
          "path": "M -0.6418062032908646,0.7668668707261812 Q -0.16808386286121182, 0.10838733803195527 -0.9633604365876882, 0.26821012139287115L -0.9633604365876882, 0.26821012139287115 L -0.963319533421878, 0.2683569945573531 L -0.9632786078639024, 0.2685038614839313 M -0.9632786078639024,0.2685038614839313 Q -0.16808718189585115, 0.10838219079863193 -0.6420869641209885, 0.7666318089577894L -0.6420869641209885, 0.7666318089577894 L -0.641946594465006, 0.7667493526927696 L -0.6418062032908646, 0.7668668707261812 ",
          "type": "path"
         },
         {
          "fillcolor": "#dba284",
          "layer": "below",
          "line": {
           "color": "rgb(175,175,175)",
           "width": 0.5
          },
          "path": "M -0.668769783150521,0.7434695536098335 Q -0.17807623542653295, 0.09104314568551562 -0.9942825076514723, 0.10678152920004438L -0.9942825076514723, 0.10678152920004438 L -0.9938130900136207, 0.11106548571711622 L -0.9933252146466396, 0.11534737945531026 M -0.9933252146466396,0.11534737945531026 Q -0.1780755889600127, 0.09104441013343222 -0.6751425013012251, 0.7376873341306093L -0.6751425013012251, 0.7376873341306093 L -0.6719623617365814, 0.7405852985371744 L -0.668769783150521, 0.7434695536098335 ",
          "type": "path"
         },
         {
          "fillcolor": "#dba284",
          "layer": "below",
          "line": {
           "color": "rgb(175,175,175)",
           "width": 0.5
          },
          "path": "M -0.6420869641209885,0.7666318089577894 Q -0.1790615975784211, 0.089089529534416 -0.9987617550569671, 0.04974893602406839L -0.9987617550569671, 0.04974893602406839 L -0.9987421792644453, 0.050140396469378866 L -0.9987224500406638, 0.05053184921189598 M -0.9987224500406638,0.05053184921189598 Q -0.17905930085163013, 0.08909414559063585 -0.6426482274692354, 0.7661613770809971L -0.6426482274692354, 0.7661613770809971 L -0.6423676388596564, 0.7663966443988843 L -0.6420869641209885, 0.7666318089577894 ",
          "type": "path"
         },
         {
          "fillcolor": "#dba284",
          "layer": "below",
          "line": {
           "color": "rgb(175,175,175)",
           "width": 0.5
          },
          "path": "M -0.6440498772644473,0.7649835002113774 Q -0.18631811917728305, 0.0727018463743511 -0.991952464508339, -0.12661085323080562L -0.991952464508339, -0.12661085323080562 L -0.992077952969532, -0.12562378449872832 L -0.9922024592219282, -0.1246365913925679 M -0.9922024592219282,-0.1246365913925679 Q -0.18631233239952114, 0.07271667481293652 -0.6454493681941216, 0.7638030591047729L -0.6454493681941216, 0.7638030591047729 L -0.6447498928808412, 0.764393599940596 L -0.6440498772644473, 0.7649835002113774 ",
          "type": "path"
         },
         {
          "fillcolor": "#dba284",
          "layer": "below",
          "line": {
           "color": "rgb(175,175,175)",
           "width": 0.5
          },
          "path": "M -0.6416657906032701,0.7669843630540849 Q -0.1920190204566705, 0.05593474575664725 -0.9531780611810251, -0.3024096289524887L -0.9531780611810251, -0.3024096289524887 L -0.9532078575859503, -0.3023156963116583 L -0.9532376447341149, -0.3022217607349897 M -0.9532376447341149,-0.3022217607349897 Q -0.19201862875882258, 0.0559360904030794 -0.6418062032908646, 0.7668668707261812L -0.6418062032908646, 0.7668668707261812 L -0.641735999635955, 0.7669256201035676 L -0.6416657906032701, 0.7669843630540849 ",
          "type": "path"
         },
         {
          "fillcolor": "#dba284",
          "layer": "below",
          "line": {
           "color": "rgb(175,175,175)",
           "width": 0.5
          },
          "path": "M -0.6454493681941216,0.7638030591047729 Q -0.1964296102640293, 0.037621911322014916 -0.8819980730289423, -0.47125300972326173L -0.8819980730289423, -0.47125300972326173 L -0.882730785740266, -0.46987909073119305 L -0.8834613582519847, -0.4685040325072542 M -0.8834613582519847,-0.4685040325072542 Q -0.19641923828979102, 0.03767602459998005 -0.6474050196710582, 0.7621461411728834L -0.6474050196710582, 0.7621461411728834 L -0.6464277248075151, 0.7629752267276962 L -0.6454493681941216, 0.7638030591047729 ",
          "type": "path"
         },
         {
          "fillcolor": "#dba284",
          "layer": "below",
          "line": {
           "color": "rgb(175,175,175)",
           "width": 0.5
          },
          "path": "M -0.6432091461506521,0.7656905342944689 Q -0.19992410861885287, -0.005509155376019134 -0.6000659761972308, -0.7999505136009755L -0.6000659761972308, -0.7999505136009755 L -0.6006079482302158, -0.7995436776828958 L -0.6011496444345118, -0.7991364745750628 M -0.6011496444345118,-0.7991364745750628 Q -0.19992481447697408, -0.005483480313404274 -0.6440498772644473, 0.7649835002113774L -0.6440498772644473, 0.7649835002113774 L -0.6436296087931299, 0.7653371326969589 L -0.6432091461506521, 0.7656905342944689 ",
          "type": "path"
         },
         {
          "fillcolor": "#dba284",
          "layer": "below",
          "line": {
           "color": "rgb(175,175,175)",
           "width": 0.5
          },
          "path": "M -0.6626218347106825,0.7489541402279909 Q -0.18551911430546975, -0.07471718829903906 0.041417867005598547, -0.9991419119888358L 0.041417867005598547, -0.9991419119888358 L 0.03627595212701519, -0.9993418110422873 L 0.03113307668849083, -0.9995152482758373 M 0.03113307668849083,-0.9995152482758373 Q -0.18559570547381143, -0.07452673419436978 -0.668769783150521, 0.7434695536098335L -0.668769783150521, 0.7434695536098335 L -0.6657014572617077, 0.7462181784167675 L -0.6626218347106825, 0.7489541402279909 ",
          "type": "path"
         },
         {
          "fillcolor": "#dba284",
          "layer": "below",
          "line": {
           "color": "rgb(175,175,175)",
           "width": 0.5
          },
          "path": "M -0.6474050196710582,0.7621461411728834 Q -0.15199378019366164, -0.12999188737163897 0.652506531977944, -0.7577830993933002L 0.652506531977944, -0.7577830993933002 L 0.6500590937249625, -0.7598836586382683 L 0.6476048933602269, -0.7619763133430653 M 0.6476048933602269,-0.7619763133430653 Q -0.15206791933059538, -0.1299051496687623 -0.6514424668061753, 0.7586980377208611L -0.6514424668061753, 0.7586980377208611 L -0.6494260316898383, 0.7604247690360889 L -0.6474050196710582, 0.7621461411728834 ",
          "type": "path"
         },
         {
          "fillcolor": "#dba284",
          "layer": "below",
          "line": {
           "color": "rgb(175,175,175)",
           "width": 0.5
          },
          "path": "M -0.6567050992699034,0.754147474034692 Q -0.10267109291200333, -0.17163521398668394 0.9750554721263032, -0.22196131707248465L 0.9750554721263032, -0.22196131707248465 L 0.9741424701165624, -0.22593460982151958 L 0.9732132772472658, -0.22990414739546694 M 0.9732132772472658,-0.22990414739546694 Q -0.10269520881842945, -0.17162078570423567 -0.6626218347106825, 0.7489541402279909L -0.6626218347106825, 0.7489541402279909 L -0.6596685776665887, 0.7515566296955538 L -0.6567050992699034, 0.754147474034692 ",
          "type": "path"
         },
         {
          "fillcolor": "#dba284",
          "layer": "below",
          "line": {
           "color": "rgb(175,175,175)",
           "width": 0.5
          },
          "path": "M -0.6426482274692354,0.7661613770809971 Q -0.09418858108026341, -0.1764327384418398 0.9941874452747784, -0.10766300970161269L 0.9941874452747784, -0.10766300970161269 L 0.9941505571212543, -0.10800310076798576 L 0.9941135526295783, -0.1083431791955477 M 0.9941135526295783,-0.1083431791955477 Q -0.09418433175446314, -0.17643500687778838 -0.6432091461506521, 0.7656905342944689L -0.6432091461506521, 0.7656905342944689 L -0.642928729912104, 0.7659260070356724 L -0.6426482274692354, 0.7661613770809971 ",
          "type": "path"
         },
         {
          "fillcolor": "#d59171",
          "layer": "below",
          "line": {
           "color": "rgb(175,175,175)",
           "width": 0.5
          },
          "path": "M -0.7472028153838208,0.6645960823556604 Q -0.16305799206103214, 0.11581058338953476 -0.8736315428401622, 0.48658804686790025L -0.8736315428401622, 0.48658804686790025 L -0.8716073299808625, 0.4902047147097137 L -0.8695681448914316, 0.493812961950245 M -0.8695681448914316,0.493812961950245 Q -0.16302902720471882, 0.11585135428074655 -0.7523566932945408, 0.658755953335455L -0.7523566932945408, 0.658755953335455 L -0.7497854405052592, 0.66168103585212 L -0.7472028153838208, 0.6645960823556604 ",
          "type": "path"
         },
         {
          "fillcolor": "#d59171",
          "layer": "below",
          "line": {
           "color": "rgb(175,175,175)",
           "width": 0.5
          },
          "path": "M -0.7721320630459733,0.6354620973876955 Q -0.18483488447362484, 0.07639414559782547 -0.995467269448541, 0.0951047604311473L -0.995467269448541, 0.0951047604311473 L -0.9948920195677563, 0.1009448829827013 L -0.9942825076514723, 0.10678152920004438 M -0.9942825076514723,0.10678152920004438 Q -0.18487478677517452, 0.07629753085673066 -0.780191300871602, 0.6255409930965974L -0.780191300871602, 0.6255409930965974 L -0.7761775335699191, 0.6305144220248392 L -0.7721320630459733, 0.6354620973876955 ",
          "type": "path"
         },
         {
          "fillcolor": "#d59171",
          "layer": "below",
          "line": {
           "color": "rgb(175,175,175)",
           "width": 0.5
          },
          "path": "M -0.7394543287718517,0.6732067257986735 Q -0.18474709731280634, 0.07660620101853682 -0.9988666791988626, 0.04759576857491029L -0.9988666791988626, 0.04759576857491029 L -0.998838523854663, 0.04818301841767427 L -0.9988100232568322, 0.04877025160573171 M -0.9988100232568322,0.04877025160573171 Q -0.18474795805638766, 0.07660412517609755 -0.7402605154354785, 0.6723201389867773L -0.7402605154354785, 0.6723201389867773 L -0.7398575549056212, 0.672763553151533 L -0.7394543287718517, 0.6732067257986735 ",
          "type": "path"
         },
         {
          "fillcolor": "#d59171",
          "layer": "below",
          "line": {
           "color": "rgb(175,175,175)",
           "width": 0.5
          },
          "path": "M -0.7437416926566113,0.66846712305414 Q -0.19134681507725337, 0.05819275178053879 -0.989980478972229, -0.1412042890776202L -0.989980478972229, -0.1412042890776202 L -0.9903424662181771, -0.1386427048383674 L -0.9906978253509898, -0.1360801926983485 M -0.9906978253509898,-0.1360801926983485 Q -0.19134735782081835, 0.058190967125420046 -0.7472028153838208, 0.6645960823556604L -0.7472028153838208, 0.6645960823556604 L -0.7454747666775879, 0.6665338492882382 L -0.7437416926566113, 0.66846712305414 ",
          "type": "path"
         },
         {
          "fillcolor": "#d59171",
          "layer": "below",
          "line": {
           "color": "rgb(175,175,175)",
           "width": 0.5
          },
          "path": "M -0.7402605154354785,0.6723201389867773 Q -0.19547231308896768, 0.042315184220898805 -0.9520389414014382, -0.3059768848381017L -0.9520389414014382, -0.3059768848381017 L -0.952309940050888, -0.3051323943475589 L -0.9525801896090947, -0.30428766383851485 M -0.9525801896090947,-0.30428766383851485 Q -0.19547281381195875, 0.042312871096574334 -0.7414678019554498, 0.6709884489790818L -0.7414678019554498, 0.6709884489790818 L -0.74086445790651, 0.6716545652423521 L -0.7402605154354785, 0.6723201389867773 ",
          "type": "path"
         },
         {
          "fillcolor": "#d59171",
          "layer": "below",
          "line": {
           "color": "rgb(175,175,175)",
           "width": 0.5
          },
          "path": "M -0.7414678019554498,0.6709884489790818 Q -0.19859162284876594, 0.023693191728712145 -0.878515082481281, -0.47771461130355664L -0.878515082481281, -0.47771461130355664 L -0.8794167501620903, -0.47605270667684235 L -0.8803152739881741, -0.47438910019426656 M -0.8803152739881741,-0.47438910019426656 Q -0.19858704333176105, 0.023731544845400684 -0.7437416926566113, 0.66846712305414L -0.7437416926566113, 0.66846712305414 L -0.7426058173705338, 0.6697287510682526 L -0.7414678019554498, 0.6709884489790818 ",
          "type": "path"
         },
         {
          "fillcolor": "#d59171",
          "layer": "below",
          "line": {
           "color": "rgb(175,175,175)",
           "width": 0.5
          },
          "path": "M -0.7582467368839039,0.6519677031915859 Q -0.1981786373461671, -0.026930051979459357 -0.5567753496262683, -0.830663114655121L -0.5567753496262683, -0.830663114655121 L -0.5614574725980945, -0.8275055930105608 L -0.5661216894455483, -0.8243216803768527 M -0.5661216894455483,-0.8243216803768527 Q -0.19819621586819403, -0.026800373421432717 -0.7647193777345861, 0.6443634636734359L -0.7647193777345861, 0.6443634636734359 L -0.7614925493290773, 0.6481736629301617 L -0.7582467368839039, 0.6519677031915859 ",
          "type": "path"
         },
         {
          "fillcolor": "#d59171",
          "layer": "below",
          "line": {
           "color": "rgb(175,175,175)",
           "width": 0.5
          },
          "path": "M -0.780191300871602,0.6255409930965974 Q -0.17708307999026854, -0.09296011392613587 0.071785344840925, -0.9974201042018701L 0.071785344840925, -0.9974201042018701 L 0.06368507748068561, -0.9979700450946807 L 0.05558061220607758, -0.9984542030292615 M 0.05558061220607758,-0.9984542030292615 Q -0.1771786301488274, -0.09277786922852366 -0.7889828199404414, 0.6144152584684311L -0.7889828199404414, 0.6144152584684311 L -0.784606781037047, 0.6199937089605696 L -0.780191300871602, 0.6255409930965974 ",
          "type": "path"
         },
         {
          "fillcolor": "#d59171",
          "layer": "below",
          "line": {
           "color": "rgb(175,175,175)",
           "width": 0.5
          },
          "path": "M -0.7647193777345861,0.6443634636734359 Q -0.1375144412809176, -0.1452232021379403 0.6850749157947311, -0.7284726211388058L 0.6850749157947311, -0.7284726211388058 L 0.680361666213131, -0.73287652653615 L 0.6756201073919545, -0.7372499375976127 M 0.6756201073919545,-0.7372499375976127 Q -0.13761006099038217, -0.14513259838583234 -0.7721320630459733, 0.6354620973876955L -0.7721320630459733, 0.6354620973876955 L -0.7684386093486966, 0.6399235139157189 L -0.7647193777345861, 0.6443634636734359 ",
          "type": "path"
         },
         {
          "fillcolor": "#d59171",
          "layer": "below",
          "line": {
           "color": "rgb(175,175,175)",
           "width": 0.5
          },
          "path": "M -0.7381083252681081,0.6746822216198591 Q -0.11073459024598303, -0.16654684182852056 0.907709812881767, -0.41959849332206556L 0.907709812881767, -0.41959849332206556 L 0.9075034414140809, -0.4200446450338343 L 0.9072968506567798, -0.42049069524579136 M 0.9072968506567798,-0.42049069524579136 Q -0.11073330267497568, -0.16654769790871393 -0.7387816953778579, 0.6739448097393569L -0.7387816953778579, 0.6739448097393569 L -0.7384451023705018, 0.6743135997331058 L -0.7381083252681081, 0.6746822216198591 ",
          "type": "path"
         },
         {
          "fillcolor": "#d59171",
          "layer": "below",
          "line": {
           "color": "rgb(175,175,175)",
           "width": 0.5
          },
          "path": "M -0.7523566932945408,0.658755953335455 Q -0.09008267826032548, -0.17856402514909517 0.97691393192852, -0.21363325959213095L 0.97691393192852, -0.21363325959213095 L 0.975993584879985, -0.2177992705982174 L 0.9750554721263032, -0.22196131707248465 M 0.9750554721263032,-0.22196131707248465 Q -0.09004209905022903, -0.17858449092412462 -0.7582467368839039, 0.6519677031915859L -0.7582467368839039, 0.6519677031915859 L -0.7553093411985086, 0.6553684453025451 L -0.7523566932945408, 0.658755953335455 ",
          "type": "path"
         },
         {
          "fillcolor": "#d59171",
          "layer": "below",
          "line": {
           "color": "rgb(175,175,175)",
           "width": 0.5
          },
          "path": "M -0.7379735628993453,0.6748296232840153 Q -0.08250855550950315, -0.18218764576045007 0.993983120808409, -0.10953335358682258L 0.993983120808409, -0.10953335358682258 L 0.9939737497232087, -0.10961836005516581 L 0.9939643713681673, -0.10970336572176857 M 0.9939643713681673,-0.10970336572176857 Q -0.082505943177157, -0.18218882880255788 -0.7381083252681081, 0.6746822216198591L -0.7381083252681081, 0.6746822216198591 L -0.7380409477636123, 0.6747559258162829 L -0.7379735628993453, 0.6748296232840153 ",
          "type": "path"
         },
         {
          "fillcolor": "#d0805f",
          "layer": "below",
          "line": {
           "color": "rgb(175,175,175)",
           "width": 0.5
          },
          "path": "M -0.8777367717879299,0.4791431513142013 Q -0.186522061806238, 0.07217700783178764 -0.9716331210896929, 0.23649329377701617L -0.9716331210896929, 0.23649329377701617 L -0.9708892214748173, 0.23952895362361354 L -0.9701358376146564, 0.2425622736035204 M -0.9701358376146564,0.2425622736035204 Q -0.18661081845866284, 0.07194721978080866 -0.8818787877476651, 0.47147619634580556L -0.8818787877476651, 0.47147619634580556 L -0.8798161312965129, 0.4753141856818889 L -0.8777367717879299, 0.4791431513142013 ",
          "type": "path"
         },
         {
          "fillcolor": "#d0805f",
          "layer": "below",
          "line": {
           "color": "rgb(175,175,175)",
           "width": 0.5
          },
          "path": "M -0.8736315428401622,0.48658804686790025 Q -0.19009036307161464, 0.06217438272553834 -0.9923168331673541, 0.12372268430935969L -0.9923168331673541, 0.12372268430935969 L -0.991856376314992, 0.12736141002396628 L -0.9913825766681291, 0.13099842242890192 M -0.9913825766681291,0.13099842242890192 Q -0.1901265865423198, 0.06206352463215238 -0.8777367717879299, 0.4791431513142013L -0.8777367717879299, 0.4791431513142013 L -0.8756920691591665, 0.4828699618031107 L -0.8736315428401622, 0.48658804686790025 ",
          "type": "path"
         },
         {
          "fillcolor": "#d0805f",
          "layer": "below",
          "line": {
           "color": "rgb(175,175,175)",
           "width": 0.5
          },
          "path": "M -0.8557035704094874,0.517466327009261 Q -0.19150987137973333, 0.057653873799754375 -0.9991616407799606, 0.040939169433405115L -0.9991616407799606, 0.040939169433405115 L -0.999087879262792, 0.04270139939365922 L -0.9990110096879412, 0.044463496514335156 M -0.9990110096879412,0.044463496514335156 Q -0.1915184666694742, 0.05762531496290066 -0.8576770202496479, 0.514188806700112L -0.8576770202496479, 0.514188806700112 L -0.8566918627176905, 0.5158285106053113 L -0.8557035704094874, 0.517466327009261 ",
          "type": "path"
         },
         {
          "fillcolor": "#d0805f",
          "layer": "below",
          "line": {
           "color": "rgb(175,175,175)",
           "width": 0.5
          },
          "path": "M -0.8576770202496479,0.514188806700112 Q -0.19594232165175182, 0.04008249724906668 -0.9906978253509898, -0.1360801926983485L -0.9906978253509898, -0.1360801926983485 L -0.9909533179051193, -0.13420701074398256 L -0.9912052687057992, -0.13233334912207312 M -0.9912052687057992,-0.13233334912207312 Q -0.19594747626407533, 0.040057290793807335 -0.8597464866028639, 0.5107210381157521L -0.8597464866028639, 0.5107210381157521 L -0.8587135039273188, 0.5124559670575284 L -0.8576770202496479, 0.514188806700112 ",
          "type": "path"
         },
         {
          "fillcolor": "#d0805f",
          "layer": "below",
          "line": {
           "color": "rgb(175,175,175)",
           "width": 0.5
          },
          "path": "M -0.8527199210479188,0.5223683913178813 Q -0.198628856206318, 0.023378996603144478 -0.9507032829658477, -0.3101020279810491L -0.9507032829658477, -0.3101020279810491 L -0.9510997707902311, -0.3088838390119655 L -0.951494697682074, -0.3076651431067529 M -0.951494697682074,-0.3076651431067529 Q -0.19863120354586392, 0.023359044884617666 -0.8541600044902623, 0.5200102755996222L -0.8541600044902623, 0.5200102755996222 L -0.8534407772240215, 0.521189830840221 L -0.8527199210479188, 0.5223683913178813 ",
          "type": "path"
         },
         {
          "fillcolor": "#d0805f",
          "layer": "below",
          "line": {
           "color": "rgb(175,175,175)",
           "width": 0.5
          },
          "path": "M -0.8911218389335286,0.4537641107180318 Q -0.19976631836665668, -0.009665301145415845 -0.8431530717426595, -0.5376735976509519L -0.8431530717426595, -0.5376735976509519 L -0.8475496909867668, -0.5307160458364115 L -0.8518888990895614, -0.5237225444908544 M -0.8518888990895614,-0.5237225444908544 Q -0.19976984438942774, -0.00959214640337782 -0.8981482376519001, 0.43969278275039486L -0.8981482376519001, 0.43969278275039486 L -0.8946627030946912, 0.446742260919314 L -0.8911218389335286, 0.4537641107180318 ",
          "type": "path"
         },
         {
          "fillcolor": "#d0805f",
          "layer": "below",
          "line": {
           "color": "rgb(175,175,175)",
           "width": 0.5
          },
          "path": "M -0.8981482376519001,0.43969278275039486 Q -0.19134442979315425, -0.058200594388138994 -0.5012041028691004, -0.8653290976658419L -0.5012041028691004, -0.8653290976658419 L -0.5106542189003669, -0.8597861761619898 L -0.5200430417839892, -0.8541400556653785 M -0.5200430417839892,-0.8541400556653785 Q -0.19138207099949955, -0.05807669842494939 -0.9070217600778512, 0.4210837526493715L -0.9070217600778512, 0.4210837526493715 L -0.9026329565090303, 0.43041113580362567 L -0.8981482376519001, 0.43969278275039486 ",
          "type": "path"
         },
         {
          "fillcolor": "#d0805f",
          "layer": "below",
          "line": {
           "color": "rgb(175,175,175)",
           "width": 0.5
          },
          "path": "M -0.8541600044902623,0.5200102755996222 Q -0.17837808375089637, -0.09045031363880504 -0.08525329947597168, -0.996359310152949L -0.08525329947597168, -0.996359310152949 L -0.08632160423794254, -0.9962673238854057 L -0.08738980975281188, -0.9961741921729188 M -0.08738980975281188,-0.9961741921729188 Q -0.1783404818042177, -0.09052443067945527 -0.8557035704094874, 0.517466327009261L -0.8557035704094874, 0.517466327009261 L -0.8549327336760745, 0.5187388754365286 L -0.8541600044902623, 0.5200102755996222 ",
          "type": "path"
         },
         {
          "fillcolor": "#d0805f",
          "layer": "below",
          "line": {
           "color": "rgb(175,175,175)",
           "width": 0.5
          },
          "path": "M -0.9180563021153724,0.3964500298224837 Q -0.1572053980242818, -0.123638435900925 0.16891799266386773, -0.9856301089934345L 0.16891799266386773, -0.9856301089934345 L 0.1533439020425837, -0.9881728835109546 L 0.13773162602935865, -0.9904695851924525 M 0.13773162602935865,-0.9904695851924525 Q -0.15734315014681732, -0.12346308396389627 -0.9292880517270424, 0.36935581343381857L -0.9292880517270424, 0.36935581343381857 L -0.9237715164253503, 0.3829441022410567 L -0.9180563021153724, 0.3964500298224837 ",
          "type": "path"
         },
         {
          "fillcolor": "#d0805f",
          "layer": "below",
          "line": {
           "color": "rgb(175,175,175)",
           "width": 0.5
          },
          "path": "M -0.8863478036671852,0.46302005457037904 Q -0.12281300951912384, -0.15785108391409797 0.6667162403149394, -0.7453116495133508L 0.6667162403149394, -0.7453116495133508 L 0.6626447250265503, -0.7489338878662706 L 0.658553530616217, -0.7525338844948547 M 0.658553530616217,-0.7525338844948547 Q -0.12285124628135465, -0.15782132709845634 -0.8911218389335286, 0.4537641107180318L -0.8911218389335286, 0.4537641107180318 L -0.8887468710020457, 0.4583982976452608 L -0.8863478036671852, 0.46302005457037904 ",
          "type": "path"
         },
         {
          "fillcolor": "#d0805f",
          "layer": "below",
          "line": {
           "color": "rgb(175,175,175)",
           "width": 0.5
          },
          "path": "M -0.8626631801567709,0.5057788425802395 Q -0.09165258824002884, -0.17776333443346448 0.9123554734862971, -0.40939893746759376L 0.9123554734862971, -0.40939893746759376 L 0.9112655211408025, -0.4118193171525367 L 0.9101691478052697, -0.4142367950622314 M 0.9101691478052697,-0.4142367950622314 Q -0.09161439071249232, -0.17778302341443855 -0.8655514641434902, 0.5008199905345837L -0.8655514641434902, 0.5008199905345837 L -0.8641108793128763, 0.5033014884272922 L -0.8626631801567709, 0.5057788425802395 ",
          "type": "path"
         },
         {
          "fillcolor": "#d0805f",
          "layer": "below",
          "line": {
           "color": "rgb(175,175,175)",
           "width": 0.5
          },
          "path": "M -0.8597464866028639,0.5107210381157521 Q -0.07555913840447619, -0.185177797274871 0.9716212097830379, -0.23654222603955083L 0.9716212097830379, -0.23654222603955083 L 0.9710125076228515, -0.23902868037116728 L 0.9703974424434707, -0.2415135683541835 M 0.9703974424434707,-0.2415135683541835 Q -0.07550182903153019, -0.1852011711974133 -0.8626631801567709, 0.5057788425802395L -0.8626631801567709, 0.5057788425802395 L -0.8612083785942498, 0.5082520325970801 L -0.8597464866028639, 0.5107210381157521 ",
          "type": "path"
         },
         {
          "fillcolor": "#d0805f",
          "layer": "below",
          "line": {
           "color": "rgb(175,175,175)",
           "width": 0.5
          },
          "path": "M -0.8517191259124807,0.5239985978558338 Q -0.06442912995136299, -0.18933802368703012 0.9945499272687205, -0.10426141265963525L 0.9945499272687205, -0.10426141265963525 L 0.9944693834009741, -0.10502687978839689 L 0.9943882503824757, -0.10579228469637492 M 0.9943882503824757,-0.10579228469637492 Q -0.06439376914167495, -0.18935005280096617 -0.8527199210479188, 0.5223683913178813L -0.8527199210479188, 0.5223683913178813 L -0.8522199132818699, 0.5231837338888148 L -0.8517191259124807, 0.5239985978558338 ",
          "type": "path"
         },
         {
          "fillcolor": "#ca6f4c",
          "layer": "below",
          "line": {
           "color": "rgb(175,175,175)",
           "width": 0.5
          },
          "path": "M -0.9638901396242656,0.26630020415897854 Q -0.19492022095014827, 0.04478959103123616 -0.9834521043186794, 0.18116831541735273L -0.9834521043186794, 0.18116831541735273 L -0.9833189438642135, 0.1818896771061179 L -0.9831852542913376, 0.1826109409210682 M -0.9831852542913376,0.1826109409210682 Q -0.19491467901182413, 0.044813702209453375 -0.964214228800246, 0.26512435003059776L -0.964214228800246, 0.26512435003059776 L -0.9640523634858503, 0.26571232650621585 L -0.9638901396242656, 0.26630020415897854 ",
          "type": "path"
         },
         {
          "fillcolor": "#ca6f4c",
          "layer": "below",
          "line": {
           "color": "rgb(175,175,175)",
           "width": 0.5
          },
          "path": "M -0.9634830117226207,0.26776946450614597 Q -0.19741941281627795, 0.032024606840303727 -0.9987224500406638, 0.05053184921189598L -0.9987224500406638, 0.05053184921189598 L -0.9987075524353858, 0.0508254336776499 L -0.9986925685280158, 0.051119013751386125 M -0.9986925685280158,0.051119013751386125 Q -0.1974173221962712, 0.03203749204999741 -0.963605385293867, 0.2673287516012039L -0.963605385293867, 0.2673287516012039 L -0.9635442237053057, 0.2675491150501899 L -0.9634830117226207, 0.26776946450614597 ",
          "type": "path"
         },
         {
          "fillcolor": "#ca6f4c",
          "layer": "below",
          "line": {
           "color": "rgb(175,175,175)",
           "width": 0.5
          },
          "path": "M -0.9674919237708817,0.2529019126818113 Q -0.19982502181727752, -0.008364248664677996 -0.9429727673158922, -0.3328698846405426L -0.9429727673158922, -0.3328698846405426 L -0.9439527274745971, -0.33008066937230496 L -0.9449244374451893, -0.3272885691845846 M -0.9449244374451893,-0.3272885691845846 Q -0.1998305762471505, -0.0082304797388595 -0.968638540913924, 0.2484740973545219L -0.968638540913924, 0.2484740973545219 L -0.9680677638767305, 0.2506886605786281 L -0.9674919237708817, 0.2529019126818113 ",
          "type": "path"
         },
         {
          "fillcolor": "#ca6f4c",
          "layer": "below",
          "line": {
           "color": "rgb(175,175,175)",
           "width": 0.5
          },
          "path": "M -0.9650581369047708,0.2620358608929181 Q -0.19859831330349914, -0.023637046198821038 -0.8765953052037818, -0.48122829394653077L -0.8765953052037818, -0.48122829394653077 L -0.8775569524147318, -0.4794724134593859 L -0.878515082481281, -0.47771461130355664 M -0.878515082481281,-0.47771461130355664 Q -0.19861316071125684, -0.023511962748449175 -0.9657736132052757, 0.2593864453598657L -0.9657736132052757, 0.2593864453598657 L -0.9654167839119656, 0.26071139856377035 L -0.9650581369047708, 0.2620358608929181 ",
          "type": "path"
         },
         {
          "fillcolor": "#ca6f4c",
          "layer": "below",
          "line": {
           "color": "rgb(175,175,175)",
           "width": 0.5
          },
          "path": "M -0.9657736132052757,0.2593864453598657 Q -0.18876968269084352, -0.06607576633530825 -0.5931772280879718, -0.8050719073957744L -0.5931772280879718, -0.8050719073957744 L -0.5949943148745269, -0.8037299081575802 L -0.596808365544116, -0.8023838076734605 M -0.596808365544116,-0.8023838076734605 Q -0.18881815165432167, -0.06593713373999197 -0.9665600559458015, 0.25644036002557996L -0.9665600559458015, 0.25644036002557996 L -0.9661679574941489, 0.2579137024502276 L -0.9657736132052757, 0.2593864453598657 ",
          "type": "path"
         },
         {
          "fillcolor": "#ca6f4c",
          "layer": "below",
          "line": {
           "color": "rgb(175,175,175)",
           "width": 0.5
          },
          "path": "M -0.9665600559458015,0.25644036002557996 Q -0.16289781332582493, -0.11603578074742592 -0.07349574814922659, -0.9972955304241494L -0.07349574814922659, -0.9972955304241494 L -0.07532880783061445, -0.9971587490017918 L -0.07716161298975024, -0.9970185983625481 M -0.07716161298975024,-0.9970185983625481 Q -0.16289881202132475, -0.11603437870752403 -0.9674919237708817, 0.2529019126818113L -0.9674919237708817, 0.2529019126818113 L -0.9670276082997354, 0.25467156257834006 L -0.9665600559458015, 0.25644036002557996 ",
          "type": "path"
         },
         {
          "fillcolor": "#ca6f4c",
          "layer": "below",
          "line": {
           "color": "rgb(175,175,175)",
           "width": 0.5
          },
          "path": "M -0.97368637339869,0.2278921812123155 Q -0.14974473645524042, -0.13257644550956477 0.10822713009058599, -0.9941261933539199L 0.10822713009058599, -0.9941261933539199 L 0.0987869953059818, -0.99510860189148 L 0.08933796166325389, -0.9960013697811138 M 0.08933796166325389,-0.9960013697811138 Q -0.15016345277576645, -0.13210199639089548 -0.9764921724457019, 0.21555286393892717L -0.9764921724457019, 0.21555286393892717 L -0.9751087912923511, 0.22172696079721577 L -0.97368637339869, 0.2278921812123155 ",
          "type": "path"
         },
         {
          "fillcolor": "#ca6f4c",
          "layer": "below",
          "line": {
           "color": "rgb(175,175,175)",
           "width": 0.5
          },
          "path": "M -0.9633604365876882,0.26821012139287115 Q -0.10862830998390166, -0.16792822952095154 0.6396037236619153, -0.7687048046407752L 0.6396037236619153, -0.7687048046407752 L 0.6393472114390631, -0.7689181641924542 L 0.6390906280435559, -0.7691314381475336 M 0.6390906280435559,-0.7691314381475336 Q -0.10864593413989326, -0.1679168276107847 -0.9634830117226207, 0.26776946450614597L -0.9634830117226207, 0.26776946450614597 L -0.9634217493490136, 0.2679897999575476 L -0.9633604365876882, 0.26821012139287115 ",
          "type": "path"
         },
         {
          "fillcolor": "#ca6f4c",
          "layer": "below",
          "line": {
           "color": "rgb(175,175,175)",
           "width": 0.5
          },
          "path": "M -0.963605385293867,0.2673287516012039 Q -0.06853198793435715, -0.1878919014480537 0.9094346688446638, -0.41584682649191473L 0.9094346688446638, -0.41584682649191473 L 0.9091482688641449, -0.41647259840393874 L 0.9088614382969734, -0.417098173068112 M 0.9088614382969734,-0.417098173068112 Q -0.06856103120332932, -0.18788130561696686 -0.9638901396242656, 0.26630020415897854L -0.9638901396242656, 0.26630020415897854 L -0.9637478996720652, 0.26681451586763955 L -0.963605385293867, 0.2673287516012039 ",
          "type": "path"
         },
         {
          "fillcolor": "#ca6f4c",
          "layer": "below",
          "line": {
           "color": "rgb(175,175,175)",
           "width": 0.5
          },
          "path": "M -0.9631556968464982,0.2689444248021078 Q -0.052644232313918064, -0.1929471036426259 0.9662813311307972, -0.25748861937587614L 0.9662813311307972, -0.25748861937587614 L 0.9662569142124845, -0.2575802316494169 L 0.9662324886084939, -0.2576718416075704 M 0.9662324886084939,-0.2576718416075704 Q -0.05264781708616459, -0.19294612552746881 -0.9631966895752604, 0.26879757660972226L -0.9631966895752604, 0.26879757660972226 L -0.9631761960094833, 0.26887100148714665 L -0.9631556968464982, 0.2689444248021078 ",
          "type": "path"
         },
         {
          "fillcolor": "#ca6f4c",
          "layer": "below",
          "line": {
           "color": "rgb(175,175,175)",
           "width": 0.5
          },
          "path": "M -0.9631966895752604,0.26879757660972226 Q -0.03789097176119803, -0.1963778863797859 0.9940578277675061, -0.10885327305206442L 0.9940578277675061, -0.10885327305206442 L 0.9940391946491058, -0.10902329797505209 L 0.9940205324494256, -0.10919331970849037 M 0.9940205324494256,-0.10919331970849037 Q -0.03789462054275281, -0.1963771823148524 -0.9632786078639024, 0.2685038614839313L -0.9632786078639024, 0.2685038614839313 L -0.9632376599147127, 0.2686507221691921 L -0.9631966895752604, 0.26879757660972226 ",
          "type": "path"
         },
         {
          "fillcolor": "#c45e3a",
          "layer": "below",
          "line": {
           "color": "rgb(175,175,175)",
           "width": 0.5
          },
          "path": "M -0.9829500245641666,0.18387291592103608 Q -0.1999046668977723, 0.006174475887935148 -0.9924240949172234, -0.12285933349863949L -0.9924240949172234, -0.12285933349863949 L -0.9925094268828812, -0.12216807090485889 L -0.9925942773568893, -0.12147674904422916 M -0.9925942773568893,-0.12147674904422916 Q -0.19990432913942904, 0.006185401467554231 -0.9831852542913376, 0.1826109409210682L -0.9831852542913376, 0.1826109409210682 L -0.9830678419291712, 0.18324196616692948 L -0.9829500245641666, 0.18387291592103608 ",
          "type": "path"
         },
         {
          "fillcolor": "#c45e3a",
          "layer": "below",
          "line": {
           "color": "rgb(175,175,175)",
           "width": 0.5
          },
          "path": "M -0.9852607536409635,0.17105919248856688 Q -0.19924234415892916, -0.017392190605407882 -0.9407210254772722, -0.3391812969858294L -0.9407210254772722, -0.3391812969858294 L -0.941852183059169, -0.33602747695192675 L -0.9429727673158922, -0.3328698846405426 M -0.9429727673158922,-0.3328698846405426 Q -0.19924639034201433, -0.017345775730063486 -0.9863081774678393, 0.16491264069218392L -0.9863081774678393, 0.16491264069218392 L -0.9857892561562654, 0.1679867329489944 L -0.9852607536409635, 0.17105919248856688 ",
          "type": "path"
         },
         {
          "fillcolor": "#c45e3a",
          "layer": "below",
          "line": {
           "color": "rgb(175,175,175)",
           "width": 0.5
          },
          "path": "M -0.9842075051525095,0.17701860580592327 Q -0.19714505012677885, -0.033672380529298045 -0.8696558317851226, -0.4936585198719116L -0.8696558317851226, -0.4936585198719116 L -0.8714618341493863, -0.4904633234208116 L -0.8732560971167279, -0.4872615199751156 M -0.8732560971167279,-0.4872615199751156 Q -0.19716670725578844, -0.033545335740013484 -0.9852607536409635, 0.17105919248856688L -0.9852607536409635, 0.17105919248856688 L -0.9847386375330869, 0.17403969590147997 L -0.9842075051525095, 0.17701860580592327 ",
          "type": "path"
         },
         {
          "fillcolor": "#c45e3a",
          "layer": "below",
          "line": {
           "color": "rgb(175,175,175)",
           "width": 0.5
          },
          "path": "M -0.9893540803005585,0.1455283607845427 Q -0.18330613662962852, -0.07999287639483882 -0.5661216894455483, -0.8243216803768527L -0.5661216894455483, -0.8243216803768527 L -0.5698400705331617, -0.8217556169657506 L -0.5735468205926763, -0.8191727806684207 M -0.5735468205926763,-0.8191727806684207 Q -0.1833740735849831, -0.07983701608182267 -0.9903949746651726, 0.1382671116280808L -0.9903949746651726, 0.1382671116280808 L -0.9898811855946421, 0.1418986906414068 L -0.9893540803005585, 0.1455283607845427 ",
          "type": "path"
         },
         {
          "fillcolor": "#c45e3a",
          "layer": "below",
          "line": {
           "color": "rgb(175,175,175)",
           "width": 0.5
          },
          "path": "M -0.9828148802874481,0.18459390858197097 Q -0.15948918928436462, -0.1206780779653708 -0.08952591812873925, -0.9959844928427382L -0.08952591812873925, -0.9959844928427382 L -0.08983104308707722, -0.9959570190012658 L -0.09013615961422812, -0.9959294516831995 M -0.09013615961422812,-0.9959294516831995 Q -0.1594818981978553, -0.1206877133233078 -0.9829500245641666, 0.18387291592103608L -0.9829500245641666, 0.18387291592103608 L -0.9828825185362561, 0.18423342464337533 L -0.9828148802874481, 0.18459390858197097 ",
          "type": "path"
         },
         {
          "fillcolor": "#c45e3a",
          "layer": "below",
          "line": {
           "color": "rgb(175,175,175)",
           "width": 0.5
          },
          "path": "M -0.9903949746651726,0.1382671116280808 Q -0.14950533747472528, -0.13284635511209372 0.020844988871346386, -0.9997827196140937L 0.020844988871346386, -0.9997827196140937 L 0.016271731930338408, -0.9998676066059882 L 0.011698134554028676, -0.9999315744829522 M 0.011698134554028676,-0.9999315744829522 Q -0.14962567507067304, -0.1327108034775066 -0.9913825766681291, 0.13099842242890192L -0.9913825766681291, 0.13099842242890192 L -0.9908954406004818, 0.13463367259782016 L -0.9903949746651726, 0.1382671116280808 ",
          "type": "path"
         },
         {
          "fillcolor": "#c45e3a",
          "layer": "below",
          "line": {
           "color": "rgb(175,175,175)",
           "width": 0.5
          },
          "path": "M -0.9883717566359962,0.15205680084848247 Q -0.09628418199396839, -0.17529790728286626 0.658553530616217, -0.7525338844948547L 0.658553530616217, -0.7525338844948547 L 0.6555352854702897, -0.7551645446545976 L 0.652506531977944, -0.7577830993933002 M 0.652506531977944,-0.7577830993933002 Q -0.09640735785714602, -0.1752301953174857 -0.9893540803005585, 0.1455283607845427L -0.9893540803005585, 0.1455283607845427 L -0.9888683060215936, 0.1487933914728202 L -0.9883717566359962, 0.15205680084848247 ",
          "type": "path"
         },
         {
          "fillcolor": "#c45e3a",
          "layer": "below",
          "line": {
           "color": "rgb(175,175,175)",
           "width": 0.5
          },
          "path": "M -0.9827810115830503,0.1847741412422102 Q -0.06118258979547606, -0.1904118974904628 0.906468295730635, -0.4222738789401944L 0.906468295730635, -0.4222738789401944 L 0.906426775961087, -0.4223629953260457 L 0.9063852474303613, -0.42245210762949537 M 0.9063852474303613,-0.42245210762949537 Q -0.061183850367305295, -0.19041149244263383 -0.9828148802874481, 0.18459390858197097L -0.9828148802874481, 0.18459390858197097 L -0.9827979500667968, 0.18468402568847686 L -0.9827810115830503, 0.1847741412422102 ",
          "type": "path"
         },
         {
          "fillcolor": "#c45e3a",
          "layer": "below",
          "line": {
           "color": "rgb(175,175,175)",
           "width": 0.5
          },
          "path": "M -0.987346354304662,0.15857861344233298 Q -0.03887397578525633, -0.19618566208224114 0.9732132772472658, -0.22990414739546694L 0.9732132772472658, -0.22990414739546694 L 0.9724229077451987, -0.23322454521849298 L 0.9716212097830379, -0.23654222603955083 M 0.9716212097830379,-0.23654222603955083 Q -0.03889598752033432, -0.1961812991974974 -0.9883717566359962, 0.15205680084848247L -0.9883717566359962, 0.15205680084848247 L -0.9878644375543681, 0.15531855335210895 L -0.987346354304662, 0.15857861344233298 ",
          "type": "path"
         },
         {
          "fillcolor": "#c45e3a",
          "layer": "below",
          "line": {
           "color": "rgb(175,175,175)",
           "width": 0.5
          },
          "path": "M -0.983749780381363,0.17954489577712934 Q -0.027994770849513406, -0.19803104000404392 0.9949695425074718, -0.10017788918954187L 0.9949695425074718, -0.10017788918954187 L 0.9948488863735903, -0.1013690943099879 L 0.9947268040964302, -0.10256015411504626 M 0.9947268040964302,-0.10256015411504626 Q -0.027977658702832683, -0.19803345831830493 -0.9842075051525095, 0.17701860580592327L -0.9842075051525095, 0.17701860580592327 L -0.9839794535236579, 0.1782818976881374 L -0.983749780381363, 0.17954489577712934 ",
          "type": "path"
         },
         {
          "fillcolor": "#bf4d28",
          "layer": "below",
          "line": {
           "color": "rgb(175,175,175)",
           "width": 0.5
          },
          "path": "M -0.9994049448794752,-0.03449284201762886 Q -0.19806456253784355, -0.02775660401945201 -0.9703878057131559, -0.2415522852783771L -0.9703878057131559, -0.2415522852783771 L -0.973544858029996, -0.2284959724007293 L -0.9765262494761795, -0.21539843101560968 M -0.9765262494761795,-0.21539843101560968 Q -0.19807023142746827, -0.02771612206404711 -0.9981427409203794, -0.060918541905994876L -0.9981427409203794, -0.060918541905994876 L -0.9988612359405765, -0.04770986622559164 L -0.9994049448794752, -0.03449284201762886 ",
          "type": "path"
         },
         {
          "fillcolor": "#bf4d28",
          "layer": "below",
          "line": {
           "color": "rgb(175,175,175)",
           "width": 0.5
          },
          "path": "M -0.9987617550569671,0.04974893602406839 Q -0.19833259789921648, -0.025771701739460598 -0.952879588073652, -0.30334879368902606L -0.952879588073652, -0.30334879368902606 L -0.9530289403151234, -0.30287924808714256 L -0.9531780611810251, -0.3024096289524887 M -0.9531780611810251,-0.3024096289524887 Q -0.19833266978226916, -0.02577114853935278 -0.9988100232568322, 0.04877025160573171L -0.9988100232568322, 0.04877025160573171 L -0.9987860090303309, 0.0492595997269943 L -0.9987617550569671, 0.04974893602406839 ",
          "type": "path"
         },
         {
          "fillcolor": "#bf4d28",
          "layer": "below",
          "line": {
           "color": "rgb(175,175,175)",
           "width": 0.5
          },
          "path": "M -0.9989310322945414,0.046225455313733475 Q -0.1951498797750058, -0.04377812723039652 -0.8834613582519847, -0.4685040325072542L -0.8834613582519847, -0.4685040325072542 L -0.883929881028881, -0.4676194664727595 L -0.8843975181339694, -0.4667344318972785 M -0.8843975181339694,-0.4667344318972785 Q -0.19515509229032746, -0.043754884906188236 -0.9990110096879412, 0.044463496514335156L -0.9990110096879412, 0.044463496514335156 L -0.9989714094532364, 0.04534449354678385 L -0.9989310322945414, 0.046225455313733475 ",
          "type": "path"
         },
         {
          "fillcolor": "#bf4d28",
          "layer": "below",
          "line": {
           "color": "rgb(175,175,175)",
           "width": 0.5
          },
          "path": "M -0.9998480379911575,0.0174327543788387 Q -0.17819877110378046, -0.09080307250915283 -0.5735468205926763, -0.8191727806684207L -0.5735468205926763, -0.8191727806684207 L -0.5770573909959037, -0.8167035983127543 L -0.5805573314445167, -0.8142193714878206 M -0.5805573314445167,-0.8142193714878206 Q -0.17825035907385745, -0.090701761228991 -0.9999501343750677, 0.009986428955530357L -0.9999501343750677, 0.009986428955530357 L -0.9999060178288763, 0.013709686706808565 L -0.9998480379911575, 0.0174327543788387 ",
          "type": "path"
         },
         {
          "fillcolor": "#bf4d28",
          "layer": "below",
          "line": {
           "color": "rgb(175,175,175)",
           "width": 0.5
          },
          "path": "M -0.9986623418121869,0.0517061606213284 Q -0.1510967422837796, -0.13103348606836765 -0.09013615961422812, -0.9959294516831995L -0.09013615961422812, -0.9959294516831995 L -0.09036499145939735, -0.9959087148521912 L -0.09059381853383543, -0.9958879254431487 M -0.09059381853383543,-0.9958879254431487 Q -0.15108833058048426, -0.13104318510476728 -0.9986925685280158, 0.051119013751386125L -0.9986925685280158, 0.051119013751386125 L -0.9986774983198489, 0.051412589407735285 L -0.9986623418121869, 0.0517061606213284 ",
          "type": "path"
         },
         {
          "fillcolor": "#bf4d28",
          "layer": "below",
          "line": {
           "color": "rgb(175,175,175)",
           "width": 0.5
          },
          "path": "M -0.9997049455238021,0.02429036630542733 Q -0.14230910169469052, -0.14052800281385286 0.011698134554028676, -0.9999315744829522L 0.011698134554028676, -0.9999315744829522 L 0.007696032809981944, -0.9999703851009727 L 0.00369380778838327, -0.9999931778687405 M 0.00369380778838327,-0.9999931778687405 Q -0.14238956345044174, -0.14044647457445356 -0.9998480379911575, 0.0174327543788387L -0.9998480379911575, 0.0174327543788387 L -0.9997823714095123, 0.020861683028270045 L -0.9997049455238021, 0.02429036630542733 ",
          "type": "path"
         },
         {
          "fillcolor": "#bf4d28",
          "layer": "below",
          "line": {
           "color": "rgb(175,175,175)",
           "width": 0.5
          },
          "path": "M -0.9981427409203794,-0.060918541905994876 Q -0.0583267273935907, -0.19130601891094215 0.7943710766926948, -0.6074327884746499L 0.7943710766926948, -0.6074327884746499 L 0.7843346006561296, -0.620337999975489 L 0.7740884913263324, -0.6330774104295008 M 0.7740884913263324,-0.6330774104295008 Q -0.05869862896196609, -0.1911922356111394 -0.9959738646345321, -0.08964407936364058L -0.9959738646345321, -0.08964407936364058 L -0.9971617462894464, -0.07528912097362904 L -0.9981427409203794, -0.060918541905994876 ",
          "type": "path"
         },
         {
          "fillcolor": "#bf4d28",
          "layer": "below",
          "line": {
           "color": "rgb(175,175,175)",
           "width": 0.5
          },
          "path": "M -0.9988666791988626,0.04759576857491029 Q -0.047333012030668004, -0.1943182594922686 0.9088614382969734, -0.417098173068112L 0.9088614382969734, -0.417098173068112 L 0.9085741772789968, -0.4177235501881527 L 0.9082864859462662, -0.4183487294678726 M 0.9082864859462662,-0.4183487294678726 Q -0.047333456132864174, -0.19431815131510033 -0.9989310322945414, 0.046225455313733475L -0.9989310322945414, 0.046225455313733475 L -0.9988990907252239, 0.04691062297945919 L -0.9988666791988626, 0.04759576857491029 ",
          "type": "path"
         },
         {
          "fillcolor": "#bf4d28",
          "layer": "below",
          "line": {
           "color": "rgb(175,175,175)",
           "width": 0.5
          },
          "path": "M -0.999867580918018,-0.016273310331667054 Q -0.014352585043284367, -0.1994843435023794 0.987239491178278, -0.15924254160887608L 0.987239491178278, -0.15924254160887608 L 0.9857970341457254, -0.16794108332832508 L 0.9842779360168251, -0.1766265684161326 M 0.9842779360168251,-0.1766265684161326 Q -0.014293642844654897, -0.19948857554814875 -0.9994049448794752, -0.03449284201762886L -0.9994049448794752, -0.03449284201762886 L -0.9996777710521956, -0.025384130162643362 L -0.999867580918018, -0.016273310331667054 ",
          "type": "path"
         },
         {
          "fillcolor": "#bf4d28",
          "layer": "below",
          "line": {
           "color": "rgb(175,175,175)",
           "width": 0.5
          },
          "path": "M -0.9999501343750677,0.009986428955530357 Q -0.007576400832329102, -0.19985644385515292 0.9978362538204959, -0.06574808408979646L 0.9978362538204959, -0.06574808408979646 L 0.997545988531541, -0.07001428971739047 L 0.9972374833492127, -0.0742792151501936 M 0.9972374833492127,-0.0742792151501936 Q -0.007451829243094345, -0.19986112738832373 -0.9999999823552881, 0.00018785479394414412L -0.9999999823552881, 0.00018785479394414412 L -0.99998706009945, 0.005087202930785073 L -0.9999501343750677, 0.009986428955530357 ",
          "type": "path"
         },
         {
          "fillcolor": "#af4624",
          "layer": "below",
          "line": {
           "color": "rgb(175,175,175)",
           "width": 0.5
          },
          "path": "M -0.991952464508339,-0.12661085323080562 Q -0.19507386637882992, -0.044115605583675443 -0.9499056271248616, -0.312536877114563L -0.9499056271248616, -0.312536877114563 L -0.9503052348596341, -0.3113197080147283 L -0.9507032829658477, -0.3101020279810491 M -0.9507032829658477,-0.3101020279810491 Q -0.1950733180317637, -0.044118030237969424 -0.9916215986664051, -0.12917664285110947L -0.9916215986664051, -0.12917664285110947 L -0.9917878613110692, -0.1278938550361794 L -0.991952464508339, -0.12661085323080562 ",
          "type": "path"
         },
         {
          "fillcolor": "#af4624",
          "layer": "below",
          "line": {
           "color": "rgb(175,175,175)",
           "width": 0.5
          },
          "path": "M -0.9916215986664051,-0.12917664285110947 Q -0.19035018507762758, -0.061374319066796384 -0.8803152739881741, -0.47438910019426656L -0.8803152739881741, -0.47438910019426656 L -0.8811580686996677, -0.4728218036062546 L -0.8819980730289423, -0.47125300972326173 M -0.8819980730289423,-0.47125300972326173 Q -0.1903616898387968, -0.06133862601752449 -0.9912052687057992, -0.13233334912207312L -0.9912052687057992, -0.13233334912207312 L -0.9914146900726696, -0.13075516168821968 L -0.9916215986664051, -0.12917664285110947 ",
          "type": "path"
         },
         {
          "fillcolor": "#af4624",
          "layer": "below",
          "line": {
           "color": "rgb(175,175,175)",
           "width": 0.5
          },
          "path": "M -0.9873875290490673,-0.15832203724806343 Q -0.1699603600434838, -0.10542047246094738 -0.5805573314445167, -0.8142193714878206L -0.5805573314445167, -0.8142193714878206 L -0.5838632005998489, -0.8118520573265184 L -0.5871594167757074, -0.8094713208580099 M -0.5871594167757074,-0.8094713208580099 Q -0.17001136642879794, -0.10533819480612434 -0.9862279657637315, -0.1653916550057227L -0.9862279657637315, -0.1653916550057227 L -0.9868140783425732, -0.16185788453114638 L -0.9873875290490673, -0.15832203724806343 ",
          "type": "path"
         },
         {
          "fillcolor": "#af4624",
          "layer": "below",
          "line": {
           "color": "rgb(175,175,175)",
           "width": 0.5
          },
          "path": "M -0.992666623075354,-0.12088414053205208 Q -0.13925102541683781, -0.14355887962908875 -0.09059381853383543, -0.9958879254431487L -0.09059381853383543, -0.9958879254431487 L -0.09082264082546078, -0.9958670834571697 L -0.09105145832219207, -0.9958461888953545 M -0.09105145832219207,-0.9958461888953545 Q -0.13924115762952516, -0.14356845064981974 -0.9925942773568893, -0.12147674904422916L -0.9925942773568893, -0.12147674904422916 L -0.9926304944401378, -0.12118045018701405 L -0.992666623075354, -0.12088414053205208 ",
          "type": "path"
         },
         {
          "fillcolor": "#af4624",
          "layer": "below",
          "line": {
           "color": "rgb(175,175,175)",
           "width": 0.5
          },
          "path": "M -0.9883757103096227,-0.15203109968012737 Q -0.12994761002799557, -0.1520316369970803 0.00369380778838327, -0.9999931778687405L 0.00369380778838327, -0.9999931778687405 L 3.457724427316907e-05, -0.9999999994022071 L -0.003624653762825853, -0.9999934309209734 M -0.003624653762825853,-0.9999934309209734 Q -0.13001984007869302, -0.15196986933570447 -0.9873875290490673, -0.15832203724806343L -0.9873875290490673, -0.15832203724806343 L -0.9878866273384598, -0.15517735506781613 L -0.9883757103096227, -0.15203109968012737 ",
          "type": "path"
         },
         {
          "fillcolor": "#af4624",
          "layer": "below",
          "line": {
           "color": "rgb(175,175,175)",
           "width": 0.5
          },
          "path": "M -0.9703878057131559,-0.2415522852783771 Q -0.03371756406165367, -0.1971373274490356 0.8349475793970222, -0.550329482818296L 0.8349475793970222, -0.550329482818296 L 0.8250858876322371, -0.5650073256428835 L 0.8149661980826542, -0.579508495177339 M 0.8149661980826542,-0.579508495177339 Q -0.034084696103303586, -0.1970741827118546 -0.9622602944139407, -0.27213071453695953L -0.9622602944139407, -0.27213071453695953 L -0.9664449957525775, -0.25687364634154375 L -0.9703878057131559, -0.2415522852783771 ",
          "type": "path"
         },
         {
          "fillcolor": "#af4624",
          "layer": "below",
          "line": {
           "color": "rgb(175,175,175)",
           "width": 0.5
          },
          "path": "M -0.9924240949172234,-0.12285933349863949 Q -0.030276509282219477, -0.19769505048352545 0.9101691478052697, -0.4142367950622314L 0.9101691478052697, -0.4142367950622314 L 0.9098022644740186, -0.41504197324842695 L 0.9094346688446638, -0.41584682649191473 M 0.9094346688446638,-0.41584682649191473 Q -0.030274396468063753, -0.19769537404424642 -0.9922024592219282, -0.1246365913925679L -0.9922024592219282, -0.1246365913925679 L -0.9923136749586625, -0.12374801206497783 L -0.9924240949172234, -0.12285933349863949 ",
          "type": "path"
         },
         {
          "fillcolor": "#af4624",
          "layer": "below",
          "line": {
           "color": "rgb(175,175,175)",
           "width": 0.5
          },
          "path": "M -0.9829982994135578,-0.18361465995408294 Q 0.0007104286957830972, -0.19999873822369033 0.9842779360168251, -0.1766265684161326L 0.9842779360168251, -0.1766265684161326 L 0.9830145159280773, -0.18352782207253426 L 0.9817027083925035, -0.19042004184124978 M 0.9817027083925035,-0.19042004184124978 Q 0.0007798558175440985, -0.19999847955648023 -0.9801878655507873, -0.19807005888571788L -0.9801878655507873, -0.19807005888571788 L -0.9816196917423883, -0.19084753282025602 L -0.9829982994135578, -0.18361465995408294 ",
          "type": "path"
         },
         {
          "fillcolor": "#af4624",
          "layer": "below",
          "line": {
           "color": "rgb(175,175,175)",
           "width": 0.5
          },
          "path": "M -0.9848457047818053,-0.17343280477703504 Q 0.011734548673627054, -0.1996554541389398 0.9983815568664225, -0.05687061551432596L 0.9983815568664225, -0.05687061551432596 L 0.9981187751405118, -0.06130995605939074 L 0.9978362538204959, -0.06574808408979646 M 0.9978362538204959,-0.06574808408979646 Q 0.011879686274036946, -0.1996468708846459 -0.9829982994135578, -0.18361465995408294L -0.9829982994135578, -0.18361465995408294 L -0.9839351725371045, -0.17852612202246032 L -0.9848457047818053, -0.17343280477703504 ",
          "type": "path"
         },
         {
          "fillcolor": "#9f4021",
          "layer": "below",
          "line": {
           "color": "rgb(175,175,175)",
           "width": 0.5
          },
          "path": "M -0.9264755796834477,-0.3763548860453647 Q -0.17580249385163557, -0.09535975647801145 -0.8207008302794923, -0.5713581601574901L -0.8207008302794923, -0.5713581601574901 L -0.8266292658940553, -0.5627468851690387 L -0.8324673505944408, -0.5540741017176967 M -0.8324673505944408,-0.5540741017176967 Q -0.1759159880261808, -0.09515022415513598 -0.919344443699304, -0.3934536743242045L -0.919344443699304, -0.3934536743242045 L -0.9229496095780781, -0.3849207946833648 L -0.9264755796834477, -0.3763548860453647 ",
          "type": "path"
         },
         {
          "fillcolor": "#9f4021",
          "layer": "below",
          "line": {
           "color": "rgb(175,175,175)",
           "width": 0.5
          },
          "path": "M -0.9365062321740996,-0.35065093340681625 Q -0.15512882735536948, -0.12623409572436434 -0.53367461793327, -0.8456898971690382L -0.53367461793327, -0.8456898971690382 L -0.5403441110995802, -0.841444140510827 L -0.5469798281180954, -0.8371457863669259 M -0.5469798281180954,-0.8371457863669259 Q -0.15525600387089267, -0.12607764774947763 -0.9315795624225118, -0.3635375068362016L -0.9315795624225118, -0.3635375068362016 L -0.9340651208224728, -0.35710271640369684 L -0.9365062321740996, -0.35065093340681625 ",
          "type": "path"
         },
         {
          "fillcolor": "#9f4021",
          "layer": "below",
          "line": {
           "color": "rgb(175,175,175)",
           "width": 0.5
          },
          "path": "M -0.9499056271248616,-0.312536877114563 Q -0.12388287232651658, -0.1570128464302587 -0.08296374649838632, -0.9965525659828244L -0.08296374649838632, -0.9965525659828244 L -0.08410857849255785, -0.9964565956548038 L -0.08525329947597168, -0.996359310152949 M -0.08525329947597168,-0.996359310152949 Q -0.12383115637806304, -0.15705363641148748 -0.9489775065993787, -0.3153437679238739L -0.9489775065993787, -0.3153437679238739 L -0.9494426041339211, -0.3139406655012988 L -0.9499056271248616, -0.312536877114563 ",
          "type": "path"
         },
         {
          "fillcolor": "#9f4021",
          "layer": "below",
          "line": {
           "color": "rgb(175,175,175)",
           "width": 0.5
          },
          "path": "M -0.9100279502978211,-0.4145468968364693 Q -0.09633942886698889, -0.17526755103436115 0.13773162602935865, -0.9904695851924525L 0.13773162602935865, -0.9904695851924525 L 0.12299296778202133, -0.9924075422305952 L 0.10822713009058599, -0.9941261933539199 M 0.10822713009058599,-0.9941261933539199 Q -0.09669936068846569, -0.17506922528657634 -0.8991090000455314, -0.4377248062848674L -0.8991090000455314, -0.4377248062848674 L -0.904642708557368, -0.42617082238697307 L -0.9100279502978211, -0.4145468968364693 ",
          "type": "path"
         },
         {
          "fillcolor": "#9f4021",
          "layer": "below",
          "line": {
           "color": "rgb(175,175,175)",
           "width": 0.5
          },
          "path": "M -0.9467161929869268,-0.3220690142443698 Q -0.053196428579809954, -0.19279559120050743 0.6476048933602269, -0.7619763133430653L 0.6476048933602269, -0.7619763133430653 L 0.6452289281716683, -0.7639892867380014 L 0.6428467060223902, -0.7659948515206629 M 0.6428467060223902,-0.7659948515206629 Q -0.053264824976966524, -0.1927767061140249 -0.9449244374451893, -0.3272885691845846L -0.9449244374451893, -0.3272885691845846 L -0.9458239157548548, -0.3246800276982761 L -0.9467161929869268, -0.3220690142443698 ",
          "type": "path"
         },
         {
          "fillcolor": "#9f4021",
          "layer": "below",
          "line": {
           "color": "rgb(175,175,175)",
           "width": 0.5
          },
          "path": "M -0.952879588073652,-0.30334879368902606 Q -0.012569809485728304, -0.19960460888840342 0.9072968506567798, -0.42049069524579136L 0.9072968506567798, -0.42049069524579136 L 0.9070900406597845, -0.4209366438501529 L 0.9068830114730687, -0.42138249073915957 M 0.9068830114730687,-0.42138249073915957 Q -0.012569578583424116, -0.1996046234290056 -0.9525801896090947, -0.30428766383851485L -0.9525801896090947, -0.30428766383851485 L -0.9527300044928705, -0.303818265644143 L -0.952879588073652, -0.30334879368902606 ",
          "type": "path"
         },
         {
          "fillcolor": "#9f4021",
          "layer": "below",
          "line": {
           "color": "rgb(175,175,175)",
           "width": 0.5
          },
          "path": "M -0.9520389414014382,-0.3059768848381017 Q 0.005584419280801382, -0.19992202045121546 0.9676348094747276, -0.25235466211823326L 0.9676348094747276, -0.25235466211823326 L 0.9674191248193189, -0.2531802459391788 L 0.9672027357778067, -0.2540056454174321 M 0.9672027357778067,-0.2540056454174321 Q 0.005591139555660475, -0.1999218326208249 -0.951494697682074, -0.3076651431067529L -0.951494697682074, -0.3076651431067529 L -0.9517671938739143, -0.30682113464586325 L -0.9520389414014382, -0.3059768848381017 ",
          "type": "path"
         },
         {
          "fillcolor": "#9f4021",
          "layer": "below",
          "line": {
           "color": "rgb(175,175,175)",
           "width": 0.5
          },
          "path": "M -0.9479783696255116,-0.3183347463318399 Q 0.02265596137414353, -0.1987126252008496 0.9953064144434581, -0.09677366050587903L 0.9953064144434581, -0.09677366050587903 L 0.9951394341485357, -0.09847591889661243 L 0.9949695425074718, -0.10017788918954187 M 0.9949695425074718,-0.10017788918954187 Q 0.022707720519252694, -0.19870671712053298 -0.9467161929869268, -0.3220690142443698L -0.9467161929869268, -0.3220690142443698 L -0.9473491212786843, -0.3202025021958834 L -0.9479783696255116, -0.3183347463318399 ",
          "type": "path"
         },
         {
          "fillcolor": "#8f391e",
          "layer": "below",
          "line": {
           "color": "rgb(175,175,175)",
           "width": 0.5
          },
          "path": "M -0.797306619740268,-0.6035744810032543 Q -0.11596689767612521, -0.16294685834153144 -0.30908566038443974, -0.951034202615613L -0.30908566038443974, -0.951034202615613 L -0.3461121244104187, -0.9381931556647101 L -0.38260701160227856, -0.9239111833248767 M -0.38260701160227856,-0.9239111833248767 Q -0.11606446925266756, -0.1628773740489961 -0.748390794588681, -0.6632580331778295L -0.748390794588681, -0.6632580331778295 L -0.7734246283677829, -0.6338882742519827 L -0.797306619740268, -0.6035744810032543 ",
          "type": "path"
         },
         {
          "fillcolor": "#8f391e",
          "layer": "below",
          "line": {
           "color": "rgb(175,175,175)",
           "width": 0.5
          },
          "path": "M -0.8696558317851226,-0.4936585198719116 Q -0.10570021754314665, -0.16978652482258855 -0.05912867740350962, -0.9982503691502006L -0.05912867740350962, -0.9982503691502006 L -0.06195730206454197, -0.9980788008573688 L -0.06478542917416603, -0.9978992174396767 M -0.06478542917416603,-0.9978992174396767 Q -0.1054825772315575, -0.1699218229086203 -0.8655634556912539, -0.5007992653467203L -0.8655634556912539, -0.5007992653467203 L -0.8676169900762605, -0.4972331028109553 L -0.8696558317851226, -0.4936585198719116 ",
          "type": "path"
         },
         {
          "fillcolor": "#8f391e",
          "layer": "below",
          "line": {
           "color": "rgb(175,175,175)",
           "width": 0.5
          },
          "path": "M -0.748390794588681,-0.6632580331778295 Q -0.04171265811825676, -0.19560177441094298 0.4127043876703219, -0.910865022051931L 0.4127043876703219, -0.910865022051931 L 0.3758221723302362, -0.9266918014016214 L 0.33833458836512964, -0.9410258797269065 M 0.33833458836512964,-0.9410258797269065 Q -0.04192757313679216, -0.19555581968036376 -0.6943783803640008, -0.7196100783640172L -0.6943783803640008, -0.7196100783640172 L -0.7219346309033644, -0.6919612624290633 L -0.748390794588681, -0.6632580331778295 ",
          "type": "path"
         },
         {
          "fillcolor": "#8f391e",
          "layer": "below",
          "line": {
           "color": "rgb(175,175,175)",
           "width": 0.5
          },
          "path": "M -0.8655634556912539,-0.5007992653467203 Q -0.030329423992395268, -0.19768693947828098 0.6756201073919545, -0.7372499375976127L 0.6756201073919545, -0.7372499375976127 L 0.6711802778639462, -0.7412941619940603 L 0.6667162403149394, -0.7453116495133508 M 0.6667162403149394,-0.7453116495133508 Q -0.03032937459811487, -0.19768694705641854 -0.8594856477540411, -0.5111598784185006L -0.8594856477540411, -0.5111598784185006 L -0.8625401079950775, -0.5059886976008852 L -0.8655634556912539, -0.5007992653467203 ",
          "type": "path"
         },
         {
          "fillcolor": "#8f391e",
          "layer": "below",
          "line": {
           "color": "rgb(175,175,175)",
           "width": 0.5
          },
          "path": "M -0.8765953052037818,-0.48122829394653077 Q 0.008632885377015315, -0.1998135963593752 0.9148339843610589, -0.4038301388679031L 0.9148339843610589, -0.4038301388679031 L 0.9135989719765396, -0.4066164266276143 L 0.9123554734862971, -0.40939893746759376 M 0.9123554734862971,-0.40939893746759376 Q 0.008712831335008171, -0.19981012629525988 -0.8732560971167279, -0.4872615199751156L -0.8732560971167279, -0.4872615199751156 L -0.8749309015601412, -0.4842477852248356 L -0.8765953052037818, -0.48122829394653077 ",
          "type": "path"
         },
         {
          "fillcolor": "#8f391e",
          "layer": "below",
          "line": {
           "color": "rgb(175,175,175)",
           "width": 0.5
          },
          "path": "M -0.8849160755966474,-0.4657505117019504 Q 0.022396872148487262, -0.1987419938462033 0.9663789119428774, -0.25712214714431025L 0.9663789119428774, -0.25712214714431025 L 0.9663301389095099, -0.25730538788592666 L 0.9662813311307972, -0.25748861937587614 M 0.9662813311307972,-0.25748861937587614 Q 0.02240339494196321, -0.19874125866330428 -0.8847087839327115, -0.46614414898430595L -0.8847087839327115, -0.46614414898430595 L -0.8848124516549556, -0.46594734187067416 L -0.8849160755966474, -0.4657505117019504 ",
          "type": "path"
         },
         {
          "fillcolor": "#8f391e",
          "layer": "below",
          "line": {
           "color": "rgb(175,175,175)",
           "width": 0.5
          },
          "path": "M -0.8847087839327115,-0.46614414898430595 Q 0.037415362806658824, -0.19646905768096434 0.9941135526295783, -0.1083431791955477L 0.9941135526295783, -0.1083431791955477 L 0.9940857229165136, -0.1085982296980594 L 0.9940578277675061, -0.10885327305206442 M 0.9940578277675061,-0.10885327305206442 Q 0.037430509930445305, -0.19646617247339768 -0.8843975181339694, -0.4667344318972785L -0.8843975181339694, -0.4667344318972785 L -0.8845532002720305, -0.46643931640515585 L -0.8847087839327115, -0.46614414898430595 ",
          "type": "path"
         },
         {
          "fillcolor": "#f0f3e7",
          "layer": "below",
          "line": {
           "color": "rgb(175,175,175)",
           "width": 0.5
          },
          "path": "M -0.5567753496262683,-0.830663114655121 Q -0.06250713712413832, -0.1899812038296004 -0.04520842178063781, -0.9989775766252734L -0.04520842178063781, -0.9989775766252734 L -0.04918665232938392, -0.9987896040871813 L -0.05316410269656991, -0.9985857890959938 M -0.05316410269656991,-0.9985857890959938 Q -0.062147856936087445, -0.1900990370261028 -0.5469798281180954, -0.8371457863669259L -0.5469798281180954, -0.8371457863669259 L -0.5518871074391064, -0.8339188333659915 L -0.5567753496262683, -0.830663114655121 ",
          "type": "path"
         },
         {
          "fillcolor": "#f0f3e7",
          "layer": "below",
          "line": {
           "color": "rgb(175,175,175)",
           "width": 0.5
          },
          "path": "M -0.30908566038443974,-0.951034202615613 Q 0.02059640509913073, -0.19893664342446443 0.4973671812242319, -0.867540135694633L 0.4973671812242319, -0.867540135694633 L 0.45555112399380254, -0.890209623306771 L 0.4127043876703219, -0.910865022051931 M 0.4127043876703219,-0.910865022051931 Q 0.020480153973429255, -0.19894864486400665 -0.2184832936167329, -0.9758406890524624L -0.2184832936167329, -0.9758406890524624 L -0.2640759185325463, -0.964501896966093 L -0.30908566038443974, -0.951034202615613 ",
          "type": "path"
         },
         {
          "fillcolor": "#f0f3e7",
          "layer": "below",
          "line": {
           "color": "rgb(175,175,175)",
           "width": 0.5
          },
          "path": "M -0.4803423907298694,-0.8770810610587333 Q 0.03818698117631461, -0.19632054010887345 0.7740884913263324, -0.6330774104295008L 0.7740884913263324, -0.6330774104295008 L 0.7644964824027519, -0.6446278991742592 L 0.7547321403568662, -0.6560330756237398 M 0.7547321403568662,-0.6560330756237398 Q 0.03823284737888136, -0.19631161295578814 -0.4533761156320484, -0.8913193018073801L -0.4533761156320484, -0.8913193018073801 L -0.4669135296343283, -0.8843029774033406 L -0.4803423907298694, -0.8770810610587333 ",
          "type": "path"
         },
         {
          "fillcolor": "#f0f3e7",
          "layer": "below",
          "line": {
           "color": "rgb(175,175,175)",
           "width": 0.5
          },
          "path": "M -0.53367461793327,-0.8456898971690382 Q 0.06230978857837617, -0.19004602139302487 0.9307962344060264, -0.3655384658494391L 0.9307962344060264, -0.3655384658494391 L 0.9282220158003293, -0.3720267320819477 L 0.9256025703193653, -0.37849687160950807 M 0.9256025703193653,-0.37849687160950807 Q 0.06250719716357815, -0.18998118407556464 -0.5200430417839892, -0.8541400556653785L -0.5200430417839892, -0.8541400556653785 L -0.5268757708365964, -0.8499423051627342 L -0.53367461793327, -0.8456898971690382 ",
          "type": "path"
         },
         {
          "fillcolor": "#f0f3e7",
          "layer": "below",
          "line": {
           "color": "rgb(175,175,175)",
           "width": 0.5
          },
          "path": "M -0.6000659761972308,-0.7999505136009755 Q 0.06659617406084634, -0.1885867163944944 0.9693349100810138, -0.24574342737544966L 0.9693349100810138, -0.24574342737544966 L 0.9689141165405832, -0.24739732166775985 L 0.9684905011021884, -0.24905049543181423 M 0.9684905011021884,-0.24905049543181423 Q 0.06665773505973044, -0.18856496587835925 -0.596808365544116, -0.8023838076734605L -0.596808365544116, -0.8023838076734605 L -0.5984384076157765, -0.8011688163491473 L -0.6000659761972308, -0.7999505136009755 ",
          "type": "path"
         },
         {
          "fillcolor": "#f0f3e7",
          "layer": "below",
          "line": {
           "color": "rgb(175,175,175)",
           "width": 0.5
          },
          "path": "M -0.5931772280879718,-0.8050719073957744 Q 0.08280583847316014, -0.18205272070133122 0.9966362277084672, -0.08195260593194399L 0.9966362277084672, -0.08195260593194399 L 0.9964009717224063, -0.0847649901235441 L 0.9961577795518464, -0.08757669917469485 M 0.9961577795518464,-0.08757669917469485 Q 0.08297056740609038, -0.18197770452533854 -0.5871594167757074, -0.8094713208580099L -0.5871594167757074, -0.8094713208580099 L -0.5901724218495086, -0.80727722158394 L -0.5931772280879718, -0.8050719073957744 ",
          "type": "path"
         },
         {
          "fillcolor": "#e2ecde",
          "layer": "below",
          "line": {
           "color": "rgb(175,175,175)",
           "width": 0.5
          },
          "path": "M -0.04520842178063781,-0.9989775766252734 Q 0.001038538656683452, -0.1999973035754697 0.05558061220607758, -0.9984542030292615L 0.05558061220607758, -0.9984542030292615 L 0.04850045853646913, -0.9988231602850187 L 0.041417867005598547, -0.9991419119888358 M 0.041417867005598547,-0.9991419119888358 Q 0.0005703014532072386, -0.19999918688897833 -0.03571909578283307, -0.9993618694929564L -0.03571909578283307, -0.9993618694929564 L -0.040464214992984526, -0.9991809882623875 L -0.04520842178063781, -0.9989775766252734 ",
          "type": "path"
         },
         {
          "fillcolor": "#e2ecde",
          "layer": "below",
          "line": {
           "color": "rgb(175,175,175)",
           "width": 0.5
          },
          "path": "M -0.08296374649838632,-0.9965525659828244 Q 0.060549631548290454, -0.19061411836316394 0.6428467060223902, -0.7659948515206629L 0.6428467060223902, -0.7659948515206629 L 0.641226646444799, -0.7673515412698124 L 0.6396037236619153, -0.7687048046407752 M 0.6396037236619153,-0.7687048046407752 Q 0.06042421428673006, -0.19065391243777646 -0.08006301883108068, -0.996789803828096L -0.08006301883108068, -0.996789803828096 L -0.08151346897228755, -0.9966722401953934 L -0.08296374649838632, -0.9965525659828244 ",
          "type": "path"
         },
         {
          "fillcolor": "#e2ecde",
          "layer": "below",
          "line": {
           "color": "rgb(175,175,175)",
           "width": 0.5
          },
          "path": "M -0.08845791479242392,-0.996079915122565 Q 0.10029417774517767, -0.1730349037345319 0.9082864859462662, -0.4183487294678726L 0.9082864859462662, -0.4183487294678726 L 0.9079983644350367, -0.4189737106111771 L 0.907709812881767, -0.41959849332206556 M 0.907709812881767,-0.41959849332206556 Q 0.10026786344780858, -0.17305015330710233 -0.08738980975281188, -0.9961741921729188L -0.08738980975281188, -0.9961741921729188 L -0.0879238749087798, -0.9961271968082316 L -0.08845791479242392, -0.996079915122565 ",
          "type": "path"
         },
         {
          "fillcolor": "#e2ecde",
          "layer": "below",
          "line": {
           "color": "rgb(175,175,175)",
           "width": 0.5
          },
          "path": "M -0.08952591812873925,-0.9959844928427382 Q 0.11492820394773338, -0.16368111661810048 0.9672027357778067, -0.2540056454174321L 0.9672027357778067, -0.2540056454174321 L 0.9670339463078187, -0.25464749495788663 L 0.9668647308973647, -0.255289232336122 M 0.9668647308973647,-0.255289232336122 Q 0.11490732658463619, -0.16369577360815327 -0.08845791479242392, -0.996079915122565L -0.08845791479242392, -0.996079915122565 L -0.08899192925024202, -0.9960323471295096 L -0.08952591812873925, -0.9959844928427382 ",
          "type": "path"
         },
         {
          "fillcolor": "#e2ecde",
          "layer": "below",
          "line": {
           "color": "rgb(175,175,175)",
           "width": 0.5
          },
          "path": "M -0.09135654083823233,-0.9958182476968739 Q 0.12652691589862833, -0.15489008862151715 0.9940205324494256, -0.10919331970849037L 0.9940205324494256, -0.10919331970849037 L 0.9940018411690109, -0.10936333824740521 L 0.993983120808409, -0.10953335358682258 M 0.993983120808409,-0.10953335358682258 Q 0.12652414904486695, -0.15489234877317956 -0.09105145832219207, -0.9958461888953545L -0.09105145832219207, -0.9958461888953545 L -0.09120400065021814, -0.9958322299792245 L -0.09135654083823233, -0.9958182476968739 ",
          "type": "path"
         },
         {
          "fillcolor": "#d4e5d6",
          "layer": "below",
          "line": {
           "color": "rgb(175,175,175)",
           "width": 0.5
          },
          "path": "M 0.16891799266386773,-0.9856301089934345 Q 0.10644072838953739, -0.16932327465503594 0.8149661980826542, -0.579508495177339L 0.8149661980826542, -0.579508495177339 L 0.8047897598344396, -0.5935599737731858 L 0.7943710766926948, -0.6074327884746499 M 0.7943710766926948,-0.6074327884746499 Q 0.10652353284532096, -0.16927119350365505 0.20396793415581016, -0.9789775696287485L 0.20396793415581016, -0.9789775696287485 L 0.18647263250955098, -0.9824601555915425 L 0.16891799266386773, -0.9856301089934345 ",
          "type": "path"
         },
         {
          "fillcolor": "#d4e5d6",
          "layer": "below",
          "line": {
           "color": "rgb(175,175,175)",
           "width": 0.5
          },
          "path": "M 0.071785344840925,-0.9974201042018701 Q 0.11972545190138816, -0.16020554349649826 0.9362237183158333, -0.3514045379087686L 0.9362237183158333, -0.3514045379087686 L 0.9335367255470679, -0.3584817736717705 L 0.9307962344060264, -0.3655384658494391 M 0.9307962344060264,-0.3655384658494391 Q 0.11992319422129637, -0.16005757554005756 0.08933796166325389, -0.9960013697811138L 0.08933796166325389, -0.9960013697811138 L 0.08056477627691305, -0.996749375130705 L 0.071785344840925, -0.9974201042018701 ",
          "type": "path"
         },
         {
          "fillcolor": "#d4e5d6",
          "layer": "below",
          "line": {
           "color": "rgb(175,175,175)",
           "width": 0.5
          },
          "path": "M -0.004310755650763509,-0.9999907086496951 Q 0.12159470064323025, -0.15879146316941356 0.9665250225533769, -0.25657236947534734L 0.9665250225533769, -0.25657236947534734 L 0.9664520063415702, -0.2568472686994229 L 0.9663789119428774, -0.25712214714431025 M 0.9663789119428774,-0.25712214714431025 Q 0.12160400922271473, -0.15878433468375244 -0.003624653762825853, -0.9999934309209734L -0.003624653762825853, -0.9999934309209734 L -0.003967704940265515, -0.9999921286277742 L -0.004310755650763509, -0.9999907086496951 ",
          "type": "path"
         },
         {
          "fillcolor": "#d4e5d6",
          "layer": "below",
          "line": {
           "color": "rgb(175,175,175)",
           "width": 0.5
          },
          "path": "M 0.020844988871346386,-0.9997827196140937 Q 0.1375881047553779, -0.14515341342808016 0.9972374833492127, -0.0742792151501936L 0.9972374833492127, -0.0742792151501936 L 0.9969442382316341, -0.07811648901958353 L 0.9966362277084672, -0.08195260593194399 M 0.9966362277084672,-0.08195260593194399 Q 0.13777630223248538, -0.14497479278530748 0.03113307668849083, -0.9995152482758373L 0.03113307668849083, -0.9995152482758373 L 0.02598937686950005, -0.9996622190969984 L 0.020844988871346386, -0.9997827196140937 ",
          "type": "path"
         },
         {
          "fillcolor": "#c6decd",
          "layer": "below",
          "line": {
           "color": "rgb(175,175,175)",
           "width": 0.5
          },
          "path": "M 0.6850749157947311,-0.7284726211388058 Q 0.16482612018528553, -0.11327996338570123 0.9256025703193653, -0.37849687160950807L 0.9256025703193653, -0.37849687160950807 L 0.92316493976046, -0.3844040764573996 L 0.9206896098116475, -0.39029558335302267 M 0.9206896098116475,-0.39029558335302267 Q 0.1649210623602514, -0.11314169518778686 0.695535255011096, -0.7184919686653773L 0.695535255011096, -0.7184919686653773 L 0.6903231231018356, -0.7235011995227982 L 0.6850749157947311, -0.7284726211388058 ",
          "type": "path"
         },
         {
          "fillcolor": "#c6decd",
          "layer": "below",
          "line": {
           "color": "rgb(175,175,175)",
           "width": 0.5
          },
          "path": "M 0.7229690316310015,-0.6908804377767054 Q 0.1799130348972997, -0.0873573115087857 0.9900280439615369, -0.14087040913440002L 0.9900280439615369, -0.14087040913440002 L 0.9886764436317802, -0.15006295281519444 L 0.987239491178278, -0.15924254160887608 M 0.987239491178278,-0.15924254160887608 Q 0.1800532509904056, -0.08706794362901893 0.7378561129198906, -0.6749580406416014L 0.7378561129198906, -0.6749580406416014 L 0.7304559578925109, -0.6829598037800866 L 0.7229690316310015, -0.6908804377767054 ",
          "type": "path"
         },
         {
          "fillcolor": "#c6decd",
          "layer": "below",
          "line": {
           "color": "rgb(175,175,175)",
           "width": 0.5
          },
          "path": "M 0.7082097027986514,-0.7060021365844765 Q 0.1836128634405017, -0.07928629376619692 0.9995065603657315, -0.031410759078131914L 0.9995065603657315, -0.031410759078131914 L 0.9992183777185991, -0.03953016100917173 L 0.9988642389276288, -0.04764695364374183 M 0.9988642389276288,-0.04764695364374183 Q 0.18380585210249592, -0.07883786357376382 0.7229690316310015, -0.6908804377767054L 0.7229690316310015, -0.6908804377767054 L 0.7156293097090305, -0.6984802725098086 L 0.7082097027986514, -0.7060021365844765 ",
          "type": "path"
         },
         {
          "fillcolor": "#b8d7c5",
          "layer": "below",
          "line": {
           "color": "rgb(175,175,175)",
           "width": 0.5
          },
          "path": "M 0.9063021640869807,-0.4226303199857477 Q 0.18797865105203318, -0.0682936801516652 0.9662324886084939, -0.2576718416075704L 0.9662324886084939, -0.2576718416075704 L 0.9662080543190446, -0.2577634492495131 L 0.9661836113443563, -0.2578550545744216 M 0.9661836113443563,-0.2578550545744216 Q 0.18797889032354836, -0.0682930215521863 0.9063852474303613, -0.42245210762949537L 0.9063852474303613, -0.42245210762949537 L 0.9063437101388588, -0.42254121584968285 L 0.9063021640869807, -0.4226303199857477 ",
          "type": "path"
         },
         {
          "fillcolor": "#b8d7c5",
          "layer": "below",
          "line": {
           "color": "rgb(175,175,175)",
           "width": 0.5
          },
          "path": "M 0.906468295730635,-0.4222738789401944 Q 0.19267476783733128, -0.05363239542320011 0.994279156650879, -0.10681272700206162L 0.994279156650879, -0.10681272700206162 L 0.9942333918595824, -0.10723787815594907 L 0.9941874452747784, -0.10766300970161269 M 0.9941874452747784,-0.10766300970161269 Q 0.19267819789228713, -0.05362007140036876 0.9068830114730687, -0.42138249073915957L 0.9068830114730687, -0.42138249073915957 L 0.906675763146659, -0.4218282358050768 L 0.906468295730635, -0.4222738789401944 ",
          "type": "path"
         },
         {
          "fillcolor": "#aad0bc",
          "layer": "below",
          "line": {
           "color": "rgb(175,175,175)",
           "width": 0.5
          },
          "path": "M 0.9693349100810138,-0.24574342737544966 Q 0.19709529285677954, -0.03396241354350883 0.9956794179209733, -0.09285739996657191L 0.9956794179209733, -0.09285739996657191 L 0.9954948419972476, -0.09481571366010566 L 0.9953064144434581, -0.09677366050587903 M 0.9953064144434581,-0.09677366050587903 Q 0.1971025442226478, -0.03392030455286584 0.9703974424434707, -0.2415135683541835L 0.9703974424434707, -0.2415135683541835 L 0.9698684822100252, -0.24362907711441598 L 0.9693349100810138, -0.24574342737544966 ",
          "type": "path"
         },
         {
          "fillcolor": "#f2e6ce",
          "layer": "below",
          "line": {
           "color": "rgb(150,150,150)",
           "width": 0.45
          },
          "path": "M 1.1, 0.0 L 1.0997048280870863, 0.025481190748316705 L 1.0988194707600871, 0.050948706347876134 L 1.0973444031692132, 0.07638887898904796 L 1.0952804169481418, 0.10178805553651699 L 1.0926286197891655, 0.12713260485659605 L 1.0893904348487211, 0.15240892513273108 L 1.0855675999836145, 0.1776034511652723 L 1.0811621668183544, 0.2027026616515944 L 1.076176499644095, 0.22769308644265757 L 1.0706132741497758, 0.25256131377211616 L 1.0644754759861446, 0.2772939974540945 L 1.0577663991634283, 0.3018778640457674 L 0.9616058174212985, 0.2744344218597885 L 0.9677049781692222, 0.252085452230995 L 0.9732847946816142, 0.22960119433828738 L 0.9783422724037226, 0.2069937149478705 L 0.9828746971075949, 0.1842751469559949 L 0.9868796363487404, 0.16145768287752024 L 0.9903549407715646, 0.13855356830248278 L 0.9932987452628776, 0.11557509532417821 L 0.995709469952856, 0.09253459594228816 L 0.997585821062921, 0.06944443544458904 L 0.9989267916000791, 0.046317005770796484 L 0.9997316618973511, 0.023164718862106092 L 1.0, 0.0 L 1.1 ,0.0",
          "type": "path"
         },
         {
          "fillcolor": "#ecd5bb",
          "layer": "below",
          "line": {
           "color": "rgb(150,150,150)",
           "width": 0.45
          },
          "path": "M 1.0477622424397222, 0.33495415106800064 L 1.0406273180060228, 0.3565035554094685 L 1.033049237721061, 0.3779011410990117 L 1.0250312287446097, 0.3991377958779599 L 1.0165767055820658, 0.42020447602079886 L 1.0076892686303673, 0.4410922101864822 L 0.9983727026447473, 0.4617921032389176 L 0.9886309751269801, 0.4822953400350005 L 0.9784682346358012, 0.502593189178583 L 0.9678888090202261, 0.5226770067387778 L 0.9568972035765156, 0.542538239931016 L 0.9454980991295746, 0.5621684307592889 L 0.9336963500396026, 0.5815592196180233 L 0.9214969821348415, 0.6007023488520581 L 0.9089051905713048, 0.619589666273204 L 0.8959263376203962, 0.638213128631889 L 0.882565950385362, 0.6565648050424138 L 0.8688297184475501, 0.6746368803603542 L 0.8547234914434751, 0.6924216585106765 L 0.8402532765737244, 0.7099115657651454 L 0.8254252360447649, 0.7270991539676307 L 0.8102456844447393, 0.7439771037059382 L 0.7947210860543699, 0.7605382274288144 L 0.7788580520941161, 0.776775472506798 L 0.7626633379087554, 0.792681924235614 L 0.7461438400905903, 0.8082508087808312 L 0.7293065935425018, 0.8234754960625313 L 0.712158768482106, 0.8383495025787575 L 0.6947076673882832, 0.8528664941665435 L 0.6769607218913842, 0.8670202886993453 L 0.6589254896084378, 0.8808048587197285 L 0.6406096509247046, 0.8942143340061869 L 0.6220210057229507, 0.9072430040730043 L 0.6031674700618317, 0.9198853206020898 L 0.584057072804804, 0.9321358998057547 L 0.564697952200997, 0.9439895247194222 L 0.5450983524195017, 0.9554411474232962 L 0.5252666200385555, 0.9664858911920401 L 0.5052112004911133, 0.9771190525715525 L 0.48494063446832214, 0.9873361033819543 L 0.46446355428242836, 0.9971326926459356 L 0.4437886801906693, 1.0065046484416373 L 0.422924816681712, 1.0154479796792844 L 0.4018808487262216, 1.023958877800809 L 0.3806657379931568, 1.0320337184017419 L 0.3592885190334022, 1.0396690627746816 L 0.3377582954323643, 1.0468616593736844 L 0.30705299584760387, 0.9516924176124403 L 0.32662592639400195, 0.9451536934315287 L 0.3460597618119607, 0.9382124712743106 L 0.3653462261147469, 0.9308717070916445 L 0.3844771060742836, 0.9231345269811676 L 0.40344425471879025, 0.9150042258560339 L 0.4222395948022076, 0.9064842660417596 L 0.4408551222439292, 0.8975782758017766 L 0.45928290953737577, 0.8882900477923203 L 0.4775151091259595, 0.8786235374473091 L 0.4955439567450015, 0.8685828612939056 L 0.5133617747281791, 0.8581722951994747 L 0.5309609752770945, 0.8473962725506861 L 0.5483340636925742, 0.8362593823655361 L 0.5654736415663187, 0.8247663673390947 L 0.5823724099315496, 0.8129221218238062 L 0.599023172371307, 0.8007316897452076 L 0.6154188380830765, 0.7882002624539503 L 0.6315524248984392, 0.7753331765150394 L 0.64741706225646, 0.7621359114352341 L 0.6630059941295471, 0.7486140873295739 L 0.6783125819005366, 0.7347734625280283 L 0.6933303071897776, 0.7206199311232854 L 0.7080527746310146, 0.7061595204607254 L 0.7224737145948816, 0.6913983885716494 L 0.7365869858588538, 0.6763428215508528 L 0.7503865782225135, 0.6609992308796642 L 0.7638666150670221, 0.6453741506955867 L 0.7770213558577046, 0.6294742350097059 L 0.7898451985886819, 0.6133062548730492 L 0.8023326821685108, 0.5968770954931034 L 0.8144784887458146, 0.5801937533017172 L 0.8262774459739134, 0.5632633329756399 L 0.8377245292134923, 0.5460930444109618 L 0.8488148636723659, 0.5286901996527483 L 0.8595437264814314, 0.5110622097811717 L 0.8699065487059232, 0.4932165817554691 L 0.8798989172911146, 0.47516091521707066 L 0.8895165769416374, 0.4569028992532572 L 0.8987554319336182, 0.4384503091227277 L 0.9076115478588611, 0.41981100294447055 L 0.9160811533003338, 0.4009929183513474 L 0.9241606414382416, 0.3820040691098171 L 0.9318465715860087, 0.36285254170723624 L 0.9391356706555098, 0.3435464919081924 L 0.9460248345509298, 0.32409414128133496 L 0.9525111294906565, 0.3045037736981824 L 1.0477622424397222 ,0.33495415106800064",
          "type": "path"
         },
         {
          "fillcolor": "#e6c4a9",
          "layer": "below",
          "line": {
           "color": "rgb(150,150,150)",
           "width": 0.45
          },
          "path": "M 0.3047089127318786, 1.0569543407838187 L 0.28253249910787, 1.0630970731536522 L 0.2602324421447235, 1.068774567462846 L 0.23781850090914647, 1.0739843390968635 L 0.21530048430647336, 1.0787241081283936 L 0.19268824678804095, 1.0829918003151044 L 0.16999168403863266, 1.086785548007384 L 0.1472207286458765, 1.0901036909656703 L 0.12438534575349607, 1.0929447770870142 L 0.10149552870031182, 1.0953075630405573 L 0.07856129464690359, 1.0971910148116428 L 0.05559268019185014, 1.0985943081543281 L 0.032599736979460135, 1.099516828952095 L 0.009592527300918583, 1.099958173486602 L -0.013418880309223766, 1.0999181486143625 L -0.036424415479295806, 1.0993967718512694 L -0.059414010407554126, 1.0983942713649282 L -0.08237760426810647, 1.0969110858748068 L -0.10530514761378354, 1.0949478644602397 L -0.1281866067740288, 1.0925054662763756 L -0.15101196824588622, 1.089584960178188 L -0.17377124307616215, 1.0861876242527189 L -0.1964544712328414, 1.0823149452597542 L -0.2190517259638489, 1.0779686179811818 L -0.24155311814124722, 1.0731505444793106 L -0.26394880058896664, 1.0678628332644815 L -0.23995345508087873, 0.9707843938768014 L -0.21959374376477017, 0.9755914040721005 L -0.19913793269440808, 0.9799714708919833 L -0.17859497384803763, 0.9839226775088674 L -0.1579738573419656, 0.9874432947751989 L -0.1372836074962602, 0.9905317819801709 L -0.11653327888548072, 0.9931867875239777 L -0.09573195237616684, 0.9954071495093088 L -0.07488873115282406, 0.9971918962498242 L -0.05401273673414011, 0.9985402466953891 L -0.033113104981178004, 0.9994516107738811 L -0.012198982099294332, 0.9999255896494205 L 0.008720479364471439, 0.9999619758969107 L 0.029636124526781937, 0.9995607535928134 L 0.05053880017440921, 0.9987220983221164 L 0.07141935876991234, 0.9974463771014934 L 0.09226866245482893, 0.9957341482186883 L 0.11307758704863277, 0.9935861609881947 L 0.1338370260417059, 0.9910033554233365 L 0.15453789458057512, 0.9879868618248945 L 0.17517113344367358, 0.9845380002864585 L 0.19572771300588485, 0.9806582801167214 L 0.21619863719013313, 0.9763493991789667 L 0.23657494740429408, 0.9716132431480416 L 0.25684772646169995, 0.9664518846851382 L 0.277008102483526, 0.9608675825307441 L 0.3047089127318786 ,1.0569543407838187",
          "type": "path"
         },
         {
          "fillcolor": "#e1b396",
          "layer": "below",
          "line": {
           "color": "rgb(150,150,150)",
           "width": 0.45
          },
          "path": "M -0.29736093997349655, 1.059045075234326 L -0.32032409821062224, 1.0523271697079535 L -0.34313571485199995, 1.0451114204681753 L -0.3657849979877898, 1.037401241201818 L -0.3882612325062403, 1.0292002795047888 L -0.4105537851628836, 1.0205124151564393 L -0.4326521096109985, 1.0113417582840891 L -0.45454575139096426, 1.0016926474185701 L -0.47622435287614406, 0.9915696474417206 L -0.4976776581729568, 0.9809775474267909 L -0.5188955179728219, 0.9699213583727895 L -0.5398678943536763, 0.9584063108338384 L -0.5605848655288017, 0.9464378524446576 L -0.5810366305407041, 0.9340216453433536 L -0.6012135138978321, 0.9211635634927282 L -0.6211059701519409, 0.9078696899013737 L -0.6407045884139307, 0.8941463137458745 L -0.6600000968060309, 0.8799999273954686 L -0.6789833668482138, 0.8654372233405864 L -0.6172576062256488, 0.7867611121278058 L -0.6000000880054825, 0.7999999339958805 L -0.582458716739937, 0.8128602852235222 L -0.564641791047219, 0.8253360817285215 L -0.54655773990712, 0.8374214213570256 L -0.5282151186733673, 0.849110586675776 L -0.5096226050261833, 0.8603980476769614 L -0.4907889948669784, 0.8712784643943985 L -0.4717231981571107, 0.8817466894298085 L -0.45243423470268795, 0.8917977703879917 L -0.4329312298874037, 0.9014269522197459 L -0.41322341035542204, 0.9106296794714274 L -0.3933200996463622, 0.9194015984400808 L -0.3732307137844396, 0.9277385592331266 L -0.35296475682385475, 0.9356366177316261 L -0.33253181635253615, 0.9430920374561982 L -0.31194155895636355, 0.9501012913347048 L -0.2912037256460202, 0.9566610633708666 L -0.2703281272486332, 0.9627682502130234 L -0.29736093997349655 ,1.059045075234326",
          "type": "path"
         },
         {
          "fillcolor": "#dba284",
          "layer": "below",
          "line": {
           "color": "rgb(150,150,150)",
           "width": 0.45
          },
          "path": "M -0.7058323696635972, 0.8436827993594934 L -0.7271100262358691, 0.8254156587727628 L -0.7479151051013161, 0.8066120477412221 L -0.7682340842122343, 0.7872841874790766 L -0.7880537574564714, 0.7674446399309446 L -0.7164125067786103, 0.6976769453917677 L -0.698394622011122, 0.7157128977082514 L -0.6799228228193782, 0.7332836797647473 L -0.6610091147598809, 0.7503778716116025 L -0.6416657906032701, 0.7669843630540849 L -0.7058323696635972 ,0.8436827993594934",
          "type": "path"
         },
         {
          "fillcolor": "#d59171",
          "layer": "below",
          "line": {
           "color": "rgb(150,150,150)",
           "width": 0.45
          },
          "path": "M -0.8117709191892799, 0.7423125856124169 L -0.8404122192604989, 0.7097233980345042 L -0.867746102393664, 0.6760301041969987 L -0.8937300456685078, 0.6412851202619371 L -0.918323626246361, 0.6055424984901836 L -0.8348396602239645, 0.5504931804456215 L -0.8124818596986434, 0.5829864729653973 L -0.788860093085149, 0.6145728219972715 L -0.7640111084186353, 0.6452030891222765 L -0.7379735628993453, 0.6748296232840153 L -0.8117709191892799 ,0.7423125856124169",
          "type": "path"
         },
         {
          "fillcolor": "#d0805f",
          "layer": "below",
          "line": {
           "color": "rgb(150,150,150)",
           "width": 0.45
          },
          "path": "M -0.9368910385037288, 0.5763984576414173 L -0.970782237452344, 0.5172831405014285 L -1.000948172619359, 0.4561828095511341 L -1.0272730857416115, 0.39333193019497936 L -1.0496559580307216, 0.32897168536305355 L -0.9542326891188379, 0.2990651685118668 L -0.9338846234014648, 0.35757448199543573 L -0.9099528841994171, 0.4147116450464855 L -0.8825293067748582, 0.47025740045584413 L -0.8517191259124807, 0.5239985978558338 L -0.9368910385037288 ,0.5763984576414173",
          "type": "path"
         },
         {
          "fillcolor": "#ca6f4c",
          "layer": "below",
          "line": {
           "color": "rgb(150,150,150)",
           "width": 0.45
          },
          "path": "M -1.059471266531148, 0.29583886728231856 L -1.063441509117803, 0.2812332780544468 L -1.0672104131685591, 0.2665744436824236 L -1.070777265126895, 0.25186513948414446 L -1.074141389690272, 0.2371081503328204 L -0.9764921724457017, 0.2155528639389276 L -0.9734338773880862, 0.22896830862194947 L -0.97019128469869, 0.24234040334765783 L -0.9667650082889118, 0.25566661641313343 L -0.9631556968464982, 0.2689444248021078 L -1.059471266531148 ,0.29583886728231856",
          "type": "path"
         },
         {
          "fillcolor": "#c45e3a",
          "layer": "below",
          "line": {
           "color": "rgb(150,150,150)",
           "width": 0.45
          },
          "path": "M -1.0810591127413554, 0.20325155536643125 L -1.085920586015171, 0.1754322686066271 L -1.0900662970470476, 0.1474973492715648 L -1.09349351327674, 0.11946521008934811 L -1.0961999757250893, 0.09135432786854421 L -0.9965454324773539, 0.08304938897140382 L -0.9940850120697636, 0.10860473644486192 L -0.9909693609518614, 0.13408849933778616 L -0.9872005327410645, 0.1594838805514792 L -0.9827810115830503, 0.1847741412422102 L -1.0810591127413554 ,0.20325155536643125",
          "type": "path"
         },
         {
          "fillcolor": "#bf4d28",
          "layer": "below",
          "line": {
           "color": "rgb(150,150,150)",
           "width": 0.45
          },
          "path": "M -1.0985285759934058, 0.05687677668346124 L -1.0998528720042304, 0.017990551521444863 L -1.0998010863968175, -0.020918182530516083 L -1.0983732839627622, -0.059800744785139505 L -1.0955712510979856, -0.09860848730000416 L -0.9959738646345322, -0.08964407936364013 L -0.9985211672388747, -0.05436431344103591 L -0.9998191694516523, -0.01901652957319644 L -0.9998662472765731, 0.016355046837677148 L -0.9986623418121869, 0.0517061606213284 L -1.0985285759934058 ,0.05687677668346124",
          "type": "path"
         },
         {
          "fillcolor": "#af4624",
          "layer": "below",
          "line": {
           "color": "rgb(150,150,150)",
           "width": 0.45
          },
          "path": "M -1.0919332853828896, -0.1329725545852573 L -1.0859873091913728, -0.1750187540673344 L -1.0784229089781554, -0.21680412678520092 L -1.0692513578096088, -0.25826640087767544 L -1.058486323855335, -0.29934378599065503 L -0.9622602944139408, -0.2721307145369591 L -0.9720466889178261, -0.2347876371615231 L -0.9803844627074139, -0.197094660713819 L -0.9872611901739751, -0.15910795824303126 L -0.992666623075354, -0.12088414053205208 L -1.0919332853828896 ,-0.1329725545852573",
          "type": "path"
         },
         {
          "fillcolor": "#9f4021",
          "layer": "below",
          "line": {
           "color": "rgb(150,150,150)",
           "width": 0.45
          },
          "path": "M -1.0485614092075264, -0.33244393680848866 L -1.035727422860815, -0.37049791569466933 L -1.0215129089998625, -0.40805805560807007 L -1.0059368142384717, -0.44507429240493623 L -0.9890199000500849, -0.48149728691335364 L -0.8991090000455316, -0.43772480628486693 L -0.9144880129440651, -0.40461299309539656 L -0.928648099090784, -0.3709618687346091 L -0.9415703844189228, -0.3368162869951539 L -0.9532376447341149, -0.3022217607349897 L -1.0485614092075264 ,-0.33244393680848866",
          "type": "path"
         },
         {
          "fillcolor": "#8f391e",
          "layer": "below",
          "line": {
           "color": "rgb(150,150,150)",
           "width": 0.45
          },
          "path": "M -0.9734076831563122, -0.5123255628721455 L -0.9621276222573772, -0.5332076879503573 L -0.9503996528455224, -0.5538415837323076 L -0.9382292347549916, -0.57421764432231 L -0.9256220337974116, -0.594326383857173 L -0.9125839191241317, -0.614158440922243 L -0.8991209604939037, -0.6337045829095134 L -0.8852394254471652, -0.652955710315771 L -0.870945776388255, -0.6719028609787727 L -0.8562466675769053, -0.6905372142494892 L -0.8411489420304207, -0.7088500950984659 L -0.8256596283379845, -0.726832978154391 L -0.8097859373885697, -0.7444774916729959 L -0.7935352590139851, -0.7617754214344328 L -0.7769151585486181, -0.7787187145673179 L -0.7599333733074685, -0.7952994832976644 L -0.7425978089841239, -0.8115100086209528 L -0.7249165359703472, -0.8273427438956316 L -0.7068977855989866, -0.8427903183563805 L -0.6885499463119679, -0.8578455405454914 L -0.6259544966472435, -0.779859582314083 L -0.6426343505445332, -0.7661730166876186 L -0.6590150327003156, -0.7521297671778469 L -0.6750889172582943, -0.7377363714735934 L -0.6908485211886076, -0.7229995302706039 L -0.706286507771471, -0.7079261041521071 L -0.7213956900127138, -0.6925231103949389 L -0.7361690339896088, -0.6767977197027235 L -0.7505996621254404, -0.6607572528676281 L -0.7646808563912915, -0.6444091773622417 L -0.7784060614335502, -0.627761103863172 L -0.7917688876256863, -0.6108207827079751 L -0.8047631140428774, -0.5935961002870646 L -0.8173826913580942, -0.5760950753722849 L -0.8296217446583015, -0.5583258553838573 L -0.841474576179465, -0.54029671259743 L -0.8529356679590833, -0.5220160402930091 L -0.8639996844050203, -0.5034923488475523 L -0.8746614747794338, -0.4847342617730521 L -0.8849160755966474, -0.4657505117019504 L -0.9734076831563122 ,-0.5123255628721455",
          "type": "path"
         },
         {
          "fillcolor": "#f0f3e7",
          "layer": "below",
          "line": {
           "color": "rgb(150,150,150)",
           "width": 0.45
          },
          "path": "M -0.661264608877963, -0.8790501220325692 L -0.6427658444510328, -0.8926657096624419 L -0.6239868189701117, -0.9058920740085771 L -0.6049357205328089, -0.9187234480644606 L -0.5856208558669534, -0.931154237048652 L -0.5660506467086655, -0.9431790208442413 L -0.5462336261302806, -0.9547925563621478 L -0.5261784348197293, -0.96598977982723 L -0.5058938173129932, -0.9767658089862115 L -0.4853886181812818, -0.987115945236458 L -0.4646717781745909, -0.9970356756746791 L -0.4437523303233243, -1.0065206750646603 L -0.42263939599967976, -1.0155668077231679 L -0.40134218094051954, -1.0241701293232035 L -0.3798699712334427, -1.0323268886138264 L -0.3582321292678445, -1.0400335290557832 L -0.33643808965268435, -1.047286690372246 L -0.3144973551027781, -1.054083210013971 L -0.29241949229539, -1.0604201245382447 L -0.2702141276989356, -1.0662946709010148 L -0.2478909433756151, -1.0717042876616423 L -0.2254596727598056, -1.0766466160997497 L -0.20293009641405482, -1.0811195012436796 L -0.18031203776452506, -1.0851209928101127 L -0.15761535881774805, -1.0886493460544369 L -0.13484995586055762, -1.0917030225314968 L -0.12259086896414328, -0.9924572932104516 L -0.1432866898343164, -0.9896812236858515 L -0.1639200343313864, -0.9864736298273751 L -0.18448190583095891, -0.9828359102215268 L -0.20496333887255053, -0.9787696509997723 L -0.22535540306874097, -0.9742766251469474 L -0.24564920699903237, -0.9693587917281952 L -0.26583590208671815, -0.9640182950347679 L -0.28590668645707096, -0.9582574636490645 L -0.3058528087751676, -0.9520788094293144 L -0.3256655720616768, -0.9454850264143483 L -0.34533633748494785, -0.9384789896489331 L -0.364856528127745, -0.9310637539301849 L -0.38421763272698156, -0.9232425524756072 L -0.4034112093848402, -0.9150187955133274 L -0.422428889249628, -0.9063960687951628 L -0.4412623801648016, -0.8973781320331435 L -0.4599034702845392, -0.8879689172601921 L -0.4783440316542993, -0.8781725271156635 L -0.49657602375480053, -0.8679932330564979 L -0.5145914970078777, -0.8574354734947648 L -0.5323825962426849, -0.8465038518624108 L -0.5499415641207352, -0.835203134604055 L -0.5672607445182832, -0.8235382490987063 L -0.5843325858645753, -0.8115142815113107 L -0.6011496444345118, -0.7991364745750628 L -0.661264608877963 ,-0.8790501220325692",
          "type": "path"
         },
         {
          "fillcolor": "#e2ecde",
          "layer": "below",
          "line": {
           "color": "rgb(150,150,150)",
           "width": 0.45
          },
          "path": "M -0.10049219492205558, -1.0954000724665613 L -0.08521376086983552, -1.0966944036323056 L -0.06991876958385371, -1.097775644501134 L -0.05461019291682114, -1.0986435849854073 L -0.039291005361117355, -1.099298056442252 L -0.03571909578283396, -0.9993618694929564 L -0.04964562992438285, -0.9987668954412793 L -0.06356251780350336, -0.9979778586373945 L -0.0774670553362141, -0.9969949123930051 L -0.09135654083823233, -0.9958182476968739 L -0.10049219492205558 ,-1.0954000724665613",
          "type": "path"
         },
         {
          "fillcolor": "#d4e5d6",
          "layer": "below",
          "line": {
           "color": "rgb(150,150,150)",
           "width": 0.45
          },
          "path": "M -0.004741831215839861, -1.0999897795146647 L 0.01815830459933307, -1.0998501152311972 L 0.04105057027924656, -1.0992337561591479 L 0.06392504390490794, -1.0981409694396052 L 0.08677181126871744, -1.0965722287059554 L 0.10958097017146956, -1.0945282138786006 L 0.1323426347141411, -1.0920098108702685 L 0.15504693958261445, -1.089018111202043 L 0.17768404432348758, -1.0855544115302784 L 0.20024413760909945, -1.0816202130846058 L 0.22271744148993655, -1.0772172210172732 L 0.24509421563257272, -1.0723473436641013 L 0.2673647615413007, -1.0670126917173777 L 0.2895194267616401, -1.0612155773110437 L 0.3115486090638816, -1.0549585130185741 L 0.3334427606048629, -1.0482442107639842 L 0.355192392066181, -1.0410755806464316 L 0.37678807676702947, -1.033455729678927 L 0.39822045474989215, -1.0253879604417 L 0.4194802368373176, -1.0168757696508006 L 0.4405582086580118, -1.0079228466425612 L 0.46144523464051773, -0.9985330717745696 L 0.48213226197273296, -0.9887105147438537 L 0.5026103245255588, -0.978459432823003 L 0.5228705467389867, -0.9677842690149873 L 0.5429041474689216, -0.9566896501274819 L 0.5627024437930888, -0.9451803847675246 L 0.5822568547743688, -0.9332614612573797 L 0.6015589051799264, -0.9209380454725109 L 0.6206002291545337, -0.9082154786025949 L 0.6393725738464797, -0.8950992748365558 L 0.6578678029845015, -0.8815951189726186 L 0.6760779004041956, -0.8677088639544112 L 0.6146162730947232, -0.7888262399585555 L 0.5980616390768195, -0.8014501081569259 L 0.5812477944058906, -0.813726613487778 L 0.5641820265041215, -0.825650435093268 L 0.5468717319817512, -0.8372164049750098 L 0.5293244134312444, -0.8484195102339815 L 0.5115476761755352, -0.8592548952432042 L 0.49354922497174686, -0.8697178637522561 L 0.475336860671806, -0.8798038809227157 L 0.45691847684141706, -0.889508575293639 L 0.4383020563388481, -0.8988277406762306 L 0.4194956678550161, -0.9077573379768814 L 0.40050746241637436, -0.9162934969477828 L 0.3813456698521069, -0.9244325178643641 L 0.36201859522717467, -0.9321708731288181 L 0.342534615242754, -0.9395052087990244 L 0.32290217460561904, -0.9464323460422104 L 0.30312978236805715, -0.9529492825127129 L 0.28322600823989236, -0.959053193653249 L 0.26319947887421824, -0.9647414339191305 L 0.24305887412845514, -0.9700115379248887 L 0.22281292330233882, -0.9748612215128193 L 0.20247040135448777, -0.9792883827429756 L 0.1820401250991813, -0.9832911028041871 L 0.1615309493849887, -0.9868676468457076 L 0.1409517632569222, -0.99001646472913 L 0.12031148610376463, -0.9927361917002441 L 0.09961906379224504, -0.9950256489805459 L 0.07888346478974312, -0.9968838442781413 L 0.05811367627718904, -0.9983099722178228 L 0.037318700253860505, -0.9993034146901343 L 0.016507549635757335, -0.9998637411192702 L -0.004310755650763509, -0.9999907086496951 L -0.004741831215839861 ,-1.0999897795146647",
          "type": "path"
         },
         {
          "fillcolor": "#c6decd",
          "layer": "below",
          "line": {
           "color": "rgb(150,150,150)",
           "width": 0.45
          },
          "path": "M 0.7029996908479115, -0.846044581962287 L 0.7210790892365118, -0.8306894408055533 L 0.7388231888246843, -0.8149480324873022 L 0.7562237386793565, -0.7988276766974317 L 0.7732726476166607, -0.7823358693348529 L 0.7899619879643072, -0.7654802790219223 L 0.8062839992479142, -0.7482687435385698 L 0.8222310917996007, -0.7307092661777573 L 0.8377958502871475, -0.7128100120239864 L 0.8529710371620964, -0.6945793041565648 L 0.8677495960251838, -0.6760256197794065 L 0.8821246549075314, -0.6571575862791731 L 0.8960895294660899, -0.6379839772135676 L 0.909637726091825, -0.6185137082316721 L 0.9227629449292223, -0.5987558329282057 L 0.935459082805694, -0.5787195386336371 L 0.9477202360695269, -0.5584141421421205 L 0.9595407033350589, -0.5378490853792174 L 0.9709149881337965, -0.5170339310114472 L 0.9818378014702537, -0.49597835799968004 L 0.8925798195184124, -0.45088941636334545 L 0.8826499892125422, -0.47003084637404285 L 0.8723097303045989, -0.48895371398110665 L 0.8615638509722972, -0.5076492201292004 L 0.8504173480051763, -0.5261086714851246 L 0.8388754044811111, -0.544323484480187 L 0.8269433873562045, -0.56228518930152 L 0.8146268449691726, -0.5799854338305159 L 0.8019315044613922, -0.5974159875265209 L 0.7888632691138033, -0.6145687452540058 L 0.7754282156019058, -0.6314357310514225 L 0.761632591170134, -0.6480091018399876 L 0.7474828107269097, -0.6642811510706884 L 0.7329854538617401, -0.6802443123077906 L 0.7181472617857337, -0.695891162747202 L 0.7029751341969642, -0.711214426668048 L 0.6874761260721423, -0.726206978815847 L 0.6716574443860767, -0.7408618477157292 L 0.6555264447604652, -0.7551722189141393 L 0.6390906280435559, -0.7691314381475336 L 0.7029996908479115 ,-0.846044581962287",
          "type": "path"
         },
         {
          "fillcolor": "#b8d7c5",
          "layer": "below",
          "line": {
           "color": "rgb(150,150,150)",
           "width": 0.45
          },
          "path": "M 0.9969323804956789, -0.46489335198432247 L 1.013032720051209, -0.4286778605265833 L 1.0278179733858794, -0.39190587337388005 L 1.04126894676335, -0.3546251267272861 L 1.053368178566246, -0.3168840172429486 L 0.9576074350602236, -0.28807637931177144 L 0.9466081334212273, -0.3223864788429873 L 0.9343799758053449, -0.3562780667035273 L 0.92093883641019, -0.3897071459332575 L 0.9063021640869807, -0.4226303199857477 L 0.9969323804956789 ,-0.46489335198432247",
          "type": "path"
         },
         {
          "fillcolor": "#aad0bc",
          "layer": "below",
          "line": {
           "color": "rgb(150,150,150)",
           "width": 0.45
          },
          "path": "M 1.062801972478792, -0.2836405600318638 L 1.0707977698565183, -0.25177794992871627 L 1.0778385583685826, -0.21969078745804527 L 1.0839180585702197, -0.18740769009132494 L 1.089030848357691, -0.15495745004783715 L 0.9900280439615372, -0.14087040913439738 L 0.9853800532456541, -0.17037062735574993 L 0.9798532348805294, -0.19971889768913204 L 0.9734525180513801, -0.22888904538974203 L 0.9661836113443563, -0.2578550545744216 L 1.062801972478792 ,-0.2836405600318638",
          "type": "path"
         },
         {
          "fillcolor": "#9cc9b4",
          "layer": "below",
          "line": {
           "color": "rgb(150,150,150)",
           "width": 0.45
          },
          "path": "M 1.0933608085049842, -0.12067370229394545 L 1.0955185511483467, -0.09919225821518145 L 1.0972542852943115, -0.07767260394289756 L 1.0985673423147122, -0.05612302913768925 L 1.0994572164023046, -0.03455183498594413 L 0.9995065603657315, -0.031410759078131026 L 0.9986975839224657, -0.05102093557971749 L 0.9975038957221012, -0.07061145812990686 L 0.9959259555894061, -0.09017478019561949 L 0.9939643713681673, -0.10970336572176857 L 1.0933608085049842 ,-0.12067370229394545",
          "type": "path"
         }
        ],
        "showlegend": false,
        "title": "Data Jobs ‒ Technologies in Demand and Relationships Between Them",
        "titlefont": {
         "color": "#655643",
         "family": "Merryweather",
         "size": 18
        },
        "width": 960,
        "xaxis": {
         "showgrid": false,
         "showline": false,
         "showticklabels": false,
         "title": "",
         "zeroline": false
        },
        "yaxis": {
         "showgrid": false,
         "showline": false,
         "showticklabels": false,
         "title": "",
         "zeroline": false
        }
       }
      },
      "text/html": [
       "<div id=\"1a601c91-adf7-4bac-8d54-5672bf563ff2\" style=\"height: 525px; width: 960px;\" class=\"plotly-graph-div\"></div><script type=\"text/javascript\">require([\"plotly\"], function(Plotly) { window.PLOTLYENV=window.PLOTLYENV || {};window.PLOTLYENV.BASE_URL=\"https://plot.ly\";Plotly.newPlot(\"1a601c91-adf7-4bac-8d54-5672bf563ff2\", [{\"hoverinfo\": \"text\", \"line\": {\"color\": \"#f2e6ce\", \"shape\": \"spline\", \"width\": 0.25}, \"mode\": \"lines\", \"text\": \"Power BI<br>1292\", \"x\": [1.1, 1.0997048280870863, 1.0988194707600871, 1.0973444031692132, 1.0952804169481418, 1.0926286197891655, 1.0893904348487211, 1.0855675999836145, 1.0811621668183544, 1.076176499644095, 1.0706132741497758, 1.0644754759861446, 1.0577663991634283], \"y\": [0.0, 0.025481190748316705, 0.050948706347876134, 0.07638887898904796, 0.10178805553651699, 0.12713260485659605, 0.15240892513273108, 0.1776034511652723, 0.2027026616515944, 0.22769308644265757, 0.25256131377211616, 0.2772939974540945, 0.3018778640457674], \"type\": \"scatter\", \"uid\": \"775567b5-56f3-42a2-94ed-a794ac9b9b97\"}, {\"hoverinfo\": \"text\", \"line\": {\"color\": \"#ecd5bb\", \"shape\": \"spline\", \"width\": 0.25}, \"mode\": \"lines\", \"text\": \"Excel<br>4095\", \"x\": [1.0477622424397222, 1.0406273180060228, 1.033049237721061, 1.0250312287446097, 1.0165767055820658, 1.0076892686303673, 0.9983727026447473, 0.9886309751269801, 0.9784682346358012, 0.9678888090202261, 0.9568972035765156, 0.9454980991295746, 0.9336963500396026, 0.9214969821348415, 0.9089051905713048, 0.8959263376203962, 0.882565950385362, 0.8688297184475501, 0.8547234914434751, 0.8402532765737244, 0.8254252360447649, 0.8102456844447393, 0.7947210860543699, 0.7788580520941161, 0.7626633379087554, 0.7461438400905903, 0.7293065935425018, 0.712158768482106, 0.6947076673882832, 0.6769607218913842, 0.6589254896084378, 0.6406096509247046, 0.6220210057229507, 0.6031674700618317, 0.584057072804804, 0.564697952200997, 0.5450983524195017, 0.5252666200385555, 0.5052112004911133, 0.48494063446832214, 0.46446355428242836, 0.4437886801906693, 0.422924816681712, 0.4018808487262216, 0.3806657379931568, 0.3592885190334022, 0.3377582954323643], \"y\": [0.33495415106800064, 0.3565035554094685, 0.3779011410990117, 0.3991377958779599, 0.42020447602079886, 0.4410922101864822, 0.4617921032389176, 0.4822953400350005, 0.502593189178583, 0.5226770067387778, 0.542538239931016, 0.5621684307592889, 0.5815592196180233, 0.6007023488520581, 0.619589666273204, 0.638213128631889, 0.6565648050424138, 0.6746368803603542, 0.6924216585106765, 0.7099115657651454, 0.7270991539676307, 0.7439771037059382, 0.7605382274288144, 0.776775472506798, 0.792681924235614, 0.8082508087808312, 0.8234754960625313, 0.8383495025787575, 0.8528664941665435, 0.8670202886993453, 0.8808048587197285, 0.8942143340061869, 0.9072430040730043, 0.9198853206020898, 0.9321358998057547, 0.9439895247194222, 0.9554411474232962, 0.9664858911920401, 0.9771190525715525, 0.9873361033819543, 0.9971326926459356, 1.0065046484416373, 1.0154479796792844, 1.023958877800809, 1.0320337184017419, 1.0396690627746816, 1.0468616593736844], \"type\": \"scatter\", \"uid\": \"6a186895-6466-475f-be46-7c47c59c68ce\"}, {\"hoverinfo\": \"text\", \"line\": {\"color\": \"#e6c4a9\", \"shape\": \"spline\", \"width\": 0.25}, \"mode\": \"lines\", \"text\": \"SSIS/SSRS<br>2315\", \"x\": [0.3047089127318786, 0.28253249910787, 0.2602324421447235, 0.23781850090914647, 0.21530048430647336, 0.19268824678804095, 0.16999168403863266, 0.1472207286458765, 0.12438534575349607, 0.10149552870031182, 0.07856129464690359, 0.05559268019185014, 0.032599736979460135, 0.009592527300918583, -0.013418880309223766, -0.036424415479295806, -0.059414010407554126, -0.08237760426810647, -0.10530514761378354, -0.1281866067740288, -0.15101196824588622, -0.17377124307616215, -0.1964544712328414, -0.2190517259638489, -0.24155311814124722, -0.26394880058896664], \"y\": [1.0569543407838187, 1.0630970731536522, 1.068774567462846, 1.0739843390968635, 1.0787241081283936, 1.0829918003151044, 1.086785548007384, 1.0901036909656703, 1.0929447770870142, 1.0953075630405573, 1.0971910148116428, 1.0985943081543281, 1.099516828952095, 1.099958173486602, 1.0999181486143625, 1.0993967718512694, 1.0983942713649282, 1.0969110858748068, 1.0949478644602397, 1.0925054662763756, 1.089584960178188, 1.0861876242527189, 1.0823149452597542, 1.0779686179811818, 1.0731505444793106, 1.0678628332644815], \"type\": \"scatter\", \"uid\": \"fcb4b6b7-94ce-4ebe-b100-53fb776b1a83\"}, {\"hoverinfo\": \"text\", \"line\": {\"color\": \"#e1b396\", \"shape\": \"spline\", \"width\": 0.25}, \"mode\": \"lines\", \"text\": \"MS SQL Server<br>1766\", \"x\": [-0.29736093997349655, -0.32032409821062224, -0.34313571485199995, -0.3657849979877898, -0.3882612325062403, -0.4105537851628836, -0.4326521096109985, -0.45454575139096426, -0.47622435287614406, -0.4976776581729568, -0.5188955179728219, -0.5398678943536763, -0.5605848655288017, -0.5810366305407041, -0.6012135138978321, -0.6211059701519409, -0.6407045884139307, -0.6600000968060309, -0.6789833668482138], \"y\": [1.059045075234326, 1.0523271697079535, 1.0451114204681753, 1.037401241201818, 1.0292002795047888, 1.0205124151564393, 1.0113417582840891, 1.0016926474185701, 0.9915696474417206, 0.9809775474267909, 0.9699213583727895, 0.9584063108338384, 0.9464378524446576, 0.9340216453433536, 0.9211635634927282, 0.9078696899013737, 0.8941463137458745, 0.8799999273954686, 0.8654372233405864], \"type\": \"scatter\", \"uid\": \"6626dd41-a377-467b-b851-25bdfd7f8e16\"}, {\"hoverinfo\": \"text\", \"line\": {\"color\": \"#dba284\", \"shape\": \"spline\", \"width\": 0.25}, \"mode\": \"lines\", \"text\": \"PostgreSQL<br>557\", \"x\": [-0.7058323696635972, -0.7271100262358691, -0.7479151051013161, -0.7682340842122343, -0.7880537574564714], \"y\": [0.8436827993594934, 0.8254156587727628, 0.8066120477412221, 0.7872841874790766, 0.7674446399309446], \"type\": \"scatter\", \"uid\": \"22b764db-dca6-42e8-8cc0-d54993f21074\"}, {\"hoverinfo\": \"text\", \"line\": {\"color\": \"#d59171\", \"shape\": \"spline\", \"width\": 0.25}, \"mode\": \"lines\", \"text\": \"MySQL/MariaDB<br>790\", \"x\": [-0.8117709191892799, -0.8404122192604989, -0.867746102393664, -0.8937300456685078, -0.918323626246361], \"y\": [0.7423125856124169, 0.7097233980345042, 0.6760301041969987, 0.6412851202619371, 0.6055424984901836], \"type\": \"scatter\", \"uid\": \"a7c6cb61-aacc-450f-9017-84b92c57f631\"}, {\"hoverinfo\": \"text\", \"line\": {\"color\": \"#d0805f\", \"shape\": \"spline\", \"width\": 0.25}, \"mode\": \"lines\", \"text\": \"T-SQL<br>1166\", \"x\": [-0.9368910385037288, -0.970782237452344, -1.000948172619359, -1.0272730857416115, -1.0496559580307216], \"y\": [0.5763984576414173, 0.5172831405014285, 0.4561828095511341, 0.39333193019497936, 0.32897168536305355], \"type\": \"scatter\", \"uid\": \"f6331570-a2f1-4ac9-8820-fcbaee0145de\"}, {\"hoverinfo\": \"text\", \"line\": {\"color\": \"#ca6f4c\", \"shape\": \"spline\", \"width\": 0.25}, \"mode\": \"lines\", \"text\": \"PL/SQL<br>361\", \"x\": [-1.059471266531148, -1.063441509117803, -1.0672104131685591, -1.070777265126895, -1.074141389690272], \"y\": [0.29583886728231856, 0.2812332780544468, 0.2665744436824236, 0.25186513948414446, 0.2371081503328204], \"type\": \"scatter\", \"uid\": \"ebd1955a-4bee-4ac0-a917-55ebd08310e1\"}, {\"hoverinfo\": \"text\", \"line\": {\"color\": \"#c45e3a\", \"shape\": \"spline\", \"width\": 0.25}, \"mode\": \"lines\", \"text\": \"Pentaho<br>560\", \"x\": [-1.0810591127413554, -1.085920586015171, -1.0900662970470476, -1.09349351327674, -1.0961999757250893], \"y\": [0.20325155536643125, 0.1754322686066271, 0.1474973492715648, 0.11946521008934811, 0.09135432786854421], \"type\": \"scatter\", \"uid\": \"732cd0dc-a2d3-4cc9-933b-ec013cf7ea61\"}, {\"hoverinfo\": \"text\", \"line\": {\"color\": \"#bf4d28\", \"shape\": \"spline\", \"width\": 0.25}, \"mode\": \"lines\", \"text\": \"Hadoop<br>722\", \"x\": [-1.0985285759934058, -1.0998528720042304, -1.0998010863968175, -1.0983732839627622, -1.0955712510979856], \"y\": [0.05687677668346124, 0.017990551521444863, -0.020918182530516083, -0.059800744785139505, -0.09860848730000416], \"type\": \"scatter\", \"uid\": \"bd13840e-4ba7-4afe-8faf-f0b2e6d1b0d3\"}, {\"hoverinfo\": \"text\", \"line\": {\"color\": \"#af4624\", \"shape\": \"spline\", \"width\": 0.25}, \"mode\": \"lines\", \"text\": \"Spark<br>776\", \"x\": [-1.0919332853828896, -1.0859873091913728, -1.0784229089781554, -1.0692513578096088, -1.058486323855335], \"y\": [-0.1329725545852573, -0.1750187540673344, -0.21680412678520092, -0.25826640087767544, -0.29934378599065503], \"type\": \"scatter\", \"uid\": \"a86ca1c6-d777-4961-899e-6191982ce6ed\"}, {\"hoverinfo\": \"text\", \"line\": {\"color\": \"#9f4021\", \"shape\": \"spline\", \"width\": 0.25}, \"mode\": \"lines\", \"text\": \"Informatica<br>741\", \"x\": [-1.0485614092075264, -1.035727422860815, -1.0215129089998625, -1.0059368142384717, -0.9890199000500849], \"y\": [-0.33244393680848866, -0.37049791569466933, -0.40805805560807007, -0.44507429240493623, -0.48149728691335364], \"type\": \"scatter\", \"uid\": \"26951554-51d9-4b6b-9252-41a3a83072e9\"}, {\"hoverinfo\": \"text\", \"line\": {\"color\": \"#8f391e\", \"shape\": \"spline\", \"width\": 0.25}, \"mode\": \"lines\", \"text\": \"Qlik<br>1843\", \"x\": [-0.9734076831563122, -0.9621276222573772, -0.9503996528455224, -0.9382292347549916, -0.9256220337974116, -0.9125839191241317, -0.8991209604939037, -0.8852394254471652, -0.870945776388255, -0.8562466675769053, -0.8411489420304207, -0.8256596283379845, -0.8097859373885697, -0.7935352590139851, -0.7769151585486181, -0.7599333733074685, -0.7425978089841239, -0.7249165359703472, -0.7068977855989866, -0.6885499463119679], \"y\": [-0.5123255628721455, -0.5332076879503573, -0.5538415837323076, -0.57421764432231, -0.594326383857173, -0.614158440922243, -0.6337045829095134, -0.652955710315771, -0.6719028609787727, -0.6905372142494892, -0.7088500950984659, -0.726832978154391, -0.7444774916729959, -0.7617754214344328, -0.7787187145673179, -0.7952994832976644, -0.8115100086209528, -0.8273427438956316, -0.8427903183563805, -0.8578455405454914], \"type\": \"scatter\", \"uid\": \"8f78fab6-e2f8-4c92-9fed-405b93e5b3fd\"}, {\"hoverinfo\": \"text\", \"line\": {\"color\": \"#f0f3e7\", \"shape\": \"spline\", \"width\": 0.25}, \"mode\": \"lines\", \"text\": \"Tableau<br>2311\", \"x\": [-0.661264608877963, -0.6427658444510328, -0.6239868189701117, -0.6049357205328089, -0.5856208558669534, -0.5660506467086655, -0.5462336261302806, -0.5261784348197293, -0.5058938173129932, -0.4853886181812818, -0.4646717781745909, -0.4437523303233243, -0.42263939599967976, -0.40134218094051954, -0.3798699712334427, -0.3582321292678445, -0.33643808965268435, -0.3144973551027781, -0.29241949229539, -0.2702141276989356, -0.2478909433756151, -0.2254596727598056, -0.20293009641405482, -0.18031203776452506, -0.15761535881774805, -0.13484995586055762], \"y\": [-0.8790501220325692, -0.8926657096624419, -0.9058920740085771, -0.9187234480644606, -0.931154237048652, -0.9431790208442413, -0.9547925563621478, -0.96598977982723, -0.9767658089862115, -0.987115945236458, -0.9970356756746791, -1.0065206750646603, -1.0155668077231679, -1.0241701293232035, -1.0323268886138264, -1.0400335290557832, -1.047286690372246, -1.054083210013971, -1.0604201245382447, -1.0662946709010148, -1.0717042876616423, -1.0766466160997497, -1.0811195012436796, -1.0851209928101127, -1.0886493460544369, -1.0917030225314968], \"type\": \"scatter\", \"uid\": \"8dc15cce-88f7-4b0a-951c-1e44f3eab2d9\"}, {\"hoverinfo\": \"text\", \"line\": {\"color\": \"#e2ecde\", \"shape\": \"spline\", \"width\": 0.25}, \"mode\": \"lines\", \"text\": \"Microstrategy<br>364\", \"x\": [-0.10049219492205558, -0.08521376086983552, -0.06991876958385371, -0.05461019291682114, -0.039291005361117355], \"y\": [-1.0954000724665613, -1.0966944036323056, -1.097775644501134, -1.0986435849854073, -1.099298056442252], \"type\": \"scatter\", \"uid\": \"29785eb0-a1d3-4866-90f6-ff1070d99a07\"}, {\"hoverinfo\": \"text\", \"line\": {\"color\": \"#d4e5d6\", \"shape\": \"spline\", \"width\": 0.25}, \"mode\": \"lines\", \"text\": \"Oracle BI<br>2913\", \"x\": [-0.004741831215839861, 0.01815830459933307, 0.04105057027924656, 0.06392504390490794, 0.08677181126871744, 0.10958097017146956, 0.1323426347141411, 0.15504693958261445, 0.17768404432348758, 0.20024413760909945, 0.22271744148993655, 0.24509421563257272, 0.2673647615413007, 0.2895194267616401, 0.3115486090638816, 0.3334427606048629, 0.355192392066181, 0.37678807676702947, 0.39822045474989215, 0.4194802368373176, 0.4405582086580118, 0.46144523464051773, 0.48213226197273296, 0.5026103245255588, 0.5228705467389867, 0.5429041474689216, 0.5627024437930888, 0.5822568547743688, 0.6015589051799264, 0.6206002291545337, 0.6393725738464797, 0.6578678029845015, 0.6760779004041956], \"y\": [-1.0999897795146647, -1.0998501152311972, -1.0992337561591479, -1.0981409694396052, -1.0965722287059554, -1.0945282138786006, -1.0920098108702685, -1.089018111202043, -1.0855544115302784, -1.0816202130846058, -1.0772172210172732, -1.0723473436641013, -1.0670126917173777, -1.0612155773110437, -1.0549585130185741, -1.0482442107639842, -1.0410755806464316, -1.033455729678927, -1.0253879604417, -1.0168757696508006, -1.0079228466425612, -0.9985330717745696, -0.9887105147438537, -0.978459432823003, -0.9677842690149873, -0.9566896501274819, -0.9451803847675246, -0.9332614612573797, -0.9209380454725109, -0.9082154786025949, -0.8950992748365558, -0.8815951189726186, -0.8677088639544112], \"type\": \"scatter\", \"uid\": \"4e7d095b-19d5-4211-949c-a30839cee9ca\"}, {\"hoverinfo\": \"text\", \"line\": {\"color\": \"#c6decd\", \"shape\": \"spline\", \"width\": 0.25}, \"mode\": \"lines\", \"text\": \"Python<br>1842\", \"x\": [0.7029996908479115, 0.7210790892365118, 0.7388231888246843, 0.7562237386793565, 0.7732726476166607, 0.7899619879643072, 0.8062839992479142, 0.8222310917996007, 0.8377958502871475, 0.8529710371620964, 0.8677495960251838, 0.8821246549075314, 0.8960895294660899, 0.909637726091825, 0.9227629449292223, 0.935459082805694, 0.9477202360695269, 0.9595407033350589, 0.9709149881337965, 0.9818378014702537], \"y\": [-0.846044581962287, -0.8306894408055533, -0.8149480324873022, -0.7988276766974317, -0.7823358693348529, -0.7654802790219223, -0.7482687435385698, -0.7307092661777573, -0.7128100120239864, -0.6945793041565648, -0.6760256197794065, -0.6571575862791731, -0.6379839772135676, -0.6185137082316721, -0.5987558329282057, -0.5787195386336371, -0.5584141421421205, -0.5378490853792174, -0.5170339310114472, -0.49597835799968004], \"type\": \"scatter\", \"uid\": \"12d8459c-3206-4d3d-8170-0047fb6ce0ba\"}, {\"hoverinfo\": \"text\", \"line\": {\"color\": \"#b8d7c5\", \"shape\": \"spline\", \"width\": 0.25}, \"mode\": \"lines\", \"text\": \"VBA<br>733\", \"x\": [0.9969323804956789, 1.013032720051209, 1.0278179733858794, 1.04126894676335, 1.053368178566246], \"y\": [-0.46489335198432247, -0.4286778605265833, -0.39190587337388005, -0.3546251267272861, -0.3168840172429486], \"type\": \"scatter\", \"uid\": \"f9a460c8-16a8-47ca-ae8d-1fe3925b92df\"}, {\"hoverinfo\": \"text\", \"line\": {\"color\": \"#aad0bc\", \"shape\": \"spline\", \"width\": 0.25}, \"mode\": \"lines\", \"text\": \"Linux<br>630\", \"x\": [1.062801972478792, 1.0707977698565183, 1.0778385583685826, 1.0839180585702197, 1.089030848357691], \"y\": [-0.2836405600318638, -0.25177794992871627, -0.21969078745804527, -0.18740769009132494, -0.15495745004783715], \"type\": \"scatter\", \"uid\": \"1f4960ed-f108-4ac7-93ab-59cf20b763fb\"}, {\"hoverinfo\": \"text\", \"line\": {\"color\": \"#9cc9b4\", \"shape\": \"spline\", \"width\": 0.25}, \"mode\": \"lines\", \"text\": \"AWS<br>459\", \"x\": [1.0933608085049842, 1.0955185511483467, 1.0972542852943115, 1.0985673423147122, 1.0994572164023046], \"y\": [-0.12067370229394545, -0.09919225821518145, -0.07767260394289756, -0.05612302913768925, -0.03455183498594413], \"type\": \"scatter\", \"uid\": \"c8315495-4e89-4c79-b8fd-0eb6f6968d13\"}, {\"hoverinfo\": \"text\", \"marker\": {\"color\": \"green\", \"size\": 0.5}, \"mode\": \"markers\", \"text\": \"Power BI appears with Excel 214 times\", \"x\": [0.8709019264387353], \"y\": [0.22700183815401076], \"type\": \"scatter\", \"uid\": \"c994f2b0-a5a7-4561-8406-c33482913497\"}, {\"hoverinfo\": \"text\", \"marker\": {\"color\": \"blue\", \"size\": 0.5}, \"mode\": \"markers\", \"text\": \"Excel appears with Power BI 214 times\", \"x\": [0.7646231631078194], \"y\": [0.4747119320587941], \"type\": \"scatter\", \"uid\": \"053ce547-6656-42f0-b47d-edc0b5a0b95c\"}, {\"hoverinfo\": \"text\", \"marker\": {\"color\": \"green\", \"size\": 0.5}, \"mode\": \"markers\", \"text\": \"Power BI appears with SSIS/SSRS 128 times\", \"x\": [0.8951840253670802], \"y\": [0.09298150744954986], \"type\": \"scatter\", \"uid\": \"751e89db-9748-4949-8bc7-624306d2ad34\"}, {\"hoverinfo\": \"text\", \"marker\": {\"color\": \"blue\", \"size\": 0.5}, \"mode\": \"markers\", \"text\": \"SSIS/SSRS appears with Power BI 128 times\", \"x\": [0.09000375848969808], \"y\": [0.8954883156455633], \"type\": \"scatter\", \"uid\": \"b3c1fab5-ea1b-4ddf-a705-b0a155138650\"}, {\"hoverinfo\": \"text\", \"marker\": {\"color\": \"green\", \"size\": 0.5}, \"mode\": \"markers\", \"text\": \"Power BI appears with MS SQL Server 127 times\", \"x\": [0.8973977370330516], \"y\": [0.06839080031669552], \"type\": \"scatter\", \"uid\": \"c5588481-d8a0-4d4f-880e-33930810f214\"}, {\"hoverinfo\": \"text\", \"marker\": {\"color\": \"blue\", \"size\": 0.5}, \"mode\": \"markers\", \"text\": \"MS SQL Server appears with Power BI 127 times\", \"x\": [-0.3965683407027977], \"y\": [0.8079192726703762], \"type\": \"scatter\", \"uid\": \"3fcfb1ea-3f6f-4e6a-885f-0513f9ef4864\"}, {\"hoverinfo\": \"text\", \"marker\": {\"color\": \"green\", \"size\": 0.5}, \"mode\": \"markers\", \"text\": \"Power BI appears with MySQL/MariaDB 5 times\", \"x\": [0.8999998697847799], \"y\": [0.0004841357034875989], \"type\": \"scatter\", \"uid\": \"8e1d1efe-1d64-4a09-82e1-47f74db8523a\"}, {\"hoverinfo\": \"text\", \"marker\": {\"color\": \"blue\", \"size\": 0.5}, \"mode\": \"markers\", \"text\": \"MySQL/MariaDB appears with Power BI 5 times\", \"x\": [-0.6652062937856372], \"y\": [0.6062182665574971], \"type\": \"scatter\", \"uid\": \"dd2f8712-1484-47d3-b74d-389385c47619\"}, {\"hoverinfo\": \"text\", \"marker\": {\"color\": \"green\", \"size\": 0.5}, \"mode\": \"markers\", \"text\": \"Power BI appears with T-SQL 45 times\", \"x\": [0.8992676387149496], \"y\": [0.03630033002658175], \"type\": \"scatter\", \"uid\": \"ea470259-91ac-4523-b53f-21b46154c5ba\"}, {\"hoverinfo\": \"text\", \"marker\": {\"color\": \"blue\", \"size\": 0.5}, \"mode\": \"markers\", \"text\": \"T-SQL appears with Power BI 45 times\", \"x\": [-0.7957110649892725], \"y\": [0.420528121596687], \"type\": \"scatter\", \"uid\": \"4c179f3d-92c3-48a9-b087-752ded8ae0db\"}, {\"hoverinfo\": \"text\", \"marker\": {\"color\": \"green\", \"size\": 0.5}, \"mode\": \"markers\", \"text\": \"Power BI appears with PL/SQL 9 times\", \"x\": [0.8999894525875116], \"y\": [0.004357204520250524], \"type\": \"scatter\", \"uid\": \"9017c1a8-e2bd-401b-b299-00d1faa749f5\"}, {\"hoverinfo\": \"text\", \"marker\": {\"color\": \"blue\", \"size\": 0.5}, \"mode\": \"markers\", \"text\": \"PL/SQL appears with Power BI 9 times\", \"x\": [-0.8679563087652475], \"y\": [0.23801648277925266], \"type\": \"scatter\", \"uid\": \"3126d17a-f47c-4966-b3a9-c798f9ee8061\"}, {\"hoverinfo\": \"text\", \"marker\": {\"color\": \"green\", \"size\": 0.5}, \"mode\": \"markers\", \"text\": \"Power BI appears with Pentaho 9 times\", \"x\": [0.8999793271102864], \"y\": [0.00610006345180654], \"type\": \"scatter\", \"uid\": \"efd75b07-81a0-4d8d-8534-a02998145391\"}, {\"hoverinfo\": \"text\", \"marker\": {\"color\": \"blue\", \"size\": 0.5}, \"mode\": \"markers\", \"text\": \"Pentaho appears with Power BI 9 times\", \"x\": [-0.8852411495510091], \"y\": [0.16232100030990418], \"type\": \"scatter\", \"uid\": \"87a5d72c-4bcf-4d51-b10f-47e25c00be32\"}, {\"hoverinfo\": \"text\", \"marker\": {\"color\": \"green\", \"size\": 0.5}, \"mode\": \"markers\", \"text\": \"Power BI appears with Hadoop 22 times\", \"x\": [0.8999173093908532], \"y\": [0.012199846668193112], \"type\": \"scatter\", \"uid\": \"d977bb63-d159-42af-b48e-e2e88fa18722\"}, {\"hoverinfo\": \"text\", \"marker\": {\"color\": \"blue\", \"size\": 0.5}, \"mode\": \"markers\", \"text\": \"Hadoop appears with Power BI 22 times\", \"x\": [-0.899322815333157], \"y\": [0.0349066443710128], \"type\": \"scatter\", \"uid\": \"15813ed2-bda3-48ad-b458-78bc57650ce7\"}, {\"hoverinfo\": \"text\", \"marker\": {\"color\": \"green\", \"size\": 0.5}, \"mode\": \"markers\", \"text\": \"Power BI appears with Spark 28 times\", \"x\": [0.8997292492494788], \"y\": [0.02207437530190202], \"type\": \"scatter\", \"uid\": \"c6e8c08d-94b8-4846-b71c-c68afa674d8f\"}, {\"hoverinfo\": \"text\", \"marker\": {\"color\": \"blue\", \"size\": 0.5}, \"mode\": \"markers\", \"text\": \"Spark appears with Power BI 28 times\", \"x\": [-0.8899158944863899], \"y\": [-0.13434917469224994], \"type\": \"scatter\", \"uid\": \"c3a4abd7-779e-4474-af9c-badbf085428a\"}, {\"hoverinfo\": \"text\", \"marker\": {\"color\": \"green\", \"size\": 0.5}, \"mode\": \"markers\", \"text\": \"Power BI appears with Informatica 16 times\", \"x\": [0.8999596648337065], \"y\": [0.008520661500299013], \"type\": \"scatter\", \"uid\": \"d6805ad8-500a-477d-b6d5-4b30eff28c62\"}, {\"hoverinfo\": \"text\", \"marker\": {\"color\": \"blue\", \"size\": 0.5}, \"mode\": \"markers\", \"text\": \"Informatica appears with Power BI 16 times\", \"x\": [-0.85363120538962], \"y\": [-0.2851556858718836], \"type\": \"scatter\", \"uid\": \"d193bc43-7097-411f-8c11-029ec338cbd5\"}, {\"hoverinfo\": \"text\", \"marker\": {\"color\": \"green\", \"size\": 0.5}, \"mode\": \"markers\", \"text\": \"Power BI appears with Qlik 179 times\", \"x\": [0.8866157988494501], \"y\": [0.15463642918326692], \"type\": \"scatter\", \"uid\": \"6a56514a-6fb9-4286-8c41-c4f9e203297d\"}, {\"hoverinfo\": \"text\", \"marker\": {\"color\": \"blue\", \"size\": 0.5}, \"mode\": \"markers\", \"text\": \"Qlik appears with Power BI 179 times\", \"x\": [-0.7282476673006085], \"y\": [-0.5288244841828169], \"type\": \"scatter\", \"uid\": \"ef9ddf48-2872-4cb1-9b31-74745f8a7112\"}, {\"hoverinfo\": \"text\", \"marker\": {\"color\": \"green\", \"size\": 0.5}, \"mode\": \"markers\", \"text\": \"Power BI appears with Tableau 186 times\", \"x\": [0.8798614647970305], \"y\": [0.1893245963028149], \"type\": \"scatter\", \"uid\": \"22d68c6e-adb8-4593-b221-2281b1235143\"}, {\"hoverinfo\": \"text\", \"marker\": {\"color\": \"blue\", \"size\": 0.5}, \"mode\": \"markers\", \"text\": \"Tableau appears with Power BI 186 times\", \"x\": [-0.36173766242587646], \"y\": [-0.8241030661165281], \"type\": \"scatter\", \"uid\": \"053b6cdf-b3f8-4bc7-a0e7-e0358a0fb281\"}, {\"hoverinfo\": \"text\", \"marker\": {\"color\": \"green\", \"size\": 0.5}, \"mode\": \"markers\", \"text\": \"Power BI appears with Microstrategy 26 times\", \"x\": [0.8998423087610623], \"y\": [0.01684693929356242], \"type\": \"scatter\", \"uid\": \"aa198735-73ca-45c6-a0c2-3df83c093749\"}, {\"hoverinfo\": \"text\", \"marker\": {\"color\": \"blue\", \"size\": 0.5}, \"mode\": \"markers\", \"text\": \"Microstrategy appears with Power BI 26 times\", \"x\": [-0.06435868811088466], \"y\": [-0.8976959169254619], \"type\": \"scatter\", \"uid\": \"6b378f3c-eeaa-4f35-b66b-e0b29dec95e9\"}, {\"hoverinfo\": \"text\", \"marker\": {\"color\": \"green\", \"size\": 0.5}, \"mode\": \"markers\", \"text\": \"Power BI appears with Oracle BI 168 times\", \"x\": [0.8917696179872624], \"y\": [0.121437014270164], \"type\": \"scatter\", \"uid\": \"a4514977-0c3e-4707-acf9-b461d84935b4\"}, {\"hoverinfo\": \"text\", \"marker\": {\"color\": \"blue\", \"size\": 0.5}, \"mode\": \"markers\", \"text\": \"Oracle BI appears with Power BI 168 times\", \"x\": [0.20046265422659398], \"y\": [-0.877390861737475], \"type\": \"scatter\", \"uid\": \"6a0a3575-04e6-46f9-9568-f791a411319a\"}, {\"hoverinfo\": \"text\", \"marker\": {\"color\": \"green\", \"size\": 0.5}, \"mode\": \"markers\", \"text\": \"Power BI appears with Python 80 times\", \"x\": [0.8986981617364656], \"y\": [0.04839022723130864], \"type\": \"scatter\", \"uid\": \"e584fdc3-452d-4cce-8307-9ec87fbe4992\"}, {\"hoverinfo\": \"text\", \"marker\": {\"color\": \"blue\", \"size\": 0.5}, \"mode\": \"markers\", \"text\": \"Python appears with Power BI 80 times\", \"x\": [0.631710234405415], \"y\": [-0.6410477203355891], \"type\": \"scatter\", \"uid\": \"bbae07e8-f6af-4784-901a-0d00f21816ef\"}, {\"hoverinfo\": \"text\", \"marker\": {\"color\": \"green\", \"size\": 0.5}, \"mode\": \"markers\", \"text\": \"Power BI appears with VBA 37 times\", \"x\": [0.8995528831576017], \"y\": [0.028365655339620127], \"type\": \"scatter\", \"uid\": \"d19f26ab-0309-4ca0-bd3c-96082c35977c\"}, {\"hoverinfo\": \"text\", \"marker\": {\"color\": \"blue\", \"size\": 0.5}, \"mode\": \"markers\", \"text\": \"VBA appears with Power BI 37 times\", \"x\": [0.8246672159917029], \"y\": [-0.3604496953369417], \"type\": \"scatter\", \"uid\": \"e27908cc-7b23-439d-95b0-ca11df59a4b0\"}, {\"hoverinfo\": \"text\", \"marker\": {\"color\": \"green\", \"size\": 0.5}, \"mode\": \"markers\", \"text\": \"Power BI appears with Linux 7 times\", \"x\": [0.8999956195634404], \"y\": [0.002807982660016528], \"type\": \"scatter\", \"uid\": \"67956bd3-5ad2-470c-a363-66729c060dea\"}, {\"hoverinfo\": \"text\", \"marker\": {\"color\": \"blue\", \"size\": 0.5}, \"mode\": \"markers\", \"text\": \"Linux appears with Power BI 7 times\", \"x\": [0.8700255806588798], \"y\": [-0.2303377715425309], \"type\": \"scatter\", \"uid\": \"f9c047c8-8799-4783-a722-6bf3ba335a2b\"}, {\"hoverinfo\": \"text\", \"marker\": {\"color\": \"green\", \"size\": 0.5}, \"mode\": \"markers\", \"text\": \"Power BI appears with AWS 6 times\", \"x\": [0.8999986665964423], \"y\": [0.0015492335607822146], \"type\": \"scatter\", \"uid\": \"bf45d03b-9e7d-4c8c-a570-df06d57d4d89\"}, {\"hoverinfo\": \"text\", \"marker\": {\"color\": \"blue\", \"size\": 0.5}, \"mode\": \"markers\", \"text\": \"AWS appears with Power BI 6 times\", \"x\": [0.8949004509791026], \"y\": [-0.09567226785959847], \"type\": \"scatter\", \"uid\": \"e4700553-798c-4ab7-b9cf-154204d12d5a\"}, {\"hoverinfo\": \"text\", \"marker\": {\"color\": \"green\", \"size\": 0.5}, \"mode\": \"markers\", \"text\": \"Excel appears with SSIS/SSRS 594 times\", \"x\": [0.4504731764056443], \"y\": [0.7791494833079268], \"type\": \"scatter\", \"uid\": \"8c93bbf2-f441-448f-8ba5-c55b55a9ea21\"}, {\"hoverinfo\": \"text\", \"marker\": {\"color\": \"blue\", \"size\": 0.5}, \"mode\": \"markers\", \"text\": \"SSIS/SSRS appears with Excel 594 times\", \"x\": [-0.15689290131254552], \"y\": [0.8862192829755692], \"type\": \"scatter\", \"uid\": \"3b30b9c2-0ec1-4d50-adf1-8c2cef1bc230\"}, {\"hoverinfo\": \"text\", \"marker\": {\"color\": \"green\", \"size\": 0.5}, \"mode\": \"markers\", \"text\": \"Excel appears with MS SQL Server 264 times\", \"x\": [0.7052416193469014], \"y\": [0.5591370657906343], \"type\": \"scatter\", \"uid\": \"4f08cabe-a528-4dae-bb1d-063e2a38b5ed\"}, {\"hoverinfo\": \"text\", \"marker\": {\"color\": \"blue\", \"size\": 0.5}, \"mode\": \"markers\", \"text\": \"MS SQL Server appears with Excel 264 times\", \"x\": [-0.49063882560211525], \"y\": [0.754502182112005], \"type\": \"scatter\", \"uid\": \"ba443944-5d68-4617-94bf-1fec96ac2b04\"}, {\"hoverinfo\": \"text\", \"marker\": {\"color\": \"green\", \"size\": 0.5}, \"mode\": \"markers\", \"text\": \"Excel appears with PostgreSQL 72 times\", \"x\": [0.8397222382995212], \"y\": [0.32383107093860247], \"type\": \"scatter\", \"uid\": \"b18419fe-8be4-4cea-a856-b35f2690f19a\"}, {\"hoverinfo\": \"text\", \"marker\": {\"color\": \"blue\", \"size\": 0.5}, \"mode\": \"markers\", \"text\": \"PostgreSQL appears with Excel 72 times\", \"x\": [-0.6187244620997158], \"y\": [0.6535901162038923], \"type\": \"scatter\", \"uid\": \"680d889f-34d6-424f-9f97-35169ce2ac31\"}, {\"hoverinfo\": \"text\", \"marker\": {\"color\": \"green\", \"size\": 0.5}, \"mode\": \"markers\", \"text\": \"Excel appears with MySQL/MariaDB 122 times\", \"x\": [0.8003907750335388], \"y\": [0.411551463660635], \"type\": \"scatter\", \"uid\": \"39d001de-8910-4f78-b947-f052beae7929\"}, {\"hoverinfo\": \"text\", \"marker\": {\"color\": \"blue\", \"size\": 0.5}, \"mode\": \"markers\", \"text\": \"MySQL/MariaDB appears with Excel 122 times\", \"x\": [-0.7452641265594468], \"y\": [0.5045605827485782], \"type\": \"scatter\", \"uid\": \"f115c79b-4fce-43b9-b138-6dd25b646689\"}, {\"hoverinfo\": \"text\", \"marker\": {\"color\": \"green\", \"size\": 0.5}, \"mode\": \"markers\", \"text\": \"Excel appears with T-SQL 180 times\", \"x\": [0.7854974135462548], \"y\": [0.4393106114267489], \"type\": \"scatter\", \"uid\": \"eee6a751-c37e-4e4a-8c34-1370bd27c5e4\"}, {\"hoverinfo\": \"text\", \"marker\": {\"color\": \"blue\", \"size\": 0.5}, \"mode\": \"markers\", \"text\": \"T-SQL appears with Excel 180 times\", \"x\": [-0.853503891659125], \"y\": [0.2855365246736899], \"type\": \"scatter\", \"uid\": \"84becfb8-adde-4703-bc5b-8b80c338ee1f\"}, {\"hoverinfo\": \"text\", \"marker\": {\"color\": \"green\", \"size\": 0.5}, \"mode\": \"markers\", \"text\": \"Excel appears with PL/SQL 58 times\", \"x\": [0.8491676013149646], \"y\": [0.29818515200624796], \"type\": \"scatter\", \"uid\": \"756cdf7e-e49d-4f4a-81e7-35a04e07d163\"}, {\"hoverinfo\": \"text\", \"marker\": {\"color\": \"blue\", \"size\": 0.5}, \"mode\": \"markers\", \"text\": \"PL/SQL appears with Excel 58 times\", \"x\": [-0.8754023290703038], \"y\": [0.20897550635968723], \"type\": \"scatter\", \"uid\": \"f3acaad4-68fc-446e-b46a-ae8e10d30efb\"}, {\"hoverinfo\": \"text\", \"marker\": {\"color\": \"green\", \"size\": 0.5}, \"mode\": \"markers\", \"text\": \"Excel appears with Pentaho 66 times\", \"x\": [0.8447943617138493], \"y\": [0.3103586416011161], \"type\": \"scatter\", \"uid\": \"45ec6974-ae50-49ad-909d-7b758c302319\"}, {\"hoverinfo\": \"text\", \"marker\": {\"color\": \"blue\", \"size\": 0.5}, \"mode\": \"markers\", \"text\": \"Pentaho appears with Excel 66 times\", \"x\": [-0.8964221311215856], \"y\": [0.08017083531705778], \"type\": \"scatter\", \"uid\": \"18f58704-6ea8-48dc-a18e-3c6fa8e8378c\"}, {\"hoverinfo\": \"text\", \"marker\": {\"color\": \"green\", \"size\": 0.5}, \"mode\": \"markers\", \"text\": \"Excel appears with Hadoop 84 times\", \"x\": [0.8277928737340403], \"y\": [0.3532123415102298], \"type\": \"scatter\", \"uid\": \"89eb7cb2-8752-45cb-8899-79b7c1d86086\"}, {\"hoverinfo\": \"text\", \"marker\": {\"color\": \"blue\", \"size\": 0.5}, \"mode\": \"markers\", \"text\": \"Hadoop appears with Excel 84 times\", \"x\": [-0.8999708890955728], \"y\": [-0.007238700195775419], \"type\": \"scatter\", \"uid\": \"2e7ee470-2b60-43cd-a387-562594c35f46\"}, {\"hoverinfo\": \"text\", \"marker\": {\"color\": \"green\", \"size\": 0.5}, \"mode\": \"markers\", \"text\": \"Excel appears with Spark 89 times\", \"x\": [0.8205443079195579], \"y\": [0.36973914959172727], \"type\": \"scatter\", \"uid\": \"495f2603-ead1-48df-9872-72e1eccc6f66\"}, {\"hoverinfo\": \"text\", \"marker\": {\"color\": \"blue\", \"size\": 0.5}, \"mode\": \"markers\", \"text\": \"Spark appears with Excel 89 times\", \"x\": [-0.8805558790254902], \"y\": [-0.18606811632745246], \"type\": \"scatter\", \"uid\": \"d23906de-3d9b-4d92-999f-d344e1d5e7f3\"}, {\"hoverinfo\": \"text\", \"marker\": {\"color\": \"green\", \"size\": 0.5}, \"mode\": \"markers\", \"text\": \"Excel appears with Informatica 117 times\", \"x\": [0.8114830012395479], \"y\": [0.3892240212258951], \"type\": \"scatter\", \"uid\": \"06601eac-0733-4004-bc33-93d5d15108b2\"}, {\"hoverinfo\": \"text\", \"marker\": {\"color\": \"blue\", \"size\": 0.5}, \"mode\": \"markers\", \"text\": \"Informatica appears with Excel 117 times\", \"x\": [-0.8232722980222471], \"y\": [-0.3636244261723466], \"type\": \"scatter\", \"uid\": \"f8a11a52-fd9d-44ff-af16-469313574e81\"}, {\"hoverinfo\": \"text\", \"marker\": {\"color\": \"green\", \"size\": 0.5}, \"mode\": \"markers\", \"text\": \"Excel appears with Qlik 410 times\", \"x\": [0.6071845304664453], \"y\": [0.6643244282443952], \"type\": \"scatter\", \"uid\": \"99cf6ba5-931f-4611-85c8-656ba2445486\"}, {\"hoverinfo\": \"text\", \"marker\": {\"color\": \"blue\", \"size\": 0.5}, \"mode\": \"markers\", \"text\": \"Qlik appears with Excel 410 times\", \"x\": [-0.5947680674352914], \"y\": [-0.6754635045354328], \"type\": \"scatter\", \"uid\": \"ec11d905-ee48-4aec-9c7c-02fa0587f12d\"}, {\"hoverinfo\": \"text\", \"marker\": {\"color\": \"green\", \"size\": 0.5}, \"mode\": \"markers\", \"text\": \"Excel appears with Tableau 431 times\", \"x\": [0.5396473124956201], \"y\": [0.7202643807077055], \"type\": \"scatter\", \"uid\": \"70442e54-bc56-4197-98d8-68ef11cb139f\"}, {\"hoverinfo\": \"text\", \"marker\": {\"color\": \"blue\", \"size\": 0.5}, \"mode\": \"markers\", \"text\": \"Tableau appears with Excel 431 times\", \"x\": [-0.15366541062510808], \"y\": [-0.8867846083336229], \"type\": \"scatter\", \"uid\": \"aa1fec9d-7633-48a3-af5c-9e463348057a\"}, {\"hoverinfo\": \"text\", \"marker\": {\"color\": \"green\", \"size\": 0.5}, \"mode\": \"markers\", \"text\": \"Excel appears with Microstrategy 39 times\", \"x\": [0.8560124311420071], \"y\": [0.2779257413957018], \"type\": \"scatter\", \"uid\": \"a7ab9928-aa73-4901-84da-be9b5ab762c1\"}, {\"hoverinfo\": \"text\", \"marker\": {\"color\": \"blue\", \"size\": 0.5}, \"mode\": \"markers\", \"text\": \"Microstrategy appears with Excel 39 times\", \"x\": [-0.05053197647284216], \"y\": [-0.8985802798602628], \"type\": \"scatter\", \"uid\": \"13362210-365f-4462-9eb4-5e7244beb7b6\"}, {\"hoverinfo\": \"text\", \"marker\": {\"color\": \"green\", \"size\": 0.5}, \"mode\": \"markers\", \"text\": \"Excel appears with Oracle BI 618 times\", \"x\": [0.33694014964815716], \"y\": [0.8345485819022626], \"type\": \"scatter\", \"uid\": \"0c95423e-bdec-4914-8dd0-97a12362475f\"}, {\"hoverinfo\": \"text\", \"marker\": {\"color\": \"blue\", \"size\": 0.5}, \"mode\": \"markers\", \"text\": \"Oracle BI appears with Excel 618 times\", \"x\": [0.5016446687769802], \"y\": [-0.7472299688098931], \"type\": \"scatter\", \"uid\": \"cb2284da-637b-434e-9f0b-79d296705319\"}, {\"hoverinfo\": \"text\", \"marker\": {\"color\": \"green\", \"size\": 0.5}, \"mode\": \"markers\", \"text\": \"Excel appears with Python 353 times\", \"x\": [0.6634863052577865], \"y\": [0.6081002571413463], \"type\": \"scatter\", \"uid\": \"a4d70a8b-4c6e-4b7b-9229-d32be71dec08\"}, {\"hoverinfo\": \"text\", \"marker\": {\"color\": \"blue\", \"size\": 0.5}, \"mode\": \"markers\", \"text\": \"Python appears with Excel 353 times\", \"x\": [0.7867755253499107], \"y\": [-0.43701747414762737], \"type\": \"scatter\", \"uid\": \"6d1072c1-6a34-40d8-8b89-9bec9210642a\"}, {\"hoverinfo\": \"text\", \"marker\": {\"color\": \"green\", \"size\": 0.5}, \"mode\": \"markers\", \"text\": \"Excel appears with VBA 256 times\", \"x\": [0.737640946240414], \"y\": [0.5156411876775813], \"type\": \"scatter\", \"uid\": \"1f7ff34d-f307-4a6b-b550-75bab31a0bbe\"}, {\"hoverinfo\": \"text\", \"marker\": {\"color\": \"blue\", \"size\": 0.5}, \"mode\": \"markers\", \"text\": \"VBA appears with Excel 256 times\", \"x\": [0.8550490599890455], \"y\": [-0.2808756041592966], \"type\": \"scatter\", \"uid\": \"12b54ce4-75f8-40bf-8f31-1cecc42039c8\"}, {\"hoverinfo\": \"text\", \"marker\": {\"color\": \"green\", \"size\": 0.5}, \"mode\": \"markers\", \"text\": \"Excel appears with Linux 74 times\", \"x\": [0.8341222274410918], \"y\": [0.33799424505265124], \"type\": \"scatter\", \"uid\": \"b1066df6-6c3a-40c8-b196-20ee9ab510a8\"}, {\"hoverinfo\": \"text\", \"marker\": {\"color\": \"blue\", \"size\": 0.5}, \"mode\": \"markers\", \"text\": \"Linux appears with Excel 74 times\", \"x\": [0.8823083201837139], \"y\": [-0.17757259961658795], \"type\": \"scatter\", \"uid\": \"41e4a475-1aa9-40a6-9f73-b623e13f4244\"}, {\"hoverinfo\": \"text\", \"marker\": {\"color\": \"green\", \"size\": 0.5}, \"mode\": \"markers\", \"text\": \"Excel appears with AWS 54 times\", \"x\": [0.8529668800361396], \"y\": [0.28713672973239396], \"type\": \"scatter\", \"uid\": \"bf9848c1-4c41-4dc8-a848-9c67b09fab56\"}, {\"hoverinfo\": \"text\", \"marker\": {\"color\": \"blue\", \"size\": 0.5}, \"mode\": \"markers\", \"text\": \"AWS appears with Excel 54 times\", \"x\": [0.8987701922977595], \"y\": [-0.04703340766995743], \"type\": \"scatter\", \"uid\": \"8ac929d7-2043-4085-b0e6-10dd1a7aee30\"}, {\"hoverinfo\": \"text\", \"marker\": {\"color\": \"green\", \"size\": 0.5}, \"mode\": \"markers\", \"text\": \"SSIS/SSRS appears with MS SQL Server 268 times\", \"x\": [-0.06999482327379389], \"y\": [0.8972740521796394], \"type\": \"scatter\", \"uid\": \"b8aa0548-22c2-4676-8576-38a09e63a84d\"}, {\"hoverinfo\": \"text\", \"marker\": {\"color\": \"blue\", \"size\": 0.5}, \"mode\": \"markers\", \"text\": \"MS SQL Server appears with SSIS/SSRS 268 times\", \"x\": [-0.5342543751171215], \"y\": [0.7242736103629719], \"type\": \"scatter\", \"uid\": \"ffe3540e-e571-416e-bed7-65f90eddca26\"}, {\"hoverinfo\": \"text\", \"marker\": {\"color\": \"green\", \"size\": 0.5}, \"mode\": \"markers\", \"text\": \"SSIS/SSRS appears with PostgreSQL 56 times\", \"x\": [0.19850743363670106], \"y\": [0.8778352913792944], \"type\": \"scatter\", \"uid\": \"bc83a30b-af82-40e3-be2b-f82bb819cc27\"}, {\"hoverinfo\": \"text\", \"marker\": {\"color\": \"blue\", \"size\": 0.5}, \"mode\": \"markers\", \"text\": \"PostgreSQL appears with SSIS/SSRS 56 times\", \"x\": [-0.6110237538209039], \"y\": [0.660794954782958], \"type\": \"scatter\", \"uid\": \"0fdc04c7-a3b7-4cda-baa3-923486b56dc7\"}, {\"hoverinfo\": \"text\", \"marker\": {\"color\": \"green\", \"size\": 0.5}, \"mode\": \"markers\", \"text\": \"SSIS/SSRS appears with MySQL/MariaDB 80 times\", \"x\": [0.17104758222238903], \"y\": [0.8835964715954195], \"type\": \"scatter\", \"uid\": \"52c672fe-5105-4450-a93e-251b7e922028\"}, {\"hoverinfo\": \"text\", \"marker\": {\"color\": \"blue\", \"size\": 0.5}, \"mode\": \"markers\", \"text\": \"MySQL/MariaDB appears with SSIS/SSRS 80 times\", \"x\": [-0.7144794322535104], \"y\": [0.5472834191593068], \"type\": \"scatter\", \"uid\": \"9108b2d4-b882-4603-8342-4a70a0420150\"}, {\"hoverinfo\": \"text\", \"marker\": {\"color\": \"green\", \"size\": 0.5}, \"mode\": \"markers\", \"text\": \"SSIS/SSRS appears with T-SQL 127 times\", \"x\": [0.1157568271715776], \"y\": [0.8925247094412398], \"type\": \"scatter\", \"uid\": \"6ef857ed-ba85-40c7-bc6a-d9300c2e242c\"}, {\"hoverinfo\": \"text\", \"marker\": {\"color\": \"blue\", \"size\": 0.5}, \"mode\": \"markers\", \"text\": \"T-SQL appears with SSIS/SSRS 127 times\", \"x\": [-0.8213599348418177], \"y\": [0.36792371143573377], \"type\": \"scatter\", \"uid\": \"d2425a55-4689-4927-977b-8a31718eeb51\"}, {\"hoverinfo\": \"text\", \"marker\": {\"color\": \"green\", \"size\": 0.5}, \"mode\": \"markers\", \"text\": \"SSIS/SSRS appears with PL/SQL 40 times\", \"x\": [0.2161163810766514], \"y\": [0.8736668185471688], \"type\": \"scatter\", \"uid\": \"49e66615-f171-41f9-bf27-dfc0b61123f0\"}, {\"hoverinfo\": \"text\", \"marker\": {\"color\": \"blue\", \"size\": 0.5}, \"mode\": \"markers\", \"text\": \"PL/SQL appears with SSIS/SSRS 40 times\", \"x\": [-0.8724525263308236], \"y\": [0.2209673941986995], \"type\": \"scatter\", \"uid\": \"9439fad4-e4f7-40f1-89c6-bf8798bfcc74\"}, {\"hoverinfo\": \"text\", \"marker\": {\"color\": \"green\", \"size\": 0.5}, \"mode\": \"markers\", \"text\": \"SSIS/SSRS appears with Pentaho 35 times\", \"x\": [0.22351012994848504], \"y\": [0.8718045777640833], \"type\": \"scatter\", \"uid\": \"e112a48f-283a-409e-8bbb-e5cfa8dfadf0\"}, {\"hoverinfo\": \"text\", \"marker\": {\"color\": \"blue\", \"size\": 0.5}, \"mode\": \"markers\", \"text\": \"Pentaho appears with SSIS/SSRS 35 times\", \"x\": [-0.8881491130233621], \"y\": [0.145571814015678], \"type\": \"scatter\", \"uid\": \"675b5e51-967f-44dd-a6ba-c75c6fae6f53\"}, {\"hoverinfo\": \"text\", \"marker\": {\"color\": \"green\", \"size\": 0.5}, \"mode\": \"markers\", \"text\": \"SSIS/SSRS appears with Hadoop 34 times\", \"x\": [0.23029822326385066], \"y\": [0.8700360500355796], \"type\": \"scatter\", \"uid\": \"0c89b87a-8418-4823-9178-a1d7f4e0ae63\"}, {\"hoverinfo\": \"text\", \"marker\": {\"color\": \"blue\", \"size\": 0.5}, \"mode\": \"markers\", \"text\": \"Hadoop appears with SSIS/SSRS 34 times\", \"x\": [-0.89965662528188], \"y\": [0.024858732598810142], \"type\": \"scatter\", \"uid\": \"5107f2a3-a928-43b6-814f-43596b6c08db\"}, {\"hoverinfo\": \"text\", \"marker\": {\"color\": \"green\", \"size\": 0.5}, \"mode\": \"markers\", \"text\": \"SSIS/SSRS appears with Spark 41 times\", \"x\": [0.20811372609948475], \"y\": [0.8756076044718826], \"type\": \"scatter\", \"uid\": \"1314c621-c4c8-4c05-8eee-2f5e164cb993\"}, {\"hoverinfo\": \"text\", \"marker\": {\"color\": \"blue\", \"size\": 0.5}, \"mode\": \"markers\", \"text\": \"Spark appears with SSIS/SSRS 41 times\", \"x\": [-0.8869905327276717], \"y\": [-0.15247227568145386], \"type\": \"scatter\", \"uid\": \"b900306e-13e9-43aa-9158-9242c00fc5d1\"}, {\"hoverinfo\": \"text\", \"marker\": {\"color\": \"green\", \"size\": 0.5}, \"mode\": \"markers\", \"text\": \"SSIS/SSRS appears with Informatica 70 times\", \"x\": [0.18599374485130968], \"y\": [0.8805715909999515], \"type\": \"scatter\", \"uid\": \"a4f7f4be-43a1-4b23-8f44-b6f3802cb5ed\"}, {\"hoverinfo\": \"text\", \"marker\": {\"color\": \"blue\", \"size\": 0.5}, \"mode\": \"markers\", \"text\": \"Informatica appears with SSIS/SSRS 70 times\", \"x\": [-0.8361447077235068], \"y\": [-0.33295949865707625], \"type\": \"scatter\", \"uid\": \"d9f96a75-47f0-4db2-b49c-0ed960f6badf\"}, {\"hoverinfo\": \"text\", \"marker\": {\"color\": \"green\", \"size\": 0.5}, \"mode\": \"markers\", \"text\": \"SSIS/SSRS appears with Qlik 88 times\", \"x\": [0.13739644400129564], \"y\": [0.8894505141804118], \"type\": \"scatter\", \"uid\": \"48fa700c-bfaa-4157-bfc7-7d0f0bad1f28\"}, {\"hoverinfo\": \"text\", \"marker\": {\"color\": \"blue\", \"size\": 0.5}, \"mode\": \"markers\", \"text\": \"Qlik appears with SSIS/SSRS 88 times\", \"x\": [-0.7540653069847985], \"y\": [-0.4913099966435872], \"type\": \"scatter\", \"uid\": \"576e21bb-9dbb-4173-88ad-d3355c67a979\"}, {\"hoverinfo\": \"text\", \"marker\": {\"color\": \"green\", \"size\": 0.5}, \"mode\": \"markers\", \"text\": \"SSIS/SSRS appears with Tableau 159 times\", \"x\": [0.06093069002366352], \"y\": [0.8979351040098835], \"type\": \"scatter\", \"uid\": \"55be7847-df4d-46b3-8103-1c83c5f07948\"}, {\"hoverinfo\": \"text\", \"marker\": {\"color\": \"blue\", \"size\": 0.5}, \"mode\": \"markers\", \"text\": \"Tableau appears with SSIS/SSRS 159 times\", \"x\": [-0.3935674003638564], \"y\": [-0.8093853849501089], \"type\": \"scatter\", \"uid\": \"e121bf75-0729-4f34-9444-b10ca2c27070\"}, {\"hoverinfo\": \"text\", \"marker\": {\"color\": \"green\", \"size\": 0.5}, \"mode\": \"markers\", \"text\": \"SSIS/SSRS appears with Microstrategy 31 times\", \"x\": [0.2366800140665717], \"y\": [0.868321697840983], \"type\": \"scatter\", \"uid\": \"c1bf98a3-4f4e-44fa-96d2-c7e7efd9b571\"}, {\"hoverinfo\": \"text\", \"marker\": {\"color\": \"blue\", \"size\": 0.5}, \"mode\": \"markers\", \"text\": \"Microstrategy appears with SSIS/SSRS 31 times\", \"x\": [-0.06043908732200589], \"y\": [-0.8979683272385964], \"type\": \"scatter\", \"uid\": \"67617a91-3a16-4fee-b620-808d2c8547bd\"}, {\"hoverinfo\": \"text\", \"marker\": {\"color\": \"green\", \"size\": 0.5}, \"mode\": \"markers\", \"text\": \"SSIS/SSRS appears with Oracle BI 267 times\", \"x\": [-0.015675369110888966], \"y\": [0.8998634800919734], \"type\": \"scatter\", \"uid\": \"8dd1740c-1a45-401d-bc84-75742fccf8d7\"}, {\"hoverinfo\": \"text\", \"marker\": {\"color\": \"blue\", \"size\": 0.5}, \"mode\": \"markers\", \"text\": \"Oracle BI appears with SSIS/SSRS 267 times\", \"x\": [0.2785051601233974], \"y\": [-0.8558240916126636], \"type\": \"scatter\", \"uid\": \"f4f0b720-7fb8-4f44-89d8-ca2869d381e2\"}, {\"hoverinfo\": \"text\", \"marker\": {\"color\": \"green\", \"size\": 0.5}, \"mode\": \"markers\", \"text\": \"SSIS/SSRS appears with Python 164 times\", \"x\": [0.028135772500829333], \"y\": [0.8995601026645088], \"type\": \"scatter\", \"uid\": \"133fe708-f7bf-43ae-a0b1-bd812cb45b0b\"}, {\"hoverinfo\": \"text\", \"marker\": {\"color\": \"blue\", \"size\": 0.5}, \"mode\": \"markers\", \"text\": \"Python appears with SSIS/SSRS 164 times\", \"x\": [0.7603612455227169], \"y\": [-0.4815088538200962], \"type\": \"scatter\", \"uid\": \"ed1f6b9e-256b-4d65-a4a1-92dbdaa5fa07\"}, {\"hoverinfo\": \"text\", \"marker\": {\"color\": \"green\", \"size\": 0.5}, \"mode\": \"markers\", \"text\": \"SSIS/SSRS appears with VBA 84 times\", \"x\": [0.15465040405065675], \"y\": [0.8866133613514792], \"type\": \"scatter\", \"uid\": \"33f21c15-5785-4ecd-ae5f-abc13ebb119e\"}, {\"hoverinfo\": \"text\", \"marker\": {\"color\": \"blue\", \"size\": 0.5}, \"mode\": \"markers\", \"text\": \"VBA appears with SSIS/SSRS 84 times\", \"x\": [0.8451844088617257], \"y\": [-0.3092948674275979], \"type\": \"scatter\", \"uid\": \"deb1070e-10ca-41ef-910c-0c8c2fdb7a7e\"}, {\"hoverinfo\": \"text\", \"marker\": {\"color\": \"green\", \"size\": 0.5}, \"mode\": \"markers\", \"text\": \"SSIS/SSRS appears with Linux 18 times\", \"x\": [0.24754846324064944], \"y\": [0.8652859402227641], \"type\": \"scatter\", \"uid\": \"19236a6f-6505-4e8d-b1ae-040f41a0ae17\"}, {\"hoverinfo\": \"text\", \"marker\": {\"color\": \"blue\", \"size\": 0.5}, \"mode\": \"markers\", \"text\": \"Linux appears with SSIS/SSRS 18 times\", \"x\": [0.8712576584996228], \"y\": [-0.22563264946756867], \"type\": \"scatter\", \"uid\": \"7a36dc1b-7cea-474a-b025-7696c3b5e504\"}, {\"hoverinfo\": \"text\", \"marker\": {\"color\": \"green\", \"size\": 0.5}, \"mode\": \"markers\", \"text\": \"SSIS/SSRS appears with AWS 31 times\", \"x\": [0.24275537616763257], \"y\": [0.8666428487801138], \"type\": \"scatter\", \"uid\": \"b5868619-fae1-4195-bc36-04f3842303a5\"}, {\"hoverinfo\": \"text\", \"marker\": {\"color\": \"blue\", \"size\": 0.5}, \"mode\": \"markers\", \"text\": \"AWS appears with SSIS/SSRS 31 times\", \"x\": [0.8963298888662807], \"y\": [-0.08119562996221495], \"type\": \"scatter\", \"uid\": \"8c9cdedc-6a23-4ff9-8630-cd1758cf9941\"}, {\"hoverinfo\": \"text\", \"marker\": {\"color\": \"green\", \"size\": 0.5}, \"mode\": \"markers\", \"text\": \"MS SQL Server appears with PostgreSQL 87 times\", \"x\": [-0.31973123977081563], \"y\": [0.841291824704494], \"type\": \"scatter\", \"uid\": \"85567196-5b64-405b-86a3-82d83676cf79\"}, {\"hoverinfo\": \"text\", \"marker\": {\"color\": \"blue\", \"size\": 0.5}, \"mode\": \"markers\", \"text\": \"PostgreSQL appears with MS SQL Server 87 times\", \"x\": [-0.6281717670930824], \"y\": [0.6445155009983501], \"type\": \"scatter\", \"uid\": \"6d4a45c8-bee3-41e6-9e2b-84ebbdd860d6\"}, {\"hoverinfo\": \"text\", \"marker\": {\"color\": \"green\", \"size\": 0.5}, \"mode\": \"markers\", \"text\": \"MS SQL Server appears with MySQL/MariaDB 93 times\", \"x\": [-0.3364526165651826], \"y\": [0.8347452526408534], \"type\": \"scatter\", \"uid\": \"49cf4a74-3c4b-4064-822a-f01628b8323e\"}, {\"hoverinfo\": \"text\", \"marker\": {\"color\": \"blue\", \"size\": 0.5}, \"mode\": \"markers\", \"text\": \"MySQL/MariaDB appears with MS SQL Server 93 times\", \"x\": [-0.723827101365455], \"y\": [0.5348591658828361], \"type\": \"scatter\", \"uid\": \"46b0b48d-ec26-4451-9263-f53b5a1c20c5\"}, {\"hoverinfo\": \"text\", \"marker\": {\"color\": \"green\", \"size\": 0.5}, \"mode\": \"markers\", \"text\": \"MS SQL Server appears with T-SQL 171 times\", \"x\": [-0.42303512516537733], \"y\": [0.7943810690571078], \"type\": \"scatter\", \"uid\": \"dd8ed4e5-1579-4d55-977e-aa4679b57aaf\"}, {\"hoverinfo\": \"text\", \"marker\": {\"color\": \"blue\", \"size\": 0.5}, \"mode\": \"markers\", \"text\": \"T-SQL appears with MS SQL Server 171 times\", \"x\": [-0.8422617242918408], \"y\": [0.3171674444089986], \"type\": \"scatter\", \"uid\": \"4d2bae58-601b-47f8-829f-219629580a1d\"}, {\"hoverinfo\": \"text\", \"marker\": {\"color\": \"green\", \"size\": 0.5}, \"mode\": \"markers\", \"text\": \"MS SQL Server appears with PL/SQL 12 times\", \"x\": [-0.24636736609234244], \"y\": [0.8656229669577405], \"type\": \"scatter\", \"uid\": \"d32273ce-fc85-4a6b-ac42-ad532adec03e\"}, {\"hoverinfo\": \"text\", \"marker\": {\"color\": \"blue\", \"size\": 0.5}, \"mode\": \"markers\", \"text\": \"PL/SQL appears with MS SQL Server 12 times\", \"x\": [-0.868336226453028], \"y\": [0.23662670565537572], \"type\": \"scatter\", \"uid\": \"c00624c1-31ed-4f1d-8d67-c38ae90b9113\"}, {\"hoverinfo\": \"text\", \"marker\": {\"color\": \"green\", \"size\": 0.5}, \"mode\": \"markers\", \"text\": \"MS SQL Server appears with Pentaho 46 times\", \"x\": [-0.27349155194434377], \"y\": [0.8574394270239002], \"type\": \"scatter\", \"uid\": \"95190b45-519f-40ee-82a9-2a194ac55efa\"}, {\"hoverinfo\": \"text\", \"marker\": {\"color\": \"blue\", \"size\": 0.5}, \"mode\": \"markers\", \"text\": \"Pentaho appears with MS SQL Server 46 times\", \"x\": [-0.8935468699375068], \"y\": [0.1075824856790565], \"type\": \"scatter\", \"uid\": \"2f8ba38c-cdcf-476a-8776-81a696bb40f3\"}, {\"hoverinfo\": \"text\", \"marker\": {\"color\": \"green\", \"size\": 0.5}, \"mode\": \"markers\", \"text\": \"MS SQL Server appears with Hadoop 29 times\", \"x\": [-0.25910192904159457], \"y\": [0.8618968559908573], \"type\": \"scatter\", \"uid\": \"0c7f2f44-e957-4e05-be84-77e2a6368e62\"}, {\"hoverinfo\": \"text\", \"marker\": {\"color\": \"blue\", \"size\": 0.5}, \"mode\": \"markers\", \"text\": \"Hadoop appears with MS SQL Server 29 times\", \"x\": [-0.8994860259548708], \"y\": [0.030411989607941742], \"type\": \"scatter\", \"uid\": \"d9c88a1e-6f7f-4cb7-8ad8-b4f91c2d6079\"}, {\"hoverinfo\": \"text\", \"marker\": {\"color\": \"green\", \"size\": 0.5}, \"mode\": \"markers\", \"text\": \"MS SQL Server appears with Spark 27 times\", \"x\": [-0.2537467122286216], \"y\": [0.863488625306185], \"type\": \"scatter\", \"uid\": \"c274b1b6-a38d-4609-b7e8-caecf2bd52e9\"}, {\"hoverinfo\": \"text\", \"marker\": {\"color\": \"blue\", \"size\": 0.5}, \"mode\": \"markers\", \"text\": \"Spark appears with MS SQL Server 27 times\", \"x\": [-0.8906378006976786], \"y\": [-0.1294770557604791], \"type\": \"scatter\", \"uid\": \"4bfb7b1e-8e04-4fcf-b6d0-cf0170702ae0\"}, {\"hoverinfo\": \"text\", \"marker\": {\"color\": \"green\", \"size\": 0.5}, \"mode\": \"markers\", \"text\": \"MS SQL Server appears with Informatica 62 times\", \"x\": [-0.29337536366540473], \"y\": [0.8508412871941462], \"type\": \"scatter\", \"uid\": \"d0961935-1ab4-43cf-8284-92de22377721\"}, {\"hoverinfo\": \"text\", \"marker\": {\"color\": \"blue\", \"size\": 0.5}, \"mode\": \"markers\", \"text\": \"Informatica appears with MS SQL Server 62 times\", \"x\": [-0.8447680333732782], \"y\": [-0.31043029779749903], \"type\": \"scatter\", \"uid\": \"c916c9ce-4a10-4f10-81c7-f49a25d16ff9\"}, {\"hoverinfo\": \"text\", \"marker\": {\"color\": \"green\", \"size\": 0.5}, \"mode\": \"markers\", \"text\": \"MS SQL Server appears with Qlik 66 times\", \"x\": [-0.30541772820202656], \"y\": [0.8465931793369901], \"type\": \"scatter\", \"uid\": \"1f6b9e7b-18cb-4ef0-890c-0df9903a41b0\"}, {\"hoverinfo\": \"text\", \"marker\": {\"color\": \"blue\", \"size\": 0.5}, \"mode\": \"markers\", \"text\": \"Qlik appears with MS SQL Server 66 times\", \"x\": [-0.7701392949869561], \"y\": [-0.46570963734605525], \"type\": \"scatter\", \"uid\": \"da41aee2-8ead-4700-b81d-b3e9e72bed2f\"}, {\"hoverinfo\": \"text\", \"marker\": {\"color\": \"green\", \"size\": 0.5}, \"mode\": \"markers\", \"text\": \"MS SQL Server appears with Tableau 106 times\", \"x\": [-0.35478286071576387], \"y\": [0.8271209837395851], \"type\": \"scatter\", \"uid\": \"52819b86-12e2-4767-853e-97d55affed1d\"}, {\"hoverinfo\": \"text\", \"marker\": {\"color\": \"blue\", \"size\": 0.5}, \"mode\": \"markers\", \"text\": \"Tableau appears with MS SQL Server 106 times\", \"x\": [-0.4417275796431033], \"y\": [-0.7841407688563615], \"type\": \"scatter\", \"uid\": \"69e8c710-9a3c-4ac2-a5ac-4a1a70d93dfd\"}, {\"hoverinfo\": \"text\", \"marker\": {\"color\": \"green\", \"size\": 0.5}, \"mode\": \"markers\", \"text\": \"MS SQL Server appears with Microstrategy 19 times\", \"x\": [-0.24934046034098487], \"y\": [0.8647712615697551], \"type\": \"scatter\", \"uid\": \"fed454e0-cad5-481c-8084-485832aadd3b\"}, {\"hoverinfo\": \"text\", \"marker\": {\"color\": \"blue\", \"size\": 0.5}, \"mode\": \"markers\", \"text\": \"Microstrategy appears with MS SQL Server 19 times\", \"x\": [-0.07075115923165008], \"y\": [-0.8972147309687786], \"type\": \"scatter\", \"uid\": \"e0967deb-c611-4556-94f5-b40b72b168bd\"}, {\"hoverinfo\": \"text\", \"marker\": {\"color\": \"green\", \"size\": 0.5}, \"mode\": \"markers\", \"text\": \"MS SQL Server appears with Oracle BI 176 times\", \"x\": [-0.4532702167592957], \"y\": [0.7775256334031574], \"type\": \"scatter\", \"uid\": \"1f3563a9-720a-442c-806a-3c565341c36d\"}, {\"hoverinfo\": \"text\", \"marker\": {\"color\": \"blue\", \"size\": 0.5}, \"mode\": \"markers\", \"text\": \"Oracle BI appears with MS SQL Server 176 times\", \"x\": [0.23481244262753326], \"y\": [-0.8688285888409125], \"type\": \"scatter\", \"uid\": \"f4e009c6-b917-4138-a667-82ffe1fb71cb\"}, {\"hoverinfo\": \"text\", \"marker\": {\"color\": \"green\", \"size\": 0.5}, \"mode\": \"markers\", \"text\": \"MS SQL Server appears with Python 114 times\", \"x\": [-0.3748461736504887], \"y\": [0.8182238972919256], \"type\": \"scatter\", \"uid\": \"3e2889fc-2c12-49ae-aa25-691aeb5852cb\"}, {\"hoverinfo\": \"text\", \"marker\": {\"color\": \"blue\", \"size\": 0.5}, \"mode\": \"markers\", \"text\": \"Python appears with MS SQL Server 114 times\", \"x\": [0.6717187017230046], \"y\": [-0.598994145009416], \"type\": \"scatter\", \"uid\": \"d855567b-329a-4a7c-a7c6-38b54064b9d5\"}, {\"hoverinfo\": \"text\", \"marker\": {\"color\": \"green\", \"size\": 0.5}, \"mode\": \"markers\", \"text\": \"MS SQL Server appears with VBA 38 times\", \"x\": [-0.2654959272772795], \"y\": [0.8599487848698767], \"type\": \"scatter\", \"uid\": \"ab2baf51-903c-4b93-8418-53e789195b7f\"}, {\"hoverinfo\": \"text\", \"marker\": {\"color\": \"blue\", \"size\": 0.5}, \"mode\": \"markers\", \"text\": \"VBA appears with MS SQL Server 38 times\", \"x\": [0.827302564744302], \"y\": [-0.3543592335011183], \"type\": \"scatter\", \"uid\": \"986544a3-a498-485b-884e-7e3f692c37eb\"}, {\"hoverinfo\": \"text\", \"marker\": {\"color\": \"green\", \"size\": 0.5}, \"mode\": \"markers\", \"text\": \"MS SQL Server appears with Linux 51 times\", \"x\": [-0.28269505018679514], \"y\": [0.8544492428458729], \"type\": \"scatter\", \"uid\": \"1e061e83-6282-4e4d-8bbb-8b144cfb02cf\"}, {\"hoverinfo\": \"text\", \"marker\": {\"color\": \"blue\", \"size\": 0.5}, \"mode\": \"markers\", \"text\": \"Linux appears with MS SQL Server 51 times\", \"x\": [0.8801419446131086], \"y\": [-0.188016375171568], \"type\": \"scatter\", \"uid\": \"3bd8c093-83fb-4866-babe-6b5375d77a74\"}, {\"hoverinfo\": \"text\", \"marker\": {\"color\": \"green\", \"size\": 0.5}, \"mode\": \"markers\", \"text\": \"MS SQL Server appears with AWS 10 times\", \"x\": [-0.24425566129959994], \"y\": [0.8662212026515486], \"type\": \"scatter\", \"uid\": \"c8328e2a-c596-49a7-be3a-828102e1e93c\"}, {\"hoverinfo\": \"text\", \"marker\": {\"color\": \"blue\", \"size\": 0.5}, \"mode\": \"markers\", \"text\": \"AWS appears with MS SQL Server 10 times\", \"x\": [0.8951748564760236], \"y\": [-0.09306973908382189], \"type\": \"scatter\", \"uid\": \"d89f57fc-dbf2-4fc5-9620-10ab4b71fd10\"}, {\"hoverinfo\": \"text\", \"marker\": {\"color\": \"green\", \"size\": 0.5}, \"mode\": \"markers\", \"text\": \"PostgreSQL appears with MySQL/MariaDB 99 times\", \"x\": [-0.6390542933846644], \"y\": [0.6337267629717301], \"type\": \"scatter\", \"uid\": \"50274eac-9c6f-4d51-b197-94cafe1ae1b9\"}, {\"hoverinfo\": \"text\", \"marker\": {\"color\": \"blue\", \"size\": 0.5}, \"mode\": \"markers\", \"text\": \"MySQL/MariaDB appears with PostgreSQL 99 times\", \"x\": [-0.7339483621735224], \"y\": [0.5208836738301594], \"type\": \"scatter\", \"uid\": \"7dd0bc04-9c5f-42ac-9b7d-b354a468545b\"}, {\"hoverinfo\": \"text\", \"marker\": {\"color\": \"green\", \"size\": 0.5}, \"mode\": \"markers\", \"text\": \"PostgreSQL appears with T-SQL 38 times\", \"x\": [-0.5886699664139301], \"y\": [0.6807845992986493], \"type\": \"scatter\", \"uid\": \"537f33ef-a977-4fa6-a9dc-57af27d29e04\"}, {\"hoverinfo\": \"text\", \"marker\": {\"color\": \"blue\", \"size\": 0.5}, \"mode\": \"markers\", \"text\": \"T-SQL appears with PostgreSQL 38 times\", \"x\": [-0.7808101908349329], \"y\": [0.447588478279229], \"type\": \"scatter\", \"uid\": \"baaeed1f-849b-4b1c-9820-d98a91c50af6\"}, {\"hoverinfo\": \"text\", \"marker\": {\"color\": \"green\", \"size\": 0.5}, \"mode\": \"markers\", \"text\": \"PostgreSQL appears with PL/SQL 2 times\", \"x\": [-0.5777519350185054], \"y\": [0.6900744174234926], \"type\": \"scatter\", \"uid\": \"b1dd2b31-f63e-498f-a1ea-8de349f4fd18\"}, {\"hoverinfo\": \"text\", \"marker\": {\"color\": \"blue\", \"size\": 0.5}, \"mode\": \"markers\", \"text\": \"PL/SQL appears with PostgreSQL 2 times\", \"x\": [-0.8669875800796902], \"y\": [0.24152129510161782], \"type\": \"scatter\", \"uid\": \"4fb8db9f-304d-4acb-b325-a90624d618a4\"}, {\"hoverinfo\": \"text\", \"marker\": {\"color\": \"green\", \"size\": 0.5}, \"mode\": \"markers\", \"text\": \"PostgreSQL appears with Pentaho 47 times\", \"x\": [-0.6047661255629233], \"y\": [0.666526768683457], \"type\": \"scatter\", \"uid\": \"c0f53b49-1541-4893-8187-017d3b1782a9\"}, {\"hoverinfo\": \"text\", \"marker\": {\"color\": \"blue\", \"size\": 0.5}, \"mode\": \"markers\", \"text\": \"Pentaho appears with PostgreSQL 47 times\", \"x\": [-0.8944317810122586], \"y\": [0.0999589371454046], \"type\": \"scatter\", \"uid\": \"41c724c4-532d-49b1-ad2b-20f6147413cb\"}, {\"hoverinfo\": \"text\", \"marker\": {\"color\": \"green\", \"size\": 0.5}, \"mode\": \"markers\", \"text\": \"PostgreSQL appears with Hadoop 4 times\", \"x\": [-0.5781308749736908], \"y\": [0.6897569799589959], \"type\": \"scatter\", \"uid\": \"1a1ab2e0-2f6d-41c0-bc16-44aa89abd9d6\"}, {\"hoverinfo\": \"text\", \"marker\": {\"color\": \"blue\", \"size\": 0.5}, \"mode\": \"markers\", \"text\": \"Hadoop appears with PostgreSQL 4 times\", \"x\": [-0.8988679613380008], \"y\": [0.04512635682244098], \"type\": \"scatter\", \"uid\": \"920e6eff-995e-4c66-bcf0-b8540daa4495\"}, {\"hoverinfo\": \"text\", \"marker\": {\"color\": \"green\", \"size\": 0.5}, \"mode\": \"markers\", \"text\": \"PostgreSQL appears with Spark 10 times\", \"x\": [-0.580274903592757], \"y\": [0.6879542399465364], \"type\": \"scatter\", \"uid\": \"b9253aa0-02b8-41cb-9bc1-47b1aa5f408d\"}, {\"hoverinfo\": \"text\", \"marker\": {\"color\": \"blue\", \"size\": 0.5}, \"mode\": \"markers\", \"text\": \"Spark appears with PostgreSQL 10 times\", \"x\": [-0.8928701576725788], \"y\": [-0.11306140604885549], \"type\": \"scatter\", \"uid\": \"b226a117-a332-4c32-9c1c-823c36917d0d\"}, {\"hoverinfo\": \"text\", \"marker\": {\"color\": \"green\", \"size\": 0.5}, \"mode\": \"markers\", \"text\": \"PostgreSQL appears with Informatica 1 times\", \"x\": [-0.5775623996723594], \"y\": [0.6902330580932108], \"type\": \"scatter\", \"uid\": \"e8a9de98-c398-4444-9d96-4837527745a0\"}, {\"hoverinfo\": \"text\", \"marker\": {\"color\": \"blue\", \"size\": 0.5}, \"mode\": \"markers\", \"text\": \"Informatica appears with PostgreSQL 1 times\", \"x\": [-0.8578870718273552], \"y\": [-0.2720841266804925], \"type\": \"scatter\", \"uid\": \"6de890d5-ca42-4fea-9940-416cec9a30f3\"}, {\"hoverinfo\": \"text\", \"marker\": {\"color\": \"green\", \"size\": 0.5}, \"mode\": \"markers\", \"text\": \"PostgreSQL appears with Qlik 14 times\", \"x\": [-0.5817849523267636], \"y\": [0.6866777040549267], \"type\": \"scatter\", \"uid\": \"b5698898-2fde-4e1f-9eca-0236e5cc120a\"}, {\"hoverinfo\": \"text\", \"marker\": {\"color\": \"blue\", \"size\": 0.5}, \"mode\": \"markers\", \"text\": \"Qlik appears with PostgreSQL 14 times\", \"x\": [-0.7944577071662394], \"y\": [-0.42289118165807377], \"type\": \"scatter\", \"uid\": \"89b7d2c0-8d0e-4a06-8b0c-9cb085d7c6ec\"}, {\"hoverinfo\": \"text\", \"marker\": {\"color\": \"green\", \"size\": 0.5}, \"mode\": \"markers\", \"text\": \"PostgreSQL appears with Tableau 6 times\", \"x\": [-0.579266647913817], \"y\": [0.6888034194272631], \"type\": \"scatter\", \"uid\": \"944eefac-3993-4d10-9b49-f0494e432357\"}, {\"hoverinfo\": \"text\", \"marker\": {\"color\": \"blue\", \"size\": 0.5}, \"mode\": \"markers\", \"text\": \"Tableau appears with PostgreSQL 6 times\", \"x\": [-0.5405471534071943], \"y\": [-0.7195893099146062], \"type\": \"scatter\", \"uid\": \"7499227e-49f7-4b49-b8ea-3259cd9494fb\"}, {\"hoverinfo\": \"text\", \"marker\": {\"color\": \"green\", \"size\": 0.5}, \"mode\": \"markers\", \"text\": \"PostgreSQL appears with Oracle BI 45 times\", \"x\": [-0.599131311535537], \"y\": [0.6715963605750908], \"type\": \"scatter\", \"uid\": \"74c0a6be-a9c3-46c6-a712-92ba4ae3cfa1\"}, {\"hoverinfo\": \"text\", \"marker\": {\"color\": \"blue\", \"size\": 0.5}, \"mode\": \"markers\", \"text\": \"Oracle BI appears with PostgreSQL 45 times\", \"x\": [0.03264835691431367], \"y\": [-0.8994076299380586], \"type\": \"scatter\", \"uid\": \"3588abc4-01d3-41fe-b8ff-b5dbe47b03fa\"}, {\"hoverinfo\": \"text\", \"marker\": {\"color\": \"green\", \"size\": 0.5}, \"mode\": \"markers\", \"text\": \"PostgreSQL appears with Python 29 times\", \"x\": [-0.5844834285208544], \"y\": [0.68438229213248], \"type\": \"scatter\", \"uid\": \"8bc9dea3-0730-45bb-85dc-c2f36ec0ba11\"}, {\"hoverinfo\": \"text\", \"marker\": {\"color\": \"blue\", \"size\": 0.5}, \"mode\": \"markers\", \"text\": \"Python appears with PostgreSQL 29 times\", \"x\": [0.5850531843524662], \"y\": [-0.6838952927744415], \"type\": \"scatter\", \"uid\": \"7399e224-cf0d-4936-9f6a-52519bc95473\"}, {\"hoverinfo\": \"text\", \"marker\": {\"color\": \"green\", \"size\": 0.5}, \"mode\": \"markers\", \"text\": \"PostgreSQL appears with Linux 43 times\", \"x\": [-0.5937017198999298], \"y\": [0.6764009667259985], \"type\": \"scatter\", \"uid\": \"1356d3bd-ebf9-406c-a75c-cdf6b9f7da4a\"}, {\"hoverinfo\": \"text\", \"marker\": {\"color\": \"blue\", \"size\": 0.5}, \"mode\": \"markers\", \"text\": \"Linux appears with PostgreSQL 43 times\", \"x\": [0.8767282231049062], \"y\": [-0.20334114883936763], \"type\": \"scatter\", \"uid\": \"53a34b35-947d-4f92-ac8d-4cc0ab0edf0f\"}, {\"hoverinfo\": \"text\", \"marker\": {\"color\": \"green\", \"size\": 0.5}, \"mode\": \"markers\", \"text\": \"PostgreSQL appears with AWS 4 times\", \"x\": [-0.5786358569208937], \"y\": [0.6893334063321052], \"type\": \"scatter\", \"uid\": \"03c0a64a-4097-4db8-8c5d-74a2f60f31a3\"}, {\"hoverinfo\": \"text\", \"marker\": {\"color\": \"blue\", \"size\": 0.5}, \"mode\": \"markers\", \"text\": \"AWS appears with PostgreSQL 4 times\", \"x\": [0.8947355014091289], \"y\": [-0.09720279069118719], \"type\": \"scatter\", \"uid\": \"86f8a9f8-ad4a-42ad-8a11-3c30f67c2e30\"}, {\"hoverinfo\": \"text\", \"marker\": {\"color\": \"green\", \"size\": 0.5}, \"mode\": \"markers\", \"text\": \"MySQL/MariaDB appears with T-SQL 39 times\", \"x\": [-0.6748068964547332], \"y\": [0.595512932266908], \"type\": \"scatter\", \"uid\": \"c31ea280-1ae7-4224-9129-e353d7175ad2\"}, {\"hoverinfo\": \"text\", \"marker\": {\"color\": \"blue\", \"size\": 0.5}, \"mode\": \"markers\", \"text\": \"T-SQL appears with MySQL/MariaDB 39 times\", \"x\": [-0.7844465969827763], \"y\": [0.44118424323874234], \"type\": \"scatter\", \"uid\": \"81e792b1-bc8d-4502-90f2-bb5824fed4a5\"}, {\"hoverinfo\": \"text\", \"marker\": {\"color\": \"green\", \"size\": 0.5}, \"mode\": \"markers\", \"text\": \"MySQL/MariaDB appears with Pentaho 64 times\", \"x\": [-0.6985597802129272], \"y\": [0.5674629798223553], \"type\": \"scatter\", \"uid\": \"875b78e8-84e7-44dd-a0d5-9699cf613a38\"}, {\"hoverinfo\": \"text\", \"marker\": {\"color\": \"blue\", \"size\": 0.5}, \"mode\": \"markers\", \"text\": \"Pentaho appears with MySQL/MariaDB 64 times\", \"x\": [-0.8954028176109807], \"y\": [0.09085039468443117], \"type\": \"scatter\", \"uid\": \"02b77363-9717-4fc6-bbe4-9e2ff7583697\"}, {\"hoverinfo\": \"text\", \"marker\": {\"color\": \"green\", \"size\": 0.5}, \"mode\": \"markers\", \"text\": \"MySQL/MariaDB appears with Hadoop 6 times\", \"x\": [-0.6658717994150591], \"y\": [0.6054871978363797], \"type\": \"scatter\", \"uid\": \"27e52e1c-5027-4d2c-8d94-e55b814f0c60\"}, {\"hoverinfo\": \"text\", \"marker\": {\"color\": \"blue\", \"size\": 0.5}, \"mode\": \"markers\", \"text\": \"Hadoop appears with MySQL/MariaDB 6 times\", \"x\": [-0.8989546714691967], \"y\": [0.04336471657590685], \"type\": \"scatter\", \"uid\": \"d71518c0-8ad3-4c7c-a1eb-6d419bde0896\"}, {\"hoverinfo\": \"text\", \"marker\": {\"color\": \"green\", \"size\": 0.5}, \"mode\": \"markers\", \"text\": \"MySQL/MariaDB appears with Spark 26 times\", \"x\": [-0.6709272900098292], \"y\": [0.5998804643594144], \"type\": \"scatter\", \"uid\": \"1510536a-d94c-409d-9a4e-15d4bde25cf9\"}, {\"hoverinfo\": \"text\", \"marker\": {\"color\": \"blue\", \"size\": 0.5}, \"mode\": \"markers\", \"text\": \"Spark appears with MySQL/MariaDB 26 times\", \"x\": [-0.8913082195963594], \"y\": [-0.12477843435453068], \"type\": \"scatter\", \"uid\": \"052da498-d31c-447e-877a-18475ff66fcc\"}, {\"hoverinfo\": \"text\", \"marker\": {\"color\": \"green\", \"size\": 0.5}, \"mode\": \"markers\", \"text\": \"MySQL/MariaDB appears with Informatica 9 times\", \"x\": [-0.6667780121158591], \"y\": [0.6044891087181169], \"type\": \"scatter\", \"uid\": \"7e3e12d7-25e6-4b20-ba3a-8792e1dcf610\"}, {\"hoverinfo\": \"text\", \"marker\": {\"color\": \"blue\", \"size\": 0.5}, \"mode\": \"markers\", \"text\": \"Informatica appears with MySQL/MariaDB 9 times\", \"x\": [-0.8570789460457992], \"y\": [-0.27461915491280303], \"type\": \"scatter\", \"uid\": \"ff7630b0-e77b-46c5-872e-fc7d68f172e3\"}, {\"hoverinfo\": \"text\", \"marker\": {\"color\": \"green\", \"size\": 0.5}, \"mode\": \"markers\", \"text\": \"MySQL/MariaDB appears with Qlik 17 times\", \"x\": [-0.6683452356334804], \"y\": [0.6027558759614273], \"type\": \"scatter\", \"uid\": \"15f73a05-abb4-483c-b2c3-c519127c297c\"}, {\"hoverinfo\": \"text\", \"marker\": {\"color\": \"blue\", \"size\": 0.5}, \"mode\": \"markers\", \"text\": \"Qlik appears with MySQL/MariaDB 17 times\", \"x\": [-0.7914750751458813], \"y\": [-0.42844743600915813], \"type\": \"scatter\", \"uid\": \"aab2f65e-3c9f-41fd-8dac-755b6fb827cf\"}, {\"hoverinfo\": \"text\", \"marker\": {\"color\": \"green\", \"size\": 0.5}, \"mode\": \"markers\", \"text\": \"MySQL/MariaDB appears with Tableau 50 times\", \"x\": [-0.6853432943961696], \"y\": [0.5833562966371455], \"type\": \"scatter\", \"uid\": \"91d42a43-d73d-428c-b269-7e7307362b6b\"}, {\"hoverinfo\": \"text\", \"marker\": {\"color\": \"blue\", \"size\": 0.5}, \"mode\": \"markers\", \"text\": \"Tableau appears with MySQL/MariaDB 50 times\", \"x\": [-0.5053117253382851], \"y\": [-0.7447550337095048], \"type\": \"scatter\", \"uid\": \"799fcefc-2009-4ffc-a015-f490165b4777\"}, {\"hoverinfo\": \"text\", \"marker\": {\"color\": \"green\", \"size\": 0.5}, \"mode\": \"markers\", \"text\": \"MySQL/MariaDB appears with Oracle BI 71 times\", \"x\": [-0.7061461029333422], \"y\": [0.5579943380645127], \"type\": \"scatter\", \"uid\": \"5d7afe1c-4c0b-4423-82cb-2de560138caa\"}, {\"hoverinfo\": \"text\", \"marker\": {\"color\": \"blue\", \"size\": 0.5}, \"mode\": \"markers\", \"text\": \"Oracle BI appears with MySQL/MariaDB 71 times\", \"x\": [0.05731656973261705], \"y\": [-0.8981730405852126], \"type\": \"scatter\", \"uid\": \"3ce85eb0-2e8b-48f8-a64a-1e7821d1a7c0\"}, {\"hoverinfo\": \"text\", \"marker\": {\"color\": \"green\", \"size\": 0.5}, \"mode\": \"markers\", \"text\": \"MySQL/MariaDB appears with Python 58 times\", \"x\": [-0.691594748413827], \"y\": [0.575931162524147], \"type\": \"scatter\", \"uid\": \"39db1c3d-0da6-4934-b46d-49dea62a66f8\"}, {\"hoverinfo\": \"text\", \"marker\": {\"color\": \"blue\", \"size\": 0.5}, \"mode\": \"markers\", \"text\": \"Python appears with MySQL/MariaDB 58 times\", \"x\": [0.6123254995918179], \"y\": [-0.659588873882535], \"type\": \"scatter\", \"uid\": \"743e68ab-7329-4bd4-9934-bbff0ffd4f8a\"}, {\"hoverinfo\": \"text\", \"marker\": {\"color\": \"green\", \"size\": 0.5}, \"mode\": \"markers\", \"text\": \"MySQL/MariaDB appears with VBA 5 times\", \"x\": [-0.6646005921334516], \"y\": [0.6068822397597953], \"type\": \"scatter\", \"uid\": \"62687e4c-fa3b-441f-aa8c-a05fe4530e70\"}, {\"hoverinfo\": \"text\", \"marker\": {\"color\": \"blue\", \"size\": 0.5}, \"mode\": \"markers\", \"text\": \"VBA appears with MySQL/MariaDB 5 times\", \"x\": [0.8167530972726729], \"y\": [-0.3780401805304509], \"type\": \"scatter\", \"uid\": \"f2742d6c-e6eb-46b0-b804-a421d293cb89\"}, {\"hoverinfo\": \"text\", \"marker\": {\"color\": \"green\", \"size\": 0.5}, \"mode\": \"markers\", \"text\": \"MySQL/MariaDB appears with Linux 45 times\", \"x\": [-0.6797784070786578], \"y\": [0.5898316007722906], \"type\": \"scatter\", \"uid\": \"cd87f84c-7e07-4b6c-8bba-5a2df9d6f826\"}, {\"hoverinfo\": \"text\", \"marker\": {\"color\": \"blue\", \"size\": 0.5}, \"mode\": \"markers\", \"text\": \"Linux appears with MySQL/MariaDB 45 times\", \"x\": [0.8783942263919865], \"y\": [-0.19601934353839567], \"type\": \"scatter\", \"uid\": \"1edcfc25-675e-4b4d-87c5-ba6f8574629d\"}, {\"hoverinfo\": \"text\", \"marker\": {\"color\": \"green\", \"size\": 0.5}, \"mode\": \"markers\", \"text\": \"MySQL/MariaDB appears with AWS 1 times\", \"x\": [-0.6642368529872511], \"y\": [0.6072803332346546], \"type\": \"scatter\", \"uid\": \"f960d677-b555-4550-8524-a0401f84e299\"}, {\"hoverinfo\": \"text\", \"marker\": {\"color\": \"blue\", \"size\": 0.5}, \"mode\": \"markers\", \"text\": \"AWS appears with MySQL/MariaDB 1 times\", \"x\": [0.8945763747508879], \"y\": [-0.09865652404964924], \"type\": \"scatter\", \"uid\": \"8d16e947-3a2d-42ec-93bb-a9074d715e5c\"}, {\"hoverinfo\": \"text\", \"marker\": {\"color\": \"green\", \"size\": 0.5}, \"mode\": \"markers\", \"text\": \"T-SQL appears with PL/SQL 41 times\", \"x\": [-0.7918345181668617], \"y\": [0.4277827671137], \"type\": \"scatter\", \"uid\": \"cd04a57d-2cc8-42ba-ac3d-3d4a6f01c8d7\"}, {\"hoverinfo\": \"text\", \"marker\": {\"color\": \"blue\", \"size\": 0.5}, \"mode\": \"markers\", \"text\": \"PL/SQL appears with T-SQL 41 times\", \"x\": [-0.8738002993273356], \"y\": [0.2155760582612522], \"type\": \"scatter\", \"uid\": \"6073ec85-e5fc-4f98-9ab3-f6b9cf863b02\"}, {\"hoverinfo\": \"text\", \"marker\": {\"color\": \"green\", \"size\": 0.5}, \"mode\": \"markers\", \"text\": \"T-SQL appears with Pentaho 40 times\", \"x\": [-0.7881228622432499], \"y\": [0.43458296562279963], \"type\": \"scatter\", \"uid\": \"c89ccaf0-3d18-4f0d-8144-4d9a631c6167\"}, {\"hoverinfo\": \"text\", \"marker\": {\"color\": \"blue\", \"size\": 0.5}, \"mode\": \"markers\", \"text\": \"Pentaho appears with T-SQL 40 times\", \"x\": [-0.8926707386834928], \"y\": [0.11462526902156965], \"type\": \"scatter\", \"uid\": \"453394a4-93cd-4182-afaa-076e0d37421b\"}, {\"hoverinfo\": \"text\", \"marker\": {\"color\": \"green\", \"size\": 0.5}, \"mode\": \"markers\", \"text\": \"T-SQL appears with Hadoop 18 times\", \"x\": [-0.7710226764459215], \"y\": [0.4642456595447802], \"type\": \"scatter\", \"uid\": \"85292c07-0b4f-48f5-a763-da383d3d7730\"}, {\"hoverinfo\": \"text\", \"marker\": {\"color\": \"blue\", \"size\": 0.5}, \"mode\": \"markers\", \"text\": \"Hadoop appears with T-SQL 18 times\", \"x\": [-0.8991790913365127], \"y\": [0.0384312594542933], \"type\": \"scatter\", \"uid\": \"a3544c96-ccd6-45f7-9e60-2cea7467e3bb\"}, {\"hoverinfo\": \"text\", \"marker\": {\"color\": \"green\", \"size\": 0.5}, \"mode\": \"markers\", \"text\": \"T-SQL appears with Spark 19 times\", \"x\": [-0.772842153534587], \"y\": [0.46121037035177553], \"type\": \"scatter\", \"uid\": \"a55b69b8-e692-47d2-b063-897d41a0b028\"}, {\"hoverinfo\": \"text\", \"marker\": {\"color\": \"blue\", \"size\": 0.5}, \"mode\": \"markers\", \"text\": \"Spark appears with T-SQL 19 times\", \"x\": [-0.8918579861146074], \"y\": [-0.1207863096695843], \"type\": \"scatter\", \"uid\": \"ca4356c7-7b5d-46a4-92b8-e4cda9d5c5d9\"}, {\"hoverinfo\": \"text\", \"marker\": {\"color\": \"green\", \"size\": 0.5}, \"mode\": \"markers\", \"text\": \"T-SQL appears with Informatica 13 times\", \"x\": [-0.7680966995016193], \"y\": [0.4690708477561989], \"type\": \"scatter\", \"uid\": \"4db4ac7a-aafb-40c6-981c-58da8b0ba6cd\"}, {\"hoverinfo\": \"text\", \"marker\": {\"color\": \"blue\", \"size\": 0.5}, \"mode\": \"markers\", \"text\": \"Informatica appears with T-SQL 13 times\", \"x\": [-0.855989793711208], \"y\": [-0.27799545511076895], \"type\": \"scatter\", \"uid\": \"ccfc4cbe-1fed-46e6-9e05-79fb713fbe04\"}, {\"hoverinfo\": \"text\", \"marker\": {\"color\": \"green\", \"size\": 0.5}, \"mode\": \"markers\", \"text\": \"T-SQL appears with Qlik 74 times\", \"x\": [-0.8051964327852221], \"y\": [0.4020680348273826], \"type\": \"scatter\", \"uid\": \"6259545f-5553-4fb6-9032-eacdc82c63dd\"}, {\"hoverinfo\": \"text\", \"marker\": {\"color\": \"blue\", \"size\": 0.5}, \"mode\": \"markers\", \"text\": \"Qlik appears with T-SQL 74 times\", \"x\": [-0.7627947218880902], \"y\": [-0.4776444412527704], \"type\": \"scatter\", \"uid\": \"9e24e7b1-cf6d-4707-b7f6-203174b1bc71\"}, {\"hoverinfo\": \"text\", \"marker\": {\"color\": \"green\", \"size\": 0.5}, \"mode\": \"markers\", \"text\": \"T-SQL appears with Tableau 97 times\", \"x\": [-0.8123696608581273], \"y\": [0.3873700222232631], \"type\": \"scatter\", \"uid\": \"863bc783-74d1-4b9f-aca9-b7fcf51471c2\"}, {\"hoverinfo\": \"text\", \"marker\": {\"color\": \"blue\", \"size\": 0.5}, \"mode\": \"markers\", \"text\": \"Tableau appears with T-SQL 97 times\", \"x\": [-0.45958879701033023], \"y\": [-0.7738075585457909], \"type\": \"scatter\", \"uid\": \"e76e0c7b-3292-49ba-89ea-d834f6167455\"}, {\"hoverinfo\": \"text\", \"marker\": {\"color\": \"green\", \"size\": 0.5}, \"mode\": \"markers\", \"text\": \"T-SQL appears with Microstrategy 14 times\", \"x\": [-0.769439460308467], \"y\": [0.4668649878928758], \"type\": \"scatter\", \"uid\": \"83eccc4a-09ef-4b4b-894c-48e9ca1b95f6\"}, {\"hoverinfo\": \"text\", \"marker\": {\"color\": \"blue\", \"size\": 0.5}, \"mode\": \"markers\", \"text\": \"Microstrategy appears with T-SQL 14 times\", \"x\": [-0.07768944381414829], \"y\": [-0.8966405914968651], \"type\": \"scatter\", \"uid\": \"b0e541bc-a8b5-4f09-bfd4-cd933b96b3c7\"}, {\"hoverinfo\": \"text\", \"marker\": {\"color\": \"green\", \"size\": 0.5}, \"mode\": \"markers\", \"text\": \"T-SQL appears with Oracle BI 138 times\", \"x\": [-0.8313943647828153], \"y\": [0.344649692016951], \"type\": \"scatter\", \"uid\": \"34c8fe96-6cf5-46c0-ad43-363e8192c442\"}, {\"hoverinfo\": \"text\", \"marker\": {\"color\": \"blue\", \"size\": 0.5}, \"mode\": \"markers\", \"text\": \"Oracle BI appears with T-SQL 138 times\", \"x\": [0.13800951183832533], \"y\": [-0.8893555951598591], \"type\": \"scatter\", \"uid\": \"c3eeaf9f-d59a-48bf-8fc3-81814f5029b5\"}, {\"hoverinfo\": \"text\", \"marker\": {\"color\": \"green\", \"size\": 0.5}, \"mode\": \"markers\", \"text\": \"T-SQL appears with Python 49 times\", \"x\": [-0.7998721839018412], \"y\": [0.41255846788073475], \"type\": \"scatter\", \"uid\": \"be1fd057-88c3-43be-901a-a7f3eb4ab1af\"}, {\"hoverinfo\": \"text\", \"marker\": {\"color\": \"blue\", \"size\": 0.5}, \"mode\": \"markers\", \"text\": \"Python appears with T-SQL 49 times\", \"x\": [0.5963802525238953], \"y\": [-0.6740404990796436], \"type\": \"scatter\", \"uid\": \"9805f7f2-eecd-451d-b85e-c9469bdf9c75\"}, {\"hoverinfo\": \"text\", \"marker\": {\"color\": \"green\", \"size\": 0.5}, \"mode\": \"markers\", \"text\": \"T-SQL appears with VBA 27 times\", \"x\": [-0.7776997913815887], \"y\": [0.452971339584563], \"type\": \"scatter\", \"uid\": \"5f7a5481-c26e-462d-af4b-53ca30e86aa1\"}, {\"hoverinfo\": \"text\", \"marker\": {\"color\": \"blue\", \"size\": 0.5}, \"mode\": \"markers\", \"text\": \"VBA appears with T-SQL 27 times\", \"x\": [0.8201389690267222], \"y\": [-0.3706373854372831], \"type\": \"scatter\", \"uid\": \"04aecc6a-2292-4098-a24a-9e52ed6649f2\"}, {\"hoverinfo\": \"text\", \"marker\": {\"color\": \"green\", \"size\": 0.5}, \"mode\": \"markers\", \"text\": \"T-SQL appears with Linux 27 times\", \"x\": [-0.7750875407348249], \"y\": [0.45742682933737205], \"type\": \"scatter\", \"uid\": \"78b14b24-9ff0-4c04-9fe1-60c7f56fcc98\"}, {\"hoverinfo\": \"text\", \"marker\": {\"color\": \"blue\", \"size\": 0.5}, \"mode\": \"markers\", \"text\": \"Linux appears with T-SQL 27 times\", \"x\": [0.8739112568605664], \"y\": [-0.21512581233405056], \"type\": \"scatter\", \"uid\": \"7f018b16-7c1b-47e1-8283-b95e1495ef3e\"}, {\"hoverinfo\": \"text\", \"marker\": {\"color\": \"green\", \"size\": 0.5}, \"mode\": \"markers\", \"text\": \"T-SQL appears with AWS 9 times\", \"x\": [-0.7669979219536829], \"y\": [0.4708653604999333], \"type\": \"scatter\", \"uid\": \"5210ad20-da37-41c4-9810-ea35dc903724\"}, {\"hoverinfo\": \"text\", \"marker\": {\"color\": \"blue\", \"size\": 0.5}, \"mode\": \"markers\", \"text\": \"AWS appears with T-SQL 9 times\", \"x\": [0.8950224450608767], \"y\": [-0.0945241918095572], \"type\": \"scatter\", \"uid\": \"87c3ac77-66f7-48c9-8c17-8886205df479\"}, {\"hoverinfo\": \"text\", \"marker\": {\"color\": \"green\", \"size\": 0.5}, \"mode\": \"markers\", \"text\": \"PL/SQL appears with Pentaho 8 times\", \"x\": [-0.8676471271372653], \"y\": [0.23914109385559426], \"type\": \"scatter\", \"uid\": \"d48bc9d1-27e2-4623-9997-85e58d0aedb2\"}, {\"hoverinfo\": \"text\", \"marker\": {\"color\": \"blue\", \"size\": 0.5}, \"mode\": \"markers\", \"text\": \"Pentaho appears with PL/SQL 8 times\", \"x\": [-0.8849870494777922], \"y\": [0.1637007093955061], \"type\": \"scatter\", \"uid\": \"0dc7bebf-4ecb-4451-bc66-99033046c89a\"}, {\"hoverinfo\": \"text\", \"marker\": {\"color\": \"green\", \"size\": 0.5}, \"mode\": \"markers\", \"text\": \"PL/SQL appears with Hadoop 3 times\", \"x\": [-0.8671898013347751], \"y\": [0.24079420354517092], \"type\": \"scatter\", \"uid\": \"a6858309-078f-46f5-a895-1cfc3acac636\"}, {\"hoverinfo\": \"text\", \"marker\": {\"color\": \"blue\", \"size\": 0.5}, \"mode\": \"markers\", \"text\": \"Hadoop appears with PL/SQL 3 times\", \"x\": [-0.8988367971918472], \"y\": [0.04574289030988491], \"type\": \"scatter\", \"uid\": \"9e035194-514e-4510-9c6e-2eae86635967\"}, {\"hoverinfo\": \"text\", \"marker\": {\"color\": \"green\", \"size\": 0.5}, \"mode\": \"markers\", \"text\": \"PL/SQL appears with Informatica 30 times\", \"x\": [-0.8712609874890576], \"y\": [0.2256197945207653], \"type\": \"scatter\", \"uid\": \"367f6445-dd2e-4e57-a6c6-fc40342dac3f\"}, {\"hoverinfo\": \"text\", \"marker\": {\"color\": \"blue\", \"size\": 0.5}, \"mode\": \"markers\", \"text\": \"Informatica appears with PL/SQL 30 times\", \"x\": [-0.8495574547271374], \"y\": [-0.2970726024350745], \"type\": \"scatter\", \"uid\": \"ff9cbf20-6687-4a6b-89b1-36e51c0f546a\"}, {\"hoverinfo\": \"text\", \"marker\": {\"color\": \"green\", \"size\": 0.5}, \"mode\": \"markers\", \"text\": \"PL/SQL appears with Qlik 18 times\", \"x\": [-0.8688751055207691], \"y\": [0.23464025870739333], \"type\": \"scatter\", \"uid\": \"a6793e7a-bb13-421a-a3e0-d24d053e36a0\"}, {\"hoverinfo\": \"text\", \"marker\": {\"color\": \"blue\", \"size\": 0.5}, \"mode\": \"markers\", \"text\": \"Qlik appears with PL/SQL 18 times\", \"x\": [-0.7898012571732586], \"y\": [-0.4315251721134473], \"type\": \"scatter\", \"uid\": \"d3c955c0-a34e-4e7a-b433-826677ef1783\"}, {\"hoverinfo\": \"text\", \"marker\": {\"color\": \"green\", \"size\": 0.5}, \"mode\": \"markers\", \"text\": \"PL/SQL appears with Tableau 20 times\", \"x\": [-0.869551161744734], \"y\": [0.23212233220520484], \"type\": \"scatter\", \"uid\": \"13e40e77-18f8-4194-81a9-ee02c72cfa2f\"}, {\"hoverinfo\": \"text\", \"marker\": {\"color\": \"blue\", \"size\": 0.5}, \"mode\": \"markers\", \"text\": \"Tableau appears with PL/SQL 20 times\", \"x\": [-0.5354948833870743], \"y\": [-0.7233569173418222], \"type\": \"scatter\", \"uid\": \"9f743ffd-659b-49b7-8866-19f95121b6e2\"}, {\"hoverinfo\": \"text\", \"marker\": {\"color\": \"green\", \"size\": 0.5}, \"mode\": \"markers\", \"text\": \"PL/SQL appears with Microstrategy 24 times\", \"x\": [-0.8703248474697619], \"y\": [0.22920440632050607], \"type\": \"scatter\", \"uid\": \"eb998064-a27c-4119-be98-57c4e3bdb24a\"}, {\"hoverinfo\": \"text\", \"marker\": {\"color\": \"blue\", \"size\": 0.5}, \"mode\": \"markers\", \"text\": \"Microstrategy appears with PL/SQL 24 times\", \"x\": [-0.06779592704755301], \"y\": [-0.8974428741016126], \"type\": \"scatter\", \"uid\": \"788a0f16-aaef-48aa-8959-6442683b8d1f\"}, {\"hoverinfo\": \"text\", \"marker\": {\"color\": \"green\", \"size\": 0.5}, \"mode\": \"markers\", \"text\": \"PL/SQL appears with Oracle BI 83 times\", \"x\": [-0.877597912163116], \"y\": [0.19955426471749418], \"type\": \"scatter\", \"uid\": \"cf7cc864-6d8d-420d-9a0d-07e4740f80fe\"}, {\"hoverinfo\": \"text\", \"marker\": {\"color\": \"blue\", \"size\": 0.5}, \"mode\": \"markers\", \"text\": \"Oracle BI appears with PL/SQL 83 times\", \"x\": [0.08890829577538362], \"y\": [-0.895597741702332], \"type\": \"scatter\", \"uid\": \"6a29decc-821b-4bcf-a4df-ba94bf766e66\"}, {\"hoverinfo\": \"text\", \"marker\": {\"color\": \"green\", \"size\": 0.5}, \"mode\": \"markers\", \"text\": \"PL/SQL appears with Python 3 times\", \"x\": [-0.8670795744141122], \"y\": [0.24119081996179287], \"type\": \"scatter\", \"uid\": \"3790baf9-7cb2-4364-aab8-522d3b549bf5\"}, {\"hoverinfo\": \"text\", \"marker\": {\"color\": \"blue\", \"size\": 0.5}, \"mode\": \"markers\", \"text\": \"Python appears with PL/SQL 3 times\", \"x\": [0.5754124902951568], \"y\": [-0.6920263477732088], \"type\": \"scatter\", \"uid\": \"843e99e3-9e28-4b26-a541-fcbecd8e5641\"}, {\"hoverinfo\": \"text\", \"marker\": {\"color\": \"green\", \"size\": 0.5}, \"mode\": \"markers\", \"text\": \"PL/SQL appears with VBA 7 times\", \"x\": [-0.8673731097048587], \"y\": [0.2401330642808756], \"type\": \"scatter\", \"uid\": \"67994551-5ef1-458f-b913-dc91cac0e7a5\"}, {\"hoverinfo\": \"text\", \"marker\": {\"color\": \"blue\", \"size\": 0.5}, \"mode\": \"markers\", \"text\": \"VBA appears with PL/SQL 7 times\", \"x\": [0.8182334419777304], \"y\": [-0.3748253385635449], \"type\": \"scatter\", \"uid\": \"9bb9234b-0d54-47fd-8a33-593b2e591d64\"}, {\"hoverinfo\": \"text\", \"marker\": {\"color\": \"green\", \"size\": 0.5}, \"mode\": \"markers\", \"text\": \"PL/SQL appears with Linux 1 times\", \"x\": [-0.866858576408535], \"y\": [0.241983901338432], \"type\": \"scatter\", \"uid\": \"0dcdbc11-1184-48cf-b789-8d567a51e737\"}, {\"hoverinfo\": \"text\", \"marker\": {\"color\": \"blue\", \"size\": 0.5}, \"mode\": \"markers\", \"text\": \"Linux appears with PL/SQL 1 times\", \"x\": [0.8696312227912361], \"y\": [-0.2318222084844752], \"type\": \"scatter\", \"uid\": \"27ab762b-5f8b-4992-ade2-e92943bddae7\"}, {\"hoverinfo\": \"text\", \"marker\": {\"color\": \"green\", \"size\": 0.5}, \"mode\": \"markers\", \"text\": \"PL/SQL appears with AWS 2 times\", \"x\": [-0.8669138939232414], \"y\": [0.24178564995227292], \"type\": \"scatter\", \"uid\": \"ee1dba5d-5aa7-4339-ae9c-a2e2213a31b0\"}, {\"hoverinfo\": \"text\", \"marker\": {\"color\": \"blue\", \"size\": 0.5}, \"mode\": \"markers\", \"text\": \"AWS appears with PL/SQL 2 times\", \"x\": [0.8946352751841953], \"y\": [-0.09812096817754688], \"type\": \"scatter\", \"uid\": \"f0b957d2-88a3-4141-a29d-3733c4153f1c\"}, {\"hoverinfo\": \"text\", \"marker\": {\"color\": \"green\", \"size\": 0.5}, \"mode\": \"markers\", \"text\": \"Pentaho appears with Spark 7 times\", \"x\": [-0.8847610577362541], \"y\": [0.16491776955023654], \"type\": \"scatter\", \"uid\": \"f1bb7e87-46c7-41d3-8f9d-fe2fd1e866c0\"}, {\"hoverinfo\": \"text\", \"marker\": {\"color\": \"blue\", \"size\": 0.5}, \"mode\": \"markers\", \"text\": \"Spark appears with Pentaho 7 times\", \"x\": [-0.8932584841945931], \"y\": [-0.109951263814373], \"type\": \"scatter\", \"uid\": \"d8f1cf03-fa5c-4226-9ca6-62df7e3321b8\"}, {\"hoverinfo\": \"text\", \"marker\": {\"color\": \"green\", \"size\": 0.5}, \"mode\": \"markers\", \"text\": \"Pentaho appears with Informatica 34 times\", \"x\": [-0.8872103305406389], \"y\": [0.151188059654095], \"type\": \"scatter\", \"uid\": \"e4de1091-3e5b-4e9a-9d0b-d2bd22f34965\"}, {\"hoverinfo\": \"text\", \"marker\": {\"color\": \"blue\", \"size\": 0.5}, \"mode\": \"markers\", \"text\": \"Informatica appears with Pentaho 34 times\", \"x\": [-0.8476669647532521], \"y\": [-0.3024247292567341], \"type\": \"scatter\", \"uid\": \"ac6b7736-4f77-4772-a74b-2660d322c0a1\"}, {\"hoverinfo\": \"text\", \"marker\": {\"color\": \"green\", \"size\": 0.5}, \"mode\": \"markers\", \"text\": \"Pentaho appears with Qlik 33 times\", \"x\": [-0.8862647737797782], \"y\": [0.15663572631133196], \"type\": \"scatter\", \"uid\": \"4270208e-78cf-4cb4-910c-7bbe4c81aee3\"}, {\"hoverinfo\": \"text\", \"marker\": {\"color\": \"blue\", \"size\": 0.5}, \"mode\": \"markers\", \"text\": \"Qlik appears with Pentaho 33 times\", \"x\": [-0.7843156507344476], \"y\": [-0.44141699107873045], \"type\": \"scatter\", \"uid\": \"699dc03d-6592-4072-b0ee-2be945e11a45\"}, {\"hoverinfo\": \"text\", \"marker\": {\"color\": \"green\", \"size\": 0.5}, \"mode\": \"markers\", \"text\": \"Pentaho appears with Tableau 40 times\", \"x\": [-0.8908930670351779], \"y\": [0.12770882157726612], \"type\": \"scatter\", \"uid\": \"89aaf5fb-f53b-4668-8a25-cfdbfc2ab743\"}, {\"hoverinfo\": \"text\", \"marker\": {\"color\": \"blue\", \"size\": 0.5}, \"mode\": \"markers\", \"text\": \"Tableau appears with Pentaho 40 times\", \"x\": [-0.5128560634798455], \"y\": [-0.7395800552691756], \"type\": \"scatter\", \"uid\": \"5a40b5e2-b874-4de3-b20a-1116fce4469a\"}, {\"hoverinfo\": \"text\", \"marker\": {\"color\": \"green\", \"size\": 0.5}, \"mode\": \"markers\", \"text\": \"Pentaho appears with Microstrategy 4 times\", \"x\": [-0.8845942666826305], \"y\": [0.1658100821790378], \"type\": \"scatter\", \"uid\": \"5e5246c6-9f54-4ef8-97c0-fca911da1c49\"}, {\"hoverinfo\": \"text\", \"marker\": {\"color\": \"blue\", \"size\": 0.5}, \"mode\": \"markers\", \"text\": \"Microstrategy appears with Pentaho 4 times\", \"x\": [-0.0808479387783695], \"y\": [-0.8963613171011392], \"type\": \"scatter\", \"uid\": \"f2182ea7-a889-4b67-a2e9-9b315b5e77ed\"}, {\"hoverinfo\": \"text\", \"marker\": {\"color\": \"green\", \"size\": 0.5}, \"mode\": \"markers\", \"text\": \"Pentaho appears with Oracle BI 40 times\", \"x\": [-0.8918058965404336], \"y\": [0.12117030533803815], \"type\": \"scatter\", \"uid\": \"1a6f3221-6d70-4e09-8421-ae178ce5ee4f\"}, {\"hoverinfo\": \"text\", \"marker\": {\"color\": \"blue\", \"size\": 0.5}, \"mode\": \"markers\", \"text\": \"Oracle BI appears with Pentaho 40 times\", \"x\": [0.014644558737304568], \"y\": [-0.8998808459453894], \"type\": \"scatter\", \"uid\": \"a98c6f96-cbca-4863-9be5-f92f565feb26\"}, {\"hoverinfo\": \"text\", \"marker\": {\"color\": \"green\", \"size\": 0.5}, \"mode\": \"markers\", \"text\": \"Pentaho appears with Python 36 times\", \"x\": [-0.8899814754194343], \"y\": [0.13391405232553819], \"type\": \"scatter\", \"uid\": \"12b8d8c8-968a-4c44-b35f-0848a353dcbc\"}, {\"hoverinfo\": \"text\", \"marker\": {\"color\": \"blue\", \"size\": 0.5}, \"mode\": \"markers\", \"text\": \"Python appears with Pentaho 36 times\", \"x\": [0.5899817569232607], \"y\": [-0.6796480901891379], \"type\": \"scatter\", \"uid\": \"be285ed2-b9d4-4c08-8d6c-9b14ac82a04c\"}, {\"hoverinfo\": \"text\", \"marker\": {\"color\": \"green\", \"size\": 0.5}, \"mode\": \"markers\", \"text\": \"Pentaho appears with VBA 1 times\", \"x\": [-0.8845181550601171], \"y\": [0.16621562311962917], \"type\": \"scatter\", \"uid\": \"4e956678-2063-4abb-90d2-4b583d4e13e0\"}, {\"hoverinfo\": \"text\", \"marker\": {\"color\": \"blue\", \"size\": 0.5}, \"mode\": \"markers\", \"text\": \"VBA appears with Pentaho 1 times\", \"x\": [0.8157840983649783], \"y\": [-0.38012669579344116], \"type\": \"scatter\", \"uid\": \"284622f7-0a15-4b20-a3e5-7e765d898fac\"}, {\"hoverinfo\": \"text\", \"marker\": {\"color\": \"green\", \"size\": 0.5}, \"mode\": \"markers\", \"text\": \"Pentaho appears with Linux 36 times\", \"x\": [-0.8890779937989314], \"y\": [0.13978669801689805], \"type\": \"scatter\", \"uid\": \"412635ae-1ca6-4f45-ae96-29cb02910240\"}, {\"hoverinfo\": \"text\", \"marker\": {\"color\": \"blue\", \"size\": 0.5}, \"mode\": \"markers\", \"text\": \"Linux appears with Pentaho 36 times\", \"x\": [0.8751806169706788], \"y\": [-0.20990209069664367], \"type\": \"scatter\", \"uid\": \"4a03ab07-ae24-48db-8838-b4db65dce940\"}, {\"hoverinfo\": \"text\", \"marker\": {\"color\": \"green\", \"size\": 0.5}, \"mode\": \"markers\", \"text\": \"Pentaho appears with AWS 14 times\", \"x\": [-0.8855815081712921], \"y\": [0.16045370791932367], \"type\": \"scatter\", \"uid\": \"4f089eb8-3475-4d2e-ba10-ac8f65429c39\"}, {\"hoverinfo\": \"text\", \"marker\": {\"color\": \"blue\", \"size\": 0.5}, \"mode\": \"markers\", \"text\": \"AWS appears with Pentaho 14 times\", \"x\": [0.8953639977362312], \"y\": [-0.09123218487898911], \"type\": \"scatter\", \"uid\": \"a5807815-0d59-484d-a600-481d35046d87\"}, {\"hoverinfo\": \"text\", \"marker\": {\"color\": \"green\", \"size\": 0.5}, \"mode\": \"markers\", \"text\": \"Hadoop appears with Spark 135 times\", \"x\": [-0.8989751123465188], \"y\": [-0.04293887960303248], \"type\": \"scatter\", \"uid\": \"d1c7bd89-2481-405d-b59b-a0bdc1408405\"}, {\"hoverinfo\": \"text\", \"marker\": {\"color\": \"blue\", \"size\": 0.5}, \"mode\": \"markers\", \"text\": \"Spark appears with Hadoop 135 times\", \"x\": [-0.8761903722269965], \"y\": [-0.20564637516065637], \"type\": \"scatter\", \"uid\": \"4ccf0cd6-f123-42e6-b6d1-7bfad6f99efb\"}, {\"hoverinfo\": \"text\", \"marker\": {\"color\": \"green\", \"size\": 0.5}, \"mode\": \"markers\", \"text\": \"Hadoop appears with Informatica 5 times\", \"x\": [-0.8989074081272979], \"y\": [0.04433363975429487], \"type\": \"scatter\", \"uid\": \"5ed06a3c-f49e-4ddc-928b-092281a3ddfb\"}, {\"hoverinfo\": \"text\", \"marker\": {\"color\": \"blue\", \"size\": 0.5}, \"mode\": \"markers\", \"text\": \"Informatica appears with Hadoop 5 times\", \"x\": [-0.857726046283611], \"y\": [-0.27259132327842833], \"type\": \"scatter\", \"uid\": \"db23147d-d4fe-4fb2-9ecb-79f25ca0dc7b\"}, {\"hoverinfo\": \"text\", \"marker\": {\"color\": \"green\", \"size\": 0.5}, \"mode\": \"markers\", \"text\": \"Hadoop appears with Qlik 9 times\", \"x\": [-0.8990742685079127], \"y\": [0.04081004419210546], \"type\": \"scatter\", \"uid\": \"3db5daae-2150-432b-aca7-84a0a3774003\"}, {\"hoverinfo\": \"text\", \"marker\": {\"color\": \"blue\", \"size\": 0.5}, \"mode\": \"markers\", \"text\": \"Qlik appears with Hadoop 9 times\", \"x\": [-0.7955368929259929], \"y\": [-0.42085751982548353], \"type\": \"scatter\", \"uid\": \"0c254a2e-fa5c-4f31-b08b-83abf1b9bc1e\"}, {\"hoverinfo\": \"text\", \"marker\": {\"color\": \"green\", \"size\": 0.5}, \"mode\": \"markers\", \"text\": \"Hadoop appears with Tableau 38 times\", \"x\": [-0.8999154160459887], \"y\": [0.012338718036127709], \"type\": \"scatter\", \"uid\": \"76708acf-1e5d-430f-956f-4a8469766d31\"}, {\"hoverinfo\": \"text\", \"marker\": {\"color\": \"blue\", \"size\": 0.5}, \"mode\": \"markers\", \"text\": \"Tableau appears with Hadoop 38 times\", \"x\": [-0.5193516518963134], \"y\": [-0.7350332384814788], \"type\": \"scatter\", \"uid\": \"1e31f0d3-5960-43de-9ff6-b0916112d6f8\"}, {\"hoverinfo\": \"text\", \"marker\": {\"color\": \"green\", \"size\": 0.5}, \"mode\": \"markers\", \"text\": \"Hadoop appears with Microstrategy 3 times\", \"x\": [-0.898809748487864], \"y\": [0.04627133046696176], \"type\": \"scatter\", \"uid\": \"7500e5a0-cbf6-4a33-b0c3-edae51431668\"}, {\"hoverinfo\": \"text\", \"marker\": {\"color\": \"blue\", \"size\": 0.5}, \"mode\": \"markers\", \"text\": \"Microstrategy appears with Hadoop 3 times\", \"x\": [-0.08132849231345761], \"y\": [-0.8963178433669722], \"type\": \"scatter\", \"uid\": \"954f0f23-e6c2-4787-bac0-87775038320b\"}, {\"hoverinfo\": \"text\", \"marker\": {\"color\": \"green\", \"size\": 0.5}, \"mode\": \"markers\", \"text\": \"Hadoop appears with Oracle BI 35 times\", \"x\": [-0.8998041342685611], \"y\": [0.018775514725443043], \"type\": \"scatter\", \"uid\": \"42b1feab-7beb-489e-8c24-4862f9913b40\"}, {\"hoverinfo\": \"text\", \"marker\": {\"color\": \"blue\", \"size\": 0.5}, \"mode\": \"markers\", \"text\": \"Oracle BI appears with Hadoop 35 times\", \"x\": [0.00692642952898375], \"y\": [-0.8999733465908755], \"type\": \"scatter\", \"uid\": \"69414cee-1ac3-4498-adeb-2c9838a2305b\"}, {\"hoverinfo\": \"text\", \"marker\": {\"color\": \"green\", \"size\": 0.5}, \"mode\": \"markers\", \"text\": \"Hadoop appears with Python 147 times\", \"x\": [-0.8974455716605018], \"y\": [-0.06776020887626613], \"type\": \"scatter\", \"uid\": \"76fb12ca-61cc-4f7d-a555-f6196d898148\"}, {\"hoverinfo\": \"text\", \"marker\": {\"color\": \"blue\", \"size\": 0.5}, \"mode\": \"markers\", \"text\": \"Python appears with Hadoop 147 times\", \"x\": [0.7059011405905167], \"y\": [-0.5583041999779401], \"type\": \"scatter\", \"uid\": \"f614f10c-bf3e-467d-a9c5-b2225a565b1d\"}, {\"hoverinfo\": \"text\", \"marker\": {\"color\": \"green\", \"size\": 0.5}, \"mode\": \"markers\", \"text\": \"Hadoop appears with VBA 7 times\", \"x\": [-0.8990091816527015], \"y\": [0.04221956068151327], \"type\": \"scatter\", \"uid\": \"6567d5ae-641a-405e-821a-8edd4f7c1179\"}, {\"hoverinfo\": \"text\", \"marker\": {\"color\": \"blue\", \"size\": 0.5}, \"mode\": \"markers\", \"text\": \"VBA appears with Hadoop 7 times\", \"x\": [0.8177167595510971], \"y\": [-0.37595119516933745], \"type\": \"scatter\", \"uid\": \"b5c03fd4-c3a6-4142-898b-ad56c3f5c4cf\"}, {\"hoverinfo\": \"text\", \"marker\": {\"color\": \"green\", \"size\": 0.5}, \"mode\": \"markers\", \"text\": \"Hadoop appears with Linux 93 times\", \"x\": [-0.899709993946976], \"y\": [-0.022845717146379025], \"type\": \"scatter\", \"uid\": \"9981bdf2-f923-4058-a543-9d81d5bbab23\"}, {\"hoverinfo\": \"text\", \"marker\": {\"color\": \"blue\", \"size\": 0.5}, \"mode\": \"markers\", \"text\": \"Linux appears with Hadoop 93 times\", \"x\": [0.8872173307311528], \"y\": [-0.15114697499549257], \"type\": \"scatter\", \"uid\": \"7226929b-8f0d-4056-a649-eeacfe6ea3c6\"}, {\"hoverinfo\": \"text\", \"marker\": {\"color\": \"green\", \"size\": 0.5}, \"mode\": \"markers\", \"text\": \"Hadoop appears with AWS 50 times\", \"x\": [-0.8999883540895051], \"y\": [0.0045784826377065655], \"type\": \"scatter\", \"uid\": \"af6c882b-39e2-4018-a942-03ecc2417a2b\"}, {\"hoverinfo\": \"text\", \"marker\": {\"color\": \"blue\", \"size\": 0.5}, \"mode\": \"markers\", \"text\": \"AWS appears with Hadoop 50 times\", \"x\": [0.8977913896783869], \"y\": [-0.06301286074565143], \"type\": \"scatter\", \"uid\": \"22f7d135-06c5-4cff-ac18-05e7d17e031b\"}, {\"hoverinfo\": \"text\", \"marker\": {\"color\": \"green\", \"size\": 0.5}, \"mode\": \"markers\", \"text\": \"Spark appears with Informatica 13 times\", \"x\": [-0.8926090751799624], \"y\": [-0.11510446953256145], \"type\": \"scatter\", \"uid\": \"39cbb3e3-ca0b-4ea9-a3f5-a2978a18f26c\"}, {\"hoverinfo\": \"text\", \"marker\": {\"color\": \"blue\", \"size\": 0.5}, \"mode\": \"markers\", \"text\": \"Informatica appears with Spark 13 times\", \"x\": [-0.8552747113736707], \"y\": [-0.28018773721325546], \"type\": \"scatter\", \"uid\": \"8ab1bb82-4ddb-41d6-87aa-f67f5cb7eb23\"}, {\"hoverinfo\": \"text\", \"marker\": {\"color\": \"green\", \"size\": 0.5}, \"mode\": \"markers\", \"text\": \"Spark appears with Qlik 16 times\", \"x\": [-0.8922732210654026], \"y\": [-0.11767964551939772], \"type\": \"scatter\", \"uid\": \"2a2b0577-967c-4b43-8ad8-5556b393274e\"}, {\"hoverinfo\": \"text\", \"marker\": {\"color\": \"blue\", \"size\": 0.5}, \"mode\": \"markers\", \"text\": \"Qlik appears with Spark 16 times\", \"x\": [-0.793042261829701], \"y\": [-0.42553962324562916], \"type\": \"scatter\", \"uid\": \"52c74325-dbd2-4acb-a9e9-4c3168fd65b2\"}, {\"hoverinfo\": \"text\", \"marker\": {\"color\": \"green\", \"size\": 0.5}, \"mode\": \"markers\", \"text\": \"Spark appears with Tableau 36 times\", \"x\": [-0.8881326705083159], \"y\": [-0.14567209607803175], \"type\": \"scatter\", \"uid\": \"a0600e28-cef1-49dc-8b05-029a0fdc5bc5\"}, {\"hoverinfo\": \"text\", \"marker\": {\"color\": \"blue\", \"size\": 0.5}, \"mode\": \"markers\", \"text\": \"Tableau appears with Spark 36 times\", \"x\": [-0.525476880539864], \"y\": [-0.7306668515938666], \"type\": \"scatter\", \"uid\": \"1af2ab4f-e7a4-4d2c-9301-92775a50d1b1\"}, {\"hoverinfo\": \"text\", \"marker\": {\"color\": \"green\", \"size\": 0.5}, \"mode\": \"markers\", \"text\": \"Spark appears with Microstrategy 3 times\", \"x\": [-0.8933674449961241], \"y\": [-0.10906240516831264], \"type\": \"scatter\", \"uid\": \"76060327-4ab6-48fa-b31b-a717bf55aa73\"}, {\"hoverinfo\": \"text\", \"marker\": {\"color\": \"blue\", \"size\": 0.5}, \"mode\": \"markers\", \"text\": \"Microstrategy appears with Spark 3 times\", \"x\": [-0.0817403767429147], \"y\": [-0.8962803751114528], \"type\": \"scatter\", \"uid\": \"dcf6471b-78c0-4ac4-bf02-72a8b375e572\"}, {\"hoverinfo\": \"text\", \"marker\": {\"color\": \"green\", \"size\": 0.5}, \"mode\": \"markers\", \"text\": \"Spark appears with Oracle BI 32 times\", \"x\": [-0.8890979646046138], \"y\": [-0.1396596195610345], \"type\": \"scatter\", \"uid\": \"6e52c48c-df97-409a-83a5-75a414f44be1\"}, {\"hoverinfo\": \"text\", \"marker\": {\"color\": \"blue\", \"size\": 0.5}, \"mode\": \"markers\", \"text\": \"Oracle BI appears with Spark 32 times\", \"x\": [3.111951984585217e-05], \"y\": [-0.8999999994619864], \"type\": \"scatter\", \"uid\": \"a92106cf-bb72-401b-84f4-ebf589dd587a\"}, {\"hoverinfo\": \"text\", \"marker\": {\"color\": \"green\", \"size\": 0.5}, \"mode\": \"markers\", \"text\": \"Spark appears with Python 159 times\", \"x\": [-0.8698004961773197], \"y\": [-0.2311862817073894], \"type\": \"scatter\", \"uid\": \"1158cf55-0516-4e04-9e5e-83ea87ee1a72\"}, {\"hoverinfo\": \"text\", \"marker\": {\"color\": \"blue\", \"size\": 0.5}, \"mode\": \"markers\", \"text\": \"Python appears with Spark 159 times\", \"x\": [0.7425772988690135], \"y\": [-0.5085065930785951], \"type\": \"scatter\", \"uid\": \"be56a4a4-5f36-4d51-b778-126ea5a0b7ce\"}, {\"hoverinfo\": \"text\", \"marker\": {\"color\": \"green\", \"size\": 0.5}, \"mode\": \"markers\", \"text\": \"Spark appears with VBA 9 times\", \"x\": [-0.8930823074627963], \"y\": [-0.11137321085848005], \"type\": \"scatter\", \"uid\": \"5de65158-97d4-4e3b-9bcd-1c11f6fe2768\"}, {\"hoverinfo\": \"text\", \"marker\": {\"color\": \"blue\", \"size\": 0.5}, \"mode\": \"markers\", \"text\": \"VBA appears with Spark 9 times\", \"x\": [0.8188220380266167], \"y\": [-0.3735377759235843], \"type\": \"scatter\", \"uid\": \"f1fd176c-d276-45e5-986d-ba9d555f5e44\"}, {\"hoverinfo\": \"text\", \"marker\": {\"color\": \"green\", \"size\": 0.5}, \"mode\": \"markers\", \"text\": \"Spark appears with Linux 74 times\", \"x\": [-0.8834577225681495], \"y\": [-0.1717627795382304], \"type\": \"scatter\", \"uid\": \"9a54786a-94a1-40fd-9a39-a512d886d33f\"}, {\"hoverinfo\": \"text\", \"marker\": {\"color\": \"blue\", \"size\": 0.5}, \"mode\": \"markers\", \"text\": \"Linux appears with Spark 74 times\", \"x\": [0.8847130643352696], \"y\": [-0.16517503986528084], \"type\": \"scatter\", \"uid\": \"6794204e-8888-4aad-897e-783b7bdf2c8e\"}, {\"hoverinfo\": \"text\", \"marker\": {\"color\": \"green\", \"size\": 0.5}, \"mode\": \"markers\", \"text\": \"Spark appears with AWS 52 times\", \"x\": [-0.885541655283394], \"y\": [-0.1606735098202143], \"type\": \"scatter\", \"uid\": \"204388d3-e64a-41a9-8acf-22bf1ef790f5\"}, {\"hoverinfo\": \"text\", \"marker\": {\"color\": \"blue\", \"size\": 0.5}, \"mode\": \"markers\", \"text\": \"AWS appears with Spark 52 times\", \"x\": [0.8983068976264607], \"y\": [-0.05517896045345167], \"type\": \"scatter\", \"uid\": \"6bcd7fc0-0d53-47cd-9ba6-333788a33f12\"}, {\"hoverinfo\": \"text\", \"marker\": {\"color\": \"green\", \"size\": 0.5}, \"mode\": \"markers\", \"text\": \"Informatica appears with Qlik 94 times\", \"x\": [-0.8306546486202704], \"y\": [-0.3464287152150283], \"type\": \"scatter\", \"uid\": \"8c41c1b1-a065-4961-97c2-c53486f2e584\"}, {\"hoverinfo\": \"text\", \"marker\": {\"color\": \"blue\", \"size\": 0.5}, \"mode\": \"markers\", \"text\": \"Qlik appears with Informatica 94 times\", \"x\": [-0.7439663393046497], \"y\": [-0.5064721966521348], \"type\": \"scatter\", \"uid\": \"0c6321e4-c5d2-4de3-85b0-7b37ea699e1d\"}, {\"hoverinfo\": \"text\", \"marker\": {\"color\": \"green\", \"size\": 0.5}, \"mode\": \"markers\", \"text\": \"Informatica appears with Tableau 70 times\", \"x\": [-0.8406586087402256], \"y\": [-0.3213924447633272], \"type\": \"scatter\", \"uid\": \"7865f007-9da6-4fab-ade1-aacf4ebfbb8c\"}, {\"hoverinfo\": \"text\", \"marker\": {\"color\": \"blue\", \"size\": 0.5}, \"mode\": \"markers\", \"text\": \"Tableau appears with Informatica 70 times\", \"x\": [-0.48630969998962226], \"y\": [-0.7572997264597444], \"type\": \"scatter\", \"uid\": \"dd24ded1-c267-4edb-806c-38bd6facafd1\"}, {\"hoverinfo\": \"text\", \"marker\": {\"color\": \"green\", \"size\": 0.5}, \"mode\": \"markers\", \"text\": \"Informatica appears with Microstrategy 15 times\", \"x\": [-0.854498343720529], \"y\": [-0.2825465989511689], \"type\": \"scatter\", \"uid\": \"927dc56b-2b83-4375-ab49-2334bd0c8505\"}, {\"hoverinfo\": \"text\", \"marker\": {\"color\": \"blue\", \"size\": 0.5}, \"mode\": \"markers\", \"text\": \"Microstrategy appears with Informatica 15 times\", \"x\": [-0.07569772064330206], \"y\": [-0.8968109360893235], \"type\": \"scatter\", \"uid\": \"5de1bbaa-95bf-45bf-8d7a-d48a3751bda4\"}, {\"hoverinfo\": \"text\", \"marker\": {\"color\": \"green\", \"size\": 0.5}, \"mode\": \"markers\", \"text\": \"Informatica appears with Oracle BI 130 times\", \"x\": [-0.8141784377016311], \"y\": [-0.38355374014827576], \"type\": \"scatter\", \"uid\": \"9260528a-a9b3-4bac-9a4d-27ba97ed1c33\"}, {\"hoverinfo\": \"text\", \"marker\": {\"color\": \"blue\", \"size\": 0.5}, \"mode\": \"markers\", \"text\": \"Oracle BI appears with Informatica 130 times\", \"x\": [0.1106936710038192], \"y\": [-0.8931667880075357], \"type\": \"scatter\", \"uid\": \"389abe6b-fbfd-44ec-9c98-3992b259f3bf\"}, {\"hoverinfo\": \"text\", \"marker\": {\"color\": \"green\", \"size\": 0.5}, \"mode\": \"markers\", \"text\": \"Informatica appears with Python 28 times\", \"x\": [-0.8512415241793694], \"y\": [-0.2922120249284485], \"type\": \"scatter\", \"uid\": \"5b72f491-2a18-4ed4-90b4-29cf5eae4abf\"}, {\"hoverinfo\": \"text\", \"marker\": {\"color\": \"blue\", \"size\": 0.5}, \"mode\": \"markers\", \"text\": \"Python appears with Informatica 28 times\", \"x\": [0.5807060353545015], \"y\": [-0.6875903580642012], \"type\": \"scatter\", \"uid\": \"2c81be6e-d14c-4428-bb97-cca2e1a41366\"}, {\"hoverinfo\": \"text\", \"marker\": {\"color\": \"green\", \"size\": 0.5}, \"mode\": \"markers\", \"text\": \"Informatica appears with VBA 5 times\", \"x\": [-0.8574570040435835], \"y\": [-0.2734364390797287], \"type\": \"scatter\", \"uid\": \"3c233dc3-cabf-413d-a6c7-c25806ec792c\"}, {\"hoverinfo\": \"text\", \"marker\": {\"color\": \"blue\", \"size\": 0.5}, \"mode\": \"markers\", \"text\": \"VBA appears with Informatica 5 times\", \"x\": [0.816381036593806], \"y\": [-0.3788429794651376], \"type\": \"scatter\", \"uid\": \"f16cb118-8df9-47f7-ac96-f78ca1c368bb\"}, {\"hoverinfo\": \"text\", \"marker\": {\"color\": \"green\", \"size\": 0.5}, \"mode\": \"markers\", \"text\": \"Informatica appears with Linux 9 times\", \"x\": [-0.8565904744865229], \"y\": [-0.2761390211812769], \"type\": \"scatter\", \"uid\": \"de709d83-424b-4793-a0e1-11cd2f3be881\"}, {\"hoverinfo\": \"text\", \"marker\": {\"color\": \"blue\", \"size\": 0.5}, \"mode\": \"markers\", \"text\": \"Linux appears with Informatica 9 times\", \"x\": [0.870677212337387], \"y\": [-0.22786222134526093], \"type\": \"scatter\", \"uid\": \"bd4ed4cb-064e-4e6d-98fc-0fec971d1c3f\"}, {\"hoverinfo\": \"text\", \"marker\": {\"color\": \"green\", \"size\": 0.5}, \"mode\": \"markers\", \"text\": \"Informatica appears with AWS 20 times\", \"x\": [-0.8526142091508159], \"y\": [-0.2881822519762951], \"type\": \"scatter\", \"uid\": \"fcec4a52-8fab-485d-baf4-0e43ad2c3ee9\"}, {\"hoverinfo\": \"text\", \"marker\": {\"color\": \"blue\", \"size\": 0.5}, \"mode\": \"markers\", \"text\": \"AWS appears with Informatica 20 times\", \"x\": [0.8956254907336821], \"y\": [-0.0886283270069512], \"type\": \"scatter\", \"uid\": \"908f0f01-3cc9-4f03-9d08-427dc1366191\"}, {\"hoverinfo\": \"text\", \"marker\": {\"color\": \"green\", \"size\": 0.5}, \"mode\": \"markers\", \"text\": \"Qlik appears with Tableau 347 times\", \"x\": [-0.6960821655310047], \"y\": [-0.5704994468267844], \"type\": \"scatter\", \"uid\": \"e08d29ad-cccf-43f5-969f-d800cea3e575\"}, {\"hoverinfo\": \"text\", \"marker\": {\"color\": \"blue\", \"size\": 0.5}, \"mode\": \"markers\", \"text\": \"Tableau appears with Qlik 347 times\", \"x\": [-0.31150091196937685], \"y\": [-0.8443738400982391], \"type\": \"scatter\", \"uid\": \"10ec3621-219e-4bff-b096-36fe8f7f6457\"}, {\"hoverinfo\": \"text\", \"marker\": {\"color\": \"green\", \"size\": 0.5}, \"mode\": \"markers\", \"text\": \"Qlik appears with Microstrategy 37 times\", \"x\": [-0.7808552910686345], \"y\": [-0.4475097925298598], \"type\": \"scatter\", \"uid\": \"2d20807b-4ebe-4630-836a-551f3fd6e7cf\"}, {\"hoverinfo\": \"text\", \"marker\": {\"color\": \"blue\", \"size\": 0.5}, \"mode\": \"markers\", \"text\": \"Microstrategy appears with Qlik 37 times\", \"x\": [-0.05576157185808777], \"y\": [-0.898270920771632], \"type\": \"scatter\", \"uid\": \"2d7655ef-db0b-4880-917d-1f15d5d7477c\"}, {\"hoverinfo\": \"text\", \"marker\": {\"color\": \"green\", \"size\": 0.5}, \"mode\": \"markers\", \"text\": \"Qlik appears with Oracle BI 351 times\", \"x\": [-0.6497411678130279], \"y\": [-0.622765136186157], \"type\": \"scatter\", \"uid\": \"fd543fc9-fa5c-47e0-998a-7c4ad060862a\"}, {\"hoverinfo\": \"text\", \"marker\": {\"color\": \"blue\", \"size\": 0.5}, \"mode\": \"markers\", \"text\": \"Oracle BI appears with Qlik 351 times\", \"x\": [0.33823995509721255], \"y\": [-0.8340226212614593], \"type\": \"scatter\", \"uid\": \"d5b590a7-0d0a-4d2f-8c7b-283e3c6b543a\"}, {\"hoverinfo\": \"text\", \"marker\": {\"color\": \"green\", \"size\": 0.5}, \"mode\": \"markers\", \"text\": \"Qlik appears with Python 54 times\", \"x\": [-0.7762860971955697], \"y\": [-0.4553898278407967], \"type\": \"scatter\", \"uid\": \"f6de8357-2a9c-4169-824b-5fd5a9206850\"}, {\"hoverinfo\": \"text\", \"marker\": {\"color\": \"blue\", \"size\": 0.5}, \"mode\": \"markers\", \"text\": \"Python appears with Qlik 54 times\", \"x\": [0.6040622500775515], \"y\": [-0.6671647457946542], \"type\": \"scatter\", \"uid\": \"0e0e2adf-10c7-4848-bed5-ec783740cd1c\"}, {\"hoverinfo\": \"text\", \"marker\": {\"color\": \"green\", \"size\": 0.5}, \"mode\": \"markers\", \"text\": \"Qlik appears with VBA 31 times\", \"x\": [-0.787437811404127], \"y\": [-0.435823006702352], \"type\": \"scatter\", \"uid\": \"49386f20-a47d-46cf-ae83-dceb459adcc0\"}, {\"hoverinfo\": \"text\", \"marker\": {\"color\": \"blue\", \"size\": 0.5}, \"mode\": \"markers\", \"text\": \"VBA appears with Qlik 31 times\", \"x\": [0.8222390747788857], \"y\": [-0.3659547839648529], \"type\": \"scatter\", \"uid\": \"fbfaf29e-59c2-42d1-babb-e0557a2acd99\"}, {\"hoverinfo\": \"text\", \"marker\": {\"color\": \"green\", \"size\": 0.5}, \"mode\": \"markers\", \"text\": \"Qlik appears with Linux 2 times\", \"x\": [-0.7963312064894601], \"y\": [-0.41935260768360677], \"type\": \"scatter\", \"uid\": \"19a2123b-4247-40c2-a9d2-b6ad18c13292\"}, {\"hoverinfo\": \"text\", \"marker\": {\"color\": \"blue\", \"size\": 0.5}, \"mode\": \"markers\", \"text\": \"Linux appears with Qlik 2 times\", \"x\": [0.8696971250185589], \"y\": [-0.231574849097334], \"type\": \"scatter\", \"uid\": \"afe512af-d2ff-4427-9864-5f75967dae86\"}, {\"hoverinfo\": \"text\", \"marker\": {\"color\": \"green\", \"size\": 0.5}, \"mode\": \"markers\", \"text\": \"Qlik appears with AWS 3 times\", \"x\": [-0.7960978802448275], \"y\": [-0.4197953847646403], \"type\": \"scatter\", \"uid\": \"1cc96bc7-2f28-4f63-ab3a-0ce219dd24ed\"}, {\"hoverinfo\": \"text\", \"marker\": {\"color\": \"blue\", \"size\": 0.5}, \"mode\": \"markers\", \"text\": \"AWS appears with Qlik 3 times\", \"x\": [0.8946771506248623], \"y\": [-0.09773840672825347], \"type\": \"scatter\", \"uid\": \"08e71bdf-5fa1-44cb-99dc-39e43ccb701d\"}, {\"hoverinfo\": \"text\", \"marker\": {\"color\": \"green\", \"size\": 0.5}, \"mode\": \"markers\", \"text\": \"Tableau appears with Microstrategy 52 times\", \"x\": [-0.4966983966951958], \"y\": [-0.7505269500293924], \"type\": \"scatter\", \"uid\": \"ea951400-06bf-4768-902a-71034758e942\"}, {\"hoverinfo\": \"text\", \"marker\": {\"color\": \"blue\", \"size\": 0.5}, \"mode\": \"markers\", \"text\": \"Microstrategy appears with Tableau 52 times\", \"x\": [-0.04426798709644553], \"y\": [-0.8989106436784632], \"type\": \"scatter\", \"uid\": \"36912d82-26ee-43df-8aa4-f15710f6ced8\"}, {\"hoverinfo\": \"text\", \"marker\": {\"color\": \"green\", \"size\": 0.5}, \"mode\": \"markers\", \"text\": \"Tableau appears with Oracle BI 416 times\", \"x\": [-0.2376683266792917], \"y\": [-0.8680517072694838], \"type\": \"scatter\", \"uid\": \"7402fac8-4cef-4f64-a956-fe4ea97c5df0\"}, {\"hoverinfo\": \"text\", \"marker\": {\"color\": \"blue\", \"size\": 0.5}, \"mode\": \"markers\", \"text\": \"Oracle BI appears with Tableau 416 times\", \"x\": [0.4099960115944223], \"y\": [-0.8011886609760939], \"type\": \"scatter\", \"uid\": \"aa5c52e3-5cad-46f7-9e83-3c45f0a25ffc\"}, {\"hoverinfo\": \"text\", \"marker\": {\"color\": \"green\", \"size\": 0.5}, \"mode\": \"markers\", \"text\": \"Tableau appears with Python 135 times\", \"x\": [-0.4202221766708955], \"y\": [-0.7958726796630066], \"type\": \"scatter\", \"uid\": \"2285774b-a32c-425b-9d74-c67f0c789164\"}, {\"hoverinfo\": \"text\", \"marker\": {\"color\": \"blue\", \"size\": 0.5}, \"mode\": \"markers\", \"text\": \"Python appears with Tableau 135 times\", \"x\": [0.6880468341624767], \"y\": [-0.5801651092568333], \"type\": \"scatter\", \"uid\": \"ed60442c-afd8-46a2-8ffc-6779faf52d6d\"}, {\"hoverinfo\": \"text\", \"marker\": {\"color\": \"green\", \"size\": 0.5}, \"mode\": \"markers\", \"text\": \"Tableau appears with VBA 71 times\", \"x\": [-0.4741881937529368], \"y\": [-0.7649480746464608], \"type\": \"scatter\", \"uid\": \"53bac3b9-a9bd-4a75-bad4-d6f5f6c96c14\"}, {\"hoverinfo\": \"text\", \"marker\": {\"color\": \"blue\", \"size\": 0.5}, \"mode\": \"markers\", \"text\": \"VBA appears with Tableau 71 times\", \"x\": [0.8353998142202963], \"y\": [-0.33482405887375294], \"type\": \"scatter\", \"uid\": \"3b8c29e3-544e-4f1f-9505-2b1a92c9a69a\"}, {\"hoverinfo\": \"text\", \"marker\": {\"color\": \"green\", \"size\": 0.5}, \"mode\": \"markers\", \"text\": \"Tableau appears with Linux 18 times\", \"x\": [-0.5385945668541988], \"y\": [-0.7210519347142326], \"type\": \"scatter\", \"uid\": \"638a197d-724e-41fb-9f26-1b6879293a38\"}, {\"hoverinfo\": \"text\", \"marker\": {\"color\": \"blue\", \"size\": 0.5}, \"mode\": \"markers\", \"text\": \"Linux appears with Tableau 18 times\", \"x\": [0.8720227048865249], \"y\": [-0.22265758950098388], \"type\": \"scatter\", \"uid\": \"6cd43fd3-8da6-409e-b8ed-7092fbe83692\"}, {\"hoverinfo\": \"text\", \"marker\": {\"color\": \"green\", \"size\": 0.5}, \"mode\": \"markers\", \"text\": \"Tableau appears with AWS 33 times\", \"x\": [-0.5311551796645577], \"y\": [-0.726549499425546], \"type\": \"scatter\", \"uid\": \"46907e38-ff70-4248-82d4-68a4acf905b3\"}, {\"hoverinfo\": \"text\", \"marker\": {\"color\": \"blue\", \"size\": 0.5}, \"mode\": \"markers\", \"text\": \"AWS appears with Tableau 33 times\", \"x\": [0.8967608745501656], \"y\": [-0.0762884911111897], \"type\": \"scatter\", \"uid\": \"b752fe0c-4eb2-492d-880f-c85866adbc01\"}, {\"hoverinfo\": \"text\", \"marker\": {\"color\": \"green\", \"size\": 0.5}, \"mode\": \"markers\", \"text\": \"Microstrategy appears with Oracle BI 62 times\", \"x\": [-0.036417793493686075], \"y\": [-0.8992628894361488], \"type\": \"scatter\", \"uid\": \"7d8954ca-7365-48ac-83c5-7d05f7dde05f\"}, {\"hoverinfo\": \"text\", \"marker\": {\"color\": \"blue\", \"size\": 0.5}, \"mode\": \"markers\", \"text\": \"Oracle BI appears with Microstrategy 62 times\", \"x\": [0.043650412682822215], \"y\": [-0.8989408442565169], \"type\": \"scatter\", \"uid\": \"dc24541b-11db-46e2-91d7-c7fa7c581abb\"}, {\"hoverinfo\": \"text\", \"marker\": {\"color\": \"green\", \"size\": 0.5}, \"mode\": \"markers\", \"text\": \"Microstrategy appears with Python 19 times\", \"x\": [-0.0733621220750588], \"y\": [-0.897005016175854], \"type\": \"scatter\", \"uid\": \"603894f0-83c0-4db4-bdd8-f6828a1dcc53\"}, {\"hoverinfo\": \"text\", \"marker\": {\"color\": \"blue\", \"size\": 0.5}, \"mode\": \"markers\", \"text\": \"Python appears with Microstrategy 19 times\", \"x\": [0.5771039818003191], \"y\": [-0.6906163871428312], \"type\": \"scatter\", \"uid\": \"1b606e8d-011a-445b-abf4-ccae12079d21\"}, {\"hoverinfo\": \"text\", \"marker\": {\"color\": \"green\", \"size\": 0.5}, \"mode\": \"markers\", \"text\": \"Microstrategy appears with VBA 7 times\", \"x\": [-0.07913148741790182], \"y\": [-0.8965144771274084], \"type\": \"scatter\", \"uid\": \"a6fb04fc-7236-44db-8988-81be703b0c09\"}, {\"hoverinfo\": \"text\", \"marker\": {\"color\": \"blue\", \"size\": 0.5}, \"mode\": \"markers\", \"text\": \"VBA appears with Microstrategy 7 times\", \"x\": [0.817198527991533], \"y\": [-0.3770763395500594], \"type\": \"scatter\", \"uid\": \"b8a6ee5c-dc98-47dd-b1c2-eaaeceb66365\"}, {\"hoverinfo\": \"text\", \"marker\": {\"color\": \"green\", \"size\": 0.5}, \"mode\": \"markers\", \"text\": \"Microstrategy appears with Linux 7 times\", \"x\": [-0.08009273632521782], \"y\": [-0.8964291124165586], \"type\": \"scatter\", \"uid\": \"e355af47-6163-4ffc-95d7-083795ed42ad\"}, {\"hoverinfo\": \"text\", \"marker\": {\"color\": \"blue\", \"size\": 0.5}, \"mode\": \"markers\", \"text\": \"Linux appears with Microstrategy 7 times\", \"x\": [0.8703305516770369], \"y\": [-0.22918274546209796], \"type\": \"scatter\", \"uid\": \"4b5fa4d5-2244-492a-8dfb-93836985c9d4\"}, {\"hoverinfo\": \"text\", \"marker\": {\"color\": \"green\", \"size\": 0.5}, \"mode\": \"markers\", \"text\": \"Microstrategy appears with AWS 2 times\", \"x\": [-0.08208360058519633], \"y\": [-0.896249006981302], \"type\": \"scatter\", \"uid\": \"d33e96bb-04d7-4493-8f94-ed3f94ffe79f\"}, {\"hoverinfo\": \"text\", \"marker\": {\"color\": \"blue\", \"size\": 0.5}, \"mode\": \"markers\", \"text\": \"AWS appears with Microstrategy 2 times\", \"x\": [0.8946016570521098], \"y\": [-0.0984270044226647], \"type\": \"scatter\", \"uid\": \"6437db65-ad7b-4076-aca0-f9cc98819a2c\"}, {\"hoverinfo\": \"text\", \"marker\": {\"color\": \"green\", \"size\": 0.5}, \"mode\": \"markers\", \"text\": \"Oracle BI appears with Python 156 times\", \"x\": [0.1678253692585959], \"y\": [-0.8842141400323883], \"type\": \"scatter\", \"uid\": \"8d0c40d4-8551-433e-b7c6-c4c775857f32\"}, {\"hoverinfo\": \"text\", \"marker\": {\"color\": \"blue\", \"size\": 0.5}, \"mode\": \"markers\", \"text\": \"Python appears with Oracle BI 156 times\", \"x\": [0.7243107838509957], \"y\": [-0.5342039763958673], \"type\": \"scatter\", \"uid\": \"b412585b-3559-4f47-8796-49e59f86297e\"}, {\"hoverinfo\": \"text\", \"marker\": {\"color\": \"green\", \"size\": 0.5}, \"mode\": \"markers\", \"text\": \"Oracle BI appears with VBA 77 times\", \"x\": [0.07250829864922174], \"y\": [-0.8970744376176346], \"type\": \"scatter\", \"uid\": \"d64da1ca-5510-4fcf-beeb-306641a691ec\"}, {\"hoverinfo\": \"text\", \"marker\": {\"color\": \"blue\", \"size\": 0.5}, \"mode\": \"markers\", \"text\": \"VBA appears with Oracle BI 77 times\", \"x\": [0.8401830529923612], \"y\": [-0.32263359630459343], \"type\": \"scatter\", \"uid\": \"c492696e-405d-4ed3-babc-c503c5bbcc92\"}, {\"hoverinfo\": \"text\", \"marker\": {\"color\": \"green\", \"size\": 0.5}, \"mode\": \"markers\", \"text\": \"Oracle BI appears with Linux 3 times\", \"x\": [-0.0035709344462389633], \"y\": [-0.8999929157649968], \"type\": \"scatter\", \"uid\": \"9bd223a1-6580-4007-989e-5dbf2e305eaf\"}, {\"hoverinfo\": \"text\", \"marker\": {\"color\": \"blue\", \"size\": 0.5}, \"mode\": \"markers\", \"text\": \"Linux appears with Oracle BI 3 times\", \"x\": [0.8698068057074132], \"y\": [-0.23116254182948065], \"type\": \"scatter\", \"uid\": \"80528b78-63f8-488b-9a25-c2728905b3b7\"}, {\"hoverinfo\": \"text\", \"marker\": {\"color\": \"green\", \"size\": 0.5}, \"mode\": \"markers\", \"text\": \"Oracle BI appears with AWS 45 times\", \"x\": [0.023390439182550047], \"y\": [-0.8996959971872985], \"type\": \"scatter\", \"uid\": \"426a3fad-2bb0-4775-b270-ebba698bc9a9\"}, {\"hoverinfo\": \"text\", \"marker\": {\"color\": \"blue\", \"size\": 0.5}, \"mode\": \"markers\", \"text\": \"AWS appears with Oracle BI 45 times\", \"x\": [0.8972498144084707], \"y\": [-0.07030484011762518], \"type\": \"scatter\", \"uid\": \"ca3050aa-b54a-4d0a-8580-a80cc2786bd2\"}, {\"hoverinfo\": \"text\", \"marker\": {\"color\": \"green\", \"size\": 0.5}, \"mode\": \"markers\", \"text\": \"Python appears with VBA 65 times\", \"x\": [0.621290810791652], \"y\": [-0.6511510795705184], \"type\": \"scatter\", \"uid\": \"66ef96be-747c-4fb4-9a61-fe006bac6ed8\"}, {\"hoverinfo\": \"text\", \"marker\": {\"color\": \"blue\", \"size\": 0.5}, \"mode\": \"markers\", \"text\": \"VBA appears with Python 65 times\", \"x\": [0.830848445784414], \"y\": [-0.34596366881165963], \"type\": \"scatter\", \"uid\": \"b0198474-7518-43ec-ba4f-af1d16c574e4\"}, {\"hoverinfo\": \"text\", \"marker\": {\"color\": \"green\", \"size\": 0.5}, \"mode\": \"markers\", \"text\": \"Python appears with Linux 98 times\", \"x\": [0.6574103621032599], \"y\": [-0.6146638234020779], \"type\": \"scatter\", \"uid\": \"73c29d42-ecb3-47e0-b976-4ccf09fc3400\"}, {\"hoverinfo\": \"text\", \"marker\": {\"color\": \"blue\", \"size\": 0.5}, \"mode\": \"markers\", \"text\": \"Linux appears with Python 98 times\", \"x\": [0.8898087992686022], \"y\": [-0.135056657533675], \"type\": \"scatter\", \"uid\": \"1790451a-0402-49f9-8b78-8a94f4f81833\"}, {\"hoverinfo\": \"text\", \"marker\": {\"color\": \"green\", \"size\": 0.5}, \"mode\": \"markers\", \"text\": \"Python appears with AWS 95 times\", \"x\": [0.6440663787381274], \"y\": [-0.6286322452588278], \"type\": \"scatter\", \"uid\": \"87b1e67c-11ec-4d32-a4aa-7f8838eeed93\"}, {\"hoverinfo\": \"text\", \"marker\": {\"color\": \"blue\", \"size\": 0.5}, \"mode\": \"markers\", \"text\": \"AWS appears with Python 95 times\", \"x\": [0.8992965399467392], \"y\": [-0.03557714490825455], \"type\": \"scatter\", \"uid\": \"fba9a0db-5ff5-4c87-9d88-6593184c0669\"}, {\"hoverinfo\": \"text\", \"marker\": {\"color\": \"green\", \"size\": 0.5}, \"mode\": \"markers\", \"text\": \"VBA appears with Linux 1 times\", \"x\": [0.815709339124973], \"y\": [-0.3802870942647146], \"type\": \"scatter\", \"uid\": \"12273d1b-ba65-4919-86c8-9e66b30164d7\"}, {\"hoverinfo\": \"text\", \"marker\": {\"color\": \"blue\", \"size\": 0.5}, \"mode\": \"markers\", \"text\": \"Linux appears with VBA 1 times\", \"x\": [0.8695872488871401], \"y\": [-0.2319871043245618], \"type\": \"scatter\", \"uid\": \"48f009bd-8f20-4310-aec8-57fbf425bfec\"}, {\"hoverinfo\": \"text\", \"marker\": {\"color\": \"green\", \"size\": 0.5}, \"mode\": \"markers\", \"text\": \"VBA appears with AWS 5 times\", \"x\": [0.816008186831993], \"y\": [-0.3796454122245691], \"type\": \"scatter\", \"uid\": \"75d836c1-62df-47c3-972c-ae7f43989e02\"}, {\"hoverinfo\": \"text\", \"marker\": {\"color\": \"blue\", \"size\": 0.5}, \"mode\": \"markers\", \"text\": \"AWS appears with VBA 5 times\", \"x\": [0.8948100526736241], \"y\": [-0.09651409034035416], \"type\": \"scatter\", \"uid\": \"f4a337de-de36-4c85-8ec3-d1ad070218a6\"}, {\"hoverinfo\": \"text\", \"marker\": {\"color\": \"green\", \"size\": 0.5}, \"mode\": \"markers\", \"text\": \"Linux appears with AWS 23 times\", \"x\": [0.8728816339890227], \"y\": [-0.2192661694029744], \"type\": \"scatter\", \"uid\": \"2efe36f8-b9b9-4bd9-9ccb-9a9bfaea8e4b\"}, {\"hoverinfo\": \"text\", \"marker\": {\"color\": \"blue\", \"size\": 0.5}, \"mode\": \"markers\", \"text\": \"AWS appears with Linux 23 times\", \"x\": [0.8959453577975228], \"y\": [-0.0853341422940951], \"type\": \"scatter\", \"uid\": \"3d116801-2eff-4e30-aefc-f866d4554132\"}], {\"autosize\": false, \"font\": {\"color\": \"#655643\", \"family\": \"Fira Sans Condensed\", \"size\": 12}, \"height\": 525, \"hidesources\": true, \"hoverdistance\": 40, \"hovermode\": \"closest\", \"margin\": {\"b\": 10, \"l\": 280, \"r\": 280, \"t\": 80}, \"paper_bgcolor\": \"#fffaf0\", \"plot_bgcolor\": \"#fffaf0\", \"shapes\": [{\"fillcolor\": \"#f2e6ce\", \"layer\": \"below\", \"line\": {\"color\": \"rgb(175,175,175)\", \"width\": 0.5}, \"path\": \"M 0.9732188831365023,0.22988041566549156 Q 0.18372718856633896, 0.07902101101295106 0.83623810357301, 0.5483665144158747L 0.83623810357301, 0.5483665144158747 L 0.8495812923420215, 0.527457702287549 L 0.8624018024635145, 0.5062243881004562 M 0.8624018024635145,0.5062243881004562 Q 0.18386762591189648, 0.07869368552509724 0.9616058174212985, 0.2744344218597885L 0.9616058174212985, 0.2744344218597885 L 0.9676688071541504, 0.2522242646155675 L 0.9732188831365023, 0.22988041566549156 \", \"type\": \"path\"}, {\"fillcolor\": \"#f2e6ce\", \"layer\": \"below\", \"line\": {\"color\": \"rgb(175,175,175)\", \"width\": 0.5}, \"path\": \"M 0.9959772786167991,0.0896061408558312 Q 0.14113727221524922, 0.14170487074070054 0.08560804483897044, 0.9963288928154441L 0.08560804483897044, 0.9963288928154441 L 0.10000417609966453, 0.9949870173839592 L 0.11437940156485354, 0.9934371406876562 M 0.11437940156485354,0.9934371406876562 Q 0.14123468769155859, 0.14160777871525249 0.9931319336267945, 0.11699983936187318L 0.9931319336267945, 0.11699983936187318 L 0.9946489170745335, 0.1033127860550554 L 0.9959772786167991, 0.0896061408558312 \", \"type\": \"path\"}, {\"fillcolor\": \"#f2e6ce\", \"layer\": \"below\", \"line\": {\"color\": \"rgb(175,175,175)\", \"width\": 0.5}, \"path\": \"M 0.998053769357723,0.06235922923546198 Q 0.09920387135421059, 0.17366229270724615 -0.4532248953093184, 0.8913962049907198L -0.4532248953093184, 0.8913962049907198 L -0.44063148966977517, 0.8976880807448625 L -0.4279507589915333, 0.9038020512692868 M -0.4279507589915333,0.9038020512692868 Q 0.09927583328945612, 0.17362116496753532 0.9959772786167991, 0.0896061408558312L 0.9959772786167991, 0.0896061408558312 L 0.9971085967033906, 0.07598977812966169 L 0.998053769357723, 0.06235922923546198 \", \"type\": \"path\"}, {\"fillcolor\": \"#f2e6ce\", \"layer\": \"below\", \"line\": {\"color\": \"rgb(175,175,175)\", \"width\": 0.5}, \"path\": \"M 1.0,0.0 Q 0.07218665683187557, 0.18651832771992416 -0.7394543287718517, 0.6732067257986735L -0.7394543287718517, 0.6732067257986735 L -0.7391181042062636, 0.6735758517305523 L -0.7387816953778579, 0.6739448097393569 M -0.7387816953778579,0.6739448097393569 Q 0.07217945191868046, 0.18652111601831814 0.9999994212657299, 0.0010758569632024735L 0.9999994212657299, 0.0010758569632024735 L 0.999999855316422, 0.0005379285594306654 L 1.0, 0.0 \", \"type\": \"path\"}, {\"fillcolor\": \"#f2e6ce\", \"layer\": \"below\", \"line\": {\"color\": \"rgb(175,175,175)\", \"width\": 0.5}, \"path\": \"M 0.9993698245170495,0.03549582855437719 Q 0.044221142118625635, 0.19504996946865774 -0.8863478036671852, 0.46302005457037904L -0.8863478036671852, 0.46302005457037904 L -0.884123405543636, 0.4672534684407633 L -0.8818787877476651, 0.47147619634580556 M -0.8818787877476651,0.47147619634580556 Q 0.04420961048943504, 0.1950525835265261 0.9989792863390781, 0.045170626135423594L 0.9989792863390781, 0.045170626135423594 L 0.9991862652388329, 0.04033370002953528 L 0.9993698245170495, 0.03549582855437719 \", \"type\": \"path\"}, {\"fillcolor\": \"#f2e6ce\", \"layer\": \"below\", \"line\": {\"color\": \"rgb(175,175,175)\", \"width\": 0.5}, \"path\": \"M 0.999992499612512,0.003873076131471794 Q 0.026232955865487108, 0.19827211610955134 -0.9645771145078731, 0.26380104277213456L -0.9645771145078731, 0.26380104277213456 L -0.9643958986280529, 0.26446275864361407 L -0.964214228800246, 0.26512435003059776 M -0.964214228800246,0.26512435003059776 Q 0.026177004318952576, 0.1982795109054023 0.999983124154522, 0.005809596041201512L 0.999983124154522, 0.005809596041201512 L 0.9999882806527907, 0.004841338355833915 L 0.999992499612512, 0.003873076131471794 \", \"type\": \"path\"}, {\"fillcolor\": \"#f2e6ce\", \"layer\": \"below\", \"line\": {\"color\": \"rgb(175,175,175)\", \"width\": 0.5}, \"path\": \"M 0.999983124154522,0.005809596041201512 Q 0.017449205089169594, 0.19923735905134887 -0.983749780381363, 0.17954489577712934L -0.983749780381363, 0.17954489577712934 L -0.983601277278899, 0.18035666701100464 L -0.9834521043186794, 0.18116831541735273 M -0.9834521043186794,0.18116831541735273 Q 0.01742070826768195, 0.1992398527490229 0.9999699985625596, 0.007746094163800075L 0.9999699985625596, 0.007746094163800075 L 0.9999770301225405, 0.0067778482797850445 L 0.999983124154522, 0.005809596041201512 \", \"type\": \"path\"}, {\"fillcolor\": \"#f2e6ce\", \"layer\": \"below\", \"line\": {\"color\": \"rgb(175,175,175)\", \"width\": 0.5}, \"path\": \"M 0.9999374047483465,0.011188681117159807 Q 0.00254495667536896, 0.19998380733329513 -0.9993288607623281, 0.036630971151030325L -0.9993288607623281, 0.036630971151030325 L -0.9992475725923967, 0.03878516041223644 L -0.9991616407799606, 0.040939169433405115 M -0.9991616407799606,0.040939169433405115 Q 0.002502727450011955, 0.19998434027520995 0.9998732367114952, 0.015922013317360376L 0.9998732367114952, 0.015922013317360376 L 0.9999081215453924, 0.013555385186881236 L 0.9999374047483465, 0.011188681117159807 \", \"type\": \"path\"}, {\"fillcolor\": \"#f2e6ce\", \"layer\": \"below\", \"line\": {\"color\": \"rgb(175,175,175)\", \"width\": 0.5}, \"path\": \"M 0.9997685152010503,0.02151548309212295 Q -0.017392013223091723, 0.19924235964284254 -0.9883757103096227, -0.15203109968012737L -0.9883757103096227, -0.15203109968012737 L -0.9887954383182109, -0.1492768607691666 L -0.9892074912930673, -0.14652146317067774 M -0.9892074912930673,-0.14652146317067774 Q -0.01743711366083536, 0.19923841764875347 0.999620744647024, 0.027538461673254543L 0.999620744647024, 0.027538461673254543 L 0.9996991658327542, 0.024527083668780023 L 0.9997685152010503, 0.02151548309212295 \", \"type\": \"path\"}, {\"fillcolor\": \"#f2e6ce\", \"layer\": \"below\", \"line\": {\"color\": \"rgb(175,175,175)\", \"width\": 0.5}, \"path\": \"M 0.9999699985625596,0.007746094163800075 Q -0.033019970323710256, 0.19725537143464889 -0.9479783696255116, -0.3183347463318399L -0.9479783696255116, -0.3183347463318399 L -0.9484791170995778, -0.31683965096875955 L -0.9489775065993787, -0.3153437679238739 M -0.9489775065993787,-0.3153437679238739 Q -0.033048502461698395, 0.19725059311707815 0.9999374047483465, 0.011188681117159807L 0.9999374047483465, 0.011188681117159807 L 0.9999551831485628, 0.009467401666998903 L 0.9999699985625596, 0.007746094163800075 \", \"type\": \"path\"}, {\"fillcolor\": \"#f2e6ce\", \"layer\": \"below\", \"line\": {\"color\": \"rgb(175,175,175)\", \"width\": 0.5}, \"path\": \"M 0.9882546409088482,0.15281611407873058 Q -0.07801204260347733, 0.18415787034181635 -0.797306619740268, -0.6035744810032543L -0.797306619740268, -0.6035744810032543 L -0.8091640747784539, -0.5875827602031298 L -0.8207008302794923, -0.5713581601574901 M -0.8207008302794923,-0.5713581601574901 Q -0.07789220675450403, 0.18420858863504058 0.9816373518786187, 0.19075667589034204L 0.9816373518786187, 0.19075667589034204 L 0.9851286653882778, 0.17181825464807435 L 0.9882546409088482, 0.15281611407873058 \", \"type\": \"path\"}, {\"fillcolor\": \"#f2e6ce\", \"layer\": \"below\", \"line\": {\"color\": \"rgb(175,175,175)\", \"width\": 0.5}, \"path\": \"M 0.9816373518786187,0.19075667589034204 Q -0.1265433437577428, 0.15487666754747065 -0.38260701160227856, -0.9239111833248767L -0.38260701160227856, -0.9239111833248767 L -0.4019307360287516, -0.9156700734628089 L -0.4210770794915316, -0.9070248580534507 M -0.4210770794915316,-0.9070248580534507 Q -0.12638885127819877, 0.1550027685964911 0.9732188831365023, 0.22988041566549156L 0.9732188831365023, 0.22988041566549156 L 0.9776238497744784, 0.21036066255868321 L 0.9816373518786187, 0.19075667589034204 \", \"type\": \"path\"}, {\"fillcolor\": \"#f2e6ce\", \"layer\": \"below\", \"line\": {\"color\": \"rgb(175,175,175)\", \"width\": 0.5}, \"path\": \"M 0.9998732367114952,0.015922013317360376 Q -0.13757681673126196, 0.14516411229395773 -0.06952327519826124, -0.9975803297006747L -0.06952327519826124, -0.9975803297006747 L -0.07150965345653851, -0.9974399076949577 L -0.07349574814922659, -0.9972955304241494 M -0.07349574814922659,-0.9972955304241494 Q -0.13769375876356546, 0.14505319299333277 0.9997685152010503, 0.02151548309212295L 0.9997685152010503, 0.02151548309212295 L 0.9998247875122914, 0.018718821437291575 L 0.9998732367114952, 0.015922013317360376 \", \"type\": \"path\"}, {\"fillcolor\": \"#f2e6ce\", \"layer\": \"below\", \"line\": {\"color\": \"rgb(175,175,175)\", \"width\": 0.5}, \"path\": \"M 0.9931319336267945,0.11699983936187318 Q -0.16451767823673683, 0.11372745291966023 0.24142242966827449, -0.9704201205936875L 0.24142242966827449, -0.9704201205936875 L 0.2227362824739933, -0.9748787352638612 L 0.20396793415581016, -0.9789775696287485 M 0.20396793415581016,-0.9789775696287485 Q -0.1643883089204932, 0.11391437086803623 0.9882546409088482, 0.15281611407873058L 0.9882546409088482, 0.15281611407873058 L 0.9908551310969582, 0.13493001585573777 L 0.9931319336267945, 0.11699983936187318 \", \"type\": \"path\"}, {\"fillcolor\": \"#f2e6ce\", \"layer\": \"below\", \"line\": {\"color\": \"rgb(175,175,175)\", \"width\": 0.5}, \"path\": \"M 0.9989792863390781,0.045170626135423594 Q -0.18651420224973084, 0.0721973154566463 0.7082097027986514, -0.7060021365844765L 0.7082097027986514, -0.7060021365844765 L 0.701900260450461, -0.7122752448173212 L 0.695535255011096, -0.7184919686653773 M 0.695535255011096,-0.7184919686653773 Q -0.18649322713508135, 0.07225147910418832 0.998053769357723, 0.06235922923546198L 0.998053769357723, 0.06235922923546198 L 0.9985535130405172, 0.05376691914589849 L 0.9989792863390781, 0.045170626135423594 \", \"type\": \"path\"}, {\"fillcolor\": \"#f2e6ce\", \"layer\": \"below\", \"line\": {\"color\": \"rgb(175,175,175)\", \"width\": 0.5}, \"path\": \"M 0.999620744647024,0.027538461673254543 Q -0.19638416056266067, 0.03785844001143094 0.9177477043104463, -0.39716388460295027L 0.9177477043104463, -0.39716388460295027 L 0.9162969066574477, -0.40049966148549077 L 0.9148339843610589, -0.4038301388679031 M 0.9148339843610589,-0.4038301388679031 Q -0.1963971366281846, 0.03779106672548682 0.9993698245170495, 0.03549582855437719L 0.9993698245170495, 0.03549582855437719 L 0.9995032035084463, 0.03151739482180014 L 0.999620744647024, 0.027538461673254543 \", \"type\": \"path\"}, {\"fillcolor\": \"#f2e6ce\", \"layer\": \"below\", \"line\": {\"color\": \"rgb(175,175,175)\", \"width\": 0.5}, \"path\": \"M 0.9999971989271702,0.002366883565704538 Q -0.19836664349266764, 0.025508327061038436 0.9668647308973647, -0.255289232336122L 0.9668647308973647, -0.255289232336122 L 0.9666950896209775, -0.2559308572694788 L 0.9665250225533769, -0.25657236947534734 M 0.9665250225533769,-0.25657236947534734 Q -0.19836892385458976, 0.025490587454430627 0.999992499612512, 0.003873076131471794L 0.999992499612512, 0.003873076131471794 L 0.9999951328482671, 0.003119980733351698 L 0.9999971989271702, 0.002366883565704538 \", \"type\": \"path\"}, {\"fillcolor\": \"#f2e6ce\", \"layer\": \"below\", \"line\": {\"color\": \"rgb(175,175,175)\", \"width\": 0.5}, \"path\": \"M 0.9999994212657299,0.0010758569632024735 Q -0.1997248853929856, 0.010486665569130043 0.9943882503824757, -0.10579228469637492L 0.9943882503824757, -0.10579228469637492 L 0.9943338344212251, -0.1063025198439983 L 0.994279156650879, -0.10681272700206162 M 0.994279156650879,-0.10681272700206162 Q -0.19972627192688985, 0.010460224767472921 0.9999971989271702, 0.002366883565704538L 0.9999971989271702, 0.002366883565704538 L 0.9999985184404915, 0.0017213706230913496 L 0.9999994212657299, 0.0010758569632024735 \", \"type\": \"path\"}, {\"fillcolor\": \"#ecd5bb\", \"layer\": \"below\", \"line\": {\"color\": \"rgb(175,175,175)\", \"width\": 0.5}, \"path\": \"M 0.5588970612881026,0.8292370438442332 Q 0.034894222479045285, 0.19693245856786254 -0.23995345508087873, 0.9707843938768014L -0.23995345508087873, 0.9707843938768014 L -0.17432544590282834, 0.9846880921950768 L -0.10791291148051022, 0.994160351017782 M -0.10791291148051022,0.994160351017782 Q 0.03454915350995802, 0.1969932892048492 0.43978278257376396, 0.8981041722159393L 0.43978278257376396, 0.8981041722159393 L 0.500525751561827, 0.8657216481199186 L 0.5588970612881026, 0.8292370438442332 \", \"type\": \"path\"}, {\"fillcolor\": \"#ecd5bb\", \"layer\": \"below\", \"line\": {\"color\": \"rgb(175,175,175)\", \"width\": 0.5}, \"path\": \"M 0.8022424347626661,0.5969983884953706 Q 0.03237736096350149, 0.19736186687665663 -0.5694504893666427, 0.8220256323011413L -0.5694504893666427, 0.8220256323011413 L -0.5451542506690169, 0.8383357579022278 L -0.5203911814427881, 0.8539279936133838 M -0.5203911814427881,0.8539279936133838 Q 0.032113752484539425, 0.19740493129950362 0.7642275053277755, 0.6449467575703323L 0.7642275053277755, 0.6449467575703323 L 0.7836017992743349, 0.6212634064340381 L 0.8022424347626661, 0.5969983884953706 \", \"type\": \"path\"}, {\"fillcolor\": \"#ecd5bb\", \"layer\": \"below\", \"line\": {\"color\": \"rgb(175,175,175)\", \"width\": 0.5}, \"path\": \"M 0.9359949453716919,0.35201344042329336 Q 0.04427829159290106, 0.19503700390852508 -0.6922431629623428, 0.7216643287096095L -0.6922431629623428, 0.7216643287096095 L -0.6874716245552397, 0.7262112402265469 L -0.6826702210174316, 0.7307266036870501 M -0.6826702210174316,0.7307266036870501 Q 0.043936072395069525, 0.19511438066553477 0.929989493004569, 0.3675861027039852L 0.929989493004569, 0.3675861027039852 L 0.9330247092216902, 0.35981230104289164 L 0.9359949453716919, 0.35201344042329336 \", \"type\": \"path\"}, {\"fillcolor\": \"#ecd5bb\", \"layer\": \"below\", \"line\": {\"color\": \"rgb(175,175,175)\", \"width\": 0.5}, \"path\": \"M 0.8957002232156938,0.4446584196114545 Q 0.01220860546028725, 0.19962702710984565 -0.8348396602239645, 0.5504931804456215L -0.8348396602239645, 0.5504931804456215 L -0.8280712517327187, 0.5606228697206425 L -0.8211799392846683, 0.5706693502514645 M -0.8211799392846683,0.5706693502514645 Q 0.011817750853596536, 0.19965054661773987 0.8827681170063274, 0.4698089522317588L 0.8827681170063274, 0.4698089522317588 L 0.8893230833705987, 0.4572794040673722 L 0.8957002232156938, 0.4446584196114545 \", \"type\": \"path\"}, {\"fillcolor\": \"#ecd5bb\", \"layer\": \"below\", \"line\": {\"color\": \"rgb(175,175,175)\", \"width\": 0.5}, \"path\": \"M 0.8827681170063274,0.4698089522317588 Q -0.018509625805566605, 0.1991416424370802 -0.9542326891188382, 0.299065168511866L -0.9542326891188382, 0.299065168511866 L -0.9483376573990278, 0.3172628051929888 L -0.9420956238285502, 0.3353443537068946 M -0.9420956238285502,0.3353443537068946 Q -0.018854997034766924, 0.19910923907950362 0.8624018024635145, 0.5062243881004562L 0.8624018024635145, 0.5062243881004562 L 0.8727749039402831, 0.48812290158527655 L 0.8827681170063274, 0.4698089522317588 \", \"type\": \"path\"}, {\"fillcolor\": \"#ecd5bb\", \"layer\": \"below\", \"line\": {\"color\": \"rgb(175,175,175)\", \"width\": 0.5}, \"path\": \"M 0.9457255455215644,0.3249664483418856 Q -0.010102089503819196, 0.1997447065322554 -0.97368637339869, 0.2278921812123155L -0.97368637339869, 0.2278921812123155 L -0.9726692545225597, 0.23219500706631913 L -0.9716331210896929, 0.23649329377701617 M -0.9716331210896929,0.23649329377701617 Q -0.010561721970804173, 0.19972093037288663 0.9412709272745761, 0.3376522493152679L 0.9412709272745761, 0.3376522493152679 L 0.9435195570166274, 0.33131683556249775 L 0.9457255455215644, 0.3249664483418856 \", \"type\": \"path\"}, {\"fillcolor\": \"#ecd5bb\", \"layer\": \"below\", \"line\": {\"color\": \"rgb(175,175,175)\", \"width\": 0.5}, \"path\": \"M 0.9412709272745761,0.3376522493152679 Q -0.026053385081537758, 0.19829579200223366 -0.996545432477354, 0.08304938897140338L -0.996545432477354, 0.08304938897140338 L -0.9960245901350951, 0.08907870590784198 L -0.995467269448541, 0.0951047604311473 M -0.995467269448541,0.0951047604311473 Q -0.026370253541899952, 0.1982539021763151 0.9359949453716919, 0.35201344042329336L 0.9359949453716919, 0.35201344042329336 L 0.9386604019042769, 0.3448429351123512 L 0.9412709272745761, 0.3376522493152679 \", \"type\": \"path\"}, {\"fillcolor\": \"#ecd5bb\", \"layer\": \"below\", \"line\": {\"color\": \"rgb(175,175,175)\", \"width\": 0.5}, \"path\": \"M 0.9235472744306747,0.38348459146577435 Q -0.040697809428987076, 0.19581544450753074 -0.999867580918018, -0.016273310331667054L -0.999867580918018, -0.016273310331667054 L -0.9999676545506364, -0.008043000217528243 L -0.9999999823552881, 0.00018785479394414412 M -0.9999999823552881,0.00018785479394414412 Q -0.040992525105641074, 0.19575396007606946 0.9159052565491295, 0.40139452042307877L 0.9159052565491295, 0.40139452042307877 L 0.9197698597044892, 0.3924581572335886 L 0.9235472744306747, 0.38348459146577435 \", \"type\": \"path\"}, {\"fillcolor\": \"#ecd5bb\", \"layer\": \"below\", \"line\": {\"color\": \"rgb(175,175,175)\", \"width\": 0.5}, \"path\": \"M 0.9159052565491295,0.40139452042307877 Q -0.06197648342136798, 0.19015497759122926 -0.9765262494761795, -0.21539843101560968L -0.9765262494761795, -0.21539843101560968 L -0.9783954211394335, -0.20674235147494718 L -0.9801878655507873, -0.19807005888571788 M -0.9801878655507873,-0.19807005888571788 Q -0.06225407462419216, 0.1900642791075838 0.9074295190605817, 0.4202043168953425L 0.9074295190605817, 0.4202043168953425 L 0.9117158976883977, 0.4108212773241414 L 0.9159052565491295, 0.40139452042307877 \", \"type\": \"path\"}, {\"fillcolor\": \"#ecd5bb\", \"layer\": \"below\", \"line\": {\"color\": \"rgb(175,175,175)\", \"width\": 0.5}, \"path\": \"M 0.9074295190605817,0.4202043168953425 Q -0.08347552579478779, 0.18174662746054937 -0.9100279502978211, -0.4145468968364693L -0.9100279502978211, -0.4145468968364693 L -0.9147469978024968, -0.4040271401914962 L -0.919344443699304, -0.3934536743242045 M -0.919344443699304,-0.3934536743242045 Q -0.08384455445426928, 0.1815766799133773 0.8957002232156938, 0.4446584196114545L 0.8957002232156938, 0.4446584196114545 L 0.9016477791550531, 0.432471134695439 L 0.9074295190605817, 0.4202043168953425 \", \"type\": \"path\"}, {\"fillcolor\": \"#ecd5bb\", \"layer\": \"below\", \"line\": {\"color\": \"rgb(175,175,175)\", \"width\": 0.5}, \"path\": \"M 0.7089525414317288,0.7052561903290838 Q -0.14874332030688162, 0.13369900771540685 -0.6259544966472435, -0.779859582314083L -0.6259544966472435, -0.779859582314083 L -0.6608534082614349, -0.7505150050393697 L -0.6943783803640008, -0.7196100783640172 M -0.6943783803640008,-0.7196100783640172 Q -0.14899997918523747, 0.1334129161768035 0.638823103711531, 0.7693536522070761L 0.638823103711531, 0.7693536522070761 L 0.6746494782960503, 0.7381382536048835 L 0.7089525414317288, 0.7052561903290838 \", \"type\": \"path\"}, {\"fillcolor\": \"#ecd5bb\", \"layer\": \"below\", \"line\": {\"color\": \"rgb(175,175,175)\", \"width\": 0.5}, \"path\": \"M 0.638823103711531,0.7693536522070761 Q -0.18358849439943892, 0.07934270429061004 -0.12259086896414505, -0.9924572932104514L -0.12259086896414505, -0.9924572932104514 L -0.17073934513900896, -0.9853162314818033 L -0.2184832936167329, -0.9758406890524624 M -0.2184832936167329,-0.9758406890524624 Q -0.18368960653830396, 0.07910833363055429 0.5588970612881026, 0.8292370438442332L 0.5588970612881026, 0.8292370438442332 L 0.5996081249951335, 0.8002937563418949 L 0.638823103711531, 0.7693536522070761 \", \"type\": \"path\"}, {\"fillcolor\": \"#ecd5bb\", \"layer\": \"below\", \"line\": {\"color\": \"rgb(175,175,175)\", \"width\": 0.5}, \"path\": \"M 0.9525111294906565,0.3045037736981824 Q -0.15833090296169228, 0.12219380167314212 -0.05316410269656991, -0.9985857890959938L -0.05316410269656991, -0.9985857890959938 L -0.056146640525380175, -0.9984225331780697 L -0.05912867740350962, -0.9982503691502006 M -0.05912867740350962,-0.9982503691502006 Q -0.1585180882835429, 0.12195087407202501 0.9497192822217454, 0.3131026748148484L 0.9497192822217454, 0.3131026748148484 L 0.951124923491119, 0.30880637932855753 L 0.9525111294906565, 0.3045037736981824 \", \"type\": \"path\"}, {\"fillcolor\": \"#ecd5bb\", \"layer\": \"below\", \"line\": {\"color\": \"rgb(175,175,175)\", \"width\": 0.5}, \"path\": \"M 0.43978278257376396,0.8981041722159393 Q -0.19893445111678892, -0.020617569179268446 0.614616273094724, -0.7888262399585549L 0.614616273094724, -0.7888262399585549 L 0.5573829653077558, -0.8302555208998812 L 0.4973671812242319, -0.867540135694633 M 0.4973671812242319,-0.867540135694633 Q -0.1989145269781083, -0.020808915326740018 0.30705299584760387, 0.9516924176124403L 0.30705299584760387, 0.9516924176124403 L 0.37437794405350794, 0.927276202113625 L 0.43978278257376396, 0.8981041722159393 \", \"type\": \"path\"}, {\"fillcolor\": \"#ecd5bb\", \"layer\": \"below\", \"line\": {\"color\": \"rgb(175,175,175)\", \"width\": 0.5}, \"path\": \"M 0.7642275053277755,0.6449467575703323 Q -0.19864207589948268, -0.02326640673469288 0.8925798195184116, -0.45088941636334706L 0.8925798195184116, -0.45088941636334706 L 0.8741950281665674, -0.48557497127514154 L 0.8544630251088586, -0.5195122122932415 M 0.8544630251088586,-0.5195122122932415 Q -0.19860326970529638, -0.023595365272979285 0.7089525414317288, 0.7052561903290838L 0.7089525414317288, 0.7052561903290838 L 0.737207005841985, 0.6756669523792737 L 0.7642275053277755, 0.6449467575703323 \", \"type\": \"path\"}, {\"fillcolor\": \"#ecd5bb\", \"layer\": \"below\", \"line\": {\"color\": \"rgb(175,175,175)\", \"width\": 0.5}, \"path\": \"M 0.83623810357301,0.5483665144158747 Q -0.19792722225459122, -0.02871958722860862 0.9576074350602238, -0.2880763793117706L 0.9576074350602238, -0.2880763793117706 L 0.9500545110989393, -0.31208400462144065 L 0.9418998105129248, -0.33589395194870103 M 0.9418998105129248,-0.33589395194870103 Q -0.19779586170125496, -0.029610759764957518 0.8022424347626661, 0.5969983884953706L 0.8022424347626661, 0.5969983884953706 L 0.8196010513782378, 0.5729346529750903 L 0.83623810357301, 0.5483665144158747 \", \"type\": \"path\"}, {\"fillcolor\": \"#ecd5bb\", \"layer\": \"below\", \"line\": {\"color\": \"rgb(175,175,175)\", \"width\": 0.5}, \"path\": \"M 0.929989493004569,0.3675861027039852 Q -0.19914662764487434, -0.01845591226880352 0.9817027083925035, -0.19042004184124978L 0.9817027083925035, -0.19042004184124978 L 0.9803425779819043, -0.1973028884628755 L 0.9789341916467033, -0.2041760231393872 M 0.9789341916467033,-0.2041760231393872 Q -0.19911757146786535, -0.018766798681169334 0.9235472744306747, 0.38348459146577435L 0.9235472744306747, 0.38348459146577435 L 0.9268024749345464, 0.37554916116961246 L 0.929989493004569, 0.3675861027039852 \", \"type\": \"path\"}, {\"fillcolor\": \"#ecd5bb\", \"layer\": \"below\", \"line\": {\"color\": \"rgb(175,175,175)\", \"width\": 0.5}, \"path\": \"M 0.9497192822217454,0.3131026748148484 Q -0.1981695746911696, -0.02699666028828293 0.9988642389276288, -0.04764695364374183L 0.9988642389276288, -0.04764695364374183 L 0.9986335469975105, -0.052259341855508255 L 0.9983815568664225, -0.05687061551432596 M 0.9983815568664225,-0.05687061551432596 Q -0.19812501025589244, -0.027321791872103197 0.9457255455215644, 0.3249664483418856L 0.9457255455215644, 0.3249664483418856 L 0.9477409778179329, 0.31904081081377106 L 0.9497192822217454, 0.3131026748148484 \", \"type\": \"path\"}, {\"fillcolor\": \"#e6c4a9\", \"layer\": \"below\", \"line\": {\"color\": \"rgb(175,175,175)\", \"width\": 0.5}, \"path\": \"M -0.04755987200116491,0.9988683890159068 Q -0.06978336307922867, 0.18743073984102113 -0.6172576062256488, 0.7867611121278058L -0.6172576062256488, 0.7867611121278058 L -0.5936159723523572, 0.8047484559588577 L -0.5694504893666427, 0.8220256323011413 M -0.5694504893666427,0.8220256323011413 Q -0.06988930806603236, 0.18739126078355742 -0.10791291148051022, 0.994160351017782L -0.10791291148051022, 0.994160351017782 L -0.07777202585977099, 0.9969711690884883 L -0.04755987200116491, 0.9988683890159068 \", \"type\": \"path\"}, {\"fillcolor\": \"#e6c4a9\", \"layer\": \"below\", \"line\": {\"color\": \"rgb(175,175,175)\", \"width\": 0.5}, \"path\": \"M 0.22672924021698052,0.9739578284662179 Q -0.051676262121098805, 0.19320860212006993 -0.6826702210174316, 0.7307266036870501L -0.6826702210174316, 0.7307266036870501 L -0.6789152820232265, 0.734216616425509 L -0.6751425013012251, 0.7376873341306093 M -0.6751425013012251,0.7376873341306093 Q -0.05190793611195167, 0.19314648888498476 0.21438956447014984, 0.9767482350361835L 0.21438956447014984, 0.9767482350361835 L 0.22056381515189008, 0.9753725459769937 L 0.22672924021698052, 0.9739578284662179 \", \"type\": \"path\"}, {\"fillcolor\": \"#e6c4a9\", \"layer\": \"below\", \"line\": {\"color\": \"rgb(175,175,175)\", \"width\": 0.5}, \"path\": \"M 0.1989169478389488,0.9800163508138203 Q -0.07091104197955646, 0.18700701624637933 -0.7986985866515688, 0.6017313085429298L -0.7986985866515688, 0.6017313085429298 L -0.7938660358372338, 0.6080926879547853 L -0.7889828199404414, 0.6144152584684311 M -0.7889828199404414,0.6144152584684311 Q -0.07110695944494656, 0.18693260902928288 0.1811732705788187, 0.9834511914822078L 0.1811732705788187, 0.9834511914822078 L 0.1900528691359878, 0.981773857328244 L 0.1989169478389488, 0.9800163508138203 \", \"type\": \"path\"}, {\"fillcolor\": \"#e6c4a9\", \"layer\": \"below\", \"line\": {\"color\": \"rgb(175,175,175)\", \"width\": 0.5}, \"path\": \"M 0.14283152298196095,0.9897470161827484 Q -0.09762042676646208, 0.17455730370836342 -0.9180563021153724, 0.3964500298224837L -0.9180563021153724, 0.3964500298224837 L -0.9126221498242418, 0.40880412381748193 L -0.9070217600778512, 0.4210837526493715 M -0.9070217600778512,0.4210837526493715 Q -0.0977686201860265, 0.174474344552202 0.11437940156485354, 0.9934371406876562L 0.11437940156485354, 0.9934371406876562 L 0.12861869685730845, 0.9916941216013776 L 0.14283152298196095, 0.9897470161827484 \", \"type\": \"path\"}, {\"fillcolor\": \"#e6c4a9\", \"layer\": \"below\", \"line\": {\"color\": \"rgb(175,175,175)\", \"width\": 0.5}, \"path\": \"M 0.24451297540359698,0.9696460203905753 Q -0.10272192137052696, 0.17160479850501642 -0.9701358376146564, 0.2425622736035204L -0.9701358376146564, 0.2425622736035204 L -0.9693916959231373, 0.2455193268874439 L -0.968638540913924, 0.2484740973545219 M -0.968638540913924,0.2484740973545219 Q -0.10297391206503091, 0.17145370638753565 0.2357407469030053, 0.971815980651488L 0.2357407469030053, 0.971815980651488 L 0.24012931230739043, 0.9707409094968542 L 0.24451297540359698, 0.9696460203905753 \", \"type\": \"path\"}, {\"fillcolor\": \"#e6c4a9\", \"layer\": \"below\", \"line\": {\"color\": \"rgb(175,175,175)\", \"width\": 0.5}, \"path\": \"M 0.25217232051997035,0.9676823449684164 Q -0.10932198810489534, 0.16747746987816936 -0.987346354304662, 0.15857861344233298L -0.987346354304662, 0.15857861344233298 L -0.9868323478037356, 0.16174646001742002 L -0.9863081774678393, 0.16491264069218392 M -0.9863081774678393,0.16491264069218392 Q -0.10944660498189634, 0.16739605926644974 0.24451297540359698, 0.9696460203905753L 0.24451297540359698, 0.9696460203905753 L 0.24834458883165003, 0.9686717530712036 L 0.25217232051997035, 0.9676823449684164 \", \"type\": \"path\"}, {\"fillcolor\": \"#e6c4a9\", \"layer\": \"below\", \"line\": {\"color\": \"rgb(175,175,175)\", \"width\": 0.5}, \"path\": \"M 0.2595977346105003,0.9657168405827333 Q -0.119751513147687, 0.1601860639969637 -0.9997049455238021, 0.02429036630542733L -0.9997049455238021, 0.02429036630542733 L -0.9996184725354221, 0.027620813998677936 L -0.9995209044223373, 0.030950955118586632 M -0.9995209044223373,0.030950955118586632 Q -0.11983303395102984, 0.16012508852172833 0.25217232051997035, 0.9676823449684164L 0.25217232051997035, 0.9676823449684164 L 0.2558869147376118, 0.9667067222617551 L 0.2595977346105003, 0.9657168405827333 \", \"type\": \"path\"}, {\"fillcolor\": \"#e6c4a9\", \"layer\": \"below\", \"line\": {\"color\": \"rgb(175,175,175)\", \"width\": 0.5}, \"path\": \"M 0.2357407469030053,0.971815980651488 Q -0.13684856661449202, 0.1458508478396987 -0.9848457047818053, -0.17343280477703504L -0.9848457047818053, -0.17343280477703504 L -0.9855450363640796, -0.16941363964605985 L -0.9862279657637315, -0.1653916550057227 M -0.9862279657637315,-0.1653916550057227 Q -0.13692901663252086, 0.14577532165648213 0.22672924021698052, 0.9739578284662179L 0.22672924021698052, 0.9739578284662179 L 0.23123747344387194, 0.9728973383020917 L 0.2357407469030053, 0.971815980651488 \", \"type\": \"path\"}, {\"fillcolor\": \"#e6c4a9\", \"layer\": \"below\", \"line\": {\"color\": \"rgb(175,175,175)\", \"width\": 0.5}, \"path\": \"M 0.21438956447014984,0.9767482350361835 Q -0.15290371314467743, 0.12892034170979458 -0.9264755796834477, -0.3763548860453647L -0.9264755796834477, -0.3763548860453647 L -0.9290496752483408, -0.3699549985078625 L -0.9315795624225118, -0.3635375068362016 M -0.9315795624225118,-0.3635375068362016 Q -0.15303370462792432, 0.12876600967589708 0.1989169478389488, 0.9800163508138203L 0.1989169478389488, 0.9800163508138203 L 0.2066597165014552, 0.978412878888835 L 0.21438956447014984, 0.9767482350361835 \", \"type\": \"path\"}, {\"fillcolor\": \"#e6c4a9\", \"layer\": \"below\", \"line\": {\"color\": \"rgb(175,175,175)\", \"width\": 0.5}, \"path\": \"M 0.16247882363131608,0.9867120308739443 Q -0.16801507470012694, 0.10849393841828568 -0.8324673505944408, -0.5540741017176967L -0.8324673505944408, -0.5540741017176967 L -0.8378503410942205, -0.5458999962706524 L -0.8431530717426595, -0.5376735976509519 M -0.8431530717426595,-0.5376735976509519 Q -0.16803166377866707, 0.10846824405222476 0.14283152298196095, 0.9897470161827484L 0.14283152298196095, 0.9897470161827484 L 0.15266271555699515, 0.9882783490893464 L 0.16247882363131608, 0.9867120308739443 \", \"type\": \"path\"}, {\"fillcolor\": \"#e6c4a9\", \"layer\": \"below\", \"line\": {\"color\": \"rgb(175,175,175)\", \"width\": 0.5}, \"path\": \"M 0.08560804483897044,0.9963288928154441 Q -0.19326911222845242, 0.05144949230484082 -0.4210770794915316, -0.9070248580534507L -0.4210770794915316, -0.9070248580534507 L -0.437297111515396, -0.8993170943890099 L -0.4533761156320484, -0.8913193018073801 M -0.4533761156320484,-0.8913193018073801 Q -0.19326920830239694, 0.051449131403403695 0.04977165057269895, 0.9987606233724221L 0.04977165057269895, 0.9987606233724221 L 0.06770076669295946, 0.9977056711220927 L 0.08560804483897044, 0.9963288928154441 \", \"type\": \"path\"}, {\"fillcolor\": \"#e6c4a9\", \"layer\": \"below\", \"line\": {\"color\": \"rgb(175,175,175)\", \"width\": 0.5}, \"path\": \"M 0.2663546275865841,0.9638751020558691 Q -0.19721025892130553, 0.033288342947518916 -0.06478542917416603, -0.9978992174396767L -0.06478542917416603, -0.9978992174396767 L -0.06715454146889543, -0.9977425858206627 L -0.06952327519826124, -0.9975803297006747 M -0.06952327519826124,-0.9975803297006747 Q -0.19724766358473533, 0.033065982676507316 0.2595977346105003, 0.9657168405827333L 0.2595977346105003, 0.9657168405827333 L 0.2629777934073019, 0.9648018864899811 L 0.2663546275865841, 0.9638751020558691 \", \"type\": \"path\"}, {\"fillcolor\": \"#e6c4a9\", \"layer\": \"below\", \"line\": {\"color\": \"rgb(175,175,175)\", \"width\": 0.5}, \"path\": \"M 0.012741560094879466,0.9999188230283239 Q -0.19724403162506854, -0.0330876410203109 0.33833458836512964, -0.9410258797269065L 0.33833458836512964, -0.9410258797269065 L 0.30945017791488594, -0.950915657347404 L 0.2802773237338666, -0.959919070443223 M 0.2802773237338666,-0.959919070443223 Q -0.19725632369268456, -0.03301428120142642 -0.04755987200116491, 0.9988683890159068L -0.04755987200116491, 0.9988683890159068 L -0.01741707678987663, 0.9998483112133038 L 0.012741560094879466, 0.9999188230283239 \", \"type\": \"path\"}, {\"fillcolor\": \"#e6c4a9\", \"layer\": \"below\", \"line\": {\"color\": \"rgb(175,175,175)\", \"width\": 0.5}, \"path\": \"M 0.04977165057269895,0.9987606233724221 Q -0.1767142538740208, -0.093659342714692 0.8544630251088586, -0.5195122122932415L 0.8544630251088586, -0.5195122122932415 L 0.8448458283585742, -0.5350098375778847 L 0.8349475793970222, -0.550329482818296 M 0.8349475793970222,-0.550329482818296 Q -0.1766874836255482, -0.0937098347563992 0.012741560094879466, 0.9999188230283239L 0.012741560094879466, 0.9999188230283239 L 0.031261969445365925, 0.9995112251827876 L 0.04977165057269895, 0.9987606233724221 \", \"type\": \"path\"}, {\"fillcolor\": \"#e6c4a9\", \"layer\": \"below\", \"line\": {\"color\": \"rgb(175,175,175)\", \"width\": 0.5}, \"path\": \"M 0.1811732705788187,0.9834511914822078 Q -0.17326178900633651, -0.09990171405097976 0.9418998105129248, -0.33589395194870103L 0.9418998105129248, -0.33589395194870103 L 0.9390937876241396, -0.3436609638084421 L 0.9362237183158333, -0.3514045379087686 M 0.9362237183158333,-0.3514045379087686 Q -0.1731387659460454, -0.10011477276945949 0.16247882363131608, 0.9867120308739443L 0.16247882363131608, 0.9867120308739443 L 0.17183378227850749, 0.9851259570571991 L 0.1811732705788187, 0.9834511914822078 \", \"type\": \"path\"}, {\"fillcolor\": \"#e6c4a9\", \"layer\": \"below\", \"line\": {\"color\": \"rgb(175,175,175)\", \"width\": 0.5}, \"path\": \"M 0.277008102483526,0.9608675825307441 Q -0.17364240631005368, -0.09923867557990804 0.9684905011021884, -0.24905049543181423L 0.9684905011021884, -0.24905049543181423 L 0.9680640649995809, -0.2507029438528541 L 0.9676348094747276, -0.25235466211823326 M 0.9676348094747276,-0.25235466211823326 Q -0.1736099793830953, -0.09929539293744309 0.27309845650650594, 0.9619860877651839L 0.27309845650650594, 0.9619860877651839 L 0.275053848045166, 0.9614288224697378 L 0.277008102483526, 0.9608675825307441 \", \"type\": \"path\"}, {\"fillcolor\": \"#e6c4a9\", \"layer\": \"below\", \"line\": {\"color\": \"rgb(175,175,175)\", \"width\": 0.5}, \"path\": \"M 0.27309845650650594,0.9619860877651839 Q -0.16469952751911648, -0.11346393980018406 0.9961577795518464, -0.08757669917469485L 0.9961577795518464, -0.08757669917469485 L 0.9959220987403119, -0.09021736662468327 L 0.9956794179209733, -0.09285739996657191 M 0.9956794179209733,-0.09285739996657191 Q -0.1646029620891064, -0.11360398263921999 0.2663546275865841, 0.9638751020558691L 0.2663546275865841, 0.9638751020558691 L 0.26972819574181395, 0.9629364986445709 L 0.27309845650650594, 0.9619860877651839 \", \"type\": \"path\"}, {\"fillcolor\": \"#e1b396\", \"layer\": \"below\", \"line\": {\"color\": \"rgb(175,175,175)\", \"width\": 0.5}, \"path\": \"M -0.3462257775068245,0.9381512196814514 Q -0.10742637022465598, 0.16869965909970047 -0.7036498263461006, 0.71054691743973L -0.7036498263461006, 0.71054691743973 L -0.6979686301034249, 0.7161283344426111 L -0.6922431629623428, 0.7216643287096095 M -0.6922431629623428,0.7216643287096095 Q -0.10770957542040822, 0.1685189822030604 -0.36425504860112407, 0.931299232024054L -0.36425504860112407, 0.931299232024054 L -0.355256933078684, 0.9347686941161045 L -0.3462257775068245, 0.9381512196814514 \", \"type\": \"path\"}, {\"fillcolor\": \"#e1b396\", \"layer\": \"below\", \"line\": {\"color\": \"rgb(175,175,175)\", \"width\": 0.5}, \"path\": \"M -0.36425504860112407,0.931299232024054 Q -0.12234953881027517, 0.158210588624507 -0.8097367182757285, 0.5867933597750179L -0.8097367182757285, 0.5867933597750179 L -0.8042523348505056, 0.5942879620920402 L -0.7986985866515688, 0.6017313085429298 M -0.7986985866515688,0.6017313085429298 Q -0.12251116013951008, 0.1580854694185121 -0.38337770376419866, 0.9235916501660734L -0.38337770376419866, 0.9235916501660734 L -0.37383624062798065, 0.9274947251565038 L -0.36425504860112407, 0.931299232024054 \", \"type\": \"path\"}, {\"fillcolor\": \"#e1b396\", \"layer\": \"below\", \"line\": {\"color\": \"rgb(175,175,175)\", \"width\": 0.5}, \"path\": \"M -0.4532248953093184,0.8913962049907198 Q -0.15020362886572813, 0.1320563132741733 -0.9420956238285502, 0.3353443537068946L -0.9420956238285502, 0.3353443537068946 L -0.9358463603242675, 0.352408271565554 L -0.9292880517270424, 0.36935581343381857 M -0.9292880517270424,0.36935581343381857 Q -0.15030693919830818, 0.13193871315438885 -0.4866842814291092, 0.8735779359678401L -0.4866842814291092, 0.8735779359678401 L -0.47003902796153035, 0.8826456322856754 L -0.4532248953093184, 0.8913962049907198 \", \"type\": \"path\"}, {\"fillcolor\": \"#e1b396\", \"layer\": \"below\", \"line\": {\"color\": \"rgb(175,175,175)\", \"width\": 0.5}, \"path\": \"M -0.2724618977185477,0.962166573048351 Q -0.14218434689505638, 0.1406542267335976 -0.9650581369047708, 0.2620358608929181L -0.9650581369047708, 0.2620358608929181 L -0.9648180293922533, 0.26291856183930634 L -0.9645771145078731, 0.26380104277213456 M -0.9645771145078731,0.26380104277213456 Q -0.14224276414720147, 0.14059514944607307 -0.27502065368464984, 0.9614383183787029L -0.27502065368464984, 0.9614383183787029 L -0.2737415178803805, 0.9618032966197118 L -0.2724618977185477, 0.962166573048351 \", \"type\": \"path\"}, {\"fillcolor\": \"#e1b396\", \"layer\": \"below\", \"line\": {\"color\": \"rgb(175,175,175)\", \"width\": 0.5}, \"path\": \"M -0.29901765378435374,0.9542475793657013 Q -0.1540747751902998, 0.12751848356241766 -0.9933252146466396, 0.11534737945531026L -0.9933252146466396, 0.11534737945531026 L -0.9928298554861186, 0.11953609519895166 L -0.9923168331673541, 0.12372268430935969 M -0.9923168331673541,0.12372268430935969 Q -0.15418707735491594, 0.12738267219975083 -0.30873344959001425, 0.951148598855221L -0.30873344959001425, 0.951148598855221 L -0.30387950216038195, 0.9527104744710002 L -0.29901765378435374, 0.9542475793657013 \", \"type\": \"path\"}, {\"fillcolor\": \"#e1b396\", \"layer\": \"below\", \"line\": {\"color\": \"rgb(175,175,175)\", \"width\": 0.5}, \"path\": \"M -0.28481102795236457,0.9585836835439655 Q -0.15843014206151712, 0.12206510593272553 -0.9995209044223373, 0.030950955118586632L -0.9995209044223373, 0.030950955118586632 L -0.9994289177276342, 0.033791099564379715 L -0.9993288607623281, 0.036630971151030325 M -0.9993288607623281,0.036630971151030325 Q -0.15847565940054087, 0.12200600549794163 -0.29096806158605104, 0.9567327668355757L -0.29096806158605104, 0.9567327668355757 L -0.28789103226843843, 0.9576631733231747 L -0.28481102795236457, 0.9585836835439655 \", \"type\": \"path\"}, {\"fillcolor\": \"#e1b396\", \"layer\": \"below\", \"line\": {\"color\": \"rgb(175,175,175)\", \"width\": 0.5}, \"path\": \"M -0.27906802927364693,0.9602713340703881 Q -0.1683304218521855, 0.10800402343924637 -0.9892074912930673, -0.14652146317067774L -0.9892074912930673, -0.14652146317067774 L -0.989597556330754, -0.14386339528942121 L -0.989980478972229, -0.1412042890776202 M -0.989980478972229,-0.1412042890776202 Q -0.16836350468109693, 0.10795244458324352 -0.28481102795236457, 0.9585836835439655L -0.28481102795236457, 0.9585836835439655 L -0.2819407913651351, 0.959431805895761 L -0.27906802927364693, 0.9602713340703881 \", \"type\": \"path\"}, {\"fillcolor\": \"#e1b396\", \"layer\": \"below\", \"line\": {\"color\": \"rgb(175,175,175)\", \"width\": 0.5}, \"path\": \"M -0.31946773433803205,0.9475971542364005 Q -0.1806355087358376, 0.0858534389744822 -0.9365062321740996, -0.35065093340681625L -0.9365062321740996, -0.35065093340681625 L -0.9386311481925314, -0.34492255310833225 L -0.9407210254772722, -0.3391812969858294 M -0.9407210254772722,-0.3391812969858294 Q -0.18070094756493882, 0.08571562021669821 -0.3324621216176964, 0.9431166087443589L -0.3324621216176964, 0.9431166087443589 L -0.32597262629489415, 0.9453792079934957 L -0.31946773433803205, 0.9475971542364005 \", \"type\": \"path\"}, {\"fillcolor\": \"#e1b396\", \"layer\": \"below\", \"line\": {\"color\": \"rgb(175,175,175)\", \"width\": 0.5}, \"path\": \"M -0.3324621216176964,0.9431166087443589 Q -0.18852863023196562, 0.06676043426205967 -0.8518888990895614, -0.5237225444908544L -0.8518888990895614, -0.5237225444908544 L -0.8557103277632845, -0.517455152606728 L -0.8594856477540411, -0.5111598784185006 M -0.8594856477540411,-0.5111598784185006 Q -0.18852699276443885, 0.06676505822057845 -0.3462257775068245, 0.9381512196814514L -0.3462257775068245, 0.9381512196814514 L -0.33935303133558503, 0.9406590881522112 L -0.3324621216176964, 0.9431166087443589 \", \"type\": \"path\"}, {\"fillcolor\": \"#e1b396\", \"layer\": \"below\", \"line\": {\"color\": \"rgb(175,175,175)\", \"width\": 0.5}, \"path\": \"M -0.38337770376419866,0.9235916501660734 Q -0.19971065606478133, 0.010754248191976241 -0.4803423907298694, -0.8770810610587333L -0.4803423907298694, -0.8770810610587333 L -0.4908084218256703, -0.8712675209515128 L -0.5012041028691004, -0.8653290976658419 M -0.5012041028691004,-0.8653290976658419 Q -0.19970825995151106, 0.01079865302432153 -0.40497422945908335, 0.9143280994664998L -0.40497422945908335, 0.9143280994664998 L -0.39420317857307097, 0.9190233152662056 L -0.38337770376419866, 0.9235916501660734 \", \"type\": \"path\"}, {\"fillcolor\": \"#e1b396\", \"layer\": \"below\", \"line\": {\"color\": \"rgb(175,175,175)\", \"width\": 0.5}, \"path\": \"M -0.27502065368464984,0.9614383183787029 Q -0.19898708108044516, -0.0201032724471502 -0.07716161298975024, -0.9970185983625481L -0.07716161298975024, -0.9970185983625481 L -0.07861239914627786, -0.9969052566319762 L -0.08006301883108068, -0.996789803828096 M -0.08006301883108068,-0.996789803828096 Q -0.19897395324979875, -0.020232793384673955 -0.27906802927364693, 0.9602713340703881L -0.27906802927364693, 0.9602713340703881 L -0.27704495593442763, 0.9608569572997279 L -0.27502065368464984, 0.9614383183787029 \", \"type\": \"path\"}, {\"fillcolor\": \"#e1b396\", \"layer\": \"below\", \"line\": {\"color\": \"rgb(175,175,175)\", \"width\": 0.5}, \"path\": \"M -0.4866842814291092,0.8735779359678401 Q -0.18450786174858066, -0.07718062550256154 0.2802773237338666, -0.959919070443223L 0.2802773237338666, -0.959919070443223 L 0.2609027140305925, -0.9653650987121251 L 0.24142242966827449, -0.9704201205936875 M 0.24142242966827449,-0.9704201205936875 Q -0.18455540106638785, -0.07706687963856283 -0.5203911814427881, 0.8539279936133838L -0.5203911814427881, 0.8539279936133838 L -0.5036335741769952, 0.8639173704479527 L -0.4866842814291092, 0.8735779359678401 \", \"type\": \"path\"}, {\"fillcolor\": \"#e1b396\", \"layer\": \"below\", \"line\": {\"color\": \"rgb(175,175,175)\", \"width\": 0.5}, \"path\": \"M -0.40497422945908335,0.9143280994664998 Q -0.16088395869279137, -0.11881225456717921 0.7547321403568662, -0.6560330756237398L 0.7547321403568662, -0.6560330756237398 L 0.7463541130255607, -0.6655490500104622 L 0.7378561129198906, -0.6749580406416014 M 0.7378561129198906,-0.6749580406416014 Q -0.16088892927121917, -0.11880552360038082 -0.4279507589915333, 0.9038020512692868L -0.4279507589915333, 0.9038020512692868 L -0.416495748500543, 0.9091376636576951 L -0.40497422945908335, 0.9143280994664998 \", \"type\": \"path\"}, {\"fillcolor\": \"#e1b396\", \"layer\": \"below\", \"line\": {\"color\": \"rgb(175,175,175)\", \"width\": 0.5}, \"path\": \"M -0.29096806158605104,0.9567327668355757 Q -0.1486954809169216, -0.1337522110280253 0.9206896098116475, -0.39029558335302267L 0.9206896098116475, -0.39029558335302267 L 0.9192250719381133, -0.39373248166790925 L 0.9177477043104463, -0.39716388460295027 M 0.9177477043104463,-0.39716388460295027 Q -0.14863175368574225, -0.13382302416363506 -0.29901765378435374, 0.9542475793657013L -0.29901765378435374, 0.9542475793657013 L -0.29499547475253274, 0.9554986498554185 L -0.29096806158605104, 0.9567327668355757 \", \"type\": \"path\"}, {\"fillcolor\": \"#e1b396\", \"layer\": \"below\", \"line\": {\"color\": \"rgb(175,175,175)\", \"width\": 0.5}, \"path\": \"M -0.30873344959001425,0.951148598855221 Q -0.13356436713586153, -0.14886423288216952 0.9789341916467033, -0.2041760231393872L 0.9789341916467033, -0.2041760231393872 L 0.977935494014565, -0.20890708352396442 L 0.97691393192852, -0.21363325959213095 M 0.97691393192852,-0.21363325959213095 Q -0.13344255605789984, -0.14897343465441837 -0.31946773433803205, 0.9475971542364005L -0.31946773433803205, 0.9475971542364005 L -0.31410561131866127, 0.9493880476065254 L -0.30873344959001425, 0.951148598855221 \", \"type\": \"path\"}, {\"fillcolor\": \"#e1b396\", \"layer\": \"below\", \"line\": {\"color\": \"rgb(175,175,175)\", \"width\": 0.5}, \"path\": \"M -0.2703281272486332,0.9627682502130234 Q -0.1288284926593116, -0.15298110824258565 0.9947268040964302, -0.10256015411504626L 0.9947268040964302, -0.10256015411504626 L 0.994638729417804, -0.10341082120424655 L 0.9945499272687205, -0.10426141265963525 M 0.9945499272687205,-0.10426141265963525 Q -0.12878974225926706, -0.15301373235364057 -0.2724618977185477, 0.962166573048351L -0.2724618977185477, 0.962166573048351 L -0.2713951792217777, 0.9624680029461651 L -0.2703281272486332, 0.9627682502130234 \", \"type\": \"path\"}, {\"fillcolor\": \"#dba284\", \"layer\": \"below\", \"line\": {\"color\": \"rgb(175,175,175)\", \"width\": 0.5}, \"path\": \"M -0.7036498263461006,0.71054691743973 Q -0.15312320359619222, 0.1286595683205842 -0.8211799392846683, 0.5706693502514645L -0.8211799392846683, 0.5706693502514645 L -0.8154981801928027, 0.578759637589066 L -0.8097367182757285, 0.5867933597750179 M -0.8097367182757285,0.5867933597750179 Q -0.1530172090548375, 0.12878561151412898 -0.7164125067786103, 0.6976769453917677L -0.7164125067786103, 0.6976769453917677 L -0.7100603259829604, 0.7041408477463668 L -0.7036498263461006, 0.71054691743973 \", \"type\": \"path\"}, {\"fillcolor\": \"#dba284\", \"layer\": \"below\", \"line\": {\"color\": \"rgb(175,175,175)\", \"width\": 0.5}, \"path\": \"M -0.6514424668061753,0.7586980377208611 Q -0.15439032949840914, 0.12713625036696913 -0.8695681448914316, 0.493812961950245L -0.8695681448914316, 0.493812961950245 L -0.8675668787054809, 0.4973205314213655 L -0.8655514641434902, 0.5008199905345837 M -0.8655514641434902,0.5008199905345837 Q -0.15431914523971588, 0.1272226450459331 -0.6567050992699034, 0.754147474034692L -0.6567050992699034, 0.754147474034692 L -0.6540777404599223, 0.7564273325540548 L -0.6514424668061753, 0.7586980377208611 \", \"type\": \"path\"}, {\"fillcolor\": \"#dba284\", \"layer\": \"below\", \"line\": {\"color\": \"rgb(175,175,175)\", \"width\": 0.5}, \"path\": \"M -0.6418062032908646,0.7668668707261812 Q -0.16808386286121182, 0.10838733803195527 -0.9633604365876882, 0.26821012139287115L -0.9633604365876882, 0.26821012139287115 L -0.963319533421878, 0.2683569945573531 L -0.9632786078639024, 0.2685038614839313 M -0.9632786078639024,0.2685038614839313 Q -0.16808718189585115, 0.10838219079863193 -0.6420869641209885, 0.7666318089577894L -0.6420869641209885, 0.7666318089577894 L -0.641946594465006, 0.7667493526927696 L -0.6418062032908646, 0.7668668707261812 \", \"type\": \"path\"}, {\"fillcolor\": \"#dba284\", \"layer\": \"below\", \"line\": {\"color\": \"rgb(175,175,175)\", \"width\": 0.5}, \"path\": \"M -0.668769783150521,0.7434695536098335 Q -0.17807623542653295, 0.09104314568551562 -0.9942825076514723, 0.10678152920004438L -0.9942825076514723, 0.10678152920004438 L -0.9938130900136207, 0.11106548571711622 L -0.9933252146466396, 0.11534737945531026 M -0.9933252146466396,0.11534737945531026 Q -0.1780755889600127, 0.09104441013343222 -0.6751425013012251, 0.7376873341306093L -0.6751425013012251, 0.7376873341306093 L -0.6719623617365814, 0.7405852985371744 L -0.668769783150521, 0.7434695536098335 \", \"type\": \"path\"}, {\"fillcolor\": \"#dba284\", \"layer\": \"below\", \"line\": {\"color\": \"rgb(175,175,175)\", \"width\": 0.5}, \"path\": \"M -0.6420869641209885,0.7666318089577894 Q -0.1790615975784211, 0.089089529534416 -0.9987617550569671, 0.04974893602406839L -0.9987617550569671, 0.04974893602406839 L -0.9987421792644453, 0.050140396469378866 L -0.9987224500406638, 0.05053184921189598 M -0.9987224500406638,0.05053184921189598 Q -0.17905930085163013, 0.08909414559063585 -0.6426482274692354, 0.7661613770809971L -0.6426482274692354, 0.7661613770809971 L -0.6423676388596564, 0.7663966443988843 L -0.6420869641209885, 0.7666318089577894 \", \"type\": \"path\"}, {\"fillcolor\": \"#dba284\", \"layer\": \"below\", \"line\": {\"color\": \"rgb(175,175,175)\", \"width\": 0.5}, \"path\": \"M -0.6440498772644473,0.7649835002113774 Q -0.18631811917728305, 0.0727018463743511 -0.991952464508339, -0.12661085323080562L -0.991952464508339, -0.12661085323080562 L -0.992077952969532, -0.12562378449872832 L -0.9922024592219282, -0.1246365913925679 M -0.9922024592219282,-0.1246365913925679 Q -0.18631233239952114, 0.07271667481293652 -0.6454493681941216, 0.7638030591047729L -0.6454493681941216, 0.7638030591047729 L -0.6447498928808412, 0.764393599940596 L -0.6440498772644473, 0.7649835002113774 \", \"type\": \"path\"}, {\"fillcolor\": \"#dba284\", \"layer\": \"below\", \"line\": {\"color\": \"rgb(175,175,175)\", \"width\": 0.5}, \"path\": \"M -0.6416657906032701,0.7669843630540849 Q -0.1920190204566705, 0.05593474575664725 -0.9531780611810251, -0.3024096289524887L -0.9531780611810251, -0.3024096289524887 L -0.9532078575859503, -0.3023156963116583 L -0.9532376447341149, -0.3022217607349897 M -0.9532376447341149,-0.3022217607349897 Q -0.19201862875882258, 0.0559360904030794 -0.6418062032908646, 0.7668668707261812L -0.6418062032908646, 0.7668668707261812 L -0.641735999635955, 0.7669256201035676 L -0.6416657906032701, 0.7669843630540849 \", \"type\": \"path\"}, {\"fillcolor\": \"#dba284\", \"layer\": \"below\", \"line\": {\"color\": \"rgb(175,175,175)\", \"width\": 0.5}, \"path\": \"M -0.6454493681941216,0.7638030591047729 Q -0.1964296102640293, 0.037621911322014916 -0.8819980730289423, -0.47125300972326173L -0.8819980730289423, -0.47125300972326173 L -0.882730785740266, -0.46987909073119305 L -0.8834613582519847, -0.4685040325072542 M -0.8834613582519847,-0.4685040325072542 Q -0.19641923828979102, 0.03767602459998005 -0.6474050196710582, 0.7621461411728834L -0.6474050196710582, 0.7621461411728834 L -0.6464277248075151, 0.7629752267276962 L -0.6454493681941216, 0.7638030591047729 \", \"type\": \"path\"}, {\"fillcolor\": \"#dba284\", \"layer\": \"below\", \"line\": {\"color\": \"rgb(175,175,175)\", \"width\": 0.5}, \"path\": \"M -0.6432091461506521,0.7656905342944689 Q -0.19992410861885287, -0.005509155376019134 -0.6000659761972308, -0.7999505136009755L -0.6000659761972308, -0.7999505136009755 L -0.6006079482302158, -0.7995436776828958 L -0.6011496444345118, -0.7991364745750628 M -0.6011496444345118,-0.7991364745750628 Q -0.19992481447697408, -0.005483480313404274 -0.6440498772644473, 0.7649835002113774L -0.6440498772644473, 0.7649835002113774 L -0.6436296087931299, 0.7653371326969589 L -0.6432091461506521, 0.7656905342944689 \", \"type\": \"path\"}, {\"fillcolor\": \"#dba284\", \"layer\": \"below\", \"line\": {\"color\": \"rgb(175,175,175)\", \"width\": 0.5}, \"path\": \"M -0.6626218347106825,0.7489541402279909 Q -0.18551911430546975, -0.07471718829903906 0.041417867005598547, -0.9991419119888358L 0.041417867005598547, -0.9991419119888358 L 0.03627595212701519, -0.9993418110422873 L 0.03113307668849083, -0.9995152482758373 M 0.03113307668849083,-0.9995152482758373 Q -0.18559570547381143, -0.07452673419436978 -0.668769783150521, 0.7434695536098335L -0.668769783150521, 0.7434695536098335 L -0.6657014572617077, 0.7462181784167675 L -0.6626218347106825, 0.7489541402279909 \", \"type\": \"path\"}, {\"fillcolor\": \"#dba284\", \"layer\": \"below\", \"line\": {\"color\": \"rgb(175,175,175)\", \"width\": 0.5}, \"path\": \"M -0.6474050196710582,0.7621461411728834 Q -0.15199378019366164, -0.12999188737163897 0.652506531977944, -0.7577830993933002L 0.652506531977944, -0.7577830993933002 L 0.6500590937249625, -0.7598836586382683 L 0.6476048933602269, -0.7619763133430653 M 0.6476048933602269,-0.7619763133430653 Q -0.15206791933059538, -0.1299051496687623 -0.6514424668061753, 0.7586980377208611L -0.6514424668061753, 0.7586980377208611 L -0.6494260316898383, 0.7604247690360889 L -0.6474050196710582, 0.7621461411728834 \", \"type\": \"path\"}, {\"fillcolor\": \"#dba284\", \"layer\": \"below\", \"line\": {\"color\": \"rgb(175,175,175)\", \"width\": 0.5}, \"path\": \"M -0.6567050992699034,0.754147474034692 Q -0.10267109291200333, -0.17163521398668394 0.9750554721263032, -0.22196131707248465L 0.9750554721263032, -0.22196131707248465 L 0.9741424701165624, -0.22593460982151958 L 0.9732132772472658, -0.22990414739546694 M 0.9732132772472658,-0.22990414739546694 Q -0.10269520881842945, -0.17162078570423567 -0.6626218347106825, 0.7489541402279909L -0.6626218347106825, 0.7489541402279909 L -0.6596685776665887, 0.7515566296955538 L -0.6567050992699034, 0.754147474034692 \", \"type\": \"path\"}, {\"fillcolor\": \"#dba284\", \"layer\": \"below\", \"line\": {\"color\": \"rgb(175,175,175)\", \"width\": 0.5}, \"path\": \"M -0.6426482274692354,0.7661613770809971 Q -0.09418858108026341, -0.1764327384418398 0.9941874452747784, -0.10766300970161269L 0.9941874452747784, -0.10766300970161269 L 0.9941505571212543, -0.10800310076798576 L 0.9941135526295783, -0.1083431791955477 M 0.9941135526295783,-0.1083431791955477 Q -0.09418433175446314, -0.17643500687778838 -0.6432091461506521, 0.7656905342944689L -0.6432091461506521, 0.7656905342944689 L -0.642928729912104, 0.7659260070356724 L -0.6426482274692354, 0.7661613770809971 \", \"type\": \"path\"}, {\"fillcolor\": \"#d59171\", \"layer\": \"below\", \"line\": {\"color\": \"rgb(175,175,175)\", \"width\": 0.5}, \"path\": \"M -0.7472028153838208,0.6645960823556604 Q -0.16305799206103214, 0.11581058338953476 -0.8736315428401622, 0.48658804686790025L -0.8736315428401622, 0.48658804686790025 L -0.8716073299808625, 0.4902047147097137 L -0.8695681448914316, 0.493812961950245 M -0.8695681448914316,0.493812961950245 Q -0.16302902720471882, 0.11585135428074655 -0.7523566932945408, 0.658755953335455L -0.7523566932945408, 0.658755953335455 L -0.7497854405052592, 0.66168103585212 L -0.7472028153838208, 0.6645960823556604 \", \"type\": \"path\"}, {\"fillcolor\": \"#d59171\", \"layer\": \"below\", \"line\": {\"color\": \"rgb(175,175,175)\", \"width\": 0.5}, \"path\": \"M -0.7721320630459733,0.6354620973876955 Q -0.18483488447362484, 0.07639414559782547 -0.995467269448541, 0.0951047604311473L -0.995467269448541, 0.0951047604311473 L -0.9948920195677563, 0.1009448829827013 L -0.9942825076514723, 0.10678152920004438 M -0.9942825076514723,0.10678152920004438 Q -0.18487478677517452, 0.07629753085673066 -0.780191300871602, 0.6255409930965974L -0.780191300871602, 0.6255409930965974 L -0.7761775335699191, 0.6305144220248392 L -0.7721320630459733, 0.6354620973876955 \", \"type\": \"path\"}, {\"fillcolor\": \"#d59171\", \"layer\": \"below\", \"line\": {\"color\": \"rgb(175,175,175)\", \"width\": 0.5}, \"path\": \"M -0.7394543287718517,0.6732067257986735 Q -0.18474709731280634, 0.07660620101853682 -0.9988666791988626, 0.04759576857491029L -0.9988666791988626, 0.04759576857491029 L -0.998838523854663, 0.04818301841767427 L -0.9988100232568322, 0.04877025160573171 M -0.9988100232568322,0.04877025160573171 Q -0.18474795805638766, 0.07660412517609755 -0.7402605154354785, 0.6723201389867773L -0.7402605154354785, 0.6723201389867773 L -0.7398575549056212, 0.672763553151533 L -0.7394543287718517, 0.6732067257986735 \", \"type\": \"path\"}, {\"fillcolor\": \"#d59171\", \"layer\": \"below\", \"line\": {\"color\": \"rgb(175,175,175)\", \"width\": 0.5}, \"path\": \"M -0.7437416926566113,0.66846712305414 Q -0.19134681507725337, 0.05819275178053879 -0.989980478972229, -0.1412042890776202L -0.989980478972229, -0.1412042890776202 L -0.9903424662181771, -0.1386427048383674 L -0.9906978253509898, -0.1360801926983485 M -0.9906978253509898,-0.1360801926983485 Q -0.19134735782081835, 0.058190967125420046 -0.7472028153838208, 0.6645960823556604L -0.7472028153838208, 0.6645960823556604 L -0.7454747666775879, 0.6665338492882382 L -0.7437416926566113, 0.66846712305414 \", \"type\": \"path\"}, {\"fillcolor\": \"#d59171\", \"layer\": \"below\", \"line\": {\"color\": \"rgb(175,175,175)\", \"width\": 0.5}, \"path\": \"M -0.7402605154354785,0.6723201389867773 Q -0.19547231308896768, 0.042315184220898805 -0.9520389414014382, -0.3059768848381017L -0.9520389414014382, -0.3059768848381017 L -0.952309940050888, -0.3051323943475589 L -0.9525801896090947, -0.30428766383851485 M -0.9525801896090947,-0.30428766383851485 Q -0.19547281381195875, 0.042312871096574334 -0.7414678019554498, 0.6709884489790818L -0.7414678019554498, 0.6709884489790818 L -0.74086445790651, 0.6716545652423521 L -0.7402605154354785, 0.6723201389867773 \", \"type\": \"path\"}, {\"fillcolor\": \"#d59171\", \"layer\": \"below\", \"line\": {\"color\": \"rgb(175,175,175)\", \"width\": 0.5}, \"path\": \"M -0.7414678019554498,0.6709884489790818 Q -0.19859162284876594, 0.023693191728712145 -0.878515082481281, -0.47771461130355664L -0.878515082481281, -0.47771461130355664 L -0.8794167501620903, -0.47605270667684235 L -0.8803152739881741, -0.47438910019426656 M -0.8803152739881741,-0.47438910019426656 Q -0.19858704333176105, 0.023731544845400684 -0.7437416926566113, 0.66846712305414L -0.7437416926566113, 0.66846712305414 L -0.7426058173705338, 0.6697287510682526 L -0.7414678019554498, 0.6709884489790818 \", \"type\": \"path\"}, {\"fillcolor\": \"#d59171\", \"layer\": \"below\", \"line\": {\"color\": \"rgb(175,175,175)\", \"width\": 0.5}, \"path\": \"M -0.7582467368839039,0.6519677031915859 Q -0.1981786373461671, -0.026930051979459357 -0.5567753496262683, -0.830663114655121L -0.5567753496262683, -0.830663114655121 L -0.5614574725980945, -0.8275055930105608 L -0.5661216894455483, -0.8243216803768527 M -0.5661216894455483,-0.8243216803768527 Q -0.19819621586819403, -0.026800373421432717 -0.7647193777345861, 0.6443634636734359L -0.7647193777345861, 0.6443634636734359 L -0.7614925493290773, 0.6481736629301617 L -0.7582467368839039, 0.6519677031915859 \", \"type\": \"path\"}, {\"fillcolor\": \"#d59171\", \"layer\": \"below\", \"line\": {\"color\": \"rgb(175,175,175)\", \"width\": 0.5}, \"path\": \"M -0.780191300871602,0.6255409930965974 Q -0.17708307999026854, -0.09296011392613587 0.071785344840925, -0.9974201042018701L 0.071785344840925, -0.9974201042018701 L 0.06368507748068561, -0.9979700450946807 L 0.05558061220607758, -0.9984542030292615 M 0.05558061220607758,-0.9984542030292615 Q -0.1771786301488274, -0.09277786922852366 -0.7889828199404414, 0.6144152584684311L -0.7889828199404414, 0.6144152584684311 L -0.784606781037047, 0.6199937089605696 L -0.780191300871602, 0.6255409930965974 \", \"type\": \"path\"}, {\"fillcolor\": \"#d59171\", \"layer\": \"below\", \"line\": {\"color\": \"rgb(175,175,175)\", \"width\": 0.5}, \"path\": \"M -0.7647193777345861,0.6443634636734359 Q -0.1375144412809176, -0.1452232021379403 0.6850749157947311, -0.7284726211388058L 0.6850749157947311, -0.7284726211388058 L 0.680361666213131, -0.73287652653615 L 0.6756201073919545, -0.7372499375976127 M 0.6756201073919545,-0.7372499375976127 Q -0.13761006099038217, -0.14513259838583234 -0.7721320630459733, 0.6354620973876955L -0.7721320630459733, 0.6354620973876955 L -0.7684386093486966, 0.6399235139157189 L -0.7647193777345861, 0.6443634636734359 \", \"type\": \"path\"}, {\"fillcolor\": \"#d59171\", \"layer\": \"below\", \"line\": {\"color\": \"rgb(175,175,175)\", \"width\": 0.5}, \"path\": \"M -0.7381083252681081,0.6746822216198591 Q -0.11073459024598303, -0.16654684182852056 0.907709812881767, -0.41959849332206556L 0.907709812881767, -0.41959849332206556 L 0.9075034414140809, -0.4200446450338343 L 0.9072968506567798, -0.42049069524579136 M 0.9072968506567798,-0.42049069524579136 Q -0.11073330267497568, -0.16654769790871393 -0.7387816953778579, 0.6739448097393569L -0.7387816953778579, 0.6739448097393569 L -0.7384451023705018, 0.6743135997331058 L -0.7381083252681081, 0.6746822216198591 \", \"type\": \"path\"}, {\"fillcolor\": \"#d59171\", \"layer\": \"below\", \"line\": {\"color\": \"rgb(175,175,175)\", \"width\": 0.5}, \"path\": \"M -0.7523566932945408,0.658755953335455 Q -0.09008267826032548, -0.17856402514909517 0.97691393192852, -0.21363325959213095L 0.97691393192852, -0.21363325959213095 L 0.975993584879985, -0.2177992705982174 L 0.9750554721263032, -0.22196131707248465 M 0.9750554721263032,-0.22196131707248465 Q -0.09004209905022903, -0.17858449092412462 -0.7582467368839039, 0.6519677031915859L -0.7582467368839039, 0.6519677031915859 L -0.7553093411985086, 0.6553684453025451 L -0.7523566932945408, 0.658755953335455 \", \"type\": \"path\"}, {\"fillcolor\": \"#d59171\", \"layer\": \"below\", \"line\": {\"color\": \"rgb(175,175,175)\", \"width\": 0.5}, \"path\": \"M -0.7379735628993453,0.6748296232840153 Q -0.08250855550950315, -0.18218764576045007 0.993983120808409, -0.10953335358682258L 0.993983120808409, -0.10953335358682258 L 0.9939737497232087, -0.10961836005516581 L 0.9939643713681673, -0.10970336572176857 M 0.9939643713681673,-0.10970336572176857 Q -0.082505943177157, -0.18218882880255788 -0.7381083252681081, 0.6746822216198591L -0.7381083252681081, 0.6746822216198591 L -0.7380409477636123, 0.6747559258162829 L -0.7379735628993453, 0.6748296232840153 \", \"type\": \"path\"}, {\"fillcolor\": \"#d0805f\", \"layer\": \"below\", \"line\": {\"color\": \"rgb(175,175,175)\", \"width\": 0.5}, \"path\": \"M -0.8777367717879299,0.4791431513142013 Q -0.186522061806238, 0.07217700783178764 -0.9716331210896929, 0.23649329377701617L -0.9716331210896929, 0.23649329377701617 L -0.9708892214748173, 0.23952895362361354 L -0.9701358376146564, 0.2425622736035204 M -0.9701358376146564,0.2425622736035204 Q -0.18661081845866284, 0.07194721978080866 -0.8818787877476651, 0.47147619634580556L -0.8818787877476651, 0.47147619634580556 L -0.8798161312965129, 0.4753141856818889 L -0.8777367717879299, 0.4791431513142013 \", \"type\": \"path\"}, {\"fillcolor\": \"#d0805f\", \"layer\": \"below\", \"line\": {\"color\": \"rgb(175,175,175)\", \"width\": 0.5}, \"path\": \"M -0.8736315428401622,0.48658804686790025 Q -0.19009036307161464, 0.06217438272553834 -0.9923168331673541, 0.12372268430935969L -0.9923168331673541, 0.12372268430935969 L -0.991856376314992, 0.12736141002396628 L -0.9913825766681291, 0.13099842242890192 M -0.9913825766681291,0.13099842242890192 Q -0.1901265865423198, 0.06206352463215238 -0.8777367717879299, 0.4791431513142013L -0.8777367717879299, 0.4791431513142013 L -0.8756920691591665, 0.4828699618031107 L -0.8736315428401622, 0.48658804686790025 \", \"type\": \"path\"}, {\"fillcolor\": \"#d0805f\", \"layer\": \"below\", \"line\": {\"color\": \"rgb(175,175,175)\", \"width\": 0.5}, \"path\": \"M -0.8557035704094874,0.517466327009261 Q -0.19150987137973333, 0.057653873799754375 -0.9991616407799606, 0.040939169433405115L -0.9991616407799606, 0.040939169433405115 L -0.999087879262792, 0.04270139939365922 L -0.9990110096879412, 0.044463496514335156 M -0.9990110096879412,0.044463496514335156 Q -0.1915184666694742, 0.05762531496290066 -0.8576770202496479, 0.514188806700112L -0.8576770202496479, 0.514188806700112 L -0.8566918627176905, 0.5158285106053113 L -0.8557035704094874, 0.517466327009261 \", \"type\": \"path\"}, {\"fillcolor\": \"#d0805f\", \"layer\": \"below\", \"line\": {\"color\": \"rgb(175,175,175)\", \"width\": 0.5}, \"path\": \"M -0.8576770202496479,0.514188806700112 Q -0.19594232165175182, 0.04008249724906668 -0.9906978253509898, -0.1360801926983485L -0.9906978253509898, -0.1360801926983485 L -0.9909533179051193, -0.13420701074398256 L -0.9912052687057992, -0.13233334912207312 M -0.9912052687057992,-0.13233334912207312 Q -0.19594747626407533, 0.040057290793807335 -0.8597464866028639, 0.5107210381157521L -0.8597464866028639, 0.5107210381157521 L -0.8587135039273188, 0.5124559670575284 L -0.8576770202496479, 0.514188806700112 \", \"type\": \"path\"}, {\"fillcolor\": \"#d0805f\", \"layer\": \"below\", \"line\": {\"color\": \"rgb(175,175,175)\", \"width\": 0.5}, \"path\": \"M -0.8527199210479188,0.5223683913178813 Q -0.198628856206318, 0.023378996603144478 -0.9507032829658477, -0.3101020279810491L -0.9507032829658477, -0.3101020279810491 L -0.9510997707902311, -0.3088838390119655 L -0.951494697682074, -0.3076651431067529 M -0.951494697682074,-0.3076651431067529 Q -0.19863120354586392, 0.023359044884617666 -0.8541600044902623, 0.5200102755996222L -0.8541600044902623, 0.5200102755996222 L -0.8534407772240215, 0.521189830840221 L -0.8527199210479188, 0.5223683913178813 \", \"type\": \"path\"}, {\"fillcolor\": \"#d0805f\", \"layer\": \"below\", \"line\": {\"color\": \"rgb(175,175,175)\", \"width\": 0.5}, \"path\": \"M -0.8911218389335286,0.4537641107180318 Q -0.19976631836665668, -0.009665301145415845 -0.8431530717426595, -0.5376735976509519L -0.8431530717426595, -0.5376735976509519 L -0.8475496909867668, -0.5307160458364115 L -0.8518888990895614, -0.5237225444908544 M -0.8518888990895614,-0.5237225444908544 Q -0.19976984438942774, -0.00959214640337782 -0.8981482376519001, 0.43969278275039486L -0.8981482376519001, 0.43969278275039486 L -0.8946627030946912, 0.446742260919314 L -0.8911218389335286, 0.4537641107180318 \", \"type\": \"path\"}, {\"fillcolor\": \"#d0805f\", \"layer\": \"below\", \"line\": {\"color\": \"rgb(175,175,175)\", \"width\": 0.5}, \"path\": \"M -0.8981482376519001,0.43969278275039486 Q -0.19134442979315425, -0.058200594388138994 -0.5012041028691004, -0.8653290976658419L -0.5012041028691004, -0.8653290976658419 L -0.5106542189003669, -0.8597861761619898 L -0.5200430417839892, -0.8541400556653785 M -0.5200430417839892,-0.8541400556653785 Q -0.19138207099949955, -0.05807669842494939 -0.9070217600778512, 0.4210837526493715L -0.9070217600778512, 0.4210837526493715 L -0.9026329565090303, 0.43041113580362567 L -0.8981482376519001, 0.43969278275039486 \", \"type\": \"path\"}, {\"fillcolor\": \"#d0805f\", \"layer\": \"below\", \"line\": {\"color\": \"rgb(175,175,175)\", \"width\": 0.5}, \"path\": \"M -0.8541600044902623,0.5200102755996222 Q -0.17837808375089637, -0.09045031363880504 -0.08525329947597168, -0.996359310152949L -0.08525329947597168, -0.996359310152949 L -0.08632160423794254, -0.9962673238854057 L -0.08738980975281188, -0.9961741921729188 M -0.08738980975281188,-0.9961741921729188 Q -0.1783404818042177, -0.09052443067945527 -0.8557035704094874, 0.517466327009261L -0.8557035704094874, 0.517466327009261 L -0.8549327336760745, 0.5187388754365286 L -0.8541600044902623, 0.5200102755996222 \", \"type\": \"path\"}, {\"fillcolor\": \"#d0805f\", \"layer\": \"below\", \"line\": {\"color\": \"rgb(175,175,175)\", \"width\": 0.5}, \"path\": \"M -0.9180563021153724,0.3964500298224837 Q -0.1572053980242818, -0.123638435900925 0.16891799266386773, -0.9856301089934345L 0.16891799266386773, -0.9856301089934345 L 0.1533439020425837, -0.9881728835109546 L 0.13773162602935865, -0.9904695851924525 M 0.13773162602935865,-0.9904695851924525 Q -0.15734315014681732, -0.12346308396389627 -0.9292880517270424, 0.36935581343381857L -0.9292880517270424, 0.36935581343381857 L -0.9237715164253503, 0.3829441022410567 L -0.9180563021153724, 0.3964500298224837 \", \"type\": \"path\"}, {\"fillcolor\": \"#d0805f\", \"layer\": \"below\", \"line\": {\"color\": \"rgb(175,175,175)\", \"width\": 0.5}, \"path\": \"M -0.8863478036671852,0.46302005457037904 Q -0.12281300951912384, -0.15785108391409797 0.6667162403149394, -0.7453116495133508L 0.6667162403149394, -0.7453116495133508 L 0.6626447250265503, -0.7489338878662706 L 0.658553530616217, -0.7525338844948547 M 0.658553530616217,-0.7525338844948547 Q -0.12285124628135465, -0.15782132709845634 -0.8911218389335286, 0.4537641107180318L -0.8911218389335286, 0.4537641107180318 L -0.8887468710020457, 0.4583982976452608 L -0.8863478036671852, 0.46302005457037904 \", \"type\": \"path\"}, {\"fillcolor\": \"#d0805f\", \"layer\": \"below\", \"line\": {\"color\": \"rgb(175,175,175)\", \"width\": 0.5}, \"path\": \"M -0.8626631801567709,0.5057788425802395 Q -0.09165258824002884, -0.17776333443346448 0.9123554734862971, -0.40939893746759376L 0.9123554734862971, -0.40939893746759376 L 0.9112655211408025, -0.4118193171525367 L 0.9101691478052697, -0.4142367950622314 M 0.9101691478052697,-0.4142367950622314 Q -0.09161439071249232, -0.17778302341443855 -0.8655514641434902, 0.5008199905345837L -0.8655514641434902, 0.5008199905345837 L -0.8641108793128763, 0.5033014884272922 L -0.8626631801567709, 0.5057788425802395 \", \"type\": \"path\"}, {\"fillcolor\": \"#d0805f\", \"layer\": \"below\", \"line\": {\"color\": \"rgb(175,175,175)\", \"width\": 0.5}, \"path\": \"M -0.8597464866028639,0.5107210381157521 Q -0.07555913840447619, -0.185177797274871 0.9716212097830379, -0.23654222603955083L 0.9716212097830379, -0.23654222603955083 L 0.9710125076228515, -0.23902868037116728 L 0.9703974424434707, -0.2415135683541835 M 0.9703974424434707,-0.2415135683541835 Q -0.07550182903153019, -0.1852011711974133 -0.8626631801567709, 0.5057788425802395L -0.8626631801567709, 0.5057788425802395 L -0.8612083785942498, 0.5082520325970801 L -0.8597464866028639, 0.5107210381157521 \", \"type\": \"path\"}, {\"fillcolor\": \"#d0805f\", \"layer\": \"below\", \"line\": {\"color\": \"rgb(175,175,175)\", \"width\": 0.5}, \"path\": \"M -0.8517191259124807,0.5239985978558338 Q -0.06442912995136299, -0.18933802368703012 0.9945499272687205, -0.10426141265963525L 0.9945499272687205, -0.10426141265963525 L 0.9944693834009741, -0.10502687978839689 L 0.9943882503824757, -0.10579228469637492 M 0.9943882503824757,-0.10579228469637492 Q -0.06439376914167495, -0.18935005280096617 -0.8527199210479188, 0.5223683913178813L -0.8527199210479188, 0.5223683913178813 L -0.8522199132818699, 0.5231837338888148 L -0.8517191259124807, 0.5239985978558338 \", \"type\": \"path\"}, {\"fillcolor\": \"#ca6f4c\", \"layer\": \"below\", \"line\": {\"color\": \"rgb(175,175,175)\", \"width\": 0.5}, \"path\": \"M -0.9638901396242656,0.26630020415897854 Q -0.19492022095014827, 0.04478959103123616 -0.9834521043186794, 0.18116831541735273L -0.9834521043186794, 0.18116831541735273 L -0.9833189438642135, 0.1818896771061179 L -0.9831852542913376, 0.1826109409210682 M -0.9831852542913376,0.1826109409210682 Q -0.19491467901182413, 0.044813702209453375 -0.964214228800246, 0.26512435003059776L -0.964214228800246, 0.26512435003059776 L -0.9640523634858503, 0.26571232650621585 L -0.9638901396242656, 0.26630020415897854 \", \"type\": \"path\"}, {\"fillcolor\": \"#ca6f4c\", \"layer\": \"below\", \"line\": {\"color\": \"rgb(175,175,175)\", \"width\": 0.5}, \"path\": \"M -0.9634830117226207,0.26776946450614597 Q -0.19741941281627795, 0.032024606840303727 -0.9987224500406638, 0.05053184921189598L -0.9987224500406638, 0.05053184921189598 L -0.9987075524353858, 0.0508254336776499 L -0.9986925685280158, 0.051119013751386125 M -0.9986925685280158,0.051119013751386125 Q -0.1974173221962712, 0.03203749204999741 -0.963605385293867, 0.2673287516012039L -0.963605385293867, 0.2673287516012039 L -0.9635442237053057, 0.2675491150501899 L -0.9634830117226207, 0.26776946450614597 \", \"type\": \"path\"}, {\"fillcolor\": \"#ca6f4c\", \"layer\": \"below\", \"line\": {\"color\": \"rgb(175,175,175)\", \"width\": 0.5}, \"path\": \"M -0.9674919237708817,0.2529019126818113 Q -0.19982502181727752, -0.008364248664677996 -0.9429727673158922, -0.3328698846405426L -0.9429727673158922, -0.3328698846405426 L -0.9439527274745971, -0.33008066937230496 L -0.9449244374451893, -0.3272885691845846 M -0.9449244374451893,-0.3272885691845846 Q -0.1998305762471505, -0.0082304797388595 -0.968638540913924, 0.2484740973545219L -0.968638540913924, 0.2484740973545219 L -0.9680677638767305, 0.2506886605786281 L -0.9674919237708817, 0.2529019126818113 \", \"type\": \"path\"}, {\"fillcolor\": \"#ca6f4c\", \"layer\": \"below\", \"line\": {\"color\": \"rgb(175,175,175)\", \"width\": 0.5}, \"path\": \"M -0.9650581369047708,0.2620358608929181 Q -0.19859831330349914, -0.023637046198821038 -0.8765953052037818, -0.48122829394653077L -0.8765953052037818, -0.48122829394653077 L -0.8775569524147318, -0.4794724134593859 L -0.878515082481281, -0.47771461130355664 M -0.878515082481281,-0.47771461130355664 Q -0.19861316071125684, -0.023511962748449175 -0.9657736132052757, 0.2593864453598657L -0.9657736132052757, 0.2593864453598657 L -0.9654167839119656, 0.26071139856377035 L -0.9650581369047708, 0.2620358608929181 \", \"type\": \"path\"}, {\"fillcolor\": \"#ca6f4c\", \"layer\": \"below\", \"line\": {\"color\": \"rgb(175,175,175)\", \"width\": 0.5}, \"path\": \"M -0.9657736132052757,0.2593864453598657 Q -0.18876968269084352, -0.06607576633530825 -0.5931772280879718, -0.8050719073957744L -0.5931772280879718, -0.8050719073957744 L -0.5949943148745269, -0.8037299081575802 L -0.596808365544116, -0.8023838076734605 M -0.596808365544116,-0.8023838076734605 Q -0.18881815165432167, -0.06593713373999197 -0.9665600559458015, 0.25644036002557996L -0.9665600559458015, 0.25644036002557996 L -0.9661679574941489, 0.2579137024502276 L -0.9657736132052757, 0.2593864453598657 \", \"type\": \"path\"}, {\"fillcolor\": \"#ca6f4c\", \"layer\": \"below\", \"line\": {\"color\": \"rgb(175,175,175)\", \"width\": 0.5}, \"path\": \"M -0.9665600559458015,0.25644036002557996 Q -0.16289781332582493, -0.11603578074742592 -0.07349574814922659, -0.9972955304241494L -0.07349574814922659, -0.9972955304241494 L -0.07532880783061445, -0.9971587490017918 L -0.07716161298975024, -0.9970185983625481 M -0.07716161298975024,-0.9970185983625481 Q -0.16289881202132475, -0.11603437870752403 -0.9674919237708817, 0.2529019126818113L -0.9674919237708817, 0.2529019126818113 L -0.9670276082997354, 0.25467156257834006 L -0.9665600559458015, 0.25644036002557996 \", \"type\": \"path\"}, {\"fillcolor\": \"#ca6f4c\", \"layer\": \"below\", \"line\": {\"color\": \"rgb(175,175,175)\", \"width\": 0.5}, \"path\": \"M -0.97368637339869,0.2278921812123155 Q -0.14974473645524042, -0.13257644550956477 0.10822713009058599, -0.9941261933539199L 0.10822713009058599, -0.9941261933539199 L 0.0987869953059818, -0.99510860189148 L 0.08933796166325389, -0.9960013697811138 M 0.08933796166325389,-0.9960013697811138 Q -0.15016345277576645, -0.13210199639089548 -0.9764921724457019, 0.21555286393892717L -0.9764921724457019, 0.21555286393892717 L -0.9751087912923511, 0.22172696079721577 L -0.97368637339869, 0.2278921812123155 \", \"type\": \"path\"}, {\"fillcolor\": \"#ca6f4c\", \"layer\": \"below\", \"line\": {\"color\": \"rgb(175,175,175)\", \"width\": 0.5}, \"path\": \"M -0.9633604365876882,0.26821012139287115 Q -0.10862830998390166, -0.16792822952095154 0.6396037236619153, -0.7687048046407752L 0.6396037236619153, -0.7687048046407752 L 0.6393472114390631, -0.7689181641924542 L 0.6390906280435559, -0.7691314381475336 M 0.6390906280435559,-0.7691314381475336 Q -0.10864593413989326, -0.1679168276107847 -0.9634830117226207, 0.26776946450614597L -0.9634830117226207, 0.26776946450614597 L -0.9634217493490136, 0.2679897999575476 L -0.9633604365876882, 0.26821012139287115 \", \"type\": \"path\"}, {\"fillcolor\": \"#ca6f4c\", \"layer\": \"below\", \"line\": {\"color\": \"rgb(175,175,175)\", \"width\": 0.5}, \"path\": \"M -0.963605385293867,0.2673287516012039 Q -0.06853198793435715, -0.1878919014480537 0.9094346688446638, -0.41584682649191473L 0.9094346688446638, -0.41584682649191473 L 0.9091482688641449, -0.41647259840393874 L 0.9088614382969734, -0.417098173068112 M 0.9088614382969734,-0.417098173068112 Q -0.06856103120332932, -0.18788130561696686 -0.9638901396242656, 0.26630020415897854L -0.9638901396242656, 0.26630020415897854 L -0.9637478996720652, 0.26681451586763955 L -0.963605385293867, 0.2673287516012039 \", \"type\": \"path\"}, {\"fillcolor\": \"#ca6f4c\", \"layer\": \"below\", \"line\": {\"color\": \"rgb(175,175,175)\", \"width\": 0.5}, \"path\": \"M -0.9631556968464982,0.2689444248021078 Q -0.052644232313918064, -0.1929471036426259 0.9662813311307972, -0.25748861937587614L 0.9662813311307972, -0.25748861937587614 L 0.9662569142124845, -0.2575802316494169 L 0.9662324886084939, -0.2576718416075704 M 0.9662324886084939,-0.2576718416075704 Q -0.05264781708616459, -0.19294612552746881 -0.9631966895752604, 0.26879757660972226L -0.9631966895752604, 0.26879757660972226 L -0.9631761960094833, 0.26887100148714665 L -0.9631556968464982, 0.2689444248021078 \", \"type\": \"path\"}, {\"fillcolor\": \"#ca6f4c\", \"layer\": \"below\", \"line\": {\"color\": \"rgb(175,175,175)\", \"width\": 0.5}, \"path\": \"M -0.9631966895752604,0.26879757660972226 Q -0.03789097176119803, -0.1963778863797859 0.9940578277675061, -0.10885327305206442L 0.9940578277675061, -0.10885327305206442 L 0.9940391946491058, -0.10902329797505209 L 0.9940205324494256, -0.10919331970849037 M 0.9940205324494256,-0.10919331970849037 Q -0.03789462054275281, -0.1963771823148524 -0.9632786078639024, 0.2685038614839313L -0.9632786078639024, 0.2685038614839313 L -0.9632376599147127, 0.2686507221691921 L -0.9631966895752604, 0.26879757660972226 \", \"type\": \"path\"}, {\"fillcolor\": \"#c45e3a\", \"layer\": \"below\", \"line\": {\"color\": \"rgb(175,175,175)\", \"width\": 0.5}, \"path\": \"M -0.9829500245641666,0.18387291592103608 Q -0.1999046668977723, 0.006174475887935148 -0.9924240949172234, -0.12285933349863949L -0.9924240949172234, -0.12285933349863949 L -0.9925094268828812, -0.12216807090485889 L -0.9925942773568893, -0.12147674904422916 M -0.9925942773568893,-0.12147674904422916 Q -0.19990432913942904, 0.006185401467554231 -0.9831852542913376, 0.1826109409210682L -0.9831852542913376, 0.1826109409210682 L -0.9830678419291712, 0.18324196616692948 L -0.9829500245641666, 0.18387291592103608 \", \"type\": \"path\"}, {\"fillcolor\": \"#c45e3a\", \"layer\": \"below\", \"line\": {\"color\": \"rgb(175,175,175)\", \"width\": 0.5}, \"path\": \"M -0.9852607536409635,0.17105919248856688 Q -0.19924234415892916, -0.017392190605407882 -0.9407210254772722, -0.3391812969858294L -0.9407210254772722, -0.3391812969858294 L -0.941852183059169, -0.33602747695192675 L -0.9429727673158922, -0.3328698846405426 M -0.9429727673158922,-0.3328698846405426 Q -0.19924639034201433, -0.017345775730063486 -0.9863081774678393, 0.16491264069218392L -0.9863081774678393, 0.16491264069218392 L -0.9857892561562654, 0.1679867329489944 L -0.9852607536409635, 0.17105919248856688 \", \"type\": \"path\"}, {\"fillcolor\": \"#c45e3a\", \"layer\": \"below\", \"line\": {\"color\": \"rgb(175,175,175)\", \"width\": 0.5}, \"path\": \"M -0.9842075051525095,0.17701860580592327 Q -0.19714505012677885, -0.033672380529298045 -0.8696558317851226, -0.4936585198719116L -0.8696558317851226, -0.4936585198719116 L -0.8714618341493863, -0.4904633234208116 L -0.8732560971167279, -0.4872615199751156 M -0.8732560971167279,-0.4872615199751156 Q -0.19716670725578844, -0.033545335740013484 -0.9852607536409635, 0.17105919248856688L -0.9852607536409635, 0.17105919248856688 L -0.9847386375330869, 0.17403969590147997 L -0.9842075051525095, 0.17701860580592327 \", \"type\": \"path\"}, {\"fillcolor\": \"#c45e3a\", \"layer\": \"below\", \"line\": {\"color\": \"rgb(175,175,175)\", \"width\": 0.5}, \"path\": \"M -0.9893540803005585,0.1455283607845427 Q -0.18330613662962852, -0.07999287639483882 -0.5661216894455483, -0.8243216803768527L -0.5661216894455483, -0.8243216803768527 L -0.5698400705331617, -0.8217556169657506 L -0.5735468205926763, -0.8191727806684207 M -0.5735468205926763,-0.8191727806684207 Q -0.1833740735849831, -0.07983701608182267 -0.9903949746651726, 0.1382671116280808L -0.9903949746651726, 0.1382671116280808 L -0.9898811855946421, 0.1418986906414068 L -0.9893540803005585, 0.1455283607845427 \", \"type\": \"path\"}, {\"fillcolor\": \"#c45e3a\", \"layer\": \"below\", \"line\": {\"color\": \"rgb(175,175,175)\", \"width\": 0.5}, \"path\": \"M -0.9828148802874481,0.18459390858197097 Q -0.15948918928436462, -0.1206780779653708 -0.08952591812873925, -0.9959844928427382L -0.08952591812873925, -0.9959844928427382 L -0.08983104308707722, -0.9959570190012658 L -0.09013615961422812, -0.9959294516831995 M -0.09013615961422812,-0.9959294516831995 Q -0.1594818981978553, -0.1206877133233078 -0.9829500245641666, 0.18387291592103608L -0.9829500245641666, 0.18387291592103608 L -0.9828825185362561, 0.18423342464337533 L -0.9828148802874481, 0.18459390858197097 \", \"type\": \"path\"}, {\"fillcolor\": \"#c45e3a\", \"layer\": \"below\", \"line\": {\"color\": \"rgb(175,175,175)\", \"width\": 0.5}, \"path\": \"M -0.9903949746651726,0.1382671116280808 Q -0.14950533747472528, -0.13284635511209372 0.020844988871346386, -0.9997827196140937L 0.020844988871346386, -0.9997827196140937 L 0.016271731930338408, -0.9998676066059882 L 0.011698134554028676, -0.9999315744829522 M 0.011698134554028676,-0.9999315744829522 Q -0.14962567507067304, -0.1327108034775066 -0.9913825766681291, 0.13099842242890192L -0.9913825766681291, 0.13099842242890192 L -0.9908954406004818, 0.13463367259782016 L -0.9903949746651726, 0.1382671116280808 \", \"type\": \"path\"}, {\"fillcolor\": \"#c45e3a\", \"layer\": \"below\", \"line\": {\"color\": \"rgb(175,175,175)\", \"width\": 0.5}, \"path\": \"M -0.9883717566359962,0.15205680084848247 Q -0.09628418199396839, -0.17529790728286626 0.658553530616217, -0.7525338844948547L 0.658553530616217, -0.7525338844948547 L 0.6555352854702897, -0.7551645446545976 L 0.652506531977944, -0.7577830993933002 M 0.652506531977944,-0.7577830993933002 Q -0.09640735785714602, -0.1752301953174857 -0.9893540803005585, 0.1455283607845427L -0.9893540803005585, 0.1455283607845427 L -0.9888683060215936, 0.1487933914728202 L -0.9883717566359962, 0.15205680084848247 \", \"type\": \"path\"}, {\"fillcolor\": \"#c45e3a\", \"layer\": \"below\", \"line\": {\"color\": \"rgb(175,175,175)\", \"width\": 0.5}, \"path\": \"M -0.9827810115830503,0.1847741412422102 Q -0.06118258979547606, -0.1904118974904628 0.906468295730635, -0.4222738789401944L 0.906468295730635, -0.4222738789401944 L 0.906426775961087, -0.4223629953260457 L 0.9063852474303613, -0.42245210762949537 M 0.9063852474303613,-0.42245210762949537 Q -0.061183850367305295, -0.19041149244263383 -0.9828148802874481, 0.18459390858197097L -0.9828148802874481, 0.18459390858197097 L -0.9827979500667968, 0.18468402568847686 L -0.9827810115830503, 0.1847741412422102 \", \"type\": \"path\"}, {\"fillcolor\": \"#c45e3a\", \"layer\": \"below\", \"line\": {\"color\": \"rgb(175,175,175)\", \"width\": 0.5}, \"path\": \"M -0.987346354304662,0.15857861344233298 Q -0.03887397578525633, -0.19618566208224114 0.9732132772472658, -0.22990414739546694L 0.9732132772472658, -0.22990414739546694 L 0.9724229077451987, -0.23322454521849298 L 0.9716212097830379, -0.23654222603955083 M 0.9716212097830379,-0.23654222603955083 Q -0.03889598752033432, -0.1961812991974974 -0.9883717566359962, 0.15205680084848247L -0.9883717566359962, 0.15205680084848247 L -0.9878644375543681, 0.15531855335210895 L -0.987346354304662, 0.15857861344233298 \", \"type\": \"path\"}, {\"fillcolor\": \"#c45e3a\", \"layer\": \"below\", \"line\": {\"color\": \"rgb(175,175,175)\", \"width\": 0.5}, \"path\": \"M -0.983749780381363,0.17954489577712934 Q -0.027994770849513406, -0.19803104000404392 0.9949695425074718, -0.10017788918954187L 0.9949695425074718, -0.10017788918954187 L 0.9948488863735903, -0.1013690943099879 L 0.9947268040964302, -0.10256015411504626 M 0.9947268040964302,-0.10256015411504626 Q -0.027977658702832683, -0.19803345831830493 -0.9842075051525095, 0.17701860580592327L -0.9842075051525095, 0.17701860580592327 L -0.9839794535236579, 0.1782818976881374 L -0.983749780381363, 0.17954489577712934 \", \"type\": \"path\"}, {\"fillcolor\": \"#bf4d28\", \"layer\": \"below\", \"line\": {\"color\": \"rgb(175,175,175)\", \"width\": 0.5}, \"path\": \"M -0.9994049448794752,-0.03449284201762886 Q -0.19806456253784355, -0.02775660401945201 -0.9703878057131559, -0.2415522852783771L -0.9703878057131559, -0.2415522852783771 L -0.973544858029996, -0.2284959724007293 L -0.9765262494761795, -0.21539843101560968 M -0.9765262494761795,-0.21539843101560968 Q -0.19807023142746827, -0.02771612206404711 -0.9981427409203794, -0.060918541905994876L -0.9981427409203794, -0.060918541905994876 L -0.9988612359405765, -0.04770986622559164 L -0.9994049448794752, -0.03449284201762886 \", \"type\": \"path\"}, {\"fillcolor\": \"#bf4d28\", \"layer\": \"below\", \"line\": {\"color\": \"rgb(175,175,175)\", \"width\": 0.5}, \"path\": \"M -0.9987617550569671,0.04974893602406839 Q -0.19833259789921648, -0.025771701739460598 -0.952879588073652, -0.30334879368902606L -0.952879588073652, -0.30334879368902606 L -0.9530289403151234, -0.30287924808714256 L -0.9531780611810251, -0.3024096289524887 M -0.9531780611810251,-0.3024096289524887 Q -0.19833266978226916, -0.02577114853935278 -0.9988100232568322, 0.04877025160573171L -0.9988100232568322, 0.04877025160573171 L -0.9987860090303309, 0.0492595997269943 L -0.9987617550569671, 0.04974893602406839 \", \"type\": \"path\"}, {\"fillcolor\": \"#bf4d28\", \"layer\": \"below\", \"line\": {\"color\": \"rgb(175,175,175)\", \"width\": 0.5}, \"path\": \"M -0.9989310322945414,0.046225455313733475 Q -0.1951498797750058, -0.04377812723039652 -0.8834613582519847, -0.4685040325072542L -0.8834613582519847, -0.4685040325072542 L -0.883929881028881, -0.4676194664727595 L -0.8843975181339694, -0.4667344318972785 M -0.8843975181339694,-0.4667344318972785 Q -0.19515509229032746, -0.043754884906188236 -0.9990110096879412, 0.044463496514335156L -0.9990110096879412, 0.044463496514335156 L -0.9989714094532364, 0.04534449354678385 L -0.9989310322945414, 0.046225455313733475 \", \"type\": \"path\"}, {\"fillcolor\": \"#bf4d28\", \"layer\": \"below\", \"line\": {\"color\": \"rgb(175,175,175)\", \"width\": 0.5}, \"path\": \"M -0.9998480379911575,0.0174327543788387 Q -0.17819877110378046, -0.09080307250915283 -0.5735468205926763, -0.8191727806684207L -0.5735468205926763, -0.8191727806684207 L -0.5770573909959037, -0.8167035983127543 L -0.5805573314445167, -0.8142193714878206 M -0.5805573314445167,-0.8142193714878206 Q -0.17825035907385745, -0.090701761228991 -0.9999501343750677, 0.009986428955530357L -0.9999501343750677, 0.009986428955530357 L -0.9999060178288763, 0.013709686706808565 L -0.9998480379911575, 0.0174327543788387 \", \"type\": \"path\"}, {\"fillcolor\": \"#bf4d28\", \"layer\": \"below\", \"line\": {\"color\": \"rgb(175,175,175)\", \"width\": 0.5}, \"path\": \"M -0.9986623418121869,0.0517061606213284 Q -0.1510967422837796, -0.13103348606836765 -0.09013615961422812, -0.9959294516831995L -0.09013615961422812, -0.9959294516831995 L -0.09036499145939735, -0.9959087148521912 L -0.09059381853383543, -0.9958879254431487 M -0.09059381853383543,-0.9958879254431487 Q -0.15108833058048426, -0.13104318510476728 -0.9986925685280158, 0.051119013751386125L -0.9986925685280158, 0.051119013751386125 L -0.9986774983198489, 0.051412589407735285 L -0.9986623418121869, 0.0517061606213284 \", \"type\": \"path\"}, {\"fillcolor\": \"#bf4d28\", \"layer\": \"below\", \"line\": {\"color\": \"rgb(175,175,175)\", \"width\": 0.5}, \"path\": \"M -0.9997049455238021,0.02429036630542733 Q -0.14230910169469052, -0.14052800281385286 0.011698134554028676, -0.9999315744829522L 0.011698134554028676, -0.9999315744829522 L 0.007696032809981944, -0.9999703851009727 L 0.00369380778838327, -0.9999931778687405 M 0.00369380778838327,-0.9999931778687405 Q -0.14238956345044174, -0.14044647457445356 -0.9998480379911575, 0.0174327543788387L -0.9998480379911575, 0.0174327543788387 L -0.9997823714095123, 0.020861683028270045 L -0.9997049455238021, 0.02429036630542733 \", \"type\": \"path\"}, {\"fillcolor\": \"#bf4d28\", \"layer\": \"below\", \"line\": {\"color\": \"rgb(175,175,175)\", \"width\": 0.5}, \"path\": \"M -0.9981427409203794,-0.060918541905994876 Q -0.0583267273935907, -0.19130601891094215 0.7943710766926948, -0.6074327884746499L 0.7943710766926948, -0.6074327884746499 L 0.7843346006561296, -0.620337999975489 L 0.7740884913263324, -0.6330774104295008 M 0.7740884913263324,-0.6330774104295008 Q -0.05869862896196609, -0.1911922356111394 -0.9959738646345321, -0.08964407936364058L -0.9959738646345321, -0.08964407936364058 L -0.9971617462894464, -0.07528912097362904 L -0.9981427409203794, -0.060918541905994876 \", \"type\": \"path\"}, {\"fillcolor\": \"#bf4d28\", \"layer\": \"below\", \"line\": {\"color\": \"rgb(175,175,175)\", \"width\": 0.5}, \"path\": \"M -0.9988666791988626,0.04759576857491029 Q -0.047333012030668004, -0.1943182594922686 0.9088614382969734, -0.417098173068112L 0.9088614382969734, -0.417098173068112 L 0.9085741772789968, -0.4177235501881527 L 0.9082864859462662, -0.4183487294678726 M 0.9082864859462662,-0.4183487294678726 Q -0.047333456132864174, -0.19431815131510033 -0.9989310322945414, 0.046225455313733475L -0.9989310322945414, 0.046225455313733475 L -0.9988990907252239, 0.04691062297945919 L -0.9988666791988626, 0.04759576857491029 \", \"type\": \"path\"}, {\"fillcolor\": \"#bf4d28\", \"layer\": \"below\", \"line\": {\"color\": \"rgb(175,175,175)\", \"width\": 0.5}, \"path\": \"M -0.999867580918018,-0.016273310331667054 Q -0.014352585043284367, -0.1994843435023794 0.987239491178278, -0.15924254160887608L 0.987239491178278, -0.15924254160887608 L 0.9857970341457254, -0.16794108332832508 L 0.9842779360168251, -0.1766265684161326 M 0.9842779360168251,-0.1766265684161326 Q -0.014293642844654897, -0.19948857554814875 -0.9994049448794752, -0.03449284201762886L -0.9994049448794752, -0.03449284201762886 L -0.9996777710521956, -0.025384130162643362 L -0.999867580918018, -0.016273310331667054 \", \"type\": \"path\"}, {\"fillcolor\": \"#bf4d28\", \"layer\": \"below\", \"line\": {\"color\": \"rgb(175,175,175)\", \"width\": 0.5}, \"path\": \"M -0.9999501343750677,0.009986428955530357 Q -0.007576400832329102, -0.19985644385515292 0.9978362538204959, -0.06574808408979646L 0.9978362538204959, -0.06574808408979646 L 0.997545988531541, -0.07001428971739047 L 0.9972374833492127, -0.0742792151501936 M 0.9972374833492127,-0.0742792151501936 Q -0.007451829243094345, -0.19986112738832373 -0.9999999823552881, 0.00018785479394414412L -0.9999999823552881, 0.00018785479394414412 L -0.99998706009945, 0.005087202930785073 L -0.9999501343750677, 0.009986428955530357 \", \"type\": \"path\"}, {\"fillcolor\": \"#af4624\", \"layer\": \"below\", \"line\": {\"color\": \"rgb(175,175,175)\", \"width\": 0.5}, \"path\": \"M -0.991952464508339,-0.12661085323080562 Q -0.19507386637882992, -0.044115605583675443 -0.9499056271248616, -0.312536877114563L -0.9499056271248616, -0.312536877114563 L -0.9503052348596341, -0.3113197080147283 L -0.9507032829658477, -0.3101020279810491 M -0.9507032829658477,-0.3101020279810491 Q -0.1950733180317637, -0.044118030237969424 -0.9916215986664051, -0.12917664285110947L -0.9916215986664051, -0.12917664285110947 L -0.9917878613110692, -0.1278938550361794 L -0.991952464508339, -0.12661085323080562 \", \"type\": \"path\"}, {\"fillcolor\": \"#af4624\", \"layer\": \"below\", \"line\": {\"color\": \"rgb(175,175,175)\", \"width\": 0.5}, \"path\": \"M -0.9916215986664051,-0.12917664285110947 Q -0.19035018507762758, -0.061374319066796384 -0.8803152739881741, -0.47438910019426656L -0.8803152739881741, -0.47438910019426656 L -0.8811580686996677, -0.4728218036062546 L -0.8819980730289423, -0.47125300972326173 M -0.8819980730289423,-0.47125300972326173 Q -0.1903616898387968, -0.06133862601752449 -0.9912052687057992, -0.13233334912207312L -0.9912052687057992, -0.13233334912207312 L -0.9914146900726696, -0.13075516168821968 L -0.9916215986664051, -0.12917664285110947 \", \"type\": \"path\"}, {\"fillcolor\": \"#af4624\", \"layer\": \"below\", \"line\": {\"color\": \"rgb(175,175,175)\", \"width\": 0.5}, \"path\": \"M -0.9873875290490673,-0.15832203724806343 Q -0.1699603600434838, -0.10542047246094738 -0.5805573314445167, -0.8142193714878206L -0.5805573314445167, -0.8142193714878206 L -0.5838632005998489, -0.8118520573265184 L -0.5871594167757074, -0.8094713208580099 M -0.5871594167757074,-0.8094713208580099 Q -0.17001136642879794, -0.10533819480612434 -0.9862279657637315, -0.1653916550057227L -0.9862279657637315, -0.1653916550057227 L -0.9868140783425732, -0.16185788453114638 L -0.9873875290490673, -0.15832203724806343 \", \"type\": \"path\"}, {\"fillcolor\": \"#af4624\", \"layer\": \"below\", \"line\": {\"color\": \"rgb(175,175,175)\", \"width\": 0.5}, \"path\": \"M -0.992666623075354,-0.12088414053205208 Q -0.13925102541683781, -0.14355887962908875 -0.09059381853383543, -0.9958879254431487L -0.09059381853383543, -0.9958879254431487 L -0.09082264082546078, -0.9958670834571697 L -0.09105145832219207, -0.9958461888953545 M -0.09105145832219207,-0.9958461888953545 Q -0.13924115762952516, -0.14356845064981974 -0.9925942773568893, -0.12147674904422916L -0.9925942773568893, -0.12147674904422916 L -0.9926304944401378, -0.12118045018701405 L -0.992666623075354, -0.12088414053205208 \", \"type\": \"path\"}, {\"fillcolor\": \"#af4624\", \"layer\": \"below\", \"line\": {\"color\": \"rgb(175,175,175)\", \"width\": 0.5}, \"path\": \"M -0.9883757103096227,-0.15203109968012737 Q -0.12994761002799557, -0.1520316369970803 0.00369380778838327, -0.9999931778687405L 0.00369380778838327, -0.9999931778687405 L 3.457724427316907e-05, -0.9999999994022071 L -0.003624653762825853, -0.9999934309209734 M -0.003624653762825853,-0.9999934309209734 Q -0.13001984007869302, -0.15196986933570447 -0.9873875290490673, -0.15832203724806343L -0.9873875290490673, -0.15832203724806343 L -0.9878866273384598, -0.15517735506781613 L -0.9883757103096227, -0.15203109968012737 \", \"type\": \"path\"}, {\"fillcolor\": \"#af4624\", \"layer\": \"below\", \"line\": {\"color\": \"rgb(175,175,175)\", \"width\": 0.5}, \"path\": \"M -0.9703878057131559,-0.2415522852783771 Q -0.03371756406165367, -0.1971373274490356 0.8349475793970222, -0.550329482818296L 0.8349475793970222, -0.550329482818296 L 0.8250858876322371, -0.5650073256428835 L 0.8149661980826542, -0.579508495177339 M 0.8149661980826542,-0.579508495177339 Q -0.034084696103303586, -0.1970741827118546 -0.9622602944139407, -0.27213071453695953L -0.9622602944139407, -0.27213071453695953 L -0.9664449957525775, -0.25687364634154375 L -0.9703878057131559, -0.2415522852783771 \", \"type\": \"path\"}, {\"fillcolor\": \"#af4624\", \"layer\": \"below\", \"line\": {\"color\": \"rgb(175,175,175)\", \"width\": 0.5}, \"path\": \"M -0.9924240949172234,-0.12285933349863949 Q -0.030276509282219477, -0.19769505048352545 0.9101691478052697, -0.4142367950622314L 0.9101691478052697, -0.4142367950622314 L 0.9098022644740186, -0.41504197324842695 L 0.9094346688446638, -0.41584682649191473 M 0.9094346688446638,-0.41584682649191473 Q -0.030274396468063753, -0.19769537404424642 -0.9922024592219282, -0.1246365913925679L -0.9922024592219282, -0.1246365913925679 L -0.9923136749586625, -0.12374801206497783 L -0.9924240949172234, -0.12285933349863949 \", \"type\": \"path\"}, {\"fillcolor\": \"#af4624\", \"layer\": \"below\", \"line\": {\"color\": \"rgb(175,175,175)\", \"width\": 0.5}, \"path\": \"M -0.9829982994135578,-0.18361465995408294 Q 0.0007104286957830972, -0.19999873822369033 0.9842779360168251, -0.1766265684161326L 0.9842779360168251, -0.1766265684161326 L 0.9830145159280773, -0.18352782207253426 L 0.9817027083925035, -0.19042004184124978 M 0.9817027083925035,-0.19042004184124978 Q 0.0007798558175440985, -0.19999847955648023 -0.9801878655507873, -0.19807005888571788L -0.9801878655507873, -0.19807005888571788 L -0.9816196917423883, -0.19084753282025602 L -0.9829982994135578, -0.18361465995408294 \", \"type\": \"path\"}, {\"fillcolor\": \"#af4624\", \"layer\": \"below\", \"line\": {\"color\": \"rgb(175,175,175)\", \"width\": 0.5}, \"path\": \"M -0.9848457047818053,-0.17343280477703504 Q 0.011734548673627054, -0.1996554541389398 0.9983815568664225, -0.05687061551432596L 0.9983815568664225, -0.05687061551432596 L 0.9981187751405118, -0.06130995605939074 L 0.9978362538204959, -0.06574808408979646 M 0.9978362538204959,-0.06574808408979646 Q 0.011879686274036946, -0.1996468708846459 -0.9829982994135578, -0.18361465995408294L -0.9829982994135578, -0.18361465995408294 L -0.9839351725371045, -0.17852612202246032 L -0.9848457047818053, -0.17343280477703504 \", \"type\": \"path\"}, {\"fillcolor\": \"#9f4021\", \"layer\": \"below\", \"line\": {\"color\": \"rgb(175,175,175)\", \"width\": 0.5}, \"path\": \"M -0.9264755796834477,-0.3763548860453647 Q -0.17580249385163557, -0.09535975647801145 -0.8207008302794923, -0.5713581601574901L -0.8207008302794923, -0.5713581601574901 L -0.8266292658940553, -0.5627468851690387 L -0.8324673505944408, -0.5540741017176967 M -0.8324673505944408,-0.5540741017176967 Q -0.1759159880261808, -0.09515022415513598 -0.919344443699304, -0.3934536743242045L -0.919344443699304, -0.3934536743242045 L -0.9229496095780781, -0.3849207946833648 L -0.9264755796834477, -0.3763548860453647 \", \"type\": \"path\"}, {\"fillcolor\": \"#9f4021\", \"layer\": \"below\", \"line\": {\"color\": \"rgb(175,175,175)\", \"width\": 0.5}, \"path\": \"M -0.9365062321740996,-0.35065093340681625 Q -0.15512882735536948, -0.12623409572436434 -0.53367461793327, -0.8456898971690382L -0.53367461793327, -0.8456898971690382 L -0.5403441110995802, -0.841444140510827 L -0.5469798281180954, -0.8371457863669259 M -0.5469798281180954,-0.8371457863669259 Q -0.15525600387089267, -0.12607764774947763 -0.9315795624225118, -0.3635375068362016L -0.9315795624225118, -0.3635375068362016 L -0.9340651208224728, -0.35710271640369684 L -0.9365062321740996, -0.35065093340681625 \", \"type\": \"path\"}, {\"fillcolor\": \"#9f4021\", \"layer\": \"below\", \"line\": {\"color\": \"rgb(175,175,175)\", \"width\": 0.5}, \"path\": \"M -0.9499056271248616,-0.312536877114563 Q -0.12388287232651658, -0.1570128464302587 -0.08296374649838632, -0.9965525659828244L -0.08296374649838632, -0.9965525659828244 L -0.08410857849255785, -0.9964565956548038 L -0.08525329947597168, -0.996359310152949 M -0.08525329947597168,-0.996359310152949 Q -0.12383115637806304, -0.15705363641148748 -0.9489775065993787, -0.3153437679238739L -0.9489775065993787, -0.3153437679238739 L -0.9494426041339211, -0.3139406655012988 L -0.9499056271248616, -0.312536877114563 \", \"type\": \"path\"}, {\"fillcolor\": \"#9f4021\", \"layer\": \"below\", \"line\": {\"color\": \"rgb(175,175,175)\", \"width\": 0.5}, \"path\": \"M -0.9100279502978211,-0.4145468968364693 Q -0.09633942886698889, -0.17526755103436115 0.13773162602935865, -0.9904695851924525L 0.13773162602935865, -0.9904695851924525 L 0.12299296778202133, -0.9924075422305952 L 0.10822713009058599, -0.9941261933539199 M 0.10822713009058599,-0.9941261933539199 Q -0.09669936068846569, -0.17506922528657634 -0.8991090000455314, -0.4377248062848674L -0.8991090000455314, -0.4377248062848674 L -0.904642708557368, -0.42617082238697307 L -0.9100279502978211, -0.4145468968364693 \", \"type\": \"path\"}, {\"fillcolor\": \"#9f4021\", \"layer\": \"below\", \"line\": {\"color\": \"rgb(175,175,175)\", \"width\": 0.5}, \"path\": \"M -0.9467161929869268,-0.3220690142443698 Q -0.053196428579809954, -0.19279559120050743 0.6476048933602269, -0.7619763133430653L 0.6476048933602269, -0.7619763133430653 L 0.6452289281716683, -0.7639892867380014 L 0.6428467060223902, -0.7659948515206629 M 0.6428467060223902,-0.7659948515206629 Q -0.053264824976966524, -0.1927767061140249 -0.9449244374451893, -0.3272885691845846L -0.9449244374451893, -0.3272885691845846 L -0.9458239157548548, -0.3246800276982761 L -0.9467161929869268, -0.3220690142443698 \", \"type\": \"path\"}, {\"fillcolor\": \"#9f4021\", \"layer\": \"below\", \"line\": {\"color\": \"rgb(175,175,175)\", \"width\": 0.5}, \"path\": \"M -0.952879588073652,-0.30334879368902606 Q -0.012569809485728304, -0.19960460888840342 0.9072968506567798, -0.42049069524579136L 0.9072968506567798, -0.42049069524579136 L 0.9070900406597845, -0.4209366438501529 L 0.9068830114730687, -0.42138249073915957 M 0.9068830114730687,-0.42138249073915957 Q -0.012569578583424116, -0.1996046234290056 -0.9525801896090947, -0.30428766383851485L -0.9525801896090947, -0.30428766383851485 L -0.9527300044928705, -0.303818265644143 L -0.952879588073652, -0.30334879368902606 \", \"type\": \"path\"}, {\"fillcolor\": \"#9f4021\", \"layer\": \"below\", \"line\": {\"color\": \"rgb(175,175,175)\", \"width\": 0.5}, \"path\": \"M -0.9520389414014382,-0.3059768848381017 Q 0.005584419280801382, -0.19992202045121546 0.9676348094747276, -0.25235466211823326L 0.9676348094747276, -0.25235466211823326 L 0.9674191248193189, -0.2531802459391788 L 0.9672027357778067, -0.2540056454174321 M 0.9672027357778067,-0.2540056454174321 Q 0.005591139555660475, -0.1999218326208249 -0.951494697682074, -0.3076651431067529L -0.951494697682074, -0.3076651431067529 L -0.9517671938739143, -0.30682113464586325 L -0.9520389414014382, -0.3059768848381017 \", \"type\": \"path\"}, {\"fillcolor\": \"#9f4021\", \"layer\": \"below\", \"line\": {\"color\": \"rgb(175,175,175)\", \"width\": 0.5}, \"path\": \"M -0.9479783696255116,-0.3183347463318399 Q 0.02265596137414353, -0.1987126252008496 0.9953064144434581, -0.09677366050587903L 0.9953064144434581, -0.09677366050587903 L 0.9951394341485357, -0.09847591889661243 L 0.9949695425074718, -0.10017788918954187 M 0.9949695425074718,-0.10017788918954187 Q 0.022707720519252694, -0.19870671712053298 -0.9467161929869268, -0.3220690142443698L -0.9467161929869268, -0.3220690142443698 L -0.9473491212786843, -0.3202025021958834 L -0.9479783696255116, -0.3183347463318399 \", \"type\": \"path\"}, {\"fillcolor\": \"#8f391e\", \"layer\": \"below\", \"line\": {\"color\": \"rgb(175,175,175)\", \"width\": 0.5}, \"path\": \"M -0.797306619740268,-0.6035744810032543 Q -0.11596689767612521, -0.16294685834153144 -0.30908566038443974, -0.951034202615613L -0.30908566038443974, -0.951034202615613 L -0.3461121244104187, -0.9381931556647101 L -0.38260701160227856, -0.9239111833248767 M -0.38260701160227856,-0.9239111833248767 Q -0.11606446925266756, -0.1628773740489961 -0.748390794588681, -0.6632580331778295L -0.748390794588681, -0.6632580331778295 L -0.7734246283677829, -0.6338882742519827 L -0.797306619740268, -0.6035744810032543 \", \"type\": \"path\"}, {\"fillcolor\": \"#8f391e\", \"layer\": \"below\", \"line\": {\"color\": \"rgb(175,175,175)\", \"width\": 0.5}, \"path\": \"M -0.8696558317851226,-0.4936585198719116 Q -0.10570021754314665, -0.16978652482258855 -0.05912867740350962, -0.9982503691502006L -0.05912867740350962, -0.9982503691502006 L -0.06195730206454197, -0.9980788008573688 L -0.06478542917416603, -0.9978992174396767 M -0.06478542917416603,-0.9978992174396767 Q -0.1054825772315575, -0.1699218229086203 -0.8655634556912539, -0.5007992653467203L -0.8655634556912539, -0.5007992653467203 L -0.8676169900762605, -0.4972331028109553 L -0.8696558317851226, -0.4936585198719116 \", \"type\": \"path\"}, {\"fillcolor\": \"#8f391e\", \"layer\": \"below\", \"line\": {\"color\": \"rgb(175,175,175)\", \"width\": 0.5}, \"path\": \"M -0.748390794588681,-0.6632580331778295 Q -0.04171265811825676, -0.19560177441094298 0.4127043876703219, -0.910865022051931L 0.4127043876703219, -0.910865022051931 L 0.3758221723302362, -0.9266918014016214 L 0.33833458836512964, -0.9410258797269065 M 0.33833458836512964,-0.9410258797269065 Q -0.04192757313679216, -0.19555581968036376 -0.6943783803640008, -0.7196100783640172L -0.6943783803640008, -0.7196100783640172 L -0.7219346309033644, -0.6919612624290633 L -0.748390794588681, -0.6632580331778295 \", \"type\": \"path\"}, {\"fillcolor\": \"#8f391e\", \"layer\": \"below\", \"line\": {\"color\": \"rgb(175,175,175)\", \"width\": 0.5}, \"path\": \"M -0.8655634556912539,-0.5007992653467203 Q -0.030329423992395268, -0.19768693947828098 0.6756201073919545, -0.7372499375976127L 0.6756201073919545, -0.7372499375976127 L 0.6711802778639462, -0.7412941619940603 L 0.6667162403149394, -0.7453116495133508 M 0.6667162403149394,-0.7453116495133508 Q -0.03032937459811487, -0.19768694705641854 -0.8594856477540411, -0.5111598784185006L -0.8594856477540411, -0.5111598784185006 L -0.8625401079950775, -0.5059886976008852 L -0.8655634556912539, -0.5007992653467203 \", \"type\": \"path\"}, {\"fillcolor\": \"#8f391e\", \"layer\": \"below\", \"line\": {\"color\": \"rgb(175,175,175)\", \"width\": 0.5}, \"path\": \"M -0.8765953052037818,-0.48122829394653077 Q 0.008632885377015315, -0.1998135963593752 0.9148339843610589, -0.4038301388679031L 0.9148339843610589, -0.4038301388679031 L 0.9135989719765396, -0.4066164266276143 L 0.9123554734862971, -0.40939893746759376 M 0.9123554734862971,-0.40939893746759376 Q 0.008712831335008171, -0.19981012629525988 -0.8732560971167279, -0.4872615199751156L -0.8732560971167279, -0.4872615199751156 L -0.8749309015601412, -0.4842477852248356 L -0.8765953052037818, -0.48122829394653077 \", \"type\": \"path\"}, {\"fillcolor\": \"#8f391e\", \"layer\": \"below\", \"line\": {\"color\": \"rgb(175,175,175)\", \"width\": 0.5}, \"path\": \"M -0.8849160755966474,-0.4657505117019504 Q 0.022396872148487262, -0.1987419938462033 0.9663789119428774, -0.25712214714431025L 0.9663789119428774, -0.25712214714431025 L 0.9663301389095099, -0.25730538788592666 L 0.9662813311307972, -0.25748861937587614 M 0.9662813311307972,-0.25748861937587614 Q 0.02240339494196321, -0.19874125866330428 -0.8847087839327115, -0.46614414898430595L -0.8847087839327115, -0.46614414898430595 L -0.8848124516549556, -0.46594734187067416 L -0.8849160755966474, -0.4657505117019504 \", \"type\": \"path\"}, {\"fillcolor\": \"#8f391e\", \"layer\": \"below\", \"line\": {\"color\": \"rgb(175,175,175)\", \"width\": 0.5}, \"path\": \"M -0.8847087839327115,-0.46614414898430595 Q 0.037415362806658824, -0.19646905768096434 0.9941135526295783, -0.1083431791955477L 0.9941135526295783, -0.1083431791955477 L 0.9940857229165136, -0.1085982296980594 L 0.9940578277675061, -0.10885327305206442 M 0.9940578277675061,-0.10885327305206442 Q 0.037430509930445305, -0.19646617247339768 -0.8843975181339694, -0.4667344318972785L -0.8843975181339694, -0.4667344318972785 L -0.8845532002720305, -0.46643931640515585 L -0.8847087839327115, -0.46614414898430595 \", \"type\": \"path\"}, {\"fillcolor\": \"#f0f3e7\", \"layer\": \"below\", \"line\": {\"color\": \"rgb(175,175,175)\", \"width\": 0.5}, \"path\": \"M -0.5567753496262683,-0.830663114655121 Q -0.06250713712413832, -0.1899812038296004 -0.04520842178063781, -0.9989775766252734L -0.04520842178063781, -0.9989775766252734 L -0.04918665232938392, -0.9987896040871813 L -0.05316410269656991, -0.9985857890959938 M -0.05316410269656991,-0.9985857890959938 Q -0.062147856936087445, -0.1900990370261028 -0.5469798281180954, -0.8371457863669259L -0.5469798281180954, -0.8371457863669259 L -0.5518871074391064, -0.8339188333659915 L -0.5567753496262683, -0.830663114655121 \", \"type\": \"path\"}, {\"fillcolor\": \"#f0f3e7\", \"layer\": \"below\", \"line\": {\"color\": \"rgb(175,175,175)\", \"width\": 0.5}, \"path\": \"M -0.30908566038443974,-0.951034202615613 Q 0.02059640509913073, -0.19893664342446443 0.4973671812242319, -0.867540135694633L 0.4973671812242319, -0.867540135694633 L 0.45555112399380254, -0.890209623306771 L 0.4127043876703219, -0.910865022051931 M 0.4127043876703219,-0.910865022051931 Q 0.020480153973429255, -0.19894864486400665 -0.2184832936167329, -0.9758406890524624L -0.2184832936167329, -0.9758406890524624 L -0.2640759185325463, -0.964501896966093 L -0.30908566038443974, -0.951034202615613 \", \"type\": \"path\"}, {\"fillcolor\": \"#f0f3e7\", \"layer\": \"below\", \"line\": {\"color\": \"rgb(175,175,175)\", \"width\": 0.5}, \"path\": \"M -0.4803423907298694,-0.8770810610587333 Q 0.03818698117631461, -0.19632054010887345 0.7740884913263324, -0.6330774104295008L 0.7740884913263324, -0.6330774104295008 L 0.7644964824027519, -0.6446278991742592 L 0.7547321403568662, -0.6560330756237398 M 0.7547321403568662,-0.6560330756237398 Q 0.03823284737888136, -0.19631161295578814 -0.4533761156320484, -0.8913193018073801L -0.4533761156320484, -0.8913193018073801 L -0.4669135296343283, -0.8843029774033406 L -0.4803423907298694, -0.8770810610587333 \", \"type\": \"path\"}, {\"fillcolor\": \"#f0f3e7\", \"layer\": \"below\", \"line\": {\"color\": \"rgb(175,175,175)\", \"width\": 0.5}, \"path\": \"M -0.53367461793327,-0.8456898971690382 Q 0.06230978857837617, -0.19004602139302487 0.9307962344060264, -0.3655384658494391L 0.9307962344060264, -0.3655384658494391 L 0.9282220158003293, -0.3720267320819477 L 0.9256025703193653, -0.37849687160950807 M 0.9256025703193653,-0.37849687160950807 Q 0.06250719716357815, -0.18998118407556464 -0.5200430417839892, -0.8541400556653785L -0.5200430417839892, -0.8541400556653785 L -0.5268757708365964, -0.8499423051627342 L -0.53367461793327, -0.8456898971690382 \", \"type\": \"path\"}, {\"fillcolor\": \"#f0f3e7\", \"layer\": \"below\", \"line\": {\"color\": \"rgb(175,175,175)\", \"width\": 0.5}, \"path\": \"M -0.6000659761972308,-0.7999505136009755 Q 0.06659617406084634, -0.1885867163944944 0.9693349100810138, -0.24574342737544966L 0.9693349100810138, -0.24574342737544966 L 0.9689141165405832, -0.24739732166775985 L 0.9684905011021884, -0.24905049543181423 M 0.9684905011021884,-0.24905049543181423 Q 0.06665773505973044, -0.18856496587835925 -0.596808365544116, -0.8023838076734605L -0.596808365544116, -0.8023838076734605 L -0.5984384076157765, -0.8011688163491473 L -0.6000659761972308, -0.7999505136009755 \", \"type\": \"path\"}, {\"fillcolor\": \"#f0f3e7\", \"layer\": \"below\", \"line\": {\"color\": \"rgb(175,175,175)\", \"width\": 0.5}, \"path\": \"M -0.5931772280879718,-0.8050719073957744 Q 0.08280583847316014, -0.18205272070133122 0.9966362277084672, -0.08195260593194399L 0.9966362277084672, -0.08195260593194399 L 0.9964009717224063, -0.0847649901235441 L 0.9961577795518464, -0.08757669917469485 M 0.9961577795518464,-0.08757669917469485 Q 0.08297056740609038, -0.18197770452533854 -0.5871594167757074, -0.8094713208580099L -0.5871594167757074, -0.8094713208580099 L -0.5901724218495086, -0.80727722158394 L -0.5931772280879718, -0.8050719073957744 \", \"type\": \"path\"}, {\"fillcolor\": \"#e2ecde\", \"layer\": \"below\", \"line\": {\"color\": \"rgb(175,175,175)\", \"width\": 0.5}, \"path\": \"M -0.04520842178063781,-0.9989775766252734 Q 0.001038538656683452, -0.1999973035754697 0.05558061220607758, -0.9984542030292615L 0.05558061220607758, -0.9984542030292615 L 0.04850045853646913, -0.9988231602850187 L 0.041417867005598547, -0.9991419119888358 M 0.041417867005598547,-0.9991419119888358 Q 0.0005703014532072386, -0.19999918688897833 -0.03571909578283307, -0.9993618694929564L -0.03571909578283307, -0.9993618694929564 L -0.040464214992984526, -0.9991809882623875 L -0.04520842178063781, -0.9989775766252734 \", \"type\": \"path\"}, {\"fillcolor\": \"#e2ecde\", \"layer\": \"below\", \"line\": {\"color\": \"rgb(175,175,175)\", \"width\": 0.5}, \"path\": \"M -0.08296374649838632,-0.9965525659828244 Q 0.060549631548290454, -0.19061411836316394 0.6428467060223902, -0.7659948515206629L 0.6428467060223902, -0.7659948515206629 L 0.641226646444799, -0.7673515412698124 L 0.6396037236619153, -0.7687048046407752 M 0.6396037236619153,-0.7687048046407752 Q 0.06042421428673006, -0.19065391243777646 -0.08006301883108068, -0.996789803828096L -0.08006301883108068, -0.996789803828096 L -0.08151346897228755, -0.9966722401953934 L -0.08296374649838632, -0.9965525659828244 \", \"type\": \"path\"}, {\"fillcolor\": \"#e2ecde\", \"layer\": \"below\", \"line\": {\"color\": \"rgb(175,175,175)\", \"width\": 0.5}, \"path\": \"M -0.08845791479242392,-0.996079915122565 Q 0.10029417774517767, -0.1730349037345319 0.9082864859462662, -0.4183487294678726L 0.9082864859462662, -0.4183487294678726 L 0.9079983644350367, -0.4189737106111771 L 0.907709812881767, -0.41959849332206556 M 0.907709812881767,-0.41959849332206556 Q 0.10026786344780858, -0.17305015330710233 -0.08738980975281188, -0.9961741921729188L -0.08738980975281188, -0.9961741921729188 L -0.0879238749087798, -0.9961271968082316 L -0.08845791479242392, -0.996079915122565 \", \"type\": \"path\"}, {\"fillcolor\": \"#e2ecde\", \"layer\": \"below\", \"line\": {\"color\": \"rgb(175,175,175)\", \"width\": 0.5}, \"path\": \"M -0.08952591812873925,-0.9959844928427382 Q 0.11492820394773338, -0.16368111661810048 0.9672027357778067, -0.2540056454174321L 0.9672027357778067, -0.2540056454174321 L 0.9670339463078187, -0.25464749495788663 L 0.9668647308973647, -0.255289232336122 M 0.9668647308973647,-0.255289232336122 Q 0.11490732658463619, -0.16369577360815327 -0.08845791479242392, -0.996079915122565L -0.08845791479242392, -0.996079915122565 L -0.08899192925024202, -0.9960323471295096 L -0.08952591812873925, -0.9959844928427382 \", \"type\": \"path\"}, {\"fillcolor\": \"#e2ecde\", \"layer\": \"below\", \"line\": {\"color\": \"rgb(175,175,175)\", \"width\": 0.5}, \"path\": \"M -0.09135654083823233,-0.9958182476968739 Q 0.12652691589862833, -0.15489008862151715 0.9940205324494256, -0.10919331970849037L 0.9940205324494256, -0.10919331970849037 L 0.9940018411690109, -0.10936333824740521 L 0.993983120808409, -0.10953335358682258 M 0.993983120808409,-0.10953335358682258 Q 0.12652414904486695, -0.15489234877317956 -0.09105145832219207, -0.9958461888953545L -0.09105145832219207, -0.9958461888953545 L -0.09120400065021814, -0.9958322299792245 L -0.09135654083823233, -0.9958182476968739 \", \"type\": \"path\"}, {\"fillcolor\": \"#d4e5d6\", \"layer\": \"below\", \"line\": {\"color\": \"rgb(175,175,175)\", \"width\": 0.5}, \"path\": \"M 0.16891799266386773,-0.9856301089934345 Q 0.10644072838953739, -0.16932327465503594 0.8149661980826542, -0.579508495177339L 0.8149661980826542, -0.579508495177339 L 0.8047897598344396, -0.5935599737731858 L 0.7943710766926948, -0.6074327884746499 M 0.7943710766926948,-0.6074327884746499 Q 0.10652353284532096, -0.16927119350365505 0.20396793415581016, -0.9789775696287485L 0.20396793415581016, -0.9789775696287485 L 0.18647263250955098, -0.9824601555915425 L 0.16891799266386773, -0.9856301089934345 \", \"type\": \"path\"}, {\"fillcolor\": \"#d4e5d6\", \"layer\": \"below\", \"line\": {\"color\": \"rgb(175,175,175)\", \"width\": 0.5}, \"path\": \"M 0.071785344840925,-0.9974201042018701 Q 0.11972545190138816, -0.16020554349649826 0.9362237183158333, -0.3514045379087686L 0.9362237183158333, -0.3514045379087686 L 0.9335367255470679, -0.3584817736717705 L 0.9307962344060264, -0.3655384658494391 M 0.9307962344060264,-0.3655384658494391 Q 0.11992319422129637, -0.16005757554005756 0.08933796166325389, -0.9960013697811138L 0.08933796166325389, -0.9960013697811138 L 0.08056477627691305, -0.996749375130705 L 0.071785344840925, -0.9974201042018701 \", \"type\": \"path\"}, {\"fillcolor\": \"#d4e5d6\", \"layer\": \"below\", \"line\": {\"color\": \"rgb(175,175,175)\", \"width\": 0.5}, \"path\": \"M -0.004310755650763509,-0.9999907086496951 Q 0.12159470064323025, -0.15879146316941356 0.9665250225533769, -0.25657236947534734L 0.9665250225533769, -0.25657236947534734 L 0.9664520063415702, -0.2568472686994229 L 0.9663789119428774, -0.25712214714431025 M 0.9663789119428774,-0.25712214714431025 Q 0.12160400922271473, -0.15878433468375244 -0.003624653762825853, -0.9999934309209734L -0.003624653762825853, -0.9999934309209734 L -0.003967704940265515, -0.9999921286277742 L -0.004310755650763509, -0.9999907086496951 \", \"type\": \"path\"}, {\"fillcolor\": \"#d4e5d6\", \"layer\": \"below\", \"line\": {\"color\": \"rgb(175,175,175)\", \"width\": 0.5}, \"path\": \"M 0.020844988871346386,-0.9997827196140937 Q 0.1375881047553779, -0.14515341342808016 0.9972374833492127, -0.0742792151501936L 0.9972374833492127, -0.0742792151501936 L 0.9969442382316341, -0.07811648901958353 L 0.9966362277084672, -0.08195260593194399 M 0.9966362277084672,-0.08195260593194399 Q 0.13777630223248538, -0.14497479278530748 0.03113307668849083, -0.9995152482758373L 0.03113307668849083, -0.9995152482758373 L 0.02598937686950005, -0.9996622190969984 L 0.020844988871346386, -0.9997827196140937 \", \"type\": \"path\"}, {\"fillcolor\": \"#c6decd\", \"layer\": \"below\", \"line\": {\"color\": \"rgb(175,175,175)\", \"width\": 0.5}, \"path\": \"M 0.6850749157947311,-0.7284726211388058 Q 0.16482612018528553, -0.11327996338570123 0.9256025703193653, -0.37849687160950807L 0.9256025703193653, -0.37849687160950807 L 0.92316493976046, -0.3844040764573996 L 0.9206896098116475, -0.39029558335302267 M 0.9206896098116475,-0.39029558335302267 Q 0.1649210623602514, -0.11314169518778686 0.695535255011096, -0.7184919686653773L 0.695535255011096, -0.7184919686653773 L 0.6903231231018356, -0.7235011995227982 L 0.6850749157947311, -0.7284726211388058 \", \"type\": \"path\"}, {\"fillcolor\": \"#c6decd\", \"layer\": \"below\", \"line\": {\"color\": \"rgb(175,175,175)\", \"width\": 0.5}, \"path\": \"M 0.7229690316310015,-0.6908804377767054 Q 0.1799130348972997, -0.0873573115087857 0.9900280439615369, -0.14087040913440002L 0.9900280439615369, -0.14087040913440002 L 0.9886764436317802, -0.15006295281519444 L 0.987239491178278, -0.15924254160887608 M 0.987239491178278,-0.15924254160887608 Q 0.1800532509904056, -0.08706794362901893 0.7378561129198906, -0.6749580406416014L 0.7378561129198906, -0.6749580406416014 L 0.7304559578925109, -0.6829598037800866 L 0.7229690316310015, -0.6908804377767054 \", \"type\": \"path\"}, {\"fillcolor\": \"#c6decd\", \"layer\": \"below\", \"line\": {\"color\": \"rgb(175,175,175)\", \"width\": 0.5}, \"path\": \"M 0.7082097027986514,-0.7060021365844765 Q 0.1836128634405017, -0.07928629376619692 0.9995065603657315, -0.031410759078131914L 0.9995065603657315, -0.031410759078131914 L 0.9992183777185991, -0.03953016100917173 L 0.9988642389276288, -0.04764695364374183 M 0.9988642389276288,-0.04764695364374183 Q 0.18380585210249592, -0.07883786357376382 0.7229690316310015, -0.6908804377767054L 0.7229690316310015, -0.6908804377767054 L 0.7156293097090305, -0.6984802725098086 L 0.7082097027986514, -0.7060021365844765 \", \"type\": \"path\"}, {\"fillcolor\": \"#b8d7c5\", \"layer\": \"below\", \"line\": {\"color\": \"rgb(175,175,175)\", \"width\": 0.5}, \"path\": \"M 0.9063021640869807,-0.4226303199857477 Q 0.18797865105203318, -0.0682936801516652 0.9662324886084939, -0.2576718416075704L 0.9662324886084939, -0.2576718416075704 L 0.9662080543190446, -0.2577634492495131 L 0.9661836113443563, -0.2578550545744216 M 0.9661836113443563,-0.2578550545744216 Q 0.18797889032354836, -0.0682930215521863 0.9063852474303613, -0.42245210762949537L 0.9063852474303613, -0.42245210762949537 L 0.9063437101388588, -0.42254121584968285 L 0.9063021640869807, -0.4226303199857477 \", \"type\": \"path\"}, {\"fillcolor\": \"#b8d7c5\", \"layer\": \"below\", \"line\": {\"color\": \"rgb(175,175,175)\", \"width\": 0.5}, \"path\": \"M 0.906468295730635,-0.4222738789401944 Q 0.19267476783733128, -0.05363239542320011 0.994279156650879, -0.10681272700206162L 0.994279156650879, -0.10681272700206162 L 0.9942333918595824, -0.10723787815594907 L 0.9941874452747784, -0.10766300970161269 M 0.9941874452747784,-0.10766300970161269 Q 0.19267819789228713, -0.05362007140036876 0.9068830114730687, -0.42138249073915957L 0.9068830114730687, -0.42138249073915957 L 0.906675763146659, -0.4218282358050768 L 0.906468295730635, -0.4222738789401944 \", \"type\": \"path\"}, {\"fillcolor\": \"#aad0bc\", \"layer\": \"below\", \"line\": {\"color\": \"rgb(175,175,175)\", \"width\": 0.5}, \"path\": \"M 0.9693349100810138,-0.24574342737544966 Q 0.19709529285677954, -0.03396241354350883 0.9956794179209733, -0.09285739996657191L 0.9956794179209733, -0.09285739996657191 L 0.9954948419972476, -0.09481571366010566 L 0.9953064144434581, -0.09677366050587903 M 0.9953064144434581,-0.09677366050587903 Q 0.1971025442226478, -0.03392030455286584 0.9703974424434707, -0.2415135683541835L 0.9703974424434707, -0.2415135683541835 L 0.9698684822100252, -0.24362907711441598 L 0.9693349100810138, -0.24574342737544966 \", \"type\": \"path\"}, {\"fillcolor\": \"#f2e6ce\", \"layer\": \"below\", \"line\": {\"color\": \"rgb(150,150,150)\", \"width\": 0.45}, \"path\": \"M 1.1, 0.0 L 1.0997048280870863, 0.025481190748316705 L 1.0988194707600871, 0.050948706347876134 L 1.0973444031692132, 0.07638887898904796 L 1.0952804169481418, 0.10178805553651699 L 1.0926286197891655, 0.12713260485659605 L 1.0893904348487211, 0.15240892513273108 L 1.0855675999836145, 0.1776034511652723 L 1.0811621668183544, 0.2027026616515944 L 1.076176499644095, 0.22769308644265757 L 1.0706132741497758, 0.25256131377211616 L 1.0644754759861446, 0.2772939974540945 L 1.0577663991634283, 0.3018778640457674 L 0.9616058174212985, 0.2744344218597885 L 0.9677049781692222, 0.252085452230995 L 0.9732847946816142, 0.22960119433828738 L 0.9783422724037226, 0.2069937149478705 L 0.9828746971075949, 0.1842751469559949 L 0.9868796363487404, 0.16145768287752024 L 0.9903549407715646, 0.13855356830248278 L 0.9932987452628776, 0.11557509532417821 L 0.995709469952856, 0.09253459594228816 L 0.997585821062921, 0.06944443544458904 L 0.9989267916000791, 0.046317005770796484 L 0.9997316618973511, 0.023164718862106092 L 1.0, 0.0 L 1.1 ,0.0\", \"type\": \"path\"}, {\"fillcolor\": \"#ecd5bb\", \"layer\": \"below\", \"line\": {\"color\": \"rgb(150,150,150)\", \"width\": 0.45}, \"path\": \"M 1.0477622424397222, 0.33495415106800064 L 1.0406273180060228, 0.3565035554094685 L 1.033049237721061, 0.3779011410990117 L 1.0250312287446097, 0.3991377958779599 L 1.0165767055820658, 0.42020447602079886 L 1.0076892686303673, 0.4410922101864822 L 0.9983727026447473, 0.4617921032389176 L 0.9886309751269801, 0.4822953400350005 L 0.9784682346358012, 0.502593189178583 L 0.9678888090202261, 0.5226770067387778 L 0.9568972035765156, 0.542538239931016 L 0.9454980991295746, 0.5621684307592889 L 0.9336963500396026, 0.5815592196180233 L 0.9214969821348415, 0.6007023488520581 L 0.9089051905713048, 0.619589666273204 L 0.8959263376203962, 0.638213128631889 L 0.882565950385362, 0.6565648050424138 L 0.8688297184475501, 0.6746368803603542 L 0.8547234914434751, 0.6924216585106765 L 0.8402532765737244, 0.7099115657651454 L 0.8254252360447649, 0.7270991539676307 L 0.8102456844447393, 0.7439771037059382 L 0.7947210860543699, 0.7605382274288144 L 0.7788580520941161, 0.776775472506798 L 0.7626633379087554, 0.792681924235614 L 0.7461438400905903, 0.8082508087808312 L 0.7293065935425018, 0.8234754960625313 L 0.712158768482106, 0.8383495025787575 L 0.6947076673882832, 0.8528664941665435 L 0.6769607218913842, 0.8670202886993453 L 0.6589254896084378, 0.8808048587197285 L 0.6406096509247046, 0.8942143340061869 L 0.6220210057229507, 0.9072430040730043 L 0.6031674700618317, 0.9198853206020898 L 0.584057072804804, 0.9321358998057547 L 0.564697952200997, 0.9439895247194222 L 0.5450983524195017, 0.9554411474232962 L 0.5252666200385555, 0.9664858911920401 L 0.5052112004911133, 0.9771190525715525 L 0.48494063446832214, 0.9873361033819543 L 0.46446355428242836, 0.9971326926459356 L 0.4437886801906693, 1.0065046484416373 L 0.422924816681712, 1.0154479796792844 L 0.4018808487262216, 1.023958877800809 L 0.3806657379931568, 1.0320337184017419 L 0.3592885190334022, 1.0396690627746816 L 0.3377582954323643, 1.0468616593736844 L 0.30705299584760387, 0.9516924176124403 L 0.32662592639400195, 0.9451536934315287 L 0.3460597618119607, 0.9382124712743106 L 0.3653462261147469, 0.9308717070916445 L 0.3844771060742836, 0.9231345269811676 L 0.40344425471879025, 0.9150042258560339 L 0.4222395948022076, 0.9064842660417596 L 0.4408551222439292, 0.8975782758017766 L 0.45928290953737577, 0.8882900477923203 L 0.4775151091259595, 0.8786235374473091 L 0.4955439567450015, 0.8685828612939056 L 0.5133617747281791, 0.8581722951994747 L 0.5309609752770945, 0.8473962725506861 L 0.5483340636925742, 0.8362593823655361 L 0.5654736415663187, 0.8247663673390947 L 0.5823724099315496, 0.8129221218238062 L 0.599023172371307, 0.8007316897452076 L 0.6154188380830765, 0.7882002624539503 L 0.6315524248984392, 0.7753331765150394 L 0.64741706225646, 0.7621359114352341 L 0.6630059941295471, 0.7486140873295739 L 0.6783125819005366, 0.7347734625280283 L 0.6933303071897776, 0.7206199311232854 L 0.7080527746310146, 0.7061595204607254 L 0.7224737145948816, 0.6913983885716494 L 0.7365869858588538, 0.6763428215508528 L 0.7503865782225135, 0.6609992308796642 L 0.7638666150670221, 0.6453741506955867 L 0.7770213558577046, 0.6294742350097059 L 0.7898451985886819, 0.6133062548730492 L 0.8023326821685108, 0.5968770954931034 L 0.8144784887458146, 0.5801937533017172 L 0.8262774459739134, 0.5632633329756399 L 0.8377245292134923, 0.5460930444109618 L 0.8488148636723659, 0.5286901996527483 L 0.8595437264814314, 0.5110622097811717 L 0.8699065487059232, 0.4932165817554691 L 0.8798989172911146, 0.47516091521707066 L 0.8895165769416374, 0.4569028992532572 L 0.8987554319336182, 0.4384503091227277 L 0.9076115478588611, 0.41981100294447055 L 0.9160811533003338, 0.4009929183513474 L 0.9241606414382416, 0.3820040691098171 L 0.9318465715860087, 0.36285254170723624 L 0.9391356706555098, 0.3435464919081924 L 0.9460248345509298, 0.32409414128133496 L 0.9525111294906565, 0.3045037736981824 L 1.0477622424397222 ,0.33495415106800064\", \"type\": \"path\"}, {\"fillcolor\": \"#e6c4a9\", \"layer\": \"below\", \"line\": {\"color\": \"rgb(150,150,150)\", \"width\": 0.45}, \"path\": \"M 0.3047089127318786, 1.0569543407838187 L 0.28253249910787, 1.0630970731536522 L 0.2602324421447235, 1.068774567462846 L 0.23781850090914647, 1.0739843390968635 L 0.21530048430647336, 1.0787241081283936 L 0.19268824678804095, 1.0829918003151044 L 0.16999168403863266, 1.086785548007384 L 0.1472207286458765, 1.0901036909656703 L 0.12438534575349607, 1.0929447770870142 L 0.10149552870031182, 1.0953075630405573 L 0.07856129464690359, 1.0971910148116428 L 0.05559268019185014, 1.0985943081543281 L 0.032599736979460135, 1.099516828952095 L 0.009592527300918583, 1.099958173486602 L -0.013418880309223766, 1.0999181486143625 L -0.036424415479295806, 1.0993967718512694 L -0.059414010407554126, 1.0983942713649282 L -0.08237760426810647, 1.0969110858748068 L -0.10530514761378354, 1.0949478644602397 L -0.1281866067740288, 1.0925054662763756 L -0.15101196824588622, 1.089584960178188 L -0.17377124307616215, 1.0861876242527189 L -0.1964544712328414, 1.0823149452597542 L -0.2190517259638489, 1.0779686179811818 L -0.24155311814124722, 1.0731505444793106 L -0.26394880058896664, 1.0678628332644815 L -0.23995345508087873, 0.9707843938768014 L -0.21959374376477017, 0.9755914040721005 L -0.19913793269440808, 0.9799714708919833 L -0.17859497384803763, 0.9839226775088674 L -0.1579738573419656, 0.9874432947751989 L -0.1372836074962602, 0.9905317819801709 L -0.11653327888548072, 0.9931867875239777 L -0.09573195237616684, 0.9954071495093088 L -0.07488873115282406, 0.9971918962498242 L -0.05401273673414011, 0.9985402466953891 L -0.033113104981178004, 0.9994516107738811 L -0.012198982099294332, 0.9999255896494205 L 0.008720479364471439, 0.9999619758969107 L 0.029636124526781937, 0.9995607535928134 L 0.05053880017440921, 0.9987220983221164 L 0.07141935876991234, 0.9974463771014934 L 0.09226866245482893, 0.9957341482186883 L 0.11307758704863277, 0.9935861609881947 L 0.1338370260417059, 0.9910033554233365 L 0.15453789458057512, 0.9879868618248945 L 0.17517113344367358, 0.9845380002864585 L 0.19572771300588485, 0.9806582801167214 L 0.21619863719013313, 0.9763493991789667 L 0.23657494740429408, 0.9716132431480416 L 0.25684772646169995, 0.9664518846851382 L 0.277008102483526, 0.9608675825307441 L 0.3047089127318786 ,1.0569543407838187\", \"type\": \"path\"}, {\"fillcolor\": \"#e1b396\", \"layer\": \"below\", \"line\": {\"color\": \"rgb(150,150,150)\", \"width\": 0.45}, \"path\": \"M -0.29736093997349655, 1.059045075234326 L -0.32032409821062224, 1.0523271697079535 L -0.34313571485199995, 1.0451114204681753 L -0.3657849979877898, 1.037401241201818 L -0.3882612325062403, 1.0292002795047888 L -0.4105537851628836, 1.0205124151564393 L -0.4326521096109985, 1.0113417582840891 L -0.45454575139096426, 1.0016926474185701 L -0.47622435287614406, 0.9915696474417206 L -0.4976776581729568, 0.9809775474267909 L -0.5188955179728219, 0.9699213583727895 L -0.5398678943536763, 0.9584063108338384 L -0.5605848655288017, 0.9464378524446576 L -0.5810366305407041, 0.9340216453433536 L -0.6012135138978321, 0.9211635634927282 L -0.6211059701519409, 0.9078696899013737 L -0.6407045884139307, 0.8941463137458745 L -0.6600000968060309, 0.8799999273954686 L -0.6789833668482138, 0.8654372233405864 L -0.6172576062256488, 0.7867611121278058 L -0.6000000880054825, 0.7999999339958805 L -0.582458716739937, 0.8128602852235222 L -0.564641791047219, 0.8253360817285215 L -0.54655773990712, 0.8374214213570256 L -0.5282151186733673, 0.849110586675776 L -0.5096226050261833, 0.8603980476769614 L -0.4907889948669784, 0.8712784643943985 L -0.4717231981571107, 0.8817466894298085 L -0.45243423470268795, 0.8917977703879917 L -0.4329312298874037, 0.9014269522197459 L -0.41322341035542204, 0.9106296794714274 L -0.3933200996463622, 0.9194015984400808 L -0.3732307137844396, 0.9277385592331266 L -0.35296475682385475, 0.9356366177316261 L -0.33253181635253615, 0.9430920374561982 L -0.31194155895636355, 0.9501012913347048 L -0.2912037256460202, 0.9566610633708666 L -0.2703281272486332, 0.9627682502130234 L -0.29736093997349655 ,1.059045075234326\", \"type\": \"path\"}, {\"fillcolor\": \"#dba284\", \"layer\": \"below\", \"line\": {\"color\": \"rgb(150,150,150)\", \"width\": 0.45}, \"path\": \"M -0.7058323696635972, 0.8436827993594934 L -0.7271100262358691, 0.8254156587727628 L -0.7479151051013161, 0.8066120477412221 L -0.7682340842122343, 0.7872841874790766 L -0.7880537574564714, 0.7674446399309446 L -0.7164125067786103, 0.6976769453917677 L -0.698394622011122, 0.7157128977082514 L -0.6799228228193782, 0.7332836797647473 L -0.6610091147598809, 0.7503778716116025 L -0.6416657906032701, 0.7669843630540849 L -0.7058323696635972 ,0.8436827993594934\", \"type\": \"path\"}, {\"fillcolor\": \"#d59171\", \"layer\": \"below\", \"line\": {\"color\": \"rgb(150,150,150)\", \"width\": 0.45}, \"path\": \"M -0.8117709191892799, 0.7423125856124169 L -0.8404122192604989, 0.7097233980345042 L -0.867746102393664, 0.6760301041969987 L -0.8937300456685078, 0.6412851202619371 L -0.918323626246361, 0.6055424984901836 L -0.8348396602239645, 0.5504931804456215 L -0.8124818596986434, 0.5829864729653973 L -0.788860093085149, 0.6145728219972715 L -0.7640111084186353, 0.6452030891222765 L -0.7379735628993453, 0.6748296232840153 L -0.8117709191892799 ,0.7423125856124169\", \"type\": \"path\"}, {\"fillcolor\": \"#d0805f\", \"layer\": \"below\", \"line\": {\"color\": \"rgb(150,150,150)\", \"width\": 0.45}, \"path\": \"M -0.9368910385037288, 0.5763984576414173 L -0.970782237452344, 0.5172831405014285 L -1.000948172619359, 0.4561828095511341 L -1.0272730857416115, 0.39333193019497936 L -1.0496559580307216, 0.32897168536305355 L -0.9542326891188379, 0.2990651685118668 L -0.9338846234014648, 0.35757448199543573 L -0.9099528841994171, 0.4147116450464855 L -0.8825293067748582, 0.47025740045584413 L -0.8517191259124807, 0.5239985978558338 L -0.9368910385037288 ,0.5763984576414173\", \"type\": \"path\"}, {\"fillcolor\": \"#ca6f4c\", \"layer\": \"below\", \"line\": {\"color\": \"rgb(150,150,150)\", \"width\": 0.45}, \"path\": \"M -1.059471266531148, 0.29583886728231856 L -1.063441509117803, 0.2812332780544468 L -1.0672104131685591, 0.2665744436824236 L -1.070777265126895, 0.25186513948414446 L -1.074141389690272, 0.2371081503328204 L -0.9764921724457017, 0.2155528639389276 L -0.9734338773880862, 0.22896830862194947 L -0.97019128469869, 0.24234040334765783 L -0.9667650082889118, 0.25566661641313343 L -0.9631556968464982, 0.2689444248021078 L -1.059471266531148 ,0.29583886728231856\", \"type\": \"path\"}, {\"fillcolor\": \"#c45e3a\", \"layer\": \"below\", \"line\": {\"color\": \"rgb(150,150,150)\", \"width\": 0.45}, \"path\": \"M -1.0810591127413554, 0.20325155536643125 L -1.085920586015171, 0.1754322686066271 L -1.0900662970470476, 0.1474973492715648 L -1.09349351327674, 0.11946521008934811 L -1.0961999757250893, 0.09135432786854421 L -0.9965454324773539, 0.08304938897140382 L -0.9940850120697636, 0.10860473644486192 L -0.9909693609518614, 0.13408849933778616 L -0.9872005327410645, 0.1594838805514792 L -0.9827810115830503, 0.1847741412422102 L -1.0810591127413554 ,0.20325155536643125\", \"type\": \"path\"}, {\"fillcolor\": \"#bf4d28\", \"layer\": \"below\", \"line\": {\"color\": \"rgb(150,150,150)\", \"width\": 0.45}, \"path\": \"M -1.0985285759934058, 0.05687677668346124 L -1.0998528720042304, 0.017990551521444863 L -1.0998010863968175, -0.020918182530516083 L -1.0983732839627622, -0.059800744785139505 L -1.0955712510979856, -0.09860848730000416 L -0.9959738646345322, -0.08964407936364013 L -0.9985211672388747, -0.05436431344103591 L -0.9998191694516523, -0.01901652957319644 L -0.9998662472765731, 0.016355046837677148 L -0.9986623418121869, 0.0517061606213284 L -1.0985285759934058 ,0.05687677668346124\", \"type\": \"path\"}, {\"fillcolor\": \"#af4624\", \"layer\": \"below\", \"line\": {\"color\": \"rgb(150,150,150)\", \"width\": 0.45}, \"path\": \"M -1.0919332853828896, -0.1329725545852573 L -1.0859873091913728, -0.1750187540673344 L -1.0784229089781554, -0.21680412678520092 L -1.0692513578096088, -0.25826640087767544 L -1.058486323855335, -0.29934378599065503 L -0.9622602944139408, -0.2721307145369591 L -0.9720466889178261, -0.2347876371615231 L -0.9803844627074139, -0.197094660713819 L -0.9872611901739751, -0.15910795824303126 L -0.992666623075354, -0.12088414053205208 L -1.0919332853828896 ,-0.1329725545852573\", \"type\": \"path\"}, {\"fillcolor\": \"#9f4021\", \"layer\": \"below\", \"line\": {\"color\": \"rgb(150,150,150)\", \"width\": 0.45}, \"path\": \"M -1.0485614092075264, -0.33244393680848866 L -1.035727422860815, -0.37049791569466933 L -1.0215129089998625, -0.40805805560807007 L -1.0059368142384717, -0.44507429240493623 L -0.9890199000500849, -0.48149728691335364 L -0.8991090000455316, -0.43772480628486693 L -0.9144880129440651, -0.40461299309539656 L -0.928648099090784, -0.3709618687346091 L -0.9415703844189228, -0.3368162869951539 L -0.9532376447341149, -0.3022217607349897 L -1.0485614092075264 ,-0.33244393680848866\", \"type\": \"path\"}, {\"fillcolor\": \"#8f391e\", \"layer\": \"below\", \"line\": {\"color\": \"rgb(150,150,150)\", \"width\": 0.45}, \"path\": \"M -0.9734076831563122, -0.5123255628721455 L -0.9621276222573772, -0.5332076879503573 L -0.9503996528455224, -0.5538415837323076 L -0.9382292347549916, -0.57421764432231 L -0.9256220337974116, -0.594326383857173 L -0.9125839191241317, -0.614158440922243 L -0.8991209604939037, -0.6337045829095134 L -0.8852394254471652, -0.652955710315771 L -0.870945776388255, -0.6719028609787727 L -0.8562466675769053, -0.6905372142494892 L -0.8411489420304207, -0.7088500950984659 L -0.8256596283379845, -0.726832978154391 L -0.8097859373885697, -0.7444774916729959 L -0.7935352590139851, -0.7617754214344328 L -0.7769151585486181, -0.7787187145673179 L -0.7599333733074685, -0.7952994832976644 L -0.7425978089841239, -0.8115100086209528 L -0.7249165359703472, -0.8273427438956316 L -0.7068977855989866, -0.8427903183563805 L -0.6885499463119679, -0.8578455405454914 L -0.6259544966472435, -0.779859582314083 L -0.6426343505445332, -0.7661730166876186 L -0.6590150327003156, -0.7521297671778469 L -0.6750889172582943, -0.7377363714735934 L -0.6908485211886076, -0.7229995302706039 L -0.706286507771471, -0.7079261041521071 L -0.7213956900127138, -0.6925231103949389 L -0.7361690339896088, -0.6767977197027235 L -0.7505996621254404, -0.6607572528676281 L -0.7646808563912915, -0.6444091773622417 L -0.7784060614335502, -0.627761103863172 L -0.7917688876256863, -0.6108207827079751 L -0.8047631140428774, -0.5935961002870646 L -0.8173826913580942, -0.5760950753722849 L -0.8296217446583015, -0.5583258553838573 L -0.841474576179465, -0.54029671259743 L -0.8529356679590833, -0.5220160402930091 L -0.8639996844050203, -0.5034923488475523 L -0.8746614747794338, -0.4847342617730521 L -0.8849160755966474, -0.4657505117019504 L -0.9734076831563122 ,-0.5123255628721455\", \"type\": \"path\"}, {\"fillcolor\": \"#f0f3e7\", \"layer\": \"below\", \"line\": {\"color\": \"rgb(150,150,150)\", \"width\": 0.45}, \"path\": \"M -0.661264608877963, -0.8790501220325692 L -0.6427658444510328, -0.8926657096624419 L -0.6239868189701117, -0.9058920740085771 L -0.6049357205328089, -0.9187234480644606 L -0.5856208558669534, -0.931154237048652 L -0.5660506467086655, -0.9431790208442413 L -0.5462336261302806, -0.9547925563621478 L -0.5261784348197293, -0.96598977982723 L -0.5058938173129932, -0.9767658089862115 L -0.4853886181812818, -0.987115945236458 L -0.4646717781745909, -0.9970356756746791 L -0.4437523303233243, -1.0065206750646603 L -0.42263939599967976, -1.0155668077231679 L -0.40134218094051954, -1.0241701293232035 L -0.3798699712334427, -1.0323268886138264 L -0.3582321292678445, -1.0400335290557832 L -0.33643808965268435, -1.047286690372246 L -0.3144973551027781, -1.054083210013971 L -0.29241949229539, -1.0604201245382447 L -0.2702141276989356, -1.0662946709010148 L -0.2478909433756151, -1.0717042876616423 L -0.2254596727598056, -1.0766466160997497 L -0.20293009641405482, -1.0811195012436796 L -0.18031203776452506, -1.0851209928101127 L -0.15761535881774805, -1.0886493460544369 L -0.13484995586055762, -1.0917030225314968 L -0.12259086896414328, -0.9924572932104516 L -0.1432866898343164, -0.9896812236858515 L -0.1639200343313864, -0.9864736298273751 L -0.18448190583095891, -0.9828359102215268 L -0.20496333887255053, -0.9787696509997723 L -0.22535540306874097, -0.9742766251469474 L -0.24564920699903237, -0.9693587917281952 L -0.26583590208671815, -0.9640182950347679 L -0.28590668645707096, -0.9582574636490645 L -0.3058528087751676, -0.9520788094293144 L -0.3256655720616768, -0.9454850264143483 L -0.34533633748494785, -0.9384789896489331 L -0.364856528127745, -0.9310637539301849 L -0.38421763272698156, -0.9232425524756072 L -0.4034112093848402, -0.9150187955133274 L -0.422428889249628, -0.9063960687951628 L -0.4412623801648016, -0.8973781320331435 L -0.4599034702845392, -0.8879689172601921 L -0.4783440316542993, -0.8781725271156635 L -0.49657602375480053, -0.8679932330564979 L -0.5145914970078777, -0.8574354734947648 L -0.5323825962426849, -0.8465038518624108 L -0.5499415641207352, -0.835203134604055 L -0.5672607445182832, -0.8235382490987063 L -0.5843325858645753, -0.8115142815113107 L -0.6011496444345118, -0.7991364745750628 L -0.661264608877963 ,-0.8790501220325692\", \"type\": \"path\"}, {\"fillcolor\": \"#e2ecde\", \"layer\": \"below\", \"line\": {\"color\": \"rgb(150,150,150)\", \"width\": 0.45}, \"path\": \"M -0.10049219492205558, -1.0954000724665613 L -0.08521376086983552, -1.0966944036323056 L -0.06991876958385371, -1.097775644501134 L -0.05461019291682114, -1.0986435849854073 L -0.039291005361117355, -1.099298056442252 L -0.03571909578283396, -0.9993618694929564 L -0.04964562992438285, -0.9987668954412793 L -0.06356251780350336, -0.9979778586373945 L -0.0774670553362141, -0.9969949123930051 L -0.09135654083823233, -0.9958182476968739 L -0.10049219492205558 ,-1.0954000724665613\", \"type\": \"path\"}, {\"fillcolor\": \"#d4e5d6\", \"layer\": \"below\", \"line\": {\"color\": \"rgb(150,150,150)\", \"width\": 0.45}, \"path\": \"M -0.004741831215839861, -1.0999897795146647 L 0.01815830459933307, -1.0998501152311972 L 0.04105057027924656, -1.0992337561591479 L 0.06392504390490794, -1.0981409694396052 L 0.08677181126871744, -1.0965722287059554 L 0.10958097017146956, -1.0945282138786006 L 0.1323426347141411, -1.0920098108702685 L 0.15504693958261445, -1.089018111202043 L 0.17768404432348758, -1.0855544115302784 L 0.20024413760909945, -1.0816202130846058 L 0.22271744148993655, -1.0772172210172732 L 0.24509421563257272, -1.0723473436641013 L 0.2673647615413007, -1.0670126917173777 L 0.2895194267616401, -1.0612155773110437 L 0.3115486090638816, -1.0549585130185741 L 0.3334427606048629, -1.0482442107639842 L 0.355192392066181, -1.0410755806464316 L 0.37678807676702947, -1.033455729678927 L 0.39822045474989215, -1.0253879604417 L 0.4194802368373176, -1.0168757696508006 L 0.4405582086580118, -1.0079228466425612 L 0.46144523464051773, -0.9985330717745696 L 0.48213226197273296, -0.9887105147438537 L 0.5026103245255588, -0.978459432823003 L 0.5228705467389867, -0.9677842690149873 L 0.5429041474689216, -0.9566896501274819 L 0.5627024437930888, -0.9451803847675246 L 0.5822568547743688, -0.9332614612573797 L 0.6015589051799264, -0.9209380454725109 L 0.6206002291545337, -0.9082154786025949 L 0.6393725738464797, -0.8950992748365558 L 0.6578678029845015, -0.8815951189726186 L 0.6760779004041956, -0.8677088639544112 L 0.6146162730947232, -0.7888262399585555 L 0.5980616390768195, -0.8014501081569259 L 0.5812477944058906, -0.813726613487778 L 0.5641820265041215, -0.825650435093268 L 0.5468717319817512, -0.8372164049750098 L 0.5293244134312444, -0.8484195102339815 L 0.5115476761755352, -0.8592548952432042 L 0.49354922497174686, -0.8697178637522561 L 0.475336860671806, -0.8798038809227157 L 0.45691847684141706, -0.889508575293639 L 0.4383020563388481, -0.8988277406762306 L 0.4194956678550161, -0.9077573379768814 L 0.40050746241637436, -0.9162934969477828 L 0.3813456698521069, -0.9244325178643641 L 0.36201859522717467, -0.9321708731288181 L 0.342534615242754, -0.9395052087990244 L 0.32290217460561904, -0.9464323460422104 L 0.30312978236805715, -0.9529492825127129 L 0.28322600823989236, -0.959053193653249 L 0.26319947887421824, -0.9647414339191305 L 0.24305887412845514, -0.9700115379248887 L 0.22281292330233882, -0.9748612215128193 L 0.20247040135448777, -0.9792883827429756 L 0.1820401250991813, -0.9832911028041871 L 0.1615309493849887, -0.9868676468457076 L 0.1409517632569222, -0.99001646472913 L 0.12031148610376463, -0.9927361917002441 L 0.09961906379224504, -0.9950256489805459 L 0.07888346478974312, -0.9968838442781413 L 0.05811367627718904, -0.9983099722178228 L 0.037318700253860505, -0.9993034146901343 L 0.016507549635757335, -0.9998637411192702 L -0.004310755650763509, -0.9999907086496951 L -0.004741831215839861 ,-1.0999897795146647\", \"type\": \"path\"}, {\"fillcolor\": \"#c6decd\", \"layer\": \"below\", \"line\": {\"color\": \"rgb(150,150,150)\", \"width\": 0.45}, \"path\": \"M 0.7029996908479115, -0.846044581962287 L 0.7210790892365118, -0.8306894408055533 L 0.7388231888246843, -0.8149480324873022 L 0.7562237386793565, -0.7988276766974317 L 0.7732726476166607, -0.7823358693348529 L 0.7899619879643072, -0.7654802790219223 L 0.8062839992479142, -0.7482687435385698 L 0.8222310917996007, -0.7307092661777573 L 0.8377958502871475, -0.7128100120239864 L 0.8529710371620964, -0.6945793041565648 L 0.8677495960251838, -0.6760256197794065 L 0.8821246549075314, -0.6571575862791731 L 0.8960895294660899, -0.6379839772135676 L 0.909637726091825, -0.6185137082316721 L 0.9227629449292223, -0.5987558329282057 L 0.935459082805694, -0.5787195386336371 L 0.9477202360695269, -0.5584141421421205 L 0.9595407033350589, -0.5378490853792174 L 0.9709149881337965, -0.5170339310114472 L 0.9818378014702537, -0.49597835799968004 L 0.8925798195184124, -0.45088941636334545 L 0.8826499892125422, -0.47003084637404285 L 0.8723097303045989, -0.48895371398110665 L 0.8615638509722972, -0.5076492201292004 L 0.8504173480051763, -0.5261086714851246 L 0.8388754044811111, -0.544323484480187 L 0.8269433873562045, -0.56228518930152 L 0.8146268449691726, -0.5799854338305159 L 0.8019315044613922, -0.5974159875265209 L 0.7888632691138033, -0.6145687452540058 L 0.7754282156019058, -0.6314357310514225 L 0.761632591170134, -0.6480091018399876 L 0.7474828107269097, -0.6642811510706884 L 0.7329854538617401, -0.6802443123077906 L 0.7181472617857337, -0.695891162747202 L 0.7029751341969642, -0.711214426668048 L 0.6874761260721423, -0.726206978815847 L 0.6716574443860767, -0.7408618477157292 L 0.6555264447604652, -0.7551722189141393 L 0.6390906280435559, -0.7691314381475336 L 0.7029996908479115 ,-0.846044581962287\", \"type\": \"path\"}, {\"fillcolor\": \"#b8d7c5\", \"layer\": \"below\", \"line\": {\"color\": \"rgb(150,150,150)\", \"width\": 0.45}, \"path\": \"M 0.9969323804956789, -0.46489335198432247 L 1.013032720051209, -0.4286778605265833 L 1.0278179733858794, -0.39190587337388005 L 1.04126894676335, -0.3546251267272861 L 1.053368178566246, -0.3168840172429486 L 0.9576074350602236, -0.28807637931177144 L 0.9466081334212273, -0.3223864788429873 L 0.9343799758053449, -0.3562780667035273 L 0.92093883641019, -0.3897071459332575 L 0.9063021640869807, -0.4226303199857477 L 0.9969323804956789 ,-0.46489335198432247\", \"type\": \"path\"}, {\"fillcolor\": \"#aad0bc\", \"layer\": \"below\", \"line\": {\"color\": \"rgb(150,150,150)\", \"width\": 0.45}, \"path\": \"M 1.062801972478792, -0.2836405600318638 L 1.0707977698565183, -0.25177794992871627 L 1.0778385583685826, -0.21969078745804527 L 1.0839180585702197, -0.18740769009132494 L 1.089030848357691, -0.15495745004783715 L 0.9900280439615372, -0.14087040913439738 L 0.9853800532456541, -0.17037062735574993 L 0.9798532348805294, -0.19971889768913204 L 0.9734525180513801, -0.22888904538974203 L 0.9661836113443563, -0.2578550545744216 L 1.062801972478792 ,-0.2836405600318638\", \"type\": \"path\"}, {\"fillcolor\": \"#9cc9b4\", \"layer\": \"below\", \"line\": {\"color\": \"rgb(150,150,150)\", \"width\": 0.45}, \"path\": \"M 1.0933608085049842, -0.12067370229394545 L 1.0955185511483467, -0.09919225821518145 L 1.0972542852943115, -0.07767260394289756 L 1.0985673423147122, -0.05612302913768925 L 1.0994572164023046, -0.03455183498594413 L 0.9995065603657315, -0.031410759078131026 L 0.9986975839224657, -0.05102093557971749 L 0.9975038957221012, -0.07061145812990686 L 0.9959259555894061, -0.09017478019561949 L 0.9939643713681673, -0.10970336572176857 L 1.0933608085049842 ,-0.12067370229394545\", \"type\": \"path\"}], \"showlegend\": false, \"title\": \"Data Jobs \\u2012 Technologies in Demand and Relationships Between Them\", \"titlefont\": {\"color\": \"#655643\", \"family\": \"Merryweather\", \"size\": 18}, \"width\": 960, \"xaxis\": {\"showgrid\": false, \"showline\": false, \"showticklabels\": false, \"title\": \"\", \"zeroline\": false}, \"yaxis\": {\"showgrid\": false, \"showline\": false, \"showticklabels\": false, \"title\": \"\", \"zeroline\": false}}, {\"showLink\": true, \"linkText\": \"Export to plot.ly\", \"plotlyServerURL\": \"https://plot.ly\"})});</script>"
      ],
      "text/vnd.plotly.v1+html": [
       "<div id=\"1a601c91-adf7-4bac-8d54-5672bf563ff2\" style=\"height: 525px; width: 960px;\" class=\"plotly-graph-div\"></div><script type=\"text/javascript\">require([\"plotly\"], function(Plotly) { window.PLOTLYENV=window.PLOTLYENV || {};window.PLOTLYENV.BASE_URL=\"https://plot.ly\";Plotly.newPlot(\"1a601c91-adf7-4bac-8d54-5672bf563ff2\", [{\"hoverinfo\": \"text\", \"line\": {\"color\": \"#f2e6ce\", \"shape\": \"spline\", \"width\": 0.25}, \"mode\": \"lines\", \"text\": \"Power BI<br>1292\", \"x\": [1.1, 1.0997048280870863, 1.0988194707600871, 1.0973444031692132, 1.0952804169481418, 1.0926286197891655, 1.0893904348487211, 1.0855675999836145, 1.0811621668183544, 1.076176499644095, 1.0706132741497758, 1.0644754759861446, 1.0577663991634283], \"y\": [0.0, 0.025481190748316705, 0.050948706347876134, 0.07638887898904796, 0.10178805553651699, 0.12713260485659605, 0.15240892513273108, 0.1776034511652723, 0.2027026616515944, 0.22769308644265757, 0.25256131377211616, 0.2772939974540945, 0.3018778640457674], \"type\": \"scatter\", \"uid\": \"775567b5-56f3-42a2-94ed-a794ac9b9b97\"}, {\"hoverinfo\": \"text\", \"line\": {\"color\": \"#ecd5bb\", \"shape\": \"spline\", \"width\": 0.25}, \"mode\": \"lines\", \"text\": \"Excel<br>4095\", \"x\": [1.0477622424397222, 1.0406273180060228, 1.033049237721061, 1.0250312287446097, 1.0165767055820658, 1.0076892686303673, 0.9983727026447473, 0.9886309751269801, 0.9784682346358012, 0.9678888090202261, 0.9568972035765156, 0.9454980991295746, 0.9336963500396026, 0.9214969821348415, 0.9089051905713048, 0.8959263376203962, 0.882565950385362, 0.8688297184475501, 0.8547234914434751, 0.8402532765737244, 0.8254252360447649, 0.8102456844447393, 0.7947210860543699, 0.7788580520941161, 0.7626633379087554, 0.7461438400905903, 0.7293065935425018, 0.712158768482106, 0.6947076673882832, 0.6769607218913842, 0.6589254896084378, 0.6406096509247046, 0.6220210057229507, 0.6031674700618317, 0.584057072804804, 0.564697952200997, 0.5450983524195017, 0.5252666200385555, 0.5052112004911133, 0.48494063446832214, 0.46446355428242836, 0.4437886801906693, 0.422924816681712, 0.4018808487262216, 0.3806657379931568, 0.3592885190334022, 0.3377582954323643], \"y\": [0.33495415106800064, 0.3565035554094685, 0.3779011410990117, 0.3991377958779599, 0.42020447602079886, 0.4410922101864822, 0.4617921032389176, 0.4822953400350005, 0.502593189178583, 0.5226770067387778, 0.542538239931016, 0.5621684307592889, 0.5815592196180233, 0.6007023488520581, 0.619589666273204, 0.638213128631889, 0.6565648050424138, 0.6746368803603542, 0.6924216585106765, 0.7099115657651454, 0.7270991539676307, 0.7439771037059382, 0.7605382274288144, 0.776775472506798, 0.792681924235614, 0.8082508087808312, 0.8234754960625313, 0.8383495025787575, 0.8528664941665435, 0.8670202886993453, 0.8808048587197285, 0.8942143340061869, 0.9072430040730043, 0.9198853206020898, 0.9321358998057547, 0.9439895247194222, 0.9554411474232962, 0.9664858911920401, 0.9771190525715525, 0.9873361033819543, 0.9971326926459356, 1.0065046484416373, 1.0154479796792844, 1.023958877800809, 1.0320337184017419, 1.0396690627746816, 1.0468616593736844], \"type\": \"scatter\", \"uid\": \"6a186895-6466-475f-be46-7c47c59c68ce\"}, {\"hoverinfo\": \"text\", \"line\": {\"color\": \"#e6c4a9\", \"shape\": \"spline\", \"width\": 0.25}, \"mode\": \"lines\", \"text\": \"SSIS/SSRS<br>2315\", \"x\": [0.3047089127318786, 0.28253249910787, 0.2602324421447235, 0.23781850090914647, 0.21530048430647336, 0.19268824678804095, 0.16999168403863266, 0.1472207286458765, 0.12438534575349607, 0.10149552870031182, 0.07856129464690359, 0.05559268019185014, 0.032599736979460135, 0.009592527300918583, -0.013418880309223766, -0.036424415479295806, -0.059414010407554126, -0.08237760426810647, -0.10530514761378354, -0.1281866067740288, -0.15101196824588622, -0.17377124307616215, -0.1964544712328414, -0.2190517259638489, -0.24155311814124722, -0.26394880058896664], \"y\": [1.0569543407838187, 1.0630970731536522, 1.068774567462846, 1.0739843390968635, 1.0787241081283936, 1.0829918003151044, 1.086785548007384, 1.0901036909656703, 1.0929447770870142, 1.0953075630405573, 1.0971910148116428, 1.0985943081543281, 1.099516828952095, 1.099958173486602, 1.0999181486143625, 1.0993967718512694, 1.0983942713649282, 1.0969110858748068, 1.0949478644602397, 1.0925054662763756, 1.089584960178188, 1.0861876242527189, 1.0823149452597542, 1.0779686179811818, 1.0731505444793106, 1.0678628332644815], \"type\": \"scatter\", \"uid\": \"fcb4b6b7-94ce-4ebe-b100-53fb776b1a83\"}, {\"hoverinfo\": \"text\", \"line\": {\"color\": \"#e1b396\", \"shape\": \"spline\", \"width\": 0.25}, \"mode\": \"lines\", \"text\": \"MS SQL Server<br>1766\", \"x\": [-0.29736093997349655, -0.32032409821062224, -0.34313571485199995, -0.3657849979877898, -0.3882612325062403, -0.4105537851628836, -0.4326521096109985, -0.45454575139096426, -0.47622435287614406, -0.4976776581729568, -0.5188955179728219, -0.5398678943536763, -0.5605848655288017, -0.5810366305407041, -0.6012135138978321, -0.6211059701519409, -0.6407045884139307, -0.6600000968060309, -0.6789833668482138], \"y\": [1.059045075234326, 1.0523271697079535, 1.0451114204681753, 1.037401241201818, 1.0292002795047888, 1.0205124151564393, 1.0113417582840891, 1.0016926474185701, 0.9915696474417206, 0.9809775474267909, 0.9699213583727895, 0.9584063108338384, 0.9464378524446576, 0.9340216453433536, 0.9211635634927282, 0.9078696899013737, 0.8941463137458745, 0.8799999273954686, 0.8654372233405864], \"type\": \"scatter\", \"uid\": \"6626dd41-a377-467b-b851-25bdfd7f8e16\"}, {\"hoverinfo\": \"text\", \"line\": {\"color\": \"#dba284\", \"shape\": \"spline\", \"width\": 0.25}, \"mode\": \"lines\", \"text\": \"PostgreSQL<br>557\", \"x\": [-0.7058323696635972, -0.7271100262358691, -0.7479151051013161, -0.7682340842122343, -0.7880537574564714], \"y\": [0.8436827993594934, 0.8254156587727628, 0.8066120477412221, 0.7872841874790766, 0.7674446399309446], \"type\": \"scatter\", \"uid\": \"22b764db-dca6-42e8-8cc0-d54993f21074\"}, {\"hoverinfo\": \"text\", \"line\": {\"color\": \"#d59171\", \"shape\": \"spline\", \"width\": 0.25}, \"mode\": \"lines\", \"text\": \"MySQL/MariaDB<br>790\", \"x\": [-0.8117709191892799, -0.8404122192604989, -0.867746102393664, -0.8937300456685078, -0.918323626246361], \"y\": [0.7423125856124169, 0.7097233980345042, 0.6760301041969987, 0.6412851202619371, 0.6055424984901836], \"type\": \"scatter\", \"uid\": \"a7c6cb61-aacc-450f-9017-84b92c57f631\"}, {\"hoverinfo\": \"text\", \"line\": {\"color\": \"#d0805f\", \"shape\": \"spline\", \"width\": 0.25}, \"mode\": \"lines\", \"text\": \"T-SQL<br>1166\", \"x\": [-0.9368910385037288, -0.970782237452344, -1.000948172619359, -1.0272730857416115, -1.0496559580307216], \"y\": [0.5763984576414173, 0.5172831405014285, 0.4561828095511341, 0.39333193019497936, 0.32897168536305355], \"type\": \"scatter\", \"uid\": \"f6331570-a2f1-4ac9-8820-fcbaee0145de\"}, {\"hoverinfo\": \"text\", \"line\": {\"color\": \"#ca6f4c\", \"shape\": \"spline\", \"width\": 0.25}, \"mode\": \"lines\", \"text\": \"PL/SQL<br>361\", \"x\": [-1.059471266531148, -1.063441509117803, -1.0672104131685591, -1.070777265126895, -1.074141389690272], \"y\": [0.29583886728231856, 0.2812332780544468, 0.2665744436824236, 0.25186513948414446, 0.2371081503328204], \"type\": \"scatter\", \"uid\": \"ebd1955a-4bee-4ac0-a917-55ebd08310e1\"}, {\"hoverinfo\": \"text\", \"line\": {\"color\": \"#c45e3a\", \"shape\": \"spline\", \"width\": 0.25}, \"mode\": \"lines\", \"text\": \"Pentaho<br>560\", \"x\": [-1.0810591127413554, -1.085920586015171, -1.0900662970470476, -1.09349351327674, -1.0961999757250893], \"y\": [0.20325155536643125, 0.1754322686066271, 0.1474973492715648, 0.11946521008934811, 0.09135432786854421], \"type\": \"scatter\", \"uid\": \"732cd0dc-a2d3-4cc9-933b-ec013cf7ea61\"}, {\"hoverinfo\": \"text\", \"line\": {\"color\": \"#bf4d28\", \"shape\": \"spline\", \"width\": 0.25}, \"mode\": \"lines\", \"text\": \"Hadoop<br>722\", \"x\": [-1.0985285759934058, -1.0998528720042304, -1.0998010863968175, -1.0983732839627622, -1.0955712510979856], \"y\": [0.05687677668346124, 0.017990551521444863, -0.020918182530516083, -0.059800744785139505, -0.09860848730000416], \"type\": \"scatter\", \"uid\": \"bd13840e-4ba7-4afe-8faf-f0b2e6d1b0d3\"}, {\"hoverinfo\": \"text\", \"line\": {\"color\": \"#af4624\", \"shape\": \"spline\", \"width\": 0.25}, \"mode\": \"lines\", \"text\": \"Spark<br>776\", \"x\": [-1.0919332853828896, -1.0859873091913728, -1.0784229089781554, -1.0692513578096088, -1.058486323855335], \"y\": [-0.1329725545852573, -0.1750187540673344, -0.21680412678520092, -0.25826640087767544, -0.29934378599065503], \"type\": \"scatter\", \"uid\": \"a86ca1c6-d777-4961-899e-6191982ce6ed\"}, {\"hoverinfo\": \"text\", \"line\": {\"color\": \"#9f4021\", \"shape\": \"spline\", \"width\": 0.25}, \"mode\": \"lines\", \"text\": \"Informatica<br>741\", \"x\": [-1.0485614092075264, -1.035727422860815, -1.0215129089998625, -1.0059368142384717, -0.9890199000500849], \"y\": [-0.33244393680848866, -0.37049791569466933, -0.40805805560807007, -0.44507429240493623, -0.48149728691335364], \"type\": \"scatter\", \"uid\": \"26951554-51d9-4b6b-9252-41a3a83072e9\"}, {\"hoverinfo\": \"text\", \"line\": {\"color\": \"#8f391e\", \"shape\": \"spline\", \"width\": 0.25}, \"mode\": \"lines\", \"text\": \"Qlik<br>1843\", \"x\": [-0.9734076831563122, -0.9621276222573772, -0.9503996528455224, -0.9382292347549916, -0.9256220337974116, -0.9125839191241317, -0.8991209604939037, -0.8852394254471652, -0.870945776388255, -0.8562466675769053, -0.8411489420304207, -0.8256596283379845, -0.8097859373885697, -0.7935352590139851, -0.7769151585486181, -0.7599333733074685, -0.7425978089841239, -0.7249165359703472, -0.7068977855989866, -0.6885499463119679], \"y\": [-0.5123255628721455, -0.5332076879503573, -0.5538415837323076, -0.57421764432231, -0.594326383857173, -0.614158440922243, -0.6337045829095134, -0.652955710315771, -0.6719028609787727, -0.6905372142494892, -0.7088500950984659, -0.726832978154391, -0.7444774916729959, -0.7617754214344328, -0.7787187145673179, -0.7952994832976644, -0.8115100086209528, -0.8273427438956316, -0.8427903183563805, -0.8578455405454914], \"type\": \"scatter\", \"uid\": \"8f78fab6-e2f8-4c92-9fed-405b93e5b3fd\"}, {\"hoverinfo\": \"text\", \"line\": {\"color\": \"#f0f3e7\", \"shape\": \"spline\", \"width\": 0.25}, \"mode\": \"lines\", \"text\": \"Tableau<br>2311\", \"x\": [-0.661264608877963, -0.6427658444510328, -0.6239868189701117, -0.6049357205328089, -0.5856208558669534, -0.5660506467086655, -0.5462336261302806, -0.5261784348197293, -0.5058938173129932, -0.4853886181812818, -0.4646717781745909, -0.4437523303233243, -0.42263939599967976, -0.40134218094051954, -0.3798699712334427, -0.3582321292678445, -0.33643808965268435, -0.3144973551027781, -0.29241949229539, -0.2702141276989356, -0.2478909433756151, -0.2254596727598056, -0.20293009641405482, -0.18031203776452506, -0.15761535881774805, -0.13484995586055762], \"y\": [-0.8790501220325692, -0.8926657096624419, -0.9058920740085771, -0.9187234480644606, -0.931154237048652, -0.9431790208442413, -0.9547925563621478, -0.96598977982723, -0.9767658089862115, -0.987115945236458, -0.9970356756746791, -1.0065206750646603, -1.0155668077231679, -1.0241701293232035, -1.0323268886138264, -1.0400335290557832, -1.047286690372246, -1.054083210013971, -1.0604201245382447, -1.0662946709010148, -1.0717042876616423, -1.0766466160997497, -1.0811195012436796, -1.0851209928101127, -1.0886493460544369, -1.0917030225314968], \"type\": \"scatter\", \"uid\": \"8dc15cce-88f7-4b0a-951c-1e44f3eab2d9\"}, {\"hoverinfo\": \"text\", \"line\": {\"color\": \"#e2ecde\", \"shape\": \"spline\", \"width\": 0.25}, \"mode\": \"lines\", \"text\": \"Microstrategy<br>364\", \"x\": [-0.10049219492205558, -0.08521376086983552, -0.06991876958385371, -0.05461019291682114, -0.039291005361117355], \"y\": [-1.0954000724665613, -1.0966944036323056, -1.097775644501134, -1.0986435849854073, -1.099298056442252], \"type\": \"scatter\", \"uid\": \"29785eb0-a1d3-4866-90f6-ff1070d99a07\"}, {\"hoverinfo\": \"text\", \"line\": {\"color\": \"#d4e5d6\", \"shape\": \"spline\", \"width\": 0.25}, \"mode\": \"lines\", \"text\": \"Oracle BI<br>2913\", \"x\": [-0.004741831215839861, 0.01815830459933307, 0.04105057027924656, 0.06392504390490794, 0.08677181126871744, 0.10958097017146956, 0.1323426347141411, 0.15504693958261445, 0.17768404432348758, 0.20024413760909945, 0.22271744148993655, 0.24509421563257272, 0.2673647615413007, 0.2895194267616401, 0.3115486090638816, 0.3334427606048629, 0.355192392066181, 0.37678807676702947, 0.39822045474989215, 0.4194802368373176, 0.4405582086580118, 0.46144523464051773, 0.48213226197273296, 0.5026103245255588, 0.5228705467389867, 0.5429041474689216, 0.5627024437930888, 0.5822568547743688, 0.6015589051799264, 0.6206002291545337, 0.6393725738464797, 0.6578678029845015, 0.6760779004041956], \"y\": [-1.0999897795146647, -1.0998501152311972, -1.0992337561591479, -1.0981409694396052, -1.0965722287059554, -1.0945282138786006, -1.0920098108702685, -1.089018111202043, -1.0855544115302784, -1.0816202130846058, -1.0772172210172732, -1.0723473436641013, -1.0670126917173777, -1.0612155773110437, -1.0549585130185741, -1.0482442107639842, -1.0410755806464316, -1.033455729678927, -1.0253879604417, -1.0168757696508006, -1.0079228466425612, -0.9985330717745696, -0.9887105147438537, -0.978459432823003, -0.9677842690149873, -0.9566896501274819, -0.9451803847675246, -0.9332614612573797, -0.9209380454725109, -0.9082154786025949, -0.8950992748365558, -0.8815951189726186, -0.8677088639544112], \"type\": \"scatter\", \"uid\": \"4e7d095b-19d5-4211-949c-a30839cee9ca\"}, {\"hoverinfo\": \"text\", \"line\": {\"color\": \"#c6decd\", \"shape\": \"spline\", \"width\": 0.25}, \"mode\": \"lines\", \"text\": \"Python<br>1842\", \"x\": [0.7029996908479115, 0.7210790892365118, 0.7388231888246843, 0.7562237386793565, 0.7732726476166607, 0.7899619879643072, 0.8062839992479142, 0.8222310917996007, 0.8377958502871475, 0.8529710371620964, 0.8677495960251838, 0.8821246549075314, 0.8960895294660899, 0.909637726091825, 0.9227629449292223, 0.935459082805694, 0.9477202360695269, 0.9595407033350589, 0.9709149881337965, 0.9818378014702537], \"y\": [-0.846044581962287, -0.8306894408055533, -0.8149480324873022, -0.7988276766974317, -0.7823358693348529, -0.7654802790219223, -0.7482687435385698, -0.7307092661777573, -0.7128100120239864, -0.6945793041565648, -0.6760256197794065, -0.6571575862791731, -0.6379839772135676, -0.6185137082316721, -0.5987558329282057, -0.5787195386336371, -0.5584141421421205, -0.5378490853792174, -0.5170339310114472, -0.49597835799968004], \"type\": \"scatter\", \"uid\": \"12d8459c-3206-4d3d-8170-0047fb6ce0ba\"}, {\"hoverinfo\": \"text\", \"line\": {\"color\": \"#b8d7c5\", \"shape\": \"spline\", \"width\": 0.25}, \"mode\": \"lines\", \"text\": \"VBA<br>733\", \"x\": [0.9969323804956789, 1.013032720051209, 1.0278179733858794, 1.04126894676335, 1.053368178566246], \"y\": [-0.46489335198432247, -0.4286778605265833, -0.39190587337388005, -0.3546251267272861, -0.3168840172429486], \"type\": \"scatter\", \"uid\": \"f9a460c8-16a8-47ca-ae8d-1fe3925b92df\"}, {\"hoverinfo\": \"text\", \"line\": {\"color\": \"#aad0bc\", \"shape\": \"spline\", \"width\": 0.25}, \"mode\": \"lines\", \"text\": \"Linux<br>630\", \"x\": [1.062801972478792, 1.0707977698565183, 1.0778385583685826, 1.0839180585702197, 1.089030848357691], \"y\": [-0.2836405600318638, -0.25177794992871627, -0.21969078745804527, -0.18740769009132494, -0.15495745004783715], \"type\": \"scatter\", \"uid\": \"1f4960ed-f108-4ac7-93ab-59cf20b763fb\"}, {\"hoverinfo\": \"text\", \"line\": {\"color\": \"#9cc9b4\", \"shape\": \"spline\", \"width\": 0.25}, \"mode\": \"lines\", \"text\": \"AWS<br>459\", \"x\": [1.0933608085049842, 1.0955185511483467, 1.0972542852943115, 1.0985673423147122, 1.0994572164023046], \"y\": [-0.12067370229394545, -0.09919225821518145, -0.07767260394289756, -0.05612302913768925, -0.03455183498594413], \"type\": \"scatter\", \"uid\": \"c8315495-4e89-4c79-b8fd-0eb6f6968d13\"}, {\"hoverinfo\": \"text\", \"marker\": {\"color\": \"green\", \"size\": 0.5}, \"mode\": \"markers\", \"text\": \"Power BI appears with Excel 214 times\", \"x\": [0.8709019264387353], \"y\": [0.22700183815401076], \"type\": \"scatter\", \"uid\": \"c994f2b0-a5a7-4561-8406-c33482913497\"}, {\"hoverinfo\": \"text\", \"marker\": {\"color\": \"blue\", \"size\": 0.5}, \"mode\": \"markers\", \"text\": \"Excel appears with Power BI 214 times\", \"x\": [0.7646231631078194], \"y\": [0.4747119320587941], \"type\": \"scatter\", \"uid\": \"053ce547-6656-42f0-b47d-edc0b5a0b95c\"}, {\"hoverinfo\": \"text\", \"marker\": {\"color\": \"green\", \"size\": 0.5}, \"mode\": \"markers\", \"text\": \"Power BI appears with SSIS/SSRS 128 times\", \"x\": [0.8951840253670802], \"y\": [0.09298150744954986], \"type\": \"scatter\", \"uid\": \"751e89db-9748-4949-8bc7-624306d2ad34\"}, {\"hoverinfo\": \"text\", \"marker\": {\"color\": \"blue\", \"size\": 0.5}, \"mode\": \"markers\", \"text\": \"SSIS/SSRS appears with Power BI 128 times\", \"x\": [0.09000375848969808], \"y\": [0.8954883156455633], \"type\": \"scatter\", \"uid\": \"b3c1fab5-ea1b-4ddf-a705-b0a155138650\"}, {\"hoverinfo\": \"text\", \"marker\": {\"color\": \"green\", \"size\": 0.5}, \"mode\": \"markers\", \"text\": \"Power BI appears with MS SQL Server 127 times\", \"x\": [0.8973977370330516], \"y\": [0.06839080031669552], \"type\": \"scatter\", \"uid\": \"c5588481-d8a0-4d4f-880e-33930810f214\"}, {\"hoverinfo\": \"text\", \"marker\": {\"color\": \"blue\", \"size\": 0.5}, \"mode\": \"markers\", \"text\": \"MS SQL Server appears with Power BI 127 times\", \"x\": [-0.3965683407027977], \"y\": [0.8079192726703762], \"type\": \"scatter\", \"uid\": \"3fcfb1ea-3f6f-4e6a-885f-0513f9ef4864\"}, {\"hoverinfo\": \"text\", \"marker\": {\"color\": \"green\", \"size\": 0.5}, \"mode\": \"markers\", \"text\": \"Power BI appears with MySQL/MariaDB 5 times\", \"x\": [0.8999998697847799], \"y\": [0.0004841357034875989], \"type\": \"scatter\", \"uid\": \"8e1d1efe-1d64-4a09-82e1-47f74db8523a\"}, {\"hoverinfo\": \"text\", \"marker\": {\"color\": \"blue\", \"size\": 0.5}, \"mode\": \"markers\", \"text\": \"MySQL/MariaDB appears with Power BI 5 times\", \"x\": [-0.6652062937856372], \"y\": [0.6062182665574971], \"type\": \"scatter\", \"uid\": \"dd2f8712-1484-47d3-b74d-389385c47619\"}, {\"hoverinfo\": \"text\", \"marker\": {\"color\": \"green\", \"size\": 0.5}, \"mode\": \"markers\", \"text\": \"Power BI appears with T-SQL 45 times\", \"x\": [0.8992676387149496], \"y\": [0.03630033002658175], \"type\": \"scatter\", \"uid\": \"ea470259-91ac-4523-b53f-21b46154c5ba\"}, {\"hoverinfo\": \"text\", \"marker\": {\"color\": \"blue\", \"size\": 0.5}, \"mode\": \"markers\", \"text\": \"T-SQL appears with Power BI 45 times\", \"x\": [-0.7957110649892725], \"y\": [0.420528121596687], \"type\": \"scatter\", \"uid\": \"4c179f3d-92c3-48a9-b087-752ded8ae0db\"}, {\"hoverinfo\": \"text\", \"marker\": {\"color\": \"green\", \"size\": 0.5}, \"mode\": \"markers\", \"text\": \"Power BI appears with PL/SQL 9 times\", \"x\": [0.8999894525875116], \"y\": [0.004357204520250524], \"type\": \"scatter\", \"uid\": \"9017c1a8-e2bd-401b-b299-00d1faa749f5\"}, {\"hoverinfo\": \"text\", \"marker\": {\"color\": \"blue\", \"size\": 0.5}, \"mode\": \"markers\", \"text\": \"PL/SQL appears with Power BI 9 times\", \"x\": [-0.8679563087652475], \"y\": [0.23801648277925266], \"type\": \"scatter\", \"uid\": \"3126d17a-f47c-4966-b3a9-c798f9ee8061\"}, {\"hoverinfo\": \"text\", \"marker\": {\"color\": \"green\", \"size\": 0.5}, \"mode\": \"markers\", \"text\": \"Power BI appears with Pentaho 9 times\", \"x\": [0.8999793271102864], \"y\": [0.00610006345180654], \"type\": \"scatter\", \"uid\": \"efd75b07-81a0-4d8d-8534-a02998145391\"}, {\"hoverinfo\": \"text\", \"marker\": {\"color\": \"blue\", \"size\": 0.5}, \"mode\": \"markers\", \"text\": \"Pentaho appears with Power BI 9 times\", \"x\": [-0.8852411495510091], \"y\": [0.16232100030990418], \"type\": \"scatter\", \"uid\": \"87a5d72c-4bcf-4d51-b10f-47e25c00be32\"}, {\"hoverinfo\": \"text\", \"marker\": {\"color\": \"green\", \"size\": 0.5}, \"mode\": \"markers\", \"text\": \"Power BI appears with Hadoop 22 times\", \"x\": [0.8999173093908532], \"y\": [0.012199846668193112], \"type\": \"scatter\", \"uid\": \"d977bb63-d159-42af-b48e-e2e88fa18722\"}, {\"hoverinfo\": \"text\", \"marker\": {\"color\": \"blue\", \"size\": 0.5}, \"mode\": \"markers\", \"text\": \"Hadoop appears with Power BI 22 times\", \"x\": [-0.899322815333157], \"y\": [0.0349066443710128], \"type\": \"scatter\", \"uid\": \"15813ed2-bda3-48ad-b458-78bc57650ce7\"}, {\"hoverinfo\": \"text\", \"marker\": {\"color\": \"green\", \"size\": 0.5}, \"mode\": \"markers\", \"text\": \"Power BI appears with Spark 28 times\", \"x\": [0.8997292492494788], \"y\": [0.02207437530190202], \"type\": \"scatter\", \"uid\": \"c6e8c08d-94b8-4846-b71c-c68afa674d8f\"}, {\"hoverinfo\": \"text\", \"marker\": {\"color\": \"blue\", \"size\": 0.5}, \"mode\": \"markers\", \"text\": \"Spark appears with Power BI 28 times\", \"x\": [-0.8899158944863899], \"y\": [-0.13434917469224994], \"type\": \"scatter\", \"uid\": \"c3a4abd7-779e-4474-af9c-badbf085428a\"}, {\"hoverinfo\": \"text\", \"marker\": {\"color\": \"green\", \"size\": 0.5}, \"mode\": \"markers\", \"text\": \"Power BI appears with Informatica 16 times\", \"x\": [0.8999596648337065], \"y\": [0.008520661500299013], \"type\": \"scatter\", \"uid\": \"d6805ad8-500a-477d-b6d5-4b30eff28c62\"}, {\"hoverinfo\": \"text\", \"marker\": {\"color\": \"blue\", \"size\": 0.5}, \"mode\": \"markers\", \"text\": \"Informatica appears with Power BI 16 times\", \"x\": [-0.85363120538962], \"y\": [-0.2851556858718836], \"type\": \"scatter\", \"uid\": \"d193bc43-7097-411f-8c11-029ec338cbd5\"}, {\"hoverinfo\": \"text\", \"marker\": {\"color\": \"green\", \"size\": 0.5}, \"mode\": \"markers\", \"text\": \"Power BI appears with Qlik 179 times\", \"x\": [0.8866157988494501], \"y\": [0.15463642918326692], \"type\": \"scatter\", \"uid\": \"6a56514a-6fb9-4286-8c41-c4f9e203297d\"}, {\"hoverinfo\": \"text\", \"marker\": {\"color\": \"blue\", \"size\": 0.5}, \"mode\": \"markers\", \"text\": \"Qlik appears with Power BI 179 times\", \"x\": [-0.7282476673006085], \"y\": [-0.5288244841828169], \"type\": \"scatter\", \"uid\": \"ef9ddf48-2872-4cb1-9b31-74745f8a7112\"}, {\"hoverinfo\": \"text\", \"marker\": {\"color\": \"green\", \"size\": 0.5}, \"mode\": \"markers\", \"text\": \"Power BI appears with Tableau 186 times\", \"x\": [0.8798614647970305], \"y\": [0.1893245963028149], \"type\": \"scatter\", \"uid\": \"22d68c6e-adb8-4593-b221-2281b1235143\"}, {\"hoverinfo\": \"text\", \"marker\": {\"color\": \"blue\", \"size\": 0.5}, \"mode\": \"markers\", \"text\": \"Tableau appears with Power BI 186 times\", \"x\": [-0.36173766242587646], \"y\": [-0.8241030661165281], \"type\": \"scatter\", \"uid\": \"053b6cdf-b3f8-4bc7-a0e7-e0358a0fb281\"}, {\"hoverinfo\": \"text\", \"marker\": {\"color\": \"green\", \"size\": 0.5}, \"mode\": \"markers\", \"text\": \"Power BI appears with Microstrategy 26 times\", \"x\": [0.8998423087610623], \"y\": [0.01684693929356242], \"type\": \"scatter\", \"uid\": \"aa198735-73ca-45c6-a0c2-3df83c093749\"}, {\"hoverinfo\": \"text\", \"marker\": {\"color\": \"blue\", \"size\": 0.5}, \"mode\": \"markers\", \"text\": \"Microstrategy appears with Power BI 26 times\", \"x\": [-0.06435868811088466], \"y\": [-0.8976959169254619], \"type\": \"scatter\", \"uid\": \"6b378f3c-eeaa-4f35-b66b-e0b29dec95e9\"}, {\"hoverinfo\": \"text\", \"marker\": {\"color\": \"green\", \"size\": 0.5}, \"mode\": \"markers\", \"text\": \"Power BI appears with Oracle BI 168 times\", \"x\": [0.8917696179872624], \"y\": [0.121437014270164], \"type\": \"scatter\", \"uid\": \"a4514977-0c3e-4707-acf9-b461d84935b4\"}, {\"hoverinfo\": \"text\", \"marker\": {\"color\": \"blue\", \"size\": 0.5}, \"mode\": \"markers\", \"text\": \"Oracle BI appears with Power BI 168 times\", \"x\": [0.20046265422659398], \"y\": [-0.877390861737475], \"type\": \"scatter\", \"uid\": \"6a0a3575-04e6-46f9-9568-f791a411319a\"}, {\"hoverinfo\": \"text\", \"marker\": {\"color\": \"green\", \"size\": 0.5}, \"mode\": \"markers\", \"text\": \"Power BI appears with Python 80 times\", \"x\": [0.8986981617364656], \"y\": [0.04839022723130864], \"type\": \"scatter\", \"uid\": \"e584fdc3-452d-4cce-8307-9ec87fbe4992\"}, {\"hoverinfo\": \"text\", \"marker\": {\"color\": \"blue\", \"size\": 0.5}, \"mode\": \"markers\", \"text\": \"Python appears with Power BI 80 times\", \"x\": [0.631710234405415], \"y\": [-0.6410477203355891], \"type\": \"scatter\", \"uid\": \"bbae07e8-f6af-4784-901a-0d00f21816ef\"}, {\"hoverinfo\": \"text\", \"marker\": {\"color\": \"green\", \"size\": 0.5}, \"mode\": \"markers\", \"text\": \"Power BI appears with VBA 37 times\", \"x\": [0.8995528831576017], \"y\": [0.028365655339620127], \"type\": \"scatter\", \"uid\": \"d19f26ab-0309-4ca0-bd3c-96082c35977c\"}, {\"hoverinfo\": \"text\", \"marker\": {\"color\": \"blue\", \"size\": 0.5}, \"mode\": \"markers\", \"text\": \"VBA appears with Power BI 37 times\", \"x\": [0.8246672159917029], \"y\": [-0.3604496953369417], \"type\": \"scatter\", \"uid\": \"e27908cc-7b23-439d-95b0-ca11df59a4b0\"}, {\"hoverinfo\": \"text\", \"marker\": {\"color\": \"green\", \"size\": 0.5}, \"mode\": \"markers\", \"text\": \"Power BI appears with Linux 7 times\", \"x\": [0.8999956195634404], \"y\": [0.002807982660016528], \"type\": \"scatter\", \"uid\": \"67956bd3-5ad2-470c-a363-66729c060dea\"}, {\"hoverinfo\": \"text\", \"marker\": {\"color\": \"blue\", \"size\": 0.5}, \"mode\": \"markers\", \"text\": \"Linux appears with Power BI 7 times\", \"x\": [0.8700255806588798], \"y\": [-0.2303377715425309], \"type\": \"scatter\", \"uid\": \"f9c047c8-8799-4783-a722-6bf3ba335a2b\"}, {\"hoverinfo\": \"text\", \"marker\": {\"color\": \"green\", \"size\": 0.5}, \"mode\": \"markers\", \"text\": \"Power BI appears with AWS 6 times\", \"x\": [0.8999986665964423], \"y\": [0.0015492335607822146], \"type\": \"scatter\", \"uid\": \"bf45d03b-9e7d-4c8c-a570-df06d57d4d89\"}, {\"hoverinfo\": \"text\", \"marker\": {\"color\": \"blue\", \"size\": 0.5}, \"mode\": \"markers\", \"text\": \"AWS appears with Power BI 6 times\", \"x\": [0.8949004509791026], \"y\": [-0.09567226785959847], \"type\": \"scatter\", \"uid\": \"e4700553-798c-4ab7-b9cf-154204d12d5a\"}, {\"hoverinfo\": \"text\", \"marker\": {\"color\": \"green\", \"size\": 0.5}, \"mode\": \"markers\", \"text\": \"Excel appears with SSIS/SSRS 594 times\", \"x\": [0.4504731764056443], \"y\": [0.7791494833079268], \"type\": \"scatter\", \"uid\": \"8c93bbf2-f441-448f-8ba5-c55b55a9ea21\"}, {\"hoverinfo\": \"text\", \"marker\": {\"color\": \"blue\", \"size\": 0.5}, \"mode\": \"markers\", \"text\": \"SSIS/SSRS appears with Excel 594 times\", \"x\": [-0.15689290131254552], \"y\": [0.8862192829755692], \"type\": \"scatter\", \"uid\": \"3b30b9c2-0ec1-4d50-adf1-8c2cef1bc230\"}, {\"hoverinfo\": \"text\", \"marker\": {\"color\": \"green\", \"size\": 0.5}, \"mode\": \"markers\", \"text\": \"Excel appears with MS SQL Server 264 times\", \"x\": [0.7052416193469014], \"y\": [0.5591370657906343], \"type\": \"scatter\", \"uid\": \"4f08cabe-a528-4dae-bb1d-063e2a38b5ed\"}, {\"hoverinfo\": \"text\", \"marker\": {\"color\": \"blue\", \"size\": 0.5}, \"mode\": \"markers\", \"text\": \"MS SQL Server appears with Excel 264 times\", \"x\": [-0.49063882560211525], \"y\": [0.754502182112005], \"type\": \"scatter\", \"uid\": \"ba443944-5d68-4617-94bf-1fec96ac2b04\"}, {\"hoverinfo\": \"text\", \"marker\": {\"color\": \"green\", \"size\": 0.5}, \"mode\": \"markers\", \"text\": \"Excel appears with PostgreSQL 72 times\", \"x\": [0.8397222382995212], \"y\": [0.32383107093860247], \"type\": \"scatter\", \"uid\": \"b18419fe-8be4-4cea-a856-b35f2690f19a\"}, {\"hoverinfo\": \"text\", \"marker\": {\"color\": \"blue\", \"size\": 0.5}, \"mode\": \"markers\", \"text\": \"PostgreSQL appears with Excel 72 times\", \"x\": [-0.6187244620997158], \"y\": [0.6535901162038923], \"type\": \"scatter\", \"uid\": \"680d889f-34d6-424f-9f97-35169ce2ac31\"}, {\"hoverinfo\": \"text\", \"marker\": {\"color\": \"green\", \"size\": 0.5}, \"mode\": \"markers\", \"text\": \"Excel appears with MySQL/MariaDB 122 times\", \"x\": [0.8003907750335388], \"y\": [0.411551463660635], \"type\": \"scatter\", \"uid\": \"39d001de-8910-4f78-b947-f052beae7929\"}, {\"hoverinfo\": \"text\", \"marker\": {\"color\": \"blue\", \"size\": 0.5}, \"mode\": \"markers\", \"text\": \"MySQL/MariaDB appears with Excel 122 times\", \"x\": [-0.7452641265594468], \"y\": [0.5045605827485782], \"type\": \"scatter\", \"uid\": \"f115c79b-4fce-43b9-b138-6dd25b646689\"}, {\"hoverinfo\": \"text\", \"marker\": {\"color\": \"green\", \"size\": 0.5}, \"mode\": \"markers\", \"text\": \"Excel appears with T-SQL 180 times\", \"x\": [0.7854974135462548], \"y\": [0.4393106114267489], \"type\": \"scatter\", \"uid\": \"eee6a751-c37e-4e4a-8c34-1370bd27c5e4\"}, {\"hoverinfo\": \"text\", \"marker\": {\"color\": \"blue\", \"size\": 0.5}, \"mode\": \"markers\", \"text\": \"T-SQL appears with Excel 180 times\", \"x\": [-0.853503891659125], \"y\": [0.2855365246736899], \"type\": \"scatter\", \"uid\": \"84becfb8-adde-4703-bc5b-8b80c338ee1f\"}, {\"hoverinfo\": \"text\", \"marker\": {\"color\": \"green\", \"size\": 0.5}, \"mode\": \"markers\", \"text\": \"Excel appears with PL/SQL 58 times\", \"x\": [0.8491676013149646], \"y\": [0.29818515200624796], \"type\": \"scatter\", \"uid\": \"756cdf7e-e49d-4f4a-81e7-35a04e07d163\"}, {\"hoverinfo\": \"text\", \"marker\": {\"color\": \"blue\", \"size\": 0.5}, \"mode\": \"markers\", \"text\": \"PL/SQL appears with Excel 58 times\", \"x\": [-0.8754023290703038], \"y\": [0.20897550635968723], \"type\": \"scatter\", \"uid\": \"f3acaad4-68fc-446e-b46a-ae8e10d30efb\"}, {\"hoverinfo\": \"text\", \"marker\": {\"color\": \"green\", \"size\": 0.5}, \"mode\": \"markers\", \"text\": \"Excel appears with Pentaho 66 times\", \"x\": [0.8447943617138493], \"y\": [0.3103586416011161], \"type\": \"scatter\", \"uid\": \"45ec6974-ae50-49ad-909d-7b758c302319\"}, {\"hoverinfo\": \"text\", \"marker\": {\"color\": \"blue\", \"size\": 0.5}, \"mode\": \"markers\", \"text\": \"Pentaho appears with Excel 66 times\", \"x\": [-0.8964221311215856], \"y\": [0.08017083531705778], \"type\": \"scatter\", \"uid\": \"18f58704-6ea8-48dc-a18e-3c6fa8e8378c\"}, {\"hoverinfo\": \"text\", \"marker\": {\"color\": \"green\", \"size\": 0.5}, \"mode\": \"markers\", \"text\": \"Excel appears with Hadoop 84 times\", \"x\": [0.8277928737340403], \"y\": [0.3532123415102298], \"type\": \"scatter\", \"uid\": \"89eb7cb2-8752-45cb-8899-79b7c1d86086\"}, {\"hoverinfo\": \"text\", \"marker\": {\"color\": \"blue\", \"size\": 0.5}, \"mode\": \"markers\", \"text\": \"Hadoop appears with Excel 84 times\", \"x\": [-0.8999708890955728], \"y\": [-0.007238700195775419], \"type\": \"scatter\", \"uid\": \"2e7ee470-2b60-43cd-a387-562594c35f46\"}, {\"hoverinfo\": \"text\", \"marker\": {\"color\": \"green\", \"size\": 0.5}, \"mode\": \"markers\", \"text\": \"Excel appears with Spark 89 times\", \"x\": [0.8205443079195579], \"y\": [0.36973914959172727], \"type\": \"scatter\", \"uid\": \"495f2603-ead1-48df-9872-72e1eccc6f66\"}, {\"hoverinfo\": \"text\", \"marker\": {\"color\": \"blue\", \"size\": 0.5}, \"mode\": \"markers\", \"text\": \"Spark appears with Excel 89 times\", \"x\": [-0.8805558790254902], \"y\": [-0.18606811632745246], \"type\": \"scatter\", \"uid\": \"d23906de-3d9b-4d92-999f-d344e1d5e7f3\"}, {\"hoverinfo\": \"text\", \"marker\": {\"color\": \"green\", \"size\": 0.5}, \"mode\": \"markers\", \"text\": \"Excel appears with Informatica 117 times\", \"x\": [0.8114830012395479], \"y\": [0.3892240212258951], \"type\": \"scatter\", \"uid\": \"06601eac-0733-4004-bc33-93d5d15108b2\"}, {\"hoverinfo\": \"text\", \"marker\": {\"color\": \"blue\", \"size\": 0.5}, \"mode\": \"markers\", \"text\": \"Informatica appears with Excel 117 times\", \"x\": [-0.8232722980222471], \"y\": [-0.3636244261723466], \"type\": \"scatter\", \"uid\": \"f8a11a52-fd9d-44ff-af16-469313574e81\"}, {\"hoverinfo\": \"text\", \"marker\": {\"color\": \"green\", \"size\": 0.5}, \"mode\": \"markers\", \"text\": \"Excel appears with Qlik 410 times\", \"x\": [0.6071845304664453], \"y\": [0.6643244282443952], \"type\": \"scatter\", \"uid\": \"99cf6ba5-931f-4611-85c8-656ba2445486\"}, {\"hoverinfo\": \"text\", \"marker\": {\"color\": \"blue\", \"size\": 0.5}, \"mode\": \"markers\", \"text\": \"Qlik appears with Excel 410 times\", \"x\": [-0.5947680674352914], \"y\": [-0.6754635045354328], \"type\": \"scatter\", \"uid\": \"ec11d905-ee48-4aec-9c7c-02fa0587f12d\"}, {\"hoverinfo\": \"text\", \"marker\": {\"color\": \"green\", \"size\": 0.5}, \"mode\": \"markers\", \"text\": \"Excel appears with Tableau 431 times\", \"x\": [0.5396473124956201], \"y\": [0.7202643807077055], \"type\": \"scatter\", \"uid\": \"70442e54-bc56-4197-98d8-68ef11cb139f\"}, {\"hoverinfo\": \"text\", \"marker\": {\"color\": \"blue\", \"size\": 0.5}, \"mode\": \"markers\", \"text\": \"Tableau appears with Excel 431 times\", \"x\": [-0.15366541062510808], \"y\": [-0.8867846083336229], \"type\": \"scatter\", \"uid\": \"aa1fec9d-7633-48a3-af5c-9e463348057a\"}, {\"hoverinfo\": \"text\", \"marker\": {\"color\": \"green\", \"size\": 0.5}, \"mode\": \"markers\", \"text\": \"Excel appears with Microstrategy 39 times\", \"x\": [0.8560124311420071], \"y\": [0.2779257413957018], \"type\": \"scatter\", \"uid\": \"a7ab9928-aa73-4901-84da-be9b5ab762c1\"}, {\"hoverinfo\": \"text\", \"marker\": {\"color\": \"blue\", \"size\": 0.5}, \"mode\": \"markers\", \"text\": \"Microstrategy appears with Excel 39 times\", \"x\": [-0.05053197647284216], \"y\": [-0.8985802798602628], \"type\": \"scatter\", \"uid\": \"13362210-365f-4462-9eb4-5e7244beb7b6\"}, {\"hoverinfo\": \"text\", \"marker\": {\"color\": \"green\", \"size\": 0.5}, \"mode\": \"markers\", \"text\": \"Excel appears with Oracle BI 618 times\", \"x\": [0.33694014964815716], \"y\": [0.8345485819022626], \"type\": \"scatter\", \"uid\": \"0c95423e-bdec-4914-8dd0-97a12362475f\"}, {\"hoverinfo\": \"text\", \"marker\": {\"color\": \"blue\", \"size\": 0.5}, \"mode\": \"markers\", \"text\": \"Oracle BI appears with Excel 618 times\", \"x\": [0.5016446687769802], \"y\": [-0.7472299688098931], \"type\": \"scatter\", \"uid\": \"cb2284da-637b-434e-9f0b-79d296705319\"}, {\"hoverinfo\": \"text\", \"marker\": {\"color\": \"green\", \"size\": 0.5}, \"mode\": \"markers\", \"text\": \"Excel appears with Python 353 times\", \"x\": [0.6634863052577865], \"y\": [0.6081002571413463], \"type\": \"scatter\", \"uid\": \"a4d70a8b-4c6e-4b7b-9229-d32be71dec08\"}, {\"hoverinfo\": \"text\", \"marker\": {\"color\": \"blue\", \"size\": 0.5}, \"mode\": \"markers\", \"text\": \"Python appears with Excel 353 times\", \"x\": [0.7867755253499107], \"y\": [-0.43701747414762737], \"type\": \"scatter\", \"uid\": \"6d1072c1-6a34-40d8-8b89-9bec9210642a\"}, {\"hoverinfo\": \"text\", \"marker\": {\"color\": \"green\", \"size\": 0.5}, \"mode\": \"markers\", \"text\": \"Excel appears with VBA 256 times\", \"x\": [0.737640946240414], \"y\": [0.5156411876775813], \"type\": \"scatter\", \"uid\": \"1f7ff34d-f307-4a6b-b550-75bab31a0bbe\"}, {\"hoverinfo\": \"text\", \"marker\": {\"color\": \"blue\", \"size\": 0.5}, \"mode\": \"markers\", \"text\": \"VBA appears with Excel 256 times\", \"x\": [0.8550490599890455], \"y\": [-0.2808756041592966], \"type\": \"scatter\", \"uid\": \"12b54ce4-75f8-40bf-8f31-1cecc42039c8\"}, {\"hoverinfo\": \"text\", \"marker\": {\"color\": \"green\", \"size\": 0.5}, \"mode\": \"markers\", \"text\": \"Excel appears with Linux 74 times\", \"x\": [0.8341222274410918], \"y\": [0.33799424505265124], \"type\": \"scatter\", \"uid\": \"b1066df6-6c3a-40c8-b196-20ee9ab510a8\"}, {\"hoverinfo\": \"text\", \"marker\": {\"color\": \"blue\", \"size\": 0.5}, \"mode\": \"markers\", \"text\": \"Linux appears with Excel 74 times\", \"x\": [0.8823083201837139], \"y\": [-0.17757259961658795], \"type\": \"scatter\", \"uid\": \"41e4a475-1aa9-40a6-9f73-b623e13f4244\"}, {\"hoverinfo\": \"text\", \"marker\": {\"color\": \"green\", \"size\": 0.5}, \"mode\": \"markers\", \"text\": \"Excel appears with AWS 54 times\", \"x\": [0.8529668800361396], \"y\": [0.28713672973239396], \"type\": \"scatter\", \"uid\": \"bf9848c1-4c41-4dc8-a848-9c67b09fab56\"}, {\"hoverinfo\": \"text\", \"marker\": {\"color\": \"blue\", \"size\": 0.5}, \"mode\": \"markers\", \"text\": \"AWS appears with Excel 54 times\", \"x\": [0.8987701922977595], \"y\": [-0.04703340766995743], \"type\": \"scatter\", \"uid\": \"8ac929d7-2043-4085-b0e6-10dd1a7aee30\"}, {\"hoverinfo\": \"text\", \"marker\": {\"color\": \"green\", \"size\": 0.5}, \"mode\": \"markers\", \"text\": \"SSIS/SSRS appears with MS SQL Server 268 times\", \"x\": [-0.06999482327379389], \"y\": [0.8972740521796394], \"type\": \"scatter\", \"uid\": \"b8aa0548-22c2-4676-8576-38a09e63a84d\"}, {\"hoverinfo\": \"text\", \"marker\": {\"color\": \"blue\", \"size\": 0.5}, \"mode\": \"markers\", \"text\": \"MS SQL Server appears with SSIS/SSRS 268 times\", \"x\": [-0.5342543751171215], \"y\": [0.7242736103629719], \"type\": \"scatter\", \"uid\": \"ffe3540e-e571-416e-bed7-65f90eddca26\"}, {\"hoverinfo\": \"text\", \"marker\": {\"color\": \"green\", \"size\": 0.5}, \"mode\": \"markers\", \"text\": \"SSIS/SSRS appears with PostgreSQL 56 times\", \"x\": [0.19850743363670106], \"y\": [0.8778352913792944], \"type\": \"scatter\", \"uid\": \"bc83a30b-af82-40e3-be2b-f82bb819cc27\"}, {\"hoverinfo\": \"text\", \"marker\": {\"color\": \"blue\", \"size\": 0.5}, \"mode\": \"markers\", \"text\": \"PostgreSQL appears with SSIS/SSRS 56 times\", \"x\": [-0.6110237538209039], \"y\": [0.660794954782958], \"type\": \"scatter\", \"uid\": \"0fdc04c7-a3b7-4cda-baa3-923486b56dc7\"}, {\"hoverinfo\": \"text\", \"marker\": {\"color\": \"green\", \"size\": 0.5}, \"mode\": \"markers\", \"text\": \"SSIS/SSRS appears with MySQL/MariaDB 80 times\", \"x\": [0.17104758222238903], \"y\": [0.8835964715954195], \"type\": \"scatter\", \"uid\": \"52c672fe-5105-4450-a93e-251b7e922028\"}, {\"hoverinfo\": \"text\", \"marker\": {\"color\": \"blue\", \"size\": 0.5}, \"mode\": \"markers\", \"text\": \"MySQL/MariaDB appears with SSIS/SSRS 80 times\", \"x\": [-0.7144794322535104], \"y\": [0.5472834191593068], \"type\": \"scatter\", \"uid\": \"9108b2d4-b882-4603-8342-4a70a0420150\"}, {\"hoverinfo\": \"text\", \"marker\": {\"color\": \"green\", \"size\": 0.5}, \"mode\": \"markers\", \"text\": \"SSIS/SSRS appears with T-SQL 127 times\", \"x\": [0.1157568271715776], \"y\": [0.8925247094412398], \"type\": \"scatter\", \"uid\": \"6ef857ed-ba85-40c7-bc6a-d9300c2e242c\"}, {\"hoverinfo\": \"text\", \"marker\": {\"color\": \"blue\", \"size\": 0.5}, \"mode\": \"markers\", \"text\": \"T-SQL appears with SSIS/SSRS 127 times\", \"x\": [-0.8213599348418177], \"y\": [0.36792371143573377], \"type\": \"scatter\", \"uid\": \"d2425a55-4689-4927-977b-8a31718eeb51\"}, {\"hoverinfo\": \"text\", \"marker\": {\"color\": \"green\", \"size\": 0.5}, \"mode\": \"markers\", \"text\": \"SSIS/SSRS appears with PL/SQL 40 times\", \"x\": [0.2161163810766514], \"y\": [0.8736668185471688], \"type\": \"scatter\", \"uid\": \"49e66615-f171-41f9-bf27-dfc0b61123f0\"}, {\"hoverinfo\": \"text\", \"marker\": {\"color\": \"blue\", \"size\": 0.5}, \"mode\": \"markers\", \"text\": \"PL/SQL appears with SSIS/SSRS 40 times\", \"x\": [-0.8724525263308236], \"y\": [0.2209673941986995], \"type\": \"scatter\", \"uid\": \"9439fad4-e4f7-40f1-89c6-bf8798bfcc74\"}, {\"hoverinfo\": \"text\", \"marker\": {\"color\": \"green\", \"size\": 0.5}, \"mode\": \"markers\", \"text\": \"SSIS/SSRS appears with Pentaho 35 times\", \"x\": [0.22351012994848504], \"y\": [0.8718045777640833], \"type\": \"scatter\", \"uid\": \"e112a48f-283a-409e-8bbb-e5cfa8dfadf0\"}, {\"hoverinfo\": \"text\", \"marker\": {\"color\": \"blue\", \"size\": 0.5}, \"mode\": \"markers\", \"text\": \"Pentaho appears with SSIS/SSRS 35 times\", \"x\": [-0.8881491130233621], \"y\": [0.145571814015678], \"type\": \"scatter\", \"uid\": \"675b5e51-967f-44dd-a6ba-c75c6fae6f53\"}, {\"hoverinfo\": \"text\", \"marker\": {\"color\": \"green\", \"size\": 0.5}, \"mode\": \"markers\", \"text\": \"SSIS/SSRS appears with Hadoop 34 times\", \"x\": [0.23029822326385066], \"y\": [0.8700360500355796], \"type\": \"scatter\", \"uid\": \"0c89b87a-8418-4823-9178-a1d7f4e0ae63\"}, {\"hoverinfo\": \"text\", \"marker\": {\"color\": \"blue\", \"size\": 0.5}, \"mode\": \"markers\", \"text\": \"Hadoop appears with SSIS/SSRS 34 times\", \"x\": [-0.89965662528188], \"y\": [0.024858732598810142], \"type\": \"scatter\", \"uid\": \"5107f2a3-a928-43b6-814f-43596b6c08db\"}, {\"hoverinfo\": \"text\", \"marker\": {\"color\": \"green\", \"size\": 0.5}, \"mode\": \"markers\", \"text\": \"SSIS/SSRS appears with Spark 41 times\", \"x\": [0.20811372609948475], \"y\": [0.8756076044718826], \"type\": \"scatter\", \"uid\": \"1314c621-c4c8-4c05-8eee-2f5e164cb993\"}, {\"hoverinfo\": \"text\", \"marker\": {\"color\": \"blue\", \"size\": 0.5}, \"mode\": \"markers\", \"text\": \"Spark appears with SSIS/SSRS 41 times\", \"x\": [-0.8869905327276717], \"y\": [-0.15247227568145386], \"type\": \"scatter\", \"uid\": \"b900306e-13e9-43aa-9158-9242c00fc5d1\"}, {\"hoverinfo\": \"text\", \"marker\": {\"color\": \"green\", \"size\": 0.5}, \"mode\": \"markers\", \"text\": \"SSIS/SSRS appears with Informatica 70 times\", \"x\": [0.18599374485130968], \"y\": [0.8805715909999515], \"type\": \"scatter\", \"uid\": \"a4f7f4be-43a1-4b23-8f44-b6f3802cb5ed\"}, {\"hoverinfo\": \"text\", \"marker\": {\"color\": \"blue\", \"size\": 0.5}, \"mode\": \"markers\", \"text\": \"Informatica appears with SSIS/SSRS 70 times\", \"x\": [-0.8361447077235068], \"y\": [-0.33295949865707625], \"type\": \"scatter\", \"uid\": \"d9f96a75-47f0-4db2-b49c-0ed960f6badf\"}, {\"hoverinfo\": \"text\", \"marker\": {\"color\": \"green\", \"size\": 0.5}, \"mode\": \"markers\", \"text\": \"SSIS/SSRS appears with Qlik 88 times\", \"x\": [0.13739644400129564], \"y\": [0.8894505141804118], \"type\": \"scatter\", \"uid\": \"48fa700c-bfaa-4157-bfc7-7d0f0bad1f28\"}, {\"hoverinfo\": \"text\", \"marker\": {\"color\": \"blue\", \"size\": 0.5}, \"mode\": \"markers\", \"text\": \"Qlik appears with SSIS/SSRS 88 times\", \"x\": [-0.7540653069847985], \"y\": [-0.4913099966435872], \"type\": \"scatter\", \"uid\": \"576e21bb-9dbb-4173-88ad-d3355c67a979\"}, {\"hoverinfo\": \"text\", \"marker\": {\"color\": \"green\", \"size\": 0.5}, \"mode\": \"markers\", \"text\": \"SSIS/SSRS appears with Tableau 159 times\", \"x\": [0.06093069002366352], \"y\": [0.8979351040098835], \"type\": \"scatter\", \"uid\": \"55be7847-df4d-46b3-8103-1c83c5f07948\"}, {\"hoverinfo\": \"text\", \"marker\": {\"color\": \"blue\", \"size\": 0.5}, \"mode\": \"markers\", \"text\": \"Tableau appears with SSIS/SSRS 159 times\", \"x\": [-0.3935674003638564], \"y\": [-0.8093853849501089], \"type\": \"scatter\", \"uid\": \"e121bf75-0729-4f34-9444-b10ca2c27070\"}, {\"hoverinfo\": \"text\", \"marker\": {\"color\": \"green\", \"size\": 0.5}, \"mode\": \"markers\", \"text\": \"SSIS/SSRS appears with Microstrategy 31 times\", \"x\": [0.2366800140665717], \"y\": [0.868321697840983], \"type\": \"scatter\", \"uid\": \"c1bf98a3-4f4e-44fa-96d2-c7e7efd9b571\"}, {\"hoverinfo\": \"text\", \"marker\": {\"color\": \"blue\", \"size\": 0.5}, \"mode\": \"markers\", \"text\": \"Microstrategy appears with SSIS/SSRS 31 times\", \"x\": [-0.06043908732200589], \"y\": [-0.8979683272385964], \"type\": \"scatter\", \"uid\": \"67617a91-3a16-4fee-b620-808d2c8547bd\"}, {\"hoverinfo\": \"text\", \"marker\": {\"color\": \"green\", \"size\": 0.5}, \"mode\": \"markers\", \"text\": \"SSIS/SSRS appears with Oracle BI 267 times\", \"x\": [-0.015675369110888966], \"y\": [0.8998634800919734], \"type\": \"scatter\", \"uid\": \"8dd1740c-1a45-401d-bc84-75742fccf8d7\"}, {\"hoverinfo\": \"text\", \"marker\": {\"color\": \"blue\", \"size\": 0.5}, \"mode\": \"markers\", \"text\": \"Oracle BI appears with SSIS/SSRS 267 times\", \"x\": [0.2785051601233974], \"y\": [-0.8558240916126636], \"type\": \"scatter\", \"uid\": \"f4f0b720-7fb8-4f44-89d8-ca2869d381e2\"}, {\"hoverinfo\": \"text\", \"marker\": {\"color\": \"green\", \"size\": 0.5}, \"mode\": \"markers\", \"text\": \"SSIS/SSRS appears with Python 164 times\", \"x\": [0.028135772500829333], \"y\": [0.8995601026645088], \"type\": \"scatter\", \"uid\": \"133fe708-f7bf-43ae-a0b1-bd812cb45b0b\"}, {\"hoverinfo\": \"text\", \"marker\": {\"color\": \"blue\", \"size\": 0.5}, \"mode\": \"markers\", \"text\": \"Python appears with SSIS/SSRS 164 times\", \"x\": [0.7603612455227169], \"y\": [-0.4815088538200962], \"type\": \"scatter\", \"uid\": \"ed1f6b9e-256b-4d65-a4a1-92dbdaa5fa07\"}, {\"hoverinfo\": \"text\", \"marker\": {\"color\": \"green\", \"size\": 0.5}, \"mode\": \"markers\", \"text\": \"SSIS/SSRS appears with VBA 84 times\", \"x\": [0.15465040405065675], \"y\": [0.8866133613514792], \"type\": \"scatter\", \"uid\": \"33f21c15-5785-4ecd-ae5f-abc13ebb119e\"}, {\"hoverinfo\": \"text\", \"marker\": {\"color\": \"blue\", \"size\": 0.5}, \"mode\": \"markers\", \"text\": \"VBA appears with SSIS/SSRS 84 times\", \"x\": [0.8451844088617257], \"y\": [-0.3092948674275979], \"type\": \"scatter\", \"uid\": \"deb1070e-10ca-41ef-910c-0c8c2fdb7a7e\"}, {\"hoverinfo\": \"text\", \"marker\": {\"color\": \"green\", \"size\": 0.5}, \"mode\": \"markers\", \"text\": \"SSIS/SSRS appears with Linux 18 times\", \"x\": [0.24754846324064944], \"y\": [0.8652859402227641], \"type\": \"scatter\", \"uid\": \"19236a6f-6505-4e8d-b1ae-040f41a0ae17\"}, {\"hoverinfo\": \"text\", \"marker\": {\"color\": \"blue\", \"size\": 0.5}, \"mode\": \"markers\", \"text\": \"Linux appears with SSIS/SSRS 18 times\", \"x\": [0.8712576584996228], \"y\": [-0.22563264946756867], \"type\": \"scatter\", \"uid\": \"7a36dc1b-7cea-474a-b025-7696c3b5e504\"}, {\"hoverinfo\": \"text\", \"marker\": {\"color\": \"green\", \"size\": 0.5}, \"mode\": \"markers\", \"text\": \"SSIS/SSRS appears with AWS 31 times\", \"x\": [0.24275537616763257], \"y\": [0.8666428487801138], \"type\": \"scatter\", \"uid\": \"b5868619-fae1-4195-bc36-04f3842303a5\"}, {\"hoverinfo\": \"text\", \"marker\": {\"color\": \"blue\", \"size\": 0.5}, \"mode\": \"markers\", \"text\": \"AWS appears with SSIS/SSRS 31 times\", \"x\": [0.8963298888662807], \"y\": [-0.08119562996221495], \"type\": \"scatter\", \"uid\": \"8c9cdedc-6a23-4ff9-8630-cd1758cf9941\"}, {\"hoverinfo\": \"text\", \"marker\": {\"color\": \"green\", \"size\": 0.5}, \"mode\": \"markers\", \"text\": \"MS SQL Server appears with PostgreSQL 87 times\", \"x\": [-0.31973123977081563], \"y\": [0.841291824704494], \"type\": \"scatter\", \"uid\": \"85567196-5b64-405b-86a3-82d83676cf79\"}, {\"hoverinfo\": \"text\", \"marker\": {\"color\": \"blue\", \"size\": 0.5}, \"mode\": \"markers\", \"text\": \"PostgreSQL appears with MS SQL Server 87 times\", \"x\": [-0.6281717670930824], \"y\": [0.6445155009983501], \"type\": \"scatter\", \"uid\": \"6d4a45c8-bee3-41e6-9e2b-84ebbdd860d6\"}, {\"hoverinfo\": \"text\", \"marker\": {\"color\": \"green\", \"size\": 0.5}, \"mode\": \"markers\", \"text\": \"MS SQL Server appears with MySQL/MariaDB 93 times\", \"x\": [-0.3364526165651826], \"y\": [0.8347452526408534], \"type\": \"scatter\", \"uid\": \"49cf4a74-3c4b-4064-822a-f01628b8323e\"}, {\"hoverinfo\": \"text\", \"marker\": {\"color\": \"blue\", \"size\": 0.5}, \"mode\": \"markers\", \"text\": \"MySQL/MariaDB appears with MS SQL Server 93 times\", \"x\": [-0.723827101365455], \"y\": [0.5348591658828361], \"type\": \"scatter\", \"uid\": \"46b0b48d-ec26-4451-9263-f53b5a1c20c5\"}, {\"hoverinfo\": \"text\", \"marker\": {\"color\": \"green\", \"size\": 0.5}, \"mode\": \"markers\", \"text\": \"MS SQL Server appears with T-SQL 171 times\", \"x\": [-0.42303512516537733], \"y\": [0.7943810690571078], \"type\": \"scatter\", \"uid\": \"dd8ed4e5-1579-4d55-977e-aa4679b57aaf\"}, {\"hoverinfo\": \"text\", \"marker\": {\"color\": \"blue\", \"size\": 0.5}, \"mode\": \"markers\", \"text\": \"T-SQL appears with MS SQL Server 171 times\", \"x\": [-0.8422617242918408], \"y\": [0.3171674444089986], \"type\": \"scatter\", \"uid\": \"4d2bae58-601b-47f8-829f-219629580a1d\"}, {\"hoverinfo\": \"text\", \"marker\": {\"color\": \"green\", \"size\": 0.5}, \"mode\": \"markers\", \"text\": \"MS SQL Server appears with PL/SQL 12 times\", \"x\": [-0.24636736609234244], \"y\": [0.8656229669577405], \"type\": \"scatter\", \"uid\": \"d32273ce-fc85-4a6b-ac42-ad532adec03e\"}, {\"hoverinfo\": \"text\", \"marker\": {\"color\": \"blue\", \"size\": 0.5}, \"mode\": \"markers\", \"text\": \"PL/SQL appears with MS SQL Server 12 times\", \"x\": [-0.868336226453028], \"y\": [0.23662670565537572], \"type\": \"scatter\", \"uid\": \"c00624c1-31ed-4f1d-8d67-c38ae90b9113\"}, {\"hoverinfo\": \"text\", \"marker\": {\"color\": \"green\", \"size\": 0.5}, \"mode\": \"markers\", \"text\": \"MS SQL Server appears with Pentaho 46 times\", \"x\": [-0.27349155194434377], \"y\": [0.8574394270239002], \"type\": \"scatter\", \"uid\": \"95190b45-519f-40ee-82a9-2a194ac55efa\"}, {\"hoverinfo\": \"text\", \"marker\": {\"color\": \"blue\", \"size\": 0.5}, \"mode\": \"markers\", \"text\": \"Pentaho appears with MS SQL Server 46 times\", \"x\": [-0.8935468699375068], \"y\": [0.1075824856790565], \"type\": \"scatter\", \"uid\": \"2f8ba38c-cdcf-476a-8776-81a696bb40f3\"}, {\"hoverinfo\": \"text\", \"marker\": {\"color\": \"green\", \"size\": 0.5}, \"mode\": \"markers\", \"text\": \"MS SQL Server appears with Hadoop 29 times\", \"x\": [-0.25910192904159457], \"y\": [0.8618968559908573], \"type\": \"scatter\", \"uid\": \"0c7f2f44-e957-4e05-be84-77e2a6368e62\"}, {\"hoverinfo\": \"text\", \"marker\": {\"color\": \"blue\", \"size\": 0.5}, \"mode\": \"markers\", \"text\": \"Hadoop appears with MS SQL Server 29 times\", \"x\": [-0.8994860259548708], \"y\": [0.030411989607941742], \"type\": \"scatter\", \"uid\": \"d9c88a1e-6f7f-4cb7-8ad8-b4f91c2d6079\"}, {\"hoverinfo\": \"text\", \"marker\": {\"color\": \"green\", \"size\": 0.5}, \"mode\": \"markers\", \"text\": \"MS SQL Server appears with Spark 27 times\", \"x\": [-0.2537467122286216], \"y\": [0.863488625306185], \"type\": \"scatter\", \"uid\": \"c274b1b6-a38d-4609-b7e8-caecf2bd52e9\"}, {\"hoverinfo\": \"text\", \"marker\": {\"color\": \"blue\", \"size\": 0.5}, \"mode\": \"markers\", \"text\": \"Spark appears with MS SQL Server 27 times\", \"x\": [-0.8906378006976786], \"y\": [-0.1294770557604791], \"type\": \"scatter\", \"uid\": \"4bfb7b1e-8e04-4fcf-b6d0-cf0170702ae0\"}, {\"hoverinfo\": \"text\", \"marker\": {\"color\": \"green\", \"size\": 0.5}, \"mode\": \"markers\", \"text\": \"MS SQL Server appears with Informatica 62 times\", \"x\": [-0.29337536366540473], \"y\": [0.8508412871941462], \"type\": \"scatter\", \"uid\": \"d0961935-1ab4-43cf-8284-92de22377721\"}, {\"hoverinfo\": \"text\", \"marker\": {\"color\": \"blue\", \"size\": 0.5}, \"mode\": \"markers\", \"text\": \"Informatica appears with MS SQL Server 62 times\", \"x\": [-0.8447680333732782], \"y\": [-0.31043029779749903], \"type\": \"scatter\", \"uid\": \"c916c9ce-4a10-4f10-81c7-f49a25d16ff9\"}, {\"hoverinfo\": \"text\", \"marker\": {\"color\": \"green\", \"size\": 0.5}, \"mode\": \"markers\", \"text\": \"MS SQL Server appears with Qlik 66 times\", \"x\": [-0.30541772820202656], \"y\": [0.8465931793369901], \"type\": \"scatter\", \"uid\": \"1f6b9e7b-18cb-4ef0-890c-0df9903a41b0\"}, {\"hoverinfo\": \"text\", \"marker\": {\"color\": \"blue\", \"size\": 0.5}, \"mode\": \"markers\", \"text\": \"Qlik appears with MS SQL Server 66 times\", \"x\": [-0.7701392949869561], \"y\": [-0.46570963734605525], \"type\": \"scatter\", \"uid\": \"da41aee2-8ead-4700-b81d-b3e9e72bed2f\"}, {\"hoverinfo\": \"text\", \"marker\": {\"color\": \"green\", \"size\": 0.5}, \"mode\": \"markers\", \"text\": \"MS SQL Server appears with Tableau 106 times\", \"x\": [-0.35478286071576387], \"y\": [0.8271209837395851], \"type\": \"scatter\", \"uid\": \"52819b86-12e2-4767-853e-97d55affed1d\"}, {\"hoverinfo\": \"text\", \"marker\": {\"color\": \"blue\", \"size\": 0.5}, \"mode\": \"markers\", \"text\": \"Tableau appears with MS SQL Server 106 times\", \"x\": [-0.4417275796431033], \"y\": [-0.7841407688563615], \"type\": \"scatter\", \"uid\": \"69e8c710-9a3c-4ac2-a5ac-4a1a70d93dfd\"}, {\"hoverinfo\": \"text\", \"marker\": {\"color\": \"green\", \"size\": 0.5}, \"mode\": \"markers\", \"text\": \"MS SQL Server appears with Microstrategy 19 times\", \"x\": [-0.24934046034098487], \"y\": [0.8647712615697551], \"type\": \"scatter\", \"uid\": \"fed454e0-cad5-481c-8084-485832aadd3b\"}, {\"hoverinfo\": \"text\", \"marker\": {\"color\": \"blue\", \"size\": 0.5}, \"mode\": \"markers\", \"text\": \"Microstrategy appears with MS SQL Server 19 times\", \"x\": [-0.07075115923165008], \"y\": [-0.8972147309687786], \"type\": \"scatter\", \"uid\": \"e0967deb-c611-4556-94f5-b40b72b168bd\"}, {\"hoverinfo\": \"text\", \"marker\": {\"color\": \"green\", \"size\": 0.5}, \"mode\": \"markers\", \"text\": \"MS SQL Server appears with Oracle BI 176 times\", \"x\": [-0.4532702167592957], \"y\": [0.7775256334031574], \"type\": \"scatter\", \"uid\": \"1f3563a9-720a-442c-806a-3c565341c36d\"}, {\"hoverinfo\": \"text\", \"marker\": {\"color\": \"blue\", \"size\": 0.5}, \"mode\": \"markers\", \"text\": \"Oracle BI appears with MS SQL Server 176 times\", \"x\": [0.23481244262753326], \"y\": [-0.8688285888409125], \"type\": \"scatter\", \"uid\": \"f4e009c6-b917-4138-a667-82ffe1fb71cb\"}, {\"hoverinfo\": \"text\", \"marker\": {\"color\": \"green\", \"size\": 0.5}, \"mode\": \"markers\", \"text\": \"MS SQL Server appears with Python 114 times\", \"x\": [-0.3748461736504887], \"y\": [0.8182238972919256], \"type\": \"scatter\", \"uid\": \"3e2889fc-2c12-49ae-aa25-691aeb5852cb\"}, {\"hoverinfo\": \"text\", \"marker\": {\"color\": \"blue\", \"size\": 0.5}, \"mode\": \"markers\", \"text\": \"Python appears with MS SQL Server 114 times\", \"x\": [0.6717187017230046], \"y\": [-0.598994145009416], \"type\": \"scatter\", \"uid\": \"d855567b-329a-4a7c-a7c6-38b54064b9d5\"}, {\"hoverinfo\": \"text\", \"marker\": {\"color\": \"green\", \"size\": 0.5}, \"mode\": \"markers\", \"text\": \"MS SQL Server appears with VBA 38 times\", \"x\": [-0.2654959272772795], \"y\": [0.8599487848698767], \"type\": \"scatter\", \"uid\": \"ab2baf51-903c-4b93-8418-53e789195b7f\"}, {\"hoverinfo\": \"text\", \"marker\": {\"color\": \"blue\", \"size\": 0.5}, \"mode\": \"markers\", \"text\": \"VBA appears with MS SQL Server 38 times\", \"x\": [0.827302564744302], \"y\": [-0.3543592335011183], \"type\": \"scatter\", \"uid\": \"986544a3-a498-485b-884e-7e3f692c37eb\"}, {\"hoverinfo\": \"text\", \"marker\": {\"color\": \"green\", \"size\": 0.5}, \"mode\": \"markers\", \"text\": \"MS SQL Server appears with Linux 51 times\", \"x\": [-0.28269505018679514], \"y\": [0.8544492428458729], \"type\": \"scatter\", \"uid\": \"1e061e83-6282-4e4d-8bbb-8b144cfb02cf\"}, {\"hoverinfo\": \"text\", \"marker\": {\"color\": \"blue\", \"size\": 0.5}, \"mode\": \"markers\", \"text\": \"Linux appears with MS SQL Server 51 times\", \"x\": [0.8801419446131086], \"y\": [-0.188016375171568], \"type\": \"scatter\", \"uid\": \"3bd8c093-83fb-4866-babe-6b5375d77a74\"}, {\"hoverinfo\": \"text\", \"marker\": {\"color\": \"green\", \"size\": 0.5}, \"mode\": \"markers\", \"text\": \"MS SQL Server appears with AWS 10 times\", \"x\": [-0.24425566129959994], \"y\": [0.8662212026515486], \"type\": \"scatter\", \"uid\": \"c8328e2a-c596-49a7-be3a-828102e1e93c\"}, {\"hoverinfo\": \"text\", \"marker\": {\"color\": \"blue\", \"size\": 0.5}, \"mode\": \"markers\", \"text\": \"AWS appears with MS SQL Server 10 times\", \"x\": [0.8951748564760236], \"y\": [-0.09306973908382189], \"type\": \"scatter\", \"uid\": \"d89f57fc-dbf2-4fc5-9620-10ab4b71fd10\"}, {\"hoverinfo\": \"text\", \"marker\": {\"color\": \"green\", \"size\": 0.5}, \"mode\": \"markers\", \"text\": \"PostgreSQL appears with MySQL/MariaDB 99 times\", \"x\": [-0.6390542933846644], \"y\": [0.6337267629717301], \"type\": \"scatter\", \"uid\": \"50274eac-9c6f-4d51-b197-94cafe1ae1b9\"}, {\"hoverinfo\": \"text\", \"marker\": {\"color\": \"blue\", \"size\": 0.5}, \"mode\": \"markers\", \"text\": \"MySQL/MariaDB appears with PostgreSQL 99 times\", \"x\": [-0.7339483621735224], \"y\": [0.5208836738301594], \"type\": \"scatter\", \"uid\": \"7dd0bc04-9c5f-42ac-9b7d-b354a468545b\"}, {\"hoverinfo\": \"text\", \"marker\": {\"color\": \"green\", \"size\": 0.5}, \"mode\": \"markers\", \"text\": \"PostgreSQL appears with T-SQL 38 times\", \"x\": [-0.5886699664139301], \"y\": [0.6807845992986493], \"type\": \"scatter\", \"uid\": \"537f33ef-a977-4fa6-a9dc-57af27d29e04\"}, {\"hoverinfo\": \"text\", \"marker\": {\"color\": \"blue\", \"size\": 0.5}, \"mode\": \"markers\", \"text\": \"T-SQL appears with PostgreSQL 38 times\", \"x\": [-0.7808101908349329], \"y\": [0.447588478279229], \"type\": \"scatter\", \"uid\": \"baaeed1f-849b-4b1c-9820-d98a91c50af6\"}, {\"hoverinfo\": \"text\", \"marker\": {\"color\": \"green\", \"size\": 0.5}, \"mode\": \"markers\", \"text\": \"PostgreSQL appears with PL/SQL 2 times\", \"x\": [-0.5777519350185054], \"y\": [0.6900744174234926], \"type\": \"scatter\", \"uid\": \"b1dd2b31-f63e-498f-a1ea-8de349f4fd18\"}, {\"hoverinfo\": \"text\", \"marker\": {\"color\": \"blue\", \"size\": 0.5}, \"mode\": \"markers\", \"text\": \"PL/SQL appears with PostgreSQL 2 times\", \"x\": [-0.8669875800796902], \"y\": [0.24152129510161782], \"type\": \"scatter\", \"uid\": \"4fb8db9f-304d-4acb-b325-a90624d618a4\"}, {\"hoverinfo\": \"text\", \"marker\": {\"color\": \"green\", \"size\": 0.5}, \"mode\": \"markers\", \"text\": \"PostgreSQL appears with Pentaho 47 times\", \"x\": [-0.6047661255629233], \"y\": [0.666526768683457], \"type\": \"scatter\", \"uid\": \"c0f53b49-1541-4893-8187-017d3b1782a9\"}, {\"hoverinfo\": \"text\", \"marker\": {\"color\": \"blue\", \"size\": 0.5}, \"mode\": \"markers\", \"text\": \"Pentaho appears with PostgreSQL 47 times\", \"x\": [-0.8944317810122586], \"y\": [0.0999589371454046], \"type\": \"scatter\", \"uid\": \"41c724c4-532d-49b1-ad2b-20f6147413cb\"}, {\"hoverinfo\": \"text\", \"marker\": {\"color\": \"green\", \"size\": 0.5}, \"mode\": \"markers\", \"text\": \"PostgreSQL appears with Hadoop 4 times\", \"x\": [-0.5781308749736908], \"y\": [0.6897569799589959], \"type\": \"scatter\", \"uid\": \"1a1ab2e0-2f6d-41c0-bc16-44aa89abd9d6\"}, {\"hoverinfo\": \"text\", \"marker\": {\"color\": \"blue\", \"size\": 0.5}, \"mode\": \"markers\", \"text\": \"Hadoop appears with PostgreSQL 4 times\", \"x\": [-0.8988679613380008], \"y\": [0.04512635682244098], \"type\": \"scatter\", \"uid\": \"920e6eff-995e-4c66-bcf0-b8540daa4495\"}, {\"hoverinfo\": \"text\", \"marker\": {\"color\": \"green\", \"size\": 0.5}, \"mode\": \"markers\", \"text\": \"PostgreSQL appears with Spark 10 times\", \"x\": [-0.580274903592757], \"y\": [0.6879542399465364], \"type\": \"scatter\", \"uid\": \"b9253aa0-02b8-41cb-9bc1-47b1aa5f408d\"}, {\"hoverinfo\": \"text\", \"marker\": {\"color\": \"blue\", \"size\": 0.5}, \"mode\": \"markers\", \"text\": \"Spark appears with PostgreSQL 10 times\", \"x\": [-0.8928701576725788], \"y\": [-0.11306140604885549], \"type\": \"scatter\", \"uid\": \"b226a117-a332-4c32-9c1c-823c36917d0d\"}, {\"hoverinfo\": \"text\", \"marker\": {\"color\": \"green\", \"size\": 0.5}, \"mode\": \"markers\", \"text\": \"PostgreSQL appears with Informatica 1 times\", \"x\": [-0.5775623996723594], \"y\": [0.6902330580932108], \"type\": \"scatter\", \"uid\": \"e8a9de98-c398-4444-9d96-4837527745a0\"}, {\"hoverinfo\": \"text\", \"marker\": {\"color\": \"blue\", \"size\": 0.5}, \"mode\": \"markers\", \"text\": \"Informatica appears with PostgreSQL 1 times\", \"x\": [-0.8578870718273552], \"y\": [-0.2720841266804925], \"type\": \"scatter\", \"uid\": \"6de890d5-ca42-4fea-9940-416cec9a30f3\"}, {\"hoverinfo\": \"text\", \"marker\": {\"color\": \"green\", \"size\": 0.5}, \"mode\": \"markers\", \"text\": \"PostgreSQL appears with Qlik 14 times\", \"x\": [-0.5817849523267636], \"y\": [0.6866777040549267], \"type\": \"scatter\", \"uid\": \"b5698898-2fde-4e1f-9eca-0236e5cc120a\"}, {\"hoverinfo\": \"text\", \"marker\": {\"color\": \"blue\", \"size\": 0.5}, \"mode\": \"markers\", \"text\": \"Qlik appears with PostgreSQL 14 times\", \"x\": [-0.7944577071662394], \"y\": [-0.42289118165807377], \"type\": \"scatter\", \"uid\": \"89b7d2c0-8d0e-4a06-8b0c-9cb085d7c6ec\"}, {\"hoverinfo\": \"text\", \"marker\": {\"color\": \"green\", \"size\": 0.5}, \"mode\": \"markers\", \"text\": \"PostgreSQL appears with Tableau 6 times\", \"x\": [-0.579266647913817], \"y\": [0.6888034194272631], \"type\": \"scatter\", \"uid\": \"944eefac-3993-4d10-9b49-f0494e432357\"}, {\"hoverinfo\": \"text\", \"marker\": {\"color\": \"blue\", \"size\": 0.5}, \"mode\": \"markers\", \"text\": \"Tableau appears with PostgreSQL 6 times\", \"x\": [-0.5405471534071943], \"y\": [-0.7195893099146062], \"type\": \"scatter\", \"uid\": \"7499227e-49f7-4b49-b8ea-3259cd9494fb\"}, {\"hoverinfo\": \"text\", \"marker\": {\"color\": \"green\", \"size\": 0.5}, \"mode\": \"markers\", \"text\": \"PostgreSQL appears with Oracle BI 45 times\", \"x\": [-0.599131311535537], \"y\": [0.6715963605750908], \"type\": \"scatter\", \"uid\": \"74c0a6be-a9c3-46c6-a712-92ba4ae3cfa1\"}, {\"hoverinfo\": \"text\", \"marker\": {\"color\": \"blue\", \"size\": 0.5}, \"mode\": \"markers\", \"text\": \"Oracle BI appears with PostgreSQL 45 times\", \"x\": [0.03264835691431367], \"y\": [-0.8994076299380586], \"type\": \"scatter\", \"uid\": \"3588abc4-01d3-41fe-b8ff-b5dbe47b03fa\"}, {\"hoverinfo\": \"text\", \"marker\": {\"color\": \"green\", \"size\": 0.5}, \"mode\": \"markers\", \"text\": \"PostgreSQL appears with Python 29 times\", \"x\": [-0.5844834285208544], \"y\": [0.68438229213248], \"type\": \"scatter\", \"uid\": \"8bc9dea3-0730-45bb-85dc-c2f36ec0ba11\"}, {\"hoverinfo\": \"text\", \"marker\": {\"color\": \"blue\", \"size\": 0.5}, \"mode\": \"markers\", \"text\": \"Python appears with PostgreSQL 29 times\", \"x\": [0.5850531843524662], \"y\": [-0.6838952927744415], \"type\": \"scatter\", \"uid\": \"7399e224-cf0d-4936-9f6a-52519bc95473\"}, {\"hoverinfo\": \"text\", \"marker\": {\"color\": \"green\", \"size\": 0.5}, \"mode\": \"markers\", \"text\": \"PostgreSQL appears with Linux 43 times\", \"x\": [-0.5937017198999298], \"y\": [0.6764009667259985], \"type\": \"scatter\", \"uid\": \"1356d3bd-ebf9-406c-a75c-cdf6b9f7da4a\"}, {\"hoverinfo\": \"text\", \"marker\": {\"color\": \"blue\", \"size\": 0.5}, \"mode\": \"markers\", \"text\": \"Linux appears with PostgreSQL 43 times\", \"x\": [0.8767282231049062], \"y\": [-0.20334114883936763], \"type\": \"scatter\", \"uid\": \"53a34b35-947d-4f92-ac8d-4cc0ab0edf0f\"}, {\"hoverinfo\": \"text\", \"marker\": {\"color\": \"green\", \"size\": 0.5}, \"mode\": \"markers\", \"text\": \"PostgreSQL appears with AWS 4 times\", \"x\": [-0.5786358569208937], \"y\": [0.6893334063321052], \"type\": \"scatter\", \"uid\": \"03c0a64a-4097-4db8-8c5d-74a2f60f31a3\"}, {\"hoverinfo\": \"text\", \"marker\": {\"color\": \"blue\", \"size\": 0.5}, \"mode\": \"markers\", \"text\": \"AWS appears with PostgreSQL 4 times\", \"x\": [0.8947355014091289], \"y\": [-0.09720279069118719], \"type\": \"scatter\", \"uid\": \"86f8a9f8-ad4a-42ad-8a11-3c30f67c2e30\"}, {\"hoverinfo\": \"text\", \"marker\": {\"color\": \"green\", \"size\": 0.5}, \"mode\": \"markers\", \"text\": \"MySQL/MariaDB appears with T-SQL 39 times\", \"x\": [-0.6748068964547332], \"y\": [0.595512932266908], \"type\": \"scatter\", \"uid\": \"c31ea280-1ae7-4224-9129-e353d7175ad2\"}, {\"hoverinfo\": \"text\", \"marker\": {\"color\": \"blue\", \"size\": 0.5}, \"mode\": \"markers\", \"text\": \"T-SQL appears with MySQL/MariaDB 39 times\", \"x\": [-0.7844465969827763], \"y\": [0.44118424323874234], \"type\": \"scatter\", \"uid\": \"81e792b1-bc8d-4502-90f2-bb5824fed4a5\"}, {\"hoverinfo\": \"text\", \"marker\": {\"color\": \"green\", \"size\": 0.5}, \"mode\": \"markers\", \"text\": \"MySQL/MariaDB appears with Pentaho 64 times\", \"x\": [-0.6985597802129272], \"y\": [0.5674629798223553], \"type\": \"scatter\", \"uid\": \"875b78e8-84e7-44dd-a0d5-9699cf613a38\"}, {\"hoverinfo\": \"text\", \"marker\": {\"color\": \"blue\", \"size\": 0.5}, \"mode\": \"markers\", \"text\": \"Pentaho appears with MySQL/MariaDB 64 times\", \"x\": [-0.8954028176109807], \"y\": [0.09085039468443117], \"type\": \"scatter\", \"uid\": \"02b77363-9717-4fc6-bbe4-9e2ff7583697\"}, {\"hoverinfo\": \"text\", \"marker\": {\"color\": \"green\", \"size\": 0.5}, \"mode\": \"markers\", \"text\": \"MySQL/MariaDB appears with Hadoop 6 times\", \"x\": [-0.6658717994150591], \"y\": [0.6054871978363797], \"type\": \"scatter\", \"uid\": \"27e52e1c-5027-4d2c-8d94-e55b814f0c60\"}, {\"hoverinfo\": \"text\", \"marker\": {\"color\": \"blue\", \"size\": 0.5}, \"mode\": \"markers\", \"text\": \"Hadoop appears with MySQL/MariaDB 6 times\", \"x\": [-0.8989546714691967], \"y\": [0.04336471657590685], \"type\": \"scatter\", \"uid\": \"d71518c0-8ad3-4c7c-a1eb-6d419bde0896\"}, {\"hoverinfo\": \"text\", \"marker\": {\"color\": \"green\", \"size\": 0.5}, \"mode\": \"markers\", \"text\": \"MySQL/MariaDB appears with Spark 26 times\", \"x\": [-0.6709272900098292], \"y\": [0.5998804643594144], \"type\": \"scatter\", \"uid\": \"1510536a-d94c-409d-9a4e-15d4bde25cf9\"}, {\"hoverinfo\": \"text\", \"marker\": {\"color\": \"blue\", \"size\": 0.5}, \"mode\": \"markers\", \"text\": \"Spark appears with MySQL/MariaDB 26 times\", \"x\": [-0.8913082195963594], \"y\": [-0.12477843435453068], \"type\": \"scatter\", \"uid\": \"052da498-d31c-447e-877a-18475ff66fcc\"}, {\"hoverinfo\": \"text\", \"marker\": {\"color\": \"green\", \"size\": 0.5}, \"mode\": \"markers\", \"text\": \"MySQL/MariaDB appears with Informatica 9 times\", \"x\": [-0.6667780121158591], \"y\": [0.6044891087181169], \"type\": \"scatter\", \"uid\": \"7e3e12d7-25e6-4b20-ba3a-8792e1dcf610\"}, {\"hoverinfo\": \"text\", \"marker\": {\"color\": \"blue\", \"size\": 0.5}, \"mode\": \"markers\", \"text\": \"Informatica appears with MySQL/MariaDB 9 times\", \"x\": [-0.8570789460457992], \"y\": [-0.27461915491280303], \"type\": \"scatter\", \"uid\": \"ff7630b0-e77b-46c5-872e-fc7d68f172e3\"}, {\"hoverinfo\": \"text\", \"marker\": {\"color\": \"green\", \"size\": 0.5}, \"mode\": \"markers\", \"text\": \"MySQL/MariaDB appears with Qlik 17 times\", \"x\": [-0.6683452356334804], \"y\": [0.6027558759614273], \"type\": \"scatter\", \"uid\": \"15f73a05-abb4-483c-b2c3-c519127c297c\"}, {\"hoverinfo\": \"text\", \"marker\": {\"color\": \"blue\", \"size\": 0.5}, \"mode\": \"markers\", \"text\": \"Qlik appears with MySQL/MariaDB 17 times\", \"x\": [-0.7914750751458813], \"y\": [-0.42844743600915813], \"type\": \"scatter\", \"uid\": \"aab2f65e-3c9f-41fd-8dac-755b6fb827cf\"}, {\"hoverinfo\": \"text\", \"marker\": {\"color\": \"green\", \"size\": 0.5}, \"mode\": \"markers\", \"text\": \"MySQL/MariaDB appears with Tableau 50 times\", \"x\": [-0.6853432943961696], \"y\": [0.5833562966371455], \"type\": \"scatter\", \"uid\": \"91d42a43-d73d-428c-b269-7e7307362b6b\"}, {\"hoverinfo\": \"text\", \"marker\": {\"color\": \"blue\", \"size\": 0.5}, \"mode\": \"markers\", \"text\": \"Tableau appears with MySQL/MariaDB 50 times\", \"x\": [-0.5053117253382851], \"y\": [-0.7447550337095048], \"type\": \"scatter\", \"uid\": \"799fcefc-2009-4ffc-a015-f490165b4777\"}, {\"hoverinfo\": \"text\", \"marker\": {\"color\": \"green\", \"size\": 0.5}, \"mode\": \"markers\", \"text\": \"MySQL/MariaDB appears with Oracle BI 71 times\", \"x\": [-0.7061461029333422], \"y\": [0.5579943380645127], \"type\": \"scatter\", \"uid\": \"5d7afe1c-4c0b-4423-82cb-2de560138caa\"}, {\"hoverinfo\": \"text\", \"marker\": {\"color\": \"blue\", \"size\": 0.5}, \"mode\": \"markers\", \"text\": \"Oracle BI appears with MySQL/MariaDB 71 times\", \"x\": [0.05731656973261705], \"y\": [-0.8981730405852126], \"type\": \"scatter\", \"uid\": \"3ce85eb0-2e8b-48f8-a64a-1e7821d1a7c0\"}, {\"hoverinfo\": \"text\", \"marker\": {\"color\": \"green\", \"size\": 0.5}, \"mode\": \"markers\", \"text\": \"MySQL/MariaDB appears with Python 58 times\", \"x\": [-0.691594748413827], \"y\": [0.575931162524147], \"type\": \"scatter\", \"uid\": \"39db1c3d-0da6-4934-b46d-49dea62a66f8\"}, {\"hoverinfo\": \"text\", \"marker\": {\"color\": \"blue\", \"size\": 0.5}, \"mode\": \"markers\", \"text\": \"Python appears with MySQL/MariaDB 58 times\", \"x\": [0.6123254995918179], \"y\": [-0.659588873882535], \"type\": \"scatter\", \"uid\": \"743e68ab-7329-4bd4-9934-bbff0ffd4f8a\"}, {\"hoverinfo\": \"text\", \"marker\": {\"color\": \"green\", \"size\": 0.5}, \"mode\": \"markers\", \"text\": \"MySQL/MariaDB appears with VBA 5 times\", \"x\": [-0.6646005921334516], \"y\": [0.6068822397597953], \"type\": \"scatter\", \"uid\": \"62687e4c-fa3b-441f-aa8c-a05fe4530e70\"}, {\"hoverinfo\": \"text\", \"marker\": {\"color\": \"blue\", \"size\": 0.5}, \"mode\": \"markers\", \"text\": \"VBA appears with MySQL/MariaDB 5 times\", \"x\": [0.8167530972726729], \"y\": [-0.3780401805304509], \"type\": \"scatter\", \"uid\": \"f2742d6c-e6eb-46b0-b804-a421d293cb89\"}, {\"hoverinfo\": \"text\", \"marker\": {\"color\": \"green\", \"size\": 0.5}, \"mode\": \"markers\", \"text\": \"MySQL/MariaDB appears with Linux 45 times\", \"x\": [-0.6797784070786578], \"y\": [0.5898316007722906], \"type\": \"scatter\", \"uid\": \"cd87f84c-7e07-4b6c-8bba-5a2df9d6f826\"}, {\"hoverinfo\": \"text\", \"marker\": {\"color\": \"blue\", \"size\": 0.5}, \"mode\": \"markers\", \"text\": \"Linux appears with MySQL/MariaDB 45 times\", \"x\": [0.8783942263919865], \"y\": [-0.19601934353839567], \"type\": \"scatter\", \"uid\": \"1edcfc25-675e-4b4d-87c5-ba6f8574629d\"}, {\"hoverinfo\": \"text\", \"marker\": {\"color\": \"green\", \"size\": 0.5}, \"mode\": \"markers\", \"text\": \"MySQL/MariaDB appears with AWS 1 times\", \"x\": [-0.6642368529872511], \"y\": [0.6072803332346546], \"type\": \"scatter\", \"uid\": \"f960d677-b555-4550-8524-a0401f84e299\"}, {\"hoverinfo\": \"text\", \"marker\": {\"color\": \"blue\", \"size\": 0.5}, \"mode\": \"markers\", \"text\": \"AWS appears with MySQL/MariaDB 1 times\", \"x\": [0.8945763747508879], \"y\": [-0.09865652404964924], \"type\": \"scatter\", \"uid\": \"8d16e947-3a2d-42ec-93bb-a9074d715e5c\"}, {\"hoverinfo\": \"text\", \"marker\": {\"color\": \"green\", \"size\": 0.5}, \"mode\": \"markers\", \"text\": \"T-SQL appears with PL/SQL 41 times\", \"x\": [-0.7918345181668617], \"y\": [0.4277827671137], \"type\": \"scatter\", \"uid\": \"cd04a57d-2cc8-42ba-ac3d-3d4a6f01c8d7\"}, {\"hoverinfo\": \"text\", \"marker\": {\"color\": \"blue\", \"size\": 0.5}, \"mode\": \"markers\", \"text\": \"PL/SQL appears with T-SQL 41 times\", \"x\": [-0.8738002993273356], \"y\": [0.2155760582612522], \"type\": \"scatter\", \"uid\": \"6073ec85-e5fc-4f98-9ab3-f6b9cf863b02\"}, {\"hoverinfo\": \"text\", \"marker\": {\"color\": \"green\", \"size\": 0.5}, \"mode\": \"markers\", \"text\": \"T-SQL appears with Pentaho 40 times\", \"x\": [-0.7881228622432499], \"y\": [0.43458296562279963], \"type\": \"scatter\", \"uid\": \"c89ccaf0-3d18-4f0d-8144-4d9a631c6167\"}, {\"hoverinfo\": \"text\", \"marker\": {\"color\": \"blue\", \"size\": 0.5}, \"mode\": \"markers\", \"text\": \"Pentaho appears with T-SQL 40 times\", \"x\": [-0.8926707386834928], \"y\": [0.11462526902156965], \"type\": \"scatter\", \"uid\": \"453394a4-93cd-4182-afaa-076e0d37421b\"}, {\"hoverinfo\": \"text\", \"marker\": {\"color\": \"green\", \"size\": 0.5}, \"mode\": \"markers\", \"text\": \"T-SQL appears with Hadoop 18 times\", \"x\": [-0.7710226764459215], \"y\": [0.4642456595447802], \"type\": \"scatter\", \"uid\": \"85292c07-0b4f-48f5-a763-da383d3d7730\"}, {\"hoverinfo\": \"text\", \"marker\": {\"color\": \"blue\", \"size\": 0.5}, \"mode\": \"markers\", \"text\": \"Hadoop appears with T-SQL 18 times\", \"x\": [-0.8991790913365127], \"y\": [0.0384312594542933], \"type\": \"scatter\", \"uid\": \"a3544c96-ccd6-45f7-9e60-2cea7467e3bb\"}, {\"hoverinfo\": \"text\", \"marker\": {\"color\": \"green\", \"size\": 0.5}, \"mode\": \"markers\", \"text\": \"T-SQL appears with Spark 19 times\", \"x\": [-0.772842153534587], \"y\": [0.46121037035177553], \"type\": \"scatter\", \"uid\": \"a55b69b8-e692-47d2-b063-897d41a0b028\"}, {\"hoverinfo\": \"text\", \"marker\": {\"color\": \"blue\", \"size\": 0.5}, \"mode\": \"markers\", \"text\": \"Spark appears with T-SQL 19 times\", \"x\": [-0.8918579861146074], \"y\": [-0.1207863096695843], \"type\": \"scatter\", \"uid\": \"ca4356c7-7b5d-46a4-92b8-e4cda9d5c5d9\"}, {\"hoverinfo\": \"text\", \"marker\": {\"color\": \"green\", \"size\": 0.5}, \"mode\": \"markers\", \"text\": \"T-SQL appears with Informatica 13 times\", \"x\": [-0.7680966995016193], \"y\": [0.4690708477561989], \"type\": \"scatter\", \"uid\": \"4db4ac7a-aafb-40c6-981c-58da8b0ba6cd\"}, {\"hoverinfo\": \"text\", \"marker\": {\"color\": \"blue\", \"size\": 0.5}, \"mode\": \"markers\", \"text\": \"Informatica appears with T-SQL 13 times\", \"x\": [-0.855989793711208], \"y\": [-0.27799545511076895], \"type\": \"scatter\", \"uid\": \"ccfc4cbe-1fed-46e6-9e05-79fb713fbe04\"}, {\"hoverinfo\": \"text\", \"marker\": {\"color\": \"green\", \"size\": 0.5}, \"mode\": \"markers\", \"text\": \"T-SQL appears with Qlik 74 times\", \"x\": [-0.8051964327852221], \"y\": [0.4020680348273826], \"type\": \"scatter\", \"uid\": \"6259545f-5553-4fb6-9032-eacdc82c63dd\"}, {\"hoverinfo\": \"text\", \"marker\": {\"color\": \"blue\", \"size\": 0.5}, \"mode\": \"markers\", \"text\": \"Qlik appears with T-SQL 74 times\", \"x\": [-0.7627947218880902], \"y\": [-0.4776444412527704], \"type\": \"scatter\", \"uid\": \"9e24e7b1-cf6d-4707-b7f6-203174b1bc71\"}, {\"hoverinfo\": \"text\", \"marker\": {\"color\": \"green\", \"size\": 0.5}, \"mode\": \"markers\", \"text\": \"T-SQL appears with Tableau 97 times\", \"x\": [-0.8123696608581273], \"y\": [0.3873700222232631], \"type\": \"scatter\", \"uid\": \"863bc783-74d1-4b9f-aca9-b7fcf51471c2\"}, {\"hoverinfo\": \"text\", \"marker\": {\"color\": \"blue\", \"size\": 0.5}, \"mode\": \"markers\", \"text\": \"Tableau appears with T-SQL 97 times\", \"x\": [-0.45958879701033023], \"y\": [-0.7738075585457909], \"type\": \"scatter\", \"uid\": \"e76e0c7b-3292-49ba-89ea-d834f6167455\"}, {\"hoverinfo\": \"text\", \"marker\": {\"color\": \"green\", \"size\": 0.5}, \"mode\": \"markers\", \"text\": \"T-SQL appears with Microstrategy 14 times\", \"x\": [-0.769439460308467], \"y\": [0.4668649878928758], \"type\": \"scatter\", \"uid\": \"83eccc4a-09ef-4b4b-894c-48e9ca1b95f6\"}, {\"hoverinfo\": \"text\", \"marker\": {\"color\": \"blue\", \"size\": 0.5}, \"mode\": \"markers\", \"text\": \"Microstrategy appears with T-SQL 14 times\", \"x\": [-0.07768944381414829], \"y\": [-0.8966405914968651], \"type\": \"scatter\", \"uid\": \"b0e541bc-a8b5-4f09-bfd4-cd933b96b3c7\"}, {\"hoverinfo\": \"text\", \"marker\": {\"color\": \"green\", \"size\": 0.5}, \"mode\": \"markers\", \"text\": \"T-SQL appears with Oracle BI 138 times\", \"x\": [-0.8313943647828153], \"y\": [0.344649692016951], \"type\": \"scatter\", \"uid\": \"34c8fe96-6cf5-46c0-ad43-363e8192c442\"}, {\"hoverinfo\": \"text\", \"marker\": {\"color\": \"blue\", \"size\": 0.5}, \"mode\": \"markers\", \"text\": \"Oracle BI appears with T-SQL 138 times\", \"x\": [0.13800951183832533], \"y\": [-0.8893555951598591], \"type\": \"scatter\", \"uid\": \"c3eeaf9f-d59a-48bf-8fc3-81814f5029b5\"}, {\"hoverinfo\": \"text\", \"marker\": {\"color\": \"green\", \"size\": 0.5}, \"mode\": \"markers\", \"text\": \"T-SQL appears with Python 49 times\", \"x\": [-0.7998721839018412], \"y\": [0.41255846788073475], \"type\": \"scatter\", \"uid\": \"be1fd057-88c3-43be-901a-a7f3eb4ab1af\"}, {\"hoverinfo\": \"text\", \"marker\": {\"color\": \"blue\", \"size\": 0.5}, \"mode\": \"markers\", \"text\": \"Python appears with T-SQL 49 times\", \"x\": [0.5963802525238953], \"y\": [-0.6740404990796436], \"type\": \"scatter\", \"uid\": \"9805f7f2-eecd-451d-b85e-c9469bdf9c75\"}, {\"hoverinfo\": \"text\", \"marker\": {\"color\": \"green\", \"size\": 0.5}, \"mode\": \"markers\", \"text\": \"T-SQL appears with VBA 27 times\", \"x\": [-0.7776997913815887], \"y\": [0.452971339584563], \"type\": \"scatter\", \"uid\": \"5f7a5481-c26e-462d-af4b-53ca30e86aa1\"}, {\"hoverinfo\": \"text\", \"marker\": {\"color\": \"blue\", \"size\": 0.5}, \"mode\": \"markers\", \"text\": \"VBA appears with T-SQL 27 times\", \"x\": [0.8201389690267222], \"y\": [-0.3706373854372831], \"type\": \"scatter\", \"uid\": \"04aecc6a-2292-4098-a24a-9e52ed6649f2\"}, {\"hoverinfo\": \"text\", \"marker\": {\"color\": \"green\", \"size\": 0.5}, \"mode\": \"markers\", \"text\": \"T-SQL appears with Linux 27 times\", \"x\": [-0.7750875407348249], \"y\": [0.45742682933737205], \"type\": \"scatter\", \"uid\": \"78b14b24-9ff0-4c04-9fe1-60c7f56fcc98\"}, {\"hoverinfo\": \"text\", \"marker\": {\"color\": \"blue\", \"size\": 0.5}, \"mode\": \"markers\", \"text\": \"Linux appears with T-SQL 27 times\", \"x\": [0.8739112568605664], \"y\": [-0.21512581233405056], \"type\": \"scatter\", \"uid\": \"7f018b16-7c1b-47e1-8283-b95e1495ef3e\"}, {\"hoverinfo\": \"text\", \"marker\": {\"color\": \"green\", \"size\": 0.5}, \"mode\": \"markers\", \"text\": \"T-SQL appears with AWS 9 times\", \"x\": [-0.7669979219536829], \"y\": [0.4708653604999333], \"type\": \"scatter\", \"uid\": \"5210ad20-da37-41c4-9810-ea35dc903724\"}, {\"hoverinfo\": \"text\", \"marker\": {\"color\": \"blue\", \"size\": 0.5}, \"mode\": \"markers\", \"text\": \"AWS appears with T-SQL 9 times\", \"x\": [0.8950224450608767], \"y\": [-0.0945241918095572], \"type\": \"scatter\", \"uid\": \"87c3ac77-66f7-48c9-8c17-8886205df479\"}, {\"hoverinfo\": \"text\", \"marker\": {\"color\": \"green\", \"size\": 0.5}, \"mode\": \"markers\", \"text\": \"PL/SQL appears with Pentaho 8 times\", \"x\": [-0.8676471271372653], \"y\": [0.23914109385559426], \"type\": \"scatter\", \"uid\": \"d48bc9d1-27e2-4623-9997-85e58d0aedb2\"}, {\"hoverinfo\": \"text\", \"marker\": {\"color\": \"blue\", \"size\": 0.5}, \"mode\": \"markers\", \"text\": \"Pentaho appears with PL/SQL 8 times\", \"x\": [-0.8849870494777922], \"y\": [0.1637007093955061], \"type\": \"scatter\", \"uid\": \"0dc7bebf-4ecb-4451-bc66-99033046c89a\"}, {\"hoverinfo\": \"text\", \"marker\": {\"color\": \"green\", \"size\": 0.5}, \"mode\": \"markers\", \"text\": \"PL/SQL appears with Hadoop 3 times\", \"x\": [-0.8671898013347751], \"y\": [0.24079420354517092], \"type\": \"scatter\", \"uid\": \"a6858309-078f-46f5-a895-1cfc3acac636\"}, {\"hoverinfo\": \"text\", \"marker\": {\"color\": \"blue\", \"size\": 0.5}, \"mode\": \"markers\", \"text\": \"Hadoop appears with PL/SQL 3 times\", \"x\": [-0.8988367971918472], \"y\": [0.04574289030988491], \"type\": \"scatter\", \"uid\": \"9e035194-514e-4510-9c6e-2eae86635967\"}, {\"hoverinfo\": \"text\", \"marker\": {\"color\": \"green\", \"size\": 0.5}, \"mode\": \"markers\", \"text\": \"PL/SQL appears with Informatica 30 times\", \"x\": [-0.8712609874890576], \"y\": [0.2256197945207653], \"type\": \"scatter\", \"uid\": \"367f6445-dd2e-4e57-a6c6-fc40342dac3f\"}, {\"hoverinfo\": \"text\", \"marker\": {\"color\": \"blue\", \"size\": 0.5}, \"mode\": \"markers\", \"text\": \"Informatica appears with PL/SQL 30 times\", \"x\": [-0.8495574547271374], \"y\": [-0.2970726024350745], \"type\": \"scatter\", \"uid\": \"ff9cbf20-6687-4a6b-89b1-36e51c0f546a\"}, {\"hoverinfo\": \"text\", \"marker\": {\"color\": \"green\", \"size\": 0.5}, \"mode\": \"markers\", \"text\": \"PL/SQL appears with Qlik 18 times\", \"x\": [-0.8688751055207691], \"y\": [0.23464025870739333], \"type\": \"scatter\", \"uid\": \"a6793e7a-bb13-421a-a3e0-d24d053e36a0\"}, {\"hoverinfo\": \"text\", \"marker\": {\"color\": \"blue\", \"size\": 0.5}, \"mode\": \"markers\", \"text\": \"Qlik appears with PL/SQL 18 times\", \"x\": [-0.7898012571732586], \"y\": [-0.4315251721134473], \"type\": \"scatter\", \"uid\": \"d3c955c0-a34e-4e7a-b433-826677ef1783\"}, {\"hoverinfo\": \"text\", \"marker\": {\"color\": \"green\", \"size\": 0.5}, \"mode\": \"markers\", \"text\": \"PL/SQL appears with Tableau 20 times\", \"x\": [-0.869551161744734], \"y\": [0.23212233220520484], \"type\": \"scatter\", \"uid\": \"13e40e77-18f8-4194-81a9-ee02c72cfa2f\"}, {\"hoverinfo\": \"text\", \"marker\": {\"color\": \"blue\", \"size\": 0.5}, \"mode\": \"markers\", \"text\": \"Tableau appears with PL/SQL 20 times\", \"x\": [-0.5354948833870743], \"y\": [-0.7233569173418222], \"type\": \"scatter\", \"uid\": \"9f743ffd-659b-49b7-8866-19f95121b6e2\"}, {\"hoverinfo\": \"text\", \"marker\": {\"color\": \"green\", \"size\": 0.5}, \"mode\": \"markers\", \"text\": \"PL/SQL appears with Microstrategy 24 times\", \"x\": [-0.8703248474697619], \"y\": [0.22920440632050607], \"type\": \"scatter\", \"uid\": \"eb998064-a27c-4119-be98-57c4e3bdb24a\"}, {\"hoverinfo\": \"text\", \"marker\": {\"color\": \"blue\", \"size\": 0.5}, \"mode\": \"markers\", \"text\": \"Microstrategy appears with PL/SQL 24 times\", \"x\": [-0.06779592704755301], \"y\": [-0.8974428741016126], \"type\": \"scatter\", \"uid\": \"788a0f16-aaef-48aa-8959-6442683b8d1f\"}, {\"hoverinfo\": \"text\", \"marker\": {\"color\": \"green\", \"size\": 0.5}, \"mode\": \"markers\", \"text\": \"PL/SQL appears with Oracle BI 83 times\", \"x\": [-0.877597912163116], \"y\": [0.19955426471749418], \"type\": \"scatter\", \"uid\": \"cf7cc864-6d8d-420d-9a0d-07e4740f80fe\"}, {\"hoverinfo\": \"text\", \"marker\": {\"color\": \"blue\", \"size\": 0.5}, \"mode\": \"markers\", \"text\": \"Oracle BI appears with PL/SQL 83 times\", \"x\": [0.08890829577538362], \"y\": [-0.895597741702332], \"type\": \"scatter\", \"uid\": \"6a29decc-821b-4bcf-a4df-ba94bf766e66\"}, {\"hoverinfo\": \"text\", \"marker\": {\"color\": \"green\", \"size\": 0.5}, \"mode\": \"markers\", \"text\": \"PL/SQL appears with Python 3 times\", \"x\": [-0.8670795744141122], \"y\": [0.24119081996179287], \"type\": \"scatter\", \"uid\": \"3790baf9-7cb2-4364-aab8-522d3b549bf5\"}, {\"hoverinfo\": \"text\", \"marker\": {\"color\": \"blue\", \"size\": 0.5}, \"mode\": \"markers\", \"text\": \"Python appears with PL/SQL 3 times\", \"x\": [0.5754124902951568], \"y\": [-0.6920263477732088], \"type\": \"scatter\", \"uid\": \"843e99e3-9e28-4b26-a541-fcbecd8e5641\"}, {\"hoverinfo\": \"text\", \"marker\": {\"color\": \"green\", \"size\": 0.5}, \"mode\": \"markers\", \"text\": \"PL/SQL appears with VBA 7 times\", \"x\": [-0.8673731097048587], \"y\": [0.2401330642808756], \"type\": \"scatter\", \"uid\": \"67994551-5ef1-458f-b913-dc91cac0e7a5\"}, {\"hoverinfo\": \"text\", \"marker\": {\"color\": \"blue\", \"size\": 0.5}, \"mode\": \"markers\", \"text\": \"VBA appears with PL/SQL 7 times\", \"x\": [0.8182334419777304], \"y\": [-0.3748253385635449], \"type\": \"scatter\", \"uid\": \"9bb9234b-0d54-47fd-8a33-593b2e591d64\"}, {\"hoverinfo\": \"text\", \"marker\": {\"color\": \"green\", \"size\": 0.5}, \"mode\": \"markers\", \"text\": \"PL/SQL appears with Linux 1 times\", \"x\": [-0.866858576408535], \"y\": [0.241983901338432], \"type\": \"scatter\", \"uid\": \"0dcdbc11-1184-48cf-b789-8d567a51e737\"}, {\"hoverinfo\": \"text\", \"marker\": {\"color\": \"blue\", \"size\": 0.5}, \"mode\": \"markers\", \"text\": \"Linux appears with PL/SQL 1 times\", \"x\": [0.8696312227912361], \"y\": [-0.2318222084844752], \"type\": \"scatter\", \"uid\": \"27ab762b-5f8b-4992-ade2-e92943bddae7\"}, {\"hoverinfo\": \"text\", \"marker\": {\"color\": \"green\", \"size\": 0.5}, \"mode\": \"markers\", \"text\": \"PL/SQL appears with AWS 2 times\", \"x\": [-0.8669138939232414], \"y\": [0.24178564995227292], \"type\": \"scatter\", \"uid\": \"ee1dba5d-5aa7-4339-ae9c-a2e2213a31b0\"}, {\"hoverinfo\": \"text\", \"marker\": {\"color\": \"blue\", \"size\": 0.5}, \"mode\": \"markers\", \"text\": \"AWS appears with PL/SQL 2 times\", \"x\": [0.8946352751841953], \"y\": [-0.09812096817754688], \"type\": \"scatter\", \"uid\": \"f0b957d2-88a3-4141-a29d-3733c4153f1c\"}, {\"hoverinfo\": \"text\", \"marker\": {\"color\": \"green\", \"size\": 0.5}, \"mode\": \"markers\", \"text\": \"Pentaho appears with Spark 7 times\", \"x\": [-0.8847610577362541], \"y\": [0.16491776955023654], \"type\": \"scatter\", \"uid\": \"f1bb7e87-46c7-41d3-8f9d-fe2fd1e866c0\"}, {\"hoverinfo\": \"text\", \"marker\": {\"color\": \"blue\", \"size\": 0.5}, \"mode\": \"markers\", \"text\": \"Spark appears with Pentaho 7 times\", \"x\": [-0.8932584841945931], \"y\": [-0.109951263814373], \"type\": \"scatter\", \"uid\": \"d8f1cf03-fa5c-4226-9ca6-62df7e3321b8\"}, {\"hoverinfo\": \"text\", \"marker\": {\"color\": \"green\", \"size\": 0.5}, \"mode\": \"markers\", \"text\": \"Pentaho appears with Informatica 34 times\", \"x\": [-0.8872103305406389], \"y\": [0.151188059654095], \"type\": \"scatter\", \"uid\": \"e4de1091-3e5b-4e9a-9d0b-d2bd22f34965\"}, {\"hoverinfo\": \"text\", \"marker\": {\"color\": \"blue\", \"size\": 0.5}, \"mode\": \"markers\", \"text\": \"Informatica appears with Pentaho 34 times\", \"x\": [-0.8476669647532521], \"y\": [-0.3024247292567341], \"type\": \"scatter\", \"uid\": \"ac6b7736-4f77-4772-a74b-2660d322c0a1\"}, {\"hoverinfo\": \"text\", \"marker\": {\"color\": \"green\", \"size\": 0.5}, \"mode\": \"markers\", \"text\": \"Pentaho appears with Qlik 33 times\", \"x\": [-0.8862647737797782], \"y\": [0.15663572631133196], \"type\": \"scatter\", \"uid\": \"4270208e-78cf-4cb4-910c-7bbe4c81aee3\"}, {\"hoverinfo\": \"text\", \"marker\": {\"color\": \"blue\", \"size\": 0.5}, \"mode\": \"markers\", \"text\": \"Qlik appears with Pentaho 33 times\", \"x\": [-0.7843156507344476], \"y\": [-0.44141699107873045], \"type\": \"scatter\", \"uid\": \"699dc03d-6592-4072-b0ee-2be945e11a45\"}, {\"hoverinfo\": \"text\", \"marker\": {\"color\": \"green\", \"size\": 0.5}, \"mode\": \"markers\", \"text\": \"Pentaho appears with Tableau 40 times\", \"x\": [-0.8908930670351779], \"y\": [0.12770882157726612], \"type\": \"scatter\", \"uid\": \"89aaf5fb-f53b-4668-8a25-cfdbfc2ab743\"}, {\"hoverinfo\": \"text\", \"marker\": {\"color\": \"blue\", \"size\": 0.5}, \"mode\": \"markers\", \"text\": \"Tableau appears with Pentaho 40 times\", \"x\": [-0.5128560634798455], \"y\": [-0.7395800552691756], \"type\": \"scatter\", \"uid\": \"5a40b5e2-b874-4de3-b20a-1116fce4469a\"}, {\"hoverinfo\": \"text\", \"marker\": {\"color\": \"green\", \"size\": 0.5}, \"mode\": \"markers\", \"text\": \"Pentaho appears with Microstrategy 4 times\", \"x\": [-0.8845942666826305], \"y\": [0.1658100821790378], \"type\": \"scatter\", \"uid\": \"5e5246c6-9f54-4ef8-97c0-fca911da1c49\"}, {\"hoverinfo\": \"text\", \"marker\": {\"color\": \"blue\", \"size\": 0.5}, \"mode\": \"markers\", \"text\": \"Microstrategy appears with Pentaho 4 times\", \"x\": [-0.0808479387783695], \"y\": [-0.8963613171011392], \"type\": \"scatter\", \"uid\": \"f2182ea7-a889-4b67-a2e9-9b315b5e77ed\"}, {\"hoverinfo\": \"text\", \"marker\": {\"color\": \"green\", \"size\": 0.5}, \"mode\": \"markers\", \"text\": \"Pentaho appears with Oracle BI 40 times\", \"x\": [-0.8918058965404336], \"y\": [0.12117030533803815], \"type\": \"scatter\", \"uid\": \"1a6f3221-6d70-4e09-8421-ae178ce5ee4f\"}, {\"hoverinfo\": \"text\", \"marker\": {\"color\": \"blue\", \"size\": 0.5}, \"mode\": \"markers\", \"text\": \"Oracle BI appears with Pentaho 40 times\", \"x\": [0.014644558737304568], \"y\": [-0.8998808459453894], \"type\": \"scatter\", \"uid\": \"a98c6f96-cbca-4863-9be5-f92f565feb26\"}, {\"hoverinfo\": \"text\", \"marker\": {\"color\": \"green\", \"size\": 0.5}, \"mode\": \"markers\", \"text\": \"Pentaho appears with Python 36 times\", \"x\": [-0.8899814754194343], \"y\": [0.13391405232553819], \"type\": \"scatter\", \"uid\": \"12b8d8c8-968a-4c44-b35f-0848a353dcbc\"}, {\"hoverinfo\": \"text\", \"marker\": {\"color\": \"blue\", \"size\": 0.5}, \"mode\": \"markers\", \"text\": \"Python appears with Pentaho 36 times\", \"x\": [0.5899817569232607], \"y\": [-0.6796480901891379], \"type\": \"scatter\", \"uid\": \"be285ed2-b9d4-4c08-8d6c-9b14ac82a04c\"}, {\"hoverinfo\": \"text\", \"marker\": {\"color\": \"green\", \"size\": 0.5}, \"mode\": \"markers\", \"text\": \"Pentaho appears with VBA 1 times\", \"x\": [-0.8845181550601171], \"y\": [0.16621562311962917], \"type\": \"scatter\", \"uid\": \"4e956678-2063-4abb-90d2-4b583d4e13e0\"}, {\"hoverinfo\": \"text\", \"marker\": {\"color\": \"blue\", \"size\": 0.5}, \"mode\": \"markers\", \"text\": \"VBA appears with Pentaho 1 times\", \"x\": [0.8157840983649783], \"y\": [-0.38012669579344116], \"type\": \"scatter\", \"uid\": \"284622f7-0a15-4b20-a3e5-7e765d898fac\"}, {\"hoverinfo\": \"text\", \"marker\": {\"color\": \"green\", \"size\": 0.5}, \"mode\": \"markers\", \"text\": \"Pentaho appears with Linux 36 times\", \"x\": [-0.8890779937989314], \"y\": [0.13978669801689805], \"type\": \"scatter\", \"uid\": \"412635ae-1ca6-4f45-ae96-29cb02910240\"}, {\"hoverinfo\": \"text\", \"marker\": {\"color\": \"blue\", \"size\": 0.5}, \"mode\": \"markers\", \"text\": \"Linux appears with Pentaho 36 times\", \"x\": [0.8751806169706788], \"y\": [-0.20990209069664367], \"type\": \"scatter\", \"uid\": \"4a03ab07-ae24-48db-8838-b4db65dce940\"}, {\"hoverinfo\": \"text\", \"marker\": {\"color\": \"green\", \"size\": 0.5}, \"mode\": \"markers\", \"text\": \"Pentaho appears with AWS 14 times\", \"x\": [-0.8855815081712921], \"y\": [0.16045370791932367], \"type\": \"scatter\", \"uid\": \"4f089eb8-3475-4d2e-ba10-ac8f65429c39\"}, {\"hoverinfo\": \"text\", \"marker\": {\"color\": \"blue\", \"size\": 0.5}, \"mode\": \"markers\", \"text\": \"AWS appears with Pentaho 14 times\", \"x\": [0.8953639977362312], \"y\": [-0.09123218487898911], \"type\": \"scatter\", \"uid\": \"a5807815-0d59-484d-a600-481d35046d87\"}, {\"hoverinfo\": \"text\", \"marker\": {\"color\": \"green\", \"size\": 0.5}, \"mode\": \"markers\", \"text\": \"Hadoop appears with Spark 135 times\", \"x\": [-0.8989751123465188], \"y\": [-0.04293887960303248], \"type\": \"scatter\", \"uid\": \"d1c7bd89-2481-405d-b59b-a0bdc1408405\"}, {\"hoverinfo\": \"text\", \"marker\": {\"color\": \"blue\", \"size\": 0.5}, \"mode\": \"markers\", \"text\": \"Spark appears with Hadoop 135 times\", \"x\": [-0.8761903722269965], \"y\": [-0.20564637516065637], \"type\": \"scatter\", \"uid\": \"4ccf0cd6-f123-42e6-b6d1-7bfad6f99efb\"}, {\"hoverinfo\": \"text\", \"marker\": {\"color\": \"green\", \"size\": 0.5}, \"mode\": \"markers\", \"text\": \"Hadoop appears with Informatica 5 times\", \"x\": [-0.8989074081272979], \"y\": [0.04433363975429487], \"type\": \"scatter\", \"uid\": \"5ed06a3c-f49e-4ddc-928b-092281a3ddfb\"}, {\"hoverinfo\": \"text\", \"marker\": {\"color\": \"blue\", \"size\": 0.5}, \"mode\": \"markers\", \"text\": \"Informatica appears with Hadoop 5 times\", \"x\": [-0.857726046283611], \"y\": [-0.27259132327842833], \"type\": \"scatter\", \"uid\": \"db23147d-d4fe-4fb2-9ecb-79f25ca0dc7b\"}, {\"hoverinfo\": \"text\", \"marker\": {\"color\": \"green\", \"size\": 0.5}, \"mode\": \"markers\", \"text\": \"Hadoop appears with Qlik 9 times\", \"x\": [-0.8990742685079127], \"y\": [0.04081004419210546], \"type\": \"scatter\", \"uid\": \"3db5daae-2150-432b-aca7-84a0a3774003\"}, {\"hoverinfo\": \"text\", \"marker\": {\"color\": \"blue\", \"size\": 0.5}, \"mode\": \"markers\", \"text\": \"Qlik appears with Hadoop 9 times\", \"x\": [-0.7955368929259929], \"y\": [-0.42085751982548353], \"type\": \"scatter\", \"uid\": \"0c254a2e-fa5c-4f31-b08b-83abf1b9bc1e\"}, {\"hoverinfo\": \"text\", \"marker\": {\"color\": \"green\", \"size\": 0.5}, \"mode\": \"markers\", \"text\": \"Hadoop appears with Tableau 38 times\", \"x\": [-0.8999154160459887], \"y\": [0.012338718036127709], \"type\": \"scatter\", \"uid\": \"76708acf-1e5d-430f-956f-4a8469766d31\"}, {\"hoverinfo\": \"text\", \"marker\": {\"color\": \"blue\", \"size\": 0.5}, \"mode\": \"markers\", \"text\": \"Tableau appears with Hadoop 38 times\", \"x\": [-0.5193516518963134], \"y\": [-0.7350332384814788], \"type\": \"scatter\", \"uid\": \"1e31f0d3-5960-43de-9ff6-b0916112d6f8\"}, {\"hoverinfo\": \"text\", \"marker\": {\"color\": \"green\", \"size\": 0.5}, \"mode\": \"markers\", \"text\": \"Hadoop appears with Microstrategy 3 times\", \"x\": [-0.898809748487864], \"y\": [0.04627133046696176], \"type\": \"scatter\", \"uid\": \"7500e5a0-cbf6-4a33-b0c3-edae51431668\"}, {\"hoverinfo\": \"text\", \"marker\": {\"color\": \"blue\", \"size\": 0.5}, \"mode\": \"markers\", \"text\": \"Microstrategy appears with Hadoop 3 times\", \"x\": [-0.08132849231345761], \"y\": [-0.8963178433669722], \"type\": \"scatter\", \"uid\": \"954f0f23-e6c2-4787-bac0-87775038320b\"}, {\"hoverinfo\": \"text\", \"marker\": {\"color\": \"green\", \"size\": 0.5}, \"mode\": \"markers\", \"text\": \"Hadoop appears with Oracle BI 35 times\", \"x\": [-0.8998041342685611], \"y\": [0.018775514725443043], \"type\": \"scatter\", \"uid\": \"42b1feab-7beb-489e-8c24-4862f9913b40\"}, {\"hoverinfo\": \"text\", \"marker\": {\"color\": \"blue\", \"size\": 0.5}, \"mode\": \"markers\", \"text\": \"Oracle BI appears with Hadoop 35 times\", \"x\": [0.00692642952898375], \"y\": [-0.8999733465908755], \"type\": \"scatter\", \"uid\": \"69414cee-1ac3-4498-adeb-2c9838a2305b\"}, {\"hoverinfo\": \"text\", \"marker\": {\"color\": \"green\", \"size\": 0.5}, \"mode\": \"markers\", \"text\": \"Hadoop appears with Python 147 times\", \"x\": [-0.8974455716605018], \"y\": [-0.06776020887626613], \"type\": \"scatter\", \"uid\": \"76fb12ca-61cc-4f7d-a555-f6196d898148\"}, {\"hoverinfo\": \"text\", \"marker\": {\"color\": \"blue\", \"size\": 0.5}, \"mode\": \"markers\", \"text\": \"Python appears with Hadoop 147 times\", \"x\": [0.7059011405905167], \"y\": [-0.5583041999779401], \"type\": \"scatter\", \"uid\": \"f614f10c-bf3e-467d-a9c5-b2225a565b1d\"}, {\"hoverinfo\": \"text\", \"marker\": {\"color\": \"green\", \"size\": 0.5}, \"mode\": \"markers\", \"text\": \"Hadoop appears with VBA 7 times\", \"x\": [-0.8990091816527015], \"y\": [0.04221956068151327], \"type\": \"scatter\", \"uid\": \"6567d5ae-641a-405e-821a-8edd4f7c1179\"}, {\"hoverinfo\": \"text\", \"marker\": {\"color\": \"blue\", \"size\": 0.5}, \"mode\": \"markers\", \"text\": \"VBA appears with Hadoop 7 times\", \"x\": [0.8177167595510971], \"y\": [-0.37595119516933745], \"type\": \"scatter\", \"uid\": \"b5c03fd4-c3a6-4142-898b-ad56c3f5c4cf\"}, {\"hoverinfo\": \"text\", \"marker\": {\"color\": \"green\", \"size\": 0.5}, \"mode\": \"markers\", \"text\": \"Hadoop appears with Linux 93 times\", \"x\": [-0.899709993946976], \"y\": [-0.022845717146379025], \"type\": \"scatter\", \"uid\": \"9981bdf2-f923-4058-a543-9d81d5bbab23\"}, {\"hoverinfo\": \"text\", \"marker\": {\"color\": \"blue\", \"size\": 0.5}, \"mode\": \"markers\", \"text\": \"Linux appears with Hadoop 93 times\", \"x\": [0.8872173307311528], \"y\": [-0.15114697499549257], \"type\": \"scatter\", \"uid\": \"7226929b-8f0d-4056-a649-eeacfe6ea3c6\"}, {\"hoverinfo\": \"text\", \"marker\": {\"color\": \"green\", \"size\": 0.5}, \"mode\": \"markers\", \"text\": \"Hadoop appears with AWS 50 times\", \"x\": [-0.8999883540895051], \"y\": [0.0045784826377065655], \"type\": \"scatter\", \"uid\": \"af6c882b-39e2-4018-a942-03ecc2417a2b\"}, {\"hoverinfo\": \"text\", \"marker\": {\"color\": \"blue\", \"size\": 0.5}, \"mode\": \"markers\", \"text\": \"AWS appears with Hadoop 50 times\", \"x\": [0.8977913896783869], \"y\": [-0.06301286074565143], \"type\": \"scatter\", \"uid\": \"22f7d135-06c5-4cff-ac18-05e7d17e031b\"}, {\"hoverinfo\": \"text\", \"marker\": {\"color\": \"green\", \"size\": 0.5}, \"mode\": \"markers\", \"text\": \"Spark appears with Informatica 13 times\", \"x\": [-0.8926090751799624], \"y\": [-0.11510446953256145], \"type\": \"scatter\", \"uid\": \"39cbb3e3-ca0b-4ea9-a3f5-a2978a18f26c\"}, {\"hoverinfo\": \"text\", \"marker\": {\"color\": \"blue\", \"size\": 0.5}, \"mode\": \"markers\", \"text\": \"Informatica appears with Spark 13 times\", \"x\": [-0.8552747113736707], \"y\": [-0.28018773721325546], \"type\": \"scatter\", \"uid\": \"8ab1bb82-4ddb-41d6-87aa-f67f5cb7eb23\"}, {\"hoverinfo\": \"text\", \"marker\": {\"color\": \"green\", \"size\": 0.5}, \"mode\": \"markers\", \"text\": \"Spark appears with Qlik 16 times\", \"x\": [-0.8922732210654026], \"y\": [-0.11767964551939772], \"type\": \"scatter\", \"uid\": \"2a2b0577-967c-4b43-8ad8-5556b393274e\"}, {\"hoverinfo\": \"text\", \"marker\": {\"color\": \"blue\", \"size\": 0.5}, \"mode\": \"markers\", \"text\": \"Qlik appears with Spark 16 times\", \"x\": [-0.793042261829701], \"y\": [-0.42553962324562916], \"type\": \"scatter\", \"uid\": \"52c74325-dbd2-4acb-a9e9-4c3168fd65b2\"}, {\"hoverinfo\": \"text\", \"marker\": {\"color\": \"green\", \"size\": 0.5}, \"mode\": \"markers\", \"text\": \"Spark appears with Tableau 36 times\", \"x\": [-0.8881326705083159], \"y\": [-0.14567209607803175], \"type\": \"scatter\", \"uid\": \"a0600e28-cef1-49dc-8b05-029a0fdc5bc5\"}, {\"hoverinfo\": \"text\", \"marker\": {\"color\": \"blue\", \"size\": 0.5}, \"mode\": \"markers\", \"text\": \"Tableau appears with Spark 36 times\", \"x\": [-0.525476880539864], \"y\": [-0.7306668515938666], \"type\": \"scatter\", \"uid\": \"1af2ab4f-e7a4-4d2c-9301-92775a50d1b1\"}, {\"hoverinfo\": \"text\", \"marker\": {\"color\": \"green\", \"size\": 0.5}, \"mode\": \"markers\", \"text\": \"Spark appears with Microstrategy 3 times\", \"x\": [-0.8933674449961241], \"y\": [-0.10906240516831264], \"type\": \"scatter\", \"uid\": \"76060327-4ab6-48fa-b31b-a717bf55aa73\"}, {\"hoverinfo\": \"text\", \"marker\": {\"color\": \"blue\", \"size\": 0.5}, \"mode\": \"markers\", \"text\": \"Microstrategy appears with Spark 3 times\", \"x\": [-0.0817403767429147], \"y\": [-0.8962803751114528], \"type\": \"scatter\", \"uid\": \"dcf6471b-78c0-4ac4-bf02-72a8b375e572\"}, {\"hoverinfo\": \"text\", \"marker\": {\"color\": \"green\", \"size\": 0.5}, \"mode\": \"markers\", \"text\": \"Spark appears with Oracle BI 32 times\", \"x\": [-0.8890979646046138], \"y\": [-0.1396596195610345], \"type\": \"scatter\", \"uid\": \"6e52c48c-df97-409a-83a5-75a414f44be1\"}, {\"hoverinfo\": \"text\", \"marker\": {\"color\": \"blue\", \"size\": 0.5}, \"mode\": \"markers\", \"text\": \"Oracle BI appears with Spark 32 times\", \"x\": [3.111951984585217e-05], \"y\": [-0.8999999994619864], \"type\": \"scatter\", \"uid\": \"a92106cf-bb72-401b-84f4-ebf589dd587a\"}, {\"hoverinfo\": \"text\", \"marker\": {\"color\": \"green\", \"size\": 0.5}, \"mode\": \"markers\", \"text\": \"Spark appears with Python 159 times\", \"x\": [-0.8698004961773197], \"y\": [-0.2311862817073894], \"type\": \"scatter\", \"uid\": \"1158cf55-0516-4e04-9e5e-83ea87ee1a72\"}, {\"hoverinfo\": \"text\", \"marker\": {\"color\": \"blue\", \"size\": 0.5}, \"mode\": \"markers\", \"text\": \"Python appears with Spark 159 times\", \"x\": [0.7425772988690135], \"y\": [-0.5085065930785951], \"type\": \"scatter\", \"uid\": \"be56a4a4-5f36-4d51-b778-126ea5a0b7ce\"}, {\"hoverinfo\": \"text\", \"marker\": {\"color\": \"green\", \"size\": 0.5}, \"mode\": \"markers\", \"text\": \"Spark appears with VBA 9 times\", \"x\": [-0.8930823074627963], \"y\": [-0.11137321085848005], \"type\": \"scatter\", \"uid\": \"5de65158-97d4-4e3b-9bcd-1c11f6fe2768\"}, {\"hoverinfo\": \"text\", \"marker\": {\"color\": \"blue\", \"size\": 0.5}, \"mode\": \"markers\", \"text\": \"VBA appears with Spark 9 times\", \"x\": [0.8188220380266167], \"y\": [-0.3735377759235843], \"type\": \"scatter\", \"uid\": \"f1fd176c-d276-45e5-986d-ba9d555f5e44\"}, {\"hoverinfo\": \"text\", \"marker\": {\"color\": \"green\", \"size\": 0.5}, \"mode\": \"markers\", \"text\": \"Spark appears with Linux 74 times\", \"x\": [-0.8834577225681495], \"y\": [-0.1717627795382304], \"type\": \"scatter\", \"uid\": \"9a54786a-94a1-40fd-9a39-a512d886d33f\"}, {\"hoverinfo\": \"text\", \"marker\": {\"color\": \"blue\", \"size\": 0.5}, \"mode\": \"markers\", \"text\": \"Linux appears with Spark 74 times\", \"x\": [0.8847130643352696], \"y\": [-0.16517503986528084], \"type\": \"scatter\", \"uid\": \"6794204e-8888-4aad-897e-783b7bdf2c8e\"}, {\"hoverinfo\": \"text\", \"marker\": {\"color\": \"green\", \"size\": 0.5}, \"mode\": \"markers\", \"text\": \"Spark appears with AWS 52 times\", \"x\": [-0.885541655283394], \"y\": [-0.1606735098202143], \"type\": \"scatter\", \"uid\": \"204388d3-e64a-41a9-8acf-22bf1ef790f5\"}, {\"hoverinfo\": \"text\", \"marker\": {\"color\": \"blue\", \"size\": 0.5}, \"mode\": \"markers\", \"text\": \"AWS appears with Spark 52 times\", \"x\": [0.8983068976264607], \"y\": [-0.05517896045345167], \"type\": \"scatter\", \"uid\": \"6bcd7fc0-0d53-47cd-9ba6-333788a33f12\"}, {\"hoverinfo\": \"text\", \"marker\": {\"color\": \"green\", \"size\": 0.5}, \"mode\": \"markers\", \"text\": \"Informatica appears with Qlik 94 times\", \"x\": [-0.8306546486202704], \"y\": [-0.3464287152150283], \"type\": \"scatter\", \"uid\": \"8c41c1b1-a065-4961-97c2-c53486f2e584\"}, {\"hoverinfo\": \"text\", \"marker\": {\"color\": \"blue\", \"size\": 0.5}, \"mode\": \"markers\", \"text\": \"Qlik appears with Informatica 94 times\", \"x\": [-0.7439663393046497], \"y\": [-0.5064721966521348], \"type\": \"scatter\", \"uid\": \"0c6321e4-c5d2-4de3-85b0-7b37ea699e1d\"}, {\"hoverinfo\": \"text\", \"marker\": {\"color\": \"green\", \"size\": 0.5}, \"mode\": \"markers\", \"text\": \"Informatica appears with Tableau 70 times\", \"x\": [-0.8406586087402256], \"y\": [-0.3213924447633272], \"type\": \"scatter\", \"uid\": \"7865f007-9da6-4fab-ade1-aacf4ebfbb8c\"}, {\"hoverinfo\": \"text\", \"marker\": {\"color\": \"blue\", \"size\": 0.5}, \"mode\": \"markers\", \"text\": \"Tableau appears with Informatica 70 times\", \"x\": [-0.48630969998962226], \"y\": [-0.7572997264597444], \"type\": \"scatter\", \"uid\": \"dd24ded1-c267-4edb-806c-38bd6facafd1\"}, {\"hoverinfo\": \"text\", \"marker\": {\"color\": \"green\", \"size\": 0.5}, \"mode\": \"markers\", \"text\": \"Informatica appears with Microstrategy 15 times\", \"x\": [-0.854498343720529], \"y\": [-0.2825465989511689], \"type\": \"scatter\", \"uid\": \"927dc56b-2b83-4375-ab49-2334bd0c8505\"}, {\"hoverinfo\": \"text\", \"marker\": {\"color\": \"blue\", \"size\": 0.5}, \"mode\": \"markers\", \"text\": \"Microstrategy appears with Informatica 15 times\", \"x\": [-0.07569772064330206], \"y\": [-0.8968109360893235], \"type\": \"scatter\", \"uid\": \"5de1bbaa-95bf-45bf-8d7a-d48a3751bda4\"}, {\"hoverinfo\": \"text\", \"marker\": {\"color\": \"green\", \"size\": 0.5}, \"mode\": \"markers\", \"text\": \"Informatica appears with Oracle BI 130 times\", \"x\": [-0.8141784377016311], \"y\": [-0.38355374014827576], \"type\": \"scatter\", \"uid\": \"9260528a-a9b3-4bac-9a4d-27ba97ed1c33\"}, {\"hoverinfo\": \"text\", \"marker\": {\"color\": \"blue\", \"size\": 0.5}, \"mode\": \"markers\", \"text\": \"Oracle BI appears with Informatica 130 times\", \"x\": [0.1106936710038192], \"y\": [-0.8931667880075357], \"type\": \"scatter\", \"uid\": \"389abe6b-fbfd-44ec-9c98-3992b259f3bf\"}, {\"hoverinfo\": \"text\", \"marker\": {\"color\": \"green\", \"size\": 0.5}, \"mode\": \"markers\", \"text\": \"Informatica appears with Python 28 times\", \"x\": [-0.8512415241793694], \"y\": [-0.2922120249284485], \"type\": \"scatter\", \"uid\": \"5b72f491-2a18-4ed4-90b4-29cf5eae4abf\"}, {\"hoverinfo\": \"text\", \"marker\": {\"color\": \"blue\", \"size\": 0.5}, \"mode\": \"markers\", \"text\": \"Python appears with Informatica 28 times\", \"x\": [0.5807060353545015], \"y\": [-0.6875903580642012], \"type\": \"scatter\", \"uid\": \"2c81be6e-d14c-4428-bb97-cca2e1a41366\"}, {\"hoverinfo\": \"text\", \"marker\": {\"color\": \"green\", \"size\": 0.5}, \"mode\": \"markers\", \"text\": \"Informatica appears with VBA 5 times\", \"x\": [-0.8574570040435835], \"y\": [-0.2734364390797287], \"type\": \"scatter\", \"uid\": \"3c233dc3-cabf-413d-a6c7-c25806ec792c\"}, {\"hoverinfo\": \"text\", \"marker\": {\"color\": \"blue\", \"size\": 0.5}, \"mode\": \"markers\", \"text\": \"VBA appears with Informatica 5 times\", \"x\": [0.816381036593806], \"y\": [-0.3788429794651376], \"type\": \"scatter\", \"uid\": \"f16cb118-8df9-47f7-ac96-f78ca1c368bb\"}, {\"hoverinfo\": \"text\", \"marker\": {\"color\": \"green\", \"size\": 0.5}, \"mode\": \"markers\", \"text\": \"Informatica appears with Linux 9 times\", \"x\": [-0.8565904744865229], \"y\": [-0.2761390211812769], \"type\": \"scatter\", \"uid\": \"de709d83-424b-4793-a0e1-11cd2f3be881\"}, {\"hoverinfo\": \"text\", \"marker\": {\"color\": \"blue\", \"size\": 0.5}, \"mode\": \"markers\", \"text\": \"Linux appears with Informatica 9 times\", \"x\": [0.870677212337387], \"y\": [-0.22786222134526093], \"type\": \"scatter\", \"uid\": \"bd4ed4cb-064e-4e6d-98fc-0fec971d1c3f\"}, {\"hoverinfo\": \"text\", \"marker\": {\"color\": \"green\", \"size\": 0.5}, \"mode\": \"markers\", \"text\": \"Informatica appears with AWS 20 times\", \"x\": [-0.8526142091508159], \"y\": [-0.2881822519762951], \"type\": \"scatter\", \"uid\": \"fcec4a52-8fab-485d-baf4-0e43ad2c3ee9\"}, {\"hoverinfo\": \"text\", \"marker\": {\"color\": \"blue\", \"size\": 0.5}, \"mode\": \"markers\", \"text\": \"AWS appears with Informatica 20 times\", \"x\": [0.8956254907336821], \"y\": [-0.0886283270069512], \"type\": \"scatter\", \"uid\": \"908f0f01-3cc9-4f03-9d08-427dc1366191\"}, {\"hoverinfo\": \"text\", \"marker\": {\"color\": \"green\", \"size\": 0.5}, \"mode\": \"markers\", \"text\": \"Qlik appears with Tableau 347 times\", \"x\": [-0.6960821655310047], \"y\": [-0.5704994468267844], \"type\": \"scatter\", \"uid\": \"e08d29ad-cccf-43f5-969f-d800cea3e575\"}, {\"hoverinfo\": \"text\", \"marker\": {\"color\": \"blue\", \"size\": 0.5}, \"mode\": \"markers\", \"text\": \"Tableau appears with Qlik 347 times\", \"x\": [-0.31150091196937685], \"y\": [-0.8443738400982391], \"type\": \"scatter\", \"uid\": \"10ec3621-219e-4bff-b096-36fe8f7f6457\"}, {\"hoverinfo\": \"text\", \"marker\": {\"color\": \"green\", \"size\": 0.5}, \"mode\": \"markers\", \"text\": \"Qlik appears with Microstrategy 37 times\", \"x\": [-0.7808552910686345], \"y\": [-0.4475097925298598], \"type\": \"scatter\", \"uid\": \"2d20807b-4ebe-4630-836a-551f3fd6e7cf\"}, {\"hoverinfo\": \"text\", \"marker\": {\"color\": \"blue\", \"size\": 0.5}, \"mode\": \"markers\", \"text\": \"Microstrategy appears with Qlik 37 times\", \"x\": [-0.05576157185808777], \"y\": [-0.898270920771632], \"type\": \"scatter\", \"uid\": \"2d7655ef-db0b-4880-917d-1f15d5d7477c\"}, {\"hoverinfo\": \"text\", \"marker\": {\"color\": \"green\", \"size\": 0.5}, \"mode\": \"markers\", \"text\": \"Qlik appears with Oracle BI 351 times\", \"x\": [-0.6497411678130279], \"y\": [-0.622765136186157], \"type\": \"scatter\", \"uid\": \"fd543fc9-fa5c-47e0-998a-7c4ad060862a\"}, {\"hoverinfo\": \"text\", \"marker\": {\"color\": \"blue\", \"size\": 0.5}, \"mode\": \"markers\", \"text\": \"Oracle BI appears with Qlik 351 times\", \"x\": [0.33823995509721255], \"y\": [-0.8340226212614593], \"type\": \"scatter\", \"uid\": \"d5b590a7-0d0a-4d2f-8c7b-283e3c6b543a\"}, {\"hoverinfo\": \"text\", \"marker\": {\"color\": \"green\", \"size\": 0.5}, \"mode\": \"markers\", \"text\": \"Qlik appears with Python 54 times\", \"x\": [-0.7762860971955697], \"y\": [-0.4553898278407967], \"type\": \"scatter\", \"uid\": \"f6de8357-2a9c-4169-824b-5fd5a9206850\"}, {\"hoverinfo\": \"text\", \"marker\": {\"color\": \"blue\", \"size\": 0.5}, \"mode\": \"markers\", \"text\": \"Python appears with Qlik 54 times\", \"x\": [0.6040622500775515], \"y\": [-0.6671647457946542], \"type\": \"scatter\", \"uid\": \"0e0e2adf-10c7-4848-bed5-ec783740cd1c\"}, {\"hoverinfo\": \"text\", \"marker\": {\"color\": \"green\", \"size\": 0.5}, \"mode\": \"markers\", \"text\": \"Qlik appears with VBA 31 times\", \"x\": [-0.787437811404127], \"y\": [-0.435823006702352], \"type\": \"scatter\", \"uid\": \"49386f20-a47d-46cf-ae83-dceb459adcc0\"}, {\"hoverinfo\": \"text\", \"marker\": {\"color\": \"blue\", \"size\": 0.5}, \"mode\": \"markers\", \"text\": \"VBA appears with Qlik 31 times\", \"x\": [0.8222390747788857], \"y\": [-0.3659547839648529], \"type\": \"scatter\", \"uid\": \"fbfaf29e-59c2-42d1-babb-e0557a2acd99\"}, {\"hoverinfo\": \"text\", \"marker\": {\"color\": \"green\", \"size\": 0.5}, \"mode\": \"markers\", \"text\": \"Qlik appears with Linux 2 times\", \"x\": [-0.7963312064894601], \"y\": [-0.41935260768360677], \"type\": \"scatter\", \"uid\": \"19a2123b-4247-40c2-a9d2-b6ad18c13292\"}, {\"hoverinfo\": \"text\", \"marker\": {\"color\": \"blue\", \"size\": 0.5}, \"mode\": \"markers\", \"text\": \"Linux appears with Qlik 2 times\", \"x\": [0.8696971250185589], \"y\": [-0.231574849097334], \"type\": \"scatter\", \"uid\": \"afe512af-d2ff-4427-9864-5f75967dae86\"}, {\"hoverinfo\": \"text\", \"marker\": {\"color\": \"green\", \"size\": 0.5}, \"mode\": \"markers\", \"text\": \"Qlik appears with AWS 3 times\", \"x\": [-0.7960978802448275], \"y\": [-0.4197953847646403], \"type\": \"scatter\", \"uid\": \"1cc96bc7-2f28-4f63-ab3a-0ce219dd24ed\"}, {\"hoverinfo\": \"text\", \"marker\": {\"color\": \"blue\", \"size\": 0.5}, \"mode\": \"markers\", \"text\": \"AWS appears with Qlik 3 times\", \"x\": [0.8946771506248623], \"y\": [-0.09773840672825347], \"type\": \"scatter\", \"uid\": \"08e71bdf-5fa1-44cb-99dc-39e43ccb701d\"}, {\"hoverinfo\": \"text\", \"marker\": {\"color\": \"green\", \"size\": 0.5}, \"mode\": \"markers\", \"text\": \"Tableau appears with Microstrategy 52 times\", \"x\": [-0.4966983966951958], \"y\": [-0.7505269500293924], \"type\": \"scatter\", \"uid\": \"ea951400-06bf-4768-902a-71034758e942\"}, {\"hoverinfo\": \"text\", \"marker\": {\"color\": \"blue\", \"size\": 0.5}, \"mode\": \"markers\", \"text\": \"Microstrategy appears with Tableau 52 times\", \"x\": [-0.04426798709644553], \"y\": [-0.8989106436784632], \"type\": \"scatter\", \"uid\": \"36912d82-26ee-43df-8aa4-f15710f6ced8\"}, {\"hoverinfo\": \"text\", \"marker\": {\"color\": \"green\", \"size\": 0.5}, \"mode\": \"markers\", \"text\": \"Tableau appears with Oracle BI 416 times\", \"x\": [-0.2376683266792917], \"y\": [-0.8680517072694838], \"type\": \"scatter\", \"uid\": \"7402fac8-4cef-4f64-a956-fe4ea97c5df0\"}, {\"hoverinfo\": \"text\", \"marker\": {\"color\": \"blue\", \"size\": 0.5}, \"mode\": \"markers\", \"text\": \"Oracle BI appears with Tableau 416 times\", \"x\": [0.4099960115944223], \"y\": [-0.8011886609760939], \"type\": \"scatter\", \"uid\": \"aa5c52e3-5cad-46f7-9e83-3c45f0a25ffc\"}, {\"hoverinfo\": \"text\", \"marker\": {\"color\": \"green\", \"size\": 0.5}, \"mode\": \"markers\", \"text\": \"Tableau appears with Python 135 times\", \"x\": [-0.4202221766708955], \"y\": [-0.7958726796630066], \"type\": \"scatter\", \"uid\": \"2285774b-a32c-425b-9d74-c67f0c789164\"}, {\"hoverinfo\": \"text\", \"marker\": {\"color\": \"blue\", \"size\": 0.5}, \"mode\": \"markers\", \"text\": \"Python appears with Tableau 135 times\", \"x\": [0.6880468341624767], \"y\": [-0.5801651092568333], \"type\": \"scatter\", \"uid\": \"ed60442c-afd8-46a2-8ffc-6779faf52d6d\"}, {\"hoverinfo\": \"text\", \"marker\": {\"color\": \"green\", \"size\": 0.5}, \"mode\": \"markers\", \"text\": \"Tableau appears with VBA 71 times\", \"x\": [-0.4741881937529368], \"y\": [-0.7649480746464608], \"type\": \"scatter\", \"uid\": \"53bac3b9-a9bd-4a75-bad4-d6f5f6c96c14\"}, {\"hoverinfo\": \"text\", \"marker\": {\"color\": \"blue\", \"size\": 0.5}, \"mode\": \"markers\", \"text\": \"VBA appears with Tableau 71 times\", \"x\": [0.8353998142202963], \"y\": [-0.33482405887375294], \"type\": \"scatter\", \"uid\": \"3b8c29e3-544e-4f1f-9505-2b1a92c9a69a\"}, {\"hoverinfo\": \"text\", \"marker\": {\"color\": \"green\", \"size\": 0.5}, \"mode\": \"markers\", \"text\": \"Tableau appears with Linux 18 times\", \"x\": [-0.5385945668541988], \"y\": [-0.7210519347142326], \"type\": \"scatter\", \"uid\": \"638a197d-724e-41fb-9f26-1b6879293a38\"}, {\"hoverinfo\": \"text\", \"marker\": {\"color\": \"blue\", \"size\": 0.5}, \"mode\": \"markers\", \"text\": \"Linux appears with Tableau 18 times\", \"x\": [0.8720227048865249], \"y\": [-0.22265758950098388], \"type\": \"scatter\", \"uid\": \"6cd43fd3-8da6-409e-b8ed-7092fbe83692\"}, {\"hoverinfo\": \"text\", \"marker\": {\"color\": \"green\", \"size\": 0.5}, \"mode\": \"markers\", \"text\": \"Tableau appears with AWS 33 times\", \"x\": [-0.5311551796645577], \"y\": [-0.726549499425546], \"type\": \"scatter\", \"uid\": \"46907e38-ff70-4248-82d4-68a4acf905b3\"}, {\"hoverinfo\": \"text\", \"marker\": {\"color\": \"blue\", \"size\": 0.5}, \"mode\": \"markers\", \"text\": \"AWS appears with Tableau 33 times\", \"x\": [0.8967608745501656], \"y\": [-0.0762884911111897], \"type\": \"scatter\", \"uid\": \"b752fe0c-4eb2-492d-880f-c85866adbc01\"}, {\"hoverinfo\": \"text\", \"marker\": {\"color\": \"green\", \"size\": 0.5}, \"mode\": \"markers\", \"text\": \"Microstrategy appears with Oracle BI 62 times\", \"x\": [-0.036417793493686075], \"y\": [-0.8992628894361488], \"type\": \"scatter\", \"uid\": \"7d8954ca-7365-48ac-83c5-7d05f7dde05f\"}, {\"hoverinfo\": \"text\", \"marker\": {\"color\": \"blue\", \"size\": 0.5}, \"mode\": \"markers\", \"text\": \"Oracle BI appears with Microstrategy 62 times\", \"x\": [0.043650412682822215], \"y\": [-0.8989408442565169], \"type\": \"scatter\", \"uid\": \"dc24541b-11db-46e2-91d7-c7fa7c581abb\"}, {\"hoverinfo\": \"text\", \"marker\": {\"color\": \"green\", \"size\": 0.5}, \"mode\": \"markers\", \"text\": \"Microstrategy appears with Python 19 times\", \"x\": [-0.0733621220750588], \"y\": [-0.897005016175854], \"type\": \"scatter\", \"uid\": \"603894f0-83c0-4db4-bdd8-f6828a1dcc53\"}, {\"hoverinfo\": \"text\", \"marker\": {\"color\": \"blue\", \"size\": 0.5}, \"mode\": \"markers\", \"text\": \"Python appears with Microstrategy 19 times\", \"x\": [0.5771039818003191], \"y\": [-0.6906163871428312], \"type\": \"scatter\", \"uid\": \"1b606e8d-011a-445b-abf4-ccae12079d21\"}, {\"hoverinfo\": \"text\", \"marker\": {\"color\": \"green\", \"size\": 0.5}, \"mode\": \"markers\", \"text\": \"Microstrategy appears with VBA 7 times\", \"x\": [-0.07913148741790182], \"y\": [-0.8965144771274084], \"type\": \"scatter\", \"uid\": \"a6fb04fc-7236-44db-8988-81be703b0c09\"}, {\"hoverinfo\": \"text\", \"marker\": {\"color\": \"blue\", \"size\": 0.5}, \"mode\": \"markers\", \"text\": \"VBA appears with Microstrategy 7 times\", \"x\": [0.817198527991533], \"y\": [-0.3770763395500594], \"type\": \"scatter\", \"uid\": \"b8a6ee5c-dc98-47dd-b1c2-eaaeceb66365\"}, {\"hoverinfo\": \"text\", \"marker\": {\"color\": \"green\", \"size\": 0.5}, \"mode\": \"markers\", \"text\": \"Microstrategy appears with Linux 7 times\", \"x\": [-0.08009273632521782], \"y\": [-0.8964291124165586], \"type\": \"scatter\", \"uid\": \"e355af47-6163-4ffc-95d7-083795ed42ad\"}, {\"hoverinfo\": \"text\", \"marker\": {\"color\": \"blue\", \"size\": 0.5}, \"mode\": \"markers\", \"text\": \"Linux appears with Microstrategy 7 times\", \"x\": [0.8703305516770369], \"y\": [-0.22918274546209796], \"type\": \"scatter\", \"uid\": \"4b5fa4d5-2244-492a-8dfb-93836985c9d4\"}, {\"hoverinfo\": \"text\", \"marker\": {\"color\": \"green\", \"size\": 0.5}, \"mode\": \"markers\", \"text\": \"Microstrategy appears with AWS 2 times\", \"x\": [-0.08208360058519633], \"y\": [-0.896249006981302], \"type\": \"scatter\", \"uid\": \"d33e96bb-04d7-4493-8f94-ed3f94ffe79f\"}, {\"hoverinfo\": \"text\", \"marker\": {\"color\": \"blue\", \"size\": 0.5}, \"mode\": \"markers\", \"text\": \"AWS appears with Microstrategy 2 times\", \"x\": [0.8946016570521098], \"y\": [-0.0984270044226647], \"type\": \"scatter\", \"uid\": \"6437db65-ad7b-4076-aca0-f9cc98819a2c\"}, {\"hoverinfo\": \"text\", \"marker\": {\"color\": \"green\", \"size\": 0.5}, \"mode\": \"markers\", \"text\": \"Oracle BI appears with Python 156 times\", \"x\": [0.1678253692585959], \"y\": [-0.8842141400323883], \"type\": \"scatter\", \"uid\": \"8d0c40d4-8551-433e-b7c6-c4c775857f32\"}, {\"hoverinfo\": \"text\", \"marker\": {\"color\": \"blue\", \"size\": 0.5}, \"mode\": \"markers\", \"text\": \"Python appears with Oracle BI 156 times\", \"x\": [0.7243107838509957], \"y\": [-0.5342039763958673], \"type\": \"scatter\", \"uid\": \"b412585b-3559-4f47-8796-49e59f86297e\"}, {\"hoverinfo\": \"text\", \"marker\": {\"color\": \"green\", \"size\": 0.5}, \"mode\": \"markers\", \"text\": \"Oracle BI appears with VBA 77 times\", \"x\": [0.07250829864922174], \"y\": [-0.8970744376176346], \"type\": \"scatter\", \"uid\": \"d64da1ca-5510-4fcf-beeb-306641a691ec\"}, {\"hoverinfo\": \"text\", \"marker\": {\"color\": \"blue\", \"size\": 0.5}, \"mode\": \"markers\", \"text\": \"VBA appears with Oracle BI 77 times\", \"x\": [0.8401830529923612], \"y\": [-0.32263359630459343], \"type\": \"scatter\", \"uid\": \"c492696e-405d-4ed3-babc-c503c5bbcc92\"}, {\"hoverinfo\": \"text\", \"marker\": {\"color\": \"green\", \"size\": 0.5}, \"mode\": \"markers\", \"text\": \"Oracle BI appears with Linux 3 times\", \"x\": [-0.0035709344462389633], \"y\": [-0.8999929157649968], \"type\": \"scatter\", \"uid\": \"9bd223a1-6580-4007-989e-5dbf2e305eaf\"}, {\"hoverinfo\": \"text\", \"marker\": {\"color\": \"blue\", \"size\": 0.5}, \"mode\": \"markers\", \"text\": \"Linux appears with Oracle BI 3 times\", \"x\": [0.8698068057074132], \"y\": [-0.23116254182948065], \"type\": \"scatter\", \"uid\": \"80528b78-63f8-488b-9a25-c2728905b3b7\"}, {\"hoverinfo\": \"text\", \"marker\": {\"color\": \"green\", \"size\": 0.5}, \"mode\": \"markers\", \"text\": \"Oracle BI appears with AWS 45 times\", \"x\": [0.023390439182550047], \"y\": [-0.8996959971872985], \"type\": \"scatter\", \"uid\": \"426a3fad-2bb0-4775-b270-ebba698bc9a9\"}, {\"hoverinfo\": \"text\", \"marker\": {\"color\": \"blue\", \"size\": 0.5}, \"mode\": \"markers\", \"text\": \"AWS appears with Oracle BI 45 times\", \"x\": [0.8972498144084707], \"y\": [-0.07030484011762518], \"type\": \"scatter\", \"uid\": \"ca3050aa-b54a-4d0a-8580-a80cc2786bd2\"}, {\"hoverinfo\": \"text\", \"marker\": {\"color\": \"green\", \"size\": 0.5}, \"mode\": \"markers\", \"text\": \"Python appears with VBA 65 times\", \"x\": [0.621290810791652], \"y\": [-0.6511510795705184], \"type\": \"scatter\", \"uid\": \"66ef96be-747c-4fb4-9a61-fe006bac6ed8\"}, {\"hoverinfo\": \"text\", \"marker\": {\"color\": \"blue\", \"size\": 0.5}, \"mode\": \"markers\", \"text\": \"VBA appears with Python 65 times\", \"x\": [0.830848445784414], \"y\": [-0.34596366881165963], \"type\": \"scatter\", \"uid\": \"b0198474-7518-43ec-ba4f-af1d16c574e4\"}, {\"hoverinfo\": \"text\", \"marker\": {\"color\": \"green\", \"size\": 0.5}, \"mode\": \"markers\", \"text\": \"Python appears with Linux 98 times\", \"x\": [0.6574103621032599], \"y\": [-0.6146638234020779], \"type\": \"scatter\", \"uid\": \"73c29d42-ecb3-47e0-b976-4ccf09fc3400\"}, {\"hoverinfo\": \"text\", \"marker\": {\"color\": \"blue\", \"size\": 0.5}, \"mode\": \"markers\", \"text\": \"Linux appears with Python 98 times\", \"x\": [0.8898087992686022], \"y\": [-0.135056657533675], \"type\": \"scatter\", \"uid\": \"1790451a-0402-49f9-8b78-8a94f4f81833\"}, {\"hoverinfo\": \"text\", \"marker\": {\"color\": \"green\", \"size\": 0.5}, \"mode\": \"markers\", \"text\": \"Python appears with AWS 95 times\", \"x\": [0.6440663787381274], \"y\": [-0.6286322452588278], \"type\": \"scatter\", \"uid\": \"87b1e67c-11ec-4d32-a4aa-7f8838eeed93\"}, {\"hoverinfo\": \"text\", \"marker\": {\"color\": \"blue\", \"size\": 0.5}, \"mode\": \"markers\", \"text\": \"AWS appears with Python 95 times\", \"x\": [0.8992965399467392], \"y\": [-0.03557714490825455], \"type\": \"scatter\", \"uid\": \"fba9a0db-5ff5-4c87-9d88-6593184c0669\"}, {\"hoverinfo\": \"text\", \"marker\": {\"color\": \"green\", \"size\": 0.5}, \"mode\": \"markers\", \"text\": \"VBA appears with Linux 1 times\", \"x\": [0.815709339124973], \"y\": [-0.3802870942647146], \"type\": \"scatter\", \"uid\": \"12273d1b-ba65-4919-86c8-9e66b30164d7\"}, {\"hoverinfo\": \"text\", \"marker\": {\"color\": \"blue\", \"size\": 0.5}, \"mode\": \"markers\", \"text\": \"Linux appears with VBA 1 times\", \"x\": [0.8695872488871401], \"y\": [-0.2319871043245618], \"type\": \"scatter\", \"uid\": \"48f009bd-8f20-4310-aec8-57fbf425bfec\"}, {\"hoverinfo\": \"text\", \"marker\": {\"color\": \"green\", \"size\": 0.5}, \"mode\": \"markers\", \"text\": \"VBA appears with AWS 5 times\", \"x\": [0.816008186831993], \"y\": [-0.3796454122245691], \"type\": \"scatter\", \"uid\": \"75d836c1-62df-47c3-972c-ae7f43989e02\"}, {\"hoverinfo\": \"text\", \"marker\": {\"color\": \"blue\", \"size\": 0.5}, \"mode\": \"markers\", \"text\": \"AWS appears with VBA 5 times\", \"x\": [0.8948100526736241], \"y\": [-0.09651409034035416], \"type\": \"scatter\", \"uid\": \"f4a337de-de36-4c85-8ec3-d1ad070218a6\"}, {\"hoverinfo\": \"text\", \"marker\": {\"color\": \"green\", \"size\": 0.5}, \"mode\": \"markers\", \"text\": \"Linux appears with AWS 23 times\", \"x\": [0.8728816339890227], \"y\": [-0.2192661694029744], \"type\": \"scatter\", \"uid\": \"2efe36f8-b9b9-4bd9-9ccb-9a9bfaea8e4b\"}, {\"hoverinfo\": \"text\", \"marker\": {\"color\": \"blue\", \"size\": 0.5}, \"mode\": \"markers\", \"text\": \"AWS appears with Linux 23 times\", \"x\": [0.8959453577975228], \"y\": [-0.0853341422940951], \"type\": \"scatter\", \"uid\": \"3d116801-2eff-4e30-aefc-f866d4554132\"}], {\"autosize\": false, \"font\": {\"color\": \"#655643\", \"family\": \"Fira Sans Condensed\", \"size\": 12}, \"height\": 525, \"hidesources\": true, \"hoverdistance\": 40, \"hovermode\": \"closest\", \"margin\": {\"b\": 10, \"l\": 280, \"r\": 280, \"t\": 80}, \"paper_bgcolor\": \"#fffaf0\", \"plot_bgcolor\": \"#fffaf0\", \"shapes\": [{\"fillcolor\": \"#f2e6ce\", \"layer\": \"below\", \"line\": {\"color\": \"rgb(175,175,175)\", \"width\": 0.5}, \"path\": \"M 0.9732188831365023,0.22988041566549156 Q 0.18372718856633896, 0.07902101101295106 0.83623810357301, 0.5483665144158747L 0.83623810357301, 0.5483665144158747 L 0.8495812923420215, 0.527457702287549 L 0.8624018024635145, 0.5062243881004562 M 0.8624018024635145,0.5062243881004562 Q 0.18386762591189648, 0.07869368552509724 0.9616058174212985, 0.2744344218597885L 0.9616058174212985, 0.2744344218597885 L 0.9676688071541504, 0.2522242646155675 L 0.9732188831365023, 0.22988041566549156 \", \"type\": \"path\"}, {\"fillcolor\": \"#f2e6ce\", \"layer\": \"below\", \"line\": {\"color\": \"rgb(175,175,175)\", \"width\": 0.5}, \"path\": \"M 0.9959772786167991,0.0896061408558312 Q 0.14113727221524922, 0.14170487074070054 0.08560804483897044, 0.9963288928154441L 0.08560804483897044, 0.9963288928154441 L 0.10000417609966453, 0.9949870173839592 L 0.11437940156485354, 0.9934371406876562 M 0.11437940156485354,0.9934371406876562 Q 0.14123468769155859, 0.14160777871525249 0.9931319336267945, 0.11699983936187318L 0.9931319336267945, 0.11699983936187318 L 0.9946489170745335, 0.1033127860550554 L 0.9959772786167991, 0.0896061408558312 \", \"type\": \"path\"}, {\"fillcolor\": \"#f2e6ce\", \"layer\": \"below\", \"line\": {\"color\": \"rgb(175,175,175)\", \"width\": 0.5}, \"path\": \"M 0.998053769357723,0.06235922923546198 Q 0.09920387135421059, 0.17366229270724615 -0.4532248953093184, 0.8913962049907198L -0.4532248953093184, 0.8913962049907198 L -0.44063148966977517, 0.8976880807448625 L -0.4279507589915333, 0.9038020512692868 M -0.4279507589915333,0.9038020512692868 Q 0.09927583328945612, 0.17362116496753532 0.9959772786167991, 0.0896061408558312L 0.9959772786167991, 0.0896061408558312 L 0.9971085967033906, 0.07598977812966169 L 0.998053769357723, 0.06235922923546198 \", \"type\": \"path\"}, {\"fillcolor\": \"#f2e6ce\", \"layer\": \"below\", \"line\": {\"color\": \"rgb(175,175,175)\", \"width\": 0.5}, \"path\": \"M 1.0,0.0 Q 0.07218665683187557, 0.18651832771992416 -0.7394543287718517, 0.6732067257986735L -0.7394543287718517, 0.6732067257986735 L -0.7391181042062636, 0.6735758517305523 L -0.7387816953778579, 0.6739448097393569 M -0.7387816953778579,0.6739448097393569 Q 0.07217945191868046, 0.18652111601831814 0.9999994212657299, 0.0010758569632024735L 0.9999994212657299, 0.0010758569632024735 L 0.999999855316422, 0.0005379285594306654 L 1.0, 0.0 \", \"type\": \"path\"}, {\"fillcolor\": \"#f2e6ce\", \"layer\": \"below\", \"line\": {\"color\": \"rgb(175,175,175)\", \"width\": 0.5}, \"path\": \"M 0.9993698245170495,0.03549582855437719 Q 0.044221142118625635, 0.19504996946865774 -0.8863478036671852, 0.46302005457037904L -0.8863478036671852, 0.46302005457037904 L -0.884123405543636, 0.4672534684407633 L -0.8818787877476651, 0.47147619634580556 M -0.8818787877476651,0.47147619634580556 Q 0.04420961048943504, 0.1950525835265261 0.9989792863390781, 0.045170626135423594L 0.9989792863390781, 0.045170626135423594 L 0.9991862652388329, 0.04033370002953528 L 0.9993698245170495, 0.03549582855437719 \", \"type\": \"path\"}, {\"fillcolor\": \"#f2e6ce\", \"layer\": \"below\", \"line\": {\"color\": \"rgb(175,175,175)\", \"width\": 0.5}, \"path\": \"M 0.999992499612512,0.003873076131471794 Q 0.026232955865487108, 0.19827211610955134 -0.9645771145078731, 0.26380104277213456L -0.9645771145078731, 0.26380104277213456 L -0.9643958986280529, 0.26446275864361407 L -0.964214228800246, 0.26512435003059776 M -0.964214228800246,0.26512435003059776 Q 0.026177004318952576, 0.1982795109054023 0.999983124154522, 0.005809596041201512L 0.999983124154522, 0.005809596041201512 L 0.9999882806527907, 0.004841338355833915 L 0.999992499612512, 0.003873076131471794 \", \"type\": \"path\"}, {\"fillcolor\": \"#f2e6ce\", \"layer\": \"below\", \"line\": {\"color\": \"rgb(175,175,175)\", \"width\": 0.5}, \"path\": \"M 0.999983124154522,0.005809596041201512 Q 0.017449205089169594, 0.19923735905134887 -0.983749780381363, 0.17954489577712934L -0.983749780381363, 0.17954489577712934 L -0.983601277278899, 0.18035666701100464 L -0.9834521043186794, 0.18116831541735273 M -0.9834521043186794,0.18116831541735273 Q 0.01742070826768195, 0.1992398527490229 0.9999699985625596, 0.007746094163800075L 0.9999699985625596, 0.007746094163800075 L 0.9999770301225405, 0.0067778482797850445 L 0.999983124154522, 0.005809596041201512 \", \"type\": \"path\"}, {\"fillcolor\": \"#f2e6ce\", \"layer\": \"below\", \"line\": {\"color\": \"rgb(175,175,175)\", \"width\": 0.5}, \"path\": \"M 0.9999374047483465,0.011188681117159807 Q 0.00254495667536896, 0.19998380733329513 -0.9993288607623281, 0.036630971151030325L -0.9993288607623281, 0.036630971151030325 L -0.9992475725923967, 0.03878516041223644 L -0.9991616407799606, 0.040939169433405115 M -0.9991616407799606,0.040939169433405115 Q 0.002502727450011955, 0.19998434027520995 0.9998732367114952, 0.015922013317360376L 0.9998732367114952, 0.015922013317360376 L 0.9999081215453924, 0.013555385186881236 L 0.9999374047483465, 0.011188681117159807 \", \"type\": \"path\"}, {\"fillcolor\": \"#f2e6ce\", \"layer\": \"below\", \"line\": {\"color\": \"rgb(175,175,175)\", \"width\": 0.5}, \"path\": \"M 0.9997685152010503,0.02151548309212295 Q -0.017392013223091723, 0.19924235964284254 -0.9883757103096227, -0.15203109968012737L -0.9883757103096227, -0.15203109968012737 L -0.9887954383182109, -0.1492768607691666 L -0.9892074912930673, -0.14652146317067774 M -0.9892074912930673,-0.14652146317067774 Q -0.01743711366083536, 0.19923841764875347 0.999620744647024, 0.027538461673254543L 0.999620744647024, 0.027538461673254543 L 0.9996991658327542, 0.024527083668780023 L 0.9997685152010503, 0.02151548309212295 \", \"type\": \"path\"}, {\"fillcolor\": \"#f2e6ce\", \"layer\": \"below\", \"line\": {\"color\": \"rgb(175,175,175)\", \"width\": 0.5}, \"path\": \"M 0.9999699985625596,0.007746094163800075 Q -0.033019970323710256, 0.19725537143464889 -0.9479783696255116, -0.3183347463318399L -0.9479783696255116, -0.3183347463318399 L -0.9484791170995778, -0.31683965096875955 L -0.9489775065993787, -0.3153437679238739 M -0.9489775065993787,-0.3153437679238739 Q -0.033048502461698395, 0.19725059311707815 0.9999374047483465, 0.011188681117159807L 0.9999374047483465, 0.011188681117159807 L 0.9999551831485628, 0.009467401666998903 L 0.9999699985625596, 0.007746094163800075 \", \"type\": \"path\"}, {\"fillcolor\": \"#f2e6ce\", \"layer\": \"below\", \"line\": {\"color\": \"rgb(175,175,175)\", \"width\": 0.5}, \"path\": \"M 0.9882546409088482,0.15281611407873058 Q -0.07801204260347733, 0.18415787034181635 -0.797306619740268, -0.6035744810032543L -0.797306619740268, -0.6035744810032543 L -0.8091640747784539, -0.5875827602031298 L -0.8207008302794923, -0.5713581601574901 M -0.8207008302794923,-0.5713581601574901 Q -0.07789220675450403, 0.18420858863504058 0.9816373518786187, 0.19075667589034204L 0.9816373518786187, 0.19075667589034204 L 0.9851286653882778, 0.17181825464807435 L 0.9882546409088482, 0.15281611407873058 \", \"type\": \"path\"}, {\"fillcolor\": \"#f2e6ce\", \"layer\": \"below\", \"line\": {\"color\": \"rgb(175,175,175)\", \"width\": 0.5}, \"path\": \"M 0.9816373518786187,0.19075667589034204 Q -0.1265433437577428, 0.15487666754747065 -0.38260701160227856, -0.9239111833248767L -0.38260701160227856, -0.9239111833248767 L -0.4019307360287516, -0.9156700734628089 L -0.4210770794915316, -0.9070248580534507 M -0.4210770794915316,-0.9070248580534507 Q -0.12638885127819877, 0.1550027685964911 0.9732188831365023, 0.22988041566549156L 0.9732188831365023, 0.22988041566549156 L 0.9776238497744784, 0.21036066255868321 L 0.9816373518786187, 0.19075667589034204 \", \"type\": \"path\"}, {\"fillcolor\": \"#f2e6ce\", \"layer\": \"below\", \"line\": {\"color\": \"rgb(175,175,175)\", \"width\": 0.5}, \"path\": \"M 0.9998732367114952,0.015922013317360376 Q -0.13757681673126196, 0.14516411229395773 -0.06952327519826124, -0.9975803297006747L -0.06952327519826124, -0.9975803297006747 L -0.07150965345653851, -0.9974399076949577 L -0.07349574814922659, -0.9972955304241494 M -0.07349574814922659,-0.9972955304241494 Q -0.13769375876356546, 0.14505319299333277 0.9997685152010503, 0.02151548309212295L 0.9997685152010503, 0.02151548309212295 L 0.9998247875122914, 0.018718821437291575 L 0.9998732367114952, 0.015922013317360376 \", \"type\": \"path\"}, {\"fillcolor\": \"#f2e6ce\", \"layer\": \"below\", \"line\": {\"color\": \"rgb(175,175,175)\", \"width\": 0.5}, \"path\": \"M 0.9931319336267945,0.11699983936187318 Q -0.16451767823673683, 0.11372745291966023 0.24142242966827449, -0.9704201205936875L 0.24142242966827449, -0.9704201205936875 L 0.2227362824739933, -0.9748787352638612 L 0.20396793415581016, -0.9789775696287485 M 0.20396793415581016,-0.9789775696287485 Q -0.1643883089204932, 0.11391437086803623 0.9882546409088482, 0.15281611407873058L 0.9882546409088482, 0.15281611407873058 L 0.9908551310969582, 0.13493001585573777 L 0.9931319336267945, 0.11699983936187318 \", \"type\": \"path\"}, {\"fillcolor\": \"#f2e6ce\", \"layer\": \"below\", \"line\": {\"color\": \"rgb(175,175,175)\", \"width\": 0.5}, \"path\": \"M 0.9989792863390781,0.045170626135423594 Q -0.18651420224973084, 0.0721973154566463 0.7082097027986514, -0.7060021365844765L 0.7082097027986514, -0.7060021365844765 L 0.701900260450461, -0.7122752448173212 L 0.695535255011096, -0.7184919686653773 M 0.695535255011096,-0.7184919686653773 Q -0.18649322713508135, 0.07225147910418832 0.998053769357723, 0.06235922923546198L 0.998053769357723, 0.06235922923546198 L 0.9985535130405172, 0.05376691914589849 L 0.9989792863390781, 0.045170626135423594 \", \"type\": \"path\"}, {\"fillcolor\": \"#f2e6ce\", \"layer\": \"below\", \"line\": {\"color\": \"rgb(175,175,175)\", \"width\": 0.5}, \"path\": \"M 0.999620744647024,0.027538461673254543 Q -0.19638416056266067, 0.03785844001143094 0.9177477043104463, -0.39716388460295027L 0.9177477043104463, -0.39716388460295027 L 0.9162969066574477, -0.40049966148549077 L 0.9148339843610589, -0.4038301388679031 M 0.9148339843610589,-0.4038301388679031 Q -0.1963971366281846, 0.03779106672548682 0.9993698245170495, 0.03549582855437719L 0.9993698245170495, 0.03549582855437719 L 0.9995032035084463, 0.03151739482180014 L 0.999620744647024, 0.027538461673254543 \", \"type\": \"path\"}, {\"fillcolor\": \"#f2e6ce\", \"layer\": \"below\", \"line\": {\"color\": \"rgb(175,175,175)\", \"width\": 0.5}, \"path\": \"M 0.9999971989271702,0.002366883565704538 Q -0.19836664349266764, 0.025508327061038436 0.9668647308973647, -0.255289232336122L 0.9668647308973647, -0.255289232336122 L 0.9666950896209775, -0.2559308572694788 L 0.9665250225533769, -0.25657236947534734 M 0.9665250225533769,-0.25657236947534734 Q -0.19836892385458976, 0.025490587454430627 0.999992499612512, 0.003873076131471794L 0.999992499612512, 0.003873076131471794 L 0.9999951328482671, 0.003119980733351698 L 0.9999971989271702, 0.002366883565704538 \", \"type\": \"path\"}, {\"fillcolor\": \"#f2e6ce\", \"layer\": \"below\", \"line\": {\"color\": \"rgb(175,175,175)\", \"width\": 0.5}, \"path\": \"M 0.9999994212657299,0.0010758569632024735 Q -0.1997248853929856, 0.010486665569130043 0.9943882503824757, -0.10579228469637492L 0.9943882503824757, -0.10579228469637492 L 0.9943338344212251, -0.1063025198439983 L 0.994279156650879, -0.10681272700206162 M 0.994279156650879,-0.10681272700206162 Q -0.19972627192688985, 0.010460224767472921 0.9999971989271702, 0.002366883565704538L 0.9999971989271702, 0.002366883565704538 L 0.9999985184404915, 0.0017213706230913496 L 0.9999994212657299, 0.0010758569632024735 \", \"type\": \"path\"}, {\"fillcolor\": \"#ecd5bb\", \"layer\": \"below\", \"line\": {\"color\": \"rgb(175,175,175)\", \"width\": 0.5}, \"path\": \"M 0.5588970612881026,0.8292370438442332 Q 0.034894222479045285, 0.19693245856786254 -0.23995345508087873, 0.9707843938768014L -0.23995345508087873, 0.9707843938768014 L -0.17432544590282834, 0.9846880921950768 L -0.10791291148051022, 0.994160351017782 M -0.10791291148051022,0.994160351017782 Q 0.03454915350995802, 0.1969932892048492 0.43978278257376396, 0.8981041722159393L 0.43978278257376396, 0.8981041722159393 L 0.500525751561827, 0.8657216481199186 L 0.5588970612881026, 0.8292370438442332 \", \"type\": \"path\"}, {\"fillcolor\": \"#ecd5bb\", \"layer\": \"below\", \"line\": {\"color\": \"rgb(175,175,175)\", \"width\": 0.5}, \"path\": \"M 0.8022424347626661,0.5969983884953706 Q 0.03237736096350149, 0.19736186687665663 -0.5694504893666427, 0.8220256323011413L -0.5694504893666427, 0.8220256323011413 L -0.5451542506690169, 0.8383357579022278 L -0.5203911814427881, 0.8539279936133838 M -0.5203911814427881,0.8539279936133838 Q 0.032113752484539425, 0.19740493129950362 0.7642275053277755, 0.6449467575703323L 0.7642275053277755, 0.6449467575703323 L 0.7836017992743349, 0.6212634064340381 L 0.8022424347626661, 0.5969983884953706 \", \"type\": \"path\"}, {\"fillcolor\": \"#ecd5bb\", \"layer\": \"below\", \"line\": {\"color\": \"rgb(175,175,175)\", \"width\": 0.5}, \"path\": \"M 0.9359949453716919,0.35201344042329336 Q 0.04427829159290106, 0.19503700390852508 -0.6922431629623428, 0.7216643287096095L -0.6922431629623428, 0.7216643287096095 L -0.6874716245552397, 0.7262112402265469 L -0.6826702210174316, 0.7307266036870501 M -0.6826702210174316,0.7307266036870501 Q 0.043936072395069525, 0.19511438066553477 0.929989493004569, 0.3675861027039852L 0.929989493004569, 0.3675861027039852 L 0.9330247092216902, 0.35981230104289164 L 0.9359949453716919, 0.35201344042329336 \", \"type\": \"path\"}, {\"fillcolor\": \"#ecd5bb\", \"layer\": \"below\", \"line\": {\"color\": \"rgb(175,175,175)\", \"width\": 0.5}, \"path\": \"M 0.8957002232156938,0.4446584196114545 Q 0.01220860546028725, 0.19962702710984565 -0.8348396602239645, 0.5504931804456215L -0.8348396602239645, 0.5504931804456215 L -0.8280712517327187, 0.5606228697206425 L -0.8211799392846683, 0.5706693502514645 M -0.8211799392846683,0.5706693502514645 Q 0.011817750853596536, 0.19965054661773987 0.8827681170063274, 0.4698089522317588L 0.8827681170063274, 0.4698089522317588 L 0.8893230833705987, 0.4572794040673722 L 0.8957002232156938, 0.4446584196114545 \", \"type\": \"path\"}, {\"fillcolor\": \"#ecd5bb\", \"layer\": \"below\", \"line\": {\"color\": \"rgb(175,175,175)\", \"width\": 0.5}, \"path\": \"M 0.8827681170063274,0.4698089522317588 Q -0.018509625805566605, 0.1991416424370802 -0.9542326891188382, 0.299065168511866L -0.9542326891188382, 0.299065168511866 L -0.9483376573990278, 0.3172628051929888 L -0.9420956238285502, 0.3353443537068946 M -0.9420956238285502,0.3353443537068946 Q -0.018854997034766924, 0.19910923907950362 0.8624018024635145, 0.5062243881004562L 0.8624018024635145, 0.5062243881004562 L 0.8727749039402831, 0.48812290158527655 L 0.8827681170063274, 0.4698089522317588 \", \"type\": \"path\"}, {\"fillcolor\": \"#ecd5bb\", \"layer\": \"below\", \"line\": {\"color\": \"rgb(175,175,175)\", \"width\": 0.5}, \"path\": \"M 0.9457255455215644,0.3249664483418856 Q -0.010102089503819196, 0.1997447065322554 -0.97368637339869, 0.2278921812123155L -0.97368637339869, 0.2278921812123155 L -0.9726692545225597, 0.23219500706631913 L -0.9716331210896929, 0.23649329377701617 M -0.9716331210896929,0.23649329377701617 Q -0.010561721970804173, 0.19972093037288663 0.9412709272745761, 0.3376522493152679L 0.9412709272745761, 0.3376522493152679 L 0.9435195570166274, 0.33131683556249775 L 0.9457255455215644, 0.3249664483418856 \", \"type\": \"path\"}, {\"fillcolor\": \"#ecd5bb\", \"layer\": \"below\", \"line\": {\"color\": \"rgb(175,175,175)\", \"width\": 0.5}, \"path\": \"M 0.9412709272745761,0.3376522493152679 Q -0.026053385081537758, 0.19829579200223366 -0.996545432477354, 0.08304938897140338L -0.996545432477354, 0.08304938897140338 L -0.9960245901350951, 0.08907870590784198 L -0.995467269448541, 0.0951047604311473 M -0.995467269448541,0.0951047604311473 Q -0.026370253541899952, 0.1982539021763151 0.9359949453716919, 0.35201344042329336L 0.9359949453716919, 0.35201344042329336 L 0.9386604019042769, 0.3448429351123512 L 0.9412709272745761, 0.3376522493152679 \", \"type\": \"path\"}, {\"fillcolor\": \"#ecd5bb\", \"layer\": \"below\", \"line\": {\"color\": \"rgb(175,175,175)\", \"width\": 0.5}, \"path\": \"M 0.9235472744306747,0.38348459146577435 Q -0.040697809428987076, 0.19581544450753074 -0.999867580918018, -0.016273310331667054L -0.999867580918018, -0.016273310331667054 L -0.9999676545506364, -0.008043000217528243 L -0.9999999823552881, 0.00018785479394414412 M -0.9999999823552881,0.00018785479394414412 Q -0.040992525105641074, 0.19575396007606946 0.9159052565491295, 0.40139452042307877L 0.9159052565491295, 0.40139452042307877 L 0.9197698597044892, 0.3924581572335886 L 0.9235472744306747, 0.38348459146577435 \", \"type\": \"path\"}, {\"fillcolor\": \"#ecd5bb\", \"layer\": \"below\", \"line\": {\"color\": \"rgb(175,175,175)\", \"width\": 0.5}, \"path\": \"M 0.9159052565491295,0.40139452042307877 Q -0.06197648342136798, 0.19015497759122926 -0.9765262494761795, -0.21539843101560968L -0.9765262494761795, -0.21539843101560968 L -0.9783954211394335, -0.20674235147494718 L -0.9801878655507873, -0.19807005888571788 M -0.9801878655507873,-0.19807005888571788 Q -0.06225407462419216, 0.1900642791075838 0.9074295190605817, 0.4202043168953425L 0.9074295190605817, 0.4202043168953425 L 0.9117158976883977, 0.4108212773241414 L 0.9159052565491295, 0.40139452042307877 \", \"type\": \"path\"}, {\"fillcolor\": \"#ecd5bb\", \"layer\": \"below\", \"line\": {\"color\": \"rgb(175,175,175)\", \"width\": 0.5}, \"path\": \"M 0.9074295190605817,0.4202043168953425 Q -0.08347552579478779, 0.18174662746054937 -0.9100279502978211, -0.4145468968364693L -0.9100279502978211, -0.4145468968364693 L -0.9147469978024968, -0.4040271401914962 L -0.919344443699304, -0.3934536743242045 M -0.919344443699304,-0.3934536743242045 Q -0.08384455445426928, 0.1815766799133773 0.8957002232156938, 0.4446584196114545L 0.8957002232156938, 0.4446584196114545 L 0.9016477791550531, 0.432471134695439 L 0.9074295190605817, 0.4202043168953425 \", \"type\": \"path\"}, {\"fillcolor\": \"#ecd5bb\", \"layer\": \"below\", \"line\": {\"color\": \"rgb(175,175,175)\", \"width\": 0.5}, \"path\": \"M 0.7089525414317288,0.7052561903290838 Q -0.14874332030688162, 0.13369900771540685 -0.6259544966472435, -0.779859582314083L -0.6259544966472435, -0.779859582314083 L -0.6608534082614349, -0.7505150050393697 L -0.6943783803640008, -0.7196100783640172 M -0.6943783803640008,-0.7196100783640172 Q -0.14899997918523747, 0.1334129161768035 0.638823103711531, 0.7693536522070761L 0.638823103711531, 0.7693536522070761 L 0.6746494782960503, 0.7381382536048835 L 0.7089525414317288, 0.7052561903290838 \", \"type\": \"path\"}, {\"fillcolor\": \"#ecd5bb\", \"layer\": \"below\", \"line\": {\"color\": \"rgb(175,175,175)\", \"width\": 0.5}, \"path\": \"M 0.638823103711531,0.7693536522070761 Q -0.18358849439943892, 0.07934270429061004 -0.12259086896414505, -0.9924572932104514L -0.12259086896414505, -0.9924572932104514 L -0.17073934513900896, -0.9853162314818033 L -0.2184832936167329, -0.9758406890524624 M -0.2184832936167329,-0.9758406890524624 Q -0.18368960653830396, 0.07910833363055429 0.5588970612881026, 0.8292370438442332L 0.5588970612881026, 0.8292370438442332 L 0.5996081249951335, 0.8002937563418949 L 0.638823103711531, 0.7693536522070761 \", \"type\": \"path\"}, {\"fillcolor\": \"#ecd5bb\", \"layer\": \"below\", \"line\": {\"color\": \"rgb(175,175,175)\", \"width\": 0.5}, \"path\": \"M 0.9525111294906565,0.3045037736981824 Q -0.15833090296169228, 0.12219380167314212 -0.05316410269656991, -0.9985857890959938L -0.05316410269656991, -0.9985857890959938 L -0.056146640525380175, -0.9984225331780697 L -0.05912867740350962, -0.9982503691502006 M -0.05912867740350962,-0.9982503691502006 Q -0.1585180882835429, 0.12195087407202501 0.9497192822217454, 0.3131026748148484L 0.9497192822217454, 0.3131026748148484 L 0.951124923491119, 0.30880637932855753 L 0.9525111294906565, 0.3045037736981824 \", \"type\": \"path\"}, {\"fillcolor\": \"#ecd5bb\", \"layer\": \"below\", \"line\": {\"color\": \"rgb(175,175,175)\", \"width\": 0.5}, \"path\": \"M 0.43978278257376396,0.8981041722159393 Q -0.19893445111678892, -0.020617569179268446 0.614616273094724, -0.7888262399585549L 0.614616273094724, -0.7888262399585549 L 0.5573829653077558, -0.8302555208998812 L 0.4973671812242319, -0.867540135694633 M 0.4973671812242319,-0.867540135694633 Q -0.1989145269781083, -0.020808915326740018 0.30705299584760387, 0.9516924176124403L 0.30705299584760387, 0.9516924176124403 L 0.37437794405350794, 0.927276202113625 L 0.43978278257376396, 0.8981041722159393 \", \"type\": \"path\"}, {\"fillcolor\": \"#ecd5bb\", \"layer\": \"below\", \"line\": {\"color\": \"rgb(175,175,175)\", \"width\": 0.5}, \"path\": \"M 0.7642275053277755,0.6449467575703323 Q -0.19864207589948268, -0.02326640673469288 0.8925798195184116, -0.45088941636334706L 0.8925798195184116, -0.45088941636334706 L 0.8741950281665674, -0.48557497127514154 L 0.8544630251088586, -0.5195122122932415 M 0.8544630251088586,-0.5195122122932415 Q -0.19860326970529638, -0.023595365272979285 0.7089525414317288, 0.7052561903290838L 0.7089525414317288, 0.7052561903290838 L 0.737207005841985, 0.6756669523792737 L 0.7642275053277755, 0.6449467575703323 \", \"type\": \"path\"}, {\"fillcolor\": \"#ecd5bb\", \"layer\": \"below\", \"line\": {\"color\": \"rgb(175,175,175)\", \"width\": 0.5}, \"path\": \"M 0.83623810357301,0.5483665144158747 Q -0.19792722225459122, -0.02871958722860862 0.9576074350602238, -0.2880763793117706L 0.9576074350602238, -0.2880763793117706 L 0.9500545110989393, -0.31208400462144065 L 0.9418998105129248, -0.33589395194870103 M 0.9418998105129248,-0.33589395194870103 Q -0.19779586170125496, -0.029610759764957518 0.8022424347626661, 0.5969983884953706L 0.8022424347626661, 0.5969983884953706 L 0.8196010513782378, 0.5729346529750903 L 0.83623810357301, 0.5483665144158747 \", \"type\": \"path\"}, {\"fillcolor\": \"#ecd5bb\", \"layer\": \"below\", \"line\": {\"color\": \"rgb(175,175,175)\", \"width\": 0.5}, \"path\": \"M 0.929989493004569,0.3675861027039852 Q -0.19914662764487434, -0.01845591226880352 0.9817027083925035, -0.19042004184124978L 0.9817027083925035, -0.19042004184124978 L 0.9803425779819043, -0.1973028884628755 L 0.9789341916467033, -0.2041760231393872 M 0.9789341916467033,-0.2041760231393872 Q -0.19911757146786535, -0.018766798681169334 0.9235472744306747, 0.38348459146577435L 0.9235472744306747, 0.38348459146577435 L 0.9268024749345464, 0.37554916116961246 L 0.929989493004569, 0.3675861027039852 \", \"type\": \"path\"}, {\"fillcolor\": \"#ecd5bb\", \"layer\": \"below\", \"line\": {\"color\": \"rgb(175,175,175)\", \"width\": 0.5}, \"path\": \"M 0.9497192822217454,0.3131026748148484 Q -0.1981695746911696, -0.02699666028828293 0.9988642389276288, -0.04764695364374183L 0.9988642389276288, -0.04764695364374183 L 0.9986335469975105, -0.052259341855508255 L 0.9983815568664225, -0.05687061551432596 M 0.9983815568664225,-0.05687061551432596 Q -0.19812501025589244, -0.027321791872103197 0.9457255455215644, 0.3249664483418856L 0.9457255455215644, 0.3249664483418856 L 0.9477409778179329, 0.31904081081377106 L 0.9497192822217454, 0.3131026748148484 \", \"type\": \"path\"}, {\"fillcolor\": \"#e6c4a9\", \"layer\": \"below\", \"line\": {\"color\": \"rgb(175,175,175)\", \"width\": 0.5}, \"path\": \"M -0.04755987200116491,0.9988683890159068 Q -0.06978336307922867, 0.18743073984102113 -0.6172576062256488, 0.7867611121278058L -0.6172576062256488, 0.7867611121278058 L -0.5936159723523572, 0.8047484559588577 L -0.5694504893666427, 0.8220256323011413 M -0.5694504893666427,0.8220256323011413 Q -0.06988930806603236, 0.18739126078355742 -0.10791291148051022, 0.994160351017782L -0.10791291148051022, 0.994160351017782 L -0.07777202585977099, 0.9969711690884883 L -0.04755987200116491, 0.9988683890159068 \", \"type\": \"path\"}, {\"fillcolor\": \"#e6c4a9\", \"layer\": \"below\", \"line\": {\"color\": \"rgb(175,175,175)\", \"width\": 0.5}, \"path\": \"M 0.22672924021698052,0.9739578284662179 Q -0.051676262121098805, 0.19320860212006993 -0.6826702210174316, 0.7307266036870501L -0.6826702210174316, 0.7307266036870501 L -0.6789152820232265, 0.734216616425509 L -0.6751425013012251, 0.7376873341306093 M -0.6751425013012251,0.7376873341306093 Q -0.05190793611195167, 0.19314648888498476 0.21438956447014984, 0.9767482350361835L 0.21438956447014984, 0.9767482350361835 L 0.22056381515189008, 0.9753725459769937 L 0.22672924021698052, 0.9739578284662179 \", \"type\": \"path\"}, {\"fillcolor\": \"#e6c4a9\", \"layer\": \"below\", \"line\": {\"color\": \"rgb(175,175,175)\", \"width\": 0.5}, \"path\": \"M 0.1989169478389488,0.9800163508138203 Q -0.07091104197955646, 0.18700701624637933 -0.7986985866515688, 0.6017313085429298L -0.7986985866515688, 0.6017313085429298 L -0.7938660358372338, 0.6080926879547853 L -0.7889828199404414, 0.6144152584684311 M -0.7889828199404414,0.6144152584684311 Q -0.07110695944494656, 0.18693260902928288 0.1811732705788187, 0.9834511914822078L 0.1811732705788187, 0.9834511914822078 L 0.1900528691359878, 0.981773857328244 L 0.1989169478389488, 0.9800163508138203 \", \"type\": \"path\"}, {\"fillcolor\": \"#e6c4a9\", \"layer\": \"below\", \"line\": {\"color\": \"rgb(175,175,175)\", \"width\": 0.5}, \"path\": \"M 0.14283152298196095,0.9897470161827484 Q -0.09762042676646208, 0.17455730370836342 -0.9180563021153724, 0.3964500298224837L -0.9180563021153724, 0.3964500298224837 L -0.9126221498242418, 0.40880412381748193 L -0.9070217600778512, 0.4210837526493715 M -0.9070217600778512,0.4210837526493715 Q -0.0977686201860265, 0.174474344552202 0.11437940156485354, 0.9934371406876562L 0.11437940156485354, 0.9934371406876562 L 0.12861869685730845, 0.9916941216013776 L 0.14283152298196095, 0.9897470161827484 \", \"type\": \"path\"}, {\"fillcolor\": \"#e6c4a9\", \"layer\": \"below\", \"line\": {\"color\": \"rgb(175,175,175)\", \"width\": 0.5}, \"path\": \"M 0.24451297540359698,0.9696460203905753 Q -0.10272192137052696, 0.17160479850501642 -0.9701358376146564, 0.2425622736035204L -0.9701358376146564, 0.2425622736035204 L -0.9693916959231373, 0.2455193268874439 L -0.968638540913924, 0.2484740973545219 M -0.968638540913924,0.2484740973545219 Q -0.10297391206503091, 0.17145370638753565 0.2357407469030053, 0.971815980651488L 0.2357407469030053, 0.971815980651488 L 0.24012931230739043, 0.9707409094968542 L 0.24451297540359698, 0.9696460203905753 \", \"type\": \"path\"}, {\"fillcolor\": \"#e6c4a9\", \"layer\": \"below\", \"line\": {\"color\": \"rgb(175,175,175)\", \"width\": 0.5}, \"path\": \"M 0.25217232051997035,0.9676823449684164 Q -0.10932198810489534, 0.16747746987816936 -0.987346354304662, 0.15857861344233298L -0.987346354304662, 0.15857861344233298 L -0.9868323478037356, 0.16174646001742002 L -0.9863081774678393, 0.16491264069218392 M -0.9863081774678393,0.16491264069218392 Q -0.10944660498189634, 0.16739605926644974 0.24451297540359698, 0.9696460203905753L 0.24451297540359698, 0.9696460203905753 L 0.24834458883165003, 0.9686717530712036 L 0.25217232051997035, 0.9676823449684164 \", \"type\": \"path\"}, {\"fillcolor\": \"#e6c4a9\", \"layer\": \"below\", \"line\": {\"color\": \"rgb(175,175,175)\", \"width\": 0.5}, \"path\": \"M 0.2595977346105003,0.9657168405827333 Q -0.119751513147687, 0.1601860639969637 -0.9997049455238021, 0.02429036630542733L -0.9997049455238021, 0.02429036630542733 L -0.9996184725354221, 0.027620813998677936 L -0.9995209044223373, 0.030950955118586632 M -0.9995209044223373,0.030950955118586632 Q -0.11983303395102984, 0.16012508852172833 0.25217232051997035, 0.9676823449684164L 0.25217232051997035, 0.9676823449684164 L 0.2558869147376118, 0.9667067222617551 L 0.2595977346105003, 0.9657168405827333 \", \"type\": \"path\"}, {\"fillcolor\": \"#e6c4a9\", \"layer\": \"below\", \"line\": {\"color\": \"rgb(175,175,175)\", \"width\": 0.5}, \"path\": \"M 0.2357407469030053,0.971815980651488 Q -0.13684856661449202, 0.1458508478396987 -0.9848457047818053, -0.17343280477703504L -0.9848457047818053, -0.17343280477703504 L -0.9855450363640796, -0.16941363964605985 L -0.9862279657637315, -0.1653916550057227 M -0.9862279657637315,-0.1653916550057227 Q -0.13692901663252086, 0.14577532165648213 0.22672924021698052, 0.9739578284662179L 0.22672924021698052, 0.9739578284662179 L 0.23123747344387194, 0.9728973383020917 L 0.2357407469030053, 0.971815980651488 \", \"type\": \"path\"}, {\"fillcolor\": \"#e6c4a9\", \"layer\": \"below\", \"line\": {\"color\": \"rgb(175,175,175)\", \"width\": 0.5}, \"path\": \"M 0.21438956447014984,0.9767482350361835 Q -0.15290371314467743, 0.12892034170979458 -0.9264755796834477, -0.3763548860453647L -0.9264755796834477, -0.3763548860453647 L -0.9290496752483408, -0.3699549985078625 L -0.9315795624225118, -0.3635375068362016 M -0.9315795624225118,-0.3635375068362016 Q -0.15303370462792432, 0.12876600967589708 0.1989169478389488, 0.9800163508138203L 0.1989169478389488, 0.9800163508138203 L 0.2066597165014552, 0.978412878888835 L 0.21438956447014984, 0.9767482350361835 \", \"type\": \"path\"}, {\"fillcolor\": \"#e6c4a9\", \"layer\": \"below\", \"line\": {\"color\": \"rgb(175,175,175)\", \"width\": 0.5}, \"path\": \"M 0.16247882363131608,0.9867120308739443 Q -0.16801507470012694, 0.10849393841828568 -0.8324673505944408, -0.5540741017176967L -0.8324673505944408, -0.5540741017176967 L -0.8378503410942205, -0.5458999962706524 L -0.8431530717426595, -0.5376735976509519 M -0.8431530717426595,-0.5376735976509519 Q -0.16803166377866707, 0.10846824405222476 0.14283152298196095, 0.9897470161827484L 0.14283152298196095, 0.9897470161827484 L 0.15266271555699515, 0.9882783490893464 L 0.16247882363131608, 0.9867120308739443 \", \"type\": \"path\"}, {\"fillcolor\": \"#e6c4a9\", \"layer\": \"below\", \"line\": {\"color\": \"rgb(175,175,175)\", \"width\": 0.5}, \"path\": \"M 0.08560804483897044,0.9963288928154441 Q -0.19326911222845242, 0.05144949230484082 -0.4210770794915316, -0.9070248580534507L -0.4210770794915316, -0.9070248580534507 L -0.437297111515396, -0.8993170943890099 L -0.4533761156320484, -0.8913193018073801 M -0.4533761156320484,-0.8913193018073801 Q -0.19326920830239694, 0.051449131403403695 0.04977165057269895, 0.9987606233724221L 0.04977165057269895, 0.9987606233724221 L 0.06770076669295946, 0.9977056711220927 L 0.08560804483897044, 0.9963288928154441 \", \"type\": \"path\"}, {\"fillcolor\": \"#e6c4a9\", \"layer\": \"below\", \"line\": {\"color\": \"rgb(175,175,175)\", \"width\": 0.5}, \"path\": \"M 0.2663546275865841,0.9638751020558691 Q -0.19721025892130553, 0.033288342947518916 -0.06478542917416603, -0.9978992174396767L -0.06478542917416603, -0.9978992174396767 L -0.06715454146889543, -0.9977425858206627 L -0.06952327519826124, -0.9975803297006747 M -0.06952327519826124,-0.9975803297006747 Q -0.19724766358473533, 0.033065982676507316 0.2595977346105003, 0.9657168405827333L 0.2595977346105003, 0.9657168405827333 L 0.2629777934073019, 0.9648018864899811 L 0.2663546275865841, 0.9638751020558691 \", \"type\": \"path\"}, {\"fillcolor\": \"#e6c4a9\", \"layer\": \"below\", \"line\": {\"color\": \"rgb(175,175,175)\", \"width\": 0.5}, \"path\": \"M 0.012741560094879466,0.9999188230283239 Q -0.19724403162506854, -0.0330876410203109 0.33833458836512964, -0.9410258797269065L 0.33833458836512964, -0.9410258797269065 L 0.30945017791488594, -0.950915657347404 L 0.2802773237338666, -0.959919070443223 M 0.2802773237338666,-0.959919070443223 Q -0.19725632369268456, -0.03301428120142642 -0.04755987200116491, 0.9988683890159068L -0.04755987200116491, 0.9988683890159068 L -0.01741707678987663, 0.9998483112133038 L 0.012741560094879466, 0.9999188230283239 \", \"type\": \"path\"}, {\"fillcolor\": \"#e6c4a9\", \"layer\": \"below\", \"line\": {\"color\": \"rgb(175,175,175)\", \"width\": 0.5}, \"path\": \"M 0.04977165057269895,0.9987606233724221 Q -0.1767142538740208, -0.093659342714692 0.8544630251088586, -0.5195122122932415L 0.8544630251088586, -0.5195122122932415 L 0.8448458283585742, -0.5350098375778847 L 0.8349475793970222, -0.550329482818296 M 0.8349475793970222,-0.550329482818296 Q -0.1766874836255482, -0.0937098347563992 0.012741560094879466, 0.9999188230283239L 0.012741560094879466, 0.9999188230283239 L 0.031261969445365925, 0.9995112251827876 L 0.04977165057269895, 0.9987606233724221 \", \"type\": \"path\"}, {\"fillcolor\": \"#e6c4a9\", \"layer\": \"below\", \"line\": {\"color\": \"rgb(175,175,175)\", \"width\": 0.5}, \"path\": \"M 0.1811732705788187,0.9834511914822078 Q -0.17326178900633651, -0.09990171405097976 0.9418998105129248, -0.33589395194870103L 0.9418998105129248, -0.33589395194870103 L 0.9390937876241396, -0.3436609638084421 L 0.9362237183158333, -0.3514045379087686 M 0.9362237183158333,-0.3514045379087686 Q -0.1731387659460454, -0.10011477276945949 0.16247882363131608, 0.9867120308739443L 0.16247882363131608, 0.9867120308739443 L 0.17183378227850749, 0.9851259570571991 L 0.1811732705788187, 0.9834511914822078 \", \"type\": \"path\"}, {\"fillcolor\": \"#e6c4a9\", \"layer\": \"below\", \"line\": {\"color\": \"rgb(175,175,175)\", \"width\": 0.5}, \"path\": \"M 0.277008102483526,0.9608675825307441 Q -0.17364240631005368, -0.09923867557990804 0.9684905011021884, -0.24905049543181423L 0.9684905011021884, -0.24905049543181423 L 0.9680640649995809, -0.2507029438528541 L 0.9676348094747276, -0.25235466211823326 M 0.9676348094747276,-0.25235466211823326 Q -0.1736099793830953, -0.09929539293744309 0.27309845650650594, 0.9619860877651839L 0.27309845650650594, 0.9619860877651839 L 0.275053848045166, 0.9614288224697378 L 0.277008102483526, 0.9608675825307441 \", \"type\": \"path\"}, {\"fillcolor\": \"#e6c4a9\", \"layer\": \"below\", \"line\": {\"color\": \"rgb(175,175,175)\", \"width\": 0.5}, \"path\": \"M 0.27309845650650594,0.9619860877651839 Q -0.16469952751911648, -0.11346393980018406 0.9961577795518464, -0.08757669917469485L 0.9961577795518464, -0.08757669917469485 L 0.9959220987403119, -0.09021736662468327 L 0.9956794179209733, -0.09285739996657191 M 0.9956794179209733,-0.09285739996657191 Q -0.1646029620891064, -0.11360398263921999 0.2663546275865841, 0.9638751020558691L 0.2663546275865841, 0.9638751020558691 L 0.26972819574181395, 0.9629364986445709 L 0.27309845650650594, 0.9619860877651839 \", \"type\": \"path\"}, {\"fillcolor\": \"#e1b396\", \"layer\": \"below\", \"line\": {\"color\": \"rgb(175,175,175)\", \"width\": 0.5}, \"path\": \"M -0.3462257775068245,0.9381512196814514 Q -0.10742637022465598, 0.16869965909970047 -0.7036498263461006, 0.71054691743973L -0.7036498263461006, 0.71054691743973 L -0.6979686301034249, 0.7161283344426111 L -0.6922431629623428, 0.7216643287096095 M -0.6922431629623428,0.7216643287096095 Q -0.10770957542040822, 0.1685189822030604 -0.36425504860112407, 0.931299232024054L -0.36425504860112407, 0.931299232024054 L -0.355256933078684, 0.9347686941161045 L -0.3462257775068245, 0.9381512196814514 \", \"type\": \"path\"}, {\"fillcolor\": \"#e1b396\", \"layer\": \"below\", \"line\": {\"color\": \"rgb(175,175,175)\", \"width\": 0.5}, \"path\": \"M -0.36425504860112407,0.931299232024054 Q -0.12234953881027517, 0.158210588624507 -0.8097367182757285, 0.5867933597750179L -0.8097367182757285, 0.5867933597750179 L -0.8042523348505056, 0.5942879620920402 L -0.7986985866515688, 0.6017313085429298 M -0.7986985866515688,0.6017313085429298 Q -0.12251116013951008, 0.1580854694185121 -0.38337770376419866, 0.9235916501660734L -0.38337770376419866, 0.9235916501660734 L -0.37383624062798065, 0.9274947251565038 L -0.36425504860112407, 0.931299232024054 \", \"type\": \"path\"}, {\"fillcolor\": \"#e1b396\", \"layer\": \"below\", \"line\": {\"color\": \"rgb(175,175,175)\", \"width\": 0.5}, \"path\": \"M -0.4532248953093184,0.8913962049907198 Q -0.15020362886572813, 0.1320563132741733 -0.9420956238285502, 0.3353443537068946L -0.9420956238285502, 0.3353443537068946 L -0.9358463603242675, 0.352408271565554 L -0.9292880517270424, 0.36935581343381857 M -0.9292880517270424,0.36935581343381857 Q -0.15030693919830818, 0.13193871315438885 -0.4866842814291092, 0.8735779359678401L -0.4866842814291092, 0.8735779359678401 L -0.47003902796153035, 0.8826456322856754 L -0.4532248953093184, 0.8913962049907198 \", \"type\": \"path\"}, {\"fillcolor\": \"#e1b396\", \"layer\": \"below\", \"line\": {\"color\": \"rgb(175,175,175)\", \"width\": 0.5}, \"path\": \"M -0.2724618977185477,0.962166573048351 Q -0.14218434689505638, 0.1406542267335976 -0.9650581369047708, 0.2620358608929181L -0.9650581369047708, 0.2620358608929181 L -0.9648180293922533, 0.26291856183930634 L -0.9645771145078731, 0.26380104277213456 M -0.9645771145078731,0.26380104277213456 Q -0.14224276414720147, 0.14059514944607307 -0.27502065368464984, 0.9614383183787029L -0.27502065368464984, 0.9614383183787029 L -0.2737415178803805, 0.9618032966197118 L -0.2724618977185477, 0.962166573048351 \", \"type\": \"path\"}, {\"fillcolor\": \"#e1b396\", \"layer\": \"below\", \"line\": {\"color\": \"rgb(175,175,175)\", \"width\": 0.5}, \"path\": \"M -0.29901765378435374,0.9542475793657013 Q -0.1540747751902998, 0.12751848356241766 -0.9933252146466396, 0.11534737945531026L -0.9933252146466396, 0.11534737945531026 L -0.9928298554861186, 0.11953609519895166 L -0.9923168331673541, 0.12372268430935969 M -0.9923168331673541,0.12372268430935969 Q -0.15418707735491594, 0.12738267219975083 -0.30873344959001425, 0.951148598855221L -0.30873344959001425, 0.951148598855221 L -0.30387950216038195, 0.9527104744710002 L -0.29901765378435374, 0.9542475793657013 \", \"type\": \"path\"}, {\"fillcolor\": \"#e1b396\", \"layer\": \"below\", \"line\": {\"color\": \"rgb(175,175,175)\", \"width\": 0.5}, \"path\": \"M -0.28481102795236457,0.9585836835439655 Q -0.15843014206151712, 0.12206510593272553 -0.9995209044223373, 0.030950955118586632L -0.9995209044223373, 0.030950955118586632 L -0.9994289177276342, 0.033791099564379715 L -0.9993288607623281, 0.036630971151030325 M -0.9993288607623281,0.036630971151030325 Q -0.15847565940054087, 0.12200600549794163 -0.29096806158605104, 0.9567327668355757L -0.29096806158605104, 0.9567327668355757 L -0.28789103226843843, 0.9576631733231747 L -0.28481102795236457, 0.9585836835439655 \", \"type\": \"path\"}, {\"fillcolor\": \"#e1b396\", \"layer\": \"below\", \"line\": {\"color\": \"rgb(175,175,175)\", \"width\": 0.5}, \"path\": \"M -0.27906802927364693,0.9602713340703881 Q -0.1683304218521855, 0.10800402343924637 -0.9892074912930673, -0.14652146317067774L -0.9892074912930673, -0.14652146317067774 L -0.989597556330754, -0.14386339528942121 L -0.989980478972229, -0.1412042890776202 M -0.989980478972229,-0.1412042890776202 Q -0.16836350468109693, 0.10795244458324352 -0.28481102795236457, 0.9585836835439655L -0.28481102795236457, 0.9585836835439655 L -0.2819407913651351, 0.959431805895761 L -0.27906802927364693, 0.9602713340703881 \", \"type\": \"path\"}, {\"fillcolor\": \"#e1b396\", \"layer\": \"below\", \"line\": {\"color\": \"rgb(175,175,175)\", \"width\": 0.5}, \"path\": \"M -0.31946773433803205,0.9475971542364005 Q -0.1806355087358376, 0.0858534389744822 -0.9365062321740996, -0.35065093340681625L -0.9365062321740996, -0.35065093340681625 L -0.9386311481925314, -0.34492255310833225 L -0.9407210254772722, -0.3391812969858294 M -0.9407210254772722,-0.3391812969858294 Q -0.18070094756493882, 0.08571562021669821 -0.3324621216176964, 0.9431166087443589L -0.3324621216176964, 0.9431166087443589 L -0.32597262629489415, 0.9453792079934957 L -0.31946773433803205, 0.9475971542364005 \", \"type\": \"path\"}, {\"fillcolor\": \"#e1b396\", \"layer\": \"below\", \"line\": {\"color\": \"rgb(175,175,175)\", \"width\": 0.5}, \"path\": \"M -0.3324621216176964,0.9431166087443589 Q -0.18852863023196562, 0.06676043426205967 -0.8518888990895614, -0.5237225444908544L -0.8518888990895614, -0.5237225444908544 L -0.8557103277632845, -0.517455152606728 L -0.8594856477540411, -0.5111598784185006 M -0.8594856477540411,-0.5111598784185006 Q -0.18852699276443885, 0.06676505822057845 -0.3462257775068245, 0.9381512196814514L -0.3462257775068245, 0.9381512196814514 L -0.33935303133558503, 0.9406590881522112 L -0.3324621216176964, 0.9431166087443589 \", \"type\": \"path\"}, {\"fillcolor\": \"#e1b396\", \"layer\": \"below\", \"line\": {\"color\": \"rgb(175,175,175)\", \"width\": 0.5}, \"path\": \"M -0.38337770376419866,0.9235916501660734 Q -0.19971065606478133, 0.010754248191976241 -0.4803423907298694, -0.8770810610587333L -0.4803423907298694, -0.8770810610587333 L -0.4908084218256703, -0.8712675209515128 L -0.5012041028691004, -0.8653290976658419 M -0.5012041028691004,-0.8653290976658419 Q -0.19970825995151106, 0.01079865302432153 -0.40497422945908335, 0.9143280994664998L -0.40497422945908335, 0.9143280994664998 L -0.39420317857307097, 0.9190233152662056 L -0.38337770376419866, 0.9235916501660734 \", \"type\": \"path\"}, {\"fillcolor\": \"#e1b396\", \"layer\": \"below\", \"line\": {\"color\": \"rgb(175,175,175)\", \"width\": 0.5}, \"path\": \"M -0.27502065368464984,0.9614383183787029 Q -0.19898708108044516, -0.0201032724471502 -0.07716161298975024, -0.9970185983625481L -0.07716161298975024, -0.9970185983625481 L -0.07861239914627786, -0.9969052566319762 L -0.08006301883108068, -0.996789803828096 M -0.08006301883108068,-0.996789803828096 Q -0.19897395324979875, -0.020232793384673955 -0.27906802927364693, 0.9602713340703881L -0.27906802927364693, 0.9602713340703881 L -0.27704495593442763, 0.9608569572997279 L -0.27502065368464984, 0.9614383183787029 \", \"type\": \"path\"}, {\"fillcolor\": \"#e1b396\", \"layer\": \"below\", \"line\": {\"color\": \"rgb(175,175,175)\", \"width\": 0.5}, \"path\": \"M -0.4866842814291092,0.8735779359678401 Q -0.18450786174858066, -0.07718062550256154 0.2802773237338666, -0.959919070443223L 0.2802773237338666, -0.959919070443223 L 0.2609027140305925, -0.9653650987121251 L 0.24142242966827449, -0.9704201205936875 M 0.24142242966827449,-0.9704201205936875 Q -0.18455540106638785, -0.07706687963856283 -0.5203911814427881, 0.8539279936133838L -0.5203911814427881, 0.8539279936133838 L -0.5036335741769952, 0.8639173704479527 L -0.4866842814291092, 0.8735779359678401 \", \"type\": \"path\"}, {\"fillcolor\": \"#e1b396\", \"layer\": \"below\", \"line\": {\"color\": \"rgb(175,175,175)\", \"width\": 0.5}, \"path\": \"M -0.40497422945908335,0.9143280994664998 Q -0.16088395869279137, -0.11881225456717921 0.7547321403568662, -0.6560330756237398L 0.7547321403568662, -0.6560330756237398 L 0.7463541130255607, -0.6655490500104622 L 0.7378561129198906, -0.6749580406416014 M 0.7378561129198906,-0.6749580406416014 Q -0.16088892927121917, -0.11880552360038082 -0.4279507589915333, 0.9038020512692868L -0.4279507589915333, 0.9038020512692868 L -0.416495748500543, 0.9091376636576951 L -0.40497422945908335, 0.9143280994664998 \", \"type\": \"path\"}, {\"fillcolor\": \"#e1b396\", \"layer\": \"below\", \"line\": {\"color\": \"rgb(175,175,175)\", \"width\": 0.5}, \"path\": \"M -0.29096806158605104,0.9567327668355757 Q -0.1486954809169216, -0.1337522110280253 0.9206896098116475, -0.39029558335302267L 0.9206896098116475, -0.39029558335302267 L 0.9192250719381133, -0.39373248166790925 L 0.9177477043104463, -0.39716388460295027 M 0.9177477043104463,-0.39716388460295027 Q -0.14863175368574225, -0.13382302416363506 -0.29901765378435374, 0.9542475793657013L -0.29901765378435374, 0.9542475793657013 L -0.29499547475253274, 0.9554986498554185 L -0.29096806158605104, 0.9567327668355757 \", \"type\": \"path\"}, {\"fillcolor\": \"#e1b396\", \"layer\": \"below\", \"line\": {\"color\": \"rgb(175,175,175)\", \"width\": 0.5}, \"path\": \"M -0.30873344959001425,0.951148598855221 Q -0.13356436713586153, -0.14886423288216952 0.9789341916467033, -0.2041760231393872L 0.9789341916467033, -0.2041760231393872 L 0.977935494014565, -0.20890708352396442 L 0.97691393192852, -0.21363325959213095 M 0.97691393192852,-0.21363325959213095 Q -0.13344255605789984, -0.14897343465441837 -0.31946773433803205, 0.9475971542364005L -0.31946773433803205, 0.9475971542364005 L -0.31410561131866127, 0.9493880476065254 L -0.30873344959001425, 0.951148598855221 \", \"type\": \"path\"}, {\"fillcolor\": \"#e1b396\", \"layer\": \"below\", \"line\": {\"color\": \"rgb(175,175,175)\", \"width\": 0.5}, \"path\": \"M -0.2703281272486332,0.9627682502130234 Q -0.1288284926593116, -0.15298110824258565 0.9947268040964302, -0.10256015411504626L 0.9947268040964302, -0.10256015411504626 L 0.994638729417804, -0.10341082120424655 L 0.9945499272687205, -0.10426141265963525 M 0.9945499272687205,-0.10426141265963525 Q -0.12878974225926706, -0.15301373235364057 -0.2724618977185477, 0.962166573048351L -0.2724618977185477, 0.962166573048351 L -0.2713951792217777, 0.9624680029461651 L -0.2703281272486332, 0.9627682502130234 \", \"type\": \"path\"}, {\"fillcolor\": \"#dba284\", \"layer\": \"below\", \"line\": {\"color\": \"rgb(175,175,175)\", \"width\": 0.5}, \"path\": \"M -0.7036498263461006,0.71054691743973 Q -0.15312320359619222, 0.1286595683205842 -0.8211799392846683, 0.5706693502514645L -0.8211799392846683, 0.5706693502514645 L -0.8154981801928027, 0.578759637589066 L -0.8097367182757285, 0.5867933597750179 M -0.8097367182757285,0.5867933597750179 Q -0.1530172090548375, 0.12878561151412898 -0.7164125067786103, 0.6976769453917677L -0.7164125067786103, 0.6976769453917677 L -0.7100603259829604, 0.7041408477463668 L -0.7036498263461006, 0.71054691743973 \", \"type\": \"path\"}, {\"fillcolor\": \"#dba284\", \"layer\": \"below\", \"line\": {\"color\": \"rgb(175,175,175)\", \"width\": 0.5}, \"path\": \"M -0.6514424668061753,0.7586980377208611 Q -0.15439032949840914, 0.12713625036696913 -0.8695681448914316, 0.493812961950245L -0.8695681448914316, 0.493812961950245 L -0.8675668787054809, 0.4973205314213655 L -0.8655514641434902, 0.5008199905345837 M -0.8655514641434902,0.5008199905345837 Q -0.15431914523971588, 0.1272226450459331 -0.6567050992699034, 0.754147474034692L -0.6567050992699034, 0.754147474034692 L -0.6540777404599223, 0.7564273325540548 L -0.6514424668061753, 0.7586980377208611 \", \"type\": \"path\"}, {\"fillcolor\": \"#dba284\", \"layer\": \"below\", \"line\": {\"color\": \"rgb(175,175,175)\", \"width\": 0.5}, \"path\": \"M -0.6418062032908646,0.7668668707261812 Q -0.16808386286121182, 0.10838733803195527 -0.9633604365876882, 0.26821012139287115L -0.9633604365876882, 0.26821012139287115 L -0.963319533421878, 0.2683569945573531 L -0.9632786078639024, 0.2685038614839313 M -0.9632786078639024,0.2685038614839313 Q -0.16808718189585115, 0.10838219079863193 -0.6420869641209885, 0.7666318089577894L -0.6420869641209885, 0.7666318089577894 L -0.641946594465006, 0.7667493526927696 L -0.6418062032908646, 0.7668668707261812 \", \"type\": \"path\"}, {\"fillcolor\": \"#dba284\", \"layer\": \"below\", \"line\": {\"color\": \"rgb(175,175,175)\", \"width\": 0.5}, \"path\": \"M -0.668769783150521,0.7434695536098335 Q -0.17807623542653295, 0.09104314568551562 -0.9942825076514723, 0.10678152920004438L -0.9942825076514723, 0.10678152920004438 L -0.9938130900136207, 0.11106548571711622 L -0.9933252146466396, 0.11534737945531026 M -0.9933252146466396,0.11534737945531026 Q -0.1780755889600127, 0.09104441013343222 -0.6751425013012251, 0.7376873341306093L -0.6751425013012251, 0.7376873341306093 L -0.6719623617365814, 0.7405852985371744 L -0.668769783150521, 0.7434695536098335 \", \"type\": \"path\"}, {\"fillcolor\": \"#dba284\", \"layer\": \"below\", \"line\": {\"color\": \"rgb(175,175,175)\", \"width\": 0.5}, \"path\": \"M -0.6420869641209885,0.7666318089577894 Q -0.1790615975784211, 0.089089529534416 -0.9987617550569671, 0.04974893602406839L -0.9987617550569671, 0.04974893602406839 L -0.9987421792644453, 0.050140396469378866 L -0.9987224500406638, 0.05053184921189598 M -0.9987224500406638,0.05053184921189598 Q -0.17905930085163013, 0.08909414559063585 -0.6426482274692354, 0.7661613770809971L -0.6426482274692354, 0.7661613770809971 L -0.6423676388596564, 0.7663966443988843 L -0.6420869641209885, 0.7666318089577894 \", \"type\": \"path\"}, {\"fillcolor\": \"#dba284\", \"layer\": \"below\", \"line\": {\"color\": \"rgb(175,175,175)\", \"width\": 0.5}, \"path\": \"M -0.6440498772644473,0.7649835002113774 Q -0.18631811917728305, 0.0727018463743511 -0.991952464508339, -0.12661085323080562L -0.991952464508339, -0.12661085323080562 L -0.992077952969532, -0.12562378449872832 L -0.9922024592219282, -0.1246365913925679 M -0.9922024592219282,-0.1246365913925679 Q -0.18631233239952114, 0.07271667481293652 -0.6454493681941216, 0.7638030591047729L -0.6454493681941216, 0.7638030591047729 L -0.6447498928808412, 0.764393599940596 L -0.6440498772644473, 0.7649835002113774 \", \"type\": \"path\"}, {\"fillcolor\": \"#dba284\", \"layer\": \"below\", \"line\": {\"color\": \"rgb(175,175,175)\", \"width\": 0.5}, \"path\": \"M -0.6416657906032701,0.7669843630540849 Q -0.1920190204566705, 0.05593474575664725 -0.9531780611810251, -0.3024096289524887L -0.9531780611810251, -0.3024096289524887 L -0.9532078575859503, -0.3023156963116583 L -0.9532376447341149, -0.3022217607349897 M -0.9532376447341149,-0.3022217607349897 Q -0.19201862875882258, 0.0559360904030794 -0.6418062032908646, 0.7668668707261812L -0.6418062032908646, 0.7668668707261812 L -0.641735999635955, 0.7669256201035676 L -0.6416657906032701, 0.7669843630540849 \", \"type\": \"path\"}, {\"fillcolor\": \"#dba284\", \"layer\": \"below\", \"line\": {\"color\": \"rgb(175,175,175)\", \"width\": 0.5}, \"path\": \"M -0.6454493681941216,0.7638030591047729 Q -0.1964296102640293, 0.037621911322014916 -0.8819980730289423, -0.47125300972326173L -0.8819980730289423, -0.47125300972326173 L -0.882730785740266, -0.46987909073119305 L -0.8834613582519847, -0.4685040325072542 M -0.8834613582519847,-0.4685040325072542 Q -0.19641923828979102, 0.03767602459998005 -0.6474050196710582, 0.7621461411728834L -0.6474050196710582, 0.7621461411728834 L -0.6464277248075151, 0.7629752267276962 L -0.6454493681941216, 0.7638030591047729 \", \"type\": \"path\"}, {\"fillcolor\": \"#dba284\", \"layer\": \"below\", \"line\": {\"color\": \"rgb(175,175,175)\", \"width\": 0.5}, \"path\": \"M -0.6432091461506521,0.7656905342944689 Q -0.19992410861885287, -0.005509155376019134 -0.6000659761972308, -0.7999505136009755L -0.6000659761972308, -0.7999505136009755 L -0.6006079482302158, -0.7995436776828958 L -0.6011496444345118, -0.7991364745750628 M -0.6011496444345118,-0.7991364745750628 Q -0.19992481447697408, -0.005483480313404274 -0.6440498772644473, 0.7649835002113774L -0.6440498772644473, 0.7649835002113774 L -0.6436296087931299, 0.7653371326969589 L -0.6432091461506521, 0.7656905342944689 \", \"type\": \"path\"}, {\"fillcolor\": \"#dba284\", \"layer\": \"below\", \"line\": {\"color\": \"rgb(175,175,175)\", \"width\": 0.5}, \"path\": \"M -0.6626218347106825,0.7489541402279909 Q -0.18551911430546975, -0.07471718829903906 0.041417867005598547, -0.9991419119888358L 0.041417867005598547, -0.9991419119888358 L 0.03627595212701519, -0.9993418110422873 L 0.03113307668849083, -0.9995152482758373 M 0.03113307668849083,-0.9995152482758373 Q -0.18559570547381143, -0.07452673419436978 -0.668769783150521, 0.7434695536098335L -0.668769783150521, 0.7434695536098335 L -0.6657014572617077, 0.7462181784167675 L -0.6626218347106825, 0.7489541402279909 \", \"type\": \"path\"}, {\"fillcolor\": \"#dba284\", \"layer\": \"below\", \"line\": {\"color\": \"rgb(175,175,175)\", \"width\": 0.5}, \"path\": \"M -0.6474050196710582,0.7621461411728834 Q -0.15199378019366164, -0.12999188737163897 0.652506531977944, -0.7577830993933002L 0.652506531977944, -0.7577830993933002 L 0.6500590937249625, -0.7598836586382683 L 0.6476048933602269, -0.7619763133430653 M 0.6476048933602269,-0.7619763133430653 Q -0.15206791933059538, -0.1299051496687623 -0.6514424668061753, 0.7586980377208611L -0.6514424668061753, 0.7586980377208611 L -0.6494260316898383, 0.7604247690360889 L -0.6474050196710582, 0.7621461411728834 \", \"type\": \"path\"}, {\"fillcolor\": \"#dba284\", \"layer\": \"below\", \"line\": {\"color\": \"rgb(175,175,175)\", \"width\": 0.5}, \"path\": \"M -0.6567050992699034,0.754147474034692 Q -0.10267109291200333, -0.17163521398668394 0.9750554721263032, -0.22196131707248465L 0.9750554721263032, -0.22196131707248465 L 0.9741424701165624, -0.22593460982151958 L 0.9732132772472658, -0.22990414739546694 M 0.9732132772472658,-0.22990414739546694 Q -0.10269520881842945, -0.17162078570423567 -0.6626218347106825, 0.7489541402279909L -0.6626218347106825, 0.7489541402279909 L -0.6596685776665887, 0.7515566296955538 L -0.6567050992699034, 0.754147474034692 \", \"type\": \"path\"}, {\"fillcolor\": \"#dba284\", \"layer\": \"below\", \"line\": {\"color\": \"rgb(175,175,175)\", \"width\": 0.5}, \"path\": \"M -0.6426482274692354,0.7661613770809971 Q -0.09418858108026341, -0.1764327384418398 0.9941874452747784, -0.10766300970161269L 0.9941874452747784, -0.10766300970161269 L 0.9941505571212543, -0.10800310076798576 L 0.9941135526295783, -0.1083431791955477 M 0.9941135526295783,-0.1083431791955477 Q -0.09418433175446314, -0.17643500687778838 -0.6432091461506521, 0.7656905342944689L -0.6432091461506521, 0.7656905342944689 L -0.642928729912104, 0.7659260070356724 L -0.6426482274692354, 0.7661613770809971 \", \"type\": \"path\"}, {\"fillcolor\": \"#d59171\", \"layer\": \"below\", \"line\": {\"color\": \"rgb(175,175,175)\", \"width\": 0.5}, \"path\": \"M -0.7472028153838208,0.6645960823556604 Q -0.16305799206103214, 0.11581058338953476 -0.8736315428401622, 0.48658804686790025L -0.8736315428401622, 0.48658804686790025 L -0.8716073299808625, 0.4902047147097137 L -0.8695681448914316, 0.493812961950245 M -0.8695681448914316,0.493812961950245 Q -0.16302902720471882, 0.11585135428074655 -0.7523566932945408, 0.658755953335455L -0.7523566932945408, 0.658755953335455 L -0.7497854405052592, 0.66168103585212 L -0.7472028153838208, 0.6645960823556604 \", \"type\": \"path\"}, {\"fillcolor\": \"#d59171\", \"layer\": \"below\", \"line\": {\"color\": \"rgb(175,175,175)\", \"width\": 0.5}, \"path\": \"M -0.7721320630459733,0.6354620973876955 Q -0.18483488447362484, 0.07639414559782547 -0.995467269448541, 0.0951047604311473L -0.995467269448541, 0.0951047604311473 L -0.9948920195677563, 0.1009448829827013 L -0.9942825076514723, 0.10678152920004438 M -0.9942825076514723,0.10678152920004438 Q -0.18487478677517452, 0.07629753085673066 -0.780191300871602, 0.6255409930965974L -0.780191300871602, 0.6255409930965974 L -0.7761775335699191, 0.6305144220248392 L -0.7721320630459733, 0.6354620973876955 \", \"type\": \"path\"}, {\"fillcolor\": \"#d59171\", \"layer\": \"below\", \"line\": {\"color\": \"rgb(175,175,175)\", \"width\": 0.5}, \"path\": \"M -0.7394543287718517,0.6732067257986735 Q -0.18474709731280634, 0.07660620101853682 -0.9988666791988626, 0.04759576857491029L -0.9988666791988626, 0.04759576857491029 L -0.998838523854663, 0.04818301841767427 L -0.9988100232568322, 0.04877025160573171 M -0.9988100232568322,0.04877025160573171 Q -0.18474795805638766, 0.07660412517609755 -0.7402605154354785, 0.6723201389867773L -0.7402605154354785, 0.6723201389867773 L -0.7398575549056212, 0.672763553151533 L -0.7394543287718517, 0.6732067257986735 \", \"type\": \"path\"}, {\"fillcolor\": \"#d59171\", \"layer\": \"below\", \"line\": {\"color\": \"rgb(175,175,175)\", \"width\": 0.5}, \"path\": \"M -0.7437416926566113,0.66846712305414 Q -0.19134681507725337, 0.05819275178053879 -0.989980478972229, -0.1412042890776202L -0.989980478972229, -0.1412042890776202 L -0.9903424662181771, -0.1386427048383674 L -0.9906978253509898, -0.1360801926983485 M -0.9906978253509898,-0.1360801926983485 Q -0.19134735782081835, 0.058190967125420046 -0.7472028153838208, 0.6645960823556604L -0.7472028153838208, 0.6645960823556604 L -0.7454747666775879, 0.6665338492882382 L -0.7437416926566113, 0.66846712305414 \", \"type\": \"path\"}, {\"fillcolor\": \"#d59171\", \"layer\": \"below\", \"line\": {\"color\": \"rgb(175,175,175)\", \"width\": 0.5}, \"path\": \"M -0.7402605154354785,0.6723201389867773 Q -0.19547231308896768, 0.042315184220898805 -0.9520389414014382, -0.3059768848381017L -0.9520389414014382, -0.3059768848381017 L -0.952309940050888, -0.3051323943475589 L -0.9525801896090947, -0.30428766383851485 M -0.9525801896090947,-0.30428766383851485 Q -0.19547281381195875, 0.042312871096574334 -0.7414678019554498, 0.6709884489790818L -0.7414678019554498, 0.6709884489790818 L -0.74086445790651, 0.6716545652423521 L -0.7402605154354785, 0.6723201389867773 \", \"type\": \"path\"}, {\"fillcolor\": \"#d59171\", \"layer\": \"below\", \"line\": {\"color\": \"rgb(175,175,175)\", \"width\": 0.5}, \"path\": \"M -0.7414678019554498,0.6709884489790818 Q -0.19859162284876594, 0.023693191728712145 -0.878515082481281, -0.47771461130355664L -0.878515082481281, -0.47771461130355664 L -0.8794167501620903, -0.47605270667684235 L -0.8803152739881741, -0.47438910019426656 M -0.8803152739881741,-0.47438910019426656 Q -0.19858704333176105, 0.023731544845400684 -0.7437416926566113, 0.66846712305414L -0.7437416926566113, 0.66846712305414 L -0.7426058173705338, 0.6697287510682526 L -0.7414678019554498, 0.6709884489790818 \", \"type\": \"path\"}, {\"fillcolor\": \"#d59171\", \"layer\": \"below\", \"line\": {\"color\": \"rgb(175,175,175)\", \"width\": 0.5}, \"path\": \"M -0.7582467368839039,0.6519677031915859 Q -0.1981786373461671, -0.026930051979459357 -0.5567753496262683, -0.830663114655121L -0.5567753496262683, -0.830663114655121 L -0.5614574725980945, -0.8275055930105608 L -0.5661216894455483, -0.8243216803768527 M -0.5661216894455483,-0.8243216803768527 Q -0.19819621586819403, -0.026800373421432717 -0.7647193777345861, 0.6443634636734359L -0.7647193777345861, 0.6443634636734359 L -0.7614925493290773, 0.6481736629301617 L -0.7582467368839039, 0.6519677031915859 \", \"type\": \"path\"}, {\"fillcolor\": \"#d59171\", \"layer\": \"below\", \"line\": {\"color\": \"rgb(175,175,175)\", \"width\": 0.5}, \"path\": \"M -0.780191300871602,0.6255409930965974 Q -0.17708307999026854, -0.09296011392613587 0.071785344840925, -0.9974201042018701L 0.071785344840925, -0.9974201042018701 L 0.06368507748068561, -0.9979700450946807 L 0.05558061220607758, -0.9984542030292615 M 0.05558061220607758,-0.9984542030292615 Q -0.1771786301488274, -0.09277786922852366 -0.7889828199404414, 0.6144152584684311L -0.7889828199404414, 0.6144152584684311 L -0.784606781037047, 0.6199937089605696 L -0.780191300871602, 0.6255409930965974 \", \"type\": \"path\"}, {\"fillcolor\": \"#d59171\", \"layer\": \"below\", \"line\": {\"color\": \"rgb(175,175,175)\", \"width\": 0.5}, \"path\": \"M -0.7647193777345861,0.6443634636734359 Q -0.1375144412809176, -0.1452232021379403 0.6850749157947311, -0.7284726211388058L 0.6850749157947311, -0.7284726211388058 L 0.680361666213131, -0.73287652653615 L 0.6756201073919545, -0.7372499375976127 M 0.6756201073919545,-0.7372499375976127 Q -0.13761006099038217, -0.14513259838583234 -0.7721320630459733, 0.6354620973876955L -0.7721320630459733, 0.6354620973876955 L -0.7684386093486966, 0.6399235139157189 L -0.7647193777345861, 0.6443634636734359 \", \"type\": \"path\"}, {\"fillcolor\": \"#d59171\", \"layer\": \"below\", \"line\": {\"color\": \"rgb(175,175,175)\", \"width\": 0.5}, \"path\": \"M -0.7381083252681081,0.6746822216198591 Q -0.11073459024598303, -0.16654684182852056 0.907709812881767, -0.41959849332206556L 0.907709812881767, -0.41959849332206556 L 0.9075034414140809, -0.4200446450338343 L 0.9072968506567798, -0.42049069524579136 M 0.9072968506567798,-0.42049069524579136 Q -0.11073330267497568, -0.16654769790871393 -0.7387816953778579, 0.6739448097393569L -0.7387816953778579, 0.6739448097393569 L -0.7384451023705018, 0.6743135997331058 L -0.7381083252681081, 0.6746822216198591 \", \"type\": \"path\"}, {\"fillcolor\": \"#d59171\", \"layer\": \"below\", \"line\": {\"color\": \"rgb(175,175,175)\", \"width\": 0.5}, \"path\": \"M -0.7523566932945408,0.658755953335455 Q -0.09008267826032548, -0.17856402514909517 0.97691393192852, -0.21363325959213095L 0.97691393192852, -0.21363325959213095 L 0.975993584879985, -0.2177992705982174 L 0.9750554721263032, -0.22196131707248465 M 0.9750554721263032,-0.22196131707248465 Q -0.09004209905022903, -0.17858449092412462 -0.7582467368839039, 0.6519677031915859L -0.7582467368839039, 0.6519677031915859 L -0.7553093411985086, 0.6553684453025451 L -0.7523566932945408, 0.658755953335455 \", \"type\": \"path\"}, {\"fillcolor\": \"#d59171\", \"layer\": \"below\", \"line\": {\"color\": \"rgb(175,175,175)\", \"width\": 0.5}, \"path\": \"M -0.7379735628993453,0.6748296232840153 Q -0.08250855550950315, -0.18218764576045007 0.993983120808409, -0.10953335358682258L 0.993983120808409, -0.10953335358682258 L 0.9939737497232087, -0.10961836005516581 L 0.9939643713681673, -0.10970336572176857 M 0.9939643713681673,-0.10970336572176857 Q -0.082505943177157, -0.18218882880255788 -0.7381083252681081, 0.6746822216198591L -0.7381083252681081, 0.6746822216198591 L -0.7380409477636123, 0.6747559258162829 L -0.7379735628993453, 0.6748296232840153 \", \"type\": \"path\"}, {\"fillcolor\": \"#d0805f\", \"layer\": \"below\", \"line\": {\"color\": \"rgb(175,175,175)\", \"width\": 0.5}, \"path\": \"M -0.8777367717879299,0.4791431513142013 Q -0.186522061806238, 0.07217700783178764 -0.9716331210896929, 0.23649329377701617L -0.9716331210896929, 0.23649329377701617 L -0.9708892214748173, 0.23952895362361354 L -0.9701358376146564, 0.2425622736035204 M -0.9701358376146564,0.2425622736035204 Q -0.18661081845866284, 0.07194721978080866 -0.8818787877476651, 0.47147619634580556L -0.8818787877476651, 0.47147619634580556 L -0.8798161312965129, 0.4753141856818889 L -0.8777367717879299, 0.4791431513142013 \", \"type\": \"path\"}, {\"fillcolor\": \"#d0805f\", \"layer\": \"below\", \"line\": {\"color\": \"rgb(175,175,175)\", \"width\": 0.5}, \"path\": \"M -0.8736315428401622,0.48658804686790025 Q -0.19009036307161464, 0.06217438272553834 -0.9923168331673541, 0.12372268430935969L -0.9923168331673541, 0.12372268430935969 L -0.991856376314992, 0.12736141002396628 L -0.9913825766681291, 0.13099842242890192 M -0.9913825766681291,0.13099842242890192 Q -0.1901265865423198, 0.06206352463215238 -0.8777367717879299, 0.4791431513142013L -0.8777367717879299, 0.4791431513142013 L -0.8756920691591665, 0.4828699618031107 L -0.8736315428401622, 0.48658804686790025 \", \"type\": \"path\"}, {\"fillcolor\": \"#d0805f\", \"layer\": \"below\", \"line\": {\"color\": \"rgb(175,175,175)\", \"width\": 0.5}, \"path\": \"M -0.8557035704094874,0.517466327009261 Q -0.19150987137973333, 0.057653873799754375 -0.9991616407799606, 0.040939169433405115L -0.9991616407799606, 0.040939169433405115 L -0.999087879262792, 0.04270139939365922 L -0.9990110096879412, 0.044463496514335156 M -0.9990110096879412,0.044463496514335156 Q -0.1915184666694742, 0.05762531496290066 -0.8576770202496479, 0.514188806700112L -0.8576770202496479, 0.514188806700112 L -0.8566918627176905, 0.5158285106053113 L -0.8557035704094874, 0.517466327009261 \", \"type\": \"path\"}, {\"fillcolor\": \"#d0805f\", \"layer\": \"below\", \"line\": {\"color\": \"rgb(175,175,175)\", \"width\": 0.5}, \"path\": \"M -0.8576770202496479,0.514188806700112 Q -0.19594232165175182, 0.04008249724906668 -0.9906978253509898, -0.1360801926983485L -0.9906978253509898, -0.1360801926983485 L -0.9909533179051193, -0.13420701074398256 L -0.9912052687057992, -0.13233334912207312 M -0.9912052687057992,-0.13233334912207312 Q -0.19594747626407533, 0.040057290793807335 -0.8597464866028639, 0.5107210381157521L -0.8597464866028639, 0.5107210381157521 L -0.8587135039273188, 0.5124559670575284 L -0.8576770202496479, 0.514188806700112 \", \"type\": \"path\"}, {\"fillcolor\": \"#d0805f\", \"layer\": \"below\", \"line\": {\"color\": \"rgb(175,175,175)\", \"width\": 0.5}, \"path\": \"M -0.8527199210479188,0.5223683913178813 Q -0.198628856206318, 0.023378996603144478 -0.9507032829658477, -0.3101020279810491L -0.9507032829658477, -0.3101020279810491 L -0.9510997707902311, -0.3088838390119655 L -0.951494697682074, -0.3076651431067529 M -0.951494697682074,-0.3076651431067529 Q -0.19863120354586392, 0.023359044884617666 -0.8541600044902623, 0.5200102755996222L -0.8541600044902623, 0.5200102755996222 L -0.8534407772240215, 0.521189830840221 L -0.8527199210479188, 0.5223683913178813 \", \"type\": \"path\"}, {\"fillcolor\": \"#d0805f\", \"layer\": \"below\", \"line\": {\"color\": \"rgb(175,175,175)\", \"width\": 0.5}, \"path\": \"M -0.8911218389335286,0.4537641107180318 Q -0.19976631836665668, -0.009665301145415845 -0.8431530717426595, -0.5376735976509519L -0.8431530717426595, -0.5376735976509519 L -0.8475496909867668, -0.5307160458364115 L -0.8518888990895614, -0.5237225444908544 M -0.8518888990895614,-0.5237225444908544 Q -0.19976984438942774, -0.00959214640337782 -0.8981482376519001, 0.43969278275039486L -0.8981482376519001, 0.43969278275039486 L -0.8946627030946912, 0.446742260919314 L -0.8911218389335286, 0.4537641107180318 \", \"type\": \"path\"}, {\"fillcolor\": \"#d0805f\", \"layer\": \"below\", \"line\": {\"color\": \"rgb(175,175,175)\", \"width\": 0.5}, \"path\": \"M -0.8981482376519001,0.43969278275039486 Q -0.19134442979315425, -0.058200594388138994 -0.5012041028691004, -0.8653290976658419L -0.5012041028691004, -0.8653290976658419 L -0.5106542189003669, -0.8597861761619898 L -0.5200430417839892, -0.8541400556653785 M -0.5200430417839892,-0.8541400556653785 Q -0.19138207099949955, -0.05807669842494939 -0.9070217600778512, 0.4210837526493715L -0.9070217600778512, 0.4210837526493715 L -0.9026329565090303, 0.43041113580362567 L -0.8981482376519001, 0.43969278275039486 \", \"type\": \"path\"}, {\"fillcolor\": \"#d0805f\", \"layer\": \"below\", \"line\": {\"color\": \"rgb(175,175,175)\", \"width\": 0.5}, \"path\": \"M -0.8541600044902623,0.5200102755996222 Q -0.17837808375089637, -0.09045031363880504 -0.08525329947597168, -0.996359310152949L -0.08525329947597168, -0.996359310152949 L -0.08632160423794254, -0.9962673238854057 L -0.08738980975281188, -0.9961741921729188 M -0.08738980975281188,-0.9961741921729188 Q -0.1783404818042177, -0.09052443067945527 -0.8557035704094874, 0.517466327009261L -0.8557035704094874, 0.517466327009261 L -0.8549327336760745, 0.5187388754365286 L -0.8541600044902623, 0.5200102755996222 \", \"type\": \"path\"}, {\"fillcolor\": \"#d0805f\", \"layer\": \"below\", \"line\": {\"color\": \"rgb(175,175,175)\", \"width\": 0.5}, \"path\": \"M -0.9180563021153724,0.3964500298224837 Q -0.1572053980242818, -0.123638435900925 0.16891799266386773, -0.9856301089934345L 0.16891799266386773, -0.9856301089934345 L 0.1533439020425837, -0.9881728835109546 L 0.13773162602935865, -0.9904695851924525 M 0.13773162602935865,-0.9904695851924525 Q -0.15734315014681732, -0.12346308396389627 -0.9292880517270424, 0.36935581343381857L -0.9292880517270424, 0.36935581343381857 L -0.9237715164253503, 0.3829441022410567 L -0.9180563021153724, 0.3964500298224837 \", \"type\": \"path\"}, {\"fillcolor\": \"#d0805f\", \"layer\": \"below\", \"line\": {\"color\": \"rgb(175,175,175)\", \"width\": 0.5}, \"path\": \"M -0.8863478036671852,0.46302005457037904 Q -0.12281300951912384, -0.15785108391409797 0.6667162403149394, -0.7453116495133508L 0.6667162403149394, -0.7453116495133508 L 0.6626447250265503, -0.7489338878662706 L 0.658553530616217, -0.7525338844948547 M 0.658553530616217,-0.7525338844948547 Q -0.12285124628135465, -0.15782132709845634 -0.8911218389335286, 0.4537641107180318L -0.8911218389335286, 0.4537641107180318 L -0.8887468710020457, 0.4583982976452608 L -0.8863478036671852, 0.46302005457037904 \", \"type\": \"path\"}, {\"fillcolor\": \"#d0805f\", \"layer\": \"below\", \"line\": {\"color\": \"rgb(175,175,175)\", \"width\": 0.5}, \"path\": \"M -0.8626631801567709,0.5057788425802395 Q -0.09165258824002884, -0.17776333443346448 0.9123554734862971, -0.40939893746759376L 0.9123554734862971, -0.40939893746759376 L 0.9112655211408025, -0.4118193171525367 L 0.9101691478052697, -0.4142367950622314 M 0.9101691478052697,-0.4142367950622314 Q -0.09161439071249232, -0.17778302341443855 -0.8655514641434902, 0.5008199905345837L -0.8655514641434902, 0.5008199905345837 L -0.8641108793128763, 0.5033014884272922 L -0.8626631801567709, 0.5057788425802395 \", \"type\": \"path\"}, {\"fillcolor\": \"#d0805f\", \"layer\": \"below\", \"line\": {\"color\": \"rgb(175,175,175)\", \"width\": 0.5}, \"path\": \"M -0.8597464866028639,0.5107210381157521 Q -0.07555913840447619, -0.185177797274871 0.9716212097830379, -0.23654222603955083L 0.9716212097830379, -0.23654222603955083 L 0.9710125076228515, -0.23902868037116728 L 0.9703974424434707, -0.2415135683541835 M 0.9703974424434707,-0.2415135683541835 Q -0.07550182903153019, -0.1852011711974133 -0.8626631801567709, 0.5057788425802395L -0.8626631801567709, 0.5057788425802395 L -0.8612083785942498, 0.5082520325970801 L -0.8597464866028639, 0.5107210381157521 \", \"type\": \"path\"}, {\"fillcolor\": \"#d0805f\", \"layer\": \"below\", \"line\": {\"color\": \"rgb(175,175,175)\", \"width\": 0.5}, \"path\": \"M -0.8517191259124807,0.5239985978558338 Q -0.06442912995136299, -0.18933802368703012 0.9945499272687205, -0.10426141265963525L 0.9945499272687205, -0.10426141265963525 L 0.9944693834009741, -0.10502687978839689 L 0.9943882503824757, -0.10579228469637492 M 0.9943882503824757,-0.10579228469637492 Q -0.06439376914167495, -0.18935005280096617 -0.8527199210479188, 0.5223683913178813L -0.8527199210479188, 0.5223683913178813 L -0.8522199132818699, 0.5231837338888148 L -0.8517191259124807, 0.5239985978558338 \", \"type\": \"path\"}, {\"fillcolor\": \"#ca6f4c\", \"layer\": \"below\", \"line\": {\"color\": \"rgb(175,175,175)\", \"width\": 0.5}, \"path\": \"M -0.9638901396242656,0.26630020415897854 Q -0.19492022095014827, 0.04478959103123616 -0.9834521043186794, 0.18116831541735273L -0.9834521043186794, 0.18116831541735273 L -0.9833189438642135, 0.1818896771061179 L -0.9831852542913376, 0.1826109409210682 M -0.9831852542913376,0.1826109409210682 Q -0.19491467901182413, 0.044813702209453375 -0.964214228800246, 0.26512435003059776L -0.964214228800246, 0.26512435003059776 L -0.9640523634858503, 0.26571232650621585 L -0.9638901396242656, 0.26630020415897854 \", \"type\": \"path\"}, {\"fillcolor\": \"#ca6f4c\", \"layer\": \"below\", \"line\": {\"color\": \"rgb(175,175,175)\", \"width\": 0.5}, \"path\": \"M -0.9634830117226207,0.26776946450614597 Q -0.19741941281627795, 0.032024606840303727 -0.9987224500406638, 0.05053184921189598L -0.9987224500406638, 0.05053184921189598 L -0.9987075524353858, 0.0508254336776499 L -0.9986925685280158, 0.051119013751386125 M -0.9986925685280158,0.051119013751386125 Q -0.1974173221962712, 0.03203749204999741 -0.963605385293867, 0.2673287516012039L -0.963605385293867, 0.2673287516012039 L -0.9635442237053057, 0.2675491150501899 L -0.9634830117226207, 0.26776946450614597 \", \"type\": \"path\"}, {\"fillcolor\": \"#ca6f4c\", \"layer\": \"below\", \"line\": {\"color\": \"rgb(175,175,175)\", \"width\": 0.5}, \"path\": \"M -0.9674919237708817,0.2529019126818113 Q -0.19982502181727752, -0.008364248664677996 -0.9429727673158922, -0.3328698846405426L -0.9429727673158922, -0.3328698846405426 L -0.9439527274745971, -0.33008066937230496 L -0.9449244374451893, -0.3272885691845846 M -0.9449244374451893,-0.3272885691845846 Q -0.1998305762471505, -0.0082304797388595 -0.968638540913924, 0.2484740973545219L -0.968638540913924, 0.2484740973545219 L -0.9680677638767305, 0.2506886605786281 L -0.9674919237708817, 0.2529019126818113 \", \"type\": \"path\"}, {\"fillcolor\": \"#ca6f4c\", \"layer\": \"below\", \"line\": {\"color\": \"rgb(175,175,175)\", \"width\": 0.5}, \"path\": \"M -0.9650581369047708,0.2620358608929181 Q -0.19859831330349914, -0.023637046198821038 -0.8765953052037818, -0.48122829394653077L -0.8765953052037818, -0.48122829394653077 L -0.8775569524147318, -0.4794724134593859 L -0.878515082481281, -0.47771461130355664 M -0.878515082481281,-0.47771461130355664 Q -0.19861316071125684, -0.023511962748449175 -0.9657736132052757, 0.2593864453598657L -0.9657736132052757, 0.2593864453598657 L -0.9654167839119656, 0.26071139856377035 L -0.9650581369047708, 0.2620358608929181 \", \"type\": \"path\"}, {\"fillcolor\": \"#ca6f4c\", \"layer\": \"below\", \"line\": {\"color\": \"rgb(175,175,175)\", \"width\": 0.5}, \"path\": \"M -0.9657736132052757,0.2593864453598657 Q -0.18876968269084352, -0.06607576633530825 -0.5931772280879718, -0.8050719073957744L -0.5931772280879718, -0.8050719073957744 L -0.5949943148745269, -0.8037299081575802 L -0.596808365544116, -0.8023838076734605 M -0.596808365544116,-0.8023838076734605 Q -0.18881815165432167, -0.06593713373999197 -0.9665600559458015, 0.25644036002557996L -0.9665600559458015, 0.25644036002557996 L -0.9661679574941489, 0.2579137024502276 L -0.9657736132052757, 0.2593864453598657 \", \"type\": \"path\"}, {\"fillcolor\": \"#ca6f4c\", \"layer\": \"below\", \"line\": {\"color\": \"rgb(175,175,175)\", \"width\": 0.5}, \"path\": \"M -0.9665600559458015,0.25644036002557996 Q -0.16289781332582493, -0.11603578074742592 -0.07349574814922659, -0.9972955304241494L -0.07349574814922659, -0.9972955304241494 L -0.07532880783061445, -0.9971587490017918 L -0.07716161298975024, -0.9970185983625481 M -0.07716161298975024,-0.9970185983625481 Q -0.16289881202132475, -0.11603437870752403 -0.9674919237708817, 0.2529019126818113L -0.9674919237708817, 0.2529019126818113 L -0.9670276082997354, 0.25467156257834006 L -0.9665600559458015, 0.25644036002557996 \", \"type\": \"path\"}, {\"fillcolor\": \"#ca6f4c\", \"layer\": \"below\", \"line\": {\"color\": \"rgb(175,175,175)\", \"width\": 0.5}, \"path\": \"M -0.97368637339869,0.2278921812123155 Q -0.14974473645524042, -0.13257644550956477 0.10822713009058599, -0.9941261933539199L 0.10822713009058599, -0.9941261933539199 L 0.0987869953059818, -0.99510860189148 L 0.08933796166325389, -0.9960013697811138 M 0.08933796166325389,-0.9960013697811138 Q -0.15016345277576645, -0.13210199639089548 -0.9764921724457019, 0.21555286393892717L -0.9764921724457019, 0.21555286393892717 L -0.9751087912923511, 0.22172696079721577 L -0.97368637339869, 0.2278921812123155 \", \"type\": \"path\"}, {\"fillcolor\": \"#ca6f4c\", \"layer\": \"below\", \"line\": {\"color\": \"rgb(175,175,175)\", \"width\": 0.5}, \"path\": \"M -0.9633604365876882,0.26821012139287115 Q -0.10862830998390166, -0.16792822952095154 0.6396037236619153, -0.7687048046407752L 0.6396037236619153, -0.7687048046407752 L 0.6393472114390631, -0.7689181641924542 L 0.6390906280435559, -0.7691314381475336 M 0.6390906280435559,-0.7691314381475336 Q -0.10864593413989326, -0.1679168276107847 -0.9634830117226207, 0.26776946450614597L -0.9634830117226207, 0.26776946450614597 L -0.9634217493490136, 0.2679897999575476 L -0.9633604365876882, 0.26821012139287115 \", \"type\": \"path\"}, {\"fillcolor\": \"#ca6f4c\", \"layer\": \"below\", \"line\": {\"color\": \"rgb(175,175,175)\", \"width\": 0.5}, \"path\": \"M -0.963605385293867,0.2673287516012039 Q -0.06853198793435715, -0.1878919014480537 0.9094346688446638, -0.41584682649191473L 0.9094346688446638, -0.41584682649191473 L 0.9091482688641449, -0.41647259840393874 L 0.9088614382969734, -0.417098173068112 M 0.9088614382969734,-0.417098173068112 Q -0.06856103120332932, -0.18788130561696686 -0.9638901396242656, 0.26630020415897854L -0.9638901396242656, 0.26630020415897854 L -0.9637478996720652, 0.26681451586763955 L -0.963605385293867, 0.2673287516012039 \", \"type\": \"path\"}, {\"fillcolor\": \"#ca6f4c\", \"layer\": \"below\", \"line\": {\"color\": \"rgb(175,175,175)\", \"width\": 0.5}, \"path\": \"M -0.9631556968464982,0.2689444248021078 Q -0.052644232313918064, -0.1929471036426259 0.9662813311307972, -0.25748861937587614L 0.9662813311307972, -0.25748861937587614 L 0.9662569142124845, -0.2575802316494169 L 0.9662324886084939, -0.2576718416075704 M 0.9662324886084939,-0.2576718416075704 Q -0.05264781708616459, -0.19294612552746881 -0.9631966895752604, 0.26879757660972226L -0.9631966895752604, 0.26879757660972226 L -0.9631761960094833, 0.26887100148714665 L -0.9631556968464982, 0.2689444248021078 \", \"type\": \"path\"}, {\"fillcolor\": \"#ca6f4c\", \"layer\": \"below\", \"line\": {\"color\": \"rgb(175,175,175)\", \"width\": 0.5}, \"path\": \"M -0.9631966895752604,0.26879757660972226 Q -0.03789097176119803, -0.1963778863797859 0.9940578277675061, -0.10885327305206442L 0.9940578277675061, -0.10885327305206442 L 0.9940391946491058, -0.10902329797505209 L 0.9940205324494256, -0.10919331970849037 M 0.9940205324494256,-0.10919331970849037 Q -0.03789462054275281, -0.1963771823148524 -0.9632786078639024, 0.2685038614839313L -0.9632786078639024, 0.2685038614839313 L -0.9632376599147127, 0.2686507221691921 L -0.9631966895752604, 0.26879757660972226 \", \"type\": \"path\"}, {\"fillcolor\": \"#c45e3a\", \"layer\": \"below\", \"line\": {\"color\": \"rgb(175,175,175)\", \"width\": 0.5}, \"path\": \"M -0.9829500245641666,0.18387291592103608 Q -0.1999046668977723, 0.006174475887935148 -0.9924240949172234, -0.12285933349863949L -0.9924240949172234, -0.12285933349863949 L -0.9925094268828812, -0.12216807090485889 L -0.9925942773568893, -0.12147674904422916 M -0.9925942773568893,-0.12147674904422916 Q -0.19990432913942904, 0.006185401467554231 -0.9831852542913376, 0.1826109409210682L -0.9831852542913376, 0.1826109409210682 L -0.9830678419291712, 0.18324196616692948 L -0.9829500245641666, 0.18387291592103608 \", \"type\": \"path\"}, {\"fillcolor\": \"#c45e3a\", \"layer\": \"below\", \"line\": {\"color\": \"rgb(175,175,175)\", \"width\": 0.5}, \"path\": \"M -0.9852607536409635,0.17105919248856688 Q -0.19924234415892916, -0.017392190605407882 -0.9407210254772722, -0.3391812969858294L -0.9407210254772722, -0.3391812969858294 L -0.941852183059169, -0.33602747695192675 L -0.9429727673158922, -0.3328698846405426 M -0.9429727673158922,-0.3328698846405426 Q -0.19924639034201433, -0.017345775730063486 -0.9863081774678393, 0.16491264069218392L -0.9863081774678393, 0.16491264069218392 L -0.9857892561562654, 0.1679867329489944 L -0.9852607536409635, 0.17105919248856688 \", \"type\": \"path\"}, {\"fillcolor\": \"#c45e3a\", \"layer\": \"below\", \"line\": {\"color\": \"rgb(175,175,175)\", \"width\": 0.5}, \"path\": \"M -0.9842075051525095,0.17701860580592327 Q -0.19714505012677885, -0.033672380529298045 -0.8696558317851226, -0.4936585198719116L -0.8696558317851226, -0.4936585198719116 L -0.8714618341493863, -0.4904633234208116 L -0.8732560971167279, -0.4872615199751156 M -0.8732560971167279,-0.4872615199751156 Q -0.19716670725578844, -0.033545335740013484 -0.9852607536409635, 0.17105919248856688L -0.9852607536409635, 0.17105919248856688 L -0.9847386375330869, 0.17403969590147997 L -0.9842075051525095, 0.17701860580592327 \", \"type\": \"path\"}, {\"fillcolor\": \"#c45e3a\", \"layer\": \"below\", \"line\": {\"color\": \"rgb(175,175,175)\", \"width\": 0.5}, \"path\": \"M -0.9893540803005585,0.1455283607845427 Q -0.18330613662962852, -0.07999287639483882 -0.5661216894455483, -0.8243216803768527L -0.5661216894455483, -0.8243216803768527 L -0.5698400705331617, -0.8217556169657506 L -0.5735468205926763, -0.8191727806684207 M -0.5735468205926763,-0.8191727806684207 Q -0.1833740735849831, -0.07983701608182267 -0.9903949746651726, 0.1382671116280808L -0.9903949746651726, 0.1382671116280808 L -0.9898811855946421, 0.1418986906414068 L -0.9893540803005585, 0.1455283607845427 \", \"type\": \"path\"}, {\"fillcolor\": \"#c45e3a\", \"layer\": \"below\", \"line\": {\"color\": \"rgb(175,175,175)\", \"width\": 0.5}, \"path\": \"M -0.9828148802874481,0.18459390858197097 Q -0.15948918928436462, -0.1206780779653708 -0.08952591812873925, -0.9959844928427382L -0.08952591812873925, -0.9959844928427382 L -0.08983104308707722, -0.9959570190012658 L -0.09013615961422812, -0.9959294516831995 M -0.09013615961422812,-0.9959294516831995 Q -0.1594818981978553, -0.1206877133233078 -0.9829500245641666, 0.18387291592103608L -0.9829500245641666, 0.18387291592103608 L -0.9828825185362561, 0.18423342464337533 L -0.9828148802874481, 0.18459390858197097 \", \"type\": \"path\"}, {\"fillcolor\": \"#c45e3a\", \"layer\": \"below\", \"line\": {\"color\": \"rgb(175,175,175)\", \"width\": 0.5}, \"path\": \"M -0.9903949746651726,0.1382671116280808 Q -0.14950533747472528, -0.13284635511209372 0.020844988871346386, -0.9997827196140937L 0.020844988871346386, -0.9997827196140937 L 0.016271731930338408, -0.9998676066059882 L 0.011698134554028676, -0.9999315744829522 M 0.011698134554028676,-0.9999315744829522 Q -0.14962567507067304, -0.1327108034775066 -0.9913825766681291, 0.13099842242890192L -0.9913825766681291, 0.13099842242890192 L -0.9908954406004818, 0.13463367259782016 L -0.9903949746651726, 0.1382671116280808 \", \"type\": \"path\"}, {\"fillcolor\": \"#c45e3a\", \"layer\": \"below\", \"line\": {\"color\": \"rgb(175,175,175)\", \"width\": 0.5}, \"path\": \"M -0.9883717566359962,0.15205680084848247 Q -0.09628418199396839, -0.17529790728286626 0.658553530616217, -0.7525338844948547L 0.658553530616217, -0.7525338844948547 L 0.6555352854702897, -0.7551645446545976 L 0.652506531977944, -0.7577830993933002 M 0.652506531977944,-0.7577830993933002 Q -0.09640735785714602, -0.1752301953174857 -0.9893540803005585, 0.1455283607845427L -0.9893540803005585, 0.1455283607845427 L -0.9888683060215936, 0.1487933914728202 L -0.9883717566359962, 0.15205680084848247 \", \"type\": \"path\"}, {\"fillcolor\": \"#c45e3a\", \"layer\": \"below\", \"line\": {\"color\": \"rgb(175,175,175)\", \"width\": 0.5}, \"path\": \"M -0.9827810115830503,0.1847741412422102 Q -0.06118258979547606, -0.1904118974904628 0.906468295730635, -0.4222738789401944L 0.906468295730635, -0.4222738789401944 L 0.906426775961087, -0.4223629953260457 L 0.9063852474303613, -0.42245210762949537 M 0.9063852474303613,-0.42245210762949537 Q -0.061183850367305295, -0.19041149244263383 -0.9828148802874481, 0.18459390858197097L -0.9828148802874481, 0.18459390858197097 L -0.9827979500667968, 0.18468402568847686 L -0.9827810115830503, 0.1847741412422102 \", \"type\": \"path\"}, {\"fillcolor\": \"#c45e3a\", \"layer\": \"below\", \"line\": {\"color\": \"rgb(175,175,175)\", \"width\": 0.5}, \"path\": \"M -0.987346354304662,0.15857861344233298 Q -0.03887397578525633, -0.19618566208224114 0.9732132772472658, -0.22990414739546694L 0.9732132772472658, -0.22990414739546694 L 0.9724229077451987, -0.23322454521849298 L 0.9716212097830379, -0.23654222603955083 M 0.9716212097830379,-0.23654222603955083 Q -0.03889598752033432, -0.1961812991974974 -0.9883717566359962, 0.15205680084848247L -0.9883717566359962, 0.15205680084848247 L -0.9878644375543681, 0.15531855335210895 L -0.987346354304662, 0.15857861344233298 \", \"type\": \"path\"}, {\"fillcolor\": \"#c45e3a\", \"layer\": \"below\", \"line\": {\"color\": \"rgb(175,175,175)\", \"width\": 0.5}, \"path\": \"M -0.983749780381363,0.17954489577712934 Q -0.027994770849513406, -0.19803104000404392 0.9949695425074718, -0.10017788918954187L 0.9949695425074718, -0.10017788918954187 L 0.9948488863735903, -0.1013690943099879 L 0.9947268040964302, -0.10256015411504626 M 0.9947268040964302,-0.10256015411504626 Q -0.027977658702832683, -0.19803345831830493 -0.9842075051525095, 0.17701860580592327L -0.9842075051525095, 0.17701860580592327 L -0.9839794535236579, 0.1782818976881374 L -0.983749780381363, 0.17954489577712934 \", \"type\": \"path\"}, {\"fillcolor\": \"#bf4d28\", \"layer\": \"below\", \"line\": {\"color\": \"rgb(175,175,175)\", \"width\": 0.5}, \"path\": \"M -0.9994049448794752,-0.03449284201762886 Q -0.19806456253784355, -0.02775660401945201 -0.9703878057131559, -0.2415522852783771L -0.9703878057131559, -0.2415522852783771 L -0.973544858029996, -0.2284959724007293 L -0.9765262494761795, -0.21539843101560968 M -0.9765262494761795,-0.21539843101560968 Q -0.19807023142746827, -0.02771612206404711 -0.9981427409203794, -0.060918541905994876L -0.9981427409203794, -0.060918541905994876 L -0.9988612359405765, -0.04770986622559164 L -0.9994049448794752, -0.03449284201762886 \", \"type\": \"path\"}, {\"fillcolor\": \"#bf4d28\", \"layer\": \"below\", \"line\": {\"color\": \"rgb(175,175,175)\", \"width\": 0.5}, \"path\": \"M -0.9987617550569671,0.04974893602406839 Q -0.19833259789921648, -0.025771701739460598 -0.952879588073652, -0.30334879368902606L -0.952879588073652, -0.30334879368902606 L -0.9530289403151234, -0.30287924808714256 L -0.9531780611810251, -0.3024096289524887 M -0.9531780611810251,-0.3024096289524887 Q -0.19833266978226916, -0.02577114853935278 -0.9988100232568322, 0.04877025160573171L -0.9988100232568322, 0.04877025160573171 L -0.9987860090303309, 0.0492595997269943 L -0.9987617550569671, 0.04974893602406839 \", \"type\": \"path\"}, {\"fillcolor\": \"#bf4d28\", \"layer\": \"below\", \"line\": {\"color\": \"rgb(175,175,175)\", \"width\": 0.5}, \"path\": \"M -0.9989310322945414,0.046225455313733475 Q -0.1951498797750058, -0.04377812723039652 -0.8834613582519847, -0.4685040325072542L -0.8834613582519847, -0.4685040325072542 L -0.883929881028881, -0.4676194664727595 L -0.8843975181339694, -0.4667344318972785 M -0.8843975181339694,-0.4667344318972785 Q -0.19515509229032746, -0.043754884906188236 -0.9990110096879412, 0.044463496514335156L -0.9990110096879412, 0.044463496514335156 L -0.9989714094532364, 0.04534449354678385 L -0.9989310322945414, 0.046225455313733475 \", \"type\": \"path\"}, {\"fillcolor\": \"#bf4d28\", \"layer\": \"below\", \"line\": {\"color\": \"rgb(175,175,175)\", \"width\": 0.5}, \"path\": \"M -0.9998480379911575,0.0174327543788387 Q -0.17819877110378046, -0.09080307250915283 -0.5735468205926763, -0.8191727806684207L -0.5735468205926763, -0.8191727806684207 L -0.5770573909959037, -0.8167035983127543 L -0.5805573314445167, -0.8142193714878206 M -0.5805573314445167,-0.8142193714878206 Q -0.17825035907385745, -0.090701761228991 -0.9999501343750677, 0.009986428955530357L -0.9999501343750677, 0.009986428955530357 L -0.9999060178288763, 0.013709686706808565 L -0.9998480379911575, 0.0174327543788387 \", \"type\": \"path\"}, {\"fillcolor\": \"#bf4d28\", \"layer\": \"below\", \"line\": {\"color\": \"rgb(175,175,175)\", \"width\": 0.5}, \"path\": \"M -0.9986623418121869,0.0517061606213284 Q -0.1510967422837796, -0.13103348606836765 -0.09013615961422812, -0.9959294516831995L -0.09013615961422812, -0.9959294516831995 L -0.09036499145939735, -0.9959087148521912 L -0.09059381853383543, -0.9958879254431487 M -0.09059381853383543,-0.9958879254431487 Q -0.15108833058048426, -0.13104318510476728 -0.9986925685280158, 0.051119013751386125L -0.9986925685280158, 0.051119013751386125 L -0.9986774983198489, 0.051412589407735285 L -0.9986623418121869, 0.0517061606213284 \", \"type\": \"path\"}, {\"fillcolor\": \"#bf4d28\", \"layer\": \"below\", \"line\": {\"color\": \"rgb(175,175,175)\", \"width\": 0.5}, \"path\": \"M -0.9997049455238021,0.02429036630542733 Q -0.14230910169469052, -0.14052800281385286 0.011698134554028676, -0.9999315744829522L 0.011698134554028676, -0.9999315744829522 L 0.007696032809981944, -0.9999703851009727 L 0.00369380778838327, -0.9999931778687405 M 0.00369380778838327,-0.9999931778687405 Q -0.14238956345044174, -0.14044647457445356 -0.9998480379911575, 0.0174327543788387L -0.9998480379911575, 0.0174327543788387 L -0.9997823714095123, 0.020861683028270045 L -0.9997049455238021, 0.02429036630542733 \", \"type\": \"path\"}, {\"fillcolor\": \"#bf4d28\", \"layer\": \"below\", \"line\": {\"color\": \"rgb(175,175,175)\", \"width\": 0.5}, \"path\": \"M -0.9981427409203794,-0.060918541905994876 Q -0.0583267273935907, -0.19130601891094215 0.7943710766926948, -0.6074327884746499L 0.7943710766926948, -0.6074327884746499 L 0.7843346006561296, -0.620337999975489 L 0.7740884913263324, -0.6330774104295008 M 0.7740884913263324,-0.6330774104295008 Q -0.05869862896196609, -0.1911922356111394 -0.9959738646345321, -0.08964407936364058L -0.9959738646345321, -0.08964407936364058 L -0.9971617462894464, -0.07528912097362904 L -0.9981427409203794, -0.060918541905994876 \", \"type\": \"path\"}, {\"fillcolor\": \"#bf4d28\", \"layer\": \"below\", \"line\": {\"color\": \"rgb(175,175,175)\", \"width\": 0.5}, \"path\": \"M -0.9988666791988626,0.04759576857491029 Q -0.047333012030668004, -0.1943182594922686 0.9088614382969734, -0.417098173068112L 0.9088614382969734, -0.417098173068112 L 0.9085741772789968, -0.4177235501881527 L 0.9082864859462662, -0.4183487294678726 M 0.9082864859462662,-0.4183487294678726 Q -0.047333456132864174, -0.19431815131510033 -0.9989310322945414, 0.046225455313733475L -0.9989310322945414, 0.046225455313733475 L -0.9988990907252239, 0.04691062297945919 L -0.9988666791988626, 0.04759576857491029 \", \"type\": \"path\"}, {\"fillcolor\": \"#bf4d28\", \"layer\": \"below\", \"line\": {\"color\": \"rgb(175,175,175)\", \"width\": 0.5}, \"path\": \"M -0.999867580918018,-0.016273310331667054 Q -0.014352585043284367, -0.1994843435023794 0.987239491178278, -0.15924254160887608L 0.987239491178278, -0.15924254160887608 L 0.9857970341457254, -0.16794108332832508 L 0.9842779360168251, -0.1766265684161326 M 0.9842779360168251,-0.1766265684161326 Q -0.014293642844654897, -0.19948857554814875 -0.9994049448794752, -0.03449284201762886L -0.9994049448794752, -0.03449284201762886 L -0.9996777710521956, -0.025384130162643362 L -0.999867580918018, -0.016273310331667054 \", \"type\": \"path\"}, {\"fillcolor\": \"#bf4d28\", \"layer\": \"below\", \"line\": {\"color\": \"rgb(175,175,175)\", \"width\": 0.5}, \"path\": \"M -0.9999501343750677,0.009986428955530357 Q -0.007576400832329102, -0.19985644385515292 0.9978362538204959, -0.06574808408979646L 0.9978362538204959, -0.06574808408979646 L 0.997545988531541, -0.07001428971739047 L 0.9972374833492127, -0.0742792151501936 M 0.9972374833492127,-0.0742792151501936 Q -0.007451829243094345, -0.19986112738832373 -0.9999999823552881, 0.00018785479394414412L -0.9999999823552881, 0.00018785479394414412 L -0.99998706009945, 0.005087202930785073 L -0.9999501343750677, 0.009986428955530357 \", \"type\": \"path\"}, {\"fillcolor\": \"#af4624\", \"layer\": \"below\", \"line\": {\"color\": \"rgb(175,175,175)\", \"width\": 0.5}, \"path\": \"M -0.991952464508339,-0.12661085323080562 Q -0.19507386637882992, -0.044115605583675443 -0.9499056271248616, -0.312536877114563L -0.9499056271248616, -0.312536877114563 L -0.9503052348596341, -0.3113197080147283 L -0.9507032829658477, -0.3101020279810491 M -0.9507032829658477,-0.3101020279810491 Q -0.1950733180317637, -0.044118030237969424 -0.9916215986664051, -0.12917664285110947L -0.9916215986664051, -0.12917664285110947 L -0.9917878613110692, -0.1278938550361794 L -0.991952464508339, -0.12661085323080562 \", \"type\": \"path\"}, {\"fillcolor\": \"#af4624\", \"layer\": \"below\", \"line\": {\"color\": \"rgb(175,175,175)\", \"width\": 0.5}, \"path\": \"M -0.9916215986664051,-0.12917664285110947 Q -0.19035018507762758, -0.061374319066796384 -0.8803152739881741, -0.47438910019426656L -0.8803152739881741, -0.47438910019426656 L -0.8811580686996677, -0.4728218036062546 L -0.8819980730289423, -0.47125300972326173 M -0.8819980730289423,-0.47125300972326173 Q -0.1903616898387968, -0.06133862601752449 -0.9912052687057992, -0.13233334912207312L -0.9912052687057992, -0.13233334912207312 L -0.9914146900726696, -0.13075516168821968 L -0.9916215986664051, -0.12917664285110947 \", \"type\": \"path\"}, {\"fillcolor\": \"#af4624\", \"layer\": \"below\", \"line\": {\"color\": \"rgb(175,175,175)\", \"width\": 0.5}, \"path\": \"M -0.9873875290490673,-0.15832203724806343 Q -0.1699603600434838, -0.10542047246094738 -0.5805573314445167, -0.8142193714878206L -0.5805573314445167, -0.8142193714878206 L -0.5838632005998489, -0.8118520573265184 L -0.5871594167757074, -0.8094713208580099 M -0.5871594167757074,-0.8094713208580099 Q -0.17001136642879794, -0.10533819480612434 -0.9862279657637315, -0.1653916550057227L -0.9862279657637315, -0.1653916550057227 L -0.9868140783425732, -0.16185788453114638 L -0.9873875290490673, -0.15832203724806343 \", \"type\": \"path\"}, {\"fillcolor\": \"#af4624\", \"layer\": \"below\", \"line\": {\"color\": \"rgb(175,175,175)\", \"width\": 0.5}, \"path\": \"M -0.992666623075354,-0.12088414053205208 Q -0.13925102541683781, -0.14355887962908875 -0.09059381853383543, -0.9958879254431487L -0.09059381853383543, -0.9958879254431487 L -0.09082264082546078, -0.9958670834571697 L -0.09105145832219207, -0.9958461888953545 M -0.09105145832219207,-0.9958461888953545 Q -0.13924115762952516, -0.14356845064981974 -0.9925942773568893, -0.12147674904422916L -0.9925942773568893, -0.12147674904422916 L -0.9926304944401378, -0.12118045018701405 L -0.992666623075354, -0.12088414053205208 \", \"type\": \"path\"}, {\"fillcolor\": \"#af4624\", \"layer\": \"below\", \"line\": {\"color\": \"rgb(175,175,175)\", \"width\": 0.5}, \"path\": \"M -0.9883757103096227,-0.15203109968012737 Q -0.12994761002799557, -0.1520316369970803 0.00369380778838327, -0.9999931778687405L 0.00369380778838327, -0.9999931778687405 L 3.457724427316907e-05, -0.9999999994022071 L -0.003624653762825853, -0.9999934309209734 M -0.003624653762825853,-0.9999934309209734 Q -0.13001984007869302, -0.15196986933570447 -0.9873875290490673, -0.15832203724806343L -0.9873875290490673, -0.15832203724806343 L -0.9878866273384598, -0.15517735506781613 L -0.9883757103096227, -0.15203109968012737 \", \"type\": \"path\"}, {\"fillcolor\": \"#af4624\", \"layer\": \"below\", \"line\": {\"color\": \"rgb(175,175,175)\", \"width\": 0.5}, \"path\": \"M -0.9703878057131559,-0.2415522852783771 Q -0.03371756406165367, -0.1971373274490356 0.8349475793970222, -0.550329482818296L 0.8349475793970222, -0.550329482818296 L 0.8250858876322371, -0.5650073256428835 L 0.8149661980826542, -0.579508495177339 M 0.8149661980826542,-0.579508495177339 Q -0.034084696103303586, -0.1970741827118546 -0.9622602944139407, -0.27213071453695953L -0.9622602944139407, -0.27213071453695953 L -0.9664449957525775, -0.25687364634154375 L -0.9703878057131559, -0.2415522852783771 \", \"type\": \"path\"}, {\"fillcolor\": \"#af4624\", \"layer\": \"below\", \"line\": {\"color\": \"rgb(175,175,175)\", \"width\": 0.5}, \"path\": \"M -0.9924240949172234,-0.12285933349863949 Q -0.030276509282219477, -0.19769505048352545 0.9101691478052697, -0.4142367950622314L 0.9101691478052697, -0.4142367950622314 L 0.9098022644740186, -0.41504197324842695 L 0.9094346688446638, -0.41584682649191473 M 0.9094346688446638,-0.41584682649191473 Q -0.030274396468063753, -0.19769537404424642 -0.9922024592219282, -0.1246365913925679L -0.9922024592219282, -0.1246365913925679 L -0.9923136749586625, -0.12374801206497783 L -0.9924240949172234, -0.12285933349863949 \", \"type\": \"path\"}, {\"fillcolor\": \"#af4624\", \"layer\": \"below\", \"line\": {\"color\": \"rgb(175,175,175)\", \"width\": 0.5}, \"path\": \"M -0.9829982994135578,-0.18361465995408294 Q 0.0007104286957830972, -0.19999873822369033 0.9842779360168251, -0.1766265684161326L 0.9842779360168251, -0.1766265684161326 L 0.9830145159280773, -0.18352782207253426 L 0.9817027083925035, -0.19042004184124978 M 0.9817027083925035,-0.19042004184124978 Q 0.0007798558175440985, -0.19999847955648023 -0.9801878655507873, -0.19807005888571788L -0.9801878655507873, -0.19807005888571788 L -0.9816196917423883, -0.19084753282025602 L -0.9829982994135578, -0.18361465995408294 \", \"type\": \"path\"}, {\"fillcolor\": \"#af4624\", \"layer\": \"below\", \"line\": {\"color\": \"rgb(175,175,175)\", \"width\": 0.5}, \"path\": \"M -0.9848457047818053,-0.17343280477703504 Q 0.011734548673627054, -0.1996554541389398 0.9983815568664225, -0.05687061551432596L 0.9983815568664225, -0.05687061551432596 L 0.9981187751405118, -0.06130995605939074 L 0.9978362538204959, -0.06574808408979646 M 0.9978362538204959,-0.06574808408979646 Q 0.011879686274036946, -0.1996468708846459 -0.9829982994135578, -0.18361465995408294L -0.9829982994135578, -0.18361465995408294 L -0.9839351725371045, -0.17852612202246032 L -0.9848457047818053, -0.17343280477703504 \", \"type\": \"path\"}, {\"fillcolor\": \"#9f4021\", \"layer\": \"below\", \"line\": {\"color\": \"rgb(175,175,175)\", \"width\": 0.5}, \"path\": \"M -0.9264755796834477,-0.3763548860453647 Q -0.17580249385163557, -0.09535975647801145 -0.8207008302794923, -0.5713581601574901L -0.8207008302794923, -0.5713581601574901 L -0.8266292658940553, -0.5627468851690387 L -0.8324673505944408, -0.5540741017176967 M -0.8324673505944408,-0.5540741017176967 Q -0.1759159880261808, -0.09515022415513598 -0.919344443699304, -0.3934536743242045L -0.919344443699304, -0.3934536743242045 L -0.9229496095780781, -0.3849207946833648 L -0.9264755796834477, -0.3763548860453647 \", \"type\": \"path\"}, {\"fillcolor\": \"#9f4021\", \"layer\": \"below\", \"line\": {\"color\": \"rgb(175,175,175)\", \"width\": 0.5}, \"path\": \"M -0.9365062321740996,-0.35065093340681625 Q -0.15512882735536948, -0.12623409572436434 -0.53367461793327, -0.8456898971690382L -0.53367461793327, -0.8456898971690382 L -0.5403441110995802, -0.841444140510827 L -0.5469798281180954, -0.8371457863669259 M -0.5469798281180954,-0.8371457863669259 Q -0.15525600387089267, -0.12607764774947763 -0.9315795624225118, -0.3635375068362016L -0.9315795624225118, -0.3635375068362016 L -0.9340651208224728, -0.35710271640369684 L -0.9365062321740996, -0.35065093340681625 \", \"type\": \"path\"}, {\"fillcolor\": \"#9f4021\", \"layer\": \"below\", \"line\": {\"color\": \"rgb(175,175,175)\", \"width\": 0.5}, \"path\": \"M -0.9499056271248616,-0.312536877114563 Q -0.12388287232651658, -0.1570128464302587 -0.08296374649838632, -0.9965525659828244L -0.08296374649838632, -0.9965525659828244 L -0.08410857849255785, -0.9964565956548038 L -0.08525329947597168, -0.996359310152949 M -0.08525329947597168,-0.996359310152949 Q -0.12383115637806304, -0.15705363641148748 -0.9489775065993787, -0.3153437679238739L -0.9489775065993787, -0.3153437679238739 L -0.9494426041339211, -0.3139406655012988 L -0.9499056271248616, -0.312536877114563 \", \"type\": \"path\"}, {\"fillcolor\": \"#9f4021\", \"layer\": \"below\", \"line\": {\"color\": \"rgb(175,175,175)\", \"width\": 0.5}, \"path\": \"M -0.9100279502978211,-0.4145468968364693 Q -0.09633942886698889, -0.17526755103436115 0.13773162602935865, -0.9904695851924525L 0.13773162602935865, -0.9904695851924525 L 0.12299296778202133, -0.9924075422305952 L 0.10822713009058599, -0.9941261933539199 M 0.10822713009058599,-0.9941261933539199 Q -0.09669936068846569, -0.17506922528657634 -0.8991090000455314, -0.4377248062848674L -0.8991090000455314, -0.4377248062848674 L -0.904642708557368, -0.42617082238697307 L -0.9100279502978211, -0.4145468968364693 \", \"type\": \"path\"}, {\"fillcolor\": \"#9f4021\", \"layer\": \"below\", \"line\": {\"color\": \"rgb(175,175,175)\", \"width\": 0.5}, \"path\": \"M -0.9467161929869268,-0.3220690142443698 Q -0.053196428579809954, -0.19279559120050743 0.6476048933602269, -0.7619763133430653L 0.6476048933602269, -0.7619763133430653 L 0.6452289281716683, -0.7639892867380014 L 0.6428467060223902, -0.7659948515206629 M 0.6428467060223902,-0.7659948515206629 Q -0.053264824976966524, -0.1927767061140249 -0.9449244374451893, -0.3272885691845846L -0.9449244374451893, -0.3272885691845846 L -0.9458239157548548, -0.3246800276982761 L -0.9467161929869268, -0.3220690142443698 \", \"type\": \"path\"}, {\"fillcolor\": \"#9f4021\", \"layer\": \"below\", \"line\": {\"color\": \"rgb(175,175,175)\", \"width\": 0.5}, \"path\": \"M -0.952879588073652,-0.30334879368902606 Q -0.012569809485728304, -0.19960460888840342 0.9072968506567798, -0.42049069524579136L 0.9072968506567798, -0.42049069524579136 L 0.9070900406597845, -0.4209366438501529 L 0.9068830114730687, -0.42138249073915957 M 0.9068830114730687,-0.42138249073915957 Q -0.012569578583424116, -0.1996046234290056 -0.9525801896090947, -0.30428766383851485L -0.9525801896090947, -0.30428766383851485 L -0.9527300044928705, -0.303818265644143 L -0.952879588073652, -0.30334879368902606 \", \"type\": \"path\"}, {\"fillcolor\": \"#9f4021\", \"layer\": \"below\", \"line\": {\"color\": \"rgb(175,175,175)\", \"width\": 0.5}, \"path\": \"M -0.9520389414014382,-0.3059768848381017 Q 0.005584419280801382, -0.19992202045121546 0.9676348094747276, -0.25235466211823326L 0.9676348094747276, -0.25235466211823326 L 0.9674191248193189, -0.2531802459391788 L 0.9672027357778067, -0.2540056454174321 M 0.9672027357778067,-0.2540056454174321 Q 0.005591139555660475, -0.1999218326208249 -0.951494697682074, -0.3076651431067529L -0.951494697682074, -0.3076651431067529 L -0.9517671938739143, -0.30682113464586325 L -0.9520389414014382, -0.3059768848381017 \", \"type\": \"path\"}, {\"fillcolor\": \"#9f4021\", \"layer\": \"below\", \"line\": {\"color\": \"rgb(175,175,175)\", \"width\": 0.5}, \"path\": \"M -0.9479783696255116,-0.3183347463318399 Q 0.02265596137414353, -0.1987126252008496 0.9953064144434581, -0.09677366050587903L 0.9953064144434581, -0.09677366050587903 L 0.9951394341485357, -0.09847591889661243 L 0.9949695425074718, -0.10017788918954187 M 0.9949695425074718,-0.10017788918954187 Q 0.022707720519252694, -0.19870671712053298 -0.9467161929869268, -0.3220690142443698L -0.9467161929869268, -0.3220690142443698 L -0.9473491212786843, -0.3202025021958834 L -0.9479783696255116, -0.3183347463318399 \", \"type\": \"path\"}, {\"fillcolor\": \"#8f391e\", \"layer\": \"below\", \"line\": {\"color\": \"rgb(175,175,175)\", \"width\": 0.5}, \"path\": \"M -0.797306619740268,-0.6035744810032543 Q -0.11596689767612521, -0.16294685834153144 -0.30908566038443974, -0.951034202615613L -0.30908566038443974, -0.951034202615613 L -0.3461121244104187, -0.9381931556647101 L -0.38260701160227856, -0.9239111833248767 M -0.38260701160227856,-0.9239111833248767 Q -0.11606446925266756, -0.1628773740489961 -0.748390794588681, -0.6632580331778295L -0.748390794588681, -0.6632580331778295 L -0.7734246283677829, -0.6338882742519827 L -0.797306619740268, -0.6035744810032543 \", \"type\": \"path\"}, {\"fillcolor\": \"#8f391e\", \"layer\": \"below\", \"line\": {\"color\": \"rgb(175,175,175)\", \"width\": 0.5}, \"path\": \"M -0.8696558317851226,-0.4936585198719116 Q -0.10570021754314665, -0.16978652482258855 -0.05912867740350962, -0.9982503691502006L -0.05912867740350962, -0.9982503691502006 L -0.06195730206454197, -0.9980788008573688 L -0.06478542917416603, -0.9978992174396767 M -0.06478542917416603,-0.9978992174396767 Q -0.1054825772315575, -0.1699218229086203 -0.8655634556912539, -0.5007992653467203L -0.8655634556912539, -0.5007992653467203 L -0.8676169900762605, -0.4972331028109553 L -0.8696558317851226, -0.4936585198719116 \", \"type\": \"path\"}, {\"fillcolor\": \"#8f391e\", \"layer\": \"below\", \"line\": {\"color\": \"rgb(175,175,175)\", \"width\": 0.5}, \"path\": \"M -0.748390794588681,-0.6632580331778295 Q -0.04171265811825676, -0.19560177441094298 0.4127043876703219, -0.910865022051931L 0.4127043876703219, -0.910865022051931 L 0.3758221723302362, -0.9266918014016214 L 0.33833458836512964, -0.9410258797269065 M 0.33833458836512964,-0.9410258797269065 Q -0.04192757313679216, -0.19555581968036376 -0.6943783803640008, -0.7196100783640172L -0.6943783803640008, -0.7196100783640172 L -0.7219346309033644, -0.6919612624290633 L -0.748390794588681, -0.6632580331778295 \", \"type\": \"path\"}, {\"fillcolor\": \"#8f391e\", \"layer\": \"below\", \"line\": {\"color\": \"rgb(175,175,175)\", \"width\": 0.5}, \"path\": \"M -0.8655634556912539,-0.5007992653467203 Q -0.030329423992395268, -0.19768693947828098 0.6756201073919545, -0.7372499375976127L 0.6756201073919545, -0.7372499375976127 L 0.6711802778639462, -0.7412941619940603 L 0.6667162403149394, -0.7453116495133508 M 0.6667162403149394,-0.7453116495133508 Q -0.03032937459811487, -0.19768694705641854 -0.8594856477540411, -0.5111598784185006L -0.8594856477540411, -0.5111598784185006 L -0.8625401079950775, -0.5059886976008852 L -0.8655634556912539, -0.5007992653467203 \", \"type\": \"path\"}, {\"fillcolor\": \"#8f391e\", \"layer\": \"below\", \"line\": {\"color\": \"rgb(175,175,175)\", \"width\": 0.5}, \"path\": \"M -0.8765953052037818,-0.48122829394653077 Q 0.008632885377015315, -0.1998135963593752 0.9148339843610589, -0.4038301388679031L 0.9148339843610589, -0.4038301388679031 L 0.9135989719765396, -0.4066164266276143 L 0.9123554734862971, -0.40939893746759376 M 0.9123554734862971,-0.40939893746759376 Q 0.008712831335008171, -0.19981012629525988 -0.8732560971167279, -0.4872615199751156L -0.8732560971167279, -0.4872615199751156 L -0.8749309015601412, -0.4842477852248356 L -0.8765953052037818, -0.48122829394653077 \", \"type\": \"path\"}, {\"fillcolor\": \"#8f391e\", \"layer\": \"below\", \"line\": {\"color\": \"rgb(175,175,175)\", \"width\": 0.5}, \"path\": \"M -0.8849160755966474,-0.4657505117019504 Q 0.022396872148487262, -0.1987419938462033 0.9663789119428774, -0.25712214714431025L 0.9663789119428774, -0.25712214714431025 L 0.9663301389095099, -0.25730538788592666 L 0.9662813311307972, -0.25748861937587614 M 0.9662813311307972,-0.25748861937587614 Q 0.02240339494196321, -0.19874125866330428 -0.8847087839327115, -0.46614414898430595L -0.8847087839327115, -0.46614414898430595 L -0.8848124516549556, -0.46594734187067416 L -0.8849160755966474, -0.4657505117019504 \", \"type\": \"path\"}, {\"fillcolor\": \"#8f391e\", \"layer\": \"below\", \"line\": {\"color\": \"rgb(175,175,175)\", \"width\": 0.5}, \"path\": \"M -0.8847087839327115,-0.46614414898430595 Q 0.037415362806658824, -0.19646905768096434 0.9941135526295783, -0.1083431791955477L 0.9941135526295783, -0.1083431791955477 L 0.9940857229165136, -0.1085982296980594 L 0.9940578277675061, -0.10885327305206442 M 0.9940578277675061,-0.10885327305206442 Q 0.037430509930445305, -0.19646617247339768 -0.8843975181339694, -0.4667344318972785L -0.8843975181339694, -0.4667344318972785 L -0.8845532002720305, -0.46643931640515585 L -0.8847087839327115, -0.46614414898430595 \", \"type\": \"path\"}, {\"fillcolor\": \"#f0f3e7\", \"layer\": \"below\", \"line\": {\"color\": \"rgb(175,175,175)\", \"width\": 0.5}, \"path\": \"M -0.5567753496262683,-0.830663114655121 Q -0.06250713712413832, -0.1899812038296004 -0.04520842178063781, -0.9989775766252734L -0.04520842178063781, -0.9989775766252734 L -0.04918665232938392, -0.9987896040871813 L -0.05316410269656991, -0.9985857890959938 M -0.05316410269656991,-0.9985857890959938 Q -0.062147856936087445, -0.1900990370261028 -0.5469798281180954, -0.8371457863669259L -0.5469798281180954, -0.8371457863669259 L -0.5518871074391064, -0.8339188333659915 L -0.5567753496262683, -0.830663114655121 \", \"type\": \"path\"}, {\"fillcolor\": \"#f0f3e7\", \"layer\": \"below\", \"line\": {\"color\": \"rgb(175,175,175)\", \"width\": 0.5}, \"path\": \"M -0.30908566038443974,-0.951034202615613 Q 0.02059640509913073, -0.19893664342446443 0.4973671812242319, -0.867540135694633L 0.4973671812242319, -0.867540135694633 L 0.45555112399380254, -0.890209623306771 L 0.4127043876703219, -0.910865022051931 M 0.4127043876703219,-0.910865022051931 Q 0.020480153973429255, -0.19894864486400665 -0.2184832936167329, -0.9758406890524624L -0.2184832936167329, -0.9758406890524624 L -0.2640759185325463, -0.964501896966093 L -0.30908566038443974, -0.951034202615613 \", \"type\": \"path\"}, {\"fillcolor\": \"#f0f3e7\", \"layer\": \"below\", \"line\": {\"color\": \"rgb(175,175,175)\", \"width\": 0.5}, \"path\": \"M -0.4803423907298694,-0.8770810610587333 Q 0.03818698117631461, -0.19632054010887345 0.7740884913263324, -0.6330774104295008L 0.7740884913263324, -0.6330774104295008 L 0.7644964824027519, -0.6446278991742592 L 0.7547321403568662, -0.6560330756237398 M 0.7547321403568662,-0.6560330756237398 Q 0.03823284737888136, -0.19631161295578814 -0.4533761156320484, -0.8913193018073801L -0.4533761156320484, -0.8913193018073801 L -0.4669135296343283, -0.8843029774033406 L -0.4803423907298694, -0.8770810610587333 \", \"type\": \"path\"}, {\"fillcolor\": \"#f0f3e7\", \"layer\": \"below\", \"line\": {\"color\": \"rgb(175,175,175)\", \"width\": 0.5}, \"path\": \"M -0.53367461793327,-0.8456898971690382 Q 0.06230978857837617, -0.19004602139302487 0.9307962344060264, -0.3655384658494391L 0.9307962344060264, -0.3655384658494391 L 0.9282220158003293, -0.3720267320819477 L 0.9256025703193653, -0.37849687160950807 M 0.9256025703193653,-0.37849687160950807 Q 0.06250719716357815, -0.18998118407556464 -0.5200430417839892, -0.8541400556653785L -0.5200430417839892, -0.8541400556653785 L -0.5268757708365964, -0.8499423051627342 L -0.53367461793327, -0.8456898971690382 \", \"type\": \"path\"}, {\"fillcolor\": \"#f0f3e7\", \"layer\": \"below\", \"line\": {\"color\": \"rgb(175,175,175)\", \"width\": 0.5}, \"path\": \"M -0.6000659761972308,-0.7999505136009755 Q 0.06659617406084634, -0.1885867163944944 0.9693349100810138, -0.24574342737544966L 0.9693349100810138, -0.24574342737544966 L 0.9689141165405832, -0.24739732166775985 L 0.9684905011021884, -0.24905049543181423 M 0.9684905011021884,-0.24905049543181423 Q 0.06665773505973044, -0.18856496587835925 -0.596808365544116, -0.8023838076734605L -0.596808365544116, -0.8023838076734605 L -0.5984384076157765, -0.8011688163491473 L -0.6000659761972308, -0.7999505136009755 \", \"type\": \"path\"}, {\"fillcolor\": \"#f0f3e7\", \"layer\": \"below\", \"line\": {\"color\": \"rgb(175,175,175)\", \"width\": 0.5}, \"path\": \"M -0.5931772280879718,-0.8050719073957744 Q 0.08280583847316014, -0.18205272070133122 0.9966362277084672, -0.08195260593194399L 0.9966362277084672, -0.08195260593194399 L 0.9964009717224063, -0.0847649901235441 L 0.9961577795518464, -0.08757669917469485 M 0.9961577795518464,-0.08757669917469485 Q 0.08297056740609038, -0.18197770452533854 -0.5871594167757074, -0.8094713208580099L -0.5871594167757074, -0.8094713208580099 L -0.5901724218495086, -0.80727722158394 L -0.5931772280879718, -0.8050719073957744 \", \"type\": \"path\"}, {\"fillcolor\": \"#e2ecde\", \"layer\": \"below\", \"line\": {\"color\": \"rgb(175,175,175)\", \"width\": 0.5}, \"path\": \"M -0.04520842178063781,-0.9989775766252734 Q 0.001038538656683452, -0.1999973035754697 0.05558061220607758, -0.9984542030292615L 0.05558061220607758, -0.9984542030292615 L 0.04850045853646913, -0.9988231602850187 L 0.041417867005598547, -0.9991419119888358 M 0.041417867005598547,-0.9991419119888358 Q 0.0005703014532072386, -0.19999918688897833 -0.03571909578283307, -0.9993618694929564L -0.03571909578283307, -0.9993618694929564 L -0.040464214992984526, -0.9991809882623875 L -0.04520842178063781, -0.9989775766252734 \", \"type\": \"path\"}, {\"fillcolor\": \"#e2ecde\", \"layer\": \"below\", \"line\": {\"color\": \"rgb(175,175,175)\", \"width\": 0.5}, \"path\": \"M -0.08296374649838632,-0.9965525659828244 Q 0.060549631548290454, -0.19061411836316394 0.6428467060223902, -0.7659948515206629L 0.6428467060223902, -0.7659948515206629 L 0.641226646444799, -0.7673515412698124 L 0.6396037236619153, -0.7687048046407752 M 0.6396037236619153,-0.7687048046407752 Q 0.06042421428673006, -0.19065391243777646 -0.08006301883108068, -0.996789803828096L -0.08006301883108068, -0.996789803828096 L -0.08151346897228755, -0.9966722401953934 L -0.08296374649838632, -0.9965525659828244 \", \"type\": \"path\"}, {\"fillcolor\": \"#e2ecde\", \"layer\": \"below\", \"line\": {\"color\": \"rgb(175,175,175)\", \"width\": 0.5}, \"path\": \"M -0.08845791479242392,-0.996079915122565 Q 0.10029417774517767, -0.1730349037345319 0.9082864859462662, -0.4183487294678726L 0.9082864859462662, -0.4183487294678726 L 0.9079983644350367, -0.4189737106111771 L 0.907709812881767, -0.41959849332206556 M 0.907709812881767,-0.41959849332206556 Q 0.10026786344780858, -0.17305015330710233 -0.08738980975281188, -0.9961741921729188L -0.08738980975281188, -0.9961741921729188 L -0.0879238749087798, -0.9961271968082316 L -0.08845791479242392, -0.996079915122565 \", \"type\": \"path\"}, {\"fillcolor\": \"#e2ecde\", \"layer\": \"below\", \"line\": {\"color\": \"rgb(175,175,175)\", \"width\": 0.5}, \"path\": \"M -0.08952591812873925,-0.9959844928427382 Q 0.11492820394773338, -0.16368111661810048 0.9672027357778067, -0.2540056454174321L 0.9672027357778067, -0.2540056454174321 L 0.9670339463078187, -0.25464749495788663 L 0.9668647308973647, -0.255289232336122 M 0.9668647308973647,-0.255289232336122 Q 0.11490732658463619, -0.16369577360815327 -0.08845791479242392, -0.996079915122565L -0.08845791479242392, -0.996079915122565 L -0.08899192925024202, -0.9960323471295096 L -0.08952591812873925, -0.9959844928427382 \", \"type\": \"path\"}, {\"fillcolor\": \"#e2ecde\", \"layer\": \"below\", \"line\": {\"color\": \"rgb(175,175,175)\", \"width\": 0.5}, \"path\": \"M -0.09135654083823233,-0.9958182476968739 Q 0.12652691589862833, -0.15489008862151715 0.9940205324494256, -0.10919331970849037L 0.9940205324494256, -0.10919331970849037 L 0.9940018411690109, -0.10936333824740521 L 0.993983120808409, -0.10953335358682258 M 0.993983120808409,-0.10953335358682258 Q 0.12652414904486695, -0.15489234877317956 -0.09105145832219207, -0.9958461888953545L -0.09105145832219207, -0.9958461888953545 L -0.09120400065021814, -0.9958322299792245 L -0.09135654083823233, -0.9958182476968739 \", \"type\": \"path\"}, {\"fillcolor\": \"#d4e5d6\", \"layer\": \"below\", \"line\": {\"color\": \"rgb(175,175,175)\", \"width\": 0.5}, \"path\": \"M 0.16891799266386773,-0.9856301089934345 Q 0.10644072838953739, -0.16932327465503594 0.8149661980826542, -0.579508495177339L 0.8149661980826542, -0.579508495177339 L 0.8047897598344396, -0.5935599737731858 L 0.7943710766926948, -0.6074327884746499 M 0.7943710766926948,-0.6074327884746499 Q 0.10652353284532096, -0.16927119350365505 0.20396793415581016, -0.9789775696287485L 0.20396793415581016, -0.9789775696287485 L 0.18647263250955098, -0.9824601555915425 L 0.16891799266386773, -0.9856301089934345 \", \"type\": \"path\"}, {\"fillcolor\": \"#d4e5d6\", \"layer\": \"below\", \"line\": {\"color\": \"rgb(175,175,175)\", \"width\": 0.5}, \"path\": \"M 0.071785344840925,-0.9974201042018701 Q 0.11972545190138816, -0.16020554349649826 0.9362237183158333, -0.3514045379087686L 0.9362237183158333, -0.3514045379087686 L 0.9335367255470679, -0.3584817736717705 L 0.9307962344060264, -0.3655384658494391 M 0.9307962344060264,-0.3655384658494391 Q 0.11992319422129637, -0.16005757554005756 0.08933796166325389, -0.9960013697811138L 0.08933796166325389, -0.9960013697811138 L 0.08056477627691305, -0.996749375130705 L 0.071785344840925, -0.9974201042018701 \", \"type\": \"path\"}, {\"fillcolor\": \"#d4e5d6\", \"layer\": \"below\", \"line\": {\"color\": \"rgb(175,175,175)\", \"width\": 0.5}, \"path\": \"M -0.004310755650763509,-0.9999907086496951 Q 0.12159470064323025, -0.15879146316941356 0.9665250225533769, -0.25657236947534734L 0.9665250225533769, -0.25657236947534734 L 0.9664520063415702, -0.2568472686994229 L 0.9663789119428774, -0.25712214714431025 M 0.9663789119428774,-0.25712214714431025 Q 0.12160400922271473, -0.15878433468375244 -0.003624653762825853, -0.9999934309209734L -0.003624653762825853, -0.9999934309209734 L -0.003967704940265515, -0.9999921286277742 L -0.004310755650763509, -0.9999907086496951 \", \"type\": \"path\"}, {\"fillcolor\": \"#d4e5d6\", \"layer\": \"below\", \"line\": {\"color\": \"rgb(175,175,175)\", \"width\": 0.5}, \"path\": \"M 0.020844988871346386,-0.9997827196140937 Q 0.1375881047553779, -0.14515341342808016 0.9972374833492127, -0.0742792151501936L 0.9972374833492127, -0.0742792151501936 L 0.9969442382316341, -0.07811648901958353 L 0.9966362277084672, -0.08195260593194399 M 0.9966362277084672,-0.08195260593194399 Q 0.13777630223248538, -0.14497479278530748 0.03113307668849083, -0.9995152482758373L 0.03113307668849083, -0.9995152482758373 L 0.02598937686950005, -0.9996622190969984 L 0.020844988871346386, -0.9997827196140937 \", \"type\": \"path\"}, {\"fillcolor\": \"#c6decd\", \"layer\": \"below\", \"line\": {\"color\": \"rgb(175,175,175)\", \"width\": 0.5}, \"path\": \"M 0.6850749157947311,-0.7284726211388058 Q 0.16482612018528553, -0.11327996338570123 0.9256025703193653, -0.37849687160950807L 0.9256025703193653, -0.37849687160950807 L 0.92316493976046, -0.3844040764573996 L 0.9206896098116475, -0.39029558335302267 M 0.9206896098116475,-0.39029558335302267 Q 0.1649210623602514, -0.11314169518778686 0.695535255011096, -0.7184919686653773L 0.695535255011096, -0.7184919686653773 L 0.6903231231018356, -0.7235011995227982 L 0.6850749157947311, -0.7284726211388058 \", \"type\": \"path\"}, {\"fillcolor\": \"#c6decd\", \"layer\": \"below\", \"line\": {\"color\": \"rgb(175,175,175)\", \"width\": 0.5}, \"path\": \"M 0.7229690316310015,-0.6908804377767054 Q 0.1799130348972997, -0.0873573115087857 0.9900280439615369, -0.14087040913440002L 0.9900280439615369, -0.14087040913440002 L 0.9886764436317802, -0.15006295281519444 L 0.987239491178278, -0.15924254160887608 M 0.987239491178278,-0.15924254160887608 Q 0.1800532509904056, -0.08706794362901893 0.7378561129198906, -0.6749580406416014L 0.7378561129198906, -0.6749580406416014 L 0.7304559578925109, -0.6829598037800866 L 0.7229690316310015, -0.6908804377767054 \", \"type\": \"path\"}, {\"fillcolor\": \"#c6decd\", \"layer\": \"below\", \"line\": {\"color\": \"rgb(175,175,175)\", \"width\": 0.5}, \"path\": \"M 0.7082097027986514,-0.7060021365844765 Q 0.1836128634405017, -0.07928629376619692 0.9995065603657315, -0.031410759078131914L 0.9995065603657315, -0.031410759078131914 L 0.9992183777185991, -0.03953016100917173 L 0.9988642389276288, -0.04764695364374183 M 0.9988642389276288,-0.04764695364374183 Q 0.18380585210249592, -0.07883786357376382 0.7229690316310015, -0.6908804377767054L 0.7229690316310015, -0.6908804377767054 L 0.7156293097090305, -0.6984802725098086 L 0.7082097027986514, -0.7060021365844765 \", \"type\": \"path\"}, {\"fillcolor\": \"#b8d7c5\", \"layer\": \"below\", \"line\": {\"color\": \"rgb(175,175,175)\", \"width\": 0.5}, \"path\": \"M 0.9063021640869807,-0.4226303199857477 Q 0.18797865105203318, -0.0682936801516652 0.9662324886084939, -0.2576718416075704L 0.9662324886084939, -0.2576718416075704 L 0.9662080543190446, -0.2577634492495131 L 0.9661836113443563, -0.2578550545744216 M 0.9661836113443563,-0.2578550545744216 Q 0.18797889032354836, -0.0682930215521863 0.9063852474303613, -0.42245210762949537L 0.9063852474303613, -0.42245210762949537 L 0.9063437101388588, -0.42254121584968285 L 0.9063021640869807, -0.4226303199857477 \", \"type\": \"path\"}, {\"fillcolor\": \"#b8d7c5\", \"layer\": \"below\", \"line\": {\"color\": \"rgb(175,175,175)\", \"width\": 0.5}, \"path\": \"M 0.906468295730635,-0.4222738789401944 Q 0.19267476783733128, -0.05363239542320011 0.994279156650879, -0.10681272700206162L 0.994279156650879, -0.10681272700206162 L 0.9942333918595824, -0.10723787815594907 L 0.9941874452747784, -0.10766300970161269 M 0.9941874452747784,-0.10766300970161269 Q 0.19267819789228713, -0.05362007140036876 0.9068830114730687, -0.42138249073915957L 0.9068830114730687, -0.42138249073915957 L 0.906675763146659, -0.4218282358050768 L 0.906468295730635, -0.4222738789401944 \", \"type\": \"path\"}, {\"fillcolor\": \"#aad0bc\", \"layer\": \"below\", \"line\": {\"color\": \"rgb(175,175,175)\", \"width\": 0.5}, \"path\": \"M 0.9693349100810138,-0.24574342737544966 Q 0.19709529285677954, -0.03396241354350883 0.9956794179209733, -0.09285739996657191L 0.9956794179209733, -0.09285739996657191 L 0.9954948419972476, -0.09481571366010566 L 0.9953064144434581, -0.09677366050587903 M 0.9953064144434581,-0.09677366050587903 Q 0.1971025442226478, -0.03392030455286584 0.9703974424434707, -0.2415135683541835L 0.9703974424434707, -0.2415135683541835 L 0.9698684822100252, -0.24362907711441598 L 0.9693349100810138, -0.24574342737544966 \", \"type\": \"path\"}, {\"fillcolor\": \"#f2e6ce\", \"layer\": \"below\", \"line\": {\"color\": \"rgb(150,150,150)\", \"width\": 0.45}, \"path\": \"M 1.1, 0.0 L 1.0997048280870863, 0.025481190748316705 L 1.0988194707600871, 0.050948706347876134 L 1.0973444031692132, 0.07638887898904796 L 1.0952804169481418, 0.10178805553651699 L 1.0926286197891655, 0.12713260485659605 L 1.0893904348487211, 0.15240892513273108 L 1.0855675999836145, 0.1776034511652723 L 1.0811621668183544, 0.2027026616515944 L 1.076176499644095, 0.22769308644265757 L 1.0706132741497758, 0.25256131377211616 L 1.0644754759861446, 0.2772939974540945 L 1.0577663991634283, 0.3018778640457674 L 0.9616058174212985, 0.2744344218597885 L 0.9677049781692222, 0.252085452230995 L 0.9732847946816142, 0.22960119433828738 L 0.9783422724037226, 0.2069937149478705 L 0.9828746971075949, 0.1842751469559949 L 0.9868796363487404, 0.16145768287752024 L 0.9903549407715646, 0.13855356830248278 L 0.9932987452628776, 0.11557509532417821 L 0.995709469952856, 0.09253459594228816 L 0.997585821062921, 0.06944443544458904 L 0.9989267916000791, 0.046317005770796484 L 0.9997316618973511, 0.023164718862106092 L 1.0, 0.0 L 1.1 ,0.0\", \"type\": \"path\"}, {\"fillcolor\": \"#ecd5bb\", \"layer\": \"below\", \"line\": {\"color\": \"rgb(150,150,150)\", \"width\": 0.45}, \"path\": \"M 1.0477622424397222, 0.33495415106800064 L 1.0406273180060228, 0.3565035554094685 L 1.033049237721061, 0.3779011410990117 L 1.0250312287446097, 0.3991377958779599 L 1.0165767055820658, 0.42020447602079886 L 1.0076892686303673, 0.4410922101864822 L 0.9983727026447473, 0.4617921032389176 L 0.9886309751269801, 0.4822953400350005 L 0.9784682346358012, 0.502593189178583 L 0.9678888090202261, 0.5226770067387778 L 0.9568972035765156, 0.542538239931016 L 0.9454980991295746, 0.5621684307592889 L 0.9336963500396026, 0.5815592196180233 L 0.9214969821348415, 0.6007023488520581 L 0.9089051905713048, 0.619589666273204 L 0.8959263376203962, 0.638213128631889 L 0.882565950385362, 0.6565648050424138 L 0.8688297184475501, 0.6746368803603542 L 0.8547234914434751, 0.6924216585106765 L 0.8402532765737244, 0.7099115657651454 L 0.8254252360447649, 0.7270991539676307 L 0.8102456844447393, 0.7439771037059382 L 0.7947210860543699, 0.7605382274288144 L 0.7788580520941161, 0.776775472506798 L 0.7626633379087554, 0.792681924235614 L 0.7461438400905903, 0.8082508087808312 L 0.7293065935425018, 0.8234754960625313 L 0.712158768482106, 0.8383495025787575 L 0.6947076673882832, 0.8528664941665435 L 0.6769607218913842, 0.8670202886993453 L 0.6589254896084378, 0.8808048587197285 L 0.6406096509247046, 0.8942143340061869 L 0.6220210057229507, 0.9072430040730043 L 0.6031674700618317, 0.9198853206020898 L 0.584057072804804, 0.9321358998057547 L 0.564697952200997, 0.9439895247194222 L 0.5450983524195017, 0.9554411474232962 L 0.5252666200385555, 0.9664858911920401 L 0.5052112004911133, 0.9771190525715525 L 0.48494063446832214, 0.9873361033819543 L 0.46446355428242836, 0.9971326926459356 L 0.4437886801906693, 1.0065046484416373 L 0.422924816681712, 1.0154479796792844 L 0.4018808487262216, 1.023958877800809 L 0.3806657379931568, 1.0320337184017419 L 0.3592885190334022, 1.0396690627746816 L 0.3377582954323643, 1.0468616593736844 L 0.30705299584760387, 0.9516924176124403 L 0.32662592639400195, 0.9451536934315287 L 0.3460597618119607, 0.9382124712743106 L 0.3653462261147469, 0.9308717070916445 L 0.3844771060742836, 0.9231345269811676 L 0.40344425471879025, 0.9150042258560339 L 0.4222395948022076, 0.9064842660417596 L 0.4408551222439292, 0.8975782758017766 L 0.45928290953737577, 0.8882900477923203 L 0.4775151091259595, 0.8786235374473091 L 0.4955439567450015, 0.8685828612939056 L 0.5133617747281791, 0.8581722951994747 L 0.5309609752770945, 0.8473962725506861 L 0.5483340636925742, 0.8362593823655361 L 0.5654736415663187, 0.8247663673390947 L 0.5823724099315496, 0.8129221218238062 L 0.599023172371307, 0.8007316897452076 L 0.6154188380830765, 0.7882002624539503 L 0.6315524248984392, 0.7753331765150394 L 0.64741706225646, 0.7621359114352341 L 0.6630059941295471, 0.7486140873295739 L 0.6783125819005366, 0.7347734625280283 L 0.6933303071897776, 0.7206199311232854 L 0.7080527746310146, 0.7061595204607254 L 0.7224737145948816, 0.6913983885716494 L 0.7365869858588538, 0.6763428215508528 L 0.7503865782225135, 0.6609992308796642 L 0.7638666150670221, 0.6453741506955867 L 0.7770213558577046, 0.6294742350097059 L 0.7898451985886819, 0.6133062548730492 L 0.8023326821685108, 0.5968770954931034 L 0.8144784887458146, 0.5801937533017172 L 0.8262774459739134, 0.5632633329756399 L 0.8377245292134923, 0.5460930444109618 L 0.8488148636723659, 0.5286901996527483 L 0.8595437264814314, 0.5110622097811717 L 0.8699065487059232, 0.4932165817554691 L 0.8798989172911146, 0.47516091521707066 L 0.8895165769416374, 0.4569028992532572 L 0.8987554319336182, 0.4384503091227277 L 0.9076115478588611, 0.41981100294447055 L 0.9160811533003338, 0.4009929183513474 L 0.9241606414382416, 0.3820040691098171 L 0.9318465715860087, 0.36285254170723624 L 0.9391356706555098, 0.3435464919081924 L 0.9460248345509298, 0.32409414128133496 L 0.9525111294906565, 0.3045037736981824 L 1.0477622424397222 ,0.33495415106800064\", \"type\": \"path\"}, {\"fillcolor\": \"#e6c4a9\", \"layer\": \"below\", \"line\": {\"color\": \"rgb(150,150,150)\", \"width\": 0.45}, \"path\": \"M 0.3047089127318786, 1.0569543407838187 L 0.28253249910787, 1.0630970731536522 L 0.2602324421447235, 1.068774567462846 L 0.23781850090914647, 1.0739843390968635 L 0.21530048430647336, 1.0787241081283936 L 0.19268824678804095, 1.0829918003151044 L 0.16999168403863266, 1.086785548007384 L 0.1472207286458765, 1.0901036909656703 L 0.12438534575349607, 1.0929447770870142 L 0.10149552870031182, 1.0953075630405573 L 0.07856129464690359, 1.0971910148116428 L 0.05559268019185014, 1.0985943081543281 L 0.032599736979460135, 1.099516828952095 L 0.009592527300918583, 1.099958173486602 L -0.013418880309223766, 1.0999181486143625 L -0.036424415479295806, 1.0993967718512694 L -0.059414010407554126, 1.0983942713649282 L -0.08237760426810647, 1.0969110858748068 L -0.10530514761378354, 1.0949478644602397 L -0.1281866067740288, 1.0925054662763756 L -0.15101196824588622, 1.089584960178188 L -0.17377124307616215, 1.0861876242527189 L -0.1964544712328414, 1.0823149452597542 L -0.2190517259638489, 1.0779686179811818 L -0.24155311814124722, 1.0731505444793106 L -0.26394880058896664, 1.0678628332644815 L -0.23995345508087873, 0.9707843938768014 L -0.21959374376477017, 0.9755914040721005 L -0.19913793269440808, 0.9799714708919833 L -0.17859497384803763, 0.9839226775088674 L -0.1579738573419656, 0.9874432947751989 L -0.1372836074962602, 0.9905317819801709 L -0.11653327888548072, 0.9931867875239777 L -0.09573195237616684, 0.9954071495093088 L -0.07488873115282406, 0.9971918962498242 L -0.05401273673414011, 0.9985402466953891 L -0.033113104981178004, 0.9994516107738811 L -0.012198982099294332, 0.9999255896494205 L 0.008720479364471439, 0.9999619758969107 L 0.029636124526781937, 0.9995607535928134 L 0.05053880017440921, 0.9987220983221164 L 0.07141935876991234, 0.9974463771014934 L 0.09226866245482893, 0.9957341482186883 L 0.11307758704863277, 0.9935861609881947 L 0.1338370260417059, 0.9910033554233365 L 0.15453789458057512, 0.9879868618248945 L 0.17517113344367358, 0.9845380002864585 L 0.19572771300588485, 0.9806582801167214 L 0.21619863719013313, 0.9763493991789667 L 0.23657494740429408, 0.9716132431480416 L 0.25684772646169995, 0.9664518846851382 L 0.277008102483526, 0.9608675825307441 L 0.3047089127318786 ,1.0569543407838187\", \"type\": \"path\"}, {\"fillcolor\": \"#e1b396\", \"layer\": \"below\", \"line\": {\"color\": \"rgb(150,150,150)\", \"width\": 0.45}, \"path\": \"M -0.29736093997349655, 1.059045075234326 L -0.32032409821062224, 1.0523271697079535 L -0.34313571485199995, 1.0451114204681753 L -0.3657849979877898, 1.037401241201818 L -0.3882612325062403, 1.0292002795047888 L -0.4105537851628836, 1.0205124151564393 L -0.4326521096109985, 1.0113417582840891 L -0.45454575139096426, 1.0016926474185701 L -0.47622435287614406, 0.9915696474417206 L -0.4976776581729568, 0.9809775474267909 L -0.5188955179728219, 0.9699213583727895 L -0.5398678943536763, 0.9584063108338384 L -0.5605848655288017, 0.9464378524446576 L -0.5810366305407041, 0.9340216453433536 L -0.6012135138978321, 0.9211635634927282 L -0.6211059701519409, 0.9078696899013737 L -0.6407045884139307, 0.8941463137458745 L -0.6600000968060309, 0.8799999273954686 L -0.6789833668482138, 0.8654372233405864 L -0.6172576062256488, 0.7867611121278058 L -0.6000000880054825, 0.7999999339958805 L -0.582458716739937, 0.8128602852235222 L -0.564641791047219, 0.8253360817285215 L -0.54655773990712, 0.8374214213570256 L -0.5282151186733673, 0.849110586675776 L -0.5096226050261833, 0.8603980476769614 L -0.4907889948669784, 0.8712784643943985 L -0.4717231981571107, 0.8817466894298085 L -0.45243423470268795, 0.8917977703879917 L -0.4329312298874037, 0.9014269522197459 L -0.41322341035542204, 0.9106296794714274 L -0.3933200996463622, 0.9194015984400808 L -0.3732307137844396, 0.9277385592331266 L -0.35296475682385475, 0.9356366177316261 L -0.33253181635253615, 0.9430920374561982 L -0.31194155895636355, 0.9501012913347048 L -0.2912037256460202, 0.9566610633708666 L -0.2703281272486332, 0.9627682502130234 L -0.29736093997349655 ,1.059045075234326\", \"type\": \"path\"}, {\"fillcolor\": \"#dba284\", \"layer\": \"below\", \"line\": {\"color\": \"rgb(150,150,150)\", \"width\": 0.45}, \"path\": \"M -0.7058323696635972, 0.8436827993594934 L -0.7271100262358691, 0.8254156587727628 L -0.7479151051013161, 0.8066120477412221 L -0.7682340842122343, 0.7872841874790766 L -0.7880537574564714, 0.7674446399309446 L -0.7164125067786103, 0.6976769453917677 L -0.698394622011122, 0.7157128977082514 L -0.6799228228193782, 0.7332836797647473 L -0.6610091147598809, 0.7503778716116025 L -0.6416657906032701, 0.7669843630540849 L -0.7058323696635972 ,0.8436827993594934\", \"type\": \"path\"}, {\"fillcolor\": \"#d59171\", \"layer\": \"below\", \"line\": {\"color\": \"rgb(150,150,150)\", \"width\": 0.45}, \"path\": \"M -0.8117709191892799, 0.7423125856124169 L -0.8404122192604989, 0.7097233980345042 L -0.867746102393664, 0.6760301041969987 L -0.8937300456685078, 0.6412851202619371 L -0.918323626246361, 0.6055424984901836 L -0.8348396602239645, 0.5504931804456215 L -0.8124818596986434, 0.5829864729653973 L -0.788860093085149, 0.6145728219972715 L -0.7640111084186353, 0.6452030891222765 L -0.7379735628993453, 0.6748296232840153 L -0.8117709191892799 ,0.7423125856124169\", \"type\": \"path\"}, {\"fillcolor\": \"#d0805f\", \"layer\": \"below\", \"line\": {\"color\": \"rgb(150,150,150)\", \"width\": 0.45}, \"path\": \"M -0.9368910385037288, 0.5763984576414173 L -0.970782237452344, 0.5172831405014285 L -1.000948172619359, 0.4561828095511341 L -1.0272730857416115, 0.39333193019497936 L -1.0496559580307216, 0.32897168536305355 L -0.9542326891188379, 0.2990651685118668 L -0.9338846234014648, 0.35757448199543573 L -0.9099528841994171, 0.4147116450464855 L -0.8825293067748582, 0.47025740045584413 L -0.8517191259124807, 0.5239985978558338 L -0.9368910385037288 ,0.5763984576414173\", \"type\": \"path\"}, {\"fillcolor\": \"#ca6f4c\", \"layer\": \"below\", \"line\": {\"color\": \"rgb(150,150,150)\", \"width\": 0.45}, \"path\": \"M -1.059471266531148, 0.29583886728231856 L -1.063441509117803, 0.2812332780544468 L -1.0672104131685591, 0.2665744436824236 L -1.070777265126895, 0.25186513948414446 L -1.074141389690272, 0.2371081503328204 L -0.9764921724457017, 0.2155528639389276 L -0.9734338773880862, 0.22896830862194947 L -0.97019128469869, 0.24234040334765783 L -0.9667650082889118, 0.25566661641313343 L -0.9631556968464982, 0.2689444248021078 L -1.059471266531148 ,0.29583886728231856\", \"type\": \"path\"}, {\"fillcolor\": \"#c45e3a\", \"layer\": \"below\", \"line\": {\"color\": \"rgb(150,150,150)\", \"width\": 0.45}, \"path\": \"M -1.0810591127413554, 0.20325155536643125 L -1.085920586015171, 0.1754322686066271 L -1.0900662970470476, 0.1474973492715648 L -1.09349351327674, 0.11946521008934811 L -1.0961999757250893, 0.09135432786854421 L -0.9965454324773539, 0.08304938897140382 L -0.9940850120697636, 0.10860473644486192 L -0.9909693609518614, 0.13408849933778616 L -0.9872005327410645, 0.1594838805514792 L -0.9827810115830503, 0.1847741412422102 L -1.0810591127413554 ,0.20325155536643125\", \"type\": \"path\"}, {\"fillcolor\": \"#bf4d28\", \"layer\": \"below\", \"line\": {\"color\": \"rgb(150,150,150)\", \"width\": 0.45}, \"path\": \"M -1.0985285759934058, 0.05687677668346124 L -1.0998528720042304, 0.017990551521444863 L -1.0998010863968175, -0.020918182530516083 L -1.0983732839627622, -0.059800744785139505 L -1.0955712510979856, -0.09860848730000416 L -0.9959738646345322, -0.08964407936364013 L -0.9985211672388747, -0.05436431344103591 L -0.9998191694516523, -0.01901652957319644 L -0.9998662472765731, 0.016355046837677148 L -0.9986623418121869, 0.0517061606213284 L -1.0985285759934058 ,0.05687677668346124\", \"type\": \"path\"}, {\"fillcolor\": \"#af4624\", \"layer\": \"below\", \"line\": {\"color\": \"rgb(150,150,150)\", \"width\": 0.45}, \"path\": \"M -1.0919332853828896, -0.1329725545852573 L -1.0859873091913728, -0.1750187540673344 L -1.0784229089781554, -0.21680412678520092 L -1.0692513578096088, -0.25826640087767544 L -1.058486323855335, -0.29934378599065503 L -0.9622602944139408, -0.2721307145369591 L -0.9720466889178261, -0.2347876371615231 L -0.9803844627074139, -0.197094660713819 L -0.9872611901739751, -0.15910795824303126 L -0.992666623075354, -0.12088414053205208 L -1.0919332853828896 ,-0.1329725545852573\", \"type\": \"path\"}, {\"fillcolor\": \"#9f4021\", \"layer\": \"below\", \"line\": {\"color\": \"rgb(150,150,150)\", \"width\": 0.45}, \"path\": \"M -1.0485614092075264, -0.33244393680848866 L -1.035727422860815, -0.37049791569466933 L -1.0215129089998625, -0.40805805560807007 L -1.0059368142384717, -0.44507429240493623 L -0.9890199000500849, -0.48149728691335364 L -0.8991090000455316, -0.43772480628486693 L -0.9144880129440651, -0.40461299309539656 L -0.928648099090784, -0.3709618687346091 L -0.9415703844189228, -0.3368162869951539 L -0.9532376447341149, -0.3022217607349897 L -1.0485614092075264 ,-0.33244393680848866\", \"type\": \"path\"}, {\"fillcolor\": \"#8f391e\", \"layer\": \"below\", \"line\": {\"color\": \"rgb(150,150,150)\", \"width\": 0.45}, \"path\": \"M -0.9734076831563122, -0.5123255628721455 L -0.9621276222573772, -0.5332076879503573 L -0.9503996528455224, -0.5538415837323076 L -0.9382292347549916, -0.57421764432231 L -0.9256220337974116, -0.594326383857173 L -0.9125839191241317, -0.614158440922243 L -0.8991209604939037, -0.6337045829095134 L -0.8852394254471652, -0.652955710315771 L -0.870945776388255, -0.6719028609787727 L -0.8562466675769053, -0.6905372142494892 L -0.8411489420304207, -0.7088500950984659 L -0.8256596283379845, -0.726832978154391 L -0.8097859373885697, -0.7444774916729959 L -0.7935352590139851, -0.7617754214344328 L -0.7769151585486181, -0.7787187145673179 L -0.7599333733074685, -0.7952994832976644 L -0.7425978089841239, -0.8115100086209528 L -0.7249165359703472, -0.8273427438956316 L -0.7068977855989866, -0.8427903183563805 L -0.6885499463119679, -0.8578455405454914 L -0.6259544966472435, -0.779859582314083 L -0.6426343505445332, -0.7661730166876186 L -0.6590150327003156, -0.7521297671778469 L -0.6750889172582943, -0.7377363714735934 L -0.6908485211886076, -0.7229995302706039 L -0.706286507771471, -0.7079261041521071 L -0.7213956900127138, -0.6925231103949389 L -0.7361690339896088, -0.6767977197027235 L -0.7505996621254404, -0.6607572528676281 L -0.7646808563912915, -0.6444091773622417 L -0.7784060614335502, -0.627761103863172 L -0.7917688876256863, -0.6108207827079751 L -0.8047631140428774, -0.5935961002870646 L -0.8173826913580942, -0.5760950753722849 L -0.8296217446583015, -0.5583258553838573 L -0.841474576179465, -0.54029671259743 L -0.8529356679590833, -0.5220160402930091 L -0.8639996844050203, -0.5034923488475523 L -0.8746614747794338, -0.4847342617730521 L -0.8849160755966474, -0.4657505117019504 L -0.9734076831563122 ,-0.5123255628721455\", \"type\": \"path\"}, {\"fillcolor\": \"#f0f3e7\", \"layer\": \"below\", \"line\": {\"color\": \"rgb(150,150,150)\", \"width\": 0.45}, \"path\": \"M -0.661264608877963, -0.8790501220325692 L -0.6427658444510328, -0.8926657096624419 L -0.6239868189701117, -0.9058920740085771 L -0.6049357205328089, -0.9187234480644606 L -0.5856208558669534, -0.931154237048652 L -0.5660506467086655, -0.9431790208442413 L -0.5462336261302806, -0.9547925563621478 L -0.5261784348197293, -0.96598977982723 L -0.5058938173129932, -0.9767658089862115 L -0.4853886181812818, -0.987115945236458 L -0.4646717781745909, -0.9970356756746791 L -0.4437523303233243, -1.0065206750646603 L -0.42263939599967976, -1.0155668077231679 L -0.40134218094051954, -1.0241701293232035 L -0.3798699712334427, -1.0323268886138264 L -0.3582321292678445, -1.0400335290557832 L -0.33643808965268435, -1.047286690372246 L -0.3144973551027781, -1.054083210013971 L -0.29241949229539, -1.0604201245382447 L -0.2702141276989356, -1.0662946709010148 L -0.2478909433756151, -1.0717042876616423 L -0.2254596727598056, -1.0766466160997497 L -0.20293009641405482, -1.0811195012436796 L -0.18031203776452506, -1.0851209928101127 L -0.15761535881774805, -1.0886493460544369 L -0.13484995586055762, -1.0917030225314968 L -0.12259086896414328, -0.9924572932104516 L -0.1432866898343164, -0.9896812236858515 L -0.1639200343313864, -0.9864736298273751 L -0.18448190583095891, -0.9828359102215268 L -0.20496333887255053, -0.9787696509997723 L -0.22535540306874097, -0.9742766251469474 L -0.24564920699903237, -0.9693587917281952 L -0.26583590208671815, -0.9640182950347679 L -0.28590668645707096, -0.9582574636490645 L -0.3058528087751676, -0.9520788094293144 L -0.3256655720616768, -0.9454850264143483 L -0.34533633748494785, -0.9384789896489331 L -0.364856528127745, -0.9310637539301849 L -0.38421763272698156, -0.9232425524756072 L -0.4034112093848402, -0.9150187955133274 L -0.422428889249628, -0.9063960687951628 L -0.4412623801648016, -0.8973781320331435 L -0.4599034702845392, -0.8879689172601921 L -0.4783440316542993, -0.8781725271156635 L -0.49657602375480053, -0.8679932330564979 L -0.5145914970078777, -0.8574354734947648 L -0.5323825962426849, -0.8465038518624108 L -0.5499415641207352, -0.835203134604055 L -0.5672607445182832, -0.8235382490987063 L -0.5843325858645753, -0.8115142815113107 L -0.6011496444345118, -0.7991364745750628 L -0.661264608877963 ,-0.8790501220325692\", \"type\": \"path\"}, {\"fillcolor\": \"#e2ecde\", \"layer\": \"below\", \"line\": {\"color\": \"rgb(150,150,150)\", \"width\": 0.45}, \"path\": \"M -0.10049219492205558, -1.0954000724665613 L -0.08521376086983552, -1.0966944036323056 L -0.06991876958385371, -1.097775644501134 L -0.05461019291682114, -1.0986435849854073 L -0.039291005361117355, -1.099298056442252 L -0.03571909578283396, -0.9993618694929564 L -0.04964562992438285, -0.9987668954412793 L -0.06356251780350336, -0.9979778586373945 L -0.0774670553362141, -0.9969949123930051 L -0.09135654083823233, -0.9958182476968739 L -0.10049219492205558 ,-1.0954000724665613\", \"type\": \"path\"}, {\"fillcolor\": \"#d4e5d6\", \"layer\": \"below\", \"line\": {\"color\": \"rgb(150,150,150)\", \"width\": 0.45}, \"path\": \"M -0.004741831215839861, -1.0999897795146647 L 0.01815830459933307, -1.0998501152311972 L 0.04105057027924656, -1.0992337561591479 L 0.06392504390490794, -1.0981409694396052 L 0.08677181126871744, -1.0965722287059554 L 0.10958097017146956, -1.0945282138786006 L 0.1323426347141411, -1.0920098108702685 L 0.15504693958261445, -1.089018111202043 L 0.17768404432348758, -1.0855544115302784 L 0.20024413760909945, -1.0816202130846058 L 0.22271744148993655, -1.0772172210172732 L 0.24509421563257272, -1.0723473436641013 L 0.2673647615413007, -1.0670126917173777 L 0.2895194267616401, -1.0612155773110437 L 0.3115486090638816, -1.0549585130185741 L 0.3334427606048629, -1.0482442107639842 L 0.355192392066181, -1.0410755806464316 L 0.37678807676702947, -1.033455729678927 L 0.39822045474989215, -1.0253879604417 L 0.4194802368373176, -1.0168757696508006 L 0.4405582086580118, -1.0079228466425612 L 0.46144523464051773, -0.9985330717745696 L 0.48213226197273296, -0.9887105147438537 L 0.5026103245255588, -0.978459432823003 L 0.5228705467389867, -0.9677842690149873 L 0.5429041474689216, -0.9566896501274819 L 0.5627024437930888, -0.9451803847675246 L 0.5822568547743688, -0.9332614612573797 L 0.6015589051799264, -0.9209380454725109 L 0.6206002291545337, -0.9082154786025949 L 0.6393725738464797, -0.8950992748365558 L 0.6578678029845015, -0.8815951189726186 L 0.6760779004041956, -0.8677088639544112 L 0.6146162730947232, -0.7888262399585555 L 0.5980616390768195, -0.8014501081569259 L 0.5812477944058906, -0.813726613487778 L 0.5641820265041215, -0.825650435093268 L 0.5468717319817512, -0.8372164049750098 L 0.5293244134312444, -0.8484195102339815 L 0.5115476761755352, -0.8592548952432042 L 0.49354922497174686, -0.8697178637522561 L 0.475336860671806, -0.8798038809227157 L 0.45691847684141706, -0.889508575293639 L 0.4383020563388481, -0.8988277406762306 L 0.4194956678550161, -0.9077573379768814 L 0.40050746241637436, -0.9162934969477828 L 0.3813456698521069, -0.9244325178643641 L 0.36201859522717467, -0.9321708731288181 L 0.342534615242754, -0.9395052087990244 L 0.32290217460561904, -0.9464323460422104 L 0.30312978236805715, -0.9529492825127129 L 0.28322600823989236, -0.959053193653249 L 0.26319947887421824, -0.9647414339191305 L 0.24305887412845514, -0.9700115379248887 L 0.22281292330233882, -0.9748612215128193 L 0.20247040135448777, -0.9792883827429756 L 0.1820401250991813, -0.9832911028041871 L 0.1615309493849887, -0.9868676468457076 L 0.1409517632569222, -0.99001646472913 L 0.12031148610376463, -0.9927361917002441 L 0.09961906379224504, -0.9950256489805459 L 0.07888346478974312, -0.9968838442781413 L 0.05811367627718904, -0.9983099722178228 L 0.037318700253860505, -0.9993034146901343 L 0.016507549635757335, -0.9998637411192702 L -0.004310755650763509, -0.9999907086496951 L -0.004741831215839861 ,-1.0999897795146647\", \"type\": \"path\"}, {\"fillcolor\": \"#c6decd\", \"layer\": \"below\", \"line\": {\"color\": \"rgb(150,150,150)\", \"width\": 0.45}, \"path\": \"M 0.7029996908479115, -0.846044581962287 L 0.7210790892365118, -0.8306894408055533 L 0.7388231888246843, -0.8149480324873022 L 0.7562237386793565, -0.7988276766974317 L 0.7732726476166607, -0.7823358693348529 L 0.7899619879643072, -0.7654802790219223 L 0.8062839992479142, -0.7482687435385698 L 0.8222310917996007, -0.7307092661777573 L 0.8377958502871475, -0.7128100120239864 L 0.8529710371620964, -0.6945793041565648 L 0.8677495960251838, -0.6760256197794065 L 0.8821246549075314, -0.6571575862791731 L 0.8960895294660899, -0.6379839772135676 L 0.909637726091825, -0.6185137082316721 L 0.9227629449292223, -0.5987558329282057 L 0.935459082805694, -0.5787195386336371 L 0.9477202360695269, -0.5584141421421205 L 0.9595407033350589, -0.5378490853792174 L 0.9709149881337965, -0.5170339310114472 L 0.9818378014702537, -0.49597835799968004 L 0.8925798195184124, -0.45088941636334545 L 0.8826499892125422, -0.47003084637404285 L 0.8723097303045989, -0.48895371398110665 L 0.8615638509722972, -0.5076492201292004 L 0.8504173480051763, -0.5261086714851246 L 0.8388754044811111, -0.544323484480187 L 0.8269433873562045, -0.56228518930152 L 0.8146268449691726, -0.5799854338305159 L 0.8019315044613922, -0.5974159875265209 L 0.7888632691138033, -0.6145687452540058 L 0.7754282156019058, -0.6314357310514225 L 0.761632591170134, -0.6480091018399876 L 0.7474828107269097, -0.6642811510706884 L 0.7329854538617401, -0.6802443123077906 L 0.7181472617857337, -0.695891162747202 L 0.7029751341969642, -0.711214426668048 L 0.6874761260721423, -0.726206978815847 L 0.6716574443860767, -0.7408618477157292 L 0.6555264447604652, -0.7551722189141393 L 0.6390906280435559, -0.7691314381475336 L 0.7029996908479115 ,-0.846044581962287\", \"type\": \"path\"}, {\"fillcolor\": \"#b8d7c5\", \"layer\": \"below\", \"line\": {\"color\": \"rgb(150,150,150)\", \"width\": 0.45}, \"path\": \"M 0.9969323804956789, -0.46489335198432247 L 1.013032720051209, -0.4286778605265833 L 1.0278179733858794, -0.39190587337388005 L 1.04126894676335, -0.3546251267272861 L 1.053368178566246, -0.3168840172429486 L 0.9576074350602236, -0.28807637931177144 L 0.9466081334212273, -0.3223864788429873 L 0.9343799758053449, -0.3562780667035273 L 0.92093883641019, -0.3897071459332575 L 0.9063021640869807, -0.4226303199857477 L 0.9969323804956789 ,-0.46489335198432247\", \"type\": \"path\"}, {\"fillcolor\": \"#aad0bc\", \"layer\": \"below\", \"line\": {\"color\": \"rgb(150,150,150)\", \"width\": 0.45}, \"path\": \"M 1.062801972478792, -0.2836405600318638 L 1.0707977698565183, -0.25177794992871627 L 1.0778385583685826, -0.21969078745804527 L 1.0839180585702197, -0.18740769009132494 L 1.089030848357691, -0.15495745004783715 L 0.9900280439615372, -0.14087040913439738 L 0.9853800532456541, -0.17037062735574993 L 0.9798532348805294, -0.19971889768913204 L 0.9734525180513801, -0.22888904538974203 L 0.9661836113443563, -0.2578550545744216 L 1.062801972478792 ,-0.2836405600318638\", \"type\": \"path\"}, {\"fillcolor\": \"#9cc9b4\", \"layer\": \"below\", \"line\": {\"color\": \"rgb(150,150,150)\", \"width\": 0.45}, \"path\": \"M 1.0933608085049842, -0.12067370229394545 L 1.0955185511483467, -0.09919225821518145 L 1.0972542852943115, -0.07767260394289756 L 1.0985673423147122, -0.05612302913768925 L 1.0994572164023046, -0.03455183498594413 L 0.9995065603657315, -0.031410759078131026 L 0.9986975839224657, -0.05102093557971749 L 0.9975038957221012, -0.07061145812990686 L 0.9959259555894061, -0.09017478019561949 L 0.9939643713681673, -0.10970336572176857 L 1.0933608085049842 ,-0.12067370229394545\", \"type\": \"path\"}], \"showlegend\": false, \"title\": \"Data Jobs \\u2012 Technologies in Demand and Relationships Between Them\", \"titlefont\": {\"color\": \"#655643\", \"family\": \"Merryweather\", \"size\": 18}, \"width\": 960, \"xaxis\": {\"showgrid\": false, \"showline\": false, \"showticklabels\": false, \"title\": \"\", \"zeroline\": false}, \"yaxis\": {\"showgrid\": false, \"showline\": false, \"showticklabels\": false, \"title\": \"\", \"zeroline\": false}}, {\"showLink\": true, \"linkText\": \"Export to plot.ly\", \"plotlyServerURL\": \"https://plot.ly\"})});</script>"
      ]
     },
     "metadata": {},
     "output_type": "display_data"
    }
   ],
   "source": [
    "fig = go.Figure(data=data, layout=layout)\n",
    "\n",
    "plotly.offline.iplot(fig, filename='data_offers_tech_requirements_chord.html')"
   ]
  },
  {
   "cell_type": "code",
   "execution_count": 30,
   "metadata": {},
   "outputs": [
    {
     "data": {
      "text/plain": [
       "'file:///games/WORKSPACE/jpynb_Job_Market_Trends_Bulgaria/workbooks/data_offers_tech_requirements_chord.html'"
      ]
     },
     "execution_count": 30,
     "metadata": {},
     "output_type": "execute_result"
    }
   ],
   "source": [
    "# Uncomment the line below to export an HTML version of the chart.\n",
    "plotly.offline.plot(fig, filename='data_offers_tech_requirements_chord.html', show_link=False)"
   ]
  },
  {
   "cell_type": "markdown",
   "metadata": {},
   "source": [
    "### Resources:\n",
    "\n",
    "- https://plot.ly/python/filled-chord-diagram/\n",
    "- https://hci.stanford.edu/courses/cs448b/f11/lectures/CS448B-20111117-Text.pdf"
   ]
  },
  {
   "cell_type": "code",
   "execution_count": 31,
   "metadata": {},
   "outputs": [
    {
     "data": {
      "text/html": [
       "<style>\n",
       "@import url('https://fonts.googleapis.com/css?family=Fira+Mono|Fira+Sans|Fira+Sans+Condensed|Fira+Sans+Extra+Condensed');\n",
       "@import url('https://fonts.googleapis.com/css?family=Merriweather|Merriweather+Sans');\n",
       "\n",
       ".nbviewer {\n",
       "    background-color: #E5E1D8;\n",
       "}\n",
       "\n",
       "#notebook {\n",
       "    background-color: #E5E1D8;\n",
       "}\n",
       "\n",
       "#notebook-container {\n",
       "    background-color: #FFFAF0;\n",
       "    max-width: 1100px;\n",
       "    padding: 50px;\n",
       "    border-radius: 4px;\n",
       "    -webkit-box-shadow: 0px 0px 12px 1px rgba(101,86,67,0.75);\n",
       "    -moz-box-shadow: 0px 0px 12px 1px rgba(101,86,67,0.75);\n",
       "    box-shadow: 0px 0px 12px 1px rgba(101,86,67,0.75);\n",
       "}\n",
       "\n",
       "/* Jupyter Notebook Header Styling */\n",
       "body > #header {\n",
       "    background-color:#fafafa;\n",
       "}\n",
       "\n",
       "#header #menubar #menus {\n",
       "    background-color:#fefefe;\n",
       "}\n",
       "\n",
       "/* Headings */\n",
       ".text_cell_render h1 {\n",
       "    color: #655B4F;\n",
       "    font-family: 'Merriweather', serif;\n",
       "    font-weight: 900;\n",
       "    text-align: center;\n",
       "    font-size: 2.5em;\n",
       "    padding: 40px 0 12px 0;\n",
       "    text-shadow: 0 2px #FFFAF0, 0 3px #8c8b8b;\n",
       "}\n",
       "\n",
       ".text_cell_render h2 {\n",
       "    color: #655B4F;\n",
       "    font-family: 'Merriweather', serif;\n",
       "    font-weight: 600;\n",
       "    font-size: 2.2em;\n",
       "    text-indent: 22px;\n",
       "    padding: 40px 0 6px 0;\n",
       "    margin-bottom: 24px;\n",
       "    border-bottom: 1px solid #655B4F;\n",
       "}\n",
       "\n",
       ".text_cell_render h3 {\n",
       "    color: #655B4F;\n",
       "    font-family: 'Merriweather', serif;\n",
       "    font-weight: 300;\n",
       "    padding: 6px 0 0 0;\n",
       "    font-size: 1.6em;\n",
       "}\n",
       "\n",
       ".text_cell_render h4 {\n",
       "    color: #655B4F;\n",
       "    font-family: 'Merriweather', serif;\n",
       "    font-weight: 100;\n",
       "    font-size: 1.2em;\n",
       "}\n",
       "\n",
       "/* Use for subtitles and other non-headings */\n",
       "div.rendered_html > h5 {\n",
       "    font-family: 'Merriweather', serif;\n",
       "    line-height: 1.5em;\n",
       "    color: #655B4F;\n",
       "    font-weight: 200;\n",
       "    font-style: normal important!;\n",
       "    text-indent: 22px;\n",
       "    text-align: center;\n",
       "    margin-top: 0.5em;\n",
       "    padding: 6px 0 6px 0;\n",
       "    border-bottom: 1px solid #655B4F;\n",
       "    border-top: 1px solid #655B4F;\n",
       "}\n",
       "\n",
       "/* Use for image and chart captions */\n",
       "div.rendered_html > h6 {\n",
       "    font-family: 'Merriweather Sans', sans-serif;\n",
       "    font-size: 0.9em;\n",
       "    line-height: 1.5em;\n",
       "    color: #cac8c9;\n",
       "    font-weight: normal;\n",
       "    max-width: 525px;\n",
       "    display: block;\n",
       "    margin-left: auto;\n",
       "    margin-right: auto;\n",
       "}\n",
       "\n",
       "div#notebook-container p {\n",
       "    font-family: 'Fira Sans Condensed', sans-serif;\n",
       "    font-size: 1.2em;\n",
       "    line-height: 1.3em;\n",
       "    color: #655B4F;\n",
       "}\n",
       "\n",
       "/* Plotly Exported Charts Styling */\n",
       ".js-plotly-plot .plotly,\n",
       ".js-plotly-plot .plotly div {\n",
       "    direction: ltr;\n",
       "    font-family: \"Fira Sans Extra Condensed\", verdana, arial, sans-serif;\n",
       "}\n",
       "\n",
       "/* Lists */\n",
       "ol, ul {\n",
       "    font-family: 'Fira Sans Condensed', sans-serif;\n",
       "    line-height: 1.3em;\n",
       "    color: #655B4F;\n",
       "}\n",
       "\n",
       "div.input_prompt {\n",
       "    color: #aad0bc;\n",
       "    font-size: 0.7em;\n",
       "}\n",
       "\n",
       "div.output_prompt {\n",
       "    color: #aad0bc;\n",
       "    font-size: 0.7em;\n",
       "}\n",
       "\n",
       "div.prompt {\n",
       "    min-width: 2ex;\n",
       "}\n",
       "\n",
       "div.output_subarea {\n",
       "    min-width: 425px;\n",
       "    max-width: calc(100% - 1ex);\n",
       "    padding: 0;\n",
       "}\n",
       "\n",
       "div.text_cell code {\n",
       "    padding: 2px;\n",
       "    background-color: #E5E1D8;\n",
       "    color: #483F3A;\n",
       "    font-family: 'Fira Mono', monospace;\n",
       "    font-size: 0.9em;\n",
       "}\n",
       "\n",
       "div.input_area {\n",
       "    background-color: #FFFAF0;\n",
       "    border: 1px solid #E5E1D8;\n",
       "    background: repeating-linear-gradient(135deg, #FFFAF0, #FFFAF0 5px, #F7F7ED 5px, #F7F7ED 10px);\n",
       "}\n",
       "\n",
       "div.cell.rendered.selected {\n",
       "    background: #F7F7ED;\n",
       "    border: 1px solid #293C34;\n",
       "}\n",
       "\n",
       "div.output_area img {\n",
       "    display: block;\n",
       "    margin-left: auto;\n",
       "    margin-right: auto;\n",
       "}\n",
       "\n",
       "div.rendered_html pre, code {\n",
       "    font-family: 'Fira Sans Condensed', sans-serif;\n",
       "    font-size: 16px;\n",
       "    font-weight: 400;\n",
       "    color: #40362F;\n",
       "    background-color: #E5E1D8;\n",
       "}\n",
       "\n",
       "div.output_text pre {\n",
       "    font-family: 'Fira Sans Condensed', sans-serif;\n",
       "    font-size: 13px;\n",
       "    font-weight: 300;\n",
       "    color: #40362F;\n",
       "}\n",
       "\n",
       "\n",
       "pre, textarea {\n",
       "    overflow: hidden;\n",
       "}\n",
       "\n",
       "div.text_cell_render img {\n",
       "    max-height: 550px;\n",
       "    display: block;\n",
       "    margin-left: auto;\n",
       "    margin-right: auto;\n",
       "}\n",
       "\n",
       "div.output output_scroll {\n",
       "    overflow-x: auto;\n",
       "    overflow-y: scroll;\n",
       "    max-height: 2000px;\n",
       "}\n",
       "\n",
       "div.rendered_html hr {\n",
       "    border: 0;\n",
       "    height: 1px;\n",
       "    background-color: #655B4F;\n",
       "}\n",
       "\n",
       "div.rendered_html pre, code {\n",
       "    color: #40362F;\n",
       "    background-color: #FFFAF0;\n",
       "}\n",
       "\n",
       "/* Links */\n",
       "a.link--embedview {\n",
       "    display: none;\n",
       "}\n",
       "\n",
       "a:link {\n",
       "    color: #293C34;\n",
       "}\n",
       "\n",
       "a:visited {\n",
       "    color: #293C34;\n",
       "}\n",
       "\n",
       "a:hover {\n",
       "    color: #557C6C;\n",
       "}\n",
       "\n",
       "a:focus {\n",
       "    color:#557C6C;\n",
       "}\n",
       "\n",
       "a:active {\n",
       "    font-weight: bold;\n",
       "    color:#80BCA3;\n",
       "}\n",
       "\n",
       ".rendered_html :link {\n",
       "    text-decoration: underline;\n",
       "}\n",
       "\n",
       "/* Colors for code highlighting */\n",
       ".CodeMirror pre {\n",
       "    font-family: 'Fira Mono', monospace;\n",
       "    font-size: 0.9em;\n",
       "    font-weight: 600;\n",
       "    letter-spacing: -2px;\n",
       "}\n",
       "\n",
       ".CodeMirror-code span.cm-keyword,\n",
       ".highlight .k,\n",
       ".highlight .ow {\n",
       "    color: #5F362E;\n",
       "}\n",
       "\n",
       ".CodeMirror-code span.cm-variable,\n",
       ".highlight .na {\n",
       "    color: #655B4F;\n",
       "}\n",
       "\n",
       ".CodeMirror-code span.cm-property {\n",
       "    color: #655B4F;\n",
       "}\n",
       "\n",
       ".CodeMirror-code span.cm-def {\n",
       "    color: #293C34;\n",
       "}\n",
       "\n",
       ".CodeMirror-code span.cm-operator {\n",
       "    color: #655B4F;\n",
       "}\n",
       "\n",
       ".CodeMirror-code span.cm-string,\n",
       ".highlight .s {\n",
       "    color: #0B7761;\n",
       "}\n",
       "\n",
       ".CodeMirror-code span.cm-number,\n",
       ".highlight .mb, .highlight .mf, .highlight .mh, .highlight .mi, .highlight .mo {\n",
       "    color: #265BCA;\n",
       "}\n",
       "\n",
       ".CodeMirror-code span.cm-comment,\n",
       ".highlight .c1, .highlight .cs {\n",
       "    color: #75AC95;\n",
       "}\n",
       "\n",
       ".CodeMirror-code span.cm-builtin,\n",
       ".highlight .nb {\n",
       "    color: #5F362E;\n",
       "}\n",
       "\n",
       "/* Code with no class applied (brackets mostly) */\n",
       ".CodeMirror-line > span {\n",
       "    color: #72614B;\n",
       "}\n",
       "\n",
       "/* Table styles */\n",
       "table {\n",
       "    border: 1px solid #BF4D28;\n",
       "}\n",
       "\n",
       "\n",
       ".rendered_html table th {\n",
       "    color: #40362F;\n",
       "    text-align: left;\n",
       "    background-color: #f2e6ce;\n",
       "}\n",
       "\n",
       ".rendered_html td {\n",
       "    color: #40362F;\n",
       "    text-align: left;\n",
       "}\n",
       "\n",
       ".rendered_html table tr:nth-child(odd) {\n",
       "    background-color: #F7F7ED;\n",
       "}\n",
       "\n",
       ".rendered_html table tr:nth-child(even) {\n",
       "    background-color: #FFFAF0;\n",
       "}\n",
       "\n",
       "iframe {\n",
       "    border-width: 0;\n",
       "}\n",
       "\n",
       "@media only screen and (max-width: 600px) {\n",
       "    #notebook-container {\n",
       "        background-color: #FFFAF0;\n",
       "        padding: 15px;\n",
       "        border-radius: 4px;\n",
       "        -webkit-box-shadow: 0px 0px 12px 1px rgba(101,86,67,0.75);\n",
       "        -moz-box-shadow: 0px 0px 12px 1px rgba(101,86,67,0.75);\n",
       "        box-shadow: 0px 0px 12px 1px rgba(101,86,67,0.75);\n",
       "    }\n",
       "\n",
       "    .text_cell_render h1,\n",
       "    .text_cell_render h2 {\n",
       "        text-indent: 0;\n",
       "        text-align: left;\n",
       "        padding: 40px 22px 12px 22px;\n",
       "    }\n",
       "}\n",
       "\n",
       "</style>\n"
      ],
      "text/plain": [
       "<IPython.core.display.HTML object>"
      ]
     },
     "execution_count": 31,
     "metadata": {},
     "output_type": "execute_result"
    }
   ],
   "source": [
    "from IPython.core.display import HTML\n",
    "with open('../resources/styles/datum.css', 'r') as f:\n",
    "    style = f.read()\n",
    "HTML(style)"
   ]
  },
  {
   "cell_type": "code",
   "execution_count": null,
   "metadata": {},
   "outputs": [],
   "source": []
  }
 ],
 "metadata": {
  "kernelspec": {
   "display_name": "Python 3",
   "language": "python",
   "name": "python3"
  },
  "language_info": {
   "codemirror_mode": {
    "name": "ipython",
    "version": 3
   },
   "file_extension": ".py",
   "mimetype": "text/x-python",
   "name": "python",
   "nbconvert_exporter": "python",
   "pygments_lexer": "ipython3",
   "version": "3.7.3"
  }
 },
 "nbformat": 4,
 "nbformat_minor": 2
}
