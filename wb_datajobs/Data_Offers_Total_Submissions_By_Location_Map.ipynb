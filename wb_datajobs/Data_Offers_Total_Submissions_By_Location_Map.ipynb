{
 "cells": [
  {
   "cell_type": "markdown",
   "metadata": {},
   "source": [
    "## Data Offers by Location\n"
   ]
  },
  {
   "cell_type": "code",
   "execution_count": 1,
   "metadata": {},
   "outputs": [
    {
     "data": {
      "text/html": [
       "        <script type=\"text/javascript\">\n",
       "        window.PlotlyConfig = {MathJaxConfig: 'local'};\n",
       "        if (window.MathJax) {MathJax.Hub.Config({SVG: {font: \"STIX-Web\"}});}\n",
       "        if (typeof require !== 'undefined') {\n",
       "        require.undef(\"plotly\");\n",
       "        requirejs.config({\n",
       "            paths: {\n",
       "                'plotly': ['https://cdn.plot.ly/plotly-latest.min']\n",
       "            }\n",
       "        });\n",
       "        require(['plotly'], function(Plotly) {\n",
       "            window._Plotly = Plotly;\n",
       "        });\n",
       "        }\n",
       "        </script>\n",
       "        "
      ]
     },
     "metadata": {},
     "output_type": "display_data"
    }
   ],
   "source": [
    "import psycopg2\n",
    "import pandas as pd\n",
    "import plotly\n",
    "import chart_studio.plotly as py\n",
    "import plotly.graph_objs as go\n",
    "\n",
    "from nbstyler import DATA_STYLE as DS\n",
    "\n",
    "plotly.offline.init_notebook_mode(connected=True)\n",
    "\n",
    "%matplotlib notebook\n",
    "%matplotlib inline"
   ]
  },
  {
   "cell_type": "markdown",
   "metadata": {},
   "source": [
    "### Objectives\n",
    "\n",
    "Prepare a simple bubble map to illustrate the location concentration of targeted job type.\n",
    "\n",
    "### Data preparation\n",
    "\n",
    "For the `data_df` we can prepare a custom query calculating the total number of job offers per settlement."
   ]
  },
  {
   "cell_type": "code",
   "execution_count": 2,
   "metadata": {},
   "outputs": [],
   "source": [
    "data_querystr = \"\"\"\n",
    "SELECT job_location, COUNT(*) subm_count \n",
    "FROM data_offers.do_full_offer_history \n",
    "GROUP BY job_location \n",
    "ORDER BY subm_count DESC\n",
    "\"\"\""
   ]
  },
  {
   "cell_type": "code",
   "execution_count": 3,
   "metadata": {},
   "outputs": [],
   "source": [
    "conn = psycopg2.connect('dbname=jobsbg')\n",
    "data_df = pd.read_sql_query(data_querystr, conn, index_col='job_location')\n",
    "conn.close()"
   ]
  },
  {
   "cell_type": "code",
   "execution_count": 4,
   "metadata": {},
   "outputs": [
    {
     "data": {
      "text/html": [
       "<div>\n",
       "<style scoped>\n",
       "    .dataframe tbody tr th:only-of-type {\n",
       "        vertical-align: middle;\n",
       "    }\n",
       "\n",
       "    .dataframe tbody tr th {\n",
       "        vertical-align: top;\n",
       "    }\n",
       "\n",
       "    .dataframe thead th {\n",
       "        text-align: right;\n",
       "    }\n",
       "</style>\n",
       "<table border=\"1\" class=\"dataframe\">\n",
       "  <thead>\n",
       "    <tr style=\"text-align: right;\">\n",
       "      <th></th>\n",
       "      <th>subm_count</th>\n",
       "    </tr>\n",
       "    <tr>\n",
       "      <th>job_location</th>\n",
       "      <th></th>\n",
       "    </tr>\n",
       "  </thead>\n",
       "  <tbody>\n",
       "    <tr>\n",
       "      <th>София</th>\n",
       "      <td>3854</td>\n",
       "    </tr>\n",
       "    <tr>\n",
       "      <th>Варна</th>\n",
       "      <td>226</td>\n",
       "    </tr>\n",
       "    <tr>\n",
       "      <th>Пловдив</th>\n",
       "      <td>164</td>\n",
       "    </tr>\n",
       "    <tr>\n",
       "      <th>Дистанционна</th>\n",
       "      <td>45</td>\n",
       "    </tr>\n",
       "    <tr>\n",
       "      <th>Русе</th>\n",
       "      <td>18</td>\n",
       "    </tr>\n",
       "    <tr>\n",
       "      <th>Велико Търново</th>\n",
       "      <td>15</td>\n",
       "    </tr>\n",
       "    <tr>\n",
       "      <th></th>\n",
       "      <td>9</td>\n",
       "    </tr>\n",
       "    <tr>\n",
       "      <th>Бургас</th>\n",
       "      <td>8</td>\n",
       "    </tr>\n",
       "    <tr>\n",
       "      <th>Стара Загора</th>\n",
       "      <td>5</td>\n",
       "    </tr>\n",
       "    <tr>\n",
       "      <th>Божурище</th>\n",
       "      <td>5</td>\n",
       "    </tr>\n",
       "    <tr>\n",
       "      <th>Горна Оряховица</th>\n",
       "      <td>5</td>\n",
       "    </tr>\n",
       "    <tr>\n",
       "      <th>Радиново</th>\n",
       "      <td>4</td>\n",
       "    </tr>\n",
       "    <tr>\n",
       "      <th>Шумен</th>\n",
       "      <td>4</td>\n",
       "    </tr>\n",
       "    <tr>\n",
       "      <th>Ботевград</th>\n",
       "      <td>4</td>\n",
       "    </tr>\n",
       "    <tr>\n",
       "      <th>Благоевград</th>\n",
       "      <td>4</td>\n",
       "    </tr>\n",
       "    <tr>\n",
       "      <th>Добрич</th>\n",
       "      <td>3</td>\n",
       "    </tr>\n",
       "    <tr>\n",
       "      <th>Монтана</th>\n",
       "      <td>3</td>\n",
       "    </tr>\n",
       "    <tr>\n",
       "      <th>Челопеч</th>\n",
       "      <td>3</td>\n",
       "    </tr>\n",
       "    <tr>\n",
       "      <th>Казачево</th>\n",
       "      <td>2</td>\n",
       "    </tr>\n",
       "    <tr>\n",
       "      <th>Плевен</th>\n",
       "      <td>2</td>\n",
       "    </tr>\n",
       "    <tr>\n",
       "      <th>Пазарджик</th>\n",
       "      <td>2</td>\n",
       "    </tr>\n",
       "    <tr>\n",
       "      <th>Габрово</th>\n",
       "      <td>1</td>\n",
       "    </tr>\n",
       "    <tr>\n",
       "      <th>Девня</th>\n",
       "      <td>1</td>\n",
       "    </tr>\n",
       "    <tr>\n",
       "      <th>Сливен</th>\n",
       "      <td>1</td>\n",
       "    </tr>\n",
       "    <tr>\n",
       "      <th>Разград</th>\n",
       "      <td>1</td>\n",
       "    </tr>\n",
       "    <tr>\n",
       "      <th>Враца</th>\n",
       "      <td>1</td>\n",
       "    </tr>\n",
       "    <tr>\n",
       "      <th>Пирдоп</th>\n",
       "      <td>1</td>\n",
       "    </tr>\n",
       "    <tr>\n",
       "      <th>Карлово</th>\n",
       "      <td>1</td>\n",
       "    </tr>\n",
       "  </tbody>\n",
       "</table>\n",
       "</div>"
      ],
      "text/plain": [
       "                 subm_count\n",
       "job_location               \n",
       "София                  3854\n",
       "Варна                   226\n",
       "Пловдив                 164\n",
       "Дистанционна             45\n",
       "Русе                     18\n",
       "Велико Търново           15\n",
       "                          9\n",
       "Бургас                    8\n",
       "Стара Загора              5\n",
       "Божурище                  5\n",
       "Горна Оряховица           5\n",
       "Радиново                  4\n",
       "Шумен                     4\n",
       "Ботевград                 4\n",
       "Благоевград               4\n",
       "Добрич                    3\n",
       "Монтана                   3\n",
       "Челопеч                   3\n",
       "Казачево                  2\n",
       "Плевен                    2\n",
       "Пазарджик                 2\n",
       "Габрово                   1\n",
       "Девня                     1\n",
       "Сливен                    1\n",
       "Разград                   1\n",
       "Враца                     1\n",
       "Пирдоп                    1\n",
       "Карлово                   1"
      ]
     },
     "execution_count": 4,
     "metadata": {},
     "output_type": "execute_result"
    }
   ],
   "source": [
    "data_df"
   ]
  },
  {
   "cell_type": "markdown",
   "metadata": {},
   "source": [
    "We are going to need also the locations of the settlements. For the initial version of this map we are going to use a simple dictionary (the number of locations having data jobs offered is very limited)."
   ]
  },
  {
   "cell_type": "code",
   "execution_count": 5,
   "metadata": {},
   "outputs": [
    {
     "data": {
      "text/html": [
       "<div>\n",
       "<style scoped>\n",
       "    .dataframe tbody tr th:only-of-type {\n",
       "        vertical-align: middle;\n",
       "    }\n",
       "\n",
       "    .dataframe tbody tr th {\n",
       "        vertical-align: top;\n",
       "    }\n",
       "\n",
       "    .dataframe thead th {\n",
       "        text-align: right;\n",
       "    }\n",
       "</style>\n",
       "<table border=\"1\" class=\"dataframe\">\n",
       "  <thead>\n",
       "    <tr style=\"text-align: right;\">\n",
       "      <th></th>\n",
       "      <th>lat</th>\n",
       "      <th>long</th>\n",
       "    </tr>\n",
       "  </thead>\n",
       "  <tbody>\n",
       "    <tr>\n",
       "      <th>София</th>\n",
       "      <td>42.6900</td>\n",
       "      <td>23.3102</td>\n",
       "    </tr>\n",
       "    <tr>\n",
       "      <th>Варна</th>\n",
       "      <td>43.2100</td>\n",
       "      <td>27.9000</td>\n",
       "    </tr>\n",
       "    <tr>\n",
       "      <th>Пловдив</th>\n",
       "      <td>42.1500</td>\n",
       "      <td>24.7500</td>\n",
       "    </tr>\n",
       "    <tr>\n",
       "      <th>Русе</th>\n",
       "      <td>43.8500</td>\n",
       "      <td>25.9800</td>\n",
       "    </tr>\n",
       "    <tr>\n",
       "      <th>Велико Търново</th>\n",
       "      <td>43.0900</td>\n",
       "      <td>25.6300</td>\n",
       "    </tr>\n",
       "    <tr>\n",
       "      <th>Бургас</th>\n",
       "      <td>42.2100</td>\n",
       "      <td>27.4700</td>\n",
       "    </tr>\n",
       "    <tr>\n",
       "      <th>Божурище</th>\n",
       "      <td>42.7642</td>\n",
       "      <td>23.1940</td>\n",
       "    </tr>\n",
       "    <tr>\n",
       "      <th>Горна Оряховица</th>\n",
       "      <td>43.1300</td>\n",
       "      <td>25.7000</td>\n",
       "    </tr>\n",
       "    <tr>\n",
       "      <th>Стара Загора</th>\n",
       "      <td>42.4200</td>\n",
       "      <td>25.6300</td>\n",
       "    </tr>\n",
       "    <tr>\n",
       "      <th>Благоевград</th>\n",
       "      <td>42.0300</td>\n",
       "      <td>23.0900</td>\n",
       "    </tr>\n",
       "    <tr>\n",
       "      <th>Челопеч</th>\n",
       "      <td>42.7011</td>\n",
       "      <td>24.0866</td>\n",
       "    </tr>\n",
       "    <tr>\n",
       "      <th>Ботевград</th>\n",
       "      <td>42.9200</td>\n",
       "      <td>23.7800</td>\n",
       "    </tr>\n",
       "    <tr>\n",
       "      <th>Радиново</th>\n",
       "      <td>42.1921</td>\n",
       "      <td>24.6428</td>\n",
       "    </tr>\n",
       "    <tr>\n",
       "      <th>Казачево</th>\n",
       "      <td>43.0805</td>\n",
       "      <td>24.7497</td>\n",
       "    </tr>\n",
       "    <tr>\n",
       "      <th>Добрич</th>\n",
       "      <td>43.5800</td>\n",
       "      <td>27.8300</td>\n",
       "    </tr>\n",
       "    <tr>\n",
       "      <th>Монтана</th>\n",
       "      <td>43.4200</td>\n",
       "      <td>23.2300</td>\n",
       "    </tr>\n",
       "    <tr>\n",
       "      <th>Карлово</th>\n",
       "      <td>42.6600</td>\n",
       "      <td>24.8100</td>\n",
       "    </tr>\n",
       "    <tr>\n",
       "      <th>Сливен</th>\n",
       "      <td>42.6800</td>\n",
       "      <td>26.3200</td>\n",
       "    </tr>\n",
       "    <tr>\n",
       "      <th>Девня</th>\n",
       "      <td>43.2300</td>\n",
       "      <td>27.6000</td>\n",
       "    </tr>\n",
       "    <tr>\n",
       "      <th>Шумен</th>\n",
       "      <td>43.2800</td>\n",
       "      <td>26.9300</td>\n",
       "    </tr>\n",
       "    <tr>\n",
       "      <th>Враца</th>\n",
       "      <td>43.2200</td>\n",
       "      <td>23.5600</td>\n",
       "    </tr>\n",
       "    <tr>\n",
       "      <th>Пирдоп</th>\n",
       "      <td>42.7100</td>\n",
       "      <td>24.1900</td>\n",
       "    </tr>\n",
       "  </tbody>\n",
       "</table>\n",
       "</div>"
      ],
      "text/plain": [
       "                     lat     long\n",
       "София            42.6900  23.3102\n",
       "Варна            43.2100  27.9000\n",
       "Пловдив          42.1500  24.7500\n",
       "Русе             43.8500  25.9800\n",
       "Велико Търново   43.0900  25.6300\n",
       "Бургас           42.2100  27.4700\n",
       "Божурище         42.7642  23.1940\n",
       "Горна Оряховица  43.1300  25.7000\n",
       "Стара Загора     42.4200  25.6300\n",
       "Благоевград      42.0300  23.0900\n",
       "Челопеч          42.7011  24.0866\n",
       "Ботевград        42.9200  23.7800\n",
       "Радиново         42.1921  24.6428\n",
       "Казачево         43.0805  24.7497\n",
       "Добрич           43.5800  27.8300\n",
       "Монтана          43.4200  23.2300\n",
       "Карлово          42.6600  24.8100\n",
       "Сливен           42.6800  26.3200\n",
       "Девня            43.2300  27.6000\n",
       "Шумен            43.2800  26.9300\n",
       "Враца            43.2200  23.5600\n",
       "Пирдоп           42.7100  24.1900"
      ]
     },
     "execution_count": 5,
     "metadata": {},
     "output_type": "execute_result"
    }
   ],
   "source": [
    "locations = {\n",
    "    'София':[42.6900, 23.3102],\n",
    "    'Варна':[43.2100, 27.9000],\n",
    "    'Пловдив':[42.1500, 24.7500],\n",
    "    'Русе':[43.8500, 25.9800],\n",
    "    'Велико Търново':[43.0900, 25.6300],\n",
    "    'Бургас':[42.2100, 27.4700],\n",
    "    'Божурище':[42.7642, 23.1940],\n",
    "    'Горна Оряховица':[43.1300, 25.7000],\n",
    "    'Стара Загора':[42.4200, 25.6300],\n",
    "    'Благоевград':[42.0300, 23.0900],\n",
    "    'Челопеч':[42.7011, 24.0866],\n",
    "    'Ботевград':[42.9200, 23.7800],\n",
    "    'Радиново':[42.1921, 24.6428],\n",
    "    'Казачево':[43.0805, 24.7497],\n",
    "    'Добрич':[43.5800, 27.8300],\n",
    "    'Монтана':[43.4200, 23.2300],\n",
    "    'Карлово':[42.6600, 24.8100],\n",
    "    'Сливен':[42.6800, 26.3200],\n",
    "    'Девня':[43.2300, 27.6000],\n",
    "    'Шумен':[43.2800, 26.9300],\n",
    "    'Враца':[43.2200, 23.5600],\n",
    "    'Пирдоп':[42.7100, 24.1900],\n",
    "}\n",
    "\n",
    "loc_df = pd.DataFrame.from_dict(locations, orient='index', columns=['lat', 'long'])\n",
    "loc_df"
   ]
  },
  {
   "cell_type": "code",
   "execution_count": 6,
   "metadata": {},
   "outputs": [
    {
     "data": {
      "text/html": [
       "<div>\n",
       "<style scoped>\n",
       "    .dataframe tbody tr th:only-of-type {\n",
       "        vertical-align: middle;\n",
       "    }\n",
       "\n",
       "    .dataframe tbody tr th {\n",
       "        vertical-align: top;\n",
       "    }\n",
       "\n",
       "    .dataframe thead th {\n",
       "        text-align: right;\n",
       "    }\n",
       "</style>\n",
       "<table border=\"1\" class=\"dataframe\">\n",
       "  <thead>\n",
       "    <tr style=\"text-align: right;\">\n",
       "      <th></th>\n",
       "      <th>subm_count</th>\n",
       "      <th>lat</th>\n",
       "      <th>long</th>\n",
       "    </tr>\n",
       "    <tr>\n",
       "      <th>job_location</th>\n",
       "      <th></th>\n",
       "      <th></th>\n",
       "      <th></th>\n",
       "    </tr>\n",
       "  </thead>\n",
       "  <tbody>\n",
       "    <tr>\n",
       "      <th>София</th>\n",
       "      <td>3854</td>\n",
       "      <td>42.6900</td>\n",
       "      <td>23.3102</td>\n",
       "    </tr>\n",
       "    <tr>\n",
       "      <th>Варна</th>\n",
       "      <td>226</td>\n",
       "      <td>43.2100</td>\n",
       "      <td>27.9000</td>\n",
       "    </tr>\n",
       "    <tr>\n",
       "      <th>Пловдив</th>\n",
       "      <td>164</td>\n",
       "      <td>42.1500</td>\n",
       "      <td>24.7500</td>\n",
       "    </tr>\n",
       "    <tr>\n",
       "      <th>Русе</th>\n",
       "      <td>18</td>\n",
       "      <td>43.8500</td>\n",
       "      <td>25.9800</td>\n",
       "    </tr>\n",
       "    <tr>\n",
       "      <th>Велико Търново</th>\n",
       "      <td>15</td>\n",
       "      <td>43.0900</td>\n",
       "      <td>25.6300</td>\n",
       "    </tr>\n",
       "    <tr>\n",
       "      <th>Бургас</th>\n",
       "      <td>8</td>\n",
       "      <td>42.2100</td>\n",
       "      <td>27.4700</td>\n",
       "    </tr>\n",
       "    <tr>\n",
       "      <th>Стара Загора</th>\n",
       "      <td>5</td>\n",
       "      <td>42.4200</td>\n",
       "      <td>25.6300</td>\n",
       "    </tr>\n",
       "    <tr>\n",
       "      <th>Божурище</th>\n",
       "      <td>5</td>\n",
       "      <td>42.7642</td>\n",
       "      <td>23.1940</td>\n",
       "    </tr>\n",
       "    <tr>\n",
       "      <th>Горна Оряховица</th>\n",
       "      <td>5</td>\n",
       "      <td>43.1300</td>\n",
       "      <td>25.7000</td>\n",
       "    </tr>\n",
       "    <tr>\n",
       "      <th>Радиново</th>\n",
       "      <td>4</td>\n",
       "      <td>42.1921</td>\n",
       "      <td>24.6428</td>\n",
       "    </tr>\n",
       "    <tr>\n",
       "      <th>Шумен</th>\n",
       "      <td>4</td>\n",
       "      <td>43.2800</td>\n",
       "      <td>26.9300</td>\n",
       "    </tr>\n",
       "    <tr>\n",
       "      <th>Ботевград</th>\n",
       "      <td>4</td>\n",
       "      <td>42.9200</td>\n",
       "      <td>23.7800</td>\n",
       "    </tr>\n",
       "    <tr>\n",
       "      <th>Благоевград</th>\n",
       "      <td>4</td>\n",
       "      <td>42.0300</td>\n",
       "      <td>23.0900</td>\n",
       "    </tr>\n",
       "    <tr>\n",
       "      <th>Добрич</th>\n",
       "      <td>3</td>\n",
       "      <td>43.5800</td>\n",
       "      <td>27.8300</td>\n",
       "    </tr>\n",
       "    <tr>\n",
       "      <th>Монтана</th>\n",
       "      <td>3</td>\n",
       "      <td>43.4200</td>\n",
       "      <td>23.2300</td>\n",
       "    </tr>\n",
       "    <tr>\n",
       "      <th>Челопеч</th>\n",
       "      <td>3</td>\n",
       "      <td>42.7011</td>\n",
       "      <td>24.0866</td>\n",
       "    </tr>\n",
       "    <tr>\n",
       "      <th>Казачево</th>\n",
       "      <td>2</td>\n",
       "      <td>43.0805</td>\n",
       "      <td>24.7497</td>\n",
       "    </tr>\n",
       "    <tr>\n",
       "      <th>Девня</th>\n",
       "      <td>1</td>\n",
       "      <td>43.2300</td>\n",
       "      <td>27.6000</td>\n",
       "    </tr>\n",
       "    <tr>\n",
       "      <th>Сливен</th>\n",
       "      <td>1</td>\n",
       "      <td>42.6800</td>\n",
       "      <td>26.3200</td>\n",
       "    </tr>\n",
       "    <tr>\n",
       "      <th>Враца</th>\n",
       "      <td>1</td>\n",
       "      <td>43.2200</td>\n",
       "      <td>23.5600</td>\n",
       "    </tr>\n",
       "    <tr>\n",
       "      <th>Пирдоп</th>\n",
       "      <td>1</td>\n",
       "      <td>42.7100</td>\n",
       "      <td>24.1900</td>\n",
       "    </tr>\n",
       "    <tr>\n",
       "      <th>Карлово</th>\n",
       "      <td>1</td>\n",
       "      <td>42.6600</td>\n",
       "      <td>24.8100</td>\n",
       "    </tr>\n",
       "  </tbody>\n",
       "</table>\n",
       "</div>"
      ],
      "text/plain": [
       "                 subm_count      lat     long\n",
       "job_location                                 \n",
       "София                  3854  42.6900  23.3102\n",
       "Варна                   226  43.2100  27.9000\n",
       "Пловдив                 164  42.1500  24.7500\n",
       "Русе                     18  43.8500  25.9800\n",
       "Велико Търново           15  43.0900  25.6300\n",
       "Бургас                    8  42.2100  27.4700\n",
       "Стара Загора              5  42.4200  25.6300\n",
       "Божурище                  5  42.7642  23.1940\n",
       "Горна Оряховица           5  43.1300  25.7000\n",
       "Радиново                  4  42.1921  24.6428\n",
       "Шумен                     4  43.2800  26.9300\n",
       "Ботевград                 4  42.9200  23.7800\n",
       "Благоевград               4  42.0300  23.0900\n",
       "Добрич                    3  43.5800  27.8300\n",
       "Монтана                   3  43.4200  23.2300\n",
       "Челопеч                   3  42.7011  24.0866\n",
       "Казачево                  2  43.0805  24.7497\n",
       "Девня                     1  43.2300  27.6000\n",
       "Сливен                    1  42.6800  26.3200\n",
       "Враца                     1  43.2200  23.5600\n",
       "Пирдоп                    1  42.7100  24.1900\n",
       "Карлово                   1  42.6600  24.8100"
      ]
     },
     "execution_count": 6,
     "metadata": {},
     "output_type": "execute_result"
    }
   ],
   "source": [
    "data_df = data_df.join(loc_df).dropna()\n",
    "data_df"
   ]
  },
  {
   "cell_type": "code",
   "execution_count": 7,
   "metadata": {},
   "outputs": [],
   "source": [
    "ranks = [(0,1),(2,10),(11,50),(51,100),(101,500),(501,10000)]\n",
    "colors = [\n",
    "    DS['colorramp']['acc2'][12],\n",
    "    DS['colorramp']['acc2'][10],\n",
    "    DS['colorramp']['acc2'][8],\n",
    "    DS['colorramp']['acc2'][6],\n",
    "    DS['colorramp']['acc2'][4],\n",
    "    DS['colorramp']['acc2'][2],\n",
    "]\n",
    "data = []\n",
    "scale = 1"
   ]
  },
  {
   "cell_type": "code",
   "execution_count": 8,
   "metadata": {},
   "outputs": [],
   "source": [
    "for i in range(len(ranks)):\n",
    "    lim = ranks[i]\n",
    "    df_sub = data_df[lim[0]:lim[1]]\n",
    "    city = go.Scattergeo(\n",
    "        locationmode='country names',\n",
    "        lon=df_sub['long'],\n",
    "        lat=df_sub['lat'],\n",
    "        text=df_sub['subm_count'],\n",
    "        marker=go.scattergeo.Marker(\n",
    "            size = df_sub['subm_count']/scale,\n",
    "            color = colors[i],\n",
    "            line = go.scattergeo.marker.Line(\n",
    "                width=0.5, \n",
    "                color='rgb(40,40,40)'\n",
    "            ),\n",
    "            sizemode = 'area'\n",
    "        ),\n",
    "        name = '{0} - {1}'.format(lim[0],lim[1]))\n",
    "    data.append(city)"
   ]
  },
  {
   "cell_type": "code",
   "execution_count": 9,
   "metadata": {},
   "outputs": [],
   "source": [
    "layout = go.Layout(\n",
    "    paper_bgcolor=DS['colors']['bg1'],            \n",
    "    plot_bgcolor=DS['colors']['bg1'],\n",
    "    title = 'Data Jobs Locations',\n",
    "    titlefont=DS['chart_fonts']['title'],\n",
    "    font=DS['chart_fonts']['text'],\n",
    "    height=525,\n",
    "    autosize=True,\n",
    "    showlegend=False,\n",
    "    hidesources=True,\n",
    "    geo = go.layout.Geo(\n",
    "        resolution=50,\n",
    "        scope='europe',\n",
    "        projection=go.layout.geo.Projection(\n",
    "            type='mercator',\n",
    "            scale=1,\n",
    "        ),\n",
    "        lonaxis=go.layout.geo.Lonaxis(\n",
    "            range=[20.5, 30.5],\n",
    "        ),\n",
    "        lataxis=go.layout.geo.Lataxis(\n",
    "            range=[41.0,44.5],\n",
    "        ),\n",
    "        center=dict(\n",
    "            lat=42.8,\n",
    "            lon=25.5,\n",
    "        ),\n",
    "        bgcolor=DS['colorramp']['acc1'][1],\n",
    "        showframe=False,\n",
    "        showland=True,\n",
    "        landcolor=DS['colorramp']['acc1'][1],\n",
    "        showocean=True,\n",
    "        oceancolor=DS['colorramp']['acc2'][3],\n",
    "        countrywidth=1.5,\n",
    "        countrycolor=DS['colors']['acc1'],\n",
    "    )\n",
    ")"
   ]
  },
  {
   "cell_type": "code",
   "execution_count": 10,
   "metadata": {
    "scrolled": false
   },
   "outputs": [
    {
     "data": {
      "application/vnd.plotly.v1+json": {
       "config": {
        "linkText": "Export to plot.ly",
        "plotlyServerURL": "https://plot.ly",
        "showLink": false
       },
       "data": [
        {
         "lat": [
          42.69
         ],
         "locationmode": "country names",
         "lon": [
          23.3102
         ],
         "marker": {
          "color": "#557c6c",
          "line": {
           "color": "rgb(40,40,40)",
           "width": 0.5
          },
          "size": [
           3854
          ],
          "sizemode": "area"
         },
         "name": "0 - 1",
         "text": [
          3854
         ],
         "type": "scattergeo"
        },
        {
         "lat": [
          42.15,
          43.85,
          43.09,
          42.21,
          42.42,
          42.7642,
          43.13,
          42.1921
         ],
         "locationmode": "country names",
         "lon": [
          24.75,
          25.98,
          25.63,
          27.47,
          25.63,
          23.194,
          25.7,
          24.6428
         ],
         "marker": {
          "color": "#6a9c87",
          "line": {
           "color": "rgb(40,40,40)",
           "width": 0.5
          },
          "size": [
           164,
           18,
           15,
           8,
           5,
           5,
           5,
           4
          ],
          "sizemode": "area"
         },
         "name": "2 - 10",
         "text": [
          164,
          18,
          15,
          8,
          5,
          5,
          5,
          4
         ],
         "type": "scattergeo"
        },
        {
         "lat": [
          42.92,
          42.03,
          43.58,
          43.42,
          42.7011,
          43.0805,
          43.23,
          42.68,
          43.22,
          42.71,
          42.66
         ],
         "locationmode": "country names",
         "lon": [
          23.78,
          23.09,
          27.83,
          23.23,
          24.0866,
          24.7497,
          27.6,
          26.32,
          23.56,
          24.19,
          24.81
         ],
         "marker": {
          "color": "#80bca3",
          "line": {
           "color": "rgb(40,40,40)",
           "width": 0.5
          },
          "size": [
           4,
           4,
           3,
           3,
           3,
           2,
           1,
           1,
           1,
           1,
           1
          ],
          "sizemode": "area"
         },
         "name": "11 - 50",
         "text": [
          4,
          4,
          3,
          3,
          3,
          2,
          1,
          1,
          1,
          1,
          1
         ],
         "type": "scattergeo"
        },
        {
         "lat": [],
         "locationmode": "country names",
         "lon": [],
         "marker": {
          "color": "#9cc9b4",
          "line": {
           "color": "rgb(40,40,40)",
           "width": 0.5
          },
          "size": [],
          "sizemode": "area"
         },
         "name": "51 - 100",
         "text": [],
         "type": "scattergeo"
        },
        {
         "lat": [],
         "locationmode": "country names",
         "lon": [],
         "marker": {
          "color": "#b8d7c5",
          "line": {
           "color": "rgb(40,40,40)",
           "width": 0.5
          },
          "size": [],
          "sizemode": "area"
         },
         "name": "101 - 500",
         "text": [],
         "type": "scattergeo"
        },
        {
         "lat": [],
         "locationmode": "country names",
         "lon": [],
         "marker": {
          "color": "#d4e5d6",
          "line": {
           "color": "rgb(40,40,40)",
           "width": 0.5
          },
          "size": [],
          "sizemode": "area"
         },
         "name": "501 - 10000",
         "text": [],
         "type": "scattergeo"
        }
       ],
       "layout": {
        "autosize": true,
        "font": {
         "color": "#655643",
         "family": "Fira Sans Condensed",
         "size": 12
        },
        "geo": {
         "bgcolor": "#ecd5bb",
         "center": {
          "lat": 42.8,
          "lon": 25.5
         },
         "countrycolor": "#bf4d28",
         "countrywidth": 1.5,
         "landcolor": "#ecd5bb",
         "lataxis": {
          "range": [
           41,
           44.5
          ]
         },
         "lonaxis": {
          "range": [
           20.5,
           30.5
          ]
         },
         "oceancolor": "#c6decd",
         "projection": {
          "scale": 1,
          "type": "mercator"
         },
         "resolution": 50,
         "scope": "europe",
         "showframe": false,
         "showland": true,
         "showocean": true
        },
        "height": 525,
        "hidesources": true,
        "paper_bgcolor": "#fffaf0",
        "plot_bgcolor": "#fffaf0",
        "showlegend": false,
        "template": {
         "data": {
          "bar": [
           {
            "error_x": {
             "color": "#2a3f5f"
            },
            "error_y": {
             "color": "#2a3f5f"
            },
            "marker": {
             "line": {
              "color": "#E5ECF6",
              "width": 0.5
             }
            },
            "type": "bar"
           }
          ],
          "barpolar": [
           {
            "marker": {
             "line": {
              "color": "#E5ECF6",
              "width": 0.5
             }
            },
            "type": "barpolar"
           }
          ],
          "carpet": [
           {
            "aaxis": {
             "endlinecolor": "#2a3f5f",
             "gridcolor": "white",
             "linecolor": "white",
             "minorgridcolor": "white",
             "startlinecolor": "#2a3f5f"
            },
            "baxis": {
             "endlinecolor": "#2a3f5f",
             "gridcolor": "white",
             "linecolor": "white",
             "minorgridcolor": "white",
             "startlinecolor": "#2a3f5f"
            },
            "type": "carpet"
           }
          ],
          "choropleth": [
           {
            "colorbar": {
             "outlinewidth": 0,
             "ticks": ""
            },
            "type": "choropleth"
           }
          ],
          "contour": [
           {
            "colorbar": {
             "outlinewidth": 0,
             "ticks": ""
            },
            "colorscale": [
             [
              0,
              "#0d0887"
             ],
             [
              0.1111111111111111,
              "#46039f"
             ],
             [
              0.2222222222222222,
              "#7201a8"
             ],
             [
              0.3333333333333333,
              "#9c179e"
             ],
             [
              0.4444444444444444,
              "#bd3786"
             ],
             [
              0.5555555555555556,
              "#d8576b"
             ],
             [
              0.6666666666666666,
              "#ed7953"
             ],
             [
              0.7777777777777778,
              "#fb9f3a"
             ],
             [
              0.8888888888888888,
              "#fdca26"
             ],
             [
              1,
              "#f0f921"
             ]
            ],
            "type": "contour"
           }
          ],
          "contourcarpet": [
           {
            "colorbar": {
             "outlinewidth": 0,
             "ticks": ""
            },
            "type": "contourcarpet"
           }
          ],
          "heatmap": [
           {
            "colorbar": {
             "outlinewidth": 0,
             "ticks": ""
            },
            "colorscale": [
             [
              0,
              "#0d0887"
             ],
             [
              0.1111111111111111,
              "#46039f"
             ],
             [
              0.2222222222222222,
              "#7201a8"
             ],
             [
              0.3333333333333333,
              "#9c179e"
             ],
             [
              0.4444444444444444,
              "#bd3786"
             ],
             [
              0.5555555555555556,
              "#d8576b"
             ],
             [
              0.6666666666666666,
              "#ed7953"
             ],
             [
              0.7777777777777778,
              "#fb9f3a"
             ],
             [
              0.8888888888888888,
              "#fdca26"
             ],
             [
              1,
              "#f0f921"
             ]
            ],
            "type": "heatmap"
           }
          ],
          "heatmapgl": [
           {
            "colorbar": {
             "outlinewidth": 0,
             "ticks": ""
            },
            "colorscale": [
             [
              0,
              "#0d0887"
             ],
             [
              0.1111111111111111,
              "#46039f"
             ],
             [
              0.2222222222222222,
              "#7201a8"
             ],
             [
              0.3333333333333333,
              "#9c179e"
             ],
             [
              0.4444444444444444,
              "#bd3786"
             ],
             [
              0.5555555555555556,
              "#d8576b"
             ],
             [
              0.6666666666666666,
              "#ed7953"
             ],
             [
              0.7777777777777778,
              "#fb9f3a"
             ],
             [
              0.8888888888888888,
              "#fdca26"
             ],
             [
              1,
              "#f0f921"
             ]
            ],
            "type": "heatmapgl"
           }
          ],
          "histogram": [
           {
            "marker": {
             "colorbar": {
              "outlinewidth": 0,
              "ticks": ""
             }
            },
            "type": "histogram"
           }
          ],
          "histogram2d": [
           {
            "colorbar": {
             "outlinewidth": 0,
             "ticks": ""
            },
            "colorscale": [
             [
              0,
              "#0d0887"
             ],
             [
              0.1111111111111111,
              "#46039f"
             ],
             [
              0.2222222222222222,
              "#7201a8"
             ],
             [
              0.3333333333333333,
              "#9c179e"
             ],
             [
              0.4444444444444444,
              "#bd3786"
             ],
             [
              0.5555555555555556,
              "#d8576b"
             ],
             [
              0.6666666666666666,
              "#ed7953"
             ],
             [
              0.7777777777777778,
              "#fb9f3a"
             ],
             [
              0.8888888888888888,
              "#fdca26"
             ],
             [
              1,
              "#f0f921"
             ]
            ],
            "type": "histogram2d"
           }
          ],
          "histogram2dcontour": [
           {
            "colorbar": {
             "outlinewidth": 0,
             "ticks": ""
            },
            "colorscale": [
             [
              0,
              "#0d0887"
             ],
             [
              0.1111111111111111,
              "#46039f"
             ],
             [
              0.2222222222222222,
              "#7201a8"
             ],
             [
              0.3333333333333333,
              "#9c179e"
             ],
             [
              0.4444444444444444,
              "#bd3786"
             ],
             [
              0.5555555555555556,
              "#d8576b"
             ],
             [
              0.6666666666666666,
              "#ed7953"
             ],
             [
              0.7777777777777778,
              "#fb9f3a"
             ],
             [
              0.8888888888888888,
              "#fdca26"
             ],
             [
              1,
              "#f0f921"
             ]
            ],
            "type": "histogram2dcontour"
           }
          ],
          "mesh3d": [
           {
            "colorbar": {
             "outlinewidth": 0,
             "ticks": ""
            },
            "type": "mesh3d"
           }
          ],
          "parcoords": [
           {
            "line": {
             "colorbar": {
              "outlinewidth": 0,
              "ticks": ""
             }
            },
            "type": "parcoords"
           }
          ],
          "pie": [
           {
            "automargin": true,
            "type": "pie"
           }
          ],
          "scatter": [
           {
            "marker": {
             "colorbar": {
              "outlinewidth": 0,
              "ticks": ""
             }
            },
            "type": "scatter"
           }
          ],
          "scatter3d": [
           {
            "line": {
             "colorbar": {
              "outlinewidth": 0,
              "ticks": ""
             }
            },
            "marker": {
             "colorbar": {
              "outlinewidth": 0,
              "ticks": ""
             }
            },
            "type": "scatter3d"
           }
          ],
          "scattercarpet": [
           {
            "marker": {
             "colorbar": {
              "outlinewidth": 0,
              "ticks": ""
             }
            },
            "type": "scattercarpet"
           }
          ],
          "scattergeo": [
           {
            "marker": {
             "colorbar": {
              "outlinewidth": 0,
              "ticks": ""
             }
            },
            "type": "scattergeo"
           }
          ],
          "scattergl": [
           {
            "marker": {
             "colorbar": {
              "outlinewidth": 0,
              "ticks": ""
             }
            },
            "type": "scattergl"
           }
          ],
          "scattermapbox": [
           {
            "marker": {
             "colorbar": {
              "outlinewidth": 0,
              "ticks": ""
             }
            },
            "type": "scattermapbox"
           }
          ],
          "scatterpolar": [
           {
            "marker": {
             "colorbar": {
              "outlinewidth": 0,
              "ticks": ""
             }
            },
            "type": "scatterpolar"
           }
          ],
          "scatterpolargl": [
           {
            "marker": {
             "colorbar": {
              "outlinewidth": 0,
              "ticks": ""
             }
            },
            "type": "scatterpolargl"
           }
          ],
          "scatterternary": [
           {
            "marker": {
             "colorbar": {
              "outlinewidth": 0,
              "ticks": ""
             }
            },
            "type": "scatterternary"
           }
          ],
          "surface": [
           {
            "colorbar": {
             "outlinewidth": 0,
             "ticks": ""
            },
            "colorscale": [
             [
              0,
              "#0d0887"
             ],
             [
              0.1111111111111111,
              "#46039f"
             ],
             [
              0.2222222222222222,
              "#7201a8"
             ],
             [
              0.3333333333333333,
              "#9c179e"
             ],
             [
              0.4444444444444444,
              "#bd3786"
             ],
             [
              0.5555555555555556,
              "#d8576b"
             ],
             [
              0.6666666666666666,
              "#ed7953"
             ],
             [
              0.7777777777777778,
              "#fb9f3a"
             ],
             [
              0.8888888888888888,
              "#fdca26"
             ],
             [
              1,
              "#f0f921"
             ]
            ],
            "type": "surface"
           }
          ],
          "table": [
           {
            "cells": {
             "fill": {
              "color": "#EBF0F8"
             },
             "line": {
              "color": "white"
             }
            },
            "header": {
             "fill": {
              "color": "#C8D4E3"
             },
             "line": {
              "color": "white"
             }
            },
            "type": "table"
           }
          ]
         },
         "layout": {
          "annotationdefaults": {
           "arrowcolor": "#2a3f5f",
           "arrowhead": 0,
           "arrowwidth": 1
          },
          "coloraxis": {
           "colorbar": {
            "outlinewidth": 0,
            "ticks": ""
           }
          },
          "colorscale": {
           "diverging": [
            [
             0,
             "#8e0152"
            ],
            [
             0.1,
             "#c51b7d"
            ],
            [
             0.2,
             "#de77ae"
            ],
            [
             0.3,
             "#f1b6da"
            ],
            [
             0.4,
             "#fde0ef"
            ],
            [
             0.5,
             "#f7f7f7"
            ],
            [
             0.6,
             "#e6f5d0"
            ],
            [
             0.7,
             "#b8e186"
            ],
            [
             0.8,
             "#7fbc41"
            ],
            [
             0.9,
             "#4d9221"
            ],
            [
             1,
             "#276419"
            ]
           ],
           "sequential": [
            [
             0,
             "#0d0887"
            ],
            [
             0.1111111111111111,
             "#46039f"
            ],
            [
             0.2222222222222222,
             "#7201a8"
            ],
            [
             0.3333333333333333,
             "#9c179e"
            ],
            [
             0.4444444444444444,
             "#bd3786"
            ],
            [
             0.5555555555555556,
             "#d8576b"
            ],
            [
             0.6666666666666666,
             "#ed7953"
            ],
            [
             0.7777777777777778,
             "#fb9f3a"
            ],
            [
             0.8888888888888888,
             "#fdca26"
            ],
            [
             1,
             "#f0f921"
            ]
           ],
           "sequentialminus": [
            [
             0,
             "#0d0887"
            ],
            [
             0.1111111111111111,
             "#46039f"
            ],
            [
             0.2222222222222222,
             "#7201a8"
            ],
            [
             0.3333333333333333,
             "#9c179e"
            ],
            [
             0.4444444444444444,
             "#bd3786"
            ],
            [
             0.5555555555555556,
             "#d8576b"
            ],
            [
             0.6666666666666666,
             "#ed7953"
            ],
            [
             0.7777777777777778,
             "#fb9f3a"
            ],
            [
             0.8888888888888888,
             "#fdca26"
            ],
            [
             1,
             "#f0f921"
            ]
           ]
          },
          "colorway": [
           "#636efa",
           "#EF553B",
           "#00cc96",
           "#ab63fa",
           "#FFA15A",
           "#19d3f3",
           "#FF6692",
           "#B6E880",
           "#FF97FF",
           "#FECB52"
          ],
          "font": {
           "color": "#2a3f5f"
          },
          "geo": {
           "bgcolor": "white",
           "lakecolor": "white",
           "landcolor": "#E5ECF6",
           "showlakes": true,
           "showland": true,
           "subunitcolor": "white"
          },
          "hoverlabel": {
           "align": "left"
          },
          "hovermode": "closest",
          "mapbox": {
           "style": "light"
          },
          "paper_bgcolor": "white",
          "plot_bgcolor": "#E5ECF6",
          "polar": {
           "angularaxis": {
            "gridcolor": "white",
            "linecolor": "white",
            "ticks": ""
           },
           "bgcolor": "#E5ECF6",
           "radialaxis": {
            "gridcolor": "white",
            "linecolor": "white",
            "ticks": ""
           }
          },
          "scene": {
           "xaxis": {
            "backgroundcolor": "#E5ECF6",
            "gridcolor": "white",
            "gridwidth": 2,
            "linecolor": "white",
            "showbackground": true,
            "ticks": "",
            "zerolinecolor": "white"
           },
           "yaxis": {
            "backgroundcolor": "#E5ECF6",
            "gridcolor": "white",
            "gridwidth": 2,
            "linecolor": "white",
            "showbackground": true,
            "ticks": "",
            "zerolinecolor": "white"
           },
           "zaxis": {
            "backgroundcolor": "#E5ECF6",
            "gridcolor": "white",
            "gridwidth": 2,
            "linecolor": "white",
            "showbackground": true,
            "ticks": "",
            "zerolinecolor": "white"
           }
          },
          "shapedefaults": {
           "line": {
            "color": "#2a3f5f"
           }
          },
          "ternary": {
           "aaxis": {
            "gridcolor": "white",
            "linecolor": "white",
            "ticks": ""
           },
           "baxis": {
            "gridcolor": "white",
            "linecolor": "white",
            "ticks": ""
           },
           "bgcolor": "#E5ECF6",
           "caxis": {
            "gridcolor": "white",
            "linecolor": "white",
            "ticks": ""
           }
          },
          "title": {
           "x": 0.05
          },
          "xaxis": {
           "automargin": true,
           "gridcolor": "white",
           "linecolor": "white",
           "ticks": "",
           "title": {
            "standoff": 15
           },
           "zerolinecolor": "white",
           "zerolinewidth": 2
          },
          "yaxis": {
           "automargin": true,
           "gridcolor": "white",
           "linecolor": "white",
           "ticks": "",
           "title": {
            "standoff": 15
           },
           "zerolinecolor": "white",
           "zerolinewidth": 2
          }
         }
        },
        "title": {
         "font": {
          "color": "#655643",
          "family": "Merryweather",
          "size": 18
         },
         "text": "Data Jobs Locations"
        }
       }
      },
      "text/html": [
       "<div>\n",
       "        \n",
       "        \n",
       "            <div id=\"dbaa8f55-019f-4362-9e10-03564bb60d6e\" class=\"plotly-graph-div\" style=\"height:525px; width:100%;\"></div>\n",
       "            <script type=\"text/javascript\">\n",
       "                require([\"plotly\"], function(Plotly) {\n",
       "                    window.PLOTLYENV=window.PLOTLYENV || {};\n",
       "                    \n",
       "                if (document.getElementById(\"dbaa8f55-019f-4362-9e10-03564bb60d6e\")) {\n",
       "                    Plotly.newPlot(\n",
       "                        'dbaa8f55-019f-4362-9e10-03564bb60d6e',\n",
       "                        [{\"lat\": [42.69], \"locationmode\": \"country names\", \"lon\": [23.3102], \"marker\": {\"color\": \"#557c6c\", \"line\": {\"color\": \"rgb(40,40,40)\", \"width\": 0.5}, \"size\": [3854.0], \"sizemode\": \"area\"}, \"name\": \"0 - 1\", \"text\": [3854.0], \"type\": \"scattergeo\"}, {\"lat\": [42.15, 43.85, 43.09, 42.21, 42.42, 42.7642, 43.13, 42.1921], \"locationmode\": \"country names\", \"lon\": [24.75, 25.98, 25.63, 27.47, 25.63, 23.194, 25.7, 24.6428], \"marker\": {\"color\": \"#6a9c87\", \"line\": {\"color\": \"rgb(40,40,40)\", \"width\": 0.5}, \"size\": [164.0, 18.0, 15.0, 8.0, 5.0, 5.0, 5.0, 4.0], \"sizemode\": \"area\"}, \"name\": \"2 - 10\", \"text\": [164.0, 18.0, 15.0, 8.0, 5.0, 5.0, 5.0, 4.0], \"type\": \"scattergeo\"}, {\"lat\": [42.92, 42.03, 43.58, 43.42, 42.7011, 43.0805, 43.23, 42.68, 43.22, 42.71, 42.66], \"locationmode\": \"country names\", \"lon\": [23.78, 23.09, 27.83, 23.23, 24.0866, 24.7497, 27.6, 26.32, 23.56, 24.19, 24.81], \"marker\": {\"color\": \"#80bca3\", \"line\": {\"color\": \"rgb(40,40,40)\", \"width\": 0.5}, \"size\": [4.0, 4.0, 3.0, 3.0, 3.0, 2.0, 1.0, 1.0, 1.0, 1.0, 1.0], \"sizemode\": \"area\"}, \"name\": \"11 - 50\", \"text\": [4.0, 4.0, 3.0, 3.0, 3.0, 2.0, 1.0, 1.0, 1.0, 1.0, 1.0], \"type\": \"scattergeo\"}, {\"lat\": [], \"locationmode\": \"country names\", \"lon\": [], \"marker\": {\"color\": \"#9cc9b4\", \"line\": {\"color\": \"rgb(40,40,40)\", \"width\": 0.5}, \"size\": [], \"sizemode\": \"area\"}, \"name\": \"51 - 100\", \"text\": [], \"type\": \"scattergeo\"}, {\"lat\": [], \"locationmode\": \"country names\", \"lon\": [], \"marker\": {\"color\": \"#b8d7c5\", \"line\": {\"color\": \"rgb(40,40,40)\", \"width\": 0.5}, \"size\": [], \"sizemode\": \"area\"}, \"name\": \"101 - 500\", \"text\": [], \"type\": \"scattergeo\"}, {\"lat\": [], \"locationmode\": \"country names\", \"lon\": [], \"marker\": {\"color\": \"#d4e5d6\", \"line\": {\"color\": \"rgb(40,40,40)\", \"width\": 0.5}, \"size\": [], \"sizemode\": \"area\"}, \"name\": \"501 - 10000\", \"text\": [], \"type\": \"scattergeo\"}],\n",
       "                        {\"autosize\": true, \"font\": {\"color\": \"#655643\", \"family\": \"Fira Sans Condensed\", \"size\": 12}, \"geo\": {\"bgcolor\": \"#ecd5bb\", \"center\": {\"lat\": 42.8, \"lon\": 25.5}, \"countrycolor\": \"#bf4d28\", \"countrywidth\": 1.5, \"landcolor\": \"#ecd5bb\", \"lataxis\": {\"range\": [41.0, 44.5]}, \"lonaxis\": {\"range\": [20.5, 30.5]}, \"oceancolor\": \"#c6decd\", \"projection\": {\"scale\": 1, \"type\": \"mercator\"}, \"resolution\": 50, \"scope\": \"europe\", \"showframe\": false, \"showland\": true, \"showocean\": true}, \"height\": 525, \"hidesources\": true, \"paper_bgcolor\": \"#fffaf0\", \"plot_bgcolor\": \"#fffaf0\", \"showlegend\": false, \"template\": {\"data\": {\"bar\": [{\"error_x\": {\"color\": \"#2a3f5f\"}, \"error_y\": {\"color\": \"#2a3f5f\"}, \"marker\": {\"line\": {\"color\": \"#E5ECF6\", \"width\": 0.5}}, \"type\": \"bar\"}], \"barpolar\": [{\"marker\": {\"line\": {\"color\": \"#E5ECF6\", \"width\": 0.5}}, \"type\": \"barpolar\"}], \"carpet\": [{\"aaxis\": {\"endlinecolor\": \"#2a3f5f\", \"gridcolor\": \"white\", \"linecolor\": \"white\", \"minorgridcolor\": \"white\", \"startlinecolor\": \"#2a3f5f\"}, \"baxis\": {\"endlinecolor\": \"#2a3f5f\", \"gridcolor\": \"white\", \"linecolor\": \"white\", \"minorgridcolor\": \"white\", \"startlinecolor\": \"#2a3f5f\"}, \"type\": \"carpet\"}], \"choropleth\": [{\"colorbar\": {\"outlinewidth\": 0, \"ticks\": \"\"}, \"type\": \"choropleth\"}], \"contour\": [{\"colorbar\": {\"outlinewidth\": 0, \"ticks\": \"\"}, \"colorscale\": [[0.0, \"#0d0887\"], [0.1111111111111111, \"#46039f\"], [0.2222222222222222, \"#7201a8\"], [0.3333333333333333, \"#9c179e\"], [0.4444444444444444, \"#bd3786\"], [0.5555555555555556, \"#d8576b\"], [0.6666666666666666, \"#ed7953\"], [0.7777777777777778, \"#fb9f3a\"], [0.8888888888888888, \"#fdca26\"], [1.0, \"#f0f921\"]], \"type\": \"contour\"}], \"contourcarpet\": [{\"colorbar\": {\"outlinewidth\": 0, \"ticks\": \"\"}, \"type\": \"contourcarpet\"}], \"heatmap\": [{\"colorbar\": {\"outlinewidth\": 0, \"ticks\": \"\"}, \"colorscale\": [[0.0, \"#0d0887\"], [0.1111111111111111, \"#46039f\"], [0.2222222222222222, \"#7201a8\"], [0.3333333333333333, \"#9c179e\"], [0.4444444444444444, \"#bd3786\"], [0.5555555555555556, \"#d8576b\"], [0.6666666666666666, \"#ed7953\"], [0.7777777777777778, \"#fb9f3a\"], [0.8888888888888888, \"#fdca26\"], [1.0, \"#f0f921\"]], \"type\": \"heatmap\"}], \"heatmapgl\": [{\"colorbar\": {\"outlinewidth\": 0, \"ticks\": \"\"}, \"colorscale\": [[0.0, \"#0d0887\"], [0.1111111111111111, \"#46039f\"], [0.2222222222222222, \"#7201a8\"], [0.3333333333333333, \"#9c179e\"], [0.4444444444444444, \"#bd3786\"], [0.5555555555555556, \"#d8576b\"], [0.6666666666666666, \"#ed7953\"], [0.7777777777777778, \"#fb9f3a\"], [0.8888888888888888, \"#fdca26\"], [1.0, \"#f0f921\"]], \"type\": \"heatmapgl\"}], \"histogram\": [{\"marker\": {\"colorbar\": {\"outlinewidth\": 0, \"ticks\": \"\"}}, \"type\": \"histogram\"}], \"histogram2d\": [{\"colorbar\": {\"outlinewidth\": 0, \"ticks\": \"\"}, \"colorscale\": [[0.0, \"#0d0887\"], [0.1111111111111111, \"#46039f\"], [0.2222222222222222, \"#7201a8\"], [0.3333333333333333, \"#9c179e\"], [0.4444444444444444, \"#bd3786\"], [0.5555555555555556, \"#d8576b\"], [0.6666666666666666, \"#ed7953\"], [0.7777777777777778, \"#fb9f3a\"], [0.8888888888888888, \"#fdca26\"], [1.0, \"#f0f921\"]], \"type\": \"histogram2d\"}], \"histogram2dcontour\": [{\"colorbar\": {\"outlinewidth\": 0, \"ticks\": \"\"}, \"colorscale\": [[0.0, \"#0d0887\"], [0.1111111111111111, \"#46039f\"], [0.2222222222222222, \"#7201a8\"], [0.3333333333333333, \"#9c179e\"], [0.4444444444444444, \"#bd3786\"], [0.5555555555555556, \"#d8576b\"], [0.6666666666666666, \"#ed7953\"], [0.7777777777777778, \"#fb9f3a\"], [0.8888888888888888, \"#fdca26\"], [1.0, \"#f0f921\"]], \"type\": \"histogram2dcontour\"}], \"mesh3d\": [{\"colorbar\": {\"outlinewidth\": 0, \"ticks\": \"\"}, \"type\": \"mesh3d\"}], \"parcoords\": [{\"line\": {\"colorbar\": {\"outlinewidth\": 0, \"ticks\": \"\"}}, \"type\": \"parcoords\"}], \"pie\": [{\"automargin\": true, \"type\": \"pie\"}], \"scatter\": [{\"marker\": {\"colorbar\": {\"outlinewidth\": 0, \"ticks\": \"\"}}, \"type\": \"scatter\"}], \"scatter3d\": [{\"line\": {\"colorbar\": {\"outlinewidth\": 0, \"ticks\": \"\"}}, \"marker\": {\"colorbar\": {\"outlinewidth\": 0, \"ticks\": \"\"}}, \"type\": \"scatter3d\"}], \"scattercarpet\": [{\"marker\": {\"colorbar\": {\"outlinewidth\": 0, \"ticks\": \"\"}}, \"type\": \"scattercarpet\"}], \"scattergeo\": [{\"marker\": {\"colorbar\": {\"outlinewidth\": 0, \"ticks\": \"\"}}, \"type\": \"scattergeo\"}], \"scattergl\": [{\"marker\": {\"colorbar\": {\"outlinewidth\": 0, \"ticks\": \"\"}}, \"type\": \"scattergl\"}], \"scattermapbox\": [{\"marker\": {\"colorbar\": {\"outlinewidth\": 0, \"ticks\": \"\"}}, \"type\": \"scattermapbox\"}], \"scatterpolar\": [{\"marker\": {\"colorbar\": {\"outlinewidth\": 0, \"ticks\": \"\"}}, \"type\": \"scatterpolar\"}], \"scatterpolargl\": [{\"marker\": {\"colorbar\": {\"outlinewidth\": 0, \"ticks\": \"\"}}, \"type\": \"scatterpolargl\"}], \"scatterternary\": [{\"marker\": {\"colorbar\": {\"outlinewidth\": 0, \"ticks\": \"\"}}, \"type\": \"scatterternary\"}], \"surface\": [{\"colorbar\": {\"outlinewidth\": 0, \"ticks\": \"\"}, \"colorscale\": [[0.0, \"#0d0887\"], [0.1111111111111111, \"#46039f\"], [0.2222222222222222, \"#7201a8\"], [0.3333333333333333, \"#9c179e\"], [0.4444444444444444, \"#bd3786\"], [0.5555555555555556, \"#d8576b\"], [0.6666666666666666, \"#ed7953\"], [0.7777777777777778, \"#fb9f3a\"], [0.8888888888888888, \"#fdca26\"], [1.0, \"#f0f921\"]], \"type\": \"surface\"}], \"table\": [{\"cells\": {\"fill\": {\"color\": \"#EBF0F8\"}, \"line\": {\"color\": \"white\"}}, \"header\": {\"fill\": {\"color\": \"#C8D4E3\"}, \"line\": {\"color\": \"white\"}}, \"type\": \"table\"}]}, \"layout\": {\"annotationdefaults\": {\"arrowcolor\": \"#2a3f5f\", \"arrowhead\": 0, \"arrowwidth\": 1}, \"coloraxis\": {\"colorbar\": {\"outlinewidth\": 0, \"ticks\": \"\"}}, \"colorscale\": {\"diverging\": [[0, \"#8e0152\"], [0.1, \"#c51b7d\"], [0.2, \"#de77ae\"], [0.3, \"#f1b6da\"], [0.4, \"#fde0ef\"], [0.5, \"#f7f7f7\"], [0.6, \"#e6f5d0\"], [0.7, \"#b8e186\"], [0.8, \"#7fbc41\"], [0.9, \"#4d9221\"], [1, \"#276419\"]], \"sequential\": [[0.0, \"#0d0887\"], [0.1111111111111111, \"#46039f\"], [0.2222222222222222, \"#7201a8\"], [0.3333333333333333, \"#9c179e\"], [0.4444444444444444, \"#bd3786\"], [0.5555555555555556, \"#d8576b\"], [0.6666666666666666, \"#ed7953\"], [0.7777777777777778, \"#fb9f3a\"], [0.8888888888888888, \"#fdca26\"], [1.0, \"#f0f921\"]], \"sequentialminus\": [[0.0, \"#0d0887\"], [0.1111111111111111, \"#46039f\"], [0.2222222222222222, \"#7201a8\"], [0.3333333333333333, \"#9c179e\"], [0.4444444444444444, \"#bd3786\"], [0.5555555555555556, \"#d8576b\"], [0.6666666666666666, \"#ed7953\"], [0.7777777777777778, \"#fb9f3a\"], [0.8888888888888888, \"#fdca26\"], [1.0, \"#f0f921\"]]}, \"colorway\": [\"#636efa\", \"#EF553B\", \"#00cc96\", \"#ab63fa\", \"#FFA15A\", \"#19d3f3\", \"#FF6692\", \"#B6E880\", \"#FF97FF\", \"#FECB52\"], \"font\": {\"color\": \"#2a3f5f\"}, \"geo\": {\"bgcolor\": \"white\", \"lakecolor\": \"white\", \"landcolor\": \"#E5ECF6\", \"showlakes\": true, \"showland\": true, \"subunitcolor\": \"white\"}, \"hoverlabel\": {\"align\": \"left\"}, \"hovermode\": \"closest\", \"mapbox\": {\"style\": \"light\"}, \"paper_bgcolor\": \"white\", \"plot_bgcolor\": \"#E5ECF6\", \"polar\": {\"angularaxis\": {\"gridcolor\": \"white\", \"linecolor\": \"white\", \"ticks\": \"\"}, \"bgcolor\": \"#E5ECF6\", \"radialaxis\": {\"gridcolor\": \"white\", \"linecolor\": \"white\", \"ticks\": \"\"}}, \"scene\": {\"xaxis\": {\"backgroundcolor\": \"#E5ECF6\", \"gridcolor\": \"white\", \"gridwidth\": 2, \"linecolor\": \"white\", \"showbackground\": true, \"ticks\": \"\", \"zerolinecolor\": \"white\"}, \"yaxis\": {\"backgroundcolor\": \"#E5ECF6\", \"gridcolor\": \"white\", \"gridwidth\": 2, \"linecolor\": \"white\", \"showbackground\": true, \"ticks\": \"\", \"zerolinecolor\": \"white\"}, \"zaxis\": {\"backgroundcolor\": \"#E5ECF6\", \"gridcolor\": \"white\", \"gridwidth\": 2, \"linecolor\": \"white\", \"showbackground\": true, \"ticks\": \"\", \"zerolinecolor\": \"white\"}}, \"shapedefaults\": {\"line\": {\"color\": \"#2a3f5f\"}}, \"ternary\": {\"aaxis\": {\"gridcolor\": \"white\", \"linecolor\": \"white\", \"ticks\": \"\"}, \"baxis\": {\"gridcolor\": \"white\", \"linecolor\": \"white\", \"ticks\": \"\"}, \"bgcolor\": \"#E5ECF6\", \"caxis\": {\"gridcolor\": \"white\", \"linecolor\": \"white\", \"ticks\": \"\"}}, \"title\": {\"x\": 0.05}, \"xaxis\": {\"automargin\": true, \"gridcolor\": \"white\", \"linecolor\": \"white\", \"ticks\": \"\", \"title\": {\"standoff\": 15}, \"zerolinecolor\": \"white\", \"zerolinewidth\": 2}, \"yaxis\": {\"automargin\": true, \"gridcolor\": \"white\", \"linecolor\": \"white\", \"ticks\": \"\", \"title\": {\"standoff\": 15}, \"zerolinecolor\": \"white\", \"zerolinewidth\": 2}}}, \"title\": {\"font\": {\"color\": \"#655643\", \"family\": \"Merryweather\", \"size\": 18}, \"text\": \"Data Jobs Locations\"}},\n",
       "                        {\"responsive\": true}\n",
       "                    ).then(function(){\n",
       "                            \n",
       "var gd = document.getElementById('dbaa8f55-019f-4362-9e10-03564bb60d6e');\n",
       "var x = new MutationObserver(function (mutations, observer) {{\n",
       "        var display = window.getComputedStyle(gd).display;\n",
       "        if (!display || display === 'none') {{\n",
       "            console.log([gd, 'removed!']);\n",
       "            Plotly.purge(gd);\n",
       "            observer.disconnect();\n",
       "        }}\n",
       "}});\n",
       "\n",
       "// Listen for the removal of the full notebook cells\n",
       "var notebookContainer = gd.closest('#notebook-container');\n",
       "if (notebookContainer) {{\n",
       "    x.observe(notebookContainer, {childList: true});\n",
       "}}\n",
       "\n",
       "// Listen for the clearing of the current output cell\n",
       "var outputEl = gd.closest('.output');\n",
       "if (outputEl) {{\n",
       "    x.observe(outputEl, {childList: true});\n",
       "}}\n",
       "\n",
       "                        })\n",
       "                };\n",
       "                });\n",
       "            </script>\n",
       "        </div>"
      ]
     },
     "metadata": {},
     "output_type": "display_data"
    }
   ],
   "source": [
    "fig = go.Figure(data=data, layout=layout)\n",
    "\n",
    "plotly.offline.iplot(fig, filename='data_offers_total_submissions_by_location.html')"
   ]
  },
  {
   "cell_type": "code",
   "execution_count": 11,
   "metadata": {},
   "outputs": [
    {
     "data": {
      "text/plain": [
       "'data_offers_total_submissions_by_location.html'"
      ]
     },
     "execution_count": 11,
     "metadata": {},
     "output_type": "execute_result"
    }
   ],
   "source": [
    "# Uncomment the line below to export an HTML version of the chart.\n",
    "plotly.offline.plot(fig, filename='data_offers_total_submissions_by_location.html', show_link=False)"
   ]
  },
  {
   "cell_type": "code",
   "execution_count": 12,
   "metadata": {},
   "outputs": [
    {
     "data": {
      "text/html": [
       "<style>\n",
       "@import url('https://fonts.googleapis.com/css?family=Fira+Mono|Fira+Sans|Fira+Sans+Condensed|Fira+Sans+Extra+Condensed');\n",
       "@import url('https://fonts.googleapis.com/css?family=Merriweather|Merriweather+Sans');\n",
       "\n",
       ".nbviewer {\n",
       "    background-color: #E5E1D8;\n",
       "}\n",
       "\n",
       "#notebook {\n",
       "    background-color: #E5E1D8;\n",
       "}\n",
       "\n",
       "#notebook-container {\n",
       "    background-color: #FFFAF0;\n",
       "    max-width: 1100px;\n",
       "    padding: 50px;\n",
       "    border-radius: 4px;\n",
       "    -webkit-box-shadow: 0px 0px 12px 1px rgba(101,86,67,0.75);\n",
       "    -moz-box-shadow: 0px 0px 12px 1px rgba(101,86,67,0.75);\n",
       "    box-shadow: 0px 0px 12px 1px rgba(101,86,67,0.75);\n",
       "}\n",
       "\n",
       "/* Jupyter Notebook Header Styling */\n",
       "body > #header {\n",
       "    background-color:#fafafa;\n",
       "}\n",
       "\n",
       "#header #menubar #menus {\n",
       "    background-color:#fefefe;\n",
       "}\n",
       "\n",
       "/* Headings */\n",
       ".text_cell_render h1 {\n",
       "    color: #655B4F;\n",
       "    font-family: 'Merriweather', serif;\n",
       "    font-weight: 900;\n",
       "    text-align: center;\n",
       "    font-size: 2.5em;\n",
       "    padding: 40px 0 12px 0;\n",
       "    text-shadow: 0 2px #FFFAF0, 0 3px #8c8b8b;\n",
       "}\n",
       "\n",
       ".text_cell_render h2 {\n",
       "    color: #655B4F;\n",
       "    font-family: 'Merriweather', serif;\n",
       "    font-weight: 600;\n",
       "    font-size: 2.2em;\n",
       "    text-indent: 22px;\n",
       "    padding: 40px 0 6px 0;\n",
       "    margin-bottom: 24px;\n",
       "    border-bottom: 1px solid #655B4F;\n",
       "}\n",
       "\n",
       ".text_cell_render h3 {\n",
       "    color: #655B4F;\n",
       "    font-family: 'Merriweather', serif;\n",
       "    font-weight: 300;\n",
       "    padding: 6px 0 0 0;\n",
       "    font-size: 1.6em;\n",
       "}\n",
       "\n",
       ".text_cell_render h4 {\n",
       "    color: #655B4F;\n",
       "    font-family: 'Merriweather', serif;\n",
       "    font-weight: 100;\n",
       "    font-size: 1.2em;\n",
       "}\n",
       "\n",
       "/* Use for subtitles and other non-headings */\n",
       "div.rendered_html > h5 {\n",
       "    font-family: 'Merriweather', serif;\n",
       "    line-height: 1.5em;\n",
       "    color: #655B4F;\n",
       "    font-weight: 200;\n",
       "    font-style: normal important!;\n",
       "    text-indent: 22px;\n",
       "    text-align: center;\n",
       "    margin-top: 0.5em;\n",
       "    padding: 6px 0 6px 0;\n",
       "    border-bottom: 1px solid #655B4F;\n",
       "    border-top: 1px solid #655B4F;\n",
       "}\n",
       "\n",
       "/* Use for image and chart captions */\n",
       "div.rendered_html > h6 {\n",
       "    font-family: 'Merriweather Sans', sans-serif;\n",
       "    font-size: 0.9em;\n",
       "    line-height: 1.5em;\n",
       "    color: #cac8c9;\n",
       "    font-weight: normal;\n",
       "    max-width: 525px;\n",
       "    display: block;\n",
       "    margin-left: auto;\n",
       "    margin-right: auto;\n",
       "}\n",
       "\n",
       "div#notebook-container p {\n",
       "    font-family: 'Fira Sans Condensed', sans-serif;\n",
       "    font-size: 1.2em;\n",
       "    line-height: 1.3em;\n",
       "    color: #655B4F;\n",
       "}\n",
       "\n",
       "/* Plotly Exported Charts Styling */\n",
       ".js-plotly-plot .plotly,\n",
       ".js-plotly-plot .plotly div {\n",
       "    direction: ltr;\n",
       "    font-family: \"Fira Sans Extra Condensed\", verdana, arial, sans-serif;\n",
       "}\n",
       "\n",
       "/* Lists */\n",
       "ol, ul {\n",
       "    font-family: 'Fira Sans Condensed', sans-serif;\n",
       "    line-height: 1.3em;\n",
       "    color: #655B4F;\n",
       "}\n",
       "\n",
       "div.input_prompt {\n",
       "    color: #aad0bc;\n",
       "    font-size: 0.7em;\n",
       "}\n",
       "\n",
       "div.output_prompt {\n",
       "    color: #aad0bc;\n",
       "    font-size: 0.7em;\n",
       "}\n",
       "\n",
       "div.prompt {\n",
       "    min-width: 2ex;\n",
       "}\n",
       "\n",
       "div.output_subarea {\n",
       "    min-width: 425px;\n",
       "    max-width: calc(100% - 1ex);\n",
       "    padding: 0;\n",
       "}\n",
       "\n",
       "div.text_cell code {\n",
       "    padding: 2px;\n",
       "    background-color: #E5E1D8;\n",
       "    color: #483F3A;\n",
       "    font-family: 'Fira Mono', monospace;\n",
       "    font-size: 0.9em;\n",
       "}\n",
       "\n",
       "div.input_area {\n",
       "    background-color: #FFFAF0;\n",
       "    border: 1px solid #E5E1D8;\n",
       "    background: repeating-linear-gradient(135deg, #FFFAF0, #FFFAF0 5px, #F7F7ED 5px, #F7F7ED 10px);\n",
       "}\n",
       "\n",
       "div.cell.rendered.selected {\n",
       "    background: #F7F7ED;\n",
       "    border: 1px solid #293C34;\n",
       "}\n",
       "\n",
       "div.output_area img {\n",
       "    display: block;\n",
       "    margin-left: auto;\n",
       "    margin-right: auto;\n",
       "}\n",
       "\n",
       "div.rendered_html pre, code {\n",
       "    font-family: 'Fira Sans Condensed', sans-serif;\n",
       "    font-size: 16px;\n",
       "    font-weight: 400;\n",
       "    color: #40362F;\n",
       "    background-color: #E5E1D8;\n",
       "}\n",
       "\n",
       "div.output_text pre {\n",
       "    font-family: 'Fira Sans Condensed', sans-serif;\n",
       "    font-size: 13px;\n",
       "    font-weight: 300;\n",
       "    color: #40362F;\n",
       "}\n",
       "\n",
       "\n",
       "pre, textarea {\n",
       "    overflow: hidden;\n",
       "}\n",
       "\n",
       "div.text_cell_render img {\n",
       "    max-height: 550px;\n",
       "    display: block;\n",
       "    margin-left: auto;\n",
       "    margin-right: auto;\n",
       "}\n",
       "\n",
       "div.output output_scroll {\n",
       "    overflow-x: auto;\n",
       "    overflow-y: scroll;\n",
       "    max-height: 2000px;\n",
       "}\n",
       "\n",
       "div.rendered_html hr {\n",
       "    border: 0;\n",
       "    height: 1px;\n",
       "    background-color: #655B4F;\n",
       "}\n",
       "\n",
       "div.rendered_html pre, code {\n",
       "    color: #40362F;\n",
       "    background-color: #FFFAF0;\n",
       "}\n",
       "\n",
       "/* Links */\n",
       "a.link--embedview {\n",
       "    display: none;\n",
       "}\n",
       "\n",
       "a:link {\n",
       "    color: #293C34;\n",
       "}\n",
       "\n",
       "a:visited {\n",
       "    color: #293C34;\n",
       "}\n",
       "\n",
       "a:hover {\n",
       "    color: #557C6C;\n",
       "}\n",
       "\n",
       "a:focus {\n",
       "    color:#557C6C;\n",
       "}\n",
       "\n",
       "a:active {\n",
       "    font-weight: bold;\n",
       "    color:#80BCA3;\n",
       "}\n",
       "\n",
       ".rendered_html :link {\n",
       "    text-decoration: underline;\n",
       "}\n",
       "\n",
       "/* Colors for code highlighting */\n",
       ".CodeMirror pre {\n",
       "    font-family: 'Fira Mono', monospace;\n",
       "    font-size: 0.9em;\n",
       "    font-weight: 600;\n",
       "}\n",
       "\n",
       ".CodeMirror-code span.cm-keyword,\n",
       ".highlight .k,\n",
       ".highlight .ow {\n",
       "    color: #5F362E;\n",
       "}\n",
       "\n",
       ".CodeMirror-code span.cm-variable,\n",
       ".highlight .na {\n",
       "    color: #655B4F;\n",
       "}\n",
       "\n",
       ".CodeMirror-code span.cm-property {\n",
       "    color: #655B4F;\n",
       "}\n",
       "\n",
       ".CodeMirror-code span.cm-def {\n",
       "    color: #293C34;\n",
       "}\n",
       "\n",
       ".CodeMirror-code span.cm-operator {\n",
       "    color: #655B4F;\n",
       "}\n",
       "\n",
       ".CodeMirror-code span.cm-string,\n",
       ".highlight .s {\n",
       "    color: #0B7761;\n",
       "}\n",
       "\n",
       ".CodeMirror-code span.cm-number,\n",
       ".highlight .mb, .highlight .mf, .highlight .mh, .highlight .mi, .highlight .mo {\n",
       "    color: #265BCA;\n",
       "}\n",
       "\n",
       ".CodeMirror-code span.cm-comment,\n",
       ".highlight .c1, .highlight .cs {\n",
       "    color: #75AC95;\n",
       "}\n",
       "\n",
       ".CodeMirror-code span.cm-builtin,\n",
       ".highlight .nb {\n",
       "    color: #5F362E;\n",
       "}\n",
       "\n",
       "/* Code with no class applied (brackets mostly) */\n",
       ".CodeMirror-line > span {\n",
       "    color: #72614B;\n",
       "}\n",
       "\n",
       "/* Table styles */\n",
       "table {\n",
       "    border: 1px solid #BF4D28;\n",
       "}\n",
       "\n",
       "\n",
       ".rendered_html table th {\n",
       "    color: #40362F;\n",
       "    text-align: left;\n",
       "    background-color: #f2e6ce;\n",
       "}\n",
       "\n",
       ".rendered_html td {\n",
       "    color: #40362F;\n",
       "    text-align: left;\n",
       "}\n",
       "\n",
       ".rendered_html table tr:nth-child(odd) {\n",
       "    background-color: #F7F7ED;\n",
       "}\n",
       "\n",
       ".rendered_html table tr:nth-child(even) {\n",
       "    background-color: #FFFAF0;\n",
       "}\n",
       "\n",
       "iframe {\n",
       "    border-width: 0;\n",
       "}\n",
       "\n",
       "@media only screen and (max-width: 600px) {\n",
       "    #notebook-container {\n",
       "        background-color: #FFFAF0;\n",
       "        padding: 15px;\n",
       "        border-radius: 4px;\n",
       "        -webkit-box-shadow: 0px 0px 12px 1px rgba(101,86,67,0.75);\n",
       "        -moz-box-shadow: 0px 0px 12px 1px rgba(101,86,67,0.75);\n",
       "        box-shadow: 0px 0px 12px 1px rgba(101,86,67,0.75);\n",
       "    }\n",
       "\n",
       "    .text_cell_render h1,\n",
       "    .text_cell_render h2 {\n",
       "        text-indent: 0;\n",
       "        text-align: left;\n",
       "        padding: 40px 22px 12px 22px;\n",
       "    }\n",
       "}\n",
       "\n",
       "</style>\n"
      ],
      "text/plain": [
       "<IPython.core.display.HTML object>"
      ]
     },
     "execution_count": 12,
     "metadata": {},
     "output_type": "execute_result"
    }
   ],
   "source": [
    "from IPython.core.display import HTML\n",
    "with open('../resources/styles/datum.css', 'r') as f:\n",
    "    style = f.read()\n",
    "HTML(style)"
   ]
  },
  {
   "cell_type": "code",
   "execution_count": null,
   "metadata": {},
   "outputs": [],
   "source": []
  }
 ],
 "metadata": {
  "kernelspec": {
   "display_name": "Python 3",
   "language": "python",
   "name": "python3"
  },
  "language_info": {
   "codemirror_mode": {
    "name": "ipython",
    "version": 3
   },
   "file_extension": ".py",
   "mimetype": "text/x-python",
   "name": "python",
   "nbconvert_exporter": "python",
   "pygments_lexer": "ipython3",
   "version": "3.8.2"
  }
 },
 "nbformat": 4,
 "nbformat_minor": 2
}
