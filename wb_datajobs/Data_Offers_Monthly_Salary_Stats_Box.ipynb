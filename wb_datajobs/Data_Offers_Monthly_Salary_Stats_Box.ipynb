{
 "cells": [
  {
   "cell_type": "markdown",
   "metadata": {},
   "source": [
    "## Data  Jobs Monthly Salary Statistics"
   ]
  },
  {
   "cell_type": "code",
   "execution_count": 1,
   "metadata": {},
   "outputs": [],
   "source": [
    "#import datetime\n",
    "import psycopg2\n",
    "import pandas as pd\n",
    "#import matplotlib\n",
    "#import matplotlib.pyplot as plt\n",
    "#import matplotlib.dates as mdates\n",
    "#import ipywidgets as widgets\n",
    "import plotly\n",
    "import chart_studio.plotly as py\n",
    "import plotly.graph_objs as go\n",
    "\n",
    "from nbstyler import DATA_STYLE as DS\n",
    "from nbstyler import JS_SNIPPETS as JS"
   ]
  },
  {
   "cell_type": "markdown",
   "metadata": {},
   "source": [
    "### Objectives\n",
    "\n",
    "Create a box plot chart to illustrate basic statistical variables calculated for data job offers in Bulgaria.\n"
   ]
  },
  {
   "cell_type": "markdown",
   "metadata": {},
   "source": [
    "### Data Preparation\n",
    "\n",
    "For the box plot chart Plotly requires all values for the respective aggregation level and calculates the statistics on the fly. As the concatenation of the individual values per aggregation level takes some time a materialized view was utilized in PostgreSQL.\n",
    "\n",
    "A `Pandas.DataFrame` is constructed for each dataset and the first and last time periods for each dataset is dropped to remove incomplete time periods at the start and finish. This step also converts the `Pandas.DataFrame.Index` to `DateTimeIndex` to utilize the temporal methods that it exposes."
   ]
  },
  {
   "cell_type": "markdown",
   "metadata": {},
   "source": [
    "### Data Preparation"
   ]
  },
  {
   "cell_type": "code",
   "execution_count": 2,
   "metadata": {},
   "outputs": [],
   "source": [
    "with psycopg2.connect(\"dbname=jobsbg\") as conn:\n",
    "    sstats_monthly = pd.read_sql_query('SELECT * FROM data_offers.do_salary_lists_monthly', conn, index_col = 'month_ts')\n",
    "\n",
    "sstats_monthly = sstats_monthly[1:-1]\n",
    "sstats_monthly.index = pd.to_datetime(sstats_monthly.index)"
   ]
  },
  {
   "cell_type": "code",
   "execution_count": 3,
   "metadata": {
    "scrolled": true
   },
   "outputs": [
    {
     "data": {
      "text/html": [
       "<div>\n",
       "<style scoped>\n",
       "    .dataframe tbody tr th:only-of-type {\n",
       "        vertical-align: middle;\n",
       "    }\n",
       "\n",
       "    .dataframe tbody tr th {\n",
       "        vertical-align: top;\n",
       "    }\n",
       "\n",
       "    .dataframe thead th {\n",
       "        text-align: right;\n",
       "    }\n",
       "</style>\n",
       "<table border=\"1\" class=\"dataframe\">\n",
       "  <thead>\n",
       "    <tr style=\"text-align: right;\">\n",
       "      <th></th>\n",
       "      <th>sample_size</th>\n",
       "      <th>sample_list</th>\n",
       "    </tr>\n",
       "    <tr>\n",
       "      <th>month_ts</th>\n",
       "      <th></th>\n",
       "      <th></th>\n",
       "    </tr>\n",
       "  </thead>\n",
       "  <tbody>\n",
       "    <tr>\n",
       "      <th>2017-10-01</th>\n",
       "      <td>13</td>\n",
       "      <td>1100.00,1100.00,3450.00,1100.00,1200.00,6000.0...</td>\n",
       "    </tr>\n",
       "    <tr>\n",
       "      <th>2017-11-01</th>\n",
       "      <td>3</td>\n",
       "      <td>1237.50,1237.50,1200.00</td>\n",
       "    </tr>\n",
       "    <tr>\n",
       "      <th>2017-12-01</th>\n",
       "      <td>7</td>\n",
       "      <td>4875.00,4875.00,4875.00,3750.00,3750.00,3750.0...</td>\n",
       "    </tr>\n",
       "  </tbody>\n",
       "</table>\n",
       "</div>"
      ],
      "text/plain": [
       "            sample_size                                        sample_list\n",
       "month_ts                                                                  \n",
       "2017-10-01           13  1100.00,1100.00,3450.00,1100.00,1200.00,6000.0...\n",
       "2017-11-01            3                            1237.50,1237.50,1200.00\n",
       "2017-12-01            7  4875.00,4875.00,4875.00,3750.00,3750.00,3750.0..."
      ]
     },
     "execution_count": 3,
     "metadata": {},
     "output_type": "execute_result"
    }
   ],
   "source": [
    "sstats_monthly.head(3)"
   ]
  },
  {
   "cell_type": "markdown",
   "metadata": {},
   "source": [
    "### Implementing the Chart in Plotly"
   ]
  },
  {
   "cell_type": "code",
   "execution_count": 4,
   "metadata": {},
   "outputs": [],
   "source": [
    "x_vals = [month for month in sstats_monthly.index]\n",
    "y_vals = []\n",
    "\n",
    "for l in sstats_monthly.sample_list:\n",
    "    values  = [float(val) for val in l.split(',')]\n",
    "    y_vals.append(values)"
   ]
  },
  {
   "cell_type": "code",
   "execution_count": 5,
   "metadata": {},
   "outputs": [],
   "source": [
    "data = []\n",
    "for j in range(len(x_vals)):\n",
    "    trace = go.Box(\n",
    "        name=str(sstats_monthly.index[j]),\n",
    "        y=y_vals[j],\n",
    "        marker=dict(\n",
    "            opacity=0.8,\n",
    "        ),\n",
    "        line=dict(\n",
    "            width=1,\n",
    "            color=DS['colors']['acc1'],\n",
    "        ),\n",
    "        whiskerwidth=0.5,\n",
    "        boxpoints=False,\n",
    "        showlegend=False,\n",
    "    )\n",
    "    data.append(trace)"
   ]
  },
  {
   "cell_type": "markdown",
   "metadata": {},
   "source": [
    "Plotly buttons and defined interactions to make the chart interactive"
   ]
  },
  {
   "cell_type": "code",
   "execution_count": 16,
   "metadata": {},
   "outputs": [],
   "source": [
    "layout = go.Layout(\n",
    "    paper_bgcolor=DS['colors']['bg1'],            \n",
    "    plot_bgcolor=DS['colors']['bg1'],\n",
    "    title='Data Offers Monthly Salary Statistics',\n",
    "    titlefont=DS['chart_fonts']['title'],\n",
    "    font=DS['chart_fonts']['text'],\n",
    "    autosize=True,\n",
    "    showlegend=False,\n",
    "    hidesources=True,\n",
    "    xaxis = dict(\n",
    "        type='date',\n",
    "        fixedrange=True,\n",
    "        ticks='outside',\n",
    "        tickmode='auto',\n",
    "        zerolinecolor=DS['colors']['bg3'],\n",
    "        gridcolor=DS['colors']['bg1'],\n",
    "    ),\n",
    "    yaxis = dict(\n",
    "        title='BGN',\n",
    "        type='linear',\n",
    "        range=[0, 6000],\n",
    "        rangemode='tozero',\n",
    "        gridcolor=DS['colors']['bg3'],\n",
    "        zerolinecolor=DS['colors']['bg3'],\n",
    "        hoverformat=',',\n",
    "        tickformat=',',\n",
    "        ticks='outside',\n",
    "        tickwidth=1,\n",
    "    ),\n",
    ")"
   ]
  },
  {
   "cell_type": "code",
   "execution_count": 18,
   "metadata": {},
   "outputs": [
    {
     "data": {
      "application/vnd.plotly.v1+json": {
       "config": {
        "plotlyServerURL": "https://plot.ly"
       },
       "data": [
        {
         "boxpoints": false,
         "line": {
          "color": "#bf4d28",
          "width": 1
         },
         "marker": {
          "opacity": 0.8
         },
         "name": "2017-10-01 00:00:00",
         "showlegend": false,
         "type": "box",
         "whiskerwidth": 0.5,
         "y": [
          1100,
          1100,
          3450,
          1100,
          1200,
          6000,
          4875,
          4875,
          4875,
          3750,
          3750,
          3750,
          1200
         ]
        },
        {
         "boxpoints": false,
         "line": {
          "color": "#bf4d28",
          "width": 1
         },
         "marker": {
          "opacity": 0.8
         },
         "name": "2017-11-01 00:00:00",
         "showlegend": false,
         "type": "box",
         "whiskerwidth": 0.5,
         "y": [
          1237.5,
          1237.5,
          1200
         ]
        },
        {
         "boxpoints": false,
         "line": {
          "color": "#bf4d28",
          "width": 1
         },
         "marker": {
          "opacity": 0.8
         },
         "name": "2017-12-01 00:00:00",
         "showlegend": false,
         "type": "box",
         "whiskerwidth": 0.5,
         "y": [
          4875,
          4875,
          4875,
          3750,
          3750,
          3750,
          675
         ]
        },
        {
         "boxpoints": false,
         "line": {
          "color": "#bf4d28",
          "width": 1
         },
         "marker": {
          "opacity": 0.8
         },
         "name": "2018-01-01 00:00:00",
         "showlegend": false,
         "type": "box",
         "whiskerwidth": 0.5,
         "y": [
          1100,
          1687.5,
          1650,
          1275,
          712.5,
          4875
         ]
        },
        {
         "boxpoints": false,
         "line": {
          "color": "#bf4d28",
          "width": 1
         },
         "marker": {
          "opacity": 0.8
         },
         "name": "2018-02-01 00:00:00",
         "showlegend": false,
         "type": "box",
         "whiskerwidth": 0.5,
         "y": [
          975,
          2025,
          1650,
          1425,
          3500,
          1612.5,
          2025,
          975
         ]
        },
        {
         "boxpoints": false,
         "line": {
          "color": "#bf4d28",
          "width": 1
         },
         "marker": {
          "opacity": 0.8
         },
         "name": "2018-03-01 00:00:00",
         "showlegend": false,
         "type": "box",
         "whiskerwidth": 0.5,
         "y": [
          975,
          1500,
          4500,
          1100,
          975,
          712.5,
          843.75,
          1425,
          2250,
          975,
          2250,
          1875
         ]
        },
        {
         "boxpoints": false,
         "line": {
          "color": "#bf4d28",
          "width": 1
         },
         "marker": {
          "opacity": 0.8
         },
         "name": "2018-04-01 00:00:00",
         "showlegend": false,
         "type": "box",
         "whiskerwidth": 0.5,
         "y": [
          1500,
          1650,
          2025,
          975,
          3500,
          1000,
          1000,
          1575,
          2250,
          1875,
          1350,
          2062.5,
          2250,
          975
         ]
        },
        {
         "boxpoints": false,
         "line": {
          "color": "#bf4d28",
          "width": 1
         },
         "marker": {
          "opacity": 0.8
         },
         "name": "2018-05-01 00:00:00",
         "showlegend": false,
         "type": "box",
         "whiskerwidth": 0.5,
         "y": [
          1500,
          1650,
          1000,
          1875,
          900,
          900,
          2025,
          2062.5,
          1500
         ]
        },
        {
         "boxpoints": false,
         "line": {
          "color": "#bf4d28",
          "width": 1
         },
         "marker": {
          "opacity": 0.8
         },
         "name": "2018-06-01 00:00:00",
         "showlegend": false,
         "type": "box",
         "whiskerwidth": 0.5,
         "y": [
          2300,
          1237.5,
          1650,
          1000,
          3000,
          5700,
          1500,
          1000,
          1687.5,
          1000,
          2062.5,
          5000,
          1500
         ]
        },
        {
         "boxpoints": false,
         "line": {
          "color": "#bf4d28",
          "width": 1
         },
         "marker": {
          "opacity": 0.8
         },
         "name": "2018-07-01 00:00:00",
         "showlegend": false,
         "type": "box",
         "whiskerwidth": 0.5,
         "y": [
          1500,
          2250,
          1650,
          5000,
          5700,
          5700,
          975,
          5000,
          1650,
          975,
          2025,
          975,
          1500,
          2300,
          375,
          1000,
          1500,
          712.5,
          975,
          1000,
          1650,
          2250
         ]
        },
        {
         "boxpoints": false,
         "line": {
          "color": "#bf4d28",
          "width": 1
         },
         "marker": {
          "opacity": 0.8
         },
         "name": "2018-08-01 00:00:00",
         "showlegend": false,
         "type": "box",
         "whiskerwidth": 0.5,
         "y": [
          5000,
          1500,
          975,
          975,
          7875,
          5700,
          975,
          5700,
          2025,
          2062.5,
          975,
          1425,
          1000,
          1325,
          975,
          1425,
          750,
          3000
         ]
        },
        {
         "boxpoints": false,
         "line": {
          "color": "#bf4d28",
          "width": 1
         },
         "marker": {
          "opacity": 0.8
         },
         "name": "2018-09-01 00:00:00",
         "showlegend": false,
         "type": "box",
         "whiskerwidth": 0.5,
         "y": [
          975,
          1500,
          1050,
          1000,
          1000,
          975,
          1000,
          1500,
          1425,
          2025,
          975,
          975,
          5000
         ]
        },
        {
         "boxpoints": false,
         "line": {
          "color": "#bf4d28",
          "width": 1
         },
         "marker": {
          "opacity": 0.8
         },
         "name": "2018-10-01 00:00:00",
         "showlegend": false,
         "type": "box",
         "whiskerwidth": 0.5,
         "y": [
          975,
          1425,
          1200,
          1050,
          1031.25,
          562.5,
          975,
          1500,
          2500,
          2025,
          975,
          1500,
          1350,
          1500,
          5000,
          1250,
          975,
          1500,
          5000,
          5700,
          2500,
          5700,
          975
         ]
        },
        {
         "boxpoints": false,
         "line": {
          "color": "#bf4d28",
          "width": 1
         },
         "marker": {
          "opacity": 0.8
         },
         "name": "2018-11-01 00:00:00",
         "showlegend": false,
         "type": "box",
         "whiskerwidth": 0.5,
         "y": [
          1500,
          975,
          1031.25,
          2025,
          675,
          975,
          1350,
          975,
          1000,
          5000,
          975,
          1000,
          2500
         ]
        },
        {
         "boxpoints": false,
         "line": {
          "color": "#bf4d28",
          "width": 1
         },
         "marker": {
          "opacity": 0.8
         },
         "name": "2018-12-01 00:00:00",
         "showlegend": false,
         "type": "box",
         "whiskerwidth": 0.5,
         "y": [
          1000,
          975,
          950,
          1250,
          750,
          975,
          2025,
          1000,
          1000,
          1200,
          975,
          950,
          1500
         ]
        },
        {
         "boxpoints": false,
         "line": {
          "color": "#bf4d28",
          "width": 1
         },
         "marker": {
          "opacity": 0.8
         },
         "name": "2019-01-01 00:00:00",
         "showlegend": false,
         "type": "box",
         "whiskerwidth": 0.5,
         "y": [
          2062.5,
          975,
          1000,
          1500,
          2025,
          975,
          2500,
          1000,
          2200,
          2500,
          975,
          1000,
          1050,
          975,
          1000,
          450,
          1000,
          5700,
          975
         ]
        },
        {
         "boxpoints": false,
         "line": {
          "color": "#bf4d28",
          "width": 1
         },
         "marker": {
          "opacity": 0.8
         },
         "name": "2019-02-01 00:00:00",
         "showlegend": false,
         "type": "box",
         "whiskerwidth": 0.5,
         "y": [
          900,
          1000,
          975,
          1762.5,
          675,
          3750,
          1000,
          2300,
          525,
          975,
          1050,
          2500,
          2062.5,
          975,
          1687.5,
          1687.5,
          975,
          975,
          1725,
          975
         ]
        },
        {
         "boxpoints": false,
         "line": {
          "color": "#bf4d28",
          "width": 1
         },
         "marker": {
          "opacity": 0.8
         },
         "name": "2019-03-01 00:00:00",
         "showlegend": false,
         "type": "box",
         "whiskerwidth": 0.5,
         "y": [
          975,
          1762.5,
          2437.5,
          1300,
          975,
          3750,
          525,
          1725,
          1350,
          975,
          975,
          2137.5
         ]
        },
        {
         "boxpoints": false,
         "line": {
          "color": "#bf4d28",
          "width": 1
         },
         "marker": {
          "opacity": 0.8
         },
         "name": "2019-04-01 00:00:00",
         "showlegend": false,
         "type": "box",
         "whiskerwidth": 0.5,
         "y": [
          975,
          450,
          825,
          1762.5,
          3750,
          975,
          862.5,
          800,
          975,
          2250,
          3000,
          3750,
          3375,
          1500,
          4500,
          1575,
          1800,
          975,
          900,
          637.5,
          975
         ]
        },
        {
         "boxpoints": false,
         "line": {
          "color": "#bf4d28",
          "width": 1
         },
         "marker": {
          "opacity": 0.8
         },
         "name": "2019-05-01 00:00:00",
         "showlegend": false,
         "type": "box",
         "whiskerwidth": 0.5,
         "y": [
          1575,
          1762.5,
          975,
          1350,
          1000,
          975,
          5700,
          6500,
          675,
          1837.5,
          3750,
          900,
          1000,
          3750,
          3750,
          1050,
          975,
          1600,
          1600,
          1000,
          975,
          1425,
          1000,
          1087.5
         ]
        },
        {
         "boxpoints": false,
         "line": {
          "color": "#bf4d28",
          "width": 1
         },
         "marker": {
          "opacity": 0.8
         },
         "name": "2019-06-01 00:00:00",
         "showlegend": false,
         "type": "box",
         "whiskerwidth": 0.5,
         "y": [
          975,
          3000,
          1000,
          3750,
          975,
          5700,
          1500,
          6500,
          3000,
          975,
          1000,
          1762.5,
          975,
          1275,
          1900,
          1275,
          1837.5
         ]
        },
        {
         "boxpoints": false,
         "line": {
          "color": "#bf4d28",
          "width": 1
         },
         "marker": {
          "opacity": 0.8
         },
         "name": "2019-07-01 00:00:00",
         "showlegend": false,
         "type": "box",
         "whiskerwidth": 0.5,
         "y": [
          1275,
          1500,
          2250,
          450,
          3750,
          2250,
          3375
         ]
        },
        {
         "boxpoints": false,
         "line": {
          "color": "#bf4d28",
          "width": 1
         },
         "marker": {
          "opacity": 0.8
         },
         "name": "2019-08-01 00:00:00",
         "showlegend": false,
         "type": "box",
         "whiskerwidth": 0.5,
         "y": [
          1762.5,
          1500,
          675,
          1575,
          1500,
          1275,
          3500,
          5000
         ]
        },
        {
         "boxpoints": false,
         "line": {
          "color": "#bf4d28",
          "width": 1
         },
         "marker": {
          "opacity": 0.8
         },
         "name": "2019-09-01 00:00:00",
         "showlegend": false,
         "type": "box",
         "whiskerwidth": 0.5,
         "y": [
          4500,
          1762.5,
          1000,
          675,
          4125,
          5250,
          1000,
          1500,
          2437.5,
          1000,
          1000
         ]
        },
        {
         "boxpoints": false,
         "line": {
          "color": "#bf4d28",
          "width": 1
         },
         "marker": {
          "opacity": 0.8
         },
         "name": "2019-10-01 00:00:00",
         "showlegend": false,
         "type": "box",
         "whiskerwidth": 0.5,
         "y": [
          1000,
          1762.5,
          4500,
          1450,
          1400,
          2062.5,
          4312.5,
          1575,
          3750,
          675,
          1450
         ]
        },
        {
         "boxpoints": false,
         "line": {
          "color": "#bf4d28",
          "width": 1
         },
         "marker": {
          "opacity": 0.8
         },
         "name": "2019-11-01 00:00:00",
         "showlegend": false,
         "type": "box",
         "whiskerwidth": 0.5,
         "y": [
          1500,
          1575,
          5062.5,
          1762.5,
          3000,
          3000,
          3750,
          1000,
          1450,
          1000,
          1575,
          1450,
          1000
         ]
        },
        {
         "boxpoints": false,
         "line": {
          "color": "#bf4d28",
          "width": 1
         },
         "marker": {
          "opacity": 0.8
         },
         "name": "2019-12-01 00:00:00",
         "showlegend": false,
         "type": "box",
         "whiskerwidth": 0.5,
         "y": [
          1725,
          1762.5,
          1875,
          1400,
          1500,
          1450
         ]
        },
        {
         "boxpoints": false,
         "line": {
          "color": "#bf4d28",
          "width": 1
         },
         "marker": {
          "opacity": 0.8
         },
         "name": "2020-01-01 00:00:00",
         "showlegend": false,
         "type": "box",
         "whiskerwidth": 0.5,
         "y": [
          1575,
          1725,
          1400,
          1500,
          1400,
          1762.5,
          450,
          1050,
          1400,
          3000,
          1050,
          3000,
          2812.5,
          600,
          825,
          1400,
          1450
         ]
        },
        {
         "boxpoints": false,
         "line": {
          "color": "#bf4d28",
          "width": 1
         },
         "marker": {
          "opacity": 0.8
         },
         "name": "2020-02-01 00:00:00",
         "showlegend": false,
         "type": "box",
         "whiskerwidth": 0.5,
         "y": [
          3375,
          2625,
          600,
          1575,
          1050,
          1762.5,
          1050,
          1450,
          1450,
          1700,
          600,
          900,
          900,
          900,
          1200,
          1500,
          1125,
          1450,
          825
         ]
        },
        {
         "boxpoints": false,
         "line": {
          "color": "#bf4d28",
          "width": 1
         },
         "marker": {
          "opacity": 0.8
         },
         "name": "2020-03-01 00:00:00",
         "showlegend": false,
         "type": "box",
         "whiskerwidth": 0.5,
         "y": [
          5250,
          3937.5,
          1405,
          4750,
          5000,
          5250,
          1500,
          3750,
          5000,
          5250,
          2737.5,
          850
         ]
        },
        {
         "boxpoints": false,
         "line": {
          "color": "#bf4d28",
          "width": 1
         },
         "marker": {
          "opacity": 0.8
         },
         "name": "2020-04-01 00:00:00",
         "showlegend": false,
         "type": "box",
         "whiskerwidth": 0.5,
         "y": [
          2812.5,
          3937.5,
          2737.5,
          7500,
          7000,
          900,
          2700
         ]
        }
       ],
       "layout": {
        "autosize": true,
        "font": {
         "color": "#655643",
         "family": "Fira Sans Condensed",
         "size": 12
        },
        "hidesources": true,
        "paper_bgcolor": "#fffaf0",
        "plot_bgcolor": "#fffaf0",
        "showlegend": false,
        "template": {
         "data": {
          "bar": [
           {
            "error_x": {
             "color": "#2a3f5f"
            },
            "error_y": {
             "color": "#2a3f5f"
            },
            "marker": {
             "line": {
              "color": "#E5ECF6",
              "width": 0.5
             }
            },
            "type": "bar"
           }
          ],
          "barpolar": [
           {
            "marker": {
             "line": {
              "color": "#E5ECF6",
              "width": 0.5
             }
            },
            "type": "barpolar"
           }
          ],
          "carpet": [
           {
            "aaxis": {
             "endlinecolor": "#2a3f5f",
             "gridcolor": "white",
             "linecolor": "white",
             "minorgridcolor": "white",
             "startlinecolor": "#2a3f5f"
            },
            "baxis": {
             "endlinecolor": "#2a3f5f",
             "gridcolor": "white",
             "linecolor": "white",
             "minorgridcolor": "white",
             "startlinecolor": "#2a3f5f"
            },
            "type": "carpet"
           }
          ],
          "choropleth": [
           {
            "colorbar": {
             "outlinewidth": 0,
             "ticks": ""
            },
            "type": "choropleth"
           }
          ],
          "contour": [
           {
            "colorbar": {
             "outlinewidth": 0,
             "ticks": ""
            },
            "colorscale": [
             [
              0,
              "#0d0887"
             ],
             [
              0.1111111111111111,
              "#46039f"
             ],
             [
              0.2222222222222222,
              "#7201a8"
             ],
             [
              0.3333333333333333,
              "#9c179e"
             ],
             [
              0.4444444444444444,
              "#bd3786"
             ],
             [
              0.5555555555555556,
              "#d8576b"
             ],
             [
              0.6666666666666666,
              "#ed7953"
             ],
             [
              0.7777777777777778,
              "#fb9f3a"
             ],
             [
              0.8888888888888888,
              "#fdca26"
             ],
             [
              1,
              "#f0f921"
             ]
            ],
            "type": "contour"
           }
          ],
          "contourcarpet": [
           {
            "colorbar": {
             "outlinewidth": 0,
             "ticks": ""
            },
            "type": "contourcarpet"
           }
          ],
          "heatmap": [
           {
            "colorbar": {
             "outlinewidth": 0,
             "ticks": ""
            },
            "colorscale": [
             [
              0,
              "#0d0887"
             ],
             [
              0.1111111111111111,
              "#46039f"
             ],
             [
              0.2222222222222222,
              "#7201a8"
             ],
             [
              0.3333333333333333,
              "#9c179e"
             ],
             [
              0.4444444444444444,
              "#bd3786"
             ],
             [
              0.5555555555555556,
              "#d8576b"
             ],
             [
              0.6666666666666666,
              "#ed7953"
             ],
             [
              0.7777777777777778,
              "#fb9f3a"
             ],
             [
              0.8888888888888888,
              "#fdca26"
             ],
             [
              1,
              "#f0f921"
             ]
            ],
            "type": "heatmap"
           }
          ],
          "heatmapgl": [
           {
            "colorbar": {
             "outlinewidth": 0,
             "ticks": ""
            },
            "colorscale": [
             [
              0,
              "#0d0887"
             ],
             [
              0.1111111111111111,
              "#46039f"
             ],
             [
              0.2222222222222222,
              "#7201a8"
             ],
             [
              0.3333333333333333,
              "#9c179e"
             ],
             [
              0.4444444444444444,
              "#bd3786"
             ],
             [
              0.5555555555555556,
              "#d8576b"
             ],
             [
              0.6666666666666666,
              "#ed7953"
             ],
             [
              0.7777777777777778,
              "#fb9f3a"
             ],
             [
              0.8888888888888888,
              "#fdca26"
             ],
             [
              1,
              "#f0f921"
             ]
            ],
            "type": "heatmapgl"
           }
          ],
          "histogram": [
           {
            "marker": {
             "colorbar": {
              "outlinewidth": 0,
              "ticks": ""
             }
            },
            "type": "histogram"
           }
          ],
          "histogram2d": [
           {
            "colorbar": {
             "outlinewidth": 0,
             "ticks": ""
            },
            "colorscale": [
             [
              0,
              "#0d0887"
             ],
             [
              0.1111111111111111,
              "#46039f"
             ],
             [
              0.2222222222222222,
              "#7201a8"
             ],
             [
              0.3333333333333333,
              "#9c179e"
             ],
             [
              0.4444444444444444,
              "#bd3786"
             ],
             [
              0.5555555555555556,
              "#d8576b"
             ],
             [
              0.6666666666666666,
              "#ed7953"
             ],
             [
              0.7777777777777778,
              "#fb9f3a"
             ],
             [
              0.8888888888888888,
              "#fdca26"
             ],
             [
              1,
              "#f0f921"
             ]
            ],
            "type": "histogram2d"
           }
          ],
          "histogram2dcontour": [
           {
            "colorbar": {
             "outlinewidth": 0,
             "ticks": ""
            },
            "colorscale": [
             [
              0,
              "#0d0887"
             ],
             [
              0.1111111111111111,
              "#46039f"
             ],
             [
              0.2222222222222222,
              "#7201a8"
             ],
             [
              0.3333333333333333,
              "#9c179e"
             ],
             [
              0.4444444444444444,
              "#bd3786"
             ],
             [
              0.5555555555555556,
              "#d8576b"
             ],
             [
              0.6666666666666666,
              "#ed7953"
             ],
             [
              0.7777777777777778,
              "#fb9f3a"
             ],
             [
              0.8888888888888888,
              "#fdca26"
             ],
             [
              1,
              "#f0f921"
             ]
            ],
            "type": "histogram2dcontour"
           }
          ],
          "mesh3d": [
           {
            "colorbar": {
             "outlinewidth": 0,
             "ticks": ""
            },
            "type": "mesh3d"
           }
          ],
          "parcoords": [
           {
            "line": {
             "colorbar": {
              "outlinewidth": 0,
              "ticks": ""
             }
            },
            "type": "parcoords"
           }
          ],
          "pie": [
           {
            "automargin": true,
            "type": "pie"
           }
          ],
          "scatter": [
           {
            "marker": {
             "colorbar": {
              "outlinewidth": 0,
              "ticks": ""
             }
            },
            "type": "scatter"
           }
          ],
          "scatter3d": [
           {
            "line": {
             "colorbar": {
              "outlinewidth": 0,
              "ticks": ""
             }
            },
            "marker": {
             "colorbar": {
              "outlinewidth": 0,
              "ticks": ""
             }
            },
            "type": "scatter3d"
           }
          ],
          "scattercarpet": [
           {
            "marker": {
             "colorbar": {
              "outlinewidth": 0,
              "ticks": ""
             }
            },
            "type": "scattercarpet"
           }
          ],
          "scattergeo": [
           {
            "marker": {
             "colorbar": {
              "outlinewidth": 0,
              "ticks": ""
             }
            },
            "type": "scattergeo"
           }
          ],
          "scattergl": [
           {
            "marker": {
             "colorbar": {
              "outlinewidth": 0,
              "ticks": ""
             }
            },
            "type": "scattergl"
           }
          ],
          "scattermapbox": [
           {
            "marker": {
             "colorbar": {
              "outlinewidth": 0,
              "ticks": ""
             }
            },
            "type": "scattermapbox"
           }
          ],
          "scatterpolar": [
           {
            "marker": {
             "colorbar": {
              "outlinewidth": 0,
              "ticks": ""
             }
            },
            "type": "scatterpolar"
           }
          ],
          "scatterpolargl": [
           {
            "marker": {
             "colorbar": {
              "outlinewidth": 0,
              "ticks": ""
             }
            },
            "type": "scatterpolargl"
           }
          ],
          "scatterternary": [
           {
            "marker": {
             "colorbar": {
              "outlinewidth": 0,
              "ticks": ""
             }
            },
            "type": "scatterternary"
           }
          ],
          "surface": [
           {
            "colorbar": {
             "outlinewidth": 0,
             "ticks": ""
            },
            "colorscale": [
             [
              0,
              "#0d0887"
             ],
             [
              0.1111111111111111,
              "#46039f"
             ],
             [
              0.2222222222222222,
              "#7201a8"
             ],
             [
              0.3333333333333333,
              "#9c179e"
             ],
             [
              0.4444444444444444,
              "#bd3786"
             ],
             [
              0.5555555555555556,
              "#d8576b"
             ],
             [
              0.6666666666666666,
              "#ed7953"
             ],
             [
              0.7777777777777778,
              "#fb9f3a"
             ],
             [
              0.8888888888888888,
              "#fdca26"
             ],
             [
              1,
              "#f0f921"
             ]
            ],
            "type": "surface"
           }
          ],
          "table": [
           {
            "cells": {
             "fill": {
              "color": "#EBF0F8"
             },
             "line": {
              "color": "white"
             }
            },
            "header": {
             "fill": {
              "color": "#C8D4E3"
             },
             "line": {
              "color": "white"
             }
            },
            "type": "table"
           }
          ]
         },
         "layout": {
          "annotationdefaults": {
           "arrowcolor": "#2a3f5f",
           "arrowhead": 0,
           "arrowwidth": 1
          },
          "coloraxis": {
           "colorbar": {
            "outlinewidth": 0,
            "ticks": ""
           }
          },
          "colorscale": {
           "diverging": [
            [
             0,
             "#8e0152"
            ],
            [
             0.1,
             "#c51b7d"
            ],
            [
             0.2,
             "#de77ae"
            ],
            [
             0.3,
             "#f1b6da"
            ],
            [
             0.4,
             "#fde0ef"
            ],
            [
             0.5,
             "#f7f7f7"
            ],
            [
             0.6,
             "#e6f5d0"
            ],
            [
             0.7,
             "#b8e186"
            ],
            [
             0.8,
             "#7fbc41"
            ],
            [
             0.9,
             "#4d9221"
            ],
            [
             1,
             "#276419"
            ]
           ],
           "sequential": [
            [
             0,
             "#0d0887"
            ],
            [
             0.1111111111111111,
             "#46039f"
            ],
            [
             0.2222222222222222,
             "#7201a8"
            ],
            [
             0.3333333333333333,
             "#9c179e"
            ],
            [
             0.4444444444444444,
             "#bd3786"
            ],
            [
             0.5555555555555556,
             "#d8576b"
            ],
            [
             0.6666666666666666,
             "#ed7953"
            ],
            [
             0.7777777777777778,
             "#fb9f3a"
            ],
            [
             0.8888888888888888,
             "#fdca26"
            ],
            [
             1,
             "#f0f921"
            ]
           ],
           "sequentialminus": [
            [
             0,
             "#0d0887"
            ],
            [
             0.1111111111111111,
             "#46039f"
            ],
            [
             0.2222222222222222,
             "#7201a8"
            ],
            [
             0.3333333333333333,
             "#9c179e"
            ],
            [
             0.4444444444444444,
             "#bd3786"
            ],
            [
             0.5555555555555556,
             "#d8576b"
            ],
            [
             0.6666666666666666,
             "#ed7953"
            ],
            [
             0.7777777777777778,
             "#fb9f3a"
            ],
            [
             0.8888888888888888,
             "#fdca26"
            ],
            [
             1,
             "#f0f921"
            ]
           ]
          },
          "colorway": [
           "#636efa",
           "#EF553B",
           "#00cc96",
           "#ab63fa",
           "#FFA15A",
           "#19d3f3",
           "#FF6692",
           "#B6E880",
           "#FF97FF",
           "#FECB52"
          ],
          "font": {
           "color": "#2a3f5f"
          },
          "geo": {
           "bgcolor": "white",
           "lakecolor": "white",
           "landcolor": "#E5ECF6",
           "showlakes": true,
           "showland": true,
           "subunitcolor": "white"
          },
          "hoverlabel": {
           "align": "left"
          },
          "hovermode": "closest",
          "mapbox": {
           "style": "light"
          },
          "paper_bgcolor": "white",
          "plot_bgcolor": "#E5ECF6",
          "polar": {
           "angularaxis": {
            "gridcolor": "white",
            "linecolor": "white",
            "ticks": ""
           },
           "bgcolor": "#E5ECF6",
           "radialaxis": {
            "gridcolor": "white",
            "linecolor": "white",
            "ticks": ""
           }
          },
          "scene": {
           "xaxis": {
            "backgroundcolor": "#E5ECF6",
            "gridcolor": "white",
            "gridwidth": 2,
            "linecolor": "white",
            "showbackground": true,
            "ticks": "",
            "zerolinecolor": "white"
           },
           "yaxis": {
            "backgroundcolor": "#E5ECF6",
            "gridcolor": "white",
            "gridwidth": 2,
            "linecolor": "white",
            "showbackground": true,
            "ticks": "",
            "zerolinecolor": "white"
           },
           "zaxis": {
            "backgroundcolor": "#E5ECF6",
            "gridcolor": "white",
            "gridwidth": 2,
            "linecolor": "white",
            "showbackground": true,
            "ticks": "",
            "zerolinecolor": "white"
           }
          },
          "shapedefaults": {
           "line": {
            "color": "#2a3f5f"
           }
          },
          "ternary": {
           "aaxis": {
            "gridcolor": "white",
            "linecolor": "white",
            "ticks": ""
           },
           "baxis": {
            "gridcolor": "white",
            "linecolor": "white",
            "ticks": ""
           },
           "bgcolor": "#E5ECF6",
           "caxis": {
            "gridcolor": "white",
            "linecolor": "white",
            "ticks": ""
           }
          },
          "title": {
           "x": 0.05
          },
          "xaxis": {
           "automargin": true,
           "gridcolor": "white",
           "linecolor": "white",
           "ticks": "",
           "title": {
            "standoff": 15
           },
           "zerolinecolor": "white",
           "zerolinewidth": 2
          },
          "yaxis": {
           "automargin": true,
           "gridcolor": "white",
           "linecolor": "white",
           "ticks": "",
           "title": {
            "standoff": 15
           },
           "zerolinecolor": "white",
           "zerolinewidth": 2
          }
         }
        },
        "title": {
         "font": {
          "color": "#655643",
          "family": "Merryweather",
          "size": 18
         },
         "text": "Data Offers Monthly Salary Statistics"
        },
        "xaxis": {
         "fixedrange": true,
         "gridcolor": "#fffaf0",
         "tickmode": "auto",
         "ticks": "outside",
         "type": "date",
         "zerolinecolor": "#f2e6ce"
        },
        "yaxis": {
         "gridcolor": "#f2e6ce",
         "hoverformat": ",",
         "range": [
          0,
          6000
         ],
         "rangemode": "tozero",
         "tickformat": ",",
         "ticks": "outside",
         "tickwidth": 1,
         "title": {
          "text": "BGN"
         },
         "type": "linear",
         "zerolinecolor": "#f2e6ce"
        }
       }
      },
      "text/html": [
       "<div>\n",
       "        \n",
       "        \n",
       "            <div id=\"360ade62-8d8b-4924-b059-00746c5f1275\" class=\"plotly-graph-div\" style=\"height:525px; width:100%;\"></div>\n",
       "            <script type=\"text/javascript\">\n",
       "                require([\"plotly\"], function(Plotly) {\n",
       "                    window.PLOTLYENV=window.PLOTLYENV || {};\n",
       "                    \n",
       "                if (document.getElementById(\"360ade62-8d8b-4924-b059-00746c5f1275\")) {\n",
       "                    Plotly.newPlot(\n",
       "                        '360ade62-8d8b-4924-b059-00746c5f1275',\n",
       "                        [{\"boxpoints\": false, \"line\": {\"color\": \"#bf4d28\", \"width\": 1}, \"marker\": {\"opacity\": 0.8}, \"name\": \"2017-10-01 00:00:00\", \"showlegend\": false, \"type\": \"box\", \"whiskerwidth\": 0.5, \"y\": [1100.0, 1100.0, 3450.0, 1100.0, 1200.0, 6000.0, 4875.0, 4875.0, 4875.0, 3750.0, 3750.0, 3750.0, 1200.0]}, {\"boxpoints\": false, \"line\": {\"color\": \"#bf4d28\", \"width\": 1}, \"marker\": {\"opacity\": 0.8}, \"name\": \"2017-11-01 00:00:00\", \"showlegend\": false, \"type\": \"box\", \"whiskerwidth\": 0.5, \"y\": [1237.5, 1237.5, 1200.0]}, {\"boxpoints\": false, \"line\": {\"color\": \"#bf4d28\", \"width\": 1}, \"marker\": {\"opacity\": 0.8}, \"name\": \"2017-12-01 00:00:00\", \"showlegend\": false, \"type\": \"box\", \"whiskerwidth\": 0.5, \"y\": [4875.0, 4875.0, 4875.0, 3750.0, 3750.0, 3750.0, 675.0]}, {\"boxpoints\": false, \"line\": {\"color\": \"#bf4d28\", \"width\": 1}, \"marker\": {\"opacity\": 0.8}, \"name\": \"2018-01-01 00:00:00\", \"showlegend\": false, \"type\": \"box\", \"whiskerwidth\": 0.5, \"y\": [1100.0, 1687.5, 1650.0, 1275.0, 712.5, 4875.0]}, {\"boxpoints\": false, \"line\": {\"color\": \"#bf4d28\", \"width\": 1}, \"marker\": {\"opacity\": 0.8}, \"name\": \"2018-02-01 00:00:00\", \"showlegend\": false, \"type\": \"box\", \"whiskerwidth\": 0.5, \"y\": [975.0, 2025.0, 1650.0, 1425.0, 3500.0, 1612.5, 2025.0, 975.0]}, {\"boxpoints\": false, \"line\": {\"color\": \"#bf4d28\", \"width\": 1}, \"marker\": {\"opacity\": 0.8}, \"name\": \"2018-03-01 00:00:00\", \"showlegend\": false, \"type\": \"box\", \"whiskerwidth\": 0.5, \"y\": [975.0, 1500.0, 4500.0, 1100.0, 975.0, 712.5, 843.75, 1425.0, 2250.0, 975.0, 2250.0, 1875.0]}, {\"boxpoints\": false, \"line\": {\"color\": \"#bf4d28\", \"width\": 1}, \"marker\": {\"opacity\": 0.8}, \"name\": \"2018-04-01 00:00:00\", \"showlegend\": false, \"type\": \"box\", \"whiskerwidth\": 0.5, \"y\": [1500.0, 1650.0, 2025.0, 975.0, 3500.0, 1000.0, 1000.0, 1575.0, 2250.0, 1875.0, 1350.0, 2062.5, 2250.0, 975.0]}, {\"boxpoints\": false, \"line\": {\"color\": \"#bf4d28\", \"width\": 1}, \"marker\": {\"opacity\": 0.8}, \"name\": \"2018-05-01 00:00:00\", \"showlegend\": false, \"type\": \"box\", \"whiskerwidth\": 0.5, \"y\": [1500.0, 1650.0, 1000.0, 1875.0, 900.0, 900.0, 2025.0, 2062.5, 1500.0]}, {\"boxpoints\": false, \"line\": {\"color\": \"#bf4d28\", \"width\": 1}, \"marker\": {\"opacity\": 0.8}, \"name\": \"2018-06-01 00:00:00\", \"showlegend\": false, \"type\": \"box\", \"whiskerwidth\": 0.5, \"y\": [2300.0, 1237.5, 1650.0, 1000.0, 3000.0, 5700.0, 1500.0, 1000.0, 1687.5, 1000.0, 2062.5, 5000.0, 1500.0]}, {\"boxpoints\": false, \"line\": {\"color\": \"#bf4d28\", \"width\": 1}, \"marker\": {\"opacity\": 0.8}, \"name\": \"2018-07-01 00:00:00\", \"showlegend\": false, \"type\": \"box\", \"whiskerwidth\": 0.5, \"y\": [1500.0, 2250.0, 1650.0, 5000.0, 5700.0, 5700.0, 975.0, 5000.0, 1650.0, 975.0, 2025.0, 975.0, 1500.0, 2300.0, 375.0, 1000.0, 1500.0, 712.5, 975.0, 1000.0, 1650.0, 2250.0]}, {\"boxpoints\": false, \"line\": {\"color\": \"#bf4d28\", \"width\": 1}, \"marker\": {\"opacity\": 0.8}, \"name\": \"2018-08-01 00:00:00\", \"showlegend\": false, \"type\": \"box\", \"whiskerwidth\": 0.5, \"y\": [5000.0, 1500.0, 975.0, 975.0, 7875.0, 5700.0, 975.0, 5700.0, 2025.0, 2062.5, 975.0, 1425.0, 1000.0, 1325.0, 975.0, 1425.0, 750.0, 3000.0]}, {\"boxpoints\": false, \"line\": {\"color\": \"#bf4d28\", \"width\": 1}, \"marker\": {\"opacity\": 0.8}, \"name\": \"2018-09-01 00:00:00\", \"showlegend\": false, \"type\": \"box\", \"whiskerwidth\": 0.5, \"y\": [975.0, 1500.0, 1050.0, 1000.0, 1000.0, 975.0, 1000.0, 1500.0, 1425.0, 2025.0, 975.0, 975.0, 5000.0]}, {\"boxpoints\": false, \"line\": {\"color\": \"#bf4d28\", \"width\": 1}, \"marker\": {\"opacity\": 0.8}, \"name\": \"2018-10-01 00:00:00\", \"showlegend\": false, \"type\": \"box\", \"whiskerwidth\": 0.5, \"y\": [975.0, 1425.0, 1200.0, 1050.0, 1031.25, 562.5, 975.0, 1500.0, 2500.0, 2025.0, 975.0, 1500.0, 1350.0, 1500.0, 5000.0, 1250.0, 975.0, 1500.0, 5000.0, 5700.0, 2500.0, 5700.0, 975.0]}, {\"boxpoints\": false, \"line\": {\"color\": \"#bf4d28\", \"width\": 1}, \"marker\": {\"opacity\": 0.8}, \"name\": \"2018-11-01 00:00:00\", \"showlegend\": false, \"type\": \"box\", \"whiskerwidth\": 0.5, \"y\": [1500.0, 975.0, 1031.25, 2025.0, 675.0, 975.0, 1350.0, 975.0, 1000.0, 5000.0, 975.0, 1000.0, 2500.0]}, {\"boxpoints\": false, \"line\": {\"color\": \"#bf4d28\", \"width\": 1}, \"marker\": {\"opacity\": 0.8}, \"name\": \"2018-12-01 00:00:00\", \"showlegend\": false, \"type\": \"box\", \"whiskerwidth\": 0.5, \"y\": [1000.0, 975.0, 950.0, 1250.0, 750.0, 975.0, 2025.0, 1000.0, 1000.0, 1200.0, 975.0, 950.0, 1500.0]}, {\"boxpoints\": false, \"line\": {\"color\": \"#bf4d28\", \"width\": 1}, \"marker\": {\"opacity\": 0.8}, \"name\": \"2019-01-01 00:00:00\", \"showlegend\": false, \"type\": \"box\", \"whiskerwidth\": 0.5, \"y\": [2062.5, 975.0, 1000.0, 1500.0, 2025.0, 975.0, 2500.0, 1000.0, 2200.0, 2500.0, 975.0, 1000.0, 1050.0, 975.0, 1000.0, 450.0, 1000.0, 5700.0, 975.0]}, {\"boxpoints\": false, \"line\": {\"color\": \"#bf4d28\", \"width\": 1}, \"marker\": {\"opacity\": 0.8}, \"name\": \"2019-02-01 00:00:00\", \"showlegend\": false, \"type\": \"box\", \"whiskerwidth\": 0.5, \"y\": [900.0, 1000.0, 975.0, 1762.5, 675.0, 3750.0, 1000.0, 2300.0, 525.0, 975.0, 1050.0, 2500.0, 2062.5, 975.0, 1687.5, 1687.5, 975.0, 975.0, 1725.0, 975.0]}, {\"boxpoints\": false, \"line\": {\"color\": \"#bf4d28\", \"width\": 1}, \"marker\": {\"opacity\": 0.8}, \"name\": \"2019-03-01 00:00:00\", \"showlegend\": false, \"type\": \"box\", \"whiskerwidth\": 0.5, \"y\": [975.0, 1762.5, 2437.5, 1300.0, 975.0, 3750.0, 525.0, 1725.0, 1350.0, 975.0, 975.0, 2137.5]}, {\"boxpoints\": false, \"line\": {\"color\": \"#bf4d28\", \"width\": 1}, \"marker\": {\"opacity\": 0.8}, \"name\": \"2019-04-01 00:00:00\", \"showlegend\": false, \"type\": \"box\", \"whiskerwidth\": 0.5, \"y\": [975.0, 450.0, 825.0, 1762.5, 3750.0, 975.0, 862.5, 800.0, 975.0, 2250.0, 3000.0, 3750.0, 3375.0, 1500.0, 4500.0, 1575.0, 1800.0, 975.0, 900.0, 637.5, 975.0]}, {\"boxpoints\": false, \"line\": {\"color\": \"#bf4d28\", \"width\": 1}, \"marker\": {\"opacity\": 0.8}, \"name\": \"2019-05-01 00:00:00\", \"showlegend\": false, \"type\": \"box\", \"whiskerwidth\": 0.5, \"y\": [1575.0, 1762.5, 975.0, 1350.0, 1000.0, 975.0, 5700.0, 6500.0, 675.0, 1837.5, 3750.0, 900.0, 1000.0, 3750.0, 3750.0, 1050.0, 975.0, 1600.0, 1600.0, 1000.0, 975.0, 1425.0, 1000.0, 1087.5]}, {\"boxpoints\": false, \"line\": {\"color\": \"#bf4d28\", \"width\": 1}, \"marker\": {\"opacity\": 0.8}, \"name\": \"2019-06-01 00:00:00\", \"showlegend\": false, \"type\": \"box\", \"whiskerwidth\": 0.5, \"y\": [975.0, 3000.0, 1000.0, 3750.0, 975.0, 5700.0, 1500.0, 6500.0, 3000.0, 975.0, 1000.0, 1762.5, 975.0, 1275.0, 1900.0, 1275.0, 1837.5]}, {\"boxpoints\": false, \"line\": {\"color\": \"#bf4d28\", \"width\": 1}, \"marker\": {\"opacity\": 0.8}, \"name\": \"2019-07-01 00:00:00\", \"showlegend\": false, \"type\": \"box\", \"whiskerwidth\": 0.5, \"y\": [1275.0, 1500.0, 2250.0, 450.0, 3750.0, 2250.0, 3375.0]}, {\"boxpoints\": false, \"line\": {\"color\": \"#bf4d28\", \"width\": 1}, \"marker\": {\"opacity\": 0.8}, \"name\": \"2019-08-01 00:00:00\", \"showlegend\": false, \"type\": \"box\", \"whiskerwidth\": 0.5, \"y\": [1762.5, 1500.0, 675.0, 1575.0, 1500.0, 1275.0, 3500.0, 5000.0]}, {\"boxpoints\": false, \"line\": {\"color\": \"#bf4d28\", \"width\": 1}, \"marker\": {\"opacity\": 0.8}, \"name\": \"2019-09-01 00:00:00\", \"showlegend\": false, \"type\": \"box\", \"whiskerwidth\": 0.5, \"y\": [4500.0, 1762.5, 1000.0, 675.0, 4125.0, 5250.0, 1000.0, 1500.0, 2437.5, 1000.0, 1000.0]}, {\"boxpoints\": false, \"line\": {\"color\": \"#bf4d28\", \"width\": 1}, \"marker\": {\"opacity\": 0.8}, \"name\": \"2019-10-01 00:00:00\", \"showlegend\": false, \"type\": \"box\", \"whiskerwidth\": 0.5, \"y\": [1000.0, 1762.5, 4500.0, 1450.0, 1400.0, 2062.5, 4312.5, 1575.0, 3750.0, 675.0, 1450.0]}, {\"boxpoints\": false, \"line\": {\"color\": \"#bf4d28\", \"width\": 1}, \"marker\": {\"opacity\": 0.8}, \"name\": \"2019-11-01 00:00:00\", \"showlegend\": false, \"type\": \"box\", \"whiskerwidth\": 0.5, \"y\": [1500.0, 1575.0, 5062.5, 1762.5, 3000.0, 3000.0, 3750.0, 1000.0, 1450.0, 1000.0, 1575.0, 1450.0, 1000.0]}, {\"boxpoints\": false, \"line\": {\"color\": \"#bf4d28\", \"width\": 1}, \"marker\": {\"opacity\": 0.8}, \"name\": \"2019-12-01 00:00:00\", \"showlegend\": false, \"type\": \"box\", \"whiskerwidth\": 0.5, \"y\": [1725.0, 1762.5, 1875.0, 1400.0, 1500.0, 1450.0]}, {\"boxpoints\": false, \"line\": {\"color\": \"#bf4d28\", \"width\": 1}, \"marker\": {\"opacity\": 0.8}, \"name\": \"2020-01-01 00:00:00\", \"showlegend\": false, \"type\": \"box\", \"whiskerwidth\": 0.5, \"y\": [1575.0, 1725.0, 1400.0, 1500.0, 1400.0, 1762.5, 450.0, 1050.0, 1400.0, 3000.0, 1050.0, 3000.0, 2812.5, 600.0, 825.0, 1400.0, 1450.0]}, {\"boxpoints\": false, \"line\": {\"color\": \"#bf4d28\", \"width\": 1}, \"marker\": {\"opacity\": 0.8}, \"name\": \"2020-02-01 00:00:00\", \"showlegend\": false, \"type\": \"box\", \"whiskerwidth\": 0.5, \"y\": [3375.0, 2625.0, 600.0, 1575.0, 1050.0, 1762.5, 1050.0, 1450.0, 1450.0, 1700.0, 600.0, 900.0, 900.0, 900.0, 1200.0, 1500.0, 1125.0, 1450.0, 825.0]}, {\"boxpoints\": false, \"line\": {\"color\": \"#bf4d28\", \"width\": 1}, \"marker\": {\"opacity\": 0.8}, \"name\": \"2020-03-01 00:00:00\", \"showlegend\": false, \"type\": \"box\", \"whiskerwidth\": 0.5, \"y\": [5250.0, 3937.5, 1405.0, 4750.0, 5000.0, 5250.0, 1500.0, 3750.0, 5000.0, 5250.0, 2737.5, 850.0]}, {\"boxpoints\": false, \"line\": {\"color\": \"#bf4d28\", \"width\": 1}, \"marker\": {\"opacity\": 0.8}, \"name\": \"2020-04-01 00:00:00\", \"showlegend\": false, \"type\": \"box\", \"whiskerwidth\": 0.5, \"y\": [2812.5, 3937.5, 2737.5, 7500.0, 7000.0, 900.0, 2700.0]}],\n",
       "                        {\"autosize\": true, \"font\": {\"color\": \"#655643\", \"family\": \"Fira Sans Condensed\", \"size\": 12}, \"hidesources\": true, \"paper_bgcolor\": \"#fffaf0\", \"plot_bgcolor\": \"#fffaf0\", \"showlegend\": false, \"template\": {\"data\": {\"bar\": [{\"error_x\": {\"color\": \"#2a3f5f\"}, \"error_y\": {\"color\": \"#2a3f5f\"}, \"marker\": {\"line\": {\"color\": \"#E5ECF6\", \"width\": 0.5}}, \"type\": \"bar\"}], \"barpolar\": [{\"marker\": {\"line\": {\"color\": \"#E5ECF6\", \"width\": 0.5}}, \"type\": \"barpolar\"}], \"carpet\": [{\"aaxis\": {\"endlinecolor\": \"#2a3f5f\", \"gridcolor\": \"white\", \"linecolor\": \"white\", \"minorgridcolor\": \"white\", \"startlinecolor\": \"#2a3f5f\"}, \"baxis\": {\"endlinecolor\": \"#2a3f5f\", \"gridcolor\": \"white\", \"linecolor\": \"white\", \"minorgridcolor\": \"white\", \"startlinecolor\": \"#2a3f5f\"}, \"type\": \"carpet\"}], \"choropleth\": [{\"colorbar\": {\"outlinewidth\": 0, \"ticks\": \"\"}, \"type\": \"choropleth\"}], \"contour\": [{\"colorbar\": {\"outlinewidth\": 0, \"ticks\": \"\"}, \"colorscale\": [[0.0, \"#0d0887\"], [0.1111111111111111, \"#46039f\"], [0.2222222222222222, \"#7201a8\"], [0.3333333333333333, \"#9c179e\"], [0.4444444444444444, \"#bd3786\"], [0.5555555555555556, \"#d8576b\"], [0.6666666666666666, \"#ed7953\"], [0.7777777777777778, \"#fb9f3a\"], [0.8888888888888888, \"#fdca26\"], [1.0, \"#f0f921\"]], \"type\": \"contour\"}], \"contourcarpet\": [{\"colorbar\": {\"outlinewidth\": 0, \"ticks\": \"\"}, \"type\": \"contourcarpet\"}], \"heatmap\": [{\"colorbar\": {\"outlinewidth\": 0, \"ticks\": \"\"}, \"colorscale\": [[0.0, \"#0d0887\"], [0.1111111111111111, \"#46039f\"], [0.2222222222222222, \"#7201a8\"], [0.3333333333333333, \"#9c179e\"], [0.4444444444444444, \"#bd3786\"], [0.5555555555555556, \"#d8576b\"], [0.6666666666666666, \"#ed7953\"], [0.7777777777777778, \"#fb9f3a\"], [0.8888888888888888, \"#fdca26\"], [1.0, \"#f0f921\"]], \"type\": \"heatmap\"}], \"heatmapgl\": [{\"colorbar\": {\"outlinewidth\": 0, \"ticks\": \"\"}, \"colorscale\": [[0.0, \"#0d0887\"], [0.1111111111111111, \"#46039f\"], [0.2222222222222222, \"#7201a8\"], [0.3333333333333333, \"#9c179e\"], [0.4444444444444444, \"#bd3786\"], [0.5555555555555556, \"#d8576b\"], [0.6666666666666666, \"#ed7953\"], [0.7777777777777778, \"#fb9f3a\"], [0.8888888888888888, \"#fdca26\"], [1.0, \"#f0f921\"]], \"type\": \"heatmapgl\"}], \"histogram\": [{\"marker\": {\"colorbar\": {\"outlinewidth\": 0, \"ticks\": \"\"}}, \"type\": \"histogram\"}], \"histogram2d\": [{\"colorbar\": {\"outlinewidth\": 0, \"ticks\": \"\"}, \"colorscale\": [[0.0, \"#0d0887\"], [0.1111111111111111, \"#46039f\"], [0.2222222222222222, \"#7201a8\"], [0.3333333333333333, \"#9c179e\"], [0.4444444444444444, \"#bd3786\"], [0.5555555555555556, \"#d8576b\"], [0.6666666666666666, \"#ed7953\"], [0.7777777777777778, \"#fb9f3a\"], [0.8888888888888888, \"#fdca26\"], [1.0, \"#f0f921\"]], \"type\": \"histogram2d\"}], \"histogram2dcontour\": [{\"colorbar\": {\"outlinewidth\": 0, \"ticks\": \"\"}, \"colorscale\": [[0.0, \"#0d0887\"], [0.1111111111111111, \"#46039f\"], [0.2222222222222222, \"#7201a8\"], [0.3333333333333333, \"#9c179e\"], [0.4444444444444444, \"#bd3786\"], [0.5555555555555556, \"#d8576b\"], [0.6666666666666666, \"#ed7953\"], [0.7777777777777778, \"#fb9f3a\"], [0.8888888888888888, \"#fdca26\"], [1.0, \"#f0f921\"]], \"type\": \"histogram2dcontour\"}], \"mesh3d\": [{\"colorbar\": {\"outlinewidth\": 0, \"ticks\": \"\"}, \"type\": \"mesh3d\"}], \"parcoords\": [{\"line\": {\"colorbar\": {\"outlinewidth\": 0, \"ticks\": \"\"}}, \"type\": \"parcoords\"}], \"pie\": [{\"automargin\": true, \"type\": \"pie\"}], \"scatter\": [{\"marker\": {\"colorbar\": {\"outlinewidth\": 0, \"ticks\": \"\"}}, \"type\": \"scatter\"}], \"scatter3d\": [{\"line\": {\"colorbar\": {\"outlinewidth\": 0, \"ticks\": \"\"}}, \"marker\": {\"colorbar\": {\"outlinewidth\": 0, \"ticks\": \"\"}}, \"type\": \"scatter3d\"}], \"scattercarpet\": [{\"marker\": {\"colorbar\": {\"outlinewidth\": 0, \"ticks\": \"\"}}, \"type\": \"scattercarpet\"}], \"scattergeo\": [{\"marker\": {\"colorbar\": {\"outlinewidth\": 0, \"ticks\": \"\"}}, \"type\": \"scattergeo\"}], \"scattergl\": [{\"marker\": {\"colorbar\": {\"outlinewidth\": 0, \"ticks\": \"\"}}, \"type\": \"scattergl\"}], \"scattermapbox\": [{\"marker\": {\"colorbar\": {\"outlinewidth\": 0, \"ticks\": \"\"}}, \"type\": \"scattermapbox\"}], \"scatterpolar\": [{\"marker\": {\"colorbar\": {\"outlinewidth\": 0, \"ticks\": \"\"}}, \"type\": \"scatterpolar\"}], \"scatterpolargl\": [{\"marker\": {\"colorbar\": {\"outlinewidth\": 0, \"ticks\": \"\"}}, \"type\": \"scatterpolargl\"}], \"scatterternary\": [{\"marker\": {\"colorbar\": {\"outlinewidth\": 0, \"ticks\": \"\"}}, \"type\": \"scatterternary\"}], \"surface\": [{\"colorbar\": {\"outlinewidth\": 0, \"ticks\": \"\"}, \"colorscale\": [[0.0, \"#0d0887\"], [0.1111111111111111, \"#46039f\"], [0.2222222222222222, \"#7201a8\"], [0.3333333333333333, \"#9c179e\"], [0.4444444444444444, \"#bd3786\"], [0.5555555555555556, \"#d8576b\"], [0.6666666666666666, \"#ed7953\"], [0.7777777777777778, \"#fb9f3a\"], [0.8888888888888888, \"#fdca26\"], [1.0, \"#f0f921\"]], \"type\": \"surface\"}], \"table\": [{\"cells\": {\"fill\": {\"color\": \"#EBF0F8\"}, \"line\": {\"color\": \"white\"}}, \"header\": {\"fill\": {\"color\": \"#C8D4E3\"}, \"line\": {\"color\": \"white\"}}, \"type\": \"table\"}]}, \"layout\": {\"annotationdefaults\": {\"arrowcolor\": \"#2a3f5f\", \"arrowhead\": 0, \"arrowwidth\": 1}, \"coloraxis\": {\"colorbar\": {\"outlinewidth\": 0, \"ticks\": \"\"}}, \"colorscale\": {\"diverging\": [[0, \"#8e0152\"], [0.1, \"#c51b7d\"], [0.2, \"#de77ae\"], [0.3, \"#f1b6da\"], [0.4, \"#fde0ef\"], [0.5, \"#f7f7f7\"], [0.6, \"#e6f5d0\"], [0.7, \"#b8e186\"], [0.8, \"#7fbc41\"], [0.9, \"#4d9221\"], [1, \"#276419\"]], \"sequential\": [[0.0, \"#0d0887\"], [0.1111111111111111, \"#46039f\"], [0.2222222222222222, \"#7201a8\"], [0.3333333333333333, \"#9c179e\"], [0.4444444444444444, \"#bd3786\"], [0.5555555555555556, \"#d8576b\"], [0.6666666666666666, \"#ed7953\"], [0.7777777777777778, \"#fb9f3a\"], [0.8888888888888888, \"#fdca26\"], [1.0, \"#f0f921\"]], \"sequentialminus\": [[0.0, \"#0d0887\"], [0.1111111111111111, \"#46039f\"], [0.2222222222222222, \"#7201a8\"], [0.3333333333333333, \"#9c179e\"], [0.4444444444444444, \"#bd3786\"], [0.5555555555555556, \"#d8576b\"], [0.6666666666666666, \"#ed7953\"], [0.7777777777777778, \"#fb9f3a\"], [0.8888888888888888, \"#fdca26\"], [1.0, \"#f0f921\"]]}, \"colorway\": [\"#636efa\", \"#EF553B\", \"#00cc96\", \"#ab63fa\", \"#FFA15A\", \"#19d3f3\", \"#FF6692\", \"#B6E880\", \"#FF97FF\", \"#FECB52\"], \"font\": {\"color\": \"#2a3f5f\"}, \"geo\": {\"bgcolor\": \"white\", \"lakecolor\": \"white\", \"landcolor\": \"#E5ECF6\", \"showlakes\": true, \"showland\": true, \"subunitcolor\": \"white\"}, \"hoverlabel\": {\"align\": \"left\"}, \"hovermode\": \"closest\", \"mapbox\": {\"style\": \"light\"}, \"paper_bgcolor\": \"white\", \"plot_bgcolor\": \"#E5ECF6\", \"polar\": {\"angularaxis\": {\"gridcolor\": \"white\", \"linecolor\": \"white\", \"ticks\": \"\"}, \"bgcolor\": \"#E5ECF6\", \"radialaxis\": {\"gridcolor\": \"white\", \"linecolor\": \"white\", \"ticks\": \"\"}}, \"scene\": {\"xaxis\": {\"backgroundcolor\": \"#E5ECF6\", \"gridcolor\": \"white\", \"gridwidth\": 2, \"linecolor\": \"white\", \"showbackground\": true, \"ticks\": \"\", \"zerolinecolor\": \"white\"}, \"yaxis\": {\"backgroundcolor\": \"#E5ECF6\", \"gridcolor\": \"white\", \"gridwidth\": 2, \"linecolor\": \"white\", \"showbackground\": true, \"ticks\": \"\", \"zerolinecolor\": \"white\"}, \"zaxis\": {\"backgroundcolor\": \"#E5ECF6\", \"gridcolor\": \"white\", \"gridwidth\": 2, \"linecolor\": \"white\", \"showbackground\": true, \"ticks\": \"\", \"zerolinecolor\": \"white\"}}, \"shapedefaults\": {\"line\": {\"color\": \"#2a3f5f\"}}, \"ternary\": {\"aaxis\": {\"gridcolor\": \"white\", \"linecolor\": \"white\", \"ticks\": \"\"}, \"baxis\": {\"gridcolor\": \"white\", \"linecolor\": \"white\", \"ticks\": \"\"}, \"bgcolor\": \"#E5ECF6\", \"caxis\": {\"gridcolor\": \"white\", \"linecolor\": \"white\", \"ticks\": \"\"}}, \"title\": {\"x\": 0.05}, \"xaxis\": {\"automargin\": true, \"gridcolor\": \"white\", \"linecolor\": \"white\", \"ticks\": \"\", \"title\": {\"standoff\": 15}, \"zerolinecolor\": \"white\", \"zerolinewidth\": 2}, \"yaxis\": {\"automargin\": true, \"gridcolor\": \"white\", \"linecolor\": \"white\", \"ticks\": \"\", \"title\": {\"standoff\": 15}, \"zerolinecolor\": \"white\", \"zerolinewidth\": 2}}}, \"title\": {\"font\": {\"color\": \"#655643\", \"family\": \"Merryweather\", \"size\": 18}, \"text\": \"Data Offers Monthly Salary Statistics\"}, \"xaxis\": {\"fixedrange\": true, \"gridcolor\": \"#fffaf0\", \"tickmode\": \"auto\", \"ticks\": \"outside\", \"type\": \"date\", \"zerolinecolor\": \"#f2e6ce\"}, \"yaxis\": {\"gridcolor\": \"#f2e6ce\", \"hoverformat\": \",\", \"range\": [0, 6000], \"rangemode\": \"tozero\", \"tickformat\": \",\", \"ticks\": \"outside\", \"tickwidth\": 1, \"title\": {\"text\": \"BGN\"}, \"type\": \"linear\", \"zerolinecolor\": \"#f2e6ce\"}},\n",
       "                        {\"responsive\": true}\n",
       "                    ).then(function(){\n",
       "                            \n",
       "var gd = document.getElementById('360ade62-8d8b-4924-b059-00746c5f1275');\n",
       "var x = new MutationObserver(function (mutations, observer) {{\n",
       "        var display = window.getComputedStyle(gd).display;\n",
       "        if (!display || display === 'none') {{\n",
       "            console.log([gd, 'removed!']);\n",
       "            Plotly.purge(gd);\n",
       "            observer.disconnect();\n",
       "        }}\n",
       "}});\n",
       "\n",
       "// Listen for the removal of the full notebook cells\n",
       "var notebookContainer = gd.closest('#notebook-container');\n",
       "if (notebookContainer) {{\n",
       "    x.observe(notebookContainer, {childList: true});\n",
       "}}\n",
       "\n",
       "// Listen for the clearing of the current output cell\n",
       "var outputEl = gd.closest('.output');\n",
       "if (outputEl) {{\n",
       "    x.observe(outputEl, {childList: true});\n",
       "}}\n",
       "\n",
       "                        })\n",
       "                };\n",
       "                });\n",
       "            </script>\n",
       "        </div>"
      ]
     },
     "metadata": {},
     "output_type": "display_data"
    }
   ],
   "source": [
    "fig = go.Figure(data = data, layout = layout)\n",
    "fig"
   ]
  },
  {
   "cell_type": "code",
   "execution_count": 19,
   "metadata": {},
   "outputs": [],
   "source": [
    "fig.write_html(\n",
    "    file='data_offers_monthly_salary_stats_box.html',\n",
    "    include_plotlyjs='directory',\n",
    "    post_script=JS['chart_fonts'])"
   ]
  },
  {
   "cell_type": "code",
   "execution_count": 20,
   "metadata": {},
   "outputs": [
    {
     "data": {
      "text/html": [
       "<style>\n",
       "@import url('https://fonts.googleapis.com/css?family=Fira+Mono|Fira+Sans|Fira+Sans+Condensed|Fira+Sans+Extra+Condensed');\n",
       "@import url('https://fonts.googleapis.com/css?family=Merriweather|Merriweather+Sans');\n",
       "\n",
       ".nbviewer {\n",
       "    background-color: #E5E1D8;\n",
       "}\n",
       "\n",
       "#notebook {\n",
       "    background-color: #E5E1D8;\n",
       "}\n",
       "\n",
       "#notebook-container {\n",
       "    background-color: #FFFAF0;\n",
       "    max-width: 1100px;\n",
       "    padding: 50px;\n",
       "    border-radius: 4px;\n",
       "    -webkit-box-shadow: 0px 0px 12px 1px rgba(101,86,67,0.75);\n",
       "    -moz-box-shadow: 0px 0px 12px 1px rgba(101,86,67,0.75);\n",
       "    box-shadow: 0px 0px 12px 1px rgba(101,86,67,0.75);\n",
       "}\n",
       "\n",
       "/* Jupyter Notebook Header Styling */\n",
       "body > #header {\n",
       "    background-color:#fafafa;\n",
       "}\n",
       "\n",
       "#header #menubar #menus {\n",
       "    background-color:#fefefe;\n",
       "}\n",
       "\n",
       "/* Headings */\n",
       ".text_cell_render h1 {\n",
       "    color: #655B4F;\n",
       "    font-family: 'Merriweather', serif;\n",
       "    font-weight: 900;\n",
       "    text-align: center;\n",
       "    font-size: 2.5em;\n",
       "    padding: 40px 0 12px 0;\n",
       "    text-shadow: 0 2px #FFFAF0, 0 3px #8c8b8b;\n",
       "}\n",
       "\n",
       ".text_cell_render h2 {\n",
       "    color: #655B4F;\n",
       "    font-family: 'Merriweather', serif;\n",
       "    font-weight: 600;\n",
       "    font-size: 2.2em;\n",
       "    text-indent: 22px;\n",
       "    padding: 40px 0 6px 0;\n",
       "    margin-bottom: 24px;\n",
       "    border-bottom: 1px solid #655B4F;\n",
       "}\n",
       "\n",
       ".text_cell_render h3 {\n",
       "    color: #655B4F;\n",
       "    font-family: 'Merriweather', serif;\n",
       "    font-weight: 300;\n",
       "    padding: 6px 0 0 0;\n",
       "    font-size: 1.6em;\n",
       "}\n",
       "\n",
       ".text_cell_render h4 {\n",
       "    color: #655B4F;\n",
       "    font-family: 'Merriweather', serif;\n",
       "    font-weight: 100;\n",
       "    font-size: 1.2em;\n",
       "}\n",
       "\n",
       "/* Use for subtitles and other non-headings */\n",
       "div.rendered_html > h5 {\n",
       "    font-family: 'Merriweather', serif;\n",
       "    line-height: 1.5em;\n",
       "    color: #655B4F;\n",
       "    font-weight: 200;\n",
       "    font-style: normal important!;\n",
       "    text-indent: 22px;\n",
       "    text-align: center;\n",
       "    margin-top: 0.5em;\n",
       "    padding: 6px 0 6px 0;\n",
       "    border-bottom: 1px solid #655B4F;\n",
       "    border-top: 1px solid #655B4F;\n",
       "}\n",
       "\n",
       "/* Use for image and chart captions */\n",
       "div.rendered_html > h6 {\n",
       "    font-family: 'Merriweather Sans', sans-serif;\n",
       "    font-size: 0.9em;\n",
       "    line-height: 1.5em;\n",
       "    color: #cac8c9;\n",
       "    font-weight: normal;\n",
       "    max-width: 525px;\n",
       "    display: block;\n",
       "    margin-left: auto;\n",
       "    margin-right: auto;\n",
       "}\n",
       "\n",
       "div#notebook-container p {\n",
       "    font-family: 'Fira Sans Condensed', sans-serif;\n",
       "    font-size: 1.2em;\n",
       "    line-height: 1.3em;\n",
       "    color: #655B4F;\n",
       "}\n",
       "\n",
       "/* Plotly Exported Charts Styling */\n",
       ".js-plotly-plot .plotly,\n",
       ".js-plotly-plot .plotly div {\n",
       "    direction: ltr;\n",
       "    font-family: \"Fira Sans Extra Condensed\", verdana, arial, sans-serif;\n",
       "}\n",
       "\n",
       "/* Lists */\n",
       "ol, ul {\n",
       "    font-family: 'Fira Sans Condensed', sans-serif;\n",
       "    line-height: 1.3em;\n",
       "    color: #655B4F;\n",
       "}\n",
       "\n",
       "div.input_prompt {\n",
       "    color: #aad0bc;\n",
       "    font-size: 0.7em;\n",
       "}\n",
       "\n",
       "div.output_prompt {\n",
       "    color: #aad0bc;\n",
       "    font-size: 0.7em;\n",
       "}\n",
       "\n",
       "div.prompt {\n",
       "    min-width: 2ex;\n",
       "}\n",
       "\n",
       "div.output_subarea {\n",
       "    min-width: 425px;\n",
       "    max-width: calc(100% - 1ex);\n",
       "    padding: 0;\n",
       "}\n",
       "\n",
       "div.text_cell code {\n",
       "    padding: 2px;\n",
       "    background-color: #E5E1D8;\n",
       "    color: #483F3A;\n",
       "    font-family: 'Fira Mono', monospace;\n",
       "    font-size: 0.9em;\n",
       "}\n",
       "\n",
       "div.input_area {\n",
       "    background-color: #FFFAF0;\n",
       "    border: 1px solid #E5E1D8;\n",
       "    background: repeating-linear-gradient(135deg, #FFFAF0, #FFFAF0 5px, #F7F7ED 5px, #F7F7ED 10px);\n",
       "}\n",
       "\n",
       "div.cell.rendered.selected {\n",
       "    background: #F7F7ED;\n",
       "    border: 1px solid #293C34;\n",
       "}\n",
       "\n",
       "div.output_area img {\n",
       "    display: block;\n",
       "    margin-left: auto;\n",
       "    margin-right: auto;\n",
       "}\n",
       "\n",
       "div.rendered_html pre, code {\n",
       "    font-family: 'Fira Sans Condensed', sans-serif;\n",
       "    font-size: 16px;\n",
       "    font-weight: 400;\n",
       "    color: #40362F;\n",
       "    background-color: #E5E1D8;\n",
       "}\n",
       "\n",
       "div.output_text pre {\n",
       "    font-family: 'Fira Sans Condensed', sans-serif;\n",
       "    font-size: 13px;\n",
       "    font-weight: 300;\n",
       "    color: #40362F;\n",
       "}\n",
       "\n",
       "\n",
       "pre, textarea {\n",
       "    overflow: hidden;\n",
       "}\n",
       "\n",
       "div.text_cell_render img {\n",
       "    max-height: 550px;\n",
       "    display: block;\n",
       "    margin-left: auto;\n",
       "    margin-right: auto;\n",
       "}\n",
       "\n",
       "div.output output_scroll {\n",
       "    overflow-x: auto;\n",
       "    overflow-y: scroll;\n",
       "    max-height: 2000px;\n",
       "}\n",
       "\n",
       "div.rendered_html hr {\n",
       "    border: 0;\n",
       "    height: 1px;\n",
       "    background-color: #655B4F;\n",
       "}\n",
       "\n",
       "div.rendered_html pre, code {\n",
       "    color: #40362F;\n",
       "    background-color: #FFFAF0;\n",
       "}\n",
       "\n",
       "/* Links */\n",
       "a.link--embedview {\n",
       "    display: none;\n",
       "}\n",
       "\n",
       "a:link {\n",
       "    color: #293C34;\n",
       "}\n",
       "\n",
       "a:visited {\n",
       "    color: #293C34;\n",
       "}\n",
       "\n",
       "a:hover {\n",
       "    color: #557C6C;\n",
       "}\n",
       "\n",
       "a:focus {\n",
       "    color:#557C6C;\n",
       "}\n",
       "\n",
       "a:active {\n",
       "    font-weight: bold;\n",
       "    color:#80BCA3;\n",
       "}\n",
       "\n",
       ".rendered_html :link {\n",
       "    text-decoration: underline;\n",
       "}\n",
       "\n",
       "/* Colors for code highlighting */\n",
       ".CodeMirror pre {\n",
       "    font-family: 'Fira Mono', monospace;\n",
       "    font-size: 0.9em;\n",
       "    font-weight: 600;\n",
       "}\n",
       "\n",
       ".CodeMirror-code span.cm-keyword,\n",
       ".highlight .k,\n",
       ".highlight .ow {\n",
       "    color: #5F362E;\n",
       "}\n",
       "\n",
       ".CodeMirror-code span.cm-variable,\n",
       ".highlight .na {\n",
       "    color: #655B4F;\n",
       "}\n",
       "\n",
       ".CodeMirror-code span.cm-property {\n",
       "    color: #655B4F;\n",
       "}\n",
       "\n",
       ".CodeMirror-code span.cm-def {\n",
       "    color: #293C34;\n",
       "}\n",
       "\n",
       ".CodeMirror-code span.cm-operator {\n",
       "    color: #655B4F;\n",
       "}\n",
       "\n",
       ".CodeMirror-code span.cm-string,\n",
       ".highlight .s {\n",
       "    color: #0B7761;\n",
       "}\n",
       "\n",
       ".CodeMirror-code span.cm-number,\n",
       ".highlight .mb, .highlight .mf, .highlight .mh, .highlight .mi, .highlight .mo {\n",
       "    color: #265BCA;\n",
       "}\n",
       "\n",
       ".CodeMirror-code span.cm-comment,\n",
       ".highlight .c1, .highlight .cs {\n",
       "    color: #75AC95;\n",
       "}\n",
       "\n",
       ".CodeMirror-code span.cm-builtin,\n",
       ".highlight .nb {\n",
       "    color: #5F362E;\n",
       "}\n",
       "\n",
       "/* Code with no class applied (brackets mostly) */\n",
       ".CodeMirror-line > span {\n",
       "    color: #72614B;\n",
       "}\n",
       "\n",
       "/* Table styles */\n",
       "table {\n",
       "    border: 1px solid #BF4D28;\n",
       "}\n",
       "\n",
       "\n",
       ".rendered_html table th {\n",
       "    color: #40362F;\n",
       "    text-align: left;\n",
       "    background-color: #f2e6ce;\n",
       "}\n",
       "\n",
       ".rendered_html td {\n",
       "    color: #40362F;\n",
       "    text-align: left;\n",
       "}\n",
       "\n",
       ".rendered_html table tr:nth-child(odd) {\n",
       "    background-color: #F7F7ED;\n",
       "}\n",
       "\n",
       ".rendered_html table tr:nth-child(even) {\n",
       "    background-color: #FFFAF0;\n",
       "}\n",
       "\n",
       "iframe {\n",
       "    border-width: 0;\n",
       "}\n",
       "\n",
       "@media only screen and (max-width: 600px) {\n",
       "    #notebook-container {\n",
       "        background-color: #FFFAF0;\n",
       "        padding: 15px;\n",
       "        border-radius: 4px;\n",
       "        -webkit-box-shadow: 0px 0px 12px 1px rgba(101,86,67,0.75);\n",
       "        -moz-box-shadow: 0px 0px 12px 1px rgba(101,86,67,0.75);\n",
       "        box-shadow: 0px 0px 12px 1px rgba(101,86,67,0.75);\n",
       "    }\n",
       "\n",
       "    .text_cell_render h1,\n",
       "    .text_cell_render h2 {\n",
       "        text-indent: 0;\n",
       "        text-align: left;\n",
       "        padding: 40px 22px 12px 22px;\n",
       "    }\n",
       "}\n",
       "\n",
       "</style>\n"
      ],
      "text/plain": [
       "<IPython.core.display.HTML object>"
      ]
     },
     "execution_count": 20,
     "metadata": {},
     "output_type": "execute_result"
    }
   ],
   "source": [
    "from IPython.core.display import HTML\n",
    "with open('../resources/styles/datum.css', 'r') as f:\n",
    "    style = f.read()\n",
    "HTML(style)"
   ]
  },
  {
   "cell_type": "code",
   "execution_count": null,
   "metadata": {},
   "outputs": [],
   "source": []
  }
 ],
 "metadata": {
  "kernelspec": {
   "display_name": "Python 3",
   "language": "python",
   "name": "python3"
  },
  "language_info": {
   "codemirror_mode": {
    "name": "ipython",
    "version": 3
   },
   "file_extension": ".py",
   "mimetype": "text/x-python",
   "name": "python",
   "nbconvert_exporter": "python",
   "pygments_lexer": "ipython3",
   "version": "3.8.2"
  }
 },
 "nbformat": 4,
 "nbformat_minor": 2
}
