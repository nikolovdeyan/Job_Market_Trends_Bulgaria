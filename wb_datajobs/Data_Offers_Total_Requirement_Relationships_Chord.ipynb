{
 "cells": [
  {
   "cell_type": "markdown",
   "metadata": {},
   "source": [
    "## Requirements Relationships Chord Diagram\n"
   ]
  },
  {
   "cell_type": "code",
   "execution_count": 1,
   "metadata": {},
   "outputs": [
    {
     "data": {
      "text/html": [
       "        <script type=\"text/javascript\">\n",
       "        window.PlotlyConfig = {MathJaxConfig: 'local'};\n",
       "        if (window.MathJax) {MathJax.Hub.Config({SVG: {font: \"STIX-Web\"}});}\n",
       "        if (typeof require !== 'undefined') {\n",
       "        require.undef(\"plotly\");\n",
       "        requirejs.config({\n",
       "            paths: {\n",
       "                'plotly': ['https://cdn.plot.ly/plotly-latest.min']\n",
       "            }\n",
       "        });\n",
       "        require(['plotly'], function(Plotly) {\n",
       "            window._Plotly = Plotly;\n",
       "        });\n",
       "        }\n",
       "        </script>\n",
       "        "
      ]
     },
     "metadata": {},
     "output_type": "display_data"
    }
   ],
   "source": [
    "import re\n",
    "from itertools import combinations\n",
    "import psycopg2\n",
    "import numpy as np\n",
    "import pandas as pd\n",
    "import plotly\n",
    "import chart_studio.plotly as py\n",
    "import plotly.graph_objs as go\n",
    "from IPython import display\n",
    "from bs4 import BeautifulSoup as bs\n",
    "\n",
    "from nbstyler import DATA_STYLE as DS\n",
    "\n",
    "plotly.offline.init_notebook_mode(connected=True)\n",
    "\n",
    "%matplotlib notebook\n",
    "%matplotlib inline"
   ]
  },
  {
   "cell_type": "markdown",
   "metadata": {},
   "source": [
    "### Objectives\n",
    "\n",
    "The main objective for this recipe is to try the plotly implementation of the chord diagram and to provide a clean recipe for preparing such charts in the future. \n",
    "\n",
    "\n",
    "### Data Preparation"
   ]
  },
  {
   "cell_type": "code",
   "execution_count": 2,
   "metadata": {},
   "outputs": [],
   "source": [
    "data_querystr = \"\"\"SELECT * FROM data_offers.do_full_offer_history\"\"\"\n",
    "conn = psycopg2.connect('dbname=jobsbg')\n",
    "data_df = pd.read_sql_query(data_querystr, conn, index_col='subm_date')\n",
    "conn.close()"
   ]
  },
  {
   "cell_type": "code",
   "execution_count": 3,
   "metadata": {},
   "outputs": [
    {
     "data": {
      "text/html": [
       "<div>\n",
       "<style scoped>\n",
       "    .dataframe tbody tr th:only-of-type {\n",
       "        vertical-align: middle;\n",
       "    }\n",
       "\n",
       "    .dataframe tbody tr th {\n",
       "        vertical-align: top;\n",
       "    }\n",
       "\n",
       "    .dataframe thead th {\n",
       "        text-align: right;\n",
       "    }\n",
       "</style>\n",
       "<table border=\"1\" class=\"dataframe\">\n",
       "  <thead>\n",
       "    <tr style=\"text-align: right;\">\n",
       "      <th></th>\n",
       "      <th>subm_type</th>\n",
       "      <th>job_id</th>\n",
       "      <th>company_id</th>\n",
       "      <th>norm_salary</th>\n",
       "      <th>job_title</th>\n",
       "      <th>company_name</th>\n",
       "      <th>text_salary</th>\n",
       "      <th>job_location</th>\n",
       "      <th>job_contents</th>\n",
       "    </tr>\n",
       "    <tr>\n",
       "      <th>subm_date</th>\n",
       "      <th></th>\n",
       "      <th></th>\n",
       "      <th></th>\n",
       "      <th></th>\n",
       "      <th></th>\n",
       "      <th></th>\n",
       "      <th></th>\n",
       "      <th></th>\n",
       "      <th></th>\n",
       "    </tr>\n",
       "  </thead>\n",
       "  <tbody>\n",
       "    <tr>\n",
       "      <th>2017-09-27</th>\n",
       "      <td>submission</td>\n",
       "      <td>3994555</td>\n",
       "      <td>67058</td>\n",
       "      <td>NaN</td>\n",
       "      <td>ETL Developer</td>\n",
       "      <td>Adastra Bulgaria Ltd.</td>\n",
       "      <td>None</td>\n",
       "      <td>София</td>\n",
       "      <td>&lt;!DOCTYPE html PUBLIC \"-//W3C//DTD XHTML 1.0 ...</td>\n",
       "    </tr>\n",
       "  </tbody>\n",
       "</table>\n",
       "</div>"
      ],
      "text/plain": [
       "             subm_type   job_id  company_id  norm_salary      job_title  \\\n",
       "subm_date                                                                 \n",
       "2017-09-27  submission  3994555       67058          NaN  ETL Developer   \n",
       "\n",
       "                     company_name text_salary job_location  \\\n",
       "subm_date                                                    \n",
       "2017-09-27  Adastra Bulgaria Ltd.        None        София   \n",
       "\n",
       "                                                 job_contents  \n",
       "subm_date                                                      \n",
       "2017-09-27   <!DOCTYPE html PUBLIC \"-//W3C//DTD XHTML 1.0 ...  "
      ]
     },
     "execution_count": 3,
     "metadata": {},
     "output_type": "execute_result"
    }
   ],
   "source": [
    "data_df.head(1)"
   ]
  },
  {
   "cell_type": "markdown",
   "metadata": {},
   "source": [
    "### Relationship Categories Definition"
   ]
  },
  {
   "cell_type": "markdown",
   "metadata": {},
   "source": [
    "In order to build the necessary data we first need to define the scope of the relationships we aim to observe. The search strings we will compare should be of the same semantic category to provide meaningful insight.\n",
    "\n",
    "To explore the data and prepare proper definitions we took a deep dive in the data offers' text contents. We used the `nltk` library for text processing to produce frequency distributions of most common words, bigrams and trigrams. Then those distributions were used to explore different possible relationship categories. See the details in the [Requirements Deep Dive Notebook](./Data_Offers_Requirements_Deep_Dive.ipynb).\n",
    "\n",
    "For the first chord diagram the chosen view is a breakdown by technology. Other possible relationships to explore are skill requirements breakdown, perks & benefits breakdown, job title breakdown, etc."
   ]
  },
  {
   "cell_type": "markdown",
   "metadata": {},
   "source": [
    "### Data Jobs Technology Requirement Relationships"
   ]
  },
  {
   "cell_type": "markdown",
   "metadata": {},
   "source": [
    "A preliminary list of terms that describe most often sought categories is presented below. We are going to use it to construct regex filters for selected key technologies."
   ]
  },
  {
   "cell_type": "code",
   "execution_count": 4,
   "metadata": {},
   "outputs": [],
   "source": [
    "tech_terms_filters = [\n",
    "    r'power bi', r'excel', r'ss[ir]s',\n",
    "    r'sql server', r'postgresql', r'(mysql)|(mariadb)', r't.?sql', r'pl.?sql',\n",
    "    r'pentaho', r'hadoop', r'spark', r'informatica',\n",
    "    r'qlik', r'tableau', r'microstrategy', r'oracle (bi)|(business intelligence)',\n",
    "    r'python', r'vba', r'linux', r'aws']\n",
    "\n",
    "tech_terms_labels = [\n",
    "    'Power BI', 'Excel', 'SSIS/SSRS',\n",
    "    'MS SQL Server', 'PostgreSQL', 'MySQL/MariaDB', 'T-SQL', 'PL/SQL',\n",
    "    'Pentaho', 'Hadoop', 'Spark', 'Informatica',\n",
    "    'Qlik', 'Tableau', 'Microstrategy', 'Oracle BI',\n",
    "    'Python', 'VBA', 'Linux', 'AWS']"
   ]
  },
  {
   "cell_type": "markdown",
   "metadata": {},
   "source": [
    "#### Preparing a square matrix with counts for matching filters"
   ]
  },
  {
   "cell_type": "markdown",
   "metadata": {},
   "source": [
    "First we define a helper function that returns `True` for job offers where both of the provided patterns are found in the job contents. We also prepare a list of all possible filter patterns' combinations."
   ]
  },
  {
   "cell_type": "code",
   "execution_count": 5,
   "metadata": {},
   "outputs": [],
   "source": [
    "def match_terms(first_term, second_term, text):\n",
    "    match_found = re.search(first_term, text, re.IGNORECASE) and re.search(second_term, text, re.IGNORECASE)\n",
    "    return True if match_found else False\n",
    "\n",
    "    \n",
    "def count_matches(first_term, second_term, col):\n",
    "    return sum([match_terms(first_term, second_term, t) for t in col.values])\n",
    "\n",
    "req_combinations = list(combinations(tech_terms_filters, 2))"
   ]
  },
  {
   "cell_type": "markdown",
   "metadata": {},
   "source": [
    "Building the counts in a dictionary with keys composed of tuples with both search terms. "
   ]
  },
  {
   "cell_type": "code",
   "execution_count": 6,
   "metadata": {},
   "outputs": [
    {
     "name": "stdout",
     "output_type": "stream",
     "text": [
      "CPU times: user 4min 20s, sys: 43.1 ms, total: 4min 20s\n",
      "Wall time: 4min 20s\n"
     ]
    }
   ],
   "source": [
    "%%time\n",
    "match_results = [count_matches(*tup, data_df.job_contents) for tup in req_combinations]\n",
    "match_dict = dict(zip(req_combinations, match_results))"
   ]
  },
  {
   "cell_type": "markdown",
   "metadata": {},
   "source": [
    "Another helper function will unpack the combinations counts into a square matrix form. Finally, a DataFrame is created from the combinations counts matrix. This is our main data source for the chord diagram. "
   ]
  },
  {
   "cell_type": "code",
   "execution_count": 7,
   "metadata": {},
   "outputs": [],
   "source": [
    "def make_matrix(headers, counts):\n",
    "    res = []\n",
    "    for k1 in headers:\n",
    "        row = []\n",
    "        for k2 in headers:\n",
    "            if k1 == k2:\n",
    "                row.append(0)\n",
    "            else:\n",
    "                curr_key = tuple([k1, k2])\n",
    "                cell_value = counts.get(curr_key) if curr_key in counts else counts.get(tuple([k2, k1]))\n",
    "                row.append(cell_value)\n",
    "        res.append(row)\n",
    "    return np.array(res, dtype=int)  "
   ]
  },
  {
   "cell_type": "code",
   "execution_count": 8,
   "metadata": {},
   "outputs": [],
   "source": [
    "tech_terms_matrix = make_matrix(tech_terms_filters, match_dict)"
   ]
  },
  {
   "cell_type": "code",
   "execution_count": 9,
   "metadata": {},
   "outputs": [
    {
     "data": {
      "text/html": [
       "<div>\n",
       "<style scoped>\n",
       "    .dataframe tbody tr th:only-of-type {\n",
       "        vertical-align: middle;\n",
       "    }\n",
       "\n",
       "    .dataframe tbody tr th {\n",
       "        vertical-align: top;\n",
       "    }\n",
       "\n",
       "    .dataframe thead th {\n",
       "        text-align: right;\n",
       "    }\n",
       "</style>\n",
       "<table border=\"1\" class=\"dataframe\">\n",
       "  <thead>\n",
       "    <tr style=\"text-align: right;\">\n",
       "      <th></th>\n",
       "      <th>Power BI</th>\n",
       "      <th>Excel</th>\n",
       "      <th>SSIS/SSRS</th>\n",
       "      <th>MS SQL Server</th>\n",
       "      <th>PostgreSQL</th>\n",
       "      <th>MySQL/MariaDB</th>\n",
       "      <th>T-SQL</th>\n",
       "      <th>PL/SQL</th>\n",
       "      <th>Pentaho</th>\n",
       "      <th>Hadoop</th>\n",
       "      <th>Spark</th>\n",
       "      <th>Informatica</th>\n",
       "      <th>Qlik</th>\n",
       "      <th>Tableau</th>\n",
       "      <th>Microstrategy</th>\n",
       "      <th>Oracle BI</th>\n",
       "      <th>Python</th>\n",
       "      <th>VBA</th>\n",
       "      <th>Linux</th>\n",
       "      <th>AWS</th>\n",
       "    </tr>\n",
       "  </thead>\n",
       "  <tbody>\n",
       "    <tr>\n",
       "      <th>Power BI</th>\n",
       "      <td>0</td>\n",
       "      <td>300</td>\n",
       "      <td>192</td>\n",
       "      <td>175</td>\n",
       "      <td>0</td>\n",
       "      <td>5</td>\n",
       "      <td>79</td>\n",
       "      <td>11</td>\n",
       "      <td>13</td>\n",
       "      <td>55</td>\n",
       "      <td>62</td>\n",
       "      <td>27</td>\n",
       "      <td>238</td>\n",
       "      <td>275</td>\n",
       "      <td>39</td>\n",
       "      <td>254</td>\n",
       "      <td>121</td>\n",
       "      <td>45</td>\n",
       "      <td>14</td>\n",
       "      <td>10</td>\n",
       "    </tr>\n",
       "    <tr>\n",
       "      <th>Excel</th>\n",
       "      <td>300</td>\n",
       "      <td>0</td>\n",
       "      <td>737</td>\n",
       "      <td>296</td>\n",
       "      <td>83</td>\n",
       "      <td>160</td>\n",
       "      <td>202</td>\n",
       "      <td>71</td>\n",
       "      <td>68</td>\n",
       "      <td>132</td>\n",
       "      <td>131</td>\n",
       "      <td>127</td>\n",
       "      <td>503</td>\n",
       "      <td>570</td>\n",
       "      <td>56</td>\n",
       "      <td>788</td>\n",
       "      <td>501</td>\n",
       "      <td>322</td>\n",
       "      <td>107</td>\n",
       "      <td>80</td>\n",
       "    </tr>\n",
       "    <tr>\n",
       "      <th>SSIS/SSRS</th>\n",
       "      <td>192</td>\n",
       "      <td>737</td>\n",
       "      <td>0</td>\n",
       "      <td>317</td>\n",
       "      <td>66</td>\n",
       "      <td>93</td>\n",
       "      <td>179</td>\n",
       "      <td>76</td>\n",
       "      <td>40</td>\n",
       "      <td>78</td>\n",
       "      <td>72</td>\n",
       "      <td>85</td>\n",
       "      <td>118</td>\n",
       "      <td>247</td>\n",
       "      <td>44</td>\n",
       "      <td>375</td>\n",
       "      <td>233</td>\n",
       "      <td>116</td>\n",
       "      <td>28</td>\n",
       "      <td>42</td>\n",
       "    </tr>\n",
       "    <tr>\n",
       "      <th>MS SQL Server</th>\n",
       "      <td>175</td>\n",
       "      <td>296</td>\n",
       "      <td>317</td>\n",
       "      <td>0</td>\n",
       "      <td>110</td>\n",
       "      <td>115</td>\n",
       "      <td>224</td>\n",
       "      <td>14</td>\n",
       "      <td>55</td>\n",
       "      <td>57</td>\n",
       "      <td>55</td>\n",
       "      <td>79</td>\n",
       "      <td>79</td>\n",
       "      <td>154</td>\n",
       "      <td>25</td>\n",
       "      <td>220</td>\n",
       "      <td>142</td>\n",
       "      <td>39</td>\n",
       "      <td>69</td>\n",
       "      <td>17</td>\n",
       "    </tr>\n",
       "    <tr>\n",
       "      <th>PostgreSQL</th>\n",
       "      <td>0</td>\n",
       "      <td>83</td>\n",
       "      <td>66</td>\n",
       "      <td>110</td>\n",
       "      <td>0</td>\n",
       "      <td>131</td>\n",
       "      <td>51</td>\n",
       "      <td>3</td>\n",
       "      <td>56</td>\n",
       "      <td>12</td>\n",
       "      <td>23</td>\n",
       "      <td>2</td>\n",
       "      <td>16</td>\n",
       "      <td>8</td>\n",
       "      <td>0</td>\n",
       "      <td>56</td>\n",
       "      <td>41</td>\n",
       "      <td>0</td>\n",
       "      <td>65</td>\n",
       "      <td>18</td>\n",
       "    </tr>\n",
       "    <tr>\n",
       "      <th>MySQL/MariaDB</th>\n",
       "      <td>5</td>\n",
       "      <td>160</td>\n",
       "      <td>93</td>\n",
       "      <td>115</td>\n",
       "      <td>131</td>\n",
       "      <td>0</td>\n",
       "      <td>49</td>\n",
       "      <td>1</td>\n",
       "      <td>74</td>\n",
       "      <td>20</td>\n",
       "      <td>46</td>\n",
       "      <td>11</td>\n",
       "      <td>19</td>\n",
       "      <td>78</td>\n",
       "      <td>0</td>\n",
       "      <td>88</td>\n",
       "      <td>83</td>\n",
       "      <td>6</td>\n",
       "      <td>72</td>\n",
       "      <td>15</td>\n",
       "    </tr>\n",
       "    <tr>\n",
       "      <th>T-SQL</th>\n",
       "      <td>79</td>\n",
       "      <td>202</td>\n",
       "      <td>179</td>\n",
       "      <td>224</td>\n",
       "      <td>51</td>\n",
       "      <td>49</td>\n",
       "      <td>0</td>\n",
       "      <td>56</td>\n",
       "      <td>52</td>\n",
       "      <td>52</td>\n",
       "      <td>47</td>\n",
       "      <td>20</td>\n",
       "      <td>87</td>\n",
       "      <td>137</td>\n",
       "      <td>22</td>\n",
       "      <td>191</td>\n",
       "      <td>78</td>\n",
       "      <td>27</td>\n",
       "      <td>36</td>\n",
       "      <td>20</td>\n",
       "    </tr>\n",
       "    <tr>\n",
       "      <th>PL/SQL</th>\n",
       "      <td>11</td>\n",
       "      <td>71</td>\n",
       "      <td>76</td>\n",
       "      <td>14</td>\n",
       "      <td>3</td>\n",
       "      <td>1</td>\n",
       "      <td>56</td>\n",
       "      <td>0</td>\n",
       "      <td>8</td>\n",
       "      <td>9</td>\n",
       "      <td>0</td>\n",
       "      <td>38</td>\n",
       "      <td>20</td>\n",
       "      <td>33</td>\n",
       "      <td>26</td>\n",
       "      <td>111</td>\n",
       "      <td>5</td>\n",
       "      <td>11</td>\n",
       "      <td>5</td>\n",
       "      <td>3</td>\n",
       "    </tr>\n",
       "    <tr>\n",
       "      <th>Pentaho</th>\n",
       "      <td>13</td>\n",
       "      <td>68</td>\n",
       "      <td>40</td>\n",
       "      <td>55</td>\n",
       "      <td>56</td>\n",
       "      <td>74</td>\n",
       "      <td>52</td>\n",
       "      <td>8</td>\n",
       "      <td>0</td>\n",
       "      <td>0</td>\n",
       "      <td>8</td>\n",
       "      <td>40</td>\n",
       "      <td>37</td>\n",
       "      <td>45</td>\n",
       "      <td>8</td>\n",
       "      <td>41</td>\n",
       "      <td>38</td>\n",
       "      <td>1</td>\n",
       "      <td>44</td>\n",
       "      <td>15</td>\n",
       "    </tr>\n",
       "    <tr>\n",
       "      <th>Hadoop</th>\n",
       "      <td>55</td>\n",
       "      <td>132</td>\n",
       "      <td>78</td>\n",
       "      <td>57</td>\n",
       "      <td>12</td>\n",
       "      <td>20</td>\n",
       "      <td>52</td>\n",
       "      <td>9</td>\n",
       "      <td>0</td>\n",
       "      <td>0</td>\n",
       "      <td>244</td>\n",
       "      <td>16</td>\n",
       "      <td>15</td>\n",
       "      <td>91</td>\n",
       "      <td>7</td>\n",
       "      <td>87</td>\n",
       "      <td>261</td>\n",
       "      <td>11</td>\n",
       "      <td>145</td>\n",
       "      <td>95</td>\n",
       "    </tr>\n",
       "    <tr>\n",
       "      <th>Spark</th>\n",
       "      <td>62</td>\n",
       "      <td>131</td>\n",
       "      <td>72</td>\n",
       "      <td>55</td>\n",
       "      <td>23</td>\n",
       "      <td>46</td>\n",
       "      <td>47</td>\n",
       "      <td>0</td>\n",
       "      <td>8</td>\n",
       "      <td>244</td>\n",
       "      <td>0</td>\n",
       "      <td>17</td>\n",
       "      <td>17</td>\n",
       "      <td>70</td>\n",
       "      <td>3</td>\n",
       "      <td>79</td>\n",
       "      <td>284</td>\n",
       "      <td>10</td>\n",
       "      <td>129</td>\n",
       "      <td>104</td>\n",
       "    </tr>\n",
       "    <tr>\n",
       "      <th>Informatica</th>\n",
       "      <td>27</td>\n",
       "      <td>127</td>\n",
       "      <td>85</td>\n",
       "      <td>79</td>\n",
       "      <td>2</td>\n",
       "      <td>11</td>\n",
       "      <td>20</td>\n",
       "      <td>38</td>\n",
       "      <td>40</td>\n",
       "      <td>16</td>\n",
       "      <td>17</td>\n",
       "      <td>0</td>\n",
       "      <td>102</td>\n",
       "      <td>85</td>\n",
       "      <td>28</td>\n",
       "      <td>147</td>\n",
       "      <td>34</td>\n",
       "      <td>6</td>\n",
       "      <td>15</td>\n",
       "      <td>25</td>\n",
       "    </tr>\n",
       "    <tr>\n",
       "      <th>Qlik</th>\n",
       "      <td>238</td>\n",
       "      <td>503</td>\n",
       "      <td>118</td>\n",
       "      <td>79</td>\n",
       "      <td>16</td>\n",
       "      <td>19</td>\n",
       "      <td>87</td>\n",
       "      <td>20</td>\n",
       "      <td>37</td>\n",
       "      <td>15</td>\n",
       "      <td>17</td>\n",
       "      <td>102</td>\n",
       "      <td>0</td>\n",
       "      <td>409</td>\n",
       "      <td>53</td>\n",
       "      <td>428</td>\n",
       "      <td>60</td>\n",
       "      <td>31</td>\n",
       "      <td>3</td>\n",
       "      <td>5</td>\n",
       "    </tr>\n",
       "    <tr>\n",
       "      <th>Tableau</th>\n",
       "      <td>275</td>\n",
       "      <td>570</td>\n",
       "      <td>247</td>\n",
       "      <td>154</td>\n",
       "      <td>8</td>\n",
       "      <td>78</td>\n",
       "      <td>137</td>\n",
       "      <td>33</td>\n",
       "      <td>45</td>\n",
       "      <td>91</td>\n",
       "      <td>70</td>\n",
       "      <td>85</td>\n",
       "      <td>409</td>\n",
       "      <td>0</td>\n",
       "      <td>76</td>\n",
       "      <td>561</td>\n",
       "      <td>209</td>\n",
       "      <td>96</td>\n",
       "      <td>34</td>\n",
       "      <td>38</td>\n",
       "    </tr>\n",
       "    <tr>\n",
       "      <th>Microstrategy</th>\n",
       "      <td>39</td>\n",
       "      <td>56</td>\n",
       "      <td>44</td>\n",
       "      <td>25</td>\n",
       "      <td>0</td>\n",
       "      <td>0</td>\n",
       "      <td>22</td>\n",
       "      <td>26</td>\n",
       "      <td>8</td>\n",
       "      <td>7</td>\n",
       "      <td>3</td>\n",
       "      <td>28</td>\n",
       "      <td>53</td>\n",
       "      <td>76</td>\n",
       "      <td>0</td>\n",
       "      <td>76</td>\n",
       "      <td>20</td>\n",
       "      <td>7</td>\n",
       "      <td>14</td>\n",
       "      <td>2</td>\n",
       "    </tr>\n",
       "    <tr>\n",
       "      <th>Oracle BI</th>\n",
       "      <td>254</td>\n",
       "      <td>788</td>\n",
       "      <td>375</td>\n",
       "      <td>220</td>\n",
       "      <td>56</td>\n",
       "      <td>88</td>\n",
       "      <td>191</td>\n",
       "      <td>111</td>\n",
       "      <td>41</td>\n",
       "      <td>87</td>\n",
       "      <td>79</td>\n",
       "      <td>147</td>\n",
       "      <td>428</td>\n",
       "      <td>561</td>\n",
       "      <td>76</td>\n",
       "      <td>0</td>\n",
       "      <td>234</td>\n",
       "      <td>96</td>\n",
       "      <td>13</td>\n",
       "      <td>63</td>\n",
       "    </tr>\n",
       "    <tr>\n",
       "      <th>Python</th>\n",
       "      <td>121</td>\n",
       "      <td>501</td>\n",
       "      <td>233</td>\n",
       "      <td>142</td>\n",
       "      <td>41</td>\n",
       "      <td>83</td>\n",
       "      <td>78</td>\n",
       "      <td>5</td>\n",
       "      <td>38</td>\n",
       "      <td>261</td>\n",
       "      <td>284</td>\n",
       "      <td>34</td>\n",
       "      <td>60</td>\n",
       "      <td>209</td>\n",
       "      <td>20</td>\n",
       "      <td>234</td>\n",
       "      <td>0</td>\n",
       "      <td>76</td>\n",
       "      <td>159</td>\n",
       "      <td>151</td>\n",
       "    </tr>\n",
       "    <tr>\n",
       "      <th>VBA</th>\n",
       "      <td>45</td>\n",
       "      <td>322</td>\n",
       "      <td>116</td>\n",
       "      <td>39</td>\n",
       "      <td>0</td>\n",
       "      <td>6</td>\n",
       "      <td>27</td>\n",
       "      <td>11</td>\n",
       "      <td>1</td>\n",
       "      <td>11</td>\n",
       "      <td>10</td>\n",
       "      <td>6</td>\n",
       "      <td>31</td>\n",
       "      <td>96</td>\n",
       "      <td>7</td>\n",
       "      <td>96</td>\n",
       "      <td>76</td>\n",
       "      <td>0</td>\n",
       "      <td>5</td>\n",
       "      <td>5</td>\n",
       "    </tr>\n",
       "    <tr>\n",
       "      <th>Linux</th>\n",
       "      <td>14</td>\n",
       "      <td>107</td>\n",
       "      <td>28</td>\n",
       "      <td>69</td>\n",
       "      <td>65</td>\n",
       "      <td>72</td>\n",
       "      <td>36</td>\n",
       "      <td>5</td>\n",
       "      <td>44</td>\n",
       "      <td>145</td>\n",
       "      <td>129</td>\n",
       "      <td>15</td>\n",
       "      <td>3</td>\n",
       "      <td>34</td>\n",
       "      <td>14</td>\n",
       "      <td>13</td>\n",
       "      <td>159</td>\n",
       "      <td>5</td>\n",
       "      <td>0</td>\n",
       "      <td>50</td>\n",
       "    </tr>\n",
       "    <tr>\n",
       "      <th>AWS</th>\n",
       "      <td>10</td>\n",
       "      <td>80</td>\n",
       "      <td>42</td>\n",
       "      <td>17</td>\n",
       "      <td>18</td>\n",
       "      <td>15</td>\n",
       "      <td>20</td>\n",
       "      <td>3</td>\n",
       "      <td>15</td>\n",
       "      <td>95</td>\n",
       "      <td>104</td>\n",
       "      <td>25</td>\n",
       "      <td>5</td>\n",
       "      <td>38</td>\n",
       "      <td>2</td>\n",
       "      <td>63</td>\n",
       "      <td>151</td>\n",
       "      <td>5</td>\n",
       "      <td>50</td>\n",
       "      <td>0</td>\n",
       "    </tr>\n",
       "  </tbody>\n",
       "</table>\n",
       "</div>"
      ],
      "text/plain": [
       "               Power BI  Excel  SSIS/SSRS  MS SQL Server  PostgreSQL  \\\n",
       "Power BI              0    300        192            175           0   \n",
       "Excel               300      0        737            296          83   \n",
       "SSIS/SSRS           192    737          0            317          66   \n",
       "MS SQL Server       175    296        317              0         110   \n",
       "PostgreSQL            0     83         66            110           0   \n",
       "MySQL/MariaDB         5    160         93            115         131   \n",
       "T-SQL                79    202        179            224          51   \n",
       "PL/SQL               11     71         76             14           3   \n",
       "Pentaho              13     68         40             55          56   \n",
       "Hadoop               55    132         78             57          12   \n",
       "Spark                62    131         72             55          23   \n",
       "Informatica          27    127         85             79           2   \n",
       "Qlik                238    503        118             79          16   \n",
       "Tableau             275    570        247            154           8   \n",
       "Microstrategy        39     56         44             25           0   \n",
       "Oracle BI           254    788        375            220          56   \n",
       "Python              121    501        233            142          41   \n",
       "VBA                  45    322        116             39           0   \n",
       "Linux                14    107         28             69          65   \n",
       "AWS                  10     80         42             17          18   \n",
       "\n",
       "               MySQL/MariaDB  T-SQL  PL/SQL  Pentaho  Hadoop  Spark  \\\n",
       "Power BI                   5     79      11       13      55     62   \n",
       "Excel                    160    202      71       68     132    131   \n",
       "SSIS/SSRS                 93    179      76       40      78     72   \n",
       "MS SQL Server            115    224      14       55      57     55   \n",
       "PostgreSQL               131     51       3       56      12     23   \n",
       "MySQL/MariaDB              0     49       1       74      20     46   \n",
       "T-SQL                     49      0      56       52      52     47   \n",
       "PL/SQL                     1     56       0        8       9      0   \n",
       "Pentaho                   74     52       8        0       0      8   \n",
       "Hadoop                    20     52       9        0       0    244   \n",
       "Spark                     46     47       0        8     244      0   \n",
       "Informatica               11     20      38       40      16     17   \n",
       "Qlik                      19     87      20       37      15     17   \n",
       "Tableau                   78    137      33       45      91     70   \n",
       "Microstrategy              0     22      26        8       7      3   \n",
       "Oracle BI                 88    191     111       41      87     79   \n",
       "Python                    83     78       5       38     261    284   \n",
       "VBA                        6     27      11        1      11     10   \n",
       "Linux                     72     36       5       44     145    129   \n",
       "AWS                       15     20       3       15      95    104   \n",
       "\n",
       "               Informatica  Qlik  Tableau  Microstrategy  Oracle BI  Python  \\\n",
       "Power BI                27   238      275             39        254     121   \n",
       "Excel                  127   503      570             56        788     501   \n",
       "SSIS/SSRS               85   118      247             44        375     233   \n",
       "MS SQL Server           79    79      154             25        220     142   \n",
       "PostgreSQL               2    16        8              0         56      41   \n",
       "MySQL/MariaDB           11    19       78              0         88      83   \n",
       "T-SQL                   20    87      137             22        191      78   \n",
       "PL/SQL                  38    20       33             26        111       5   \n",
       "Pentaho                 40    37       45              8         41      38   \n",
       "Hadoop                  16    15       91              7         87     261   \n",
       "Spark                   17    17       70              3         79     284   \n",
       "Informatica              0   102       85             28        147      34   \n",
       "Qlik                   102     0      409             53        428      60   \n",
       "Tableau                 85   409        0             76        561     209   \n",
       "Microstrategy           28    53       76              0         76      20   \n",
       "Oracle BI              147   428      561             76          0     234   \n",
       "Python                  34    60      209             20        234       0   \n",
       "VBA                      6    31       96              7         96      76   \n",
       "Linux                   15     3       34             14         13     159   \n",
       "AWS                     25     5       38              2         63     151   \n",
       "\n",
       "               VBA  Linux  AWS  \n",
       "Power BI        45     14   10  \n",
       "Excel          322    107   80  \n",
       "SSIS/SSRS      116     28   42  \n",
       "MS SQL Server   39     69   17  \n",
       "PostgreSQL       0     65   18  \n",
       "MySQL/MariaDB    6     72   15  \n",
       "T-SQL           27     36   20  \n",
       "PL/SQL          11      5    3  \n",
       "Pentaho          1     44   15  \n",
       "Hadoop          11    145   95  \n",
       "Spark           10    129  104  \n",
       "Informatica      6     15   25  \n",
       "Qlik            31      3    5  \n",
       "Tableau         96     34   38  \n",
       "Microstrategy    7     14    2  \n",
       "Oracle BI       96     13   63  \n",
       "Python          76    159  151  \n",
       "VBA              0      5    5  \n",
       "Linux            5      0   50  \n",
       "AWS              5     50    0  "
      ]
     },
     "execution_count": 9,
     "metadata": {},
     "output_type": "execute_result"
    }
   ],
   "source": [
    "tech_terms_df = pd.DataFrame(tech_terms_matrix, columns=tech_terms_labels, index=tech_terms_labels)\n",
    "tech_terms_df"
   ]
  },
  {
   "cell_type": "markdown",
   "metadata": {},
   "source": [
    "We can finally move to Plotly. \n",
    "\n",
    "A chord diagram encodes information in two graphical objects:\n",
    "\n",
    "- Ideograms, represented by distinctly colored arcs of circles;\n",
    "- Ribbons, that are planar shapes bounded by two quadratic Bezier curves and two arcs of circle,that can degenerate to a point;\n"
   ]
  },
  {
   "cell_type": "markdown",
   "metadata": {},
   "source": [
    "### Ideograms Preparation"
   ]
  },
  {
   "cell_type": "markdown",
   "metadata": {},
   "source": [
    "For each of our predefined tech terms we can produce a total hits count by summing up all the entries on the row (or column for that matter). That total count determines the size of each ideogram of the chart.\n",
    "\n",
    "We are going to need a couple of helper functions to process the data in order to get ideogram ends.\n"
   ]
  },
  {
   "cell_type": "code",
   "execution_count": 10,
   "metadata": {},
   "outputs": [],
   "source": [
    "PI = np.pi\n",
    "\n",
    "def moduloAB(x, a, b):\n",
    "    if a >= b:\n",
    "        raise ValueError('Incorrect interval ends')\n",
    "    y = (x-a) % (b-a)\n",
    "    return y+b if y < 0 else y+a\n",
    "\n",
    "\n",
    "def test_2PI(x):\n",
    "    return 0 <= x < 2*PI"
   ]
  },
  {
   "cell_type": "markdown",
   "metadata": {},
   "source": [
    "And now use them to compute the row sums and the lengths of corresponding ideograms."
   ]
  },
  {
   "cell_type": "code",
   "execution_count": 11,
   "metadata": {},
   "outputs": [],
   "source": [
    "row_sum = [np.sum(tech_terms_matrix[k, :]) for k in range(len(tech_terms_filters))]\n",
    "\n",
    "#set the gap between two consecutive ideograms\n",
    "gap = 2*PI*0.005\n",
    "ideogram_length = 2*PI*np.asarray(row_sum)/sum(row_sum)-gap*np.ones(len(tech_terms_filters))"
   ]
  },
  {
   "cell_type": "markdown",
   "metadata": {},
   "source": [
    "The next function returns the list of end angular coordinates for each ideogram arc:\n"
   ]
  },
  {
   "cell_type": "code",
   "execution_count": 12,
   "metadata": {},
   "outputs": [],
   "source": [
    "def get_ideogram_ends(ideogram_len, gap):\n",
    "    ideo_ends = []\n",
    "    left = 0\n",
    "    for k in range(len(ideogram_len)):\n",
    "        right = left+ideogram_len[k]\n",
    "        ideo_ends.append([left, right])\n",
    "        left = right+gap\n",
    "    return ideo_ends\n",
    "\n",
    "ideo_ends = get_ideogram_ends(ideogram_length, gap)"
   ]
  },
  {
   "cell_type": "markdown",
   "metadata": {},
   "source": [
    "The function make_ideogram_arc returns equally spaced points on an ideogram arc, expressed as complex numbers in polar form:"
   ]
  },
  {
   "cell_type": "code",
   "execution_count": 13,
   "metadata": {},
   "outputs": [],
   "source": [
    "def make_ideogram_arc(R, phi, a=50):\n",
    "    if not test_2PI(phi[0]) or not test_2PI(phi[1]):\n",
    "        phi = [moduloAB(t, 0, 2*PI) for t in phi]\n",
    "    length = (phi[1]-phi[0]) % 2*PI\n",
    "    nr = 5 if length <= PI/4 else int(a*length/PI)\n",
    "    if phi[0] < phi[1]:\n",
    "        theta = np.linspace(phi[0], phi[1], nr)\n",
    "    else:\n",
    "        phi = [moduloAB(t, -PI, PI) for t in phi]\n",
    "        theta = np.linspace(phi[0], phi[1], nr)\n",
    "    return R*np.exp(1j*theta)"
   ]
  },
  {
   "cell_type": "code",
   "execution_count": 14,
   "metadata": {},
   "outputs": [],
   "source": [
    "z = make_ideogram_arc(1.3, [11*PI/6, PI/17])"
   ]
  },
  {
   "cell_type": "markdown",
   "metadata": {},
   "source": [
    "### Ribbons Preparation"
   ]
  },
  {
   "cell_type": "markdown",
   "metadata": {},
   "source": [
    "The function map_data maps all matrix entries to the corresponding values in the intervals associated to ideograms:"
   ]
  },
  {
   "cell_type": "code",
   "execution_count": 15,
   "metadata": {},
   "outputs": [],
   "source": [
    "def map_data(data_matrix, row_value, ideogram_length):\n",
    "    mapped = np.zeros(data_matrix.shape)\n",
    "    for j in range(len(tech_terms_filters)):\n",
    "        mapped[:, j] = ideogram_length*data_matrix[:, j]/row_value\n",
    "    return mapped\n",
    "\n",
    "mapped_data = map_data(tech_terms_matrix, row_sum, ideogram_length)"
   ]
  },
  {
   "cell_type": "markdown",
   "metadata": {},
   "source": [
    "The array idx_sort, defined below, has on each row the indices that sort the corresponding row in mapped_data:\n"
   ]
  },
  {
   "cell_type": "code",
   "execution_count": 16,
   "metadata": {},
   "outputs": [],
   "source": [
    "idx_sort = np.argsort(mapped_data, axis=1)"
   ]
  },
  {
   "cell_type": "code",
   "execution_count": 17,
   "metadata": {},
   "outputs": [
    {
     "name": "stdout",
     "output_type": "stream",
     "text": [
      "ribbon ends starting from the ideogram[2]\n",
      " [(1.2457979742907384, 1.2457979742907384), (1.2457979742907384, 1.250396985556383), (1.250396985556383, 1.256967001650161), (1.256967001650161, 1.263865518548628), (1.263865518548628, 1.271092536251784), (1.271092536251784, 1.2819330628065178), (1.2819330628065178, 1.2937590917753183), (1.2937590917753183, 1.3062421223534966), (1.3062421223534966, 1.3190536537363637), (1.3190536537363637, 1.3330149379356422), (1.3330149379356422, 1.3482902253536762), (1.3482902253536762, 1.3673432720256327), (1.3673432720256327, 1.3867248195022779), (1.3867248195022779, 1.4161256415219348), (1.4161256415219348, 1.4476617187720695), (1.4476617187720695, 1.4859320625183268), (1.4859320625183268, 1.5265019118974064), (1.5265019118974064, 1.5785692894405976), (1.5785692894405976, 1.6401631903197669), (1.6401631903197669, 1.7612157368476278)]\n"
     ]
    }
   ],
   "source": [
    "def make_ribbon_ends(mapped_data, ideo_ends,  idx_sort):\n",
    "    L = mapped_data.shape[0]\n",
    "    ribbon_boundary = np.zeros((L, L+1))\n",
    "    for k in range(L):\n",
    "        start = ideo_ends[k][0]\n",
    "        ribbon_boundary[k][0] = start\n",
    "        for j in range(1, L+1):\n",
    "            J = idx_sort[k][j-1]\n",
    "            ribbon_boundary[k][j] = start+mapped_data[k][J]\n",
    "            start = ribbon_boundary[k][j]\n",
    "    return [[(ribbon_boundary[k][j], ribbon_boundary[k][j+1]) for j in range(L)] for k in range(L)]\n",
    "\n",
    "\n",
    "ribbon_ends = make_ribbon_ends(mapped_data, ideo_ends, idx_sort)\n",
    "print('ribbon ends starting from the ideogram[2]\\n', ribbon_ends[2])"
   ]
  },
  {
   "cell_type": "code",
   "execution_count": 18,
   "metadata": {},
   "outputs": [],
   "source": [
    "def control_pts(angle, radius):\n",
    "    if len(angle) != 3:\n",
    "        raise InvalidInputError('angle must have len =3')\n",
    "    b_cplx = np.array([np.exp(1j*angle[k]) for k in range(3)])\n",
    "    b_cplx[1] = radius*b_cplx[1]\n",
    "    return zip(b_cplx.real, b_cplx.imag)"
   ]
  },
  {
   "cell_type": "code",
   "execution_count": 19,
   "metadata": {},
   "outputs": [],
   "source": [
    "def ctrl_rib_chords(l, r, radius):\n",
    "    if len(l) != 2 or len(r) != 2:\n",
    "        raise ValueError('the arc ends must be elements in a list of len 2')\n",
    "    return [control_pts([l[j], (l[j]+r[j])/2, r[j]], radius) for j in range(2)]"
   ]
  },
  {
   "cell_type": "code",
   "execution_count": 20,
   "metadata": {},
   "outputs": [
    {
     "data": {
      "text/plain": [
       "'M 1,4 Q -0.5, 2.35 3.745, 1.47'"
      ]
     },
     "execution_count": 20,
     "metadata": {},
     "output_type": "execute_result"
    }
   ],
   "source": [
    "def make_q_bezier(b):\n",
    "    if len(b) != 3:\n",
    "        raise ValueError('control poligon must have 3 points')\n",
    "    A, B, C = b\n",
    "    return 'M ' + str(A[0]) + ',' + str(A[1]) + ' ' + 'Q ' + \\\n",
    "        str(B[0]) + ', ' + str(B[1]) + ' ' + \\\n",
    "        str(C[0]) + ', ' + str(C[1])\n",
    "\n",
    "\n",
    "b = [(1,4), (-0.5, 2.35), (3.745, 1.47)]\n",
    "make_q_bezier(b)"
   ]
  },
  {
   "cell_type": "code",
   "execution_count": 21,
   "metadata": {},
   "outputs": [],
   "source": [
    "def make_ribbon_arc(theta0, theta1):\n",
    "    if test_2PI(theta0) and test_2PI(theta1):\n",
    "        if theta0 < theta1:\n",
    "            theta0 = moduloAB(theta0, -PI, PI)\n",
    "            theta1 = moduloAB(theta1, -PI, PI)\n",
    "            if theta0*theta1 > 0:\n",
    "                raise ValueError('incorrect angle coordinates for ribbon')\n",
    "\n",
    "        nr = int(40*(theta0-theta1)/PI)\n",
    "        if nr <= 2: \n",
    "            nr = 3\n",
    "        theta = np.linspace(theta0, theta1, nr)\n",
    "        pts = np.exp(1j*theta)\n",
    "\n",
    "        string_arc = ''\n",
    "        for k in range(len(theta)):\n",
    "            string_arc += 'L ' + str(pts.real[k]) + ', ' + str(pts.imag[k]) + ' '\n",
    "        return string_arc\n",
    "    else:\n",
    "        raise ValueError('the angle coordinates for an arc side of a ribbon must be in [0, 2*pi]')"
   ]
  },
  {
   "cell_type": "code",
   "execution_count": 22,
   "metadata": {},
   "outputs": [],
   "source": [
    "def make_ideo_shape(path, line_color, fill_color):\n",
    "    return dict(\n",
    "        line=dict(color=line_color, width=0.45),\n",
    "        path=path,\n",
    "        type='path',\n",
    "        fillcolor=fill_color,\n",
    "        layer='below',\n",
    "    )"
   ]
  },
  {
   "cell_type": "code",
   "execution_count": 23,
   "metadata": {},
   "outputs": [],
   "source": [
    "temp_colors = [*DS['colorramp']['acc1'], *DS['colorramp']['acc2']]\n",
    "len_datalist = len(tech_terms_filters)\n",
    "ideo_colors = temp_colors[:len_datalist]"
   ]
  },
  {
   "cell_type": "code",
   "execution_count": 24,
   "metadata": {},
   "outputs": [],
   "source": [
    "def make_ribbon(l, r, line_color, fill_color, radius=0.2):\n",
    "    poligon = ctrl_rib_chords(l, r, radius)\n",
    "    b, c = poligon\n",
    "\n",
    "    return dict(\n",
    "        line=dict(\n",
    "            color=line_color,\n",
    "            width=0.5\n",
    "            ),\n",
    "        path=make_q_bezier(list(b))+make_ribbon_arc(r[0], r[1])+make_q_bezier(list(c)[::-1])+make_ribbon_arc(l[1], l[0]),\n",
    "        type='path',\n",
    "        fillcolor=fill_color,\n",
    "        layer='below'\n",
    "    )\n",
    "\n",
    "\n",
    "def make_self_rel(l, line_color, fill_color, radius):\n",
    "    b = control_pts([l[0], (l[0]+l[1])/2, l[1]], radius)\n",
    "    return dict(\n",
    "        line=dict(\n",
    "            color=line_color,\n",
    "            width=0.5\n",
    "            ),\n",
    "        path=make_q_bezier(b)+make_ribbon_arc(l[1], l[0]),\n",
    "        type='path',\n",
    "        fillcolor=fill_color,\n",
    "        layer='below'\n",
    "    )\n",
    "\n",
    "\n",
    "def invPerm(perm):\n",
    "    inv = [0] * len(perm)\n",
    "    for i, s in enumerate(perm):\n",
    "        inv[s] = i\n",
    "    return inv"
   ]
  },
  {
   "cell_type": "code",
   "execution_count": 25,
   "metadata": {},
   "outputs": [],
   "source": [
    "radii_sribb = [0.4, 0.30, 0.35, 0.39, 0.12]"
   ]
  },
  {
   "cell_type": "code",
   "execution_count": 26,
   "metadata": {},
   "outputs": [],
   "source": [
    "shapes = []\n",
    "ribbon_info = []\n",
    "\n",
    "for k in range(len(tech_terms_filters)):\n",
    "    sigma = idx_sort[k]\n",
    "    sigma_inv = invPerm(sigma)\n",
    "    for j in range(k, len(tech_terms_filters)):\n",
    "        if tech_terms_matrix[k][j] == 0 and tech_terms_matrix[j][k] == 0:\n",
    "            continue\n",
    "        eta = idx_sort[j]\n",
    "        eta_inv = invPerm(eta)\n",
    "        l = ribbon_ends[k][sigma_inv[j]]\n",
    "\n",
    "        if j == k:\n",
    "            shapes.append(make_self_rel(l, DS['colors']['acc1'], ideo_colors[k], radius=radii_sribb[k]))\n",
    "            z = 0.9*np.exp(1j*(l[0]+l[1])/2)\n",
    "            text = tech_terms_labels[k]+' appears in ' + '{:d}'.format(tech_terms_matrix[k][k]),\n",
    "            ribbon_info.append(\n",
    "                go.Scatter(\n",
    "                    x=[z.real],\n",
    "                    y=[z.imag],\n",
    "                    mode='markers',\n",
    "                    marker=dict(size=0.5, color=ideo_colors[k]),\n",
    "                    text=text,\n",
    "                    hoverinfo='text',\n",
    "                ),\n",
    "            )\n",
    "        else:\n",
    "            r = ribbon_ends[j][eta_inv[k]]\n",
    "            zi = 0.9*np.exp(1j*(l[0]+l[1])/2)\n",
    "            zf = 0.9*np.exp(1j*(r[0]+r[1])/2)\n",
    "            texti = tech_terms_labels[k]+' appears with '+tech_terms_labels[j]+' {:d}'.format(tech_terms_matrix[k][j])+' times'\n",
    "            textf = tech_terms_labels[j]+' appears with '+tech_terms_labels[k]+' {:d}'.format(tech_terms_matrix[j][k])+' times'\n",
    "\n",
    "            ribbon_info.append(go.Scatter(\n",
    "                x=[zi.real],\n",
    "                y=[zi.imag],\n",
    "                mode='markers',\n",
    "                marker=dict(size=0.5, color='green'),\n",
    "                text=texti,\n",
    "                hoverinfo='text'\n",
    "            )),\n",
    "            ribbon_info.append(go.Scatter(\n",
    "                x=[zf.real],\n",
    "                y=[zf.imag],\n",
    "                mode='markers',\n",
    "                marker=dict(size=0.5, color='blue'),\n",
    "                text=textf,\n",
    "                hoverinfo='text'\n",
    "            ))\n",
    "            r = (r[1], r[0])\n",
    "            shapes.append(make_ribbon(l, r, 'rgb(175,175,175)', ideo_colors[k]))"
   ]
  },
  {
   "cell_type": "code",
   "execution_count": 27,
   "metadata": {},
   "outputs": [
    {
     "name": "stderr",
     "output_type": "stream",
     "text": [
      "/run/media/deo/Games/WORKSPACE/jpynb_Job_Market_Trends_Bulgaria/ve-jobmarkettrends/lib/python3.8/site-packages/plotly/graph_objs/_deprecations.py:31: DeprecationWarning:\n",
      "\n",
      "plotly.graph_objs.Data is deprecated.\n",
      "Please replace it with a list or tuple of instances of the following types\n",
      "  - plotly.graph_objs.Scatter\n",
      "  - plotly.graph_objs.Bar\n",
      "  - plotly.graph_objs.Area\n",
      "  - plotly.graph_objs.Histogram\n",
      "  - etc.\n",
      "\n",
      "\n"
     ]
    }
   ],
   "source": [
    "ideograms = []\n",
    "for k in range(len(ideo_ends)):\n",
    "    z = make_ideogram_arc(1.1, ideo_ends[k])\n",
    "    zi = make_ideogram_arc(1.0, ideo_ends[k])\n",
    "    m = len(z)\n",
    "    n = len(zi)\n",
    "    ideograms.append(go.Scatter(\n",
    "        x=z.real,\n",
    "        y=z.imag,\n",
    "        mode='lines',\n",
    "        line=dict(color=ideo_colors[k], shape='spline', width=0.25),\n",
    "        text=tech_terms_labels[k]+'<br>'+'{:d}'.format(row_sum[k]),\n",
    "        hoverinfo='text',))\n",
    "\n",
    "    path = 'M '\n",
    "    for s in range(m):\n",
    "        path += str(z.real[s])+', '+str(z.imag[s])+' L '\n",
    "\n",
    "    Zi = np.array(zi.tolist()[::-1])\n",
    "\n",
    "    for s in range(m):\n",
    "        path += str(Zi.real[s])+', '+str(Zi.imag[s])+' L '\n",
    "    path += str(z.real[0])+' ,'+str(z.imag[0])\n",
    "\n",
    "    shapes.append(make_ideo_shape(path, 'rgb(150,150,150)', ideo_colors[k]))\n",
    "\n",
    "data = go.Data(ideograms+ribbon_info)\n"
   ]
  },
  {
   "cell_type": "code",
   "execution_count": 28,
   "metadata": {},
   "outputs": [],
   "source": [
    "layout = go.Layout(\n",
    "    paper_bgcolor=DS['colors']['bg1'],\n",
    "    plot_bgcolor=DS['colors']['bg1'],\n",
    "    title='Data Jobs ‒ Technologies in Demand and Relationships Between Them',\n",
    "    titlefont=DS['chart_fonts']['title'],\n",
    "    font=DS['chart_fonts']['text'],\n",
    "    autosize=False,\n",
    "    width=960,\n",
    "    height=540,\n",
    "    margin=dict(\n",
    "        l=280,\n",
    "        r=280,\n",
    "        t=80,\n",
    "        b=10,\n",
    "    ),\n",
    "    showlegend=False,\n",
    "    hidesources=True,\n",
    "    xaxis=dict(\n",
    "        showline=False,\n",
    "        zeroline=False,\n",
    "        showgrid=False,\n",
    "        showticklabels=False,\n",
    "        title='',\n",
    "    ),\n",
    "    yaxis=dict(\n",
    "        showline=False,\n",
    "        zeroline=False,\n",
    "        showgrid=False,\n",
    "        showticklabels=False,\n",
    "        title='',\n",
    "    ),\n",
    "    shapes=shapes,\n",
    "    hovermode='closest',\n",
    "    hoverdistance=40,\n",
    ")"
   ]
  },
  {
   "cell_type": "code",
   "execution_count": 29,
   "metadata": {},
   "outputs": [
    {
     "data": {
      "application/vnd.plotly.v1+json": {
       "config": {
        "linkText": "Export to plot.ly",
        "plotlyServerURL": "https://plot.ly",
        "showLink": false
       },
       "data": [
        {
         "hoverinfo": "text",
         "line": {
          "color": "#f2e6ce",
          "shape": "spline",
          "width": 0.25
         },
         "mode": "lines",
         "text": "Power BI<br>1915",
         "type": "scatter",
         "x": [
          1.1,
          1.0997435792523331,
          1.0989744365576954,
          1.097692930505441,
          1.0958996585587342,
          1.0935954567759987,
          1.090781399421133,
          1.0874587984626656,
          1.083629202962091,
          1.079294398351667,
          1.0744564056020098,
          1.0691174802798797,
          1.063280111496591,
          1.0569470207475398,
          1.0501211606433893
         ],
         "y": [
          0,
          0.02374994512135983,
          0.047488817554201354,
          0.07120554977231001,
          0.09488908457167206,
          0.11852838022555896,
          0.14211241563239643,
          0.1656301954540171,
          0.18907075524190226,
          0.21242316654902177,
          0.2356765420248898,
          0.25882004049146046,
          0.28184287199749647,
          0.3047343028490557,
          0.3274836606137489
         ]
        },
        {
         "hoverinfo": "text",
         "line": {
          "color": "#ecd5bb",
          "shape": "spline",
          "width": 0.25
         },
         "mode": "lines",
         "text": "Excel<br>5234",
         "type": "scatter",
         "x": [
          1.039316478876382,
          1.031719679494147,
          1.0236901305650958,
          1.0152312000424908,
          1.0063464359815086,
          0.9970395650510282,
          0.9873144909704972,
          0.977175292872537,
          0.9666262235919726,
          0.955671707882001,
          0.9443163405582518,
          0.9325648845715163,
          0.9204222690099503,
          0.9078935870315947,
          0.8949840937280757,
          0.8816992039203838,
          0.8680444898876546,
          0.8540256790299047,
          0.839648651465703,
          0.824919437565786,
          0.809844215423648,
          0.7944293082641726,
          0.7786811817913878,
          0.7626064414764595,
          0.7462118297870608,
          0.7295042233592778,
          0.71249063011324,
          0.695178186313684,
          0.677574153576684,
          0.6596859158238038,
          0.6415209761849482,
          0.6230869538512145,
          0.6043915808790609,
          0.5854426989471351,
          0.5662482560671228,
          0.5468163032499939,
          0.5271549911290478,
          0.507272566541172,
          0.4871773690677479,
          0.46687782753665613,
          0.44638245648684843,
          0.4256998525969678,
          0.4048386910795134,
          0.3838077220420707
         ],
         "y": [
          0.3603071699758407,
          0.38151605856699494,
          0.4025649221971744,
          0.4234449320281025,
          0.444147330046366,
          0.46466343273691846,
          0.4849846347253368,
          0.5051024123873015,
          0.5250083274237867,
          0.5446940304004624,
          0.5641512642498215,
          0.5833718677345651,
          0.6023477788707907,
          0.6210710383095516,
          0.6395337926753636,
          0.6577282978602651,
          0.6756469222720413,
          0.6932821500352584,
          0.7106265841437587,
          0.7276729495632963,
          0.7444140962830139,
          0.7608430023144778,
          0.7769527766370153,
          0.7927366620881183,
          0.8081880381976998,
          0.8233004239650172,
          0.8380674805770945,
          0.8524830140675046,
          0.8665409779143974,
          0.8802354755766831,
          0.8935607629673045,
          0.9065112508625663,
          0.9190815072465063,
          0.9312662595893263,
          0.9430603970589277,
          0.9544589726646248,
          0.9654572053321337,
          0.9760504819089698,
          0.9862343590994118,
          0.9960045653282181,
          1.005357002532318,
          1.0142877478797228,
          1.0227930554149391,
          1.0308693576301882
         ]
        },
        {
         "hoverinfo": "text",
         "line": {
          "color": "#e6c4a9",
          "shape": "spline",
          "width": 0.25
         },
         "mode": "lines",
         "text": "SSIS/SSRS<br>3138",
         "type": "scatter",
         "x": [
          0.3512379470665301,
          0.3287720109724563,
          0.30615444861742513,
          0.28339569098794826,
          0.2605062341883419,
          0.2374966346000315,
          0.2143775040130578,
          0.19115950473202856,
          0.16785334465877383,
          0.14446977235397118,
          0.12101957208002176,
          0.09751355882745878,
          0.07396257332718553,
          0.050377477050842244,
          0.026769147201607234,
          0.003148471697743077,
          -0.020473655848799066,
          -0.04408634115640092,
          -0.06767869429810719,
          -0.09123983472394856,
          -0.11475889627893764,
          -0.1382250322144286,
          -0.16162742019052545,
          -0.18495526726723377,
          -0.2081978148820531
         ],
         "y": [
          1.0424163777207693,
          1.0497185169373395,
          1.0565365367992536,
          1.0628672929060634,
          1.0687078655783389,
          1.0740555612041955,
          1.0789079134815591,
          1.0832626845556002,
          1.0871178660508083,
          1.090471679997235,
          1.0933225796504746,
          1.0956692502050078,
          1.0975106094005747,
          1.0988458080213037,
          1.0996742302873606,
          1.099995494138939,
          1.0998094514124641,
          1.0991161879089224,
          1.0979160233542926,
          1.0962095112520902,
          1.0939974386280986,
          1.0912808256673991,
          1.0880609252438742,
          1.0843392223423933,
          1.0801174333739543
         ]
        },
        {
         "hoverinfo": "text",
         "line": {
          "color": "#e1b396",
          "shape": "spline",
          "width": 0.25
         },
         "mode": "lines",
         "text": "MS SQL Server<br>2242",
         "type": "scatter",
         "x": [
          -0.24202239030421785,
          -0.26605451497379246,
          -0.28995249404290085,
          -0.31370427806839624,
          -0.3372978913191749,
          -0.36072143781438126,
          -0.38396310732140193,
          -0.4070111813106258,
          -0.4298540388639675,
          -0.4524801625341729,
          -0.4748781441519567,
          -0.49703669057804006,
          -0.5189446293971904,
          -0.5405909145513916,
          -0.5619646319093043,
          -0.5830550047692084,
          -0.6038513992926525
         ],
         "y": [
          1.0730448092188103,
          1.0673401496533617,
          1.0610973335176663,
          1.0543195084610673,
          1.0470100918862426,
          1.0391727692261405,
          1.0308114920857712,
          1.0219304762497932,
          1.0125341995569013,
          1.0026273996420847,
          0.9922150715478946,
          0.9813024652059272,
          0.9698950827897896,
          0.9579986759408857,
          0.945619242868418,
          0.9327630253250708,
          0.9194365054598961
         ]
        },
        {
         "hoverinfo": "text",
         "line": {
          "color": "#dba284",
          "shape": "spline",
          "width": 0.25
         },
         "mode": "lines",
         "text": "PostgreSQL<br>741",
         "type": "scatter",
         "x": [
          -0.6324336336396699,
          -0.6542283605150239,
          -0.675632710115426,
          -0.6966339104912422,
          -0.7172194302514967
         ],
         "y": [
          0.9000153882247369,
          0.8842993001794268,
          0.8680555518064987,
          0.8512938357310477,
          0.8340241536488728
         ]
        },
        {
         "hoverinfo": "text",
         "line": {
          "color": "#d59171",
          "shape": "spline",
          "width": 0.25
         },
         "mode": "lines",
         "text": "MySQL/MariaDB<br>1066",
         "type": "scatter",
         "x": [
          -0.7430628575137477,
          -0.773799117092248,
          -0.8033833781821841,
          -0.8317715970216695,
          -0.8589215104645294
         ],
         "y": [
          0.8110842063457433,
          0.7818151484764526,
          0.7513821581995289,
          0.7198305428279781,
          0.6872072750352193
         ]
        },
        {
         "hoverinfo": "text",
         "line": {
          "color": "#d0805f",
          "shape": "spline",
          "width": 0.25
         },
         "mode": "lines",
         "text": "T-SQL<br>1609",
         "type": "scatter",
         "x": [
          -0.8800833867014087,
          -0.9194259824940233,
          -0.9552077136102125,
          -0.9872900002134055,
          -1.0155485901253096
         ],
         "y": [
          0.6598888030965362,
          0.6038674214717168,
          0.5455073087132293,
          0.4850344889578614,
          0.42268316869080097
         ]
        },
        {
         "hoverinfo": "text",
         "line": {
          "color": "#ca6f4c",
          "shape": "spline",
          "width": 0.25
         },
         "mode": "lines",
         "text": "PL/SQL<br>501",
         "type": "scatter",
         "x": [
          -1.0283242773785428,
          -1.0336809671193776,
          -1.0388358591635918,
          -1.0437879471607023,
          -1.0485362643521219
         ],
         "y": [
          0.390575447966072,
          0.376169719960483,
          0.3616905551930297,
          0.3471407803212511,
          0.3325232357873615
         ]
        },
        {
         "hoverinfo": "text",
         "line": {
          "color": "#c45e3a",
          "shape": "spline",
          "width": 0.25
         },
         "mode": "lines",
         "text": "Pentaho<br>643",
         "type": "scatter",
         "x": [
          -1.0584636822485192,
          -1.0642841856164236,
          -1.0696722108962793,
          -1.074625568632579,
          -1.0791422459995086
         ],
         "y": [
          0.29942383565926384,
          0.2780272868744835,
          0.2565177600796215,
          0.23490399579638094,
          0.2131947769039763
         ]
        },
        {
         "hoverinfo": "text",
         "line": {
          "color": "#bf4d28",
          "shape": "spline",
          "width": 0.25
         },
         "mode": "lines",
         "text": "Hadoop<br>1387",
         "type": "scatter",
         "x": [
          -1.0853063642183651,
          -1.0932230233928015,
          -1.0981189906792714,
          -1.0999807379976396,
          -1.0988031211413707
         ],
         "y": [
          0.17919290105111224,
          0.1219156311713242,
          0.06430149539115233,
          0.00650968771663143,
          -0.05130010691979757
         ]
        },
        {
         "hoverinfo": "text",
         "line": {
          "color": "#af4624",
          "shape": "spline",
          "width": 0.25
         },
         "mode": "lines",
         "text": "Spark<br>1401",
         "type": "scatter",
         "x": [
          -1.0966495528320015,
          -1.090538906166779,
          -1.0813446768891062,
          -1.0690928623892415,
          -1.0538181056147669
         ],
         "y": [
          -0.08578903352626795,
          -0.14396143280950452,
          -0.20172677007178516,
          -0.25892170938022696,
          -0.31538452764602154
         ]
        },
        {
         "hoverinfo": "text",
         "line": {
          "color": "#9f4021",
          "shape": "spline",
          "width": 0.25
         },
         "mode": "lines",
         "text": "Informatica<br>904",
         "type": "scatter",
         "x": [
          -1.0433916425792884,
          -1.0318923231007302,
          -1.0193672945026473,
          -1.0058290067623952,
          -0.9912909170449189
         ],
         "y": [
          -0.3483301310476808,
          -0.38104885976181396,
          -0.41338882289964396,
          -0.4453178742823758,
          -0.47680427618074467
         ]
        },
        {
         "hoverinfo": "text",
         "line": {
          "color": "#8f391e",
          "shape": "spline",
          "width": 0.25
         },
         "mode": "lines",
         "text": "Qlik<br>2240",
         "type": "scatter",
         "x": [
          -0.9758249905708241,
          -0.9641909593320581,
          -0.9520717223921025,
          -0.9394733784628367,
          -0.9264022673551048,
          -0.9128649667883608,
          -0.8988682890805897,
          -0.8844192777201756,
          -0.8695252038214353,
          -0.8541935624656066,
          -0.8384320689291327,
          -0.8222486548011335,
          -0.8056514639920287,
          -0.7886488486353095,
          -0.7712493648845339,
          -0.7534617686076459,
          -0.7352950109808012
         ],
         "y": [
          -0.5077062022247231,
          -0.5294674625907863,
          -0.550962281305477,
          -0.5721798416229146,
          -0.5931094663207807,
          -0.6137406230733674,
          -0.6340629297517193,
          -0.6540661596481835,
          -0.6737402466227558,
          -0.6930752901686195,
          -0.7120615603943343,
          -0.730689502920171,
          -0.7489497436861176,
          -0.766833093669151,
          -0.7843305535073866,
          -0.8014333180287918,
          -0.8181327806821724
         ]
        },
        {
         "hoverinfo": "text",
         "line": {
          "color": "#f0f3e7",
          "shape": "spline",
          "width": 0.25
         },
         "mode": "lines",
         "text": "Tableau<br>3216",
         "type": "scatter",
         "x": [
          -0.7092340156115767,
          -0.6912843599333489,
          -0.6730251843532163,
          -0.6544646643465128,
          -0.6356111103143779,
          -0.6164729638628034,
          -0.5970587940229358,
          -0.5773772934143299,
          -0.5574372743528591,
          -0.5372476649050335,
          -0.5168175048904979,
          -0.49615594183448036,
          -0.4752722268720299,
          -0.4541757106058534,
          -0.43287583891961673,
          -0.4113821487485924,
          -0.38970426380953077,
          -0.3678518902916753,
          -0.3458348125108604,
          -0.3236628885286142,
          -0.3013460457382563,
          -0.2788942764199426,
          -0.25631763326665813,
          -0.23362622488316798,
          -0.21083021125992565,
          -0.18793979922397386
         ],
         "y": [
          -0.8408252559833572,
          -0.8556435786655214,
          -0.8700787902404697,
          -0.8841244273979803,
          -0.8977742012582697,
          -0.9110220001878171,
          -0.9238618925358257,
          -0.9362881292900936,
          -0.9482951466511128,
          -0.9598775685232408,
          -0.9710302089218236,
          -0.9817480742952032,
          -0.9920263657605587,
          -1.0018604812525886,
          -1.0112460175840685,
          -1.0201787724173599,
          -1.0286547461459903,
          -1.0366701436854644,
          -1.0442213761724946,
          -1.0513050625719036,
          -1.0579180311904686,
          -1.064057321097034,
          -1.0697201834482601,
          -1.0749040827194023,
          -1.079606697839586,
          -1.0838259232310568
         ]
        },
        {
         "hoverinfo": "text",
         "line": {
          "color": "#e2ecde",
          "shape": "spline",
          "width": 0.25
         },
         "mode": "lines",
         "text": "Microstrategy<br>506",
         "type": "scatter",
         "x": [
          -0.15380326732093982,
          -0.13833247681281413,
          -0.12283383212444073,
          -0.10731045401279898,
          -0.09176546821511335
         ],
         "y": [
          -1.089194452318503,
          -1.0912672110252524,
          -1.0931202356948777,
          -1.0947531532083234,
          -1.0961656347665991
         ]
        },
        {
         "hoverinfo": "text",
         "line": {
          "color": "#d4e5d6",
          "shape": "spline",
          "width": 0.25
         },
         "mode": "lines",
         "text": "Oracle BI<br>3908",
         "type": "scatter",
         "x": [
          -0.0572887928326618,
          -0.03425888119761565,
          -0.011213926886250543,
          0.011835951329997547,
          0.03488063251766327,
          0.05790999802523606,
          0.08091393592614143,
          0.10388234545877417,
          0.12680514146161947,
          0.149672258801534,
          0.17247365679322776,
          0.19519932360801232,
          0.21783928066987818,
          0.24038358703697177,
          0.2628223437665471,
          0.2851456982614766,
          0.3073438485964108,
          0.3294070478216937,
          0.3513256082431294,
          0.37308990567573946,
          0.39469038366963,
          0.4161175577061174,
          0.43736201936227026,
          0.4584144404420387,
          0.4792655770721565,
          0.49990627376101754,
          0.5203274674187501,
          0.5405201913367045,
          0.5604755791246432,
          0.5801848686038593,
          0.5996394056545525,
          0.618830648015751
         ],
         "y": [
          -1.0985071662104788,
          -1.0994663837785528,
          -1.0999428384437937,
          -1.0999363210004995,
          -1.0994468343104036,
          -1.0984745933014188,
          -1.0970200248732656,
          -1.095083767710025,
          -1.0926666719996996,
          -1.0897697990609057,
          -1.0863944208768619,
          -1.0825420195368745,
          -1.0782142865855704,
          -1.0734131222801586,
          -1.0681406347560507,
          -1.062399139101202,
          -1.0561911563395836,
          -1.0495194123242297,
          -1.0423868365403486,
          -1.0347965608190182,
          -1.0267519179620366,
          -1.0182564402785264,
          -1.0093138580339405,
          -0.999928097812144,
          -0.9901032807912985,
          -0.9798437209343002,
          -0.9691539230945669,
          -0.9580385810380146,
          -0.9465025753820727,
          -0.9345509714526666,
          -0.9221890170600902,
          -0.9094221401947534
         ]
        },
        {
         "hoverinfo": "text",
         "line": {
          "color": "#c6decd",
          "shape": "spline",
          "width": 0.25
         },
         "mode": "lines",
         "text": "Python<br>2730",
         "type": "scatter",
         "x": [
          0.6470909321930932,
          0.6657655245488541,
          0.6841420895423561,
          0.7022124009753502,
          0.7199683697428091,
          0.7374020474539842,
          0.7545056299904713,
          0.7712714609996957,
          0.7876920353222463,
          0.8037600023515333,
          0.819468169324258,
          0.8348095045402252,
          0.8497771405100573,
          0.8643643770293986,
          0.8785646841782364,
          0.8923717052439945,
          0.9057792595670903,
          0.9187813453076842,
          0.9313721421323791,
          0.9435460138196703,
          0.9552975107829789,
          0.9666213725101374
         ],
         "y": [
          -0.8895354548715154,
          -0.8756461992849564,
          -0.8613649640637927,
          -0.8466981421477398,
          -0.8316522990829052,
          -0.816234170082748,
          -0.8004506570130866,
          -0.7843088253025048,
          -0.7678159007795405,
          -0.750979266438071,
          -0.7338064591323447,
          -0.7163051662031371,
          -0.698483222036543,
          -0.6803486045569432,
          -0.6619094316557183,
          -0.6431739575573048,
          -0.6241505691242248,
          -0.6048477821027387,
          -0.5852742373108044,
          -0.5654386967700484,
          -0.5453500397834811,
          -0.5250172589607112
         ]
        },
        {
         "hoverinfo": "text",
         "line": {
          "color": "#b8d7c5",
          "shape": "spline",
          "width": 0.25
         },
         "mode": "lines",
         "text": "VBA<br>910",
         "type": "scatter",
         "x": [
          0.982635593846684,
          0.9978535787976106,
          1.0120631763600925,
          1.0252500269334013,
          1.037400804460393
         ],
         "y": [
          -0.4943958835847795,
          -0.4629127728641768,
          -0.4309618626467084,
          -0.39857544113136256,
          -0.36578623662588694
         ]
        },
        {
         "hoverinfo": "text",
         "line": {
          "color": "#aad0bc",
          "shape": "spline",
          "width": 0.25
         },
         "mode": "lines",
         "text": "Linux<br>1007",
         "type": "scatter",
         "x": [
          1.0483785331396014,
          1.0596902455405286,
          1.0696274933952943,
          1.078177387659274,
          1.0853288387460633
         ],
         "y": [
          -0.3330201964627041,
          -0.2950535265104531,
          -0.2567041592434761,
          -0.21802183546659717,
          -0.1790567278437802
         ]
        },
        {
         "hoverinfo": "text",
         "line": {
          "color": "#9cc9b4",
          "shape": "spline",
          "width": 0.25
         },
         "mode": "lines",
         "text": "AWS<br>758",
         "type": "scatter",
         "x": [
          1.0904176022204306,
          1.0937182335950206,
          1.0963260743548584,
          1.098239472623302,
          1.0994572164023046
         ],
         "y": [
          -0.14487737148308252,
          -0.11739005708231119,
          -0.0898283846546598,
          -0.062209812506481166,
          -0.03455183498594511
         ]
        },
        {
         "hoverinfo": "text",
         "marker": {
          "color": "green",
          "size": 0.5
         },
         "mode": "markers",
         "text": "Power BI appears with Excel 300 times",
         "type": "scatter",
         "x": [
          0.8652930425056767
         ],
         "y": [
          0.2475236364294714
         ]
        },
        {
         "hoverinfo": "text",
         "marker": {
          "color": "blue",
          "size": 0.5
         },
         "mode": "markers",
         "text": "Excel appears with Power BI 300 times",
         "type": "scatter",
         "x": [
          0.7358601191896398
         ],
         "y": [
          0.5181793945982502
         ]
        },
        {
         "hoverinfo": "text",
         "marker": {
          "color": "green",
          "size": 0.5
         },
         "mode": "markers",
         "text": "Power BI appears with SSIS/SSRS 192 times",
         "type": "scatter",
         "x": [
          0.8936662050012191
         ],
         "y": [
          0.10658665037761066
         ]
        },
        {
         "hoverinfo": "text",
         "marker": {
          "color": "blue",
          "size": 0.5
         },
         "mode": "markers",
         "text": "SSIS/SSRS appears with Power BI 192 times",
         "type": "scatter",
         "x": [
          0.12461077260157877
         ],
         "y": [
          0.8913316752767387
         ]
        },
        {
         "hoverinfo": "text",
         "marker": {
          "color": "green",
          "size": 0.5
         },
         "mode": "markers",
         "text": "Power BI appears with MS SQL Server 175 times",
         "type": "scatter",
         "x": [
          0.8963783387522509
         ],
         "y": [
          0.08065899711597592
         ]
        },
        {
         "hoverinfo": "text",
         "marker": {
          "color": "blue",
          "size": 0.5
         },
         "mode": "markers",
         "text": "MS SQL Server appears with Power BI 175 times",
         "type": "scatter",
         "x": [
          -0.34857649391891643
         ],
         "y": [
          0.8297556434801728
         ]
        },
        {
         "hoverinfo": "text",
         "marker": {
          "color": "green",
          "size": 0.5
         },
         "mode": "markers",
         "text": "Power BI appears with MySQL/MariaDB 5 times",
         "type": "scatter",
         "x": [
          0.8999999299160798
         ],
         "y": [
          0.0003551774929684149
         ]
        },
        {
         "hoverinfo": "text",
         "marker": {
          "color": "blue",
          "size": 0.5
         },
         "mode": "markers",
         "text": "MySQL/MariaDB appears with Power BI 5 times",
         "type": "scatter",
         "x": [
          -0.6082967405540132
         ],
         "y": [
          0.6633061702045019
         ]
        },
        {
         "hoverinfo": "text",
         "marker": {
          "color": "green",
          "size": 0.5
         },
         "mode": "markers",
         "text": "Power BI appears with T-SQL 79 times",
         "type": "scatter",
         "x": [
          0.8988483996092099
         ],
         "y": [
          0.045514333126633916
         ]
        },
        {
         "hoverinfo": "text",
         "marker": {
          "color": "blue",
          "size": 0.5
         },
         "mode": "markers",
         "text": "T-SQL appears with Power BI 79 times",
         "type": "scatter",
         "x": [
          -0.7633188398436962
         ],
         "y": [
          0.4768064059339741
         ]
        },
        {
         "hoverinfo": "text",
         "marker": {
          "color": "green",
          "size": 0.5
         },
         "mode": "markers",
         "text": "Power BI appears with PL/SQL 11 times",
         "type": "scatter",
         "x": [
          0.8999952875612547
         ],
         "y": [
          0.0029124504346903658
         ]
        },
        {
         "hoverinfo": "text",
         "marker": {
          "color": "blue",
          "size": 0.5
         },
         "mode": "markers",
         "text": "PL/SQL appears with Power BI 11 times",
         "type": "scatter",
         "x": [
          -0.8431431328817505
         ],
         "y": [
          0.31481686338941084
         ]
        },
        {
         "hoverinfo": "text",
         "marker": {
          "color": "green",
          "size": 0.5
         },
         "mode": "markers",
         "text": "Power BI appears with Pentaho 13 times",
         "type": "scatter",
         "x": [
          0.8999881558433052
         ],
         "y": [
          0.004617287273566118
         ]
        },
        {
         "hoverinfo": "text",
         "marker": {
          "color": "blue",
          "size": 0.5
         },
         "mode": "markers",
         "text": "Pentaho appears with Power BI 13 times",
         "type": "scatter",
         "x": [
          -0.8669767156134639
         ],
         "y": [
          0.2415602918198498
         ]
        },
        {
         "hoverinfo": "text",
         "marker": {
          "color": "green",
          "size": 0.5
         },
         "mode": "markers",
         "text": "Power BI appears with Hadoop 55 times",
         "type": "scatter",
         "x": [
          0.8995888097021049
         ],
         "y": [
          0.02720245317522392
         ]
        },
        {
         "hoverinfo": "text",
         "marker": {
          "color": "blue",
          "size": 0.5
         },
         "mode": "markers",
         "text": "Hadoop appears with Power BI 55 times",
         "type": "scatter",
         "x": [
          -0.8914519961109549
         ],
         "y": [
          0.12374707523733215
         ]
        },
        {
         "hoverinfo": "text",
         "marker": {
          "color": "green",
          "size": 0.5
         },
         "mode": "markers",
         "text": "Power BI appears with Spark 62 times",
         "type": "scatter",
         "x": [
          0.8992992517422763
         ],
         "y": [
          0.03550853159146341
         ]
        },
        {
         "hoverinfo": "text",
         "marker": {
          "color": "blue",
          "size": 0.5
         },
         "mode": "markers",
         "text": "Spark appears with Power BI 62 times",
         "type": "scatter",
         "x": [
          -0.8938373408517482
         ],
         "y": [
          -0.1051418475159911
         ]
        },
        {
         "hoverinfo": "text",
         "marker": {
          "color": "green",
          "size": 0.5
         },
         "mode": "markers",
         "text": "Power BI appears with Informatica 27 times",
         "type": "scatter",
         "x": [
          0.8999504118761287
         ],
         "y": [
          0.009447548040969294
         ]
        },
        {
         "hoverinfo": "text",
         "marker": {
          "color": "blue",
          "size": 0.5
         },
         "mode": "markers",
         "text": "Informatica appears with Power BI 27 times",
         "type": "scatter",
         "x": [
          -0.8485636144981793
         ],
         "y": [
          -0.29989963679502085
         ]
        },
        {
         "hoverinfo": "text",
         "marker": {
          "color": "green",
          "size": 0.5
         },
         "mode": "markers",
         "text": "Power BI appears with Qlik 238 times",
         "type": "scatter",
         "x": [
          0.889534792115113
         ],
         "y": [
          0.13684974832539043
         ]
        },
        {
         "hoverinfo": "text",
         "marker": {
          "color": "blue",
          "size": 0.5
         },
         "mode": "markers",
         "text": "Qlik appears with Power BI 238 times",
         "type": "scatter",
         "x": [
          -0.7403092744341913
         ],
         "y": [
          -0.511802870436188
         ]
        },
        {
         "hoverinfo": "text",
         "marker": {
          "color": "green",
          "size": 0.5
         },
         "mode": "markers",
         "text": "Power BI appears with Tableau 275 times",
         "type": "scatter",
         "x": [
          0.8756317836935222
         ],
         "y": [
          0.20801196933277852
         ]
        },
        {
         "hoverinfo": "text",
         "marker": {
          "color": "blue",
          "size": 0.5
         },
         "mode": "markers",
         "text": "Tableau appears with Power BI 275 times",
         "type": "scatter",
         "x": [
          -0.38955054679437956
         ],
         "y": [
          -0.8113263039567988
         ]
        },
        {
         "hoverinfo": "text",
         "marker": {
          "color": "green",
          "size": 0.5
         },
         "mode": "markers",
         "text": "Power BI appears with Microstrategy 39 times",
         "type": "scatter",
         "x": [
          0.8998889865478449
         ],
         "y": [
          0.014135483362541468
         ]
        },
        {
         "hoverinfo": "text",
         "marker": {
          "color": "blue",
          "size": 0.5
         },
         "mode": "markers",
         "text": "Microstrategy appears with Power BI 39 times",
         "type": "scatter",
         "x": [
          -0.10767041583491091
         ],
         "y": [
          -0.8935362788124148
         ]
        },
        {
         "hoverinfo": "text",
         "marker": {
          "color": "green",
          "size": 0.5
         },
         "mode": "markers",
         "text": "Power BI appears with Oracle BI 254 times",
         "type": "scatter",
         "x": [
          0.8835512600971055
         ],
         "y": [
          0.17128097028221503
         ]
        },
        {
         "hoverinfo": "text",
         "marker": {
          "color": "blue",
          "size": 0.5
         },
         "mode": "markers",
         "text": "Oracle BI appears with Power BI 254 times",
         "type": "scatter",
         "x": [
          0.1952409154083468
         ],
         "y": [
          -0.8785675756312151
         ]
        },
        {
         "hoverinfo": "text",
         "marker": {
          "color": "green",
          "size": 0.5
         },
         "mode": "markers",
         "text": "Power BI appears with Python 121 times",
         "type": "scatter",
         "x": [
          0.898017966886008
         ],
         "y": [
          0.05969699447979556
         ]
        },
        {
         "hoverinfo": "text",
         "marker": {
          "color": "blue",
          "size": 0.5
         },
         "mode": "markers",
         "text": "Python appears with Power BI 121 times",
         "type": "scatter",
         "x": [
          0.5863471035741645
         ],
         "y": [
          -0.6827862580121161
         ]
        },
        {
         "hoverinfo": "text",
         "marker": {
          "color": "green",
          "size": 0.5
         },
         "mode": "markers",
         "text": "Power BI appears with VBA 45 times",
         "type": "scatter",
         "x": [
          0.8997754912883029
         ],
         "y": [
          0.020101375000063978
         ]
        },
        {
         "hoverinfo": "text",
         "marker": {
          "color": "blue",
          "size": 0.5
         },
         "mode": "markers",
         "text": "VBA appears with Power BI 45 times",
         "type": "scatter",
         "x": [
          0.813974225526221
         ],
         "y": [
          -0.3839869270938645
         ]
        },
        {
         "hoverinfo": "text",
         "marker": {
          "color": "green",
          "size": 0.5
         },
         "mode": "markers",
         "text": "Power BI appears with Linux 14 times",
         "type": "scatter",
         "x": [
          0.8999762724919163
         ],
         "y": [
          0.00653520860845836
         ]
        },
        {
         "hoverinfo": "text",
         "marker": {
          "color": "blue",
          "size": 0.5
         },
         "mode": "markers",
         "text": "Linux appears with Power BI 14 times",
         "type": "scatter",
         "x": [
          0.8590410594769149
         ],
         "y": [
          -0.2684184385111792
         ]
        },
        {
         "hoverinfo": "text",
         "marker": {
          "color": "green",
          "size": 0.5
         },
         "mode": "markers",
         "text": "Power BI appears with AWS 10 times",
         "type": "scatter",
         "x": [
          0.8999988786574946
         ],
         "y": [
          0.0014207094187130202
         ]
        },
        {
         "hoverinfo": "text",
         "marker": {
          "color": "blue",
          "size": 0.5
         },
         "mode": "markers",
         "text": "AWS appears with Power BI 10 times",
         "type": "scatter",
         "x": [
          0.8924715781560659
         ],
         "y": [
          -0.11616575305838331
         ]
        },
        {
         "hoverinfo": "text",
         "marker": {
          "color": "green",
          "size": 0.5
         },
         "mode": "markers",
         "text": "Excel appears with SSIS/SSRS 737 times",
         "type": "scatter",
         "x": [
          0.4711905075579505
         ],
         "y": [
          0.7667982169953715
         ]
        },
        {
         "hoverinfo": "text",
         "marker": {
          "color": "blue",
          "size": 0.5
         },
         "mode": "markers",
         "text": "SSIS/SSRS appears with Excel 737 times",
         "type": "scatter",
         "x": [
          -0.11657536235247315
         ],
         "y": [
          0.8924181670564476
         ]
        },
        {
         "hoverinfo": "text",
         "marker": {
          "color": "green",
          "size": 0.5
         },
         "mode": "markers",
         "text": "Excel appears with MS SQL Server 296 times",
         "type": "scatter",
         "x": [
          0.7609066095834075
         ],
         "y": [
          0.48064657649075576
         ]
        },
        {
         "hoverinfo": "text",
         "marker": {
          "color": "blue",
          "size": 0.5
         },
         "mode": "markers",
         "text": "MS SQL Server appears with Excel 296 times",
         "type": "scatter",
         "x": [
          -0.43668521844147545
         ],
         "y": [
          0.7869599862729495
         ]
        },
        {
         "hoverinfo": "text",
         "marker": {
          "color": "green",
          "size": 0.5
         },
         "mode": "markers",
         "text": "Excel appears with PostgreSQL 83 times",
         "type": "scatter",
         "x": [
          0.8334525994321782
         ],
         "y": [
          0.33964211237675634
         ]
        },
        {
         "hoverinfo": "text",
         "marker": {
          "color": "blue",
          "size": 0.5
         },
         "mode": "markers",
         "text": "PostgreSQL appears with Excel 83 times",
         "type": "scatter",
         "x": [
          -0.5609945706632856
         ],
         "y": [
          0.703764940648734
         ]
        },
        {
         "hoverinfo": "text",
         "marker": {
          "color": "green",
          "size": 0.5
         },
         "mode": "markers",
         "text": "Excel appears with MySQL/MariaDB 160 times",
         "type": "scatter",
         "x": [
          0.793661122165284
         ],
         "y": [
          0.4243842871305938
         ]
        },
        {
         "hoverinfo": "text",
         "marker": {
          "color": "blue",
          "size": 0.5
         },
         "mode": "markers",
         "text": "MySQL/MariaDB appears with Excel 160 times",
         "type": "scatter",
         "x": [
          -0.6961941433743273
         ],
         "y": [
          0.5703627922044763
         ]
        },
        {
         "hoverinfo": "text",
         "marker": {
          "color": "green",
          "size": 0.5
         },
         "mode": "markers",
         "text": "Excel appears with T-SQL 202 times",
         "type": "scatter",
         "x": [
          0.7803704696567796
         ],
         "y": [
          0.44835469227795244
         ]
        },
        {
         "hoverinfo": "text",
         "marker": {
          "color": "blue",
          "size": 0.5
         },
         "mode": "markers",
         "text": "T-SQL appears with Excel 202 times",
         "type": "scatter",
         "x": [
          -0.8124685740838203
         ],
         "y": [
          0.38716251901004545
         ]
        },
        {
         "hoverinfo": "text",
         "marker": {
          "color": "green",
          "size": 0.5
         },
         "mode": "markers",
         "text": "Excel appears with PL/SQL 71 times",
         "type": "scatter",
         "x": [
          0.8421330042994639
         ],
         "y": [
          0.3175090598228013
         ]
        },
        {
         "hoverinfo": "text",
         "marker": {
          "color": "blue",
          "size": 0.5
         },
         "mode": "markers",
         "text": "PL/SQL appears with Excel 71 times",
         "type": "scatter",
         "x": [
          -0.8508768125485201
         ],
         "y": [
          0.2932723135027762
         ]
        },
        {
         "hoverinfo": "text",
         "marker": {
          "color": "green",
          "size": 0.5
         },
         "mode": "markers",
         "text": "Excel appears with Pentaho 68 times",
         "type": "scatter",
         "x": [
          0.8457883029821069
         ],
         "y": [
          0.30763963746345757
         ]
        },
        {
         "hoverinfo": "text",
         "marker": {
          "color": "blue",
          "size": 0.5
         },
         "mode": "markers",
         "text": "Pentaho appears with Excel 68 times",
         "type": "scatter",
         "x": [
          -0.8804912262759108
         ],
         "y": [
          0.1863738191140129
         ]
        },
        {
         "hoverinfo": "text",
         "marker": {
          "color": "green",
          "size": 0.5
         },
         "mode": "markers",
         "text": "Excel appears with Hadoop 132 times",
         "type": "scatter",
         "x": [
          0.8038459859603857
         ],
         "y": [
          0.4047612022605123
         ]
        },
        {
         "hoverinfo": "text",
         "marker": {
          "color": "blue",
          "size": 0.5
         },
         "mode": "markers",
         "text": "Hadoop appears with Excel 132 times",
         "type": "scatter",
         "x": [
          -0.898276297677488
         ],
         "y": [
          0.0556748868954849
         ]
        },
        {
         "hoverinfo": "text",
         "marker": {
          "color": "green",
          "size": 0.5
         },
         "mode": "markers",
         "text": "Excel appears with Spark 131 times",
         "type": "scatter",
         "x": [
          0.8126042960272382
         ],
         "y": [
          0.3868775750519495
         ]
        },
        {
         "hoverinfo": "text",
         "marker": {
          "color": "blue",
          "size": 0.5
         },
         "mode": "markers",
         "text": "Spark appears with Excel 131 times",
         "type": "scatter",
         "x": [
          -0.8819384120980304
         ],
         "y": [
          -0.17940077275754607
         ]
        },
        {
         "hoverinfo": "text",
         "marker": {
          "color": "green",
          "size": 0.5
         },
         "mode": "markers",
         "text": "Excel appears with Informatica 127 times",
         "type": "scatter",
         "x": [
          0.82080958918471
         ],
         "y": [
          0.36914985886822105
         ]
        },
        {
         "hoverinfo": "text",
         "marker": {
          "color": "blue",
          "size": 0.5
         },
         "mode": "markers",
         "text": "Informatica appears with Excel 127 times",
         "type": "scatter",
         "x": [
          -0.8221612092802913
         ],
         "y": [
          -0.3661296846129373
         ]
        },
        {
         "hoverinfo": "text",
         "marker": {
          "color": "green",
          "size": 0.5
         },
         "mode": "markers",
         "text": "Excel appears with Qlik 503 times",
         "type": "scatter",
         "x": [
          0.6142879288973367
         ],
         "y": [
          0.6577616136648753
         ]
        },
        {
         "hoverinfo": "text",
         "marker": {
          "color": "blue",
          "size": 0.5
         },
         "mode": "markers",
         "text": "Qlik appears with Excel 503 times",
         "type": "scatter",
         "x": [
          -0.628085039375824
         ],
         "y": [
          -0.6446000180827407
         ]
        },
        {
         "hoverinfo": "text",
         "marker": {
          "color": "green",
          "size": 0.5
         },
         "mode": "markers",
         "text": "Excel appears with Tableau 570 times",
         "type": "scatter",
         "x": [
          0.5524903823768617
         ],
         "y": [
          0.7104606796868277
         ]
        },
        {
         "hoverinfo": "text",
         "marker": {
          "color": "blue",
          "size": 0.5
         },
         "mode": "markers",
         "text": "Tableau appears with Excel 570 times",
         "type": "scatter",
         "x": [
          -0.19515687973098403
         ],
         "y": [
          -0.8785862463604049
         ]
        },
        {
         "hoverinfo": "text",
         "marker": {
          "color": "green",
          "size": 0.5
         },
         "mode": "markers",
         "text": "Excel appears with Microstrategy 56 times",
         "type": "scatter",
         "x": [
          0.8489515476825872
         ],
         "y": [
          0.2987997150054528
         ]
        },
        {
         "hoverinfo": "text",
         "marker": {
          "color": "blue",
          "size": 0.5
         },
         "mode": "markers",
         "text": "Microstrategy appears with Excel 56 times",
         "type": "scatter",
         "x": [
          -0.09317331406595378
         ],
         "y": [
          -0.8951640819123426
         ]
        },
        {
         "hoverinfo": "text",
         "marker": {
          "color": "green",
          "size": 0.5
         },
         "mode": "markers",
         "text": "Excel appears with Oracle BI 788 times",
         "type": "scatter",
         "x": [
          0.3692088917443725
         ],
         "y": [
          0.8207830372619139
         ]
        },
        {
         "hoverinfo": "text",
         "marker": {
          "color": "blue",
          "size": 0.5
         },
         "mode": "markers",
         "text": "Oracle BI appears with Excel 788 times",
         "type": "scatter",
         "x": [
          0.4565346634781742
         ],
         "y": [
          -0.7756133708510126
         ]
        },
        {
         "hoverinfo": "text",
         "marker": {
          "color": "green",
          "size": 0.5
         },
         "mode": "markers",
         "text": "Excel appears with Python 501 times",
         "type": "scatter",
         "x": [
          0.6675905478658514
         ],
         "y": [
          0.6035916338056488
         ]
        },
        {
         "hoverinfo": "text",
         "marker": {
          "color": "blue",
          "size": 0.5
         },
         "mode": "markers",
         "text": "Python appears with Excel 501 times",
         "type": "scatter",
         "x": [
          0.7727065748417563
         ],
         "y": [
          -0.461437481351831
         ]
        },
        {
         "hoverinfo": "text",
         "marker": {
          "color": "green",
          "size": 0.5
         },
         "mode": "markers",
         "text": "Excel appears with VBA 322 times",
         "type": "scatter",
         "x": [
          0.7077495530972243
         ],
         "y": [
          0.5559591442639281
         ]
        },
        {
         "hoverinfo": "text",
         "marker": {
          "color": "blue",
          "size": 0.5
         },
         "mode": "markers",
         "text": "VBA appears with Excel 322 times",
         "type": "scatter",
         "x": [
          0.8418350641543311
         ],
         "y": [
          -0.3182981695836048
         ]
        },
        {
         "hoverinfo": "text",
         "marker": {
          "color": "green",
          "size": 0.5
         },
         "mode": "markers",
         "text": "Excel appears with Linux 107 times",
         "type": "scatter",
         "x": [
          0.8279172919509781
         ],
         "y": [
          0.35292061102825795
         ]
        },
        {
         "hoverinfo": "text",
         "marker": {
          "color": "blue",
          "size": 0.5
         },
         "mode": "markers",
         "text": "Linux appears with Excel 107 times",
         "type": "scatter",
         "x": [
          0.8756579927157513
         ],
         "y": [
          -0.20790161084758643
         ]
        },
        {
         "hoverinfo": "text",
         "marker": {
          "color": "green",
          "size": 0.5
         },
         "mode": "markers",
         "text": "Excel appears with AWS 80 times",
         "type": "scatter",
         "x": [
          0.8380316540310183
         ],
         "y": [
          0.3281812713151614
         ]
        },
        {
         "hoverinfo": "text",
         "marker": {
          "color": "blue",
          "size": 0.5
         },
         "mode": "markers",
         "text": "AWS appears with Excel 80 times",
         "type": "scatter",
         "x": [
          0.8968857277275223
         ],
         "y": [
          -0.07480635934646826
         ]
        },
        {
         "hoverinfo": "text",
         "marker": {
          "color": "green",
          "size": 0.5
         },
         "mode": "markers",
         "text": "SSIS/SSRS appears with MS SQL Server 317 times",
         "type": "scatter",
         "x": [
          0.016433740161383034
         ],
         "y": [
          0.8998499498162503
         ]
        },
        {
         "hoverinfo": "text",
         "marker": {
          "color": "blue",
          "size": 0.5
         },
         "mode": "markers",
         "text": "MS SQL Server appears with SSIS/SSRS 317 times",
         "type": "scatter",
         "x": [
          -0.4747957226378594
         ],
         "y": [
          0.7645711358433517
         ]
        },
        {
         "hoverinfo": "text",
         "marker": {
          "color": "green",
          "size": 0.5
         },
         "mode": "markers",
         "text": "SSIS/SSRS appears with PostgreSQL 66 times",
         "type": "scatter",
         "x": [
          0.26104882762083736
         ],
         "y": [
          0.8613091835094911
         ]
        },
        {
         "hoverinfo": "text",
         "marker": {
          "color": "blue",
          "size": 0.5
         },
         "mode": "markers",
         "text": "PostgreSQL appears with SSIS/SSRS 66 times",
         "type": "scatter",
         "x": [
          -0.5540538550296248
         ],
         "y": [
          0.7092420783673311
         ]
        },
        {
         "hoverinfo": "text",
         "marker": {
          "color": "green",
          "size": 0.5
         },
         "mode": "markers",
         "text": "SSIS/SSRS appears with MySQL/MariaDB 93 times",
         "type": "scatter",
         "x": [
          0.2053057329014632
         ],
         "y": [
          0.8762702528545592
         ]
        },
        {
         "hoverinfo": "text",
         "marker": {
          "color": "blue",
          "size": 0.5
         },
         "mode": "markers",
         "text": "MySQL/MariaDB appears with SSIS/SSRS 93 times",
         "type": "scatter",
         "x": [
          -0.6644343889876403
         ],
         "y": [
          0.6070641998426699
         ]
        },
        {
         "hoverinfo": "text",
         "marker": {
          "color": "green",
          "size": 0.5
         },
         "mode": "markers",
         "text": "SSIS/SSRS appears with T-SQL 179 times",
         "type": "scatter",
         "x": [
          0.15170622995414734
         ],
         "y": [
          0.8871218742614226
         ]
        },
        {
         "hoverinfo": "text",
         "marker": {
          "color": "blue",
          "size": 0.5
         },
         "mode": "markers",
         "text": "T-SQL appears with SSIS/SSRS 179 times",
         "type": "scatter",
         "x": [
          -0.7882116166943832
         ],
         "y": [
          0.4344219691820692
         ]
        },
        {
         "hoverinfo": "text",
         "marker": {
          "color": "green",
          "size": 0.5
         },
         "mode": "markers",
         "text": "SSIS/SSRS appears with PL/SQL 76 times",
         "type": "scatter",
         "x": [
          0.2407484193143933
         ],
         "y": [
          0.86720251302543
         ]
        },
        {
         "hoverinfo": "text",
         "marker": {
          "color": "blue",
          "size": 0.5
         },
         "mode": "markers",
         "text": "PL/SQL appears with SSIS/SSRS 76 times",
         "type": "scatter",
         "x": [
          -0.8532528183525638
         ],
         "y": [
          0.28628591997058955
         ]
        },
        {
         "hoverinfo": "text",
         "marker": {
          "color": "green",
          "size": 0.5
         },
         "mode": "markers",
         "text": "SSIS/SSRS appears with Pentaho 40 times",
         "type": "scatter",
         "x": [
          0.2806434698129453
         ],
         "y": [
          0.8551252790388963
         ]
        },
        {
         "hoverinfo": "text",
         "marker": {
          "color": "blue",
          "size": 0.5
         },
         "mode": "markers",
         "text": "Pentaho appears with SSIS/SSRS 40 times",
         "type": "scatter",
         "x": [
          -0.8715502284800335
         ],
         "y": [
          0.22449988694073209
         ]
        },
        {
         "hoverinfo": "text",
         "marker": {
          "color": "green",
          "size": 0.5
         },
         "mode": "markers",
         "text": "SSIS/SSRS appears with Hadoop 78 times",
         "type": "scatter",
         "x": [
          0.22976170380611705
         ],
         "y": [
          0.8701778895513894
         ]
        },
        {
         "hoverinfo": "text",
         "marker": {
          "color": "blue",
          "size": 0.5
         },
         "mode": "markers",
         "text": "Hadoop appears with SSIS/SSRS 78 times",
         "type": "scatter",
         "x": [
          -0.8936126424844089
         ],
         "y": [
          0.10703478496279731
         ]
        },
        {
         "hoverinfo": "text",
         "marker": {
          "color": "green",
          "size": 0.5
         },
         "mode": "markers",
         "text": "SSIS/SSRS appears with Spark 72 times",
         "type": "scatter",
         "x": [
          0.2512708155774795
         ],
         "y": [
          0.8642123449934213
         ]
        },
        {
         "hoverinfo": "text",
         "marker": {
          "color": "blue",
          "size": 0.5
         },
         "mode": "markers",
         "text": "Spark appears with SSIS/SSRS 72 times",
         "type": "scatter",
         "x": [
          -0.8914569781128885
         ],
         "y": [
          -0.12371118047224773
         ]
        },
        {
         "hoverinfo": "text",
         "marker": {
          "color": "green",
          "size": 0.5
         },
         "mode": "markers",
         "text": "SSIS/SSRS appears with Informatica 85 times",
         "type": "scatter",
         "x": [
          0.2180929097465034
         ],
         "y": [
          0.8731755165591301
         ]
        },
        {
         "hoverinfo": "text",
         "marker": {
          "color": "blue",
          "size": 0.5
         },
         "mode": "markers",
         "text": "Informatica appears with SSIS/SSRS 85 times",
         "type": "scatter",
         "x": [
          -0.8364363172798872
         ],
         "y": [
          -0.33222625894901786
         ]
        },
        {
         "hoverinfo": "text",
         "marker": {
          "color": "green",
          "size": 0.5
         },
         "mode": "markers",
         "text": "SSIS/SSRS appears with Qlik 118 times",
         "type": "scatter",
         "x": [
          0.17329691298795089
         ],
         "y": [
          0.8831580718924822
         ]
        },
        {
         "hoverinfo": "text",
         "marker": {
          "color": "blue",
          "size": 0.5
         },
         "mode": "markers",
         "text": "Qlik appears with SSIS/SSRS 118 times",
         "type": "scatter",
         "x": [
          -0.7546039158361747
         ],
         "y": [
          -0.4904823444373012
         ]
        },
        {
         "hoverinfo": "text",
         "marker": {
          "color": "green",
          "size": 0.5
         },
         "mode": "markers",
         "text": "SSIS/SSRS appears with Tableau 247 times",
         "type": "scatter",
         "x": [
          0.05808101491753884
         ],
         "y": [
          0.8981239311510125
         ]
        },
        {
         "hoverinfo": "text",
         "marker": {
          "color": "blue",
          "size": 0.5
         },
         "mode": "markers",
         "text": "Tableau appears with SSIS/SSRS 247 times",
         "type": "scatter",
         "x": [
          -0.42401334166742527
         ],
         "y": [
          -0.7938593616554656
         ]
        },
        {
         "hoverinfo": "text",
         "marker": {
          "color": "green",
          "size": 0.5
         },
         "mode": "markers",
         "text": "SSIS/SSRS appears with Microstrategy 44 times",
         "type": "scatter",
         "x": [
          0.26881894078657564
         ],
         "y": [
          0.8589158148936271
         ]
        },
        {
         "hoverinfo": "text",
         "marker": {
          "color": "blue",
          "size": 0.5
         },
         "mode": "markers",
         "text": "Microstrategy appears with SSIS/SSRS 44 times",
         "type": "scatter",
         "x": [
          -0.10350961676272266
         ],
         "y": [
          -0.8940278291181065
         ]
        },
        {
         "hoverinfo": "text",
         "marker": {
          "color": "green",
          "size": 0.5
         },
         "mode": "markers",
         "text": "SSIS/SSRS appears with Oracle BI 375 times",
         "type": "scatter",
         "x": [
          -0.03470431570553313
         ],
         "y": [
          0.8993306457979794
         ]
        },
        {
         "hoverinfo": "text",
         "marker": {
          "color": "blue",
          "size": 0.5
         },
         "mode": "markers",
         "text": "Oracle BI appears with SSIS/SSRS 375 times",
         "type": "scatter",
         "x": [
          0.2408822600572773
         ],
         "y": [
          -0.8671653457038618
         ]
        },
        {
         "hoverinfo": "text",
         "marker": {
          "color": "green",
          "size": 0.5
         },
         "mode": "markers",
         "text": "SSIS/SSRS appears with Python 233 times",
         "type": "scatter",
         "x": [
          0.0934308569020858
         ],
         "y": [
          0.8951372380694158
         ]
        },
        {
         "hoverinfo": "text",
         "marker": {
          "color": "blue",
          "size": 0.5
         },
         "mode": "markers",
         "text": "Python appears with SSIS/SSRS 233 times",
         "type": "scatter",
         "x": [
          0.6737374445932804
         ],
         "y": [
          -0.5967225953095093
         ]
        },
        {
         "hoverinfo": "text",
         "marker": {
          "color": "green",
          "size": 0.5
         },
         "mode": "markers",
         "text": "SSIS/SSRS appears with VBA 116 times",
         "type": "scatter",
         "x": [
          0.19023578072378802
         ],
         "y": [
          0.879664906502704
         ]
        },
        {
         "hoverinfo": "text",
         "marker": {
          "color": "blue",
          "size": 0.5
         },
         "mode": "markers",
         "text": "VBA appears with SSIS/SSRS 116 times",
         "type": "scatter",
         "x": [
          0.8317015944004776
         ],
         "y": [
          -0.34390762985386564
         ]
        },
        {
         "hoverinfo": "text",
         "marker": {
          "color": "green",
          "size": 0.5
         },
         "mode": "markers",
         "text": "SSIS/SSRS appears with Linux 28 times",
         "type": "scatter",
         "x": [
          0.2854145276362372
         ],
         "y": [
          0.8535446956159845
         ]
        },
        {
         "hoverinfo": "text",
         "marker": {
          "color": "blue",
          "size": 0.5
         },
         "mode": "markers",
         "text": "Linux appears with SSIS/SSRS 28 times",
         "type": "scatter",
         "x": [
          0.860939120180284
         ],
         "y": [
          -0.26226671794796746
         ]
        },
        {
         "hoverinfo": "text",
         "marker": {
          "color": "green",
          "size": 0.5
         },
         "mode": "markers",
         "text": "SSIS/SSRS appears with AWS 42 times",
         "type": "scatter",
         "x": [
          0.2748785082072175
         ],
         "y": [
          0.8569958026301965
         ]
        },
        {
         "hoverinfo": "text",
         "marker": {
          "color": "blue",
          "size": 0.5
         },
         "mode": "markers",
         "text": "AWS appears with SSIS/SSRS 42 times",
         "type": "scatter",
         "x": [
          0.8949176173770396
         ],
         "y": [
          -0.09551156007626832
         ]
        },
        {
         "hoverinfo": "text",
         "marker": {
          "color": "green",
          "size": 0.5
         },
         "mode": "markers",
         "text": "MS SQL Server appears with PostgreSQL 110 times",
         "type": "scatter",
         "x": [
          -0.273704973016281
         ],
         "y": [
          0.8573713243082934
         ]
        },
        {
         "hoverinfo": "text",
         "marker": {
          "color": "blue",
          "size": 0.5
         },
         "mode": "markers",
         "text": "PostgreSQL appears with MS SQL Server 110 times",
         "type": "scatter",
         "x": [
          -0.5699043123279118
         ],
         "y": [
          0.6965695046368668
         ]
        },
        {
         "hoverinfo": "text",
         "marker": {
          "color": "green",
          "size": 0.5
         },
         "mode": "markers",
         "text": "MS SQL Server appears with MySQL/MariaDB 115 times",
         "type": "scatter",
         "x": [
          -0.28911639748876683
         ],
         "y": [
          0.8522978990371368
         ]
        },
        {
         "hoverinfo": "text",
         "marker": {
          "color": "blue",
          "size": 0.5
         },
         "mode": "markers",
         "text": "MySQL/MariaDB appears with MS SQL Server 115 times",
         "type": "scatter",
         "x": [
          -0.6735000472969974
         ],
         "y": [
          0.59699052445658
         ]
        },
        {
         "hoverinfo": "text",
         "marker": {
          "color": "green",
          "size": 0.5
         },
         "mode": "markers",
         "text": "MS SQL Server appears with T-SQL 224 times",
         "type": "scatter",
         "x": [
          -0.4035271611394063
         ],
         "y": [
          0.8044661771776186
         ]
        },
        {
         "hoverinfo": "text",
         "marker": {
          "color": "blue",
          "size": 0.5
         },
         "mode": "markers",
         "text": "T-SQL appears with MS SQL Server 224 times",
         "type": "scatter",
         "x": [
          -0.8247854749229037
         ],
         "y": [
          0.36017901154314946
         ]
        },
        {
         "hoverinfo": "text",
         "marker": {
          "color": "green",
          "size": 0.5
         },
         "mode": "markers",
         "text": "MS SQL Server appears with PL/SQL 14 times",
         "type": "scatter",
         "x": [
          -0.19900302647982393
         ],
         "y": [
          0.8777230744670386
         ]
        },
        {
         "hoverinfo": "text",
         "marker": {
          "color": "blue",
          "size": 0.5
         },
         "mode": "markers",
         "text": "PL/SQL appears with MS SQL Server 14 times",
         "type": "scatter",
         "x": [
          -0.8435813070636192
         ],
         "y": [
          0.31364084296028133
         ]
        },
        {
         "hoverinfo": "text",
         "marker": {
          "color": "green",
          "size": 0.5
         },
         "mode": "markers",
         "text": "MS SQL Server appears with Pentaho 55 times",
         "type": "scatter",
         "x": [
          -0.22290737542701464
         ],
         "y": [
          0.8719588877809779
         ]
        },
        {
         "hoverinfo": "text",
         "marker": {
          "color": "blue",
          "size": 0.5
         },
         "mode": "markers",
         "text": "Pentaho appears with MS SQL Server 55 times",
         "type": "scatter",
         "x": [
          -0.8776495408642999
         ],
         "y": [
          0.19932707648657147
         ]
        },
        {
         "hoverinfo": "text",
         "marker": {
          "color": "green",
          "size": 0.5
         },
         "mode": "markers",
         "text": "MS SQL Server appears with Hadoop 57 times",
         "type": "scatter",
         "x": [
          -0.23072322438857978
         ],
         "y": [
          0.8699234413025879
         ]
        },
        {
         "hoverinfo": "text",
         "marker": {
          "color": "blue",
          "size": 0.5
         },
         "mode": "markers",
         "text": "Hadoop appears with MS SQL Server 57 times",
         "type": "scatter",
         "x": [
          -0.8924704972420814
         ],
         "y": [
          0.11617405714044819
         ]
        },
        {
         "hoverinfo": "text",
         "marker": {
          "color": "green",
          "size": 0.5
         },
         "mode": "markers",
         "text": "MS SQL Server appears with Spark 55 times",
         "type": "scatter",
         "x": [
          -0.21521361844253067
         ],
         "y": [
          0.8738896374467847
         ]
        },
        {
         "hoverinfo": "text",
         "marker": {
          "color": "blue",
          "size": 0.5
         },
         "mode": "markers",
         "text": "Spark appears with MS SQL Server 55 times",
         "type": "scatter",
         "x": [
          -0.8947359916988007
         ],
         "y": [
          -0.09719827755039552
         ]
        },
        {
         "hoverinfo": "text",
         "marker": {
          "color": "green",
          "size": 0.5
         },
         "mode": "markers",
         "text": "MS SQL Server appears with Informatica 79 times",
         "type": "scatter",
         "x": [
          -0.2497645344670256
         ],
         "y": [
          0.8646488751640575
         ]
        },
        {
         "hoverinfo": "text",
         "marker": {
          "color": "blue",
          "size": 0.5
         },
         "mode": "markers",
         "text": "Informatica appears with MS SQL Server 79 times",
         "type": "scatter",
         "x": [
          -0.8401821041825847
         ],
         "y": [
          -0.322636067127227
         ]
        },
        {
         "hoverinfo": "text",
         "marker": {
          "color": "green",
          "size": 0.5
         },
         "mode": "markers",
         "text": "MS SQL Server appears with Qlik 79 times",
         "type": "scatter",
         "x": [
          -0.26069042499043826
         ],
         "y": [
          0.8614177281193514
         ]
        },
        {
         "hoverinfo": "text",
         "marker": {
          "color": "blue",
          "size": 0.5
         },
         "mode": "markers",
         "text": "Qlik appears with MS SQL Server 79 times",
         "type": "scatter",
         "x": [
          -0.7763909209826612
         ],
         "y": [
          -0.4552110914901956
         ]
        },
        {
         "hoverinfo": "text",
         "marker": {
          "color": "green",
          "size": 0.5
         },
         "mode": "markers",
         "text": "MS SQL Server appears with Tableau 154 times",
         "type": "scatter",
         "x": [
          -0.32658471092305086
         ],
         "y": [
          0.8386551297114371
         ]
        },
        {
         "hoverinfo": "text",
         "marker": {
          "color": "blue",
          "size": 0.5
         },
         "mode": "markers",
         "text": "Tableau appears with MS SQL Server 154 times",
         "type": "scatter",
         "x": [
          -0.476485668666307
         ],
         "y": [
          -0.7635190944276524
         ]
        },
        {
         "hoverinfo": "text",
         "marker": {
          "color": "green",
          "size": 0.5
         },
         "mode": "markers",
         "text": "MS SQL Server appears with Microstrategy 25 times",
         "type": "scatter",
         "x": [
          -0.2041334856695309
         ],
         "y": [
          0.8765440776301027
         ]
        },
        {
         "hoverinfo": "text",
         "marker": {
          "color": "blue",
          "size": 0.5
         },
         "mode": "markers",
         "text": "Microstrategy appears with MS SQL Server 25 times",
         "type": "scatter",
         "x": [
          -0.11628526418465067
         ],
         "y": [
          -0.892456014228996
         ]
        },
        {
         "hoverinfo": "text",
         "marker": {
          "color": "green",
          "size": 0.5
         },
         "mode": "markers",
         "text": "MS SQL Server appears with Oracle BI 220 times",
         "type": "scatter",
         "x": [
          -0.37465869266865715
         ],
         "y": [
          0.818309760425606
         ]
        },
        {
         "hoverinfo": "text",
         "marker": {
          "color": "blue",
          "size": 0.5
         },
         "mode": "markers",
         "text": "Oracle BI appears with MS SQL Server 220 times",
         "type": "scatter",
         "x": [
          0.1259291518813889
         ],
         "y": [
          -0.8911463677233018
         ]
        },
        {
         "hoverinfo": "text",
         "marker": {
          "color": "green",
          "size": 0.5
         },
         "mode": "markers",
         "text": "MS SQL Server appears with Python 142 times",
         "type": "scatter",
         "x": [
          -0.30660442061353527
         ],
         "y": [
          0.8461641266682477
         ]
        },
        {
         "hoverinfo": "text",
         "marker": {
          "color": "blue",
          "size": 0.5
         },
         "mode": "markers",
         "text": "Python appears with MS SQL Server 142 times",
         "type": "scatter",
         "x": [
          0.6008248153485968
         ],
         "y": [
          -0.6700817422235325
         ]
        },
        {
         "hoverinfo": "text",
         "marker": {
          "color": "green",
          "size": 0.5
         },
         "mode": "markers",
         "text": "MS SQL Server appears with VBA 39 times",
         "type": "scatter",
         "x": [
          -0.20862568307339083
         ],
         "y": [
          0.8754857647969846
         ]
        },
        {
         "hoverinfo": "text",
         "marker": {
          "color": "blue",
          "size": 0.5
         },
         "mode": "markers",
         "text": "VBA appears with MS SQL Server 39 times",
         "type": "scatter",
         "x": [
          0.8117065880869105
         ],
         "y": [
          -0.38875752707350464
         ]
        },
        {
         "hoverinfo": "text",
         "marker": {
          "color": "green",
          "size": 0.5
         },
         "mode": "markers",
         "text": "MS SQL Server appears with Linux 69 times",
         "type": "scatter",
         "x": [
          -0.23949381368364708
         ],
         "y": [
          0.8675498332702638
         ]
        },
        {
         "hoverinfo": "text",
         "marker": {
          "color": "blue",
          "size": 0.5
         },
         "mode": "markers",
         "text": "Linux appears with MS SQL Server 69 times",
         "type": "scatter",
         "x": [
          0.8706700830915625
         ],
         "y": [
          -0.22788946094396695
         ]
        },
        {
         "hoverinfo": "text",
         "marker": {
          "color": "green",
          "size": 0.5
         },
         "mode": "markers",
         "text": "MS SQL Server appears with AWS 17 times",
         "type": "scatter",
         "x": [
          -0.2011825565274536
         ],
         "y": [
          0.877226070604994
         ]
        },
        {
         "hoverinfo": "text",
         "marker": {
          "color": "blue",
          "size": 0.5
         },
         "mode": "markers",
         "text": "AWS appears with MS SQL Server 17 times",
         "type": "scatter",
         "x": [
          0.8931278267104031
         ],
         "y": [
          -0.11100759053124327
         ]
        },
        {
         "hoverinfo": "text",
         "marker": {
          "color": "green",
          "size": 0.5
         },
         "mode": "markers",
         "text": "PostgreSQL appears with MySQL/MariaDB 131 times",
         "type": "scatter",
         "x": [
          -0.5809002211108918
         ],
         "y": [
          0.6874263110423671
         ]
        },
        {
         "hoverinfo": "text",
         "marker": {
          "color": "blue",
          "size": 0.5
         },
         "mode": "markers",
         "text": "MySQL/MariaDB appears with PostgreSQL 131 times",
         "type": "scatter",
         "x": [
          -0.684024660015084
         ],
         "y": [
          0.5849019272418657
         ]
        },
        {
         "hoverinfo": "text",
         "marker": {
          "color": "green",
          "size": 0.5
         },
         "mode": "markers",
         "text": "PostgreSQL appears with T-SQL 51 times",
         "type": "scatter",
         "x": [
          -0.5317652785722414
         ],
         "y": [
          0.7261030839384905
         ]
        },
        {
         "hoverinfo": "text",
         "marker": {
          "color": "blue",
          "size": 0.5
         },
         "mode": "markers",
         "text": "T-SQL appears with PostgreSQL 51 times",
         "type": "scatter",
         "x": [
          -0.7401330327402497
         ],
         "y": [
          0.5120577055827992
         ]
        },
        {
         "hoverinfo": "text",
         "marker": {
          "color": "green",
          "size": 0.5
         },
         "mode": "markers",
         "text": "PostgreSQL appears with PL/SQL 3 times",
         "type": "scatter",
         "x": [
          -0.517785503495128
         ],
         "y": [
          0.7361373325476007
         ]
        },
        {
         "hoverinfo": "text",
         "marker": {
          "color": "blue",
          "size": 0.5
         },
         "mode": "markers",
         "text": "PL/SQL appears with PostgreSQL 3 times",
         "type": "scatter",
         "x": [
          -0.8415521371905818
         ],
         "y": [
          0.31904545191863243
         ]
        },
        {
         "hoverinfo": "text",
         "marker": {
          "color": "green",
          "size": 0.5
         },
         "mode": "markers",
         "text": "PostgreSQL appears with Pentaho 56 times",
         "type": "scatter",
         "x": [
          -0.5368745061992003
         ],
         "y": [
          0.7223335549407662
         ]
        },
        {
         "hoverinfo": "text",
         "marker": {
          "color": "blue",
          "size": 0.5
         },
         "mode": "markers",
         "text": "Pentaho appears with PostgreSQL 56 times",
         "type": "scatter",
         "x": [
          -0.8790155682835953
         ],
         "y": [
          0.19321395062227764
         ]
        },
        {
         "hoverinfo": "text",
         "marker": {
          "color": "green",
          "size": 0.5
         },
         "mode": "markers",
         "text": "PostgreSQL appears with Hadoop 12 times",
         "type": "scatter",
         "x": [
          -0.5192890196793675
         ],
         "y": [
          0.7350774884598504
         ]
        },
        {
         "hoverinfo": "text",
         "marker": {
          "color": "blue",
          "size": 0.5
         },
         "mode": "markers",
         "text": "Hadoop appears with PostgreSQL 12 times",
         "type": "scatter",
         "x": [
          -0.8887003458741669
         ],
         "y": [
          0.14216784180375028
         ]
        },
        {
         "hoverinfo": "text",
         "marker": {
          "color": "green",
          "size": 0.5
         },
         "mode": "markers",
         "text": "PostgreSQL appears with Spark 23 times",
         "type": "scatter",
         "x": [
          -0.5242689602541246
         ],
         "y": [
          0.731534043851726
         ]
        },
        {
         "hoverinfo": "text",
         "marker": {
          "color": "blue",
          "size": 0.5
         },
         "mode": "markers",
         "text": "Spark appears with PostgreSQL 23 times",
         "type": "scatter",
         "x": [
          -0.8965042636012172
         ],
         "y": [
          -0.07924711568782418
         ]
        },
        {
         "hoverinfo": "text",
         "marker": {
          "color": "green",
          "size": 0.5
         },
         "mode": "markers",
         "text": "PostgreSQL appears with Informatica 2 times",
         "type": "scatter",
         "x": [
          -0.5175427981420464
         ],
         "y": [
          0.7363079872521424
         ]
        },
        {
         "hoverinfo": "text",
         "marker": {
          "color": "blue",
          "size": 0.5
         },
         "mode": "markers",
         "text": "Informatica appears with PostgreSQL 2 times",
         "type": "scatter",
         "x": [
          -0.8536443029890531
         ],
         "y": [
          -0.285116474400084
         ]
        },
        {
         "hoverinfo": "text",
         "marker": {
          "color": "green",
          "size": 0.5
         },
         "mode": "markers",
         "text": "PostgreSQL appears with Qlik 16 times",
         "type": "scatter",
         "x": [
          -0.5206451698555203
         ],
         "y": [
          0.7341175703564903
         ]
        },
        {
         "hoverinfo": "text",
         "marker": {
          "color": "blue",
          "size": 0.5
         },
         "mode": "markers",
         "text": "Qlik appears with PostgreSQL 16 times",
         "type": "scatter",
         "x": [
          -0.7963290089303741
         ],
         "y": [
          -0.41935678072015037
         ]
        },
        {
         "hoverinfo": "text",
         "marker": {
          "color": "green",
          "size": 0.5
         },
         "mode": "markers",
         "text": "PostgreSQL appears with Tableau 8 times",
         "type": "scatter",
         "x": [
          -0.5183192571583078
         ],
         "y": [
          0.7357616106177733
         ]
        },
        {
         "hoverinfo": "text",
         "marker": {
          "color": "blue",
          "size": 0.5
         },
         "mode": "markers",
         "text": "Tableau appears with PostgreSQL 8 times",
         "type": "scatter",
         "x": [
          -0.5798295997539294
         ],
         "y": [
          -0.6883295978302821
         ]
        },
        {
         "hoverinfo": "text",
         "marker": {
          "color": "green",
          "size": 0.5
         },
         "mode": "markers",
         "text": "PostgreSQL appears with Oracle BI 56 times",
         "type": "scatter",
         "x": [
          -0.5421938563255463
         ],
         "y": [
          0.7183493733294636
         ]
        },
        {
         "hoverinfo": "text",
         "marker": {
          "color": "blue",
          "size": 0.5
         },
         "mode": "markers",
         "text": "Oracle BI appears with PostgreSQL 56 times",
         "type": "scatter",
         "x": [
          -0.03461806653614843
         ],
         "y": [
          -0.8993339699295801
         ]
        },
        {
         "hoverinfo": "text",
         "marker": {
          "color": "green",
          "size": 0.5
         },
         "mode": "markers",
         "text": "PostgreSQL appears with Python 41 times",
         "type": "scatter",
         "x": [
          -0.5273511276028935
         ],
         "y": [
          0.7293152872495933
         ]
        },
        {
         "hoverinfo": "text",
         "marker": {
          "color": "blue",
          "size": 0.5
         },
         "mode": "markers",
         "text": "Python appears with PostgreSQL 41 times",
         "type": "scatter",
         "x": [
          0.5432585804662593
         ],
         "y": [
          -0.717544503671922
         ]
        },
        {
         "hoverinfo": "text",
         "marker": {
          "color": "green",
          "size": 0.5
         },
         "mode": "markers",
         "text": "PostgreSQL appears with Linux 65 times",
         "type": "scatter",
         "x": [
          -0.5479074205928197
         ],
         "y": [
          0.7140010213293276
         ]
        },
        {
         "hoverinfo": "text",
         "marker": {
          "color": "blue",
          "size": 0.5
         },
         "mode": "markers",
         "text": "Linux appears with PostgreSQL 65 times",
         "type": "scatter",
         "x": [
          0.8684457282628766
         ],
         "y": [
          -0.23622450563386047
         ]
        },
        {
         "hoverinfo": "text",
         "marker": {
          "color": "green",
          "size": 0.5
         },
         "mode": "markers",
         "text": "PostgreSQL appears with AWS 18 times",
         "type": "scatter",
         "x": [
          -0.5222895376796652
         ],
         "y": [
          0.7329485922152805
         ]
        },
        {
         "hoverinfo": "text",
         "marker": {
          "color": "blue",
          "size": 0.5
         },
         "mode": "markers",
         "text": "AWS appears with PostgreSQL 18 times",
         "type": "scatter",
         "x": [
          0.8933834268116384
         ],
         "y": [
          -0.10893141281693751
         ]
        },
        {
         "hoverinfo": "text",
         "marker": {
          "color": "green",
          "size": 0.5
         },
         "mode": "markers",
         "text": "MySQL/MariaDB appears with T-SQL 49 times",
         "type": "scatter",
         "x": [
          -0.6219933944727937
         ],
         "y": [
          0.6504799898784064
         ]
        },
        {
         "hoverinfo": "text",
         "marker": {
          "color": "blue",
          "size": 0.5
         },
         "mode": "markers",
         "text": "T-SQL appears with MySQL/MariaDB 49 times",
         "type": "scatter",
         "x": [
          -0.7361492140544417
         ],
         "y": [
          0.5177686111063782
         ]
        },
        {
         "hoverinfo": "text",
         "marker": {
          "color": "green",
          "size": 0.5
         },
         "mode": "markers",
         "text": "MySQL/MariaDB appears with PL/SQL 1 times",
         "type": "scatter",
         "x": [
          -0.6080085608837273
         ],
         "y": [
          0.663570335301465
         ]
        },
        {
         "hoverinfo": "text",
         "marker": {
          "color": "blue",
          "size": 0.5
         },
         "mode": "markers",
         "text": "PL/SQL appears with MySQL/MariaDB 1 times",
         "type": "scatter",
         "x": [
          -0.8413740500573538
         ],
         "y": [
          0.3195148007371262
         ]
        },
        {
         "hoverinfo": "text",
         "marker": {
          "color": "green",
          "size": 0.5
         },
         "mode": "markers",
         "text": "MySQL/MariaDB appears with Pentaho 74 times",
         "type": "scatter",
         "x": [
          -0.6344499334826109
         ],
         "y": [
          0.6383363391691801
         ]
        },
        {
         "hoverinfo": "text",
         "marker": {
          "color": "blue",
          "size": 0.5
         },
         "mode": "markers",
         "text": "Pentaho appears with MySQL/MariaDB 74 times",
         "type": "scatter",
         "x": [
          -0.8821157109725207
         ],
         "y": [
          0.17852695162200138
         ]
        },
        {
         "hoverinfo": "text",
         "marker": {
          "color": "green",
          "size": 0.5
         },
         "mode": "markers",
         "text": "MySQL/MariaDB appears with Hadoop 20 times",
         "type": "scatter",
         "x": [
          -0.6143695325113949
         ],
         "y": [
          0.657685394031014
         ]
        },
        {
         "hoverinfo": "text",
         "marker": {
          "color": "blue",
          "size": 0.5
         },
         "mode": "markers",
         "text": "Hadoop appears with MySQL/MariaDB 20 times",
         "type": "scatter",
         "x": [
          -0.8896908266503483
         ],
         "y": [
          0.13583163465930864
         ]
        },
        {
         "hoverinfo": "text",
         "marker": {
          "color": "green",
          "size": 0.5
         },
         "mode": "markers",
         "text": "MySQL/MariaDB appears with Spark 46 times",
         "type": "scatter",
         "x": [
          -0.6175049960283728
         ],
         "y": [
          0.6547423767253799
         ]
        },
        {
         "hoverinfo": "text",
         "marker": {
          "color": "blue",
          "size": 0.5
         },
         "mode": "markers",
         "text": "Spark appears with MySQL/MariaDB 46 times",
         "type": "scatter",
         "x": [
          -0.8960768363305782
         ],
         "y": [
          -0.08394226225080141
         ]
        },
        {
         "hoverinfo": "text",
         "marker": {
          "color": "green",
          "size": 0.5
         },
         "mode": "markers",
         "text": "MySQL/MariaDB appears with Informatica 11 times",
         "type": "scatter",
         "x": [
          -0.609640060578228
         ],
         "y": [
          0.6620717457633837
         ]
        },
        {
         "hoverinfo": "text",
         "marker": {
          "color": "blue",
          "size": 0.5
         },
         "mode": "markers",
         "text": "Informatica appears with MySQL/MariaDB 11 times",
         "type": "scatter",
         "x": [
          -0.8531457987435579
         ],
         "y": [
          -0.2866046860855847
         ]
        },
        {
         "hoverinfo": "text",
         "marker": {
          "color": "green",
          "size": 0.5
         },
         "mode": "markers",
         "text": "MySQL/MariaDB appears with Qlik 19 times",
         "type": "scatter",
         "x": [
          -0.6125101611223276
         ],
         "y": [
          0.6594173962839474
         ]
        },
        {
         "hoverinfo": "text",
         "marker": {
          "color": "blue",
          "size": 0.5
         },
         "mode": "markers",
         "text": "Qlik appears with MySQL/MariaDB 19 times",
         "type": "scatter",
         "x": [
          -0.7939985759648107
         ],
         "y": [
          -0.4237525945240367
         ]
        },
        {
         "hoverinfo": "text",
         "marker": {
          "color": "green",
          "size": 0.5
         },
         "mode": "markers",
         "text": "MySQL/MariaDB appears with Tableau 78 times",
         "type": "scatter",
         "x": [
          -0.6414357063176939
         ],
         "y": [
          0.6313162715000471
         ]
        },
        {
         "hoverinfo": "text",
         "marker": {
          "color": "blue",
          "size": 0.5
         },
         "mode": "markers",
         "text": "Tableau appears with MySQL/MariaDB 78 times",
         "type": "scatter",
         "x": [
          -0.5405647611086298
         ],
         "y": [
          -0.7195760828762793
         ]
        },
        {
         "hoverinfo": "text",
         "marker": {
          "color": "green",
          "size": 0.5
         },
         "mode": "markers",
         "text": "MySQL/MariaDB appears with Oracle BI 88 times",
         "type": "scatter",
         "x": [
          -0.6564228567479086
         ],
         "y": [
          0.6157183066459165
         ]
        },
        {
         "hoverinfo": "text",
         "marker": {
          "color": "blue",
          "size": 0.5
         },
         "mode": "markers",
         "text": "Oracle BI appears with MySQL/MariaDB 88 times",
         "type": "scatter",
         "x": [
          0.0217707232734346
         ],
         "y": [
          -0.899736647918796
         ]
        },
        {
         "hoverinfo": "text",
         "marker": {
          "color": "green",
          "size": 0.5
         },
         "mode": "markers",
         "text": "MySQL/MariaDB appears with Python 83 times",
         "type": "scatter",
         "x": [
          -0.6487503867874332
         ],
         "y": [
          0.6237971911151539
         ]
        },
        {
         "hoverinfo": "text",
         "marker": {
          "color": "blue",
          "size": 0.5
         },
         "mode": "markers",
         "text": "Python appears with MySQL/MariaDB 83 times",
         "type": "scatter",
         "x": [
          0.5749319453340176
         ],
         "y": [
          -0.692425633721371
         ]
        },
        {
         "hoverinfo": "text",
         "marker": {
          "color": "green",
          "size": 0.5
         },
         "mode": "markers",
         "text": "MySQL/MariaDB appears with VBA 6 times",
         "type": "scatter",
         "x": [
          -0.6088247718183788
         ],
         "y": [
          0.662821542513744
         ]
        },
        {
         "hoverinfo": "text",
         "marker": {
          "color": "blue",
          "size": 0.5
         },
         "mode": "markers",
         "text": "VBA appears with MySQL/MariaDB 6 times",
         "type": "scatter",
         "x": [
          0.8051019388115193
         ],
         "y": [
          -0.4022572163702383
         ]
        },
        {
         "hoverinfo": "text",
         "marker": {
          "color": "green",
          "size": 0.5
         },
         "mode": "markers",
         "text": "MySQL/MariaDB appears with Linux 72 times",
         "type": "scatter",
         "x": [
          -0.6276675681468796
         ],
         "y": [
          0.6450065301193332
         ]
        },
        {
         "hoverinfo": "text",
         "marker": {
          "color": "blue",
          "size": 0.5
         },
         "mode": "markers",
         "text": "Linux appears with MySQL/MariaDB 72 times",
         "type": "scatter",
         "x": [
          0.8729242594787114
         ],
         "y": [
          -0.21909641077284506
         ]
        },
        {
         "hoverinfo": "text",
         "marker": {
          "color": "green",
          "size": 0.5
         },
         "mode": "markers",
         "text": "MySQL/MariaDB appears with AWS 15 times",
         "type": "scatter",
         "x": [
          -0.6108851862672634
         ],
         "y": [
          0.6609230584562859
         ]
        },
        {
         "hoverinfo": "text",
         "marker": {
          "color": "blue",
          "size": 0.5
         },
         "mode": "markers",
         "text": "AWS appears with MySQL/MariaDB 15 times",
         "type": "scatter",
         "x": [
          0.8928899128525983
         ],
         "y": [
          -0.11290528564278753
         ]
        },
        {
         "hoverinfo": "text",
         "marker": {
          "color": "green",
          "size": 0.5
         },
         "mode": "markers",
         "text": "T-SQL appears with PL/SQL 56 times",
         "type": "scatter",
         "x": [
          -0.7523913842191791
         ],
         "y": [
          0.4938696234359303
         ]
        },
        {
         "hoverinfo": "text",
         "marker": {
          "color": "blue",
          "size": 0.5
         },
         "mode": "markers",
         "text": "PL/SQL appears with T-SQL 56 times",
         "type": "scatter",
         "x": [
          -0.8487780084021525
         ],
         "y": [
          0.2992923194017443
         ]
        },
        {
         "hoverinfo": "text",
         "marker": {
          "color": "green",
          "size": 0.5
         },
         "mode": "markers",
         "text": "T-SQL appears with Pentaho 52 times",
         "type": "scatter",
         "x": [
          -0.7482384992391458
         ],
         "y": [
          0.5001391288995002
         ]
        },
        {
         "hoverinfo": "text",
         "marker": {
          "color": "blue",
          "size": 0.5
         },
         "mode": "markers",
         "text": "Pentaho appears with T-SQL 52 times",
         "type": "scatter",
         "x": [
          -0.8762924960223898
         ],
         "y": [
          0.20521077314519837
         ]
        },
        {
         "hoverinfo": "text",
         "marker": {
          "color": "green",
          "size": 0.5
         },
         "mode": "markers",
         "text": "T-SQL appears with Hadoop 52 times",
         "type": "scatter",
         "x": [
          -0.7441900468044713
         ],
         "y": [
          0.5061434324745888
         ]
        },
        {
         "hoverinfo": "text",
         "marker": {
          "color": "blue",
          "size": 0.5
         },
         "mode": "markers",
         "text": "Hadoop appears with T-SQL 52 times",
         "type": "scatter",
         "x": [
          -0.890418942434054
         ],
         "y": [
          0.13097368802404902
         ]
        },
        {
         "hoverinfo": "text",
         "marker": {
          "color": "green",
          "size": 0.5
         },
         "mode": "markers",
         "text": "T-SQL appears with Spark 47 times",
         "type": "scatter",
         "x": [
          -0.7322832890606309
         ],
         "y": [
          0.523221926683644
         ]
        },
        {
         "hoverinfo": "text",
         "marker": {
          "color": "blue",
          "size": 0.5
         },
         "mode": "markers",
         "text": "Spark appears with T-SQL 47 times",
         "type": "scatter",
         "x": [
          -0.8954618353053077
         ],
         "y": [
          -0.09026683505945104
         ]
        },
        {
         "hoverinfo": "text",
         "marker": {
          "color": "green",
          "size": 0.5
         },
         "mode": "markers",
         "text": "T-SQL appears with Informatica 20 times",
         "type": "scatter",
         "x": [
          -0.7225667707064782
         ],
         "y": [
          0.5365605854615225
         ]
        },
        {
         "hoverinfo": "text",
         "marker": {
          "color": "blue",
          "size": 0.5
         },
         "mode": "markers",
         "text": "Informatica appears with T-SQL 20 times",
         "type": "scatter",
         "x": [
          -0.8505733620719662
         ],
         "y": [
          -0.2941512463573659
         ]
        },
        {
         "hoverinfo": "text",
         "marker": {
          "color": "green",
          "size": 0.5
         },
         "mode": "markers",
         "text": "T-SQL appears with Qlik 87 times",
         "type": "scatter",
         "x": [
          -0.7693794143542315
         ],
         "y": [
          0.4669639351897956
         ]
        },
        {
         "hoverinfo": "text",
         "marker": {
          "color": "blue",
          "size": 0.5
         },
         "mode": "markers",
         "text": "Qlik appears with T-SQL 87 times",
         "type": "scatter",
         "x": [
          -0.7702682827024635
         ],
         "y": [
          -0.46549626492872936
         ]
        },
        {
         "hoverinfo": "text",
         "marker": {
          "color": "green",
          "size": 0.5
         },
         "mode": "markers",
         "text": "T-SQL appears with Tableau 137 times",
         "type": "scatter",
         "x": [
          -0.7773561965600757
         ],
         "y": [
          0.4535607386774708
         ]
        },
        {
         "hoverinfo": "text",
         "marker": {
          "color": "blue",
          "size": 0.5
         },
         "mode": "markers",
         "text": "Tableau appears with T-SQL 137 times",
         "type": "scatter",
         "x": [
          -0.4946213442973058
         ],
         "y": [
          -0.751897417049378
         ]
        },
        {
         "hoverinfo": "text",
         "marker": {
          "color": "green",
          "size": 0.5
         },
         "mode": "markers",
         "text": "T-SQL appears with Microstrategy 22 times",
         "type": "scatter",
         "x": [
          -0.7243064910209882
         ],
         "y": [
          0.5342097968634264
         ]
        },
        {
         "hoverinfo": "text",
         "marker": {
          "color": "blue",
          "size": 0.5
         },
         "mode": "markers",
         "text": "Microstrategy appears with T-SQL 22 times",
         "type": "scatter",
         "x": [
          -0.11863747271256171
         ],
         "y": [
          -0.892146372557988
         ]
        },
        {
         "hoverinfo": "text",
         "marker": {
          "color": "green",
          "size": 0.5
         },
         "mode": "markers",
         "text": "T-SQL appears with Oracle BI 191 times",
         "type": "scatter",
         "x": [
          -0.8003228756880136
         ],
         "y": [
          0.4116834884355558
         ]
        },
        {
         "hoverinfo": "text",
         "marker": {
          "color": "blue",
          "size": 0.5
         },
         "mode": "markers",
         "text": "Oracle BI appears with T-SQL 191 times",
         "type": "scatter",
         "x": [
          0.09542110016268465
         ],
         "y": [
          -0.8949272672366972
         ]
        },
        {
         "hoverinfo": "text",
         "marker": {
          "color": "green",
          "size": 0.5
         },
         "mode": "markers",
         "text": "T-SQL appears with Python 78 times",
         "type": "scatter",
         "x": [
          -0.7574709830281728
         ],
         "y": [
          0.48604290949496787
         ]
        },
        {
         "hoverinfo": "text",
         "marker": {
          "color": "blue",
          "size": 0.5
         },
         "mode": "markers",
         "text": "Python appears with T-SQL 78 times",
         "type": "scatter",
         "x": [
          0.56581089944327
         ],
         "y": [
          -0.6998985827040929
         ]
        },
        {
         "hoverinfo": "text",
         "marker": {
          "color": "green",
          "size": 0.5
         },
         "mode": "markers",
         "text": "T-SQL appears with VBA 27 times",
         "type": "scatter",
         "x": [
          -0.7263264972245164
         ],
         "y": [
          0.5314600826304499
         ]
        },
        {
         "hoverinfo": "text",
         "marker": {
          "color": "blue",
          "size": 0.5
         },
         "mode": "markers",
         "text": "VBA appears with T-SQL 27 times",
         "type": "scatter",
         "x": [
          0.808197403508925
         ],
         "y": [
          -0.39600120828279284
         ]
        },
        {
         "hoverinfo": "text",
         "marker": {
          "color": "green",
          "size": 0.5
         },
         "mode": "markers",
         "text": "T-SQL appears with Linux 36 times",
         "type": "scatter",
         "x": [
          -0.7289083053754752
         ],
         "y": [
          0.5279135178745217
         ]
        },
        {
         "hoverinfo": "text",
         "marker": {
          "color": "blue",
          "size": 0.5
         },
         "mode": "markers",
         "text": "Linux appears with T-SQL 36 times",
         "type": "scatter",
         "x": [
          0.8633770911547669
         ],
         "y": [
          -0.25412595001127564
         ]
        },
        {
         "hoverinfo": "text",
         "marker": {
          "color": "green",
          "size": 0.5
         },
         "mode": "markers",
         "text": "T-SQL appears with AWS 20 times",
         "type": "scatter",
         "x": [
          -0.7209028006455018
         ],
         "y": [
          0.5387941647990184
         ]
        },
        {
         "hoverinfo": "text",
         "marker": {
          "color": "blue",
          "size": 0.5
         },
         "mode": "markers",
         "text": "AWS appears with T-SQL 20 times",
         "type": "scatter",
         "x": [
          0.8936554708888664
         ],
         "y": [
          -0.10667661107477357
         ]
        },
        {
         "hoverinfo": "text",
         "marker": {
          "color": "green",
          "size": 0.5
         },
         "mode": "markers",
         "text": "PL/SQL appears with Pentaho 8 times",
         "type": "scatter",
         "x": [
          -0.8421025431934418
         ],
         "y": [
          0.317589840434384
         ]
        },
        {
         "hoverinfo": "text",
         "marker": {
          "color": "blue",
          "size": 0.5
         },
         "mode": "markers",
         "text": "Pentaho appears with PL/SQL 8 times",
         "type": "scatter",
         "x": [
          -0.8666578928382555
         ],
         "y": [
          0.24270166208980715
         ]
        },
        {
         "hoverinfo": "text",
         "marker": {
          "color": "green",
          "size": 0.5
         },
         "mode": "markers",
         "text": "PL/SQL appears with Hadoop 9 times",
         "type": "scatter",
         "x": [
          -0.8424033099255065
         ],
         "y": [
          0.31679119846762016
         ]
        },
        {
         "hoverinfo": "text",
         "marker": {
          "color": "blue",
          "size": 0.5
         },
         "mode": "markers",
         "text": "Hadoop appears with PL/SQL 9 times",
         "type": "scatter",
         "x": [
          -0.8882322080817724
         ],
         "y": [
          0.1450639325476151
         ]
        },
        {
         "hoverinfo": "text",
         "marker": {
          "color": "green",
          "size": 0.5
         },
         "mode": "markers",
         "text": "PL/SQL appears with Informatica 38 times",
         "type": "scatter",
         "x": [
          -0.8471971282520445
         ],
         "y": [
          0.3037384168680163
         ]
        },
        {
         "hoverinfo": "text",
         "marker": {
          "color": "blue",
          "size": 0.5
         },
         "mode": "markers",
         "text": "Informatica appears with PL/SQL 38 times",
         "type": "scatter",
         "x": [
          -0.8445362086438598
         ],
         "y": [
          -0.31106043189299254
         ]
        },
        {
         "hoverinfo": "text",
         "marker": {
          "color": "green",
          "size": 0.5
         },
         "mode": "markers",
         "text": "PL/SQL appears with Qlik 20 times",
         "type": "scatter",
         "x": [
          -0.8441745914042604
         ],
         "y": [
          0.3120404769055611
         ]
        },
        {
         "hoverinfo": "text",
         "marker": {
          "color": "blue",
          "size": 0.5
         },
         "mode": "markers",
         "text": "Qlik appears with PL/SQL 20 times",
         "type": "scatter",
         "x": [
          -0.7926706366119823
         ],
         "y": [
          -0.4262314651139151
         ]
        },
        {
         "hoverinfo": "text",
         "marker": {
          "color": "green",
          "size": 0.5
         },
         "mode": "markers",
         "text": "PL/SQL appears with Tableau 33 times",
         "type": "scatter",
         "x": [
          -0.8459876179036002
         ],
         "y": [
          0.3070911108348665
         ]
        },
        {
         "hoverinfo": "text",
         "marker": {
          "color": "blue",
          "size": 0.5
         },
         "mode": "markers",
         "text": "Tableau appears with PL/SQL 33 times",
         "type": "scatter",
         "x": [
          -0.5775051837187191
         ],
         "y": [
          -0.6902809303305493
         ]
        },
        {
         "hoverinfo": "text",
         "marker": {
          "color": "green",
          "size": 0.5
         },
         "mode": "markers",
         "text": "PL/SQL appears with Microstrategy 26 times",
         "type": "scatter",
         "x": [
          -0.8449724373269379
         ],
         "y": [
          0.3098734905695774
         ]
        },
        {
         "hoverinfo": "text",
         "marker": {
          "color": "blue",
          "size": 0.5
         },
         "mode": "markers",
         "text": "Microstrategy appears with PL/SQL 26 times",
         "type": "scatter",
         "x": [
          -0.11373195405964569
         ],
         "y": [
          -0.8927849923838185
         ]
        },
        {
         "hoverinfo": "text",
         "marker": {
          "color": "green",
          "size": 0.5
         },
         "mode": "markers",
         "text": "PL/SQL appears with Oracle BI 111 times",
         "type": "scatter",
         "x": [
          -0.8561924357971611
         ],
         "y": [
          0.277370713817671
         ]
        },
        {
         "hoverinfo": "text",
         "marker": {
          "color": "blue",
          "size": 0.5
         },
         "mode": "markers",
         "text": "Oracle BI appears with PL/SQL 111 times",
         "type": "scatter",
         "x": [
          0.05099245769442621
         ],
         "y": [
          -0.8985542661733248
         ]
        },
        {
         "hoverinfo": "text",
         "marker": {
          "color": "green",
          "size": 0.5
         },
         "mode": "markers",
         "text": "PL/SQL appears with Python 5 times",
         "type": "scatter",
         "x": [
          -0.8416944183896433
         ],
         "y": [
          0.3186699013896983
         ]
        },
        {
         "hoverinfo": "text",
         "marker": {
          "color": "blue",
          "size": 0.5
         },
         "mode": "markers",
         "text": "Python appears with PL/SQL 5 times",
         "type": "scatter",
         "x": [
          0.5297341235441348
         ],
         "y": [
          -0.7275862549230347
         ]
        },
        {
         "hoverinfo": "text",
         "marker": {
          "color": "green",
          "size": 0.5
         },
         "mode": "markers",
         "text": "PL/SQL appears with VBA 11 times",
         "type": "scatter",
         "x": [
          -0.8427561834067583
         ],
         "y": [
          0.31585125507060186
         ]
        },
        {
         "hoverinfo": "text",
         "marker": {
          "color": "blue",
          "size": 0.5
         },
         "mode": "markers",
         "text": "VBA appears with PL/SQL 11 times",
         "type": "scatter",
         "x": [
          0.807143157808766
         ],
         "y": [
          -0.3981456050272232
         ]
        },
        {
         "hoverinfo": "text",
         "marker": {
          "color": "green",
          "size": 0.5
         },
         "mode": "markers",
         "text": "PL/SQL appears with Linux 5 times",
         "type": "scatter",
         "x": [
          -0.8418720342075898
         ],
         "y": [
          0.3182003740085398
         ]
        },
        {
         "hoverinfo": "text",
         "marker": {
          "color": "blue",
          "size": 0.5
         },
         "mode": "markers",
         "text": "Linux appears with PL/SQL 5 times",
         "type": "scatter",
         "x": [
          0.8581725857392244
         ],
         "y": [
          -0.2711822506832877
         ]
        },
        {
         "hoverinfo": "text",
         "marker": {
          "color": "green",
          "size": 0.5
         },
         "mode": "markers",
         "text": "PL/SQL appears with AWS 3 times",
         "type": "scatter",
         "x": [
          -0.8414453163254638
         ],
         "y": [
          0.31932707313026265
         ]
        },
        {
         "hoverinfo": "text",
         "marker": {
          "color": "blue",
          "size": 0.5
         },
         "mode": "markers",
         "text": "AWS appears with PL/SQL 3 times",
         "type": "scatter",
         "x": [
          0.8922148621672532
         ],
         "y": [
          -0.11812129244073366
         ]
        },
        {
         "hoverinfo": "text",
         "marker": {
          "color": "green",
          "size": 0.5
         },
         "mode": "markers",
         "text": "Pentaho appears with Spark 8 times",
         "type": "scatter",
         "x": [
          -0.8664139716653771
         ],
         "y": [
          0.24357099520063366
         ]
        },
        {
         "hoverinfo": "text",
         "marker": {
          "color": "blue",
          "size": 0.5
         },
         "mode": "markers",
         "text": "Spark appears with Pentaho 8 times",
         "type": "scatter",
         "x": [
          -0.8971836146318796
         ],
         "y": [
          -0.0711446528986895
         ]
        },
        {
         "hoverinfo": "text",
         "marker": {
          "color": "green",
          "size": 0.5
         },
         "mode": "markers",
         "text": "Pentaho appears with Informatica 40 times",
         "type": "scatter",
         "x": [
          -0.870413145632697
         ],
         "y": [
          0.2288688618178395
         ]
        },
        {
         "hoverinfo": "text",
         "marker": {
          "color": "blue",
          "size": 0.5
         },
         "mode": "markers",
         "text": "Informatica appears with Pentaho 40 times",
         "type": "scatter",
         "x": [
          -0.8428312743549768
         ],
         "y": [
          -0.31565082443923026
         ]
        },
        {
         "hoverinfo": "text",
         "marker": {
          "color": "green",
          "size": 0.5
         },
         "mode": "markers",
         "text": "Pentaho appears with Qlik 37 times",
         "type": "scatter",
         "x": [
          -0.8681775034112656
         ],
         "y": [
          0.237208394814732
         ]
        },
        {
         "hoverinfo": "text",
         "marker": {
          "color": "blue",
          "size": 0.5
         },
         "mode": "markers",
         "text": "Qlik appears with Pentaho 37 times",
         "type": "scatter",
         "x": [
          -0.7885709408720807
         ],
         "y": [
          -0.43376937560427364
         ]
        },
        {
         "hoverinfo": "text",
         "marker": {
          "color": "green",
          "size": 0.5
         },
         "mode": "markers",
         "text": "Pentaho appears with Tableau 45 times",
         "type": "scatter",
         "x": [
          -0.8750281899193816
         ],
         "y": [
          0.21053661640296822
         ]
        },
        {
         "hoverinfo": "text",
         "marker": {
          "color": "blue",
          "size": 0.5
         },
         "mode": "markers",
         "text": "Tableau appears with Pentaho 45 times",
         "type": "scatter",
         "x": [
          -0.5648059568630802
         ],
         "y": [
          -0.7007098051918358
         ]
        },
        {
         "hoverinfo": "text",
         "marker": {
          "color": "green",
          "size": 0.5
         },
         "mode": "markers",
         "text": "Pentaho appears with Microstrategy 8 times",
         "type": "scatter",
         "x": [
          -0.8661691784761489
         ],
         "y": [
          0.2444400831654932
         ]
        },
        {
         "hoverinfo": "text",
         "marker": {
          "color": "blue",
          "size": 0.5
         },
         "mode": "markers",
         "text": "Microstrategy appears with Pentaho 8 times",
         "type": "scatter",
         "x": [
          -0.12353940705667782
         ],
         "y": [
          -0.8914807989542368
         ]
        },
        {
         "hoverinfo": "text",
         "marker": {
          "color": "green",
          "size": 0.5
         },
         "mode": "markers",
         "text": "Pentaho appears with Oracle BI 41 times",
         "type": "scatter",
         "x": [
          -0.8726791822486677
         ],
         "y": [
          0.2200705452117497
         ]
        },
        {
         "hoverinfo": "text",
         "marker": {
          "color": "blue",
          "size": 0.5
         },
         "mode": "markers",
         "text": "Oracle BI appears with Pentaho 41 times",
         "type": "scatter",
         "x": [
          -0.04186712651006045
         ],
         "y": [
          -0.8990256635479271
         ]
        },
        {
         "hoverinfo": "text",
         "marker": {
          "color": "green",
          "size": 0.5
         },
         "mode": "markers",
         "text": "Pentaho appears with Python 38 times",
         "type": "scatter",
         "x": [
          -0.8692834030762836
         ],
         "y": [
          0.23312306864854795
         ]
        },
        {
         "hoverinfo": "text",
         "marker": {
          "color": "blue",
          "size": 0.5
         },
         "mode": "markers",
         "text": "Python appears with Pentaho 38 times",
         "type": "scatter",
         "x": [
          0.5386344428457452
         ],
         "y": [
          -0.7210221473576617
         ]
        },
        {
         "hoverinfo": "text",
         "marker": {
          "color": "green",
          "size": 0.5
         },
         "mode": "markers",
         "text": "Pentaho appears with VBA 1 times",
         "type": "scatter",
         "x": [
          -0.8660310991893433
         ],
         "y": [
          0.24492883708722005
         ]
        },
        {
         "hoverinfo": "text",
         "marker": {
          "color": "blue",
          "size": 0.5
         },
         "mode": "markers",
         "text": "VBA appears with Pentaho 1 times",
         "type": "scatter",
         "x": [
          0.8040028374045163
         ],
         "y": [
          -0.4044495487022913
         ]
        },
        {
         "hoverinfo": "text",
         "marker": {
          "color": "green",
          "size": 0.5
         },
         "mode": "markers",
         "text": "Pentaho appears with Linux 44 times",
         "type": "scatter",
         "x": [
          -0.8738396810418978
         ],
         "y": [
          0.21541636854379118
         ]
        },
        {
         "hoverinfo": "text",
         "marker": {
          "color": "blue",
          "size": 0.5
         },
         "mode": "markers",
         "text": "Linux appears with Pentaho 44 times",
         "type": "scatter",
         "x": [
          0.8648172005134027
         ],
         "y": [
          -0.24918107812625145
         ]
        },
        {
         "hoverinfo": "text",
         "marker": {
          "color": "green",
          "size": 0.5
         },
         "mode": "markers",
         "text": "Pentaho appears with AWS 15 times",
         "type": "scatter",
         "x": [
          -0.8673994743030095
         ],
         "y": [
          0.24003781364373158
         ]
        },
        {
         "hoverinfo": "text",
         "marker": {
          "color": "blue",
          "size": 0.5
         },
         "mode": "markers",
         "text": "AWS appears with Pentaho 15 times",
         "type": "scatter",
         "x": [
          0.8926632065615632
         ],
         "y": [
          -0.1146839119110788
         ]
        },
        {
         "hoverinfo": "text",
         "marker": {
          "color": "green",
          "size": 0.5
         },
         "mode": "markers",
         "text": "Hadoop appears with Spark 244 times",
         "type": "scatter",
         "x": [
          -0.8999413764261891
         ],
         "y": [
          0.010272243967914239
         ]
        },
        {
         "hoverinfo": "text",
         "marker": {
          "color": "blue",
          "size": 0.5
         },
         "mode": "markers",
         "text": "Spark appears with Hadoop 244 times",
         "type": "scatter",
         "x": [
          -0.8764742423116455
         ],
         "y": [
          -0.2044331249191943
         ]
        },
        {
         "hoverinfo": "text",
         "marker": {
          "color": "green",
          "size": 0.5
         },
         "mode": "markers",
         "text": "Hadoop appears with Informatica 16 times",
         "type": "scatter",
         "x": [
          -0.8893168284553138
         ],
         "y": [
          0.13825909961439042
         ]
        },
        {
         "hoverinfo": "text",
         "marker": {
          "color": "blue",
          "size": 0.5
         },
         "mode": "markers",
         "text": "Informatica appears with Hadoop 16 times",
         "type": "scatter",
         "x": [
          -0.851999510176528
         ],
         "y": [
          -0.28999454246408923
         ]
        },
        {
         "hoverinfo": "text",
         "marker": {
          "color": "green",
          "size": 0.5
         },
         "mode": "markers",
         "text": "Hadoop appears with Qlik 15 times",
         "type": "scatter",
         "x": [
          -0.8889894671244384
         ],
         "y": [
          0.1403485922330793
         ]
        },
        {
         "hoverinfo": "text",
         "marker": {
          "color": "blue",
          "size": 0.5
         },
         "mode": "markers",
         "text": "Qlik appears with Hadoop 15 times",
         "type": "scatter",
         "x": [
          -0.7973680963026049
         ],
         "y": [
          -0.4173776695018074
         ]
        },
        {
         "hoverinfo": "text",
         "marker": {
          "color": "green",
          "size": 0.5
         },
         "mode": "markers",
         "text": "Hadoop appears with Tableau 91 times",
         "type": "scatter",
         "x": [
          -0.8960933253991875
         ],
         "y": [
          0.0837660562222302
         ]
        },
        {
         "hoverinfo": "text",
         "marker": {
          "color": "blue",
          "size": 0.5
         },
         "mode": "markers",
         "text": "Tableau appears with Hadoop 91 times",
         "type": "scatter",
         "x": [
          -0.5202943281954486
         ],
         "y": [
          -0.7343662655975197
         ]
        },
        {
         "hoverinfo": "text",
         "marker": {
          "color": "green",
          "size": 0.5
         },
         "mode": "markers",
         "text": "Hadoop appears with Microstrategy 7 times",
         "type": "scatter",
         "x": [
          -0.8880556078061864
         ],
         "y": [
          0.1461411558869877
         ]
        },
        {
         "hoverinfo": "text",
         "marker": {
          "color": "blue",
          "size": 0.5
         },
         "mode": "markers",
         "text": "Microstrategy appears with Hadoop 7 times",
         "type": "scatter",
         "x": [
          -0.12428937745342476
         ],
         "y": [
          -0.8913765481838976
         ]
        },
        {
         "hoverinfo": "text",
         "marker": {
          "color": "green",
          "size": 0.5
         },
         "mode": "markers",
         "text": "Hadoop appears with Oracle BI 87 times",
         "type": "scatter",
         "x": [
          -0.8948814924180221
         ],
         "y": [
          0.09584943676252675
         ]
        },
        {
         "hoverinfo": "text",
         "marker": {
          "color": "blue",
          "size": 0.5
         },
         "mode": "markers",
         "text": "Oracle BI appears with Hadoop 87 times",
         "type": "scatter",
         "x": [
          0.008682652984165717
         ],
         "y": [
          -0.8999581165460738
         ]
        },
        {
         "hoverinfo": "text",
         "marker": {
          "color": "green",
          "size": 0.5
         },
         "mode": "markers",
         "text": "Hadoop appears with Python 261 times",
         "type": "scatter",
         "x": [
          -0.8996751675685074
         ],
         "y": [
          -0.024178355208289946
         ]
        },
        {
         "hoverinfo": "text",
         "marker": {
          "color": "blue",
          "size": 0.5
         },
         "mode": "markers",
         "text": "Python appears with Hadoop 261 times",
         "type": "scatter",
         "x": [
          0.7183405843743148
         ],
         "y": [
          -0.542205500562995
         ]
        },
        {
         "hoverinfo": "text",
         "marker": {
          "color": "green",
          "size": 0.5
         },
         "mode": "markers",
         "text": "Hadoop appears with VBA 11 times",
         "type": "scatter",
         "x": [
          -0.8884511208690353
         ],
         "y": [
          0.14371710345868607
         ]
        },
        {
         "hoverinfo": "text",
         "marker": {
          "color": "blue",
          "size": 0.5
         },
         "mode": "markers",
         "text": "VBA appears with Hadoop 11 times",
         "type": "scatter",
         "x": [
          0.8065302039861701
         ],
         "y": [
          -0.39938581604512047
         ]
        },
        {
         "hoverinfo": "text",
         "marker": {
          "color": "green",
          "size": 0.5
         },
         "mode": "markers",
         "text": "Hadoop appears with Linux 145 times",
         "type": "scatter",
         "x": [
          -0.8992472556231098
         ],
         "y": [
          0.036801810475918455
         ]
        },
        {
         "hoverinfo": "text",
         "marker": {
          "color": "blue",
          "size": 0.5
         },
         "mode": "markers",
         "text": "Linux appears with Hadoop 145 times",
         "type": "scatter",
         "x": [
          0.882658213281013
         ],
         "y": [
          -0.17582513622224188
         ]
        },
        {
         "hoverinfo": "text",
         "marker": {
          "color": "green",
          "size": 0.5
         },
         "mode": "markers",
         "text": "Hadoop appears with AWS 95 times",
         "type": "scatter",
         "x": [
          -0.8971853042210697
         ],
         "y": [
          0.07112334279086323
         ]
        },
        {
         "hoverinfo": "text",
         "marker": {
          "color": "blue",
          "size": 0.5
         },
         "mode": "markers",
         "text": "AWS appears with Hadoop 95 times",
         "type": "scatter",
         "x": [
          0.8976944983581742
         ],
         "y": [
          -0.06437847169253262
         ]
        },
        {
         "hoverinfo": "text",
         "marker": {
          "color": "green",
          "size": 0.5
         },
         "mode": "markers",
         "text": "Spark appears with Informatica 17 times",
         "type": "scatter",
         "x": [
          -0.8969353241204276
         ],
         "y": [
          -0.07420932788392215
         ]
        },
        {
         "hoverinfo": "text",
         "marker": {
          "color": "blue",
          "size": 0.5
         },
         "mode": "markers",
         "text": "Informatica appears with Spark 17 times",
         "type": "scatter",
         "x": [
          -0.8513297120353637
         ],
         "y": [
          -0.2919549989395364
         ]
        },
        {
         "hoverinfo": "text",
         "marker": {
          "color": "green",
          "size": 0.5
         },
         "mode": "markers",
         "text": "Spark appears with Qlik 17 times",
         "type": "scatter",
         "x": [
          -0.8967407838428986
         ],
         "y": [
          -0.07652428760089149
         ]
        },
        {
         "hoverinfo": "text",
         "marker": {
          "color": "blue",
          "size": 0.5
         },
         "mode": "markers",
         "text": "Qlik appears with Spark 17 times",
         "type": "scatter",
         "x": [
          -0.7952174859600787
         ],
         "y": [
          -0.42146073366724457
         ]
        },
        {
         "hoverinfo": "text",
         "marker": {
          "color": "green",
          "size": 0.5
         },
         "mode": "markers",
         "text": "Spark appears with Tableau 70 times",
         "type": "scatter",
         "x": [
          -0.892738818093279
         ],
         "y": [
          -0.11409383274049209
         ]
        },
        {
         "hoverinfo": "text",
         "marker": {
          "color": "blue",
          "size": 0.5
         },
         "mode": "markers",
         "text": "Tableau appears with Spark 70 times",
         "type": "scatter",
         "x": [
          -0.5581532263453279
         ],
         "y": [
          -0.7060205208917806
         ]
        },
        {
         "hoverinfo": "text",
         "marker": {
          "color": "green",
          "size": 0.5
         },
         "mode": "markers",
         "text": "Spark appears with Microstrategy 3 times",
         "type": "scatter",
         "x": [
          -0.8972427152831707
         ],
         "y": [
          -0.07039538245711303
         ]
        },
        {
         "hoverinfo": "text",
         "marker": {
          "color": "blue",
          "size": 0.5
         },
         "mode": "markers",
         "text": "Microstrategy appears with Spark 3 times",
         "type": "scatter",
         "x": [
          -0.12548914688375498
         ],
         "y": [
          -0.891208434662951
         ]
        },
        {
         "hoverinfo": "text",
         "marker": {
          "color": "green",
          "size": 0.5
         },
         "mode": "markers",
         "text": "Spark appears with Oracle BI 79 times",
         "type": "scatter",
         "x": [
          -0.889980237475897
         ],
         "y": [
          -0.1339222793352394
         ]
        },
        {
         "hoverinfo": "text",
         "marker": {
          "color": "blue",
          "size": 0.5
         },
         "mode": "markers",
         "text": "Oracle BI appears with Spark 79 times",
         "type": "scatter",
         "x": [
          -0.0037340578764036014
         ],
         "y": [
          -0.8999922537509841
         ]
        },
        {
         "hoverinfo": "text",
         "marker": {
          "color": "green",
          "size": 0.5
         },
         "mode": "markers",
         "text": "Spark appears with Python 284 times",
         "type": "scatter",
         "x": [
          -0.8675776160519115
         ],
         "y": [
          -0.23939314970500303
         ]
        },
        {
         "hoverinfo": "text",
         "marker": {
          "color": "blue",
          "size": 0.5
         },
         "mode": "markers",
         "text": "Python appears with Spark 284 times",
         "type": "scatter",
         "x": [
          0.7416734346047653
         ],
         "y": [
          -0.5098240053210233
         ]
        },
        {
         "hoverinfo": "text",
         "marker": {
          "color": "green",
          "size": 0.5
         },
         "mode": "markers",
         "text": "Spark appears with VBA 10 times",
         "type": "scatter",
         "x": [
          -0.8970855548406533
         ],
         "y": [
          -0.07237062453949976
         ]
        },
        {
         "hoverinfo": "text",
         "marker": {
          "color": "blue",
          "size": 0.5
         },
         "mode": "markers",
         "text": "VBA appears with Spark 10 times",
         "type": "scatter",
         "x": [
          0.8059433340041804
         ],
         "y": [
          -0.40056877358853893
         ]
        },
        {
         "hoverinfo": "text",
         "marker": {
          "color": "green",
          "size": 0.5
         },
         "mode": "markers",
         "text": "Spark appears with Linux 129 times",
         "type": "scatter",
         "x": [
          -0.8853075541878406
         ],
         "y": [
          -0.16195843447608327
         ]
        },
        {
         "hoverinfo": "text",
         "marker": {
          "color": "blue",
          "size": 0.5
         },
         "mode": "markers",
         "text": "Linux appears with Spark 129 times",
         "type": "scatter",
         "x": [
          0.8790427623547551
         ],
         "y": [
          -0.1930901912364309
         ]
        },
        {
         "hoverinfo": "text",
         "marker": {
          "color": "green",
          "size": 0.5
         },
         "mode": "markers",
         "text": "Spark appears with AWS 104 times",
         "type": "scatter",
         "x": [
          -0.8880338016858831
         ],
         "y": [
          -0.14627360343998405
         ]
        },
        {
         "hoverinfo": "text",
         "marker": {
          "color": "blue",
          "size": 0.5
         },
         "mode": "markers",
         "text": "AWS appears with Spark 104 times",
         "type": "scatter",
         "x": [
          0.8984668615306663
         ],
         "y": [
          -0.052509986966618495
         ]
        },
        {
         "hoverinfo": "text",
         "marker": {
          "color": "green",
          "size": 0.5
         },
         "mode": "markers",
         "text": "Informatica appears with Qlik 102 times",
         "type": "scatter",
         "x": [
          -0.827904575102348
         ],
         "y": [
          -0.3529504420235233
         ]
        },
        {
         "hoverinfo": "text",
         "marker": {
          "color": "blue",
          "size": 0.5
         },
         "mode": "markers",
         "text": "Qlik appears with Informatica 102 times",
         "type": "scatter",
         "x": [
          -0.7631315217297543
         ],
         "y": [
          -0.4771061522789552
         ]
        },
        {
         "hoverinfo": "text",
         "marker": {
          "color": "green",
          "size": 0.5
         },
         "mode": "markers",
         "text": "Informatica appears with Tableau 85 times",
         "type": "scatter",
         "x": [
          -0.8324379531514746
         ],
         "y": [
          -0.3421214026526015
         ]
        },
        {
         "hoverinfo": "text",
         "marker": {
          "color": "blue",
          "size": 0.5
         },
         "mode": "markers",
         "text": "Tableau appears with Informatica 85 times",
         "type": "scatter",
         "x": [
          -0.5308696951153486
         ],
         "y": [
          -0.7267581212536512
         ]
        },
        {
         "hoverinfo": "text",
         "marker": {
          "color": "green",
          "size": 0.5
         },
         "mode": "markers",
         "text": "Informatica appears with Microstrategy 28 times",
         "type": "scatter",
         "x": [
          -0.8474068022361761
         ],
         "y": [
          -0.30315295070946985
         ]
        },
        {
         "hoverinfo": "text",
         "marker": {
          "color": "blue",
          "size": 0.5
         },
         "mode": "markers",
         "text": "Microstrategy appears with Informatica 28 times",
         "type": "scatter",
         "x": [
          -0.11102743536495309
         ],
         "y": [
          -0.8931253599558582
         ]
        },
        {
         "hoverinfo": "text",
         "marker": {
          "color": "green",
          "size": 0.5
         },
         "mode": "markers",
         "text": "Informatica appears with Oracle BI 147 times",
         "type": "scatter",
         "x": [
          -0.8150136969853358
         ],
         "y": [
          -0.38177568509046683
         ]
        },
        {
         "hoverinfo": "text",
         "marker": {
          "color": "blue",
          "size": 0.5
         },
         "mode": "markers",
         "text": "Oracle BI appears with Informatica 147 times",
         "type": "scatter",
         "x": [
          0.07024674562459159
         ],
         "y": [
          -0.8972543645640036
         ]
        },
        {
         "hoverinfo": "text",
         "marker": {
          "color": "green",
          "size": 0.5
         },
         "mode": "markers",
         "text": "Informatica appears with Python 34 times",
         "type": "scatter",
         "x": [
          -0.8460878051445881
         ],
         "y": [
          -0.3068149702762456
         ]
        },
        {
         "hoverinfo": "text",
         "marker": {
          "color": "blue",
          "size": 0.5
         },
         "mode": "markers",
         "text": "Python appears with Informatica 34 times",
         "type": "scatter",
         "x": [
          0.5344006440668271
         ],
         "y": [
          -0.7241656934852413
         ]
        },
        {
         "hoverinfo": "text",
         "marker": {
          "color": "green",
          "size": 0.5
         },
         "mode": "markers",
         "text": "Informatica appears with VBA 6 times",
         "type": "scatter",
         "x": [
          -0.8534850640036007
         ],
         "y": [
          -0.28559279669272064
         ]
        },
        {
         "hoverinfo": "text",
         "marker": {
          "color": "blue",
          "size": 0.5
         },
         "mode": "markers",
         "text": "VBA appears with Informatica 6 times",
         "type": "scatter",
         "x": [
          0.8047643900927258
         ],
         "y": [
          -0.4029320990423611
         ]
        },
        {
         "hoverinfo": "text",
         "marker": {
          "color": "green",
          "size": 0.5
         },
         "mode": "markers",
         "text": "Informatica appears with Linux 15 times",
         "type": "scatter",
         "x": [
          -0.8526246021141064
         ],
         "y": [
          -0.28815150159206504
         ]
        },
        {
         "hoverinfo": "text",
         "marker": {
          "color": "blue",
          "size": 0.5
         },
         "mode": "markers",
         "text": "Linux appears with Informatica 15 times",
         "type": "scatter",
         "x": [
          0.8601283471227263
         ],
         "y": [
          -0.26491362078218395
         ]
        },
        {
         "hoverinfo": "text",
         "marker": {
          "color": "green",
          "size": 0.5
         },
         "mode": "markers",
         "text": "Informatica appears with AWS 25 times",
         "type": "scatter",
         "x": [
          -0.8496458416331248
         ],
         "y": [
          -0.29681971598183793
         ]
        },
        {
         "hoverinfo": "text",
         "marker": {
          "color": "blue",
          "size": 0.5
         },
         "mode": "markers",
         "text": "AWS appears with Informatica 25 times",
         "type": "scatter",
         "x": [
          0.8939702683196612
         ],
         "y": [
          -0.10400557369907193
         ]
        },
        {
         "hoverinfo": "text",
         "marker": {
          "color": "green",
          "size": 0.5
         },
         "mode": "markers",
         "text": "Qlik appears with Tableau 409 times",
         "type": "scatter",
         "x": [
          -0.7127966207454683
         ],
         "y": [
          -0.5494733637346226
         ]
        },
        {
         "hoverinfo": "text",
         "marker": {
          "color": "blue",
          "size": 0.5
         },
         "mode": "markers",
         "text": "Tableau appears with Qlik 409 times",
         "type": "scatter",
         "x": [
          -0.3433158285064571
         ],
         "y": [
          -0.8319460570835858
         ]
        },
        {
         "hoverinfo": "text",
         "marker": {
          "color": "green",
          "size": 0.5
         },
         "mode": "markers",
         "text": "Qlik appears with Microstrategy 53 times",
         "type": "scatter",
         "x": [
          -0.7854227043474827
         ],
         "y": [
          -0.4394441665279979
         ]
        },
        {
         "hoverinfo": "text",
         "marker": {
          "color": "blue",
          "size": 0.5
         },
         "mode": "markers",
         "text": "Microstrategy appears with Qlik 53 times",
         "type": "scatter",
         "x": [
          -0.0986441599164976
         ],
         "y": [
          -0.8945777382175171
         ]
        },
        {
         "hoverinfo": "text",
         "marker": {
          "color": "green",
          "size": 0.5
         },
         "mode": "markers",
         "text": "Qlik appears with Oracle BI 428 times",
         "type": "scatter",
         "x": [
          -0.6743749251445523
         ],
         "y": [
          -0.5960020640369288
         ]
        },
        {
         "hoverinfo": "text",
         "marker": {
          "color": "blue",
          "size": 0.5
         },
         "mode": "markers",
         "text": "Oracle BI appears with Qlik 428 times",
         "type": "scatter",
         "x": [
          0.2981763944058738
         ],
         "y": [
          -0.8491706764950806
         ]
        },
        {
         "hoverinfo": "text",
         "marker": {
          "color": "green",
          "size": 0.5
         },
         "mode": "markers",
         "text": "Qlik appears with Python 60 times",
         "type": "scatter",
         "x": [
          -0.7814121140534277
         ],
         "y": [
          -0.4465367935686296
         ]
        },
        {
         "hoverinfo": "text",
         "marker": {
          "color": "blue",
          "size": 0.5
         },
         "mode": "markers",
         "text": "Python appears with Qlik 60 times",
         "type": "scatter",
         "x": [
          0.5491377249524797
         ],
         "y": [
          -0.7130552286001519
         ]
        },
        {
         "hoverinfo": "text",
         "marker": {
          "color": "green",
          "size": 0.5
         },
         "mode": "markers",
         "text": "Qlik appears with VBA 31 times",
         "type": "scatter",
         "x": [
          -0.7909224253142095
         ],
         "y": [
          -0.42946678234188107
         ]
        },
        {
         "hoverinfo": "text",
         "marker": {
          "color": "blue",
          "size": 0.5
         },
         "mode": "markers",
         "text": "VBA appears with Qlik 31 times",
         "type": "scatter",
         "x": [
          0.8097955288584752
         ],
         "y": [
          -0.3927228048392689
         ]
        },
        {
         "hoverinfo": "text",
         "marker": {
          "color": "green",
          "size": 0.5
         },
         "mode": "markers",
         "text": "Qlik appears with Linux 3 times",
         "type": "scatter",
         "x": [
          -0.798302399314262
         ],
         "y": [
          -0.4155878718743999
         ]
        },
        {
         "hoverinfo": "text",
         "marker": {
          "color": "blue",
          "size": 0.5
         },
         "mode": "markers",
         "text": "Linux appears with Qlik 3 times",
         "type": "scatter",
         "x": [
          0.8578227059631425
         ],
         "y": [
          -0.27228699038711374
         ]
        },
        {
         "hoverinfo": "text",
         "marker": {
          "color": "green",
          "size": 0.5
         },
         "mode": "markers",
         "text": "Qlik appears with AWS 5 times",
         "type": "scatter",
         "x": [
          -0.7980358653332292
         ],
         "y": [
          -0.4160994564306039
         ]
        },
        {
         "hoverinfo": "text",
         "marker": {
          "color": "blue",
          "size": 0.5
         },
         "mode": "markers",
         "text": "AWS appears with Qlik 5 times",
         "type": "scatter",
         "x": [
          0.892355420332368
         ],
         "y": [
          -0.1170547043200012
         ]
        },
        {
         "hoverinfo": "text",
         "marker": {
          "color": "green",
          "size": 0.5
         },
         "mode": "markers",
         "text": "Tableau appears with Microstrategy 76 times",
         "type": "scatter",
         "x": [
          -0.5496352920529995
         ],
         "y": [
          -0.7126717657728653
         ]
        },
        {
         "hoverinfo": "text",
         "marker": {
          "color": "blue",
          "size": 0.5
         },
         "mode": "markers",
         "text": "Microstrategy appears with Tableau 76 times",
         "type": "scatter",
         "x": [
          -0.08654342669179195
         ],
         "y": [
          -0.8958293561256198
         ]
        },
        {
         "hoverinfo": "text",
         "marker": {
          "color": "green",
          "size": 0.5
         },
         "mode": "markers",
         "text": "Tableau appears with Oracle BI 561 times",
         "type": "scatter",
         "x": [
          -0.2759222375137197
         ],
         "y": [
          -0.8566603287449597
         ]
        },
        {
         "hoverinfo": "text",
         "marker": {
          "color": "blue",
          "size": 0.5
         },
         "mode": "markers",
         "text": "Oracle BI appears with Tableau 561 times",
         "type": "scatter",
         "x": [
          0.3668905952482497
         ],
         "y": [
          -0.8218219339482155
         ]
        },
        {
         "hoverinfo": "text",
         "marker": {
          "color": "green",
          "size": 0.5
         },
         "mode": "markers",
         "text": "Tableau appears with Python 209 times",
         "type": "scatter",
         "x": [
          -0.45348145370279147
         ],
         "y": [
          -0.7774024512101844
         ]
        },
        {
         "hoverinfo": "text",
         "marker": {
          "color": "blue",
          "size": 0.5
         },
         "mode": "markers",
         "text": "Python appears with Tableau 209 times",
         "type": "scatter",
         "x": [
          0.6518429757350142
         ],
         "y": [
          -0.6205648515545509
         ]
        },
        {
         "hoverinfo": "text",
         "marker": {
          "color": "green",
          "size": 0.5
         },
         "mode": "markers",
         "text": "Tableau appears with VBA 96 times",
         "type": "scatter",
         "x": [
          -0.508938599188999
         ],
         "y": [
          -0.7422812824364761
         ]
        },
        {
         "hoverinfo": "text",
         "marker": {
          "color": "blue",
          "size": 0.5
         },
         "mode": "markers",
         "text": "VBA appears with Tableau 96 times",
         "type": "scatter",
         "x": [
          0.8216639986875752
         ],
         "y": [
          -0.367244160281337
         ]
        },
        {
         "hoverinfo": "text",
         "marker": {
          "color": "green",
          "size": 0.5
         },
         "mode": "markers",
         "text": "Tableau appears with Linux 34 times",
         "type": "scatter",
         "x": [
          -0.5736926259790088
         ],
         "y": [
          -0.6934527892346452
         ]
        },
        {
         "hoverinfo": "text",
         "marker": {
          "color": "blue",
          "size": 0.5
         },
         "mode": "markers",
         "text": "Linux appears with Tableau 34 times",
         "type": "scatter",
         "x": [
          0.8620938006009113
         ],
         "y": [
          -0.25844589175584914
         ]
        },
        {
         "hoverinfo": "text",
         "marker": {
          "color": "green",
          "size": 0.5
         },
         "mode": "markers",
         "text": "Tableau appears with AWS 38 times",
         "type": "scatter",
         "x": [
          -0.5695761330205691
         ],
         "y": [
          -0.6968378783428287
         ]
        },
        {
         "hoverinfo": "text",
         "marker": {
          "color": "blue",
          "size": 0.5
         },
         "mode": "markers",
         "text": "AWS appears with Tableau 38 times",
         "type": "scatter",
         "x": [
          0.8943975719656305
         ],
         "y": [
          -0.10026456633320045
         ]
        },
        {
         "hoverinfo": "text",
         "marker": {
          "color": "green",
          "size": 0.5
         },
         "mode": "markers",
         "text": "Microstrategy appears with Oracle BI 76 times",
         "type": "scatter",
         "x": [
          -0.07890315747683113
         ],
         "y": [
          -0.8965346015297939
         ]
        },
        {
         "hoverinfo": "text",
         "marker": {
          "color": "blue",
          "size": 0.5
         },
         "mode": "markers",
         "text": "Oracle BI appears with Microstrategy 76 times",
         "type": "scatter",
         "x": [
          -0.015327380115522878
         ],
         "y": [
          -0.8998694746566273
         ]
        },
        {
         "hoverinfo": "text",
         "marker": {
          "color": "green",
          "size": 0.5
         },
         "mode": "markers",
         "text": "Microstrategy appears with Python 20 times",
         "type": "scatter",
         "x": [
          -0.12073874925015668
         ],
         "y": [
          -0.8918644260365517
         ]
        },
        {
         "hoverinfo": "text",
         "marker": {
          "color": "blue",
          "size": 0.5
         },
         "mode": "markers",
         "text": "Python appears with Microstrategy 20 times",
         "type": "scatter",
         "x": [
          0.5312132476231901
         ],
         "y": [
          -0.7265070443909153
         ]
        },
        {
         "hoverinfo": "text",
         "marker": {
          "color": "green",
          "size": 0.5
         },
         "mode": "markers",
         "text": "Microstrategy appears with VBA 7 times",
         "type": "scatter",
         "x": [
          -0.12498927046324683
         ],
         "y": [
          -0.8912786782309253
         ]
        },
        {
         "hoverinfo": "text",
         "marker": {
          "color": "blue",
          "size": 0.5
         },
         "mode": "markers",
         "text": "VBA appears with Microstrategy 7 times",
         "type": "scatter",
         "x": [
          0.8054669779097459
         ],
         "y": [
          -0.4015257743868269
         ]
        },
        {
         "hoverinfo": "text",
         "marker": {
          "color": "green",
          "size": 0.5
         },
         "mode": "markers",
         "text": "Microstrategy appears with Linux 14 times",
         "type": "scatter",
         "x": [
          -0.12243929245115863
         ],
         "y": [
          -0.8916325586608307
         ]
        },
        {
         "hoverinfo": "text",
         "marker": {
          "color": "blue",
          "size": 0.5
         },
         "mode": "markers",
         "text": "Linux appears with Microstrategy 14 times",
         "type": "scatter",
         "x": [
          0.8595769514216292
         ],
         "y": [
          -0.2666973276669606
         ]
        },
        {
         "hoverinfo": "text",
         "marker": {
          "color": "green",
          "size": 0.5
         },
         "mode": "markers",
         "text": "Microstrategy appears with AWS 2 times",
         "type": "scatter",
         "x": [
          -0.12573907030015047
         ],
         "y": [
          -0.8911732077436203
         ]
        },
        {
         "hoverinfo": "text",
         "marker": {
          "color": "blue",
          "size": 0.5
         },
         "mode": "markers",
         "text": "AWS appears with Microstrategy 2 times",
         "type": "scatter",
         "x": [
          0.8921755919792363
         ],
         "y": [
          -0.11841753703104646
         ]
        },
        {
         "hoverinfo": "text",
         "marker": {
          "color": "green",
          "size": 0.5
         },
         "mode": "markers",
         "text": "Oracle BI appears with Python 234 times",
         "type": "scatter",
         "x": [
          0.15945682143113568
         ],
         "y": [
          -0.8857615492326809
         ]
        },
        {
         "hoverinfo": "text",
         "marker": {
          "color": "blue",
          "size": 0.5
         },
         "mode": "markers",
         "text": "Python appears with Oracle BI 234 times",
         "type": "scatter",
         "x": [
          0.6959228369952065
         ],
         "y": [
          -0.5706937926318659
         ]
        },
        {
         "hoverinfo": "text",
         "marker": {
          "color": "green",
          "size": 0.5
         },
         "mode": "markers",
         "text": "Oracle BI appears with VBA 96 times",
         "type": "scatter",
         "x": [
          0.035526876427091604
         ],
         "y": [
          -0.8992985272151479
         ]
        },
        {
         "hoverinfo": "text",
         "marker": {
          "color": "blue",
          "size": 0.5
         },
         "mode": "markers",
         "text": "VBA appears with Oracle BI 96 times",
         "type": "scatter",
         "x": [
          0.8265164732965559
         ],
         "y": [
          -0.3561888815915282
         ]
        },
        {
         "hoverinfo": "text",
         "marker": {
          "color": "green",
          "size": 0.5
         },
         "mode": "markers",
         "text": "Oracle BI appears with Linux 13 times",
         "type": "scatter",
         "x": [
          -0.04590153677610057
         ],
         "y": [
          -0.8988287094444594
         ]
        },
        {
         "hoverinfo": "text",
         "marker": {
          "color": "blue",
          "size": 0.5
         },
         "mode": "markers",
         "text": "Linux appears with Oracle BI 13 times",
         "type": "scatter",
         "x": [
          0.8585210427862874
         ],
         "y": [
          -0.27007706139756815
         ]
        },
        {
         "hoverinfo": "text",
         "marker": {
          "color": "green",
          "size": 0.5
         },
         "mode": "markers",
         "text": "Oracle BI appears with AWS 63 times",
         "type": "scatter",
         "x": [
          -0.025721865314411986
         ],
         "y": [
          -0.8996323613814408
         ]
        },
        {
         "hoverinfo": "text",
         "marker": {
          "color": "blue",
          "size": 0.5
         },
         "mode": "markers",
         "text": "AWS appears with Oracle BI 63 times",
         "type": "scatter",
         "x": [
          0.8961349107375959
         ],
         "y": [
          -0.08331999614330858
         ]
        },
        {
         "hoverinfo": "text",
         "marker": {
          "color": "green",
          "size": 0.5
         },
         "mode": "markers",
         "text": "Python appears with VBA 76 times",
         "type": "scatter",
         "x": [
          0.5569955188631293
         ],
         "y": [
          -0.7069342203956416
         ]
        },
        {
         "hoverinfo": "text",
         "marker": {
          "color": "blue",
          "size": 0.5
         },
         "mode": "markers",
         "text": "VBA appears with Python 76 times",
         "type": "scatter",
         "x": [
          0.8171914007901304
         ],
         "y": [
          -0.37709178521238623
         ]
        },
        {
         "hoverinfo": "text",
         "marker": {
          "color": "green",
          "size": 0.5
         },
         "mode": "markers",
         "text": "Python appears with Linux 159 times",
         "type": "scatter",
         "x": [
          0.6329695728221256
         ],
         "y": [
          -0.6398042824812724
         ]
        },
        {
         "hoverinfo": "text",
         "marker": {
          "color": "blue",
          "size": 0.5
         },
         "mode": "markers",
         "text": "Linux appears with Python 159 times",
         "type": "scatter",
         "x": [
          0.886272678836434
         ],
         "y": [
          -0.15659099191234185
         ]
        },
        {
         "hoverinfo": "text",
         "marker": {
          "color": "green",
          "size": 0.5
         },
         "mode": "markers",
         "text": "Python appears with AWS 151 times",
         "type": "scatter",
         "x": [
          0.616629607712211
         ],
         "y": [
          -0.6555668744626171
         ]
        },
        {
         "hoverinfo": "text",
         "marker": {
          "color": "blue",
          "size": 0.5
         },
         "mode": "markers",
         "text": "AWS appears with Python 151 times",
         "type": "scatter",
         "x": [
          0.8992272055637802
         ],
         "y": [
          -0.03728850726369913
         ]
        },
        {
         "hoverinfo": "text",
         "marker": {
          "color": "green",
          "size": 0.5
         },
         "mode": "markers",
         "text": "VBA appears with Linux 5 times",
         "type": "scatter",
         "x": [
          0.8044544734540898
         ],
         "y": [
          -0.40355049267681886
         ]
        },
        {
         "hoverinfo": "text",
         "marker": {
          "color": "blue",
          "size": 0.5
         },
         "mode": "markers",
         "text": "Linux appears with VBA 5 times",
         "type": "scatter",
         "x": [
          0.857978383694326
         ],
         "y": [
          -0.2717960505843893
         ]
        },
        {
         "hoverinfo": "text",
         "marker": {
          "color": "green",
          "size": 0.5
         },
         "mode": "markers",
         "text": "VBA appears with AWS 5 times",
         "type": "scatter",
         "x": [
          0.8041723187013466
         ],
         "y": [
          -0.4041124618648872
         ]
        },
        {
         "hoverinfo": "text",
         "marker": {
          "color": "blue",
          "size": 0.5
         },
         "mode": "markers",
         "text": "AWS appears with VBA 5 times",
         "type": "scatter",
         "x": [
          0.8922774898624144
         ],
         "y": [
          -0.11764727402209109
         ]
        },
        {
         "hoverinfo": "text",
         "marker": {
          "color": "green",
          "size": 0.5
         },
         "mode": "markers",
         "text": "Linux appears with AWS 50 times",
         "type": "scatter",
         "x": [
          0.866473136861029
         ],
         "y": [
          -0.2433604386464827
         ]
        },
        {
         "hoverinfo": "text",
         "marker": {
          "color": "blue",
          "size": 0.5
         },
         "mode": "markers",
         "text": "AWS appears with Linux 50 times",
         "type": "scatter",
         "x": [
          0.8954844432302674
         ],
         "y": [
          -0.09004227858388557
         ]
        }
       ],
       "layout": {
        "autosize": false,
        "font": {
         "color": "#655643",
         "family": "Fira Sans Condensed",
         "size": 12
        },
        "height": 540,
        "hidesources": true,
        "hoverdistance": 40,
        "hovermode": "closest",
        "margin": {
         "b": 10,
         "l": 280,
         "r": 280,
         "t": 80
        },
        "paper_bgcolor": "#fffaf0",
        "plot_bgcolor": "#fffaf0",
        "shapes": [
         {
          "fillcolor": "#f2e6ce",
          "layer": "below",
          "line": {
           "color": "rgb(175,175,175)",
           "width": 0.5
          },
          "path": "M 0.9676788023521121,0.2521859145122539 Q 0.18036235742596224, 0.08642580646860894 0.8028320563129105, 0.596205240966887L 0.8028320563129105, 0.596205240966887 L 0.8176223546551553, 0.5757548828869447 L 0.8318918520283902, 0.5549377861785724 M 0.8318918520283902,0.5549377861785724 Q 0.18049699970063382, 0.08614425749328507 0.9546556005848993, 0.2977124187397717L 0.9546556005848993, 0.2977124187397717 L 0.9614367138951964, 0.27502626269941266 L 0.9676788023521121, 0.2521859145122539 ",
          "type": "path"
         },
         {
          "fillcolor": "#f2e6ce",
          "layer": "below",
          "line": {
           "color": "rgb(175,175,175)",
           "width": 0.5
          },
          "path": "M 0.9946430768523588,0.10336899762343088 Q 0.14279911644468227, 0.14003004085773194 0.12282367997592172, 0.9924285080735903L 0.12282367997592172, 0.9924285080735903 L 0.13845641400175418, 0.9903685280852652 L 0.15405472417833582, 0.9880623168395488 M 0.15405472417833582,0.9880623168395488 Q 0.14288503977307548, 0.13994236459716777 0.9910537927018895, 0.1334630284805504L 0.9910537927018895, 0.1334630284805504 L 0.9929624500013545, 0.1184296115306785 L 0.9946430768523588, 0.10336899762343088 ",
          "type": "path"
         },
         {
          "fillcolor": "#f2e6ce",
          "layer": "below",
          "line": {
           "color": "rgb(175,175,175)",
           "width": 0.5
          },
          "path": "M 0.997118773782788,0.07585612018755854 Q 0.10309608351912825, 0.17138027180226123 -0.4001961468407746, 0.9164295085023164L -0.4001961468407746, 0.9164295085023164 L -0.3873072154654627, 0.9219507149779698 L -0.374342136287419, 0.9272906583158117 M -0.374342136287419,0.9272906583158117 Q 0.10313196205948182, 0.17135868347347213 0.9946430768523588, 0.10336899762343088L 0.9946430768523588, 0.10336899762343088 L 0.9959759319469454, 0.08962110790663991 L 0.997118773782788, 0.07585612018755854 ",
          "type": "path"
         },
         {
          "fillcolor": "#f2e6ce",
          "layer": "below",
          "line": {
           "color": "rgb(175,175,175)",
           "width": 0.5
          },
          "path": "M 1.0,0.0 Q 0.08047956226307718, 0.18309298200079513 -0.6761520028971741, 0.736762152243273L -0.6761520028971741, 0.736762152243273 L -0.6758852672822369, 0.7370068557827798 L -0.6756184431076007, 0.7372514627539655 M -0.6756184431076007,0.7372514627539655 Q 0.08047358164038595, 0.18309561070098906 0.9999996885159222, 0.0007892832562452895L 0.9999996885159222, 0.0007892832562452895 L 0.9999999221289775, 0.00039464165885379427 L 1.0, 0.0 ",
          "type": "path"
         },
         {
          "fillcolor": "#f2e6ce",
          "layer": "below",
          "line": {
           "color": "rgb(175,175,175)",
           "width": 0.5
          },
          "path": "M 0.9990163574793024,0.04434317860490697 Q 0.0502436280531596, 0.193586099294489 -0.8513542806132368, 0.5245911635564575L -0.8513542806132368, 0.5245911635564575 L -0.8481320442707735, 0.5297848954821934 L -0.8448781237011538, 0.5349588358847976 M -0.8448781237011538,0.5349588358847976 Q 0.050219770566713645, 0.19359228973341538 0.9983857009707863, 0.05679781771399012L 0.9983857009707863, 0.05679781771399012 L 0.9987204440102332, 0.05057148125181546 L 0.9990163574793024, 0.04434317860490697 ",
          "type": "path"
         },
         {
          "fillcolor": "#f2e6ce",
          "layer": "below",
          "line": {
           "color": "rgb(175,175,175)",
           "width": 0.5
          },
          "path": "M 0.9999971966444641,0.002367847801942837 Q 0.0352521139667819, 0.19686870868899664 -0.9370401461716695, 0.3492216552027898L -0.9370401461716695, 0.3492216552027898 L -0.9368257032019449, 0.34979651487712315 L -0.936610907564716, 0.35037124287075705 M -0.936610907564716,0.35037124287075705 Q 0.03520197884696149, 0.19687767949988155 0.999991577481922, 0.004104261835835458L 0.999991577481922, 0.004104261835835458 L 0.9999947639569496, 0.0032360560385448506 L 0.9999971966444641, 0.002367847801942837 ",
          "type": "path"
         },
         {
          "fillcolor": "#f2e6ce",
          "layer": "below",
          "line": {
           "color": "rgb(175,175,175)",
           "width": 0.5
          },
          "path": "M 0.999991577481922,0.004104261835835458 Q 0.026602192487648408, 0.19822291329422567 -0.963525920937951, 0.26761502140327126L -0.963525920937951, 0.26761502140327126 L -0.9633074617927376, 0.26840032424427757 L -0.9630883626020119, 0.2691854487534117 M -0.9630883626020119,0.2691854487534117 Q 0.026560377633314727, 0.19822852050089998 0.9999810493675773, 0.006156371148584149L 0.9999810493675773, 0.006156371148584149 L 0.9999868398258946, 0.005130319192851242 L 0.999991577481922, 0.004104261835835458 ",
          "type": "path"
         },
         {
          "fillcolor": "#f2e6ce",
          "layer": "below",
          "line": {
           "color": "rgb(175,175,175)",
           "width": 0.5
          },
          "path": "M 0.9996649116680408,0.02588560178416068 Q 0.010782360391773075, 0.19970914026248754 -0.991066874932205, 0.13336584799757822L -0.991066874932205, 0.13336584799757822 L -0.9905022179010611, 0.1374967502637024 L -0.9899203427805833, 0.14162526239754133 M -0.9899203427805833,0.14162526239754133 Q 0.010748062201678595, 0.19971098907899099 0.99940249596608, 0.03456372457894849L 0.99940249596608, 0.03456372457894849 L 0.9995431218912276, 0.030224947972471022 L 0.9996649116680408, 0.02588560178416068 ",
          "type": "path"
         },
         {
          "fillcolor": "#f2e6ce",
          "layer": "below",
          "line": {
           "color": "rgb(175,175,175)",
           "width": 0.5
          },
          "path": "M 0.99940249596608,0.03456372457894849 Q -0.015620997953160338, 0.1993890278399174 -0.9925917120365532, -0.12149770860532433L -0.9925917120365532, -0.12149770860532433 L -0.9931526009463868, -0.11682427501776788 L -0.9936914859864368, -0.11214825312089001 M -0.9936914859864368,-0.11214825312089001 Q -0.015658199915700815, 0.19938610978551127 0.9990163574793024, 0.04434317860490697L 0.9990163574793024, 0.04434317860490697 L 0.9992213908247515, 0.0394539239905149 L 0.99940249596608, 0.03456372457894849 ",
          "type": "path"
         },
         {
          "fillcolor": "#f2e6ce",
          "layer": "below",
          "line": {
           "color": "rgb(175,175,175)",
           "width": 0.5
          },
          "path": "M 0.9999650018513478,0.008366305781763056 Q -0.03481851748814617, 0.1969458576358682 -0.942219205008714, -0.3349969697068122L -0.942219205008714, -0.3349969697068122 L -0.9428484605535326, -0.33322181866113426 L -0.9434743716981598, -0.33144548563642034 M -0.9434743716981598,-0.33144548563642034 Q -0.03486729671647122, 0.19693722761246935 0.9999202611316792, 0.012628197747681716L 0.9999202611316792, 0.012628197747681716 L 0.9999449020845874, 0.010497275601076992 L 0.9999650018513478, 0.008366305781763056 ",
          "type": "path"
         },
         {
          "fillcolor": "#f2e6ce",
          "layer": "below",
          "line": {
           "color": "rgb(175,175,175)",
           "width": 0.5
          },
          "path": "M 0.9910537927018895,0.1334630284805504 Q -0.07398146403137443, 0.18581373194620052 -0.8115734769427446, -0.5842503671569786L -0.8115734769427446, -0.5842503671569786 L -0.8225658604824347, -0.5686698560402088 L -0.8332591715597107, -0.5528825851947451 M -0.8332591715597107,-0.5528825851947451 Q -0.07392883011496622, 0.18583467942725995 0.9853414291547833, 0.17059386856276273L 0.9853414291547833, 0.17059386856276273 L 0.9883719912390144, 0.15205527591710047 L 0.9910537927018895, 0.1334630284805504 ",
          "type": "path"
         },
         {
          "fillcolor": "#f2e6ce",
          "layer": "below",
          "line": {
           "color": "rgb(175,175,175)",
           "width": 0.5
          },
          "path": "M 0.9777112600992695,0.2099540232410387 Q -0.12554916759126683, 0.15568367453634951 -0.4123356056151688, -0.9110320237741217L -0.4123356056151688, -0.9110320237741217 L -0.43283394088264393, -0.9014736710631098 L -0.4531108626073006, -0.8914541750349638 M -0.4531108626073006,-0.8914541750349638 Q -0.12540705000249341, 0.15579817652871333 0.9676788023521121, 0.2521859145122539L 0.9676788023521121, 0.2521859145122539 L 0.9729242041039136, 0.2311244103697539 L 0.9777112600992695, 0.2099540232410387 ",
          "type": "path"
         },
         {
          "fillcolor": "#f2e6ce",
          "layer": "below",
          "line": {
           "color": "rgb(175,175,175)",
           "width": 0.5
          },
          "path": "M 0.9999202611316792,0.012628197747681716 Q -0.13379748403014266, 0.1486547451889906 -0.1174618074266697, -0.993077400707548L -0.1174618074266697, -0.993077400707548 L -0.11963379537212324, -0.9928180875693497 L -0.12180521089679083, -0.9925540240200471 M -0.12180521089679083,-0.9925540240200471 Q -0.13392985134715757, 0.14853550053144965 0.9998235681380859, 0.018783838681863833L 0.9998235681380859, 0.018783838681863833 L 0.9998766517198276, 0.015706092625046075 L 0.9999202611316792, 0.012628197747681716 ",
          "type": "path"
         },
         {
          "fillcolor": "#f2e6ce",
          "layer": "below",
          "line": {
           "color": "rgb(175,175,175)",
           "width": 0.5
          },
          "path": "M 0.9853414291547833,0.17059386856276273 Q -0.16731550306586052, 0.10956971494814625 0.23749208464738186, -0.9713894737590277L 0.23749208464738186, -0.9713894737590277 L 0.21693435045371864, -0.9761861951457945 L 0.19627994402863533, -0.9805478996826804 M 0.19627994402863533,-0.9805478996826804 Q -0.16719898850934356, 0.10974742931591792 0.9777112600992695, 0.2099540232410387L 0.9777112600992695, 0.2099540232410387 L 0.9817236223301172, 0.19031218920246115 L 0.9853414291547833, 0.17059386856276273 ",
          "type": "path"
         },
         {
          "fillcolor": "#f2e6ce",
          "layer": "below",
          "line": {
           "color": "rgb(175,175,175)",
           "width": 0.5
          },
          "path": "M 0.9983857009707863,0.05679781771399012 Q -0.1844231448554941, 0.07738283815943585 0.658935236281379, -0.7521996772046656L 0.658935236281379, -0.7521996772046656 L 0.6514967817490717, -0.7586513977912401 L 0.6439951611480031, -0.7650295631006409 M 0.6439951611480031,-0.7650295631006409 Q -0.18440020823695094, 0.07743747931182379 0.997118773782788, 0.07585612018755854L 0.997118773782788, 0.07585612018755854 L 0.9977977409844533, 0.06632999386643951 L 0.9983857009707863, 0.05679781771399012 ",
          "type": "path"
         },
         {
          "fillcolor": "#f2e6ce",
          "layer": "below",
          "line": {
           "color": "rgb(175,175,175)",
           "width": 0.5
          },
          "path": "M 0.9998235681380859,0.018783838681863833 Q -0.19562994091606858, 0.04158035855034825 0.905752780963089, -0.4238064414064876L 0.905752780963089, -0.4238064414064876 L 0.9044158061402455, -0.426652141215405 L 0.9030698907067388, -0.42949362335070673 M 0.9030698907067388,-0.42949362335070673 Q -0.19564687492655294, 0.04150060639886791 0.9996649116680408, 0.02588560178416068L 0.9996649116680408, 0.02588560178416068 L 0.9997505458758921, 0.022334861111182196 L 0.9998235681380859, 0.018783838681863833 ",
          "type": "path"
         },
         {
          "fillcolor": "#f2e6ce",
          "layer": "below",
          "line": {
           "color": "rgb(175,175,175)",
           "width": 0.5
          },
          "path": "M 0.9999810493675773,0.006156371148584149 Q -0.19781811726666332, 0.029461712120524293 0.9547882626122082, -0.29728668584038725L 0.9547882626122082, -0.29728668584038725 L 0.9544900660854609, -0.29824270945686576 L 0.9541909122984084, -0.29919843396503787 M 0.9541909122984084,-0.29919843396503787 Q -0.19782116686396295, 0.029441228584760726 0.9999650018513478, 0.008366305781763056L 0.9999650018513478, 0.008366305781763056 L 0.9999736361021292, 0.007261342898287067 L 0.9999810493675773, 0.006156371148584149 ",
          "type": "path"
         },
         {
          "fillcolor": "#f2e6ce",
          "layer": "below",
          "line": {
           "color": "rgb(175,175,175)",
           "width": 0.5
          },
          "path": "M 0.9999996885159222,0.0007892832562452895 Q -0.1995906625848091, 0.012789347479714809 0.9917205830384146, -0.12841450532532148L 0.9917205830384146, -0.12841450532532148 L 0.9916350868400732, -0.12907305895375923 L 0.9915491533281977, -0.1297315556606577 M 0.9915491533281977,-0.1297315556606577 Q -0.1995922622870087, 0.012764358000069372 0.9999971966444641, 0.002367847801942837L 0.9999971966444641, 0.002367847801942837 L 0.9999987540638828, 0.0015785660207922447 L 0.9999996885159222, 0.0007892832562452895 ",
          "type": "path"
         },
         {
          "fillcolor": "#ecd5bb",
          "layer": "below",
          "line": {
           "color": "rgb(175,175,175)",
           "width": 0.5
          },
          "path": "M 0.575332105805891,0.8179199031867113 Q 0.04194532506277879, 0.19555201278784584 -0.18927074080186645, 0.9819249394308674L -0.18927074080186645, 0.9819249394308674 L -0.12952818039163683, 0.9915757411738306 L -0.06931124743695946, 0.9975950836781087 M -0.06931124743695946,0.9975950836781087 Q 0.041656374912149255, 0.1956137685061521 0.46974581159506, 0.8828017175384846L 0.46974581159506, 0.8828017175384846 L 0.5235450083977228, 0.8519980188837462 L 0.575332105805891, 0.8179199031867113 ",
          "type": "path"
         },
         {
          "fillcolor": "#ecd5bb",
          "layer": "below",
          "line": {
           "color": "rgb(175,175,175)",
           "width": 0.5
          },
          "path": "M 0.8584874615957577,0.512834552543871 Q 0.04967431318299558, 0.1937329672766039 -0.5058054645630345, 0.8626475711541607L -0.5058054645630345, 0.8626475711541607 L -0.48520579826830607, 0.8743999847477216 L -0.4643332204629429, 0.8856605785370104 M -0.4643332204629429,0.8856605785370104 Q 0.04944460668501941, 0.19379172033336134 0.8318918520283902, 0.5549377861785724L 0.8318918520283902, 0.5549377861785724 L 0.8454517884260083, 0.5340517516563953 L 0.8584874615957577, 0.512834552543871 ",
          "type": "path"
         },
         {
          "fillcolor": "#ecd5bb",
          "layer": "below",
          "line": {
           "color": "rgb(175,175,175)",
           "width": 0.5
          },
          "path": "M 0.9286710050661765,0.3709045218777706 Q 0.05067649586671646, 0.19347323527214474 -0.6275971537509115, 0.7785382537831745L -0.6275971537509115, 0.7785382537831745 L -0.623327300736984, 0.7819610451652599 L -0.6190387808496208, 0.7853604190460677 M -0.6190387808496208,0.7853604190460677 Q 0.05038422260386384, 0.1935495546690932 0.9234007289602714, 0.383837327204689L 0.9234007289602714, 0.383837327204689 L 0.9260584438135313, 0.3773801248630626 L 0.9286710050661765, 0.3709045218777706 ",
          "type": "path"
         },
         {
          "fillcolor": "#ecd5bb",
          "layer": "below",
          "line": {
           "color": "rgb(175,175,175)",
           "width": 0.5
          },
          "path": "M 0.8881128729247583,0.45962541808012775 Q 0.019689784443487984, 0.1990284210573178 -0.7808377367859354, 0.6247338863956543L -0.7808377367859354, 0.6247338863956543 L -0.773549048193697, 0.6337364357827514 L -0.7661565718473669, 0.6426539561965604 M -0.7661565718473669,0.6426539561965604 Q 0.01931607693796584, 0.1990650375423233 0.8754187285023862, 0.48336533780078333L 0.8754187285023862, 0.48336533780078333 L 0.8818456912947599, 0.4715380968117709 L 0.8881128729247583, 0.45962541808012775 ",
          "type": "path"
         },
         {
          "fillcolor": "#ecd5bb",
          "layer": "below",
          "line": {
           "color": "rgb(175,175,175)",
           "width": 0.5
          },
          "path": "M 0.8754187285023862,0.48336533780078333 Q -0.007541264067375298, 0.19985777276920236 -0.9093553805962926, 0.41602018193901574L -0.9093553805962926, 0.41602018193901574 L -0.9027428600931336, 0.4301805766778283 L -0.8959098516818659, 0.4442359031633722 M -0.8959098516818659,0.4442359031633722 Q -0.007814224194752436, 0.19984728644701222 0.8584874615957577, 0.512834552543871L 0.8584874615957577, 0.512834552543871 L 0.8670782996186439, 0.498171880308836 L 0.8754187285023862, 0.48336533780078333 ",
          "type": "path"
         },
         {
          "fillcolor": "#ecd5bb",
          "layer": "below",
          "line": {
           "color": "rgb(175,175,175)",
           "width": 0.5
          },
          "path": "M 0.9377939105926971,0.34719242684029894 Q -0.0026615809377655473, 0.19998228918309674 -0.946701732514763, 0.3221115174183408L -0.946701732514763, 0.3221115174183408 L -0.9454186806094668, 0.3258581261141958 L -0.9441208014204059, 0.32959962427965617 M -0.9441208014204059,0.32959962427965617 Q -0.0030641391683149215, 0.1999765262503507 0.9335793804918376, 0.3583706744705497L 0.9335793804918376, 0.3583706744705497 L 0.9357033381105154, 0.352787844247557 L 0.9377939105926971, 0.34719242684029894 ",
          "type": "path"
         },
         {
          "fillcolor": "#ecd5bb",
          "layer": "below",
          "line": {
           "color": "rgb(175,175,175)",
           "width": 0.5
          },
          "path": "M 0.9417048951984766,0.33644002490670794 Q -0.013869491123574934, 0.1995185134667284 -0.9791976289469821, 0.20290885506701817L -0.9791976289469821, 0.20290885506701817 L -0.978323584751012, 0.20708202123779212 L -0.9774317553472834, 0.2112514228087664 M -0.9774317553472834,0.2112514228087664 Q -0.014160196084055396, 0.1994980923389021 0.9377939105926971, 0.34719242684029894L 0.9377939105926971, 0.34719242684029894 L 0.93976478109123, 0.3418218194038417 L 0.9417048951984766, 0.33644002490670794 ",
          "type": "path"
         },
         {
          "fillcolor": "#ecd5bb",
          "layer": "below",
          "line": {
           "color": "rgb(175,175,175)",
           "width": 0.5
          },
          "path": "M 0.898101393159412,0.43978845778979164 Q -0.04007378857092526, 0.19594410292114633 -0.9986538010585576, 0.05187085531678495L -0.9986538010585576, 0.05187085531678495 L -0.9980847751972088, 0.06186098543942767 L -0.9974158146102995, 0.07184492163871149 M -0.9974158146102995,0.07184492163871149 Q -0.040289061354350786, 0.19589995287183037 0.8881128729247583, 0.45962541808012775L 0.8881128729247583, 0.45962541808012775 L 0.8931622066226508, 0.44973466917834704 L 0.898101393159412, 0.43978845778979164 ",
          "type": "path"
         },
         {
          "fillcolor": "#ecd5bb",
          "layer": "below",
          "line": {
           "color": "rgb(175,175,175)",
           "width": 0.5
          },
          "path": "M 0.9075762647475849,0.4198872749522445 Q -0.06328765586089202, 0.18972262020021047 -0.9779006841937976, -0.20906996879825332L -0.9779006841937976, -0.20906996879825332 L -0.9799315689978115, -0.19933419195282895 L -0.9818655289233316, -0.18957869899360083 M -0.9818655289233316,-0.18957869899360083 Q -0.06349168831255694, 0.1896544371092359 0.898101393159412, 0.43978845778979164L 0.898101393159412, 0.43978845778979164 L 0.9028936622524868, 0.42986397227994383 L 0.9075762647475849, 0.4198872749522445 ",
          "type": "path"
         },
         {
          "fillcolor": "#ecd5bb",
          "layer": "below",
          "line": {
           "color": "rgb(175,175,175)",
           "width": 0.5
          },
          "path": "M 0.9163409320712956,0.4003989213405915 Q -0.08153119561613893, 0.1826271177602135 -0.9098727736005201, -0.4148873773212396L -0.9098727736005201, -0.4148873773212396 L -0.9135124547558793, -0.40681076068104144 L -0.9170804443533563, -0.3987022179329461 M -0.9170804443533563,-0.3987022179329461 Q -0.08186446648528362, 0.18247796888139642 0.9075762647475849, 0.4198872749522445L 0.9075762647475849, 0.4198872749522445 L 0.9120106546496778, 0.41016650985357894 L 0.9163409320712956, 0.4003989213405915 ",
          "type": "path"
         },
         {
          "fillcolor": "#ecd5bb",
          "layer": "below",
          "line": {
           "color": "rgb(175,175,175)",
           "width": 0.5
          },
          "path": "M 0.7128492993771451,0.7013172437474451 Q -0.1445756230775424, 0.13819511283594796 -0.6684500099825471, -0.7437570733474289L -0.6684500099825471, -0.7437570733474289 L -0.6978722659731378, -0.7162222423141563 L -0.7261612918076589, -0.6875243837713919 M -0.7261612918076589,-0.6875243837713919 Q -0.1448541657262328, 0.13790312060195406 0.6510129054686543, 0.7590666617058485L 0.6510129054686543, 0.7590666617058485 L 0.682542143219263, 0.730846237405417 L 0.7128492993771451, 0.7013172437474451 ",
          "type": "path"
         },
         {
          "fillcolor": "#ecd5bb",
          "layer": "below",
          "line": {
           "color": "rgb(175,175,175)",
           "width": 0.5
          },
          "path": "M 0.6510129054686543,0.7590666617058485 Q -0.18092413732487506, 0.0852435131446948 -0.17085436293088446, -0.9852962938464154L -0.17085436293088446, -0.9852962938464154 L -0.21684097747887113, -0.97620694040045 L -0.26235110890175917, -0.9649724844046162 M -0.26235110890175917,-0.9649724844046162 Q -0.18101553442050794, 0.08504925807117845 0.575332105805891, 0.8179199031867113L 0.575332105805891, 0.8179199031867113 L 0.6138782026409574, 0.7894007552075863 L 0.6510129054686543, 0.7590666617058485 ",
          "type": "path"
         },
         {
          "fillcolor": "#ecd5bb",
          "layer": "below",
          "line": {
           "color": "rgb(175,175,175)",
           "width": 0.5
          },
          "path": "M 0.9448331626148926,0.3275519727053097 Q -0.1569098027097111, 0.12401336143174065 -0.10040137470608178, -0.9949470156531598L -0.10040137470608178, -0.9949470156531598 L -0.10352590451772642, -0.9946267576803807 L -0.10664941302026418, -0.9942966874642765 M -0.10664941302026418,-0.9942966874642765 Q -0.15710435563560368, 0.12376680265855527 0.9417048951984766, 0.33644002490670794L 0.9417048951984766, 0.33644002490670794 L 0.9432794974250969, 0.331999683339392 L 0.9448331626148926, 0.3275519727053097 ",
          "type": "path"
         },
         {
          "fillcolor": "#ecd5bb",
          "layer": "below",
          "line": {
           "color": "rgb(175,175,175)",
           "width": 0.5
          },
          "path": "M 0.46974581159506,0.8828017175384846 Q -0.199705807823932, -0.010843907109097953 0.5625733163779534, -0.82674740017705L 0.5625733163779534, -0.82674740017705 L 0.5072607371979713, -0.8617926342789028 L 0.4497732015948424, -0.8931428033226967 M 0.4497732015948424,-0.8931428033226967 Q -0.19969704217197606, -0.011004151387727012 0.34891611094733677, 0.9371539614819893L 0.34891611094733677, 0.9371539614819893 L 0.41023210193819165, 0.9119811525132376 L 0.46974581159506, 0.8828017175384846 ",
          "type": "path"
         },
         {
          "fillcolor": "#ecd5bb",
          "layer": "below",
          "line": {
           "color": "rgb(175,175,175)",
           "width": 0.5
          },
          "path": "M 0.7693676671806468,0.6388062246855533 Q -0.1990464323859467, -0.0195068642899558 0.878746702281943, -0.4772884172370101L 0.878746702281943, -0.4772884172370101 L 0.8585628609352848, -0.5127083126131455 L 0.8369521255127816, -0.5472761091073107 M 0.8369521255127816,-0.5472761091073107 Q -0.19901934120541975, -0.01978135046352294 0.7128492993771451, 0.7013172437474451L 0.7128492993771451, 0.7013172437474451 L 0.7417672754065014, 0.6706573708951654 L 0.7693676671806468, 0.6388062246855533 ",
          "type": "path"
         },
         {
          "fillcolor": "#ecd5bb",
          "layer": "below",
          "line": {
           "color": "rgb(175,175,175)",
           "width": 0.5
          },
          "path": "M 0.8028320563129105,0.596205240966887 Q -0.19775753255004483, -0.029865671258452645 0.9430916404185398, -0.33253294238716824L 0.9430916404185398, -0.33253294238716824 L 0.9353722935048123, -0.35366463287067196 L 0.9271795203830943, -0.3746173207183236 M 0.9271795203830943,-0.3746173207183236 Q -0.19761830993127644, -0.030773423272459785 0.7693676671806468, 0.6388062246855533L 0.7693676671806468, 0.6388062246855533 L 0.7863883923302493, 0.6177323825154757 L 0.8028320563129105, 0.596205240966887 ",
          "type": "path"
         },
         {
          "fillcolor": "#ecd5bb",
          "layer": "below",
          "line": {
           "color": "rgb(175,175,175)",
           "width": 0.5
          },
          "path": "M 0.9234007289602714,0.383837327204689 Q -0.19929065459358153, -0.016829586794148765 0.9746928828918391, -0.2235481693953133L 0.9746928828918391, -0.2235481693953133 L 0.9729533252397237, -0.2310017898306516 L 0.9711567695315114, -0.23844187759938226 M 0.9711567695315114,-0.23844187759938226 Q -0.19926778816321877, -0.017098204599856875 0.9163409320712956, 0.4003989213405915L 0.9163409320712956, 0.4003989213405915 L 0.9199081021677534, 0.39213401225361993 L 0.9234007289602714, 0.383837327204689 ",
          "type": "path"
         },
         {
          "fillcolor": "#ecd5bb",
          "layer": "below",
          "line": {
           "color": "rgb(175,175,175)",
           "width": 0.5
          },
          "path": "M 0.9335793804918376,0.3583706744705497 Q -0.19792106651193475, -0.028761978909287556 0.9969672092609831, -0.07782277082170133L 0.9969672092609831, -0.07782277082170133 L 0.9965396974750247, -0.0831181770516314 L 0.9960840592595009, -0.08841123734636354 M 0.9960840592595009,-0.08841123734636354 Q -0.19788009056797468, -0.02904255079723791 0.9286710050661765, 0.3709045218777706L 0.9286710050661765, 0.3709045218777706 L 0.931146282256687, 0.364645857016846 L 0.9335793804918376, 0.3583706744705497 ",
          "type": "path"
         },
         {
          "fillcolor": "#e6c4a9",
          "layer": "below",
          "line": {
           "color": "rgb(175,175,175)",
           "width": 0.5
          },
          "path": "M 0.04427993208015384,0.9990191627866689 Q -0.05303974721123938, 0.19283875444465987 -0.548955817538775, 0.8358513685999055L -0.548955817538775, 0.8358513685999055 L -0.5275508029309549, 0.8495234842703907 L -0.5058054645630345, 0.8626475711541607 M -0.5058054645630345,0.8626475711541607 Q -0.05316202709372417, 0.19280508000383742 -0.007772884373566077, 0.999969790677956L -0.007772884373566077, 0.999969790677956 L 0.018259711290425595, 0.9998332775736114 L 0.04427993208015384, 0.9990191627866689 ",
          "type": "path"
         },
         {
          "fillcolor": "#e6c4a9",
          "layer": "below",
          "line": {
           "color": "rgb(175,175,175)",
           "width": 0.5
          },
          "path": "M 0.29523721399841146,0.9554239830936087 Q -0.03657445426959238, 0.19662733608245192 -0.6190387808496208, 0.7853604190460677L -0.6190387808496208, 0.7853604190460677 L -0.6156153944773609, 0.788046753741479 L -0.6121803508314756, 0.7907181660085036 M -0.6121803508314756,0.7907181660085036 Q -0.03678457134304965, 0.19658813624201255 0.2848627702689655, 0.9585683085282397L 0.2848627702689655, 0.9585683085282397 L 0.2900542529120415, 0.9570102038994346 L 0.29523721399841146, 0.9554239830936087 ",
          "type": "path"
         },
         {
          "fillcolor": "#e6c4a9",
          "layer": "below",
          "line": {
           "color": "rgb(175,175,175)",
           "width": 0.5
          },
          "path": "M 0.235547021928718,0.9718629535384667 Q -0.059050455179809086, 0.19108386573192768 -0.7427850325346018, 0.6695299809885816L -0.7427850325346018, 0.6695299809885816 L -0.7382604322084892, 0.6745157776029665 L -0.7337023664070578, 0.6794709982984436 M -0.7337023664070578,0.6794709982984436 Q -0.05922333554342886, 0.19103035498870446 0.22067463322500486, 0.9753474797481201L 0.22067463322500486, 0.9753474797481201 L 0.22811748100162577, 0.9736336142828436 L 0.235547021928718, 0.9718629535384667 ",
          "type": "path"
         },
         {
          "fillcolor": "#e6c4a9",
          "layer": "below",
          "line": {
           "color": "rgb(175,175,175)",
           "width": 0.5
          },
          "path": "M 0.1830338052286139,0.983106619926615 Q -0.08670925880758673, 0.18022625901083045 -0.8823912458938852, 0.4705164069082364L -0.8823912458938852, 0.4705164069082364 L -0.8757906852159814, 0.4826910768689658 L -0.8690221566513917, 0.4947731715129307 M -0.8690221566513917,0.4947731715129307 Q -0.08686268533692589, 0.18015236300436974 0.15405472417833582, 0.9880623168395488L 0.15405472417833582, 0.9880623168395488 L 0.16856247772683036, 0.9856909714015807 L 0.1830338052286139, 0.983106619926615 ",
          "type": "path"
         },
         {
          "fillcolor": "#e6c4a9",
          "layer": "below",
          "line": {
           "color": "rgb(175,175,175)",
           "width": 0.5
          },
          "path": "M 0.27350705841216516,0.9618699958927529 Q -0.09361994574531743, 0.17673512881893014 -0.9493986049973595, 0.31407369967742865L -0.9493986049973595, 0.31407369967742865 L -0.9480586870584042, 0.3180954666339884 L -0.946701732514763, 0.3221115174183408 M -0.946701732514763,0.3221115174183408 Q -0.09397365394858322, 0.17654730913710334 0.26147900818814784, 0.9652091629677697L 0.26147900818814784, 0.9652091629677697 L 0.26749824368265923, 0.9635583478060333 L 0.27350705841216516, 0.9618699958927529 ",
          "type": "path"
         },
         {
          "fillcolor": "#e6c4a9",
          "layer": "below",
          "line": {
           "color": "rgb(175,175,175)",
           "width": 0.5
          },
          "path": "M 0.3149456043710375,0.9491097229969577 Q -0.09595518932613106, 0.17547820845160902 -0.9690117200775947, 0.24701474926056777L -0.9690117200775947, 0.24701474926056777 L -0.9683891427555927, 0.24944431882303564 L -0.9677604738680871, 0.2518723192782716 M -0.9677604738680871,0.2518723192782716 Q -0.09609149608471741, 0.17540360423948176 0.30870318577001726, 0.9511584216603679L 0.30870318577001726, 0.9511584216603679 L 0.31182607756993924, 0.9501391989321071 L 0.3149456043710375, 0.9491097229969577 ",
          "type": "path"
         },
         {
          "fillcolor": "#e6c4a9",
          "layer": "below",
          "line": {
           "color": "rgb(175,175,175)",
           "width": 0.5
          },
          "path": "M 0.26147900818814784,0.9652091629677697 Q -0.11234554288344707, 0.16546443422749058 -0.9935887760923715, 0.11305460637790563L -0.9935887760923715, 0.11305460637790563 L -0.9929029360937875, 0.11892753884755256 L -0.9921823825084132, 0.12479631340680215 M -0.9921823825084132,0.12479631340680215 Q -0.11242708898183856, 0.1654090374286416 0.24909208030167207, 0.9684798064652589L 0.24909208030167207, 0.9684798064652589 L 0.2552907820067967, 0.966864321723766 L 0.26147900818814784, 0.9652091629677697 ",
          "type": "path"
         },
         {
          "fillcolor": "#e6c4a9",
          "layer": "below",
          "line": {
           "color": "rgb(175,175,175)",
           "width": 0.5
          },
          "path": "M 0.2848627702689655,0.9585683085282397 Q -0.130767673777622, 0.1513268498806125 -0.9897415976289915, -0.14286906566087523L -0.9897415976289915, -0.14286906566087523 L -0.990507753458765, -0.13745686719138636 L -0.9912443140192718, -0.1320405616636918 M -0.9912443140192718,-0.1320405616636918 Q -0.1308352810223555, 0.15126840132625607 0.27350705841216516, 0.9618699958927529L 0.27350705841216516, 0.9618699958927529 L 0.2791897950860883, 0.9602359388815792 L 0.2848627702689655, 0.9585683085282397 ",
          "type": "path"
         },
         {
          "fillcolor": "#e6c4a9",
          "layer": "below",
          "line": {
           "color": "rgb(175,175,175)",
           "width": 0.5
          },
          "path": "M 0.24909208030167207,0.9684798064652589 Q -0.1504582962438099, 0.13176608475404414 -0.9271686697098763, -0.3746441750627098L -0.9271686697098763, -0.3746441750627098 L -0.9293736858665413, -0.36914028772113094 L -0.9315460300101281, -0.36362342329994296 M -0.9315460300101281,-0.36362342329994296 Q -0.15059676231484165, 0.13160780820409973 0.235547021928718, 0.9718629535384667L 0.235547021928718, 0.9718629535384667 L 0.24232545527389265, 0.9701950183990333 L 0.24909208030167207, 0.9684798064652589 ",
          "type": "path"
         },
         {
          "fillcolor": "#e6c4a9",
          "layer": "below",
          "line": {
           "color": "rgb(175,175,175)",
           "width": 0.5
          },
          "path": "M 0.20205236321615674,0.9793747201754629 Q -0.16571766606972313, 0.1119716712048353 -0.8332591715597107, -0.5528825851947451L -0.8332591715597107, -0.5528825851947451 L -0.8384487953735275, -0.5449803827081124 L -0.8435634811498056, -0.537029471510104 M -0.8435634811498056,-0.537029471510104 Q -0.16574417604432015, 0.11193242652327971 0.1830338052286139, 0.983106619926615L 0.1830338052286139, 0.983106619926615 L 0.19255212554216763, 0.9812867465472024 L 0.20205236321615674, 0.9793747201754629 ",
          "type": "path"
         },
         {
          "fillcolor": "#e6c4a9",
          "layer": "below",
          "line": {
           "color": "rgb(175,175,175)",
           "width": 0.5
          },
          "path": "M 0.08476243634745904,0.9964011889718132 Q -0.19234548184288766, 0.054801602299817634 -0.4531108626073006, -0.8914541750349638L -0.4531108626073006, -0.8914541750349638 L -0.4711259351860281, -0.8820659573949617 L -0.4889465828210443, -0.8723137274786082 M -0.4889465828210443,-0.8723137274786082 Q -0.19234383838505764, 0.05480737026443461 0.04427993208015384, 0.9990191627866689L 0.04427993208015384, 0.9990191627866689 L 0.0645344610194876, 0.9979154790566805 L 0.08476243634745904, 0.9964011889718132 ",
          "type": "path"
         },
         {
          "fillcolor": "#e6c4a9",
          "layer": "below",
          "line": {
           "color": "rgb(175,175,175)",
           "width": 0.5
          },
          "path": "M 0.30213430987726425,0.9532653664090547 Q -0.1956118363768117, 0.04166544694697815 -0.11255886270932292, -0.9936450585725185L -0.11255886270932292, -0.9936450585725185 L -0.11501068529191406, -0.9933642545756739 L -0.1174618074266697, -0.993077400707548 M -0.1174618074266697,-0.993077400707548 Q -0.19565944234451785, 0.041441315392157806 0.29523721399841146, 0.9554239830936087L 0.29523721399841146, 0.9554239830936087 L 0.29868771198508404, 0.9543509054373635 L 0.30213430987726425, 0.9532653664090547 ",
          "type": "path"
         },
         {
          "fillcolor": "#e6c4a9",
          "layer": "below",
          "line": {
           "color": "rgb(175,175,175)",
           "width": 0.5
          },
          "path": "M -0.007772884373566077,0.999969790677956 Q -0.1976040066640056, -0.03086513486657122 0.29754186343506595, -0.9547087720889489L 0.29754186343506595, -0.9547087720889489 L 0.267646955619197, -0.9635170507820687 L 0.23749208464738186, -0.9713894737590277 M 0.23749208464738186,-0.9713894737590277 Q -0.19761540884836673, -0.03079204744236504 -0.06931124743695946, 0.9975950836781087L -0.06931124743695946, 0.9975950836781087 L -0.0385603507839257, 0.999256273108866 L -0.007772884373566077, 0.999969790677956 ",
          "type": "path"
         },
         {
          "fillcolor": "#e6c4a9",
          "layer": "below",
          "line": {
           "color": "rgb(175,175,175)",
           "width": 0.5
          },
          "path": "M 0.12282367997592172,0.9924285080735903 Q -0.18640139081325047, -0.07248807835006991 0.7610333736979222, -0.6487127285000339L 0.7610333736979222, -0.6487127285000339 L 0.7485971606592005, -0.6630251058994548 L 0.7358918242900139, -0.6770991234251564 M 0.7358918242900139,-0.6770991234251564 Q -0.18638875264068896, -0.07252056873086471 0.08476243634745904, 0.9964011889718132L 0.08476243634745904, 0.9964011889718132 L 0.10381206322453977, 0.9945969311882398 L 0.12282367997592172, 0.9924285080735903 ",
          "type": "path"
         },
         {
          "fillcolor": "#e6c4a9",
          "layer": "below",
          "line": {
           "color": "rgb(175,175,175)",
           "width": 0.5
          },
          "path": "M 0.22067463322500486,0.9753474797481201 Q -0.1771997212315463, -0.09273758027607948 0.9271795203830943, -0.3746173207183236L 0.9271795203830943, -0.3746173207183236 L 0.9241128826671974, -0.38211958872651736 L 0.9209855415542867, -0.38959675595153165 M 0.9209855415542867,-0.38959675595153165 Q -0.1770676999907242, -0.09298940595570494 0.20205236321615674, 0.9793747201754629L 0.20205236321615674, 0.9793747201754629 L 0.2113730896930978, 0.9774054516696711 L 0.22067463322500486, 0.9753474797481201 ",
          "type": "path"
         },
         {
          "fillcolor": "#e6c4a9",
          "layer": "below",
          "line": {
           "color": "rgb(175,175,175)",
           "width": 0.5
          },
          "path": "M 0.3193072246059364,0.9476512524734265 Q -0.17776226569208528, -0.09165466107087239 0.9571807633812308, -0.28949090868786237L 0.9571807633812308, -0.28949090868786237 L 0.9565990224225377, -0.2914074643866305 L 0.9560134439632767, -0.293322851072798 M 0.9560134439632767,-0.293322851072798 Q -0.17773507261237062, -0.09170738227359532 0.3149456043710375, 0.9491097229969577L 0.3149456043710375, 0.9491097229969577 L 0.31712725292915245, 0.9483829951288716 L 0.3193072246059364, 0.9476512524734265 ",
          "type": "path"
         },
         {
          "fillcolor": "#e6c4a9",
          "layer": "below",
          "line": {
           "color": "rgb(175,175,175)",
           "width": 0.5
          },
          "path": "M 0.30870318577001726,0.9511584216603679 Q -0.16765157118527585, -0.1090548058505832 0.9946450343680456, -0.10335016016915159L 0.9946450343680456, -0.10335016016915159 L 0.9943529081967106, -0.10612395564029813 L 0.9940530466766626, -0.10889692554358348 M 0.9940530466766626,-0.10889692554358348 Q -0.16757954522364413, -0.10916545251423007 0.30213430987726425, 0.9532653664090547L 0.30213430987726425, 0.9532653664090547 L 0.3054205646746861, 0.952217558477996 L 0.30870318577001726, 0.9511584216603679 ",
          "type": "path"
         },
         {
          "fillcolor": "#e1b396",
          "layer": "below",
          "line": {
           "color": "rgb(175,175,175)",
           "width": 0.5
          },
          "path": "M -0.2957086800142697,0.9552781671137566 Q -0.0952847619997495, 0.17584315207209833 -0.6388235660526387, 0.7693532683077327L -0.6388235660526387, 0.7693532683077327 L -0.6332270136976798, 0.7739661162631853 L -0.6275971537509115, 0.7785382537831745 M -0.6275971537509115,0.7785382537831745 Q -0.09555916003053704, 0.17569418582940705 -0.31250096924044984, 0.9499174407409201L -0.31250096924044984, 0.9499174407409201 L -0.30411663668475664, 0.9526348047869927 L -0.2957086800142697, 0.9552781671137566 ",
          "type": "path"
         },
         {
          "fillcolor": "#e1b396",
          "layer": "below",
          "line": {
           "color": "rgb(175,175,175)",
           "width": 0.5
          },
          "path": "M -0.31250096924044984,0.9499174407409201 Q -0.11058125002774206, 0.16664869379116656 -0.753829869810515, 0.6570696518493773L -0.753829869810515, 0.6570696518493773 L -0.7483333858855526, 0.6633228049517554 L -0.7427850325346018, 0.6695299809885816 M -0.7427850325346018,0.6695299809885816 Q -0.11072933329519273, 0.1665503369795514 -0.32995263964133853, 0.9439974870695965L -0.32995263964133853, 0.9439974870695965 L -0.32124044165418536, 0.9469976655968186 L -0.31250096924044984, 0.9499174407409201 ",
          "type": "path"
         },
         {
          "fillcolor": "#e1b396",
          "layer": "below",
          "line": {
           "color": "rgb(175,175,175)",
           "width": 0.5
          },
          "path": "M -0.432249377604789,0.9017541103650554 Q -0.14509018895845635, 0.1376547749553187 -0.9232259910230088, 0.3842574260825459L -0.9232259910230088, 0.3842574260825459 L -0.916428305469893, 0.40019890171461053 L -0.9093553805962926, 0.41602018193901574 M -0.9093553805962926,0.41602018193901574 Q -0.14517515196468025, 0.13756516729184026 -0.4643332204629429, 0.8856605785370104L -0.4643332204629429, 0.8856605785370104 L -0.4483635123771181, 0.8938513079751318 L -0.432249377604789, 0.9017541103650554 ",
          "type": "path"
         },
         {
          "fillcolor": "#e1b396",
          "layer": "below",
          "line": {
           "color": "rgb(175,175,175)",
           "width": 0.5
          },
          "path": "M -0.2200203548220162,0.9754952811080093 Q -0.1316853505722905, 0.15052896214567135 -0.9375844090764391, 0.34775778331589424L -0.9375844090764391, 0.34775778331589424 L -0.9373125634040214, 0.3484898255114237 L -0.9370401461716695, 0.3492216552027898 M -0.9370401461716695,0.3492216552027898 Q -0.1317366519056601, 0.15048406741142714 -0.22220831467961355, 0.9749992127623723L -0.22220831467961355, 0.9749992127623723 L -0.22111447386647104, 0.9752478605189318 L -0.2200203548220162, 0.9754952811080093 ",
          "type": "path"
         },
         {
          "fillcolor": "#e1b396",
          "layer": "below",
          "line": {
           "color": "rgb(175,175,175)",
           "width": 0.5
          },
          "path": "M -0.24340291563699387,0.9699252655021471 Q -0.14324748671728582, 0.13957133498387492 -0.975924132440928, 0.21811026504825937L -0.975924132440928, 0.21811026504825937 L -0.9751661565158888, 0.22147452942952384 L -0.9743965831325112, 0.2248361598579891 M -0.9743965831325112,0.2248361598579891 Q -0.14338116688995192, 0.13943400224219257 -0.2519419975968892, 0.9677423364960784L -0.2519419975968892, 0.9677423364960784 L -0.2476748615855718, 0.968843208645531 L -0.24340291563699387, 0.9699252655021471 ",
          "type": "path"
         },
         {
          "fillcolor": "#e1b396",
          "layer": "below",
          "line": {
           "color": "rgb(175,175,175)",
           "width": 0.5
          },
          "path": "M -0.2519419975968892,0.9677423364960784 Q -0.15027985463841884, 0.1319695619825106 -0.9921823825084132, 0.12479631340680215L -0.9921823825084132, 0.12479631340680215 L -0.9916338858245348, 0.1290822857116091 L -0.991066874932205, 0.13336584799757822 M -0.991066874932205,0.13336584799757822 Q -0.15031233805269595, 0.13193256242918977 -0.26077093157123143, 0.9654007050170784L -0.26077093157123143, 0.9654007050170784 L -0.2563591382095331, 0.9665816014473199 L -0.2519419975968892, 0.9677423364960784 ",
          "type": "path"
         },
         {
          "fillcolor": "#e1b396",
          "layer": "below",
          "line": {
           "color": "rgb(175,175,175)",
           "width": 0.5
          },
          "path": "M -0.2348449258709263,0.9720328496469032 Q -0.16385207898766962, 0.11468433289433427 -0.9936914859864368, -0.11214825312089001L -0.9936914859864368, -0.11214825312089001 L -0.9941511018875563, -0.10799808616710613 L -0.9945933846324687, -0.10384603625237793 M -0.9945933846324687,-0.10384603625237793 Q -0.16387860287275102, 0.1146464282935808 -0.24340291563699387, 0.9699252655021471L -0.24340291563699387, 0.9699252655021471 L -0.23912624271392297, 0.970988486051983 L -0.2348449258709263, 0.9720328496469032 ",
          "type": "path"
         },
         {
          "fillcolor": "#e1b396",
          "layer": "below",
          "line": {
           "color": "rgb(175,175,175)",
           "width": 0.5
          },
          "path": "M -0.27142940970263973,0.9624583500331204 Q -0.17904308917459755, 0.08912672000481736 -0.9315460300101281, -0.36362342329994296L -0.9315460300101281, -0.36362342329994296 L -0.933535671313983, -0.3584845190302522 L -0.9354969639311346, -0.353334728657727 M -0.9354969639311346,-0.353334728657727 Q -0.17911604322583727, 0.08898001494223298 -0.2835917699063659, 0.9589451016827683L -0.2835917699063659, 0.9589451016827683 L -0.2775161494078062, 0.9607209724045084 L -0.27142940970263973, 0.9624583500331204 ",
          "type": "path"
         },
         {
          "fillcolor": "#e1b396",
          "layer": "below",
          "line": {
           "color": "rgb(175,175,175)",
           "width": 0.5
          },
          "path": "M -0.2835917699063659,0.9589451016827683 Q -0.1862246294944243, 0.07294098552709853 -0.8594379948841323, -0.511239995451786L -0.8594379948841323, -0.511239995451786 L -0.8626565788696234, -0.5057901016557729 L -0.8658406042931809, -0.5003199455920374 M -0.8658406042931809,-0.5003199455920374 Q -0.1862246655410561, 0.07294089349687048 -0.2957086800142697, 0.9552781671137566L -0.2957086800142697, 0.9552781671137566 L -0.2896560277671536, 0.9571308090215015 L -0.2835917699063659, 0.9589451016827683 ",
          "type": "path"
         },
         {
          "fillcolor": "#e1b396",
          "layer": "below",
          "line": {
           "color": "rgb(175,175,175)",
           "width": 0.5
          },
          "path": "M -0.35134641706199565,0.936245531480764 Q -0.19913338144413278, 0.01859829009950968 -0.5186411014641737, -0.8549920513502033L -0.5186411014641737, -0.8549920513502033 L -0.5294285207403411, -0.8483545493640582 L -0.5401310065269357, -0.8415809502289125 M -0.5401310065269357,-0.8415809502289125 Q -0.1991272933689494, 0.018663360778712033 -0.374342136287419, 0.9272906583158117L -0.374342136287419, 0.9272906583158117 L -0.36287190102561206, 0.9318390330127079 L -0.35134641706199565, 0.936245531480764 ",
          "type": "path"
         },
         {
          "fillcolor": "#e1b396",
          "layer": "below",
          "line": {
           "color": "rgb(175,175,175)",
           "width": 0.5
          },
          "path": "M -0.22486361841681152,0.9743902468274703 Q -0.19975681695621403, -0.009859720052902697 -0.1278152879627023, -0.991797989594157L -0.1278152879627023, -0.991797989594157 L -0.1292058490940563, -0.9916177935877734 L -0.130596156189803, -0.9914356479310438 M -0.130596156189803,-0.9914356479310438 Q -0.19975085589280453, -0.009979758017709561 -0.22876543964753798, 0.9734815733350419L -0.22876543964753798, 0.9734815733350419 L -0.22681498407725656, 0.9739378640334474 L -0.22486361841681152, 0.9743902468274703 ",
          "type": "path"
         },
         {
          "fillcolor": "#e1b396",
          "layer": "below",
          "line": {
           "color": "rgb(175,175,175)",
           "width": 0.5
          },
          "path": "M -0.4001961468407746,0.9164295085023164 Q -0.19192115610158458, -0.056269617384794836 0.15800153786862048, -0.987438865971535L 0.15800153786862048, -0.987438865971535 L 0.13992127986820987, -0.9901626308036686 L 0.12179424413769946, -0.9925553697879662 M 0.12179424413769946,-0.9925553697879662 Q -0.19195808908440612, -0.05614349503783327 -0.432249377604789, 0.9017541103650554L -0.432249377604789, 0.9017541103650554 L -0.41628743629850795, 0.9092330671395622 L -0.4001961468407746, 0.9164295085023164 ",
          "type": "path"
         },
         {
          "fillcolor": "#e1b396",
          "layer": "below",
          "line": {
           "color": "rgb(175,175,175)",
           "width": 0.5
          },
          "path": "M -0.32995263964133853,0.9439974870695965 Q -0.1716051044741589, -0.1027214102240279 0.6761418782177756, -0.7367714438821165L 0.6761418782177756, -0.7367714438821165 L 0.6675831281651076, -0.7445352691372582 L 0.658935236281379, -0.7521996772046656 M 0.658935236281379,-0.7521996772046656 Q -0.17162336975020506, -0.10269089032423669 -0.35134641706199565, 0.936245531480764L -0.35134641706199565, 0.936245531480764 L -0.34067157845948365, 0.9401823629647197 L -0.32995263964133853, 0.9439974870695965 ",
          "type": "path"
         },
         {
          "fillcolor": "#e1b396",
          "layer": "below",
          "line": {
           "color": "rgb(175,175,175)",
           "width": 0.5
          },
          "path": "M -0.22876543964753798,0.9734815733350419 Q -0.15566071743486423, -0.1255776295669868 0.9030698907067388, -0.42949362335070673L 0.9030698907067388, -0.42949362335070673 L 0.9018962089854561, -0.4319528078594496 L 0.9007158305790913, -0.434408785067956 M 0.9007158305790913,-0.434408785067956 Q -0.1556104795184526, -0.12563987688642983 -0.2348449258709263, 0.9720328496469032L -0.2348449258709263, 0.9720328496469032 L -0.2318063145259898, 0.9727619608855385 L -0.22876543964753798, 0.9734815733350419 ",
          "type": "path"
         },
         {
          "fillcolor": "#e1b396",
          "layer": "below",
          "line": {
           "color": "rgb(175,175,175)",
           "width": 0.5
          },
          "path": "M -0.26077093157123143,0.9654007050170784 Q -0.14051629328905055, -0.1423206637150963 0.9686491905151802, -0.24843257780389075L 0.9686491905151802, -0.24843257780389075 L 0.9674112034350694, -0.25321051215996326 L 0.9661496489906677, -0.2579822779867051 M 0.9661496489906677,-0.2579822779867051 Q -0.14043188873606458, -0.14240394877257298 -0.27142940970263973, 0.9624583500331204L -0.27142940970263973, 0.9624583500331204 L -0.26610423742627454, 0.963944259189182 L -0.26077093157123143, 0.9654007050170784 ",
          "type": "path"
         },
         {
          "fillcolor": "#e1b396",
          "layer": "below",
          "line": {
           "color": "rgb(175,175,175)",
           "width": 0.5
          },
          "path": "M -0.22220831467961355,0.9749992127623723 Q -0.13406143020839534, -0.14841675421083547 0.9925028644892262, -0.12222137284730851L 0.9925028644892262, -0.12222137284730851 L 0.9923642519004479, -0.12334176725693696 L 0.9922243745463254, -0.12446200446784285 M 0.9922243745463254,-0.12446200446784285 Q -0.13402681822025161, -0.14844801109397063 -0.22486361841681152, 0.9743902468274703L -0.22486361841681152, 0.9743902468274703 L -0.22353617391939287, 0.9746956340055489 L -0.22220831467961355, 0.9749992127623723 ",
          "type": "path"
         },
         {
          "fillcolor": "#dba284",
          "layer": "below",
          "line": {
           "color": "rgb(175,175,175)",
           "width": 0.5
          },
          "path": "M -0.6388235660526387,0.7693532683077327 Q -0.1410681361464368, 0.14177369630566303 -0.7661565718473669, 0.6426539561965604L -0.7661565718473669, 0.6426539561965604 L -0.76002740001676, 0.6498910302687397 L -0.753829869810515, 0.6570696518493773 M -0.753829869810515,0.6570696518493773 Q -0.1409480542263077, 0.14189307949938157 -0.6520176638649963, 0.7582037760444303L -0.6520176638649963, 0.7582037760444303 L -0.645444690123213, 0.7638070122692967 L -0.6388235660526387, 0.7693532683077327 ",
          "type": "path"
         },
         {
          "fillcolor": "#dba284",
          "layer": "below",
          "line": {
           "color": "rgb(175,175,175)",
           "width": 0.5
          },
          "path": "M -0.588134122237129,0.8087634105598261 Q -0.14334992206846214, 0.13946612435629605 -0.8246085958240802, 0.5657036889512378L -0.8246085958240802, 0.5657036889512378 L -0.8223700363780552, 0.5689530062031102 L -0.8201186732794163, 0.5721934653055817 M -0.8201186732794163,0.5721934653055817 Q -0.14326855767584298, 0.13954970577354742 -0.5935598161773094, 0.8047898760667649L -0.5935598161773094, 0.8047898760667649 L -0.5908503095247126, 0.8067812043761006 L -0.588134122237129, 0.8087634105598261 ",
          "type": "path"
         },
         {
          "fillcolor": "#dba284",
          "layer": "below",
          "line": {
           "color": "rgb(175,175,175)",
           "width": 0.5
          },
          "path": "M -0.5751554300379977,0.8180441499685734 Q -0.15798564738442636, 0.12263985983571452 -0.9351172358646991, 0.35433847545639846L -0.9351172358646991, 0.35433847545639846 L -0.9350579302117574, 0.35449494657625824 L -0.9349985983768462, 0.3546514077701273 M -0.9349985983768462,0.3546514077701273 Q -0.15798938349364042, 0.12263504679861881 -0.5754789996647081, 0.8178165570254169L -0.5754789996647081, 0.8178165570254169 L -0.5753172261056977, 0.8179303694973341 L -0.5751554300379977, 0.8180441499685734 ",
          "type": "path"
         },
         {
          "fillcolor": "#dba284",
          "layer": "below",
          "line": {
           "color": "rgb(175,175,175)",
           "width": 0.5
          },
          "path": "M -0.5935598161773094,0.8047898760667649 Q -0.16793756022097048, 0.10861388431976789 -0.9774317553472834, 0.2112514228087664L -0.9774317553472834, 0.2112514228087664 L -0.9766839647595503, 0.21468216735808626 L -0.975924132440928, 0.21811026504825937 M -0.975924132440928,0.21811026504825937 Q -0.167957208720516, 0.10858349800413059 -0.5994865098784283, 0.8003848602227437L -0.5994865098784283, 0.8003848602227437 L -0.5965272291102225, 0.8025928388230735 L -0.5935598161773094, 0.8047898760667649 ",
          "type": "path"
         },
         {
          "fillcolor": "#dba284",
          "layer": "below",
          "line": {
           "color": "rgb(175,175,175)",
           "width": 0.5
          },
          "path": "M -0.5763414115714087,0.8172090169031886 Q -0.16975465907138926, 0.10575138639070603 -0.9875881154485855, 0.15706595501480033L -0.9875881154485855, 0.15706595501480033 L -0.9874448287490744, 0.15796426867083363 L -0.9873007249404456, 0.1588624516116711 M -0.9873007249404456,0.1588624516116711 Q -0.16974212863094537, 0.105771497899177 -0.5776338265313015, 0.8162960017339337L -0.5776338265313015, 0.8162960017339337 L -0.5769877996437416, 0.8167527649553894 L -0.5763414115714087, 0.8172090169031886 ",
          "type": "path"
         },
         {
          "fillcolor": "#dba284",
          "layer": "below",
          "line": {
           "color": "rgb(175,175,175)",
           "width": 0.5
          },
          "path": "M -0.5812878036733816,0.8136980332411872 Q -0.18176924716479434, 0.08342625956582203 -0.995960578562681, -0.08979156947670361L -0.995960578562681, -0.08979156947670361 L -0.9961158484457968, -0.08805235076424908 L -0.9962680811811873, -0.08631286358101653 M -0.9962680811811873,-0.08631286358101653 Q -0.18175008049196342, 0.08346800729120601 -0.5837529906480554, 0.8119313061518513L -0.5837529906480554, 0.8119313061518513 L -0.5825210669490274, 0.8128156042796956 L -0.5812878036733816, 0.8136980332411872 ",
          "type": "path"
         },
         {
          "fillcolor": "#dba284",
          "layer": "below",
          "line": {
           "color": "rgb(175,175,175)",
           "width": 0.5
          },
          "path": "M -0.5749396669451544,0.8181958074770335 Q -0.18997950997193405, 0.0625122851191973 -0.9484494646249152, -0.31692840366983777L -0.9484494646249152, -0.31692840366983777 L -0.9484936699878368, -0.31679608266675996 L -0.9485378568902622, -0.3166637554978916 M -0.9485378568902622,-0.3166637554978916 Q -0.1899790320892897, 0.06251373742159903 -0.5751554300379977, 0.8180441499685734L -0.5751554300379977, 0.8180441499685734 L -0.5750475534911627, 0.8181199858357138 L -0.5749396669451544, 0.8181958074770335 ",
          "type": "path"
         },
         {
          "fillcolor": "#dba284",
          "layer": "below",
          "line": {
           "color": "rgb(175,175,175)",
           "width": 0.5
          },
          "path": "M -0.5776338265313015,0.8162960017339337 Q -0.1945266585878153, 0.04646911983951866 -0.8842119815569514, -0.4670858290198169L -0.8842119815569514, -0.4670858290198169 L -0.8848100099226378, -0.46595197857794485 L -0.885406584320072, -0.4648173624582704 M -0.885406584320072,-0.4648173624582704 Q -0.19451610631571, 0.0465132710500499 -0.5793547960311688, 0.8150754690920853L -0.5793547960311688, 0.8150754690920853 L -0.5784946331728004, 0.8156861892849891 L -0.5776338265313015, 0.8162960017339337 ",
          "type": "path"
         },
         {
          "fillcolor": "#dba284",
          "layer": "below",
          "line": {
           "color": "rgb(175,175,175)",
           "width": 0.5
          },
          "path": "M -0.5754789996647081,0.8178165570254169 Q -0.19981426247590853, 0.008617453870415313 -0.6437517467486161, -0.765234401055066L -0.6437517467486161, -0.765234401055066 L -0.6442551108376994, -0.7648106642558691 L -0.6447581960105242, -0.7643865963485065 M -0.6447581960105242,-0.7643865963485065 Q -0.19981313609204365, 0.008643531978447338 -0.5763414115714087, 0.8172090169031886L -0.5763414115714087, 0.8172090169031886 L -0.5759102857314532, 0.8175129006864148 L -0.5754789996647081, 0.8178165570254169 ",
          "type": "path"
         },
         {
          "fillcolor": "#dba284",
          "layer": "below",
          "line": {
           "color": "rgb(175,175,175)",
           "width": 0.5
          },
          "path": "M -0.5994865098784283,0.8003848602227437 Q -0.19079820764546535, -0.059967023932140345 -0.03381331953978826, -0.9994281662139106L -0.03381331953978826, -0.9994281662139106 L -0.03846451837349825, -0.9992599665884223 L -0.04311488399105354, -0.9990701210517898 M -0.04311488399105354,-0.9990701210517898 Q -0.19085580870400887, -0.05978344489855684 -0.6053805136624055, 0.795936199502097L -0.6053805136624055, 0.795936199502097 L -0.6024376181394958, 0.7981659703660706 L -0.5994865098784283, 0.8003848602227437 ",
          "type": "path"
         },
         {
          "fillcolor": "#dba284",
          "layer": "below",
          "line": {
           "color": "rgb(175,175,175)",
           "width": 0.5
          },
          "path": "M -0.5837529906480554,0.8119313061518513 Q -0.16073424157223826, -0.11901472003999068 0.6062773459703283, -0.7952532802592988L 0.6062773459703283, -0.7952532802592988 L 0.6036206449625103, -0.79727167074658 L 0.6009572244735735, -0.7992811860371911 M 0.6009572244735735,-0.7992811860371911 Q -0.16080957237042298, -0.11891291533740858 -0.588134122237129, 0.8087634105598261L -0.588134122237129, 0.8087634105598261 L -0.5859456973365483, 0.8103503191662147 L -0.5837529906480554, 0.8119313061518513 ",
          "type": "path"
         },
         {
          "fillcolor": "#dba284",
          "layer": "below",
          "line": {
           "color": "rgb(175,175,175)",
           "width": 0.5
          },
          "path": "M -0.6053805136624055,0.795936199502097 Q -0.1113956249678513, -0.1661054325963538 0.9661496489906677, -0.2579822779867051L 0.9661496489906677, -0.2579822779867051 L 0.9649396980698629, -0.26247167292651163 L 0.9637088864572333, -0.26695539358357107 M 0.9637088864572333,-0.26695539358357107 Q -0.11145607520540819, -0.16606487677954782 -0.6121803508314756, 0.7907181660085036L -0.6121803508314756, 0.7907181660085036 L -0.6087860228809108, 0.7933344681436973 L -0.6053805136624055, 0.795936199502097 ",
          "type": "path"
         },
         {
          "fillcolor": "#dba284",
          "layer": "below",
          "line": {
           "color": "rgb(175,175,175)",
           "width": 0.5
          },
          "path": "M -0.5793547960311688,0.8150754690920853 Q -0.10222587170705943, -0.17190075960778017 0.9927922211932445, -0.11984826047208187L 0.9927922211932445, -0.11984826047208187 L 0.9926482520129315, -0.12103490312993057 L 0.9925028644892262, -0.12222137284730851 M 0.9925028644892262,-0.12222137284730851 Q -0.10222734276771653, -0.1718998847895245 -0.5812878036733816, 0.8136980332411872L -0.5812878036733816, 0.8136980332411872 L -0.5803217085329614, 0.814387324683645 L -0.5793547960311688, 0.8150754690920853 ",
          "type": "path"
         },
         {
          "fillcolor": "#d59171",
          "layer": "below",
          "line": {
           "color": "rgb(175,175,175)",
           "width": 0.5
          },
          "path": "M -0.6885355404118453,0.7252025989954588 Q -0.1516393527907886, 0.13040516356797668 -0.8201186732794163, 0.5721934653055817L -0.8201186732794163, 0.5721934653055817 L -0.8179435711716019, 0.5752984567848646 L -0.8157567135450293, 0.5783951800509863 M -0.8157567135450293,0.5783951800509863 Q -0.15160757242836628, 0.13044210969766504 -0.6936633060883917, 0.720299394548213L -0.6936633060883917, 0.720299394548213 L -0.6911037716364374, 0.7227555443093404 L -0.6885355404118453, 0.7252025989954588 ",
          "type": "path"
         },
         {
          "fillcolor": "#d59171",
          "layer": "below",
          "line": {
           "color": "rgb(175,175,175)",
           "width": 0.5
          },
          "path": "M -0.6755116886488615,0.7373492784961302 Q -0.1655167423289626, 0.11226846399950347 -0.9348798561677603, 0.35496430036237137L -0.9348798561677603, 0.35496430036237137 L -0.934860055619282, 0.35501644526347353 L -0.9348402521623116, 0.35506858906006544 M -0.9348402521623116,0.35506858906006544 Q -0.1655186079604162, 0.11226571346072696 -0.6756184431076007, 0.7372514627539655L -0.6756184431076007, 0.7372514627539655 L -0.6755650676485859, 0.7373003725571834 L -0.6755116886488615, 0.7373492784961302 ",
          "type": "path"
         },
         {
          "fillcolor": "#d59171",
          "layer": "below",
          "line": {
           "color": "rgb(175,175,175)",
           "width": 0.5
          },
          "path": "M -0.7011345635375251,0.7130289782421497 Q -0.17604802411436, 0.09490570691707494 -0.9810384054540987, 0.19381343354906935L -0.9810384054540987, 0.19381343354906935 L -0.9801285677472452, 0.19836327958000152 L -0.9791976289469821, 0.20290885506701817 M -0.9791976289469821,0.20290885506701817 Q -0.17611605827566426, 0.09477939658724799 -0.7087339454613468, 0.7054758639037856L -0.7087339454613468, 0.7054758639037856 L -0.7049443705362344, 0.7092625990768667 L -0.7011345635375251, 0.7130289782421497 ",
          "type": "path"
         },
         {
          "fillcolor": "#d59171",
          "layer": "below",
          "line": {
           "color": "rgb(175,175,175)",
           "width": 0.5
          },
          "path": "M -0.6815740217607029,0.7317491734610576 Q -0.1768943365687675, 0.09331877458419402 -0.9887730450376715, 0.1494251163858705L -0.9887730450376715, 0.1494251163858705 L -0.9885453629448314, 0.15092403851034294 L -0.988315408575026, 0.15242261371981325 M -0.988315408575026,0.15242261371981325 Q -0.17688797127663297, 0.09333083958497894 -0.6836901749415953, 0.7297723923856881L -0.6836901749415953, 0.7297723923856881 L -0.6826328139015498, 0.7307615489233489 L -0.6815740217607029, 0.7317491734610576 ",
          "type": "path"
         },
         {
          "fillcolor": "#d59171",
          "layer": "below",
          "line": {
           "color": "rgb(175,175,175)",
           "width": 0.5
          },
          "path": "M -0.6836901749415953,0.7297723923856881 Q -0.18714087662334572, 0.0705570145105765 -0.9953091371601658, -0.09674565357413403L -0.9953091371601658, -0.09674565357413403 L -0.995640929256198, -0.09326918027866823 L -0.995960578562681, -0.08979156947670361 M -0.995960578562681,-0.08979156947670361 Q -0.18712943834372703, 0.0705873452196728 -0.6885355404118453, 0.7252025989954588L -0.6885355404118453, 0.7252025989954588 L -0.6861166622537476, 0.7274915296948666 L -0.6836901749415953, 0.7297723923856881 ",
          "type": "path"
         },
         {
          "fillcolor": "#d59171",
          "layer": "below",
          "line": {
           "color": "rgb(175,175,175)",
           "width": 0.5
          },
          "path": "M -0.6767918068403358,0.7361744699415985 Q -0.19371949870396682, 0.04972681190146619 -0.9476951498344143, -0.3191769148612209L -0.9476951498344143, -0.3191769148612209 L -0.947939776381731, -0.3184496512062052 L -0.9481838448251707, -0.317722200062502 M -0.9481838448251707,-0.317722200062502 Q -0.19372094303913298, 0.04972118490169963 -0.6779634537580239, 0.7350956096784226L -0.6779634537580239, 0.7350956096784226 L -0.6773778450869199, 0.7356352730704263 L -0.6767918068403358, 0.7361744699415985 ",
          "type": "path"
         },
         {
          "fillcolor": "#d59171",
          "layer": "below",
          "line": {
           "color": "rgb(175,175,175)",
           "width": 0.5
          },
          "path": "M -0.6795583819626463,0.7336214320099367 Q -0.19725278397033058, 0.03303542365331651 -0.8815028874592279, -0.4721786308178758L -0.8815028874592279, -0.4721786308178758 L -0.8822206399609008, -0.4708362161378185 L -0.8829363481404773, -0.46949271041450463 M -0.8829363481404773,-0.46949271041450463 Q -0.19724793436447535, 0.03306436736046269 -0.6815740217607029, 0.7317491734610576L -0.6815740217607029, 0.7317491734610576 L -0.6805668456914751, 0.7326859958710525 L -0.6795583819626463, 0.7336214320099367 ",
          "type": "path"
         },
         {
          "fillcolor": "#d59171",
          "layer": "below",
          "line": {
           "color": "rgb(175,175,175)",
           "width": 0.5
          },
          "path": "M -0.7087339454613468,0.7054758639037856 Q -0.19943902561259466, -0.014969137005813291 -0.5954860213977788, -0.8033656691195138L -0.5954860213977788, -0.8033656691195138 L -0.600627512342922, -0.7995289809736437 L -0.6057442843996875, -0.7956593881285575 M -0.6057442843996875,-0.7956593881285575 Q -0.19945046881726455, -0.014815886358007391 -0.7166560093063862, 0.6974268164653873L -0.7166560093063862, 0.6974268164653873 L -0.7127063403529932, 0.7014625238889411 L -0.7087339454613468, 0.7054758639037856 ",
          "type": "path"
         },
         {
          "fillcolor": "#d59171",
          "layer": "below",
          "line": {
           "color": "rgb(175,175,175)",
           "width": 0.5
          },
          "path": "M -0.7249854905450317,0.6887641385112757 Q -0.18251492056380453, -0.08178205042421062 0.03150065116760726, -0.9995037313467202L 0.03150065116760726, -0.9995037313467202 L 0.024189692526038444, -0.99970738657644 L 0.0168774399393134, -0.9998575658668063 M 0.0168774399393134,-0.9998575658668063 Q -0.18259196043711257, -0.08160990126039813 -0.7337023664070578, 0.6794709982984436L -0.7337023664070578, 0.6794709982984436 L -0.7293587297198983, 0.6841314518287961 L -0.7249854905450317, 0.6887641385112757 ",
          "type": "path"
         },
         {
          "fillcolor": "#d59171",
          "layer": "below",
          "line": {
           "color": "rgb(175,175,175)",
           "width": 0.5
          },
          "path": "M -0.7166560093063862,0.6974268164653873 Q -0.14642603118941902, -0.13623295265872823 0.6439951611480031, -0.7650295631006409L 0.6439951611480031, -0.7650295631006409 L 0.6388132725933529, -0.7693618152459678 L 0.6336022411359624, -0.7736589688147393 M 0.6336022411359624,-0.7736589688147393 Q -0.14652754836936424, -0.1361237582821736 -0.7249854905450317, 0.6887641385112757L -0.7249854905450317, 0.6887641385112757 L -0.7208337630971481, 0.6931079901279488 L -0.7166560093063862, 0.6974268164653873 ",
          "type": "path"
         },
         {
          "fillcolor": "#d59171",
          "layer": "below",
          "line": {
           "color": "rgb(175,175,175)",
           "width": 0.5
          },
          "path": "M -0.6761520028971741,0.736762152243273 Q -0.12033600534832141, -0.15974744385062556 0.8947450010552971, -0.44657740995997136L 0.8947450010552971, -0.44657740995997136 L 0.8945577097905769, -0.4469524626335981 L 0.894370261314025, -0.4473274367586709 M 0.894370261314025,-0.4473274367586709 Q -0.12033358413237481, -0.1597492676974035 -0.6767918068403358, 0.7361744699415985L -0.6767918068403358, 0.7361744699415985 L -0.6764719686870876, 0.7364683805708266 L -0.6761520028971741, 0.736762152243273 ",
          "type": "path"
         },
         {
          "fillcolor": "#d59171",
          "layer": "below",
          "line": {
           "color": "rgb(175,175,175)",
           "width": 0.5
          },
          "path": "M -0.6936633060883917,0.720299394548213 Q -0.09980919041715781, -0.17331510467432298 0.9711567695315114, -0.23844187759938226L 0.9711567695315114, -0.23844187759938226 L 0.9699158438652349, -0.24344045641427228 L 0.9686491905151802, -0.24843257780389075 M 0.9686491905151802,-0.24843257780389075 Q -0.09979841679112288, -0.17332130857452388 -0.7011345635375251, 0.7130289782421497L -0.7011345635375251, 0.7130289782421497 L -0.6974084090520885, 0.7166739223548146 L -0.6936633060883917, 0.720299394548213 ",
          "type": "path"
         },
         {
          "fillcolor": "#d59171",
          "layer": "below",
          "line": {
           "color": "rgb(175,175,175)",
           "width": 0.5
          },
          "path": "M -0.6779634537580239,0.7350956096784226 Q -0.09152044680679457, -0.1778314027844483 0.9922243745463254, -0.12446200446784285L 0.9922243745463254, -0.12446200446784285 L 0.9920999031695537, -0.12545031738087503 L 0.991974447376159, -0.12643850581513508 M 0.991974447376159,-0.12643850581513508 Q -0.09150447500423824, -0.17783962172192883 -0.6795583819626463, 0.7336214320099367L -0.6795583819626463, 0.7336214320099367 L -0.678761318074737, 0.7343589538403176 L -0.6779634537580239, 0.7350956096784226 ",
          "type": "path"
         },
         {
          "fillcolor": "#d0805f",
          "layer": "below",
          "line": {
           "color": "rgb(175,175,175)",
           "width": 0.5
          },
          "path": "M -0.833605083981965,0.5523609001001258 Q -0.17916282844482023, 0.08888577447292635 -0.9441208014204059, 0.32959962427965617L -0.9441208014204059, 0.32959962427965617 L -0.9430866760023916, 0.3325470215574936 L -0.9420433492968907, 0.33549117431833636 M -0.9420433492968907,0.33549117431833636 Q -0.17927016719194444, 0.08866908793357632 -0.8383600769280546, 0.5451168511550404L -0.8383600769280546, 0.5451168511550404 L -0.835990426910199, 0.5487440260399226 L -0.833605083981965, 0.5523609001001258 ",
          "type": "path"
         },
         {
          "fillcolor": "#d0805f",
          "layer": "below",
          "line": {
           "color": "rgb(175,175,175)",
           "width": 0.5
          },
          "path": "M -0.8291336801008373,0.5590503917559153 Q -0.18342356891091377, 0.0797232360606572 -0.9743965831325112, 0.2248361598579891L -0.9743965831325112, 0.2248361598579891 L -0.9736583289137664, 0.2280119701613315 L -0.9729097239374308, 0.23118535651721586 M -0.9729097239374308,0.23118535651721586 Q -0.18348431761400835, 0.07958332230889655 -0.833605083981965, 0.5523609001001258L -0.833605083981965, 0.5523609001001258 L -0.8313761102657174, 0.5557101432216669 L -0.8291336801008373, 0.5590503917559153 ",
          "type": "path"
         },
         {
          "fillcolor": "#d0805f",
          "layer": "below",
          "line": {
           "color": "rgb(175,175,175)",
           "width": 0.5
          },
          "path": "M -0.8246085958240802,0.5657036889512378 Q -0.1863426355105569, 0.0726389853383136 -0.9899203427805833, 0.14162526239754133L -0.9899203427805833, 0.14162526239754133 L -0.9893543804822822, 0.14552632002672114 L -0.9887730450376715, 0.1494251163858705 M -0.9887730450376715,0.1494251163858705 Q -0.1863485370891278, 0.07262384405098626 -0.8291336801008373, 0.5590503917559153L -0.8291336801008373, 0.5590503917559153 L -0.8268778297827459, 0.562381591638432 L -0.8246085958240802, 0.5657036889512378 ",
          "type": "path"
         },
         {
          "fillcolor": "#d0805f",
          "layer": "below",
          "line": {
           "color": "rgb(175,175,175)",
           "width": 0.5
          },
          "path": "M -0.8115287256954932,0.584312525427146 Q -0.19327801953218482, 0.051416020516142504 -0.9945933846324687, -0.10384603625237793L -0.9945933846324687, -0.10384603625237793 L -0.9949575947836752, -0.10029648339939004 L -0.9953091371601658, -0.09674565357413403 M -0.9953091371601658,-0.09674565357413403 Q -0.19328152164184126, 0.051402853926746664 -0.8157567135450293, 0.5783951800509863L -0.8157567135450293, 0.5783951800509863 L -0.8136480989562566, 0.58135769631516 L -0.8115287256954932, 0.584312525427146 ",
          "type": "path"
         },
         {
          "fillcolor": "#d0805f",
          "layer": "below",
          "line": {
           "color": "rgb(175,175,175)",
           "width": 0.5
          },
          "path": "M -0.8019284996867189,0.597420020915108 Q -0.19766469138486023, 0.030474083738940616 -0.9446246276566076, -0.3281528802625621L -0.9446246276566076, -0.3281528802625621 L -0.9450815134132958, -0.326834718174851 L -0.9455365597617243, -0.32551591997007306 M -0.9455365597617243,-0.32551591997007306 Q -0.19766932938381793, 0.03044398497161139 -0.8037735129120055, 0.5949354082092392L -0.8037735129120055, 0.5949354082092392 L -0.8028519674516424, 0.5961784282905805 L -0.8019284996867189, 0.597420020915108 ",
          "type": "path"
         },
         {
          "fillcolor": "#d0805f",
          "layer": "below",
          "line": {
           "color": "rgb(175,175,175)",
           "width": 0.5
          },
          "path": "M -0.8513542806132368,0.5245911635564575 Q -0.1999999305074428, 0.00016672437750777952 -0.8522277184057233, -0.5231710198214109L -0.8522277184057233, -0.5231710198214109 L -0.8558536474471816, -0.5172180721430326 L -0.8594379948841323, -0.511239995451786 M -0.8594379948841323,-0.511239995451786 Q -0.19999988489310638, 0.0002145757307037798 -0.8583390200154132, 0.5130829628032684L -0.8583390200154132, 0.5130829628032684 L -0.8548660159491461, 0.5188488168775507 L -0.8513542806132368, 0.5245911635564575 ",
          "type": "path"
         },
         {
          "fillcolor": "#d0805f",
          "layer": "below",
          "line": {
           "color": "rgb(175,175,175)",
           "width": 0.5
          },
          "path": "M -0.8583390200154132,0.5130829628032684 Q -0.1947006094599865, -0.045734808143358584 -0.5401310065269357, -0.8415809502289125L -0.5401310065269357, -0.8415809502289125 L -0.5495792714414509, -0.8354415744993088 L -0.5589577608680214, -0.8291961297337367 M -0.5589577608680214,-0.8291961297337367 Q -0.19473113144749965, -0.04560467569423792 -0.8690221566513917, 0.4947731715129307L -0.8690221566513917, 0.4947731715129307 L -0.863729107288973, 0.5039563763083009 L -0.8583390200154132, 0.5130829628032684 ",
          "type": "path"
         },
         {
          "fillcolor": "#d0805f",
          "layer": "below",
          "line": {
           "color": "rgb(175,175,175)",
           "width": 0.5
          },
          "path": "M -0.8037735129120055,0.5949354082092392 Q -0.18410920146198725, -0.07812683237549949 -0.130596156189803, -0.9914356479310438L -0.130596156189803, -0.9914356479310438 L -0.13181941412506856, -0.9912737472866533 L -0.1330424713558113, -0.9911103373568142 M -0.1330424713558113,-0.9911103373568142 Q -0.18407260397891564, -0.0782130197884041 -0.8057941355459435, 0.5921957540541519L -0.8057941355459435, 0.5921957540541519 L -0.8047849900233202, 0.5935664409593626 L -0.8037735129120055, 0.5949354082092392 ",
          "type": "path"
         },
         {
          "fillcolor": "#d0805f",
          "layer": "below",
          "line": {
           "color": "rgb(175,175,175)",
           "width": 0.5
          },
          "path": "M -0.8823912458938852,0.4705164069082364 Q -0.16489653795169512, -0.11317743490442417 0.12179424413769946, -0.9925553697879662L 0.12179424413769946, -0.9925553697879662 L 0.10602344462520517, -0.9943636302629969 L 0.09022592848508833, -0.9959213231119232 M 0.09022592848508833,-0.9959213231119232 Q -0.16502058721537455, -0.11299648576435006 -0.8959098516818659, 0.4442359031633722L -0.8959098516818659, 0.4442359031633722 L -0.8892476396533484, 0.45742609826172864 L -0.8823912458938852, 0.4705164069082364 ",
          "type": "path"
         },
         {
          "fillcolor": "#d0805f",
          "layer": "below",
          "line": {
           "color": "rgb(175,175,175)",
           "width": 0.5
          },
          "path": "M -0.8383600769280546,0.5451168511550404 Q -0.13345768747641426, -0.1489598793415453 0.6336022411359624, -0.7736589688147393L 0.6336022411359624, -0.7736589688147393 L 0.6286787771591889, -0.7776650918934365 L 0.623729984016468, -0.7816398832191309 M 0.623729984016468,-0.7816398832191309 Q -0.13350425786588613, -0.1489181423859396 -0.8448781237011538, 0.5349588358847976L -0.8448781237011538, 0.5349588358847976 L -0.8416344255868586, 0.5400476772166309 L -0.8383600769280546, 0.5451168511550404 ",
          "type": "path"
         },
         {
          "fillcolor": "#d0805f",
          "layer": "below",
          "line": {
           "color": "rgb(175,175,175)",
           "width": 0.5
          },
          "path": "M -0.8057941355459435,0.5921957540541519 Q -0.10346930789236886, -0.17115519952450808 0.898825567959643, -0.43830651190921766L 0.898825567959643, -0.43830651190921766 L 0.8979971150099166, -0.44000134253643647 L 0.8971654662813969, -0.44169460729341453 M 0.8971654662813969,-0.44169460729341453 Q -0.10343465176326071, -0.17117614557704294 -0.8082612255465045, 0.5888240749817069L -0.8082612255465045, 0.5888240749817069 L -0.8070294413605738, 0.5905112029227221 L -0.8057941355459435, 0.5921957540541519 ",
          "type": "path"
         },
         {
          "fillcolor": "#d0805f",
          "layer": "below",
          "line": {
           "color": "rgb(175,175,175)",
           "width": 0.5
          },
          "path": "M -0.8082612255465045,0.5888240749817069 Q -0.08818729842686741, -0.17950766110718125 0.9600318245254168, -0.2798908642639117L 0.9600318245254168, -0.2798908642639117 L 0.9593078790608521, -0.28236216667919517 L 0.9585775720106842, -0.28483159662878277 M 0.9585775720106842,-0.28483159662878277 Q -0.08814958128698054, -0.17952618560792188 -0.8115287256954932, 0.584312525427146L -0.8115287256954932, 0.584312525427146 L -0.8098981170838614, 0.5865705754161352 L -0.8082612255465045, 0.5888240749817069 ",
          "type": "path"
         },
         {
          "fillcolor": "#d0805f",
          "layer": "below",
          "line": {
           "color": "rgb(175,175,175)",
           "width": 0.5
          },
          "path": "M -0.8000758060921896,0.5998989119059419 Q -0.07426353191257638, -0.18570117885428125 0.993107073652073, -0.11721066616232599L 0.993107073652073, -0.11721066616232599 L 0.9929505232098516, -0.11852956786085951 L 0.9927922211932445, -0.11984826047208187 M 0.9927922211932445,-0.11984826047208187 Q -0.07422282315241405, -0.18571745346974117 -0.8019284996867189, 0.597420020915108L -0.8019284996867189, 0.597420020915108 L -0.8010031118283354, 0.5986601831100204 L -0.8000758060921896, 0.5998989119059419 ",
          "type": "path"
         },
         {
          "fillcolor": "#ca6f4c",
          "layer": "below",
          "line": {
           "color": "rgb(175,175,175)",
           "width": 0.5
          },
          "path": "M -0.9355119376670087,0.35329508131662235 Q -0.19004624517394533, 0.062309106038240226 -0.9630883626020119, 0.2691854487534117L -0.9630883626020119, 0.2691854487534117 L -0.9629532142647282, 0.26966851343311904 L -0.9628178236324714, 0.27015151025976364 M -0.9628178236324714,0.27015151025976364 Q -0.19004279343680783, 0.06231963304396775 -0.9358268609026428, 0.35246004938589226L -0.9358268609026428, 0.35246004938589226 L -0.9356694924371576, 0.3528776004826489 L -0.9355119376670087, 0.35329508131662235 ",
          "type": "path"
         },
         {
          "fillcolor": "#ca6f4c",
          "layer": "below",
          "line": {
           "color": "rgb(175,175,175)",
           "width": 0.5
          },
          "path": "M -0.9358268609026428,0.35246004938589226 Q -0.19324183730173472, 0.05155184105587194 -0.9870344128068734, 0.1605087783736163L -0.9870344128068734, 0.1605087783736163 L -0.9869246756464137, 0.1611821472751279 L -0.9868144791041763, 0.16185544115152037 M -0.9868144791041763,0.16185544115152037 Q -0.1932325418008759, 0.051586672592567495 -0.9361802586113169, 0.35152030295055187L -0.9361802586113169, 0.35152030295055187 L -0.9360036776950071, 0.35199022051957796 L -0.9358268609026428, 0.35246004938589226 ",
          "type": "path"
         },
         {
          "fillcolor": "#ca6f4c",
          "layer": "below",
          "line": {
           "color": "rgb(175,175,175)",
           "width": 0.5
          },
          "path": "M -0.9406127067797005,0.33948156922661527 Q -0.19999788983884917, -0.0009187273847843874 -0.9374541328655155, -0.3481088174312229L -0.9374541328655155, -0.3481088174312229 L -0.9383735651598442, -0.345622702103325 L -0.9392864043240502, -0.34313415838706146 M -0.9392864043240502,-0.34313415838706146 Q -0.19999834959441398, -0.0008125020065085919 -0.9420433492968907, 0.33549117431833636L -0.9420433492968907, 0.33549117431833636 L -0.9413301425022716, 0.33748712985335144 L -0.9406127067797005, 0.33948156922661527 ",
          "type": "path"
         },
         {
          "fillcolor": "#ca6f4c",
          "layer": "below",
          "line": {
           "color": "rgb(175,175,175)",
           "width": 0.5
          },
          "path": "M -0.9375844090764391,0.34775778331589424 Q -0.19951168993753182, -0.01396730390126057 -0.8799851547346064, -0.47500118678452885L -0.8799851547346064, -0.47500118678452885 L -0.8807451517910915, -0.473590516793239 L -0.8815028874592279, -0.4721786308178758 M -0.8815028874592279,-0.4721786308178758 Q -0.1995184657855434, -0.013870177020606523 -0.938357960108335, 0.345665067227402L -0.938357960108335, 0.345665067227402 L -0.937971768226956, 0.34671164100617896 L -0.9375844090764391, 0.34775778331589424 ",
          "type": "path"
         },
         {
          "fillcolor": "#ca6f4c",
          "layer": "below",
          "line": {
           "color": "rgb(175,175,175)",
           "width": 0.5
          },
          "path": "M -0.9393565927357354,0.3429419654750784 Q -0.19310241197409866, -0.05207166686198442 -0.6395883790533932, -0.7687175719208278L -0.6395883790533932, -0.7687175719208278 L -0.6416724263541322, -0.7669788114783881 L -0.6437517467486161, -0.765234401055066 M -0.6437517467486161,-0.765234401055066 Q -0.19314782154089852, -0.05190297712082825 -0.9406127067797005, 0.33948156922661527L -0.9406127067797005, 0.33948156922661527 L -0.9399862421151113, 0.3412123453720739 L -0.9393565927357354, 0.3429419654750784 ",
          "type": "path"
         },
         {
          "fillcolor": "#ca6f4c",
          "layer": "below",
          "line": {
           "color": "rgb(175,175,175)",
           "width": 0.5
          },
          "path": "M -0.938357960108335,0.345665067227402 Q -0.17089054872490925, -0.10390582445897545 -0.1249221189935857, -0.9921665506285486L -0.1249221189935857, -0.9921665506285486 L -0.12636883784405076, -0.9919833248709093 L -0.1278152879627023, -0.991797989594157 M -0.1278152879627023,-0.991797989594157 Q -0.1708913856989774, -0.10390444790230756 -0.9393565927357354, 0.3429419654750784L -0.9393565927357354, 0.3429419654750784 L -0.9388582636965976, 0.3443038784106416 L -0.938357960108335, 0.345665067227402 ",
          "type": "path"
         },
         {
          "fillcolor": "#ca6f4c",
          "layer": "below",
          "line": {
           "color": "rgb(175,175,175)",
           "width": 0.5
          },
          "path": "M -0.9493986049973595,0.31407369967742865 Q -0.15816815744773635, -0.12240438705205009 0.0658663004350972, -0.9978284574349409L 0.0658663004350972, -0.9978284574349409 L 0.056658286327140234, -0.998393629081472 L 0.047445450205650434, -0.9988738304985185 M 0.047445450205650434,-0.9988738304985185 Q -0.1585388098824298, -0.12192393432408087 -0.9532147857746561, 0.3022938507157836L -0.9532147857746561, 0.3022938507157836 L -0.9513249286635123, 0.3081896820196344 L -0.9493986049973595, 0.31407369967742865 ",
          "type": "path"
         },
         {
          "fillcolor": "#ca6f4c",
          "layer": "below",
          "line": {
           "color": "rgb(175,175,175)",
           "width": 0.5
          },
          "path": "M -0.9351172358646991,0.35433847545639846 Q -0.12129808132985453, -0.15901816080465778 0.588922359952235, -0.8081896150955481L 0.588922359952235, -0.8081896150955481 L 0.5885934706045942, -0.8084291721367053 L 0.5882644838119029, -0.8086685953377413 M 0.5882644838119029,-0.8086685953377413 Q -0.12131843417368054, -0.15900263371921342 -0.9353147322611853, 0.35381683342541403L -0.9353147322611853, 0.35381683342541403 L -0.9352160204329371, 0.3540776682107759 L -0.9351172358646991, 0.35433847545639846 ",
          "type": "path"
         },
         {
          "fillcolor": "#ca6f4c",
          "layer": "below",
          "line": {
           "color": "rgb(175,175,175)",
           "width": 0.5
          },
          "path": "M -0.9361802586113169,0.35152030295055187 Q -0.0794173814636249, -0.18355620262323225 0.8971654662813969, -0.44169460729341453L 0.8971654662813969, -0.44169460729341453 L 0.8968257308986288, -0.44238400558580354 L 0.8964854657697475, -0.44307314256632496 M 0.8964854657697475,-0.44307314256632496 Q -0.07944583336216386, -0.183543890013782 -0.936610907564716, 0.35037124287075705L -0.936610907564716, 0.35037124287075705 L -0.9363957593408425, 0.3509458389673354 L -0.9361802586113169, 0.35152030295055187 ",
          "type": "path"
         },
         {
          "fillcolor": "#ca6f4c",
          "layer": "below",
          "line": {
           "color": "rgb(175,175,175)",
           "width": 0.5
          },
          "path": "M -0.9353147322611853,0.35381683342541403 Q -0.06550455661172376, -0.1889686562980789 0.9536328023334989, -0.3009725540868432L 0.9536328023334989, -0.3009725540868432 L 0.9535250952658049, -0.3013136118703197 L 0.9534172662220133, -0.30165463110939095 M 0.9534172662220133,-0.30165463110939095 Q -0.06551944189304276, -0.18896349577107266 -0.9355119376670087, 0.35329508131662235L -0.9355119376670087, 0.35329508131662235 L -0.9354133713417665, 0.3535559711205998 L -0.9353147322611853, 0.35381683342541403 ",
          "type": "path"
         },
         {
          "fillcolor": "#ca6f4c",
          "layer": "below",
          "line": {
           "color": "rgb(175,175,175)",
           "width": 0.5
          },
          "path": "M -0.9348798561677603,0.35496430036237137 Q -0.0489285329934831, -0.19392266154089788 0.9913759745156252, -0.13104837714826725L 0.9913759745156252, -0.13104837714826725 L 0.9913498468525036, -0.13124588048970406 L 0.9913236798424839, -0.13144337862196154 M 0.9913236798424839,-0.13144337862196154 Q -0.048934717344609364, -0.1939211010653642 -0.9349985983768462, 0.3546514077701273L -0.9349985983768462, 0.3546514077701273 L -0.9349392403616265, 0.35480785903362516 L -0.9348798561677603, 0.35496430036237137 ",
          "type": "path"
         },
         {
          "fillcolor": "#c45e3a",
          "layer": "below",
          "line": {
           "color": "rgb(175,175,175)",
           "width": 0.5
          },
          "path": "M -0.9625463156193654,0.27111729986776023 Q -0.1990519367195238, 0.019450616653636087 -0.9968224881500863, -0.07965505080201152L -0.9968224881500863, -0.07965505080201152 L -0.9968706829243106, -0.07904961433187722 L -0.9969185099768094, -0.07844414870223344 M -0.9969185099768094,-0.07844414870223344 Q -0.19904987894282922, 0.01947166384377682 -0.9628178236324714, 0.27015151025976364L -0.9628178236324714, 0.27015151025976364 L -0.9626821907393079, 0.2706344391118152 L -0.9625463156193654, 0.27111729986776023 ",
          "type": "path"
         },
         {
          "fillcolor": "#c45e3a",
          "layer": "below",
          "line": {
           "color": "rgb(175,175,175)",
           "width": 0.5
          },
          "path": "M -0.966484877253201,0.2567235517845316 Q -0.19974248495828625, -0.01014592049489831 -0.9354969639311346, -0.353334728657727L -0.9354969639311346, -0.353334728657727 L -0.936479193727752, -0.3507231382658114 L -0.9374541328655155, -0.3481088174312229 M -0.9374541328655155,-0.3481088174312229 Q -0.19974533942293354, -0.010089567821124525 -0.9677604738680871, 0.2518723192782716L -0.9677604738680871, 0.2518723192782716 L -0.9671257173696634, 0.254298735353155 L -0.966484877253201, 0.2567235517845316 ",
          "type": "path"
         },
         {
          "fillcolor": "#c45e3a",
          "layer": "below",
          "line": {
           "color": "rgb(175,175,175)",
           "width": 0.5
          },
          "path": "M -0.9640276138549664,0.26580210632178936 Q -0.19859947819617974, -0.02362725672195419 -0.8747573551853107, -0.484561213418078L -0.8747573551853107, -0.484561213418078 L -0.8761899343023118, -0.48196597289363735 L -0.8776148138509304, -0.47936649706607226 M -0.8776148138509304,-0.47936649706607226 Q -0.1986146627832266, -0.023499270786668736 -0.9652505351325983, 0.26132624136552485L -0.9652505351325983, 0.26132624136552485 L -0.9646416704569618, 0.26356488312748 L -0.9640276138549664, 0.26580210632178936 ",
          "type": "path"
         },
         {
          "fillcolor": "#c45e3a",
          "layer": "below",
          "line": {
           "color": "rgb(175,175,175)",
           "width": 0.5
          },
          "path": "M -0.9715896243701286,0.23667192866141157 Q -0.18930094102840314, -0.06453800218290799 -0.6246763324074077, -0.7808837811928416L -0.6246763324074077, -0.7808837811928416 L -0.6275621742923113, -0.7785664502131509 L -0.6304394197638703, -0.7762384543474992 M -0.6304394197638703,-0.7762384543474992 Q -0.18935763019495364, -0.06437148349192512 -0.9729097239374308, 0.23118535651721586L -0.9729097239374308, 0.23118535651721586 L -0.9722535443548684, 0.2339295737810758 L -0.9715896243701286, 0.23667192866141157 ",
          "type": "path"
         },
         {
          "fillcolor": "#c45e3a",
          "layer": "below",
          "line": {
           "color": "rgb(175,175,175)",
           "width": 0.5
          },
          "path": "M -0.9622738388359575,0.27208281660536693 Q -0.1674027395994323, -0.10943638688573679 -0.13682154117468687, -0.9905957126247739L -0.13682154117468687, -0.9905957126247739 L -0.13726600784075313, -0.9905342210602631 L -0.13771044687080286, -0.9904725300696854 M -0.13771044687080286,-0.9904725300696854 Q -0.16739694867012778, -0.10944524464740629 -0.9625463156193654, 0.27111729986776023L -0.9625463156193654, 0.27111729986776023 L -0.9624101983068322, 0.27160009240610355 L -0.9622738388359575, 0.27208281660536693 ",
          "type": "path"
         },
         {
          "fillcolor": "#c45e3a",
          "layer": "below",
          "line": {
           "color": "rgb(175,175,175)",
           "width": 0.5
          },
          "path": "M -0.9690117200775947,0.24701474926056777 Q -0.16053435042647105, -0.11928420823038982 -0.04311488399105354, -0.9990701210517898L -0.04311488399105354, -0.9990701210517898 L -0.046519029455622724, -0.9989174039421412 L -0.049922634763139746, -0.9987530878742283 M -0.049922634763139746,-0.9987530878742283 Q -0.16063411117013532, -0.1191498314248938 -0.9702689433451622, 0.24202929074775725L -0.9702689433451622, 0.24202929074775725 L -0.9696435358318529, 0.24452282801305522 L -0.9690117200775947, 0.24701474926056777 ",
          "type": "path"
         },
         {
          "fillcolor": "#c45e3a",
          "layer": "below",
          "line": {
           "color": "rgb(175,175,175)",
           "width": 0.5
          },
          "path": "M -0.9652505351325983,0.26132624136552485 Q -0.11214266499654445, -0.16560200085588583 0.6009572244735735, -0.7992811860371911L 0.6009572244735735, -0.7992811860371911 L 0.5984827142730502, -0.8011357192862908 L 0.5960024810849804, -0.8029825916796376 M 0.5960024810849804,-0.8029825916796376 Q -0.11226015839852749, -0.16552237563646047 -0.966484877253201, 0.2567235517845316L -0.966484877253201, 0.2567235517845316 L -0.9658704478625373, 0.25902563183171995 L -0.9652505351325983, 0.26132624136552485 ",
          "type": "path"
         },
         {
          "fillcolor": "#c45e3a",
          "layer": "below",
          "line": {
           "color": "rgb(175,175,175)",
           "width": 0.5
          },
          "path": "M -0.9622397111350174,0.2722034869629671 Q -0.07248089991587078, -0.18640418221538252 0.8933678823338351, -0.44932596944129427L 0.8933678823338351, -0.44932596944129427 L 0.893336486005018, -0.4493883874469903 L 0.8933050853151672, -0.4494508032588904 M 0.8933050853151672,-0.4494508032588904 Q -0.07248223600004557, -0.18640366269050002 -0.9622738388359575, 0.27208281660536693L -0.9622738388359575, 0.27208281660536693 L -0.962256776877048, 0.2721431523191334 L -0.9622397111350174, 0.2722034869629671 ",
          "type": "path"
         },
         {
          "fillcolor": "#c45e3a",
          "layer": "below",
          "line": {
           "color": "rgb(175,175,175)",
           "width": 0.5
          },
          "path": "M -0.9702689433451622,0.24202929074775725 Q -0.051594134121988204, -0.19323054966594255 0.9617746576575708, -0.27384212219390663L 0.9617746576575708, -0.27384212219390663 L 0.9609080005704475, -0.27686786458472384 L 0.9600318245254168, -0.2798908642639117 M 0.9600318245254168,-0.2798908642639117 Q -0.05166920763588903, -0.19321048879985628 -0.9715896243701286, 0.23667192866141157L -0.9715896243701286, 0.23667192866141157 L -0.970932978935442, 0.23935152060421241 L -0.9702689433451622, 0.24202929074775725 ",
          "type": "path"
         },
         {
          "fillcolor": "#c45e3a",
          "layer": "below",
          "line": {
           "color": "rgb(175,175,175)",
           "width": 0.5
          },
          "path": "M -0.963525920937951,0.26761502140327126 Q -0.039507910723015, -0.19605898344707973 0.991974447376159, -0.12643850581513508L 0.991974447376159, -0.12643850581513508 L 0.9918480072906257, -0.12742656879008754 L 0.9917205830384146, -0.12841450532532148 M 0.9917205830384146,-0.12841450532532148 Q -0.039518810387045356, -0.1960567867368859 -0.9640276138549664, 0.26580210632178936L -0.9640276138549664, 0.26580210632178936 L -0.9637771936700105, 0.2667086818263684 L -0.963525920937951, 0.26761502140327126 ",
          "type": "path"
         },
         {
          "fillcolor": "#bf4d28",
          "layer": "below",
          "line": {
           "color": "rgb(175,175,175)",
           "width": 0.5
          },
          "path": "M -0.9995527153908395,0.029906005330023896 Q -0.1988156656634427, -0.021733179399300518 -0.9694856866402892, -0.24514792146703382L -0.9694856866402892, -0.24514792146703382 L -0.9738602692351617, -0.22714791657688255 L -0.9779006841937976, -0.20906996879825332 M -0.9779006841937976,-0.20906996879825332 Q -0.19881626571912203, -0.02172768937331955 -0.9999749173567417, -0.007082701276891735L -0.9999749173567417, -0.007082701276891735 L -0.9999348626957656, 0.011413604408793599 L -0.9995527153908395, 0.029906005330023896 ",
          "type": "path"
         },
         {
          "fillcolor": "#bf4d28",
          "layer": "below",
          "line": {
           "color": "rgb(175,175,175)",
           "width": 0.5
          },
          "path": "M -0.9879427565685265,0.15481960387425528 Q -0.19924582785280076, -0.01735223568454757 -0.946305914607025, -0.32327251039913996L -0.946305914607025, -0.32327251039913996 L -0.9466661224183643, -0.3222161582934325 L -0.9470251510345133, -0.32115940482579225 M -0.9470251510345133,-0.32115940482579225 Q -0.19924414696445905, -0.017371525563549286 -0.988315408575026, 0.15242261371981325L -0.988315408575026, 0.15242261371981325 L -0.9881298093947931, 0.15362122179376714 L -0.9879427565685265, 0.15481960387425528 ",
          "type": "path"
         },
         {
          "fillcolor": "#bf4d28",
          "layer": "below",
          "line": {
           "color": "rgb(175,175,175)",
           "width": 0.5
          },
          "path": "M -0.9875881154485855,0.15706595501480033 Q -0.19735369279323853, -0.03242714820751342 -0.885406584320072, -0.4648173624582704L -0.885406584320072, -0.4648173624582704 L -0.8859645514473387, -0.4637529661131193 L -0.8865212390053337, -0.46268789998491194 M -0.8865212390053337,-0.46268789998491194 Q -0.19735579008544696, -0.0324143813723014 -0.9879427565685265, 0.15481960387425528L -0.9879427565685265, 0.15481960387425528 L -0.9877660745827093, 0.15594288025897698 L -0.9875881154485855, 0.15706595501480033 ",
          "type": "path"
         },
         {
          "fillcolor": "#bf4d28",
          "layer": "below",
          "line": {
           "color": "rgb(175,175,175)",
           "width": 0.5
          },
          "path": "M -0.9949935147463771,0.09993950976791471 Q -0.1817192921196743, -0.08353501584081058 -0.5719816507522201, -0.8202664147719114L -0.5719816507522201, -0.8202664147719114 L -0.578104809106054, -0.8159625173305775 L -0.5841955839932221, -0.8116129124421433 M -0.5841955839932221,-0.8116129124421433 Q -0.18176822198878936, -0.08342849318448822 -0.9962776059777568, 0.0862028527789504L -0.9962776059777568, 0.0862028527789504 L -0.9956592504435416, 0.09307339580247799 L -0.9949935147463771, 0.09993950976791471 ",
          "type": "path"
         },
         {
          "fillcolor": "#bf4d28",
          "layer": "below",
          "line": {
           "color": "rgb(175,175,175)",
           "width": 0.5
          },
          "path": "M -0.9866421492894227,0.16290263731919294 Q -0.1610727486957854, -0.11855618763938208 -0.13771044687080286, -0.9904725300696854L -0.13771044687080286, -0.9904725300696854 L -0.13809930828158307, -0.9904183868709973 L -0.13848814840509005, -0.9903640910045809 M -0.13848814840509005,-0.9903640910045809 Q -0.16105638310111414, -0.11857841904152361 -0.9868144791041763, 0.16185544115152037L -0.9868144791041763, 0.16185544115152037 L -0.9867284531179848, 0.16237906209665298 L -0.9866421492894227, 0.16290263731919294 ",
          "type": "path"
         },
         {
          "fillcolor": "#bf4d28",
          "layer": "below",
          "line": {
           "color": "rgb(175,175,175)",
           "width": 0.5
          },
          "path": "M -0.9935887760923715,0.11305460637790563 Q -0.14807223025605903, -0.13444186337222733 0.0168774399393134, -0.9998575658668063L 0.0168774399393134, -0.9998575658668063 L 0.009647392204628574, -0.9999534628289709 L 0.0024168400773970887, -0.9999970794377553 M 0.0024168400773970887,-0.9999970794377553 Q -0.14815765101304532, -0.13434772214777843 -0.9949935147463771, 0.09993950976791471L -0.9949935147463771, 0.09993950976791471 L -0.9943127693533578, 0.10649937418058528 L -0.9935887760923715, 0.11305460637790563 ",
          "type": "path"
         },
         {
          "fillcolor": "#bf4d28",
          "layer": "below",
          "line": {
           "color": "rgb(175,175,175)",
           "width": 0.5
          },
          "path": "M -0.9999749173567417,-0.007082701276891735 Q -0.06084463156810879, -0.19052015853799067 0.8107709214165485, -0.5853635733331559L 0.8107709214165485, -0.5853635733331559 L 0.7981562048603498, -0.6024505561811055 L 0.7851814431875568, -0.619265775958841 M 0.7851814431875568,-0.619265775958841 Q -0.06112160442991241, -0.19043148235497542 -0.9989119283103368, -0.046636460836178714L -0.9989119283103368, -0.046636460836178714 L -0.9996390750761193, -0.026864839120322163 L -0.9999749173567417, -0.007082701276891735 ",
          "type": "path"
         },
         {
          "fillcolor": "#bf4d28",
          "layer": "below",
          "line": {
           "color": "rgb(175,175,175)",
           "width": 0.5
          },
          "path": "M -0.9870344128068734,0.1605087783736163 Q -0.061033617547633756, -0.1904597005380644 0.8964854657697475, -0.44307314256632496L 0.8964854657697475, -0.44307314256632496 L 0.8961446710957446, -0.44376201782791164 L 0.8958033470779245, -0.4444506309636509 M 0.8958033470779245,-0.4444506309636509 Q -0.06102118040174688, -0.1904636856263615 -0.9873007249404456, 0.1588624516116711L -0.9873007249404456, 0.1588624516116711 L -0.987167912076706, 0.15968567050965118 L -0.9870344128068734, 0.1605087783736163 ",
          "type": "path"
         },
         {
          "fillcolor": "#bf4d28",
          "layer": "below",
          "line": {
           "color": "rgb(175,175,175)",
           "width": 0.5
          },
          "path": "M -0.9986538010585576,0.05187085531678495 Q -0.02375854108264196, -0.19858381536677258 0.98270487655296, -0.18517863159401415L 0.98270487655296, -0.18517863159401415 L 0.9807313480900144, -0.19536126246915764 L 0.9786523117776552, -0.20552287622610552 M 0.9786523117776552,-0.20552287622610552 Q -0.023635478658568358, -0.19859849986487904 -0.9995527153908395, 0.029906005330023896L -0.9995527153908395, 0.029906005330023896 L -0.9991636173590109, 0.040890900528798284 L -0.9986538010585576, 0.05187085531678495 ",
          "type": "path"
         },
         {
          "fillcolor": "#bf4d28",
          "layer": "below",
          "line": {
           "color": "rgb(175,175,175)",
           "width": 0.5
          },
          "path": "M -0.9962776059777568,0.0862028527789504 Q -0.015144887459447108, -0.1994257565708118 0.997869755369059, -0.06523765262250289L 0.997869755369059, -0.06523765262250289 L 0.9974383315090823, -0.07153163521392514 L 0.9969672092609831, -0.07782277082170133 M 0.9969672092609831,-0.07782277082170133 Q -0.014966836477086316, -0.19943919826821446 -0.9974158146102995, 0.07184492163871149L -0.9974158146102995, 0.07184492163871149 L -0.996872560245633, 0.07902593643429247 L -0.9962776059777568, 0.0862028527789504 ",
          "type": "path"
         },
         {
          "fillcolor": "#af4624",
          "layer": "below",
          "line": {
           "color": "rgb(175,175,175)",
           "width": 0.5
          },
          "path": "M -0.9967003925489778,-0.08116851293890796 Q -0.19575469430499026, -0.040989018743558765 -0.9455365597617243, -0.32551591997007306L -0.9455365597617243, -0.32551591997007306 L -0.9459219022615152, -0.3243944432661516 L -0.946305914607025, -0.32327251039913996 M -0.946305914607025,-0.32327251039913996 Q -0.1957503980030002, -0.041009531595313516 -0.996487556573823, -0.0837409672354688L -0.996487556573823, -0.0837409672354688 L -0.9965948045782529, -0.0824548087599135 L -0.9967003925489778, -0.08116851293890796 ",
          "type": "path"
         },
         {
          "fillcolor": "#af4624",
          "layer": "below",
          "line": {
           "color": "rgb(175,175,175)",
           "width": 0.5
          },
          "path": "M -0.996487556573823,-0.0837409672354688 Q -0.19186032995325564, -0.05647666589156869 -0.8829363481404773, -0.46949271041450463L -0.8829363481404773, -0.46949271041450463 L -0.8835749844000874, -0.46828970407471615 L -0.8842119815569514, -0.4670858290198169 M -0.8842119815569514,-0.4670858290198169 Q -0.19186436140056579, -0.056462968610878794 -0.9962680811811873, -0.08631286358101653L -0.9962680811811873, -0.08631286358101653 L -0.9963786487143317, -0.08502698622321275 L -0.996487556573823, -0.0837409672354688 ",
          "type": "path"
         },
         {
          "fillcolor": "#af4624",
          "layer": "below",
          "line": {
           "color": "rgb(175,175,175)",
           "width": 0.5
          },
          "path": "M -0.9925917120365532,-0.12149770860532433 Q -0.17408845756897456, -0.0984540956042731 -0.6156436144307336, -0.7880247077412371L -0.6156436144307336, -0.7880247077412371 L -0.6201702514948088, -0.7844672454353118 L -0.6246763324074077, -0.7808837811928416 M -0.6246763324074077,-0.7808837811928416 Q -0.17413204929239678, -0.09837697601182044 -0.9912443140192718, -0.1320405616636918L -0.9912443140192718, -0.1320405616636918 L -0.9919320201036433, -0.12677092526721342 L -0.9925917120365532, -0.12149770860532433 ",
          "type": "path"
         },
         {
          "fillcolor": "#af4624",
          "layer": "below",
          "line": {
           "color": "rgb(175,175,175)",
           "width": 0.5
          },
          "path": "M -0.9969541389381832,-0.0779900304784254 Q -0.14571283811171087, -0.1369955065300696 -0.13926576455053374, -0.9902550413020654L -0.13926576455053374, -0.9902550413020654 L -0.1394323854263944, -0.9902315940699455 L -0.13959900235460598, -0.9902081188021025 M -0.13959900235460598,-0.9902081188021025 Q -0.14570468739914527, -0.1370041753740278 -0.9969185099768094, -0.07844414870223344L -0.9969185099768094, -0.07844414870223344 L -0.996936350314634, -0.07821709161901448 L -0.9969541389381832, -0.0779900304784254 ",
          "type": "path"
         },
         {
          "fillcolor": "#af4624",
          "layer": "below",
          "line": {
           "color": "rgb(175,175,175)",
           "width": 0.5
          },
          "path": "M -0.9897415976289915,-0.14286906566087523 Q -0.13074703089842665, -0.1513446857714068 0.0024168400773970887, -0.9999970794377553L 0.0024168400773970887, -0.9999970794377553 L -0.004148953196004002, -0.999991393056649 L -0.010714567609386848, -0.9999425973729411 M -0.010714567609386848,-0.9999425973729411 Q -0.13083300529943984, -0.15127036961783613 -0.9879566928246143, -0.15473064694187366L -0.9879566928246143, -0.15473064694187366 L -0.9888669305287745, -0.14880253259471043 L -0.9897415976289915, -0.14286906566087523 ",
          "type": "path"
         },
         {
          "fillcolor": "#af4624",
          "layer": "below",
          "line": {
           "color": "rgb(175,175,175)",
           "width": 0.5
          },
          "path": "M -0.9694856866402892,-0.24514792146703382 Q -0.03299190606678207, -0.19726006725660578 0.8369521255127816, -0.5472761091073107L 0.8369521255127816, -0.5472761091073107 L 0.8240815940052948, -0.5664711170233593 L 0.8107709214165485, -0.5853635733331559 M 0.8107709214165485,-0.5853635733331559 Q -0.0332976410380429, -0.19720868921348686 -0.9580164596497882, -0.2867132069509282L -0.9580164596497882, -0.2867132069509282 L -0.9639751289465683, -0.26599238856111446 L -0.9694856866402892, -0.24514792146703382 ",
          "type": "path"
         },
         {
          "fillcolor": "#af4624",
          "layer": "below",
          "line": {
           "color": "rgb(175,175,175)",
           "width": 0.5
          },
          "path": "M -0.9968224881500863,-0.07965505080201152 Q -0.03785243481843998, -0.19638531813329568 0.8958033470779245, -0.4444506309636509L 0.8958033470779245, -0.4444506309636509 L 0.8954925933379781, -0.4450764150983766 L 0.8951814024421255, -0.44570198195851607 M 0.8951814024421255,-0.44570198195851607 Q -0.03784055435479045, -0.1963876076694305 -0.9967003925489778, -0.08116851293890796L -0.9967003925489778, -0.08116851293890796 L -0.9967617276007259, -0.08041180504388862 L -0.9968224881500863, -0.07965505080201152 ",
          "type": "path"
         },
         {
          "fillcolor": "#af4624",
          "layer": "below",
          "line": {
           "color": "rgb(175,175,175)",
           "width": 0.5
          },
          "path": "M -0.9853902444898747,-0.17031167330569263 Q -0.0035850084356063372, -0.19996786670491995 0.9786523117776552, -0.20552287622610552L 0.9786523117776552, -0.20552287622610552 L 0.9767141803941723, -0.21454465692936767 L 0.9746928828918391, -0.2235481693953133 M 0.9746928828918391,-0.2235481693953133 Q -0.0034718464402473843, -0.19996986343520703 -0.9818655289233316, -0.18957869899360083L -0.9818655289233316, -0.18957869899360083 L -0.9836750602087118, -0.17995381608453695 L -0.9853902444898747, -0.17031167330569263 ",
          "type": "path"
         },
         {
          "fillcolor": "#af4624",
          "layer": "below",
          "line": {
           "color": "rgb(175,175,175)",
           "width": 0.5
          },
          "path": "M -0.9879566928246143,-0.15473064694187366 Q 0.010383695684699568, -0.19973026526775445 0.9986756528681173, -0.051448424353323995L 0.9986756528681173, -0.051448424353323995 L 0.9982965128118515, -0.058344429962909436 L 0.997869755369059, -0.06523765262250289 M 0.997869755369059,-0.06523765262250289 Q 0.010581251350532683, -0.19971989665493234 -0.9853902444898747, -0.17031167330569263L -0.9853902444898747, -0.17031167330569263 L -0.9867042240954256, -0.1625262260444267 L -0.9879566928246143, -0.15473064694187366 ",
          "type": "path"
         },
         {
          "fillcolor": "#9f4021",
          "layer": "below",
          "line": {
           "color": "rgb(175,175,175)",
           "width": 0.5
          },
          "path": "M -0.9226609325714107,-0.3856122450162271 Q -0.17727029802265104, -0.09260259952593383 -0.8435634811498056, -0.537029471510104L -0.8435634811498056, -0.537029471510104 L -0.8479239130330604, -0.5301179469766168 L -0.8522277184057233, -0.5231710198214109 M -0.8522277184057233,-0.5231710198214109 Q -0.17736808781315372, -0.09241515798561074 -0.9170804443533563, -0.3987022179329461L -0.9170804443533563, -0.3987022179329461 L -0.9198939723359423, -0.3921671578039148 L -0.9226609325714107, -0.3856122450162271 ",
          "type": "path"
         },
         {
          "fillcolor": "#9f4021",
          "layer": "below",
          "line": {
           "color": "rgb(175,175,175)",
           "width": 0.5
          },
          "path": "M -0.9271686697098763,-0.3746441750627098 Q -0.15732652620643794, -0.12348426681895552 -0.5841955839932221, -0.8116129124421433L -0.5841955839932221, -0.8116129124421433 L -0.5898552167948318, -0.8075090236151681 L -0.5954860213977788, -0.8033656691195138 M -0.5954860213977788,-0.8033656691195138 Q -0.15745755292128572, -0.12331714815077631 -0.9226609325714107, -0.3856122450162271L -0.9226609325714107, -0.3856122450162271 L -0.924931059057194, -0.38013489183622384 L -0.9271686697098763, -0.3746441750627098 ",
          "type": "path"
         },
         {
          "fillcolor": "#9f4021",
          "layer": "below",
          "line": {
           "color": "rgb(175,175,175)",
           "width": 0.5
          },
          "path": "M -0.942219205008714,-0.3349969697068122 Q -0.12508114315595903, -0.15605994882351618 -0.12180521089679083, -0.9925540240200471L -0.12180521089679083, -0.9925540240200471 L -0.12336381707217009, -0.9923615110620646 L -0.1249221189935857, -0.9921665506285486 M -0.1249221189935857,-0.9921665506285486 Q -0.12502141211533216, -0.15610780413768005 -0.940903430364939, -0.33867496914813544L -0.940903430364939, -0.33867496914813544 L -0.9415631135957513, -0.33683661189941094 L -0.942219205008714, -0.3349969697068122 ",
          "type": "path"
         },
         {
          "fillcolor": "#9f4021",
          "layer": "below",
          "line": {
           "color": "rgb(175,175,175)",
           "width": 0.5
          },
          "path": "M -0.9098727736005201,-0.4148873773212396 Q -0.1004699655055566, -0.17293289459010472 0.09022592848508833, -0.9959213231119232L 0.09022592848508833, -0.9959213231119232 L 0.07805193958287954, -0.996949293960004 L 0.0658663004350972, -0.9978284574349409 M 0.0658663004350972,-0.9978284574349409 Q -0.10080931227182609, -0.17273529621730893 -0.9011735609499261, -0.4334584328915864L -0.9011735609499261, -0.4334584328915864 L -0.9055707744281508, -0.42419520565607427 L -0.9098727736005201, -0.4148873773212396 ",
          "type": "path"
         },
         {
          "fillcolor": "#9f4021",
          "layer": "below",
          "line": {
           "color": "rgb(175,175,175)",
           "width": 0.5
          },
          "path": "M -0.940903430364939,-0.33867496914813544 Q -0.0578392801783591, -0.19145395704568052 0.5960024810849804, -0.8029825916796376L 0.5960024810849804, -0.8029825916796376 L 0.5937784934075856, -0.8046285483169348 L 0.5915499601809903, -0.8062683452857794 M 0.5915499601809903,-0.8062683452857794 Q -0.05791492982466576, -0.19143108656486293 -0.9392864043240502, -0.34313415838706146L -0.9392864043240502, -0.34313415838706146 L -0.9400975612717646, -0.3409055225291618 L -0.940903430364939, -0.33867496914813544 ",
          "type": "path"
         },
         {
          "fillcolor": "#9f4021",
          "layer": "below",
          "line": {
           "color": "rgb(175,175,175)",
           "width": 0.5
          },
          "path": "M -0.9484494646249152,-0.31692840366983777 Q -0.014116822610362066, -0.19950116621059533 0.894370261314025, -0.4473274367586709L 0.894370261314025, -0.4473274367586709 L 0.8941826556585842, -0.4477023322692901 L 0.8939948928572253, -0.44807714909956986 M 0.8939948928572253,-0.44807714909956986 Q -0.014116959748416341, -0.19950115650657665 -0.9481838448251707, -0.317722200062502L -0.9481838448251707, -0.317722200062502 L -0.9483167377817785, -0.31732532965857846 L -0.9484494646249152, -0.31692840366983777 ",
          "type": "path"
         },
         {
          "fillcolor": "#9f4021",
          "layer": "below",
          "line": {
           "color": "rgb(175,175,175)",
           "width": 0.5
          },
          "path": "M -0.9476951498344143,-0.3191769148612209 Q 0.0027159282604481798, -0.19998155848398647 0.9560134439632767, -0.293322851072798L 0.9560134439632767, -0.293322851072798 L 0.9556981634696959, -0.29434846753575994 L 0.9553817826894988, -0.29537374511800335 M 0.9553817826894988,-0.29537374511800335 Q 0.0027105968700325733, -0.1999816308179533 -0.9470251510345133, -0.32115940482579225L -0.9470251510345133, -0.32115940482579225 L -0.9473606690156737, -0.3201683351022945 L -0.9476951498344143, -0.3191769148612209 ",
          "type": "path"
         },
         {
          "fillcolor": "#9f4021",
          "layer": "below",
          "line": {
           "color": "rgb(175,175,175)",
           "width": 0.5
          },
          "path": "M -0.9446246276566076,-0.3281528802625621 Q 0.021974265977582244, -0.1987891637759626 0.9934907848150171, -0.11391251242792158L 0.9934907848150171, -0.11391251242792158 L 0.9933002981329568, -0.11556174855452436 L 0.993107073652073, -0.11721066616232599 M 0.993107073652073,-0.11721066616232599 Q 0.02199089879435208, -0.19878732447069297 -0.9434743716981598, -0.33144548563642034L -0.9434743716981598, -0.33144548563642034 L -0.9440509351479165, -0.3297996844242643 L -0.9446246276566076, -0.3281528802625621 ",
          "type": "path"
         },
         {
          "fillcolor": "#8f391e",
          "layer": "below",
          "line": {
           "color": "rgb(175,175,175)",
           "width": 0.5
          },
          "path": "M -0.8115734769427446,-0.5842503671569786 Q -0.1214014745091417, -0.15893923992207282 -0.35015684626100535, -0.9366910819563442L -0.35015684626100535, -0.9366910819563442 L -0.3814620316738412, -0.9243845078706509 L -0.4123356056151688, -0.9110320237741217 M -0.4123356056151688,-0.9110320237741217 Q -0.12153977242250756, -0.15883350943514746 -0.7715686672213112, -0.6361460459378251L -0.7715686672213112, -0.6361460459378251 L -0.7919962452727426, -0.6105259597051362 L -0.8115734769427446, -0.5842503671569786 ",
          "type": "path"
         },
         {
          "fillcolor": "#8f391e",
          "layer": "below",
          "line": {
           "color": "rgb(175,175,175)",
           "width": 0.5
          },
          "path": "M -0.8747573551853107,-0.484561213418078 Q -0.11058885559498358, -0.1666436467981659 -0.10664941302026418, -0.9942966874642765L -0.10664941302026418, -0.9942966874642765 L -0.10960462212944178, -0.9939752646861301 L -0.11255886270932292, -0.9936450585725185 M -0.11255886270932292,-0.9936450585725185 Q -0.11037652213027356, -0.16678436186413054 -0.8706106968813697, -0.4919725749223586L -0.8706106968813697, -0.4919725749223586 L -0.8726918937194252, -0.48827129614221987 L -0.8747573551853107, -0.484561213418078 ",
          "type": "path"
         },
         {
          "fillcolor": "#8f391e",
          "layer": "below",
          "line": {
           "color": "rgb(175,175,175)",
           "width": 0.5
          },
          "path": "M -0.7715686672213112,-0.6361460459378251 Q -0.05025969254193788, -0.19358192918139305 0.3646531720967768, -0.931143417567755L 0.3646531720967768, -0.931143417567755 L 0.3313071048954153, -0.9435229738834229 L 0.29754186343506595, -0.9547087720889489 M 0.29754186343506595,-0.9547087720889489 Q -0.05050763424860399, -0.19351738651245073 -0.7261612918076589, -0.6875243837713919L -0.7261612918076589, -0.6875243837713919 L -0.749305472382836, -0.6622245155965876 L -0.7715686672213112, -0.6361460459378251 ",
          "type": "path"
         },
         {
          "fillcolor": "#8f391e",
          "layer": "below",
          "line": {
           "color": "rgb(175,175,175)",
           "width": 0.5
          },
          "path": "M -0.8706106968813697,-0.4919725749223586 Q -0.03927370739069727, -0.19610603230851897 0.6140141634405142, -0.7892950063787593L 0.6140141634405142, -0.7892950063787593 L 0.6101530277249774, -0.7922835873335021 L 0.6062773459703283, -0.7952532802592988 M 0.6062773459703283,-0.7952532802592988 Q -0.039288517020769236, -0.19610306583607695 -0.8658406042931809, -0.5003199455920374L -0.8658406042931809, -0.5003199455920374 L -0.8682356822815863, -0.49615199285403283 L -0.8706106968813697, -0.4919725749223586 ",
          "type": "path"
         },
         {
          "fillcolor": "#8f391e",
          "layer": "below",
          "line": {
           "color": "rgb(175,175,175)",
           "width": 0.5
          },
          "path": "M -0.8799851547346064,-0.47500118678452885 Q 0.004557964455860466, -0.19994805565451024 0.9007158305790913, -0.434408785067956L 0.9007158305790913, -0.434408785067956 L 0.8997728098427502, -0.4363586720436321 L 0.898825567959643, -0.43830651190921766 M 0.898825567959643,-0.43830651190921766 Q 0.004621491610877838, -0.19994659740863457 -0.8776148138509304, -0.47936649706607226L -0.8776148138509304, -0.47936649706607226 L -0.8788026947935661, -0.47718531371320116 L -0.8799851547346064, -0.47500118678452885 ",
          "type": "path"
         },
         {
          "fillcolor": "#8f391e",
          "layer": "below",
          "line": {
           "color": "rgb(175,175,175)",
           "width": 0.5
          },
          "path": "M -0.8871136277916581,-0.4615510929315664 Q 0.01723857368333963, -0.1992556939647248 0.9532012422613281, -0.302336553779825L 0.9532012422613281, -0.302336553779825 L 0.9531363399590471, -0.3025411004301264 L 0.9530713937632739, -0.3027456331479128 M 0.9530713937632739,-0.3027456331479128 Q 0.0172437062780994, -0.1992552498525312 -0.8868916527750638, -0.4619774845573274L -0.8868916527750638, -0.4619774845573274 L -0.8870026659047355, -0.46176430208266656 L -0.8871136277916581, -0.4615510929315664 ",
          "type": "path"
         },
         {
          "fillcolor": "#8f391e",
          "layer": "below",
          "line": {
           "color": "rgb(175,175,175)",
           "width": 0.5
          },
          "path": "M -0.8868916527750638,-0.4619774845573274 Q 0.034833970444156974, -0.19694312504653622 0.9915491533281977, -0.1297315556606577L 0.9915491533281977, -0.1297315556606577 L 0.99150602259152, -0.13006078257777912 L 0.9914627825406851, -0.1303899951556182 M 0.9914627825406851,-0.1303899951556182 Q 0.034847471230136644, -0.19694073664141912 -0.8865212390053337, -0.46268789998491194L -0.8865212390053337, -0.46268789998491194 L -0.8867065170369214, -0.46233272936733766 L -0.8868916527750638, -0.4619774845573274 ",
          "type": "path"
         },
         {
          "fillcolor": "#f0f3e7",
          "layer": "below",
          "line": {
           "color": "rgb(175,175,175)",
           "width": 0.5
          },
          "path": "M -0.6156436144307336,-0.7880247077412371 Q -0.0737425809766284, -0.18590866507751974 -0.09191560404366356, -0.9957668008792463L -0.09191560404366356, -0.9957668008792463 L -0.09615936299087995, -0.9953659512506886 L -0.10040137470608178, -0.9949470156531598 M -0.10040137470608178,-0.9949470156531598 Q -0.07337283219000798, -0.18605490452126472 -0.6057442843996875, -0.7956593881285575L -0.6057442843996875, -0.7956593881285575 L -0.6107058800588884, -0.7918575175254059 L -0.6156436144307336, -0.7880247077412371 ",
          "type": "path"
         },
         {
          "fillcolor": "#f0f3e7",
          "layer": "below",
          "line": {
           "color": "rgb(175,175,175)",
           "width": 0.5
          },
          "path": "M -0.35015684626100535,-0.9366910819563442 Q 0.010871922931087798, -0.1997042846104722 0.4497732015948424, -0.8931428033226967L 0.4497732015948424, -0.8931428033226967 L 0.40765621694249965, -0.9131354821646839 L 0.3646531720967768, -0.931143417567755 M 0.3646531720967768,-0.931143417567755 Q 0.010775025706238483, -0.1997095361294245 -0.26235110890175917, -0.9649724844046162L -0.26235110890175917, -0.9649724844046162 L -0.30658026390413295, -0.9518448097166219 L -0.35015684626100535, -0.9366910819563442 ",
          "type": "path"
         },
         {
          "fillcolor": "#f0f3e7",
          "layer": "below",
          "line": {
           "color": "rgb(175,175,175)",
           "width": 0.5
          },
          "path": "M -0.5186411014641737,-0.8549920513502033 Q 0.028079132887982118, -0.19801909578689386 0.7358918242900139, -0.6770991234251564L 0.7358918242900139, -0.6770991234251564 L 0.7242699730389046, -0.6895165017272787 L 0.7124386203894121, -0.7017344313753111 M 0.7124386203894121,-0.7017344313753111 Q 0.028115118195653568, -0.198013989730131 -0.4889465828210443, -0.8723137274786082L -0.4889465828210443, -0.8723137274786082 L -0.5038682818919905, -0.8637805013446492 L -0.5186411014641737, -0.8549920513502033 ",
          "type": "path"
         },
         {
          "fillcolor": "#f0f3e7",
          "layer": "below",
          "line": {
           "color": "rgb(175,175,175)",
           "width": 0.5
          },
          "path": "M -0.5719816507522201,-0.8202664147719114 Q 0.054142674604530705, -0.19253199938365548 0.9156764158726676, -0.40191628657543305L 0.9156764158726676, -0.40191628657543305 L 0.9129599985417503, -0.4080490669792633 L 0.9102025072148161, -0.41416348928878643 M 0.9102025072148161,-0.41416348928878643 Q 0.05437140466007215, -0.1924675306520315 -0.5589577608680214, -0.8291961297337367L -0.5589577608680214, -0.8291961297337367 L -0.565487332432221, -0.8247569804849734 L -0.5719816507522201, -0.8202664147719114 ",
          "type": "path"
         },
         {
          "fillcolor": "#f0f3e7",
          "layer": "below",
          "line": {
           "color": "rgb(175,175,175)",
           "width": 0.5
          },
          "path": "M -0.6395883790533932,-0.7687175719208278 Q 0.05795685829199824, -0.19141839665225815 0.9585775720106842, -0.28483159662878277L 0.9585775720106842, -0.28483159662878277 L 0.9578820006676793, -0.2871621019509435 L 0.9571807633812308, -0.28949090868786237 M 0.9571807633812308,-0.28949090868786237 Q 0.058026586533413874, -0.19139727076236024 -0.6352791385222393, -0.7722826012273237L -0.6352791385222393, -0.7722826012273237 L -0.6374362510877876, -0.7705030991496057 L -0.6395883790533932, -0.7687175719208278 ",
          "type": "path"
         },
         {
          "fillcolor": "#f0f3e7",
          "layer": "below",
          "line": {
           "color": "rgb(175,175,175)",
           "width": 0.5
          },
          "path": "M -0.6352791385222393,-0.7722826012273237 Q 0.07541878226773296, -0.18523500555038805 0.9940530466766626, -0.10889692554358348L 0.9940530466766626, -0.10889692554358348 L 0.9937750799618117, -0.11140507370355605 L 0.9934907848150171, -0.11391251242792158 M 0.9934907848150171,-0.11391251242792158 Q 0.07553025532891823, -0.18518957997130514 -0.6304394197638703, -0.7762384543474992L -0.6304394197638703, -0.7762384543474992 L -0.6328623700228545, -0.7742643092698097 L -0.6352791385222393, -0.7722826012273237 ",
          "type": "path"
         },
         {
          "fillcolor": "#e2ecde",
          "layer": "below",
          "line": {
           "color": "rgb(175,175,175)",
           "width": 0.5
          },
          "path": "M -0.09191560404366356,-0.9957668008792463 Q -0.010271508852107048, -0.19973606611200967 -0.010714567609386848, -0.9999425973729411L -0.010714567609386848, -0.9999425973729411 L -0.017030422350580974, -0.9998549718406969 L -0.023345597617104422, -0.9997274543953968 M -0.023345597617104422,-0.9997274543953968 Q -0.010681709137304632, -0.19971454901910884 -0.08342315292283031, -0.996514213424181L -0.08342315292283031, -0.996514213424181 L -0.0876701749742568, -0.9961495572553266 L -0.09191560404366356, -0.9957668008792463 ",
          "type": "path"
         },
         {
          "fillcolor": "#e2ecde",
          "layer": "below",
          "line": {
           "color": "rgb(175,175,175)",
           "width": 0.5
          },
          "path": "M -0.13526569150181958,-0.9908093624419052 Q 0.04921897203895091, -0.19384914957623356 0.5915499601809903, -0.8062683452857794L 0.5915499601809903, -0.8062683452857794 L 0.5902369418035446, -0.8072300493232392 L 0.588922359952235, -0.8081896150955481 M 0.588922359952235,-0.8081896150955481 Q 0.04912091850314598, -0.19387401931514003 -0.1330424713558113, -0.9911103373568142L -0.1330424713558113, -0.9911103373568142 L -0.13415416583350742, -0.9909604733739463 L -0.13526569150181958, -0.9908093624419052 ",
          "type": "path"
         },
         {
          "fillcolor": "#e2ecde",
          "layer": "below",
          "line": {
           "color": "rgb(175,175,175)",
           "width": 0.5
          },
          "path": "M -0.13926576455053374,-0.9902550413020654 Q 0.09316364559469911, -0.17697608634927292 0.8951814024421255, -0.44570198195851607L 0.8951814024421255, -0.44570198195851607 L 0.8949633087886065, -0.44613974931869654 L 0.8947450010552971, -0.44657740995997136 M 0.8947450010552971,-0.44657740995997136 Q 0.09314657168473285, -0.17698507333495933 -0.13848814840509005, -0.9903640910045809L -0.13848814840509005, -0.9903640910045809 L -0.13887696718138537, -0.9903096424788059 L -0.13926576455053374, -0.9902550413020654 ",
          "type": "path"
         },
         {
          "fillcolor": "#e2ecde",
          "layer": "below",
          "line": {
           "color": "rgb(175,175,175)",
           "width": 0.5
          },
          "path": "M -0.13682154117468687,-0.9905957126247739 Q 0.10739527238630071, -0.16871945788518963 0.9553817826894988, -0.29537374511800335L 0.9553817826894988, -0.29537374511800335 L 0.9550855015795879, -0.29633036407440067 L 0.9547882626122082, -0.29728668584038725 M 0.9547882626122082,-0.29728668584038725 Q 0.10735878853265408, -0.16874267547008037 -0.13526569150181958, -0.9908093624419052L -0.13526569150181958, -0.9908093624419052 L -0.13604365827906514, -0.9907028429564785 L -0.13682154117468687, -0.9905957126247739 ",
          "type": "path"
         },
         {
          "fillcolor": "#e2ecde",
          "layer": "below",
          "line": {
           "color": "rgb(175,175,175)",
           "width": 0.5
          },
          "path": "M -0.13982115210994528,-0.9901767748350027 Q 0.1209330228062826, -0.15929596352367228 0.9913236798424839, -0.13144337862196154L 0.9913236798424839, -0.13144337862196154 L 0.9913062133102626, -0.13157504114560717 L 0.9912887292913004, -0.13170670134825682 M 0.9912887292913004,-0.13170670134825682 Q 0.12092973475286224, -0.1592984596680156 -0.13959900235460598, -0.9902081188021025L -0.13959900235460598, -0.9902081188021025 L -0.1397100781112783, -0.990192453048467 L -0.13982115210994528, -0.9901767748350027 ",
          "type": "path"
         },
         {
          "fillcolor": "#d4e5d6",
          "layer": "below",
          "line": {
           "color": "rgb(175,175,175)",
           "width": 0.5
          },
          "path": "M 0.15800153786862048,-0.987438865971535 Q 0.10124947209558738, -0.17247766348244886 0.7851814431875568, -0.619265775958841L 0.7851814431875568, -0.619265775958841 L 0.7732475966613406, -0.6341042140354066 L 0.7610333736979222, -0.6487127285000339 M 0.7610333736979222,-0.6487127285000339 Q 0.10131946353640278, -0.17243655734413033 0.19627994402863533, -0.9805478996826804L 0.19627994402863533, -0.9805478996826804 L 0.1771742460345952, -0.9841794991474232 L 0.15800153786862048, -0.987438865971535 ",
          "type": "path"
         },
         {
          "fillcolor": "#d4e5d6",
          "layer": "below",
          "line": {
           "color": "rgb(175,175,175)",
           "width": 0.5
          },
          "path": "M 0.03150065116760726,-0.9995037313467202 Q 0.11310245204952696, -0.1649479776789775 0.9209855415542867, -0.38959675595153165L 0.9209855415542867, -0.38959675595153165 L 0.9183516369961732, -0.39576542399058684 L 0.9156764158726676, -0.40191628657543305 M 0.9156764158726676,-0.40191628657543305 Q 0.11331204870466625, -0.1648040643259484 0.047445450205650434, -0.9988738304985185L 0.047445450205650434, -0.9988738304985185 L 0.039474307141212896, -0.9992205857946088 L 0.03150065116760726, -0.9995037313467202 ",
          "type": "path"
         },
         {
          "fillcolor": "#d4e5d6",
          "layer": "below",
          "line": {
           "color": "rgb(175,175,175)",
           "width": 0.5
          },
          "path": "M -0.052080720756965265,-0.9986428783731625 Q 0.11415013484426242, -0.16422468363506357 0.9541909122984084, -0.29919843396503787L 0.9541909122984084, -0.29919843396503787 L 0.9539122697625415, -0.3000856237750757 L 0.9536328023334989, -0.3009725540868432 M 0.9536328023334989,-0.3009725540868432 Q 0.11417485451283285, -0.16420749860153602 -0.049922634763139746, -0.9987530878742283L -0.049922634763139746, -0.9987530878742283 L -0.051001707529000635, -0.9986985660493992 L -0.052080720756965265, -0.9986428783731625 ",
          "type": "path"
         },
         {
          "fillcolor": "#d4e5d6",
          "layer": "below",
          "line": {
           "color": "rgb(175,175,175)",
           "width": 0.5
          },
          "path": "M -0.03381331953978826,-0.9994281662139106 Q 0.13251101166333243, -0.14980264279364428 0.9960840592595009, -0.08841123734636354L 0.9960840592595009, -0.08841123734636354 L 0.9957054563751065, -0.09257777349256509 L 0.9953094252960691, -0.09674268921633576 M 0.9953094252960691,-0.09674268921633576 Q 0.132668578362091, -0.1496631160820251 -0.023345597617104422, -0.9997274543953968L -0.023345597617104422, -0.9997274543953968 L -0.02857985034934665, -0.9995915126460453 L -0.03381331953978826, -0.9994281662139106 ",
          "type": "path"
         },
         {
          "fillcolor": "#c6decd",
          "layer": "below",
          "line": {
           "color": "rgb(175,175,175)",
           "width": 0.5
          },
          "path": "M 0.6140141634405142,-0.7892950063787593 Q 0.1569700644778438, -0.12393707620329585 0.9102025072148161, -0.41416348928878643L 0.9102025072148161, -0.41416348928878643 L 0.9079904453223672, -0.41899087245820693 L 0.905752780963089, -0.4238064414064876 M 0.905752780963089,-0.4238064414064876 Q 0.15707839763789905, -0.12379974553895526 0.623729984016468, -0.7816398832191309L 0.623729984016468, -0.7816398832191309 L 0.6188839098479214, -0.7854824671062683 L 0.6140141634405142, -0.7892950063787593 ",
          "type": "path"
         },
         {
          "fillcolor": "#c6decd",
          "layer": "below",
          "line": {
           "color": "rgb(175,175,175)",
           "width": 0.5
          },
          "path": "M 0.694042687933939,-0.7199338492704959 Q 0.17706473111272503, -0.09299505898690741 0.9866625806782399, -0.162778843494343L 0.9866625806782399, -0.162778843494343 L 0.9847474209293711, -0.17398999101371315 L 0.98270487655296, -0.18517863159401415 M 0.98270487655296,-0.18517863159401415 Q 0.17721008350299117, -0.09271777771745231 0.7124386203894121, -0.7017344313753111L 0.7124386203894121, -0.7017344313753111 L 0.7032995253579173, -0.7108936472014138 L 0.694042687933939, -0.7199338492704959 ",
          "type": "path"
         },
         {
          "fillcolor": "#c6decd",
          "layer": "below",
          "line": {
           "color": "rgb(175,175,175)",
           "width": 0.5
          },
          "path": "M 0.6761418782177756,-0.7367714438821165 Q 0.18180570357924666, -0.0833467824577236 0.9995065603657314, -0.031410759078132795L 0.9995065603657314, -0.031410759078132795 L 0.9991413395153114, -0.041431674737443476 L 0.9986756528681173, -0.051448424353323995 M 0.9986756528681173,-0.051448424353323995 Q 0.1819936302350815, -0.0829356289772763 0.694042687933939, -0.7199338492704959L 0.694042687933939, -0.7199338492704959 L 0.6851440085691233, -0.7284076382917968 L 0.6761418782177756, -0.7367714438821165 ",
          "type": "path"
         },
         {
          "fillcolor": "#b8d7c5",
          "layer": "below",
          "line": {
           "color": "rgb(175,175,175)",
           "width": 0.5
          },
          "path": "M 0.893681605731445,-0.44870166879260226 Q 0.18529428145690696, -0.07527303142140979 0.9534172662220133, -0.30165463110939095L 0.9534172662220133, -0.30165463110939095 L 0.9533093152159178, -0.30199561176043255 L 0.9532012422613281, -0.302336553779825 M 0.9532012422613281,-0.302336553779825 Q 0.18529365565828404, -0.07527457188712046 0.8939948928572253, -0.44807714909956986L 0.8939948928572253, -0.44807714909956986 L 0.8938383038378775, -0.4483894363075765 L 0.893681605731445, -0.44870166879260226 ",
          "type": "path"
         },
         {
          "fillcolor": "#b8d7c5",
          "layer": "below",
          "line": {
           "color": "rgb(175,175,175)",
           "width": 0.5
          },
          "path": "M 0.8933678823338351,-0.44932596944129427 Q 0.19116241238655887, -0.05879568088347312 0.9914627825406851, -0.1303899951556182L 0.9914627825406851, -0.1303899951556182 L 0.9914194331804604, -0.130719193357879 L 0.9913759745156252, -0.13104837714826725 M 0.9913759745156252,-0.13104837714826725 Q 0.19116342993730315, -0.05879237241858673 0.893681605731445, -0.44870166879260226L 0.893681605731445, -0.44870166879260226 L 0.8935247985570518, -0.4490138465165413 L 0.8933678823338351, -0.44932596944129427 ",
          "type": "path"
         },
         {
          "fillcolor": "#aad0bc",
          "layer": "below",
          "line": {
           "color": "rgb(175,175,175)",
           "width": 0.5
          },
          "path": "M 0.9617746576575708,-0.27384212219390663 Q 0.19650807405578702, -0.03720990232297486 0.9953094252960691, -0.09674268921633576L 0.9953094252960691, -0.09674268921633576 L 0.9949827147002971, -0.1000469762043173 L 0.9946450343680456, -0.10335016016915159 M 0.9946450343680456,-0.10335016016915159 Q 0.19651760103391072, -0.03715955440901701 0.9637088864572333, -0.26695539358357107L 0.9637088864572333, -0.26695539358357107 L 0.9627479298455878, -0.2704004873849808 L 0.9617746576575708, -0.27384212219390663 ",
          "type": "path"
         },
         {
          "fillcolor": "#f2e6ce",
          "layer": "below",
          "line": {
           "color": "rgb(150,150,150)",
           "width": 0.45
          },
          "path": "M 1.1, 0.0 L 1.0997435792523331, 0.02374994512135983 L 1.0989744365576954, 0.047488817554201354 L 1.097692930505441, 0.07120554977231001 L 1.0958996585587342, 0.09488908457167206 L 1.0935954567759987, 0.11852838022555896 L 1.090781399421133, 0.14211241563239643 L 1.0874587984626656, 0.1656301954540171 L 1.083629202962091, 0.18907075524190226 L 1.079294398351667, 0.21242316654902177 L 1.0744564056020098, 0.2356765420248898 L 1.0691174802798797, 0.25882004049146046 L 1.063280111496591, 0.28184287199749647 L 1.0569470207475398, 0.3047343028490557 L 1.0501211606433893, 0.3274836606137489 L 0.9546556005848993, 0.2977124187397717 L 0.9608609279523088, 0.27703118440823243 L 0.966618283178719, 0.25622079272499676 L 0.9719249820726178, 0.23529094590132765 L 0.9767785505472816, 0.2142514018408089 L 0.9811767257742426, 0.19311196959001978 L 0.9851174572382646, 0.17188250476536568 L 0.9885989076933323, 0.15057290495819736 L 0.9916194540192117, 0.1291931051203604 L 0.9941776879781806, 0.10775307293232632 L 0.9962724168715765, 0.08626280415606549 L 0.9979026640958555, 0.06473231797482729 L 0.9990676695979048, 0.04317165232200123 L 0.9997668902293936, 0.02159085920123621 L 1.0, 0.0 L 1.1 ,0.0",
          "type": "path"
         },
         {
          "fillcolor": "#ecd5bb",
          "layer": "below",
          "line": {
           "color": "rgb(150,150,150)",
           "width": 0.45
          },
          "path": "M 1.039316478876382, 0.3603071699758407 L 1.031719679494147, 0.38151605856699494 L 1.0236901305650958, 0.4025649221971744 L 1.0152312000424908, 0.4234449320281025 L 1.0063464359815086, 0.444147330046366 L 0.9970395650510282, 0.46466343273691846 L 0.9873144909704972, 0.4849846347253368 L 0.977175292872537, 0.5051024123873015 L 0.9666262235919726, 0.5250083274237867 L 0.955671707882001, 0.5446940304004624 L 0.9443163405582518, 0.5641512642498215 L 0.9325648845715163, 0.5833718677345651 L 0.9204222690099503, 0.6023477788707907 L 0.9078935870315947, 0.6210710383095516 L 0.8949840937280757, 0.6395337926753636 L 0.8816992039203838, 0.6577282978602651 L 0.8680444898876546, 0.6756469222720413 L 0.8540256790299047, 0.6932821500352584 L 0.839648651465703, 0.7106265841437587 L 0.824919437565786, 0.7276729495632963 L 0.809844215423648, 0.7444140962830139 L 0.7944293082641726, 0.7608430023144778 L 0.7786811817913878, 0.7769527766370153 L 0.7626064414764595, 0.7927366620881183 L 0.7462118297870608, 0.8081880381976998 L 0.7295042233592778, 0.8233004239650172 L 0.71249063011324, 0.8380674805770945 L 0.695178186313684, 0.8524830140675046 L 0.677574153576684, 0.8665409779143974 L 0.6596859158238038, 0.8802354755766831 L 0.6415209761849482, 0.8935607629673045 L 0.6230869538512145, 0.9065112508625663 L 0.6043915808790609, 0.9190815072465063 L 0.5854426989471351, 0.9312662595893263 L 0.5662482560671228, 0.9430603970589277 L 0.5468163032499939, 0.9544589726646248 L 0.5271549911290478, 0.9654572053321337 L 0.507272566541172, 0.9760504819089698 L 0.4871773690677479, 0.9862343590994118 L 0.46687782753665613, 0.9960045653282181 L 0.44638245648684843, 1.005357002532318 L 0.4256998525969678, 1.0142877478797228 L 0.4048386910795134, 1.0227930554149391 L 0.3838077220420707, 1.0308693576301882 L 0.348916110947337, 0.9371539614819892 L 0.3680351737086485, 0.9298118685590354 L 0.3869998659972434, 0.9220797707997479 L 0.4058022331698622, 0.9139609113930162 L 0.42443438866968736, 0.9054586957529255 L 0.4428885173343162, 0.8965766900903743 L 0.4611568786737927, 0.8873186199172453 L 0.47923181011731614, 0.8776883684837579 L 0.4971057302272671, 0.8676899751496588 L 0.5147711418792025, 0.8573276336899343 L 0.5322206354064863, 0.8466056905357511 L 0.5494468917082371, 0.8355286429513693 L 0.5664426853192859, 0.8241011371477875 L 0.583200887440862, 0.8123279663339131 L 0.5997144689307307, 0.8002140687060755 L 0.6159765032515309, 0.7877645253767249 L 0.6319801693760763, 0.7749845582431859 L 0.6477187546483999, 0.7618795277973586 L 0.6631856575993433, 0.7484549308772883 L 0.6783743907155098, 0.7347163983615452 L 0.6932785831604177, 0.7206696928073802 L 0.7078919834467161, 0.7063207060336503 L 0.7222084620583387, 0.6916754566495252 L 0.7362220140214981, 0.6767400875300126 L 0.7499267614234417, 0.6615208632393602 L 0.7633169558779117, 0.646024167403417 L 0.7763869809362769, 0.630256500032053 L 0.7891313544433223, 0.6142244747927648 L 0.8015447308367125, 0.5979348162366046 L 0.8136219033891597, 0.5813943569776032 L 0.8253578063923588, 0.564610034826865 L 0.8367475172817729, 0.547588889882537 L 0.8477862587013784, 0.5303380615768772 L 0.8584694005075015, 0.5128647856816559 L 0.8687924617109098, 0.49517639127314755 L 0.8787511123563386, 0.4772802976579878 L 0.88834117533867, 0.45918401126118313 L 0.8975586281549973, 0.4408951224775789 L 0.9063996045918438, 0.42242130248810766 L 0.9148603963468259, 0.40377030004215086 L 0.9229374545840824, 0.3849499382073659 L 0.9306273914228144, 0.3659681110883403 L 0.9379269813583154, 0.3468327805154499 L 0.9448331626148926, 0.3275519727053097 L 1.039316478876382 ,0.3603071699758407",
          "type": "path"
         },
         {
          "fillcolor": "#e6c4a9",
          "layer": "below",
          "line": {
           "color": "rgb(150,150,150)",
           "width": 0.45
          },
          "path": "M 0.3512379470665301, 1.0424163777207693 L 0.3287720109724563, 1.0497185169373395 L 0.30615444861742513, 1.0565365367992536 L 0.28339569098794826, 1.0628672929060634 L 0.2605062341883419, 1.0687078655783389 L 0.2374966346000315, 1.0740555612041955 L 0.2143775040130578, 1.0789079134815591 L 0.19115950473202856, 1.0832626845556002 L 0.16785334465877383, 1.0871178660508083 L 0.14446977235397118, 1.090471679997235 L 0.12101957208002176, 1.0933225796504746 L 0.09751355882745878, 1.0956692502050078 L 0.07396257332718553, 1.0975106094005747 L 0.050377477050842244, 1.0988458080213037 L 0.026769147201607234, 1.0996742302873606 L 0.003148471697743077, 1.099995494138939 L -0.020473655848799066, 1.0998094514124641 L -0.04408634115640092, 1.0991161879089224 L -0.06767869429810719, 1.0979160233542926 L -0.09123983472394856, 1.0962095112520902 L -0.11475889627893764, 1.0939974386280986 L -0.1382250322144286, 1.0912808256673991 L -0.16162742019052545, 1.0880609252438742 L -0.18495526726723377, 1.0843392223423933 L -0.2081978148820531, 1.0801174333739543 L -0.18927074080186645, 0.9819249394308674 L -0.1681411520611216, 0.9857629294021757 L -0.14693401835502312, 0.9891462956762491 L -0.12565912019493508, 0.9920734778794537 L -0.10432626934448876, 0.9945431260255441 L -0.08294530429449869, 0.9965541011382638 L -0.06152608572555199, 0.9981054757766296 L -0.04007849196036447, 0.9991965344626567 L -0.01861241440799915, 0.9998267740113309 L 0.002862246997948252, 0.9999959037626718 L 0.024335588365097485, 0.9997038457157822 L 0.04579770640985658, 0.9989507345648215 L 0.06723870302471412, 0.997736917636886 L 0.08864868984314433, 0.9960629547318252 L 0.11001779280001978, 0.9939296178640679 L 0.13133615668542833, 0.9913378909065771 L 0.15259394968979437, 0.9882889691370983 L 0.17378136793820775, 0.9847842586869092 L 0.1948886400118707, 0.9808253758923264 L 0.21590603145457407, 0.9764141465492685 L 0.23682384926212896, 0.9715526050712171 L 0.25763244635268023, 0.9662429935509667 L 0.278322226015841, 0.9604877607265941 L 0.2988836463385966, 0.9542895608521267 L 0.3193072246059364, 0.9476512524734265 L 0.3512379470665301 ,1.0424163777207693",
          "type": "path"
         },
         {
          "fillcolor": "#e1b396",
          "layer": "below",
          "line": {
           "color": "rgb(150,150,150)",
           "width": 0.45
          },
          "path": "M -0.24202239030421785, 1.0730448092188103 L -0.26605451497379246, 1.0673401496533617 L -0.28995249404290085, 1.0610973335176663 L -0.31370427806839624, 1.0543195084610673 L -0.3372978913191749, 1.0470100918862426 L -0.36072143781438126, 1.0391727692261405 L -0.38396310732140193, 1.0308114920857712 L -0.4070111813106258, 1.0219304762497932 L -0.4298540388639675, 1.0125341995569013 L -0.4524801625341729, 1.0026273996420847 L -0.4748781441519567, 0.9922150715478946 L -0.49703669057804006, 0.9813024652059272 L -0.5189446293971904, 0.9698950827897896 L -0.5405909145513916, 0.9579986759408857 L -0.5619646319093043, 0.945619242868418 L -0.5830550047692084, 0.9327630253250708 L -0.6038513992926525, 0.9194365054598961 L -0.548955817538775, 0.8358513685999055 L -0.5300500043356439, 0.8479663866591552 L -0.5108769380993675, 0.8596538571531073 L -0.4914462859558106, 0.8709078872189869 L -0.4717678449065367, 0.8817228025361723 L -0.45185153688912727, 0.8920931501872065 L -0.43170740377450606, 0.9020137014071768 L -0.4113456023037935, 0.9114794542200769 L -0.39077639896724314, 0.9204856359608193 L -0.3700101648278416, 0.9290277056816301 L -0.34905737029218353, 0.9371013564416101 L -0.3279285798312557, 0.9447025174783096 L -0.30663444665379536, 0.9518273562602205 L -0.28518570733490567, 0.958472280419152 L -0.26359317640263713, 0.9646339395615148 L -0.24186774088526583, 0.9703092269576014 L -0.2200203548220162, 0.9754952811080093 L -0.24202239030421785 ,1.0730448092188103",
          "type": "path"
         },
         {
          "fillcolor": "#dba284",
          "layer": "below",
          "line": {
           "color": "rgb(150,150,150)",
           "width": 0.45
          },
          "path": "M -0.6324336336396699, 0.9000153882247369 L -0.6542283605150239, 0.8842993001794268 L -0.675632710115426, 0.8680555518064987 L -0.6966339104912422, 0.8512938357310477 L -0.7172194302514967, 0.8340241536488728 L -0.6520176638649969, 0.7582037760444298 L -0.6333035549920384, 0.7739034870282251 L -0.6142115546503872, 0.7891414107331806 L -0.594753055013658, 0.8039084547085698 L -0.5749396669451544, 0.8181958074770335 L -0.6324336336396699 ,0.9000153882247369",
          "type": "path"
         },
         {
          "fillcolor": "#d59171",
          "layer": "below",
          "line": {
           "color": "rgb(150,150,150)",
           "width": 0.45
          },
          "path": "M -0.7430628575137477, 0.8110842063457433 L -0.773799117092248, 0.7818151484764526 L -0.8033833781821841, 0.7513821581995289 L -0.8317715970216695, 0.7198305428279781 L -0.8589215104645294, 0.6872072750352193 L -0.7808377367859357, 0.6247338863956539 L -0.7561559972924268, 0.6543914025708891 L -0.7303485256201673, 0.683074689272299 L -0.7034537428111345, 0.7107410440695023 L -0.6755116886488615, 0.7373492784961302 L -0.7430628575137477 ,0.8110842063457433",
          "type": "path"
         },
         {
          "fillcolor": "#d0805f",
          "layer": "below",
          "line": {
           "color": "rgb(150,150,150)",
           "width": 0.45
          },
          "path": "M -0.8800833867014087, 0.6598888030965362 L -0.9194259824940233, 0.6038674214717168 L -0.9552077136102125, 0.5455073087132293 L -0.9872900002134055, 0.4850344889578614 L -1.0155485901253096, 0.42268316869080097 L -0.9232259910230086, 0.3842574260825463 L -0.8975363638303686, 0.4409404445071467 L -0.8683706487365568, 0.4959157351938448 L -0.8358418022672939, 0.5489703831561061 L -0.8000758060921896, 0.5998989119059419 L -0.8800833867014087 ,0.6598888030965362",
          "type": "path"
         },
         {
          "fillcolor": "#ca6f4c",
          "layer": "below",
          "line": {
           "color": "rgb(150,150,150)",
           "width": 0.45
          },
          "path": "M -1.0283242773785428, 0.390575447966072 L -1.0336809671193776, 0.376169719960483 L -1.0388358591635918, 0.3616905551930297 L -1.0437879471607023, 0.3471407803212511 L -1.0485362643521219, 0.3325232357873615 L -0.9532147857746562, 0.30229385071578313 L -0.9488981337824566, 0.31558252756477373 L -0.9443962356032652, 0.32880959563002693 L -0.9397099701085251, 0.3419724726913481 L -0.9348402521623116, 0.35506858906006544 L -1.0283242773785428 ,0.390575447966072",
          "type": "path"
         },
         {
          "fillcolor": "#c45e3a",
          "layer": "below",
          "line": {
           "color": "rgb(150,150,150)",
           "width": 0.45
          },
          "path": "M -1.0584636822485192, 0.29942383565926384 L -1.0642841856164236, 0.2780272868744835 L -1.0696722108962793, 0.2565177600796215 L -1.074625568632579, 0.23490399579638094 L -1.0791422459995086, 0.2131947769039763 L -0.9810384054540987, 0.19381343354906935 L -0.9769323351205264, 0.21354908708761902 L -0.972429282632981, 0.23319796370874682 L -0.9675310778331122, 0.2527520789768032 L -0.9622397111350174, 0.2722034869629671 L -1.0584636822485192 ,0.29942383565926384",
          "type": "path"
         },
         {
          "fillcolor": "#bf4d28",
          "layer": "below",
          "line": {
           "color": "rgb(150,150,150)",
           "width": 0.45
          },
          "path": "M -1.0853063642183651, 0.17919290105111224 L -1.0932230233928015, 0.1219156311713242 L -1.0981189906792714, 0.06430149539115233 L -1.0999807379976396, 0.00650968771663143 L -1.0988031211413707, -0.05130010691979757 L -0.9989119283103368, -0.0466364608361796 L -0.9999824890887633, 0.00591789792421039 L -0.9982899915266104, 0.058455904901047566 L -0.993839112175274, 0.11083239197393108 L -0.9866421492894227, 0.16290263731919294 L -1.0853063642183651 ,0.17919290105111224",
          "type": "path"
         },
         {
          "fillcolor": "#af4624",
          "layer": "below",
          "line": {
           "color": "rgb(150,150,150)",
           "width": 0.45
          },
          "path": "M -1.0966495528320015, -0.08578903352626795 L -1.090538906166779, -0.14396143280950452 L -1.0813446768891062, -0.20172677007178516 L -1.0690928623892415, -0.25892170938022696 L -1.0538181056147669, -0.31538452764602154 L -0.958016459649788, -0.28671320695092867 L -0.9719026021720376, -0.2353833721638427 L -0.9830406153537328, -0.18338797279253194 L -0.9913990056061626, -0.13087402982682228 L -0.9969541389381832, -0.0779900304784254 L -1.0966495528320015 ,-0.08578903352626795",
          "type": "path"
         },
         {
          "fillcolor": "#9f4021",
          "layer": "below",
          "line": {
           "color": "rgb(150,150,150)",
           "width": 0.45
          },
          "path": "M -1.0433916425792884, -0.3483301310476808 L -1.0318923231007302, -0.38104885976181396 L -1.0193672945026473, -0.41338882289964396 L -1.0058290067623952, -0.4453178742823758 L -0.9912909170449189, -0.47680427618074467 L -0.9011735609499262, -0.43345843289158603 L -0.9143900061476319, -0.40483443116579615 L -0.9266975404569521, -0.37580802081785813 L -0.9380839300915728, -0.34640805432892174 L -0.9485378568902622, -0.3166637554978916 L -1.0433916425792884 ,-0.3483301310476808",
          "type": "path"
         },
         {
          "fillcolor": "#8f391e",
          "layer": "below",
          "line": {
           "color": "rgb(150,150,150)",
           "width": 0.45
          },
          "path": "M -0.9758249905708241, -0.5077062022247231 L -0.9641909593320581, -0.5294674625907863 L -0.9520717223921025, -0.550962281305477 L -0.9394733784628367, -0.5721798416229146 L -0.9264022673551048, -0.5931094663207807 L -0.9128649667883608, -0.6137406230733674 L -0.8988682890805897, -0.6340629297517193 L -0.8844192777201756, -0.6540661596481835 L -0.8695252038214353, -0.6737402466227558 L -0.8541935624656066, -0.6930752901686195 L -0.8384320689291327, -0.7120615603943343 L -0.8222486548011335, -0.730689502920171 L -0.8056514639920287, -0.7489497436861176 L -0.7886488486353095, -0.766833093669151 L -0.7712493648845339, -0.7843305535073866 L -0.7534617686076459, -0.8014333180287918 L -0.7352950109808012, -0.8181327806821724 L -0.6684500099825464, -0.7437570733474295 L -0.6849652441887689, -0.728575743662538 L -0.7011357862586671, -0.7130277759158059 L -0.7169534987593722, -0.6971209942446827 L -0.7324104218109351, -0.6808634033510159 L -0.7474987770919395, -0.6642631844728827 L -0.762210971753757, -0.6473286912675766 L -0.7765396022414605, -0.6300684456078358 L -0.7904774580194865, -0.6124911332934143 L -0.8040175252001596, -0.5946055996801668 L -0.8171529900732633, -0.5764208452288356 L -0.8298772425348734, -0.5579460209757885 L -0.8421838794137315, -0.5391904239279823 L -0.8540667076934879, -0.5201634923844678 L -0.865519747629184, -0.5008748011867972 L -0.8765372357564164, -0.48133405690071474 L -0.8871136277916581, -0.4615510929315664 L -0.9758249905708241 ,-0.5077062022247231",
          "type": "path"
         },
         {
          "fillcolor": "#f0f3e7",
          "layer": "below",
          "line": {
           "color": "rgb(150,150,150)",
           "width": 0.45
          },
          "path": "M -0.7092340156115767, -0.8408252559833572 L -0.6912843599333489, -0.8556435786655214 L -0.6730251843532163, -0.8700787902404697 L -0.6544646643465128, -0.8841244273979803 L -0.6356111103143779, -0.8977742012582697 L -0.6164729638628034, -0.9110220001878171 L -0.5970587940229358, -0.9238618925358257 L -0.5773772934143299, -0.9362881292900936 L -0.5574372743528591, -0.9482951466511128 L -0.5372476649050335, -0.9598775685232408 L -0.5168175048904979, -0.9710302089218236 L -0.49615594183448036, -0.9817480742952032 L -0.4752722268720299, -0.9920263657605587 L -0.4541757106058534, -1.0018604812525886 L -0.43287583891961673, -1.0112460175840685 L -0.4113821487485924, -1.0201787724173599 L -0.38970426380953077, -1.0286547461459903 L -0.3678518902916753, -1.0366701436854644 L -0.3458348125108604, -1.0442213761724946 L -0.3236628885286142, -1.0513050625719036 L -0.3013460457382563, -1.0579180311904686 L -0.2788942764199426, -1.064057321097034 L -0.25631763326665813, -1.0697201834482601 L -0.23362622488316798, -1.0749040827194023 L -0.21083021125992565, -1.079606697839586 L -0.18793979922397386, -1.0838259232310568 L -0.17085436293088532, -0.9852962938464151 L -0.19166382841811422, -0.9814606343996236 L -0.21238747716651632, -0.9771855297449111 L -0.23301603024241646, -0.9724728940438727 L -0.2535402512908569, -0.9673248373609401 L -0.27395095067114206, -0.9617436647186076 L -0.29423898957146744, -0.9557318750653668 L -0.31439528410078216, -0.9492921601568131 L -0.33441080935606843, -0.9424274033504221 L -0.35427660346320977, -0.9351406783145366 L -0.3739837715896294, -0.9274352476521452 L -0.39352348992692426, -0.9193145614400622 L -0.41288700964168484, -0.9107822556841714 L -0.43206566079275444, -0.9018421506914169 L -0.45105085621316393, -0.8924982493592756 L -0.46983409535499804, -0.8827547353834759 L -0.488406968095485, -0.8726159713847643 L -0.5067611585025991, -0.8620864969555571 L -0.5248884485584816, -0.8511710266273578 L -0.5427807218390325, -0.8398744477598415 L -0.560429967148003, -0.8282018183525609 L -0.5778282821039799, -0.8161583647802451 L -0.594967876678648, -0.8037494794527092 L -0.6118410766847421, -0.7909807184004269 L -0.6284403272121353, -0.7778577987868376 L -0.6447581960105242, -0.7643865963485065 L -0.7092340156115767 ,-0.8408252559833572",
          "type": "path"
         },
         {
          "fillcolor": "#e2ecde",
          "layer": "below",
          "line": {
           "color": "rgb(150,150,150)",
           "width": 0.45
          },
          "path": "M -0.15380326732093982, -1.089194452318503 L -0.13833247681281413, -1.0912672110252524 L -0.12283383212444073, -1.0931202356948777 L -0.10731045401279898, -1.0947531532083234 L -0.09176546821511335, -1.0961656347665991 L -0.08342315292283031, -0.996514213424181 L -0.09755495819345361, -0.995230139280294 L -0.11166712011312792, -0.9937456688135251 L -0.1257567971025583, -0.9920611009320475 L -0.13982115210994528, -0.9901767748350027 L -0.15380326732093982 ,-1.089194452318503",
          "type": "path"
         },
         {
          "fillcolor": "#d4e5d6",
          "layer": "below",
          "line": {
           "color": "rgb(150,150,150)",
           "width": 0.45
          },
          "path": "M -0.0572887928326618, -1.0985071662104788 L -0.03425888119761565, -1.0994663837785528 L -0.011213926886250543, -1.0999428384437937 L 0.011835951329997547, -1.0999363210004995 L 0.03488063251766327, -1.0994468343104036 L 0.05790999802523606, -1.0984745933014188 L 0.08091393592614143, -1.0970200248732656 L 0.10388234545877417, -1.095083767710025 L 0.12680514146161947, -1.0926666719996996 L 0.149672258801534, -1.0897697990609057 L 0.17247365679322776, -1.0863944208768619 L 0.19519932360801232, -1.0825420195368745 L 0.21783928066987818, -1.0782142865855704 L 0.24038358703697177, -1.0734131222801586 L 0.2628223437665471, -1.0681406347560507 L 0.2851456982614766, -1.062399139101202 L 0.3073438485964108, -1.0561911563395836 L 0.3294070478216937, -1.0495194123242297 L 0.3513256082431294, -1.0423868365403486 L 0.37308990567573946, -1.0347965608190182 L 0.39469038366963, -1.0267519179620366 L 0.4161175577061174, -1.0182564402785264 L 0.43736201936227026, -1.0093138580339405 L 0.4584144404420387, -0.999928097812144 L 0.4792655770721565, -0.9901032807912985 L 0.49990627376101754, -0.9798437209343002 L 0.5203274674187501, -0.9691539230945669 L 0.5405201913367045, -0.9580385810380146 L 0.5604755791246432, -0.9465025753820727 L 0.5801848686038593, -0.9345509714526666 L 0.5996394056545525, -0.9221890170600902 L 0.618830648015751, -0.9094221401947534 L 0.5625733163779555, -0.8267474001770485 L 0.5451267324132295, -0.8383536518728092 L 0.5274407896398721, -0.8495917922296968 L 0.5095232537496756, -0.8604568867109751 L 0.4913819921242768, -0.8709441645800132 L 0.47302497038068186, -0.8810490209950608 L 0.4544602488736523, -0.8907670190311819 L 0.4356959791565059, -0.9000938916284531 L 0.41674040040185334, -0.9090255434655854 L 0.39760183578388203, -0.9175580527581276 L 0.37828868882374306, -0.9256876729804785 L 0.3588094396996636, -0.9334108345109422 L 0.3391726415233995, -0.9407241461991074 L 0.31938691658466306, -0.9476243968548622 L 0.2994609525651761, -0.9541085566583906 L 0.27940349872400977, -0.9601737784905304 L 0.2592233620558878, -0.9658173991829109 L 0.2389294034241337, -0.9710369406873188 L 0.21853053366997433, -0.9758301111637805 L 0.19803570969988923, -0.980194805986882 L 0.17745393055273845, -0.9841291086698858 L 0.15679423344838886, -0.987631291706238 L 0.13606568981957637, -0.990699817328096 L 0.11527740132874498, -0.9933333381815449 L 0.09443849587161288, -0.9955306979182045 L 0.07355812356921948, -0.9972909317029687 L 0.052645452750214594, -0.9986132666376534 L 0.03170966592514842, -0.9994971221003668 L 0.010759955754543225, -0.9999421100004541 L -0.010194478987500493, -0.9999480349489034 L -0.03114443745237786, -0.9995148943441388 L -0.052080720756965265, -0.9986428783731625 L -0.0572887928326618 ,-1.0985071662104788",
          "type": "path"
         },
         {
          "fillcolor": "#c6decd",
          "layer": "below",
          "line": {
           "color": "rgb(150,150,150)",
           "width": 0.45
          },
          "path": "M 0.6470909321930932, -0.8895354548715154 L 0.6657655245488541, -0.8756461992849564 L 0.6841420895423561, -0.8613649640637927 L 0.7022124009753502, -0.8466981421477398 L 0.7199683697428091, -0.8316522990829052 L 0.7374020474539842, -0.816234170082748 L 0.7545056299904713, -0.8004506570130866 L 0.7712714609996957, -0.7843088253025048 L 0.7876920353222463, -0.7678159007795405 L 0.8037600023515333, -0.750979266438071 L 0.819468169324258, -0.7338064591323447 L 0.8348095045402252, -0.7163051662031371 L 0.8497771405100573, -0.698483222036543 L 0.8643643770293986, -0.6803486045569432 L 0.8785646841782364, -0.6619094316557183 L 0.8923717052439945, -0.6431739575573048 L 0.9057792595670903, -0.6241505691242248 L 0.9187813453076842, -0.6048477821027387 L 0.9313721421323791, -0.5852742373108044 L 0.9435460138196703, -0.5654386967700484 L 0.9552975107829789, -0.5453500397834811 L 0.9666213725101374, -0.5250172589607112 L 0.878746702281943, -0.4772884172370101 L 0.8684522825299807, -0.49577276343952825 L 0.8577691034724275, -0.5140351788818621 L 0.8467019473930718, -0.5320674884643676 L 0.835255768461531, -0.5498616200933988 L 0.8234356905155366, -0.5674096082947498 L 0.8112470047672676, -0.584703597779368 L 0.7986951674347603, -0.6017358469597438 L 0.7857857972994532, -0.6184987314154029 L 0.7725246731909611, -0.6349847473059481 L 0.7589177314002047, -0.6511865147301246 L 0.7449710630220527, -0.6670967810294042 L 0.7306909112286666, -0.68270842403461 L 0.7160836684747693, -0.6980144552541278 L 0.7011558736360869, -0.7130080230022771 L 0.6859142090822467, -0.7276824154664423 L 0.6703654976854401, -0.742031063711589 L 0.65451669976619, -0.7560475446208228 L 0.638374909977591, -0.7697255837706725 L 0.6219473541294146, -0.7830590582398115 L 0.6052413859535036, -0.7960419993499602 L 0.5882644838119029, -0.8086685953377413 L 0.6470909321930932 ,-0.8895354548715154",
          "type": "path"
         },
         {
          "fillcolor": "#b8d7c5",
          "layer": "below",
          "line": {
           "color": "rgb(150,150,150)",
           "width": 0.45
          },
          "path": "M 0.982635593846684, -0.4943958835847795 L 0.9978535787976106, -0.4629127728641768 L 1.0120631763600925, -0.4309618626467084 L 1.0252500269334013, -0.39857544113136256 L 1.037400804460393, -0.36578623662588694 L 0.9430916404185391, -0.3325329423871699 L 0.9320454790303647, -0.3623413101194205 L 0.9200574330546295, -0.3917835114970076 L 0.9071396170887368, -0.42082979351288796 L 0.8933050853151672, -0.4494508032588904 L 0.982635593846684 ,-0.4943958835847795",
          "type": "path"
         },
         {
          "fillcolor": "#aad0bc",
          "layer": "below",
          "line": {
           "color": "rgb(150,150,150)",
           "width": 0.45
          },
          "path": "M 1.0483785331396014, -0.3330201964627041 L 1.0596902455405286, -0.2950535265104531 L 1.0696274933952943, -0.2567041592434761 L 1.078177387659274, -0.21802183546659717 L 1.0853288387460633, -0.1790567278437802 L 0.9866625806782394, -0.16277884349434563 L 0.9801612615084307, -0.19820166860599742 L 0.9723886303593583, -0.2333674174940692 L 0.9633547686732077, -0.2682304786458664 L 0.9530713937632739, -0.3027456331479128 L 1.0483785331396014 ,-0.3330201964627041",
          "type": "path"
         },
         {
          "fillcolor": "#9cc9b4",
          "layer": "below",
          "line": {
           "color": "rgb(150,150,150)",
           "width": 0.45
          },
          "path": "M 1.0904176022204306, -0.14487737148308252 L 1.0937182335950206, -0.11739005708231119 L 1.0963260743548584, -0.0898283846546598 L 1.098239472623302, -0.062209812506481166 L 1.0994572164023046, -0.03455183498594511 L 0.9995065603657315, -0.031410759078131914 L 0.9983995205666382, -0.056554375005891964 L 0.9966600675953258, -0.08166216786787253 L 0.9942893032682004, -0.10671823371119199 L 0.9912887292913004, -0.13170670134825682 L 1.0904176022204306 ,-0.14487737148308252",
          "type": "path"
         }
        ],
        "showlegend": false,
        "template": {
         "data": {
          "bar": [
           {
            "error_x": {
             "color": "#2a3f5f"
            },
            "error_y": {
             "color": "#2a3f5f"
            },
            "marker": {
             "line": {
              "color": "#E5ECF6",
              "width": 0.5
             }
            },
            "type": "bar"
           }
          ],
          "barpolar": [
           {
            "marker": {
             "line": {
              "color": "#E5ECF6",
              "width": 0.5
             }
            },
            "type": "barpolar"
           }
          ],
          "carpet": [
           {
            "aaxis": {
             "endlinecolor": "#2a3f5f",
             "gridcolor": "white",
             "linecolor": "white",
             "minorgridcolor": "white",
             "startlinecolor": "#2a3f5f"
            },
            "baxis": {
             "endlinecolor": "#2a3f5f",
             "gridcolor": "white",
             "linecolor": "white",
             "minorgridcolor": "white",
             "startlinecolor": "#2a3f5f"
            },
            "type": "carpet"
           }
          ],
          "choropleth": [
           {
            "colorbar": {
             "outlinewidth": 0,
             "ticks": ""
            },
            "type": "choropleth"
           }
          ],
          "contour": [
           {
            "colorbar": {
             "outlinewidth": 0,
             "ticks": ""
            },
            "colorscale": [
             [
              0,
              "#0d0887"
             ],
             [
              0.1111111111111111,
              "#46039f"
             ],
             [
              0.2222222222222222,
              "#7201a8"
             ],
             [
              0.3333333333333333,
              "#9c179e"
             ],
             [
              0.4444444444444444,
              "#bd3786"
             ],
             [
              0.5555555555555556,
              "#d8576b"
             ],
             [
              0.6666666666666666,
              "#ed7953"
             ],
             [
              0.7777777777777778,
              "#fb9f3a"
             ],
             [
              0.8888888888888888,
              "#fdca26"
             ],
             [
              1,
              "#f0f921"
             ]
            ],
            "type": "contour"
           }
          ],
          "contourcarpet": [
           {
            "colorbar": {
             "outlinewidth": 0,
             "ticks": ""
            },
            "type": "contourcarpet"
           }
          ],
          "heatmap": [
           {
            "colorbar": {
             "outlinewidth": 0,
             "ticks": ""
            },
            "colorscale": [
             [
              0,
              "#0d0887"
             ],
             [
              0.1111111111111111,
              "#46039f"
             ],
             [
              0.2222222222222222,
              "#7201a8"
             ],
             [
              0.3333333333333333,
              "#9c179e"
             ],
             [
              0.4444444444444444,
              "#bd3786"
             ],
             [
              0.5555555555555556,
              "#d8576b"
             ],
             [
              0.6666666666666666,
              "#ed7953"
             ],
             [
              0.7777777777777778,
              "#fb9f3a"
             ],
             [
              0.8888888888888888,
              "#fdca26"
             ],
             [
              1,
              "#f0f921"
             ]
            ],
            "type": "heatmap"
           }
          ],
          "heatmapgl": [
           {
            "colorbar": {
             "outlinewidth": 0,
             "ticks": ""
            },
            "colorscale": [
             [
              0,
              "#0d0887"
             ],
             [
              0.1111111111111111,
              "#46039f"
             ],
             [
              0.2222222222222222,
              "#7201a8"
             ],
             [
              0.3333333333333333,
              "#9c179e"
             ],
             [
              0.4444444444444444,
              "#bd3786"
             ],
             [
              0.5555555555555556,
              "#d8576b"
             ],
             [
              0.6666666666666666,
              "#ed7953"
             ],
             [
              0.7777777777777778,
              "#fb9f3a"
             ],
             [
              0.8888888888888888,
              "#fdca26"
             ],
             [
              1,
              "#f0f921"
             ]
            ],
            "type": "heatmapgl"
           }
          ],
          "histogram": [
           {
            "marker": {
             "colorbar": {
              "outlinewidth": 0,
              "ticks": ""
             }
            },
            "type": "histogram"
           }
          ],
          "histogram2d": [
           {
            "colorbar": {
             "outlinewidth": 0,
             "ticks": ""
            },
            "colorscale": [
             [
              0,
              "#0d0887"
             ],
             [
              0.1111111111111111,
              "#46039f"
             ],
             [
              0.2222222222222222,
              "#7201a8"
             ],
             [
              0.3333333333333333,
              "#9c179e"
             ],
             [
              0.4444444444444444,
              "#bd3786"
             ],
             [
              0.5555555555555556,
              "#d8576b"
             ],
             [
              0.6666666666666666,
              "#ed7953"
             ],
             [
              0.7777777777777778,
              "#fb9f3a"
             ],
             [
              0.8888888888888888,
              "#fdca26"
             ],
             [
              1,
              "#f0f921"
             ]
            ],
            "type": "histogram2d"
           }
          ],
          "histogram2dcontour": [
           {
            "colorbar": {
             "outlinewidth": 0,
             "ticks": ""
            },
            "colorscale": [
             [
              0,
              "#0d0887"
             ],
             [
              0.1111111111111111,
              "#46039f"
             ],
             [
              0.2222222222222222,
              "#7201a8"
             ],
             [
              0.3333333333333333,
              "#9c179e"
             ],
             [
              0.4444444444444444,
              "#bd3786"
             ],
             [
              0.5555555555555556,
              "#d8576b"
             ],
             [
              0.6666666666666666,
              "#ed7953"
             ],
             [
              0.7777777777777778,
              "#fb9f3a"
             ],
             [
              0.8888888888888888,
              "#fdca26"
             ],
             [
              1,
              "#f0f921"
             ]
            ],
            "type": "histogram2dcontour"
           }
          ],
          "mesh3d": [
           {
            "colorbar": {
             "outlinewidth": 0,
             "ticks": ""
            },
            "type": "mesh3d"
           }
          ],
          "parcoords": [
           {
            "line": {
             "colorbar": {
              "outlinewidth": 0,
              "ticks": ""
             }
            },
            "type": "parcoords"
           }
          ],
          "pie": [
           {
            "automargin": true,
            "type": "pie"
           }
          ],
          "scatter": [
           {
            "marker": {
             "colorbar": {
              "outlinewidth": 0,
              "ticks": ""
             }
            },
            "type": "scatter"
           }
          ],
          "scatter3d": [
           {
            "line": {
             "colorbar": {
              "outlinewidth": 0,
              "ticks": ""
             }
            },
            "marker": {
             "colorbar": {
              "outlinewidth": 0,
              "ticks": ""
             }
            },
            "type": "scatter3d"
           }
          ],
          "scattercarpet": [
           {
            "marker": {
             "colorbar": {
              "outlinewidth": 0,
              "ticks": ""
             }
            },
            "type": "scattercarpet"
           }
          ],
          "scattergeo": [
           {
            "marker": {
             "colorbar": {
              "outlinewidth": 0,
              "ticks": ""
             }
            },
            "type": "scattergeo"
           }
          ],
          "scattergl": [
           {
            "marker": {
             "colorbar": {
              "outlinewidth": 0,
              "ticks": ""
             }
            },
            "type": "scattergl"
           }
          ],
          "scattermapbox": [
           {
            "marker": {
             "colorbar": {
              "outlinewidth": 0,
              "ticks": ""
             }
            },
            "type": "scattermapbox"
           }
          ],
          "scatterpolar": [
           {
            "marker": {
             "colorbar": {
              "outlinewidth": 0,
              "ticks": ""
             }
            },
            "type": "scatterpolar"
           }
          ],
          "scatterpolargl": [
           {
            "marker": {
             "colorbar": {
              "outlinewidth": 0,
              "ticks": ""
             }
            },
            "type": "scatterpolargl"
           }
          ],
          "scatterternary": [
           {
            "marker": {
             "colorbar": {
              "outlinewidth": 0,
              "ticks": ""
             }
            },
            "type": "scatterternary"
           }
          ],
          "surface": [
           {
            "colorbar": {
             "outlinewidth": 0,
             "ticks": ""
            },
            "colorscale": [
             [
              0,
              "#0d0887"
             ],
             [
              0.1111111111111111,
              "#46039f"
             ],
             [
              0.2222222222222222,
              "#7201a8"
             ],
             [
              0.3333333333333333,
              "#9c179e"
             ],
             [
              0.4444444444444444,
              "#bd3786"
             ],
             [
              0.5555555555555556,
              "#d8576b"
             ],
             [
              0.6666666666666666,
              "#ed7953"
             ],
             [
              0.7777777777777778,
              "#fb9f3a"
             ],
             [
              0.8888888888888888,
              "#fdca26"
             ],
             [
              1,
              "#f0f921"
             ]
            ],
            "type": "surface"
           }
          ],
          "table": [
           {
            "cells": {
             "fill": {
              "color": "#EBF0F8"
             },
             "line": {
              "color": "white"
             }
            },
            "header": {
             "fill": {
              "color": "#C8D4E3"
             },
             "line": {
              "color": "white"
             }
            },
            "type": "table"
           }
          ]
         },
         "layout": {
          "annotationdefaults": {
           "arrowcolor": "#2a3f5f",
           "arrowhead": 0,
           "arrowwidth": 1
          },
          "coloraxis": {
           "colorbar": {
            "outlinewidth": 0,
            "ticks": ""
           }
          },
          "colorscale": {
           "diverging": [
            [
             0,
             "#8e0152"
            ],
            [
             0.1,
             "#c51b7d"
            ],
            [
             0.2,
             "#de77ae"
            ],
            [
             0.3,
             "#f1b6da"
            ],
            [
             0.4,
             "#fde0ef"
            ],
            [
             0.5,
             "#f7f7f7"
            ],
            [
             0.6,
             "#e6f5d0"
            ],
            [
             0.7,
             "#b8e186"
            ],
            [
             0.8,
             "#7fbc41"
            ],
            [
             0.9,
             "#4d9221"
            ],
            [
             1,
             "#276419"
            ]
           ],
           "sequential": [
            [
             0,
             "#0d0887"
            ],
            [
             0.1111111111111111,
             "#46039f"
            ],
            [
             0.2222222222222222,
             "#7201a8"
            ],
            [
             0.3333333333333333,
             "#9c179e"
            ],
            [
             0.4444444444444444,
             "#bd3786"
            ],
            [
             0.5555555555555556,
             "#d8576b"
            ],
            [
             0.6666666666666666,
             "#ed7953"
            ],
            [
             0.7777777777777778,
             "#fb9f3a"
            ],
            [
             0.8888888888888888,
             "#fdca26"
            ],
            [
             1,
             "#f0f921"
            ]
           ],
           "sequentialminus": [
            [
             0,
             "#0d0887"
            ],
            [
             0.1111111111111111,
             "#46039f"
            ],
            [
             0.2222222222222222,
             "#7201a8"
            ],
            [
             0.3333333333333333,
             "#9c179e"
            ],
            [
             0.4444444444444444,
             "#bd3786"
            ],
            [
             0.5555555555555556,
             "#d8576b"
            ],
            [
             0.6666666666666666,
             "#ed7953"
            ],
            [
             0.7777777777777778,
             "#fb9f3a"
            ],
            [
             0.8888888888888888,
             "#fdca26"
            ],
            [
             1,
             "#f0f921"
            ]
           ]
          },
          "colorway": [
           "#636efa",
           "#EF553B",
           "#00cc96",
           "#ab63fa",
           "#FFA15A",
           "#19d3f3",
           "#FF6692",
           "#B6E880",
           "#FF97FF",
           "#FECB52"
          ],
          "font": {
           "color": "#2a3f5f"
          },
          "geo": {
           "bgcolor": "white",
           "lakecolor": "white",
           "landcolor": "#E5ECF6",
           "showlakes": true,
           "showland": true,
           "subunitcolor": "white"
          },
          "hoverlabel": {
           "align": "left"
          },
          "hovermode": "closest",
          "mapbox": {
           "style": "light"
          },
          "paper_bgcolor": "white",
          "plot_bgcolor": "#E5ECF6",
          "polar": {
           "angularaxis": {
            "gridcolor": "white",
            "linecolor": "white",
            "ticks": ""
           },
           "bgcolor": "#E5ECF6",
           "radialaxis": {
            "gridcolor": "white",
            "linecolor": "white",
            "ticks": ""
           }
          },
          "scene": {
           "xaxis": {
            "backgroundcolor": "#E5ECF6",
            "gridcolor": "white",
            "gridwidth": 2,
            "linecolor": "white",
            "showbackground": true,
            "ticks": "",
            "zerolinecolor": "white"
           },
           "yaxis": {
            "backgroundcolor": "#E5ECF6",
            "gridcolor": "white",
            "gridwidth": 2,
            "linecolor": "white",
            "showbackground": true,
            "ticks": "",
            "zerolinecolor": "white"
           },
           "zaxis": {
            "backgroundcolor": "#E5ECF6",
            "gridcolor": "white",
            "gridwidth": 2,
            "linecolor": "white",
            "showbackground": true,
            "ticks": "",
            "zerolinecolor": "white"
           }
          },
          "shapedefaults": {
           "line": {
            "color": "#2a3f5f"
           }
          },
          "ternary": {
           "aaxis": {
            "gridcolor": "white",
            "linecolor": "white",
            "ticks": ""
           },
           "baxis": {
            "gridcolor": "white",
            "linecolor": "white",
            "ticks": ""
           },
           "bgcolor": "#E5ECF6",
           "caxis": {
            "gridcolor": "white",
            "linecolor": "white",
            "ticks": ""
           }
          },
          "title": {
           "x": 0.05
          },
          "xaxis": {
           "automargin": true,
           "gridcolor": "white",
           "linecolor": "white",
           "ticks": "",
           "title": {
            "standoff": 15
           },
           "zerolinecolor": "white",
           "zerolinewidth": 2
          },
          "yaxis": {
           "automargin": true,
           "gridcolor": "white",
           "linecolor": "white",
           "ticks": "",
           "title": {
            "standoff": 15
           },
           "zerolinecolor": "white",
           "zerolinewidth": 2
          }
         }
        },
        "title": {
         "font": {
          "color": "#655643",
          "family": "Merryweather",
          "size": 18
         },
         "text": "Data Jobs ‒ Technologies in Demand and Relationships Between Them"
        },
        "width": 960,
        "xaxis": {
         "showgrid": false,
         "showline": false,
         "showticklabels": false,
         "title": {
          "text": ""
         },
         "zeroline": false
        },
        "yaxis": {
         "showgrid": false,
         "showline": false,
         "showticklabels": false,
         "title": {
          "text": ""
         },
         "zeroline": false
        }
       }
      },
      "text/html": [
       "<div>\n",
       "        \n",
       "        \n",
       "            <div id=\"1368fa33-1bf6-4cda-bbb7-335bc968e43f\" class=\"plotly-graph-div\" style=\"height:540px; width:960px;\"></div>\n",
       "            <script type=\"text/javascript\">\n",
       "                require([\"plotly\"], function(Plotly) {\n",
       "                    window.PLOTLYENV=window.PLOTLYENV || {};\n",
       "                    \n",
       "                if (document.getElementById(\"1368fa33-1bf6-4cda-bbb7-335bc968e43f\")) {\n",
       "                    Plotly.newPlot(\n",
       "                        '1368fa33-1bf6-4cda-bbb7-335bc968e43f',\n",
       "                        [{\"hoverinfo\": \"text\", \"line\": {\"color\": \"#f2e6ce\", \"shape\": \"spline\", \"width\": 0.25}, \"mode\": \"lines\", \"text\": \"Power BI<br>1915\", \"type\": \"scatter\", \"x\": [1.1, 1.0997435792523331, 1.0989744365576954, 1.097692930505441, 1.0958996585587342, 1.0935954567759987, 1.090781399421133, 1.0874587984626656, 1.083629202962091, 1.079294398351667, 1.0744564056020098, 1.0691174802798797, 1.063280111496591, 1.0569470207475398, 1.0501211606433893], \"y\": [0.0, 0.02374994512135983, 0.047488817554201354, 0.07120554977231001, 0.09488908457167206, 0.11852838022555896, 0.14211241563239643, 0.1656301954540171, 0.18907075524190226, 0.21242316654902177, 0.2356765420248898, 0.25882004049146046, 0.28184287199749647, 0.3047343028490557, 0.3274836606137489]}, {\"hoverinfo\": \"text\", \"line\": {\"color\": \"#ecd5bb\", \"shape\": \"spline\", \"width\": 0.25}, \"mode\": \"lines\", \"text\": \"Excel<br>5234\", \"type\": \"scatter\", \"x\": [1.039316478876382, 1.031719679494147, 1.0236901305650958, 1.0152312000424908, 1.0063464359815086, 0.9970395650510282, 0.9873144909704972, 0.977175292872537, 0.9666262235919726, 0.955671707882001, 0.9443163405582518, 0.9325648845715163, 0.9204222690099503, 0.9078935870315947, 0.8949840937280757, 0.8816992039203838, 0.8680444898876546, 0.8540256790299047, 0.839648651465703, 0.824919437565786, 0.809844215423648, 0.7944293082641726, 0.7786811817913878, 0.7626064414764595, 0.7462118297870608, 0.7295042233592778, 0.71249063011324, 0.695178186313684, 0.677574153576684, 0.6596859158238038, 0.6415209761849482, 0.6230869538512145, 0.6043915808790609, 0.5854426989471351, 0.5662482560671228, 0.5468163032499939, 0.5271549911290478, 0.507272566541172, 0.4871773690677479, 0.46687782753665613, 0.44638245648684843, 0.4256998525969678, 0.4048386910795134, 0.3838077220420707], \"y\": [0.3603071699758407, 0.38151605856699494, 0.4025649221971744, 0.4234449320281025, 0.444147330046366, 0.46466343273691846, 0.4849846347253368, 0.5051024123873015, 0.5250083274237867, 0.5446940304004624, 0.5641512642498215, 0.5833718677345651, 0.6023477788707907, 0.6210710383095516, 0.6395337926753636, 0.6577282978602651, 0.6756469222720413, 0.6932821500352584, 0.7106265841437587, 0.7276729495632963, 0.7444140962830139, 0.7608430023144778, 0.7769527766370153, 0.7927366620881183, 0.8081880381976998, 0.8233004239650172, 0.8380674805770945, 0.8524830140675046, 0.8665409779143974, 0.8802354755766831, 0.8935607629673045, 0.9065112508625663, 0.9190815072465063, 0.9312662595893263, 0.9430603970589277, 0.9544589726646248, 0.9654572053321337, 0.9760504819089698, 0.9862343590994118, 0.9960045653282181, 1.005357002532318, 1.0142877478797228, 1.0227930554149391, 1.0308693576301882]}, {\"hoverinfo\": \"text\", \"line\": {\"color\": \"#e6c4a9\", \"shape\": \"spline\", \"width\": 0.25}, \"mode\": \"lines\", \"text\": \"SSIS/SSRS<br>3138\", \"type\": \"scatter\", \"x\": [0.3512379470665301, 0.3287720109724563, 0.30615444861742513, 0.28339569098794826, 0.2605062341883419, 0.2374966346000315, 0.2143775040130578, 0.19115950473202856, 0.16785334465877383, 0.14446977235397118, 0.12101957208002176, 0.09751355882745878, 0.07396257332718553, 0.050377477050842244, 0.026769147201607234, 0.003148471697743077, -0.020473655848799066, -0.04408634115640092, -0.06767869429810719, -0.09123983472394856, -0.11475889627893764, -0.1382250322144286, -0.16162742019052545, -0.18495526726723377, -0.2081978148820531], \"y\": [1.0424163777207693, 1.0497185169373395, 1.0565365367992536, 1.0628672929060634, 1.0687078655783389, 1.0740555612041955, 1.0789079134815591, 1.0832626845556002, 1.0871178660508083, 1.090471679997235, 1.0933225796504746, 1.0956692502050078, 1.0975106094005747, 1.0988458080213037, 1.0996742302873606, 1.099995494138939, 1.0998094514124641, 1.0991161879089224, 1.0979160233542926, 1.0962095112520902, 1.0939974386280986, 1.0912808256673991, 1.0880609252438742, 1.0843392223423933, 1.0801174333739543]}, {\"hoverinfo\": \"text\", \"line\": {\"color\": \"#e1b396\", \"shape\": \"spline\", \"width\": 0.25}, \"mode\": \"lines\", \"text\": \"MS SQL Server<br>2242\", \"type\": \"scatter\", \"x\": [-0.24202239030421785, -0.26605451497379246, -0.28995249404290085, -0.31370427806839624, -0.3372978913191749, -0.36072143781438126, -0.38396310732140193, -0.4070111813106258, -0.4298540388639675, -0.4524801625341729, -0.4748781441519567, -0.49703669057804006, -0.5189446293971904, -0.5405909145513916, -0.5619646319093043, -0.5830550047692084, -0.6038513992926525], \"y\": [1.0730448092188103, 1.0673401496533617, 1.0610973335176663, 1.0543195084610673, 1.0470100918862426, 1.0391727692261405, 1.0308114920857712, 1.0219304762497932, 1.0125341995569013, 1.0026273996420847, 0.9922150715478946, 0.9813024652059272, 0.9698950827897896, 0.9579986759408857, 0.945619242868418, 0.9327630253250708, 0.9194365054598961]}, {\"hoverinfo\": \"text\", \"line\": {\"color\": \"#dba284\", \"shape\": \"spline\", \"width\": 0.25}, \"mode\": \"lines\", \"text\": \"PostgreSQL<br>741\", \"type\": \"scatter\", \"x\": [-0.6324336336396699, -0.6542283605150239, -0.675632710115426, -0.6966339104912422, -0.7172194302514967], \"y\": [0.9000153882247369, 0.8842993001794268, 0.8680555518064987, 0.8512938357310477, 0.8340241536488728]}, {\"hoverinfo\": \"text\", \"line\": {\"color\": \"#d59171\", \"shape\": \"spline\", \"width\": 0.25}, \"mode\": \"lines\", \"text\": \"MySQL/MariaDB<br>1066\", \"type\": \"scatter\", \"x\": [-0.7430628575137477, -0.773799117092248, -0.8033833781821841, -0.8317715970216695, -0.8589215104645294], \"y\": [0.8110842063457433, 0.7818151484764526, 0.7513821581995289, 0.7198305428279781, 0.6872072750352193]}, {\"hoverinfo\": \"text\", \"line\": {\"color\": \"#d0805f\", \"shape\": \"spline\", \"width\": 0.25}, \"mode\": \"lines\", \"text\": \"T-SQL<br>1609\", \"type\": \"scatter\", \"x\": [-0.8800833867014087, -0.9194259824940233, -0.9552077136102125, -0.9872900002134055, -1.0155485901253096], \"y\": [0.6598888030965362, 0.6038674214717168, 0.5455073087132293, 0.4850344889578614, 0.42268316869080097]}, {\"hoverinfo\": \"text\", \"line\": {\"color\": \"#ca6f4c\", \"shape\": \"spline\", \"width\": 0.25}, \"mode\": \"lines\", \"text\": \"PL/SQL<br>501\", \"type\": \"scatter\", \"x\": [-1.0283242773785428, -1.0336809671193776, -1.0388358591635918, -1.0437879471607023, -1.0485362643521219], \"y\": [0.390575447966072, 0.376169719960483, 0.3616905551930297, 0.3471407803212511, 0.3325232357873615]}, {\"hoverinfo\": \"text\", \"line\": {\"color\": \"#c45e3a\", \"shape\": \"spline\", \"width\": 0.25}, \"mode\": \"lines\", \"text\": \"Pentaho<br>643\", \"type\": \"scatter\", \"x\": [-1.0584636822485192, -1.0642841856164236, -1.0696722108962793, -1.074625568632579, -1.0791422459995086], \"y\": [0.29942383565926384, 0.2780272868744835, 0.2565177600796215, 0.23490399579638094, 0.2131947769039763]}, {\"hoverinfo\": \"text\", \"line\": {\"color\": \"#bf4d28\", \"shape\": \"spline\", \"width\": 0.25}, \"mode\": \"lines\", \"text\": \"Hadoop<br>1387\", \"type\": \"scatter\", \"x\": [-1.0853063642183651, -1.0932230233928015, -1.0981189906792714, -1.0999807379976396, -1.0988031211413707], \"y\": [0.17919290105111224, 0.1219156311713242, 0.06430149539115233, 0.00650968771663143, -0.05130010691979757]}, {\"hoverinfo\": \"text\", \"line\": {\"color\": \"#af4624\", \"shape\": \"spline\", \"width\": 0.25}, \"mode\": \"lines\", \"text\": \"Spark<br>1401\", \"type\": \"scatter\", \"x\": [-1.0966495528320015, -1.090538906166779, -1.0813446768891062, -1.0690928623892415, -1.0538181056147669], \"y\": [-0.08578903352626795, -0.14396143280950452, -0.20172677007178516, -0.25892170938022696, -0.31538452764602154]}, {\"hoverinfo\": \"text\", \"line\": {\"color\": \"#9f4021\", \"shape\": \"spline\", \"width\": 0.25}, \"mode\": \"lines\", \"text\": \"Informatica<br>904\", \"type\": \"scatter\", \"x\": [-1.0433916425792884, -1.0318923231007302, -1.0193672945026473, -1.0058290067623952, -0.9912909170449189], \"y\": [-0.3483301310476808, -0.38104885976181396, -0.41338882289964396, -0.4453178742823758, -0.47680427618074467]}, {\"hoverinfo\": \"text\", \"line\": {\"color\": \"#8f391e\", \"shape\": \"spline\", \"width\": 0.25}, \"mode\": \"lines\", \"text\": \"Qlik<br>2240\", \"type\": \"scatter\", \"x\": [-0.9758249905708241, -0.9641909593320581, -0.9520717223921025, -0.9394733784628367, -0.9264022673551048, -0.9128649667883608, -0.8988682890805897, -0.8844192777201756, -0.8695252038214353, -0.8541935624656066, -0.8384320689291327, -0.8222486548011335, -0.8056514639920287, -0.7886488486353095, -0.7712493648845339, -0.7534617686076459, -0.7352950109808012], \"y\": [-0.5077062022247231, -0.5294674625907863, -0.550962281305477, -0.5721798416229146, -0.5931094663207807, -0.6137406230733674, -0.6340629297517193, -0.6540661596481835, -0.6737402466227558, -0.6930752901686195, -0.7120615603943343, -0.730689502920171, -0.7489497436861176, -0.766833093669151, -0.7843305535073866, -0.8014333180287918, -0.8181327806821724]}, {\"hoverinfo\": \"text\", \"line\": {\"color\": \"#f0f3e7\", \"shape\": \"spline\", \"width\": 0.25}, \"mode\": \"lines\", \"text\": \"Tableau<br>3216\", \"type\": \"scatter\", \"x\": [-0.7092340156115767, -0.6912843599333489, -0.6730251843532163, -0.6544646643465128, -0.6356111103143779, -0.6164729638628034, -0.5970587940229358, -0.5773772934143299, -0.5574372743528591, -0.5372476649050335, -0.5168175048904979, -0.49615594183448036, -0.4752722268720299, -0.4541757106058534, -0.43287583891961673, -0.4113821487485924, -0.38970426380953077, -0.3678518902916753, -0.3458348125108604, -0.3236628885286142, -0.3013460457382563, -0.2788942764199426, -0.25631763326665813, -0.23362622488316798, -0.21083021125992565, -0.18793979922397386], \"y\": [-0.8408252559833572, -0.8556435786655214, -0.8700787902404697, -0.8841244273979803, -0.8977742012582697, -0.9110220001878171, -0.9238618925358257, -0.9362881292900936, -0.9482951466511128, -0.9598775685232408, -0.9710302089218236, -0.9817480742952032, -0.9920263657605587, -1.0018604812525886, -1.0112460175840685, -1.0201787724173599, -1.0286547461459903, -1.0366701436854644, -1.0442213761724946, -1.0513050625719036, -1.0579180311904686, -1.064057321097034, -1.0697201834482601, -1.0749040827194023, -1.079606697839586, -1.0838259232310568]}, {\"hoverinfo\": \"text\", \"line\": {\"color\": \"#e2ecde\", \"shape\": \"spline\", \"width\": 0.25}, \"mode\": \"lines\", \"text\": \"Microstrategy<br>506\", \"type\": \"scatter\", \"x\": [-0.15380326732093982, -0.13833247681281413, -0.12283383212444073, -0.10731045401279898, -0.09176546821511335], \"y\": [-1.089194452318503, -1.0912672110252524, -1.0931202356948777, -1.0947531532083234, -1.0961656347665991]}, {\"hoverinfo\": \"text\", \"line\": {\"color\": \"#d4e5d6\", \"shape\": \"spline\", \"width\": 0.25}, \"mode\": \"lines\", \"text\": \"Oracle BI<br>3908\", \"type\": \"scatter\", \"x\": [-0.0572887928326618, -0.03425888119761565, -0.011213926886250543, 0.011835951329997547, 0.03488063251766327, 0.05790999802523606, 0.08091393592614143, 0.10388234545877417, 0.12680514146161947, 0.149672258801534, 0.17247365679322776, 0.19519932360801232, 0.21783928066987818, 0.24038358703697177, 0.2628223437665471, 0.2851456982614766, 0.3073438485964108, 0.3294070478216937, 0.3513256082431294, 0.37308990567573946, 0.39469038366963, 0.4161175577061174, 0.43736201936227026, 0.4584144404420387, 0.4792655770721565, 0.49990627376101754, 0.5203274674187501, 0.5405201913367045, 0.5604755791246432, 0.5801848686038593, 0.5996394056545525, 0.618830648015751], \"y\": [-1.0985071662104788, -1.0994663837785528, -1.0999428384437937, -1.0999363210004995, -1.0994468343104036, -1.0984745933014188, -1.0970200248732656, -1.095083767710025, -1.0926666719996996, -1.0897697990609057, -1.0863944208768619, -1.0825420195368745, -1.0782142865855704, -1.0734131222801586, -1.0681406347560507, -1.062399139101202, -1.0561911563395836, -1.0495194123242297, -1.0423868365403486, -1.0347965608190182, -1.0267519179620366, -1.0182564402785264, -1.0093138580339405, -0.999928097812144, -0.9901032807912985, -0.9798437209343002, -0.9691539230945669, -0.9580385810380146, -0.9465025753820727, -0.9345509714526666, -0.9221890170600902, -0.9094221401947534]}, {\"hoverinfo\": \"text\", \"line\": {\"color\": \"#c6decd\", \"shape\": \"spline\", \"width\": 0.25}, \"mode\": \"lines\", \"text\": \"Python<br>2730\", \"type\": \"scatter\", \"x\": [0.6470909321930932, 0.6657655245488541, 0.6841420895423561, 0.7022124009753502, 0.7199683697428091, 0.7374020474539842, 0.7545056299904713, 0.7712714609996957, 0.7876920353222463, 0.8037600023515333, 0.819468169324258, 0.8348095045402252, 0.8497771405100573, 0.8643643770293986, 0.8785646841782364, 0.8923717052439945, 0.9057792595670903, 0.9187813453076842, 0.9313721421323791, 0.9435460138196703, 0.9552975107829789, 0.9666213725101374], \"y\": [-0.8895354548715154, -0.8756461992849564, -0.8613649640637927, -0.8466981421477398, -0.8316522990829052, -0.816234170082748, -0.8004506570130866, -0.7843088253025048, -0.7678159007795405, -0.750979266438071, -0.7338064591323447, -0.7163051662031371, -0.698483222036543, -0.6803486045569432, -0.6619094316557183, -0.6431739575573048, -0.6241505691242248, -0.6048477821027387, -0.5852742373108044, -0.5654386967700484, -0.5453500397834811, -0.5250172589607112]}, {\"hoverinfo\": \"text\", \"line\": {\"color\": \"#b8d7c5\", \"shape\": \"spline\", \"width\": 0.25}, \"mode\": \"lines\", \"text\": \"VBA<br>910\", \"type\": \"scatter\", \"x\": [0.982635593846684, 0.9978535787976106, 1.0120631763600925, 1.0252500269334013, 1.037400804460393], \"y\": [-0.4943958835847795, -0.4629127728641768, -0.4309618626467084, -0.39857544113136256, -0.36578623662588694]}, {\"hoverinfo\": \"text\", \"line\": {\"color\": \"#aad0bc\", \"shape\": \"spline\", \"width\": 0.25}, \"mode\": \"lines\", \"text\": \"Linux<br>1007\", \"type\": \"scatter\", \"x\": [1.0483785331396014, 1.0596902455405286, 1.0696274933952943, 1.078177387659274, 1.0853288387460633], \"y\": [-0.3330201964627041, -0.2950535265104531, -0.2567041592434761, -0.21802183546659717, -0.1790567278437802]}, {\"hoverinfo\": \"text\", \"line\": {\"color\": \"#9cc9b4\", \"shape\": \"spline\", \"width\": 0.25}, \"mode\": \"lines\", \"text\": \"AWS<br>758\", \"type\": \"scatter\", \"x\": [1.0904176022204306, 1.0937182335950206, 1.0963260743548584, 1.098239472623302, 1.0994572164023046], \"y\": [-0.14487737148308252, -0.11739005708231119, -0.0898283846546598, -0.062209812506481166, -0.03455183498594511]}, {\"hoverinfo\": \"text\", \"marker\": {\"color\": \"green\", \"size\": 0.5}, \"mode\": \"markers\", \"text\": \"Power BI appears with Excel 300 times\", \"type\": \"scatter\", \"x\": [0.8652930425056767], \"y\": [0.2475236364294714]}, {\"hoverinfo\": \"text\", \"marker\": {\"color\": \"blue\", \"size\": 0.5}, \"mode\": \"markers\", \"text\": \"Excel appears with Power BI 300 times\", \"type\": \"scatter\", \"x\": [0.7358601191896398], \"y\": [0.5181793945982502]}, {\"hoverinfo\": \"text\", \"marker\": {\"color\": \"green\", \"size\": 0.5}, \"mode\": \"markers\", \"text\": \"Power BI appears with SSIS/SSRS 192 times\", \"type\": \"scatter\", \"x\": [0.8936662050012191], \"y\": [0.10658665037761066]}, {\"hoverinfo\": \"text\", \"marker\": {\"color\": \"blue\", \"size\": 0.5}, \"mode\": \"markers\", \"text\": \"SSIS/SSRS appears with Power BI 192 times\", \"type\": \"scatter\", \"x\": [0.12461077260157877], \"y\": [0.8913316752767387]}, {\"hoverinfo\": \"text\", \"marker\": {\"color\": \"green\", \"size\": 0.5}, \"mode\": \"markers\", \"text\": \"Power BI appears with MS SQL Server 175 times\", \"type\": \"scatter\", \"x\": [0.8963783387522509], \"y\": [0.08065899711597592]}, {\"hoverinfo\": \"text\", \"marker\": {\"color\": \"blue\", \"size\": 0.5}, \"mode\": \"markers\", \"text\": \"MS SQL Server appears with Power BI 175 times\", \"type\": \"scatter\", \"x\": [-0.34857649391891643], \"y\": [0.8297556434801728]}, {\"hoverinfo\": \"text\", \"marker\": {\"color\": \"green\", \"size\": 0.5}, \"mode\": \"markers\", \"text\": \"Power BI appears with MySQL/MariaDB 5 times\", \"type\": \"scatter\", \"x\": [0.8999999299160798], \"y\": [0.0003551774929684149]}, {\"hoverinfo\": \"text\", \"marker\": {\"color\": \"blue\", \"size\": 0.5}, \"mode\": \"markers\", \"text\": \"MySQL/MariaDB appears with Power BI 5 times\", \"type\": \"scatter\", \"x\": [-0.6082967405540132], \"y\": [0.6633061702045019]}, {\"hoverinfo\": \"text\", \"marker\": {\"color\": \"green\", \"size\": 0.5}, \"mode\": \"markers\", \"text\": \"Power BI appears with T-SQL 79 times\", \"type\": \"scatter\", \"x\": [0.8988483996092099], \"y\": [0.045514333126633916]}, {\"hoverinfo\": \"text\", \"marker\": {\"color\": \"blue\", \"size\": 0.5}, \"mode\": \"markers\", \"text\": \"T-SQL appears with Power BI 79 times\", \"type\": \"scatter\", \"x\": [-0.7633188398436962], \"y\": [0.4768064059339741]}, {\"hoverinfo\": \"text\", \"marker\": {\"color\": \"green\", \"size\": 0.5}, \"mode\": \"markers\", \"text\": \"Power BI appears with PL/SQL 11 times\", \"type\": \"scatter\", \"x\": [0.8999952875612547], \"y\": [0.0029124504346903658]}, {\"hoverinfo\": \"text\", \"marker\": {\"color\": \"blue\", \"size\": 0.5}, \"mode\": \"markers\", \"text\": \"PL/SQL appears with Power BI 11 times\", \"type\": \"scatter\", \"x\": [-0.8431431328817505], \"y\": [0.31481686338941084]}, {\"hoverinfo\": \"text\", \"marker\": {\"color\": \"green\", \"size\": 0.5}, \"mode\": \"markers\", \"text\": \"Power BI appears with Pentaho 13 times\", \"type\": \"scatter\", \"x\": [0.8999881558433052], \"y\": [0.004617287273566118]}, {\"hoverinfo\": \"text\", \"marker\": {\"color\": \"blue\", \"size\": 0.5}, \"mode\": \"markers\", \"text\": \"Pentaho appears with Power BI 13 times\", \"type\": \"scatter\", \"x\": [-0.8669767156134639], \"y\": [0.2415602918198498]}, {\"hoverinfo\": \"text\", \"marker\": {\"color\": \"green\", \"size\": 0.5}, \"mode\": \"markers\", \"text\": \"Power BI appears with Hadoop 55 times\", \"type\": \"scatter\", \"x\": [0.8995888097021049], \"y\": [0.02720245317522392]}, {\"hoverinfo\": \"text\", \"marker\": {\"color\": \"blue\", \"size\": 0.5}, \"mode\": \"markers\", \"text\": \"Hadoop appears with Power BI 55 times\", \"type\": \"scatter\", \"x\": [-0.8914519961109549], \"y\": [0.12374707523733215]}, {\"hoverinfo\": \"text\", \"marker\": {\"color\": \"green\", \"size\": 0.5}, \"mode\": \"markers\", \"text\": \"Power BI appears with Spark 62 times\", \"type\": \"scatter\", \"x\": [0.8992992517422763], \"y\": [0.03550853159146341]}, {\"hoverinfo\": \"text\", \"marker\": {\"color\": \"blue\", \"size\": 0.5}, \"mode\": \"markers\", \"text\": \"Spark appears with Power BI 62 times\", \"type\": \"scatter\", \"x\": [-0.8938373408517482], \"y\": [-0.1051418475159911]}, {\"hoverinfo\": \"text\", \"marker\": {\"color\": \"green\", \"size\": 0.5}, \"mode\": \"markers\", \"text\": \"Power BI appears with Informatica 27 times\", \"type\": \"scatter\", \"x\": [0.8999504118761287], \"y\": [0.009447548040969294]}, {\"hoverinfo\": \"text\", \"marker\": {\"color\": \"blue\", \"size\": 0.5}, \"mode\": \"markers\", \"text\": \"Informatica appears with Power BI 27 times\", \"type\": \"scatter\", \"x\": [-0.8485636144981793], \"y\": [-0.29989963679502085]}, {\"hoverinfo\": \"text\", \"marker\": {\"color\": \"green\", \"size\": 0.5}, \"mode\": \"markers\", \"text\": \"Power BI appears with Qlik 238 times\", \"type\": \"scatter\", \"x\": [0.889534792115113], \"y\": [0.13684974832539043]}, {\"hoverinfo\": \"text\", \"marker\": {\"color\": \"blue\", \"size\": 0.5}, \"mode\": \"markers\", \"text\": \"Qlik appears with Power BI 238 times\", \"type\": \"scatter\", \"x\": [-0.7403092744341913], \"y\": [-0.511802870436188]}, {\"hoverinfo\": \"text\", \"marker\": {\"color\": \"green\", \"size\": 0.5}, \"mode\": \"markers\", \"text\": \"Power BI appears with Tableau 275 times\", \"type\": \"scatter\", \"x\": [0.8756317836935222], \"y\": [0.20801196933277852]}, {\"hoverinfo\": \"text\", \"marker\": {\"color\": \"blue\", \"size\": 0.5}, \"mode\": \"markers\", \"text\": \"Tableau appears with Power BI 275 times\", \"type\": \"scatter\", \"x\": [-0.38955054679437956], \"y\": [-0.8113263039567988]}, {\"hoverinfo\": \"text\", \"marker\": {\"color\": \"green\", \"size\": 0.5}, \"mode\": \"markers\", \"text\": \"Power BI appears with Microstrategy 39 times\", \"type\": \"scatter\", \"x\": [0.8998889865478449], \"y\": [0.014135483362541468]}, {\"hoverinfo\": \"text\", \"marker\": {\"color\": \"blue\", \"size\": 0.5}, \"mode\": \"markers\", \"text\": \"Microstrategy appears with Power BI 39 times\", \"type\": \"scatter\", \"x\": [-0.10767041583491091], \"y\": [-0.8935362788124148]}, {\"hoverinfo\": \"text\", \"marker\": {\"color\": \"green\", \"size\": 0.5}, \"mode\": \"markers\", \"text\": \"Power BI appears with Oracle BI 254 times\", \"type\": \"scatter\", \"x\": [0.8835512600971055], \"y\": [0.17128097028221503]}, {\"hoverinfo\": \"text\", \"marker\": {\"color\": \"blue\", \"size\": 0.5}, \"mode\": \"markers\", \"text\": \"Oracle BI appears with Power BI 254 times\", \"type\": \"scatter\", \"x\": [0.1952409154083468], \"y\": [-0.8785675756312151]}, {\"hoverinfo\": \"text\", \"marker\": {\"color\": \"green\", \"size\": 0.5}, \"mode\": \"markers\", \"text\": \"Power BI appears with Python 121 times\", \"type\": \"scatter\", \"x\": [0.898017966886008], \"y\": [0.05969699447979556]}, {\"hoverinfo\": \"text\", \"marker\": {\"color\": \"blue\", \"size\": 0.5}, \"mode\": \"markers\", \"text\": \"Python appears with Power BI 121 times\", \"type\": \"scatter\", \"x\": [0.5863471035741645], \"y\": [-0.6827862580121161]}, {\"hoverinfo\": \"text\", \"marker\": {\"color\": \"green\", \"size\": 0.5}, \"mode\": \"markers\", \"text\": \"Power BI appears with VBA 45 times\", \"type\": \"scatter\", \"x\": [0.8997754912883029], \"y\": [0.020101375000063978]}, {\"hoverinfo\": \"text\", \"marker\": {\"color\": \"blue\", \"size\": 0.5}, \"mode\": \"markers\", \"text\": \"VBA appears with Power BI 45 times\", \"type\": \"scatter\", \"x\": [0.813974225526221], \"y\": [-0.3839869270938645]}, {\"hoverinfo\": \"text\", \"marker\": {\"color\": \"green\", \"size\": 0.5}, \"mode\": \"markers\", \"text\": \"Power BI appears with Linux 14 times\", \"type\": \"scatter\", \"x\": [0.8999762724919163], \"y\": [0.00653520860845836]}, {\"hoverinfo\": \"text\", \"marker\": {\"color\": \"blue\", \"size\": 0.5}, \"mode\": \"markers\", \"text\": \"Linux appears with Power BI 14 times\", \"type\": \"scatter\", \"x\": [0.8590410594769149], \"y\": [-0.2684184385111792]}, {\"hoverinfo\": \"text\", \"marker\": {\"color\": \"green\", \"size\": 0.5}, \"mode\": \"markers\", \"text\": \"Power BI appears with AWS 10 times\", \"type\": \"scatter\", \"x\": [0.8999988786574946], \"y\": [0.0014207094187130202]}, {\"hoverinfo\": \"text\", \"marker\": {\"color\": \"blue\", \"size\": 0.5}, \"mode\": \"markers\", \"text\": \"AWS appears with Power BI 10 times\", \"type\": \"scatter\", \"x\": [0.8924715781560659], \"y\": [-0.11616575305838331]}, {\"hoverinfo\": \"text\", \"marker\": {\"color\": \"green\", \"size\": 0.5}, \"mode\": \"markers\", \"text\": \"Excel appears with SSIS/SSRS 737 times\", \"type\": \"scatter\", \"x\": [0.4711905075579505], \"y\": [0.7667982169953715]}, {\"hoverinfo\": \"text\", \"marker\": {\"color\": \"blue\", \"size\": 0.5}, \"mode\": \"markers\", \"text\": \"SSIS/SSRS appears with Excel 737 times\", \"type\": \"scatter\", \"x\": [-0.11657536235247315], \"y\": [0.8924181670564476]}, {\"hoverinfo\": \"text\", \"marker\": {\"color\": \"green\", \"size\": 0.5}, \"mode\": \"markers\", \"text\": \"Excel appears with MS SQL Server 296 times\", \"type\": \"scatter\", \"x\": [0.7609066095834075], \"y\": [0.48064657649075576]}, {\"hoverinfo\": \"text\", \"marker\": {\"color\": \"blue\", \"size\": 0.5}, \"mode\": \"markers\", \"text\": \"MS SQL Server appears with Excel 296 times\", \"type\": \"scatter\", \"x\": [-0.43668521844147545], \"y\": [0.7869599862729495]}, {\"hoverinfo\": \"text\", \"marker\": {\"color\": \"green\", \"size\": 0.5}, \"mode\": \"markers\", \"text\": \"Excel appears with PostgreSQL 83 times\", \"type\": \"scatter\", \"x\": [0.8334525994321782], \"y\": [0.33964211237675634]}, {\"hoverinfo\": \"text\", \"marker\": {\"color\": \"blue\", \"size\": 0.5}, \"mode\": \"markers\", \"text\": \"PostgreSQL appears with Excel 83 times\", \"type\": \"scatter\", \"x\": [-0.5609945706632856], \"y\": [0.703764940648734]}, {\"hoverinfo\": \"text\", \"marker\": {\"color\": \"green\", \"size\": 0.5}, \"mode\": \"markers\", \"text\": \"Excel appears with MySQL/MariaDB 160 times\", \"type\": \"scatter\", \"x\": [0.793661122165284], \"y\": [0.4243842871305938]}, {\"hoverinfo\": \"text\", \"marker\": {\"color\": \"blue\", \"size\": 0.5}, \"mode\": \"markers\", \"text\": \"MySQL/MariaDB appears with Excel 160 times\", \"type\": \"scatter\", \"x\": [-0.6961941433743273], \"y\": [0.5703627922044763]}, {\"hoverinfo\": \"text\", \"marker\": {\"color\": \"green\", \"size\": 0.5}, \"mode\": \"markers\", \"text\": \"Excel appears with T-SQL 202 times\", \"type\": \"scatter\", \"x\": [0.7803704696567796], \"y\": [0.44835469227795244]}, {\"hoverinfo\": \"text\", \"marker\": {\"color\": \"blue\", \"size\": 0.5}, \"mode\": \"markers\", \"text\": \"T-SQL appears with Excel 202 times\", \"type\": \"scatter\", \"x\": [-0.8124685740838203], \"y\": [0.38716251901004545]}, {\"hoverinfo\": \"text\", \"marker\": {\"color\": \"green\", \"size\": 0.5}, \"mode\": \"markers\", \"text\": \"Excel appears with PL/SQL 71 times\", \"type\": \"scatter\", \"x\": [0.8421330042994639], \"y\": [0.3175090598228013]}, {\"hoverinfo\": \"text\", \"marker\": {\"color\": \"blue\", \"size\": 0.5}, \"mode\": \"markers\", \"text\": \"PL/SQL appears with Excel 71 times\", \"type\": \"scatter\", \"x\": [-0.8508768125485201], \"y\": [0.2932723135027762]}, {\"hoverinfo\": \"text\", \"marker\": {\"color\": \"green\", \"size\": 0.5}, \"mode\": \"markers\", \"text\": \"Excel appears with Pentaho 68 times\", \"type\": \"scatter\", \"x\": [0.8457883029821069], \"y\": [0.30763963746345757]}, {\"hoverinfo\": \"text\", \"marker\": {\"color\": \"blue\", \"size\": 0.5}, \"mode\": \"markers\", \"text\": \"Pentaho appears with Excel 68 times\", \"type\": \"scatter\", \"x\": [-0.8804912262759108], \"y\": [0.1863738191140129]}, {\"hoverinfo\": \"text\", \"marker\": {\"color\": \"green\", \"size\": 0.5}, \"mode\": \"markers\", \"text\": \"Excel appears with Hadoop 132 times\", \"type\": \"scatter\", \"x\": [0.8038459859603857], \"y\": [0.4047612022605123]}, {\"hoverinfo\": \"text\", \"marker\": {\"color\": \"blue\", \"size\": 0.5}, \"mode\": \"markers\", \"text\": \"Hadoop appears with Excel 132 times\", \"type\": \"scatter\", \"x\": [-0.898276297677488], \"y\": [0.0556748868954849]}, {\"hoverinfo\": \"text\", \"marker\": {\"color\": \"green\", \"size\": 0.5}, \"mode\": \"markers\", \"text\": \"Excel appears with Spark 131 times\", \"type\": \"scatter\", \"x\": [0.8126042960272382], \"y\": [0.3868775750519495]}, {\"hoverinfo\": \"text\", \"marker\": {\"color\": \"blue\", \"size\": 0.5}, \"mode\": \"markers\", \"text\": \"Spark appears with Excel 131 times\", \"type\": \"scatter\", \"x\": [-0.8819384120980304], \"y\": [-0.17940077275754607]}, {\"hoverinfo\": \"text\", \"marker\": {\"color\": \"green\", \"size\": 0.5}, \"mode\": \"markers\", \"text\": \"Excel appears with Informatica 127 times\", \"type\": \"scatter\", \"x\": [0.82080958918471], \"y\": [0.36914985886822105]}, {\"hoverinfo\": \"text\", \"marker\": {\"color\": \"blue\", \"size\": 0.5}, \"mode\": \"markers\", \"text\": \"Informatica appears with Excel 127 times\", \"type\": \"scatter\", \"x\": [-0.8221612092802913], \"y\": [-0.3661296846129373]}, {\"hoverinfo\": \"text\", \"marker\": {\"color\": \"green\", \"size\": 0.5}, \"mode\": \"markers\", \"text\": \"Excel appears with Qlik 503 times\", \"type\": \"scatter\", \"x\": [0.6142879288973367], \"y\": [0.6577616136648753]}, {\"hoverinfo\": \"text\", \"marker\": {\"color\": \"blue\", \"size\": 0.5}, \"mode\": \"markers\", \"text\": \"Qlik appears with Excel 503 times\", \"type\": \"scatter\", \"x\": [-0.628085039375824], \"y\": [-0.6446000180827407]}, {\"hoverinfo\": \"text\", \"marker\": {\"color\": \"green\", \"size\": 0.5}, \"mode\": \"markers\", \"text\": \"Excel appears with Tableau 570 times\", \"type\": \"scatter\", \"x\": [0.5524903823768617], \"y\": [0.7104606796868277]}, {\"hoverinfo\": \"text\", \"marker\": {\"color\": \"blue\", \"size\": 0.5}, \"mode\": \"markers\", \"text\": \"Tableau appears with Excel 570 times\", \"type\": \"scatter\", \"x\": [-0.19515687973098403], \"y\": [-0.8785862463604049]}, {\"hoverinfo\": \"text\", \"marker\": {\"color\": \"green\", \"size\": 0.5}, \"mode\": \"markers\", \"text\": \"Excel appears with Microstrategy 56 times\", \"type\": \"scatter\", \"x\": [0.8489515476825872], \"y\": [0.2987997150054528]}, {\"hoverinfo\": \"text\", \"marker\": {\"color\": \"blue\", \"size\": 0.5}, \"mode\": \"markers\", \"text\": \"Microstrategy appears with Excel 56 times\", \"type\": \"scatter\", \"x\": [-0.09317331406595378], \"y\": [-0.8951640819123426]}, {\"hoverinfo\": \"text\", \"marker\": {\"color\": \"green\", \"size\": 0.5}, \"mode\": \"markers\", \"text\": \"Excel appears with Oracle BI 788 times\", \"type\": \"scatter\", \"x\": [0.3692088917443725], \"y\": [0.8207830372619139]}, {\"hoverinfo\": \"text\", \"marker\": {\"color\": \"blue\", \"size\": 0.5}, \"mode\": \"markers\", \"text\": \"Oracle BI appears with Excel 788 times\", \"type\": \"scatter\", \"x\": [0.4565346634781742], \"y\": [-0.7756133708510126]}, {\"hoverinfo\": \"text\", \"marker\": {\"color\": \"green\", \"size\": 0.5}, \"mode\": \"markers\", \"text\": \"Excel appears with Python 501 times\", \"type\": \"scatter\", \"x\": [0.6675905478658514], \"y\": [0.6035916338056488]}, {\"hoverinfo\": \"text\", \"marker\": {\"color\": \"blue\", \"size\": 0.5}, \"mode\": \"markers\", \"text\": \"Python appears with Excel 501 times\", \"type\": \"scatter\", \"x\": [0.7727065748417563], \"y\": [-0.461437481351831]}, {\"hoverinfo\": \"text\", \"marker\": {\"color\": \"green\", \"size\": 0.5}, \"mode\": \"markers\", \"text\": \"Excel appears with VBA 322 times\", \"type\": \"scatter\", \"x\": [0.7077495530972243], \"y\": [0.5559591442639281]}, {\"hoverinfo\": \"text\", \"marker\": {\"color\": \"blue\", \"size\": 0.5}, \"mode\": \"markers\", \"text\": \"VBA appears with Excel 322 times\", \"type\": \"scatter\", \"x\": [0.8418350641543311], \"y\": [-0.3182981695836048]}, {\"hoverinfo\": \"text\", \"marker\": {\"color\": \"green\", \"size\": 0.5}, \"mode\": \"markers\", \"text\": \"Excel appears with Linux 107 times\", \"type\": \"scatter\", \"x\": [0.8279172919509781], \"y\": [0.35292061102825795]}, {\"hoverinfo\": \"text\", \"marker\": {\"color\": \"blue\", \"size\": 0.5}, \"mode\": \"markers\", \"text\": \"Linux appears with Excel 107 times\", \"type\": \"scatter\", \"x\": [0.8756579927157513], \"y\": [-0.20790161084758643]}, {\"hoverinfo\": \"text\", \"marker\": {\"color\": \"green\", \"size\": 0.5}, \"mode\": \"markers\", \"text\": \"Excel appears with AWS 80 times\", \"type\": \"scatter\", \"x\": [0.8380316540310183], \"y\": [0.3281812713151614]}, {\"hoverinfo\": \"text\", \"marker\": {\"color\": \"blue\", \"size\": 0.5}, \"mode\": \"markers\", \"text\": \"AWS appears with Excel 80 times\", \"type\": \"scatter\", \"x\": [0.8968857277275223], \"y\": [-0.07480635934646826]}, {\"hoverinfo\": \"text\", \"marker\": {\"color\": \"green\", \"size\": 0.5}, \"mode\": \"markers\", \"text\": \"SSIS/SSRS appears with MS SQL Server 317 times\", \"type\": \"scatter\", \"x\": [0.016433740161383034], \"y\": [0.8998499498162503]}, {\"hoverinfo\": \"text\", \"marker\": {\"color\": \"blue\", \"size\": 0.5}, \"mode\": \"markers\", \"text\": \"MS SQL Server appears with SSIS/SSRS 317 times\", \"type\": \"scatter\", \"x\": [-0.4747957226378594], \"y\": [0.7645711358433517]}, {\"hoverinfo\": \"text\", \"marker\": {\"color\": \"green\", \"size\": 0.5}, \"mode\": \"markers\", \"text\": \"SSIS/SSRS appears with PostgreSQL 66 times\", \"type\": \"scatter\", \"x\": [0.26104882762083736], \"y\": [0.8613091835094911]}, {\"hoverinfo\": \"text\", \"marker\": {\"color\": \"blue\", \"size\": 0.5}, \"mode\": \"markers\", \"text\": \"PostgreSQL appears with SSIS/SSRS 66 times\", \"type\": \"scatter\", \"x\": [-0.5540538550296248], \"y\": [0.7092420783673311]}, {\"hoverinfo\": \"text\", \"marker\": {\"color\": \"green\", \"size\": 0.5}, \"mode\": \"markers\", \"text\": \"SSIS/SSRS appears with MySQL/MariaDB 93 times\", \"type\": \"scatter\", \"x\": [0.2053057329014632], \"y\": [0.8762702528545592]}, {\"hoverinfo\": \"text\", \"marker\": {\"color\": \"blue\", \"size\": 0.5}, \"mode\": \"markers\", \"text\": \"MySQL/MariaDB appears with SSIS/SSRS 93 times\", \"type\": \"scatter\", \"x\": [-0.6644343889876403], \"y\": [0.6070641998426699]}, {\"hoverinfo\": \"text\", \"marker\": {\"color\": \"green\", \"size\": 0.5}, \"mode\": \"markers\", \"text\": \"SSIS/SSRS appears with T-SQL 179 times\", \"type\": \"scatter\", \"x\": [0.15170622995414734], \"y\": [0.8871218742614226]}, {\"hoverinfo\": \"text\", \"marker\": {\"color\": \"blue\", \"size\": 0.5}, \"mode\": \"markers\", \"text\": \"T-SQL appears with SSIS/SSRS 179 times\", \"type\": \"scatter\", \"x\": [-0.7882116166943832], \"y\": [0.4344219691820692]}, {\"hoverinfo\": \"text\", \"marker\": {\"color\": \"green\", \"size\": 0.5}, \"mode\": \"markers\", \"text\": \"SSIS/SSRS appears with PL/SQL 76 times\", \"type\": \"scatter\", \"x\": [0.2407484193143933], \"y\": [0.86720251302543]}, {\"hoverinfo\": \"text\", \"marker\": {\"color\": \"blue\", \"size\": 0.5}, \"mode\": \"markers\", \"text\": \"PL/SQL appears with SSIS/SSRS 76 times\", \"type\": \"scatter\", \"x\": [-0.8532528183525638], \"y\": [0.28628591997058955]}, {\"hoverinfo\": \"text\", \"marker\": {\"color\": \"green\", \"size\": 0.5}, \"mode\": \"markers\", \"text\": \"SSIS/SSRS appears with Pentaho 40 times\", \"type\": \"scatter\", \"x\": [0.2806434698129453], \"y\": [0.8551252790388963]}, {\"hoverinfo\": \"text\", \"marker\": {\"color\": \"blue\", \"size\": 0.5}, \"mode\": \"markers\", \"text\": \"Pentaho appears with SSIS/SSRS 40 times\", \"type\": \"scatter\", \"x\": [-0.8715502284800335], \"y\": [0.22449988694073209]}, {\"hoverinfo\": \"text\", \"marker\": {\"color\": \"green\", \"size\": 0.5}, \"mode\": \"markers\", \"text\": \"SSIS/SSRS appears with Hadoop 78 times\", \"type\": \"scatter\", \"x\": [0.22976170380611705], \"y\": [0.8701778895513894]}, {\"hoverinfo\": \"text\", \"marker\": {\"color\": \"blue\", \"size\": 0.5}, \"mode\": \"markers\", \"text\": \"Hadoop appears with SSIS/SSRS 78 times\", \"type\": \"scatter\", \"x\": [-0.8936126424844089], \"y\": [0.10703478496279731]}, {\"hoverinfo\": \"text\", \"marker\": {\"color\": \"green\", \"size\": 0.5}, \"mode\": \"markers\", \"text\": \"SSIS/SSRS appears with Spark 72 times\", \"type\": \"scatter\", \"x\": [0.2512708155774795], \"y\": [0.8642123449934213]}, {\"hoverinfo\": \"text\", \"marker\": {\"color\": \"blue\", \"size\": 0.5}, \"mode\": \"markers\", \"text\": \"Spark appears with SSIS/SSRS 72 times\", \"type\": \"scatter\", \"x\": [-0.8914569781128885], \"y\": [-0.12371118047224773]}, {\"hoverinfo\": \"text\", \"marker\": {\"color\": \"green\", \"size\": 0.5}, \"mode\": \"markers\", \"text\": \"SSIS/SSRS appears with Informatica 85 times\", \"type\": \"scatter\", \"x\": [0.2180929097465034], \"y\": [0.8731755165591301]}, {\"hoverinfo\": \"text\", \"marker\": {\"color\": \"blue\", \"size\": 0.5}, \"mode\": \"markers\", \"text\": \"Informatica appears with SSIS/SSRS 85 times\", \"type\": \"scatter\", \"x\": [-0.8364363172798872], \"y\": [-0.33222625894901786]}, {\"hoverinfo\": \"text\", \"marker\": {\"color\": \"green\", \"size\": 0.5}, \"mode\": \"markers\", \"text\": \"SSIS/SSRS appears with Qlik 118 times\", \"type\": \"scatter\", \"x\": [0.17329691298795089], \"y\": [0.8831580718924822]}, {\"hoverinfo\": \"text\", \"marker\": {\"color\": \"blue\", \"size\": 0.5}, \"mode\": \"markers\", \"text\": \"Qlik appears with SSIS/SSRS 118 times\", \"type\": \"scatter\", \"x\": [-0.7546039158361747], \"y\": [-0.4904823444373012]}, {\"hoverinfo\": \"text\", \"marker\": {\"color\": \"green\", \"size\": 0.5}, \"mode\": \"markers\", \"text\": \"SSIS/SSRS appears with Tableau 247 times\", \"type\": \"scatter\", \"x\": [0.05808101491753884], \"y\": [0.8981239311510125]}, {\"hoverinfo\": \"text\", \"marker\": {\"color\": \"blue\", \"size\": 0.5}, \"mode\": \"markers\", \"text\": \"Tableau appears with SSIS/SSRS 247 times\", \"type\": \"scatter\", \"x\": [-0.42401334166742527], \"y\": [-0.7938593616554656]}, {\"hoverinfo\": \"text\", \"marker\": {\"color\": \"green\", \"size\": 0.5}, \"mode\": \"markers\", \"text\": \"SSIS/SSRS appears with Microstrategy 44 times\", \"type\": \"scatter\", \"x\": [0.26881894078657564], \"y\": [0.8589158148936271]}, {\"hoverinfo\": \"text\", \"marker\": {\"color\": \"blue\", \"size\": 0.5}, \"mode\": \"markers\", \"text\": \"Microstrategy appears with SSIS/SSRS 44 times\", \"type\": \"scatter\", \"x\": [-0.10350961676272266], \"y\": [-0.8940278291181065]}, {\"hoverinfo\": \"text\", \"marker\": {\"color\": \"green\", \"size\": 0.5}, \"mode\": \"markers\", \"text\": \"SSIS/SSRS appears with Oracle BI 375 times\", \"type\": \"scatter\", \"x\": [-0.03470431570553313], \"y\": [0.8993306457979794]}, {\"hoverinfo\": \"text\", \"marker\": {\"color\": \"blue\", \"size\": 0.5}, \"mode\": \"markers\", \"text\": \"Oracle BI appears with SSIS/SSRS 375 times\", \"type\": \"scatter\", \"x\": [0.2408822600572773], \"y\": [-0.8671653457038618]}, {\"hoverinfo\": \"text\", \"marker\": {\"color\": \"green\", \"size\": 0.5}, \"mode\": \"markers\", \"text\": \"SSIS/SSRS appears with Python 233 times\", \"type\": \"scatter\", \"x\": [0.0934308569020858], \"y\": [0.8951372380694158]}, {\"hoverinfo\": \"text\", \"marker\": {\"color\": \"blue\", \"size\": 0.5}, \"mode\": \"markers\", \"text\": \"Python appears with SSIS/SSRS 233 times\", \"type\": \"scatter\", \"x\": [0.6737374445932804], \"y\": [-0.5967225953095093]}, {\"hoverinfo\": \"text\", \"marker\": {\"color\": \"green\", \"size\": 0.5}, \"mode\": \"markers\", \"text\": \"SSIS/SSRS appears with VBA 116 times\", \"type\": \"scatter\", \"x\": [0.19023578072378802], \"y\": [0.879664906502704]}, {\"hoverinfo\": \"text\", \"marker\": {\"color\": \"blue\", \"size\": 0.5}, \"mode\": \"markers\", \"text\": \"VBA appears with SSIS/SSRS 116 times\", \"type\": \"scatter\", \"x\": [0.8317015944004776], \"y\": [-0.34390762985386564]}, {\"hoverinfo\": \"text\", \"marker\": {\"color\": \"green\", \"size\": 0.5}, \"mode\": \"markers\", \"text\": \"SSIS/SSRS appears with Linux 28 times\", \"type\": \"scatter\", \"x\": [0.2854145276362372], \"y\": [0.8535446956159845]}, {\"hoverinfo\": \"text\", \"marker\": {\"color\": \"blue\", \"size\": 0.5}, \"mode\": \"markers\", \"text\": \"Linux appears with SSIS/SSRS 28 times\", \"type\": \"scatter\", \"x\": [0.860939120180284], \"y\": [-0.26226671794796746]}, {\"hoverinfo\": \"text\", \"marker\": {\"color\": \"green\", \"size\": 0.5}, \"mode\": \"markers\", \"text\": \"SSIS/SSRS appears with AWS 42 times\", \"type\": \"scatter\", \"x\": [0.2748785082072175], \"y\": [0.8569958026301965]}, {\"hoverinfo\": \"text\", \"marker\": {\"color\": \"blue\", \"size\": 0.5}, \"mode\": \"markers\", \"text\": \"AWS appears with SSIS/SSRS 42 times\", \"type\": \"scatter\", \"x\": [0.8949176173770396], \"y\": [-0.09551156007626832]}, {\"hoverinfo\": \"text\", \"marker\": {\"color\": \"green\", \"size\": 0.5}, \"mode\": \"markers\", \"text\": \"MS SQL Server appears with PostgreSQL 110 times\", \"type\": \"scatter\", \"x\": [-0.273704973016281], \"y\": [0.8573713243082934]}, {\"hoverinfo\": \"text\", \"marker\": {\"color\": \"blue\", \"size\": 0.5}, \"mode\": \"markers\", \"text\": \"PostgreSQL appears with MS SQL Server 110 times\", \"type\": \"scatter\", \"x\": [-0.5699043123279118], \"y\": [0.6965695046368668]}, {\"hoverinfo\": \"text\", \"marker\": {\"color\": \"green\", \"size\": 0.5}, \"mode\": \"markers\", \"text\": \"MS SQL Server appears with MySQL/MariaDB 115 times\", \"type\": \"scatter\", \"x\": [-0.28911639748876683], \"y\": [0.8522978990371368]}, {\"hoverinfo\": \"text\", \"marker\": {\"color\": \"blue\", \"size\": 0.5}, \"mode\": \"markers\", \"text\": \"MySQL/MariaDB appears with MS SQL Server 115 times\", \"type\": \"scatter\", \"x\": [-0.6735000472969974], \"y\": [0.59699052445658]}, {\"hoverinfo\": \"text\", \"marker\": {\"color\": \"green\", \"size\": 0.5}, \"mode\": \"markers\", \"text\": \"MS SQL Server appears with T-SQL 224 times\", \"type\": \"scatter\", \"x\": [-0.4035271611394063], \"y\": [0.8044661771776186]}, {\"hoverinfo\": \"text\", \"marker\": {\"color\": \"blue\", \"size\": 0.5}, \"mode\": \"markers\", \"text\": \"T-SQL appears with MS SQL Server 224 times\", \"type\": \"scatter\", \"x\": [-0.8247854749229037], \"y\": [0.36017901154314946]}, {\"hoverinfo\": \"text\", \"marker\": {\"color\": \"green\", \"size\": 0.5}, \"mode\": \"markers\", \"text\": \"MS SQL Server appears with PL/SQL 14 times\", \"type\": \"scatter\", \"x\": [-0.19900302647982393], \"y\": [0.8777230744670386]}, {\"hoverinfo\": \"text\", \"marker\": {\"color\": \"blue\", \"size\": 0.5}, \"mode\": \"markers\", \"text\": \"PL/SQL appears with MS SQL Server 14 times\", \"type\": \"scatter\", \"x\": [-0.8435813070636192], \"y\": [0.31364084296028133]}, {\"hoverinfo\": \"text\", \"marker\": {\"color\": \"green\", \"size\": 0.5}, \"mode\": \"markers\", \"text\": \"MS SQL Server appears with Pentaho 55 times\", \"type\": \"scatter\", \"x\": [-0.22290737542701464], \"y\": [0.8719588877809779]}, {\"hoverinfo\": \"text\", \"marker\": {\"color\": \"blue\", \"size\": 0.5}, \"mode\": \"markers\", \"text\": \"Pentaho appears with MS SQL Server 55 times\", \"type\": \"scatter\", \"x\": [-0.8776495408642999], \"y\": [0.19932707648657147]}, {\"hoverinfo\": \"text\", \"marker\": {\"color\": \"green\", \"size\": 0.5}, \"mode\": \"markers\", \"text\": \"MS SQL Server appears with Hadoop 57 times\", \"type\": \"scatter\", \"x\": [-0.23072322438857978], \"y\": [0.8699234413025879]}, {\"hoverinfo\": \"text\", \"marker\": {\"color\": \"blue\", \"size\": 0.5}, \"mode\": \"markers\", \"text\": \"Hadoop appears with MS SQL Server 57 times\", \"type\": \"scatter\", \"x\": [-0.8924704972420814], \"y\": [0.11617405714044819]}, {\"hoverinfo\": \"text\", \"marker\": {\"color\": \"green\", \"size\": 0.5}, \"mode\": \"markers\", \"text\": \"MS SQL Server appears with Spark 55 times\", \"type\": \"scatter\", \"x\": [-0.21521361844253067], \"y\": [0.8738896374467847]}, {\"hoverinfo\": \"text\", \"marker\": {\"color\": \"blue\", \"size\": 0.5}, \"mode\": \"markers\", \"text\": \"Spark appears with MS SQL Server 55 times\", \"type\": \"scatter\", \"x\": [-0.8947359916988007], \"y\": [-0.09719827755039552]}, {\"hoverinfo\": \"text\", \"marker\": {\"color\": \"green\", \"size\": 0.5}, \"mode\": \"markers\", \"text\": \"MS SQL Server appears with Informatica 79 times\", \"type\": \"scatter\", \"x\": [-0.2497645344670256], \"y\": [0.8646488751640575]}, {\"hoverinfo\": \"text\", \"marker\": {\"color\": \"blue\", \"size\": 0.5}, \"mode\": \"markers\", \"text\": \"Informatica appears with MS SQL Server 79 times\", \"type\": \"scatter\", \"x\": [-0.8401821041825847], \"y\": [-0.322636067127227]}, {\"hoverinfo\": \"text\", \"marker\": {\"color\": \"green\", \"size\": 0.5}, \"mode\": \"markers\", \"text\": \"MS SQL Server appears with Qlik 79 times\", \"type\": \"scatter\", \"x\": [-0.26069042499043826], \"y\": [0.8614177281193514]}, {\"hoverinfo\": \"text\", \"marker\": {\"color\": \"blue\", \"size\": 0.5}, \"mode\": \"markers\", \"text\": \"Qlik appears with MS SQL Server 79 times\", \"type\": \"scatter\", \"x\": [-0.7763909209826612], \"y\": [-0.4552110914901956]}, {\"hoverinfo\": \"text\", \"marker\": {\"color\": \"green\", \"size\": 0.5}, \"mode\": \"markers\", \"text\": \"MS SQL Server appears with Tableau 154 times\", \"type\": \"scatter\", \"x\": [-0.32658471092305086], \"y\": [0.8386551297114371]}, {\"hoverinfo\": \"text\", \"marker\": {\"color\": \"blue\", \"size\": 0.5}, \"mode\": \"markers\", \"text\": \"Tableau appears with MS SQL Server 154 times\", \"type\": \"scatter\", \"x\": [-0.476485668666307], \"y\": [-0.7635190944276524]}, {\"hoverinfo\": \"text\", \"marker\": {\"color\": \"green\", \"size\": 0.5}, \"mode\": \"markers\", \"text\": \"MS SQL Server appears with Microstrategy 25 times\", \"type\": \"scatter\", \"x\": [-0.2041334856695309], \"y\": [0.8765440776301027]}, {\"hoverinfo\": \"text\", \"marker\": {\"color\": \"blue\", \"size\": 0.5}, \"mode\": \"markers\", \"text\": \"Microstrategy appears with MS SQL Server 25 times\", \"type\": \"scatter\", \"x\": [-0.11628526418465067], \"y\": [-0.892456014228996]}, {\"hoverinfo\": \"text\", \"marker\": {\"color\": \"green\", \"size\": 0.5}, \"mode\": \"markers\", \"text\": \"MS SQL Server appears with Oracle BI 220 times\", \"type\": \"scatter\", \"x\": [-0.37465869266865715], \"y\": [0.818309760425606]}, {\"hoverinfo\": \"text\", \"marker\": {\"color\": \"blue\", \"size\": 0.5}, \"mode\": \"markers\", \"text\": \"Oracle BI appears with MS SQL Server 220 times\", \"type\": \"scatter\", \"x\": [0.1259291518813889], \"y\": [-0.8911463677233018]}, {\"hoverinfo\": \"text\", \"marker\": {\"color\": \"green\", \"size\": 0.5}, \"mode\": \"markers\", \"text\": \"MS SQL Server appears with Python 142 times\", \"type\": \"scatter\", \"x\": [-0.30660442061353527], \"y\": [0.8461641266682477]}, {\"hoverinfo\": \"text\", \"marker\": {\"color\": \"blue\", \"size\": 0.5}, \"mode\": \"markers\", \"text\": \"Python appears with MS SQL Server 142 times\", \"type\": \"scatter\", \"x\": [0.6008248153485968], \"y\": [-0.6700817422235325]}, {\"hoverinfo\": \"text\", \"marker\": {\"color\": \"green\", \"size\": 0.5}, \"mode\": \"markers\", \"text\": \"MS SQL Server appears with VBA 39 times\", \"type\": \"scatter\", \"x\": [-0.20862568307339083], \"y\": [0.8754857647969846]}, {\"hoverinfo\": \"text\", \"marker\": {\"color\": \"blue\", \"size\": 0.5}, \"mode\": \"markers\", \"text\": \"VBA appears with MS SQL Server 39 times\", \"type\": \"scatter\", \"x\": [0.8117065880869105], \"y\": [-0.38875752707350464]}, {\"hoverinfo\": \"text\", \"marker\": {\"color\": \"green\", \"size\": 0.5}, \"mode\": \"markers\", \"text\": \"MS SQL Server appears with Linux 69 times\", \"type\": \"scatter\", \"x\": [-0.23949381368364708], \"y\": [0.8675498332702638]}, {\"hoverinfo\": \"text\", \"marker\": {\"color\": \"blue\", \"size\": 0.5}, \"mode\": \"markers\", \"text\": \"Linux appears with MS SQL Server 69 times\", \"type\": \"scatter\", \"x\": [0.8706700830915625], \"y\": [-0.22788946094396695]}, {\"hoverinfo\": \"text\", \"marker\": {\"color\": \"green\", \"size\": 0.5}, \"mode\": \"markers\", \"text\": \"MS SQL Server appears with AWS 17 times\", \"type\": \"scatter\", \"x\": [-0.2011825565274536], \"y\": [0.877226070604994]}, {\"hoverinfo\": \"text\", \"marker\": {\"color\": \"blue\", \"size\": 0.5}, \"mode\": \"markers\", \"text\": \"AWS appears with MS SQL Server 17 times\", \"type\": \"scatter\", \"x\": [0.8931278267104031], \"y\": [-0.11100759053124327]}, {\"hoverinfo\": \"text\", \"marker\": {\"color\": \"green\", \"size\": 0.5}, \"mode\": \"markers\", \"text\": \"PostgreSQL appears with MySQL/MariaDB 131 times\", \"type\": \"scatter\", \"x\": [-0.5809002211108918], \"y\": [0.6874263110423671]}, {\"hoverinfo\": \"text\", \"marker\": {\"color\": \"blue\", \"size\": 0.5}, \"mode\": \"markers\", \"text\": \"MySQL/MariaDB appears with PostgreSQL 131 times\", \"type\": \"scatter\", \"x\": [-0.684024660015084], \"y\": [0.5849019272418657]}, {\"hoverinfo\": \"text\", \"marker\": {\"color\": \"green\", \"size\": 0.5}, \"mode\": \"markers\", \"text\": \"PostgreSQL appears with T-SQL 51 times\", \"type\": \"scatter\", \"x\": [-0.5317652785722414], \"y\": [0.7261030839384905]}, {\"hoverinfo\": \"text\", \"marker\": {\"color\": \"blue\", \"size\": 0.5}, \"mode\": \"markers\", \"text\": \"T-SQL appears with PostgreSQL 51 times\", \"type\": \"scatter\", \"x\": [-0.7401330327402497], \"y\": [0.5120577055827992]}, {\"hoverinfo\": \"text\", \"marker\": {\"color\": \"green\", \"size\": 0.5}, \"mode\": \"markers\", \"text\": \"PostgreSQL appears with PL/SQL 3 times\", \"type\": \"scatter\", \"x\": [-0.517785503495128], \"y\": [0.7361373325476007]}, {\"hoverinfo\": \"text\", \"marker\": {\"color\": \"blue\", \"size\": 0.5}, \"mode\": \"markers\", \"text\": \"PL/SQL appears with PostgreSQL 3 times\", \"type\": \"scatter\", \"x\": [-0.8415521371905818], \"y\": [0.31904545191863243]}, {\"hoverinfo\": \"text\", \"marker\": {\"color\": \"green\", \"size\": 0.5}, \"mode\": \"markers\", \"text\": \"PostgreSQL appears with Pentaho 56 times\", \"type\": \"scatter\", \"x\": [-0.5368745061992003], \"y\": [0.7223335549407662]}, {\"hoverinfo\": \"text\", \"marker\": {\"color\": \"blue\", \"size\": 0.5}, \"mode\": \"markers\", \"text\": \"Pentaho appears with PostgreSQL 56 times\", \"type\": \"scatter\", \"x\": [-0.8790155682835953], \"y\": [0.19321395062227764]}, {\"hoverinfo\": \"text\", \"marker\": {\"color\": \"green\", \"size\": 0.5}, \"mode\": \"markers\", \"text\": \"PostgreSQL appears with Hadoop 12 times\", \"type\": \"scatter\", \"x\": [-0.5192890196793675], \"y\": [0.7350774884598504]}, {\"hoverinfo\": \"text\", \"marker\": {\"color\": \"blue\", \"size\": 0.5}, \"mode\": \"markers\", \"text\": \"Hadoop appears with PostgreSQL 12 times\", \"type\": \"scatter\", \"x\": [-0.8887003458741669], \"y\": [0.14216784180375028]}, {\"hoverinfo\": \"text\", \"marker\": {\"color\": \"green\", \"size\": 0.5}, \"mode\": \"markers\", \"text\": \"PostgreSQL appears with Spark 23 times\", \"type\": \"scatter\", \"x\": [-0.5242689602541246], \"y\": [0.731534043851726]}, {\"hoverinfo\": \"text\", \"marker\": {\"color\": \"blue\", \"size\": 0.5}, \"mode\": \"markers\", \"text\": \"Spark appears with PostgreSQL 23 times\", \"type\": \"scatter\", \"x\": [-0.8965042636012172], \"y\": [-0.07924711568782418]}, {\"hoverinfo\": \"text\", \"marker\": {\"color\": \"green\", \"size\": 0.5}, \"mode\": \"markers\", \"text\": \"PostgreSQL appears with Informatica 2 times\", \"type\": \"scatter\", \"x\": [-0.5175427981420464], \"y\": [0.7363079872521424]}, {\"hoverinfo\": \"text\", \"marker\": {\"color\": \"blue\", \"size\": 0.5}, \"mode\": \"markers\", \"text\": \"Informatica appears with PostgreSQL 2 times\", \"type\": \"scatter\", \"x\": [-0.8536443029890531], \"y\": [-0.285116474400084]}, {\"hoverinfo\": \"text\", \"marker\": {\"color\": \"green\", \"size\": 0.5}, \"mode\": \"markers\", \"text\": \"PostgreSQL appears with Qlik 16 times\", \"type\": \"scatter\", \"x\": [-0.5206451698555203], \"y\": [0.7341175703564903]}, {\"hoverinfo\": \"text\", \"marker\": {\"color\": \"blue\", \"size\": 0.5}, \"mode\": \"markers\", \"text\": \"Qlik appears with PostgreSQL 16 times\", \"type\": \"scatter\", \"x\": [-0.7963290089303741], \"y\": [-0.41935678072015037]}, {\"hoverinfo\": \"text\", \"marker\": {\"color\": \"green\", \"size\": 0.5}, \"mode\": \"markers\", \"text\": \"PostgreSQL appears with Tableau 8 times\", \"type\": \"scatter\", \"x\": [-0.5183192571583078], \"y\": [0.7357616106177733]}, {\"hoverinfo\": \"text\", \"marker\": {\"color\": \"blue\", \"size\": 0.5}, \"mode\": \"markers\", \"text\": \"Tableau appears with PostgreSQL 8 times\", \"type\": \"scatter\", \"x\": [-0.5798295997539294], \"y\": [-0.6883295978302821]}, {\"hoverinfo\": \"text\", \"marker\": {\"color\": \"green\", \"size\": 0.5}, \"mode\": \"markers\", \"text\": \"PostgreSQL appears with Oracle BI 56 times\", \"type\": \"scatter\", \"x\": [-0.5421938563255463], \"y\": [0.7183493733294636]}, {\"hoverinfo\": \"text\", \"marker\": {\"color\": \"blue\", \"size\": 0.5}, \"mode\": \"markers\", \"text\": \"Oracle BI appears with PostgreSQL 56 times\", \"type\": \"scatter\", \"x\": [-0.03461806653614843], \"y\": [-0.8993339699295801]}, {\"hoverinfo\": \"text\", \"marker\": {\"color\": \"green\", \"size\": 0.5}, \"mode\": \"markers\", \"text\": \"PostgreSQL appears with Python 41 times\", \"type\": \"scatter\", \"x\": [-0.5273511276028935], \"y\": [0.7293152872495933]}, {\"hoverinfo\": \"text\", \"marker\": {\"color\": \"blue\", \"size\": 0.5}, \"mode\": \"markers\", \"text\": \"Python appears with PostgreSQL 41 times\", \"type\": \"scatter\", \"x\": [0.5432585804662593], \"y\": [-0.717544503671922]}, {\"hoverinfo\": \"text\", \"marker\": {\"color\": \"green\", \"size\": 0.5}, \"mode\": \"markers\", \"text\": \"PostgreSQL appears with Linux 65 times\", \"type\": \"scatter\", \"x\": [-0.5479074205928197], \"y\": [0.7140010213293276]}, {\"hoverinfo\": \"text\", \"marker\": {\"color\": \"blue\", \"size\": 0.5}, \"mode\": \"markers\", \"text\": \"Linux appears with PostgreSQL 65 times\", \"type\": \"scatter\", \"x\": [0.8684457282628766], \"y\": [-0.23622450563386047]}, {\"hoverinfo\": \"text\", \"marker\": {\"color\": \"green\", \"size\": 0.5}, \"mode\": \"markers\", \"text\": \"PostgreSQL appears with AWS 18 times\", \"type\": \"scatter\", \"x\": [-0.5222895376796652], \"y\": [0.7329485922152805]}, {\"hoverinfo\": \"text\", \"marker\": {\"color\": \"blue\", \"size\": 0.5}, \"mode\": \"markers\", \"text\": \"AWS appears with PostgreSQL 18 times\", \"type\": \"scatter\", \"x\": [0.8933834268116384], \"y\": [-0.10893141281693751]}, {\"hoverinfo\": \"text\", \"marker\": {\"color\": \"green\", \"size\": 0.5}, \"mode\": \"markers\", \"text\": \"MySQL/MariaDB appears with T-SQL 49 times\", \"type\": \"scatter\", \"x\": [-0.6219933944727937], \"y\": [0.6504799898784064]}, {\"hoverinfo\": \"text\", \"marker\": {\"color\": \"blue\", \"size\": 0.5}, \"mode\": \"markers\", \"text\": \"T-SQL appears with MySQL/MariaDB 49 times\", \"type\": \"scatter\", \"x\": [-0.7361492140544417], \"y\": [0.5177686111063782]}, {\"hoverinfo\": \"text\", \"marker\": {\"color\": \"green\", \"size\": 0.5}, \"mode\": \"markers\", \"text\": \"MySQL/MariaDB appears with PL/SQL 1 times\", \"type\": \"scatter\", \"x\": [-0.6080085608837273], \"y\": [0.663570335301465]}, {\"hoverinfo\": \"text\", \"marker\": {\"color\": \"blue\", \"size\": 0.5}, \"mode\": \"markers\", \"text\": \"PL/SQL appears with MySQL/MariaDB 1 times\", \"type\": \"scatter\", \"x\": [-0.8413740500573538], \"y\": [0.3195148007371262]}, {\"hoverinfo\": \"text\", \"marker\": {\"color\": \"green\", \"size\": 0.5}, \"mode\": \"markers\", \"text\": \"MySQL/MariaDB appears with Pentaho 74 times\", \"type\": \"scatter\", \"x\": [-0.6344499334826109], \"y\": [0.6383363391691801]}, {\"hoverinfo\": \"text\", \"marker\": {\"color\": \"blue\", \"size\": 0.5}, \"mode\": \"markers\", \"text\": \"Pentaho appears with MySQL/MariaDB 74 times\", \"type\": \"scatter\", \"x\": [-0.8821157109725207], \"y\": [0.17852695162200138]}, {\"hoverinfo\": \"text\", \"marker\": {\"color\": \"green\", \"size\": 0.5}, \"mode\": \"markers\", \"text\": \"MySQL/MariaDB appears with Hadoop 20 times\", \"type\": \"scatter\", \"x\": [-0.6143695325113949], \"y\": [0.657685394031014]}, {\"hoverinfo\": \"text\", \"marker\": {\"color\": \"blue\", \"size\": 0.5}, \"mode\": \"markers\", \"text\": \"Hadoop appears with MySQL/MariaDB 20 times\", \"type\": \"scatter\", \"x\": [-0.8896908266503483], \"y\": [0.13583163465930864]}, {\"hoverinfo\": \"text\", \"marker\": {\"color\": \"green\", \"size\": 0.5}, \"mode\": \"markers\", \"text\": \"MySQL/MariaDB appears with Spark 46 times\", \"type\": \"scatter\", \"x\": [-0.6175049960283728], \"y\": [0.6547423767253799]}, {\"hoverinfo\": \"text\", \"marker\": {\"color\": \"blue\", \"size\": 0.5}, \"mode\": \"markers\", \"text\": \"Spark appears with MySQL/MariaDB 46 times\", \"type\": \"scatter\", \"x\": [-0.8960768363305782], \"y\": [-0.08394226225080141]}, {\"hoverinfo\": \"text\", \"marker\": {\"color\": \"green\", \"size\": 0.5}, \"mode\": \"markers\", \"text\": \"MySQL/MariaDB appears with Informatica 11 times\", \"type\": \"scatter\", \"x\": [-0.609640060578228], \"y\": [0.6620717457633837]}, {\"hoverinfo\": \"text\", \"marker\": {\"color\": \"blue\", \"size\": 0.5}, \"mode\": \"markers\", \"text\": \"Informatica appears with MySQL/MariaDB 11 times\", \"type\": \"scatter\", \"x\": [-0.8531457987435579], \"y\": [-0.2866046860855847]}, {\"hoverinfo\": \"text\", \"marker\": {\"color\": \"green\", \"size\": 0.5}, \"mode\": \"markers\", \"text\": \"MySQL/MariaDB appears with Qlik 19 times\", \"type\": \"scatter\", \"x\": [-0.6125101611223276], \"y\": [0.6594173962839474]}, {\"hoverinfo\": \"text\", \"marker\": {\"color\": \"blue\", \"size\": 0.5}, \"mode\": \"markers\", \"text\": \"Qlik appears with MySQL/MariaDB 19 times\", \"type\": \"scatter\", \"x\": [-0.7939985759648107], \"y\": [-0.4237525945240367]}, {\"hoverinfo\": \"text\", \"marker\": {\"color\": \"green\", \"size\": 0.5}, \"mode\": \"markers\", \"text\": \"MySQL/MariaDB appears with Tableau 78 times\", \"type\": \"scatter\", \"x\": [-0.6414357063176939], \"y\": [0.6313162715000471]}, {\"hoverinfo\": \"text\", \"marker\": {\"color\": \"blue\", \"size\": 0.5}, \"mode\": \"markers\", \"text\": \"Tableau appears with MySQL/MariaDB 78 times\", \"type\": \"scatter\", \"x\": [-0.5405647611086298], \"y\": [-0.7195760828762793]}, {\"hoverinfo\": \"text\", \"marker\": {\"color\": \"green\", \"size\": 0.5}, \"mode\": \"markers\", \"text\": \"MySQL/MariaDB appears with Oracle BI 88 times\", \"type\": \"scatter\", \"x\": [-0.6564228567479086], \"y\": [0.6157183066459165]}, {\"hoverinfo\": \"text\", \"marker\": {\"color\": \"blue\", \"size\": 0.5}, \"mode\": \"markers\", \"text\": \"Oracle BI appears with MySQL/MariaDB 88 times\", \"type\": \"scatter\", \"x\": [0.0217707232734346], \"y\": [-0.899736647918796]}, {\"hoverinfo\": \"text\", \"marker\": {\"color\": \"green\", \"size\": 0.5}, \"mode\": \"markers\", \"text\": \"MySQL/MariaDB appears with Python 83 times\", \"type\": \"scatter\", \"x\": [-0.6487503867874332], \"y\": [0.6237971911151539]}, {\"hoverinfo\": \"text\", \"marker\": {\"color\": \"blue\", \"size\": 0.5}, \"mode\": \"markers\", \"text\": \"Python appears with MySQL/MariaDB 83 times\", \"type\": \"scatter\", \"x\": [0.5749319453340176], \"y\": [-0.692425633721371]}, {\"hoverinfo\": \"text\", \"marker\": {\"color\": \"green\", \"size\": 0.5}, \"mode\": \"markers\", \"text\": \"MySQL/MariaDB appears with VBA 6 times\", \"type\": \"scatter\", \"x\": [-0.6088247718183788], \"y\": [0.662821542513744]}, {\"hoverinfo\": \"text\", \"marker\": {\"color\": \"blue\", \"size\": 0.5}, \"mode\": \"markers\", \"text\": \"VBA appears with MySQL/MariaDB 6 times\", \"type\": \"scatter\", \"x\": [0.8051019388115193], \"y\": [-0.4022572163702383]}, {\"hoverinfo\": \"text\", \"marker\": {\"color\": \"green\", \"size\": 0.5}, \"mode\": \"markers\", \"text\": \"MySQL/MariaDB appears with Linux 72 times\", \"type\": \"scatter\", \"x\": [-0.6276675681468796], \"y\": [0.6450065301193332]}, {\"hoverinfo\": \"text\", \"marker\": {\"color\": \"blue\", \"size\": 0.5}, \"mode\": \"markers\", \"text\": \"Linux appears with MySQL/MariaDB 72 times\", \"type\": \"scatter\", \"x\": [0.8729242594787114], \"y\": [-0.21909641077284506]}, {\"hoverinfo\": \"text\", \"marker\": {\"color\": \"green\", \"size\": 0.5}, \"mode\": \"markers\", \"text\": \"MySQL/MariaDB appears with AWS 15 times\", \"type\": \"scatter\", \"x\": [-0.6108851862672634], \"y\": [0.6609230584562859]}, {\"hoverinfo\": \"text\", \"marker\": {\"color\": \"blue\", \"size\": 0.5}, \"mode\": \"markers\", \"text\": \"AWS appears with MySQL/MariaDB 15 times\", \"type\": \"scatter\", \"x\": [0.8928899128525983], \"y\": [-0.11290528564278753]}, {\"hoverinfo\": \"text\", \"marker\": {\"color\": \"green\", \"size\": 0.5}, \"mode\": \"markers\", \"text\": \"T-SQL appears with PL/SQL 56 times\", \"type\": \"scatter\", \"x\": [-0.7523913842191791], \"y\": [0.4938696234359303]}, {\"hoverinfo\": \"text\", \"marker\": {\"color\": \"blue\", \"size\": 0.5}, \"mode\": \"markers\", \"text\": \"PL/SQL appears with T-SQL 56 times\", \"type\": \"scatter\", \"x\": [-0.8487780084021525], \"y\": [0.2992923194017443]}, {\"hoverinfo\": \"text\", \"marker\": {\"color\": \"green\", \"size\": 0.5}, \"mode\": \"markers\", \"text\": \"T-SQL appears with Pentaho 52 times\", \"type\": \"scatter\", \"x\": [-0.7482384992391458], \"y\": [0.5001391288995002]}, {\"hoverinfo\": \"text\", \"marker\": {\"color\": \"blue\", \"size\": 0.5}, \"mode\": \"markers\", \"text\": \"Pentaho appears with T-SQL 52 times\", \"type\": \"scatter\", \"x\": [-0.8762924960223898], \"y\": [0.20521077314519837]}, {\"hoverinfo\": \"text\", \"marker\": {\"color\": \"green\", \"size\": 0.5}, \"mode\": \"markers\", \"text\": \"T-SQL appears with Hadoop 52 times\", \"type\": \"scatter\", \"x\": [-0.7441900468044713], \"y\": [0.5061434324745888]}, {\"hoverinfo\": \"text\", \"marker\": {\"color\": \"blue\", \"size\": 0.5}, \"mode\": \"markers\", \"text\": \"Hadoop appears with T-SQL 52 times\", \"type\": \"scatter\", \"x\": [-0.890418942434054], \"y\": [0.13097368802404902]}, {\"hoverinfo\": \"text\", \"marker\": {\"color\": \"green\", \"size\": 0.5}, \"mode\": \"markers\", \"text\": \"T-SQL appears with Spark 47 times\", \"type\": \"scatter\", \"x\": [-0.7322832890606309], \"y\": [0.523221926683644]}, {\"hoverinfo\": \"text\", \"marker\": {\"color\": \"blue\", \"size\": 0.5}, \"mode\": \"markers\", \"text\": \"Spark appears with T-SQL 47 times\", \"type\": \"scatter\", \"x\": [-0.8954618353053077], \"y\": [-0.09026683505945104]}, {\"hoverinfo\": \"text\", \"marker\": {\"color\": \"green\", \"size\": 0.5}, \"mode\": \"markers\", \"text\": \"T-SQL appears with Informatica 20 times\", \"type\": \"scatter\", \"x\": [-0.7225667707064782], \"y\": [0.5365605854615225]}, {\"hoverinfo\": \"text\", \"marker\": {\"color\": \"blue\", \"size\": 0.5}, \"mode\": \"markers\", \"text\": \"Informatica appears with T-SQL 20 times\", \"type\": \"scatter\", \"x\": [-0.8505733620719662], \"y\": [-0.2941512463573659]}, {\"hoverinfo\": \"text\", \"marker\": {\"color\": \"green\", \"size\": 0.5}, \"mode\": \"markers\", \"text\": \"T-SQL appears with Qlik 87 times\", \"type\": \"scatter\", \"x\": [-0.7693794143542315], \"y\": [0.4669639351897956]}, {\"hoverinfo\": \"text\", \"marker\": {\"color\": \"blue\", \"size\": 0.5}, \"mode\": \"markers\", \"text\": \"Qlik appears with T-SQL 87 times\", \"type\": \"scatter\", \"x\": [-0.7702682827024635], \"y\": [-0.46549626492872936]}, {\"hoverinfo\": \"text\", \"marker\": {\"color\": \"green\", \"size\": 0.5}, \"mode\": \"markers\", \"text\": \"T-SQL appears with Tableau 137 times\", \"type\": \"scatter\", \"x\": [-0.7773561965600757], \"y\": [0.4535607386774708]}, {\"hoverinfo\": \"text\", \"marker\": {\"color\": \"blue\", \"size\": 0.5}, \"mode\": \"markers\", \"text\": \"Tableau appears with T-SQL 137 times\", \"type\": \"scatter\", \"x\": [-0.4946213442973058], \"y\": [-0.751897417049378]}, {\"hoverinfo\": \"text\", \"marker\": {\"color\": \"green\", \"size\": 0.5}, \"mode\": \"markers\", \"text\": \"T-SQL appears with Microstrategy 22 times\", \"type\": \"scatter\", \"x\": [-0.7243064910209882], \"y\": [0.5342097968634264]}, {\"hoverinfo\": \"text\", \"marker\": {\"color\": \"blue\", \"size\": 0.5}, \"mode\": \"markers\", \"text\": \"Microstrategy appears with T-SQL 22 times\", \"type\": \"scatter\", \"x\": [-0.11863747271256171], \"y\": [-0.892146372557988]}, {\"hoverinfo\": \"text\", \"marker\": {\"color\": \"green\", \"size\": 0.5}, \"mode\": \"markers\", \"text\": \"T-SQL appears with Oracle BI 191 times\", \"type\": \"scatter\", \"x\": [-0.8003228756880136], \"y\": [0.4116834884355558]}, {\"hoverinfo\": \"text\", \"marker\": {\"color\": \"blue\", \"size\": 0.5}, \"mode\": \"markers\", \"text\": \"Oracle BI appears with T-SQL 191 times\", \"type\": \"scatter\", \"x\": [0.09542110016268465], \"y\": [-0.8949272672366972]}, {\"hoverinfo\": \"text\", \"marker\": {\"color\": \"green\", \"size\": 0.5}, \"mode\": \"markers\", \"text\": \"T-SQL appears with Python 78 times\", \"type\": \"scatter\", \"x\": [-0.7574709830281728], \"y\": [0.48604290949496787]}, {\"hoverinfo\": \"text\", \"marker\": {\"color\": \"blue\", \"size\": 0.5}, \"mode\": \"markers\", \"text\": \"Python appears with T-SQL 78 times\", \"type\": \"scatter\", \"x\": [0.56581089944327], \"y\": [-0.6998985827040929]}, {\"hoverinfo\": \"text\", \"marker\": {\"color\": \"green\", \"size\": 0.5}, \"mode\": \"markers\", \"text\": \"T-SQL appears with VBA 27 times\", \"type\": \"scatter\", \"x\": [-0.7263264972245164], \"y\": [0.5314600826304499]}, {\"hoverinfo\": \"text\", \"marker\": {\"color\": \"blue\", \"size\": 0.5}, \"mode\": \"markers\", \"text\": \"VBA appears with T-SQL 27 times\", \"type\": \"scatter\", \"x\": [0.808197403508925], \"y\": [-0.39600120828279284]}, {\"hoverinfo\": \"text\", \"marker\": {\"color\": \"green\", \"size\": 0.5}, \"mode\": \"markers\", \"text\": \"T-SQL appears with Linux 36 times\", \"type\": \"scatter\", \"x\": [-0.7289083053754752], \"y\": [0.5279135178745217]}, {\"hoverinfo\": \"text\", \"marker\": {\"color\": \"blue\", \"size\": 0.5}, \"mode\": \"markers\", \"text\": \"Linux appears with T-SQL 36 times\", \"type\": \"scatter\", \"x\": [0.8633770911547669], \"y\": [-0.25412595001127564]}, {\"hoverinfo\": \"text\", \"marker\": {\"color\": \"green\", \"size\": 0.5}, \"mode\": \"markers\", \"text\": \"T-SQL appears with AWS 20 times\", \"type\": \"scatter\", \"x\": [-0.7209028006455018], \"y\": [0.5387941647990184]}, {\"hoverinfo\": \"text\", \"marker\": {\"color\": \"blue\", \"size\": 0.5}, \"mode\": \"markers\", \"text\": \"AWS appears with T-SQL 20 times\", \"type\": \"scatter\", \"x\": [0.8936554708888664], \"y\": [-0.10667661107477357]}, {\"hoverinfo\": \"text\", \"marker\": {\"color\": \"green\", \"size\": 0.5}, \"mode\": \"markers\", \"text\": \"PL/SQL appears with Pentaho 8 times\", \"type\": \"scatter\", \"x\": [-0.8421025431934418], \"y\": [0.317589840434384]}, {\"hoverinfo\": \"text\", \"marker\": {\"color\": \"blue\", \"size\": 0.5}, \"mode\": \"markers\", \"text\": \"Pentaho appears with PL/SQL 8 times\", \"type\": \"scatter\", \"x\": [-0.8666578928382555], \"y\": [0.24270166208980715]}, {\"hoverinfo\": \"text\", \"marker\": {\"color\": \"green\", \"size\": 0.5}, \"mode\": \"markers\", \"text\": \"PL/SQL appears with Hadoop 9 times\", \"type\": \"scatter\", \"x\": [-0.8424033099255065], \"y\": [0.31679119846762016]}, {\"hoverinfo\": \"text\", \"marker\": {\"color\": \"blue\", \"size\": 0.5}, \"mode\": \"markers\", \"text\": \"Hadoop appears with PL/SQL 9 times\", \"type\": \"scatter\", \"x\": [-0.8882322080817724], \"y\": [0.1450639325476151]}, {\"hoverinfo\": \"text\", \"marker\": {\"color\": \"green\", \"size\": 0.5}, \"mode\": \"markers\", \"text\": \"PL/SQL appears with Informatica 38 times\", \"type\": \"scatter\", \"x\": [-0.8471971282520445], \"y\": [0.3037384168680163]}, {\"hoverinfo\": \"text\", \"marker\": {\"color\": \"blue\", \"size\": 0.5}, \"mode\": \"markers\", \"text\": \"Informatica appears with PL/SQL 38 times\", \"type\": \"scatter\", \"x\": [-0.8445362086438598], \"y\": [-0.31106043189299254]}, {\"hoverinfo\": \"text\", \"marker\": {\"color\": \"green\", \"size\": 0.5}, \"mode\": \"markers\", \"text\": \"PL/SQL appears with Qlik 20 times\", \"type\": \"scatter\", \"x\": [-0.8441745914042604], \"y\": [0.3120404769055611]}, {\"hoverinfo\": \"text\", \"marker\": {\"color\": \"blue\", \"size\": 0.5}, \"mode\": \"markers\", \"text\": \"Qlik appears with PL/SQL 20 times\", \"type\": \"scatter\", \"x\": [-0.7926706366119823], \"y\": [-0.4262314651139151]}, {\"hoverinfo\": \"text\", \"marker\": {\"color\": \"green\", \"size\": 0.5}, \"mode\": \"markers\", \"text\": \"PL/SQL appears with Tableau 33 times\", \"type\": \"scatter\", \"x\": [-0.8459876179036002], \"y\": [0.3070911108348665]}, {\"hoverinfo\": \"text\", \"marker\": {\"color\": \"blue\", \"size\": 0.5}, \"mode\": \"markers\", \"text\": \"Tableau appears with PL/SQL 33 times\", \"type\": \"scatter\", \"x\": [-0.5775051837187191], \"y\": [-0.6902809303305493]}, {\"hoverinfo\": \"text\", \"marker\": {\"color\": \"green\", \"size\": 0.5}, \"mode\": \"markers\", \"text\": \"PL/SQL appears with Microstrategy 26 times\", \"type\": \"scatter\", \"x\": [-0.8449724373269379], \"y\": [0.3098734905695774]}, {\"hoverinfo\": \"text\", \"marker\": {\"color\": \"blue\", \"size\": 0.5}, \"mode\": \"markers\", \"text\": \"Microstrategy appears with PL/SQL 26 times\", \"type\": \"scatter\", \"x\": [-0.11373195405964569], \"y\": [-0.8927849923838185]}, {\"hoverinfo\": \"text\", \"marker\": {\"color\": \"green\", \"size\": 0.5}, \"mode\": \"markers\", \"text\": \"PL/SQL appears with Oracle BI 111 times\", \"type\": \"scatter\", \"x\": [-0.8561924357971611], \"y\": [0.277370713817671]}, {\"hoverinfo\": \"text\", \"marker\": {\"color\": \"blue\", \"size\": 0.5}, \"mode\": \"markers\", \"text\": \"Oracle BI appears with PL/SQL 111 times\", \"type\": \"scatter\", \"x\": [0.05099245769442621], \"y\": [-0.8985542661733248]}, {\"hoverinfo\": \"text\", \"marker\": {\"color\": \"green\", \"size\": 0.5}, \"mode\": \"markers\", \"text\": \"PL/SQL appears with Python 5 times\", \"type\": \"scatter\", \"x\": [-0.8416944183896433], \"y\": [0.3186699013896983]}, {\"hoverinfo\": \"text\", \"marker\": {\"color\": \"blue\", \"size\": 0.5}, \"mode\": \"markers\", \"text\": \"Python appears with PL/SQL 5 times\", \"type\": \"scatter\", \"x\": [0.5297341235441348], \"y\": [-0.7275862549230347]}, {\"hoverinfo\": \"text\", \"marker\": {\"color\": \"green\", \"size\": 0.5}, \"mode\": \"markers\", \"text\": \"PL/SQL appears with VBA 11 times\", \"type\": \"scatter\", \"x\": [-0.8427561834067583], \"y\": [0.31585125507060186]}, {\"hoverinfo\": \"text\", \"marker\": {\"color\": \"blue\", \"size\": 0.5}, \"mode\": \"markers\", \"text\": \"VBA appears with PL/SQL 11 times\", \"type\": \"scatter\", \"x\": [0.807143157808766], \"y\": [-0.3981456050272232]}, {\"hoverinfo\": \"text\", \"marker\": {\"color\": \"green\", \"size\": 0.5}, \"mode\": \"markers\", \"text\": \"PL/SQL appears with Linux 5 times\", \"type\": \"scatter\", \"x\": [-0.8418720342075898], \"y\": [0.3182003740085398]}, {\"hoverinfo\": \"text\", \"marker\": {\"color\": \"blue\", \"size\": 0.5}, \"mode\": \"markers\", \"text\": \"Linux appears with PL/SQL 5 times\", \"type\": \"scatter\", \"x\": [0.8581725857392244], \"y\": [-0.2711822506832877]}, {\"hoverinfo\": \"text\", \"marker\": {\"color\": \"green\", \"size\": 0.5}, \"mode\": \"markers\", \"text\": \"PL/SQL appears with AWS 3 times\", \"type\": \"scatter\", \"x\": [-0.8414453163254638], \"y\": [0.31932707313026265]}, {\"hoverinfo\": \"text\", \"marker\": {\"color\": \"blue\", \"size\": 0.5}, \"mode\": \"markers\", \"text\": \"AWS appears with PL/SQL 3 times\", \"type\": \"scatter\", \"x\": [0.8922148621672532], \"y\": [-0.11812129244073366]}, {\"hoverinfo\": \"text\", \"marker\": {\"color\": \"green\", \"size\": 0.5}, \"mode\": \"markers\", \"text\": \"Pentaho appears with Spark 8 times\", \"type\": \"scatter\", \"x\": [-0.8664139716653771], \"y\": [0.24357099520063366]}, {\"hoverinfo\": \"text\", \"marker\": {\"color\": \"blue\", \"size\": 0.5}, \"mode\": \"markers\", \"text\": \"Spark appears with Pentaho 8 times\", \"type\": \"scatter\", \"x\": [-0.8971836146318796], \"y\": [-0.0711446528986895]}, {\"hoverinfo\": \"text\", \"marker\": {\"color\": \"green\", \"size\": 0.5}, \"mode\": \"markers\", \"text\": \"Pentaho appears with Informatica 40 times\", \"type\": \"scatter\", \"x\": [-0.870413145632697], \"y\": [0.2288688618178395]}, {\"hoverinfo\": \"text\", \"marker\": {\"color\": \"blue\", \"size\": 0.5}, \"mode\": \"markers\", \"text\": \"Informatica appears with Pentaho 40 times\", \"type\": \"scatter\", \"x\": [-0.8428312743549768], \"y\": [-0.31565082443923026]}, {\"hoverinfo\": \"text\", \"marker\": {\"color\": \"green\", \"size\": 0.5}, \"mode\": \"markers\", \"text\": \"Pentaho appears with Qlik 37 times\", \"type\": \"scatter\", \"x\": [-0.8681775034112656], \"y\": [0.237208394814732]}, {\"hoverinfo\": \"text\", \"marker\": {\"color\": \"blue\", \"size\": 0.5}, \"mode\": \"markers\", \"text\": \"Qlik appears with Pentaho 37 times\", \"type\": \"scatter\", \"x\": [-0.7885709408720807], \"y\": [-0.43376937560427364]}, {\"hoverinfo\": \"text\", \"marker\": {\"color\": \"green\", \"size\": 0.5}, \"mode\": \"markers\", \"text\": \"Pentaho appears with Tableau 45 times\", \"type\": \"scatter\", \"x\": [-0.8750281899193816], \"y\": [0.21053661640296822]}, {\"hoverinfo\": \"text\", \"marker\": {\"color\": \"blue\", \"size\": 0.5}, \"mode\": \"markers\", \"text\": \"Tableau appears with Pentaho 45 times\", \"type\": \"scatter\", \"x\": [-0.5648059568630802], \"y\": [-0.7007098051918358]}, {\"hoverinfo\": \"text\", \"marker\": {\"color\": \"green\", \"size\": 0.5}, \"mode\": \"markers\", \"text\": \"Pentaho appears with Microstrategy 8 times\", \"type\": \"scatter\", \"x\": [-0.8661691784761489], \"y\": [0.2444400831654932]}, {\"hoverinfo\": \"text\", \"marker\": {\"color\": \"blue\", \"size\": 0.5}, \"mode\": \"markers\", \"text\": \"Microstrategy appears with Pentaho 8 times\", \"type\": \"scatter\", \"x\": [-0.12353940705667782], \"y\": [-0.8914807989542368]}, {\"hoverinfo\": \"text\", \"marker\": {\"color\": \"green\", \"size\": 0.5}, \"mode\": \"markers\", \"text\": \"Pentaho appears with Oracle BI 41 times\", \"type\": \"scatter\", \"x\": [-0.8726791822486677], \"y\": [0.2200705452117497]}, {\"hoverinfo\": \"text\", \"marker\": {\"color\": \"blue\", \"size\": 0.5}, \"mode\": \"markers\", \"text\": \"Oracle BI appears with Pentaho 41 times\", \"type\": \"scatter\", \"x\": [-0.04186712651006045], \"y\": [-0.8990256635479271]}, {\"hoverinfo\": \"text\", \"marker\": {\"color\": \"green\", \"size\": 0.5}, \"mode\": \"markers\", \"text\": \"Pentaho appears with Python 38 times\", \"type\": \"scatter\", \"x\": [-0.8692834030762836], \"y\": [0.23312306864854795]}, {\"hoverinfo\": \"text\", \"marker\": {\"color\": \"blue\", \"size\": 0.5}, \"mode\": \"markers\", \"text\": \"Python appears with Pentaho 38 times\", \"type\": \"scatter\", \"x\": [0.5386344428457452], \"y\": [-0.7210221473576617]}, {\"hoverinfo\": \"text\", \"marker\": {\"color\": \"green\", \"size\": 0.5}, \"mode\": \"markers\", \"text\": \"Pentaho appears with VBA 1 times\", \"type\": \"scatter\", \"x\": [-0.8660310991893433], \"y\": [0.24492883708722005]}, {\"hoverinfo\": \"text\", \"marker\": {\"color\": \"blue\", \"size\": 0.5}, \"mode\": \"markers\", \"text\": \"VBA appears with Pentaho 1 times\", \"type\": \"scatter\", \"x\": [0.8040028374045163], \"y\": [-0.4044495487022913]}, {\"hoverinfo\": \"text\", \"marker\": {\"color\": \"green\", \"size\": 0.5}, \"mode\": \"markers\", \"text\": \"Pentaho appears with Linux 44 times\", \"type\": \"scatter\", \"x\": [-0.8738396810418978], \"y\": [0.21541636854379118]}, {\"hoverinfo\": \"text\", \"marker\": {\"color\": \"blue\", \"size\": 0.5}, \"mode\": \"markers\", \"text\": \"Linux appears with Pentaho 44 times\", \"type\": \"scatter\", \"x\": [0.8648172005134027], \"y\": [-0.24918107812625145]}, {\"hoverinfo\": \"text\", \"marker\": {\"color\": \"green\", \"size\": 0.5}, \"mode\": \"markers\", \"text\": \"Pentaho appears with AWS 15 times\", \"type\": \"scatter\", \"x\": [-0.8673994743030095], \"y\": [0.24003781364373158]}, {\"hoverinfo\": \"text\", \"marker\": {\"color\": \"blue\", \"size\": 0.5}, \"mode\": \"markers\", \"text\": \"AWS appears with Pentaho 15 times\", \"type\": \"scatter\", \"x\": [0.8926632065615632], \"y\": [-0.1146839119110788]}, {\"hoverinfo\": \"text\", \"marker\": {\"color\": \"green\", \"size\": 0.5}, \"mode\": \"markers\", \"text\": \"Hadoop appears with Spark 244 times\", \"type\": \"scatter\", \"x\": [-0.8999413764261891], \"y\": [0.010272243967914239]}, {\"hoverinfo\": \"text\", \"marker\": {\"color\": \"blue\", \"size\": 0.5}, \"mode\": \"markers\", \"text\": \"Spark appears with Hadoop 244 times\", \"type\": \"scatter\", \"x\": [-0.8764742423116455], \"y\": [-0.2044331249191943]}, {\"hoverinfo\": \"text\", \"marker\": {\"color\": \"green\", \"size\": 0.5}, \"mode\": \"markers\", \"text\": \"Hadoop appears with Informatica 16 times\", \"type\": \"scatter\", \"x\": [-0.8893168284553138], \"y\": [0.13825909961439042]}, {\"hoverinfo\": \"text\", \"marker\": {\"color\": \"blue\", \"size\": 0.5}, \"mode\": \"markers\", \"text\": \"Informatica appears with Hadoop 16 times\", \"type\": \"scatter\", \"x\": [-0.851999510176528], \"y\": [-0.28999454246408923]}, {\"hoverinfo\": \"text\", \"marker\": {\"color\": \"green\", \"size\": 0.5}, \"mode\": \"markers\", \"text\": \"Hadoop appears with Qlik 15 times\", \"type\": \"scatter\", \"x\": [-0.8889894671244384], \"y\": [0.1403485922330793]}, {\"hoverinfo\": \"text\", \"marker\": {\"color\": \"blue\", \"size\": 0.5}, \"mode\": \"markers\", \"text\": \"Qlik appears with Hadoop 15 times\", \"type\": \"scatter\", \"x\": [-0.7973680963026049], \"y\": [-0.4173776695018074]}, {\"hoverinfo\": \"text\", \"marker\": {\"color\": \"green\", \"size\": 0.5}, \"mode\": \"markers\", \"text\": \"Hadoop appears with Tableau 91 times\", \"type\": \"scatter\", \"x\": [-0.8960933253991875], \"y\": [0.0837660562222302]}, {\"hoverinfo\": \"text\", \"marker\": {\"color\": \"blue\", \"size\": 0.5}, \"mode\": \"markers\", \"text\": \"Tableau appears with Hadoop 91 times\", \"type\": \"scatter\", \"x\": [-0.5202943281954486], \"y\": [-0.7343662655975197]}, {\"hoverinfo\": \"text\", \"marker\": {\"color\": \"green\", \"size\": 0.5}, \"mode\": \"markers\", \"text\": \"Hadoop appears with Microstrategy 7 times\", \"type\": \"scatter\", \"x\": [-0.8880556078061864], \"y\": [0.1461411558869877]}, {\"hoverinfo\": \"text\", \"marker\": {\"color\": \"blue\", \"size\": 0.5}, \"mode\": \"markers\", \"text\": \"Microstrategy appears with Hadoop 7 times\", \"type\": \"scatter\", \"x\": [-0.12428937745342476], \"y\": [-0.8913765481838976]}, {\"hoverinfo\": \"text\", \"marker\": {\"color\": \"green\", \"size\": 0.5}, \"mode\": \"markers\", \"text\": \"Hadoop appears with Oracle BI 87 times\", \"type\": \"scatter\", \"x\": [-0.8948814924180221], \"y\": [0.09584943676252675]}, {\"hoverinfo\": \"text\", \"marker\": {\"color\": \"blue\", \"size\": 0.5}, \"mode\": \"markers\", \"text\": \"Oracle BI appears with Hadoop 87 times\", \"type\": \"scatter\", \"x\": [0.008682652984165717], \"y\": [-0.8999581165460738]}, {\"hoverinfo\": \"text\", \"marker\": {\"color\": \"green\", \"size\": 0.5}, \"mode\": \"markers\", \"text\": \"Hadoop appears with Python 261 times\", \"type\": \"scatter\", \"x\": [-0.8996751675685074], \"y\": [-0.024178355208289946]}, {\"hoverinfo\": \"text\", \"marker\": {\"color\": \"blue\", \"size\": 0.5}, \"mode\": \"markers\", \"text\": \"Python appears with Hadoop 261 times\", \"type\": \"scatter\", \"x\": [0.7183405843743148], \"y\": [-0.542205500562995]}, {\"hoverinfo\": \"text\", \"marker\": {\"color\": \"green\", \"size\": 0.5}, \"mode\": \"markers\", \"text\": \"Hadoop appears with VBA 11 times\", \"type\": \"scatter\", \"x\": [-0.8884511208690353], \"y\": [0.14371710345868607]}, {\"hoverinfo\": \"text\", \"marker\": {\"color\": \"blue\", \"size\": 0.5}, \"mode\": \"markers\", \"text\": \"VBA appears with Hadoop 11 times\", \"type\": \"scatter\", \"x\": [0.8065302039861701], \"y\": [-0.39938581604512047]}, {\"hoverinfo\": \"text\", \"marker\": {\"color\": \"green\", \"size\": 0.5}, \"mode\": \"markers\", \"text\": \"Hadoop appears with Linux 145 times\", \"type\": \"scatter\", \"x\": [-0.8992472556231098], \"y\": [0.036801810475918455]}, {\"hoverinfo\": \"text\", \"marker\": {\"color\": \"blue\", \"size\": 0.5}, \"mode\": \"markers\", \"text\": \"Linux appears with Hadoop 145 times\", \"type\": \"scatter\", \"x\": [0.882658213281013], \"y\": [-0.17582513622224188]}, {\"hoverinfo\": \"text\", \"marker\": {\"color\": \"green\", \"size\": 0.5}, \"mode\": \"markers\", \"text\": \"Hadoop appears with AWS 95 times\", \"type\": \"scatter\", \"x\": [-0.8971853042210697], \"y\": [0.07112334279086323]}, {\"hoverinfo\": \"text\", \"marker\": {\"color\": \"blue\", \"size\": 0.5}, \"mode\": \"markers\", \"text\": \"AWS appears with Hadoop 95 times\", \"type\": \"scatter\", \"x\": [0.8976944983581742], \"y\": [-0.06437847169253262]}, {\"hoverinfo\": \"text\", \"marker\": {\"color\": \"green\", \"size\": 0.5}, \"mode\": \"markers\", \"text\": \"Spark appears with Informatica 17 times\", \"type\": \"scatter\", \"x\": [-0.8969353241204276], \"y\": [-0.07420932788392215]}, {\"hoverinfo\": \"text\", \"marker\": {\"color\": \"blue\", \"size\": 0.5}, \"mode\": \"markers\", \"text\": \"Informatica appears with Spark 17 times\", \"type\": \"scatter\", \"x\": [-0.8513297120353637], \"y\": [-0.2919549989395364]}, {\"hoverinfo\": \"text\", \"marker\": {\"color\": \"green\", \"size\": 0.5}, \"mode\": \"markers\", \"text\": \"Spark appears with Qlik 17 times\", \"type\": \"scatter\", \"x\": [-0.8967407838428986], \"y\": [-0.07652428760089149]}, {\"hoverinfo\": \"text\", \"marker\": {\"color\": \"blue\", \"size\": 0.5}, \"mode\": \"markers\", \"text\": \"Qlik appears with Spark 17 times\", \"type\": \"scatter\", \"x\": [-0.7952174859600787], \"y\": [-0.42146073366724457]}, {\"hoverinfo\": \"text\", \"marker\": {\"color\": \"green\", \"size\": 0.5}, \"mode\": \"markers\", \"text\": \"Spark appears with Tableau 70 times\", \"type\": \"scatter\", \"x\": [-0.892738818093279], \"y\": [-0.11409383274049209]}, {\"hoverinfo\": \"text\", \"marker\": {\"color\": \"blue\", \"size\": 0.5}, \"mode\": \"markers\", \"text\": \"Tableau appears with Spark 70 times\", \"type\": \"scatter\", \"x\": [-0.5581532263453279], \"y\": [-0.7060205208917806]}, {\"hoverinfo\": \"text\", \"marker\": {\"color\": \"green\", \"size\": 0.5}, \"mode\": \"markers\", \"text\": \"Spark appears with Microstrategy 3 times\", \"type\": \"scatter\", \"x\": [-0.8972427152831707], \"y\": [-0.07039538245711303]}, {\"hoverinfo\": \"text\", \"marker\": {\"color\": \"blue\", \"size\": 0.5}, \"mode\": \"markers\", \"text\": \"Microstrategy appears with Spark 3 times\", \"type\": \"scatter\", \"x\": [-0.12548914688375498], \"y\": [-0.891208434662951]}, {\"hoverinfo\": \"text\", \"marker\": {\"color\": \"green\", \"size\": 0.5}, \"mode\": \"markers\", \"text\": \"Spark appears with Oracle BI 79 times\", \"type\": \"scatter\", \"x\": [-0.889980237475897], \"y\": [-0.1339222793352394]}, {\"hoverinfo\": \"text\", \"marker\": {\"color\": \"blue\", \"size\": 0.5}, \"mode\": \"markers\", \"text\": \"Oracle BI appears with Spark 79 times\", \"type\": \"scatter\", \"x\": [-0.0037340578764036014], \"y\": [-0.8999922537509841]}, {\"hoverinfo\": \"text\", \"marker\": {\"color\": \"green\", \"size\": 0.5}, \"mode\": \"markers\", \"text\": \"Spark appears with Python 284 times\", \"type\": \"scatter\", \"x\": [-0.8675776160519115], \"y\": [-0.23939314970500303]}, {\"hoverinfo\": \"text\", \"marker\": {\"color\": \"blue\", \"size\": 0.5}, \"mode\": \"markers\", \"text\": \"Python appears with Spark 284 times\", \"type\": \"scatter\", \"x\": [0.7416734346047653], \"y\": [-0.5098240053210233]}, {\"hoverinfo\": \"text\", \"marker\": {\"color\": \"green\", \"size\": 0.5}, \"mode\": \"markers\", \"text\": \"Spark appears with VBA 10 times\", \"type\": \"scatter\", \"x\": [-0.8970855548406533], \"y\": [-0.07237062453949976]}, {\"hoverinfo\": \"text\", \"marker\": {\"color\": \"blue\", \"size\": 0.5}, \"mode\": \"markers\", \"text\": \"VBA appears with Spark 10 times\", \"type\": \"scatter\", \"x\": [0.8059433340041804], \"y\": [-0.40056877358853893]}, {\"hoverinfo\": \"text\", \"marker\": {\"color\": \"green\", \"size\": 0.5}, \"mode\": \"markers\", \"text\": \"Spark appears with Linux 129 times\", \"type\": \"scatter\", \"x\": [-0.8853075541878406], \"y\": [-0.16195843447608327]}, {\"hoverinfo\": \"text\", \"marker\": {\"color\": \"blue\", \"size\": 0.5}, \"mode\": \"markers\", \"text\": \"Linux appears with Spark 129 times\", \"type\": \"scatter\", \"x\": [0.8790427623547551], \"y\": [-0.1930901912364309]}, {\"hoverinfo\": \"text\", \"marker\": {\"color\": \"green\", \"size\": 0.5}, \"mode\": \"markers\", \"text\": \"Spark appears with AWS 104 times\", \"type\": \"scatter\", \"x\": [-0.8880338016858831], \"y\": [-0.14627360343998405]}, {\"hoverinfo\": \"text\", \"marker\": {\"color\": \"blue\", \"size\": 0.5}, \"mode\": \"markers\", \"text\": \"AWS appears with Spark 104 times\", \"type\": \"scatter\", \"x\": [0.8984668615306663], \"y\": [-0.052509986966618495]}, {\"hoverinfo\": \"text\", \"marker\": {\"color\": \"green\", \"size\": 0.5}, \"mode\": \"markers\", \"text\": \"Informatica appears with Qlik 102 times\", \"type\": \"scatter\", \"x\": [-0.827904575102348], \"y\": [-0.3529504420235233]}, {\"hoverinfo\": \"text\", \"marker\": {\"color\": \"blue\", \"size\": 0.5}, \"mode\": \"markers\", \"text\": \"Qlik appears with Informatica 102 times\", \"type\": \"scatter\", \"x\": [-0.7631315217297543], \"y\": [-0.4771061522789552]}, {\"hoverinfo\": \"text\", \"marker\": {\"color\": \"green\", \"size\": 0.5}, \"mode\": \"markers\", \"text\": \"Informatica appears with Tableau 85 times\", \"type\": \"scatter\", \"x\": [-0.8324379531514746], \"y\": [-0.3421214026526015]}, {\"hoverinfo\": \"text\", \"marker\": {\"color\": \"blue\", \"size\": 0.5}, \"mode\": \"markers\", \"text\": \"Tableau appears with Informatica 85 times\", \"type\": \"scatter\", \"x\": [-0.5308696951153486], \"y\": [-0.7267581212536512]}, {\"hoverinfo\": \"text\", \"marker\": {\"color\": \"green\", \"size\": 0.5}, \"mode\": \"markers\", \"text\": \"Informatica appears with Microstrategy 28 times\", \"type\": \"scatter\", \"x\": [-0.8474068022361761], \"y\": [-0.30315295070946985]}, {\"hoverinfo\": \"text\", \"marker\": {\"color\": \"blue\", \"size\": 0.5}, \"mode\": \"markers\", \"text\": \"Microstrategy appears with Informatica 28 times\", \"type\": \"scatter\", \"x\": [-0.11102743536495309], \"y\": [-0.8931253599558582]}, {\"hoverinfo\": \"text\", \"marker\": {\"color\": \"green\", \"size\": 0.5}, \"mode\": \"markers\", \"text\": \"Informatica appears with Oracle BI 147 times\", \"type\": \"scatter\", \"x\": [-0.8150136969853358], \"y\": [-0.38177568509046683]}, {\"hoverinfo\": \"text\", \"marker\": {\"color\": \"blue\", \"size\": 0.5}, \"mode\": \"markers\", \"text\": \"Oracle BI appears with Informatica 147 times\", \"type\": \"scatter\", \"x\": [0.07024674562459159], \"y\": [-0.8972543645640036]}, {\"hoverinfo\": \"text\", \"marker\": {\"color\": \"green\", \"size\": 0.5}, \"mode\": \"markers\", \"text\": \"Informatica appears with Python 34 times\", \"type\": \"scatter\", \"x\": [-0.8460878051445881], \"y\": [-0.3068149702762456]}, {\"hoverinfo\": \"text\", \"marker\": {\"color\": \"blue\", \"size\": 0.5}, \"mode\": \"markers\", \"text\": \"Python appears with Informatica 34 times\", \"type\": \"scatter\", \"x\": [0.5344006440668271], \"y\": [-0.7241656934852413]}, {\"hoverinfo\": \"text\", \"marker\": {\"color\": \"green\", \"size\": 0.5}, \"mode\": \"markers\", \"text\": \"Informatica appears with VBA 6 times\", \"type\": \"scatter\", \"x\": [-0.8534850640036007], \"y\": [-0.28559279669272064]}, {\"hoverinfo\": \"text\", \"marker\": {\"color\": \"blue\", \"size\": 0.5}, \"mode\": \"markers\", \"text\": \"VBA appears with Informatica 6 times\", \"type\": \"scatter\", \"x\": [0.8047643900927258], \"y\": [-0.4029320990423611]}, {\"hoverinfo\": \"text\", \"marker\": {\"color\": \"green\", \"size\": 0.5}, \"mode\": \"markers\", \"text\": \"Informatica appears with Linux 15 times\", \"type\": \"scatter\", \"x\": [-0.8526246021141064], \"y\": [-0.28815150159206504]}, {\"hoverinfo\": \"text\", \"marker\": {\"color\": \"blue\", \"size\": 0.5}, \"mode\": \"markers\", \"text\": \"Linux appears with Informatica 15 times\", \"type\": \"scatter\", \"x\": [0.8601283471227263], \"y\": [-0.26491362078218395]}, {\"hoverinfo\": \"text\", \"marker\": {\"color\": \"green\", \"size\": 0.5}, \"mode\": \"markers\", \"text\": \"Informatica appears with AWS 25 times\", \"type\": \"scatter\", \"x\": [-0.8496458416331248], \"y\": [-0.29681971598183793]}, {\"hoverinfo\": \"text\", \"marker\": {\"color\": \"blue\", \"size\": 0.5}, \"mode\": \"markers\", \"text\": \"AWS appears with Informatica 25 times\", \"type\": \"scatter\", \"x\": [0.8939702683196612], \"y\": [-0.10400557369907193]}, {\"hoverinfo\": \"text\", \"marker\": {\"color\": \"green\", \"size\": 0.5}, \"mode\": \"markers\", \"text\": \"Qlik appears with Tableau 409 times\", \"type\": \"scatter\", \"x\": [-0.7127966207454683], \"y\": [-0.5494733637346226]}, {\"hoverinfo\": \"text\", \"marker\": {\"color\": \"blue\", \"size\": 0.5}, \"mode\": \"markers\", \"text\": \"Tableau appears with Qlik 409 times\", \"type\": \"scatter\", \"x\": [-0.3433158285064571], \"y\": [-0.8319460570835858]}, {\"hoverinfo\": \"text\", \"marker\": {\"color\": \"green\", \"size\": 0.5}, \"mode\": \"markers\", \"text\": \"Qlik appears with Microstrategy 53 times\", \"type\": \"scatter\", \"x\": [-0.7854227043474827], \"y\": [-0.4394441665279979]}, {\"hoverinfo\": \"text\", \"marker\": {\"color\": \"blue\", \"size\": 0.5}, \"mode\": \"markers\", \"text\": \"Microstrategy appears with Qlik 53 times\", \"type\": \"scatter\", \"x\": [-0.0986441599164976], \"y\": [-0.8945777382175171]}, {\"hoverinfo\": \"text\", \"marker\": {\"color\": \"green\", \"size\": 0.5}, \"mode\": \"markers\", \"text\": \"Qlik appears with Oracle BI 428 times\", \"type\": \"scatter\", \"x\": [-0.6743749251445523], \"y\": [-0.5960020640369288]}, {\"hoverinfo\": \"text\", \"marker\": {\"color\": \"blue\", \"size\": 0.5}, \"mode\": \"markers\", \"text\": \"Oracle BI appears with Qlik 428 times\", \"type\": \"scatter\", \"x\": [0.2981763944058738], \"y\": [-0.8491706764950806]}, {\"hoverinfo\": \"text\", \"marker\": {\"color\": \"green\", \"size\": 0.5}, \"mode\": \"markers\", \"text\": \"Qlik appears with Python 60 times\", \"type\": \"scatter\", \"x\": [-0.7814121140534277], \"y\": [-0.4465367935686296]}, {\"hoverinfo\": \"text\", \"marker\": {\"color\": \"blue\", \"size\": 0.5}, \"mode\": \"markers\", \"text\": \"Python appears with Qlik 60 times\", \"type\": \"scatter\", \"x\": [0.5491377249524797], \"y\": [-0.7130552286001519]}, {\"hoverinfo\": \"text\", \"marker\": {\"color\": \"green\", \"size\": 0.5}, \"mode\": \"markers\", \"text\": \"Qlik appears with VBA 31 times\", \"type\": \"scatter\", \"x\": [-0.7909224253142095], \"y\": [-0.42946678234188107]}, {\"hoverinfo\": \"text\", \"marker\": {\"color\": \"blue\", \"size\": 0.5}, \"mode\": \"markers\", \"text\": \"VBA appears with Qlik 31 times\", \"type\": \"scatter\", \"x\": [0.8097955288584752], \"y\": [-0.3927228048392689]}, {\"hoverinfo\": \"text\", \"marker\": {\"color\": \"green\", \"size\": 0.5}, \"mode\": \"markers\", \"text\": \"Qlik appears with Linux 3 times\", \"type\": \"scatter\", \"x\": [-0.798302399314262], \"y\": [-0.4155878718743999]}, {\"hoverinfo\": \"text\", \"marker\": {\"color\": \"blue\", \"size\": 0.5}, \"mode\": \"markers\", \"text\": \"Linux appears with Qlik 3 times\", \"type\": \"scatter\", \"x\": [0.8578227059631425], \"y\": [-0.27228699038711374]}, {\"hoverinfo\": \"text\", \"marker\": {\"color\": \"green\", \"size\": 0.5}, \"mode\": \"markers\", \"text\": \"Qlik appears with AWS 5 times\", \"type\": \"scatter\", \"x\": [-0.7980358653332292], \"y\": [-0.4160994564306039]}, {\"hoverinfo\": \"text\", \"marker\": {\"color\": \"blue\", \"size\": 0.5}, \"mode\": \"markers\", \"text\": \"AWS appears with Qlik 5 times\", \"type\": \"scatter\", \"x\": [0.892355420332368], \"y\": [-0.1170547043200012]}, {\"hoverinfo\": \"text\", \"marker\": {\"color\": \"green\", \"size\": 0.5}, \"mode\": \"markers\", \"text\": \"Tableau appears with Microstrategy 76 times\", \"type\": \"scatter\", \"x\": [-0.5496352920529995], \"y\": [-0.7126717657728653]}, {\"hoverinfo\": \"text\", \"marker\": {\"color\": \"blue\", \"size\": 0.5}, \"mode\": \"markers\", \"text\": \"Microstrategy appears with Tableau 76 times\", \"type\": \"scatter\", \"x\": [-0.08654342669179195], \"y\": [-0.8958293561256198]}, {\"hoverinfo\": \"text\", \"marker\": {\"color\": \"green\", \"size\": 0.5}, \"mode\": \"markers\", \"text\": \"Tableau appears with Oracle BI 561 times\", \"type\": \"scatter\", \"x\": [-0.2759222375137197], \"y\": [-0.8566603287449597]}, {\"hoverinfo\": \"text\", \"marker\": {\"color\": \"blue\", \"size\": 0.5}, \"mode\": \"markers\", \"text\": \"Oracle BI appears with Tableau 561 times\", \"type\": \"scatter\", \"x\": [0.3668905952482497], \"y\": [-0.8218219339482155]}, {\"hoverinfo\": \"text\", \"marker\": {\"color\": \"green\", \"size\": 0.5}, \"mode\": \"markers\", \"text\": \"Tableau appears with Python 209 times\", \"type\": \"scatter\", \"x\": [-0.45348145370279147], \"y\": [-0.7774024512101844]}, {\"hoverinfo\": \"text\", \"marker\": {\"color\": \"blue\", \"size\": 0.5}, \"mode\": \"markers\", \"text\": \"Python appears with Tableau 209 times\", \"type\": \"scatter\", \"x\": [0.6518429757350142], \"y\": [-0.6205648515545509]}, {\"hoverinfo\": \"text\", \"marker\": {\"color\": \"green\", \"size\": 0.5}, \"mode\": \"markers\", \"text\": \"Tableau appears with VBA 96 times\", \"type\": \"scatter\", \"x\": [-0.508938599188999], \"y\": [-0.7422812824364761]}, {\"hoverinfo\": \"text\", \"marker\": {\"color\": \"blue\", \"size\": 0.5}, \"mode\": \"markers\", \"text\": \"VBA appears with Tableau 96 times\", \"type\": \"scatter\", \"x\": [0.8216639986875752], \"y\": [-0.367244160281337]}, {\"hoverinfo\": \"text\", \"marker\": {\"color\": \"green\", \"size\": 0.5}, \"mode\": \"markers\", \"text\": \"Tableau appears with Linux 34 times\", \"type\": \"scatter\", \"x\": [-0.5736926259790088], \"y\": [-0.6934527892346452]}, {\"hoverinfo\": \"text\", \"marker\": {\"color\": \"blue\", \"size\": 0.5}, \"mode\": \"markers\", \"text\": \"Linux appears with Tableau 34 times\", \"type\": \"scatter\", \"x\": [0.8620938006009113], \"y\": [-0.25844589175584914]}, {\"hoverinfo\": \"text\", \"marker\": {\"color\": \"green\", \"size\": 0.5}, \"mode\": \"markers\", \"text\": \"Tableau appears with AWS 38 times\", \"type\": \"scatter\", \"x\": [-0.5695761330205691], \"y\": [-0.6968378783428287]}, {\"hoverinfo\": \"text\", \"marker\": {\"color\": \"blue\", \"size\": 0.5}, \"mode\": \"markers\", \"text\": \"AWS appears with Tableau 38 times\", \"type\": \"scatter\", \"x\": [0.8943975719656305], \"y\": [-0.10026456633320045]}, {\"hoverinfo\": \"text\", \"marker\": {\"color\": \"green\", \"size\": 0.5}, \"mode\": \"markers\", \"text\": \"Microstrategy appears with Oracle BI 76 times\", \"type\": \"scatter\", \"x\": [-0.07890315747683113], \"y\": [-0.8965346015297939]}, {\"hoverinfo\": \"text\", \"marker\": {\"color\": \"blue\", \"size\": 0.5}, \"mode\": \"markers\", \"text\": \"Oracle BI appears with Microstrategy 76 times\", \"type\": \"scatter\", \"x\": [-0.015327380115522878], \"y\": [-0.8998694746566273]}, {\"hoverinfo\": \"text\", \"marker\": {\"color\": \"green\", \"size\": 0.5}, \"mode\": \"markers\", \"text\": \"Microstrategy appears with Python 20 times\", \"type\": \"scatter\", \"x\": [-0.12073874925015668], \"y\": [-0.8918644260365517]}, {\"hoverinfo\": \"text\", \"marker\": {\"color\": \"blue\", \"size\": 0.5}, \"mode\": \"markers\", \"text\": \"Python appears with Microstrategy 20 times\", \"type\": \"scatter\", \"x\": [0.5312132476231901], \"y\": [-0.7265070443909153]}, {\"hoverinfo\": \"text\", \"marker\": {\"color\": \"green\", \"size\": 0.5}, \"mode\": \"markers\", \"text\": \"Microstrategy appears with VBA 7 times\", \"type\": \"scatter\", \"x\": [-0.12498927046324683], \"y\": [-0.8912786782309253]}, {\"hoverinfo\": \"text\", \"marker\": {\"color\": \"blue\", \"size\": 0.5}, \"mode\": \"markers\", \"text\": \"VBA appears with Microstrategy 7 times\", \"type\": \"scatter\", \"x\": [0.8054669779097459], \"y\": [-0.4015257743868269]}, {\"hoverinfo\": \"text\", \"marker\": {\"color\": \"green\", \"size\": 0.5}, \"mode\": \"markers\", \"text\": \"Microstrategy appears with Linux 14 times\", \"type\": \"scatter\", \"x\": [-0.12243929245115863], \"y\": [-0.8916325586608307]}, {\"hoverinfo\": \"text\", \"marker\": {\"color\": \"blue\", \"size\": 0.5}, \"mode\": \"markers\", \"text\": \"Linux appears with Microstrategy 14 times\", \"type\": \"scatter\", \"x\": [0.8595769514216292], \"y\": [-0.2666973276669606]}, {\"hoverinfo\": \"text\", \"marker\": {\"color\": \"green\", \"size\": 0.5}, \"mode\": \"markers\", \"text\": \"Microstrategy appears with AWS 2 times\", \"type\": \"scatter\", \"x\": [-0.12573907030015047], \"y\": [-0.8911732077436203]}, {\"hoverinfo\": \"text\", \"marker\": {\"color\": \"blue\", \"size\": 0.5}, \"mode\": \"markers\", \"text\": \"AWS appears with Microstrategy 2 times\", \"type\": \"scatter\", \"x\": [0.8921755919792363], \"y\": [-0.11841753703104646]}, {\"hoverinfo\": \"text\", \"marker\": {\"color\": \"green\", \"size\": 0.5}, \"mode\": \"markers\", \"text\": \"Oracle BI appears with Python 234 times\", \"type\": \"scatter\", \"x\": [0.15945682143113568], \"y\": [-0.8857615492326809]}, {\"hoverinfo\": \"text\", \"marker\": {\"color\": \"blue\", \"size\": 0.5}, \"mode\": \"markers\", \"text\": \"Python appears with Oracle BI 234 times\", \"type\": \"scatter\", \"x\": [0.6959228369952065], \"y\": [-0.5706937926318659]}, {\"hoverinfo\": \"text\", \"marker\": {\"color\": \"green\", \"size\": 0.5}, \"mode\": \"markers\", \"text\": \"Oracle BI appears with VBA 96 times\", \"type\": \"scatter\", \"x\": [0.035526876427091604], \"y\": [-0.8992985272151479]}, {\"hoverinfo\": \"text\", \"marker\": {\"color\": \"blue\", \"size\": 0.5}, \"mode\": \"markers\", \"text\": \"VBA appears with Oracle BI 96 times\", \"type\": \"scatter\", \"x\": [0.8265164732965559], \"y\": [-0.3561888815915282]}, {\"hoverinfo\": \"text\", \"marker\": {\"color\": \"green\", \"size\": 0.5}, \"mode\": \"markers\", \"text\": \"Oracle BI appears with Linux 13 times\", \"type\": \"scatter\", \"x\": [-0.04590153677610057], \"y\": [-0.8988287094444594]}, {\"hoverinfo\": \"text\", \"marker\": {\"color\": \"blue\", \"size\": 0.5}, \"mode\": \"markers\", \"text\": \"Linux appears with Oracle BI 13 times\", \"type\": \"scatter\", \"x\": [0.8585210427862874], \"y\": [-0.27007706139756815]}, {\"hoverinfo\": \"text\", \"marker\": {\"color\": \"green\", \"size\": 0.5}, \"mode\": \"markers\", \"text\": \"Oracle BI appears with AWS 63 times\", \"type\": \"scatter\", \"x\": [-0.025721865314411986], \"y\": [-0.8996323613814408]}, {\"hoverinfo\": \"text\", \"marker\": {\"color\": \"blue\", \"size\": 0.5}, \"mode\": \"markers\", \"text\": \"AWS appears with Oracle BI 63 times\", \"type\": \"scatter\", \"x\": [0.8961349107375959], \"y\": [-0.08331999614330858]}, {\"hoverinfo\": \"text\", \"marker\": {\"color\": \"green\", \"size\": 0.5}, \"mode\": \"markers\", \"text\": \"Python appears with VBA 76 times\", \"type\": \"scatter\", \"x\": [0.5569955188631293], \"y\": [-0.7069342203956416]}, {\"hoverinfo\": \"text\", \"marker\": {\"color\": \"blue\", \"size\": 0.5}, \"mode\": \"markers\", \"text\": \"VBA appears with Python 76 times\", \"type\": \"scatter\", \"x\": [0.8171914007901304], \"y\": [-0.37709178521238623]}, {\"hoverinfo\": \"text\", \"marker\": {\"color\": \"green\", \"size\": 0.5}, \"mode\": \"markers\", \"text\": \"Python appears with Linux 159 times\", \"type\": \"scatter\", \"x\": [0.6329695728221256], \"y\": [-0.6398042824812724]}, {\"hoverinfo\": \"text\", \"marker\": {\"color\": \"blue\", \"size\": 0.5}, \"mode\": \"markers\", \"text\": \"Linux appears with Python 159 times\", \"type\": \"scatter\", \"x\": [0.886272678836434], \"y\": [-0.15659099191234185]}, {\"hoverinfo\": \"text\", \"marker\": {\"color\": \"green\", \"size\": 0.5}, \"mode\": \"markers\", \"text\": \"Python appears with AWS 151 times\", \"type\": \"scatter\", \"x\": [0.616629607712211], \"y\": [-0.6555668744626171]}, {\"hoverinfo\": \"text\", \"marker\": {\"color\": \"blue\", \"size\": 0.5}, \"mode\": \"markers\", \"text\": \"AWS appears with Python 151 times\", \"type\": \"scatter\", \"x\": [0.8992272055637802], \"y\": [-0.03728850726369913]}, {\"hoverinfo\": \"text\", \"marker\": {\"color\": \"green\", \"size\": 0.5}, \"mode\": \"markers\", \"text\": \"VBA appears with Linux 5 times\", \"type\": \"scatter\", \"x\": [0.8044544734540898], \"y\": [-0.40355049267681886]}, {\"hoverinfo\": \"text\", \"marker\": {\"color\": \"blue\", \"size\": 0.5}, \"mode\": \"markers\", \"text\": \"Linux appears with VBA 5 times\", \"type\": \"scatter\", \"x\": [0.857978383694326], \"y\": [-0.2717960505843893]}, {\"hoverinfo\": \"text\", \"marker\": {\"color\": \"green\", \"size\": 0.5}, \"mode\": \"markers\", \"text\": \"VBA appears with AWS 5 times\", \"type\": \"scatter\", \"x\": [0.8041723187013466], \"y\": [-0.4041124618648872]}, {\"hoverinfo\": \"text\", \"marker\": {\"color\": \"blue\", \"size\": 0.5}, \"mode\": \"markers\", \"text\": \"AWS appears with VBA 5 times\", \"type\": \"scatter\", \"x\": [0.8922774898624144], \"y\": [-0.11764727402209109]}, {\"hoverinfo\": \"text\", \"marker\": {\"color\": \"green\", \"size\": 0.5}, \"mode\": \"markers\", \"text\": \"Linux appears with AWS 50 times\", \"type\": \"scatter\", \"x\": [0.866473136861029], \"y\": [-0.2433604386464827]}, {\"hoverinfo\": \"text\", \"marker\": {\"color\": \"blue\", \"size\": 0.5}, \"mode\": \"markers\", \"text\": \"AWS appears with Linux 50 times\", \"type\": \"scatter\", \"x\": [0.8954844432302674], \"y\": [-0.09004227858388557]}],\n",
       "                        {\"autosize\": false, \"font\": {\"color\": \"#655643\", \"family\": \"Fira Sans Condensed\", \"size\": 12}, \"height\": 540, \"hidesources\": true, \"hoverdistance\": 40, \"hovermode\": \"closest\", \"margin\": {\"b\": 10, \"l\": 280, \"r\": 280, \"t\": 80}, \"paper_bgcolor\": \"#fffaf0\", \"plot_bgcolor\": \"#fffaf0\", \"shapes\": [{\"fillcolor\": \"#f2e6ce\", \"layer\": \"below\", \"line\": {\"color\": \"rgb(175,175,175)\", \"width\": 0.5}, \"path\": \"M 0.9676788023521121,0.2521859145122539 Q 0.18036235742596224, 0.08642580646860894 0.8028320563129105, 0.596205240966887L 0.8028320563129105, 0.596205240966887 L 0.8176223546551553, 0.5757548828869447 L 0.8318918520283902, 0.5549377861785724 M 0.8318918520283902,0.5549377861785724 Q 0.18049699970063382, 0.08614425749328507 0.9546556005848993, 0.2977124187397717L 0.9546556005848993, 0.2977124187397717 L 0.9614367138951964, 0.27502626269941266 L 0.9676788023521121, 0.2521859145122539 \", \"type\": \"path\"}, {\"fillcolor\": \"#f2e6ce\", \"layer\": \"below\", \"line\": {\"color\": \"rgb(175,175,175)\", \"width\": 0.5}, \"path\": \"M 0.9946430768523588,0.10336899762343088 Q 0.14279911644468227, 0.14003004085773194 0.12282367997592172, 0.9924285080735903L 0.12282367997592172, 0.9924285080735903 L 0.13845641400175418, 0.9903685280852652 L 0.15405472417833582, 0.9880623168395488 M 0.15405472417833582,0.9880623168395488 Q 0.14288503977307548, 0.13994236459716777 0.9910537927018895, 0.1334630284805504L 0.9910537927018895, 0.1334630284805504 L 0.9929624500013545, 0.1184296115306785 L 0.9946430768523588, 0.10336899762343088 \", \"type\": \"path\"}, {\"fillcolor\": \"#f2e6ce\", \"layer\": \"below\", \"line\": {\"color\": \"rgb(175,175,175)\", \"width\": 0.5}, \"path\": \"M 0.997118773782788,0.07585612018755854 Q 0.10309608351912825, 0.17138027180226123 -0.4001961468407746, 0.9164295085023164L -0.4001961468407746, 0.9164295085023164 L -0.3873072154654627, 0.9219507149779698 L -0.374342136287419, 0.9272906583158117 M -0.374342136287419,0.9272906583158117 Q 0.10313196205948182, 0.17135868347347213 0.9946430768523588, 0.10336899762343088L 0.9946430768523588, 0.10336899762343088 L 0.9959759319469454, 0.08962110790663991 L 0.997118773782788, 0.07585612018755854 \", \"type\": \"path\"}, {\"fillcolor\": \"#f2e6ce\", \"layer\": \"below\", \"line\": {\"color\": \"rgb(175,175,175)\", \"width\": 0.5}, \"path\": \"M 1.0,0.0 Q 0.08047956226307718, 0.18309298200079513 -0.6761520028971741, 0.736762152243273L -0.6761520028971741, 0.736762152243273 L -0.6758852672822369, 0.7370068557827798 L -0.6756184431076007, 0.7372514627539655 M -0.6756184431076007,0.7372514627539655 Q 0.08047358164038595, 0.18309561070098906 0.9999996885159222, 0.0007892832562452895L 0.9999996885159222, 0.0007892832562452895 L 0.9999999221289775, 0.00039464165885379427 L 1.0, 0.0 \", \"type\": \"path\"}, {\"fillcolor\": \"#f2e6ce\", \"layer\": \"below\", \"line\": {\"color\": \"rgb(175,175,175)\", \"width\": 0.5}, \"path\": \"M 0.9990163574793024,0.04434317860490697 Q 0.0502436280531596, 0.193586099294489 -0.8513542806132368, 0.5245911635564575L -0.8513542806132368, 0.5245911635564575 L -0.8481320442707735, 0.5297848954821934 L -0.8448781237011538, 0.5349588358847976 M -0.8448781237011538,0.5349588358847976 Q 0.050219770566713645, 0.19359228973341538 0.9983857009707863, 0.05679781771399012L 0.9983857009707863, 0.05679781771399012 L 0.9987204440102332, 0.05057148125181546 L 0.9990163574793024, 0.04434317860490697 \", \"type\": \"path\"}, {\"fillcolor\": \"#f2e6ce\", \"layer\": \"below\", \"line\": {\"color\": \"rgb(175,175,175)\", \"width\": 0.5}, \"path\": \"M 0.9999971966444641,0.002367847801942837 Q 0.0352521139667819, 0.19686870868899664 -0.9370401461716695, 0.3492216552027898L -0.9370401461716695, 0.3492216552027898 L -0.9368257032019449, 0.34979651487712315 L -0.936610907564716, 0.35037124287075705 M -0.936610907564716,0.35037124287075705 Q 0.03520197884696149, 0.19687767949988155 0.999991577481922, 0.004104261835835458L 0.999991577481922, 0.004104261835835458 L 0.9999947639569496, 0.0032360560385448506 L 0.9999971966444641, 0.002367847801942837 \", \"type\": \"path\"}, {\"fillcolor\": \"#f2e6ce\", \"layer\": \"below\", \"line\": {\"color\": \"rgb(175,175,175)\", \"width\": 0.5}, \"path\": \"M 0.999991577481922,0.004104261835835458 Q 0.026602192487648408, 0.19822291329422567 -0.963525920937951, 0.26761502140327126L -0.963525920937951, 0.26761502140327126 L -0.9633074617927376, 0.26840032424427757 L -0.9630883626020119, 0.2691854487534117 M -0.9630883626020119,0.2691854487534117 Q 0.026560377633314727, 0.19822852050089998 0.9999810493675773, 0.006156371148584149L 0.9999810493675773, 0.006156371148584149 L 0.9999868398258946, 0.005130319192851242 L 0.999991577481922, 0.004104261835835458 \", \"type\": \"path\"}, {\"fillcolor\": \"#f2e6ce\", \"layer\": \"below\", \"line\": {\"color\": \"rgb(175,175,175)\", \"width\": 0.5}, \"path\": \"M 0.9996649116680408,0.02588560178416068 Q 0.010782360391773075, 0.19970914026248754 -0.991066874932205, 0.13336584799757822L -0.991066874932205, 0.13336584799757822 L -0.9905022179010611, 0.1374967502637024 L -0.9899203427805833, 0.14162526239754133 M -0.9899203427805833,0.14162526239754133 Q 0.010748062201678595, 0.19971098907899099 0.99940249596608, 0.03456372457894849L 0.99940249596608, 0.03456372457894849 L 0.9995431218912276, 0.030224947972471022 L 0.9996649116680408, 0.02588560178416068 \", \"type\": \"path\"}, {\"fillcolor\": \"#f2e6ce\", \"layer\": \"below\", \"line\": {\"color\": \"rgb(175,175,175)\", \"width\": 0.5}, \"path\": \"M 0.99940249596608,0.03456372457894849 Q -0.015620997953160338, 0.1993890278399174 -0.9925917120365532, -0.12149770860532433L -0.9925917120365532, -0.12149770860532433 L -0.9931526009463868, -0.11682427501776788 L -0.9936914859864368, -0.11214825312089001 M -0.9936914859864368,-0.11214825312089001 Q -0.015658199915700815, 0.19938610978551127 0.9990163574793024, 0.04434317860490697L 0.9990163574793024, 0.04434317860490697 L 0.9992213908247515, 0.0394539239905149 L 0.99940249596608, 0.03456372457894849 \", \"type\": \"path\"}, {\"fillcolor\": \"#f2e6ce\", \"layer\": \"below\", \"line\": {\"color\": \"rgb(175,175,175)\", \"width\": 0.5}, \"path\": \"M 0.9999650018513478,0.008366305781763056 Q -0.03481851748814617, 0.1969458576358682 -0.942219205008714, -0.3349969697068122L -0.942219205008714, -0.3349969697068122 L -0.9428484605535326, -0.33322181866113426 L -0.9434743716981598, -0.33144548563642034 M -0.9434743716981598,-0.33144548563642034 Q -0.03486729671647122, 0.19693722761246935 0.9999202611316792, 0.012628197747681716L 0.9999202611316792, 0.012628197747681716 L 0.9999449020845874, 0.010497275601076992 L 0.9999650018513478, 0.008366305781763056 \", \"type\": \"path\"}, {\"fillcolor\": \"#f2e6ce\", \"layer\": \"below\", \"line\": {\"color\": \"rgb(175,175,175)\", \"width\": 0.5}, \"path\": \"M 0.9910537927018895,0.1334630284805504 Q -0.07398146403137443, 0.18581373194620052 -0.8115734769427446, -0.5842503671569786L -0.8115734769427446, -0.5842503671569786 L -0.8225658604824347, -0.5686698560402088 L -0.8332591715597107, -0.5528825851947451 M -0.8332591715597107,-0.5528825851947451 Q -0.07392883011496622, 0.18583467942725995 0.9853414291547833, 0.17059386856276273L 0.9853414291547833, 0.17059386856276273 L 0.9883719912390144, 0.15205527591710047 L 0.9910537927018895, 0.1334630284805504 \", \"type\": \"path\"}, {\"fillcolor\": \"#f2e6ce\", \"layer\": \"below\", \"line\": {\"color\": \"rgb(175,175,175)\", \"width\": 0.5}, \"path\": \"M 0.9777112600992695,0.2099540232410387 Q -0.12554916759126683, 0.15568367453634951 -0.4123356056151688, -0.9110320237741217L -0.4123356056151688, -0.9110320237741217 L -0.43283394088264393, -0.9014736710631098 L -0.4531108626073006, -0.8914541750349638 M -0.4531108626073006,-0.8914541750349638 Q -0.12540705000249341, 0.15579817652871333 0.9676788023521121, 0.2521859145122539L 0.9676788023521121, 0.2521859145122539 L 0.9729242041039136, 0.2311244103697539 L 0.9777112600992695, 0.2099540232410387 \", \"type\": \"path\"}, {\"fillcolor\": \"#f2e6ce\", \"layer\": \"below\", \"line\": {\"color\": \"rgb(175,175,175)\", \"width\": 0.5}, \"path\": \"M 0.9999202611316792,0.012628197747681716 Q -0.13379748403014266, 0.1486547451889906 -0.1174618074266697, -0.993077400707548L -0.1174618074266697, -0.993077400707548 L -0.11963379537212324, -0.9928180875693497 L -0.12180521089679083, -0.9925540240200471 M -0.12180521089679083,-0.9925540240200471 Q -0.13392985134715757, 0.14853550053144965 0.9998235681380859, 0.018783838681863833L 0.9998235681380859, 0.018783838681863833 L 0.9998766517198276, 0.015706092625046075 L 0.9999202611316792, 0.012628197747681716 \", \"type\": \"path\"}, {\"fillcolor\": \"#f2e6ce\", \"layer\": \"below\", \"line\": {\"color\": \"rgb(175,175,175)\", \"width\": 0.5}, \"path\": \"M 0.9853414291547833,0.17059386856276273 Q -0.16731550306586052, 0.10956971494814625 0.23749208464738186, -0.9713894737590277L 0.23749208464738186, -0.9713894737590277 L 0.21693435045371864, -0.9761861951457945 L 0.19627994402863533, -0.9805478996826804 M 0.19627994402863533,-0.9805478996826804 Q -0.16719898850934356, 0.10974742931591792 0.9777112600992695, 0.2099540232410387L 0.9777112600992695, 0.2099540232410387 L 0.9817236223301172, 0.19031218920246115 L 0.9853414291547833, 0.17059386856276273 \", \"type\": \"path\"}, {\"fillcolor\": \"#f2e6ce\", \"layer\": \"below\", \"line\": {\"color\": \"rgb(175,175,175)\", \"width\": 0.5}, \"path\": \"M 0.9983857009707863,0.05679781771399012 Q -0.1844231448554941, 0.07738283815943585 0.658935236281379, -0.7521996772046656L 0.658935236281379, -0.7521996772046656 L 0.6514967817490717, -0.7586513977912401 L 0.6439951611480031, -0.7650295631006409 M 0.6439951611480031,-0.7650295631006409 Q -0.18440020823695094, 0.07743747931182379 0.997118773782788, 0.07585612018755854L 0.997118773782788, 0.07585612018755854 L 0.9977977409844533, 0.06632999386643951 L 0.9983857009707863, 0.05679781771399012 \", \"type\": \"path\"}, {\"fillcolor\": \"#f2e6ce\", \"layer\": \"below\", \"line\": {\"color\": \"rgb(175,175,175)\", \"width\": 0.5}, \"path\": \"M 0.9998235681380859,0.018783838681863833 Q -0.19562994091606858, 0.04158035855034825 0.905752780963089, -0.4238064414064876L 0.905752780963089, -0.4238064414064876 L 0.9044158061402455, -0.426652141215405 L 0.9030698907067388, -0.42949362335070673 M 0.9030698907067388,-0.42949362335070673 Q -0.19564687492655294, 0.04150060639886791 0.9996649116680408, 0.02588560178416068L 0.9996649116680408, 0.02588560178416068 L 0.9997505458758921, 0.022334861111182196 L 0.9998235681380859, 0.018783838681863833 \", \"type\": \"path\"}, {\"fillcolor\": \"#f2e6ce\", \"layer\": \"below\", \"line\": {\"color\": \"rgb(175,175,175)\", \"width\": 0.5}, \"path\": \"M 0.9999810493675773,0.006156371148584149 Q -0.19781811726666332, 0.029461712120524293 0.9547882626122082, -0.29728668584038725L 0.9547882626122082, -0.29728668584038725 L 0.9544900660854609, -0.29824270945686576 L 0.9541909122984084, -0.29919843396503787 M 0.9541909122984084,-0.29919843396503787 Q -0.19782116686396295, 0.029441228584760726 0.9999650018513478, 0.008366305781763056L 0.9999650018513478, 0.008366305781763056 L 0.9999736361021292, 0.007261342898287067 L 0.9999810493675773, 0.006156371148584149 \", \"type\": \"path\"}, {\"fillcolor\": \"#f2e6ce\", \"layer\": \"below\", \"line\": {\"color\": \"rgb(175,175,175)\", \"width\": 0.5}, \"path\": \"M 0.9999996885159222,0.0007892832562452895 Q -0.1995906625848091, 0.012789347479714809 0.9917205830384146, -0.12841450532532148L 0.9917205830384146, -0.12841450532532148 L 0.9916350868400732, -0.12907305895375923 L 0.9915491533281977, -0.1297315556606577 M 0.9915491533281977,-0.1297315556606577 Q -0.1995922622870087, 0.012764358000069372 0.9999971966444641, 0.002367847801942837L 0.9999971966444641, 0.002367847801942837 L 0.9999987540638828, 0.0015785660207922447 L 0.9999996885159222, 0.0007892832562452895 \", \"type\": \"path\"}, {\"fillcolor\": \"#ecd5bb\", \"layer\": \"below\", \"line\": {\"color\": \"rgb(175,175,175)\", \"width\": 0.5}, \"path\": \"M 0.575332105805891,0.8179199031867113 Q 0.04194532506277879, 0.19555201278784584 -0.18927074080186645, 0.9819249394308674L -0.18927074080186645, 0.9819249394308674 L -0.12952818039163683, 0.9915757411738306 L -0.06931124743695946, 0.9975950836781087 M -0.06931124743695946,0.9975950836781087 Q 0.041656374912149255, 0.1956137685061521 0.46974581159506, 0.8828017175384846L 0.46974581159506, 0.8828017175384846 L 0.5235450083977228, 0.8519980188837462 L 0.575332105805891, 0.8179199031867113 \", \"type\": \"path\"}, {\"fillcolor\": \"#ecd5bb\", \"layer\": \"below\", \"line\": {\"color\": \"rgb(175,175,175)\", \"width\": 0.5}, \"path\": \"M 0.8584874615957577,0.512834552543871 Q 0.04967431318299558, 0.1937329672766039 -0.5058054645630345, 0.8626475711541607L -0.5058054645630345, 0.8626475711541607 L -0.48520579826830607, 0.8743999847477216 L -0.4643332204629429, 0.8856605785370104 M -0.4643332204629429,0.8856605785370104 Q 0.04944460668501941, 0.19379172033336134 0.8318918520283902, 0.5549377861785724L 0.8318918520283902, 0.5549377861785724 L 0.8454517884260083, 0.5340517516563953 L 0.8584874615957577, 0.512834552543871 \", \"type\": \"path\"}, {\"fillcolor\": \"#ecd5bb\", \"layer\": \"below\", \"line\": {\"color\": \"rgb(175,175,175)\", \"width\": 0.5}, \"path\": \"M 0.9286710050661765,0.3709045218777706 Q 0.05067649586671646, 0.19347323527214474 -0.6275971537509115, 0.7785382537831745L -0.6275971537509115, 0.7785382537831745 L -0.623327300736984, 0.7819610451652599 L -0.6190387808496208, 0.7853604190460677 M -0.6190387808496208,0.7853604190460677 Q 0.05038422260386384, 0.1935495546690932 0.9234007289602714, 0.383837327204689L 0.9234007289602714, 0.383837327204689 L 0.9260584438135313, 0.3773801248630626 L 0.9286710050661765, 0.3709045218777706 \", \"type\": \"path\"}, {\"fillcolor\": \"#ecd5bb\", \"layer\": \"below\", \"line\": {\"color\": \"rgb(175,175,175)\", \"width\": 0.5}, \"path\": \"M 0.8881128729247583,0.45962541808012775 Q 0.019689784443487984, 0.1990284210573178 -0.7808377367859354, 0.6247338863956543L -0.7808377367859354, 0.6247338863956543 L -0.773549048193697, 0.6337364357827514 L -0.7661565718473669, 0.6426539561965604 M -0.7661565718473669,0.6426539561965604 Q 0.01931607693796584, 0.1990650375423233 0.8754187285023862, 0.48336533780078333L 0.8754187285023862, 0.48336533780078333 L 0.8818456912947599, 0.4715380968117709 L 0.8881128729247583, 0.45962541808012775 \", \"type\": \"path\"}, {\"fillcolor\": \"#ecd5bb\", \"layer\": \"below\", \"line\": {\"color\": \"rgb(175,175,175)\", \"width\": 0.5}, \"path\": \"M 0.8754187285023862,0.48336533780078333 Q -0.007541264067375298, 0.19985777276920236 -0.9093553805962926, 0.41602018193901574L -0.9093553805962926, 0.41602018193901574 L -0.9027428600931336, 0.4301805766778283 L -0.8959098516818659, 0.4442359031633722 M -0.8959098516818659,0.4442359031633722 Q -0.007814224194752436, 0.19984728644701222 0.8584874615957577, 0.512834552543871L 0.8584874615957577, 0.512834552543871 L 0.8670782996186439, 0.498171880308836 L 0.8754187285023862, 0.48336533780078333 \", \"type\": \"path\"}, {\"fillcolor\": \"#ecd5bb\", \"layer\": \"below\", \"line\": {\"color\": \"rgb(175,175,175)\", \"width\": 0.5}, \"path\": \"M 0.9377939105926971,0.34719242684029894 Q -0.0026615809377655473, 0.19998228918309674 -0.946701732514763, 0.3221115174183408L -0.946701732514763, 0.3221115174183408 L -0.9454186806094668, 0.3258581261141958 L -0.9441208014204059, 0.32959962427965617 M -0.9441208014204059,0.32959962427965617 Q -0.0030641391683149215, 0.1999765262503507 0.9335793804918376, 0.3583706744705497L 0.9335793804918376, 0.3583706744705497 L 0.9357033381105154, 0.352787844247557 L 0.9377939105926971, 0.34719242684029894 \", \"type\": \"path\"}, {\"fillcolor\": \"#ecd5bb\", \"layer\": \"below\", \"line\": {\"color\": \"rgb(175,175,175)\", \"width\": 0.5}, \"path\": \"M 0.9417048951984766,0.33644002490670794 Q -0.013869491123574934, 0.1995185134667284 -0.9791976289469821, 0.20290885506701817L -0.9791976289469821, 0.20290885506701817 L -0.978323584751012, 0.20708202123779212 L -0.9774317553472834, 0.2112514228087664 M -0.9774317553472834,0.2112514228087664 Q -0.014160196084055396, 0.1994980923389021 0.9377939105926971, 0.34719242684029894L 0.9377939105926971, 0.34719242684029894 L 0.93976478109123, 0.3418218194038417 L 0.9417048951984766, 0.33644002490670794 \", \"type\": \"path\"}, {\"fillcolor\": \"#ecd5bb\", \"layer\": \"below\", \"line\": {\"color\": \"rgb(175,175,175)\", \"width\": 0.5}, \"path\": \"M 0.898101393159412,0.43978845778979164 Q -0.04007378857092526, 0.19594410292114633 -0.9986538010585576, 0.05187085531678495L -0.9986538010585576, 0.05187085531678495 L -0.9980847751972088, 0.06186098543942767 L -0.9974158146102995, 0.07184492163871149 M -0.9974158146102995,0.07184492163871149 Q -0.040289061354350786, 0.19589995287183037 0.8881128729247583, 0.45962541808012775L 0.8881128729247583, 0.45962541808012775 L 0.8931622066226508, 0.44973466917834704 L 0.898101393159412, 0.43978845778979164 \", \"type\": \"path\"}, {\"fillcolor\": \"#ecd5bb\", \"layer\": \"below\", \"line\": {\"color\": \"rgb(175,175,175)\", \"width\": 0.5}, \"path\": \"M 0.9075762647475849,0.4198872749522445 Q -0.06328765586089202, 0.18972262020021047 -0.9779006841937976, -0.20906996879825332L -0.9779006841937976, -0.20906996879825332 L -0.9799315689978115, -0.19933419195282895 L -0.9818655289233316, -0.18957869899360083 M -0.9818655289233316,-0.18957869899360083 Q -0.06349168831255694, 0.1896544371092359 0.898101393159412, 0.43978845778979164L 0.898101393159412, 0.43978845778979164 L 0.9028936622524868, 0.42986397227994383 L 0.9075762647475849, 0.4198872749522445 \", \"type\": \"path\"}, {\"fillcolor\": \"#ecd5bb\", \"layer\": \"below\", \"line\": {\"color\": \"rgb(175,175,175)\", \"width\": 0.5}, \"path\": \"M 0.9163409320712956,0.4003989213405915 Q -0.08153119561613893, 0.1826271177602135 -0.9098727736005201, -0.4148873773212396L -0.9098727736005201, -0.4148873773212396 L -0.9135124547558793, -0.40681076068104144 L -0.9170804443533563, -0.3987022179329461 M -0.9170804443533563,-0.3987022179329461 Q -0.08186446648528362, 0.18247796888139642 0.9075762647475849, 0.4198872749522445L 0.9075762647475849, 0.4198872749522445 L 0.9120106546496778, 0.41016650985357894 L 0.9163409320712956, 0.4003989213405915 \", \"type\": \"path\"}, {\"fillcolor\": \"#ecd5bb\", \"layer\": \"below\", \"line\": {\"color\": \"rgb(175,175,175)\", \"width\": 0.5}, \"path\": \"M 0.7128492993771451,0.7013172437474451 Q -0.1445756230775424, 0.13819511283594796 -0.6684500099825471, -0.7437570733474289L -0.6684500099825471, -0.7437570733474289 L -0.6978722659731378, -0.7162222423141563 L -0.7261612918076589, -0.6875243837713919 M -0.7261612918076589,-0.6875243837713919 Q -0.1448541657262328, 0.13790312060195406 0.6510129054686543, 0.7590666617058485L 0.6510129054686543, 0.7590666617058485 L 0.682542143219263, 0.730846237405417 L 0.7128492993771451, 0.7013172437474451 \", \"type\": \"path\"}, {\"fillcolor\": \"#ecd5bb\", \"layer\": \"below\", \"line\": {\"color\": \"rgb(175,175,175)\", \"width\": 0.5}, \"path\": \"M 0.6510129054686543,0.7590666617058485 Q -0.18092413732487506, 0.0852435131446948 -0.17085436293088446, -0.9852962938464154L -0.17085436293088446, -0.9852962938464154 L -0.21684097747887113, -0.97620694040045 L -0.26235110890175917, -0.9649724844046162 M -0.26235110890175917,-0.9649724844046162 Q -0.18101553442050794, 0.08504925807117845 0.575332105805891, 0.8179199031867113L 0.575332105805891, 0.8179199031867113 L 0.6138782026409574, 0.7894007552075863 L 0.6510129054686543, 0.7590666617058485 \", \"type\": \"path\"}, {\"fillcolor\": \"#ecd5bb\", \"layer\": \"below\", \"line\": {\"color\": \"rgb(175,175,175)\", \"width\": 0.5}, \"path\": \"M 0.9448331626148926,0.3275519727053097 Q -0.1569098027097111, 0.12401336143174065 -0.10040137470608178, -0.9949470156531598L -0.10040137470608178, -0.9949470156531598 L -0.10352590451772642, -0.9946267576803807 L -0.10664941302026418, -0.9942966874642765 M -0.10664941302026418,-0.9942966874642765 Q -0.15710435563560368, 0.12376680265855527 0.9417048951984766, 0.33644002490670794L 0.9417048951984766, 0.33644002490670794 L 0.9432794974250969, 0.331999683339392 L 0.9448331626148926, 0.3275519727053097 \", \"type\": \"path\"}, {\"fillcolor\": \"#ecd5bb\", \"layer\": \"below\", \"line\": {\"color\": \"rgb(175,175,175)\", \"width\": 0.5}, \"path\": \"M 0.46974581159506,0.8828017175384846 Q -0.199705807823932, -0.010843907109097953 0.5625733163779534, -0.82674740017705L 0.5625733163779534, -0.82674740017705 L 0.5072607371979713, -0.8617926342789028 L 0.4497732015948424, -0.8931428033226967 M 0.4497732015948424,-0.8931428033226967 Q -0.19969704217197606, -0.011004151387727012 0.34891611094733677, 0.9371539614819893L 0.34891611094733677, 0.9371539614819893 L 0.41023210193819165, 0.9119811525132376 L 0.46974581159506, 0.8828017175384846 \", \"type\": \"path\"}, {\"fillcolor\": \"#ecd5bb\", \"layer\": \"below\", \"line\": {\"color\": \"rgb(175,175,175)\", \"width\": 0.5}, \"path\": \"M 0.7693676671806468,0.6388062246855533 Q -0.1990464323859467, -0.0195068642899558 0.878746702281943, -0.4772884172370101L 0.878746702281943, -0.4772884172370101 L 0.8585628609352848, -0.5127083126131455 L 0.8369521255127816, -0.5472761091073107 M 0.8369521255127816,-0.5472761091073107 Q -0.19901934120541975, -0.01978135046352294 0.7128492993771451, 0.7013172437474451L 0.7128492993771451, 0.7013172437474451 L 0.7417672754065014, 0.6706573708951654 L 0.7693676671806468, 0.6388062246855533 \", \"type\": \"path\"}, {\"fillcolor\": \"#ecd5bb\", \"layer\": \"below\", \"line\": {\"color\": \"rgb(175,175,175)\", \"width\": 0.5}, \"path\": \"M 0.8028320563129105,0.596205240966887 Q -0.19775753255004483, -0.029865671258452645 0.9430916404185398, -0.33253294238716824L 0.9430916404185398, -0.33253294238716824 L 0.9353722935048123, -0.35366463287067196 L 0.9271795203830943, -0.3746173207183236 M 0.9271795203830943,-0.3746173207183236 Q -0.19761830993127644, -0.030773423272459785 0.7693676671806468, 0.6388062246855533L 0.7693676671806468, 0.6388062246855533 L 0.7863883923302493, 0.6177323825154757 L 0.8028320563129105, 0.596205240966887 \", \"type\": \"path\"}, {\"fillcolor\": \"#ecd5bb\", \"layer\": \"below\", \"line\": {\"color\": \"rgb(175,175,175)\", \"width\": 0.5}, \"path\": \"M 0.9234007289602714,0.383837327204689 Q -0.19929065459358153, -0.016829586794148765 0.9746928828918391, -0.2235481693953133L 0.9746928828918391, -0.2235481693953133 L 0.9729533252397237, -0.2310017898306516 L 0.9711567695315114, -0.23844187759938226 M 0.9711567695315114,-0.23844187759938226 Q -0.19926778816321877, -0.017098204599856875 0.9163409320712956, 0.4003989213405915L 0.9163409320712956, 0.4003989213405915 L 0.9199081021677534, 0.39213401225361993 L 0.9234007289602714, 0.383837327204689 \", \"type\": \"path\"}, {\"fillcolor\": \"#ecd5bb\", \"layer\": \"below\", \"line\": {\"color\": \"rgb(175,175,175)\", \"width\": 0.5}, \"path\": \"M 0.9335793804918376,0.3583706744705497 Q -0.19792106651193475, -0.028761978909287556 0.9969672092609831, -0.07782277082170133L 0.9969672092609831, -0.07782277082170133 L 0.9965396974750247, -0.0831181770516314 L 0.9960840592595009, -0.08841123734636354 M 0.9960840592595009,-0.08841123734636354 Q -0.19788009056797468, -0.02904255079723791 0.9286710050661765, 0.3709045218777706L 0.9286710050661765, 0.3709045218777706 L 0.931146282256687, 0.364645857016846 L 0.9335793804918376, 0.3583706744705497 \", \"type\": \"path\"}, {\"fillcolor\": \"#e6c4a9\", \"layer\": \"below\", \"line\": {\"color\": \"rgb(175,175,175)\", \"width\": 0.5}, \"path\": \"M 0.04427993208015384,0.9990191627866689 Q -0.05303974721123938, 0.19283875444465987 -0.548955817538775, 0.8358513685999055L -0.548955817538775, 0.8358513685999055 L -0.5275508029309549, 0.8495234842703907 L -0.5058054645630345, 0.8626475711541607 M -0.5058054645630345,0.8626475711541607 Q -0.05316202709372417, 0.19280508000383742 -0.007772884373566077, 0.999969790677956L -0.007772884373566077, 0.999969790677956 L 0.018259711290425595, 0.9998332775736114 L 0.04427993208015384, 0.9990191627866689 \", \"type\": \"path\"}, {\"fillcolor\": \"#e6c4a9\", \"layer\": \"below\", \"line\": {\"color\": \"rgb(175,175,175)\", \"width\": 0.5}, \"path\": \"M 0.29523721399841146,0.9554239830936087 Q -0.03657445426959238, 0.19662733608245192 -0.6190387808496208, 0.7853604190460677L -0.6190387808496208, 0.7853604190460677 L -0.6156153944773609, 0.788046753741479 L -0.6121803508314756, 0.7907181660085036 M -0.6121803508314756,0.7907181660085036 Q -0.03678457134304965, 0.19658813624201255 0.2848627702689655, 0.9585683085282397L 0.2848627702689655, 0.9585683085282397 L 0.2900542529120415, 0.9570102038994346 L 0.29523721399841146, 0.9554239830936087 \", \"type\": \"path\"}, {\"fillcolor\": \"#e6c4a9\", \"layer\": \"below\", \"line\": {\"color\": \"rgb(175,175,175)\", \"width\": 0.5}, \"path\": \"M 0.235547021928718,0.9718629535384667 Q -0.059050455179809086, 0.19108386573192768 -0.7427850325346018, 0.6695299809885816L -0.7427850325346018, 0.6695299809885816 L -0.7382604322084892, 0.6745157776029665 L -0.7337023664070578, 0.6794709982984436 M -0.7337023664070578,0.6794709982984436 Q -0.05922333554342886, 0.19103035498870446 0.22067463322500486, 0.9753474797481201L 0.22067463322500486, 0.9753474797481201 L 0.22811748100162577, 0.9736336142828436 L 0.235547021928718, 0.9718629535384667 \", \"type\": \"path\"}, {\"fillcolor\": \"#e6c4a9\", \"layer\": \"below\", \"line\": {\"color\": \"rgb(175,175,175)\", \"width\": 0.5}, \"path\": \"M 0.1830338052286139,0.983106619926615 Q -0.08670925880758673, 0.18022625901083045 -0.8823912458938852, 0.4705164069082364L -0.8823912458938852, 0.4705164069082364 L -0.8757906852159814, 0.4826910768689658 L -0.8690221566513917, 0.4947731715129307 M -0.8690221566513917,0.4947731715129307 Q -0.08686268533692589, 0.18015236300436974 0.15405472417833582, 0.9880623168395488L 0.15405472417833582, 0.9880623168395488 L 0.16856247772683036, 0.9856909714015807 L 0.1830338052286139, 0.983106619926615 \", \"type\": \"path\"}, {\"fillcolor\": \"#e6c4a9\", \"layer\": \"below\", \"line\": {\"color\": \"rgb(175,175,175)\", \"width\": 0.5}, \"path\": \"M 0.27350705841216516,0.9618699958927529 Q -0.09361994574531743, 0.17673512881893014 -0.9493986049973595, 0.31407369967742865L -0.9493986049973595, 0.31407369967742865 L -0.9480586870584042, 0.3180954666339884 L -0.946701732514763, 0.3221115174183408 M -0.946701732514763,0.3221115174183408 Q -0.09397365394858322, 0.17654730913710334 0.26147900818814784, 0.9652091629677697L 0.26147900818814784, 0.9652091629677697 L 0.26749824368265923, 0.9635583478060333 L 0.27350705841216516, 0.9618699958927529 \", \"type\": \"path\"}, {\"fillcolor\": \"#e6c4a9\", \"layer\": \"below\", \"line\": {\"color\": \"rgb(175,175,175)\", \"width\": 0.5}, \"path\": \"M 0.3149456043710375,0.9491097229969577 Q -0.09595518932613106, 0.17547820845160902 -0.9690117200775947, 0.24701474926056777L -0.9690117200775947, 0.24701474926056777 L -0.9683891427555927, 0.24944431882303564 L -0.9677604738680871, 0.2518723192782716 M -0.9677604738680871,0.2518723192782716 Q -0.09609149608471741, 0.17540360423948176 0.30870318577001726, 0.9511584216603679L 0.30870318577001726, 0.9511584216603679 L 0.31182607756993924, 0.9501391989321071 L 0.3149456043710375, 0.9491097229969577 \", \"type\": \"path\"}, {\"fillcolor\": \"#e6c4a9\", \"layer\": \"below\", \"line\": {\"color\": \"rgb(175,175,175)\", \"width\": 0.5}, \"path\": \"M 0.26147900818814784,0.9652091629677697 Q -0.11234554288344707, 0.16546443422749058 -0.9935887760923715, 0.11305460637790563L -0.9935887760923715, 0.11305460637790563 L -0.9929029360937875, 0.11892753884755256 L -0.9921823825084132, 0.12479631340680215 M -0.9921823825084132,0.12479631340680215 Q -0.11242708898183856, 0.1654090374286416 0.24909208030167207, 0.9684798064652589L 0.24909208030167207, 0.9684798064652589 L 0.2552907820067967, 0.966864321723766 L 0.26147900818814784, 0.9652091629677697 \", \"type\": \"path\"}, {\"fillcolor\": \"#e6c4a9\", \"layer\": \"below\", \"line\": {\"color\": \"rgb(175,175,175)\", \"width\": 0.5}, \"path\": \"M 0.2848627702689655,0.9585683085282397 Q -0.130767673777622, 0.1513268498806125 -0.9897415976289915, -0.14286906566087523L -0.9897415976289915, -0.14286906566087523 L -0.990507753458765, -0.13745686719138636 L -0.9912443140192718, -0.1320405616636918 M -0.9912443140192718,-0.1320405616636918 Q -0.1308352810223555, 0.15126840132625607 0.27350705841216516, 0.9618699958927529L 0.27350705841216516, 0.9618699958927529 L 0.2791897950860883, 0.9602359388815792 L 0.2848627702689655, 0.9585683085282397 \", \"type\": \"path\"}, {\"fillcolor\": \"#e6c4a9\", \"layer\": \"below\", \"line\": {\"color\": \"rgb(175,175,175)\", \"width\": 0.5}, \"path\": \"M 0.24909208030167207,0.9684798064652589 Q -0.1504582962438099, 0.13176608475404414 -0.9271686697098763, -0.3746441750627098L -0.9271686697098763, -0.3746441750627098 L -0.9293736858665413, -0.36914028772113094 L -0.9315460300101281, -0.36362342329994296 M -0.9315460300101281,-0.36362342329994296 Q -0.15059676231484165, 0.13160780820409973 0.235547021928718, 0.9718629535384667L 0.235547021928718, 0.9718629535384667 L 0.24232545527389265, 0.9701950183990333 L 0.24909208030167207, 0.9684798064652589 \", \"type\": \"path\"}, {\"fillcolor\": \"#e6c4a9\", \"layer\": \"below\", \"line\": {\"color\": \"rgb(175,175,175)\", \"width\": 0.5}, \"path\": \"M 0.20205236321615674,0.9793747201754629 Q -0.16571766606972313, 0.1119716712048353 -0.8332591715597107, -0.5528825851947451L -0.8332591715597107, -0.5528825851947451 L -0.8384487953735275, -0.5449803827081124 L -0.8435634811498056, -0.537029471510104 M -0.8435634811498056,-0.537029471510104 Q -0.16574417604432015, 0.11193242652327971 0.1830338052286139, 0.983106619926615L 0.1830338052286139, 0.983106619926615 L 0.19255212554216763, 0.9812867465472024 L 0.20205236321615674, 0.9793747201754629 \", \"type\": \"path\"}, {\"fillcolor\": \"#e6c4a9\", \"layer\": \"below\", \"line\": {\"color\": \"rgb(175,175,175)\", \"width\": 0.5}, \"path\": \"M 0.08476243634745904,0.9964011889718132 Q -0.19234548184288766, 0.054801602299817634 -0.4531108626073006, -0.8914541750349638L -0.4531108626073006, -0.8914541750349638 L -0.4711259351860281, -0.8820659573949617 L -0.4889465828210443, -0.8723137274786082 M -0.4889465828210443,-0.8723137274786082 Q -0.19234383838505764, 0.05480737026443461 0.04427993208015384, 0.9990191627866689L 0.04427993208015384, 0.9990191627866689 L 0.0645344610194876, 0.9979154790566805 L 0.08476243634745904, 0.9964011889718132 \", \"type\": \"path\"}, {\"fillcolor\": \"#e6c4a9\", \"layer\": \"below\", \"line\": {\"color\": \"rgb(175,175,175)\", \"width\": 0.5}, \"path\": \"M 0.30213430987726425,0.9532653664090547 Q -0.1956118363768117, 0.04166544694697815 -0.11255886270932292, -0.9936450585725185L -0.11255886270932292, -0.9936450585725185 L -0.11501068529191406, -0.9933642545756739 L -0.1174618074266697, -0.993077400707548 M -0.1174618074266697,-0.993077400707548 Q -0.19565944234451785, 0.041441315392157806 0.29523721399841146, 0.9554239830936087L 0.29523721399841146, 0.9554239830936087 L 0.29868771198508404, 0.9543509054373635 L 0.30213430987726425, 0.9532653664090547 \", \"type\": \"path\"}, {\"fillcolor\": \"#e6c4a9\", \"layer\": \"below\", \"line\": {\"color\": \"rgb(175,175,175)\", \"width\": 0.5}, \"path\": \"M -0.007772884373566077,0.999969790677956 Q -0.1976040066640056, -0.03086513486657122 0.29754186343506595, -0.9547087720889489L 0.29754186343506595, -0.9547087720889489 L 0.267646955619197, -0.9635170507820687 L 0.23749208464738186, -0.9713894737590277 M 0.23749208464738186,-0.9713894737590277 Q -0.19761540884836673, -0.03079204744236504 -0.06931124743695946, 0.9975950836781087L -0.06931124743695946, 0.9975950836781087 L -0.0385603507839257, 0.999256273108866 L -0.007772884373566077, 0.999969790677956 \", \"type\": \"path\"}, {\"fillcolor\": \"#e6c4a9\", \"layer\": \"below\", \"line\": {\"color\": \"rgb(175,175,175)\", \"width\": 0.5}, \"path\": \"M 0.12282367997592172,0.9924285080735903 Q -0.18640139081325047, -0.07248807835006991 0.7610333736979222, -0.6487127285000339L 0.7610333736979222, -0.6487127285000339 L 0.7485971606592005, -0.6630251058994548 L 0.7358918242900139, -0.6770991234251564 M 0.7358918242900139,-0.6770991234251564 Q -0.18638875264068896, -0.07252056873086471 0.08476243634745904, 0.9964011889718132L 0.08476243634745904, 0.9964011889718132 L 0.10381206322453977, 0.9945969311882398 L 0.12282367997592172, 0.9924285080735903 \", \"type\": \"path\"}, {\"fillcolor\": \"#e6c4a9\", \"layer\": \"below\", \"line\": {\"color\": \"rgb(175,175,175)\", \"width\": 0.5}, \"path\": \"M 0.22067463322500486,0.9753474797481201 Q -0.1771997212315463, -0.09273758027607948 0.9271795203830943, -0.3746173207183236L 0.9271795203830943, -0.3746173207183236 L 0.9241128826671974, -0.38211958872651736 L 0.9209855415542867, -0.38959675595153165 M 0.9209855415542867,-0.38959675595153165 Q -0.1770676999907242, -0.09298940595570494 0.20205236321615674, 0.9793747201754629L 0.20205236321615674, 0.9793747201754629 L 0.2113730896930978, 0.9774054516696711 L 0.22067463322500486, 0.9753474797481201 \", \"type\": \"path\"}, {\"fillcolor\": \"#e6c4a9\", \"layer\": \"below\", \"line\": {\"color\": \"rgb(175,175,175)\", \"width\": 0.5}, \"path\": \"M 0.3193072246059364,0.9476512524734265 Q -0.17776226569208528, -0.09165466107087239 0.9571807633812308, -0.28949090868786237L 0.9571807633812308, -0.28949090868786237 L 0.9565990224225377, -0.2914074643866305 L 0.9560134439632767, -0.293322851072798 M 0.9560134439632767,-0.293322851072798 Q -0.17773507261237062, -0.09170738227359532 0.3149456043710375, 0.9491097229969577L 0.3149456043710375, 0.9491097229969577 L 0.31712725292915245, 0.9483829951288716 L 0.3193072246059364, 0.9476512524734265 \", \"type\": \"path\"}, {\"fillcolor\": \"#e6c4a9\", \"layer\": \"below\", \"line\": {\"color\": \"rgb(175,175,175)\", \"width\": 0.5}, \"path\": \"M 0.30870318577001726,0.9511584216603679 Q -0.16765157118527585, -0.1090548058505832 0.9946450343680456, -0.10335016016915159L 0.9946450343680456, -0.10335016016915159 L 0.9943529081967106, -0.10612395564029813 L 0.9940530466766626, -0.10889692554358348 M 0.9940530466766626,-0.10889692554358348 Q -0.16757954522364413, -0.10916545251423007 0.30213430987726425, 0.9532653664090547L 0.30213430987726425, 0.9532653664090547 L 0.3054205646746861, 0.952217558477996 L 0.30870318577001726, 0.9511584216603679 \", \"type\": \"path\"}, {\"fillcolor\": \"#e1b396\", \"layer\": \"below\", \"line\": {\"color\": \"rgb(175,175,175)\", \"width\": 0.5}, \"path\": \"M -0.2957086800142697,0.9552781671137566 Q -0.0952847619997495, 0.17584315207209833 -0.6388235660526387, 0.7693532683077327L -0.6388235660526387, 0.7693532683077327 L -0.6332270136976798, 0.7739661162631853 L -0.6275971537509115, 0.7785382537831745 M -0.6275971537509115,0.7785382537831745 Q -0.09555916003053704, 0.17569418582940705 -0.31250096924044984, 0.9499174407409201L -0.31250096924044984, 0.9499174407409201 L -0.30411663668475664, 0.9526348047869927 L -0.2957086800142697, 0.9552781671137566 \", \"type\": \"path\"}, {\"fillcolor\": \"#e1b396\", \"layer\": \"below\", \"line\": {\"color\": \"rgb(175,175,175)\", \"width\": 0.5}, \"path\": \"M -0.31250096924044984,0.9499174407409201 Q -0.11058125002774206, 0.16664869379116656 -0.753829869810515, 0.6570696518493773L -0.753829869810515, 0.6570696518493773 L -0.7483333858855526, 0.6633228049517554 L -0.7427850325346018, 0.6695299809885816 M -0.7427850325346018,0.6695299809885816 Q -0.11072933329519273, 0.1665503369795514 -0.32995263964133853, 0.9439974870695965L -0.32995263964133853, 0.9439974870695965 L -0.32124044165418536, 0.9469976655968186 L -0.31250096924044984, 0.9499174407409201 \", \"type\": \"path\"}, {\"fillcolor\": \"#e1b396\", \"layer\": \"below\", \"line\": {\"color\": \"rgb(175,175,175)\", \"width\": 0.5}, \"path\": \"M -0.432249377604789,0.9017541103650554 Q -0.14509018895845635, 0.1376547749553187 -0.9232259910230088, 0.3842574260825459L -0.9232259910230088, 0.3842574260825459 L -0.916428305469893, 0.40019890171461053 L -0.9093553805962926, 0.41602018193901574 M -0.9093553805962926,0.41602018193901574 Q -0.14517515196468025, 0.13756516729184026 -0.4643332204629429, 0.8856605785370104L -0.4643332204629429, 0.8856605785370104 L -0.4483635123771181, 0.8938513079751318 L -0.432249377604789, 0.9017541103650554 \", \"type\": \"path\"}, {\"fillcolor\": \"#e1b396\", \"layer\": \"below\", \"line\": {\"color\": \"rgb(175,175,175)\", \"width\": 0.5}, \"path\": \"M -0.2200203548220162,0.9754952811080093 Q -0.1316853505722905, 0.15052896214567135 -0.9375844090764391, 0.34775778331589424L -0.9375844090764391, 0.34775778331589424 L -0.9373125634040214, 0.3484898255114237 L -0.9370401461716695, 0.3492216552027898 M -0.9370401461716695,0.3492216552027898 Q -0.1317366519056601, 0.15048406741142714 -0.22220831467961355, 0.9749992127623723L -0.22220831467961355, 0.9749992127623723 L -0.22111447386647104, 0.9752478605189318 L -0.2200203548220162, 0.9754952811080093 \", \"type\": \"path\"}, {\"fillcolor\": \"#e1b396\", \"layer\": \"below\", \"line\": {\"color\": \"rgb(175,175,175)\", \"width\": 0.5}, \"path\": \"M -0.24340291563699387,0.9699252655021471 Q -0.14324748671728582, 0.13957133498387492 -0.975924132440928, 0.21811026504825937L -0.975924132440928, 0.21811026504825937 L -0.9751661565158888, 0.22147452942952384 L -0.9743965831325112, 0.2248361598579891 M -0.9743965831325112,0.2248361598579891 Q -0.14338116688995192, 0.13943400224219257 -0.2519419975968892, 0.9677423364960784L -0.2519419975968892, 0.9677423364960784 L -0.2476748615855718, 0.968843208645531 L -0.24340291563699387, 0.9699252655021471 \", \"type\": \"path\"}, {\"fillcolor\": \"#e1b396\", \"layer\": \"below\", \"line\": {\"color\": \"rgb(175,175,175)\", \"width\": 0.5}, \"path\": \"M -0.2519419975968892,0.9677423364960784 Q -0.15027985463841884, 0.1319695619825106 -0.9921823825084132, 0.12479631340680215L -0.9921823825084132, 0.12479631340680215 L -0.9916338858245348, 0.1290822857116091 L -0.991066874932205, 0.13336584799757822 M -0.991066874932205,0.13336584799757822 Q -0.15031233805269595, 0.13193256242918977 -0.26077093157123143, 0.9654007050170784L -0.26077093157123143, 0.9654007050170784 L -0.2563591382095331, 0.9665816014473199 L -0.2519419975968892, 0.9677423364960784 \", \"type\": \"path\"}, {\"fillcolor\": \"#e1b396\", \"layer\": \"below\", \"line\": {\"color\": \"rgb(175,175,175)\", \"width\": 0.5}, \"path\": \"M -0.2348449258709263,0.9720328496469032 Q -0.16385207898766962, 0.11468433289433427 -0.9936914859864368, -0.11214825312089001L -0.9936914859864368, -0.11214825312089001 L -0.9941511018875563, -0.10799808616710613 L -0.9945933846324687, -0.10384603625237793 M -0.9945933846324687,-0.10384603625237793 Q -0.16387860287275102, 0.1146464282935808 -0.24340291563699387, 0.9699252655021471L -0.24340291563699387, 0.9699252655021471 L -0.23912624271392297, 0.970988486051983 L -0.2348449258709263, 0.9720328496469032 \", \"type\": \"path\"}, {\"fillcolor\": \"#e1b396\", \"layer\": \"below\", \"line\": {\"color\": \"rgb(175,175,175)\", \"width\": 0.5}, \"path\": \"M -0.27142940970263973,0.9624583500331204 Q -0.17904308917459755, 0.08912672000481736 -0.9315460300101281, -0.36362342329994296L -0.9315460300101281, -0.36362342329994296 L -0.933535671313983, -0.3584845190302522 L -0.9354969639311346, -0.353334728657727 M -0.9354969639311346,-0.353334728657727 Q -0.17911604322583727, 0.08898001494223298 -0.2835917699063659, 0.9589451016827683L -0.2835917699063659, 0.9589451016827683 L -0.2775161494078062, 0.9607209724045084 L -0.27142940970263973, 0.9624583500331204 \", \"type\": \"path\"}, {\"fillcolor\": \"#e1b396\", \"layer\": \"below\", \"line\": {\"color\": \"rgb(175,175,175)\", \"width\": 0.5}, \"path\": \"M -0.2835917699063659,0.9589451016827683 Q -0.1862246294944243, 0.07294098552709853 -0.8594379948841323, -0.511239995451786L -0.8594379948841323, -0.511239995451786 L -0.8626565788696234, -0.5057901016557729 L -0.8658406042931809, -0.5003199455920374 M -0.8658406042931809,-0.5003199455920374 Q -0.1862246655410561, 0.07294089349687048 -0.2957086800142697, 0.9552781671137566L -0.2957086800142697, 0.9552781671137566 L -0.2896560277671536, 0.9571308090215015 L -0.2835917699063659, 0.9589451016827683 \", \"type\": \"path\"}, {\"fillcolor\": \"#e1b396\", \"layer\": \"below\", \"line\": {\"color\": \"rgb(175,175,175)\", \"width\": 0.5}, \"path\": \"M -0.35134641706199565,0.936245531480764 Q -0.19913338144413278, 0.01859829009950968 -0.5186411014641737, -0.8549920513502033L -0.5186411014641737, -0.8549920513502033 L -0.5294285207403411, -0.8483545493640582 L -0.5401310065269357, -0.8415809502289125 M -0.5401310065269357,-0.8415809502289125 Q -0.1991272933689494, 0.018663360778712033 -0.374342136287419, 0.9272906583158117L -0.374342136287419, 0.9272906583158117 L -0.36287190102561206, 0.9318390330127079 L -0.35134641706199565, 0.936245531480764 \", \"type\": \"path\"}, {\"fillcolor\": \"#e1b396\", \"layer\": \"below\", \"line\": {\"color\": \"rgb(175,175,175)\", \"width\": 0.5}, \"path\": \"M -0.22486361841681152,0.9743902468274703 Q -0.19975681695621403, -0.009859720052902697 -0.1278152879627023, -0.991797989594157L -0.1278152879627023, -0.991797989594157 L -0.1292058490940563, -0.9916177935877734 L -0.130596156189803, -0.9914356479310438 M -0.130596156189803,-0.9914356479310438 Q -0.19975085589280453, -0.009979758017709561 -0.22876543964753798, 0.9734815733350419L -0.22876543964753798, 0.9734815733350419 L -0.22681498407725656, 0.9739378640334474 L -0.22486361841681152, 0.9743902468274703 \", \"type\": \"path\"}, {\"fillcolor\": \"#e1b396\", \"layer\": \"below\", \"line\": {\"color\": \"rgb(175,175,175)\", \"width\": 0.5}, \"path\": \"M -0.4001961468407746,0.9164295085023164 Q -0.19192115610158458, -0.056269617384794836 0.15800153786862048, -0.987438865971535L 0.15800153786862048, -0.987438865971535 L 0.13992127986820987, -0.9901626308036686 L 0.12179424413769946, -0.9925553697879662 M 0.12179424413769946,-0.9925553697879662 Q -0.19195808908440612, -0.05614349503783327 -0.432249377604789, 0.9017541103650554L -0.432249377604789, 0.9017541103650554 L -0.41628743629850795, 0.9092330671395622 L -0.4001961468407746, 0.9164295085023164 \", \"type\": \"path\"}, {\"fillcolor\": \"#e1b396\", \"layer\": \"below\", \"line\": {\"color\": \"rgb(175,175,175)\", \"width\": 0.5}, \"path\": \"M -0.32995263964133853,0.9439974870695965 Q -0.1716051044741589, -0.1027214102240279 0.6761418782177756, -0.7367714438821165L 0.6761418782177756, -0.7367714438821165 L 0.6675831281651076, -0.7445352691372582 L 0.658935236281379, -0.7521996772046656 M 0.658935236281379,-0.7521996772046656 Q -0.17162336975020506, -0.10269089032423669 -0.35134641706199565, 0.936245531480764L -0.35134641706199565, 0.936245531480764 L -0.34067157845948365, 0.9401823629647197 L -0.32995263964133853, 0.9439974870695965 \", \"type\": \"path\"}, {\"fillcolor\": \"#e1b396\", \"layer\": \"below\", \"line\": {\"color\": \"rgb(175,175,175)\", \"width\": 0.5}, \"path\": \"M -0.22876543964753798,0.9734815733350419 Q -0.15566071743486423, -0.1255776295669868 0.9030698907067388, -0.42949362335070673L 0.9030698907067388, -0.42949362335070673 L 0.9018962089854561, -0.4319528078594496 L 0.9007158305790913, -0.434408785067956 M 0.9007158305790913,-0.434408785067956 Q -0.1556104795184526, -0.12563987688642983 -0.2348449258709263, 0.9720328496469032L -0.2348449258709263, 0.9720328496469032 L -0.2318063145259898, 0.9727619608855385 L -0.22876543964753798, 0.9734815733350419 \", \"type\": \"path\"}, {\"fillcolor\": \"#e1b396\", \"layer\": \"below\", \"line\": {\"color\": \"rgb(175,175,175)\", \"width\": 0.5}, \"path\": \"M -0.26077093157123143,0.9654007050170784 Q -0.14051629328905055, -0.1423206637150963 0.9686491905151802, -0.24843257780389075L 0.9686491905151802, -0.24843257780389075 L 0.9674112034350694, -0.25321051215996326 L 0.9661496489906677, -0.2579822779867051 M 0.9661496489906677,-0.2579822779867051 Q -0.14043188873606458, -0.14240394877257298 -0.27142940970263973, 0.9624583500331204L -0.27142940970263973, 0.9624583500331204 L -0.26610423742627454, 0.963944259189182 L -0.26077093157123143, 0.9654007050170784 \", \"type\": \"path\"}, {\"fillcolor\": \"#e1b396\", \"layer\": \"below\", \"line\": {\"color\": \"rgb(175,175,175)\", \"width\": 0.5}, \"path\": \"M -0.22220831467961355,0.9749992127623723 Q -0.13406143020839534, -0.14841675421083547 0.9925028644892262, -0.12222137284730851L 0.9925028644892262, -0.12222137284730851 L 0.9923642519004479, -0.12334176725693696 L 0.9922243745463254, -0.12446200446784285 M 0.9922243745463254,-0.12446200446784285 Q -0.13402681822025161, -0.14844801109397063 -0.22486361841681152, 0.9743902468274703L -0.22486361841681152, 0.9743902468274703 L -0.22353617391939287, 0.9746956340055489 L -0.22220831467961355, 0.9749992127623723 \", \"type\": \"path\"}, {\"fillcolor\": \"#dba284\", \"layer\": \"below\", \"line\": {\"color\": \"rgb(175,175,175)\", \"width\": 0.5}, \"path\": \"M -0.6388235660526387,0.7693532683077327 Q -0.1410681361464368, 0.14177369630566303 -0.7661565718473669, 0.6426539561965604L -0.7661565718473669, 0.6426539561965604 L -0.76002740001676, 0.6498910302687397 L -0.753829869810515, 0.6570696518493773 M -0.753829869810515,0.6570696518493773 Q -0.1409480542263077, 0.14189307949938157 -0.6520176638649963, 0.7582037760444303L -0.6520176638649963, 0.7582037760444303 L -0.645444690123213, 0.7638070122692967 L -0.6388235660526387, 0.7693532683077327 \", \"type\": \"path\"}, {\"fillcolor\": \"#dba284\", \"layer\": \"below\", \"line\": {\"color\": \"rgb(175,175,175)\", \"width\": 0.5}, \"path\": \"M -0.588134122237129,0.8087634105598261 Q -0.14334992206846214, 0.13946612435629605 -0.8246085958240802, 0.5657036889512378L -0.8246085958240802, 0.5657036889512378 L -0.8223700363780552, 0.5689530062031102 L -0.8201186732794163, 0.5721934653055817 M -0.8201186732794163,0.5721934653055817 Q -0.14326855767584298, 0.13954970577354742 -0.5935598161773094, 0.8047898760667649L -0.5935598161773094, 0.8047898760667649 L -0.5908503095247126, 0.8067812043761006 L -0.588134122237129, 0.8087634105598261 \", \"type\": \"path\"}, {\"fillcolor\": \"#dba284\", \"layer\": \"below\", \"line\": {\"color\": \"rgb(175,175,175)\", \"width\": 0.5}, \"path\": \"M -0.5751554300379977,0.8180441499685734 Q -0.15798564738442636, 0.12263985983571452 -0.9351172358646991, 0.35433847545639846L -0.9351172358646991, 0.35433847545639846 L -0.9350579302117574, 0.35449494657625824 L -0.9349985983768462, 0.3546514077701273 M -0.9349985983768462,0.3546514077701273 Q -0.15798938349364042, 0.12263504679861881 -0.5754789996647081, 0.8178165570254169L -0.5754789996647081, 0.8178165570254169 L -0.5753172261056977, 0.8179303694973341 L -0.5751554300379977, 0.8180441499685734 \", \"type\": \"path\"}, {\"fillcolor\": \"#dba284\", \"layer\": \"below\", \"line\": {\"color\": \"rgb(175,175,175)\", \"width\": 0.5}, \"path\": \"M -0.5935598161773094,0.8047898760667649 Q -0.16793756022097048, 0.10861388431976789 -0.9774317553472834, 0.2112514228087664L -0.9774317553472834, 0.2112514228087664 L -0.9766839647595503, 0.21468216735808626 L -0.975924132440928, 0.21811026504825937 M -0.975924132440928,0.21811026504825937 Q -0.167957208720516, 0.10858349800413059 -0.5994865098784283, 0.8003848602227437L -0.5994865098784283, 0.8003848602227437 L -0.5965272291102225, 0.8025928388230735 L -0.5935598161773094, 0.8047898760667649 \", \"type\": \"path\"}, {\"fillcolor\": \"#dba284\", \"layer\": \"below\", \"line\": {\"color\": \"rgb(175,175,175)\", \"width\": 0.5}, \"path\": \"M -0.5763414115714087,0.8172090169031886 Q -0.16975465907138926, 0.10575138639070603 -0.9875881154485855, 0.15706595501480033L -0.9875881154485855, 0.15706595501480033 L -0.9874448287490744, 0.15796426867083363 L -0.9873007249404456, 0.1588624516116711 M -0.9873007249404456,0.1588624516116711 Q -0.16974212863094537, 0.105771497899177 -0.5776338265313015, 0.8162960017339337L -0.5776338265313015, 0.8162960017339337 L -0.5769877996437416, 0.8167527649553894 L -0.5763414115714087, 0.8172090169031886 \", \"type\": \"path\"}, {\"fillcolor\": \"#dba284\", \"layer\": \"below\", \"line\": {\"color\": \"rgb(175,175,175)\", \"width\": 0.5}, \"path\": \"M -0.5812878036733816,0.8136980332411872 Q -0.18176924716479434, 0.08342625956582203 -0.995960578562681, -0.08979156947670361L -0.995960578562681, -0.08979156947670361 L -0.9961158484457968, -0.08805235076424908 L -0.9962680811811873, -0.08631286358101653 M -0.9962680811811873,-0.08631286358101653 Q -0.18175008049196342, 0.08346800729120601 -0.5837529906480554, 0.8119313061518513L -0.5837529906480554, 0.8119313061518513 L -0.5825210669490274, 0.8128156042796956 L -0.5812878036733816, 0.8136980332411872 \", \"type\": \"path\"}, {\"fillcolor\": \"#dba284\", \"layer\": \"below\", \"line\": {\"color\": \"rgb(175,175,175)\", \"width\": 0.5}, \"path\": \"M -0.5749396669451544,0.8181958074770335 Q -0.18997950997193405, 0.0625122851191973 -0.9484494646249152, -0.31692840366983777L -0.9484494646249152, -0.31692840366983777 L -0.9484936699878368, -0.31679608266675996 L -0.9485378568902622, -0.3166637554978916 M -0.9485378568902622,-0.3166637554978916 Q -0.1899790320892897, 0.06251373742159903 -0.5751554300379977, 0.8180441499685734L -0.5751554300379977, 0.8180441499685734 L -0.5750475534911627, 0.8181199858357138 L -0.5749396669451544, 0.8181958074770335 \", \"type\": \"path\"}, {\"fillcolor\": \"#dba284\", \"layer\": \"below\", \"line\": {\"color\": \"rgb(175,175,175)\", \"width\": 0.5}, \"path\": \"M -0.5776338265313015,0.8162960017339337 Q -0.1945266585878153, 0.04646911983951866 -0.8842119815569514, -0.4670858290198169L -0.8842119815569514, -0.4670858290198169 L -0.8848100099226378, -0.46595197857794485 L -0.885406584320072, -0.4648173624582704 M -0.885406584320072,-0.4648173624582704 Q -0.19451610631571, 0.0465132710500499 -0.5793547960311688, 0.8150754690920853L -0.5793547960311688, 0.8150754690920853 L -0.5784946331728004, 0.8156861892849891 L -0.5776338265313015, 0.8162960017339337 \", \"type\": \"path\"}, {\"fillcolor\": \"#dba284\", \"layer\": \"below\", \"line\": {\"color\": \"rgb(175,175,175)\", \"width\": 0.5}, \"path\": \"M -0.5754789996647081,0.8178165570254169 Q -0.19981426247590853, 0.008617453870415313 -0.6437517467486161, -0.765234401055066L -0.6437517467486161, -0.765234401055066 L -0.6442551108376994, -0.7648106642558691 L -0.6447581960105242, -0.7643865963485065 M -0.6447581960105242,-0.7643865963485065 Q -0.19981313609204365, 0.008643531978447338 -0.5763414115714087, 0.8172090169031886L -0.5763414115714087, 0.8172090169031886 L -0.5759102857314532, 0.8175129006864148 L -0.5754789996647081, 0.8178165570254169 \", \"type\": \"path\"}, {\"fillcolor\": \"#dba284\", \"layer\": \"below\", \"line\": {\"color\": \"rgb(175,175,175)\", \"width\": 0.5}, \"path\": \"M -0.5994865098784283,0.8003848602227437 Q -0.19079820764546535, -0.059967023932140345 -0.03381331953978826, -0.9994281662139106L -0.03381331953978826, -0.9994281662139106 L -0.03846451837349825, -0.9992599665884223 L -0.04311488399105354, -0.9990701210517898 M -0.04311488399105354,-0.9990701210517898 Q -0.19085580870400887, -0.05978344489855684 -0.6053805136624055, 0.795936199502097L -0.6053805136624055, 0.795936199502097 L -0.6024376181394958, 0.7981659703660706 L -0.5994865098784283, 0.8003848602227437 \", \"type\": \"path\"}, {\"fillcolor\": \"#dba284\", \"layer\": \"below\", \"line\": {\"color\": \"rgb(175,175,175)\", \"width\": 0.5}, \"path\": \"M -0.5837529906480554,0.8119313061518513 Q -0.16073424157223826, -0.11901472003999068 0.6062773459703283, -0.7952532802592988L 0.6062773459703283, -0.7952532802592988 L 0.6036206449625103, -0.79727167074658 L 0.6009572244735735, -0.7992811860371911 M 0.6009572244735735,-0.7992811860371911 Q -0.16080957237042298, -0.11891291533740858 -0.588134122237129, 0.8087634105598261L -0.588134122237129, 0.8087634105598261 L -0.5859456973365483, 0.8103503191662147 L -0.5837529906480554, 0.8119313061518513 \", \"type\": \"path\"}, {\"fillcolor\": \"#dba284\", \"layer\": \"below\", \"line\": {\"color\": \"rgb(175,175,175)\", \"width\": 0.5}, \"path\": \"M -0.6053805136624055,0.795936199502097 Q -0.1113956249678513, -0.1661054325963538 0.9661496489906677, -0.2579822779867051L 0.9661496489906677, -0.2579822779867051 L 0.9649396980698629, -0.26247167292651163 L 0.9637088864572333, -0.26695539358357107 M 0.9637088864572333,-0.26695539358357107 Q -0.11145607520540819, -0.16606487677954782 -0.6121803508314756, 0.7907181660085036L -0.6121803508314756, 0.7907181660085036 L -0.6087860228809108, 0.7933344681436973 L -0.6053805136624055, 0.795936199502097 \", \"type\": \"path\"}, {\"fillcolor\": \"#dba284\", \"layer\": \"below\", \"line\": {\"color\": \"rgb(175,175,175)\", \"width\": 0.5}, \"path\": \"M -0.5793547960311688,0.8150754690920853 Q -0.10222587170705943, -0.17190075960778017 0.9927922211932445, -0.11984826047208187L 0.9927922211932445, -0.11984826047208187 L 0.9926482520129315, -0.12103490312993057 L 0.9925028644892262, -0.12222137284730851 M 0.9925028644892262,-0.12222137284730851 Q -0.10222734276771653, -0.1718998847895245 -0.5812878036733816, 0.8136980332411872L -0.5812878036733816, 0.8136980332411872 L -0.5803217085329614, 0.814387324683645 L -0.5793547960311688, 0.8150754690920853 \", \"type\": \"path\"}, {\"fillcolor\": \"#d59171\", \"layer\": \"below\", \"line\": {\"color\": \"rgb(175,175,175)\", \"width\": 0.5}, \"path\": \"M -0.6885355404118453,0.7252025989954588 Q -0.1516393527907886, 0.13040516356797668 -0.8201186732794163, 0.5721934653055817L -0.8201186732794163, 0.5721934653055817 L -0.8179435711716019, 0.5752984567848646 L -0.8157567135450293, 0.5783951800509863 M -0.8157567135450293,0.5783951800509863 Q -0.15160757242836628, 0.13044210969766504 -0.6936633060883917, 0.720299394548213L -0.6936633060883917, 0.720299394548213 L -0.6911037716364374, 0.7227555443093404 L -0.6885355404118453, 0.7252025989954588 \", \"type\": \"path\"}, {\"fillcolor\": \"#d59171\", \"layer\": \"below\", \"line\": {\"color\": \"rgb(175,175,175)\", \"width\": 0.5}, \"path\": \"M -0.6755116886488615,0.7373492784961302 Q -0.1655167423289626, 0.11226846399950347 -0.9348798561677603, 0.35496430036237137L -0.9348798561677603, 0.35496430036237137 L -0.934860055619282, 0.35501644526347353 L -0.9348402521623116, 0.35506858906006544 M -0.9348402521623116,0.35506858906006544 Q -0.1655186079604162, 0.11226571346072696 -0.6756184431076007, 0.7372514627539655L -0.6756184431076007, 0.7372514627539655 L -0.6755650676485859, 0.7373003725571834 L -0.6755116886488615, 0.7373492784961302 \", \"type\": \"path\"}, {\"fillcolor\": \"#d59171\", \"layer\": \"below\", \"line\": {\"color\": \"rgb(175,175,175)\", \"width\": 0.5}, \"path\": \"M -0.7011345635375251,0.7130289782421497 Q -0.17604802411436, 0.09490570691707494 -0.9810384054540987, 0.19381343354906935L -0.9810384054540987, 0.19381343354906935 L -0.9801285677472452, 0.19836327958000152 L -0.9791976289469821, 0.20290885506701817 M -0.9791976289469821,0.20290885506701817 Q -0.17611605827566426, 0.09477939658724799 -0.7087339454613468, 0.7054758639037856L -0.7087339454613468, 0.7054758639037856 L -0.7049443705362344, 0.7092625990768667 L -0.7011345635375251, 0.7130289782421497 \", \"type\": \"path\"}, {\"fillcolor\": \"#d59171\", \"layer\": \"below\", \"line\": {\"color\": \"rgb(175,175,175)\", \"width\": 0.5}, \"path\": \"M -0.6815740217607029,0.7317491734610576 Q -0.1768943365687675, 0.09331877458419402 -0.9887730450376715, 0.1494251163858705L -0.9887730450376715, 0.1494251163858705 L -0.9885453629448314, 0.15092403851034294 L -0.988315408575026, 0.15242261371981325 M -0.988315408575026,0.15242261371981325 Q -0.17688797127663297, 0.09333083958497894 -0.6836901749415953, 0.7297723923856881L -0.6836901749415953, 0.7297723923856881 L -0.6826328139015498, 0.7307615489233489 L -0.6815740217607029, 0.7317491734610576 \", \"type\": \"path\"}, {\"fillcolor\": \"#d59171\", \"layer\": \"below\", \"line\": {\"color\": \"rgb(175,175,175)\", \"width\": 0.5}, \"path\": \"M -0.6836901749415953,0.7297723923856881 Q -0.18714087662334572, 0.0705570145105765 -0.9953091371601658, -0.09674565357413403L -0.9953091371601658, -0.09674565357413403 L -0.995640929256198, -0.09326918027866823 L -0.995960578562681, -0.08979156947670361 M -0.995960578562681,-0.08979156947670361 Q -0.18712943834372703, 0.0705873452196728 -0.6885355404118453, 0.7252025989954588L -0.6885355404118453, 0.7252025989954588 L -0.6861166622537476, 0.7274915296948666 L -0.6836901749415953, 0.7297723923856881 \", \"type\": \"path\"}, {\"fillcolor\": \"#d59171\", \"layer\": \"below\", \"line\": {\"color\": \"rgb(175,175,175)\", \"width\": 0.5}, \"path\": \"M -0.6767918068403358,0.7361744699415985 Q -0.19371949870396682, 0.04972681190146619 -0.9476951498344143, -0.3191769148612209L -0.9476951498344143, -0.3191769148612209 L -0.947939776381731, -0.3184496512062052 L -0.9481838448251707, -0.317722200062502 M -0.9481838448251707,-0.317722200062502 Q -0.19372094303913298, 0.04972118490169963 -0.6779634537580239, 0.7350956096784226L -0.6779634537580239, 0.7350956096784226 L -0.6773778450869199, 0.7356352730704263 L -0.6767918068403358, 0.7361744699415985 \", \"type\": \"path\"}, {\"fillcolor\": \"#d59171\", \"layer\": \"below\", \"line\": {\"color\": \"rgb(175,175,175)\", \"width\": 0.5}, \"path\": \"M -0.6795583819626463,0.7336214320099367 Q -0.19725278397033058, 0.03303542365331651 -0.8815028874592279, -0.4721786308178758L -0.8815028874592279, -0.4721786308178758 L -0.8822206399609008, -0.4708362161378185 L -0.8829363481404773, -0.46949271041450463 M -0.8829363481404773,-0.46949271041450463 Q -0.19724793436447535, 0.03306436736046269 -0.6815740217607029, 0.7317491734610576L -0.6815740217607029, 0.7317491734610576 L -0.6805668456914751, 0.7326859958710525 L -0.6795583819626463, 0.7336214320099367 \", \"type\": \"path\"}, {\"fillcolor\": \"#d59171\", \"layer\": \"below\", \"line\": {\"color\": \"rgb(175,175,175)\", \"width\": 0.5}, \"path\": \"M -0.7087339454613468,0.7054758639037856 Q -0.19943902561259466, -0.014969137005813291 -0.5954860213977788, -0.8033656691195138L -0.5954860213977788, -0.8033656691195138 L -0.600627512342922, -0.7995289809736437 L -0.6057442843996875, -0.7956593881285575 M -0.6057442843996875,-0.7956593881285575 Q -0.19945046881726455, -0.014815886358007391 -0.7166560093063862, 0.6974268164653873L -0.7166560093063862, 0.6974268164653873 L -0.7127063403529932, 0.7014625238889411 L -0.7087339454613468, 0.7054758639037856 \", \"type\": \"path\"}, {\"fillcolor\": \"#d59171\", \"layer\": \"below\", \"line\": {\"color\": \"rgb(175,175,175)\", \"width\": 0.5}, \"path\": \"M -0.7249854905450317,0.6887641385112757 Q -0.18251492056380453, -0.08178205042421062 0.03150065116760726, -0.9995037313467202L 0.03150065116760726, -0.9995037313467202 L 0.024189692526038444, -0.99970738657644 L 0.0168774399393134, -0.9998575658668063 M 0.0168774399393134,-0.9998575658668063 Q -0.18259196043711257, -0.08160990126039813 -0.7337023664070578, 0.6794709982984436L -0.7337023664070578, 0.6794709982984436 L -0.7293587297198983, 0.6841314518287961 L -0.7249854905450317, 0.6887641385112757 \", \"type\": \"path\"}, {\"fillcolor\": \"#d59171\", \"layer\": \"below\", \"line\": {\"color\": \"rgb(175,175,175)\", \"width\": 0.5}, \"path\": \"M -0.7166560093063862,0.6974268164653873 Q -0.14642603118941902, -0.13623295265872823 0.6439951611480031, -0.7650295631006409L 0.6439951611480031, -0.7650295631006409 L 0.6388132725933529, -0.7693618152459678 L 0.6336022411359624, -0.7736589688147393 M 0.6336022411359624,-0.7736589688147393 Q -0.14652754836936424, -0.1361237582821736 -0.7249854905450317, 0.6887641385112757L -0.7249854905450317, 0.6887641385112757 L -0.7208337630971481, 0.6931079901279488 L -0.7166560093063862, 0.6974268164653873 \", \"type\": \"path\"}, {\"fillcolor\": \"#d59171\", \"layer\": \"below\", \"line\": {\"color\": \"rgb(175,175,175)\", \"width\": 0.5}, \"path\": \"M -0.6761520028971741,0.736762152243273 Q -0.12033600534832141, -0.15974744385062556 0.8947450010552971, -0.44657740995997136L 0.8947450010552971, -0.44657740995997136 L 0.8945577097905769, -0.4469524626335981 L 0.894370261314025, -0.4473274367586709 M 0.894370261314025,-0.4473274367586709 Q -0.12033358413237481, -0.1597492676974035 -0.6767918068403358, 0.7361744699415985L -0.6767918068403358, 0.7361744699415985 L -0.6764719686870876, 0.7364683805708266 L -0.6761520028971741, 0.736762152243273 \", \"type\": \"path\"}, {\"fillcolor\": \"#d59171\", \"layer\": \"below\", \"line\": {\"color\": \"rgb(175,175,175)\", \"width\": 0.5}, \"path\": \"M -0.6936633060883917,0.720299394548213 Q -0.09980919041715781, -0.17331510467432298 0.9711567695315114, -0.23844187759938226L 0.9711567695315114, -0.23844187759938226 L 0.9699158438652349, -0.24344045641427228 L 0.9686491905151802, -0.24843257780389075 M 0.9686491905151802,-0.24843257780389075 Q -0.09979841679112288, -0.17332130857452388 -0.7011345635375251, 0.7130289782421497L -0.7011345635375251, 0.7130289782421497 L -0.6974084090520885, 0.7166739223548146 L -0.6936633060883917, 0.720299394548213 \", \"type\": \"path\"}, {\"fillcolor\": \"#d59171\", \"layer\": \"below\", \"line\": {\"color\": \"rgb(175,175,175)\", \"width\": 0.5}, \"path\": \"M -0.6779634537580239,0.7350956096784226 Q -0.09152044680679457, -0.1778314027844483 0.9922243745463254, -0.12446200446784285L 0.9922243745463254, -0.12446200446784285 L 0.9920999031695537, -0.12545031738087503 L 0.991974447376159, -0.12643850581513508 M 0.991974447376159,-0.12643850581513508 Q -0.09150447500423824, -0.17783962172192883 -0.6795583819626463, 0.7336214320099367L -0.6795583819626463, 0.7336214320099367 L -0.678761318074737, 0.7343589538403176 L -0.6779634537580239, 0.7350956096784226 \", \"type\": \"path\"}, {\"fillcolor\": \"#d0805f\", \"layer\": \"below\", \"line\": {\"color\": \"rgb(175,175,175)\", \"width\": 0.5}, \"path\": \"M -0.833605083981965,0.5523609001001258 Q -0.17916282844482023, 0.08888577447292635 -0.9441208014204059, 0.32959962427965617L -0.9441208014204059, 0.32959962427965617 L -0.9430866760023916, 0.3325470215574936 L -0.9420433492968907, 0.33549117431833636 M -0.9420433492968907,0.33549117431833636 Q -0.17927016719194444, 0.08866908793357632 -0.8383600769280546, 0.5451168511550404L -0.8383600769280546, 0.5451168511550404 L -0.835990426910199, 0.5487440260399226 L -0.833605083981965, 0.5523609001001258 \", \"type\": \"path\"}, {\"fillcolor\": \"#d0805f\", \"layer\": \"below\", \"line\": {\"color\": \"rgb(175,175,175)\", \"width\": 0.5}, \"path\": \"M -0.8291336801008373,0.5590503917559153 Q -0.18342356891091377, 0.0797232360606572 -0.9743965831325112, 0.2248361598579891L -0.9743965831325112, 0.2248361598579891 L -0.9736583289137664, 0.2280119701613315 L -0.9729097239374308, 0.23118535651721586 M -0.9729097239374308,0.23118535651721586 Q -0.18348431761400835, 0.07958332230889655 -0.833605083981965, 0.5523609001001258L -0.833605083981965, 0.5523609001001258 L -0.8313761102657174, 0.5557101432216669 L -0.8291336801008373, 0.5590503917559153 \", \"type\": \"path\"}, {\"fillcolor\": \"#d0805f\", \"layer\": \"below\", \"line\": {\"color\": \"rgb(175,175,175)\", \"width\": 0.5}, \"path\": \"M -0.8246085958240802,0.5657036889512378 Q -0.1863426355105569, 0.0726389853383136 -0.9899203427805833, 0.14162526239754133L -0.9899203427805833, 0.14162526239754133 L -0.9893543804822822, 0.14552632002672114 L -0.9887730450376715, 0.1494251163858705 M -0.9887730450376715,0.1494251163858705 Q -0.1863485370891278, 0.07262384405098626 -0.8291336801008373, 0.5590503917559153L -0.8291336801008373, 0.5590503917559153 L -0.8268778297827459, 0.562381591638432 L -0.8246085958240802, 0.5657036889512378 \", \"type\": \"path\"}, {\"fillcolor\": \"#d0805f\", \"layer\": \"below\", \"line\": {\"color\": \"rgb(175,175,175)\", \"width\": 0.5}, \"path\": \"M -0.8115287256954932,0.584312525427146 Q -0.19327801953218482, 0.051416020516142504 -0.9945933846324687, -0.10384603625237793L -0.9945933846324687, -0.10384603625237793 L -0.9949575947836752, -0.10029648339939004 L -0.9953091371601658, -0.09674565357413403 M -0.9953091371601658,-0.09674565357413403 Q -0.19328152164184126, 0.051402853926746664 -0.8157567135450293, 0.5783951800509863L -0.8157567135450293, 0.5783951800509863 L -0.8136480989562566, 0.58135769631516 L -0.8115287256954932, 0.584312525427146 \", \"type\": \"path\"}, {\"fillcolor\": \"#d0805f\", \"layer\": \"below\", \"line\": {\"color\": \"rgb(175,175,175)\", \"width\": 0.5}, \"path\": \"M -0.8019284996867189,0.597420020915108 Q -0.19766469138486023, 0.030474083738940616 -0.9446246276566076, -0.3281528802625621L -0.9446246276566076, -0.3281528802625621 L -0.9450815134132958, -0.326834718174851 L -0.9455365597617243, -0.32551591997007306 M -0.9455365597617243,-0.32551591997007306 Q -0.19766932938381793, 0.03044398497161139 -0.8037735129120055, 0.5949354082092392L -0.8037735129120055, 0.5949354082092392 L -0.8028519674516424, 0.5961784282905805 L -0.8019284996867189, 0.597420020915108 \", \"type\": \"path\"}, {\"fillcolor\": \"#d0805f\", \"layer\": \"below\", \"line\": {\"color\": \"rgb(175,175,175)\", \"width\": 0.5}, \"path\": \"M -0.8513542806132368,0.5245911635564575 Q -0.1999999305074428, 0.00016672437750777952 -0.8522277184057233, -0.5231710198214109L -0.8522277184057233, -0.5231710198214109 L -0.8558536474471816, -0.5172180721430326 L -0.8594379948841323, -0.511239995451786 M -0.8594379948841323,-0.511239995451786 Q -0.19999988489310638, 0.0002145757307037798 -0.8583390200154132, 0.5130829628032684L -0.8583390200154132, 0.5130829628032684 L -0.8548660159491461, 0.5188488168775507 L -0.8513542806132368, 0.5245911635564575 \", \"type\": \"path\"}, {\"fillcolor\": \"#d0805f\", \"layer\": \"below\", \"line\": {\"color\": \"rgb(175,175,175)\", \"width\": 0.5}, \"path\": \"M -0.8583390200154132,0.5130829628032684 Q -0.1947006094599865, -0.045734808143358584 -0.5401310065269357, -0.8415809502289125L -0.5401310065269357, -0.8415809502289125 L -0.5495792714414509, -0.8354415744993088 L -0.5589577608680214, -0.8291961297337367 M -0.5589577608680214,-0.8291961297337367 Q -0.19473113144749965, -0.04560467569423792 -0.8690221566513917, 0.4947731715129307L -0.8690221566513917, 0.4947731715129307 L -0.863729107288973, 0.5039563763083009 L -0.8583390200154132, 0.5130829628032684 \", \"type\": \"path\"}, {\"fillcolor\": \"#d0805f\", \"layer\": \"below\", \"line\": {\"color\": \"rgb(175,175,175)\", \"width\": 0.5}, \"path\": \"M -0.8037735129120055,0.5949354082092392 Q -0.18410920146198725, -0.07812683237549949 -0.130596156189803, -0.9914356479310438L -0.130596156189803, -0.9914356479310438 L -0.13181941412506856, -0.9912737472866533 L -0.1330424713558113, -0.9911103373568142 M -0.1330424713558113,-0.9911103373568142 Q -0.18407260397891564, -0.0782130197884041 -0.8057941355459435, 0.5921957540541519L -0.8057941355459435, 0.5921957540541519 L -0.8047849900233202, 0.5935664409593626 L -0.8037735129120055, 0.5949354082092392 \", \"type\": \"path\"}, {\"fillcolor\": \"#d0805f\", \"layer\": \"below\", \"line\": {\"color\": \"rgb(175,175,175)\", \"width\": 0.5}, \"path\": \"M -0.8823912458938852,0.4705164069082364 Q -0.16489653795169512, -0.11317743490442417 0.12179424413769946, -0.9925553697879662L 0.12179424413769946, -0.9925553697879662 L 0.10602344462520517, -0.9943636302629969 L 0.09022592848508833, -0.9959213231119232 M 0.09022592848508833,-0.9959213231119232 Q -0.16502058721537455, -0.11299648576435006 -0.8959098516818659, 0.4442359031633722L -0.8959098516818659, 0.4442359031633722 L -0.8892476396533484, 0.45742609826172864 L -0.8823912458938852, 0.4705164069082364 \", \"type\": \"path\"}, {\"fillcolor\": \"#d0805f\", \"layer\": \"below\", \"line\": {\"color\": \"rgb(175,175,175)\", \"width\": 0.5}, \"path\": \"M -0.8383600769280546,0.5451168511550404 Q -0.13345768747641426, -0.1489598793415453 0.6336022411359624, -0.7736589688147393L 0.6336022411359624, -0.7736589688147393 L 0.6286787771591889, -0.7776650918934365 L 0.623729984016468, -0.7816398832191309 M 0.623729984016468,-0.7816398832191309 Q -0.13350425786588613, -0.1489181423859396 -0.8448781237011538, 0.5349588358847976L -0.8448781237011538, 0.5349588358847976 L -0.8416344255868586, 0.5400476772166309 L -0.8383600769280546, 0.5451168511550404 \", \"type\": \"path\"}, {\"fillcolor\": \"#d0805f\", \"layer\": \"below\", \"line\": {\"color\": \"rgb(175,175,175)\", \"width\": 0.5}, \"path\": \"M -0.8057941355459435,0.5921957540541519 Q -0.10346930789236886, -0.17115519952450808 0.898825567959643, -0.43830651190921766L 0.898825567959643, -0.43830651190921766 L 0.8979971150099166, -0.44000134253643647 L 0.8971654662813969, -0.44169460729341453 M 0.8971654662813969,-0.44169460729341453 Q -0.10343465176326071, -0.17117614557704294 -0.8082612255465045, 0.5888240749817069L -0.8082612255465045, 0.5888240749817069 L -0.8070294413605738, 0.5905112029227221 L -0.8057941355459435, 0.5921957540541519 \", \"type\": \"path\"}, {\"fillcolor\": \"#d0805f\", \"layer\": \"below\", \"line\": {\"color\": \"rgb(175,175,175)\", \"width\": 0.5}, \"path\": \"M -0.8082612255465045,0.5888240749817069 Q -0.08818729842686741, -0.17950766110718125 0.9600318245254168, -0.2798908642639117L 0.9600318245254168, -0.2798908642639117 L 0.9593078790608521, -0.28236216667919517 L 0.9585775720106842, -0.28483159662878277 M 0.9585775720106842,-0.28483159662878277 Q -0.08814958128698054, -0.17952618560792188 -0.8115287256954932, 0.584312525427146L -0.8115287256954932, 0.584312525427146 L -0.8098981170838614, 0.5865705754161352 L -0.8082612255465045, 0.5888240749817069 \", \"type\": \"path\"}, {\"fillcolor\": \"#d0805f\", \"layer\": \"below\", \"line\": {\"color\": \"rgb(175,175,175)\", \"width\": 0.5}, \"path\": \"M -0.8000758060921896,0.5998989119059419 Q -0.07426353191257638, -0.18570117885428125 0.993107073652073, -0.11721066616232599L 0.993107073652073, -0.11721066616232599 L 0.9929505232098516, -0.11852956786085951 L 0.9927922211932445, -0.11984826047208187 M 0.9927922211932445,-0.11984826047208187 Q -0.07422282315241405, -0.18571745346974117 -0.8019284996867189, 0.597420020915108L -0.8019284996867189, 0.597420020915108 L -0.8010031118283354, 0.5986601831100204 L -0.8000758060921896, 0.5998989119059419 \", \"type\": \"path\"}, {\"fillcolor\": \"#ca6f4c\", \"layer\": \"below\", \"line\": {\"color\": \"rgb(175,175,175)\", \"width\": 0.5}, \"path\": \"M -0.9355119376670087,0.35329508131662235 Q -0.19004624517394533, 0.062309106038240226 -0.9630883626020119, 0.2691854487534117L -0.9630883626020119, 0.2691854487534117 L -0.9629532142647282, 0.26966851343311904 L -0.9628178236324714, 0.27015151025976364 M -0.9628178236324714,0.27015151025976364 Q -0.19004279343680783, 0.06231963304396775 -0.9358268609026428, 0.35246004938589226L -0.9358268609026428, 0.35246004938589226 L -0.9356694924371576, 0.3528776004826489 L -0.9355119376670087, 0.35329508131662235 \", \"type\": \"path\"}, {\"fillcolor\": \"#ca6f4c\", \"layer\": \"below\", \"line\": {\"color\": \"rgb(175,175,175)\", \"width\": 0.5}, \"path\": \"M -0.9358268609026428,0.35246004938589226 Q -0.19324183730173472, 0.05155184105587194 -0.9870344128068734, 0.1605087783736163L -0.9870344128068734, 0.1605087783736163 L -0.9869246756464137, 0.1611821472751279 L -0.9868144791041763, 0.16185544115152037 M -0.9868144791041763,0.16185544115152037 Q -0.1932325418008759, 0.051586672592567495 -0.9361802586113169, 0.35152030295055187L -0.9361802586113169, 0.35152030295055187 L -0.9360036776950071, 0.35199022051957796 L -0.9358268609026428, 0.35246004938589226 \", \"type\": \"path\"}, {\"fillcolor\": \"#ca6f4c\", \"layer\": \"below\", \"line\": {\"color\": \"rgb(175,175,175)\", \"width\": 0.5}, \"path\": \"M -0.9406127067797005,0.33948156922661527 Q -0.19999788983884917, -0.0009187273847843874 -0.9374541328655155, -0.3481088174312229L -0.9374541328655155, -0.3481088174312229 L -0.9383735651598442, -0.345622702103325 L -0.9392864043240502, -0.34313415838706146 M -0.9392864043240502,-0.34313415838706146 Q -0.19999834959441398, -0.0008125020065085919 -0.9420433492968907, 0.33549117431833636L -0.9420433492968907, 0.33549117431833636 L -0.9413301425022716, 0.33748712985335144 L -0.9406127067797005, 0.33948156922661527 \", \"type\": \"path\"}, {\"fillcolor\": \"#ca6f4c\", \"layer\": \"below\", \"line\": {\"color\": \"rgb(175,175,175)\", \"width\": 0.5}, \"path\": \"M -0.9375844090764391,0.34775778331589424 Q -0.19951168993753182, -0.01396730390126057 -0.8799851547346064, -0.47500118678452885L -0.8799851547346064, -0.47500118678452885 L -0.8807451517910915, -0.473590516793239 L -0.8815028874592279, -0.4721786308178758 M -0.8815028874592279,-0.4721786308178758 Q -0.1995184657855434, -0.013870177020606523 -0.938357960108335, 0.345665067227402L -0.938357960108335, 0.345665067227402 L -0.937971768226956, 0.34671164100617896 L -0.9375844090764391, 0.34775778331589424 \", \"type\": \"path\"}, {\"fillcolor\": \"#ca6f4c\", \"layer\": \"below\", \"line\": {\"color\": \"rgb(175,175,175)\", \"width\": 0.5}, \"path\": \"M -0.9393565927357354,0.3429419654750784 Q -0.19310241197409866, -0.05207166686198442 -0.6395883790533932, -0.7687175719208278L -0.6395883790533932, -0.7687175719208278 L -0.6416724263541322, -0.7669788114783881 L -0.6437517467486161, -0.765234401055066 M -0.6437517467486161,-0.765234401055066 Q -0.19314782154089852, -0.05190297712082825 -0.9406127067797005, 0.33948156922661527L -0.9406127067797005, 0.33948156922661527 L -0.9399862421151113, 0.3412123453720739 L -0.9393565927357354, 0.3429419654750784 \", \"type\": \"path\"}, {\"fillcolor\": \"#ca6f4c\", \"layer\": \"below\", \"line\": {\"color\": \"rgb(175,175,175)\", \"width\": 0.5}, \"path\": \"M -0.938357960108335,0.345665067227402 Q -0.17089054872490925, -0.10390582445897545 -0.1249221189935857, -0.9921665506285486L -0.1249221189935857, -0.9921665506285486 L -0.12636883784405076, -0.9919833248709093 L -0.1278152879627023, -0.991797989594157 M -0.1278152879627023,-0.991797989594157 Q -0.1708913856989774, -0.10390444790230756 -0.9393565927357354, 0.3429419654750784L -0.9393565927357354, 0.3429419654750784 L -0.9388582636965976, 0.3443038784106416 L -0.938357960108335, 0.345665067227402 \", \"type\": \"path\"}, {\"fillcolor\": \"#ca6f4c\", \"layer\": \"below\", \"line\": {\"color\": \"rgb(175,175,175)\", \"width\": 0.5}, \"path\": \"M -0.9493986049973595,0.31407369967742865 Q -0.15816815744773635, -0.12240438705205009 0.0658663004350972, -0.9978284574349409L 0.0658663004350972, -0.9978284574349409 L 0.056658286327140234, -0.998393629081472 L 0.047445450205650434, -0.9988738304985185 M 0.047445450205650434,-0.9988738304985185 Q -0.1585388098824298, -0.12192393432408087 -0.9532147857746561, 0.3022938507157836L -0.9532147857746561, 0.3022938507157836 L -0.9513249286635123, 0.3081896820196344 L -0.9493986049973595, 0.31407369967742865 \", \"type\": \"path\"}, {\"fillcolor\": \"#ca6f4c\", \"layer\": \"below\", \"line\": {\"color\": \"rgb(175,175,175)\", \"width\": 0.5}, \"path\": \"M -0.9351172358646991,0.35433847545639846 Q -0.12129808132985453, -0.15901816080465778 0.588922359952235, -0.8081896150955481L 0.588922359952235, -0.8081896150955481 L 0.5885934706045942, -0.8084291721367053 L 0.5882644838119029, -0.8086685953377413 M 0.5882644838119029,-0.8086685953377413 Q -0.12131843417368054, -0.15900263371921342 -0.9353147322611853, 0.35381683342541403L -0.9353147322611853, 0.35381683342541403 L -0.9352160204329371, 0.3540776682107759 L -0.9351172358646991, 0.35433847545639846 \", \"type\": \"path\"}, {\"fillcolor\": \"#ca6f4c\", \"layer\": \"below\", \"line\": {\"color\": \"rgb(175,175,175)\", \"width\": 0.5}, \"path\": \"M -0.9361802586113169,0.35152030295055187 Q -0.0794173814636249, -0.18355620262323225 0.8971654662813969, -0.44169460729341453L 0.8971654662813969, -0.44169460729341453 L 0.8968257308986288, -0.44238400558580354 L 0.8964854657697475, -0.44307314256632496 M 0.8964854657697475,-0.44307314256632496 Q -0.07944583336216386, -0.183543890013782 -0.936610907564716, 0.35037124287075705L -0.936610907564716, 0.35037124287075705 L -0.9363957593408425, 0.3509458389673354 L -0.9361802586113169, 0.35152030295055187 \", \"type\": \"path\"}, {\"fillcolor\": \"#ca6f4c\", \"layer\": \"below\", \"line\": {\"color\": \"rgb(175,175,175)\", \"width\": 0.5}, \"path\": \"M -0.9353147322611853,0.35381683342541403 Q -0.06550455661172376, -0.1889686562980789 0.9536328023334989, -0.3009725540868432L 0.9536328023334989, -0.3009725540868432 L 0.9535250952658049, -0.3013136118703197 L 0.9534172662220133, -0.30165463110939095 M 0.9534172662220133,-0.30165463110939095 Q -0.06551944189304276, -0.18896349577107266 -0.9355119376670087, 0.35329508131662235L -0.9355119376670087, 0.35329508131662235 L -0.9354133713417665, 0.3535559711205998 L -0.9353147322611853, 0.35381683342541403 \", \"type\": \"path\"}, {\"fillcolor\": \"#ca6f4c\", \"layer\": \"below\", \"line\": {\"color\": \"rgb(175,175,175)\", \"width\": 0.5}, \"path\": \"M -0.9348798561677603,0.35496430036237137 Q -0.0489285329934831, -0.19392266154089788 0.9913759745156252, -0.13104837714826725L 0.9913759745156252, -0.13104837714826725 L 0.9913498468525036, -0.13124588048970406 L 0.9913236798424839, -0.13144337862196154 M 0.9913236798424839,-0.13144337862196154 Q -0.048934717344609364, -0.1939211010653642 -0.9349985983768462, 0.3546514077701273L -0.9349985983768462, 0.3546514077701273 L -0.9349392403616265, 0.35480785903362516 L -0.9348798561677603, 0.35496430036237137 \", \"type\": \"path\"}, {\"fillcolor\": \"#c45e3a\", \"layer\": \"below\", \"line\": {\"color\": \"rgb(175,175,175)\", \"width\": 0.5}, \"path\": \"M -0.9625463156193654,0.27111729986776023 Q -0.1990519367195238, 0.019450616653636087 -0.9968224881500863, -0.07965505080201152L -0.9968224881500863, -0.07965505080201152 L -0.9968706829243106, -0.07904961433187722 L -0.9969185099768094, -0.07844414870223344 M -0.9969185099768094,-0.07844414870223344 Q -0.19904987894282922, 0.01947166384377682 -0.9628178236324714, 0.27015151025976364L -0.9628178236324714, 0.27015151025976364 L -0.9626821907393079, 0.2706344391118152 L -0.9625463156193654, 0.27111729986776023 \", \"type\": \"path\"}, {\"fillcolor\": \"#c45e3a\", \"layer\": \"below\", \"line\": {\"color\": \"rgb(175,175,175)\", \"width\": 0.5}, \"path\": \"M -0.966484877253201,0.2567235517845316 Q -0.19974248495828625, -0.01014592049489831 -0.9354969639311346, -0.353334728657727L -0.9354969639311346, -0.353334728657727 L -0.936479193727752, -0.3507231382658114 L -0.9374541328655155, -0.3481088174312229 M -0.9374541328655155,-0.3481088174312229 Q -0.19974533942293354, -0.010089567821124525 -0.9677604738680871, 0.2518723192782716L -0.9677604738680871, 0.2518723192782716 L -0.9671257173696634, 0.254298735353155 L -0.966484877253201, 0.2567235517845316 \", \"type\": \"path\"}, {\"fillcolor\": \"#c45e3a\", \"layer\": \"below\", \"line\": {\"color\": \"rgb(175,175,175)\", \"width\": 0.5}, \"path\": \"M -0.9640276138549664,0.26580210632178936 Q -0.19859947819617974, -0.02362725672195419 -0.8747573551853107, -0.484561213418078L -0.8747573551853107, -0.484561213418078 L -0.8761899343023118, -0.48196597289363735 L -0.8776148138509304, -0.47936649706607226 M -0.8776148138509304,-0.47936649706607226 Q -0.1986146627832266, -0.023499270786668736 -0.9652505351325983, 0.26132624136552485L -0.9652505351325983, 0.26132624136552485 L -0.9646416704569618, 0.26356488312748 L -0.9640276138549664, 0.26580210632178936 \", \"type\": \"path\"}, {\"fillcolor\": \"#c45e3a\", \"layer\": \"below\", \"line\": {\"color\": \"rgb(175,175,175)\", \"width\": 0.5}, \"path\": \"M -0.9715896243701286,0.23667192866141157 Q -0.18930094102840314, -0.06453800218290799 -0.6246763324074077, -0.7808837811928416L -0.6246763324074077, -0.7808837811928416 L -0.6275621742923113, -0.7785664502131509 L -0.6304394197638703, -0.7762384543474992 M -0.6304394197638703,-0.7762384543474992 Q -0.18935763019495364, -0.06437148349192512 -0.9729097239374308, 0.23118535651721586L -0.9729097239374308, 0.23118535651721586 L -0.9722535443548684, 0.2339295737810758 L -0.9715896243701286, 0.23667192866141157 \", \"type\": \"path\"}, {\"fillcolor\": \"#c45e3a\", \"layer\": \"below\", \"line\": {\"color\": \"rgb(175,175,175)\", \"width\": 0.5}, \"path\": \"M -0.9622738388359575,0.27208281660536693 Q -0.1674027395994323, -0.10943638688573679 -0.13682154117468687, -0.9905957126247739L -0.13682154117468687, -0.9905957126247739 L -0.13726600784075313, -0.9905342210602631 L -0.13771044687080286, -0.9904725300696854 M -0.13771044687080286,-0.9904725300696854 Q -0.16739694867012778, -0.10944524464740629 -0.9625463156193654, 0.27111729986776023L -0.9625463156193654, 0.27111729986776023 L -0.9624101983068322, 0.27160009240610355 L -0.9622738388359575, 0.27208281660536693 \", \"type\": \"path\"}, {\"fillcolor\": \"#c45e3a\", \"layer\": \"below\", \"line\": {\"color\": \"rgb(175,175,175)\", \"width\": 0.5}, \"path\": \"M -0.9690117200775947,0.24701474926056777 Q -0.16053435042647105, -0.11928420823038982 -0.04311488399105354, -0.9990701210517898L -0.04311488399105354, -0.9990701210517898 L -0.046519029455622724, -0.9989174039421412 L -0.049922634763139746, -0.9987530878742283 M -0.049922634763139746,-0.9987530878742283 Q -0.16063411117013532, -0.1191498314248938 -0.9702689433451622, 0.24202929074775725L -0.9702689433451622, 0.24202929074775725 L -0.9696435358318529, 0.24452282801305522 L -0.9690117200775947, 0.24701474926056777 \", \"type\": \"path\"}, {\"fillcolor\": \"#c45e3a\", \"layer\": \"below\", \"line\": {\"color\": \"rgb(175,175,175)\", \"width\": 0.5}, \"path\": \"M -0.9652505351325983,0.26132624136552485 Q -0.11214266499654445, -0.16560200085588583 0.6009572244735735, -0.7992811860371911L 0.6009572244735735, -0.7992811860371911 L 0.5984827142730502, -0.8011357192862908 L 0.5960024810849804, -0.8029825916796376 M 0.5960024810849804,-0.8029825916796376 Q -0.11226015839852749, -0.16552237563646047 -0.966484877253201, 0.2567235517845316L -0.966484877253201, 0.2567235517845316 L -0.9658704478625373, 0.25902563183171995 L -0.9652505351325983, 0.26132624136552485 \", \"type\": \"path\"}, {\"fillcolor\": \"#c45e3a\", \"layer\": \"below\", \"line\": {\"color\": \"rgb(175,175,175)\", \"width\": 0.5}, \"path\": \"M -0.9622397111350174,0.2722034869629671 Q -0.07248089991587078, -0.18640418221538252 0.8933678823338351, -0.44932596944129427L 0.8933678823338351, -0.44932596944129427 L 0.893336486005018, -0.4493883874469903 L 0.8933050853151672, -0.4494508032588904 M 0.8933050853151672,-0.4494508032588904 Q -0.07248223600004557, -0.18640366269050002 -0.9622738388359575, 0.27208281660536693L -0.9622738388359575, 0.27208281660536693 L -0.962256776877048, 0.2721431523191334 L -0.9622397111350174, 0.2722034869629671 \", \"type\": \"path\"}, {\"fillcolor\": \"#c45e3a\", \"layer\": \"below\", \"line\": {\"color\": \"rgb(175,175,175)\", \"width\": 0.5}, \"path\": \"M -0.9702689433451622,0.24202929074775725 Q -0.051594134121988204, -0.19323054966594255 0.9617746576575708, -0.27384212219390663L 0.9617746576575708, -0.27384212219390663 L 0.9609080005704475, -0.27686786458472384 L 0.9600318245254168, -0.2798908642639117 M 0.9600318245254168,-0.2798908642639117 Q -0.05166920763588903, -0.19321048879985628 -0.9715896243701286, 0.23667192866141157L -0.9715896243701286, 0.23667192866141157 L -0.970932978935442, 0.23935152060421241 L -0.9702689433451622, 0.24202929074775725 \", \"type\": \"path\"}, {\"fillcolor\": \"#c45e3a\", \"layer\": \"below\", \"line\": {\"color\": \"rgb(175,175,175)\", \"width\": 0.5}, \"path\": \"M -0.963525920937951,0.26761502140327126 Q -0.039507910723015, -0.19605898344707973 0.991974447376159, -0.12643850581513508L 0.991974447376159, -0.12643850581513508 L 0.9918480072906257, -0.12742656879008754 L 0.9917205830384146, -0.12841450532532148 M 0.9917205830384146,-0.12841450532532148 Q -0.039518810387045356, -0.1960567867368859 -0.9640276138549664, 0.26580210632178936L -0.9640276138549664, 0.26580210632178936 L -0.9637771936700105, 0.2667086818263684 L -0.963525920937951, 0.26761502140327126 \", \"type\": \"path\"}, {\"fillcolor\": \"#bf4d28\", \"layer\": \"below\", \"line\": {\"color\": \"rgb(175,175,175)\", \"width\": 0.5}, \"path\": \"M -0.9995527153908395,0.029906005330023896 Q -0.1988156656634427, -0.021733179399300518 -0.9694856866402892, -0.24514792146703382L -0.9694856866402892, -0.24514792146703382 L -0.9738602692351617, -0.22714791657688255 L -0.9779006841937976, -0.20906996879825332 M -0.9779006841937976,-0.20906996879825332 Q -0.19881626571912203, -0.02172768937331955 -0.9999749173567417, -0.007082701276891735L -0.9999749173567417, -0.007082701276891735 L -0.9999348626957656, 0.011413604408793599 L -0.9995527153908395, 0.029906005330023896 \", \"type\": \"path\"}, {\"fillcolor\": \"#bf4d28\", \"layer\": \"below\", \"line\": {\"color\": \"rgb(175,175,175)\", \"width\": 0.5}, \"path\": \"M -0.9879427565685265,0.15481960387425528 Q -0.19924582785280076, -0.01735223568454757 -0.946305914607025, -0.32327251039913996L -0.946305914607025, -0.32327251039913996 L -0.9466661224183643, -0.3222161582934325 L -0.9470251510345133, -0.32115940482579225 M -0.9470251510345133,-0.32115940482579225 Q -0.19924414696445905, -0.017371525563549286 -0.988315408575026, 0.15242261371981325L -0.988315408575026, 0.15242261371981325 L -0.9881298093947931, 0.15362122179376714 L -0.9879427565685265, 0.15481960387425528 \", \"type\": \"path\"}, {\"fillcolor\": \"#bf4d28\", \"layer\": \"below\", \"line\": {\"color\": \"rgb(175,175,175)\", \"width\": 0.5}, \"path\": \"M -0.9875881154485855,0.15706595501480033 Q -0.19735369279323853, -0.03242714820751342 -0.885406584320072, -0.4648173624582704L -0.885406584320072, -0.4648173624582704 L -0.8859645514473387, -0.4637529661131193 L -0.8865212390053337, -0.46268789998491194 M -0.8865212390053337,-0.46268789998491194 Q -0.19735579008544696, -0.0324143813723014 -0.9879427565685265, 0.15481960387425528L -0.9879427565685265, 0.15481960387425528 L -0.9877660745827093, 0.15594288025897698 L -0.9875881154485855, 0.15706595501480033 \", \"type\": \"path\"}, {\"fillcolor\": \"#bf4d28\", \"layer\": \"below\", \"line\": {\"color\": \"rgb(175,175,175)\", \"width\": 0.5}, \"path\": \"M -0.9949935147463771,0.09993950976791471 Q -0.1817192921196743, -0.08353501584081058 -0.5719816507522201, -0.8202664147719114L -0.5719816507522201, -0.8202664147719114 L -0.578104809106054, -0.8159625173305775 L -0.5841955839932221, -0.8116129124421433 M -0.5841955839932221,-0.8116129124421433 Q -0.18176822198878936, -0.08342849318448822 -0.9962776059777568, 0.0862028527789504L -0.9962776059777568, 0.0862028527789504 L -0.9956592504435416, 0.09307339580247799 L -0.9949935147463771, 0.09993950976791471 \", \"type\": \"path\"}, {\"fillcolor\": \"#bf4d28\", \"layer\": \"below\", \"line\": {\"color\": \"rgb(175,175,175)\", \"width\": 0.5}, \"path\": \"M -0.9866421492894227,0.16290263731919294 Q -0.1610727486957854, -0.11855618763938208 -0.13771044687080286, -0.9904725300696854L -0.13771044687080286, -0.9904725300696854 L -0.13809930828158307, -0.9904183868709973 L -0.13848814840509005, -0.9903640910045809 M -0.13848814840509005,-0.9903640910045809 Q -0.16105638310111414, -0.11857841904152361 -0.9868144791041763, 0.16185544115152037L -0.9868144791041763, 0.16185544115152037 L -0.9867284531179848, 0.16237906209665298 L -0.9866421492894227, 0.16290263731919294 \", \"type\": \"path\"}, {\"fillcolor\": \"#bf4d28\", \"layer\": \"below\", \"line\": {\"color\": \"rgb(175,175,175)\", \"width\": 0.5}, \"path\": \"M -0.9935887760923715,0.11305460637790563 Q -0.14807223025605903, -0.13444186337222733 0.0168774399393134, -0.9998575658668063L 0.0168774399393134, -0.9998575658668063 L 0.009647392204628574, -0.9999534628289709 L 0.0024168400773970887, -0.9999970794377553 M 0.0024168400773970887,-0.9999970794377553 Q -0.14815765101304532, -0.13434772214777843 -0.9949935147463771, 0.09993950976791471L -0.9949935147463771, 0.09993950976791471 L -0.9943127693533578, 0.10649937418058528 L -0.9935887760923715, 0.11305460637790563 \", \"type\": \"path\"}, {\"fillcolor\": \"#bf4d28\", \"layer\": \"below\", \"line\": {\"color\": \"rgb(175,175,175)\", \"width\": 0.5}, \"path\": \"M -0.9999749173567417,-0.007082701276891735 Q -0.06084463156810879, -0.19052015853799067 0.8107709214165485, -0.5853635733331559L 0.8107709214165485, -0.5853635733331559 L 0.7981562048603498, -0.6024505561811055 L 0.7851814431875568, -0.619265775958841 M 0.7851814431875568,-0.619265775958841 Q -0.06112160442991241, -0.19043148235497542 -0.9989119283103368, -0.046636460836178714L -0.9989119283103368, -0.046636460836178714 L -0.9996390750761193, -0.026864839120322163 L -0.9999749173567417, -0.007082701276891735 \", \"type\": \"path\"}, {\"fillcolor\": \"#bf4d28\", \"layer\": \"below\", \"line\": {\"color\": \"rgb(175,175,175)\", \"width\": 0.5}, \"path\": \"M -0.9870344128068734,0.1605087783736163 Q -0.061033617547633756, -0.1904597005380644 0.8964854657697475, -0.44307314256632496L 0.8964854657697475, -0.44307314256632496 L 0.8961446710957446, -0.44376201782791164 L 0.8958033470779245, -0.4444506309636509 M 0.8958033470779245,-0.4444506309636509 Q -0.06102118040174688, -0.1904636856263615 -0.9873007249404456, 0.1588624516116711L -0.9873007249404456, 0.1588624516116711 L -0.987167912076706, 0.15968567050965118 L -0.9870344128068734, 0.1605087783736163 \", \"type\": \"path\"}, {\"fillcolor\": \"#bf4d28\", \"layer\": \"below\", \"line\": {\"color\": \"rgb(175,175,175)\", \"width\": 0.5}, \"path\": \"M -0.9986538010585576,0.05187085531678495 Q -0.02375854108264196, -0.19858381536677258 0.98270487655296, -0.18517863159401415L 0.98270487655296, -0.18517863159401415 L 0.9807313480900144, -0.19536126246915764 L 0.9786523117776552, -0.20552287622610552 M 0.9786523117776552,-0.20552287622610552 Q -0.023635478658568358, -0.19859849986487904 -0.9995527153908395, 0.029906005330023896L -0.9995527153908395, 0.029906005330023896 L -0.9991636173590109, 0.040890900528798284 L -0.9986538010585576, 0.05187085531678495 \", \"type\": \"path\"}, {\"fillcolor\": \"#bf4d28\", \"layer\": \"below\", \"line\": {\"color\": \"rgb(175,175,175)\", \"width\": 0.5}, \"path\": \"M -0.9962776059777568,0.0862028527789504 Q -0.015144887459447108, -0.1994257565708118 0.997869755369059, -0.06523765262250289L 0.997869755369059, -0.06523765262250289 L 0.9974383315090823, -0.07153163521392514 L 0.9969672092609831, -0.07782277082170133 M 0.9969672092609831,-0.07782277082170133 Q -0.014966836477086316, -0.19943919826821446 -0.9974158146102995, 0.07184492163871149L -0.9974158146102995, 0.07184492163871149 L -0.996872560245633, 0.07902593643429247 L -0.9962776059777568, 0.0862028527789504 \", \"type\": \"path\"}, {\"fillcolor\": \"#af4624\", \"layer\": \"below\", \"line\": {\"color\": \"rgb(175,175,175)\", \"width\": 0.5}, \"path\": \"M -0.9967003925489778,-0.08116851293890796 Q -0.19575469430499026, -0.040989018743558765 -0.9455365597617243, -0.32551591997007306L -0.9455365597617243, -0.32551591997007306 L -0.9459219022615152, -0.3243944432661516 L -0.946305914607025, -0.32327251039913996 M -0.946305914607025,-0.32327251039913996 Q -0.1957503980030002, -0.041009531595313516 -0.996487556573823, -0.0837409672354688L -0.996487556573823, -0.0837409672354688 L -0.9965948045782529, -0.0824548087599135 L -0.9967003925489778, -0.08116851293890796 \", \"type\": \"path\"}, {\"fillcolor\": \"#af4624\", \"layer\": \"below\", \"line\": {\"color\": \"rgb(175,175,175)\", \"width\": 0.5}, \"path\": \"M -0.996487556573823,-0.0837409672354688 Q -0.19186032995325564, -0.05647666589156869 -0.8829363481404773, -0.46949271041450463L -0.8829363481404773, -0.46949271041450463 L -0.8835749844000874, -0.46828970407471615 L -0.8842119815569514, -0.4670858290198169 M -0.8842119815569514,-0.4670858290198169 Q -0.19186436140056579, -0.056462968610878794 -0.9962680811811873, -0.08631286358101653L -0.9962680811811873, -0.08631286358101653 L -0.9963786487143317, -0.08502698622321275 L -0.996487556573823, -0.0837409672354688 \", \"type\": \"path\"}, {\"fillcolor\": \"#af4624\", \"layer\": \"below\", \"line\": {\"color\": \"rgb(175,175,175)\", \"width\": 0.5}, \"path\": \"M -0.9925917120365532,-0.12149770860532433 Q -0.17408845756897456, -0.0984540956042731 -0.6156436144307336, -0.7880247077412371L -0.6156436144307336, -0.7880247077412371 L -0.6201702514948088, -0.7844672454353118 L -0.6246763324074077, -0.7808837811928416 M -0.6246763324074077,-0.7808837811928416 Q -0.17413204929239678, -0.09837697601182044 -0.9912443140192718, -0.1320405616636918L -0.9912443140192718, -0.1320405616636918 L -0.9919320201036433, -0.12677092526721342 L -0.9925917120365532, -0.12149770860532433 \", \"type\": \"path\"}, {\"fillcolor\": \"#af4624\", \"layer\": \"below\", \"line\": {\"color\": \"rgb(175,175,175)\", \"width\": 0.5}, \"path\": \"M -0.9969541389381832,-0.0779900304784254 Q -0.14571283811171087, -0.1369955065300696 -0.13926576455053374, -0.9902550413020654L -0.13926576455053374, -0.9902550413020654 L -0.1394323854263944, -0.9902315940699455 L -0.13959900235460598, -0.9902081188021025 M -0.13959900235460598,-0.9902081188021025 Q -0.14570468739914527, -0.1370041753740278 -0.9969185099768094, -0.07844414870223344L -0.9969185099768094, -0.07844414870223344 L -0.996936350314634, -0.07821709161901448 L -0.9969541389381832, -0.0779900304784254 \", \"type\": \"path\"}, {\"fillcolor\": \"#af4624\", \"layer\": \"below\", \"line\": {\"color\": \"rgb(175,175,175)\", \"width\": 0.5}, \"path\": \"M -0.9897415976289915,-0.14286906566087523 Q -0.13074703089842665, -0.1513446857714068 0.0024168400773970887, -0.9999970794377553L 0.0024168400773970887, -0.9999970794377553 L -0.004148953196004002, -0.999991393056649 L -0.010714567609386848, -0.9999425973729411 M -0.010714567609386848,-0.9999425973729411 Q -0.13083300529943984, -0.15127036961783613 -0.9879566928246143, -0.15473064694187366L -0.9879566928246143, -0.15473064694187366 L -0.9888669305287745, -0.14880253259471043 L -0.9897415976289915, -0.14286906566087523 \", \"type\": \"path\"}, {\"fillcolor\": \"#af4624\", \"layer\": \"below\", \"line\": {\"color\": \"rgb(175,175,175)\", \"width\": 0.5}, \"path\": \"M -0.9694856866402892,-0.24514792146703382 Q -0.03299190606678207, -0.19726006725660578 0.8369521255127816, -0.5472761091073107L 0.8369521255127816, -0.5472761091073107 L 0.8240815940052948, -0.5664711170233593 L 0.8107709214165485, -0.5853635733331559 M 0.8107709214165485,-0.5853635733331559 Q -0.0332976410380429, -0.19720868921348686 -0.9580164596497882, -0.2867132069509282L -0.9580164596497882, -0.2867132069509282 L -0.9639751289465683, -0.26599238856111446 L -0.9694856866402892, -0.24514792146703382 \", \"type\": \"path\"}, {\"fillcolor\": \"#af4624\", \"layer\": \"below\", \"line\": {\"color\": \"rgb(175,175,175)\", \"width\": 0.5}, \"path\": \"M -0.9968224881500863,-0.07965505080201152 Q -0.03785243481843998, -0.19638531813329568 0.8958033470779245, -0.4444506309636509L 0.8958033470779245, -0.4444506309636509 L 0.8954925933379781, -0.4450764150983766 L 0.8951814024421255, -0.44570198195851607 M 0.8951814024421255,-0.44570198195851607 Q -0.03784055435479045, -0.1963876076694305 -0.9967003925489778, -0.08116851293890796L -0.9967003925489778, -0.08116851293890796 L -0.9967617276007259, -0.08041180504388862 L -0.9968224881500863, -0.07965505080201152 \", \"type\": \"path\"}, {\"fillcolor\": \"#af4624\", \"layer\": \"below\", \"line\": {\"color\": \"rgb(175,175,175)\", \"width\": 0.5}, \"path\": \"M -0.9853902444898747,-0.17031167330569263 Q -0.0035850084356063372, -0.19996786670491995 0.9786523117776552, -0.20552287622610552L 0.9786523117776552, -0.20552287622610552 L 0.9767141803941723, -0.21454465692936767 L 0.9746928828918391, -0.2235481693953133 M 0.9746928828918391,-0.2235481693953133 Q -0.0034718464402473843, -0.19996986343520703 -0.9818655289233316, -0.18957869899360083L -0.9818655289233316, -0.18957869899360083 L -0.9836750602087118, -0.17995381608453695 L -0.9853902444898747, -0.17031167330569263 \", \"type\": \"path\"}, {\"fillcolor\": \"#af4624\", \"layer\": \"below\", \"line\": {\"color\": \"rgb(175,175,175)\", \"width\": 0.5}, \"path\": \"M -0.9879566928246143,-0.15473064694187366 Q 0.010383695684699568, -0.19973026526775445 0.9986756528681173, -0.051448424353323995L 0.9986756528681173, -0.051448424353323995 L 0.9982965128118515, -0.058344429962909436 L 0.997869755369059, -0.06523765262250289 M 0.997869755369059,-0.06523765262250289 Q 0.010581251350532683, -0.19971989665493234 -0.9853902444898747, -0.17031167330569263L -0.9853902444898747, -0.17031167330569263 L -0.9867042240954256, -0.1625262260444267 L -0.9879566928246143, -0.15473064694187366 \", \"type\": \"path\"}, {\"fillcolor\": \"#9f4021\", \"layer\": \"below\", \"line\": {\"color\": \"rgb(175,175,175)\", \"width\": 0.5}, \"path\": \"M -0.9226609325714107,-0.3856122450162271 Q -0.17727029802265104, -0.09260259952593383 -0.8435634811498056, -0.537029471510104L -0.8435634811498056, -0.537029471510104 L -0.8479239130330604, -0.5301179469766168 L -0.8522277184057233, -0.5231710198214109 M -0.8522277184057233,-0.5231710198214109 Q -0.17736808781315372, -0.09241515798561074 -0.9170804443533563, -0.3987022179329461L -0.9170804443533563, -0.3987022179329461 L -0.9198939723359423, -0.3921671578039148 L -0.9226609325714107, -0.3856122450162271 \", \"type\": \"path\"}, {\"fillcolor\": \"#9f4021\", \"layer\": \"below\", \"line\": {\"color\": \"rgb(175,175,175)\", \"width\": 0.5}, \"path\": \"M -0.9271686697098763,-0.3746441750627098 Q -0.15732652620643794, -0.12348426681895552 -0.5841955839932221, -0.8116129124421433L -0.5841955839932221, -0.8116129124421433 L -0.5898552167948318, -0.8075090236151681 L -0.5954860213977788, -0.8033656691195138 M -0.5954860213977788,-0.8033656691195138 Q -0.15745755292128572, -0.12331714815077631 -0.9226609325714107, -0.3856122450162271L -0.9226609325714107, -0.3856122450162271 L -0.924931059057194, -0.38013489183622384 L -0.9271686697098763, -0.3746441750627098 \", \"type\": \"path\"}, {\"fillcolor\": \"#9f4021\", \"layer\": \"below\", \"line\": {\"color\": \"rgb(175,175,175)\", \"width\": 0.5}, \"path\": \"M -0.942219205008714,-0.3349969697068122 Q -0.12508114315595903, -0.15605994882351618 -0.12180521089679083, -0.9925540240200471L -0.12180521089679083, -0.9925540240200471 L -0.12336381707217009, -0.9923615110620646 L -0.1249221189935857, -0.9921665506285486 M -0.1249221189935857,-0.9921665506285486 Q -0.12502141211533216, -0.15610780413768005 -0.940903430364939, -0.33867496914813544L -0.940903430364939, -0.33867496914813544 L -0.9415631135957513, -0.33683661189941094 L -0.942219205008714, -0.3349969697068122 \", \"type\": \"path\"}, {\"fillcolor\": \"#9f4021\", \"layer\": \"below\", \"line\": {\"color\": \"rgb(175,175,175)\", \"width\": 0.5}, \"path\": \"M -0.9098727736005201,-0.4148873773212396 Q -0.1004699655055566, -0.17293289459010472 0.09022592848508833, -0.9959213231119232L 0.09022592848508833, -0.9959213231119232 L 0.07805193958287954, -0.996949293960004 L 0.0658663004350972, -0.9978284574349409 M 0.0658663004350972,-0.9978284574349409 Q -0.10080931227182609, -0.17273529621730893 -0.9011735609499261, -0.4334584328915864L -0.9011735609499261, -0.4334584328915864 L -0.9055707744281508, -0.42419520565607427 L -0.9098727736005201, -0.4148873773212396 \", \"type\": \"path\"}, {\"fillcolor\": \"#9f4021\", \"layer\": \"below\", \"line\": {\"color\": \"rgb(175,175,175)\", \"width\": 0.5}, \"path\": \"M -0.940903430364939,-0.33867496914813544 Q -0.0578392801783591, -0.19145395704568052 0.5960024810849804, -0.8029825916796376L 0.5960024810849804, -0.8029825916796376 L 0.5937784934075856, -0.8046285483169348 L 0.5915499601809903, -0.8062683452857794 M 0.5915499601809903,-0.8062683452857794 Q -0.05791492982466576, -0.19143108656486293 -0.9392864043240502, -0.34313415838706146L -0.9392864043240502, -0.34313415838706146 L -0.9400975612717646, -0.3409055225291618 L -0.940903430364939, -0.33867496914813544 \", \"type\": \"path\"}, {\"fillcolor\": \"#9f4021\", \"layer\": \"below\", \"line\": {\"color\": \"rgb(175,175,175)\", \"width\": 0.5}, \"path\": \"M -0.9484494646249152,-0.31692840366983777 Q -0.014116822610362066, -0.19950116621059533 0.894370261314025, -0.4473274367586709L 0.894370261314025, -0.4473274367586709 L 0.8941826556585842, -0.4477023322692901 L 0.8939948928572253, -0.44807714909956986 M 0.8939948928572253,-0.44807714909956986 Q -0.014116959748416341, -0.19950115650657665 -0.9481838448251707, -0.317722200062502L -0.9481838448251707, -0.317722200062502 L -0.9483167377817785, -0.31732532965857846 L -0.9484494646249152, -0.31692840366983777 \", \"type\": \"path\"}, {\"fillcolor\": \"#9f4021\", \"layer\": \"below\", \"line\": {\"color\": \"rgb(175,175,175)\", \"width\": 0.5}, \"path\": \"M -0.9476951498344143,-0.3191769148612209 Q 0.0027159282604481798, -0.19998155848398647 0.9560134439632767, -0.293322851072798L 0.9560134439632767, -0.293322851072798 L 0.9556981634696959, -0.29434846753575994 L 0.9553817826894988, -0.29537374511800335 M 0.9553817826894988,-0.29537374511800335 Q 0.0027105968700325733, -0.1999816308179533 -0.9470251510345133, -0.32115940482579225L -0.9470251510345133, -0.32115940482579225 L -0.9473606690156737, -0.3201683351022945 L -0.9476951498344143, -0.3191769148612209 \", \"type\": \"path\"}, {\"fillcolor\": \"#9f4021\", \"layer\": \"below\", \"line\": {\"color\": \"rgb(175,175,175)\", \"width\": 0.5}, \"path\": \"M -0.9446246276566076,-0.3281528802625621 Q 0.021974265977582244, -0.1987891637759626 0.9934907848150171, -0.11391251242792158L 0.9934907848150171, -0.11391251242792158 L 0.9933002981329568, -0.11556174855452436 L 0.993107073652073, -0.11721066616232599 M 0.993107073652073,-0.11721066616232599 Q 0.02199089879435208, -0.19878732447069297 -0.9434743716981598, -0.33144548563642034L -0.9434743716981598, -0.33144548563642034 L -0.9440509351479165, -0.3297996844242643 L -0.9446246276566076, -0.3281528802625621 \", \"type\": \"path\"}, {\"fillcolor\": \"#8f391e\", \"layer\": \"below\", \"line\": {\"color\": \"rgb(175,175,175)\", \"width\": 0.5}, \"path\": \"M -0.8115734769427446,-0.5842503671569786 Q -0.1214014745091417, -0.15893923992207282 -0.35015684626100535, -0.9366910819563442L -0.35015684626100535, -0.9366910819563442 L -0.3814620316738412, -0.9243845078706509 L -0.4123356056151688, -0.9110320237741217 M -0.4123356056151688,-0.9110320237741217 Q -0.12153977242250756, -0.15883350943514746 -0.7715686672213112, -0.6361460459378251L -0.7715686672213112, -0.6361460459378251 L -0.7919962452727426, -0.6105259597051362 L -0.8115734769427446, -0.5842503671569786 \", \"type\": \"path\"}, {\"fillcolor\": \"#8f391e\", \"layer\": \"below\", \"line\": {\"color\": \"rgb(175,175,175)\", \"width\": 0.5}, \"path\": \"M -0.8747573551853107,-0.484561213418078 Q -0.11058885559498358, -0.1666436467981659 -0.10664941302026418, -0.9942966874642765L -0.10664941302026418, -0.9942966874642765 L -0.10960462212944178, -0.9939752646861301 L -0.11255886270932292, -0.9936450585725185 M -0.11255886270932292,-0.9936450585725185 Q -0.11037652213027356, -0.16678436186413054 -0.8706106968813697, -0.4919725749223586L -0.8706106968813697, -0.4919725749223586 L -0.8726918937194252, -0.48827129614221987 L -0.8747573551853107, -0.484561213418078 \", \"type\": \"path\"}, {\"fillcolor\": \"#8f391e\", \"layer\": \"below\", \"line\": {\"color\": \"rgb(175,175,175)\", \"width\": 0.5}, \"path\": \"M -0.7715686672213112,-0.6361460459378251 Q -0.05025969254193788, -0.19358192918139305 0.3646531720967768, -0.931143417567755L 0.3646531720967768, -0.931143417567755 L 0.3313071048954153, -0.9435229738834229 L 0.29754186343506595, -0.9547087720889489 M 0.29754186343506595,-0.9547087720889489 Q -0.05050763424860399, -0.19351738651245073 -0.7261612918076589, -0.6875243837713919L -0.7261612918076589, -0.6875243837713919 L -0.749305472382836, -0.6622245155965876 L -0.7715686672213112, -0.6361460459378251 \", \"type\": \"path\"}, {\"fillcolor\": \"#8f391e\", \"layer\": \"below\", \"line\": {\"color\": \"rgb(175,175,175)\", \"width\": 0.5}, \"path\": \"M -0.8706106968813697,-0.4919725749223586 Q -0.03927370739069727, -0.19610603230851897 0.6140141634405142, -0.7892950063787593L 0.6140141634405142, -0.7892950063787593 L 0.6101530277249774, -0.7922835873335021 L 0.6062773459703283, -0.7952532802592988 M 0.6062773459703283,-0.7952532802592988 Q -0.039288517020769236, -0.19610306583607695 -0.8658406042931809, -0.5003199455920374L -0.8658406042931809, -0.5003199455920374 L -0.8682356822815863, -0.49615199285403283 L -0.8706106968813697, -0.4919725749223586 \", \"type\": \"path\"}, {\"fillcolor\": \"#8f391e\", \"layer\": \"below\", \"line\": {\"color\": \"rgb(175,175,175)\", \"width\": 0.5}, \"path\": \"M -0.8799851547346064,-0.47500118678452885 Q 0.004557964455860466, -0.19994805565451024 0.9007158305790913, -0.434408785067956L 0.9007158305790913, -0.434408785067956 L 0.8997728098427502, -0.4363586720436321 L 0.898825567959643, -0.43830651190921766 M 0.898825567959643,-0.43830651190921766 Q 0.004621491610877838, -0.19994659740863457 -0.8776148138509304, -0.47936649706607226L -0.8776148138509304, -0.47936649706607226 L -0.8788026947935661, -0.47718531371320116 L -0.8799851547346064, -0.47500118678452885 \", \"type\": \"path\"}, {\"fillcolor\": \"#8f391e\", \"layer\": \"below\", \"line\": {\"color\": \"rgb(175,175,175)\", \"width\": 0.5}, \"path\": \"M -0.8871136277916581,-0.4615510929315664 Q 0.01723857368333963, -0.1992556939647248 0.9532012422613281, -0.302336553779825L 0.9532012422613281, -0.302336553779825 L 0.9531363399590471, -0.3025411004301264 L 0.9530713937632739, -0.3027456331479128 M 0.9530713937632739,-0.3027456331479128 Q 0.0172437062780994, -0.1992552498525312 -0.8868916527750638, -0.4619774845573274L -0.8868916527750638, -0.4619774845573274 L -0.8870026659047355, -0.46176430208266656 L -0.8871136277916581, -0.4615510929315664 \", \"type\": \"path\"}, {\"fillcolor\": \"#8f391e\", \"layer\": \"below\", \"line\": {\"color\": \"rgb(175,175,175)\", \"width\": 0.5}, \"path\": \"M -0.8868916527750638,-0.4619774845573274 Q 0.034833970444156974, -0.19694312504653622 0.9915491533281977, -0.1297315556606577L 0.9915491533281977, -0.1297315556606577 L 0.99150602259152, -0.13006078257777912 L 0.9914627825406851, -0.1303899951556182 M 0.9914627825406851,-0.1303899951556182 Q 0.034847471230136644, -0.19694073664141912 -0.8865212390053337, -0.46268789998491194L -0.8865212390053337, -0.46268789998491194 L -0.8867065170369214, -0.46233272936733766 L -0.8868916527750638, -0.4619774845573274 \", \"type\": \"path\"}, {\"fillcolor\": \"#f0f3e7\", \"layer\": \"below\", \"line\": {\"color\": \"rgb(175,175,175)\", \"width\": 0.5}, \"path\": \"M -0.6156436144307336,-0.7880247077412371 Q -0.0737425809766284, -0.18590866507751974 -0.09191560404366356, -0.9957668008792463L -0.09191560404366356, -0.9957668008792463 L -0.09615936299087995, -0.9953659512506886 L -0.10040137470608178, -0.9949470156531598 M -0.10040137470608178,-0.9949470156531598 Q -0.07337283219000798, -0.18605490452126472 -0.6057442843996875, -0.7956593881285575L -0.6057442843996875, -0.7956593881285575 L -0.6107058800588884, -0.7918575175254059 L -0.6156436144307336, -0.7880247077412371 \", \"type\": \"path\"}, {\"fillcolor\": \"#f0f3e7\", \"layer\": \"below\", \"line\": {\"color\": \"rgb(175,175,175)\", \"width\": 0.5}, \"path\": \"M -0.35015684626100535,-0.9366910819563442 Q 0.010871922931087798, -0.1997042846104722 0.4497732015948424, -0.8931428033226967L 0.4497732015948424, -0.8931428033226967 L 0.40765621694249965, -0.9131354821646839 L 0.3646531720967768, -0.931143417567755 M 0.3646531720967768,-0.931143417567755 Q 0.010775025706238483, -0.1997095361294245 -0.26235110890175917, -0.9649724844046162L -0.26235110890175917, -0.9649724844046162 L -0.30658026390413295, -0.9518448097166219 L -0.35015684626100535, -0.9366910819563442 \", \"type\": \"path\"}, {\"fillcolor\": \"#f0f3e7\", \"layer\": \"below\", \"line\": {\"color\": \"rgb(175,175,175)\", \"width\": 0.5}, \"path\": \"M -0.5186411014641737,-0.8549920513502033 Q 0.028079132887982118, -0.19801909578689386 0.7358918242900139, -0.6770991234251564L 0.7358918242900139, -0.6770991234251564 L 0.7242699730389046, -0.6895165017272787 L 0.7124386203894121, -0.7017344313753111 M 0.7124386203894121,-0.7017344313753111 Q 0.028115118195653568, -0.198013989730131 -0.4889465828210443, -0.8723137274786082L -0.4889465828210443, -0.8723137274786082 L -0.5038682818919905, -0.8637805013446492 L -0.5186411014641737, -0.8549920513502033 \", \"type\": \"path\"}, {\"fillcolor\": \"#f0f3e7\", \"layer\": \"below\", \"line\": {\"color\": \"rgb(175,175,175)\", \"width\": 0.5}, \"path\": \"M -0.5719816507522201,-0.8202664147719114 Q 0.054142674604530705, -0.19253199938365548 0.9156764158726676, -0.40191628657543305L 0.9156764158726676, -0.40191628657543305 L 0.9129599985417503, -0.4080490669792633 L 0.9102025072148161, -0.41416348928878643 M 0.9102025072148161,-0.41416348928878643 Q 0.05437140466007215, -0.1924675306520315 -0.5589577608680214, -0.8291961297337367L -0.5589577608680214, -0.8291961297337367 L -0.565487332432221, -0.8247569804849734 L -0.5719816507522201, -0.8202664147719114 \", \"type\": \"path\"}, {\"fillcolor\": \"#f0f3e7\", \"layer\": \"below\", \"line\": {\"color\": \"rgb(175,175,175)\", \"width\": 0.5}, \"path\": \"M -0.6395883790533932,-0.7687175719208278 Q 0.05795685829199824, -0.19141839665225815 0.9585775720106842, -0.28483159662878277L 0.9585775720106842, -0.28483159662878277 L 0.9578820006676793, -0.2871621019509435 L 0.9571807633812308, -0.28949090868786237 M 0.9571807633812308,-0.28949090868786237 Q 0.058026586533413874, -0.19139727076236024 -0.6352791385222393, -0.7722826012273237L -0.6352791385222393, -0.7722826012273237 L -0.6374362510877876, -0.7705030991496057 L -0.6395883790533932, -0.7687175719208278 \", \"type\": \"path\"}, {\"fillcolor\": \"#f0f3e7\", \"layer\": \"below\", \"line\": {\"color\": \"rgb(175,175,175)\", \"width\": 0.5}, \"path\": \"M -0.6352791385222393,-0.7722826012273237 Q 0.07541878226773296, -0.18523500555038805 0.9940530466766626, -0.10889692554358348L 0.9940530466766626, -0.10889692554358348 L 0.9937750799618117, -0.11140507370355605 L 0.9934907848150171, -0.11391251242792158 M 0.9934907848150171,-0.11391251242792158 Q 0.07553025532891823, -0.18518957997130514 -0.6304394197638703, -0.7762384543474992L -0.6304394197638703, -0.7762384543474992 L -0.6328623700228545, -0.7742643092698097 L -0.6352791385222393, -0.7722826012273237 \", \"type\": \"path\"}, {\"fillcolor\": \"#e2ecde\", \"layer\": \"below\", \"line\": {\"color\": \"rgb(175,175,175)\", \"width\": 0.5}, \"path\": \"M -0.09191560404366356,-0.9957668008792463 Q -0.010271508852107048, -0.19973606611200967 -0.010714567609386848, -0.9999425973729411L -0.010714567609386848, -0.9999425973729411 L -0.017030422350580974, -0.9998549718406969 L -0.023345597617104422, -0.9997274543953968 M -0.023345597617104422,-0.9997274543953968 Q -0.010681709137304632, -0.19971454901910884 -0.08342315292283031, -0.996514213424181L -0.08342315292283031, -0.996514213424181 L -0.0876701749742568, -0.9961495572553266 L -0.09191560404366356, -0.9957668008792463 \", \"type\": \"path\"}, {\"fillcolor\": \"#e2ecde\", \"layer\": \"below\", \"line\": {\"color\": \"rgb(175,175,175)\", \"width\": 0.5}, \"path\": \"M -0.13526569150181958,-0.9908093624419052 Q 0.04921897203895091, -0.19384914957623356 0.5915499601809903, -0.8062683452857794L 0.5915499601809903, -0.8062683452857794 L 0.5902369418035446, -0.8072300493232392 L 0.588922359952235, -0.8081896150955481 M 0.588922359952235,-0.8081896150955481 Q 0.04912091850314598, -0.19387401931514003 -0.1330424713558113, -0.9911103373568142L -0.1330424713558113, -0.9911103373568142 L -0.13415416583350742, -0.9909604733739463 L -0.13526569150181958, -0.9908093624419052 \", \"type\": \"path\"}, {\"fillcolor\": \"#e2ecde\", \"layer\": \"below\", \"line\": {\"color\": \"rgb(175,175,175)\", \"width\": 0.5}, \"path\": \"M -0.13926576455053374,-0.9902550413020654 Q 0.09316364559469911, -0.17697608634927292 0.8951814024421255, -0.44570198195851607L 0.8951814024421255, -0.44570198195851607 L 0.8949633087886065, -0.44613974931869654 L 0.8947450010552971, -0.44657740995997136 M 0.8947450010552971,-0.44657740995997136 Q 0.09314657168473285, -0.17698507333495933 -0.13848814840509005, -0.9903640910045809L -0.13848814840509005, -0.9903640910045809 L -0.13887696718138537, -0.9903096424788059 L -0.13926576455053374, -0.9902550413020654 \", \"type\": \"path\"}, {\"fillcolor\": \"#e2ecde\", \"layer\": \"below\", \"line\": {\"color\": \"rgb(175,175,175)\", \"width\": 0.5}, \"path\": \"M -0.13682154117468687,-0.9905957126247739 Q 0.10739527238630071, -0.16871945788518963 0.9553817826894988, -0.29537374511800335L 0.9553817826894988, -0.29537374511800335 L 0.9550855015795879, -0.29633036407440067 L 0.9547882626122082, -0.29728668584038725 M 0.9547882626122082,-0.29728668584038725 Q 0.10735878853265408, -0.16874267547008037 -0.13526569150181958, -0.9908093624419052L -0.13526569150181958, -0.9908093624419052 L -0.13604365827906514, -0.9907028429564785 L -0.13682154117468687, -0.9905957126247739 \", \"type\": \"path\"}, {\"fillcolor\": \"#e2ecde\", \"layer\": \"below\", \"line\": {\"color\": \"rgb(175,175,175)\", \"width\": 0.5}, \"path\": \"M -0.13982115210994528,-0.9901767748350027 Q 0.1209330228062826, -0.15929596352367228 0.9913236798424839, -0.13144337862196154L 0.9913236798424839, -0.13144337862196154 L 0.9913062133102626, -0.13157504114560717 L 0.9912887292913004, -0.13170670134825682 M 0.9912887292913004,-0.13170670134825682 Q 0.12092973475286224, -0.1592984596680156 -0.13959900235460598, -0.9902081188021025L -0.13959900235460598, -0.9902081188021025 L -0.1397100781112783, -0.990192453048467 L -0.13982115210994528, -0.9901767748350027 \", \"type\": \"path\"}, {\"fillcolor\": \"#d4e5d6\", \"layer\": \"below\", \"line\": {\"color\": \"rgb(175,175,175)\", \"width\": 0.5}, \"path\": \"M 0.15800153786862048,-0.987438865971535 Q 0.10124947209558738, -0.17247766348244886 0.7851814431875568, -0.619265775958841L 0.7851814431875568, -0.619265775958841 L 0.7732475966613406, -0.6341042140354066 L 0.7610333736979222, -0.6487127285000339 M 0.7610333736979222,-0.6487127285000339 Q 0.10131946353640278, -0.17243655734413033 0.19627994402863533, -0.9805478996826804L 0.19627994402863533, -0.9805478996826804 L 0.1771742460345952, -0.9841794991474232 L 0.15800153786862048, -0.987438865971535 \", \"type\": \"path\"}, {\"fillcolor\": \"#d4e5d6\", \"layer\": \"below\", \"line\": {\"color\": \"rgb(175,175,175)\", \"width\": 0.5}, \"path\": \"M 0.03150065116760726,-0.9995037313467202 Q 0.11310245204952696, -0.1649479776789775 0.9209855415542867, -0.38959675595153165L 0.9209855415542867, -0.38959675595153165 L 0.9183516369961732, -0.39576542399058684 L 0.9156764158726676, -0.40191628657543305 M 0.9156764158726676,-0.40191628657543305 Q 0.11331204870466625, -0.1648040643259484 0.047445450205650434, -0.9988738304985185L 0.047445450205650434, -0.9988738304985185 L 0.039474307141212896, -0.9992205857946088 L 0.03150065116760726, -0.9995037313467202 \", \"type\": \"path\"}, {\"fillcolor\": \"#d4e5d6\", \"layer\": \"below\", \"line\": {\"color\": \"rgb(175,175,175)\", \"width\": 0.5}, \"path\": \"M -0.052080720756965265,-0.9986428783731625 Q 0.11415013484426242, -0.16422468363506357 0.9541909122984084, -0.29919843396503787L 0.9541909122984084, -0.29919843396503787 L 0.9539122697625415, -0.3000856237750757 L 0.9536328023334989, -0.3009725540868432 M 0.9536328023334989,-0.3009725540868432 Q 0.11417485451283285, -0.16420749860153602 -0.049922634763139746, -0.9987530878742283L -0.049922634763139746, -0.9987530878742283 L -0.051001707529000635, -0.9986985660493992 L -0.052080720756965265, -0.9986428783731625 \", \"type\": \"path\"}, {\"fillcolor\": \"#d4e5d6\", \"layer\": \"below\", \"line\": {\"color\": \"rgb(175,175,175)\", \"width\": 0.5}, \"path\": \"M -0.03381331953978826,-0.9994281662139106 Q 0.13251101166333243, -0.14980264279364428 0.9960840592595009, -0.08841123734636354L 0.9960840592595009, -0.08841123734636354 L 0.9957054563751065, -0.09257777349256509 L 0.9953094252960691, -0.09674268921633576 M 0.9953094252960691,-0.09674268921633576 Q 0.132668578362091, -0.1496631160820251 -0.023345597617104422, -0.9997274543953968L -0.023345597617104422, -0.9997274543953968 L -0.02857985034934665, -0.9995915126460453 L -0.03381331953978826, -0.9994281662139106 \", \"type\": \"path\"}, {\"fillcolor\": \"#c6decd\", \"layer\": \"below\", \"line\": {\"color\": \"rgb(175,175,175)\", \"width\": 0.5}, \"path\": \"M 0.6140141634405142,-0.7892950063787593 Q 0.1569700644778438, -0.12393707620329585 0.9102025072148161, -0.41416348928878643L 0.9102025072148161, -0.41416348928878643 L 0.9079904453223672, -0.41899087245820693 L 0.905752780963089, -0.4238064414064876 M 0.905752780963089,-0.4238064414064876 Q 0.15707839763789905, -0.12379974553895526 0.623729984016468, -0.7816398832191309L 0.623729984016468, -0.7816398832191309 L 0.6188839098479214, -0.7854824671062683 L 0.6140141634405142, -0.7892950063787593 \", \"type\": \"path\"}, {\"fillcolor\": \"#c6decd\", \"layer\": \"below\", \"line\": {\"color\": \"rgb(175,175,175)\", \"width\": 0.5}, \"path\": \"M 0.694042687933939,-0.7199338492704959 Q 0.17706473111272503, -0.09299505898690741 0.9866625806782399, -0.162778843494343L 0.9866625806782399, -0.162778843494343 L 0.9847474209293711, -0.17398999101371315 L 0.98270487655296, -0.18517863159401415 M 0.98270487655296,-0.18517863159401415 Q 0.17721008350299117, -0.09271777771745231 0.7124386203894121, -0.7017344313753111L 0.7124386203894121, -0.7017344313753111 L 0.7032995253579173, -0.7108936472014138 L 0.694042687933939, -0.7199338492704959 \", \"type\": \"path\"}, {\"fillcolor\": \"#c6decd\", \"layer\": \"below\", \"line\": {\"color\": \"rgb(175,175,175)\", \"width\": 0.5}, \"path\": \"M 0.6761418782177756,-0.7367714438821165 Q 0.18180570357924666, -0.0833467824577236 0.9995065603657314, -0.031410759078132795L 0.9995065603657314, -0.031410759078132795 L 0.9991413395153114, -0.041431674737443476 L 0.9986756528681173, -0.051448424353323995 M 0.9986756528681173,-0.051448424353323995 Q 0.1819936302350815, -0.0829356289772763 0.694042687933939, -0.7199338492704959L 0.694042687933939, -0.7199338492704959 L 0.6851440085691233, -0.7284076382917968 L 0.6761418782177756, -0.7367714438821165 \", \"type\": \"path\"}, {\"fillcolor\": \"#b8d7c5\", \"layer\": \"below\", \"line\": {\"color\": \"rgb(175,175,175)\", \"width\": 0.5}, \"path\": \"M 0.893681605731445,-0.44870166879260226 Q 0.18529428145690696, -0.07527303142140979 0.9534172662220133, -0.30165463110939095L 0.9534172662220133, -0.30165463110939095 L 0.9533093152159178, -0.30199561176043255 L 0.9532012422613281, -0.302336553779825 M 0.9532012422613281,-0.302336553779825 Q 0.18529365565828404, -0.07527457188712046 0.8939948928572253, -0.44807714909956986L 0.8939948928572253, -0.44807714909956986 L 0.8938383038378775, -0.4483894363075765 L 0.893681605731445, -0.44870166879260226 \", \"type\": \"path\"}, {\"fillcolor\": \"#b8d7c5\", \"layer\": \"below\", \"line\": {\"color\": \"rgb(175,175,175)\", \"width\": 0.5}, \"path\": \"M 0.8933678823338351,-0.44932596944129427 Q 0.19116241238655887, -0.05879568088347312 0.9914627825406851, -0.1303899951556182L 0.9914627825406851, -0.1303899951556182 L 0.9914194331804604, -0.130719193357879 L 0.9913759745156252, -0.13104837714826725 M 0.9913759745156252,-0.13104837714826725 Q 0.19116342993730315, -0.05879237241858673 0.893681605731445, -0.44870166879260226L 0.893681605731445, -0.44870166879260226 L 0.8935247985570518, -0.4490138465165413 L 0.8933678823338351, -0.44932596944129427 \", \"type\": \"path\"}, {\"fillcolor\": \"#aad0bc\", \"layer\": \"below\", \"line\": {\"color\": \"rgb(175,175,175)\", \"width\": 0.5}, \"path\": \"M 0.9617746576575708,-0.27384212219390663 Q 0.19650807405578702, -0.03720990232297486 0.9953094252960691, -0.09674268921633576L 0.9953094252960691, -0.09674268921633576 L 0.9949827147002971, -0.1000469762043173 L 0.9946450343680456, -0.10335016016915159 M 0.9946450343680456,-0.10335016016915159 Q 0.19651760103391072, -0.03715955440901701 0.9637088864572333, -0.26695539358357107L 0.9637088864572333, -0.26695539358357107 L 0.9627479298455878, -0.2704004873849808 L 0.9617746576575708, -0.27384212219390663 \", \"type\": \"path\"}, {\"fillcolor\": \"#f2e6ce\", \"layer\": \"below\", \"line\": {\"color\": \"rgb(150,150,150)\", \"width\": 0.45}, \"path\": \"M 1.1, 0.0 L 1.0997435792523331, 0.02374994512135983 L 1.0989744365576954, 0.047488817554201354 L 1.097692930505441, 0.07120554977231001 L 1.0958996585587342, 0.09488908457167206 L 1.0935954567759987, 0.11852838022555896 L 1.090781399421133, 0.14211241563239643 L 1.0874587984626656, 0.1656301954540171 L 1.083629202962091, 0.18907075524190226 L 1.079294398351667, 0.21242316654902177 L 1.0744564056020098, 0.2356765420248898 L 1.0691174802798797, 0.25882004049146046 L 1.063280111496591, 0.28184287199749647 L 1.0569470207475398, 0.3047343028490557 L 1.0501211606433893, 0.3274836606137489 L 0.9546556005848993, 0.2977124187397717 L 0.9608609279523088, 0.27703118440823243 L 0.966618283178719, 0.25622079272499676 L 0.9719249820726178, 0.23529094590132765 L 0.9767785505472816, 0.2142514018408089 L 0.9811767257742426, 0.19311196959001978 L 0.9851174572382646, 0.17188250476536568 L 0.9885989076933323, 0.15057290495819736 L 0.9916194540192117, 0.1291931051203604 L 0.9941776879781806, 0.10775307293232632 L 0.9962724168715765, 0.08626280415606549 L 0.9979026640958555, 0.06473231797482729 L 0.9990676695979048, 0.04317165232200123 L 0.9997668902293936, 0.02159085920123621 L 1.0, 0.0 L 1.1 ,0.0\", \"type\": \"path\"}, {\"fillcolor\": \"#ecd5bb\", \"layer\": \"below\", \"line\": {\"color\": \"rgb(150,150,150)\", \"width\": 0.45}, \"path\": \"M 1.039316478876382, 0.3603071699758407 L 1.031719679494147, 0.38151605856699494 L 1.0236901305650958, 0.4025649221971744 L 1.0152312000424908, 0.4234449320281025 L 1.0063464359815086, 0.444147330046366 L 0.9970395650510282, 0.46466343273691846 L 0.9873144909704972, 0.4849846347253368 L 0.977175292872537, 0.5051024123873015 L 0.9666262235919726, 0.5250083274237867 L 0.955671707882001, 0.5446940304004624 L 0.9443163405582518, 0.5641512642498215 L 0.9325648845715163, 0.5833718677345651 L 0.9204222690099503, 0.6023477788707907 L 0.9078935870315947, 0.6210710383095516 L 0.8949840937280757, 0.6395337926753636 L 0.8816992039203838, 0.6577282978602651 L 0.8680444898876546, 0.6756469222720413 L 0.8540256790299047, 0.6932821500352584 L 0.839648651465703, 0.7106265841437587 L 0.824919437565786, 0.7276729495632963 L 0.809844215423648, 0.7444140962830139 L 0.7944293082641726, 0.7608430023144778 L 0.7786811817913878, 0.7769527766370153 L 0.7626064414764595, 0.7927366620881183 L 0.7462118297870608, 0.8081880381976998 L 0.7295042233592778, 0.8233004239650172 L 0.71249063011324, 0.8380674805770945 L 0.695178186313684, 0.8524830140675046 L 0.677574153576684, 0.8665409779143974 L 0.6596859158238038, 0.8802354755766831 L 0.6415209761849482, 0.8935607629673045 L 0.6230869538512145, 0.9065112508625663 L 0.6043915808790609, 0.9190815072465063 L 0.5854426989471351, 0.9312662595893263 L 0.5662482560671228, 0.9430603970589277 L 0.5468163032499939, 0.9544589726646248 L 0.5271549911290478, 0.9654572053321337 L 0.507272566541172, 0.9760504819089698 L 0.4871773690677479, 0.9862343590994118 L 0.46687782753665613, 0.9960045653282181 L 0.44638245648684843, 1.005357002532318 L 0.4256998525969678, 1.0142877478797228 L 0.4048386910795134, 1.0227930554149391 L 0.3838077220420707, 1.0308693576301882 L 0.348916110947337, 0.9371539614819892 L 0.3680351737086485, 0.9298118685590354 L 0.3869998659972434, 0.9220797707997479 L 0.4058022331698622, 0.9139609113930162 L 0.42443438866968736, 0.9054586957529255 L 0.4428885173343162, 0.8965766900903743 L 0.4611568786737927, 0.8873186199172453 L 0.47923181011731614, 0.8776883684837579 L 0.4971057302272671, 0.8676899751496588 L 0.5147711418792025, 0.8573276336899343 L 0.5322206354064863, 0.8466056905357511 L 0.5494468917082371, 0.8355286429513693 L 0.5664426853192859, 0.8241011371477875 L 0.583200887440862, 0.8123279663339131 L 0.5997144689307307, 0.8002140687060755 L 0.6159765032515309, 0.7877645253767249 L 0.6319801693760763, 0.7749845582431859 L 0.6477187546483999, 0.7618795277973586 L 0.6631856575993433, 0.7484549308772883 L 0.6783743907155098, 0.7347163983615452 L 0.6932785831604177, 0.7206696928073802 L 0.7078919834467161, 0.7063207060336503 L 0.7222084620583387, 0.6916754566495252 L 0.7362220140214981, 0.6767400875300126 L 0.7499267614234417, 0.6615208632393602 L 0.7633169558779117, 0.646024167403417 L 0.7763869809362769, 0.630256500032053 L 0.7891313544433223, 0.6142244747927648 L 0.8015447308367125, 0.5979348162366046 L 0.8136219033891597, 0.5813943569776032 L 0.8253578063923588, 0.564610034826865 L 0.8367475172817729, 0.547588889882537 L 0.8477862587013784, 0.5303380615768772 L 0.8584694005075015, 0.5128647856816559 L 0.8687924617109098, 0.49517639127314755 L 0.8787511123563386, 0.4772802976579878 L 0.88834117533867, 0.45918401126118313 L 0.8975586281549973, 0.4408951224775789 L 0.9063996045918438, 0.42242130248810766 L 0.9148603963468259, 0.40377030004215086 L 0.9229374545840824, 0.3849499382073659 L 0.9306273914228144, 0.3659681110883403 L 0.9379269813583154, 0.3468327805154499 L 0.9448331626148926, 0.3275519727053097 L 1.039316478876382 ,0.3603071699758407\", \"type\": \"path\"}, {\"fillcolor\": \"#e6c4a9\", \"layer\": \"below\", \"line\": {\"color\": \"rgb(150,150,150)\", \"width\": 0.45}, \"path\": \"M 0.3512379470665301, 1.0424163777207693 L 0.3287720109724563, 1.0497185169373395 L 0.30615444861742513, 1.0565365367992536 L 0.28339569098794826, 1.0628672929060634 L 0.2605062341883419, 1.0687078655783389 L 0.2374966346000315, 1.0740555612041955 L 0.2143775040130578, 1.0789079134815591 L 0.19115950473202856, 1.0832626845556002 L 0.16785334465877383, 1.0871178660508083 L 0.14446977235397118, 1.090471679997235 L 0.12101957208002176, 1.0933225796504746 L 0.09751355882745878, 1.0956692502050078 L 0.07396257332718553, 1.0975106094005747 L 0.050377477050842244, 1.0988458080213037 L 0.026769147201607234, 1.0996742302873606 L 0.003148471697743077, 1.099995494138939 L -0.020473655848799066, 1.0998094514124641 L -0.04408634115640092, 1.0991161879089224 L -0.06767869429810719, 1.0979160233542926 L -0.09123983472394856, 1.0962095112520902 L -0.11475889627893764, 1.0939974386280986 L -0.1382250322144286, 1.0912808256673991 L -0.16162742019052545, 1.0880609252438742 L -0.18495526726723377, 1.0843392223423933 L -0.2081978148820531, 1.0801174333739543 L -0.18927074080186645, 0.9819249394308674 L -0.1681411520611216, 0.9857629294021757 L -0.14693401835502312, 0.9891462956762491 L -0.12565912019493508, 0.9920734778794537 L -0.10432626934448876, 0.9945431260255441 L -0.08294530429449869, 0.9965541011382638 L -0.06152608572555199, 0.9981054757766296 L -0.04007849196036447, 0.9991965344626567 L -0.01861241440799915, 0.9998267740113309 L 0.002862246997948252, 0.9999959037626718 L 0.024335588365097485, 0.9997038457157822 L 0.04579770640985658, 0.9989507345648215 L 0.06723870302471412, 0.997736917636886 L 0.08864868984314433, 0.9960629547318252 L 0.11001779280001978, 0.9939296178640679 L 0.13133615668542833, 0.9913378909065771 L 0.15259394968979437, 0.9882889691370983 L 0.17378136793820775, 0.9847842586869092 L 0.1948886400118707, 0.9808253758923264 L 0.21590603145457407, 0.9764141465492685 L 0.23682384926212896, 0.9715526050712171 L 0.25763244635268023, 0.9662429935509667 L 0.278322226015841, 0.9604877607265941 L 0.2988836463385966, 0.9542895608521267 L 0.3193072246059364, 0.9476512524734265 L 0.3512379470665301 ,1.0424163777207693\", \"type\": \"path\"}, {\"fillcolor\": \"#e1b396\", \"layer\": \"below\", \"line\": {\"color\": \"rgb(150,150,150)\", \"width\": 0.45}, \"path\": \"M -0.24202239030421785, 1.0730448092188103 L -0.26605451497379246, 1.0673401496533617 L -0.28995249404290085, 1.0610973335176663 L -0.31370427806839624, 1.0543195084610673 L -0.3372978913191749, 1.0470100918862426 L -0.36072143781438126, 1.0391727692261405 L -0.38396310732140193, 1.0308114920857712 L -0.4070111813106258, 1.0219304762497932 L -0.4298540388639675, 1.0125341995569013 L -0.4524801625341729, 1.0026273996420847 L -0.4748781441519567, 0.9922150715478946 L -0.49703669057804006, 0.9813024652059272 L -0.5189446293971904, 0.9698950827897896 L -0.5405909145513916, 0.9579986759408857 L -0.5619646319093043, 0.945619242868418 L -0.5830550047692084, 0.9327630253250708 L -0.6038513992926525, 0.9194365054598961 L -0.548955817538775, 0.8358513685999055 L -0.5300500043356439, 0.8479663866591552 L -0.5108769380993675, 0.8596538571531073 L -0.4914462859558106, 0.8709078872189869 L -0.4717678449065367, 0.8817228025361723 L -0.45185153688912727, 0.8920931501872065 L -0.43170740377450606, 0.9020137014071768 L -0.4113456023037935, 0.9114794542200769 L -0.39077639896724314, 0.9204856359608193 L -0.3700101648278416, 0.9290277056816301 L -0.34905737029218353, 0.9371013564416101 L -0.3279285798312557, 0.9447025174783096 L -0.30663444665379536, 0.9518273562602205 L -0.28518570733490567, 0.958472280419152 L -0.26359317640263713, 0.9646339395615148 L -0.24186774088526583, 0.9703092269576014 L -0.2200203548220162, 0.9754952811080093 L -0.24202239030421785 ,1.0730448092188103\", \"type\": \"path\"}, {\"fillcolor\": \"#dba284\", \"layer\": \"below\", \"line\": {\"color\": \"rgb(150,150,150)\", \"width\": 0.45}, \"path\": \"M -0.6324336336396699, 0.9000153882247369 L -0.6542283605150239, 0.8842993001794268 L -0.675632710115426, 0.8680555518064987 L -0.6966339104912422, 0.8512938357310477 L -0.7172194302514967, 0.8340241536488728 L -0.6520176638649969, 0.7582037760444298 L -0.6333035549920384, 0.7739034870282251 L -0.6142115546503872, 0.7891414107331806 L -0.594753055013658, 0.8039084547085698 L -0.5749396669451544, 0.8181958074770335 L -0.6324336336396699 ,0.9000153882247369\", \"type\": \"path\"}, {\"fillcolor\": \"#d59171\", \"layer\": \"below\", \"line\": {\"color\": \"rgb(150,150,150)\", \"width\": 0.45}, \"path\": \"M -0.7430628575137477, 0.8110842063457433 L -0.773799117092248, 0.7818151484764526 L -0.8033833781821841, 0.7513821581995289 L -0.8317715970216695, 0.7198305428279781 L -0.8589215104645294, 0.6872072750352193 L -0.7808377367859357, 0.6247338863956539 L -0.7561559972924268, 0.6543914025708891 L -0.7303485256201673, 0.683074689272299 L -0.7034537428111345, 0.7107410440695023 L -0.6755116886488615, 0.7373492784961302 L -0.7430628575137477 ,0.8110842063457433\", \"type\": \"path\"}, {\"fillcolor\": \"#d0805f\", \"layer\": \"below\", \"line\": {\"color\": \"rgb(150,150,150)\", \"width\": 0.45}, \"path\": \"M -0.8800833867014087, 0.6598888030965362 L -0.9194259824940233, 0.6038674214717168 L -0.9552077136102125, 0.5455073087132293 L -0.9872900002134055, 0.4850344889578614 L -1.0155485901253096, 0.42268316869080097 L -0.9232259910230086, 0.3842574260825463 L -0.8975363638303686, 0.4409404445071467 L -0.8683706487365568, 0.4959157351938448 L -0.8358418022672939, 0.5489703831561061 L -0.8000758060921896, 0.5998989119059419 L -0.8800833867014087 ,0.6598888030965362\", \"type\": \"path\"}, {\"fillcolor\": \"#ca6f4c\", \"layer\": \"below\", \"line\": {\"color\": \"rgb(150,150,150)\", \"width\": 0.45}, \"path\": \"M -1.0283242773785428, 0.390575447966072 L -1.0336809671193776, 0.376169719960483 L -1.0388358591635918, 0.3616905551930297 L -1.0437879471607023, 0.3471407803212511 L -1.0485362643521219, 0.3325232357873615 L -0.9532147857746562, 0.30229385071578313 L -0.9488981337824566, 0.31558252756477373 L -0.9443962356032652, 0.32880959563002693 L -0.9397099701085251, 0.3419724726913481 L -0.9348402521623116, 0.35506858906006544 L -1.0283242773785428 ,0.390575447966072\", \"type\": \"path\"}, {\"fillcolor\": \"#c45e3a\", \"layer\": \"below\", \"line\": {\"color\": \"rgb(150,150,150)\", \"width\": 0.45}, \"path\": \"M -1.0584636822485192, 0.29942383565926384 L -1.0642841856164236, 0.2780272868744835 L -1.0696722108962793, 0.2565177600796215 L -1.074625568632579, 0.23490399579638094 L -1.0791422459995086, 0.2131947769039763 L -0.9810384054540987, 0.19381343354906935 L -0.9769323351205264, 0.21354908708761902 L -0.972429282632981, 0.23319796370874682 L -0.9675310778331122, 0.2527520789768032 L -0.9622397111350174, 0.2722034869629671 L -1.0584636822485192 ,0.29942383565926384\", \"type\": \"path\"}, {\"fillcolor\": \"#bf4d28\", \"layer\": \"below\", \"line\": {\"color\": \"rgb(150,150,150)\", \"width\": 0.45}, \"path\": \"M -1.0853063642183651, 0.17919290105111224 L -1.0932230233928015, 0.1219156311713242 L -1.0981189906792714, 0.06430149539115233 L -1.0999807379976396, 0.00650968771663143 L -1.0988031211413707, -0.05130010691979757 L -0.9989119283103368, -0.0466364608361796 L -0.9999824890887633, 0.00591789792421039 L -0.9982899915266104, 0.058455904901047566 L -0.993839112175274, 0.11083239197393108 L -0.9866421492894227, 0.16290263731919294 L -1.0853063642183651 ,0.17919290105111224\", \"type\": \"path\"}, {\"fillcolor\": \"#af4624\", \"layer\": \"below\", \"line\": {\"color\": \"rgb(150,150,150)\", \"width\": 0.45}, \"path\": \"M -1.0966495528320015, -0.08578903352626795 L -1.090538906166779, -0.14396143280950452 L -1.0813446768891062, -0.20172677007178516 L -1.0690928623892415, -0.25892170938022696 L -1.0538181056147669, -0.31538452764602154 L -0.958016459649788, -0.28671320695092867 L -0.9719026021720376, -0.2353833721638427 L -0.9830406153537328, -0.18338797279253194 L -0.9913990056061626, -0.13087402982682228 L -0.9969541389381832, -0.0779900304784254 L -1.0966495528320015 ,-0.08578903352626795\", \"type\": \"path\"}, {\"fillcolor\": \"#9f4021\", \"layer\": \"below\", \"line\": {\"color\": \"rgb(150,150,150)\", \"width\": 0.45}, \"path\": \"M -1.0433916425792884, -0.3483301310476808 L -1.0318923231007302, -0.38104885976181396 L -1.0193672945026473, -0.41338882289964396 L -1.0058290067623952, -0.4453178742823758 L -0.9912909170449189, -0.47680427618074467 L -0.9011735609499262, -0.43345843289158603 L -0.9143900061476319, -0.40483443116579615 L -0.9266975404569521, -0.37580802081785813 L -0.9380839300915728, -0.34640805432892174 L -0.9485378568902622, -0.3166637554978916 L -1.0433916425792884 ,-0.3483301310476808\", \"type\": \"path\"}, {\"fillcolor\": \"#8f391e\", \"layer\": \"below\", \"line\": {\"color\": \"rgb(150,150,150)\", \"width\": 0.45}, \"path\": \"M -0.9758249905708241, -0.5077062022247231 L -0.9641909593320581, -0.5294674625907863 L -0.9520717223921025, -0.550962281305477 L -0.9394733784628367, -0.5721798416229146 L -0.9264022673551048, -0.5931094663207807 L -0.9128649667883608, -0.6137406230733674 L -0.8988682890805897, -0.6340629297517193 L -0.8844192777201756, -0.6540661596481835 L -0.8695252038214353, -0.6737402466227558 L -0.8541935624656066, -0.6930752901686195 L -0.8384320689291327, -0.7120615603943343 L -0.8222486548011335, -0.730689502920171 L -0.8056514639920287, -0.7489497436861176 L -0.7886488486353095, -0.766833093669151 L -0.7712493648845339, -0.7843305535073866 L -0.7534617686076459, -0.8014333180287918 L -0.7352950109808012, -0.8181327806821724 L -0.6684500099825464, -0.7437570733474295 L -0.6849652441887689, -0.728575743662538 L -0.7011357862586671, -0.7130277759158059 L -0.7169534987593722, -0.6971209942446827 L -0.7324104218109351, -0.6808634033510159 L -0.7474987770919395, -0.6642631844728827 L -0.762210971753757, -0.6473286912675766 L -0.7765396022414605, -0.6300684456078358 L -0.7904774580194865, -0.6124911332934143 L -0.8040175252001596, -0.5946055996801668 L -0.8171529900732633, -0.5764208452288356 L -0.8298772425348734, -0.5579460209757885 L -0.8421838794137315, -0.5391904239279823 L -0.8540667076934879, -0.5201634923844678 L -0.865519747629184, -0.5008748011867972 L -0.8765372357564164, -0.48133405690071474 L -0.8871136277916581, -0.4615510929315664 L -0.9758249905708241 ,-0.5077062022247231\", \"type\": \"path\"}, {\"fillcolor\": \"#f0f3e7\", \"layer\": \"below\", \"line\": {\"color\": \"rgb(150,150,150)\", \"width\": 0.45}, \"path\": \"M -0.7092340156115767, -0.8408252559833572 L -0.6912843599333489, -0.8556435786655214 L -0.6730251843532163, -0.8700787902404697 L -0.6544646643465128, -0.8841244273979803 L -0.6356111103143779, -0.8977742012582697 L -0.6164729638628034, -0.9110220001878171 L -0.5970587940229358, -0.9238618925358257 L -0.5773772934143299, -0.9362881292900936 L -0.5574372743528591, -0.9482951466511128 L -0.5372476649050335, -0.9598775685232408 L -0.5168175048904979, -0.9710302089218236 L -0.49615594183448036, -0.9817480742952032 L -0.4752722268720299, -0.9920263657605587 L -0.4541757106058534, -1.0018604812525886 L -0.43287583891961673, -1.0112460175840685 L -0.4113821487485924, -1.0201787724173599 L -0.38970426380953077, -1.0286547461459903 L -0.3678518902916753, -1.0366701436854644 L -0.3458348125108604, -1.0442213761724946 L -0.3236628885286142, -1.0513050625719036 L -0.3013460457382563, -1.0579180311904686 L -0.2788942764199426, -1.064057321097034 L -0.25631763326665813, -1.0697201834482601 L -0.23362622488316798, -1.0749040827194023 L -0.21083021125992565, -1.079606697839586 L -0.18793979922397386, -1.0838259232310568 L -0.17085436293088532, -0.9852962938464151 L -0.19166382841811422, -0.9814606343996236 L -0.21238747716651632, -0.9771855297449111 L -0.23301603024241646, -0.9724728940438727 L -0.2535402512908569, -0.9673248373609401 L -0.27395095067114206, -0.9617436647186076 L -0.29423898957146744, -0.9557318750653668 L -0.31439528410078216, -0.9492921601568131 L -0.33441080935606843, -0.9424274033504221 L -0.35427660346320977, -0.9351406783145366 L -0.3739837715896294, -0.9274352476521452 L -0.39352348992692426, -0.9193145614400622 L -0.41288700964168484, -0.9107822556841714 L -0.43206566079275444, -0.9018421506914169 L -0.45105085621316393, -0.8924982493592756 L -0.46983409535499804, -0.8827547353834759 L -0.488406968095485, -0.8726159713847643 L -0.5067611585025991, -0.8620864969555571 L -0.5248884485584816, -0.8511710266273578 L -0.5427807218390325, -0.8398744477598415 L -0.560429967148003, -0.8282018183525609 L -0.5778282821039799, -0.8161583647802451 L -0.594967876678648, -0.8037494794527092 L -0.6118410766847421, -0.7909807184004269 L -0.6284403272121353, -0.7778577987868376 L -0.6447581960105242, -0.7643865963485065 L -0.7092340156115767 ,-0.8408252559833572\", \"type\": \"path\"}, {\"fillcolor\": \"#e2ecde\", \"layer\": \"below\", \"line\": {\"color\": \"rgb(150,150,150)\", \"width\": 0.45}, \"path\": \"M -0.15380326732093982, -1.089194452318503 L -0.13833247681281413, -1.0912672110252524 L -0.12283383212444073, -1.0931202356948777 L -0.10731045401279898, -1.0947531532083234 L -0.09176546821511335, -1.0961656347665991 L -0.08342315292283031, -0.996514213424181 L -0.09755495819345361, -0.995230139280294 L -0.11166712011312792, -0.9937456688135251 L -0.1257567971025583, -0.9920611009320475 L -0.13982115210994528, -0.9901767748350027 L -0.15380326732093982 ,-1.089194452318503\", \"type\": \"path\"}, {\"fillcolor\": \"#d4e5d6\", \"layer\": \"below\", \"line\": {\"color\": \"rgb(150,150,150)\", \"width\": 0.45}, \"path\": \"M -0.0572887928326618, -1.0985071662104788 L -0.03425888119761565, -1.0994663837785528 L -0.011213926886250543, -1.0999428384437937 L 0.011835951329997547, -1.0999363210004995 L 0.03488063251766327, -1.0994468343104036 L 0.05790999802523606, -1.0984745933014188 L 0.08091393592614143, -1.0970200248732656 L 0.10388234545877417, -1.095083767710025 L 0.12680514146161947, -1.0926666719996996 L 0.149672258801534, -1.0897697990609057 L 0.17247365679322776, -1.0863944208768619 L 0.19519932360801232, -1.0825420195368745 L 0.21783928066987818, -1.0782142865855704 L 0.24038358703697177, -1.0734131222801586 L 0.2628223437665471, -1.0681406347560507 L 0.2851456982614766, -1.062399139101202 L 0.3073438485964108, -1.0561911563395836 L 0.3294070478216937, -1.0495194123242297 L 0.3513256082431294, -1.0423868365403486 L 0.37308990567573946, -1.0347965608190182 L 0.39469038366963, -1.0267519179620366 L 0.4161175577061174, -1.0182564402785264 L 0.43736201936227026, -1.0093138580339405 L 0.4584144404420387, -0.999928097812144 L 0.4792655770721565, -0.9901032807912985 L 0.49990627376101754, -0.9798437209343002 L 0.5203274674187501, -0.9691539230945669 L 0.5405201913367045, -0.9580385810380146 L 0.5604755791246432, -0.9465025753820727 L 0.5801848686038593, -0.9345509714526666 L 0.5996394056545525, -0.9221890170600902 L 0.618830648015751, -0.9094221401947534 L 0.5625733163779555, -0.8267474001770485 L 0.5451267324132295, -0.8383536518728092 L 0.5274407896398721, -0.8495917922296968 L 0.5095232537496756, -0.8604568867109751 L 0.4913819921242768, -0.8709441645800132 L 0.47302497038068186, -0.8810490209950608 L 0.4544602488736523, -0.8907670190311819 L 0.4356959791565059, -0.9000938916284531 L 0.41674040040185334, -0.9090255434655854 L 0.39760183578388203, -0.9175580527581276 L 0.37828868882374306, -0.9256876729804785 L 0.3588094396996636, -0.9334108345109422 L 0.3391726415233995, -0.9407241461991074 L 0.31938691658466306, -0.9476243968548622 L 0.2994609525651761, -0.9541085566583906 L 0.27940349872400977, -0.9601737784905304 L 0.2592233620558878, -0.9658173991829109 L 0.2389294034241337, -0.9710369406873188 L 0.21853053366997433, -0.9758301111637805 L 0.19803570969988923, -0.980194805986882 L 0.17745393055273845, -0.9841291086698858 L 0.15679423344838886, -0.987631291706238 L 0.13606568981957637, -0.990699817328096 L 0.11527740132874498, -0.9933333381815449 L 0.09443849587161288, -0.9955306979182045 L 0.07355812356921948, -0.9972909317029687 L 0.052645452750214594, -0.9986132666376534 L 0.03170966592514842, -0.9994971221003668 L 0.010759955754543225, -0.9999421100004541 L -0.010194478987500493, -0.9999480349489034 L -0.03114443745237786, -0.9995148943441388 L -0.052080720756965265, -0.9986428783731625 L -0.0572887928326618 ,-1.0985071662104788\", \"type\": \"path\"}, {\"fillcolor\": \"#c6decd\", \"layer\": \"below\", \"line\": {\"color\": \"rgb(150,150,150)\", \"width\": 0.45}, \"path\": \"M 0.6470909321930932, -0.8895354548715154 L 0.6657655245488541, -0.8756461992849564 L 0.6841420895423561, -0.8613649640637927 L 0.7022124009753502, -0.8466981421477398 L 0.7199683697428091, -0.8316522990829052 L 0.7374020474539842, -0.816234170082748 L 0.7545056299904713, -0.8004506570130866 L 0.7712714609996957, -0.7843088253025048 L 0.7876920353222463, -0.7678159007795405 L 0.8037600023515333, -0.750979266438071 L 0.819468169324258, -0.7338064591323447 L 0.8348095045402252, -0.7163051662031371 L 0.8497771405100573, -0.698483222036543 L 0.8643643770293986, -0.6803486045569432 L 0.8785646841782364, -0.6619094316557183 L 0.8923717052439945, -0.6431739575573048 L 0.9057792595670903, -0.6241505691242248 L 0.9187813453076842, -0.6048477821027387 L 0.9313721421323791, -0.5852742373108044 L 0.9435460138196703, -0.5654386967700484 L 0.9552975107829789, -0.5453500397834811 L 0.9666213725101374, -0.5250172589607112 L 0.878746702281943, -0.4772884172370101 L 0.8684522825299807, -0.49577276343952825 L 0.8577691034724275, -0.5140351788818621 L 0.8467019473930718, -0.5320674884643676 L 0.835255768461531, -0.5498616200933988 L 0.8234356905155366, -0.5674096082947498 L 0.8112470047672676, -0.584703597779368 L 0.7986951674347603, -0.6017358469597438 L 0.7857857972994532, -0.6184987314154029 L 0.7725246731909611, -0.6349847473059481 L 0.7589177314002047, -0.6511865147301246 L 0.7449710630220527, -0.6670967810294042 L 0.7306909112286666, -0.68270842403461 L 0.7160836684747693, -0.6980144552541278 L 0.7011558736360869, -0.7130080230022771 L 0.6859142090822467, -0.7276824154664423 L 0.6703654976854401, -0.742031063711589 L 0.65451669976619, -0.7560475446208228 L 0.638374909977591, -0.7697255837706725 L 0.6219473541294146, -0.7830590582398115 L 0.6052413859535036, -0.7960419993499602 L 0.5882644838119029, -0.8086685953377413 L 0.6470909321930932 ,-0.8895354548715154\", \"type\": \"path\"}, {\"fillcolor\": \"#b8d7c5\", \"layer\": \"below\", \"line\": {\"color\": \"rgb(150,150,150)\", \"width\": 0.45}, \"path\": \"M 0.982635593846684, -0.4943958835847795 L 0.9978535787976106, -0.4629127728641768 L 1.0120631763600925, -0.4309618626467084 L 1.0252500269334013, -0.39857544113136256 L 1.037400804460393, -0.36578623662588694 L 0.9430916404185391, -0.3325329423871699 L 0.9320454790303647, -0.3623413101194205 L 0.9200574330546295, -0.3917835114970076 L 0.9071396170887368, -0.42082979351288796 L 0.8933050853151672, -0.4494508032588904 L 0.982635593846684 ,-0.4943958835847795\", \"type\": \"path\"}, {\"fillcolor\": \"#aad0bc\", \"layer\": \"below\", \"line\": {\"color\": \"rgb(150,150,150)\", \"width\": 0.45}, \"path\": \"M 1.0483785331396014, -0.3330201964627041 L 1.0596902455405286, -0.2950535265104531 L 1.0696274933952943, -0.2567041592434761 L 1.078177387659274, -0.21802183546659717 L 1.0853288387460633, -0.1790567278437802 L 0.9866625806782394, -0.16277884349434563 L 0.9801612615084307, -0.19820166860599742 L 0.9723886303593583, -0.2333674174940692 L 0.9633547686732077, -0.2682304786458664 L 0.9530713937632739, -0.3027456331479128 L 1.0483785331396014 ,-0.3330201964627041\", \"type\": \"path\"}, {\"fillcolor\": \"#9cc9b4\", \"layer\": \"below\", \"line\": {\"color\": \"rgb(150,150,150)\", \"width\": 0.45}, \"path\": \"M 1.0904176022204306, -0.14487737148308252 L 1.0937182335950206, -0.11739005708231119 L 1.0963260743548584, -0.0898283846546598 L 1.098239472623302, -0.062209812506481166 L 1.0994572164023046, -0.03455183498594511 L 0.9995065603657315, -0.031410759078131914 L 0.9983995205666382, -0.056554375005891964 L 0.9966600675953258, -0.08166216786787253 L 0.9942893032682004, -0.10671823371119199 L 0.9912887292913004, -0.13170670134825682 L 1.0904176022204306 ,-0.14487737148308252\", \"type\": \"path\"}], \"showlegend\": false, \"template\": {\"data\": {\"bar\": [{\"error_x\": {\"color\": \"#2a3f5f\"}, \"error_y\": {\"color\": \"#2a3f5f\"}, \"marker\": {\"line\": {\"color\": \"#E5ECF6\", \"width\": 0.5}}, \"type\": \"bar\"}], \"barpolar\": [{\"marker\": {\"line\": {\"color\": \"#E5ECF6\", \"width\": 0.5}}, \"type\": \"barpolar\"}], \"carpet\": [{\"aaxis\": {\"endlinecolor\": \"#2a3f5f\", \"gridcolor\": \"white\", \"linecolor\": \"white\", \"minorgridcolor\": \"white\", \"startlinecolor\": \"#2a3f5f\"}, \"baxis\": {\"endlinecolor\": \"#2a3f5f\", \"gridcolor\": \"white\", \"linecolor\": \"white\", \"minorgridcolor\": \"white\", \"startlinecolor\": \"#2a3f5f\"}, \"type\": \"carpet\"}], \"choropleth\": [{\"colorbar\": {\"outlinewidth\": 0, \"ticks\": \"\"}, \"type\": \"choropleth\"}], \"contour\": [{\"colorbar\": {\"outlinewidth\": 0, \"ticks\": \"\"}, \"colorscale\": [[0.0, \"#0d0887\"], [0.1111111111111111, \"#46039f\"], [0.2222222222222222, \"#7201a8\"], [0.3333333333333333, \"#9c179e\"], [0.4444444444444444, \"#bd3786\"], [0.5555555555555556, \"#d8576b\"], [0.6666666666666666, \"#ed7953\"], [0.7777777777777778, \"#fb9f3a\"], [0.8888888888888888, \"#fdca26\"], [1.0, \"#f0f921\"]], \"type\": \"contour\"}], \"contourcarpet\": [{\"colorbar\": {\"outlinewidth\": 0, \"ticks\": \"\"}, \"type\": \"contourcarpet\"}], \"heatmap\": [{\"colorbar\": {\"outlinewidth\": 0, \"ticks\": \"\"}, \"colorscale\": [[0.0, \"#0d0887\"], [0.1111111111111111, \"#46039f\"], [0.2222222222222222, \"#7201a8\"], [0.3333333333333333, \"#9c179e\"], [0.4444444444444444, \"#bd3786\"], [0.5555555555555556, \"#d8576b\"], [0.6666666666666666, \"#ed7953\"], [0.7777777777777778, \"#fb9f3a\"], [0.8888888888888888, \"#fdca26\"], [1.0, \"#f0f921\"]], \"type\": \"heatmap\"}], \"heatmapgl\": [{\"colorbar\": {\"outlinewidth\": 0, \"ticks\": \"\"}, \"colorscale\": [[0.0, \"#0d0887\"], [0.1111111111111111, \"#46039f\"], [0.2222222222222222, \"#7201a8\"], [0.3333333333333333, \"#9c179e\"], [0.4444444444444444, \"#bd3786\"], [0.5555555555555556, \"#d8576b\"], [0.6666666666666666, \"#ed7953\"], [0.7777777777777778, \"#fb9f3a\"], [0.8888888888888888, \"#fdca26\"], [1.0, \"#f0f921\"]], \"type\": \"heatmapgl\"}], \"histogram\": [{\"marker\": {\"colorbar\": {\"outlinewidth\": 0, \"ticks\": \"\"}}, \"type\": \"histogram\"}], \"histogram2d\": [{\"colorbar\": {\"outlinewidth\": 0, \"ticks\": \"\"}, \"colorscale\": [[0.0, \"#0d0887\"], [0.1111111111111111, \"#46039f\"], [0.2222222222222222, \"#7201a8\"], [0.3333333333333333, \"#9c179e\"], [0.4444444444444444, \"#bd3786\"], [0.5555555555555556, \"#d8576b\"], [0.6666666666666666, \"#ed7953\"], [0.7777777777777778, \"#fb9f3a\"], [0.8888888888888888, \"#fdca26\"], [1.0, \"#f0f921\"]], \"type\": \"histogram2d\"}], \"histogram2dcontour\": [{\"colorbar\": {\"outlinewidth\": 0, \"ticks\": \"\"}, \"colorscale\": [[0.0, \"#0d0887\"], [0.1111111111111111, \"#46039f\"], [0.2222222222222222, \"#7201a8\"], [0.3333333333333333, \"#9c179e\"], [0.4444444444444444, \"#bd3786\"], [0.5555555555555556, \"#d8576b\"], [0.6666666666666666, \"#ed7953\"], [0.7777777777777778, \"#fb9f3a\"], [0.8888888888888888, \"#fdca26\"], [1.0, \"#f0f921\"]], \"type\": \"histogram2dcontour\"}], \"mesh3d\": [{\"colorbar\": {\"outlinewidth\": 0, \"ticks\": \"\"}, \"type\": \"mesh3d\"}], \"parcoords\": [{\"line\": {\"colorbar\": {\"outlinewidth\": 0, \"ticks\": \"\"}}, \"type\": \"parcoords\"}], \"pie\": [{\"automargin\": true, \"type\": \"pie\"}], \"scatter\": [{\"marker\": {\"colorbar\": {\"outlinewidth\": 0, \"ticks\": \"\"}}, \"type\": \"scatter\"}], \"scatter3d\": [{\"line\": {\"colorbar\": {\"outlinewidth\": 0, \"ticks\": \"\"}}, \"marker\": {\"colorbar\": {\"outlinewidth\": 0, \"ticks\": \"\"}}, \"type\": \"scatter3d\"}], \"scattercarpet\": [{\"marker\": {\"colorbar\": {\"outlinewidth\": 0, \"ticks\": \"\"}}, \"type\": \"scattercarpet\"}], \"scattergeo\": [{\"marker\": {\"colorbar\": {\"outlinewidth\": 0, \"ticks\": \"\"}}, \"type\": \"scattergeo\"}], \"scattergl\": [{\"marker\": {\"colorbar\": {\"outlinewidth\": 0, \"ticks\": \"\"}}, \"type\": \"scattergl\"}], \"scattermapbox\": [{\"marker\": {\"colorbar\": {\"outlinewidth\": 0, \"ticks\": \"\"}}, \"type\": \"scattermapbox\"}], \"scatterpolar\": [{\"marker\": {\"colorbar\": {\"outlinewidth\": 0, \"ticks\": \"\"}}, \"type\": \"scatterpolar\"}], \"scatterpolargl\": [{\"marker\": {\"colorbar\": {\"outlinewidth\": 0, \"ticks\": \"\"}}, \"type\": \"scatterpolargl\"}], \"scatterternary\": [{\"marker\": {\"colorbar\": {\"outlinewidth\": 0, \"ticks\": \"\"}}, \"type\": \"scatterternary\"}], \"surface\": [{\"colorbar\": {\"outlinewidth\": 0, \"ticks\": \"\"}, \"colorscale\": [[0.0, \"#0d0887\"], [0.1111111111111111, \"#46039f\"], [0.2222222222222222, \"#7201a8\"], [0.3333333333333333, \"#9c179e\"], [0.4444444444444444, \"#bd3786\"], [0.5555555555555556, \"#d8576b\"], [0.6666666666666666, \"#ed7953\"], [0.7777777777777778, \"#fb9f3a\"], [0.8888888888888888, \"#fdca26\"], [1.0, \"#f0f921\"]], \"type\": \"surface\"}], \"table\": [{\"cells\": {\"fill\": {\"color\": \"#EBF0F8\"}, \"line\": {\"color\": \"white\"}}, \"header\": {\"fill\": {\"color\": \"#C8D4E3\"}, \"line\": {\"color\": \"white\"}}, \"type\": \"table\"}]}, \"layout\": {\"annotationdefaults\": {\"arrowcolor\": \"#2a3f5f\", \"arrowhead\": 0, \"arrowwidth\": 1}, \"coloraxis\": {\"colorbar\": {\"outlinewidth\": 0, \"ticks\": \"\"}}, \"colorscale\": {\"diverging\": [[0, \"#8e0152\"], [0.1, \"#c51b7d\"], [0.2, \"#de77ae\"], [0.3, \"#f1b6da\"], [0.4, \"#fde0ef\"], [0.5, \"#f7f7f7\"], [0.6, \"#e6f5d0\"], [0.7, \"#b8e186\"], [0.8, \"#7fbc41\"], [0.9, \"#4d9221\"], [1, \"#276419\"]], \"sequential\": [[0.0, \"#0d0887\"], [0.1111111111111111, \"#46039f\"], [0.2222222222222222, \"#7201a8\"], [0.3333333333333333, \"#9c179e\"], [0.4444444444444444, \"#bd3786\"], [0.5555555555555556, \"#d8576b\"], [0.6666666666666666, \"#ed7953\"], [0.7777777777777778, \"#fb9f3a\"], [0.8888888888888888, \"#fdca26\"], [1.0, \"#f0f921\"]], \"sequentialminus\": [[0.0, \"#0d0887\"], [0.1111111111111111, \"#46039f\"], [0.2222222222222222, \"#7201a8\"], [0.3333333333333333, \"#9c179e\"], [0.4444444444444444, \"#bd3786\"], [0.5555555555555556, \"#d8576b\"], [0.6666666666666666, \"#ed7953\"], [0.7777777777777778, \"#fb9f3a\"], [0.8888888888888888, \"#fdca26\"], [1.0, \"#f0f921\"]]}, \"colorway\": [\"#636efa\", \"#EF553B\", \"#00cc96\", \"#ab63fa\", \"#FFA15A\", \"#19d3f3\", \"#FF6692\", \"#B6E880\", \"#FF97FF\", \"#FECB52\"], \"font\": {\"color\": \"#2a3f5f\"}, \"geo\": {\"bgcolor\": \"white\", \"lakecolor\": \"white\", \"landcolor\": \"#E5ECF6\", \"showlakes\": true, \"showland\": true, \"subunitcolor\": \"white\"}, \"hoverlabel\": {\"align\": \"left\"}, \"hovermode\": \"closest\", \"mapbox\": {\"style\": \"light\"}, \"paper_bgcolor\": \"white\", \"plot_bgcolor\": \"#E5ECF6\", \"polar\": {\"angularaxis\": {\"gridcolor\": \"white\", \"linecolor\": \"white\", \"ticks\": \"\"}, \"bgcolor\": \"#E5ECF6\", \"radialaxis\": {\"gridcolor\": \"white\", \"linecolor\": \"white\", \"ticks\": \"\"}}, \"scene\": {\"xaxis\": {\"backgroundcolor\": \"#E5ECF6\", \"gridcolor\": \"white\", \"gridwidth\": 2, \"linecolor\": \"white\", \"showbackground\": true, \"ticks\": \"\", \"zerolinecolor\": \"white\"}, \"yaxis\": {\"backgroundcolor\": \"#E5ECF6\", \"gridcolor\": \"white\", \"gridwidth\": 2, \"linecolor\": \"white\", \"showbackground\": true, \"ticks\": \"\", \"zerolinecolor\": \"white\"}, \"zaxis\": {\"backgroundcolor\": \"#E5ECF6\", \"gridcolor\": \"white\", \"gridwidth\": 2, \"linecolor\": \"white\", \"showbackground\": true, \"ticks\": \"\", \"zerolinecolor\": \"white\"}}, \"shapedefaults\": {\"line\": {\"color\": \"#2a3f5f\"}}, \"ternary\": {\"aaxis\": {\"gridcolor\": \"white\", \"linecolor\": \"white\", \"ticks\": \"\"}, \"baxis\": {\"gridcolor\": \"white\", \"linecolor\": \"white\", \"ticks\": \"\"}, \"bgcolor\": \"#E5ECF6\", \"caxis\": {\"gridcolor\": \"white\", \"linecolor\": \"white\", \"ticks\": \"\"}}, \"title\": {\"x\": 0.05}, \"xaxis\": {\"automargin\": true, \"gridcolor\": \"white\", \"linecolor\": \"white\", \"ticks\": \"\", \"title\": {\"standoff\": 15}, \"zerolinecolor\": \"white\", \"zerolinewidth\": 2}, \"yaxis\": {\"automargin\": true, \"gridcolor\": \"white\", \"linecolor\": \"white\", \"ticks\": \"\", \"title\": {\"standoff\": 15}, \"zerolinecolor\": \"white\", \"zerolinewidth\": 2}}}, \"title\": {\"font\": {\"color\": \"#655643\", \"family\": \"Merryweather\", \"size\": 18}, \"text\": \"Data Jobs \\u2012 Technologies in Demand and Relationships Between Them\"}, \"width\": 960, \"xaxis\": {\"showgrid\": false, \"showline\": false, \"showticklabels\": false, \"title\": {\"text\": \"\"}, \"zeroline\": false}, \"yaxis\": {\"showgrid\": false, \"showline\": false, \"showticklabels\": false, \"title\": {\"text\": \"\"}, \"zeroline\": false}},\n",
       "                        {\"responsive\": true}\n",
       "                    ).then(function(){\n",
       "                            \n",
       "var gd = document.getElementById('1368fa33-1bf6-4cda-bbb7-335bc968e43f');\n",
       "var x = new MutationObserver(function (mutations, observer) {{\n",
       "        var display = window.getComputedStyle(gd).display;\n",
       "        if (!display || display === 'none') {{\n",
       "            console.log([gd, 'removed!']);\n",
       "            Plotly.purge(gd);\n",
       "            observer.disconnect();\n",
       "        }}\n",
       "}});\n",
       "\n",
       "// Listen for the removal of the full notebook cells\n",
       "var notebookContainer = gd.closest('#notebook-container');\n",
       "if (notebookContainer) {{\n",
       "    x.observe(notebookContainer, {childList: true});\n",
       "}}\n",
       "\n",
       "// Listen for the clearing of the current output cell\n",
       "var outputEl = gd.closest('.output');\n",
       "if (outputEl) {{\n",
       "    x.observe(outputEl, {childList: true});\n",
       "}}\n",
       "\n",
       "                        })\n",
       "                };\n",
       "                });\n",
       "            </script>\n",
       "        </div>"
      ]
     },
     "metadata": {},
     "output_type": "display_data"
    }
   ],
   "source": [
    "fig = go.Figure(data=data, layout=layout)\n",
    "\n",
    "plotly.offline.iplot(fig, filename='data_offers_total_requirement_relationships_chord.html')"
   ]
  },
  {
   "cell_type": "code",
   "execution_count": 30,
   "metadata": {},
   "outputs": [
    {
     "data": {
      "text/plain": [
       "'data_offers_total_requirement_relationships_chord.html'"
      ]
     },
     "execution_count": 30,
     "metadata": {},
     "output_type": "execute_result"
    }
   ],
   "source": [
    "# Uncomment the line below to export an HTML version of the chart.\n",
    "plotly.offline.plot(fig, filename='data_offers_total_requirement_relationships_chord.html', show_link=False)"
   ]
  },
  {
   "cell_type": "markdown",
   "metadata": {},
   "source": [
    "### Resources:\n",
    "\n",
    "- https://plot.ly/python/filled-chord-diagram/\n",
    "- https://hci.stanford.edu/courses/cs448b/f11/lectures/CS448B-20111117-Text.pdf"
   ]
  },
  {
   "cell_type": "code",
   "execution_count": 31,
   "metadata": {},
   "outputs": [
    {
     "data": {
      "text/html": [
       "<style>\n",
       "@import url('https://fonts.googleapis.com/css?family=Fira+Mono|Fira+Sans|Fira+Sans+Condensed|Fira+Sans+Extra+Condensed');\n",
       "@import url('https://fonts.googleapis.com/css?family=Merriweather|Merriweather+Sans');\n",
       "\n",
       ".nbviewer {\n",
       "    background-color: #E5E1D8;\n",
       "}\n",
       "\n",
       "#notebook {\n",
       "    background-color: #E5E1D8;\n",
       "}\n",
       "\n",
       "#notebook-container {\n",
       "    background-color: #FFFAF0;\n",
       "    max-width: 1100px;\n",
       "    padding: 50px;\n",
       "    border-radius: 4px;\n",
       "    -webkit-box-shadow: 0px 0px 12px 1px rgba(101,86,67,0.75);\n",
       "    -moz-box-shadow: 0px 0px 12px 1px rgba(101,86,67,0.75);\n",
       "    box-shadow: 0px 0px 12px 1px rgba(101,86,67,0.75);\n",
       "}\n",
       "\n",
       "/* Jupyter Notebook Header Styling */\n",
       "body > #header {\n",
       "    background-color:#fafafa;\n",
       "}\n",
       "\n",
       "#header #menubar #menus {\n",
       "    background-color:#fefefe;\n",
       "}\n",
       "\n",
       "/* Headings */\n",
       ".text_cell_render h1 {\n",
       "    color: #655B4F;\n",
       "    font-family: 'Merriweather', serif;\n",
       "    font-weight: 900;\n",
       "    text-align: center;\n",
       "    font-size: 2.5em;\n",
       "    padding: 40px 0 12px 0;\n",
       "    text-shadow: 0 2px #FFFAF0, 0 3px #8c8b8b;\n",
       "}\n",
       "\n",
       ".text_cell_render h2 {\n",
       "    color: #655B4F;\n",
       "    font-family: 'Merriweather', serif;\n",
       "    font-weight: 600;\n",
       "    font-size: 2.2em;\n",
       "    text-indent: 22px;\n",
       "    padding: 40px 0 6px 0;\n",
       "    margin-bottom: 24px;\n",
       "    border-bottom: 1px solid #655B4F;\n",
       "}\n",
       "\n",
       ".text_cell_render h3 {\n",
       "    color: #655B4F;\n",
       "    font-family: 'Merriweather', serif;\n",
       "    font-weight: 300;\n",
       "    padding: 6px 0 0 0;\n",
       "    font-size: 1.6em;\n",
       "}\n",
       "\n",
       ".text_cell_render h4 {\n",
       "    color: #655B4F;\n",
       "    font-family: 'Merriweather', serif;\n",
       "    font-weight: 100;\n",
       "    font-size: 1.2em;\n",
       "}\n",
       "\n",
       "/* Use for subtitles and other non-headings */\n",
       "div.rendered_html > h5 {\n",
       "    font-family: 'Merriweather', serif;\n",
       "    line-height: 1.5em;\n",
       "    color: #655B4F;\n",
       "    font-weight: 200;\n",
       "    font-style: normal important!;\n",
       "    text-indent: 22px;\n",
       "    text-align: center;\n",
       "    margin-top: 0.5em;\n",
       "    padding: 6px 0 6px 0;\n",
       "    border-bottom: 1px solid #655B4F;\n",
       "    border-top: 1px solid #655B4F;\n",
       "}\n",
       "\n",
       "/* Use for image and chart captions */\n",
       "div.rendered_html > h6 {\n",
       "    font-family: 'Merriweather Sans', sans-serif;\n",
       "    font-size: 0.9em;\n",
       "    line-height: 1.5em;\n",
       "    color: #cac8c9;\n",
       "    font-weight: normal;\n",
       "    max-width: 525px;\n",
       "    display: block;\n",
       "    margin-left: auto;\n",
       "    margin-right: auto;\n",
       "}\n",
       "\n",
       "div#notebook-container p {\n",
       "    font-family: 'Fira Sans Condensed', sans-serif;\n",
       "    font-size: 1.2em;\n",
       "    line-height: 1.3em;\n",
       "    color: #655B4F;\n",
       "}\n",
       "\n",
       "/* Plotly Exported Charts Styling */\n",
       ".js-plotly-plot .plotly,\n",
       ".js-plotly-plot .plotly div {\n",
       "    direction: ltr;\n",
       "    font-family: \"Fira Sans Extra Condensed\", verdana, arial, sans-serif;\n",
       "}\n",
       "\n",
       "/* Lists */\n",
       "ol, ul {\n",
       "    font-family: 'Fira Sans Condensed', sans-serif;\n",
       "    line-height: 1.3em;\n",
       "    color: #655B4F;\n",
       "}\n",
       "\n",
       "div.input_prompt {\n",
       "    color: #aad0bc;\n",
       "    font-size: 0.7em;\n",
       "}\n",
       "\n",
       "div.output_prompt {\n",
       "    color: #aad0bc;\n",
       "    font-size: 0.7em;\n",
       "}\n",
       "\n",
       "div.prompt {\n",
       "    min-width: 2ex;\n",
       "}\n",
       "\n",
       "div.output_subarea {\n",
       "    min-width: 425px;\n",
       "    max-width: calc(100% - 1ex);\n",
       "    padding: 0;\n",
       "}\n",
       "\n",
       "div.text_cell code {\n",
       "    padding: 2px;\n",
       "    background-color: #E5E1D8;\n",
       "    color: #483F3A;\n",
       "    font-family: 'Fira Mono', monospace;\n",
       "    font-size: 0.9em;\n",
       "}\n",
       "\n",
       "div.input_area {\n",
       "    background-color: #FFFAF0;\n",
       "    border: 1px solid #E5E1D8;\n",
       "    background: repeating-linear-gradient(135deg, #FFFAF0, #FFFAF0 5px, #F7F7ED 5px, #F7F7ED 10px);\n",
       "}\n",
       "\n",
       "div.cell.rendered.selected {\n",
       "    background: #F7F7ED;\n",
       "    border: 1px solid #293C34;\n",
       "}\n",
       "\n",
       "div.output_area img {\n",
       "    display: block;\n",
       "    margin-left: auto;\n",
       "    margin-right: auto;\n",
       "}\n",
       "\n",
       "div.rendered_html pre, code {\n",
       "    font-family: 'Fira Sans Condensed', sans-serif;\n",
       "    font-size: 16px;\n",
       "    font-weight: 400;\n",
       "    color: #40362F;\n",
       "    background-color: #E5E1D8;\n",
       "}\n",
       "\n",
       "div.output_text pre {\n",
       "    font-family: 'Fira Sans Condensed', sans-serif;\n",
       "    font-size: 13px;\n",
       "    font-weight: 300;\n",
       "    color: #40362F;\n",
       "}\n",
       "\n",
       "\n",
       "pre, textarea {\n",
       "    overflow: hidden;\n",
       "}\n",
       "\n",
       "div.text_cell_render img {\n",
       "    max-height: 550px;\n",
       "    display: block;\n",
       "    margin-left: auto;\n",
       "    margin-right: auto;\n",
       "}\n",
       "\n",
       "div.output output_scroll {\n",
       "    overflow-x: auto;\n",
       "    overflow-y: scroll;\n",
       "    max-height: 2000px;\n",
       "}\n",
       "\n",
       "div.rendered_html hr {\n",
       "    border: 0;\n",
       "    height: 1px;\n",
       "    background-color: #655B4F;\n",
       "}\n",
       "\n",
       "div.rendered_html pre, code {\n",
       "    color: #40362F;\n",
       "    background-color: #FFFAF0;\n",
       "}\n",
       "\n",
       "/* Links */\n",
       "a.link--embedview {\n",
       "    display: none;\n",
       "}\n",
       "\n",
       "a:link {\n",
       "    color: #293C34;\n",
       "}\n",
       "\n",
       "a:visited {\n",
       "    color: #293C34;\n",
       "}\n",
       "\n",
       "a:hover {\n",
       "    color: #557C6C;\n",
       "}\n",
       "\n",
       "a:focus {\n",
       "    color:#557C6C;\n",
       "}\n",
       "\n",
       "a:active {\n",
       "    font-weight: bold;\n",
       "    color:#80BCA3;\n",
       "}\n",
       "\n",
       ".rendered_html :link {\n",
       "    text-decoration: underline;\n",
       "}\n",
       "\n",
       "/* Colors for code highlighting */\n",
       ".CodeMirror pre {\n",
       "    font-family: 'Fira Mono', monospace;\n",
       "    font-size: 0.9em;\n",
       "    font-weight: 600;\n",
       "}\n",
       "\n",
       ".CodeMirror-code span.cm-keyword,\n",
       ".highlight .k,\n",
       ".highlight .ow {\n",
       "    color: #5F362E;\n",
       "}\n",
       "\n",
       ".CodeMirror-code span.cm-variable,\n",
       ".highlight .na {\n",
       "    color: #655B4F;\n",
       "}\n",
       "\n",
       ".CodeMirror-code span.cm-property {\n",
       "    color: #655B4F;\n",
       "}\n",
       "\n",
       ".CodeMirror-code span.cm-def {\n",
       "    color: #293C34;\n",
       "}\n",
       "\n",
       ".CodeMirror-code span.cm-operator {\n",
       "    color: #655B4F;\n",
       "}\n",
       "\n",
       ".CodeMirror-code span.cm-string,\n",
       ".highlight .s {\n",
       "    color: #0B7761;\n",
       "}\n",
       "\n",
       ".CodeMirror-code span.cm-number,\n",
       ".highlight .mb, .highlight .mf, .highlight .mh, .highlight .mi, .highlight .mo {\n",
       "    color: #265BCA;\n",
       "}\n",
       "\n",
       ".CodeMirror-code span.cm-comment,\n",
       ".highlight .c1, .highlight .cs {\n",
       "    color: #75AC95;\n",
       "}\n",
       "\n",
       ".CodeMirror-code span.cm-builtin,\n",
       ".highlight .nb {\n",
       "    color: #5F362E;\n",
       "}\n",
       "\n",
       "/* Code with no class applied (brackets mostly) */\n",
       ".CodeMirror-line > span {\n",
       "    color: #72614B;\n",
       "}\n",
       "\n",
       "/* Table styles */\n",
       "table {\n",
       "    border: 1px solid #BF4D28;\n",
       "}\n",
       "\n",
       "\n",
       ".rendered_html table th {\n",
       "    color: #40362F;\n",
       "    text-align: left;\n",
       "    background-color: #f2e6ce;\n",
       "}\n",
       "\n",
       ".rendered_html td {\n",
       "    color: #40362F;\n",
       "    text-align: left;\n",
       "}\n",
       "\n",
       ".rendered_html table tr:nth-child(odd) {\n",
       "    background-color: #F7F7ED;\n",
       "}\n",
       "\n",
       ".rendered_html table tr:nth-child(even) {\n",
       "    background-color: #FFFAF0;\n",
       "}\n",
       "\n",
       "iframe {\n",
       "    border-width: 0;\n",
       "}\n",
       "\n",
       "@media only screen and (max-width: 600px) {\n",
       "    #notebook-container {\n",
       "        background-color: #FFFAF0;\n",
       "        padding: 15px;\n",
       "        border-radius: 4px;\n",
       "        -webkit-box-shadow: 0px 0px 12px 1px rgba(101,86,67,0.75);\n",
       "        -moz-box-shadow: 0px 0px 12px 1px rgba(101,86,67,0.75);\n",
       "        box-shadow: 0px 0px 12px 1px rgba(101,86,67,0.75);\n",
       "    }\n",
       "\n",
       "    .text_cell_render h1,\n",
       "    .text_cell_render h2 {\n",
       "        text-indent: 0;\n",
       "        text-align: left;\n",
       "        padding: 40px 22px 12px 22px;\n",
       "    }\n",
       "}\n",
       "\n",
       "</style>\n"
      ],
      "text/plain": [
       "<IPython.core.display.HTML object>"
      ]
     },
     "execution_count": 31,
     "metadata": {},
     "output_type": "execute_result"
    }
   ],
   "source": [
    "from IPython.core.display import HTML\n",
    "with open('../resources/styles/datum.css', 'r') as f:\n",
    "    style = f.read()\n",
    "HTML(style)"
   ]
  },
  {
   "cell_type": "code",
   "execution_count": null,
   "metadata": {},
   "outputs": [],
   "source": []
  }
 ],
 "metadata": {
  "kernelspec": {
   "display_name": "Python 3",
   "language": "python",
   "name": "python3"
  },
  "language_info": {
   "codemirror_mode": {
    "name": "ipython",
    "version": 3
   },
   "file_extension": ".py",
   "mimetype": "text/x-python",
   "name": "python",
   "nbconvert_exporter": "python",
   "pygments_lexer": "ipython3",
   "version": "3.8.2"
  }
 },
 "nbformat": 4,
 "nbformat_minor": 2
}
