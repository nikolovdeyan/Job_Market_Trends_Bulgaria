{
 "cells": [
  {
   "cell_type": "markdown",
   "metadata": {},
   "source": [
    "## Requirements Relationships Chord Diagram\n"
   ]
  },
  {
   "cell_type": "code",
   "execution_count": 1,
   "metadata": {},
   "outputs": [
    {
     "data": {
      "text/html": [
       "        <script type=\"text/javascript\">\n",
       "        window.PlotlyConfig = {MathJaxConfig: 'local'};\n",
       "        if (window.MathJax) {MathJax.Hub.Config({SVG: {font: \"STIX-Web\"}});}\n",
       "        if (typeof require !== 'undefined') {\n",
       "        require.undef(\"plotly\");\n",
       "        requirejs.config({\n",
       "            paths: {\n",
       "                'plotly': ['https://cdn.plot.ly/plotly-latest.min']\n",
       "            }\n",
       "        });\n",
       "        require(['plotly'], function(Plotly) {\n",
       "            window._Plotly = Plotly;\n",
       "        });\n",
       "        }\n",
       "        </script>\n",
       "        "
      ]
     },
     "metadata": {},
     "output_type": "display_data"
    }
   ],
   "source": [
    "import re\n",
    "from itertools import combinations\n",
    "import psycopg2\n",
    "import numpy as np\n",
    "import pandas as pd\n",
    "import plotly\n",
    "import chart_studio.plotly as py\n",
    "import plotly.graph_objs as go\n",
    "from IPython import display\n",
    "from bs4 import BeautifulSoup as bs\n",
    "\n",
    "from nbstyler import DATA_STYLE as DS\n",
    "\n",
    "plotly.offline.init_notebook_mode(connected=True)\n",
    "\n",
    "%matplotlib notebook\n",
    "%matplotlib inline"
   ]
  },
  {
   "cell_type": "markdown",
   "metadata": {},
   "source": [
    "### Objectives\n",
    "\n",
    "The main objective for this recipe is to try the plotly implementation of the chord diagram and to provide a clean recipe for preparing such charts in the future. \n",
    "\n",
    "\n",
    "### Data Preparation"
   ]
  },
  {
   "cell_type": "code",
   "execution_count": 2,
   "metadata": {},
   "outputs": [],
   "source": [
    "data_querystr = \"\"\"SELECT * FROM data_offers.do_full_offer_history\"\"\"\n",
    "conn = psycopg2.connect('dbname=jobsbg')\n",
    "data_df = pd.read_sql_query(data_querystr, conn, index_col='subm_date')\n",
    "conn.close()"
   ]
  },
  {
   "cell_type": "code",
   "execution_count": 3,
   "metadata": {},
   "outputs": [
    {
     "data": {
      "text/html": [
       "<div>\n",
       "<style scoped>\n",
       "    .dataframe tbody tr th:only-of-type {\n",
       "        vertical-align: middle;\n",
       "    }\n",
       "\n",
       "    .dataframe tbody tr th {\n",
       "        vertical-align: top;\n",
       "    }\n",
       "\n",
       "    .dataframe thead th {\n",
       "        text-align: right;\n",
       "    }\n",
       "</style>\n",
       "<table border=\"1\" class=\"dataframe\">\n",
       "  <thead>\n",
       "    <tr style=\"text-align: right;\">\n",
       "      <th></th>\n",
       "      <th>subm_type</th>\n",
       "      <th>job_id</th>\n",
       "      <th>company_id</th>\n",
       "      <th>norm_salary</th>\n",
       "      <th>job_title</th>\n",
       "      <th>company_name</th>\n",
       "      <th>text_salary</th>\n",
       "      <th>job_location</th>\n",
       "      <th>job_contents</th>\n",
       "    </tr>\n",
       "    <tr>\n",
       "      <th>subm_date</th>\n",
       "      <th></th>\n",
       "      <th></th>\n",
       "      <th></th>\n",
       "      <th></th>\n",
       "      <th></th>\n",
       "      <th></th>\n",
       "      <th></th>\n",
       "      <th></th>\n",
       "      <th></th>\n",
       "    </tr>\n",
       "  </thead>\n",
       "  <tbody>\n",
       "    <tr>\n",
       "      <th>2017-09-27</th>\n",
       "      <td>submission</td>\n",
       "      <td>3994555</td>\n",
       "      <td>67058</td>\n",
       "      <td>NaN</td>\n",
       "      <td>ETL Developer</td>\n",
       "      <td>Adastra Bulgaria Ltd.</td>\n",
       "      <td>None</td>\n",
       "      <td>София</td>\n",
       "      <td>&lt;!DOCTYPE html PUBLIC \"-//W3C//DTD XHTML 1.0 ...</td>\n",
       "    </tr>\n",
       "  </tbody>\n",
       "</table>\n",
       "</div>"
      ],
      "text/plain": [
       "             subm_type   job_id  company_id  norm_salary      job_title  \\\n",
       "subm_date                                                                 \n",
       "2017-09-27  submission  3994555       67058          NaN  ETL Developer   \n",
       "\n",
       "                     company_name text_salary job_location  \\\n",
       "subm_date                                                    \n",
       "2017-09-27  Adastra Bulgaria Ltd.        None        София   \n",
       "\n",
       "                                                 job_contents  \n",
       "subm_date                                                      \n",
       "2017-09-27   <!DOCTYPE html PUBLIC \"-//W3C//DTD XHTML 1.0 ...  "
      ]
     },
     "execution_count": 3,
     "metadata": {},
     "output_type": "execute_result"
    }
   ],
   "source": [
    "data_df.head(1)"
   ]
  },
  {
   "cell_type": "markdown",
   "metadata": {},
   "source": [
    "### Relationship Categories Definition"
   ]
  },
  {
   "cell_type": "markdown",
   "metadata": {},
   "source": [
    "In order to build the necessary data we first need to define the scope of the relationships we aim to observe. The search strings we will compare should be of the same semantic category to provide meaningful insight.\n",
    "\n",
    "To explore the data and prepare proper definitions we took a deep dive in the data offers' text contents. We used the `nltk` library for text processing to produce frequency distributions of most common words, bigrams and trigrams. Then those distributions were used to explore different possible relationship categories. See the details in the [Requirements Deep Dive Notebook](./Data_Offers_Requirements_Deep_Dive.ipynb).\n",
    "\n",
    "For the first chord diagram the chosen view is a breakdown by technology. Other possible relationships to explore are skill requirements breakdown, perks & benefits breakdown, job title breakdown, etc."
   ]
  },
  {
   "cell_type": "markdown",
   "metadata": {},
   "source": [
    "### Data Jobs Technology Requirement Relationships"
   ]
  },
  {
   "cell_type": "markdown",
   "metadata": {},
   "source": [
    "A preliminary list of terms that describe most often sought categories is presented below. We are going to use it to construct regex filters for selected key technologies."
   ]
  },
  {
   "cell_type": "code",
   "execution_count": 4,
   "metadata": {},
   "outputs": [],
   "source": [
    "tech_terms_filters = [\n",
    "    r'power bi', r'excel', r'ss[ir]s',\n",
    "    r'sql server', r'postgresql', r'(mysql)|(mariadb)', r't.?sql', r'pl.?sql',\n",
    "    r'pentaho', r'hadoop', r'spark', r'informatica',\n",
    "    r'qlik', r'tableau', r'microstrategy', r'oracle (bi)|(business intelligence)',\n",
    "    r'python', r'vba', r'linux', r'aws']\n",
    "\n",
    "tech_terms_labels = [\n",
    "    'Power BI', 'Excel', 'SSIS/SSRS',\n",
    "    'MS SQL Server', 'PostgreSQL', 'MySQL/MariaDB', 'T-SQL', 'PL/SQL',\n",
    "    'Pentaho', 'Hadoop', 'Spark', 'Informatica',\n",
    "    'Qlik', 'Tableau', 'Microstrategy', 'Oracle BI',\n",
    "    'Python', 'VBA', 'Linux', 'AWS']"
   ]
  },
  {
   "cell_type": "markdown",
   "metadata": {},
   "source": [
    "#### Preparing a square matrix with counts for matching filters"
   ]
  },
  {
   "cell_type": "markdown",
   "metadata": {},
   "source": [
    "First we define a helper function that returns `True` for job offers where both of the provided patterns are found in the job contents. We also prepare a list of all possible filter patterns' combinations."
   ]
  },
  {
   "cell_type": "code",
   "execution_count": 5,
   "metadata": {},
   "outputs": [],
   "source": [
    "def match_terms(first_term, second_term, text):\n",
    "    match_found = re.search(first_term, text, re.IGNORECASE) and re.search(second_term, text, re.IGNORECASE)\n",
    "    return True if match_found else False\n",
    "\n",
    "    \n",
    "def count_matches(first_term, second_term, col):\n",
    "    return sum([match_terms(first_term, second_term, t) for t in col.values])\n",
    "\n",
    "req_combinations = list(combinations(tech_terms_filters, 2))"
   ]
  },
  {
   "cell_type": "markdown",
   "metadata": {},
   "source": [
    "Building the counts in a dictionary with keys composed of tuples with both search terms. "
   ]
  },
  {
   "cell_type": "code",
   "execution_count": 6,
   "metadata": {},
   "outputs": [
    {
     "name": "stdout",
     "output_type": "stream",
     "text": [
      "CPU times: user 4min 9s, sys: 13.1 ms, total: 4min 9s\n",
      "Wall time: 4min 10s\n"
     ]
    }
   ],
   "source": [
    "%%time\n",
    "match_results = [count_matches(*tup, data_df.job_contents) for tup in req_combinations]\n",
    "match_dict = dict(zip(req_combinations, match_results))"
   ]
  },
  {
   "cell_type": "markdown",
   "metadata": {},
   "source": [
    "Another helper function will unpack the combinations counts into a square matrix form. Finally, a DataFrame is created from the combinations counts matrix. This is our main data source for the chord diagram. "
   ]
  },
  {
   "cell_type": "code",
   "execution_count": 7,
   "metadata": {},
   "outputs": [],
   "source": [
    "def make_matrix(headers, counts):\n",
    "    res = []\n",
    "    for k1 in headers:\n",
    "        row = []\n",
    "        for k2 in headers:\n",
    "            if k1 == k2:\n",
    "                row.append(0)\n",
    "            else:\n",
    "                curr_key = tuple([k1, k2])\n",
    "                cell_value = counts.get(curr_key) if curr_key in counts else counts.get(tuple([k2, k1]))\n",
    "                row.append(cell_value)\n",
    "        res.append(row)\n",
    "    return np.array(res, dtype=int)  "
   ]
  },
  {
   "cell_type": "code",
   "execution_count": 8,
   "metadata": {},
   "outputs": [],
   "source": [
    "tech_terms_matrix = make_matrix(tech_terms_filters, match_dict)"
   ]
  },
  {
   "cell_type": "code",
   "execution_count": 9,
   "metadata": {},
   "outputs": [
    {
     "data": {
      "text/html": [
       "<div>\n",
       "<style scoped>\n",
       "    .dataframe tbody tr th:only-of-type {\n",
       "        vertical-align: middle;\n",
       "    }\n",
       "\n",
       "    .dataframe tbody tr th {\n",
       "        vertical-align: top;\n",
       "    }\n",
       "\n",
       "    .dataframe thead th {\n",
       "        text-align: right;\n",
       "    }\n",
       "</style>\n",
       "<table border=\"1\" class=\"dataframe\">\n",
       "  <thead>\n",
       "    <tr style=\"text-align: right;\">\n",
       "      <th></th>\n",
       "      <th>Power BI</th>\n",
       "      <th>Excel</th>\n",
       "      <th>SSIS/SSRS</th>\n",
       "      <th>MS SQL Server</th>\n",
       "      <th>PostgreSQL</th>\n",
       "      <th>MySQL/MariaDB</th>\n",
       "      <th>T-SQL</th>\n",
       "      <th>PL/SQL</th>\n",
       "      <th>Pentaho</th>\n",
       "      <th>Hadoop</th>\n",
       "      <th>Spark</th>\n",
       "      <th>Informatica</th>\n",
       "      <th>Qlik</th>\n",
       "      <th>Tableau</th>\n",
       "      <th>Microstrategy</th>\n",
       "      <th>Oracle BI</th>\n",
       "      <th>Python</th>\n",
       "      <th>VBA</th>\n",
       "      <th>Linux</th>\n",
       "      <th>AWS</th>\n",
       "    </tr>\n",
       "  </thead>\n",
       "  <tbody>\n",
       "    <tr>\n",
       "      <th>Power BI</th>\n",
       "      <td>0</td>\n",
       "      <td>291</td>\n",
       "      <td>182</td>\n",
       "      <td>173</td>\n",
       "      <td>0</td>\n",
       "      <td>5</td>\n",
       "      <td>78</td>\n",
       "      <td>11</td>\n",
       "      <td>12</td>\n",
       "      <td>54</td>\n",
       "      <td>61</td>\n",
       "      <td>26</td>\n",
       "      <td>232</td>\n",
       "      <td>267</td>\n",
       "      <td>38</td>\n",
       "      <td>245</td>\n",
       "      <td>120</td>\n",
       "      <td>44</td>\n",
       "      <td>14</td>\n",
       "      <td>9</td>\n",
       "    </tr>\n",
       "    <tr>\n",
       "      <th>Excel</th>\n",
       "      <td>291</td>\n",
       "      <td>0</td>\n",
       "      <td>727</td>\n",
       "      <td>295</td>\n",
       "      <td>81</td>\n",
       "      <td>156</td>\n",
       "      <td>201</td>\n",
       "      <td>71</td>\n",
       "      <td>68</td>\n",
       "      <td>130</td>\n",
       "      <td>128</td>\n",
       "      <td>125</td>\n",
       "      <td>493</td>\n",
       "      <td>554</td>\n",
       "      <td>56</td>\n",
       "      <td>775</td>\n",
       "      <td>495</td>\n",
       "      <td>320</td>\n",
       "      <td>105</td>\n",
       "      <td>76</td>\n",
       "    </tr>\n",
       "    <tr>\n",
       "      <th>SSIS/SSRS</th>\n",
       "      <td>182</td>\n",
       "      <td>727</td>\n",
       "      <td>0</td>\n",
       "      <td>315</td>\n",
       "      <td>66</td>\n",
       "      <td>92</td>\n",
       "      <td>178</td>\n",
       "      <td>76</td>\n",
       "      <td>39</td>\n",
       "      <td>77</td>\n",
       "      <td>71</td>\n",
       "      <td>83</td>\n",
       "      <td>114</td>\n",
       "      <td>241</td>\n",
       "      <td>43</td>\n",
       "      <td>369</td>\n",
       "      <td>229</td>\n",
       "      <td>115</td>\n",
       "      <td>27</td>\n",
       "      <td>42</td>\n",
       "    </tr>\n",
       "    <tr>\n",
       "      <th>MS SQL Server</th>\n",
       "      <td>173</td>\n",
       "      <td>295</td>\n",
       "      <td>315</td>\n",
       "      <td>0</td>\n",
       "      <td>108</td>\n",
       "      <td>113</td>\n",
       "      <td>221</td>\n",
       "      <td>14</td>\n",
       "      <td>54</td>\n",
       "      <td>57</td>\n",
       "      <td>55</td>\n",
       "      <td>78</td>\n",
       "      <td>77</td>\n",
       "      <td>153</td>\n",
       "      <td>25</td>\n",
       "      <td>219</td>\n",
       "      <td>142</td>\n",
       "      <td>39</td>\n",
       "      <td>68</td>\n",
       "      <td>16</td>\n",
       "    </tr>\n",
       "    <tr>\n",
       "      <th>PostgreSQL</th>\n",
       "      <td>0</td>\n",
       "      <td>81</td>\n",
       "      <td>66</td>\n",
       "      <td>108</td>\n",
       "      <td>0</td>\n",
       "      <td>126</td>\n",
       "      <td>49</td>\n",
       "      <td>3</td>\n",
       "      <td>55</td>\n",
       "      <td>10</td>\n",
       "      <td>20</td>\n",
       "      <td>2</td>\n",
       "      <td>15</td>\n",
       "      <td>7</td>\n",
       "      <td>0</td>\n",
       "      <td>54</td>\n",
       "      <td>38</td>\n",
       "      <td>0</td>\n",
       "      <td>62</td>\n",
       "      <td>14</td>\n",
       "    </tr>\n",
       "    <tr>\n",
       "      <th>MySQL/MariaDB</th>\n",
       "      <td>5</td>\n",
       "      <td>156</td>\n",
       "      <td>92</td>\n",
       "      <td>113</td>\n",
       "      <td>126</td>\n",
       "      <td>0</td>\n",
       "      <td>47</td>\n",
       "      <td>1</td>\n",
       "      <td>73</td>\n",
       "      <td>17</td>\n",
       "      <td>42</td>\n",
       "      <td>11</td>\n",
       "      <td>18</td>\n",
       "      <td>74</td>\n",
       "      <td>0</td>\n",
       "      <td>84</td>\n",
       "      <td>78</td>\n",
       "      <td>6</td>\n",
       "      <td>67</td>\n",
       "      <td>11</td>\n",
       "    </tr>\n",
       "    <tr>\n",
       "      <th>T-SQL</th>\n",
       "      <td>78</td>\n",
       "      <td>201</td>\n",
       "      <td>178</td>\n",
       "      <td>221</td>\n",
       "      <td>49</td>\n",
       "      <td>47</td>\n",
       "      <td>0</td>\n",
       "      <td>56</td>\n",
       "      <td>50</td>\n",
       "      <td>52</td>\n",
       "      <td>47</td>\n",
       "      <td>19</td>\n",
       "      <td>84</td>\n",
       "      <td>135</td>\n",
       "      <td>21</td>\n",
       "      <td>189</td>\n",
       "      <td>78</td>\n",
       "      <td>27</td>\n",
       "      <td>35</td>\n",
       "      <td>19</td>\n",
       "    </tr>\n",
       "    <tr>\n",
       "      <th>PL/SQL</th>\n",
       "      <td>11</td>\n",
       "      <td>71</td>\n",
       "      <td>76</td>\n",
       "      <td>14</td>\n",
       "      <td>3</td>\n",
       "      <td>1</td>\n",
       "      <td>56</td>\n",
       "      <td>0</td>\n",
       "      <td>8</td>\n",
       "      <td>9</td>\n",
       "      <td>0</td>\n",
       "      <td>38</td>\n",
       "      <td>20</td>\n",
       "      <td>33</td>\n",
       "      <td>26</td>\n",
       "      <td>111</td>\n",
       "      <td>5</td>\n",
       "      <td>11</td>\n",
       "      <td>5</td>\n",
       "      <td>3</td>\n",
       "    </tr>\n",
       "    <tr>\n",
       "      <th>Pentaho</th>\n",
       "      <td>12</td>\n",
       "      <td>68</td>\n",
       "      <td>39</td>\n",
       "      <td>54</td>\n",
       "      <td>55</td>\n",
       "      <td>73</td>\n",
       "      <td>50</td>\n",
       "      <td>8</td>\n",
       "      <td>0</td>\n",
       "      <td>0</td>\n",
       "      <td>8</td>\n",
       "      <td>39</td>\n",
       "      <td>36</td>\n",
       "      <td>44</td>\n",
       "      <td>7</td>\n",
       "      <td>40</td>\n",
       "      <td>38</td>\n",
       "      <td>1</td>\n",
       "      <td>43</td>\n",
       "      <td>15</td>\n",
       "    </tr>\n",
       "    <tr>\n",
       "      <th>Hadoop</th>\n",
       "      <td>54</td>\n",
       "      <td>130</td>\n",
       "      <td>77</td>\n",
       "      <td>57</td>\n",
       "      <td>10</td>\n",
       "      <td>17</td>\n",
       "      <td>52</td>\n",
       "      <td>9</td>\n",
       "      <td>0</td>\n",
       "      <td>0</td>\n",
       "      <td>238</td>\n",
       "      <td>15</td>\n",
       "      <td>15</td>\n",
       "      <td>90</td>\n",
       "      <td>7</td>\n",
       "      <td>87</td>\n",
       "      <td>257</td>\n",
       "      <td>11</td>\n",
       "      <td>142</td>\n",
       "      <td>91</td>\n",
       "    </tr>\n",
       "    <tr>\n",
       "      <th>Spark</th>\n",
       "      <td>61</td>\n",
       "      <td>128</td>\n",
       "      <td>71</td>\n",
       "      <td>55</td>\n",
       "      <td>20</td>\n",
       "      <td>42</td>\n",
       "      <td>47</td>\n",
       "      <td>0</td>\n",
       "      <td>8</td>\n",
       "      <td>238</td>\n",
       "      <td>0</td>\n",
       "      <td>16</td>\n",
       "      <td>17</td>\n",
       "      <td>69</td>\n",
       "      <td>3</td>\n",
       "      <td>77</td>\n",
       "      <td>278</td>\n",
       "      <td>10</td>\n",
       "      <td>125</td>\n",
       "      <td>98</td>\n",
       "    </tr>\n",
       "    <tr>\n",
       "      <th>Informatica</th>\n",
       "      <td>26</td>\n",
       "      <td>125</td>\n",
       "      <td>83</td>\n",
       "      <td>78</td>\n",
       "      <td>2</td>\n",
       "      <td>11</td>\n",
       "      <td>19</td>\n",
       "      <td>38</td>\n",
       "      <td>39</td>\n",
       "      <td>15</td>\n",
       "      <td>16</td>\n",
       "      <td>0</td>\n",
       "      <td>101</td>\n",
       "      <td>84</td>\n",
       "      <td>27</td>\n",
       "      <td>146</td>\n",
       "      <td>34</td>\n",
       "      <td>6</td>\n",
       "      <td>15</td>\n",
       "      <td>25</td>\n",
       "    </tr>\n",
       "    <tr>\n",
       "      <th>Qlik</th>\n",
       "      <td>232</td>\n",
       "      <td>493</td>\n",
       "      <td>114</td>\n",
       "      <td>77</td>\n",
       "      <td>15</td>\n",
       "      <td>18</td>\n",
       "      <td>84</td>\n",
       "      <td>20</td>\n",
       "      <td>36</td>\n",
       "      <td>15</td>\n",
       "      <td>17</td>\n",
       "      <td>101</td>\n",
       "      <td>0</td>\n",
       "      <td>398</td>\n",
       "      <td>52</td>\n",
       "      <td>420</td>\n",
       "      <td>59</td>\n",
       "      <td>31</td>\n",
       "      <td>3</td>\n",
       "      <td>4</td>\n",
       "    </tr>\n",
       "    <tr>\n",
       "      <th>Tableau</th>\n",
       "      <td>267</td>\n",
       "      <td>554</td>\n",
       "      <td>241</td>\n",
       "      <td>153</td>\n",
       "      <td>7</td>\n",
       "      <td>74</td>\n",
       "      <td>135</td>\n",
       "      <td>33</td>\n",
       "      <td>44</td>\n",
       "      <td>90</td>\n",
       "      <td>69</td>\n",
       "      <td>84</td>\n",
       "      <td>398</td>\n",
       "      <td>0</td>\n",
       "      <td>75</td>\n",
       "      <td>550</td>\n",
       "      <td>207</td>\n",
       "      <td>95</td>\n",
       "      <td>33</td>\n",
       "      <td>37</td>\n",
       "    </tr>\n",
       "    <tr>\n",
       "      <th>Microstrategy</th>\n",
       "      <td>38</td>\n",
       "      <td>56</td>\n",
       "      <td>43</td>\n",
       "      <td>25</td>\n",
       "      <td>0</td>\n",
       "      <td>0</td>\n",
       "      <td>21</td>\n",
       "      <td>26</td>\n",
       "      <td>7</td>\n",
       "      <td>7</td>\n",
       "      <td>3</td>\n",
       "      <td>27</td>\n",
       "      <td>52</td>\n",
       "      <td>75</td>\n",
       "      <td>0</td>\n",
       "      <td>75</td>\n",
       "      <td>20</td>\n",
       "      <td>7</td>\n",
       "      <td>14</td>\n",
       "      <td>2</td>\n",
       "    </tr>\n",
       "    <tr>\n",
       "      <th>Oracle BI</th>\n",
       "      <td>245</td>\n",
       "      <td>775</td>\n",
       "      <td>369</td>\n",
       "      <td>219</td>\n",
       "      <td>54</td>\n",
       "      <td>84</td>\n",
       "      <td>189</td>\n",
       "      <td>111</td>\n",
       "      <td>40</td>\n",
       "      <td>87</td>\n",
       "      <td>77</td>\n",
       "      <td>146</td>\n",
       "      <td>420</td>\n",
       "      <td>550</td>\n",
       "      <td>75</td>\n",
       "      <td>0</td>\n",
       "      <td>228</td>\n",
       "      <td>95</td>\n",
       "      <td>11</td>\n",
       "      <td>60</td>\n",
       "    </tr>\n",
       "    <tr>\n",
       "      <th>Python</th>\n",
       "      <td>120</td>\n",
       "      <td>495</td>\n",
       "      <td>229</td>\n",
       "      <td>142</td>\n",
       "      <td>38</td>\n",
       "      <td>78</td>\n",
       "      <td>78</td>\n",
       "      <td>5</td>\n",
       "      <td>38</td>\n",
       "      <td>257</td>\n",
       "      <td>278</td>\n",
       "      <td>34</td>\n",
       "      <td>59</td>\n",
       "      <td>207</td>\n",
       "      <td>20</td>\n",
       "      <td>228</td>\n",
       "      <td>0</td>\n",
       "      <td>76</td>\n",
       "      <td>154</td>\n",
       "      <td>146</td>\n",
       "    </tr>\n",
       "    <tr>\n",
       "      <th>VBA</th>\n",
       "      <td>44</td>\n",
       "      <td>320</td>\n",
       "      <td>115</td>\n",
       "      <td>39</td>\n",
       "      <td>0</td>\n",
       "      <td>6</td>\n",
       "      <td>27</td>\n",
       "      <td>11</td>\n",
       "      <td>1</td>\n",
       "      <td>11</td>\n",
       "      <td>10</td>\n",
       "      <td>6</td>\n",
       "      <td>31</td>\n",
       "      <td>95</td>\n",
       "      <td>7</td>\n",
       "      <td>95</td>\n",
       "      <td>76</td>\n",
       "      <td>0</td>\n",
       "      <td>5</td>\n",
       "      <td>5</td>\n",
       "    </tr>\n",
       "    <tr>\n",
       "      <th>Linux</th>\n",
       "      <td>14</td>\n",
       "      <td>105</td>\n",
       "      <td>27</td>\n",
       "      <td>68</td>\n",
       "      <td>62</td>\n",
       "      <td>67</td>\n",
       "      <td>35</td>\n",
       "      <td>5</td>\n",
       "      <td>43</td>\n",
       "      <td>142</td>\n",
       "      <td>125</td>\n",
       "      <td>15</td>\n",
       "      <td>3</td>\n",
       "      <td>33</td>\n",
       "      <td>14</td>\n",
       "      <td>11</td>\n",
       "      <td>154</td>\n",
       "      <td>5</td>\n",
       "      <td>0</td>\n",
       "      <td>47</td>\n",
       "    </tr>\n",
       "    <tr>\n",
       "      <th>AWS</th>\n",
       "      <td>9</td>\n",
       "      <td>76</td>\n",
       "      <td>42</td>\n",
       "      <td>16</td>\n",
       "      <td>14</td>\n",
       "      <td>11</td>\n",
       "      <td>19</td>\n",
       "      <td>3</td>\n",
       "      <td>15</td>\n",
       "      <td>91</td>\n",
       "      <td>98</td>\n",
       "      <td>25</td>\n",
       "      <td>4</td>\n",
       "      <td>37</td>\n",
       "      <td>2</td>\n",
       "      <td>60</td>\n",
       "      <td>146</td>\n",
       "      <td>5</td>\n",
       "      <td>47</td>\n",
       "      <td>0</td>\n",
       "    </tr>\n",
       "  </tbody>\n",
       "</table>\n",
       "</div>"
      ],
      "text/plain": [
       "               Power BI  Excel  SSIS/SSRS  MS SQL Server  PostgreSQL  \\\n",
       "Power BI              0    291        182            173           0   \n",
       "Excel               291      0        727            295          81   \n",
       "SSIS/SSRS           182    727          0            315          66   \n",
       "MS SQL Server       173    295        315              0         108   \n",
       "PostgreSQL            0     81         66            108           0   \n",
       "MySQL/MariaDB         5    156         92            113         126   \n",
       "T-SQL                78    201        178            221          49   \n",
       "PL/SQL               11     71         76             14           3   \n",
       "Pentaho              12     68         39             54          55   \n",
       "Hadoop               54    130         77             57          10   \n",
       "Spark                61    128         71             55          20   \n",
       "Informatica          26    125         83             78           2   \n",
       "Qlik                232    493        114             77          15   \n",
       "Tableau             267    554        241            153           7   \n",
       "Microstrategy        38     56         43             25           0   \n",
       "Oracle BI           245    775        369            219          54   \n",
       "Python              120    495        229            142          38   \n",
       "VBA                  44    320        115             39           0   \n",
       "Linux                14    105         27             68          62   \n",
       "AWS                   9     76         42             16          14   \n",
       "\n",
       "               MySQL/MariaDB  T-SQL  PL/SQL  Pentaho  Hadoop  Spark  \\\n",
       "Power BI                   5     78      11       12      54     61   \n",
       "Excel                    156    201      71       68     130    128   \n",
       "SSIS/SSRS                 92    178      76       39      77     71   \n",
       "MS SQL Server            113    221      14       54      57     55   \n",
       "PostgreSQL               126     49       3       55      10     20   \n",
       "MySQL/MariaDB              0     47       1       73      17     42   \n",
       "T-SQL                     47      0      56       50      52     47   \n",
       "PL/SQL                     1     56       0        8       9      0   \n",
       "Pentaho                   73     50       8        0       0      8   \n",
       "Hadoop                    17     52       9        0       0    238   \n",
       "Spark                     42     47       0        8     238      0   \n",
       "Informatica               11     19      38       39      15     16   \n",
       "Qlik                      18     84      20       36      15     17   \n",
       "Tableau                   74    135      33       44      90     69   \n",
       "Microstrategy              0     21      26        7       7      3   \n",
       "Oracle BI                 84    189     111       40      87     77   \n",
       "Python                    78     78       5       38     257    278   \n",
       "VBA                        6     27      11        1      11     10   \n",
       "Linux                     67     35       5       43     142    125   \n",
       "AWS                       11     19       3       15      91     98   \n",
       "\n",
       "               Informatica  Qlik  Tableau  Microstrategy  Oracle BI  Python  \\\n",
       "Power BI                26   232      267             38        245     120   \n",
       "Excel                  125   493      554             56        775     495   \n",
       "SSIS/SSRS               83   114      241             43        369     229   \n",
       "MS SQL Server           78    77      153             25        219     142   \n",
       "PostgreSQL               2    15        7              0         54      38   \n",
       "MySQL/MariaDB           11    18       74              0         84      78   \n",
       "T-SQL                   19    84      135             21        189      78   \n",
       "PL/SQL                  38    20       33             26        111       5   \n",
       "Pentaho                 39    36       44              7         40      38   \n",
       "Hadoop                  15    15       90              7         87     257   \n",
       "Spark                   16    17       69              3         77     278   \n",
       "Informatica              0   101       84             27        146      34   \n",
       "Qlik                   101     0      398             52        420      59   \n",
       "Tableau                 84   398        0             75        550     207   \n",
       "Microstrategy           27    52       75              0         75      20   \n",
       "Oracle BI              146   420      550             75          0     228   \n",
       "Python                  34    59      207             20        228       0   \n",
       "VBA                      6    31       95              7         95      76   \n",
       "Linux                   15     3       33             14         11     154   \n",
       "AWS                     25     4       37              2         60     146   \n",
       "\n",
       "               VBA  Linux  AWS  \n",
       "Power BI        44     14    9  \n",
       "Excel          320    105   76  \n",
       "SSIS/SSRS      115     27   42  \n",
       "MS SQL Server   39     68   16  \n",
       "PostgreSQL       0     62   14  \n",
       "MySQL/MariaDB    6     67   11  \n",
       "T-SQL           27     35   19  \n",
       "PL/SQL          11      5    3  \n",
       "Pentaho          1     43   15  \n",
       "Hadoop          11    142   91  \n",
       "Spark           10    125   98  \n",
       "Informatica      6     15   25  \n",
       "Qlik            31      3    4  \n",
       "Tableau         95     33   37  \n",
       "Microstrategy    7     14    2  \n",
       "Oracle BI       95     11   60  \n",
       "Python          76    154  146  \n",
       "VBA              0      5    5  \n",
       "Linux            5      0   47  \n",
       "AWS              5     47    0  "
      ]
     },
     "execution_count": 9,
     "metadata": {},
     "output_type": "execute_result"
    }
   ],
   "source": [
    "tech_terms_df = pd.DataFrame(tech_terms_matrix, columns=tech_terms_labels, index=tech_terms_labels)\n",
    "tech_terms_df"
   ]
  },
  {
   "cell_type": "markdown",
   "metadata": {},
   "source": [
    "We can finally move to Plotly. \n",
    "\n",
    "A chord diagram encodes information in two graphical objects:\n",
    "\n",
    "- Ideograms, represented by distinctly colored arcs of circles;\n",
    "- Ribbons, that are planar shapes bounded by two quadratic Bezier curves and two arcs of circle,that can degenerate to a point;\n"
   ]
  },
  {
   "cell_type": "markdown",
   "metadata": {},
   "source": [
    "### Ideograms Preparation"
   ]
  },
  {
   "cell_type": "markdown",
   "metadata": {},
   "source": [
    "For each of our predefined tech terms we can produce a total hits count by summing up all the entries on the row (or column for that matter). That total count determines the size of each ideogram of the chart.\n",
    "\n",
    "We are going to need a couple of helper functions to process the data in order to get ideogram ends.\n"
   ]
  },
  {
   "cell_type": "code",
   "execution_count": 10,
   "metadata": {},
   "outputs": [],
   "source": [
    "PI = np.pi\n",
    "\n",
    "def moduloAB(x, a, b):\n",
    "    if a >= b:\n",
    "        raise ValueError('Incorrect interval ends')\n",
    "    y = (x-a) % (b-a)\n",
    "    return y+b if y < 0 else y+a\n",
    "\n",
    "\n",
    "def test_2PI(x):\n",
    "    return 0 <= x < 2*PI"
   ]
  },
  {
   "cell_type": "markdown",
   "metadata": {},
   "source": [
    "And now use them to compute the row sums and the lengths of corresponding ideograms."
   ]
  },
  {
   "cell_type": "code",
   "execution_count": 11,
   "metadata": {},
   "outputs": [],
   "source": [
    "row_sum = [np.sum(tech_terms_matrix[k, :]) for k in range(len(tech_terms_filters))]\n",
    "\n",
    "#set the gap between two consecutive ideograms\n",
    "gap = 2*PI*0.005\n",
    "ideogram_length = 2*PI*np.asarray(row_sum)/sum(row_sum)-gap*np.ones(len(tech_terms_filters))"
   ]
  },
  {
   "cell_type": "markdown",
   "metadata": {},
   "source": [
    "The next function returns the list of end angular coordinates for each ideogram arc:\n"
   ]
  },
  {
   "cell_type": "code",
   "execution_count": 12,
   "metadata": {},
   "outputs": [],
   "source": [
    "def get_ideogram_ends(ideogram_len, gap):\n",
    "    ideo_ends = []\n",
    "    left = 0\n",
    "    for k in range(len(ideogram_len)):\n",
    "        right = left+ideogram_len[k]\n",
    "        ideo_ends.append([left, right])\n",
    "        left = right+gap\n",
    "    return ideo_ends\n",
    "\n",
    "ideo_ends = get_ideogram_ends(ideogram_length, gap)"
   ]
  },
  {
   "cell_type": "markdown",
   "metadata": {},
   "source": [
    "The function make_ideogram_arc returns equally spaced points on an ideogram arc, expressed as complex numbers in polar form:"
   ]
  },
  {
   "cell_type": "code",
   "execution_count": 13,
   "metadata": {},
   "outputs": [],
   "source": [
    "def make_ideogram_arc(R, phi, a=50):\n",
    "    if not test_2PI(phi[0]) or not test_2PI(phi[1]):\n",
    "        phi = [moduloAB(t, 0, 2*PI) for t in phi]\n",
    "    length = (phi[1]-phi[0]) % 2*PI\n",
    "    nr = 5 if length <= PI/4 else int(a*length/PI)\n",
    "    if phi[0] < phi[1]:\n",
    "        theta = np.linspace(phi[0], phi[1], nr)\n",
    "    else:\n",
    "        phi = [moduloAB(t, -PI, PI) for t in phi]\n",
    "        theta = np.linspace(phi[0], phi[1], nr)\n",
    "    return R*np.exp(1j*theta)"
   ]
  },
  {
   "cell_type": "code",
   "execution_count": 14,
   "metadata": {},
   "outputs": [],
   "source": [
    "z = make_ideogram_arc(1.3, [11*PI/6, PI/17])"
   ]
  },
  {
   "cell_type": "markdown",
   "metadata": {},
   "source": [
    "### Ribbons Preparation"
   ]
  },
  {
   "cell_type": "markdown",
   "metadata": {},
   "source": [
    "The function map_data maps all matrix entries to the corresponding values in the intervals associated to ideograms:"
   ]
  },
  {
   "cell_type": "code",
   "execution_count": 15,
   "metadata": {},
   "outputs": [],
   "source": [
    "def map_data(data_matrix, row_value, ideogram_length):\n",
    "    mapped = np.zeros(data_matrix.shape)\n",
    "    for j in range(len(tech_terms_filters)):\n",
    "        mapped[:, j] = ideogram_length*data_matrix[:, j]/row_value\n",
    "    return mapped\n",
    "\n",
    "mapped_data = map_data(tech_terms_matrix, row_sum, ideogram_length)"
   ]
  },
  {
   "cell_type": "markdown",
   "metadata": {},
   "source": [
    "The array idx_sort, defined below, has on each row the indices that sort the corresponding row in mapped_data:\n"
   ]
  },
  {
   "cell_type": "code",
   "execution_count": 16,
   "metadata": {},
   "outputs": [],
   "source": [
    "idx_sort = np.argsort(mapped_data, axis=1)"
   ]
  },
  {
   "cell_type": "code",
   "execution_count": 17,
   "metadata": {},
   "outputs": [
    {
     "name": "stdout",
     "output_type": "stream",
     "text": [
      "ribbon ends starting from the ideogram[2]\n",
      " [(1.246641165657638, 1.246641165657638), (1.246641165657638, 1.2511686004343254), (1.2511686004343254, 1.2577082284450964), (1.2577082284450964, 1.2647509047643883), (1.2647509047643883, 1.271961263853187), (1.271961263853187, 1.2830283266406455), (1.2830283266406455, 1.2949338032756388), (1.2949338032756388, 1.3076776937581667), (1.3076776937581667, 1.3205892670102015), (1.3205892670102015, 1.3345069368792781), (1.3345069368792781, 1.3499337516739174), (1.3499337516739174, 1.3690495873977093), (1.3690495873977093, 1.3883331058910082), (1.3883331058910082, 1.4181806388632447), (1.4181806388632447, 1.4486989029135091), (1.4486989029135091, 1.4870982571306), (1.4870982571306, 1.5275098045817743), (1.5275098045817743, 1.5803298769764627), (1.5803298769764627, 1.6422048189245262), (1.6422048189245262, 1.764110192356077)]\n"
     ]
    }
   ],
   "source": [
    "def make_ribbon_ends(mapped_data, ideo_ends,  idx_sort):\n",
    "    L = mapped_data.shape[0]\n",
    "    ribbon_boundary = np.zeros((L, L+1))\n",
    "    for k in range(L):\n",
    "        start = ideo_ends[k][0]\n",
    "        ribbon_boundary[k][0] = start\n",
    "        for j in range(1, L+1):\n",
    "            J = idx_sort[k][j-1]\n",
    "            ribbon_boundary[k][j] = start+mapped_data[k][J]\n",
    "            start = ribbon_boundary[k][j]\n",
    "    return [[(ribbon_boundary[k][j], ribbon_boundary[k][j+1]) for j in range(L)] for k in range(L)]\n",
    "\n",
    "\n",
    "ribbon_ends = make_ribbon_ends(mapped_data, ideo_ends, idx_sort)\n",
    "print('ribbon ends starting from the ideogram[2]\\n', ribbon_ends[2])"
   ]
  },
  {
   "cell_type": "code",
   "execution_count": 18,
   "metadata": {},
   "outputs": [],
   "source": [
    "def control_pts(angle, radius):\n",
    "    if len(angle) != 3:\n",
    "        raise InvalidInputError('angle must have len =3')\n",
    "    b_cplx = np.array([np.exp(1j*angle[k]) for k in range(3)])\n",
    "    b_cplx[1] = radius*b_cplx[1]\n",
    "    return zip(b_cplx.real, b_cplx.imag)"
   ]
  },
  {
   "cell_type": "code",
   "execution_count": 19,
   "metadata": {},
   "outputs": [],
   "source": [
    "def ctrl_rib_chords(l, r, radius):\n",
    "    if len(l) != 2 or len(r) != 2:\n",
    "        raise ValueError('the arc ends must be elements in a list of len 2')\n",
    "    return [control_pts([l[j], (l[j]+r[j])/2, r[j]], radius) for j in range(2)]"
   ]
  },
  {
   "cell_type": "code",
   "execution_count": 20,
   "metadata": {},
   "outputs": [
    {
     "data": {
      "text/plain": [
       "'M 1,4 Q -0.5, 2.35 3.745, 1.47'"
      ]
     },
     "execution_count": 20,
     "metadata": {},
     "output_type": "execute_result"
    }
   ],
   "source": [
    "def make_q_bezier(b):\n",
    "    if len(b) != 3:\n",
    "        raise ValueError('control poligon must have 3 points')\n",
    "    A, B, C = b\n",
    "    return 'M ' + str(A[0]) + ',' + str(A[1]) + ' ' + 'Q ' + \\\n",
    "        str(B[0]) + ', ' + str(B[1]) + ' ' + \\\n",
    "        str(C[0]) + ', ' + str(C[1])\n",
    "\n",
    "\n",
    "b = [(1,4), (-0.5, 2.35), (3.745, 1.47)]\n",
    "make_q_bezier(b)"
   ]
  },
  {
   "cell_type": "code",
   "execution_count": 21,
   "metadata": {},
   "outputs": [],
   "source": [
    "def make_ribbon_arc(theta0, theta1):\n",
    "    if test_2PI(theta0) and test_2PI(theta1):\n",
    "        if theta0 < theta1:\n",
    "            theta0 = moduloAB(theta0, -PI, PI)\n",
    "            theta1 = moduloAB(theta1, -PI, PI)\n",
    "            if theta0*theta1 > 0:\n",
    "                raise ValueError('incorrect angle coordinates for ribbon')\n",
    "\n",
    "        nr = int(40*(theta0-theta1)/PI)\n",
    "        if nr <= 2: \n",
    "            nr = 3\n",
    "        theta = np.linspace(theta0, theta1, nr)\n",
    "        pts = np.exp(1j*theta)\n",
    "\n",
    "        string_arc = ''\n",
    "        for k in range(len(theta)):\n",
    "            string_arc += 'L ' + str(pts.real[k]) + ', ' + str(pts.imag[k]) + ' '\n",
    "        return string_arc\n",
    "    else:\n",
    "        raise ValueError('the angle coordinates for an arc side of a ribbon must be in [0, 2*pi]')"
   ]
  },
  {
   "cell_type": "code",
   "execution_count": 22,
   "metadata": {},
   "outputs": [],
   "source": [
    "def make_ideo_shape(path, line_color, fill_color):\n",
    "    return dict(\n",
    "        line=dict(color=line_color, width=0.45),\n",
    "        path=path,\n",
    "        type='path',\n",
    "        fillcolor=fill_color,\n",
    "        layer='below',\n",
    "    )"
   ]
  },
  {
   "cell_type": "code",
   "execution_count": 23,
   "metadata": {},
   "outputs": [],
   "source": [
    "temp_colors = [*DS['colorramp']['acc1'], *DS['colorramp']['acc2']]\n",
    "len_datalist = len(tech_terms_filters)\n",
    "ideo_colors = temp_colors[:len_datalist]"
   ]
  },
  {
   "cell_type": "code",
   "execution_count": 24,
   "metadata": {},
   "outputs": [],
   "source": [
    "def make_ribbon(l, r, line_color, fill_color, radius=0.2):\n",
    "    poligon = ctrl_rib_chords(l, r, radius)\n",
    "    b, c = poligon\n",
    "\n",
    "    return dict(\n",
    "        line=dict(\n",
    "            color=line_color,\n",
    "            width=0.5\n",
    "            ),\n",
    "        path=make_q_bezier(list(b))+make_ribbon_arc(r[0], r[1])+make_q_bezier(list(c)[::-1])+make_ribbon_arc(l[1], l[0]),\n",
    "        type='path',\n",
    "        fillcolor=fill_color,\n",
    "        layer='below'\n",
    "    )\n",
    "\n",
    "\n",
    "def make_self_rel(l, line_color, fill_color, radius):\n",
    "    b = control_pts([l[0], (l[0]+l[1])/2, l[1]], radius)\n",
    "    return dict(\n",
    "        line=dict(\n",
    "            color=line_color,\n",
    "            width=0.5\n",
    "            ),\n",
    "        path=make_q_bezier(b)+make_ribbon_arc(l[1], l[0]),\n",
    "        type='path',\n",
    "        fillcolor=fill_color,\n",
    "        layer='below'\n",
    "    )\n",
    "\n",
    "\n",
    "def invPerm(perm):\n",
    "    inv = [0] * len(perm)\n",
    "    for i, s in enumerate(perm):\n",
    "        inv[s] = i\n",
    "    return inv"
   ]
  },
  {
   "cell_type": "code",
   "execution_count": 25,
   "metadata": {},
   "outputs": [],
   "source": [
    "radii_sribb = [0.4, 0.30, 0.35, 0.39, 0.12]"
   ]
  },
  {
   "cell_type": "code",
   "execution_count": 26,
   "metadata": {},
   "outputs": [],
   "source": [
    "shapes = []\n",
    "ribbon_info = []\n",
    "\n",
    "for k in range(len(tech_terms_filters)):\n",
    "    sigma = idx_sort[k]\n",
    "    sigma_inv = invPerm(sigma)\n",
    "    for j in range(k, len(tech_terms_filters)):\n",
    "        if tech_terms_matrix[k][j] == 0 and tech_terms_matrix[j][k] == 0:\n",
    "            continue\n",
    "        eta = idx_sort[j]\n",
    "        eta_inv = invPerm(eta)\n",
    "        l = ribbon_ends[k][sigma_inv[j]]\n",
    "\n",
    "        if j == k:\n",
    "            shapes.append(make_self_rel(l, DS['colors']['acc1'], ideo_colors[k], radius=radii_sribb[k]))\n",
    "            z = 0.9*np.exp(1j*(l[0]+l[1])/2)\n",
    "            text = tech_terms_labels[k]+' appears in ' + '{:d}'.format(tech_terms_matrix[k][k]),\n",
    "            ribbon_info.append(\n",
    "                go.Scatter(\n",
    "                    x=[z.real],\n",
    "                    y=[z.imag],\n",
    "                    mode='markers',\n",
    "                    marker=dict(size=0.5, color=ideo_colors[k]),\n",
    "                    text=text,\n",
    "                    hoverinfo='text',\n",
    "                ),\n",
    "            )\n",
    "        else:\n",
    "            r = ribbon_ends[j][eta_inv[k]]\n",
    "            zi = 0.9*np.exp(1j*(l[0]+l[1])/2)\n",
    "            zf = 0.9*np.exp(1j*(r[0]+r[1])/2)\n",
    "            texti = tech_terms_labels[k]+' appears with '+tech_terms_labels[j]+' {:d}'.format(tech_terms_matrix[k][j])+' times'\n",
    "            textf = tech_terms_labels[j]+' appears with '+tech_terms_labels[k]+' {:d}'.format(tech_terms_matrix[j][k])+' times'\n",
    "\n",
    "            ribbon_info.append(go.Scatter(\n",
    "                x=[zi.real],\n",
    "                y=[zi.imag],\n",
    "                mode='markers',\n",
    "                marker=dict(size=0.5, color='green'),\n",
    "                text=texti,\n",
    "                hoverinfo='text'\n",
    "            )),\n",
    "            ribbon_info.append(go.Scatter(\n",
    "                x=[zf.real],\n",
    "                y=[zf.imag],\n",
    "                mode='markers',\n",
    "                marker=dict(size=0.5, color='blue'),\n",
    "                text=textf,\n",
    "                hoverinfo='text'\n",
    "            ))\n",
    "            r = (r[1], r[0])\n",
    "            shapes.append(make_ribbon(l, r, 'rgb(175,175,175)', ideo_colors[k]))"
   ]
  },
  {
   "cell_type": "code",
   "execution_count": 27,
   "metadata": {},
   "outputs": [
    {
     "name": "stderr",
     "output_type": "stream",
     "text": [
      "/run/media/deo/Games/WORKSPACE/jpynb_Job_Market_Trends_Bulgaria/ve-jobmarkettrends/lib/python3.8/site-packages/plotly/graph_objs/_deprecations.py:31: DeprecationWarning:\n",
      "\n",
      "plotly.graph_objs.Data is deprecated.\n",
      "Please replace it with a list or tuple of instances of the following types\n",
      "  - plotly.graph_objs.Scatter\n",
      "  - plotly.graph_objs.Bar\n",
      "  - plotly.graph_objs.Area\n",
      "  - plotly.graph_objs.Histogram\n",
      "  - etc.\n",
      "\n",
      "\n"
     ]
    }
   ],
   "source": [
    "ideograms = []\n",
    "for k in range(len(ideo_ends)):\n",
    "    z = make_ideogram_arc(1.1, ideo_ends[k])\n",
    "    zi = make_ideogram_arc(1.0, ideo_ends[k])\n",
    "    m = len(z)\n",
    "    n = len(zi)\n",
    "    ideograms.append(go.Scatter(\n",
    "        x=z.real,\n",
    "        y=z.imag,\n",
    "        mode='lines',\n",
    "        line=dict(color=ideo_colors[k], shape='spline', width=0.25),\n",
    "        text=tech_terms_labels[k]+'<br>'+'{:d}'.format(row_sum[k]),\n",
    "        hoverinfo='text',))\n",
    "\n",
    "    path = 'M '\n",
    "    for s in range(m):\n",
    "        path += str(z.real[s])+', '+str(z.imag[s])+' L '\n",
    "\n",
    "    Zi = np.array(zi.tolist()[::-1])\n",
    "\n",
    "    for s in range(m):\n",
    "        path += str(Zi.real[s])+', '+str(Zi.imag[s])+' L '\n",
    "    path += str(z.real[0])+' ,'+str(z.imag[0])\n",
    "\n",
    "    shapes.append(make_ideo_shape(path, 'rgb(150,150,150)', ideo_colors[k]))\n",
    "\n",
    "data = go.Data(ideograms+ribbon_info)\n"
   ]
  },
  {
   "cell_type": "code",
   "execution_count": 32,
   "metadata": {},
   "outputs": [],
   "source": [
    "layout = go.Layout(\n",
    "    paper_bgcolor=DS['colors']['bg1'],\n",
    "    plot_bgcolor=DS['colors']['bg1'],\n",
    "    title='Data Jobs ‒ Technologies in Demand and Relationships Between Them',\n",
    "    titlefont=DS['chart_fonts']['title'],\n",
    "    font=DS['chart_fonts']['text'],\n",
    "    autosize=False,\n",
    "    width=960,\n",
    "    height=540,\n",
    "    margin=dict(\n",
    "        l=280,\n",
    "        r=280,\n",
    "        t=80,\n",
    "        b=10,\n",
    "    ),\n",
    "    showlegend=False,\n",
    "    hidesources=True,\n",
    "    xaxis=dict(\n",
    "        showline=False,\n",
    "        zeroline=False,\n",
    "        showgrid=False,\n",
    "        showticklabels=False,\n",
    "        title='',\n",
    "    ),\n",
    "    yaxis=dict(\n",
    "        showline=False,\n",
    "        zeroline=False,\n",
    "        showgrid=False,\n",
    "        showticklabels=False,\n",
    "        title='',\n",
    "    ),\n",
    "    shapes=shapes,\n",
    "    hovermode='closest',\n",
    "    hoverdistance=40,\n",
    ")"
   ]
  },
  {
   "cell_type": "code",
   "execution_count": 33,
   "metadata": {},
   "outputs": [
    {
     "data": {
      "application/vnd.plotly.v1+json": {
       "config": {
        "linkText": "Export to plot.ly",
        "plotlyServerURL": "https://plot.ly",
        "showLink": false
       },
       "data": [
        {
         "hoverinfo": "text",
         "line": {
          "color": "#f2e6ce",
          "shape": "spline",
          "width": 0.25
         },
         "mode": "lines",
         "text": "Power BI<br>1862",
         "type": "scatter",
         "x": [
          1.1,
          1.099707572597047,
          1.0988304458677993,
          1.0973690861684229,
          1.0953242704836845,
          1.0926970860138392,
          1.0894889295965804,
          1.085701506964362,
          1.0813368318374823,
          1.0763972248534182,
          1.0708853123329727,
          1.0648040248838984,
          1.0581565958427317,
          1.0509465595556748
         ],
         "y": [
          0,
          0.025362467796143956,
          0.050711450718487726,
          0.07603347106295226,
          0.10131506546108873,
          0.12654279203836558,
          0.15170323756102752,
          0.17678302456772668,
          0.20176881848213404,
          0.2266473347027494,
          0.2514053456661405,
          0.2760296878798559,
          0.30050726892127205,
          0.3248250743986534
         ]
        },
        {
         "hoverinfo": "text",
         "line": {
          "color": "#ecd5bb",
          "shape": "spline",
          "width": 0.25
         },
         "mode": "lines",
         "text": "Excel<br>5147",
         "type": "scatter",
         "x": [
          1.0402249787152207,
          1.0326521439644087,
          1.0246428435450738,
          1.0162004627062398,
          1.0073285697447603,
          0.9980309144971272,
          0.9883114267545456,
          0.97817421460195,
          0.9676235626816618,
          0.9566639303824215,
          0.9452999499545625,
          0.9335364245521224,
          0.9213783262027184,
          0.908830793706047,
          0.8958991304618946,
          0.8825888022285767,
          0.8689054348127547,
          0.8548548116916063,
          0.8404428715683524,
          0.8256757058621776,
          0.8105595561336013,
          0.7951008114463904,
          0.779306005667127,
          0.7631818147035736,
          0.7467350536830015,
          0.7299726740716773,
          0.7129017607367227,
          0.6955295289515917,
          0.6778633213464269,
          0.659910604804591,
          0.6416789673066763,
          0.6231761147233338,
          0.6044098675582729,
          0.5853881576428099,
          0.5661190247833632,
          0.5466106133633094,
          0.5268711689006406,
          0.5069090345628727,
          0.4867326476406858,
          0.4663505359817749,
          0.4457713143864319,
          0.4250036809663724,
          0.40405641346834964,
          0.3829383655641115
         ],
         "y": [
          0.357675822018932,
          0.3789848935851009,
          0.4001337815929385,
          0.42111354715281313,
          0.44191532285719154,
          0.46253031652857973,
          0.48294981493566663,
          0.5031651874760995,
          0.5231678898243357,
          0.542949467543028,
          0.5625015596564171,
          0.5818159021842217,
          0.6008843316345313,
          0.619698788454227,
          0.6382513204354703,
          0.656534086076821,
          0.6745393578975638,
          0.6922595257038423,
          0.7096870998052186,
          0.7268147141803026,
          0.7436351295901098,
          0.7601412366378315,
          0.7763260587737268,
          0.7921827552438645,
          0.8077046239814684,
          0.8228851044396448,
          0.8377177803642947,
          0.852196382506038,
          0.8663147912700042,
          0.8800670393023698,
          0.8934473140125486,
          0.9064499600299679,
          0.9190694815943957,
          0.9313005448788038,
          0.9431379802437891,
          0.9545767844225979,
          0.9656121226358299,
          0.9762393306349303,
          0.9864539166736012,
          0.9962515634063073,
          1.0056281297130631,
          1.0145796524497395,
          1.0231023481231456,
          1.031192614490177
         ]
        },
        {
         "hoverinfo": "text",
         "line": {
          "color": "#e6c4a9",
          "shape": "spline",
          "width": 0.25
         },
         "mode": "lines",
         "text": "SSIS/SSRS<br>3086",
         "type": "scatter",
         "x": [
          0.35035886582016396,
          0.32779703700515533,
          0.30508282592134384,
          0.28222679167277376,
          0.2592395592925033,
          0.23613181480337003,
          0.2129143002504043,
          0.1895978087071973,
          0.16619317925855132,
          0.1427112919617371,
          0.11916306278870684,
          0.09555943855161184,
          0.07191139181398076,
          0.048229915789930834,
          0.02452601923377551,
          0.0008107213224103638,
          -0.022904953467146008,
          -0.046609980482677234,
          -0.0702933400217736,
          -0.09394402245453562,
          -0.11755103334159707,
          -0.14110339854508472,
          -0.1645901693301402,
          -0.18800042745463505,
          -0.21132329024470878
         ],
         "y": [
          1.0427121679261293,
          1.0500233818971085,
          1.0568464738682943,
          1.0631782720043206,
          1.0690158328564778,
          1.0743564427310273,
          1.0791976189507095,
          1.0835371110088612,
          1.0873729016156026,
          1.0907032076356116,
          1.0935264809170444,
          1.0958414090112223,
          1.0976469157827466,
          1.0989421619097597,
          1.0997265452741172,
          1.0999997012412948,
          1.0997615028298946,
          1.0990120607706744,
          1.097751723455073,
          1.0959810767732543,
          1.0937009438417444,
          1.090912384620794,
          1.0876166954216342,
          1.0838154083038656,
          1.0795102903632512
         ]
        },
        {
         "hoverinfo": "text",
         "line": {
          "color": "#e1b396",
          "shape": "spline",
          "width": 0.25
         },
         "mode": "lines",
         "text": "MS SQL Server<br>2222",
         "type": "scatter",
         "x": [
          -0.24512725261061846,
          -0.2680171612011081,
          -0.29078433639385337,
          -0.3134183523909095,
          -0.3359088443720703,
          -0.35824551324124304,
          -0.380418130342724,
          -0.4024165421452187,
          -0.42423067489145916,
          -0.4458505392112918,
          -0.46726623469612044,
          -0.48846795443261043,
          -0.509445989493582,
          -0.530190733384027,
          -0.5506926864402235,
          -0.5709424601799286,
          -0.5909307816016534,
          -0.6106484974310623
         ],
         "y": [
          1.0723397922429112,
          1.0668490058587015,
          1.0608696761186014,
          1.0544045411437528,
          1.0474565615206295,
          1.0400289189452947,
          1.0321250147664025,
          1.0237484684276141,
          1.0149031158101434,
          1.0055930074761859,
          0.9958224068140414,
          0.9855957880857759,
          0.9749178343783159,
          0.9637934354589203,
          0.9522276855360013,
          0.9402258809263287,
          0.9277935176296821,
          0.9149362888120605
         ]
        },
        {
         "hoverinfo": "text",
         "line": {
          "color": "#dba284",
          "shape": "spline",
          "width": 0.25
         },
         "mode": "lines",
         "text": "PostgreSQL<br>710",
         "type": "scatter",
         "x": [
          -0.6390860225995356,
          -0.6601379444762521,
          -0.6808185685890592,
          -0.7011162630213958,
          -0.7210196112373409
         ],
         "y": [
          0.8953038901501021,
          0.8798965247474666,
          0.8639942573098185,
          0.8476060321440104,
          0.8307410668861591
         ]
        },
        {
         "hoverinfo": "text",
         "line": {
          "color": "#d59171",
          "shape": "spline",
          "width": 0.25
         },
         "mode": "lines",
         "text": "MySQL/MariaDB<br>1021",
         "type": "scatter",
         "x": [
          -0.74675803909234,
          -0.7765495348817533,
          -0.8052464833057144,
          -0.8328084359860018,
          -0.8591965443220597
         ],
         "y": [
          0.8076833730187614,
          0.7790833202391981,
          0.7493851487211233,
          0.7186307180677359,
          0.6868633766805674
         ]
        },
        {
         "hoverinfo": "text",
         "line": {
          "color": "#d0805f",
          "shape": "spline",
          "width": 0.25
         },
         "mode": "lines",
         "text": "T-SQL<br>1586",
         "type": "scatter",
         "x": [
          -0.8803474827379677,
          -0.8951475158508897,
          -0.909482700608507,
          -0.9233455927773954,
          -0.9367289933847477,
          -0.9496259524567885,
          -0.9620297726278797,
          -0.973934012618452,
          -0.9853324905799464,
          -0.9962192873050373,
          -1.0065887493014642,
          -1.016435491727882
         ],
         "y": [
          0.6595364354127253,
          0.6393050327238018,
          0.6187416401809862,
          0.5978569363138314,
          0.5766617665082344,
          0.5551671373744467,
          0.5333842110313637,
          0.5113242993100573,
          0.48899885787956593,
          0.46641948029798663,
          0.44359789199196376,
          0.4205459441676961
         ]
        },
        {
         "hoverinfo": "text",
         "line": {
          "color": "#ca6f4c",
          "shape": "spline",
          "width": 0.25
         },
         "mode": "lines",
         "text": "PL/SQL<br>501",
         "type": "scatter",
         "x": [
          -1.0291436095041218,
          -1.0346385624351606,
          -1.0399182801560638,
          -1.0449816643304706,
          -1.0498276616257525
         ],
         "y": [
          0.3884114197816897,
          0.37352783714484344,
          0.3585665497467028,
          0.3435306699744869,
          0.328423325732818
         ]
        },
        {
         "hoverinfo": "text",
         "line": {
          "color": "#c45e3a",
          "shape": "spline",
          "width": 0.25
         },
         "mode": "lines",
         "text": "Pentaho<br>630",
         "type": "scatter",
         "x": [
          -1.0596256610085861,
          -1.0653627321048387,
          -1.070666851774426,
          -1.075535864482797,
          -1.079967791517974
         ],
         "y": [
          0.2952853848942021,
          0.27386538489212847,
          0.2523340890792196,
          0.23070024753181953,
          0.20897265199970516
         ]
        },
        {
         "hoverinfo": "text",
         "line": {
          "color": "#bf4d28",
          "shape": "spline",
          "width": 0.25
         },
         "mode": "lines",
         "text": "Hadoop<br>1359",
         "type": "scatter",
         "x": [
          -1.085998882231786,
          -1.093691897908983,
          -1.098362509106382,
          -1.0999978086457978,
          -1.0985932773965106
         ],
         "y": [
          0.17494692849922114,
          0.11763516671577054,
          0.05999832155596572,
          0.002195671752094502,
          -0.05561304576440436
         ]
        },
        {
         "hoverinfo": "text",
         "line": {
          "color": "#af4624",
          "shape": "spline",
          "width": 0.25
         },
         "mode": "lines",
         "text": "Spark<br>1363",
         "type": "scatter",
         "x": [
          -1.0963043399493957,
          -1.0900287958066717,
          -1.0807205590699946,
          -1.0684055272392499,
          -1.0531179633595704
         ],
         "y": [
          -0.09009325284459478,
          -0.14777423426381692,
          -0.20504407624566548,
          -0.2617434418750939,
          -0.3177145814239422
         ]
        },
        {
         "hoverinfo": "text",
         "line": {
          "color": "#9f4021",
          "shape": "spline",
          "width": 0.25
         },
         "mode": "lines",
         "text": "Informatica<br>890",
         "type": "scatter",
         "x": [
          -1.042618657044173,
          -1.0309736410806305,
          -1.0182913555065831,
          -1.004584560056027,
          -0.9898670452293321
         ],
         "y": [
          -0.35063704308501903,
          -0.38352751061292517,
          -0.41603210849712785,
          -0.4481181336400467,
          -0.4797533040729908
         ]
        },
        {
         "hoverinfo": "text",
         "line": {
          "color": "#8f391e",
          "shape": "spline",
          "width": 0.25
         },
         "mode": "lines",
         "text": "Qlik<br>2189",
         "type": "scatter",
         "x": [
          -0.9743091901453871,
          -0.9626438487405433,
          -0.9504967880435299,
          -0.9378740865988564,
          -0.9247820609677436,
          -0.9112272625672383,
          -0.8972164743917982,
          -0.8827567076189959,
          -0.8678551981010357,
          -0.8525194027438406,
          -0.8367569957755204,
          -0.8205758649060917,
          -0.8039841073803651,
          -0.7869900259259814,
          -0.7696021245986205,
          -0.7518291045264622,
          -0.7336798595560314
         ],
         "y": [
          -0.5106090500551671,
          -0.5322751360734355,
          -0.5536748648068948,
          -0.5747975275576271,
          -0.5956325542750771,
          -0.6161695188454372,
          -0.6363981443090103,
          -0.6563083080029314,
          -0.6758900466266774,
          -0.6951335612278301,
          -0.7140292221055984,
          -0.7325675736296412,
          -0.7507393389717885,
          -0.7685354247482827,
          -0.7859469255702254,
          -0.802965128499948,
          -0.8195815174110762
         ]
        },
        {
         "hoverinfo": "text",
         "line": {
          "color": "#f0f3e7",
          "shape": "spline",
          "width": 0.25
         },
         "mode": "lines",
         "text": "Tableau<br>3146",
         "type": "scatter",
         "x": [
          -0.7075741552461761,
          -0.6896251084770172,
          -0.6713682987576325,
          -0.6528118736591451,
          -0.6339641144637537,
          -0.6148334324689944,
          -0.59542836523398,
          -0.5757575727693011,
          -0.5558298336722657,
          -0.5356540412092314,
          -0.5152391993467533,
          -0.4945944187333293,
          -0.47372891263354466,
          -0.4526519928164126,
          -0.4313730653997551,
          -0.4099016266524864,
          -0.3882472587566557,
          -0.366419625531149,
          -0.3444284681189671,
          -0.32228360063998696,
          -0.29999490581115523,
          -0.27757233053607827,
          -0.25502588146595284,
          -0.23236562053384704,
          -0.2096016604643011,
          -0.18674416026026086
         ],
         "y": [
          -0.8422225447158611,
          -0.8569814524002619,
          -0.8713579100595131,
          -0.8853455018294477,
          -0.8989379853873062,
          -0.912129294737536,
          -0.9249135429188992,
          -0.9372850246316768,
          -0.9492382187838106,
          -0.9607677909548276,
          -0.9718685957764645,
          -0.9825356792289226,
          -0.9927642808517235,
          -1.002549835868188,
          -1.011887977222587,
          -1.02077453752905,
          -1.029205550931369,
          -1.0371772548728655,
          -1.0446860917755256,
          -1.0517287106276625,
          -1.0583019684793922,
          -1.064402931845253,
          -1.0700288780133524,
          -1.075177296260445,
          -1.079845888972407,
          -1.0840325726696085
         ]
        },
        {
         "hoverinfo": "text",
         "line": {
          "color": "#e2ecde",
          "shape": "spline",
          "width": 0.25
         },
         "mode": "lines",
         "text": "Microstrategy<br>498",
         "type": "scatter",
         "x": [
          -0.15260172731715177,
          -0.13701972610146906,
          -0.12140974556322401,
          -0.1057749732484226,
          -0.09011860176553245
         ],
         "y": [
          -1.089363443860598,
          -1.0914328172906835,
          -1.093279320979901,
          -1.0949025778736188,
          -1.096302256504029
         ]
        },
        {
         "hoverinfo": "text",
         "line": {
          "color": "#d4e5d6",
          "shape": "spline",
          "width": 0.25
         },
         "mode": "lines",
         "text": "Oracle BI<br>3835",
         "type": "scatter",
         "x": [
          -0.05563844761978022,
          -0.03256849733877839,
          -0.009484198625570326,
          0.013604278462206078,
          0.03668676202608118,
          0.05975308280810233,
          0.08279307867101843,
          0.10579659907533208,
          0.12875350955123266,
          0.1516536961634593,
          0.17448706996711233,
          0.19724357145245597,
          0.21991317497675272,
          0.2424858931811777,
          0.2649517813908662,
          0.28730094199615647,
          0.30952352881309636,
          0.3316097514212986,
          0.35354987947721933,
          0.37533424700097817,
          0.3969532566348182,
          0.4183973838713335,
          0.43965718124960285,
          0.46072328251737865,
          0.481586406757499,
          0.502237362476704,
          0.5226670516550561,
          0.5428664737541775,
          0.5628267296825469,
          0.582539025716092,
          0.6019946773723721,
          0.6211851132366266
         ],
         "y": [
          -1.0985919912080468,
          -1.0995177547366364,
          -1.0999591128657604,
          -1.0999158711499362,
          -1.0993880486398067,
          -1.0983758778737487,
          -1.0968798047754251,
          -1.0949004884573272,
          -1.0924388009303958,
          -1.0894958267198462,
          -1.0860728623873686,
          -1.0821714159599116,
          -1.0777932062653042,
          -1.0729401621750052,
          -1.067614421754318,
          -1.0618183313204388,
          -1.0555544444087612,
          -1.0488255206478838,
          -1.0416345245438268,
          -1.0339846241739812,
          -1.025879189791377,
          -1.0173217923398792,
          -1.0083162018809646,
          -0.9988663859327793,
          -0.9889765077222011,
          -0.9786509243506818,
          -0.9678941848746748,
          -0.9567110283014956,
          -0.9451063815014951,
          -0.933085357037472,
          -0.9206532509122715,
          -0.9078155402355698
         ]
        },
        {
         "hoverinfo": "text",
         "line": {
          "color": "#c6decd",
          "shape": "spline",
          "width": 0.25
         },
         "mode": "lines",
         "text": "Python<br>2682",
         "type": "scatter",
         "x": [
          0.6493937711032584,
          0.668086137368657,
          0.6864776937322372,
          0.7045601592823704,
          0.7223253922774725,
          0.7397653938118709,
          0.7568723114173651,
          0.7736384425988466,
          0.7900562383023947,
          0.806118306314285,
          0.8218174145893794,
          0.8371464945073994,
          0.8520986440556133,
          0.8666671309365139,
          0.8808453955990747,
          0.8946270541922282,
          0.908005901439235,
          0.9209759134316468,
          0.9335312503416103,
          0.9456662590512821,
          0.9573754756981844,
          0.9686536281353393
         ],
         "y": [
          -0.8878556921326174,
          -0.8738769438861677,
          -0.859504727158652,
          -0.8447455131292507,
          -0.829605947225064,
          -0.8140928461289707,
          -0.7982131947103701,
          -0.7819741428802051,
          -0.7653830023716689,
          -0.7484472434480528,
          -0.7311744915392141,
          -0.7135725238081781,
          -0.6956492656494259,
          -0.677412787120432,
          -0.6588712993080741,
          -0.6400331506315404,
          -0.6209068230834016,
          -0.601500928410542,
          -0.5818242042366663,
          -0.561885510128134,
          -0.5416938236048805,
          -0.5212582360982358
         ]
        },
        {
         "hoverinfo": "text",
         "line": {
          "color": "#b8d7c5",
          "shape": "spline",
          "width": 0.25
         },
         "mode": "lines",
         "text": "VBA<br>904",
         "type": "scatter",
         "x": [
          0.984548772914911,
          0.9998977787058376,
          1.014200910563151,
          1.0274432076847606,
          1.0396108188813986
         ],
         "y": [
          -0.49057488088134227,
          -0.45848056898753303,
          -0.4259066951961138,
          -0.39288733115544694,
          -0.35945701448816936
         ]
        },
        {
         "hoverinfo": "text",
         "line": {
          "color": "#aad0bc",
          "shape": "spline",
          "width": 0.25
         },
         "mode": "lines",
         "text": "Linux<br>975",
         "type": "scatter",
         "x": [
          1.0503886513801795,
          1.0613196155180071,
          1.0709131842599897,
          1.0791572685101776,
          1.0860414796917859
         ],
         "y": [
          -0.326624679183506,
          -0.2891378109426535,
          -0.25128659291360855,
          -0.21311872236303528,
          -0.17468229557936385
         ]
        },
        {
         "hoverinfo": "text",
         "line": {
          "color": "#9cc9b4",
          "shape": "spline",
          "width": 0.25
         },
         "mode": "lines",
         "text": "AWS<br>720",
         "type": "scatter",
         "x": [
          1.0909924872829042,
          1.094067978936409,
          1.0965048170575824,
          1.0983015791614381,
          1.0994572164023046
         ],
         "y": [
          -0.14048271314386757,
          -0.11408443130419477,
          -0.0876195535797697,
          -0.061103528633716375,
          -0.03455183498594511
         ]
        },
        {
         "hoverinfo": "text",
         "marker": {
          "color": "green",
          "size": 0.5
         },
         "mode": "markers",
         "text": "Power BI appears with Excel 291 times",
         "type": "scatter",
         "x": [
          0.86585425209093
         ],
         "y": [
          0.24555328166419624
         ]
        },
        {
         "hoverinfo": "text",
         "marker": {
          "color": "blue",
          "size": 0.5
         },
         "mode": "markers",
         "text": "Excel appears with Power BI 291 times",
         "type": "scatter",
         "x": [
          0.7616834518157914
         ],
         "y": [
          0.47941455884232487
         ]
        },
        {
         "hoverinfo": "text",
         "marker": {
          "color": "green",
          "size": 0.5
         },
         "mode": "markers",
         "text": "Power BI appears with SSIS/SSRS 182 times",
         "type": "scatter",
         "x": [
          0.8936895265771325
         ],
         "y": [
          0.10639093047032121
         ]
        },
        {
         "hoverinfo": "text",
         "marker": {
          "color": "blue",
          "size": 0.5
         },
         "mode": "markers",
         "text": "SSIS/SSRS appears with Power BI 182 times",
         "type": "scatter",
         "x": [
          0.1232325445654126
         ],
         "y": [
          0.891523269443896
         ]
        },
        {
         "hoverinfo": "text",
         "marker": {
          "color": "green",
          "size": 0.5
         },
         "mode": "markers",
         "text": "Power BI appears with MS SQL Server 173 times",
         "type": "scatter",
         "x": [
          0.8963644657800791
         ],
         "y": [
          0.08081302176501899
         ]
        },
        {
         "hoverinfo": "text",
         "marker": {
          "color": "blue",
          "size": 0.5
         },
         "mode": "markers",
         "text": "MS SQL Server appears with Power BI 173 times",
         "type": "scatter",
         "x": [
          -0.3525085102839478
         ],
         "y": [
          0.828092839105249
         ]
        },
        {
         "hoverinfo": "text",
         "marker": {
          "color": "green",
          "size": 0.5
         },
         "mode": "markers",
         "text": "Power BI appears with MySQL/MariaDB 5 times",
         "type": "scatter",
         "x": [
          0.8999999271055442
         ],
         "y": [
          0.0003622292299375064
         ]
        },
        {
         "hoverinfo": "text",
         "marker": {
          "color": "blue",
          "size": 0.5
         },
         "mode": "markers",
         "text": "MySQL/MariaDB appears with Power BI 5 times",
         "type": "scatter",
         "x": [
          -0.6113239826230861
         ],
         "y": [
          0.660517212697632
         ]
        },
        {
         "hoverinfo": "text",
         "marker": {
          "color": "green",
          "size": 0.5
         },
         "mode": "markers",
         "text": "Power BI appears with T-SQL 78 times",
         "type": "scatter",
         "x": [
          0.8988576182302386
         ],
         "y": [
          0.04533191093989819
         ]
        },
        {
         "hoverinfo": "text",
         "marker": {
          "color": "blue",
          "size": 0.5
         },
         "mode": "markers",
         "text": "T-SQL appears with Power BI 78 times",
         "type": "scatter",
         "x": [
          -0.7635876079994944
         ],
         "y": [
          0.47637586516280445
         ]
        },
        {
         "hoverinfo": "text",
         "marker": {
          "color": "green",
          "size": 0.5
         },
         "mode": "markers",
         "text": "Power BI appears with PL/SQL 11 times",
         "type": "scatter",
         "x": [
          0.8999955651048952
         ],
         "y": [
          0.0028253834289389537
         ]
        },
        {
         "hoverinfo": "text",
         "marker": {
          "color": "blue",
          "size": 0.5
         },
         "mode": "markers",
         "text": "PL/SQL appears with Power BI 11 times",
         "type": "scatter",
         "x": [
          -0.8438604243485134
         ],
         "y": [
          0.31288909252057173
         ]
        },
        {
         "hoverinfo": "text",
         "marker": {
          "color": "green",
          "size": 0.5
         },
         "mode": "markers",
         "text": "Power BI appears with Pentaho 12 times",
         "type": "scatter",
         "x": [
          0.8999887917715977
         ],
         "y": [
          0.004491623926787372
         ]
        },
        {
         "hoverinfo": "text",
         "marker": {
          "color": "blue",
          "size": 0.5
         },
         "mode": "markers",
         "text": "Pentaho appears with Power BI 12 times",
         "type": "scatter",
         "x": [
          -0.8678877626757889
         ],
         "y": [
          0.23826630352950368
         ]
        },
        {
         "hoverinfo": "text",
         "marker": {
          "color": "green",
          "size": 0.5
         },
         "mode": "markers",
         "text": "Power BI appears with Hadoop 54 times",
         "type": "scatter",
         "x": [
          0.899596533089096
         ],
         "y": [
          0.02694582813867354
         ]
        },
        {
         "hoverinfo": "text",
         "marker": {
          "color": "blue",
          "size": 0.5
         },
         "mode": "markers",
         "text": "Hadoop appears with Power BI 54 times",
         "type": "scatter",
         "x": [
          -0.8918719776374977
         ],
         "y": [
          0.12068295449225179
         ]
        },
        {
         "hoverinfo": "text",
         "marker": {
          "color": "green",
          "size": 0.5
         },
         "mode": "markers",
         "text": "Power BI appears with Spark 61 times",
         "type": "scatter",
         "x": [
          0.8993085563378462
         ],
         "y": [
          0.03527209233287484
         ]
        },
        {
         "hoverinfo": "text",
         "marker": {
          "color": "blue",
          "size": 0.5
         },
         "mode": "markers",
         "text": "Spark appears with Power BI 61 times",
         "type": "scatter",
         "x": [
          -0.8934774640931875
         ],
         "y": [
          -0.10815739067491756
         ]
        },
        {
         "hoverinfo": "text",
         "marker": {
          "color": "green",
          "size": 0.5
         },
         "mode": "markers",
         "text": "Power BI appears with Informatica 26 times",
         "type": "scatter",
         "x": [
          0.8999522283114638
         ],
         "y": [
          0.009272904465750449
         ]
        },
        {
         "hoverinfo": "text",
         "marker": {
          "color": "blue",
          "size": 0.5
         },
         "mode": "markers",
         "text": "Informatica appears with Power BI 26 times",
         "type": "scatter",
         "x": [
          -0.8479331174842774
         ],
         "y": [
          -0.3016776893861969
         ]
        },
        {
         "hoverinfo": "text",
         "marker": {
          "color": "green",
          "size": 0.5
         },
         "mode": "markers",
         "text": "Power BI appears with Qlik 232 times",
         "type": "scatter",
         "x": [
          0.8896484927260211
         ],
         "y": [
          0.13610863084433228
         ]
        },
        {
         "hoverinfo": "text",
         "marker": {
          "color": "blue",
          "size": 0.5
         },
         "mode": "markers",
         "text": "Qlik appears with Power BI 232 times",
         "type": "scatter",
         "x": [
          -0.7390646455201106
         ],
         "y": [
          -0.5135985297313781
         ]
        },
        {
         "hoverinfo": "text",
         "marker": {
          "color": "green",
          "size": 0.5
         },
         "mode": "markers",
         "text": "Power BI appears with Tableau 267 times",
         "type": "scatter",
         "x": [
          0.8760066423225801
         ],
         "y": [
          0.2064276207456729
         ]
        },
        {
         "hoverinfo": "text",
         "marker": {
          "color": "blue",
          "size": 0.5
         },
         "mode": "markers",
         "text": "Tableau appears with Power BI 267 times",
         "type": "scatter",
         "x": [
          -0.38753911090347076
         ],
         "y": [
          -0.8122890110792755
         ]
        },
        {
         "hoverinfo": "text",
         "marker": {
          "color": "green",
          "size": 0.5
         },
         "mode": "markers",
         "text": "Power BI appears with Microstrategy 38 times",
         "type": "scatter",
         "x": [
          0.8998925148894125
         ],
         "y": [
          0.013909049069168126
         ]
        },
        {
         "hoverinfo": "text",
         "marker": {
          "color": "blue",
          "size": 0.5
         },
         "mode": "markers",
         "text": "Microstrategy appears with Power BI 38 times",
         "type": "scatter",
         "x": [
          -0.10662141691671986
         ],
         "y": [
          -0.8936620577459194
         ]
        },
        {
         "hoverinfo": "text",
         "marker": {
          "color": "green",
          "size": 0.5
         },
         "mode": "markers",
         "text": "Power BI appears with Oracle BI 245 times",
         "type": "scatter",
         "x": [
          0.8837679959390939
         ],
         "y": [
          0.1701591295047008
         ]
        },
        {
         "hoverinfo": "text",
         "marker": {
          "color": "blue",
          "size": 0.5
         },
         "mode": "markers",
         "text": "Oracle BI appears with Power BI 245 times",
         "type": "scatter",
         "x": [
          0.19694864570264983
         ],
         "y": [
          -0.8781863304310151
         ]
        },
        {
         "hoverinfo": "text",
         "marker": {
          "color": "green",
          "size": 0.5
         },
         "mode": "markers",
         "text": "Power BI appears with Python 120 times",
         "type": "scatter",
         "x": [
          0.8980209822394706
         ],
         "y": [
          0.05965161739346661
         ]
        },
        {
         "hoverinfo": "text",
         "marker": {
          "color": "blue",
          "size": 0.5
         },
         "mode": "markers",
         "text": "Python appears with Power BI 120 times",
         "type": "scatter",
         "x": [
          0.5881851587810599
         ],
         "y": [
          -0.6812035077637955
         ]
        },
        {
         "hoverinfo": "text",
         "marker": {
          "color": "green",
          "size": 0.5
         },
         "mode": "markers",
         "text": "Power BI appears with VBA 44 times",
         "type": "scatter",
         "x": [
          0.8997811039044914
         ],
         "y": [
          0.01984855300556718
         ]
        },
        {
         "hoverinfo": "text",
         "marker": {
          "color": "blue",
          "size": 0.5
         },
         "mode": "markers",
         "text": "VBA appears with Power BI 44 times",
         "type": "scatter",
         "x": [
          0.8156654644130985
         ],
         "y": [
          -0.3803811906019595
         ]
        },
        {
         "hoverinfo": "text",
         "marker": {
          "color": "green",
          "size": 0.5
         },
         "mode": "markers",
         "text": "Power BI appears with Linux 14 times",
         "type": "scatter",
         "x": [
          0.8999774203075007
         ],
         "y": [
          0.006375181303804255
         ]
        },
        {
         "hoverinfo": "text",
         "marker": {
          "color": "blue",
          "size": 0.5
         },
         "mode": "markers",
         "text": "Linux appears with Power BI 14 times",
         "type": "scatter",
         "x": [
          0.8606066838453124
         ],
         "y": [
          -0.26335553102369935
         ]
        },
        {
         "hoverinfo": "text",
         "marker": {
          "color": "green",
          "size": 0.5
         },
         "mode": "markers",
         "text": "Power BI appears with AWS 9 times",
         "type": "scatter",
         "x": [
          0.89999894740425
         ],
         "y": [
          0.0013764705743067312
         ]
        },
        {
         "hoverinfo": "text",
         "marker": {
          "color": "blue",
          "size": 0.5
         },
         "mode": "markers",
         "text": "AWS appears with Power BI 9 times",
         "type": "scatter",
         "x": [
          0.8929128900149219
         ],
         "y": [
          -0.11272342633720803
         ]
        },
        {
         "hoverinfo": "text",
         "marker": {
          "color": "green",
          "size": 0.5
         },
         "mode": "markers",
         "text": "Excel appears with SSIS/SSRS 727 times",
         "type": "scatter",
         "x": [
          0.47127672180666813
         ],
         "y": [
          0.7667452324489279
         ]
        },
        {
         "hoverinfo": "text",
         "marker": {
          "color": "blue",
          "size": 0.5
         },
         "mode": "markers",
         "text": "SSIS/SSRS appears with Excel 727 times",
         "type": "scatter",
         "x": [
          -0.1187775306412465
         ],
         "y": [
          0.8921277364899983
         ]
        },
        {
         "hoverinfo": "text",
         "marker": {
          "color": "green",
          "size": 0.5
         },
         "mode": "markers",
         "text": "Excel appears with MS SQL Server 295 times",
         "type": "scatter",
         "x": [
          0.7366025511291563
         ],
         "y": [
          0.5171234684966625
         ]
        },
        {
         "hoverinfo": "text",
         "marker": {
          "color": "blue",
          "size": 0.5
         },
         "mode": "markers",
         "text": "MS SQL Server appears with Excel 295 times",
         "type": "scatter",
         "x": [
          -0.4415592751139517
         ],
         "y": [
          0.7842355555321637
         ]
        },
        {
         "hoverinfo": "text",
         "marker": {
          "color": "green",
          "size": 0.5
         },
         "mode": "markers",
         "text": "Excel appears with PostgreSQL 81 times",
         "type": "scatter",
         "x": [
          0.8342254478246255
         ],
         "y": [
          0.33773939983632817
         ]
        },
        {
         "hoverinfo": "text",
         "marker": {
          "color": "blue",
          "size": 0.5
         },
         "mode": "markers",
         "text": "PostgreSQL appears with Excel 81 times",
         "type": "scatter",
         "x": [
          -0.5646044822339228
         ],
         "y": [
          0.700872155704137
         ]
        },
        {
         "hoverinfo": "text",
         "marker": {
          "color": "green",
          "size": 0.5
         },
         "mode": "markers",
         "text": "Excel appears with MySQL/MariaDB 156 times",
         "type": "scatter",
         "x": [
          0.7945837479227115
         ],
         "y": [
          0.42265431210044074
         ]
        },
        {
         "hoverinfo": "text",
         "marker": {
          "color": "blue",
          "size": 0.5
         },
         "mode": "markers",
         "text": "MySQL/MariaDB appears with Excel 156 times",
         "type": "scatter",
         "x": [
          -0.6964851282113639
         ],
         "y": [
          0.5700074264256563
         ]
        },
        {
         "hoverinfo": "text",
         "marker": {
          "color": "green",
          "size": 0.5
         },
         "mode": "markers",
         "text": "Excel appears with T-SQL 201 times",
         "type": "scatter",
         "x": [
          0.7812541984484138
         ],
         "y": [
          0.44681302287055885
         ]
        },
        {
         "hoverinfo": "text",
         "marker": {
          "color": "blue",
          "size": 0.5
         },
         "mode": "markers",
         "text": "T-SQL appears with Excel 201 times",
         "type": "scatter",
         "x": [
          -0.813078679555254
         ],
         "y": [
          0.38587959372411057
         ]
        },
        {
         "hoverinfo": "text",
         "marker": {
          "color": "green",
          "size": 0.5
         },
         "mode": "markers",
         "text": "Excel appears with PL/SQL 71 times",
         "type": "scatter",
         "x": [
          0.8427576559208664
         ],
         "y": [
          0.31584732607189586
         ]
        },
        {
         "hoverinfo": "text",
         "marker": {
          "color": "blue",
          "size": 0.5
         },
         "mode": "markers",
         "text": "PL/SQL appears with Excel 71 times",
         "type": "scatter",
         "x": [
          -0.8517837498546361
         ],
         "y": [
          0.2906276715723657
         ]
        },
        {
         "hoverinfo": "text",
         "marker": {
          "color": "green",
          "size": 0.5
         },
         "mode": "markers",
         "text": "Excel appears with Pentaho 68 times",
         "type": "scatter",
         "x": [
          0.8464678739200929
         ],
         "y": [
          0.3057648417022431
         ]
        },
        {
         "hoverinfo": "text",
         "marker": {
          "color": "blue",
          "size": 0.5
         },
         "mode": "markers",
         "text": "Pentaho appears with Excel 68 times",
         "type": "scatter",
         "x": [
          -0.8811855734546538
         ],
         "y": [
          0.18306279014423726
         ]
        },
        {
         "hoverinfo": "text",
         "marker": {
          "color": "green",
          "size": 0.5
         },
         "mode": "markers",
         "text": "Excel appears with Hadoop 130 times",
         "type": "scatter",
         "x": [
          0.8047240921563745
         ],
         "y": [
          0.40301257486969155
         ]
        },
        {
         "hoverinfo": "text",
         "marker": {
          "color": "blue",
          "size": 0.5
         },
         "mode": "markers",
         "text": "Hadoop appears with Excel 130 times",
         "type": "scatter",
         "x": [
          -0.8984838687482869
         ],
         "y": [
          0.05221817307328165
         ]
        },
        {
         "hoverinfo": "text",
         "marker": {
          "color": "green",
          "size": 0.5
         },
         "mode": "markers",
         "text": "Excel appears with Spark 128 times",
         "type": "scatter",
         "x": [
          0.8134553611826683
         ],
         "y": [
          0.3850848937093933
         ]
        },
        {
         "hoverinfo": "text",
         "marker": {
          "color": "blue",
          "size": 0.5
         },
         "mode": "markers",
         "text": "Spark appears with Excel 128 times",
         "type": "scatter",
         "x": [
          -0.8814806911049872
         ],
         "y": [
          -0.18163642588719428
         ]
        },
        {
         "hoverinfo": "text",
         "marker": {
          "color": "green",
          "size": 0.5
         },
         "mode": "markers",
         "text": "Excel appears with Informatica 125 times",
         "type": "scatter",
         "x": [
          0.8216296459924258
         ],
         "y": [
          0.3673210105974895
         ]
        },
        {
         "hoverinfo": "text",
         "marker": {
          "color": "blue",
          "size": 0.5
         },
         "mode": "markers",
         "text": "Informatica appears with Excel 125 times",
         "type": "scatter",
         "x": [
          -0.8211994050843248
         ],
         "y": [
          -0.3682818717900069
         ]
        },
        {
         "hoverinfo": "text",
         "marker": {
          "color": "green",
          "size": 0.5
         },
         "mode": "markers",
         "text": "Excel appears with Qlik 493 times",
         "type": "scatter",
         "x": [
          0.6678112479720424
         ],
         "y": [
          0.603347443088991
         ]
        },
        {
         "hoverinfo": "text",
         "marker": {
          "color": "blue",
          "size": 0.5
         },
         "mode": "markers",
         "text": "Qlik appears with Excel 493 times",
         "type": "scatter",
         "x": [
          -0.6268162110951165
         ],
         "y": [
          -0.6458339086083683
         ]
        },
        {
         "hoverinfo": "text",
         "marker": {
          "color": "green",
          "size": 0.5
         },
         "mode": "markers",
         "text": "Excel appears with Tableau 554 times",
         "type": "scatter",
         "x": [
          0.5526087099482111
         ],
         "y": [
          0.7103686463304627
         ]
        },
        {
         "hoverinfo": "text",
         "marker": {
          "color": "blue",
          "size": 0.5
         },
         "mode": "markers",
         "text": "Tableau appears with Excel 554 times",
         "type": "scatter",
         "x": [
          -0.1938548480668272
         ],
         "y": [
          -0.8788744494414361
         ]
        },
        {
         "hoverinfo": "text",
         "marker": {
          "color": "green",
          "size": 0.5
         },
         "mode": "markers",
         "text": "Excel appears with Microstrategy 56 times",
         "type": "scatter",
         "x": [
          0.8496759278943361
         ],
         "y": [
          0.2967335800965217
         ]
        },
        {
         "hoverinfo": "text",
         "marker": {
          "color": "blue",
          "size": 0.5
         },
         "mode": "markers",
         "text": "Microstrategy appears with Excel 56 times",
         "type": "scatter",
         "x": [
          -0.09204247891468384
         ],
         "y": [
          -0.8952810631724766
         ]
        },
        {
         "hoverinfo": "text",
         "marker": {
          "color": "green",
          "size": 0.5
         },
         "mode": "markers",
         "text": "Excel appears with Oracle BI 775 times",
         "type": "scatter",
         "x": [
          0.36873213414983785
         ],
         "y": [
          0.8209973284032696
         ]
        },
        {
         "hoverinfo": "text",
         "marker": {
          "color": "blue",
          "size": 0.5
         },
         "mode": "markers",
         "text": "Oracle BI appears with Excel 775 times",
         "type": "scatter",
         "x": [
          0.45834493083508365
         ],
         "y": [
          -0.7745449789249056
         ]
        },
        {
         "hoverinfo": "text",
         "marker": {
          "color": "green",
          "size": 0.5
         },
         "mode": "markers",
         "text": "Excel appears with Python 495 times",
         "type": "scatter",
         "x": [
          0.6142767401802095
         ],
         "y": [
          0.6577720627037724
         ]
        },
        {
         "hoverinfo": "text",
         "marker": {
          "color": "blue",
          "size": 0.5
         },
         "mode": "markers",
         "text": "Python appears with Excel 495 times",
         "type": "scatter",
         "x": [
          0.7743318750076452
         ],
         "y": [
          -0.4587048586478506
         ]
        },
        {
         "hoverinfo": "text",
         "marker": {
          "color": "green",
          "size": 0.5
         },
         "mode": "markers",
         "text": "Excel appears with VBA 320 times",
         "type": "scatter",
         "x": [
          0.7082757349464723
         ],
         "y": [
          0.5552886486198277
         ]
        },
        {
         "hoverinfo": "text",
         "marker": {
          "color": "blue",
          "size": 0.5
         },
         "mode": "markers",
         "text": "VBA appears with Excel 320 times",
         "type": "scatter",
         "x": [
          0.8436340350266693
         ],
         "y": [
          -0.31349898715086877
         ]
        },
        {
         "hoverinfo": "text",
         "marker": {
          "color": "green",
          "size": 0.5
         },
         "mode": "markers",
         "text": "Excel appears with Linux 105 times",
         "type": "scatter",
         "x": [
          0.8287243353892237
         ],
         "y": [
          0.35102133259061263
         ]
        },
        {
         "hoverinfo": "text",
         "marker": {
          "color": "blue",
          "size": 0.5
         },
         "mode": "markers",
         "text": "Linux appears with Excel 105 times",
         "type": "scatter",
         "x": [
          0.8766190850671111
         ],
         "y": [
          -0.20381113732105288
         ]
        },
        {
         "hoverinfo": "text",
         "marker": {
          "color": "green",
          "size": 0.5
         },
         "mode": "markers",
         "text": "Excel appears with AWS 76 times",
         "type": "scatter",
         "x": [
          0.8387032550578217
         ],
         "y": [
          0.3264611002177972
         ]
        },
        {
         "hoverinfo": "text",
         "marker": {
          "color": "blue",
          "size": 0.5
         },
         "mode": "markers",
         "text": "AWS appears with Excel 76 times",
         "type": "scatter",
         "x": [
          0.8970138432300422
         ],
         "y": [
          -0.07325411287886317
         ]
        },
        {
         "hoverinfo": "text",
         "marker": {
          "color": "green",
          "size": 0.5
         },
         "mode": "markers",
         "text": "SSIS/SSRS appears with MS SQL Server 315 times",
         "type": "scatter",
         "x": [
          0.01518811642103816
         ],
         "y": [
          0.899871835940864
         ]
        },
        {
         "hoverinfo": "text",
         "marker": {
          "color": "blue",
          "size": 0.5
         },
         "mode": "markers",
         "text": "MS SQL Server appears with SSIS/SSRS 315 times",
         "type": "scatter",
         "x": [
          -0.4801541060336494
         ],
         "y": [
          0.7612174685719102
         ]
        },
        {
         "hoverinfo": "text",
         "marker": {
          "color": "green",
          "size": 0.5
         },
         "mode": "markers",
         "text": "SSIS/SSRS appears with PostgreSQL 66 times",
         "type": "scatter",
         "x": [
          0.26020289996017865
         ],
         "y": [
          0.8615651170122391
         ]
        },
        {
         "hoverinfo": "text",
         "marker": {
          "color": "blue",
          "size": 0.5
         },
         "mode": "markers",
         "text": "PostgreSQL appears with SSIS/SSRS 66 times",
         "type": "scatter",
         "x": [
          -0.5576943024158553
         ],
         "y": [
          0.7063830866129883
         ]
        },
        {
         "hoverinfo": "text",
         "marker": {
          "color": "green",
          "size": 0.5
         },
         "mode": "markers",
         "text": "SSIS/SSRS appears with MySQL/MariaDB 92 times",
         "type": "scatter",
         "x": [
          0.2039316973979824
         ],
         "y": [
          0.8765910464956722
         ]
        },
        {
         "hoverinfo": "text",
         "marker": {
          "color": "blue",
          "size": 0.5
         },
         "mode": "markers",
         "text": "MySQL/MariaDB appears with SSIS/SSRS 92 times",
         "type": "scatter",
         "x": [
          -0.6650715414878096
         ],
         "y": [
          0.6063660979169506
         ]
        },
        {
         "hoverinfo": "text",
         "marker": {
          "color": "green",
          "size": 0.5
         },
         "mode": "markers",
         "text": "SSIS/SSRS appears with T-SQL 178 times",
         "type": "scatter",
         "x": [
          0.15008108681798663
         ],
         "y": [
          0.8873982574805588
         ]
        },
        {
         "hoverinfo": "text",
         "marker": {
          "color": "blue",
          "size": 0.5
         },
         "mode": "markers",
         "text": "T-SQL appears with SSIS/SSRS 178 times",
         "type": "scatter",
         "x": [
          -0.788553190486118
         ],
         "y": [
          0.4338016433511565
         ]
        },
        {
         "hoverinfo": "text",
         "marker": {
          "color": "green",
          "size": 0.5
         },
         "mode": "markers",
         "text": "SSIS/SSRS appears with PL/SQL 76 times",
         "type": "scatter",
         "x": [
          0.239616392643556
         ],
         "y": [
          0.8675159850841304
         ]
        },
        {
         "hoverinfo": "text",
         "marker": {
          "color": "blue",
          "size": 0.5
         },
         "mode": "markers",
         "text": "PL/SQL appears with SSIS/SSRS 76 times",
         "type": "scatter",
         "x": [
          -0.8542130829224402
         ],
         "y": [
          0.2834078491576058
         ]
        },
        {
         "hoverinfo": "text",
         "marker": {
          "color": "green",
          "size": 0.5
         },
         "mode": "markers",
         "text": "SSIS/SSRS appears with Pentaho 39 times",
         "type": "scatter",
         "x": [
          0.2799965550075666
         ],
         "y": [
          0.8553373189472647
         ]
        },
        {
         "hoverinfo": "text",
         "marker": {
          "color": "blue",
          "size": 0.5
         },
         "mode": "markers",
         "text": "Pentaho appears with SSIS/SSRS 39 times",
         "type": "scatter",
         "x": [
          -0.8724012783690932
         ],
         "y": [
          0.22116963964335595
         ]
        },
        {
         "hoverinfo": "text",
         "marker": {
          "color": "green",
          "size": 0.5
         },
         "mode": "markers",
         "text": "SSIS/SSRS appears with Hadoop 77 times",
         "type": "scatter",
         "x": [
          0.2284687211348929
         ],
         "y": [
          0.8705182614184418
         ]
        },
        {
         "hoverinfo": "text",
         "marker": {
          "color": "blue",
          "size": 0.5
         },
         "mode": "markers",
         "text": "Hadoop appears with SSIS/SSRS 77 times",
         "type": "scatter",
         "x": [
          -0.8939993129392872
         ],
         "y": [
          0.10375561895185449
         ]
        },
        {
         "hoverinfo": "text",
         "marker": {
          "color": "green",
          "size": 0.5
         },
         "mode": "markers",
         "text": "SSIS/SSRS appears with Spark 71 times",
         "type": "scatter",
         "x": [
          0.250289783591503
         ],
         "y": [
          0.8644969775711877
         ]
        },
        {
         "hoverinfo": "text",
         "marker": {
          "color": "blue",
          "size": 0.5
         },
         "mode": "markers",
         "text": "Spark appears with SSIS/SSRS 71 times",
         "type": "scatter",
         "x": [
          -0.8910220235194037
         ],
         "y": [
          -0.12680596832715393
         ]
        },
        {
         "hoverinfo": "text",
         "marker": {
          "color": "green",
          "size": 0.5
         },
         "mode": "markers",
         "text": "SSIS/SSRS appears with Informatica 83 times",
         "type": "scatter",
         "x": [
          0.2167708419286025
         ],
         "y": [
          0.873504666323864
         ]
        },
        {
         "hoverinfo": "text",
         "marker": {
          "color": "blue",
          "size": 0.5
         },
         "mode": "markers",
         "text": "Informatica appears with SSIS/SSRS 83 times",
         "type": "scatter",
         "x": [
          -0.8356718006169043
         ],
         "y": [
          -0.3341446418150396
         ]
        },
        {
         "hoverinfo": "text",
         "marker": {
          "color": "green",
          "size": 0.5
         },
         "mode": "markers",
         "text": "SSIS/SSRS appears with Qlik 114 times",
         "type": "scatter",
         "x": [
          0.1887621454832932
         ],
         "y": [
          0.8799823023405324
         ]
        },
        {
         "hoverinfo": "text",
         "marker": {
          "color": "blue",
          "size": 0.5
         },
         "mode": "markers",
         "text": "Qlik appears with SSIS/SSRS 114 times",
         "type": "scatter",
         "x": [
          -0.7532954211328958
         ],
         "y": [
          -0.4924896024285316
         ]
        },
        {
         "hoverinfo": "text",
         "marker": {
          "color": "green",
          "size": 0.5
         },
         "mode": "markers",
         "text": "SSIS/SSRS appears with Tableau 241 times",
         "type": "scatter",
         "x": [
          0.05710468087893707
         ],
         "y": [
          0.898186537096674
         ]
        },
        {
         "hoverinfo": "text",
         "marker": {
          "color": "blue",
          "size": 0.5
         },
         "mode": "markers",
         "text": "Tableau appears with SSIS/SSRS 241 times",
         "type": "scatter",
         "x": [
          -0.42181295426212956
         ],
         "y": [
          -0.7950307111153975
         ]
        },
        {
         "hoverinfo": "text",
         "marker": {
          "color": "green",
          "size": 0.5
         },
         "mode": "markers",
         "text": "SSIS/SSRS appears with Microstrategy 43 times",
         "type": "scatter",
         "x": [
          0.26806551944218016
         ],
         "y": [
          0.8591512540211963
         ]
        },
        {
         "hoverinfo": "text",
         "marker": {
          "color": "blue",
          "size": 0.5
         },
         "mode": "markers",
         "text": "Microstrategy appears with SSIS/SSRS 43 times",
         "type": "scatter",
         "x": [
          -0.10246605755806105
         ],
         "y": [
          -0.8941480341914911
         ]
        },
        {
         "hoverinfo": "text",
         "marker": {
          "color": "green",
          "size": 0.5
         },
         "mode": "markers",
         "text": "SSIS/SSRS appears with Oracle BI 369 times",
         "type": "scatter",
         "x": [
          -0.03641397670989791
         ],
         "y": [
          0.8992630439977899
         ]
        },
        {
         "hoverinfo": "text",
         "marker": {
          "color": "blue",
          "size": 0.5
         },
         "mode": "markers",
         "text": "Oracle BI appears with SSIS/SSRS 369 times",
         "type": "scatter",
         "x": [
          0.24240468586960578
         ],
         "y": [
          -0.8667410041462545
         ]
        },
        {
         "hoverinfo": "text",
         "marker": {
          "color": "green",
          "size": 0.5
         },
         "mode": "markers",
         "text": "SSIS/SSRS appears with Python 229 times",
         "type": "scatter",
         "x": [
          0.09244463721614368
         ],
         "y": [
          0.8952396266084157
         ]
        },
        {
         "hoverinfo": "text",
         "marker": {
          "color": "blue",
          "size": 0.5
         },
         "mode": "markers",
         "text": "Python appears with SSIS/SSRS 229 times",
         "type": "scatter",
         "x": [
          0.6976374632540003
         ],
         "y": [
          -0.568596491252385
         ]
        },
        {
         "hoverinfo": "text",
         "marker": {
          "color": "green",
          "size": 0.5
         },
         "mode": "markers",
         "text": "SSIS/SSRS appears with VBA 115 times",
         "type": "scatter",
         "x": [
          0.17183301701529335
         ],
         "y": [
          0.8834440640263661
         ]
        },
        {
         "hoverinfo": "text",
         "marker": {
          "color": "blue",
          "size": 0.5
         },
         "mode": "markers",
         "text": "VBA appears with SSIS/SSRS 115 times",
         "type": "scatter",
         "x": [
          0.8334688038443879
         ],
         "y": [
          -0.33960234542506507
         ]
        },
        {
         "hoverinfo": "text",
         "marker": {
          "color": "green",
          "size": 0.5
         },
         "mode": "markers",
         "text": "SSIS/SSRS appears with Linux 27 times",
         "type": "scatter",
         "x": [
          0.28472528002791564
         ],
         "y": [
          0.8537748619589506
         ]
        },
        {
         "hoverinfo": "text",
         "marker": {
          "color": "blue",
          "size": 0.5
         },
         "mode": "markers",
         "text": "Linux appears with SSIS/SSRS 27 times",
         "type": "scatter",
         "x": [
          0.8624828995500493
         ],
         "y": [
          -0.2571444107573401
         ]
        },
        {
         "hoverinfo": "text",
         "marker": {
          "color": "green",
          "size": 0.5
         },
         "mode": "markers",
         "text": "SSIS/SSRS appears with AWS 42 times",
         "type": "scatter",
         "x": [
          0.27418141711113225
         ],
         "y": [
          0.8572190796470476
         ]
        },
        {
         "hoverinfo": "text",
         "marker": {
          "color": "blue",
          "size": 0.5
         },
         "mode": "markers",
         "text": "AWS appears with SSIS/SSRS 42 times",
         "type": "scatter",
         "x": [
          0.8951590493976741
         ],
         "y": [
          -0.09322165135553281
         ]
        },
        {
         "hoverinfo": "text",
         "marker": {
          "color": "green",
          "size": 0.5
         },
         "mode": "markers",
         "text": "MS SQL Server appears with PostgreSQL 108 times",
         "type": "scatter",
         "x": [
          -0.2768229154130451
         ],
         "y": [
          0.8563697060862336
         ]
        },
        {
         "hoverinfo": "text",
         "marker": {
          "color": "blue",
          "size": 0.5
         },
         "mode": "markers",
         "text": "PostgreSQL appears with MS SQL Server 108 times",
         "type": "scatter",
         "x": [
          -0.5734088929920779
         ],
         "y": [
          0.6936874234391164
         ]
        },
        {
         "hoverinfo": "text",
         "marker": {
          "color": "green",
          "size": 0.5
         },
         "mode": "markers",
         "text": "MS SQL Server appears with MySQL/MariaDB 113 times",
         "type": "scatter",
         "x": [
          -0.29226981471425856
         ],
         "y": [
          0.8512216840558593
         ]
        },
        {
         "hoverinfo": "text",
         "marker": {
          "color": "blue",
          "size": 0.5
         },
         "mode": "markers",
         "text": "MySQL/MariaDB appears with MS SQL Server 113 times",
         "type": "scatter",
         "x": [
          -0.6741378162527636
         ],
         "y": [
          0.5962702446860445
         ]
        },
        {
         "hoverinfo": "text",
         "marker": {
          "color": "green",
          "size": 0.5
         },
         "mode": "markers",
         "text": "MS SQL Server appears with T-SQL 221 times",
         "type": "scatter",
         "x": [
          -0.4080484503880325
         ],
         "y": [
          0.802182312280647
         ]
        },
        {
         "hoverinfo": "text",
         "marker": {
          "color": "blue",
          "size": 0.5
         },
         "mode": "markers",
         "text": "T-SQL appears with MS SQL Server 221 times",
         "type": "scatter",
         "x": [
          -0.8254930892587867
         ],
         "y": [
          0.35855426309832755
         ]
        },
        {
         "hoverinfo": "text",
         "marker": {
          "color": "green",
          "size": 0.5
         },
         "mode": "markers",
         "text": "MS SQL Server appears with PL/SQL 14 times",
         "type": "scatter",
         "x": [
          -0.20156405578424838
         ],
         "y": [
          0.8771384904425324
         ]
        },
        {
         "hoverinfo": "text",
         "marker": {
          "color": "blue",
          "size": 0.5
         },
         "mode": "markers",
         "text": "PL/SQL appears with MS SQL Server 14 times",
         "type": "scatter",
         "x": [
          -0.8443099399977985
         ],
         "y": [
          0.31167406889395516
         ]
        },
        {
         "hoverinfo": "text",
         "marker": {
          "color": "green",
          "size": 0.5
         },
         "mode": "markers",
         "text": "MS SQL Server appears with Pentaho 54 times",
         "type": "scatter",
         "x": [
          -0.21789941348415648
         ],
         "y": [
          0.8732238233140805
         ]
        },
        {
         "hoverinfo": "text",
         "marker": {
          "color": "blue",
          "size": 0.5
         },
         "mode": "markers",
         "text": "Pentaho appears with MS SQL Server 54 times",
         "type": "scatter",
         "x": [
          -0.8783705070685228
         ],
         "y": [
          0.1961256034080867
         ]
        },
        {
         "hoverinfo": "text",
         "marker": {
          "color": "green",
          "size": 0.5
         },
         "mode": "markers",
         "text": "MS SQL Server appears with Hadoop 57 times",
         "type": "scatter",
         "x": [
          -0.23366085574807055
         ],
         "y": [
          0.8691390018236895
         ]
        },
        {
         "hoverinfo": "text",
         "marker": {
          "color": "blue",
          "size": 0.5
         },
         "mode": "markers",
         "text": "Hadoop appears with MS SQL Server 57 times",
         "type": "scatter",
         "x": [
          -0.8928755462254999
         ],
         "y": [
          0.1130188433515187
         ]
        },
        {
         "hoverinfo": "text",
         "marker": {
          "color": "green",
          "size": 0.5
         },
         "mode": "markers",
         "text": "MS SQL Server appears with Spark 55 times",
         "type": "scatter",
         "x": [
          -0.22568239099159917
         ],
         "y": [
          0.8712447752476424
         ]
        },
        {
         "hoverinfo": "text",
         "marker": {
          "color": "blue",
          "size": 0.5
         },
         "mode": "markers",
         "text": "Spark appears with MS SQL Server 55 times",
         "type": "scatter",
         "x": [
          -0.8944125994645354
         ],
         "y": [
          -0.10013042454265621
         ]
        },
        {
         "hoverinfo": "text",
         "marker": {
          "color": "green",
          "size": 0.5
         },
         "mode": "markers",
         "text": "MS SQL Server appears with Informatica 78 times",
         "type": "scatter",
         "x": [
          -0.2637519342540586
         ],
         "y": [
          0.8604852800468134
         ]
        },
        {
         "hoverinfo": "text",
         "marker": {
          "color": "blue",
          "size": 0.5
         },
         "mode": "markers",
         "text": "Informatica appears with MS SQL Server 78 times",
         "type": "scatter",
         "x": [
          -0.8394514661742903
         ],
         "y": [
          -0.32453233419466
         ]
        },
        {
         "hoverinfo": "text",
         "marker": {
          "color": "green",
          "size": 0.5
         },
         "mode": "markers",
         "text": "MS SQL Server appears with Qlik 77 times",
         "type": "scatter",
         "x": [
          -0.25281261092685586
         ],
         "y": [
          0.8637625737182333
         ]
        },
        {
         "hoverinfo": "text",
         "marker": {
          "color": "blue",
          "size": 0.5
         },
         "mode": "markers",
         "text": "Qlik appears with MS SQL Server 77 times",
         "type": "scatter",
         "x": [
          -0.7750833106492455
         ],
         "y": [
          -0.45743399693617576
         ]
        },
        {
         "hoverinfo": "text",
         "marker": {
          "color": "green",
          "size": 0.5
         },
         "mode": "markers",
         "text": "MS SQL Server appears with Tableau 153 times",
         "type": "scatter",
         "x": [
          -0.33028624410249235
         ],
         "y": [
          0.8372042743301475
         ]
        },
        {
         "hoverinfo": "text",
         "marker": {
          "color": "blue",
          "size": 0.5
         },
         "mode": "markers",
         "text": "Tableau appears with MS SQL Server 153 times",
         "type": "scatter",
         "x": [
          -0.4747226502327697
         ],
         "y": [
          -0.764616508686528
         ]
        },
        {
         "hoverinfo": "text",
         "marker": {
          "color": "green",
          "size": 0.5
         },
         "mode": "markers",
         "text": "MS SQL Server appears with Microstrategy 25 times",
         "type": "scatter",
         "x": [
          -0.20665873895876216
         ],
         "y": [
          0.8759521480149326
         ]
        },
        {
         "hoverinfo": "text",
         "marker": {
          "color": "blue",
          "size": 0.5
         },
         "mode": "markers",
         "text": "Microstrategy appears with MS SQL Server 25 times",
         "type": "scatter",
         "x": [
          -0.11528371784454028
         ],
         "y": [
          -0.8925859423046839
         ]
        },
        {
         "hoverinfo": "text",
         "marker": {
          "color": "green",
          "size": 0.5
         },
         "mode": "markers",
         "text": "MS SQL Server appears with Oracle BI 219 times",
         "type": "scatter",
         "x": [
          -0.3788959385105905
         ],
         "y": [
          0.8163564587728689
         ]
        },
        {
         "hoverinfo": "text",
         "marker": {
          "color": "blue",
          "size": 0.5
         },
         "mode": "markers",
         "text": "Oracle BI appears with MS SQL Server 219 times",
         "type": "scatter",
         "x": [
          0.1278773778129643
         ],
         "y": [
          -0.890868888357698
         ]
        },
        {
         "hoverinfo": "text",
         "marker": {
          "color": "green",
          "size": 0.5
         },
         "mode": "markers",
         "text": "MS SQL Server appears with Python 142 times",
         "type": "scatter",
         "x": [
          -0.30997397398173454
         ],
         "y": [
          0.8449355806533247
         ]
        },
        {
         "hoverinfo": "text",
         "marker": {
          "color": "blue",
          "size": 0.5
         },
         "mode": "markers",
         "text": "Python appears with MS SQL Server 142 times",
         "type": "scatter",
         "x": [
          0.6028714445878737
         ],
         "y": [
          -0.6682409904372302
         ]
        },
        {
         "hoverinfo": "text",
         "marker": {
          "color": "green",
          "size": 0.5
         },
         "mode": "markers",
         "text": "MS SQL Server appears with VBA 39 times",
         "type": "scatter",
         "x": [
          -0.21124515149189696
         ],
         "y": [
          0.8748574089365452
         ]
        },
        {
         "hoverinfo": "text",
         "marker": {
          "color": "blue",
          "size": 0.5
         },
         "mode": "markers",
         "text": "VBA appears with MS SQL Server 39 times",
         "type": "scatter",
         "x": [
          0.8133919713243285
         ],
         "y": [
          -0.3852187702917949
         ]
        },
        {
         "hoverinfo": "text",
         "marker": {
          "color": "green",
          "size": 0.5
         },
         "mode": "markers",
         "text": "MS SQL Server appears with Linux 68 times",
         "type": "scatter",
         "x": [
          -0.24254216761094263
         ],
         "y": [
          0.8667025423584411
         ]
        },
        {
         "hoverinfo": "text",
         "marker": {
          "color": "blue",
          "size": 0.5
         },
         "mode": "markers",
         "text": "Linux appears with MS SQL Server 68 times",
         "type": "scatter",
         "x": [
          0.8739819803731793
         ],
         "y": [
          -0.21483830660051245
         ]
        },
        {
         "hoverinfo": "text",
         "marker": {
          "color": "green",
          "size": 0.5
         },
         "mode": "markers",
         "text": "MS SQL Server appears with AWS 16 times",
         "type": "scatter",
         "x": [
          -0.203717579495053
         ],
         "y": [
          0.8766408317005756
         ]
        },
        {
         "hoverinfo": "text",
         "marker": {
          "color": "blue",
          "size": 0.5
         },
         "mode": "markers",
         "text": "AWS appears with MS SQL Server 16 times",
         "type": "scatter",
         "x": [
          0.8936850806073778
         ],
         "y": [
          -0.10642827020949111
         ]
        },
        {
         "hoverinfo": "text",
         "marker": {
          "color": "green",
          "size": 0.5
         },
         "mode": "markers",
         "text": "PostgreSQL appears with MySQL/MariaDB 126 times",
         "type": "scatter",
         "x": [
          -0.5841827799382144
         ],
         "y": [
          0.6846389410657707
         ]
        },
        {
         "hoverinfo": "text",
         "marker": {
          "color": "blue",
          "size": 0.5
         },
         "mode": "markers",
         "text": "MySQL/MariaDB appears with PostgreSQL 126 times",
         "type": "scatter",
         "x": [
          -0.6845141527592528
         ],
         "y": [
          0.5843289952349467
         ]
        },
        {
         "hoverinfo": "text",
         "marker": {
          "color": "green",
          "size": 0.5
         },
         "mode": "markers",
         "text": "PostgreSQL appears with T-SQL 49 times",
         "type": "scatter",
         "x": [
          -0.5358711243996185
         ],
         "y": [
          0.7230782378378489
         ]
        },
        {
         "hoverinfo": "text",
         "marker": {
          "color": "blue",
          "size": 0.5
         },
         "mode": "markers",
         "text": "T-SQL appears with PostgreSQL 49 times",
         "type": "scatter",
         "x": [
          -0.740190277494967
         ],
         "y": [
          0.5119749535884776
         ]
        },
        {
         "hoverinfo": "text",
         "marker": {
          "color": "green",
          "size": 0.5
         },
         "mode": "markers",
         "text": "PostgreSQL appears with PL/SQL 3 times",
         "type": "scatter",
         "x": [
          -0.5232310725365984
         ],
         "y": [
          0.7322767541935228
         ]
        },
        {
         "hoverinfo": "text",
         "marker": {
          "color": "blue",
          "size": 0.5
         },
         "mode": "markers",
         "text": "PL/SQL appears with PostgreSQL 3 times",
         "type": "scatter",
         "x": [
          -0.8422276970962325
         ],
         "y": [
          0.31725779146299465
         ]
        },
        {
         "hoverinfo": "text",
         "marker": {
          "color": "green",
          "size": 0.5
         },
         "mode": "markers",
         "text": "PostgreSQL appears with Pentaho 55 times",
         "type": "scatter",
         "x": [
          -0.54605814047799
         ],
         "y": [
          0.7154163174108624
         ]
        },
        {
         "hoverinfo": "text",
         "marker": {
          "color": "blue",
          "size": 0.5
         },
         "mode": "markers",
         "text": "Pentaho appears with PostgreSQL 55 times",
         "type": "scatter",
         "x": [
          -0.8797172578555723
         ],
         "y": [
          0.18999354260361717
         ]
        },
        {
         "hoverinfo": "text",
         "marker": {
          "color": "green",
          "size": 0.5
         },
         "mode": "markers",
         "text": "PostgreSQL appears with Hadoop 10 times",
         "type": "scatter",
         "x": [
          -0.5245511045280179
         ],
         "y": [
          0.7313317569601614
         ]
        },
        {
         "hoverinfo": "text",
         "marker": {
          "color": "blue",
          "size": 0.5
         },
         "mode": "markers",
         "text": "Hadoop appears with PostgreSQL 10 times",
         "type": "scatter",
         "x": [
          -0.8890049994238204
         ],
         "y": [
          0.14025017290346925
         ]
        },
        {
         "hoverinfo": "text",
         "marker": {
          "color": "green",
          "size": 0.5
         },
         "mode": "markers",
         "text": "PostgreSQL appears with Spark 20 times",
         "type": "scatter",
         "x": [
          -0.5288415621214395
         ],
         "y": [
          0.7282352656751496
         ]
        },
        {
         "hoverinfo": "text",
         "marker": {
          "color": "blue",
          "size": 0.5
         },
         "mode": "markers",
         "text": "Spark appears with PostgreSQL 20 times",
         "type": "scatter",
         "x": [
          -0.8962019110744
         ],
         "y": [
          -0.08259621411780002
         ]
        },
        {
         "hoverinfo": "text",
         "marker": {
          "color": "green",
          "size": 0.5
         },
         "mode": "markers",
         "text": "PostgreSQL appears with Informatica 2 times",
         "type": "scatter",
         "x": [
          -0.5229864352148429
         ],
         "y": [
          0.7324514923059895
         ]
        },
        {
         "hoverinfo": "text",
         "marker": {
          "color": "blue",
          "size": 0.5
         },
         "mode": "markers",
         "text": "Informatica appears with PostgreSQL 2 times",
         "type": "scatter",
         "x": [
          -0.8530107203351198
         ],
         "y": [
          -0.28700646507240923
         ]
        },
        {
         "hoverinfo": "text",
         "marker": {
          "color": "green",
          "size": 0.5
         },
         "mode": "markers",
         "text": "PostgreSQL appears with Qlik 15 times",
         "type": "scatter",
         "x": [
          -0.5271373110837522
         ],
         "y": [
          0.7294698453420755
         ]
        },
        {
         "hoverinfo": "text",
         "marker": {
          "color": "blue",
          "size": 0.5
         },
         "mode": "markers",
         "text": "Qlik appears with PostgreSQL 15 times",
         "type": "scatter",
         "x": [
          -0.7961693266052738
         ],
         "y": [
          -0.41965986628805096
         ]
        },
        {
         "hoverinfo": "text",
         "marker": {
          "color": "green",
          "size": 0.5
         },
         "mode": "markers",
         "text": "PostgreSQL appears with Tableau 7 times",
         "type": "scatter",
         "x": [
          -0.5237201720044592
         ],
         "y": [
          0.7319270328629894
         ]
        },
        {
         "hoverinfo": "text",
         "marker": {
          "color": "blue",
          "size": 0.5
         },
         "mode": "markers",
         "text": "Tableau appears with PostgreSQL 7 times",
         "type": "scatter",
         "x": [
          -0.5785193201562515
         ],
         "y": [
          -0.6894312120914955
         ]
        },
        {
         "hoverinfo": "text",
         "marker": {
          "color": "green",
          "size": 0.5
         },
         "mode": "markers",
         "text": "PostgreSQL appears with Oracle BI 54 times",
         "type": "scatter",
         "x": [
          -0.5408340292059016
         ],
         "y": [
          0.7193737226594463
         ]
        },
        {
         "hoverinfo": "text",
         "marker": {
          "color": "blue",
          "size": 0.5
         },
         "mode": "markers",
         "text": "Oracle BI appears with PostgreSQL 54 times",
         "type": "scatter",
         "x": [
          -0.03362306764398514
         ],
         "y": [
          -0.8993717192141456
         ]
        },
        {
         "hoverinfo": "text",
         "marker": {
          "color": "green",
          "size": 0.5
         },
         "mode": "markers",
         "text": "PostgreSQL appears with Python 38 times",
         "type": "scatter",
         "x": [
          -0.5316593792007791
         ],
         "y": [
          0.7261806280174666
         ]
        },
        {
         "hoverinfo": "text",
         "marker": {
          "color": "blue",
          "size": 0.5
         },
         "mode": "markers",
         "text": "Python appears with PostgreSQL 38 times",
         "type": "scatter",
         "x": [
          0.5406915360746746
         ],
         "y": [
          -0.71948082866551
         ]
        },
        {
         "hoverinfo": "text",
         "marker": {
          "color": "green",
          "size": 0.5
         },
         "mode": "markers",
         "text": "PostgreSQL appears with Linux 62 times",
         "type": "scatter",
         "x": [
          -0.5516334432463057
         ],
         "y": [
          0.711126250599867
         ]
        },
        {
         "hoverinfo": "text",
         "marker": {
          "color": "blue",
          "size": 0.5
         },
         "mode": "markers",
         "text": "Linux appears with PostgreSQL 62 times",
         "type": "scatter",
         "x": [
          0.8696905372506878
         ],
         "y": [
          -0.23159958855017407
         ]
        },
        {
         "hoverinfo": "text",
         "marker": {
          "color": "green",
          "size": 0.5
         },
         "mode": "markers",
         "text": "PostgreSQL appears with AWS 14 times",
         "type": "scatter",
         "x": [
          -0.5257230336156676
         ],
         "y": [
          0.7304897616845425
         ]
        },
        {
         "hoverinfo": "text",
         "marker": {
          "color": "blue",
          "size": 0.5
         },
         "mode": "markers",
         "text": "AWS appears with PostgreSQL 14 times",
         "type": "scatter",
         "x": [
          0.8932492608563198
         ],
         "y": [
          -0.11002616952179314
         ]
        },
        {
         "hoverinfo": "text",
         "marker": {
          "color": "green",
          "size": 0.5
         },
         "mode": "markers",
         "text": "MySQL/MariaDB appears with T-SQL 47 times",
         "type": "scatter",
         "x": [
          -0.6239373458064229
         ],
         "y": [
          0.6486155937903715
         ]
        },
        {
         "hoverinfo": "text",
         "marker": {
          "color": "blue",
          "size": 0.5
         },
         "mode": "markers",
         "text": "T-SQL appears with MySQL/MariaDB 47 times",
         "type": "scatter",
         "x": [
          -0.7324197262695936
         ],
         "y": [
          0.523030921238098
         ]
        },
        {
         "hoverinfo": "text",
         "marker": {
          "color": "green",
          "size": 0.5
         },
         "mode": "markers",
         "text": "MySQL/MariaDB appears with PL/SQL 1 times",
         "type": "scatter",
         "x": [
          -0.6110324504341256
         ],
         "y": [
          0.660786913094129
         ]
        },
        {
         "hoverinfo": "text",
         "marker": {
          "color": "blue",
          "size": 0.5
         },
         "mode": "markers",
         "text": "PL/SQL appears with MySQL/MariaDB 1 times",
         "type": "scatter",
         "x": [
          -0.842044886053329
         ],
         "y": [
          0.31774267870627076
         ]
        },
        {
         "hoverinfo": "text",
         "marker": {
          "color": "green",
          "size": 0.5
         },
         "mode": "markers",
         "text": "MySQL/MariaDB appears with Pentaho 73 times",
         "type": "scatter",
         "x": [
          -0.6359444533702111
         ],
         "y": [
          0.6368474324574634
         ]
        },
        {
         "hoverinfo": "text",
         "marker": {
          "color": "blue",
          "size": 0.5
         },
         "mode": "markers",
         "text": "Pentaho appears with MySQL/MariaDB 73 times",
         "type": "scatter",
         "x": [
          -0.8828015864064245
         ],
         "y": [
          0.17510385215151691
         ]
        },
        {
         "hoverinfo": "text",
         "marker": {
          "color": "green",
          "size": 0.5
         },
         "mode": "markers",
         "text": "MySQL/MariaDB appears with Hadoop 17 times",
         "type": "scatter",
         "x": [
          -0.6151030476592726
         ],
         "y": [
          0.6569994221917358
         ]
        },
        {
         "hoverinfo": "text",
         "marker": {
          "color": "blue",
          "size": 0.5
         },
         "mode": "markers",
         "text": "Hadoop appears with MySQL/MariaDB 17 times",
         "type": "scatter",
         "x": [
          -0.8901561912900623
         ],
         "y": [
          0.13274771225136098
         ]
        },
        {
         "hoverinfo": "text",
         "marker": {
          "color": "green",
          "size": 0.5
         },
         "mode": "markers",
         "text": "MySQL/MariaDB appears with Spark 42 times",
         "type": "scatter",
         "x": [
          -0.6196784021177345
         ],
         "y": [
          0.6526857421062693
         ]
        },
        {
         "hoverinfo": "text",
         "marker": {
          "color": "blue",
          "size": 0.5
         },
         "mode": "markers",
         "text": "Spark appears with MySQL/MariaDB 42 times",
         "type": "scatter",
         "x": [
          -0.8957951936125933
         ],
         "y": [
          -0.08689632386111928
         ]
        },
        {
         "hoverinfo": "text",
         "marker": {
          "color": "green",
          "size": 0.5
         },
         "mode": "markers",
         "text": "MySQL/MariaDB appears with Informatica 11 times",
         "type": "scatter",
         "x": [
          -0.6126828912599442
         ],
         "y": [
          0.6592569110425429
         ]
        },
        {
         "hoverinfo": "text",
         "marker": {
          "color": "blue",
          "size": 0.5
         },
         "mode": "markers",
         "text": "Informatica appears with MySQL/MariaDB 11 times",
         "type": "scatter",
         "x": [
          -0.8524979058470629
         ],
         "y": [
          -0.28852611758101276
         ]
        },
        {
         "hoverinfo": "text",
         "marker": {
          "color": "green",
          "size": 0.5
         },
         "mode": "markers",
         "text": "MySQL/MariaDB appears with Qlik 18 times",
         "type": "scatter",
         "x": [
          -0.6167922099467275
         ],
         "y": [
          0.6554138919408347
         ]
        },
        {
         "hoverinfo": "text",
         "marker": {
          "color": "blue",
          "size": 0.5
         },
         "mode": "markers",
         "text": "Qlik appears with MySQL/MariaDB 18 times",
         "type": "scatter",
         "x": [
          -0.7928163006978597
         ],
         "y": [
          -0.4259604598407709
         ]
        },
        {
         "hoverinfo": "text",
         "marker": {
          "color": "green",
          "size": 0.5
         },
         "mode": "markers",
         "text": "MySQL/MariaDB appears with Tableau 74 times",
         "type": "scatter",
         "x": [
          -0.6427923317511406
         ],
         "y": [
          0.6299349317524244
         ]
        },
        {
         "hoverinfo": "text",
         "marker": {
          "color": "blue",
          "size": 0.5
         },
         "mode": "markers",
         "text": "Tableau appears with MySQL/MariaDB 74 times",
         "type": "scatter",
         "x": [
          -0.5483050259820483
         ],
         "y": [
          -0.7136957324258183
         ]
        },
        {
         "hoverinfo": "text",
         "marker": {
          "color": "green",
          "size": 0.5
         },
         "mode": "markers",
         "text": "MySQL/MariaDB appears with Oracle BI 84 times",
         "type": "scatter",
         "x": [
          -0.6571671218435515
         ],
         "y": [
          0.6149238765634838
         ]
        },
        {
         "hoverinfo": "text",
         "marker": {
          "color": "blue",
          "size": 0.5
         },
         "mode": "markers",
         "text": "Oracle BI appears with MySQL/MariaDB 84 times",
         "type": "scatter",
         "x": [
          0.009278741965804239
         ],
         "y": [
          -0.8999521681442475
         ]
        },
        {
         "hoverinfo": "text",
         "marker": {
          "color": "green",
          "size": 0.5
         },
         "mode": "markers",
         "text": "MySQL/MariaDB appears with Python 78 times",
         "type": "scatter",
         "x": [
          -0.6497941127754052
         ],
         "y": [
          0.6227098931303596
         ]
        },
        {
         "hoverinfo": "text",
         "marker": {
          "color": "blue",
          "size": 0.5
         },
         "mode": "markers",
         "text": "Python appears with MySQL/MariaDB 78 times",
         "type": "scatter",
         "x": [
          0.5679005946136165
         ],
         "y": [
          -0.6982040637503486
         ]
        },
        {
         "hoverinfo": "text",
         "marker": {
          "color": "green",
          "size": 0.5
         },
         "mode": "markers",
         "text": "MySQL/MariaDB appears with VBA 6 times",
         "type": "scatter",
         "x": [
          -0.611858149084351
         ],
         "y": [
          0.66002242795156
         ]
        },
        {
         "hoverinfo": "text",
         "marker": {
          "color": "blue",
          "size": 0.5
         },
         "mode": "markers",
         "text": "VBA appears with MySQL/MariaDB 6 times",
         "type": "scatter",
         "x": [
          0.8066854384845331
         ],
         "y": [
          -0.39907217810443346
         ]
        },
        {
         "hoverinfo": "text",
         "marker": {
          "color": "green",
          "size": 0.5
         },
         "mode": "markers",
         "text": "MySQL/MariaDB appears with Linux 67 times",
         "type": "scatter",
         "x": [
          -0.6293535458839612
         ],
         "y": [
          0.6433615735208973
         ]
        },
        {
         "hoverinfo": "text",
         "marker": {
          "color": "blue",
          "size": 0.5
         },
         "mode": "markers",
         "text": "Linux appears with MySQL/MariaDB 67 times",
         "type": "scatter",
         "x": [
          0.8718277499344039
         ],
         "y": [
          -0.22341972707062954
         ]
        },
        {
         "hoverinfo": "text",
         "marker": {
          "color": "green",
          "size": 0.5
         },
         "mode": "markers",
         "text": "MySQL/MariaDB appears with AWS 11 times",
         "type": "scatter",
         "x": [
          -0.6137487827436414
         ],
         "y": [
          0.6582647124680909
         ]
        },
        {
         "hoverinfo": "text",
         "marker": {
          "color": "blue",
          "size": 0.5
         },
         "mode": "markers",
         "text": "AWS appears with MySQL/MariaDB 11 times",
         "type": "scatter",
         "x": [
          0.8930633938596257
         ],
         "y": [
          -0.11152477100593818
         ]
        },
        {
         "hoverinfo": "text",
         "marker": {
          "color": "green",
          "size": 0.5
         },
         "mode": "markers",
         "text": "T-SQL appears with PL/SQL 56 times",
         "type": "scatter",
         "x": [
          -0.7524704973079799
         ],
         "y": [
          0.4937490766382066
         ]
        },
        {
         "hoverinfo": "text",
         "marker": {
          "color": "blue",
          "size": 0.5
         },
         "mode": "markers",
         "text": "PL/SQL appears with T-SQL 56 times",
         "type": "scatter",
         "x": [
          -0.8496357994466851
         ],
         "y": [
          0.2968484601587016
         ]
        },
        {
         "hoverinfo": "text",
         "marker": {
          "color": "green",
          "size": 0.5
         },
         "mode": "markers",
         "text": "T-SQL appears with Pentaho 50 times",
         "type": "scatter",
         "x": [
          -0.744173123875222
         ],
         "y": [
          0.5061683136090144
         ]
        },
        {
         "hoverinfo": "text",
         "marker": {
          "color": "blue",
          "size": 0.5
         },
         "mode": "markers",
         "text": "Pentaho appears with T-SQL 50 times",
         "type": "scatter",
         "x": [
          -0.8770456860150465
         ],
         "y": [
          0.20196748412156973
         ]
        },
        {
         "hoverinfo": "text",
         "marker": {
          "color": "green",
          "size": 0.5
         },
         "mode": "markers",
         "text": "T-SQL appears with Hadoop 52 times",
         "type": "scatter",
         "x": [
          -0.7482290177413217
         ],
         "y": [
          0.5001533135048263
         ]
        },
        {
         "hoverinfo": "text",
         "marker": {
          "color": "blue",
          "size": 0.5
         },
         "mode": "markers",
         "text": "Hadoop appears with T-SQL 52 times",
         "type": "scatter",
         "x": [
          -0.8908522072801923
         ],
         "y": [
          0.1279935341492269
         ]
        },
        {
         "hoverinfo": "text",
         "marker": {
          "color": "green",
          "size": 0.5
         },
         "mode": "markers",
         "text": "T-SQL appears with Spark 47 times",
         "type": "scatter",
         "x": [
          -0.7362848525909387
         ],
         "y": [
          0.5175757102542002
         ]
        },
        {
         "hoverinfo": "text",
         "marker": {
          "color": "blue",
          "size": 0.5
         },
         "mode": "markers",
         "text": "Spark appears with T-SQL 47 times",
         "type": "scatter",
         "x": [
          -0.895175293214326
         ],
         "y": [
          -0.09306553829772585
         ]
        },
        {
         "hoverinfo": "text",
         "marker": {
          "color": "green",
          "size": 0.5
         },
         "mode": "markers",
         "text": "T-SQL appears with Informatica 19 times",
         "type": "scatter",
         "x": [
          -0.7227077405783849
         ],
         "y": [
          0.5363706943039357
         ]
        },
        {
         "hoverinfo": "text",
         "marker": {
          "color": "blue",
          "size": 0.5
         },
         "mode": "markers",
         "text": "Informatica appears with T-SQL 19 times",
         "type": "scatter",
         "x": [
          -0.84995655970311
         ],
         "y": [
          -0.295928786395737
         ]
        },
        {
         "hoverinfo": "text",
         "marker": {
          "color": "green",
          "size": 0.5
         },
         "mode": "markers",
         "text": "T-SQL appears with Qlik 84 times",
         "type": "scatter",
         "x": [
          -0.7696236320451675
         ],
         "y": [
          0.46656131965434566
         ]
        },
        {
         "hoverinfo": "text",
         "marker": {
          "color": "blue",
          "size": 0.5
         },
         "mode": "markers",
         "text": "Qlik appears with T-SQL 84 times",
         "type": "scatter",
         "x": [
          -0.7689952978803063
         ],
         "y": [
          -0.46759622735644374
         ]
        },
        {
         "hoverinfo": "text",
         "marker": {
          "color": "green",
          "size": 0.5
         },
         "mode": "markers",
         "text": "T-SQL appears with Tableau 135 times",
         "type": "scatter",
         "x": [
          -0.7775827372476837
         ],
         "y": [
          0.4531722484159856
         ]
        },
        {
         "hoverinfo": "text",
         "marker": {
          "color": "blue",
          "size": 0.5
         },
         "mode": "markers",
         "text": "Tableau appears with T-SQL 135 times",
         "type": "scatter",
         "x": [
          -0.4930661950522862
         ],
         "y": [
          -0.7529181411658646
         ]
        },
        {
         "hoverinfo": "text",
         "marker": {
          "color": "green",
          "size": 0.5
         },
         "mode": "markers",
         "text": "T-SQL appears with Microstrategy 21 times",
         "type": "scatter",
         "x": [
          -0.7243996444416464
         ],
         "y": [
          0.5340834720648229
         ]
        },
        {
         "hoverinfo": "text",
         "marker": {
          "color": "blue",
          "size": 0.5
         },
         "mode": "markers",
         "text": "Microstrategy appears with T-SQL 21 times",
         "type": "scatter",
         "x": [
          -0.11763966053889335
         ],
         "y": [
          -0.8922784936712831
         ]
        },
        {
         "hoverinfo": "text",
         "marker": {
          "color": "green",
          "size": 0.5
         },
         "mode": "markers",
         "text": "T-SQL appears with Oracle BI 189 times",
         "type": "scatter",
         "x": [
          -0.8008013544540428
         ],
         "y": [
          0.41075198198495727
         ]
        },
        {
         "hoverinfo": "text",
         "marker": {
          "color": "blue",
          "size": 0.5
         },
         "mode": "markers",
         "text": "Oracle BI appears with T-SQL 189 times",
         "type": "scatter",
         "x": [
          0.09697139577094843
         ],
         "y": [
          -0.8947606095499702
         ]
        },
        {
         "hoverinfo": "text",
         "marker": {
          "color": "green",
          "size": 0.5
         },
         "mode": "markers",
         "text": "T-SQL appears with Python 78 times",
         "type": "scatter",
         "x": [
          -0.757656843819369
         ],
         "y": [
          0.48575313381765456
         ]
        },
        {
         "hoverinfo": "text",
         "marker": {
          "color": "blue",
          "size": 0.5
         },
         "mode": "markers",
         "text": "Python appears with T-SQL 78 times",
         "type": "scatter",
         "x": [
          0.5769011286782372
         ],
         "y": [
          -0.6907858479512852
         ]
        },
        {
         "hoverinfo": "text",
         "marker": {
          "color": "green",
          "size": 0.5
         },
         "mode": "markers",
         "text": "T-SQL appears with VBA 27 times",
         "type": "scatter",
         "x": [
          -0.7264203726920226
         ],
         "y": [
          0.531331762779135
         ]
        },
        {
         "hoverinfo": "text",
         "marker": {
          "color": "blue",
          "size": 0.5
         },
         "mode": "markers",
         "text": "VBA appears with T-SQL 27 times",
         "type": "scatter",
         "x": [
          0.8098296501691473
         ],
         "y": [
          -0.3926524388144258
         ]
        },
        {
         "hoverinfo": "text",
         "marker": {
          "color": "green",
          "size": 0.5
         },
         "mode": "markers",
         "text": "T-SQL appears with Linux 35 times",
         "type": "scatter",
         "x": [
          -0.7290150056336006
         ],
         "y": [
          0.5277661618188888
         ]
        },
        {
         "hoverinfo": "text",
         "marker": {
          "color": "blue",
          "size": 0.5
         },
         "mode": "markers",
         "text": "Linux appears with T-SQL 35 times",
         "type": "scatter",
         "x": [
          0.8648422546309035
         ],
         "y": [
          -0.24909410792898254
         ]
        },
        {
         "hoverinfo": "text",
         "marker": {
          "color": "green",
          "size": 0.5
         },
         "mode": "markers",
         "text": "T-SQL appears with AWS 19 times",
         "type": "scatter",
         "x": [
          -0.7210937425872028
         ],
         "y": [
          0.5385385913763107
         ]
        },
        {
         "hoverinfo": "text",
         "marker": {
          "color": "blue",
          "size": 0.5
         },
         "mode": "markers",
         "text": "AWS appears with T-SQL 19 times",
         "type": "scatter",
         "x": [
          0.8939326168263892
         ],
         "y": [
          -0.10432869487309838
         ]
        },
        {
         "hoverinfo": "text",
         "marker": {
          "color": "green",
          "size": 0.5
         },
         "mode": "markers",
         "text": "PL/SQL appears with Pentaho 8 times",
         "type": "scatter",
         "x": [
          -0.8427926366182327
         ],
         "y": [
          0.31575397331163974
         ]
        },
        {
         "hoverinfo": "text",
         "marker": {
          "color": "blue",
          "size": 0.5
         },
         "mode": "markers",
         "text": "Pentaho appears with PL/SQL 8 times",
         "type": "scatter",
         "x": [
          -0.8675820796203878
         ],
         "y": [
          0.2393769728306445
         ]
        },
        {
         "hoverinfo": "text",
         "marker": {
          "color": "green",
          "size": 0.5
         },
         "mode": "markers",
         "text": "PL/SQL appears with Hadoop 9 times",
         "type": "scatter",
         "x": [
          -0.8431013022965201
         ],
         "y": [
          0.3149288714391104
         ]
        },
        {
         "hoverinfo": "text",
         "marker": {
          "color": "blue",
          "size": 0.5
         },
         "mode": "markers",
         "text": "Hadoop appears with PL/SQL 9 times",
         "type": "scatter",
         "x": [
          -0.8887978589428877
         ],
         "y": [
          0.1415569353247617
         ]
        },
        {
         "hoverinfo": "text",
         "marker": {
          "color": "green",
          "size": 0.5
         },
         "mode": "markers",
         "text": "PL/SQL appears with Informatica 38 times",
         "type": "scatter",
         "x": [
          -0.8480167138510617
         ],
         "y": [
          0.3014426197956197
         ]
        },
        {
         "hoverinfo": "text",
         "marker": {
          "color": "blue",
          "size": 0.5
         },
         "mode": "markers",
         "text": "Informatica appears with PL/SQL 38 times",
         "type": "scatter",
         "x": [
          -0.8438589254750258
         ],
         "y": [
          -0.3128931349456789
         ]
        },
        {
         "hoverinfo": "text",
         "marker": {
          "color": "green",
          "size": 0.5
         },
         "mode": "markers",
         "text": "PL/SQL appears with Qlik 20 times",
         "type": "scatter",
         "x": [
          -0.8449184736038464
         ],
         "y": [
          0.31002060086863
         ]
        },
        {
         "hoverinfo": "text",
         "marker": {
          "color": "blue",
          "size": 0.5
         },
         "mode": "markers",
         "text": "Qlik appears with PL/SQL 20 times",
         "type": "scatter",
         "x": [
          -0.7914891401081243
         ],
         "y": [
          -0.42842145265019344
         ]
        },
        {
         "hoverinfo": "text",
         "marker": {
          "color": "green",
          "size": 0.5
         },
         "mode": "markers",
         "text": "PL/SQL appears with Tableau 33 times",
         "type": "scatter",
         "x": [
          -0.8467773172271298
         ],
         "y": [
          0.30490683008031294
         ]
        },
        {
         "hoverinfo": "text",
         "marker": {
          "color": "blue",
          "size": 0.5
         },
         "mode": "markers",
         "text": "Tableau appears with PL/SQL 33 times",
         "type": "scatter",
         "x": [
          -0.576201271847636
         ],
         "y": [
          -0.6913697233182594
         ]
        },
        {
         "hoverinfo": "text",
         "marker": {
          "color": "green",
          "size": 0.5
         },
         "mode": "markers",
         "text": "PL/SQL appears with Microstrategy 26 times",
         "type": "scatter",
         "x": [
          -0.8457366292849775
         ],
         "y": [
          0.3077816659349361
         ]
        },
        {
         "hoverinfo": "text",
         "marker": {
          "color": "blue",
          "size": 0.5
         },
         "mode": "markers",
         "text": "Microstrategy appears with PL/SQL 26 times",
         "type": "scatter",
         "x": [
          -0.11267075595196552
         ],
         "y": [
          -0.8929195376702275
         ]
        },
        {
         "hoverinfo": "text",
         "marker": {
          "color": "green",
          "size": 0.5
         },
         "mode": "markers",
         "text": "PL/SQL appears with Oracle BI 111 times",
         "type": "scatter",
         "x": [
          -0.8572149987571979
         ],
         "y": [
          0.27419417555027936
         ]
        },
        {
         "hoverinfo": "text",
         "marker": {
          "color": "blue",
          "size": 0.5
         },
         "mode": "markers",
         "text": "Oracle BI appears with PL/SQL 111 times",
         "type": "scatter",
         "x": [
          0.051930791042634004
         ],
         "y": [
          -0.8985005247308909
         ]
        },
        {
         "hoverinfo": "text",
         "marker": {
          "color": "green",
          "size": 0.5
         },
         "mode": "markers",
         "text": "PL/SQL appears with Python 5 times",
         "type": "scatter",
         "x": [
          -0.8423737448951952
         ],
         "y": [
          0.3168698059317812
         ]
        },
        {
         "hoverinfo": "text",
         "marker": {
          "color": "blue",
          "size": 0.5
         },
         "mode": "markers",
         "text": "Python appears with PL/SQL 5 times",
         "type": "scatter",
         "x": [
          0.5316238690073312
         ],
         "y": [
          -0.7262066247988075
         ]
        },
        {
         "hoverinfo": "text",
         "marker": {
          "color": "green",
          "size": 0.5
         },
         "mode": "markers",
         "text": "PL/SQL appears with VBA 11 times",
         "type": "scatter",
         "x": [
          -0.8434634041815376
         ],
         "y": [
          0.3139577771078335
         ]
        },
        {
         "hoverinfo": "text",
         "marker": {
          "color": "blue",
          "size": 0.5
         },
         "mode": "markers",
         "text": "VBA appears with PL/SQL 11 times",
         "type": "scatter",
         "x": [
          0.8087589945742286
         ],
         "y": [
          -0.3948529963103775
         ]
        },
        {
         "hoverinfo": "text",
         "marker": {
          "color": "green",
          "size": 0.5
         },
         "mode": "markers",
         "text": "PL/SQL appears with Linux 5 times",
         "type": "scatter",
         "x": [
          -0.8425560532988591
         ],
         "y": [
          0.3163847294820819
         ]
        },
        {
         "hoverinfo": "text",
         "marker": {
          "color": "blue",
          "size": 0.5
         },
         "mode": "markers",
         "text": "Linux appears with PL/SQL 5 times",
         "type": "scatter",
         "x": [
          0.8598165618727505
         ],
         "y": [
          -0.26592382354599714
         ]
        },
        {
         "hoverinfo": "text",
         "marker": {
          "color": "green",
          "size": 0.5
         },
         "mode": "markers",
         "text": "PL/SQL appears with AWS 3 times",
         "type": "scatter",
         "x": [
          -0.8421180439729913
         ],
         "y": [
          0.3175487364407283
         ]
        },
        {
         "hoverinfo": "text",
         "marker": {
          "color": "blue",
          "size": 0.5
         },
         "mode": "markers",
         "text": "AWS appears with PL/SQL 3 times",
         "type": "scatter",
         "x": [
          0.8926841178049353
         ],
         "y": [
          -0.11452102784565178
         ]
        },
        {
         "hoverinfo": "text",
         "marker": {
          "color": "green",
          "size": 0.5
         },
         "mode": "markers",
         "text": "Pentaho appears with Spark 8 times",
         "type": "scatter",
         "x": [
          -0.867336509768766
         ],
         "y": [
          0.2402652259943903
         ]
        },
        {
         "hoverinfo": "text",
         "marker": {
          "color": "blue",
          "size": 0.5
         },
         "mode": "markers",
         "text": "Spark appears with Pentaho 8 times",
         "type": "scatter",
         "x": [
          -0.8968958692856436
         ],
         "y": [
          -0.07468466816120804
         ]
        },
        {
         "hoverinfo": "text",
         "marker": {
          "color": "green",
          "size": 0.5
         },
         "mode": "markers",
         "text": "Pentaho appears with Informatica 39 times",
         "type": "scatter",
         "x": [
          -0.8712863659669379
         ],
         "y": [
          0.2255217694151214
         ]
        },
        {
         "hoverinfo": "text",
         "marker": {
          "color": "blue",
          "size": 0.5
         },
         "mode": "markers",
         "text": "Informatica appears with Pentaho 39 times",
         "type": "scatter",
         "x": [
          -0.8421288406893283
         ],
         "y": [
          -0.3175201027954735
         ]
        },
        {
         "hoverinfo": "text",
         "marker": {
          "color": "green",
          "size": 0.5
         },
         "mode": "markers",
         "text": "Pentaho appears with Qlik 36 times",
         "type": "scatter",
         "x": [
          -0.8690663360650867
         ],
         "y": [
          0.2339309802450412
         ]
        },
        {
         "hoverinfo": "text",
         "marker": {
          "color": "blue",
          "size": 0.5
         },
         "mode": "markers",
         "text": "Qlik appears with Pentaho 36 times",
         "type": "scatter",
         "x": [
          -0.7873193231007789
         ],
         "y": [
          -0.43603702075870976
         ]
        },
        {
         "hoverinfo": "text",
         "marker": {
          "color": "green",
          "size": 0.5
         },
         "mode": "markers",
         "text": "Pentaho appears with Tableau 44 times",
         "type": "scatter",
         "x": [
          -0.8758148212908095
         ],
         "y": [
          0.20723995465968306
         ]
        },
        {
         "hoverinfo": "text",
         "marker": {
          "color": "blue",
          "size": 0.5
         },
         "mode": "markers",
         "text": "Tableau appears with Pentaho 44 times",
         "type": "scatter",
         "x": [
          -0.5635133318008018
         ],
         "y": [
          -0.7017497594461715
         ]
        },
        {
         "hoverinfo": "text",
         "marker": {
          "color": "green",
          "size": 0.5
         },
         "mode": "markers",
         "text": "Pentaho appears with Microstrategy 7 times",
         "type": "scatter",
         "x": [
          -0.867105462093076
         ],
         "y": [
          0.2410977345566589
         ]
        },
        {
         "hoverinfo": "text",
         "marker": {
          "color": "blue",
          "size": 0.5
         },
         "mode": "markers",
         "text": "Microstrategy appears with Pentaho 7 times",
         "type": "scatter",
         "x": [
          -0.12327008135743035
         ],
         "y": [
          -0.8915180800422011
         ]
        },
        {
         "hoverinfo": "text",
         "marker": {
          "color": "green",
          "size": 0.5
         },
         "mode": "markers",
         "text": "Pentaho appears with Oracle BI 40 times",
         "type": "scatter",
         "x": [
          -0.873508325540693
         ],
         "y": [
          0.21675609613363742
         ]
        },
        {
         "hoverinfo": "text",
         "marker": {
          "color": "blue",
          "size": 0.5
         },
         "mode": "markers",
         "text": "Oracle BI appears with Pentaho 40 times",
         "type": "scatter",
         "x": [
          -0.04079399629572673
         ],
         "y": [
          -0.8990749967973886
         ]
        },
        {
         "hoverinfo": "text",
         "marker": {
          "color": "green",
          "size": 0.5
         },
         "mode": "markers",
         "text": "Pentaho appears with Python 38 times",
         "type": "scatter",
         "x": [
          -0.8701644517013685
         ],
         "y": [
          0.2298125910285527
         ]
        },
        {
         "hoverinfo": "text",
         "marker": {
          "color": "blue",
          "size": 0.5
         },
         "mode": "markers",
         "text": "Python appears with Pentaho 38 times",
         "type": "scatter",
         "x": [
          0.5452232961157493
         ],
         "y": [
          -0.7160527615844225
         ]
        },
        {
         "hoverinfo": "text",
         "marker": {
          "color": "green",
          "size": 0.5
         },
         "mode": "markers",
         "text": "Pentaho appears with VBA 1 times",
         "type": "scatter",
         "x": [
          -0.8669819099179712
         ],
         "y": [
          0.2415416483238177
         ]
        },
        {
         "hoverinfo": "text",
         "marker": {
          "color": "blue",
          "size": 0.5
         },
         "mode": "markers",
         "text": "VBA appears with Pentaho 1 times",
         "type": "scatter",
         "x": [
          0.8055686239134805
         ],
         "y": [
          -0.4013218062429969
         ]
        },
        {
         "hoverinfo": "text",
         "marker": {
          "color": "green",
          "size": 0.5
         },
         "mode": "markers",
         "text": "Pentaho appears with Linux 43 times",
         "type": "scatter",
         "x": [
          -0.8746473724896497
         ],
         "y": [
          0.21211311557032952
         ]
        },
        {
         "hoverinfo": "text",
         "marker": {
          "color": "blue",
          "size": 0.5
         },
         "mode": "markers",
         "text": "Linux appears with Pentaho 43 times",
         "type": "scatter",
         "x": [
          0.8662431547018423
         ],
         "y": [
          -0.2441777977871863
         ]
        },
        {
         "hoverinfo": "text",
         "marker": {
          "color": "green",
          "size": 0.5
         },
         "mode": "markers",
         "text": "Pentaho appears with AWS 15 times",
         "type": "scatter",
         "x": [
          -0.8682981792727855
         ],
         "y": [
          0.23676628111191356
         ]
        },
        {
         "hoverinfo": "text",
         "marker": {
          "color": "blue",
          "size": 0.5
         },
         "mode": "markers",
         "text": "AWS appears with Pentaho 15 times",
         "type": "scatter",
         "x": [
          0.8934617160960833
         ],
         "y": [
          -0.108287404025777
         ]
        },
        {
         "hoverinfo": "text",
         "marker": {
          "color": "green",
          "size": 0.5
         },
         "mode": "markers",
         "text": "Hadoop appears with Spark 238 times",
         "type": "scatter",
         "x": [
          -0.8999739697527137
         ],
         "y": [
          0.006844981193672053
         ]
        },
        {
         "hoverinfo": "text",
         "marker": {
          "color": "blue",
          "size": 0.5
         },
         "mode": "markers",
         "text": "Spark appears with Hadoop 238 times",
         "type": "scatter",
         "x": [
          -0.8759817182296736
         ],
         "y": [
          -0.20653336129397734
         ]
        },
        {
         "hoverinfo": "text",
         "marker": {
          "color": "green",
          "size": 0.5
         },
         "mode": "markers",
         "text": "Hadoop appears with Informatica 15 times",
         "type": "scatter",
         "x": [
          -0.8898247884073136
         ],
         "y": [
          0.13495127245002037
         ]
        },
        {
         "hoverinfo": "text",
         "marker": {
          "color": "blue",
          "size": 0.5
         },
         "mode": "markers",
         "text": "Informatica appears with Hadoop 15 times",
         "type": "scatter",
         "x": [
          -0.8519617069164523
         ],
         "y": [
          -0.2901055841379222
         ]
        },
        {
         "hoverinfo": "text",
         "marker": {
          "color": "green",
          "size": 0.5
         },
         "mode": "markers",
         "text": "Hadoop appears with Qlik 15 times",
         "type": "scatter",
         "x": [
          -0.8895091440525479
         ],
         "y": [
          0.137016359048486
         ]
        },
        {
         "hoverinfo": "text",
         "marker": {
          "color": "blue",
          "size": 0.5
         },
         "mode": "markers",
         "text": "Qlik appears with Hadoop 15 times",
         "type": "scatter",
         "x": [
          -0.7951376466729888
         ],
         "y": [
          -0.42161134098045944
         ]
        },
        {
         "hoverinfo": "text",
         "marker": {
          "color": "green",
          "size": 0.5
         },
         "mode": "markers",
         "text": "Hadoop appears with Tableau 90 times",
         "type": "scatter",
         "x": [
          -0.8964253533423622
         ],
         "y": [
          0.0801347982153891
         ]
        },
        {
         "hoverinfo": "text",
         "marker": {
          "color": "blue",
          "size": 0.5
         },
         "mode": "markers",
         "text": "Tableau appears with Hadoop 90 times",
         "type": "scatter",
         "x": [
          -0.5189892664300089
         ],
         "y": [
          -0.735289154911482
         ]
        },
        {
         "hoverinfo": "text",
         "marker": {
          "color": "green",
          "size": 0.5
         },
         "mode": "markers",
         "text": "Hadoop appears with Microstrategy 7 times",
         "type": "scatter",
         "x": [
          -0.8886219349951859
         ],
         "y": [
          0.14265712966904814
         ]
        },
        {
         "hoverinfo": "text",
         "marker": {
          "color": "blue",
          "size": 0.5
         },
         "mode": "markers",
         "text": "Microstrategy appears with Hadoop 7 times",
         "type": "scatter",
         "x": [
          -0.12255375049112549
         ],
         "y": [
          -0.891616833757954
         ]
        },
        {
         "hoverinfo": "text",
         "marker": {
          "color": "green",
          "size": 0.5
         },
         "mode": "markers",
         "text": "Hadoop appears with Oracle BI 87 times",
         "type": "scatter",
         "x": [
          -0.8952438775568948
         ],
         "y": [
          0.09240346149844954
         ]
        },
        {
         "hoverinfo": "text",
         "marker": {
          "color": "blue",
          "size": 0.5
         },
         "mode": "markers",
         "text": "Oracle BI appears with Hadoop 87 times",
         "type": "scatter",
         "x": [
          0.02233279856766729
         ],
         "y": [
          -0.8997228718378432
         ]
        },
        {
         "hoverinfo": "text",
         "marker": {
          "color": "green",
          "size": 0.5
         },
         "mode": "markers",
         "text": "Hadoop appears with Python 257 times",
         "type": "scatter",
         "x": [
          -0.8995760780031872
         ],
         "y": [
          -0.027620280310015226
         ]
        },
        {
         "hoverinfo": "text",
         "marker": {
          "color": "blue",
          "size": 0.5
         },
         "mode": "markers",
         "text": "Python appears with Hadoop 257 times",
         "type": "scatter",
         "x": [
          0.720019374056661
         ],
         "y": [
          -0.5399741669589889
         ]
        },
        {
         "hoverinfo": "text",
         "marker": {
          "color": "green",
          "size": 0.5
         },
         "mode": "markers",
         "text": "Hadoop appears with VBA 11 times",
         "type": "scatter",
         "x": [
          -0.8892317088667845
         ],
         "y": [
          0.13880550401860267
         ]
        },
        {
         "hoverinfo": "text",
         "marker": {
          "color": "blue",
          "size": 0.5
         },
         "mode": "markers",
         "text": "VBA appears with Hadoop 11 times",
         "type": "scatter",
         "x": [
          0.8081364077758161
         ],
         "y": [
          -0.39612566999274357
         ]
        },
        {
         "hoverinfo": "text",
         "marker": {
          "color": "green",
          "size": 0.5
         },
         "mode": "markers",
         "text": "Hadoop appears with Linux 142 times",
         "type": "scatter",
         "x": [
          -0.8993837758083388
         ],
         "y": [
          0.03329900618240263
         ]
        },
        {
         "hoverinfo": "text",
         "marker": {
          "color": "blue",
          "size": 0.5
         },
         "mode": "markers",
         "text": "Linux appears with Hadoop 142 times",
         "type": "scatter",
         "x": [
          0.8834197285827128
         ],
         "y": [
          -0.17195808544772248
         ]
        },
        {
         "hoverinfo": "text",
         "marker": {
          "color": "green",
          "size": 0.5
         },
         "mode": "markers",
         "text": "Hadoop appears with AWS 91 times",
         "type": "scatter",
         "x": [
          -0.8974596604067391
         ],
         "y": [
          0.06757335231154789
         ]
        },
        {
         "hoverinfo": "text",
         "marker": {
          "color": "blue",
          "size": 0.5
         },
         "mode": "markers",
         "text": "AWS appears with Hadoop 91 times",
         "type": "scatter",
         "x": [
          0.8977785289000144
         ],
         "y": [
          -0.06319583092361387
         ]
        },
        {
         "hoverinfo": "text",
         "marker": {
          "color": "green",
          "size": 0.5
         },
         "mode": "markers",
         "text": "Spark appears with Informatica 16 times",
         "type": "scatter",
         "x": [
          -0.8966362989056085
         ],
         "y": [
          -0.07773897018132124
         ]
        },
        {
         "hoverinfo": "text",
         "marker": {
          "color": "blue",
          "size": 0.5
         },
         "mode": "markers",
         "text": "Informatica appears with Spark 16 times",
         "type": "scatter",
         "x": [
          -0.8506922181839062
         ],
         "y": [
          -0.2938073346963029
         ]
        },
        {
         "hoverinfo": "text",
         "marker": {
          "color": "green",
          "size": 0.5
         },
         "mode": "markers",
         "text": "Spark appears with Qlik 17 times",
         "type": "scatter",
         "x": [
          -0.8964347952075854
         ],
         "y": [
          -0.0800291068370405
         ]
        },
        {
         "hoverinfo": "text",
         "marker": {
          "color": "blue",
          "size": 0.5
         },
         "mode": "markers",
         "text": "Qlik appears with Spark 17 times",
         "type": "scatter",
         "x": [
          -0.7940319160692774
         ],
         "y": [
          -0.4236901182035664
         ]
        },
        {
         "hoverinfo": "text",
         "marker": {
          "color": "green",
          "size": 0.5
         },
         "mode": "markers",
         "text": "Spark appears with Tableau 69 times",
         "type": "scatter",
         "x": [
          -0.8923438684600781
         ],
         "y": [
          -0.11714273524936523
         ]
        },
        {
         "hoverinfo": "text",
         "marker": {
          "color": "blue",
          "size": 0.5
         },
         "mode": "markers",
         "text": "Tableau appears with Spark 69 times",
         "type": "scatter",
         "x": [
          -0.5568319543697007
         ],
         "y": [
          -0.7070630626703813
         ]
        },
        {
         "hoverinfo": "text",
         "marker": {
          "color": "green",
          "size": 0.5
         },
         "mode": "markers",
         "text": "Spark appears with Microstrategy 3 times",
         "type": "scatter",
         "x": [
          -0.8969591363480486
         ],
         "y": [
          -0.07392095590401118
         ]
        },
        {
         "hoverinfo": "text",
         "marker": {
          "color": "blue",
          "size": 0.5
         },
         "mode": "markers",
         "text": "Microstrategy appears with Spark 3 times",
         "type": "scatter",
         "x": [
          -0.12449789173849274
         ],
         "y": [
          -0.8913474490638713
         ]
        },
        {
         "hoverinfo": "text",
         "marker": {
          "color": "green",
          "size": 0.5
         },
         "mode": "markers",
         "text": "Spark appears with Oracle BI 77 times",
         "type": "scatter",
         "x": [
          -0.8895108674984985
         ],
         "y": [
          -0.13700516998299275
         ]
        },
        {
         "hoverinfo": "text",
         "marker": {
          "color": "blue",
          "size": 0.5
         },
         "mode": "markers",
         "text": "Oracle BI appears with Spark 77 times",
         "type": "scatter",
         "x": [
          -0.0030137531881245924
         ],
         "y": [
          -0.8999949540368107
         ]
        },
        {
         "hoverinfo": "text",
         "marker": {
          "color": "green",
          "size": 0.5
         },
         "mode": "markers",
         "text": "Spark appears with Python 278 times",
         "type": "scatter",
         "x": [
          -0.867035903133853
         ],
         "y": [
          -0.24134776294149438
         ]
        },
        {
         "hoverinfo": "text",
         "marker": {
          "color": "blue",
          "size": 0.5
         },
         "mode": "markers",
         "text": "Python appears with Spark 278 times",
         "type": "scatter",
         "x": [
          0.7432995623080115
         ],
         "y": [
          -0.5074502543823567
         ]
        },
        {
         "hoverinfo": "text",
         "marker": {
          "color": "green",
          "size": 0.5
         },
         "mode": "markers",
         "text": "Spark appears with VBA 10 times",
         "type": "scatter",
         "x": [
          -0.8967909387604099
         ],
         "y": [
          -0.07593426207729025
         ]
        },
        {
         "hoverinfo": "text",
         "marker": {
          "color": "blue",
          "size": 0.5
         },
         "mode": "markers",
         "text": "VBA appears with Spark 10 times",
         "type": "scatter",
         "x": [
          0.8075402521395775
         ],
         "y": [
          -0.3973395791691885
         ]
        },
        {
         "hoverinfo": "text",
         "marker": {
          "color": "green",
          "size": 0.5
         },
         "mode": "markers",
         "text": "Spark appears with Linux 125 times",
         "type": "scatter",
         "x": [
          -0.8848685897252568
         ],
         "y": [
          -0.16433982754534912
         ]
        },
        {
         "hoverinfo": "text",
         "marker": {
          "color": "blue",
          "size": 0.5
         },
         "mode": "markers",
         "text": "Linux appears with Spark 125 times",
         "type": "scatter",
         "x": [
          0.8799095584567828
         ],
         "y": [
          -0.1891009490626364
         ]
        },
        {
         "hoverinfo": "text",
         "marker": {
          "color": "green",
          "size": 0.5
         },
         "mode": "markers",
         "text": "Spark appears with AWS 98 times",
         "type": "scatter",
         "x": [
          -0.8875734123846556
         ],
         "y": [
          -0.14904173116230945
         ]
        },
        {
         "hoverinfo": "text",
         "marker": {
          "color": "blue",
          "size": 0.5
         },
         "mode": "markers",
         "text": "AWS appears with Spark 98 times",
         "type": "scatter",
         "x": [
          0.8985079017817591
         ],
         "y": [
          -0.05180299639732112
         ]
        },
        {
         "hoverinfo": "text",
         "marker": {
          "color": "green",
          "size": 0.5
         },
         "mode": "markers",
         "text": "Informatica appears with Qlik 101 times",
         "type": "scatter",
         "x": [
          -0.8270255175951963
         ],
         "y": [
          -0.355005342560359
         ]
        },
        {
         "hoverinfo": "text",
         "marker": {
          "color": "blue",
          "size": 0.5
         },
         "mode": "markers",
         "text": "Qlik appears with Informatica 101 times",
         "type": "scatter",
         "x": [
          -0.7618353194556501
         ],
         "y": [
          -0.4791731900157892
         ]
        },
        {
         "hoverinfo": "text",
         "marker": {
          "color": "green",
          "size": 0.5
         },
         "mode": "markers",
         "text": "Informatica appears with Tableau 84 times",
         "type": "scatter",
         "x": [
          -0.8316349921153401
         ],
         "y": [
          -0.3440686557786371
         ]
        },
        {
         "hoverinfo": "text",
         "marker": {
          "color": "blue",
          "size": 0.5
         },
         "mode": "markers",
         "text": "Tableau appears with Informatica 84 times",
         "type": "scatter",
         "x": [
          -0.5296726447014977
         ],
         "y": [
          -0.7276310118837164
         ]
        },
        {
         "hoverinfo": "text",
         "marker": {
          "color": "green",
          "size": 0.5
         },
         "mode": "markers",
         "text": "Informatica appears with Microstrategy 27 times",
         "type": "scatter",
         "x": [
          -0.846787345988348
         ],
         "y": [
          -0.30487897709420675
         ]
        },
        {
         "hoverinfo": "text",
         "marker": {
          "color": "blue",
          "size": 0.5
         },
         "mode": "markers",
         "text": "Microstrategy appears with Informatica 27 times",
         "type": "scatter",
         "x": [
          -0.10995430256473392
         ],
         "y": [
          -0.8932581101493023
         ]
        },
        {
         "hoverinfo": "text",
         "marker": {
          "color": "green",
          "size": 0.5
         },
         "mode": "markers",
         "text": "Informatica appears with Oracle BI 146 times",
         "type": "scatter",
         "x": [
          -0.8139323691763533
         ],
         "y": [
          -0.3840756415173563
         ]
        },
        {
         "hoverinfo": "text",
         "marker": {
          "color": "blue",
          "size": 0.5
         },
         "mode": "markers",
         "text": "Oracle BI appears with Informatica 146 times",
         "type": "scatter",
         "x": [
          0.07150665710562625
         ],
         "y": [
          -0.8971548350143237
         ]
        },
        {
         "hoverinfo": "text",
         "marker": {
          "color": "green",
          "size": 0.5
         },
         "mode": "markers",
         "text": "Informatica appears with Python 34 times",
         "type": "scatter",
         "x": [
          -0.8454536686226656
         ],
         "y": [
          -0.3085580888787003
         ]
        },
        {
         "hoverinfo": "text",
         "marker": {
          "color": "blue",
          "size": 0.5
         },
         "mode": "markers",
         "text": "Python appears with Informatica 34 times",
         "type": "scatter",
         "x": [
          0.5363784052765855
         ],
         "y": [
          -0.7227020176759901
         ]
        },
        {
         "hoverinfo": "text",
         "marker": {
          "color": "green",
          "size": 0.5
         },
         "mode": "markers",
         "text": "Informatica appears with VBA 6 times",
         "type": "scatter",
         "x": [
          -0.8528469143507652
         ],
         "y": [
          -0.2874928532718314
         ]
        },
        {
         "hoverinfo": "text",
         "marker": {
          "color": "blue",
          "size": 0.5
         },
         "mode": "markers",
         "text": "VBA appears with Informatica 6 times",
         "type": "scatter",
         "x": [
          0.8063424719485457
         ],
         "y": [
          -0.39976470320916124
         ]
        },
        {
         "hoverinfo": "text",
         "marker": {
          "color": "green",
          "size": 0.5
         },
         "mode": "markers",
         "text": "Informatica appears with Linux 15 times",
         "type": "scatter",
         "x": [
          -0.8513393796603975
         ],
         "y": [
          -0.29192680699012497
         ]
        },
        {
         "hoverinfo": "text",
         "marker": {
          "color": "blue",
          "size": 0.5
         },
         "mode": "markers",
         "text": "Linux appears with Informatica 15 times",
         "type": "scatter",
         "x": [
          0.861692398255033
         ],
         "y": [
          -0.25978108243190007
         ]
        },
        {
         "hoverinfo": "text",
         "marker": {
          "color": "green",
          "size": 0.5
         },
         "mode": "markers",
         "text": "Informatica appears with AWS 25 times",
         "type": "scatter",
         "x": [
          -0.8490242264898535
         ],
         "y": [
          -0.2985931392937651
         ]
        },
        {
         "hoverinfo": "text",
         "marker": {
          "color": "blue",
          "size": 0.5
         },
         "mode": "markers",
         "text": "AWS appears with Informatica 25 times",
         "type": "scatter",
         "x": [
          0.8942368067697164
         ],
         "y": [
          -0.10168841339258332
         ]
        },
        {
         "hoverinfo": "text",
         "marker": {
          "color": "green",
          "size": 0.5
         },
         "mode": "markers",
         "text": "Qlik appears with Tableau 398 times",
         "type": "scatter",
         "x": [
          -0.7116428170312591
         ],
         "y": [
          -0.5509668782856315
         ]
        },
        {
         "hoverinfo": "text",
         "marker": {
          "color": "blue",
          "size": 0.5
         },
         "mode": "markers",
         "text": "Tableau appears with Qlik 398 times",
         "type": "scatter",
         "x": [
          -0.3416178452733637
         ],
         "y": [
          -0.8326447308370984
         ]
        },
        {
         "hoverinfo": "text",
         "marker": {
          "color": "green",
          "size": 0.5
         },
         "mode": "markers",
         "text": "Qlik appears with Microstrategy 52 times",
         "type": "scatter",
         "x": [
          -0.7841619091492225
         ],
         "y": [
          -0.4416900499665422
         ]
        },
        {
         "hoverinfo": "text",
         "marker": {
          "color": "blue",
          "size": 0.5
         },
         "mode": "markers",
         "text": "Microstrategy appears with Qlik 52 times",
         "type": "scatter",
         "x": [
          -0.09758967324057992
         ],
         "y": [
          -0.8946933864049721
         ]
        },
        {
         "hoverinfo": "text",
         "marker": {
          "color": "green",
          "size": 0.5
         },
         "mode": "markers",
         "text": "Qlik appears with Oracle BI 420 times",
         "type": "scatter",
         "x": [
          -0.673232987290932
         ],
         "y": [
          -0.597291674831759
         ]
        },
        {
         "hoverinfo": "text",
         "marker": {
          "color": "blue",
          "size": 0.5
         },
         "mode": "markers",
         "text": "Oracle BI appears with Qlik 420 times",
         "type": "scatter",
         "x": [
          0.29983404770129174
         ],
         "y": [
          -0.8485867921662813
         ]
        },
        {
         "hoverinfo": "text",
         "marker": {
          "color": "green",
          "size": 0.5
         },
         "mode": "markers",
         "text": "Qlik appears with Python 59 times",
         "type": "scatter",
         "x": [
          -0.7801213950123641
         ],
         "y": [
          -0.448787933264658
         ]
        },
        {
         "hoverinfo": "text",
         "marker": {
          "color": "blue",
          "size": 0.5
         },
         "mode": "markers",
         "text": "Python appears with Qlik 59 times",
         "type": "scatter",
         "x": [
          0.5509756572460998
         ],
         "y": [
          -0.7116360201129707
         ]
        },
        {
         "hoverinfo": "text",
         "marker": {
          "color": "green",
          "size": 0.5
         },
         "mode": "markers",
         "text": "Qlik appears with VBA 31 times",
         "type": "scatter",
         "x": [
          -0.7896959468866595
         ],
         "y": [
          -0.4317178609587311
         ]
        },
        {
         "hoverinfo": "text",
         "marker": {
          "color": "blue",
          "size": 0.5
         },
         "mode": "markers",
         "text": "VBA appears with Qlik 31 times",
         "type": "scatter",
         "x": [
          0.8114522622825302
         ],
         "y": [
          -0.3892881015861696
         ]
        },
        {
         "hoverinfo": "text",
         "marker": {
          "color": "green",
          "size": 0.5
         },
         "mode": "markers",
         "text": "Qlik appears with Linux 3 times",
         "type": "scatter",
         "x": [
          -0.7970595753290401
         ],
         "y": [
          -0.41796654576208647
         ]
        },
        {
         "hoverinfo": "text",
         "marker": {
          "color": "blue",
          "size": 0.5
         },
         "mode": "markers",
         "text": "Linux appears with Qlik 3 times",
         "type": "scatter",
         "x": [
          0.8594672575522013
         ],
         "y": [
          -0.26705061916366724
         ]
        },
        {
         "hoverinfo": "text",
         "marker": {
          "color": "green",
          "size": 0.5
         },
         "mode": "markers",
         "text": "Qlik appears with AWS 4 times",
         "type": "scatter",
         "x": [
          -0.7968202470936966
         ],
         "y": [
          -0.4184226258480059
         ]
        },
        {
         "hoverinfo": "text",
         "marker": {
          "color": "blue",
          "size": 0.5
         },
         "mode": "markers",
         "text": "AWS appears with Qlik 4 times",
         "type": "scatter",
         "x": [
          0.8927378217126476
         ],
         "y": [
          -0.11410162875155219
         ]
        },
        {
         "hoverinfo": "text",
         "marker": {
          "color": "green",
          "size": 0.5
         },
         "mode": "markers",
         "text": "Tableau appears with Microstrategy 75 times",
         "type": "scatter",
         "x": [
          -0.5393363043107247
         ],
         "y": [
          -0.7204972941326354
         ]
        },
        {
         "hoverinfo": "text",
         "marker": {
          "color": "blue",
          "size": 0.5
         },
         "mode": "markers",
         "text": "Microstrategy appears with Tableau 75 times",
         "type": "scatter",
         "x": [
          -0.08530921238656154
         ],
         "y": [
          -0.8959477318917575
         ]
        },
        {
         "hoverinfo": "text",
         "marker": {
          "color": "green",
          "size": 0.5
         },
         "mode": "markers",
         "text": "Tableau appears with Oracle BI 550 times",
         "type": "scatter",
         "x": [
          -0.27435016938823936
         ],
         "y": [
          -0.8571650859412348
         ]
        },
        {
         "hoverinfo": "text",
         "marker": {
          "color": "blue",
          "size": 0.5
         },
         "mode": "markers",
         "text": "Oracle BI appears with Tableau 550 times",
         "type": "scatter",
         "x": [
          0.36857122249278984
         ],
         "y": [
          -0.8210695792380635
         ]
        },
        {
         "hoverinfo": "text",
         "marker": {
          "color": "green",
          "size": 0.5
         },
         "mode": "markers",
         "text": "Tableau appears with Python 207 times",
         "type": "scatter",
         "x": [
          -0.45140437979252135
         ],
         "y": [
          -0.778610355636328
         ]
        },
        {
         "hoverinfo": "text",
         "marker": {
          "color": "blue",
          "size": 0.5
         },
         "mode": "markers",
         "text": "Python appears with Tableau 207 times",
         "type": "scatter",
         "x": [
          0.653626989218631
         ],
         "y": [
          -0.6186855089340525
         ]
        },
        {
         "hoverinfo": "text",
         "marker": {
          "color": "green",
          "size": 0.5
         },
         "mode": "markers",
         "text": "Tableau appears with VBA 95 times",
         "type": "scatter",
         "x": [
          -0.5075091300613958
         ],
         "y": [
          -0.7432593644915114
         ]
        },
        {
         "hoverinfo": "text",
         "marker": {
          "color": "blue",
          "size": 0.5
         },
         "mode": "markers",
         "text": "VBA appears with Tableau 95 times",
         "type": "scatter",
         "x": [
          0.8234086023204662
         ],
         "y": [
          -0.363315666638058
         ]
        },
        {
         "hoverinfo": "text",
         "marker": {
          "color": "green",
          "size": 0.5
         },
         "mode": "markers",
         "text": "Tableau appears with Linux 33 times",
         "type": "scatter",
         "x": [
          -0.5723623036563118
         ],
         "y": [
          -0.6945512172282473
         ]
        },
        {
         "hoverinfo": "text",
         "marker": {
          "color": "blue",
          "size": 0.5
         },
         "mode": "markers",
         "text": "Linux appears with Tableau 33 times",
         "type": "scatter",
         "x": [
          0.8635981900181577
         ],
         "y": [
          -0.25337357043970055
         ]
        },
        {
         "hoverinfo": "text",
         "marker": {
          "color": "green",
          "size": 0.5
         },
         "mode": "markers",
         "text": "Tableau appears with AWS 37 times",
         "type": "scatter",
         "x": [
          -0.5682714778605937
         ],
         "y": [
          -0.6979022334468753
         ]
        },
        {
         "hoverinfo": "text",
         "marker": {
          "color": "blue",
          "size": 0.5
         },
         "mode": "markers",
         "text": "AWS appears with Tableau 37 times",
         "type": "scatter",
         "x": [
          0.8946522014479523
         ],
         "y": [
          -0.09796651695519512
         ]
        },
        {
         "hoverinfo": "text",
         "marker": {
          "color": "green",
          "size": 0.5
         },
         "mode": "markers",
         "text": "Microstrategy appears with Oracle BI 75 times",
         "type": "scatter",
         "x": [
          -0.07759346642681071
         ],
         "y": [
          -0.896648902284429
         ]
        },
        {
         "hoverinfo": "text",
         "marker": {
          "color": "blue",
          "size": 0.5
         },
         "mode": "markers",
         "text": "Oracle BI appears with Microstrategy 75 times",
         "type": "scatter",
         "x": [
          -0.014618613483933283
         ],
         "y": [
          -0.8998812678013736
         ]
        },
        {
         "hoverinfo": "text",
         "marker": {
          "color": "green",
          "size": 0.5
         },
         "mode": "markers",
         "text": "Microstrategy appears with Python 20 times",
         "type": "scatter",
         "x": [
          -0.11973883198878638
         ],
         "y": [
          -0.8919992220366345
         ]
        },
        {
         "hoverinfo": "text",
         "marker": {
          "color": "blue",
          "size": 0.5
         },
         "mode": "markers",
         "text": "Python appears with Microstrategy 20 times",
         "type": "scatter",
         "x": [
          0.5331309553621738
         ],
         "y": [
          -0.7251009477545977
         ]
        },
        {
         "hoverinfo": "text",
         "marker": {
          "color": "green",
          "size": 0.5
         },
         "mode": "markers",
         "text": "Microstrategy appears with VBA 7 times",
         "type": "scatter",
         "x": [
          -0.12398633264875575
         ],
         "y": [
          -0.8914187508215834
         ]
        },
        {
         "hoverinfo": "text",
         "marker": {
          "color": "blue",
          "size": 0.5
         },
         "mode": "markers",
         "text": "VBA appears with Microstrategy 7 times",
         "type": "scatter",
         "x": [
          0.80705631437221
         ],
         "y": [
          -0.39832161055100257
         ]
        },
        {
         "hoverinfo": "text",
         "marker": {
          "color": "green",
          "size": 0.5
         },
         "mode": "markers",
         "text": "Microstrategy appears with Linux 14 times",
         "type": "scatter",
         "x": [
          -0.1214791060001343
         ],
         "y": [
          -0.891763885120612
         ]
        },
        {
         "hoverinfo": "text",
         "marker": {
          "color": "blue",
          "size": 0.5
         },
         "mode": "markers",
         "text": "Linux appears with Microstrategy 14 times",
         "type": "scatter",
         "x": [
          0.8611418712568929
         ],
         "y": [
          -0.2616002247097219
         ]
        },
        {
         "hoverinfo": "text",
         "marker": {
          "color": "green",
          "size": 0.5
         },
         "mode": "markers",
         "text": "Microstrategy appears with AWS 2 times",
         "type": "scatter",
         "x": [
          -0.12475365591744167
         ],
         "y": [
          -0.891311688095266
         ]
        },
        {
         "hoverinfo": "text",
         "marker": {
          "color": "blue",
          "size": 0.5
         },
         "mode": "markers",
         "text": "AWS appears with Microstrategy 2 times",
         "type": "scatter",
         "x": [
          0.8926456372399221
         ],
         "y": [
          -0.11482058315708724
         ]
        },
        {
         "hoverinfo": "text",
         "marker": {
          "color": "green",
          "size": 0.5
         },
         "mode": "markers",
         "text": "Oracle BI appears with Python 228 times",
         "type": "scatter",
         "x": [
          0.16156040609047462
         ],
         "y": [
          -0.8853802771599788
         ]
        },
        {
         "hoverinfo": "text",
         "marker": {
          "color": "blue",
          "size": 0.5
         },
         "mode": "markers",
         "text": "Python appears with Oracle BI 228 times",
         "type": "scatter",
         "x": [
          0.6755531085609525
         ],
         "y": [
          -0.5946662908839156
         ]
        },
        {
         "hoverinfo": "text",
         "marker": {
          "color": "green",
          "size": 0.5
         },
         "mode": "markers",
         "text": "Oracle BI appears with VBA 95 times",
         "type": "scatter",
         "x": [
          0.036221362051139266
         ],
         "y": [
          -0.899270822906626
         ]
        },
        {
         "hoverinfo": "text",
         "marker": {
          "color": "blue",
          "size": 0.5
         },
         "mode": "markers",
         "text": "VBA appears with Oracle BI 95 times",
         "type": "scatter",
         "x": [
          0.828271819618595
         ],
         "y": [
          -0.3520877629593246
         ]
        },
        {
         "hoverinfo": "text",
         "marker": {
          "color": "green",
          "size": 0.5
         },
         "mode": "markers",
         "text": "Oracle BI appears with Linux 11 times",
         "type": "scatter",
         "x": [
          -0.04468355004375833
         ],
         "y": [
          -0.8988900824658635
         ]
        },
        {
         "hoverinfo": "text",
         "marker": {
          "color": "blue",
          "size": 0.5
         },
         "mode": "markers",
         "text": "Linux appears with Oracle BI 11 times",
         "type": "scatter",
         "x": [
          0.8601258144409359
         ],
         "y": [
          -0.26492184381873196
         ]
        },
        {
         "hoverinfo": "text",
         "marker": {
          "color": "green",
          "size": 0.5
         },
         "mode": "markers",
         "text": "Oracle BI appears with AWS 60 times",
         "type": "scatter",
         "x": [
          -0.024923583911549793
         ],
         "y": [
          -0.8996548310129858
         ]
        },
        {
         "hoverinfo": "text",
         "marker": {
          "color": "blue",
          "size": 0.5
         },
         "mode": "markers",
         "text": "AWS appears with Oracle BI 60 times",
         "type": "scatter",
         "x": [
          0.8963078505376926
         ],
         "y": [
          -0.08143854777991413
         ]
        },
        {
         "hoverinfo": "text",
         "marker": {
          "color": "green",
          "size": 0.5
         },
         "mode": "markers",
         "text": "Python appears with VBA 76 times",
         "type": "scatter",
         "x": [
          0.558921893064215
         ],
         "y": [
          -0.7054121614017682
         ]
        },
        {
         "hoverinfo": "text",
         "marker": {
          "color": "blue",
          "size": 0.5
         },
         "mode": "markers",
         "text": "VBA appears with Python 76 times",
         "type": "scatter",
         "x": [
          0.8189015537510611
         ],
         "y": [
          -0.3733634225042645
         ]
        },
        {
         "hoverinfo": "text",
         "marker": {
          "color": "green",
          "size": 0.5
         },
         "mode": "markers",
         "text": "Python appears with Linux 154 times",
         "type": "scatter",
         "x": [
          0.6347815112525244
         ],
         "y": [
          -0.6380066088779656
         ]
        },
        {
         "hoverinfo": "text",
         "marker": {
          "color": "blue",
          "size": 0.5
         },
         "mode": "markers",
         "text": "Linux appears with Python 154 times",
         "type": "scatter",
         "x": [
          0.8869207697066228
         ],
         "y": [
          -0.15287755971041606
         ]
        },
        {
         "hoverinfo": "text",
         "marker": {
          "color": "green",
          "size": 0.5
         },
         "mode": "markers",
         "text": "Python appears with AWS 146 times",
         "type": "scatter",
         "x": [
          0.6186853756427576
         ],
         "y": [
          -0.6536271153844369
         ]
        },
        {
         "hoverinfo": "text",
         "marker": {
          "color": "blue",
          "size": 0.5
         },
         "mode": "markers",
         "text": "AWS appears with Python 146 times",
         "type": "scatter",
         "x": [
          0.8992357152689608
         ],
         "y": [
          -0.03708272353428806
         ]
        },
        {
         "hoverinfo": "text",
         "marker": {
          "color": "green",
          "size": 0.5
         },
         "mode": "markers",
         "text": "VBA appears with Linux 5 times",
         "type": "scatter",
         "x": [
          0.8060275636814307
         ],
         "y": [
          -0.4003992589725625
         ]
        },
        {
         "hoverinfo": "text",
         "marker": {
          "color": "blue",
          "size": 0.5
         },
         "mode": "markers",
         "text": "Linux appears with VBA 5 times",
         "type": "scatter",
         "x": [
          0.8596226862579118
         ],
         "y": [
          -0.266549877641562
         ]
        },
        {
         "hoverinfo": "text",
         "marker": {
          "color": "green",
          "size": 0.5
         },
         "mode": "markers",
         "text": "VBA appears with AWS 5 times",
         "type": "scatter",
         "x": [
          0.8057408500983361
         ],
         "y": [
          -0.4009759125967679
         ]
        },
        {
         "hoverinfo": "text",
         "marker": {
          "color": "blue",
          "size": 0.5
         },
         "mode": "markers",
         "text": "AWS appears with VBA 5 times",
         "type": "scatter",
         "x": [
          0.8928065800623453
         ],
         "y": [
          -0.11356236435271663
         ]
        },
        {
         "hoverinfo": "text",
         "marker": {
          "color": "green",
          "size": 0.5
         },
         "mode": "markers",
         "text": "Linux appears with AWS 47 times",
         "type": "scatter",
         "x": [
          0.8678248477715634
         ],
         "y": [
          -0.23849535339344224
         ]
        },
        {
         "hoverinfo": "text",
         "marker": {
          "color": "blue",
          "size": 0.5
         },
         "mode": "markers",
         "text": "AWS appears with Linux 47 times",
         "type": "scatter",
         "x": [
          0.8956999102946458
         ],
         "y": [
          -0.08787303737872953
         ]
        }
       ],
       "layout": {
        "autosize": false,
        "font": {
         "color": "#655643",
         "family": "Fira Sans Condensed",
         "size": 12
        },
        "height": 540,
        "hidesources": true,
        "hoverdistance": 40,
        "hovermode": "closest",
        "margin": {
         "b": 10,
         "l": 280,
         "r": 280,
         "t": 80
        },
        "paper_bgcolor": "#fffaf0",
        "plot_bgcolor": "#fffaf0",
        "shapes": [
         {
          "fillcolor": "#f2e6ce",
          "layer": "below",
          "line": {
           "color": "rgb(175,175,175)",
           "width": 0.5
          },
          "path": "M 0.9681867471398966,0.25022874068073386 Q 0.18263104157962617, 0.08152240582527523 0.8327398077706343, 0.5536645306989848L 0.8327398077706343, 0.5536645306989848 L 0.8463149464619905, 0.5326828431581387 L 0.8593615482646089, 0.511368486870529 M 0.8593615482646089,0.511368486870529 Q 0.18275854690971524, 0.08123615901462487 0.9554059632324315, 0.29529552218059396L 0.9554059632324315, 0.29529552218059396 L 0.9620602801010334, 0.2728369796268847 L 0.9681867471398966, 0.25022874068073386 ",
          "type": "path"
         },
         {
          "fillcolor": "#f2e6ce",
          "layer": "below",
          "line": {
           "color": "rgb(175,175,175)",
           "width": 0.5
          },
          "path": "M 0.9946135685457097,0.10365254104347267 Q 0.14270650726010825, 0.1401244189483784 0.121794282986547, 0.9925553650209105L 0.121794282986547, 0.9925553650209105 L 0.1369250495171251, 0.9905814104932178 L 0.15202393488577606, 0.9883768123655297 M 0.15202393488577606,0.9883768123655297 Q 0.14279181259419996, 0.14003748875234404 0.991150038682452, 0.13274637780283824L 0.991150038682452, 0.13274637780283824 L 0.9929883628634806, 0.11821214496702356 L 0.9946135685457097, 0.10365254104347267 ",
          "type": "path"
         },
         {
          "fillcolor": "#f2e6ce",
          "layer": "below",
          "line": {
           "color": "rgb(175,175,175)",
           "width": 0.5
          },
          "path": "M 0.9971143278267844,0.07591453907216902 Q 0.1026722517514248, 0.17163452077100355 -0.40466705237653866, 0.9144640926361646L -0.40466705237653866, 0.9144640926361646 L -0.3916761225377198, 0.9201031545613878 L -0.3786066368520566, 0.9255576775823184 M -0.3786066368520566,0.9255576775823184 Q 0.10271283237081762, 0.1716102388156497 0.9946135685457097, 0.10365254104347267L 0.9946135685457097, 0.10365254104347267 L 0.9959605175334212, 0.08979224640557665 L 0.9971143278267844, 0.07591453907216902 ",
          "type": "path"
         },
         {
          "fillcolor": "#f2e6ce",
          "layer": "below",
          "line": {
           "color": "rgb(175,175,175)",
           "width": 0.5
          },
          "path": "M 1.0,0.0 Q 0.08006013917581378, 0.18327676916387775 -0.6795187057574664, 0.7336581823476773L -0.6795187057574664, 0.7336581823476773 L -0.6792488695812067, 0.73390801410848 L -0.6789789415518404, 0.7341577466247582 M -0.6789789415518404,0.7341577466247582 Q 0.08005377135001063, 0.18327955066684398 0.9999996760246542, 0.0008049537791092671L 0.9999996760246542, 0.0008049537791092671 L 0.9999999190061603, 0.0004024769221527849 L 1.0, 0.0 ",
          "type": "path"
         },
         {
          "fillcolor": "#f2e6ce",
          "layer": "below",
          "line": {
           "color": "rgb(175,175,175)",
           "width": 0.5
          },
          "path": "M 0.9990272467742844,0.04409716773890381 Q 0.05020784115213679, 0.19359538395024248 -0.8516772508823952, 0.5240666563800884L -0.8516772508823952, 0.5240666563800884 L -0.8484306755549939, 0.5293065168475605 L -0.8451518629255409, 0.5345262655786783 M -0.8451518629255409,0.5345262655786783 Q 0.050185672354056965, 0.1936011319449637 0.9983947559158315, 0.05663842652976288L 0.9983947559158315, 0.05663842652976288 L 0.9987306869224872, 0.05036878993322021 L 0.9990272467742844, 0.04409716773890381 ",
          "type": "path"
         },
         {
          "fillcolor": "#f2e6ce",
          "layer": "below",
          "line": {
           "color": "rgb(175,175,175)",
           "width": 0.5
          },
          "path": "M 0.9999974600342275,0.002253868916653573 Q 0.035036397245089355, 0.19690721385486187 -0.9378426963393128, 0.3470606242762315L -0.9378426963393128, 0.3470606242762315 L -0.9376226937205704, 0.3476545472450797 L -0.9374023149785676, 0.3482483307538203 M -0.9374023149785676,0.3482483307538203 Q 0.03498675805951282, 0.19691603987609826 0.9999919006268527, 0.004024758464146278L 0.9999919006268527, 0.004024758464146278 L 0.9999950723387724, 0.003139314921043282 L 0.9999974600342275, 0.002253868916653573 ",
          "type": "path"
         },
         {
          "fillcolor": "#f2e6ce",
          "layer": "below",
          "line": {
           "color": "rgb(175,175,175)",
           "width": 0.5
          },
          "path": "M 0.9999919006268527,0.004024758464146278 Q 0.026238334686235883, 0.19827140437514704 -0.964522766716825, 0.2639996827364025L -0.964522766716825, 0.2639996827364025 L -0.9643197363064321, 0.26474033725500407 L -0.9641161371494549, 0.26548083563227987 M -0.9641161371494549,0.26548083563227987 Q 0.026199083085417282, 0.19827659480000004 0.9999822591615662, 0.005956623383264446L 0.9999822591615662, 0.005956623383264446 L 0.9999875464128863, 0.004990693251985969 L 0.9999919006268527, 0.004024758464146278 ",
          "type": "path"
         },
         {
          "fillcolor": "#f2e6ce",
          "layer": "below",
          "line": {
           "color": "rgb(175,175,175)",
           "width": 0.5
          },
          "path": "M 0.9996724010421019,0.02559473763724 Q 0.010467378442350794, 0.19972589714041744 -0.9915204688472571, 0.12995060545036125L -0.9915204688472571, 0.12995060545036125 L -0.9909688640416641, 0.13409217165805754 L -0.9903999600526388, 0.1382313970403667 M -0.9903999600526388,0.1382313970403667 Q 0.010433702575327589, 0.19972765920264926 0.9994121200793332, 0.034284314759558975L 0.9994121200793332, 0.034284314759558975 L 0.9995517034323289, 0.0299398090429706 L 0.9996724010421019, 0.02559473763724 ",
          "type": "path"
         },
         {
          "fillcolor": "#f2e6ce",
          "layer": "below",
          "line": {
           "color": "rgb(175,175,175)",
           "width": 0.5
          },
          "path": "M 0.9994121200793332,0.034284314759558975 Q -0.015930994081849247, 0.1993644989148371 -0.9921742287070202, -0.12486112241057844L -0.9921742287070202, -0.12486112241057844 L -0.9927527378813195, -0.12017487852768617 L -0.9933091130827523, -0.11548595527922878 M -0.9933091130827523,-0.11548595527922878 Q -0.01596855353660271, 0.1993614940201559 0.9990272467742844, 0.04409716773890381L 0.9990272467742844, 0.04409716773890381 L 0.9992317292642736, 0.03919121370319426 L 0.9994121200793332, 0.034284314759558975 ",
          "type": "path"
         },
         {
          "fillcolor": "#f2e6ce",
          "layer": "below",
          "line": {
           "color": "rgb(175,175,175)",
           "width": 0.5
          },
          "path": "M 0.9999662937925632,0.008210437184774204 Q -0.03500660691309577, 0.19691251222924355 -0.9415250579531523, -0.33694297031740134L -0.9415250579531523, -0.33694297031740134 L -0.9421479083158637, -0.33519743265132984 L -0.9427675225471855, -0.3334507436342614 M -0.9427675225471855,-0.3334507436342614 Q -0.035053775608857106, 0.1969041208699399 0.9999231669867632, 0.012395972053927878L 0.9999231669867632, 0.012395972053927878 L 0.9999469203460709, 0.010303227184167166 L 0.9999662937925632, 0.008210437184774204 ",
          "type": "path"
         },
         {
          "fillcolor": "#f2e6ce",
          "layer": "below",
          "line": {
           "color": "rgb(175,175,175)",
           "width": 0.5
          },
          "path": "M 0.991150038682452,0.13274637780283824 Q -0.0741304272053136, 0.18575435327969492 -0.8102119054653392, -0.5861370729123218L -0.8102119054653392, -0.5861370729123218 L -0.8211829394667896, -0.5706650330348645 L -0.831858554872475, -0.5549876977784982 M -0.831858554872475,-0.5549876977784982 Q -0.07407611536657009, 0.1857760187220046 0.9855018800834024, 0.16966450528050664L 0.9855018800834024, 0.16966450528050664 L 0.9884983252511346, 0.1512318120492581 L 0.991150038682452, 0.13274637780283824 ",
          "type": "path"
         },
         {
          "fillcolor": "#f2e6ce",
          "layer": "below",
          "line": {
           "color": "rgb(175,175,175)",
           "width": 0.5
          },
          "path": "M 0.9780450943499782,0.20839336222140614 Q -0.12560174328910798, 0.15564126086207675 -0.41026515686389553, -0.9119662828544941L -0.41026515686389553, -0.9119662828544941 L -0.4305990121149675, -0.9025433456436395 L -0.450716595819291, -0.8926670993450301 M -0.450716595819291,-0.8926670993450301 Q -0.1254586090571694, 0.15575666089589985 0.9681867471398966, 0.25022874068073386L 0.9681867471398966, 0.25022874068073386 L 0.9733407136917556, 0.22936402305074766 L 0.9780450943499782, 0.20839336222140614 ",
          "type": "path"
         },
         {
          "fillcolor": "#f2e6ce",
          "layer": "below",
          "line": {
           "color": "rgb(175,175,175)",
           "width": 0.5
          },
          "path": "M 0.9999231669867632,0.012395972053927878 Q -0.13386696859584585, 0.14859217583358428 -0.11630252277069682, -0.9932138355848511L -0.11630252277069682, -0.9932138355848511 L -0.11846824101857763, -0.9929578419399104 L -0.12063339584710843, -0.9926971259182706 M -0.12063339584710843,-0.9926971259182706 Q -0.13399738520656782, 0.14847457950033968 0.9998286219281519, 0.01851288127906426L 0.9998286219281519, 0.01851288127906426 L 0.9998805720993472, 0.015454498965742362 L 0.9999231669867632, 0.012395972053927878 ",
          "type": "path"
         },
         {
          "fillcolor": "#f2e6ce",
          "layer": "below",
          "line": {
           "color": "rgb(175,175,175)",
           "width": 0.5
          },
          "path": "M 0.9855018800834024,0.16966450528050664 Q -0.1673524983522648, 0.1095132014656462 0.23906403422845468, -0.9710038040803014L 0.23906403422845468, -0.9710038040803014 L 0.2188318285584998, -0.9757625893677946 L 0.19850509012439377, -0.9800998567466003 M 0.19850509012439377,-0.9800998567466003 Q -0.16723595510893025, 0.10969109042581296 0.9780450943499782, 0.20839336222140614L 0.9780450943499782, 0.20839336222140614 L 0.9819644399323266, 0.18906569944966756 L 0.9855018800834024, 0.16966450528050664 ",
          "type": "path"
         },
         {
          "fillcolor": "#f2e6ce",
          "layer": "below",
          "line": {
           "color": "rgb(175,175,175)",
           "width": 0.5
          },
          "path": "M 0.9983947559158315,0.05663842652976288 Q -0.1845258158613103, 0.0771376904030566 0.6610518983835548, -0.7503401812801299L 0.6610518983835548, -0.7503401812801299 L 0.6535390653122888, -0.7568927864042172 L 0.6459612839896733, -0.7633701720570516 M 0.6459612839896733,-0.7633701720570516 Q -0.18450193203544746, 0.07719479953460034 0.9971143278267844, 0.07591453907216902L 0.9971143278267844, 0.07591453907216902 L 0.9978010913771895, 0.06627957488162957 L 0.9983947559158315, 0.05663842652976288 ",
          "type": "path"
         },
         {
          "fillcolor": "#f2e6ce",
          "layer": "below",
          "line": {
           "color": "rgb(175,175,175)",
           "width": 0.5
          },
          "path": "M 0.9998286219281519,0.01851288127906426 Q -0.19571597385008768, 0.04117350580059698 0.9076211400367983, -0.4197902644872824L 0.9076211400367983, -0.4197902644872824 L 0.9062949604589984, -0.42264576733551057 L 0.9049597970975559, -0.4254970806446859 M 0.9049597970975559,-0.4254970806446859 Q -0.1957321547092148, 0.04109651582419136 0.9996724010421019, 0.02559473763724L 0.9996724010421019, 0.02559473763724 L 0.9997567821161015, 0.022053947783963534 L 0.9998286219281519, 0.01851288127906426 ",
          "type": "path"
         },
         {
          "fillcolor": "#f2e6ce",
          "layer": "below",
          "line": {
           "color": "rgb(175,175,175)",
           "width": 0.5
          },
          "path": "M 0.9999822591615662,0.005956623383264446 Q -0.197901374705714, 0.028897160580039445 0.9565274721450211, -0.29164223807921896L 0.9565274721450211, -0.29164223807921896 L 0.9562296487170137, -0.29261725669299926 L 0.9559308314220708, -0.29359197117208174 M 0.9559308314220708,-0.29359197117208174 Q -0.1979044784261556, 0.02887589684964467 0.9999662937925632, 0.008210437184774204L 0.9999662937925632, 0.008210437184774204 L 0.9999749114527785, 0.007083534782004727 L 0.9999822591615662, 0.005956623383264446 ",
          "type": "path"
         },
         {
          "fillcolor": "#f2e6ce",
          "layer": "below",
          "line": {
           "color": "rgb(175,175,175)",
           "width": 0.5
          },
          "path": "M 0.9999996760246542,0.0008049537791092671 Q -0.19961467489633483, 0.012408930897968656 0.9922009065024489, -0.12464895160296648L 0.9922009065024489, -0.12464895160296648 L 0.9921254333499132, -0.1252482514857867 L 0.9920495982139185, -0.12584750567096245 M 0.9920495982139185,-0.12584750567096245 Q -0.1996161677932509, 0.012384892229515306 0.9999974600342275, 0.002253868916653573L 0.9999974600342275, 0.002253868916653573 L 0.9999988304491667, 0.0015294117492297013 L 0.9999996760246542, 0.0008049537791092671 ",
          "type": "path"
         },
         {
          "fillcolor": "#ecd5bb",
          "layer": "below",
          "line": {
           "color": "rgb(175,175,175)",
           "width": 0.5
          },
          "path": "M 0.575776353375745,0.8176072351033405 Q 0.0417154043468217, 0.19560118874940707 -0.1921120820406439, 0.9813729912393192L -0.1921120820406439, 0.9813729912393192 L -0.13197503404582944, 0.9912530405444425 L -0.07134782022767783, 0.9974514968402017 M -0.07134782022767783,0.9974514968402017 Q 0.04142552175417219, 0.19566278682313254 0.4694647293075217, 0.8829512262499075L 0.4694647293075217, 0.8829512262499075 L 0.523640802007409, 0.8519391471654754 L 0.575776353375745, 0.8176072351033405 ",
          "type": "path"
         },
         {
          "fillcolor": "#ecd5bb",
          "layer": "below",
          "line": {
           "color": "rgb(175,175,175)",
           "width": 0.5
          },
          "path": "M 0.8327398077706343,0.5536645306989848 Q 0.04433715326415337, 0.19502363149226554 -0.5115193938068227, 0.8592717322008799L -0.5115193938068227, 0.8592717322008799 L -0.4906214167932797, 0.871372839480182 L -0.4694373278950118, 0.8829657950219766 M -0.4694373278950118,0.8829657950219766 Q 0.04410599193625395, 0.19507604023897734 0.8036294696106031, 0.5951299652793336L 0.8036294696106031, 0.5951299652793336 L 0.8184472790323959, 0.5745816316629583 L 0.8327398077706343, 0.5536645306989848 ",
          "type": "path"
         },
         {
          "fillcolor": "#ecd5bb",
          "layer": "below",
          "line": {
           "color": "rgb(175,175,175)",
           "width": 0.5
          },
          "path": "M 0.9295051597061035,0.36880910791320093 Q 0.05040329567580431, 0.19354458862240878 -0.6315432283526651, 0.7753406675274382L -0.6315432283526651, 0.7753406675274382 L -0.6273383135932475, 0.7787468396712632 L -0.6231150282872474, 0.7821302075246697 M -0.6231150282872474,0.7821302075246697 Q 0.05010424139763066, 0.19362222236604962 0.9242843160375321, 0.3817047329114894L 0.9242843160375321, 0.3817047329114894 L 0.9269171642495838, 0.3752659998181424 L 0.9295051597061035, 0.36880910791320093 ",
          "type": "path"
         },
         {
          "fillcolor": "#ecd5bb",
          "layer": "below",
          "line": {
           "color": "rgb(175,175,175)",
           "width": 0.5
          },
          "path": "M 0.8890829584478412,0.45774610101849494 Q 0.019860404590795012, 0.19901146783411738 -0.7810877675655086, 0.6244212515277888L -0.7810877675655086, 0.6244212515277888 L -0.7738723646792932, 0.6333415849173959 L -0.766555093579053, 0.6421785487759687 M -0.766555093579053,0.6421785487759687 Q 0.01947747994951063, 0.19904930990791306 0.876500243552961, 0.48140141571416273L 0.876500243552961, 0.48140141571416273 L 0.882870831025235, 0.46961590233382305 L 0.8890829584478412, 0.45774610101849494 ",
          "type": "path"
         },
         {
          "fillcolor": "#ecd5bb",
          "layer": "below",
          "line": {
           "color": "rgb(175,175,175)",
           "width": 0.5
          },
          "path": "M 0.876500243552961,0.48140141571416273 Q -0.007500544077789391, 0.19985930510871175 -0.910117053456019, 0.4143512386955465L -0.910117053456019, 0.4143512386955465 L -0.9034207550613933, 0.42875510413790063 L -0.8964965129933813, 0.4430507896288055 M -0.8964965129933813,0.4430507896288055 Q -0.007775804371136784, 0.19984878500101474 0.8593615482646089, 0.511368486870529L 0.8593615482646089, 0.511368486870529 L 0.8680602204982375, 0.49645891430062095 L 0.876500243552961, 0.48140141571416273 ",
          "type": "path"
         },
         {
          "fillcolor": "#ecd5bb",
          "layer": "below",
          "line": {
           "color": "rgb(175,175,175)",
           "width": 0.5
          },
          "path": "M 0.9385198235297587,0.34522534791302717 Q -0.0027753273552140415, 0.19998074296809532 -0.9477385898045737, 0.3190479045460697L -0.9477385898045737, 0.3190479045460697 L -0.9464263887273734, 0.32291963508040633 L -0.945098370812421, 0.32678596892722844 M -0.945098370812421,0.32678596892722844 Q -0.0031771619902877454, 0.19997476251189167 0.9342401532818672, 0.35664455133349976L 0.9342401532818672, 0.35664455133349976 L 0.9363973954676293, 0.35094147341321763 L 0.9385198235297587, 0.34522534791302717 ",
          "type": "path"
         },
         {
          "fillcolor": "#ecd5bb",
          "layer": "below",
          "line": {
           "color": "rgb(175,175,175)",
           "width": 0.5
          },
          "path": "M 0.9424878214540486,0.33424049187793103 Q -0.014020361457870417, 0.1995079684237967 -0.979970992527576, 0.19914028674408782L -0.979970992527576, 0.19914028674408782 L -0.9790950816162819, 0.2034031001602636 L -0.9782006278208716, 0.20766206136618368 M -0.9782006278208716,0.20766206136618368 Q -0.014317200855879127, 0.19948688618466232 0.9385198235297587, 0.34522534791302717L 0.9385198235297587, 0.34522534791302717 L 0.9405198599112143, 0.3397387130024923 L 0.9424878214540486, 0.33424049187793103 ",
          "type": "path"
         },
         {
          "fillcolor": "#ecd5bb",
          "layer": "below",
          "line": {
           "color": "rgb(175,175,175)",
           "width": 0.5
          },
          "path": "M 0.8990813553554693,0.43778158532785777 Q -0.0402370435821148, 0.195910643722517 -0.99884849434461, 0.0479758829570203L -0.99884849434461, 0.0479758829570203 L -0.9983154097203187, 0.05802019230364628 L -0.997681323200483, 0.0680586316122603 M -0.997681323200483,0.0680586316122603 Q -0.04045366839227107, 0.19586602746165088 0.8890829584478412, 0.45774610101849494L 0.8890829584478412, 0.45774610101849494 L 0.8941378801737495, 0.4477917498552128 L 0.8990813553554693, 0.43778158532785777 ",
          "type": "path"
         },
         {
          "fillcolor": "#ecd5bb",
          "layer": "below",
          "line": {
           "color": "rgb(175,175,175)",
           "width": 0.5
          },
          "path": "M 0.9084880089412917,0.4179109206635877 Q -0.0633181780098405, 0.1897124358957898 -0.9773753160122877, -0.2115123912442977L -0.9773753160122877, -0.2115123912442977 L -0.9794229901166523, -0.2018182509857714 L -0.9813745149275899, -0.19210429836585555 M -0.9813745149275899,-0.19210429836585555 Q -0.0635238845308576, 0.18964365555986912 0.8990813553554693, 0.43778158532785777L 0.8990813553554693, 0.43778158532785777 L 0.9038392902029647, 0.4278721041215481 L 0.9084880089412917, 0.4179109206635877 ",
          "type": "path"
         },
         {
          "fillcolor": "#ecd5bb",
          "layer": "below",
          "line": {
           "color": "rgb(175,175,175)",
           "width": 0.5
          },
          "path": "M 0.9172504455190749,0.39831095917016734 Q -0.08156709713295082, 0.18261108582258573 -0.9087615153201776, -0.41731583755349466L -0.9087615153201776, -0.41731583755349466 L -0.9124437834270275, -0.4092020797666743 L -0.9160536106475343, -0.40105583454129634 M -0.9160536106475343,-0.40105583454129634 Q -0.08190016999127622, 0.18246194714350733 0.9084880089412917, 0.4179109206635877L 0.9084880089412917, 0.4179109206635877 L 0.9129218288804731, 0.4081344562194328 L 0.9172504455190749, 0.39831095917016734 ",
          "type": "path"
         },
         {
          "fillcolor": "#ecd5bb",
          "layer": "below",
          "line": {
           "color": "rgb(175,175,175)",
           "width": 0.5
          },
          "path": "M 0.7697222989265354,0.6383788706835849 Q -0.13872626908244726, 0.14406603439556612 -0.6669816905054827, -0.7450741067373422L -0.6669816905054827, -0.7450741067373422 L -0.6964624567723517, -0.7175932317870759 L -0.7248119492730508, -0.6889467600555216 M -0.7248119492730508,-0.6889467600555216 Q -0.1390188870608505, 0.14378368836680502 0.7129727931520907, 0.7011916972019179L 0.7129727931520907, 0.7011916972019179 L 0.7420124977467137, 0.6703860478766567 L 0.7697222989265354, 0.6383788706835849 ",
          "type": "path"
         },
         {
          "fillcolor": "#ecd5bb",
          "layer": "below",
          "line": {
           "color": "rgb(175,175,175)",
           "width": 0.5
          },
          "path": "M 0.6508533926744626,0.7592034386408836 Q -0.1809800685410592, 0.08512470141429881 -0.16976741841841894, -0.9854841569723714L -0.16976741841841894, -0.9854841569723714 L -0.215394275629808, -0.9765271660460401 L -0.2605554422785165, -0.965458886488206 M -0.2605554422785165,-0.965458886488206 Q -0.18107150567553382, 0.08493002903799768 0.575776353375745, 0.8176072351033405L 0.575776353375745, 0.8176072351033405 L 0.6140096777202345, 0.7892984959227363 L 0.6508533926744626, 0.7592034386408836 ",
          "type": "path"
         },
         {
          "fillcolor": "#ecd5bb",
          "layer": "below",
          "line": {
           "color": "rgb(175,175,175)",
           "width": 0.5
          },
          "path": "M 0.9456590715592915,0.32515983819902905 Q -0.15683570110935746, 0.12410706207761223 -0.09907194491236879, -0.9950802730088063L -0.09907194491236879, -0.9950802730088063 L -0.10226942101631538, -0.9947567368583073 L -0.10546584082757429, -0.994422926333928 M -0.10546584082757429,-0.994422926333928 Q -0.15703350836513486, 0.12385668028224045 0.9424878214540486, 0.33424049187793103L 0.9424878214540486, 0.33424049187793103 L 0.9440843643270401, 0.3297039778850241 L 0.9456590715592915, 0.32515983819902905 ",
          "type": "path"
         },
         {
          "fillcolor": "#ecd5bb",
          "layer": "below",
          "line": {
           "color": "rgb(175,175,175)",
           "width": 0.5
          },
          "path": "M 0.4694647293075217,0.8829512262499075 Q -0.19968982063077062, -0.011134430225685523 0.5647137393060242, -0.8252868547596088L 0.5647137393060242, -0.8252868547596088 L 0.5092721453723151, -0.860605532138784 L 0.45162989518100427, -0.8922053786986465 M 0.45162989518100427,-0.8922053786986465 Q -0.19968074569276195, -0.011296008125994662 0.34812578687646495, 0.9374478313547064L 0.34812578687646495, 0.9374478313547064 L 0.4097023712775976, 0.9122192537814106 L 0.4694647293075217, 0.8829512262499075 ",
          "type": "path"
         },
         {
          "fillcolor": "#ecd5bb",
          "layer": "below",
          "line": {
           "color": "rgb(175,175,175)",
           "width": 0.5
          },
          "path": "M 0.7129727931520907,0.7011916972019179 Q -0.19799566708292837, -0.028243863340311495 0.8805942073957624, -0.4738711237256697L 0.8805942073957624, -0.4738711237256697 L 0.8603687500084947, -0.5096720651642784 L 0.8386886013277681, -0.5446112650348613 M 0.8386886013277681,-0.5446112650348613 Q -0.19795626116435955, -0.028518742360557927 0.6508533926744626, 0.7592034386408836L 0.6508533926744626, 0.7592034386408836 L 0.6825297113113439, 0.730857847448636 L 0.7129727931520907, 0.7011916972019179 ",
          "type": "path"
         },
         {
          "fillcolor": "#ecd5bb",
          "layer": "below",
          "line": {
           "color": "rgb(175,175,175)",
           "width": 0.5
          },
          "path": "M 0.8036294696106031,0.5951299652793336 Q -0.19768595533553904, -0.03033583793263775 0.9451007444376347, -0.3267791040801548L 0.9451007444376347, -0.3267791040801548 L 0.9373711500296326, -0.34833220794540976 L 0.9291501079417763, -0.3697026871849669 M 0.9291501079417763,-0.3697026871849669 Q -0.1975448273717441, -0.0312416577451939 0.7697222989265354, 0.6383788706835849L 0.7697222989265354, 0.6383788706835849 L 0.7869730388294137, 0.6169873873553642 L 0.8036294696106031, 0.5951299652793336 ",
          "type": "path"
         },
         {
          "fillcolor": "#ecd5bb",
          "layer": "below",
          "line": {
           "color": "rgb(175,175,175)",
           "width": 0.5
          },
          "path": "M 0.9242843160375321,0.3817047329114894 Q -0.19927072021140269, -0.01706399913352325 0.975724245041641, -0.21900273431608033L 0.975724245041641, -0.21900273431608033 L 0.9740212056301234, -0.2264568192456143 L 0.9722612213103315, -0.23389766466585887 M 0.9722612213103315,-0.23389766466585887 Q -0.19924713506439895, -0.017337219172323014 0.9172504455190749, 0.39831095917016734L 0.9172504455190749, 0.39831095917016734 L 0.9208048170991374, 0.3900237028784585 L 0.9242843160375321, 0.3817047329114894 ",
          "type": "path"
         },
         {
          "fillcolor": "#ecd5bb",
          "layer": "below",
          "line": {
           "color": "rgb(175,175,175)",
           "width": 0.5
          },
          "path": "M 0.9342401532818672,0.35664455133349976 Q -0.1979258038865895, -0.028729360519289582 0.997084246600753, -0.07630861799697859L 0.997084246600753, -0.07630861799697859 L 0.9966820480333802, -0.08139345875429241 L 0.9962539184211741, -0.08647618186793814 M 0.9962539184211741,-0.08647618186793814 Q -0.19788463108793258, -0.02901159732232656 0.9295051597061035, 0.36880910791320093L 0.9295051597061035, 0.36880910791320093 L 0.9318925056198019, 0.3627345557975524 L 0.9342401532818672, 0.35664455133349976 ",
          "type": "path"
         },
         {
          "fillcolor": "#e6c4a9",
          "layer": "below",
          "line": {
           "color": "rgb(175,175,175)",
           "width": 0.5
          },
          "path": "M 0.04327300565408375,0.9990632847731227 Q -0.05385099814375022, 0.19261378455064376 -0.5551349976646021, 0.8317602625564186L -0.5551349976646021, 0.8317602625564186 L -0.5335045622596104, 0.8457971873021224 L -0.5115193938068227, 0.8592717322008799 M -0.5115193938068227,0.8592717322008799 Q -0.05397107344414046, 0.19258017351557039 -0.009533405767084079, 0.999954556054664L -0.009533405767084079, 0.999954556054664 L 0.016875684912264623, 0.9998575954898488 L 0.04327300565408375, 0.9990632847731227 ",
          "type": "path"
         },
         {
          "fillcolor": "#e6c4a9",
          "layer": "below",
          "line": {
           "color": "rgb(175,175,175)",
           "width": 0.5
          },
          "path": "M 0.2944070995117226,0.9556801032547945 Q -0.037171019457076064, 0.19651543275916442 -0.6231150282872474, 0.7821302075246697L -0.6231150282872474, 0.7821302075246697 L -0.6196603360176169, 0.7848700962366537 L -0.61619359638062, 0.7875947255914794 M -0.61619359638062,0.7875947255914794 Q -0.03739192487646579, 0.19647351972729746 0.2838127144169203, 0.9588797334052377L 0.2838127144169203, 0.9588797334052377 L 0.28911433328908737, 0.9572945744580434 L 0.2944070995117226, 0.9556801032547945 ",
          "type": "path"
         },
         {
          "fillcolor": "#e6c4a9",
          "layer": "below",
          "line": {
           "color": "rgb(175,175,175)",
           "width": 0.5
          },
          "path": "M 0.23409674179569814,0.9722133076031403 Q -0.05929649061298356, 0.19100766005839753 -0.743510146365985, 0.6687246535389821L -0.743510146365985, 0.6687246535389821 L -0.7389683794308995, 0.6737401087966117 L -0.7343927807215518, 0.6787247185892575 M -0.7343927807215518,0.6787247185892575 Q -0.059477371618876375, 0.19095141336295493 0.2190713266515773, 0.9757088468591016L 0.2190713266515773, 0.9757088468591016 L 0.22659077488664708, 0.973990051661858 L 0.23409674179569814, 0.9722133076031403 ",
          "type": "path"
         },
         {
          "fillcolor": "#e6c4a9",
          "layer": "below",
          "line": {
           "color": "rgb(175,175,175)",
           "width": 0.5
          },
          "path": "M 0.18145245219852435,0.9833997191331418 Q -0.08694465447004567, 0.18011281758687905 -0.8828635562038943, 0.4696295786330042L -0.8828635562038943, 0.4696295786330042 L -0.8761702116512423, 0.48200182594572943 L -0.869303496350614, 0.49427869793528234 M -0.869303496350614,0.49427869793528234 Q -0.08709896187548481, 0.18003824827022963 0.15202393488577606, 0.9883768123655297L 0.15202393488577606, 0.9883768123655297 L 0.16675676313109625, 0.9859980638672875 L 0.18145245219852435, 0.9833997191331418 ",
          "type": "path"
         },
         {
          "fillcolor": "#e6c4a9",
          "layer": "below",
          "line": {
           "color": "rgb(175,175,175)",
           "width": 0.5
          },
          "path": "M 0.2723769502134327,0.9621906240410105 Q -0.09403348836607467, 0.17651544710225026 -0.950494530892188, 0.3107412858698363L -0.950494530892188, 0.3107412858698363 L -0.9491256476916002, 0.3148976101751176 L -0.9477385898045737, 0.3190479045460697 M -0.9477385898045737,0.3190479045460697 Q -0.0943856255131593, 0.17632740483682524 0.2600931125537418, 0.9655835400430698L 0.2600931125537418, 0.9655835400430698 L 0.2662404362706178, 0.9639066500934782 L 0.2723769502134327, 0.9621906240410105 ",
          "type": "path"
         },
         {
          "fillcolor": "#e6c4a9",
          "layer": "below",
          "line": {
           "color": "rgb(175,175,175)",
           "width": 0.5
          },
          "path": "M 0.3142131635029938,0.9493524571419409 Q -0.09635666563536985, 0.17525807538494065 -0.9699450935050956, 0.2433238902890371L -0.9699450935050956, 0.2433238902890371 L -0.9693347537434369, 0.24574404404817327 L -0.9687183753569582, 0.24816266690575245 M -0.9687183753569582,0.24816266690575245 Q -0.09649226634686807, 0.1751834539425601 0.30799807692280273, 0.9513869794210216L 0.30799807692280273, 0.9513869794210216 L 0.31110728334174065, 0.9503747988302941 L 0.3142131635029938, 0.9493524571419409 ",
          "type": "path"
         },
         {
          "fillcolor": "#e6c4a9",
          "layer": "below",
          "line": {
           "color": "rgb(175,175,175)",
           "width": 0.5
          },
          "path": "M 0.2600931125537418,0.9655835400430698 Q -0.11277117502305029, 0.16517464116480038 -0.994001766939054, 0.10936401292033256L -0.994001766939054, 0.10936401292033256 L -0.9933325699325414, 0.1152840210576161 L -0.9926281152609525, 0.12119993726685294 M -0.9926281152609525,0.12119993726685294 Q -0.112853429030895, 0.16511845310554707 0.24760457674694888, 0.9688611735300183L 0.24760457674694888, 0.9688611735300183 L 0.25385413459432543, 0.9672425126871576 L 0.2600931125537418, 0.9655835400430698 ",
          "type": "path"
         },
         {
          "fillcolor": "#e6c4a9",
          "layer": "below",
          "line": {
           "color": "rgb(175,175,175)",
           "width": 0.5
          },
          "path": "M 0.2838127144169203,0.9588797334052377 Q -0.13111518596901642, 0.15102585211913305 -0.9892351764356977, -0.14633443102098004L -0.9892351764356977, -0.14633443102098004 L -0.9900244705771153, -0.14089552036350436 L -0.9907838612923675, -0.13545235399426095 M -0.9907838612923675,-0.13545235399426095 Q -0.13118416814220066, 0.1509659366507519 0.2723769502134327, 0.9621906240410105L 0.2723769502134327, 0.9621906240410105 L 0.27809975954611443, 0.9605521973013197 L 0.2838127144169203, 0.9588797334052377 ",
          "type": "path"
         },
         {
          "fillcolor": "#e6c4a9",
          "layer": "below",
          "line": {
           "color": "rgb(175,175,175)",
           "width": 0.5
          },
          "path": "M 0.24760457674694888,0.9688611735300183 Q -0.15070952579635064, 0.13147866303792086 -0.9263113880738122, -0.37675882514516806L -0.9263113880738122, -0.37675882514516806 L -0.9285242229076713, -0.3712718242389329 L -0.930704555849601, -0.36577182740172454 M -0.930704555849601,-0.36577182740172454 Q -0.15084650039344447, 0.13132148841317084 0.23409674179569814, 0.9722133076031403L 0.23409674179569814, 0.9722133076031403 L 0.24085649103178053, 0.9705607403598489 L 0.24760457674694888, 0.9688611735300183 ",
          "type": "path"
         },
         {
          "fillcolor": "#e6c4a9",
          "layer": "below",
          "line": {
           "color": "rgb(175,175,175)",
           "width": 0.5
          },
          "path": "M 0.2190713266515773,0.9757088468591016 Q -0.16487995932908706, 0.1132015857293466 -0.831858554872475, -0.5549876977784982L -0.831858554872475, -0.5549876977784982 L -0.8369949123698842, -0.5472106693650352 L -0.8420585648572458, -0.5393861078583276 M -0.8420585648572458,-0.5393861078583276 Q -0.16490687175103463, 0.1131623773578826 0.2003809477481296, 0.979718059331133L 0.2003809477481296, 0.979718059331133 L 0.2097357172036591, 0.9777581137117026 L 0.2190713266515773, 0.9757088468591016 ",
          "type": "path"
         },
         {
          "fillcolor": "#e6c4a9",
          "layer": "below",
          "line": {
           "color": "rgb(175,175,175)",
           "width": 0.5
          },
          "path": "M 0.08360038127373692,0.9964993608883479 Q -0.19245062300374527, 0.05443121995206715 -0.450716595819291, -0.8926670993450301L -0.450716595819291, -0.8926670993450301 L -0.46868106029125506, -0.883367456794886 L -0.48645373797278146, -0.8737063355683696 M -0.48645373797278146,-0.8737063355683696 Q -0.1924493495019548, 0.054435722428148786 0.04327300565408375, 0.9990632847731227L 0.04327300565408375, 0.9990632847731227 L 0.06344964542104119, 0.9979850412185266 L 0.08360038127373692, 0.9964993608883479 ",
          "type": "path"
         },
         {
          "fillcolor": "#e6c4a9",
          "layer": "below",
          "line": {
           "color": "rgb(175,175,175)",
           "width": 0.5
          },
          "path": "M 0.3012901835492978,0.9535324982908713 Q -0.19565449159637105, 0.04146468278144145 -0.11139913403309872, -0.9937757457981532L -0.11139913403309872, -0.9937757457981532 L -0.11385117506451228, -0.9934978157683235 L -0.11630252277069682, -0.9932138355848511 M -0.11630252277069682,-0.9932138355848511 Q -0.1957015284841181, 0.04124211135453562 0.2944070995117226, 0.9556801032547945L 0.2944070995117226, 0.9556801032547945 L 0.29785057715797797, 0.9546125044679958 L 0.3012901835492978, 0.9535324982908713 ",
          "type": "path"
         },
         {
          "fillcolor": "#e6c4a9",
          "layer": "below",
          "line": {
           "color": "rgb(175,175,175)",
           "width": 0.5
          },
          "path": "M -0.009533405767084079,0.999954556054664 Q -0.1975472840138055, -0.031226120136335744 0.2993491262118655, -0.9541436477995295L 0.2993491262118655, -0.9541436477995295 L 0.2693385398551175, -0.9630455601625051 L 0.23906403422845468, -0.9710038040803014 M 0.23906403422845468,-0.9710038040803014 Q -0.19755872545045394, -0.031153651445571695 -0.07134782022767783, 0.9974514968402017L -0.07134782022767783, 0.9974514968402017 L -0.04045997412210879, 0.9991811599975443 L -0.009533405767084079, 0.999954556054664 ",
          "type": "path"
         },
         {
          "fillcolor": "#e6c4a9",
          "layer": "below",
          "line": {
           "color": "rgb(175,175,175)",
           "width": 0.5
          },
          "path": "M 0.121794282986547,0.9925553650209105 Q -0.18483381760763304, -0.07639672681855061 0.787030671910215, -0.6169138687633433L 0.787030671910215, -0.6169138687633433 L 0.7751527369488892, -0.6317738791693166 L 0.7629942701438963, -0.6464052472927359 M 0.7629942701438963,-0.6464052472927359 Q -0.18482040080552753, -0.0764291792843817 0.08360038127373692, 0.9964993608883479L 0.08360038127373692, 0.9964993608883479 L 0.10271626357349298, 0.994710696231573 L 0.121794282986547, 0.9925553650209105 ",
          "type": "path"
         },
         {
          "fillcolor": "#e6c4a9",
          "layer": "below",
          "line": {
           "color": "rgb(175,175,175)",
           "width": 0.5
          },
          "path": "M 0.2003809477481296,0.979718059331133 Q -0.17597661085769387, -0.09503805780338627 0.9291501079417763, -0.3697026871849669L 0.9291501079417763, -0.3697026871849669 L 0.9260764487159866, -0.3773359393611834 L 0.9229400812237994, -0.38494364064185616 M 0.9229400812237994,-0.38494364064185616 Q -0.17584215700790606, -0.09528659831690352 0.18145245219852435, 0.9833997191331418L 0.18145245219852435, 0.9833997191331418 L 0.19092557446143704, 0.9816045155848512 L 0.2003809477481296, 0.979718059331133 ",
          "type": "path"
         },
         {
          "fillcolor": "#e6c4a9",
          "layer": "below",
          "line": {
           "color": "rgb(175,175,175)",
           "width": 0.5
          },
          "path": "M 0.31850805983651265,0.9479201526601175 Q -0.17745188351216157, -0.09225415458387906 0.9588742434309966, -0.28383126199316727L 0.9588742434309966, -0.28383126199316727 L 0.9583143328333881, -0.28571601195260016 L 0.9577507176012061, -0.2875996573961358 M 0.9577507176012061,-0.2875996573961358 Q -0.177424424713563, -0.09230695269079796 0.3142131635029938, 0.9493524571419409L 0.3142131635029938, 0.9493524571419409 L 0.3163614222532396, 0.948638735509945 L 0.31850805983651265, 0.9479201526601175 ",
          "type": "path"
         },
         {
          "fillcolor": "#e6c4a9",
          "layer": "below",
          "line": {
           "color": "rgb(175,175,175)",
           "width": 0.5
          },
          "path": "M 0.30799807692280273,0.9513869794210216 Q -0.16746979764244574, -0.1093337408012654 0.9949091867300328, -0.10077554346261186L 0.9949091867300328, -0.10077554346261186 L 0.9946211659974157, -0.10357961261725868 L 0.9943252422439548, -0.10638285875318693 M 0.9943252422439548,-0.10638285875318693 Q -0.16739294775023428, -0.10945136382652959 0.3012901835492978, 0.9535324982908713L 0.3012901835492978, 0.9535324982908713 L 0.30464601901236915, 0.9524656440522751 L 0.30799807692280273, 0.9513869794210216 ",
          "type": "path"
         },
         {
          "fillcolor": "#e1b396",
          "layer": "below",
          "line": {
           "color": "rgb(175,175,175)",
           "width": 0.5
          },
          "path": "M -0.29915659216053136,0.9542040313092884 Q -0.09604137316390222, 0.17543105380972915 -0.6426655881089328, 0.766146814821154L -0.6426655881089328, 0.766146814821154 L -0.6371209922134198, 0.7707638038212404 L -0.6315432283526651, 0.7753406675274382 M -0.6315432283526651,0.7753406675274382 Q -0.0963264789115511, 0.17527466862185906 -0.3159814000857818, 0.9487653844865068L -0.3159814000857818, 0.9487653844865068 L -0.30758101712560565, 0.9515218956513707 L -0.29915659216053136, 0.9542040313092884 ",
          "type": "path"
         },
         {
          "fillcolor": "#e1b396",
          "layer": "below",
          "line": {
           "color": "rgb(175,175,175)",
           "width": 0.5
          },
          "path": "M -0.3159814000857818,0.9487653844865068 Q -0.11097426431914009, 0.1663872370671069 -0.754522154627895, 0.6562745752927497L -0.754522154627895, 0.6562745752927497 L -0.7490420180586261, 0.6625224940956049 L -0.743510146365985, 0.6687246535389821 M -0.743510146365985,0.6687246535389821 Q -0.1111305630190337, 0.16628288535827307 -0.33347928877387456, 0.9427574258306698L -0.33347928877387456, 0.9427574258306698 L -0.3247442385713984, 0.9458018711731769 L -0.3159814000857818, 0.9487653844865068 ",
          "type": "path"
         },
         {
          "fillcolor": "#e1b396",
          "layer": "below",
          "line": {
           "color": "rgb(175,175,175)",
           "width": 0.5
          },
          "path": "M -0.4371886150155742,0.8993698432240009 Q -0.1456114184462816, 0.13710329980734196 -0.9240322652071654, 0.3823144946979055L -0.9240322652071654, 0.3823144946979055 L -0.9172145436208742, 0.3983936256648084 L -0.910117053456019, 0.4143512386955465 M -0.910117053456019,0.4143512386955465 Q -0.14569728527003661, 0.13701204715258283 -0.4694373278950118, 0.8829657950219766L -0.4694373278950118, 0.8829657950219766 L -0.4533871670978139, 0.8913136803118299 L -0.4371886150155742, 0.8993698432240009 ",
          "type": "path"
         },
         {
          "fillcolor": "#e1b396",
          "layer": "below",
          "line": {
           "color": "rgb(175,175,175)",
           "width": 0.5
          },
          "path": "M -0.22284295691874403,0.9748543565844647 Q -0.1320800434374408, 0.15018276241154893 -0.938401005184861, 0.34554819268524967L -0.938401005184861, 0.34554819268524967 L -0.9381221555531094, 0.3463045209932835 L -0.9378426963393128, 0.3470606242762315 M -0.9378426963393128,0.3470606242762315 Q -0.13213109419036825, 0.15013784981827882 -0.22507687287984693, 0.9743410087308392L -0.22507687287984693, 0.9743410087308392 L -0.22396006198249818, 0.9745983227139249 L -0.22284295691874403, 0.9748543565844647 ",
          "type": "path"
         },
         {
          "fillcolor": "#e1b396",
          "layer": "below",
          "line": {
           "color": "rgb(175,175,175)",
           "width": 0.5
          },
          "path": "M -0.23781906816854267,0.9713094722154448 Q -0.14310090807023965, 0.1397216164717286 -0.9767145013934744, 0.21454319557538254L -0.9767145013934744, 0.21454319557538254 L -0.9759672300761365, 0.21791733712009634 L -0.9752083025424865, 0.22128887602453556 M -0.9752083025424865,0.22128887602453556 Q -0.14323562464706371, 0.1395835084527018 -0.24639711953386095, 0.9691689530135683L -0.24639711953386095, 0.9691689530135683 L -0.24211045942684054, 0.9702486925712006 L -0.23781906816854267, 0.9713094722154448 ",
          "type": "path"
         },
         {
          "fillcolor": "#e1b396",
          "layer": "below",
          "line": {
           "color": "rgb(175,175,175)",
           "width": 0.5
          },
          "path": "M -0.25511422158559965,0.9669109234799106 Q -0.1507344688968239, 0.13145006613308505 -0.9926281152609525, 0.12119993726685294L -0.9926281152609525, 0.12119993726685294 L -0.9920839402505555, 0.12557649261279855 L -0.9915204688472571, 0.12995060545036125 M -0.9915204688472571,0.12995060545036125 Q -0.1507680998441381, 0.13141149139016725 -0.2641264717833466, 0.964488054308233L -0.2641264717833466, 0.964488054308233 L -0.2596231730534117, 0.9657100020263217 L -0.25511422158559965, 0.9669109234799106 ",
          "type": "path"
         },
         {
          "fillcolor": "#e1b396",
          "layer": "below",
          "line": {
           "color": "rgb(175,175,175)",
           "width": 0.5
          },
          "path": "M -0.24639711953386095,0.9691689530135683 Q -0.16472242753408334, 0.11343069191042904 -0.9933091130827523, -0.11548595527922878L -0.9933091130827523, -0.11548595527922878 L -0.9937917771828171, -0.111256027269618 L -0.9942564285529073, -0.10702408271607594 M -0.9942564285529073,-0.10702408271607594 Q -0.1647502175707422, 0.11339032502992973 -0.25511422158559965, 0.9669109234799106L -0.25511422158559965, 0.9669109234799106 L -0.25075821221288797, 0.9680497502751583 L -0.24639711953386095, 0.9691689530135683 ",
          "type": "path"
         },
         {
          "fillcolor": "#e1b396",
          "layer": "below",
          "line": {
           "color": "rgb(175,175,175)",
           "width": 0.5
          },
          "path": "M -0.2869468689592106,0.9579464987119612 Q -0.17985842207770386, 0.08746969765420781 -0.930704555849601, -0.36577182740172454L -0.930704555849601, -0.36577182740172454 L -0.932723851304767, -0.3605914824385111 L -0.9347143129749709, -0.3553999903203827 M -0.9347143129749709,-0.3553999903203827 Q -0.1799305450447064, 0.08732124002735465 -0.29915659216053136, 0.9542040313092884L -0.29915659216053136, 0.9542040313092884 L -0.29305770472673176, 0.9560947556075704 L -0.2869468689592106, 0.9579464987119612 ",
          "type": "path"
         },
         {
          "fillcolor": "#e1b396",
          "layer": "below",
          "line": {
           "color": "rgb(175,175,175)",
           "width": 0.5
          },
          "path": "M -0.27484777211077127,0.9614877545583956 Q -0.18599486632121176, 0.07352489171807448 -0.857987046679024, -0.5136713226675267L -0.857987046679024, -0.5136713226675267 L -0.8612036784991617, -0.5082599965957508 L -0.8643861815322151, -0.5028285286021036 M -0.8643861815322151,-0.5028285286021036 Q -0.18599546966467487, 0.07352336543043315 -0.2869468689592106, 0.9579464987119612L -0.2869468689592106, 0.9579464987119612 L -0.28090290102983984, 0.9597361930202591 L -0.27484777211077127, 0.9614877545583956 ",
          "type": "path"
         },
         {
          "fillcolor": "#e1b396",
          "layer": "below",
          "line": {
           "color": "rgb(175,175,175)",
           "width": 0.5
          },
          "path": "M -0.35530522509630147,0.9347503394058044 Q -0.19919470964944647, 0.017929518891278688 -0.5165156888714496, -0.8562777254779268L -0.5165156888714496, -0.8562777254779268 L -0.5274696113697441, -0.8495738985405866 L -0.5383365384560477, -0.8427299516233895 M -0.5383365384560477,-0.8427299516233895 Q -0.19918900387185162, 0.017992796795925917 -0.3786066368520566, 0.9255576775823184L -0.3786066368520566, 0.9255576775823184 L -0.36698471566943597, 0.9302269714779416 L -0.35530522509630147, 0.9347503394058044 ",
          "type": "path"
         },
         {
          "fillcolor": "#e1b396",
          "layer": "below",
          "line": {
           "color": "rgb(175,175,175)",
           "width": 0.5
          },
          "path": "M -0.22762847100904587,0.9737480573465007 Q -0.19973673312880943, -0.010258530061893029 -0.1266699735357879, -0.9919449167188886L -0.1266699735357879, -0.9919449167188886 L -0.12809301982726698, -0.9917621581163154 L -0.12951580244420302, -0.9915773580095676 M -0.12951580244420302,-0.9915773580095676 Q -0.19973041937107, -0.01038073108487581 -0.23161220938170812, 0.9728081951059643L -0.23161220938170812, 0.9728081951059643 L -0.22962082106529128, 0.9732801644610362 L -0.22762847100904587, 0.9737480573465007 ",
          "type": "path"
         },
         {
          "fillcolor": "#e1b396",
          "layer": "below",
          "line": {
           "color": "rgb(175,175,175)",
           "width": 0.5
          },
          "path": "M -0.40466705237653866,0.9144640926361646 Q -0.19171264720061093, -0.05697596777005279 0.160450875568559, -0.9870438270559635L 0.160450875568559, -0.9870438270559635 L 0.1420859753477381, -0.9898543203974421 L 0.12367203153346322, -0.992323147274307 M 0.12367203153346322,-0.992323147274307 Q -0.191749707129339, -0.05685111974106341 -0.4371886150155742, 0.8993698432240009L -0.4371886150155742, 0.8993698432240009 L -0.42099548723398944, 0.9070627319698543 L -0.40466705237653866, 0.9144640926361646 ",
          "type": "path"
         },
         {
          "fillcolor": "#e1b396",
          "layer": "below",
          "line": {
           "color": "rgb(175,175,175)",
           "width": 0.5
          },
          "path": "M -0.33347928877387456,0.9427574258306698 Q -0.17124257291122086, -0.10332463995942696 0.6785692068351764, -0.7345364739310632L 0.6785692068351764, -0.7345364739310632 L 0.6698571606531929, -0.7424899893747002 L 0.6610518983835548, -0.7503401812801299 M 0.6610518983835548,-0.7503401812801299 Q -0.1712603600116447, -0.1032951552043069 -0.35530522509630147, 0.9347503394058044L -0.35530522509630147, 0.9347503394058044 L -0.3444155266463717, 0.9388173118370274 L -0.33347928877387456, 0.9427574258306698 ",
          "type": "path"
         },
         {
          "fillcolor": "#e1b396",
          "layer": "below",
          "line": {
           "color": "rgb(175,175,175)",
           "width": 0.5
          },
          "path": "M -0.23161220938170812,0.9728081951059643 Q -0.15519840907930896, -0.1261485387123112 0.9049597970975559, -0.4254970806446859L 0.9049597970975559, -0.4254970806446859 L 0.9037688570270317, -0.4280208558797721 L 0.9025708786037597, -0.43054129778272976 M 0.9025708786037597,-0.43054129778272976 Q -0.1551476893421676, -0.12621091272859988 -0.23781906816854267, 0.9713094722154448L -0.23781906816854267, 0.9713094722154448 L -0.23471683499099663, 0.9720637877072724 L -0.23161220938170812, 0.9728081951059643 ",
          "type": "path"
         },
         {
          "fillcolor": "#e1b396",
          "layer": "below",
          "line": {
           "color": "rgb(175,175,175)",
           "width": 0.5
          },
          "path": "M -0.2641264717833466,0.964488054308233 Q -0.1391970960519183, -0.14361117105125573 0.9722612213103315, -0.23389766466585887L 0.9722612213103315, -0.23389766466585887 L 0.9710910893035325, -0.23870922955612495 L 0.9698971457881864, -0.24351494120880862 M 0.9698971457881864,-0.24351494120880862 Q -0.13910877501637328, -0.14369672478328807 -0.27484777211077127, 0.9614877545583956L -0.27484777211077127, 0.9614877545583956 L -0.2694912973454918, 0.9630028248427124 L -0.2641264717833466, 0.964488054308233 ",
          "type": "path"
         },
         {
          "fillcolor": "#e1b396",
          "layer": "below",
          "line": {
           "color": "rgb(175,175,175)",
           "width": 0.5
          },
          "path": "M -0.22507687287984693,0.9743410087308392 Q -0.13346567346166777, -0.1489527240684892 0.9931098355366766, -0.11718726279043754L 0.9931098355366766, -0.11718726279043754 L 0.9929834228970865, -0.11825363356610123 L 0.9928558652217128, -0.11931986798033334 M 0.9928558652217128,-0.11931986798033334 Q -0.13343052327828958, -0.14898421210880644 -0.22762847100904587, 0.9737480573465007L -0.22762847100904587, 0.9737480573465007 L -0.22635286610561445, 0.9740453685561951 L -0.22507687287984693, 0.9743410087308392 ",
          "type": "path"
         },
         {
          "fillcolor": "#dba284",
          "layer": "below",
          "line": {
           "color": "rgb(175,175,175)",
           "width": 0.5
          },
          "path": "M -0.6426655881089328,0.766146814821154 Q -0.14146628788101429, 0.14137641031362339 -0.766555093579053, 0.6421785487759687L -0.766555093579053, 0.6421785487759687 L -0.7605712808436141, 0.6492544391499409 L -0.754522154627895, 0.6562745752927497 M -0.754522154627895,0.6562745752927497 Q -0.14134619200908524, 0.141496480537612 -0.6554723738521278, 0.7552191517146903L -0.6554723738521278, 0.7552191517146903 L -0.6490919777091271, 0.760709934517523 L -0.6426655881089328, 0.766146814821154 ",
          "type": "path"
         },
         {
          "fillcolor": "#dba284",
          "layer": "below",
          "line": {
           "color": "rgb(175,175,175)",
           "width": 0.5
          },
          "path": "M -0.5927791218141758,0.8053650804083913 Q -0.1437533370643189, 0.13905027178280638 -0.8246302926170502, 0.5656720609136694L -0.8246302926170502, 0.5656720609136694 L -0.8224336416610745, 0.5688610595427528 L -0.8202246583227755, 0.5720415281072574 M -0.8202246583227755,0.5720415281072574 Q -0.14367005245644499, 0.1391363217393731 -0.5980392184828731, 0.801466838463323L -0.5980392184828731, 0.801466838463323 L -0.5954123604440205, 0.8034202642642765 L -0.5927791218141758, 0.8053650804083913 ",
          "type": "path"
         },
         {
          "fillcolor": "#dba284",
          "layer": "below",
          "line": {
           "color": "rgb(175,175,175)",
           "width": 0.5
          },
          "path": "M -0.5812047746085915,0.813757340963617 Q -0.15856902713488782, 0.12188463247471036 -0.9358694288488832, 0.3523470053031033L -0.9358694288488832, 0.3523470053031033 L -0.9358085523291472, 0.35250865718110513 L -0.9357476478874289, 0.35267029854120735 M -0.9357476478874289,0.35267029854120735 Q -0.15857240181392157, 0.12188024197122438 -0.5815309187862897, 0.8135243023386417L -0.5815309187862897, 0.8135243023386417 L -0.5813678583739982, 0.8136408379928031 L -0.5812047746085915, 0.813757340963617 ",
          "type": "path"
         },
         {
          "fillcolor": "#dba284",
          "layer": "below",
          "line": {
           "color": "rgb(175,175,175)",
           "width": 0.5
          },
          "path": "M -0.6038063587965686,0.7971310313096771 Q -0.16882593912763041, 0.10722780552484341 -0.9782006278208716, 0.20766206136618368L -0.9782006278208716, 0.20766206136618368 L -0.9774636198395248, 0.2111039362262413 L -0.9767145013934744, 0.21454319557538254 M -0.9767145013934744,0.21454319557538254 Q -0.16884250553135527, 0.10720171792417446 -0.6096479839269595, 0.7926722750883833L -0.6096479839269595, 0.7926722750883833 L -0.6067312671977666, 0.7949070193454026 L -0.6038063587965686, 0.7971310313096771 ",
          "type": "path"
         },
         {
          "fillcolor": "#dba284",
          "layer": "below",
          "line": {
           "color": "rgb(175,175,175)",
           "width": 0.5
          },
          "path": "M -0.582291558404479,0.8129800372769821 Q -0.17024569113480992, 0.10495906178139608 -0.9879036100596138, 0.1550692014269192L -0.9879036100596138, 0.1550692014269192 L -0.9877833326931338, 0.15583352544829918 L -0.9876624639824031, 0.15659775617871513 M -0.9876624639824031,0.15659775617871513 Q -0.17023460081885297, 0.10497704836794464 -0.5833773026352238, 0.812201282177054L -0.5833773026352238, 0.812201282177054 L -0.5828345605866865, 0.812590841066846 L -0.582291558404479, 0.8129800372769821 ",
          "type": "path"
         },
         {
          "fillcolor": "#dba284",
          "layer": "below",
          "line": {
           "color": "rgb(175,175,175)",
           "width": 0.5
          },
          "path": "M -0.5865200642678234,0.8099346974980565 Q -0.18218342237474439, 0.08251788055824927 -0.9956366297782829, -0.09331506547038566L -0.9956366297782829, -0.09331506547038566 L -0.9957799011937777, -0.09177357124200002 L -0.9959207859925601, -0.09023185705703655 M -0.9959207859925601,-0.09023185705703655 Q -0.1821659255786958, 0.08255649918726611 -0.5886823580677504, 0.8083644483151105L -0.5886823580677504, 0.8083644483151105 L -0.5876017356904883, 0.8091502951946107 L -0.5865200642678234, 0.8099346974980565 ",
          "type": "path"
         },
         {
          "fillcolor": "#dba284",
          "layer": "below",
          "line": {
           "color": "rgb(175,175,175)",
           "width": 0.5
          },
          "path": "M -0.580987293272305,0.8139126274091837 Q -0.19027826260623404, 0.06159693806962362 -0.9477442164916802, -0.31903118986483336L -0.9477442164916802, -0.31903118986483336 L -0.9477896892612442, -0.3188960723026769 L -0.9478351427674299, -0.31876094825910817 M -0.9478351427674299,-0.31876094825910817 Q -0.19027771136823246, 0.061598640865425075 -0.5812047746085915, 0.813757340963617L -0.5812047746085915, 0.813757340963617 L -0.5810960391276032, 0.8138349914510994 L -0.580987293272305, 0.8139126274091837 ",
          "type": "path"
         },
         {
          "fillcolor": "#dba284",
          "layer": "below",
          "line": {
           "color": "rgb(175,175,175)",
           "width": 0.5
          },
          "path": "M -0.584895594398507,0.8111085893104678 Q -0.19473948276084138, 0.04556900102086906 -0.8840600943656748, -0.46737324436702005L -0.8840600943656748, -0.46737324436702005 L -0.884632585116971, -0.4662887403200566 L -0.8852037454740215, -0.46520353502393313 M -0.8852037454740215,-0.46520353502393313 Q -0.1947292603642389, 0.045612664447458685 -0.5865200642678234, 0.8099346974980565L -0.5865200642678234, 0.8099346974980565 L -0.5857081234263913, 0.8105220503800838 L -0.584895594398507, 0.8111085893104678 ",
          "type": "path"
         },
         {
          "fillcolor": "#dba284",
          "layer": "below",
          "line": {
           "color": "rgb(175,175,175)",
           "width": 0.5
          },
          "path": "M -0.5815309187862897,0.8135243023386417 Q -0.1998519854791897, 0.007693107306267516 -0.6423490352756723, -0.7664122369067531L -0.6423490352756723, -0.7664122369067531 L -0.6427992446180573, -0.7660346801016616 L -0.6432492320419781, -0.7656568588326009 M -0.6432492320419781,-0.7656568588326009 Q -0.19985106151348375, 0.007717072756800037 -0.582291558404479, 0.8129800372769821L -0.582291558404479, 0.8129800372769821 L -0.5819113022271769, 0.813252258736655 L -0.5815309187862897, 0.8135243023386417 ",
          "type": "path"
         },
         {
          "fillcolor": "#dba284",
          "layer": "below",
          "line": {
           "color": "rgb(175,175,175)",
           "width": 0.5
          },
          "path": "M -0.5980392184828731,0.801466838463323 Q -0.19082139456338437, -0.05989319975494037 -0.03278066862007945, -0.9994625694666212L -0.03278066862007945, -0.9994625694666212 L -0.03735896404887238, -0.9993019102379396 L -0.04193647544001467, -0.9991202790593678 M -0.04193647544001467,-0.9991202790593678 Q -0.19087961069664847, -0.05970740507086145 -0.6038063587965686, 0.7971310313096771L -0.6038063587965686, 0.7971310313096771 L -0.6009266991176685, 0.7993041362882737 L -0.5980392184828731, 0.801466838463323 ",
          "type": "path"
         },
         {
          "fillcolor": "#dba284",
          "layer": "below",
          "line": {
           "color": "rgb(175,175,175)",
           "width": 0.5
          },
          "path": "M -0.5886823580677504,0.8083644483151105 Q -0.16059535110103265, -0.11920206879385967 0.603289023954857, -0.7975226351493706L 0.603289023954857, -0.7975226351493706 L 0.6007683734163051, -0.7994231429616777 L 0.5982417358549948, -0.8013156840354508 M 0.5982417358549948,-0.8013156840354508 Q -0.16066900506899295, -0.11910277414963902 -0.5927791218141758, 0.8053650804083913L -0.5927791218141758, 0.8053650804083913 L -0.5907326435564212, 0.8068673644638518 L -0.5886823580677504, 0.8083644483151105 ",
          "type": "path"
         },
         {
          "fillcolor": "#dba284",
          "layer": "below",
          "line": {
           "color": "rgb(175,175,175)",
           "width": 0.5
          },
          "path": "M -0.6096479839269595,0.7926722750883833 Q -0.11051707665535529, -0.16669125882167404 0.9674747947232138, -0.25296743184701703L 0.9674747947232138, -0.25296743184701703 L 0.9663228191674309, -0.25733287616686007 L 0.9651511459406235, -0.26169307497429367 M 0.9651511459406235,-0.26169307497429367 Q -0.11057921413227167, -0.16665004471013267 -0.61619359638062, 0.7875947255914794L -0.61619359638062, 0.7875947255914794 L -0.6129260480514508, 0.7901402784442967 L -0.6096479839269595, 0.7926722750883833 ",
          "type": "path"
         },
         {
          "fillcolor": "#dba284",
          "layer": "below",
          "line": {
           "color": "rgb(175,175,175)",
           "width": 0.5
          },
          "path": "M -0.5833773026352238,0.812201282177054 Q -0.10192810626821674, -0.17207748589683405 0.9926136088642181, -0.12131868569001644L 0.9926136088642181, -0.12131868569001644 L 0.9924991787292442, -0.12225129946865905 L 0.9923838723537498, -0.12318380531618739 M 0.9923838723537498,-0.12318380531618739 Q -0.10192884652188205, -0.17207704741399596 -0.584895594398507, 0.8111085893104678L -0.584895594398507, 0.8111085893104678 L -0.5841367040174085, 0.8116552907606027 L -0.5833773026352238, 0.812201282177054 ",
          "type": "path"
         },
         {
          "fillcolor": "#d59171",
          "layer": "below",
          "line": {
           "color": "rgb(175,175,175)",
           "width": 0.5
          },
          "path": "M -0.6907684002334683,0.723076079841461 Q -0.15136779183833968, 0.13072027996445337 -0.8159526166519879, 0.5781187831049723L -0.8159526166519879, 0.5781187831049723 L -0.813799695855104, 0.5811454680423311 L -0.8116355479674042, 0.5841641355609324 M -0.8116355479674042,0.5841641355609324 Q -0.15133411393945836, 0.13075926719800413 -0.6957507513003646, 0.7182832951315089L -0.6957507513003646, 0.7182832951315089 L -0.6932637175626921, 0.7206839931004128 L -0.6907684002334683, 0.723076079841461 ",
          "type": "path"
         },
         {
          "fillcolor": "#d59171",
          "layer": "below",
          "line": {
           "color": "rgb(175,175,175)",
           "width": 0.5
          },
          "path": "M -0.6788709446293999,0.7342576118352375 Q -0.16589038184870877, 0.11171562652596814 -0.935625755245316, 0.35299354968842145L -0.935625755245316, 0.35299354968842145 L -0.9356054289481432, 0.35304742078474527 L -0.9355850995492015, 0.35310129071062696 M -0.9355850995492015,0.35310129071062696 Q -0.16589216574059082, 0.11171297751781728 -0.6789789415518404, 0.7341577466247582L -0.6789789415518404, 0.7341577466247582 L -0.6789249449268062, 0.7342076812156988 L -0.6788709446293999, 0.7342576118352375 ",
          "type": "path"
         },
         {
          "fillcolor": "#d59171",
          "layer": "below",
          "line": {
           "color": "rgb(175,175,175)",
           "width": 0.5
          },
          "path": "M -0.7027957044611755,0.7113917330071527 Q -0.17634343082736356, 0.09435568029554367 -0.9817889013799763, 0.18997513818155012L -0.9817889013799763, 0.18997513818155012 L -0.9808906515626938, 0.19455983572390767 L -0.979970992527576, 0.19914028674408782 M -0.979970992527576,0.19914028674408782 Q -0.17640915698561277, 0.09423274023196734 -0.7103938240161956, 0.7038043867436793L -0.7103938240161956, 0.7038043867436793 L -0.7066049481891234, 0.7076082582860704 L -0.7027957044611755, 0.7113917330071527 ",
          "type": "path"
         },
         {
          "fillcolor": "#d59171",
          "layer": "below",
          "line": {
           "color": "rgb(175,175,175)",
           "width": 0.5
          },
          "path": "M -0.6825345845678975,0.7308532964068286 Q -0.17710748421812683, 0.09291361059568158 -0.9892555885288848, 0.1461963767142324L -0.9892555885288848, 0.1461963767142324 L -0.9890624347667358, 0.14749745805706774 L -0.9888675698068621, 0.14879828421144803 M -0.9888675698068621,0.14879828421144803 Q -0.17710143991049038, 0.09292513105522623 -0.6843600085114271, 0.7291442784183659L -0.6843600085114271, 0.7291442784183659 L -0.6834478307325251, 0.7299993579908175 L -0.6825345845678975, 0.7308532964068286 ",
          "type": "path"
         },
         {
          "fillcolor": "#d59171",
          "layer": "below",
          "line": {
           "color": "rgb(175,175,175)",
           "width": 0.5
          },
          "path": "M -0.6862881458614996,0.7273297607344176 Q -0.18737346232111918, 0.06993701178772328 -0.9950088358314262, -0.09978685593498732L -0.9950088358314262, -0.09978685593498732 L -0.9953279929028814, -0.0965514709567992 L -0.9956366297782829, -0.09331506547038566 M -0.9956366297782829,-0.09331506547038566 Q -0.18736212070193176, 0.06996739044779902 -0.6907684002334683, 0.723076079841461L -0.6907684002334683, 0.723076079841461 L -0.6885315579085939, 0.7252063801180769 L -0.6862881458614996, 0.7273297607344176 ",
          "type": "path"
         },
         {
          "fillcolor": "#d59171",
          "layer": "below",
          "line": {
           "color": "rgb(175,175,175)",
           "width": 0.5
          },
          "path": "M -0.6801659376014887,0.7330581814062835 Q -0.1938889921904009, 0.04906178459239591 -0.9469682330092692, -0.3213271941048599L -0.9469682330092692, -0.3213271941048599 L -0.9472198953856253, -0.32058457509001415 L -0.9474709753951317, -0.3198417589743368 M -0.9474709753951317,-0.3198417589743368 Q -0.19389021424349126, 0.049056954864861606 -0.6813511529744737, 0.7319566970390771L -0.6813511529744737, 0.7319566970390771 L -0.6807587680666047, 0.7325076789361588 L -0.6801659376014887, 0.7330581814062835 ",
          "type": "path"
         },
         {
          "fillcolor": "#d59171",
          "layer": "below",
          "line": {
           "color": "rgb(175,175,175)",
           "width": 0.5
          },
          "path": "M -0.6843600085114271,0.7291442784183659 Q -0.19740422098971097, 0.03211811849167639 -0.8802095541646305, -0.47458523023509946L -0.8802095541646305, -0.47458523023509946 L -0.8809070007753996, -0.47328939982307877 L -0.8816025396867163, -0.4719925444516383 M -0.8816025396867163,-0.4719925444516383 Q -0.19739947298677496, 0.03214728704795332 -0.6862881458614996, 0.7273297607344176L -0.6862881458614996, 0.7273297607344176 L -0.6853246777185861, 0.7282376577120385 L -0.6843600085114271, 0.7291442784183659 ",
          "type": "path"
         },
         {
          "fillcolor": "#d59171",
          "layer": "below",
          "line": {
           "color": "rgb(175,175,175)",
           "width": 0.5
          },
          "path": "M -0.7103938240161956,0.7038043867436793 Q -0.1995018937046628, -0.014106537784071138 -0.6042904383637336, -0.796764121997324L -0.6042904383637336, -0.796764121997324 L -0.6092278066467204, -0.7929952582509092 L -0.6141416697393289, -0.7891957992094161 M -0.6141416697393289,-0.7891957992094161 Q -0.19951268263568603, -0.013953116766946001 -0.718012424756524, 0.6960302851853911L -0.718012424756524, 0.6960302851853911 L -0.7142137019457118, 0.6999277019471383 L -0.7103938240161956, 0.7038043867436793 ",
          "type": "path"
         },
         {
          "fillcolor": "#d59171",
          "layer": "below",
          "line": {
           "color": "rgb(175,175,175)",
           "width": 0.5
          },
          "path": "M -0.7259507325351627,0.6877467076850754 Q -0.1830292366988725, -0.08062442876342196 0.017435195183183726, -0.9998479954317677L 0.017435195183183726, -0.9998479954317677 L 0.010309713295338042, -0.9999468534936083 L 0.003183707856899201, -0.9999949319892986 M 0.003183707856899201,-0.9999949319892986 Q -0.18310560814672427, -0.0804508313519398 -0.7343927807215518, 0.6787247185892575L -0.7343927807215518, 0.6787247185892575 L -0.7301856909372795, 0.6832487517372042 L -0.7259507325351627, 0.6877467076850754 ",
          "type": "path"
         },
         {
          "fillcolor": "#d59171",
          "layer": "below",
          "line": {
           "color": "rgb(175,175,175)",
           "width": 0.5
          },
          "path": "M -0.718012424756524,0.6960302851853911 Q -0.1469996305017108, -0.13561382168628866 0.636014309853778, -0.7716772626307078L 0.636014309853778, -0.7716772626307078 L 0.6310006606817962, -0.7757822930559428 L 0.6259605170838494, -0.7798547499708647 M 0.6259605170838494,-0.7798547499708647 Q -0.14710037667184406, -0.13550453565472118 -0.7259507325351627, 0.6877467076850754L -0.7259507325351627, 0.6877467076850754 L -0.7219934586393392, 0.6918998812559551 L -0.718012424756524, 0.6960302851853911 ",
          "type": "path"
         },
         {
          "fillcolor": "#d59171",
          "layer": "below",
          "line": {
           "color": "rgb(175,175,175)",
           "width": 0.5
          },
          "path": "M -0.6795187057574664,0.7336581823476773 Q -0.11965266676069063, -0.16025991182156293 0.8965074430315065, -0.44302867242325306L 0.8965074430315065, -0.44302867242325306 L 0.8963171538717034, -0.44341353122714827 L 0.896126699497109, -0.44379830829828343 M 0.896126699497109,-0.44379830829828343 Q -0.11965075210955818, -0.16026134131354655 -0.6801659376014887, 0.7330581814062835L -0.6801659376014887, 0.7330581814062835 L -0.6798423878715011, 0.7333582532795111 L -0.6795187057574664, 0.7336581823476773 ",
          "type": "path"
         },
         {
          "fillcolor": "#d59171",
          "layer": "below",
          "line": {
           "color": "rgb(175,175,175)",
           "width": 0.5
          },
          "path": "M -0.6957507513003646,0.7182832951315089 Q -0.10001060408966733, -0.17319895805004087 0.9698971457881864, -0.24351494120880862L 0.9698971457881864, -0.24351494120880862 L 0.9686974999271154, -0.24824414118958837 L 0.9674747947232138, -0.25296743184701703 M 0.9674747947232138,-0.25296743184701703 Q -0.1000021809592257, -0.17320382156118347 -0.7027957044611755, 0.7113917330071527L -0.7027957044611755, 0.7113917330071527 L -0.6992817176488457, 0.7148461928009969 L -0.6957507513003646, 0.7182832951315089 ",
          "type": "path"
         },
         {
          "fillcolor": "#d59171",
          "layer": "below",
          "line": {
           "color": "rgb(175,175,175)",
           "width": 0.5
          },
          "path": "M -0.6813511529744737,0.7319566970390771 Q -0.09099486970664239, -0.1781009087205093 0.9923838723537498, -0.12318380531618739L 0.9923838723537498, -0.12318380531618739 L 0.9922926598440286, -0.12391641222882019 L 0.9922009065024489, -0.12464895160296648 M 0.9922009065024489,-0.12464895160296648 Q -0.09098226900282741, -0.17810734607841744 -0.6825345845678975, 0.7308532964068286L -0.6825345845678975, 0.7308532964068286 L -0.6819430919373793, 0.7314052360756566 L -0.6813511529744737, 0.7319566970390771 ",
          "type": "path"
         },
         {
          "fillcolor": "#d0805f",
          "layer": "below",
          "line": {
           "color": "rgb(175,175,175)",
           "width": 0.5
          },
          "path": "M -0.8336422605412673,0.5523047903464589 Q -0.1792979914121415, 0.08861281101269519 -0.945098370812421, 0.32678596892722844L -0.945098370812421, 0.32678596892722844 L -0.9440397771629835, 0.3298316223985573 L -0.9429713686854484, 0.3328738467340025 M -0.9429713686854484,0.3328738467340025 Q -0.17940429919716938, 0.08839738361270957 -0.838498025312809, 0.5449046352771464L -0.838498025312809, 0.5449046352771464 L -0.8360783303421998, 0.5486100851535629 L -0.8336422605412673, 0.5523047903464589 ",
          "type": "path"
         },
         {
          "fillcolor": "#d0805f",
          "layer": "below",
          "line": {
           "color": "rgb(175,175,175)",
           "width": 0.5
          },
          "path": "M -0.8246302926170502,0.5656720609136694 Q -0.18324897671365692, 0.08012373264768453 -0.9752083025424865, 0.22128887602453556L -0.9752083025424865, 0.22128887602453556 L -0.974495206683385, 0.22440831569063302 L -0.9737721325687728, 0.22752545754808268 M -0.9737721325687728,0.22752545754808268 Q -0.18330913449565, 0.0799860063414577 -0.8290748504637012, 0.5591376327243512L -0.8290748504637012, 0.5591376327243512 L -0.8268590265280245, 0.5624092373433492 L -0.8246302926170502, 0.5656720609136694 ",
          "type": "path"
         },
         {
          "fillcolor": "#d0805f",
          "layer": "below",
          "line": {
           "color": "rgb(175,175,175)",
           "width": 0.5
          },
          "path": "M -0.8290748504637012,0.5591376327243512 Q -0.18675252730126932, 0.0715785830160717 -0.9903999600526388, 0.1382313970403667L -0.9903999600526388, 0.1382313970403667 L -0.9898357858668804, 0.14221503794358545 L -0.9892555885288848, 0.1461963767142324 M -0.9892555885288848,0.1461963767142324 Q -0.18675868418275687, 0.07156251730008727 -0.8336422605412673, 0.5523047903464589L -0.8336422605412673, 0.5523047903464589 L -0.8313655752681351, 0.5557259038942514 L -0.8290748504637012, 0.5591376327243512 ",
          "type": "path"
         },
         {
          "fillcolor": "#d0805f",
          "layer": "below",
          "line": {
           "color": "rgb(175,175,175)",
           "width": 0.5
          },
          "path": "M -0.8159526166519879,0.5781187831049723 Q -0.19355302978582117, 0.05037087115316773 -0.9942564285529073, -0.10702408271607594L -0.9942564285529073, -0.10702408271607594 L -0.9946392146825844, -0.10340615366413983 L -0.9950088358314262, -0.09978685593498732 M -0.9950088358314262,-0.09978685593498732 Q -0.19355686544021336, 0.05035613012294668 -0.8202246583227755, 0.5720415281072574L -0.8202246583227755, 0.5720415281072574 L -0.8180942806565985, 0.5750841225046669 L -0.8159526166519879, 0.5781187831049723 ",
          "type": "path"
         },
         {
          "fillcolor": "#d0805f",
          "layer": "below",
          "line": {
           "color": "rgb(175,175,175)",
           "width": 0.5
          },
          "path": "M -0.802112839297377,0.5971724985582476 Q -0.19770048984272115, 0.03024097081689194 -0.9439499849281061, -0.330088512302728L -0.9439499849281061, -0.330088512302728 L -0.9443961774478999, -0.32880976266193 L -0.9448406376727324, -0.32753040988919535 M -0.9448406376727324,-0.32753040988919535 Q -0.1977049379606916, 0.03021187690228938 -0.8039025515576081, 0.5947610340289343L -0.8039025515576081, 0.5947610340289343 L -0.8030086006426499, 0.595967438115484 L -0.802112839297377, 0.5971724985582476 ",
          "type": "path"
         },
         {
          "fillcolor": "#d0805f",
          "layer": "below",
          "line": {
           "color": "rgb(175,175,175)",
           "width": 0.5
          },
          "path": "M -0.8516772508823952,0.5240666563800884 Q -0.1999999380302543, -0.000157441717634182 -0.8508510960284085, -0.525406901731654L -0.8508510960284085, -0.525406901731654 L -0.854439219867007, -0.5195513637293819 L -0.857987046679024, -0.5136713226675267 M -0.857987046679024,-0.5136713226675267 Q -0.1999999688598603, -0.00011160669742666418 -0.8585598038319311, 0.5127134318935637L -0.8585598038319311, 0.5127134318935637 L -0.855137368939075, 0.5184014662826063 L -0.8516772508823952, 0.5240666563800884 ",
          "type": "path"
         },
         {
          "fillcolor": "#d0805f",
          "layer": "below",
          "line": {
           "color": "rgb(175,175,175)",
           "width": 0.5
          },
          "path": "M -0.8585598038319311,0.5127134318935637 Q -0.19464188030887444, -0.04598411062340774 -0.5383365384560477, -0.8427299516233895L -0.5383365384560477, -0.8427299516233895 L -0.5478513278358735, -0.8365757124065163 L -0.5572957698853299, -0.8303140519513791 M -0.5572957698853299,-0.8303140519513791 Q -0.19467232518972083, -0.04585505212326762 -0.869303496350614, 0.49427869793528234L -0.869303496350614, 0.49427869793528234 L -0.863980819164093, 0.5035247204622062 L -0.8585598038319311, 0.5127134318935637 ",
          "type": "path"
         },
         {
          "fillcolor": "#d0805f",
          "layer": "below",
          "line": {
           "color": "rgb(175,175,175)",
           "width": 0.5
          },
          "path": "M -0.8039025515576081,0.5947610340289343 Q -0.18405812445102093, -0.07824708827536331 -0.12951580244420302, -0.9915773580095676L -0.12951580244420302, -0.9915773580095676 L -0.13071073393210372, -0.9914205485236478 L -0.13190547556913676, -0.9912622990484808 M -0.13190547556913676,-0.9912622990484808 Q -0.18402255020117841, -0.07833071567051314 -0.8058722192793064, 0.592089491710371L -0.8058722192793064, 0.592089491710371 L -0.8048884938240515, 0.5934260800720254 L -0.8039025515576081, 0.5947610340289343 ",
          "type": "path"
         },
         {
          "fillcolor": "#d0805f",
          "layer": "below",
          "line": {
           "color": "rgb(175,175,175)",
           "width": 0.5
          },
          "path": "M -0.8828635562038943,0.4696295786330042 Q -0.1647324359049921, -0.11341615652457847 0.12367203153346322, -0.992323147274307L 0.12367203153346322, -0.992323147274307 L 0.1077459953010538, -0.9941784550555224 L 0.09179225964229552, -0.9957781786471128 M 0.09179225964229552,-0.9957781786471128 Q -0.16485683896372855, -0.11323525355156527 -0.8964965129933813, 0.4430507896288055L -0.8964965129933813, 0.4430507896288055 L -0.8897792827267141, 0.45639109109439696 L -0.8828635562038943, 0.4696295786330042 ",
          "type": "path"
         },
         {
          "fillcolor": "#d0805f",
          "layer": "below",
          "line": {
           "color": "rgb(175,175,175)",
           "width": 0.5
          },
          "path": "M -0.838498025312809,0.5449046352771464 Q -0.13223665786251046, -0.15004488101016095 0.6459612839896733, -0.7633701720570516L 0.6459612839896733, -0.7633701720570516 L 0.6410012540869302, -0.7675398310569835 L 0.636014309853778, -0.7716772626307078 M 0.636014309853778,-0.7716772626307078 Q -0.1322840191864268, -0.15000312752701217 -0.8451518629255409, 0.5345262655786783L -0.8451518629255409, 0.5345262655786783 L -0.8418409375770767, 0.5397257042418384 L -0.838498025312809, 0.5449046352771464 ",
          "type": "path"
         },
         {
          "fillcolor": "#d0805f",
          "layer": "below",
          "line": {
           "color": "rgb(175,175,175)",
           "width": 0.5
          },
          "path": "M -0.8058722192793064,0.592089491710371 Q -0.10309965383624814, -0.1713781239798295 0.9006519345364293, -0.43454124409057815L 0.9006519345364293, -0.43454124409057815 L 0.8998107224101637, -0.4362804875715842 L 0.8989661516452415, -0.4380181025895443 M 0.8989661516452415,-0.4380181025895443 Q -0.10306507756652138, -0.1713989200263728 -0.8083916008455188, 0.5886450710593094L -0.8083916008455188, 0.5886450710593094 L -0.8071337474355808, 0.5903686253101499 L -0.8058722192793064, 0.592089491710371 ",
          "type": "path"
         },
         {
          "fillcolor": "#d0805f",
          "layer": "below",
          "line": {
           "color": "rgb(175,175,175)",
           "width": 0.5
          },
          "path": "M -0.8083916008455188,0.5886450710593094 Q -0.08764674765769372, -0.17977221038032704 0.9616381304614785, -0.27432117315758264L 0.9616381304614785, -0.27432117315758264 L 0.9609358384787816, -0.2767712310322028 L 0.9602273042591671, -0.2792194910015646 M 0.9602273042591671,-0.2792194910015646 Q -0.08760769353510456, -0.17979124570862512 -0.8116355479674042, 0.5841641355609324L -0.8116355479674042, 0.5841641355609324 L -0.8100166729262228, 0.586406846465432 L -0.8083916008455188, 0.5886450710593094 ",
          "type": "path"
         },
         {
          "fillcolor": "#d0805f",
          "layer": "below",
          "line": {
           "color": "rgb(175,175,175)",
           "width": 0.5
          },
          "path": "M -0.8003158933981523,0.5995785776479321 Q -0.07398728907071403, -0.18581141260957734 0.9934054756176451, -0.11465409287452474L 0.9934054756176451, -0.11465409287452474 L 0.9932584631404324, -0.11592077208122042 L 0.9931098355366766, -0.11718726279043754 M 0.9931098355366766,-0.11718726279043754 Q -0.07394523116513907, -0.18582815391628404 -0.802112839297377, 0.5971724985582476L -0.802112839297377, 0.5971724985582476 L -0.8012152695413365, 0.5983762126403451 L -0.8003158933981523, 0.5995785776479321 ",
          "type": "path"
         },
         {
          "fillcolor": "#ca6f4c",
          "layer": "below",
          "line": {
           "color": "rgb(175,175,175)",
           "width": 0.5
          },
          "path": "M -0.9362745586180142,0.3512690576817757 Q -0.19023260539670847, 0.061737799150765105 -0.9641161371494549, 0.26548083563227987L -0.9641161371494549, 0.26548083563227987 L -0.9639800884670975, 0.26597441425627166 L -0.9638437870975053, 0.2664679231606291 M -0.9638437870975053,0.2664679231606291 Q -0.1902294343195787, 0.06174756933234783 -0.9365977685107811, 0.3504063641268879L -0.9365977685107811, 0.3504063641268879 L -0.9364362629091474, 0.3508377481240441 L -0.9362745586180142, 0.3512690576817757 ",
          "type": "path"
         },
         {
          "fillcolor": "#ca6f4c",
          "layer": "below",
          "line": {
           "color": "rgb(175,175,175)",
           "width": 0.5
          },
          "path": "M -0.9365977685107811,0.3504063641268879 Q -0.1933995661543617, 0.05095692113250838 -0.9876624639824031, 0.15659775617871513L -0.9876624639824031, 0.15659775617871513 L -0.9875531766032085, 0.15728548369417966 L -0.987443410346772, 0.1579731349398894 M -0.987443410346772,0.1579731349398894 Q -0.19339048497049494, 0.05099137498515578 -0.9369604294785476, 0.34943547843825973L -0.9369604294785476, 0.34943547843825973 L -0.9367792247739113, 0.3499209682656782 L -0.9365977685107811, 0.3504063641268879 ",
          "type": "path"
         },
         {
          "fillcolor": "#ca6f4c",
          "layer": "below",
          "line": {
           "color": "rgb(175,175,175)",
           "width": 0.5
          },
          "path": "M -0.9415057069325374,0.33699703828589206 Q -0.199995060445785, -0.001405630565551369 -0.9366758793280203, -0.35019751153467643L -0.9366758793280203, -0.35019751153467643 L -0.9376210283055842, -0.3476590388285321 L -0.9385592978167676, -0.3451180152957769 M -0.9385592978167676,-0.3451180152957769 Q -0.1999957653043404, -0.0013014838958642812 -0.9429713686854484, 0.3328738467340025L -0.9429713686854484, 0.3328738467340025 L -0.9422407931678464, 0.33493624421735524 L -0.9415057069325374, 0.33699703828589206 ",
          "type": "path"
         },
         {
          "fillcolor": "#ca6f4c",
          "layer": "below",
          "line": {
           "color": "rgb(175,175,175)",
           "width": 0.5
          },
          "path": "M -0.938401005184861,0.34554819268524967 Q -0.19947503915308762, -0.014481324348075288 -0.8786528503893298, -0.47746116962817614L -0.8786528503893298, -0.47746116962817614 L -0.879432377897916, -0.4760238362779927 L -0.8802095541646305, -0.47458523023509946 M -0.8802095541646305,-0.47458523023509946 Q -0.1994820182355139, -0.014384867072243228 -0.9391943578821249, 0.3433860191131594L -0.9391943578821249, 0.3433860191131594 L -0.9387983040042738, 0.34446733429847776 L -0.938401005184861, 0.34554819268524967 ",
          "type": "path"
         },
         {
          "fillcolor": "#ca6f4c",
          "layer": "below",
          "line": {
           "color": "rgb(175,175,175)",
           "width": 0.5
          },
          "path": "M -0.9402182678738826,0.34057247210577046 Q -0.19298569118140319, -0.052502599928347264 -0.6380933232371653, -0.7699590319232255L -0.6380933232371653, -0.7699590319232255 L -0.6402236353862623, -0.7681885814647327 L -0.6423490352756723, -0.7664122369067531 M -0.6423490352756723,-0.7664122369067531 Q -0.19303128951018778, -0.0523347042605007 -0.9415057069325374, 0.33699703828589206L -0.9415057069325374, 0.33699703828589206 L -0.940863685807922, 0.33878536675590326 L -0.9402182678738826, 0.34057247210577046 ",
          "type": "path"
         },
         {
          "fillcolor": "#ca6f4c",
          "layer": "below",
          "line": {
           "color": "rgb(175,175,175)",
           "width": 0.5
          },
          "path": "M -0.9391943578821249,0.3433860191131594 Q -0.1707006322089345, -0.10421753289859664 -0.12370920540884353, -0.9923185136321465L -0.12370920540884353, -0.9923185136321465 L -0.12518972883551724, -0.992132819633586 L -0.1266699735357879, -0.9919449167188886 M -0.1266699735357879,-0.9919449167188886 Q -0.1707001204211147, -0.10421837116467009 -0.9402182678738826, 0.34057247210577046L -0.9402182678738826, 0.34057247210577046 L -0.9397073658721972, 0.34197962881659566 L -0.9391943578821249, 0.3433860191131594 ",
          "type": "path"
         },
         {
          "fillcolor": "#ca6f4c",
          "layer": "below",
          "line": {
           "color": "rgb(175,175,175)",
           "width": 0.5
          },
          "path": "M -0.950494530892188,0.3107412858698363 Q -0.15787739010750404, -0.12277919079731299 0.067099234056523, -0.9977463068280573L 0.067099234056523, -0.9977463068280573 L 0.057700878936260004, -0.9983339163676566 L 0.048297407227258685, -0.9988329992822246 M 0.048297407227258685,-0.9988329992822246 Q -0.15824814239231288, -0.12230096250390786 -0.9543887832961383, 0.29856665975710817L -0.9543887832961383, 0.29856665975710817 L -0.9524611097302198, 0.30466019505586595 L -0.950494530892188, 0.3107412858698363 ",
          "type": "path"
         },
         {
          "fillcolor": "#ca6f4c",
          "layer": "below",
          "line": {
           "color": "rgb(175,175,175)",
           "width": 0.5
          },
          "path": "M -0.9358694288488832,0.3523470053031033 Q -0.12092110518704927, -0.15930501034287206 0.5910282999264072, -0.8066508220327435L 0.5910282999264072, -0.8066508220327435 L 0.5906931877859235, -0.8068962497764528 L 0.5903579737302348, -0.8071415383023793 M 0.5903579737302348,-0.8071415383023793 Q -0.12094141273412123, -0.15928959377773222 -0.936072148899262, 0.3518080898090858L -0.936072148899262, 0.3518080898090858 L -0.935970827661328, 0.35207756214642355 L -0.9358694288488832, 0.3523470053031033 ",
          "type": "path"
         },
         {
          "fillcolor": "#ca6f4c",
          "layer": "below",
          "line": {
           "color": "rgb(175,175,175)",
           "width": 0.5
          },
          "path": "M -0.9369604294785476,0.34943547843825973 Q -0.07883696515097392, -0.18380623745070276 0.8989661516452415, -0.4380181025895443L 0.8989661516452415, -0.4380181025895443 L 0.8986211050824762, -0.438725551455975 L 0.8982755017870669, -0.43943272851392523 M 0.8982755017870669,-0.43943272851392523 Q -0.07886522418909876, -0.1837941141973899 -0.9374023149785676, 0.3482483307538203L -0.9374023149785676, 0.3482483307538203 L -0.9371815602017085, 0.34884197456425947 L -0.9369604294785476, 0.34943547843825973 ",
          "type": "path"
         },
         {
          "fillcolor": "#ca6f4c",
          "layer": "below",
          "line": {
           "color": "rgb(175,175,175)",
           "width": 0.5
          },
          "path": "M -0.936072148899262,0.3518080898090858 Q -0.06472215675376357, -0.18923805754958822 0.9554592541176653, -0.29512304844067105L 0.9554592541176653, -0.29512304844067105 L 0.9553517354141672, -0.29547091505110795 L 0.955244090058304, -0.2958187424905372 M 0.955244090058304,-0.2958187424905372 Q -0.0647365788604022, -0.18923312436635117 -0.9362745586180142, 0.3512690576817757L -0.9362745586180142, 0.3512690576817757 L -0.9361733925542879, 0.3515385883134243 L -0.936072148899262, 0.3518080898090858 ",
          "type": "path"
         },
         {
          "fillcolor": "#ca6f4c",
          "layer": "below",
          "line": {
           "color": "rgb(175,175,175)",
           "width": 0.5
          },
          "path": "M -0.935625755245316,0.35299354968842145 Q -0.04833262723070472, -0.1940720411212747 0.9918968421023595, -0.12704587607383006L 0.9918968421023595, -0.12704587607383006 L 0.9918712420054836, -0.12724558649516865 L 0.991845601698527, -0.12744529175802075 M 0.991845601698527,-0.12744529175802075 Q -0.04833817957579375, -0.1940706582544057 -0.9357476478874289, 0.35267029854120735L -0.9357476478874289, 0.35267029854120735 L -0.9356867155255458, 0.352831929378587 L -0.935625755245316, 0.35299354968842145 ",
          "type": "path"
         },
         {
          "fillcolor": "#c45e3a",
          "layer": "below",
          "line": {
           "color": "rgb(175,175,175)",
           "width": 0.5
          },
          "path": "M -0.9635704264395962,0.26745473129300706 Q -0.1991259186134101, 0.018678022817353424 -0.9964993871627285, -0.08360006808793059L -0.9964993871627285, -0.08360006808793059 L -0.9965509658729373, -0.08298296462356448 L -0.9966021624287225, -0.08236582933713597 M -0.9966021624287225,-0.08236582933713597 Q -0.1991239138801632, 0.018699382905469197 -0.9638437870975053, 0.2664679231606291L -0.9638437870975053, 0.2664679231606291 L -0.9637072330764066, 0.2669613622159892 L -0.9635704264395962, 0.26745473129300706 ",
          "type": "path"
         },
         {
          "fillcolor": "#c45e3a",
          "layer": "below",
          "line": {
           "color": "rgb(175,175,175)",
           "width": 0.5
          },
          "path": "M -0.9674675181064436,0.2529952596570896 Q -0.19971080338057315, -0.010751512130210267 -0.9347143129749709, -0.3553999903203827L -0.9347143129749709, -0.3553999903203827 L -0.9356987118770314, -0.35280011421719276 L -0.9366758793280203, -0.35019751153467643 M -0.9366758793280203,-0.35019751153467643 Q -0.1997138495179988, -0.01069477960044673 -0.9687183753569582, 0.24816266690575245L -0.9687183753569582, 0.24816266690575245 L -0.9680959621854865, 0.2505797437945793 L -0.9674675181064436, 0.2529952596570896 ",
          "type": "path"
         },
         {
          "fillcolor": "#c45e3a",
          "layer": "below",
          "line": {
           "color": "rgb(175,175,175)",
           "width": 0.5
          },
          "path": "M -0.9650278536914979,0.26214736618852547 Q -0.19851986986299874, -0.024287059714548677 -0.8733695223715922, -0.48705818686520097L -0.8733695223715922, -0.48705818686520097 L -0.8747992478897543, -0.4844855786207886 L -0.8762213955222101, -0.4819087735548198 M -0.8762213955222101,-0.4819087735548198 Q -0.1985353552102514, -0.02416014758935274 -0.9662255452292275, 0.25769787687616263L -0.9662255452292275, 0.25769787687616263 L -0.9656292622945407, 0.2599233113833791 L -0.9650278536914979, 0.26214736618852547 ",
          "type": "path"
         },
         {
          "fillcolor": "#c45e3a",
          "layer": "below",
          "line": {
           "color": "rgb(175,175,175)",
           "width": 0.5
          },
          "path": "M -0.9724753095371588,0.23300594915282138 Q -0.18911926452200017, -0.06506845462017467 -0.6232419193614158, -0.7820290978925902L -0.6232419193614158, -0.7820290978925902 L -0.6261259242231131, -0.7797219549401905 L -0.6290013884813593, -0.7774041762741708 M -0.6290013884813593,-0.7774041762741708 Q -0.18917628098452424, -0.06490250159172858 -0.9737721325687728, 0.22752545754808268L -0.9737721325687728, 0.22752545754808268 L -0.9731275792120105, 0.23026661628853673 L -0.9724753095371588, 0.23300594915282138 ",
          "type": "path"
         },
         {
          "fillcolor": "#c45e3a",
          "layer": "below",
          "line": {
           "color": "rgb(175,175,175)",
           "width": 0.5
          },
          "path": "M -0.9633304070765226,0.2683179584034235 Q -0.16717445144212495, -0.10978480215869867 -0.1365688064913893, -0.9906305876024207L -0.1365688064913893, -0.9906305876024207 L -0.1369667570638115, -0.9905756444913346 L -0.1373646855320714, -0.9905205415177795 M -0.1373646855320714,-0.9905205415177795 Q -0.1671693724273511, -0.10979253582209306 -0.9635704264395962, 0.26745473129300706L -0.9635704264395962, 0.26745473129300706 L -0.9634505134367511, 0.267886371729621 L -0.9633304070765226, 0.2683179584034235 ",
          "type": "path"
         },
         {
          "fillcolor": "#c45e3a",
          "layer": "below",
          "line": {
           "color": "rgb(175,175,175)",
           "width": 0.5
          },
          "path": "M -0.9699450935050956,0.2433238902890371 Q -0.16023644477829213, -0.11968409152771031 -0.04193647544001467, -0.9991202790593678L -0.04193647544001467, -0.9991202790593678 L -0.04532666255080747, -0.9989722186637651 L -0.04871632771191327, -0.998812654812836 M -0.04871632771191327,-0.998812654812836 Q -0.16033614496661655, -0.1195504940066921 -0.9711781584788626, 0.23835474506207197L -0.9711781584788626, 0.23835474506207197 L -0.9705648061563256, 0.2408401068151527 L -0.9699450935050956, 0.2433238902890371 ",
          "type": "path"
         },
         {
          "fillcolor": "#c45e3a",
          "layer": "below",
          "line": {
           "color": "rgb(175,175,175)",
           "width": 0.5
          },
          "path": "M -0.9662255452292275,0.25769787687616263 Q -0.11106461076130308, -0.16632694380779156 0.6083122635443285, -0.7936977951472307L 0.6083122635443285, -0.7936977951472307 L 0.6058036623508325, -0.7956141795382473 L 0.603289023954857, -0.7975226351493706 M 0.603289023954857,-0.7975226351493706 Q -0.11118515291670523, -0.16624638874540668 -0.9674675181064436, 0.2529952596570896L -0.9674675181064436, 0.2529952596570896 L -0.9668493907792983, 0.25534732336505855 L -0.9662255452292275, 0.25769787687616263 ",
          "type": "path"
         },
         {
          "fillcolor": "#c45e3a",
          "layer": "below",
          "line": {
           "color": "rgb(175,175,175)",
           "width": 0.5
          },
          "path": "M -0.963296055462351,0.26844125899472915 Q -0.07175376388104007, -0.18668528964249956 0.8951081539890104, -0.44584906937481206L 0.8951081539890104, -0.44584906937481206 L 0.895076248792756, -0.44591311804777434 L 0.8950443390135554, -0.44597716443758384 M 0.8950443390135554,-0.44597716443758384 Q -0.07175517469882917, -0.186684747378945 -0.9633304070765226, 0.2683179584034235L -0.9633304070765226, 0.2683179584034235 L -0.9633132332421902, 0.2683796092486863 L -0.963296055462351, 0.26844125899472915 ",
          "type": "path"
         },
         {
          "fillcolor": "#c45e3a",
          "layer": "below",
          "line": {
           "color": "rgb(175,175,175)",
           "width": 0.5
          },
          "path": "M -0.9711781584788626,0.23835474506207197 Q -0.05067089100756063, -0.1934747032676363 0.9633372205494766, -0.2682934950832935L 0.9633372205494766, -0.2682934950832935 L 0.9624923941131581, -0.2713086642079848 L 0.9616381304614785, -0.27432117315758264 M 0.9616381304614785,-0.27432117315758264 Q -0.05074428573564465, -0.19345546636158736 -0.9724753095371588, 0.23300594915282138L -0.9724753095371588, 0.23300594915282138 L -0.9718304138773886, 0.23568123952258835 L -0.9711781584788626, 0.23835474506207197 ",
          "type": "path"
         },
         {
          "fillcolor": "#c45e3a",
          "layer": "below",
          "line": {
           "color": "rgb(175,175,175)",
           "width": 0.5
          },
          "path": "M -0.964522766716825,0.2639996827364025 Q -0.03843652461299898, -0.19627183592067998 0.9928558652217128, -0.11931986798033334L 0.9928558652217128, -0.11931986798033334 L 0.9927352401067592, -0.12031933780641887 L 0.9926136088642181, -0.12131868569001644 M 0.9926136088642181,-0.12131868569001644 Q -0.0384457002578657, -0.19627003880287575 -0.9650278536914979, 0.26214736618852547L -0.9650278536914979, 0.26214736618852547 L -0.9647757547475394, 0.26307364567990393 L -0.964522766716825, 0.2639996827364025 ",
          "type": "path"
         },
         {
          "fillcolor": "#bf4d28",
          "layer": "below",
          "line": {
           "color": "rgb(175,175,175)",
           "width": 0.5
          },
          "path": "M -0.9996614890521399,0.026017442342749164 Q -0.198747498417521, -0.02234797245339032 -0.9689203902667035, -0.24737274976322482L -0.9689203902667035, -0.24737274976322482 L -0.973313020255193, -0.2294815125488637 L -0.9773753160122877, -0.2115123912442977 M -0.9773753160122877,-0.2115123912442977 Q -0.19874767882895125, -0.022346367939870077 -0.9999415815718006, -0.010808952016089364L -0.9999415815718006, -0.010808952016089364 L -0.9999710775030152, 0.007605534659635615 L -0.9996614890521399, 0.026017442342749164 ",
          "type": "path"
         },
         {
          "fillcolor": "#bf4d28",
          "layer": "below",
          "line": {
           "color": "rgb(175,175,175)",
           "width": 0.5
          },
          "path": "M -0.9885195171246431,0.15109323037006772 Q -0.19921201811475814, -0.017736173167999917 -0.9462789223504553, -0.3233515132410254L -0.9462789223504553, -0.3233515132410254 L -0.9466241187960581, -0.32233953793102466 L -0.9469682330092692, -0.3213271941048599 M -0.9469682330092692,-0.3213271941048599 Q -0.1992103968377884, -0.01775437387605854 -0.9888675698068621, 0.14879828421144803L -0.9888675698068621, 0.14879828421144803 L -0.9886942093414596, 0.1499458582778004 L -0.9885195171246431, 0.15109323037006772 ",
          "type": "path"
         },
         {
          "fillcolor": "#bf4d28",
          "layer": "below",
          "line": {
           "color": "rgb(175,175,175)",
           "width": 0.5
          },
          "path": "M -0.9881661383797903,0.15338736245067017 Q -0.19720468559463034, -0.03332134420342312 -0.8829111251262076, -0.4695401421906056L -0.8829111251262076, -0.4695401421906056 L -0.8834862740810987, -0.4684570455338438 L -0.8840600943656748, -0.46737324436702005 M -0.8840600943656748,-0.46737324436702005 Q -0.19720687568497583, -0.03330838006524022 -0.9885195171246431, 0.15109323037006772L -0.9885195171246431, 0.15109323037006772 L -0.9883434933917199, 0.1522403989427622 L -0.9881661383797903, 0.15338736245067017 ",
          "type": "path"
         },
         {
          "fillcolor": "#bf4d28",
          "layer": "below",
          "line": {
           "color": "rgb(175,175,175)",
           "width": 0.5
          },
          "path": "M -0.9953839992882995,0.09597236040043311 Q -0.18147491691454828, -0.08406458547365712 -0.5704664403866652, -0.8213209119415914L -0.5704664403866652, -0.8213209119415914 L -0.5766547404777876, -0.8169879499016466 L -0.5828101311031194, -0.8126083626714438 M -0.5828101311031194,-0.8126083626714438 Q -0.18152455839609252, -0.08395733856610509 -0.9966240429781764, 0.08210065138495588L -0.9966240429781764, 0.08210065138495588 L -0.9960281703804024, 0.08903866468376567 L -0.9953839992882995, 0.09597236040043311 ",
          "type": "path"
         },
         {
          "fillcolor": "#bf4d28",
          "layer": "below",
          "line": {
           "color": "rgb(175,175,175)",
           "width": 0.5
          },
          "path": "M -0.9872717111198054,0.15904266227201921 Q -0.1607242738149771, -0.11902818072476902 -0.13577283929095554, -0.9907399942017443L -0.13577283929095554, -0.9907399942017443 L -0.1361708338790283, -0.9906853708421711 L -0.1365688064913893, -0.9906305876024207 M -0.1365688064913893,-0.9906305876024207 Q -0.16070762194244212, -0.11905066253324717 -0.987443410346772, 0.1579731349398894L -0.987443410346772, 0.1579731349398894 L -0.9873577055502065, 0.15850792185449794 L -0.9872717111198054, 0.15904266227201921 ",
          "type": "path"
         },
         {
          "fillcolor": "#bf4d28",
          "layer": "below",
          "line": {
           "color": "rgb(175,175,175)",
           "width": 0.5
          },
          "path": "M -0.994001766939054,0.10936401292033256 Q -0.1467861390203363, -0.13584487252562208 0.03219189434034837, -0.9994817066553944L 0.03219189434034837, -0.9994817066553944 L 0.024814220630741433, -0.9996920798198258 L 0.017435195183183726, -0.9998479954317677 M 0.017435195183183726,-0.9998479954317677 Q -0.1468743039373068, -0.13574954454042057 -0.9953839992882995, 0.09597236040043311L -0.9953839992882995, 0.09597236040043311 L -0.994715419507661, 0.10267051277605505 L -0.994001766939054, 0.10936401292033256 ",
          "type": "path"
         },
         {
          "fillcolor": "#bf4d28",
          "layer": "below",
          "line": {
           "color": "rgb(175,175,175)",
           "width": 0.5
          },
          "path": "M -0.9999415815718006,-0.010808952016089364 Q -0.060183183495401804, -0.19073013507141132 0.8126477212890804, -0.5827552497263883L 0.8126477212890804, -0.5827552497263883 L 0.8000215267296233, -0.5999712966210988 L 0.787030671910215, -0.6169138687633433 M 0.787030671910215,-0.6169138687633433 Q -0.060462600839970515, -0.19064174228029496 -0.998721161269555, -0.05055731433127624L -0.998721161269555, -0.05055731433127624 L -0.9995289755590968, -0.030689200344461362 L -0.9999415815718006, -0.010808952016089364 ",
          "type": "path"
         },
         {
          "fillcolor": "#bf4d28",
          "layer": "below",
          "line": {
           "color": "rgb(175,175,175)",
           "width": 0.5
          },
          "path": "M -0.9879036100596138,0.1550692014269192 Q -0.06012202113168719, -0.1907494235247933 0.8982755017870669, -0.43943272851392523L 0.8982755017870669, -0.43943272851392523 L 0.8979293419731289, -0.4401396333252706 L 0.8975826258551219, -0.4408462654520554 M 0.8975826258551219,-0.4408462654520554 Q -0.06010981427951198, -0.19075327055461613 -0.9881661383797903, 0.15338736245067017L -0.9881661383797903, 0.15338736245067017 L -0.988035232074205, 0.1542283377984474 L -0.9879036100596138, 0.1550692014269192 ",
          "type": "path"
         },
         {
          "fillcolor": "#bf4d28",
          "layer": "below",
          "line": {
           "color": "rgb(175,175,175)",
           "width": 0.5
          },
          "path": "M -0.99884849434461,0.0479758829570203 Q -0.022939434945402473, -0.19868010047406773 0.9835006740679183, -0.18090446127155166L 0.9835006740679183, -0.18090446127155166 L 0.9815774762030142, -0.1910645393863583 L 0.9795493223053029, -0.20120418775766508 M 0.9795493223053029,-0.20120418775766508 Q -0.02281099919704138, -0.19869488749243797 -0.9996614890521399, 0.026017442342749164L -0.9996614890521399, 0.026017442342749164 L -0.9993153064537098, 0.03699889575822514 L -0.99884849434461, 0.0479758829570203 ",
          "type": "path"
         },
         {
          "fillcolor": "#bf4d28",
          "layer": "below",
          "line": {
           "color": "rgb(175,175,175)",
           "width": 0.5
          },
          "path": "M -0.9966240429781764,0.08210065138495588 Q -0.014623053293167008, -0.19946469941417003 0.9979419421879904, -0.06412394265843048L 0.9979419421879904, -0.06412394265843048 L 0.9975316987777938, -0.07021758991512653 L 0.997084246600753, -0.07630861799697859 M 0.997084246600753,-0.07630861799697859 Q -0.014436848430388852, -0.1994782629947383 -0.997681323200483, 0.0680586316122603L -0.997681323200483, 0.0680586316122603 L -0.9971774004519323, 0.07508150256838654 L -0.9966240429781764, 0.08210065138495588 ",
          "type": "path"
         },
         {
          "fillcolor": "#af4624",
          "layer": "below",
          "line": {
           "color": "rgb(175,175,175)",
           "width": 0.5
          },
          "path": "M -0.9963687685917648,-0.08514268597437069 Q -0.19562836623747518, -0.04158776650959137 -0.9448406376727324, -0.32753040988919535L -0.9448406376727324, -0.32753040988919535 L -0.9452135757598957, -0.32645259410700317 L -0.9455852843419013, -0.32537435368517553 M -0.9455852843419013,-0.32537435368517553 Q -0.19562428979964674, -0.041606937406925615 -0.9961548119122138, -0.08761044860141907L -0.9961548119122138, -0.08761044860141907 L -0.996262554339565, -0.08637663353480138 L -0.9963687685917648, -0.08514268597437069 ",
          "type": "path"
         },
         {
          "fillcolor": "#af4624",
          "layer": "below",
          "line": {
           "color": "rgb(175,175,175)",
           "width": 0.5
          },
          "path": "M -0.9961548119122138,-0.08761044860141907 Q -0.19166956636602575, -0.05712072591502713 -0.8816025396867163, -0.4719925444516383L -0.8816025396867163, -0.4719925444516383 L -0.8822576845214193, -0.47076679800396265 L -0.8829111251262076, -0.4695401421906056 M -0.8829111251262076,-0.4695401421906056 Q -0.1916737886464701, -0.05710655606765569 -0.9959207859925601, -0.09023185705703655L -0.9959207859925601, -0.09023185705703655 L -0.9960386613417616, -0.08892122981893388 L -0.9961548119122138, -0.08761044860141907 ",
          "type": "path"
         },
         {
          "fillcolor": "#af4624",
          "layer": "below",
          "line": {
           "color": "rgb(175,175,175)",
           "width": 0.5
          },
          "path": "M -0.9921742287070202,-0.12486112241057844 Q -0.1738272512697281, -0.09891454249002424 -0.6141416697393289, -0.7891957992094161L -0.6141416697393289, -0.7891957992094161 L -0.6187021715218897, -0.7856256251893126 L -0.6232419193614158, -0.7820290978925902 M -0.6232419193614158,-0.7820290978925902 Q -0.17387181215956832, -0.09883619244157373 -0.9907838612923675, -0.13545235399426095L -0.9907838612923675, -0.13545235399426095 L -0.9914931871778645, -0.13015859472151692 L -0.9921742287070202, -0.12486112241057844 ",
          "type": "path"
         },
         {
          "fillcolor": "#af4624",
          "layer": "below",
          "line": {
           "color": "rgb(175,175,175)",
           "width": 0.5
          },
          "path": "M -0.9966403090449051,-0.0819029571314498 Q -0.14536703914009716, -0.13736238179225588 -0.13816047589923516, -0.9904098560188589L -0.13816047589923516, -0.9904098560188589 L -0.13833099082054748, -0.9903860545154125 L -0.13850150164147332, -0.9903622236550912 M -0.13850150164147332,-0.9903622236550912 Q -0.14535878990552972, -0.13737111121775233 -0.9966021624287225, -0.08236582933713597L -0.9966021624287225, -0.08236582933713597 L -0.9966212626089429, -0.08213439544890132 L -0.9966403090449051, -0.0819029571314498 ",
          "type": "path"
         },
         {
          "fillcolor": "#af4624",
          "layer": "below",
          "line": {
           "color": "rgb(175,175,175)",
           "width": 0.5
          },
          "path": "M -0.9892351764356977,-0.14633443102098004 Q -0.13042368456687178, -0.1516234233355821 0.003183707856899201, -0.9999949319892986L 0.003183707856899201, -0.9999949319892986 L -0.003348614653471769, -0.9999943933742341 L -0.009880794274311886, -0.9999511837607418 M -0.009880794274311886,-0.9999511837607418 Q -0.1305103921864383, -0.1515487958755927 -0.9874205288127762, -0.15811609430762383L -0.9874205288127762, -0.15811609430762383 L -0.988345408331665, -0.15222796664776972 L -0.9892351764356977, -0.14633443102098004 ",
          "type": "path"
         },
         {
          "fillcolor": "#af4624",
          "layer": "below",
          "line": {
           "color": "rgb(175,175,175)",
           "width": 0.5
          },
          "path": "M -0.9689203902667035,-0.24737274976322482 Q -0.03245166464314613, -0.19734966293837136 0.8386886013277681, -0.5446112650348613L 0.8386886013277681, -0.5446112650348613 L 0.8258884025644573, -0.5638336159803963 L 0.8126477212890804, -0.5827552497263883 M 0.8126477212890804,-0.5827552497263883 Q -0.032762574709518634, -0.1972982861010283 -0.9573799666905184, -0.28883143765812924L -0.9573799666905184, -0.28883143765812924 L -0.9633732257042812, -0.26816418104610484 L -0.9689203902667035, -0.24737274976322482 ",
          "type": "path"
         },
         {
          "fillcolor": "#af4624",
          "layer": "below",
          "line": {
           "color": "rgb(175,175,175)",
           "width": 0.5
          },
          "path": "M -0.9964993871627285,-0.08360006808793059 Q -0.03706877003607128, -0.1965347457525332 0.8975826258551219, -0.4408462654520554L 0.8975826258551219, -0.4408462654520554 L 0.8972669468217527, -0.4414884212990983 L 0.896950808372108, -0.4421303510963954 M 0.896950808372108,-0.4421303510963954 Q -0.03705726971371629, -0.1965369145004696 -0.9963687685917648, -0.08514268597437069L -0.9963687685917648, -0.08514268597437069 L -0.9964343764004555, -0.08437140230810027 L -0.9964993871627285, -0.08360006808793059 ",
          "type": "path"
         },
         {
          "fillcolor": "#af4624",
          "layer": "below",
          "line": {
           "color": "rgb(175,175,175)",
           "width": 0.5
          },
          "path": "M -0.9849080813371187,-0.17307822311554832 Q -0.0028631908518480633, -0.19997950429517997 0.9795493223053029, -0.20120418775766508L 0.9795493223053029, -0.20120418775766508 L 0.977677287174203, -0.21011216562515153 L 0.975724245041641, -0.21900273431608033 M 0.975724245041641,-0.21900273431608033 Q -0.002748547628025311, -0.19998111282302755 -0.9813745149275899, -0.19210429836585555L -0.9813745149275899, -0.19210429836585555 L -0.983187321916952, -0.18259980838372125 L -0.9849080813371187, -0.17307822311554832 ",
          "type": "path"
         },
         {
          "fillcolor": "#af4624",
          "layer": "below",
          "line": {
           "color": "rgb(175,175,175)",
           "width": 0.5
          },
          "path": "M -0.9874205288127762,-0.15811609430762383 Q 0.010771684953373809, -0.19970971634666468 0.9986990955937755, -0.05099133710911015L 0.9986990955937755, -0.05099133710911015 L 0.9983421130908434, -0.05755888488591235 L 0.9979419421879904, -0.06412394265843048 M 0.9979419421879904,-0.06412394265843048 Q 0.01097311111700236, -0.19969875020243347 -0.9849080813371187, -0.17307822311554832L -0.9849080813371187, -0.17307822311554832 L -0.986192680427395, -0.16560192351367717 L -0.9874205288127762, -0.15811609430762383 ",
          "type": "path"
         },
         {
          "fillcolor": "#9f4021",
          "layer": "below",
          "line": {
           "color": "rgb(175,175,175)",
           "width": 0.5
          },
          "path": "M -0.9217332432069928,-0.3878244813921867 Q -0.1770291633830872, -0.09306274932476595 -0.8420585648572458, -0.5393861078583276L -0.8420585648572458, -0.5393861078583276 L -0.8464836882840556, -0.5324146555730991 L -0.8508510960284085, -0.525406901731654 M -0.8508510960284085,-0.525406901731654 Q -0.17712750860284185, -0.09287543106844882 -0.9160536106475343, -0.40105583454129634L -0.9160536106475343, -0.40105583454129634 L -0.9189172417724403, -0.39445038062262106 L -0.9217332432069928, -0.3878244813921867 ",
          "type": "path"
         },
         {
          "fillcolor": "#9f4021",
          "layer": "below",
          "line": {
           "color": "rgb(175,175,175)",
           "width": 0.5
          },
          "path": "M -0.9263113880738122,-0.37675882514516806 Q -0.1570799980584657, -0.12379771488178777 -0.5828101311031194, -0.8126083626714438L -0.5828101311031194, -0.8126083626714438 L -0.5885251607794418, -0.8084789020930182 L -0.5942109325107002, -0.8043092487872834 M -0.5942109325107002,-0.8043092487872834 Q -0.157211523285176, -0.12363064727790825 -0.9217332432069928, -0.3878244813921867L -0.9217332432069928, -0.3878244813921867 L -0.9240388801281556, -0.3822985064207079 L -0.9263113880738122, -0.37675882514516806 ",
          "type": "path"
         },
         {
          "fillcolor": "#9f4021",
          "layer": "below",
          "line": {
           "color": "rgb(175,175,175)",
           "width": 0.5
          },
          "path": "M -0.9415250579531523,-0.33694297031740134 Q -0.12482764491758908, -0.15626278848250566 -0.12063339584710843, -0.9926971259182706L -0.12063339584710843, -0.9926971259182706 L -0.12217144729414879, -0.9925090112770025 L -0.12370920540884353, -0.9923185136321465 M -0.12370920540884353,-0.9923185136321465 Q -0.12476902152058347, -0.15630960069297145 -0.9402211146627302, -0.3405646128745222L -0.9402211146627302, -0.3405646128745222 L -0.9408748288759422, -0.33875441899356307 L -0.9415250579531523, -0.33694297031740134 ",
          "type": "path"
         },
         {
          "fillcolor": "#9f4021",
          "layer": "below",
          "line": {
           "color": "rgb(175,175,175)",
           "width": 0.5
          },
          "path": "M -0.9087615153201776,-0.41731583755349466 Q -0.10010281938019444, -0.17314567725512575 0.09179225964229552, -0.9957781786471128L 0.09179225964229552, -0.9957781786471128 L 0.07945184122847361, -0.9968387055714708 L 0.067099234056523, -0.9977463068280573 M 0.067099234056523,-0.9977463068280573 Q -0.10044524443423564, -0.17294725459094937 -0.8998791320266655, -0.43613936733908254L -0.8998791320266655, -0.43613936733908254 L -0.9043692990848369, -0.42675071279706256 L -0.9087615153201776, -0.41731583755349466 ",
          "type": "path"
         },
         {
          "fillcolor": "#9f4021",
          "layer": "below",
          "line": {
           "color": "rgb(175,175,175)",
           "width": 0.5
          },
          "path": "M -0.9402211146627302,-0.3405646128745222 Q -0.05737956475137013, -0.19159223770534997 0.5982417358549948, -0.8013156840354508L 0.5982417358549948, -0.8013156840354508 L 0.5959760058628728, -0.8030022418622111 L 0.5937055211683956, -0.8046823933292959 M 0.5937055211683956,-0.8046823933292959 Q -0.05745637865598388, -0.19156921608583202 -0.9385592978167676, -0.3451180152957769L -0.9385592978167676, -0.3451180152957769 L -0.9393929651362951, -0.34284232097633366 L -0.9402211146627302, -0.3405646128745222 ",
          "type": "path"
         },
         {
          "fillcolor": "#9f4021",
          "layer": "below",
          "line": {
           "color": "rgb(175,175,175)",
           "width": 0.5
          },
          "path": "M -0.9477442164916802,-0.31903118986483336 Q -0.013502296805681439, -0.19954369942689568 0.896126699497109, -0.44379830829828343L 0.896126699497109, -0.44379830829828343 L 0.8959360799428285, -0.4441830035657347 L 0.895745295243998, -0.44456761695859354 M 0.895745295243998,-0.44456761695859354 Q -0.013502624054977744, -0.19954367728301978 -0.9474709753951317, -0.3198417589743368L -0.9474709753951317, -0.3198417589743368 L -0.9476076826119613, -0.3194365036353682 L -0.9477442164916802, -0.31903118986483336 ",
          "type": "path"
         },
         {
          "fillcolor": "#9f4021",
          "layer": "below",
          "line": {
           "color": "rgb(175,175,175)",
           "width": 0.5
          },
          "path": "M -0.9462789223504553,-0.3233515132410254 Q 0.0037547267312401295, -0.1999647519618738 0.9577507176012061, -0.2875996573961358L 0.9577507176012061, -0.2875996573961358 L 0.9574359980611478, -0.2886456471465556 L 0.9571201361630809, -0.28969129250145825 M 0.9571201361630809,-0.28969129250145825 Q 0.00375011154764426, -0.19996483856763475 -0.9455852843419013, -0.32537435368517553L -0.9455852843419013, -0.32537435368517553 L -0.9459326440671083, -0.32436311887791663 L -0.9462789223504553, -0.3233515132410254 ",
          "type": "path"
         },
         {
          "fillcolor": "#9f4021",
          "layer": "below",
          "line": {
           "color": "rgb(175,175,175)",
           "width": 0.5
          },
          "path": "M -0.9439499849281061,-0.330088512302728 Q 0.022437295624084835, -0.1987374342318966 0.9937846310920959, -0.11131984102192559L 0.9937846310920959, -0.11131984102192559 L 0.9935964519663515, -0.11298712599175924 L 0.9934054756176451, -0.11465409287452474 M 0.9934054756176451,-0.11465409287452474 Q 0.022458000061190808, -0.19873509562543692 -0.9427675225471855, -0.3334507436342614L -0.9427675225471855, -0.3334507436342614 L -0.9433602516553928, -0.3317701547708501 L -0.9439499849281061, -0.330088512302728 ",
          "type": "path"
         },
         {
          "fillcolor": "#8f391e",
          "layer": "below",
          "line": {
           "color": "rgb(175,175,175)",
           "width": 0.5
          },
          "path": "M -0.8102119054653392,-0.5861370729123218 Q -0.12107257129462896, -0.15918992581224162 -0.34846202030733436, -0.9373229008209129L -0.34846202030733436, -0.9373229008209129 L -0.3795753836370708, -0.9251608120412205 L -0.41026515686389553, -0.9119662828544941 M -0.41026515686389553,-0.9119662828544941 Q -0.12121082679802922, -0.1590846801767479 -0.7703794671768813, -0.6375856621288346L -0.7703794671768813, -0.6375856621288346 L -0.7907142411458434, -0.6121854203173683 L -0.8102119054653392, -0.5861370729123218 ",
          "type": "path"
         },
         {
          "fillcolor": "#8f391e",
          "layer": "below",
          "line": {
           "color": "rgb(175,175,175)",
           "width": 0.5
          },
          "path": "M -0.8733695223715922,-0.48705818686520097 Q -0.11025142389581254, -0.16686708341954642 -0.10546584082757429, -0.994422926333928L -0.10546584082757429, -0.994422926333928 L -0.10843297026731102, -0.9941037626721912 L -0.11139913403309872, -0.9937757457981532 M -0.11139913403309872,-0.9937757457981532 Q -0.11003990750342188, -0.16700664285182898 -0.8691967507279381, -0.49446638765844797L -0.8691967507279381, -0.49446638765844797 L -0.8712910101658027, -0.4907667221850469 L -0.8733695223715922, -0.48705818686520097 ",
          "type": "path"
         },
         {
          "fillcolor": "#8f391e",
          "layer": "below",
          "line": {
           "color": "rgb(175,175,175)",
           "width": 0.5
          },
          "path": "M -0.7703794671768813,-0.6375856621288346 Q -0.049884124674723584, -0.19367904921657542 0.3665258490774123, -0.9304078686028413L 0.3665258490774123, -0.9304078686028413 L 0.3331489418903241, -0.9428742135180903 L 0.2993491262118655, -0.9541436477995295 M 0.2993491262118655,-0.9541436477995295 Q -0.05013461908465067, -0.19361435889219836 -0.7248119492730508, -0.6889467600555216L -0.7248119492730508, -0.6889467600555216 L -0.7480366525454799, -0.6636574164797323 L -0.7703794671768813, -0.6375856621288346 ",
          "type": "path"
         },
         {
          "fillcolor": "#8f391e",
          "layer": "below",
          "line": {
           "color": "rgb(175,175,175)",
           "width": 0.5
          },
          "path": "M -0.8691967507279381,-0.49446638765844797 Q -0.038737637246614276, -0.19621262818827367 0.6160633786889982, -0.7876965871693846L 0.6160633786889982, -0.7876965871693846 L 0.6121951747178886, -0.7907066890144119 L 0.6083122635443285, -0.7936977951472307 M 0.6083122635443285,-0.7936977951472307 Q -0.038752907206320186, -0.19620961287118005 -0.8643861815322151, -0.5028285286021036L -0.8643861815322151, -0.5028285286021036 L -0.8668015500137378, -0.49865325918295333 L -0.8691967507279381, -0.49446638765844797 ",
          "type": "path"
         },
         {
          "fillcolor": "#8f391e",
          "layer": "below",
          "line": {
           "color": "rgb(175,175,175)",
           "width": 0.5
          },
          "path": "M -0.8786528503893298,-0.47746116962817614 Q 0.0052664470448865065, -0.19993064931501475 0.9025708786037597, -0.43054129778272976L 0.9025708786037597, -0.43054129778272976 L 0.9016136247583668, -0.432542335095744 L 0.9006519345364293, -0.43454124409057815 M 0.9006519345364293,-0.43454124409057815 Q 0.0053296661096837354, -0.19992897403617937 -0.8762213955222101, -0.4819087735548198L -0.8762213955222101, -0.4819087735548198 L -0.8774399409851772, -0.4796865121763679 L -0.8786528503893298, -0.47746116962817614 ",
          "type": "path"
         },
         {
          "fillcolor": "#8f391e",
          "layer": "below",
          "line": {
           "color": "rgb(175,175,175)",
           "width": 0.5
          },
          "path": "M -0.8857356274048973,-0.46419004550469734 Q 0.018142947245841052, -0.19917538368291055 0.955028419446582, -0.29651427967192967L 0.955028419446582, -0.29651427967192967 L 0.9549636195024459, -0.2967229101818525 L 0.9548987739819812, -0.29693152653046 M 0.9548987739819812,-0.29693152653046 Q 0.018148286057170594, -0.19917489729679067 -0.8855078200510226, -0.46462447269648394L -0.8855078200510226, -0.46462447269648394 L -0.8856217503656001, -0.46440727306898494 L -0.8857356274048973, -0.46419004550469734 ",
          "type": "path"
         },
         {
          "fillcolor": "#8f391e",
          "layer": "below",
          "line": {
           "color": "rgb(175,175,175)",
           "width": 0.5
          },
          "path": "M -0.8855078200510226,-0.46462447269648394 Q 0.035447465991793756, -0.19683362810952967 0.9919649124368582, -0.12651328979255982L 0.9919649124368582, -0.12651328979255982 L 0.9919309130140529, -0.12677958750172466 L 0.9918968421023595, -0.12704587607383006 M 0.9918968421023595,-0.12704587607383006 Q 0.035458993101152546, -0.196831551861617 -0.8852037454740215, -0.46520353502393313L -0.8852037454740215, -0.46520353502393313 L -0.8853558301041073, -0.46491402872000653 L -0.8855078200510226, -0.46462447269648394 ",
          "type": "path"
         },
         {
          "fillcolor": "#f0f3e7",
          "layer": "below",
          "line": {
           "color": "rgb(175,175,175)",
           "width": 0.5
          },
          "path": "M -0.6042904383637336,-0.796764121997324 Q -0.07227659290644353, -0.18648349556418187 -0.09050232655847924, -0.9958962440372503L -0.09050232655847924, -0.9958962440372503 L -0.09478801376284615, -0.9954974798797305 L -0.09907194491236879, -0.9950802730088063 M -0.09907194491236879,-0.9950802730088063 Q -0.07190512720317926, -0.18662704166838903 -0.5942109325107002, -0.8043092487872834L -0.5942109325107002, -0.8043092487872834 L -0.5992625603452496, -0.8005525490362616 L -0.6042904383637336, -0.796764121997324 ",
          "type": "path"
         },
         {
          "fillcolor": "#f0f3e7",
          "layer": "below",
          "line": {
           "color": "rgb(175,175,175)",
           "width": 0.5
          },
          "path": "M -0.34846202030733436,-0.9373229008209129 Q 0.011260195916769132, -0.19968276838003818 0.45162989518100427, -0.8922053786986465L 0.45162989518100427, -0.8922053786986465 L 0.40952358054754423, -0.9122995324867371 L 0.3665258490774123, -0.9304078686028413 M 0.3665258490774123,-0.9304078686028413 Q 0.011161675936849103, -0.19968829958282674 -0.2605554422785165, -0.965458886488206L -0.2605554422785165, -0.965458886488206 L -0.30483352154248816, -0.9524056510458164 L -0.34846202030733436, -0.9373229008209129 ",
          "type": "path"
         },
         {
          "fillcolor": "#f0f3e7",
          "layer": "below",
          "line": {
           "color": "rgb(175,175,175)",
           "width": 0.5
          },
          "path": "M -0.5165156888714496,-0.8562777254779268 Q 0.028628708790428337, -0.19794038757412002 0.737965575891041, -0.6748383575344575L 0.737965575891041, -0.6748383575344575 L 0.7262522102429234, -0.6874283432600583 L 0.7143240840632213, -0.6998150490859996 M 0.7143240840632213,-0.6998150490859996 Q 0.02866410196428114, -0.19793526532323968 -0.48645373797278146, -0.8737063355683696L -0.48645373797278146, -0.8737063355683696 L -0.5015604219916904, -0.8651226173736978 L -0.5165156888714496, -0.8562777254779268 ",
          "type": "path"
         },
         {
          "fillcolor": "#f0f3e7",
          "layer": "below",
          "line": {
           "color": "rgb(175,175,175)",
           "width": 0.5
          },
          "path": "M -0.5704664403866652,-0.8213209119415914 Q 0.05478854354720504, -0.19234920196344985 0.9176214357753348, -0.39745553286576973L 0.9176214357753348, -0.39745553286576973 L 0.9148984470227401, -0.4036840740422866 L 0.9121331813683119, -0.4098939612228048 M 0.9121331813683119,-0.4098939612228048 Q 0.05501478358370281, -0.19228461609613587 -0.5572957698853299, -0.8303140519513791L -0.5572957698853299, -0.8303140519513791 L -0.5638990334015508, -0.8258437383239016 L -0.5704664403866652, -0.8213209119415914 ",
          "type": "path"
         },
         {
          "fillcolor": "#f0f3e7",
          "layer": "below",
          "line": {
           "color": "rgb(175,175,175)",
           "width": 0.5
          },
          "path": "M -0.6380933232371653,-0.7699590319232255 Q 0.05870226560815911, -0.19119111907321729 0.9602273042591671, -0.2792194910015646L 0.9602273042591671, -0.2792194910015646 L 0.9595535444646197, -0.28152618937744506 L 0.9588742434309966, -0.28383126199316727 M 0.9588742434309966,-0.28383126199316727 Q 0.05877240686607776, -0.19116956920798933 -0.6338180275786695, -0.773482196250363L -0.6338180275786695, -0.773482196250363 L -0.6359581151736797, -0.7717235746980525 L -0.6380933232371653, -0.7699590319232255 ",
          "type": "path"
         },
         {
          "fillcolor": "#f0f3e7",
          "layer": "below",
          "line": {
           "color": "rgb(175,175,175)",
           "width": 0.5
          },
          "path": "M -0.6338180275786695,-0.773482196250363 Q 0.07582789578478966, -0.18506790705265752 0.9943252422439548, -0.10638285875318693L 0.9943252422439548, -0.10638285875318693 L 0.994058001608836, -0.10885168550577236 L 0.9937846310920959, -0.11131984102192559 M 0.9937846310920959,-0.11131984102192559 Q 0.07594308103823738, -0.1850206703112377 -0.6290013884813593, -0.7774041762741708L -0.6290013884813593, -0.7774041762741708 L -0.6314127531784375, -0.7754469260520837 L -0.6338180275786695, -0.773482196250363 ",
          "type": "path"
         },
         {
          "fillcolor": "#e2ecde",
          "layer": "below",
          "line": {
           "color": "rgb(175,175,175)",
           "width": 0.5
          },
          "path": "M -0.09050232655847924,-0.9958962440372503 Q -0.010046498635988506, -0.1997475102852526 -0.009880794274311886, -0.9999511837607418L -0.009880794274311886, -0.9999511837607418 L -0.01624290387103698, -0.9998680753348594 L -0.022604355900672238, -0.9997444889041979 M -0.022604355900672238,-0.9997444889041979 Q -0.010457649513798515, -0.1997264067834961 -0.08192600160502773, -0.9966384150036627L -0.08192600160502773, -0.9966384150036627 L -0.08621496269645634, -0.9962765580938099 L -0.09050232655847924, -0.9958962440372503 ",
          "type": "path"
         },
         {
          "fillcolor": "#e2ecde",
          "layer": "below",
          "line": {
           "color": "rgb(175,175,175)",
           "width": 0.5
          },
          "path": "M -0.13418064246618466,-0.9909568886623484 Q 0.04958440296684685, -0.19375599857145417 0.5937055211683956, -0.8046823933292959L 0.5937055211683956, -0.8046823933292959 L 0.5923677281801931, -0.8056677197273308 L 0.5910282999264072, -0.8066508220327435 M 0.5910282999264072,-0.8066508220327435 Q 0.04948486286650983, -0.1937814447956324 -0.13190547556913676, -0.9912622990484808L -0.13190547556913676, -0.9912622990484808 L -0.13304314665420708, -0.9911102467073717 L -0.13418064246618466, -0.9909568886623484 ",
          "type": "path"
         },
         {
          "fillcolor": "#e2ecde",
          "layer": "below",
          "line": {
           "color": "rgb(175,175,175)",
           "width": 0.5
          },
          "path": "M -0.13816047589923516,-0.9904098560188589 Q 0.09361480567582867, -0.17673785151539226 0.896950808372108, -0.4421303510963954L 0.896950808372108, -0.4421303510963954 L 0.8967292381913444, -0.44257956727889175 L 0.8965074430315065, -0.44302867242325306 M 0.8965074430315065,-0.44302867242325306 Q 0.0935972795004461, -0.1767471336970288 -0.1373646855320714, -0.9905205415177795L -0.1373646855320714, -0.9905205415177795 L -0.13776259183195083, -0.9904652786906482 L -0.13816047589923516, -0.9904098560188589 ",
          "type": "path"
         },
         {
          "fillcolor": "#e2ecde",
          "layer": "below",
          "line": {
           "color": "rgb(175,175,175)",
           "width": 0.5
          },
          "path": "M -0.13577283929095554,-0.9907399942017443 Q 0.10798521492476663, -0.16834248827212922 0.9571201361630809, -0.28969129250145825L 0.9571201361630809, -0.28969129250145825 L 0.9568243013965476, -0.29066691634413544 L 0.9565274721450211, -0.29164223807921896 M 0.9565274721450211,-0.29164223807921896 Q 0.10794884384758541, -0.16836581337067696 -0.13418064246618466, -0.9909568886623484L -0.13418064246618466, -0.9909568886623484 L -0.13497678444459366, -0.9908487612451244 L -0.13577283929095554, -0.9907399942017443 ",
          "type": "path"
         },
         {
          "fillcolor": "#e2ecde",
          "layer": "below",
          "line": {
           "color": "rgb(175,175,175)",
           "width": 0.5
          },
          "path": "M -0.13872884301559252,-0.9903304035096343 Q 0.12134162187923273, -0.1589849389084303 0.991845601698527, -0.12744529175802075L 0.991845601698527, -0.12744529175802075 L 0.9918284858221356, -0.12757842573009692 L 0.9918113520753674, -0.12771155740351595 M 0.9918113520753674,-0.12771155740351595 Q 0.121338529446825, -0.15898729908921025 -0.13850150164147332, -0.9903622236550912L -0.13850150164147332, -0.9903622236550912 L -0.13861517324160186, -0.990346320105851 L -0.13872884301559252, -0.9903304035096343 ",
          "type": "path"
         },
         {
          "fillcolor": "#d4e5d6",
          "layer": "below",
          "line": {
           "color": "rgb(175,175,175)",
           "width": 0.5
          },
          "path": "M 0.160450875568559,-0.9870438270559635 Q 0.09842690583184094, -0.17410383168778887 0.7629942701438963, -0.6464052472927359L 0.7629942701438963, -0.6464052472927359 L 0.7506145650677251, -0.6607403232043507 L 0.737965575891041, -0.6748383575344575 M 0.737965575891041,-0.6748383575344575 Q 0.09849679645595782, -0.1740643015897103 0.19850509012439377, -0.9800998567466003L 0.19850509012439377, -0.9800998567466003 L 0.17951156232274956, -0.9837558635110876 L 0.160450875568559, -0.9870438270559635 ",
          "type": "path"
         },
         {
          "fillcolor": "#d4e5d6",
          "layer": "below",
          "line": {
           "color": "rgb(175,175,175)",
           "width": 0.5
          },
          "path": "M 0.03219189434034837,-0.9994817066553944 Q 0.11357526690810504, -0.16462277712015644 0.9229400812237994, -0.38494364064185616L 0.9229400812237994, -0.38494364064185616 L 0.9203020217984389, -0.3912086255103607 L 0.9176214357753348, -0.39745553286576973 M 0.9176214357753348,-0.39745553286576973 Q 0.11378286638949396, -0.16447935832860783 0.048297407227258685, -0.9988329992822246L 0.048297407227258685, -0.9988329992822246 L 0.04024595783459918, -0.9991898032295844 L 0.03219189434034837, -0.9994817066553944 ",
          "type": "path"
         },
         {
          "fillcolor": "#d4e5d6",
          "layer": "below",
          "line": {
           "color": "rgb(175,175,175)",
           "width": 0.5
          },
          "path": "M -0.05058040692707293,-0.9987199920073152 Q 0.11475473484350372, -0.16380278029080322 0.9559308314220708, -0.29359197117208174L 0.9559308314220708, -0.29359197117208174 L 0.9556953493788177, -0.2943576042430355 L 0.9554592541176653, -0.29512304844067105 M 0.9554592541176653,-0.29512304844067105 Q 0.11477638244443329, -0.16378761257485008 -0.04871632771191327, -0.998812654812836L -0.04871632771191327, -0.998812654812836 L -0.04964838893750926, -0.998766758295404 L -0.05058040692707293, -0.9987199920073152 ",
          "type": "path"
         },
         {
          "fillcolor": "#d4e5d6",
          "layer": "below",
          "line": {
           "color": "rgb(175,175,175)",
           "width": 0.5
          },
          "path": "M -0.03278066862007945,-0.9994625694666212 Q 0.13273375030574466, -0.14960531918943334 0.9962539184211741, -0.08647618186793814L 0.9962539184211741, -0.08647618186793814 L 0.9958976117085473, -0.0904872753110157 L 0.995525155694449, -0.09449690142826375 M 0.995525155694449,-0.09449690142826375 Q 0.13289274161151027, -0.14946410681824707 -0.022604355900672238, -0.9997444889041979L -0.022604355900672238, -0.9997444889041979 L -0.027692871012833103, -0.9996164789033175 L -0.03278066862007945, -0.9994625694666212 ",
          "type": "path"
         },
         {
          "fillcolor": "#c6decd",
          "layer": "below",
          "line": {
           "color": "rgb(175,175,175)",
           "width": 0.5
          },
          "path": "M 0.6160633786889982,-0.7876965871693846 Q 0.15742044182199233, -0.12336451879113673 0.9121331813683119, -0.4098939612228048L 0.9121331813683119, -0.4098939612228048 L 0.9098906152789568, -0.41484824722696056 L 0.9076211400367983, -0.4197902644872824 M 0.9076211400367983,-0.4197902644872824 Q 0.15752838260972113, -0.12322665568928387 0.6259605170838494, -0.7798547499708647L 0.6259605170838494, -0.7798547499708647 L 0.6210243256269056, -0.783791290446409 L 0.6160633786889982, -0.7876965871693846 ",
          "type": "path"
         },
         {
          "fillcolor": "#c6decd",
          "layer": "below",
          "line": {
           "color": "rgb(175,175,175)",
           "width": 0.5
          },
          "path": "M 0.69618605703642,-0.7178613891191549 Q 0.1773896204899107, -0.0923738195726769 0.9873104360834418, -0.1588020868903299L 0.9873104360834418, -0.1588020868903299 L 0.9854675218962475, -0.1698639552337956 L 0.9835006740679183, -0.18090446127155166 M 0.9835006740679183,-0.18090446127155166 Q 0.17753526712935086, -0.09209358786207664 0.7143240840632213, -0.6998150490859996L 0.7143240840632213, -0.6998150490859996 L 0.7053127902805826, -0.7088962320866284 L 0.69618605703642, -0.7178613891191549 ",
          "type": "path"
         },
         {
          "fillcolor": "#c6decd",
          "layer": "below",
          "line": {
           "color": "rgb(175,175,175)",
           "width": 0.5
          },
          "path": "M 0.6785692068351764,-0.7345364739310632 Q 0.18194295950529005, -0.08304673073912294 0.9995065603657314, -0.031410759078132795L 0.9995065603657314, -0.031410759078132795 L 0.9991507947432898, -0.041203026149208954 L 0.9986990955937755, -0.05099133710911015 M 0.9986990955937755,-0.05099133710911015 Q 0.18213597521835606, -0.08262255461590616 0.69618605703642, -0.7178613891191549L 0.69618605703642, -0.7178613891191549 L 0.6874281951586195, -0.7262523504271521 L 0.6785692068351764, -0.7345364739310632 ",
          "type": "path"
         },
         {
          "fillcolor": "#b8d7c5",
          "layer": "below",
          "line": {
           "color": "rgb(175,175,175)",
           "width": 0.5
          },
          "path": "M 0.8954269538535875,-0.4452084571439376 Q 0.18566907657491477, -0.0743437556477909 0.955244090058304, -0.2958187424905372L 0.955244090058304, -0.2958187424905372 L 0.9551363180643465, -0.29616653071284665 L 0.955028419446582, -0.29651427967192967 M 0.955028419446582,-0.29651427967192967 Q 0.18566860622278847, -0.0743449303132844 0.895745295243998, -0.44456761695859354L 0.895745295243998, -0.44456761695859354 L 0.8955861818682563, -0.44488806552506943 L 0.8954269538535875, -0.4452084571439376 ",
          "type": "path"
         },
         {
          "fillcolor": "#b8d7c5",
          "layer": "below",
          "line": {
           "color": "rgb(175,175,175)",
           "width": 0.5
          },
          "path": "M 0.8951081539890104,-0.44584906937481206 Q 0.19140964924664902, -0.05798574113758312 0.9920495982139185, -0.12584750567096245L 0.9920495982139185, -0.12584750567096245 L 0.9920073111803835, -0.12618040483635182 L 0.9919649124368582, -0.12651328979255982 M 0.9919649124368582,-0.12651328979255982 Q 0.1914109366424096, -0.05798149130261705 0.8954269538535875, -0.4452084571439376L 0.8954269538535875, -0.4452084571439376 L 0.8952676112203733, -0.44552879177418653 L 0.8951081539890104, -0.44584906937481206 ",
          "type": "path"
         },
         {
          "fillcolor": "#aad0bc",
          "layer": "below",
          "line": {
           "color": "rgb(175,175,175)",
           "width": 0.5
          },
          "path": "M 0.9633372205494766,-0.2682934950832935 Q 0.19665571603770104, -0.03642155062183796 0.995525155694449, -0.09449690142826375L 0.995525155694449, -0.09449690142826375 L 0.9952221225496064, -0.09763670819858837 L 0.9949091867300328, -0.10077554346261186 M 0.9949091867300328,-0.10077554346261186 Q 0.19666547637185378, -0.03636881086084374 0.9651511459406235, -0.26169307497429367L 0.9651511459406235, -0.26169307497429367 L 0.9642498308572927, -0.2649948371038247 L 0.9633372205494766, -0.2682934950832935 ",
          "type": "path"
         },
         {
          "fillcolor": "#f2e6ce",
          "layer": "below",
          "line": {
           "color": "rgb(150,150,150)",
           "width": 0.45
          },
          "path": "M 1.1, 0.0 L 1.099707572597047, 0.025362467796143956 L 1.0988304458677993, 0.050711450718487726 L 1.0973690861684229, 0.07603347106295226 L 1.0953242704836845, 0.10131506546108873 L 1.0926970860138392, 0.12654279203836558 L 1.0894889295965804, 0.15170323756102752 L 1.085701506964362, 0.17678302456772668 L 1.0813368318374823, 0.20176881848213404 L 1.0763972248534182, 0.2266473347027494 L 1.0708853123329727, 0.2514053456661405 L 1.0648040248838984, 0.2760296878798559 L 1.0581565958427317, 0.30050726892127205 L 1.0509465595556748, 0.3248250743986534 L 0.9554059632324315, 0.29529552218059396 L 0.9619605416752106, 0.27318842629206547 L 0.968003658985362, 0.25093607989077804 L 0.9735321021208843, 0.22855031424194588 L 0.9785429316849256, 0.20604303154795398 L 0.9830334834886203, 0.18342619862012186 L 0.9870013699676018, 0.16071184051611515 L 0.9904444814514367, 0.13791203414638864 L 0.9933609872853082, 0.1150389018530596 L 0.9957493368033494, 0.09210460496462611 L 0.9976082601531115, 0.0691213373299566 L 0.9989367689707266, 0.04610131883498884 L 0.9997341569064064, 0.023056788905585414 L 1.0, 0.0 L 1.1 ,0.0",
          "type": "path"
         },
         {
          "fillcolor": "#ecd5bb",
          "layer": "below",
          "line": {
           "color": "rgb(150,150,150)",
           "width": 0.45
          },
          "path": "M 1.0402249787152207, 0.357675822018932 L 1.0326521439644087, 0.3789848935851009 L 1.0246428435450738, 0.4001337815929385 L 1.0162004627062398, 0.42111354715281313 L 1.0073285697447603, 0.44191532285719154 L 0.9980309144971272, 0.46253031652857973 L 0.9883114267545456, 0.48294981493566663 L 0.97817421460195, 0.5031651874760995 L 0.9676235626816618, 0.5231678898243357 L 0.9566639303824215, 0.542949467543028 L 0.9452999499545625, 0.5625015596564171 L 0.9335364245521224, 0.5818159021842217 L 0.9213783262027184, 0.6008843316345313 L 0.908830793706047, 0.619698788454227 L 0.8958991304618946, 0.6382513204354703 L 0.8825888022285767, 0.656534086076821 L 0.8689054348127547, 0.6745393578975638 L 0.8548548116916063, 0.6922595257038423 L 0.8404428715683524, 0.7096870998052186 L 0.8256757058621776, 0.7268147141803026 L 0.8105595561336013, 0.7436351295901098 L 0.7951008114463904, 0.7601412366378315 L 0.779306005667127, 0.7763260587737268 L 0.7631818147035736, 0.7921827552438645 L 0.7467350536830015, 0.8077046239814684 L 0.7299726740716773, 0.8228851044396448 L 0.7129017607367227, 0.8377177803642947 L 0.6955295289515917, 0.852196382506038 L 0.6778633213464269, 0.8663147912700042 L 0.659910604804591, 0.8800670393023698 L 0.6416789673066763, 0.8934473140125486 L 0.6231761147233338, 0.9064499600299679 L 0.6044098675582729, 0.9190694815943957 L 0.5853881576428099, 0.9313005448788038 L 0.5661190247833632, 0.9431379802437891 L 0.5466106133633094, 0.9545767844225979 L 0.5268711689006406, 0.9656121226358299 L 0.5069090345628727, 0.9762393306349303 L 0.4867326476406858, 0.9864539166736012 L 0.4663505359817749, 0.9962515634063073 L 0.4457713143864319, 1.0056281297130631 L 0.4250036809663724, 1.0145796524497395 L 0.40405641346834964, 1.0231023481231456 L 0.3829383655641115, 1.031192614490177 L 0.34812578687646495, 0.9374478313547064 L 0.36732401224395417, 0.9300930437483141 L 0.38636698269670217, 0.9223451385906721 L 0.4052466494422108, 0.9142073906482391 L 0.4239550327107044, 0.9056832394602793 L 0.44248422512789615, 0.8967762878850919 L 0.46082639505715695, 0.8874903005772092 L 0.47897378990967315, 0.8778292023962089 L 0.4969187394211903, 0.8677970767478161 L 0.5146536588939665, 0.8573981638579901 L 0.5321710524025545, 0.8466368589807306 L 0.5494635159620662, 0.8355177105403597 L 0.5665237406575762, 0.8240454182090616 L 0.583344515733342, 0.8122248309204987 L 0.5999187316405372, 0.8000609448203362 L 0.6162393830422063, 0.7875589011545492 L 0.6322995717741742, 0.7747239840963981 L 0.648092509760657, 0.7615616185129951 L 0.6636115218833429, 0.7480773676724043 L 0.6788500488027286, 0.7342769308922439 L 0.6938016497305214, 0.7201661411307858 L 0.7084600051519336, 0.7057509625215698 L 0.7228189194967185, 0.691037487852574 L 0.7368723237578193, 0.6760319359910089 L 0.750614278056525, 0.6607406492548206 L 0.7640389741530476, 0.6451700907320168 L 0.7771407379014602, 0.6293268415489475 L 0.7899140316479588, 0.6132175980886944 L 0.8023534565714333, 0.5968491691607463 L 0.8144537549653587, 0.5802284731231547 L 0.8262098124600427, 0.5633625349583882 L 0.8376166601842894, 0.5462584833041193 L 0.8486694768655657, 0.5289235474402015 L 0.859363590867784, 0.5113650542331064 L 0.8696944821658377, 0.4935904250391163 L 0.8796577842560561, 0.47560717256757784 L 0.8892492860017727, 0.45742289770554495 L 0.8984649334132232, 0.43904528630515144 L 0.9073008313610247, 0.42048210593507246 L 0.9157532452225092, 0.40174120259744683 L 0.9238186024602179, 0.38283049741164826 L 0.9314934941318853, 0.3637579832663077 L 0.9387746763312806, 0.3445317214410008 L 0.9456590715592915, 0.32515983819902905 L 1.0402249787152207 ,0.357675822018932",
          "type": "path"
         },
         {
          "fillcolor": "#e6c4a9",
          "layer": "below",
          "line": {
           "color": "rgb(150,150,150)",
           "width": 0.45
          },
          "path": "M 0.35035886582016396, 1.0427121679261293 L 0.32779703700515533, 1.0500233818971085 L 0.30508282592134384, 1.0568464738682943 L 0.28222679167277376, 1.0631782720043206 L 0.2592395592925033, 1.0690158328564778 L 0.23613181480337003, 1.0743564427310273 L 0.2129143002504043, 1.0791976189507095 L 0.1895978087071973, 1.0835371110088612 L 0.16619317925855132, 1.0873729016156026 L 0.1427112919617371, 1.0907032076356116 L 0.11916306278870684, 1.0935264809170444 L 0.09555943855161184, 1.0958414090112223 L 0.07191139181398076, 1.0976469157827466 L 0.048229915789930834, 1.0989421619097597 L 0.02452601923377551, 1.0997265452741172 L 0.0008107213224103638, 1.0999997012412948 L -0.022904953467146008, 1.0997615028298946 L -0.046609980482677234, 1.0990120607706744 L -0.0702933400217736, 1.097751723455073 L -0.09394402245453562, 1.0959810767732543 L -0.11755103334159707, 1.0937009438417444 L -0.14110339854508472, 1.090912384620794 L -0.1645901693301402, 1.0876166954216342 L -0.18800042745463505, 1.0838154083038656 L -0.21132329024470878, 1.0795102903632512 L -0.19211208204064434, 0.9813729912393191 L -0.17090947950421367, 0.9852867348216958 L -0.1496274266637638, 0.9887424503833038 L -0.12827581685916792, 0.991738531473449 L -0.10686457576508823, 0.9942735853106768 L -0.08540365677685055, 0.9963464334302311 L -0.06390303638343055, 0.9979561122318846 L -0.04237270952970657, 0.9991018734278858 L -0.020822684970132732, 0.9997831843908132 L 0.0007370193840094216, 0.9999997284011769 L 0.022296381121614098, 0.9997514047946519 L 0.04384537799084621, 0.9990383290088724 L 0.06537399255816433, 0.9978608325297696 L 0.08687221686510166, 0.9962194627374747 L 0.10833005708064257, 0.9941149826518584 L 0.1297375381470337, 0.9915483705778286 L 0.15108470841686483, 0.9885208196505478 L 0.17236164427927025, 0.9850337372807828 L 0.1935584547730948, 0.981088744500645 L 0.21466528618488184, 0.9766876752100248 L 0.23567232662954846, 0.9718325753240706 L 0.2565698106116125, 0.9665257018221095 L 0.277348023564858, 0.9607695216984493 L 0.297997306368323, 0.9545667108155531 L 0.31850805983651265, 0.9479201526601175 L 0.35035886582016396 ,1.0427121679261293",
          "type": "path"
         },
         {
          "fillcolor": "#e1b396",
          "layer": "below",
          "line": {
           "color": "rgb(150,150,150)",
           "width": 0.45
          },
          "path": "M -0.24512725261061846, 1.0723397922429112 L -0.2680171612011081, 1.0668490058587015 L -0.29078433639385337, 1.0608696761186014 L -0.3134183523909095, 1.0544045411437528 L -0.3359088443720703, 1.0474565615206295 L -0.35824551324124304, 1.0400289189452947 L -0.380418130342724, 1.0321250147664025 L -0.4024165421452187, 1.0237484684276141 L -0.42423067489145916, 1.0149031158101434 L -0.4458505392112918, 1.0055930074761859 L -0.46726623469612044, 0.9958224068140414 L -0.48846795443261043, 0.9855957880857759 L -0.509445989493582, 0.9749178343783159 L -0.530190733384027, 0.9637934354589203 L -0.5506926864402235, 0.9522276855360013 L -0.5709424601799286, 0.9402258809263287 L -0.5909307816016534, 0.9277935176296821 L -0.6106484974310623, 0.9149362888120605 L -0.5551349976646021, 0.8317602625564186 L -0.5372098014560485, 0.8434486523906201 L -0.5190386001635714, 0.854750800842117 L -0.5006297149456577, 0.8656615323054557 L -0.48199157580366087, 0.8761758504172001 L -0.4631327177214381, 0.8862889403439235 L -0.44406177675691855, 0.8959961709870689 L -0.4247874860873822, 0.905293097103674 L -0.4053186720102652, 0.9141754613419871 L -0.3856642499013265, 0.9226391961910394 L -0.36583322013201697, 0.9306804258432855 L -0.3458346639479309, 0.9382954679694567 L -0.3256777393102209, 0.9454808354048133 L -0.3053716767018821, 0.9522332377460268 L -0.28492577490082677, 0.958549582857957 L -0.26434939672168484, 0.9644269782896376 L -0.24365196472828007, 0.9698627325988194 L -0.22284295691874403, 0.9748543565844647 L -0.24512725261061846 ,1.0723397922429112",
          "type": "path"
         },
         {
          "fillcolor": "#dba284",
          "layer": "below",
          "line": {
           "color": "rgb(150,150,150)",
           "width": 0.45
          },
          "path": "M -0.6390860225995356, 0.8953038901501021 L -0.6601379444762521, 0.8798965247474666 L -0.6808185685890592, 0.8639942573098185 L -0.7011162630213958, 0.8476060321440104 L -0.7210196112373409, 0.8307410668861591 L -0.6554723738521281, 0.75521915171469 L -0.6373784209285416, 0.7705509383127367 L -0.6189259714445993, 0.7854493248271076 L -0.60012540406932, 0.7999059315886059 L -0.580987293272305, 0.8139126274091837 L -0.6390860225995356 ,0.8953038901501021",
          "type": "path"
         },
         {
          "fillcolor": "#d59171",
          "layer": "below",
          "line": {
           "color": "rgb(150,150,150)",
           "width": 0.45
          },
          "path": "M -0.74675803909234, 0.8076833730187614 L -0.7765495348817533, 0.7790833202391981 L -0.8052464833057144, 0.7493851487211233 L -0.8328084359860018, 0.7186307180677359 L -0.8591965443220597, 0.6868633766805674 L -0.7810877675655088, 0.6244212515277885 L -0.7570985781690925, 0.6533006527888507 L -0.7320422575506493, 0.681259226110112 L -0.7059541226197756, 0.7082575638538164 L -0.6788709446293999, 0.7342576118352375 L -0.74675803909234 ,0.8076833730187614",
          "type": "path"
         },
         {
          "fillcolor": "#d0805f",
          "layer": "below",
          "line": {
           "color": "rgb(150,150,150)",
           "width": 0.45
          },
          "path": "M -0.8803474827379677, 0.6595364354127253 L -0.8951475158508897, 0.6393050327238018 L -0.909482700608507, 0.6187416401809862 L -0.9233455927773954, 0.5978569363138314 L -0.9367289933847477, 0.5766617665082344 L -0.9496259524567885, 0.5551671373744467 L -0.9620297726278797, 0.5333842110313637 L -0.973934012618452, 0.5113242993100573 L -0.9853324905799464, 0.48899885787956593 L -0.9962192873050373, 0.46641948029798663 L -1.0065887493014642, 0.44359789199196376 L -1.016435491727882, 0.4205459441676961 L -0.9240322652071654, 0.3823144946979055 L -0.9150806811831493, 0.4032708109017852 L -0.9056538975500338, 0.424017709361806 L -0.8957568096181331, 0.4445444162541508 L -0.8853945569258654, 0.464840272100052 L -0.8745725205707997, 0.48489473730123966 L -0.8632963204152622, 0.5046973976131333 L -0.8515718121679524, 0.5242379695529403 L -0.8394050843430866, 0.5435063057398467 L -0.8268024550986427, 0.5624924001645328 L -0.8137704689553542, 0.5811863933852743 L -0.8003158933981523, 0.5995785776479321 L -0.8803474827379677 ,0.6595364354127253",
          "type": "path"
         },
         {
          "fillcolor": "#ca6f4c",
          "layer": "below",
          "line": {
           "color": "rgb(150,150,150)",
           "width": 0.45
          },
          "path": "M -1.0291436095041218, 0.3884114197816897 L -1.0346385624351606, 0.37352783714484344 L -1.0399182801560638, 0.3585665497467028 L -1.0449816643304706, 0.3435306699744869 L -1.0498276616257525, 0.328423325732818 L -0.9543887832961385, 0.2985666597571073 L -0.9499833312095186, 0.31230060906771534 L -0.9453802546873306, 0.3259695906788207 L -0.9405805113046913, 0.3395707610407667 L -0.9355850995492015, 0.35310129071062696 L -1.0291436095041218 ,0.3884114197816897",
          "type": "path"
         },
         {
          "fillcolor": "#c45e3a",
          "layer": "below",
          "line": {
           "color": "rgb(150,150,150)",
           "width": 0.45
          },
          "path": "M -1.0596256610085861, 0.2952853848942021 L -1.0653627321048387, 0.27386538489212847 L -1.070666851774426, 0.2523340890792196 L -1.075535864482797, 0.23070024753181953 L -1.079967791517974, 0.20897265199970516 L -0.9817889013799763, 0.18997513818155012 L -0.9777598768025426, 0.20972749775619956 L -0.9733335016131145, 0.22939462643565417 L -0.9685115746407624, 0.2489685317201168 L -0.963296055462351, 0.26844125899472915 L -1.0596256610085861 ,0.2952853848942021",
          "type": "path"
         },
         {
          "fillcolor": "#bf4d28",
          "layer": "below",
          "line": {
           "color": "rgb(150,150,150)",
           "width": 0.45
          },
          "path": "M -1.085998882231786, 0.17494692849922114 L -1.093691897908983, 0.11763516671577054 L -1.098362509106382, 0.05999832155596572 L -1.0999978086457978, 0.002195671752094502 L -1.0985932773965106, -0.05561304576440436 L -0.998721161269555, -0.050557314331276686 L -0.9999980078598161, 0.00199606522917682 L -0.9985113719148927, 0.05454392868724156 L -0.9942653617354389, 0.10694106065070048 L -0.9872717111198054, 0.15904266227201921 L -1.085998882231786 ,0.17494692849922114",
          "type": "path"
         },
         {
          "fillcolor": "#af4624",
          "layer": "below",
          "line": {
           "color": "rgb(150,150,150)",
           "width": 0.45
          },
          "path": "M -1.0963043399493957, -0.09009325284459478 L -1.0900287958066717, -0.14777423426381692 L -1.0807205590699946, -0.20504407624566548 L -1.0684055272392499, -0.2617434418750939 L -1.0531179633595704, -0.3177145814239422 L -0.9573799666905184, -0.28883143765812924 L -0.9712777520356817, -0.23794858352281265 L -0.9824732355181769, -0.1864037056778777 L -0.990935268915156, -0.13434021296710627 L -0.9966403090449051, -0.0819029571314498 L -1.0963043399493957 ,-0.09009325284459478",
          "type": "path"
         },
         {
          "fillcolor": "#9f4021",
          "layer": "below",
          "line": {
           "color": "rgb(150,150,150)",
           "width": 0.45
          },
          "path": "M -1.042618657044173, -0.35063704308501903 L -1.0309736410806305, -0.38352751061292517 L -1.0182913555065831, -0.41603210849712785 L -1.004584560056027, -0.4481181336400467 L -0.9898670452293321, -0.4797533040729908 L -0.8998791320266655, -0.43613936733908254 L -0.9132586909600245, -0.40738012149095154 L -0.9257194140968936, -0.37821100772466165 L -0.937248764618755, -0.3486613732844774 L -0.9478351427674299, -0.31876094825910817 L -1.042618657044173 ,-0.35063704308501903",
          "type": "path"
         },
         {
          "fillcolor": "#8f391e",
          "layer": "below",
          "line": {
           "color": "rgb(150,150,150)",
           "width": 0.45
          },
          "path": "M -0.9743091901453871, -0.5106090500551671 L -0.9626438487405433, -0.5322751360734355 L -0.9504967880435299, -0.5536748648068948 L -0.9378740865988564, -0.5747975275576271 L -0.9247820609677436, -0.5956325542750771 L -0.9112272625672383, -0.6161695188454372 L -0.8972164743917982, -0.6363981443090103 L -0.8827567076189959, -0.6563083080029314 L -0.8678551981010357, -0.6758900466266774 L -0.8525194027438406, -0.6951335612278301 L -0.8367569957755204, -0.7140292221055984 L -0.8205758649060917, -0.7325675736296412 L -0.8039841073803651, -0.7507393389717885 L -0.7869900259259814, -0.7685354247482827 L -0.7696021245986205, -0.7859469255702254 L -0.7518291045264622, -0.802965128499948 L -0.7336798595560314, -0.8195815174110762 L -0.6669816905054831, -0.745074106737342 L -0.6834810041149656, -0.7299682986363164 L -0.699638295089655, -0.7144972050638412 L -0.7154454781145285, -0.6986685679529843 L -0.7308946430730591, -0.6824903081561713 L -0.7459780590055378, -0.6659705214814919 L -0.7606881779777458, -0.649117474641453 L -0.7750176388580369, -0.6319396011162092 L -0.7889592710009415, -0.614445496933343 L -0.8025060978354508, -0.5966439163663012 L -0.8156513403561801, -0.5785437675536457 L -0.8283884205156711, -0.5601541080413065 L -0.8407109645161305, -0.5414841402500701 L -0.8526128059989603, -0.5225432068705701 L -0.8640879891304817, -0.5033407861880861 L -0.875130771582312, -0.48388648733948675 L -0.8857356274048973, -0.46419004550469734 L -0.9743091901453871 ,-0.5106090500551671",
          "type": "path"
         },
         {
          "fillcolor": "#f0f3e7",
          "layer": "below",
          "line": {
           "color": "rgb(150,150,150)",
           "width": 0.45
          },
          "path": "M -0.7075741552461761, -0.8422225447158611 L -0.6896251084770172, -0.8569814524002619 L -0.6713682987576325, -0.8713579100595131 L -0.6528118736591451, -0.8853455018294477 L -0.6339641144637537, -0.8989379853873062 L -0.6148334324689944, -0.912129294737536 L -0.59542836523398, -0.9249135429188992 L -0.5757575727693011, -0.9372850246316768 L -0.5558298336722657, -0.9492382187838106 L -0.5356540412092314, -0.9607677909548276 L -0.5152391993467533, -0.9718685957764645 L -0.4945944187333293, -0.9825356792289226 L -0.47372891263354466, -0.9927642808517235 L -0.4526519928164126, -1.002549835868188 L -0.4313730653997551, -1.011887977222587 L -0.4099016266524864, -1.02077453752905 L -0.3882472587566557, -1.029205550931369 L -0.366419625531149, -1.0371772548728655 L -0.3444284681189671, -1.0446860917755256 L -0.32228360063998696, -1.0517287106276625 L -0.29999490581115523, -1.0583019684793922 L -0.27757233053607827, -1.064402931845253 L -0.25502588146595284, -1.0700288780133524 L -0.23236562053384704, -1.075177296260445 L -0.2096016604643011, -1.079845888972407 L -0.18674416026026086, -1.0840325726696085 L -0.16976741841841894, -0.9854841569723714 L -0.19054696405845553, -0.9816780808840063 L -0.2112414732125882, -0.9774339056913134 L -0.23184171042359347, -0.972753525466684 L -0.2523384823055257, -0.9676390289502299 L -0.2727226416465047, -0.9620926986176291 L -0.2929850914908972, -0.9561170096615114 L -0.313116789199061, -0.9497146288868413 L -0.3331087504828627, -0.9428884135207867 L -0.3529520534151415, -0.935641409937608 L -0.3726378424113513, -0.9279768522991363 L -0.39215733218159554, -0.9198981611114426 L -0.41150181165128413, -0.9114089416983526 L -0.4306626478486769, -0.9025129825924758 L -0.44963128975757205, -0.8932142538444751 L -0.46839927213341204, -0.8835169052513312 L -0.4869582192811195, -0.8734252645043886 L -0.5052998487929687, -0.8629438352580097 L -0.5234159752448191, -0.8520772951197062 L -0.5412985138490727, -0.8408304935626355 L -0.5589394840627221, -0.8292084497613963 L -0.5763310131488669, -0.8172163503520965 L -0.5934653396901318, -0.8048595471176797 L -0.6103348170523931, -0.7921435545995573 L -0.6269319167972883, -0.7790740476366017 L -0.6432492320419781, -0.7656568588326009 L -0.7075741552461761 ,-0.8422225447158611",
          "type": "path"
         },
         {
          "fillcolor": "#e2ecde",
          "layer": "below",
          "line": {
           "color": "rgb(150,150,150)",
           "width": 0.45
          },
          "path": "M -0.15260172731715177, -1.089363443860598 L -0.13701972610146906, -1.0914328172906835 L -0.12140974556322401, -1.093279320979901 L -0.1057749732484226, -1.0949025778736188 L -0.09011860176553245, -1.096302256504029 L -0.0819260016050295, -0.9966384150036626 L -0.09615906658947508, -0.9953659798851079 L -0.11037249596656727, -0.99389029179991 L -0.12456338736497186, -0.9922116520824396 L -0.13872884301559252, -0.9903304035096343 L -0.15260172731715177 ,-1.089363443860598",
          "type": "path"
         },
         {
          "fillcolor": "#d4e5d6",
          "layer": "below",
          "line": {
           "color": "rgb(150,150,150)",
           "width": 0.45
          },
          "path": "M -0.05563844761978022, -1.0985919912080468 L -0.03256849733877839, -1.0995177547366364 L -0.009484198625570326, -1.0999591128657604 L 0.013604278462206078, -1.0999158711499362 L 0.03668676202608118, -1.0993880486398067 L 0.05975308280810233, -1.0983758778737487 L 0.08279307867101843, -1.0968798047754251 L 0.10579659907533208, -1.0949004884573272 L 0.12875350955123266, -1.0924388009303958 L 0.1516536961634593, -1.0894958267198462 L 0.17448706996711233, -1.0860728623873686 L 0.19724357145245597, -1.0821714159599116 L 0.21991317497675272, -1.0777932062653042 L 0.2424858931811777, -1.0729401621750052 L 0.2649517813908662, -1.067614421754318 L 0.28730094199615647, -1.0618183313204388 L 0.30952352881309636, -1.0555544444087612 L 0.3316097514212986, -1.0488255206478838 L 0.35354987947721933, -1.0416345245438268 L 0.37533424700097817, -1.0339846241739812 L 0.3969532566348182, -1.025879189791377 L 0.4183973838713335, -1.0173217923398792 L 0.43965718124960285, -1.0083162018809646 L 0.46072328251737865, -0.9988663859327793 L 0.481586406757499, -0.9889765077222011 L 0.502237362476704, -0.9786509243506818 L 0.5226670516550561, -0.9678941848746748 L 0.5428664737541775, -0.9567110283014956 L 0.5628267296825469, -0.9451063815014951 L 0.582539025716092, -0.933085357037472 L 0.6019946773723721, -0.9206532509122715 L 0.6211851132366266, -0.9078155402355698 L 0.5647137393060242, -0.8252868547596088 L 0.5472678885203383, -0.8369575008293376 L 0.5295809324691745, -0.8482594154886108 L 0.5116606633477698, -0.8591876195468137 L 0.4935149761401614, -0.869737298455905 L 0.47515186514096003, -0.8799038044315225 L 0.45657942043336724, -0.8896826585006198 L 0.43780582432499904, -0.8990695524747282 L 0.41883934774307147, -0.9080603508479811 L 0.399688346590548, -0.9166510926190586 L 0.3803612580648486, -0.9248379930362537 L 0.36086659694074374, -0.9326174452648882 L 0.341212951819071, -0.9399860219763464 L 0.3214089813429266, -0.9469404768580242 L 0.30146341038299873, -0.9534777460435307 L 0.28138502619372396, -0.9595949494625101 L 0.2611826745419604, -0.9652893921094898 L 0.24086525580987836, -0.9705585652311981 L 0.2204417210737979, -0.9754001474318229 L 0.19992106816068428, -0.9798120056957309 L 0.17931233768405086, -0.9837921963271923 L 0.1586246090610112, -0.9873389658066987 L 0.13786699651223572, -0.9904507515634966 L 0.11704864504657513, -0.9931261826639961 L 0.09617872643212007, -0.9953640804157519 L 0.0752664351554713, -0.9971634588867501 L 0.054320984371002114, -0.9985235253397715 L 0.033351601841891974, -0.9994436805816423 L 0.012367525874732797, -0.9999235192272146 L -0.008621998750518478, -0.999962829877964 L -0.029607724853434898, -0.999561595215124 L -0.05058040692707293, -0.9987199920073152 L -0.05563844761978022 ,-1.0985919912080468",
          "type": "path"
         },
         {
          "fillcolor": "#c6decd",
          "layer": "below",
          "line": {
           "color": "rgb(150,150,150)",
           "width": 0.45
          },
          "path": "M 0.6493937711032584, -0.8878556921326174 L 0.668086137368657, -0.8738769438861677 L 0.6864776937322372, -0.859504727158652 L 0.7045601592823704, -0.8447455131292507 L 0.7223253922774725, -0.829605947225064 L 0.7397653938118709, -0.8140928461289707 L 0.7568723114173651, -0.7982131947103701 L 0.7736384425988466, -0.7819741428802051 L 0.7900562383023947, -0.7653830023716689 L 0.806118306314285, -0.7484472434480528 L 0.8218174145893794, -0.7311744915392141 L 0.8371464945073994, -0.7135725238081781 L 0.8520986440556133, -0.6956492656494259 L 0.8666671309365139, -0.677412787120432 L 0.8808453955990747, -0.6588712993080741 L 0.8946270541922282, -0.6400331506315404 L 0.908005901439235, -0.6209068230834016 L 0.9209759134316468, -0.601500928410542 L 0.9335312503416103, -0.5818242042366663 L 0.9456662590512821, -0.561885510128134 L 0.9573754756981844, -0.5416938236048805 L 0.9686536281353393, -0.5212582360982358 L 0.8805942073957629, -0.4738711237256689 L 0.8703413415438039, -0.4924489305498913 L 0.8596965991375292, -0.5108050092073946 L 0.8486647730378275, -0.5289310947606056 L 0.8372508303924061, -0.5468190258277654 L 0.8254599103993044, -0.5644607482576378 L 0.8132973219929347, -0.5818483187559458 L 0.8007685414537042, -0.5989739084618855 L 0.7878792099422853, -0.6158298064731199 L 0.7746351309596484, -0.6324084233176598 L 0.7610422677339994, -0.648702294371071 L 0.7471067405357994, -0.6647040832174673 L 0.7328348239220772, -0.6804065849527752 L 0.7182329439112678, -0.6958027294287898 L 0.7033076750898605, -0.71088558443655 L 0.6880657376521501, -0.7256483588276091 L 0.672513994374428, -0.7400844055717914 L 0.656659447524975, -0.7541872247500581 L 0.6405092357112457, -0.767950466481137 L 0.6240706306656701, -0.7813679337805927 L 0.6073510339715062, -0.7944335853510615 L 0.5903579737302348, -0.8071415383023793 L 0.6493937711032584 ,-0.8878556921326174",
          "type": "path"
         },
         {
          "fillcolor": "#b8d7c5",
          "layer": "below",
          "line": {
           "color": "rgb(150,150,150)",
           "width": 0.45
          },
          "path": "M 0.984548772914911, -0.49057488088134227 L 0.9998977787058376, -0.45848056898753303 L 1.014200910563151, -0.4259066951961138 L 1.0274432076847606, -0.39288733115544694 L 1.0396108188813986, -0.35945701448816936 L 0.945100744437635, -0.3267791040801539 L 0.9340392797134187, -0.35717030105040626 L 0.9220008277846827, -0.38718790472373976 L 0.9089979806416705, -0.4168005172613936 L 0.8950443390135554, -0.44597716443758384 L 0.984548772914911 ,-0.49057488088134227",
          "type": "path"
         },
         {
          "fillcolor": "#aad0bc",
          "layer": "below",
          "line": {
           "color": "rgb(150,150,150)",
           "width": 0.45
          },
          "path": "M 1.0503886513801795, -0.326624679183506 L 1.0613196155180071, -0.2891378109426535 L 1.0709131842599897, -0.25128659291360855 L 1.0791572685101776, -0.21311872236303528 L 1.0860414796917859, -0.17468229557936385 L 0.9873104360834417, -0.15880208689033076 L 0.9810520622819796, -0.19374429305730478 L 0.9735574402363542, -0.2284423571941896 L 0.9648360141072791, -0.26285255540241226 L 0.9548987739819812, -0.29693152653046 L 1.0503886513801795 ,-0.326624679183506",
          "type": "path"
         },
         {
          "fillcolor": "#9cc9b4",
          "layer": "below",
          "line": {
           "color": "rgb(150,150,150)",
           "width": 0.45
          },
          "path": "M 1.0909924872829042, -0.14048271314386757 L 1.094067978936409, -0.11408443130419477 L 1.0965048170575824, -0.0876195535797697 L 1.0983015791614381, -0.061103528633716375 L 1.0994572164023046, -0.03455183498594511 L 0.9995065603657315, -0.031410759078131914 L 0.9984559810558528, -0.05554866239428761 L 0.9968225609614384, -0.07965413961797244 L 0.9946072535785535, -0.10371311936744979 L 0.9918113520753674, -0.12771155740351595 L 1.0909924872829042 ,-0.14048271314386757",
          "type": "path"
         }
        ],
        "showlegend": false,
        "template": {
         "data": {
          "bar": [
           {
            "error_x": {
             "color": "#2a3f5f"
            },
            "error_y": {
             "color": "#2a3f5f"
            },
            "marker": {
             "line": {
              "color": "#E5ECF6",
              "width": 0.5
             }
            },
            "type": "bar"
           }
          ],
          "barpolar": [
           {
            "marker": {
             "line": {
              "color": "#E5ECF6",
              "width": 0.5
             }
            },
            "type": "barpolar"
           }
          ],
          "carpet": [
           {
            "aaxis": {
             "endlinecolor": "#2a3f5f",
             "gridcolor": "white",
             "linecolor": "white",
             "minorgridcolor": "white",
             "startlinecolor": "#2a3f5f"
            },
            "baxis": {
             "endlinecolor": "#2a3f5f",
             "gridcolor": "white",
             "linecolor": "white",
             "minorgridcolor": "white",
             "startlinecolor": "#2a3f5f"
            },
            "type": "carpet"
           }
          ],
          "choropleth": [
           {
            "colorbar": {
             "outlinewidth": 0,
             "ticks": ""
            },
            "type": "choropleth"
           }
          ],
          "contour": [
           {
            "colorbar": {
             "outlinewidth": 0,
             "ticks": ""
            },
            "colorscale": [
             [
              0,
              "#0d0887"
             ],
             [
              0.1111111111111111,
              "#46039f"
             ],
             [
              0.2222222222222222,
              "#7201a8"
             ],
             [
              0.3333333333333333,
              "#9c179e"
             ],
             [
              0.4444444444444444,
              "#bd3786"
             ],
             [
              0.5555555555555556,
              "#d8576b"
             ],
             [
              0.6666666666666666,
              "#ed7953"
             ],
             [
              0.7777777777777778,
              "#fb9f3a"
             ],
             [
              0.8888888888888888,
              "#fdca26"
             ],
             [
              1,
              "#f0f921"
             ]
            ],
            "type": "contour"
           }
          ],
          "contourcarpet": [
           {
            "colorbar": {
             "outlinewidth": 0,
             "ticks": ""
            },
            "type": "contourcarpet"
           }
          ],
          "heatmap": [
           {
            "colorbar": {
             "outlinewidth": 0,
             "ticks": ""
            },
            "colorscale": [
             [
              0,
              "#0d0887"
             ],
             [
              0.1111111111111111,
              "#46039f"
             ],
             [
              0.2222222222222222,
              "#7201a8"
             ],
             [
              0.3333333333333333,
              "#9c179e"
             ],
             [
              0.4444444444444444,
              "#bd3786"
             ],
             [
              0.5555555555555556,
              "#d8576b"
             ],
             [
              0.6666666666666666,
              "#ed7953"
             ],
             [
              0.7777777777777778,
              "#fb9f3a"
             ],
             [
              0.8888888888888888,
              "#fdca26"
             ],
             [
              1,
              "#f0f921"
             ]
            ],
            "type": "heatmap"
           }
          ],
          "heatmapgl": [
           {
            "colorbar": {
             "outlinewidth": 0,
             "ticks": ""
            },
            "colorscale": [
             [
              0,
              "#0d0887"
             ],
             [
              0.1111111111111111,
              "#46039f"
             ],
             [
              0.2222222222222222,
              "#7201a8"
             ],
             [
              0.3333333333333333,
              "#9c179e"
             ],
             [
              0.4444444444444444,
              "#bd3786"
             ],
             [
              0.5555555555555556,
              "#d8576b"
             ],
             [
              0.6666666666666666,
              "#ed7953"
             ],
             [
              0.7777777777777778,
              "#fb9f3a"
             ],
             [
              0.8888888888888888,
              "#fdca26"
             ],
             [
              1,
              "#f0f921"
             ]
            ],
            "type": "heatmapgl"
           }
          ],
          "histogram": [
           {
            "marker": {
             "colorbar": {
              "outlinewidth": 0,
              "ticks": ""
             }
            },
            "type": "histogram"
           }
          ],
          "histogram2d": [
           {
            "colorbar": {
             "outlinewidth": 0,
             "ticks": ""
            },
            "colorscale": [
             [
              0,
              "#0d0887"
             ],
             [
              0.1111111111111111,
              "#46039f"
             ],
             [
              0.2222222222222222,
              "#7201a8"
             ],
             [
              0.3333333333333333,
              "#9c179e"
             ],
             [
              0.4444444444444444,
              "#bd3786"
             ],
             [
              0.5555555555555556,
              "#d8576b"
             ],
             [
              0.6666666666666666,
              "#ed7953"
             ],
             [
              0.7777777777777778,
              "#fb9f3a"
             ],
             [
              0.8888888888888888,
              "#fdca26"
             ],
             [
              1,
              "#f0f921"
             ]
            ],
            "type": "histogram2d"
           }
          ],
          "histogram2dcontour": [
           {
            "colorbar": {
             "outlinewidth": 0,
             "ticks": ""
            },
            "colorscale": [
             [
              0,
              "#0d0887"
             ],
             [
              0.1111111111111111,
              "#46039f"
             ],
             [
              0.2222222222222222,
              "#7201a8"
             ],
             [
              0.3333333333333333,
              "#9c179e"
             ],
             [
              0.4444444444444444,
              "#bd3786"
             ],
             [
              0.5555555555555556,
              "#d8576b"
             ],
             [
              0.6666666666666666,
              "#ed7953"
             ],
             [
              0.7777777777777778,
              "#fb9f3a"
             ],
             [
              0.8888888888888888,
              "#fdca26"
             ],
             [
              1,
              "#f0f921"
             ]
            ],
            "type": "histogram2dcontour"
           }
          ],
          "mesh3d": [
           {
            "colorbar": {
             "outlinewidth": 0,
             "ticks": ""
            },
            "type": "mesh3d"
           }
          ],
          "parcoords": [
           {
            "line": {
             "colorbar": {
              "outlinewidth": 0,
              "ticks": ""
             }
            },
            "type": "parcoords"
           }
          ],
          "pie": [
           {
            "automargin": true,
            "type": "pie"
           }
          ],
          "scatter": [
           {
            "marker": {
             "colorbar": {
              "outlinewidth": 0,
              "ticks": ""
             }
            },
            "type": "scatter"
           }
          ],
          "scatter3d": [
           {
            "line": {
             "colorbar": {
              "outlinewidth": 0,
              "ticks": ""
             }
            },
            "marker": {
             "colorbar": {
              "outlinewidth": 0,
              "ticks": ""
             }
            },
            "type": "scatter3d"
           }
          ],
          "scattercarpet": [
           {
            "marker": {
             "colorbar": {
              "outlinewidth": 0,
              "ticks": ""
             }
            },
            "type": "scattercarpet"
           }
          ],
          "scattergeo": [
           {
            "marker": {
             "colorbar": {
              "outlinewidth": 0,
              "ticks": ""
             }
            },
            "type": "scattergeo"
           }
          ],
          "scattergl": [
           {
            "marker": {
             "colorbar": {
              "outlinewidth": 0,
              "ticks": ""
             }
            },
            "type": "scattergl"
           }
          ],
          "scattermapbox": [
           {
            "marker": {
             "colorbar": {
              "outlinewidth": 0,
              "ticks": ""
             }
            },
            "type": "scattermapbox"
           }
          ],
          "scatterpolar": [
           {
            "marker": {
             "colorbar": {
              "outlinewidth": 0,
              "ticks": ""
             }
            },
            "type": "scatterpolar"
           }
          ],
          "scatterpolargl": [
           {
            "marker": {
             "colorbar": {
              "outlinewidth": 0,
              "ticks": ""
             }
            },
            "type": "scatterpolargl"
           }
          ],
          "scatterternary": [
           {
            "marker": {
             "colorbar": {
              "outlinewidth": 0,
              "ticks": ""
             }
            },
            "type": "scatterternary"
           }
          ],
          "surface": [
           {
            "colorbar": {
             "outlinewidth": 0,
             "ticks": ""
            },
            "colorscale": [
             [
              0,
              "#0d0887"
             ],
             [
              0.1111111111111111,
              "#46039f"
             ],
             [
              0.2222222222222222,
              "#7201a8"
             ],
             [
              0.3333333333333333,
              "#9c179e"
             ],
             [
              0.4444444444444444,
              "#bd3786"
             ],
             [
              0.5555555555555556,
              "#d8576b"
             ],
             [
              0.6666666666666666,
              "#ed7953"
             ],
             [
              0.7777777777777778,
              "#fb9f3a"
             ],
             [
              0.8888888888888888,
              "#fdca26"
             ],
             [
              1,
              "#f0f921"
             ]
            ],
            "type": "surface"
           }
          ],
          "table": [
           {
            "cells": {
             "fill": {
              "color": "#EBF0F8"
             },
             "line": {
              "color": "white"
             }
            },
            "header": {
             "fill": {
              "color": "#C8D4E3"
             },
             "line": {
              "color": "white"
             }
            },
            "type": "table"
           }
          ]
         },
         "layout": {
          "annotationdefaults": {
           "arrowcolor": "#2a3f5f",
           "arrowhead": 0,
           "arrowwidth": 1
          },
          "coloraxis": {
           "colorbar": {
            "outlinewidth": 0,
            "ticks": ""
           }
          },
          "colorscale": {
           "diverging": [
            [
             0,
             "#8e0152"
            ],
            [
             0.1,
             "#c51b7d"
            ],
            [
             0.2,
             "#de77ae"
            ],
            [
             0.3,
             "#f1b6da"
            ],
            [
             0.4,
             "#fde0ef"
            ],
            [
             0.5,
             "#f7f7f7"
            ],
            [
             0.6,
             "#e6f5d0"
            ],
            [
             0.7,
             "#b8e186"
            ],
            [
             0.8,
             "#7fbc41"
            ],
            [
             0.9,
             "#4d9221"
            ],
            [
             1,
             "#276419"
            ]
           ],
           "sequential": [
            [
             0,
             "#0d0887"
            ],
            [
             0.1111111111111111,
             "#46039f"
            ],
            [
             0.2222222222222222,
             "#7201a8"
            ],
            [
             0.3333333333333333,
             "#9c179e"
            ],
            [
             0.4444444444444444,
             "#bd3786"
            ],
            [
             0.5555555555555556,
             "#d8576b"
            ],
            [
             0.6666666666666666,
             "#ed7953"
            ],
            [
             0.7777777777777778,
             "#fb9f3a"
            ],
            [
             0.8888888888888888,
             "#fdca26"
            ],
            [
             1,
             "#f0f921"
            ]
           ],
           "sequentialminus": [
            [
             0,
             "#0d0887"
            ],
            [
             0.1111111111111111,
             "#46039f"
            ],
            [
             0.2222222222222222,
             "#7201a8"
            ],
            [
             0.3333333333333333,
             "#9c179e"
            ],
            [
             0.4444444444444444,
             "#bd3786"
            ],
            [
             0.5555555555555556,
             "#d8576b"
            ],
            [
             0.6666666666666666,
             "#ed7953"
            ],
            [
             0.7777777777777778,
             "#fb9f3a"
            ],
            [
             0.8888888888888888,
             "#fdca26"
            ],
            [
             1,
             "#f0f921"
            ]
           ]
          },
          "colorway": [
           "#636efa",
           "#EF553B",
           "#00cc96",
           "#ab63fa",
           "#FFA15A",
           "#19d3f3",
           "#FF6692",
           "#B6E880",
           "#FF97FF",
           "#FECB52"
          ],
          "font": {
           "color": "#2a3f5f"
          },
          "geo": {
           "bgcolor": "white",
           "lakecolor": "white",
           "landcolor": "#E5ECF6",
           "showlakes": true,
           "showland": true,
           "subunitcolor": "white"
          },
          "hoverlabel": {
           "align": "left"
          },
          "hovermode": "closest",
          "mapbox": {
           "style": "light"
          },
          "paper_bgcolor": "white",
          "plot_bgcolor": "#E5ECF6",
          "polar": {
           "angularaxis": {
            "gridcolor": "white",
            "linecolor": "white",
            "ticks": ""
           },
           "bgcolor": "#E5ECF6",
           "radialaxis": {
            "gridcolor": "white",
            "linecolor": "white",
            "ticks": ""
           }
          },
          "scene": {
           "xaxis": {
            "backgroundcolor": "#E5ECF6",
            "gridcolor": "white",
            "gridwidth": 2,
            "linecolor": "white",
            "showbackground": true,
            "ticks": "",
            "zerolinecolor": "white"
           },
           "yaxis": {
            "backgroundcolor": "#E5ECF6",
            "gridcolor": "white",
            "gridwidth": 2,
            "linecolor": "white",
            "showbackground": true,
            "ticks": "",
            "zerolinecolor": "white"
           },
           "zaxis": {
            "backgroundcolor": "#E5ECF6",
            "gridcolor": "white",
            "gridwidth": 2,
            "linecolor": "white",
            "showbackground": true,
            "ticks": "",
            "zerolinecolor": "white"
           }
          },
          "shapedefaults": {
           "line": {
            "color": "#2a3f5f"
           }
          },
          "ternary": {
           "aaxis": {
            "gridcolor": "white",
            "linecolor": "white",
            "ticks": ""
           },
           "baxis": {
            "gridcolor": "white",
            "linecolor": "white",
            "ticks": ""
           },
           "bgcolor": "#E5ECF6",
           "caxis": {
            "gridcolor": "white",
            "linecolor": "white",
            "ticks": ""
           }
          },
          "title": {
           "x": 0.05
          },
          "xaxis": {
           "automargin": true,
           "gridcolor": "white",
           "linecolor": "white",
           "ticks": "",
           "title": {
            "standoff": 15
           },
           "zerolinecolor": "white",
           "zerolinewidth": 2
          },
          "yaxis": {
           "automargin": true,
           "gridcolor": "white",
           "linecolor": "white",
           "ticks": "",
           "title": {
            "standoff": 15
           },
           "zerolinecolor": "white",
           "zerolinewidth": 2
          }
         }
        },
        "title": {
         "font": {
          "color": "#655643",
          "family": "Merryweather",
          "size": 18
         },
         "text": "Data Jobs ‒ Technologies in Demand and Relationships Between Them"
        },
        "width": 960,
        "xaxis": {
         "showgrid": false,
         "showline": false,
         "showticklabels": false,
         "title": {
          "text": ""
         },
         "zeroline": false
        },
        "yaxis": {
         "showgrid": false,
         "showline": false,
         "showticklabels": false,
         "title": {
          "text": ""
         },
         "zeroline": false
        }
       }
      },
      "text/html": [
       "<div>\n",
       "        \n",
       "        \n",
       "            <div id=\"f3da95a7-56ea-47af-8560-befec7f513ba\" class=\"plotly-graph-div\" style=\"height:540px; width:960px;\"></div>\n",
       "            <script type=\"text/javascript\">\n",
       "                require([\"plotly\"], function(Plotly) {\n",
       "                    window.PLOTLYENV=window.PLOTLYENV || {};\n",
       "                    \n",
       "                if (document.getElementById(\"f3da95a7-56ea-47af-8560-befec7f513ba\")) {\n",
       "                    Plotly.newPlot(\n",
       "                        'f3da95a7-56ea-47af-8560-befec7f513ba',\n",
       "                        [{\"hoverinfo\": \"text\", \"line\": {\"color\": \"#f2e6ce\", \"shape\": \"spline\", \"width\": 0.25}, \"mode\": \"lines\", \"text\": \"Power BI<br>1862\", \"type\": \"scatter\", \"x\": [1.1, 1.099707572597047, 1.0988304458677993, 1.0973690861684229, 1.0953242704836845, 1.0926970860138392, 1.0894889295965804, 1.085701506964362, 1.0813368318374823, 1.0763972248534182, 1.0708853123329727, 1.0648040248838984, 1.0581565958427317, 1.0509465595556748], \"y\": [0.0, 0.025362467796143956, 0.050711450718487726, 0.07603347106295226, 0.10131506546108873, 0.12654279203836558, 0.15170323756102752, 0.17678302456772668, 0.20176881848213404, 0.2266473347027494, 0.2514053456661405, 0.2760296878798559, 0.30050726892127205, 0.3248250743986534]}, {\"hoverinfo\": \"text\", \"line\": {\"color\": \"#ecd5bb\", \"shape\": \"spline\", \"width\": 0.25}, \"mode\": \"lines\", \"text\": \"Excel<br>5147\", \"type\": \"scatter\", \"x\": [1.0402249787152207, 1.0326521439644087, 1.0246428435450738, 1.0162004627062398, 1.0073285697447603, 0.9980309144971272, 0.9883114267545456, 0.97817421460195, 0.9676235626816618, 0.9566639303824215, 0.9452999499545625, 0.9335364245521224, 0.9213783262027184, 0.908830793706047, 0.8958991304618946, 0.8825888022285767, 0.8689054348127547, 0.8548548116916063, 0.8404428715683524, 0.8256757058621776, 0.8105595561336013, 0.7951008114463904, 0.779306005667127, 0.7631818147035736, 0.7467350536830015, 0.7299726740716773, 0.7129017607367227, 0.6955295289515917, 0.6778633213464269, 0.659910604804591, 0.6416789673066763, 0.6231761147233338, 0.6044098675582729, 0.5853881576428099, 0.5661190247833632, 0.5466106133633094, 0.5268711689006406, 0.5069090345628727, 0.4867326476406858, 0.4663505359817749, 0.4457713143864319, 0.4250036809663724, 0.40405641346834964, 0.3829383655641115], \"y\": [0.357675822018932, 0.3789848935851009, 0.4001337815929385, 0.42111354715281313, 0.44191532285719154, 0.46253031652857973, 0.48294981493566663, 0.5031651874760995, 0.5231678898243357, 0.542949467543028, 0.5625015596564171, 0.5818159021842217, 0.6008843316345313, 0.619698788454227, 0.6382513204354703, 0.656534086076821, 0.6745393578975638, 0.6922595257038423, 0.7096870998052186, 0.7268147141803026, 0.7436351295901098, 0.7601412366378315, 0.7763260587737268, 0.7921827552438645, 0.8077046239814684, 0.8228851044396448, 0.8377177803642947, 0.852196382506038, 0.8663147912700042, 0.8800670393023698, 0.8934473140125486, 0.9064499600299679, 0.9190694815943957, 0.9313005448788038, 0.9431379802437891, 0.9545767844225979, 0.9656121226358299, 0.9762393306349303, 0.9864539166736012, 0.9962515634063073, 1.0056281297130631, 1.0145796524497395, 1.0231023481231456, 1.031192614490177]}, {\"hoverinfo\": \"text\", \"line\": {\"color\": \"#e6c4a9\", \"shape\": \"spline\", \"width\": 0.25}, \"mode\": \"lines\", \"text\": \"SSIS/SSRS<br>3086\", \"type\": \"scatter\", \"x\": [0.35035886582016396, 0.32779703700515533, 0.30508282592134384, 0.28222679167277376, 0.2592395592925033, 0.23613181480337003, 0.2129143002504043, 0.1895978087071973, 0.16619317925855132, 0.1427112919617371, 0.11916306278870684, 0.09555943855161184, 0.07191139181398076, 0.048229915789930834, 0.02452601923377551, 0.0008107213224103638, -0.022904953467146008, -0.046609980482677234, -0.0702933400217736, -0.09394402245453562, -0.11755103334159707, -0.14110339854508472, -0.1645901693301402, -0.18800042745463505, -0.21132329024470878], \"y\": [1.0427121679261293, 1.0500233818971085, 1.0568464738682943, 1.0631782720043206, 1.0690158328564778, 1.0743564427310273, 1.0791976189507095, 1.0835371110088612, 1.0873729016156026, 1.0907032076356116, 1.0935264809170444, 1.0958414090112223, 1.0976469157827466, 1.0989421619097597, 1.0997265452741172, 1.0999997012412948, 1.0997615028298946, 1.0990120607706744, 1.097751723455073, 1.0959810767732543, 1.0937009438417444, 1.090912384620794, 1.0876166954216342, 1.0838154083038656, 1.0795102903632512]}, {\"hoverinfo\": \"text\", \"line\": {\"color\": \"#e1b396\", \"shape\": \"spline\", \"width\": 0.25}, \"mode\": \"lines\", \"text\": \"MS SQL Server<br>2222\", \"type\": \"scatter\", \"x\": [-0.24512725261061846, -0.2680171612011081, -0.29078433639385337, -0.3134183523909095, -0.3359088443720703, -0.35824551324124304, -0.380418130342724, -0.4024165421452187, -0.42423067489145916, -0.4458505392112918, -0.46726623469612044, -0.48846795443261043, -0.509445989493582, -0.530190733384027, -0.5506926864402235, -0.5709424601799286, -0.5909307816016534, -0.6106484974310623], \"y\": [1.0723397922429112, 1.0668490058587015, 1.0608696761186014, 1.0544045411437528, 1.0474565615206295, 1.0400289189452947, 1.0321250147664025, 1.0237484684276141, 1.0149031158101434, 1.0055930074761859, 0.9958224068140414, 0.9855957880857759, 0.9749178343783159, 0.9637934354589203, 0.9522276855360013, 0.9402258809263287, 0.9277935176296821, 0.9149362888120605]}, {\"hoverinfo\": \"text\", \"line\": {\"color\": \"#dba284\", \"shape\": \"spline\", \"width\": 0.25}, \"mode\": \"lines\", \"text\": \"PostgreSQL<br>710\", \"type\": \"scatter\", \"x\": [-0.6390860225995356, -0.6601379444762521, -0.6808185685890592, -0.7011162630213958, -0.7210196112373409], \"y\": [0.8953038901501021, 0.8798965247474666, 0.8639942573098185, 0.8476060321440104, 0.8307410668861591]}, {\"hoverinfo\": \"text\", \"line\": {\"color\": \"#d59171\", \"shape\": \"spline\", \"width\": 0.25}, \"mode\": \"lines\", \"text\": \"MySQL/MariaDB<br>1021\", \"type\": \"scatter\", \"x\": [-0.74675803909234, -0.7765495348817533, -0.8052464833057144, -0.8328084359860018, -0.8591965443220597], \"y\": [0.8076833730187614, 0.7790833202391981, 0.7493851487211233, 0.7186307180677359, 0.6868633766805674]}, {\"hoverinfo\": \"text\", \"line\": {\"color\": \"#d0805f\", \"shape\": \"spline\", \"width\": 0.25}, \"mode\": \"lines\", \"text\": \"T-SQL<br>1586\", \"type\": \"scatter\", \"x\": [-0.8803474827379677, -0.8951475158508897, -0.909482700608507, -0.9233455927773954, -0.9367289933847477, -0.9496259524567885, -0.9620297726278797, -0.973934012618452, -0.9853324905799464, -0.9962192873050373, -1.0065887493014642, -1.016435491727882], \"y\": [0.6595364354127253, 0.6393050327238018, 0.6187416401809862, 0.5978569363138314, 0.5766617665082344, 0.5551671373744467, 0.5333842110313637, 0.5113242993100573, 0.48899885787956593, 0.46641948029798663, 0.44359789199196376, 0.4205459441676961]}, {\"hoverinfo\": \"text\", \"line\": {\"color\": \"#ca6f4c\", \"shape\": \"spline\", \"width\": 0.25}, \"mode\": \"lines\", \"text\": \"PL/SQL<br>501\", \"type\": \"scatter\", \"x\": [-1.0291436095041218, -1.0346385624351606, -1.0399182801560638, -1.0449816643304706, -1.0498276616257525], \"y\": [0.3884114197816897, 0.37352783714484344, 0.3585665497467028, 0.3435306699744869, 0.328423325732818]}, {\"hoverinfo\": \"text\", \"line\": {\"color\": \"#c45e3a\", \"shape\": \"spline\", \"width\": 0.25}, \"mode\": \"lines\", \"text\": \"Pentaho<br>630\", \"type\": \"scatter\", \"x\": [-1.0596256610085861, -1.0653627321048387, -1.070666851774426, -1.075535864482797, -1.079967791517974], \"y\": [0.2952853848942021, 0.27386538489212847, 0.2523340890792196, 0.23070024753181953, 0.20897265199970516]}, {\"hoverinfo\": \"text\", \"line\": {\"color\": \"#bf4d28\", \"shape\": \"spline\", \"width\": 0.25}, \"mode\": \"lines\", \"text\": \"Hadoop<br>1359\", \"type\": \"scatter\", \"x\": [-1.085998882231786, -1.093691897908983, -1.098362509106382, -1.0999978086457978, -1.0985932773965106], \"y\": [0.17494692849922114, 0.11763516671577054, 0.05999832155596572, 0.002195671752094502, -0.05561304576440436]}, {\"hoverinfo\": \"text\", \"line\": {\"color\": \"#af4624\", \"shape\": \"spline\", \"width\": 0.25}, \"mode\": \"lines\", \"text\": \"Spark<br>1363\", \"type\": \"scatter\", \"x\": [-1.0963043399493957, -1.0900287958066717, -1.0807205590699946, -1.0684055272392499, -1.0531179633595704], \"y\": [-0.09009325284459478, -0.14777423426381692, -0.20504407624566548, -0.2617434418750939, -0.3177145814239422]}, {\"hoverinfo\": \"text\", \"line\": {\"color\": \"#9f4021\", \"shape\": \"spline\", \"width\": 0.25}, \"mode\": \"lines\", \"text\": \"Informatica<br>890\", \"type\": \"scatter\", \"x\": [-1.042618657044173, -1.0309736410806305, -1.0182913555065831, -1.004584560056027, -0.9898670452293321], \"y\": [-0.35063704308501903, -0.38352751061292517, -0.41603210849712785, -0.4481181336400467, -0.4797533040729908]}, {\"hoverinfo\": \"text\", \"line\": {\"color\": \"#8f391e\", \"shape\": \"spline\", \"width\": 0.25}, \"mode\": \"lines\", \"text\": \"Qlik<br>2189\", \"type\": \"scatter\", \"x\": [-0.9743091901453871, -0.9626438487405433, -0.9504967880435299, -0.9378740865988564, -0.9247820609677436, -0.9112272625672383, -0.8972164743917982, -0.8827567076189959, -0.8678551981010357, -0.8525194027438406, -0.8367569957755204, -0.8205758649060917, -0.8039841073803651, -0.7869900259259814, -0.7696021245986205, -0.7518291045264622, -0.7336798595560314], \"y\": [-0.5106090500551671, -0.5322751360734355, -0.5536748648068948, -0.5747975275576271, -0.5956325542750771, -0.6161695188454372, -0.6363981443090103, -0.6563083080029314, -0.6758900466266774, -0.6951335612278301, -0.7140292221055984, -0.7325675736296412, -0.7507393389717885, -0.7685354247482827, -0.7859469255702254, -0.802965128499948, -0.8195815174110762]}, {\"hoverinfo\": \"text\", \"line\": {\"color\": \"#f0f3e7\", \"shape\": \"spline\", \"width\": 0.25}, \"mode\": \"lines\", \"text\": \"Tableau<br>3146\", \"type\": \"scatter\", \"x\": [-0.7075741552461761, -0.6896251084770172, -0.6713682987576325, -0.6528118736591451, -0.6339641144637537, -0.6148334324689944, -0.59542836523398, -0.5757575727693011, -0.5558298336722657, -0.5356540412092314, -0.5152391993467533, -0.4945944187333293, -0.47372891263354466, -0.4526519928164126, -0.4313730653997551, -0.4099016266524864, -0.3882472587566557, -0.366419625531149, -0.3444284681189671, -0.32228360063998696, -0.29999490581115523, -0.27757233053607827, -0.25502588146595284, -0.23236562053384704, -0.2096016604643011, -0.18674416026026086], \"y\": [-0.8422225447158611, -0.8569814524002619, -0.8713579100595131, -0.8853455018294477, -0.8989379853873062, -0.912129294737536, -0.9249135429188992, -0.9372850246316768, -0.9492382187838106, -0.9607677909548276, -0.9718685957764645, -0.9825356792289226, -0.9927642808517235, -1.002549835868188, -1.011887977222587, -1.02077453752905, -1.029205550931369, -1.0371772548728655, -1.0446860917755256, -1.0517287106276625, -1.0583019684793922, -1.064402931845253, -1.0700288780133524, -1.075177296260445, -1.079845888972407, -1.0840325726696085]}, {\"hoverinfo\": \"text\", \"line\": {\"color\": \"#e2ecde\", \"shape\": \"spline\", \"width\": 0.25}, \"mode\": \"lines\", \"text\": \"Microstrategy<br>498\", \"type\": \"scatter\", \"x\": [-0.15260172731715177, -0.13701972610146906, -0.12140974556322401, -0.1057749732484226, -0.09011860176553245], \"y\": [-1.089363443860598, -1.0914328172906835, -1.093279320979901, -1.0949025778736188, -1.096302256504029]}, {\"hoverinfo\": \"text\", \"line\": {\"color\": \"#d4e5d6\", \"shape\": \"spline\", \"width\": 0.25}, \"mode\": \"lines\", \"text\": \"Oracle BI<br>3835\", \"type\": \"scatter\", \"x\": [-0.05563844761978022, -0.03256849733877839, -0.009484198625570326, 0.013604278462206078, 0.03668676202608118, 0.05975308280810233, 0.08279307867101843, 0.10579659907533208, 0.12875350955123266, 0.1516536961634593, 0.17448706996711233, 0.19724357145245597, 0.21991317497675272, 0.2424858931811777, 0.2649517813908662, 0.28730094199615647, 0.30952352881309636, 0.3316097514212986, 0.35354987947721933, 0.37533424700097817, 0.3969532566348182, 0.4183973838713335, 0.43965718124960285, 0.46072328251737865, 0.481586406757499, 0.502237362476704, 0.5226670516550561, 0.5428664737541775, 0.5628267296825469, 0.582539025716092, 0.6019946773723721, 0.6211851132366266], \"y\": [-1.0985919912080468, -1.0995177547366364, -1.0999591128657604, -1.0999158711499362, -1.0993880486398067, -1.0983758778737487, -1.0968798047754251, -1.0949004884573272, -1.0924388009303958, -1.0894958267198462, -1.0860728623873686, -1.0821714159599116, -1.0777932062653042, -1.0729401621750052, -1.067614421754318, -1.0618183313204388, -1.0555544444087612, -1.0488255206478838, -1.0416345245438268, -1.0339846241739812, -1.025879189791377, -1.0173217923398792, -1.0083162018809646, -0.9988663859327793, -0.9889765077222011, -0.9786509243506818, -0.9678941848746748, -0.9567110283014956, -0.9451063815014951, -0.933085357037472, -0.9206532509122715, -0.9078155402355698]}, {\"hoverinfo\": \"text\", \"line\": {\"color\": \"#c6decd\", \"shape\": \"spline\", \"width\": 0.25}, \"mode\": \"lines\", \"text\": \"Python<br>2682\", \"type\": \"scatter\", \"x\": [0.6493937711032584, 0.668086137368657, 0.6864776937322372, 0.7045601592823704, 0.7223253922774725, 0.7397653938118709, 0.7568723114173651, 0.7736384425988466, 0.7900562383023947, 0.806118306314285, 0.8218174145893794, 0.8371464945073994, 0.8520986440556133, 0.8666671309365139, 0.8808453955990747, 0.8946270541922282, 0.908005901439235, 0.9209759134316468, 0.9335312503416103, 0.9456662590512821, 0.9573754756981844, 0.9686536281353393], \"y\": [-0.8878556921326174, -0.8738769438861677, -0.859504727158652, -0.8447455131292507, -0.829605947225064, -0.8140928461289707, -0.7982131947103701, -0.7819741428802051, -0.7653830023716689, -0.7484472434480528, -0.7311744915392141, -0.7135725238081781, -0.6956492656494259, -0.677412787120432, -0.6588712993080741, -0.6400331506315404, -0.6209068230834016, -0.601500928410542, -0.5818242042366663, -0.561885510128134, -0.5416938236048805, -0.5212582360982358]}, {\"hoverinfo\": \"text\", \"line\": {\"color\": \"#b8d7c5\", \"shape\": \"spline\", \"width\": 0.25}, \"mode\": \"lines\", \"text\": \"VBA<br>904\", \"type\": \"scatter\", \"x\": [0.984548772914911, 0.9998977787058376, 1.014200910563151, 1.0274432076847606, 1.0396108188813986], \"y\": [-0.49057488088134227, -0.45848056898753303, -0.4259066951961138, -0.39288733115544694, -0.35945701448816936]}, {\"hoverinfo\": \"text\", \"line\": {\"color\": \"#aad0bc\", \"shape\": \"spline\", \"width\": 0.25}, \"mode\": \"lines\", \"text\": \"Linux<br>975\", \"type\": \"scatter\", \"x\": [1.0503886513801795, 1.0613196155180071, 1.0709131842599897, 1.0791572685101776, 1.0860414796917859], \"y\": [-0.326624679183506, -0.2891378109426535, -0.25128659291360855, -0.21311872236303528, -0.17468229557936385]}, {\"hoverinfo\": \"text\", \"line\": {\"color\": \"#9cc9b4\", \"shape\": \"spline\", \"width\": 0.25}, \"mode\": \"lines\", \"text\": \"AWS<br>720\", \"type\": \"scatter\", \"x\": [1.0909924872829042, 1.094067978936409, 1.0965048170575824, 1.0983015791614381, 1.0994572164023046], \"y\": [-0.14048271314386757, -0.11408443130419477, -0.0876195535797697, -0.061103528633716375, -0.03455183498594511]}, {\"hoverinfo\": \"text\", \"marker\": {\"color\": \"green\", \"size\": 0.5}, \"mode\": \"markers\", \"text\": \"Power BI appears with Excel 291 times\", \"type\": \"scatter\", \"x\": [0.86585425209093], \"y\": [0.24555328166419624]}, {\"hoverinfo\": \"text\", \"marker\": {\"color\": \"blue\", \"size\": 0.5}, \"mode\": \"markers\", \"text\": \"Excel appears with Power BI 291 times\", \"type\": \"scatter\", \"x\": [0.7616834518157914], \"y\": [0.47941455884232487]}, {\"hoverinfo\": \"text\", \"marker\": {\"color\": \"green\", \"size\": 0.5}, \"mode\": \"markers\", \"text\": \"Power BI appears with SSIS/SSRS 182 times\", \"type\": \"scatter\", \"x\": [0.8936895265771325], \"y\": [0.10639093047032121]}, {\"hoverinfo\": \"text\", \"marker\": {\"color\": \"blue\", \"size\": 0.5}, \"mode\": \"markers\", \"text\": \"SSIS/SSRS appears with Power BI 182 times\", \"type\": \"scatter\", \"x\": [0.1232325445654126], \"y\": [0.891523269443896]}, {\"hoverinfo\": \"text\", \"marker\": {\"color\": \"green\", \"size\": 0.5}, \"mode\": \"markers\", \"text\": \"Power BI appears with MS SQL Server 173 times\", \"type\": \"scatter\", \"x\": [0.8963644657800791], \"y\": [0.08081302176501899]}, {\"hoverinfo\": \"text\", \"marker\": {\"color\": \"blue\", \"size\": 0.5}, \"mode\": \"markers\", \"text\": \"MS SQL Server appears with Power BI 173 times\", \"type\": \"scatter\", \"x\": [-0.3525085102839478], \"y\": [0.828092839105249]}, {\"hoverinfo\": \"text\", \"marker\": {\"color\": \"green\", \"size\": 0.5}, \"mode\": \"markers\", \"text\": \"Power BI appears with MySQL/MariaDB 5 times\", \"type\": \"scatter\", \"x\": [0.8999999271055442], \"y\": [0.0003622292299375064]}, {\"hoverinfo\": \"text\", \"marker\": {\"color\": \"blue\", \"size\": 0.5}, \"mode\": \"markers\", \"text\": \"MySQL/MariaDB appears with Power BI 5 times\", \"type\": \"scatter\", \"x\": [-0.6113239826230861], \"y\": [0.660517212697632]}, {\"hoverinfo\": \"text\", \"marker\": {\"color\": \"green\", \"size\": 0.5}, \"mode\": \"markers\", \"text\": \"Power BI appears with T-SQL 78 times\", \"type\": \"scatter\", \"x\": [0.8988576182302386], \"y\": [0.04533191093989819]}, {\"hoverinfo\": \"text\", \"marker\": {\"color\": \"blue\", \"size\": 0.5}, \"mode\": \"markers\", \"text\": \"T-SQL appears with Power BI 78 times\", \"type\": \"scatter\", \"x\": [-0.7635876079994944], \"y\": [0.47637586516280445]}, {\"hoverinfo\": \"text\", \"marker\": {\"color\": \"green\", \"size\": 0.5}, \"mode\": \"markers\", \"text\": \"Power BI appears with PL/SQL 11 times\", \"type\": \"scatter\", \"x\": [0.8999955651048952], \"y\": [0.0028253834289389537]}, {\"hoverinfo\": \"text\", \"marker\": {\"color\": \"blue\", \"size\": 0.5}, \"mode\": \"markers\", \"text\": \"PL/SQL appears with Power BI 11 times\", \"type\": \"scatter\", \"x\": [-0.8438604243485134], \"y\": [0.31288909252057173]}, {\"hoverinfo\": \"text\", \"marker\": {\"color\": \"green\", \"size\": 0.5}, \"mode\": \"markers\", \"text\": \"Power BI appears with Pentaho 12 times\", \"type\": \"scatter\", \"x\": [0.8999887917715977], \"y\": [0.004491623926787372]}, {\"hoverinfo\": \"text\", \"marker\": {\"color\": \"blue\", \"size\": 0.5}, \"mode\": \"markers\", \"text\": \"Pentaho appears with Power BI 12 times\", \"type\": \"scatter\", \"x\": [-0.8678877626757889], \"y\": [0.23826630352950368]}, {\"hoverinfo\": \"text\", \"marker\": {\"color\": \"green\", \"size\": 0.5}, \"mode\": \"markers\", \"text\": \"Power BI appears with Hadoop 54 times\", \"type\": \"scatter\", \"x\": [0.899596533089096], \"y\": [0.02694582813867354]}, {\"hoverinfo\": \"text\", \"marker\": {\"color\": \"blue\", \"size\": 0.5}, \"mode\": \"markers\", \"text\": \"Hadoop appears with Power BI 54 times\", \"type\": \"scatter\", \"x\": [-0.8918719776374977], \"y\": [0.12068295449225179]}, {\"hoverinfo\": \"text\", \"marker\": {\"color\": \"green\", \"size\": 0.5}, \"mode\": \"markers\", \"text\": \"Power BI appears with Spark 61 times\", \"type\": \"scatter\", \"x\": [0.8993085563378462], \"y\": [0.03527209233287484]}, {\"hoverinfo\": \"text\", \"marker\": {\"color\": \"blue\", \"size\": 0.5}, \"mode\": \"markers\", \"text\": \"Spark appears with Power BI 61 times\", \"type\": \"scatter\", \"x\": [-0.8934774640931875], \"y\": [-0.10815739067491756]}, {\"hoverinfo\": \"text\", \"marker\": {\"color\": \"green\", \"size\": 0.5}, \"mode\": \"markers\", \"text\": \"Power BI appears with Informatica 26 times\", \"type\": \"scatter\", \"x\": [0.8999522283114638], \"y\": [0.009272904465750449]}, {\"hoverinfo\": \"text\", \"marker\": {\"color\": \"blue\", \"size\": 0.5}, \"mode\": \"markers\", \"text\": \"Informatica appears with Power BI 26 times\", \"type\": \"scatter\", \"x\": [-0.8479331174842774], \"y\": [-0.3016776893861969]}, {\"hoverinfo\": \"text\", \"marker\": {\"color\": \"green\", \"size\": 0.5}, \"mode\": \"markers\", \"text\": \"Power BI appears with Qlik 232 times\", \"type\": \"scatter\", \"x\": [0.8896484927260211], \"y\": [0.13610863084433228]}, {\"hoverinfo\": \"text\", \"marker\": {\"color\": \"blue\", \"size\": 0.5}, \"mode\": \"markers\", \"text\": \"Qlik appears with Power BI 232 times\", \"type\": \"scatter\", \"x\": [-0.7390646455201106], \"y\": [-0.5135985297313781]}, {\"hoverinfo\": \"text\", \"marker\": {\"color\": \"green\", \"size\": 0.5}, \"mode\": \"markers\", \"text\": \"Power BI appears with Tableau 267 times\", \"type\": \"scatter\", \"x\": [0.8760066423225801], \"y\": [0.2064276207456729]}, {\"hoverinfo\": \"text\", \"marker\": {\"color\": \"blue\", \"size\": 0.5}, \"mode\": \"markers\", \"text\": \"Tableau appears with Power BI 267 times\", \"type\": \"scatter\", \"x\": [-0.38753911090347076], \"y\": [-0.8122890110792755]}, {\"hoverinfo\": \"text\", \"marker\": {\"color\": \"green\", \"size\": 0.5}, \"mode\": \"markers\", \"text\": \"Power BI appears with Microstrategy 38 times\", \"type\": \"scatter\", \"x\": [0.8998925148894125], \"y\": [0.013909049069168126]}, {\"hoverinfo\": \"text\", \"marker\": {\"color\": \"blue\", \"size\": 0.5}, \"mode\": \"markers\", \"text\": \"Microstrategy appears with Power BI 38 times\", \"type\": \"scatter\", \"x\": [-0.10662141691671986], \"y\": [-0.8936620577459194]}, {\"hoverinfo\": \"text\", \"marker\": {\"color\": \"green\", \"size\": 0.5}, \"mode\": \"markers\", \"text\": \"Power BI appears with Oracle BI 245 times\", \"type\": \"scatter\", \"x\": [0.8837679959390939], \"y\": [0.1701591295047008]}, {\"hoverinfo\": \"text\", \"marker\": {\"color\": \"blue\", \"size\": 0.5}, \"mode\": \"markers\", \"text\": \"Oracle BI appears with Power BI 245 times\", \"type\": \"scatter\", \"x\": [0.19694864570264983], \"y\": [-0.8781863304310151]}, {\"hoverinfo\": \"text\", \"marker\": {\"color\": \"green\", \"size\": 0.5}, \"mode\": \"markers\", \"text\": \"Power BI appears with Python 120 times\", \"type\": \"scatter\", \"x\": [0.8980209822394706], \"y\": [0.05965161739346661]}, {\"hoverinfo\": \"text\", \"marker\": {\"color\": \"blue\", \"size\": 0.5}, \"mode\": \"markers\", \"text\": \"Python appears with Power BI 120 times\", \"type\": \"scatter\", \"x\": [0.5881851587810599], \"y\": [-0.6812035077637955]}, {\"hoverinfo\": \"text\", \"marker\": {\"color\": \"green\", \"size\": 0.5}, \"mode\": \"markers\", \"text\": \"Power BI appears with VBA 44 times\", \"type\": \"scatter\", \"x\": [0.8997811039044914], \"y\": [0.01984855300556718]}, {\"hoverinfo\": \"text\", \"marker\": {\"color\": \"blue\", \"size\": 0.5}, \"mode\": \"markers\", \"text\": \"VBA appears with Power BI 44 times\", \"type\": \"scatter\", \"x\": [0.8156654644130985], \"y\": [-0.3803811906019595]}, {\"hoverinfo\": \"text\", \"marker\": {\"color\": \"green\", \"size\": 0.5}, \"mode\": \"markers\", \"text\": \"Power BI appears with Linux 14 times\", \"type\": \"scatter\", \"x\": [0.8999774203075007], \"y\": [0.006375181303804255]}, {\"hoverinfo\": \"text\", \"marker\": {\"color\": \"blue\", \"size\": 0.5}, \"mode\": \"markers\", \"text\": \"Linux appears with Power BI 14 times\", \"type\": \"scatter\", \"x\": [0.8606066838453124], \"y\": [-0.26335553102369935]}, {\"hoverinfo\": \"text\", \"marker\": {\"color\": \"green\", \"size\": 0.5}, \"mode\": \"markers\", \"text\": \"Power BI appears with AWS 9 times\", \"type\": \"scatter\", \"x\": [0.89999894740425], \"y\": [0.0013764705743067312]}, {\"hoverinfo\": \"text\", \"marker\": {\"color\": \"blue\", \"size\": 0.5}, \"mode\": \"markers\", \"text\": \"AWS appears with Power BI 9 times\", \"type\": \"scatter\", \"x\": [0.8929128900149219], \"y\": [-0.11272342633720803]}, {\"hoverinfo\": \"text\", \"marker\": {\"color\": \"green\", \"size\": 0.5}, \"mode\": \"markers\", \"text\": \"Excel appears with SSIS/SSRS 727 times\", \"type\": \"scatter\", \"x\": [0.47127672180666813], \"y\": [0.7667452324489279]}, {\"hoverinfo\": \"text\", \"marker\": {\"color\": \"blue\", \"size\": 0.5}, \"mode\": \"markers\", \"text\": \"SSIS/SSRS appears with Excel 727 times\", \"type\": \"scatter\", \"x\": [-0.1187775306412465], \"y\": [0.8921277364899983]}, {\"hoverinfo\": \"text\", \"marker\": {\"color\": \"green\", \"size\": 0.5}, \"mode\": \"markers\", \"text\": \"Excel appears with MS SQL Server 295 times\", \"type\": \"scatter\", \"x\": [0.7366025511291563], \"y\": [0.5171234684966625]}, {\"hoverinfo\": \"text\", \"marker\": {\"color\": \"blue\", \"size\": 0.5}, \"mode\": \"markers\", \"text\": \"MS SQL Server appears with Excel 295 times\", \"type\": \"scatter\", \"x\": [-0.4415592751139517], \"y\": [0.7842355555321637]}, {\"hoverinfo\": \"text\", \"marker\": {\"color\": \"green\", \"size\": 0.5}, \"mode\": \"markers\", \"text\": \"Excel appears with PostgreSQL 81 times\", \"type\": \"scatter\", \"x\": [0.8342254478246255], \"y\": [0.33773939983632817]}, {\"hoverinfo\": \"text\", \"marker\": {\"color\": \"blue\", \"size\": 0.5}, \"mode\": \"markers\", \"text\": \"PostgreSQL appears with Excel 81 times\", \"type\": \"scatter\", \"x\": [-0.5646044822339228], \"y\": [0.700872155704137]}, {\"hoverinfo\": \"text\", \"marker\": {\"color\": \"green\", \"size\": 0.5}, \"mode\": \"markers\", \"text\": \"Excel appears with MySQL/MariaDB 156 times\", \"type\": \"scatter\", \"x\": [0.7945837479227115], \"y\": [0.42265431210044074]}, {\"hoverinfo\": \"text\", \"marker\": {\"color\": \"blue\", \"size\": 0.5}, \"mode\": \"markers\", \"text\": \"MySQL/MariaDB appears with Excel 156 times\", \"type\": \"scatter\", \"x\": [-0.6964851282113639], \"y\": [0.5700074264256563]}, {\"hoverinfo\": \"text\", \"marker\": {\"color\": \"green\", \"size\": 0.5}, \"mode\": \"markers\", \"text\": \"Excel appears with T-SQL 201 times\", \"type\": \"scatter\", \"x\": [0.7812541984484138], \"y\": [0.44681302287055885]}, {\"hoverinfo\": \"text\", \"marker\": {\"color\": \"blue\", \"size\": 0.5}, \"mode\": \"markers\", \"text\": \"T-SQL appears with Excel 201 times\", \"type\": \"scatter\", \"x\": [-0.813078679555254], \"y\": [0.38587959372411057]}, {\"hoverinfo\": \"text\", \"marker\": {\"color\": \"green\", \"size\": 0.5}, \"mode\": \"markers\", \"text\": \"Excel appears with PL/SQL 71 times\", \"type\": \"scatter\", \"x\": [0.8427576559208664], \"y\": [0.31584732607189586]}, {\"hoverinfo\": \"text\", \"marker\": {\"color\": \"blue\", \"size\": 0.5}, \"mode\": \"markers\", \"text\": \"PL/SQL appears with Excel 71 times\", \"type\": \"scatter\", \"x\": [-0.8517837498546361], \"y\": [0.2906276715723657]}, {\"hoverinfo\": \"text\", \"marker\": {\"color\": \"green\", \"size\": 0.5}, \"mode\": \"markers\", \"text\": \"Excel appears with Pentaho 68 times\", \"type\": \"scatter\", \"x\": [0.8464678739200929], \"y\": [0.3057648417022431]}, {\"hoverinfo\": \"text\", \"marker\": {\"color\": \"blue\", \"size\": 0.5}, \"mode\": \"markers\", \"text\": \"Pentaho appears with Excel 68 times\", \"type\": \"scatter\", \"x\": [-0.8811855734546538], \"y\": [0.18306279014423726]}, {\"hoverinfo\": \"text\", \"marker\": {\"color\": \"green\", \"size\": 0.5}, \"mode\": \"markers\", \"text\": \"Excel appears with Hadoop 130 times\", \"type\": \"scatter\", \"x\": [0.8047240921563745], \"y\": [0.40301257486969155]}, {\"hoverinfo\": \"text\", \"marker\": {\"color\": \"blue\", \"size\": 0.5}, \"mode\": \"markers\", \"text\": \"Hadoop appears with Excel 130 times\", \"type\": \"scatter\", \"x\": [-0.8984838687482869], \"y\": [0.05221817307328165]}, {\"hoverinfo\": \"text\", \"marker\": {\"color\": \"green\", \"size\": 0.5}, \"mode\": \"markers\", \"text\": \"Excel appears with Spark 128 times\", \"type\": \"scatter\", \"x\": [0.8134553611826683], \"y\": [0.3850848937093933]}, {\"hoverinfo\": \"text\", \"marker\": {\"color\": \"blue\", \"size\": 0.5}, \"mode\": \"markers\", \"text\": \"Spark appears with Excel 128 times\", \"type\": \"scatter\", \"x\": [-0.8814806911049872], \"y\": [-0.18163642588719428]}, {\"hoverinfo\": \"text\", \"marker\": {\"color\": \"green\", \"size\": 0.5}, \"mode\": \"markers\", \"text\": \"Excel appears with Informatica 125 times\", \"type\": \"scatter\", \"x\": [0.8216296459924258], \"y\": [0.3673210105974895]}, {\"hoverinfo\": \"text\", \"marker\": {\"color\": \"blue\", \"size\": 0.5}, \"mode\": \"markers\", \"text\": \"Informatica appears with Excel 125 times\", \"type\": \"scatter\", \"x\": [-0.8211994050843248], \"y\": [-0.3682818717900069]}, {\"hoverinfo\": \"text\", \"marker\": {\"color\": \"green\", \"size\": 0.5}, \"mode\": \"markers\", \"text\": \"Excel appears with Qlik 493 times\", \"type\": \"scatter\", \"x\": [0.6678112479720424], \"y\": [0.603347443088991]}, {\"hoverinfo\": \"text\", \"marker\": {\"color\": \"blue\", \"size\": 0.5}, \"mode\": \"markers\", \"text\": \"Qlik appears with Excel 493 times\", \"type\": \"scatter\", \"x\": [-0.6268162110951165], \"y\": [-0.6458339086083683]}, {\"hoverinfo\": \"text\", \"marker\": {\"color\": \"green\", \"size\": 0.5}, \"mode\": \"markers\", \"text\": \"Excel appears with Tableau 554 times\", \"type\": \"scatter\", \"x\": [0.5526087099482111], \"y\": [0.7103686463304627]}, {\"hoverinfo\": \"text\", \"marker\": {\"color\": \"blue\", \"size\": 0.5}, \"mode\": \"markers\", \"text\": \"Tableau appears with Excel 554 times\", \"type\": \"scatter\", \"x\": [-0.1938548480668272], \"y\": [-0.8788744494414361]}, {\"hoverinfo\": \"text\", \"marker\": {\"color\": \"green\", \"size\": 0.5}, \"mode\": \"markers\", \"text\": \"Excel appears with Microstrategy 56 times\", \"type\": \"scatter\", \"x\": [0.8496759278943361], \"y\": [0.2967335800965217]}, {\"hoverinfo\": \"text\", \"marker\": {\"color\": \"blue\", \"size\": 0.5}, \"mode\": \"markers\", \"text\": \"Microstrategy appears with Excel 56 times\", \"type\": \"scatter\", \"x\": [-0.09204247891468384], \"y\": [-0.8952810631724766]}, {\"hoverinfo\": \"text\", \"marker\": {\"color\": \"green\", \"size\": 0.5}, \"mode\": \"markers\", \"text\": \"Excel appears with Oracle BI 775 times\", \"type\": \"scatter\", \"x\": [0.36873213414983785], \"y\": [0.8209973284032696]}, {\"hoverinfo\": \"text\", \"marker\": {\"color\": \"blue\", \"size\": 0.5}, \"mode\": \"markers\", \"text\": \"Oracle BI appears with Excel 775 times\", \"type\": \"scatter\", \"x\": [0.45834493083508365], \"y\": [-0.7745449789249056]}, {\"hoverinfo\": \"text\", \"marker\": {\"color\": \"green\", \"size\": 0.5}, \"mode\": \"markers\", \"text\": \"Excel appears with Python 495 times\", \"type\": \"scatter\", \"x\": [0.6142767401802095], \"y\": [0.6577720627037724]}, {\"hoverinfo\": \"text\", \"marker\": {\"color\": \"blue\", \"size\": 0.5}, \"mode\": \"markers\", \"text\": \"Python appears with Excel 495 times\", \"type\": \"scatter\", \"x\": [0.7743318750076452], \"y\": [-0.4587048586478506]}, {\"hoverinfo\": \"text\", \"marker\": {\"color\": \"green\", \"size\": 0.5}, \"mode\": \"markers\", \"text\": \"Excel appears with VBA 320 times\", \"type\": \"scatter\", \"x\": [0.7082757349464723], \"y\": [0.5552886486198277]}, {\"hoverinfo\": \"text\", \"marker\": {\"color\": \"blue\", \"size\": 0.5}, \"mode\": \"markers\", \"text\": \"VBA appears with Excel 320 times\", \"type\": \"scatter\", \"x\": [0.8436340350266693], \"y\": [-0.31349898715086877]}, {\"hoverinfo\": \"text\", \"marker\": {\"color\": \"green\", \"size\": 0.5}, \"mode\": \"markers\", \"text\": \"Excel appears with Linux 105 times\", \"type\": \"scatter\", \"x\": [0.8287243353892237], \"y\": [0.35102133259061263]}, {\"hoverinfo\": \"text\", \"marker\": {\"color\": \"blue\", \"size\": 0.5}, \"mode\": \"markers\", \"text\": \"Linux appears with Excel 105 times\", \"type\": \"scatter\", \"x\": [0.8766190850671111], \"y\": [-0.20381113732105288]}, {\"hoverinfo\": \"text\", \"marker\": {\"color\": \"green\", \"size\": 0.5}, \"mode\": \"markers\", \"text\": \"Excel appears with AWS 76 times\", \"type\": \"scatter\", \"x\": [0.8387032550578217], \"y\": [0.3264611002177972]}, {\"hoverinfo\": \"text\", \"marker\": {\"color\": \"blue\", \"size\": 0.5}, \"mode\": \"markers\", \"text\": \"AWS appears with Excel 76 times\", \"type\": \"scatter\", \"x\": [0.8970138432300422], \"y\": [-0.07325411287886317]}, {\"hoverinfo\": \"text\", \"marker\": {\"color\": \"green\", \"size\": 0.5}, \"mode\": \"markers\", \"text\": \"SSIS/SSRS appears with MS SQL Server 315 times\", \"type\": \"scatter\", \"x\": [0.01518811642103816], \"y\": [0.899871835940864]}, {\"hoverinfo\": \"text\", \"marker\": {\"color\": \"blue\", \"size\": 0.5}, \"mode\": \"markers\", \"text\": \"MS SQL Server appears with SSIS/SSRS 315 times\", \"type\": \"scatter\", \"x\": [-0.4801541060336494], \"y\": [0.7612174685719102]}, {\"hoverinfo\": \"text\", \"marker\": {\"color\": \"green\", \"size\": 0.5}, \"mode\": \"markers\", \"text\": \"SSIS/SSRS appears with PostgreSQL 66 times\", \"type\": \"scatter\", \"x\": [0.26020289996017865], \"y\": [0.8615651170122391]}, {\"hoverinfo\": \"text\", \"marker\": {\"color\": \"blue\", \"size\": 0.5}, \"mode\": \"markers\", \"text\": \"PostgreSQL appears with SSIS/SSRS 66 times\", \"type\": \"scatter\", \"x\": [-0.5576943024158553], \"y\": [0.7063830866129883]}, {\"hoverinfo\": \"text\", \"marker\": {\"color\": \"green\", \"size\": 0.5}, \"mode\": \"markers\", \"text\": \"SSIS/SSRS appears with MySQL/MariaDB 92 times\", \"type\": \"scatter\", \"x\": [0.2039316973979824], \"y\": [0.8765910464956722]}, {\"hoverinfo\": \"text\", \"marker\": {\"color\": \"blue\", \"size\": 0.5}, \"mode\": \"markers\", \"text\": \"MySQL/MariaDB appears with SSIS/SSRS 92 times\", \"type\": \"scatter\", \"x\": [-0.6650715414878096], \"y\": [0.6063660979169506]}, {\"hoverinfo\": \"text\", \"marker\": {\"color\": \"green\", \"size\": 0.5}, \"mode\": \"markers\", \"text\": \"SSIS/SSRS appears with T-SQL 178 times\", \"type\": \"scatter\", \"x\": [0.15008108681798663], \"y\": [0.8873982574805588]}, {\"hoverinfo\": \"text\", \"marker\": {\"color\": \"blue\", \"size\": 0.5}, \"mode\": \"markers\", \"text\": \"T-SQL appears with SSIS/SSRS 178 times\", \"type\": \"scatter\", \"x\": [-0.788553190486118], \"y\": [0.4338016433511565]}, {\"hoverinfo\": \"text\", \"marker\": {\"color\": \"green\", \"size\": 0.5}, \"mode\": \"markers\", \"text\": \"SSIS/SSRS appears with PL/SQL 76 times\", \"type\": \"scatter\", \"x\": [0.239616392643556], \"y\": [0.8675159850841304]}, {\"hoverinfo\": \"text\", \"marker\": {\"color\": \"blue\", \"size\": 0.5}, \"mode\": \"markers\", \"text\": \"PL/SQL appears with SSIS/SSRS 76 times\", \"type\": \"scatter\", \"x\": [-0.8542130829224402], \"y\": [0.2834078491576058]}, {\"hoverinfo\": \"text\", \"marker\": {\"color\": \"green\", \"size\": 0.5}, \"mode\": \"markers\", \"text\": \"SSIS/SSRS appears with Pentaho 39 times\", \"type\": \"scatter\", \"x\": [0.2799965550075666], \"y\": [0.8553373189472647]}, {\"hoverinfo\": \"text\", \"marker\": {\"color\": \"blue\", \"size\": 0.5}, \"mode\": \"markers\", \"text\": \"Pentaho appears with SSIS/SSRS 39 times\", \"type\": \"scatter\", \"x\": [-0.8724012783690932], \"y\": [0.22116963964335595]}, {\"hoverinfo\": \"text\", \"marker\": {\"color\": \"green\", \"size\": 0.5}, \"mode\": \"markers\", \"text\": \"SSIS/SSRS appears with Hadoop 77 times\", \"type\": \"scatter\", \"x\": [0.2284687211348929], \"y\": [0.8705182614184418]}, {\"hoverinfo\": \"text\", \"marker\": {\"color\": \"blue\", \"size\": 0.5}, \"mode\": \"markers\", \"text\": \"Hadoop appears with SSIS/SSRS 77 times\", \"type\": \"scatter\", \"x\": [-0.8939993129392872], \"y\": [0.10375561895185449]}, {\"hoverinfo\": \"text\", \"marker\": {\"color\": \"green\", \"size\": 0.5}, \"mode\": \"markers\", \"text\": \"SSIS/SSRS appears with Spark 71 times\", \"type\": \"scatter\", \"x\": [0.250289783591503], \"y\": [0.8644969775711877]}, {\"hoverinfo\": \"text\", \"marker\": {\"color\": \"blue\", \"size\": 0.5}, \"mode\": \"markers\", \"text\": \"Spark appears with SSIS/SSRS 71 times\", \"type\": \"scatter\", \"x\": [-0.8910220235194037], \"y\": [-0.12680596832715393]}, {\"hoverinfo\": \"text\", \"marker\": {\"color\": \"green\", \"size\": 0.5}, \"mode\": \"markers\", \"text\": \"SSIS/SSRS appears with Informatica 83 times\", \"type\": \"scatter\", \"x\": [0.2167708419286025], \"y\": [0.873504666323864]}, {\"hoverinfo\": \"text\", \"marker\": {\"color\": \"blue\", \"size\": 0.5}, \"mode\": \"markers\", \"text\": \"Informatica appears with SSIS/SSRS 83 times\", \"type\": \"scatter\", \"x\": [-0.8356718006169043], \"y\": [-0.3341446418150396]}, {\"hoverinfo\": \"text\", \"marker\": {\"color\": \"green\", \"size\": 0.5}, \"mode\": \"markers\", \"text\": \"SSIS/SSRS appears with Qlik 114 times\", \"type\": \"scatter\", \"x\": [0.1887621454832932], \"y\": [0.8799823023405324]}, {\"hoverinfo\": \"text\", \"marker\": {\"color\": \"blue\", \"size\": 0.5}, \"mode\": \"markers\", \"text\": \"Qlik appears with SSIS/SSRS 114 times\", \"type\": \"scatter\", \"x\": [-0.7532954211328958], \"y\": [-0.4924896024285316]}, {\"hoverinfo\": \"text\", \"marker\": {\"color\": \"green\", \"size\": 0.5}, \"mode\": \"markers\", \"text\": \"SSIS/SSRS appears with Tableau 241 times\", \"type\": \"scatter\", \"x\": [0.05710468087893707], \"y\": [0.898186537096674]}, {\"hoverinfo\": \"text\", \"marker\": {\"color\": \"blue\", \"size\": 0.5}, \"mode\": \"markers\", \"text\": \"Tableau appears with SSIS/SSRS 241 times\", \"type\": \"scatter\", \"x\": [-0.42181295426212956], \"y\": [-0.7950307111153975]}, {\"hoverinfo\": \"text\", \"marker\": {\"color\": \"green\", \"size\": 0.5}, \"mode\": \"markers\", \"text\": \"SSIS/SSRS appears with Microstrategy 43 times\", \"type\": \"scatter\", \"x\": [0.26806551944218016], \"y\": [0.8591512540211963]}, {\"hoverinfo\": \"text\", \"marker\": {\"color\": \"blue\", \"size\": 0.5}, \"mode\": \"markers\", \"text\": \"Microstrategy appears with SSIS/SSRS 43 times\", \"type\": \"scatter\", \"x\": [-0.10246605755806105], \"y\": [-0.8941480341914911]}, {\"hoverinfo\": \"text\", \"marker\": {\"color\": \"green\", \"size\": 0.5}, \"mode\": \"markers\", \"text\": \"SSIS/SSRS appears with Oracle BI 369 times\", \"type\": \"scatter\", \"x\": [-0.03641397670989791], \"y\": [0.8992630439977899]}, {\"hoverinfo\": \"text\", \"marker\": {\"color\": \"blue\", \"size\": 0.5}, \"mode\": \"markers\", \"text\": \"Oracle BI appears with SSIS/SSRS 369 times\", \"type\": \"scatter\", \"x\": [0.24240468586960578], \"y\": [-0.8667410041462545]}, {\"hoverinfo\": \"text\", \"marker\": {\"color\": \"green\", \"size\": 0.5}, \"mode\": \"markers\", \"text\": \"SSIS/SSRS appears with Python 229 times\", \"type\": \"scatter\", \"x\": [0.09244463721614368], \"y\": [0.8952396266084157]}, {\"hoverinfo\": \"text\", \"marker\": {\"color\": \"blue\", \"size\": 0.5}, \"mode\": \"markers\", \"text\": \"Python appears with SSIS/SSRS 229 times\", \"type\": \"scatter\", \"x\": [0.6976374632540003], \"y\": [-0.568596491252385]}, {\"hoverinfo\": \"text\", \"marker\": {\"color\": \"green\", \"size\": 0.5}, \"mode\": \"markers\", \"text\": \"SSIS/SSRS appears with VBA 115 times\", \"type\": \"scatter\", \"x\": [0.17183301701529335], \"y\": [0.8834440640263661]}, {\"hoverinfo\": \"text\", \"marker\": {\"color\": \"blue\", \"size\": 0.5}, \"mode\": \"markers\", \"text\": \"VBA appears with SSIS/SSRS 115 times\", \"type\": \"scatter\", \"x\": [0.8334688038443879], \"y\": [-0.33960234542506507]}, {\"hoverinfo\": \"text\", \"marker\": {\"color\": \"green\", \"size\": 0.5}, \"mode\": \"markers\", \"text\": \"SSIS/SSRS appears with Linux 27 times\", \"type\": \"scatter\", \"x\": [0.28472528002791564], \"y\": [0.8537748619589506]}, {\"hoverinfo\": \"text\", \"marker\": {\"color\": \"blue\", \"size\": 0.5}, \"mode\": \"markers\", \"text\": \"Linux appears with SSIS/SSRS 27 times\", \"type\": \"scatter\", \"x\": [0.8624828995500493], \"y\": [-0.2571444107573401]}, {\"hoverinfo\": \"text\", \"marker\": {\"color\": \"green\", \"size\": 0.5}, \"mode\": \"markers\", \"text\": \"SSIS/SSRS appears with AWS 42 times\", \"type\": \"scatter\", \"x\": [0.27418141711113225], \"y\": [0.8572190796470476]}, {\"hoverinfo\": \"text\", \"marker\": {\"color\": \"blue\", \"size\": 0.5}, \"mode\": \"markers\", \"text\": \"AWS appears with SSIS/SSRS 42 times\", \"type\": \"scatter\", \"x\": [0.8951590493976741], \"y\": [-0.09322165135553281]}, {\"hoverinfo\": \"text\", \"marker\": {\"color\": \"green\", \"size\": 0.5}, \"mode\": \"markers\", \"text\": \"MS SQL Server appears with PostgreSQL 108 times\", \"type\": \"scatter\", \"x\": [-0.2768229154130451], \"y\": [0.8563697060862336]}, {\"hoverinfo\": \"text\", \"marker\": {\"color\": \"blue\", \"size\": 0.5}, \"mode\": \"markers\", \"text\": \"PostgreSQL appears with MS SQL Server 108 times\", \"type\": \"scatter\", \"x\": [-0.5734088929920779], \"y\": [0.6936874234391164]}, {\"hoverinfo\": \"text\", \"marker\": {\"color\": \"green\", \"size\": 0.5}, \"mode\": \"markers\", \"text\": \"MS SQL Server appears with MySQL/MariaDB 113 times\", \"type\": \"scatter\", \"x\": [-0.29226981471425856], \"y\": [0.8512216840558593]}, {\"hoverinfo\": \"text\", \"marker\": {\"color\": \"blue\", \"size\": 0.5}, \"mode\": \"markers\", \"text\": \"MySQL/MariaDB appears with MS SQL Server 113 times\", \"type\": \"scatter\", \"x\": [-0.6741378162527636], \"y\": [0.5962702446860445]}, {\"hoverinfo\": \"text\", \"marker\": {\"color\": \"green\", \"size\": 0.5}, \"mode\": \"markers\", \"text\": \"MS SQL Server appears with T-SQL 221 times\", \"type\": \"scatter\", \"x\": [-0.4080484503880325], \"y\": [0.802182312280647]}, {\"hoverinfo\": \"text\", \"marker\": {\"color\": \"blue\", \"size\": 0.5}, \"mode\": \"markers\", \"text\": \"T-SQL appears with MS SQL Server 221 times\", \"type\": \"scatter\", \"x\": [-0.8254930892587867], \"y\": [0.35855426309832755]}, {\"hoverinfo\": \"text\", \"marker\": {\"color\": \"green\", \"size\": 0.5}, \"mode\": \"markers\", \"text\": \"MS SQL Server appears with PL/SQL 14 times\", \"type\": \"scatter\", \"x\": [-0.20156405578424838], \"y\": [0.8771384904425324]}, {\"hoverinfo\": \"text\", \"marker\": {\"color\": \"blue\", \"size\": 0.5}, \"mode\": \"markers\", \"text\": \"PL/SQL appears with MS SQL Server 14 times\", \"type\": \"scatter\", \"x\": [-0.8443099399977985], \"y\": [0.31167406889395516]}, {\"hoverinfo\": \"text\", \"marker\": {\"color\": \"green\", \"size\": 0.5}, \"mode\": \"markers\", \"text\": \"MS SQL Server appears with Pentaho 54 times\", \"type\": \"scatter\", \"x\": [-0.21789941348415648], \"y\": [0.8732238233140805]}, {\"hoverinfo\": \"text\", \"marker\": {\"color\": \"blue\", \"size\": 0.5}, \"mode\": \"markers\", \"text\": \"Pentaho appears with MS SQL Server 54 times\", \"type\": \"scatter\", \"x\": [-0.8783705070685228], \"y\": [0.1961256034080867]}, {\"hoverinfo\": \"text\", \"marker\": {\"color\": \"green\", \"size\": 0.5}, \"mode\": \"markers\", \"text\": \"MS SQL Server appears with Hadoop 57 times\", \"type\": \"scatter\", \"x\": [-0.23366085574807055], \"y\": [0.8691390018236895]}, {\"hoverinfo\": \"text\", \"marker\": {\"color\": \"blue\", \"size\": 0.5}, \"mode\": \"markers\", \"text\": \"Hadoop appears with MS SQL Server 57 times\", \"type\": \"scatter\", \"x\": [-0.8928755462254999], \"y\": [0.1130188433515187]}, {\"hoverinfo\": \"text\", \"marker\": {\"color\": \"green\", \"size\": 0.5}, \"mode\": \"markers\", \"text\": \"MS SQL Server appears with Spark 55 times\", \"type\": \"scatter\", \"x\": [-0.22568239099159917], \"y\": [0.8712447752476424]}, {\"hoverinfo\": \"text\", \"marker\": {\"color\": \"blue\", \"size\": 0.5}, \"mode\": \"markers\", \"text\": \"Spark appears with MS SQL Server 55 times\", \"type\": \"scatter\", \"x\": [-0.8944125994645354], \"y\": [-0.10013042454265621]}, {\"hoverinfo\": \"text\", \"marker\": {\"color\": \"green\", \"size\": 0.5}, \"mode\": \"markers\", \"text\": \"MS SQL Server appears with Informatica 78 times\", \"type\": \"scatter\", \"x\": [-0.2637519342540586], \"y\": [0.8604852800468134]}, {\"hoverinfo\": \"text\", \"marker\": {\"color\": \"blue\", \"size\": 0.5}, \"mode\": \"markers\", \"text\": \"Informatica appears with MS SQL Server 78 times\", \"type\": \"scatter\", \"x\": [-0.8394514661742903], \"y\": [-0.32453233419466]}, {\"hoverinfo\": \"text\", \"marker\": {\"color\": \"green\", \"size\": 0.5}, \"mode\": \"markers\", \"text\": \"MS SQL Server appears with Qlik 77 times\", \"type\": \"scatter\", \"x\": [-0.25281261092685586], \"y\": [0.8637625737182333]}, {\"hoverinfo\": \"text\", \"marker\": {\"color\": \"blue\", \"size\": 0.5}, \"mode\": \"markers\", \"text\": \"Qlik appears with MS SQL Server 77 times\", \"type\": \"scatter\", \"x\": [-0.7750833106492455], \"y\": [-0.45743399693617576]}, {\"hoverinfo\": \"text\", \"marker\": {\"color\": \"green\", \"size\": 0.5}, \"mode\": \"markers\", \"text\": \"MS SQL Server appears with Tableau 153 times\", \"type\": \"scatter\", \"x\": [-0.33028624410249235], \"y\": [0.8372042743301475]}, {\"hoverinfo\": \"text\", \"marker\": {\"color\": \"blue\", \"size\": 0.5}, \"mode\": \"markers\", \"text\": \"Tableau appears with MS SQL Server 153 times\", \"type\": \"scatter\", \"x\": [-0.4747226502327697], \"y\": [-0.764616508686528]}, {\"hoverinfo\": \"text\", \"marker\": {\"color\": \"green\", \"size\": 0.5}, \"mode\": \"markers\", \"text\": \"MS SQL Server appears with Microstrategy 25 times\", \"type\": \"scatter\", \"x\": [-0.20665873895876216], \"y\": [0.8759521480149326]}, {\"hoverinfo\": \"text\", \"marker\": {\"color\": \"blue\", \"size\": 0.5}, \"mode\": \"markers\", \"text\": \"Microstrategy appears with MS SQL Server 25 times\", \"type\": \"scatter\", \"x\": [-0.11528371784454028], \"y\": [-0.8925859423046839]}, {\"hoverinfo\": \"text\", \"marker\": {\"color\": \"green\", \"size\": 0.5}, \"mode\": \"markers\", \"text\": \"MS SQL Server appears with Oracle BI 219 times\", \"type\": \"scatter\", \"x\": [-0.3788959385105905], \"y\": [0.8163564587728689]}, {\"hoverinfo\": \"text\", \"marker\": {\"color\": \"blue\", \"size\": 0.5}, \"mode\": \"markers\", \"text\": \"Oracle BI appears with MS SQL Server 219 times\", \"type\": \"scatter\", \"x\": [0.1278773778129643], \"y\": [-0.890868888357698]}, {\"hoverinfo\": \"text\", \"marker\": {\"color\": \"green\", \"size\": 0.5}, \"mode\": \"markers\", \"text\": \"MS SQL Server appears with Python 142 times\", \"type\": \"scatter\", \"x\": [-0.30997397398173454], \"y\": [0.8449355806533247]}, {\"hoverinfo\": \"text\", \"marker\": {\"color\": \"blue\", \"size\": 0.5}, \"mode\": \"markers\", \"text\": \"Python appears with MS SQL Server 142 times\", \"type\": \"scatter\", \"x\": [0.6028714445878737], \"y\": [-0.6682409904372302]}, {\"hoverinfo\": \"text\", \"marker\": {\"color\": \"green\", \"size\": 0.5}, \"mode\": \"markers\", \"text\": \"MS SQL Server appears with VBA 39 times\", \"type\": \"scatter\", \"x\": [-0.21124515149189696], \"y\": [0.8748574089365452]}, {\"hoverinfo\": \"text\", \"marker\": {\"color\": \"blue\", \"size\": 0.5}, \"mode\": \"markers\", \"text\": \"VBA appears with MS SQL Server 39 times\", \"type\": \"scatter\", \"x\": [0.8133919713243285], \"y\": [-0.3852187702917949]}, {\"hoverinfo\": \"text\", \"marker\": {\"color\": \"green\", \"size\": 0.5}, \"mode\": \"markers\", \"text\": \"MS SQL Server appears with Linux 68 times\", \"type\": \"scatter\", \"x\": [-0.24254216761094263], \"y\": [0.8667025423584411]}, {\"hoverinfo\": \"text\", \"marker\": {\"color\": \"blue\", \"size\": 0.5}, \"mode\": \"markers\", \"text\": \"Linux appears with MS SQL Server 68 times\", \"type\": \"scatter\", \"x\": [0.8739819803731793], \"y\": [-0.21483830660051245]}, {\"hoverinfo\": \"text\", \"marker\": {\"color\": \"green\", \"size\": 0.5}, \"mode\": \"markers\", \"text\": \"MS SQL Server appears with AWS 16 times\", \"type\": \"scatter\", \"x\": [-0.203717579495053], \"y\": [0.8766408317005756]}, {\"hoverinfo\": \"text\", \"marker\": {\"color\": \"blue\", \"size\": 0.5}, \"mode\": \"markers\", \"text\": \"AWS appears with MS SQL Server 16 times\", \"type\": \"scatter\", \"x\": [0.8936850806073778], \"y\": [-0.10642827020949111]}, {\"hoverinfo\": \"text\", \"marker\": {\"color\": \"green\", \"size\": 0.5}, \"mode\": \"markers\", \"text\": \"PostgreSQL appears with MySQL/MariaDB 126 times\", \"type\": \"scatter\", \"x\": [-0.5841827799382144], \"y\": [0.6846389410657707]}, {\"hoverinfo\": \"text\", \"marker\": {\"color\": \"blue\", \"size\": 0.5}, \"mode\": \"markers\", \"text\": \"MySQL/MariaDB appears with PostgreSQL 126 times\", \"type\": \"scatter\", \"x\": [-0.6845141527592528], \"y\": [0.5843289952349467]}, {\"hoverinfo\": \"text\", \"marker\": {\"color\": \"green\", \"size\": 0.5}, \"mode\": \"markers\", \"text\": \"PostgreSQL appears with T-SQL 49 times\", \"type\": \"scatter\", \"x\": [-0.5358711243996185], \"y\": [0.7230782378378489]}, {\"hoverinfo\": \"text\", \"marker\": {\"color\": \"blue\", \"size\": 0.5}, \"mode\": \"markers\", \"text\": \"T-SQL appears with PostgreSQL 49 times\", \"type\": \"scatter\", \"x\": [-0.740190277494967], \"y\": [0.5119749535884776]}, {\"hoverinfo\": \"text\", \"marker\": {\"color\": \"green\", \"size\": 0.5}, \"mode\": \"markers\", \"text\": \"PostgreSQL appears with PL/SQL 3 times\", \"type\": \"scatter\", \"x\": [-0.5232310725365984], \"y\": [0.7322767541935228]}, {\"hoverinfo\": \"text\", \"marker\": {\"color\": \"blue\", \"size\": 0.5}, \"mode\": \"markers\", \"text\": \"PL/SQL appears with PostgreSQL 3 times\", \"type\": \"scatter\", \"x\": [-0.8422276970962325], \"y\": [0.31725779146299465]}, {\"hoverinfo\": \"text\", \"marker\": {\"color\": \"green\", \"size\": 0.5}, \"mode\": \"markers\", \"text\": \"PostgreSQL appears with Pentaho 55 times\", \"type\": \"scatter\", \"x\": [-0.54605814047799], \"y\": [0.7154163174108624]}, {\"hoverinfo\": \"text\", \"marker\": {\"color\": \"blue\", \"size\": 0.5}, \"mode\": \"markers\", \"text\": \"Pentaho appears with PostgreSQL 55 times\", \"type\": \"scatter\", \"x\": [-0.8797172578555723], \"y\": [0.18999354260361717]}, {\"hoverinfo\": \"text\", \"marker\": {\"color\": \"green\", \"size\": 0.5}, \"mode\": \"markers\", \"text\": \"PostgreSQL appears with Hadoop 10 times\", \"type\": \"scatter\", \"x\": [-0.5245511045280179], \"y\": [0.7313317569601614]}, {\"hoverinfo\": \"text\", \"marker\": {\"color\": \"blue\", \"size\": 0.5}, \"mode\": \"markers\", \"text\": \"Hadoop appears with PostgreSQL 10 times\", \"type\": \"scatter\", \"x\": [-0.8890049994238204], \"y\": [0.14025017290346925]}, {\"hoverinfo\": \"text\", \"marker\": {\"color\": \"green\", \"size\": 0.5}, \"mode\": \"markers\", \"text\": \"PostgreSQL appears with Spark 20 times\", \"type\": \"scatter\", \"x\": [-0.5288415621214395], \"y\": [0.7282352656751496]}, {\"hoverinfo\": \"text\", \"marker\": {\"color\": \"blue\", \"size\": 0.5}, \"mode\": \"markers\", \"text\": \"Spark appears with PostgreSQL 20 times\", \"type\": \"scatter\", \"x\": [-0.8962019110744], \"y\": [-0.08259621411780002]}, {\"hoverinfo\": \"text\", \"marker\": {\"color\": \"green\", \"size\": 0.5}, \"mode\": \"markers\", \"text\": \"PostgreSQL appears with Informatica 2 times\", \"type\": \"scatter\", \"x\": [-0.5229864352148429], \"y\": [0.7324514923059895]}, {\"hoverinfo\": \"text\", \"marker\": {\"color\": \"blue\", \"size\": 0.5}, \"mode\": \"markers\", \"text\": \"Informatica appears with PostgreSQL 2 times\", \"type\": \"scatter\", \"x\": [-0.8530107203351198], \"y\": [-0.28700646507240923]}, {\"hoverinfo\": \"text\", \"marker\": {\"color\": \"green\", \"size\": 0.5}, \"mode\": \"markers\", \"text\": \"PostgreSQL appears with Qlik 15 times\", \"type\": \"scatter\", \"x\": [-0.5271373110837522], \"y\": [0.7294698453420755]}, {\"hoverinfo\": \"text\", \"marker\": {\"color\": \"blue\", \"size\": 0.5}, \"mode\": \"markers\", \"text\": \"Qlik appears with PostgreSQL 15 times\", \"type\": \"scatter\", \"x\": [-0.7961693266052738], \"y\": [-0.41965986628805096]}, {\"hoverinfo\": \"text\", \"marker\": {\"color\": \"green\", \"size\": 0.5}, \"mode\": \"markers\", \"text\": \"PostgreSQL appears with Tableau 7 times\", \"type\": \"scatter\", \"x\": [-0.5237201720044592], \"y\": [0.7319270328629894]}, {\"hoverinfo\": \"text\", \"marker\": {\"color\": \"blue\", \"size\": 0.5}, \"mode\": \"markers\", \"text\": \"Tableau appears with PostgreSQL 7 times\", \"type\": \"scatter\", \"x\": [-0.5785193201562515], \"y\": [-0.6894312120914955]}, {\"hoverinfo\": \"text\", \"marker\": {\"color\": \"green\", \"size\": 0.5}, \"mode\": \"markers\", \"text\": \"PostgreSQL appears with Oracle BI 54 times\", \"type\": \"scatter\", \"x\": [-0.5408340292059016], \"y\": [0.7193737226594463]}, {\"hoverinfo\": \"text\", \"marker\": {\"color\": \"blue\", \"size\": 0.5}, \"mode\": \"markers\", \"text\": \"Oracle BI appears with PostgreSQL 54 times\", \"type\": \"scatter\", \"x\": [-0.03362306764398514], \"y\": [-0.8993717192141456]}, {\"hoverinfo\": \"text\", \"marker\": {\"color\": \"green\", \"size\": 0.5}, \"mode\": \"markers\", \"text\": \"PostgreSQL appears with Python 38 times\", \"type\": \"scatter\", \"x\": [-0.5316593792007791], \"y\": [0.7261806280174666]}, {\"hoverinfo\": \"text\", \"marker\": {\"color\": \"blue\", \"size\": 0.5}, \"mode\": \"markers\", \"text\": \"Python appears with PostgreSQL 38 times\", \"type\": \"scatter\", \"x\": [0.5406915360746746], \"y\": [-0.71948082866551]}, {\"hoverinfo\": \"text\", \"marker\": {\"color\": \"green\", \"size\": 0.5}, \"mode\": \"markers\", \"text\": \"PostgreSQL appears with Linux 62 times\", \"type\": \"scatter\", \"x\": [-0.5516334432463057], \"y\": [0.711126250599867]}, {\"hoverinfo\": \"text\", \"marker\": {\"color\": \"blue\", \"size\": 0.5}, \"mode\": \"markers\", \"text\": \"Linux appears with PostgreSQL 62 times\", \"type\": \"scatter\", \"x\": [0.8696905372506878], \"y\": [-0.23159958855017407]}, {\"hoverinfo\": \"text\", \"marker\": {\"color\": \"green\", \"size\": 0.5}, \"mode\": \"markers\", \"text\": \"PostgreSQL appears with AWS 14 times\", \"type\": \"scatter\", \"x\": [-0.5257230336156676], \"y\": [0.7304897616845425]}, {\"hoverinfo\": \"text\", \"marker\": {\"color\": \"blue\", \"size\": 0.5}, \"mode\": \"markers\", \"text\": \"AWS appears with PostgreSQL 14 times\", \"type\": \"scatter\", \"x\": [0.8932492608563198], \"y\": [-0.11002616952179314]}, {\"hoverinfo\": \"text\", \"marker\": {\"color\": \"green\", \"size\": 0.5}, \"mode\": \"markers\", \"text\": \"MySQL/MariaDB appears with T-SQL 47 times\", \"type\": \"scatter\", \"x\": [-0.6239373458064229], \"y\": [0.6486155937903715]}, {\"hoverinfo\": \"text\", \"marker\": {\"color\": \"blue\", \"size\": 0.5}, \"mode\": \"markers\", \"text\": \"T-SQL appears with MySQL/MariaDB 47 times\", \"type\": \"scatter\", \"x\": [-0.7324197262695936], \"y\": [0.523030921238098]}, {\"hoverinfo\": \"text\", \"marker\": {\"color\": \"green\", \"size\": 0.5}, \"mode\": \"markers\", \"text\": \"MySQL/MariaDB appears with PL/SQL 1 times\", \"type\": \"scatter\", \"x\": [-0.6110324504341256], \"y\": [0.660786913094129]}, {\"hoverinfo\": \"text\", \"marker\": {\"color\": \"blue\", \"size\": 0.5}, \"mode\": \"markers\", \"text\": \"PL/SQL appears with MySQL/MariaDB 1 times\", \"type\": \"scatter\", \"x\": [-0.842044886053329], \"y\": [0.31774267870627076]}, {\"hoverinfo\": \"text\", \"marker\": {\"color\": \"green\", \"size\": 0.5}, \"mode\": \"markers\", \"text\": \"MySQL/MariaDB appears with Pentaho 73 times\", \"type\": \"scatter\", \"x\": [-0.6359444533702111], \"y\": [0.6368474324574634]}, {\"hoverinfo\": \"text\", \"marker\": {\"color\": \"blue\", \"size\": 0.5}, \"mode\": \"markers\", \"text\": \"Pentaho appears with MySQL/MariaDB 73 times\", \"type\": \"scatter\", \"x\": [-0.8828015864064245], \"y\": [0.17510385215151691]}, {\"hoverinfo\": \"text\", \"marker\": {\"color\": \"green\", \"size\": 0.5}, \"mode\": \"markers\", \"text\": \"MySQL/MariaDB appears with Hadoop 17 times\", \"type\": \"scatter\", \"x\": [-0.6151030476592726], \"y\": [0.6569994221917358]}, {\"hoverinfo\": \"text\", \"marker\": {\"color\": \"blue\", \"size\": 0.5}, \"mode\": \"markers\", \"text\": \"Hadoop appears with MySQL/MariaDB 17 times\", \"type\": \"scatter\", \"x\": [-0.8901561912900623], \"y\": [0.13274771225136098]}, {\"hoverinfo\": \"text\", \"marker\": {\"color\": \"green\", \"size\": 0.5}, \"mode\": \"markers\", \"text\": \"MySQL/MariaDB appears with Spark 42 times\", \"type\": \"scatter\", \"x\": [-0.6196784021177345], \"y\": [0.6526857421062693]}, {\"hoverinfo\": \"text\", \"marker\": {\"color\": \"blue\", \"size\": 0.5}, \"mode\": \"markers\", \"text\": \"Spark appears with MySQL/MariaDB 42 times\", \"type\": \"scatter\", \"x\": [-0.8957951936125933], \"y\": [-0.08689632386111928]}, {\"hoverinfo\": \"text\", \"marker\": {\"color\": \"green\", \"size\": 0.5}, \"mode\": \"markers\", \"text\": \"MySQL/MariaDB appears with Informatica 11 times\", \"type\": \"scatter\", \"x\": [-0.6126828912599442], \"y\": [0.6592569110425429]}, {\"hoverinfo\": \"text\", \"marker\": {\"color\": \"blue\", \"size\": 0.5}, \"mode\": \"markers\", \"text\": \"Informatica appears with MySQL/MariaDB 11 times\", \"type\": \"scatter\", \"x\": [-0.8524979058470629], \"y\": [-0.28852611758101276]}, {\"hoverinfo\": \"text\", \"marker\": {\"color\": \"green\", \"size\": 0.5}, \"mode\": \"markers\", \"text\": \"MySQL/MariaDB appears with Qlik 18 times\", \"type\": \"scatter\", \"x\": [-0.6167922099467275], \"y\": [0.6554138919408347]}, {\"hoverinfo\": \"text\", \"marker\": {\"color\": \"blue\", \"size\": 0.5}, \"mode\": \"markers\", \"text\": \"Qlik appears with MySQL/MariaDB 18 times\", \"type\": \"scatter\", \"x\": [-0.7928163006978597], \"y\": [-0.4259604598407709]}, {\"hoverinfo\": \"text\", \"marker\": {\"color\": \"green\", \"size\": 0.5}, \"mode\": \"markers\", \"text\": \"MySQL/MariaDB appears with Tableau 74 times\", \"type\": \"scatter\", \"x\": [-0.6427923317511406], \"y\": [0.6299349317524244]}, {\"hoverinfo\": \"text\", \"marker\": {\"color\": \"blue\", \"size\": 0.5}, \"mode\": \"markers\", \"text\": \"Tableau appears with MySQL/MariaDB 74 times\", \"type\": \"scatter\", \"x\": [-0.5483050259820483], \"y\": [-0.7136957324258183]}, {\"hoverinfo\": \"text\", \"marker\": {\"color\": \"green\", \"size\": 0.5}, \"mode\": \"markers\", \"text\": \"MySQL/MariaDB appears with Oracle BI 84 times\", \"type\": \"scatter\", \"x\": [-0.6571671218435515], \"y\": [0.6149238765634838]}, {\"hoverinfo\": \"text\", \"marker\": {\"color\": \"blue\", \"size\": 0.5}, \"mode\": \"markers\", \"text\": \"Oracle BI appears with MySQL/MariaDB 84 times\", \"type\": \"scatter\", \"x\": [0.009278741965804239], \"y\": [-0.8999521681442475]}, {\"hoverinfo\": \"text\", \"marker\": {\"color\": \"green\", \"size\": 0.5}, \"mode\": \"markers\", \"text\": \"MySQL/MariaDB appears with Python 78 times\", \"type\": \"scatter\", \"x\": [-0.6497941127754052], \"y\": [0.6227098931303596]}, {\"hoverinfo\": \"text\", \"marker\": {\"color\": \"blue\", \"size\": 0.5}, \"mode\": \"markers\", \"text\": \"Python appears with MySQL/MariaDB 78 times\", \"type\": \"scatter\", \"x\": [0.5679005946136165], \"y\": [-0.6982040637503486]}, {\"hoverinfo\": \"text\", \"marker\": {\"color\": \"green\", \"size\": 0.5}, \"mode\": \"markers\", \"text\": \"MySQL/MariaDB appears with VBA 6 times\", \"type\": \"scatter\", \"x\": [-0.611858149084351], \"y\": [0.66002242795156]}, {\"hoverinfo\": \"text\", \"marker\": {\"color\": \"blue\", \"size\": 0.5}, \"mode\": \"markers\", \"text\": \"VBA appears with MySQL/MariaDB 6 times\", \"type\": \"scatter\", \"x\": [0.8066854384845331], \"y\": [-0.39907217810443346]}, {\"hoverinfo\": \"text\", \"marker\": {\"color\": \"green\", \"size\": 0.5}, \"mode\": \"markers\", \"text\": \"MySQL/MariaDB appears with Linux 67 times\", \"type\": \"scatter\", \"x\": [-0.6293535458839612], \"y\": [0.6433615735208973]}, {\"hoverinfo\": \"text\", \"marker\": {\"color\": \"blue\", \"size\": 0.5}, \"mode\": \"markers\", \"text\": \"Linux appears with MySQL/MariaDB 67 times\", \"type\": \"scatter\", \"x\": [0.8718277499344039], \"y\": [-0.22341972707062954]}, {\"hoverinfo\": \"text\", \"marker\": {\"color\": \"green\", \"size\": 0.5}, \"mode\": \"markers\", \"text\": \"MySQL/MariaDB appears with AWS 11 times\", \"type\": \"scatter\", \"x\": [-0.6137487827436414], \"y\": [0.6582647124680909]}, {\"hoverinfo\": \"text\", \"marker\": {\"color\": \"blue\", \"size\": 0.5}, \"mode\": \"markers\", \"text\": \"AWS appears with MySQL/MariaDB 11 times\", \"type\": \"scatter\", \"x\": [0.8930633938596257], \"y\": [-0.11152477100593818]}, {\"hoverinfo\": \"text\", \"marker\": {\"color\": \"green\", \"size\": 0.5}, \"mode\": \"markers\", \"text\": \"T-SQL appears with PL/SQL 56 times\", \"type\": \"scatter\", \"x\": [-0.7524704973079799], \"y\": [0.4937490766382066]}, {\"hoverinfo\": \"text\", \"marker\": {\"color\": \"blue\", \"size\": 0.5}, \"mode\": \"markers\", \"text\": \"PL/SQL appears with T-SQL 56 times\", \"type\": \"scatter\", \"x\": [-0.8496357994466851], \"y\": [0.2968484601587016]}, {\"hoverinfo\": \"text\", \"marker\": {\"color\": \"green\", \"size\": 0.5}, \"mode\": \"markers\", \"text\": \"T-SQL appears with Pentaho 50 times\", \"type\": \"scatter\", \"x\": [-0.744173123875222], \"y\": [0.5061683136090144]}, {\"hoverinfo\": \"text\", \"marker\": {\"color\": \"blue\", \"size\": 0.5}, \"mode\": \"markers\", \"text\": \"Pentaho appears with T-SQL 50 times\", \"type\": \"scatter\", \"x\": [-0.8770456860150465], \"y\": [0.20196748412156973]}, {\"hoverinfo\": \"text\", \"marker\": {\"color\": \"green\", \"size\": 0.5}, \"mode\": \"markers\", \"text\": \"T-SQL appears with Hadoop 52 times\", \"type\": \"scatter\", \"x\": [-0.7482290177413217], \"y\": [0.5001533135048263]}, {\"hoverinfo\": \"text\", \"marker\": {\"color\": \"blue\", \"size\": 0.5}, \"mode\": \"markers\", \"text\": \"Hadoop appears with T-SQL 52 times\", \"type\": \"scatter\", \"x\": [-0.8908522072801923], \"y\": [0.1279935341492269]}, {\"hoverinfo\": \"text\", \"marker\": {\"color\": \"green\", \"size\": 0.5}, \"mode\": \"markers\", \"text\": \"T-SQL appears with Spark 47 times\", \"type\": \"scatter\", \"x\": [-0.7362848525909387], \"y\": [0.5175757102542002]}, {\"hoverinfo\": \"text\", \"marker\": {\"color\": \"blue\", \"size\": 0.5}, \"mode\": \"markers\", \"text\": \"Spark appears with T-SQL 47 times\", \"type\": \"scatter\", \"x\": [-0.895175293214326], \"y\": [-0.09306553829772585]}, {\"hoverinfo\": \"text\", \"marker\": {\"color\": \"green\", \"size\": 0.5}, \"mode\": \"markers\", \"text\": \"T-SQL appears with Informatica 19 times\", \"type\": \"scatter\", \"x\": [-0.7227077405783849], \"y\": [0.5363706943039357]}, {\"hoverinfo\": \"text\", \"marker\": {\"color\": \"blue\", \"size\": 0.5}, \"mode\": \"markers\", \"text\": \"Informatica appears with T-SQL 19 times\", \"type\": \"scatter\", \"x\": [-0.84995655970311], \"y\": [-0.295928786395737]}, {\"hoverinfo\": \"text\", \"marker\": {\"color\": \"green\", \"size\": 0.5}, \"mode\": \"markers\", \"text\": \"T-SQL appears with Qlik 84 times\", \"type\": \"scatter\", \"x\": [-0.7696236320451675], \"y\": [0.46656131965434566]}, {\"hoverinfo\": \"text\", \"marker\": {\"color\": \"blue\", \"size\": 0.5}, \"mode\": \"markers\", \"text\": \"Qlik appears with T-SQL 84 times\", \"type\": \"scatter\", \"x\": [-0.7689952978803063], \"y\": [-0.46759622735644374]}, {\"hoverinfo\": \"text\", \"marker\": {\"color\": \"green\", \"size\": 0.5}, \"mode\": \"markers\", \"text\": \"T-SQL appears with Tableau 135 times\", \"type\": \"scatter\", \"x\": [-0.7775827372476837], \"y\": [0.4531722484159856]}, {\"hoverinfo\": \"text\", \"marker\": {\"color\": \"blue\", \"size\": 0.5}, \"mode\": \"markers\", \"text\": \"Tableau appears with T-SQL 135 times\", \"type\": \"scatter\", \"x\": [-0.4930661950522862], \"y\": [-0.7529181411658646]}, {\"hoverinfo\": \"text\", \"marker\": {\"color\": \"green\", \"size\": 0.5}, \"mode\": \"markers\", \"text\": \"T-SQL appears with Microstrategy 21 times\", \"type\": \"scatter\", \"x\": [-0.7243996444416464], \"y\": [0.5340834720648229]}, {\"hoverinfo\": \"text\", \"marker\": {\"color\": \"blue\", \"size\": 0.5}, \"mode\": \"markers\", \"text\": \"Microstrategy appears with T-SQL 21 times\", \"type\": \"scatter\", \"x\": [-0.11763966053889335], \"y\": [-0.8922784936712831]}, {\"hoverinfo\": \"text\", \"marker\": {\"color\": \"green\", \"size\": 0.5}, \"mode\": \"markers\", \"text\": \"T-SQL appears with Oracle BI 189 times\", \"type\": \"scatter\", \"x\": [-0.8008013544540428], \"y\": [0.41075198198495727]}, {\"hoverinfo\": \"text\", \"marker\": {\"color\": \"blue\", \"size\": 0.5}, \"mode\": \"markers\", \"text\": \"Oracle BI appears with T-SQL 189 times\", \"type\": \"scatter\", \"x\": [0.09697139577094843], \"y\": [-0.8947606095499702]}, {\"hoverinfo\": \"text\", \"marker\": {\"color\": \"green\", \"size\": 0.5}, \"mode\": \"markers\", \"text\": \"T-SQL appears with Python 78 times\", \"type\": \"scatter\", \"x\": [-0.757656843819369], \"y\": [0.48575313381765456]}, {\"hoverinfo\": \"text\", \"marker\": {\"color\": \"blue\", \"size\": 0.5}, \"mode\": \"markers\", \"text\": \"Python appears with T-SQL 78 times\", \"type\": \"scatter\", \"x\": [0.5769011286782372], \"y\": [-0.6907858479512852]}, {\"hoverinfo\": \"text\", \"marker\": {\"color\": \"green\", \"size\": 0.5}, \"mode\": \"markers\", \"text\": \"T-SQL appears with VBA 27 times\", \"type\": \"scatter\", \"x\": [-0.7264203726920226], \"y\": [0.531331762779135]}, {\"hoverinfo\": \"text\", \"marker\": {\"color\": \"blue\", \"size\": 0.5}, \"mode\": \"markers\", \"text\": \"VBA appears with T-SQL 27 times\", \"type\": \"scatter\", \"x\": [0.8098296501691473], \"y\": [-0.3926524388144258]}, {\"hoverinfo\": \"text\", \"marker\": {\"color\": \"green\", \"size\": 0.5}, \"mode\": \"markers\", \"text\": \"T-SQL appears with Linux 35 times\", \"type\": \"scatter\", \"x\": [-0.7290150056336006], \"y\": [0.5277661618188888]}, {\"hoverinfo\": \"text\", \"marker\": {\"color\": \"blue\", \"size\": 0.5}, \"mode\": \"markers\", \"text\": \"Linux appears with T-SQL 35 times\", \"type\": \"scatter\", \"x\": [0.8648422546309035], \"y\": [-0.24909410792898254]}, {\"hoverinfo\": \"text\", \"marker\": {\"color\": \"green\", \"size\": 0.5}, \"mode\": \"markers\", \"text\": \"T-SQL appears with AWS 19 times\", \"type\": \"scatter\", \"x\": [-0.7210937425872028], \"y\": [0.5385385913763107]}, {\"hoverinfo\": \"text\", \"marker\": {\"color\": \"blue\", \"size\": 0.5}, \"mode\": \"markers\", \"text\": \"AWS appears with T-SQL 19 times\", \"type\": \"scatter\", \"x\": [0.8939326168263892], \"y\": [-0.10432869487309838]}, {\"hoverinfo\": \"text\", \"marker\": {\"color\": \"green\", \"size\": 0.5}, \"mode\": \"markers\", \"text\": \"PL/SQL appears with Pentaho 8 times\", \"type\": \"scatter\", \"x\": [-0.8427926366182327], \"y\": [0.31575397331163974]}, {\"hoverinfo\": \"text\", \"marker\": {\"color\": \"blue\", \"size\": 0.5}, \"mode\": \"markers\", \"text\": \"Pentaho appears with PL/SQL 8 times\", \"type\": \"scatter\", \"x\": [-0.8675820796203878], \"y\": [0.2393769728306445]}, {\"hoverinfo\": \"text\", \"marker\": {\"color\": \"green\", \"size\": 0.5}, \"mode\": \"markers\", \"text\": \"PL/SQL appears with Hadoop 9 times\", \"type\": \"scatter\", \"x\": [-0.8431013022965201], \"y\": [0.3149288714391104]}, {\"hoverinfo\": \"text\", \"marker\": {\"color\": \"blue\", \"size\": 0.5}, \"mode\": \"markers\", \"text\": \"Hadoop appears with PL/SQL 9 times\", \"type\": \"scatter\", \"x\": [-0.8887978589428877], \"y\": [0.1415569353247617]}, {\"hoverinfo\": \"text\", \"marker\": {\"color\": \"green\", \"size\": 0.5}, \"mode\": \"markers\", \"text\": \"PL/SQL appears with Informatica 38 times\", \"type\": \"scatter\", \"x\": [-0.8480167138510617], \"y\": [0.3014426197956197]}, {\"hoverinfo\": \"text\", \"marker\": {\"color\": \"blue\", \"size\": 0.5}, \"mode\": \"markers\", \"text\": \"Informatica appears with PL/SQL 38 times\", \"type\": \"scatter\", \"x\": [-0.8438589254750258], \"y\": [-0.3128931349456789]}, {\"hoverinfo\": \"text\", \"marker\": {\"color\": \"green\", \"size\": 0.5}, \"mode\": \"markers\", \"text\": \"PL/SQL appears with Qlik 20 times\", \"type\": \"scatter\", \"x\": [-0.8449184736038464], \"y\": [0.31002060086863]}, {\"hoverinfo\": \"text\", \"marker\": {\"color\": \"blue\", \"size\": 0.5}, \"mode\": \"markers\", \"text\": \"Qlik appears with PL/SQL 20 times\", \"type\": \"scatter\", \"x\": [-0.7914891401081243], \"y\": [-0.42842145265019344]}, {\"hoverinfo\": \"text\", \"marker\": {\"color\": \"green\", \"size\": 0.5}, \"mode\": \"markers\", \"text\": \"PL/SQL appears with Tableau 33 times\", \"type\": \"scatter\", \"x\": [-0.8467773172271298], \"y\": [0.30490683008031294]}, {\"hoverinfo\": \"text\", \"marker\": {\"color\": \"blue\", \"size\": 0.5}, \"mode\": \"markers\", \"text\": \"Tableau appears with PL/SQL 33 times\", \"type\": \"scatter\", \"x\": [-0.576201271847636], \"y\": [-0.6913697233182594]}, {\"hoverinfo\": \"text\", \"marker\": {\"color\": \"green\", \"size\": 0.5}, \"mode\": \"markers\", \"text\": \"PL/SQL appears with Microstrategy 26 times\", \"type\": \"scatter\", \"x\": [-0.8457366292849775], \"y\": [0.3077816659349361]}, {\"hoverinfo\": \"text\", \"marker\": {\"color\": \"blue\", \"size\": 0.5}, \"mode\": \"markers\", \"text\": \"Microstrategy appears with PL/SQL 26 times\", \"type\": \"scatter\", \"x\": [-0.11267075595196552], \"y\": [-0.8929195376702275]}, {\"hoverinfo\": \"text\", \"marker\": {\"color\": \"green\", \"size\": 0.5}, \"mode\": \"markers\", \"text\": \"PL/SQL appears with Oracle BI 111 times\", \"type\": \"scatter\", \"x\": [-0.8572149987571979], \"y\": [0.27419417555027936]}, {\"hoverinfo\": \"text\", \"marker\": {\"color\": \"blue\", \"size\": 0.5}, \"mode\": \"markers\", \"text\": \"Oracle BI appears with PL/SQL 111 times\", \"type\": \"scatter\", \"x\": [0.051930791042634004], \"y\": [-0.8985005247308909]}, {\"hoverinfo\": \"text\", \"marker\": {\"color\": \"green\", \"size\": 0.5}, \"mode\": \"markers\", \"text\": \"PL/SQL appears with Python 5 times\", \"type\": \"scatter\", \"x\": [-0.8423737448951952], \"y\": [0.3168698059317812]}, {\"hoverinfo\": \"text\", \"marker\": {\"color\": \"blue\", \"size\": 0.5}, \"mode\": \"markers\", \"text\": \"Python appears with PL/SQL 5 times\", \"type\": \"scatter\", \"x\": [0.5316238690073312], \"y\": [-0.7262066247988075]}, {\"hoverinfo\": \"text\", \"marker\": {\"color\": \"green\", \"size\": 0.5}, \"mode\": \"markers\", \"text\": \"PL/SQL appears with VBA 11 times\", \"type\": \"scatter\", \"x\": [-0.8434634041815376], \"y\": [0.3139577771078335]}, {\"hoverinfo\": \"text\", \"marker\": {\"color\": \"blue\", \"size\": 0.5}, \"mode\": \"markers\", \"text\": \"VBA appears with PL/SQL 11 times\", \"type\": \"scatter\", \"x\": [0.8087589945742286], \"y\": [-0.3948529963103775]}, {\"hoverinfo\": \"text\", \"marker\": {\"color\": \"green\", \"size\": 0.5}, \"mode\": \"markers\", \"text\": \"PL/SQL appears with Linux 5 times\", \"type\": \"scatter\", \"x\": [-0.8425560532988591], \"y\": [0.3163847294820819]}, {\"hoverinfo\": \"text\", \"marker\": {\"color\": \"blue\", \"size\": 0.5}, \"mode\": \"markers\", \"text\": \"Linux appears with PL/SQL 5 times\", \"type\": \"scatter\", \"x\": [0.8598165618727505], \"y\": [-0.26592382354599714]}, {\"hoverinfo\": \"text\", \"marker\": {\"color\": \"green\", \"size\": 0.5}, \"mode\": \"markers\", \"text\": \"PL/SQL appears with AWS 3 times\", \"type\": \"scatter\", \"x\": [-0.8421180439729913], \"y\": [0.3175487364407283]}, {\"hoverinfo\": \"text\", \"marker\": {\"color\": \"blue\", \"size\": 0.5}, \"mode\": \"markers\", \"text\": \"AWS appears with PL/SQL 3 times\", \"type\": \"scatter\", \"x\": [0.8926841178049353], \"y\": [-0.11452102784565178]}, {\"hoverinfo\": \"text\", \"marker\": {\"color\": \"green\", \"size\": 0.5}, \"mode\": \"markers\", \"text\": \"Pentaho appears with Spark 8 times\", \"type\": \"scatter\", \"x\": [-0.867336509768766], \"y\": [0.2402652259943903]}, {\"hoverinfo\": \"text\", \"marker\": {\"color\": \"blue\", \"size\": 0.5}, \"mode\": \"markers\", \"text\": \"Spark appears with Pentaho 8 times\", \"type\": \"scatter\", \"x\": [-0.8968958692856436], \"y\": [-0.07468466816120804]}, {\"hoverinfo\": \"text\", \"marker\": {\"color\": \"green\", \"size\": 0.5}, \"mode\": \"markers\", \"text\": \"Pentaho appears with Informatica 39 times\", \"type\": \"scatter\", \"x\": [-0.8712863659669379], \"y\": [0.2255217694151214]}, {\"hoverinfo\": \"text\", \"marker\": {\"color\": \"blue\", \"size\": 0.5}, \"mode\": \"markers\", \"text\": \"Informatica appears with Pentaho 39 times\", \"type\": \"scatter\", \"x\": [-0.8421288406893283], \"y\": [-0.3175201027954735]}, {\"hoverinfo\": \"text\", \"marker\": {\"color\": \"green\", \"size\": 0.5}, \"mode\": \"markers\", \"text\": \"Pentaho appears with Qlik 36 times\", \"type\": \"scatter\", \"x\": [-0.8690663360650867], \"y\": [0.2339309802450412]}, {\"hoverinfo\": \"text\", \"marker\": {\"color\": \"blue\", \"size\": 0.5}, \"mode\": \"markers\", \"text\": \"Qlik appears with Pentaho 36 times\", \"type\": \"scatter\", \"x\": [-0.7873193231007789], \"y\": [-0.43603702075870976]}, {\"hoverinfo\": \"text\", \"marker\": {\"color\": \"green\", \"size\": 0.5}, \"mode\": \"markers\", \"text\": \"Pentaho appears with Tableau 44 times\", \"type\": \"scatter\", \"x\": [-0.8758148212908095], \"y\": [0.20723995465968306]}, {\"hoverinfo\": \"text\", \"marker\": {\"color\": \"blue\", \"size\": 0.5}, \"mode\": \"markers\", \"text\": \"Tableau appears with Pentaho 44 times\", \"type\": \"scatter\", \"x\": [-0.5635133318008018], \"y\": [-0.7017497594461715]}, {\"hoverinfo\": \"text\", \"marker\": {\"color\": \"green\", \"size\": 0.5}, \"mode\": \"markers\", \"text\": \"Pentaho appears with Microstrategy 7 times\", \"type\": \"scatter\", \"x\": [-0.867105462093076], \"y\": [0.2410977345566589]}, {\"hoverinfo\": \"text\", \"marker\": {\"color\": \"blue\", \"size\": 0.5}, \"mode\": \"markers\", \"text\": \"Microstrategy appears with Pentaho 7 times\", \"type\": \"scatter\", \"x\": [-0.12327008135743035], \"y\": [-0.8915180800422011]}, {\"hoverinfo\": \"text\", \"marker\": {\"color\": \"green\", \"size\": 0.5}, \"mode\": \"markers\", \"text\": \"Pentaho appears with Oracle BI 40 times\", \"type\": \"scatter\", \"x\": [-0.873508325540693], \"y\": [0.21675609613363742]}, {\"hoverinfo\": \"text\", \"marker\": {\"color\": \"blue\", \"size\": 0.5}, \"mode\": \"markers\", \"text\": \"Oracle BI appears with Pentaho 40 times\", \"type\": \"scatter\", \"x\": [-0.04079399629572673], \"y\": [-0.8990749967973886]}, {\"hoverinfo\": \"text\", \"marker\": {\"color\": \"green\", \"size\": 0.5}, \"mode\": \"markers\", \"text\": \"Pentaho appears with Python 38 times\", \"type\": \"scatter\", \"x\": [-0.8701644517013685], \"y\": [0.2298125910285527]}, {\"hoverinfo\": \"text\", \"marker\": {\"color\": \"blue\", \"size\": 0.5}, \"mode\": \"markers\", \"text\": \"Python appears with Pentaho 38 times\", \"type\": \"scatter\", \"x\": [0.5452232961157493], \"y\": [-0.7160527615844225]}, {\"hoverinfo\": \"text\", \"marker\": {\"color\": \"green\", \"size\": 0.5}, \"mode\": \"markers\", \"text\": \"Pentaho appears with VBA 1 times\", \"type\": \"scatter\", \"x\": [-0.8669819099179712], \"y\": [0.2415416483238177]}, {\"hoverinfo\": \"text\", \"marker\": {\"color\": \"blue\", \"size\": 0.5}, \"mode\": \"markers\", \"text\": \"VBA appears with Pentaho 1 times\", \"type\": \"scatter\", \"x\": [0.8055686239134805], \"y\": [-0.4013218062429969]}, {\"hoverinfo\": \"text\", \"marker\": {\"color\": \"green\", \"size\": 0.5}, \"mode\": \"markers\", \"text\": \"Pentaho appears with Linux 43 times\", \"type\": \"scatter\", \"x\": [-0.8746473724896497], \"y\": [0.21211311557032952]}, {\"hoverinfo\": \"text\", \"marker\": {\"color\": \"blue\", \"size\": 0.5}, \"mode\": \"markers\", \"text\": \"Linux appears with Pentaho 43 times\", \"type\": \"scatter\", \"x\": [0.8662431547018423], \"y\": [-0.2441777977871863]}, {\"hoverinfo\": \"text\", \"marker\": {\"color\": \"green\", \"size\": 0.5}, \"mode\": \"markers\", \"text\": \"Pentaho appears with AWS 15 times\", \"type\": \"scatter\", \"x\": [-0.8682981792727855], \"y\": [0.23676628111191356]}, {\"hoverinfo\": \"text\", \"marker\": {\"color\": \"blue\", \"size\": 0.5}, \"mode\": \"markers\", \"text\": \"AWS appears with Pentaho 15 times\", \"type\": \"scatter\", \"x\": [0.8934617160960833], \"y\": [-0.108287404025777]}, {\"hoverinfo\": \"text\", \"marker\": {\"color\": \"green\", \"size\": 0.5}, \"mode\": \"markers\", \"text\": \"Hadoop appears with Spark 238 times\", \"type\": \"scatter\", \"x\": [-0.8999739697527137], \"y\": [0.006844981193672053]}, {\"hoverinfo\": \"text\", \"marker\": {\"color\": \"blue\", \"size\": 0.5}, \"mode\": \"markers\", \"text\": \"Spark appears with Hadoop 238 times\", \"type\": \"scatter\", \"x\": [-0.8759817182296736], \"y\": [-0.20653336129397734]}, {\"hoverinfo\": \"text\", \"marker\": {\"color\": \"green\", \"size\": 0.5}, \"mode\": \"markers\", \"text\": \"Hadoop appears with Informatica 15 times\", \"type\": \"scatter\", \"x\": [-0.8898247884073136], \"y\": [0.13495127245002037]}, {\"hoverinfo\": \"text\", \"marker\": {\"color\": \"blue\", \"size\": 0.5}, \"mode\": \"markers\", \"text\": \"Informatica appears with Hadoop 15 times\", \"type\": \"scatter\", \"x\": [-0.8519617069164523], \"y\": [-0.2901055841379222]}, {\"hoverinfo\": \"text\", \"marker\": {\"color\": \"green\", \"size\": 0.5}, \"mode\": \"markers\", \"text\": \"Hadoop appears with Qlik 15 times\", \"type\": \"scatter\", \"x\": [-0.8895091440525479], \"y\": [0.137016359048486]}, {\"hoverinfo\": \"text\", \"marker\": {\"color\": \"blue\", \"size\": 0.5}, \"mode\": \"markers\", \"text\": \"Qlik appears with Hadoop 15 times\", \"type\": \"scatter\", \"x\": [-0.7951376466729888], \"y\": [-0.42161134098045944]}, {\"hoverinfo\": \"text\", \"marker\": {\"color\": \"green\", \"size\": 0.5}, \"mode\": \"markers\", \"text\": \"Hadoop appears with Tableau 90 times\", \"type\": \"scatter\", \"x\": [-0.8964253533423622], \"y\": [0.0801347982153891]}, {\"hoverinfo\": \"text\", \"marker\": {\"color\": \"blue\", \"size\": 0.5}, \"mode\": \"markers\", \"text\": \"Tableau appears with Hadoop 90 times\", \"type\": \"scatter\", \"x\": [-0.5189892664300089], \"y\": [-0.735289154911482]}, {\"hoverinfo\": \"text\", \"marker\": {\"color\": \"green\", \"size\": 0.5}, \"mode\": \"markers\", \"text\": \"Hadoop appears with Microstrategy 7 times\", \"type\": \"scatter\", \"x\": [-0.8886219349951859], \"y\": [0.14265712966904814]}, {\"hoverinfo\": \"text\", \"marker\": {\"color\": \"blue\", \"size\": 0.5}, \"mode\": \"markers\", \"text\": \"Microstrategy appears with Hadoop 7 times\", \"type\": \"scatter\", \"x\": [-0.12255375049112549], \"y\": [-0.891616833757954]}, {\"hoverinfo\": \"text\", \"marker\": {\"color\": \"green\", \"size\": 0.5}, \"mode\": \"markers\", \"text\": \"Hadoop appears with Oracle BI 87 times\", \"type\": \"scatter\", \"x\": [-0.8952438775568948], \"y\": [0.09240346149844954]}, {\"hoverinfo\": \"text\", \"marker\": {\"color\": \"blue\", \"size\": 0.5}, \"mode\": \"markers\", \"text\": \"Oracle BI appears with Hadoop 87 times\", \"type\": \"scatter\", \"x\": [0.02233279856766729], \"y\": [-0.8997228718378432]}, {\"hoverinfo\": \"text\", \"marker\": {\"color\": \"green\", \"size\": 0.5}, \"mode\": \"markers\", \"text\": \"Hadoop appears with Python 257 times\", \"type\": \"scatter\", \"x\": [-0.8995760780031872], \"y\": [-0.027620280310015226]}, {\"hoverinfo\": \"text\", \"marker\": {\"color\": \"blue\", \"size\": 0.5}, \"mode\": \"markers\", \"text\": \"Python appears with Hadoop 257 times\", \"type\": \"scatter\", \"x\": [0.720019374056661], \"y\": [-0.5399741669589889]}, {\"hoverinfo\": \"text\", \"marker\": {\"color\": \"green\", \"size\": 0.5}, \"mode\": \"markers\", \"text\": \"Hadoop appears with VBA 11 times\", \"type\": \"scatter\", \"x\": [-0.8892317088667845], \"y\": [0.13880550401860267]}, {\"hoverinfo\": \"text\", \"marker\": {\"color\": \"blue\", \"size\": 0.5}, \"mode\": \"markers\", \"text\": \"VBA appears with Hadoop 11 times\", \"type\": \"scatter\", \"x\": [0.8081364077758161], \"y\": [-0.39612566999274357]}, {\"hoverinfo\": \"text\", \"marker\": {\"color\": \"green\", \"size\": 0.5}, \"mode\": \"markers\", \"text\": \"Hadoop appears with Linux 142 times\", \"type\": \"scatter\", \"x\": [-0.8993837758083388], \"y\": [0.03329900618240263]}, {\"hoverinfo\": \"text\", \"marker\": {\"color\": \"blue\", \"size\": 0.5}, \"mode\": \"markers\", \"text\": \"Linux appears with Hadoop 142 times\", \"type\": \"scatter\", \"x\": [0.8834197285827128], \"y\": [-0.17195808544772248]}, {\"hoverinfo\": \"text\", \"marker\": {\"color\": \"green\", \"size\": 0.5}, \"mode\": \"markers\", \"text\": \"Hadoop appears with AWS 91 times\", \"type\": \"scatter\", \"x\": [-0.8974596604067391], \"y\": [0.06757335231154789]}, {\"hoverinfo\": \"text\", \"marker\": {\"color\": \"blue\", \"size\": 0.5}, \"mode\": \"markers\", \"text\": \"AWS appears with Hadoop 91 times\", \"type\": \"scatter\", \"x\": [0.8977785289000144], \"y\": [-0.06319583092361387]}, {\"hoverinfo\": \"text\", \"marker\": {\"color\": \"green\", \"size\": 0.5}, \"mode\": \"markers\", \"text\": \"Spark appears with Informatica 16 times\", \"type\": \"scatter\", \"x\": [-0.8966362989056085], \"y\": [-0.07773897018132124]}, {\"hoverinfo\": \"text\", \"marker\": {\"color\": \"blue\", \"size\": 0.5}, \"mode\": \"markers\", \"text\": \"Informatica appears with Spark 16 times\", \"type\": \"scatter\", \"x\": [-0.8506922181839062], \"y\": [-0.2938073346963029]}, {\"hoverinfo\": \"text\", \"marker\": {\"color\": \"green\", \"size\": 0.5}, \"mode\": \"markers\", \"text\": \"Spark appears with Qlik 17 times\", \"type\": \"scatter\", \"x\": [-0.8964347952075854], \"y\": [-0.0800291068370405]}, {\"hoverinfo\": \"text\", \"marker\": {\"color\": \"blue\", \"size\": 0.5}, \"mode\": \"markers\", \"text\": \"Qlik appears with Spark 17 times\", \"type\": \"scatter\", \"x\": [-0.7940319160692774], \"y\": [-0.4236901182035664]}, {\"hoverinfo\": \"text\", \"marker\": {\"color\": \"green\", \"size\": 0.5}, \"mode\": \"markers\", \"text\": \"Spark appears with Tableau 69 times\", \"type\": \"scatter\", \"x\": [-0.8923438684600781], \"y\": [-0.11714273524936523]}, {\"hoverinfo\": \"text\", \"marker\": {\"color\": \"blue\", \"size\": 0.5}, \"mode\": \"markers\", \"text\": \"Tableau appears with Spark 69 times\", \"type\": \"scatter\", \"x\": [-0.5568319543697007], \"y\": [-0.7070630626703813]}, {\"hoverinfo\": \"text\", \"marker\": {\"color\": \"green\", \"size\": 0.5}, \"mode\": \"markers\", \"text\": \"Spark appears with Microstrategy 3 times\", \"type\": \"scatter\", \"x\": [-0.8969591363480486], \"y\": [-0.07392095590401118]}, {\"hoverinfo\": \"text\", \"marker\": {\"color\": \"blue\", \"size\": 0.5}, \"mode\": \"markers\", \"text\": \"Microstrategy appears with Spark 3 times\", \"type\": \"scatter\", \"x\": [-0.12449789173849274], \"y\": [-0.8913474490638713]}, {\"hoverinfo\": \"text\", \"marker\": {\"color\": \"green\", \"size\": 0.5}, \"mode\": \"markers\", \"text\": \"Spark appears with Oracle BI 77 times\", \"type\": \"scatter\", \"x\": [-0.8895108674984985], \"y\": [-0.13700516998299275]}, {\"hoverinfo\": \"text\", \"marker\": {\"color\": \"blue\", \"size\": 0.5}, \"mode\": \"markers\", \"text\": \"Oracle BI appears with Spark 77 times\", \"type\": \"scatter\", \"x\": [-0.0030137531881245924], \"y\": [-0.8999949540368107]}, {\"hoverinfo\": \"text\", \"marker\": {\"color\": \"green\", \"size\": 0.5}, \"mode\": \"markers\", \"text\": \"Spark appears with Python 278 times\", \"type\": \"scatter\", \"x\": [-0.867035903133853], \"y\": [-0.24134776294149438]}, {\"hoverinfo\": \"text\", \"marker\": {\"color\": \"blue\", \"size\": 0.5}, \"mode\": \"markers\", \"text\": \"Python appears with Spark 278 times\", \"type\": \"scatter\", \"x\": [0.7432995623080115], \"y\": [-0.5074502543823567]}, {\"hoverinfo\": \"text\", \"marker\": {\"color\": \"green\", \"size\": 0.5}, \"mode\": \"markers\", \"text\": \"Spark appears with VBA 10 times\", \"type\": \"scatter\", \"x\": [-0.8967909387604099], \"y\": [-0.07593426207729025]}, {\"hoverinfo\": \"text\", \"marker\": {\"color\": \"blue\", \"size\": 0.5}, \"mode\": \"markers\", \"text\": \"VBA appears with Spark 10 times\", \"type\": \"scatter\", \"x\": [0.8075402521395775], \"y\": [-0.3973395791691885]}, {\"hoverinfo\": \"text\", \"marker\": {\"color\": \"green\", \"size\": 0.5}, \"mode\": \"markers\", \"text\": \"Spark appears with Linux 125 times\", \"type\": \"scatter\", \"x\": [-0.8848685897252568], \"y\": [-0.16433982754534912]}, {\"hoverinfo\": \"text\", \"marker\": {\"color\": \"blue\", \"size\": 0.5}, \"mode\": \"markers\", \"text\": \"Linux appears with Spark 125 times\", \"type\": \"scatter\", \"x\": [0.8799095584567828], \"y\": [-0.1891009490626364]}, {\"hoverinfo\": \"text\", \"marker\": {\"color\": \"green\", \"size\": 0.5}, \"mode\": \"markers\", \"text\": \"Spark appears with AWS 98 times\", \"type\": \"scatter\", \"x\": [-0.8875734123846556], \"y\": [-0.14904173116230945]}, {\"hoverinfo\": \"text\", \"marker\": {\"color\": \"blue\", \"size\": 0.5}, \"mode\": \"markers\", \"text\": \"AWS appears with Spark 98 times\", \"type\": \"scatter\", \"x\": [0.8985079017817591], \"y\": [-0.05180299639732112]}, {\"hoverinfo\": \"text\", \"marker\": {\"color\": \"green\", \"size\": 0.5}, \"mode\": \"markers\", \"text\": \"Informatica appears with Qlik 101 times\", \"type\": \"scatter\", \"x\": [-0.8270255175951963], \"y\": [-0.355005342560359]}, {\"hoverinfo\": \"text\", \"marker\": {\"color\": \"blue\", \"size\": 0.5}, \"mode\": \"markers\", \"text\": \"Qlik appears with Informatica 101 times\", \"type\": \"scatter\", \"x\": [-0.7618353194556501], \"y\": [-0.4791731900157892]}, {\"hoverinfo\": \"text\", \"marker\": {\"color\": \"green\", \"size\": 0.5}, \"mode\": \"markers\", \"text\": \"Informatica appears with Tableau 84 times\", \"type\": \"scatter\", \"x\": [-0.8316349921153401], \"y\": [-0.3440686557786371]}, {\"hoverinfo\": \"text\", \"marker\": {\"color\": \"blue\", \"size\": 0.5}, \"mode\": \"markers\", \"text\": \"Tableau appears with Informatica 84 times\", \"type\": \"scatter\", \"x\": [-0.5296726447014977], \"y\": [-0.7276310118837164]}, {\"hoverinfo\": \"text\", \"marker\": {\"color\": \"green\", \"size\": 0.5}, \"mode\": \"markers\", \"text\": \"Informatica appears with Microstrategy 27 times\", \"type\": \"scatter\", \"x\": [-0.846787345988348], \"y\": [-0.30487897709420675]}, {\"hoverinfo\": \"text\", \"marker\": {\"color\": \"blue\", \"size\": 0.5}, \"mode\": \"markers\", \"text\": \"Microstrategy appears with Informatica 27 times\", \"type\": \"scatter\", \"x\": [-0.10995430256473392], \"y\": [-0.8932581101493023]}, {\"hoverinfo\": \"text\", \"marker\": {\"color\": \"green\", \"size\": 0.5}, \"mode\": \"markers\", \"text\": \"Informatica appears with Oracle BI 146 times\", \"type\": \"scatter\", \"x\": [-0.8139323691763533], \"y\": [-0.3840756415173563]}, {\"hoverinfo\": \"text\", \"marker\": {\"color\": \"blue\", \"size\": 0.5}, \"mode\": \"markers\", \"text\": \"Oracle BI appears with Informatica 146 times\", \"type\": \"scatter\", \"x\": [0.07150665710562625], \"y\": [-0.8971548350143237]}, {\"hoverinfo\": \"text\", \"marker\": {\"color\": \"green\", \"size\": 0.5}, \"mode\": \"markers\", \"text\": \"Informatica appears with Python 34 times\", \"type\": \"scatter\", \"x\": [-0.8454536686226656], \"y\": [-0.3085580888787003]}, {\"hoverinfo\": \"text\", \"marker\": {\"color\": \"blue\", \"size\": 0.5}, \"mode\": \"markers\", \"text\": \"Python appears with Informatica 34 times\", \"type\": \"scatter\", \"x\": [0.5363784052765855], \"y\": [-0.7227020176759901]}, {\"hoverinfo\": \"text\", \"marker\": {\"color\": \"green\", \"size\": 0.5}, \"mode\": \"markers\", \"text\": \"Informatica appears with VBA 6 times\", \"type\": \"scatter\", \"x\": [-0.8528469143507652], \"y\": [-0.2874928532718314]}, {\"hoverinfo\": \"text\", \"marker\": {\"color\": \"blue\", \"size\": 0.5}, \"mode\": \"markers\", \"text\": \"VBA appears with Informatica 6 times\", \"type\": \"scatter\", \"x\": [0.8063424719485457], \"y\": [-0.39976470320916124]}, {\"hoverinfo\": \"text\", \"marker\": {\"color\": \"green\", \"size\": 0.5}, \"mode\": \"markers\", \"text\": \"Informatica appears with Linux 15 times\", \"type\": \"scatter\", \"x\": [-0.8513393796603975], \"y\": [-0.29192680699012497]}, {\"hoverinfo\": \"text\", \"marker\": {\"color\": \"blue\", \"size\": 0.5}, \"mode\": \"markers\", \"text\": \"Linux appears with Informatica 15 times\", \"type\": \"scatter\", \"x\": [0.861692398255033], \"y\": [-0.25978108243190007]}, {\"hoverinfo\": \"text\", \"marker\": {\"color\": \"green\", \"size\": 0.5}, \"mode\": \"markers\", \"text\": \"Informatica appears with AWS 25 times\", \"type\": \"scatter\", \"x\": [-0.8490242264898535], \"y\": [-0.2985931392937651]}, {\"hoverinfo\": \"text\", \"marker\": {\"color\": \"blue\", \"size\": 0.5}, \"mode\": \"markers\", \"text\": \"AWS appears with Informatica 25 times\", \"type\": \"scatter\", \"x\": [0.8942368067697164], \"y\": [-0.10168841339258332]}, {\"hoverinfo\": \"text\", \"marker\": {\"color\": \"green\", \"size\": 0.5}, \"mode\": \"markers\", \"text\": \"Qlik appears with Tableau 398 times\", \"type\": \"scatter\", \"x\": [-0.7116428170312591], \"y\": [-0.5509668782856315]}, {\"hoverinfo\": \"text\", \"marker\": {\"color\": \"blue\", \"size\": 0.5}, \"mode\": \"markers\", \"text\": \"Tableau appears with Qlik 398 times\", \"type\": \"scatter\", \"x\": [-0.3416178452733637], \"y\": [-0.8326447308370984]}, {\"hoverinfo\": \"text\", \"marker\": {\"color\": \"green\", \"size\": 0.5}, \"mode\": \"markers\", \"text\": \"Qlik appears with Microstrategy 52 times\", \"type\": \"scatter\", \"x\": [-0.7841619091492225], \"y\": [-0.4416900499665422]}, {\"hoverinfo\": \"text\", \"marker\": {\"color\": \"blue\", \"size\": 0.5}, \"mode\": \"markers\", \"text\": \"Microstrategy appears with Qlik 52 times\", \"type\": \"scatter\", \"x\": [-0.09758967324057992], \"y\": [-0.8946933864049721]}, {\"hoverinfo\": \"text\", \"marker\": {\"color\": \"green\", \"size\": 0.5}, \"mode\": \"markers\", \"text\": \"Qlik appears with Oracle BI 420 times\", \"type\": \"scatter\", \"x\": [-0.673232987290932], \"y\": [-0.597291674831759]}, {\"hoverinfo\": \"text\", \"marker\": {\"color\": \"blue\", \"size\": 0.5}, \"mode\": \"markers\", \"text\": \"Oracle BI appears with Qlik 420 times\", \"type\": \"scatter\", \"x\": [0.29983404770129174], \"y\": [-0.8485867921662813]}, {\"hoverinfo\": \"text\", \"marker\": {\"color\": \"green\", \"size\": 0.5}, \"mode\": \"markers\", \"text\": \"Qlik appears with Python 59 times\", \"type\": \"scatter\", \"x\": [-0.7801213950123641], \"y\": [-0.448787933264658]}, {\"hoverinfo\": \"text\", \"marker\": {\"color\": \"blue\", \"size\": 0.5}, \"mode\": \"markers\", \"text\": \"Python appears with Qlik 59 times\", \"type\": \"scatter\", \"x\": [0.5509756572460998], \"y\": [-0.7116360201129707]}, {\"hoverinfo\": \"text\", \"marker\": {\"color\": \"green\", \"size\": 0.5}, \"mode\": \"markers\", \"text\": \"Qlik appears with VBA 31 times\", \"type\": \"scatter\", \"x\": [-0.7896959468866595], \"y\": [-0.4317178609587311]}, {\"hoverinfo\": \"text\", \"marker\": {\"color\": \"blue\", \"size\": 0.5}, \"mode\": \"markers\", \"text\": \"VBA appears with Qlik 31 times\", \"type\": \"scatter\", \"x\": [0.8114522622825302], \"y\": [-0.3892881015861696]}, {\"hoverinfo\": \"text\", \"marker\": {\"color\": \"green\", \"size\": 0.5}, \"mode\": \"markers\", \"text\": \"Qlik appears with Linux 3 times\", \"type\": \"scatter\", \"x\": [-0.7970595753290401], \"y\": [-0.41796654576208647]}, {\"hoverinfo\": \"text\", \"marker\": {\"color\": \"blue\", \"size\": 0.5}, \"mode\": \"markers\", \"text\": \"Linux appears with Qlik 3 times\", \"type\": \"scatter\", \"x\": [0.8594672575522013], \"y\": [-0.26705061916366724]}, {\"hoverinfo\": \"text\", \"marker\": {\"color\": \"green\", \"size\": 0.5}, \"mode\": \"markers\", \"text\": \"Qlik appears with AWS 4 times\", \"type\": \"scatter\", \"x\": [-0.7968202470936966], \"y\": [-0.4184226258480059]}, {\"hoverinfo\": \"text\", \"marker\": {\"color\": \"blue\", \"size\": 0.5}, \"mode\": \"markers\", \"text\": \"AWS appears with Qlik 4 times\", \"type\": \"scatter\", \"x\": [0.8927378217126476], \"y\": [-0.11410162875155219]}, {\"hoverinfo\": \"text\", \"marker\": {\"color\": \"green\", \"size\": 0.5}, \"mode\": \"markers\", \"text\": \"Tableau appears with Microstrategy 75 times\", \"type\": \"scatter\", \"x\": [-0.5393363043107247], \"y\": [-0.7204972941326354]}, {\"hoverinfo\": \"text\", \"marker\": {\"color\": \"blue\", \"size\": 0.5}, \"mode\": \"markers\", \"text\": \"Microstrategy appears with Tableau 75 times\", \"type\": \"scatter\", \"x\": [-0.08530921238656154], \"y\": [-0.8959477318917575]}, {\"hoverinfo\": \"text\", \"marker\": {\"color\": \"green\", \"size\": 0.5}, \"mode\": \"markers\", \"text\": \"Tableau appears with Oracle BI 550 times\", \"type\": \"scatter\", \"x\": [-0.27435016938823936], \"y\": [-0.8571650859412348]}, {\"hoverinfo\": \"text\", \"marker\": {\"color\": \"blue\", \"size\": 0.5}, \"mode\": \"markers\", \"text\": \"Oracle BI appears with Tableau 550 times\", \"type\": \"scatter\", \"x\": [0.36857122249278984], \"y\": [-0.8210695792380635]}, {\"hoverinfo\": \"text\", \"marker\": {\"color\": \"green\", \"size\": 0.5}, \"mode\": \"markers\", \"text\": \"Tableau appears with Python 207 times\", \"type\": \"scatter\", \"x\": [-0.45140437979252135], \"y\": [-0.778610355636328]}, {\"hoverinfo\": \"text\", \"marker\": {\"color\": \"blue\", \"size\": 0.5}, \"mode\": \"markers\", \"text\": \"Python appears with Tableau 207 times\", \"type\": \"scatter\", \"x\": [0.653626989218631], \"y\": [-0.6186855089340525]}, {\"hoverinfo\": \"text\", \"marker\": {\"color\": \"green\", \"size\": 0.5}, \"mode\": \"markers\", \"text\": \"Tableau appears with VBA 95 times\", \"type\": \"scatter\", \"x\": [-0.5075091300613958], \"y\": [-0.7432593644915114]}, {\"hoverinfo\": \"text\", \"marker\": {\"color\": \"blue\", \"size\": 0.5}, \"mode\": \"markers\", \"text\": \"VBA appears with Tableau 95 times\", \"type\": \"scatter\", \"x\": [0.8234086023204662], \"y\": [-0.363315666638058]}, {\"hoverinfo\": \"text\", \"marker\": {\"color\": \"green\", \"size\": 0.5}, \"mode\": \"markers\", \"text\": \"Tableau appears with Linux 33 times\", \"type\": \"scatter\", \"x\": [-0.5723623036563118], \"y\": [-0.6945512172282473]}, {\"hoverinfo\": \"text\", \"marker\": {\"color\": \"blue\", \"size\": 0.5}, \"mode\": \"markers\", \"text\": \"Linux appears with Tableau 33 times\", \"type\": \"scatter\", \"x\": [0.8635981900181577], \"y\": [-0.25337357043970055]}, {\"hoverinfo\": \"text\", \"marker\": {\"color\": \"green\", \"size\": 0.5}, \"mode\": \"markers\", \"text\": \"Tableau appears with AWS 37 times\", \"type\": \"scatter\", \"x\": [-0.5682714778605937], \"y\": [-0.6979022334468753]}, {\"hoverinfo\": \"text\", \"marker\": {\"color\": \"blue\", \"size\": 0.5}, \"mode\": \"markers\", \"text\": \"AWS appears with Tableau 37 times\", \"type\": \"scatter\", \"x\": [0.8946522014479523], \"y\": [-0.09796651695519512]}, {\"hoverinfo\": \"text\", \"marker\": {\"color\": \"green\", \"size\": 0.5}, \"mode\": \"markers\", \"text\": \"Microstrategy appears with Oracle BI 75 times\", \"type\": \"scatter\", \"x\": [-0.07759346642681071], \"y\": [-0.896648902284429]}, {\"hoverinfo\": \"text\", \"marker\": {\"color\": \"blue\", \"size\": 0.5}, \"mode\": \"markers\", \"text\": \"Oracle BI appears with Microstrategy 75 times\", \"type\": \"scatter\", \"x\": [-0.014618613483933283], \"y\": [-0.8998812678013736]}, {\"hoverinfo\": \"text\", \"marker\": {\"color\": \"green\", \"size\": 0.5}, \"mode\": \"markers\", \"text\": \"Microstrategy appears with Python 20 times\", \"type\": \"scatter\", \"x\": [-0.11973883198878638], \"y\": [-0.8919992220366345]}, {\"hoverinfo\": \"text\", \"marker\": {\"color\": \"blue\", \"size\": 0.5}, \"mode\": \"markers\", \"text\": \"Python appears with Microstrategy 20 times\", \"type\": \"scatter\", \"x\": [0.5331309553621738], \"y\": [-0.7251009477545977]}, {\"hoverinfo\": \"text\", \"marker\": {\"color\": \"green\", \"size\": 0.5}, \"mode\": \"markers\", \"text\": \"Microstrategy appears with VBA 7 times\", \"type\": \"scatter\", \"x\": [-0.12398633264875575], \"y\": [-0.8914187508215834]}, {\"hoverinfo\": \"text\", \"marker\": {\"color\": \"blue\", \"size\": 0.5}, \"mode\": \"markers\", \"text\": \"VBA appears with Microstrategy 7 times\", \"type\": \"scatter\", \"x\": [0.80705631437221], \"y\": [-0.39832161055100257]}, {\"hoverinfo\": \"text\", \"marker\": {\"color\": \"green\", \"size\": 0.5}, \"mode\": \"markers\", \"text\": \"Microstrategy appears with Linux 14 times\", \"type\": \"scatter\", \"x\": [-0.1214791060001343], \"y\": [-0.891763885120612]}, {\"hoverinfo\": \"text\", \"marker\": {\"color\": \"blue\", \"size\": 0.5}, \"mode\": \"markers\", \"text\": \"Linux appears with Microstrategy 14 times\", \"type\": \"scatter\", \"x\": [0.8611418712568929], \"y\": [-0.2616002247097219]}, {\"hoverinfo\": \"text\", \"marker\": {\"color\": \"green\", \"size\": 0.5}, \"mode\": \"markers\", \"text\": \"Microstrategy appears with AWS 2 times\", \"type\": \"scatter\", \"x\": [-0.12475365591744167], \"y\": [-0.891311688095266]}, {\"hoverinfo\": \"text\", \"marker\": {\"color\": \"blue\", \"size\": 0.5}, \"mode\": \"markers\", \"text\": \"AWS appears with Microstrategy 2 times\", \"type\": \"scatter\", \"x\": [0.8926456372399221], \"y\": [-0.11482058315708724]}, {\"hoverinfo\": \"text\", \"marker\": {\"color\": \"green\", \"size\": 0.5}, \"mode\": \"markers\", \"text\": \"Oracle BI appears with Python 228 times\", \"type\": \"scatter\", \"x\": [0.16156040609047462], \"y\": [-0.8853802771599788]}, {\"hoverinfo\": \"text\", \"marker\": {\"color\": \"blue\", \"size\": 0.5}, \"mode\": \"markers\", \"text\": \"Python appears with Oracle BI 228 times\", \"type\": \"scatter\", \"x\": [0.6755531085609525], \"y\": [-0.5946662908839156]}, {\"hoverinfo\": \"text\", \"marker\": {\"color\": \"green\", \"size\": 0.5}, \"mode\": \"markers\", \"text\": \"Oracle BI appears with VBA 95 times\", \"type\": \"scatter\", \"x\": [0.036221362051139266], \"y\": [-0.899270822906626]}, {\"hoverinfo\": \"text\", \"marker\": {\"color\": \"blue\", \"size\": 0.5}, \"mode\": \"markers\", \"text\": \"VBA appears with Oracle BI 95 times\", \"type\": \"scatter\", \"x\": [0.828271819618595], \"y\": [-0.3520877629593246]}, {\"hoverinfo\": \"text\", \"marker\": {\"color\": \"green\", \"size\": 0.5}, \"mode\": \"markers\", \"text\": \"Oracle BI appears with Linux 11 times\", \"type\": \"scatter\", \"x\": [-0.04468355004375833], \"y\": [-0.8988900824658635]}, {\"hoverinfo\": \"text\", \"marker\": {\"color\": \"blue\", \"size\": 0.5}, \"mode\": \"markers\", \"text\": \"Linux appears with Oracle BI 11 times\", \"type\": \"scatter\", \"x\": [0.8601258144409359], \"y\": [-0.26492184381873196]}, {\"hoverinfo\": \"text\", \"marker\": {\"color\": \"green\", \"size\": 0.5}, \"mode\": \"markers\", \"text\": \"Oracle BI appears with AWS 60 times\", \"type\": \"scatter\", \"x\": [-0.024923583911549793], \"y\": [-0.8996548310129858]}, {\"hoverinfo\": \"text\", \"marker\": {\"color\": \"blue\", \"size\": 0.5}, \"mode\": \"markers\", \"text\": \"AWS appears with Oracle BI 60 times\", \"type\": \"scatter\", \"x\": [0.8963078505376926], \"y\": [-0.08143854777991413]}, {\"hoverinfo\": \"text\", \"marker\": {\"color\": \"green\", \"size\": 0.5}, \"mode\": \"markers\", \"text\": \"Python appears with VBA 76 times\", \"type\": \"scatter\", \"x\": [0.558921893064215], \"y\": [-0.7054121614017682]}, {\"hoverinfo\": \"text\", \"marker\": {\"color\": \"blue\", \"size\": 0.5}, \"mode\": \"markers\", \"text\": \"VBA appears with Python 76 times\", \"type\": \"scatter\", \"x\": [0.8189015537510611], \"y\": [-0.3733634225042645]}, {\"hoverinfo\": \"text\", \"marker\": {\"color\": \"green\", \"size\": 0.5}, \"mode\": \"markers\", \"text\": \"Python appears with Linux 154 times\", \"type\": \"scatter\", \"x\": [0.6347815112525244], \"y\": [-0.6380066088779656]}, {\"hoverinfo\": \"text\", \"marker\": {\"color\": \"blue\", \"size\": 0.5}, \"mode\": \"markers\", \"text\": \"Linux appears with Python 154 times\", \"type\": \"scatter\", \"x\": [0.8869207697066228], \"y\": [-0.15287755971041606]}, {\"hoverinfo\": \"text\", \"marker\": {\"color\": \"green\", \"size\": 0.5}, \"mode\": \"markers\", \"text\": \"Python appears with AWS 146 times\", \"type\": \"scatter\", \"x\": [0.6186853756427576], \"y\": [-0.6536271153844369]}, {\"hoverinfo\": \"text\", \"marker\": {\"color\": \"blue\", \"size\": 0.5}, \"mode\": \"markers\", \"text\": \"AWS appears with Python 146 times\", \"type\": \"scatter\", \"x\": [0.8992357152689608], \"y\": [-0.03708272353428806]}, {\"hoverinfo\": \"text\", \"marker\": {\"color\": \"green\", \"size\": 0.5}, \"mode\": \"markers\", \"text\": \"VBA appears with Linux 5 times\", \"type\": \"scatter\", \"x\": [0.8060275636814307], \"y\": [-0.4003992589725625]}, {\"hoverinfo\": \"text\", \"marker\": {\"color\": \"blue\", \"size\": 0.5}, \"mode\": \"markers\", \"text\": \"Linux appears with VBA 5 times\", \"type\": \"scatter\", \"x\": [0.8596226862579118], \"y\": [-0.266549877641562]}, {\"hoverinfo\": \"text\", \"marker\": {\"color\": \"green\", \"size\": 0.5}, \"mode\": \"markers\", \"text\": \"VBA appears with AWS 5 times\", \"type\": \"scatter\", \"x\": [0.8057408500983361], \"y\": [-0.4009759125967679]}, {\"hoverinfo\": \"text\", \"marker\": {\"color\": \"blue\", \"size\": 0.5}, \"mode\": \"markers\", \"text\": \"AWS appears with VBA 5 times\", \"type\": \"scatter\", \"x\": [0.8928065800623453], \"y\": [-0.11356236435271663]}, {\"hoverinfo\": \"text\", \"marker\": {\"color\": \"green\", \"size\": 0.5}, \"mode\": \"markers\", \"text\": \"Linux appears with AWS 47 times\", \"type\": \"scatter\", \"x\": [0.8678248477715634], \"y\": [-0.23849535339344224]}, {\"hoverinfo\": \"text\", \"marker\": {\"color\": \"blue\", \"size\": 0.5}, \"mode\": \"markers\", \"text\": \"AWS appears with Linux 47 times\", \"type\": \"scatter\", \"x\": [0.8956999102946458], \"y\": [-0.08787303737872953]}],\n",
       "                        {\"autosize\": false, \"font\": {\"color\": \"#655643\", \"family\": \"Fira Sans Condensed\", \"size\": 12}, \"height\": 540, \"hidesources\": true, \"hoverdistance\": 40, \"hovermode\": \"closest\", \"margin\": {\"b\": 10, \"l\": 280, \"r\": 280, \"t\": 80}, \"paper_bgcolor\": \"#fffaf0\", \"plot_bgcolor\": \"#fffaf0\", \"shapes\": [{\"fillcolor\": \"#f2e6ce\", \"layer\": \"below\", \"line\": {\"color\": \"rgb(175,175,175)\", \"width\": 0.5}, \"path\": \"M 0.9681867471398966,0.25022874068073386 Q 0.18263104157962617, 0.08152240582527523 0.8327398077706343, 0.5536645306989848L 0.8327398077706343, 0.5536645306989848 L 0.8463149464619905, 0.5326828431581387 L 0.8593615482646089, 0.511368486870529 M 0.8593615482646089,0.511368486870529 Q 0.18275854690971524, 0.08123615901462487 0.9554059632324315, 0.29529552218059396L 0.9554059632324315, 0.29529552218059396 L 0.9620602801010334, 0.2728369796268847 L 0.9681867471398966, 0.25022874068073386 \", \"type\": \"path\"}, {\"fillcolor\": \"#f2e6ce\", \"layer\": \"below\", \"line\": {\"color\": \"rgb(175,175,175)\", \"width\": 0.5}, \"path\": \"M 0.9946135685457097,0.10365254104347267 Q 0.14270650726010825, 0.1401244189483784 0.121794282986547, 0.9925553650209105L 0.121794282986547, 0.9925553650209105 L 0.1369250495171251, 0.9905814104932178 L 0.15202393488577606, 0.9883768123655297 M 0.15202393488577606,0.9883768123655297 Q 0.14279181259419996, 0.14003748875234404 0.991150038682452, 0.13274637780283824L 0.991150038682452, 0.13274637780283824 L 0.9929883628634806, 0.11821214496702356 L 0.9946135685457097, 0.10365254104347267 \", \"type\": \"path\"}, {\"fillcolor\": \"#f2e6ce\", \"layer\": \"below\", \"line\": {\"color\": \"rgb(175,175,175)\", \"width\": 0.5}, \"path\": \"M 0.9971143278267844,0.07591453907216902 Q 0.1026722517514248, 0.17163452077100355 -0.40466705237653866, 0.9144640926361646L -0.40466705237653866, 0.9144640926361646 L -0.3916761225377198, 0.9201031545613878 L -0.3786066368520566, 0.9255576775823184 M -0.3786066368520566,0.9255576775823184 Q 0.10271283237081762, 0.1716102388156497 0.9946135685457097, 0.10365254104347267L 0.9946135685457097, 0.10365254104347267 L 0.9959605175334212, 0.08979224640557665 L 0.9971143278267844, 0.07591453907216902 \", \"type\": \"path\"}, {\"fillcolor\": \"#f2e6ce\", \"layer\": \"below\", \"line\": {\"color\": \"rgb(175,175,175)\", \"width\": 0.5}, \"path\": \"M 1.0,0.0 Q 0.08006013917581378, 0.18327676916387775 -0.6795187057574664, 0.7336581823476773L -0.6795187057574664, 0.7336581823476773 L -0.6792488695812067, 0.73390801410848 L -0.6789789415518404, 0.7341577466247582 M -0.6789789415518404,0.7341577466247582 Q 0.08005377135001063, 0.18327955066684398 0.9999996760246542, 0.0008049537791092671L 0.9999996760246542, 0.0008049537791092671 L 0.9999999190061603, 0.0004024769221527849 L 1.0, 0.0 \", \"type\": \"path\"}, {\"fillcolor\": \"#f2e6ce\", \"layer\": \"below\", \"line\": {\"color\": \"rgb(175,175,175)\", \"width\": 0.5}, \"path\": \"M 0.9990272467742844,0.04409716773890381 Q 0.05020784115213679, 0.19359538395024248 -0.8516772508823952, 0.5240666563800884L -0.8516772508823952, 0.5240666563800884 L -0.8484306755549939, 0.5293065168475605 L -0.8451518629255409, 0.5345262655786783 M -0.8451518629255409,0.5345262655786783 Q 0.050185672354056965, 0.1936011319449637 0.9983947559158315, 0.05663842652976288L 0.9983947559158315, 0.05663842652976288 L 0.9987306869224872, 0.05036878993322021 L 0.9990272467742844, 0.04409716773890381 \", \"type\": \"path\"}, {\"fillcolor\": \"#f2e6ce\", \"layer\": \"below\", \"line\": {\"color\": \"rgb(175,175,175)\", \"width\": 0.5}, \"path\": \"M 0.9999974600342275,0.002253868916653573 Q 0.035036397245089355, 0.19690721385486187 -0.9378426963393128, 0.3470606242762315L -0.9378426963393128, 0.3470606242762315 L -0.9376226937205704, 0.3476545472450797 L -0.9374023149785676, 0.3482483307538203 M -0.9374023149785676,0.3482483307538203 Q 0.03498675805951282, 0.19691603987609826 0.9999919006268527, 0.004024758464146278L 0.9999919006268527, 0.004024758464146278 L 0.9999950723387724, 0.003139314921043282 L 0.9999974600342275, 0.002253868916653573 \", \"type\": \"path\"}, {\"fillcolor\": \"#f2e6ce\", \"layer\": \"below\", \"line\": {\"color\": \"rgb(175,175,175)\", \"width\": 0.5}, \"path\": \"M 0.9999919006268527,0.004024758464146278 Q 0.026238334686235883, 0.19827140437514704 -0.964522766716825, 0.2639996827364025L -0.964522766716825, 0.2639996827364025 L -0.9643197363064321, 0.26474033725500407 L -0.9641161371494549, 0.26548083563227987 M -0.9641161371494549,0.26548083563227987 Q 0.026199083085417282, 0.19827659480000004 0.9999822591615662, 0.005956623383264446L 0.9999822591615662, 0.005956623383264446 L 0.9999875464128863, 0.004990693251985969 L 0.9999919006268527, 0.004024758464146278 \", \"type\": \"path\"}, {\"fillcolor\": \"#f2e6ce\", \"layer\": \"below\", \"line\": {\"color\": \"rgb(175,175,175)\", \"width\": 0.5}, \"path\": \"M 0.9996724010421019,0.02559473763724 Q 0.010467378442350794, 0.19972589714041744 -0.9915204688472571, 0.12995060545036125L -0.9915204688472571, 0.12995060545036125 L -0.9909688640416641, 0.13409217165805754 L -0.9903999600526388, 0.1382313970403667 M -0.9903999600526388,0.1382313970403667 Q 0.010433702575327589, 0.19972765920264926 0.9994121200793332, 0.034284314759558975L 0.9994121200793332, 0.034284314759558975 L 0.9995517034323289, 0.0299398090429706 L 0.9996724010421019, 0.02559473763724 \", \"type\": \"path\"}, {\"fillcolor\": \"#f2e6ce\", \"layer\": \"below\", \"line\": {\"color\": \"rgb(175,175,175)\", \"width\": 0.5}, \"path\": \"M 0.9994121200793332,0.034284314759558975 Q -0.015930994081849247, 0.1993644989148371 -0.9921742287070202, -0.12486112241057844L -0.9921742287070202, -0.12486112241057844 L -0.9927527378813195, -0.12017487852768617 L -0.9933091130827523, -0.11548595527922878 M -0.9933091130827523,-0.11548595527922878 Q -0.01596855353660271, 0.1993614940201559 0.9990272467742844, 0.04409716773890381L 0.9990272467742844, 0.04409716773890381 L 0.9992317292642736, 0.03919121370319426 L 0.9994121200793332, 0.034284314759558975 \", \"type\": \"path\"}, {\"fillcolor\": \"#f2e6ce\", \"layer\": \"below\", \"line\": {\"color\": \"rgb(175,175,175)\", \"width\": 0.5}, \"path\": \"M 0.9999662937925632,0.008210437184774204 Q -0.03500660691309577, 0.19691251222924355 -0.9415250579531523, -0.33694297031740134L -0.9415250579531523, -0.33694297031740134 L -0.9421479083158637, -0.33519743265132984 L -0.9427675225471855, -0.3334507436342614 M -0.9427675225471855,-0.3334507436342614 Q -0.035053775608857106, 0.1969041208699399 0.9999231669867632, 0.012395972053927878L 0.9999231669867632, 0.012395972053927878 L 0.9999469203460709, 0.010303227184167166 L 0.9999662937925632, 0.008210437184774204 \", \"type\": \"path\"}, {\"fillcolor\": \"#f2e6ce\", \"layer\": \"below\", \"line\": {\"color\": \"rgb(175,175,175)\", \"width\": 0.5}, \"path\": \"M 0.991150038682452,0.13274637780283824 Q -0.0741304272053136, 0.18575435327969492 -0.8102119054653392, -0.5861370729123218L -0.8102119054653392, -0.5861370729123218 L -0.8211829394667896, -0.5706650330348645 L -0.831858554872475, -0.5549876977784982 M -0.831858554872475,-0.5549876977784982 Q -0.07407611536657009, 0.1857760187220046 0.9855018800834024, 0.16966450528050664L 0.9855018800834024, 0.16966450528050664 L 0.9884983252511346, 0.1512318120492581 L 0.991150038682452, 0.13274637780283824 \", \"type\": \"path\"}, {\"fillcolor\": \"#f2e6ce\", \"layer\": \"below\", \"line\": {\"color\": \"rgb(175,175,175)\", \"width\": 0.5}, \"path\": \"M 0.9780450943499782,0.20839336222140614 Q -0.12560174328910798, 0.15564126086207675 -0.41026515686389553, -0.9119662828544941L -0.41026515686389553, -0.9119662828544941 L -0.4305990121149675, -0.9025433456436395 L -0.450716595819291, -0.8926670993450301 M -0.450716595819291,-0.8926670993450301 Q -0.1254586090571694, 0.15575666089589985 0.9681867471398966, 0.25022874068073386L 0.9681867471398966, 0.25022874068073386 L 0.9733407136917556, 0.22936402305074766 L 0.9780450943499782, 0.20839336222140614 \", \"type\": \"path\"}, {\"fillcolor\": \"#f2e6ce\", \"layer\": \"below\", \"line\": {\"color\": \"rgb(175,175,175)\", \"width\": 0.5}, \"path\": \"M 0.9999231669867632,0.012395972053927878 Q -0.13386696859584585, 0.14859217583358428 -0.11630252277069682, -0.9932138355848511L -0.11630252277069682, -0.9932138355848511 L -0.11846824101857763, -0.9929578419399104 L -0.12063339584710843, -0.9926971259182706 M -0.12063339584710843,-0.9926971259182706 Q -0.13399738520656782, 0.14847457950033968 0.9998286219281519, 0.01851288127906426L 0.9998286219281519, 0.01851288127906426 L 0.9998805720993472, 0.015454498965742362 L 0.9999231669867632, 0.012395972053927878 \", \"type\": \"path\"}, {\"fillcolor\": \"#f2e6ce\", \"layer\": \"below\", \"line\": {\"color\": \"rgb(175,175,175)\", \"width\": 0.5}, \"path\": \"M 0.9855018800834024,0.16966450528050664 Q -0.1673524983522648, 0.1095132014656462 0.23906403422845468, -0.9710038040803014L 0.23906403422845468, -0.9710038040803014 L 0.2188318285584998, -0.9757625893677946 L 0.19850509012439377, -0.9800998567466003 M 0.19850509012439377,-0.9800998567466003 Q -0.16723595510893025, 0.10969109042581296 0.9780450943499782, 0.20839336222140614L 0.9780450943499782, 0.20839336222140614 L 0.9819644399323266, 0.18906569944966756 L 0.9855018800834024, 0.16966450528050664 \", \"type\": \"path\"}, {\"fillcolor\": \"#f2e6ce\", \"layer\": \"below\", \"line\": {\"color\": \"rgb(175,175,175)\", \"width\": 0.5}, \"path\": \"M 0.9983947559158315,0.05663842652976288 Q -0.1845258158613103, 0.0771376904030566 0.6610518983835548, -0.7503401812801299L 0.6610518983835548, -0.7503401812801299 L 0.6535390653122888, -0.7568927864042172 L 0.6459612839896733, -0.7633701720570516 M 0.6459612839896733,-0.7633701720570516 Q -0.18450193203544746, 0.07719479953460034 0.9971143278267844, 0.07591453907216902L 0.9971143278267844, 0.07591453907216902 L 0.9978010913771895, 0.06627957488162957 L 0.9983947559158315, 0.05663842652976288 \", \"type\": \"path\"}, {\"fillcolor\": \"#f2e6ce\", \"layer\": \"below\", \"line\": {\"color\": \"rgb(175,175,175)\", \"width\": 0.5}, \"path\": \"M 0.9998286219281519,0.01851288127906426 Q -0.19571597385008768, 0.04117350580059698 0.9076211400367983, -0.4197902644872824L 0.9076211400367983, -0.4197902644872824 L 0.9062949604589984, -0.42264576733551057 L 0.9049597970975559, -0.4254970806446859 M 0.9049597970975559,-0.4254970806446859 Q -0.1957321547092148, 0.04109651582419136 0.9996724010421019, 0.02559473763724L 0.9996724010421019, 0.02559473763724 L 0.9997567821161015, 0.022053947783963534 L 0.9998286219281519, 0.01851288127906426 \", \"type\": \"path\"}, {\"fillcolor\": \"#f2e6ce\", \"layer\": \"below\", \"line\": {\"color\": \"rgb(175,175,175)\", \"width\": 0.5}, \"path\": \"M 0.9999822591615662,0.005956623383264446 Q -0.197901374705714, 0.028897160580039445 0.9565274721450211, -0.29164223807921896L 0.9565274721450211, -0.29164223807921896 L 0.9562296487170137, -0.29261725669299926 L 0.9559308314220708, -0.29359197117208174 M 0.9559308314220708,-0.29359197117208174 Q -0.1979044784261556, 0.02887589684964467 0.9999662937925632, 0.008210437184774204L 0.9999662937925632, 0.008210437184774204 L 0.9999749114527785, 0.007083534782004727 L 0.9999822591615662, 0.005956623383264446 \", \"type\": \"path\"}, {\"fillcolor\": \"#f2e6ce\", \"layer\": \"below\", \"line\": {\"color\": \"rgb(175,175,175)\", \"width\": 0.5}, \"path\": \"M 0.9999996760246542,0.0008049537791092671 Q -0.19961467489633483, 0.012408930897968656 0.9922009065024489, -0.12464895160296648L 0.9922009065024489, -0.12464895160296648 L 0.9921254333499132, -0.1252482514857867 L 0.9920495982139185, -0.12584750567096245 M 0.9920495982139185,-0.12584750567096245 Q -0.1996161677932509, 0.012384892229515306 0.9999974600342275, 0.002253868916653573L 0.9999974600342275, 0.002253868916653573 L 0.9999988304491667, 0.0015294117492297013 L 0.9999996760246542, 0.0008049537791092671 \", \"type\": \"path\"}, {\"fillcolor\": \"#ecd5bb\", \"layer\": \"below\", \"line\": {\"color\": \"rgb(175,175,175)\", \"width\": 0.5}, \"path\": \"M 0.575776353375745,0.8176072351033405 Q 0.0417154043468217, 0.19560118874940707 -0.1921120820406439, 0.9813729912393192L -0.1921120820406439, 0.9813729912393192 L -0.13197503404582944, 0.9912530405444425 L -0.07134782022767783, 0.9974514968402017 M -0.07134782022767783,0.9974514968402017 Q 0.04142552175417219, 0.19566278682313254 0.4694647293075217, 0.8829512262499075L 0.4694647293075217, 0.8829512262499075 L 0.523640802007409, 0.8519391471654754 L 0.575776353375745, 0.8176072351033405 \", \"type\": \"path\"}, {\"fillcolor\": \"#ecd5bb\", \"layer\": \"below\", \"line\": {\"color\": \"rgb(175,175,175)\", \"width\": 0.5}, \"path\": \"M 0.8327398077706343,0.5536645306989848 Q 0.04433715326415337, 0.19502363149226554 -0.5115193938068227, 0.8592717322008799L -0.5115193938068227, 0.8592717322008799 L -0.4906214167932797, 0.871372839480182 L -0.4694373278950118, 0.8829657950219766 M -0.4694373278950118,0.8829657950219766 Q 0.04410599193625395, 0.19507604023897734 0.8036294696106031, 0.5951299652793336L 0.8036294696106031, 0.5951299652793336 L 0.8184472790323959, 0.5745816316629583 L 0.8327398077706343, 0.5536645306989848 \", \"type\": \"path\"}, {\"fillcolor\": \"#ecd5bb\", \"layer\": \"below\", \"line\": {\"color\": \"rgb(175,175,175)\", \"width\": 0.5}, \"path\": \"M 0.9295051597061035,0.36880910791320093 Q 0.05040329567580431, 0.19354458862240878 -0.6315432283526651, 0.7753406675274382L -0.6315432283526651, 0.7753406675274382 L -0.6273383135932475, 0.7787468396712632 L -0.6231150282872474, 0.7821302075246697 M -0.6231150282872474,0.7821302075246697 Q 0.05010424139763066, 0.19362222236604962 0.9242843160375321, 0.3817047329114894L 0.9242843160375321, 0.3817047329114894 L 0.9269171642495838, 0.3752659998181424 L 0.9295051597061035, 0.36880910791320093 \", \"type\": \"path\"}, {\"fillcolor\": \"#ecd5bb\", \"layer\": \"below\", \"line\": {\"color\": \"rgb(175,175,175)\", \"width\": 0.5}, \"path\": \"M 0.8890829584478412,0.45774610101849494 Q 0.019860404590795012, 0.19901146783411738 -0.7810877675655086, 0.6244212515277888L -0.7810877675655086, 0.6244212515277888 L -0.7738723646792932, 0.6333415849173959 L -0.766555093579053, 0.6421785487759687 M -0.766555093579053,0.6421785487759687 Q 0.01947747994951063, 0.19904930990791306 0.876500243552961, 0.48140141571416273L 0.876500243552961, 0.48140141571416273 L 0.882870831025235, 0.46961590233382305 L 0.8890829584478412, 0.45774610101849494 \", \"type\": \"path\"}, {\"fillcolor\": \"#ecd5bb\", \"layer\": \"below\", \"line\": {\"color\": \"rgb(175,175,175)\", \"width\": 0.5}, \"path\": \"M 0.876500243552961,0.48140141571416273 Q -0.007500544077789391, 0.19985930510871175 -0.910117053456019, 0.4143512386955465L -0.910117053456019, 0.4143512386955465 L -0.9034207550613933, 0.42875510413790063 L -0.8964965129933813, 0.4430507896288055 M -0.8964965129933813,0.4430507896288055 Q -0.007775804371136784, 0.19984878500101474 0.8593615482646089, 0.511368486870529L 0.8593615482646089, 0.511368486870529 L 0.8680602204982375, 0.49645891430062095 L 0.876500243552961, 0.48140141571416273 \", \"type\": \"path\"}, {\"fillcolor\": \"#ecd5bb\", \"layer\": \"below\", \"line\": {\"color\": \"rgb(175,175,175)\", \"width\": 0.5}, \"path\": \"M 0.9385198235297587,0.34522534791302717 Q -0.0027753273552140415, 0.19998074296809532 -0.9477385898045737, 0.3190479045460697L -0.9477385898045737, 0.3190479045460697 L -0.9464263887273734, 0.32291963508040633 L -0.945098370812421, 0.32678596892722844 M -0.945098370812421,0.32678596892722844 Q -0.0031771619902877454, 0.19997476251189167 0.9342401532818672, 0.35664455133349976L 0.9342401532818672, 0.35664455133349976 L 0.9363973954676293, 0.35094147341321763 L 0.9385198235297587, 0.34522534791302717 \", \"type\": \"path\"}, {\"fillcolor\": \"#ecd5bb\", \"layer\": \"below\", \"line\": {\"color\": \"rgb(175,175,175)\", \"width\": 0.5}, \"path\": \"M 0.9424878214540486,0.33424049187793103 Q -0.014020361457870417, 0.1995079684237967 -0.979970992527576, 0.19914028674408782L -0.979970992527576, 0.19914028674408782 L -0.9790950816162819, 0.2034031001602636 L -0.9782006278208716, 0.20766206136618368 M -0.9782006278208716,0.20766206136618368 Q -0.014317200855879127, 0.19948688618466232 0.9385198235297587, 0.34522534791302717L 0.9385198235297587, 0.34522534791302717 L 0.9405198599112143, 0.3397387130024923 L 0.9424878214540486, 0.33424049187793103 \", \"type\": \"path\"}, {\"fillcolor\": \"#ecd5bb\", \"layer\": \"below\", \"line\": {\"color\": \"rgb(175,175,175)\", \"width\": 0.5}, \"path\": \"M 0.8990813553554693,0.43778158532785777 Q -0.0402370435821148, 0.195910643722517 -0.99884849434461, 0.0479758829570203L -0.99884849434461, 0.0479758829570203 L -0.9983154097203187, 0.05802019230364628 L -0.997681323200483, 0.0680586316122603 M -0.997681323200483,0.0680586316122603 Q -0.04045366839227107, 0.19586602746165088 0.8890829584478412, 0.45774610101849494L 0.8890829584478412, 0.45774610101849494 L 0.8941378801737495, 0.4477917498552128 L 0.8990813553554693, 0.43778158532785777 \", \"type\": \"path\"}, {\"fillcolor\": \"#ecd5bb\", \"layer\": \"below\", \"line\": {\"color\": \"rgb(175,175,175)\", \"width\": 0.5}, \"path\": \"M 0.9084880089412917,0.4179109206635877 Q -0.0633181780098405, 0.1897124358957898 -0.9773753160122877, -0.2115123912442977L -0.9773753160122877, -0.2115123912442977 L -0.9794229901166523, -0.2018182509857714 L -0.9813745149275899, -0.19210429836585555 M -0.9813745149275899,-0.19210429836585555 Q -0.0635238845308576, 0.18964365555986912 0.8990813553554693, 0.43778158532785777L 0.8990813553554693, 0.43778158532785777 L 0.9038392902029647, 0.4278721041215481 L 0.9084880089412917, 0.4179109206635877 \", \"type\": \"path\"}, {\"fillcolor\": \"#ecd5bb\", \"layer\": \"below\", \"line\": {\"color\": \"rgb(175,175,175)\", \"width\": 0.5}, \"path\": \"M 0.9172504455190749,0.39831095917016734 Q -0.08156709713295082, 0.18261108582258573 -0.9087615153201776, -0.41731583755349466L -0.9087615153201776, -0.41731583755349466 L -0.9124437834270275, -0.4092020797666743 L -0.9160536106475343, -0.40105583454129634 M -0.9160536106475343,-0.40105583454129634 Q -0.08190016999127622, 0.18246194714350733 0.9084880089412917, 0.4179109206635877L 0.9084880089412917, 0.4179109206635877 L 0.9129218288804731, 0.4081344562194328 L 0.9172504455190749, 0.39831095917016734 \", \"type\": \"path\"}, {\"fillcolor\": \"#ecd5bb\", \"layer\": \"below\", \"line\": {\"color\": \"rgb(175,175,175)\", \"width\": 0.5}, \"path\": \"M 0.7697222989265354,0.6383788706835849 Q -0.13872626908244726, 0.14406603439556612 -0.6669816905054827, -0.7450741067373422L -0.6669816905054827, -0.7450741067373422 L -0.6964624567723517, -0.7175932317870759 L -0.7248119492730508, -0.6889467600555216 M -0.7248119492730508,-0.6889467600555216 Q -0.1390188870608505, 0.14378368836680502 0.7129727931520907, 0.7011916972019179L 0.7129727931520907, 0.7011916972019179 L 0.7420124977467137, 0.6703860478766567 L 0.7697222989265354, 0.6383788706835849 \", \"type\": \"path\"}, {\"fillcolor\": \"#ecd5bb\", \"layer\": \"below\", \"line\": {\"color\": \"rgb(175,175,175)\", \"width\": 0.5}, \"path\": \"M 0.6508533926744626,0.7592034386408836 Q -0.1809800685410592, 0.08512470141429881 -0.16976741841841894, -0.9854841569723714L -0.16976741841841894, -0.9854841569723714 L -0.215394275629808, -0.9765271660460401 L -0.2605554422785165, -0.965458886488206 M -0.2605554422785165,-0.965458886488206 Q -0.18107150567553382, 0.08493002903799768 0.575776353375745, 0.8176072351033405L 0.575776353375745, 0.8176072351033405 L 0.6140096777202345, 0.7892984959227363 L 0.6508533926744626, 0.7592034386408836 \", \"type\": \"path\"}, {\"fillcolor\": \"#ecd5bb\", \"layer\": \"below\", \"line\": {\"color\": \"rgb(175,175,175)\", \"width\": 0.5}, \"path\": \"M 0.9456590715592915,0.32515983819902905 Q -0.15683570110935746, 0.12410706207761223 -0.09907194491236879, -0.9950802730088063L -0.09907194491236879, -0.9950802730088063 L -0.10226942101631538, -0.9947567368583073 L -0.10546584082757429, -0.994422926333928 M -0.10546584082757429,-0.994422926333928 Q -0.15703350836513486, 0.12385668028224045 0.9424878214540486, 0.33424049187793103L 0.9424878214540486, 0.33424049187793103 L 0.9440843643270401, 0.3297039778850241 L 0.9456590715592915, 0.32515983819902905 \", \"type\": \"path\"}, {\"fillcolor\": \"#ecd5bb\", \"layer\": \"below\", \"line\": {\"color\": \"rgb(175,175,175)\", \"width\": 0.5}, \"path\": \"M 0.4694647293075217,0.8829512262499075 Q -0.19968982063077062, -0.011134430225685523 0.5647137393060242, -0.8252868547596088L 0.5647137393060242, -0.8252868547596088 L 0.5092721453723151, -0.860605532138784 L 0.45162989518100427, -0.8922053786986465 M 0.45162989518100427,-0.8922053786986465 Q -0.19968074569276195, -0.011296008125994662 0.34812578687646495, 0.9374478313547064L 0.34812578687646495, 0.9374478313547064 L 0.4097023712775976, 0.9122192537814106 L 0.4694647293075217, 0.8829512262499075 \", \"type\": \"path\"}, {\"fillcolor\": \"#ecd5bb\", \"layer\": \"below\", \"line\": {\"color\": \"rgb(175,175,175)\", \"width\": 0.5}, \"path\": \"M 0.7129727931520907,0.7011916972019179 Q -0.19799566708292837, -0.028243863340311495 0.8805942073957624, -0.4738711237256697L 0.8805942073957624, -0.4738711237256697 L 0.8603687500084947, -0.5096720651642784 L 0.8386886013277681, -0.5446112650348613 M 0.8386886013277681,-0.5446112650348613 Q -0.19795626116435955, -0.028518742360557927 0.6508533926744626, 0.7592034386408836L 0.6508533926744626, 0.7592034386408836 L 0.6825297113113439, 0.730857847448636 L 0.7129727931520907, 0.7011916972019179 \", \"type\": \"path\"}, {\"fillcolor\": \"#ecd5bb\", \"layer\": \"below\", \"line\": {\"color\": \"rgb(175,175,175)\", \"width\": 0.5}, \"path\": \"M 0.8036294696106031,0.5951299652793336 Q -0.19768595533553904, -0.03033583793263775 0.9451007444376347, -0.3267791040801548L 0.9451007444376347, -0.3267791040801548 L 0.9373711500296326, -0.34833220794540976 L 0.9291501079417763, -0.3697026871849669 M 0.9291501079417763,-0.3697026871849669 Q -0.1975448273717441, -0.0312416577451939 0.7697222989265354, 0.6383788706835849L 0.7697222989265354, 0.6383788706835849 L 0.7869730388294137, 0.6169873873553642 L 0.8036294696106031, 0.5951299652793336 \", \"type\": \"path\"}, {\"fillcolor\": \"#ecd5bb\", \"layer\": \"below\", \"line\": {\"color\": \"rgb(175,175,175)\", \"width\": 0.5}, \"path\": \"M 0.9242843160375321,0.3817047329114894 Q -0.19927072021140269, -0.01706399913352325 0.975724245041641, -0.21900273431608033L 0.975724245041641, -0.21900273431608033 L 0.9740212056301234, -0.2264568192456143 L 0.9722612213103315, -0.23389766466585887 M 0.9722612213103315,-0.23389766466585887 Q -0.19924713506439895, -0.017337219172323014 0.9172504455190749, 0.39831095917016734L 0.9172504455190749, 0.39831095917016734 L 0.9208048170991374, 0.3900237028784585 L 0.9242843160375321, 0.3817047329114894 \", \"type\": \"path\"}, {\"fillcolor\": \"#ecd5bb\", \"layer\": \"below\", \"line\": {\"color\": \"rgb(175,175,175)\", \"width\": 0.5}, \"path\": \"M 0.9342401532818672,0.35664455133349976 Q -0.1979258038865895, -0.028729360519289582 0.997084246600753, -0.07630861799697859L 0.997084246600753, -0.07630861799697859 L 0.9966820480333802, -0.08139345875429241 L 0.9962539184211741, -0.08647618186793814 M 0.9962539184211741,-0.08647618186793814 Q -0.19788463108793258, -0.02901159732232656 0.9295051597061035, 0.36880910791320093L 0.9295051597061035, 0.36880910791320093 L 0.9318925056198019, 0.3627345557975524 L 0.9342401532818672, 0.35664455133349976 \", \"type\": \"path\"}, {\"fillcolor\": \"#e6c4a9\", \"layer\": \"below\", \"line\": {\"color\": \"rgb(175,175,175)\", \"width\": 0.5}, \"path\": \"M 0.04327300565408375,0.9990632847731227 Q -0.05385099814375022, 0.19261378455064376 -0.5551349976646021, 0.8317602625564186L -0.5551349976646021, 0.8317602625564186 L -0.5335045622596104, 0.8457971873021224 L -0.5115193938068227, 0.8592717322008799 M -0.5115193938068227,0.8592717322008799 Q -0.05397107344414046, 0.19258017351557039 -0.009533405767084079, 0.999954556054664L -0.009533405767084079, 0.999954556054664 L 0.016875684912264623, 0.9998575954898488 L 0.04327300565408375, 0.9990632847731227 \", \"type\": \"path\"}, {\"fillcolor\": \"#e6c4a9\", \"layer\": \"below\", \"line\": {\"color\": \"rgb(175,175,175)\", \"width\": 0.5}, \"path\": \"M 0.2944070995117226,0.9556801032547945 Q -0.037171019457076064, 0.19651543275916442 -0.6231150282872474, 0.7821302075246697L -0.6231150282872474, 0.7821302075246697 L -0.6196603360176169, 0.7848700962366537 L -0.61619359638062, 0.7875947255914794 M -0.61619359638062,0.7875947255914794 Q -0.03739192487646579, 0.19647351972729746 0.2838127144169203, 0.9588797334052377L 0.2838127144169203, 0.9588797334052377 L 0.28911433328908737, 0.9572945744580434 L 0.2944070995117226, 0.9556801032547945 \", \"type\": \"path\"}, {\"fillcolor\": \"#e6c4a9\", \"layer\": \"below\", \"line\": {\"color\": \"rgb(175,175,175)\", \"width\": 0.5}, \"path\": \"M 0.23409674179569814,0.9722133076031403 Q -0.05929649061298356, 0.19100766005839753 -0.743510146365985, 0.6687246535389821L -0.743510146365985, 0.6687246535389821 L -0.7389683794308995, 0.6737401087966117 L -0.7343927807215518, 0.6787247185892575 M -0.7343927807215518,0.6787247185892575 Q -0.059477371618876375, 0.19095141336295493 0.2190713266515773, 0.9757088468591016L 0.2190713266515773, 0.9757088468591016 L 0.22659077488664708, 0.973990051661858 L 0.23409674179569814, 0.9722133076031403 \", \"type\": \"path\"}, {\"fillcolor\": \"#e6c4a9\", \"layer\": \"below\", \"line\": {\"color\": \"rgb(175,175,175)\", \"width\": 0.5}, \"path\": \"M 0.18145245219852435,0.9833997191331418 Q -0.08694465447004567, 0.18011281758687905 -0.8828635562038943, 0.4696295786330042L -0.8828635562038943, 0.4696295786330042 L -0.8761702116512423, 0.48200182594572943 L -0.869303496350614, 0.49427869793528234 M -0.869303496350614,0.49427869793528234 Q -0.08709896187548481, 0.18003824827022963 0.15202393488577606, 0.9883768123655297L 0.15202393488577606, 0.9883768123655297 L 0.16675676313109625, 0.9859980638672875 L 0.18145245219852435, 0.9833997191331418 \", \"type\": \"path\"}, {\"fillcolor\": \"#e6c4a9\", \"layer\": \"below\", \"line\": {\"color\": \"rgb(175,175,175)\", \"width\": 0.5}, \"path\": \"M 0.2723769502134327,0.9621906240410105 Q -0.09403348836607467, 0.17651544710225026 -0.950494530892188, 0.3107412858698363L -0.950494530892188, 0.3107412858698363 L -0.9491256476916002, 0.3148976101751176 L -0.9477385898045737, 0.3190479045460697 M -0.9477385898045737,0.3190479045460697 Q -0.0943856255131593, 0.17632740483682524 0.2600931125537418, 0.9655835400430698L 0.2600931125537418, 0.9655835400430698 L 0.2662404362706178, 0.9639066500934782 L 0.2723769502134327, 0.9621906240410105 \", \"type\": \"path\"}, {\"fillcolor\": \"#e6c4a9\", \"layer\": \"below\", \"line\": {\"color\": \"rgb(175,175,175)\", \"width\": 0.5}, \"path\": \"M 0.3142131635029938,0.9493524571419409 Q -0.09635666563536985, 0.17525807538494065 -0.9699450935050956, 0.2433238902890371L -0.9699450935050956, 0.2433238902890371 L -0.9693347537434369, 0.24574404404817327 L -0.9687183753569582, 0.24816266690575245 M -0.9687183753569582,0.24816266690575245 Q -0.09649226634686807, 0.1751834539425601 0.30799807692280273, 0.9513869794210216L 0.30799807692280273, 0.9513869794210216 L 0.31110728334174065, 0.9503747988302941 L 0.3142131635029938, 0.9493524571419409 \", \"type\": \"path\"}, {\"fillcolor\": \"#e6c4a9\", \"layer\": \"below\", \"line\": {\"color\": \"rgb(175,175,175)\", \"width\": 0.5}, \"path\": \"M 0.2600931125537418,0.9655835400430698 Q -0.11277117502305029, 0.16517464116480038 -0.994001766939054, 0.10936401292033256L -0.994001766939054, 0.10936401292033256 L -0.9933325699325414, 0.1152840210576161 L -0.9926281152609525, 0.12119993726685294 M -0.9926281152609525,0.12119993726685294 Q -0.112853429030895, 0.16511845310554707 0.24760457674694888, 0.9688611735300183L 0.24760457674694888, 0.9688611735300183 L 0.25385413459432543, 0.9672425126871576 L 0.2600931125537418, 0.9655835400430698 \", \"type\": \"path\"}, {\"fillcolor\": \"#e6c4a9\", \"layer\": \"below\", \"line\": {\"color\": \"rgb(175,175,175)\", \"width\": 0.5}, \"path\": \"M 0.2838127144169203,0.9588797334052377 Q -0.13111518596901642, 0.15102585211913305 -0.9892351764356977, -0.14633443102098004L -0.9892351764356977, -0.14633443102098004 L -0.9900244705771153, -0.14089552036350436 L -0.9907838612923675, -0.13545235399426095 M -0.9907838612923675,-0.13545235399426095 Q -0.13118416814220066, 0.1509659366507519 0.2723769502134327, 0.9621906240410105L 0.2723769502134327, 0.9621906240410105 L 0.27809975954611443, 0.9605521973013197 L 0.2838127144169203, 0.9588797334052377 \", \"type\": \"path\"}, {\"fillcolor\": \"#e6c4a9\", \"layer\": \"below\", \"line\": {\"color\": \"rgb(175,175,175)\", \"width\": 0.5}, \"path\": \"M 0.24760457674694888,0.9688611735300183 Q -0.15070952579635064, 0.13147866303792086 -0.9263113880738122, -0.37675882514516806L -0.9263113880738122, -0.37675882514516806 L -0.9285242229076713, -0.3712718242389329 L -0.930704555849601, -0.36577182740172454 M -0.930704555849601,-0.36577182740172454 Q -0.15084650039344447, 0.13132148841317084 0.23409674179569814, 0.9722133076031403L 0.23409674179569814, 0.9722133076031403 L 0.24085649103178053, 0.9705607403598489 L 0.24760457674694888, 0.9688611735300183 \", \"type\": \"path\"}, {\"fillcolor\": \"#e6c4a9\", \"layer\": \"below\", \"line\": {\"color\": \"rgb(175,175,175)\", \"width\": 0.5}, \"path\": \"M 0.2190713266515773,0.9757088468591016 Q -0.16487995932908706, 0.1132015857293466 -0.831858554872475, -0.5549876977784982L -0.831858554872475, -0.5549876977784982 L -0.8369949123698842, -0.5472106693650352 L -0.8420585648572458, -0.5393861078583276 M -0.8420585648572458,-0.5393861078583276 Q -0.16490687175103463, 0.1131623773578826 0.2003809477481296, 0.979718059331133L 0.2003809477481296, 0.979718059331133 L 0.2097357172036591, 0.9777581137117026 L 0.2190713266515773, 0.9757088468591016 \", \"type\": \"path\"}, {\"fillcolor\": \"#e6c4a9\", \"layer\": \"below\", \"line\": {\"color\": \"rgb(175,175,175)\", \"width\": 0.5}, \"path\": \"M 0.08360038127373692,0.9964993608883479 Q -0.19245062300374527, 0.05443121995206715 -0.450716595819291, -0.8926670993450301L -0.450716595819291, -0.8926670993450301 L -0.46868106029125506, -0.883367456794886 L -0.48645373797278146, -0.8737063355683696 M -0.48645373797278146,-0.8737063355683696 Q -0.1924493495019548, 0.054435722428148786 0.04327300565408375, 0.9990632847731227L 0.04327300565408375, 0.9990632847731227 L 0.06344964542104119, 0.9979850412185266 L 0.08360038127373692, 0.9964993608883479 \", \"type\": \"path\"}, {\"fillcolor\": \"#e6c4a9\", \"layer\": \"below\", \"line\": {\"color\": \"rgb(175,175,175)\", \"width\": 0.5}, \"path\": \"M 0.3012901835492978,0.9535324982908713 Q -0.19565449159637105, 0.04146468278144145 -0.11139913403309872, -0.9937757457981532L -0.11139913403309872, -0.9937757457981532 L -0.11385117506451228, -0.9934978157683235 L -0.11630252277069682, -0.9932138355848511 M -0.11630252277069682,-0.9932138355848511 Q -0.1957015284841181, 0.04124211135453562 0.2944070995117226, 0.9556801032547945L 0.2944070995117226, 0.9556801032547945 L 0.29785057715797797, 0.9546125044679958 L 0.3012901835492978, 0.9535324982908713 \", \"type\": \"path\"}, {\"fillcolor\": \"#e6c4a9\", \"layer\": \"below\", \"line\": {\"color\": \"rgb(175,175,175)\", \"width\": 0.5}, \"path\": \"M -0.009533405767084079,0.999954556054664 Q -0.1975472840138055, -0.031226120136335744 0.2993491262118655, -0.9541436477995295L 0.2993491262118655, -0.9541436477995295 L 0.2693385398551175, -0.9630455601625051 L 0.23906403422845468, -0.9710038040803014 M 0.23906403422845468,-0.9710038040803014 Q -0.19755872545045394, -0.031153651445571695 -0.07134782022767783, 0.9974514968402017L -0.07134782022767783, 0.9974514968402017 L -0.04045997412210879, 0.9991811599975443 L -0.009533405767084079, 0.999954556054664 \", \"type\": \"path\"}, {\"fillcolor\": \"#e6c4a9\", \"layer\": \"below\", \"line\": {\"color\": \"rgb(175,175,175)\", \"width\": 0.5}, \"path\": \"M 0.121794282986547,0.9925553650209105 Q -0.18483381760763304, -0.07639672681855061 0.787030671910215, -0.6169138687633433L 0.787030671910215, -0.6169138687633433 L 0.7751527369488892, -0.6317738791693166 L 0.7629942701438963, -0.6464052472927359 M 0.7629942701438963,-0.6464052472927359 Q -0.18482040080552753, -0.0764291792843817 0.08360038127373692, 0.9964993608883479L 0.08360038127373692, 0.9964993608883479 L 0.10271626357349298, 0.994710696231573 L 0.121794282986547, 0.9925553650209105 \", \"type\": \"path\"}, {\"fillcolor\": \"#e6c4a9\", \"layer\": \"below\", \"line\": {\"color\": \"rgb(175,175,175)\", \"width\": 0.5}, \"path\": \"M 0.2003809477481296,0.979718059331133 Q -0.17597661085769387, -0.09503805780338627 0.9291501079417763, -0.3697026871849669L 0.9291501079417763, -0.3697026871849669 L 0.9260764487159866, -0.3773359393611834 L 0.9229400812237994, -0.38494364064185616 M 0.9229400812237994,-0.38494364064185616 Q -0.17584215700790606, -0.09528659831690352 0.18145245219852435, 0.9833997191331418L 0.18145245219852435, 0.9833997191331418 L 0.19092557446143704, 0.9816045155848512 L 0.2003809477481296, 0.979718059331133 \", \"type\": \"path\"}, {\"fillcolor\": \"#e6c4a9\", \"layer\": \"below\", \"line\": {\"color\": \"rgb(175,175,175)\", \"width\": 0.5}, \"path\": \"M 0.31850805983651265,0.9479201526601175 Q -0.17745188351216157, -0.09225415458387906 0.9588742434309966, -0.28383126199316727L 0.9588742434309966, -0.28383126199316727 L 0.9583143328333881, -0.28571601195260016 L 0.9577507176012061, -0.2875996573961358 M 0.9577507176012061,-0.2875996573961358 Q -0.177424424713563, -0.09230695269079796 0.3142131635029938, 0.9493524571419409L 0.3142131635029938, 0.9493524571419409 L 0.3163614222532396, 0.948638735509945 L 0.31850805983651265, 0.9479201526601175 \", \"type\": \"path\"}, {\"fillcolor\": \"#e6c4a9\", \"layer\": \"below\", \"line\": {\"color\": \"rgb(175,175,175)\", \"width\": 0.5}, \"path\": \"M 0.30799807692280273,0.9513869794210216 Q -0.16746979764244574, -0.1093337408012654 0.9949091867300328, -0.10077554346261186L 0.9949091867300328, -0.10077554346261186 L 0.9946211659974157, -0.10357961261725868 L 0.9943252422439548, -0.10638285875318693 M 0.9943252422439548,-0.10638285875318693 Q -0.16739294775023428, -0.10945136382652959 0.3012901835492978, 0.9535324982908713L 0.3012901835492978, 0.9535324982908713 L 0.30464601901236915, 0.9524656440522751 L 0.30799807692280273, 0.9513869794210216 \", \"type\": \"path\"}, {\"fillcolor\": \"#e1b396\", \"layer\": \"below\", \"line\": {\"color\": \"rgb(175,175,175)\", \"width\": 0.5}, \"path\": \"M -0.29915659216053136,0.9542040313092884 Q -0.09604137316390222, 0.17543105380972915 -0.6426655881089328, 0.766146814821154L -0.6426655881089328, 0.766146814821154 L -0.6371209922134198, 0.7707638038212404 L -0.6315432283526651, 0.7753406675274382 M -0.6315432283526651,0.7753406675274382 Q -0.0963264789115511, 0.17527466862185906 -0.3159814000857818, 0.9487653844865068L -0.3159814000857818, 0.9487653844865068 L -0.30758101712560565, 0.9515218956513707 L -0.29915659216053136, 0.9542040313092884 \", \"type\": \"path\"}, {\"fillcolor\": \"#e1b396\", \"layer\": \"below\", \"line\": {\"color\": \"rgb(175,175,175)\", \"width\": 0.5}, \"path\": \"M -0.3159814000857818,0.9487653844865068 Q -0.11097426431914009, 0.1663872370671069 -0.754522154627895, 0.6562745752927497L -0.754522154627895, 0.6562745752927497 L -0.7490420180586261, 0.6625224940956049 L -0.743510146365985, 0.6687246535389821 M -0.743510146365985,0.6687246535389821 Q -0.1111305630190337, 0.16628288535827307 -0.33347928877387456, 0.9427574258306698L -0.33347928877387456, 0.9427574258306698 L -0.3247442385713984, 0.9458018711731769 L -0.3159814000857818, 0.9487653844865068 \", \"type\": \"path\"}, {\"fillcolor\": \"#e1b396\", \"layer\": \"below\", \"line\": {\"color\": \"rgb(175,175,175)\", \"width\": 0.5}, \"path\": \"M -0.4371886150155742,0.8993698432240009 Q -0.1456114184462816, 0.13710329980734196 -0.9240322652071654, 0.3823144946979055L -0.9240322652071654, 0.3823144946979055 L -0.9172145436208742, 0.3983936256648084 L -0.910117053456019, 0.4143512386955465 M -0.910117053456019,0.4143512386955465 Q -0.14569728527003661, 0.13701204715258283 -0.4694373278950118, 0.8829657950219766L -0.4694373278950118, 0.8829657950219766 L -0.4533871670978139, 0.8913136803118299 L -0.4371886150155742, 0.8993698432240009 \", \"type\": \"path\"}, {\"fillcolor\": \"#e1b396\", \"layer\": \"below\", \"line\": {\"color\": \"rgb(175,175,175)\", \"width\": 0.5}, \"path\": \"M -0.22284295691874403,0.9748543565844647 Q -0.1320800434374408, 0.15018276241154893 -0.938401005184861, 0.34554819268524967L -0.938401005184861, 0.34554819268524967 L -0.9381221555531094, 0.3463045209932835 L -0.9378426963393128, 0.3470606242762315 M -0.9378426963393128,0.3470606242762315 Q -0.13213109419036825, 0.15013784981827882 -0.22507687287984693, 0.9743410087308392L -0.22507687287984693, 0.9743410087308392 L -0.22396006198249818, 0.9745983227139249 L -0.22284295691874403, 0.9748543565844647 \", \"type\": \"path\"}, {\"fillcolor\": \"#e1b396\", \"layer\": \"below\", \"line\": {\"color\": \"rgb(175,175,175)\", \"width\": 0.5}, \"path\": \"M -0.23781906816854267,0.9713094722154448 Q -0.14310090807023965, 0.1397216164717286 -0.9767145013934744, 0.21454319557538254L -0.9767145013934744, 0.21454319557538254 L -0.9759672300761365, 0.21791733712009634 L -0.9752083025424865, 0.22128887602453556 M -0.9752083025424865,0.22128887602453556 Q -0.14323562464706371, 0.1395835084527018 -0.24639711953386095, 0.9691689530135683L -0.24639711953386095, 0.9691689530135683 L -0.24211045942684054, 0.9702486925712006 L -0.23781906816854267, 0.9713094722154448 \", \"type\": \"path\"}, {\"fillcolor\": \"#e1b396\", \"layer\": \"below\", \"line\": {\"color\": \"rgb(175,175,175)\", \"width\": 0.5}, \"path\": \"M -0.25511422158559965,0.9669109234799106 Q -0.1507344688968239, 0.13145006613308505 -0.9926281152609525, 0.12119993726685294L -0.9926281152609525, 0.12119993726685294 L -0.9920839402505555, 0.12557649261279855 L -0.9915204688472571, 0.12995060545036125 M -0.9915204688472571,0.12995060545036125 Q -0.1507680998441381, 0.13141149139016725 -0.2641264717833466, 0.964488054308233L -0.2641264717833466, 0.964488054308233 L -0.2596231730534117, 0.9657100020263217 L -0.25511422158559965, 0.9669109234799106 \", \"type\": \"path\"}, {\"fillcolor\": \"#e1b396\", \"layer\": \"below\", \"line\": {\"color\": \"rgb(175,175,175)\", \"width\": 0.5}, \"path\": \"M -0.24639711953386095,0.9691689530135683 Q -0.16472242753408334, 0.11343069191042904 -0.9933091130827523, -0.11548595527922878L -0.9933091130827523, -0.11548595527922878 L -0.9937917771828171, -0.111256027269618 L -0.9942564285529073, -0.10702408271607594 M -0.9942564285529073,-0.10702408271607594 Q -0.1647502175707422, 0.11339032502992973 -0.25511422158559965, 0.9669109234799106L -0.25511422158559965, 0.9669109234799106 L -0.25075821221288797, 0.9680497502751583 L -0.24639711953386095, 0.9691689530135683 \", \"type\": \"path\"}, {\"fillcolor\": \"#e1b396\", \"layer\": \"below\", \"line\": {\"color\": \"rgb(175,175,175)\", \"width\": 0.5}, \"path\": \"M -0.2869468689592106,0.9579464987119612 Q -0.17985842207770386, 0.08746969765420781 -0.930704555849601, -0.36577182740172454L -0.930704555849601, -0.36577182740172454 L -0.932723851304767, -0.3605914824385111 L -0.9347143129749709, -0.3553999903203827 M -0.9347143129749709,-0.3553999903203827 Q -0.1799305450447064, 0.08732124002735465 -0.29915659216053136, 0.9542040313092884L -0.29915659216053136, 0.9542040313092884 L -0.29305770472673176, 0.9560947556075704 L -0.2869468689592106, 0.9579464987119612 \", \"type\": \"path\"}, {\"fillcolor\": \"#e1b396\", \"layer\": \"below\", \"line\": {\"color\": \"rgb(175,175,175)\", \"width\": 0.5}, \"path\": \"M -0.27484777211077127,0.9614877545583956 Q -0.18599486632121176, 0.07352489171807448 -0.857987046679024, -0.5136713226675267L -0.857987046679024, -0.5136713226675267 L -0.8612036784991617, -0.5082599965957508 L -0.8643861815322151, -0.5028285286021036 M -0.8643861815322151,-0.5028285286021036 Q -0.18599546966467487, 0.07352336543043315 -0.2869468689592106, 0.9579464987119612L -0.2869468689592106, 0.9579464987119612 L -0.28090290102983984, 0.9597361930202591 L -0.27484777211077127, 0.9614877545583956 \", \"type\": \"path\"}, {\"fillcolor\": \"#e1b396\", \"layer\": \"below\", \"line\": {\"color\": \"rgb(175,175,175)\", \"width\": 0.5}, \"path\": \"M -0.35530522509630147,0.9347503394058044 Q -0.19919470964944647, 0.017929518891278688 -0.5165156888714496, -0.8562777254779268L -0.5165156888714496, -0.8562777254779268 L -0.5274696113697441, -0.8495738985405866 L -0.5383365384560477, -0.8427299516233895 M -0.5383365384560477,-0.8427299516233895 Q -0.19918900387185162, 0.017992796795925917 -0.3786066368520566, 0.9255576775823184L -0.3786066368520566, 0.9255576775823184 L -0.36698471566943597, 0.9302269714779416 L -0.35530522509630147, 0.9347503394058044 \", \"type\": \"path\"}, {\"fillcolor\": \"#e1b396\", \"layer\": \"below\", \"line\": {\"color\": \"rgb(175,175,175)\", \"width\": 0.5}, \"path\": \"M -0.22762847100904587,0.9737480573465007 Q -0.19973673312880943, -0.010258530061893029 -0.1266699735357879, -0.9919449167188886L -0.1266699735357879, -0.9919449167188886 L -0.12809301982726698, -0.9917621581163154 L -0.12951580244420302, -0.9915773580095676 M -0.12951580244420302,-0.9915773580095676 Q -0.19973041937107, -0.01038073108487581 -0.23161220938170812, 0.9728081951059643L -0.23161220938170812, 0.9728081951059643 L -0.22962082106529128, 0.9732801644610362 L -0.22762847100904587, 0.9737480573465007 \", \"type\": \"path\"}, {\"fillcolor\": \"#e1b396\", \"layer\": \"below\", \"line\": {\"color\": \"rgb(175,175,175)\", \"width\": 0.5}, \"path\": \"M -0.40466705237653866,0.9144640926361646 Q -0.19171264720061093, -0.05697596777005279 0.160450875568559, -0.9870438270559635L 0.160450875568559, -0.9870438270559635 L 0.1420859753477381, -0.9898543203974421 L 0.12367203153346322, -0.992323147274307 M 0.12367203153346322,-0.992323147274307 Q -0.191749707129339, -0.05685111974106341 -0.4371886150155742, 0.8993698432240009L -0.4371886150155742, 0.8993698432240009 L -0.42099548723398944, 0.9070627319698543 L -0.40466705237653866, 0.9144640926361646 \", \"type\": \"path\"}, {\"fillcolor\": \"#e1b396\", \"layer\": \"below\", \"line\": {\"color\": \"rgb(175,175,175)\", \"width\": 0.5}, \"path\": \"M -0.33347928877387456,0.9427574258306698 Q -0.17124257291122086, -0.10332463995942696 0.6785692068351764, -0.7345364739310632L 0.6785692068351764, -0.7345364739310632 L 0.6698571606531929, -0.7424899893747002 L 0.6610518983835548, -0.7503401812801299 M 0.6610518983835548,-0.7503401812801299 Q -0.1712603600116447, -0.1032951552043069 -0.35530522509630147, 0.9347503394058044L -0.35530522509630147, 0.9347503394058044 L -0.3444155266463717, 0.9388173118370274 L -0.33347928877387456, 0.9427574258306698 \", \"type\": \"path\"}, {\"fillcolor\": \"#e1b396\", \"layer\": \"below\", \"line\": {\"color\": \"rgb(175,175,175)\", \"width\": 0.5}, \"path\": \"M -0.23161220938170812,0.9728081951059643 Q -0.15519840907930896, -0.1261485387123112 0.9049597970975559, -0.4254970806446859L 0.9049597970975559, -0.4254970806446859 L 0.9037688570270317, -0.4280208558797721 L 0.9025708786037597, -0.43054129778272976 M 0.9025708786037597,-0.43054129778272976 Q -0.1551476893421676, -0.12621091272859988 -0.23781906816854267, 0.9713094722154448L -0.23781906816854267, 0.9713094722154448 L -0.23471683499099663, 0.9720637877072724 L -0.23161220938170812, 0.9728081951059643 \", \"type\": \"path\"}, {\"fillcolor\": \"#e1b396\", \"layer\": \"below\", \"line\": {\"color\": \"rgb(175,175,175)\", \"width\": 0.5}, \"path\": \"M -0.2641264717833466,0.964488054308233 Q -0.1391970960519183, -0.14361117105125573 0.9722612213103315, -0.23389766466585887L 0.9722612213103315, -0.23389766466585887 L 0.9710910893035325, -0.23870922955612495 L 0.9698971457881864, -0.24351494120880862 M 0.9698971457881864,-0.24351494120880862 Q -0.13910877501637328, -0.14369672478328807 -0.27484777211077127, 0.9614877545583956L -0.27484777211077127, 0.9614877545583956 L -0.2694912973454918, 0.9630028248427124 L -0.2641264717833466, 0.964488054308233 \", \"type\": \"path\"}, {\"fillcolor\": \"#e1b396\", \"layer\": \"below\", \"line\": {\"color\": \"rgb(175,175,175)\", \"width\": 0.5}, \"path\": \"M -0.22507687287984693,0.9743410087308392 Q -0.13346567346166777, -0.1489527240684892 0.9931098355366766, -0.11718726279043754L 0.9931098355366766, -0.11718726279043754 L 0.9929834228970865, -0.11825363356610123 L 0.9928558652217128, -0.11931986798033334 M 0.9928558652217128,-0.11931986798033334 Q -0.13343052327828958, -0.14898421210880644 -0.22762847100904587, 0.9737480573465007L -0.22762847100904587, 0.9737480573465007 L -0.22635286610561445, 0.9740453685561951 L -0.22507687287984693, 0.9743410087308392 \", \"type\": \"path\"}, {\"fillcolor\": \"#dba284\", \"layer\": \"below\", \"line\": {\"color\": \"rgb(175,175,175)\", \"width\": 0.5}, \"path\": \"M -0.6426655881089328,0.766146814821154 Q -0.14146628788101429, 0.14137641031362339 -0.766555093579053, 0.6421785487759687L -0.766555093579053, 0.6421785487759687 L -0.7605712808436141, 0.6492544391499409 L -0.754522154627895, 0.6562745752927497 M -0.754522154627895,0.6562745752927497 Q -0.14134619200908524, 0.141496480537612 -0.6554723738521278, 0.7552191517146903L -0.6554723738521278, 0.7552191517146903 L -0.6490919777091271, 0.760709934517523 L -0.6426655881089328, 0.766146814821154 \", \"type\": \"path\"}, {\"fillcolor\": \"#dba284\", \"layer\": \"below\", \"line\": {\"color\": \"rgb(175,175,175)\", \"width\": 0.5}, \"path\": \"M -0.5927791218141758,0.8053650804083913 Q -0.1437533370643189, 0.13905027178280638 -0.8246302926170502, 0.5656720609136694L -0.8246302926170502, 0.5656720609136694 L -0.8224336416610745, 0.5688610595427528 L -0.8202246583227755, 0.5720415281072574 M -0.8202246583227755,0.5720415281072574 Q -0.14367005245644499, 0.1391363217393731 -0.5980392184828731, 0.801466838463323L -0.5980392184828731, 0.801466838463323 L -0.5954123604440205, 0.8034202642642765 L -0.5927791218141758, 0.8053650804083913 \", \"type\": \"path\"}, {\"fillcolor\": \"#dba284\", \"layer\": \"below\", \"line\": {\"color\": \"rgb(175,175,175)\", \"width\": 0.5}, \"path\": \"M -0.5812047746085915,0.813757340963617 Q -0.15856902713488782, 0.12188463247471036 -0.9358694288488832, 0.3523470053031033L -0.9358694288488832, 0.3523470053031033 L -0.9358085523291472, 0.35250865718110513 L -0.9357476478874289, 0.35267029854120735 M -0.9357476478874289,0.35267029854120735 Q -0.15857240181392157, 0.12188024197122438 -0.5815309187862897, 0.8135243023386417L -0.5815309187862897, 0.8135243023386417 L -0.5813678583739982, 0.8136408379928031 L -0.5812047746085915, 0.813757340963617 \", \"type\": \"path\"}, {\"fillcolor\": \"#dba284\", \"layer\": \"below\", \"line\": {\"color\": \"rgb(175,175,175)\", \"width\": 0.5}, \"path\": \"M -0.6038063587965686,0.7971310313096771 Q -0.16882593912763041, 0.10722780552484341 -0.9782006278208716, 0.20766206136618368L -0.9782006278208716, 0.20766206136618368 L -0.9774636198395248, 0.2111039362262413 L -0.9767145013934744, 0.21454319557538254 M -0.9767145013934744,0.21454319557538254 Q -0.16884250553135527, 0.10720171792417446 -0.6096479839269595, 0.7926722750883833L -0.6096479839269595, 0.7926722750883833 L -0.6067312671977666, 0.7949070193454026 L -0.6038063587965686, 0.7971310313096771 \", \"type\": \"path\"}, {\"fillcolor\": \"#dba284\", \"layer\": \"below\", \"line\": {\"color\": \"rgb(175,175,175)\", \"width\": 0.5}, \"path\": \"M -0.582291558404479,0.8129800372769821 Q -0.17024569113480992, 0.10495906178139608 -0.9879036100596138, 0.1550692014269192L -0.9879036100596138, 0.1550692014269192 L -0.9877833326931338, 0.15583352544829918 L -0.9876624639824031, 0.15659775617871513 M -0.9876624639824031,0.15659775617871513 Q -0.17023460081885297, 0.10497704836794464 -0.5833773026352238, 0.812201282177054L -0.5833773026352238, 0.812201282177054 L -0.5828345605866865, 0.812590841066846 L -0.582291558404479, 0.8129800372769821 \", \"type\": \"path\"}, {\"fillcolor\": \"#dba284\", \"layer\": \"below\", \"line\": {\"color\": \"rgb(175,175,175)\", \"width\": 0.5}, \"path\": \"M -0.5865200642678234,0.8099346974980565 Q -0.18218342237474439, 0.08251788055824927 -0.9956366297782829, -0.09331506547038566L -0.9956366297782829, -0.09331506547038566 L -0.9957799011937777, -0.09177357124200002 L -0.9959207859925601, -0.09023185705703655 M -0.9959207859925601,-0.09023185705703655 Q -0.1821659255786958, 0.08255649918726611 -0.5886823580677504, 0.8083644483151105L -0.5886823580677504, 0.8083644483151105 L -0.5876017356904883, 0.8091502951946107 L -0.5865200642678234, 0.8099346974980565 \", \"type\": \"path\"}, {\"fillcolor\": \"#dba284\", \"layer\": \"below\", \"line\": {\"color\": \"rgb(175,175,175)\", \"width\": 0.5}, \"path\": \"M -0.580987293272305,0.8139126274091837 Q -0.19027826260623404, 0.06159693806962362 -0.9477442164916802, -0.31903118986483336L -0.9477442164916802, -0.31903118986483336 L -0.9477896892612442, -0.3188960723026769 L -0.9478351427674299, -0.31876094825910817 M -0.9478351427674299,-0.31876094825910817 Q -0.19027771136823246, 0.061598640865425075 -0.5812047746085915, 0.813757340963617L -0.5812047746085915, 0.813757340963617 L -0.5810960391276032, 0.8138349914510994 L -0.580987293272305, 0.8139126274091837 \", \"type\": \"path\"}, {\"fillcolor\": \"#dba284\", \"layer\": \"below\", \"line\": {\"color\": \"rgb(175,175,175)\", \"width\": 0.5}, \"path\": \"M -0.584895594398507,0.8111085893104678 Q -0.19473948276084138, 0.04556900102086906 -0.8840600943656748, -0.46737324436702005L -0.8840600943656748, -0.46737324436702005 L -0.884632585116971, -0.4662887403200566 L -0.8852037454740215, -0.46520353502393313 M -0.8852037454740215,-0.46520353502393313 Q -0.1947292603642389, 0.045612664447458685 -0.5865200642678234, 0.8099346974980565L -0.5865200642678234, 0.8099346974980565 L -0.5857081234263913, 0.8105220503800838 L -0.584895594398507, 0.8111085893104678 \", \"type\": \"path\"}, {\"fillcolor\": \"#dba284\", \"layer\": \"below\", \"line\": {\"color\": \"rgb(175,175,175)\", \"width\": 0.5}, \"path\": \"M -0.5815309187862897,0.8135243023386417 Q -0.1998519854791897, 0.007693107306267516 -0.6423490352756723, -0.7664122369067531L -0.6423490352756723, -0.7664122369067531 L -0.6427992446180573, -0.7660346801016616 L -0.6432492320419781, -0.7656568588326009 M -0.6432492320419781,-0.7656568588326009 Q -0.19985106151348375, 0.007717072756800037 -0.582291558404479, 0.8129800372769821L -0.582291558404479, 0.8129800372769821 L -0.5819113022271769, 0.813252258736655 L -0.5815309187862897, 0.8135243023386417 \", \"type\": \"path\"}, {\"fillcolor\": \"#dba284\", \"layer\": \"below\", \"line\": {\"color\": \"rgb(175,175,175)\", \"width\": 0.5}, \"path\": \"M -0.5980392184828731,0.801466838463323 Q -0.19082139456338437, -0.05989319975494037 -0.03278066862007945, -0.9994625694666212L -0.03278066862007945, -0.9994625694666212 L -0.03735896404887238, -0.9993019102379396 L -0.04193647544001467, -0.9991202790593678 M -0.04193647544001467,-0.9991202790593678 Q -0.19087961069664847, -0.05970740507086145 -0.6038063587965686, 0.7971310313096771L -0.6038063587965686, 0.7971310313096771 L -0.6009266991176685, 0.7993041362882737 L -0.5980392184828731, 0.801466838463323 \", \"type\": \"path\"}, {\"fillcolor\": \"#dba284\", \"layer\": \"below\", \"line\": {\"color\": \"rgb(175,175,175)\", \"width\": 0.5}, \"path\": \"M -0.5886823580677504,0.8083644483151105 Q -0.16059535110103265, -0.11920206879385967 0.603289023954857, -0.7975226351493706L 0.603289023954857, -0.7975226351493706 L 0.6007683734163051, -0.7994231429616777 L 0.5982417358549948, -0.8013156840354508 M 0.5982417358549948,-0.8013156840354508 Q -0.16066900506899295, -0.11910277414963902 -0.5927791218141758, 0.8053650804083913L -0.5927791218141758, 0.8053650804083913 L -0.5907326435564212, 0.8068673644638518 L -0.5886823580677504, 0.8083644483151105 \", \"type\": \"path\"}, {\"fillcolor\": \"#dba284\", \"layer\": \"below\", \"line\": {\"color\": \"rgb(175,175,175)\", \"width\": 0.5}, \"path\": \"M -0.6096479839269595,0.7926722750883833 Q -0.11051707665535529, -0.16669125882167404 0.9674747947232138, -0.25296743184701703L 0.9674747947232138, -0.25296743184701703 L 0.9663228191674309, -0.25733287616686007 L 0.9651511459406235, -0.26169307497429367 M 0.9651511459406235,-0.26169307497429367 Q -0.11057921413227167, -0.16665004471013267 -0.61619359638062, 0.7875947255914794L -0.61619359638062, 0.7875947255914794 L -0.6129260480514508, 0.7901402784442967 L -0.6096479839269595, 0.7926722750883833 \", \"type\": \"path\"}, {\"fillcolor\": \"#dba284\", \"layer\": \"below\", \"line\": {\"color\": \"rgb(175,175,175)\", \"width\": 0.5}, \"path\": \"M -0.5833773026352238,0.812201282177054 Q -0.10192810626821674, -0.17207748589683405 0.9926136088642181, -0.12131868569001644L 0.9926136088642181, -0.12131868569001644 L 0.9924991787292442, -0.12225129946865905 L 0.9923838723537498, -0.12318380531618739 M 0.9923838723537498,-0.12318380531618739 Q -0.10192884652188205, -0.17207704741399596 -0.584895594398507, 0.8111085893104678L -0.584895594398507, 0.8111085893104678 L -0.5841367040174085, 0.8116552907606027 L -0.5833773026352238, 0.812201282177054 \", \"type\": \"path\"}, {\"fillcolor\": \"#d59171\", \"layer\": \"below\", \"line\": {\"color\": \"rgb(175,175,175)\", \"width\": 0.5}, \"path\": \"M -0.6907684002334683,0.723076079841461 Q -0.15136779183833968, 0.13072027996445337 -0.8159526166519879, 0.5781187831049723L -0.8159526166519879, 0.5781187831049723 L -0.813799695855104, 0.5811454680423311 L -0.8116355479674042, 0.5841641355609324 M -0.8116355479674042,0.5841641355609324 Q -0.15133411393945836, 0.13075926719800413 -0.6957507513003646, 0.7182832951315089L -0.6957507513003646, 0.7182832951315089 L -0.6932637175626921, 0.7206839931004128 L -0.6907684002334683, 0.723076079841461 \", \"type\": \"path\"}, {\"fillcolor\": \"#d59171\", \"layer\": \"below\", \"line\": {\"color\": \"rgb(175,175,175)\", \"width\": 0.5}, \"path\": \"M -0.6788709446293999,0.7342576118352375 Q -0.16589038184870877, 0.11171562652596814 -0.935625755245316, 0.35299354968842145L -0.935625755245316, 0.35299354968842145 L -0.9356054289481432, 0.35304742078474527 L -0.9355850995492015, 0.35310129071062696 M -0.9355850995492015,0.35310129071062696 Q -0.16589216574059082, 0.11171297751781728 -0.6789789415518404, 0.7341577466247582L -0.6789789415518404, 0.7341577466247582 L -0.6789249449268062, 0.7342076812156988 L -0.6788709446293999, 0.7342576118352375 \", \"type\": \"path\"}, {\"fillcolor\": \"#d59171\", \"layer\": \"below\", \"line\": {\"color\": \"rgb(175,175,175)\", \"width\": 0.5}, \"path\": \"M -0.7027957044611755,0.7113917330071527 Q -0.17634343082736356, 0.09435568029554367 -0.9817889013799763, 0.18997513818155012L -0.9817889013799763, 0.18997513818155012 L -0.9808906515626938, 0.19455983572390767 L -0.979970992527576, 0.19914028674408782 M -0.979970992527576,0.19914028674408782 Q -0.17640915698561277, 0.09423274023196734 -0.7103938240161956, 0.7038043867436793L -0.7103938240161956, 0.7038043867436793 L -0.7066049481891234, 0.7076082582860704 L -0.7027957044611755, 0.7113917330071527 \", \"type\": \"path\"}, {\"fillcolor\": \"#d59171\", \"layer\": \"below\", \"line\": {\"color\": \"rgb(175,175,175)\", \"width\": 0.5}, \"path\": \"M -0.6825345845678975,0.7308532964068286 Q -0.17710748421812683, 0.09291361059568158 -0.9892555885288848, 0.1461963767142324L -0.9892555885288848, 0.1461963767142324 L -0.9890624347667358, 0.14749745805706774 L -0.9888675698068621, 0.14879828421144803 M -0.9888675698068621,0.14879828421144803 Q -0.17710143991049038, 0.09292513105522623 -0.6843600085114271, 0.7291442784183659L -0.6843600085114271, 0.7291442784183659 L -0.6834478307325251, 0.7299993579908175 L -0.6825345845678975, 0.7308532964068286 \", \"type\": \"path\"}, {\"fillcolor\": \"#d59171\", \"layer\": \"below\", \"line\": {\"color\": \"rgb(175,175,175)\", \"width\": 0.5}, \"path\": \"M -0.6862881458614996,0.7273297607344176 Q -0.18737346232111918, 0.06993701178772328 -0.9950088358314262, -0.09978685593498732L -0.9950088358314262, -0.09978685593498732 L -0.9953279929028814, -0.0965514709567992 L -0.9956366297782829, -0.09331506547038566 M -0.9956366297782829,-0.09331506547038566 Q -0.18736212070193176, 0.06996739044779902 -0.6907684002334683, 0.723076079841461L -0.6907684002334683, 0.723076079841461 L -0.6885315579085939, 0.7252063801180769 L -0.6862881458614996, 0.7273297607344176 \", \"type\": \"path\"}, {\"fillcolor\": \"#d59171\", \"layer\": \"below\", \"line\": {\"color\": \"rgb(175,175,175)\", \"width\": 0.5}, \"path\": \"M -0.6801659376014887,0.7330581814062835 Q -0.1938889921904009, 0.04906178459239591 -0.9469682330092692, -0.3213271941048599L -0.9469682330092692, -0.3213271941048599 L -0.9472198953856253, -0.32058457509001415 L -0.9474709753951317, -0.3198417589743368 M -0.9474709753951317,-0.3198417589743368 Q -0.19389021424349126, 0.049056954864861606 -0.6813511529744737, 0.7319566970390771L -0.6813511529744737, 0.7319566970390771 L -0.6807587680666047, 0.7325076789361588 L -0.6801659376014887, 0.7330581814062835 \", \"type\": \"path\"}, {\"fillcolor\": \"#d59171\", \"layer\": \"below\", \"line\": {\"color\": \"rgb(175,175,175)\", \"width\": 0.5}, \"path\": \"M -0.6843600085114271,0.7291442784183659 Q -0.19740422098971097, 0.03211811849167639 -0.8802095541646305, -0.47458523023509946L -0.8802095541646305, -0.47458523023509946 L -0.8809070007753996, -0.47328939982307877 L -0.8816025396867163, -0.4719925444516383 M -0.8816025396867163,-0.4719925444516383 Q -0.19739947298677496, 0.03214728704795332 -0.6862881458614996, 0.7273297607344176L -0.6862881458614996, 0.7273297607344176 L -0.6853246777185861, 0.7282376577120385 L -0.6843600085114271, 0.7291442784183659 \", \"type\": \"path\"}, {\"fillcolor\": \"#d59171\", \"layer\": \"below\", \"line\": {\"color\": \"rgb(175,175,175)\", \"width\": 0.5}, \"path\": \"M -0.7103938240161956,0.7038043867436793 Q -0.1995018937046628, -0.014106537784071138 -0.6042904383637336, -0.796764121997324L -0.6042904383637336, -0.796764121997324 L -0.6092278066467204, -0.7929952582509092 L -0.6141416697393289, -0.7891957992094161 M -0.6141416697393289,-0.7891957992094161 Q -0.19951268263568603, -0.013953116766946001 -0.718012424756524, 0.6960302851853911L -0.718012424756524, 0.6960302851853911 L -0.7142137019457118, 0.6999277019471383 L -0.7103938240161956, 0.7038043867436793 \", \"type\": \"path\"}, {\"fillcolor\": \"#d59171\", \"layer\": \"below\", \"line\": {\"color\": \"rgb(175,175,175)\", \"width\": 0.5}, \"path\": \"M -0.7259507325351627,0.6877467076850754 Q -0.1830292366988725, -0.08062442876342196 0.017435195183183726, -0.9998479954317677L 0.017435195183183726, -0.9998479954317677 L 0.010309713295338042, -0.9999468534936083 L 0.003183707856899201, -0.9999949319892986 M 0.003183707856899201,-0.9999949319892986 Q -0.18310560814672427, -0.0804508313519398 -0.7343927807215518, 0.6787247185892575L -0.7343927807215518, 0.6787247185892575 L -0.7301856909372795, 0.6832487517372042 L -0.7259507325351627, 0.6877467076850754 \", \"type\": \"path\"}, {\"fillcolor\": \"#d59171\", \"layer\": \"below\", \"line\": {\"color\": \"rgb(175,175,175)\", \"width\": 0.5}, \"path\": \"M -0.718012424756524,0.6960302851853911 Q -0.1469996305017108, -0.13561382168628866 0.636014309853778, -0.7716772626307078L 0.636014309853778, -0.7716772626307078 L 0.6310006606817962, -0.7757822930559428 L 0.6259605170838494, -0.7798547499708647 M 0.6259605170838494,-0.7798547499708647 Q -0.14710037667184406, -0.13550453565472118 -0.7259507325351627, 0.6877467076850754L -0.7259507325351627, 0.6877467076850754 L -0.7219934586393392, 0.6918998812559551 L -0.718012424756524, 0.6960302851853911 \", \"type\": \"path\"}, {\"fillcolor\": \"#d59171\", \"layer\": \"below\", \"line\": {\"color\": \"rgb(175,175,175)\", \"width\": 0.5}, \"path\": \"M -0.6795187057574664,0.7336581823476773 Q -0.11965266676069063, -0.16025991182156293 0.8965074430315065, -0.44302867242325306L 0.8965074430315065, -0.44302867242325306 L 0.8963171538717034, -0.44341353122714827 L 0.896126699497109, -0.44379830829828343 M 0.896126699497109,-0.44379830829828343 Q -0.11965075210955818, -0.16026134131354655 -0.6801659376014887, 0.7330581814062835L -0.6801659376014887, 0.7330581814062835 L -0.6798423878715011, 0.7333582532795111 L -0.6795187057574664, 0.7336581823476773 \", \"type\": \"path\"}, {\"fillcolor\": \"#d59171\", \"layer\": \"below\", \"line\": {\"color\": \"rgb(175,175,175)\", \"width\": 0.5}, \"path\": \"M -0.6957507513003646,0.7182832951315089 Q -0.10001060408966733, -0.17319895805004087 0.9698971457881864, -0.24351494120880862L 0.9698971457881864, -0.24351494120880862 L 0.9686974999271154, -0.24824414118958837 L 0.9674747947232138, -0.25296743184701703 M 0.9674747947232138,-0.25296743184701703 Q -0.1000021809592257, -0.17320382156118347 -0.7027957044611755, 0.7113917330071527L -0.7027957044611755, 0.7113917330071527 L -0.6992817176488457, 0.7148461928009969 L -0.6957507513003646, 0.7182832951315089 \", \"type\": \"path\"}, {\"fillcolor\": \"#d59171\", \"layer\": \"below\", \"line\": {\"color\": \"rgb(175,175,175)\", \"width\": 0.5}, \"path\": \"M -0.6813511529744737,0.7319566970390771 Q -0.09099486970664239, -0.1781009087205093 0.9923838723537498, -0.12318380531618739L 0.9923838723537498, -0.12318380531618739 L 0.9922926598440286, -0.12391641222882019 L 0.9922009065024489, -0.12464895160296648 M 0.9922009065024489,-0.12464895160296648 Q -0.09098226900282741, -0.17810734607841744 -0.6825345845678975, 0.7308532964068286L -0.6825345845678975, 0.7308532964068286 L -0.6819430919373793, 0.7314052360756566 L -0.6813511529744737, 0.7319566970390771 \", \"type\": \"path\"}, {\"fillcolor\": \"#d0805f\", \"layer\": \"below\", \"line\": {\"color\": \"rgb(175,175,175)\", \"width\": 0.5}, \"path\": \"M -0.8336422605412673,0.5523047903464589 Q -0.1792979914121415, 0.08861281101269519 -0.945098370812421, 0.32678596892722844L -0.945098370812421, 0.32678596892722844 L -0.9440397771629835, 0.3298316223985573 L -0.9429713686854484, 0.3328738467340025 M -0.9429713686854484,0.3328738467340025 Q -0.17940429919716938, 0.08839738361270957 -0.838498025312809, 0.5449046352771464L -0.838498025312809, 0.5449046352771464 L -0.8360783303421998, 0.5486100851535629 L -0.8336422605412673, 0.5523047903464589 \", \"type\": \"path\"}, {\"fillcolor\": \"#d0805f\", \"layer\": \"below\", \"line\": {\"color\": \"rgb(175,175,175)\", \"width\": 0.5}, \"path\": \"M -0.8246302926170502,0.5656720609136694 Q -0.18324897671365692, 0.08012373264768453 -0.9752083025424865, 0.22128887602453556L -0.9752083025424865, 0.22128887602453556 L -0.974495206683385, 0.22440831569063302 L -0.9737721325687728, 0.22752545754808268 M -0.9737721325687728,0.22752545754808268 Q -0.18330913449565, 0.0799860063414577 -0.8290748504637012, 0.5591376327243512L -0.8290748504637012, 0.5591376327243512 L -0.8268590265280245, 0.5624092373433492 L -0.8246302926170502, 0.5656720609136694 \", \"type\": \"path\"}, {\"fillcolor\": \"#d0805f\", \"layer\": \"below\", \"line\": {\"color\": \"rgb(175,175,175)\", \"width\": 0.5}, \"path\": \"M -0.8290748504637012,0.5591376327243512 Q -0.18675252730126932, 0.0715785830160717 -0.9903999600526388, 0.1382313970403667L -0.9903999600526388, 0.1382313970403667 L -0.9898357858668804, 0.14221503794358545 L -0.9892555885288848, 0.1461963767142324 M -0.9892555885288848,0.1461963767142324 Q -0.18675868418275687, 0.07156251730008727 -0.8336422605412673, 0.5523047903464589L -0.8336422605412673, 0.5523047903464589 L -0.8313655752681351, 0.5557259038942514 L -0.8290748504637012, 0.5591376327243512 \", \"type\": \"path\"}, {\"fillcolor\": \"#d0805f\", \"layer\": \"below\", \"line\": {\"color\": \"rgb(175,175,175)\", \"width\": 0.5}, \"path\": \"M -0.8159526166519879,0.5781187831049723 Q -0.19355302978582117, 0.05037087115316773 -0.9942564285529073, -0.10702408271607594L -0.9942564285529073, -0.10702408271607594 L -0.9946392146825844, -0.10340615366413983 L -0.9950088358314262, -0.09978685593498732 M -0.9950088358314262,-0.09978685593498732 Q -0.19355686544021336, 0.05035613012294668 -0.8202246583227755, 0.5720415281072574L -0.8202246583227755, 0.5720415281072574 L -0.8180942806565985, 0.5750841225046669 L -0.8159526166519879, 0.5781187831049723 \", \"type\": \"path\"}, {\"fillcolor\": \"#d0805f\", \"layer\": \"below\", \"line\": {\"color\": \"rgb(175,175,175)\", \"width\": 0.5}, \"path\": \"M -0.802112839297377,0.5971724985582476 Q -0.19770048984272115, 0.03024097081689194 -0.9439499849281061, -0.330088512302728L -0.9439499849281061, -0.330088512302728 L -0.9443961774478999, -0.32880976266193 L -0.9448406376727324, -0.32753040988919535 M -0.9448406376727324,-0.32753040988919535 Q -0.1977049379606916, 0.03021187690228938 -0.8039025515576081, 0.5947610340289343L -0.8039025515576081, 0.5947610340289343 L -0.8030086006426499, 0.595967438115484 L -0.802112839297377, 0.5971724985582476 \", \"type\": \"path\"}, {\"fillcolor\": \"#d0805f\", \"layer\": \"below\", \"line\": {\"color\": \"rgb(175,175,175)\", \"width\": 0.5}, \"path\": \"M -0.8516772508823952,0.5240666563800884 Q -0.1999999380302543, -0.000157441717634182 -0.8508510960284085, -0.525406901731654L -0.8508510960284085, -0.525406901731654 L -0.854439219867007, -0.5195513637293819 L -0.857987046679024, -0.5136713226675267 M -0.857987046679024,-0.5136713226675267 Q -0.1999999688598603, -0.00011160669742666418 -0.8585598038319311, 0.5127134318935637L -0.8585598038319311, 0.5127134318935637 L -0.855137368939075, 0.5184014662826063 L -0.8516772508823952, 0.5240666563800884 \", \"type\": \"path\"}, {\"fillcolor\": \"#d0805f\", \"layer\": \"below\", \"line\": {\"color\": \"rgb(175,175,175)\", \"width\": 0.5}, \"path\": \"M -0.8585598038319311,0.5127134318935637 Q -0.19464188030887444, -0.04598411062340774 -0.5383365384560477, -0.8427299516233895L -0.5383365384560477, -0.8427299516233895 L -0.5478513278358735, -0.8365757124065163 L -0.5572957698853299, -0.8303140519513791 M -0.5572957698853299,-0.8303140519513791 Q -0.19467232518972083, -0.04585505212326762 -0.869303496350614, 0.49427869793528234L -0.869303496350614, 0.49427869793528234 L -0.863980819164093, 0.5035247204622062 L -0.8585598038319311, 0.5127134318935637 \", \"type\": \"path\"}, {\"fillcolor\": \"#d0805f\", \"layer\": \"below\", \"line\": {\"color\": \"rgb(175,175,175)\", \"width\": 0.5}, \"path\": \"M -0.8039025515576081,0.5947610340289343 Q -0.18405812445102093, -0.07824708827536331 -0.12951580244420302, -0.9915773580095676L -0.12951580244420302, -0.9915773580095676 L -0.13071073393210372, -0.9914205485236478 L -0.13190547556913676, -0.9912622990484808 M -0.13190547556913676,-0.9912622990484808 Q -0.18402255020117841, -0.07833071567051314 -0.8058722192793064, 0.592089491710371L -0.8058722192793064, 0.592089491710371 L -0.8048884938240515, 0.5934260800720254 L -0.8039025515576081, 0.5947610340289343 \", \"type\": \"path\"}, {\"fillcolor\": \"#d0805f\", \"layer\": \"below\", \"line\": {\"color\": \"rgb(175,175,175)\", \"width\": 0.5}, \"path\": \"M -0.8828635562038943,0.4696295786330042 Q -0.1647324359049921, -0.11341615652457847 0.12367203153346322, -0.992323147274307L 0.12367203153346322, -0.992323147274307 L 0.1077459953010538, -0.9941784550555224 L 0.09179225964229552, -0.9957781786471128 M 0.09179225964229552,-0.9957781786471128 Q -0.16485683896372855, -0.11323525355156527 -0.8964965129933813, 0.4430507896288055L -0.8964965129933813, 0.4430507896288055 L -0.8897792827267141, 0.45639109109439696 L -0.8828635562038943, 0.4696295786330042 \", \"type\": \"path\"}, {\"fillcolor\": \"#d0805f\", \"layer\": \"below\", \"line\": {\"color\": \"rgb(175,175,175)\", \"width\": 0.5}, \"path\": \"M -0.838498025312809,0.5449046352771464 Q -0.13223665786251046, -0.15004488101016095 0.6459612839896733, -0.7633701720570516L 0.6459612839896733, -0.7633701720570516 L 0.6410012540869302, -0.7675398310569835 L 0.636014309853778, -0.7716772626307078 M 0.636014309853778,-0.7716772626307078 Q -0.1322840191864268, -0.15000312752701217 -0.8451518629255409, 0.5345262655786783L -0.8451518629255409, 0.5345262655786783 L -0.8418409375770767, 0.5397257042418384 L -0.838498025312809, 0.5449046352771464 \", \"type\": \"path\"}, {\"fillcolor\": \"#d0805f\", \"layer\": \"below\", \"line\": {\"color\": \"rgb(175,175,175)\", \"width\": 0.5}, \"path\": \"M -0.8058722192793064,0.592089491710371 Q -0.10309965383624814, -0.1713781239798295 0.9006519345364293, -0.43454124409057815L 0.9006519345364293, -0.43454124409057815 L 0.8998107224101637, -0.4362804875715842 L 0.8989661516452415, -0.4380181025895443 M 0.8989661516452415,-0.4380181025895443 Q -0.10306507756652138, -0.1713989200263728 -0.8083916008455188, 0.5886450710593094L -0.8083916008455188, 0.5886450710593094 L -0.8071337474355808, 0.5903686253101499 L -0.8058722192793064, 0.592089491710371 \", \"type\": \"path\"}, {\"fillcolor\": \"#d0805f\", \"layer\": \"below\", \"line\": {\"color\": \"rgb(175,175,175)\", \"width\": 0.5}, \"path\": \"M -0.8083916008455188,0.5886450710593094 Q -0.08764674765769372, -0.17977221038032704 0.9616381304614785, -0.27432117315758264L 0.9616381304614785, -0.27432117315758264 L 0.9609358384787816, -0.2767712310322028 L 0.9602273042591671, -0.2792194910015646 M 0.9602273042591671,-0.2792194910015646 Q -0.08760769353510456, -0.17979124570862512 -0.8116355479674042, 0.5841641355609324L -0.8116355479674042, 0.5841641355609324 L -0.8100166729262228, 0.586406846465432 L -0.8083916008455188, 0.5886450710593094 \", \"type\": \"path\"}, {\"fillcolor\": \"#d0805f\", \"layer\": \"below\", \"line\": {\"color\": \"rgb(175,175,175)\", \"width\": 0.5}, \"path\": \"M -0.8003158933981523,0.5995785776479321 Q -0.07398728907071403, -0.18581141260957734 0.9934054756176451, -0.11465409287452474L 0.9934054756176451, -0.11465409287452474 L 0.9932584631404324, -0.11592077208122042 L 0.9931098355366766, -0.11718726279043754 M 0.9931098355366766,-0.11718726279043754 Q -0.07394523116513907, -0.18582815391628404 -0.802112839297377, 0.5971724985582476L -0.802112839297377, 0.5971724985582476 L -0.8012152695413365, 0.5983762126403451 L -0.8003158933981523, 0.5995785776479321 \", \"type\": \"path\"}, {\"fillcolor\": \"#ca6f4c\", \"layer\": \"below\", \"line\": {\"color\": \"rgb(175,175,175)\", \"width\": 0.5}, \"path\": \"M -0.9362745586180142,0.3512690576817757 Q -0.19023260539670847, 0.061737799150765105 -0.9641161371494549, 0.26548083563227987L -0.9641161371494549, 0.26548083563227987 L -0.9639800884670975, 0.26597441425627166 L -0.9638437870975053, 0.2664679231606291 M -0.9638437870975053,0.2664679231606291 Q -0.1902294343195787, 0.06174756933234783 -0.9365977685107811, 0.3504063641268879L -0.9365977685107811, 0.3504063641268879 L -0.9364362629091474, 0.3508377481240441 L -0.9362745586180142, 0.3512690576817757 \", \"type\": \"path\"}, {\"fillcolor\": \"#ca6f4c\", \"layer\": \"below\", \"line\": {\"color\": \"rgb(175,175,175)\", \"width\": 0.5}, \"path\": \"M -0.9365977685107811,0.3504063641268879 Q -0.1933995661543617, 0.05095692113250838 -0.9876624639824031, 0.15659775617871513L -0.9876624639824031, 0.15659775617871513 L -0.9875531766032085, 0.15728548369417966 L -0.987443410346772, 0.1579731349398894 M -0.987443410346772,0.1579731349398894 Q -0.19339048497049494, 0.05099137498515578 -0.9369604294785476, 0.34943547843825973L -0.9369604294785476, 0.34943547843825973 L -0.9367792247739113, 0.3499209682656782 L -0.9365977685107811, 0.3504063641268879 \", \"type\": \"path\"}, {\"fillcolor\": \"#ca6f4c\", \"layer\": \"below\", \"line\": {\"color\": \"rgb(175,175,175)\", \"width\": 0.5}, \"path\": \"M -0.9415057069325374,0.33699703828589206 Q -0.199995060445785, -0.001405630565551369 -0.9366758793280203, -0.35019751153467643L -0.9366758793280203, -0.35019751153467643 L -0.9376210283055842, -0.3476590388285321 L -0.9385592978167676, -0.3451180152957769 M -0.9385592978167676,-0.3451180152957769 Q -0.1999957653043404, -0.0013014838958642812 -0.9429713686854484, 0.3328738467340025L -0.9429713686854484, 0.3328738467340025 L -0.9422407931678464, 0.33493624421735524 L -0.9415057069325374, 0.33699703828589206 \", \"type\": \"path\"}, {\"fillcolor\": \"#ca6f4c\", \"layer\": \"below\", \"line\": {\"color\": \"rgb(175,175,175)\", \"width\": 0.5}, \"path\": \"M -0.938401005184861,0.34554819268524967 Q -0.19947503915308762, -0.014481324348075288 -0.8786528503893298, -0.47746116962817614L -0.8786528503893298, -0.47746116962817614 L -0.879432377897916, -0.4760238362779927 L -0.8802095541646305, -0.47458523023509946 M -0.8802095541646305,-0.47458523023509946 Q -0.1994820182355139, -0.014384867072243228 -0.9391943578821249, 0.3433860191131594L -0.9391943578821249, 0.3433860191131594 L -0.9387983040042738, 0.34446733429847776 L -0.938401005184861, 0.34554819268524967 \", \"type\": \"path\"}, {\"fillcolor\": \"#ca6f4c\", \"layer\": \"below\", \"line\": {\"color\": \"rgb(175,175,175)\", \"width\": 0.5}, \"path\": \"M -0.9402182678738826,0.34057247210577046 Q -0.19298569118140319, -0.052502599928347264 -0.6380933232371653, -0.7699590319232255L -0.6380933232371653, -0.7699590319232255 L -0.6402236353862623, -0.7681885814647327 L -0.6423490352756723, -0.7664122369067531 M -0.6423490352756723,-0.7664122369067531 Q -0.19303128951018778, -0.0523347042605007 -0.9415057069325374, 0.33699703828589206L -0.9415057069325374, 0.33699703828589206 L -0.940863685807922, 0.33878536675590326 L -0.9402182678738826, 0.34057247210577046 \", \"type\": \"path\"}, {\"fillcolor\": \"#ca6f4c\", \"layer\": \"below\", \"line\": {\"color\": \"rgb(175,175,175)\", \"width\": 0.5}, \"path\": \"M -0.9391943578821249,0.3433860191131594 Q -0.1707006322089345, -0.10421753289859664 -0.12370920540884353, -0.9923185136321465L -0.12370920540884353, -0.9923185136321465 L -0.12518972883551724, -0.992132819633586 L -0.1266699735357879, -0.9919449167188886 M -0.1266699735357879,-0.9919449167188886 Q -0.1707001204211147, -0.10421837116467009 -0.9402182678738826, 0.34057247210577046L -0.9402182678738826, 0.34057247210577046 L -0.9397073658721972, 0.34197962881659566 L -0.9391943578821249, 0.3433860191131594 \", \"type\": \"path\"}, {\"fillcolor\": \"#ca6f4c\", \"layer\": \"below\", \"line\": {\"color\": \"rgb(175,175,175)\", \"width\": 0.5}, \"path\": \"M -0.950494530892188,0.3107412858698363 Q -0.15787739010750404, -0.12277919079731299 0.067099234056523, -0.9977463068280573L 0.067099234056523, -0.9977463068280573 L 0.057700878936260004, -0.9983339163676566 L 0.048297407227258685, -0.9988329992822246 M 0.048297407227258685,-0.9988329992822246 Q -0.15824814239231288, -0.12230096250390786 -0.9543887832961383, 0.29856665975710817L -0.9543887832961383, 0.29856665975710817 L -0.9524611097302198, 0.30466019505586595 L -0.950494530892188, 0.3107412858698363 \", \"type\": \"path\"}, {\"fillcolor\": \"#ca6f4c\", \"layer\": \"below\", \"line\": {\"color\": \"rgb(175,175,175)\", \"width\": 0.5}, \"path\": \"M -0.9358694288488832,0.3523470053031033 Q -0.12092110518704927, -0.15930501034287206 0.5910282999264072, -0.8066508220327435L 0.5910282999264072, -0.8066508220327435 L 0.5906931877859235, -0.8068962497764528 L 0.5903579737302348, -0.8071415383023793 M 0.5903579737302348,-0.8071415383023793 Q -0.12094141273412123, -0.15928959377773222 -0.936072148899262, 0.3518080898090858L -0.936072148899262, 0.3518080898090858 L -0.935970827661328, 0.35207756214642355 L -0.9358694288488832, 0.3523470053031033 \", \"type\": \"path\"}, {\"fillcolor\": \"#ca6f4c\", \"layer\": \"below\", \"line\": {\"color\": \"rgb(175,175,175)\", \"width\": 0.5}, \"path\": \"M -0.9369604294785476,0.34943547843825973 Q -0.07883696515097392, -0.18380623745070276 0.8989661516452415, -0.4380181025895443L 0.8989661516452415, -0.4380181025895443 L 0.8986211050824762, -0.438725551455975 L 0.8982755017870669, -0.43943272851392523 M 0.8982755017870669,-0.43943272851392523 Q -0.07886522418909876, -0.1837941141973899 -0.9374023149785676, 0.3482483307538203L -0.9374023149785676, 0.3482483307538203 L -0.9371815602017085, 0.34884197456425947 L -0.9369604294785476, 0.34943547843825973 \", \"type\": \"path\"}, {\"fillcolor\": \"#ca6f4c\", \"layer\": \"below\", \"line\": {\"color\": \"rgb(175,175,175)\", \"width\": 0.5}, \"path\": \"M -0.936072148899262,0.3518080898090858 Q -0.06472215675376357, -0.18923805754958822 0.9554592541176653, -0.29512304844067105L 0.9554592541176653, -0.29512304844067105 L 0.9553517354141672, -0.29547091505110795 L 0.955244090058304, -0.2958187424905372 M 0.955244090058304,-0.2958187424905372 Q -0.0647365788604022, -0.18923312436635117 -0.9362745586180142, 0.3512690576817757L -0.9362745586180142, 0.3512690576817757 L -0.9361733925542879, 0.3515385883134243 L -0.936072148899262, 0.3518080898090858 \", \"type\": \"path\"}, {\"fillcolor\": \"#ca6f4c\", \"layer\": \"below\", \"line\": {\"color\": \"rgb(175,175,175)\", \"width\": 0.5}, \"path\": \"M -0.935625755245316,0.35299354968842145 Q -0.04833262723070472, -0.1940720411212747 0.9918968421023595, -0.12704587607383006L 0.9918968421023595, -0.12704587607383006 L 0.9918712420054836, -0.12724558649516865 L 0.991845601698527, -0.12744529175802075 M 0.991845601698527,-0.12744529175802075 Q -0.04833817957579375, -0.1940706582544057 -0.9357476478874289, 0.35267029854120735L -0.9357476478874289, 0.35267029854120735 L -0.9356867155255458, 0.352831929378587 L -0.935625755245316, 0.35299354968842145 \", \"type\": \"path\"}, {\"fillcolor\": \"#c45e3a\", \"layer\": \"below\", \"line\": {\"color\": \"rgb(175,175,175)\", \"width\": 0.5}, \"path\": \"M -0.9635704264395962,0.26745473129300706 Q -0.1991259186134101, 0.018678022817353424 -0.9964993871627285, -0.08360006808793059L -0.9964993871627285, -0.08360006808793059 L -0.9965509658729373, -0.08298296462356448 L -0.9966021624287225, -0.08236582933713597 M -0.9966021624287225,-0.08236582933713597 Q -0.1991239138801632, 0.018699382905469197 -0.9638437870975053, 0.2664679231606291L -0.9638437870975053, 0.2664679231606291 L -0.9637072330764066, 0.2669613622159892 L -0.9635704264395962, 0.26745473129300706 \", \"type\": \"path\"}, {\"fillcolor\": \"#c45e3a\", \"layer\": \"below\", \"line\": {\"color\": \"rgb(175,175,175)\", \"width\": 0.5}, \"path\": \"M -0.9674675181064436,0.2529952596570896 Q -0.19971080338057315, -0.010751512130210267 -0.9347143129749709, -0.3553999903203827L -0.9347143129749709, -0.3553999903203827 L -0.9356987118770314, -0.35280011421719276 L -0.9366758793280203, -0.35019751153467643 M -0.9366758793280203,-0.35019751153467643 Q -0.1997138495179988, -0.01069477960044673 -0.9687183753569582, 0.24816266690575245L -0.9687183753569582, 0.24816266690575245 L -0.9680959621854865, 0.2505797437945793 L -0.9674675181064436, 0.2529952596570896 \", \"type\": \"path\"}, {\"fillcolor\": \"#c45e3a\", \"layer\": \"below\", \"line\": {\"color\": \"rgb(175,175,175)\", \"width\": 0.5}, \"path\": \"M -0.9650278536914979,0.26214736618852547 Q -0.19851986986299874, -0.024287059714548677 -0.8733695223715922, -0.48705818686520097L -0.8733695223715922, -0.48705818686520097 L -0.8747992478897543, -0.4844855786207886 L -0.8762213955222101, -0.4819087735548198 M -0.8762213955222101,-0.4819087735548198 Q -0.1985353552102514, -0.02416014758935274 -0.9662255452292275, 0.25769787687616263L -0.9662255452292275, 0.25769787687616263 L -0.9656292622945407, 0.2599233113833791 L -0.9650278536914979, 0.26214736618852547 \", \"type\": \"path\"}, {\"fillcolor\": \"#c45e3a\", \"layer\": \"below\", \"line\": {\"color\": \"rgb(175,175,175)\", \"width\": 0.5}, \"path\": \"M -0.9724753095371588,0.23300594915282138 Q -0.18911926452200017, -0.06506845462017467 -0.6232419193614158, -0.7820290978925902L -0.6232419193614158, -0.7820290978925902 L -0.6261259242231131, -0.7797219549401905 L -0.6290013884813593, -0.7774041762741708 M -0.6290013884813593,-0.7774041762741708 Q -0.18917628098452424, -0.06490250159172858 -0.9737721325687728, 0.22752545754808268L -0.9737721325687728, 0.22752545754808268 L -0.9731275792120105, 0.23026661628853673 L -0.9724753095371588, 0.23300594915282138 \", \"type\": \"path\"}, {\"fillcolor\": \"#c45e3a\", \"layer\": \"below\", \"line\": {\"color\": \"rgb(175,175,175)\", \"width\": 0.5}, \"path\": \"M -0.9633304070765226,0.2683179584034235 Q -0.16717445144212495, -0.10978480215869867 -0.1365688064913893, -0.9906305876024207L -0.1365688064913893, -0.9906305876024207 L -0.1369667570638115, -0.9905756444913346 L -0.1373646855320714, -0.9905205415177795 M -0.1373646855320714,-0.9905205415177795 Q -0.1671693724273511, -0.10979253582209306 -0.9635704264395962, 0.26745473129300706L -0.9635704264395962, 0.26745473129300706 L -0.9634505134367511, 0.267886371729621 L -0.9633304070765226, 0.2683179584034235 \", \"type\": \"path\"}, {\"fillcolor\": \"#c45e3a\", \"layer\": \"below\", \"line\": {\"color\": \"rgb(175,175,175)\", \"width\": 0.5}, \"path\": \"M -0.9699450935050956,0.2433238902890371 Q -0.16023644477829213, -0.11968409152771031 -0.04193647544001467, -0.9991202790593678L -0.04193647544001467, -0.9991202790593678 L -0.04532666255080747, -0.9989722186637651 L -0.04871632771191327, -0.998812654812836 M -0.04871632771191327,-0.998812654812836 Q -0.16033614496661655, -0.1195504940066921 -0.9711781584788626, 0.23835474506207197L -0.9711781584788626, 0.23835474506207197 L -0.9705648061563256, 0.2408401068151527 L -0.9699450935050956, 0.2433238902890371 \", \"type\": \"path\"}, {\"fillcolor\": \"#c45e3a\", \"layer\": \"below\", \"line\": {\"color\": \"rgb(175,175,175)\", \"width\": 0.5}, \"path\": \"M -0.9662255452292275,0.25769787687616263 Q -0.11106461076130308, -0.16632694380779156 0.6083122635443285, -0.7936977951472307L 0.6083122635443285, -0.7936977951472307 L 0.6058036623508325, -0.7956141795382473 L 0.603289023954857, -0.7975226351493706 M 0.603289023954857,-0.7975226351493706 Q -0.11118515291670523, -0.16624638874540668 -0.9674675181064436, 0.2529952596570896L -0.9674675181064436, 0.2529952596570896 L -0.9668493907792983, 0.25534732336505855 L -0.9662255452292275, 0.25769787687616263 \", \"type\": \"path\"}, {\"fillcolor\": \"#c45e3a\", \"layer\": \"below\", \"line\": {\"color\": \"rgb(175,175,175)\", \"width\": 0.5}, \"path\": \"M -0.963296055462351,0.26844125899472915 Q -0.07175376388104007, -0.18668528964249956 0.8951081539890104, -0.44584906937481206L 0.8951081539890104, -0.44584906937481206 L 0.895076248792756, -0.44591311804777434 L 0.8950443390135554, -0.44597716443758384 M 0.8950443390135554,-0.44597716443758384 Q -0.07175517469882917, -0.186684747378945 -0.9633304070765226, 0.2683179584034235L -0.9633304070765226, 0.2683179584034235 L -0.9633132332421902, 0.2683796092486863 L -0.963296055462351, 0.26844125899472915 \", \"type\": \"path\"}, {\"fillcolor\": \"#c45e3a\", \"layer\": \"below\", \"line\": {\"color\": \"rgb(175,175,175)\", \"width\": 0.5}, \"path\": \"M -0.9711781584788626,0.23835474506207197 Q -0.05067089100756063, -0.1934747032676363 0.9633372205494766, -0.2682934950832935L 0.9633372205494766, -0.2682934950832935 L 0.9624923941131581, -0.2713086642079848 L 0.9616381304614785, -0.27432117315758264 M 0.9616381304614785,-0.27432117315758264 Q -0.05074428573564465, -0.19345546636158736 -0.9724753095371588, 0.23300594915282138L -0.9724753095371588, 0.23300594915282138 L -0.9718304138773886, 0.23568123952258835 L -0.9711781584788626, 0.23835474506207197 \", \"type\": \"path\"}, {\"fillcolor\": \"#c45e3a\", \"layer\": \"below\", \"line\": {\"color\": \"rgb(175,175,175)\", \"width\": 0.5}, \"path\": \"M -0.964522766716825,0.2639996827364025 Q -0.03843652461299898, -0.19627183592067998 0.9928558652217128, -0.11931986798033334L 0.9928558652217128, -0.11931986798033334 L 0.9927352401067592, -0.12031933780641887 L 0.9926136088642181, -0.12131868569001644 M 0.9926136088642181,-0.12131868569001644 Q -0.0384457002578657, -0.19627003880287575 -0.9650278536914979, 0.26214736618852547L -0.9650278536914979, 0.26214736618852547 L -0.9647757547475394, 0.26307364567990393 L -0.964522766716825, 0.2639996827364025 \", \"type\": \"path\"}, {\"fillcolor\": \"#bf4d28\", \"layer\": \"below\", \"line\": {\"color\": \"rgb(175,175,175)\", \"width\": 0.5}, \"path\": \"M -0.9996614890521399,0.026017442342749164 Q -0.198747498417521, -0.02234797245339032 -0.9689203902667035, -0.24737274976322482L -0.9689203902667035, -0.24737274976322482 L -0.973313020255193, -0.2294815125488637 L -0.9773753160122877, -0.2115123912442977 M -0.9773753160122877,-0.2115123912442977 Q -0.19874767882895125, -0.022346367939870077 -0.9999415815718006, -0.010808952016089364L -0.9999415815718006, -0.010808952016089364 L -0.9999710775030152, 0.007605534659635615 L -0.9996614890521399, 0.026017442342749164 \", \"type\": \"path\"}, {\"fillcolor\": \"#bf4d28\", \"layer\": \"below\", \"line\": {\"color\": \"rgb(175,175,175)\", \"width\": 0.5}, \"path\": \"M -0.9885195171246431,0.15109323037006772 Q -0.19921201811475814, -0.017736173167999917 -0.9462789223504553, -0.3233515132410254L -0.9462789223504553, -0.3233515132410254 L -0.9466241187960581, -0.32233953793102466 L -0.9469682330092692, -0.3213271941048599 M -0.9469682330092692,-0.3213271941048599 Q -0.1992103968377884, -0.01775437387605854 -0.9888675698068621, 0.14879828421144803L -0.9888675698068621, 0.14879828421144803 L -0.9886942093414596, 0.1499458582778004 L -0.9885195171246431, 0.15109323037006772 \", \"type\": \"path\"}, {\"fillcolor\": \"#bf4d28\", \"layer\": \"below\", \"line\": {\"color\": \"rgb(175,175,175)\", \"width\": 0.5}, \"path\": \"M -0.9881661383797903,0.15338736245067017 Q -0.19720468559463034, -0.03332134420342312 -0.8829111251262076, -0.4695401421906056L -0.8829111251262076, -0.4695401421906056 L -0.8834862740810987, -0.4684570455338438 L -0.8840600943656748, -0.46737324436702005 M -0.8840600943656748,-0.46737324436702005 Q -0.19720687568497583, -0.03330838006524022 -0.9885195171246431, 0.15109323037006772L -0.9885195171246431, 0.15109323037006772 L -0.9883434933917199, 0.1522403989427622 L -0.9881661383797903, 0.15338736245067017 \", \"type\": \"path\"}, {\"fillcolor\": \"#bf4d28\", \"layer\": \"below\", \"line\": {\"color\": \"rgb(175,175,175)\", \"width\": 0.5}, \"path\": \"M -0.9953839992882995,0.09597236040043311 Q -0.18147491691454828, -0.08406458547365712 -0.5704664403866652, -0.8213209119415914L -0.5704664403866652, -0.8213209119415914 L -0.5766547404777876, -0.8169879499016466 L -0.5828101311031194, -0.8126083626714438 M -0.5828101311031194,-0.8126083626714438 Q -0.18152455839609252, -0.08395733856610509 -0.9966240429781764, 0.08210065138495588L -0.9966240429781764, 0.08210065138495588 L -0.9960281703804024, 0.08903866468376567 L -0.9953839992882995, 0.09597236040043311 \", \"type\": \"path\"}, {\"fillcolor\": \"#bf4d28\", \"layer\": \"below\", \"line\": {\"color\": \"rgb(175,175,175)\", \"width\": 0.5}, \"path\": \"M -0.9872717111198054,0.15904266227201921 Q -0.1607242738149771, -0.11902818072476902 -0.13577283929095554, -0.9907399942017443L -0.13577283929095554, -0.9907399942017443 L -0.1361708338790283, -0.9906853708421711 L -0.1365688064913893, -0.9906305876024207 M -0.1365688064913893,-0.9906305876024207 Q -0.16070762194244212, -0.11905066253324717 -0.987443410346772, 0.1579731349398894L -0.987443410346772, 0.1579731349398894 L -0.9873577055502065, 0.15850792185449794 L -0.9872717111198054, 0.15904266227201921 \", \"type\": \"path\"}, {\"fillcolor\": \"#bf4d28\", \"layer\": \"below\", \"line\": {\"color\": \"rgb(175,175,175)\", \"width\": 0.5}, \"path\": \"M -0.994001766939054,0.10936401292033256 Q -0.1467861390203363, -0.13584487252562208 0.03219189434034837, -0.9994817066553944L 0.03219189434034837, -0.9994817066553944 L 0.024814220630741433, -0.9996920798198258 L 0.017435195183183726, -0.9998479954317677 M 0.017435195183183726,-0.9998479954317677 Q -0.1468743039373068, -0.13574954454042057 -0.9953839992882995, 0.09597236040043311L -0.9953839992882995, 0.09597236040043311 L -0.994715419507661, 0.10267051277605505 L -0.994001766939054, 0.10936401292033256 \", \"type\": \"path\"}, {\"fillcolor\": \"#bf4d28\", \"layer\": \"below\", \"line\": {\"color\": \"rgb(175,175,175)\", \"width\": 0.5}, \"path\": \"M -0.9999415815718006,-0.010808952016089364 Q -0.060183183495401804, -0.19073013507141132 0.8126477212890804, -0.5827552497263883L 0.8126477212890804, -0.5827552497263883 L 0.8000215267296233, -0.5999712966210988 L 0.787030671910215, -0.6169138687633433 M 0.787030671910215,-0.6169138687633433 Q -0.060462600839970515, -0.19064174228029496 -0.998721161269555, -0.05055731433127624L -0.998721161269555, -0.05055731433127624 L -0.9995289755590968, -0.030689200344461362 L -0.9999415815718006, -0.010808952016089364 \", \"type\": \"path\"}, {\"fillcolor\": \"#bf4d28\", \"layer\": \"below\", \"line\": {\"color\": \"rgb(175,175,175)\", \"width\": 0.5}, \"path\": \"M -0.9879036100596138,0.1550692014269192 Q -0.06012202113168719, -0.1907494235247933 0.8982755017870669, -0.43943272851392523L 0.8982755017870669, -0.43943272851392523 L 0.8979293419731289, -0.4401396333252706 L 0.8975826258551219, -0.4408462654520554 M 0.8975826258551219,-0.4408462654520554 Q -0.06010981427951198, -0.19075327055461613 -0.9881661383797903, 0.15338736245067017L -0.9881661383797903, 0.15338736245067017 L -0.988035232074205, 0.1542283377984474 L -0.9879036100596138, 0.1550692014269192 \", \"type\": \"path\"}, {\"fillcolor\": \"#bf4d28\", \"layer\": \"below\", \"line\": {\"color\": \"rgb(175,175,175)\", \"width\": 0.5}, \"path\": \"M -0.99884849434461,0.0479758829570203 Q -0.022939434945402473, -0.19868010047406773 0.9835006740679183, -0.18090446127155166L 0.9835006740679183, -0.18090446127155166 L 0.9815774762030142, -0.1910645393863583 L 0.9795493223053029, -0.20120418775766508 M 0.9795493223053029,-0.20120418775766508 Q -0.02281099919704138, -0.19869488749243797 -0.9996614890521399, 0.026017442342749164L -0.9996614890521399, 0.026017442342749164 L -0.9993153064537098, 0.03699889575822514 L -0.99884849434461, 0.0479758829570203 \", \"type\": \"path\"}, {\"fillcolor\": \"#bf4d28\", \"layer\": \"below\", \"line\": {\"color\": \"rgb(175,175,175)\", \"width\": 0.5}, \"path\": \"M -0.9966240429781764,0.08210065138495588 Q -0.014623053293167008, -0.19946469941417003 0.9979419421879904, -0.06412394265843048L 0.9979419421879904, -0.06412394265843048 L 0.9975316987777938, -0.07021758991512653 L 0.997084246600753, -0.07630861799697859 M 0.997084246600753,-0.07630861799697859 Q -0.014436848430388852, -0.1994782629947383 -0.997681323200483, 0.0680586316122603L -0.997681323200483, 0.0680586316122603 L -0.9971774004519323, 0.07508150256838654 L -0.9966240429781764, 0.08210065138495588 \", \"type\": \"path\"}, {\"fillcolor\": \"#af4624\", \"layer\": \"below\", \"line\": {\"color\": \"rgb(175,175,175)\", \"width\": 0.5}, \"path\": \"M -0.9963687685917648,-0.08514268597437069 Q -0.19562836623747518, -0.04158776650959137 -0.9448406376727324, -0.32753040988919535L -0.9448406376727324, -0.32753040988919535 L -0.9452135757598957, -0.32645259410700317 L -0.9455852843419013, -0.32537435368517553 M -0.9455852843419013,-0.32537435368517553 Q -0.19562428979964674, -0.041606937406925615 -0.9961548119122138, -0.08761044860141907L -0.9961548119122138, -0.08761044860141907 L -0.996262554339565, -0.08637663353480138 L -0.9963687685917648, -0.08514268597437069 \", \"type\": \"path\"}, {\"fillcolor\": \"#af4624\", \"layer\": \"below\", \"line\": {\"color\": \"rgb(175,175,175)\", \"width\": 0.5}, \"path\": \"M -0.9961548119122138,-0.08761044860141907 Q -0.19166956636602575, -0.05712072591502713 -0.8816025396867163, -0.4719925444516383L -0.8816025396867163, -0.4719925444516383 L -0.8822576845214193, -0.47076679800396265 L -0.8829111251262076, -0.4695401421906056 M -0.8829111251262076,-0.4695401421906056 Q -0.1916737886464701, -0.05710655606765569 -0.9959207859925601, -0.09023185705703655L -0.9959207859925601, -0.09023185705703655 L -0.9960386613417616, -0.08892122981893388 L -0.9961548119122138, -0.08761044860141907 \", \"type\": \"path\"}, {\"fillcolor\": \"#af4624\", \"layer\": \"below\", \"line\": {\"color\": \"rgb(175,175,175)\", \"width\": 0.5}, \"path\": \"M -0.9921742287070202,-0.12486112241057844 Q -0.1738272512697281, -0.09891454249002424 -0.6141416697393289, -0.7891957992094161L -0.6141416697393289, -0.7891957992094161 L -0.6187021715218897, -0.7856256251893126 L -0.6232419193614158, -0.7820290978925902 M -0.6232419193614158,-0.7820290978925902 Q -0.17387181215956832, -0.09883619244157373 -0.9907838612923675, -0.13545235399426095L -0.9907838612923675, -0.13545235399426095 L -0.9914931871778645, -0.13015859472151692 L -0.9921742287070202, -0.12486112241057844 \", \"type\": \"path\"}, {\"fillcolor\": \"#af4624\", \"layer\": \"below\", \"line\": {\"color\": \"rgb(175,175,175)\", \"width\": 0.5}, \"path\": \"M -0.9966403090449051,-0.0819029571314498 Q -0.14536703914009716, -0.13736238179225588 -0.13816047589923516, -0.9904098560188589L -0.13816047589923516, -0.9904098560188589 L -0.13833099082054748, -0.9903860545154125 L -0.13850150164147332, -0.9903622236550912 M -0.13850150164147332,-0.9903622236550912 Q -0.14535878990552972, -0.13737111121775233 -0.9966021624287225, -0.08236582933713597L -0.9966021624287225, -0.08236582933713597 L -0.9966212626089429, -0.08213439544890132 L -0.9966403090449051, -0.0819029571314498 \", \"type\": \"path\"}, {\"fillcolor\": \"#af4624\", \"layer\": \"below\", \"line\": {\"color\": \"rgb(175,175,175)\", \"width\": 0.5}, \"path\": \"M -0.9892351764356977,-0.14633443102098004 Q -0.13042368456687178, -0.1516234233355821 0.003183707856899201, -0.9999949319892986L 0.003183707856899201, -0.9999949319892986 L -0.003348614653471769, -0.9999943933742341 L -0.009880794274311886, -0.9999511837607418 M -0.009880794274311886,-0.9999511837607418 Q -0.1305103921864383, -0.1515487958755927 -0.9874205288127762, -0.15811609430762383L -0.9874205288127762, -0.15811609430762383 L -0.988345408331665, -0.15222796664776972 L -0.9892351764356977, -0.14633443102098004 \", \"type\": \"path\"}, {\"fillcolor\": \"#af4624\", \"layer\": \"below\", \"line\": {\"color\": \"rgb(175,175,175)\", \"width\": 0.5}, \"path\": \"M -0.9689203902667035,-0.24737274976322482 Q -0.03245166464314613, -0.19734966293837136 0.8386886013277681, -0.5446112650348613L 0.8386886013277681, -0.5446112650348613 L 0.8258884025644573, -0.5638336159803963 L 0.8126477212890804, -0.5827552497263883 M 0.8126477212890804,-0.5827552497263883 Q -0.032762574709518634, -0.1972982861010283 -0.9573799666905184, -0.28883143765812924L -0.9573799666905184, -0.28883143765812924 L -0.9633732257042812, -0.26816418104610484 L -0.9689203902667035, -0.24737274976322482 \", \"type\": \"path\"}, {\"fillcolor\": \"#af4624\", \"layer\": \"below\", \"line\": {\"color\": \"rgb(175,175,175)\", \"width\": 0.5}, \"path\": \"M -0.9964993871627285,-0.08360006808793059 Q -0.03706877003607128, -0.1965347457525332 0.8975826258551219, -0.4408462654520554L 0.8975826258551219, -0.4408462654520554 L 0.8972669468217527, -0.4414884212990983 L 0.896950808372108, -0.4421303510963954 M 0.896950808372108,-0.4421303510963954 Q -0.03705726971371629, -0.1965369145004696 -0.9963687685917648, -0.08514268597437069L -0.9963687685917648, -0.08514268597437069 L -0.9964343764004555, -0.08437140230810027 L -0.9964993871627285, -0.08360006808793059 \", \"type\": \"path\"}, {\"fillcolor\": \"#af4624\", \"layer\": \"below\", \"line\": {\"color\": \"rgb(175,175,175)\", \"width\": 0.5}, \"path\": \"M -0.9849080813371187,-0.17307822311554832 Q -0.0028631908518480633, -0.19997950429517997 0.9795493223053029, -0.20120418775766508L 0.9795493223053029, -0.20120418775766508 L 0.977677287174203, -0.21011216562515153 L 0.975724245041641, -0.21900273431608033 M 0.975724245041641,-0.21900273431608033 Q -0.002748547628025311, -0.19998111282302755 -0.9813745149275899, -0.19210429836585555L -0.9813745149275899, -0.19210429836585555 L -0.983187321916952, -0.18259980838372125 L -0.9849080813371187, -0.17307822311554832 \", \"type\": \"path\"}, {\"fillcolor\": \"#af4624\", \"layer\": \"below\", \"line\": {\"color\": \"rgb(175,175,175)\", \"width\": 0.5}, \"path\": \"M -0.9874205288127762,-0.15811609430762383 Q 0.010771684953373809, -0.19970971634666468 0.9986990955937755, -0.05099133710911015L 0.9986990955937755, -0.05099133710911015 L 0.9983421130908434, -0.05755888488591235 L 0.9979419421879904, -0.06412394265843048 M 0.9979419421879904,-0.06412394265843048 Q 0.01097311111700236, -0.19969875020243347 -0.9849080813371187, -0.17307822311554832L -0.9849080813371187, -0.17307822311554832 L -0.986192680427395, -0.16560192351367717 L -0.9874205288127762, -0.15811609430762383 \", \"type\": \"path\"}, {\"fillcolor\": \"#9f4021\", \"layer\": \"below\", \"line\": {\"color\": \"rgb(175,175,175)\", \"width\": 0.5}, \"path\": \"M -0.9217332432069928,-0.3878244813921867 Q -0.1770291633830872, -0.09306274932476595 -0.8420585648572458, -0.5393861078583276L -0.8420585648572458, -0.5393861078583276 L -0.8464836882840556, -0.5324146555730991 L -0.8508510960284085, -0.525406901731654 M -0.8508510960284085,-0.525406901731654 Q -0.17712750860284185, -0.09287543106844882 -0.9160536106475343, -0.40105583454129634L -0.9160536106475343, -0.40105583454129634 L -0.9189172417724403, -0.39445038062262106 L -0.9217332432069928, -0.3878244813921867 \", \"type\": \"path\"}, {\"fillcolor\": \"#9f4021\", \"layer\": \"below\", \"line\": {\"color\": \"rgb(175,175,175)\", \"width\": 0.5}, \"path\": \"M -0.9263113880738122,-0.37675882514516806 Q -0.1570799980584657, -0.12379771488178777 -0.5828101311031194, -0.8126083626714438L -0.5828101311031194, -0.8126083626714438 L -0.5885251607794418, -0.8084789020930182 L -0.5942109325107002, -0.8043092487872834 M -0.5942109325107002,-0.8043092487872834 Q -0.157211523285176, -0.12363064727790825 -0.9217332432069928, -0.3878244813921867L -0.9217332432069928, -0.3878244813921867 L -0.9240388801281556, -0.3822985064207079 L -0.9263113880738122, -0.37675882514516806 \", \"type\": \"path\"}, {\"fillcolor\": \"#9f4021\", \"layer\": \"below\", \"line\": {\"color\": \"rgb(175,175,175)\", \"width\": 0.5}, \"path\": \"M -0.9415250579531523,-0.33694297031740134 Q -0.12482764491758908, -0.15626278848250566 -0.12063339584710843, -0.9926971259182706L -0.12063339584710843, -0.9926971259182706 L -0.12217144729414879, -0.9925090112770025 L -0.12370920540884353, -0.9923185136321465 M -0.12370920540884353,-0.9923185136321465 Q -0.12476902152058347, -0.15630960069297145 -0.9402211146627302, -0.3405646128745222L -0.9402211146627302, -0.3405646128745222 L -0.9408748288759422, -0.33875441899356307 L -0.9415250579531523, -0.33694297031740134 \", \"type\": \"path\"}, {\"fillcolor\": \"#9f4021\", \"layer\": \"below\", \"line\": {\"color\": \"rgb(175,175,175)\", \"width\": 0.5}, \"path\": \"M -0.9087615153201776,-0.41731583755349466 Q -0.10010281938019444, -0.17314567725512575 0.09179225964229552, -0.9957781786471128L 0.09179225964229552, -0.9957781786471128 L 0.07945184122847361, -0.9968387055714708 L 0.067099234056523, -0.9977463068280573 M 0.067099234056523,-0.9977463068280573 Q -0.10044524443423564, -0.17294725459094937 -0.8998791320266655, -0.43613936733908254L -0.8998791320266655, -0.43613936733908254 L -0.9043692990848369, -0.42675071279706256 L -0.9087615153201776, -0.41731583755349466 \", \"type\": \"path\"}, {\"fillcolor\": \"#9f4021\", \"layer\": \"below\", \"line\": {\"color\": \"rgb(175,175,175)\", \"width\": 0.5}, \"path\": \"M -0.9402211146627302,-0.3405646128745222 Q -0.05737956475137013, -0.19159223770534997 0.5982417358549948, -0.8013156840354508L 0.5982417358549948, -0.8013156840354508 L 0.5959760058628728, -0.8030022418622111 L 0.5937055211683956, -0.8046823933292959 M 0.5937055211683956,-0.8046823933292959 Q -0.05745637865598388, -0.19156921608583202 -0.9385592978167676, -0.3451180152957769L -0.9385592978167676, -0.3451180152957769 L -0.9393929651362951, -0.34284232097633366 L -0.9402211146627302, -0.3405646128745222 \", \"type\": \"path\"}, {\"fillcolor\": \"#9f4021\", \"layer\": \"below\", \"line\": {\"color\": \"rgb(175,175,175)\", \"width\": 0.5}, \"path\": \"M -0.9477442164916802,-0.31903118986483336 Q -0.013502296805681439, -0.19954369942689568 0.896126699497109, -0.44379830829828343L 0.896126699497109, -0.44379830829828343 L 0.8959360799428285, -0.4441830035657347 L 0.895745295243998, -0.44456761695859354 M 0.895745295243998,-0.44456761695859354 Q -0.013502624054977744, -0.19954367728301978 -0.9474709753951317, -0.3198417589743368L -0.9474709753951317, -0.3198417589743368 L -0.9476076826119613, -0.3194365036353682 L -0.9477442164916802, -0.31903118986483336 \", \"type\": \"path\"}, {\"fillcolor\": \"#9f4021\", \"layer\": \"below\", \"line\": {\"color\": \"rgb(175,175,175)\", \"width\": 0.5}, \"path\": \"M -0.9462789223504553,-0.3233515132410254 Q 0.0037547267312401295, -0.1999647519618738 0.9577507176012061, -0.2875996573961358L 0.9577507176012061, -0.2875996573961358 L 0.9574359980611478, -0.2886456471465556 L 0.9571201361630809, -0.28969129250145825 M 0.9571201361630809,-0.28969129250145825 Q 0.00375011154764426, -0.19996483856763475 -0.9455852843419013, -0.32537435368517553L -0.9455852843419013, -0.32537435368517553 L -0.9459326440671083, -0.32436311887791663 L -0.9462789223504553, -0.3233515132410254 \", \"type\": \"path\"}, {\"fillcolor\": \"#9f4021\", \"layer\": \"below\", \"line\": {\"color\": \"rgb(175,175,175)\", \"width\": 0.5}, \"path\": \"M -0.9439499849281061,-0.330088512302728 Q 0.022437295624084835, -0.1987374342318966 0.9937846310920959, -0.11131984102192559L 0.9937846310920959, -0.11131984102192559 L 0.9935964519663515, -0.11298712599175924 L 0.9934054756176451, -0.11465409287452474 M 0.9934054756176451,-0.11465409287452474 Q 0.022458000061190808, -0.19873509562543692 -0.9427675225471855, -0.3334507436342614L -0.9427675225471855, -0.3334507436342614 L -0.9433602516553928, -0.3317701547708501 L -0.9439499849281061, -0.330088512302728 \", \"type\": \"path\"}, {\"fillcolor\": \"#8f391e\", \"layer\": \"below\", \"line\": {\"color\": \"rgb(175,175,175)\", \"width\": 0.5}, \"path\": \"M -0.8102119054653392,-0.5861370729123218 Q -0.12107257129462896, -0.15918992581224162 -0.34846202030733436, -0.9373229008209129L -0.34846202030733436, -0.9373229008209129 L -0.3795753836370708, -0.9251608120412205 L -0.41026515686389553, -0.9119662828544941 M -0.41026515686389553,-0.9119662828544941 Q -0.12121082679802922, -0.1590846801767479 -0.7703794671768813, -0.6375856621288346L -0.7703794671768813, -0.6375856621288346 L -0.7907142411458434, -0.6121854203173683 L -0.8102119054653392, -0.5861370729123218 \", \"type\": \"path\"}, {\"fillcolor\": \"#8f391e\", \"layer\": \"below\", \"line\": {\"color\": \"rgb(175,175,175)\", \"width\": 0.5}, \"path\": \"M -0.8733695223715922,-0.48705818686520097 Q -0.11025142389581254, -0.16686708341954642 -0.10546584082757429, -0.994422926333928L -0.10546584082757429, -0.994422926333928 L -0.10843297026731102, -0.9941037626721912 L -0.11139913403309872, -0.9937757457981532 M -0.11139913403309872,-0.9937757457981532 Q -0.11003990750342188, -0.16700664285182898 -0.8691967507279381, -0.49446638765844797L -0.8691967507279381, -0.49446638765844797 L -0.8712910101658027, -0.4907667221850469 L -0.8733695223715922, -0.48705818686520097 \", \"type\": \"path\"}, {\"fillcolor\": \"#8f391e\", \"layer\": \"below\", \"line\": {\"color\": \"rgb(175,175,175)\", \"width\": 0.5}, \"path\": \"M -0.7703794671768813,-0.6375856621288346 Q -0.049884124674723584, -0.19367904921657542 0.3665258490774123, -0.9304078686028413L 0.3665258490774123, -0.9304078686028413 L 0.3331489418903241, -0.9428742135180903 L 0.2993491262118655, -0.9541436477995295 M 0.2993491262118655,-0.9541436477995295 Q -0.05013461908465067, -0.19361435889219836 -0.7248119492730508, -0.6889467600555216L -0.7248119492730508, -0.6889467600555216 L -0.7480366525454799, -0.6636574164797323 L -0.7703794671768813, -0.6375856621288346 \", \"type\": \"path\"}, {\"fillcolor\": \"#8f391e\", \"layer\": \"below\", \"line\": {\"color\": \"rgb(175,175,175)\", \"width\": 0.5}, \"path\": \"M -0.8691967507279381,-0.49446638765844797 Q -0.038737637246614276, -0.19621262818827367 0.6160633786889982, -0.7876965871693846L 0.6160633786889982, -0.7876965871693846 L 0.6121951747178886, -0.7907066890144119 L 0.6083122635443285, -0.7936977951472307 M 0.6083122635443285,-0.7936977951472307 Q -0.038752907206320186, -0.19620961287118005 -0.8643861815322151, -0.5028285286021036L -0.8643861815322151, -0.5028285286021036 L -0.8668015500137378, -0.49865325918295333 L -0.8691967507279381, -0.49446638765844797 \", \"type\": \"path\"}, {\"fillcolor\": \"#8f391e\", \"layer\": \"below\", \"line\": {\"color\": \"rgb(175,175,175)\", \"width\": 0.5}, \"path\": \"M -0.8786528503893298,-0.47746116962817614 Q 0.0052664470448865065, -0.19993064931501475 0.9025708786037597, -0.43054129778272976L 0.9025708786037597, -0.43054129778272976 L 0.9016136247583668, -0.432542335095744 L 0.9006519345364293, -0.43454124409057815 M 0.9006519345364293,-0.43454124409057815 Q 0.0053296661096837354, -0.19992897403617937 -0.8762213955222101, -0.4819087735548198L -0.8762213955222101, -0.4819087735548198 L -0.8774399409851772, -0.4796865121763679 L -0.8786528503893298, -0.47746116962817614 \", \"type\": \"path\"}, {\"fillcolor\": \"#8f391e\", \"layer\": \"below\", \"line\": {\"color\": \"rgb(175,175,175)\", \"width\": 0.5}, \"path\": \"M -0.8857356274048973,-0.46419004550469734 Q 0.018142947245841052, -0.19917538368291055 0.955028419446582, -0.29651427967192967L 0.955028419446582, -0.29651427967192967 L 0.9549636195024459, -0.2967229101818525 L 0.9548987739819812, -0.29693152653046 M 0.9548987739819812,-0.29693152653046 Q 0.018148286057170594, -0.19917489729679067 -0.8855078200510226, -0.46462447269648394L -0.8855078200510226, -0.46462447269648394 L -0.8856217503656001, -0.46440727306898494 L -0.8857356274048973, -0.46419004550469734 \", \"type\": \"path\"}, {\"fillcolor\": \"#8f391e\", \"layer\": \"below\", \"line\": {\"color\": \"rgb(175,175,175)\", \"width\": 0.5}, \"path\": \"M -0.8855078200510226,-0.46462447269648394 Q 0.035447465991793756, -0.19683362810952967 0.9919649124368582, -0.12651328979255982L 0.9919649124368582, -0.12651328979255982 L 0.9919309130140529, -0.12677958750172466 L 0.9918968421023595, -0.12704587607383006 M 0.9918968421023595,-0.12704587607383006 Q 0.035458993101152546, -0.196831551861617 -0.8852037454740215, -0.46520353502393313L -0.8852037454740215, -0.46520353502393313 L -0.8853558301041073, -0.46491402872000653 L -0.8855078200510226, -0.46462447269648394 \", \"type\": \"path\"}, {\"fillcolor\": \"#f0f3e7\", \"layer\": \"below\", \"line\": {\"color\": \"rgb(175,175,175)\", \"width\": 0.5}, \"path\": \"M -0.6042904383637336,-0.796764121997324 Q -0.07227659290644353, -0.18648349556418187 -0.09050232655847924, -0.9958962440372503L -0.09050232655847924, -0.9958962440372503 L -0.09478801376284615, -0.9954974798797305 L -0.09907194491236879, -0.9950802730088063 M -0.09907194491236879,-0.9950802730088063 Q -0.07190512720317926, -0.18662704166838903 -0.5942109325107002, -0.8043092487872834L -0.5942109325107002, -0.8043092487872834 L -0.5992625603452496, -0.8005525490362616 L -0.6042904383637336, -0.796764121997324 \", \"type\": \"path\"}, {\"fillcolor\": \"#f0f3e7\", \"layer\": \"below\", \"line\": {\"color\": \"rgb(175,175,175)\", \"width\": 0.5}, \"path\": \"M -0.34846202030733436,-0.9373229008209129 Q 0.011260195916769132, -0.19968276838003818 0.45162989518100427, -0.8922053786986465L 0.45162989518100427, -0.8922053786986465 L 0.40952358054754423, -0.9122995324867371 L 0.3665258490774123, -0.9304078686028413 M 0.3665258490774123,-0.9304078686028413 Q 0.011161675936849103, -0.19968829958282674 -0.2605554422785165, -0.965458886488206L -0.2605554422785165, -0.965458886488206 L -0.30483352154248816, -0.9524056510458164 L -0.34846202030733436, -0.9373229008209129 \", \"type\": \"path\"}, {\"fillcolor\": \"#f0f3e7\", \"layer\": \"below\", \"line\": {\"color\": \"rgb(175,175,175)\", \"width\": 0.5}, \"path\": \"M -0.5165156888714496,-0.8562777254779268 Q 0.028628708790428337, -0.19794038757412002 0.737965575891041, -0.6748383575344575L 0.737965575891041, -0.6748383575344575 L 0.7262522102429234, -0.6874283432600583 L 0.7143240840632213, -0.6998150490859996 M 0.7143240840632213,-0.6998150490859996 Q 0.02866410196428114, -0.19793526532323968 -0.48645373797278146, -0.8737063355683696L -0.48645373797278146, -0.8737063355683696 L -0.5015604219916904, -0.8651226173736978 L -0.5165156888714496, -0.8562777254779268 \", \"type\": \"path\"}, {\"fillcolor\": \"#f0f3e7\", \"layer\": \"below\", \"line\": {\"color\": \"rgb(175,175,175)\", \"width\": 0.5}, \"path\": \"M -0.5704664403866652,-0.8213209119415914 Q 0.05478854354720504, -0.19234920196344985 0.9176214357753348, -0.39745553286576973L 0.9176214357753348, -0.39745553286576973 L 0.9148984470227401, -0.4036840740422866 L 0.9121331813683119, -0.4098939612228048 M 0.9121331813683119,-0.4098939612228048 Q 0.05501478358370281, -0.19228461609613587 -0.5572957698853299, -0.8303140519513791L -0.5572957698853299, -0.8303140519513791 L -0.5638990334015508, -0.8258437383239016 L -0.5704664403866652, -0.8213209119415914 \", \"type\": \"path\"}, {\"fillcolor\": \"#f0f3e7\", \"layer\": \"below\", \"line\": {\"color\": \"rgb(175,175,175)\", \"width\": 0.5}, \"path\": \"M -0.6380933232371653,-0.7699590319232255 Q 0.05870226560815911, -0.19119111907321729 0.9602273042591671, -0.2792194910015646L 0.9602273042591671, -0.2792194910015646 L 0.9595535444646197, -0.28152618937744506 L 0.9588742434309966, -0.28383126199316727 M 0.9588742434309966,-0.28383126199316727 Q 0.05877240686607776, -0.19116956920798933 -0.6338180275786695, -0.773482196250363L -0.6338180275786695, -0.773482196250363 L -0.6359581151736797, -0.7717235746980525 L -0.6380933232371653, -0.7699590319232255 \", \"type\": \"path\"}, {\"fillcolor\": \"#f0f3e7\", \"layer\": \"below\", \"line\": {\"color\": \"rgb(175,175,175)\", \"width\": 0.5}, \"path\": \"M -0.6338180275786695,-0.773482196250363 Q 0.07582789578478966, -0.18506790705265752 0.9943252422439548, -0.10638285875318693L 0.9943252422439548, -0.10638285875318693 L 0.994058001608836, -0.10885168550577236 L 0.9937846310920959, -0.11131984102192559 M 0.9937846310920959,-0.11131984102192559 Q 0.07594308103823738, -0.1850206703112377 -0.6290013884813593, -0.7774041762741708L -0.6290013884813593, -0.7774041762741708 L -0.6314127531784375, -0.7754469260520837 L -0.6338180275786695, -0.773482196250363 \", \"type\": \"path\"}, {\"fillcolor\": \"#e2ecde\", \"layer\": \"below\", \"line\": {\"color\": \"rgb(175,175,175)\", \"width\": 0.5}, \"path\": \"M -0.09050232655847924,-0.9958962440372503 Q -0.010046498635988506, -0.1997475102852526 -0.009880794274311886, -0.9999511837607418L -0.009880794274311886, -0.9999511837607418 L -0.01624290387103698, -0.9998680753348594 L -0.022604355900672238, -0.9997444889041979 M -0.022604355900672238,-0.9997444889041979 Q -0.010457649513798515, -0.1997264067834961 -0.08192600160502773, -0.9966384150036627L -0.08192600160502773, -0.9966384150036627 L -0.08621496269645634, -0.9962765580938099 L -0.09050232655847924, -0.9958962440372503 \", \"type\": \"path\"}, {\"fillcolor\": \"#e2ecde\", \"layer\": \"below\", \"line\": {\"color\": \"rgb(175,175,175)\", \"width\": 0.5}, \"path\": \"M -0.13418064246618466,-0.9909568886623484 Q 0.04958440296684685, -0.19375599857145417 0.5937055211683956, -0.8046823933292959L 0.5937055211683956, -0.8046823933292959 L 0.5923677281801931, -0.8056677197273308 L 0.5910282999264072, -0.8066508220327435 M 0.5910282999264072,-0.8066508220327435 Q 0.04948486286650983, -0.1937814447956324 -0.13190547556913676, -0.9912622990484808L -0.13190547556913676, -0.9912622990484808 L -0.13304314665420708, -0.9911102467073717 L -0.13418064246618466, -0.9909568886623484 \", \"type\": \"path\"}, {\"fillcolor\": \"#e2ecde\", \"layer\": \"below\", \"line\": {\"color\": \"rgb(175,175,175)\", \"width\": 0.5}, \"path\": \"M -0.13816047589923516,-0.9904098560188589 Q 0.09361480567582867, -0.17673785151539226 0.896950808372108, -0.4421303510963954L 0.896950808372108, -0.4421303510963954 L 0.8967292381913444, -0.44257956727889175 L 0.8965074430315065, -0.44302867242325306 M 0.8965074430315065,-0.44302867242325306 Q 0.0935972795004461, -0.1767471336970288 -0.1373646855320714, -0.9905205415177795L -0.1373646855320714, -0.9905205415177795 L -0.13776259183195083, -0.9904652786906482 L -0.13816047589923516, -0.9904098560188589 \", \"type\": \"path\"}, {\"fillcolor\": \"#e2ecde\", \"layer\": \"below\", \"line\": {\"color\": \"rgb(175,175,175)\", \"width\": 0.5}, \"path\": \"M -0.13577283929095554,-0.9907399942017443 Q 0.10798521492476663, -0.16834248827212922 0.9571201361630809, -0.28969129250145825L 0.9571201361630809, -0.28969129250145825 L 0.9568243013965476, -0.29066691634413544 L 0.9565274721450211, -0.29164223807921896 M 0.9565274721450211,-0.29164223807921896 Q 0.10794884384758541, -0.16836581337067696 -0.13418064246618466, -0.9909568886623484L -0.13418064246618466, -0.9909568886623484 L -0.13497678444459366, -0.9908487612451244 L -0.13577283929095554, -0.9907399942017443 \", \"type\": \"path\"}, {\"fillcolor\": \"#e2ecde\", \"layer\": \"below\", \"line\": {\"color\": \"rgb(175,175,175)\", \"width\": 0.5}, \"path\": \"M -0.13872884301559252,-0.9903304035096343 Q 0.12134162187923273, -0.1589849389084303 0.991845601698527, -0.12744529175802075L 0.991845601698527, -0.12744529175802075 L 0.9918284858221356, -0.12757842573009692 L 0.9918113520753674, -0.12771155740351595 M 0.9918113520753674,-0.12771155740351595 Q 0.121338529446825, -0.15898729908921025 -0.13850150164147332, -0.9903622236550912L -0.13850150164147332, -0.9903622236550912 L -0.13861517324160186, -0.990346320105851 L -0.13872884301559252, -0.9903304035096343 \", \"type\": \"path\"}, {\"fillcolor\": \"#d4e5d6\", \"layer\": \"below\", \"line\": {\"color\": \"rgb(175,175,175)\", \"width\": 0.5}, \"path\": \"M 0.160450875568559,-0.9870438270559635 Q 0.09842690583184094, -0.17410383168778887 0.7629942701438963, -0.6464052472927359L 0.7629942701438963, -0.6464052472927359 L 0.7506145650677251, -0.6607403232043507 L 0.737965575891041, -0.6748383575344575 M 0.737965575891041,-0.6748383575344575 Q 0.09849679645595782, -0.1740643015897103 0.19850509012439377, -0.9800998567466003L 0.19850509012439377, -0.9800998567466003 L 0.17951156232274956, -0.9837558635110876 L 0.160450875568559, -0.9870438270559635 \", \"type\": \"path\"}, {\"fillcolor\": \"#d4e5d6\", \"layer\": \"below\", \"line\": {\"color\": \"rgb(175,175,175)\", \"width\": 0.5}, \"path\": \"M 0.03219189434034837,-0.9994817066553944 Q 0.11357526690810504, -0.16462277712015644 0.9229400812237994, -0.38494364064185616L 0.9229400812237994, -0.38494364064185616 L 0.9203020217984389, -0.3912086255103607 L 0.9176214357753348, -0.39745553286576973 M 0.9176214357753348,-0.39745553286576973 Q 0.11378286638949396, -0.16447935832860783 0.048297407227258685, -0.9988329992822246L 0.048297407227258685, -0.9988329992822246 L 0.04024595783459918, -0.9991898032295844 L 0.03219189434034837, -0.9994817066553944 \", \"type\": \"path\"}, {\"fillcolor\": \"#d4e5d6\", \"layer\": \"below\", \"line\": {\"color\": \"rgb(175,175,175)\", \"width\": 0.5}, \"path\": \"M -0.05058040692707293,-0.9987199920073152 Q 0.11475473484350372, -0.16380278029080322 0.9559308314220708, -0.29359197117208174L 0.9559308314220708, -0.29359197117208174 L 0.9556953493788177, -0.2943576042430355 L 0.9554592541176653, -0.29512304844067105 M 0.9554592541176653,-0.29512304844067105 Q 0.11477638244443329, -0.16378761257485008 -0.04871632771191327, -0.998812654812836L -0.04871632771191327, -0.998812654812836 L -0.04964838893750926, -0.998766758295404 L -0.05058040692707293, -0.9987199920073152 \", \"type\": \"path\"}, {\"fillcolor\": \"#d4e5d6\", \"layer\": \"below\", \"line\": {\"color\": \"rgb(175,175,175)\", \"width\": 0.5}, \"path\": \"M -0.03278066862007945,-0.9994625694666212 Q 0.13273375030574466, -0.14960531918943334 0.9962539184211741, -0.08647618186793814L 0.9962539184211741, -0.08647618186793814 L 0.9958976117085473, -0.0904872753110157 L 0.995525155694449, -0.09449690142826375 M 0.995525155694449,-0.09449690142826375 Q 0.13289274161151027, -0.14946410681824707 -0.022604355900672238, -0.9997444889041979L -0.022604355900672238, -0.9997444889041979 L -0.027692871012833103, -0.9996164789033175 L -0.03278066862007945, -0.9994625694666212 \", \"type\": \"path\"}, {\"fillcolor\": \"#c6decd\", \"layer\": \"below\", \"line\": {\"color\": \"rgb(175,175,175)\", \"width\": 0.5}, \"path\": \"M 0.6160633786889982,-0.7876965871693846 Q 0.15742044182199233, -0.12336451879113673 0.9121331813683119, -0.4098939612228048L 0.9121331813683119, -0.4098939612228048 L 0.9098906152789568, -0.41484824722696056 L 0.9076211400367983, -0.4197902644872824 M 0.9076211400367983,-0.4197902644872824 Q 0.15752838260972113, -0.12322665568928387 0.6259605170838494, -0.7798547499708647L 0.6259605170838494, -0.7798547499708647 L 0.6210243256269056, -0.783791290446409 L 0.6160633786889982, -0.7876965871693846 \", \"type\": \"path\"}, {\"fillcolor\": \"#c6decd\", \"layer\": \"below\", \"line\": {\"color\": \"rgb(175,175,175)\", \"width\": 0.5}, \"path\": \"M 0.69618605703642,-0.7178613891191549 Q 0.1773896204899107, -0.0923738195726769 0.9873104360834418, -0.1588020868903299L 0.9873104360834418, -0.1588020868903299 L 0.9854675218962475, -0.1698639552337956 L 0.9835006740679183, -0.18090446127155166 M 0.9835006740679183,-0.18090446127155166 Q 0.17753526712935086, -0.09209358786207664 0.7143240840632213, -0.6998150490859996L 0.7143240840632213, -0.6998150490859996 L 0.7053127902805826, -0.7088962320866284 L 0.69618605703642, -0.7178613891191549 \", \"type\": \"path\"}, {\"fillcolor\": \"#c6decd\", \"layer\": \"below\", \"line\": {\"color\": \"rgb(175,175,175)\", \"width\": 0.5}, \"path\": \"M 0.6785692068351764,-0.7345364739310632 Q 0.18194295950529005, -0.08304673073912294 0.9995065603657314, -0.031410759078132795L 0.9995065603657314, -0.031410759078132795 L 0.9991507947432898, -0.041203026149208954 L 0.9986990955937755, -0.05099133710911015 M 0.9986990955937755,-0.05099133710911015 Q 0.18213597521835606, -0.08262255461590616 0.69618605703642, -0.7178613891191549L 0.69618605703642, -0.7178613891191549 L 0.6874281951586195, -0.7262523504271521 L 0.6785692068351764, -0.7345364739310632 \", \"type\": \"path\"}, {\"fillcolor\": \"#b8d7c5\", \"layer\": \"below\", \"line\": {\"color\": \"rgb(175,175,175)\", \"width\": 0.5}, \"path\": \"M 0.8954269538535875,-0.4452084571439376 Q 0.18566907657491477, -0.0743437556477909 0.955244090058304, -0.2958187424905372L 0.955244090058304, -0.2958187424905372 L 0.9551363180643465, -0.29616653071284665 L 0.955028419446582, -0.29651427967192967 M 0.955028419446582,-0.29651427967192967 Q 0.18566860622278847, -0.0743449303132844 0.895745295243998, -0.44456761695859354L 0.895745295243998, -0.44456761695859354 L 0.8955861818682563, -0.44488806552506943 L 0.8954269538535875, -0.4452084571439376 \", \"type\": \"path\"}, {\"fillcolor\": \"#b8d7c5\", \"layer\": \"below\", \"line\": {\"color\": \"rgb(175,175,175)\", \"width\": 0.5}, \"path\": \"M 0.8951081539890104,-0.44584906937481206 Q 0.19140964924664902, -0.05798574113758312 0.9920495982139185, -0.12584750567096245L 0.9920495982139185, -0.12584750567096245 L 0.9920073111803835, -0.12618040483635182 L 0.9919649124368582, -0.12651328979255982 M 0.9919649124368582,-0.12651328979255982 Q 0.1914109366424096, -0.05798149130261705 0.8954269538535875, -0.4452084571439376L 0.8954269538535875, -0.4452084571439376 L 0.8952676112203733, -0.44552879177418653 L 0.8951081539890104, -0.44584906937481206 \", \"type\": \"path\"}, {\"fillcolor\": \"#aad0bc\", \"layer\": \"below\", \"line\": {\"color\": \"rgb(175,175,175)\", \"width\": 0.5}, \"path\": \"M 0.9633372205494766,-0.2682934950832935 Q 0.19665571603770104, -0.03642155062183796 0.995525155694449, -0.09449690142826375L 0.995525155694449, -0.09449690142826375 L 0.9952221225496064, -0.09763670819858837 L 0.9949091867300328, -0.10077554346261186 M 0.9949091867300328,-0.10077554346261186 Q 0.19666547637185378, -0.03636881086084374 0.9651511459406235, -0.26169307497429367L 0.9651511459406235, -0.26169307497429367 L 0.9642498308572927, -0.2649948371038247 L 0.9633372205494766, -0.2682934950832935 \", \"type\": \"path\"}, {\"fillcolor\": \"#f2e6ce\", \"layer\": \"below\", \"line\": {\"color\": \"rgb(150,150,150)\", \"width\": 0.45}, \"path\": \"M 1.1, 0.0 L 1.099707572597047, 0.025362467796143956 L 1.0988304458677993, 0.050711450718487726 L 1.0973690861684229, 0.07603347106295226 L 1.0953242704836845, 0.10131506546108873 L 1.0926970860138392, 0.12654279203836558 L 1.0894889295965804, 0.15170323756102752 L 1.085701506964362, 0.17678302456772668 L 1.0813368318374823, 0.20176881848213404 L 1.0763972248534182, 0.2266473347027494 L 1.0708853123329727, 0.2514053456661405 L 1.0648040248838984, 0.2760296878798559 L 1.0581565958427317, 0.30050726892127205 L 1.0509465595556748, 0.3248250743986534 L 0.9554059632324315, 0.29529552218059396 L 0.9619605416752106, 0.27318842629206547 L 0.968003658985362, 0.25093607989077804 L 0.9735321021208843, 0.22855031424194588 L 0.9785429316849256, 0.20604303154795398 L 0.9830334834886203, 0.18342619862012186 L 0.9870013699676018, 0.16071184051611515 L 0.9904444814514367, 0.13791203414638864 L 0.9933609872853082, 0.1150389018530596 L 0.9957493368033494, 0.09210460496462611 L 0.9976082601531115, 0.0691213373299566 L 0.9989367689707266, 0.04610131883498884 L 0.9997341569064064, 0.023056788905585414 L 1.0, 0.0 L 1.1 ,0.0\", \"type\": \"path\"}, {\"fillcolor\": \"#ecd5bb\", \"layer\": \"below\", \"line\": {\"color\": \"rgb(150,150,150)\", \"width\": 0.45}, \"path\": \"M 1.0402249787152207, 0.357675822018932 L 1.0326521439644087, 0.3789848935851009 L 1.0246428435450738, 0.4001337815929385 L 1.0162004627062398, 0.42111354715281313 L 1.0073285697447603, 0.44191532285719154 L 0.9980309144971272, 0.46253031652857973 L 0.9883114267545456, 0.48294981493566663 L 0.97817421460195, 0.5031651874760995 L 0.9676235626816618, 0.5231678898243357 L 0.9566639303824215, 0.542949467543028 L 0.9452999499545625, 0.5625015596564171 L 0.9335364245521224, 0.5818159021842217 L 0.9213783262027184, 0.6008843316345313 L 0.908830793706047, 0.619698788454227 L 0.8958991304618946, 0.6382513204354703 L 0.8825888022285767, 0.656534086076821 L 0.8689054348127547, 0.6745393578975638 L 0.8548548116916063, 0.6922595257038423 L 0.8404428715683524, 0.7096870998052186 L 0.8256757058621776, 0.7268147141803026 L 0.8105595561336013, 0.7436351295901098 L 0.7951008114463904, 0.7601412366378315 L 0.779306005667127, 0.7763260587737268 L 0.7631818147035736, 0.7921827552438645 L 0.7467350536830015, 0.8077046239814684 L 0.7299726740716773, 0.8228851044396448 L 0.7129017607367227, 0.8377177803642947 L 0.6955295289515917, 0.852196382506038 L 0.6778633213464269, 0.8663147912700042 L 0.659910604804591, 0.8800670393023698 L 0.6416789673066763, 0.8934473140125486 L 0.6231761147233338, 0.9064499600299679 L 0.6044098675582729, 0.9190694815943957 L 0.5853881576428099, 0.9313005448788038 L 0.5661190247833632, 0.9431379802437891 L 0.5466106133633094, 0.9545767844225979 L 0.5268711689006406, 0.9656121226358299 L 0.5069090345628727, 0.9762393306349303 L 0.4867326476406858, 0.9864539166736012 L 0.4663505359817749, 0.9962515634063073 L 0.4457713143864319, 1.0056281297130631 L 0.4250036809663724, 1.0145796524497395 L 0.40405641346834964, 1.0231023481231456 L 0.3829383655641115, 1.031192614490177 L 0.34812578687646495, 0.9374478313547064 L 0.36732401224395417, 0.9300930437483141 L 0.38636698269670217, 0.9223451385906721 L 0.4052466494422108, 0.9142073906482391 L 0.4239550327107044, 0.9056832394602793 L 0.44248422512789615, 0.8967762878850919 L 0.46082639505715695, 0.8874903005772092 L 0.47897378990967315, 0.8778292023962089 L 0.4969187394211903, 0.8677970767478161 L 0.5146536588939665, 0.8573981638579901 L 0.5321710524025545, 0.8466368589807306 L 0.5494635159620662, 0.8355177105403597 L 0.5665237406575762, 0.8240454182090616 L 0.583344515733342, 0.8122248309204987 L 0.5999187316405372, 0.8000609448203362 L 0.6162393830422063, 0.7875589011545492 L 0.6322995717741742, 0.7747239840963981 L 0.648092509760657, 0.7615616185129951 L 0.6636115218833429, 0.7480773676724043 L 0.6788500488027286, 0.7342769308922439 L 0.6938016497305214, 0.7201661411307858 L 0.7084600051519336, 0.7057509625215698 L 0.7228189194967185, 0.691037487852574 L 0.7368723237578193, 0.6760319359910089 L 0.750614278056525, 0.6607406492548206 L 0.7640389741530476, 0.6451700907320168 L 0.7771407379014602, 0.6293268415489475 L 0.7899140316479588, 0.6132175980886944 L 0.8023534565714333, 0.5968491691607463 L 0.8144537549653587, 0.5802284731231547 L 0.8262098124600427, 0.5633625349583882 L 0.8376166601842894, 0.5462584833041193 L 0.8486694768655657, 0.5289235474402015 L 0.859363590867784, 0.5113650542331064 L 0.8696944821658377, 0.4935904250391163 L 0.8796577842560561, 0.47560717256757784 L 0.8892492860017727, 0.45742289770554495 L 0.8984649334132232, 0.43904528630515144 L 0.9073008313610247, 0.42048210593507246 L 0.9157532452225092, 0.40174120259744683 L 0.9238186024602179, 0.38283049741164826 L 0.9314934941318853, 0.3637579832663077 L 0.9387746763312806, 0.3445317214410008 L 0.9456590715592915, 0.32515983819902905 L 1.0402249787152207 ,0.357675822018932\", \"type\": \"path\"}, {\"fillcolor\": \"#e6c4a9\", \"layer\": \"below\", \"line\": {\"color\": \"rgb(150,150,150)\", \"width\": 0.45}, \"path\": \"M 0.35035886582016396, 1.0427121679261293 L 0.32779703700515533, 1.0500233818971085 L 0.30508282592134384, 1.0568464738682943 L 0.28222679167277376, 1.0631782720043206 L 0.2592395592925033, 1.0690158328564778 L 0.23613181480337003, 1.0743564427310273 L 0.2129143002504043, 1.0791976189507095 L 0.1895978087071973, 1.0835371110088612 L 0.16619317925855132, 1.0873729016156026 L 0.1427112919617371, 1.0907032076356116 L 0.11916306278870684, 1.0935264809170444 L 0.09555943855161184, 1.0958414090112223 L 0.07191139181398076, 1.0976469157827466 L 0.048229915789930834, 1.0989421619097597 L 0.02452601923377551, 1.0997265452741172 L 0.0008107213224103638, 1.0999997012412948 L -0.022904953467146008, 1.0997615028298946 L -0.046609980482677234, 1.0990120607706744 L -0.0702933400217736, 1.097751723455073 L -0.09394402245453562, 1.0959810767732543 L -0.11755103334159707, 1.0937009438417444 L -0.14110339854508472, 1.090912384620794 L -0.1645901693301402, 1.0876166954216342 L -0.18800042745463505, 1.0838154083038656 L -0.21132329024470878, 1.0795102903632512 L -0.19211208204064434, 0.9813729912393191 L -0.17090947950421367, 0.9852867348216958 L -0.1496274266637638, 0.9887424503833038 L -0.12827581685916792, 0.991738531473449 L -0.10686457576508823, 0.9942735853106768 L -0.08540365677685055, 0.9963464334302311 L -0.06390303638343055, 0.9979561122318846 L -0.04237270952970657, 0.9991018734278858 L -0.020822684970132732, 0.9997831843908132 L 0.0007370193840094216, 0.9999997284011769 L 0.022296381121614098, 0.9997514047946519 L 0.04384537799084621, 0.9990383290088724 L 0.06537399255816433, 0.9978608325297696 L 0.08687221686510166, 0.9962194627374747 L 0.10833005708064257, 0.9941149826518584 L 0.1297375381470337, 0.9915483705778286 L 0.15108470841686483, 0.9885208196505478 L 0.17236164427927025, 0.9850337372807828 L 0.1935584547730948, 0.981088744500645 L 0.21466528618488184, 0.9766876752100248 L 0.23567232662954846, 0.9718325753240706 L 0.2565698106116125, 0.9665257018221095 L 0.277348023564858, 0.9607695216984493 L 0.297997306368323, 0.9545667108155531 L 0.31850805983651265, 0.9479201526601175 L 0.35035886582016396 ,1.0427121679261293\", \"type\": \"path\"}, {\"fillcolor\": \"#e1b396\", \"layer\": \"below\", \"line\": {\"color\": \"rgb(150,150,150)\", \"width\": 0.45}, \"path\": \"M -0.24512725261061846, 1.0723397922429112 L -0.2680171612011081, 1.0668490058587015 L -0.29078433639385337, 1.0608696761186014 L -0.3134183523909095, 1.0544045411437528 L -0.3359088443720703, 1.0474565615206295 L -0.35824551324124304, 1.0400289189452947 L -0.380418130342724, 1.0321250147664025 L -0.4024165421452187, 1.0237484684276141 L -0.42423067489145916, 1.0149031158101434 L -0.4458505392112918, 1.0055930074761859 L -0.46726623469612044, 0.9958224068140414 L -0.48846795443261043, 0.9855957880857759 L -0.509445989493582, 0.9749178343783159 L -0.530190733384027, 0.9637934354589203 L -0.5506926864402235, 0.9522276855360013 L -0.5709424601799286, 0.9402258809263287 L -0.5909307816016534, 0.9277935176296821 L -0.6106484974310623, 0.9149362888120605 L -0.5551349976646021, 0.8317602625564186 L -0.5372098014560485, 0.8434486523906201 L -0.5190386001635714, 0.854750800842117 L -0.5006297149456577, 0.8656615323054557 L -0.48199157580366087, 0.8761758504172001 L -0.4631327177214381, 0.8862889403439235 L -0.44406177675691855, 0.8959961709870689 L -0.4247874860873822, 0.905293097103674 L -0.4053186720102652, 0.9141754613419871 L -0.3856642499013265, 0.9226391961910394 L -0.36583322013201697, 0.9306804258432855 L -0.3458346639479309, 0.9382954679694567 L -0.3256777393102209, 0.9454808354048133 L -0.3053716767018821, 0.9522332377460268 L -0.28492577490082677, 0.958549582857957 L -0.26434939672168484, 0.9644269782896376 L -0.24365196472828007, 0.9698627325988194 L -0.22284295691874403, 0.9748543565844647 L -0.24512725261061846 ,1.0723397922429112\", \"type\": \"path\"}, {\"fillcolor\": \"#dba284\", \"layer\": \"below\", \"line\": {\"color\": \"rgb(150,150,150)\", \"width\": 0.45}, \"path\": \"M -0.6390860225995356, 0.8953038901501021 L -0.6601379444762521, 0.8798965247474666 L -0.6808185685890592, 0.8639942573098185 L -0.7011162630213958, 0.8476060321440104 L -0.7210196112373409, 0.8307410668861591 L -0.6554723738521281, 0.75521915171469 L -0.6373784209285416, 0.7705509383127367 L -0.6189259714445993, 0.7854493248271076 L -0.60012540406932, 0.7999059315886059 L -0.580987293272305, 0.8139126274091837 L -0.6390860225995356 ,0.8953038901501021\", \"type\": \"path\"}, {\"fillcolor\": \"#d59171\", \"layer\": \"below\", \"line\": {\"color\": \"rgb(150,150,150)\", \"width\": 0.45}, \"path\": \"M -0.74675803909234, 0.8076833730187614 L -0.7765495348817533, 0.7790833202391981 L -0.8052464833057144, 0.7493851487211233 L -0.8328084359860018, 0.7186307180677359 L -0.8591965443220597, 0.6868633766805674 L -0.7810877675655088, 0.6244212515277885 L -0.7570985781690925, 0.6533006527888507 L -0.7320422575506493, 0.681259226110112 L -0.7059541226197756, 0.7082575638538164 L -0.6788709446293999, 0.7342576118352375 L -0.74675803909234 ,0.8076833730187614\", \"type\": \"path\"}, {\"fillcolor\": \"#d0805f\", \"layer\": \"below\", \"line\": {\"color\": \"rgb(150,150,150)\", \"width\": 0.45}, \"path\": \"M -0.8803474827379677, 0.6595364354127253 L -0.8951475158508897, 0.6393050327238018 L -0.909482700608507, 0.6187416401809862 L -0.9233455927773954, 0.5978569363138314 L -0.9367289933847477, 0.5766617665082344 L -0.9496259524567885, 0.5551671373744467 L -0.9620297726278797, 0.5333842110313637 L -0.973934012618452, 0.5113242993100573 L -0.9853324905799464, 0.48899885787956593 L -0.9962192873050373, 0.46641948029798663 L -1.0065887493014642, 0.44359789199196376 L -1.016435491727882, 0.4205459441676961 L -0.9240322652071654, 0.3823144946979055 L -0.9150806811831493, 0.4032708109017852 L -0.9056538975500338, 0.424017709361806 L -0.8957568096181331, 0.4445444162541508 L -0.8853945569258654, 0.464840272100052 L -0.8745725205707997, 0.48489473730123966 L -0.8632963204152622, 0.5046973976131333 L -0.8515718121679524, 0.5242379695529403 L -0.8394050843430866, 0.5435063057398467 L -0.8268024550986427, 0.5624924001645328 L -0.8137704689553542, 0.5811863933852743 L -0.8003158933981523, 0.5995785776479321 L -0.8803474827379677 ,0.6595364354127253\", \"type\": \"path\"}, {\"fillcolor\": \"#ca6f4c\", \"layer\": \"below\", \"line\": {\"color\": \"rgb(150,150,150)\", \"width\": 0.45}, \"path\": \"M -1.0291436095041218, 0.3884114197816897 L -1.0346385624351606, 0.37352783714484344 L -1.0399182801560638, 0.3585665497467028 L -1.0449816643304706, 0.3435306699744869 L -1.0498276616257525, 0.328423325732818 L -0.9543887832961385, 0.2985666597571073 L -0.9499833312095186, 0.31230060906771534 L -0.9453802546873306, 0.3259695906788207 L -0.9405805113046913, 0.3395707610407667 L -0.9355850995492015, 0.35310129071062696 L -1.0291436095041218 ,0.3884114197816897\", \"type\": \"path\"}, {\"fillcolor\": \"#c45e3a\", \"layer\": \"below\", \"line\": {\"color\": \"rgb(150,150,150)\", \"width\": 0.45}, \"path\": \"M -1.0596256610085861, 0.2952853848942021 L -1.0653627321048387, 0.27386538489212847 L -1.070666851774426, 0.2523340890792196 L -1.075535864482797, 0.23070024753181953 L -1.079967791517974, 0.20897265199970516 L -0.9817889013799763, 0.18997513818155012 L -0.9777598768025426, 0.20972749775619956 L -0.9733335016131145, 0.22939462643565417 L -0.9685115746407624, 0.2489685317201168 L -0.963296055462351, 0.26844125899472915 L -1.0596256610085861 ,0.2952853848942021\", \"type\": \"path\"}, {\"fillcolor\": \"#bf4d28\", \"layer\": \"below\", \"line\": {\"color\": \"rgb(150,150,150)\", \"width\": 0.45}, \"path\": \"M -1.085998882231786, 0.17494692849922114 L -1.093691897908983, 0.11763516671577054 L -1.098362509106382, 0.05999832155596572 L -1.0999978086457978, 0.002195671752094502 L -1.0985932773965106, -0.05561304576440436 L -0.998721161269555, -0.050557314331276686 L -0.9999980078598161, 0.00199606522917682 L -0.9985113719148927, 0.05454392868724156 L -0.9942653617354389, 0.10694106065070048 L -0.9872717111198054, 0.15904266227201921 L -1.085998882231786 ,0.17494692849922114\", \"type\": \"path\"}, {\"fillcolor\": \"#af4624\", \"layer\": \"below\", \"line\": {\"color\": \"rgb(150,150,150)\", \"width\": 0.45}, \"path\": \"M -1.0963043399493957, -0.09009325284459478 L -1.0900287958066717, -0.14777423426381692 L -1.0807205590699946, -0.20504407624566548 L -1.0684055272392499, -0.2617434418750939 L -1.0531179633595704, -0.3177145814239422 L -0.9573799666905184, -0.28883143765812924 L -0.9712777520356817, -0.23794858352281265 L -0.9824732355181769, -0.1864037056778777 L -0.990935268915156, -0.13434021296710627 L -0.9966403090449051, -0.0819029571314498 L -1.0963043399493957 ,-0.09009325284459478\", \"type\": \"path\"}, {\"fillcolor\": \"#9f4021\", \"layer\": \"below\", \"line\": {\"color\": \"rgb(150,150,150)\", \"width\": 0.45}, \"path\": \"M -1.042618657044173, -0.35063704308501903 L -1.0309736410806305, -0.38352751061292517 L -1.0182913555065831, -0.41603210849712785 L -1.004584560056027, -0.4481181336400467 L -0.9898670452293321, -0.4797533040729908 L -0.8998791320266655, -0.43613936733908254 L -0.9132586909600245, -0.40738012149095154 L -0.9257194140968936, -0.37821100772466165 L -0.937248764618755, -0.3486613732844774 L -0.9478351427674299, -0.31876094825910817 L -1.042618657044173 ,-0.35063704308501903\", \"type\": \"path\"}, {\"fillcolor\": \"#8f391e\", \"layer\": \"below\", \"line\": {\"color\": \"rgb(150,150,150)\", \"width\": 0.45}, \"path\": \"M -0.9743091901453871, -0.5106090500551671 L -0.9626438487405433, -0.5322751360734355 L -0.9504967880435299, -0.5536748648068948 L -0.9378740865988564, -0.5747975275576271 L -0.9247820609677436, -0.5956325542750771 L -0.9112272625672383, -0.6161695188454372 L -0.8972164743917982, -0.6363981443090103 L -0.8827567076189959, -0.6563083080029314 L -0.8678551981010357, -0.6758900466266774 L -0.8525194027438406, -0.6951335612278301 L -0.8367569957755204, -0.7140292221055984 L -0.8205758649060917, -0.7325675736296412 L -0.8039841073803651, -0.7507393389717885 L -0.7869900259259814, -0.7685354247482827 L -0.7696021245986205, -0.7859469255702254 L -0.7518291045264622, -0.802965128499948 L -0.7336798595560314, -0.8195815174110762 L -0.6669816905054831, -0.745074106737342 L -0.6834810041149656, -0.7299682986363164 L -0.699638295089655, -0.7144972050638412 L -0.7154454781145285, -0.6986685679529843 L -0.7308946430730591, -0.6824903081561713 L -0.7459780590055378, -0.6659705214814919 L -0.7606881779777458, -0.649117474641453 L -0.7750176388580369, -0.6319396011162092 L -0.7889592710009415, -0.614445496933343 L -0.8025060978354508, -0.5966439163663012 L -0.8156513403561801, -0.5785437675536457 L -0.8283884205156711, -0.5601541080413065 L -0.8407109645161305, -0.5414841402500701 L -0.8526128059989603, -0.5225432068705701 L -0.8640879891304817, -0.5033407861880861 L -0.875130771582312, -0.48388648733948675 L -0.8857356274048973, -0.46419004550469734 L -0.9743091901453871 ,-0.5106090500551671\", \"type\": \"path\"}, {\"fillcolor\": \"#f0f3e7\", \"layer\": \"below\", \"line\": {\"color\": \"rgb(150,150,150)\", \"width\": 0.45}, \"path\": \"M -0.7075741552461761, -0.8422225447158611 L -0.6896251084770172, -0.8569814524002619 L -0.6713682987576325, -0.8713579100595131 L -0.6528118736591451, -0.8853455018294477 L -0.6339641144637537, -0.8989379853873062 L -0.6148334324689944, -0.912129294737536 L -0.59542836523398, -0.9249135429188992 L -0.5757575727693011, -0.9372850246316768 L -0.5558298336722657, -0.9492382187838106 L -0.5356540412092314, -0.9607677909548276 L -0.5152391993467533, -0.9718685957764645 L -0.4945944187333293, -0.9825356792289226 L -0.47372891263354466, -0.9927642808517235 L -0.4526519928164126, -1.002549835868188 L -0.4313730653997551, -1.011887977222587 L -0.4099016266524864, -1.02077453752905 L -0.3882472587566557, -1.029205550931369 L -0.366419625531149, -1.0371772548728655 L -0.3444284681189671, -1.0446860917755256 L -0.32228360063998696, -1.0517287106276625 L -0.29999490581115523, -1.0583019684793922 L -0.27757233053607827, -1.064402931845253 L -0.25502588146595284, -1.0700288780133524 L -0.23236562053384704, -1.075177296260445 L -0.2096016604643011, -1.079845888972407 L -0.18674416026026086, -1.0840325726696085 L -0.16976741841841894, -0.9854841569723714 L -0.19054696405845553, -0.9816780808840063 L -0.2112414732125882, -0.9774339056913134 L -0.23184171042359347, -0.972753525466684 L -0.2523384823055257, -0.9676390289502299 L -0.2727226416465047, -0.9620926986176291 L -0.2929850914908972, -0.9561170096615114 L -0.313116789199061, -0.9497146288868413 L -0.3331087504828627, -0.9428884135207867 L -0.3529520534151415, -0.935641409937608 L -0.3726378424113513, -0.9279768522991363 L -0.39215733218159554, -0.9198981611114426 L -0.41150181165128413, -0.9114089416983526 L -0.4306626478486769, -0.9025129825924758 L -0.44963128975757205, -0.8932142538444751 L -0.46839927213341204, -0.8835169052513312 L -0.4869582192811195, -0.8734252645043886 L -0.5052998487929687, -0.8629438352580097 L -0.5234159752448191, -0.8520772951197062 L -0.5412985138490727, -0.8408304935626355 L -0.5589394840627221, -0.8292084497613963 L -0.5763310131488669, -0.8172163503520965 L -0.5934653396901318, -0.8048595471176797 L -0.6103348170523931, -0.7921435545995573 L -0.6269319167972883, -0.7790740476366017 L -0.6432492320419781, -0.7656568588326009 L -0.7075741552461761 ,-0.8422225447158611\", \"type\": \"path\"}, {\"fillcolor\": \"#e2ecde\", \"layer\": \"below\", \"line\": {\"color\": \"rgb(150,150,150)\", \"width\": 0.45}, \"path\": \"M -0.15260172731715177, -1.089363443860598 L -0.13701972610146906, -1.0914328172906835 L -0.12140974556322401, -1.093279320979901 L -0.1057749732484226, -1.0949025778736188 L -0.09011860176553245, -1.096302256504029 L -0.0819260016050295, -0.9966384150036626 L -0.09615906658947508, -0.9953659798851079 L -0.11037249596656727, -0.99389029179991 L -0.12456338736497186, -0.9922116520824396 L -0.13872884301559252, -0.9903304035096343 L -0.15260172731715177 ,-1.089363443860598\", \"type\": \"path\"}, {\"fillcolor\": \"#d4e5d6\", \"layer\": \"below\", \"line\": {\"color\": \"rgb(150,150,150)\", \"width\": 0.45}, \"path\": \"M -0.05563844761978022, -1.0985919912080468 L -0.03256849733877839, -1.0995177547366364 L -0.009484198625570326, -1.0999591128657604 L 0.013604278462206078, -1.0999158711499362 L 0.03668676202608118, -1.0993880486398067 L 0.05975308280810233, -1.0983758778737487 L 0.08279307867101843, -1.0968798047754251 L 0.10579659907533208, -1.0949004884573272 L 0.12875350955123266, -1.0924388009303958 L 0.1516536961634593, -1.0894958267198462 L 0.17448706996711233, -1.0860728623873686 L 0.19724357145245597, -1.0821714159599116 L 0.21991317497675272, -1.0777932062653042 L 0.2424858931811777, -1.0729401621750052 L 0.2649517813908662, -1.067614421754318 L 0.28730094199615647, -1.0618183313204388 L 0.30952352881309636, -1.0555544444087612 L 0.3316097514212986, -1.0488255206478838 L 0.35354987947721933, -1.0416345245438268 L 0.37533424700097817, -1.0339846241739812 L 0.3969532566348182, -1.025879189791377 L 0.4183973838713335, -1.0173217923398792 L 0.43965718124960285, -1.0083162018809646 L 0.46072328251737865, -0.9988663859327793 L 0.481586406757499, -0.9889765077222011 L 0.502237362476704, -0.9786509243506818 L 0.5226670516550561, -0.9678941848746748 L 0.5428664737541775, -0.9567110283014956 L 0.5628267296825469, -0.9451063815014951 L 0.582539025716092, -0.933085357037472 L 0.6019946773723721, -0.9206532509122715 L 0.6211851132366266, -0.9078155402355698 L 0.5647137393060242, -0.8252868547596088 L 0.5472678885203383, -0.8369575008293376 L 0.5295809324691745, -0.8482594154886108 L 0.5116606633477698, -0.8591876195468137 L 0.4935149761401614, -0.869737298455905 L 0.47515186514096003, -0.8799038044315225 L 0.45657942043336724, -0.8896826585006198 L 0.43780582432499904, -0.8990695524747282 L 0.41883934774307147, -0.9080603508479811 L 0.399688346590548, -0.9166510926190586 L 0.3803612580648486, -0.9248379930362537 L 0.36086659694074374, -0.9326174452648882 L 0.341212951819071, -0.9399860219763464 L 0.3214089813429266, -0.9469404768580242 L 0.30146341038299873, -0.9534777460435307 L 0.28138502619372396, -0.9595949494625101 L 0.2611826745419604, -0.9652893921094898 L 0.24086525580987836, -0.9705585652311981 L 0.2204417210737979, -0.9754001474318229 L 0.19992106816068428, -0.9798120056957309 L 0.17931233768405086, -0.9837921963271923 L 0.1586246090610112, -0.9873389658066987 L 0.13786699651223572, -0.9904507515634966 L 0.11704864504657513, -0.9931261826639961 L 0.09617872643212007, -0.9953640804157519 L 0.0752664351554713, -0.9971634588867501 L 0.054320984371002114, -0.9985235253397715 L 0.033351601841891974, -0.9994436805816423 L 0.012367525874732797, -0.9999235192272146 L -0.008621998750518478, -0.999962829877964 L -0.029607724853434898, -0.999561595215124 L -0.05058040692707293, -0.9987199920073152 L -0.05563844761978022 ,-1.0985919912080468\", \"type\": \"path\"}, {\"fillcolor\": \"#c6decd\", \"layer\": \"below\", \"line\": {\"color\": \"rgb(150,150,150)\", \"width\": 0.45}, \"path\": \"M 0.6493937711032584, -0.8878556921326174 L 0.668086137368657, -0.8738769438861677 L 0.6864776937322372, -0.859504727158652 L 0.7045601592823704, -0.8447455131292507 L 0.7223253922774725, -0.829605947225064 L 0.7397653938118709, -0.8140928461289707 L 0.7568723114173651, -0.7982131947103701 L 0.7736384425988466, -0.7819741428802051 L 0.7900562383023947, -0.7653830023716689 L 0.806118306314285, -0.7484472434480528 L 0.8218174145893794, -0.7311744915392141 L 0.8371464945073994, -0.7135725238081781 L 0.8520986440556133, -0.6956492656494259 L 0.8666671309365139, -0.677412787120432 L 0.8808453955990747, -0.6588712993080741 L 0.8946270541922282, -0.6400331506315404 L 0.908005901439235, -0.6209068230834016 L 0.9209759134316468, -0.601500928410542 L 0.9335312503416103, -0.5818242042366663 L 0.9456662590512821, -0.561885510128134 L 0.9573754756981844, -0.5416938236048805 L 0.9686536281353393, -0.5212582360982358 L 0.8805942073957629, -0.4738711237256689 L 0.8703413415438039, -0.4924489305498913 L 0.8596965991375292, -0.5108050092073946 L 0.8486647730378275, -0.5289310947606056 L 0.8372508303924061, -0.5468190258277654 L 0.8254599103993044, -0.5644607482576378 L 0.8132973219929347, -0.5818483187559458 L 0.8007685414537042, -0.5989739084618855 L 0.7878792099422853, -0.6158298064731199 L 0.7746351309596484, -0.6324084233176598 L 0.7610422677339994, -0.648702294371071 L 0.7471067405357994, -0.6647040832174673 L 0.7328348239220772, -0.6804065849527752 L 0.7182329439112678, -0.6958027294287898 L 0.7033076750898605, -0.71088558443655 L 0.6880657376521501, -0.7256483588276091 L 0.672513994374428, -0.7400844055717914 L 0.656659447524975, -0.7541872247500581 L 0.6405092357112457, -0.767950466481137 L 0.6240706306656701, -0.7813679337805927 L 0.6073510339715062, -0.7944335853510615 L 0.5903579737302348, -0.8071415383023793 L 0.6493937711032584 ,-0.8878556921326174\", \"type\": \"path\"}, {\"fillcolor\": \"#b8d7c5\", \"layer\": \"below\", \"line\": {\"color\": \"rgb(150,150,150)\", \"width\": 0.45}, \"path\": \"M 0.984548772914911, -0.49057488088134227 L 0.9998977787058376, -0.45848056898753303 L 1.014200910563151, -0.4259066951961138 L 1.0274432076847606, -0.39288733115544694 L 1.0396108188813986, -0.35945701448816936 L 0.945100744437635, -0.3267791040801539 L 0.9340392797134187, -0.35717030105040626 L 0.9220008277846827, -0.38718790472373976 L 0.9089979806416705, -0.4168005172613936 L 0.8950443390135554, -0.44597716443758384 L 0.984548772914911 ,-0.49057488088134227\", \"type\": \"path\"}, {\"fillcolor\": \"#aad0bc\", \"layer\": \"below\", \"line\": {\"color\": \"rgb(150,150,150)\", \"width\": 0.45}, \"path\": \"M 1.0503886513801795, -0.326624679183506 L 1.0613196155180071, -0.2891378109426535 L 1.0709131842599897, -0.25128659291360855 L 1.0791572685101776, -0.21311872236303528 L 1.0860414796917859, -0.17468229557936385 L 0.9873104360834417, -0.15880208689033076 L 0.9810520622819796, -0.19374429305730478 L 0.9735574402363542, -0.2284423571941896 L 0.9648360141072791, -0.26285255540241226 L 0.9548987739819812, -0.29693152653046 L 1.0503886513801795 ,-0.326624679183506\", \"type\": \"path\"}, {\"fillcolor\": \"#9cc9b4\", \"layer\": \"below\", \"line\": {\"color\": \"rgb(150,150,150)\", \"width\": 0.45}, \"path\": \"M 1.0909924872829042, -0.14048271314386757 L 1.094067978936409, -0.11408443130419477 L 1.0965048170575824, -0.0876195535797697 L 1.0983015791614381, -0.061103528633716375 L 1.0994572164023046, -0.03455183498594511 L 0.9995065603657315, -0.031410759078131914 L 0.9984559810558528, -0.05554866239428761 L 0.9968225609614384, -0.07965413961797244 L 0.9946072535785535, -0.10371311936744979 L 0.9918113520753674, -0.12771155740351595 L 1.0909924872829042 ,-0.14048271314386757\", \"type\": \"path\"}], \"showlegend\": false, \"template\": {\"data\": {\"bar\": [{\"error_x\": {\"color\": \"#2a3f5f\"}, \"error_y\": {\"color\": \"#2a3f5f\"}, \"marker\": {\"line\": {\"color\": \"#E5ECF6\", \"width\": 0.5}}, \"type\": \"bar\"}], \"barpolar\": [{\"marker\": {\"line\": {\"color\": \"#E5ECF6\", \"width\": 0.5}}, \"type\": \"barpolar\"}], \"carpet\": [{\"aaxis\": {\"endlinecolor\": \"#2a3f5f\", \"gridcolor\": \"white\", \"linecolor\": \"white\", \"minorgridcolor\": \"white\", \"startlinecolor\": \"#2a3f5f\"}, \"baxis\": {\"endlinecolor\": \"#2a3f5f\", \"gridcolor\": \"white\", \"linecolor\": \"white\", \"minorgridcolor\": \"white\", \"startlinecolor\": \"#2a3f5f\"}, \"type\": \"carpet\"}], \"choropleth\": [{\"colorbar\": {\"outlinewidth\": 0, \"ticks\": \"\"}, \"type\": \"choropleth\"}], \"contour\": [{\"colorbar\": {\"outlinewidth\": 0, \"ticks\": \"\"}, \"colorscale\": [[0.0, \"#0d0887\"], [0.1111111111111111, \"#46039f\"], [0.2222222222222222, \"#7201a8\"], [0.3333333333333333, \"#9c179e\"], [0.4444444444444444, \"#bd3786\"], [0.5555555555555556, \"#d8576b\"], [0.6666666666666666, \"#ed7953\"], [0.7777777777777778, \"#fb9f3a\"], [0.8888888888888888, \"#fdca26\"], [1.0, \"#f0f921\"]], \"type\": \"contour\"}], \"contourcarpet\": [{\"colorbar\": {\"outlinewidth\": 0, \"ticks\": \"\"}, \"type\": \"contourcarpet\"}], \"heatmap\": [{\"colorbar\": {\"outlinewidth\": 0, \"ticks\": \"\"}, \"colorscale\": [[0.0, \"#0d0887\"], [0.1111111111111111, \"#46039f\"], [0.2222222222222222, \"#7201a8\"], [0.3333333333333333, \"#9c179e\"], [0.4444444444444444, \"#bd3786\"], [0.5555555555555556, \"#d8576b\"], [0.6666666666666666, \"#ed7953\"], [0.7777777777777778, \"#fb9f3a\"], [0.8888888888888888, \"#fdca26\"], [1.0, \"#f0f921\"]], \"type\": \"heatmap\"}], \"heatmapgl\": [{\"colorbar\": {\"outlinewidth\": 0, \"ticks\": \"\"}, \"colorscale\": [[0.0, \"#0d0887\"], [0.1111111111111111, \"#46039f\"], [0.2222222222222222, \"#7201a8\"], [0.3333333333333333, \"#9c179e\"], [0.4444444444444444, \"#bd3786\"], [0.5555555555555556, \"#d8576b\"], [0.6666666666666666, \"#ed7953\"], [0.7777777777777778, \"#fb9f3a\"], [0.8888888888888888, \"#fdca26\"], [1.0, \"#f0f921\"]], \"type\": \"heatmapgl\"}], \"histogram\": [{\"marker\": {\"colorbar\": {\"outlinewidth\": 0, \"ticks\": \"\"}}, \"type\": \"histogram\"}], \"histogram2d\": [{\"colorbar\": {\"outlinewidth\": 0, \"ticks\": \"\"}, \"colorscale\": [[0.0, \"#0d0887\"], [0.1111111111111111, \"#46039f\"], [0.2222222222222222, \"#7201a8\"], [0.3333333333333333, \"#9c179e\"], [0.4444444444444444, \"#bd3786\"], [0.5555555555555556, \"#d8576b\"], [0.6666666666666666, \"#ed7953\"], [0.7777777777777778, \"#fb9f3a\"], [0.8888888888888888, \"#fdca26\"], [1.0, \"#f0f921\"]], \"type\": \"histogram2d\"}], \"histogram2dcontour\": [{\"colorbar\": {\"outlinewidth\": 0, \"ticks\": \"\"}, \"colorscale\": [[0.0, \"#0d0887\"], [0.1111111111111111, \"#46039f\"], [0.2222222222222222, \"#7201a8\"], [0.3333333333333333, \"#9c179e\"], [0.4444444444444444, \"#bd3786\"], [0.5555555555555556, \"#d8576b\"], [0.6666666666666666, \"#ed7953\"], [0.7777777777777778, \"#fb9f3a\"], [0.8888888888888888, \"#fdca26\"], [1.0, \"#f0f921\"]], \"type\": \"histogram2dcontour\"}], \"mesh3d\": [{\"colorbar\": {\"outlinewidth\": 0, \"ticks\": \"\"}, \"type\": \"mesh3d\"}], \"parcoords\": [{\"line\": {\"colorbar\": {\"outlinewidth\": 0, \"ticks\": \"\"}}, \"type\": \"parcoords\"}], \"pie\": [{\"automargin\": true, \"type\": \"pie\"}], \"scatter\": [{\"marker\": {\"colorbar\": {\"outlinewidth\": 0, \"ticks\": \"\"}}, \"type\": \"scatter\"}], \"scatter3d\": [{\"line\": {\"colorbar\": {\"outlinewidth\": 0, \"ticks\": \"\"}}, \"marker\": {\"colorbar\": {\"outlinewidth\": 0, \"ticks\": \"\"}}, \"type\": \"scatter3d\"}], \"scattercarpet\": [{\"marker\": {\"colorbar\": {\"outlinewidth\": 0, \"ticks\": \"\"}}, \"type\": \"scattercarpet\"}], \"scattergeo\": [{\"marker\": {\"colorbar\": {\"outlinewidth\": 0, \"ticks\": \"\"}}, \"type\": \"scattergeo\"}], \"scattergl\": [{\"marker\": {\"colorbar\": {\"outlinewidth\": 0, \"ticks\": \"\"}}, \"type\": \"scattergl\"}], \"scattermapbox\": [{\"marker\": {\"colorbar\": {\"outlinewidth\": 0, \"ticks\": \"\"}}, \"type\": \"scattermapbox\"}], \"scatterpolar\": [{\"marker\": {\"colorbar\": {\"outlinewidth\": 0, \"ticks\": \"\"}}, \"type\": \"scatterpolar\"}], \"scatterpolargl\": [{\"marker\": {\"colorbar\": {\"outlinewidth\": 0, \"ticks\": \"\"}}, \"type\": \"scatterpolargl\"}], \"scatterternary\": [{\"marker\": {\"colorbar\": {\"outlinewidth\": 0, \"ticks\": \"\"}}, \"type\": \"scatterternary\"}], \"surface\": [{\"colorbar\": {\"outlinewidth\": 0, \"ticks\": \"\"}, \"colorscale\": [[0.0, \"#0d0887\"], [0.1111111111111111, \"#46039f\"], [0.2222222222222222, \"#7201a8\"], [0.3333333333333333, \"#9c179e\"], [0.4444444444444444, \"#bd3786\"], [0.5555555555555556, \"#d8576b\"], [0.6666666666666666, \"#ed7953\"], [0.7777777777777778, \"#fb9f3a\"], [0.8888888888888888, \"#fdca26\"], [1.0, \"#f0f921\"]], \"type\": \"surface\"}], \"table\": [{\"cells\": {\"fill\": {\"color\": \"#EBF0F8\"}, \"line\": {\"color\": \"white\"}}, \"header\": {\"fill\": {\"color\": \"#C8D4E3\"}, \"line\": {\"color\": \"white\"}}, \"type\": \"table\"}]}, \"layout\": {\"annotationdefaults\": {\"arrowcolor\": \"#2a3f5f\", \"arrowhead\": 0, \"arrowwidth\": 1}, \"coloraxis\": {\"colorbar\": {\"outlinewidth\": 0, \"ticks\": \"\"}}, \"colorscale\": {\"diverging\": [[0, \"#8e0152\"], [0.1, \"#c51b7d\"], [0.2, \"#de77ae\"], [0.3, \"#f1b6da\"], [0.4, \"#fde0ef\"], [0.5, \"#f7f7f7\"], [0.6, \"#e6f5d0\"], [0.7, \"#b8e186\"], [0.8, \"#7fbc41\"], [0.9, \"#4d9221\"], [1, \"#276419\"]], \"sequential\": [[0.0, \"#0d0887\"], [0.1111111111111111, \"#46039f\"], [0.2222222222222222, \"#7201a8\"], [0.3333333333333333, \"#9c179e\"], [0.4444444444444444, \"#bd3786\"], [0.5555555555555556, \"#d8576b\"], [0.6666666666666666, \"#ed7953\"], [0.7777777777777778, \"#fb9f3a\"], [0.8888888888888888, \"#fdca26\"], [1.0, \"#f0f921\"]], \"sequentialminus\": [[0.0, \"#0d0887\"], [0.1111111111111111, \"#46039f\"], [0.2222222222222222, \"#7201a8\"], [0.3333333333333333, \"#9c179e\"], [0.4444444444444444, \"#bd3786\"], [0.5555555555555556, \"#d8576b\"], [0.6666666666666666, \"#ed7953\"], [0.7777777777777778, \"#fb9f3a\"], [0.8888888888888888, \"#fdca26\"], [1.0, \"#f0f921\"]]}, \"colorway\": [\"#636efa\", \"#EF553B\", \"#00cc96\", \"#ab63fa\", \"#FFA15A\", \"#19d3f3\", \"#FF6692\", \"#B6E880\", \"#FF97FF\", \"#FECB52\"], \"font\": {\"color\": \"#2a3f5f\"}, \"geo\": {\"bgcolor\": \"white\", \"lakecolor\": \"white\", \"landcolor\": \"#E5ECF6\", \"showlakes\": true, \"showland\": true, \"subunitcolor\": \"white\"}, \"hoverlabel\": {\"align\": \"left\"}, \"hovermode\": \"closest\", \"mapbox\": {\"style\": \"light\"}, \"paper_bgcolor\": \"white\", \"plot_bgcolor\": \"#E5ECF6\", \"polar\": {\"angularaxis\": {\"gridcolor\": \"white\", \"linecolor\": \"white\", \"ticks\": \"\"}, \"bgcolor\": \"#E5ECF6\", \"radialaxis\": {\"gridcolor\": \"white\", \"linecolor\": \"white\", \"ticks\": \"\"}}, \"scene\": {\"xaxis\": {\"backgroundcolor\": \"#E5ECF6\", \"gridcolor\": \"white\", \"gridwidth\": 2, \"linecolor\": \"white\", \"showbackground\": true, \"ticks\": \"\", \"zerolinecolor\": \"white\"}, \"yaxis\": {\"backgroundcolor\": \"#E5ECF6\", \"gridcolor\": \"white\", \"gridwidth\": 2, \"linecolor\": \"white\", \"showbackground\": true, \"ticks\": \"\", \"zerolinecolor\": \"white\"}, \"zaxis\": {\"backgroundcolor\": \"#E5ECF6\", \"gridcolor\": \"white\", \"gridwidth\": 2, \"linecolor\": \"white\", \"showbackground\": true, \"ticks\": \"\", \"zerolinecolor\": \"white\"}}, \"shapedefaults\": {\"line\": {\"color\": \"#2a3f5f\"}}, \"ternary\": {\"aaxis\": {\"gridcolor\": \"white\", \"linecolor\": \"white\", \"ticks\": \"\"}, \"baxis\": {\"gridcolor\": \"white\", \"linecolor\": \"white\", \"ticks\": \"\"}, \"bgcolor\": \"#E5ECF6\", \"caxis\": {\"gridcolor\": \"white\", \"linecolor\": \"white\", \"ticks\": \"\"}}, \"title\": {\"x\": 0.05}, \"xaxis\": {\"automargin\": true, \"gridcolor\": \"white\", \"linecolor\": \"white\", \"ticks\": \"\", \"title\": {\"standoff\": 15}, \"zerolinecolor\": \"white\", \"zerolinewidth\": 2}, \"yaxis\": {\"automargin\": true, \"gridcolor\": \"white\", \"linecolor\": \"white\", \"ticks\": \"\", \"title\": {\"standoff\": 15}, \"zerolinecolor\": \"white\", \"zerolinewidth\": 2}}}, \"title\": {\"font\": {\"color\": \"#655643\", \"family\": \"Merryweather\", \"size\": 18}, \"text\": \"Data Jobs \\u2012 Technologies in Demand and Relationships Between Them\"}, \"width\": 960, \"xaxis\": {\"showgrid\": false, \"showline\": false, \"showticklabels\": false, \"title\": {\"text\": \"\"}, \"zeroline\": false}, \"yaxis\": {\"showgrid\": false, \"showline\": false, \"showticklabels\": false, \"title\": {\"text\": \"\"}, \"zeroline\": false}},\n",
       "                        {\"responsive\": true}\n",
       "                    ).then(function(){\n",
       "                            \n",
       "var gd = document.getElementById('f3da95a7-56ea-47af-8560-befec7f513ba');\n",
       "var x = new MutationObserver(function (mutations, observer) {{\n",
       "        var display = window.getComputedStyle(gd).display;\n",
       "        if (!display || display === 'none') {{\n",
       "            console.log([gd, 'removed!']);\n",
       "            Plotly.purge(gd);\n",
       "            observer.disconnect();\n",
       "        }}\n",
       "}});\n",
       "\n",
       "// Listen for the removal of the full notebook cells\n",
       "var notebookContainer = gd.closest('#notebook-container');\n",
       "if (notebookContainer) {{\n",
       "    x.observe(notebookContainer, {childList: true});\n",
       "}}\n",
       "\n",
       "// Listen for the clearing of the current output cell\n",
       "var outputEl = gd.closest('.output');\n",
       "if (outputEl) {{\n",
       "    x.observe(outputEl, {childList: true});\n",
       "}}\n",
       "\n",
       "                        })\n",
       "                };\n",
       "                });\n",
       "            </script>\n",
       "        </div>"
      ]
     },
     "metadata": {},
     "output_type": "display_data"
    }
   ],
   "source": [
    "fig = go.Figure(data=data, layout=layout)\n",
    "\n",
    "plotly.offline.iplot(fig, filename='data_offers_total_requirement_relationships_chord.html')"
   ]
  },
  {
   "cell_type": "code",
   "execution_count": 34,
   "metadata": {},
   "outputs": [
    {
     "data": {
      "text/plain": [
       "'data_offers_total_requirement_relationships_chord.html'"
      ]
     },
     "execution_count": 34,
     "metadata": {},
     "output_type": "execute_result"
    }
   ],
   "source": [
    "# Uncomment the line below to export an HTML version of the chart.\n",
    "plotly.offline.plot(fig, filename='data_offers_total_requirement_relationships_chord.html', show_link=False)"
   ]
  },
  {
   "cell_type": "markdown",
   "metadata": {},
   "source": [
    "### Resources:\n",
    "\n",
    "- https://plot.ly/python/filled-chord-diagram/\n",
    "- https://hci.stanford.edu/courses/cs448b/f11/lectures/CS448B-20111117-Text.pdf"
   ]
  },
  {
   "cell_type": "code",
   "execution_count": 31,
   "metadata": {},
   "outputs": [
    {
     "data": {
      "text/html": [
       "<style>\n",
       "@import url('https://fonts.googleapis.com/css?family=Fira+Mono|Fira+Sans|Fira+Sans+Condensed|Fira+Sans+Extra+Condensed');\n",
       "@import url('https://fonts.googleapis.com/css?family=Merriweather|Merriweather+Sans');\n",
       "\n",
       ".nbviewer {\n",
       "    background-color: #E5E1D8;\n",
       "}\n",
       "\n",
       "#notebook {\n",
       "    background-color: #E5E1D8;\n",
       "}\n",
       "\n",
       "#notebook-container {\n",
       "    background-color: #FFFAF0;\n",
       "    max-width: 1100px;\n",
       "    padding: 50px;\n",
       "    border-radius: 4px;\n",
       "    -webkit-box-shadow: 0px 0px 12px 1px rgba(101,86,67,0.75);\n",
       "    -moz-box-shadow: 0px 0px 12px 1px rgba(101,86,67,0.75);\n",
       "    box-shadow: 0px 0px 12px 1px rgba(101,86,67,0.75);\n",
       "}\n",
       "\n",
       "/* Jupyter Notebook Header Styling */\n",
       "body > #header {\n",
       "    background-color:#fafafa;\n",
       "}\n",
       "\n",
       "#header #menubar #menus {\n",
       "    background-color:#fefefe;\n",
       "}\n",
       "\n",
       "/* Headings */\n",
       ".text_cell_render h1 {\n",
       "    color: #655B4F;\n",
       "    font-family: 'Merriweather', serif;\n",
       "    font-weight: 900;\n",
       "    text-align: center;\n",
       "    font-size: 2.5em;\n",
       "    padding: 40px 0 12px 0;\n",
       "    text-shadow: 0 2px #FFFAF0, 0 3px #8c8b8b;\n",
       "}\n",
       "\n",
       ".text_cell_render h2 {\n",
       "    color: #655B4F;\n",
       "    font-family: 'Merriweather', serif;\n",
       "    font-weight: 600;\n",
       "    font-size: 2.2em;\n",
       "    text-indent: 22px;\n",
       "    padding: 40px 0 6px 0;\n",
       "    margin-bottom: 24px;\n",
       "    border-bottom: 1px solid #655B4F;\n",
       "}\n",
       "\n",
       ".text_cell_render h3 {\n",
       "    color: #655B4F;\n",
       "    font-family: 'Merriweather', serif;\n",
       "    font-weight: 300;\n",
       "    padding: 6px 0 0 0;\n",
       "    font-size: 1.6em;\n",
       "}\n",
       "\n",
       ".text_cell_render h4 {\n",
       "    color: #655B4F;\n",
       "    font-family: 'Merriweather', serif;\n",
       "    font-weight: 100;\n",
       "    font-size: 1.2em;\n",
       "}\n",
       "\n",
       "/* Use for subtitles and other non-headings */\n",
       "div.rendered_html > h5 {\n",
       "    font-family: 'Merriweather', serif;\n",
       "    line-height: 1.5em;\n",
       "    color: #655B4F;\n",
       "    font-weight: 200;\n",
       "    font-style: normal important!;\n",
       "    text-indent: 22px;\n",
       "    text-align: center;\n",
       "    margin-top: 0.5em;\n",
       "    padding: 6px 0 6px 0;\n",
       "    border-bottom: 1px solid #655B4F;\n",
       "    border-top: 1px solid #655B4F;\n",
       "}\n",
       "\n",
       "/* Use for image and chart captions */\n",
       "div.rendered_html > h6 {\n",
       "    font-family: 'Merriweather Sans', sans-serif;\n",
       "    font-size: 0.9em;\n",
       "    line-height: 1.5em;\n",
       "    color: #cac8c9;\n",
       "    font-weight: normal;\n",
       "    max-width: 525px;\n",
       "    display: block;\n",
       "    margin-left: auto;\n",
       "    margin-right: auto;\n",
       "}\n",
       "\n",
       "div#notebook-container p {\n",
       "    font-family: 'Fira Sans Condensed', sans-serif;\n",
       "    font-size: 1.2em;\n",
       "    line-height: 1.3em;\n",
       "    color: #655B4F;\n",
       "}\n",
       "\n",
       "/* Plotly Exported Charts Styling */\n",
       ".js-plotly-plot .plotly,\n",
       ".js-plotly-plot .plotly div {\n",
       "    direction: ltr;\n",
       "    font-family: \"Fira Sans Extra Condensed\", verdana, arial, sans-serif;\n",
       "}\n",
       "\n",
       "/* Lists */\n",
       "ol, ul {\n",
       "    font-family: 'Fira Sans Condensed', sans-serif;\n",
       "    line-height: 1.3em;\n",
       "    color: #655B4F;\n",
       "}\n",
       "\n",
       "div.input_prompt {\n",
       "    color: #aad0bc;\n",
       "    font-size: 0.7em;\n",
       "}\n",
       "\n",
       "div.output_prompt {\n",
       "    color: #aad0bc;\n",
       "    font-size: 0.7em;\n",
       "}\n",
       "\n",
       "div.prompt {\n",
       "    min-width: 2ex;\n",
       "}\n",
       "\n",
       "div.output_subarea {\n",
       "    min-width: 425px;\n",
       "    max-width: calc(100% - 1ex);\n",
       "    padding: 0;\n",
       "}\n",
       "\n",
       "div.text_cell code {\n",
       "    padding: 2px;\n",
       "    background-color: #E5E1D8;\n",
       "    color: #483F3A;\n",
       "    font-family: 'Fira Mono', monospace;\n",
       "    font-size: 0.9em;\n",
       "}\n",
       "\n",
       "div.input_area {\n",
       "    background-color: #FFFAF0;\n",
       "    border: 1px solid #E5E1D8;\n",
       "    background: repeating-linear-gradient(135deg, #FFFAF0, #FFFAF0 5px, #F7F7ED 5px, #F7F7ED 10px);\n",
       "}\n",
       "\n",
       "div.cell.rendered.selected {\n",
       "    background: #F7F7ED;\n",
       "    border: 1px solid #293C34;\n",
       "}\n",
       "\n",
       "div.output_area img {\n",
       "    display: block;\n",
       "    margin-left: auto;\n",
       "    margin-right: auto;\n",
       "}\n",
       "\n",
       "div.rendered_html pre, code {\n",
       "    font-family: 'Fira Sans Condensed', sans-serif;\n",
       "    font-size: 16px;\n",
       "    font-weight: 400;\n",
       "    color: #40362F;\n",
       "    background-color: #E5E1D8;\n",
       "}\n",
       "\n",
       "div.output_text pre {\n",
       "    font-family: 'Fira Sans Condensed', sans-serif;\n",
       "    font-size: 13px;\n",
       "    font-weight: 300;\n",
       "    color: #40362F;\n",
       "}\n",
       "\n",
       "\n",
       "pre, textarea {\n",
       "    overflow: hidden;\n",
       "}\n",
       "\n",
       "div.text_cell_render img {\n",
       "    max-height: 550px;\n",
       "    display: block;\n",
       "    margin-left: auto;\n",
       "    margin-right: auto;\n",
       "}\n",
       "\n",
       "div.output output_scroll {\n",
       "    overflow-x: auto;\n",
       "    overflow-y: scroll;\n",
       "    max-height: 2000px;\n",
       "}\n",
       "\n",
       "div.rendered_html hr {\n",
       "    border: 0;\n",
       "    height: 1px;\n",
       "    background-color: #655B4F;\n",
       "}\n",
       "\n",
       "div.rendered_html pre, code {\n",
       "    color: #40362F;\n",
       "    background-color: #FFFAF0;\n",
       "}\n",
       "\n",
       "/* Links */\n",
       "a.link--embedview {\n",
       "    display: none;\n",
       "}\n",
       "\n",
       "a:link {\n",
       "    color: #293C34;\n",
       "}\n",
       "\n",
       "a:visited {\n",
       "    color: #293C34;\n",
       "}\n",
       "\n",
       "a:hover {\n",
       "    color: #557C6C;\n",
       "}\n",
       "\n",
       "a:focus {\n",
       "    color:#557C6C;\n",
       "}\n",
       "\n",
       "a:active {\n",
       "    font-weight: bold;\n",
       "    color:#80BCA3;\n",
       "}\n",
       "\n",
       ".rendered_html :link {\n",
       "    text-decoration: underline;\n",
       "}\n",
       "\n",
       "/* Colors for code highlighting */\n",
       ".CodeMirror pre {\n",
       "    font-family: 'Fira Mono', monospace;\n",
       "    font-size: 0.9em;\n",
       "    font-weight: 600;\n",
       "}\n",
       "\n",
       ".CodeMirror-code span.cm-keyword,\n",
       ".highlight .k,\n",
       ".highlight .ow {\n",
       "    color: #5F362E;\n",
       "}\n",
       "\n",
       ".CodeMirror-code span.cm-variable,\n",
       ".highlight .na {\n",
       "    color: #655B4F;\n",
       "}\n",
       "\n",
       ".CodeMirror-code span.cm-property {\n",
       "    color: #655B4F;\n",
       "}\n",
       "\n",
       ".CodeMirror-code span.cm-def {\n",
       "    color: #293C34;\n",
       "}\n",
       "\n",
       ".CodeMirror-code span.cm-operator {\n",
       "    color: #655B4F;\n",
       "}\n",
       "\n",
       ".CodeMirror-code span.cm-string,\n",
       ".highlight .s {\n",
       "    color: #0B7761;\n",
       "}\n",
       "\n",
       ".CodeMirror-code span.cm-number,\n",
       ".highlight .mb, .highlight .mf, .highlight .mh, .highlight .mi, .highlight .mo {\n",
       "    color: #265BCA;\n",
       "}\n",
       "\n",
       ".CodeMirror-code span.cm-comment,\n",
       ".highlight .c1, .highlight .cs {\n",
       "    color: #75AC95;\n",
       "}\n",
       "\n",
       ".CodeMirror-code span.cm-builtin,\n",
       ".highlight .nb {\n",
       "    color: #5F362E;\n",
       "}\n",
       "\n",
       "/* Code with no class applied (brackets mostly) */\n",
       ".CodeMirror-line > span {\n",
       "    color: #72614B;\n",
       "}\n",
       "\n",
       "/* Table styles */\n",
       "table {\n",
       "    border: 1px solid #BF4D28;\n",
       "}\n",
       "\n",
       "\n",
       ".rendered_html table th {\n",
       "    color: #40362F;\n",
       "    text-align: left;\n",
       "    background-color: #f2e6ce;\n",
       "}\n",
       "\n",
       ".rendered_html td {\n",
       "    color: #40362F;\n",
       "    text-align: left;\n",
       "}\n",
       "\n",
       ".rendered_html table tr:nth-child(odd) {\n",
       "    background-color: #F7F7ED;\n",
       "}\n",
       "\n",
       ".rendered_html table tr:nth-child(even) {\n",
       "    background-color: #FFFAF0;\n",
       "}\n",
       "\n",
       "iframe {\n",
       "    border-width: 0;\n",
       "}\n",
       "\n",
       "@media only screen and (max-width: 600px) {\n",
       "    #notebook-container {\n",
       "        background-color: #FFFAF0;\n",
       "        padding: 15px;\n",
       "        border-radius: 4px;\n",
       "        -webkit-box-shadow: 0px 0px 12px 1px rgba(101,86,67,0.75);\n",
       "        -moz-box-shadow: 0px 0px 12px 1px rgba(101,86,67,0.75);\n",
       "        box-shadow: 0px 0px 12px 1px rgba(101,86,67,0.75);\n",
       "    }\n",
       "\n",
       "    .text_cell_render h1,\n",
       "    .text_cell_render h2 {\n",
       "        text-indent: 0;\n",
       "        text-align: left;\n",
       "        padding: 40px 22px 12px 22px;\n",
       "    }\n",
       "}\n",
       "\n",
       "</style>\n"
      ],
      "text/plain": [
       "<IPython.core.display.HTML object>"
      ]
     },
     "execution_count": 31,
     "metadata": {},
     "output_type": "execute_result"
    }
   ],
   "source": [
    "from IPython.core.display import HTML\n",
    "with open('../resources/styles/datum.css', 'r') as f:\n",
    "    style = f.read()\n",
    "HTML(style)"
   ]
  },
  {
   "cell_type": "code",
   "execution_count": null,
   "metadata": {},
   "outputs": [],
   "source": []
  }
 ],
 "metadata": {
  "kernelspec": {
   "display_name": "Python 3",
   "language": "python",
   "name": "python3"
  },
  "language_info": {
   "codemirror_mode": {
    "name": "ipython",
    "version": 3
   },
   "file_extension": ".py",
   "mimetype": "text/x-python",
   "name": "python",
   "nbconvert_exporter": "python",
   "pygments_lexer": "ipython3",
   "version": "3.8.2"
  }
 },
 "nbformat": 4,
 "nbformat_minor": 2
}
