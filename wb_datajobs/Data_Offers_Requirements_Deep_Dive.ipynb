{
 "cells": [
  {
   "cell_type": "markdown",
   "metadata": {},
   "source": [
    "## Requirements Deep Dive\n"
   ]
  },
  {
   "cell_type": "code",
   "execution_count": 1,
   "metadata": {},
   "outputs": [],
   "source": [
    "import re\n",
    "from collections import Counter\n",
    "from itertools import combinations, product\n",
    "import psycopg2\n",
    "import numpy as np\n",
    "import pandas as pd\n",
    "from bs4 import BeautifulSoup as bs\n",
    "\n",
    "import string\n",
    "import nltk\n",
    "from nltk import FreqDist, tokenize\n",
    "from nltk.corpus import stopwords\n",
    "from nltk.collocations import *\n",
    "\n",
    "from nbstyler import DATA_STYLE as DS\n",
    "\n",
    "bigram_measures = nltk.collocations.BigramAssocMeasures()\n",
    "trigram_measures = nltk.collocations.TrigramAssocMeasures()\n",
    "\n",
    "%matplotlib notebook\n",
    "%matplotlib inline"
   ]
  },
  {
   "cell_type": "markdown",
   "metadata": {},
   "source": [
    "### Data preparation"
   ]
  },
  {
   "cell_type": "code",
   "execution_count": 2,
   "metadata": {},
   "outputs": [],
   "source": [
    "data_querystr = \"\"\"SELECT * FROM data_offers.do_full_offer_history\"\"\"\n",
    "conn = psycopg2.connect('dbname=jobsbg')\n",
    "data_df = pd.read_sql_query(data_querystr, conn, index_col='subm_date')\n",
    "conn.close()"
   ]
  },
  {
   "cell_type": "code",
   "execution_count": 3,
   "metadata": {},
   "outputs": [
    {
     "data": {
      "text/html": [
       "<div>\n",
       "<style scoped>\n",
       "    .dataframe tbody tr th:only-of-type {\n",
       "        vertical-align: middle;\n",
       "    }\n",
       "\n",
       "    .dataframe tbody tr th {\n",
       "        vertical-align: top;\n",
       "    }\n",
       "\n",
       "    .dataframe thead th {\n",
       "        text-align: right;\n",
       "    }\n",
       "</style>\n",
       "<table border=\"1\" class=\"dataframe\">\n",
       "  <thead>\n",
       "    <tr style=\"text-align: right;\">\n",
       "      <th></th>\n",
       "      <th>subm_type</th>\n",
       "      <th>job_id</th>\n",
       "      <th>company_id</th>\n",
       "      <th>norm_salary</th>\n",
       "      <th>job_title</th>\n",
       "      <th>company_name</th>\n",
       "      <th>text_salary</th>\n",
       "      <th>job_location</th>\n",
       "      <th>job_contents</th>\n",
       "    </tr>\n",
       "    <tr>\n",
       "      <th>subm_date</th>\n",
       "      <th></th>\n",
       "      <th></th>\n",
       "      <th></th>\n",
       "      <th></th>\n",
       "      <th></th>\n",
       "      <th></th>\n",
       "      <th></th>\n",
       "      <th></th>\n",
       "      <th></th>\n",
       "    </tr>\n",
       "  </thead>\n",
       "  <tbody>\n",
       "    <tr>\n",
       "      <th>2019-09-12</th>\n",
       "      <td>submission</td>\n",
       "      <td>5045017</td>\n",
       "      <td>67058</td>\n",
       "      <td>NaN</td>\n",
       "      <td>Experienced ETL Developer</td>\n",
       "      <td>Adastra Bulgaria Ltd.</td>\n",
       "      <td>None</td>\n",
       "      <td>София</td>\n",
       "      <td>&lt;!DOCTYPE html PUBLIC \"-//W3C//DTD XHTML 1.0 ...</td>\n",
       "    </tr>\n",
       "    <tr>\n",
       "      <th>2019-02-28</th>\n",
       "      <td>submission</td>\n",
       "      <td>4739592</td>\n",
       "      <td>52527</td>\n",
       "      <td>NaN</td>\n",
       "      <td>Data Warehouse Developer</td>\n",
       "      <td>Менпауър България ООД</td>\n",
       "      <td>None</td>\n",
       "      <td>София</td>\n",
       "      <td>&lt;!DOCTYPE html PUBLIC \"-//W3C//DTD XHTML 1.0 ...</td>\n",
       "    </tr>\n",
       "    <tr>\n",
       "      <th>2018-04-24</th>\n",
       "      <td>resubmission</td>\n",
       "      <td>4290468</td>\n",
       "      <td>675</td>\n",
       "      <td>NaN</td>\n",
       "      <td>Risk Reporting Specialist</td>\n",
       "      <td>Paysafe Bulgaria EOOD</td>\n",
       "      <td>None</td>\n",
       "      <td>София</td>\n",
       "      <td>&lt;!DOCTYPE html PUBLIC \"-//W3C//DTD XHTML 1.0 ...</td>\n",
       "    </tr>\n",
       "    <tr>\n",
       "      <th>2019-03-29</th>\n",
       "      <td>submission</td>\n",
       "      <td>4787667</td>\n",
       "      <td>17851</td>\n",
       "      <td>NaN</td>\n",
       "      <td>Data Privacy Analyst - Temporary position</td>\n",
       "      <td>SENSATA TECHNOLOGIES BULGARIA Ltd.</td>\n",
       "      <td>None</td>\n",
       "      <td>София</td>\n",
       "      <td>&lt;!DOCTYPE html PUBLIC \"-//W3C//DTD XHTML 1.0 ...</td>\n",
       "    </tr>\n",
       "    <tr>\n",
       "      <th>2018-12-20</th>\n",
       "      <td>submission</td>\n",
       "      <td>4649285</td>\n",
       "      <td>52527</td>\n",
       "      <td>NaN</td>\n",
       "      <td>ETL Developer</td>\n",
       "      <td>Менпауър България ООД</td>\n",
       "      <td>None</td>\n",
       "      <td>София</td>\n",
       "      <td>&lt;!DOCTYPE html PUBLIC \"-//W3C//DTD XHTML 1.0 ...</td>\n",
       "    </tr>\n",
       "  </tbody>\n",
       "</table>\n",
       "</div>"
      ],
      "text/plain": [
       "               subm_type   job_id  company_id  norm_salary  \\\n",
       "subm_date                                                    \n",
       "2019-09-12    submission  5045017       67058          NaN   \n",
       "2019-02-28    submission  4739592       52527          NaN   \n",
       "2018-04-24  resubmission  4290468         675          NaN   \n",
       "2019-03-29    submission  4787667       17851          NaN   \n",
       "2018-12-20    submission  4649285       52527          NaN   \n",
       "\n",
       "                                            job_title  \\\n",
       "subm_date                                               \n",
       "2019-09-12                  Experienced ETL Developer   \n",
       "2019-02-28                   Data Warehouse Developer   \n",
       "2018-04-24                  Risk Reporting Specialist   \n",
       "2019-03-29  Data Privacy Analyst - Temporary position   \n",
       "2018-12-20                              ETL Developer   \n",
       "\n",
       "                                  company_name text_salary job_location  \\\n",
       "subm_date                                                                 \n",
       "2019-09-12               Adastra Bulgaria Ltd.        None        София   \n",
       "2019-02-28               Менпауър България ООД        None        София   \n",
       "2018-04-24               Paysafe Bulgaria EOOD        None        София   \n",
       "2019-03-29  SENSATA TECHNOLOGIES BULGARIA Ltd.        None        София   \n",
       "2018-12-20               Менпауър България ООД        None        София   \n",
       "\n",
       "                                                 job_contents  \n",
       "subm_date                                                      \n",
       "2019-09-12   <!DOCTYPE html PUBLIC \"-//W3C//DTD XHTML 1.0 ...  \n",
       "2019-02-28   <!DOCTYPE html PUBLIC \"-//W3C//DTD XHTML 1.0 ...  \n",
       "2018-04-24   <!DOCTYPE html PUBLIC \"-//W3C//DTD XHTML 1.0 ...  \n",
       "2019-03-29   <!DOCTYPE html PUBLIC \"-//W3C//DTD XHTML 1.0 ...  \n",
       "2018-12-20   <!DOCTYPE html PUBLIC \"-//W3C//DTD XHTML 1.0 ...  "
      ]
     },
     "execution_count": 3,
     "metadata": {},
     "output_type": "execute_result"
    }
   ],
   "source": [
    "data_df.head(5)"
   ]
  },
  {
   "cell_type": "code",
   "execution_count": 4,
   "metadata": {},
   "outputs": [],
   "source": [
    "def check_archive_content(job_id):\n",
    "    conn = psycopg2.connect('dbname=jobsbg')\n",
    "    cur = conn.cursor()\n",
    "    query = f'SELECT * FROM f_get_offer_contents_by_job_id({job_id})'\n",
    "    cur.execute(query)\n",
    "    result = cur.fetchone()\n",
    "    cur.close()\n",
    "    conn.close()\n",
    "    return result[0]\n",
    "\n",
    "\n",
    "# moved on to `build_nltk_freqdist()` to tackle bigrams and n-grams.\n",
    "def build_counter(job_contents):\n",
    "    contents_soup = bs(job_contents, 'html.parser')\n",
    "    job_container = contents_soup.find('td', {'class': 'explainGray'}).parent.parent.parent.parent.parent\n",
    "    if job_container.find('style'):\n",
    "        job_container.find('style').decompose()\n",
    "    job_text = job_container.get_text().lower()\n",
    "    job_wordlist = re.findall(r\"['\\w']+\", job_text)\n",
    "    counter = Counter(job_wordlist)\n",
    "    return counter\n",
    "\n",
    "\n",
    "def build_nltk_tokenlist(job_contents, stopwords):\n",
    "    contents_soup = bs(job_contents, 'html.parser')\n",
    "    job_container = contents_soup.find('td', {'class': 'explainGray'}).parent.parent.parent.parent.parent\n",
    "    if job_container.find('style'):\n",
    "        job_container.find('style').decompose()\n",
    "    job_text = job_container.get_text().lower() \n",
    "    nltk_ready = [word.lower() for word in tokenize.word_tokenize(job_text) if word.lower() not in stoplist and not word.isdigit()]\n",
    "    return nltk_ready\n",
    "\n",
    "\n",
    "def calc_nltk_bigrams_fdist(wlist):\n",
    "    bigrams = nltk.bigrams(wlist)\n",
    "    fdist = nltk.FreqDist(bigrams)\n",
    "    return fdist\n",
    "\n",
    "\n",
    "def calc_nltk_trigrams_fdist(wlist):\n",
    "    trigrams = nltk.trigrams(wlist)\n",
    "    fdist = nltk.FreqDist(trigrams)\n",
    "    return fdist    "
   ]
  },
  {
   "cell_type": "markdown",
   "metadata": {},
   "source": [
    "#### Counting individual word occurrencies (depr)\n",
    "\n",
    "1. Get soup\n",
    "2. Get `.explainGray` and traverse up the tree 5 times. This is the job contents table.\n",
    "3. Remove any injected styles from the job contents."
   ]
  },
  {
   "cell_type": "code",
   "execution_count": 5,
   "metadata": {},
   "outputs": [
    {
     "data": {
      "text/plain": [
       "' <!DOCTYPE html PUBLIC \"-//W3C//DTD XHTML 1.0 Transitional//EN\" \"http://www.w3.org/TR/xhtml1/DTD/xhtml1-transitional.dtd\">\\n\\n<html xmlns=\"http://www.w3.org/1999/xhtml\">\\n<head>\\n<title>JOBS.BG - Data Analyst with Russian and English, Варна, обява за работа от Е-МОТИВ БГ ООД</title>\\n<base href=\"https://www.jobs.bg/\"/>\\n<meta content=\"default-src \\'self\\' \\'unsafe-inline\\' \\'unsafe-eval\\' http://*.jobs.bg https://*.jobs.bg wss://im.jobs.bg http://www.box.bg https://www.box.bg http://www.google-analytics.com https://www.google-analytics.com http://i.newsroom.bg https://i.newsroom.bg https://*.youtube.com http://*.youtube.com https://*.youtube-nocookie.com http://*.youtube-nocookie.com http://*.googleapis.com https://*.googleapis.com http://*.gstatic.com https://*.gstatic.com; img-src \\'self\\' data: http://*.jobs.bg https://*.jobs.bg wss://im.jobs.bg http://www.box.bg https://www.box.bg http://www.google-analytics.com https://www.google-analytics.com http://i.newsroom.bg https://i.newsroom.bg https://*.youtube.com http://*.youtube.com https://*.youtube-nocookie.com http://*.youtube-nocookie.com http://*.googleapis.com https://*.googleapis.com http://*.gstatic.com https://*.gstatic.com;\" http-equiv=\"Content-Security-Policy\"/>\\n<meta content=\"E-Motive is a trusted service provider for multichannel solutions, that operates worldwide.    Our team sells, optimizes and provides customer service ...\" name=\"description\"/>\\n<link href=\"https://www.jobs.bg/job/5105652\" rel=\"canonical\"/>\\n<link href=\"https://m3.jobs.bg/job/5105652\" media=\"only screen and (max-width: 640px)\" rel=\"alternate\"/>\\n<meta content=\"text/html; charset=utf-8\" http-equiv=\"Content-Type\"/>\\n<script language=\"javascript\" src=\"https://assets.jobs.bg/desktop/jscripts/jquery-3.3.1.min.js?v=1\"></script>\\n<script language=\"javascript\" src=\"https://assets.jobs.bg/desktop/jscripts/main.js?v=7\"></script>\\n<link href=\"https://assets.jobs.bg/desktop/css/jobsbg.css?v=14\" rel=\"stylesheet\" type=\"text/css\"/>\\n<link href=\"https://assets.jobs.bg/desktop/css/icons.css?v=1\" rel=\"stylesheet\"/>\\n</head>\\n<body bgcolor=\"#FFFFFF\" leftmargin=\"0\" marginheight=\"0\" marginwidth=\"0\" topmargin=\"0\">\\n<a name=\"paging\"></a>\\n<table align=\"center\" border=\"0\" cellpadding=\"0\" cellspacing=\"0\" width=\"980\">\\n<script>\\n\\t\\t\\t\\t\\tfunction closeCookieBar () {\\n\\t\\t\\t\\t\\t\\t var d = new Date();\\n\\t\\t\\t\\t\\t\\t d.setTime(d.getTime() + (180*24*60*60*1000));\\n\\t\\t\\t\\t\\t\\t document.cookie = \"HIDE_COOKIES_INFOBOX=1; expires=\" + d.toUTCString();\\n\\t\\t\\t\\t\\t\\t document.getElementById(\\'cookie_bar\\').style.display = \\'none\\';\\n\\t\\t\\t\\t\\t}\\n\\t\\t\\t\\t</script>\\n<tr id=\"cookie_bar\">\\n<td colspan=\"2\" style=\"background-color:#efefef;padding:7px 15px 7px 10px;border-bottom:1px solid #cccccc;\">\\n<table border=\"0\" cellpadding=\"0\" cellspacing=\"0\" style=\"width:100%;\">\\n<tr>\\n<td align=\"center\" valign=\"middle\">Използвайки Jobs.bg, Вие се съгласявате с <a class=\"MainLink\" href=\"terms.php#doc_5\">\"Политика за използване на Cookies/Бисквитки\"</a>, необходими за пълната функционалност на услугата.</td>\\n<td align=\"right\" style=\"width:25px;\" valign=\"middle\"><a class=\"MainLink\" href=\"javascript:;\" onclick=\"closeCookieBar();\" style=\"float:right;vertical-align:middle;\">[X]</a></td>\\n</tr>\\n</table>\\n</td>\\n</tr>\\n<tr>\\n<td style=\"height:50px;background-color:#802990;padding-left:15px;width:75px;\" valign=\"middle\">\\n<a href=\"https://www.jobs.bg/\"><img border=\"0\" src=\"https://assets.jobs.bg/desktop/images/jobslogo.gif\" style=\"width:77px;\"/></a>\\n</td>\\n<td style=\"background-color:#802990;padding-left:30px;\" valign=\"middle\">\\n<div style=\"float:right;padding-left:30px;padding-right:15px;height:45px;line-height:45px;\">\\n<a class=\"menu_header_sel\" href=\"change_lang.php?new_lang=en&amp;rpath=/front_job_view.php&amp;job_sid=5105652\" id=\"change_lang_lnk\" rel=\"nofollow\">EN</a>\\n</div>\\n<div style=\"float:right;padding-right:20px;margin-top:7px;\">\\n<div style=\"height:27px;padding-top:4px;float:left;margin-right:7px;\"><img border=\"0\" src=\"https://assets.jobs.bg/desktop/images/menu_login_ico2.gif\" style=\"width:20px;\"/></div></div></td></tr></table></body></html>\\n<div style=\"float:left;\">\\n<span class=\"menu_header_small\" style=\"display:block;\">Вход и регистрация</span>\\n<span style=\"display:block;margin-top:2px;\">\\n<a class=\"menu_header_sel\" href=\"c_login.php\">Фирми</a><span style=\"color:#FFFFFF;font-weight:bold;\">\\xa0|\\xa0</span><a class=\"menu_header_sel\" href=\"login.php\">Потребители</a>\\n</span>\\n</div>\\n\\n\\n\\n\\n<table align=\"center\" border=\"0\" cellpadding=\"0\" cellspacing=\"0\" width=\"980\">\\n<tr>\\n<td style=\"padding-top:5px;\" valign=\"top\" width=\"980\">\\n<table style=\"width:980px;\">\\n<tr>\\n<td>\\n<span id=\"cnt_box\" style=\"display:block;float:right;font-weight:bold;display:none;font-style:italic;\"><span style=\"font-weight:normal;\">Разглеждания:</span> </span>\\n</td>\\n</tr>\\n<tr>\\n<td style=\"padding-top:20px;padding-bottom:15px;border-bottom:1px solid #cccccc;\">\\n<table style=\"width:100%;\">\\n<tr>\\n<td class=\"explainGray\">28.10.2019</td>\\n</tr>\\n<tr>\\n<td> <b>Data Analyst with Russian and English</b>,\\n\\t\\t\\t\\t\\t\\t<a class=\"company_link\" href=\"https://www.jobs.bg/company/202348\">Е-МОТИВ БГ ООД</a>\\xa0\\xa0<span class=\"iconed\" style=\"display:inline;margin-right:3px;color:#ffaa2d;vertical-align:bottom;font-size: 1.5em;\">\\uf451</span><a class=\"MainLink\" href=\"https://www.jobs.bg/company/202348\" style=\"line-height:1.5em;font-size:0.8em;\">Вижте визитка на компанията</a> </td>\\n</tr>\\n<tr>\\n<td style=\"font-style:italic;\">Месторабота Варна; Постоянна работа; Пълно работно време</td>\\n</tr>\\n</table>\\n</td>\\n</tr>\\n<tr>\\n<td style=\"text-align:right;padding-top:5px;\">\\n<a class=\"BlackLink\" href=\"javascript:;\" onclick=\"addToMyJobs ();\" rel=\"nofollow\" style=\"line-height:1.5em;\"><span class=\"icon icon-star\" id=\"add_to_my_jobs_link\" style=\"font-size:1.5em;\"></span><span style=\"font-size:0.8em;margin-left:3px;vertical-align:top;\">Запази обявата в бележника</span></a>\\xa0\\xa0\\n\\t\\t\\t    <script>\\n                    function addToMyJobs () {\\n\\n                        $.ajax({\\n                            type: \\'POST\\',\\n                            dataType: \\'json\\',\\n                            url: \\'https://www.jobs.bg/js_my_jobs.php\\',\\n                            cache: false,\\n                            data: {\\'subm\\' : 1, \\'job_sid\\' : 5105652, \\'csrf_token\\' : $(\\'input[name=\"csrf_token\"]\\').val()},\\n                            success: function(response){\\n\\n                                if (response.error === \\'expired\\') {\\n                                    createOverlay ();\\n                                    openAlertPopup($(\\'#login_confirm_popup\\'));\\n\\n                                } else if (response.error && response.error === \\'csrf\\') {\\n                                    openCSRFErrorModal ();\\n                                    if (response.csrf) {\\n                                        $(\\'input[name=\"csrf_token\"]\\').val(response.csrf);\\n                                    }\\n                                }  else if (response.ok == 1) {\\n                                    $(\\'#add_to_my_jobs_link\\').removeClass(\\'icon-star\\').addClass(\\'icon-star-b\\');\\n                                } else if (response.ok == 2) {\\n                                    $(\\'#add_to_my_jobs_link\\').removeClass(\\'icon-star-b\\').addClass(\\'icon-star\\');\\n                                }\\n                            }\\n                        });\\n\\n                    }\\n                </script>\\n<a class=\"BlackLink\" href=\"javascript:;\" onclick=\"showSubscribe2CompanyFrm();\" rel=\"nofollow\" style=\"line-height:1.5em;\"><span class=\"icon icon-bell\" style=\"font-size:1.5em;\"></span><span style=\"font-size:0.8em;margin-left:3px;vertical-align:top;\">Известие за нови обяви</span></a>\\xa0\\xa0\\t\\t\\t<a class=\"BlackLink\" href=\"javascript:;\" onclick=\"window.print()\" rel=\"nofollow\" style=\"line-height:1.5em;\"><span class=\"icon icon-printer\" style=\"font-size:1.5em;\"></span><span style=\"font-size:0.8em;margin-left:3px;vertical-align:top;\">Принтирай</span></a>\\xa0\\xa0\\n\\t\\t\\t<a class=\"BlackLink\" href=\"trouble_send.php?job_sid=5105652\" rel=\"nofollow\" style=\"line-height:1.5em;\"><span class=\"icon icon-close\" style=\"font-size:1.5em;color:#FF0000;\"></span><span style=\"font-size:0.8em;margin-left:3px;vertical-align:top;\">Проблем с обявата</span></a>\\n</td>\\n</tr>\\n<tr>\\n<td align=\"center\" style=\"padding-top:20px;\">\\n</td>\\n</tr>\\n<tr>\\n<td align=\"center\" style=\"padding-top:20px;padding-bottom:20px;\">\\n<table style=\"width:700px;\">\\n<tr>\\n<td class=\"jobTitle\" style=\"text-align:left; padding-bottom:20px;line-height:1.3;\">\\n<h1 class=\"no-style\">\\n                                Data Analyst with Russian and English                            </h1>\\n</td>\\n</tr>\\n<tr>\\n<td style=\"line-height:1.5;\">\\n\\t\\t\\t\\t\\t\\t \\t\\t\\t\\t\\t\\t \\tE-Motive is a trusted service provider for multichannel solutions, that operates worldwide.<br/>\\n<br/>\\r\\nOur team sells, optimizes and provides customer service in more than 15 countries across Europe, Asia and USA. We have business clients and we manage their online trades.<br/>\\r\\nE-motive provides outsourced services to sellers, brands and manufacturers to enable them to represent themselves on multichannel e-commerce platforms, this predominately is ebay and amazon. We also provide services directly to ebay and represent them in a number of countries around the world.<br/>\\n<br/>\\r\\nFor our office in Varna, we are looking for a:<br/>\\n<br/>\\r\\nData Analyst with Russian and English.<br/>\\n<br/>\\n<br/>\\r\\nMain Responsibilities and Tasks:<br/>\\n<br/>\\r\\n• Develop, implement and maintain databases;<br/>\\r\\n• Prepare reports;<br/>\\r\\n• Work closely with account managers<br/>\\r\\n• Establish the needs of users and monitoring user access<br/>\\r\\n• Responsibility for maintaining the inventory of clients<br/>\\r\\n• Be eager to learn and be up-to-date with trends and best practices for selling online.<br/>\\n<br/>\\r\\nRequirements:<br/>\\n<br/>\\r\\nThe ideal candidate should have a pleasant/positive attitude and enjoy working as part of a team. Prior experience in the e-commerce industry is very helpful.<br/>\\n<br/>\\r\\n• Advanced knowledge and solid experience of MS Excel<br/>\\r\\n• Other scripting skills would be considered as an advantage<br/>\\r\\n• Detail-oriented and strive for perfection<br/>\\r\\n• Confident communication skills.<br/>\\r\\n• Excellent command over Russian and English grammar &amp; punctuation is a must<br/>\\r\\n• Experience in the e-commerce field would be considered an advantage.<br/>\\r\\n• Attention to details<br/>\\n<br/>\\r\\nWe Offer:<br/>\\n<br/>\\r\\n• A great professional experience in a fast-paced sector;<br/>\\r\\n• Ongoing training;<br/>\\r\\n• Young and friendly team to work with;<br/>\\r\\n• Opportunity for further professional development;<br/>\\r\\n• English-speaking environment;<br/>\\r\\n• Free Drinks and Refreshments;<br/>\\r\\n• Extra Day off to celebrate your birthday;<br/>\\r\\n• Regular Team building events;<br/>\\r\\n• Free Private Health care;<br/>\\r\\n*Some of these are applicable with a certain level of employee service.<br/>\\n<br/>\\r\\nIf these describe you and you believe to be the ideal match for the position,<br/>\\r\\nplease send us your CV in English.<br/>\\n</td>\\n</tr>\\n</table>\\n</td>\\n</tr>\\n<tr>\\n<td align=\"center\" style=\"padding-top:20px;padding-bottom:40px;\">\\n<br/><br/>\\n<a class=\"green_button\" href=\"js_send_cv.php?job_sid=5105652\" rel=\"nofollow\">Кандидатствай по тази обява</a>\\n</td>\\n</tr>\\n<tr>\\n<td style=\"border-top:1px solid #cccccc;\">\\n<table style=\"padding-top:20px;\">\\n<tr>\\n<td><a class=\"company_link\" href=\"https://www.jobs.bg/company/202348\"><b>Е-МОТИВ БГ ООД</b></a>\\xa0\\xa0<a class=\"BlackLink\" href=\"javascript:;\" onclick=\"showSubscribe2CompanyFrm();\" style=\"line-height:1.5em;\"><span class=\"icon icon-bell\" style=\"font-size:1.5em;\"></span><span style=\"font-size:0.8em;margin-left:3px;vertical-align:top;\">Известие за нови обяви</span></a></td>\\n</tr>\\n<tr>\\n<td class=\"explain\" colspan=\"2\" style=\"paddign-top:3px;font-style:italic;\">(Фирма/Организация директно търсеща служители.)</td>\\n</tr>\\n</table>\\n</td>\\n</tr>\\n<tr>\\n<td style=\"padding-left:5px;padding-top:10px;\"><a class=\"MainLink\" href=\"https://www.jobs.bg/company/202348\">Повече за Е-МОТИВ БГ ООД</a></td>\\n</tr>\\n<tr>\\n<td style=\"padding-left:5px;padding-top:5px;\"><a class=\"MainLink\" href=\"https://www.jobs.bg/company/202348#active_jobs\">Всички обяви на Е-МОТИВ БГ ООД</a></td>\\n</tr>\\n</table>\\n<div class=\"ajax-alert-container\" id=\"sub_popup\" style=\"display:none;width:600px;margin-left:-300px\">\\n<a href=\"javascript:;\" onclick=\"$(\\'#sub_popup\\').hide();clearOverlay();\" style=\"z-index:12;display: block;float: right; position: relative; margin: -10px -10px 0px 0px;\"><img border=\"0\" src=\"https://assets.jobs.bg/desktop/images/popup_close_ico.gif\"/></a>\\n<div style=\"width:560px;padding:20px;\">\\n<span class=\"sectionTitle\" style=\"display:block;margin-bottom:10px;\">Известие за нови обяви</span>\\n<div id=\"sub_stat\" style=\"width:100%;dispaly:none;margin-bottom:5px;\"></div>\\n<div id=\"sub_frm\" style=\"width:100%;\">\\n<span style=\"display:block;margin-bottom:10px;\">Искам да получавам известия за новите обяви от  <b>Е-МОТИВ БГ ООД</b>. </span>\\n<table>\\n<tr>\\n<td class=\"rowTitle\">Email:</td>\\n<td class=\"rowData\"><input name=\"sub_email\" style=\"width:250px;\" type=\"text\" value=\"\"/></td>\\n</tr>\\n<tr>\\n<td colspan=\"2\" style=\"text-align:center;padding:30px 0px 20px 0px;\"><a class=\"green_button\" href=\"javascript:;\" onclick=\"subscribe2Company ();\">Абонирай ме</a></td>\\n</tr>\\n</table>\\n</div>\\n</div>\\n</div>\\n<script>\\n\\tfunction showSubscribe2CompanyFrm () {\\n\\t\\t$(\\'#captcha_img\\').attr (\\'src\\', \\'captcha.php?v=\\' + Math.random());\\n\\t\\tcreateOverlay();\\n\\t\\topenAlertPopup($(\\'#sub_popup\\'));\\n\\t}\\n\\n\\tfunction subscribe2Company () {\\n        $(\"#sub_stat\").empty().hide();\\n\\n        $.ajax({\\n            type: \\'POST\\',\\n            dataType: \\'json\\',\\n            url: \\'https://www.jobs.bg/subscribe.php\\',\\n            cache: false,\\n            data: {\\'object_id\\' : 202348, \\'email\\' :  $(\"input[type=text][name=sub_email]\").val(), \\'sub_captcha\\' : $(\"input[type=text][name=sub_captcha]\").val(), \\'csrf_token\\' : $(\\'input[name=\"csrf_token\"]\\').val()},\\n            success: function(response){\\n\\n                if (response.error && response.error === \\'csrf\\') {\\n                    openCSRFErrorModal (false);\\n                    if (response.csrf) {\\n                        $(\\'input[name=\"csrf_token\"]\\').val(response.csrf);\\n                    }\\n                }  else if(response.ok == 1) {\\n                    $(\"#sub_stat\").append(\\'<table style=\"width:100%;\"><tr><td><img src=\"https://assets.jobs.bg/desktop/images/envelope.png\" style=\"width:40px;\"></td><td style=\"padding:10px;\">Моля, проверете Вашата поща. За да получавате известия, е необходимо да потвърдите получения имейл.</td></tr><tr><td colspan=\"2\" style=\"padding:20px;text-align:center;\"><a href=\"javascript:;\" onclick=\"$(\\\\\\'#sub_popup\\\\\\').hide();clearOverlay();\" class=\"MainLink\">Затвори</a></td></tr></table>\\').show();\\n                    $(\"#sub_frm\").hide();\\n                } else if (response.ok == 2) {\\n                    $(\"#sub_stat\").append(\\'<table style=\"width:100%;\"><tr><td style=\"padding:10px;\">Вече сте абонирани за получаване на известия!</td></tr><tr><td colspan=\"2\" style=\"padding:20px;text-align:center;\"><a href=\"javascript:;\" onclick=\"$(\\\\\\'#sub_popup\\\\\\').hide();clearOverlay();\" class=\"MainLink\">Затвори</a></td></tr></table>\\').show();\\n                    $(\"#sub_frm\").hide();\\n                } else if (response.error ===\\'error_1\\') {\\n                    $(\"#sub_stat\").append(\\'<font color=\"#FF0000\">Не сте попълнили Email адрес!</font>\\').show();\\n                } else if (response.error === \\'error_2\\') {\\n                    $(\"#sub_stat\").append(\\'<font color=\"#FF0000\">Въвели сте невалиден Email адрес!</font>\\').show();\\n                } else if (response.error === \\'error_3\\') {\\n                    $(\"#sub_stat\").append(\\'<font color=\"#FF0000\">Не сте въвели ключ от картинката!</font>\\').show();\\n                } else if (response.error === \\'error_4\\') {\\n                    $(\\'#captcha_img\\').attr (\\'src\\', \\'captcha.php?v=\\' + Math.random());\\n                    $(\"input[type=text][name=sub_captcha]\").val(\\'\\');\\n                    $(\"#sub_stat\").append(\\'<font color=\"#FF0000\">Въвели сте грешен ключ!</font>\\').show();\\n                }\\n            }\\n\\t\\t});\\n\\t}\\n\\t</script>\\n<script type=\"text/javascript\">\\n        $.getScript( \"https://assets.jobs.bg/desktop/jscripts/stats.js?v=4\", function() {\\n                try {\\n                    statsAdd (\\'site=jobs.bg&object_id=5105652&object_type_id=2&action=view&ref=\\');\\n                    statsAdd (\\'site=jobs.bg&object_id=1&object_type_id=4&action=view&ref=\\');\\n               } catch (err) {}\\n        });\\n    </script>\\n<script type=\"text/javascript\">\\n        $.getScript( \"https://assets.jobs.bg/desktop/jscripts/counter.js?v=2\", function() {\\n                try {\\n                    countAdd (\\'object_id=5105652&object_type_id=1&ret=1\\');\\n                } catch (err) {}\\n        });\\n    </script>\\n<div class=\"ajax-alert-container\" id=\"login_confirm_popup\" style=\"display:none;width:480px;margin-left:-240px;\">\\n<a href=\"javascript:;\" onclick=\"closeAlertPopup($(\\'#login_confirm_popup\\'));\" style=\"z-index:12;display: block;float: right; position: relative; margin: -10px -10px 0px 0px;\"><img border=\"0\" src=\"https://assets.jobs.bg/desktop/images/popup_close_ico.gif\"/></a>\\n<table style=\"width:480px;\">\\n<tr>\\n<td align=\"center\" style=\"padding:20px 20px 0px 20px;width:50px;\" valign=\"top\"><img alt=\"\" src=\"https://assets.jobs.bg/desktop/images/warning_sign.jpg\"/></td>\\n<td style=\"padding:20px 20px 0px 0px;\" valign=\"top\"><span style=\"font-weight:bold;\">За да ползвате тази функционалност, е необходимо да влезете във Вашия акаунт.</span></td>\\n</tr>\\n<tr>\\n<td align=\"center\" colspan=\"2\" style=\"padding:20px;\">\\n<table>\\n<tr>\\n<td><a class=\"green_button\" href=\"login.php?myjobs=1&amp;job_sid=5105652\">Вход</a></td>\\n<td style=\"padding-left:10px;\" valign=\"middle\"><a class=\"MainLink\" href=\"javascript:;\" onclick=\"closeAlertPopup($(\\'#login_confirm_popup\\'));\">Откажи</a></td>\\n</tr>\\n</table>\\n</td>\\n</tr>\\n</table>\\n</div>\\n<input name=\"csrf_token\" type=\"hidden\" value=\"182c8D4H0QrkgfjcNXEYSUBAetnIx-oxlxOLb7OTFOs\"/>\\n<div class=\"ajax-alert-container\" id=\"csrf_alert_popup\" style=\"display:none;width:600px;margin-left:-300px\">\\n<a href=\"javascript:;\" onclick=\"closeCSFRErrorModal();\" style=\"z-index:12;display: block;float: right; position: relative; margin: -10px -10px 0px 0px;\"><img border=\"0\" src=\"https://assets.jobs.bg/desktop/images/popup_close_ico.gif\"/></a>\\n<div style=\"width:560px;padding:20px;\">\\n<img src=\"https://assets.jobs.bg/desktop/images/icon_info_orange.jpg\" style=\"margin-right:10px;margin-bottom:10px;float:left;\"/>\\n<span id=\"csrf-error-modal-message\" style=\"padding-top:5px;\">\\n                    Страницата, която се опитвате да достъпите, е изтекла поради дълъг период на неизползване. Моля, опитайте отново. Ако проблемът продължи, свържете се с нас на тел. 02 439 22 22.                </span>\\n<div style=\"float:left;width:100%;text-align:center;padding:50px 0px 40px 0px;\">\\n<a class=\"green_button\" href=\"javascript:;\" onclick=\"closeCSFRErrorModal();\">Затвори</a>\\n</div>\\n</div>\\n</div>\\n<script>\\n\\n            var closeoverlay = true\\n\\n            function closeCSFRErrorModal () {\\n                $(\\'#csrf_alert_popup\\').hide();\\n\\n               if (closeoverlay) {\\n                    clearOverlay();\\n               }\\n            }\\n\\n            function openCSRFErrorModal (close = true) {\\n\\n                closeoverlay = close;\\n\\n                if (!navigator.cookieEnabled) {\\n                    $(\\'#csrf-error-modal-message\\').html(\\'Вероятно Вашият браузър не поддържа бисквити. За да ползвате тази функционалност, е нeoбходимо да използвате браузър с включени бисквити.\\');\\n                }\\n\\n                createOverlay();\\n                openAlertPopup($(\\'#csrf_alert_popup\\'));\\n\\n\\n\\n\\n            }\\n                    </script>\\n</td>\\n</tr>\\n</table>\\n<table cellpadding=\"0\" cellspacing=\"0\" class=\"main-footer-jobs\" width=\"100%\"><tr><td align=\"center\">\\n<table align=\"center\" cellpadding=\"0\" cellspacing=\"0\" width=\"980\">\\n<tr>\\n<td height=\"2\" style=\"border-bottom:2px solid #802990;width:980px;padding-top:20px;\"><img height=\"2\" src=\"https://assets.jobs.bg/desktop/images/px.gif\" width=\"1\"/></td>\\n</tr>\\n<tr>\\n<td style=\"padding-top:3px;\">\\xa0\\xa0\\n\\t\\t\\t\\t    <a class=\"footer\" href=\"https://www.jobs.bg/contactus.php\">Контакти</a>\\xa0<span class=\"footer\">|</span>\\xa0\\n\\t\\t\\t\\t    <a class=\"footer\" href=\"https://www.jobs.bg/prices.php\">Цени</a>\\xa0<span class=\"footer\">|</span>\\xa0\\n\\t\\t\\t\\t    <a class=\"footer\" href=\"https://www.jobs.bg/faq.php\">Въпроси и отговори</a>\\xa0<span class=\"footer\">|</span>\\xa0\\n\\t\\t\\t\\t    <a class=\"footer\" href=\"https://www.jobs.bg/terms.php\">Условия, Лични данни и Бисквити</a>\\n</td>\\n</tr>\\n<tr>\\n<td align=\"center\" style=\"padding-top:10px;padding-bottom:10px;\"><span style=\"font-size:0.7em;color:#999999;\">©2002-2019 Jobs.bg. Всички права запазени. Jobs.bg е регистрирана търговска марка.</span></td>\\n</tr>\\n<tr>\\n<td align=\"center\" style=\"padding-bottom:10px;\">\\n<table border=\"0\" cellpadding=\"0\" cellspacing=\"0\">\\n<tr>\\n<td><a href=\"http://www.the-network.com\" rel=\"nofollow\" target=\"_blank\"><img alt=\"The Network\" border=\"0\" hspace=\"10\" src=\"https://assets.jobs.bg/desktop/images/thenet-logo.png\"/></a></td>\\n<td><a href=\"http://www.superbrands.bg\" rel=\"nofollow\" target=\"_blank\"><img alt=\"JOBS.BG - Business Superbrand 2015-2016, Superbrand 2012-2013, Superbrand 2009-2010, Business Superbrand 2007-2008\" border=\"0\" hspace=\"10\" src=\"https://assets.jobs.bg/desktop/images/superbrands.gif\" title=\"JOBS.BG - Business Superbrand 2015-2016, Superbrand 2012-2013, Superbrand 2009-2010, Business Superbrand 2007-2008\" vspace=\"0\"/></a></td>\\n</tr>\\n</table>\\n</td>\\n</tr>\\n</table>\\n</td></tr></table>\\n\\n\\n'"
      ]
     },
     "execution_count": 5,
     "metadata": {},
     "output_type": "execute_result"
    }
   ],
   "source": [
    "data_df.iloc[10:11].job_contents.values[0]"
   ]
  },
  {
   "cell_type": "code",
   "execution_count": 6,
   "metadata": {},
   "outputs": [],
   "source": [
    "instance5 = data_df.iloc[10:11].job_contents.values\n",
    "instance5_str = instance5[0]\n",
    "instance5_soup = bs(instance5_str, 'html.parser')\n",
    "job_container_table = instance5_soup.find('td', {'class': 'explainGray'}).parent.parent.parent.parent.parent"
   ]
  },
  {
   "cell_type": "code",
   "execution_count": 7,
   "metadata": {},
   "outputs": [],
   "source": [
    "# remove style tag and its contents\n",
    "#job_container_table.find('style').decompose()\n"
   ]
  },
  {
   "cell_type": "markdown",
   "metadata": {},
   "source": [
    "4. Get only the text of the tags\n",
    "5. Lower and split to prepare the list for the Counter\n",
    "6. Check result"
   ]
  },
  {
   "cell_type": "code",
   "execution_count": 8,
   "metadata": {},
   "outputs": [],
   "source": [
    "job_text = job_container_table.get_text().lower()"
   ]
  },
  {
   "cell_type": "markdown",
   "metadata": {},
   "source": [
    "#### Calculate common words, bigrams and trigrams"
   ]
  },
  {
   "cell_type": "code",
   "execution_count": 9,
   "metadata": {},
   "outputs": [],
   "source": [
    "stopwords_bg = ['за', 'на', 'в', 'и', 'с', 'със', 'не', 'да', 'без', 'по', 'от', 'или', 'обяви', 'принтирай', 'обява', '’', '–',\n",
    "               'обявата', 'работно', 'време', 'всички', 'тази', 'разглеждания', 'проблем', 'визитка', '--', '•',\n",
    "               'добави', 'моите', 'известия', 'запази', 'бележника', 'известие', 'фирма/организация',\n",
    "               'българия', 'известие', 'месторабота', 'постоянна', 'търсеща', 'служители', 'компанията',\n",
    "                'company_privacy_consent', 'подходяща', 'cv', 'us', 'оод', 'eood', 'еоод', '\\uf451вижте',\n",
    "                'софия', 'пълно', 'name=', 'considered', 'директно', 'безплатнa', 'услугa', 'лични',\n",
    "                '★', '★★', '★★★', '★★★★', '★★★★★', 'name^=', 'err_job', 'var', 'bulgaria', 'ref.', 'contacted',\n",
    "                'consent_error_privacy', 'consent_error_job', '.hide', '.show', 'err_privacy', 'return', 'shortlisted',\n",
    "                'document.frmconsent.submit', 'съгласен', 'въпросите', 'съгласие', 'please', 'работа',\n",
    "               ]\n",
    "stoplist = stopwords.words('english') + stopwords_bg + list(string.punctuation)\n",
    "stoplist = set(stoplist)"
   ]
  },
  {
   "cell_type": "code",
   "execution_count": 10,
   "metadata": {},
   "outputs": [
    {
     "name": "stdout",
     "output_type": "stream",
     "text": [
      "CPU times: user 1min 7s, sys: 32.8 ms, total: 1min 7s\n",
      "Wall time: 1min 7s\n"
     ]
    }
   ],
   "source": [
    "%%time\n",
    "\n",
    "token_contents = [build_nltk_tokenlist(jc, stoplist) for jc in data_df.job_contents]"
   ]
  },
  {
   "cell_type": "code",
   "execution_count": 11,
   "metadata": {},
   "outputs": [
    {
     "name": "stdout",
     "output_type": "stream",
     "text": [
      "CPU times: user 3min 13s, sys: 23.4 ms, total: 3min 13s\n",
      "Wall time: 3min 14s\n"
     ]
    }
   ],
   "source": [
    "%%time\n",
    "\n",
    "data_bigrams = [calc_nltk_bigrams_fdist(tc) for tc in token_contents]\n",
    "result_bigrams = sum(data_bigrams, FreqDist())"
   ]
  },
  {
   "cell_type": "code",
   "execution_count": 12,
   "metadata": {},
   "outputs": [
    {
     "name": "stdout",
     "output_type": "stream",
     "text": [
      "CPU times: user 4min 29s, sys: 62.7 ms, total: 4min 29s\n",
      "Wall time: 4min 30s\n"
     ]
    }
   ],
   "source": [
    "%%time\n",
    "\n",
    "data_trigrams = [calc_nltk_trigrams_fdist(tc) for tc in token_contents]\n",
    "result_trigrams = sum(data_trigrams, FreqDist())"
   ]
  },
  {
   "cell_type": "code",
   "execution_count": 13,
   "metadata": {},
   "outputs": [
    {
     "name": "stdout",
     "output_type": "stream",
     "text": [
      "CPU times: user 22.8 s, sys: 2 µs, total: 22.8 s\n",
      "Wall time: 22.8 s\n"
     ]
    }
   ],
   "source": [
    "%%time\n",
    "\n",
    "data_words = [FreqDist(tc) for tc in token_contents]\n",
    "result_words = sum(data_words, FreqDist())\n"
   ]
  },
  {
   "cell_type": "code",
   "execution_count": 14,
   "metadata": {},
   "outputs": [
    {
     "data": {
      "text/plain": [
       "[('data', 26516),\n",
       " ('business', 11422),\n",
       " ('experience', 9931),\n",
       " ('team', 7956),\n",
       " ('нови', 7393),\n",
       " ('skills', 7181),\n",
       " (\"''\", 6813),\n",
       " ('work', 6616),\n",
       " ('company', 5526),\n",
       " ('development', 5211)]"
      ]
     },
     "execution_count": 14,
     "metadata": {},
     "output_type": "execute_result"
    }
   ],
   "source": [
    "result_words.most_common(10)\n"
   ]
  },
  {
   "cell_type": "code",
   "execution_count": 15,
   "metadata": {},
   "outputs": [
    {
     "data": {
      "text/plain": [
       "[((\"'input\", \"''\"), 3158),\n",
       " (('нови', 'повече'), 3103),\n",
       " (('business', 'intelligence'), 2515),\n",
       " (('data', 'analyst'), 2045),\n",
       " (('personal', 'data'), 2020),\n",
       " (('b', 'eye'), 1442),\n",
       " (('communication', 'skills'), 1399),\n",
       " (('short-listed', 'candidates'), 1280),\n",
       " (('data', 'warehouse'), 1171),\n",
       " (('false', \"'input\"), 1084)]"
      ]
     },
     "execution_count": 15,
     "metadata": {},
     "output_type": "execute_result"
    }
   ],
   "source": [
    "result_bigrams.most_common(10)"
   ]
  },
  {
   "cell_type": "code",
   "execution_count": 16,
   "metadata": {},
   "outputs": [
    {
     "data": {
      "text/plain": [
       "[(('false', \"'input\", \"''\"), 1084),\n",
       " ((\"''\", '.is', 'checked'), 1084),\n",
       " (('.is', 'checked', 'true'), 1084),\n",
       " ((\"'input\", \"''\", \"''\"), 1084),\n",
       " ((\"'input\", \"''\", 'csrf_token'), 990),\n",
       " ((\"''\", 'csrf_token', \"''\"), 990),\n",
       " (('csrf_token', \"''\", '.val'), 990),\n",
       " (('else', 'response.ok', '=='), 990),\n",
       " (('response.ok', '==', 'add_to_my_jobs_link'), 990),\n",
       " (('==', 'add_to_my_jobs_link', '.removeclass'), 990)]"
      ]
     },
     "execution_count": 16,
     "metadata": {},
     "output_type": "execute_result"
    }
   ],
   "source": [
    "result_trigrams.most_common(10)\n"
   ]
  },
  {
   "cell_type": "markdown",
   "metadata": {},
   "source": [
    "### Identify Requirement Terms"
   ]
  },
  {
   "cell_type": "markdown",
   "metadata": {},
   "source": [
    "The words or phrases we need for the chord chart can be defined using the three counters presented above. Here is an attempt:"
   ]
  },
  {
   "cell_type": "code",
   "execution_count": 17,
   "metadata": {},
   "outputs": [],
   "source": [
    "candidate_terms = [\n",
    "    'excel', 'tableau', 'access', 'qlik', 'hadoop', 'informatica', 'vmware', 'ssis', 'vba', 'python', 'powerpoint', 'mysql',\n",
    "    'spark', 'microstrategy', 'deluge', 'ssrs', ('sql', 'server'), ('power', 'bi'), ('ms', 'office'), ('microsoft', 'office'), ]"
   ]
  },
  {
   "cell_type": "code",
   "execution_count": 18,
   "metadata": {},
   "outputs": [
    {
     "data": {
      "text/html": [
       "<style>\n",
       "@import url('https://fonts.googleapis.com/css?family=Fira+Mono|Fira+Sans|Fira+Sans+Condensed|Fira+Sans+Extra+Condensed');\n",
       "@import url('https://fonts.googleapis.com/css?family=Merriweather|Merriweather+Sans');\n",
       "\n",
       ".nbviewer {\n",
       "    background-color: #E5E1D8;\n",
       "}\n",
       "\n",
       "#notebook {\n",
       "    background-color: #E5E1D8;\n",
       "}\n",
       "\n",
       "#notebook-container {\n",
       "    background-color: #FFFAF0;\n",
       "    max-width: 1100px;\n",
       "    padding: 50px;\n",
       "    border-radius: 4px;\n",
       "    -webkit-box-shadow: 0px 0px 12px 1px rgba(101,86,67,0.75);\n",
       "    -moz-box-shadow: 0px 0px 12px 1px rgba(101,86,67,0.75);\n",
       "    box-shadow: 0px 0px 12px 1px rgba(101,86,67,0.75);\n",
       "}\n",
       "\n",
       "/* Jupyter Notebook Header Styling */\n",
       "body > #header {\n",
       "    background-color:#fafafa;\n",
       "}\n",
       "\n",
       "#header #menubar #menus {\n",
       "    background-color:#fefefe;\n",
       "}\n",
       "\n",
       "/* Headings */\n",
       ".text_cell_render h1 {\n",
       "    color: #655B4F;\n",
       "    font-family: 'Merriweather', serif;\n",
       "    font-weight: 900;\n",
       "    text-align: center;\n",
       "    font-size: 2.5em;\n",
       "    padding: 40px 0 12px 0;\n",
       "    text-shadow: 0 2px #FFFAF0, 0 3px #8c8b8b;\n",
       "}\n",
       "\n",
       ".text_cell_render h2 {\n",
       "    color: #655B4F;\n",
       "    font-family: 'Merriweather', serif;\n",
       "    font-weight: 600;\n",
       "    font-size: 2.2em;\n",
       "    text-indent: 22px;\n",
       "    padding: 40px 0 6px 0;\n",
       "    margin-bottom: 24px;\n",
       "    border-bottom: 1px solid #655B4F;\n",
       "}\n",
       "\n",
       ".text_cell_render h3 {\n",
       "    color: #655B4F;\n",
       "    font-family: 'Merriweather', serif;\n",
       "    font-weight: 300;\n",
       "    padding: 6px 0 0 0;\n",
       "    font-size: 1.6em;\n",
       "}\n",
       "\n",
       ".text_cell_render h4 {\n",
       "    color: #655B4F;\n",
       "    font-family: 'Merriweather', serif;\n",
       "    font-weight: 100;\n",
       "    font-size: 1.2em;\n",
       "}\n",
       "\n",
       "/* Use for subtitles and other non-headings */\n",
       "div.rendered_html > h5 {\n",
       "    font-family: 'Merriweather', serif;\n",
       "    line-height: 1.5em;\n",
       "    color: #655B4F;\n",
       "    font-weight: 200;\n",
       "    font-style: normal important!;\n",
       "    text-indent: 22px;\n",
       "    text-align: center;\n",
       "    margin-top: 0.5em;\n",
       "    padding: 6px 0 6px 0;\n",
       "    border-bottom: 1px solid #655B4F;\n",
       "    border-top: 1px solid #655B4F;\n",
       "}\n",
       "\n",
       "/* Use for image and chart captions */\n",
       "div.rendered_html > h6 {\n",
       "    font-family: 'Merriweather Sans', sans-serif;\n",
       "    font-size: 0.9em;\n",
       "    line-height: 1.5em;\n",
       "    color: #cac8c9;\n",
       "    font-weight: normal;\n",
       "    max-width: 525px;\n",
       "    display: block;\n",
       "    margin-left: auto;\n",
       "    margin-right: auto;\n",
       "}\n",
       "\n",
       "div#notebook-container p {\n",
       "    font-family: 'Fira Sans Condensed', sans-serif;\n",
       "    font-size: 1.2em;\n",
       "    line-height: 1.3em;\n",
       "    color: #655B4F;\n",
       "}\n",
       "\n",
       "/* Plotly Exported Charts Styling */\n",
       ".js-plotly-plot .plotly,\n",
       ".js-plotly-plot .plotly div {\n",
       "    direction: ltr;\n",
       "    font-family: \"Fira Sans Extra Condensed\", verdana, arial, sans-serif;\n",
       "}\n",
       "\n",
       "/* Lists */\n",
       "ol, ul {\n",
       "    font-family: 'Fira Sans Condensed', sans-serif;\n",
       "    line-height: 1.3em;\n",
       "    color: #655B4F;\n",
       "}\n",
       "\n",
       "div.input_prompt {\n",
       "    color: #aad0bc;\n",
       "    font-size: 0.7em;\n",
       "}\n",
       "\n",
       "div.output_prompt {\n",
       "    color: #aad0bc;\n",
       "    font-size: 0.7em;\n",
       "}\n",
       "\n",
       "div.prompt {\n",
       "    min-width: 2ex;\n",
       "}\n",
       "\n",
       "div.output_subarea {\n",
       "    min-width: 425px;\n",
       "    max-width: calc(100% - 1ex);\n",
       "    padding: 0;\n",
       "}\n",
       "\n",
       "div.text_cell code {\n",
       "    padding: 2px;\n",
       "    background-color: #E5E1D8;\n",
       "    color: #483F3A;\n",
       "    font-family: 'Fira Mono', monospace;\n",
       "    font-size: 0.9em;\n",
       "}\n",
       "\n",
       "div.input_area {\n",
       "    background-color: #FFFAF0;\n",
       "    border: 1px solid #E5E1D8;\n",
       "    background: repeating-linear-gradient(135deg, #FFFAF0, #FFFAF0 5px, #F7F7ED 5px, #F7F7ED 10px);\n",
       "}\n",
       "\n",
       "div.cell.rendered.selected {\n",
       "    background: #F7F7ED;\n",
       "    border: 1px solid #293C34;\n",
       "}\n",
       "\n",
       "div.output_area img {\n",
       "    display: block;\n",
       "    margin-left: auto;\n",
       "    margin-right: auto;\n",
       "}\n",
       "\n",
       "div.rendered_html pre, code {\n",
       "    font-family: 'Fira Sans Condensed', sans-serif;\n",
       "    font-size: 16px;\n",
       "    font-weight: 400;\n",
       "    color: #40362F;\n",
       "    background-color: #E5E1D8;\n",
       "}\n",
       "\n",
       "div.output_text pre {\n",
       "    font-family: 'Fira Sans Condensed', sans-serif;\n",
       "    font-size: 13px;\n",
       "    font-weight: 300;\n",
       "    color: #40362F;\n",
       "}\n",
       "\n",
       "\n",
       "pre, textarea {\n",
       "    overflow: hidden;\n",
       "}\n",
       "\n",
       "div.text_cell_render img {\n",
       "    max-height: 550px;\n",
       "    display: block;\n",
       "    margin-left: auto;\n",
       "    margin-right: auto;\n",
       "}\n",
       "\n",
       "div.output output_scroll {\n",
       "    overflow-x: auto;\n",
       "    overflow-y: scroll;\n",
       "    max-height: 2000px;\n",
       "}\n",
       "\n",
       "div.rendered_html hr {\n",
       "    border: 0;\n",
       "    height: 1px;\n",
       "    background-color: #655B4F;\n",
       "}\n",
       "\n",
       "div.rendered_html pre, code {\n",
       "    color: #40362F;\n",
       "    background-color: #FFFAF0;\n",
       "}\n",
       "\n",
       "/* Links */\n",
       "a.link--embedview {\n",
       "    display: none;\n",
       "}\n",
       "\n",
       "a:link {\n",
       "    color: #293C34;\n",
       "}\n",
       "\n",
       "a:visited {\n",
       "    color: #293C34;\n",
       "}\n",
       "\n",
       "a:hover {\n",
       "    color: #557C6C;\n",
       "}\n",
       "\n",
       "a:focus {\n",
       "    color:#557C6C;\n",
       "}\n",
       "\n",
       "a:active {\n",
       "    font-weight: bold;\n",
       "    color:#80BCA3;\n",
       "}\n",
       "\n",
       ".rendered_html :link {\n",
       "    text-decoration: underline;\n",
       "}\n",
       "\n",
       "/* Colors for code highlighting */\n",
       ".CodeMirror pre {\n",
       "    font-family: 'Fira Mono', monospace;\n",
       "    font-size: 0.9em;\n",
       "    font-weight: 600;\n",
       "    letter-spacing: -2px;\n",
       "}\n",
       "\n",
       ".CodeMirror-code span.cm-keyword,\n",
       ".highlight .k,\n",
       ".highlight .ow {\n",
       "    color: #5F362E;\n",
       "}\n",
       "\n",
       ".CodeMirror-code span.cm-variable,\n",
       ".highlight .na {\n",
       "    color: #655B4F;\n",
       "}\n",
       "\n",
       ".CodeMirror-code span.cm-property {\n",
       "    color: #655B4F;\n",
       "}\n",
       "\n",
       ".CodeMirror-code span.cm-def {\n",
       "    color: #293C34;\n",
       "}\n",
       "\n",
       ".CodeMirror-code span.cm-operator {\n",
       "    color: #655B4F;\n",
       "}\n",
       "\n",
       ".CodeMirror-code span.cm-string,\n",
       ".highlight .s {\n",
       "    color: #0B7761;\n",
       "}\n",
       "\n",
       ".CodeMirror-code span.cm-number,\n",
       ".highlight .mb, .highlight .mf, .highlight .mh, .highlight .mi, .highlight .mo {\n",
       "    color: #265BCA;\n",
       "}\n",
       "\n",
       ".CodeMirror-code span.cm-comment,\n",
       ".highlight .c1, .highlight .cs {\n",
       "    color: #75AC95;\n",
       "}\n",
       "\n",
       ".CodeMirror-code span.cm-builtin,\n",
       ".highlight .nb {\n",
       "    color: #5F362E;\n",
       "}\n",
       "\n",
       "/* Code with no class applied (brackets mostly) */\n",
       ".CodeMirror-line > span {\n",
       "    color: #72614B;\n",
       "}\n",
       "\n",
       "/* Table styles */\n",
       "table {\n",
       "    border: 1px solid #BF4D28;\n",
       "}\n",
       "\n",
       "\n",
       ".rendered_html table th {\n",
       "    color: #40362F;\n",
       "    text-align: left;\n",
       "    background-color: #f2e6ce;\n",
       "}\n",
       "\n",
       ".rendered_html td {\n",
       "    color: #40362F;\n",
       "    text-align: left;\n",
       "}\n",
       "\n",
       ".rendered_html table tr:nth-child(odd) {\n",
       "    background-color: #F7F7ED;\n",
       "}\n",
       "\n",
       ".rendered_html table tr:nth-child(even) {\n",
       "    background-color: #FFFAF0;\n",
       "}\n",
       "\n",
       "iframe {\n",
       "    border-width: 0;\n",
       "}\n",
       "\n",
       "@media only screen and (max-width: 600px) {\n",
       "    #notebook-container {\n",
       "        background-color: #FFFAF0;\n",
       "        padding: 15px;\n",
       "        border-radius: 4px;\n",
       "        -webkit-box-shadow: 0px 0px 12px 1px rgba(101,86,67,0.75);\n",
       "        -moz-box-shadow: 0px 0px 12px 1px rgba(101,86,67,0.75);\n",
       "        box-shadow: 0px 0px 12px 1px rgba(101,86,67,0.75);\n",
       "    }\n",
       "\n",
       "    .text_cell_render h1,\n",
       "    .text_cell_render h2 {\n",
       "        text-indent: 0;\n",
       "        text-align: left;\n",
       "        padding: 40px 22px 12px 22px;\n",
       "    }\n",
       "}\n",
       "\n",
       "</style>\n"
      ],
      "text/plain": [
       "<IPython.core.display.HTML object>"
      ]
     },
     "execution_count": 18,
     "metadata": {},
     "output_type": "execute_result"
    }
   ],
   "source": [
    "from IPython.core.display import HTML\n",
    "with open('../resources/styles/datum.css', 'r') as f:\n",
    "    style = f.read()\n",
    "HTML(style)"
   ]
  },
  {
   "cell_type": "markdown",
   "metadata": {},
   "source": [
    "### Resources:\n",
    "\n",
    "- https://nlp.stanford.edu/fsnlp/promo/colloc.pdf\n",
    "- http://www.nltk.org/index.html"
   ]
  },
  {
   "cell_type": "code",
   "execution_count": null,
   "metadata": {},
   "outputs": [],
   "source": []
  }
 ],
 "metadata": {
  "kernelspec": {
   "display_name": "Python 3",
   "language": "python",
   "name": "python3"
  },
  "language_info": {
   "codemirror_mode": {
    "name": "ipython",
    "version": 3
   },
   "file_extension": ".py",
   "mimetype": "text/x-python",
   "name": "python",
   "nbconvert_exporter": "python",
   "pygments_lexer": "ipython3",
   "version": "3.7.4"
  }
 },
 "nbformat": 4,
 "nbformat_minor": 2
}
